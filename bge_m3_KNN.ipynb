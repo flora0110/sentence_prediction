{
  "nbformat": 4,
  "nbformat_minor": 0,
  "metadata": {
    "colab": {
      "provenance": [],
      "authorship_tag": "ABX9TyPJD0sh8AG2OXNBFKIGa1cM",
      "include_colab_link": true
    },
    "kernelspec": {
      "name": "python3",
      "display_name": "Python 3"
    },
    "language_info": {
      "name": "python"
    },
    "widgets": {
      "application/vnd.jupyter.widget-state+json": {
        "4beb28890cd543de821624a2fc3e0228": {
          "model_module": "@jupyter-widgets/controls",
          "model_name": "HBoxModel",
          "model_module_version": "1.5.0",
          "state": {
            "_dom_classes": [],
            "_model_module": "@jupyter-widgets/controls",
            "_model_module_version": "1.5.0",
            "_model_name": "HBoxModel",
            "_view_count": null,
            "_view_module": "@jupyter-widgets/controls",
            "_view_module_version": "1.5.0",
            "_view_name": "HBoxView",
            "box_style": "",
            "children": [
              "IPY_MODEL_b80726bae2bf489a9f0097b21c6226d5",
              "IPY_MODEL_aa003488019f4790b1e999bf97ae2c96",
              "IPY_MODEL_c5e5d5236d3143fc9794fd342db36465"
            ],
            "layout": "IPY_MODEL_1c3e198e7d2e498b8c89b4b01a416b8e"
          }
        },
        "b80726bae2bf489a9f0097b21c6226d5": {
          "model_module": "@jupyter-widgets/controls",
          "model_name": "HTMLModel",
          "model_module_version": "1.5.0",
          "state": {
            "_dom_classes": [],
            "_model_module": "@jupyter-widgets/controls",
            "_model_module_version": "1.5.0",
            "_model_name": "HTMLModel",
            "_view_count": null,
            "_view_module": "@jupyter-widgets/controls",
            "_view_module_version": "1.5.0",
            "_view_name": "HTMLView",
            "description": "",
            "description_tooltip": null,
            "layout": "IPY_MODEL_dbd4403be4e241c99af85135b513b622",
            "placeholder": "​",
            "style": "IPY_MODEL_ccb1fe4aa29a4b55ad4d1335d2bd5a54",
            "value": "Fetching 23 files: 100%"
          }
        },
        "aa003488019f4790b1e999bf97ae2c96": {
          "model_module": "@jupyter-widgets/controls",
          "model_name": "FloatProgressModel",
          "model_module_version": "1.5.0",
          "state": {
            "_dom_classes": [],
            "_model_module": "@jupyter-widgets/controls",
            "_model_module_version": "1.5.0",
            "_model_name": "FloatProgressModel",
            "_view_count": null,
            "_view_module": "@jupyter-widgets/controls",
            "_view_module_version": "1.5.0",
            "_view_name": "ProgressView",
            "bar_style": "success",
            "description": "",
            "description_tooltip": null,
            "layout": "IPY_MODEL_54e97ae1cbbb4ab7a8670b959c880257",
            "max": 23,
            "min": 0,
            "orientation": "horizontal",
            "style": "IPY_MODEL_de2d9ee73ee843cbb01150088aa824b3",
            "value": 23
          }
        },
        "c5e5d5236d3143fc9794fd342db36465": {
          "model_module": "@jupyter-widgets/controls",
          "model_name": "HTMLModel",
          "model_module_version": "1.5.0",
          "state": {
            "_dom_classes": [],
            "_model_module": "@jupyter-widgets/controls",
            "_model_module_version": "1.5.0",
            "_model_name": "HTMLModel",
            "_view_count": null,
            "_view_module": "@jupyter-widgets/controls",
            "_view_module_version": "1.5.0",
            "_view_name": "HTMLView",
            "description": "",
            "description_tooltip": null,
            "layout": "IPY_MODEL_25cd57387f4247b2803f2bae281893e0",
            "placeholder": "​",
            "style": "IPY_MODEL_09c30db410c2454ca2af5597cee52fd1",
            "value": " 23/23 [00:46&lt;00:00,  4.14s/it]"
          }
        },
        "1c3e198e7d2e498b8c89b4b01a416b8e": {
          "model_module": "@jupyter-widgets/base",
          "model_name": "LayoutModel",
          "model_module_version": "1.2.0",
          "state": {
            "_model_module": "@jupyter-widgets/base",
            "_model_module_version": "1.2.0",
            "_model_name": "LayoutModel",
            "_view_count": null,
            "_view_module": "@jupyter-widgets/base",
            "_view_module_version": "1.2.0",
            "_view_name": "LayoutView",
            "align_content": null,
            "align_items": null,
            "align_self": null,
            "border": null,
            "bottom": null,
            "display": null,
            "flex": null,
            "flex_flow": null,
            "grid_area": null,
            "grid_auto_columns": null,
            "grid_auto_flow": null,
            "grid_auto_rows": null,
            "grid_column": null,
            "grid_gap": null,
            "grid_row": null,
            "grid_template_areas": null,
            "grid_template_columns": null,
            "grid_template_rows": null,
            "height": null,
            "justify_content": null,
            "justify_items": null,
            "left": null,
            "margin": null,
            "max_height": null,
            "max_width": null,
            "min_height": null,
            "min_width": null,
            "object_fit": null,
            "object_position": null,
            "order": null,
            "overflow": null,
            "overflow_x": null,
            "overflow_y": null,
            "padding": null,
            "right": null,
            "top": null,
            "visibility": null,
            "width": null
          }
        },
        "dbd4403be4e241c99af85135b513b622": {
          "model_module": "@jupyter-widgets/base",
          "model_name": "LayoutModel",
          "model_module_version": "1.2.0",
          "state": {
            "_model_module": "@jupyter-widgets/base",
            "_model_module_version": "1.2.0",
            "_model_name": "LayoutModel",
            "_view_count": null,
            "_view_module": "@jupyter-widgets/base",
            "_view_module_version": "1.2.0",
            "_view_name": "LayoutView",
            "align_content": null,
            "align_items": null,
            "align_self": null,
            "border": null,
            "bottom": null,
            "display": null,
            "flex": null,
            "flex_flow": null,
            "grid_area": null,
            "grid_auto_columns": null,
            "grid_auto_flow": null,
            "grid_auto_rows": null,
            "grid_column": null,
            "grid_gap": null,
            "grid_row": null,
            "grid_template_areas": null,
            "grid_template_columns": null,
            "grid_template_rows": null,
            "height": null,
            "justify_content": null,
            "justify_items": null,
            "left": null,
            "margin": null,
            "max_height": null,
            "max_width": null,
            "min_height": null,
            "min_width": null,
            "object_fit": null,
            "object_position": null,
            "order": null,
            "overflow": null,
            "overflow_x": null,
            "overflow_y": null,
            "padding": null,
            "right": null,
            "top": null,
            "visibility": null,
            "width": null
          }
        },
        "ccb1fe4aa29a4b55ad4d1335d2bd5a54": {
          "model_module": "@jupyter-widgets/controls",
          "model_name": "DescriptionStyleModel",
          "model_module_version": "1.5.0",
          "state": {
            "_model_module": "@jupyter-widgets/controls",
            "_model_module_version": "1.5.0",
            "_model_name": "DescriptionStyleModel",
            "_view_count": null,
            "_view_module": "@jupyter-widgets/base",
            "_view_module_version": "1.2.0",
            "_view_name": "StyleView",
            "description_width": ""
          }
        },
        "54e97ae1cbbb4ab7a8670b959c880257": {
          "model_module": "@jupyter-widgets/base",
          "model_name": "LayoutModel",
          "model_module_version": "1.2.0",
          "state": {
            "_model_module": "@jupyter-widgets/base",
            "_model_module_version": "1.2.0",
            "_model_name": "LayoutModel",
            "_view_count": null,
            "_view_module": "@jupyter-widgets/base",
            "_view_module_version": "1.2.0",
            "_view_name": "LayoutView",
            "align_content": null,
            "align_items": null,
            "align_self": null,
            "border": null,
            "bottom": null,
            "display": null,
            "flex": null,
            "flex_flow": null,
            "grid_area": null,
            "grid_auto_columns": null,
            "grid_auto_flow": null,
            "grid_auto_rows": null,
            "grid_column": null,
            "grid_gap": null,
            "grid_row": null,
            "grid_template_areas": null,
            "grid_template_columns": null,
            "grid_template_rows": null,
            "height": null,
            "justify_content": null,
            "justify_items": null,
            "left": null,
            "margin": null,
            "max_height": null,
            "max_width": null,
            "min_height": null,
            "min_width": null,
            "object_fit": null,
            "object_position": null,
            "order": null,
            "overflow": null,
            "overflow_x": null,
            "overflow_y": null,
            "padding": null,
            "right": null,
            "top": null,
            "visibility": null,
            "width": null
          }
        },
        "de2d9ee73ee843cbb01150088aa824b3": {
          "model_module": "@jupyter-widgets/controls",
          "model_name": "ProgressStyleModel",
          "model_module_version": "1.5.0",
          "state": {
            "_model_module": "@jupyter-widgets/controls",
            "_model_module_version": "1.5.0",
            "_model_name": "ProgressStyleModel",
            "_view_count": null,
            "_view_module": "@jupyter-widgets/base",
            "_view_module_version": "1.2.0",
            "_view_name": "StyleView",
            "bar_color": null,
            "description_width": ""
          }
        },
        "25cd57387f4247b2803f2bae281893e0": {
          "model_module": "@jupyter-widgets/base",
          "model_name": "LayoutModel",
          "model_module_version": "1.2.0",
          "state": {
            "_model_module": "@jupyter-widgets/base",
            "_model_module_version": "1.2.0",
            "_model_name": "LayoutModel",
            "_view_count": null,
            "_view_module": "@jupyter-widgets/base",
            "_view_module_version": "1.2.0",
            "_view_name": "LayoutView",
            "align_content": null,
            "align_items": null,
            "align_self": null,
            "border": null,
            "bottom": null,
            "display": null,
            "flex": null,
            "flex_flow": null,
            "grid_area": null,
            "grid_auto_columns": null,
            "grid_auto_flow": null,
            "grid_auto_rows": null,
            "grid_column": null,
            "grid_gap": null,
            "grid_row": null,
            "grid_template_areas": null,
            "grid_template_columns": null,
            "grid_template_rows": null,
            "height": null,
            "justify_content": null,
            "justify_items": null,
            "left": null,
            "margin": null,
            "max_height": null,
            "max_width": null,
            "min_height": null,
            "min_width": null,
            "object_fit": null,
            "object_position": null,
            "order": null,
            "overflow": null,
            "overflow_x": null,
            "overflow_y": null,
            "padding": null,
            "right": null,
            "top": null,
            "visibility": null,
            "width": null
          }
        },
        "09c30db410c2454ca2af5597cee52fd1": {
          "model_module": "@jupyter-widgets/controls",
          "model_name": "DescriptionStyleModel",
          "model_module_version": "1.5.0",
          "state": {
            "_model_module": "@jupyter-widgets/controls",
            "_model_module_version": "1.5.0",
            "_model_name": "DescriptionStyleModel",
            "_view_count": null,
            "_view_module": "@jupyter-widgets/base",
            "_view_module_version": "1.2.0",
            "_view_name": "StyleView",
            "description_width": ""
          }
        },
        "a263f10955a24fc4bbcbc8440ebae862": {
          "model_module": "@jupyter-widgets/controls",
          "model_name": "HBoxModel",
          "model_module_version": "1.5.0",
          "state": {
            "_dom_classes": [],
            "_model_module": "@jupyter-widgets/controls",
            "_model_module_version": "1.5.0",
            "_model_name": "HBoxModel",
            "_view_count": null,
            "_view_module": "@jupyter-widgets/controls",
            "_view_module_version": "1.5.0",
            "_view_name": "HBoxView",
            "box_style": "",
            "children": [
              "IPY_MODEL_f78cbf38841a41b092c1c591d497145c",
              "IPY_MODEL_4a24021b0bb846e5a220f1e921ae293d",
              "IPY_MODEL_2d34673d600c4bc58cad599b0eb201a2"
            ],
            "layout": "IPY_MODEL_7dbb84c1c1514c7396e0ba71022e94ef"
          }
        },
        "f78cbf38841a41b092c1c591d497145c": {
          "model_module": "@jupyter-widgets/controls",
          "model_name": "HTMLModel",
          "model_module_version": "1.5.0",
          "state": {
            "_dom_classes": [],
            "_model_module": "@jupyter-widgets/controls",
            "_model_module_version": "1.5.0",
            "_model_name": "HTMLModel",
            "_view_count": null,
            "_view_module": "@jupyter-widgets/controls",
            "_view_module_version": "1.5.0",
            "_view_name": "HTMLView",
            "description": "",
            "description_tooltip": null,
            "layout": "IPY_MODEL_39aeb60e216d464eb39fa54166a4311d",
            "placeholder": "​",
            "style": "IPY_MODEL_660eca74f28849539df3ca94d04bb9c1",
            "value": "1_Pooling/config.json: 100%"
          }
        },
        "4a24021b0bb846e5a220f1e921ae293d": {
          "model_module": "@jupyter-widgets/controls",
          "model_name": "FloatProgressModel",
          "model_module_version": "1.5.0",
          "state": {
            "_dom_classes": [],
            "_model_module": "@jupyter-widgets/controls",
            "_model_module_version": "1.5.0",
            "_model_name": "FloatProgressModel",
            "_view_count": null,
            "_view_module": "@jupyter-widgets/controls",
            "_view_module_version": "1.5.0",
            "_view_name": "ProgressView",
            "bar_style": "success",
            "description": "",
            "description_tooltip": null,
            "layout": "IPY_MODEL_1fe91a1a8d484b9e96b5c9edbf346427",
            "max": 191,
            "min": 0,
            "orientation": "horizontal",
            "style": "IPY_MODEL_ca3f6d09a47d4452beb80bd3c6ce947c",
            "value": 191
          }
        },
        "2d34673d600c4bc58cad599b0eb201a2": {
          "model_module": "@jupyter-widgets/controls",
          "model_name": "HTMLModel",
          "model_module_version": "1.5.0",
          "state": {
            "_dom_classes": [],
            "_model_module": "@jupyter-widgets/controls",
            "_model_module_version": "1.5.0",
            "_model_name": "HTMLModel",
            "_view_count": null,
            "_view_module": "@jupyter-widgets/controls",
            "_view_module_version": "1.5.0",
            "_view_name": "HTMLView",
            "description": "",
            "description_tooltip": null,
            "layout": "IPY_MODEL_6a2c1233e6f84a509a11f20db326d293",
            "placeholder": "​",
            "style": "IPY_MODEL_7a43d72741fb416b9e48cac9062530ef",
            "value": " 191/191 [00:00&lt;00:00, 8.33kB/s]"
          }
        },
        "7dbb84c1c1514c7396e0ba71022e94ef": {
          "model_module": "@jupyter-widgets/base",
          "model_name": "LayoutModel",
          "model_module_version": "1.2.0",
          "state": {
            "_model_module": "@jupyter-widgets/base",
            "_model_module_version": "1.2.0",
            "_model_name": "LayoutModel",
            "_view_count": null,
            "_view_module": "@jupyter-widgets/base",
            "_view_module_version": "1.2.0",
            "_view_name": "LayoutView",
            "align_content": null,
            "align_items": null,
            "align_self": null,
            "border": null,
            "bottom": null,
            "display": null,
            "flex": null,
            "flex_flow": null,
            "grid_area": null,
            "grid_auto_columns": null,
            "grid_auto_flow": null,
            "grid_auto_rows": null,
            "grid_column": null,
            "grid_gap": null,
            "grid_row": null,
            "grid_template_areas": null,
            "grid_template_columns": null,
            "grid_template_rows": null,
            "height": null,
            "justify_content": null,
            "justify_items": null,
            "left": null,
            "margin": null,
            "max_height": null,
            "max_width": null,
            "min_height": null,
            "min_width": null,
            "object_fit": null,
            "object_position": null,
            "order": null,
            "overflow": null,
            "overflow_x": null,
            "overflow_y": null,
            "padding": null,
            "right": null,
            "top": null,
            "visibility": null,
            "width": null
          }
        },
        "39aeb60e216d464eb39fa54166a4311d": {
          "model_module": "@jupyter-widgets/base",
          "model_name": "LayoutModel",
          "model_module_version": "1.2.0",
          "state": {
            "_model_module": "@jupyter-widgets/base",
            "_model_module_version": "1.2.0",
            "_model_name": "LayoutModel",
            "_view_count": null,
            "_view_module": "@jupyter-widgets/base",
            "_view_module_version": "1.2.0",
            "_view_name": "LayoutView",
            "align_content": null,
            "align_items": null,
            "align_self": null,
            "border": null,
            "bottom": null,
            "display": null,
            "flex": null,
            "flex_flow": null,
            "grid_area": null,
            "grid_auto_columns": null,
            "grid_auto_flow": null,
            "grid_auto_rows": null,
            "grid_column": null,
            "grid_gap": null,
            "grid_row": null,
            "grid_template_areas": null,
            "grid_template_columns": null,
            "grid_template_rows": null,
            "height": null,
            "justify_content": null,
            "justify_items": null,
            "left": null,
            "margin": null,
            "max_height": null,
            "max_width": null,
            "min_height": null,
            "min_width": null,
            "object_fit": null,
            "object_position": null,
            "order": null,
            "overflow": null,
            "overflow_x": null,
            "overflow_y": null,
            "padding": null,
            "right": null,
            "top": null,
            "visibility": null,
            "width": null
          }
        },
        "660eca74f28849539df3ca94d04bb9c1": {
          "model_module": "@jupyter-widgets/controls",
          "model_name": "DescriptionStyleModel",
          "model_module_version": "1.5.0",
          "state": {
            "_model_module": "@jupyter-widgets/controls",
            "_model_module_version": "1.5.0",
            "_model_name": "DescriptionStyleModel",
            "_view_count": null,
            "_view_module": "@jupyter-widgets/base",
            "_view_module_version": "1.2.0",
            "_view_name": "StyleView",
            "description_width": ""
          }
        },
        "1fe91a1a8d484b9e96b5c9edbf346427": {
          "model_module": "@jupyter-widgets/base",
          "model_name": "LayoutModel",
          "model_module_version": "1.2.0",
          "state": {
            "_model_module": "@jupyter-widgets/base",
            "_model_module_version": "1.2.0",
            "_model_name": "LayoutModel",
            "_view_count": null,
            "_view_module": "@jupyter-widgets/base",
            "_view_module_version": "1.2.0",
            "_view_name": "LayoutView",
            "align_content": null,
            "align_items": null,
            "align_self": null,
            "border": null,
            "bottom": null,
            "display": null,
            "flex": null,
            "flex_flow": null,
            "grid_area": null,
            "grid_auto_columns": null,
            "grid_auto_flow": null,
            "grid_auto_rows": null,
            "grid_column": null,
            "grid_gap": null,
            "grid_row": null,
            "grid_template_areas": null,
            "grid_template_columns": null,
            "grid_template_rows": null,
            "height": null,
            "justify_content": null,
            "justify_items": null,
            "left": null,
            "margin": null,
            "max_height": null,
            "max_width": null,
            "min_height": null,
            "min_width": null,
            "object_fit": null,
            "object_position": null,
            "order": null,
            "overflow": null,
            "overflow_x": null,
            "overflow_y": null,
            "padding": null,
            "right": null,
            "top": null,
            "visibility": null,
            "width": null
          }
        },
        "ca3f6d09a47d4452beb80bd3c6ce947c": {
          "model_module": "@jupyter-widgets/controls",
          "model_name": "ProgressStyleModel",
          "model_module_version": "1.5.0",
          "state": {
            "_model_module": "@jupyter-widgets/controls",
            "_model_module_version": "1.5.0",
            "_model_name": "ProgressStyleModel",
            "_view_count": null,
            "_view_module": "@jupyter-widgets/base",
            "_view_module_version": "1.2.0",
            "_view_name": "StyleView",
            "bar_color": null,
            "description_width": ""
          }
        },
        "6a2c1233e6f84a509a11f20db326d293": {
          "model_module": "@jupyter-widgets/base",
          "model_name": "LayoutModel",
          "model_module_version": "1.2.0",
          "state": {
            "_model_module": "@jupyter-widgets/base",
            "_model_module_version": "1.2.0",
            "_model_name": "LayoutModel",
            "_view_count": null,
            "_view_module": "@jupyter-widgets/base",
            "_view_module_version": "1.2.0",
            "_view_name": "LayoutView",
            "align_content": null,
            "align_items": null,
            "align_self": null,
            "border": null,
            "bottom": null,
            "display": null,
            "flex": null,
            "flex_flow": null,
            "grid_area": null,
            "grid_auto_columns": null,
            "grid_auto_flow": null,
            "grid_auto_rows": null,
            "grid_column": null,
            "grid_gap": null,
            "grid_row": null,
            "grid_template_areas": null,
            "grid_template_columns": null,
            "grid_template_rows": null,
            "height": null,
            "justify_content": null,
            "justify_items": null,
            "left": null,
            "margin": null,
            "max_height": null,
            "max_width": null,
            "min_height": null,
            "min_width": null,
            "object_fit": null,
            "object_position": null,
            "order": null,
            "overflow": null,
            "overflow_x": null,
            "overflow_y": null,
            "padding": null,
            "right": null,
            "top": null,
            "visibility": null,
            "width": null
          }
        },
        "7a43d72741fb416b9e48cac9062530ef": {
          "model_module": "@jupyter-widgets/controls",
          "model_name": "DescriptionStyleModel",
          "model_module_version": "1.5.0",
          "state": {
            "_model_module": "@jupyter-widgets/controls",
            "_model_module_version": "1.5.0",
            "_model_name": "DescriptionStyleModel",
            "_view_count": null,
            "_view_module": "@jupyter-widgets/base",
            "_view_module_version": "1.2.0",
            "_view_name": "StyleView",
            "description_width": ""
          }
        },
        "8fa69110e35b4ae69b663b892c37e306": {
          "model_module": "@jupyter-widgets/controls",
          "model_name": "HBoxModel",
          "model_module_version": "1.5.0",
          "state": {
            "_dom_classes": [],
            "_model_module": "@jupyter-widgets/controls",
            "_model_module_version": "1.5.0",
            "_model_name": "HBoxModel",
            "_view_count": null,
            "_view_module": "@jupyter-widgets/controls",
            "_view_module_version": "1.5.0",
            "_view_name": "HBoxView",
            "box_style": "",
            "children": [
              "IPY_MODEL_8e2906345c3443ca84a9964bd5d19eb6",
              "IPY_MODEL_c27abf624e694f8bac0b95d0c7216123",
              "IPY_MODEL_d0a4f3f193b94905b5e3c634eb5bacd4"
            ],
            "layout": "IPY_MODEL_1ebe22e3cfb04b73af78e56437d1933c"
          }
        },
        "8e2906345c3443ca84a9964bd5d19eb6": {
          "model_module": "@jupyter-widgets/controls",
          "model_name": "HTMLModel",
          "model_module_version": "1.5.0",
          "state": {
            "_dom_classes": [],
            "_model_module": "@jupyter-widgets/controls",
            "_model_module_version": "1.5.0",
            "_model_name": "HTMLModel",
            "_view_count": null,
            "_view_module": "@jupyter-widgets/controls",
            "_view_module_version": "1.5.0",
            "_view_name": "HTMLView",
            "description": "",
            "description_tooltip": null,
            "layout": "IPY_MODEL_9979e595a8184b2cb7845a8340b823d7",
            "placeholder": "​",
            "style": "IPY_MODEL_c497f2134f054a4ba8f8575fc6572d47",
            "value": "config.json: 100%"
          }
        },
        "c27abf624e694f8bac0b95d0c7216123": {
          "model_module": "@jupyter-widgets/controls",
          "model_name": "FloatProgressModel",
          "model_module_version": "1.5.0",
          "state": {
            "_dom_classes": [],
            "_model_module": "@jupyter-widgets/controls",
            "_model_module_version": "1.5.0",
            "_model_name": "FloatProgressModel",
            "_view_count": null,
            "_view_module": "@jupyter-widgets/controls",
            "_view_module_version": "1.5.0",
            "_view_name": "ProgressView",
            "bar_style": "success",
            "description": "",
            "description_tooltip": null,
            "layout": "IPY_MODEL_82f45d54a8e147ec8a51fc0e32732a19",
            "max": 687,
            "min": 0,
            "orientation": "horizontal",
            "style": "IPY_MODEL_4974f131e39d44bebdc8c03b4005eae3",
            "value": 687
          }
        },
        "d0a4f3f193b94905b5e3c634eb5bacd4": {
          "model_module": "@jupyter-widgets/controls",
          "model_name": "HTMLModel",
          "model_module_version": "1.5.0",
          "state": {
            "_dom_classes": [],
            "_model_module": "@jupyter-widgets/controls",
            "_model_module_version": "1.5.0",
            "_model_name": "HTMLModel",
            "_view_count": null,
            "_view_module": "@jupyter-widgets/controls",
            "_view_module_version": "1.5.0",
            "_view_name": "HTMLView",
            "description": "",
            "description_tooltip": null,
            "layout": "IPY_MODEL_89e679b3510d45d7a03c9ec76e966a0d",
            "placeholder": "​",
            "style": "IPY_MODEL_758f13ed8e29483ca8d6d4e2ed41d0ff",
            "value": " 687/687 [00:00&lt;00:00, 10.2kB/s]"
          }
        },
        "1ebe22e3cfb04b73af78e56437d1933c": {
          "model_module": "@jupyter-widgets/base",
          "model_name": "LayoutModel",
          "model_module_version": "1.2.0",
          "state": {
            "_model_module": "@jupyter-widgets/base",
            "_model_module_version": "1.2.0",
            "_model_name": "LayoutModel",
            "_view_count": null,
            "_view_module": "@jupyter-widgets/base",
            "_view_module_version": "1.2.0",
            "_view_name": "LayoutView",
            "align_content": null,
            "align_items": null,
            "align_self": null,
            "border": null,
            "bottom": null,
            "display": null,
            "flex": null,
            "flex_flow": null,
            "grid_area": null,
            "grid_auto_columns": null,
            "grid_auto_flow": null,
            "grid_auto_rows": null,
            "grid_column": null,
            "grid_gap": null,
            "grid_row": null,
            "grid_template_areas": null,
            "grid_template_columns": null,
            "grid_template_rows": null,
            "height": null,
            "justify_content": null,
            "justify_items": null,
            "left": null,
            "margin": null,
            "max_height": null,
            "max_width": null,
            "min_height": null,
            "min_width": null,
            "object_fit": null,
            "object_position": null,
            "order": null,
            "overflow": null,
            "overflow_x": null,
            "overflow_y": null,
            "padding": null,
            "right": null,
            "top": null,
            "visibility": null,
            "width": null
          }
        },
        "9979e595a8184b2cb7845a8340b823d7": {
          "model_module": "@jupyter-widgets/base",
          "model_name": "LayoutModel",
          "model_module_version": "1.2.0",
          "state": {
            "_model_module": "@jupyter-widgets/base",
            "_model_module_version": "1.2.0",
            "_model_name": "LayoutModel",
            "_view_count": null,
            "_view_module": "@jupyter-widgets/base",
            "_view_module_version": "1.2.0",
            "_view_name": "LayoutView",
            "align_content": null,
            "align_items": null,
            "align_self": null,
            "border": null,
            "bottom": null,
            "display": null,
            "flex": null,
            "flex_flow": null,
            "grid_area": null,
            "grid_auto_columns": null,
            "grid_auto_flow": null,
            "grid_auto_rows": null,
            "grid_column": null,
            "grid_gap": null,
            "grid_row": null,
            "grid_template_areas": null,
            "grid_template_columns": null,
            "grid_template_rows": null,
            "height": null,
            "justify_content": null,
            "justify_items": null,
            "left": null,
            "margin": null,
            "max_height": null,
            "max_width": null,
            "min_height": null,
            "min_width": null,
            "object_fit": null,
            "object_position": null,
            "order": null,
            "overflow": null,
            "overflow_x": null,
            "overflow_y": null,
            "padding": null,
            "right": null,
            "top": null,
            "visibility": null,
            "width": null
          }
        },
        "c497f2134f054a4ba8f8575fc6572d47": {
          "model_module": "@jupyter-widgets/controls",
          "model_name": "DescriptionStyleModel",
          "model_module_version": "1.5.0",
          "state": {
            "_model_module": "@jupyter-widgets/controls",
            "_model_module_version": "1.5.0",
            "_model_name": "DescriptionStyleModel",
            "_view_count": null,
            "_view_module": "@jupyter-widgets/base",
            "_view_module_version": "1.2.0",
            "_view_name": "StyleView",
            "description_width": ""
          }
        },
        "82f45d54a8e147ec8a51fc0e32732a19": {
          "model_module": "@jupyter-widgets/base",
          "model_name": "LayoutModel",
          "model_module_version": "1.2.0",
          "state": {
            "_model_module": "@jupyter-widgets/base",
            "_model_module_version": "1.2.0",
            "_model_name": "LayoutModel",
            "_view_count": null,
            "_view_module": "@jupyter-widgets/base",
            "_view_module_version": "1.2.0",
            "_view_name": "LayoutView",
            "align_content": null,
            "align_items": null,
            "align_self": null,
            "border": null,
            "bottom": null,
            "display": null,
            "flex": null,
            "flex_flow": null,
            "grid_area": null,
            "grid_auto_columns": null,
            "grid_auto_flow": null,
            "grid_auto_rows": null,
            "grid_column": null,
            "grid_gap": null,
            "grid_row": null,
            "grid_template_areas": null,
            "grid_template_columns": null,
            "grid_template_rows": null,
            "height": null,
            "justify_content": null,
            "justify_items": null,
            "left": null,
            "margin": null,
            "max_height": null,
            "max_width": null,
            "min_height": null,
            "min_width": null,
            "object_fit": null,
            "object_position": null,
            "order": null,
            "overflow": null,
            "overflow_x": null,
            "overflow_y": null,
            "padding": null,
            "right": null,
            "top": null,
            "visibility": null,
            "width": null
          }
        },
        "4974f131e39d44bebdc8c03b4005eae3": {
          "model_module": "@jupyter-widgets/controls",
          "model_name": "ProgressStyleModel",
          "model_module_version": "1.5.0",
          "state": {
            "_model_module": "@jupyter-widgets/controls",
            "_model_module_version": "1.5.0",
            "_model_name": "ProgressStyleModel",
            "_view_count": null,
            "_view_module": "@jupyter-widgets/base",
            "_view_module_version": "1.2.0",
            "_view_name": "StyleView",
            "bar_color": null,
            "description_width": ""
          }
        },
        "89e679b3510d45d7a03c9ec76e966a0d": {
          "model_module": "@jupyter-widgets/base",
          "model_name": "LayoutModel",
          "model_module_version": "1.2.0",
          "state": {
            "_model_module": "@jupyter-widgets/base",
            "_model_module_version": "1.2.0",
            "_model_name": "LayoutModel",
            "_view_count": null,
            "_view_module": "@jupyter-widgets/base",
            "_view_module_version": "1.2.0",
            "_view_name": "LayoutView",
            "align_content": null,
            "align_items": null,
            "align_self": null,
            "border": null,
            "bottom": null,
            "display": null,
            "flex": null,
            "flex_flow": null,
            "grid_area": null,
            "grid_auto_columns": null,
            "grid_auto_flow": null,
            "grid_auto_rows": null,
            "grid_column": null,
            "grid_gap": null,
            "grid_row": null,
            "grid_template_areas": null,
            "grid_template_columns": null,
            "grid_template_rows": null,
            "height": null,
            "justify_content": null,
            "justify_items": null,
            "left": null,
            "margin": null,
            "max_height": null,
            "max_width": null,
            "min_height": null,
            "min_width": null,
            "object_fit": null,
            "object_position": null,
            "order": null,
            "overflow": null,
            "overflow_x": null,
            "overflow_y": null,
            "padding": null,
            "right": null,
            "top": null,
            "visibility": null,
            "width": null
          }
        },
        "758f13ed8e29483ca8d6d4e2ed41d0ff": {
          "model_module": "@jupyter-widgets/controls",
          "model_name": "DescriptionStyleModel",
          "model_module_version": "1.5.0",
          "state": {
            "_model_module": "@jupyter-widgets/controls",
            "_model_module_version": "1.5.0",
            "_model_name": "DescriptionStyleModel",
            "_view_count": null,
            "_view_module": "@jupyter-widgets/base",
            "_view_module_version": "1.2.0",
            "_view_name": "StyleView",
            "description_width": ""
          }
        },
        "1b7a1f48cd7643439d77c70a3d630519": {
          "model_module": "@jupyter-widgets/controls",
          "model_name": "HBoxModel",
          "model_module_version": "1.5.0",
          "state": {
            "_dom_classes": [],
            "_model_module": "@jupyter-widgets/controls",
            "_model_module_version": "1.5.0",
            "_model_name": "HBoxModel",
            "_view_count": null,
            "_view_module": "@jupyter-widgets/controls",
            "_view_module_version": "1.5.0",
            "_view_name": "HBoxView",
            "box_style": "",
            "children": [
              "IPY_MODEL_bcf15e15e24b4f7c9425ccea3264a6da",
              "IPY_MODEL_63f597b4c6234456a9b29abb086ff557",
              "IPY_MODEL_a5b16f2b1fd24307bc79ff4c106e6f20"
            ],
            "layout": "IPY_MODEL_f9afbd593b2f4fdeaac8bc0632d8dabe"
          }
        },
        "bcf15e15e24b4f7c9425ccea3264a6da": {
          "model_module": "@jupyter-widgets/controls",
          "model_name": "HTMLModel",
          "model_module_version": "1.5.0",
          "state": {
            "_dom_classes": [],
            "_model_module": "@jupyter-widgets/controls",
            "_model_module_version": "1.5.0",
            "_model_name": "HTMLModel",
            "_view_count": null,
            "_view_module": "@jupyter-widgets/controls",
            "_view_module_version": "1.5.0",
            "_view_name": "HTMLView",
            "description": "",
            "description_tooltip": null,
            "layout": "IPY_MODEL_3e0cbfaea35f47ba8ce80bbf7621084e",
            "placeholder": "​",
            "style": "IPY_MODEL_a75a93e120f243d1a02d7081f6bb7436",
            "value": "colbert_linear.pt: 100%"
          }
        },
        "63f597b4c6234456a9b29abb086ff557": {
          "model_module": "@jupyter-widgets/controls",
          "model_name": "FloatProgressModel",
          "model_module_version": "1.5.0",
          "state": {
            "_dom_classes": [],
            "_model_module": "@jupyter-widgets/controls",
            "_model_module_version": "1.5.0",
            "_model_name": "FloatProgressModel",
            "_view_count": null,
            "_view_module": "@jupyter-widgets/controls",
            "_view_module_version": "1.5.0",
            "_view_name": "ProgressView",
            "bar_style": "success",
            "description": "",
            "description_tooltip": null,
            "layout": "IPY_MODEL_a8f62d6756ae47ac8256f5bf8da23f7a",
            "max": 2100674,
            "min": 0,
            "orientation": "horizontal",
            "style": "IPY_MODEL_0e5969e63beb4e8bb4c8f54fbf6c9d27",
            "value": 2100674
          }
        },
        "a5b16f2b1fd24307bc79ff4c106e6f20": {
          "model_module": "@jupyter-widgets/controls",
          "model_name": "HTMLModel",
          "model_module_version": "1.5.0",
          "state": {
            "_dom_classes": [],
            "_model_module": "@jupyter-widgets/controls",
            "_model_module_version": "1.5.0",
            "_model_name": "HTMLModel",
            "_view_count": null,
            "_view_module": "@jupyter-widgets/controls",
            "_view_module_version": "1.5.0",
            "_view_name": "HTMLView",
            "description": "",
            "description_tooltip": null,
            "layout": "IPY_MODEL_b3a1ff3d238540a29a93a80f76ad8592",
            "placeholder": "​",
            "style": "IPY_MODEL_6ac16e8306bb427b917113af7b029a29",
            "value": " 2.10M/2.10M [00:00&lt;00:00, 8.52MB/s]"
          }
        },
        "f9afbd593b2f4fdeaac8bc0632d8dabe": {
          "model_module": "@jupyter-widgets/base",
          "model_name": "LayoutModel",
          "model_module_version": "1.2.0",
          "state": {
            "_model_module": "@jupyter-widgets/base",
            "_model_module_version": "1.2.0",
            "_model_name": "LayoutModel",
            "_view_count": null,
            "_view_module": "@jupyter-widgets/base",
            "_view_module_version": "1.2.0",
            "_view_name": "LayoutView",
            "align_content": null,
            "align_items": null,
            "align_self": null,
            "border": null,
            "bottom": null,
            "display": null,
            "flex": null,
            "flex_flow": null,
            "grid_area": null,
            "grid_auto_columns": null,
            "grid_auto_flow": null,
            "grid_auto_rows": null,
            "grid_column": null,
            "grid_gap": null,
            "grid_row": null,
            "grid_template_areas": null,
            "grid_template_columns": null,
            "grid_template_rows": null,
            "height": null,
            "justify_content": null,
            "justify_items": null,
            "left": null,
            "margin": null,
            "max_height": null,
            "max_width": null,
            "min_height": null,
            "min_width": null,
            "object_fit": null,
            "object_position": null,
            "order": null,
            "overflow": null,
            "overflow_x": null,
            "overflow_y": null,
            "padding": null,
            "right": null,
            "top": null,
            "visibility": null,
            "width": null
          }
        },
        "3e0cbfaea35f47ba8ce80bbf7621084e": {
          "model_module": "@jupyter-widgets/base",
          "model_name": "LayoutModel",
          "model_module_version": "1.2.0",
          "state": {
            "_model_module": "@jupyter-widgets/base",
            "_model_module_version": "1.2.0",
            "_model_name": "LayoutModel",
            "_view_count": null,
            "_view_module": "@jupyter-widgets/base",
            "_view_module_version": "1.2.0",
            "_view_name": "LayoutView",
            "align_content": null,
            "align_items": null,
            "align_self": null,
            "border": null,
            "bottom": null,
            "display": null,
            "flex": null,
            "flex_flow": null,
            "grid_area": null,
            "grid_auto_columns": null,
            "grid_auto_flow": null,
            "grid_auto_rows": null,
            "grid_column": null,
            "grid_gap": null,
            "grid_row": null,
            "grid_template_areas": null,
            "grid_template_columns": null,
            "grid_template_rows": null,
            "height": null,
            "justify_content": null,
            "justify_items": null,
            "left": null,
            "margin": null,
            "max_height": null,
            "max_width": null,
            "min_height": null,
            "min_width": null,
            "object_fit": null,
            "object_position": null,
            "order": null,
            "overflow": null,
            "overflow_x": null,
            "overflow_y": null,
            "padding": null,
            "right": null,
            "top": null,
            "visibility": null,
            "width": null
          }
        },
        "a75a93e120f243d1a02d7081f6bb7436": {
          "model_module": "@jupyter-widgets/controls",
          "model_name": "DescriptionStyleModel",
          "model_module_version": "1.5.0",
          "state": {
            "_model_module": "@jupyter-widgets/controls",
            "_model_module_version": "1.5.0",
            "_model_name": "DescriptionStyleModel",
            "_view_count": null,
            "_view_module": "@jupyter-widgets/base",
            "_view_module_version": "1.2.0",
            "_view_name": "StyleView",
            "description_width": ""
          }
        },
        "a8f62d6756ae47ac8256f5bf8da23f7a": {
          "model_module": "@jupyter-widgets/base",
          "model_name": "LayoutModel",
          "model_module_version": "1.2.0",
          "state": {
            "_model_module": "@jupyter-widgets/base",
            "_model_module_version": "1.2.0",
            "_model_name": "LayoutModel",
            "_view_count": null,
            "_view_module": "@jupyter-widgets/base",
            "_view_module_version": "1.2.0",
            "_view_name": "LayoutView",
            "align_content": null,
            "align_items": null,
            "align_self": null,
            "border": null,
            "bottom": null,
            "display": null,
            "flex": null,
            "flex_flow": null,
            "grid_area": null,
            "grid_auto_columns": null,
            "grid_auto_flow": null,
            "grid_auto_rows": null,
            "grid_column": null,
            "grid_gap": null,
            "grid_row": null,
            "grid_template_areas": null,
            "grid_template_columns": null,
            "grid_template_rows": null,
            "height": null,
            "justify_content": null,
            "justify_items": null,
            "left": null,
            "margin": null,
            "max_height": null,
            "max_width": null,
            "min_height": null,
            "min_width": null,
            "object_fit": null,
            "object_position": null,
            "order": null,
            "overflow": null,
            "overflow_x": null,
            "overflow_y": null,
            "padding": null,
            "right": null,
            "top": null,
            "visibility": null,
            "width": null
          }
        },
        "0e5969e63beb4e8bb4c8f54fbf6c9d27": {
          "model_module": "@jupyter-widgets/controls",
          "model_name": "ProgressStyleModel",
          "model_module_version": "1.5.0",
          "state": {
            "_model_module": "@jupyter-widgets/controls",
            "_model_module_version": "1.5.0",
            "_model_name": "ProgressStyleModel",
            "_view_count": null,
            "_view_module": "@jupyter-widgets/base",
            "_view_module_version": "1.2.0",
            "_view_name": "StyleView",
            "bar_color": null,
            "description_width": ""
          }
        },
        "b3a1ff3d238540a29a93a80f76ad8592": {
          "model_module": "@jupyter-widgets/base",
          "model_name": "LayoutModel",
          "model_module_version": "1.2.0",
          "state": {
            "_model_module": "@jupyter-widgets/base",
            "_model_module_version": "1.2.0",
            "_model_name": "LayoutModel",
            "_view_count": null,
            "_view_module": "@jupyter-widgets/base",
            "_view_module_version": "1.2.0",
            "_view_name": "LayoutView",
            "align_content": null,
            "align_items": null,
            "align_self": null,
            "border": null,
            "bottom": null,
            "display": null,
            "flex": null,
            "flex_flow": null,
            "grid_area": null,
            "grid_auto_columns": null,
            "grid_auto_flow": null,
            "grid_auto_rows": null,
            "grid_column": null,
            "grid_gap": null,
            "grid_row": null,
            "grid_template_areas": null,
            "grid_template_columns": null,
            "grid_template_rows": null,
            "height": null,
            "justify_content": null,
            "justify_items": null,
            "left": null,
            "margin": null,
            "max_height": null,
            "max_width": null,
            "min_height": null,
            "min_width": null,
            "object_fit": null,
            "object_position": null,
            "order": null,
            "overflow": null,
            "overflow_x": null,
            "overflow_y": null,
            "padding": null,
            "right": null,
            "top": null,
            "visibility": null,
            "width": null
          }
        },
        "6ac16e8306bb427b917113af7b029a29": {
          "model_module": "@jupyter-widgets/controls",
          "model_name": "DescriptionStyleModel",
          "model_module_version": "1.5.0",
          "state": {
            "_model_module": "@jupyter-widgets/controls",
            "_model_module_version": "1.5.0",
            "_model_name": "DescriptionStyleModel",
            "_view_count": null,
            "_view_module": "@jupyter-widgets/base",
            "_view_module_version": "1.2.0",
            "_view_name": "StyleView",
            "description_width": ""
          }
        },
        "189265e6abe848e889ee97ab4b235cab": {
          "model_module": "@jupyter-widgets/controls",
          "model_name": "HBoxModel",
          "model_module_version": "1.5.0",
          "state": {
            "_dom_classes": [],
            "_model_module": "@jupyter-widgets/controls",
            "_model_module_version": "1.5.0",
            "_model_name": "HBoxModel",
            "_view_count": null,
            "_view_module": "@jupyter-widgets/controls",
            "_view_module_version": "1.5.0",
            "_view_name": "HBoxView",
            "box_style": "",
            "children": [
              "IPY_MODEL_39552b373e27401483176e5d3151f1d7",
              "IPY_MODEL_97d564f499d0467796dbedfd563cbd38",
              "IPY_MODEL_04c59898369f489f9ac908943a61a6d1"
            ],
            "layout": "IPY_MODEL_dff9cc86a70440ea91dc2330475c2f39"
          }
        },
        "39552b373e27401483176e5d3151f1d7": {
          "model_module": "@jupyter-widgets/controls",
          "model_name": "HTMLModel",
          "model_module_version": "1.5.0",
          "state": {
            "_dom_classes": [],
            "_model_module": "@jupyter-widgets/controls",
            "_model_module_version": "1.5.0",
            "_model_name": "HTMLModel",
            "_view_count": null,
            "_view_module": "@jupyter-widgets/controls",
            "_view_module_version": "1.5.0",
            "_view_name": "HTMLView",
            "description": "",
            "description_tooltip": null,
            "layout": "IPY_MODEL_b10115c03bda455d9dc494b06b846875",
            "placeholder": "​",
            "style": "IPY_MODEL_16e05a1296bd49e29e0f58c66d9d6310",
            "value": ".gitattributes: 100%"
          }
        },
        "97d564f499d0467796dbedfd563cbd38": {
          "model_module": "@jupyter-widgets/controls",
          "model_name": "FloatProgressModel",
          "model_module_version": "1.5.0",
          "state": {
            "_dom_classes": [],
            "_model_module": "@jupyter-widgets/controls",
            "_model_module_version": "1.5.0",
            "_model_name": "FloatProgressModel",
            "_view_count": null,
            "_view_module": "@jupyter-widgets/controls",
            "_view_module_version": "1.5.0",
            "_view_name": "ProgressView",
            "bar_style": "success",
            "description": "",
            "description_tooltip": null,
            "layout": "IPY_MODEL_cf6e3872bb2e4156b0596bdc18d7dd1d",
            "max": 1570,
            "min": 0,
            "orientation": "horizontal",
            "style": "IPY_MODEL_55113593a75c435eaecac3d4f49e13ff",
            "value": 1570
          }
        },
        "04c59898369f489f9ac908943a61a6d1": {
          "model_module": "@jupyter-widgets/controls",
          "model_name": "HTMLModel",
          "model_module_version": "1.5.0",
          "state": {
            "_dom_classes": [],
            "_model_module": "@jupyter-widgets/controls",
            "_model_module_version": "1.5.0",
            "_model_name": "HTMLModel",
            "_view_count": null,
            "_view_module": "@jupyter-widgets/controls",
            "_view_module_version": "1.5.0",
            "_view_name": "HTMLView",
            "description": "",
            "description_tooltip": null,
            "layout": "IPY_MODEL_bc8a302cb35443d18e1ee8f18b75844c",
            "placeholder": "​",
            "style": "IPY_MODEL_cd994da023fb477c975813347c5af45f",
            "value": " 1.57k/1.57k [00:00&lt;00:00, 13.6kB/s]"
          }
        },
        "dff9cc86a70440ea91dc2330475c2f39": {
          "model_module": "@jupyter-widgets/base",
          "model_name": "LayoutModel",
          "model_module_version": "1.2.0",
          "state": {
            "_model_module": "@jupyter-widgets/base",
            "_model_module_version": "1.2.0",
            "_model_name": "LayoutModel",
            "_view_count": null,
            "_view_module": "@jupyter-widgets/base",
            "_view_module_version": "1.2.0",
            "_view_name": "LayoutView",
            "align_content": null,
            "align_items": null,
            "align_self": null,
            "border": null,
            "bottom": null,
            "display": null,
            "flex": null,
            "flex_flow": null,
            "grid_area": null,
            "grid_auto_columns": null,
            "grid_auto_flow": null,
            "grid_auto_rows": null,
            "grid_column": null,
            "grid_gap": null,
            "grid_row": null,
            "grid_template_areas": null,
            "grid_template_columns": null,
            "grid_template_rows": null,
            "height": null,
            "justify_content": null,
            "justify_items": null,
            "left": null,
            "margin": null,
            "max_height": null,
            "max_width": null,
            "min_height": null,
            "min_width": null,
            "object_fit": null,
            "object_position": null,
            "order": null,
            "overflow": null,
            "overflow_x": null,
            "overflow_y": null,
            "padding": null,
            "right": null,
            "top": null,
            "visibility": null,
            "width": null
          }
        },
        "b10115c03bda455d9dc494b06b846875": {
          "model_module": "@jupyter-widgets/base",
          "model_name": "LayoutModel",
          "model_module_version": "1.2.0",
          "state": {
            "_model_module": "@jupyter-widgets/base",
            "_model_module_version": "1.2.0",
            "_model_name": "LayoutModel",
            "_view_count": null,
            "_view_module": "@jupyter-widgets/base",
            "_view_module_version": "1.2.0",
            "_view_name": "LayoutView",
            "align_content": null,
            "align_items": null,
            "align_self": null,
            "border": null,
            "bottom": null,
            "display": null,
            "flex": null,
            "flex_flow": null,
            "grid_area": null,
            "grid_auto_columns": null,
            "grid_auto_flow": null,
            "grid_auto_rows": null,
            "grid_column": null,
            "grid_gap": null,
            "grid_row": null,
            "grid_template_areas": null,
            "grid_template_columns": null,
            "grid_template_rows": null,
            "height": null,
            "justify_content": null,
            "justify_items": null,
            "left": null,
            "margin": null,
            "max_height": null,
            "max_width": null,
            "min_height": null,
            "min_width": null,
            "object_fit": null,
            "object_position": null,
            "order": null,
            "overflow": null,
            "overflow_x": null,
            "overflow_y": null,
            "padding": null,
            "right": null,
            "top": null,
            "visibility": null,
            "width": null
          }
        },
        "16e05a1296bd49e29e0f58c66d9d6310": {
          "model_module": "@jupyter-widgets/controls",
          "model_name": "DescriptionStyleModel",
          "model_module_version": "1.5.0",
          "state": {
            "_model_module": "@jupyter-widgets/controls",
            "_model_module_version": "1.5.0",
            "_model_name": "DescriptionStyleModel",
            "_view_count": null,
            "_view_module": "@jupyter-widgets/base",
            "_view_module_version": "1.2.0",
            "_view_name": "StyleView",
            "description_width": ""
          }
        },
        "cf6e3872bb2e4156b0596bdc18d7dd1d": {
          "model_module": "@jupyter-widgets/base",
          "model_name": "LayoutModel",
          "model_module_version": "1.2.0",
          "state": {
            "_model_module": "@jupyter-widgets/base",
            "_model_module_version": "1.2.0",
            "_model_name": "LayoutModel",
            "_view_count": null,
            "_view_module": "@jupyter-widgets/base",
            "_view_module_version": "1.2.0",
            "_view_name": "LayoutView",
            "align_content": null,
            "align_items": null,
            "align_self": null,
            "border": null,
            "bottom": null,
            "display": null,
            "flex": null,
            "flex_flow": null,
            "grid_area": null,
            "grid_auto_columns": null,
            "grid_auto_flow": null,
            "grid_auto_rows": null,
            "grid_column": null,
            "grid_gap": null,
            "grid_row": null,
            "grid_template_areas": null,
            "grid_template_columns": null,
            "grid_template_rows": null,
            "height": null,
            "justify_content": null,
            "justify_items": null,
            "left": null,
            "margin": null,
            "max_height": null,
            "max_width": null,
            "min_height": null,
            "min_width": null,
            "object_fit": null,
            "object_position": null,
            "order": null,
            "overflow": null,
            "overflow_x": null,
            "overflow_y": null,
            "padding": null,
            "right": null,
            "top": null,
            "visibility": null,
            "width": null
          }
        },
        "55113593a75c435eaecac3d4f49e13ff": {
          "model_module": "@jupyter-widgets/controls",
          "model_name": "ProgressStyleModel",
          "model_module_version": "1.5.0",
          "state": {
            "_model_module": "@jupyter-widgets/controls",
            "_model_module_version": "1.5.0",
            "_model_name": "ProgressStyleModel",
            "_view_count": null,
            "_view_module": "@jupyter-widgets/base",
            "_view_module_version": "1.2.0",
            "_view_name": "StyleView",
            "bar_color": null,
            "description_width": ""
          }
        },
        "bc8a302cb35443d18e1ee8f18b75844c": {
          "model_module": "@jupyter-widgets/base",
          "model_name": "LayoutModel",
          "model_module_version": "1.2.0",
          "state": {
            "_model_module": "@jupyter-widgets/base",
            "_model_module_version": "1.2.0",
            "_model_name": "LayoutModel",
            "_view_count": null,
            "_view_module": "@jupyter-widgets/base",
            "_view_module_version": "1.2.0",
            "_view_name": "LayoutView",
            "align_content": null,
            "align_items": null,
            "align_self": null,
            "border": null,
            "bottom": null,
            "display": null,
            "flex": null,
            "flex_flow": null,
            "grid_area": null,
            "grid_auto_columns": null,
            "grid_auto_flow": null,
            "grid_auto_rows": null,
            "grid_column": null,
            "grid_gap": null,
            "grid_row": null,
            "grid_template_areas": null,
            "grid_template_columns": null,
            "grid_template_rows": null,
            "height": null,
            "justify_content": null,
            "justify_items": null,
            "left": null,
            "margin": null,
            "max_height": null,
            "max_width": null,
            "min_height": null,
            "min_width": null,
            "object_fit": null,
            "object_position": null,
            "order": null,
            "overflow": null,
            "overflow_x": null,
            "overflow_y": null,
            "padding": null,
            "right": null,
            "top": null,
            "visibility": null,
            "width": null
          }
        },
        "cd994da023fb477c975813347c5af45f": {
          "model_module": "@jupyter-widgets/controls",
          "model_name": "DescriptionStyleModel",
          "model_module_version": "1.5.0",
          "state": {
            "_model_module": "@jupyter-widgets/controls",
            "_model_module_version": "1.5.0",
            "_model_name": "DescriptionStyleModel",
            "_view_count": null,
            "_view_module": "@jupyter-widgets/base",
            "_view_module_version": "1.2.0",
            "_view_name": "StyleView",
            "description_width": ""
          }
        },
        "ca799181a1184582a991d8f92ce5afed": {
          "model_module": "@jupyter-widgets/controls",
          "model_name": "HBoxModel",
          "model_module_version": "1.5.0",
          "state": {
            "_dom_classes": [],
            "_model_module": "@jupyter-widgets/controls",
            "_model_module_version": "1.5.0",
            "_model_name": "HBoxModel",
            "_view_count": null,
            "_view_module": "@jupyter-widgets/controls",
            "_view_module_version": "1.5.0",
            "_view_name": "HBoxView",
            "box_style": "",
            "children": [
              "IPY_MODEL_bd862e74e3f7465a8975e93ace9bebc4",
              "IPY_MODEL_d3cc4f913bce45b68423190a3e82081e",
              "IPY_MODEL_9e16f33351f44b27b07d2db4594ed7e9"
            ],
            "layout": "IPY_MODEL_07429e62a7544399a650a65ea669877f"
          }
        },
        "bd862e74e3f7465a8975e93ace9bebc4": {
          "model_module": "@jupyter-widgets/controls",
          "model_name": "HTMLModel",
          "model_module_version": "1.5.0",
          "state": {
            "_dom_classes": [],
            "_model_module": "@jupyter-widgets/controls",
            "_model_module_version": "1.5.0",
            "_model_name": "HTMLModel",
            "_view_count": null,
            "_view_module": "@jupyter-widgets/controls",
            "_view_module_version": "1.5.0",
            "_view_name": "HTMLView",
            "description": "",
            "description_tooltip": null,
            "layout": "IPY_MODEL_ba35cbb18771465ca24ed5e1173d6a57",
            "placeholder": "​",
            "style": "IPY_MODEL_2aec523dc8584a339ade0984b95f3dfb",
            "value": "README.md: 100%"
          }
        },
        "d3cc4f913bce45b68423190a3e82081e": {
          "model_module": "@jupyter-widgets/controls",
          "model_name": "FloatProgressModel",
          "model_module_version": "1.5.0",
          "state": {
            "_dom_classes": [],
            "_model_module": "@jupyter-widgets/controls",
            "_model_module_version": "1.5.0",
            "_model_name": "FloatProgressModel",
            "_view_count": null,
            "_view_module": "@jupyter-widgets/controls",
            "_view_module_version": "1.5.0",
            "_view_name": "ProgressView",
            "bar_style": "success",
            "description": "",
            "description_tooltip": null,
            "layout": "IPY_MODEL_a623ebc69db448eab09b2e2bb4c9153c",
            "max": 14955,
            "min": 0,
            "orientation": "horizontal",
            "style": "IPY_MODEL_9c0997fb7a624ca7ae5bfc4283e74c71",
            "value": 14955
          }
        },
        "9e16f33351f44b27b07d2db4594ed7e9": {
          "model_module": "@jupyter-widgets/controls",
          "model_name": "HTMLModel",
          "model_module_version": "1.5.0",
          "state": {
            "_dom_classes": [],
            "_model_module": "@jupyter-widgets/controls",
            "_model_module_version": "1.5.0",
            "_model_name": "HTMLModel",
            "_view_count": null,
            "_view_module": "@jupyter-widgets/controls",
            "_view_module_version": "1.5.0",
            "_view_name": "HTMLView",
            "description": "",
            "description_tooltip": null,
            "layout": "IPY_MODEL_7a63ff3f62314e19aa2b3f598cccb4f9",
            "placeholder": "​",
            "style": "IPY_MODEL_343f2437895547f5aeef04114ea26a69",
            "value": " 15.0k/15.0k [00:00&lt;00:00, 152kB/s]"
          }
        },
        "07429e62a7544399a650a65ea669877f": {
          "model_module": "@jupyter-widgets/base",
          "model_name": "LayoutModel",
          "model_module_version": "1.2.0",
          "state": {
            "_model_module": "@jupyter-widgets/base",
            "_model_module_version": "1.2.0",
            "_model_name": "LayoutModel",
            "_view_count": null,
            "_view_module": "@jupyter-widgets/base",
            "_view_module_version": "1.2.0",
            "_view_name": "LayoutView",
            "align_content": null,
            "align_items": null,
            "align_self": null,
            "border": null,
            "bottom": null,
            "display": null,
            "flex": null,
            "flex_flow": null,
            "grid_area": null,
            "grid_auto_columns": null,
            "grid_auto_flow": null,
            "grid_auto_rows": null,
            "grid_column": null,
            "grid_gap": null,
            "grid_row": null,
            "grid_template_areas": null,
            "grid_template_columns": null,
            "grid_template_rows": null,
            "height": null,
            "justify_content": null,
            "justify_items": null,
            "left": null,
            "margin": null,
            "max_height": null,
            "max_width": null,
            "min_height": null,
            "min_width": null,
            "object_fit": null,
            "object_position": null,
            "order": null,
            "overflow": null,
            "overflow_x": null,
            "overflow_y": null,
            "padding": null,
            "right": null,
            "top": null,
            "visibility": null,
            "width": null
          }
        },
        "ba35cbb18771465ca24ed5e1173d6a57": {
          "model_module": "@jupyter-widgets/base",
          "model_name": "LayoutModel",
          "model_module_version": "1.2.0",
          "state": {
            "_model_module": "@jupyter-widgets/base",
            "_model_module_version": "1.2.0",
            "_model_name": "LayoutModel",
            "_view_count": null,
            "_view_module": "@jupyter-widgets/base",
            "_view_module_version": "1.2.0",
            "_view_name": "LayoutView",
            "align_content": null,
            "align_items": null,
            "align_self": null,
            "border": null,
            "bottom": null,
            "display": null,
            "flex": null,
            "flex_flow": null,
            "grid_area": null,
            "grid_auto_columns": null,
            "grid_auto_flow": null,
            "grid_auto_rows": null,
            "grid_column": null,
            "grid_gap": null,
            "grid_row": null,
            "grid_template_areas": null,
            "grid_template_columns": null,
            "grid_template_rows": null,
            "height": null,
            "justify_content": null,
            "justify_items": null,
            "left": null,
            "margin": null,
            "max_height": null,
            "max_width": null,
            "min_height": null,
            "min_width": null,
            "object_fit": null,
            "object_position": null,
            "order": null,
            "overflow": null,
            "overflow_x": null,
            "overflow_y": null,
            "padding": null,
            "right": null,
            "top": null,
            "visibility": null,
            "width": null
          }
        },
        "2aec523dc8584a339ade0984b95f3dfb": {
          "model_module": "@jupyter-widgets/controls",
          "model_name": "DescriptionStyleModel",
          "model_module_version": "1.5.0",
          "state": {
            "_model_module": "@jupyter-widgets/controls",
            "_model_module_version": "1.5.0",
            "_model_name": "DescriptionStyleModel",
            "_view_count": null,
            "_view_module": "@jupyter-widgets/base",
            "_view_module_version": "1.2.0",
            "_view_name": "StyleView",
            "description_width": ""
          }
        },
        "a623ebc69db448eab09b2e2bb4c9153c": {
          "model_module": "@jupyter-widgets/base",
          "model_name": "LayoutModel",
          "model_module_version": "1.2.0",
          "state": {
            "_model_module": "@jupyter-widgets/base",
            "_model_module_version": "1.2.0",
            "_model_name": "LayoutModel",
            "_view_count": null,
            "_view_module": "@jupyter-widgets/base",
            "_view_module_version": "1.2.0",
            "_view_name": "LayoutView",
            "align_content": null,
            "align_items": null,
            "align_self": null,
            "border": null,
            "bottom": null,
            "display": null,
            "flex": null,
            "flex_flow": null,
            "grid_area": null,
            "grid_auto_columns": null,
            "grid_auto_flow": null,
            "grid_auto_rows": null,
            "grid_column": null,
            "grid_gap": null,
            "grid_row": null,
            "grid_template_areas": null,
            "grid_template_columns": null,
            "grid_template_rows": null,
            "height": null,
            "justify_content": null,
            "justify_items": null,
            "left": null,
            "margin": null,
            "max_height": null,
            "max_width": null,
            "min_height": null,
            "min_width": null,
            "object_fit": null,
            "object_position": null,
            "order": null,
            "overflow": null,
            "overflow_x": null,
            "overflow_y": null,
            "padding": null,
            "right": null,
            "top": null,
            "visibility": null,
            "width": null
          }
        },
        "9c0997fb7a624ca7ae5bfc4283e74c71": {
          "model_module": "@jupyter-widgets/controls",
          "model_name": "ProgressStyleModel",
          "model_module_version": "1.5.0",
          "state": {
            "_model_module": "@jupyter-widgets/controls",
            "_model_module_version": "1.5.0",
            "_model_name": "ProgressStyleModel",
            "_view_count": null,
            "_view_module": "@jupyter-widgets/base",
            "_view_module_version": "1.2.0",
            "_view_name": "StyleView",
            "bar_color": null,
            "description_width": ""
          }
        },
        "7a63ff3f62314e19aa2b3f598cccb4f9": {
          "model_module": "@jupyter-widgets/base",
          "model_name": "LayoutModel",
          "model_module_version": "1.2.0",
          "state": {
            "_model_module": "@jupyter-widgets/base",
            "_model_module_version": "1.2.0",
            "_model_name": "LayoutModel",
            "_view_count": null,
            "_view_module": "@jupyter-widgets/base",
            "_view_module_version": "1.2.0",
            "_view_name": "LayoutView",
            "align_content": null,
            "align_items": null,
            "align_self": null,
            "border": null,
            "bottom": null,
            "display": null,
            "flex": null,
            "flex_flow": null,
            "grid_area": null,
            "grid_auto_columns": null,
            "grid_auto_flow": null,
            "grid_auto_rows": null,
            "grid_column": null,
            "grid_gap": null,
            "grid_row": null,
            "grid_template_areas": null,
            "grid_template_columns": null,
            "grid_template_rows": null,
            "height": null,
            "justify_content": null,
            "justify_items": null,
            "left": null,
            "margin": null,
            "max_height": null,
            "max_width": null,
            "min_height": null,
            "min_width": null,
            "object_fit": null,
            "object_position": null,
            "order": null,
            "overflow": null,
            "overflow_x": null,
            "overflow_y": null,
            "padding": null,
            "right": null,
            "top": null,
            "visibility": null,
            "width": null
          }
        },
        "343f2437895547f5aeef04114ea26a69": {
          "model_module": "@jupyter-widgets/controls",
          "model_name": "DescriptionStyleModel",
          "model_module_version": "1.5.0",
          "state": {
            "_model_module": "@jupyter-widgets/controls",
            "_model_module_version": "1.5.0",
            "_model_name": "DescriptionStyleModel",
            "_view_count": null,
            "_view_module": "@jupyter-widgets/base",
            "_view_module_version": "1.2.0",
            "_view_name": "StyleView",
            "description_width": ""
          }
        },
        "59c00f11c5ff47d6aaa99601908d7024": {
          "model_module": "@jupyter-widgets/controls",
          "model_name": "HBoxModel",
          "model_module_version": "1.5.0",
          "state": {
            "_dom_classes": [],
            "_model_module": "@jupyter-widgets/controls",
            "_model_module_version": "1.5.0",
            "_model_name": "HBoxModel",
            "_view_count": null,
            "_view_module": "@jupyter-widgets/controls",
            "_view_module_version": "1.5.0",
            "_view_name": "HBoxView",
            "box_style": "",
            "children": [
              "IPY_MODEL_dd11d11c98fc44c9b798c049fb1b86ea",
              "IPY_MODEL_cd0565d72ad944cf9b1e37aa3f51be82",
              "IPY_MODEL_b368721b06ff47dcb0075631c0071e91"
            ],
            "layout": "IPY_MODEL_d6c4e95a7e4445cda14a0e0e39c45f28"
          }
        },
        "dd11d11c98fc44c9b798c049fb1b86ea": {
          "model_module": "@jupyter-widgets/controls",
          "model_name": "HTMLModel",
          "model_module_version": "1.5.0",
          "state": {
            "_dom_classes": [],
            "_model_module": "@jupyter-widgets/controls",
            "_model_module_version": "1.5.0",
            "_model_name": "HTMLModel",
            "_view_count": null,
            "_view_module": "@jupyter-widgets/controls",
            "_view_module_version": "1.5.0",
            "_view_name": "HTMLView",
            "description": "",
            "description_tooltip": null,
            "layout": "IPY_MODEL_3edcf2229ccf43809da533a8837f6311",
            "placeholder": "​",
            "style": "IPY_MODEL_f7b9b3b42e754b058320eeda3b1a4156",
            "value": "config_sentence_transformers.json: 100%"
          }
        },
        "cd0565d72ad944cf9b1e37aa3f51be82": {
          "model_module": "@jupyter-widgets/controls",
          "model_name": "FloatProgressModel",
          "model_module_version": "1.5.0",
          "state": {
            "_dom_classes": [],
            "_model_module": "@jupyter-widgets/controls",
            "_model_module_version": "1.5.0",
            "_model_name": "FloatProgressModel",
            "_view_count": null,
            "_view_module": "@jupyter-widgets/controls",
            "_view_module_version": "1.5.0",
            "_view_name": "ProgressView",
            "bar_style": "success",
            "description": "",
            "description_tooltip": null,
            "layout": "IPY_MODEL_db5da3607c0d4e4982225fd5b1a9d190",
            "max": 123,
            "min": 0,
            "orientation": "horizontal",
            "style": "IPY_MODEL_fc762b67f31148ff98b870a6eb51e14a",
            "value": 123
          }
        },
        "b368721b06ff47dcb0075631c0071e91": {
          "model_module": "@jupyter-widgets/controls",
          "model_name": "HTMLModel",
          "model_module_version": "1.5.0",
          "state": {
            "_dom_classes": [],
            "_model_module": "@jupyter-widgets/controls",
            "_model_module_version": "1.5.0",
            "_model_name": "HTMLModel",
            "_view_count": null,
            "_view_module": "@jupyter-widgets/controls",
            "_view_module_version": "1.5.0",
            "_view_name": "HTMLView",
            "description": "",
            "description_tooltip": null,
            "layout": "IPY_MODEL_332a8a3306c54accbe55b3d3ab9461fd",
            "placeholder": "​",
            "style": "IPY_MODEL_bbbd23ee2ab1414999083695fbffda5b",
            "value": " 123/123 [00:00&lt;00:00, 1.22kB/s]"
          }
        },
        "d6c4e95a7e4445cda14a0e0e39c45f28": {
          "model_module": "@jupyter-widgets/base",
          "model_name": "LayoutModel",
          "model_module_version": "1.2.0",
          "state": {
            "_model_module": "@jupyter-widgets/base",
            "_model_module_version": "1.2.0",
            "_model_name": "LayoutModel",
            "_view_count": null,
            "_view_module": "@jupyter-widgets/base",
            "_view_module_version": "1.2.0",
            "_view_name": "LayoutView",
            "align_content": null,
            "align_items": null,
            "align_self": null,
            "border": null,
            "bottom": null,
            "display": null,
            "flex": null,
            "flex_flow": null,
            "grid_area": null,
            "grid_auto_columns": null,
            "grid_auto_flow": null,
            "grid_auto_rows": null,
            "grid_column": null,
            "grid_gap": null,
            "grid_row": null,
            "grid_template_areas": null,
            "grid_template_columns": null,
            "grid_template_rows": null,
            "height": null,
            "justify_content": null,
            "justify_items": null,
            "left": null,
            "margin": null,
            "max_height": null,
            "max_width": null,
            "min_height": null,
            "min_width": null,
            "object_fit": null,
            "object_position": null,
            "order": null,
            "overflow": null,
            "overflow_x": null,
            "overflow_y": null,
            "padding": null,
            "right": null,
            "top": null,
            "visibility": null,
            "width": null
          }
        },
        "3edcf2229ccf43809da533a8837f6311": {
          "model_module": "@jupyter-widgets/base",
          "model_name": "LayoutModel",
          "model_module_version": "1.2.0",
          "state": {
            "_model_module": "@jupyter-widgets/base",
            "_model_module_version": "1.2.0",
            "_model_name": "LayoutModel",
            "_view_count": null,
            "_view_module": "@jupyter-widgets/base",
            "_view_module_version": "1.2.0",
            "_view_name": "LayoutView",
            "align_content": null,
            "align_items": null,
            "align_self": null,
            "border": null,
            "bottom": null,
            "display": null,
            "flex": null,
            "flex_flow": null,
            "grid_area": null,
            "grid_auto_columns": null,
            "grid_auto_flow": null,
            "grid_auto_rows": null,
            "grid_column": null,
            "grid_gap": null,
            "grid_row": null,
            "grid_template_areas": null,
            "grid_template_columns": null,
            "grid_template_rows": null,
            "height": null,
            "justify_content": null,
            "justify_items": null,
            "left": null,
            "margin": null,
            "max_height": null,
            "max_width": null,
            "min_height": null,
            "min_width": null,
            "object_fit": null,
            "object_position": null,
            "order": null,
            "overflow": null,
            "overflow_x": null,
            "overflow_y": null,
            "padding": null,
            "right": null,
            "top": null,
            "visibility": null,
            "width": null
          }
        },
        "f7b9b3b42e754b058320eeda3b1a4156": {
          "model_module": "@jupyter-widgets/controls",
          "model_name": "DescriptionStyleModel",
          "model_module_version": "1.5.0",
          "state": {
            "_model_module": "@jupyter-widgets/controls",
            "_model_module_version": "1.5.0",
            "_model_name": "DescriptionStyleModel",
            "_view_count": null,
            "_view_module": "@jupyter-widgets/base",
            "_view_module_version": "1.2.0",
            "_view_name": "StyleView",
            "description_width": ""
          }
        },
        "db5da3607c0d4e4982225fd5b1a9d190": {
          "model_module": "@jupyter-widgets/base",
          "model_name": "LayoutModel",
          "model_module_version": "1.2.0",
          "state": {
            "_model_module": "@jupyter-widgets/base",
            "_model_module_version": "1.2.0",
            "_model_name": "LayoutModel",
            "_view_count": null,
            "_view_module": "@jupyter-widgets/base",
            "_view_module_version": "1.2.0",
            "_view_name": "LayoutView",
            "align_content": null,
            "align_items": null,
            "align_self": null,
            "border": null,
            "bottom": null,
            "display": null,
            "flex": null,
            "flex_flow": null,
            "grid_area": null,
            "grid_auto_columns": null,
            "grid_auto_flow": null,
            "grid_auto_rows": null,
            "grid_column": null,
            "grid_gap": null,
            "grid_row": null,
            "grid_template_areas": null,
            "grid_template_columns": null,
            "grid_template_rows": null,
            "height": null,
            "justify_content": null,
            "justify_items": null,
            "left": null,
            "margin": null,
            "max_height": null,
            "max_width": null,
            "min_height": null,
            "min_width": null,
            "object_fit": null,
            "object_position": null,
            "order": null,
            "overflow": null,
            "overflow_x": null,
            "overflow_y": null,
            "padding": null,
            "right": null,
            "top": null,
            "visibility": null,
            "width": null
          }
        },
        "fc762b67f31148ff98b870a6eb51e14a": {
          "model_module": "@jupyter-widgets/controls",
          "model_name": "ProgressStyleModel",
          "model_module_version": "1.5.0",
          "state": {
            "_model_module": "@jupyter-widgets/controls",
            "_model_module_version": "1.5.0",
            "_model_name": "ProgressStyleModel",
            "_view_count": null,
            "_view_module": "@jupyter-widgets/base",
            "_view_module_version": "1.2.0",
            "_view_name": "StyleView",
            "bar_color": null,
            "description_width": ""
          }
        },
        "332a8a3306c54accbe55b3d3ab9461fd": {
          "model_module": "@jupyter-widgets/base",
          "model_name": "LayoutModel",
          "model_module_version": "1.2.0",
          "state": {
            "_model_module": "@jupyter-widgets/base",
            "_model_module_version": "1.2.0",
            "_model_name": "LayoutModel",
            "_view_count": null,
            "_view_module": "@jupyter-widgets/base",
            "_view_module_version": "1.2.0",
            "_view_name": "LayoutView",
            "align_content": null,
            "align_items": null,
            "align_self": null,
            "border": null,
            "bottom": null,
            "display": null,
            "flex": null,
            "flex_flow": null,
            "grid_area": null,
            "grid_auto_columns": null,
            "grid_auto_flow": null,
            "grid_auto_rows": null,
            "grid_column": null,
            "grid_gap": null,
            "grid_row": null,
            "grid_template_areas": null,
            "grid_template_columns": null,
            "grid_template_rows": null,
            "height": null,
            "justify_content": null,
            "justify_items": null,
            "left": null,
            "margin": null,
            "max_height": null,
            "max_width": null,
            "min_height": null,
            "min_width": null,
            "object_fit": null,
            "object_position": null,
            "order": null,
            "overflow": null,
            "overflow_x": null,
            "overflow_y": null,
            "padding": null,
            "right": null,
            "top": null,
            "visibility": null,
            "width": null
          }
        },
        "bbbd23ee2ab1414999083695fbffda5b": {
          "model_module": "@jupyter-widgets/controls",
          "model_name": "DescriptionStyleModel",
          "model_module_version": "1.5.0",
          "state": {
            "_model_module": "@jupyter-widgets/controls",
            "_model_module_version": "1.5.0",
            "_model_name": "DescriptionStyleModel",
            "_view_count": null,
            "_view_module": "@jupyter-widgets/base",
            "_view_module_version": "1.2.0",
            "_view_name": "StyleView",
            "description_width": ""
          }
        },
        "1bbebb54644c41cfbccee66f94e9760f": {
          "model_module": "@jupyter-widgets/controls",
          "model_name": "HBoxModel",
          "model_module_version": "1.5.0",
          "state": {
            "_dom_classes": [],
            "_model_module": "@jupyter-widgets/controls",
            "_model_module_version": "1.5.0",
            "_model_name": "HBoxModel",
            "_view_count": null,
            "_view_module": "@jupyter-widgets/controls",
            "_view_module_version": "1.5.0",
            "_view_name": "HBoxView",
            "box_style": "",
            "children": [
              "IPY_MODEL_465b28b9657f42bba151981a1903be41",
              "IPY_MODEL_43eab958de40409f90560cd3f3569d60",
              "IPY_MODEL_258f668f18954f2fbae0485398f96f21"
            ],
            "layout": "IPY_MODEL_6bd62535dc144a95b07094a380c35755"
          }
        },
        "465b28b9657f42bba151981a1903be41": {
          "model_module": "@jupyter-widgets/controls",
          "model_name": "HTMLModel",
          "model_module_version": "1.5.0",
          "state": {
            "_dom_classes": [],
            "_model_module": "@jupyter-widgets/controls",
            "_model_module_version": "1.5.0",
            "_model_name": "HTMLModel",
            "_view_count": null,
            "_view_module": "@jupyter-widgets/controls",
            "_view_module_version": "1.5.0",
            "_view_name": "HTMLView",
            "description": "",
            "description_tooltip": null,
            "layout": "IPY_MODEL_48ca29d08aed454cad339d63891d6e3f",
            "placeholder": "​",
            "style": "IPY_MODEL_7be8ff259d1f4036a9b21be935c5dea7",
            "value": "imgs/.DS_Store: 100%"
          }
        },
        "43eab958de40409f90560cd3f3569d60": {
          "model_module": "@jupyter-widgets/controls",
          "model_name": "FloatProgressModel",
          "model_module_version": "1.5.0",
          "state": {
            "_dom_classes": [],
            "_model_module": "@jupyter-widgets/controls",
            "_model_module_version": "1.5.0",
            "_model_name": "FloatProgressModel",
            "_view_count": null,
            "_view_module": "@jupyter-widgets/controls",
            "_view_module_version": "1.5.0",
            "_view_name": "ProgressView",
            "bar_style": "success",
            "description": "",
            "description_tooltip": null,
            "layout": "IPY_MODEL_90b6c402d4994cee87337a3139964c13",
            "max": 6148,
            "min": 0,
            "orientation": "horizontal",
            "style": "IPY_MODEL_cedd8656bf3c4226a3dd7229597e0dd8",
            "value": 6148
          }
        },
        "258f668f18954f2fbae0485398f96f21": {
          "model_module": "@jupyter-widgets/controls",
          "model_name": "HTMLModel",
          "model_module_version": "1.5.0",
          "state": {
            "_dom_classes": [],
            "_model_module": "@jupyter-widgets/controls",
            "_model_module_version": "1.5.0",
            "_model_name": "HTMLModel",
            "_view_count": null,
            "_view_module": "@jupyter-widgets/controls",
            "_view_module_version": "1.5.0",
            "_view_name": "HTMLView",
            "description": "",
            "description_tooltip": null,
            "layout": "IPY_MODEL_92e8ea27b41047c08a8b7494ece9a094",
            "placeholder": "​",
            "style": "IPY_MODEL_42910797643149338bc944ecb9648607",
            "value": " 6.15k/6.15k [00:00&lt;00:00, 63.5kB/s]"
          }
        },
        "6bd62535dc144a95b07094a380c35755": {
          "model_module": "@jupyter-widgets/base",
          "model_name": "LayoutModel",
          "model_module_version": "1.2.0",
          "state": {
            "_model_module": "@jupyter-widgets/base",
            "_model_module_version": "1.2.0",
            "_model_name": "LayoutModel",
            "_view_count": null,
            "_view_module": "@jupyter-widgets/base",
            "_view_module_version": "1.2.0",
            "_view_name": "LayoutView",
            "align_content": null,
            "align_items": null,
            "align_self": null,
            "border": null,
            "bottom": null,
            "display": null,
            "flex": null,
            "flex_flow": null,
            "grid_area": null,
            "grid_auto_columns": null,
            "grid_auto_flow": null,
            "grid_auto_rows": null,
            "grid_column": null,
            "grid_gap": null,
            "grid_row": null,
            "grid_template_areas": null,
            "grid_template_columns": null,
            "grid_template_rows": null,
            "height": null,
            "justify_content": null,
            "justify_items": null,
            "left": null,
            "margin": null,
            "max_height": null,
            "max_width": null,
            "min_height": null,
            "min_width": null,
            "object_fit": null,
            "object_position": null,
            "order": null,
            "overflow": null,
            "overflow_x": null,
            "overflow_y": null,
            "padding": null,
            "right": null,
            "top": null,
            "visibility": null,
            "width": null
          }
        },
        "48ca29d08aed454cad339d63891d6e3f": {
          "model_module": "@jupyter-widgets/base",
          "model_name": "LayoutModel",
          "model_module_version": "1.2.0",
          "state": {
            "_model_module": "@jupyter-widgets/base",
            "_model_module_version": "1.2.0",
            "_model_name": "LayoutModel",
            "_view_count": null,
            "_view_module": "@jupyter-widgets/base",
            "_view_module_version": "1.2.0",
            "_view_name": "LayoutView",
            "align_content": null,
            "align_items": null,
            "align_self": null,
            "border": null,
            "bottom": null,
            "display": null,
            "flex": null,
            "flex_flow": null,
            "grid_area": null,
            "grid_auto_columns": null,
            "grid_auto_flow": null,
            "grid_auto_rows": null,
            "grid_column": null,
            "grid_gap": null,
            "grid_row": null,
            "grid_template_areas": null,
            "grid_template_columns": null,
            "grid_template_rows": null,
            "height": null,
            "justify_content": null,
            "justify_items": null,
            "left": null,
            "margin": null,
            "max_height": null,
            "max_width": null,
            "min_height": null,
            "min_width": null,
            "object_fit": null,
            "object_position": null,
            "order": null,
            "overflow": null,
            "overflow_x": null,
            "overflow_y": null,
            "padding": null,
            "right": null,
            "top": null,
            "visibility": null,
            "width": null
          }
        },
        "7be8ff259d1f4036a9b21be935c5dea7": {
          "model_module": "@jupyter-widgets/controls",
          "model_name": "DescriptionStyleModel",
          "model_module_version": "1.5.0",
          "state": {
            "_model_module": "@jupyter-widgets/controls",
            "_model_module_version": "1.5.0",
            "_model_name": "DescriptionStyleModel",
            "_view_count": null,
            "_view_module": "@jupyter-widgets/base",
            "_view_module_version": "1.2.0",
            "_view_name": "StyleView",
            "description_width": ""
          }
        },
        "90b6c402d4994cee87337a3139964c13": {
          "model_module": "@jupyter-widgets/base",
          "model_name": "LayoutModel",
          "model_module_version": "1.2.0",
          "state": {
            "_model_module": "@jupyter-widgets/base",
            "_model_module_version": "1.2.0",
            "_model_name": "LayoutModel",
            "_view_count": null,
            "_view_module": "@jupyter-widgets/base",
            "_view_module_version": "1.2.0",
            "_view_name": "LayoutView",
            "align_content": null,
            "align_items": null,
            "align_self": null,
            "border": null,
            "bottom": null,
            "display": null,
            "flex": null,
            "flex_flow": null,
            "grid_area": null,
            "grid_auto_columns": null,
            "grid_auto_flow": null,
            "grid_auto_rows": null,
            "grid_column": null,
            "grid_gap": null,
            "grid_row": null,
            "grid_template_areas": null,
            "grid_template_columns": null,
            "grid_template_rows": null,
            "height": null,
            "justify_content": null,
            "justify_items": null,
            "left": null,
            "margin": null,
            "max_height": null,
            "max_width": null,
            "min_height": null,
            "min_width": null,
            "object_fit": null,
            "object_position": null,
            "order": null,
            "overflow": null,
            "overflow_x": null,
            "overflow_y": null,
            "padding": null,
            "right": null,
            "top": null,
            "visibility": null,
            "width": null
          }
        },
        "cedd8656bf3c4226a3dd7229597e0dd8": {
          "model_module": "@jupyter-widgets/controls",
          "model_name": "ProgressStyleModel",
          "model_module_version": "1.5.0",
          "state": {
            "_model_module": "@jupyter-widgets/controls",
            "_model_module_version": "1.5.0",
            "_model_name": "ProgressStyleModel",
            "_view_count": null,
            "_view_module": "@jupyter-widgets/base",
            "_view_module_version": "1.2.0",
            "_view_name": "StyleView",
            "bar_color": null,
            "description_width": ""
          }
        },
        "92e8ea27b41047c08a8b7494ece9a094": {
          "model_module": "@jupyter-widgets/base",
          "model_name": "LayoutModel",
          "model_module_version": "1.2.0",
          "state": {
            "_model_module": "@jupyter-widgets/base",
            "_model_module_version": "1.2.0",
            "_model_name": "LayoutModel",
            "_view_count": null,
            "_view_module": "@jupyter-widgets/base",
            "_view_module_version": "1.2.0",
            "_view_name": "LayoutView",
            "align_content": null,
            "align_items": null,
            "align_self": null,
            "border": null,
            "bottom": null,
            "display": null,
            "flex": null,
            "flex_flow": null,
            "grid_area": null,
            "grid_auto_columns": null,
            "grid_auto_flow": null,
            "grid_auto_rows": null,
            "grid_column": null,
            "grid_gap": null,
            "grid_row": null,
            "grid_template_areas": null,
            "grid_template_columns": null,
            "grid_template_rows": null,
            "height": null,
            "justify_content": null,
            "justify_items": null,
            "left": null,
            "margin": null,
            "max_height": null,
            "max_width": null,
            "min_height": null,
            "min_width": null,
            "object_fit": null,
            "object_position": null,
            "order": null,
            "overflow": null,
            "overflow_x": null,
            "overflow_y": null,
            "padding": null,
            "right": null,
            "top": null,
            "visibility": null,
            "width": null
          }
        },
        "42910797643149338bc944ecb9648607": {
          "model_module": "@jupyter-widgets/controls",
          "model_name": "DescriptionStyleModel",
          "model_module_version": "1.5.0",
          "state": {
            "_model_module": "@jupyter-widgets/controls",
            "_model_module_version": "1.5.0",
            "_model_name": "DescriptionStyleModel",
            "_view_count": null,
            "_view_module": "@jupyter-widgets/base",
            "_view_module_version": "1.2.0",
            "_view_name": "StyleView",
            "description_width": ""
          }
        },
        "abad31c7c6864d42966ac0ba0b3e43a5": {
          "model_module": "@jupyter-widgets/controls",
          "model_name": "HBoxModel",
          "model_module_version": "1.5.0",
          "state": {
            "_dom_classes": [],
            "_model_module": "@jupyter-widgets/controls",
            "_model_module_version": "1.5.0",
            "_model_name": "HBoxModel",
            "_view_count": null,
            "_view_module": "@jupyter-widgets/controls",
            "_view_module_version": "1.5.0",
            "_view_name": "HBoxView",
            "box_style": "",
            "children": [
              "IPY_MODEL_cb48b59f1b444a73a22b19351eac83ca",
              "IPY_MODEL_d654fd590cef4d759f26b5b8f326abff",
              "IPY_MODEL_a39bbe23c7ce42d8b8e6a475f73a1c59"
            ],
            "layout": "IPY_MODEL_c7068f355fb74464a3654e88fca11f1e"
          }
        },
        "cb48b59f1b444a73a22b19351eac83ca": {
          "model_module": "@jupyter-widgets/controls",
          "model_name": "HTMLModel",
          "model_module_version": "1.5.0",
          "state": {
            "_dom_classes": [],
            "_model_module": "@jupyter-widgets/controls",
            "_model_module_version": "1.5.0",
            "_model_name": "HTMLModel",
            "_view_count": null,
            "_view_module": "@jupyter-widgets/controls",
            "_view_module_version": "1.5.0",
            "_view_name": "HTMLView",
            "description": "",
            "description_tooltip": null,
            "layout": "IPY_MODEL_e2c83bc1e417497babd14dd9da9c3d67",
            "placeholder": "​",
            "style": "IPY_MODEL_e2d02a768c51497fbc3952d7d91ae1f6",
            "value": "imgs/bm25.jpg: 100%"
          }
        },
        "d654fd590cef4d759f26b5b8f326abff": {
          "model_module": "@jupyter-widgets/controls",
          "model_name": "FloatProgressModel",
          "model_module_version": "1.5.0",
          "state": {
            "_dom_classes": [],
            "_model_module": "@jupyter-widgets/controls",
            "_model_module_version": "1.5.0",
            "_model_name": "FloatProgressModel",
            "_view_count": null,
            "_view_module": "@jupyter-widgets/controls",
            "_view_module_version": "1.5.0",
            "_view_name": "ProgressView",
            "bar_style": "success",
            "description": "",
            "description_tooltip": null,
            "layout": "IPY_MODEL_178383934d2f4b53b67a6de86075e784",
            "max": 68964,
            "min": 0,
            "orientation": "horizontal",
            "style": "IPY_MODEL_53b8c60464db4b68a2ae668c7df09c81",
            "value": 68964
          }
        },
        "a39bbe23c7ce42d8b8e6a475f73a1c59": {
          "model_module": "@jupyter-widgets/controls",
          "model_name": "HTMLModel",
          "model_module_version": "1.5.0",
          "state": {
            "_dom_classes": [],
            "_model_module": "@jupyter-widgets/controls",
            "_model_module_version": "1.5.0",
            "_model_name": "HTMLModel",
            "_view_count": null,
            "_view_module": "@jupyter-widgets/controls",
            "_view_module_version": "1.5.0",
            "_view_name": "HTMLView",
            "description": "",
            "description_tooltip": null,
            "layout": "IPY_MODEL_0c2c650d3b744d57a1b573a79649d92d",
            "placeholder": "​",
            "style": "IPY_MODEL_7d3dda0997814987980d13117842da5e",
            "value": " 69.0k/69.0k [00:00&lt;00:00, 727kB/s]"
          }
        },
        "c7068f355fb74464a3654e88fca11f1e": {
          "model_module": "@jupyter-widgets/base",
          "model_name": "LayoutModel",
          "model_module_version": "1.2.0",
          "state": {
            "_model_module": "@jupyter-widgets/base",
            "_model_module_version": "1.2.0",
            "_model_name": "LayoutModel",
            "_view_count": null,
            "_view_module": "@jupyter-widgets/base",
            "_view_module_version": "1.2.0",
            "_view_name": "LayoutView",
            "align_content": null,
            "align_items": null,
            "align_self": null,
            "border": null,
            "bottom": null,
            "display": null,
            "flex": null,
            "flex_flow": null,
            "grid_area": null,
            "grid_auto_columns": null,
            "grid_auto_flow": null,
            "grid_auto_rows": null,
            "grid_column": null,
            "grid_gap": null,
            "grid_row": null,
            "grid_template_areas": null,
            "grid_template_columns": null,
            "grid_template_rows": null,
            "height": null,
            "justify_content": null,
            "justify_items": null,
            "left": null,
            "margin": null,
            "max_height": null,
            "max_width": null,
            "min_height": null,
            "min_width": null,
            "object_fit": null,
            "object_position": null,
            "order": null,
            "overflow": null,
            "overflow_x": null,
            "overflow_y": null,
            "padding": null,
            "right": null,
            "top": null,
            "visibility": null,
            "width": null
          }
        },
        "e2c83bc1e417497babd14dd9da9c3d67": {
          "model_module": "@jupyter-widgets/base",
          "model_name": "LayoutModel",
          "model_module_version": "1.2.0",
          "state": {
            "_model_module": "@jupyter-widgets/base",
            "_model_module_version": "1.2.0",
            "_model_name": "LayoutModel",
            "_view_count": null,
            "_view_module": "@jupyter-widgets/base",
            "_view_module_version": "1.2.0",
            "_view_name": "LayoutView",
            "align_content": null,
            "align_items": null,
            "align_self": null,
            "border": null,
            "bottom": null,
            "display": null,
            "flex": null,
            "flex_flow": null,
            "grid_area": null,
            "grid_auto_columns": null,
            "grid_auto_flow": null,
            "grid_auto_rows": null,
            "grid_column": null,
            "grid_gap": null,
            "grid_row": null,
            "grid_template_areas": null,
            "grid_template_columns": null,
            "grid_template_rows": null,
            "height": null,
            "justify_content": null,
            "justify_items": null,
            "left": null,
            "margin": null,
            "max_height": null,
            "max_width": null,
            "min_height": null,
            "min_width": null,
            "object_fit": null,
            "object_position": null,
            "order": null,
            "overflow": null,
            "overflow_x": null,
            "overflow_y": null,
            "padding": null,
            "right": null,
            "top": null,
            "visibility": null,
            "width": null
          }
        },
        "e2d02a768c51497fbc3952d7d91ae1f6": {
          "model_module": "@jupyter-widgets/controls",
          "model_name": "DescriptionStyleModel",
          "model_module_version": "1.5.0",
          "state": {
            "_model_module": "@jupyter-widgets/controls",
            "_model_module_version": "1.5.0",
            "_model_name": "DescriptionStyleModel",
            "_view_count": null,
            "_view_module": "@jupyter-widgets/base",
            "_view_module_version": "1.2.0",
            "_view_name": "StyleView",
            "description_width": ""
          }
        },
        "178383934d2f4b53b67a6de86075e784": {
          "model_module": "@jupyter-widgets/base",
          "model_name": "LayoutModel",
          "model_module_version": "1.2.0",
          "state": {
            "_model_module": "@jupyter-widgets/base",
            "_model_module_version": "1.2.0",
            "_model_name": "LayoutModel",
            "_view_count": null,
            "_view_module": "@jupyter-widgets/base",
            "_view_module_version": "1.2.0",
            "_view_name": "LayoutView",
            "align_content": null,
            "align_items": null,
            "align_self": null,
            "border": null,
            "bottom": null,
            "display": null,
            "flex": null,
            "flex_flow": null,
            "grid_area": null,
            "grid_auto_columns": null,
            "grid_auto_flow": null,
            "grid_auto_rows": null,
            "grid_column": null,
            "grid_gap": null,
            "grid_row": null,
            "grid_template_areas": null,
            "grid_template_columns": null,
            "grid_template_rows": null,
            "height": null,
            "justify_content": null,
            "justify_items": null,
            "left": null,
            "margin": null,
            "max_height": null,
            "max_width": null,
            "min_height": null,
            "min_width": null,
            "object_fit": null,
            "object_position": null,
            "order": null,
            "overflow": null,
            "overflow_x": null,
            "overflow_y": null,
            "padding": null,
            "right": null,
            "top": null,
            "visibility": null,
            "width": null
          }
        },
        "53b8c60464db4b68a2ae668c7df09c81": {
          "model_module": "@jupyter-widgets/controls",
          "model_name": "ProgressStyleModel",
          "model_module_version": "1.5.0",
          "state": {
            "_model_module": "@jupyter-widgets/controls",
            "_model_module_version": "1.5.0",
            "_model_name": "ProgressStyleModel",
            "_view_count": null,
            "_view_module": "@jupyter-widgets/base",
            "_view_module_version": "1.2.0",
            "_view_name": "StyleView",
            "bar_color": null,
            "description_width": ""
          }
        },
        "0c2c650d3b744d57a1b573a79649d92d": {
          "model_module": "@jupyter-widgets/base",
          "model_name": "LayoutModel",
          "model_module_version": "1.2.0",
          "state": {
            "_model_module": "@jupyter-widgets/base",
            "_model_module_version": "1.2.0",
            "_model_name": "LayoutModel",
            "_view_count": null,
            "_view_module": "@jupyter-widgets/base",
            "_view_module_version": "1.2.0",
            "_view_name": "LayoutView",
            "align_content": null,
            "align_items": null,
            "align_self": null,
            "border": null,
            "bottom": null,
            "display": null,
            "flex": null,
            "flex_flow": null,
            "grid_area": null,
            "grid_auto_columns": null,
            "grid_auto_flow": null,
            "grid_auto_rows": null,
            "grid_column": null,
            "grid_gap": null,
            "grid_row": null,
            "grid_template_areas": null,
            "grid_template_columns": null,
            "grid_template_rows": null,
            "height": null,
            "justify_content": null,
            "justify_items": null,
            "left": null,
            "margin": null,
            "max_height": null,
            "max_width": null,
            "min_height": null,
            "min_width": null,
            "object_fit": null,
            "object_position": null,
            "order": null,
            "overflow": null,
            "overflow_x": null,
            "overflow_y": null,
            "padding": null,
            "right": null,
            "top": null,
            "visibility": null,
            "width": null
          }
        },
        "7d3dda0997814987980d13117842da5e": {
          "model_module": "@jupyter-widgets/controls",
          "model_name": "DescriptionStyleModel",
          "model_module_version": "1.5.0",
          "state": {
            "_model_module": "@jupyter-widgets/controls",
            "_model_module_version": "1.5.0",
            "_model_name": "DescriptionStyleModel",
            "_view_count": null,
            "_view_module": "@jupyter-widgets/base",
            "_view_module_version": "1.2.0",
            "_view_name": "StyleView",
            "description_width": ""
          }
        },
        "a613ef1fd065478983e4bb3f22b8125a": {
          "model_module": "@jupyter-widgets/controls",
          "model_name": "HBoxModel",
          "model_module_version": "1.5.0",
          "state": {
            "_dom_classes": [],
            "_model_module": "@jupyter-widgets/controls",
            "_model_module_version": "1.5.0",
            "_model_name": "HBoxModel",
            "_view_count": null,
            "_view_module": "@jupyter-widgets/controls",
            "_view_module_version": "1.5.0",
            "_view_name": "HBoxView",
            "box_style": "",
            "children": [
              "IPY_MODEL_8201960739644ef088674b9734452d96",
              "IPY_MODEL_cc35f845afa54110acbdeadf791c3cc0",
              "IPY_MODEL_690a24db48114d6da196e75ce2052dfb"
            ],
            "layout": "IPY_MODEL_67c559ca2cb44a9988d94480db028aa0"
          }
        },
        "8201960739644ef088674b9734452d96": {
          "model_module": "@jupyter-widgets/controls",
          "model_name": "HTMLModel",
          "model_module_version": "1.5.0",
          "state": {
            "_dom_classes": [],
            "_model_module": "@jupyter-widgets/controls",
            "_model_module_version": "1.5.0",
            "_model_name": "HTMLModel",
            "_view_count": null,
            "_view_module": "@jupyter-widgets/controls",
            "_view_module_version": "1.5.0",
            "_view_name": "HTMLView",
            "description": "",
            "description_tooltip": null,
            "layout": "IPY_MODEL_6c2ce007334d432caf5f03dc9adfefcb",
            "placeholder": "​",
            "style": "IPY_MODEL_1944eede87564fda8f6663c71d6d3143",
            "value": "imgs/long.jpg: 100%"
          }
        },
        "cc35f845afa54110acbdeadf791c3cc0": {
          "model_module": "@jupyter-widgets/controls",
          "model_name": "FloatProgressModel",
          "model_module_version": "1.5.0",
          "state": {
            "_dom_classes": [],
            "_model_module": "@jupyter-widgets/controls",
            "_model_module_version": "1.5.0",
            "_model_name": "FloatProgressModel",
            "_view_count": null,
            "_view_module": "@jupyter-widgets/controls",
            "_view_module_version": "1.5.0",
            "_view_name": "ProgressView",
            "bar_style": "success",
            "description": "",
            "description_tooltip": null,
            "layout": "IPY_MODEL_5c5087beb778430dabdca279effc4db2",
            "max": 485432,
            "min": 0,
            "orientation": "horizontal",
            "style": "IPY_MODEL_57d0ca9dcb084994bebfd446ca919f8d",
            "value": 485432
          }
        },
        "690a24db48114d6da196e75ce2052dfb": {
          "model_module": "@jupyter-widgets/controls",
          "model_name": "HTMLModel",
          "model_module_version": "1.5.0",
          "state": {
            "_dom_classes": [],
            "_model_module": "@jupyter-widgets/controls",
            "_model_module_version": "1.5.0",
            "_model_name": "HTMLModel",
            "_view_count": null,
            "_view_module": "@jupyter-widgets/controls",
            "_view_module_version": "1.5.0",
            "_view_name": "HTMLView",
            "description": "",
            "description_tooltip": null,
            "layout": "IPY_MODEL_203aac8a47244900aad08508d2a0d5e3",
            "placeholder": "​",
            "style": "IPY_MODEL_a2420c0af10a4eff8f095c12c552a540",
            "value": " 485k/485k [00:00&lt;00:00, 3.11MB/s]"
          }
        },
        "67c559ca2cb44a9988d94480db028aa0": {
          "model_module": "@jupyter-widgets/base",
          "model_name": "LayoutModel",
          "model_module_version": "1.2.0",
          "state": {
            "_model_module": "@jupyter-widgets/base",
            "_model_module_version": "1.2.0",
            "_model_name": "LayoutModel",
            "_view_count": null,
            "_view_module": "@jupyter-widgets/base",
            "_view_module_version": "1.2.0",
            "_view_name": "LayoutView",
            "align_content": null,
            "align_items": null,
            "align_self": null,
            "border": null,
            "bottom": null,
            "display": null,
            "flex": null,
            "flex_flow": null,
            "grid_area": null,
            "grid_auto_columns": null,
            "grid_auto_flow": null,
            "grid_auto_rows": null,
            "grid_column": null,
            "grid_gap": null,
            "grid_row": null,
            "grid_template_areas": null,
            "grid_template_columns": null,
            "grid_template_rows": null,
            "height": null,
            "justify_content": null,
            "justify_items": null,
            "left": null,
            "margin": null,
            "max_height": null,
            "max_width": null,
            "min_height": null,
            "min_width": null,
            "object_fit": null,
            "object_position": null,
            "order": null,
            "overflow": null,
            "overflow_x": null,
            "overflow_y": null,
            "padding": null,
            "right": null,
            "top": null,
            "visibility": null,
            "width": null
          }
        },
        "6c2ce007334d432caf5f03dc9adfefcb": {
          "model_module": "@jupyter-widgets/base",
          "model_name": "LayoutModel",
          "model_module_version": "1.2.0",
          "state": {
            "_model_module": "@jupyter-widgets/base",
            "_model_module_version": "1.2.0",
            "_model_name": "LayoutModel",
            "_view_count": null,
            "_view_module": "@jupyter-widgets/base",
            "_view_module_version": "1.2.0",
            "_view_name": "LayoutView",
            "align_content": null,
            "align_items": null,
            "align_self": null,
            "border": null,
            "bottom": null,
            "display": null,
            "flex": null,
            "flex_flow": null,
            "grid_area": null,
            "grid_auto_columns": null,
            "grid_auto_flow": null,
            "grid_auto_rows": null,
            "grid_column": null,
            "grid_gap": null,
            "grid_row": null,
            "grid_template_areas": null,
            "grid_template_columns": null,
            "grid_template_rows": null,
            "height": null,
            "justify_content": null,
            "justify_items": null,
            "left": null,
            "margin": null,
            "max_height": null,
            "max_width": null,
            "min_height": null,
            "min_width": null,
            "object_fit": null,
            "object_position": null,
            "order": null,
            "overflow": null,
            "overflow_x": null,
            "overflow_y": null,
            "padding": null,
            "right": null,
            "top": null,
            "visibility": null,
            "width": null
          }
        },
        "1944eede87564fda8f6663c71d6d3143": {
          "model_module": "@jupyter-widgets/controls",
          "model_name": "DescriptionStyleModel",
          "model_module_version": "1.5.0",
          "state": {
            "_model_module": "@jupyter-widgets/controls",
            "_model_module_version": "1.5.0",
            "_model_name": "DescriptionStyleModel",
            "_view_count": null,
            "_view_module": "@jupyter-widgets/base",
            "_view_module_version": "1.2.0",
            "_view_name": "StyleView",
            "description_width": ""
          }
        },
        "5c5087beb778430dabdca279effc4db2": {
          "model_module": "@jupyter-widgets/base",
          "model_name": "LayoutModel",
          "model_module_version": "1.2.0",
          "state": {
            "_model_module": "@jupyter-widgets/base",
            "_model_module_version": "1.2.0",
            "_model_name": "LayoutModel",
            "_view_count": null,
            "_view_module": "@jupyter-widgets/base",
            "_view_module_version": "1.2.0",
            "_view_name": "LayoutView",
            "align_content": null,
            "align_items": null,
            "align_self": null,
            "border": null,
            "bottom": null,
            "display": null,
            "flex": null,
            "flex_flow": null,
            "grid_area": null,
            "grid_auto_columns": null,
            "grid_auto_flow": null,
            "grid_auto_rows": null,
            "grid_column": null,
            "grid_gap": null,
            "grid_row": null,
            "grid_template_areas": null,
            "grid_template_columns": null,
            "grid_template_rows": null,
            "height": null,
            "justify_content": null,
            "justify_items": null,
            "left": null,
            "margin": null,
            "max_height": null,
            "max_width": null,
            "min_height": null,
            "min_width": null,
            "object_fit": null,
            "object_position": null,
            "order": null,
            "overflow": null,
            "overflow_x": null,
            "overflow_y": null,
            "padding": null,
            "right": null,
            "top": null,
            "visibility": null,
            "width": null
          }
        },
        "57d0ca9dcb084994bebfd446ca919f8d": {
          "model_module": "@jupyter-widgets/controls",
          "model_name": "ProgressStyleModel",
          "model_module_version": "1.5.0",
          "state": {
            "_model_module": "@jupyter-widgets/controls",
            "_model_module_version": "1.5.0",
            "_model_name": "ProgressStyleModel",
            "_view_count": null,
            "_view_module": "@jupyter-widgets/base",
            "_view_module_version": "1.2.0",
            "_view_name": "StyleView",
            "bar_color": null,
            "description_width": ""
          }
        },
        "203aac8a47244900aad08508d2a0d5e3": {
          "model_module": "@jupyter-widgets/base",
          "model_name": "LayoutModel",
          "model_module_version": "1.2.0",
          "state": {
            "_model_module": "@jupyter-widgets/base",
            "_model_module_version": "1.2.0",
            "_model_name": "LayoutModel",
            "_view_count": null,
            "_view_module": "@jupyter-widgets/base",
            "_view_module_version": "1.2.0",
            "_view_name": "LayoutView",
            "align_content": null,
            "align_items": null,
            "align_self": null,
            "border": null,
            "bottom": null,
            "display": null,
            "flex": null,
            "flex_flow": null,
            "grid_area": null,
            "grid_auto_columns": null,
            "grid_auto_flow": null,
            "grid_auto_rows": null,
            "grid_column": null,
            "grid_gap": null,
            "grid_row": null,
            "grid_template_areas": null,
            "grid_template_columns": null,
            "grid_template_rows": null,
            "height": null,
            "justify_content": null,
            "justify_items": null,
            "left": null,
            "margin": null,
            "max_height": null,
            "max_width": null,
            "min_height": null,
            "min_width": null,
            "object_fit": null,
            "object_position": null,
            "order": null,
            "overflow": null,
            "overflow_x": null,
            "overflow_y": null,
            "padding": null,
            "right": null,
            "top": null,
            "visibility": null,
            "width": null
          }
        },
        "a2420c0af10a4eff8f095c12c552a540": {
          "model_module": "@jupyter-widgets/controls",
          "model_name": "DescriptionStyleModel",
          "model_module_version": "1.5.0",
          "state": {
            "_model_module": "@jupyter-widgets/controls",
            "_model_module_version": "1.5.0",
            "_model_name": "DescriptionStyleModel",
            "_view_count": null,
            "_view_module": "@jupyter-widgets/base",
            "_view_module_version": "1.2.0",
            "_view_name": "StyleView",
            "description_width": ""
          }
        },
        "1bb2640959994583aab939fbf32ad03f": {
          "model_module": "@jupyter-widgets/controls",
          "model_name": "HBoxModel",
          "model_module_version": "1.5.0",
          "state": {
            "_dom_classes": [],
            "_model_module": "@jupyter-widgets/controls",
            "_model_module_version": "1.5.0",
            "_model_name": "HBoxModel",
            "_view_count": null,
            "_view_module": "@jupyter-widgets/controls",
            "_view_module_version": "1.5.0",
            "_view_name": "HBoxView",
            "box_style": "",
            "children": [
              "IPY_MODEL_b527533c62fa4db89c55dbe6901e4af4",
              "IPY_MODEL_55da65d2caf64867b047f26ff18a2318",
              "IPY_MODEL_a40c3b6ad53c43b2b763c02e6c392535"
            ],
            "layout": "IPY_MODEL_933e6694ef8d40379de091123da90eff"
          }
        },
        "b527533c62fa4db89c55dbe6901e4af4": {
          "model_module": "@jupyter-widgets/controls",
          "model_name": "HTMLModel",
          "model_module_version": "1.5.0",
          "state": {
            "_dom_classes": [],
            "_model_module": "@jupyter-widgets/controls",
            "_model_module_version": "1.5.0",
            "_model_name": "HTMLModel",
            "_view_count": null,
            "_view_module": "@jupyter-widgets/controls",
            "_view_module_version": "1.5.0",
            "_view_name": "HTMLView",
            "description": "",
            "description_tooltip": null,
            "layout": "IPY_MODEL_5db2f09c3623415ea3dfe6d9e1b9c3c0",
            "placeholder": "​",
            "style": "IPY_MODEL_06d368a0387444eaa7a1ae18584ae69d",
            "value": "imgs/mkqa.jpg: 100%"
          }
        },
        "55da65d2caf64867b047f26ff18a2318": {
          "model_module": "@jupyter-widgets/controls",
          "model_name": "FloatProgressModel",
          "model_module_version": "1.5.0",
          "state": {
            "_dom_classes": [],
            "_model_module": "@jupyter-widgets/controls",
            "_model_module_version": "1.5.0",
            "_model_name": "FloatProgressModel",
            "_view_count": null,
            "_view_module": "@jupyter-widgets/controls",
            "_view_module_version": "1.5.0",
            "_view_name": "ProgressView",
            "bar_style": "success",
            "description": "",
            "description_tooltip": null,
            "layout": "IPY_MODEL_b20e36c4c9904a298d12e7abc1b23d29",
            "max": 608027,
            "min": 0,
            "orientation": "horizontal",
            "style": "IPY_MODEL_59de4bbad7354ea08fcd44dc244ad136",
            "value": 608027
          }
        },
        "a40c3b6ad53c43b2b763c02e6c392535": {
          "model_module": "@jupyter-widgets/controls",
          "model_name": "HTMLModel",
          "model_module_version": "1.5.0",
          "state": {
            "_dom_classes": [],
            "_model_module": "@jupyter-widgets/controls",
            "_model_module_version": "1.5.0",
            "_model_name": "HTMLModel",
            "_view_count": null,
            "_view_module": "@jupyter-widgets/controls",
            "_view_module_version": "1.5.0",
            "_view_name": "HTMLView",
            "description": "",
            "description_tooltip": null,
            "layout": "IPY_MODEL_42296f386b064dd4b7fd2623474f1c33",
            "placeholder": "​",
            "style": "IPY_MODEL_c545b573d83e4f63a80687b984088bf3",
            "value": " 608k/608k [00:00&lt;00:00, 2.32MB/s]"
          }
        },
        "933e6694ef8d40379de091123da90eff": {
          "model_module": "@jupyter-widgets/base",
          "model_name": "LayoutModel",
          "model_module_version": "1.2.0",
          "state": {
            "_model_module": "@jupyter-widgets/base",
            "_model_module_version": "1.2.0",
            "_model_name": "LayoutModel",
            "_view_count": null,
            "_view_module": "@jupyter-widgets/base",
            "_view_module_version": "1.2.0",
            "_view_name": "LayoutView",
            "align_content": null,
            "align_items": null,
            "align_self": null,
            "border": null,
            "bottom": null,
            "display": null,
            "flex": null,
            "flex_flow": null,
            "grid_area": null,
            "grid_auto_columns": null,
            "grid_auto_flow": null,
            "grid_auto_rows": null,
            "grid_column": null,
            "grid_gap": null,
            "grid_row": null,
            "grid_template_areas": null,
            "grid_template_columns": null,
            "grid_template_rows": null,
            "height": null,
            "justify_content": null,
            "justify_items": null,
            "left": null,
            "margin": null,
            "max_height": null,
            "max_width": null,
            "min_height": null,
            "min_width": null,
            "object_fit": null,
            "object_position": null,
            "order": null,
            "overflow": null,
            "overflow_x": null,
            "overflow_y": null,
            "padding": null,
            "right": null,
            "top": null,
            "visibility": null,
            "width": null
          }
        },
        "5db2f09c3623415ea3dfe6d9e1b9c3c0": {
          "model_module": "@jupyter-widgets/base",
          "model_name": "LayoutModel",
          "model_module_version": "1.2.0",
          "state": {
            "_model_module": "@jupyter-widgets/base",
            "_model_module_version": "1.2.0",
            "_model_name": "LayoutModel",
            "_view_count": null,
            "_view_module": "@jupyter-widgets/base",
            "_view_module_version": "1.2.0",
            "_view_name": "LayoutView",
            "align_content": null,
            "align_items": null,
            "align_self": null,
            "border": null,
            "bottom": null,
            "display": null,
            "flex": null,
            "flex_flow": null,
            "grid_area": null,
            "grid_auto_columns": null,
            "grid_auto_flow": null,
            "grid_auto_rows": null,
            "grid_column": null,
            "grid_gap": null,
            "grid_row": null,
            "grid_template_areas": null,
            "grid_template_columns": null,
            "grid_template_rows": null,
            "height": null,
            "justify_content": null,
            "justify_items": null,
            "left": null,
            "margin": null,
            "max_height": null,
            "max_width": null,
            "min_height": null,
            "min_width": null,
            "object_fit": null,
            "object_position": null,
            "order": null,
            "overflow": null,
            "overflow_x": null,
            "overflow_y": null,
            "padding": null,
            "right": null,
            "top": null,
            "visibility": null,
            "width": null
          }
        },
        "06d368a0387444eaa7a1ae18584ae69d": {
          "model_module": "@jupyter-widgets/controls",
          "model_name": "DescriptionStyleModel",
          "model_module_version": "1.5.0",
          "state": {
            "_model_module": "@jupyter-widgets/controls",
            "_model_module_version": "1.5.0",
            "_model_name": "DescriptionStyleModel",
            "_view_count": null,
            "_view_module": "@jupyter-widgets/base",
            "_view_module_version": "1.2.0",
            "_view_name": "StyleView",
            "description_width": ""
          }
        },
        "b20e36c4c9904a298d12e7abc1b23d29": {
          "model_module": "@jupyter-widgets/base",
          "model_name": "LayoutModel",
          "model_module_version": "1.2.0",
          "state": {
            "_model_module": "@jupyter-widgets/base",
            "_model_module_version": "1.2.0",
            "_model_name": "LayoutModel",
            "_view_count": null,
            "_view_module": "@jupyter-widgets/base",
            "_view_module_version": "1.2.0",
            "_view_name": "LayoutView",
            "align_content": null,
            "align_items": null,
            "align_self": null,
            "border": null,
            "bottom": null,
            "display": null,
            "flex": null,
            "flex_flow": null,
            "grid_area": null,
            "grid_auto_columns": null,
            "grid_auto_flow": null,
            "grid_auto_rows": null,
            "grid_column": null,
            "grid_gap": null,
            "grid_row": null,
            "grid_template_areas": null,
            "grid_template_columns": null,
            "grid_template_rows": null,
            "height": null,
            "justify_content": null,
            "justify_items": null,
            "left": null,
            "margin": null,
            "max_height": null,
            "max_width": null,
            "min_height": null,
            "min_width": null,
            "object_fit": null,
            "object_position": null,
            "order": null,
            "overflow": null,
            "overflow_x": null,
            "overflow_y": null,
            "padding": null,
            "right": null,
            "top": null,
            "visibility": null,
            "width": null
          }
        },
        "59de4bbad7354ea08fcd44dc244ad136": {
          "model_module": "@jupyter-widgets/controls",
          "model_name": "ProgressStyleModel",
          "model_module_version": "1.5.0",
          "state": {
            "_model_module": "@jupyter-widgets/controls",
            "_model_module_version": "1.5.0",
            "_model_name": "ProgressStyleModel",
            "_view_count": null,
            "_view_module": "@jupyter-widgets/base",
            "_view_module_version": "1.2.0",
            "_view_name": "StyleView",
            "bar_color": null,
            "description_width": ""
          }
        },
        "42296f386b064dd4b7fd2623474f1c33": {
          "model_module": "@jupyter-widgets/base",
          "model_name": "LayoutModel",
          "model_module_version": "1.2.0",
          "state": {
            "_model_module": "@jupyter-widgets/base",
            "_model_module_version": "1.2.0",
            "_model_name": "LayoutModel",
            "_view_count": null,
            "_view_module": "@jupyter-widgets/base",
            "_view_module_version": "1.2.0",
            "_view_name": "LayoutView",
            "align_content": null,
            "align_items": null,
            "align_self": null,
            "border": null,
            "bottom": null,
            "display": null,
            "flex": null,
            "flex_flow": null,
            "grid_area": null,
            "grid_auto_columns": null,
            "grid_auto_flow": null,
            "grid_auto_rows": null,
            "grid_column": null,
            "grid_gap": null,
            "grid_row": null,
            "grid_template_areas": null,
            "grid_template_columns": null,
            "grid_template_rows": null,
            "height": null,
            "justify_content": null,
            "justify_items": null,
            "left": null,
            "margin": null,
            "max_height": null,
            "max_width": null,
            "min_height": null,
            "min_width": null,
            "object_fit": null,
            "object_position": null,
            "order": null,
            "overflow": null,
            "overflow_x": null,
            "overflow_y": null,
            "padding": null,
            "right": null,
            "top": null,
            "visibility": null,
            "width": null
          }
        },
        "c545b573d83e4f63a80687b984088bf3": {
          "model_module": "@jupyter-widgets/controls",
          "model_name": "DescriptionStyleModel",
          "model_module_version": "1.5.0",
          "state": {
            "_model_module": "@jupyter-widgets/controls",
            "_model_module_version": "1.5.0",
            "_model_name": "DescriptionStyleModel",
            "_view_count": null,
            "_view_module": "@jupyter-widgets/base",
            "_view_module_version": "1.2.0",
            "_view_name": "StyleView",
            "description_width": ""
          }
        },
        "77a1e4fb9c46401a92072402d7e12d9d": {
          "model_module": "@jupyter-widgets/controls",
          "model_name": "HBoxModel",
          "model_module_version": "1.5.0",
          "state": {
            "_dom_classes": [],
            "_model_module": "@jupyter-widgets/controls",
            "_model_module_version": "1.5.0",
            "_model_name": "HBoxModel",
            "_view_count": null,
            "_view_module": "@jupyter-widgets/controls",
            "_view_module_version": "1.5.0",
            "_view_name": "HBoxView",
            "box_style": "",
            "children": [
              "IPY_MODEL_4512c063de9c4c44952348ca14a5fa7e",
              "IPY_MODEL_49f35f369871407f9f9507fdfb45ec59",
              "IPY_MODEL_d4a1425783794150af3d2989b3546d9e"
            ],
            "layout": "IPY_MODEL_43fadaaf6c204ac3833ae2f66f54f45c"
          }
        },
        "4512c063de9c4c44952348ca14a5fa7e": {
          "model_module": "@jupyter-widgets/controls",
          "model_name": "HTMLModel",
          "model_module_version": "1.5.0",
          "state": {
            "_dom_classes": [],
            "_model_module": "@jupyter-widgets/controls",
            "_model_module_version": "1.5.0",
            "_model_name": "HTMLModel",
            "_view_count": null,
            "_view_module": "@jupyter-widgets/controls",
            "_view_module_version": "1.5.0",
            "_view_name": "HTMLView",
            "description": "",
            "description_tooltip": null,
            "layout": "IPY_MODEL_332ed293ce174559ba293c70fc0c9aec",
            "placeholder": "​",
            "style": "IPY_MODEL_551a776310df48e0a58544b50f33c44e",
            "value": "imgs/others.webp: 100%"
          }
        },
        "49f35f369871407f9f9507fdfb45ec59": {
          "model_module": "@jupyter-widgets/controls",
          "model_name": "FloatProgressModel",
          "model_module_version": "1.5.0",
          "state": {
            "_dom_classes": [],
            "_model_module": "@jupyter-widgets/controls",
            "_model_module_version": "1.5.0",
            "_model_name": "FloatProgressModel",
            "_view_count": null,
            "_view_module": "@jupyter-widgets/controls",
            "_view_module_version": "1.5.0",
            "_view_name": "ProgressView",
            "bar_style": "success",
            "description": "",
            "description_tooltip": null,
            "layout": "IPY_MODEL_d879ca5bf3f3444ea88725625e5dee64",
            "max": 20984,
            "min": 0,
            "orientation": "horizontal",
            "style": "IPY_MODEL_c3403064a28b46a99362842f995929a3",
            "value": 20984
          }
        },
        "d4a1425783794150af3d2989b3546d9e": {
          "model_module": "@jupyter-widgets/controls",
          "model_name": "HTMLModel",
          "model_module_version": "1.5.0",
          "state": {
            "_dom_classes": [],
            "_model_module": "@jupyter-widgets/controls",
            "_model_module_version": "1.5.0",
            "_model_name": "HTMLModel",
            "_view_count": null,
            "_view_module": "@jupyter-widgets/controls",
            "_view_module_version": "1.5.0",
            "_view_name": "HTMLView",
            "description": "",
            "description_tooltip": null,
            "layout": "IPY_MODEL_099ec10f0d634b65ab973bb6bae1495d",
            "placeholder": "​",
            "style": "IPY_MODEL_a8789a54650c48fcbce02ea88c335960",
            "value": " 21.0k/21.0k [00:00&lt;00:00, 135kB/s]"
          }
        },
        "43fadaaf6c204ac3833ae2f66f54f45c": {
          "model_module": "@jupyter-widgets/base",
          "model_name": "LayoutModel",
          "model_module_version": "1.2.0",
          "state": {
            "_model_module": "@jupyter-widgets/base",
            "_model_module_version": "1.2.0",
            "_model_name": "LayoutModel",
            "_view_count": null,
            "_view_module": "@jupyter-widgets/base",
            "_view_module_version": "1.2.0",
            "_view_name": "LayoutView",
            "align_content": null,
            "align_items": null,
            "align_self": null,
            "border": null,
            "bottom": null,
            "display": null,
            "flex": null,
            "flex_flow": null,
            "grid_area": null,
            "grid_auto_columns": null,
            "grid_auto_flow": null,
            "grid_auto_rows": null,
            "grid_column": null,
            "grid_gap": null,
            "grid_row": null,
            "grid_template_areas": null,
            "grid_template_columns": null,
            "grid_template_rows": null,
            "height": null,
            "justify_content": null,
            "justify_items": null,
            "left": null,
            "margin": null,
            "max_height": null,
            "max_width": null,
            "min_height": null,
            "min_width": null,
            "object_fit": null,
            "object_position": null,
            "order": null,
            "overflow": null,
            "overflow_x": null,
            "overflow_y": null,
            "padding": null,
            "right": null,
            "top": null,
            "visibility": null,
            "width": null
          }
        },
        "332ed293ce174559ba293c70fc0c9aec": {
          "model_module": "@jupyter-widgets/base",
          "model_name": "LayoutModel",
          "model_module_version": "1.2.0",
          "state": {
            "_model_module": "@jupyter-widgets/base",
            "_model_module_version": "1.2.0",
            "_model_name": "LayoutModel",
            "_view_count": null,
            "_view_module": "@jupyter-widgets/base",
            "_view_module_version": "1.2.0",
            "_view_name": "LayoutView",
            "align_content": null,
            "align_items": null,
            "align_self": null,
            "border": null,
            "bottom": null,
            "display": null,
            "flex": null,
            "flex_flow": null,
            "grid_area": null,
            "grid_auto_columns": null,
            "grid_auto_flow": null,
            "grid_auto_rows": null,
            "grid_column": null,
            "grid_gap": null,
            "grid_row": null,
            "grid_template_areas": null,
            "grid_template_columns": null,
            "grid_template_rows": null,
            "height": null,
            "justify_content": null,
            "justify_items": null,
            "left": null,
            "margin": null,
            "max_height": null,
            "max_width": null,
            "min_height": null,
            "min_width": null,
            "object_fit": null,
            "object_position": null,
            "order": null,
            "overflow": null,
            "overflow_x": null,
            "overflow_y": null,
            "padding": null,
            "right": null,
            "top": null,
            "visibility": null,
            "width": null
          }
        },
        "551a776310df48e0a58544b50f33c44e": {
          "model_module": "@jupyter-widgets/controls",
          "model_name": "DescriptionStyleModel",
          "model_module_version": "1.5.0",
          "state": {
            "_model_module": "@jupyter-widgets/controls",
            "_model_module_version": "1.5.0",
            "_model_name": "DescriptionStyleModel",
            "_view_count": null,
            "_view_module": "@jupyter-widgets/base",
            "_view_module_version": "1.2.0",
            "_view_name": "StyleView",
            "description_width": ""
          }
        },
        "d879ca5bf3f3444ea88725625e5dee64": {
          "model_module": "@jupyter-widgets/base",
          "model_name": "LayoutModel",
          "model_module_version": "1.2.0",
          "state": {
            "_model_module": "@jupyter-widgets/base",
            "_model_module_version": "1.2.0",
            "_model_name": "LayoutModel",
            "_view_count": null,
            "_view_module": "@jupyter-widgets/base",
            "_view_module_version": "1.2.0",
            "_view_name": "LayoutView",
            "align_content": null,
            "align_items": null,
            "align_self": null,
            "border": null,
            "bottom": null,
            "display": null,
            "flex": null,
            "flex_flow": null,
            "grid_area": null,
            "grid_auto_columns": null,
            "grid_auto_flow": null,
            "grid_auto_rows": null,
            "grid_column": null,
            "grid_gap": null,
            "grid_row": null,
            "grid_template_areas": null,
            "grid_template_columns": null,
            "grid_template_rows": null,
            "height": null,
            "justify_content": null,
            "justify_items": null,
            "left": null,
            "margin": null,
            "max_height": null,
            "max_width": null,
            "min_height": null,
            "min_width": null,
            "object_fit": null,
            "object_position": null,
            "order": null,
            "overflow": null,
            "overflow_x": null,
            "overflow_y": null,
            "padding": null,
            "right": null,
            "top": null,
            "visibility": null,
            "width": null
          }
        },
        "c3403064a28b46a99362842f995929a3": {
          "model_module": "@jupyter-widgets/controls",
          "model_name": "ProgressStyleModel",
          "model_module_version": "1.5.0",
          "state": {
            "_model_module": "@jupyter-widgets/controls",
            "_model_module_version": "1.5.0",
            "_model_name": "ProgressStyleModel",
            "_view_count": null,
            "_view_module": "@jupyter-widgets/base",
            "_view_module_version": "1.2.0",
            "_view_name": "StyleView",
            "bar_color": null,
            "description_width": ""
          }
        },
        "099ec10f0d634b65ab973bb6bae1495d": {
          "model_module": "@jupyter-widgets/base",
          "model_name": "LayoutModel",
          "model_module_version": "1.2.0",
          "state": {
            "_model_module": "@jupyter-widgets/base",
            "_model_module_version": "1.2.0",
            "_model_name": "LayoutModel",
            "_view_count": null,
            "_view_module": "@jupyter-widgets/base",
            "_view_module_version": "1.2.0",
            "_view_name": "LayoutView",
            "align_content": null,
            "align_items": null,
            "align_self": null,
            "border": null,
            "bottom": null,
            "display": null,
            "flex": null,
            "flex_flow": null,
            "grid_area": null,
            "grid_auto_columns": null,
            "grid_auto_flow": null,
            "grid_auto_rows": null,
            "grid_column": null,
            "grid_gap": null,
            "grid_row": null,
            "grid_template_areas": null,
            "grid_template_columns": null,
            "grid_template_rows": null,
            "height": null,
            "justify_content": null,
            "justify_items": null,
            "left": null,
            "margin": null,
            "max_height": null,
            "max_width": null,
            "min_height": null,
            "min_width": null,
            "object_fit": null,
            "object_position": null,
            "order": null,
            "overflow": null,
            "overflow_x": null,
            "overflow_y": null,
            "padding": null,
            "right": null,
            "top": null,
            "visibility": null,
            "width": null
          }
        },
        "a8789a54650c48fcbce02ea88c335960": {
          "model_module": "@jupyter-widgets/controls",
          "model_name": "DescriptionStyleModel",
          "model_module_version": "1.5.0",
          "state": {
            "_model_module": "@jupyter-widgets/controls",
            "_model_module_version": "1.5.0",
            "_model_name": "DescriptionStyleModel",
            "_view_count": null,
            "_view_module": "@jupyter-widgets/base",
            "_view_module_version": "1.2.0",
            "_view_name": "StyleView",
            "description_width": ""
          }
        },
        "7e7715a2cf8243a6861650370a5e0c5f": {
          "model_module": "@jupyter-widgets/controls",
          "model_name": "HBoxModel",
          "model_module_version": "1.5.0",
          "state": {
            "_dom_classes": [],
            "_model_module": "@jupyter-widgets/controls",
            "_model_module_version": "1.5.0",
            "_model_name": "HBoxModel",
            "_view_count": null,
            "_view_module": "@jupyter-widgets/controls",
            "_view_module_version": "1.5.0",
            "_view_name": "HBoxView",
            "box_style": "",
            "children": [
              "IPY_MODEL_ff9ab00ca4ff4da8aa5ec970267736a5",
              "IPY_MODEL_5e441f19b7dc46fcb1c017e9fa445a45",
              "IPY_MODEL_f3b833534da14725b504909329eb7ee4"
            ],
            "layout": "IPY_MODEL_b05798672172448a9e045a85554cfe1f"
          }
        },
        "ff9ab00ca4ff4da8aa5ec970267736a5": {
          "model_module": "@jupyter-widgets/controls",
          "model_name": "HTMLModel",
          "model_module_version": "1.5.0",
          "state": {
            "_dom_classes": [],
            "_model_module": "@jupyter-widgets/controls",
            "_model_module_version": "1.5.0",
            "_model_name": "HTMLModel",
            "_view_count": null,
            "_view_module": "@jupyter-widgets/controls",
            "_view_module_version": "1.5.0",
            "_view_name": "HTMLView",
            "description": "",
            "description_tooltip": null,
            "layout": "IPY_MODEL_76926421b87d487da83aad472104d4c5",
            "placeholder": "​",
            "style": "IPY_MODEL_6edeb1cd2ca94a83b736b9f453195226",
            "value": "imgs/nqa.jpg: 100%"
          }
        },
        "5e441f19b7dc46fcb1c017e9fa445a45": {
          "model_module": "@jupyter-widgets/controls",
          "model_name": "FloatProgressModel",
          "model_module_version": "1.5.0",
          "state": {
            "_dom_classes": [],
            "_model_module": "@jupyter-widgets/controls",
            "_model_module_version": "1.5.0",
            "_model_name": "FloatProgressModel",
            "_view_count": null,
            "_view_module": "@jupyter-widgets/controls",
            "_view_module_version": "1.5.0",
            "_view_name": "ProgressView",
            "bar_style": "success",
            "description": "",
            "description_tooltip": null,
            "layout": "IPY_MODEL_06805a799f6445658b8ad5979a6f0fd5",
            "max": 158358,
            "min": 0,
            "orientation": "horizontal",
            "style": "IPY_MODEL_4e8ba4b09578470cbb7595e9f4cc86c8",
            "value": 158358
          }
        },
        "f3b833534da14725b504909329eb7ee4": {
          "model_module": "@jupyter-widgets/controls",
          "model_name": "HTMLModel",
          "model_module_version": "1.5.0",
          "state": {
            "_dom_classes": [],
            "_model_module": "@jupyter-widgets/controls",
            "_model_module_version": "1.5.0",
            "_model_name": "HTMLModel",
            "_view_count": null,
            "_view_module": "@jupyter-widgets/controls",
            "_view_module_version": "1.5.0",
            "_view_name": "HTMLView",
            "description": "",
            "description_tooltip": null,
            "layout": "IPY_MODEL_3fef890c3c9f412baa31d0f894bf33fd",
            "placeholder": "​",
            "style": "IPY_MODEL_0d0c9ca1cc994fc7b6c71d71e3be1fef",
            "value": " 158k/158k [00:00&lt;00:00, 688kB/s]"
          }
        },
        "b05798672172448a9e045a85554cfe1f": {
          "model_module": "@jupyter-widgets/base",
          "model_name": "LayoutModel",
          "model_module_version": "1.2.0",
          "state": {
            "_model_module": "@jupyter-widgets/base",
            "_model_module_version": "1.2.0",
            "_model_name": "LayoutModel",
            "_view_count": null,
            "_view_module": "@jupyter-widgets/base",
            "_view_module_version": "1.2.0",
            "_view_name": "LayoutView",
            "align_content": null,
            "align_items": null,
            "align_self": null,
            "border": null,
            "bottom": null,
            "display": null,
            "flex": null,
            "flex_flow": null,
            "grid_area": null,
            "grid_auto_columns": null,
            "grid_auto_flow": null,
            "grid_auto_rows": null,
            "grid_column": null,
            "grid_gap": null,
            "grid_row": null,
            "grid_template_areas": null,
            "grid_template_columns": null,
            "grid_template_rows": null,
            "height": null,
            "justify_content": null,
            "justify_items": null,
            "left": null,
            "margin": null,
            "max_height": null,
            "max_width": null,
            "min_height": null,
            "min_width": null,
            "object_fit": null,
            "object_position": null,
            "order": null,
            "overflow": null,
            "overflow_x": null,
            "overflow_y": null,
            "padding": null,
            "right": null,
            "top": null,
            "visibility": null,
            "width": null
          }
        },
        "76926421b87d487da83aad472104d4c5": {
          "model_module": "@jupyter-widgets/base",
          "model_name": "LayoutModel",
          "model_module_version": "1.2.0",
          "state": {
            "_model_module": "@jupyter-widgets/base",
            "_model_module_version": "1.2.0",
            "_model_name": "LayoutModel",
            "_view_count": null,
            "_view_module": "@jupyter-widgets/base",
            "_view_module_version": "1.2.0",
            "_view_name": "LayoutView",
            "align_content": null,
            "align_items": null,
            "align_self": null,
            "border": null,
            "bottom": null,
            "display": null,
            "flex": null,
            "flex_flow": null,
            "grid_area": null,
            "grid_auto_columns": null,
            "grid_auto_flow": null,
            "grid_auto_rows": null,
            "grid_column": null,
            "grid_gap": null,
            "grid_row": null,
            "grid_template_areas": null,
            "grid_template_columns": null,
            "grid_template_rows": null,
            "height": null,
            "justify_content": null,
            "justify_items": null,
            "left": null,
            "margin": null,
            "max_height": null,
            "max_width": null,
            "min_height": null,
            "min_width": null,
            "object_fit": null,
            "object_position": null,
            "order": null,
            "overflow": null,
            "overflow_x": null,
            "overflow_y": null,
            "padding": null,
            "right": null,
            "top": null,
            "visibility": null,
            "width": null
          }
        },
        "6edeb1cd2ca94a83b736b9f453195226": {
          "model_module": "@jupyter-widgets/controls",
          "model_name": "DescriptionStyleModel",
          "model_module_version": "1.5.0",
          "state": {
            "_model_module": "@jupyter-widgets/controls",
            "_model_module_version": "1.5.0",
            "_model_name": "DescriptionStyleModel",
            "_view_count": null,
            "_view_module": "@jupyter-widgets/base",
            "_view_module_version": "1.2.0",
            "_view_name": "StyleView",
            "description_width": ""
          }
        },
        "06805a799f6445658b8ad5979a6f0fd5": {
          "model_module": "@jupyter-widgets/base",
          "model_name": "LayoutModel",
          "model_module_version": "1.2.0",
          "state": {
            "_model_module": "@jupyter-widgets/base",
            "_model_module_version": "1.2.0",
            "_model_name": "LayoutModel",
            "_view_count": null,
            "_view_module": "@jupyter-widgets/base",
            "_view_module_version": "1.2.0",
            "_view_name": "LayoutView",
            "align_content": null,
            "align_items": null,
            "align_self": null,
            "border": null,
            "bottom": null,
            "display": null,
            "flex": null,
            "flex_flow": null,
            "grid_area": null,
            "grid_auto_columns": null,
            "grid_auto_flow": null,
            "grid_auto_rows": null,
            "grid_column": null,
            "grid_gap": null,
            "grid_row": null,
            "grid_template_areas": null,
            "grid_template_columns": null,
            "grid_template_rows": null,
            "height": null,
            "justify_content": null,
            "justify_items": null,
            "left": null,
            "margin": null,
            "max_height": null,
            "max_width": null,
            "min_height": null,
            "min_width": null,
            "object_fit": null,
            "object_position": null,
            "order": null,
            "overflow": null,
            "overflow_x": null,
            "overflow_y": null,
            "padding": null,
            "right": null,
            "top": null,
            "visibility": null,
            "width": null
          }
        },
        "4e8ba4b09578470cbb7595e9f4cc86c8": {
          "model_module": "@jupyter-widgets/controls",
          "model_name": "ProgressStyleModel",
          "model_module_version": "1.5.0",
          "state": {
            "_model_module": "@jupyter-widgets/controls",
            "_model_module_version": "1.5.0",
            "_model_name": "ProgressStyleModel",
            "_view_count": null,
            "_view_module": "@jupyter-widgets/base",
            "_view_module_version": "1.2.0",
            "_view_name": "StyleView",
            "bar_color": null,
            "description_width": ""
          }
        },
        "3fef890c3c9f412baa31d0f894bf33fd": {
          "model_module": "@jupyter-widgets/base",
          "model_name": "LayoutModel",
          "model_module_version": "1.2.0",
          "state": {
            "_model_module": "@jupyter-widgets/base",
            "_model_module_version": "1.2.0",
            "_model_name": "LayoutModel",
            "_view_count": null,
            "_view_module": "@jupyter-widgets/base",
            "_view_module_version": "1.2.0",
            "_view_name": "LayoutView",
            "align_content": null,
            "align_items": null,
            "align_self": null,
            "border": null,
            "bottom": null,
            "display": null,
            "flex": null,
            "flex_flow": null,
            "grid_area": null,
            "grid_auto_columns": null,
            "grid_auto_flow": null,
            "grid_auto_rows": null,
            "grid_column": null,
            "grid_gap": null,
            "grid_row": null,
            "grid_template_areas": null,
            "grid_template_columns": null,
            "grid_template_rows": null,
            "height": null,
            "justify_content": null,
            "justify_items": null,
            "left": null,
            "margin": null,
            "max_height": null,
            "max_width": null,
            "min_height": null,
            "min_width": null,
            "object_fit": null,
            "object_position": null,
            "order": null,
            "overflow": null,
            "overflow_x": null,
            "overflow_y": null,
            "padding": null,
            "right": null,
            "top": null,
            "visibility": null,
            "width": null
          }
        },
        "0d0c9ca1cc994fc7b6c71d71e3be1fef": {
          "model_module": "@jupyter-widgets/controls",
          "model_name": "DescriptionStyleModel",
          "model_module_version": "1.5.0",
          "state": {
            "_model_module": "@jupyter-widgets/controls",
            "_model_module_version": "1.5.0",
            "_model_name": "DescriptionStyleModel",
            "_view_count": null,
            "_view_module": "@jupyter-widgets/base",
            "_view_module_version": "1.2.0",
            "_view_name": "StyleView",
            "description_width": ""
          }
        },
        "bf0af3e3f2df49299691eb8fd7001af8": {
          "model_module": "@jupyter-widgets/controls",
          "model_name": "HBoxModel",
          "model_module_version": "1.5.0",
          "state": {
            "_dom_classes": [],
            "_model_module": "@jupyter-widgets/controls",
            "_model_module_version": "1.5.0",
            "_model_name": "HBoxModel",
            "_view_count": null,
            "_view_module": "@jupyter-widgets/controls",
            "_view_module_version": "1.5.0",
            "_view_name": "HBoxView",
            "box_style": "",
            "children": [
              "IPY_MODEL_49292b0afc944ea5ac8a9012c7949691",
              "IPY_MODEL_d5dfcb6ae46446aaa56fdd1931b72b01",
              "IPY_MODEL_f1ea065825fa4b3fafe691e7e63a361b"
            ],
            "layout": "IPY_MODEL_5546b4e65e6c48bd9a793e653ad49fb2"
          }
        },
        "49292b0afc944ea5ac8a9012c7949691": {
          "model_module": "@jupyter-widgets/controls",
          "model_name": "HTMLModel",
          "model_module_version": "1.5.0",
          "state": {
            "_dom_classes": [],
            "_model_module": "@jupyter-widgets/controls",
            "_model_module_version": "1.5.0",
            "_model_name": "HTMLModel",
            "_view_count": null,
            "_view_module": "@jupyter-widgets/controls",
            "_view_module_version": "1.5.0",
            "_view_name": "HTMLView",
            "description": "",
            "description_tooltip": null,
            "layout": "IPY_MODEL_236042f4214144e2bb5329fba56501d2",
            "placeholder": "​",
            "style": "IPY_MODEL_c2d0984d2c26434290dd86e611528d7e",
            "value": "long.jpg: 100%"
          }
        },
        "d5dfcb6ae46446aaa56fdd1931b72b01": {
          "model_module": "@jupyter-widgets/controls",
          "model_name": "FloatProgressModel",
          "model_module_version": "1.5.0",
          "state": {
            "_dom_classes": [],
            "_model_module": "@jupyter-widgets/controls",
            "_model_module_version": "1.5.0",
            "_model_name": "FloatProgressModel",
            "_view_count": null,
            "_view_module": "@jupyter-widgets/controls",
            "_view_module_version": "1.5.0",
            "_view_name": "ProgressView",
            "bar_style": "success",
            "description": "",
            "description_tooltip": null,
            "layout": "IPY_MODEL_3b3fef6996f1465ca451a0e65f7193f9",
            "max": 126894,
            "min": 0,
            "orientation": "horizontal",
            "style": "IPY_MODEL_deae2a6998ce4959aa72128d9172b250",
            "value": 126894
          }
        },
        "f1ea065825fa4b3fafe691e7e63a361b": {
          "model_module": "@jupyter-widgets/controls",
          "model_name": "HTMLModel",
          "model_module_version": "1.5.0",
          "state": {
            "_dom_classes": [],
            "_model_module": "@jupyter-widgets/controls",
            "_model_module_version": "1.5.0",
            "_model_name": "HTMLModel",
            "_view_count": null,
            "_view_module": "@jupyter-widgets/controls",
            "_view_module_version": "1.5.0",
            "_view_name": "HTMLView",
            "description": "",
            "description_tooltip": null,
            "layout": "IPY_MODEL_424d61e6da614e33b3b52f62b2ae81ae",
            "placeholder": "​",
            "style": "IPY_MODEL_0af765ec42344c3eb359105a8fdbd5db",
            "value": " 127k/127k [00:00&lt;00:00, 726kB/s]"
          }
        },
        "5546b4e65e6c48bd9a793e653ad49fb2": {
          "model_module": "@jupyter-widgets/base",
          "model_name": "LayoutModel",
          "model_module_version": "1.2.0",
          "state": {
            "_model_module": "@jupyter-widgets/base",
            "_model_module_version": "1.2.0",
            "_model_name": "LayoutModel",
            "_view_count": null,
            "_view_module": "@jupyter-widgets/base",
            "_view_module_version": "1.2.0",
            "_view_name": "LayoutView",
            "align_content": null,
            "align_items": null,
            "align_self": null,
            "border": null,
            "bottom": null,
            "display": null,
            "flex": null,
            "flex_flow": null,
            "grid_area": null,
            "grid_auto_columns": null,
            "grid_auto_flow": null,
            "grid_auto_rows": null,
            "grid_column": null,
            "grid_gap": null,
            "grid_row": null,
            "grid_template_areas": null,
            "grid_template_columns": null,
            "grid_template_rows": null,
            "height": null,
            "justify_content": null,
            "justify_items": null,
            "left": null,
            "margin": null,
            "max_height": null,
            "max_width": null,
            "min_height": null,
            "min_width": null,
            "object_fit": null,
            "object_position": null,
            "order": null,
            "overflow": null,
            "overflow_x": null,
            "overflow_y": null,
            "padding": null,
            "right": null,
            "top": null,
            "visibility": null,
            "width": null
          }
        },
        "236042f4214144e2bb5329fba56501d2": {
          "model_module": "@jupyter-widgets/base",
          "model_name": "LayoutModel",
          "model_module_version": "1.2.0",
          "state": {
            "_model_module": "@jupyter-widgets/base",
            "_model_module_version": "1.2.0",
            "_model_name": "LayoutModel",
            "_view_count": null,
            "_view_module": "@jupyter-widgets/base",
            "_view_module_version": "1.2.0",
            "_view_name": "LayoutView",
            "align_content": null,
            "align_items": null,
            "align_self": null,
            "border": null,
            "bottom": null,
            "display": null,
            "flex": null,
            "flex_flow": null,
            "grid_area": null,
            "grid_auto_columns": null,
            "grid_auto_flow": null,
            "grid_auto_rows": null,
            "grid_column": null,
            "grid_gap": null,
            "grid_row": null,
            "grid_template_areas": null,
            "grid_template_columns": null,
            "grid_template_rows": null,
            "height": null,
            "justify_content": null,
            "justify_items": null,
            "left": null,
            "margin": null,
            "max_height": null,
            "max_width": null,
            "min_height": null,
            "min_width": null,
            "object_fit": null,
            "object_position": null,
            "order": null,
            "overflow": null,
            "overflow_x": null,
            "overflow_y": null,
            "padding": null,
            "right": null,
            "top": null,
            "visibility": null,
            "width": null
          }
        },
        "c2d0984d2c26434290dd86e611528d7e": {
          "model_module": "@jupyter-widgets/controls",
          "model_name": "DescriptionStyleModel",
          "model_module_version": "1.5.0",
          "state": {
            "_model_module": "@jupyter-widgets/controls",
            "_model_module_version": "1.5.0",
            "_model_name": "DescriptionStyleModel",
            "_view_count": null,
            "_view_module": "@jupyter-widgets/base",
            "_view_module_version": "1.2.0",
            "_view_name": "StyleView",
            "description_width": ""
          }
        },
        "3b3fef6996f1465ca451a0e65f7193f9": {
          "model_module": "@jupyter-widgets/base",
          "model_name": "LayoutModel",
          "model_module_version": "1.2.0",
          "state": {
            "_model_module": "@jupyter-widgets/base",
            "_model_module_version": "1.2.0",
            "_model_name": "LayoutModel",
            "_view_count": null,
            "_view_module": "@jupyter-widgets/base",
            "_view_module_version": "1.2.0",
            "_view_name": "LayoutView",
            "align_content": null,
            "align_items": null,
            "align_self": null,
            "border": null,
            "bottom": null,
            "display": null,
            "flex": null,
            "flex_flow": null,
            "grid_area": null,
            "grid_auto_columns": null,
            "grid_auto_flow": null,
            "grid_auto_rows": null,
            "grid_column": null,
            "grid_gap": null,
            "grid_row": null,
            "grid_template_areas": null,
            "grid_template_columns": null,
            "grid_template_rows": null,
            "height": null,
            "justify_content": null,
            "justify_items": null,
            "left": null,
            "margin": null,
            "max_height": null,
            "max_width": null,
            "min_height": null,
            "min_width": null,
            "object_fit": null,
            "object_position": null,
            "order": null,
            "overflow": null,
            "overflow_x": null,
            "overflow_y": null,
            "padding": null,
            "right": null,
            "top": null,
            "visibility": null,
            "width": null
          }
        },
        "deae2a6998ce4959aa72128d9172b250": {
          "model_module": "@jupyter-widgets/controls",
          "model_name": "ProgressStyleModel",
          "model_module_version": "1.5.0",
          "state": {
            "_model_module": "@jupyter-widgets/controls",
            "_model_module_version": "1.5.0",
            "_model_name": "ProgressStyleModel",
            "_view_count": null,
            "_view_module": "@jupyter-widgets/base",
            "_view_module_version": "1.2.0",
            "_view_name": "StyleView",
            "bar_color": null,
            "description_width": ""
          }
        },
        "424d61e6da614e33b3b52f62b2ae81ae": {
          "model_module": "@jupyter-widgets/base",
          "model_name": "LayoutModel",
          "model_module_version": "1.2.0",
          "state": {
            "_model_module": "@jupyter-widgets/base",
            "_model_module_version": "1.2.0",
            "_model_name": "LayoutModel",
            "_view_count": null,
            "_view_module": "@jupyter-widgets/base",
            "_view_module_version": "1.2.0",
            "_view_name": "LayoutView",
            "align_content": null,
            "align_items": null,
            "align_self": null,
            "border": null,
            "bottom": null,
            "display": null,
            "flex": null,
            "flex_flow": null,
            "grid_area": null,
            "grid_auto_columns": null,
            "grid_auto_flow": null,
            "grid_auto_rows": null,
            "grid_column": null,
            "grid_gap": null,
            "grid_row": null,
            "grid_template_areas": null,
            "grid_template_columns": null,
            "grid_template_rows": null,
            "height": null,
            "justify_content": null,
            "justify_items": null,
            "left": null,
            "margin": null,
            "max_height": null,
            "max_width": null,
            "min_height": null,
            "min_width": null,
            "object_fit": null,
            "object_position": null,
            "order": null,
            "overflow": null,
            "overflow_x": null,
            "overflow_y": null,
            "padding": null,
            "right": null,
            "top": null,
            "visibility": null,
            "width": null
          }
        },
        "0af765ec42344c3eb359105a8fdbd5db": {
          "model_module": "@jupyter-widgets/controls",
          "model_name": "DescriptionStyleModel",
          "model_module_version": "1.5.0",
          "state": {
            "_model_module": "@jupyter-widgets/controls",
            "_model_module_version": "1.5.0",
            "_model_name": "DescriptionStyleModel",
            "_view_count": null,
            "_view_module": "@jupyter-widgets/base",
            "_view_module_version": "1.2.0",
            "_view_name": "StyleView",
            "description_width": ""
          }
        },
        "9711a6c0c2524d52ba9bcbfaaf8abec5": {
          "model_module": "@jupyter-widgets/controls",
          "model_name": "HBoxModel",
          "model_module_version": "1.5.0",
          "state": {
            "_dom_classes": [],
            "_model_module": "@jupyter-widgets/controls",
            "_model_module_version": "1.5.0",
            "_model_name": "HBoxModel",
            "_view_count": null,
            "_view_module": "@jupyter-widgets/controls",
            "_view_module_version": "1.5.0",
            "_view_name": "HBoxView",
            "box_style": "",
            "children": [
              "IPY_MODEL_9f8b487607c7416c9a7c8a7908be8f17",
              "IPY_MODEL_0b7a9cdc2d004ec4b419b571667efcaf",
              "IPY_MODEL_5d8fa8f173b542fb82182b33796ce7d9"
            ],
            "layout": "IPY_MODEL_76d89dcd8f944fc3961c4ae102c0cd46"
          }
        },
        "9f8b487607c7416c9a7c8a7908be8f17": {
          "model_module": "@jupyter-widgets/controls",
          "model_name": "HTMLModel",
          "model_module_version": "1.5.0",
          "state": {
            "_dom_classes": [],
            "_model_module": "@jupyter-widgets/controls",
            "_model_module_version": "1.5.0",
            "_model_name": "HTMLModel",
            "_view_count": null,
            "_view_module": "@jupyter-widgets/controls",
            "_view_module_version": "1.5.0",
            "_view_name": "HTMLView",
            "description": "",
            "description_tooltip": null,
            "layout": "IPY_MODEL_da2404080d8d4a89af05cd5de33cc3b7",
            "placeholder": "​",
            "style": "IPY_MODEL_d7205c574dc5423e9fc11187c598fd37",
            "value": "modules.json: 100%"
          }
        },
        "0b7a9cdc2d004ec4b419b571667efcaf": {
          "model_module": "@jupyter-widgets/controls",
          "model_name": "FloatProgressModel",
          "model_module_version": "1.5.0",
          "state": {
            "_dom_classes": [],
            "_model_module": "@jupyter-widgets/controls",
            "_model_module_version": "1.5.0",
            "_model_name": "FloatProgressModel",
            "_view_count": null,
            "_view_module": "@jupyter-widgets/controls",
            "_view_module_version": "1.5.0",
            "_view_name": "ProgressView",
            "bar_style": "success",
            "description": "",
            "description_tooltip": null,
            "layout": "IPY_MODEL_7eb194a2aff84bdf9ae7b1ab52f3a749",
            "max": 349,
            "min": 0,
            "orientation": "horizontal",
            "style": "IPY_MODEL_039d0653b8e746e0a932e1fe09bf657d",
            "value": 349
          }
        },
        "5d8fa8f173b542fb82182b33796ce7d9": {
          "model_module": "@jupyter-widgets/controls",
          "model_name": "HTMLModel",
          "model_module_version": "1.5.0",
          "state": {
            "_dom_classes": [],
            "_model_module": "@jupyter-widgets/controls",
            "_model_module_version": "1.5.0",
            "_model_name": "HTMLModel",
            "_view_count": null,
            "_view_module": "@jupyter-widgets/controls",
            "_view_module_version": "1.5.0",
            "_view_name": "HTMLView",
            "description": "",
            "description_tooltip": null,
            "layout": "IPY_MODEL_202f1355108e43c6a1e01c119070085a",
            "placeholder": "​",
            "style": "IPY_MODEL_6d1a93efd0014b4e8ac166ea21a56856",
            "value": " 349/349 [00:00&lt;00:00, 2.91kB/s]"
          }
        },
        "76d89dcd8f944fc3961c4ae102c0cd46": {
          "model_module": "@jupyter-widgets/base",
          "model_name": "LayoutModel",
          "model_module_version": "1.2.0",
          "state": {
            "_model_module": "@jupyter-widgets/base",
            "_model_module_version": "1.2.0",
            "_model_name": "LayoutModel",
            "_view_count": null,
            "_view_module": "@jupyter-widgets/base",
            "_view_module_version": "1.2.0",
            "_view_name": "LayoutView",
            "align_content": null,
            "align_items": null,
            "align_self": null,
            "border": null,
            "bottom": null,
            "display": null,
            "flex": null,
            "flex_flow": null,
            "grid_area": null,
            "grid_auto_columns": null,
            "grid_auto_flow": null,
            "grid_auto_rows": null,
            "grid_column": null,
            "grid_gap": null,
            "grid_row": null,
            "grid_template_areas": null,
            "grid_template_columns": null,
            "grid_template_rows": null,
            "height": null,
            "justify_content": null,
            "justify_items": null,
            "left": null,
            "margin": null,
            "max_height": null,
            "max_width": null,
            "min_height": null,
            "min_width": null,
            "object_fit": null,
            "object_position": null,
            "order": null,
            "overflow": null,
            "overflow_x": null,
            "overflow_y": null,
            "padding": null,
            "right": null,
            "top": null,
            "visibility": null,
            "width": null
          }
        },
        "da2404080d8d4a89af05cd5de33cc3b7": {
          "model_module": "@jupyter-widgets/base",
          "model_name": "LayoutModel",
          "model_module_version": "1.2.0",
          "state": {
            "_model_module": "@jupyter-widgets/base",
            "_model_module_version": "1.2.0",
            "_model_name": "LayoutModel",
            "_view_count": null,
            "_view_module": "@jupyter-widgets/base",
            "_view_module_version": "1.2.0",
            "_view_name": "LayoutView",
            "align_content": null,
            "align_items": null,
            "align_self": null,
            "border": null,
            "bottom": null,
            "display": null,
            "flex": null,
            "flex_flow": null,
            "grid_area": null,
            "grid_auto_columns": null,
            "grid_auto_flow": null,
            "grid_auto_rows": null,
            "grid_column": null,
            "grid_gap": null,
            "grid_row": null,
            "grid_template_areas": null,
            "grid_template_columns": null,
            "grid_template_rows": null,
            "height": null,
            "justify_content": null,
            "justify_items": null,
            "left": null,
            "margin": null,
            "max_height": null,
            "max_width": null,
            "min_height": null,
            "min_width": null,
            "object_fit": null,
            "object_position": null,
            "order": null,
            "overflow": null,
            "overflow_x": null,
            "overflow_y": null,
            "padding": null,
            "right": null,
            "top": null,
            "visibility": null,
            "width": null
          }
        },
        "d7205c574dc5423e9fc11187c598fd37": {
          "model_module": "@jupyter-widgets/controls",
          "model_name": "DescriptionStyleModel",
          "model_module_version": "1.5.0",
          "state": {
            "_model_module": "@jupyter-widgets/controls",
            "_model_module_version": "1.5.0",
            "_model_name": "DescriptionStyleModel",
            "_view_count": null,
            "_view_module": "@jupyter-widgets/base",
            "_view_module_version": "1.2.0",
            "_view_name": "StyleView",
            "description_width": ""
          }
        },
        "7eb194a2aff84bdf9ae7b1ab52f3a749": {
          "model_module": "@jupyter-widgets/base",
          "model_name": "LayoutModel",
          "model_module_version": "1.2.0",
          "state": {
            "_model_module": "@jupyter-widgets/base",
            "_model_module_version": "1.2.0",
            "_model_name": "LayoutModel",
            "_view_count": null,
            "_view_module": "@jupyter-widgets/base",
            "_view_module_version": "1.2.0",
            "_view_name": "LayoutView",
            "align_content": null,
            "align_items": null,
            "align_self": null,
            "border": null,
            "bottom": null,
            "display": null,
            "flex": null,
            "flex_flow": null,
            "grid_area": null,
            "grid_auto_columns": null,
            "grid_auto_flow": null,
            "grid_auto_rows": null,
            "grid_column": null,
            "grid_gap": null,
            "grid_row": null,
            "grid_template_areas": null,
            "grid_template_columns": null,
            "grid_template_rows": null,
            "height": null,
            "justify_content": null,
            "justify_items": null,
            "left": null,
            "margin": null,
            "max_height": null,
            "max_width": null,
            "min_height": null,
            "min_width": null,
            "object_fit": null,
            "object_position": null,
            "order": null,
            "overflow": null,
            "overflow_x": null,
            "overflow_y": null,
            "padding": null,
            "right": null,
            "top": null,
            "visibility": null,
            "width": null
          }
        },
        "039d0653b8e746e0a932e1fe09bf657d": {
          "model_module": "@jupyter-widgets/controls",
          "model_name": "ProgressStyleModel",
          "model_module_version": "1.5.0",
          "state": {
            "_model_module": "@jupyter-widgets/controls",
            "_model_module_version": "1.5.0",
            "_model_name": "ProgressStyleModel",
            "_view_count": null,
            "_view_module": "@jupyter-widgets/base",
            "_view_module_version": "1.2.0",
            "_view_name": "StyleView",
            "bar_color": null,
            "description_width": ""
          }
        },
        "202f1355108e43c6a1e01c119070085a": {
          "model_module": "@jupyter-widgets/base",
          "model_name": "LayoutModel",
          "model_module_version": "1.2.0",
          "state": {
            "_model_module": "@jupyter-widgets/base",
            "_model_module_version": "1.2.0",
            "_model_name": "LayoutModel",
            "_view_count": null,
            "_view_module": "@jupyter-widgets/base",
            "_view_module_version": "1.2.0",
            "_view_name": "LayoutView",
            "align_content": null,
            "align_items": null,
            "align_self": null,
            "border": null,
            "bottom": null,
            "display": null,
            "flex": null,
            "flex_flow": null,
            "grid_area": null,
            "grid_auto_columns": null,
            "grid_auto_flow": null,
            "grid_auto_rows": null,
            "grid_column": null,
            "grid_gap": null,
            "grid_row": null,
            "grid_template_areas": null,
            "grid_template_columns": null,
            "grid_template_rows": null,
            "height": null,
            "justify_content": null,
            "justify_items": null,
            "left": null,
            "margin": null,
            "max_height": null,
            "max_width": null,
            "min_height": null,
            "min_width": null,
            "object_fit": null,
            "object_position": null,
            "order": null,
            "overflow": null,
            "overflow_x": null,
            "overflow_y": null,
            "padding": null,
            "right": null,
            "top": null,
            "visibility": null,
            "width": null
          }
        },
        "6d1a93efd0014b4e8ac166ea21a56856": {
          "model_module": "@jupyter-widgets/controls",
          "model_name": "DescriptionStyleModel",
          "model_module_version": "1.5.0",
          "state": {
            "_model_module": "@jupyter-widgets/controls",
            "_model_module_version": "1.5.0",
            "_model_name": "DescriptionStyleModel",
            "_view_count": null,
            "_view_module": "@jupyter-widgets/base",
            "_view_module_version": "1.2.0",
            "_view_name": "StyleView",
            "description_width": ""
          }
        },
        "61963c730dd740d7ae61a7d7dc7a0ecf": {
          "model_module": "@jupyter-widgets/controls",
          "model_name": "HBoxModel",
          "model_module_version": "1.5.0",
          "state": {
            "_dom_classes": [],
            "_model_module": "@jupyter-widgets/controls",
            "_model_module_version": "1.5.0",
            "_model_name": "HBoxModel",
            "_view_count": null,
            "_view_module": "@jupyter-widgets/controls",
            "_view_module_version": "1.5.0",
            "_view_name": "HBoxView",
            "box_style": "",
            "children": [
              "IPY_MODEL_45fe84448d6e46418622a6ecfb6acab0",
              "IPY_MODEL_7538e66e5cee436a8fbe13623d71762d",
              "IPY_MODEL_7985feb6156440c8919dcddfe5329b53"
            ],
            "layout": "IPY_MODEL_85431baa38594dddb4be4e3b42e02be7"
          }
        },
        "45fe84448d6e46418622a6ecfb6acab0": {
          "model_module": "@jupyter-widgets/controls",
          "model_name": "HTMLModel",
          "model_module_version": "1.5.0",
          "state": {
            "_dom_classes": [],
            "_model_module": "@jupyter-widgets/controls",
            "_model_module_version": "1.5.0",
            "_model_name": "HTMLModel",
            "_view_count": null,
            "_view_module": "@jupyter-widgets/controls",
            "_view_module_version": "1.5.0",
            "_view_name": "HTMLView",
            "description": "",
            "description_tooltip": null,
            "layout": "IPY_MODEL_6e5ab7de38a04f3eb5d40a16be709ea6",
            "placeholder": "​",
            "style": "IPY_MODEL_b26cba3a812f4e0ba55f73bf8479935b",
            "value": "imgs/miracl.jpg: 100%"
          }
        },
        "7538e66e5cee436a8fbe13623d71762d": {
          "model_module": "@jupyter-widgets/controls",
          "model_name": "FloatProgressModel",
          "model_module_version": "1.5.0",
          "state": {
            "_dom_classes": [],
            "_model_module": "@jupyter-widgets/controls",
            "_model_module_version": "1.5.0",
            "_model_name": "FloatProgressModel",
            "_view_count": null,
            "_view_module": "@jupyter-widgets/controls",
            "_view_module_version": "1.5.0",
            "_view_name": "ProgressView",
            "bar_style": "success",
            "description": "",
            "description_tooltip": null,
            "layout": "IPY_MODEL_a63d125bbe6e4cf2ab6690dbc2ce7caf",
            "max": 447641,
            "min": 0,
            "orientation": "horizontal",
            "style": "IPY_MODEL_422c96ca2dcf44388a3faaa8418dedae",
            "value": 447641
          }
        },
        "7985feb6156440c8919dcddfe5329b53": {
          "model_module": "@jupyter-widgets/controls",
          "model_name": "HTMLModel",
          "model_module_version": "1.5.0",
          "state": {
            "_dom_classes": [],
            "_model_module": "@jupyter-widgets/controls",
            "_model_module_version": "1.5.0",
            "_model_name": "HTMLModel",
            "_view_count": null,
            "_view_module": "@jupyter-widgets/controls",
            "_view_module_version": "1.5.0",
            "_view_name": "HTMLView",
            "description": "",
            "description_tooltip": null,
            "layout": "IPY_MODEL_c45e65c6c1264cd4af5a8822b2c0d14d",
            "placeholder": "​",
            "style": "IPY_MODEL_a94b9eff3f274a95a234a463e85652ce",
            "value": " 448k/448k [00:00&lt;00:00, 1.69MB/s]"
          }
        },
        "85431baa38594dddb4be4e3b42e02be7": {
          "model_module": "@jupyter-widgets/base",
          "model_name": "LayoutModel",
          "model_module_version": "1.2.0",
          "state": {
            "_model_module": "@jupyter-widgets/base",
            "_model_module_version": "1.2.0",
            "_model_name": "LayoutModel",
            "_view_count": null,
            "_view_module": "@jupyter-widgets/base",
            "_view_module_version": "1.2.0",
            "_view_name": "LayoutView",
            "align_content": null,
            "align_items": null,
            "align_self": null,
            "border": null,
            "bottom": null,
            "display": null,
            "flex": null,
            "flex_flow": null,
            "grid_area": null,
            "grid_auto_columns": null,
            "grid_auto_flow": null,
            "grid_auto_rows": null,
            "grid_column": null,
            "grid_gap": null,
            "grid_row": null,
            "grid_template_areas": null,
            "grid_template_columns": null,
            "grid_template_rows": null,
            "height": null,
            "justify_content": null,
            "justify_items": null,
            "left": null,
            "margin": null,
            "max_height": null,
            "max_width": null,
            "min_height": null,
            "min_width": null,
            "object_fit": null,
            "object_position": null,
            "order": null,
            "overflow": null,
            "overflow_x": null,
            "overflow_y": null,
            "padding": null,
            "right": null,
            "top": null,
            "visibility": null,
            "width": null
          }
        },
        "6e5ab7de38a04f3eb5d40a16be709ea6": {
          "model_module": "@jupyter-widgets/base",
          "model_name": "LayoutModel",
          "model_module_version": "1.2.0",
          "state": {
            "_model_module": "@jupyter-widgets/base",
            "_model_module_version": "1.2.0",
            "_model_name": "LayoutModel",
            "_view_count": null,
            "_view_module": "@jupyter-widgets/base",
            "_view_module_version": "1.2.0",
            "_view_name": "LayoutView",
            "align_content": null,
            "align_items": null,
            "align_self": null,
            "border": null,
            "bottom": null,
            "display": null,
            "flex": null,
            "flex_flow": null,
            "grid_area": null,
            "grid_auto_columns": null,
            "grid_auto_flow": null,
            "grid_auto_rows": null,
            "grid_column": null,
            "grid_gap": null,
            "grid_row": null,
            "grid_template_areas": null,
            "grid_template_columns": null,
            "grid_template_rows": null,
            "height": null,
            "justify_content": null,
            "justify_items": null,
            "left": null,
            "margin": null,
            "max_height": null,
            "max_width": null,
            "min_height": null,
            "min_width": null,
            "object_fit": null,
            "object_position": null,
            "order": null,
            "overflow": null,
            "overflow_x": null,
            "overflow_y": null,
            "padding": null,
            "right": null,
            "top": null,
            "visibility": null,
            "width": null
          }
        },
        "b26cba3a812f4e0ba55f73bf8479935b": {
          "model_module": "@jupyter-widgets/controls",
          "model_name": "DescriptionStyleModel",
          "model_module_version": "1.5.0",
          "state": {
            "_model_module": "@jupyter-widgets/controls",
            "_model_module_version": "1.5.0",
            "_model_name": "DescriptionStyleModel",
            "_view_count": null,
            "_view_module": "@jupyter-widgets/base",
            "_view_module_version": "1.2.0",
            "_view_name": "StyleView",
            "description_width": ""
          }
        },
        "a63d125bbe6e4cf2ab6690dbc2ce7caf": {
          "model_module": "@jupyter-widgets/base",
          "model_name": "LayoutModel",
          "model_module_version": "1.2.0",
          "state": {
            "_model_module": "@jupyter-widgets/base",
            "_model_module_version": "1.2.0",
            "_model_name": "LayoutModel",
            "_view_count": null,
            "_view_module": "@jupyter-widgets/base",
            "_view_module_version": "1.2.0",
            "_view_name": "LayoutView",
            "align_content": null,
            "align_items": null,
            "align_self": null,
            "border": null,
            "bottom": null,
            "display": null,
            "flex": null,
            "flex_flow": null,
            "grid_area": null,
            "grid_auto_columns": null,
            "grid_auto_flow": null,
            "grid_auto_rows": null,
            "grid_column": null,
            "grid_gap": null,
            "grid_row": null,
            "grid_template_areas": null,
            "grid_template_columns": null,
            "grid_template_rows": null,
            "height": null,
            "justify_content": null,
            "justify_items": null,
            "left": null,
            "margin": null,
            "max_height": null,
            "max_width": null,
            "min_height": null,
            "min_width": null,
            "object_fit": null,
            "object_position": null,
            "order": null,
            "overflow": null,
            "overflow_x": null,
            "overflow_y": null,
            "padding": null,
            "right": null,
            "top": null,
            "visibility": null,
            "width": null
          }
        },
        "422c96ca2dcf44388a3faaa8418dedae": {
          "model_module": "@jupyter-widgets/controls",
          "model_name": "ProgressStyleModel",
          "model_module_version": "1.5.0",
          "state": {
            "_model_module": "@jupyter-widgets/controls",
            "_model_module_version": "1.5.0",
            "_model_name": "ProgressStyleModel",
            "_view_count": null,
            "_view_module": "@jupyter-widgets/base",
            "_view_module_version": "1.2.0",
            "_view_name": "StyleView",
            "bar_color": null,
            "description_width": ""
          }
        },
        "c45e65c6c1264cd4af5a8822b2c0d14d": {
          "model_module": "@jupyter-widgets/base",
          "model_name": "LayoutModel",
          "model_module_version": "1.2.0",
          "state": {
            "_model_module": "@jupyter-widgets/base",
            "_model_module_version": "1.2.0",
            "_model_name": "LayoutModel",
            "_view_count": null,
            "_view_module": "@jupyter-widgets/base",
            "_view_module_version": "1.2.0",
            "_view_name": "LayoutView",
            "align_content": null,
            "align_items": null,
            "align_self": null,
            "border": null,
            "bottom": null,
            "display": null,
            "flex": null,
            "flex_flow": null,
            "grid_area": null,
            "grid_auto_columns": null,
            "grid_auto_flow": null,
            "grid_auto_rows": null,
            "grid_column": null,
            "grid_gap": null,
            "grid_row": null,
            "grid_template_areas": null,
            "grid_template_columns": null,
            "grid_template_rows": null,
            "height": null,
            "justify_content": null,
            "justify_items": null,
            "left": null,
            "margin": null,
            "max_height": null,
            "max_width": null,
            "min_height": null,
            "min_width": null,
            "object_fit": null,
            "object_position": null,
            "order": null,
            "overflow": null,
            "overflow_x": null,
            "overflow_y": null,
            "padding": null,
            "right": null,
            "top": null,
            "visibility": null,
            "width": null
          }
        },
        "a94b9eff3f274a95a234a463e85652ce": {
          "model_module": "@jupyter-widgets/controls",
          "model_name": "DescriptionStyleModel",
          "model_module_version": "1.5.0",
          "state": {
            "_model_module": "@jupyter-widgets/controls",
            "_model_module_version": "1.5.0",
            "_model_name": "DescriptionStyleModel",
            "_view_count": null,
            "_view_module": "@jupyter-widgets/base",
            "_view_module_version": "1.2.0",
            "_view_name": "StyleView",
            "description_width": ""
          }
        },
        "6069ffb20d214a69b730bd41e3a62aef": {
          "model_module": "@jupyter-widgets/controls",
          "model_name": "HBoxModel",
          "model_module_version": "1.5.0",
          "state": {
            "_dom_classes": [],
            "_model_module": "@jupyter-widgets/controls",
            "_model_module_version": "1.5.0",
            "_model_name": "HBoxModel",
            "_view_count": null,
            "_view_module": "@jupyter-widgets/controls",
            "_view_module_version": "1.5.0",
            "_view_name": "HBoxView",
            "box_style": "",
            "children": [
              "IPY_MODEL_b669aa4321074d45be022c0b7c0ae82b",
              "IPY_MODEL_991f4fbe7cd949e8825f8c170ebab566",
              "IPY_MODEL_2d3c83f47b7e4dccaee3247208c375c8"
            ],
            "layout": "IPY_MODEL_9b5ccf323f574ccc94bdc3e23b50ac13"
          }
        },
        "b669aa4321074d45be022c0b7c0ae82b": {
          "model_module": "@jupyter-widgets/controls",
          "model_name": "HTMLModel",
          "model_module_version": "1.5.0",
          "state": {
            "_dom_classes": [],
            "_model_module": "@jupyter-widgets/controls",
            "_model_module_version": "1.5.0",
            "_model_name": "HTMLModel",
            "_view_count": null,
            "_view_module": "@jupyter-widgets/controls",
            "_view_module_version": "1.5.0",
            "_view_name": "HTMLView",
            "description": "",
            "description_tooltip": null,
            "layout": "IPY_MODEL_4049e2e54883484a9f1a3ff26f2aca6b",
            "placeholder": "​",
            "style": "IPY_MODEL_047f819d39824f199b1b4cd65baf0ec8",
            "value": "sentence_bert_config.json: 100%"
          }
        },
        "991f4fbe7cd949e8825f8c170ebab566": {
          "model_module": "@jupyter-widgets/controls",
          "model_name": "FloatProgressModel",
          "model_module_version": "1.5.0",
          "state": {
            "_dom_classes": [],
            "_model_module": "@jupyter-widgets/controls",
            "_model_module_version": "1.5.0",
            "_model_name": "FloatProgressModel",
            "_view_count": null,
            "_view_module": "@jupyter-widgets/controls",
            "_view_module_version": "1.5.0",
            "_view_name": "ProgressView",
            "bar_style": "success",
            "description": "",
            "description_tooltip": null,
            "layout": "IPY_MODEL_7e597d81d4eb4090964cbb10cfae8afc",
            "max": 54,
            "min": 0,
            "orientation": "horizontal",
            "style": "IPY_MODEL_a4359951c3304dbeadaf2156688527f4",
            "value": 54
          }
        },
        "2d3c83f47b7e4dccaee3247208c375c8": {
          "model_module": "@jupyter-widgets/controls",
          "model_name": "HTMLModel",
          "model_module_version": "1.5.0",
          "state": {
            "_dom_classes": [],
            "_model_module": "@jupyter-widgets/controls",
            "_model_module_version": "1.5.0",
            "_model_name": "HTMLModel",
            "_view_count": null,
            "_view_module": "@jupyter-widgets/controls",
            "_view_module_version": "1.5.0",
            "_view_name": "HTMLView",
            "description": "",
            "description_tooltip": null,
            "layout": "IPY_MODEL_db7d2c01a60c4e55b2e7d52a244a417d",
            "placeholder": "​",
            "style": "IPY_MODEL_8612cfa9574c4cb6b37e1fea97b27557",
            "value": " 54.0/54.0 [00:00&lt;00:00, 338B/s]"
          }
        },
        "9b5ccf323f574ccc94bdc3e23b50ac13": {
          "model_module": "@jupyter-widgets/base",
          "model_name": "LayoutModel",
          "model_module_version": "1.2.0",
          "state": {
            "_model_module": "@jupyter-widgets/base",
            "_model_module_version": "1.2.0",
            "_model_name": "LayoutModel",
            "_view_count": null,
            "_view_module": "@jupyter-widgets/base",
            "_view_module_version": "1.2.0",
            "_view_name": "LayoutView",
            "align_content": null,
            "align_items": null,
            "align_self": null,
            "border": null,
            "bottom": null,
            "display": null,
            "flex": null,
            "flex_flow": null,
            "grid_area": null,
            "grid_auto_columns": null,
            "grid_auto_flow": null,
            "grid_auto_rows": null,
            "grid_column": null,
            "grid_gap": null,
            "grid_row": null,
            "grid_template_areas": null,
            "grid_template_columns": null,
            "grid_template_rows": null,
            "height": null,
            "justify_content": null,
            "justify_items": null,
            "left": null,
            "margin": null,
            "max_height": null,
            "max_width": null,
            "min_height": null,
            "min_width": null,
            "object_fit": null,
            "object_position": null,
            "order": null,
            "overflow": null,
            "overflow_x": null,
            "overflow_y": null,
            "padding": null,
            "right": null,
            "top": null,
            "visibility": null,
            "width": null
          }
        },
        "4049e2e54883484a9f1a3ff26f2aca6b": {
          "model_module": "@jupyter-widgets/base",
          "model_name": "LayoutModel",
          "model_module_version": "1.2.0",
          "state": {
            "_model_module": "@jupyter-widgets/base",
            "_model_module_version": "1.2.0",
            "_model_name": "LayoutModel",
            "_view_count": null,
            "_view_module": "@jupyter-widgets/base",
            "_view_module_version": "1.2.0",
            "_view_name": "LayoutView",
            "align_content": null,
            "align_items": null,
            "align_self": null,
            "border": null,
            "bottom": null,
            "display": null,
            "flex": null,
            "flex_flow": null,
            "grid_area": null,
            "grid_auto_columns": null,
            "grid_auto_flow": null,
            "grid_auto_rows": null,
            "grid_column": null,
            "grid_gap": null,
            "grid_row": null,
            "grid_template_areas": null,
            "grid_template_columns": null,
            "grid_template_rows": null,
            "height": null,
            "justify_content": null,
            "justify_items": null,
            "left": null,
            "margin": null,
            "max_height": null,
            "max_width": null,
            "min_height": null,
            "min_width": null,
            "object_fit": null,
            "object_position": null,
            "order": null,
            "overflow": null,
            "overflow_x": null,
            "overflow_y": null,
            "padding": null,
            "right": null,
            "top": null,
            "visibility": null,
            "width": null
          }
        },
        "047f819d39824f199b1b4cd65baf0ec8": {
          "model_module": "@jupyter-widgets/controls",
          "model_name": "DescriptionStyleModel",
          "model_module_version": "1.5.0",
          "state": {
            "_model_module": "@jupyter-widgets/controls",
            "_model_module_version": "1.5.0",
            "_model_name": "DescriptionStyleModel",
            "_view_count": null,
            "_view_module": "@jupyter-widgets/base",
            "_view_module_version": "1.2.0",
            "_view_name": "StyleView",
            "description_width": ""
          }
        },
        "7e597d81d4eb4090964cbb10cfae8afc": {
          "model_module": "@jupyter-widgets/base",
          "model_name": "LayoutModel",
          "model_module_version": "1.2.0",
          "state": {
            "_model_module": "@jupyter-widgets/base",
            "_model_module_version": "1.2.0",
            "_model_name": "LayoutModel",
            "_view_count": null,
            "_view_module": "@jupyter-widgets/base",
            "_view_module_version": "1.2.0",
            "_view_name": "LayoutView",
            "align_content": null,
            "align_items": null,
            "align_self": null,
            "border": null,
            "bottom": null,
            "display": null,
            "flex": null,
            "flex_flow": null,
            "grid_area": null,
            "grid_auto_columns": null,
            "grid_auto_flow": null,
            "grid_auto_rows": null,
            "grid_column": null,
            "grid_gap": null,
            "grid_row": null,
            "grid_template_areas": null,
            "grid_template_columns": null,
            "grid_template_rows": null,
            "height": null,
            "justify_content": null,
            "justify_items": null,
            "left": null,
            "margin": null,
            "max_height": null,
            "max_width": null,
            "min_height": null,
            "min_width": null,
            "object_fit": null,
            "object_position": null,
            "order": null,
            "overflow": null,
            "overflow_x": null,
            "overflow_y": null,
            "padding": null,
            "right": null,
            "top": null,
            "visibility": null,
            "width": null
          }
        },
        "a4359951c3304dbeadaf2156688527f4": {
          "model_module": "@jupyter-widgets/controls",
          "model_name": "ProgressStyleModel",
          "model_module_version": "1.5.0",
          "state": {
            "_model_module": "@jupyter-widgets/controls",
            "_model_module_version": "1.5.0",
            "_model_name": "ProgressStyleModel",
            "_view_count": null,
            "_view_module": "@jupyter-widgets/base",
            "_view_module_version": "1.2.0",
            "_view_name": "StyleView",
            "bar_color": null,
            "description_width": ""
          }
        },
        "db7d2c01a60c4e55b2e7d52a244a417d": {
          "model_module": "@jupyter-widgets/base",
          "model_name": "LayoutModel",
          "model_module_version": "1.2.0",
          "state": {
            "_model_module": "@jupyter-widgets/base",
            "_model_module_version": "1.2.0",
            "_model_name": "LayoutModel",
            "_view_count": null,
            "_view_module": "@jupyter-widgets/base",
            "_view_module_version": "1.2.0",
            "_view_name": "LayoutView",
            "align_content": null,
            "align_items": null,
            "align_self": null,
            "border": null,
            "bottom": null,
            "display": null,
            "flex": null,
            "flex_flow": null,
            "grid_area": null,
            "grid_auto_columns": null,
            "grid_auto_flow": null,
            "grid_auto_rows": null,
            "grid_column": null,
            "grid_gap": null,
            "grid_row": null,
            "grid_template_areas": null,
            "grid_template_columns": null,
            "grid_template_rows": null,
            "height": null,
            "justify_content": null,
            "justify_items": null,
            "left": null,
            "margin": null,
            "max_height": null,
            "max_width": null,
            "min_height": null,
            "min_width": null,
            "object_fit": null,
            "object_position": null,
            "order": null,
            "overflow": null,
            "overflow_x": null,
            "overflow_y": null,
            "padding": null,
            "right": null,
            "top": null,
            "visibility": null,
            "width": null
          }
        },
        "8612cfa9574c4cb6b37e1fea97b27557": {
          "model_module": "@jupyter-widgets/controls",
          "model_name": "DescriptionStyleModel",
          "model_module_version": "1.5.0",
          "state": {
            "_model_module": "@jupyter-widgets/controls",
            "_model_module_version": "1.5.0",
            "_model_name": "DescriptionStyleModel",
            "_view_count": null,
            "_view_module": "@jupyter-widgets/base",
            "_view_module_version": "1.2.0",
            "_view_name": "StyleView",
            "description_width": ""
          }
        },
        "60744b9dfab34f1ca77af5aa3e6b849f": {
          "model_module": "@jupyter-widgets/controls",
          "model_name": "HBoxModel",
          "model_module_version": "1.5.0",
          "state": {
            "_dom_classes": [],
            "_model_module": "@jupyter-widgets/controls",
            "_model_module_version": "1.5.0",
            "_model_name": "HBoxModel",
            "_view_count": null,
            "_view_module": "@jupyter-widgets/controls",
            "_view_module_version": "1.5.0",
            "_view_name": "HBoxView",
            "box_style": "",
            "children": [
              "IPY_MODEL_96a47c1120a24c55bd14281a9f7809a1",
              "IPY_MODEL_1f83dbf7cd234a53b6c0847784583b36",
              "IPY_MODEL_57520d20868043ccbcf20dd9ca73221d"
            ],
            "layout": "IPY_MODEL_3e0a8f1ade184ec2b908fe7f7490cb54"
          }
        },
        "96a47c1120a24c55bd14281a9f7809a1": {
          "model_module": "@jupyter-widgets/controls",
          "model_name": "HTMLModel",
          "model_module_version": "1.5.0",
          "state": {
            "_dom_classes": [],
            "_model_module": "@jupyter-widgets/controls",
            "_model_module_version": "1.5.0",
            "_model_name": "HTMLModel",
            "_view_count": null,
            "_view_module": "@jupyter-widgets/controls",
            "_view_module_version": "1.5.0",
            "_view_name": "HTMLView",
            "description": "",
            "description_tooltip": null,
            "layout": "IPY_MODEL_6750f5cc7fb14725a24372c5aa4d5879",
            "placeholder": "​",
            "style": "IPY_MODEL_bc67e8bbbf9347859f9e08a5e637b445",
            "value": "special_tokens_map.json: 100%"
          }
        },
        "1f83dbf7cd234a53b6c0847784583b36": {
          "model_module": "@jupyter-widgets/controls",
          "model_name": "FloatProgressModel",
          "model_module_version": "1.5.0",
          "state": {
            "_dom_classes": [],
            "_model_module": "@jupyter-widgets/controls",
            "_model_module_version": "1.5.0",
            "_model_name": "FloatProgressModel",
            "_view_count": null,
            "_view_module": "@jupyter-widgets/controls",
            "_view_module_version": "1.5.0",
            "_view_name": "ProgressView",
            "bar_style": "success",
            "description": "",
            "description_tooltip": null,
            "layout": "IPY_MODEL_ddf4557bf4974b15b0a043e15113cb8f",
            "max": 964,
            "min": 0,
            "orientation": "horizontal",
            "style": "IPY_MODEL_1e50b41390d64ae585f146c649cdde18",
            "value": 964
          }
        },
        "57520d20868043ccbcf20dd9ca73221d": {
          "model_module": "@jupyter-widgets/controls",
          "model_name": "HTMLModel",
          "model_module_version": "1.5.0",
          "state": {
            "_dom_classes": [],
            "_model_module": "@jupyter-widgets/controls",
            "_model_module_version": "1.5.0",
            "_model_name": "HTMLModel",
            "_view_count": null,
            "_view_module": "@jupyter-widgets/controls",
            "_view_module_version": "1.5.0",
            "_view_name": "HTMLView",
            "description": "",
            "description_tooltip": null,
            "layout": "IPY_MODEL_419bcdc564c24206b1114160e75b4b22",
            "placeholder": "​",
            "style": "IPY_MODEL_ae8bce771a924c3597523cbf966ec2c0",
            "value": " 964/964 [00:00&lt;00:00, 7.51kB/s]"
          }
        },
        "3e0a8f1ade184ec2b908fe7f7490cb54": {
          "model_module": "@jupyter-widgets/base",
          "model_name": "LayoutModel",
          "model_module_version": "1.2.0",
          "state": {
            "_model_module": "@jupyter-widgets/base",
            "_model_module_version": "1.2.0",
            "_model_name": "LayoutModel",
            "_view_count": null,
            "_view_module": "@jupyter-widgets/base",
            "_view_module_version": "1.2.0",
            "_view_name": "LayoutView",
            "align_content": null,
            "align_items": null,
            "align_self": null,
            "border": null,
            "bottom": null,
            "display": null,
            "flex": null,
            "flex_flow": null,
            "grid_area": null,
            "grid_auto_columns": null,
            "grid_auto_flow": null,
            "grid_auto_rows": null,
            "grid_column": null,
            "grid_gap": null,
            "grid_row": null,
            "grid_template_areas": null,
            "grid_template_columns": null,
            "grid_template_rows": null,
            "height": null,
            "justify_content": null,
            "justify_items": null,
            "left": null,
            "margin": null,
            "max_height": null,
            "max_width": null,
            "min_height": null,
            "min_width": null,
            "object_fit": null,
            "object_position": null,
            "order": null,
            "overflow": null,
            "overflow_x": null,
            "overflow_y": null,
            "padding": null,
            "right": null,
            "top": null,
            "visibility": null,
            "width": null
          }
        },
        "6750f5cc7fb14725a24372c5aa4d5879": {
          "model_module": "@jupyter-widgets/base",
          "model_name": "LayoutModel",
          "model_module_version": "1.2.0",
          "state": {
            "_model_module": "@jupyter-widgets/base",
            "_model_module_version": "1.2.0",
            "_model_name": "LayoutModel",
            "_view_count": null,
            "_view_module": "@jupyter-widgets/base",
            "_view_module_version": "1.2.0",
            "_view_name": "LayoutView",
            "align_content": null,
            "align_items": null,
            "align_self": null,
            "border": null,
            "bottom": null,
            "display": null,
            "flex": null,
            "flex_flow": null,
            "grid_area": null,
            "grid_auto_columns": null,
            "grid_auto_flow": null,
            "grid_auto_rows": null,
            "grid_column": null,
            "grid_gap": null,
            "grid_row": null,
            "grid_template_areas": null,
            "grid_template_columns": null,
            "grid_template_rows": null,
            "height": null,
            "justify_content": null,
            "justify_items": null,
            "left": null,
            "margin": null,
            "max_height": null,
            "max_width": null,
            "min_height": null,
            "min_width": null,
            "object_fit": null,
            "object_position": null,
            "order": null,
            "overflow": null,
            "overflow_x": null,
            "overflow_y": null,
            "padding": null,
            "right": null,
            "top": null,
            "visibility": null,
            "width": null
          }
        },
        "bc67e8bbbf9347859f9e08a5e637b445": {
          "model_module": "@jupyter-widgets/controls",
          "model_name": "DescriptionStyleModel",
          "model_module_version": "1.5.0",
          "state": {
            "_model_module": "@jupyter-widgets/controls",
            "_model_module_version": "1.5.0",
            "_model_name": "DescriptionStyleModel",
            "_view_count": null,
            "_view_module": "@jupyter-widgets/base",
            "_view_module_version": "1.2.0",
            "_view_name": "StyleView",
            "description_width": ""
          }
        },
        "ddf4557bf4974b15b0a043e15113cb8f": {
          "model_module": "@jupyter-widgets/base",
          "model_name": "LayoutModel",
          "model_module_version": "1.2.0",
          "state": {
            "_model_module": "@jupyter-widgets/base",
            "_model_module_version": "1.2.0",
            "_model_name": "LayoutModel",
            "_view_count": null,
            "_view_module": "@jupyter-widgets/base",
            "_view_module_version": "1.2.0",
            "_view_name": "LayoutView",
            "align_content": null,
            "align_items": null,
            "align_self": null,
            "border": null,
            "bottom": null,
            "display": null,
            "flex": null,
            "flex_flow": null,
            "grid_area": null,
            "grid_auto_columns": null,
            "grid_auto_flow": null,
            "grid_auto_rows": null,
            "grid_column": null,
            "grid_gap": null,
            "grid_row": null,
            "grid_template_areas": null,
            "grid_template_columns": null,
            "grid_template_rows": null,
            "height": null,
            "justify_content": null,
            "justify_items": null,
            "left": null,
            "margin": null,
            "max_height": null,
            "max_width": null,
            "min_height": null,
            "min_width": null,
            "object_fit": null,
            "object_position": null,
            "order": null,
            "overflow": null,
            "overflow_x": null,
            "overflow_y": null,
            "padding": null,
            "right": null,
            "top": null,
            "visibility": null,
            "width": null
          }
        },
        "1e50b41390d64ae585f146c649cdde18": {
          "model_module": "@jupyter-widgets/controls",
          "model_name": "ProgressStyleModel",
          "model_module_version": "1.5.0",
          "state": {
            "_model_module": "@jupyter-widgets/controls",
            "_model_module_version": "1.5.0",
            "_model_name": "ProgressStyleModel",
            "_view_count": null,
            "_view_module": "@jupyter-widgets/base",
            "_view_module_version": "1.2.0",
            "_view_name": "StyleView",
            "bar_color": null,
            "description_width": ""
          }
        },
        "419bcdc564c24206b1114160e75b4b22": {
          "model_module": "@jupyter-widgets/base",
          "model_name": "LayoutModel",
          "model_module_version": "1.2.0",
          "state": {
            "_model_module": "@jupyter-widgets/base",
            "_model_module_version": "1.2.0",
            "_model_name": "LayoutModel",
            "_view_count": null,
            "_view_module": "@jupyter-widgets/base",
            "_view_module_version": "1.2.0",
            "_view_name": "LayoutView",
            "align_content": null,
            "align_items": null,
            "align_self": null,
            "border": null,
            "bottom": null,
            "display": null,
            "flex": null,
            "flex_flow": null,
            "grid_area": null,
            "grid_auto_columns": null,
            "grid_auto_flow": null,
            "grid_auto_rows": null,
            "grid_column": null,
            "grid_gap": null,
            "grid_row": null,
            "grid_template_areas": null,
            "grid_template_columns": null,
            "grid_template_rows": null,
            "height": null,
            "justify_content": null,
            "justify_items": null,
            "left": null,
            "margin": null,
            "max_height": null,
            "max_width": null,
            "min_height": null,
            "min_width": null,
            "object_fit": null,
            "object_position": null,
            "order": null,
            "overflow": null,
            "overflow_x": null,
            "overflow_y": null,
            "padding": null,
            "right": null,
            "top": null,
            "visibility": null,
            "width": null
          }
        },
        "ae8bce771a924c3597523cbf966ec2c0": {
          "model_module": "@jupyter-widgets/controls",
          "model_name": "DescriptionStyleModel",
          "model_module_version": "1.5.0",
          "state": {
            "_model_module": "@jupyter-widgets/controls",
            "_model_module_version": "1.5.0",
            "_model_name": "DescriptionStyleModel",
            "_view_count": null,
            "_view_module": "@jupyter-widgets/base",
            "_view_module_version": "1.2.0",
            "_view_name": "StyleView",
            "description_width": ""
          }
        },
        "67b9b6f744f94fa2a0503f933343418d": {
          "model_module": "@jupyter-widgets/controls",
          "model_name": "HBoxModel",
          "model_module_version": "1.5.0",
          "state": {
            "_dom_classes": [],
            "_model_module": "@jupyter-widgets/controls",
            "_model_module_version": "1.5.0",
            "_model_name": "HBoxModel",
            "_view_count": null,
            "_view_module": "@jupyter-widgets/controls",
            "_view_module_version": "1.5.0",
            "_view_name": "HBoxView",
            "box_style": "",
            "children": [
              "IPY_MODEL_c77aabc2d34a4c0e893660af37a9bc08",
              "IPY_MODEL_ac48c2e2aed34e908b3bfb9f7380b534",
              "IPY_MODEL_c7b6bc58010941cc9cebca3f537ddf4c"
            ],
            "layout": "IPY_MODEL_092519ef04754814a97490f6f3a46b6f"
          }
        },
        "c77aabc2d34a4c0e893660af37a9bc08": {
          "model_module": "@jupyter-widgets/controls",
          "model_name": "HTMLModel",
          "model_module_version": "1.5.0",
          "state": {
            "_dom_classes": [],
            "_model_module": "@jupyter-widgets/controls",
            "_model_module_version": "1.5.0",
            "_model_name": "HTMLModel",
            "_view_count": null,
            "_view_module": "@jupyter-widgets/controls",
            "_view_module_version": "1.5.0",
            "_view_name": "HTMLView",
            "description": "",
            "description_tooltip": null,
            "layout": "IPY_MODEL_11aa84136a1c47ba9766dfef76a2c882",
            "placeholder": "​",
            "style": "IPY_MODEL_a6e0111eea554c66a6c855d533225458",
            "value": "tokenizer.json: 100%"
          }
        },
        "ac48c2e2aed34e908b3bfb9f7380b534": {
          "model_module": "@jupyter-widgets/controls",
          "model_name": "FloatProgressModel",
          "model_module_version": "1.5.0",
          "state": {
            "_dom_classes": [],
            "_model_module": "@jupyter-widgets/controls",
            "_model_module_version": "1.5.0",
            "_model_name": "FloatProgressModel",
            "_view_count": null,
            "_view_module": "@jupyter-widgets/controls",
            "_view_module_version": "1.5.0",
            "_view_name": "ProgressView",
            "bar_style": "success",
            "description": "",
            "description_tooltip": null,
            "layout": "IPY_MODEL_add0a28a78cb44e0a83784e866f96dcf",
            "max": 17098108,
            "min": 0,
            "orientation": "horizontal",
            "style": "IPY_MODEL_120e719150344ee0b4ec3b431c4d343b",
            "value": 17098108
          }
        },
        "c7b6bc58010941cc9cebca3f537ddf4c": {
          "model_module": "@jupyter-widgets/controls",
          "model_name": "HTMLModel",
          "model_module_version": "1.5.0",
          "state": {
            "_dom_classes": [],
            "_model_module": "@jupyter-widgets/controls",
            "_model_module_version": "1.5.0",
            "_model_name": "HTMLModel",
            "_view_count": null,
            "_view_module": "@jupyter-widgets/controls",
            "_view_module_version": "1.5.0",
            "_view_name": "HTMLView",
            "description": "",
            "description_tooltip": null,
            "layout": "IPY_MODEL_46bfd36e025b4febb67894721d93d7f5",
            "placeholder": "​",
            "style": "IPY_MODEL_f8c4bdada38a4983ae6881285f1ce98f",
            "value": " 17.1M/17.1M [00:00&lt;00:00, 32.7MB/s]"
          }
        },
        "092519ef04754814a97490f6f3a46b6f": {
          "model_module": "@jupyter-widgets/base",
          "model_name": "LayoutModel",
          "model_module_version": "1.2.0",
          "state": {
            "_model_module": "@jupyter-widgets/base",
            "_model_module_version": "1.2.0",
            "_model_name": "LayoutModel",
            "_view_count": null,
            "_view_module": "@jupyter-widgets/base",
            "_view_module_version": "1.2.0",
            "_view_name": "LayoutView",
            "align_content": null,
            "align_items": null,
            "align_self": null,
            "border": null,
            "bottom": null,
            "display": null,
            "flex": null,
            "flex_flow": null,
            "grid_area": null,
            "grid_auto_columns": null,
            "grid_auto_flow": null,
            "grid_auto_rows": null,
            "grid_column": null,
            "grid_gap": null,
            "grid_row": null,
            "grid_template_areas": null,
            "grid_template_columns": null,
            "grid_template_rows": null,
            "height": null,
            "justify_content": null,
            "justify_items": null,
            "left": null,
            "margin": null,
            "max_height": null,
            "max_width": null,
            "min_height": null,
            "min_width": null,
            "object_fit": null,
            "object_position": null,
            "order": null,
            "overflow": null,
            "overflow_x": null,
            "overflow_y": null,
            "padding": null,
            "right": null,
            "top": null,
            "visibility": null,
            "width": null
          }
        },
        "11aa84136a1c47ba9766dfef76a2c882": {
          "model_module": "@jupyter-widgets/base",
          "model_name": "LayoutModel",
          "model_module_version": "1.2.0",
          "state": {
            "_model_module": "@jupyter-widgets/base",
            "_model_module_version": "1.2.0",
            "_model_name": "LayoutModel",
            "_view_count": null,
            "_view_module": "@jupyter-widgets/base",
            "_view_module_version": "1.2.0",
            "_view_name": "LayoutView",
            "align_content": null,
            "align_items": null,
            "align_self": null,
            "border": null,
            "bottom": null,
            "display": null,
            "flex": null,
            "flex_flow": null,
            "grid_area": null,
            "grid_auto_columns": null,
            "grid_auto_flow": null,
            "grid_auto_rows": null,
            "grid_column": null,
            "grid_gap": null,
            "grid_row": null,
            "grid_template_areas": null,
            "grid_template_columns": null,
            "grid_template_rows": null,
            "height": null,
            "justify_content": null,
            "justify_items": null,
            "left": null,
            "margin": null,
            "max_height": null,
            "max_width": null,
            "min_height": null,
            "min_width": null,
            "object_fit": null,
            "object_position": null,
            "order": null,
            "overflow": null,
            "overflow_x": null,
            "overflow_y": null,
            "padding": null,
            "right": null,
            "top": null,
            "visibility": null,
            "width": null
          }
        },
        "a6e0111eea554c66a6c855d533225458": {
          "model_module": "@jupyter-widgets/controls",
          "model_name": "DescriptionStyleModel",
          "model_module_version": "1.5.0",
          "state": {
            "_model_module": "@jupyter-widgets/controls",
            "_model_module_version": "1.5.0",
            "_model_name": "DescriptionStyleModel",
            "_view_count": null,
            "_view_module": "@jupyter-widgets/base",
            "_view_module_version": "1.2.0",
            "_view_name": "StyleView",
            "description_width": ""
          }
        },
        "add0a28a78cb44e0a83784e866f96dcf": {
          "model_module": "@jupyter-widgets/base",
          "model_name": "LayoutModel",
          "model_module_version": "1.2.0",
          "state": {
            "_model_module": "@jupyter-widgets/base",
            "_model_module_version": "1.2.0",
            "_model_name": "LayoutModel",
            "_view_count": null,
            "_view_module": "@jupyter-widgets/base",
            "_view_module_version": "1.2.0",
            "_view_name": "LayoutView",
            "align_content": null,
            "align_items": null,
            "align_self": null,
            "border": null,
            "bottom": null,
            "display": null,
            "flex": null,
            "flex_flow": null,
            "grid_area": null,
            "grid_auto_columns": null,
            "grid_auto_flow": null,
            "grid_auto_rows": null,
            "grid_column": null,
            "grid_gap": null,
            "grid_row": null,
            "grid_template_areas": null,
            "grid_template_columns": null,
            "grid_template_rows": null,
            "height": null,
            "justify_content": null,
            "justify_items": null,
            "left": null,
            "margin": null,
            "max_height": null,
            "max_width": null,
            "min_height": null,
            "min_width": null,
            "object_fit": null,
            "object_position": null,
            "order": null,
            "overflow": null,
            "overflow_x": null,
            "overflow_y": null,
            "padding": null,
            "right": null,
            "top": null,
            "visibility": null,
            "width": null
          }
        },
        "120e719150344ee0b4ec3b431c4d343b": {
          "model_module": "@jupyter-widgets/controls",
          "model_name": "ProgressStyleModel",
          "model_module_version": "1.5.0",
          "state": {
            "_model_module": "@jupyter-widgets/controls",
            "_model_module_version": "1.5.0",
            "_model_name": "ProgressStyleModel",
            "_view_count": null,
            "_view_module": "@jupyter-widgets/base",
            "_view_module_version": "1.2.0",
            "_view_name": "StyleView",
            "bar_color": null,
            "description_width": ""
          }
        },
        "46bfd36e025b4febb67894721d93d7f5": {
          "model_module": "@jupyter-widgets/base",
          "model_name": "LayoutModel",
          "model_module_version": "1.2.0",
          "state": {
            "_model_module": "@jupyter-widgets/base",
            "_model_module_version": "1.2.0",
            "_model_name": "LayoutModel",
            "_view_count": null,
            "_view_module": "@jupyter-widgets/base",
            "_view_module_version": "1.2.0",
            "_view_name": "LayoutView",
            "align_content": null,
            "align_items": null,
            "align_self": null,
            "border": null,
            "bottom": null,
            "display": null,
            "flex": null,
            "flex_flow": null,
            "grid_area": null,
            "grid_auto_columns": null,
            "grid_auto_flow": null,
            "grid_auto_rows": null,
            "grid_column": null,
            "grid_gap": null,
            "grid_row": null,
            "grid_template_areas": null,
            "grid_template_columns": null,
            "grid_template_rows": null,
            "height": null,
            "justify_content": null,
            "justify_items": null,
            "left": null,
            "margin": null,
            "max_height": null,
            "max_width": null,
            "min_height": null,
            "min_width": null,
            "object_fit": null,
            "object_position": null,
            "order": null,
            "overflow": null,
            "overflow_x": null,
            "overflow_y": null,
            "padding": null,
            "right": null,
            "top": null,
            "visibility": null,
            "width": null
          }
        },
        "f8c4bdada38a4983ae6881285f1ce98f": {
          "model_module": "@jupyter-widgets/controls",
          "model_name": "DescriptionStyleModel",
          "model_module_version": "1.5.0",
          "state": {
            "_model_module": "@jupyter-widgets/controls",
            "_model_module_version": "1.5.0",
            "_model_name": "DescriptionStyleModel",
            "_view_count": null,
            "_view_module": "@jupyter-widgets/base",
            "_view_module_version": "1.2.0",
            "_view_name": "StyleView",
            "description_width": ""
          }
        },
        "c3122403030741b58e1f57e2dcb925ad": {
          "model_module": "@jupyter-widgets/controls",
          "model_name": "HBoxModel",
          "model_module_version": "1.5.0",
          "state": {
            "_dom_classes": [],
            "_model_module": "@jupyter-widgets/controls",
            "_model_module_version": "1.5.0",
            "_model_name": "HBoxModel",
            "_view_count": null,
            "_view_module": "@jupyter-widgets/controls",
            "_view_module_version": "1.5.0",
            "_view_name": "HBoxView",
            "box_style": "",
            "children": [
              "IPY_MODEL_874e57466c024bdfb0d8cdba549011a2",
              "IPY_MODEL_171a1aa99f074000a36ea41f59c0fff2",
              "IPY_MODEL_cbc72d7722744aa08beb5581853c56df"
            ],
            "layout": "IPY_MODEL_6b3ba4ac5efb4917875e954b3cbd4686"
          }
        },
        "874e57466c024bdfb0d8cdba549011a2": {
          "model_module": "@jupyter-widgets/controls",
          "model_name": "HTMLModel",
          "model_module_version": "1.5.0",
          "state": {
            "_dom_classes": [],
            "_model_module": "@jupyter-widgets/controls",
            "_model_module_version": "1.5.0",
            "_model_name": "HTMLModel",
            "_view_count": null,
            "_view_module": "@jupyter-widgets/controls",
            "_view_module_version": "1.5.0",
            "_view_name": "HTMLView",
            "description": "",
            "description_tooltip": null,
            "layout": "IPY_MODEL_a56625143373479ea3c9d735740e7ccf",
            "placeholder": "​",
            "style": "IPY_MODEL_a6e43f4da60e4c6eb57a6c8d5ce3e100",
            "value": "tokenizer_config.json: 100%"
          }
        },
        "171a1aa99f074000a36ea41f59c0fff2": {
          "model_module": "@jupyter-widgets/controls",
          "model_name": "FloatProgressModel",
          "model_module_version": "1.5.0",
          "state": {
            "_dom_classes": [],
            "_model_module": "@jupyter-widgets/controls",
            "_model_module_version": "1.5.0",
            "_model_name": "FloatProgressModel",
            "_view_count": null,
            "_view_module": "@jupyter-widgets/controls",
            "_view_module_version": "1.5.0",
            "_view_name": "ProgressView",
            "bar_style": "success",
            "description": "",
            "description_tooltip": null,
            "layout": "IPY_MODEL_227130c668f948339b4e6efe57714cc6",
            "max": 1313,
            "min": 0,
            "orientation": "horizontal",
            "style": "IPY_MODEL_4911168aa72e4a8eb11329a0293f1282",
            "value": 1313
          }
        },
        "cbc72d7722744aa08beb5581853c56df": {
          "model_module": "@jupyter-widgets/controls",
          "model_name": "HTMLModel",
          "model_module_version": "1.5.0",
          "state": {
            "_dom_classes": [],
            "_model_module": "@jupyter-widgets/controls",
            "_model_module_version": "1.5.0",
            "_model_name": "HTMLModel",
            "_view_count": null,
            "_view_module": "@jupyter-widgets/controls",
            "_view_module_version": "1.5.0",
            "_view_name": "HTMLView",
            "description": "",
            "description_tooltip": null,
            "layout": "IPY_MODEL_da9d58bc19284a53abda02cd48b60b59",
            "placeholder": "​",
            "style": "IPY_MODEL_6a71aefbc7f24047b84ede33130b66df",
            "value": " 1.31k/1.31k [00:00&lt;00:00, 11.0kB/s]"
          }
        },
        "6b3ba4ac5efb4917875e954b3cbd4686": {
          "model_module": "@jupyter-widgets/base",
          "model_name": "LayoutModel",
          "model_module_version": "1.2.0",
          "state": {
            "_model_module": "@jupyter-widgets/base",
            "_model_module_version": "1.2.0",
            "_model_name": "LayoutModel",
            "_view_count": null,
            "_view_module": "@jupyter-widgets/base",
            "_view_module_version": "1.2.0",
            "_view_name": "LayoutView",
            "align_content": null,
            "align_items": null,
            "align_self": null,
            "border": null,
            "bottom": null,
            "display": null,
            "flex": null,
            "flex_flow": null,
            "grid_area": null,
            "grid_auto_columns": null,
            "grid_auto_flow": null,
            "grid_auto_rows": null,
            "grid_column": null,
            "grid_gap": null,
            "grid_row": null,
            "grid_template_areas": null,
            "grid_template_columns": null,
            "grid_template_rows": null,
            "height": null,
            "justify_content": null,
            "justify_items": null,
            "left": null,
            "margin": null,
            "max_height": null,
            "max_width": null,
            "min_height": null,
            "min_width": null,
            "object_fit": null,
            "object_position": null,
            "order": null,
            "overflow": null,
            "overflow_x": null,
            "overflow_y": null,
            "padding": null,
            "right": null,
            "top": null,
            "visibility": null,
            "width": null
          }
        },
        "a56625143373479ea3c9d735740e7ccf": {
          "model_module": "@jupyter-widgets/base",
          "model_name": "LayoutModel",
          "model_module_version": "1.2.0",
          "state": {
            "_model_module": "@jupyter-widgets/base",
            "_model_module_version": "1.2.0",
            "_model_name": "LayoutModel",
            "_view_count": null,
            "_view_module": "@jupyter-widgets/base",
            "_view_module_version": "1.2.0",
            "_view_name": "LayoutView",
            "align_content": null,
            "align_items": null,
            "align_self": null,
            "border": null,
            "bottom": null,
            "display": null,
            "flex": null,
            "flex_flow": null,
            "grid_area": null,
            "grid_auto_columns": null,
            "grid_auto_flow": null,
            "grid_auto_rows": null,
            "grid_column": null,
            "grid_gap": null,
            "grid_row": null,
            "grid_template_areas": null,
            "grid_template_columns": null,
            "grid_template_rows": null,
            "height": null,
            "justify_content": null,
            "justify_items": null,
            "left": null,
            "margin": null,
            "max_height": null,
            "max_width": null,
            "min_height": null,
            "min_width": null,
            "object_fit": null,
            "object_position": null,
            "order": null,
            "overflow": null,
            "overflow_x": null,
            "overflow_y": null,
            "padding": null,
            "right": null,
            "top": null,
            "visibility": null,
            "width": null
          }
        },
        "a6e43f4da60e4c6eb57a6c8d5ce3e100": {
          "model_module": "@jupyter-widgets/controls",
          "model_name": "DescriptionStyleModel",
          "model_module_version": "1.5.0",
          "state": {
            "_model_module": "@jupyter-widgets/controls",
            "_model_module_version": "1.5.0",
            "_model_name": "DescriptionStyleModel",
            "_view_count": null,
            "_view_module": "@jupyter-widgets/base",
            "_view_module_version": "1.2.0",
            "_view_name": "StyleView",
            "description_width": ""
          }
        },
        "227130c668f948339b4e6efe57714cc6": {
          "model_module": "@jupyter-widgets/base",
          "model_name": "LayoutModel",
          "model_module_version": "1.2.0",
          "state": {
            "_model_module": "@jupyter-widgets/base",
            "_model_module_version": "1.2.0",
            "_model_name": "LayoutModel",
            "_view_count": null,
            "_view_module": "@jupyter-widgets/base",
            "_view_module_version": "1.2.0",
            "_view_name": "LayoutView",
            "align_content": null,
            "align_items": null,
            "align_self": null,
            "border": null,
            "bottom": null,
            "display": null,
            "flex": null,
            "flex_flow": null,
            "grid_area": null,
            "grid_auto_columns": null,
            "grid_auto_flow": null,
            "grid_auto_rows": null,
            "grid_column": null,
            "grid_gap": null,
            "grid_row": null,
            "grid_template_areas": null,
            "grid_template_columns": null,
            "grid_template_rows": null,
            "height": null,
            "justify_content": null,
            "justify_items": null,
            "left": null,
            "margin": null,
            "max_height": null,
            "max_width": null,
            "min_height": null,
            "min_width": null,
            "object_fit": null,
            "object_position": null,
            "order": null,
            "overflow": null,
            "overflow_x": null,
            "overflow_y": null,
            "padding": null,
            "right": null,
            "top": null,
            "visibility": null,
            "width": null
          }
        },
        "4911168aa72e4a8eb11329a0293f1282": {
          "model_module": "@jupyter-widgets/controls",
          "model_name": "ProgressStyleModel",
          "model_module_version": "1.5.0",
          "state": {
            "_model_module": "@jupyter-widgets/controls",
            "_model_module_version": "1.5.0",
            "_model_name": "ProgressStyleModel",
            "_view_count": null,
            "_view_module": "@jupyter-widgets/base",
            "_view_module_version": "1.2.0",
            "_view_name": "StyleView",
            "bar_color": null,
            "description_width": ""
          }
        },
        "da9d58bc19284a53abda02cd48b60b59": {
          "model_module": "@jupyter-widgets/base",
          "model_name": "LayoutModel",
          "model_module_version": "1.2.0",
          "state": {
            "_model_module": "@jupyter-widgets/base",
            "_model_module_version": "1.2.0",
            "_model_name": "LayoutModel",
            "_view_count": null,
            "_view_module": "@jupyter-widgets/base",
            "_view_module_version": "1.2.0",
            "_view_name": "LayoutView",
            "align_content": null,
            "align_items": null,
            "align_self": null,
            "border": null,
            "bottom": null,
            "display": null,
            "flex": null,
            "flex_flow": null,
            "grid_area": null,
            "grid_auto_columns": null,
            "grid_auto_flow": null,
            "grid_auto_rows": null,
            "grid_column": null,
            "grid_gap": null,
            "grid_row": null,
            "grid_template_areas": null,
            "grid_template_columns": null,
            "grid_template_rows": null,
            "height": null,
            "justify_content": null,
            "justify_items": null,
            "left": null,
            "margin": null,
            "max_height": null,
            "max_width": null,
            "min_height": null,
            "min_width": null,
            "object_fit": null,
            "object_position": null,
            "order": null,
            "overflow": null,
            "overflow_x": null,
            "overflow_y": null,
            "padding": null,
            "right": null,
            "top": null,
            "visibility": null,
            "width": null
          }
        },
        "6a71aefbc7f24047b84ede33130b66df": {
          "model_module": "@jupyter-widgets/controls",
          "model_name": "DescriptionStyleModel",
          "model_module_version": "1.5.0",
          "state": {
            "_model_module": "@jupyter-widgets/controls",
            "_model_module_version": "1.5.0",
            "_model_name": "DescriptionStyleModel",
            "_view_count": null,
            "_view_module": "@jupyter-widgets/base",
            "_view_module_version": "1.2.0",
            "_view_name": "StyleView",
            "description_width": ""
          }
        },
        "08774a5671984dc883edafe05d0aa8d3": {
          "model_module": "@jupyter-widgets/controls",
          "model_name": "HBoxModel",
          "model_module_version": "1.5.0",
          "state": {
            "_dom_classes": [],
            "_model_module": "@jupyter-widgets/controls",
            "_model_module_version": "1.5.0",
            "_model_name": "HBoxModel",
            "_view_count": null,
            "_view_module": "@jupyter-widgets/controls",
            "_view_module_version": "1.5.0",
            "_view_name": "HBoxView",
            "box_style": "",
            "children": [
              "IPY_MODEL_c7d944eeb11448f98ef0cb88a0274a3f",
              "IPY_MODEL_93767fae3b49432fb04827401a38c1f5",
              "IPY_MODEL_5709532c9ca14b608f410fb60d3565f0"
            ],
            "layout": "IPY_MODEL_94f00997af87430f8c8a52833ea2839b"
          }
        },
        "c7d944eeb11448f98ef0cb88a0274a3f": {
          "model_module": "@jupyter-widgets/controls",
          "model_name": "HTMLModel",
          "model_module_version": "1.5.0",
          "state": {
            "_dom_classes": [],
            "_model_module": "@jupyter-widgets/controls",
            "_model_module_version": "1.5.0",
            "_model_name": "HTMLModel",
            "_view_count": null,
            "_view_module": "@jupyter-widgets/controls",
            "_view_module_version": "1.5.0",
            "_view_name": "HTMLView",
            "description": "",
            "description_tooltip": null,
            "layout": "IPY_MODEL_c85589e33c2a4af3b28ca780d888f6da",
            "placeholder": "​",
            "style": "IPY_MODEL_6edabb9e1b6f498698ee83702e1147a7",
            "value": "model.safetensors: 100%"
          }
        },
        "93767fae3b49432fb04827401a38c1f5": {
          "model_module": "@jupyter-widgets/controls",
          "model_name": "FloatProgressModel",
          "model_module_version": "1.5.0",
          "state": {
            "_dom_classes": [],
            "_model_module": "@jupyter-widgets/controls",
            "_model_module_version": "1.5.0",
            "_model_name": "FloatProgressModel",
            "_view_count": null,
            "_view_module": "@jupyter-widgets/controls",
            "_view_module_version": "1.5.0",
            "_view_name": "ProgressView",
            "bar_style": "success",
            "description": "",
            "description_tooltip": null,
            "layout": "IPY_MODEL_cf80ec12fc2c46bd8b705aca56d20d82",
            "max": 2271064456,
            "min": 0,
            "orientation": "horizontal",
            "style": "IPY_MODEL_0ba26b4fde264560bf21864eff6f97a7",
            "value": 2271064456
          }
        },
        "5709532c9ca14b608f410fb60d3565f0": {
          "model_module": "@jupyter-widgets/controls",
          "model_name": "HTMLModel",
          "model_module_version": "1.5.0",
          "state": {
            "_dom_classes": [],
            "_model_module": "@jupyter-widgets/controls",
            "_model_module_version": "1.5.0",
            "_model_name": "HTMLModel",
            "_view_count": null,
            "_view_module": "@jupyter-widgets/controls",
            "_view_module_version": "1.5.0",
            "_view_name": "HTMLView",
            "description": "",
            "description_tooltip": null,
            "layout": "IPY_MODEL_607c7dc589c7451a9ea96c83c1f5dd30",
            "placeholder": "​",
            "style": "IPY_MODEL_dc420888668946d98fce254b74d7b76f",
            "value": " 2.27G/2.27G [00:44&lt;00:00, 79.6MB/s]"
          }
        },
        "94f00997af87430f8c8a52833ea2839b": {
          "model_module": "@jupyter-widgets/base",
          "model_name": "LayoutModel",
          "model_module_version": "1.2.0",
          "state": {
            "_model_module": "@jupyter-widgets/base",
            "_model_module_version": "1.2.0",
            "_model_name": "LayoutModel",
            "_view_count": null,
            "_view_module": "@jupyter-widgets/base",
            "_view_module_version": "1.2.0",
            "_view_name": "LayoutView",
            "align_content": null,
            "align_items": null,
            "align_self": null,
            "border": null,
            "bottom": null,
            "display": null,
            "flex": null,
            "flex_flow": null,
            "grid_area": null,
            "grid_auto_columns": null,
            "grid_auto_flow": null,
            "grid_auto_rows": null,
            "grid_column": null,
            "grid_gap": null,
            "grid_row": null,
            "grid_template_areas": null,
            "grid_template_columns": null,
            "grid_template_rows": null,
            "height": null,
            "justify_content": null,
            "justify_items": null,
            "left": null,
            "margin": null,
            "max_height": null,
            "max_width": null,
            "min_height": null,
            "min_width": null,
            "object_fit": null,
            "object_position": null,
            "order": null,
            "overflow": null,
            "overflow_x": null,
            "overflow_y": null,
            "padding": null,
            "right": null,
            "top": null,
            "visibility": null,
            "width": null
          }
        },
        "c85589e33c2a4af3b28ca780d888f6da": {
          "model_module": "@jupyter-widgets/base",
          "model_name": "LayoutModel",
          "model_module_version": "1.2.0",
          "state": {
            "_model_module": "@jupyter-widgets/base",
            "_model_module_version": "1.2.0",
            "_model_name": "LayoutModel",
            "_view_count": null,
            "_view_module": "@jupyter-widgets/base",
            "_view_module_version": "1.2.0",
            "_view_name": "LayoutView",
            "align_content": null,
            "align_items": null,
            "align_self": null,
            "border": null,
            "bottom": null,
            "display": null,
            "flex": null,
            "flex_flow": null,
            "grid_area": null,
            "grid_auto_columns": null,
            "grid_auto_flow": null,
            "grid_auto_rows": null,
            "grid_column": null,
            "grid_gap": null,
            "grid_row": null,
            "grid_template_areas": null,
            "grid_template_columns": null,
            "grid_template_rows": null,
            "height": null,
            "justify_content": null,
            "justify_items": null,
            "left": null,
            "margin": null,
            "max_height": null,
            "max_width": null,
            "min_height": null,
            "min_width": null,
            "object_fit": null,
            "object_position": null,
            "order": null,
            "overflow": null,
            "overflow_x": null,
            "overflow_y": null,
            "padding": null,
            "right": null,
            "top": null,
            "visibility": null,
            "width": null
          }
        },
        "6edabb9e1b6f498698ee83702e1147a7": {
          "model_module": "@jupyter-widgets/controls",
          "model_name": "DescriptionStyleModel",
          "model_module_version": "1.5.0",
          "state": {
            "_model_module": "@jupyter-widgets/controls",
            "_model_module_version": "1.5.0",
            "_model_name": "DescriptionStyleModel",
            "_view_count": null,
            "_view_module": "@jupyter-widgets/base",
            "_view_module_version": "1.2.0",
            "_view_name": "StyleView",
            "description_width": ""
          }
        },
        "cf80ec12fc2c46bd8b705aca56d20d82": {
          "model_module": "@jupyter-widgets/base",
          "model_name": "LayoutModel",
          "model_module_version": "1.2.0",
          "state": {
            "_model_module": "@jupyter-widgets/base",
            "_model_module_version": "1.2.0",
            "_model_name": "LayoutModel",
            "_view_count": null,
            "_view_module": "@jupyter-widgets/base",
            "_view_module_version": "1.2.0",
            "_view_name": "LayoutView",
            "align_content": null,
            "align_items": null,
            "align_self": null,
            "border": null,
            "bottom": null,
            "display": null,
            "flex": null,
            "flex_flow": null,
            "grid_area": null,
            "grid_auto_columns": null,
            "grid_auto_flow": null,
            "grid_auto_rows": null,
            "grid_column": null,
            "grid_gap": null,
            "grid_row": null,
            "grid_template_areas": null,
            "grid_template_columns": null,
            "grid_template_rows": null,
            "height": null,
            "justify_content": null,
            "justify_items": null,
            "left": null,
            "margin": null,
            "max_height": null,
            "max_width": null,
            "min_height": null,
            "min_width": null,
            "object_fit": null,
            "object_position": null,
            "order": null,
            "overflow": null,
            "overflow_x": null,
            "overflow_y": null,
            "padding": null,
            "right": null,
            "top": null,
            "visibility": null,
            "width": null
          }
        },
        "0ba26b4fde264560bf21864eff6f97a7": {
          "model_module": "@jupyter-widgets/controls",
          "model_name": "ProgressStyleModel",
          "model_module_version": "1.5.0",
          "state": {
            "_model_module": "@jupyter-widgets/controls",
            "_model_module_version": "1.5.0",
            "_model_name": "ProgressStyleModel",
            "_view_count": null,
            "_view_module": "@jupyter-widgets/base",
            "_view_module_version": "1.2.0",
            "_view_name": "StyleView",
            "bar_color": null,
            "description_width": ""
          }
        },
        "607c7dc589c7451a9ea96c83c1f5dd30": {
          "model_module": "@jupyter-widgets/base",
          "model_name": "LayoutModel",
          "model_module_version": "1.2.0",
          "state": {
            "_model_module": "@jupyter-widgets/base",
            "_model_module_version": "1.2.0",
            "_model_name": "LayoutModel",
            "_view_count": null,
            "_view_module": "@jupyter-widgets/base",
            "_view_module_version": "1.2.0",
            "_view_name": "LayoutView",
            "align_content": null,
            "align_items": null,
            "align_self": null,
            "border": null,
            "bottom": null,
            "display": null,
            "flex": null,
            "flex_flow": null,
            "grid_area": null,
            "grid_auto_columns": null,
            "grid_auto_flow": null,
            "grid_auto_rows": null,
            "grid_column": null,
            "grid_gap": null,
            "grid_row": null,
            "grid_template_areas": null,
            "grid_template_columns": null,
            "grid_template_rows": null,
            "height": null,
            "justify_content": null,
            "justify_items": null,
            "left": null,
            "margin": null,
            "max_height": null,
            "max_width": null,
            "min_height": null,
            "min_width": null,
            "object_fit": null,
            "object_position": null,
            "order": null,
            "overflow": null,
            "overflow_x": null,
            "overflow_y": null,
            "padding": null,
            "right": null,
            "top": null,
            "visibility": null,
            "width": null
          }
        },
        "dc420888668946d98fce254b74d7b76f": {
          "model_module": "@jupyter-widgets/controls",
          "model_name": "DescriptionStyleModel",
          "model_module_version": "1.5.0",
          "state": {
            "_model_module": "@jupyter-widgets/controls",
            "_model_module_version": "1.5.0",
            "_model_name": "DescriptionStyleModel",
            "_view_count": null,
            "_view_module": "@jupyter-widgets/base",
            "_view_module_version": "1.2.0",
            "_view_name": "StyleView",
            "description_width": ""
          }
        },
        "fca78da097994a409d61c00ebdcd5699": {
          "model_module": "@jupyter-widgets/controls",
          "model_name": "HBoxModel",
          "model_module_version": "1.5.0",
          "state": {
            "_dom_classes": [],
            "_model_module": "@jupyter-widgets/controls",
            "_model_module_version": "1.5.0",
            "_model_name": "HBoxModel",
            "_view_count": null,
            "_view_module": "@jupyter-widgets/controls",
            "_view_module_version": "1.5.0",
            "_view_name": "HBoxView",
            "box_style": "",
            "children": [
              "IPY_MODEL_98481d59ac374663b94bd20913a0fb8c",
              "IPY_MODEL_39cb5f543fd346ff9f5e99a841b9ad89",
              "IPY_MODEL_ab82f6fde9f043d294088ca4a11e52f3"
            ],
            "layout": "IPY_MODEL_9a4a4f88e52c4c439ffd1c82e3b0a013"
          }
        },
        "98481d59ac374663b94bd20913a0fb8c": {
          "model_module": "@jupyter-widgets/controls",
          "model_name": "HTMLModel",
          "model_module_version": "1.5.0",
          "state": {
            "_dom_classes": [],
            "_model_module": "@jupyter-widgets/controls",
            "_model_module_version": "1.5.0",
            "_model_name": "HTMLModel",
            "_view_count": null,
            "_view_module": "@jupyter-widgets/controls",
            "_view_module_version": "1.5.0",
            "_view_name": "HTMLView",
            "description": "",
            "description_tooltip": null,
            "layout": "IPY_MODEL_58dda7475bd54cccb76624cb89c0c9b1",
            "placeholder": "​",
            "style": "IPY_MODEL_0ad901d02ad548a2bf658b9c5fe07d0d",
            "value": "pytorch_model.bin: 100%"
          }
        },
        "39cb5f543fd346ff9f5e99a841b9ad89": {
          "model_module": "@jupyter-widgets/controls",
          "model_name": "FloatProgressModel",
          "model_module_version": "1.5.0",
          "state": {
            "_dom_classes": [],
            "_model_module": "@jupyter-widgets/controls",
            "_model_module_version": "1.5.0",
            "_model_name": "FloatProgressModel",
            "_view_count": null,
            "_view_module": "@jupyter-widgets/controls",
            "_view_module_version": "1.5.0",
            "_view_name": "ProgressView",
            "bar_style": "success",
            "description": "",
            "description_tooltip": null,
            "layout": "IPY_MODEL_2c483ac3691341f09efc5ea1d92d4fbd",
            "max": 2271145830,
            "min": 0,
            "orientation": "horizontal",
            "style": "IPY_MODEL_4febd6caca4449dea419d783e9b08b0b",
            "value": 2271145830
          }
        },
        "ab82f6fde9f043d294088ca4a11e52f3": {
          "model_module": "@jupyter-widgets/controls",
          "model_name": "HTMLModel",
          "model_module_version": "1.5.0",
          "state": {
            "_dom_classes": [],
            "_model_module": "@jupyter-widgets/controls",
            "_model_module_version": "1.5.0",
            "_model_name": "HTMLModel",
            "_view_count": null,
            "_view_module": "@jupyter-widgets/controls",
            "_view_module_version": "1.5.0",
            "_view_name": "HTMLView",
            "description": "",
            "description_tooltip": null,
            "layout": "IPY_MODEL_47f96b57374f4854b954b189839ba0de",
            "placeholder": "​",
            "style": "IPY_MODEL_796e9786fbf44800b81f21ab547287ed",
            "value": " 2.27G/2.27G [00:44&lt;00:00, 74.2MB/s]"
          }
        },
        "9a4a4f88e52c4c439ffd1c82e3b0a013": {
          "model_module": "@jupyter-widgets/base",
          "model_name": "LayoutModel",
          "model_module_version": "1.2.0",
          "state": {
            "_model_module": "@jupyter-widgets/base",
            "_model_module_version": "1.2.0",
            "_model_name": "LayoutModel",
            "_view_count": null,
            "_view_module": "@jupyter-widgets/base",
            "_view_module_version": "1.2.0",
            "_view_name": "LayoutView",
            "align_content": null,
            "align_items": null,
            "align_self": null,
            "border": null,
            "bottom": null,
            "display": null,
            "flex": null,
            "flex_flow": null,
            "grid_area": null,
            "grid_auto_columns": null,
            "grid_auto_flow": null,
            "grid_auto_rows": null,
            "grid_column": null,
            "grid_gap": null,
            "grid_row": null,
            "grid_template_areas": null,
            "grid_template_columns": null,
            "grid_template_rows": null,
            "height": null,
            "justify_content": null,
            "justify_items": null,
            "left": null,
            "margin": null,
            "max_height": null,
            "max_width": null,
            "min_height": null,
            "min_width": null,
            "object_fit": null,
            "object_position": null,
            "order": null,
            "overflow": null,
            "overflow_x": null,
            "overflow_y": null,
            "padding": null,
            "right": null,
            "top": null,
            "visibility": null,
            "width": null
          }
        },
        "58dda7475bd54cccb76624cb89c0c9b1": {
          "model_module": "@jupyter-widgets/base",
          "model_name": "LayoutModel",
          "model_module_version": "1.2.0",
          "state": {
            "_model_module": "@jupyter-widgets/base",
            "_model_module_version": "1.2.0",
            "_model_name": "LayoutModel",
            "_view_count": null,
            "_view_module": "@jupyter-widgets/base",
            "_view_module_version": "1.2.0",
            "_view_name": "LayoutView",
            "align_content": null,
            "align_items": null,
            "align_self": null,
            "border": null,
            "bottom": null,
            "display": null,
            "flex": null,
            "flex_flow": null,
            "grid_area": null,
            "grid_auto_columns": null,
            "grid_auto_flow": null,
            "grid_auto_rows": null,
            "grid_column": null,
            "grid_gap": null,
            "grid_row": null,
            "grid_template_areas": null,
            "grid_template_columns": null,
            "grid_template_rows": null,
            "height": null,
            "justify_content": null,
            "justify_items": null,
            "left": null,
            "margin": null,
            "max_height": null,
            "max_width": null,
            "min_height": null,
            "min_width": null,
            "object_fit": null,
            "object_position": null,
            "order": null,
            "overflow": null,
            "overflow_x": null,
            "overflow_y": null,
            "padding": null,
            "right": null,
            "top": null,
            "visibility": null,
            "width": null
          }
        },
        "0ad901d02ad548a2bf658b9c5fe07d0d": {
          "model_module": "@jupyter-widgets/controls",
          "model_name": "DescriptionStyleModel",
          "model_module_version": "1.5.0",
          "state": {
            "_model_module": "@jupyter-widgets/controls",
            "_model_module_version": "1.5.0",
            "_model_name": "DescriptionStyleModel",
            "_view_count": null,
            "_view_module": "@jupyter-widgets/base",
            "_view_module_version": "1.2.0",
            "_view_name": "StyleView",
            "description_width": ""
          }
        },
        "2c483ac3691341f09efc5ea1d92d4fbd": {
          "model_module": "@jupyter-widgets/base",
          "model_name": "LayoutModel",
          "model_module_version": "1.2.0",
          "state": {
            "_model_module": "@jupyter-widgets/base",
            "_model_module_version": "1.2.0",
            "_model_name": "LayoutModel",
            "_view_count": null,
            "_view_module": "@jupyter-widgets/base",
            "_view_module_version": "1.2.0",
            "_view_name": "LayoutView",
            "align_content": null,
            "align_items": null,
            "align_self": null,
            "border": null,
            "bottom": null,
            "display": null,
            "flex": null,
            "flex_flow": null,
            "grid_area": null,
            "grid_auto_columns": null,
            "grid_auto_flow": null,
            "grid_auto_rows": null,
            "grid_column": null,
            "grid_gap": null,
            "grid_row": null,
            "grid_template_areas": null,
            "grid_template_columns": null,
            "grid_template_rows": null,
            "height": null,
            "justify_content": null,
            "justify_items": null,
            "left": null,
            "margin": null,
            "max_height": null,
            "max_width": null,
            "min_height": null,
            "min_width": null,
            "object_fit": null,
            "object_position": null,
            "order": null,
            "overflow": null,
            "overflow_x": null,
            "overflow_y": null,
            "padding": null,
            "right": null,
            "top": null,
            "visibility": null,
            "width": null
          }
        },
        "4febd6caca4449dea419d783e9b08b0b": {
          "model_module": "@jupyter-widgets/controls",
          "model_name": "ProgressStyleModel",
          "model_module_version": "1.5.0",
          "state": {
            "_model_module": "@jupyter-widgets/controls",
            "_model_module_version": "1.5.0",
            "_model_name": "ProgressStyleModel",
            "_view_count": null,
            "_view_module": "@jupyter-widgets/base",
            "_view_module_version": "1.2.0",
            "_view_name": "StyleView",
            "bar_color": null,
            "description_width": ""
          }
        },
        "47f96b57374f4854b954b189839ba0de": {
          "model_module": "@jupyter-widgets/base",
          "model_name": "LayoutModel",
          "model_module_version": "1.2.0",
          "state": {
            "_model_module": "@jupyter-widgets/base",
            "_model_module_version": "1.2.0",
            "_model_name": "LayoutModel",
            "_view_count": null,
            "_view_module": "@jupyter-widgets/base",
            "_view_module_version": "1.2.0",
            "_view_name": "LayoutView",
            "align_content": null,
            "align_items": null,
            "align_self": null,
            "border": null,
            "bottom": null,
            "display": null,
            "flex": null,
            "flex_flow": null,
            "grid_area": null,
            "grid_auto_columns": null,
            "grid_auto_flow": null,
            "grid_auto_rows": null,
            "grid_column": null,
            "grid_gap": null,
            "grid_row": null,
            "grid_template_areas": null,
            "grid_template_columns": null,
            "grid_template_rows": null,
            "height": null,
            "justify_content": null,
            "justify_items": null,
            "left": null,
            "margin": null,
            "max_height": null,
            "max_width": null,
            "min_height": null,
            "min_width": null,
            "object_fit": null,
            "object_position": null,
            "order": null,
            "overflow": null,
            "overflow_x": null,
            "overflow_y": null,
            "padding": null,
            "right": null,
            "top": null,
            "visibility": null,
            "width": null
          }
        },
        "796e9786fbf44800b81f21ab547287ed": {
          "model_module": "@jupyter-widgets/controls",
          "model_name": "DescriptionStyleModel",
          "model_module_version": "1.5.0",
          "state": {
            "_model_module": "@jupyter-widgets/controls",
            "_model_module_version": "1.5.0",
            "_model_name": "DescriptionStyleModel",
            "_view_count": null,
            "_view_module": "@jupyter-widgets/base",
            "_view_module_version": "1.2.0",
            "_view_name": "StyleView",
            "description_width": ""
          }
        },
        "0f65e59fbb44406dbbe9f043f80effa2": {
          "model_module": "@jupyter-widgets/controls",
          "model_name": "HBoxModel",
          "model_module_version": "1.5.0",
          "state": {
            "_dom_classes": [],
            "_model_module": "@jupyter-widgets/controls",
            "_model_module_version": "1.5.0",
            "_model_name": "HBoxModel",
            "_view_count": null,
            "_view_module": "@jupyter-widgets/controls",
            "_view_module_version": "1.5.0",
            "_view_name": "HBoxView",
            "box_style": "",
            "children": [
              "IPY_MODEL_009da8119f864ed08e52bc17223ea813",
              "IPY_MODEL_01d8a9323da540e48543c0caffe7d30d",
              "IPY_MODEL_963e045081c94c4ea1e82e77d98eb77b"
            ],
            "layout": "IPY_MODEL_fd8194658f9b4fc7ba2a7036324a69e7"
          }
        },
        "009da8119f864ed08e52bc17223ea813": {
          "model_module": "@jupyter-widgets/controls",
          "model_name": "HTMLModel",
          "model_module_version": "1.5.0",
          "state": {
            "_dom_classes": [],
            "_model_module": "@jupyter-widgets/controls",
            "_model_module_version": "1.5.0",
            "_model_name": "HTMLModel",
            "_view_count": null,
            "_view_module": "@jupyter-widgets/controls",
            "_view_module_version": "1.5.0",
            "_view_name": "HTMLView",
            "description": "",
            "description_tooltip": null,
            "layout": "IPY_MODEL_3bf4adc50c23439ab5cbc00bcc2fcdf9",
            "placeholder": "​",
            "style": "IPY_MODEL_c27c5b906a154ba89644349bc792de59",
            "value": "sentencepiece.bpe.model: 100%"
          }
        },
        "01d8a9323da540e48543c0caffe7d30d": {
          "model_module": "@jupyter-widgets/controls",
          "model_name": "FloatProgressModel",
          "model_module_version": "1.5.0",
          "state": {
            "_dom_classes": [],
            "_model_module": "@jupyter-widgets/controls",
            "_model_module_version": "1.5.0",
            "_model_name": "FloatProgressModel",
            "_view_count": null,
            "_view_module": "@jupyter-widgets/controls",
            "_view_module_version": "1.5.0",
            "_view_name": "ProgressView",
            "bar_style": "success",
            "description": "",
            "description_tooltip": null,
            "layout": "IPY_MODEL_41a080a0f4084c9fb7d7958ed9db8f1f",
            "max": 5069051,
            "min": 0,
            "orientation": "horizontal",
            "style": "IPY_MODEL_a8481da430ba49e2b84a20307185a54c",
            "value": 5069051
          }
        },
        "963e045081c94c4ea1e82e77d98eb77b": {
          "model_module": "@jupyter-widgets/controls",
          "model_name": "HTMLModel",
          "model_module_version": "1.5.0",
          "state": {
            "_dom_classes": [],
            "_model_module": "@jupyter-widgets/controls",
            "_model_module_version": "1.5.0",
            "_model_name": "HTMLModel",
            "_view_count": null,
            "_view_module": "@jupyter-widgets/controls",
            "_view_module_version": "1.5.0",
            "_view_name": "HTMLView",
            "description": "",
            "description_tooltip": null,
            "layout": "IPY_MODEL_436826f37be3493a8087ec9164487acf",
            "placeholder": "​",
            "style": "IPY_MODEL_4a7df4db3be94896a75327b8d7b75d8d",
            "value": " 5.07M/5.07M [00:00&lt;00:00, 20.4MB/s]"
          }
        },
        "fd8194658f9b4fc7ba2a7036324a69e7": {
          "model_module": "@jupyter-widgets/base",
          "model_name": "LayoutModel",
          "model_module_version": "1.2.0",
          "state": {
            "_model_module": "@jupyter-widgets/base",
            "_model_module_version": "1.2.0",
            "_model_name": "LayoutModel",
            "_view_count": null,
            "_view_module": "@jupyter-widgets/base",
            "_view_module_version": "1.2.0",
            "_view_name": "LayoutView",
            "align_content": null,
            "align_items": null,
            "align_self": null,
            "border": null,
            "bottom": null,
            "display": null,
            "flex": null,
            "flex_flow": null,
            "grid_area": null,
            "grid_auto_columns": null,
            "grid_auto_flow": null,
            "grid_auto_rows": null,
            "grid_column": null,
            "grid_gap": null,
            "grid_row": null,
            "grid_template_areas": null,
            "grid_template_columns": null,
            "grid_template_rows": null,
            "height": null,
            "justify_content": null,
            "justify_items": null,
            "left": null,
            "margin": null,
            "max_height": null,
            "max_width": null,
            "min_height": null,
            "min_width": null,
            "object_fit": null,
            "object_position": null,
            "order": null,
            "overflow": null,
            "overflow_x": null,
            "overflow_y": null,
            "padding": null,
            "right": null,
            "top": null,
            "visibility": null,
            "width": null
          }
        },
        "3bf4adc50c23439ab5cbc00bcc2fcdf9": {
          "model_module": "@jupyter-widgets/base",
          "model_name": "LayoutModel",
          "model_module_version": "1.2.0",
          "state": {
            "_model_module": "@jupyter-widgets/base",
            "_model_module_version": "1.2.0",
            "_model_name": "LayoutModel",
            "_view_count": null,
            "_view_module": "@jupyter-widgets/base",
            "_view_module_version": "1.2.0",
            "_view_name": "LayoutView",
            "align_content": null,
            "align_items": null,
            "align_self": null,
            "border": null,
            "bottom": null,
            "display": null,
            "flex": null,
            "flex_flow": null,
            "grid_area": null,
            "grid_auto_columns": null,
            "grid_auto_flow": null,
            "grid_auto_rows": null,
            "grid_column": null,
            "grid_gap": null,
            "grid_row": null,
            "grid_template_areas": null,
            "grid_template_columns": null,
            "grid_template_rows": null,
            "height": null,
            "justify_content": null,
            "justify_items": null,
            "left": null,
            "margin": null,
            "max_height": null,
            "max_width": null,
            "min_height": null,
            "min_width": null,
            "object_fit": null,
            "object_position": null,
            "order": null,
            "overflow": null,
            "overflow_x": null,
            "overflow_y": null,
            "padding": null,
            "right": null,
            "top": null,
            "visibility": null,
            "width": null
          }
        },
        "c27c5b906a154ba89644349bc792de59": {
          "model_module": "@jupyter-widgets/controls",
          "model_name": "DescriptionStyleModel",
          "model_module_version": "1.5.0",
          "state": {
            "_model_module": "@jupyter-widgets/controls",
            "_model_module_version": "1.5.0",
            "_model_name": "DescriptionStyleModel",
            "_view_count": null,
            "_view_module": "@jupyter-widgets/base",
            "_view_module_version": "1.2.0",
            "_view_name": "StyleView",
            "description_width": ""
          }
        },
        "41a080a0f4084c9fb7d7958ed9db8f1f": {
          "model_module": "@jupyter-widgets/base",
          "model_name": "LayoutModel",
          "model_module_version": "1.2.0",
          "state": {
            "_model_module": "@jupyter-widgets/base",
            "_model_module_version": "1.2.0",
            "_model_name": "LayoutModel",
            "_view_count": null,
            "_view_module": "@jupyter-widgets/base",
            "_view_module_version": "1.2.0",
            "_view_name": "LayoutView",
            "align_content": null,
            "align_items": null,
            "align_self": null,
            "border": null,
            "bottom": null,
            "display": null,
            "flex": null,
            "flex_flow": null,
            "grid_area": null,
            "grid_auto_columns": null,
            "grid_auto_flow": null,
            "grid_auto_rows": null,
            "grid_column": null,
            "grid_gap": null,
            "grid_row": null,
            "grid_template_areas": null,
            "grid_template_columns": null,
            "grid_template_rows": null,
            "height": null,
            "justify_content": null,
            "justify_items": null,
            "left": null,
            "margin": null,
            "max_height": null,
            "max_width": null,
            "min_height": null,
            "min_width": null,
            "object_fit": null,
            "object_position": null,
            "order": null,
            "overflow": null,
            "overflow_x": null,
            "overflow_y": null,
            "padding": null,
            "right": null,
            "top": null,
            "visibility": null,
            "width": null
          }
        },
        "a8481da430ba49e2b84a20307185a54c": {
          "model_module": "@jupyter-widgets/controls",
          "model_name": "ProgressStyleModel",
          "model_module_version": "1.5.0",
          "state": {
            "_model_module": "@jupyter-widgets/controls",
            "_model_module_version": "1.5.0",
            "_model_name": "ProgressStyleModel",
            "_view_count": null,
            "_view_module": "@jupyter-widgets/base",
            "_view_module_version": "1.2.0",
            "_view_name": "StyleView",
            "bar_color": null,
            "description_width": ""
          }
        },
        "436826f37be3493a8087ec9164487acf": {
          "model_module": "@jupyter-widgets/base",
          "model_name": "LayoutModel",
          "model_module_version": "1.2.0",
          "state": {
            "_model_module": "@jupyter-widgets/base",
            "_model_module_version": "1.2.0",
            "_model_name": "LayoutModel",
            "_view_count": null,
            "_view_module": "@jupyter-widgets/base",
            "_view_module_version": "1.2.0",
            "_view_name": "LayoutView",
            "align_content": null,
            "align_items": null,
            "align_self": null,
            "border": null,
            "bottom": null,
            "display": null,
            "flex": null,
            "flex_flow": null,
            "grid_area": null,
            "grid_auto_columns": null,
            "grid_auto_flow": null,
            "grid_auto_rows": null,
            "grid_column": null,
            "grid_gap": null,
            "grid_row": null,
            "grid_template_areas": null,
            "grid_template_columns": null,
            "grid_template_rows": null,
            "height": null,
            "justify_content": null,
            "justify_items": null,
            "left": null,
            "margin": null,
            "max_height": null,
            "max_width": null,
            "min_height": null,
            "min_width": null,
            "object_fit": null,
            "object_position": null,
            "order": null,
            "overflow": null,
            "overflow_x": null,
            "overflow_y": null,
            "padding": null,
            "right": null,
            "top": null,
            "visibility": null,
            "width": null
          }
        },
        "4a7df4db3be94896a75327b8d7b75d8d": {
          "model_module": "@jupyter-widgets/controls",
          "model_name": "DescriptionStyleModel",
          "model_module_version": "1.5.0",
          "state": {
            "_model_module": "@jupyter-widgets/controls",
            "_model_module_version": "1.5.0",
            "_model_name": "DescriptionStyleModel",
            "_view_count": null,
            "_view_module": "@jupyter-widgets/base",
            "_view_module_version": "1.2.0",
            "_view_name": "StyleView",
            "description_width": ""
          }
        },
        "e6cdd9ac46cc4c6ab430255bbb0b6526": {
          "model_module": "@jupyter-widgets/controls",
          "model_name": "HBoxModel",
          "model_module_version": "1.5.0",
          "state": {
            "_dom_classes": [],
            "_model_module": "@jupyter-widgets/controls",
            "_model_module_version": "1.5.0",
            "_model_name": "HBoxModel",
            "_view_count": null,
            "_view_module": "@jupyter-widgets/controls",
            "_view_module_version": "1.5.0",
            "_view_name": "HBoxView",
            "box_style": "",
            "children": [
              "IPY_MODEL_1bca99971af04b9381b18c0d8510ad9a",
              "IPY_MODEL_515aaeb121de4932872e33303746e645",
              "IPY_MODEL_783227fb7ec74a5ebc4903e150e4a7e7"
            ],
            "layout": "IPY_MODEL_72ea5b7338f34060b265732a554d0b54"
          }
        },
        "1bca99971af04b9381b18c0d8510ad9a": {
          "model_module": "@jupyter-widgets/controls",
          "model_name": "HTMLModel",
          "model_module_version": "1.5.0",
          "state": {
            "_dom_classes": [],
            "_model_module": "@jupyter-widgets/controls",
            "_model_module_version": "1.5.0",
            "_model_name": "HTMLModel",
            "_view_count": null,
            "_view_module": "@jupyter-widgets/controls",
            "_view_module_version": "1.5.0",
            "_view_name": "HTMLView",
            "description": "",
            "description_tooltip": null,
            "layout": "IPY_MODEL_ff288429a8d84638b4129d74053480d0",
            "placeholder": "​",
            "style": "IPY_MODEL_73e2fb3f7f9a4928bdc3fa1629057901",
            "value": "sparse_linear.pt: 100%"
          }
        },
        "515aaeb121de4932872e33303746e645": {
          "model_module": "@jupyter-widgets/controls",
          "model_name": "FloatProgressModel",
          "model_module_version": "1.5.0",
          "state": {
            "_dom_classes": [],
            "_model_module": "@jupyter-widgets/controls",
            "_model_module_version": "1.5.0",
            "_model_name": "FloatProgressModel",
            "_view_count": null,
            "_view_module": "@jupyter-widgets/controls",
            "_view_module_version": "1.5.0",
            "_view_name": "ProgressView",
            "bar_style": "success",
            "description": "",
            "description_tooltip": null,
            "layout": "IPY_MODEL_293101009a3c46e8b61c0483da264229",
            "max": 3516,
            "min": 0,
            "orientation": "horizontal",
            "style": "IPY_MODEL_d098d3909d834508b9c698c5bede4a8f",
            "value": 3516
          }
        },
        "783227fb7ec74a5ebc4903e150e4a7e7": {
          "model_module": "@jupyter-widgets/controls",
          "model_name": "HTMLModel",
          "model_module_version": "1.5.0",
          "state": {
            "_dom_classes": [],
            "_model_module": "@jupyter-widgets/controls",
            "_model_module_version": "1.5.0",
            "_model_name": "HTMLModel",
            "_view_count": null,
            "_view_module": "@jupyter-widgets/controls",
            "_view_module_version": "1.5.0",
            "_view_name": "HTMLView",
            "description": "",
            "description_tooltip": null,
            "layout": "IPY_MODEL_96382d8413194e38b33a338cc9c7c41e",
            "placeholder": "​",
            "style": "IPY_MODEL_37a88d57018348ae88e85b40191a733e",
            "value": " 3.52k/3.52k [00:00&lt;00:00, 32.4kB/s]"
          }
        },
        "72ea5b7338f34060b265732a554d0b54": {
          "model_module": "@jupyter-widgets/base",
          "model_name": "LayoutModel",
          "model_module_version": "1.2.0",
          "state": {
            "_model_module": "@jupyter-widgets/base",
            "_model_module_version": "1.2.0",
            "_model_name": "LayoutModel",
            "_view_count": null,
            "_view_module": "@jupyter-widgets/base",
            "_view_module_version": "1.2.0",
            "_view_name": "LayoutView",
            "align_content": null,
            "align_items": null,
            "align_self": null,
            "border": null,
            "bottom": null,
            "display": null,
            "flex": null,
            "flex_flow": null,
            "grid_area": null,
            "grid_auto_columns": null,
            "grid_auto_flow": null,
            "grid_auto_rows": null,
            "grid_column": null,
            "grid_gap": null,
            "grid_row": null,
            "grid_template_areas": null,
            "grid_template_columns": null,
            "grid_template_rows": null,
            "height": null,
            "justify_content": null,
            "justify_items": null,
            "left": null,
            "margin": null,
            "max_height": null,
            "max_width": null,
            "min_height": null,
            "min_width": null,
            "object_fit": null,
            "object_position": null,
            "order": null,
            "overflow": null,
            "overflow_x": null,
            "overflow_y": null,
            "padding": null,
            "right": null,
            "top": null,
            "visibility": null,
            "width": null
          }
        },
        "ff288429a8d84638b4129d74053480d0": {
          "model_module": "@jupyter-widgets/base",
          "model_name": "LayoutModel",
          "model_module_version": "1.2.0",
          "state": {
            "_model_module": "@jupyter-widgets/base",
            "_model_module_version": "1.2.0",
            "_model_name": "LayoutModel",
            "_view_count": null,
            "_view_module": "@jupyter-widgets/base",
            "_view_module_version": "1.2.0",
            "_view_name": "LayoutView",
            "align_content": null,
            "align_items": null,
            "align_self": null,
            "border": null,
            "bottom": null,
            "display": null,
            "flex": null,
            "flex_flow": null,
            "grid_area": null,
            "grid_auto_columns": null,
            "grid_auto_flow": null,
            "grid_auto_rows": null,
            "grid_column": null,
            "grid_gap": null,
            "grid_row": null,
            "grid_template_areas": null,
            "grid_template_columns": null,
            "grid_template_rows": null,
            "height": null,
            "justify_content": null,
            "justify_items": null,
            "left": null,
            "margin": null,
            "max_height": null,
            "max_width": null,
            "min_height": null,
            "min_width": null,
            "object_fit": null,
            "object_position": null,
            "order": null,
            "overflow": null,
            "overflow_x": null,
            "overflow_y": null,
            "padding": null,
            "right": null,
            "top": null,
            "visibility": null,
            "width": null
          }
        },
        "73e2fb3f7f9a4928bdc3fa1629057901": {
          "model_module": "@jupyter-widgets/controls",
          "model_name": "DescriptionStyleModel",
          "model_module_version": "1.5.0",
          "state": {
            "_model_module": "@jupyter-widgets/controls",
            "_model_module_version": "1.5.0",
            "_model_name": "DescriptionStyleModel",
            "_view_count": null,
            "_view_module": "@jupyter-widgets/base",
            "_view_module_version": "1.2.0",
            "_view_name": "StyleView",
            "description_width": ""
          }
        },
        "293101009a3c46e8b61c0483da264229": {
          "model_module": "@jupyter-widgets/base",
          "model_name": "LayoutModel",
          "model_module_version": "1.2.0",
          "state": {
            "_model_module": "@jupyter-widgets/base",
            "_model_module_version": "1.2.0",
            "_model_name": "LayoutModel",
            "_view_count": null,
            "_view_module": "@jupyter-widgets/base",
            "_view_module_version": "1.2.0",
            "_view_name": "LayoutView",
            "align_content": null,
            "align_items": null,
            "align_self": null,
            "border": null,
            "bottom": null,
            "display": null,
            "flex": null,
            "flex_flow": null,
            "grid_area": null,
            "grid_auto_columns": null,
            "grid_auto_flow": null,
            "grid_auto_rows": null,
            "grid_column": null,
            "grid_gap": null,
            "grid_row": null,
            "grid_template_areas": null,
            "grid_template_columns": null,
            "grid_template_rows": null,
            "height": null,
            "justify_content": null,
            "justify_items": null,
            "left": null,
            "margin": null,
            "max_height": null,
            "max_width": null,
            "min_height": null,
            "min_width": null,
            "object_fit": null,
            "object_position": null,
            "order": null,
            "overflow": null,
            "overflow_x": null,
            "overflow_y": null,
            "padding": null,
            "right": null,
            "top": null,
            "visibility": null,
            "width": null
          }
        },
        "d098d3909d834508b9c698c5bede4a8f": {
          "model_module": "@jupyter-widgets/controls",
          "model_name": "ProgressStyleModel",
          "model_module_version": "1.5.0",
          "state": {
            "_model_module": "@jupyter-widgets/controls",
            "_model_module_version": "1.5.0",
            "_model_name": "ProgressStyleModel",
            "_view_count": null,
            "_view_module": "@jupyter-widgets/base",
            "_view_module_version": "1.2.0",
            "_view_name": "StyleView",
            "bar_color": null,
            "description_width": ""
          }
        },
        "96382d8413194e38b33a338cc9c7c41e": {
          "model_module": "@jupyter-widgets/base",
          "model_name": "LayoutModel",
          "model_module_version": "1.2.0",
          "state": {
            "_model_module": "@jupyter-widgets/base",
            "_model_module_version": "1.2.0",
            "_model_name": "LayoutModel",
            "_view_count": null,
            "_view_module": "@jupyter-widgets/base",
            "_view_module_version": "1.2.0",
            "_view_name": "LayoutView",
            "align_content": null,
            "align_items": null,
            "align_self": null,
            "border": null,
            "bottom": null,
            "display": null,
            "flex": null,
            "flex_flow": null,
            "grid_area": null,
            "grid_auto_columns": null,
            "grid_auto_flow": null,
            "grid_auto_rows": null,
            "grid_column": null,
            "grid_gap": null,
            "grid_row": null,
            "grid_template_areas": null,
            "grid_template_columns": null,
            "grid_template_rows": null,
            "height": null,
            "justify_content": null,
            "justify_items": null,
            "left": null,
            "margin": null,
            "max_height": null,
            "max_width": null,
            "min_height": null,
            "min_width": null,
            "object_fit": null,
            "object_position": null,
            "order": null,
            "overflow": null,
            "overflow_x": null,
            "overflow_y": null,
            "padding": null,
            "right": null,
            "top": null,
            "visibility": null,
            "width": null
          }
        },
        "37a88d57018348ae88e85b40191a733e": {
          "model_module": "@jupyter-widgets/controls",
          "model_name": "DescriptionStyleModel",
          "model_module_version": "1.5.0",
          "state": {
            "_model_module": "@jupyter-widgets/controls",
            "_model_module_version": "1.5.0",
            "_model_name": "DescriptionStyleModel",
            "_view_count": null,
            "_view_module": "@jupyter-widgets/base",
            "_view_module_version": "1.2.0",
            "_view_name": "StyleView",
            "description_width": ""
          }
        }
      }
    }
  },
  "cells": [
    {
      "cell_type": "markdown",
      "metadata": {
        "id": "view-in-github",
        "colab_type": "text"
      },
      "source": [
        "<a href=\"https://colab.research.google.com/github/flora0110/sentence_prediction/blob/main/bge_m3_KNN.ipynb\" target=\"_parent\"><img src=\"https://colab.research.google.com/assets/colab-badge.svg\" alt=\"Open In Colab\"/></a>"
      ]
    },
    {
      "cell_type": "code",
      "execution_count": 1,
      "metadata": {
        "colab": {
          "base_uri": "https://localhost:8080/"
        },
        "id": "wAqSrCIklsIJ",
        "outputId": "efbf2872-7e0e-4857-aa48-5378c2c82b5d"
      },
      "outputs": [
        {
          "output_type": "stream",
          "name": "stdout",
          "text": [
            "Mounted at /content/drive\n"
          ]
        }
      ],
      "source": [
        "from google.colab import drive\n",
        "drive.mount('/content/drive')"
      ]
    },
    {
      "cell_type": "code",
      "source": [
        "import json\n",
        "\n",
        "with open('/content/drive/MyDrive/senior/LAB/LawCaseRetreiver/sentence_predict/dataset_new/train_data.json', 'r', encoding='utf-8') as f:\n",
        "    train_data = json.load(f)\n",
        "\n",
        "with open('/content/drive/MyDrive/senior/LAB/LawCaseRetreiver/sentence_predict/dataset_new/test_data.json', 'r', encoding='utf-8') as f:\n",
        "    test_data = json.load(f)"
      ],
      "metadata": {
        "id": "UBH4pYp-nM7-"
      },
      "execution_count": 2,
      "outputs": []
    },
    {
      "cell_type": "code",
      "source": [
        "train_fact_len = []\n",
        "test_fact_len = []\n",
        "\n",
        "for data in train_data:\n",
        "    train_fact_len.append(len(data['fact']))\n",
        "\n",
        "for data in test_data:\n",
        "    test_fact_len.append(len(data['fact']))\n"
      ],
      "metadata": {
        "id": "vOT3jRpPnibt"
      },
      "execution_count": 3,
      "outputs": []
    },
    {
      "cell_type": "code",
      "source": [
        "print(\"===Train Dataset===\")\n",
        "print(\"Length: \", len(train_fact_len))\n",
        "print(\"Max Length: \", max(train_fact_len))\n",
        "print(\"Min Length: \", min(train_fact_len))\n",
        "print(\"Avg. Length: \", sum(train_fact_len) / len(train_fact_len))\n",
        "\n",
        "print(\"===Test Dataset===\")\n",
        "print(\"Length: \", len(test_fact_len))\n",
        "print(\"Max Length: \", max(test_fact_len))\n",
        "print(\"Min Length: \", min(test_fact_len))\n",
        "print(\"Avg. Length: \", sum(test_fact_len) / len(test_fact_len))"
      ],
      "metadata": {
        "colab": {
          "base_uri": "https://localhost:8080/"
        },
        "id": "eVmVkrH0nnAT",
        "outputId": "c045e6a0-8219-41a6-ddbc-9c03d79a0b4e"
      },
      "execution_count": 4,
      "outputs": [
        {
          "output_type": "stream",
          "name": "stdout",
          "text": [
            "===Train Dataset===\n",
            "Length:  500\n",
            "Max Length:  19745\n",
            "Min Length:  328\n",
            "Avg. Length:  7933.656\n",
            "===Test Dataset===\n",
            "Length:  100\n",
            "Max Length:  19277\n",
            "Min Length:  280\n",
            "Avg. Length:  8231.62\n"
          ]
        }
      ]
    },
    {
      "cell_type": "code",
      "source": [
        "def extract_key_contents(data):\n",
        "    facts = []\n",
        "    sentences = []\n",
        "    for item in data:\n",
        "        facts.append(item.get('fact'))\n",
        "        sentences.append(item.get('sentance'))\n",
        "    return facts, sentences"
      ],
      "metadata": {
        "id": "uXE_9V3UnJYg"
      },
      "execution_count": 5,
      "outputs": []
    },
    {
      "cell_type": "code",
      "source": [
        "train_facts, train_sentences = extract_key_contents(train_data)\n",
        "test_facts, test_sentences = extract_key_contents(test_data)"
      ],
      "metadata": {
        "id": "acFs77Rtnx0K"
      },
      "execution_count": 6,
      "outputs": []
    },
    {
      "cell_type": "code",
      "source": [
        "print(\"Train facts:\", train_facts[0])\n",
        "print(\"Train Sentences:\", train_sentences[:5])\n",
        "print(\"Test facts:\", test_facts[0])\n",
        "print(\"Test Sentences:\", test_sentences[:5])"
      ],
      "metadata": {
        "colab": {
          "base_uri": "https://localhost:8080/"
        },
        "id": "pLnQPW0pn_cs",
        "outputId": "c56bcbe2-f00a-439e-e644-f571be8b3d76"
      },
      "execution_count": 7,
      "outputs": [
        {
          "output_type": "stream",
          "name": "stdout",
          "text": [
            "Train facts: 一、陳泰龍明知其與泰國籍女子陳玉婉（泰國名字為JARUWANWONGPRATOOM，陳玉婉涉嫌本案偽造文書部分，另經臺灣臺南地方法院檢察署檢察官通緝中）間並無結婚之真意，然因詹巧薇、張晉源等人欲找臺灣男子前往泰國與泰國女子辦理假結婚，林清水負責介紹臺灣男子予詹巧薇、張晉源等人以賺取新臺幣（下同）1萬元之仲介費，適陳泰龍依林清水於報紙上刊登之徵人廣告應徵時，由林清水告知泰國女子欲以假結婚之方式申請來臺居留工作，其若擔任假結婚之人頭老公，除不用負擔前往泰國之食宿、機票費用外，尚可獲取5、6萬元之報酬，迨陳泰龍應允同意後，林清水將其轉介紹予詹巧薇、張晉源等人，陳泰龍遂與林清水、詹巧薇、張晉源等人共同基於行使使公務員登載不實公文書之概括犯意聯絡，先由陳泰龍依指示於民國93年4月3日前往泰國，並於同年月7日與陳玉婉在泰國曼谷市法拉坎農區註冊辦事處登記結婚，取得上開註冊辦事處核發之結婚登記書、結婚證書等文件後，陳泰龍即行返臺，並於同年5月19日持經我國駐泰國臺北經濟文化辦事處認證之上開結婚登記書、結婚證書等資料，至臺南縣永康市（改制前稱謂，以下沿用舊制稱謂）戶政事務所填寫結婚登記申請書，申請辦理其與陳玉婉之結婚登記，因此使上開戶政事務所僅有形式審查權之承辦公務員陷於錯誤，於形式上審核後，將陳泰龍與陳玉婉於93年4月7日結婚之不實事項，登載於其職務上所掌屬公文書之戶籍登記資料內，並據以核發戶籍謄本，而足以生損害於戶政機關對於戶政管理及戶籍登記資料維護之正確性。迨陳玉婉來臺後，為取得居留身分，再由陳泰龍、陳玉婉承前概括之犯意聯絡，於同年6月14日及94年5月5日，均持前開登載不實之戶籍謄本等資料，先後向臺南縣政府警察局外事課申請核發陳玉婉之外僑居留證及申請居留證延期而連續行使之（業經檢察官當庭補充），經承辦人員實質審查結果，均未發覺陳泰龍與陳玉婉假結婚之實情，而發給陳玉婉居留證或核准延期，各足以生損害於主管機關對外僑居留管理之正確性。二、案經臺南市警察局（現改制為臺南市政府警察局，以下沿用舊制稱謂）第一分局報告臺灣臺南地方法院檢察署檢察官偵查起訴。理由甲、程序方面：一、本件以下所引用具傳聞證據性質之供述證據，因本件被告陳泰龍、檢察官等人於本院準備程序進行時，均未爭執前開陳述之證據能力，且迄至本案言詞辯論終結前亦均未聲明異議，應視為已同意援引作為證據，又本院審酌前開證據作成時之情況及證據取得過程等節，並無非出於任意性、不正取供或其他違法不當情事，且客觀上亦無顯不可信之情況，堪認為適當，是依刑事訴訟法第159條之5規定，均有證據能力。二、卷附之被告及陳玉婉入出國日期紀錄各1份等書證，均非屬供述證據，皆無傳聞法則之適用，復均無違反法定程序取得之情形，依刑事訴訟法第158條之4規定之反面解釋，均應有證據能力。乙、實體方面：一、訊據被告固坦承於上開時、地，透過共犯林清水之介紹，先至泰國辦理與共犯陳玉婉之結婚手續，再前往臺南縣永康市戶政事務所辦理結婚登記，又前往臺南縣政府警察局外事課辦理共犯陳玉婉之外僑居留證及申請居留證延期之事實，惟矢口否認有何行使使公務員登載不實文書情事，於本院審理時辯稱：伊當時經濟狀況良好，因同居女友欲去日本工作而不願結婚，然伊希望結婚生子，遂透過共犯林清水之介紹與安排，共犯林清水先讓伊看過共犯陳玉婉之照片，伊再前往泰國與共犯陳玉婉結婚，伊僅負擔自己的來回機票錢及泰國住宿費用，其他結婚費用均由共犯林清水負擔，伊則贈送伊的一部機車予共犯林清水以為回報，伊並不認識共犯詹巧薇云云。經查：(一)被告於93年4月3日前往泰國，並於同年月7日與共犯陳玉婉在泰國曼谷市法拉坎農區註冊辦事處登記結婚，取得上開註冊辦事處核發之結婚登記書、結婚證書等文件後，被告即行返臺，並於同年5月19日持經我國駐泰國臺北經濟文化辦事處認證之上開結婚登記書、結婚證書等資料，至臺南縣永康市戶政事務所填寫結婚登記申請書，申請辦理其與共犯陳玉婉之結婚登記，並取得戶籍謄本。迨共犯陳玉婉來臺後，為取得居留身分，被告與共犯陳玉婉於同年6月14日及94年5月5日，均持前開戶籍謄本等資料，先後向臺南縣政府警察局外事課申請核發共犯陳玉婉之外僑居留證及申請居留證延期等情，業據被告供承在卷，並有結婚登記申請書、授權書各1份、結婚登記書、結婚證書各1份（含中文、泰文影本及我國駐泰國臺北經濟文化辦事處認證之資料）、93年6月14日及94年5月5日之外國人居留停留案件聲請表各1份、被告及共犯陳玉婉之入出國日期紀錄各1份、共犯陳玉婉之外僑居留資料查詢1份在卷可按（見警三卷即南市警一刑偵字第0994101517號卷第6至24、33頁）。上開事實，首堪認定。(二)共犯詹巧薇、張晉源等人當時欲找臺灣人與泰國女子結婚，由共犯林清水於報紙上刊登徵人廣告，若應徵者符合與泰國人結婚之條件，便將應徵者介紹予共犯詹巧薇、張晉源等人，共犯林清水可從中獲取1萬元之仲介費，適被告依前開徵人廣告應徵，共犯林清水衡量其條件後告知其可至泰國結婚，其除不用負擔前往泰國之機票及食宿費用外，尚可獲取5至6萬元之報酬，被告應允同意後，共犯林清水將其介紹予詹巧薇、張晉源等人，被告即依指示前往泰國與為了來臺工作且無結婚真意的共犯陳玉婉辦理結婚事宜等情，業據共犯林清水於警詢時證稱：伊登報徵人到泰國結婚，被告看報紙來的，伊便轉介予共犯詹巧薇，由共犯詹巧薇安排後續到泰國結婚之事宜，被告除不用負擔前往泰國機票、食宿等費用，尚可獲取約5至6萬元酬勞，伊則可自共犯詹巧薇獲取約1萬元之仲介費用；伊只有將被告轉介予共犯詹巧薇，並未參與後續被告前往泰國之證照、機票、食宿等相關事宜；被告係因缺錢，為了賺取擔任人頭配偶的佣金5至6萬，並不是真的要與泰國人結婚，共犯陳玉婉係為了來臺灣工作賺錢，亦不是真的要與臺灣人結婚等語（見警三卷第2至3頁）；並於本院審理時具結證稱：當初共犯詹巧薇、張晉源等人欲找男子前往泰國結婚，伊曾刊登「男、女不限、經驗不拘」等內容之徵人廣告，被告見報應徵時，被告係因缺錢才來找伊，伊衡量被告條件後認為其只能利用結婚賺取報酬，伊才向其表示是要辦結婚，伊告知被告可安排其去泰國結婚，其不用負擔食宿及機票等費用，可實拿5至6萬元的報酬，被告同意後，伊將被告介紹予共犯詹巧薇、張晉源，共犯張晉源給付佣金1萬元予伊；伊與被告談論泰國結婚事宜時，伊與被告均不知被告之結婚對象為何人，伊亦未見過與被告結婚之泰國女子，伊僅介紹被告予共犯詹巧薇、張晉源等人，伊並未參予後續之泰國結婚、辦理結婚登記及居留申請等事情；被告曾給伊一部機車，當時被告表示要去別的地方，機車留在臺南無人使用，伊修理使用一段期間後，因再度壞掉便未再使用等語（見本院卷第68頁背面至71頁）。而共犯林清水於93、94年間，因仲介臺灣人民陳益昌、林哲銘、廖震南、陳朝榮、王照明等5人擔任人頭老公與泰國女子假結婚，陳益昌等5人均獲取5至7萬元報酬等情，經本院以95年度簡上字第330號判處有期徒刑7月確定，另共犯詹巧薇於92年間，因與共犯張晉源等人共同仲介臺灣人民莊國寶、林世欽、蔡明峰等3人擔任人頭老公與泰國女子假結婚等情，經本院以99年度簡字第1313號判處有期徒刑4月並減為有期徒刑2月確定，又共犯林清水、詹巧薇因本案被告與共犯陳玉婉辦理假結婚致涉嫌共同行使使公務員登載不實文書犯行部分，經臺灣臺南地方法院檢察官認為與前開95年度簡上字第330號、99年度簡字第1313號論罪科刑部分有連續犯之裁判上一罪關係，故均以99年度偵字第17571、17771號、100年度偵字第4564號為不起訴處分確定，有前開判決書及不起訴處分書各1份在卷可按，堪認共犯林清水、詹巧薇、張晉源確曾仲介或安排臺灣男子前往泰國與泰國女子假結婚無訛。又被告與共犯林清水並無任何仇怨糾葛，被告尚提供一部機車予共犯林清水使用，衡諸常情，共犯林清水尚無隨意誣指構陷被告之動機，復衡以其於本院中具結後證述上情歷歷，核與其警詢中證述之情節大致相符，苟非親身經歷，尚均無圖陷被告入罪而自行擔負偽證罪責風險之必要，顯見其確係依憑當時親身見聞所為之證述，參以被告於93年4月26日將戶籍遷移寄放至共犯林清水籍設於臺南縣永康市○○路152號之住所，其戶籍遷入目的係為了便利結婚登記之辦理，被告亦依此戶籍地向臺南縣永康市戶政事務所辦理其與共犯陳玉婉之結婚登記等情，業據被告於本院審理時供承伊戶籍寄放於前開住址不諱，及共犯林清水於本院審理時具結證稱：被告將戶籍寄放於伊住所是為了辦理結婚，要拿證件辦理結婚登記比較方便等語（見本院卷第70頁），並有被告及共犯林清水之個人戶籍資料查詢結果各1份、結婚登記申請書1份在卷可佐，而前開95年度簡上字第330號案件中之人頭老公林哲銘亦由共犯林清水提供前開住所供其設籍，並依該戶籍地辦理結婚登記等情，亦據證人林哲銘於警詢時證述明確（見警二卷第19頁），並有證人林哲銘之結婚登記申請書1紙附卷可佐（見警二卷第46頁），益徵被告確係共犯林清水仲介之人頭老公的其中一人甚明。(三)綜上所述，被告與共犯陳玉婉確係假結婚無訛，是被告前開所辯，要屬卸責之詞，殊無可採。本案事證至臻明確，被告上開犯行堪以認定，應予依法論科。二、按被告行為後，刑法業於民國94年2月2日修正公布，並自95年7月1日施行。按行為後法律有變更者，適用行為時之法律，但行為後之法律有利於行為人者，適用最有利於行為人之法律，修正後刑法第2條第1項定有明文。該規定係規範行為後法律變更所生新舊法律比較適用之準據法，是刑法第2條本身雖經修正，尚無比較新舊法之問題，應一律適用裁判時之刑法第2條規定。次按本次刑法修正之新舊法比較，應就罪刑有關之共犯、未遂犯、想像競合犯、牽連犯、連續犯、結合犯、以及累犯加重、自首減輕暨其他法定加減原因（如身分加減）與加減例等一切情形，綜其全部罪刑之結果而為比較，有最高法院95年5月23日95年度第8次刑庭會議決議可資參照。經查：(一)依增訂之刑法施行法第1條之1：「中華民國94年1月7日刑法修正施行後，刑法分則編所定罰金之貨幣單位為新臺幣。94年1月7日刑法修正時，刑法分則編未修正之條文定有罰金者，自94年1月7日刑法修正施行後，就其所定數額提高為30倍。但72年6月26日至94年1月7日新增或修正之條文，就其所定數額提高為3倍。」，是比較修正後刑法施行法第1條之1第2項與罰金罰鍰提高標準條例第1條之結果，因兩者之罰金最高額度相同而無有利不利之情形，自無刑法第2條第1項之適用，應逕依現行有效且具特別法性質之刑法施行法第1條之1的規定。(二)刑法第33條第5款修正為：「主刑之種類如下：五、罰金：新臺幣1000元以上，以百元計算之。」，是依修正後之法律，刑法第335條第1項之侵占罪所得科處之罰金刑最低為新臺幣1000元，而另依修正前刑法第33條第5款及罰金罰鍰提高標準條例第1條前段規定，罰金最低額則為銀元1元折算為新臺幣3元，故比較新舊法之結果，自以修正前刑法第33條第5款規定較有利於被告。(三)刑法第28條修正前規定為：「2人以上共同實施犯罪之行為者，皆為正犯。」，而修正後規定為：「2人以上共同實行犯罪之行為者，皆為正犯。」，是依修正後之規定係將共同正犯限於直接從事構成犯罪事實之行為者，而排除陰謀共同正犯及預謀共同正犯之類型，故修正後共同正犯之可罰性要件之範圍業已限縮。惟本件被告既係直接從事構成犯罪事實之行為，則比較修正前後規定之結果，並無有利或不利之情形，應逕依修正後規定。(四)刑法第56條連續犯之規定於刑法修正後業經刪除，是新法修正施行後，行為人之數犯罪行為便須分論併罰。是該項刪除雖非犯罪構成要件之變更，但已影響行為人刑罰之法律效果，自屬法律有所變更而有比較新舊法之必要。若依舊法之規定，以一罪論而僅加重其刑至2分之1，但若依新法則須分科併罰，經比較之結果，自以修正前刑法第56條對被告較為有利。(五)綜上，本院綜合被告所涉上揭全部罪行之一切情形而為比較，揆諸前揭最高法院決議及刑法第2條第1項前段規定，被告適用行為時即修正前刑法之相關規定，對其較為有利，自應一體適用修正前刑法規定予以處斷。三、論罪科刑：(一)核被告所為，係犯刑法第216條、第214條之行使使公務員登載不實文書罪。被告與共犯林清水、詹巧薇、張晉源等人就上揭犯行，彼此間有犯意聯絡及行為分擔，為共同正犯。被告使公務員登載不實事項於其所掌公文書之低度行為，為行使之高度行為所吸收，不另論罪。被告於93年5月19日、93年6月14日及94年5月5日先後多次行使使公務員登載不實文書之犯行，時間密接，所犯係構成要件相同之罪名，顯係基於概括犯意反覆為之，為連續犯，應依修正前刑法第56條規定論以一罪，並加重其刑。(二)爰審酌被告為圖私利，竟藉由假結婚之方式便利共犯陳玉婉入境居留，損害戶政機關結婚登記及主管機關對於外國人居留管理之正確性，對社會秩序、善良風俗及警政機關對治安之管理均非無潛在之危害，復參酌被告犯後自始否認犯行，未見悔意，及其智識程度、生活狀況等一切情狀，量處如主文所示之刑，以資懲儆。另被告行為後，關於易科罰金之折算標準，依修正前刑法第41條第1項前段及廢止前罰金罰鍰提高標準條例第2條，係以銀元1百元、2百元或3百元，即新臺幣3百元、6百元或9百元折算1日，而依修正後刑法第41條第1項前段規定，則係以新臺幣1千元、2千元或3千元折算1日，故依刑法第2條第1項前段之規定來比較新舊法之結果，應適用修正前之規定較為有利，爰依修正前刑法第41條第1項前段及廢止前罰金罰鍰提高標準條例第2條諭知易科罰金之折算標準。又被告之犯罪時間係在96年4月24日以前，所犯合於中華民國九十六年罪犯減刑條例之減刑條件，應依該條例第2條第1項第3款、第7條及第9條，減其宣告刑2分之1，並諭知易科罰金之折算標準。四、末按連續數行為而犯同一之罪名，均在新法施行前者，新法施行後，應依新法第2條第1項之規定，適用最有利於行為人之法律。部分之數行為，發生在新法施行前者，新法施行後，該部分適用最有利於行為人之法律。若其中部分之一行為或數行為，發生在新法施行後者，該部分不能論以連續犯（最高法院95年度第8次刑事庭會議決議參照，即該決議五數罪併罰之(四)連續犯部分）。查被告涉嫌於96年5月28日及96年9月3日與共犯陳玉婉共同持前開登載不實之戶籍謄本等資料，先後向臺南縣政府警察局外事課申請核發陳玉婉之延期居留等事宜，有96年5月28日及96年9月3日之外國人居留停留案件申請表各1份附卷可憑，被告此部分涉嫌共同行使使公務員登載不實文書犯行，均在95年7月1日刑法修正廢除第56條連續犯規定以後，亦未據檢察官記載於起訴書犯罪事實內，揆諸前開說明，此部分犯行與前開論罪科刑部份無連續犯之裁判上一罪關係，自非本院得審判之範圍，附此敘明之。據上論斷，應依刑事訴訟法第299條第1項前段，刑法第2條第1項前段、第28條、第216條、第214條，修正前刑法第56條、第41條第1項前段，刑法施行法第1條之1，修正廢止前罰金罰鍰提高標準條例第2條，中華民國96年罪犯減刑條例第2條第1項第3款、第7條、第9條，判決如主文。本案經檢察官莊玲如到庭執行職務。中華民國101年1月20日刑事第四庭審判長法官林逸梅法官鄭文祺法官莊政達以上正本證明與原本無異。如不服本判決應於收受本判後10日內向本院提出上訴書狀，並應敘述具體理由。其未敘述上訴理由者，應於上訴期間屆滿後20日內向本院補提理由書狀（均須按他造當事人之人數附繕本）「切勿逕送上級法院」。書記官吳昕韋中華民國101年2月1日附錄本案論罪科刑法條：中華民國刑法第214條（使公務員登載不實罪）明知為不實之事項，而使公務員登載於職務上所掌之公文書，足以生損害於公眾或他人者，處3年以下有期徒刑、拘役或5百元以下罰金。中華民國刑法第216條（行使偽造變造或登載不實之文書罪）行使第210條至第215條之文書者，依偽造、變造文書或登載不實事項或使登載不實事項之規定處斷。\n",
            "Train Sentences: [120, 240, 180, 135, 120]\n",
            "Test facts: ○、緣徐鴻光（所涉行使偽造私文書犯行，業經本院以95年度訴字第955號判決處有期徒刑3月、緩刑3年確定）因需款使用，知悉穆立明有借款管道，為求順利借款，2人竟共同意圖為自己不法所有，基於行使偽造私文書及詐欺取財之犯意聯絡，知悉車牌號碼00-000號營業小客車係徐鴻光向志朗交通有限公司（下稱志朗公司）租賃之車輛，竟由穆立明先於不詳時間、不詳地點，偽刻「志朗交通有限公司」及負責人「陳健志」印章（正確姓名為陳建志，誤刻為「陳健志」）各1枚，並偽造「陳健志」代表志朗公司與徐鴻光簽署之「臺北市計程車客運駕駛人自備車輛參與經營契約書」（下稱本案參與經營契約書），虛偽記載徐鴻光提供上述營業小客車靠行志朗公司營業等不實內容，並持上開偽刻印章，偽造「志朗交通有限公司」印文4枚、「陳健志」印文6枚於本案參與經營契約書上，再於92年3月6日交徐鴻光於立約人乙方欄簽名，2人復於同日協同不知情之徐鴻光配偶徐樂仁（所涉行使偽造私文書犯行，業經本院以95年度訴字第955號判決無罪確定），前往臺北市○○區○○街00巷0號2樓王傑生所經營之宏帝當舖（現更名為渣打當舖），由徐鴻光、穆立明交付偽造本案參與經營契約書向宏帝當鋪借款新臺幣（下同）10萬元以為行使，並約定由徐樂仁擔任連帶保證人，王傑生誤信上開車輛為徐鴻光所有而陷入錯誤，於扣除利息後交付9萬1千元借款予徐鴻光夫婦，足以生損害於志朗公司、陳建志、王傑生。嗣因徐鴻光僅清償每期7千元之分期款共11期計7萬7千元，未全額清償即無力負擔債務，王傑生始查知上開車輛非徐鴻光所有，而悉上情。二、案經王傑生訴由臺灣士林地方法院檢察署檢察官偵查起訴。理由○、證據能力部分：被告以外之人於審判外之言詞或書面陳述，除法律有規定者外，不得作為證據；又被告以外之人於審判外之陳述，雖不符合同法第159條之1至第159條之4之規定，但經當事人於審判程序同意作為證據，法院審酌該言詞陳述或書面陳述作成時之情況，認為適當者，亦得為證據。刑事訴訟法第159條第1項及第159條之5第1項分別定有明文。經查，本判決所引用之各該被告以外之人於審判外之陳述，雖屬傳聞證據，然當事人於本院審判期日中均表示同意作為證據方法而不予爭執，且迄至言詞辯論終結前亦未再聲明異議（見本院卷第68頁至第68頁背面），本院審酌上開證據資料製作時之情況，尚無違法不當及證明力明顯過低之瑕疵，亦認為以之作為證據應屬適當，故揆諸前開規定，爰依刑事訴訟法第159條之5規定，認前揭證據資料均有證據能力。二、認定犯罪事實所憑之證據及理由：（一）訊據被告穆立明固坦承有於92年3月6日帶共同被告徐鴻光、徐樂仁至宏帝當鋪借錢，惟矢口否認有何行使偽造私文書及詐欺取財之犯行，辯稱：本案參與經營契約書係由共同被告徐鴻光所提出，徐鴻光知道我在宏帝當舖當業務員，他因資金不夠，要伊帶至宏帝當鋪借錢，伊請徐鴻光帶身分證、本案參與經營契約書，證明計程車係屬於徐鴻光所有，另外要帶一位保人云云。（二）經查，證人即志英交通公司負責人陳建志於檢察官偵查中結證稱：本案參與經營契約書上之「志朗交通有限公司」、「陳健志」之印文均非我公司的大小章，志朗交通公司也是我的公司，我是負責人，但這個章不是我的，被告徐鴻光只是加入無線電台等語（見94年度偵字第8715號卷第45頁），復有其提出真正之志朗交通有限公司及其本人陳建志之印文各4枚在卷可稽（見94年度偵字第8715號卷第48頁），經核卷附本案參與經營契約書上所示之「志朗交通有限公司」、「陳健志」印文（見95年度偵緝字第60號卷第53頁），除二者字體明顯不同外，本案參與經營契約書中「陳健志」名字中之「健」一字顯係錯別字，堪認本案參與經營契約書上所示之「志朗交通有限公司」、「陳健志」印文確屬偽造一節，應可認定。（三）證人即告訴人王傑生於檢察官偵查中證稱：我經營宏帝當鋪，後改名為渣打當鋪，地址在臺北市○○街00巷0號2樓，計程車典當給我們時，我們要看參與經營契約書，被告徐鴻光有來借錢，被告穆立明當時有在場，徐鴻光給我們看本案參與經營契約書，我們就以為車子是徐鴻光的，我們找到車之後才知道車子是車行的，被告穆立明是我們公司抽獎金的業務員，穆立明介紹人來借錢，我給他獎金等語（見94年度偵字第8715號卷第37頁、95年度偵緝字第60號卷第49頁、第68頁），且證人朱庭峰於檢察官偵查中及本院審理時亦結證稱：我是宏帝當鋪的負責人，後來當鋪讓給王傑生，被告徐鴻光到宏帝當鋪借款10萬元，係由我接洽，當時是被告穆立明介紹，穆立明不是公司職員，他會介紹車子到我們公司來典當，我會給穆立明佣金，即我收到1,000元利息，就給他100元，本案參與經營契約書是由穆立明拿出來等語（見95年度偵緝字第60號卷第68頁至第69頁、95年度訴字第955號卷第66頁至第67頁），復有本案參與經營契約書、本票影本各1份附卷可憑（見94年度偵字第8715號卷第14頁至第17頁），足認共同被告徐鴻光係經被告穆立明介紹，持本案參與經營契約書於上開時間前往宏帝當鋪借款10萬元，且被告穆立明於借款時在場之事實，洵堪認定。（四）被告穆立明雖辯稱：本案參與經營契約書係共同被告徐鴻光所提出，伊僅有將徐鴻光帶去當鋪，就由當舖的人接洽云云，惟查，證人即共同被告徐鴻光於本院審理時證稱：因為我當司機收入不高，家裡有需要用錢，被告穆立明說有辦法借錢，我請被告穆立明帶我去借款，被告穆立明有帶我去當鋪，我太太徐樂仁當時有一起陪同，卷附之本票影本係我當時在當鋪簽立，而本案參與經營契約書係被告穆立明幫我準備好的，經我在當舖蓋我的章及簽名，被告穆立明拿給我時契約書已經寫好資料，至於被告穆立明提出本案參與經營契約書之來源我不知道，被告穆立明只有要我帶駕照、行照、身分證及私章，車號00-000號營業用小客車是我用租的車子，車子是志朗公司的車子，本案參與經營契約書內容不是真的，車子不是我自備的，只有契約書末頁乙方的簽名是我簽的等語（見本院卷第64頁至第66頁背面），核與其在檢察官偵查中證稱：被告穆立明有帶我去宏帝當鋪向朱先生借錢，我借10萬元，本案參與經營契約書係被告穆立明幫我準備好的，前面的簽名及資料是被告穆立明簽的，只有最後的簽名是我簽的等語大致相符（見95年度偵緝字第60號卷第48頁至第49頁），再查，參以被告穆立明於本院審理時當庭書寫徐鴻光名字之字跡經與本案參與經營契約書立契約書人一欄所簽署「徐鴻光」之筆跡比對後（見本院卷第73頁），依肉眼觀之，不論字跡之運筆、筆勾等字體外觀，均較為吻合，反觀該契約書頁末之乙方「徐鴻光」之筆跡，與頁首立契約書人一欄所簽署「徐鴻光」之筆跡之運筆及筆勾，字跡明顯不同，是被告穆立明辯稱本案參與經營契約書係由共同被告徐鴻光提出云云，已難採信；又證人徐鴻光於本院審理時證稱：我曾經用上開車輛向別的當鋪借錢，當時別的當鋪說車子用租的也可以借，只要押行照在那裡即可，不需要像本件一樣的契約，本件是我去當鋪，他們說該簽名的地方，我就簽名，且是我透過別的司機得知被告穆立明可以幫我問問哪裡可以借錢，所以才找被告穆立明等語（見本院卷第65頁背面至第66頁背面），衡以證人徐鴻光涉犯本案犯行業經本院認定有罪確定，自應無虛偽陳述之動機，且被告穆立明自承與證人徐鴻光無糾紛，同為排班計程車司機，為點頭之交乙情，亦認證人徐鴻光無涉詞誣陷被告穆立明之可能；再參以證人王傑生、朱庭峰皆證述本案參與經營契約書係由被告穆立明提出一節，又被告並不否認宏帝當舖僅同意典當個人所有靠行之車輛，不同意典當向車行租的車輛等情，而本件共同被告徐鴻光既有提供行照予被告穆立明，業經其證述如前，則自行照之記載內容即可知悉上開車輛所有人為何人，被告穆立明豈有不知上開車輛所有人為何人之理，況被告穆立明供認介紹共同被告徐鴻光予宏帝當鋪借錢有利息百分之十之報酬等語（見本院卷第69頁背面），其當有可能為促成徐鴻光與宏帝當鋪借款，而提出本案經營契約書供作本件借款之用，是被告穆立明辯稱車子是徐鴻光說其自己所有，本案參與經營契約書係徐鴻光自行提出云云，顯係事後卸責之詞，不足採信。（五）綜上所述，被告上開所辯各節，無非事後避重就輕、圖卸之詞，不足採信，被告行使偽造私文書及詐欺取財等犯行，事證明確，應依法論科。三、論罪科刑部分：（一）按被告行為後，94年2月2日修正公布之刑法已於95年7月1日生效施行，其中第2條第1項「行為後法律有變更者，適用行為時之法律。但行為後之法律有利於行為人者，適用最有利於行為人之法律」之規定，係規範行為後法律變更所生新、舊法律比較適用之準據法，並非刑法實體法律，自不生行為後法律變更之比較適用問題，故刑法修正施行後，應適用該修正後之第2條第1項之規定，依「從舊、從輕」之原則比較新、舊法律之適用；又比較新舊法時，應就罪刑有關之共犯、未遂犯、想像競合犯、牽連犯、連續犯、結合犯，以及累犯加重、自首減輕暨其他法定加減原因（如身分加減）與加減例等一切情形，綜其全部罪刑之結果而為比較後，再適用有利於行為人之法律處斷，而不得一部割裂分別適用不同之新、舊法（最高法院24年上字第4634號、29年上字第964號判例意旨及最高法院95年度第8次刑事庭會議決議參照）。經查：1.刑法第33條第5款關於罰金刑之規定業於94年2月2日修正，於95年7月1日生效，修正前刑法第33條第5款規定：「罰金：1元（銀元）以上。」，並依現行法規所定貨幣單位折算新臺幣條例規定，以銀元1元折算新臺幣3元，故修正前刑法規定罰金之最低數額為新臺幣3元；修正後刑法第33條第5款規定：「罰金：新臺幣1,000元以上，以百元計算之。」，故修正後刑法規定罰金之最低數額提高為新臺幣1,000元；比較上開罰金刑之最高數額，於修正後並無不同，惟修正後刑法第33條第5款所定罰金刑最低數額，既較修正前提高，依前開說明，應適用對被告有利之修正前刑法第33條第5款之規定。2.修正前刑法第28條規定：「二人以上共同實施犯罪之行為者，皆為正犯。」，修正後該條規定為：「二人以上共同實行犯罪之行為者，皆為正犯。」，揆諸本條之修正理由，係為釐清陰謀共同正犯、預備共同正犯、共謀共同正犯是否合乎本條之正犯要件，並將陰謀共同正犯、預備共同正犯剔除於本條適用之外，以符合近代刑法之個人責任原則、法治國人權保障思想及犯罪支配理論，自屬行為後法律有變更，而非僅屬文字修正，應有新舊法比較適用問題（最高法院97年度台上字第37號判決意旨參照）。本件被告穆立明與徐鴻光就前揭行使偽造私文書及詐欺取財犯行各具有犯意聯絡及行為分擔，不論依修正前或修正後之規定，均屬共同正犯，對被告並無有利或不利之情形，應適用行為時之法律。3.被告行為後新法業已刪除牽連犯之規定，依舊法成立方法、結果行為而僅論以一罪者，依新法將論以數罪，比較新、舊法結果，自以修正前刑法第55條牽連犯之規定，較有利於被告。4.綜此，本院經綜合上述各條文修正前、後之比較，參照前揭最高法院決議及修正後刑法第2條第1項前段、後段規定之「從舊、從輕」原則，被告穆立明上開犯行自應適用行為時之法律，予以論處。（二）核被告穆立明所為，係犯刑法第216條、第210條之行使偽造私文書罪、同法第339條第1項詐欺取財罪。被告穆立明於本案參與經營契約書上偽造「志朗交通有限公司」、「陳健志」印章及印文乃偽造私文書之部分行為，其偽造本案參與經營契約書後持以行使，偽造之低度行為復為行使之高度行為所吸收，均不另論罪。被告穆立明與徐鴻光就行使偽造私文書及詐欺之犯行有犯意聯絡及行為分擔，為共同正犯。又其等行使偽造私文書之目的，在詐取告訴人之金錢，所犯連續行使偽造私文書與詐欺取財2罪間，有方法、目的之牽連關係，應依修正前刑法第55條規定，從一較重之行使偽造私文書罪處斷。（三）爰審酌被告穆立明不思以正當途徑賺取錢財，竟偽造志朗公司及其負責人陳建志之印章，進而偽造本案參與經營契約書，而詐取告訴人之金錢，足生損害於志朗公司、陳建志、告訴人，並危害社會交易秩序，所為實有不該，犯後否認犯行，未見悔悟之心，兼衡被告穆立明有違反票據法之前科，有臺灣高等法院被告前案紀錄表在卷可稽（見本院卷第60頁），素行尚可，共同被告徐鴻光於詐得借款後已陸續返還利息予告訴人與朱庭峰，及被告穆立明為高中肄業之智識程度，經濟狀況為小康之生活狀況等一切情狀（見被告警詢筆錄受詢問人欄，本院卷第6頁），量處如主文所示之刑，以資懲儆。又關於易科罰金之折算標準，修正前刑法第41條第1項前段規定：「犯最重本刑為5年以下有期徒刑以下之刑之罪，而受6個月以下有期徒刑或拘役之宣告，因身體、教育、職業、家庭之關係或其他正當事由，執行顯有困難者，得以1元以上3元以下折算1日，易科罰金。」，再依據修正前罰金罰鍰提高標準條例第2條：「依刑法第41條易科罰金或第42條第2項易服勞役者，均就其原定數額提高為1百倍折算1日；法律所定罰金數額未依本條例提高倍數，或其處罰法條無罰金刑之規定者，亦同。」之規定，被告行為時之易科罰金折算標準，應以銀元1百元以上3百元以下折算1日，經折算為新臺幣後，應以新臺幣3百元以上9百元以下折算1日。惟95年7月1日施行之刑法第41條第1項前段規定修正為：「犯最重本刑為5年以下有期徒刑以下之刑之罪，而受6個月以下有期徒刑或拘役之宣告者，得以新臺幣1千元、2千元或3千元折算一日，易科罰金。」，另95年7月1日生效施行之罰金罰鍰提高標準條例則刪除原本第2條之規定。是以比較新舊法結果，自以舊法所定之易科罰金折算標準有利於被告，故應依修正前刑法第41條第1項前段、修正前罰金罰鍰提高標準條例第2條規定，就所宣告之刑部分諭知易科罰金之折算標準。（四）偽造之「臺北市計程車客運駕駛人自備車輛參與經營契約書」原本1份固經共同被告徐鴻光於借款時行使交付予宏帝當鋪，業如前述，惟此僅係共同被告徐鴻光為借得款項，而將本案參與經營契約書交付當鋪作為擔保使用，其所有權仍為共同被告徐鴻光所有，不因行使而移轉為宏帝當鋪所有，又該偽造之契約既係供本件犯行所用，爰依刑法第38條第1項第2款規定宣告沒收。又契約上偽造之「志朗交通有限公司」印文4枚、「陳健志」之印文6枚固係偽造之印文，已因該契約之沒收而包括在內，無再重複諭知沒收之必要。另告訴人為提起本件告訴，而複印本案參與經營契約書資為證據（見94年度偵字第8715號卷第15至第17頁），因認僅係作為本案訴訟使用，而非被告穆立明、共同被告徐鴻光供本件犯行所用之物，就複印之契約書上之「志朗交通有限公司」印文4枚、「陳健志」之印文6枚，爰不予宣告沒收。至被告穆立明偽刻之「志朗交通有限公司」、「陳健志」印章各1枚，係偽造之印章，且無證據證明業已滅失，應依刑法第219條宣告沒收。（五）再按本條例施行前，經通緝而未於中華民國96年12月31日以前自動歸案接受偵查、審判或執行者，不得依本條例減刑，中華民國九十六年罪犯減刑條例第5條定有明文。查本件被告穆立明所為前開犯行之犯罪時間固係在96年4月24日以前，但其曾於中華民國九十六年罪犯減刑條例施行（96年7月16日施行）前之95年12月21日因本案經本院以95年士院刑玄緝字第463號通緝書發佈通緝，於102年9月1日甫緝獲歸案等情，此有前開通緝書、歸案證明書、本院102年士院刑玄銷字第289號撤銷通緝書各1份存卷可參（95年度訴字第955號卷第43頁、本院卷第26頁、第43頁），從而，依前開規定，本案被告無從依中華民國九十六年罪犯減刑條例之規定減刑，併此敘明。據上論斷，應依刑事訴訟法第299條第1項前段，刑法第2條1項前段、第28條、第216條、第210條、第339條第1項、第219條、第38條第1項第2款、修正前刑法第55條、第41條第1項前段，刑法施行法第1條之1第1項，修正前罰金罰鍰提高標準條例第2條，現行法規所定貨幣單位折算新臺幣條例第2條，判決如主文。本案經檢察官黃仙宜到庭執行職務。中華民國102年12月3日刑事第七庭審判長法官雷雯華法官陳介安法官蔡子琪以上正本證明與原本無異。如不服本判決應於收受送達後10日內向本院提出上訴書狀，並應敘述具體理由。其未敘述上訴理由者，應於上訴期間屆滿後20日內向本院補提理由書（均須按他造當事人之人數附繕本）「切勿逕送上級法院」。書記官李宜蓁中華民國102年12月5日附錄本案論罪科刑所依據之法條：刑法第216條、第210條、第339條第1項偽造、變造私文書，足以生損害於公眾或他人者，處5年以下有期徒刑。偽造印章、印文或署押，足以生損害於公眾或他人者，處3年以下有期徒刑。盜用印章、印文或署押，足以生損害於公眾或他人者，亦同。意圖為自己或第三人不法之所有，以詐術使人將本人或第三人之物交付者，處5年以下有期徒刑、拘役或科或併科1千元以下罰金。\n",
            "Test Sentences: [150, 242, 60, 302, 365]\n"
          ]
        }
      ]
    },
    {
      "cell_type": "code",
      "source": [
        "with open('/content/drive/MyDrive/senior/LAB/LawCaseRetreiver/sentence_predict/summary/test_summaries_sentences.json', 'r', encoding='utf-8') as f:\n",
        "    test_summaries_sentences = json.load(f)"
      ],
      "metadata": {
        "id": "Mlm81y0mPTA6"
      },
      "execution_count": 8,
      "outputs": []
    },
    {
      "cell_type": "code",
      "source": [
        "with open('/content/drive/MyDrive/senior/LAB/LawCaseRetreiver/sentence_predict/summary/train_summaries_sentences_100.json', 'r', encoding='utf-8') as f:\n",
        "    train_summaries_sentences_100 = json.load(f)\n",
        "with open('/content/drive/MyDrive/senior/LAB/LawCaseRetreiver/sentence_predict/summary/train_summaries_sentences_200.json', 'r', encoding='utf-8') as f:\n",
        "    train_summaries_sentences_200 = json.load(f)\n",
        "with open('/content/drive/MyDrive/senior/LAB/LawCaseRetreiver/sentence_predict/summary/train_summaries_sentences_300.json', 'r', encoding='utf-8') as f:\n",
        "    train_summaries_sentences_300 = json.load(f)\n",
        "with open('/content/drive/MyDrive/senior/LAB/LawCaseRetreiver/sentence_predict/summary/train_summaries_sentences_400.json', 'r', encoding='utf-8') as f:\n",
        "    train_summaries_sentences_400 = json.load(f)\n",
        "with open('/content/drive/MyDrive/senior/LAB/LawCaseRetreiver/sentence_predict/summary/train_summaries_sentences_500.json', 'r', encoding='utf-8') as f:\n",
        "    train_summaries_sentences_500 = json.load(f)"
      ],
      "metadata": {
        "id": "pv05iKYbQ4qw"
      },
      "execution_count": 9,
      "outputs": []
    },
    {
      "cell_type": "markdown",
      "source": [
        "# 連接summary\n"
      ],
      "metadata": {
        "id": "nGfoV4KvP5Eg"
      }
    },
    {
      "cell_type": "code",
      "source": [
        "print(len(test_summaries_sentences))\n",
        "print(len(test_summaries_sentences[0]))\n",
        "print(test_summaries_sentences[0])"
      ],
      "metadata": {
        "colab": {
          "base_uri": "https://localhost:8080/"
        },
        "id": "JSLFjpH_P8sM",
        "outputId": "cb4205ac-6141-4239-bf80-779e13f0934a"
      },
      "execution_count": 15,
      "outputs": [
        {
          "output_type": "stream",
          "name": "stdout",
          "text": [
            "100\n",
            "3\n",
            "['因徐鴻光需款使用，知悉穆立明有借款管道，為求順利借款，2人竟共同意圖為自己不法所有，基於行使偽造私文書及詐欺取財之犯意聯絡，偽造「陳健志」代表志朗公司與徐鴻光簽署的「臺北市計程車客運駕駛人自備車輛參與經營契約書」，並持上開偽刻印章，偽造「志朗交通有限公司」印文4枚、「陳健志」印文6枚於本案參與經營契約書上，再於92年3月6日交徐鴻光於立約人乙方欄簽名。', '嗣因徐鴻光僅清償每期7千元之分期款共11期計7萬7千元，未全額清償即無力負擔債務，王傑生始查知上開車輛非徐鴻光所有，而悉上情。', '二、案經王傑生訴由臺灣士林地方法院檢察署檢察官偵查起訴。']\n"
          ]
        }
      ]
    },
    {
      "cell_type": "code",
      "source": [
        "test_summaries = []\n",
        "for summary in test_summaries_sentences:\n",
        "  text = \"\"\n",
        "  for sentence in summary:\n",
        "    text = text + sentence\n",
        "  test_summaries.append(text)"
      ],
      "metadata": {
        "id": "P6c6kQajQBD3"
      },
      "execution_count": 10,
      "outputs": []
    },
    {
      "cell_type": "code",
      "source": [
        "print(len(test_summaries))\n",
        "print(test_summaries[0])"
      ],
      "metadata": {
        "colab": {
          "base_uri": "https://localhost:8080/"
        },
        "id": "eIPDf4tNQrKY",
        "outputId": "1e7a7f60-8007-4e00-8681-cca8c9560318"
      },
      "execution_count": 16,
      "outputs": [
        {
          "output_type": "stream",
          "name": "stdout",
          "text": [
            "100\n",
            "因徐鴻光需款使用，知悉穆立明有借款管道，為求順利借款，2人竟共同意圖為自己不法所有，基於行使偽造私文書及詐欺取財之犯意聯絡，偽造「陳健志」代表志朗公司與徐鴻光簽署的「臺北市計程車客運駕駛人自備車輛參與經營契約書」，並持上開偽刻印章，偽造「志朗交通有限公司」印文4枚、「陳健志」印文6枚於本案參與經營契約書上，再於92年3月6日交徐鴻光於立約人乙方欄簽名。嗣因徐鴻光僅清償每期7千元之分期款共11期計7萬7千元，未全額清償即無力負擔債務，王傑生始查知上開車輛非徐鴻光所有，而悉上情。二、案經王傑生訴由臺灣士林地方法院檢察署檢察官偵查起訴。\n"
          ]
        }
      ]
    },
    {
      "cell_type": "code",
      "source": [
        "print(len(train_summaries_sentences_100))\n",
        "print(len(train_summaries_sentences_100[0]))\n",
        "print(len(train_summaries_sentences_200))\n",
        "print(len(train_summaries_sentences_200[0]))\n",
        "print(len(train_summaries_sentences_300))\n",
        "print(len(train_summaries_sentences_300[0]))\n",
        "print(len(train_summaries_sentences_400))\n",
        "print(len(train_summaries_sentences_400[0]))\n",
        "print(len(train_summaries_sentences_500))\n",
        "print(len(train_summaries_sentences_500[0]))"
      ],
      "metadata": {
        "colab": {
          "base_uri": "https://localhost:8080/"
        },
        "id": "M5dmoQDkRMRQ",
        "outputId": "1b3290c5-6e0d-4a30-a487-af92489cecee"
      },
      "execution_count": 19,
      "outputs": [
        {
          "output_type": "stream",
          "name": "stdout",
          "text": [
            "100\n",
            "3\n",
            "100\n",
            "3\n",
            "100\n",
            "3\n",
            "100\n",
            "13\n",
            "100\n",
            "3\n"
          ]
        }
      ]
    },
    {
      "cell_type": "code",
      "source": [
        "train_summaries = []\n",
        "for summary in train_summaries_sentences_100:\n",
        "  text = \"\"\n",
        "  for sentence in summary:\n",
        "    text = text + sentence\n",
        "  train_summaries.append(text)"
      ],
      "metadata": {
        "id": "sjoOCDajRcIX"
      },
      "execution_count": 11,
      "outputs": []
    },
    {
      "cell_type": "code",
      "source": [
        "for summary in train_summaries_sentences_200:\n",
        "  text = \"\"\n",
        "  for sentence in summary:\n",
        "    text = text + sentence\n",
        "  train_summaries.append(text)"
      ],
      "metadata": {
        "id": "ck-jSrg_SB1n"
      },
      "execution_count": 12,
      "outputs": []
    },
    {
      "cell_type": "code",
      "source": [
        "for summary in train_summaries_sentences_300:\n",
        "  text = \"\"\n",
        "  for sentence in summary:\n",
        "    text = text + sentence\n",
        "  train_summaries.append(text)"
      ],
      "metadata": {
        "id": "iP6Xw8yGSCQd"
      },
      "execution_count": 13,
      "outputs": []
    },
    {
      "cell_type": "code",
      "source": [
        "for summary in train_summaries_sentences_400:\n",
        "  text = \"\"\n",
        "  for sentence in summary:\n",
        "    text = text + sentence\n",
        "  train_summaries.append(text)"
      ],
      "metadata": {
        "id": "pkNbRIxTSCk2"
      },
      "execution_count": 14,
      "outputs": []
    },
    {
      "cell_type": "code",
      "source": [
        "for summary in train_summaries_sentences_500:\n",
        "  text = \"\"\n",
        "  for sentence in summary:\n",
        "    text = text + sentence\n",
        "  train_summaries.append(text)"
      ],
      "metadata": {
        "id": "ihqvePBBSDBI"
      },
      "execution_count": 15,
      "outputs": []
    },
    {
      "cell_type": "code",
      "source": [
        "train_summaries_len = []\n",
        "test_summaries_len = []\n",
        "\n",
        "for data in train_summaries:\n",
        "    train_summaries_len.append(len(data))\n",
        "\n",
        "for data in test_summaries:\n",
        "    test_summaries_len.append(len(data))"
      ],
      "metadata": {
        "id": "HUx6eC_LRiat"
      },
      "execution_count": 16,
      "outputs": []
    },
    {
      "cell_type": "code",
      "source": [
        "print(\"===Train Dataset===\")\n",
        "print(\"Length: \", len(train_summaries_len))\n",
        "print(\"Max Length: \", max(train_summaries_len))\n",
        "print(\"Min Length: \", min(train_summaries_len))\n",
        "print(\"Avg. Length: \", sum(train_summaries_len) / len(train_summaries_len))\n",
        "\n",
        "print(\"===Test Dataset===\")\n",
        "print(\"Length: \", len(test_summaries_len))\n",
        "print(\"Max Length: \", max(test_summaries_len))\n",
        "print(\"Min Length: \", min(test_summaries_len))\n",
        "print(\"Avg. Length: \", sum(test_summaries_len) / len(test_summaries_len))"
      ],
      "metadata": {
        "colab": {
          "base_uri": "https://localhost:8080/"
        },
        "id": "8jzIdqE1RkCn",
        "outputId": "4c50ec86-4285-43cc-a257-3cbea2b9a017"
      },
      "execution_count": 17,
      "outputs": [
        {
          "output_type": "stream",
          "name": "stdout",
          "text": [
            "===Train Dataset===\n",
            "Length:  500\n",
            "Max Length:  1291\n",
            "Min Length:  0\n",
            "Avg. Length:  388.652\n",
            "===Test Dataset===\n",
            "Length:  100\n",
            "Max Length:  1219\n",
            "Min Length:  97\n",
            "Avg. Length:  394.01\n"
          ]
        }
      ]
    },
    {
      "cell_type": "markdown",
      "source": [
        "# 斷詞"
      ],
      "metadata": {
        "id": "HZmg7VtkoSOS"
      }
    },
    {
      "cell_type": "code",
      "source": [
        "!pip install udicOpenData"
      ],
      "metadata": {
        "colab": {
          "base_uri": "https://localhost:8080/"
        },
        "id": "x1Fe5ju9oL5m",
        "outputId": "f6241c11-2e09-4995-a1a6-4a2ccd91faa9"
      },
      "execution_count": 49,
      "outputs": [
        {
          "output_type": "stream",
          "name": "stdout",
          "text": [
            "Collecting udicOpenData\n",
            "  Downloading udicOpenData-2.4.tar.gz (17.8 MB)\n",
            "\u001b[2K     \u001b[90m━━━━━━━━━━━━━━━━━━━━━━━━━━━━━━━━━━━━━━━━\u001b[0m \u001b[32m17.8/17.8 MB\u001b[0m \u001b[31m7.3 MB/s\u001b[0m eta \u001b[36m0:00:00\u001b[0m\n",
            "\u001b[?25h  Preparing metadata (setup.py) ... \u001b[?25l\u001b[?25hdone\n",
            "Requirement already satisfied: jieba in /usr/local/lib/python3.10/dist-packages (from udicOpenData) (0.42.1)\n",
            "Requirement already satisfied: nltk in /usr/local/lib/python3.10/dist-packages (from udicOpenData) (3.8.1)\n",
            "Requirement already satisfied: numpy in /usr/local/lib/python3.10/dist-packages (from udicOpenData) (1.25.2)\n",
            "Requirement already satisfied: click in /usr/local/lib/python3.10/dist-packages (from nltk->udicOpenData) (8.1.7)\n",
            "Requirement already satisfied: joblib in /usr/local/lib/python3.10/dist-packages (from nltk->udicOpenData) (1.3.2)\n",
            "Requirement already satisfied: regex>=2021.8.3 in /usr/local/lib/python3.10/dist-packages (from nltk->udicOpenData) (2023.12.25)\n",
            "Requirement already satisfied: tqdm in /usr/local/lib/python3.10/dist-packages (from nltk->udicOpenData) (4.66.2)\n",
            "Building wheels for collected packages: udicOpenData\n",
            "  Building wheel for udicOpenData (setup.py) ... \u001b[?25l\u001b[?25hdone\n",
            "  Created wheel for udicOpenData: filename=udicOpenData-2.4-py3-none-any.whl size=18094423 sha256=dc95b9e256633d7fc67dd7b40052874a587f27d0c4ffc4ebab4546775b06e857\n",
            "  Stored in directory: /root/.cache/pip/wheels/86/4f/46/2a28bc28485ba1f9d67dead62ac6aba14089a6cf1d5fbad365\n",
            "Successfully built udicOpenData\n",
            "Installing collected packages: udicOpenData\n",
            "Successfully installed udicOpenData-2.4\n"
          ]
        }
      ]
    },
    {
      "cell_type": "code",
      "source": [
        "!pip install opencc-python-reimplemented"
      ],
      "metadata": {
        "colab": {
          "base_uri": "https://localhost:8080/"
        },
        "id": "pygIOpMP1TT8",
        "outputId": "48fc88ab-8066-4e09-dc2e-f59d672992ec"
      },
      "execution_count": 50,
      "outputs": [
        {
          "output_type": "stream",
          "name": "stdout",
          "text": [
            "Collecting opencc-python-reimplemented\n",
            "  Downloading opencc_python_reimplemented-0.1.7-py2.py3-none-any.whl (481 kB)\n",
            "\u001b[2K     \u001b[90m━━━━━━━━━━━━━━━━━━━━━━━━━━━━━━━━━━━━━━━━\u001b[0m \u001b[32m481.8/481.8 kB\u001b[0m \u001b[31m3.9 MB/s\u001b[0m eta \u001b[36m0:00:00\u001b[0m\n",
            "\u001b[?25hInstalling collected packages: opencc-python-reimplemented\n",
            "Successfully installed opencc-python-reimplemented-0.1.7\n"
          ]
        }
      ]
    },
    {
      "cell_type": "code",
      "source": [
        "from opencc import OpenCC"
      ],
      "metadata": {
        "id": "nDvC9PWt1VHI"
      },
      "execution_count": 51,
      "outputs": []
    },
    {
      "cell_type": "code",
      "source": [
        "cc = OpenCC('t2s')"
      ],
      "metadata": {
        "id": "O4midZsM1Wqq"
      },
      "execution_count": 52,
      "outputs": []
    },
    {
      "cell_type": "code",
      "source": [
        "from udicOpenData.stopwords import *\n",
        "\n",
        "# 分詞加空白\n",
        "def split_passage(passage):\n",
        "    word_and_tag = list(rmsw(passage, flag=True))\n",
        "    _temp = list(filter(lambda x: x[1]!='nr' and x[1]!='ns', word_and_tag))\n",
        "    # print(_temp)\n",
        "    text = \" \".join(list(map(lambda x:x[0], _temp)))\n",
        "    return text"
      ],
      "metadata": {
        "colab": {
          "base_uri": "https://localhost:8080/"
        },
        "id": "lqnfJvoXoHWX",
        "outputId": "acec62c3-3605-4e46-8152-b725ab8a6a55"
      },
      "execution_count": 53,
      "outputs": [
        {
          "output_type": "stream",
          "name": "stderr",
          "text": [
            "[nltk_data] Downloading package punkt to /root/nltk_data...\n",
            "[nltk_data]   Unzipping tokenizers/punkt.zip.\n",
            "[nltk_data] Downloading package averaged_perceptron_tagger to\n",
            "[nltk_data]     /root/nltk_data...\n",
            "[nltk_data]   Unzipping taggers/averaged_perceptron_tagger.zip.\n",
            "[nltk_data] Downloading package maxent_ne_chunker to\n",
            "[nltk_data]     /root/nltk_data...\n",
            "[nltk_data]   Unzipping chunkers/maxent_ne_chunker.zip.\n",
            "[nltk_data] Downloading package words to /root/nltk_data...\n",
            "[nltk_data]   Unzipping corpora/words.zip.\n",
            "[nltk_data] Downloading package wordnet to /root/nltk_data...\n"
          ]
        }
      ]
    },
    {
      "cell_type": "code",
      "source": [
        "tokenized_train_summaries = []\n",
        "\n",
        "for data in train_summaries:\n",
        "    tokenized_train_summaries.append(split_passage(cc.convert(data)))"
      ],
      "metadata": {
        "id": "GlXRtcojoe_G",
        "colab": {
          "base_uri": "https://localhost:8080/"
        },
        "outputId": "7936b470-7dae-4aba-8b31-b16d2c22ea97"
      },
      "execution_count": 54,
      "outputs": [
        {
          "output_type": "stream",
          "name": "stderr",
          "text": [
            "Building prefix dict from the default dictionary ...\n",
            "DEBUG:jieba:Building prefix dict from the default dictionary ...\n",
            "Dumping model to file cache /tmp/jieba.cache\n",
            "DEBUG:jieba:Dumping model to file cache /tmp/jieba.cache\n",
            "Loading model cost 0.977 seconds.\n",
            "DEBUG:jieba:Loading model cost 0.977 seconds.\n",
            "Prefix dict has been built successfully.\n",
            "DEBUG:jieba:Prefix dict has been built successfully.\n"
          ]
        }
      ]
    },
    {
      "cell_type": "code",
      "source": [
        "tokenized_test_summaries = []\n",
        "\n",
        "for data in test_summaries:\n",
        "    tokenized_test_summaries.append(split_passage(cc.convert(data)))"
      ],
      "metadata": {
        "id": "FCISeZzPwG4j"
      },
      "execution_count": 55,
      "outputs": []
    },
    {
      "cell_type": "code",
      "source": [
        "def save_string_array_to_file(string_array, file_path):\n",
        "    try:\n",
        "        with open(file_path, 'w') as file:\n",
        "            for string in string_array:\n",
        "                file.write(string + '\\n')\n",
        "        print(f\"String array saved to {file_path} successfully.\")\n",
        "    except Exception as e:\n",
        "        print(f\"Error occurred while saving string array: {e}\")"
      ],
      "metadata": {
        "id": "e5FAft-Vx0PJ"
      },
      "execution_count": 56,
      "outputs": []
    },
    {
      "cell_type": "code",
      "source": [
        "# save_string_array_to_file(tokenized_train_summaries, '/content/drive/MyDrive/senior/LAB/LawCaseRetreiver/sentence_predict/summary/tokenized_train_summaries.txt')\n",
        "# save_string_array_to_file(tokenized_test_summaries, '/content/drive/MyDrive/senior/LAB/LawCaseRetreiver/sentence_predict/summary/tokenized_test_summaries.txt')"
      ],
      "metadata": {
        "id": "KONrIMD5yMmZ",
        "colab": {
          "base_uri": "https://localhost:8080/"
        },
        "outputId": "4550e340-ba69-4287-b027-adc84f52a127"
      },
      "execution_count": 57,
      "outputs": [
        {
          "output_type": "stream",
          "name": "stdout",
          "text": [
            "String array saved to /content/drive/MyDrive/senior/LAB/LawCaseRetreiver/sentence_predict/summary/tokenized_train_summaries.txt successfully.\n",
            "String array saved to /content/drive/MyDrive/senior/LAB/LawCaseRetreiver/sentence_predict/summary/tokenized_test_summaries.txt successfully.\n"
          ]
        }
      ]
    },
    {
      "cell_type": "code",
      "source": [
        "def read_string_array_from_file(file_path):\n",
        "    try:\n",
        "        with open(file_path, 'r') as file:\n",
        "            string_array = file.readlines()\n",
        "            # 去除每個元素末尾的換行符\n",
        "            string_array = [string.strip() for string in string_array]\n",
        "        print(f\"String array read from {file_path} successfully.\")\n",
        "        return string_array\n",
        "    except Exception as e:\n",
        "        print(f\"Error occurred while reading string array: {e}\")\n",
        "        return None"
      ],
      "metadata": {
        "id": "uplSJ2qAjQ83"
      },
      "execution_count": 18,
      "outputs": []
    },
    {
      "cell_type": "code",
      "source": [
        "tokenized_train_summaries = read_string_array_from_file('/content/drive/MyDrive/senior/LAB/LawCaseRetreiver/sentence_predict/summary/tokenized_train_summaries.txt')\n",
        "tokenized_test_summaries = read_string_array_from_file('/content/drive/MyDrive/senior/LAB/LawCaseRetreiver/sentence_predict/summary/tokenized_test_summaries.txt')"
      ],
      "metadata": {
        "colab": {
          "base_uri": "https://localhost:8080/"
        },
        "id": "xySxQ6GGjmNw",
        "outputId": "5adc520f-06a2-4429-e669-6d2271b94b30"
      },
      "execution_count": 21,
      "outputs": [
        {
          "output_type": "stream",
          "name": "stdout",
          "text": [
            "String array read from /content/drive/MyDrive/senior/LAB/LawCaseRetreiver/sentence_predict/summary/tokenized_train_summaries.txt successfully.\n",
            "String array read from /content/drive/MyDrive/senior/LAB/LawCaseRetreiver/sentence_predict/summary/tokenized_test_summaries.txt successfully.\n"
          ]
        }
      ]
    },
    {
      "cell_type": "code",
      "source": [
        "print(tokenized_train_summaries[0])\n",
        "print(tokenized_train_summaries[1])\n",
        "print(tokenized_test_summaries[0])\n",
        "print(tokenized_test_summaries[1])"
      ],
      "metadata": {
        "colab": {
          "base_uri": "https://localhost:8080/"
        },
        "id": "nTLf3g__jua5",
        "outputId": "f5cc8a90-997c-4d81-e39c-8b84b17b91c5"
      },
      "execution_count": 22,
      "outputs": [
        {
          "output_type": "stream",
          "name": "stdout",
          "text": [
            "被告 明知 与 籍 女子 JARUWANWONGPRATOOM 间 并 无 结婚 真意 与 清水 源等 人 共同 基于 行使 使 公务员 登载 不实 公文书 概括 犯意 联络 办理 假结婚 手续 被告 与 办理 结婚 手续 后 返回 办理 结婚登记 使 承办 公务员 陷于 错误 登载 不实 事项 于 户籍 登记 资料 内 核发 户籍誊本 来 台后 为 取得 居留 身分 被告 与 共同 县政府 警察局 外事 课 申请 核发 延期 承办 人员 实质 审查 结果 未 发觉 假结婚 核发 核准 延期\n",
            "甲 于 民国 上午 时许 北安 桥 路旁 拾得 发射 子弹 具有 杀伤力 枪枝 枪枝 管制 编号 号 后 持有 并 于 主动 员警 坦承 犯行 自首 接受 裁判 甲 于 本院 审理 该案 年度 诉 字 号 时 编造 母 于 经 急诊 住院 接受 治疗 系 为 照顾 住院 母亲 报缴 枪枝 情节 辩称 无 持有 发射 子弹 具有 杀伤力 枪枝 犯 意甲 为 取信于 法院 基于 行使 伪造 私 文书 犯意 于 间 某日 不详 地点 伪刻 奇美 医疗 财团法人 奇美 医院 下称 奇美 医院 院长 医师 甲 印章 颗 伪造 附表 编号 所示 诊断 证明书 下称 系争 诊断 证明书 提出 于 本院 收件 日期 为 表示 系争 诊断 证明书 记载 内容 业经 认证 属实 意 足以 生 损害 于 奇美 医院 甲 国家 行使 正确性\n",
            "需款 使用 知悉 借款 管道 为求 顺利 借款 人 共同 意图 为 不法 所有 基于 行使 伪造 私 文书 诈欺 取财 犯意 联络 伪造 代表 公司 与 签署 计程车 客运 驾驶 人 自备 车辆 参与 经营 契约书 并持 上开 伪刻 印章 伪造 交通 有限公司 印文 枚 印文 枚 于 本案 参与 经营 契约书 于 交 约人 乙方 栏 签名 嗣 仅 清偿 每期 千元 分期 款 期计 万 千元 未 全额 清偿 无力 负担 债务 生始 查知 上开 车辆 非 所有 悉上 情 案经 生诉 士林 地方法院 检察署 检察官 侦查 起诉\n",
            "主动 与 祭祀 公业 子玉 管理 人 赐福 耀西 联络 处理 该 祭祀 公业 相关 事宜 经 洽商 结果 于 埙 三等 人 需 支费 下 代为 申办 事成后 获得 该 祭祀 公业 所有 土地 价值 报酬 与 埙 共同 基于 意图 为 自已 不法 所有 行使 业务 登载 不实 文书 使 公务员 登载 不实 犯意 联络 接续 为 下列 行为 于 民国 前 数日 内 某时 员林 镇 路 段 号 住处 于 业务 登载 祭祀 公业 子玉 渊源 来历 赐福 积蓄 购买 公业 所有 坐落 田中 镇 段 地号 二笔 土地 祭田 收益 作为 每年 清明节 祭祀 祖先 资 并 期望 珍惜 故以 祭祀 公业 子玉 命名 不实 沿革 不实 派下 现员 埙 名册 不实 之派 下 全员 系统 表 推举 书后 连同 该 祭祀 公业 财产 清册 土地 登记 第一类 誊本 书写 为 申报 人 祭祀 公业派 下 全员 证明书 于 持向 田中 镇公所 申请 该 祭祀 公业派 下 全员 证明书 行使 使 不知情 田中 镇公所 民政 课 承办 人员 误认为 申报 关于 该 祭祀 公业 享祀 人 设立 人 与 祭祀 公业 财产 要件 皆 具备 该 祭祀 公业 派 下员 仅 与 埙 将 上开 不实 事项 登载 于 职务 掌 公文书 经 田中 镇公所 依法 公告 征求 异议 俟 公告 期满 无人 异议 后 与 埙 复 基于 意图 为 不法 利益 犯意 联络 该 祭祀 公业派 下员 证明 申请 案 已 公告 期满 无人 异议 于 其前 揭 住处 制作 祭祀 公业 子玉 表明 与 埙 为 该 祭祀 公业 仅存 之派 下员 于 名义 田中 镇公所 申请 核发 派 下员 证明书 致 不知情 田中 镇公所 民政 课 承办 人员 于 核发 祭祀 公业派 下 全员 证明书 祭祀 公业 子玉 派 下 全员 系统 表 派下 现员 名册 与 不动产 清册 给 使 埙 取得 祭祀 公业 子玉 派 下员 资格 利益\n"
          ]
        }
      ]
    },
    {
      "cell_type": "code",
      "source": [
        "tokenized_train_summaries_len = []\n",
        "tokenized_test_summaries_len = []\n",
        "\n",
        "for data in tokenized_train_summaries:\n",
        "    tokenized_train_summaries_len.append(len(data))\n",
        "\n",
        "for data in tokenized_test_summaries:\n",
        "    tokenized_test_summaries_len.append(len(data))"
      ],
      "metadata": {
        "id": "zNzWlPhcVDWR"
      },
      "execution_count": 23,
      "outputs": []
    },
    {
      "cell_type": "code",
      "source": [
        "print(\"===Train Dataset===\")\n",
        "print(\"Length: \", len(tokenized_train_summaries_len))\n",
        "print(\"Max Length: \", max(tokenized_train_summaries_len))\n",
        "print(\"Min Length: \", min(tokenized_train_summaries_len))\n",
        "print(\"Avg. Length: \", sum(tokenized_train_summaries_len) / len(tokenized_train_summaries_len))\n",
        "\n",
        "print(\"===Test Dataset===\")\n",
        "print(\"Length: \", len(tokenized_test_summaries_len))\n",
        "print(\"Max Length: \", max(tokenized_test_summaries_len))\n",
        "print(\"Min Length: \", min(tokenized_test_summaries_len))\n",
        "print(\"Avg. Length: \", sum(tokenized_test_summaries_len) / len(tokenized_test_summaries_len))"
      ],
      "metadata": {
        "colab": {
          "base_uri": "https://localhost:8080/"
        },
        "id": "aSWsiN6oVFgs",
        "outputId": "6f5dc12a-8d16-41b3-b246-e8d179f32722"
      },
      "execution_count": 24,
      "outputs": [
        {
          "output_type": "stream",
          "name": "stdout",
          "text": [
            "===Train Dataset===\n",
            "Length:  500\n",
            "Max Length:  1358\n",
            "Min Length:  0\n",
            "Avg. Length:  389.714\n",
            "===Test Dataset===\n",
            "Length:  100\n",
            "Max Length:  1219\n",
            "Min Length:  91\n",
            "Avg. Length:  394.76\n"
          ]
        }
      ]
    },
    {
      "cell_type": "markdown",
      "source": [
        "# bge-m3"
      ],
      "metadata": {
        "id": "e1JyY6hzrck_"
      }
    },
    {
      "cell_type": "code",
      "source": [
        "!pip install -U FlagEmbedding"
      ],
      "metadata": {
        "colab": {
          "base_uri": "https://localhost:8080/"
        },
        "id": "GP04ERaQrcaT",
        "outputId": "d16037bc-271a-4da7-c5e2-f3f247971dde"
      },
      "execution_count": 60,
      "outputs": [
        {
          "output_type": "stream",
          "name": "stdout",
          "text": [
            "Collecting FlagEmbedding\n",
            "  Downloading FlagEmbedding-1.2.8.tar.gz (120 kB)\n",
            "\u001b[2K     \u001b[90m━━━━━━━━━━━━━━━━━━━━━━━━━━━━━━━━━━━━━━━━\u001b[0m \u001b[32m120.2/120.2 kB\u001b[0m \u001b[31m3.1 MB/s\u001b[0m eta \u001b[36m0:00:00\u001b[0m\n",
            "\u001b[?25h  Preparing metadata (setup.py) ... \u001b[?25l\u001b[?25hdone\n",
            "Requirement already satisfied: torch>=1.6.0 in /usr/local/lib/python3.10/dist-packages (from FlagEmbedding) (2.2.1+cu121)\n",
            "Requirement already satisfied: transformers>=4.33.0 in /usr/local/lib/python3.10/dist-packages (from FlagEmbedding) (4.38.2)\n",
            "Collecting datasets (from FlagEmbedding)\n",
            "  Downloading datasets-2.18.0-py3-none-any.whl (510 kB)\n",
            "\u001b[2K     \u001b[90m━━━━━━━━━━━━━━━━━━━━━━━━━━━━━━━━━━━━━━━━\u001b[0m \u001b[32m510.5/510.5 kB\u001b[0m \u001b[31m10.9 MB/s\u001b[0m eta \u001b[36m0:00:00\u001b[0m\n",
            "\u001b[?25hCollecting accelerate>=0.20.1 (from FlagEmbedding)\n",
            "  Downloading accelerate-0.28.0-py3-none-any.whl (290 kB)\n",
            "\u001b[2K     \u001b[90m━━━━━━━━━━━━━━━━━━━━━━━━━━━━━━━━━━━━━━━━\u001b[0m \u001b[32m290.1/290.1 kB\u001b[0m \u001b[31m12.3 MB/s\u001b[0m eta \u001b[36m0:00:00\u001b[0m\n",
            "\u001b[?25hCollecting sentence_transformers (from FlagEmbedding)\n",
            "  Downloading sentence_transformers-2.6.0-py3-none-any.whl (163 kB)\n",
            "\u001b[2K     \u001b[90m━━━━━━━━━━━━━━━━━━━━━━━━━━━━━━━━━━━━━━━━\u001b[0m \u001b[32m163.1/163.1 kB\u001b[0m \u001b[31m14.7 MB/s\u001b[0m eta \u001b[36m0:00:00\u001b[0m\n",
            "\u001b[?25hRequirement already satisfied: numpy>=1.17 in /usr/local/lib/python3.10/dist-packages (from accelerate>=0.20.1->FlagEmbedding) (1.25.2)\n",
            "Requirement already satisfied: packaging>=20.0 in /usr/local/lib/python3.10/dist-packages (from accelerate>=0.20.1->FlagEmbedding) (24.0)\n",
            "Requirement already satisfied: psutil in /usr/local/lib/python3.10/dist-packages (from accelerate>=0.20.1->FlagEmbedding) (5.9.5)\n",
            "Requirement already satisfied: pyyaml in /usr/local/lib/python3.10/dist-packages (from accelerate>=0.20.1->FlagEmbedding) (6.0.1)\n",
            "Requirement already satisfied: huggingface-hub in /usr/local/lib/python3.10/dist-packages (from accelerate>=0.20.1->FlagEmbedding) (0.20.3)\n",
            "Requirement already satisfied: safetensors>=0.3.1 in /usr/local/lib/python3.10/dist-packages (from accelerate>=0.20.1->FlagEmbedding) (0.4.2)\n",
            "Requirement already satisfied: filelock in /usr/local/lib/python3.10/dist-packages (from torch>=1.6.0->FlagEmbedding) (3.13.1)\n",
            "Requirement already satisfied: typing-extensions>=4.8.0 in /usr/local/lib/python3.10/dist-packages (from torch>=1.6.0->FlagEmbedding) (4.10.0)\n",
            "Requirement already satisfied: sympy in /usr/local/lib/python3.10/dist-packages (from torch>=1.6.0->FlagEmbedding) (1.12)\n",
            "Requirement already satisfied: networkx in /usr/local/lib/python3.10/dist-packages (from torch>=1.6.0->FlagEmbedding) (3.2.1)\n",
            "Requirement already satisfied: jinja2 in /usr/local/lib/python3.10/dist-packages (from torch>=1.6.0->FlagEmbedding) (3.1.3)\n",
            "Requirement already satisfied: fsspec in /usr/local/lib/python3.10/dist-packages (from torch>=1.6.0->FlagEmbedding) (2023.6.0)\n",
            "Collecting nvidia-cuda-nvrtc-cu12==12.1.105 (from torch>=1.6.0->FlagEmbedding)\n",
            "  Downloading nvidia_cuda_nvrtc_cu12-12.1.105-py3-none-manylinux1_x86_64.whl (23.7 MB)\n",
            "\u001b[2K     \u001b[90m━━━━━━━━━━━━━━━━━━━━━━━━━━━━━━━━━━━━━━━━\u001b[0m \u001b[32m23.7/23.7 MB\u001b[0m \u001b[31m30.1 MB/s\u001b[0m eta \u001b[36m0:00:00\u001b[0m\n",
            "\u001b[?25hCollecting nvidia-cuda-runtime-cu12==12.1.105 (from torch>=1.6.0->FlagEmbedding)\n",
            "  Downloading nvidia_cuda_runtime_cu12-12.1.105-py3-none-manylinux1_x86_64.whl (823 kB)\n",
            "\u001b[2K     \u001b[90m━━━━━━━━━━━━━━━━━━━━━━━━━━━━━━━━━━━━━━━━\u001b[0m \u001b[32m823.6/823.6 kB\u001b[0m \u001b[31m41.6 MB/s\u001b[0m eta \u001b[36m0:00:00\u001b[0m\n",
            "\u001b[?25hCollecting nvidia-cuda-cupti-cu12==12.1.105 (from torch>=1.6.0->FlagEmbedding)\n",
            "  Downloading nvidia_cuda_cupti_cu12-12.1.105-py3-none-manylinux1_x86_64.whl (14.1 MB)\n",
            "\u001b[2K     \u001b[90m━━━━━━━━━━━━━━━━━━━━━━━━━━━━━━━━━━━━━━━━\u001b[0m \u001b[32m14.1/14.1 MB\u001b[0m \u001b[31m37.4 MB/s\u001b[0m eta \u001b[36m0:00:00\u001b[0m\n",
            "\u001b[?25hCollecting nvidia-cudnn-cu12==8.9.2.26 (from torch>=1.6.0->FlagEmbedding)\n",
            "  Downloading nvidia_cudnn_cu12-8.9.2.26-py3-none-manylinux1_x86_64.whl (731.7 MB)\n",
            "\u001b[2K     \u001b[90m━━━━━━━━━━━━━━━━━━━━━━━━━━━━━━━━━━━━━━━━\u001b[0m \u001b[32m731.7/731.7 MB\u001b[0m \u001b[31m1.9 MB/s\u001b[0m eta \u001b[36m0:00:00\u001b[0m\n",
            "\u001b[?25hCollecting nvidia-cublas-cu12==12.1.3.1 (from torch>=1.6.0->FlagEmbedding)\n",
            "  Downloading nvidia_cublas_cu12-12.1.3.1-py3-none-manylinux1_x86_64.whl (410.6 MB)\n",
            "\u001b[2K     \u001b[90m━━━━━━━━━━━━━━━━━━━━━━━━━━━━━━━━━━━━━━━━\u001b[0m \u001b[32m410.6/410.6 MB\u001b[0m \u001b[31m3.0 MB/s\u001b[0m eta \u001b[36m0:00:00\u001b[0m\n",
            "\u001b[?25hCollecting nvidia-cufft-cu12==11.0.2.54 (from torch>=1.6.0->FlagEmbedding)\n",
            "  Downloading nvidia_cufft_cu12-11.0.2.54-py3-none-manylinux1_x86_64.whl (121.6 MB)\n",
            "\u001b[2K     \u001b[90m━━━━━━━━━━━━━━━━━━━━━━━━━━━━━━━━━━━━━━━━\u001b[0m \u001b[32m121.6/121.6 MB\u001b[0m \u001b[31m6.9 MB/s\u001b[0m eta \u001b[36m0:00:00\u001b[0m\n",
            "\u001b[?25hCollecting nvidia-curand-cu12==10.3.2.106 (from torch>=1.6.0->FlagEmbedding)\n",
            "  Downloading nvidia_curand_cu12-10.3.2.106-py3-none-manylinux1_x86_64.whl (56.5 MB)\n",
            "\u001b[2K     \u001b[90m━━━━━━━━━━━━━━━━━━━━━━━━━━━━━━━━━━━━━━━━\u001b[0m \u001b[32m56.5/56.5 MB\u001b[0m \u001b[31m10.7 MB/s\u001b[0m eta \u001b[36m0:00:00\u001b[0m\n",
            "\u001b[?25hCollecting nvidia-cusolver-cu12==11.4.5.107 (from torch>=1.6.0->FlagEmbedding)\n",
            "  Downloading nvidia_cusolver_cu12-11.4.5.107-py3-none-manylinux1_x86_64.whl (124.2 MB)\n",
            "\u001b[2K     \u001b[90m━━━━━━━━━━━━━━━━━━━━━━━━━━━━━━━━━━━━━━━━\u001b[0m \u001b[32m124.2/124.2 MB\u001b[0m \u001b[31m8.1 MB/s\u001b[0m eta \u001b[36m0:00:00\u001b[0m\n",
            "\u001b[?25hCollecting nvidia-cusparse-cu12==12.1.0.106 (from torch>=1.6.0->FlagEmbedding)\n",
            "  Downloading nvidia_cusparse_cu12-12.1.0.106-py3-none-manylinux1_x86_64.whl (196.0 MB)\n",
            "\u001b[2K     \u001b[90m━━━━━━━━━━━━━━━━━━━━━━━━━━━━━━━━━━━━━━━━\u001b[0m \u001b[32m196.0/196.0 MB\u001b[0m \u001b[31m4.1 MB/s\u001b[0m eta \u001b[36m0:00:00\u001b[0m\n",
            "\u001b[?25hCollecting nvidia-nccl-cu12==2.19.3 (from torch>=1.6.0->FlagEmbedding)\n",
            "  Downloading nvidia_nccl_cu12-2.19.3-py3-none-manylinux1_x86_64.whl (166.0 MB)\n",
            "\u001b[2K     \u001b[90m━━━━━━━━━━━━━━━━━━━━━━━━━━━━━━━━━━━━━━━━\u001b[0m \u001b[32m166.0/166.0 MB\u001b[0m \u001b[31m2.2 MB/s\u001b[0m eta \u001b[36m0:00:00\u001b[0m\n",
            "\u001b[?25hCollecting nvidia-nvtx-cu12==12.1.105 (from torch>=1.6.0->FlagEmbedding)\n",
            "  Downloading nvidia_nvtx_cu12-12.1.105-py3-none-manylinux1_x86_64.whl (99 kB)\n",
            "\u001b[2K     \u001b[90m━━━━━━━━━━━━━━━━━━━━━━━━━━━━━━━━━━━━━━━━\u001b[0m \u001b[32m99.1/99.1 kB\u001b[0m \u001b[31m11.8 MB/s\u001b[0m eta \u001b[36m0:00:00\u001b[0m\n",
            "\u001b[?25hRequirement already satisfied: triton==2.2.0 in /usr/local/lib/python3.10/dist-packages (from torch>=1.6.0->FlagEmbedding) (2.2.0)\n",
            "Collecting nvidia-nvjitlink-cu12 (from nvidia-cusolver-cu12==11.4.5.107->torch>=1.6.0->FlagEmbedding)\n",
            "  Downloading nvidia_nvjitlink_cu12-12.4.99-py3-none-manylinux2014_x86_64.whl (21.1 MB)\n",
            "\u001b[2K     \u001b[90m━━━━━━━━━━━━━━━━━━━━━━━━━━━━━━━━━━━━━━━━\u001b[0m \u001b[32m21.1/21.1 MB\u001b[0m \u001b[31m61.1 MB/s\u001b[0m eta \u001b[36m0:00:00\u001b[0m\n",
            "\u001b[?25hRequirement already satisfied: regex!=2019.12.17 in /usr/local/lib/python3.10/dist-packages (from transformers>=4.33.0->FlagEmbedding) (2023.12.25)\n",
            "Requirement already satisfied: requests in /usr/local/lib/python3.10/dist-packages (from transformers>=4.33.0->FlagEmbedding) (2.31.0)\n",
            "Requirement already satisfied: tokenizers<0.19,>=0.14 in /usr/local/lib/python3.10/dist-packages (from transformers>=4.33.0->FlagEmbedding) (0.15.2)\n",
            "Requirement already satisfied: tqdm>=4.27 in /usr/local/lib/python3.10/dist-packages (from transformers>=4.33.0->FlagEmbedding) (4.66.2)\n",
            "Requirement already satisfied: pyarrow>=12.0.0 in /usr/local/lib/python3.10/dist-packages (from datasets->FlagEmbedding) (14.0.2)\n",
            "Requirement already satisfied: pyarrow-hotfix in /usr/local/lib/python3.10/dist-packages (from datasets->FlagEmbedding) (0.6)\n",
            "Collecting dill<0.3.9,>=0.3.0 (from datasets->FlagEmbedding)\n",
            "  Downloading dill-0.3.8-py3-none-any.whl (116 kB)\n",
            "\u001b[2K     \u001b[90m━━━━━━━━━━━━━━━━━━━━━━━━━━━━━━━━━━━━━━━━\u001b[0m \u001b[32m116.3/116.3 kB\u001b[0m \u001b[31m13.7 MB/s\u001b[0m eta \u001b[36m0:00:00\u001b[0m\n",
            "\u001b[?25hRequirement already satisfied: pandas in /usr/local/lib/python3.10/dist-packages (from datasets->FlagEmbedding) (1.5.3)\n",
            "Collecting xxhash (from datasets->FlagEmbedding)\n",
            "  Downloading xxhash-3.4.1-cp310-cp310-manylinux_2_17_x86_64.manylinux2014_x86_64.whl (194 kB)\n",
            "\u001b[2K     \u001b[90m━━━━━━━━━━━━━━━━━━━━━━━━━━━━━━━━━━━━━━━━\u001b[0m \u001b[32m194.1/194.1 kB\u001b[0m \u001b[31m22.1 MB/s\u001b[0m eta \u001b[36m0:00:00\u001b[0m\n",
            "\u001b[?25hCollecting multiprocess (from datasets->FlagEmbedding)\n",
            "  Downloading multiprocess-0.70.16-py310-none-any.whl (134 kB)\n",
            "\u001b[2K     \u001b[90m━━━━━━━━━━━━━━━━━━━━━━━━━━━━━━━━━━━━━━━━\u001b[0m \u001b[32m134.8/134.8 kB\u001b[0m \u001b[31m16.6 MB/s\u001b[0m eta \u001b[36m0:00:00\u001b[0m\n",
            "\u001b[?25hRequirement already satisfied: aiohttp in /usr/local/lib/python3.10/dist-packages (from datasets->FlagEmbedding) (3.9.3)\n",
            "Requirement already satisfied: scikit-learn in /usr/local/lib/python3.10/dist-packages (from sentence_transformers->FlagEmbedding) (1.2.2)\n",
            "Requirement already satisfied: scipy in /usr/local/lib/python3.10/dist-packages (from sentence_transformers->FlagEmbedding) (1.11.4)\n",
            "Requirement already satisfied: Pillow in /usr/local/lib/python3.10/dist-packages (from sentence_transformers->FlagEmbedding) (9.4.0)\n",
            "Requirement already satisfied: aiosignal>=1.1.2 in /usr/local/lib/python3.10/dist-packages (from aiohttp->datasets->FlagEmbedding) (1.3.1)\n",
            "Requirement already satisfied: attrs>=17.3.0 in /usr/local/lib/python3.10/dist-packages (from aiohttp->datasets->FlagEmbedding) (23.2.0)\n",
            "Requirement already satisfied: frozenlist>=1.1.1 in /usr/local/lib/python3.10/dist-packages (from aiohttp->datasets->FlagEmbedding) (1.4.1)\n",
            "Requirement already satisfied: multidict<7.0,>=4.5 in /usr/local/lib/python3.10/dist-packages (from aiohttp->datasets->FlagEmbedding) (6.0.5)\n",
            "Requirement already satisfied: yarl<2.0,>=1.0 in /usr/local/lib/python3.10/dist-packages (from aiohttp->datasets->FlagEmbedding) (1.9.4)\n",
            "Requirement already satisfied: async-timeout<5.0,>=4.0 in /usr/local/lib/python3.10/dist-packages (from aiohttp->datasets->FlagEmbedding) (4.0.3)\n",
            "Requirement already satisfied: charset-normalizer<4,>=2 in /usr/local/lib/python3.10/dist-packages (from requests->transformers>=4.33.0->FlagEmbedding) (3.3.2)\n",
            "Requirement already satisfied: idna<4,>=2.5 in /usr/local/lib/python3.10/dist-packages (from requests->transformers>=4.33.0->FlagEmbedding) (3.6)\n",
            "Requirement already satisfied: urllib3<3,>=1.21.1 in /usr/local/lib/python3.10/dist-packages (from requests->transformers>=4.33.0->FlagEmbedding) (2.0.7)\n",
            "Requirement already satisfied: certifi>=2017.4.17 in /usr/local/lib/python3.10/dist-packages (from requests->transformers>=4.33.0->FlagEmbedding) (2024.2.2)\n",
            "Requirement already satisfied: MarkupSafe>=2.0 in /usr/local/lib/python3.10/dist-packages (from jinja2->torch>=1.6.0->FlagEmbedding) (2.1.5)\n",
            "Requirement already satisfied: python-dateutil>=2.8.1 in /usr/local/lib/python3.10/dist-packages (from pandas->datasets->FlagEmbedding) (2.8.2)\n",
            "Requirement already satisfied: pytz>=2020.1 in /usr/local/lib/python3.10/dist-packages (from pandas->datasets->FlagEmbedding) (2023.4)\n",
            "Requirement already satisfied: joblib>=1.1.1 in /usr/local/lib/python3.10/dist-packages (from scikit-learn->sentence_transformers->FlagEmbedding) (1.3.2)\n",
            "Requirement already satisfied: threadpoolctl>=2.0.0 in /usr/local/lib/python3.10/dist-packages (from scikit-learn->sentence_transformers->FlagEmbedding) (3.3.0)\n",
            "Requirement already satisfied: mpmath>=0.19 in /usr/local/lib/python3.10/dist-packages (from sympy->torch>=1.6.0->FlagEmbedding) (1.3.0)\n",
            "Requirement already satisfied: six>=1.5 in /usr/local/lib/python3.10/dist-packages (from python-dateutil>=2.8.1->pandas->datasets->FlagEmbedding) (1.16.0)\n",
            "Building wheels for collected packages: FlagEmbedding\n",
            "  Building wheel for FlagEmbedding (setup.py) ... \u001b[?25l\u001b[?25hdone\n",
            "  Created wheel for FlagEmbedding: filename=FlagEmbedding-1.2.8-py3-none-any.whl size=142818 sha256=aef1c1ad2435ae35c9a85f841154849ac5d245e8a386ead615b08486cfec5273\n",
            "  Stored in directory: /root/.cache/pip/wheels/a8/7d/6e/b020e07d6db37e947378ba3ab783952bf471ba1108ac197882\n",
            "Successfully built FlagEmbedding\n",
            "Installing collected packages: xxhash, nvidia-nvtx-cu12, nvidia-nvjitlink-cu12, nvidia-nccl-cu12, nvidia-curand-cu12, nvidia-cufft-cu12, nvidia-cuda-runtime-cu12, nvidia-cuda-nvrtc-cu12, nvidia-cuda-cupti-cu12, nvidia-cublas-cu12, dill, nvidia-cusparse-cu12, nvidia-cudnn-cu12, multiprocess, nvidia-cusolver-cu12, datasets, sentence_transformers, accelerate, FlagEmbedding\n",
            "Successfully installed FlagEmbedding-1.2.8 accelerate-0.28.0 datasets-2.18.0 dill-0.3.8 multiprocess-0.70.16 nvidia-cublas-cu12-12.1.3.1 nvidia-cuda-cupti-cu12-12.1.105 nvidia-cuda-nvrtc-cu12-12.1.105 nvidia-cuda-runtime-cu12-12.1.105 nvidia-cudnn-cu12-8.9.2.26 nvidia-cufft-cu12-11.0.2.54 nvidia-curand-cu12-10.3.2.106 nvidia-cusolver-cu12-11.4.5.107 nvidia-cusparse-cu12-12.1.0.106 nvidia-nccl-cu12-2.19.3 nvidia-nvjitlink-cu12-12.4.99 nvidia-nvtx-cu12-12.1.105 sentence_transformers-2.6.0 xxhash-3.4.1\n"
          ]
        }
      ]
    },
    {
      "cell_type": "markdown",
      "source": [
        "## 引入模型並測試在中文上的效果"
      ],
      "metadata": {
        "id": "Is0bV-Imt-fb"
      }
    },
    {
      "cell_type": "code",
      "source": [
        "from FlagEmbedding import BGEM3FlagModel"
      ],
      "metadata": {
        "id": "dzMUB0vhtIN1"
      },
      "execution_count": 61,
      "outputs": []
    },
    {
      "cell_type": "code",
      "source": [
        "model = BGEM3FlagModel('BAAI/bge-m3',\n",
        "                       use_fp16=True) # Setting use_fp16 to True speeds up computation with a slight performance degradation"
      ],
      "metadata": {
        "colab": {
          "base_uri": "https://localhost:8080/",
          "height": 912,
          "referenced_widgets": [
            "4beb28890cd543de821624a2fc3e0228",
            "b80726bae2bf489a9f0097b21c6226d5",
            "aa003488019f4790b1e999bf97ae2c96",
            "c5e5d5236d3143fc9794fd342db36465",
            "1c3e198e7d2e498b8c89b4b01a416b8e",
            "dbd4403be4e241c99af85135b513b622",
            "ccb1fe4aa29a4b55ad4d1335d2bd5a54",
            "54e97ae1cbbb4ab7a8670b959c880257",
            "de2d9ee73ee843cbb01150088aa824b3",
            "25cd57387f4247b2803f2bae281893e0",
            "09c30db410c2454ca2af5597cee52fd1",
            "a263f10955a24fc4bbcbc8440ebae862",
            "f78cbf38841a41b092c1c591d497145c",
            "4a24021b0bb846e5a220f1e921ae293d",
            "2d34673d600c4bc58cad599b0eb201a2",
            "7dbb84c1c1514c7396e0ba71022e94ef",
            "39aeb60e216d464eb39fa54166a4311d",
            "660eca74f28849539df3ca94d04bb9c1",
            "1fe91a1a8d484b9e96b5c9edbf346427",
            "ca3f6d09a47d4452beb80bd3c6ce947c",
            "6a2c1233e6f84a509a11f20db326d293",
            "7a43d72741fb416b9e48cac9062530ef",
            "8fa69110e35b4ae69b663b892c37e306",
            "8e2906345c3443ca84a9964bd5d19eb6",
            "c27abf624e694f8bac0b95d0c7216123",
            "d0a4f3f193b94905b5e3c634eb5bacd4",
            "1ebe22e3cfb04b73af78e56437d1933c",
            "9979e595a8184b2cb7845a8340b823d7",
            "c497f2134f054a4ba8f8575fc6572d47",
            "82f45d54a8e147ec8a51fc0e32732a19",
            "4974f131e39d44bebdc8c03b4005eae3",
            "89e679b3510d45d7a03c9ec76e966a0d",
            "758f13ed8e29483ca8d6d4e2ed41d0ff",
            "1b7a1f48cd7643439d77c70a3d630519",
            "bcf15e15e24b4f7c9425ccea3264a6da",
            "63f597b4c6234456a9b29abb086ff557",
            "a5b16f2b1fd24307bc79ff4c106e6f20",
            "f9afbd593b2f4fdeaac8bc0632d8dabe",
            "3e0cbfaea35f47ba8ce80bbf7621084e",
            "a75a93e120f243d1a02d7081f6bb7436",
            "a8f62d6756ae47ac8256f5bf8da23f7a",
            "0e5969e63beb4e8bb4c8f54fbf6c9d27",
            "b3a1ff3d238540a29a93a80f76ad8592",
            "6ac16e8306bb427b917113af7b029a29",
            "189265e6abe848e889ee97ab4b235cab",
            "39552b373e27401483176e5d3151f1d7",
            "97d564f499d0467796dbedfd563cbd38",
            "04c59898369f489f9ac908943a61a6d1",
            "dff9cc86a70440ea91dc2330475c2f39",
            "b10115c03bda455d9dc494b06b846875",
            "16e05a1296bd49e29e0f58c66d9d6310",
            "cf6e3872bb2e4156b0596bdc18d7dd1d",
            "55113593a75c435eaecac3d4f49e13ff",
            "bc8a302cb35443d18e1ee8f18b75844c",
            "cd994da023fb477c975813347c5af45f",
            "ca799181a1184582a991d8f92ce5afed",
            "bd862e74e3f7465a8975e93ace9bebc4",
            "d3cc4f913bce45b68423190a3e82081e",
            "9e16f33351f44b27b07d2db4594ed7e9",
            "07429e62a7544399a650a65ea669877f",
            "ba35cbb18771465ca24ed5e1173d6a57",
            "2aec523dc8584a339ade0984b95f3dfb",
            "a623ebc69db448eab09b2e2bb4c9153c",
            "9c0997fb7a624ca7ae5bfc4283e74c71",
            "7a63ff3f62314e19aa2b3f598cccb4f9",
            "343f2437895547f5aeef04114ea26a69",
            "59c00f11c5ff47d6aaa99601908d7024",
            "dd11d11c98fc44c9b798c049fb1b86ea",
            "cd0565d72ad944cf9b1e37aa3f51be82",
            "b368721b06ff47dcb0075631c0071e91",
            "d6c4e95a7e4445cda14a0e0e39c45f28",
            "3edcf2229ccf43809da533a8837f6311",
            "f7b9b3b42e754b058320eeda3b1a4156",
            "db5da3607c0d4e4982225fd5b1a9d190",
            "fc762b67f31148ff98b870a6eb51e14a",
            "332a8a3306c54accbe55b3d3ab9461fd",
            "bbbd23ee2ab1414999083695fbffda5b",
            "1bbebb54644c41cfbccee66f94e9760f",
            "465b28b9657f42bba151981a1903be41",
            "43eab958de40409f90560cd3f3569d60",
            "258f668f18954f2fbae0485398f96f21",
            "6bd62535dc144a95b07094a380c35755",
            "48ca29d08aed454cad339d63891d6e3f",
            "7be8ff259d1f4036a9b21be935c5dea7",
            "90b6c402d4994cee87337a3139964c13",
            "cedd8656bf3c4226a3dd7229597e0dd8",
            "92e8ea27b41047c08a8b7494ece9a094",
            "42910797643149338bc944ecb9648607",
            "abad31c7c6864d42966ac0ba0b3e43a5",
            "cb48b59f1b444a73a22b19351eac83ca",
            "d654fd590cef4d759f26b5b8f326abff",
            "a39bbe23c7ce42d8b8e6a475f73a1c59",
            "c7068f355fb74464a3654e88fca11f1e",
            "e2c83bc1e417497babd14dd9da9c3d67",
            "e2d02a768c51497fbc3952d7d91ae1f6",
            "178383934d2f4b53b67a6de86075e784",
            "53b8c60464db4b68a2ae668c7df09c81",
            "0c2c650d3b744d57a1b573a79649d92d",
            "7d3dda0997814987980d13117842da5e",
            "a613ef1fd065478983e4bb3f22b8125a",
            "8201960739644ef088674b9734452d96",
            "cc35f845afa54110acbdeadf791c3cc0",
            "690a24db48114d6da196e75ce2052dfb",
            "67c559ca2cb44a9988d94480db028aa0",
            "6c2ce007334d432caf5f03dc9adfefcb",
            "1944eede87564fda8f6663c71d6d3143",
            "5c5087beb778430dabdca279effc4db2",
            "57d0ca9dcb084994bebfd446ca919f8d",
            "203aac8a47244900aad08508d2a0d5e3",
            "a2420c0af10a4eff8f095c12c552a540",
            "1bb2640959994583aab939fbf32ad03f",
            "b527533c62fa4db89c55dbe6901e4af4",
            "55da65d2caf64867b047f26ff18a2318",
            "a40c3b6ad53c43b2b763c02e6c392535",
            "933e6694ef8d40379de091123da90eff",
            "5db2f09c3623415ea3dfe6d9e1b9c3c0",
            "06d368a0387444eaa7a1ae18584ae69d",
            "b20e36c4c9904a298d12e7abc1b23d29",
            "59de4bbad7354ea08fcd44dc244ad136",
            "42296f386b064dd4b7fd2623474f1c33",
            "c545b573d83e4f63a80687b984088bf3",
            "77a1e4fb9c46401a92072402d7e12d9d",
            "4512c063de9c4c44952348ca14a5fa7e",
            "49f35f369871407f9f9507fdfb45ec59",
            "d4a1425783794150af3d2989b3546d9e",
            "43fadaaf6c204ac3833ae2f66f54f45c",
            "332ed293ce174559ba293c70fc0c9aec",
            "551a776310df48e0a58544b50f33c44e",
            "d879ca5bf3f3444ea88725625e5dee64",
            "c3403064a28b46a99362842f995929a3",
            "099ec10f0d634b65ab973bb6bae1495d",
            "a8789a54650c48fcbce02ea88c335960",
            "7e7715a2cf8243a6861650370a5e0c5f",
            "ff9ab00ca4ff4da8aa5ec970267736a5",
            "5e441f19b7dc46fcb1c017e9fa445a45",
            "f3b833534da14725b504909329eb7ee4",
            "b05798672172448a9e045a85554cfe1f",
            "76926421b87d487da83aad472104d4c5",
            "6edeb1cd2ca94a83b736b9f453195226",
            "06805a799f6445658b8ad5979a6f0fd5",
            "4e8ba4b09578470cbb7595e9f4cc86c8",
            "3fef890c3c9f412baa31d0f894bf33fd",
            "0d0c9ca1cc994fc7b6c71d71e3be1fef",
            "bf0af3e3f2df49299691eb8fd7001af8",
            "49292b0afc944ea5ac8a9012c7949691",
            "d5dfcb6ae46446aaa56fdd1931b72b01",
            "f1ea065825fa4b3fafe691e7e63a361b",
            "5546b4e65e6c48bd9a793e653ad49fb2",
            "236042f4214144e2bb5329fba56501d2",
            "c2d0984d2c26434290dd86e611528d7e",
            "3b3fef6996f1465ca451a0e65f7193f9",
            "deae2a6998ce4959aa72128d9172b250",
            "424d61e6da614e33b3b52f62b2ae81ae",
            "0af765ec42344c3eb359105a8fdbd5db",
            "9711a6c0c2524d52ba9bcbfaaf8abec5",
            "9f8b487607c7416c9a7c8a7908be8f17",
            "0b7a9cdc2d004ec4b419b571667efcaf",
            "5d8fa8f173b542fb82182b33796ce7d9",
            "76d89dcd8f944fc3961c4ae102c0cd46",
            "da2404080d8d4a89af05cd5de33cc3b7",
            "d7205c574dc5423e9fc11187c598fd37",
            "7eb194a2aff84bdf9ae7b1ab52f3a749",
            "039d0653b8e746e0a932e1fe09bf657d",
            "202f1355108e43c6a1e01c119070085a",
            "6d1a93efd0014b4e8ac166ea21a56856",
            "61963c730dd740d7ae61a7d7dc7a0ecf",
            "45fe84448d6e46418622a6ecfb6acab0",
            "7538e66e5cee436a8fbe13623d71762d",
            "7985feb6156440c8919dcddfe5329b53",
            "85431baa38594dddb4be4e3b42e02be7",
            "6e5ab7de38a04f3eb5d40a16be709ea6",
            "b26cba3a812f4e0ba55f73bf8479935b",
            "a63d125bbe6e4cf2ab6690dbc2ce7caf",
            "422c96ca2dcf44388a3faaa8418dedae",
            "c45e65c6c1264cd4af5a8822b2c0d14d",
            "a94b9eff3f274a95a234a463e85652ce",
            "6069ffb20d214a69b730bd41e3a62aef",
            "b669aa4321074d45be022c0b7c0ae82b",
            "991f4fbe7cd949e8825f8c170ebab566",
            "2d3c83f47b7e4dccaee3247208c375c8",
            "9b5ccf323f574ccc94bdc3e23b50ac13",
            "4049e2e54883484a9f1a3ff26f2aca6b",
            "047f819d39824f199b1b4cd65baf0ec8",
            "7e597d81d4eb4090964cbb10cfae8afc",
            "a4359951c3304dbeadaf2156688527f4",
            "db7d2c01a60c4e55b2e7d52a244a417d",
            "8612cfa9574c4cb6b37e1fea97b27557",
            "60744b9dfab34f1ca77af5aa3e6b849f",
            "96a47c1120a24c55bd14281a9f7809a1",
            "1f83dbf7cd234a53b6c0847784583b36",
            "57520d20868043ccbcf20dd9ca73221d",
            "3e0a8f1ade184ec2b908fe7f7490cb54",
            "6750f5cc7fb14725a24372c5aa4d5879",
            "bc67e8bbbf9347859f9e08a5e637b445",
            "ddf4557bf4974b15b0a043e15113cb8f",
            "1e50b41390d64ae585f146c649cdde18",
            "419bcdc564c24206b1114160e75b4b22",
            "ae8bce771a924c3597523cbf966ec2c0",
            "67b9b6f744f94fa2a0503f933343418d",
            "c77aabc2d34a4c0e893660af37a9bc08",
            "ac48c2e2aed34e908b3bfb9f7380b534",
            "c7b6bc58010941cc9cebca3f537ddf4c",
            "092519ef04754814a97490f6f3a46b6f",
            "11aa84136a1c47ba9766dfef76a2c882",
            "a6e0111eea554c66a6c855d533225458",
            "add0a28a78cb44e0a83784e866f96dcf",
            "120e719150344ee0b4ec3b431c4d343b",
            "46bfd36e025b4febb67894721d93d7f5",
            "f8c4bdada38a4983ae6881285f1ce98f",
            "c3122403030741b58e1f57e2dcb925ad",
            "874e57466c024bdfb0d8cdba549011a2",
            "171a1aa99f074000a36ea41f59c0fff2",
            "cbc72d7722744aa08beb5581853c56df",
            "6b3ba4ac5efb4917875e954b3cbd4686",
            "a56625143373479ea3c9d735740e7ccf",
            "a6e43f4da60e4c6eb57a6c8d5ce3e100",
            "227130c668f948339b4e6efe57714cc6",
            "4911168aa72e4a8eb11329a0293f1282",
            "da9d58bc19284a53abda02cd48b60b59",
            "6a71aefbc7f24047b84ede33130b66df",
            "08774a5671984dc883edafe05d0aa8d3",
            "c7d944eeb11448f98ef0cb88a0274a3f",
            "93767fae3b49432fb04827401a38c1f5",
            "5709532c9ca14b608f410fb60d3565f0",
            "94f00997af87430f8c8a52833ea2839b",
            "c85589e33c2a4af3b28ca780d888f6da",
            "6edabb9e1b6f498698ee83702e1147a7",
            "cf80ec12fc2c46bd8b705aca56d20d82",
            "0ba26b4fde264560bf21864eff6f97a7",
            "607c7dc589c7451a9ea96c83c1f5dd30",
            "dc420888668946d98fce254b74d7b76f",
            "fca78da097994a409d61c00ebdcd5699",
            "98481d59ac374663b94bd20913a0fb8c",
            "39cb5f543fd346ff9f5e99a841b9ad89",
            "ab82f6fde9f043d294088ca4a11e52f3",
            "9a4a4f88e52c4c439ffd1c82e3b0a013",
            "58dda7475bd54cccb76624cb89c0c9b1",
            "0ad901d02ad548a2bf658b9c5fe07d0d",
            "2c483ac3691341f09efc5ea1d92d4fbd",
            "4febd6caca4449dea419d783e9b08b0b",
            "47f96b57374f4854b954b189839ba0de",
            "796e9786fbf44800b81f21ab547287ed",
            "0f65e59fbb44406dbbe9f043f80effa2",
            "009da8119f864ed08e52bc17223ea813",
            "01d8a9323da540e48543c0caffe7d30d",
            "963e045081c94c4ea1e82e77d98eb77b",
            "fd8194658f9b4fc7ba2a7036324a69e7",
            "3bf4adc50c23439ab5cbc00bcc2fcdf9",
            "c27c5b906a154ba89644349bc792de59",
            "41a080a0f4084c9fb7d7958ed9db8f1f",
            "a8481da430ba49e2b84a20307185a54c",
            "436826f37be3493a8087ec9164487acf",
            "4a7df4db3be94896a75327b8d7b75d8d",
            "e6cdd9ac46cc4c6ab430255bbb0b6526",
            "1bca99971af04b9381b18c0d8510ad9a",
            "515aaeb121de4932872e33303746e645",
            "783227fb7ec74a5ebc4903e150e4a7e7",
            "72ea5b7338f34060b265732a554d0b54",
            "ff288429a8d84638b4129d74053480d0",
            "73e2fb3f7f9a4928bdc3fa1629057901",
            "293101009a3c46e8b61c0483da264229",
            "d098d3909d834508b9c698c5bede4a8f",
            "96382d8413194e38b33a338cc9c7c41e",
            "37a88d57018348ae88e85b40191a733e"
          ]
        },
        "id": "-9H3HDXdveJz",
        "outputId": "6253e195-0378-4f85-961e-54cbb903b393"
      },
      "execution_count": 62,
      "outputs": [
        {
          "output_type": "stream",
          "name": "stderr",
          "text": [
            "/usr/local/lib/python3.10/dist-packages/huggingface_hub/utils/_token.py:88: UserWarning: \n",
            "The secret `HF_TOKEN` does not exist in your Colab secrets.\n",
            "To authenticate with the Hugging Face Hub, create a token in your settings tab (https://huggingface.co/settings/tokens), set it as secret in your Google Colab and restart your session.\n",
            "You will be able to reuse this secret in all of your notebooks.\n",
            "Please note that authentication is recommended but still optional to access public models or datasets.\n",
            "  warnings.warn(\n"
          ]
        },
        {
          "output_type": "display_data",
          "data": {
            "text/plain": [
              "Fetching 23 files:   0%|          | 0/23 [00:00<?, ?it/s]"
            ],
            "application/vnd.jupyter.widget-view+json": {
              "version_major": 2,
              "version_minor": 0,
              "model_id": "4beb28890cd543de821624a2fc3e0228"
            }
          },
          "metadata": {}
        },
        {
          "output_type": "display_data",
          "data": {
            "text/plain": [
              "1_Pooling/config.json:   0%|          | 0.00/191 [00:00<?, ?B/s]"
            ],
            "application/vnd.jupyter.widget-view+json": {
              "version_major": 2,
              "version_minor": 0,
              "model_id": "a263f10955a24fc4bbcbc8440ebae862"
            }
          },
          "metadata": {}
        },
        {
          "output_type": "display_data",
          "data": {
            "text/plain": [
              "config.json:   0%|          | 0.00/687 [00:00<?, ?B/s]"
            ],
            "application/vnd.jupyter.widget-view+json": {
              "version_major": 2,
              "version_minor": 0,
              "model_id": "8fa69110e35b4ae69b663b892c37e306"
            }
          },
          "metadata": {}
        },
        {
          "output_type": "display_data",
          "data": {
            "text/plain": [
              "colbert_linear.pt:   0%|          | 0.00/2.10M [00:00<?, ?B/s]"
            ],
            "application/vnd.jupyter.widget-view+json": {
              "version_major": 2,
              "version_minor": 0,
              "model_id": "1b7a1f48cd7643439d77c70a3d630519"
            }
          },
          "metadata": {}
        },
        {
          "output_type": "display_data",
          "data": {
            "text/plain": [
              ".gitattributes:   0%|          | 0.00/1.57k [00:00<?, ?B/s]"
            ],
            "application/vnd.jupyter.widget-view+json": {
              "version_major": 2,
              "version_minor": 0,
              "model_id": "189265e6abe848e889ee97ab4b235cab"
            }
          },
          "metadata": {}
        },
        {
          "output_type": "display_data",
          "data": {
            "text/plain": [
              "README.md:   0%|          | 0.00/15.0k [00:00<?, ?B/s]"
            ],
            "application/vnd.jupyter.widget-view+json": {
              "version_major": 2,
              "version_minor": 0,
              "model_id": "ca799181a1184582a991d8f92ce5afed"
            }
          },
          "metadata": {}
        },
        {
          "output_type": "display_data",
          "data": {
            "text/plain": [
              "config_sentence_transformers.json:   0%|          | 0.00/123 [00:00<?, ?B/s]"
            ],
            "application/vnd.jupyter.widget-view+json": {
              "version_major": 2,
              "version_minor": 0,
              "model_id": "59c00f11c5ff47d6aaa99601908d7024"
            }
          },
          "metadata": {}
        },
        {
          "output_type": "display_data",
          "data": {
            "text/plain": [
              "imgs/.DS_Store:   0%|          | 0.00/6.15k [00:00<?, ?B/s]"
            ],
            "application/vnd.jupyter.widget-view+json": {
              "version_major": 2,
              "version_minor": 0,
              "model_id": "1bbebb54644c41cfbccee66f94e9760f"
            }
          },
          "metadata": {}
        },
        {
          "output_type": "display_data",
          "data": {
            "text/plain": [
              "imgs/bm25.jpg:   0%|          | 0.00/69.0k [00:00<?, ?B/s]"
            ],
            "application/vnd.jupyter.widget-view+json": {
              "version_major": 2,
              "version_minor": 0,
              "model_id": "abad31c7c6864d42966ac0ba0b3e43a5"
            }
          },
          "metadata": {}
        },
        {
          "output_type": "display_data",
          "data": {
            "text/plain": [
              "imgs/long.jpg:   0%|          | 0.00/485k [00:00<?, ?B/s]"
            ],
            "application/vnd.jupyter.widget-view+json": {
              "version_major": 2,
              "version_minor": 0,
              "model_id": "a613ef1fd065478983e4bb3f22b8125a"
            }
          },
          "metadata": {}
        },
        {
          "output_type": "display_data",
          "data": {
            "text/plain": [
              "imgs/mkqa.jpg:   0%|          | 0.00/608k [00:00<?, ?B/s]"
            ],
            "application/vnd.jupyter.widget-view+json": {
              "version_major": 2,
              "version_minor": 0,
              "model_id": "1bb2640959994583aab939fbf32ad03f"
            }
          },
          "metadata": {}
        },
        {
          "output_type": "display_data",
          "data": {
            "text/plain": [
              "imgs/others.webp:   0%|          | 0.00/21.0k [00:00<?, ?B/s]"
            ],
            "application/vnd.jupyter.widget-view+json": {
              "version_major": 2,
              "version_minor": 0,
              "model_id": "77a1e4fb9c46401a92072402d7e12d9d"
            }
          },
          "metadata": {}
        },
        {
          "output_type": "display_data",
          "data": {
            "text/plain": [
              "imgs/nqa.jpg:   0%|          | 0.00/158k [00:00<?, ?B/s]"
            ],
            "application/vnd.jupyter.widget-view+json": {
              "version_major": 2,
              "version_minor": 0,
              "model_id": "7e7715a2cf8243a6861650370a5e0c5f"
            }
          },
          "metadata": {}
        },
        {
          "output_type": "display_data",
          "data": {
            "text/plain": [
              "long.jpg:   0%|          | 0.00/127k [00:00<?, ?B/s]"
            ],
            "application/vnd.jupyter.widget-view+json": {
              "version_major": 2,
              "version_minor": 0,
              "model_id": "bf0af3e3f2df49299691eb8fd7001af8"
            }
          },
          "metadata": {}
        },
        {
          "output_type": "display_data",
          "data": {
            "text/plain": [
              "modules.json:   0%|          | 0.00/349 [00:00<?, ?B/s]"
            ],
            "application/vnd.jupyter.widget-view+json": {
              "version_major": 2,
              "version_minor": 0,
              "model_id": "9711a6c0c2524d52ba9bcbfaaf8abec5"
            }
          },
          "metadata": {}
        },
        {
          "output_type": "display_data",
          "data": {
            "text/plain": [
              "imgs/miracl.jpg:   0%|          | 0.00/448k [00:00<?, ?B/s]"
            ],
            "application/vnd.jupyter.widget-view+json": {
              "version_major": 2,
              "version_minor": 0,
              "model_id": "61963c730dd740d7ae61a7d7dc7a0ecf"
            }
          },
          "metadata": {}
        },
        {
          "output_type": "display_data",
          "data": {
            "text/plain": [
              "sentence_bert_config.json:   0%|          | 0.00/54.0 [00:00<?, ?B/s]"
            ],
            "application/vnd.jupyter.widget-view+json": {
              "version_major": 2,
              "version_minor": 0,
              "model_id": "6069ffb20d214a69b730bd41e3a62aef"
            }
          },
          "metadata": {}
        },
        {
          "output_type": "display_data",
          "data": {
            "text/plain": [
              "special_tokens_map.json:   0%|          | 0.00/964 [00:00<?, ?B/s]"
            ],
            "application/vnd.jupyter.widget-view+json": {
              "version_major": 2,
              "version_minor": 0,
              "model_id": "60744b9dfab34f1ca77af5aa3e6b849f"
            }
          },
          "metadata": {}
        },
        {
          "output_type": "display_data",
          "data": {
            "text/plain": [
              "tokenizer.json:   0%|          | 0.00/17.1M [00:00<?, ?B/s]"
            ],
            "application/vnd.jupyter.widget-view+json": {
              "version_major": 2,
              "version_minor": 0,
              "model_id": "67b9b6f744f94fa2a0503f933343418d"
            }
          },
          "metadata": {}
        },
        {
          "output_type": "display_data",
          "data": {
            "text/plain": [
              "tokenizer_config.json:   0%|          | 0.00/1.31k [00:00<?, ?B/s]"
            ],
            "application/vnd.jupyter.widget-view+json": {
              "version_major": 2,
              "version_minor": 0,
              "model_id": "c3122403030741b58e1f57e2dcb925ad"
            }
          },
          "metadata": {}
        },
        {
          "output_type": "display_data",
          "data": {
            "text/plain": [
              "model.safetensors:   0%|          | 0.00/2.27G [00:00<?, ?B/s]"
            ],
            "application/vnd.jupyter.widget-view+json": {
              "version_major": 2,
              "version_minor": 0,
              "model_id": "08774a5671984dc883edafe05d0aa8d3"
            }
          },
          "metadata": {}
        },
        {
          "output_type": "display_data",
          "data": {
            "text/plain": [
              "pytorch_model.bin:   0%|          | 0.00/2.27G [00:00<?, ?B/s]"
            ],
            "application/vnd.jupyter.widget-view+json": {
              "version_major": 2,
              "version_minor": 0,
              "model_id": "fca78da097994a409d61c00ebdcd5699"
            }
          },
          "metadata": {}
        },
        {
          "output_type": "display_data",
          "data": {
            "text/plain": [
              "sentencepiece.bpe.model:   0%|          | 0.00/5.07M [00:00<?, ?B/s]"
            ],
            "application/vnd.jupyter.widget-view+json": {
              "version_major": 2,
              "version_minor": 0,
              "model_id": "0f65e59fbb44406dbbe9f043f80effa2"
            }
          },
          "metadata": {}
        },
        {
          "output_type": "display_data",
          "data": {
            "text/plain": [
              "sparse_linear.pt:   0%|          | 0.00/3.52k [00:00<?, ?B/s]"
            ],
            "application/vnd.jupyter.widget-view+json": {
              "version_major": 2,
              "version_minor": 0,
              "model_id": "e6cdd9ac46cc4c6ab430255bbb0b6526"
            }
          },
          "metadata": {}
        }
      ]
    },
    {
      "cell_type": "code",
      "source": [
        "sword_1 = [\"老师\", \"商品\"]\n",
        "sword_2 = [\"教师\", \"货物\"]"
      ],
      "metadata": {
        "id": "i7qohF0W2tOV"
      },
      "execution_count": 63,
      "outputs": []
    },
    {
      "cell_type": "markdown",
      "source": [
        "## dense"
      ],
      "metadata": {
        "id": "nLY1T4PYmFYb"
      }
    },
    {
      "cell_type": "markdown",
      "source": [
        "### 測試在中文上的效果"
      ],
      "metadata": {
        "id": "qLZMAeGbmUAr"
      }
    },
    {
      "cell_type": "code",
      "source": [
        "embeddings_1 = model.encode(sword_1,\n",
        "                            batch_size=12,\n",
        "                            max_length=8192, # If you don't need such a long length, you can set a smaller value to speed up the encoding process.\n",
        "                            )['dense_vecs']\n",
        "embeddings_2 = model.encode(sword_2)['dense_vecs']\n",
        "similarity = embeddings_1 @ embeddings_2.T\n",
        "print(similarity)"
      ],
      "metadata": {
        "colab": {
          "base_uri": "https://localhost:8080/"
        },
        "id": "rxy0uO_myVqe",
        "outputId": "96657ace-895a-4854-8236-01da2274ef7c"
      },
      "execution_count": 64,
      "outputs": [
        {
          "output_type": "stream",
          "name": "stdout",
          "text": [
            "[[0.8509769  0.5041799 ]\n",
            " [0.464958   0.74887514]]\n"
          ]
        }
      ]
    },
    {
      "cell_type": "markdown",
      "source": [
        "### train test data embedding"
      ],
      "metadata": {
        "id": "gxLSpWRBuI_z"
      }
    },
    {
      "cell_type": "code",
      "source": [
        "train_embeddings = model.encode(tokenized_train_summaries, max_length=1500)['dense_vecs']"
      ],
      "metadata": {
        "id": "0H-6GooNssZ8",
        "colab": {
          "base_uri": "https://localhost:8080/"
        },
        "outputId": "9b4b067b-6f53-4fe9-fb6a-d2502f15a133"
      },
      "execution_count": null,
      "outputs": [
        {
          "metadata": {
            "tags": null
          },
          "name": "stderr",
          "output_type": "stream",
          "text": [
            "Inference Embeddings:  81%|████████  | 34/42 [1:20:17<19:33, 146.66s/it]"
          ]
        }
      ]
    },
    {
      "cell_type": "code",
      "source": [
        "test_embeddings = model.encode(tokenized_test_summaries, max_length=1500)['dense_vecs']"
      ],
      "metadata": {
        "id": "LBqEudP7wClT"
      },
      "execution_count": null,
      "outputs": []
    },
    {
      "cell_type": "code",
      "source": [
        "import numpy as np\n",
        "np.savetxt('/content/drive/MyDrive/senior/LAB/LawCaseRetreiver/sentence_predict/summary/train_embeddings.txt', train_embeddings)\n",
        "np.savetxt('/content/drive/MyDrive/senior/LAB/LawCaseRetreiver/sentence_predict/summary/test_embeddings.txt', test_embeddings)"
      ],
      "metadata": {
        "id": "hXEJpFhjT78_"
      },
      "execution_count": null,
      "outputs": []
    },
    {
      "cell_type": "code",
      "source": [
        "# loaded_train_embeddings = np.loadtxt('train_embeddings.txt')"
      ],
      "metadata": {
        "id": "lJgaKDBJUVOr"
      },
      "execution_count": null,
      "outputs": []
    },
    {
      "cell_type": "code",
      "source": [
        "type(train_embeddings)"
      ],
      "metadata": {
        "id": "jWssyR6JC5SE",
        "outputId": "072d5370-5fb2-4cb1-bc0a-eaf16b19fb2d",
        "colab": {
          "base_uri": "https://localhost:8080/"
        }
      },
      "execution_count": 107,
      "outputs": [
        {
          "output_type": "execute_result",
          "data": {
            "text/plain": [
              "numpy.ndarray"
            ]
          },
          "metadata": {},
          "execution_count": 107
        }
      ]
    },
    {
      "cell_type": "code",
      "source": [
        "train_embeddings"
      ],
      "metadata": {
        "id": "g-qLnr2oEwmq",
        "outputId": "3e4ff7bc-df59-4b2d-fcfb-16d3d3403cbe",
        "colab": {
          "base_uri": "https://localhost:8080/"
        }
      },
      "execution_count": 128,
      "outputs": [
        {
          "output_type": "execute_result",
          "data": {
            "text/plain": [
              "array([[-0.03034765,  0.02622485, -0.01174086, ..., -0.01362408,\n",
              "        -0.04923247, -0.0444256 ],\n",
              "       [-0.02140026,  0.0173902 , -0.06489349, ..., -0.00908999,\n",
              "        -0.02669849,  0.02307938],\n",
              "       [-0.01579434,  0.04073653, -0.02186119, ..., -0.02366436,\n",
              "        -0.0657978 , -0.05442155],\n",
              "       ...,\n",
              "       [-0.05367578,  0.01930024, -0.00059708, ...,  0.015949  ,\n",
              "        -0.05102739,  0.01105056],\n",
              "       [-0.01177966,  0.02777622, -0.02606803, ..., -0.01549191,\n",
              "        -0.04460454, -0.01327729],\n",
              "       [-0.0269404 ,  0.02274233, -0.03002858, ...,  0.02050726,\n",
              "        -0.04272795,  0.0081914 ]], dtype=float32)"
            ]
          },
          "metadata": {},
          "execution_count": 128
        }
      ]
    },
    {
      "cell_type": "markdown",
      "source": [
        "### 初始化KNN模型，指定使用Cosine Similarity計算距離"
      ],
      "metadata": {
        "id": "BaDddnUHuOqy"
      }
    },
    {
      "cell_type": "code",
      "source": [
        "from sklearn.neighbors import NearestNeighbors"
      ],
      "metadata": {
        "id": "qWdm1Pdstv7Z"
      },
      "execution_count": 71,
      "outputs": []
    },
    {
      "cell_type": "code",
      "source": [
        "k = 5\n",
        "knn_model_SBERT = NearestNeighbors(n_neighbors=k, metric='cosine')\n",
        "knn_model_SBERT.fit(train_embeddings)"
      ],
      "metadata": {
        "id": "IJYMUBXqt-Mi",
        "colab": {
          "base_uri": "https://localhost:8080/",
          "height": 75
        },
        "outputId": "9b99c13c-913f-49cb-8ec2-57ffdd340d5a"
      },
      "execution_count": 85,
      "outputs": [
        {
          "output_type": "execute_result",
          "data": {
            "text/plain": [
              "NearestNeighbors(metric='cosine')"
            ],
            "text/html": [
              "<style>#sk-container-id-2 {color: black;background-color: white;}#sk-container-id-2 pre{padding: 0;}#sk-container-id-2 div.sk-toggleable {background-color: white;}#sk-container-id-2 label.sk-toggleable__label {cursor: pointer;display: block;width: 100%;margin-bottom: 0;padding: 0.3em;box-sizing: border-box;text-align: center;}#sk-container-id-2 label.sk-toggleable__label-arrow:before {content: \"▸\";float: left;margin-right: 0.25em;color: #696969;}#sk-container-id-2 label.sk-toggleable__label-arrow:hover:before {color: black;}#sk-container-id-2 div.sk-estimator:hover label.sk-toggleable__label-arrow:before {color: black;}#sk-container-id-2 div.sk-toggleable__content {max-height: 0;max-width: 0;overflow: hidden;text-align: left;background-color: #f0f8ff;}#sk-container-id-2 div.sk-toggleable__content pre {margin: 0.2em;color: black;border-radius: 0.25em;background-color: #f0f8ff;}#sk-container-id-2 input.sk-toggleable__control:checked~div.sk-toggleable__content {max-height: 200px;max-width: 100%;overflow: auto;}#sk-container-id-2 input.sk-toggleable__control:checked~label.sk-toggleable__label-arrow:before {content: \"▾\";}#sk-container-id-2 div.sk-estimator input.sk-toggleable__control:checked~label.sk-toggleable__label {background-color: #d4ebff;}#sk-container-id-2 div.sk-label input.sk-toggleable__control:checked~label.sk-toggleable__label {background-color: #d4ebff;}#sk-container-id-2 input.sk-hidden--visually {border: 0;clip: rect(1px 1px 1px 1px);clip: rect(1px, 1px, 1px, 1px);height: 1px;margin: -1px;overflow: hidden;padding: 0;position: absolute;width: 1px;}#sk-container-id-2 div.sk-estimator {font-family: monospace;background-color: #f0f8ff;border: 1px dotted black;border-radius: 0.25em;box-sizing: border-box;margin-bottom: 0.5em;}#sk-container-id-2 div.sk-estimator:hover {background-color: #d4ebff;}#sk-container-id-2 div.sk-parallel-item::after {content: \"\";width: 100%;border-bottom: 1px solid gray;flex-grow: 1;}#sk-container-id-2 div.sk-label:hover label.sk-toggleable__label {background-color: #d4ebff;}#sk-container-id-2 div.sk-serial::before {content: \"\";position: absolute;border-left: 1px solid gray;box-sizing: border-box;top: 0;bottom: 0;left: 50%;z-index: 0;}#sk-container-id-2 div.sk-serial {display: flex;flex-direction: column;align-items: center;background-color: white;padding-right: 0.2em;padding-left: 0.2em;position: relative;}#sk-container-id-2 div.sk-item {position: relative;z-index: 1;}#sk-container-id-2 div.sk-parallel {display: flex;align-items: stretch;justify-content: center;background-color: white;position: relative;}#sk-container-id-2 div.sk-item::before, #sk-container-id-2 div.sk-parallel-item::before {content: \"\";position: absolute;border-left: 1px solid gray;box-sizing: border-box;top: 0;bottom: 0;left: 50%;z-index: -1;}#sk-container-id-2 div.sk-parallel-item {display: flex;flex-direction: column;z-index: 1;position: relative;background-color: white;}#sk-container-id-2 div.sk-parallel-item:first-child::after {align-self: flex-end;width: 50%;}#sk-container-id-2 div.sk-parallel-item:last-child::after {align-self: flex-start;width: 50%;}#sk-container-id-2 div.sk-parallel-item:only-child::after {width: 0;}#sk-container-id-2 div.sk-dashed-wrapped {border: 1px dashed gray;margin: 0 0.4em 0.5em 0.4em;box-sizing: border-box;padding-bottom: 0.4em;background-color: white;}#sk-container-id-2 div.sk-label label {font-family: monospace;font-weight: bold;display: inline-block;line-height: 1.2em;}#sk-container-id-2 div.sk-label-container {text-align: center;}#sk-container-id-2 div.sk-container {/* jupyter's `normalize.less` sets `[hidden] { display: none; }` but bootstrap.min.css set `[hidden] { display: none !important; }` so we also need the `!important` here to be able to override the default hidden behavior on the sphinx rendered scikit-learn.org. See: https://github.com/scikit-learn/scikit-learn/issues/21755 */display: inline-block !important;position: relative;}#sk-container-id-2 div.sk-text-repr-fallback {display: none;}</style><div id=\"sk-container-id-2\" class=\"sk-top-container\"><div class=\"sk-text-repr-fallback\"><pre>NearestNeighbors(metric=&#x27;cosine&#x27;)</pre><b>In a Jupyter environment, please rerun this cell to show the HTML representation or trust the notebook. <br />On GitHub, the HTML representation is unable to render, please try loading this page with nbviewer.org.</b></div><div class=\"sk-container\" hidden><div class=\"sk-item\"><div class=\"sk-estimator sk-toggleable\"><input class=\"sk-toggleable__control sk-hidden--visually\" id=\"sk-estimator-id-2\" type=\"checkbox\" checked><label for=\"sk-estimator-id-2\" class=\"sk-toggleable__label sk-toggleable__label-arrow\">NearestNeighbors</label><div class=\"sk-toggleable__content\"><pre>NearestNeighbors(metric=&#x27;cosine&#x27;)</pre></div></div></div></div></div>"
            ]
          },
          "metadata": {},
          "execution_count": 85
        }
      ]
    },
    {
      "cell_type": "code",
      "source": [
        "import pickle\n",
        "\n",
        "# 將模型保存到文件\n",
        "with open('/content/drive/MyDrive/senior/LAB/LawCaseRetreiver/sentence_predict/knn_model_SBERT.pkl', 'wb') as f:\n",
        "    pickle.dump(knn_model_SBERT, f)\n",
        "\n",
        "# 從文件加載模型\n",
        "with open('/content/drive/MyDrive/senior/LAB/LawCaseRetreiver/sentence_predict/knn_model_SBERT.pkl', 'rb') as f:\n",
        "    knn_model_SBERT_loaded = pickle.load(f)"
      ],
      "metadata": {
        "id": "myC_5utZUyeL"
      },
      "execution_count": 86,
      "outputs": []
    },
    {
      "cell_type": "markdown",
      "source": [
        "### 以第一篇test fact進行測試"
      ],
      "metadata": {
        "id": "f6pOE2hEusRC"
      }
    },
    {
      "cell_type": "code",
      "source": [
        "distances, indices = knn_model_SBERT_loaded.kneighbors(test_embeddings[0].reshape(1, -1))"
      ],
      "metadata": {
        "id": "Hh6QRA0QuqC7"
      },
      "execution_count": 87,
      "outputs": []
    },
    {
      "cell_type": "code",
      "source": [
        "indices"
      ],
      "metadata": {
        "id": "AECkeI7qwi-g",
        "colab": {
          "base_uri": "https://localhost:8080/"
        },
        "outputId": "a6689cc1-93c8-425b-b909-81fbf1204b30"
      },
      "execution_count": 88,
      "outputs": [
        {
          "output_type": "execute_result",
          "data": {
            "text/plain": [
              "array([[415,  47, 114, 250, 137]])"
            ]
          },
          "metadata": {},
          "execution_count": 88
        }
      ]
    },
    {
      "cell_type": "code",
      "source": [
        "distances"
      ],
      "metadata": {
        "id": "a7QaNZzFwn-C",
        "colab": {
          "base_uri": "https://localhost:8080/"
        },
        "outputId": "8f177237-c165-43f2-929c-ba4e4b940902"
      },
      "execution_count": 89,
      "outputs": [
        {
          "output_type": "execute_result",
          "data": {
            "text/plain": [
              "array([[0.22361922, 0.26161647, 0.27732217, 0.28204942, 0.2864439 ]],\n",
              "      dtype=float32)"
            ]
          },
          "metadata": {},
          "execution_count": 89
        }
      ]
    },
    {
      "cell_type": "code",
      "source": [
        "test_facts[0]"
      ],
      "metadata": {
        "id": "PhZb176t8sCA",
        "colab": {
          "base_uri": "https://localhost:8080/",
          "height": 214
        },
        "outputId": "fa8d30d4-d6ea-458a-92c1-dd267bdb8def"
      },
      "execution_count": 90,
      "outputs": [
        {
          "output_type": "execute_result",
          "data": {
            "text/plain": [
              "'○、緣徐鴻光（所涉行使偽造私文書犯行，業經本院以95年度訴字第955號判決處有期徒刑3月、緩刑3年確定）因需款使用，知悉穆立明有借款管道，為求順利借款，2人竟共同意圖為自己不法所有，基於行使偽造私文書及詐欺取財之犯意聯絡，知悉車牌號碼00-000號營業小客車係徐鴻光向志朗交通有限公司（下稱志朗公司）租賃之車輛，竟由穆立明先於不詳時間、不詳地點，偽刻「志朗交通有限公司」及負責人「陳健志」印章（正確姓名為陳建志，誤刻為「陳健志」）各1枚，並偽造「陳健志」代表志朗公司與徐鴻光簽署之「臺北市計程車客運駕駛人自備車輛參與經營契約書」（下稱本案參與經營契約書），虛偽記載徐鴻光提供上述營業小客車靠行志朗公司營業等不實內容，並持上開偽刻印章，偽造「志朗交通有限公司」印文4枚、「陳健志」印文6枚於本案參與經營契約書上，再於92年3月6日交徐鴻光於立約人乙方欄簽名，2人復於同日協同不知情之徐鴻光配偶徐樂仁（所涉行使偽造私文書犯行，業經本院以95年度訴字第955號判決無罪確定），前往臺北市○○區○○街00巷0號2樓王傑生所經營之宏帝當舖（現更名為渣打當舖），由徐鴻光、穆立明交付偽造本案參與經營契約書向宏帝當鋪借款新臺幣（下同）10萬元以為行使，並約定由徐樂仁擔任連帶保證人，王傑生誤信上開車輛為徐鴻光所有而陷入錯誤，於扣除利息後交付9萬1千元借款予徐鴻光夫婦，足以生損害於志朗公司、陳建志、王傑生。嗣因徐鴻光僅清償每期7千元之分期款共11期計7萬7千元，未全額清償即無力負擔債務，王傑生始查知上開車輛非徐鴻光所有，而悉上情。二、案經王傑生訴由臺灣士林地方法院檢察署檢察官偵查起訴。理由○、證據能力部分：被告以外之人於審判外之言詞或書面陳述，除法律有規定者外，不得作為證據；又被告以外之人於審判外之陳述，雖不符合同法第159條之1至第159條之4之規定，但經當事人於審判程序同意作為證據，法院審酌該言詞陳述或書面陳述作成時之情況，認為適當者，亦得為證據。刑事訴訟法第159條第1項及第159條之5第1項分別定有明文。經查，本判決所引用之各該被告以外之人於審判外之陳述，雖屬傳聞證據，然當事人於本院審判期日中均表示同意作為證據方法而不予爭執，且迄至言詞辯論終結前亦未再聲明異議（見本院卷第68頁至第68頁背面），本院審酌上開證據資料製作時之情況，尚無違法不當及證明力明顯過低之瑕疵，亦認為以之作為證據應屬適當，故揆諸前開規定，爰依刑事訴訟法第159條之5規定，認前揭證據資料均有證據能力。二、認定犯罪事實所憑之證據及理由：（一）訊據被告穆立明固坦承有於92年3月6日帶共同被告徐鴻光、徐樂仁至宏帝當鋪借錢，惟矢口否認有何行使偽造私文書及詐欺取財之犯行，辯稱：本案參與經營契約書係由共同被告徐鴻光所提出，徐鴻光知道我在宏帝當舖當業務員，他因資金不夠，要伊帶至宏帝當鋪借錢，伊請徐鴻光帶身分證、本案參與經營契約書，證明計程車係屬於徐鴻光所有，另外要帶一位保人云云。（二）經查，證人即志英交通公司負責人陳建志於檢察官偵查中結證稱：本案參與經營契約書上之「志朗交通有限公司」、「陳健志」之印文均非我公司的大小章，志朗交通公司也是我的公司，我是負責人，但這個章不是我的，被告徐鴻光只是加入無線電台等語（見94年度偵字第8715號卷第45頁），復有其提出真正之志朗交通有限公司及其本人陳建志之印文各4枚在卷可稽（見94年度偵字第8715號卷第48頁），經核卷附本案參與經營契約書上所示之「志朗交通有限公司」、「陳健志」印文（見95年度偵緝字第60號卷第53頁），除二者字體明顯不同外，本案參與經營契約書中「陳健志」名字中之「健」一字顯係錯別字，堪認本案參與經營契約書上所示之「志朗交通有限公司」、「陳健志」印文確屬偽造一節，應可認定。（三）證人即告訴人王傑生於檢察官偵查中證稱：我經營宏帝當鋪，後改名為渣打當鋪，地址在臺北市○○街00巷0號2樓，計程車典當給我們時，我們要看參與經營契約書，被告徐鴻光有來借錢，被告穆立明當時有在場，徐鴻光給我們看本案參與經營契約書，我們就以為車子是徐鴻光的，我們找到車之後才知道車子是車行的，被告穆立明是我們公司抽獎金的業務員，穆立明介紹人來借錢，我給他獎金等語（見94年度偵字第8715號卷第37頁、95年度偵緝字第60號卷第49頁、第68頁），且證人朱庭峰於檢察官偵查中及本院審理時亦結證稱：我是宏帝當鋪的負責人，後來當鋪讓給王傑生，被告徐鴻光到宏帝當鋪借款10萬元，係由我接洽，當時是被告穆立明介紹，穆立明不是公司職員，他會介紹車子到我們公司來典當，我會給穆立明佣金，即我收到1,000元利息，就給他100元，本案參與經營契約書是由穆立明拿出來等語（見95年度偵緝字第60號卷第68頁至第69頁、95年度訴字第955號卷第66頁至第67頁），復有本案參與經營契約書、本票影本各1份附卷可憑（見94年度偵字第8715號卷第14頁至第17頁），足認共同被告徐鴻光係經被告穆立明介紹，持本案參與經營契約書於上開時間前往宏帝當鋪借款10萬元，且被告穆立明於借款時在場之事實，洵堪認定。（四）被告穆立明雖辯稱：本案參與經營契約書係共同被告徐鴻光所提出，伊僅有將徐鴻光帶去當鋪，就由當舖的人接洽云云，惟查，證人即共同被告徐鴻光於本院審理時證稱：因為我當司機收入不高，家裡有需要用錢，被告穆立明說有辦法借錢，我請被告穆立明帶我去借款，被告穆立明有帶我去當鋪，我太太徐樂仁當時有一起陪同，卷附之本票影本係我當時在當鋪簽立，而本案參與經營契約書係被告穆立明幫我準備好的，經我在當舖蓋我的章及簽名，被告穆立明拿給我時契約書已經寫好資料，至於被告穆立明提出本案參與經營契約書之來源我不知道，被告穆立明只有要我帶駕照、行照、身分證及私章，車號00-000號營業用小客車是我用租的車子，車子是志朗公司的車子，本案參與經營契約書內容不是真的，車子不是我自備的，只有契約書末頁乙方的簽名是我簽的等語（見本院卷第64頁至第66頁背面），核與其在檢察官偵查中證稱：被告穆立明有帶我去宏帝當鋪向朱先生借錢，我借10萬元，本案參與經營契約書係被告穆立明幫我準備好的，前面的簽名及資料是被告穆立明簽的，只有最後的簽名是我簽的等語大致相符（見95年度偵緝字第60號卷第48頁至第49頁），再查，參以被告穆立明於本院審理時當庭書寫徐鴻光名字之字跡經與本案參與經營契約書立契約書人一欄所簽署「徐鴻光」之筆跡比對後（見本院卷第73頁），依肉眼觀之，不論字跡之運筆、筆勾等字體外觀，均較為吻合，反觀該契約書頁末之乙方「徐鴻光」之筆跡，與頁首立契約書人一欄所簽署「徐鴻光」之筆跡之運筆及筆勾，字跡明顯不同，是被告穆立明辯稱本案參與經營契約書係由共同被告徐鴻光提出云云，已難採信；又證人徐鴻光於本院審理時證稱：我曾經用上開車輛向別的當鋪借錢，當時別的當鋪說車子用租的也可以借，只要押行照在那裡即可，不需要像本件一樣的契約，本件是我去當鋪，他們說該簽名的地方，我就簽名，且是我透過別的司機得知被告穆立明可以幫我問問哪裡可以借錢，所以才找被告穆立明等語（見本院卷第65頁背面至第66頁背面），衡以證人徐鴻光涉犯本案犯行業經本院認定有罪確定，自應無虛偽陳述之動機，且被告穆立明自承與證人徐鴻光無糾紛，同為排班計程車司機，為點頭之交乙情，亦認證人徐鴻光無涉詞誣陷被告穆立明之可能；再參以證人王傑生、朱庭峰皆證述本案參與經營契約書係由被告穆立明提出一節，又被告並不否認宏帝當舖僅同意典當個人所有靠行之車輛，不同意典當向車行租的車輛等情，而本件共同被告徐鴻光既有提供行照予被告穆立明，業經其證述如前，則自行照之記載內容即可知悉上開車輛所有人為何人，被告穆立明豈有不知上開車輛所有人為何人之理，況被告穆立明供認介紹共同被告徐鴻光予宏帝當鋪借錢有利息百分之十之報酬等語（見本院卷第69頁背面），其當有可能為促成徐鴻光與宏帝當鋪借款，而提出本案經營契約書供作本件借款之用，是被告穆立明辯稱車子是徐鴻光說其自己所有，本案參與經營契約書係徐鴻光自行提出云云，顯係事後卸責之詞，不足採信。（五）綜上所述，被告上開所辯各節，無非事後避重就輕、圖卸之詞，不足採信，被告行使偽造私文書及詐欺取財等犯行，事證明確，應依法論科。三、論罪科刑部分：（一）按被告行為後，94年2月2日修正公布之刑法已於95年7月1日生效施行，其中第2條第1項「行為後法律有變更者，適用行為時之法律。但行為後之法律有利於行為人者，適用最有利於行為人之法律」之規定，係規範行為後法律變更所生新、舊法律比較適用之準據法，並非刑法實體法律，自不生行為後法律變更之比較適用問題，故刑法修正施行後，應適用該修正後之第2條第1項之規定，依「從舊、從輕」之原則比較新、舊法律之適用；又比較新舊法時，應就罪刑有關之共犯、未遂犯、想像競合犯、牽連犯、連續犯、結合犯，以及累犯加重、自首減輕暨其他法定加減原因（如身分加減）與加減例等一切情形，綜其全部罪刑之結果而為比較後，再適用有利於行為人之法律處斷，而不得一部割裂分別適用不同之新、舊法（最高法院24年上字第4634號、29年上字第964號判例意旨及最高法院95年度第8次刑事庭會議決議參照）。經查：1.刑法第33條第5款關於罰金刑之規定業於94年2月2日修正，於95年7月1日生效，修正前刑法第33條第5款規定：「罰金：1元（銀元）以上。」，並依現行法規所定貨幣單位折算新臺幣條例規定，以銀元1元折算新臺幣3元，故修正前刑法規定罰金之最低數額為新臺幣3元；修正後刑法第33條第5款規定：「罰金：新臺幣1,000元以上，以百元計算之。」，故修正後刑法規定罰金之最低數額提高為新臺幣1,000元；比較上開罰金刑之最高數額，於修正後並無不同，惟修正後刑法第33條第5款所定罰金刑最低數額，既較修正前提高，依前開說明，應適用對被告有利之修正前刑法第33條第5款之規定。2.修正前刑法第28條規定：「二人以上共同實施犯罪之行為者，皆為正犯。」，修正後該條規定為：「二人以上共同實行犯罪之行為者，皆為正犯。」，揆諸本條之修正理由，係為釐清陰謀共同正犯、預備共同正犯、共謀共同正犯是否合乎本條之正犯要件，並將陰謀共同正犯、預備共同正犯剔除於本條適用之外，以符合近代刑法之個人責任原則、法治國人權保障思想及犯罪支配理論，自屬行為後法律有變更，而非僅屬文字修正，應有新舊法比較適用問題（最高法院97年度台上字第37號判決意旨參照）。本件被告穆立明與徐鴻光就前揭行使偽造私文書及詐欺取財犯行各具有犯意聯絡及行為分擔，不論依修正前或修正後之規定，均屬共同正犯，對被告並無有利或不利之情形，應適用行為時之法律。3.被告行為後新法業已刪除牽連犯之規定，依舊法成立方法、結果行為而僅論以一罪者，依新法將論以數罪，比較新、舊法結果，自以修正前刑法第55條牽連犯之規定，較有利於被告。4.綜此，本院經綜合上述各條文修正前、後之比較，參照前揭最高法院決議及修正後刑法第2條第1項前段、後段規定之「從舊、從輕」原則，被告穆立明上開犯行自應適用行為時之法律，予以論處。（二）核被告穆立明所為，係犯刑法第216條、第210條之行使偽造私文書罪、同法第339條第1項詐欺取財罪。被告穆立明於本案參與經營契約書上偽造「志朗交通有限公司」、「陳健志」印章及印文乃偽造私文書之部分行為，其偽造本案參與經營契約書後持以行使，偽造之低度行為復為行使之高度行為所吸收，均不另論罪。被告穆立明與徐鴻光就行使偽造私文書及詐欺之犯行有犯意聯絡及行為分擔，為共同正犯。又其等行使偽造私文書之目的，在詐取告訴人之金錢，所犯連續行使偽造私文書與詐欺取財2罪間，有方法、目的之牽連關係，應依修正前刑法第55條規定，從一較重之行使偽造私文書罪處斷。（三）爰審酌被告穆立明不思以正當途徑賺取錢財，竟偽造志朗公司及其負責人陳建志之印章，進而偽造本案參與經營契約書，而詐取告訴人之金錢，足生損害於志朗公司、陳建志、告訴人，並危害社會交易秩序，所為實有不該，犯後否認犯行，未見悔悟之心，兼衡被告穆立明有違反票據法之前科，有臺灣高等法院被告前案紀錄表在卷可稽（見本院卷第60頁），素行尚可，共同被告徐鴻光於詐得借款後已陸續返還利息予告訴人與朱庭峰，及被告穆立明為高中肄業之智識程度，經濟狀況為小康之生活狀況等一切情狀（見被告警詢筆錄受詢問人欄，本院卷第6頁），量處如主文所示之刑，以資懲儆。又關於易科罰金之折算標準，修正前刑法第41條第1項前段規定：「犯最重本刑為5年以下有期徒刑以下之刑之罪，而受6個月以下有期徒刑或拘役之宣告，因身體、教育、職業、家庭之關係或其他正當事由，執行顯有困難者，得以1元以上3元以下折算1日，易科罰金。」，再依據修正前罰金罰鍰提高標準條例第2條：「依刑法第41條易科罰金或第42條第2項易服勞役者，均就其原定數額提高為1百倍折算1日；法律所定罰金數額未依本條例提高倍數，或其處罰法條無罰金刑之規定者，亦同。」之規定，被告行為時之易科罰金折算標準，應以銀元1百元以上3百元以下折算1日，經折算為新臺幣後，應以新臺幣3百元以上9百元以下折算1日。惟95年7月1日施行之刑法第41條第1項前段規定修正為：「犯最重本刑為5年以下有期徒刑以下之刑之罪，而受6個月以下有期徒刑或拘役之宣告者，得以新臺幣1千元、2千元或3千元折算一日，易科罰金。」，另95年7月1日生效施行之罰金罰鍰提高標準條例則刪除原本第2條之規定。是以比較新舊法結果，自以舊法所定之易科罰金折算標準有利於被告，故應依修正前刑法第41條第1項前段、修正前罰金罰鍰提高標準條例第2條規定，就所宣告之刑部分諭知易科罰金之折算標準。（四）偽造之「臺北市計程車客運駕駛人自備車輛參與經營契約書」原本1份固經共同被告徐鴻光於借款時行使交付予宏帝當鋪，業如前述，惟此僅係共同被告徐鴻光為借得款項，而將本案參與經營契約書交付當鋪作為擔保使用，其所有權仍為共同被告徐鴻光所有，不因行使而移轉為宏帝當鋪所有，又該偽造之契約既係供本件犯行所用，爰依刑法第38條第1項第2款規定宣告沒收。又契約上偽造之「志朗交通有限公司」印文4枚、「陳健志」之印文6枚固係偽造之印文，已因該契約之沒收而包括在內，無再重複諭知沒收之必要。另告訴人為提起本件告訴，而複印本案參與經營契約書資為證據（見94年度偵字第8715號卷第15至第17頁），因認僅係作為本案訴訟使用，而非被告穆立明、共同被告徐鴻光供本件犯行所用之物，就複印之契約書上之「志朗交通有限公司」印文4枚、「陳健志」之印文6枚，爰不予宣告沒收。至被告穆立明偽刻之「志朗交通有限公司」、「陳健志」印章各1枚，係偽造之印章，且無證據證明業已滅失，應依刑法第219條宣告沒收。（五）再按本條例施行前，經通緝而未於中華民國96年12月31日以前自動歸案接受偵查、審判或執行者，不得依本條例減刑，中華民國九十六年罪犯減刑條例第5條定有明文。查本件被告穆立明所為前開犯行之犯罪時間固係在96年4月24日以前，但其曾於中華民國九十六年罪犯減刑條例施行（96年7月16日施行）前之95年12月21日因本案經本院以95年士院刑玄緝字第463號通緝書發佈通緝，於102年9月1日甫緝獲歸案等情，此有前開通緝書、歸案證明書、本院102年士院刑玄銷字第289號撤銷通緝書各1份存卷可參（95年度訴字第955號卷第43頁、本院卷第26頁、第43頁），從而，依前開規定，本案被告無從依中華民國九十六年罪犯減刑條例之規定減刑，併此敘明。據上論斷，應依刑事訴訟法第299條第1項前段，刑法第2條1項前段、第28條、第216條、第210條、第339條第1項、第219條、第38條第1項第2款、修正前刑法第55條、第41條第1項前段，刑法施行法第1條之1第1項，修正前罰金罰鍰提高標準條例第2條，現行法規所定貨幣單位折算新臺幣條例第2條，判決如主文。本案經檢察官黃仙宜到庭執行職務。中華民國102年12月3日刑事第七庭審判長法官雷雯華法官陳介安法官蔡子琪以上正本證明與原本無異。如不服本判決應於收受送達後10日內向本院提出上訴書狀，並應敘述具體理由。其未敘述上訴理由者，應於上訴期間屆滿後20日內向本院補提理由書（均須按他造當事人之人數附繕本）「切勿逕送上級法院」。書記官李宜蓁中華民國102年12月5日附錄本案論罪科刑所依據之法條：刑法第216條、第210條、第339條第1項偽造、變造私文書，足以生損害於公眾或他人者，處5年以下有期徒刑。偽造印章、印文或署押，足以生損害於公眾或他人者，處3年以下有期徒刑。盜用印章、印文或署押，足以生損害於公眾或他人者，亦同。意圖為自己或第三人不法之所有，以詐術使人將本人或第三人之物交付者，處5年以下有期徒刑、拘役或科或併科1千元以下罰金。'"
            ],
            "application/vnd.google.colaboratory.intrinsic+json": {
              "type": "string"
            }
          },
          "metadata": {},
          "execution_count": 90
        }
      ]
    },
    {
      "cell_type": "code",
      "source": [
        "test_summaries[0]"
      ],
      "metadata": {
        "colab": {
          "base_uri": "https://localhost:8080/",
          "height": 71
        },
        "id": "LfxG42YpXgxt",
        "outputId": "59979898-c1a8-4a88-beed-04edc7539302"
      },
      "execution_count": 91,
      "outputs": [
        {
          "output_type": "execute_result",
          "data": {
            "text/plain": [
              "'因徐鴻光需款使用，知悉穆立明有借款管道，為求順利借款，2人竟共同意圖為自己不法所有，基於行使偽造私文書及詐欺取財之犯意聯絡，偽造「陳健志」代表志朗公司與徐鴻光簽署的「臺北市計程車客運駕駛人自備車輛參與經營契約書」，並持上開偽刻印章，偽造「志朗交通有限公司」印文4枚、「陳健志」印文6枚於本案參與經營契約書上，再於92年3月6日交徐鴻光於立約人乙方欄簽名。嗣因徐鴻光僅清償每期7千元之分期款共11期計7萬7千元，未全額清償即無力負擔債務，王傑生始查知上開車輛非徐鴻光所有，而悉上情。二、案經王傑生訴由臺灣士林地方法院檢察署檢察官偵查起訴。'"
            ],
            "application/vnd.google.colaboratory.intrinsic+json": {
              "type": "string"
            }
          },
          "metadata": {},
          "execution_count": 91
        }
      ]
    },
    {
      "cell_type": "code",
      "source": [
        "# 打印最相近的五篇文章的索引及距離\n",
        "for i, index in enumerate(indices[0]):\n",
        "    print(\"Article Index:\", index, \"Distance:\", distances[0][i])\n",
        "    print(\"Article Text:\", train_facts[index])"
      ],
      "metadata": {
        "id": "LAV_rBAawqjK",
        "colab": {
          "base_uri": "https://localhost:8080/"
        },
        "outputId": "0055e47c-0d76-4999-e181-d458c1622cdb"
      },
      "execution_count": 92,
      "outputs": [
        {
          "output_type": "stream",
          "name": "stdout",
          "text": [
            "Article Index: 415 Distance: 0.22361922\n",
            "Article Text: 一、緣陳榮煉於民國106年7月間，借用李美娟之名義，以分期付款方式購入車牌號碼000-0000號自小客車後，僅繳納16期分期價金後，即因經濟困難而無力繳清餘款，而導致李美娟屢遭銀行催繳遲延價金（所涉詐欺罪嫌另由檢察官為不起訴處分），李美娟遂要求陳榮煉儘速將車輛讓渡，且不得再以其名義及該車輛借款。嗣陳榮煉復欲向第三人借款新臺幣(下同)14萬元，竟未得李美娟同意，基於偽造文書之犯意，於106年12月20日某時，在不詳地點偽造「李美娟」之署名1枚填載於「讓渡證書」之「立讓渡書人」欄位上，連同行車執照及本票2紙交由該第三人後行使之以作為其借款擔保，足以生損害於李美娟之權益。二、案經李美娟訴請臺灣嘉義地方檢察署檢察官偵查起訴。理由壹、程序部分：一、檢察官及被告陳榮煉對於下述本院採為認定犯罪事實依據之各項傳聞證據之證據能力，均表示同意有證據能力（見本院卷第31頁、第47頁、第48頁），另於言詞辯論終結前，除經同意有證據能力之證據外，對於卷附各傳聞證據之證據能力，均未聲明異議，復經本院於審理時逐一提示予被告表示意見，本院審酌該等證據之取得過程並無瑕疵，與本案待證事實間復具有相當之關聯性，以之為本案證據並無不當，依刑事訴訟法第159條之5規定自得採為本件認定事實之基礎。二、另其餘本判決所採之非供述證據亦均經法定程序取得，無不得為證據之情形，自均有證據能力。貳、實體部分：一、訊據被告陳榮煉固坦承因欲向案外人林采晴借款，在未經證人李美娟同意就以證人李美娟的名義簽立讓渡書，並將讓渡書交給案外人林采晴，讓渡書是案外人林采晴要求的，我當時是認為自己如果有還錢後這個讓渡書就無效，而且是證人李美娟一直說要叫我將車處理，所以我就簽了該讓渡書，我認為沒有造成損害等語（見本院卷第31頁、第32頁）。經查：(一)被告陳榮煉確未徵得證人李美娟同意即偽造「李美娟」之署名1枚填載於「讓渡證書」之「立讓渡書人」欄位，並將讓渡書作為向案外人林采晴借款之擔保一情，業據被告坦承不諱，核與證人即告訴人李美娟於偵查中以書面及本院證稱相符（見他字卷第58頁，本院卷第46頁），此外復有讓渡書1紙在卷可稽（見他字卷第101頁、第102頁），此部分事實應可認定。(二)又刑法上偽造文書罪之成立，以足生損害於公眾或他人為特別要件，所謂足生損害，固不以實已發生損害為必要，有足以生損害之虞者，亦足當之（最高法院84年度台上字第2068號判決意旨參照）。被告陳榮煉明知證人李美娟並無同意讓渡車牌號碼000-0000號車輛與案外人林采晴，竟以證人李美娟之名義簽立讓渡書，雖該讓渡書僅為借款之擔保，然已使證人李美娟名下之車輛陷於遭移轉之風險及於被告未能依約還款時，證人李美娟有遭案外人林采晴追償之風險，難謂無足生損害之情。(三)至被告辯稱係證人李美娟一直要其處理車子，才會簽本件讓渡書等語。然自告訴人所提供之二人簡訊對話觀之（見他字卷第79頁至第84頁），被告一直要求證人李美娟以該車輛替其向各大當鋪借款，證人李美娟均表明不願意，並要求將車輛儘速交還，亦提及之前被告也有以機車貸款要求其擔任保證人，被告亦將之私下過戶給別人一情，可知證人李美娟並不同意被告以其名義及名下車輛與他人借款，自不會於本件同意被告以其名義簽立讓渡書作為擔保，是被告所辯尚難採信。(四)綜上，被告本件犯行洵堪認定，應依法論科。二、核被告所為係犯刑法第216條、第210條行使偽造私文書罪。被告偽簽「李美娟」之署名，屬偽造私文書之階段行為，而偽造私文書行為則屬行使偽造私文書之低度行為，均為行使之高度行為所吸收，不另論罪。又被告前因公共危險案件，經本院以105年度嘉交簡字第277號判決判處有期徒刑2月；因過失傷害案件，經本院以105年度嘉交簡字第1072號判決判處有期徒刑4月，上開二案經本院以106年度聲字第133號裁定應執行有期徒刑5月，於106年3月2日易科罰金執行完畢一情，此有臺灣高等法院被告前案紀錄表在卷可稽，其於徒刑執行完畢5年內，故意再犯本件有期徒刑以上之罪，為累犯，應依刑法第47條第1項規定加重其刑。三、爰依被告陳述、臺灣高等法院被告前案紀錄表、個人戶籍資料查詢結果（見本院卷第9頁至第15頁、第52頁）審酌：被告高職畢業，已婚無子、平時與家人同住、現從事房地產、家境不好之生活狀況、前無同類型前科之素行。被告與告訴人為朋友關係，被告為取得案外人林采晴借款之動機目的，竟未先得證人李美娟同意，而偽簽「李美娟」之署名而偽造讓渡書之手段，導致證人李美娟之信用損害、迄今尚未與證人李美娟達成和解等一切情狀，量處如主文所示之刑，併諭知易科罰金之折算標準。四、按被告偽造、變造等文書，既已交付於被害人收受，則該物非屬被告所有，除偽造書類上偽造之印文、署押，應依刑法第219條予以沒收外，依同法第38條第3項之規定，即不得再對各該書類諭知沒收（最高法院43年臺上字第747號判例意旨參照）。查被告所行使偽造讓渡書1份已交由案外人林采晴收執等情，業據被告自承在卷，是未扣案之讓渡證書上之「立讓渡書人」欄之「李美娟」署名1枚，應依刑法第219條規定宣告沒收，而讓渡證書本身無庸沒收。五、另起訴意旨認讓渡證書上另有偽造李美娟之署名1枚，而認被告此部分行為亦涉犯刑法第217條第1項偽造署押犯嫌。然按刑法上偽造私文書，並不以偽造署押為前提，而所謂署押係指在物體上署名或簽押，用以證明一定之意思表示，或一定之事實者而言，如僅書寫姓名以資識別，且亦非表示本人簽名之意思者，則不生署押之問題。（最高法院102年度台上字第3878號意旨參照）。查：本件讓渡證書上「立讓渡書人李美娟今將自己....」之「李美娟」署名部分，僅係書寫名字以資識別，並非用以證明一定意思之意，而不生署押之效力。惟因起訴意旨認此部分若屬有罪，與前開本院判決有罪之行使偽造私文書部分應有接續犯之裁判上一罪關係，爰不另為無罪之諭知。據上論斷，應依刑事訴訟法第299條第1項前段，刑法第216條、第210條、第219條、第47條第1項前段、第41條第1項前段，判決如主文。本案經檢察官陳則銘起訴、檢察官吳明駿到庭執行職務。中華民國108年1月18日刑事第三庭審判長法官吳育霖法官張佐榕法官謝其達以上正本證明與原本無異。如不服本判決應於收受判決後10日內向本院提出上訴書狀，並應敘述具體理由；其未敘述上訴理由者，應於上訴期間屆滿後20日內向本院補提理由書（均須按他造當事人之人數附繕本）「切勿逕送上級法院」。告訴人或被害人如對於本判決不服者，應具備理由請求檢察官上訴，其上訴期間之計算係以檢察官收受判決正本之日期為準。中華民國108年1月18日書記官林芷瑜附錄論罪科刑法條：中華民國刑法第216條（行使偽造變造或登載不實之文書罪）行使第210條至第215條之文書者，依偽造、變造文書或登載不實事項或使登載不實事項之規定處斷。中華民國刑法第210條（偽造變造私文書罪）偽造、變造私文書，足以生損害於公眾或他人者，處5年以下有期徒刑。\n",
            "Article Index: 47 Distance: 0.26161647\n",
            "Article Text: 一、吳文於民國101年6月8日某時，明知林毅桓（業經另案先行判刑確定）並未經陳俊宏授權同意貸款購買自用小客車，竟基於幫助他人行使偽造私文書、使公務員登載不實及詐欺取財之犯意，為林毅桓介紹其洗車場同事莊凱翔（業經檢察官處分緩起訴確定）出面假冒陳俊宏本人貸款購車。由林毅桓於同年月8日持竊得之陳俊宏國民身分證，到彰化縣和美鎮○○路000號陳菀菱經營之東岸汽車商行，購買張超雄所有、託售之車牌號碼0000-00號自用小客車，嗣帶同莊凱翔前往同縣市○○路0段000號順益汽車股份有限公司（下稱順益汽車），辦理汽車買賣相關之簽約，及向臺灣人壽保險股份有限公司（下稱臺灣人壽公司）貸款新臺幣（下同）14萬元等對保手續，並由莊凱翔假冒陳俊宏本人，在如附表所示之文件及欄位上（編號4除外），偽造「陳俊宏」之署押，並將陳俊宏之證件交給不知情之陳菀菱，由陳菀菱將陳俊宏證件交給不知情之代辦人林秀月前往交通部公路總局臺中區監理所彰化監理站，辦理該汽車過戶登記至陳俊宏名下；林毅桓並接續於同年月11日，持上開陳俊宏之證件及其於不詳時地偽刻「陳俊宏」之印章1顆，交由不知情之承辦人陳信瑋於如附表所示之文件及欄位上用印及送件，使原車主張超雄、臺灣人壽公司及上開監理站陷於錯誤，而辦理車輛過戶並交付貸款；待辦完車輛過戶及貸款後，林毅桓便取走該車據為己用，且未繳納分期之貸款，足生損害於陳俊宏、張超雄、臺灣人壽公司之權益及汽車監理機關管理車籍之正確性（貸款本金已由順益汽車於101年8月16日買回債權，並於102年10月24日實行動產抵押權受償2萬5000元）。二、案經陳俊宏訴由彰化縣警察局和美分局報請臺灣彰化地方法院檢察署（下稱彰化地檢署）檢察官偵查起訴。理由一、證據能力(一)本案被告吳文之自白及不利於己之陳述，並無出於強暴、脅迫、利誘、詐欺、疲勞訊問、違法羈押或其他不正之方法，亦非違反法定障礙事由經過期間不得訊問或告知義務之規定而為，且被告並未爭執上開陳述之證據能力，依刑事訴訟法第156條第1項、第158條之2規定，認有證據能力。(二)按被告以外之人於審判外之陳述，雖不符刑事訴訟法第159條之1至第159條之4之規定，但經當事人於審判程序同意作為證據，法院審酌該言詞陳述或書面陳述作成時之情況，認為適當者，亦得為證據，同法第159條之5第1項定有明文。本判決所引告訴人即證人陳俊宏、證人陳菀菱、林秀月、陳信瑋等人，於警詢中之供述，被告同意有證據能力（見本院卷第90頁），本院審酌上開證據資料製作時之情況，尚無違法不當及證明力明顯過低之瑕疵，以之作為證據應屬適當，爰認該等供述證據均有證據能力。(三)本判決所引告訴人即證人陳俊宏、證人陳菀菱及陳信瑋等人，於偵訊中經具結後向檢察官所為之證述，並無顯不可信之情況，依刑事訴訟法第159條之1第2項規定，均有證據能力。(四)本判決所引其餘非供述證據，經本院於審理期日提示予當事人而為合法調查，檢察官及被告均未爭執證據能力（見本院卷第187頁背面至第190頁），本院依證據排除法則審酌各該證據，亦無違背法定程序取得或其他不得作為證據之情形，認均有證據能力。二、認定犯罪事實所憑之證據及理由訊據被告固坦承伊知悉林毅桓未經告訴人陳俊宏同意購買該小客車，且林毅桓曾到伊上班之洗車場找莊凱翔出面假冒告訴人陳俊宏購車，惟矢口否認有共同或幫助犯行使偽造私文書等罪之犯行，並辯稱：我知道林毅桓未經陳俊宏之同意授權而購買該小客車，因為林毅桓有叫莊凱翔在洗車場練習陳俊宏的簽名，當天林毅桓去洗車場找人簽名，我說隨便你找，如果阿弟要去的話就去，我讓林毅桓自己找莊凱翔談，林毅桓要莊凱翔在辦公室裡面練習「陳俊宏」簽名，不是我去找莊凱翔的，林毅桓有來問我說可不可以找莊凱翔去，我說可以，所以我讓莊凱翔提早離開……是林毅桓自己找莊凱翔談出面買車幫他簽名就給3000元，所以莊凱翔不是我找的云云（見本院卷第89頁至第91頁背面）。經查：(一)被告於偵訊中直認：我知道，林毅桓要我找人幫他簽名去買車，因為他說他要簽名，我就找我同事去簽名，我承認我幫助林毅桓找人去偽造文書等語（見102年度偵緝字第73號偵訊筆錄，附於本院卷第145頁），已坦承莊凱翔乃伊幫林毅桓覓得。(二)證人林毅桓於本院證稱：我以陳俊宏名義購買本案之車牌號碼0000-00自用小客車及向臺灣人壽公司辦理動產擔保貸款，當時我是在彰美路與金馬路口的洗車場拜託被告幫我找個比較像陳俊宏的人去代為簽名，被告知道去簽名的「小翔」不是陳俊宏，當時我有拿陳俊宏的照片讓被告看，說就是要找一個類似這樣的人，面容要像一點的，我要去簽名而已，我是跟被告說我以3000元的代價請他去簽名，我不曉得被告找的人是在洗車場找到的，我只知道他叫「小翔」，跟陳俊宏長得蠻像，我是在洗車場外面跟「小翔」碰面。被告幫我找人，我沒有給他代價，因為我之前跟被告是很好的朋友，我有跟被告說我可能要買車……我記得是去簽名的前2、3天，請被告幫我找一個長得很像陳俊宏的人，當時車行已經通知貸款過了，我當時也有拿陳俊宏的身分證給被告看，被告是在我拜託他的隔天找到的，被告是在洗車場外面介紹我跟「小翔」見面，當時是晚上，被告介紹後就自己進去，留我跟「小翔」在那邊交談，之後「小翔」就直接跟我走，我沒有叫「小翔」練習陳俊宏的簽名，我只叫被告找一個類似陳俊宏這個圖片的人，我要帶他去簽名而已，那天我帶「小翔」去順益汽車，是一次把全部文件都簽好，陳俊宏的印章是在「小翔」簽名的隔天，我臨時刻好拿去給順益汽車業務陳信瑋……當時貸款14萬元有超貸1萬6400元，我拿去給我小孩用了，車子本來是我要開，後來我把車轉交給被告開，被告說他要繳所有的貸款，所以我就把超貸的1萬6400元給被告，自從我請被告幫我找人出來簽名的時候，我就跟他說我可能買車，被告就知道我有車貸……當時去東岸汽車買車、辦理貸款跟業務接洽、送資料及文件，都是我一個人，莊凱翔只有一次出面簽名，之後都是我全權辦理……我跟被告是朋友，約在101年3月認識，被告幫我找那位簽陳俊宏名字的人就是現在在庭的莊凱翔，我是以3000元代價請莊凱翔幫我簽名，莊凱翔知道我不是陳俊宏等語（見本院卷第161至166頁、第168頁背面至第169頁），已明確證稱被告係明知林毅桓未取得陳俊宏之同意而貸款買車，並為林毅桓介紹莊凱翔出面假冒陳俊宏身分而簽名。(三)證人莊凱翔於本院證稱：我認識在庭的被告及林毅桓，他們都叫我「阿翔」或「小翔」，是林毅桓叫我去簽名，我知道林毅桓不是陳俊宏，林毅桓是透過被告找上我的，是林毅桓直接跟我說的，他說要去買車叫我去幫他簽名，對保時林毅桓有跟賣車的人或是辦理貸款的人說我是陳俊宏，我當時因為缺錢，所以不管出面簽陳俊宏的名字這件事有沒有問題，為了這3000元的代價，我還是去簽陳俊宏的名字，我只有去簽名，沒有參與其他的部分……烏日分局警卷第14頁之動產擔保交易動產抵押設定登記申請書，該警卷第14頁背面之借款暨動產抵押契約書，該警卷第15頁之監理業務住居所、就業處所地址申請書，以及該警卷第16頁背面之汽車買賣讓渡書，這些文件上面陳俊宏的簽名都是我簽的，都是我同時、一次在順益汽車簽的，我是在簽名後拿到3000元，我沒有分給被告……我的印象是我們三個在場時，剛好講到林毅桓要找我出面假冒陳俊宏買車這件事……當天我有在洗車場練習陳俊宏簽名，一開始是我跟被告兩個，林毅桓是後面才到了，之後才到洗車場外面講，講完之後就進去辦公室裡面練習陳俊宏的簽名……被告到底跟林毅桓怎麼說的我不知道，但是講完林毅桓就把我叫出去，我是透過被告才認識林毅桓等語（見本院卷第170頁背面至第173頁）。關於林毅桓與莊凱翔接洽及討論假冒陳俊宏身分之過程，2人證述內容大致相符，則渠等上開證述，應非虛情。(四)而莊凱翔究竟是林毅桓透過被告找的，還是林毅桓自己去洗車場隨便尋覓之人，經命證人林毅桓與莊凱翔對質後，證人林毅桓證稱：我是直接找被告跟他講，被告跟我說是洗車場的莊凱翔，被告也有說因為莊凱翔比較缺錢，當時我去的時候，被告跟我說要找莊凱翔，所以我才再跟莊凱翔重新講一次，我也有跟被告說要給簽陳俊宏名字的人3000元，所以我請被告幫我找，莊凱翔到洗車場外面時，我還是重複跟莊凱翔說一遍，當時莊凱翔沒有問我，講完之後莊凱翔OK，我就直接帶了，我很確定有叫莊凱翔在辦公室內背陳俊宏的身分證字號、出生年月日、他家的人員、住址等，身分證上全部都要背，我是在被告及莊凱翔面前叫莊凱翔背這些，陳俊宏的簽名則不用練等語（見本院卷第175頁背面）；而證人莊凱翔則證稱：我在辦公室內有練習簽名，也有背資料，辦公室裡面林毅桓及被告都在等語（見本院卷第176頁），關於上開細節，被告亦供承：莊凱翔有在辦公室練簽名、背資料等語不諱（見本院卷第176頁）。由證人林毅桓上開透過被告介紹莊凱翔之證述，以及證人莊凱翔證稱與林毅桓接洽及背陳俊宏資料之過程，被告均在場等情，足認，證人林毅桓證稱伊拜託被告為其尋覓莊凱翔出面假冒陳俊宏身分辦理貸款購車乙節，堪可採信。(五)綜合上情，被告辯稱是林毅桓自己與莊凱翔接洽，伊並未參與云云，並非可採。又本案尚有證人陳俊宏、陳菀菱、林秀月、陳信瑋等人於警詢或偵訊中之證述（見警卷第2至9頁、第9172號偵卷第41至44頁、第23至25頁），及交通部公路總局臺中區監理所函文、檢附之車牌號碼0000-00號汽車之過戶資料、臺灣人壽公司汽車貸款申請書、順益汽車函文103年6月16日、臺灣人壽公司同年月17日函文及債權讓與契約書，暨本院102年度訴字第511號刑事判決等附卷可稽（見警卷第10頁至第17頁背面、第9172號偵卷第38頁、本院卷第8至12頁、第99至101頁）。從而，本案事證明確，被告犯行堪以認定，應依法論科。三、論罪科刑(一)按行為後法律有變更者，適用行為時之法律。但行為後之法律有利於行為人者，適用最有利於行為人之法律，刑法第2條第1項定有明文。查本案被告行為後（幫助犯係以正犯實行犯罪時，為其犯罪行為之時點），刑法第339條業於103年6月18日修正公布，於同年月20日生效施行。按修正前刑法第339條第1項規定：「意圖為自己或第三人不法之所有，以詐術使人將本人或第三人之物交付者，處5年以下有期徒刑、拘役或科或併科1千元以下罰金。」修正後刑法第339條第1項則規定：「意圖為自己或第三人不法之所有，以詐術使人將本人或第三人之物交付者，處5年以下有期徒刑、拘役或科或併科50萬元以下罰金。」二者罰金刑有所不同。修正前刑法第339條第1項所定之罰金刑，依刑法施行法第1條之1第1項、第2項前段規定，以新臺幣為貨幣單位，就所定數額提高為30倍後，為新臺幣3萬元；修正後刑法第339條第1項規定，則將罰金提高為新臺幣50萬元以下，經比較新舊法結果，自以被告行為時即修正前之規定對其較為有利，依刑法第2條第1項前段規定，應適用修正前之刑法第339條第1項規定。(二)又按刑法上之幫助犯，係指以幫助之意思，對於正犯資以助力，使其犯罪易於達成，而未參與實施犯罪之行為者而言，如就構成犯罪事實之一部，已參與實施即屬共同正犯（最高法院49年臺上字第77號判例暨同院101年度臺上字第5885號判決可資參照）。被告基於幫助之犯意，為林毅桓介紹可以假冒陳俊宏本人出面購車、辦理貸款之莊凱翔，使林毅桓及莊凱翔遂行渠等假冒陳俊宏身分而貸款購車之犯行（渠等二人均係犯刑法第216條、第210條行使偽造私文書、同法第214條使公務員登載不實及修正前刑法第339條第1項詐欺取財罪，又利用不知情之汽車商行及順益汽車承辦人員陳菀菱、林秀月、陳信瑋等人遂行上開犯行，均屬間接正犯），被告參與之犯罪僅止於此，並無證據證明被告有參與實施本件行使偽造私文書、使公務員登載不實及詐欺取財等犯行，是核被告所為，係犯刑法第30條第1項前段、同法第216條、第210條、第214條、（修正前）第339條第1項之幫助行使偽造私文書、使公務員登載不實及詐欺取財罪，並依刑法第30條第2項規定，減輕其刑。被告以一介紹莊凱翔為林毅桓出面假冒陳俊宏貸款購車之幫助行為，使林毅桓易於遂行上開數罪，為想像競合犯，應依刑法第55條之規定，從重論以一幫助行使偽造私文書罪。起訴書雖漏未論及刑法第214條及修正前刑法第339條第1項之罪，然為起訴效力所及，本院自得併予審理；又檢察官依行使偽造私文書罪之共同正犯起訴，容有未洽，惟共同正犯與幫助犯，僅係犯罪形態與得否減刑有所差異，其適用之基本法條及所犯罪名並無不同，是尚無變更起訴法條之必要（最高法院99年度臺上字第5741號暨同院97年度臺上字第202號判決參照）。(三)爰以行為人之責任為基礎，審酌被告明知林毅桓以陳俊宏名義貸款購車，並未取得陳俊宏之同意，竟仍幫助林毅桓為其介紹莊凱翔假冒陳俊宏之身分，所為使林毅桓及莊凱翔易於完成本案犯行，因而損及陳俊宏、張超雄、臺灣人壽公司之權益及監理機關對於車輛管理之正確性，並使原車主張超雄移轉該汽車所有權、臺灣人壽公司受有撥付貸款之損害，顯見其法治觀念薄弱，所為實非可取；兼衡其犯後於偵查中曾坦承犯行，嗣於本院否認犯行，及其自述：我是高中肄業（僅讀半學期），沒有任何專門技術及證照，與父母親同住，居住之房屋每月租金約1萬多元，目前與父親一起從事防水抓漏工程，因為須分擔家用，所以沒有向父親領取薪資，我需要用錢時便會跟母親拿等語（見本院第191頁背面）之家庭經濟及生活狀況等一切情狀，量處如主文所示之刑，並諭知易科罰金之折算標準。(四)如附表所示之偽造印文及署押，依刑法第219條之規定，不問屬於被告與否，均應沒收之，屬義務沒收之物；惟按沒收為從刑之一種，依主從不可分之原則，應附隨緊接於主刑之下而同時宣告；又共同正犯因相互間利用他人之行為，以遂行其犯意之實現，本於責任共同之原則，有關沒收部分，對於共犯間供犯罪所用之物，自均應為沒收之諭知。惟幫助犯僅係對於犯罪構成要件以外行為為加工，並無共同犯罪之意思，自不適用該責任共同原則，對於正犯所有供犯罪所用之物或犯罪所得之物，亦為沒收之諭知，最高法院91年度臺上字第5583號判決意旨參照，從而，本院即無庸為沒收之諭知，併予敘明。據上論斷，應依刑事訴訟法第299條第1項前段，刑法第2條第1項前段、第30條第1項前段、第2項、第214條、第210條、第216條、（修正前）第339條第1項、第55條、第41條第1項前段，刑法施行法第1條之1第1項、第2項前段，判決如主文。本案經檢察官何蕙君到庭執行職務。中華民國103年10月21日刑事第五庭審判長法官周淡怡法官李淑惠法官曹馨方以上正本證明與原本無異。如不服本判決應於收受判決後10日內向本院提出上訴書狀，並應敘述具體理由；其未敘述上訴理由者，應於上訴期間屆滿後20日內向本院補提理由書（均須按他造當事人之人數附繕本）「切勿逕送上級法院」。告訴人或被害人對於判決如有不服具備理由請求檢察官上訴者，其上訴期間之計算係以檢察官收受判決正本之日期為準。中華民國103年10月21日書記官呂雅惠附表：偽造之印文及署押\n",
            "Article Index: 114 Distance: 0.27732217\n",
            "Article Text: 一、林永潔前於民國98年1月、3月間，因向張蕙讌借款，因而開立如附表一所示之本票予張蕙讌為擔保，張蕙讌於99年7月5日向本院聲請對附表一所示之本票准予強制執行，經本院於99年7月7日以99年度司票字第3245號裁定准予強制執行，嗣經林永潔提起抗告，經本院於99年8月13日以99年度抗字第172號裁定駁回抗告確定，張蕙讌取得上開執行名義後，遂於99年9月6日向本院聲請強制執行林永潔所有坐落於臺北縣永和市（現改制為新北市○○區○○○路0段000號2樓、臺北縣汐止鎮（現改制為新北市○○區○○○路000巷00號之不動產，林永潔為免上開不動產遭查封，於99年12月14日提起債務人異議之訴，竟基於偽造私文書復持以行使之犯意，其明知張蕙讌並未簽立「債務清償證明書」，亦未授權他人簽立「債務清償證明書」，於100年4月8日前某日，以不詳方式，偽刻「張蕙讌」之印章1枚，再冒用張蕙讌名義，製作內容記載：「林永潔向本人之借款於民國99年6月7日全部清償，林永潔所開付本人之本票、借據全部作廢（包括遺失或未找到之本票、借據）日後不得以民國99年6月7日前之任何憑證要求林永潔還款，恐口說無憑，特立此清償證明書為據。此致林永潔。立債務清償證明書人：張蕙讌，身分證字號：Z0000000000，住址：臺北縣新店市（現改制為新北市○○區○○○里○○○街00號3樓。中華民國九十九年六月七日。PS.雙方同意正本由張蕙讌收執，副本由林永潔收執」之「債務清償證明書」（下稱「債務清償證明書」）1份，並於該「債務清償證明書」之「立債務清償證明書人欄：張蕙讌」下方，偽造「張蕙讌」之署押及印文各1枚，佯以表示林永潔已清償積欠張蕙讌之全部債務，並於前開債務人異議之訴之訴訟進行中之100年4月8日，指示不知情之訴訟代理人張智剛律師、複代理人劉玉津律師將上開「債務清償證明書」提出予本院而行使之，足以生損害於張蕙讌。二、案經張蕙讌訴由臺灣板橋地方法院檢察署（現更名為臺灣新北地方法院檢察署，下稱臺灣新北地方法院檢察署）檢察官偵查起訴。理由甲、證據能力部分：證人即告訴人張蕙讌、證人朱家銘、陳標貴於檢察事務官詢問時之證述，雖屬傳聞證據，惟本院審理時提示其之調查筆錄徵詢被告及辯護人之意見，被告及辯護人均陳明沒有意見，且未於言詞辯論終結前聲明異議，本院審酌上開筆錄作成時，較無人情施壓或干擾，亦無不當取供之情形，認為以之作為本案之證據亦屬適當，是證人即告訴人張蕙讌、證人朱家銘、陳標貴於檢察事務官詢問時之證述，依刑事訴訟法第159條之5第2項規定，有證據能力。乙、認定事實之理由及依據：一、訊據被告林永潔固不否認曾於債務人異議之訴之訴訟中，委請律師提出上開「債務清償證明書」，惟矢口否認有何偽造私文書、行使偽造私文書之犯行，辯稱：99年6月7日當日，朱家銘表示可協助處理其與張蕙讌之債務，伊開了如附表二所示之支票，並拿出現金新臺幣（下同）10萬元，要朱家銘轉交予張蕙讌，之後沒多久朱家銘就拿了「債務清償證明書」回來，告訴伊張蕙讌說伊不用清償了，說伊本來就沒有欠張蕙讌的錢，張蕙讌會自己跟陳標貴要，伊也沒有懷疑云云。經查：(一)被告與張蕙讌前有債務關係，證人即告訴人張蕙讌於本院審理時證稱：起訴書上所載之1,232,000元，係伊借給被告的錢，伊和被告間有借貸關係，被告開立如附表一所示之本票作為擔保借款之用，其後被告未返還票面上所載之金額，此筆借款與伊投資予春福公司之款項係不同款項等語（見本院100年度訴字第2508號卷第228頁至第228頁背面），被告於本院審理時亦以刑事陳報狀陳稱：伊在98年1月間曾向張蕙讌借款80萬元，約定利息每月2分，張蕙讌在98年1月7日分別以現金存款方式存入568,000元、200,000元至被告大眾銀行帳戶（預扣2個月利息32,000元），針對上開借款伊開立6張本票，分別到期日98年3月7日、面額212,000元（利息1萬2千元，本筆金額已在98年3月11日匯款但未收回本票），及如附表一編號1至5所示之本票（尚未清償），98年3月間再向張蕙讌借款60萬元，約定月息2％，張蕙讌於98年3月19日（刑事陳報狀誤載為9月19日）匯入564,000元（預扣3個月利息36,000元），並開立附表一編號6所示本票等語（見本院100年度訴字第2508號卷第257頁），復有被告開立如附表一所示之本票在卷可查（見本院99年度司票字第3245號卷第6頁背面至第7頁），足認被告前曾向張蕙讌借款1,232,000元（不含被告表示已清償之212,000元部分），並開立如附表一編號1至6所示之本票予告訴人張蕙讌作為擔保。(二)告訴人張蕙讌於99年7月間向本院聲請對附表一所示之本票准予強制執行，經本院於99年7月7日以99年度司票字第3245號裁定准予強制執行，嗣經被告提起抗告，經本院於99年8月13日以99年度抗字第172號裁定駁回抗告確定，張蕙讌取得上開執行名義後，遂於99年9月6日向本院聲請強制執行被告所有坐落於新北市○○區○○路0段000號2樓、新北市○○區○○路000巷00號之不動產，被告為免上開不動產遭查封，於99年12月14日提起債務人異議之訴，被告於前開債務人異議之訴之訴訟進行中之100年4月8日，指示訴訟代理人張智剛律師、複代理人劉玉津律師將上開「債務清償證明書」附於民事準備書狀後提出予本院，有本院99年度司票字第3245號卷、99年度抗字第172號卷、99年度司執字第77886號卷、99年度訴字第2580號卷可查，應堪信為真實。(三)關於前開「債務清償證明書」是否為證人張蕙讌所開立，證人即告訴人張蕙讌於檢察事務官詢問時證稱：「債務清償證明書」不是伊簽的，伊從沒有簽過這樣的「債務清償證明書」，被告也一直沒有提出那份「債務清償證明書」的正本，伊在民事庭也說過，伊根本不知道有抵銷債權這件事，不可能開「債務清償證明書」給被告等語（見臺灣新北地方法院檢察署100年度他字第2483號卷第13頁至第14頁、第69頁），於本院審理時具結證稱：伊未曾給被告「債務清償證明書」，伊係在民事官司進行中，有一次被告突然提出這份「債務清償證明書」，之前被告從來沒提出來，簽名看起來係伊的筆跡，但伊實際上沒有簽過這份「債務清償證明書」，伊也不可能有「債務清償證明書」的正本，被告有代書身分，也知道正本應該由她收執，伊怎麼可能會收執正本等語（見本院100年度訴字第2508號卷第229頁至第230頁），則告訴人張蕙讌自始均否認曾書寫並提供予被告「債務清償證明書」，參以本院將告訴人張蕙讌提出其所有之印文3枚（見本院100年度訴字第2508號卷第38頁）、及天主教耕莘醫院張蕙讌病歷上「張蕙讌」之印文（見本院100年度訴字第2508號卷第75頁至第172頁）、張蕙讌撰寫之刑事聲請狀、刑事聲請補充告訴狀上「張蕙讌」印文送鑑定，經內政部警政署刑事警察局鑑定結果，認「債務清償證明書」上「張蕙讌」印文，與前開印文均不相符等情，有內政部警政署刑事警察局101年8月7日刑鑑字第0000000000號鑑定書在卷可查（見本院100年度訴字第2508號卷第186頁至第193頁），另關於「債務清償證明書」上「張蕙讌」署押，經核雖與告訴人張蕙讌於本院準備程序筆錄、審理程序筆錄上張蕙讌簽名之字跡、筆觸、字型均大致相符，然該「債務清償證明書」自始均僅提出影印之「影本」，則「債務清償證明書」上有關「張蕙讌」之簽名，自可能為臨摹或剪貼、套印而成，而證人張蕙讌亦否認曾簽署前開「債務清償證明書」，是本件並無證據證明「債務清償證明書」係由張蕙讌同意並蓋章、簽名。(四)證人朱家銘於檢察事務官詢問時證稱：伊有幫被告協調其與張蕙讌之債務，但因張蕙讌堅持要高額利息，所以債務沒有協調成功，伊沒有拿給被告「債務清償證明書」，債務根本沒有清償，被告給伊如附表二所示支票也還在伊那邊，因伊並沒有和張蕙讌協調成功，支票伊也沒有拿去兌現，被告開給伊如附表二所示之支票，附表二編號1、2之支票沒有開抬頭，也沒有寫禁止背書轉讓，係被告承諾要給伊的處理費用，後來伊簽收，表明收到支票的時間是99年6月7日，之後在99年6月28日還有在「收據」上寫要交款項的事情，這表示99年6月28日時，債務都還沒有解決，又怎麼可能在99年6月7日就拿「債務清償證明書」給被告等語（見臺灣新北地方法院檢察署100年度他字第2483號卷第63頁至第64頁、第69頁），於本院審理時證稱：伊有收被告開立如附表二所示之支票及10萬元現金，被告因積欠張蕙讌約120幾萬債務，當時有交付兩張10萬元即期支票給伊，沒有抬頭具名，因當時被告委託伊很多事情，兩人之間有默契，比如123萬元的債務，伊有辦法在多少範圍之內跟張蕙讌處理掉的話，剩下的就是伊的佣金，所以這兩張10萬元支票沒有開抬頭要給張蕙讌，另外被告又交了3張具名張蕙讌如附表二編號3至5所示之支票，及10萬元現金，另有一張被告手寫的清償證明，伊跟張蕙讌接洽了很多次，問張蕙讌現在要的是什麼、支票是否接受，張蕙讌說不要，因為被告又開1年半的支票，一點誠意都沒有，且已經欠款2、3年了，利息也從未付過，張蕙讌只有一條件，就是把這些票換成現金，就願意和解，被告係在99年6月7日委託伊，伊大概在3天後就電話與張蕙讌聯絡，事後與張蕙讌碰到面，瞭解她的想法，伊回來跟被告報告張蕙讌意思是這些1年半的票要換成現金給她，伊就到被告辦公室，由被告寫了「收據」，收據最後三行記載「以民國99年6月28日以現金新台幣89萬3仟元整交付本人，換回三張支票屬實，恐空口無憑，特立此據」，支票正本還在伊這裡，被告是代書，她如果真的有把現金給伊，為何支票還在伊手上，被告99年6月7日委託伊去跟張蕙讌處理，99年6月28日才跟伊協調好說要以現金換回伊手上3張共89萬3千多元的支票，結果被告寫了之後，什麼都不履行，被告當天在伊面前寫完收據後，伊就一直等著被告交錢給伊，結果被告沒有交錢給伊，支票正本也還在伊這邊，很明顯就是被告沒有交現金給伊，本件打字的「債務清償證明書」，伊在開偵查庭前從未見過，被告交給伊的係被告手寫的清償證明，要伊拿給張蕙讌簽名等語（見本院100年度訴字第2508號卷第282頁至第283頁背面），則從上揭證詞可知，證人朱家銘於檢察事務官詢問時、本院審理時，均否認曾交付被告「債務清償證明書」，參以然張蕙讌於99年7月5日向本院聲請對附表一所示之本票准予強制執行，經本院於99年7月7日以99年度司票字第3245號裁定准予強制執行，被告於99年7月21日就本院99年度司票字第3245號裁定提起抗告，抗告理由略以：系爭本票未經提示、利息之起算日並無依據云云（見本院99年度抗字第172號卷第6頁），並未提出「債務清償證明書」，迄至告訴人張蕙讌強制執行被告所有之不動產，被告於99年12月14日提起債務人異議之訴後，方於訴訟程序進行中之100年4月8日提出「債務清償證明書」，如被告於99年6月7日即取得「債務清償證明書」，其於99年7月21日就本票裁定提起抗告時，即應提出此「債務清償證明書」，表明業已清償全部本票債務，而非僅爭執有無提示票據、利息起算日等，遲至100年4月8日方提出「債務清償證明書」，其是否於99年6月7日即收受「債務清償證明書」，已甚為可疑；又被告於99年6月7日雖曾開立如附表二所示支票交付予朱家銘，並要求朱家銘轉交予張蕙讌，然支付予張蕙讌之支票最早為100年3月後方到期，而被告前已開立本票並逾期未清償，被告縱於99年6月7日開立其他支票予張蕙讌「換票」，被告實未清償任何款項，其開立之支票亦尚未兌現，告訴人張蕙讌又怎可能表示被告已清償全部債務而開立「債務清償證明書」，更顯見告訴人張蕙讌應不可能開立「債務清償證明書」予被告，是該「債務清償證明書」應係被告嗣後自行偽造，而非告訴人張蕙讌、證人朱家銘於99年6月7日交付予被告。(五)另證人陳標貴於偵查時證稱：張蕙讌投資春福公司之金額為105萬元，金額為春福公司的5%，原本係伊名下的股份要轉讓予張蕙讌，但公司說不行，應該要直接給公司，伊也沒有收到張蕙讌要求被告交給伊的錢，伊確定沒有收到該筆投資款等語（見臺灣新北地方法院檢察署100年度他字第2483號卷第85頁），則陳標貴之股份並未成功轉讓予張蕙讌，被告亦未將投資款項交付予證人陳標貴，輔以告訴人張蕙讌於本院審理時證稱：關於春福公司之投資款，被告有另外跟伊借100多萬的金額，不是剛好125萬，當初被告跟伊提到要投資春福時，伊有去現場看，後來伊有同意要投資，所以被告另外欠伊的這個錢，伊就說那就轉去投資春福公司，但這是另外一筆，不是附表一本票所示的1,232,000元等語（見本院100年度訴字第2508號卷第229頁），足見告訴人張蕙讌對投資春福之款項為何亦有爭議，豈可能在爭議未釐清前，即突然表示被告不必還款，而自行開立「債務清償證明書」予被告，此與常理全然不符，況無論被告與張蕙讌間就1,232,000元之借款得否行使抵銷，如告訴人張蕙讌未同意，自不可能開立「債務清償證明書」予被告，被告自行偽造「債務清償證明書」並行使之，即構成行使偽造私文書，至1,232,000元得否與春福公司之欠款行使抵銷權，則非所問。(六)據上，該「債務清償證明書」係由被告提出予本院，證人張蕙讌、朱家銘均表示未開立、見聞該「債務清償證明書」，而被告於檢察事務官詢問時、本院審理時雖表示：伊被朱家銘所騙，該「債務清償證明書」係由朱家銘於99年6月7日拿給伊云云，然告訴人張蕙讌於99年7月間即聲請本票裁定，隨後並聲請就被告所有之不動產為強制執行，被告竟自始均未向告訴人張蕙讌確認有無清償債務及提及其有「債務清償證明書」乙節，亦未於本票裁定抗告時提出「債務清償證明書」予本院，遲於100年4月8日方表示其有「債務清償證明書」，其所為顯與常理不符，應認該「債務清償證明書」係由被告偽造，並持之行使。(七)至被告辯稱：伊有給朱家銘附表二所示之支票，「債務清償證明書」係朱家銘於99年6月7日交給伊，該「債務清償證明書」可能係由朱家銘所偽造，此與朱家銘一貫使用彩色影印文件之手法相符云云，惟查：1.被告於檢察事務官詢問時陳稱：伊清償附表一所示本票之方式，係拿附表二所示支票予朱家銘，朱家銘跟伊說伊的車子放何處張蕙讌都知道，也知道伊帶孫子，伊原本就不用給錢，但會怕所以花錢了事云云（見臺灣新北地方法院檢察署100年度他字第2483號卷第69頁），則依被告前揭所述，應認其清償債務之方式應為給付附表二所示支票予張蕙讌，惟被告於本院審理程序時復改稱：99年6月7日當天朱家銘拿走附表二所示之支票，回來後就拿「債務清償證明書」給伊，並跟伊說剩下的錢都不用還了，張蕙讌會去找陳標貴要這筆錢云云（見本院100年度訴字第2508號卷第291頁），是被告於審理中復改稱該筆債務不存在，被告毋須給付任何款項予張蕙讌，二種清償方式截然不同，被告前後所述明顯不一，是否屬實，已甚為可疑；況如證人朱家銘確曾向被告表示：張蕙讌說不用還了云云，並提供被告張蕙讌簽名之「債務清償證明書」後，被告理當要求朱家銘將現金、支票全數返還，如證人朱家銘遲未返還，衡情常會向債權人即張蕙讌確認其與朱家銘之協調情形及支票究在何處，而非全然未提及此事，於張蕙讌對其聲請本票裁定及強制執行時亦均未告知張蕙讌有「債務清償證明書」乙節，迄自100年4月8日債務人異議之訴之訴訟中，方提出「債務清償證明書」，被告所為顯屬可疑。2.被告於99年6月7日曾給付朱家銘附表二所示之支票及現金10萬元，此有被告提供之支票影本及由朱家銘簽名之收執記錄在卷可稽（見臺灣新北地方法院檢察署100年度他字第2483號卷第56頁至第56頁背面），然該票據並未經交付予張蕙讌，業據證人朱家銘於本院審理時陳稱：附表二所示之支票正本還在伊這邊，如果被告交付伊893,000元給伊換回支票，支票就不會在伊這裡等語（見本院100年度訴字第2508號卷第282頁背面），則證人朱家銘就被告積欠張蕙讌之債務並未處理完畢，亦未收受被告原要交付予其之現金893,000元，衡情證人朱家銘自毋須主動開立「債務清償證明書」予被告。3.又被告曾手寫「收據」交付予證人朱家銘，其內文記載：「本人受林永潔委託處理與張蕙讌之債務新臺幣壹佰壹拾玖萬參仟捌佰元正，99年6月7日本人收到林永潔現金新臺幣壹拾萬元正及99年6月30日票號AB0000000號、AB0057941號支票2張面額各新臺幣壹拾萬元正，及3張分別為100年3月20日、票號AB0000000號、100年6月20日票號AB0000000號、面額各新臺幣參拾萬元正、100年9月20日、票號AB0000000號、面額新臺幣貳拾捌萬參仟捌佰元正之支票，因張蕙讌對此三張支票有異議，經本人調解，林永潔於99年6月28日以現金新臺幣捌拾玖萬參仟元正，交付本人換回3張支票屬實，恐口無憑，特立此據為證」等語，有收據1紙在卷可稽（見臺灣新北地方法院檢察署100年度他字第2483號卷第71頁），足見被告於99年6月7日交付證人朱家銘如附表二所示之支票後，於99年6月28日復有意以893,000元之現金換回附表二編號3至5所示之支票，如被告於99年6月7日已取得「債務清償證明書」，並得知毋須再清償，又何需再表示欲於99年6月28日改以893,000元之現金清償其與張蕙讌之債務，足見被告辯稱：伊在99年6月7日即取得「債務清償證明書」云云，顯不足採；再依上開收據之文字內容觀之，應係被告如交付893,000元之現金予證人朱家銘後，由證人朱家銘簽收該「收據」，而被告自始均未交付893,000元之現金，證人朱家銘自毋庸簽署上開「收據」，此亦與證人朱家銘於本院審理時陳稱：被告在伊面前寫完收據後，伊一直等被告交錢給伊，但被告始終沒有交現金給伊等語相符（見本院100年度訴字第2508號卷第283頁背面），是證人朱家銘所述較為可採；況被告前為代書，又曾經營放款業務，業據被告於本院審理時自承在卷（見本院100年度訴字第2508號卷第290頁），其就放款之流程及相關債務證據之保存應知之甚詳，衡以被告交付附表二所示支票予證人朱家銘後，即要求證人朱家銘親簽收執記錄可知，被告對交付支票、相關證據之留存等均甚為謹慎（見臺灣新北地方法院檢察署100年度他字第2483號卷第56頁至第56頁背面），而一般清償債務之相關證明，或為一式二份，二份正本由債務人、債權人分別收執，或正本一份由債務人收執，以避免將來債權債務有所糾紛，債權人再向債務人請求時，債務人得提出清償證明而有所憑，依被告之社會經歷、工作經驗，當不可能同意僅收執副本，如證人朱家銘僅交付被告副本，被告當會向債權人即張蕙讌詢問、確認，以防受騙，又怎可能僅取得「債務清償證明書」後即自行收藏，全未向告訴人張蕙讌提及此事，且豈可能任證人朱家銘提供影印之「債務清償證明書」，在未取得正本之情形下，又毫無防備即讓朱家銘而隨意取走其手寫之「收據」，足見被告所述，顯有隱飾真實，應不足採。(八)綜上，本件事證明確，被告犯行洵堪認定，應依法論科。二、論罪科刑：(一)核被告所為，係犯刑法第216條、第210條之行使偽造私文書罪。被告偽刻張蕙讌之印章，復持之偽造「債務清償證明書」之行為，係偽造私文書之部分行為；而其偽造私文書後復持以行使，其偽造之低度行為應為行使之高度行為所吸收，均不另論罪。(二)被告利用不知情之訴訟代理人、複代理人庭呈「債務清償證明書」予本院而為行使偽造私文書犯行，為間接正犯。(三)爰審酌被告未經告訴人同意，即偽造告訴人之署押、印文及「債務清償證明書」，並持之提供予本院作為債務人異議之訴之證據，及被告雖陳稱其於100年11月18日與告訴人達成和解，並提出協議書1份在卷可稽（見本院100年度訴字第2508號卷第28頁至第29頁），然告訴人張蕙讌於本院審理時陳稱：伊有依協議書去辦理強制執行的撤回及擔保金取回，但重點在於被告並未履約，被告雖有給伊140萬元，但該給伊的複利都沒有給，協議書有陷阱，回家看清楚後才知道伊又上當了等語（見本院100年度訴字第2508號卷第230頁背面至第231頁），足見被告與告訴人間清償借款等情仍有爭議，並審酌被告之犯罪動機、目的、智識程度、犯罪手段、所產生之危害等一切情狀，量處如主文所示之刑。(四)沒收：1.偽造之「債務清償證明書」，係被告所有，供其為本件犯罪所用之物，應依刑法第38條第1項第2款規定，宣告沒收。2.至「債務清償證明書」上偽造之張蕙讌署押、印文各1枚，業因所附麗之「債務清償證明書」經宣告沒收而一併沒收，自無庸重複為沒收之宣告。3.至偽造之張蕙讌印章1枚，雖未扣案，然無證據證明業已滅失，不問屬於犯人與否，均應依刑法第219條規定，宣告沒收。據上論斷，應依刑事訴訟法第299條第1項前段，刑法第216條、第210條、第38條第1項第2款、第219條，判決如主文。本案經檢察官黃孟珊到庭執行職務。中華民國102年3月14日刑事第十庭審判長法官曾淑娟法官曹惠玲法官廣于霙以上正本證明與原本無異。如不服本判決，應於收受送達後10日內向本院提出上訴書狀，其未敘述上訴之理由者並得於提起上訴後10日內向本院補提理由書（均須按他造當事人之人數附繕本）「切勿逕送上級法院」。書記官古紹霖中華民國102年3月15日附表一\n",
            "Article Index: 250 Distance: 0.28204942\n",
            "Article Text: 一、緣張登閔、潘宥豪均可預見提供自己開設之帳戶、門號供他人使用，他人可能以該帳戶、門號作為掩飾、聯絡貸放款及收取重利等犯罪之工具，竟於不違背渠等本意之情形下，張登閔於民國99年間某日，在高雄市三民區某處，將其中華郵政股份有限公司高雄民強郵局申請開立帳號00000000000000號帳戶（下稱郵局帳戶）之存簿、提款卡及密碼交付自稱「阿龍」之地下錢莊業者；潘宥豪則於99年6月22日後某日，在高雄市鳳山區五甲路與南江街附近，則將所申請之0000000000門號SIM卡交付自稱「阿霖」之地下錢莊業者使用；嗣鄭柳泉於99年9月間某日撥打上開手機門號與上述地下錢莊自稱「林先生」之不詳姓名及年籍之人取得連繫後，該重利集團成員基於乘他人急迫而貸以金錢以取得與原本顯不相當重利之犯意，於99年9月29日，在新北市永和區成功路一段秀朗郵局前，趁鄭柳泉需錢孔急之際，由自稱「林先生」之人，同意借款新台幣（下同）6萬元予鄭柳泉，並約定以30日為1期，需扣除1萬2千元之利息，另要求鄭柳泉提供個人身分證影本以供擔保外，並出示空白借據1紙，由鄭柳泉於借據填寫姓名、連絡地址及連絡之手機門號0000000000（查係97年9月24日向台灣大哥大公司申請），並請鄭柳泉在借據上之甲方欄簽名表示係借款人，另要求鄭柳泉於借據之空白處填寫「陸萬」、「伍萬玖仟」、「歸還貳仟元整，共計30日」等數字，表示鄭柳泉係向在場乙方自稱「林先生」之人（當時借據乙方欄係空白，且鄭柳泉不知借款人為何人，詳後述）借款新臺幣6萬元，鄭柳泉當場並已收取5萬9千元，另於借款30日內，須按日清償2千元意旨，而規避上述重利犯行，而在場「林先生」取得上開鄭柳泉填寫之借據，當場實際交付4萬8千元（借款本金6萬元，扣除利息1萬2千元之餘額）予鄭柳泉後，另提供張登閔前述郵局帳戶，請鄭柳泉其後每日匯款2千元至張登閔帳戶內供地下錢莊業者提領，共計須繳付30日，即以俗稱「日仔會」方式，而向鄭柳泉收取月息為20分之與原本顯不相當之高額利息（張登閔提供上揭郵局帳戶、另潘宥豪提供上揭手機門號供犯罪集團使用，涉犯幫助犯重利罪部分，業經臺灣高雄地方法院以101年度簡字第2654號，分別判處張登閔拘役20日、潘宥豪拘役55日，並均得易科罰金確定，下稱另案）。二、而鄭柳泉於上開時、地，向自稱「林先生」之人借得上開款項後，於借款時間（99年9月29日）之翌日起，陸續使用鄭柳泉個人郵局帳戶，自99年9月30日起至同年10月8日止之9天內，共計轉帳2萬元至重利集團成員使用張登閔所提供之上揭郵局帳戶（其中於99年9月30日轉帳2千元、99年10月1日轉帳4千元、99年10月4日轉帳4千元、99年10月5日轉帳2千元、99年10月6日轉帳2千元、99年10月8日轉帳6千元），嗣鄭柳泉於99年10月8日轉帳最後一筆金額，未能按時繼續繳納借款，且經重利集團不詳成員以電話催討無著後，為藉由上開鄭柳泉出具之空白借據，透過法院核發支付命令，詎洪上正、吳春宏（下稱洪上正2人）與已成年之重利集團不詳成員，明知洪上正2人皆非上揭借據之乙方借款人，竟共同基於變造私文書（上開借據）及行使變造私文書之犯意連絡，明知洪上正2人於97年1月間並未共同借款6萬元予鄭柳泉，且未約定鄭柳泉何時履行債務及違約時如何支付利息，竟於99年10月9日至100年2月18日之某時，在不詳處所，未經鄭柳泉之同意，而在上揭借據之「債務人同意於ＯＯ年ＯＯ月ＯＯ日履行清償義務，逾期未履行，違約利息半年內以年利率百分之十五計算，逾半年以利率百分之十八計算」欄位中，虛偽填載「97年1月31日」作為借貸清償期限，另在上揭借據之左上方處增加「乙方洪上正、吳春宏」之不實事項，而共同變造上揭借據內容，致使洪上正2人成為借據上之乙方債權人，復於100年2月18日之前幾天，由洪上正授權吳春宏持上揭變造後之借據，委請不知情之高雄市前金區大同一路之某代書事務所（臺灣高雄地方法院附近），協助洪上正2人代為製作民事支付命令聲請狀（製作狀紙日期記載100年2月18日）並附送上開變造後之借據，聲請本院民事庭對鄭柳泉核發支付命令（本院收狀日期為100年2月21日），經本院於100年2月22日核發支付命令（案號：100年度司促字第6503號），並於同月25日將該支付命令送達債務人鄭柳泉，已足生損害鄭柳泉借款金額及利息計算之權益，及本院核發支付命令之正確性，嗣鄭柳泉對債權人洪上正2人提出異議，另訴請檢警機關偵辦重利及偽造文書罪嫌，而循線查悉上情。三、案經鄭柳泉訴由新北市政府警察局三峽分局移送臺灣板橋地方法院檢察署檢察官偵查起訴。理由壹、有關證據能力之說明：一、被告洪上正及其辯護人爭執部分：(一)證人鄭柳泉於偵查中向檢察官所為陳述之證據能力：按被告以外之人於偵查中向檢察官所為之陳述，除顯有不可信之情況者外，得為證據，刑事訴訟法第159條之1第2項定有明文。查證人鄭柳泉於下述偵查中，係向檢察官說明本件於上開時、地如何借款、還款，及收受被告洪上正、鄭柳泉（下稱被告2人）聲請本院核發上揭支付命令後，如何處理之情形；證人陳述過程均經全程錄影，未見違法取供及外力干擾情事，就偵查筆錄製作之原因、過程及其功能等加以觀察其信用性（最高法院96年台上字第3070號判決參照），並無顯不可信之情況；況證人鄭柳泉於本院審判中，亦經被告2人之辯護人進行詰問，而給予被告2人行使對質詰問權之機會。是上開證人鄭柳泉於偵查中向檢察官所為之陳述，應認有證據能力。(二)證人鄭柳泉於警詢時所為陳述之證據能力：按被告以外之人於檢察事務官、司法警察官或司法警察調查中所為之陳述，與審判中不符時，其先前之陳述具有較可信之特別情況，且為證明犯罪事實存否所必要者，得為證據，刑事訴訟法第159條之2定有明文。查證人鄭柳泉於本院審理中就上開重利集團成員是否使用上揭「0000000000」門號，表示要看一下等詞（見本院卷第116頁反面），出現陳述簡略之情形，而與警詢所述「我記得地下錢莊聯絡電話是0000000000」之實質內容不符（見100年度偵字第20312號卷〔下稱偵卷〕第4頁反面警詢筆錄）。惟審酌證人鄭柳泉於警詢提供重利集團成員使用之聯絡電話，即上述另案被告潘宥豪於上開時、地提供地下錢莊業者使用之門號，證人警詢所述具有特別可信之外部情況，且證人於警詢所言，為證明本件被告如何與重利集團成員聯繫之經過，為證明犯罪事實之存否所必要者，應認證人鄭柳泉於警詢之陳述，具有證據能力。二、本判決以下所引用各項證據之證據能力，除上述部分外，其餘部分檢察官、被告及其辯護人於本院準備程序中，均未爭執（見本院卷第103、118頁），且於本院言詞辯論終結前，對於卷附具有傳聞證據性質之證據，既均已知其情，均未聲明異議，本院認該具有傳聞證據性質之證據，並無任何違法取證之不適當情形，以之作為證據使用係屬適當，且被告未曾提及檢察官在偵查時，有任何不法取供之情形，且客觀上並無顯不可信之情況；綜上，依刑事訴訟法第159條至第159條之5之規定，本件認定事實所引用之以下卷證所有之證據資料，核均有證據能力。貳、本院得心證之理由：一、訊據被告2人坦承於前揭時、地，共同委請上開代書事務所製作民事支付命令聲請狀，並附送上開告訴人鄭柳泉簽名之借據，而聲請本院對鄭柳泉核發上開支付命令之事實，惟均矢口否認上開犯行，被告2人並於本院101年5月8日準備程序中，分別辯稱如下：(一)被告洪上正辯稱：我當初借6萬元給綽號「昌仔」（台語)之朋友卓坤鈿，「昌仔」把錢轉交給鄭柳泉，我交錢給「昌仔」的時候，告訴人鄭柳泉就在旁邊，但時間已久，我不太確定，借據是我把6萬元交給「昌仔」的時候，「昌仔」給我的借據，「昌仔」向我借6萬元，其中3萬元是我另向吳春宏借的，我當初借錢給「昌仔」，「昌仔」給我的借據上面，就有寫告訴人鄭柳泉的名字，本件事實上我有借這筆錢出去，所以我要討回這6萬元，借據上面乙方記載洪上正、吳春宏是我授權給吳春宏寫的，借據上面乙方原本空白，告訴人鄭柳泉當時也在場，告訴人有授權我可以在乙方上面填寫我或「昌仔」的名字，所以後來我就授權吳春宏寫上乙方的名字，「昌仔」是72年次，本件我是借錢給「昌仔」，「昌仔」再把錢交給告訴人，因為告訴人和我也不熟，當初我不是要借錢給告訴人，告訴人和「昌仔」的借貸關係如何我也不清楚，但是當時告訴人知道這筆錢有我和「昌仔」的權利，所以借據上面乙方才會空白，我有授權吳春宏在借據上面填寫日期97年1月31日的日期及乙方名字，因為我借錢給「昌仔」的時間也差不多是97年1月31日左右，借據上面鄭柳泉向「昌仔」借款的時間也大約在97年1月31日左右，借款的地點是在新北市中和區的員山路與中山路附近，我們在路邊停留約5分鐘，我把6萬元交給「昌仔」之後就走了，當時沒有和「昌仔」約定利息，因為純粹是朋友幫忙而已，「昌仔」說差不多2、3個月後，就是過一陣子就會還錢，但是沒有說確切的時間云云（本院卷第33頁反面至第34頁反面）。(二)被告吳春宏辯稱：起訴書所載的與事實不符，洪上正於97年初在高雄市瑞豐夜市附近的咖啡店向我借3萬元，我於100年1月間向洪上正要這筆錢時，洪上正有跟我說這筆錢是借給別的朋友，但是朋友沒有還錢給他，而洪上正也沒有能力還錢給我，洪上正說他朋友有寫借據，我提議就說要走法律途徑，所以就送支付命令，借據上面的日期、名字，是洪上正授權填寫乙方洪上正、吳春宏的名字，因為洪上正說這筆錢有借給朋友，朋有沒有還給他，偵查中我說不是我寫的，是因為我以為檢察官問我整張借據是否我寫的，我才說不是我寫的，事實上借據上只有「97年1月31日」的字樣及乙方「洪上正、吳春宏」的名字是我寫的，借據上面97年1月31日的借款日期也是洪上正授權我寫的，本件告訴人鄭柳泉我不認識云云（本院卷第34頁正、反面）。二、經查：(一)上開事實，業據證人即告訴人鄭柳泉於100年3月10日警詢時、100年10月24日及100年11月16日檢察官偵查中與本院101年11月28日審理時證述甚詳且互核相符（見偵卷第4、5頁警詢筆錄，偵卷第91、92、117、118、123頁偵訊筆錄，本院卷第113頁反面至117頁反面審判筆錄）；復有上開借據影本、民事支付命令聲請狀、本院100年度司促字第6503號支付命令各1份在卷可稽（見調取之卷附本院100年度司促字第6503號民事卷宗）。是本件告訴人之指訴，顯非無據。(二)又告訴人指訴其於99年9月間某日，撥打另案被告潘宥豪提供重利集團使用之上揭手機門號與重利集團不詳成員取得連繫，而重利集團成員「林先生」於99年9月29日，在新北市永和區成功路一段秀朗郵局前，要求告訴人提供個人身分證影本以供擔保外，「林先生」並出示空白借據1紙，由告訴人於借據上填寫姓名，並留下連絡地址及手機門號，而在場之「林先生」取得告訴人填寫之借據，當場實際交付4萬8千元（借款本金6萬元，扣除利息1萬2千元之餘額）予告訴人後，另提供張登閔前述郵局帳戶，請告訴人其後每日匯款2千元至張登閔帳戶清償餘款，告訴人即於借款時（99年9月29日）之翌日起，陸續使用告訴人個人郵局帳戶，自99年9月30日起至同年10月8日止之9天內，共計轉帳2萬元至張登閔所提供之上揭郵局帳戶（其中於99年9月30日轉帳2千元、99年10月1日轉帳4千元、99年10月4日轉帳4千元、99年10月5日轉帳2千元、99年10月6日轉帳2千元、99年10月8日轉帳6千元）等情，亦核與證人張登閔於警詢及偵查中之證述情節相符（見偵卷第6-8、75-77頁張登閔警詢及偵訊筆錄），復有卷附告訴人郵局存摺內頁影本（偵卷第25、26頁）及張登閔使用高雄民強郵局帳號0000000-0000000號帳戶之申請資料及99年9月至10月之交易明細表之郵局存簿轉帳資料在卷可資佐證（偵卷第36-38頁）。此外，另案被告張登閔提供上揭郵局帳戶、與另案被告潘宥豪提供上揭手機門號供犯罪集團使用，張登閔、潘宥豪二人涉犯幫助犯重利犯行部分，並經臺灣高雄地方法院以101年度簡字第2654號，分別判處張登閔拘役20日、潘宥豪拘役55日，並均得易科罰金確定等情，亦有該院判決正本附卷可參（見本院卷第52、53頁），亦均足以補強告訴人上揭證述之真實性。(三)至證人卓坤鈿於101年10月3日本院審理中雖到庭證稱：我認識在庭之告訴人鄭柳泉，因為之前上來臺北工作的時候，工作不穩定，看報紙小廣告，有小額借錢，才認識他，我跟告訴人有金錢往來關係，有跟他借過錢，借過好幾次，後來他有跟我調錢，他跟我借6萬元，金錢來源是向洪上正借的，我們約在中和圓山路那邊交錢，時間大概97年年初，因為時間已久，確實時間不太記得，當時我跟洪上正借錢的時候，他說借我3萬，如果多的話，他還要另外跟別人借，當天交錢的時候，我們是約在中和圓山路那邊，洪上正當面先交給我6萬元，我再交給告訴人，告訴人他有拿一張借據給我，借據上面有些是空白，因為我的錢是跟別人借的，所以債權人欄名字沒有寫，將來還錢的時候，才知道錢怎麼還、跟誰借的，因為這條錢是我向洪上正借的，不可能寫我的名字，當初履行的日期，都沒有寫，因為告訴人說一個月內會還給我們，告訴人有授權我們自己寫上債權人的姓名，當初不填寫我的名字，而授權我去填的理由，因為我跟洪上正借錢，到時候如果想要還的時候，就寫洪上正的名字，還給洪上正就好，這張借據後來我就交給洪上正，我認識一位張登閔，他認識告訴人，因為我們的錢都是匯張登閔這個戶頭，之前我有跟告訴人借款，告訴人說我只要把每天要還的錢匯到張登閔這個戶頭，當時利息沒有說怎麼算，都沒有談，說一個月還的時候，再算利息，今天要來作證的事情，是101年9月18日左右，洪上正跟我聯絡說今天要來幫他開庭作證一下，說是當時借錢的事情，今天來作證的事情，他打電話跟我講的，他打我的電話是0000000000，洪上正的電話0000000000，洪上正會知道我的電話，我們本來有失去聯絡過，後來是透過朋友聯絡到的，我這支電話號碼，他是透過朋友知道的，洪上正9月18日打電話給我時，告訴我作證的內容就是借錢的事情，當時洪上正跟我講，大概96年底97年初那時候我在臺北工作跟他借6萬的那條錢的事，是借給告訴人鄭柳泉的，他說現在是在開庭，需要我出來作證一下，因為這個也是透過我的關係，才會有這個借據關係，當時借錢的這張借據，我是直接交給洪上正保管，告訴人向我借6萬元，當初沒有講到利息，告訴人說到時候會給我分紅的意思，我當時向洪上正借錢，也沒有講到利息云云（見本院卷第90頁正面至98頁反面）。惟查：１、證人即告訴人鄭柳泉業於本院審理時證稱：我於99年9月29日下午在永和市成功路秀朗郵局前面，向地下錢莊借錢，是一位林先生送錢來給我，我就簽了一張借據，內容是6萬元本金，我有在借據上面簽名，借據上面大寫金額陸萬元是我寫的，實際拿到多少現金沒有寫，借據上面也沒有約定利息，借錢給我的不是在庭的被告洪上正、吳春宏，當時借錢，只有我跟林先生二個人而已，也不是上次來作證的卓坤鈿等語（見本院卷第114頁）。參以證人卓坤鈿於本院審理時證稱本件係被告洪上正於100年9月18日打電話給伊時，並告訴伊應出庭作證何事，是證人卓坤鈿之上揭證述是否可採，已非無疑？２、另就卷附告訴人出具之借據觀之，借據上面係由告訴人親自填寫姓名、連絡地址及連絡之手機門號「0000000000」；次查該手機門號係告訴人於97年4月24日向台灣大哥大公司申請一節，有「台灣大哥大資料查詢」1紙在卷可資佐證（見偵卷第128頁）。本件告訴人於被告洪上正持有之借據上面所留下連絡之手機門號「0000000000」既係97年4月24日始向電信公司申請，衡諸經驗法則，告訴人於97年4月24日之前顯然不可能使用此手機門號；是本件告訴人之借款時間，至少應係97年4月24日以後甚明，又告訴人借款後，曾陸續使用告訴人個人郵局帳戶，自99年9月30日起至同年10月8日止之9天內，共計轉帳2萬元至重利集團成員使用張登閔所提供之上揭郵局帳戶，已如前述；是本件告訴人借款時間、地點及對象，應係告訴人指稱於99年9月29日下午在永和市成功路秀朗郵局前面，向地下錢莊之「林先生」借款甚明。綜上，本件證人卓坤鈿於本院審理中所言，顯係被告洪上正臨訟指導之不實證述，自無從為被告2人有利之認定。(四)另查被告吳春宏於100年11月28日本院審理時供稱：本院調取100年度司促字第6503號卷附民事支付命令聲請狀上面具狀人洪上正、吳春宏的印章，是洪上正拿給我的印章，由我蓋上去的，我的印章是我自己蓋上去，聲請狀是找高雄法院大同一路附近的代書事務所，請人代書，我去代書事務所，他們打好書狀，我拿給洪上正看，洪上正看完之後，拿印章給我，我再把印章蓋上去，洪上正的印章，我蓋完之後就還給洪上正，我的印章還在我自己這裡，蓋章時間大概是100年2月18日的前幾天，應該也在2月間，日期我忘記了等語；核與被告洪上正同日於本院審理時之供述內容相符（見本院卷第120頁正、反面被告2人審判筆錄）。又本件告訴人指稱其於99年9月29日向重利集團借錢，並在重利集團成員「林先生」出示空白借據上面填寫金額陸萬元，且借據上面沒有約定利息，且被告2人借錢當時皆未在場，已如前述。是被告2人明知其等均非上揭借據之乙方借款人，且其等於97年1月間皆未共同借款6萬元予告訴人，且未約定告訴人何時履行債務及違約時如何支付利息，竟於99年10月9日至100年2月18日之某時，在不詳處所，未經告訴人之同意，而在上揭借據之「債務人同意於ＯＯ年ＯＯ月ＯＯ日履行清償義務，逾期未履行，違約利息半年內以年利率百分之十五計算，逾半年以利率百分之十八計算」欄位中，虛偽填載「97年1月31日」作為借貸清償期限，另在上揭借據之左上方處增加「乙方洪上正、吳春宏」之不實事項，而共同變造上揭借據內容，致使被告2人成為借據上之乙方債權人，復於100年2月18日之前幾天，由被告洪上正授權被告吳春宏持上揭變造後之借據，委請不知情上開代書事務所人員，協助被告2人代為製作上揭民事支付命令聲請狀（製作狀紙日期記載100年2月18日）並附送上開變造後之借據，聲請本院民事庭對告訴人核發支付命令（本院收狀日期為100年2月21日），被告2人就上揭行使變造借據犯行，均有犯意聯絡及行為分擔甚明。三、綜上所述，被告2人上開所辯，要係圖卸刑責之詞，自不足採。本件事證明確，被告2人上揭犯行均堪認定，皆應予依法論科。參、論罪及科刑：核被告洪上正、吳春宏所為，均係犯刑法第216條、第210條之行使變造私文書罪。而被告2人變造私文書之低度行為，應為行使變造私文書之高度行為所吸收，均不另論罪。又被告2人與已成年之重利集團不詳成員間，就上開行使變造私文書犯行，均有犯意聯絡及行為分擔，皆應論以共同正犯。爰審酌被告2人為協助重利集團向告訴人催討借款，竟共同持上開變造之不實借據及民事支付命令聲請狀，聲請本院民事庭對告訴人核發支付命令，影響本院核發支付命令之正確性及司法機關公信力，並損及告訴人實際借款金額及利息計算之權益；兼衡被告2人於偵、審期間，猶飾詞卸責、不知悔改，犯後態度不佳，本院因此認為被告2人固無據實陳述之義務，然其等顯然缺乏為自己行為負責之觀念；惟考量被告2人並無前科，另參酌被告洪上正為脫免罪責，竟臨訟指導證人卓坤鈿為上揭不實證述，亦有可議等一切情狀，爰量處被告2人如主文所示之刑，並諭知易科罰金之折算標準，以資懲儆。肆、告發偽證部分：審酌證人卓坤鈿於101年10月3日本院審理中供前具結（證人結文見本院卷第104頁），應據實證言，卻對於案情有重要關係之事項，即本件告訴人何時借款、借款地點、借款實際收受金額、約定利息、當時被告洪上正是否在場等情，涉嫌故為虛偽陳述，企圖影響本案審判之正確行使，嚴重妨害司法公正，此部分另由本院依法函送告發證人卓坤鈿偽證罪嫌，併予指明。伍、據上論結，應依刑事訴訟法第第299條第1項前段，刑法第28條、第216條、第210條、第41條第1項前段，判決如主文。本案經檢察官張慶林到庭執行職務。中華民國101年12月19日刑事第十四庭審判長法官蘇揚旭法官林正忠法官周宛蘭上列正本證明與原本無異。如不服本判決，應於判決送達後10日內敘明上訴理由，向本院提出上訴狀(應附繕本)，上訴於臺灣高等法院。其未敘述上訴理由者，應於上訴期間屆滿後20日內向本院補提理由書「切勿逕送上級法院」。書記官黃頌棻中華民國101年12月19日附錄本案論罪科刑法條全文：中華民國刑法第210條偽造、變造私文書，足以生損害於公眾或他人者，處5年以下有期徒刑。中華民國刑法第216條行使第210條至第215條之文書者，依偽造、變造文書或登載不實事項或使登載不實事項之規定處斷。\n",
            "Article Index: 137 Distance: 0.2864439\n",
            "Article Text: 一、潘平妹自民國107年3月5日起，將位於臺東縣○○市○○路0段000巷00號未辦理保存登記之房屋（下稱系爭房屋）出租予楊炳泉。嗣潘平妹之外甥女林玉佩認系爭房屋乃多人共有，遂於107年間向本院民事簡易庭對楊炳泉提出遷讓房屋之訴（下稱系爭訴訟），請求楊炳泉返還系爭房屋予全體共有人。楊炳泉旋即向潘平妹告知有系爭訴訟，詎潘平妹為繼續獨自保有系爭房屋之租金利益，在未告知楊炳泉欲替其刻製印章並撰寫答辯狀之情形下，竟便宜行事，明知未取得楊炳泉同意或授權，竟基於行使偽造私文書之犯意，於107年10月15日前之同年10月間某日，先委由不知情之成年刻印店人員偽刻楊炳泉之印章1顆，再於107年10月15日蓋用於其委由高雄地區之姓名年籍不詳之不知情朱姓友人製作之「民事聲請暨答辯狀」（下稱民事答辯狀）私文書之具狀人欄（共1枚），用以表示該民事答辯狀係楊炳泉書立之意，並郵寄提出於本院而行使之，經本院於同年10月16日收文，足以生損害於楊炳泉及司法機關裁判之正確性。二、案經本院法官依職權告發由臺灣臺東地方檢察署檢察官偵查起訴。理由壹、證據能力部分一、按被告以外之人於審判外之言詞或書面陳述，除法律有規定者外，不得作為證據。惟被告以外之人於檢察事務官、司法警察官或司法警察調查中所為之陳述，與審判中不符時，其先前之陳述具有較可信之特別情況，且為證明犯罪事實存否所必要者，得為證據，刑事訴訟法第159條第1項、第159條之2分別定有明文。是被告以外之人於檢察事務官、司法警察調查時所為之陳述，屬傳聞證據，倘被告否認其證據能力，如先前之陳述與審判中不符，而具備「可信性」及「必要性」二要件，方例外認有證據能力，而得採為證據。查本件被告潘平妹爭執證人即被害人楊炳泉於檢察事務官前證述之證據能力（見本院卷第48頁），而證人楊炳泉於檢察事務官前之陳述，核與審判中之證述尚無歧異，並未具備其他較可信之特別情況，復非證明犯罪事實存否所必要，依前揭規定及說明，應認此陳述不具傳聞例外，不得作為證明本案犯罪事實成立與否之證據，應以其於審判中所述作為證據，其於檢察事務官前之證述無證據能力。二、本判決書所引用之其他證據（詳如後述），公訴人及被告均同意作為證據，本院審酌該言詞或書面陳述作成時之情況均正常，且與本案相關之待證事實具有關連性，認適當作證據，依刑事訴訟法第159條之5第1項之規定，認上開陳述均具有證據能力。貳、實體部分一、訊據被告固不否認有刻印被害人楊炳泉之印章，再蓋用於其委由朱姓友人撰寫之民事答辯狀後，提出於本院，惟矢口否認有何行使偽造文書犯行，辯稱：伊跟楊炳泉聯絡叫他把收到的法院資料寄給伊，伊會幫他處理，但必須也寄1顆印章過來，楊炳泉說不必，要伊自己在高雄刻1個印章就好，所以伊才去刻章，也有請朱姓友人跟楊炳泉聯絡，後來朱姓友人寫好民事答辯狀時有找伊看一下，伊說可以後，民事答辯狀就同時寄給法院也寄給楊炳泉，因此本件刻印章及找人撰寫答辯狀均是經過楊炳泉同意，若未經過其同意，伊不會自掏腰包花新臺幣（下同）2、3千元請朱姓友人寫民事答辯狀等語。二、經查：（一）以下事實有下列證據可證，首堪認定：１、被告自107年3月5日起，將系爭房屋出租予被害人，租期5年，租金每月新臺幣（下同）2,700元乙節，據被告及被害人陳明在卷，並有租賃契約書影本1份（見臺灣臺東地方檢察署108年度他字第69號卷，下稱他字卷，第7至8頁反面）在卷可查。２、嗣被告之外甥女林玉佩認系爭房屋乃多人共有，遂於107年間向本院對被害人提出系爭訴訟，請求被害人返還系爭房屋予全體共有人，由本院民事庭以107年度東簡字第186號審理中，本院嗣於107年10月16日收受以被害人名義製作之民事答辯狀，其上具狀人「楊炳泉」姓名以電腦繕打，並蓋有楊炳泉印文1個，內容並請求承審法官傳訊被告到庭作證；承審法官於同年11月15日傳訊林玉珮、被害人及被告到庭審理，發現被害人對前開民事答辯狀完全不知情，被告則表示民事答辯狀是其製作及蓋印，承審法官乃依職權告發被告等情，有本院108年1月14日東院義民強107東簡186字第1080000876號函、民事答辯狀、本院107年11月15日言詞辯論筆錄各1份（見他字卷第1至6頁、第11至17頁）在卷可稽，以上事實，均堪認定。（二）本件被害人並未授權被告刻印及以其名義撰寫民事答辯狀提出於法院乙節，業據被害人於107年11月15日民事庭時於承審法官面前證述：「（【提示民事答辯狀】，是否你所寫？）【閱後】我沒有寫狀子，不知道誰寫的」、「我收到開庭通知，我有跟潘平妹討論，但是我沒有叫潘平妹幫我寫狀及蓋章」等語具體明確（見他字卷第12頁反面、第13頁反面）。嗣本院於108年10月21日審理時，被害人仍具結證稱：伊沒有請被告幫伊寫訴狀，被告要伊告訴她關於她姪女告伊的事，要伊將資料傳真給她，伊才傳真給她，被告雖有請一位朱先生聯繫伊，伊當時以為是律師，但伊以為他們只是要瞭解情形，並沒有想到是要幫伊寫答辯狀，且不論是被告或朱先生，都沒有跟伊提到要幫伊刻印章及寫狀紙的事，伊在今年3月就搬遷房屋了等語綦詳（見院卷第63至65頁）明確。核其前後證述內容一致，並無矛盾，且審酌上開民事答辯狀內容乃一般之答辯狀，縱認係被害人提出，其亦無因此涉及不法或自身不利之情形，實無冒偽證風險虛偽證述之必要，況被害人與被告並無恩怨，據被告自承在卷（見院卷第67頁），被害人尚且於審理中表示：其並無提告追究被告之意，被告人很好，伊不希望她被關，伊今天陳述的都是依據事實等語（見院卷第65頁），益證被害人並無設詞誣陷被告之動機，應認其證詞具有高度可信性。（三）被告雖以前詞置辯，惟查：１、被告於107年11月15日民事庭聽聞被害人向承審法官表示對該民事答辯狀完全不知情時，其即供承：「這個狀子是我從高雄寄過來的」、「狀子是我自己寫的，都是我自己用的，被告章也是我蓋的」等語（見他字卷第12頁反面、第13頁反面）明確，亦即坦承均係其個人所為，未有任何當場質問被害人或澄清是事先經被害人同意之辯詞，顯見被害人前揭關於被告未經其同意而擅自刻印撰狀等證述非虛，被告嗣後經法官告發而被檢察官列為被告偵查時，始改口辯稱均有經被害人同意等語，恐係臨訟卸責之詞，難以採信。２、且被告就被害人同意其刻印之辯詞，於偵查時原係辯稱：「（問：你有拿楊炳泉的印章給朱姓朋友？）楊炳泉交代朱姓朋友在高雄自己刻章，才不會麻煩」、「（問：狀紙上面楊炳泉的印文是何人蓋印？）朱姓朋友」等語（見臺灣臺東地方檢察署108年度交查字第126號卷第9頁）；嗣於本院審理時，又改口辯稱：伊聯繫被害人寄資料過來時，有請他順便寄1顆印章過來，但被害人說不必，叫伊在高雄刻就好，所以伊才去刻印章，再交給朱姓友人，這顆印章目前在伊高雄的家，1顆50元等語（見院卷第67頁正反面）。核其就被害人授權刻印之辯詞，在偵查中係辯稱被害人直接授權朱姓友人為之，於審理中則稱係被害人授權其為之，再由其將刻好之印章交予朱姓友人，前後矛盾不一，是否確有授權刻印乙事，實屬有疑。３、被告雖又辯稱系爭民事答辯狀於寄予法院同時，亦有寄予被害人，並提出交寄日期為107年10月15日、收件人係被害人之掛號郵件查單1份（見院卷第36頁）為證。惟查，該民事答辯狀僅被告看過即決定提出予法院，並未事先交予被害人看過，僅係寄送予法院之同時亦寄發1份予被害人讓其知悉此事乙節，從被告於審理時供稱：「（問：朱姓友人寄給楊炳泉的文件，是先寄給法院？還是先給你，你等楊炳泉看過沒問題才寄給法院？）我有先看過民事答辯狀，我就稍微看一下就說可以，朱姓友人就說把書狀寄給楊炳泉並同時寄給法院。」、「（問：如果都已經寄給法院，寄給楊炳泉還有什麼意義嗎？）還是要讓楊炳泉知道有這件事情。」等語（見院卷第67頁正反面）即可觀之甚明，亦即本件寄予被害人僅係事後通知性質，至多僅能證明被告主觀上判斷被害人事後縱知悉其擅為之事，亦不至於會有所反對之情，無以證明被害人有事先授權被告刻印及撰狀提出法院，是此部分證據尚難為被告有利之認定。４、至於被告辯稱若未經被害人同意，其何須自費花2、3千元請人撰狀等語。惟查，上開民事訴訟之被告雖係被害人，然若被害人被判決須遷讓房屋，則本件被告每月2,700元之租金收益即難繼續享有，甚且進一步影響到系爭房屋之產權究係被告個人或與其他人共有之認定，對被告之權益影響甚大，是其願付費撰狀請法院傳訊其到庭作證乃情理之中，尚難以此遽認係經被害人授權為之，此部分所辯，亦不足採。（四）縱上所述，被告所辯各節，顯係卸責之詞，不足採信，應以被害人之證詞始為真實可信，本件被告有事實欄一所載之行使偽造私文書犯行，已可認定，本件事證明確，應依法論科。三、論罪科刑（一）核被告所為，係犯刑法第216條、第210條之行使偽造私文書罪。被告偽刻被害人印章及偽造印文之行為，為其偽造私文書之階段行為；其偽造私文書後進而持以行使，其偽造私文書之低度行為，應為行使之高度行為所吸收，均不另論罪。被告利用不知情之朱姓友人遂行其上揭行使偽造私文書犯行，為間接正犯。（二）審酌被告為保有租金利益，竟便宜行事，明知未取得被害人同意或授權，即擅自對本院為前揭行使偽造私文書之行為，除有害於被害人權益外，亦對司法機關裁判之正確性產生影響，且犯後仍矢口否認犯行，甚為不該，應予非難。惟念及被告未曾因偽造文書而被起訴判刑之情形，此次乃因便宜行事，一時失慮，未事先取得被害人同意而擅為本件犯行，對於有刻製被害人印章及委撰民事答辯狀並提出於本院之客觀事實，尚能據實陳述之犯後態度，已73歲高齡，兼衡本件所生損害、被害人不欲提出告訴及被告自陳小學畢業之教育程度、離婚獨居，目前倚靠每月約3千元之老人年金生活，毋須扶養任何人等一切情狀，量處如主文所示之刑，並諭知易科罰金之折算標準，以資處罰。（三）被告偽造之被害人名義印章1顆，雖未扣案，然被告供稱放在家中如前所述，足證尚未滅失，應併同附表所示偽造被害人名義之印文1枚，均依刑法第219條規定宣告沒收。至於被告偽造之民事答辯狀私文書，業已交付本院前揭民事案件附卷，已非被告所有之物，無從依刑法第38條第2項宣告沒收，附此敘明。據上論斷，應依刑事訴訟法第299條第1項前段，刑法第216條、第210條、第41條第1項前段、第219條，判決如主文。本案經檢察官於盼盼提起公訴、檢察官謝慧中到庭執行職務。中華民國108年11月18日刑事第一庭審判長法官邱奕智法官蔡政晏法官王麗芳以上正本證明與原本無異。如不服本判決應於收受送達後10日內向本院提出上訴書狀，並應敘述具體理由；其未敘述上訴理由者，應於上訴期間屆滿後20日內向本院補提理由書（均須按他造當事人之人數附繕本）。「切勿逕送上級法院」告訴人或被害人對於本判決如有不服，請書具不服之理由狀，請求檢察官上訴，其上訴期間之計算係以檢察官收受判決正本之日期為準。書記官許惠棋中華民國108年11月20日中華民國刑法第210條（偽造變造私文書罪）偽造、變造私文書，足以生損害於公眾或他人者，處5年以下有期徒刑。中華民國刑法第216條（行使偽造變造或登載不實之文書罪）行使第210條至第215條之文書者，依偽造、變造文書或登載不實事項或使登載不實事項之規定處斷。附表\n"
          ]
        }
      ]
    },
    {
      "cell_type": "markdown",
      "source": [
        "### 使用全部test facts在train facts中尋找最相近的五篇facts並計算預測刑期"
      ],
      "metadata": {
        "id": "e_i3YUOgu2ac"
      }
    },
    {
      "cell_type": "code",
      "source": [
        "predicted_sentences_all = []\n",
        "\n",
        "for test_embedding in test_embeddings:\n",
        "    test_embedding = test_embedding.reshape(1, -1)\n",
        "    distances, indices = knn_model_SBERT_loaded.kneighbors(test_embedding)\n",
        "    # 取得最相近的五篇文章的索引及距離\n",
        "    nearest_articles_indices = indices[0]\n",
        "    nearest_articles_distances = distances[0]\n",
        "    predicted_sentences = 0\n",
        "    # 將最相近的五篇文章的刑期加總，並計算平均值作為預測刑期\n",
        "    for i, index in enumerate(nearest_articles_indices):\n",
        "        predicted_sentences += train_sentences[index]\n",
        "    predicted_sentence = float(predicted_sentences) / 5\n",
        "\n",
        "    predicted_sentences_all.append(predicted_sentence)\n",
        "\n"
      ],
      "metadata": {
        "id": "eyyDSQI4xb47"
      },
      "execution_count": 93,
      "outputs": []
    },
    {
      "cell_type": "code",
      "source": [
        "print(predicted_sentences_all)\n",
        "print(test_sentences)"
      ],
      "metadata": {
        "id": "lanj0IUryFvQ",
        "colab": {
          "base_uri": "https://localhost:8080/"
        },
        "outputId": "4c0a9124-ed18-4386-9788-6b014265fcae"
      },
      "execution_count": 94,
      "outputs": [
        {
          "output_type": "stream",
          "name": "stdout",
          "text": [
            "[111.0, 102.0, 144.0, 100.0, 162.0, 308.0, 180.0, 265.0, 156.0, 211.0, 186.0, 193.0, 132.0, 126.0, 214.0, 138.0, 289.0, 150.0, 203.0, 185.0, 205.0, 138.0, 314.0, 149.0, 100.0, 107.0, 180.4, 136.0, 138.0, 97.6, 126.0, 121.0, 214.6, 211.0, 156.0, 139.6, 113.0, 240.0, 138.0, 138.0, 100.0, 231.0, 144.0, 241.0, 162.0, 235.0, 332.0, 114.0, 88.0, 186.0, 313.2, 108.0, 173.0, 211.0, 93.0, 151.0, 365.2, 126.0, 174.4, 176.0, 99.0, 148.0, 105.0, 108.0, 136.0, 170.0, 290.0, 150.0, 202.0, 156.0, 116.0, 141.0, 156.0, 175.0, 84.0, 283.4, 150.0, 170.0, 126.0, 153.0, 166.0, 95.4, 156.0, 301.0, 227.0, 165.0, 102.0, 165.0, 187.0, 162.0, 175.0, 132.0, 101.0, 356.0, 187.0, 402.2, 174.0, 120.0, 146.0, 125.0]\n",
            "[150, 242, 60, 302, 365, 150, 90, 120, 120, 180, 120, 90, 120, 90, 90, 90, 180, 270, 425, 50, 150, 90, 365, 195, 150, 50, 345, 150, 150, 90, 425, 135, 120, 240, 20, 240, 60, 120, 60, 150, 90, 240, 365, 210, 150, 120, 32, 150, 505, 90, 90, 120, 120, 120, 165, 180, 302, 90, 120, 730, 240, 40, 180, 90, 90, 180, 150, 450, 240, 240, 120, 120, 120, 120, 165, 150, 180, 90, 60, 120, 60, 820, 180, 90, 120, 120, 240, 180, 120, 90, 270, 195, 90, 180, 150, 120, 120, 150, 180, 180]\n"
          ]
        }
      ]
    },
    {
      "cell_type": "code",
      "source": [
        "from sklearn.metrics import mean_squared_error, mean_absolute_error"
      ],
      "metadata": {
        "id": "l0x-782r8NvT"
      },
      "execution_count": 95,
      "outputs": []
    },
    {
      "cell_type": "code",
      "source": [
        "mse_linear = mean_squared_error(test_sentences, predicted_sentences_all)\n",
        "rmse_linear = mean_squared_error(test_sentences, predicted_sentences_all, squared=False)\n",
        "mae_linear = mean_absolute_error(test_sentences, predicted_sentences_all)"
      ],
      "metadata": {
        "id": "uuI2-NxR8RFL"
      },
      "execution_count": 96,
      "outputs": []
    },
    {
      "cell_type": "code",
      "source": [
        "print('\\n==================================================')\n",
        "print(\"Linear Regression - MSE:\", mse_linear)\n",
        "print(\"Linear Regression - RMSE:\", rmse_linear)\n",
        "print(\"Linear Regression - MAE:\", mae_linear)"
      ],
      "metadata": {
        "id": "mgIAo6vDGJQ9",
        "colab": {
          "base_uri": "https://localhost:8080/"
        },
        "outputId": "d787a729-532f-4f34-db04-ffd5fd1387ac"
      },
      "execution_count": 97,
      "outputs": [
        {
          "output_type": "stream",
          "name": "stdout",
          "text": [
            "\n",
            "==================================================\n",
            "Linear Regression - MSE: 21656.706400000003\n",
            "Linear Regression - RMSE: 147.16217720596555\n",
            "Linear Regression - MAE: 98.25200000000001\n"
          ]
        }
      ]
    },
    {
      "cell_type": "markdown",
      "source": [
        "## sparse"
      ],
      "metadata": {
        "id": "Asg7j1pn3E-O"
      }
    },
    {
      "cell_type": "code",
      "source": [
        "output_1 = model.encode(sentences_1, return_dense=True, return_sparse=True, return_colbert_vecs=False)\n",
        "output_2 = model.encode(sentences_2, return_dense=True, return_sparse=True, return_colbert_vecs=False)\n",
        "\n",
        "# you can see the weight for each token:\n",
        "print(model.convert_id_to_token(output_1['lexical_weights']))\n",
        "# [{'What': 0.08356, 'is': 0.0814, 'B': 0.1296, 'GE': 0.252, 'M': 0.1702, '3': 0.2695, '?': 0.04092},\n",
        "#  {'De': 0.05005, 'fin': 0.1368, 'ation': 0.04498, 'of': 0.0633, 'BM': 0.2515, '25': 0.3335}]\n",
        "\n",
        "\n",
        "# compute the scores via lexical mathcing\n",
        "lexical_scores = model.compute_lexical_matching_score(output_1['lexical_weights'][0], output_2['lexical_weights'][0])\n",
        "print(lexical_scores)\n",
        "# 0.19554901123046875\n",
        "\n",
        "print(model.compute_lexical_matching_score(output_1['lexical_weights'][0], output_1['lexical_weights'][1]))\n",
        "# 0.0"
      ],
      "metadata": {
        "colab": {
          "base_uri": "https://localhost:8080/"
        },
        "id": "IVIlVxyn2dux",
        "outputId": "b9fea28e-7900-4f72-c969-82b1d866a970"
      },
      "execution_count": null,
      "outputs": [
        {
          "output_type": "stream",
          "name": "stdout",
          "text": [
            "[{'What': 0.08362087, 'is': 0.08146954, 'B': 0.12964633, 'GE': 0.25186998, 'M': 0.1700173, '3': 0.26957878, '?': 0.040755123}, {'De': 0.050144203, 'fin': 0.13689385, 'ation': 0.045134626, 'of': 0.06342198, 'BM': 0.25167608, '25': 0.33353215}]\n",
            "0.19554448779672384\n",
            "0\n"
          ]
        }
      ]
    },
    {
      "cell_type": "code",
      "source": [
        "output_1 = model.encode(tword_1, return_dense=True, return_sparse=True, return_colbert_vecs=False)\n",
        "output_2 = model.encode(tword_2, return_dense=True, return_sparse=True, return_colbert_vecs=False)\n",
        "\n",
        "# you can see the weight for each token:\n",
        "print(model.convert_id_to_token(output_1['lexical_weights']))\n",
        "# [{'What': 0.08356, 'is': 0.0814, 'B': 0.1296, 'GE': 0.252, 'M': 0.1702, '3': 0.2695, '?': 0.04092},\n",
        "#  {'De': 0.05005, 'fin': 0.1368, 'ation': 0.04498, 'of': 0.0633, 'BM': 0.2515, '25': 0.3335}]\n",
        "\n",
        "\n",
        "# compute the scores via lexical mathcing\n",
        "lexical_scores = model.compute_lexical_matching_score(output_1['lexical_weights'][0], output_2['lexical_weights'][0])\n",
        "print(lexical_scores)\n",
        "# 0.19554901123046875\n",
        "\n",
        "print(model.compute_lexical_matching_score(output_1['lexical_weights'][0], output_1['lexical_weights'][1]))\n",
        "# 0.0"
      ],
      "metadata": {
        "colab": {
          "base_uri": "https://localhost:8080/"
        },
        "id": "av7IegqE3HrH",
        "outputId": "37218830-c2bb-4e89-db59-8c9b5b6a9eb7"
      },
      "execution_count": null,
      "outputs": [
        {
          "output_type": "stream",
          "name": "stdout",
          "text": [
            "[{'': 0.06506694, '老師': 0.3252026}, {'': 0.025284417, '商品': 0.3079706}]\n",
            "0.004433418158441782\n",
            "0.0016451796982437372\n"
          ]
        }
      ]
    },
    {
      "cell_type": "code",
      "source": [
        "output_1 = model.encode(sword_1, return_dense=True, return_sparse=True, return_colbert_vecs=False)\n",
        "output_2 = model.encode(sword_2, return_dense=True, return_sparse=True, return_colbert_vecs=False)\n",
        "\n",
        "# you can see the weight for each token:\n",
        "print(model.convert_id_to_token(output_1['lexical_weights']))\n",
        "# [{'What': 0.08356, 'is': 0.0814, 'B': 0.1296, 'GE': 0.252, 'M': 0.1702, '3': 0.2695, '?': 0.04092},\n",
        "#  {'De': 0.05005, 'fin': 0.1368, 'ation': 0.04498, 'of': 0.0633, 'BM': 0.2515, '25': 0.3335}]\n",
        "\n",
        "\n",
        "# compute the scores via lexical mathcing\n",
        "lexical_scores = model.compute_lexical_matching_score(output_1['lexical_weights'][0], output_2['lexical_weights'][0])\n",
        "print(lexical_scores)\n",
        "# 0.19554901123046875\n",
        "\n",
        "print(model.compute_lexical_matching_score(output_1['lexical_weights'][0], output_1['lexical_weights'][1]))\n",
        "# 0.0"
      ],
      "metadata": {
        "colab": {
          "base_uri": "https://localhost:8080/"
        },
        "id": "KFoUs5H84EKp",
        "outputId": "e0ba311f-d72a-4b8c-a1a8-bff4dd54da11"
      },
      "execution_count": null,
      "outputs": [
        {
          "output_type": "stream",
          "name": "stdout",
          "text": [
            "[{'': 0.062333174, '老师': 0.3212393}, {'': 0.025284417, '商品': 0.3079706}]\n",
            "0.0033142215106636286\n",
            "0.0015760579844936728\n"
          ]
        }
      ]
    },
    {
      "cell_type": "code",
      "source": [
        "output_1 = model.encode(sample_1, return_dense=True, return_sparse=True, return_colbert_vecs=False)\n",
        "output_2 = model.encode(sample_2, return_dense=True, return_sparse=True, return_colbert_vecs=False)\n",
        "\n",
        "print(model.convert_id_to_token(output_1['lexical_weights']))\n",
        "\n",
        "# compute the scores via lexical mathcing\n",
        "lexical_scores = model.compute_lexical_matching_score(output_1['lexical_weights'][0], output_2['lexical_weights'][0])\n",
        "print(lexical_scores)\n",
        "\n",
        "print(model.compute_lexical_matching_score(output_1['lexical_weights'][0], output_1['lexical_weights'][1]))"
      ],
      "metadata": {
        "colab": {
          "base_uri": "https://localhost:8080/"
        },
        "id": "DIJQj8i_4Ibd",
        "outputId": "f5fc3b5c-d2ea-4095-8c2a-071fbfa2529a"
      },
      "execution_count": null,
      "outputs": [
        {
          "output_type": "stream",
          "name": "stdout",
          "text": [
            "[{'陳': 0.2521531, '泰': 0.26584157, '龍': 0.30666173, '明': 0.101543695, '知': 0.12975708, '與': 0.14477229, '泰國': 0.22403938, '籍': 0.15496597, '女子': 0.20520654, '玉': 0.18034828, '婉': 0.29982036, '名字': 0.22417226, '為': 0.11855908, 'JAR': 0.15914416, 'U': 0.13418508, 'WAN': 0.17463517, 'W': 0.10995911, 'ONG': 0.16131966, 'P': 0.064036936, 'RAT': 0.15323746, 'OOM': 0.2604087, '涉嫌': 0.13823399, '本': 0.028688367, '案': 0.15687248, '偽': 0.22356482, '造': 0.1684515, '文書': 0.22656986, '部分': 0.04591082, ',': 0.028518757, '另': 0.012671046, '經': 0.02800768, '臺灣': 0.17963552, '臺': 0.20389023, '南': 0.103920385, '地方': 0.008341521, '法院': 0.055076532, '檢察': 0.06869293, '署': 0.028031692, '官': 0.028371364, '通': 0.014324367, '緝': 0.21278569, '中': 0.027402855, ')': 0.02840618, '間': 0.049174845, '並': 0.06908343, '無': 0.14975798, '結婚': 0.25648907, '之': 0.028479552, '真': 0.07777626, '意': 0.12144834, '然': 0.035248004, '因': 0.014868546, '詹': 0.19410798, '巧': 0.1502397, '薇': 0.24541272, '、': 0.028916981, '張': 0.14631973, '晉': 0.21153872, '源': 0.2239037, '等人': 0.028272837, '欲': 0.05720541, '找': 0.07994515, '男子': 0.14985196, '前往': 0.12564874, '辦理': 0.085781895, '假': 0.2262857, '林': 0.15055284, '清水': 0.2317954, '負責': 0.08654226, '介紹': 0.14670461, '予': 0.04619535, '以': 0.028544486, '賺': 0.18662345, '取': 0.028651014, '新': 0.035364732, '幣': 0.12259816, '(': 0.028345343, '下': 0.028132614, '1': 0.00781678, '萬元': 0.18140146, '仲介': 0.19467497, '費': 0.13705276, '適': 0.03107281, '依': 0.028281862, '於': 0.028531253, '報紙': 0.09898991, '上': 0.02854939, '徵': 0.12578589, '人': 0.084621474, '廣告': 0.16398345, '應': 0.026639543, '時': 0.027116917, '由': 0.028077286, '告知': 0.024073653, '方式': 0.060972825, '申請': 0.078226745, '來': 0.028016735, '居': 0.110845976, '留': 0.1493837, '工作': 0.10898485, '若': 0.060423754, '擔任': 0.106909454, '頭': 0.12717777, '老公': 0.20134339, '除': 0.0060303025, '不用': 0.049265727, '負擔': 0.11650196, '食': 0.10702137, '宿': 0.02385724, '機票': 0.13362572, '費用': 0.018443372, '外': 0.02866612, '尚': 0.04296077, '可': 0.028359935, '獲': 0.027660234, '5': 0.12411229, '6': 0.12447505, '報酬': 0.2149525, '允': 0.0031567067, '同意': 0.08829221, '後': 0.02840073, '將': 0.008841723, '轉': 0.071283065, '遂': 0.0005808659, '共同': 0.025011875, '基於': 0.020844687, '行使': 0.03355502, '使': 7.338077e-05, '公務員': 0.19589207, '登': 0.05434966, '載': 0.1205395, '不': 0.13582201, '實': 0.20646572, '公': 0.056972124, '概括': 0.036374643, '犯': 0.10993625, '聯絡': 0.1256278, '先': 0.012116693, '指示': 0.0671327, '93': 0.17136593, '年': 0.028520202, '4': 0.036757223, '月': 0.028556403, '3': 0.032937374, '日': 0.028461354, '7': 0.02339743, '在': 0.028400283, '曼谷': 0.18423404, '市': 0.027866017, '法': 0.042821124, '拉': 0.027781118, '坎': 0.0979092, '農': 0.14683728, '區': 0.028359162, '註冊': 0.038790714, '辦事處': 0.02784393, '登記': 0.13816558, '取得': 0.027459228, '開': 0.0940984, '核': 0.012691807, '發': 0.02867801, '書': 0.02824675, '證書': 0.011203155, '等': 0.028599545, '文件': 0.004343182, '行': 0.020123769, '返': 0.09473123, '同': 0.0011753514, '19': 0.07354301, '持': 0.0116687715, '我國': 0.034553446, '駐': 0.025196806, '臺北': 0.1361648, '經濟': 0.054880947, '文化': 0.028249636, '認證': 0.01481932, '之上': 0.015328888, '永': 0.09132158, '康': 0.14819992, '改': 0.084792525, '制': 0.02858131, '前': 0.02859584, '稱': 0.027794428, '謂': 0.021255609, '以下': 0.016137403, '沿': 0.0012644008, '用': 0.02866162, '舊': 0.04677881, '戶': 0.079867184, '事務所': 0.09780191, '填寫': 0.013576038, '因此': 0.009076357, '政': 0.09963946, '有': 0.028544825, '形式': 0.06334959, '審查': 0.13207749, '權': 0.019039072, '辦': 0.028759612, '陷': 0.07724166, '錯誤': 0.20514177, '審核': 0.009312674, '事項': 0.02727791, '其': 0.013462838, '職務': 0.021561895, '所': 0.028286276, '掌': 0.01979229, '屬': 0.028528713, '資料': 0.023513202, '內': 0.028572934, '據': 0.028636059, '而': 0.027667034, '足以': 0.038650505, '生': 0.028031968, '損害': 0.11140783, '機關': 0.016319841, '對於': 0.013883077, '管理': 0.025100306, '維護': 0.09264368, '正確': 0.120665364}, {'張': 0.2958592, '慶': 0.29006594, '係': 0.24513242, '址': 0.17601268, '設': 0.11982738, '宜蘭縣': 0.2478191, '羅': 0.077315, '東': 0.13214947, '鎮': 0.09549705, '○○': 0.068982854, '路': 0.017009504, '289': 0.122711994, '之': 0.045390014, '7': 0.048596416, '號': 0.04388136, '12': 0.121817395, '樓': 0.107712835, '泰': 0.2424084, '雅': 0.30020142, '工程': 0.16285008, '有限公司': 0.15189078, '(': 0.04564679, '以下': 0.045035858, '簡稱': 0.06464197, '公司': 0.21092272, ')': 0.045534942, '實際': 0.20164774, '負責人': 0.20764701, ',': 0.045642376, '文': 0.1996354, '臺中市': 0.10867308, '區': 0.025926054, '街': 0.033605777, '229': 0.10050419, '九': 0.181671, '顧問': 0.17966405, '工程師': 0.19656825, '承': 0.031555057, '攬': 0.1475382, '政府': 0.10177787, '文化': 0.15017986, '局': 0.103864625, '發': 0.044805408, '包': 0.15520212, '2010': 0.19666469, '宜蘭': 0.22738466, '國際': 0.05520074, '童': 0.17184341, '玩': 0.16601661, '藝術': 0.1249789, '節': 0.15241964, '超級': 0.17754456, 'High': 0.1288547, '-': 0.04550522, 'net': 0.12858582, '體': 0.16652001, '能': 0.068690054, '極': 0.1216811, '限': 0.13681658, '網': 0.14164124, '設施': 0.11844088, '委託': 0.17349172, '監': 0.19719301, '造': 0.04489879, '服務': 0.16619918, '案': 0.088551, '」,': 0.04530714, '為': 0.045463882, '現場': 0.1429486, '工': 0.044933718, '人員': 0.04517269, '吳': 0.17775933, '建': 0.09589498, '忠': 0.22170632, '約': 0.12205048, '聘': 0.1894731, '」': 0.04561426, '招': 0.0567418, '標': 0.16201583, '辦': 0.045214158, '均': 0.044064544, '從事': 0.044533297, '業務': 0.08160342, '人': 0.04506063, '於': 0.045508686, '99': 0.17233433, '年': 0.045406356, '4': 0.048231393, '月': 0.04540555, '間': 0.045475155, '以': 0.045311633, '新': 0.04094957, '臺': 0.06352606, '幣': 0.17734985, '下': 0.045249205, '同': 0.038649082, '1,9': 0.092717804, '35': 0.13500243, '萬元': 0.11313315, '得': 0.04514958, '作': 0.045443103, '「': 0.045527656, '依': 0.045501594, '規定': 0.039852135, '投': 0.06451194, '時': 0.045540705, '根據': 0.045225926, '文件': 0.045120694, '評': 0.06073772, '選': 0.045036055, '須': 0.044517532, '知': 0.045422934, '及': 0.045523603, '效果': 0.044683933, '說明': 0.045166314, '規範': 0.037927303, '要求': 0.045141786, '製作': 0.07877414, '建議': 0.11282398, '書': 0.044984676, '作為': 0.04522172, '利': 0.044826586, '委員': 0.04502895, '審查': 0.045102324, '、': 0.045503303, '分': 0.045192745, '履': 0.04378191, '依據': 0.045351416, '所': 0.045470305, '提出': 0.045215055, '月份': 0.045043215, '結構': 0.12502974, '分析': 0.045095105, '計算': 0.17148285, '前': 0.045389656, '開': 0.045143776, '主': 0.084141575, '副': 0.1968378, '吊': 0.20008224, '橋': 0.17913485, '鋼': 0.15261385, '索': 0.18477893, '尺寸': 0.20209555, '原': 0.04554415, '設計': 0.15647961, '50': 0.1504617, 'mm': 0.045503866, '40': 0.1667326, '惟': 0.032616608, '施': 0.044826977, '詳': 0.04512286, '圖': 0.04519535, '註': 0.045241315, '記': 0.045365326, '60': 0.1673106, '仍': 0.045047864, '後': 0.045646712, '予': 0.045017645, '礁': 0.17048004, '溪': 0.12872127, '鐵': 0.044274345, '機械': 0.047193624, '」(': 0.04540868, '因': 0.044815816, '缺': 0.1409505, '貨': 0.04425461, '僅': 0.04520247, '剩': 0.045045044, '36': 0.19238313, '嗣': 0.008909211, '將': 0.047834866, '修正': 0.120100714, '而': 0.045503896, '上': 0.045408864, '規格': 0.113568865, '經': 0.04539032, '技': 0.08382158, '師': 0.045280498, '郭': 0.08250375, '朝': 0.1531776, '和': 0.04521048, '確認': 0.04549311, '安全': 0.07920276, '無': 0.045296438, '虞': 0.03918451, '由': 0.04565024, '14': 0.014909588, '日': 0.045436665, '簽': 0.04479652, '證': 0.04514614, '6': 0.0062045455, '等': 0.045336004, '送': 0.045473896, '請': 0.045181114, '審議': 0.027609006, '通過': 0.04392244, '即': 0.045430582, '審': 0.041639708, '定': 0.045489375, '相關': 0.045579713, '說': 0.04502414, '施工': 0.063657805, '38': 0.13114288, '就': 0.044962488, '更改': 0.09812471, '並': 0.045305382, '價': 0.0862955, '差': 0.04491555, '問題': 0.020098694, '),': 0.04559011, '辦理': 0.04219764, '驗': 0.12208431, '收': 0.045380898, '發現': 0.011535596, '與': 0.045161173, '未': 0.04490814, '中': 0.04552832, '附': 0.045161728, '面': 0.048237205, '平面': 0.06309573, '載': 0.045469165, '不': 0.12295425, '符': 0.18083455, '遂': 0.012827553, '向': 0.04474804, '表示': 0.02705554, '曾': 0.020942286, '務': 0.045438845, '會議': 0.13720128, '決定': 0.049765423, '變更': 0.18319407, '一': 0.04534251, '事': 0.04487789, '9': 0.078931116, '欲': 0.05201131, '領': 0.045129776, '尾': 0.17344545, '款': 0.17541346, '紀錄': 0.04538542, '3': 0.09784959, '明': 0.045137834, '本': 0.045496896, '並未': 0.1250333, '會': 0.04501323, '討論': 0.04516486, '且': 0.045422986, '主動': 0.03760475, '從': 0.045147255, '修改': 0.16093466, '情': 0.04471324, '取得': 0.0452209, '竟': 0.04816185, '基於': 0.045546643, '行使': 0.06845513, '登': 0.044830788, '實': 0.045068175, '文書': 0.23192675, '犯': 0.1470551, '意': 0.045306396, '聯絡': 0.052009724, '某': 0.008143477, '其': 0.045427836, '作成': 0.045123324, '內容': 0.04458481, '5': 0.03484563, '日在': 0.045516215, '冬': 0.1584703, '山': 0.038019, '河': 0.1699871, '召開': 0.04494169, '其中': 0.04517319, '決議': 0.17783082, '事項': 0.04553012, '1': 0.01639048, '虛': 0.16186795, '偽': 0.22458759, '記載': 0.17993987, '安全性': 0.12902609, '考量': 0.045602933, '減輕': 0.0449985, '層': 0.0452193, '爬': 0.09369384, '重量': 0.12950158, '股': 0.043646254, '19': 0.044329926, '絲': 0.04494432, '改': 0.043862943, '(6': 0.04352333, '37': 0.044265367, '拉': 0.02276044, '力': 0.04505015, '變': 0.04487412, '完': 0.045465592, '隔': 0.045643985, '交': 0.045133498, '名': 0.045323353, '申請': 0.0068566985, '足以': 0.023268797, '生': 0.045372754, '損害': 0.11301416, '對於': 0.045321517, '管理': 0.15000626, '正確': 0.15626672, '性': 0.03710274}]\n",
            "0.42963066551601514\n",
            "0.5123492338225333\n"
          ]
        }
      ]
    },
    {
      "cell_type": "code",
      "source": [
        "lexical_scores1 = model.compute_lexical_matching_score(output_1['lexical_weights'][0], output_2['lexical_weights'][0])\n",
        "lexical_scores2 = model.compute_lexical_matching_score(output_1['lexical_weights'][0], output_2['lexical_weights'][1])\n",
        "\n",
        "lexical_scores3 = model.compute_lexical_matching_score(output_1['lexical_weights'][1], output_2['lexical_weights'][0])\n",
        "lexical_scores4 = model.compute_lexical_matching_score(output_1['lexical_weights'][1], output_2['lexical_weights'][1])\n",
        "\n",
        "print(f'{lexical_scores1} {lexical_scores2}')\n",
        "print(f'{lexical_scores3} {lexical_scores4}')"
      ],
      "metadata": {
        "colab": {
          "base_uri": "https://localhost:8080/"
        },
        "id": "Prg_lzKEO7Go",
        "outputId": "91bccea9-6372-44e2-cc83-3fb08c3fa691"
      },
      "execution_count": null,
      "outputs": [
        {
          "output_type": "stream",
          "name": "stdout",
          "text": [
            "0.42963066551601514 0.0953057055012323\n",
            "0.09472329181153327 0.28883391610725084\n"
          ]
        }
      ]
    },
    {
      "cell_type": "code",
      "source": [
        "output_1 = model.encode(tokenized_sample_1, return_dense=True, return_sparse=True, return_colbert_vecs=False)\n",
        "output_2 = model.encode(tokenized_sample_2, return_dense=True, return_sparse=True, return_colbert_vecs=False)\n",
        "\n",
        "print(model.convert_id_to_token(output_1['lexical_weights']))\n",
        "\n",
        "# compute the scores via lexical mathcing\n",
        "lexical_scores = model.compute_lexical_matching_score(output_1['lexical_weights'][0], output_2['lexical_weights'][0])\n",
        "print(lexical_scores)\n",
        "\n",
        "print(model.compute_lexical_matching_score(output_1['lexical_weights'][0], output_1['lexical_weights'][1]))"
      ],
      "metadata": {
        "colab": {
          "base_uri": "https://localhost:8080/"
        },
        "id": "E9Tin-Bo4Nlw",
        "outputId": "b270d8d5-9547-4ed3-a8cb-393f6b029c65"
      },
      "execution_count": null,
      "outputs": [
        {
          "output_type": "stream",
          "name": "stdout",
          "text": [
            "[{'陳': 0.23019531, '泰': 0.25232542, '': 0.022680748, '龍': 0.23932248, '明': 0.10540678, '知': 0.15430021, '泰國': 0.22564119, '籍': 0.15457964, '女子': 0.20561604, '玉': 0.18503447, '婉': 0.2801289, '名字': 0.1893617, 'J': 0.09639844, 'ARU': 0.15340573, 'WAN': 0.1527559, 'W': 0.10614167, 'ONG': 0.17406152, 'P': 0.08019862, 'RAT': 0.14316642, 'OOM': 0.25425714, '涉嫌': 0.16655497, '本': 0.022869216, '案': 0.16948897, '偽': 0.23804182, '造': 0.19358818, '文書': 0.24949726, '部分': 0.041564226, '臺灣': 0.1823859, '臺': 0.17620263, '南': 0.1033398, '地方': 0.021239895, '法院': 0.11220011, '檢察': 0.15207851, '署': 0.0019599125, '官': 0.02064361, '通': 0.08354054, '緝': 0.22676866, '中': 0.01608228, '間': 0.032448836, '無': 0.13647482, '結婚': 0.26993293, '真': 0.09816149, '意': 0.022240553, '張': 0.16134399, '晉': 0.21324842, '源': 0.22151151, '等': 0.021718606, '欲': 0.115392976, '找': 0.12489739, '男子': 0.16522005, '前往': 0.12640253, '辦理': 0.14597866, '假': 0.23169234, '林': 0.12794648, '清水': 0.20588462, '負責': 0.010313436, '介紹': 0.10853989, '予': 0.038261484, '人': 0.02029331, '賺': 0.17097802, '取': 0.02267088, '新': 0.022027735, '幣': 0.15421027, '下': 0.022179183, '萬元': 0.15325114, '仲介': 0.17551738, '費': 0.02027217, '適': 0.0140457675, '報紙': 0.13033922, '刊登': 0.013431955, '廣告': 0.13490984, '應': 0.002090238, '徵': 0.0051492304, '時': 0.02224809, '告知': 0.011385851, '方式': 0.11629438, '申': 0.053997025, '請': 0.004172839, '來': 0.021630052, '居': 0.09481535, '留': 0.013828181, '工作': 0.08854231, '若': 0.028144352, '擔任': 0.0831743, '頭': 0.13543192, '不用': 0.042916574, '負擔': 0.12911347, '食': 0.06944705, '宿': 0.017957982, '機票': 0.16448528, '費用': 0.077372566, '外': 0.021748409, '尚': 0.014290519, '可': 0.022503663, '獲': 0.01739207, '報酬': 0.18038288, '允': 0.022078758, '同意': 0.044160075, '後': 0.0012414753, '清': 0.070150256, '水': 0.11582866, '將': 0.034635257, '轉': 0.0010619797, '遂': 0.006094303, '共同': 0.042499743, '行使': 0.08385328, '公務員': 0.22121064, '登': 0.05318611, '載': 0.14476946, '不': 0.11453545, '實': 0.19290215, '公': 0.09478789, '概括': 0.064076684, '犯': 0.12363087, '聯絡': 0.055099636, '指示': 0.056127254, '民國': 0.13623017, '年': 0.022480302, '月': 0.02231407, '日': 0.02218054, '法': 0.0073083416, '拉': 0.019180398, '坎': 0.13390642, '農': 0.08478328, '區': 0.020025883, '註冊': 0.024734244, '辦事處': 0.077236146, '登記': 0.18600732, '上': 0.022580033, '開': 0.06930508, '核': 0.057341814, '發': 0.022829097, '書': 0.13134241, '證書': 0.17818597, '文件': 0.010227904, '行': 0.013212778, '返': 0.080821455, '我國': 0.05508604, '駐': 0.020306755, '臺北': 0.13395911, '經濟': 0.060544547, '文化': 0.021918051, '認證': 0.042665474, '之上': 0.022520047, '資料': 0.08001285, '縣': 0.07022551, '永': 0.08780666, '康': 0.15881316, '市': 0.014138512, '改': 0.150314, '制': 0.1599984, '前': 0.031296864, '稱': 0.05765465, '謂': 0.020938741, '以下': 0.05109124, '沿': 0.060304843, '用': 0.022672867, '舊': 0.08865118, '戶': 0.09953005, '政': 0.022174465, '事務所': 0.121374905, '填寫': 0.07694633, '使': 0.0017647669, '有': 0.022427369, '形': 0.022090353, '式': 0.022639547, '審查': 0.06940895, '辦': 0.02256595, '陷': 0.021669813, '於': 0.0225727, '錯誤': 0.18363282, '形式': 0.09087135, '審核': 0.116535835, '事項': 0.009432979, '職務': 0.09335677, '掌': 0.06848401, '屬': 0.022672445, '謄': 0.05623206, '足以': 0.07265839, '損害': 0.080610506, '管理': 0.037469767, '維護': 0.06252945, '正確': 0.061010182}, {'': 0.07039232, '張': 0.30140597, '慶': 0.29190627, '係': 0.17655149, '址': 0.12851214, '設': 0.10051706, '宜蘭縣': 0.2568749, '羅': 0.07999039, '東': 0.13890922, '鎮': 0.080841586, '路': 0.05793818, '樓': 0.13865247, '泰': 0.2734211, '雅': 0.3153079, '工程': 0.1951542, '有限公司': 0.1655011, '以下': 0.062287964, '簡稱': 0.08720959, '公司': 0.21037433, '實際': 0.22556345, '負責人': 0.17793834, '文': 0.21515262, '臺中市': 0.13734965, '街': 0.0021029562, '號': 0.021333192, '顧問': 0.21383002, '工程師': 0.19370677, '承': 0.031055063, '攬': 0.19232911, '政府': 0.12405012, '文化': 0.15221485, '局': 0.11111705, '發': 0.029255413, '包': 0.14926156, '宜蘭': 0.25611973, '國際': 0.09687774, '童': 0.20902258, '玩': 0.20043008, '藝術': 0.15035796, '節': 0.18193287, '超級': 0.20343797, 'High': 0.15431672, 'net': 0.17277607, '體': 0.1657363, '能': 0.031057328, '極': 0.12532564, '限': 0.16849017, '網': 0.17263111, '設施': 0.12311357, '委託': 0.112102345, '監': 0.14270018, '造': 0.030752081, '服務': 0.10243764, '現場': 0.1403693, '工': 0.122264385, '人員': 0.031034186, '忠': 0.08872223, '約': 0.030338857, '聘': 0.0132966265, '招': 0.015400317, '標': 0.108677, '案': 0.14684616, '辦': 0.031170078, '從事': 0.031166509, '業務': 0.090945326, '之': 0.031072915, '人': 0.028001819, '民國': 0.07248223, '間': 0.031254753, '新': 0.06877187, '臺': 0.079879105, '幣': 0.194489, '下': 0.030890062, '同': 0.026956476, '萬元': 0.18710089, '得': 0.030733652, '作': 0.03116031, '規定': 0.030514568, '時': 0.031125862, '文件': 0.1120598, '評': 0.030777201, '選': 0.031074174, '效果': 0.030763611, '說明': 0.030942865, '規範': 0.10685642, '製作': 0.13140216, '建議': 0.04349658, '書': 0.030978858, '作為': 0.031076368, '投': 0.025717646, '俾': 0.06588125, '利': 0.030773293, '委員': 0.030908588, '審查': 0.030917358, '分': 0.031061053, '履': 0.04508573, '依據': 0.03100403, '所': 0.0311464, '提出': 0.031184707, '份': 0.030478798, '結構': 0.12532613, '分析': 0.109065995, '計算': 0.14617833, '前': 0.084732145, '開': 0.12193729, '程': 0.031141594, '主': 0.030057617, '副': 0.16402198, '吊': 0.19266897, '橋': 0.15330048, '鋼': 0.16663931, '索': 0.25639915, '尺寸': 0.21887633, '原': 0.031116568, '設計': 0.11778381, 'mm': 0.14413737, '施': 0.037202038, '詳': 0.030974928, '圖': 0.106889576, '註': 0.030528631, '記': 0.031114485, '仍': 0.02478896, '為': 0.031225096, '後': 0.031079195, '予': 0.031040356, '礁': 0.15038496, '溪': 0.14583036, '鐵': 0.1002657, '機械': 0.07367727, '缺': 0.07489976, '貨': 0.030979548, '僅': 0.031115599, '剩': 0.031090792, '上': 0.031149805, '規格': 0.05042836, '技': 0.105734065, '師': 0.057682045, '確認': 0.015146371, '安全': 0.086277716, '將': 0.0032096058, '經': 0.022103552, '簽': 0.101432696, '證': 0.029543836, '送': 0.030634265, '請': 0.030378718, '審議': 0.02760036, '審': 0.028516933, '定': 0.031188875, '相關': 0.031032227, '說': 0.030639127, '施工': 0.17164978, '更改': 0.16986099, '無': 0.005403571, '價': 0.12936097, '差': 0.030976042, '問題': 0.029699959, '辦理': 0.02570837, '驗': 0.13220184, '收': 0.03098913, '未': 0.027438477, '中': 0.031034991, '面': 0.053325966, '平面': 0.043552622, '載': 0.031216357, '不': 0.065078296, '符': 0.18423833, '表示': 0.0022026226, '務': 0.058726117, '會議': 0.16005993, '決定': 0.045298763, '變更': 0.19666934, '事': 0.014124602, '欲': 0.03096069, '領': 0.031034052, '尾': 0.20117651, '款': 0.19316772, '紀錄': 0.1309827, '明': 0.03087511, '知': 0.031125266, '並未': 0.11943743, '會': 0.021686133, '討論': 0.08321375, '修改': 0.13849215, '情': 0.027749754, '取得': 0.0028689578, '行使': 0.036133945, '登': 0.030986533, '實': 0.18764816, '文書': 0.22813976, '犯': 0.11676482, '意': 0.030980468, '聯絡': 0.006572984, '某': 0.011048503, '日': 0.03116263, '作成': 0.031480245, '冬': 0.17636602, '山': 0.1456374, '河': 0.16539481, '決議': 0.057308458, '事項': 0.031109303, '虛': 0.08668998, '偽': 0.031059604, '記載': 0.031172004, '考量': 0.030049562, '及': 0.031167693, '減輕': 0.02896506, '層': 0.031176899, '爬': 0.03150355, '重量': 0.11229624, '絲': 0.031108893, '改': 0.03126422, '股': 0.009561203, '由': 0.031158421, '拉': 0.00806915, '力': 0.029415227, '變': 0.029027749, '內容': 0.031186573, '完': 0.03134588, '交': 0.031128533, '名': 0.030432276, '申請': 0.11282855, '足以': 0.019741375, '生': 0.030951217, '損害': 0.091754615, '管理': 0.14729223, '正確': 0.10888684, '性': 0.030428365}]\n",
            "0.36429209308698773\n",
            "0.4417708622277132\n"
          ]
        }
      ]
    },
    {
      "cell_type": "code",
      "source": [
        "lexical_scores1 = model.compute_lexical_matching_score(output_1['lexical_weights'][0], output_2['lexical_weights'][0])\n",
        "lexical_scores2 = model.compute_lexical_matching_score(output_1['lexical_weights'][0], output_2['lexical_weights'][1])\n",
        "\n",
        "lexical_scores3 = model.compute_lexical_matching_score(output_1['lexical_weights'][1], output_2['lexical_weights'][0])\n",
        "lexical_scores4 = model.compute_lexical_matching_score(output_1['lexical_weights'][1], output_2['lexical_weights'][1])\n",
        "\n",
        "print(f'{lexical_scores1} {lexical_scores2}')\n",
        "print(f'{lexical_scores3} {lexical_scores4}')"
      ],
      "metadata": {
        "colab": {
          "base_uri": "https://localhost:8080/"
        },
        "id": "-JCzgKUMNn6c",
        "outputId": "0092da99-57ca-4726-9d83-83c9ad67b6d1"
      },
      "execution_count": null,
      "outputs": [
        {
          "output_type": "stream",
          "name": "stdout",
          "text": [
            "0.36429209308698773 0.1011430734906753\n",
            "0.09015482128597796 0.25684958447527606\n"
          ]
        }
      ]
    },
    {
      "cell_type": "code",
      "source": [
        "output_1 = model.encode(cc_tokenized_sample_1, return_dense=True, return_sparse=True, return_colbert_vecs=False)\n",
        "output_2 = model.encode(cc_tokenized_sample_2, return_dense=True, return_sparse=True, return_colbert_vecs=False)\n",
        "\n",
        "print(model.convert_id_to_token(output_1['lexical_weights']))\n",
        "\n",
        "# compute the scores via lexical mathcing\n",
        "lexical_scores = model.compute_lexical_matching_score(output_1['lexical_weights'][0], output_2['lexical_weights'][0])\n",
        "print(lexical_scores)\n",
        "\n",
        "print(model.compute_lexical_matching_score(output_1['lexical_weights'][0], output_1['lexical_weights'][1]))"
      ],
      "metadata": {
        "colab": {
          "base_uri": "https://localhost:8080/"
        },
        "id": "_t-KMijt4TA-",
        "outputId": "631a6f49-eb5c-4bc9-e50f-ed2956c8b505"
      },
      "execution_count": null,
      "outputs": [
        {
          "output_type": "stream",
          "name": "stdout",
          "text": [
            "[{'': 0.05450929, '明': 0.20648107, '知': 0.29140913, '与': 0.28396952, '籍': 0.24085203, '女子': 0.25043726, '名字': 0.19686082, '为': 0.12647548, 'J': 0.13592005, 'ARU': 0.15880142, 'WAN': 0.19843721, 'W': 0.08575899, 'ONG': 0.14353639, 'P': 0.07869031, 'RAT': 0.1598173, 'OOM': 0.27195808, '涉嫌': 0.19210841, '本': 0.017413981, '案': 0.16671188, '伪': 0.2339328, '造': 0.1773647, '文': 0.13739982, '书': 0.20512949, '部分': 0.0564465, '地方': 0.055909, '法院': 0.10825533, '检察': 0.12534922, '官': 0.0072517022, '通': 0.03940476, '缉': 0.24454391, '中': 0.01402327, '间': 0.029456668, '并': 0.03237748, '无': 0.1655582, '结婚': 0.2849247, '真': 0.096296124, '意': 0.13781816, '源': 0.2020495, '等': 0.023157053, '欲': 0.09399369, '找': 0.13135943, '男子': 0.16969621, '前往': 0.11149996, '办理': 0.14429, '假': 0.23981307, '林': 0.15007254, '清水': 0.2241843, '负责': 0.10493385, '介绍': 0.15919706, '予': 0.06341365, '人': 0.03836564, '赚': 0.16588175, '取': 0.01681481, '新': 0.056661643, '台': 0.18780553, '币': 0.15654057, '下': 0.016991924, '同': 0.025482982, '万元': 0.1445308, '仲介': 0.2061809, '费': 0.015815474, '适': 0.012262382, '于': 0.017214939, '报纸': 0.1368536, '刊登': 0.07470531, '征': 0.12545645, '广告': 0.19863822, '时': 0.007156316, '告知': 0.060427934, '方式': 0.083555415, '申请': 0.08709632, '来': 0.09525295, '居': 0.107759655, '留': 0.03376381, '工作': 0.105282396, '若': 0.05464652, '担任': 0.12741524, '头': 0.10370156, '不用': 0.06768099, '负担': 0.10985343, '食': 0.06484115, '宿': 0.016767405, '机票': 0.21041065, '费用': 0.093366414, '外': 0.017395355, '尚': 0.024168506, '可': 0.017227266, '获取': 0.09939785, '报': 0.015449829, '酬': 0.17894903, '应': 0.010192178, '允': 0.052868668, '同意': 0.10739152, '转': 0.05628722, '共同': 0.030554965, '基于': 0.022792168, '行使': 0.079359524, '公务员': 0.20653695, '登': 0.059587564, '载': 0.038551822, '不': 0.10849585, '实': 0.1787365, '公': 0.05334211, '概括': 0.077283815, '犯': 0.12347311, '联络': 0.13044378, '先': 0.006841317, '指示': 0.12120759, '民': 0.11310143, '国': 0.08868417, '年': 0.017124265, '月': 0.017146192, '日': 0.017241437, '法': 0.037867084, '拉': 0.011957981, '坎': 0.057612527, '农': 0.13920066, '区': 0.021825, '注册': 0.012813851, '办事处': 0.10619281, '登记': 0.19586623, '上': 0.01716452, '开': 0.090511724, '发': 0.017440975, '证书': 0.17280656, '文件': 0.01723294, '后': 0.017084341, '行': 0.015091971, '返': 0.07612027, '经': 0.01699761, '我国': 0.0009101555, '驻': 0.0150389075, '台北': 0.12467566, '经济': 0.0440897, '文化': 0.012973677, '认证': 0.007071037, '之上': 0.015907586, '资料': 0.22701773, '永': 0.15706503, '康': 0.18649247, '市': 0.06438413, '改': 0.12755068, '制': 0.10913628, '前': 0.07353095, '称': 0.07954283, '谓': 0.10773204, '以下': 0.071007036, '沿': 0.079354055, '用': 0.017618101, '旧': 0.054022115, '户': 0.15383609, '政': 0.20333144, '事务': 0.25426066, '填写': 0.1236634, '使': 0.0031064302, '所': 0.01715253, '仅': 0.0031496473, '有': 0.017132219, '形': 0.016875084, '式': 0.017423674, '审查': 0.060069934, '承': 0.032104585, '办': 0.016290266, '陷': 0.032479633, '错误': 0.20152971, '形式': 0.0044328645, '审核': 0.06008119, '事项': 0.03176566, '职务': 0.114859745, '掌': 0.027836513, '属': 0.012873266, '户籍': 0.1664488, '内': 0.014826536, '据': 0.016640805, '核': 0.00548812, '足以': 0.05256226, '损害': 0.14198416, '机关': 0.042074487, '对于': 0.020891808, '管理': 0.11392909, '维护': 0.10110603, '正确': 0.069383785}, {'': 0.07801154, '张': 0.27297556, '庆': 0.29458845, '系': 0.13982677, '址': 0.13819183, '设': 0.09819455, '镇': 0.0641882, '路': 0.08767996, '号': 0.005346082, '楼': 0.1368363, '泰': 0.26852292, '雅': 0.3152286, '工程': 0.1727837, '有限公司': 0.18683133, '以下': 0.07792092, '简称': 0.09245808, '公司': 0.20705429, '实际': 0.1950121, '负责人': 0.1814277, '区': 0.07012524, '街': 0.09672649, '顾问': 0.19329503, '工程师': 0.20424554, '承': 0.047469147, '揽': 0.15925315, '县': 0.18927847, '政府': 0.19218363, '文化': 0.18753614, '局': 0.118793756, '发': 0.06387225, '包': 0.16746041, '国际': 0.120930284, '艺术': 0.19915725, '节': 0.18271375, '超级': 0.19618556, 'High': 0.17764536, 'net': 0.1857097, '体': 0.16691622, '能': 0.077818915, '极': 0.12284813, '限': 0.15990867, '网': 0.17803213, '设施': 0.13080765, '委托': 0.047171254, '监': 0.1621616, '造': 0.047486827, '服务': 0.047518555, '案': 0.18789712, '为': 0.047583718, '现场': 0.047485504, '工': 0.11372861, '人员': 0.04743993, '约': 0.047438115, '聘': 0.070211306, '招标': 0.1755049, '办': 0.04752026, '从事': 0.047345694, '业务': 0.16525832, '之': 0.047486566, '人': 0.047363244, '于': 0.04756833, '民': 0.08714037, '国': 0.0474139, '间': 0.047463104, '新': 0.08509802, '台': 0.086236134, '币': 0.20982677, '下': 0.04752391, '同': 0.045157313, '万元': 0.14599773, '得': 0.047449354, '标': 0.047475632, '作': 0.047622938, '规定': 0.014983937, '投标': 0.21678191, '时': 0.04759553, '根据': 0.047452062, '文件': 0.04744311, '评选': 0.14200637, '效果': 0.047508594, '说明': 0.04752162, '规范': 0.047554288, '要求': 0.047488652, '制作': 0.1127478, '建议': 0.16087963, '书': 0.20833439, '作为': 0.04754984, '俾': 0.10798236, '利': 0.16059168, '委员': 0.09954064, '审查': 0.047514245, '评': 0.04739803, '分': 0.04752337, '履': 0.036233, '依据': 0.047579095, '所': 0.047552623, '提出': 0.048328564, '份': 0.04749583, '结构': 0.17387652, '分析': 0.14993742, '计算': 0.18924901, '有关': 0.038288802, '前': 0.04838463, '开': 0.12147034, '程': 0.04752145, '副': 0.12426966, '吊': 0.23036185, '桥': 0.15861121, '钢': 0.16692482, '索': 0.25479186, '尺寸': 0.22242567, '原': 0.04760498, '设计': 0.16475263, 'mm': 0.15203811, '惟': 0.020903423, '施': 0.0530963, '详': 0.047614317, '图': 0.047614075, '主': 0.07382561, '注': 0.04752037, '记': 0.04754429, '仍': 0.075282075, '后': 0.047582626, '予': 0.0474417, '礁': 0.17838046, '溪': 0.17892773, '钢铁': 0.1297173, '机械': 0.108867794, '缺': 0.04877007, '货': 0.047461856, '仅': 0.04749499, '剩': 0.047545142, '嗣': 0.028144062, '将': 0.024388947, '上': 0.047526434, '规': 0.045348503, '格': 0.047534745, '经': 0.04756286, '技': 0.119725, '师': 0.04762845, '确认': 0.038749415, '安全': 0.104486614, '签证': 0.14472246, '送': 0.047483537, '请': 0.047546756, '审议': 0.04172165, '通过': 0.047443382, '审': 0.04751629, '定': 0.04758805, '相关': 0.046712585, '说': 0.10013544, '施工': 0.16269836, '更改': 0.19591625, '并': 0.047480617, '无': 0.041560695, '价': 0.13022926, '差': 0.047499888, '问题': 0.047346793, '办理': 0.04738409, '验收': 0.16405134, '发现': 0.01769542, '与': 0.047114745, '未': 0.047013897, '中': 0.047550853, '附': 0.007533584, '面': 0.047465842, '平面': 0.046764985, '载': 0.04760927, '不': 0.047545165, '符': 0.04768649, '遂': 0.009891607, '表示': 0.02850876, '务': 0.047530852, '会议': 0.1436156, '决定': 0.054926336, '变更': 0.23043692, '一': 0.034558132, '事': 0.049658522, '欲': 0.047594525, '领': 0.047600754, '尾': 0.23915991, '款': 0.23395887, '纪录': 0.16764605, '明': 0.04742261, '知': 0.047646865, '本': 0.011096921, '并未': 0.10819792, '会': 0.054840945, '讨论': 0.13866124, '主动': 0.02340956, '从': 0.047591094, '修改': 0.16577926, '情': 0.04717948, '取得': 0.004895553, '基于': 0.047581933, '行使': 0.099027626, '登': 0.04752764, '实': 0.1866476, '文': 0.16207917, '犯': 0.14510682, '意': 0.047553536, '联络': 0.031639613, '某': 0.020256925, '日': 0.04757043, '作成': 0.047577497, '内容': 0.01993709, '冬': 0.17392188, '山': 0.13178176, '河': 0.15119925, '召开': 0.0169487, '决议': 0.049190193, '事项': 0.039536864, '虚': 0.15976356, '伪': 0.047643736, '考量': 0.040866982, '及': 0.0475204, '减轻': 0.045960277, '层': 0.047557805, '爬': 0.09702481, '重量': 0.14770749, '股': 0.041752014, '丝': 0.046735134, '改': 0.04672454, '由': 0.047605824, '拉': 0.03207194, '力': 0.047498576, '不变': 0.04674623, '而': 0.006402239, '完': 0.04754349, '交': 0.047521297, '签': 0.047202222, '名': 0.047548108, '申请': 0.13527617, '足以': 0.056978934, '生': 0.047514282, '损害': 0.14249577, '对于': 0.0153417885, '管理': 0.19145423, '正确': 0.16141886, '性': 0.047248244}]\n",
            "0.5111280533892568\n",
            "0.47428147005848587\n"
          ]
        }
      ]
    },
    {
      "cell_type": "code",
      "source": [
        "lexical_scores1 = model.compute_lexical_matching_score(output_1['lexical_weights'][0], output_2['lexical_weights'][0])\n",
        "lexical_scores2 = model.compute_lexical_matching_score(output_1['lexical_weights'][0], output_2['lexical_weights'][1])\n",
        "\n",
        "lexical_scores3 = model.compute_lexical_matching_score(output_1['lexical_weights'][1], output_2['lexical_weights'][0])\n",
        "lexical_scores4 = model.compute_lexical_matching_score(output_1['lexical_weights'][1], output_2['lexical_weights'][1])\n",
        "\n",
        "print(f'{lexical_scores1} {lexical_scores2}')\n",
        "print(f'{lexical_scores3} {lexical_scores4}')"
      ],
      "metadata": {
        "colab": {
          "base_uri": "https://localhost:8080/"
        },
        "id": "xByi94xsOklV",
        "outputId": "42e018e4-89f5-4f48-f0f6-249775023853"
      },
      "execution_count": null,
      "outputs": [
        {
          "output_type": "stream",
          "name": "stdout",
          "text": [
            "0.5111280533892568 0.1395197610836476\n",
            "0.1275615413323976 0.29369049098386313\n"
          ]
        }
      ]
    },
    {
      "cell_type": "code",
      "source": [
        "output_1 = model.encode(sample_3, return_dense=True, return_sparse=True, return_colbert_vecs=False)\n",
        "output_2 = model.encode(sample_4, return_dense=True, return_sparse=True, return_colbert_vecs=False)\n",
        "\n",
        "print(model.convert_id_to_token(output_1['lexical_weights']))\n",
        "\n",
        "# compute the scores via lexical mathcing\n",
        "lexical_scores = model.compute_lexical_matching_score(output_1['lexical_weights'][0], output_2['lexical_weights'][0])\n",
        "print(lexical_scores)\n",
        "\n",
        "print(model.compute_lexical_matching_score(output_1['lexical_weights'][0], output_1['lexical_weights'][1]))"
      ],
      "metadata": {
        "colab": {
          "base_uri": "https://localhost:8080/"
        },
        "id": "1o9qWmXQPj4L",
        "outputId": "832f410d-ebd3-4c7f-ef3d-9fa20b0db6f7"
      },
      "execution_count": null,
      "outputs": [
        {
          "output_type": "stream",
          "name": "stdout",
          "text": [
            "[{'己': 0.24949853, '○○': 0.21181884, '與': 0.092471175, '經營': 0.19112001, '金': 0.17044678, '晉': 0.24103169, '安': 0.20256236, '人力': 0.18579343, '仲介': 0.19294608, '有限公司': 0.15217295, '官': 0.18751574, '威': 0.2310353, '成': 0.21062735, '、': 0.03673291, '怡': 0.21308821, '秀': 0.21219215, '涉': 0.06764519, '違反': 0.19296533, '就業': 0.18222195, '服務': 0.16803238, '法': 0.10056808, '等': 0.024950303, '案件': 0.10885369, ',': 0.024395816, '分別': 0.040344298, '臺灣': 0.19430293, '南投': 0.1477972, '地方': 0.02846387, '法院': 0.11422471, '95': 0.17947875, '年度': 0.089316085, '易': 0.14907512, '字': 0.021837287, '第': 0.048283678, '53': 0.15322298, '號': 0.024714343, '判': 0.1293755, '處': 0.13921583, '有期徒刑': 0.24008499, '10': 0.09736256, '月': 0.024471205, '高等': 0.023227133, '臺': 0.19847867, '中': 0.06706471, '分': 0.1491487, '院': 0.01305303, '以': 0.025113717, '99': 0.15139693, '上': 0.023977656, '94': 0.10927415, '6': 0.07438111, '確定': 0.14778467, '真實': 0.19627538, '姓名': 0.13756905, '年': 0.11792795, '籍': 0.13757485, '不': 0.12589869, '詳': 0.18090694, '綽': 0.20789938, '李': 0.22117707, '姐': 0.22820914, '」': 0.024364367, '之': 0.024385128, '女子': 0.14840549, '均': 0.0046137087, '明': 0.13426186, '知': 0.18150002, '如': 0.02474242, '附': 0.08547763, '表': 0.024688583, '所示': 0.025760658, '外籍': 0.20826373, '傅': 0.2160162, '麗': 0.14403144, '娜': 0.2252478, '僅': 0.06409174, '為': 0.033472776, '來': 0.121012785, '工作': 0.14824899, '而': 0.024264198, '無': 0.16623618, '結婚': 0.23798305, '真': 0.13246593, '意': 0.20467886, '竟': 0.0021736063, '負責': 0.17175403, '在': 0.028705858, '居': 0.14403903, '介紹': 0.20081952, '亦': 0.0062293485, '戊': 0.20222545, '擔任': 0.13686353, '人': 0.09434288, '頭': 0.22773182, '老公': 0.2605314, '渠': 0.2343483, '共同': 0.09196042, '基於': 0.034814514, '實': 0.21859674, '事項': 0.07990505, '使': 0.064340666, '公務員': 0.2680452, '登': 0.13280481, '載': 0.22181442, '於': 0.024615075, '職務': 0.18509227, '所': 0.024157573, '掌': 0.1873523, '公': 0.14557073, '文書': 0.23246077, '概括': 0.19981512, '犯': 0.17309105, '聯絡': 0.18041912, '及': 0.032138214, '等人': 0.024707422, '丙': 0.043748662, '乙': 0.0033491105, '支付': 0.17653078, '出國': 0.18152994, '辦理': 0.06605382, '機票': 0.18875489, '住宿': 0.13173936, '費用': 0.116333544, '並': 0.024241239, '提供': 0.024885044, '零': 0.13163793, '用': 0.12225062, '安排': 0.079560064, '時間': 0.09669667, '地點': 0.015122682, '旺': 0.18740258, '施': 0.19606939, '女': 0.06432778, '彭': 0.12320473, '梅': 0.15983674, '妮': 0.15879558, '註冊': 0.1399219, '取得': 0.022762522, '證明': 0.12817869, '書': 0.023996368, '持': 0.024735183, '開': 0.024459325, '前往': 0.030898921, '我國': 0.041154146, '駐': 0.11743815, '外': 0.024778053, '單位': 0.024788, '證': 0.17146957, '待': 0.00061394274, '返': 0.11281759, '台': 0.14251006, '後': 0.02425246, '陪同': 0.11435166, '下': 0.023979321, '攜帶': 0.040008448, '經': 0.024430748, '相關': 0.024128117, '戶': 0.07249388, '政': 0.024639275, '事務所': 0.025085554, '登記': 0.15425205, '知情': 0.15152206, '該': 0.024412159, '承': 0.09398022, '辦': 0.025185801, '其': 0.023929905, '具有': 0.024553597, '準': 0.06435607, '性質': 0.024154905, '電腦': 0.09306759, '資料': 0.02456481, '管理': 0.117419474, '檔案': 0.06595557, '內': 0.023987092, '足以': 0.058563955, '生': 0.023295268, '損害': 0.10041697, '對': 0.024357863, '正確': 0.10090774, '性': 0.02371528, '偽': 0.20935589, '造': 0.09989339, '行': 0.033053797, '檢察': 0.047581077, '署': 0.024596643, '103': 0.15617931, '偵': 0.044532068, '118': 0.064769894, '62': 0.085127145, '職': 0.16352825, '權': 0.07423583, '不起': 0.17200246, '訴': 0.20377992}, {'被告': 0.16963674, '明': 0.11786851, '知': 0.15903684, '陳': 0.19422919, '丙': 0.17458786, '丁': 0.20176838, '死亡': 0.15837505, '後': 0.03839761, '遺產': 0.23994459, '屬': 0.07239885, '全體': 0.11095387, '繼': 0.14393686, '承': 0.13379729, '公': 0.035608906, '同': 0.10074717, '共有': 0.12093468, '竟': 0.018626682, '罔': 0.08599207, '顧': 0.075400434, '權益': 0.15056647, '利用': 0.17956029, '不': 0.059671357, '知情': 0.17543551, '成': 0.08188977, '年': 0.050693493, '男子': 0.11397166, '冒': 0.1827057, '用': 0.13405749, '名': 0.087501645, '義': 0.10924239, '盜': 0.20753333, '領': 0.19750008, '存款': 0.23710963, '損': 0.10342178, '及': 0.020204708, '人': 0.007081624, '合': 0.103244245, '庫': 0.18269476, '銀行': 0.12065433, '帳戶': 0.14878337, '管理': 0.06470555, '正確': 0.061277665, '實': 0.034621663, '該': 0.112441726, '前': 0.039722763, '無': 0.10903178, '犯罪': 0.121842206, '科': 0.11141914, '刑': 0.21111333, '紀錄': 0.14552724, '臺灣': 0.10222481, '法院': 0.014034189, '表': 0.023551062, '稽': 0.019182976, '良好': 0.050217774, '考量': 0.014341235, '坦': 0.0394272, '犯': 0.06664402, '行': 0.016367871, '告訴': 0.12991765, '王': 0.09964079, '犁': 0.21124053, '雪': 0.2312959, '部分': 0.067381985, '賠償': 0.16618094, '態度': 0.07830724, '衡': 0.019270487, '國中': 0.12920193, '畢業': 0.1463237, '教育': 0.1312906, '程度': 0.076548524, '越南': 0.21756741, '國': 0.09435773, '籍': 0.17099023, '因': 0.017769203, '與': 0.10359166, '我國': 0.09912144, '結婚': 0.17655541, '取得': 0.09153551, '家庭': 0.053195715, '狀況': 0.039896622, '動': 0.060815677, '機': 0.04251401, '目的': 0.039973583, '手段': 0.0544899, '一切': 4.87417e-05, '量': 0.09204415, '處': 0.04413577, '如': 0.0020947084, '所示': 0.009401429, '諭': 0.0052024648, '易': 0.17927256, '罰': 0.23034748, '金': 0.19090709, '折': 0.13455305, '算': 0.13238451, '標準': 0.14353415}, {'嗣': 0.25691363, '蔡': 0.25132123, '寶': 0.21589443, '於': 0.036819384, '103': 0.19602907, '1': 0.069731675, '月': 0.036848366, '間': 0.04829569, '死亡': 0.19453202, '辦理': 0.06606905, '繼': 0.13855545, '承': 0.0835641, '登記': 0.18355037, '前': 0.06254029, ',': 0.03684365, '陳': 0.18417704, '泓': 0.21105503, '維': 0.26342863, '年': 0.036797617, '7': 0.024386749, '邱': 0.19955862, '濰': 0.22400376, '櫻': 0.2303765, '、': 0.03677117, '甄': 0.21491154, '表示': 0.022206783, '願': 0.14810908, '給付': 0.22105435, '其': 0.036808863, '二人': 0.095516644, '各': 0.045188084, '100': 0.18437505, '萬元': 0.20483373, '將': 0.036581833, '系': 0.18557754, '爭': 0.2521611, '不動產': 0.21814339, '由': 0.036834206, '一人': 0.11115618, '單': 0.07879782, '獨': 0.005269766, '要求': 0.08018448, '應': 0.03686028, '先': 0.053372107, '設定': 0.14175165, '抵押': 0.2286105, '權': 0.07291269, '予': 0.057888262, '以': 0.036705695, '擔': 0.14570092, '保': 0.036931723, '日': 0.0368353, '後': 0.036940053, '分割': 0.19592497, '遺產': 0.22687253, '所': 0.0366987, '對': 0.03647868, '之': 0.036749735, '債': 0.15767008, '10': 0.043474346, '欲': 0.105590686, '向': 0.03723286, '銀行': 0.14259416, '借款': 0.18303734, '已': 0.03675985, '第一': 0.078125216, '順': 0.11685074, '位': 0.036656156, '遭': 0.036601912, '評估': 0.032223463, '不足': 0.1541166, '清': 0.110658675, '償': 0.19709754, '並': 0.03691523, '得': 0.036582004, '塗': 0.18169197, '銷': 0.18728872, '而': 0.036744334, '17': 0.04920004, '偕': 0.029630579, '同': 0.020985276, '代': 0.03653831, '書': 0.036566384, '林': 0.09156585, '淑': 0.11503544, '慧': 0.18906161, '前往': 0.0072545595, '臺中市': 0.10301202, '雅': 0.11527051, '潭': 0.20196582, '地': 0.04248566, '政': 0.03696418, '事務所': 0.029058825, '(': 0.03672487, '下': 0.0365881, '稱': 0.036975224, ')': 0.03671104, '當': 0.036535908, '場': 0.03657833, '交付': 0.14596997, '面': 0.036671706, '額': 0.03694331, '80': 0.16982913, '支': 0.03829643, '張': 0.1584699, '至於': 0.036320068, '未': 0.03627856, '20': 0.1266984, '發': 0.036884133, '本': 0.036728814, '票': 0.18838593, '作為': 0.036619216, '承諾': 0.0034205317, '待': 0.03656577, '撥': 0.036614344, '款': 0.036607347, '會': 0.025808439, '開': 0.03670659, '部分': 0.036346793, '就': 0.036787473, '債務': 0.1432859, '置': 0.03667839, '若': 0.036452282, '罔': 0.109937534, '聞': 0.036749654, '重新': 0.0009531304, '讓': 0.027822107, '與': 0.03688651, '持': 0.036165807, '2': 0.052028466, '法院': 0.14246093, '聲': 0.036040056, '請': 0.036650777, '強制': 0.20345154, '執行': 0.1904074, '明': 0.01613338, '知': 0.041469283, '係': 0.036607414, '基於': 0.03653925, '上': 0.03671093, '協議': 0.14768672, '取得': 0.08703865, '無': 0.03651381, '詐欺': 0.21607924, '情': 0.0363617, '事': 0.036659624, '竟': 0.01339611, '意': 0.036607254, '圖': 0.036775917, '受': 0.036632996, '刑事': 0.19371635, '追': 0.03622059, '訴': 0.036377985, '104': 0.14548123, '時': 0.036704056, '分': 0.13932142, '許': 0.03682951, '至': 0.03660892, '臺灣': 0.13234447, '臺': 0.058892094, '中': 0.03653285, '地方': 0.036595397, '檢察': 0.1020721, '署': 0.036652796, '檢': 0.036989603, '申': 0.121993124, '告': 0.036713317, '提出': 0.036500406, '告訴': 0.1878911, '扭': 0.17182748, '曲': 0.036687896, '事實': 0.036652893, '略': 0.007382691, '被告': 0.15613498, '母親': 0.17362472, '隱': 0.14472061, '瞞': 0.18072976, '自': 0.03286782, '遺': 0.1115858, '囑': 0.2055974, '6': 0.026125483, '始': 0.006902322, '寄': 0.004569739, '給': 0.036819275, '人': 0.036816657, '該': 0.036893323, '詐': 0.20021005, '先前': 0.07113245, '需': 0.03666648, '過': 0.054836296, '戶': 0.034850843, '認為': 0.00558703, '只': 0.06279375, '分配': 0.1862314, '60': 0.15578714, '拒絕': 0.18705305, '請求': 0.09145501, '同意': 0.08452826, '支付': 0.19119883, '及': 0.03670789, '簽': 0.026319712, '交': 0.03721295, '收': 0.03674198, '執': 0.037910167, '完成': 0.03696886, '各自': 0.00017055869, '再': 0.02270393, '退': 0.05105952, '還': 0.03695029, '40': 0.13684367, '慫': 0.14552471, '恿': 0.02818212, '妻': 0.12955436, '即': 0.03669928, '外': 0.02640035, '欣': 0.18592152, '倫': 0.21490988, '改': 0.036570393, '名': 0.10929021, '余': 0.19191754, '離婚': 0.2701975, '所有': 0.033614155, '均': 0.037072163, '完': 0.036711086, '畢': 0.035848167, '之後': 0.022242844, '復': 0.1256656, '婚': 0.21456185, '以免': 0.014255017, '到': 0.036747053, '云': 0.17734464, '不': 0.036636535, '疑': 0.036605336, '有': 0.036678407, '他': 0.03680233, '乃': 0.0367085, '3': 0.01609699, '共同': 0.036034267, '子': 0.009277225, '區': 0.037030756, '兩': 0.08985634, '26': 0.031873155, '再次': 0.0057184175, '結婚': 0.079899795}]\n",
            "1.0886423303586525\n",
            "0.36941444884359953\n"
          ]
        }
      ]
    },
    {
      "cell_type": "code",
      "source": [
        "lexical_scores1 = model.compute_lexical_matching_score(output_1['lexical_weights'][0], output_2['lexical_weights'][0])\n",
        "lexical_scores2 = model.compute_lexical_matching_score(output_1['lexical_weights'][0], output_2['lexical_weights'][1])\n",
        "lexical_scores3 = model.compute_lexical_matching_score(output_1['lexical_weights'][0], output_2['lexical_weights'][2])\n",
        "\n",
        "lexical_scores4 = model.compute_lexical_matching_score(output_1['lexical_weights'][1], output_2['lexical_weights'][0])\n",
        "lexical_scores5 = model.compute_lexical_matching_score(output_1['lexical_weights'][1], output_2['lexical_weights'][1])\n",
        "lexical_scores6 = model.compute_lexical_matching_score(output_1['lexical_weights'][1], output_2['lexical_weights'][2])\n",
        "\n",
        "lexical_scores7 = model.compute_lexical_matching_score(output_1['lexical_weights'][2], output_2['lexical_weights'][0])\n",
        "lexical_scores8 = model.compute_lexical_matching_score(output_1['lexical_weights'][2], output_2['lexical_weights'][1])\n",
        "lexical_scores9 = model.compute_lexical_matching_score(output_1['lexical_weights'][2], output_2['lexical_weights'][2])\n",
        "\n",
        "print(f'{lexical_scores1} {lexical_scores2} {lexical_scores3}')\n",
        "print(f'{lexical_scores4} {lexical_scores5} {lexical_scores6}')\n",
        "print(f'{lexical_scores7} {lexical_scores8} {lexical_scores9}')"
      ],
      "metadata": {
        "colab": {
          "base_uri": "https://localhost:8080/"
        },
        "id": "xP6y6faaN5Tz",
        "outputId": "005b527f-f1e4-41d8-d34c-db3f05e855ed"
      },
      "execution_count": null,
      "outputs": [
        {
          "output_type": "stream",
          "name": "stdout",
          "text": [
            "1.0886423303586525 0.3831455946240112 0.38493005066993646\n",
            "0.27445293439086527 0.402689978201181 0.37952038703951985\n",
            "0.3369303013168974 0.35157026874560415 2.7369453321980473\n"
          ]
        }
      ]
    },
    {
      "cell_type": "code",
      "source": [
        "output_1 = model.encode(tokenized_sample_3, return_dense=True, return_sparse=True, return_colbert_vecs=False)\n",
        "output_2 = model.encode(tokenized_sample_4, return_dense=True, return_sparse=True, return_colbert_vecs=False)\n",
        "\n",
        "print(model.convert_id_to_token(output_1['lexical_weights']))\n",
        "\n",
        "# compute the scores via lexical mathcing\n",
        "lexical_scores = model.compute_lexical_matching_score(output_1['lexical_weights'][0], output_2['lexical_weights'][0])\n",
        "print(lexical_scores)\n",
        "\n",
        "print(model.compute_lexical_matching_score(output_1['lexical_weights'][0], output_1['lexical_weights'][1]))"
      ],
      "metadata": {
        "colab": {
          "base_uri": "https://localhost:8080/"
        },
        "id": "B43s9gaCQQQN",
        "outputId": "73e43e1e-d2cb-465c-d197-216b007217c6"
      },
      "execution_count": null,
      "outputs": [
        {
          "output_type": "stream",
          "name": "stdout",
          "text": [
            "[{'經營': 0.23106717, '金': 0.22215083, '人力': 0.19755243, '仲介': 0.2430965, '有限公司': 0.18681578, '官': 0.20664075, '威': 0.25679636, '成': 0.21859004, '涉': 0.12265912, '違反': 0.22415353, '': 0.009732299, '就業': 0.20872307, '服務': 0.22841705, '法': 0.1613704, '案件': 0.13216618, '分別': 0.07402485, '臺灣': 0.1886867, '南投': 0.13048801, '地方': 0.020976283, '法院': 0.13424242, '年度': 0.11446829, '易': 0.16214943, '字': 0.05330687, '號': 0.015390031, '判': 0.136271, '處': 0.11005674, '有期徒刑': 0.24844971, '高等': 0.019260101, '臺': 0.13268411, '中': 0.06684701, '院': 0.02059358, '上': 0.044759147, '確定': 0.14192514, '真實': 0.22802193, '姓名': 0.1665453, '籍': 0.1724526, '不': 0.06680078, '詳': 0.15578593, '綽': 0.20556319, '年': 0.12541798, '女子': 0.18218562, '明': 0.1487738, '知': 0.23481369, '表': 0.011119336, '外籍': 0.19408923, '麗': 0.15711048, '娜': 0.24559414, '工作': 0.16217634, '無': 0.17202279, '結婚': 0.23072706, '真': 0.11060034, '意': 0.12605956, '負責': 0.16488542, '居': 0.11713222, '介紹': 0.052577607, '戊': 0.16554372, '擔任': 0.11732267, '人': 0.022937067, '頭': 0.1633352, '渠': 0.20324317, '實': 0.16226253, '公務員': 0.26357055, '登': 0.07056998, '載': 0.19307354, '職務': 0.16795044, '掌': 0.145155, '公': 0.06380768, '文書': 0.23115435, '概括': 0.064371645, '犯': 0.12350308, '聯絡': 0.10001547, '丙': 0.058131956, '支付': 0.17381959, '出國': 0.12985411, '辦理': 0.07686382, '機票': 0.15750442, '住宿': 0.11812387, '費用': 0.10275748, '提供': 0.036001258, '零': 0.047531173, '用': 0.05866151, '安排': 0.029672243, '所示': 0.010708563, '時間': 0.0609449, '旺': 0.19109, '施': 0.18310262, '女': 0.07108916, '註冊': 0.123068705, '證': 0.16044936, '於': 0.009423286, '附': 0.010563467, '開': 0.009672068, '書': 0.010425791, '前往': 0.0071174093, '我國': 0.0034668148, '駐': 0.08244443, '外': 0.009764828, '單位': 0.040468477, '返': 0.040232874, '台': 0.11279782, '後': 0.009643361, '陪同': 0.0052071363, '下': 0.009584852, '相關': 0.009863816, '資料': 0.010135286, '政': 0.009784363, '知情': 0.13373895, '該': 0.007911041, '承': 0.015709937, '辦': 0.005372271, '所': 0.009402171, '性質': 0.006387681, '電腦': 0.060619656, '管理': 0.14812967, '檔案': 0.052853063, '足以': 0.0049191415, '生': 0.008196741, '損害': 0.104907885, '戶': 0.051495403, '正確': 0.09738835, '偽': 0.19475415, '造': 0.10955511, '行': 0.05414457, '署': 0.0041326173, '檢察': 0.011611607, '職': 0.13176543, '權': 0.006464638, '不起': 0.15159604, '訴': 0.1306777, '分': 0.075108275}, {'被告': 0.19123712, '明': 0.16420662, '知': 0.20929807, '陳': 0.19012088, '丙': 0.16909918, '丁': 0.1980103, '死亡': 0.19223055, '後': 0.08842344, '遺產': 0.25592288, '屬': 0.13441613, '全體': 0.14398602, '繼': 0.15069549, '承': 0.13303575, '人': 0.0002448596, '公': 0.05621963, '同': 0.081180446, '共有': 0.15513866, '罔': 0.09661555, '顧': 0.08874908, '權益': 0.18796138, '利用': 0.18560243, '不': 0.07642998, '知情': 0.20204023, '成': 0.10885896, '年': 0.09497138, '男子': 0.13399322, '冒': 0.18844548, '用': 0.20842461, '名': 0.090991236, '義': 0.012019955, '盜': 0.19422765, '領': 0.2192667, '存款': 0.22872284, '損': 0.09062577, '及': 0.0756389, '合': 0.07230989, '庫': 0.1776666, '銀行': 0.15843739, '帳戶': 0.20587549, '管理': 0.14663544, '正確': 0.086937435, '實': 0.061318077, '有': 0.03687784, '該': 0.03976787, '念': 0.07295503, '前': 0.06545101, '無': 0.06840145, '犯罪': 0.14735284, '科': 0.10838206, '刑': 0.12749365, '紀錄': 0.12082219, '臺灣': 0.10760296, '高等': 0.0073461346, '法院': 0.11160391, '案': 0.042035073, '表': 0.03147984, '在': 0.019804295, '稽': 0.005051635, '素': 0.02948089, '良好': 0.064563885, '考量': 0.065919735, '坦': 0.059438344, '犯': 0.118158475, '行': 0.07292126, '對': 0.018456768, '告訴': 0.09693369, '部分': 0.07219917, '賠償': 0.19510001, '述': 0.0071573406, '態度': 0.1246686, '兼': 0.031418145, '衡': 0.12868853, '國中': 0.16986306, '畢業': 0.1801992, '教育': 0.16561191, '程度': 0.028280783, '為': 0.015799811, '越南': 0.2121196, '國': 0.09959589, '籍': 0.16784143, '因': 0.033863064, '我國': 0.072538346, '結婚': 0.17636293, '取得': 0.070058495, '家庭': 0.029668016, '狀況': 0.040548965, '動': 0.13787845, '機': 0.09876723, '目的': 0.06885526, '手段': 0.092451975, '情': 0.017753012, '狀': 0.01763295, '量': 0.0315235, '所示': 0.009310126, '諭': 0.08144206, '易': 0.16968235, '罰': 0.21608861, '金': 0.14327689, '折': 0.08018093, '算': 0.093232654, '標準': 0.12463422}, {'嗣': 0.2098883, '': 0.039489396, '間': 0.25988713, '死亡': 0.21093264, '辦理': 0.13638985, '繼': 0.17052867, '承': 0.095529824, '登記': 0.17074503, '前': 0.03512734, '濰': 0.29159313, '表示': 0.06393148, '願': 0.118819505, '給付': 0.19626, '二人': 0.16415551, '萬元': 0.22929648, '系': 0.14533223, '爭': 0.23364514, '不動產': 0.22370909, '人': 0.03468339, '單': 0.05837956, '獨': 0.13855103, '要求': 0.09408301, '應': 0.019285463, '先': 0.07302148, '將': 0.027770713, '設定': 0.154252, '抵押': 0.20479898, '權': 0.12098023, '予': 0.041958958, '擔': 0.12880519, '保': 0.034947056, '日': 0.034605373, '後': 0.034530263, '分割': 0.19117992, '遺產': 0.19112831, '取得': 0.04508438, '債': 0.14365745, '欲': 0.09028804, '銀行': 0.14750233, '借款': 0.19358285, '已': 0.032020852, '第一': 0.08438097, '順': 0.1126464, '位': 0.03492572, '遭': 0.0068816133, '評估': 0.15556668, '不足': 0.12974578, '清': 0.07143738, '償': 0.19079229, '得': 0.03488083, '同意': 0.052259184, '塗': 0.1753701, '銷': 0.17518353, '於': 0.033833705, '偕': 0.0376217, '同': 0.034784798, '代': 0.03460749, '書': 0.034832638, '林': 0.08568694, '淑': 0.15579501, '前往': 0.07095012, '臺中市': 0.10876326, '地': 0.09920363, '政': 0.11939794, '事務': 0.043237127, '下': 0.034873612, '稱': 0.1365157, '交付': 0.12883388, '面': 0.034877934, '額': 0.03525447, '支': 0.07713687, '票': 0.19089317, '未': 0.10032472, '簽': 0.074726075, '發': 0.03507127, '本': 0.08141115, '張': 0.1301264, '作為': 0.034673795, '承諾': 0.013271831, '撥': 0.01628238, '款': 0.034981288, '開': 0.04112254, '部分': 0.0019051582, '債務': 0.18350923, '置': 0.044254407, '若': 0.03451958, '罔': 0.098059796, '聞': 0.034761988, '重新': 0.069005795, '俟': 0.0037165284, '泓': 0.13856256, '維': 0.16850293, '持': 0.0026094317, '法院': 0.13720077, '聲': 0.034853633, '請': 0.034930088, '強制': 0.13739341, '執行': 0.097200945, '明': 0.016261596, '知': 0.026237294, '係': 0.026741598, '上': 0.034555826, '協議': 0.056770187, '無': 0.09459996, '詐欺': 0.18578461, '情': 0.0053106323, '事': 0.03492614, '意': 0.034736916, '圖': 0.034204505, '受': 0.03262906, '刑': 0.20189634, '追': 0.0912772, '訴': 0.03425628, '時': 0.034702905, '分': 0.033909805, '許': 0.034637, '臺灣': 0.028944604, '中': 0.034724377, '地方': 0.014796544, '檢察': 0.06809318, '署': 0.0347874, '臺': 0.010993235, '檢': 0.0085847005, '申': 0.013370112, '告': 0.034896232, '提出': 0.033708103, '告訴': 0.16635926, '扭': 0.108860984, '曲': 0.034871653, '事實': 0.028609958, '以': 0.033502642, '被告': 0.13502291, '母親': 0.18256788, '隱': 0.11291091, '瞞': 0.034925595, '自': 0.03459137, '遺': 0.0992925, '囑': 0.03502146, '始': 0.034684084, '寄': 0.033416048, '給': 0.03493019, '詐': 0.18191959, '先前': 0.054225415, '需': 0.027270576, '過': 0.026567124, '戶': 0.050586894, '惟': 0.007290505, '認為': 0.032689884, '只': 0.035179988, '分配': 0.1762245, '拒絕': 0.20183435, '請求': 0.022749536, '雙方': 0.026846375, '支付': 0.1514645, '交': 0.034697928, '收': 0.019739024, '執': 0.023601906, '完成': 0.001600191, '退': 0.08880347, '還': 0.034945413, '慫': 0.10442427, '恿': 0.049098767, '妻': 0.08103508, '外': 0.064133324, '欣': 0.19441736, '倫': 0.14246736, '改': 0.15363775, '名': 0.067149766, '離婚': 0.23228104, '所有': 0.030965112, '完': 0.03523293, '畢': 0.03522311, '之後': 0.003726028, '復': 0.13807689, '婚': 0.20619228, '到': 0.034154095, '不': 0.034828175, '疑': 0.02510941, '共同': 0.024317041, '潭': 0.095860176, '子': 0.069815665, '事務所': 0.0647119, '兩': 0.0551354, '相關': 0.009589426, '再次': 0.060796916, '結婚': 0.112618454}]\n",
            "0.8052082733747739\n",
            "0.4058677474081378\n"
          ]
        }
      ]
    },
    {
      "cell_type": "code",
      "source": [
        "lexical_scores1 = model.compute_lexical_matching_score(output_1['lexical_weights'][0], output_2['lexical_weights'][0])\n",
        "lexical_scores2 = model.compute_lexical_matching_score(output_1['lexical_weights'][0], output_2['lexical_weights'][1])\n",
        "lexical_scores3 = model.compute_lexical_matching_score(output_1['lexical_weights'][0], output_2['lexical_weights'][2])\n",
        "\n",
        "lexical_scores4 = model.compute_lexical_matching_score(output_1['lexical_weights'][1], output_2['lexical_weights'][0])\n",
        "lexical_scores5 = model.compute_lexical_matching_score(output_1['lexical_weights'][1], output_2['lexical_weights'][1])\n",
        "lexical_scores6 = model.compute_lexical_matching_score(output_1['lexical_weights'][1], output_2['lexical_weights'][2])\n",
        "\n",
        "lexical_scores7 = model.compute_lexical_matching_score(output_1['lexical_weights'][2], output_2['lexical_weights'][0])\n",
        "lexical_scores8 = model.compute_lexical_matching_score(output_1['lexical_weights'][2], output_2['lexical_weights'][1])\n",
        "lexical_scores9 = model.compute_lexical_matching_score(output_1['lexical_weights'][2], output_2['lexical_weights'][2])\n",
        "\n",
        "print(f'{lexical_scores1} {lexical_scores2} {lexical_scores3}')\n",
        "print(f'{lexical_scores4} {lexical_scores5} {lexical_scores6}')\n",
        "print(f'{lexical_scores7} {lexical_scores8} {lexical_scores9}')"
      ],
      "metadata": {
        "colab": {
          "base_uri": "https://localhost:8080/"
        },
        "id": "s2dqZ7mwQTQC",
        "outputId": "bad48bca-dfd0-49d0-d4ec-c2362aff8d19"
      },
      "execution_count": null,
      "outputs": [
        {
          "output_type": "stream",
          "name": "stdout",
          "text": [
            "0.8052082733747739 0.3592659393834765 0.1626352117418719\n",
            "0.3098407103084355 0.49542216573991027 0.3589866917955078\n",
            "0.3123540516862704 0.3545336989554926 1.8461087157593283\n"
          ]
        }
      ]
    },
    {
      "cell_type": "code",
      "source": [
        "output_1 = model.encode(cc_tokenized_sample_3, return_dense=True, return_sparse=True, return_colbert_vecs=False)\n",
        "output_2 = model.encode(cc_tokenized_sample_4, return_dense=True, return_sparse=True, return_colbert_vecs=False)\n",
        "\n",
        "print(model.convert_id_to_token(output_1['lexical_weights']))\n",
        "\n",
        "# compute the scores via lexical mathcing\n",
        "lexical_scores = model.compute_lexical_matching_score(output_1['lexical_weights'][0], output_2['lexical_weights'][0])\n",
        "print(lexical_scores)\n",
        "\n",
        "print(model.compute_lexical_matching_score(output_1['lexical_weights'][0], output_1['lexical_weights'][1]))"
      ],
      "metadata": {
        "colab": {
          "base_uri": "https://localhost:8080/"
        },
        "id": "p-07szahQWQP",
        "outputId": "1242b7ba-e8bc-4e33-e448-173aade6c47b"
      },
      "execution_count": null,
      "outputs": [
        {
          "output_type": "stream",
          "name": "stdout",
          "text": [
            "[{'与': 0.19463667, '经营': 0.25164324, '金': 0.20276935, '人力': 0.18788807, '仲介': 0.221133, '有限公司': 0.17720011, '官': 0.18080811, '威': 0.2193365, '成': 0.17285642, '涉': 0.13828039, '违反': 0.23833296, '就业': 0.22129744, '服务': 0.21554843, '法': 0.17030583, '': 0.03417991, '案件': 0.16019544, '分别': 0.059859477, '经': 0.021375611, '南投': 0.16903314, '地方': 0.022856288, '法院': 0.16138215, '年度': 0.117794536, '易': 0.15559456, '字': 0.03466467, '号': 0.064973645, '判': 0.17420346, '处': 0.15890427, '有期徒刑': 0.27331036, '高等': 0.06475803, '台中': 0.13897598, '分': 0.057719506, '院': 0.027844079, '上': 0.021218225, '确定': 0.19514719, '真实': 0.24822325, '姓名': 0.19814737, '年': 0.15161157, '籍': 0.15664369, '不': 0.109375834, '详': 0.14572164, '绰': 0.15270476, '女子': 0.1964624, '明': 0.1749071, '知': 0.21874839, '附': 0.04485316, '表': 0.021830041, '所示': 0.028266847, '外籍': 0.24199468, '人': 0.065838166, '仅': 0.084658995, '为': 0.021461494, '来': 0.14258012, '台': 0.23128657, '工作': 0.15168023, '无': 0.19748618, '结婚': 0.24578516, '真': 0.13866232, '意': 0.15728973, '负责': 0.22436848, '居': 0.12676808, '中': 0.019477375, '介绍': 0.040526293, '戊': 0.21889417, '担任': 0.13823655, '头': 0.17292194, '渠': 0.19782263, '共同': 0.053639814, '基于': 0.05438047, '实': 0.20184284, '事项': 0.086381316, '使': 0.021334425, '公务员': 0.26231644, '登': 0.114935294, '载': 0.20443273, '于': 0.021342307, '职务': 0.20989403, '掌': 0.19541201, '公': 0.12092598, '文': 0.1652024, '书': 0.15554553, '概括': 0.07247287, '犯': 0.11462021, '联络': 0.14360176, '丙': 0.10136387, '乙': 0.07926782, '支付': 0.15685335, '出': 0.02121254, '国': 0.13226889, '办理': 0.073230095, '机票': 0.1665099, '住宿': 0.09750655, '费用': 0.11717704, '提供': 0.1318216, '零': 0.07048999, '用': 0.0687251, '安排': 0.0851892, '时间': 0.06546539, '旺': 0.22167242, '施': 0.19567299, '女': 0.15535013, '注册': 0.09974507, '证明': 0.113871254, '持': 0.01989074, '开': 0.02103329, '前往': 0.054838434, '我国': 0.022706568, '驻': 0.11940253, '外': 0.021534096, '单位': 0.035568446, '证': 0.17453846, '返': 0.11729003, '后': 0.02091356, '陪同': 0.076856986, '下': 0.021232836, '相关': 0.021391131, '资料': 0.021453124, '政': 0.05383371, '事务': 0.00556875, '登记': 0.005178906, '知情': 0.16163561, '该': 0.021307848, '所': 0.049299426, '承': 0.032545887, '办': 0.0016560778, '性质': 0.00054559857, '电脑': 0.097483374, '档案': 0.017837182, '内': 0.021223366, '足以': 0.0042548105, '生': 0.021196749, '损害': 0.11321671, '户籍': 0.05896125, '管理': 0.027481802, '正确': 0.014172018, '性': 0.021235332, '伪': 0.20998743, '造': 0.02148508, '行': 0.08249378, '署': 0.014909066, '检察': 0.014123969, '侦': 0.010134324, '职': 0.1111046, '权': 0.1301322, '起诉': 0.11770264}, {'被告': 0.17245173, '明': 0.14608553, '知': 0.19680727, '丙': 0.17923932, '丁': 0.24527839, '死亡': 0.19166088, '后': 0.07736939, '遗产': 0.23384309, '属': 0.12770462, '全体': 0.10568099, '继承': 0.17911455, '人': 0.023459606, '公': 0.014905136, '同': 0.057427924, '共有': 0.13566095, '罔': 0.06269554, '顾': 0.07030327, '权益': 0.1654631, '利用': 0.17648424, '不': 0.04106681, '知情': 0.18979196, '成': 0.093543425, '年': 0.08773857, '男子': 0.13280466, '冒': 0.16788799, '用': 0.1618952, '名义': 0.1893221, '盗': 0.17910518, '领': 0.18713821, '存款': 0.21416903, '损': 0.11671635, '及': 0.0027198344, '合': 0.053694807, '库': 0.16481918, '银行': 0.17173904, '帐': 0.09784694, '户': 0.11029262, '管理': 0.11781129, '正确': 0.07075147, '实': 0.071670175, '有': 0.09838035, '该': 0.110691026, '惟': 0.03457029, '念': 0.06112309, '前': 0.027415976, '无': 0.09469364, '犯罪': 0.16254385, '科': 0.017424583, '刑': 0.12644212, '纪录': 0.11490023, '法院': 0.09649831, '案': 0.07907855, '表': 0.022424504, '行': 0.01958108, '良好': 0.051439036, '考量': 0.05586028, '坦': 0.0131963715, '承': 0.010265332, '犯': 0.07646817, '告诉': 0.05874856, '部分': 0.039883822, '赔偿': 0.14447148, '态度': 0.049921215, '衡': 0.05170443, '中': 0.030959152, '毕业': 0.14045027, '教育': 0.11619259, '程度': 0.023109699, '越南': 0.20644614, '国籍': 0.12633452, '与': 0.047857717, '我国': 0.07744716, '结婚': 0.192726, '取得': 0.050753094, '家庭': 0.016105805, '状况': 0.02178245, '动': 0.08394098, '机': 0.085853115, '目的': 0.035704404, '手段': 0.052722573, '状': 0.02911584, '量': 0.02153717, '所示': 0.0068529695, '谕': 0.07725939, '罚': 0.22329062, '金': 0.16322058, '折': 0.07451524, '算': 0.116052434, '标准': 0.11315841}, {'': 0.04840299, '嗣': 0.2022647, '于': 0.21648765, '间': 0.21901585, '死亡': 0.20533513, '办理': 0.17224887, '继承': 0.2103767, '登记': 0.23226994, '前': 0.13464573, '表示': 0.15748528, '愿': 0.15749305, '给': 0.13661638, '付': 0.1465017, '二人': 0.16764212, '万元': 0.23575822, '将': 0.045758523, '系': 0.14689791, '争': 0.21814416, '不动': 0.11270653, '产': 0.110321485, '人': 0.031177811, '单独': 0.1384122, '要求': 0.12702215, '应': 0.036237627, '先': 0.087243415, '设定': 0.15498054, '抵押': 0.20431963, '权': 0.116865575, '予': 0.03922999, '担保': 0.17318173, '日': 0.02576831, '后': 0.03075013, '分割': 0.19942194, '遗产': 0.22264566, '取得': 0.030992094, '债': 0.1636742, '欲': 0.10166479, '银行': 0.12854174, '借款': 0.14357582, '已': 0.022262368, '第一': 0.060571823, '顺': 0.076543294, '位': 0.031154856, '遭': 0.030587379, '评估': 0.12596518, '不足': 0.14578514, '清': 0.06965965, '偿': 0.17635399, '并': 0.03073775, '得': 0.031283174, '同意': 0.07830105, '涂': 0.14024585, '销': 0.1930597, '偕': 0.06261262, '同': 0.030098628, '代': 0.028144918, '书': 0.030799445, '林': 0.05393412, '淑': 0.11653099, '前往': 0.07786555, '地': 0.070953384, '政': 0.10565741, '事务': 0.057122722, '下': 0.031130701, '称': 0.16443998, '当': 0.006235838, '场': 0.031225279, '交付': 0.1162064, '面': 0.031495556, '额': 0.03147309, '支': 0.015321791, '票': 0.17970428, '至于': 0.0028683096, '未': 0.09938644, '签': 0.06892185, '发': 0.031469878, '本': 0.06860745, '作为': 0.03169105, '承诺': 0.08181608, '拨': 0.011975154, '款': 0.031065367, '会': 0.025714219, '开': 0.095151335, '部分': 0.0033082478, '债务': 0.1797808, '置': 0.022572227, '若': 0.030604035, '罔': 0.07908631, '闻': 0.031116318, '重新': 0.052721165, '俟': 0.014093488, '泓': 0.10829242, '维': 0.18584967, '让': 0.06147028, '与': 0.029910099, '持': 0.080852814, '法院': 0.15806478, '声': 0.030611712, '请': 0.02997915, '强制': 0.15212628, '执行': 0.14351586, '明': 0.048021875, '知': 0.098514944, '基于': 0.025045946, '上': 0.02892223, '协议': 0.022265792, '无': 0.03942258, '诈': 0.15647703, '欺': 0.12130433, '情': 0.020172581, '事': 0.031365167, '意': 0.031189386, '图': 0.031374857, '使': 0.011583164, '受': 0.029623132, '刑': 0.19007568, '追': 0.051081117, '诉': 0.079580694, '时': 0.029613357, '分': 0.03104505, '许': 0.0313054, '台中': 0.09949307, '地方': 0.025015693, '检察': 0.08508596, '署': 0.056981236, '检': 0.081543006, '申': 0.023029044, '告': 0.030994289, '对': 0.027049165, '提出': 0.038764, '告诉': 0.13199966, '扭': 0.09085738, '曲': 0.031325996, '事实': 0.080271244, '略': 0.0035507828, '以': 0.0309158, '被告': 0.14438307, '母亲': 0.16003326, '隐': 0.08120164, '瞒': 0.031180233, '自': 0.030929342, '遗': 0.08315158, '嘱': 0.12301097, '始': 0.030434873, '寄': 0.014088832, '该': 0.030969083, '先前': 0.055877402, '需': 0.016018074, '户': 0.08620915, '惟': 0.0020648837, '认为': 0.013142627, '只': 0.013596438, '分配': 0.16876392, '拒绝': 0.18566418, '请求': 0.05498778, '最后': 0.01402007, '双方': 0.08712248, '支付': 0.19029114, '张': 0.031236846, '交': 0.031242784, '收': 0.01210542, '执': 0.02377722, '过': 0.029993717, '完成': 0.026601076, '退': 0.09794008, '还': 0.10066148, '怂': 0.1410114, '恿': 0.08845942, '其': 0.030067824, '妻': 0.10372318, '外': 0.13101952, '改': 0.12187567, '名': 0.01219476, '离婚': 0.195332, '所有': 0.032508843, '完': 0.031316195, '毕': 0.031054944, '之后': 0.0039715096, '复': 0.13995399, '婚': 0.1918341, '到': 0.024973318, '不': 0.029875472, '疑': 0.03944637, '共同': 0.035296462, '潭': 0.13531499, '子': 0.09507063, '区': 0.0030876733, '两': 0.024089426, '再次': 0.035916194, '结婚': 0.10217575}]\n",
            "1.0643429195642966\n",
            "0.3263810151256621\n"
          ]
        }
      ]
    },
    {
      "cell_type": "code",
      "source": [
        "lexical_scores1 = model.compute_lexical_matching_score(output_1['lexical_weights'][0], output_2['lexical_weights'][0])\n",
        "lexical_scores2 = model.compute_lexical_matching_score(output_1['lexical_weights'][0], output_2['lexical_weights'][1])\n",
        "lexical_scores3 = model.compute_lexical_matching_score(output_1['lexical_weights'][0], output_2['lexical_weights'][2])\n",
        "\n",
        "lexical_scores4 = model.compute_lexical_matching_score(output_1['lexical_weights'][1], output_2['lexical_weights'][0])\n",
        "lexical_scores5 = model.compute_lexical_matching_score(output_1['lexical_weights'][1], output_2['lexical_weights'][1])\n",
        "lexical_scores6 = model.compute_lexical_matching_score(output_1['lexical_weights'][1], output_2['lexical_weights'][2])\n",
        "\n",
        "lexical_scores7 = model.compute_lexical_matching_score(output_1['lexical_weights'][2], output_2['lexical_weights'][0])\n",
        "lexical_scores8 = model.compute_lexical_matching_score(output_1['lexical_weights'][2], output_2['lexical_weights'][1])\n",
        "lexical_scores9 = model.compute_lexical_matching_score(output_1['lexical_weights'][2], output_2['lexical_weights'][2])\n",
        "\n",
        "print(f'{lexical_scores1} {lexical_scores2} {lexical_scores3}')\n",
        "print(f'{lexical_scores4} {lexical_scores5} {lexical_scores6}')\n",
        "print(f'{lexical_scores7} {lexical_scores8} {lexical_scores9}')"
      ],
      "metadata": {
        "colab": {
          "base_uri": "https://localhost:8080/"
        },
        "id": "DlFdqQ7-QXhC",
        "outputId": "1ef938ee-5a16-4b70-c5db-18c9f5415104"
      },
      "execution_count": null,
      "outputs": [
        {
          "output_type": "stream",
          "name": "stdout",
          "text": [
            "1.0643429195642966 0.2776009238077677 0.2348859452904435\n",
            "0.29742844013526337 0.4435920581781829 0.3631424810446333\n",
            "0.39091309281866415 0.33642640582365857 1.7690151336173585\n"
          ]
        }
      ]
    },
    {
      "cell_type": "markdown",
      "source": [
        "## colbert"
      ],
      "metadata": {
        "id": "TWsYjgmW5Hw4"
      }
    },
    {
      "cell_type": "code",
      "source": [
        "output_1 = model.encode(sword_1, return_dense=True, return_sparse=True, return_colbert_vecs=True)\n",
        "output_2 = model.encode(sword_2, return_dense=True, return_sparse=True, return_colbert_vecs=True)\n",
        "\n",
        "print(model.colbert_score(output_1['colbert_vecs'][0], output_2['colbert_vecs'][0]))\n",
        "print(model.colbert_score(output_1['colbert_vecs'][0], output_2['colbert_vecs'][1]))\n",
        "print(model.colbert_score(output_1['colbert_vecs'][1], output_2['colbert_vecs'][0]))\n",
        "print(model.colbert_score(output_1['colbert_vecs'][1], output_2['colbert_vecs'][1]))"
      ],
      "metadata": {
        "colab": {
          "base_uri": "https://localhost:8080/"
        },
        "id": "i-OL8Pmb5S5v",
        "outputId": "9c891c57-d0d6-4d8a-878a-fe0ac9bae19d"
      },
      "execution_count": 99,
      "outputs": [
        {
          "output_type": "stream",
          "name": "stdout",
          "text": [
            "tensor(0.8653)\n",
            "tensor(0.5597)\n",
            "tensor(0.5299)\n",
            "tensor(0.7482)\n"
          ]
        }
      ]
    },
    {
      "cell_type": "code",
      "source": [
        "len(sword_1)"
      ],
      "metadata": {
        "id": "-DCroq50HQB_",
        "outputId": "38ecdcf0-fd2e-439b-cda5-1e5183c70c13",
        "colab": {
          "base_uri": "https://localhost:8080/"
        }
      },
      "execution_count": 148,
      "outputs": [
        {
          "output_type": "execute_result",
          "data": {
            "text/plain": [
              "2"
            ]
          },
          "metadata": {},
          "execution_count": 148
        }
      ]
    },
    {
      "cell_type": "code",
      "source": [
        "print(output_1['colbert_vecs'][0].shape)\n",
        "print(output_1['colbert_vecs'][1].shape)"
      ],
      "metadata": {
        "id": "mOd5mPHsHHRe",
        "outputId": "5c8948c1-ff3b-420a-cb7f-05419e5e20ea",
        "colab": {
          "base_uri": "https://localhost:8080/"
        }
      },
      "execution_count": 150,
      "outputs": [
        {
          "output_type": "stream",
          "name": "stdout",
          "text": [
            "(3, 1024)\n",
            "(3, 1024)\n"
          ]
        }
      ]
    },
    {
      "cell_type": "code",
      "source": [
        "train_embeddings_colbert = model.encode(tokenized_train_summaries[:10], return_dense=True, return_sparse=True, return_colbert_vecs=True)['colbert_vecs']"
      ],
      "metadata": {
        "id": "v2seXal4BUsn"
      },
      "execution_count": 134,
      "outputs": []
    },
    {
      "cell_type": "code",
      "source": [
        "test_embeddings_colbert = model.encode(tokenized_test_summaries[:2], return_dense=True, return_sparse=True, return_colbert_vecs=True)['colbert_vecs']"
      ],
      "metadata": {
        "id": "ZXrE6gQjA_zS"
      },
      "execution_count": 135,
      "outputs": []
    },
    {
      "cell_type": "code",
      "source": [
        "np.savetxt('/content/drive/MyDrive/senior/LAB/LawCaseRetreiver/sentence_predict/summary/train_embeddings_colbert.txt', train_embeddings_colbert)\n",
        "np.savetxt('/content/drive/MyDrive/senior/LAB/LawCaseRetreiver/sentence_predict/summary/test_embeddings_colbert.txt', test_embeddings_colbert)"
      ],
      "metadata": {
        "id": "X_OtBDMTBajF"
      },
      "execution_count": null,
      "outputs": []
    },
    {
      "cell_type": "code",
      "source": [
        "k = 3\n",
        "knn_model_colbert = NearestNeighbors(n_neighbors=k, metric=model.colbert_score)"
      ],
      "metadata": {
        "id": "21X5P6GdA7UP"
      },
      "execution_count": 160,
      "outputs": []
    },
    {
      "cell_type": "code",
      "source": [
        "print(len(tokenized_train_summaries[0]))\n",
        "print(len(tokenized_train_summaries[1]))\n",
        "print(len(tokenized_train_summaries[2]))"
      ],
      "metadata": {
        "id": "jMkCYT7-G1rE",
        "outputId": "5487f1c4-761e-4aae-e5c7-3ee97ef71596",
        "colab": {
          "base_uri": "https://localhost:8080/"
        }
      },
      "execution_count": 145,
      "outputs": [
        {
          "output_type": "stream",
          "name": "stdout",
          "text": [
            "248\n",
            "363\n",
            "588\n"
          ]
        }
      ]
    },
    {
      "cell_type": "code",
      "source": [
        "print(train_embeddings_colbert[0].shape)\n",
        "print(train_embeddings_colbert[1].shape)\n",
        "print(train_embeddings_colbert[2].shape)"
      ],
      "metadata": {
        "id": "ArMllQXrGn8S",
        "outputId": "e39dfd97-e556-41ce-8ffa-59cf950be0c8",
        "colab": {
          "base_uri": "https://localhost:8080/"
        }
      },
      "execution_count": 142,
      "outputs": [
        {
          "output_type": "stream",
          "name": "stdout",
          "text": [
            "(194, 1024)\n",
            "(315, 1024)\n",
            "(441, 1024)\n"
          ]
        }
      ]
    },
    {
      "cell_type": "code",
      "source": [
        "max_length = max(len(vec) for vec in train_embeddings_colbert)\n",
        "max_length"
      ],
      "metadata": {
        "id": "LHEPW-VXHj3g",
        "outputId": "1a0ccfbc-8655-4184-9879-7d6555afa021",
        "colab": {
          "base_uri": "https://localhost:8080/"
        }
      },
      "execution_count": 152,
      "outputs": [
        {
          "output_type": "execute_result",
          "data": {
            "text/plain": [
              "546"
            ]
          },
          "metadata": {},
          "execution_count": 152
        }
      ]
    },
    {
      "cell_type": "code",
      "source": [
        "vec_1024 = [0]*1024"
      ],
      "metadata": {
        "id": "QB-7BJEkH06g"
      },
      "execution_count": 155,
      "outputs": []
    },
    {
      "cell_type": "code",
      "source": [
        "padded_train_embeddings_colbert = []\n",
        "for embedding in train_embeddings_colbert:\n",
        "  zero_embedding = np.zeros((max_length, 1024))\n",
        "  for i, vec in enumerate(embedding):\n",
        "    zero_embedding[i] = vec\n",
        "  padded_train_embeddings_colbert.append(zero_embedding)"
      ],
      "metadata": {
        "id": "p8w9GpsRHn7M"
      },
      "execution_count": 157,
      "outputs": []
    },
    {
      "cell_type": "code",
      "source": [
        "print(padded_train_embeddings_colbert[0].shape)\n",
        "print(padded_train_embeddings_colbert[1].shape)\n",
        "print(padded_train_embeddings_colbert[2].shape)"
      ],
      "metadata": {
        "id": "XV3LWMtrJItj",
        "outputId": "9756fb9f-0a76-47cd-d701-2898781b3b9e",
        "colab": {
          "base_uri": "https://localhost:8080/"
        }
      },
      "execution_count": 158,
      "outputs": [
        {
          "output_type": "stream",
          "name": "stdout",
          "text": [
            "(546, 1024)\n",
            "(546, 1024)\n",
            "(546, 1024)\n"
          ]
        }
      ]
    },
    {
      "cell_type": "code",
      "source": [
        "knn_model_colbert.fit(padded_train_embeddings_colbert)"
      ],
      "metadata": {
        "id": "pBi5YOwOBqRC",
        "outputId": "aa53fbb0-550b-40ea-c9ce-bee9e4510736",
        "colab": {
          "base_uri": "https://localhost:8080/",
          "height": 311
        }
      },
      "execution_count": 161,
      "outputs": [
        {
          "output_type": "error",
          "ename": "ValueError",
          "evalue": "Found array with dim 3. NearestNeighbors expected <= 2.",
          "traceback": [
            "\u001b[0;31m---------------------------------------------------------------------------\u001b[0m",
            "\u001b[0;31mValueError\u001b[0m                                Traceback (most recent call last)",
            "\u001b[0;32m<ipython-input-161-be8fe0e21f86>\u001b[0m in \u001b[0;36m<cell line: 1>\u001b[0;34m()\u001b[0m\n\u001b[0;32m----> 1\u001b[0;31m \u001b[0mknn_model_colbert\u001b[0m\u001b[0;34m.\u001b[0m\u001b[0mfit\u001b[0m\u001b[0;34m(\u001b[0m\u001b[0mpadded_train_embeddings_colbert\u001b[0m\u001b[0;34m)\u001b[0m\u001b[0;34m\u001b[0m\u001b[0;34m\u001b[0m\u001b[0m\n\u001b[0m",
            "\u001b[0;32m/usr/local/lib/python3.10/dist-packages/sklearn/neighbors/_unsupervised.py\u001b[0m in \u001b[0;36mfit\u001b[0;34m(self, X, y)\u001b[0m\n\u001b[1;32m    174\u001b[0m         \"\"\"\n\u001b[1;32m    175\u001b[0m         \u001b[0mself\u001b[0m\u001b[0;34m.\u001b[0m\u001b[0m_validate_params\u001b[0m\u001b[0;34m(\u001b[0m\u001b[0;34m)\u001b[0m\u001b[0;34m\u001b[0m\u001b[0;34m\u001b[0m\u001b[0m\n\u001b[0;32m--> 176\u001b[0;31m         \u001b[0;32mreturn\u001b[0m \u001b[0mself\u001b[0m\u001b[0;34m.\u001b[0m\u001b[0m_fit\u001b[0m\u001b[0;34m(\u001b[0m\u001b[0mX\u001b[0m\u001b[0;34m)\u001b[0m\u001b[0;34m\u001b[0m\u001b[0;34m\u001b[0m\u001b[0m\n\u001b[0m",
            "\u001b[0;32m/usr/local/lib/python3.10/dist-packages/sklearn/neighbors/_base.py\u001b[0m in \u001b[0;36m_fit\u001b[0;34m(self, X, y)\u001b[0m\n\u001b[1;32m    489\u001b[0m         \u001b[0;32melse\u001b[0m\u001b[0;34m:\u001b[0m\u001b[0;34m\u001b[0m\u001b[0;34m\u001b[0m\u001b[0m\n\u001b[1;32m    490\u001b[0m             \u001b[0;32mif\u001b[0m \u001b[0;32mnot\u001b[0m \u001b[0misinstance\u001b[0m\u001b[0;34m(\u001b[0m\u001b[0mX\u001b[0m\u001b[0;34m,\u001b[0m \u001b[0;34m(\u001b[0m\u001b[0mKDTree\u001b[0m\u001b[0;34m,\u001b[0m \u001b[0mBallTree\u001b[0m\u001b[0;34m,\u001b[0m \u001b[0mNeighborsBase\u001b[0m\u001b[0;34m)\u001b[0m\u001b[0;34m)\u001b[0m\u001b[0;34m:\u001b[0m\u001b[0;34m\u001b[0m\u001b[0;34m\u001b[0m\u001b[0m\n\u001b[0;32m--> 491\u001b[0;31m                 \u001b[0mX\u001b[0m \u001b[0;34m=\u001b[0m \u001b[0mself\u001b[0m\u001b[0;34m.\u001b[0m\u001b[0m_validate_data\u001b[0m\u001b[0;34m(\u001b[0m\u001b[0mX\u001b[0m\u001b[0;34m,\u001b[0m \u001b[0maccept_sparse\u001b[0m\u001b[0;34m=\u001b[0m\u001b[0;34m\"csr\"\u001b[0m\u001b[0;34m,\u001b[0m \u001b[0morder\u001b[0m\u001b[0;34m=\u001b[0m\u001b[0;34m\"C\"\u001b[0m\u001b[0;34m)\u001b[0m\u001b[0;34m\u001b[0m\u001b[0;34m\u001b[0m\u001b[0m\n\u001b[0m\u001b[1;32m    492\u001b[0m \u001b[0;34m\u001b[0m\u001b[0m\n\u001b[1;32m    493\u001b[0m         \u001b[0mself\u001b[0m\u001b[0;34m.\u001b[0m\u001b[0m_check_algorithm_metric\u001b[0m\u001b[0;34m(\u001b[0m\u001b[0;34m)\u001b[0m\u001b[0;34m\u001b[0m\u001b[0;34m\u001b[0m\u001b[0m\n",
            "\u001b[0;32m/usr/local/lib/python3.10/dist-packages/sklearn/base.py\u001b[0m in \u001b[0;36m_validate_data\u001b[0;34m(self, X, y, reset, validate_separately, **check_params)\u001b[0m\n\u001b[1;32m    563\u001b[0m             \u001b[0;32mraise\u001b[0m \u001b[0mValueError\u001b[0m\u001b[0;34m(\u001b[0m\u001b[0;34m\"Validation should be done on X, y or both.\"\u001b[0m\u001b[0;34m)\u001b[0m\u001b[0;34m\u001b[0m\u001b[0;34m\u001b[0m\u001b[0m\n\u001b[1;32m    564\u001b[0m         \u001b[0;32melif\u001b[0m \u001b[0;32mnot\u001b[0m \u001b[0mno_val_X\u001b[0m \u001b[0;32mand\u001b[0m \u001b[0mno_val_y\u001b[0m\u001b[0;34m:\u001b[0m\u001b[0;34m\u001b[0m\u001b[0;34m\u001b[0m\u001b[0m\n\u001b[0;32m--> 565\u001b[0;31m             \u001b[0mX\u001b[0m \u001b[0;34m=\u001b[0m \u001b[0mcheck_array\u001b[0m\u001b[0;34m(\u001b[0m\u001b[0mX\u001b[0m\u001b[0;34m,\u001b[0m \u001b[0minput_name\u001b[0m\u001b[0;34m=\u001b[0m\u001b[0;34m\"X\"\u001b[0m\u001b[0;34m,\u001b[0m \u001b[0;34m**\u001b[0m\u001b[0mcheck_params\u001b[0m\u001b[0;34m)\u001b[0m\u001b[0;34m\u001b[0m\u001b[0;34m\u001b[0m\u001b[0m\n\u001b[0m\u001b[1;32m    566\u001b[0m             \u001b[0mout\u001b[0m \u001b[0;34m=\u001b[0m \u001b[0mX\u001b[0m\u001b[0;34m\u001b[0m\u001b[0;34m\u001b[0m\u001b[0m\n\u001b[1;32m    567\u001b[0m         \u001b[0;32melif\u001b[0m \u001b[0mno_val_X\u001b[0m \u001b[0;32mand\u001b[0m \u001b[0;32mnot\u001b[0m \u001b[0mno_val_y\u001b[0m\u001b[0;34m:\u001b[0m\u001b[0;34m\u001b[0m\u001b[0;34m\u001b[0m\u001b[0m\n",
            "\u001b[0;32m/usr/local/lib/python3.10/dist-packages/sklearn/utils/validation.py\u001b[0m in \u001b[0;36mcheck_array\u001b[0;34m(array, accept_sparse, accept_large_sparse, dtype, order, copy, force_all_finite, ensure_2d, allow_nd, ensure_min_samples, ensure_min_features, estimator, input_name)\u001b[0m\n\u001b[1;32m    913\u001b[0m             )\n\u001b[1;32m    914\u001b[0m         \u001b[0;32mif\u001b[0m \u001b[0;32mnot\u001b[0m \u001b[0mallow_nd\u001b[0m \u001b[0;32mand\u001b[0m \u001b[0marray\u001b[0m\u001b[0;34m.\u001b[0m\u001b[0mndim\u001b[0m \u001b[0;34m>=\u001b[0m \u001b[0;36m3\u001b[0m\u001b[0;34m:\u001b[0m\u001b[0;34m\u001b[0m\u001b[0;34m\u001b[0m\u001b[0m\n\u001b[0;32m--> 915\u001b[0;31m             raise ValueError(\n\u001b[0m\u001b[1;32m    916\u001b[0m                 \u001b[0;34m\"Found array with dim %d. %s expected <= 2.\"\u001b[0m\u001b[0;34m\u001b[0m\u001b[0;34m\u001b[0m\u001b[0m\n\u001b[1;32m    917\u001b[0m                 \u001b[0;34m%\u001b[0m \u001b[0;34m(\u001b[0m\u001b[0marray\u001b[0m\u001b[0;34m.\u001b[0m\u001b[0mndim\u001b[0m\u001b[0;34m,\u001b[0m \u001b[0mestimator_name\u001b[0m\u001b[0;34m)\u001b[0m\u001b[0;34m\u001b[0m\u001b[0;34m\u001b[0m\u001b[0m\n",
            "\u001b[0;31mValueError\u001b[0m: Found array with dim 3. NearestNeighbors expected <= 2."
          ]
        }
      ]
    },
    {
      "cell_type": "code",
      "source": [
        "# 將模型保存到文件\n",
        "with open('/content/drive/MyDrive/senior/LAB/LawCaseRetreiver/sentence_predict/knn_model_colbert.pkl', 'wb') as f:\n",
        "    pickle.dump(knn_model_colbert, f)\n",
        "\n",
        "# 從文件加載模型\n",
        "with open('/content/drive/MyDrive/senior/LAB/LawCaseRetreiver/sentence_predict/knn_model_colbert.pkl', 'rb') as f:\n",
        "    knn_model_colbert_loaded = pickle.load(f)"
      ],
      "metadata": {
        "id": "qeuo5rbIB4bm"
      },
      "execution_count": 114,
      "outputs": []
    },
    {
      "cell_type": "code",
      "source": [
        "len(train_embeddings_colbert['colbert_vecs'])"
      ],
      "metadata": {
        "id": "g4StSI_MDzgV",
        "outputId": "003ff0c4-fc24-4eab-d659-6573a1c0ef80",
        "colab": {
          "base_uri": "https://localhost:8080/"
        }
      },
      "execution_count": 125,
      "outputs": [
        {
          "output_type": "execute_result",
          "data": {
            "text/plain": [
              "10"
            ]
          },
          "metadata": {},
          "execution_count": 125
        }
      ]
    },
    {
      "cell_type": "code",
      "source": [
        "test_embeddings_colbert['dense_vecs']"
      ],
      "metadata": {
        "id": "0Gmd7ZZ7Dtfs",
        "outputId": "8d41800f-e508-48ca-a59a-4f3fce3376f3",
        "colab": {
          "base_uri": "https://localhost:8080/"
        }
      },
      "execution_count": 132,
      "outputs": [
        {
          "output_type": "execute_result",
          "data": {
            "text/plain": [
              "array([[-0.01875211,  0.02883617,  0.00412132, ..., -0.01654896,\n",
              "        -0.05432812,  0.00466428],\n",
              "       [-0.03423084,  0.03943255, -0.06090587, ...,  0.01285641,\n",
              "        -0.03339079,  0.00087781]], dtype=float32)"
            ]
          },
          "metadata": {},
          "execution_count": 132
        }
      ]
    },
    {
      "cell_type": "code",
      "source": [
        "test_embeddings_colbert['colbert_vecs']"
      ],
      "metadata": {
        "id": "WEnhjA9nFRaP",
        "outputId": "8e4bfeea-f529-48d5-e213-a5b1e1a29b81",
        "colab": {
          "base_uri": "https://localhost:8080/"
        }
      },
      "execution_count": 133,
      "outputs": [
        {
          "output_type": "execute_result",
          "data": {
            "text/plain": [
              "[array([[-0.01347857,  0.05767947,  0.00216896, ...,  0.04237657,\n",
              "          0.03365747, -0.0112196 ],\n",
              "        [ 0.00700776,  0.03143869,  0.01361316, ...,  0.04598797,\n",
              "          0.00146442, -0.00404962],\n",
              "        [-0.02111956,  0.05814525,  0.00954774, ..., -0.01847027,\n",
              "          0.01094045, -0.00482355],\n",
              "        ...,\n",
              "        [-0.01889718,  0.07741033, -0.00618311, ...,  0.04854978,\n",
              "         -0.00848097, -0.03542492],\n",
              "        [-0.01817219,  0.04910505, -0.01528996, ...,  0.00565172,\n",
              "         -0.02460399, -0.00530999],\n",
              "        [ 0.01880972,  0.01375304, -0.00312364, ...,  0.02246102,\n",
              "          0.02100301,  0.01338852]], dtype=float32),\n",
              " array([[-0.03183267,  0.03221238, -0.01905505, ...,  0.01542058,\n",
              "          0.0207462 , -0.01091856],\n",
              "        [ 0.02097862,  0.03592551, -0.03860803, ...,  0.03772056,\n",
              "          0.01515677,  0.0106566 ],\n",
              "        [-0.04141861,  0.0314973 , -0.0254971 , ...,  0.02118472,\n",
              "          0.01958897, -0.01210931],\n",
              "        ...,\n",
              "        [-0.0192519 ,  0.0606344 , -0.02658313, ...,  0.0476144 ,\n",
              "         -0.00794406, -0.03222139],\n",
              "        [ 0.02277951,  0.00443473, -0.02278711, ...,  0.04083643,\n",
              "          0.00301485,  0.00122971],\n",
              "        [ 0.01553537,  0.00456688, -0.02449519, ...,  0.01444396,\n",
              "          0.02246603, -0.00226801]], dtype=float32)]"
            ]
          },
          "metadata": {},
          "execution_count": 133
        }
      ]
    },
    {
      "cell_type": "code",
      "source": [
        "len(test_embeddings_colbert['colbert_vecs'][0])"
      ],
      "metadata": {
        "id": "lMDbDl9ADbrC",
        "outputId": "29e49b4d-ad66-4356-d2ca-cc252eb4010e",
        "colab": {
          "base_uri": "https://localhost:8080/"
        }
      },
      "execution_count": 121,
      "outputs": [
        {
          "output_type": "execute_result",
          "data": {
            "text/plain": [
              "231"
            ]
          },
          "metadata": {},
          "execution_count": 121
        }
      ]
    },
    {
      "cell_type": "code",
      "source": [
        "distances, indices = knn_model_colbert_loaded.kneighbors(test_embeddings_colbert['colbert_vecs'][0][0].reshape(-1, 1))"
      ],
      "metadata": {
        "id": "7HyccoAEBzXZ",
        "outputId": "ca83093e-bb5b-4321-f007-d069f5fef9c4",
        "colab": {
          "base_uri": "https://localhost:8080/",
          "height": 293
        }
      },
      "execution_count": 118,
      "outputs": [
        {
          "output_type": "error",
          "ename": "ValueError",
          "evalue": "X has 1 features, but NearestNeighbors is expecting 1024 features as input.",
          "traceback": [
            "\u001b[0;31m---------------------------------------------------------------------------\u001b[0m",
            "\u001b[0;31mValueError\u001b[0m                                Traceback (most recent call last)",
            "\u001b[0;32m<ipython-input-118-cbab1803ed0d>\u001b[0m in \u001b[0;36m<cell line: 1>\u001b[0;34m()\u001b[0m\n\u001b[0;32m----> 1\u001b[0;31m \u001b[0mdistances\u001b[0m\u001b[0;34m,\u001b[0m \u001b[0mindices\u001b[0m \u001b[0;34m=\u001b[0m \u001b[0mknn_model_colbert_loaded\u001b[0m\u001b[0;34m.\u001b[0m\u001b[0mkneighbors\u001b[0m\u001b[0;34m(\u001b[0m\u001b[0mtest_embeddings_colbert\u001b[0m\u001b[0;34m[\u001b[0m\u001b[0;34m'colbert_vecs'\u001b[0m\u001b[0;34m]\u001b[0m\u001b[0;34m[\u001b[0m\u001b[0;36m0\u001b[0m\u001b[0;34m]\u001b[0m\u001b[0;34m[\u001b[0m\u001b[0;36m0\u001b[0m\u001b[0;34m]\u001b[0m\u001b[0;34m.\u001b[0m\u001b[0mreshape\u001b[0m\u001b[0;34m(\u001b[0m\u001b[0;34m-\u001b[0m\u001b[0;36m1\u001b[0m\u001b[0;34m,\u001b[0m \u001b[0;36m1\u001b[0m\u001b[0;34m)\u001b[0m\u001b[0;34m)\u001b[0m\u001b[0;34m\u001b[0m\u001b[0;34m\u001b[0m\u001b[0m\n\u001b[0m",
            "\u001b[0;32m/usr/local/lib/python3.10/dist-packages/sklearn/neighbors/_base.py\u001b[0m in \u001b[0;36mkneighbors\u001b[0;34m(self, X, n_neighbors, return_distance)\u001b[0m\n\u001b[1;32m    804\u001b[0m                 \u001b[0mX\u001b[0m \u001b[0;34m=\u001b[0m \u001b[0m_check_precomputed\u001b[0m\u001b[0;34m(\u001b[0m\u001b[0mX\u001b[0m\u001b[0;34m)\u001b[0m\u001b[0;34m\u001b[0m\u001b[0;34m\u001b[0m\u001b[0m\n\u001b[1;32m    805\u001b[0m             \u001b[0;32melse\u001b[0m\u001b[0;34m:\u001b[0m\u001b[0;34m\u001b[0m\u001b[0;34m\u001b[0m\u001b[0m\n\u001b[0;32m--> 806\u001b[0;31m                 \u001b[0mX\u001b[0m \u001b[0;34m=\u001b[0m \u001b[0mself\u001b[0m\u001b[0;34m.\u001b[0m\u001b[0m_validate_data\u001b[0m\u001b[0;34m(\u001b[0m\u001b[0mX\u001b[0m\u001b[0;34m,\u001b[0m \u001b[0maccept_sparse\u001b[0m\u001b[0;34m=\u001b[0m\u001b[0;34m\"csr\"\u001b[0m\u001b[0;34m,\u001b[0m \u001b[0mreset\u001b[0m\u001b[0;34m=\u001b[0m\u001b[0;32mFalse\u001b[0m\u001b[0;34m,\u001b[0m \u001b[0morder\u001b[0m\u001b[0;34m=\u001b[0m\u001b[0;34m\"C\"\u001b[0m\u001b[0;34m)\u001b[0m\u001b[0;34m\u001b[0m\u001b[0;34m\u001b[0m\u001b[0m\n\u001b[0m\u001b[1;32m    807\u001b[0m \u001b[0;34m\u001b[0m\u001b[0m\n\u001b[1;32m    808\u001b[0m         \u001b[0mn_samples_fit\u001b[0m \u001b[0;34m=\u001b[0m \u001b[0mself\u001b[0m\u001b[0;34m.\u001b[0m\u001b[0mn_samples_fit_\u001b[0m\u001b[0;34m\u001b[0m\u001b[0;34m\u001b[0m\u001b[0m\n",
            "\u001b[0;32m/usr/local/lib/python3.10/dist-packages/sklearn/base.py\u001b[0m in \u001b[0;36m_validate_data\u001b[0;34m(self, X, y, reset, validate_separately, **check_params)\u001b[0m\n\u001b[1;32m    586\u001b[0m \u001b[0;34m\u001b[0m\u001b[0m\n\u001b[1;32m    587\u001b[0m         \u001b[0;32mif\u001b[0m \u001b[0;32mnot\u001b[0m \u001b[0mno_val_X\u001b[0m \u001b[0;32mand\u001b[0m \u001b[0mcheck_params\u001b[0m\u001b[0;34m.\u001b[0m\u001b[0mget\u001b[0m\u001b[0;34m(\u001b[0m\u001b[0;34m\"ensure_2d\"\u001b[0m\u001b[0;34m,\u001b[0m \u001b[0;32mTrue\u001b[0m\u001b[0;34m)\u001b[0m\u001b[0;34m:\u001b[0m\u001b[0;34m\u001b[0m\u001b[0;34m\u001b[0m\u001b[0m\n\u001b[0;32m--> 588\u001b[0;31m             \u001b[0mself\u001b[0m\u001b[0;34m.\u001b[0m\u001b[0m_check_n_features\u001b[0m\u001b[0;34m(\u001b[0m\u001b[0mX\u001b[0m\u001b[0;34m,\u001b[0m \u001b[0mreset\u001b[0m\u001b[0;34m=\u001b[0m\u001b[0mreset\u001b[0m\u001b[0;34m)\u001b[0m\u001b[0;34m\u001b[0m\u001b[0;34m\u001b[0m\u001b[0m\n\u001b[0m\u001b[1;32m    589\u001b[0m \u001b[0;34m\u001b[0m\u001b[0m\n\u001b[1;32m    590\u001b[0m         \u001b[0;32mreturn\u001b[0m \u001b[0mout\u001b[0m\u001b[0;34m\u001b[0m\u001b[0;34m\u001b[0m\u001b[0m\n",
            "\u001b[0;32m/usr/local/lib/python3.10/dist-packages/sklearn/base.py\u001b[0m in \u001b[0;36m_check_n_features\u001b[0;34m(self, X, reset)\u001b[0m\n\u001b[1;32m    387\u001b[0m \u001b[0;34m\u001b[0m\u001b[0m\n\u001b[1;32m    388\u001b[0m         \u001b[0;32mif\u001b[0m \u001b[0mn_features\u001b[0m \u001b[0;34m!=\u001b[0m \u001b[0mself\u001b[0m\u001b[0;34m.\u001b[0m\u001b[0mn_features_in_\u001b[0m\u001b[0;34m:\u001b[0m\u001b[0;34m\u001b[0m\u001b[0;34m\u001b[0m\u001b[0m\n\u001b[0;32m--> 389\u001b[0;31m             raise ValueError(\n\u001b[0m\u001b[1;32m    390\u001b[0m                 \u001b[0;34mf\"X has {n_features} features, but {self.__class__.__name__} \"\u001b[0m\u001b[0;34m\u001b[0m\u001b[0;34m\u001b[0m\u001b[0m\n\u001b[1;32m    391\u001b[0m                 \u001b[0;34mf\"is expecting {self.n_features_in_} features as input.\"\u001b[0m\u001b[0;34m\u001b[0m\u001b[0;34m\u001b[0m\u001b[0m\n",
            "\u001b[0;31mValueError\u001b[0m: X has 1 features, but NearestNeighbors is expecting 1024 features as input."
          ]
        }
      ]
    },
    {
      "cell_type": "markdown",
      "source": [
        "# 平均"
      ],
      "metadata": {
        "id": "yHdy1FtJ4RfK"
      }
    },
    {
      "cell_type": "code",
      "source": [
        "avg_sentence = sum(train_sentences)/len(train_sentences)"
      ],
      "metadata": {
        "id": "3jGxx2A64Uoq"
      },
      "execution_count": null,
      "outputs": []
    },
    {
      "cell_type": "code",
      "source": [
        "avg_sentence"
      ],
      "metadata": {
        "colab": {
          "base_uri": "https://localhost:8080/"
        },
        "id": "5QA4GmHN47HX",
        "outputId": "2b0f927d-134f-40aa-8de4-a6dd6e1b735a"
      },
      "execution_count": null,
      "outputs": [
        {
          "output_type": "execute_result",
          "data": {
            "text/plain": [
              "187.724"
            ]
          },
          "metadata": {},
          "execution_count": 37
        }
      ]
    },
    {
      "cell_type": "code",
      "source": [
        "avg_sentences = [avg_sentence]*len(test_sentences)"
      ],
      "metadata": {
        "id": "BQWVnyfJ5ENu"
      },
      "execution_count": null,
      "outputs": []
    },
    {
      "cell_type": "code",
      "source": [
        "mse_linear = mean_squared_error(test_sentences, avg_sentences)\n",
        "rmse_linear = mean_squared_error(test_sentences, avg_sentences, squared=False)\n",
        "mae_linear = mean_absolute_error(test_sentences, avg_sentences)"
      ],
      "metadata": {
        "id": "JHpo0SJy5BUW"
      },
      "execution_count": null,
      "outputs": []
    },
    {
      "cell_type": "code",
      "source": [
        "print('\\n==================================================')\n",
        "print(\"Linear Regression - MSE:\", mse_linear)\n",
        "print(\"Linear Regression - RMSE:\", rmse_linear)\n",
        "print(\"Linear Regression - MAE:\", mae_linear)"
      ],
      "metadata": {
        "colab": {
          "base_uri": "https://localhost:8080/"
        },
        "id": "jjN4CS5W5kPk",
        "outputId": "3b15816b-4cd5-4eba-ac6e-520a93763111"
      },
      "execution_count": null,
      "outputs": [
        {
          "output_type": "stream",
          "name": "stdout",
          "text": [
            "\n",
            "==================================================\n",
            "Linear Regression - MSE: 16325.817136000003\n",
            "Linear Regression - RMSE: 127.77252105206347\n",
            "Linear Regression - MAE: 89.10199999999999\n"
          ]
        }
      ]
    }
  ]
}