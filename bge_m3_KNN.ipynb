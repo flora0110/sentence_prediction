{
  "nbformat": 4,
  "nbformat_minor": 0,
  "metadata": {
    "colab": {
      "provenance": [],
      "authorship_tag": "ABX9TyNilP+z4nzhJKGhMuXsjFeo",
      "include_colab_link": true
    },
    "kernelspec": {
      "name": "python3",
      "display_name": "Python 3"
    },
    "language_info": {
      "name": "python"
    },
    "widgets": {
      "application/vnd.jupyter.widget-state+json": {
        "376d673218bd4259ae70c1ed114907a4": {
          "model_module": "@jupyter-widgets/controls",
          "model_name": "HBoxModel",
          "model_module_version": "1.5.0",
          "state": {
            "_dom_classes": [],
            "_model_module": "@jupyter-widgets/controls",
            "_model_module_version": "1.5.0",
            "_model_name": "HBoxModel",
            "_view_count": null,
            "_view_module": "@jupyter-widgets/controls",
            "_view_module_version": "1.5.0",
            "_view_name": "HBoxView",
            "box_style": "",
            "children": [
              "IPY_MODEL_9b3dd718296e4dcc9c3287a7c8ef89d6",
              "IPY_MODEL_6b6ebf5703dd44af952035ec5352f145",
              "IPY_MODEL_8e244354aee340b6a021194fb274ae09"
            ],
            "layout": "IPY_MODEL_08a3694e2ae04e04b46611e8c70a61b4"
          }
        },
        "9b3dd718296e4dcc9c3287a7c8ef89d6": {
          "model_module": "@jupyter-widgets/controls",
          "model_name": "HTMLModel",
          "model_module_version": "1.5.0",
          "state": {
            "_dom_classes": [],
            "_model_module": "@jupyter-widgets/controls",
            "_model_module_version": "1.5.0",
            "_model_name": "HTMLModel",
            "_view_count": null,
            "_view_module": "@jupyter-widgets/controls",
            "_view_module_version": "1.5.0",
            "_view_name": "HTMLView",
            "description": "",
            "description_tooltip": null,
            "layout": "IPY_MODEL_adf7ed0808b8421984acb155eb6e1392",
            "placeholder": "​",
            "style": "IPY_MODEL_ecf076f23ae64b3baf9b5c73bb923f52",
            "value": "Fetching 22 files: 100%"
          }
        },
        "6b6ebf5703dd44af952035ec5352f145": {
          "model_module": "@jupyter-widgets/controls",
          "model_name": "FloatProgressModel",
          "model_module_version": "1.5.0",
          "state": {
            "_dom_classes": [],
            "_model_module": "@jupyter-widgets/controls",
            "_model_module_version": "1.5.0",
            "_model_name": "FloatProgressModel",
            "_view_count": null,
            "_view_module": "@jupyter-widgets/controls",
            "_view_module_version": "1.5.0",
            "_view_name": "ProgressView",
            "bar_style": "success",
            "description": "",
            "description_tooltip": null,
            "layout": "IPY_MODEL_523eba335bcd493faa5b0f4cec3c6d61",
            "max": 22,
            "min": 0,
            "orientation": "horizontal",
            "style": "IPY_MODEL_521f3a4f5d114c6fa0d604c738e2fd2d",
            "value": 22
          }
        },
        "8e244354aee340b6a021194fb274ae09": {
          "model_module": "@jupyter-widgets/controls",
          "model_name": "HTMLModel",
          "model_module_version": "1.5.0",
          "state": {
            "_dom_classes": [],
            "_model_module": "@jupyter-widgets/controls",
            "_model_module_version": "1.5.0",
            "_model_name": "HTMLModel",
            "_view_count": null,
            "_view_module": "@jupyter-widgets/controls",
            "_view_module_version": "1.5.0",
            "_view_name": "HTMLView",
            "description": "",
            "description_tooltip": null,
            "layout": "IPY_MODEL_8f27e4050ea44b2fb5bd07751a722187",
            "placeholder": "​",
            "style": "IPY_MODEL_486e6dbcb06f4737a04b3dbd141eba4c",
            "value": " 22/22 [00:26&lt;00:00,  2.31s/it]"
          }
        },
        "08a3694e2ae04e04b46611e8c70a61b4": {
          "model_module": "@jupyter-widgets/base",
          "model_name": "LayoutModel",
          "model_module_version": "1.2.0",
          "state": {
            "_model_module": "@jupyter-widgets/base",
            "_model_module_version": "1.2.0",
            "_model_name": "LayoutModel",
            "_view_count": null,
            "_view_module": "@jupyter-widgets/base",
            "_view_module_version": "1.2.0",
            "_view_name": "LayoutView",
            "align_content": null,
            "align_items": null,
            "align_self": null,
            "border": null,
            "bottom": null,
            "display": null,
            "flex": null,
            "flex_flow": null,
            "grid_area": null,
            "grid_auto_columns": null,
            "grid_auto_flow": null,
            "grid_auto_rows": null,
            "grid_column": null,
            "grid_gap": null,
            "grid_row": null,
            "grid_template_areas": null,
            "grid_template_columns": null,
            "grid_template_rows": null,
            "height": null,
            "justify_content": null,
            "justify_items": null,
            "left": null,
            "margin": null,
            "max_height": null,
            "max_width": null,
            "min_height": null,
            "min_width": null,
            "object_fit": null,
            "object_position": null,
            "order": null,
            "overflow": null,
            "overflow_x": null,
            "overflow_y": null,
            "padding": null,
            "right": null,
            "top": null,
            "visibility": null,
            "width": null
          }
        },
        "adf7ed0808b8421984acb155eb6e1392": {
          "model_module": "@jupyter-widgets/base",
          "model_name": "LayoutModel",
          "model_module_version": "1.2.0",
          "state": {
            "_model_module": "@jupyter-widgets/base",
            "_model_module_version": "1.2.0",
            "_model_name": "LayoutModel",
            "_view_count": null,
            "_view_module": "@jupyter-widgets/base",
            "_view_module_version": "1.2.0",
            "_view_name": "LayoutView",
            "align_content": null,
            "align_items": null,
            "align_self": null,
            "border": null,
            "bottom": null,
            "display": null,
            "flex": null,
            "flex_flow": null,
            "grid_area": null,
            "grid_auto_columns": null,
            "grid_auto_flow": null,
            "grid_auto_rows": null,
            "grid_column": null,
            "grid_gap": null,
            "grid_row": null,
            "grid_template_areas": null,
            "grid_template_columns": null,
            "grid_template_rows": null,
            "height": null,
            "justify_content": null,
            "justify_items": null,
            "left": null,
            "margin": null,
            "max_height": null,
            "max_width": null,
            "min_height": null,
            "min_width": null,
            "object_fit": null,
            "object_position": null,
            "order": null,
            "overflow": null,
            "overflow_x": null,
            "overflow_y": null,
            "padding": null,
            "right": null,
            "top": null,
            "visibility": null,
            "width": null
          }
        },
        "ecf076f23ae64b3baf9b5c73bb923f52": {
          "model_module": "@jupyter-widgets/controls",
          "model_name": "DescriptionStyleModel",
          "model_module_version": "1.5.0",
          "state": {
            "_model_module": "@jupyter-widgets/controls",
            "_model_module_version": "1.5.0",
            "_model_name": "DescriptionStyleModel",
            "_view_count": null,
            "_view_module": "@jupyter-widgets/base",
            "_view_module_version": "1.2.0",
            "_view_name": "StyleView",
            "description_width": ""
          }
        },
        "523eba335bcd493faa5b0f4cec3c6d61": {
          "model_module": "@jupyter-widgets/base",
          "model_name": "LayoutModel",
          "model_module_version": "1.2.0",
          "state": {
            "_model_module": "@jupyter-widgets/base",
            "_model_module_version": "1.2.0",
            "_model_name": "LayoutModel",
            "_view_count": null,
            "_view_module": "@jupyter-widgets/base",
            "_view_module_version": "1.2.0",
            "_view_name": "LayoutView",
            "align_content": null,
            "align_items": null,
            "align_self": null,
            "border": null,
            "bottom": null,
            "display": null,
            "flex": null,
            "flex_flow": null,
            "grid_area": null,
            "grid_auto_columns": null,
            "grid_auto_flow": null,
            "grid_auto_rows": null,
            "grid_column": null,
            "grid_gap": null,
            "grid_row": null,
            "grid_template_areas": null,
            "grid_template_columns": null,
            "grid_template_rows": null,
            "height": null,
            "justify_content": null,
            "justify_items": null,
            "left": null,
            "margin": null,
            "max_height": null,
            "max_width": null,
            "min_height": null,
            "min_width": null,
            "object_fit": null,
            "object_position": null,
            "order": null,
            "overflow": null,
            "overflow_x": null,
            "overflow_y": null,
            "padding": null,
            "right": null,
            "top": null,
            "visibility": null,
            "width": null
          }
        },
        "521f3a4f5d114c6fa0d604c738e2fd2d": {
          "model_module": "@jupyter-widgets/controls",
          "model_name": "ProgressStyleModel",
          "model_module_version": "1.5.0",
          "state": {
            "_model_module": "@jupyter-widgets/controls",
            "_model_module_version": "1.5.0",
            "_model_name": "ProgressStyleModel",
            "_view_count": null,
            "_view_module": "@jupyter-widgets/base",
            "_view_module_version": "1.2.0",
            "_view_name": "StyleView",
            "bar_color": null,
            "description_width": ""
          }
        },
        "8f27e4050ea44b2fb5bd07751a722187": {
          "model_module": "@jupyter-widgets/base",
          "model_name": "LayoutModel",
          "model_module_version": "1.2.0",
          "state": {
            "_model_module": "@jupyter-widgets/base",
            "_model_module_version": "1.2.0",
            "_model_name": "LayoutModel",
            "_view_count": null,
            "_view_module": "@jupyter-widgets/base",
            "_view_module_version": "1.2.0",
            "_view_name": "LayoutView",
            "align_content": null,
            "align_items": null,
            "align_self": null,
            "border": null,
            "bottom": null,
            "display": null,
            "flex": null,
            "flex_flow": null,
            "grid_area": null,
            "grid_auto_columns": null,
            "grid_auto_flow": null,
            "grid_auto_rows": null,
            "grid_column": null,
            "grid_gap": null,
            "grid_row": null,
            "grid_template_areas": null,
            "grid_template_columns": null,
            "grid_template_rows": null,
            "height": null,
            "justify_content": null,
            "justify_items": null,
            "left": null,
            "margin": null,
            "max_height": null,
            "max_width": null,
            "min_height": null,
            "min_width": null,
            "object_fit": null,
            "object_position": null,
            "order": null,
            "overflow": null,
            "overflow_x": null,
            "overflow_y": null,
            "padding": null,
            "right": null,
            "top": null,
            "visibility": null,
            "width": null
          }
        },
        "486e6dbcb06f4737a04b3dbd141eba4c": {
          "model_module": "@jupyter-widgets/controls",
          "model_name": "DescriptionStyleModel",
          "model_module_version": "1.5.0",
          "state": {
            "_model_module": "@jupyter-widgets/controls",
            "_model_module_version": "1.5.0",
            "_model_name": "DescriptionStyleModel",
            "_view_count": null,
            "_view_module": "@jupyter-widgets/base",
            "_view_module_version": "1.2.0",
            "_view_name": "StyleView",
            "description_width": ""
          }
        },
        "3146e1a0df354311a6206e52bfc738b3": {
          "model_module": "@jupyter-widgets/controls",
          "model_name": "HBoxModel",
          "model_module_version": "1.5.0",
          "state": {
            "_dom_classes": [],
            "_model_module": "@jupyter-widgets/controls",
            "_model_module_version": "1.5.0",
            "_model_name": "HBoxModel",
            "_view_count": null,
            "_view_module": "@jupyter-widgets/controls",
            "_view_module_version": "1.5.0",
            "_view_name": "HBoxView",
            "box_style": "",
            "children": [
              "IPY_MODEL_f8983015a94140cca39474c83355523b",
              "IPY_MODEL_b113d7534a084a3dbded83cb2a048828",
              "IPY_MODEL_61943f38b19a4d5c909c396d183a5b2f"
            ],
            "layout": "IPY_MODEL_ae16a4fe75b141589c208b9da21d0f46"
          }
        },
        "f8983015a94140cca39474c83355523b": {
          "model_module": "@jupyter-widgets/controls",
          "model_name": "HTMLModel",
          "model_module_version": "1.5.0",
          "state": {
            "_dom_classes": [],
            "_model_module": "@jupyter-widgets/controls",
            "_model_module_version": "1.5.0",
            "_model_name": "HTMLModel",
            "_view_count": null,
            "_view_module": "@jupyter-widgets/controls",
            "_view_module_version": "1.5.0",
            "_view_name": "HTMLView",
            "description": "",
            "description_tooltip": null,
            "layout": "IPY_MODEL_2d4e9b7279924fdd942669022dd5bcf2",
            "placeholder": "​",
            "style": "IPY_MODEL_380f785642c047149a36280a274970c6",
            "value": "config_sentence_transformers.json: 100%"
          }
        },
        "b113d7534a084a3dbded83cb2a048828": {
          "model_module": "@jupyter-widgets/controls",
          "model_name": "FloatProgressModel",
          "model_module_version": "1.5.0",
          "state": {
            "_dom_classes": [],
            "_model_module": "@jupyter-widgets/controls",
            "_model_module_version": "1.5.0",
            "_model_name": "FloatProgressModel",
            "_view_count": null,
            "_view_module": "@jupyter-widgets/controls",
            "_view_module_version": "1.5.0",
            "_view_name": "ProgressView",
            "bar_style": "success",
            "description": "",
            "description_tooltip": null,
            "layout": "IPY_MODEL_29a7dd0c2ebe43ae941eb9a254d2974f",
            "max": 123,
            "min": 0,
            "orientation": "horizontal",
            "style": "IPY_MODEL_da52e4ac0d7445d5bad6bd8a7ec1605c",
            "value": 123
          }
        },
        "61943f38b19a4d5c909c396d183a5b2f": {
          "model_module": "@jupyter-widgets/controls",
          "model_name": "HTMLModel",
          "model_module_version": "1.5.0",
          "state": {
            "_dom_classes": [],
            "_model_module": "@jupyter-widgets/controls",
            "_model_module_version": "1.5.0",
            "_model_name": "HTMLModel",
            "_view_count": null,
            "_view_module": "@jupyter-widgets/controls",
            "_view_module_version": "1.5.0",
            "_view_name": "HTMLView",
            "description": "",
            "description_tooltip": null,
            "layout": "IPY_MODEL_529ab0d8b879459e94592ee679d837b4",
            "placeholder": "​",
            "style": "IPY_MODEL_711a0efae4dc4a41ad43b30bd6fd6f83",
            "value": " 123/123 [00:00&lt;00:00, 1.59kB/s]"
          }
        },
        "ae16a4fe75b141589c208b9da21d0f46": {
          "model_module": "@jupyter-widgets/base",
          "model_name": "LayoutModel",
          "model_module_version": "1.2.0",
          "state": {
            "_model_module": "@jupyter-widgets/base",
            "_model_module_version": "1.2.0",
            "_model_name": "LayoutModel",
            "_view_count": null,
            "_view_module": "@jupyter-widgets/base",
            "_view_module_version": "1.2.0",
            "_view_name": "LayoutView",
            "align_content": null,
            "align_items": null,
            "align_self": null,
            "border": null,
            "bottom": null,
            "display": null,
            "flex": null,
            "flex_flow": null,
            "grid_area": null,
            "grid_auto_columns": null,
            "grid_auto_flow": null,
            "grid_auto_rows": null,
            "grid_column": null,
            "grid_gap": null,
            "grid_row": null,
            "grid_template_areas": null,
            "grid_template_columns": null,
            "grid_template_rows": null,
            "height": null,
            "justify_content": null,
            "justify_items": null,
            "left": null,
            "margin": null,
            "max_height": null,
            "max_width": null,
            "min_height": null,
            "min_width": null,
            "object_fit": null,
            "object_position": null,
            "order": null,
            "overflow": null,
            "overflow_x": null,
            "overflow_y": null,
            "padding": null,
            "right": null,
            "top": null,
            "visibility": null,
            "width": null
          }
        },
        "2d4e9b7279924fdd942669022dd5bcf2": {
          "model_module": "@jupyter-widgets/base",
          "model_name": "LayoutModel",
          "model_module_version": "1.2.0",
          "state": {
            "_model_module": "@jupyter-widgets/base",
            "_model_module_version": "1.2.0",
            "_model_name": "LayoutModel",
            "_view_count": null,
            "_view_module": "@jupyter-widgets/base",
            "_view_module_version": "1.2.0",
            "_view_name": "LayoutView",
            "align_content": null,
            "align_items": null,
            "align_self": null,
            "border": null,
            "bottom": null,
            "display": null,
            "flex": null,
            "flex_flow": null,
            "grid_area": null,
            "grid_auto_columns": null,
            "grid_auto_flow": null,
            "grid_auto_rows": null,
            "grid_column": null,
            "grid_gap": null,
            "grid_row": null,
            "grid_template_areas": null,
            "grid_template_columns": null,
            "grid_template_rows": null,
            "height": null,
            "justify_content": null,
            "justify_items": null,
            "left": null,
            "margin": null,
            "max_height": null,
            "max_width": null,
            "min_height": null,
            "min_width": null,
            "object_fit": null,
            "object_position": null,
            "order": null,
            "overflow": null,
            "overflow_x": null,
            "overflow_y": null,
            "padding": null,
            "right": null,
            "top": null,
            "visibility": null,
            "width": null
          }
        },
        "380f785642c047149a36280a274970c6": {
          "model_module": "@jupyter-widgets/controls",
          "model_name": "DescriptionStyleModel",
          "model_module_version": "1.5.0",
          "state": {
            "_model_module": "@jupyter-widgets/controls",
            "_model_module_version": "1.5.0",
            "_model_name": "DescriptionStyleModel",
            "_view_count": null,
            "_view_module": "@jupyter-widgets/base",
            "_view_module_version": "1.2.0",
            "_view_name": "StyleView",
            "description_width": ""
          }
        },
        "29a7dd0c2ebe43ae941eb9a254d2974f": {
          "model_module": "@jupyter-widgets/base",
          "model_name": "LayoutModel",
          "model_module_version": "1.2.0",
          "state": {
            "_model_module": "@jupyter-widgets/base",
            "_model_module_version": "1.2.0",
            "_model_name": "LayoutModel",
            "_view_count": null,
            "_view_module": "@jupyter-widgets/base",
            "_view_module_version": "1.2.0",
            "_view_name": "LayoutView",
            "align_content": null,
            "align_items": null,
            "align_self": null,
            "border": null,
            "bottom": null,
            "display": null,
            "flex": null,
            "flex_flow": null,
            "grid_area": null,
            "grid_auto_columns": null,
            "grid_auto_flow": null,
            "grid_auto_rows": null,
            "grid_column": null,
            "grid_gap": null,
            "grid_row": null,
            "grid_template_areas": null,
            "grid_template_columns": null,
            "grid_template_rows": null,
            "height": null,
            "justify_content": null,
            "justify_items": null,
            "left": null,
            "margin": null,
            "max_height": null,
            "max_width": null,
            "min_height": null,
            "min_width": null,
            "object_fit": null,
            "object_position": null,
            "order": null,
            "overflow": null,
            "overflow_x": null,
            "overflow_y": null,
            "padding": null,
            "right": null,
            "top": null,
            "visibility": null,
            "width": null
          }
        },
        "da52e4ac0d7445d5bad6bd8a7ec1605c": {
          "model_module": "@jupyter-widgets/controls",
          "model_name": "ProgressStyleModel",
          "model_module_version": "1.5.0",
          "state": {
            "_model_module": "@jupyter-widgets/controls",
            "_model_module_version": "1.5.0",
            "_model_name": "ProgressStyleModel",
            "_view_count": null,
            "_view_module": "@jupyter-widgets/base",
            "_view_module_version": "1.2.0",
            "_view_name": "StyleView",
            "bar_color": null,
            "description_width": ""
          }
        },
        "529ab0d8b879459e94592ee679d837b4": {
          "model_module": "@jupyter-widgets/base",
          "model_name": "LayoutModel",
          "model_module_version": "1.2.0",
          "state": {
            "_model_module": "@jupyter-widgets/base",
            "_model_module_version": "1.2.0",
            "_model_name": "LayoutModel",
            "_view_count": null,
            "_view_module": "@jupyter-widgets/base",
            "_view_module_version": "1.2.0",
            "_view_name": "LayoutView",
            "align_content": null,
            "align_items": null,
            "align_self": null,
            "border": null,
            "bottom": null,
            "display": null,
            "flex": null,
            "flex_flow": null,
            "grid_area": null,
            "grid_auto_columns": null,
            "grid_auto_flow": null,
            "grid_auto_rows": null,
            "grid_column": null,
            "grid_gap": null,
            "grid_row": null,
            "grid_template_areas": null,
            "grid_template_columns": null,
            "grid_template_rows": null,
            "height": null,
            "justify_content": null,
            "justify_items": null,
            "left": null,
            "margin": null,
            "max_height": null,
            "max_width": null,
            "min_height": null,
            "min_width": null,
            "object_fit": null,
            "object_position": null,
            "order": null,
            "overflow": null,
            "overflow_x": null,
            "overflow_y": null,
            "padding": null,
            "right": null,
            "top": null,
            "visibility": null,
            "width": null
          }
        },
        "711a0efae4dc4a41ad43b30bd6fd6f83": {
          "model_module": "@jupyter-widgets/controls",
          "model_name": "DescriptionStyleModel",
          "model_module_version": "1.5.0",
          "state": {
            "_model_module": "@jupyter-widgets/controls",
            "_model_module_version": "1.5.0",
            "_model_name": "DescriptionStyleModel",
            "_view_count": null,
            "_view_module": "@jupyter-widgets/base",
            "_view_module_version": "1.2.0",
            "_view_name": "StyleView",
            "description_width": ""
          }
        },
        "6f3ec993a932457e9fe64ffaf64bcd5c": {
          "model_module": "@jupyter-widgets/controls",
          "model_name": "HBoxModel",
          "model_module_version": "1.5.0",
          "state": {
            "_dom_classes": [],
            "_model_module": "@jupyter-widgets/controls",
            "_model_module_version": "1.5.0",
            "_model_name": "HBoxModel",
            "_view_count": null,
            "_view_module": "@jupyter-widgets/controls",
            "_view_module_version": "1.5.0",
            "_view_name": "HBoxView",
            "box_style": "",
            "children": [
              "IPY_MODEL_f17e22b86a1949908f06897e2ddf40b4",
              "IPY_MODEL_fcdfcdd557ab4ac293d0194c78e922cd",
              "IPY_MODEL_400162175734432f8ff02d585cfccfbe"
            ],
            "layout": "IPY_MODEL_eabf11df68414ce9bd2d902939738c05"
          }
        },
        "f17e22b86a1949908f06897e2ddf40b4": {
          "model_module": "@jupyter-widgets/controls",
          "model_name": "HTMLModel",
          "model_module_version": "1.5.0",
          "state": {
            "_dom_classes": [],
            "_model_module": "@jupyter-widgets/controls",
            "_model_module_version": "1.5.0",
            "_model_name": "HTMLModel",
            "_view_count": null,
            "_view_module": "@jupyter-widgets/controls",
            "_view_module_version": "1.5.0",
            "_view_name": "HTMLView",
            "description": "",
            "description_tooltip": null,
            "layout": "IPY_MODEL_5003f2b2b6ec49f6b2558b399a90bb4a",
            "placeholder": "​",
            "style": "IPY_MODEL_2e71379cb5a34ae28ca15480265ed588",
            "value": "1_Pooling/config.json: 100%"
          }
        },
        "fcdfcdd557ab4ac293d0194c78e922cd": {
          "model_module": "@jupyter-widgets/controls",
          "model_name": "FloatProgressModel",
          "model_module_version": "1.5.0",
          "state": {
            "_dom_classes": [],
            "_model_module": "@jupyter-widgets/controls",
            "_model_module_version": "1.5.0",
            "_model_name": "FloatProgressModel",
            "_view_count": null,
            "_view_module": "@jupyter-widgets/controls",
            "_view_module_version": "1.5.0",
            "_view_name": "ProgressView",
            "bar_style": "success",
            "description": "",
            "description_tooltip": null,
            "layout": "IPY_MODEL_c386cc911dac409e853a8efb1de5425c",
            "max": 191,
            "min": 0,
            "orientation": "horizontal",
            "style": "IPY_MODEL_2a21587c495f410386595083b49e1cdb",
            "value": 191
          }
        },
        "400162175734432f8ff02d585cfccfbe": {
          "model_module": "@jupyter-widgets/controls",
          "model_name": "HTMLModel",
          "model_module_version": "1.5.0",
          "state": {
            "_dom_classes": [],
            "_model_module": "@jupyter-widgets/controls",
            "_model_module_version": "1.5.0",
            "_model_name": "HTMLModel",
            "_view_count": null,
            "_view_module": "@jupyter-widgets/controls",
            "_view_module_version": "1.5.0",
            "_view_name": "HTMLView",
            "description": "",
            "description_tooltip": null,
            "layout": "IPY_MODEL_3ab8c5f5d0ca4103b441f3b6024be052",
            "placeholder": "​",
            "style": "IPY_MODEL_1992f7a49c1d4488b9aced2ec01c57fc",
            "value": " 191/191 [00:00&lt;00:00, 2.15kB/s]"
          }
        },
        "eabf11df68414ce9bd2d902939738c05": {
          "model_module": "@jupyter-widgets/base",
          "model_name": "LayoutModel",
          "model_module_version": "1.2.0",
          "state": {
            "_model_module": "@jupyter-widgets/base",
            "_model_module_version": "1.2.0",
            "_model_name": "LayoutModel",
            "_view_count": null,
            "_view_module": "@jupyter-widgets/base",
            "_view_module_version": "1.2.0",
            "_view_name": "LayoutView",
            "align_content": null,
            "align_items": null,
            "align_self": null,
            "border": null,
            "bottom": null,
            "display": null,
            "flex": null,
            "flex_flow": null,
            "grid_area": null,
            "grid_auto_columns": null,
            "grid_auto_flow": null,
            "grid_auto_rows": null,
            "grid_column": null,
            "grid_gap": null,
            "grid_row": null,
            "grid_template_areas": null,
            "grid_template_columns": null,
            "grid_template_rows": null,
            "height": null,
            "justify_content": null,
            "justify_items": null,
            "left": null,
            "margin": null,
            "max_height": null,
            "max_width": null,
            "min_height": null,
            "min_width": null,
            "object_fit": null,
            "object_position": null,
            "order": null,
            "overflow": null,
            "overflow_x": null,
            "overflow_y": null,
            "padding": null,
            "right": null,
            "top": null,
            "visibility": null,
            "width": null
          }
        },
        "5003f2b2b6ec49f6b2558b399a90bb4a": {
          "model_module": "@jupyter-widgets/base",
          "model_name": "LayoutModel",
          "model_module_version": "1.2.0",
          "state": {
            "_model_module": "@jupyter-widgets/base",
            "_model_module_version": "1.2.0",
            "_model_name": "LayoutModel",
            "_view_count": null,
            "_view_module": "@jupyter-widgets/base",
            "_view_module_version": "1.2.0",
            "_view_name": "LayoutView",
            "align_content": null,
            "align_items": null,
            "align_self": null,
            "border": null,
            "bottom": null,
            "display": null,
            "flex": null,
            "flex_flow": null,
            "grid_area": null,
            "grid_auto_columns": null,
            "grid_auto_flow": null,
            "grid_auto_rows": null,
            "grid_column": null,
            "grid_gap": null,
            "grid_row": null,
            "grid_template_areas": null,
            "grid_template_columns": null,
            "grid_template_rows": null,
            "height": null,
            "justify_content": null,
            "justify_items": null,
            "left": null,
            "margin": null,
            "max_height": null,
            "max_width": null,
            "min_height": null,
            "min_width": null,
            "object_fit": null,
            "object_position": null,
            "order": null,
            "overflow": null,
            "overflow_x": null,
            "overflow_y": null,
            "padding": null,
            "right": null,
            "top": null,
            "visibility": null,
            "width": null
          }
        },
        "2e71379cb5a34ae28ca15480265ed588": {
          "model_module": "@jupyter-widgets/controls",
          "model_name": "DescriptionStyleModel",
          "model_module_version": "1.5.0",
          "state": {
            "_model_module": "@jupyter-widgets/controls",
            "_model_module_version": "1.5.0",
            "_model_name": "DescriptionStyleModel",
            "_view_count": null,
            "_view_module": "@jupyter-widgets/base",
            "_view_module_version": "1.2.0",
            "_view_name": "StyleView",
            "description_width": ""
          }
        },
        "c386cc911dac409e853a8efb1de5425c": {
          "model_module": "@jupyter-widgets/base",
          "model_name": "LayoutModel",
          "model_module_version": "1.2.0",
          "state": {
            "_model_module": "@jupyter-widgets/base",
            "_model_module_version": "1.2.0",
            "_model_name": "LayoutModel",
            "_view_count": null,
            "_view_module": "@jupyter-widgets/base",
            "_view_module_version": "1.2.0",
            "_view_name": "LayoutView",
            "align_content": null,
            "align_items": null,
            "align_self": null,
            "border": null,
            "bottom": null,
            "display": null,
            "flex": null,
            "flex_flow": null,
            "grid_area": null,
            "grid_auto_columns": null,
            "grid_auto_flow": null,
            "grid_auto_rows": null,
            "grid_column": null,
            "grid_gap": null,
            "grid_row": null,
            "grid_template_areas": null,
            "grid_template_columns": null,
            "grid_template_rows": null,
            "height": null,
            "justify_content": null,
            "justify_items": null,
            "left": null,
            "margin": null,
            "max_height": null,
            "max_width": null,
            "min_height": null,
            "min_width": null,
            "object_fit": null,
            "object_position": null,
            "order": null,
            "overflow": null,
            "overflow_x": null,
            "overflow_y": null,
            "padding": null,
            "right": null,
            "top": null,
            "visibility": null,
            "width": null
          }
        },
        "2a21587c495f410386595083b49e1cdb": {
          "model_module": "@jupyter-widgets/controls",
          "model_name": "ProgressStyleModel",
          "model_module_version": "1.5.0",
          "state": {
            "_model_module": "@jupyter-widgets/controls",
            "_model_module_version": "1.5.0",
            "_model_name": "ProgressStyleModel",
            "_view_count": null,
            "_view_module": "@jupyter-widgets/base",
            "_view_module_version": "1.2.0",
            "_view_name": "StyleView",
            "bar_color": null,
            "description_width": ""
          }
        },
        "3ab8c5f5d0ca4103b441f3b6024be052": {
          "model_module": "@jupyter-widgets/base",
          "model_name": "LayoutModel",
          "model_module_version": "1.2.0",
          "state": {
            "_model_module": "@jupyter-widgets/base",
            "_model_module_version": "1.2.0",
            "_model_name": "LayoutModel",
            "_view_count": null,
            "_view_module": "@jupyter-widgets/base",
            "_view_module_version": "1.2.0",
            "_view_name": "LayoutView",
            "align_content": null,
            "align_items": null,
            "align_self": null,
            "border": null,
            "bottom": null,
            "display": null,
            "flex": null,
            "flex_flow": null,
            "grid_area": null,
            "grid_auto_columns": null,
            "grid_auto_flow": null,
            "grid_auto_rows": null,
            "grid_column": null,
            "grid_gap": null,
            "grid_row": null,
            "grid_template_areas": null,
            "grid_template_columns": null,
            "grid_template_rows": null,
            "height": null,
            "justify_content": null,
            "justify_items": null,
            "left": null,
            "margin": null,
            "max_height": null,
            "max_width": null,
            "min_height": null,
            "min_width": null,
            "object_fit": null,
            "object_position": null,
            "order": null,
            "overflow": null,
            "overflow_x": null,
            "overflow_y": null,
            "padding": null,
            "right": null,
            "top": null,
            "visibility": null,
            "width": null
          }
        },
        "1992f7a49c1d4488b9aced2ec01c57fc": {
          "model_module": "@jupyter-widgets/controls",
          "model_name": "DescriptionStyleModel",
          "model_module_version": "1.5.0",
          "state": {
            "_model_module": "@jupyter-widgets/controls",
            "_model_module_version": "1.5.0",
            "_model_name": "DescriptionStyleModel",
            "_view_count": null,
            "_view_module": "@jupyter-widgets/base",
            "_view_module_version": "1.2.0",
            "_view_name": "StyleView",
            "description_width": ""
          }
        },
        "0d28f51c48b74427a4f02fdff93dbd2d": {
          "model_module": "@jupyter-widgets/controls",
          "model_name": "HBoxModel",
          "model_module_version": "1.5.0",
          "state": {
            "_dom_classes": [],
            "_model_module": "@jupyter-widgets/controls",
            "_model_module_version": "1.5.0",
            "_model_name": "HBoxModel",
            "_view_count": null,
            "_view_module": "@jupyter-widgets/controls",
            "_view_module_version": "1.5.0",
            "_view_name": "HBoxView",
            "box_style": "",
            "children": [
              "IPY_MODEL_fce91ce0b78f475986a1f415405977cb",
              "IPY_MODEL_5e116920a3a84bc49f217893c2e55f76",
              "IPY_MODEL_cc5dc5bf320a4d209b5c6cf3daaa8314"
            ],
            "layout": "IPY_MODEL_12655c97e0c0471fb8bb9d7a1a8292ff"
          }
        },
        "fce91ce0b78f475986a1f415405977cb": {
          "model_module": "@jupyter-widgets/controls",
          "model_name": "HTMLModel",
          "model_module_version": "1.5.0",
          "state": {
            "_dom_classes": [],
            "_model_module": "@jupyter-widgets/controls",
            "_model_module_version": "1.5.0",
            "_model_name": "HTMLModel",
            "_view_count": null,
            "_view_module": "@jupyter-widgets/controls",
            "_view_module_version": "1.5.0",
            "_view_name": "HTMLView",
            "description": "",
            "description_tooltip": null,
            "layout": "IPY_MODEL_736294cb7dd04a2ea3008eacc83d48dd",
            "placeholder": "​",
            "style": "IPY_MODEL_97474cd5f242464e91008211511d2154",
            "value": "colbert_linear.pt: 100%"
          }
        },
        "5e116920a3a84bc49f217893c2e55f76": {
          "model_module": "@jupyter-widgets/controls",
          "model_name": "FloatProgressModel",
          "model_module_version": "1.5.0",
          "state": {
            "_dom_classes": [],
            "_model_module": "@jupyter-widgets/controls",
            "_model_module_version": "1.5.0",
            "_model_name": "FloatProgressModel",
            "_view_count": null,
            "_view_module": "@jupyter-widgets/controls",
            "_view_module_version": "1.5.0",
            "_view_name": "ProgressView",
            "bar_style": "success",
            "description": "",
            "description_tooltip": null,
            "layout": "IPY_MODEL_90d3874fa90047f88ef610f3215f5ebf",
            "max": 2100674,
            "min": 0,
            "orientation": "horizontal",
            "style": "IPY_MODEL_0d42915033594757a0e7f757bc8b42a4",
            "value": 2100674
          }
        },
        "cc5dc5bf320a4d209b5c6cf3daaa8314": {
          "model_module": "@jupyter-widgets/controls",
          "model_name": "HTMLModel",
          "model_module_version": "1.5.0",
          "state": {
            "_dom_classes": [],
            "_model_module": "@jupyter-widgets/controls",
            "_model_module_version": "1.5.0",
            "_model_name": "HTMLModel",
            "_view_count": null,
            "_view_module": "@jupyter-widgets/controls",
            "_view_module_version": "1.5.0",
            "_view_name": "HTMLView",
            "description": "",
            "description_tooltip": null,
            "layout": "IPY_MODEL_d043fe8e1af547ae9add973d53d129eb",
            "placeholder": "​",
            "style": "IPY_MODEL_0780de03a3b14298b99d7c3694c1ebb7",
            "value": " 2.10M/2.10M [00:00&lt;00:00, 11.7MB/s]"
          }
        },
        "12655c97e0c0471fb8bb9d7a1a8292ff": {
          "model_module": "@jupyter-widgets/base",
          "model_name": "LayoutModel",
          "model_module_version": "1.2.0",
          "state": {
            "_model_module": "@jupyter-widgets/base",
            "_model_module_version": "1.2.0",
            "_model_name": "LayoutModel",
            "_view_count": null,
            "_view_module": "@jupyter-widgets/base",
            "_view_module_version": "1.2.0",
            "_view_name": "LayoutView",
            "align_content": null,
            "align_items": null,
            "align_self": null,
            "border": null,
            "bottom": null,
            "display": null,
            "flex": null,
            "flex_flow": null,
            "grid_area": null,
            "grid_auto_columns": null,
            "grid_auto_flow": null,
            "grid_auto_rows": null,
            "grid_column": null,
            "grid_gap": null,
            "grid_row": null,
            "grid_template_areas": null,
            "grid_template_columns": null,
            "grid_template_rows": null,
            "height": null,
            "justify_content": null,
            "justify_items": null,
            "left": null,
            "margin": null,
            "max_height": null,
            "max_width": null,
            "min_height": null,
            "min_width": null,
            "object_fit": null,
            "object_position": null,
            "order": null,
            "overflow": null,
            "overflow_x": null,
            "overflow_y": null,
            "padding": null,
            "right": null,
            "top": null,
            "visibility": null,
            "width": null
          }
        },
        "736294cb7dd04a2ea3008eacc83d48dd": {
          "model_module": "@jupyter-widgets/base",
          "model_name": "LayoutModel",
          "model_module_version": "1.2.0",
          "state": {
            "_model_module": "@jupyter-widgets/base",
            "_model_module_version": "1.2.0",
            "_model_name": "LayoutModel",
            "_view_count": null,
            "_view_module": "@jupyter-widgets/base",
            "_view_module_version": "1.2.0",
            "_view_name": "LayoutView",
            "align_content": null,
            "align_items": null,
            "align_self": null,
            "border": null,
            "bottom": null,
            "display": null,
            "flex": null,
            "flex_flow": null,
            "grid_area": null,
            "grid_auto_columns": null,
            "grid_auto_flow": null,
            "grid_auto_rows": null,
            "grid_column": null,
            "grid_gap": null,
            "grid_row": null,
            "grid_template_areas": null,
            "grid_template_columns": null,
            "grid_template_rows": null,
            "height": null,
            "justify_content": null,
            "justify_items": null,
            "left": null,
            "margin": null,
            "max_height": null,
            "max_width": null,
            "min_height": null,
            "min_width": null,
            "object_fit": null,
            "object_position": null,
            "order": null,
            "overflow": null,
            "overflow_x": null,
            "overflow_y": null,
            "padding": null,
            "right": null,
            "top": null,
            "visibility": null,
            "width": null
          }
        },
        "97474cd5f242464e91008211511d2154": {
          "model_module": "@jupyter-widgets/controls",
          "model_name": "DescriptionStyleModel",
          "model_module_version": "1.5.0",
          "state": {
            "_model_module": "@jupyter-widgets/controls",
            "_model_module_version": "1.5.0",
            "_model_name": "DescriptionStyleModel",
            "_view_count": null,
            "_view_module": "@jupyter-widgets/base",
            "_view_module_version": "1.2.0",
            "_view_name": "StyleView",
            "description_width": ""
          }
        },
        "90d3874fa90047f88ef610f3215f5ebf": {
          "model_module": "@jupyter-widgets/base",
          "model_name": "LayoutModel",
          "model_module_version": "1.2.0",
          "state": {
            "_model_module": "@jupyter-widgets/base",
            "_model_module_version": "1.2.0",
            "_model_name": "LayoutModel",
            "_view_count": null,
            "_view_module": "@jupyter-widgets/base",
            "_view_module_version": "1.2.0",
            "_view_name": "LayoutView",
            "align_content": null,
            "align_items": null,
            "align_self": null,
            "border": null,
            "bottom": null,
            "display": null,
            "flex": null,
            "flex_flow": null,
            "grid_area": null,
            "grid_auto_columns": null,
            "grid_auto_flow": null,
            "grid_auto_rows": null,
            "grid_column": null,
            "grid_gap": null,
            "grid_row": null,
            "grid_template_areas": null,
            "grid_template_columns": null,
            "grid_template_rows": null,
            "height": null,
            "justify_content": null,
            "justify_items": null,
            "left": null,
            "margin": null,
            "max_height": null,
            "max_width": null,
            "min_height": null,
            "min_width": null,
            "object_fit": null,
            "object_position": null,
            "order": null,
            "overflow": null,
            "overflow_x": null,
            "overflow_y": null,
            "padding": null,
            "right": null,
            "top": null,
            "visibility": null,
            "width": null
          }
        },
        "0d42915033594757a0e7f757bc8b42a4": {
          "model_module": "@jupyter-widgets/controls",
          "model_name": "ProgressStyleModel",
          "model_module_version": "1.5.0",
          "state": {
            "_model_module": "@jupyter-widgets/controls",
            "_model_module_version": "1.5.0",
            "_model_name": "ProgressStyleModel",
            "_view_count": null,
            "_view_module": "@jupyter-widgets/base",
            "_view_module_version": "1.2.0",
            "_view_name": "StyleView",
            "bar_color": null,
            "description_width": ""
          }
        },
        "d043fe8e1af547ae9add973d53d129eb": {
          "model_module": "@jupyter-widgets/base",
          "model_name": "LayoutModel",
          "model_module_version": "1.2.0",
          "state": {
            "_model_module": "@jupyter-widgets/base",
            "_model_module_version": "1.2.0",
            "_model_name": "LayoutModel",
            "_view_count": null,
            "_view_module": "@jupyter-widgets/base",
            "_view_module_version": "1.2.0",
            "_view_name": "LayoutView",
            "align_content": null,
            "align_items": null,
            "align_self": null,
            "border": null,
            "bottom": null,
            "display": null,
            "flex": null,
            "flex_flow": null,
            "grid_area": null,
            "grid_auto_columns": null,
            "grid_auto_flow": null,
            "grid_auto_rows": null,
            "grid_column": null,
            "grid_gap": null,
            "grid_row": null,
            "grid_template_areas": null,
            "grid_template_columns": null,
            "grid_template_rows": null,
            "height": null,
            "justify_content": null,
            "justify_items": null,
            "left": null,
            "margin": null,
            "max_height": null,
            "max_width": null,
            "min_height": null,
            "min_width": null,
            "object_fit": null,
            "object_position": null,
            "order": null,
            "overflow": null,
            "overflow_x": null,
            "overflow_y": null,
            "padding": null,
            "right": null,
            "top": null,
            "visibility": null,
            "width": null
          }
        },
        "0780de03a3b14298b99d7c3694c1ebb7": {
          "model_module": "@jupyter-widgets/controls",
          "model_name": "DescriptionStyleModel",
          "model_module_version": "1.5.0",
          "state": {
            "_model_module": "@jupyter-widgets/controls",
            "_model_module_version": "1.5.0",
            "_model_name": "DescriptionStyleModel",
            "_view_count": null,
            "_view_module": "@jupyter-widgets/base",
            "_view_module_version": "1.2.0",
            "_view_name": "StyleView",
            "description_width": ""
          }
        },
        "36f11d1294ce450aa5f492b8662ceb5a": {
          "model_module": "@jupyter-widgets/controls",
          "model_name": "HBoxModel",
          "model_module_version": "1.5.0",
          "state": {
            "_dom_classes": [],
            "_model_module": "@jupyter-widgets/controls",
            "_model_module_version": "1.5.0",
            "_model_name": "HBoxModel",
            "_view_count": null,
            "_view_module": "@jupyter-widgets/controls",
            "_view_module_version": "1.5.0",
            "_view_name": "HBoxView",
            "box_style": "",
            "children": [
              "IPY_MODEL_e66227e7ee0c4cb2aa08eb52e8d762ee",
              "IPY_MODEL_c807aa1e871f40998de4eb91cad21def",
              "IPY_MODEL_3875bf1720ff45ddb52a6d6c2adac7be"
            ],
            "layout": "IPY_MODEL_bf9ac40de0ce415b94e00be1d4e0e508"
          }
        },
        "e66227e7ee0c4cb2aa08eb52e8d762ee": {
          "model_module": "@jupyter-widgets/controls",
          "model_name": "HTMLModel",
          "model_module_version": "1.5.0",
          "state": {
            "_dom_classes": [],
            "_model_module": "@jupyter-widgets/controls",
            "_model_module_version": "1.5.0",
            "_model_name": "HTMLModel",
            "_view_count": null,
            "_view_module": "@jupyter-widgets/controls",
            "_view_module_version": "1.5.0",
            "_view_name": "HTMLView",
            "description": "",
            "description_tooltip": null,
            "layout": "IPY_MODEL_6d31741db7504ea8bf37acc10c7dd721",
            "placeholder": "​",
            "style": "IPY_MODEL_7b4532db76be41a3aebab0c5c3b17f30",
            "value": "imgs/bm25.jpg: 100%"
          }
        },
        "c807aa1e871f40998de4eb91cad21def": {
          "model_module": "@jupyter-widgets/controls",
          "model_name": "FloatProgressModel",
          "model_module_version": "1.5.0",
          "state": {
            "_dom_classes": [],
            "_model_module": "@jupyter-widgets/controls",
            "_model_module_version": "1.5.0",
            "_model_name": "FloatProgressModel",
            "_view_count": null,
            "_view_module": "@jupyter-widgets/controls",
            "_view_module_version": "1.5.0",
            "_view_name": "ProgressView",
            "bar_style": "success",
            "description": "",
            "description_tooltip": null,
            "layout": "IPY_MODEL_9ce0c2416d464339825dc4c33722d0c7",
            "max": 68964,
            "min": 0,
            "orientation": "horizontal",
            "style": "IPY_MODEL_93d67c5286194d8ba3887a6a1ac4e8fa",
            "value": 68964
          }
        },
        "3875bf1720ff45ddb52a6d6c2adac7be": {
          "model_module": "@jupyter-widgets/controls",
          "model_name": "HTMLModel",
          "model_module_version": "1.5.0",
          "state": {
            "_dom_classes": [],
            "_model_module": "@jupyter-widgets/controls",
            "_model_module_version": "1.5.0",
            "_model_name": "HTMLModel",
            "_view_count": null,
            "_view_module": "@jupyter-widgets/controls",
            "_view_module_version": "1.5.0",
            "_view_name": "HTMLView",
            "description": "",
            "description_tooltip": null,
            "layout": "IPY_MODEL_5e684119dc194add8b6d381966950f8b",
            "placeholder": "​",
            "style": "IPY_MODEL_dc81a2d19ea34b86880e0a26761177b0",
            "value": " 69.0k/69.0k [00:00&lt;00:00, 608kB/s]"
          }
        },
        "bf9ac40de0ce415b94e00be1d4e0e508": {
          "model_module": "@jupyter-widgets/base",
          "model_name": "LayoutModel",
          "model_module_version": "1.2.0",
          "state": {
            "_model_module": "@jupyter-widgets/base",
            "_model_module_version": "1.2.0",
            "_model_name": "LayoutModel",
            "_view_count": null,
            "_view_module": "@jupyter-widgets/base",
            "_view_module_version": "1.2.0",
            "_view_name": "LayoutView",
            "align_content": null,
            "align_items": null,
            "align_self": null,
            "border": null,
            "bottom": null,
            "display": null,
            "flex": null,
            "flex_flow": null,
            "grid_area": null,
            "grid_auto_columns": null,
            "grid_auto_flow": null,
            "grid_auto_rows": null,
            "grid_column": null,
            "grid_gap": null,
            "grid_row": null,
            "grid_template_areas": null,
            "grid_template_columns": null,
            "grid_template_rows": null,
            "height": null,
            "justify_content": null,
            "justify_items": null,
            "left": null,
            "margin": null,
            "max_height": null,
            "max_width": null,
            "min_height": null,
            "min_width": null,
            "object_fit": null,
            "object_position": null,
            "order": null,
            "overflow": null,
            "overflow_x": null,
            "overflow_y": null,
            "padding": null,
            "right": null,
            "top": null,
            "visibility": null,
            "width": null
          }
        },
        "6d31741db7504ea8bf37acc10c7dd721": {
          "model_module": "@jupyter-widgets/base",
          "model_name": "LayoutModel",
          "model_module_version": "1.2.0",
          "state": {
            "_model_module": "@jupyter-widgets/base",
            "_model_module_version": "1.2.0",
            "_model_name": "LayoutModel",
            "_view_count": null,
            "_view_module": "@jupyter-widgets/base",
            "_view_module_version": "1.2.0",
            "_view_name": "LayoutView",
            "align_content": null,
            "align_items": null,
            "align_self": null,
            "border": null,
            "bottom": null,
            "display": null,
            "flex": null,
            "flex_flow": null,
            "grid_area": null,
            "grid_auto_columns": null,
            "grid_auto_flow": null,
            "grid_auto_rows": null,
            "grid_column": null,
            "grid_gap": null,
            "grid_row": null,
            "grid_template_areas": null,
            "grid_template_columns": null,
            "grid_template_rows": null,
            "height": null,
            "justify_content": null,
            "justify_items": null,
            "left": null,
            "margin": null,
            "max_height": null,
            "max_width": null,
            "min_height": null,
            "min_width": null,
            "object_fit": null,
            "object_position": null,
            "order": null,
            "overflow": null,
            "overflow_x": null,
            "overflow_y": null,
            "padding": null,
            "right": null,
            "top": null,
            "visibility": null,
            "width": null
          }
        },
        "7b4532db76be41a3aebab0c5c3b17f30": {
          "model_module": "@jupyter-widgets/controls",
          "model_name": "DescriptionStyleModel",
          "model_module_version": "1.5.0",
          "state": {
            "_model_module": "@jupyter-widgets/controls",
            "_model_module_version": "1.5.0",
            "_model_name": "DescriptionStyleModel",
            "_view_count": null,
            "_view_module": "@jupyter-widgets/base",
            "_view_module_version": "1.2.0",
            "_view_name": "StyleView",
            "description_width": ""
          }
        },
        "9ce0c2416d464339825dc4c33722d0c7": {
          "model_module": "@jupyter-widgets/base",
          "model_name": "LayoutModel",
          "model_module_version": "1.2.0",
          "state": {
            "_model_module": "@jupyter-widgets/base",
            "_model_module_version": "1.2.0",
            "_model_name": "LayoutModel",
            "_view_count": null,
            "_view_module": "@jupyter-widgets/base",
            "_view_module_version": "1.2.0",
            "_view_name": "LayoutView",
            "align_content": null,
            "align_items": null,
            "align_self": null,
            "border": null,
            "bottom": null,
            "display": null,
            "flex": null,
            "flex_flow": null,
            "grid_area": null,
            "grid_auto_columns": null,
            "grid_auto_flow": null,
            "grid_auto_rows": null,
            "grid_column": null,
            "grid_gap": null,
            "grid_row": null,
            "grid_template_areas": null,
            "grid_template_columns": null,
            "grid_template_rows": null,
            "height": null,
            "justify_content": null,
            "justify_items": null,
            "left": null,
            "margin": null,
            "max_height": null,
            "max_width": null,
            "min_height": null,
            "min_width": null,
            "object_fit": null,
            "object_position": null,
            "order": null,
            "overflow": null,
            "overflow_x": null,
            "overflow_y": null,
            "padding": null,
            "right": null,
            "top": null,
            "visibility": null,
            "width": null
          }
        },
        "93d67c5286194d8ba3887a6a1ac4e8fa": {
          "model_module": "@jupyter-widgets/controls",
          "model_name": "ProgressStyleModel",
          "model_module_version": "1.5.0",
          "state": {
            "_model_module": "@jupyter-widgets/controls",
            "_model_module_version": "1.5.0",
            "_model_name": "ProgressStyleModel",
            "_view_count": null,
            "_view_module": "@jupyter-widgets/base",
            "_view_module_version": "1.2.0",
            "_view_name": "StyleView",
            "bar_color": null,
            "description_width": ""
          }
        },
        "5e684119dc194add8b6d381966950f8b": {
          "model_module": "@jupyter-widgets/base",
          "model_name": "LayoutModel",
          "model_module_version": "1.2.0",
          "state": {
            "_model_module": "@jupyter-widgets/base",
            "_model_module_version": "1.2.0",
            "_model_name": "LayoutModel",
            "_view_count": null,
            "_view_module": "@jupyter-widgets/base",
            "_view_module_version": "1.2.0",
            "_view_name": "LayoutView",
            "align_content": null,
            "align_items": null,
            "align_self": null,
            "border": null,
            "bottom": null,
            "display": null,
            "flex": null,
            "flex_flow": null,
            "grid_area": null,
            "grid_auto_columns": null,
            "grid_auto_flow": null,
            "grid_auto_rows": null,
            "grid_column": null,
            "grid_gap": null,
            "grid_row": null,
            "grid_template_areas": null,
            "grid_template_columns": null,
            "grid_template_rows": null,
            "height": null,
            "justify_content": null,
            "justify_items": null,
            "left": null,
            "margin": null,
            "max_height": null,
            "max_width": null,
            "min_height": null,
            "min_width": null,
            "object_fit": null,
            "object_position": null,
            "order": null,
            "overflow": null,
            "overflow_x": null,
            "overflow_y": null,
            "padding": null,
            "right": null,
            "top": null,
            "visibility": null,
            "width": null
          }
        },
        "dc81a2d19ea34b86880e0a26761177b0": {
          "model_module": "@jupyter-widgets/controls",
          "model_name": "DescriptionStyleModel",
          "model_module_version": "1.5.0",
          "state": {
            "_model_module": "@jupyter-widgets/controls",
            "_model_module_version": "1.5.0",
            "_model_name": "DescriptionStyleModel",
            "_view_count": null,
            "_view_module": "@jupyter-widgets/base",
            "_view_module_version": "1.2.0",
            "_view_name": "StyleView",
            "description_width": ""
          }
        },
        "a010b128f5bb4cc9afb5e8ed74d6d444": {
          "model_module": "@jupyter-widgets/controls",
          "model_name": "HBoxModel",
          "model_module_version": "1.5.0",
          "state": {
            "_dom_classes": [],
            "_model_module": "@jupyter-widgets/controls",
            "_model_module_version": "1.5.0",
            "_model_name": "HBoxModel",
            "_view_count": null,
            "_view_module": "@jupyter-widgets/controls",
            "_view_module_version": "1.5.0",
            "_view_name": "HBoxView",
            "box_style": "",
            "children": [
              "IPY_MODEL_743ec2f75036444fb0b4452bf0e9c4ce",
              "IPY_MODEL_8046b56a957b4a1f86fbb15106682a29",
              "IPY_MODEL_fdc122e216cf4cf6b7dc6fa1c2f4a449"
            ],
            "layout": "IPY_MODEL_3a9e1f71a9a647fea14fd3b9f5cf31a8"
          }
        },
        "743ec2f75036444fb0b4452bf0e9c4ce": {
          "model_module": "@jupyter-widgets/controls",
          "model_name": "HTMLModel",
          "model_module_version": "1.5.0",
          "state": {
            "_dom_classes": [],
            "_model_module": "@jupyter-widgets/controls",
            "_model_module_version": "1.5.0",
            "_model_name": "HTMLModel",
            "_view_count": null,
            "_view_module": "@jupyter-widgets/controls",
            "_view_module_version": "1.5.0",
            "_view_name": "HTMLView",
            "description": "",
            "description_tooltip": null,
            "layout": "IPY_MODEL_81bf323ced174f8b902acb5f04908e15",
            "placeholder": "​",
            "style": "IPY_MODEL_c4061085e8694069909c1d8591055bba",
            "value": "README.md: 100%"
          }
        },
        "8046b56a957b4a1f86fbb15106682a29": {
          "model_module": "@jupyter-widgets/controls",
          "model_name": "FloatProgressModel",
          "model_module_version": "1.5.0",
          "state": {
            "_dom_classes": [],
            "_model_module": "@jupyter-widgets/controls",
            "_model_module_version": "1.5.0",
            "_model_name": "FloatProgressModel",
            "_view_count": null,
            "_view_module": "@jupyter-widgets/controls",
            "_view_module_version": "1.5.0",
            "_view_name": "ProgressView",
            "bar_style": "success",
            "description": "",
            "description_tooltip": null,
            "layout": "IPY_MODEL_1e210dfe1d594918842b8b3a965d0c57",
            "max": 14955,
            "min": 0,
            "orientation": "horizontal",
            "style": "IPY_MODEL_c117ad69033d49b7bf0fead0f47be379",
            "value": 14955
          }
        },
        "fdc122e216cf4cf6b7dc6fa1c2f4a449": {
          "model_module": "@jupyter-widgets/controls",
          "model_name": "HTMLModel",
          "model_module_version": "1.5.0",
          "state": {
            "_dom_classes": [],
            "_model_module": "@jupyter-widgets/controls",
            "_model_module_version": "1.5.0",
            "_model_name": "HTMLModel",
            "_view_count": null,
            "_view_module": "@jupyter-widgets/controls",
            "_view_module_version": "1.5.0",
            "_view_name": "HTMLView",
            "description": "",
            "description_tooltip": null,
            "layout": "IPY_MODEL_6cfa3360207b4bc4a65d93aae79e2e92",
            "placeholder": "​",
            "style": "IPY_MODEL_1db105681c9147829698f38f3d38be40",
            "value": " 15.0k/15.0k [00:00&lt;00:00, 132kB/s]"
          }
        },
        "3a9e1f71a9a647fea14fd3b9f5cf31a8": {
          "model_module": "@jupyter-widgets/base",
          "model_name": "LayoutModel",
          "model_module_version": "1.2.0",
          "state": {
            "_model_module": "@jupyter-widgets/base",
            "_model_module_version": "1.2.0",
            "_model_name": "LayoutModel",
            "_view_count": null,
            "_view_module": "@jupyter-widgets/base",
            "_view_module_version": "1.2.0",
            "_view_name": "LayoutView",
            "align_content": null,
            "align_items": null,
            "align_self": null,
            "border": null,
            "bottom": null,
            "display": null,
            "flex": null,
            "flex_flow": null,
            "grid_area": null,
            "grid_auto_columns": null,
            "grid_auto_flow": null,
            "grid_auto_rows": null,
            "grid_column": null,
            "grid_gap": null,
            "grid_row": null,
            "grid_template_areas": null,
            "grid_template_columns": null,
            "grid_template_rows": null,
            "height": null,
            "justify_content": null,
            "justify_items": null,
            "left": null,
            "margin": null,
            "max_height": null,
            "max_width": null,
            "min_height": null,
            "min_width": null,
            "object_fit": null,
            "object_position": null,
            "order": null,
            "overflow": null,
            "overflow_x": null,
            "overflow_y": null,
            "padding": null,
            "right": null,
            "top": null,
            "visibility": null,
            "width": null
          }
        },
        "81bf323ced174f8b902acb5f04908e15": {
          "model_module": "@jupyter-widgets/base",
          "model_name": "LayoutModel",
          "model_module_version": "1.2.0",
          "state": {
            "_model_module": "@jupyter-widgets/base",
            "_model_module_version": "1.2.0",
            "_model_name": "LayoutModel",
            "_view_count": null,
            "_view_module": "@jupyter-widgets/base",
            "_view_module_version": "1.2.0",
            "_view_name": "LayoutView",
            "align_content": null,
            "align_items": null,
            "align_self": null,
            "border": null,
            "bottom": null,
            "display": null,
            "flex": null,
            "flex_flow": null,
            "grid_area": null,
            "grid_auto_columns": null,
            "grid_auto_flow": null,
            "grid_auto_rows": null,
            "grid_column": null,
            "grid_gap": null,
            "grid_row": null,
            "grid_template_areas": null,
            "grid_template_columns": null,
            "grid_template_rows": null,
            "height": null,
            "justify_content": null,
            "justify_items": null,
            "left": null,
            "margin": null,
            "max_height": null,
            "max_width": null,
            "min_height": null,
            "min_width": null,
            "object_fit": null,
            "object_position": null,
            "order": null,
            "overflow": null,
            "overflow_x": null,
            "overflow_y": null,
            "padding": null,
            "right": null,
            "top": null,
            "visibility": null,
            "width": null
          }
        },
        "c4061085e8694069909c1d8591055bba": {
          "model_module": "@jupyter-widgets/controls",
          "model_name": "DescriptionStyleModel",
          "model_module_version": "1.5.0",
          "state": {
            "_model_module": "@jupyter-widgets/controls",
            "_model_module_version": "1.5.0",
            "_model_name": "DescriptionStyleModel",
            "_view_count": null,
            "_view_module": "@jupyter-widgets/base",
            "_view_module_version": "1.2.0",
            "_view_name": "StyleView",
            "description_width": ""
          }
        },
        "1e210dfe1d594918842b8b3a965d0c57": {
          "model_module": "@jupyter-widgets/base",
          "model_name": "LayoutModel",
          "model_module_version": "1.2.0",
          "state": {
            "_model_module": "@jupyter-widgets/base",
            "_model_module_version": "1.2.0",
            "_model_name": "LayoutModel",
            "_view_count": null,
            "_view_module": "@jupyter-widgets/base",
            "_view_module_version": "1.2.0",
            "_view_name": "LayoutView",
            "align_content": null,
            "align_items": null,
            "align_self": null,
            "border": null,
            "bottom": null,
            "display": null,
            "flex": null,
            "flex_flow": null,
            "grid_area": null,
            "grid_auto_columns": null,
            "grid_auto_flow": null,
            "grid_auto_rows": null,
            "grid_column": null,
            "grid_gap": null,
            "grid_row": null,
            "grid_template_areas": null,
            "grid_template_columns": null,
            "grid_template_rows": null,
            "height": null,
            "justify_content": null,
            "justify_items": null,
            "left": null,
            "margin": null,
            "max_height": null,
            "max_width": null,
            "min_height": null,
            "min_width": null,
            "object_fit": null,
            "object_position": null,
            "order": null,
            "overflow": null,
            "overflow_x": null,
            "overflow_y": null,
            "padding": null,
            "right": null,
            "top": null,
            "visibility": null,
            "width": null
          }
        },
        "c117ad69033d49b7bf0fead0f47be379": {
          "model_module": "@jupyter-widgets/controls",
          "model_name": "ProgressStyleModel",
          "model_module_version": "1.5.0",
          "state": {
            "_model_module": "@jupyter-widgets/controls",
            "_model_module_version": "1.5.0",
            "_model_name": "ProgressStyleModel",
            "_view_count": null,
            "_view_module": "@jupyter-widgets/base",
            "_view_module_version": "1.2.0",
            "_view_name": "StyleView",
            "bar_color": null,
            "description_width": ""
          }
        },
        "6cfa3360207b4bc4a65d93aae79e2e92": {
          "model_module": "@jupyter-widgets/base",
          "model_name": "LayoutModel",
          "model_module_version": "1.2.0",
          "state": {
            "_model_module": "@jupyter-widgets/base",
            "_model_module_version": "1.2.0",
            "_model_name": "LayoutModel",
            "_view_count": null,
            "_view_module": "@jupyter-widgets/base",
            "_view_module_version": "1.2.0",
            "_view_name": "LayoutView",
            "align_content": null,
            "align_items": null,
            "align_self": null,
            "border": null,
            "bottom": null,
            "display": null,
            "flex": null,
            "flex_flow": null,
            "grid_area": null,
            "grid_auto_columns": null,
            "grid_auto_flow": null,
            "grid_auto_rows": null,
            "grid_column": null,
            "grid_gap": null,
            "grid_row": null,
            "grid_template_areas": null,
            "grid_template_columns": null,
            "grid_template_rows": null,
            "height": null,
            "justify_content": null,
            "justify_items": null,
            "left": null,
            "margin": null,
            "max_height": null,
            "max_width": null,
            "min_height": null,
            "min_width": null,
            "object_fit": null,
            "object_position": null,
            "order": null,
            "overflow": null,
            "overflow_x": null,
            "overflow_y": null,
            "padding": null,
            "right": null,
            "top": null,
            "visibility": null,
            "width": null
          }
        },
        "1db105681c9147829698f38f3d38be40": {
          "model_module": "@jupyter-widgets/controls",
          "model_name": "DescriptionStyleModel",
          "model_module_version": "1.5.0",
          "state": {
            "_model_module": "@jupyter-widgets/controls",
            "_model_module_version": "1.5.0",
            "_model_name": "DescriptionStyleModel",
            "_view_count": null,
            "_view_module": "@jupyter-widgets/base",
            "_view_module_version": "1.2.0",
            "_view_name": "StyleView",
            "description_width": ""
          }
        },
        "99b28c43b3034f0cbad7553d7c745f9f": {
          "model_module": "@jupyter-widgets/controls",
          "model_name": "HBoxModel",
          "model_module_version": "1.5.0",
          "state": {
            "_dom_classes": [],
            "_model_module": "@jupyter-widgets/controls",
            "_model_module_version": "1.5.0",
            "_model_name": "HBoxModel",
            "_view_count": null,
            "_view_module": "@jupyter-widgets/controls",
            "_view_module_version": "1.5.0",
            "_view_name": "HBoxView",
            "box_style": "",
            "children": [
              "IPY_MODEL_d8604fbc238e4fc7ba0a84633829c863",
              "IPY_MODEL_ab5a3acc53e84228aeb77002ca5e8029",
              "IPY_MODEL_372029ad5e4d4a7abbae7d6202f7a5de"
            ],
            "layout": "IPY_MODEL_6bed8fde0fad40d8ac69c4a7622f1697"
          }
        },
        "d8604fbc238e4fc7ba0a84633829c863": {
          "model_module": "@jupyter-widgets/controls",
          "model_name": "HTMLModel",
          "model_module_version": "1.5.0",
          "state": {
            "_dom_classes": [],
            "_model_module": "@jupyter-widgets/controls",
            "_model_module_version": "1.5.0",
            "_model_name": "HTMLModel",
            "_view_count": null,
            "_view_module": "@jupyter-widgets/controls",
            "_view_module_version": "1.5.0",
            "_view_name": "HTMLView",
            "description": "",
            "description_tooltip": null,
            "layout": "IPY_MODEL_b2aea583248346aca1cbb8d3a21746d5",
            "placeholder": "​",
            "style": "IPY_MODEL_88104800b8b64a84be3a764c49612da6",
            "value": "config.json: 100%"
          }
        },
        "ab5a3acc53e84228aeb77002ca5e8029": {
          "model_module": "@jupyter-widgets/controls",
          "model_name": "FloatProgressModel",
          "model_module_version": "1.5.0",
          "state": {
            "_dom_classes": [],
            "_model_module": "@jupyter-widgets/controls",
            "_model_module_version": "1.5.0",
            "_model_name": "FloatProgressModel",
            "_view_count": null,
            "_view_module": "@jupyter-widgets/controls",
            "_view_module_version": "1.5.0",
            "_view_name": "ProgressView",
            "bar_style": "success",
            "description": "",
            "description_tooltip": null,
            "layout": "IPY_MODEL_34680758396845db8164ae43c696b4f7",
            "max": 687,
            "min": 0,
            "orientation": "horizontal",
            "style": "IPY_MODEL_81f9aa18c55d4bf4a2c4147062c4f954",
            "value": 687
          }
        },
        "372029ad5e4d4a7abbae7d6202f7a5de": {
          "model_module": "@jupyter-widgets/controls",
          "model_name": "HTMLModel",
          "model_module_version": "1.5.0",
          "state": {
            "_dom_classes": [],
            "_model_module": "@jupyter-widgets/controls",
            "_model_module_version": "1.5.0",
            "_model_name": "HTMLModel",
            "_view_count": null,
            "_view_module": "@jupyter-widgets/controls",
            "_view_module_version": "1.5.0",
            "_view_name": "HTMLView",
            "description": "",
            "description_tooltip": null,
            "layout": "IPY_MODEL_451b052cd39342ad8df84a53dc085dec",
            "placeholder": "​",
            "style": "IPY_MODEL_865b28fbaa314eca9ed03145c3c16e29",
            "value": " 687/687 [00:00&lt;00:00, 5.37kB/s]"
          }
        },
        "6bed8fde0fad40d8ac69c4a7622f1697": {
          "model_module": "@jupyter-widgets/base",
          "model_name": "LayoutModel",
          "model_module_version": "1.2.0",
          "state": {
            "_model_module": "@jupyter-widgets/base",
            "_model_module_version": "1.2.0",
            "_model_name": "LayoutModel",
            "_view_count": null,
            "_view_module": "@jupyter-widgets/base",
            "_view_module_version": "1.2.0",
            "_view_name": "LayoutView",
            "align_content": null,
            "align_items": null,
            "align_self": null,
            "border": null,
            "bottom": null,
            "display": null,
            "flex": null,
            "flex_flow": null,
            "grid_area": null,
            "grid_auto_columns": null,
            "grid_auto_flow": null,
            "grid_auto_rows": null,
            "grid_column": null,
            "grid_gap": null,
            "grid_row": null,
            "grid_template_areas": null,
            "grid_template_columns": null,
            "grid_template_rows": null,
            "height": null,
            "justify_content": null,
            "justify_items": null,
            "left": null,
            "margin": null,
            "max_height": null,
            "max_width": null,
            "min_height": null,
            "min_width": null,
            "object_fit": null,
            "object_position": null,
            "order": null,
            "overflow": null,
            "overflow_x": null,
            "overflow_y": null,
            "padding": null,
            "right": null,
            "top": null,
            "visibility": null,
            "width": null
          }
        },
        "b2aea583248346aca1cbb8d3a21746d5": {
          "model_module": "@jupyter-widgets/base",
          "model_name": "LayoutModel",
          "model_module_version": "1.2.0",
          "state": {
            "_model_module": "@jupyter-widgets/base",
            "_model_module_version": "1.2.0",
            "_model_name": "LayoutModel",
            "_view_count": null,
            "_view_module": "@jupyter-widgets/base",
            "_view_module_version": "1.2.0",
            "_view_name": "LayoutView",
            "align_content": null,
            "align_items": null,
            "align_self": null,
            "border": null,
            "bottom": null,
            "display": null,
            "flex": null,
            "flex_flow": null,
            "grid_area": null,
            "grid_auto_columns": null,
            "grid_auto_flow": null,
            "grid_auto_rows": null,
            "grid_column": null,
            "grid_gap": null,
            "grid_row": null,
            "grid_template_areas": null,
            "grid_template_columns": null,
            "grid_template_rows": null,
            "height": null,
            "justify_content": null,
            "justify_items": null,
            "left": null,
            "margin": null,
            "max_height": null,
            "max_width": null,
            "min_height": null,
            "min_width": null,
            "object_fit": null,
            "object_position": null,
            "order": null,
            "overflow": null,
            "overflow_x": null,
            "overflow_y": null,
            "padding": null,
            "right": null,
            "top": null,
            "visibility": null,
            "width": null
          }
        },
        "88104800b8b64a84be3a764c49612da6": {
          "model_module": "@jupyter-widgets/controls",
          "model_name": "DescriptionStyleModel",
          "model_module_version": "1.5.0",
          "state": {
            "_model_module": "@jupyter-widgets/controls",
            "_model_module_version": "1.5.0",
            "_model_name": "DescriptionStyleModel",
            "_view_count": null,
            "_view_module": "@jupyter-widgets/base",
            "_view_module_version": "1.2.0",
            "_view_name": "StyleView",
            "description_width": ""
          }
        },
        "34680758396845db8164ae43c696b4f7": {
          "model_module": "@jupyter-widgets/base",
          "model_name": "LayoutModel",
          "model_module_version": "1.2.0",
          "state": {
            "_model_module": "@jupyter-widgets/base",
            "_model_module_version": "1.2.0",
            "_model_name": "LayoutModel",
            "_view_count": null,
            "_view_module": "@jupyter-widgets/base",
            "_view_module_version": "1.2.0",
            "_view_name": "LayoutView",
            "align_content": null,
            "align_items": null,
            "align_self": null,
            "border": null,
            "bottom": null,
            "display": null,
            "flex": null,
            "flex_flow": null,
            "grid_area": null,
            "grid_auto_columns": null,
            "grid_auto_flow": null,
            "grid_auto_rows": null,
            "grid_column": null,
            "grid_gap": null,
            "grid_row": null,
            "grid_template_areas": null,
            "grid_template_columns": null,
            "grid_template_rows": null,
            "height": null,
            "justify_content": null,
            "justify_items": null,
            "left": null,
            "margin": null,
            "max_height": null,
            "max_width": null,
            "min_height": null,
            "min_width": null,
            "object_fit": null,
            "object_position": null,
            "order": null,
            "overflow": null,
            "overflow_x": null,
            "overflow_y": null,
            "padding": null,
            "right": null,
            "top": null,
            "visibility": null,
            "width": null
          }
        },
        "81f9aa18c55d4bf4a2c4147062c4f954": {
          "model_module": "@jupyter-widgets/controls",
          "model_name": "ProgressStyleModel",
          "model_module_version": "1.5.0",
          "state": {
            "_model_module": "@jupyter-widgets/controls",
            "_model_module_version": "1.5.0",
            "_model_name": "ProgressStyleModel",
            "_view_count": null,
            "_view_module": "@jupyter-widgets/base",
            "_view_module_version": "1.2.0",
            "_view_name": "StyleView",
            "bar_color": null,
            "description_width": ""
          }
        },
        "451b052cd39342ad8df84a53dc085dec": {
          "model_module": "@jupyter-widgets/base",
          "model_name": "LayoutModel",
          "model_module_version": "1.2.0",
          "state": {
            "_model_module": "@jupyter-widgets/base",
            "_model_module_version": "1.2.0",
            "_model_name": "LayoutModel",
            "_view_count": null,
            "_view_module": "@jupyter-widgets/base",
            "_view_module_version": "1.2.0",
            "_view_name": "LayoutView",
            "align_content": null,
            "align_items": null,
            "align_self": null,
            "border": null,
            "bottom": null,
            "display": null,
            "flex": null,
            "flex_flow": null,
            "grid_area": null,
            "grid_auto_columns": null,
            "grid_auto_flow": null,
            "grid_auto_rows": null,
            "grid_column": null,
            "grid_gap": null,
            "grid_row": null,
            "grid_template_areas": null,
            "grid_template_columns": null,
            "grid_template_rows": null,
            "height": null,
            "justify_content": null,
            "justify_items": null,
            "left": null,
            "margin": null,
            "max_height": null,
            "max_width": null,
            "min_height": null,
            "min_width": null,
            "object_fit": null,
            "object_position": null,
            "order": null,
            "overflow": null,
            "overflow_x": null,
            "overflow_y": null,
            "padding": null,
            "right": null,
            "top": null,
            "visibility": null,
            "width": null
          }
        },
        "865b28fbaa314eca9ed03145c3c16e29": {
          "model_module": "@jupyter-widgets/controls",
          "model_name": "DescriptionStyleModel",
          "model_module_version": "1.5.0",
          "state": {
            "_model_module": "@jupyter-widgets/controls",
            "_model_module_version": "1.5.0",
            "_model_name": "DescriptionStyleModel",
            "_view_count": null,
            "_view_module": "@jupyter-widgets/base",
            "_view_module_version": "1.2.0",
            "_view_name": "StyleView",
            "description_width": ""
          }
        },
        "20afddcbc4fd4ff88c16db598dafe327": {
          "model_module": "@jupyter-widgets/controls",
          "model_name": "HBoxModel",
          "model_module_version": "1.5.0",
          "state": {
            "_dom_classes": [],
            "_model_module": "@jupyter-widgets/controls",
            "_model_module_version": "1.5.0",
            "_model_name": "HBoxModel",
            "_view_count": null,
            "_view_module": "@jupyter-widgets/controls",
            "_view_module_version": "1.5.0",
            "_view_name": "HBoxView",
            "box_style": "",
            "children": [
              "IPY_MODEL_c9f29406b419430cb3ab3a39b632c7d4",
              "IPY_MODEL_f4dffcda015e41d0a19e224876d880c4",
              "IPY_MODEL_b65d6cf61b6541de8213ed82273d3b85"
            ],
            "layout": "IPY_MODEL_f3afeb3598c84589ac9fe53e16e87244"
          }
        },
        "c9f29406b419430cb3ab3a39b632c7d4": {
          "model_module": "@jupyter-widgets/controls",
          "model_name": "HTMLModel",
          "model_module_version": "1.5.0",
          "state": {
            "_dom_classes": [],
            "_model_module": "@jupyter-widgets/controls",
            "_model_module_version": "1.5.0",
            "_model_name": "HTMLModel",
            "_view_count": null,
            "_view_module": "@jupyter-widgets/controls",
            "_view_module_version": "1.5.0",
            "_view_name": "HTMLView",
            "description": "",
            "description_tooltip": null,
            "layout": "IPY_MODEL_848305d04cca4bb7bd9d56917d080f46",
            "placeholder": "​",
            "style": "IPY_MODEL_73a30f84ebb84a7e8c13d68c389bf484",
            "value": ".gitattributes: 100%"
          }
        },
        "f4dffcda015e41d0a19e224876d880c4": {
          "model_module": "@jupyter-widgets/controls",
          "model_name": "FloatProgressModel",
          "model_module_version": "1.5.0",
          "state": {
            "_dom_classes": [],
            "_model_module": "@jupyter-widgets/controls",
            "_model_module_version": "1.5.0",
            "_model_name": "FloatProgressModel",
            "_view_count": null,
            "_view_module": "@jupyter-widgets/controls",
            "_view_module_version": "1.5.0",
            "_view_name": "ProgressView",
            "bar_style": "success",
            "description": "",
            "description_tooltip": null,
            "layout": "IPY_MODEL_60cc58c7990f40c1b25b75645ec44354",
            "max": 1570,
            "min": 0,
            "orientation": "horizontal",
            "style": "IPY_MODEL_559bd33580084016adf49310bb02fafa",
            "value": 1570
          }
        },
        "b65d6cf61b6541de8213ed82273d3b85": {
          "model_module": "@jupyter-widgets/controls",
          "model_name": "HTMLModel",
          "model_module_version": "1.5.0",
          "state": {
            "_dom_classes": [],
            "_model_module": "@jupyter-widgets/controls",
            "_model_module_version": "1.5.0",
            "_model_name": "HTMLModel",
            "_view_count": null,
            "_view_module": "@jupyter-widgets/controls",
            "_view_module_version": "1.5.0",
            "_view_name": "HTMLView",
            "description": "",
            "description_tooltip": null,
            "layout": "IPY_MODEL_2f328a5068e145dbb9915ff820375eec",
            "placeholder": "​",
            "style": "IPY_MODEL_8e3804c2751e41d0ac9a349c911a18c1",
            "value": " 1.57k/1.57k [00:00&lt;00:00, 10.6kB/s]"
          }
        },
        "f3afeb3598c84589ac9fe53e16e87244": {
          "model_module": "@jupyter-widgets/base",
          "model_name": "LayoutModel",
          "model_module_version": "1.2.0",
          "state": {
            "_model_module": "@jupyter-widgets/base",
            "_model_module_version": "1.2.0",
            "_model_name": "LayoutModel",
            "_view_count": null,
            "_view_module": "@jupyter-widgets/base",
            "_view_module_version": "1.2.0",
            "_view_name": "LayoutView",
            "align_content": null,
            "align_items": null,
            "align_self": null,
            "border": null,
            "bottom": null,
            "display": null,
            "flex": null,
            "flex_flow": null,
            "grid_area": null,
            "grid_auto_columns": null,
            "grid_auto_flow": null,
            "grid_auto_rows": null,
            "grid_column": null,
            "grid_gap": null,
            "grid_row": null,
            "grid_template_areas": null,
            "grid_template_columns": null,
            "grid_template_rows": null,
            "height": null,
            "justify_content": null,
            "justify_items": null,
            "left": null,
            "margin": null,
            "max_height": null,
            "max_width": null,
            "min_height": null,
            "min_width": null,
            "object_fit": null,
            "object_position": null,
            "order": null,
            "overflow": null,
            "overflow_x": null,
            "overflow_y": null,
            "padding": null,
            "right": null,
            "top": null,
            "visibility": null,
            "width": null
          }
        },
        "848305d04cca4bb7bd9d56917d080f46": {
          "model_module": "@jupyter-widgets/base",
          "model_name": "LayoutModel",
          "model_module_version": "1.2.0",
          "state": {
            "_model_module": "@jupyter-widgets/base",
            "_model_module_version": "1.2.0",
            "_model_name": "LayoutModel",
            "_view_count": null,
            "_view_module": "@jupyter-widgets/base",
            "_view_module_version": "1.2.0",
            "_view_name": "LayoutView",
            "align_content": null,
            "align_items": null,
            "align_self": null,
            "border": null,
            "bottom": null,
            "display": null,
            "flex": null,
            "flex_flow": null,
            "grid_area": null,
            "grid_auto_columns": null,
            "grid_auto_flow": null,
            "grid_auto_rows": null,
            "grid_column": null,
            "grid_gap": null,
            "grid_row": null,
            "grid_template_areas": null,
            "grid_template_columns": null,
            "grid_template_rows": null,
            "height": null,
            "justify_content": null,
            "justify_items": null,
            "left": null,
            "margin": null,
            "max_height": null,
            "max_width": null,
            "min_height": null,
            "min_width": null,
            "object_fit": null,
            "object_position": null,
            "order": null,
            "overflow": null,
            "overflow_x": null,
            "overflow_y": null,
            "padding": null,
            "right": null,
            "top": null,
            "visibility": null,
            "width": null
          }
        },
        "73a30f84ebb84a7e8c13d68c389bf484": {
          "model_module": "@jupyter-widgets/controls",
          "model_name": "DescriptionStyleModel",
          "model_module_version": "1.5.0",
          "state": {
            "_model_module": "@jupyter-widgets/controls",
            "_model_module_version": "1.5.0",
            "_model_name": "DescriptionStyleModel",
            "_view_count": null,
            "_view_module": "@jupyter-widgets/base",
            "_view_module_version": "1.2.0",
            "_view_name": "StyleView",
            "description_width": ""
          }
        },
        "60cc58c7990f40c1b25b75645ec44354": {
          "model_module": "@jupyter-widgets/base",
          "model_name": "LayoutModel",
          "model_module_version": "1.2.0",
          "state": {
            "_model_module": "@jupyter-widgets/base",
            "_model_module_version": "1.2.0",
            "_model_name": "LayoutModel",
            "_view_count": null,
            "_view_module": "@jupyter-widgets/base",
            "_view_module_version": "1.2.0",
            "_view_name": "LayoutView",
            "align_content": null,
            "align_items": null,
            "align_self": null,
            "border": null,
            "bottom": null,
            "display": null,
            "flex": null,
            "flex_flow": null,
            "grid_area": null,
            "grid_auto_columns": null,
            "grid_auto_flow": null,
            "grid_auto_rows": null,
            "grid_column": null,
            "grid_gap": null,
            "grid_row": null,
            "grid_template_areas": null,
            "grid_template_columns": null,
            "grid_template_rows": null,
            "height": null,
            "justify_content": null,
            "justify_items": null,
            "left": null,
            "margin": null,
            "max_height": null,
            "max_width": null,
            "min_height": null,
            "min_width": null,
            "object_fit": null,
            "object_position": null,
            "order": null,
            "overflow": null,
            "overflow_x": null,
            "overflow_y": null,
            "padding": null,
            "right": null,
            "top": null,
            "visibility": null,
            "width": null
          }
        },
        "559bd33580084016adf49310bb02fafa": {
          "model_module": "@jupyter-widgets/controls",
          "model_name": "ProgressStyleModel",
          "model_module_version": "1.5.0",
          "state": {
            "_model_module": "@jupyter-widgets/controls",
            "_model_module_version": "1.5.0",
            "_model_name": "ProgressStyleModel",
            "_view_count": null,
            "_view_module": "@jupyter-widgets/base",
            "_view_module_version": "1.2.0",
            "_view_name": "StyleView",
            "bar_color": null,
            "description_width": ""
          }
        },
        "2f328a5068e145dbb9915ff820375eec": {
          "model_module": "@jupyter-widgets/base",
          "model_name": "LayoutModel",
          "model_module_version": "1.2.0",
          "state": {
            "_model_module": "@jupyter-widgets/base",
            "_model_module_version": "1.2.0",
            "_model_name": "LayoutModel",
            "_view_count": null,
            "_view_module": "@jupyter-widgets/base",
            "_view_module_version": "1.2.0",
            "_view_name": "LayoutView",
            "align_content": null,
            "align_items": null,
            "align_self": null,
            "border": null,
            "bottom": null,
            "display": null,
            "flex": null,
            "flex_flow": null,
            "grid_area": null,
            "grid_auto_columns": null,
            "grid_auto_flow": null,
            "grid_auto_rows": null,
            "grid_column": null,
            "grid_gap": null,
            "grid_row": null,
            "grid_template_areas": null,
            "grid_template_columns": null,
            "grid_template_rows": null,
            "height": null,
            "justify_content": null,
            "justify_items": null,
            "left": null,
            "margin": null,
            "max_height": null,
            "max_width": null,
            "min_height": null,
            "min_width": null,
            "object_fit": null,
            "object_position": null,
            "order": null,
            "overflow": null,
            "overflow_x": null,
            "overflow_y": null,
            "padding": null,
            "right": null,
            "top": null,
            "visibility": null,
            "width": null
          }
        },
        "8e3804c2751e41d0ac9a349c911a18c1": {
          "model_module": "@jupyter-widgets/controls",
          "model_name": "DescriptionStyleModel",
          "model_module_version": "1.5.0",
          "state": {
            "_model_module": "@jupyter-widgets/controls",
            "_model_module_version": "1.5.0",
            "_model_name": "DescriptionStyleModel",
            "_view_count": null,
            "_view_module": "@jupyter-widgets/base",
            "_view_module_version": "1.2.0",
            "_view_name": "StyleView",
            "description_width": ""
          }
        },
        "9248f91d8324447a9a0a1c47cd4a3338": {
          "model_module": "@jupyter-widgets/controls",
          "model_name": "HBoxModel",
          "model_module_version": "1.5.0",
          "state": {
            "_dom_classes": [],
            "_model_module": "@jupyter-widgets/controls",
            "_model_module_version": "1.5.0",
            "_model_name": "HBoxModel",
            "_view_count": null,
            "_view_module": "@jupyter-widgets/controls",
            "_view_module_version": "1.5.0",
            "_view_name": "HBoxView",
            "box_style": "",
            "children": [
              "IPY_MODEL_8c39d9e2334e40aa94f31dfc6830224d",
              "IPY_MODEL_737ba47d54624582b6061247b6dca850",
              "IPY_MODEL_fefadb9c000b46b2a2a75c850394b73f"
            ],
            "layout": "IPY_MODEL_45b09ea703a9417e816d56adcbab2370"
          }
        },
        "8c39d9e2334e40aa94f31dfc6830224d": {
          "model_module": "@jupyter-widgets/controls",
          "model_name": "HTMLModel",
          "model_module_version": "1.5.0",
          "state": {
            "_dom_classes": [],
            "_model_module": "@jupyter-widgets/controls",
            "_model_module_version": "1.5.0",
            "_model_name": "HTMLModel",
            "_view_count": null,
            "_view_module": "@jupyter-widgets/controls",
            "_view_module_version": "1.5.0",
            "_view_name": "HTMLView",
            "description": "",
            "description_tooltip": null,
            "layout": "IPY_MODEL_06aca1314ac44ce5ba61a33c96150f5e",
            "placeholder": "​",
            "style": "IPY_MODEL_311392d17de34870857f7e8e693250e1",
            "value": "imgs/long.jpg: 100%"
          }
        },
        "737ba47d54624582b6061247b6dca850": {
          "model_module": "@jupyter-widgets/controls",
          "model_name": "FloatProgressModel",
          "model_module_version": "1.5.0",
          "state": {
            "_dom_classes": [],
            "_model_module": "@jupyter-widgets/controls",
            "_model_module_version": "1.5.0",
            "_model_name": "FloatProgressModel",
            "_view_count": null,
            "_view_module": "@jupyter-widgets/controls",
            "_view_module_version": "1.5.0",
            "_view_name": "ProgressView",
            "bar_style": "success",
            "description": "",
            "description_tooltip": null,
            "layout": "IPY_MODEL_a38d14db94c04ad5b2d91e9c0f3ffc1c",
            "max": 485432,
            "min": 0,
            "orientation": "horizontal",
            "style": "IPY_MODEL_66b66a1c7a34495d9560eab393aae9ad",
            "value": 485432
          }
        },
        "fefadb9c000b46b2a2a75c850394b73f": {
          "model_module": "@jupyter-widgets/controls",
          "model_name": "HTMLModel",
          "model_module_version": "1.5.0",
          "state": {
            "_dom_classes": [],
            "_model_module": "@jupyter-widgets/controls",
            "_model_module_version": "1.5.0",
            "_model_name": "HTMLModel",
            "_view_count": null,
            "_view_module": "@jupyter-widgets/controls",
            "_view_module_version": "1.5.0",
            "_view_name": "HTMLView",
            "description": "",
            "description_tooltip": null,
            "layout": "IPY_MODEL_ea6b439d6ee849cca4238e0242a9e1e7",
            "placeholder": "​",
            "style": "IPY_MODEL_92a40050699e48e088f76b9fda2a0c58",
            "value": " 485k/485k [00:00&lt;00:00, 2.06MB/s]"
          }
        },
        "45b09ea703a9417e816d56adcbab2370": {
          "model_module": "@jupyter-widgets/base",
          "model_name": "LayoutModel",
          "model_module_version": "1.2.0",
          "state": {
            "_model_module": "@jupyter-widgets/base",
            "_model_module_version": "1.2.0",
            "_model_name": "LayoutModel",
            "_view_count": null,
            "_view_module": "@jupyter-widgets/base",
            "_view_module_version": "1.2.0",
            "_view_name": "LayoutView",
            "align_content": null,
            "align_items": null,
            "align_self": null,
            "border": null,
            "bottom": null,
            "display": null,
            "flex": null,
            "flex_flow": null,
            "grid_area": null,
            "grid_auto_columns": null,
            "grid_auto_flow": null,
            "grid_auto_rows": null,
            "grid_column": null,
            "grid_gap": null,
            "grid_row": null,
            "grid_template_areas": null,
            "grid_template_columns": null,
            "grid_template_rows": null,
            "height": null,
            "justify_content": null,
            "justify_items": null,
            "left": null,
            "margin": null,
            "max_height": null,
            "max_width": null,
            "min_height": null,
            "min_width": null,
            "object_fit": null,
            "object_position": null,
            "order": null,
            "overflow": null,
            "overflow_x": null,
            "overflow_y": null,
            "padding": null,
            "right": null,
            "top": null,
            "visibility": null,
            "width": null
          }
        },
        "06aca1314ac44ce5ba61a33c96150f5e": {
          "model_module": "@jupyter-widgets/base",
          "model_name": "LayoutModel",
          "model_module_version": "1.2.0",
          "state": {
            "_model_module": "@jupyter-widgets/base",
            "_model_module_version": "1.2.0",
            "_model_name": "LayoutModel",
            "_view_count": null,
            "_view_module": "@jupyter-widgets/base",
            "_view_module_version": "1.2.0",
            "_view_name": "LayoutView",
            "align_content": null,
            "align_items": null,
            "align_self": null,
            "border": null,
            "bottom": null,
            "display": null,
            "flex": null,
            "flex_flow": null,
            "grid_area": null,
            "grid_auto_columns": null,
            "grid_auto_flow": null,
            "grid_auto_rows": null,
            "grid_column": null,
            "grid_gap": null,
            "grid_row": null,
            "grid_template_areas": null,
            "grid_template_columns": null,
            "grid_template_rows": null,
            "height": null,
            "justify_content": null,
            "justify_items": null,
            "left": null,
            "margin": null,
            "max_height": null,
            "max_width": null,
            "min_height": null,
            "min_width": null,
            "object_fit": null,
            "object_position": null,
            "order": null,
            "overflow": null,
            "overflow_x": null,
            "overflow_y": null,
            "padding": null,
            "right": null,
            "top": null,
            "visibility": null,
            "width": null
          }
        },
        "311392d17de34870857f7e8e693250e1": {
          "model_module": "@jupyter-widgets/controls",
          "model_name": "DescriptionStyleModel",
          "model_module_version": "1.5.0",
          "state": {
            "_model_module": "@jupyter-widgets/controls",
            "_model_module_version": "1.5.0",
            "_model_name": "DescriptionStyleModel",
            "_view_count": null,
            "_view_module": "@jupyter-widgets/base",
            "_view_module_version": "1.2.0",
            "_view_name": "StyleView",
            "description_width": ""
          }
        },
        "a38d14db94c04ad5b2d91e9c0f3ffc1c": {
          "model_module": "@jupyter-widgets/base",
          "model_name": "LayoutModel",
          "model_module_version": "1.2.0",
          "state": {
            "_model_module": "@jupyter-widgets/base",
            "_model_module_version": "1.2.0",
            "_model_name": "LayoutModel",
            "_view_count": null,
            "_view_module": "@jupyter-widgets/base",
            "_view_module_version": "1.2.0",
            "_view_name": "LayoutView",
            "align_content": null,
            "align_items": null,
            "align_self": null,
            "border": null,
            "bottom": null,
            "display": null,
            "flex": null,
            "flex_flow": null,
            "grid_area": null,
            "grid_auto_columns": null,
            "grid_auto_flow": null,
            "grid_auto_rows": null,
            "grid_column": null,
            "grid_gap": null,
            "grid_row": null,
            "grid_template_areas": null,
            "grid_template_columns": null,
            "grid_template_rows": null,
            "height": null,
            "justify_content": null,
            "justify_items": null,
            "left": null,
            "margin": null,
            "max_height": null,
            "max_width": null,
            "min_height": null,
            "min_width": null,
            "object_fit": null,
            "object_position": null,
            "order": null,
            "overflow": null,
            "overflow_x": null,
            "overflow_y": null,
            "padding": null,
            "right": null,
            "top": null,
            "visibility": null,
            "width": null
          }
        },
        "66b66a1c7a34495d9560eab393aae9ad": {
          "model_module": "@jupyter-widgets/controls",
          "model_name": "ProgressStyleModel",
          "model_module_version": "1.5.0",
          "state": {
            "_model_module": "@jupyter-widgets/controls",
            "_model_module_version": "1.5.0",
            "_model_name": "ProgressStyleModel",
            "_view_count": null,
            "_view_module": "@jupyter-widgets/base",
            "_view_module_version": "1.2.0",
            "_view_name": "StyleView",
            "bar_color": null,
            "description_width": ""
          }
        },
        "ea6b439d6ee849cca4238e0242a9e1e7": {
          "model_module": "@jupyter-widgets/base",
          "model_name": "LayoutModel",
          "model_module_version": "1.2.0",
          "state": {
            "_model_module": "@jupyter-widgets/base",
            "_model_module_version": "1.2.0",
            "_model_name": "LayoutModel",
            "_view_count": null,
            "_view_module": "@jupyter-widgets/base",
            "_view_module_version": "1.2.0",
            "_view_name": "LayoutView",
            "align_content": null,
            "align_items": null,
            "align_self": null,
            "border": null,
            "bottom": null,
            "display": null,
            "flex": null,
            "flex_flow": null,
            "grid_area": null,
            "grid_auto_columns": null,
            "grid_auto_flow": null,
            "grid_auto_rows": null,
            "grid_column": null,
            "grid_gap": null,
            "grid_row": null,
            "grid_template_areas": null,
            "grid_template_columns": null,
            "grid_template_rows": null,
            "height": null,
            "justify_content": null,
            "justify_items": null,
            "left": null,
            "margin": null,
            "max_height": null,
            "max_width": null,
            "min_height": null,
            "min_width": null,
            "object_fit": null,
            "object_position": null,
            "order": null,
            "overflow": null,
            "overflow_x": null,
            "overflow_y": null,
            "padding": null,
            "right": null,
            "top": null,
            "visibility": null,
            "width": null
          }
        },
        "92a40050699e48e088f76b9fda2a0c58": {
          "model_module": "@jupyter-widgets/controls",
          "model_name": "DescriptionStyleModel",
          "model_module_version": "1.5.0",
          "state": {
            "_model_module": "@jupyter-widgets/controls",
            "_model_module_version": "1.5.0",
            "_model_name": "DescriptionStyleModel",
            "_view_count": null,
            "_view_module": "@jupyter-widgets/base",
            "_view_module_version": "1.2.0",
            "_view_name": "StyleView",
            "description_width": ""
          }
        },
        "2f1f606edf2e494da9d974dd173cc986": {
          "model_module": "@jupyter-widgets/controls",
          "model_name": "HBoxModel",
          "model_module_version": "1.5.0",
          "state": {
            "_dom_classes": [],
            "_model_module": "@jupyter-widgets/controls",
            "_model_module_version": "1.5.0",
            "_model_name": "HBoxModel",
            "_view_count": null,
            "_view_module": "@jupyter-widgets/controls",
            "_view_module_version": "1.5.0",
            "_view_name": "HBoxView",
            "box_style": "",
            "children": [
              "IPY_MODEL_5e23f8572b2a49f1908298dae6dab215",
              "IPY_MODEL_3394058af28a4cfa83eb7e0178859a67",
              "IPY_MODEL_cbc32bf4fe3c471f9caa1451484cd03d"
            ],
            "layout": "IPY_MODEL_2987f4a391e44bb89da803bd29201554"
          }
        },
        "5e23f8572b2a49f1908298dae6dab215": {
          "model_module": "@jupyter-widgets/controls",
          "model_name": "HTMLModel",
          "model_module_version": "1.5.0",
          "state": {
            "_dom_classes": [],
            "_model_module": "@jupyter-widgets/controls",
            "_model_module_version": "1.5.0",
            "_model_name": "HTMLModel",
            "_view_count": null,
            "_view_module": "@jupyter-widgets/controls",
            "_view_module_version": "1.5.0",
            "_view_name": "HTMLView",
            "description": "",
            "description_tooltip": null,
            "layout": "IPY_MODEL_88791225f1ec4600978a9c6579491304",
            "placeholder": "​",
            "style": "IPY_MODEL_719f133eae604e55810476cbe6784c1c",
            "value": "imgs/.DS_Store: 100%"
          }
        },
        "3394058af28a4cfa83eb7e0178859a67": {
          "model_module": "@jupyter-widgets/controls",
          "model_name": "FloatProgressModel",
          "model_module_version": "1.5.0",
          "state": {
            "_dom_classes": [],
            "_model_module": "@jupyter-widgets/controls",
            "_model_module_version": "1.5.0",
            "_model_name": "FloatProgressModel",
            "_view_count": null,
            "_view_module": "@jupyter-widgets/controls",
            "_view_module_version": "1.5.0",
            "_view_name": "ProgressView",
            "bar_style": "success",
            "description": "",
            "description_tooltip": null,
            "layout": "IPY_MODEL_0ebb03c06fd348dea67e069f3f3c6b42",
            "max": 6148,
            "min": 0,
            "orientation": "horizontal",
            "style": "IPY_MODEL_dc3ad907bf6a45cb81fa81463738b480",
            "value": 6148
          }
        },
        "cbc32bf4fe3c471f9caa1451484cd03d": {
          "model_module": "@jupyter-widgets/controls",
          "model_name": "HTMLModel",
          "model_module_version": "1.5.0",
          "state": {
            "_dom_classes": [],
            "_model_module": "@jupyter-widgets/controls",
            "_model_module_version": "1.5.0",
            "_model_name": "HTMLModel",
            "_view_count": null,
            "_view_module": "@jupyter-widgets/controls",
            "_view_module_version": "1.5.0",
            "_view_name": "HTMLView",
            "description": "",
            "description_tooltip": null,
            "layout": "IPY_MODEL_a15a02d727d548a185adec4c534bbf69",
            "placeholder": "​",
            "style": "IPY_MODEL_999796c9428f44ca8a49809eeca64099",
            "value": " 6.15k/6.15k [00:00&lt;00:00, 37.5kB/s]"
          }
        },
        "2987f4a391e44bb89da803bd29201554": {
          "model_module": "@jupyter-widgets/base",
          "model_name": "LayoutModel",
          "model_module_version": "1.2.0",
          "state": {
            "_model_module": "@jupyter-widgets/base",
            "_model_module_version": "1.2.0",
            "_model_name": "LayoutModel",
            "_view_count": null,
            "_view_module": "@jupyter-widgets/base",
            "_view_module_version": "1.2.0",
            "_view_name": "LayoutView",
            "align_content": null,
            "align_items": null,
            "align_self": null,
            "border": null,
            "bottom": null,
            "display": null,
            "flex": null,
            "flex_flow": null,
            "grid_area": null,
            "grid_auto_columns": null,
            "grid_auto_flow": null,
            "grid_auto_rows": null,
            "grid_column": null,
            "grid_gap": null,
            "grid_row": null,
            "grid_template_areas": null,
            "grid_template_columns": null,
            "grid_template_rows": null,
            "height": null,
            "justify_content": null,
            "justify_items": null,
            "left": null,
            "margin": null,
            "max_height": null,
            "max_width": null,
            "min_height": null,
            "min_width": null,
            "object_fit": null,
            "object_position": null,
            "order": null,
            "overflow": null,
            "overflow_x": null,
            "overflow_y": null,
            "padding": null,
            "right": null,
            "top": null,
            "visibility": null,
            "width": null
          }
        },
        "88791225f1ec4600978a9c6579491304": {
          "model_module": "@jupyter-widgets/base",
          "model_name": "LayoutModel",
          "model_module_version": "1.2.0",
          "state": {
            "_model_module": "@jupyter-widgets/base",
            "_model_module_version": "1.2.0",
            "_model_name": "LayoutModel",
            "_view_count": null,
            "_view_module": "@jupyter-widgets/base",
            "_view_module_version": "1.2.0",
            "_view_name": "LayoutView",
            "align_content": null,
            "align_items": null,
            "align_self": null,
            "border": null,
            "bottom": null,
            "display": null,
            "flex": null,
            "flex_flow": null,
            "grid_area": null,
            "grid_auto_columns": null,
            "grid_auto_flow": null,
            "grid_auto_rows": null,
            "grid_column": null,
            "grid_gap": null,
            "grid_row": null,
            "grid_template_areas": null,
            "grid_template_columns": null,
            "grid_template_rows": null,
            "height": null,
            "justify_content": null,
            "justify_items": null,
            "left": null,
            "margin": null,
            "max_height": null,
            "max_width": null,
            "min_height": null,
            "min_width": null,
            "object_fit": null,
            "object_position": null,
            "order": null,
            "overflow": null,
            "overflow_x": null,
            "overflow_y": null,
            "padding": null,
            "right": null,
            "top": null,
            "visibility": null,
            "width": null
          }
        },
        "719f133eae604e55810476cbe6784c1c": {
          "model_module": "@jupyter-widgets/controls",
          "model_name": "DescriptionStyleModel",
          "model_module_version": "1.5.0",
          "state": {
            "_model_module": "@jupyter-widgets/controls",
            "_model_module_version": "1.5.0",
            "_model_name": "DescriptionStyleModel",
            "_view_count": null,
            "_view_module": "@jupyter-widgets/base",
            "_view_module_version": "1.2.0",
            "_view_name": "StyleView",
            "description_width": ""
          }
        },
        "0ebb03c06fd348dea67e069f3f3c6b42": {
          "model_module": "@jupyter-widgets/base",
          "model_name": "LayoutModel",
          "model_module_version": "1.2.0",
          "state": {
            "_model_module": "@jupyter-widgets/base",
            "_model_module_version": "1.2.0",
            "_model_name": "LayoutModel",
            "_view_count": null,
            "_view_module": "@jupyter-widgets/base",
            "_view_module_version": "1.2.0",
            "_view_name": "LayoutView",
            "align_content": null,
            "align_items": null,
            "align_self": null,
            "border": null,
            "bottom": null,
            "display": null,
            "flex": null,
            "flex_flow": null,
            "grid_area": null,
            "grid_auto_columns": null,
            "grid_auto_flow": null,
            "grid_auto_rows": null,
            "grid_column": null,
            "grid_gap": null,
            "grid_row": null,
            "grid_template_areas": null,
            "grid_template_columns": null,
            "grid_template_rows": null,
            "height": null,
            "justify_content": null,
            "justify_items": null,
            "left": null,
            "margin": null,
            "max_height": null,
            "max_width": null,
            "min_height": null,
            "min_width": null,
            "object_fit": null,
            "object_position": null,
            "order": null,
            "overflow": null,
            "overflow_x": null,
            "overflow_y": null,
            "padding": null,
            "right": null,
            "top": null,
            "visibility": null,
            "width": null
          }
        },
        "dc3ad907bf6a45cb81fa81463738b480": {
          "model_module": "@jupyter-widgets/controls",
          "model_name": "ProgressStyleModel",
          "model_module_version": "1.5.0",
          "state": {
            "_model_module": "@jupyter-widgets/controls",
            "_model_module_version": "1.5.0",
            "_model_name": "ProgressStyleModel",
            "_view_count": null,
            "_view_module": "@jupyter-widgets/base",
            "_view_module_version": "1.2.0",
            "_view_name": "StyleView",
            "bar_color": null,
            "description_width": ""
          }
        },
        "a15a02d727d548a185adec4c534bbf69": {
          "model_module": "@jupyter-widgets/base",
          "model_name": "LayoutModel",
          "model_module_version": "1.2.0",
          "state": {
            "_model_module": "@jupyter-widgets/base",
            "_model_module_version": "1.2.0",
            "_model_name": "LayoutModel",
            "_view_count": null,
            "_view_module": "@jupyter-widgets/base",
            "_view_module_version": "1.2.0",
            "_view_name": "LayoutView",
            "align_content": null,
            "align_items": null,
            "align_self": null,
            "border": null,
            "bottom": null,
            "display": null,
            "flex": null,
            "flex_flow": null,
            "grid_area": null,
            "grid_auto_columns": null,
            "grid_auto_flow": null,
            "grid_auto_rows": null,
            "grid_column": null,
            "grid_gap": null,
            "grid_row": null,
            "grid_template_areas": null,
            "grid_template_columns": null,
            "grid_template_rows": null,
            "height": null,
            "justify_content": null,
            "justify_items": null,
            "left": null,
            "margin": null,
            "max_height": null,
            "max_width": null,
            "min_height": null,
            "min_width": null,
            "object_fit": null,
            "object_position": null,
            "order": null,
            "overflow": null,
            "overflow_x": null,
            "overflow_y": null,
            "padding": null,
            "right": null,
            "top": null,
            "visibility": null,
            "width": null
          }
        },
        "999796c9428f44ca8a49809eeca64099": {
          "model_module": "@jupyter-widgets/controls",
          "model_name": "DescriptionStyleModel",
          "model_module_version": "1.5.0",
          "state": {
            "_model_module": "@jupyter-widgets/controls",
            "_model_module_version": "1.5.0",
            "_model_name": "DescriptionStyleModel",
            "_view_count": null,
            "_view_module": "@jupyter-widgets/base",
            "_view_module_version": "1.2.0",
            "_view_name": "StyleView",
            "description_width": ""
          }
        },
        "be9e4c5191ac4104b37ad66882411f0e": {
          "model_module": "@jupyter-widgets/controls",
          "model_name": "HBoxModel",
          "model_module_version": "1.5.0",
          "state": {
            "_dom_classes": [],
            "_model_module": "@jupyter-widgets/controls",
            "_model_module_version": "1.5.0",
            "_model_name": "HBoxModel",
            "_view_count": null,
            "_view_module": "@jupyter-widgets/controls",
            "_view_module_version": "1.5.0",
            "_view_name": "HBoxView",
            "box_style": "",
            "children": [
              "IPY_MODEL_8d957867ff6240a08206be920c56a710",
              "IPY_MODEL_30ce6bd24f4942b5a0628f11fdbb13a4",
              "IPY_MODEL_12af69cf251844f489f42ce84c92d560"
            ],
            "layout": "IPY_MODEL_1cbad4dbb726459daccf08733b98fc23"
          }
        },
        "8d957867ff6240a08206be920c56a710": {
          "model_module": "@jupyter-widgets/controls",
          "model_name": "HTMLModel",
          "model_module_version": "1.5.0",
          "state": {
            "_dom_classes": [],
            "_model_module": "@jupyter-widgets/controls",
            "_model_module_version": "1.5.0",
            "_model_name": "HTMLModel",
            "_view_count": null,
            "_view_module": "@jupyter-widgets/controls",
            "_view_module_version": "1.5.0",
            "_view_name": "HTMLView",
            "description": "",
            "description_tooltip": null,
            "layout": "IPY_MODEL_bd0e2d64b3a945cba0cdaff997ebd469",
            "placeholder": "​",
            "style": "IPY_MODEL_d222fbdede934856910d62baab3b6dc5",
            "value": "imgs/miracl.jpg: 100%"
          }
        },
        "30ce6bd24f4942b5a0628f11fdbb13a4": {
          "model_module": "@jupyter-widgets/controls",
          "model_name": "FloatProgressModel",
          "model_module_version": "1.5.0",
          "state": {
            "_dom_classes": [],
            "_model_module": "@jupyter-widgets/controls",
            "_model_module_version": "1.5.0",
            "_model_name": "FloatProgressModel",
            "_view_count": null,
            "_view_module": "@jupyter-widgets/controls",
            "_view_module_version": "1.5.0",
            "_view_name": "ProgressView",
            "bar_style": "success",
            "description": "",
            "description_tooltip": null,
            "layout": "IPY_MODEL_cbedd01dd47d4619a9c61d2f8c689153",
            "max": 447641,
            "min": 0,
            "orientation": "horizontal",
            "style": "IPY_MODEL_e91aa8f9adfc469b895a45fc0904bb0b",
            "value": 447641
          }
        },
        "12af69cf251844f489f42ce84c92d560": {
          "model_module": "@jupyter-widgets/controls",
          "model_name": "HTMLModel",
          "model_module_version": "1.5.0",
          "state": {
            "_dom_classes": [],
            "_model_module": "@jupyter-widgets/controls",
            "_model_module_version": "1.5.0",
            "_model_name": "HTMLModel",
            "_view_count": null,
            "_view_module": "@jupyter-widgets/controls",
            "_view_module_version": "1.5.0",
            "_view_name": "HTMLView",
            "description": "",
            "description_tooltip": null,
            "layout": "IPY_MODEL_f0bee7146e1d41cfb5cc1dc0e9b28dd9",
            "placeholder": "​",
            "style": "IPY_MODEL_ac9c20cd87bd435b907260a58ab0e25a",
            "value": " 448k/448k [00:00&lt;00:00, 1.84MB/s]"
          }
        },
        "1cbad4dbb726459daccf08733b98fc23": {
          "model_module": "@jupyter-widgets/base",
          "model_name": "LayoutModel",
          "model_module_version": "1.2.0",
          "state": {
            "_model_module": "@jupyter-widgets/base",
            "_model_module_version": "1.2.0",
            "_model_name": "LayoutModel",
            "_view_count": null,
            "_view_module": "@jupyter-widgets/base",
            "_view_module_version": "1.2.0",
            "_view_name": "LayoutView",
            "align_content": null,
            "align_items": null,
            "align_self": null,
            "border": null,
            "bottom": null,
            "display": null,
            "flex": null,
            "flex_flow": null,
            "grid_area": null,
            "grid_auto_columns": null,
            "grid_auto_flow": null,
            "grid_auto_rows": null,
            "grid_column": null,
            "grid_gap": null,
            "grid_row": null,
            "grid_template_areas": null,
            "grid_template_columns": null,
            "grid_template_rows": null,
            "height": null,
            "justify_content": null,
            "justify_items": null,
            "left": null,
            "margin": null,
            "max_height": null,
            "max_width": null,
            "min_height": null,
            "min_width": null,
            "object_fit": null,
            "object_position": null,
            "order": null,
            "overflow": null,
            "overflow_x": null,
            "overflow_y": null,
            "padding": null,
            "right": null,
            "top": null,
            "visibility": null,
            "width": null
          }
        },
        "bd0e2d64b3a945cba0cdaff997ebd469": {
          "model_module": "@jupyter-widgets/base",
          "model_name": "LayoutModel",
          "model_module_version": "1.2.0",
          "state": {
            "_model_module": "@jupyter-widgets/base",
            "_model_module_version": "1.2.0",
            "_model_name": "LayoutModel",
            "_view_count": null,
            "_view_module": "@jupyter-widgets/base",
            "_view_module_version": "1.2.0",
            "_view_name": "LayoutView",
            "align_content": null,
            "align_items": null,
            "align_self": null,
            "border": null,
            "bottom": null,
            "display": null,
            "flex": null,
            "flex_flow": null,
            "grid_area": null,
            "grid_auto_columns": null,
            "grid_auto_flow": null,
            "grid_auto_rows": null,
            "grid_column": null,
            "grid_gap": null,
            "grid_row": null,
            "grid_template_areas": null,
            "grid_template_columns": null,
            "grid_template_rows": null,
            "height": null,
            "justify_content": null,
            "justify_items": null,
            "left": null,
            "margin": null,
            "max_height": null,
            "max_width": null,
            "min_height": null,
            "min_width": null,
            "object_fit": null,
            "object_position": null,
            "order": null,
            "overflow": null,
            "overflow_x": null,
            "overflow_y": null,
            "padding": null,
            "right": null,
            "top": null,
            "visibility": null,
            "width": null
          }
        },
        "d222fbdede934856910d62baab3b6dc5": {
          "model_module": "@jupyter-widgets/controls",
          "model_name": "DescriptionStyleModel",
          "model_module_version": "1.5.0",
          "state": {
            "_model_module": "@jupyter-widgets/controls",
            "_model_module_version": "1.5.0",
            "_model_name": "DescriptionStyleModel",
            "_view_count": null,
            "_view_module": "@jupyter-widgets/base",
            "_view_module_version": "1.2.0",
            "_view_name": "StyleView",
            "description_width": ""
          }
        },
        "cbedd01dd47d4619a9c61d2f8c689153": {
          "model_module": "@jupyter-widgets/base",
          "model_name": "LayoutModel",
          "model_module_version": "1.2.0",
          "state": {
            "_model_module": "@jupyter-widgets/base",
            "_model_module_version": "1.2.0",
            "_model_name": "LayoutModel",
            "_view_count": null,
            "_view_module": "@jupyter-widgets/base",
            "_view_module_version": "1.2.0",
            "_view_name": "LayoutView",
            "align_content": null,
            "align_items": null,
            "align_self": null,
            "border": null,
            "bottom": null,
            "display": null,
            "flex": null,
            "flex_flow": null,
            "grid_area": null,
            "grid_auto_columns": null,
            "grid_auto_flow": null,
            "grid_auto_rows": null,
            "grid_column": null,
            "grid_gap": null,
            "grid_row": null,
            "grid_template_areas": null,
            "grid_template_columns": null,
            "grid_template_rows": null,
            "height": null,
            "justify_content": null,
            "justify_items": null,
            "left": null,
            "margin": null,
            "max_height": null,
            "max_width": null,
            "min_height": null,
            "min_width": null,
            "object_fit": null,
            "object_position": null,
            "order": null,
            "overflow": null,
            "overflow_x": null,
            "overflow_y": null,
            "padding": null,
            "right": null,
            "top": null,
            "visibility": null,
            "width": null
          }
        },
        "e91aa8f9adfc469b895a45fc0904bb0b": {
          "model_module": "@jupyter-widgets/controls",
          "model_name": "ProgressStyleModel",
          "model_module_version": "1.5.0",
          "state": {
            "_model_module": "@jupyter-widgets/controls",
            "_model_module_version": "1.5.0",
            "_model_name": "ProgressStyleModel",
            "_view_count": null,
            "_view_module": "@jupyter-widgets/base",
            "_view_module_version": "1.2.0",
            "_view_name": "StyleView",
            "bar_color": null,
            "description_width": ""
          }
        },
        "f0bee7146e1d41cfb5cc1dc0e9b28dd9": {
          "model_module": "@jupyter-widgets/base",
          "model_name": "LayoutModel",
          "model_module_version": "1.2.0",
          "state": {
            "_model_module": "@jupyter-widgets/base",
            "_model_module_version": "1.2.0",
            "_model_name": "LayoutModel",
            "_view_count": null,
            "_view_module": "@jupyter-widgets/base",
            "_view_module_version": "1.2.0",
            "_view_name": "LayoutView",
            "align_content": null,
            "align_items": null,
            "align_self": null,
            "border": null,
            "bottom": null,
            "display": null,
            "flex": null,
            "flex_flow": null,
            "grid_area": null,
            "grid_auto_columns": null,
            "grid_auto_flow": null,
            "grid_auto_rows": null,
            "grid_column": null,
            "grid_gap": null,
            "grid_row": null,
            "grid_template_areas": null,
            "grid_template_columns": null,
            "grid_template_rows": null,
            "height": null,
            "justify_content": null,
            "justify_items": null,
            "left": null,
            "margin": null,
            "max_height": null,
            "max_width": null,
            "min_height": null,
            "min_width": null,
            "object_fit": null,
            "object_position": null,
            "order": null,
            "overflow": null,
            "overflow_x": null,
            "overflow_y": null,
            "padding": null,
            "right": null,
            "top": null,
            "visibility": null,
            "width": null
          }
        },
        "ac9c20cd87bd435b907260a58ab0e25a": {
          "model_module": "@jupyter-widgets/controls",
          "model_name": "DescriptionStyleModel",
          "model_module_version": "1.5.0",
          "state": {
            "_model_module": "@jupyter-widgets/controls",
            "_model_module_version": "1.5.0",
            "_model_name": "DescriptionStyleModel",
            "_view_count": null,
            "_view_module": "@jupyter-widgets/base",
            "_view_module_version": "1.2.0",
            "_view_name": "StyleView",
            "description_width": ""
          }
        },
        "7e0e3abd9e5246deafe0d2113b617b66": {
          "model_module": "@jupyter-widgets/controls",
          "model_name": "HBoxModel",
          "model_module_version": "1.5.0",
          "state": {
            "_dom_classes": [],
            "_model_module": "@jupyter-widgets/controls",
            "_model_module_version": "1.5.0",
            "_model_name": "HBoxModel",
            "_view_count": null,
            "_view_module": "@jupyter-widgets/controls",
            "_view_module_version": "1.5.0",
            "_view_name": "HBoxView",
            "box_style": "",
            "children": [
              "IPY_MODEL_b2dbc984bddf49c7825eb5866204afa4",
              "IPY_MODEL_5309b74ec50744ccb3b7f60dec4fd898",
              "IPY_MODEL_731e5173e3d94741af5bf7050ac27b49"
            ],
            "layout": "IPY_MODEL_7d8950a0863342228a1f9437073582e0"
          }
        },
        "b2dbc984bddf49c7825eb5866204afa4": {
          "model_module": "@jupyter-widgets/controls",
          "model_name": "HTMLModel",
          "model_module_version": "1.5.0",
          "state": {
            "_dom_classes": [],
            "_model_module": "@jupyter-widgets/controls",
            "_model_module_version": "1.5.0",
            "_model_name": "HTMLModel",
            "_view_count": null,
            "_view_module": "@jupyter-widgets/controls",
            "_view_module_version": "1.5.0",
            "_view_name": "HTMLView",
            "description": "",
            "description_tooltip": null,
            "layout": "IPY_MODEL_0916445c594c49fa948e7376224ad3b0",
            "placeholder": "​",
            "style": "IPY_MODEL_e656e5b1876d4b2497105b7968e25471",
            "value": "imgs/mkqa.jpg: 100%"
          }
        },
        "5309b74ec50744ccb3b7f60dec4fd898": {
          "model_module": "@jupyter-widgets/controls",
          "model_name": "FloatProgressModel",
          "model_module_version": "1.5.0",
          "state": {
            "_dom_classes": [],
            "_model_module": "@jupyter-widgets/controls",
            "_model_module_version": "1.5.0",
            "_model_name": "FloatProgressModel",
            "_view_count": null,
            "_view_module": "@jupyter-widgets/controls",
            "_view_module_version": "1.5.0",
            "_view_name": "ProgressView",
            "bar_style": "success",
            "description": "",
            "description_tooltip": null,
            "layout": "IPY_MODEL_3c152e1465d54266be1cd856ff914509",
            "max": 608027,
            "min": 0,
            "orientation": "horizontal",
            "style": "IPY_MODEL_3e0fc5c011884ea0930ea55b572643c2",
            "value": 608027
          }
        },
        "731e5173e3d94741af5bf7050ac27b49": {
          "model_module": "@jupyter-widgets/controls",
          "model_name": "HTMLModel",
          "model_module_version": "1.5.0",
          "state": {
            "_dom_classes": [],
            "_model_module": "@jupyter-widgets/controls",
            "_model_module_version": "1.5.0",
            "_model_name": "HTMLModel",
            "_view_count": null,
            "_view_module": "@jupyter-widgets/controls",
            "_view_module_version": "1.5.0",
            "_view_name": "HTMLView",
            "description": "",
            "description_tooltip": null,
            "layout": "IPY_MODEL_6ab4e27fd1c04d338c071f38ea78528e",
            "placeholder": "​",
            "style": "IPY_MODEL_959ff6b002344d3cad1b0f7fdf322588",
            "value": " 608k/608k [00:00&lt;00:00, 2.37MB/s]"
          }
        },
        "7d8950a0863342228a1f9437073582e0": {
          "model_module": "@jupyter-widgets/base",
          "model_name": "LayoutModel",
          "model_module_version": "1.2.0",
          "state": {
            "_model_module": "@jupyter-widgets/base",
            "_model_module_version": "1.2.0",
            "_model_name": "LayoutModel",
            "_view_count": null,
            "_view_module": "@jupyter-widgets/base",
            "_view_module_version": "1.2.0",
            "_view_name": "LayoutView",
            "align_content": null,
            "align_items": null,
            "align_self": null,
            "border": null,
            "bottom": null,
            "display": null,
            "flex": null,
            "flex_flow": null,
            "grid_area": null,
            "grid_auto_columns": null,
            "grid_auto_flow": null,
            "grid_auto_rows": null,
            "grid_column": null,
            "grid_gap": null,
            "grid_row": null,
            "grid_template_areas": null,
            "grid_template_columns": null,
            "grid_template_rows": null,
            "height": null,
            "justify_content": null,
            "justify_items": null,
            "left": null,
            "margin": null,
            "max_height": null,
            "max_width": null,
            "min_height": null,
            "min_width": null,
            "object_fit": null,
            "object_position": null,
            "order": null,
            "overflow": null,
            "overflow_x": null,
            "overflow_y": null,
            "padding": null,
            "right": null,
            "top": null,
            "visibility": null,
            "width": null
          }
        },
        "0916445c594c49fa948e7376224ad3b0": {
          "model_module": "@jupyter-widgets/base",
          "model_name": "LayoutModel",
          "model_module_version": "1.2.0",
          "state": {
            "_model_module": "@jupyter-widgets/base",
            "_model_module_version": "1.2.0",
            "_model_name": "LayoutModel",
            "_view_count": null,
            "_view_module": "@jupyter-widgets/base",
            "_view_module_version": "1.2.0",
            "_view_name": "LayoutView",
            "align_content": null,
            "align_items": null,
            "align_self": null,
            "border": null,
            "bottom": null,
            "display": null,
            "flex": null,
            "flex_flow": null,
            "grid_area": null,
            "grid_auto_columns": null,
            "grid_auto_flow": null,
            "grid_auto_rows": null,
            "grid_column": null,
            "grid_gap": null,
            "grid_row": null,
            "grid_template_areas": null,
            "grid_template_columns": null,
            "grid_template_rows": null,
            "height": null,
            "justify_content": null,
            "justify_items": null,
            "left": null,
            "margin": null,
            "max_height": null,
            "max_width": null,
            "min_height": null,
            "min_width": null,
            "object_fit": null,
            "object_position": null,
            "order": null,
            "overflow": null,
            "overflow_x": null,
            "overflow_y": null,
            "padding": null,
            "right": null,
            "top": null,
            "visibility": null,
            "width": null
          }
        },
        "e656e5b1876d4b2497105b7968e25471": {
          "model_module": "@jupyter-widgets/controls",
          "model_name": "DescriptionStyleModel",
          "model_module_version": "1.5.0",
          "state": {
            "_model_module": "@jupyter-widgets/controls",
            "_model_module_version": "1.5.0",
            "_model_name": "DescriptionStyleModel",
            "_view_count": null,
            "_view_module": "@jupyter-widgets/base",
            "_view_module_version": "1.2.0",
            "_view_name": "StyleView",
            "description_width": ""
          }
        },
        "3c152e1465d54266be1cd856ff914509": {
          "model_module": "@jupyter-widgets/base",
          "model_name": "LayoutModel",
          "model_module_version": "1.2.0",
          "state": {
            "_model_module": "@jupyter-widgets/base",
            "_model_module_version": "1.2.0",
            "_model_name": "LayoutModel",
            "_view_count": null,
            "_view_module": "@jupyter-widgets/base",
            "_view_module_version": "1.2.0",
            "_view_name": "LayoutView",
            "align_content": null,
            "align_items": null,
            "align_self": null,
            "border": null,
            "bottom": null,
            "display": null,
            "flex": null,
            "flex_flow": null,
            "grid_area": null,
            "grid_auto_columns": null,
            "grid_auto_flow": null,
            "grid_auto_rows": null,
            "grid_column": null,
            "grid_gap": null,
            "grid_row": null,
            "grid_template_areas": null,
            "grid_template_columns": null,
            "grid_template_rows": null,
            "height": null,
            "justify_content": null,
            "justify_items": null,
            "left": null,
            "margin": null,
            "max_height": null,
            "max_width": null,
            "min_height": null,
            "min_width": null,
            "object_fit": null,
            "object_position": null,
            "order": null,
            "overflow": null,
            "overflow_x": null,
            "overflow_y": null,
            "padding": null,
            "right": null,
            "top": null,
            "visibility": null,
            "width": null
          }
        },
        "3e0fc5c011884ea0930ea55b572643c2": {
          "model_module": "@jupyter-widgets/controls",
          "model_name": "ProgressStyleModel",
          "model_module_version": "1.5.0",
          "state": {
            "_model_module": "@jupyter-widgets/controls",
            "_model_module_version": "1.5.0",
            "_model_name": "ProgressStyleModel",
            "_view_count": null,
            "_view_module": "@jupyter-widgets/base",
            "_view_module_version": "1.2.0",
            "_view_name": "StyleView",
            "bar_color": null,
            "description_width": ""
          }
        },
        "6ab4e27fd1c04d338c071f38ea78528e": {
          "model_module": "@jupyter-widgets/base",
          "model_name": "LayoutModel",
          "model_module_version": "1.2.0",
          "state": {
            "_model_module": "@jupyter-widgets/base",
            "_model_module_version": "1.2.0",
            "_model_name": "LayoutModel",
            "_view_count": null,
            "_view_module": "@jupyter-widgets/base",
            "_view_module_version": "1.2.0",
            "_view_name": "LayoutView",
            "align_content": null,
            "align_items": null,
            "align_self": null,
            "border": null,
            "bottom": null,
            "display": null,
            "flex": null,
            "flex_flow": null,
            "grid_area": null,
            "grid_auto_columns": null,
            "grid_auto_flow": null,
            "grid_auto_rows": null,
            "grid_column": null,
            "grid_gap": null,
            "grid_row": null,
            "grid_template_areas": null,
            "grid_template_columns": null,
            "grid_template_rows": null,
            "height": null,
            "justify_content": null,
            "justify_items": null,
            "left": null,
            "margin": null,
            "max_height": null,
            "max_width": null,
            "min_height": null,
            "min_width": null,
            "object_fit": null,
            "object_position": null,
            "order": null,
            "overflow": null,
            "overflow_x": null,
            "overflow_y": null,
            "padding": null,
            "right": null,
            "top": null,
            "visibility": null,
            "width": null
          }
        },
        "959ff6b002344d3cad1b0f7fdf322588": {
          "model_module": "@jupyter-widgets/controls",
          "model_name": "DescriptionStyleModel",
          "model_module_version": "1.5.0",
          "state": {
            "_model_module": "@jupyter-widgets/controls",
            "_model_module_version": "1.5.0",
            "_model_name": "DescriptionStyleModel",
            "_view_count": null,
            "_view_module": "@jupyter-widgets/base",
            "_view_module_version": "1.2.0",
            "_view_name": "StyleView",
            "description_width": ""
          }
        },
        "1dd180c9d433488187b63493746c6ba4": {
          "model_module": "@jupyter-widgets/controls",
          "model_name": "HBoxModel",
          "model_module_version": "1.5.0",
          "state": {
            "_dom_classes": [],
            "_model_module": "@jupyter-widgets/controls",
            "_model_module_version": "1.5.0",
            "_model_name": "HBoxModel",
            "_view_count": null,
            "_view_module": "@jupyter-widgets/controls",
            "_view_module_version": "1.5.0",
            "_view_name": "HBoxView",
            "box_style": "",
            "children": [
              "IPY_MODEL_3dd3ad5175c7464ab6765f21d9c0be52",
              "IPY_MODEL_cca9de81bc6947b3b1b7e5797a60395d",
              "IPY_MODEL_7d6afacf1baa4fd39eef2d075dd68530"
            ],
            "layout": "IPY_MODEL_295a70dd2137452c9dadd7251d204490"
          }
        },
        "3dd3ad5175c7464ab6765f21d9c0be52": {
          "model_module": "@jupyter-widgets/controls",
          "model_name": "HTMLModel",
          "model_module_version": "1.5.0",
          "state": {
            "_dom_classes": [],
            "_model_module": "@jupyter-widgets/controls",
            "_model_module_version": "1.5.0",
            "_model_name": "HTMLModel",
            "_view_count": null,
            "_view_module": "@jupyter-widgets/controls",
            "_view_module_version": "1.5.0",
            "_view_name": "HTMLView",
            "description": "",
            "description_tooltip": null,
            "layout": "IPY_MODEL_d400ed7696394b6e9f0e07a74b2d2a48",
            "placeholder": "​",
            "style": "IPY_MODEL_c6c633ee9d414ffab687607dcde648ff",
            "value": "imgs/others.webp: 100%"
          }
        },
        "cca9de81bc6947b3b1b7e5797a60395d": {
          "model_module": "@jupyter-widgets/controls",
          "model_name": "FloatProgressModel",
          "model_module_version": "1.5.0",
          "state": {
            "_dom_classes": [],
            "_model_module": "@jupyter-widgets/controls",
            "_model_module_version": "1.5.0",
            "_model_name": "FloatProgressModel",
            "_view_count": null,
            "_view_module": "@jupyter-widgets/controls",
            "_view_module_version": "1.5.0",
            "_view_name": "ProgressView",
            "bar_style": "success",
            "description": "",
            "description_tooltip": null,
            "layout": "IPY_MODEL_4e2e808d039f4331829f8ec3d3ee1097",
            "max": 20984,
            "min": 0,
            "orientation": "horizontal",
            "style": "IPY_MODEL_6ffc65a912244ee6bc41ee0c75e5542f",
            "value": 20984
          }
        },
        "7d6afacf1baa4fd39eef2d075dd68530": {
          "model_module": "@jupyter-widgets/controls",
          "model_name": "HTMLModel",
          "model_module_version": "1.5.0",
          "state": {
            "_dom_classes": [],
            "_model_module": "@jupyter-widgets/controls",
            "_model_module_version": "1.5.0",
            "_model_name": "HTMLModel",
            "_view_count": null,
            "_view_module": "@jupyter-widgets/controls",
            "_view_module_version": "1.5.0",
            "_view_name": "HTMLView",
            "description": "",
            "description_tooltip": null,
            "layout": "IPY_MODEL_b17d760b77fb40b7a54d00f736dc663b",
            "placeholder": "​",
            "style": "IPY_MODEL_8cef43624194408c85910e198a8b6e17",
            "value": " 21.0k/21.0k [00:00&lt;00:00, 165kB/s]"
          }
        },
        "295a70dd2137452c9dadd7251d204490": {
          "model_module": "@jupyter-widgets/base",
          "model_name": "LayoutModel",
          "model_module_version": "1.2.0",
          "state": {
            "_model_module": "@jupyter-widgets/base",
            "_model_module_version": "1.2.0",
            "_model_name": "LayoutModel",
            "_view_count": null,
            "_view_module": "@jupyter-widgets/base",
            "_view_module_version": "1.2.0",
            "_view_name": "LayoutView",
            "align_content": null,
            "align_items": null,
            "align_self": null,
            "border": null,
            "bottom": null,
            "display": null,
            "flex": null,
            "flex_flow": null,
            "grid_area": null,
            "grid_auto_columns": null,
            "grid_auto_flow": null,
            "grid_auto_rows": null,
            "grid_column": null,
            "grid_gap": null,
            "grid_row": null,
            "grid_template_areas": null,
            "grid_template_columns": null,
            "grid_template_rows": null,
            "height": null,
            "justify_content": null,
            "justify_items": null,
            "left": null,
            "margin": null,
            "max_height": null,
            "max_width": null,
            "min_height": null,
            "min_width": null,
            "object_fit": null,
            "object_position": null,
            "order": null,
            "overflow": null,
            "overflow_x": null,
            "overflow_y": null,
            "padding": null,
            "right": null,
            "top": null,
            "visibility": null,
            "width": null
          }
        },
        "d400ed7696394b6e9f0e07a74b2d2a48": {
          "model_module": "@jupyter-widgets/base",
          "model_name": "LayoutModel",
          "model_module_version": "1.2.0",
          "state": {
            "_model_module": "@jupyter-widgets/base",
            "_model_module_version": "1.2.0",
            "_model_name": "LayoutModel",
            "_view_count": null,
            "_view_module": "@jupyter-widgets/base",
            "_view_module_version": "1.2.0",
            "_view_name": "LayoutView",
            "align_content": null,
            "align_items": null,
            "align_self": null,
            "border": null,
            "bottom": null,
            "display": null,
            "flex": null,
            "flex_flow": null,
            "grid_area": null,
            "grid_auto_columns": null,
            "grid_auto_flow": null,
            "grid_auto_rows": null,
            "grid_column": null,
            "grid_gap": null,
            "grid_row": null,
            "grid_template_areas": null,
            "grid_template_columns": null,
            "grid_template_rows": null,
            "height": null,
            "justify_content": null,
            "justify_items": null,
            "left": null,
            "margin": null,
            "max_height": null,
            "max_width": null,
            "min_height": null,
            "min_width": null,
            "object_fit": null,
            "object_position": null,
            "order": null,
            "overflow": null,
            "overflow_x": null,
            "overflow_y": null,
            "padding": null,
            "right": null,
            "top": null,
            "visibility": null,
            "width": null
          }
        },
        "c6c633ee9d414ffab687607dcde648ff": {
          "model_module": "@jupyter-widgets/controls",
          "model_name": "DescriptionStyleModel",
          "model_module_version": "1.5.0",
          "state": {
            "_model_module": "@jupyter-widgets/controls",
            "_model_module_version": "1.5.0",
            "_model_name": "DescriptionStyleModel",
            "_view_count": null,
            "_view_module": "@jupyter-widgets/base",
            "_view_module_version": "1.2.0",
            "_view_name": "StyleView",
            "description_width": ""
          }
        },
        "4e2e808d039f4331829f8ec3d3ee1097": {
          "model_module": "@jupyter-widgets/base",
          "model_name": "LayoutModel",
          "model_module_version": "1.2.0",
          "state": {
            "_model_module": "@jupyter-widgets/base",
            "_model_module_version": "1.2.0",
            "_model_name": "LayoutModel",
            "_view_count": null,
            "_view_module": "@jupyter-widgets/base",
            "_view_module_version": "1.2.0",
            "_view_name": "LayoutView",
            "align_content": null,
            "align_items": null,
            "align_self": null,
            "border": null,
            "bottom": null,
            "display": null,
            "flex": null,
            "flex_flow": null,
            "grid_area": null,
            "grid_auto_columns": null,
            "grid_auto_flow": null,
            "grid_auto_rows": null,
            "grid_column": null,
            "grid_gap": null,
            "grid_row": null,
            "grid_template_areas": null,
            "grid_template_columns": null,
            "grid_template_rows": null,
            "height": null,
            "justify_content": null,
            "justify_items": null,
            "left": null,
            "margin": null,
            "max_height": null,
            "max_width": null,
            "min_height": null,
            "min_width": null,
            "object_fit": null,
            "object_position": null,
            "order": null,
            "overflow": null,
            "overflow_x": null,
            "overflow_y": null,
            "padding": null,
            "right": null,
            "top": null,
            "visibility": null,
            "width": null
          }
        },
        "6ffc65a912244ee6bc41ee0c75e5542f": {
          "model_module": "@jupyter-widgets/controls",
          "model_name": "ProgressStyleModel",
          "model_module_version": "1.5.0",
          "state": {
            "_model_module": "@jupyter-widgets/controls",
            "_model_module_version": "1.5.0",
            "_model_name": "ProgressStyleModel",
            "_view_count": null,
            "_view_module": "@jupyter-widgets/base",
            "_view_module_version": "1.2.0",
            "_view_name": "StyleView",
            "bar_color": null,
            "description_width": ""
          }
        },
        "b17d760b77fb40b7a54d00f736dc663b": {
          "model_module": "@jupyter-widgets/base",
          "model_name": "LayoutModel",
          "model_module_version": "1.2.0",
          "state": {
            "_model_module": "@jupyter-widgets/base",
            "_model_module_version": "1.2.0",
            "_model_name": "LayoutModel",
            "_view_count": null,
            "_view_module": "@jupyter-widgets/base",
            "_view_module_version": "1.2.0",
            "_view_name": "LayoutView",
            "align_content": null,
            "align_items": null,
            "align_self": null,
            "border": null,
            "bottom": null,
            "display": null,
            "flex": null,
            "flex_flow": null,
            "grid_area": null,
            "grid_auto_columns": null,
            "grid_auto_flow": null,
            "grid_auto_rows": null,
            "grid_column": null,
            "grid_gap": null,
            "grid_row": null,
            "grid_template_areas": null,
            "grid_template_columns": null,
            "grid_template_rows": null,
            "height": null,
            "justify_content": null,
            "justify_items": null,
            "left": null,
            "margin": null,
            "max_height": null,
            "max_width": null,
            "min_height": null,
            "min_width": null,
            "object_fit": null,
            "object_position": null,
            "order": null,
            "overflow": null,
            "overflow_x": null,
            "overflow_y": null,
            "padding": null,
            "right": null,
            "top": null,
            "visibility": null,
            "width": null
          }
        },
        "8cef43624194408c85910e198a8b6e17": {
          "model_module": "@jupyter-widgets/controls",
          "model_name": "DescriptionStyleModel",
          "model_module_version": "1.5.0",
          "state": {
            "_model_module": "@jupyter-widgets/controls",
            "_model_module_version": "1.5.0",
            "_model_name": "DescriptionStyleModel",
            "_view_count": null,
            "_view_module": "@jupyter-widgets/base",
            "_view_module_version": "1.2.0",
            "_view_name": "StyleView",
            "description_width": ""
          }
        },
        "5925468dfe73488c9ae7d5e45e9388b9": {
          "model_module": "@jupyter-widgets/controls",
          "model_name": "HBoxModel",
          "model_module_version": "1.5.0",
          "state": {
            "_dom_classes": [],
            "_model_module": "@jupyter-widgets/controls",
            "_model_module_version": "1.5.0",
            "_model_name": "HBoxModel",
            "_view_count": null,
            "_view_module": "@jupyter-widgets/controls",
            "_view_module_version": "1.5.0",
            "_view_name": "HBoxView",
            "box_style": "",
            "children": [
              "IPY_MODEL_7674d3521b4e4c4abed8dfada41e830e",
              "IPY_MODEL_cd77e55435cb4a04996e27b5273a125e",
              "IPY_MODEL_07a7a4e65a22415eb4608a952d816dca"
            ],
            "layout": "IPY_MODEL_9574479be89b4c509f0007072d269ac6"
          }
        },
        "7674d3521b4e4c4abed8dfada41e830e": {
          "model_module": "@jupyter-widgets/controls",
          "model_name": "HTMLModel",
          "model_module_version": "1.5.0",
          "state": {
            "_dom_classes": [],
            "_model_module": "@jupyter-widgets/controls",
            "_model_module_version": "1.5.0",
            "_model_name": "HTMLModel",
            "_view_count": null,
            "_view_module": "@jupyter-widgets/controls",
            "_view_module_version": "1.5.0",
            "_view_name": "HTMLView",
            "description": "",
            "description_tooltip": null,
            "layout": "IPY_MODEL_29f3d94108c94bd5989ee122c426d94a",
            "placeholder": "​",
            "style": "IPY_MODEL_5618ceab2c4349339ff69ab429d80c0f",
            "value": "imgs/nqa.jpg: 100%"
          }
        },
        "cd77e55435cb4a04996e27b5273a125e": {
          "model_module": "@jupyter-widgets/controls",
          "model_name": "FloatProgressModel",
          "model_module_version": "1.5.0",
          "state": {
            "_dom_classes": [],
            "_model_module": "@jupyter-widgets/controls",
            "_model_module_version": "1.5.0",
            "_model_name": "FloatProgressModel",
            "_view_count": null,
            "_view_module": "@jupyter-widgets/controls",
            "_view_module_version": "1.5.0",
            "_view_name": "ProgressView",
            "bar_style": "success",
            "description": "",
            "description_tooltip": null,
            "layout": "IPY_MODEL_4c81473fc35e4dac8ecf6882d2168ab9",
            "max": 158358,
            "min": 0,
            "orientation": "horizontal",
            "style": "IPY_MODEL_640a8fc057134317899d72f404324537",
            "value": 158358
          }
        },
        "07a7a4e65a22415eb4608a952d816dca": {
          "model_module": "@jupyter-widgets/controls",
          "model_name": "HTMLModel",
          "model_module_version": "1.5.0",
          "state": {
            "_dom_classes": [],
            "_model_module": "@jupyter-widgets/controls",
            "_model_module_version": "1.5.0",
            "_model_name": "HTMLModel",
            "_view_count": null,
            "_view_module": "@jupyter-widgets/controls",
            "_view_module_version": "1.5.0",
            "_view_name": "HTMLView",
            "description": "",
            "description_tooltip": null,
            "layout": "IPY_MODEL_9961a536ed7c4611ab01d8bcfa197607",
            "placeholder": "​",
            "style": "IPY_MODEL_7272f0d2add8407b9e2e1089df3dff1b",
            "value": " 158k/158k [00:00&lt;00:00, 962kB/s]"
          }
        },
        "9574479be89b4c509f0007072d269ac6": {
          "model_module": "@jupyter-widgets/base",
          "model_name": "LayoutModel",
          "model_module_version": "1.2.0",
          "state": {
            "_model_module": "@jupyter-widgets/base",
            "_model_module_version": "1.2.0",
            "_model_name": "LayoutModel",
            "_view_count": null,
            "_view_module": "@jupyter-widgets/base",
            "_view_module_version": "1.2.0",
            "_view_name": "LayoutView",
            "align_content": null,
            "align_items": null,
            "align_self": null,
            "border": null,
            "bottom": null,
            "display": null,
            "flex": null,
            "flex_flow": null,
            "grid_area": null,
            "grid_auto_columns": null,
            "grid_auto_flow": null,
            "grid_auto_rows": null,
            "grid_column": null,
            "grid_gap": null,
            "grid_row": null,
            "grid_template_areas": null,
            "grid_template_columns": null,
            "grid_template_rows": null,
            "height": null,
            "justify_content": null,
            "justify_items": null,
            "left": null,
            "margin": null,
            "max_height": null,
            "max_width": null,
            "min_height": null,
            "min_width": null,
            "object_fit": null,
            "object_position": null,
            "order": null,
            "overflow": null,
            "overflow_x": null,
            "overflow_y": null,
            "padding": null,
            "right": null,
            "top": null,
            "visibility": null,
            "width": null
          }
        },
        "29f3d94108c94bd5989ee122c426d94a": {
          "model_module": "@jupyter-widgets/base",
          "model_name": "LayoutModel",
          "model_module_version": "1.2.0",
          "state": {
            "_model_module": "@jupyter-widgets/base",
            "_model_module_version": "1.2.0",
            "_model_name": "LayoutModel",
            "_view_count": null,
            "_view_module": "@jupyter-widgets/base",
            "_view_module_version": "1.2.0",
            "_view_name": "LayoutView",
            "align_content": null,
            "align_items": null,
            "align_self": null,
            "border": null,
            "bottom": null,
            "display": null,
            "flex": null,
            "flex_flow": null,
            "grid_area": null,
            "grid_auto_columns": null,
            "grid_auto_flow": null,
            "grid_auto_rows": null,
            "grid_column": null,
            "grid_gap": null,
            "grid_row": null,
            "grid_template_areas": null,
            "grid_template_columns": null,
            "grid_template_rows": null,
            "height": null,
            "justify_content": null,
            "justify_items": null,
            "left": null,
            "margin": null,
            "max_height": null,
            "max_width": null,
            "min_height": null,
            "min_width": null,
            "object_fit": null,
            "object_position": null,
            "order": null,
            "overflow": null,
            "overflow_x": null,
            "overflow_y": null,
            "padding": null,
            "right": null,
            "top": null,
            "visibility": null,
            "width": null
          }
        },
        "5618ceab2c4349339ff69ab429d80c0f": {
          "model_module": "@jupyter-widgets/controls",
          "model_name": "DescriptionStyleModel",
          "model_module_version": "1.5.0",
          "state": {
            "_model_module": "@jupyter-widgets/controls",
            "_model_module_version": "1.5.0",
            "_model_name": "DescriptionStyleModel",
            "_view_count": null,
            "_view_module": "@jupyter-widgets/base",
            "_view_module_version": "1.2.0",
            "_view_name": "StyleView",
            "description_width": ""
          }
        },
        "4c81473fc35e4dac8ecf6882d2168ab9": {
          "model_module": "@jupyter-widgets/base",
          "model_name": "LayoutModel",
          "model_module_version": "1.2.0",
          "state": {
            "_model_module": "@jupyter-widgets/base",
            "_model_module_version": "1.2.0",
            "_model_name": "LayoutModel",
            "_view_count": null,
            "_view_module": "@jupyter-widgets/base",
            "_view_module_version": "1.2.0",
            "_view_name": "LayoutView",
            "align_content": null,
            "align_items": null,
            "align_self": null,
            "border": null,
            "bottom": null,
            "display": null,
            "flex": null,
            "flex_flow": null,
            "grid_area": null,
            "grid_auto_columns": null,
            "grid_auto_flow": null,
            "grid_auto_rows": null,
            "grid_column": null,
            "grid_gap": null,
            "grid_row": null,
            "grid_template_areas": null,
            "grid_template_columns": null,
            "grid_template_rows": null,
            "height": null,
            "justify_content": null,
            "justify_items": null,
            "left": null,
            "margin": null,
            "max_height": null,
            "max_width": null,
            "min_height": null,
            "min_width": null,
            "object_fit": null,
            "object_position": null,
            "order": null,
            "overflow": null,
            "overflow_x": null,
            "overflow_y": null,
            "padding": null,
            "right": null,
            "top": null,
            "visibility": null,
            "width": null
          }
        },
        "640a8fc057134317899d72f404324537": {
          "model_module": "@jupyter-widgets/controls",
          "model_name": "ProgressStyleModel",
          "model_module_version": "1.5.0",
          "state": {
            "_model_module": "@jupyter-widgets/controls",
            "_model_module_version": "1.5.0",
            "_model_name": "ProgressStyleModel",
            "_view_count": null,
            "_view_module": "@jupyter-widgets/base",
            "_view_module_version": "1.2.0",
            "_view_name": "StyleView",
            "bar_color": null,
            "description_width": ""
          }
        },
        "9961a536ed7c4611ab01d8bcfa197607": {
          "model_module": "@jupyter-widgets/base",
          "model_name": "LayoutModel",
          "model_module_version": "1.2.0",
          "state": {
            "_model_module": "@jupyter-widgets/base",
            "_model_module_version": "1.2.0",
            "_model_name": "LayoutModel",
            "_view_count": null,
            "_view_module": "@jupyter-widgets/base",
            "_view_module_version": "1.2.0",
            "_view_name": "LayoutView",
            "align_content": null,
            "align_items": null,
            "align_self": null,
            "border": null,
            "bottom": null,
            "display": null,
            "flex": null,
            "flex_flow": null,
            "grid_area": null,
            "grid_auto_columns": null,
            "grid_auto_flow": null,
            "grid_auto_rows": null,
            "grid_column": null,
            "grid_gap": null,
            "grid_row": null,
            "grid_template_areas": null,
            "grid_template_columns": null,
            "grid_template_rows": null,
            "height": null,
            "justify_content": null,
            "justify_items": null,
            "left": null,
            "margin": null,
            "max_height": null,
            "max_width": null,
            "min_height": null,
            "min_width": null,
            "object_fit": null,
            "object_position": null,
            "order": null,
            "overflow": null,
            "overflow_x": null,
            "overflow_y": null,
            "padding": null,
            "right": null,
            "top": null,
            "visibility": null,
            "width": null
          }
        },
        "7272f0d2add8407b9e2e1089df3dff1b": {
          "model_module": "@jupyter-widgets/controls",
          "model_name": "DescriptionStyleModel",
          "model_module_version": "1.5.0",
          "state": {
            "_model_module": "@jupyter-widgets/controls",
            "_model_module_version": "1.5.0",
            "_model_name": "DescriptionStyleModel",
            "_view_count": null,
            "_view_module": "@jupyter-widgets/base",
            "_view_module_version": "1.2.0",
            "_view_name": "StyleView",
            "description_width": ""
          }
        },
        "4ce221bd25a644fdb4ad0bc2fea92c13": {
          "model_module": "@jupyter-widgets/controls",
          "model_name": "HBoxModel",
          "model_module_version": "1.5.0",
          "state": {
            "_dom_classes": [],
            "_model_module": "@jupyter-widgets/controls",
            "_model_module_version": "1.5.0",
            "_model_name": "HBoxModel",
            "_view_count": null,
            "_view_module": "@jupyter-widgets/controls",
            "_view_module_version": "1.5.0",
            "_view_name": "HBoxView",
            "box_style": "",
            "children": [
              "IPY_MODEL_1a1825c3319f455d9f8d0874c599b49b",
              "IPY_MODEL_dde7d32a08bc4998b7beb21d7d19e431",
              "IPY_MODEL_611083167f5046cd912cfcd6052bfaf2"
            ],
            "layout": "IPY_MODEL_bae9096afad5477684e0f2f57ae2f623"
          }
        },
        "1a1825c3319f455d9f8d0874c599b49b": {
          "model_module": "@jupyter-widgets/controls",
          "model_name": "HTMLModel",
          "model_module_version": "1.5.0",
          "state": {
            "_dom_classes": [],
            "_model_module": "@jupyter-widgets/controls",
            "_model_module_version": "1.5.0",
            "_model_name": "HTMLModel",
            "_view_count": null,
            "_view_module": "@jupyter-widgets/controls",
            "_view_module_version": "1.5.0",
            "_view_name": "HTMLView",
            "description": "",
            "description_tooltip": null,
            "layout": "IPY_MODEL_b15d011755be482eb18daa4ffed6f638",
            "placeholder": "​",
            "style": "IPY_MODEL_0fb05d8a41e9484e8b48aa9ec0d009e3",
            "value": "long.jpg: 100%"
          }
        },
        "dde7d32a08bc4998b7beb21d7d19e431": {
          "model_module": "@jupyter-widgets/controls",
          "model_name": "FloatProgressModel",
          "model_module_version": "1.5.0",
          "state": {
            "_dom_classes": [],
            "_model_module": "@jupyter-widgets/controls",
            "_model_module_version": "1.5.0",
            "_model_name": "FloatProgressModel",
            "_view_count": null,
            "_view_module": "@jupyter-widgets/controls",
            "_view_module_version": "1.5.0",
            "_view_name": "ProgressView",
            "bar_style": "success",
            "description": "",
            "description_tooltip": null,
            "layout": "IPY_MODEL_009c4555705141e88c104a6732870327",
            "max": 126894,
            "min": 0,
            "orientation": "horizontal",
            "style": "IPY_MODEL_2da289be61ac43d6b9de507dfb552ddb",
            "value": 126894
          }
        },
        "611083167f5046cd912cfcd6052bfaf2": {
          "model_module": "@jupyter-widgets/controls",
          "model_name": "HTMLModel",
          "model_module_version": "1.5.0",
          "state": {
            "_dom_classes": [],
            "_model_module": "@jupyter-widgets/controls",
            "_model_module_version": "1.5.0",
            "_model_name": "HTMLModel",
            "_view_count": null,
            "_view_module": "@jupyter-widgets/controls",
            "_view_module_version": "1.5.0",
            "_view_name": "HTMLView",
            "description": "",
            "description_tooltip": null,
            "layout": "IPY_MODEL_17453f61a3f2491a9c56021c95ff11dc",
            "placeholder": "​",
            "style": "IPY_MODEL_8bc83b26c12740e382ee067ff5c15a56",
            "value": " 127k/127k [00:00&lt;00:00, 925kB/s]"
          }
        },
        "bae9096afad5477684e0f2f57ae2f623": {
          "model_module": "@jupyter-widgets/base",
          "model_name": "LayoutModel",
          "model_module_version": "1.2.0",
          "state": {
            "_model_module": "@jupyter-widgets/base",
            "_model_module_version": "1.2.0",
            "_model_name": "LayoutModel",
            "_view_count": null,
            "_view_module": "@jupyter-widgets/base",
            "_view_module_version": "1.2.0",
            "_view_name": "LayoutView",
            "align_content": null,
            "align_items": null,
            "align_self": null,
            "border": null,
            "bottom": null,
            "display": null,
            "flex": null,
            "flex_flow": null,
            "grid_area": null,
            "grid_auto_columns": null,
            "grid_auto_flow": null,
            "grid_auto_rows": null,
            "grid_column": null,
            "grid_gap": null,
            "grid_row": null,
            "grid_template_areas": null,
            "grid_template_columns": null,
            "grid_template_rows": null,
            "height": null,
            "justify_content": null,
            "justify_items": null,
            "left": null,
            "margin": null,
            "max_height": null,
            "max_width": null,
            "min_height": null,
            "min_width": null,
            "object_fit": null,
            "object_position": null,
            "order": null,
            "overflow": null,
            "overflow_x": null,
            "overflow_y": null,
            "padding": null,
            "right": null,
            "top": null,
            "visibility": null,
            "width": null
          }
        },
        "b15d011755be482eb18daa4ffed6f638": {
          "model_module": "@jupyter-widgets/base",
          "model_name": "LayoutModel",
          "model_module_version": "1.2.0",
          "state": {
            "_model_module": "@jupyter-widgets/base",
            "_model_module_version": "1.2.0",
            "_model_name": "LayoutModel",
            "_view_count": null,
            "_view_module": "@jupyter-widgets/base",
            "_view_module_version": "1.2.0",
            "_view_name": "LayoutView",
            "align_content": null,
            "align_items": null,
            "align_self": null,
            "border": null,
            "bottom": null,
            "display": null,
            "flex": null,
            "flex_flow": null,
            "grid_area": null,
            "grid_auto_columns": null,
            "grid_auto_flow": null,
            "grid_auto_rows": null,
            "grid_column": null,
            "grid_gap": null,
            "grid_row": null,
            "grid_template_areas": null,
            "grid_template_columns": null,
            "grid_template_rows": null,
            "height": null,
            "justify_content": null,
            "justify_items": null,
            "left": null,
            "margin": null,
            "max_height": null,
            "max_width": null,
            "min_height": null,
            "min_width": null,
            "object_fit": null,
            "object_position": null,
            "order": null,
            "overflow": null,
            "overflow_x": null,
            "overflow_y": null,
            "padding": null,
            "right": null,
            "top": null,
            "visibility": null,
            "width": null
          }
        },
        "0fb05d8a41e9484e8b48aa9ec0d009e3": {
          "model_module": "@jupyter-widgets/controls",
          "model_name": "DescriptionStyleModel",
          "model_module_version": "1.5.0",
          "state": {
            "_model_module": "@jupyter-widgets/controls",
            "_model_module_version": "1.5.0",
            "_model_name": "DescriptionStyleModel",
            "_view_count": null,
            "_view_module": "@jupyter-widgets/base",
            "_view_module_version": "1.2.0",
            "_view_name": "StyleView",
            "description_width": ""
          }
        },
        "009c4555705141e88c104a6732870327": {
          "model_module": "@jupyter-widgets/base",
          "model_name": "LayoutModel",
          "model_module_version": "1.2.0",
          "state": {
            "_model_module": "@jupyter-widgets/base",
            "_model_module_version": "1.2.0",
            "_model_name": "LayoutModel",
            "_view_count": null,
            "_view_module": "@jupyter-widgets/base",
            "_view_module_version": "1.2.0",
            "_view_name": "LayoutView",
            "align_content": null,
            "align_items": null,
            "align_self": null,
            "border": null,
            "bottom": null,
            "display": null,
            "flex": null,
            "flex_flow": null,
            "grid_area": null,
            "grid_auto_columns": null,
            "grid_auto_flow": null,
            "grid_auto_rows": null,
            "grid_column": null,
            "grid_gap": null,
            "grid_row": null,
            "grid_template_areas": null,
            "grid_template_columns": null,
            "grid_template_rows": null,
            "height": null,
            "justify_content": null,
            "justify_items": null,
            "left": null,
            "margin": null,
            "max_height": null,
            "max_width": null,
            "min_height": null,
            "min_width": null,
            "object_fit": null,
            "object_position": null,
            "order": null,
            "overflow": null,
            "overflow_x": null,
            "overflow_y": null,
            "padding": null,
            "right": null,
            "top": null,
            "visibility": null,
            "width": null
          }
        },
        "2da289be61ac43d6b9de507dfb552ddb": {
          "model_module": "@jupyter-widgets/controls",
          "model_name": "ProgressStyleModel",
          "model_module_version": "1.5.0",
          "state": {
            "_model_module": "@jupyter-widgets/controls",
            "_model_module_version": "1.5.0",
            "_model_name": "ProgressStyleModel",
            "_view_count": null,
            "_view_module": "@jupyter-widgets/base",
            "_view_module_version": "1.2.0",
            "_view_name": "StyleView",
            "bar_color": null,
            "description_width": ""
          }
        },
        "17453f61a3f2491a9c56021c95ff11dc": {
          "model_module": "@jupyter-widgets/base",
          "model_name": "LayoutModel",
          "model_module_version": "1.2.0",
          "state": {
            "_model_module": "@jupyter-widgets/base",
            "_model_module_version": "1.2.0",
            "_model_name": "LayoutModel",
            "_view_count": null,
            "_view_module": "@jupyter-widgets/base",
            "_view_module_version": "1.2.0",
            "_view_name": "LayoutView",
            "align_content": null,
            "align_items": null,
            "align_self": null,
            "border": null,
            "bottom": null,
            "display": null,
            "flex": null,
            "flex_flow": null,
            "grid_area": null,
            "grid_auto_columns": null,
            "grid_auto_flow": null,
            "grid_auto_rows": null,
            "grid_column": null,
            "grid_gap": null,
            "grid_row": null,
            "grid_template_areas": null,
            "grid_template_columns": null,
            "grid_template_rows": null,
            "height": null,
            "justify_content": null,
            "justify_items": null,
            "left": null,
            "margin": null,
            "max_height": null,
            "max_width": null,
            "min_height": null,
            "min_width": null,
            "object_fit": null,
            "object_position": null,
            "order": null,
            "overflow": null,
            "overflow_x": null,
            "overflow_y": null,
            "padding": null,
            "right": null,
            "top": null,
            "visibility": null,
            "width": null
          }
        },
        "8bc83b26c12740e382ee067ff5c15a56": {
          "model_module": "@jupyter-widgets/controls",
          "model_name": "DescriptionStyleModel",
          "model_module_version": "1.5.0",
          "state": {
            "_model_module": "@jupyter-widgets/controls",
            "_model_module_version": "1.5.0",
            "_model_name": "DescriptionStyleModel",
            "_view_count": null,
            "_view_module": "@jupyter-widgets/base",
            "_view_module_version": "1.2.0",
            "_view_name": "StyleView",
            "description_width": ""
          }
        },
        "3d5a74fb2be548bf8ed5d8353163393c": {
          "model_module": "@jupyter-widgets/controls",
          "model_name": "HBoxModel",
          "model_module_version": "1.5.0",
          "state": {
            "_dom_classes": [],
            "_model_module": "@jupyter-widgets/controls",
            "_model_module_version": "1.5.0",
            "_model_name": "HBoxModel",
            "_view_count": null,
            "_view_module": "@jupyter-widgets/controls",
            "_view_module_version": "1.5.0",
            "_view_name": "HBoxView",
            "box_style": "",
            "children": [
              "IPY_MODEL_42515a9ca5ec4449b638e8869ae927bc",
              "IPY_MODEL_cf158883dac84cf2ada87085323c2f88",
              "IPY_MODEL_d6b792a7138c4d3f82d25a2c97918acf"
            ],
            "layout": "IPY_MODEL_e9ef1cf1ef3e4d7d99cc6a6c5640271d"
          }
        },
        "42515a9ca5ec4449b638e8869ae927bc": {
          "model_module": "@jupyter-widgets/controls",
          "model_name": "HTMLModel",
          "model_module_version": "1.5.0",
          "state": {
            "_dom_classes": [],
            "_model_module": "@jupyter-widgets/controls",
            "_model_module_version": "1.5.0",
            "_model_name": "HTMLModel",
            "_view_count": null,
            "_view_module": "@jupyter-widgets/controls",
            "_view_module_version": "1.5.0",
            "_view_name": "HTMLView",
            "description": "",
            "description_tooltip": null,
            "layout": "IPY_MODEL_174de2e296544dcd97b4ef66e04e541c",
            "placeholder": "​",
            "style": "IPY_MODEL_d648f69a4f9048b6b1a8daec9987525c",
            "value": "modules.json: 100%"
          }
        },
        "cf158883dac84cf2ada87085323c2f88": {
          "model_module": "@jupyter-widgets/controls",
          "model_name": "FloatProgressModel",
          "model_module_version": "1.5.0",
          "state": {
            "_dom_classes": [],
            "_model_module": "@jupyter-widgets/controls",
            "_model_module_version": "1.5.0",
            "_model_name": "FloatProgressModel",
            "_view_count": null,
            "_view_module": "@jupyter-widgets/controls",
            "_view_module_version": "1.5.0",
            "_view_name": "ProgressView",
            "bar_style": "success",
            "description": "",
            "description_tooltip": null,
            "layout": "IPY_MODEL_ba01bb526a9b4a7099d9b1bc57f1e383",
            "max": 349,
            "min": 0,
            "orientation": "horizontal",
            "style": "IPY_MODEL_62457c4c35e54512b0f86abf189f9ee0",
            "value": 349
          }
        },
        "d6b792a7138c4d3f82d25a2c97918acf": {
          "model_module": "@jupyter-widgets/controls",
          "model_name": "HTMLModel",
          "model_module_version": "1.5.0",
          "state": {
            "_dom_classes": [],
            "_model_module": "@jupyter-widgets/controls",
            "_model_module_version": "1.5.0",
            "_model_name": "HTMLModel",
            "_view_count": null,
            "_view_module": "@jupyter-widgets/controls",
            "_view_module_version": "1.5.0",
            "_view_name": "HTMLView",
            "description": "",
            "description_tooltip": null,
            "layout": "IPY_MODEL_46edc91ed83b47f98418e5efd9049220",
            "placeholder": "​",
            "style": "IPY_MODEL_542a1c83b5c349978c48391785408030",
            "value": " 349/349 [00:00&lt;00:00, 3.31kB/s]"
          }
        },
        "e9ef1cf1ef3e4d7d99cc6a6c5640271d": {
          "model_module": "@jupyter-widgets/base",
          "model_name": "LayoutModel",
          "model_module_version": "1.2.0",
          "state": {
            "_model_module": "@jupyter-widgets/base",
            "_model_module_version": "1.2.0",
            "_model_name": "LayoutModel",
            "_view_count": null,
            "_view_module": "@jupyter-widgets/base",
            "_view_module_version": "1.2.0",
            "_view_name": "LayoutView",
            "align_content": null,
            "align_items": null,
            "align_self": null,
            "border": null,
            "bottom": null,
            "display": null,
            "flex": null,
            "flex_flow": null,
            "grid_area": null,
            "grid_auto_columns": null,
            "grid_auto_flow": null,
            "grid_auto_rows": null,
            "grid_column": null,
            "grid_gap": null,
            "grid_row": null,
            "grid_template_areas": null,
            "grid_template_columns": null,
            "grid_template_rows": null,
            "height": null,
            "justify_content": null,
            "justify_items": null,
            "left": null,
            "margin": null,
            "max_height": null,
            "max_width": null,
            "min_height": null,
            "min_width": null,
            "object_fit": null,
            "object_position": null,
            "order": null,
            "overflow": null,
            "overflow_x": null,
            "overflow_y": null,
            "padding": null,
            "right": null,
            "top": null,
            "visibility": null,
            "width": null
          }
        },
        "174de2e296544dcd97b4ef66e04e541c": {
          "model_module": "@jupyter-widgets/base",
          "model_name": "LayoutModel",
          "model_module_version": "1.2.0",
          "state": {
            "_model_module": "@jupyter-widgets/base",
            "_model_module_version": "1.2.0",
            "_model_name": "LayoutModel",
            "_view_count": null,
            "_view_module": "@jupyter-widgets/base",
            "_view_module_version": "1.2.0",
            "_view_name": "LayoutView",
            "align_content": null,
            "align_items": null,
            "align_self": null,
            "border": null,
            "bottom": null,
            "display": null,
            "flex": null,
            "flex_flow": null,
            "grid_area": null,
            "grid_auto_columns": null,
            "grid_auto_flow": null,
            "grid_auto_rows": null,
            "grid_column": null,
            "grid_gap": null,
            "grid_row": null,
            "grid_template_areas": null,
            "grid_template_columns": null,
            "grid_template_rows": null,
            "height": null,
            "justify_content": null,
            "justify_items": null,
            "left": null,
            "margin": null,
            "max_height": null,
            "max_width": null,
            "min_height": null,
            "min_width": null,
            "object_fit": null,
            "object_position": null,
            "order": null,
            "overflow": null,
            "overflow_x": null,
            "overflow_y": null,
            "padding": null,
            "right": null,
            "top": null,
            "visibility": null,
            "width": null
          }
        },
        "d648f69a4f9048b6b1a8daec9987525c": {
          "model_module": "@jupyter-widgets/controls",
          "model_name": "DescriptionStyleModel",
          "model_module_version": "1.5.0",
          "state": {
            "_model_module": "@jupyter-widgets/controls",
            "_model_module_version": "1.5.0",
            "_model_name": "DescriptionStyleModel",
            "_view_count": null,
            "_view_module": "@jupyter-widgets/base",
            "_view_module_version": "1.2.0",
            "_view_name": "StyleView",
            "description_width": ""
          }
        },
        "ba01bb526a9b4a7099d9b1bc57f1e383": {
          "model_module": "@jupyter-widgets/base",
          "model_name": "LayoutModel",
          "model_module_version": "1.2.0",
          "state": {
            "_model_module": "@jupyter-widgets/base",
            "_model_module_version": "1.2.0",
            "_model_name": "LayoutModel",
            "_view_count": null,
            "_view_module": "@jupyter-widgets/base",
            "_view_module_version": "1.2.0",
            "_view_name": "LayoutView",
            "align_content": null,
            "align_items": null,
            "align_self": null,
            "border": null,
            "bottom": null,
            "display": null,
            "flex": null,
            "flex_flow": null,
            "grid_area": null,
            "grid_auto_columns": null,
            "grid_auto_flow": null,
            "grid_auto_rows": null,
            "grid_column": null,
            "grid_gap": null,
            "grid_row": null,
            "grid_template_areas": null,
            "grid_template_columns": null,
            "grid_template_rows": null,
            "height": null,
            "justify_content": null,
            "justify_items": null,
            "left": null,
            "margin": null,
            "max_height": null,
            "max_width": null,
            "min_height": null,
            "min_width": null,
            "object_fit": null,
            "object_position": null,
            "order": null,
            "overflow": null,
            "overflow_x": null,
            "overflow_y": null,
            "padding": null,
            "right": null,
            "top": null,
            "visibility": null,
            "width": null
          }
        },
        "62457c4c35e54512b0f86abf189f9ee0": {
          "model_module": "@jupyter-widgets/controls",
          "model_name": "ProgressStyleModel",
          "model_module_version": "1.5.0",
          "state": {
            "_model_module": "@jupyter-widgets/controls",
            "_model_module_version": "1.5.0",
            "_model_name": "ProgressStyleModel",
            "_view_count": null,
            "_view_module": "@jupyter-widgets/base",
            "_view_module_version": "1.2.0",
            "_view_name": "StyleView",
            "bar_color": null,
            "description_width": ""
          }
        },
        "46edc91ed83b47f98418e5efd9049220": {
          "model_module": "@jupyter-widgets/base",
          "model_name": "LayoutModel",
          "model_module_version": "1.2.0",
          "state": {
            "_model_module": "@jupyter-widgets/base",
            "_model_module_version": "1.2.0",
            "_model_name": "LayoutModel",
            "_view_count": null,
            "_view_module": "@jupyter-widgets/base",
            "_view_module_version": "1.2.0",
            "_view_name": "LayoutView",
            "align_content": null,
            "align_items": null,
            "align_self": null,
            "border": null,
            "bottom": null,
            "display": null,
            "flex": null,
            "flex_flow": null,
            "grid_area": null,
            "grid_auto_columns": null,
            "grid_auto_flow": null,
            "grid_auto_rows": null,
            "grid_column": null,
            "grid_gap": null,
            "grid_row": null,
            "grid_template_areas": null,
            "grid_template_columns": null,
            "grid_template_rows": null,
            "height": null,
            "justify_content": null,
            "justify_items": null,
            "left": null,
            "margin": null,
            "max_height": null,
            "max_width": null,
            "min_height": null,
            "min_width": null,
            "object_fit": null,
            "object_position": null,
            "order": null,
            "overflow": null,
            "overflow_x": null,
            "overflow_y": null,
            "padding": null,
            "right": null,
            "top": null,
            "visibility": null,
            "width": null
          }
        },
        "542a1c83b5c349978c48391785408030": {
          "model_module": "@jupyter-widgets/controls",
          "model_name": "DescriptionStyleModel",
          "model_module_version": "1.5.0",
          "state": {
            "_model_module": "@jupyter-widgets/controls",
            "_model_module_version": "1.5.0",
            "_model_name": "DescriptionStyleModel",
            "_view_count": null,
            "_view_module": "@jupyter-widgets/base",
            "_view_module_version": "1.2.0",
            "_view_name": "StyleView",
            "description_width": ""
          }
        },
        "4449307081f04fe7a8531c2a646dfc78": {
          "model_module": "@jupyter-widgets/controls",
          "model_name": "HBoxModel",
          "model_module_version": "1.5.0",
          "state": {
            "_dom_classes": [],
            "_model_module": "@jupyter-widgets/controls",
            "_model_module_version": "1.5.0",
            "_model_name": "HBoxModel",
            "_view_count": null,
            "_view_module": "@jupyter-widgets/controls",
            "_view_module_version": "1.5.0",
            "_view_name": "HBoxView",
            "box_style": "",
            "children": [
              "IPY_MODEL_efb629da2ae84a01a06cdfe69135d51c",
              "IPY_MODEL_7a4850464dfd4cb6991ad85d81bee1cb",
              "IPY_MODEL_3ec825d7800f459c9c4fefa4e2f66d63"
            ],
            "layout": "IPY_MODEL_5b052c1504a24719b8a65d6f597f5e4c"
          }
        },
        "efb629da2ae84a01a06cdfe69135d51c": {
          "model_module": "@jupyter-widgets/controls",
          "model_name": "HTMLModel",
          "model_module_version": "1.5.0",
          "state": {
            "_dom_classes": [],
            "_model_module": "@jupyter-widgets/controls",
            "_model_module_version": "1.5.0",
            "_model_name": "HTMLModel",
            "_view_count": null,
            "_view_module": "@jupyter-widgets/controls",
            "_view_module_version": "1.5.0",
            "_view_name": "HTMLView",
            "description": "",
            "description_tooltip": null,
            "layout": "IPY_MODEL_9ea39a84f8e6463982158b44701cf912",
            "placeholder": "​",
            "style": "IPY_MODEL_8986bc4935174e3f80852b9fa4a2e289",
            "value": "sentence_bert_config.json: 100%"
          }
        },
        "7a4850464dfd4cb6991ad85d81bee1cb": {
          "model_module": "@jupyter-widgets/controls",
          "model_name": "FloatProgressModel",
          "model_module_version": "1.5.0",
          "state": {
            "_dom_classes": [],
            "_model_module": "@jupyter-widgets/controls",
            "_model_module_version": "1.5.0",
            "_model_name": "FloatProgressModel",
            "_view_count": null,
            "_view_module": "@jupyter-widgets/controls",
            "_view_module_version": "1.5.0",
            "_view_name": "ProgressView",
            "bar_style": "success",
            "description": "",
            "description_tooltip": null,
            "layout": "IPY_MODEL_47cae84137714495a0fa557ecefc899c",
            "max": 54,
            "min": 0,
            "orientation": "horizontal",
            "style": "IPY_MODEL_b63e1b074ae340cd81edafc406116845",
            "value": 54
          }
        },
        "3ec825d7800f459c9c4fefa4e2f66d63": {
          "model_module": "@jupyter-widgets/controls",
          "model_name": "HTMLModel",
          "model_module_version": "1.5.0",
          "state": {
            "_dom_classes": [],
            "_model_module": "@jupyter-widgets/controls",
            "_model_module_version": "1.5.0",
            "_model_name": "HTMLModel",
            "_view_count": null,
            "_view_module": "@jupyter-widgets/controls",
            "_view_module_version": "1.5.0",
            "_view_name": "HTMLView",
            "description": "",
            "description_tooltip": null,
            "layout": "IPY_MODEL_a97e507d4ecb4770a5dc4f42fab3fbfe",
            "placeholder": "​",
            "style": "IPY_MODEL_3f48eb01ab954969aaedaae34165b7f6",
            "value": " 54.0/54.0 [00:00&lt;00:00, 477B/s]"
          }
        },
        "5b052c1504a24719b8a65d6f597f5e4c": {
          "model_module": "@jupyter-widgets/base",
          "model_name": "LayoutModel",
          "model_module_version": "1.2.0",
          "state": {
            "_model_module": "@jupyter-widgets/base",
            "_model_module_version": "1.2.0",
            "_model_name": "LayoutModel",
            "_view_count": null,
            "_view_module": "@jupyter-widgets/base",
            "_view_module_version": "1.2.0",
            "_view_name": "LayoutView",
            "align_content": null,
            "align_items": null,
            "align_self": null,
            "border": null,
            "bottom": null,
            "display": null,
            "flex": null,
            "flex_flow": null,
            "grid_area": null,
            "grid_auto_columns": null,
            "grid_auto_flow": null,
            "grid_auto_rows": null,
            "grid_column": null,
            "grid_gap": null,
            "grid_row": null,
            "grid_template_areas": null,
            "grid_template_columns": null,
            "grid_template_rows": null,
            "height": null,
            "justify_content": null,
            "justify_items": null,
            "left": null,
            "margin": null,
            "max_height": null,
            "max_width": null,
            "min_height": null,
            "min_width": null,
            "object_fit": null,
            "object_position": null,
            "order": null,
            "overflow": null,
            "overflow_x": null,
            "overflow_y": null,
            "padding": null,
            "right": null,
            "top": null,
            "visibility": null,
            "width": null
          }
        },
        "9ea39a84f8e6463982158b44701cf912": {
          "model_module": "@jupyter-widgets/base",
          "model_name": "LayoutModel",
          "model_module_version": "1.2.0",
          "state": {
            "_model_module": "@jupyter-widgets/base",
            "_model_module_version": "1.2.0",
            "_model_name": "LayoutModel",
            "_view_count": null,
            "_view_module": "@jupyter-widgets/base",
            "_view_module_version": "1.2.0",
            "_view_name": "LayoutView",
            "align_content": null,
            "align_items": null,
            "align_self": null,
            "border": null,
            "bottom": null,
            "display": null,
            "flex": null,
            "flex_flow": null,
            "grid_area": null,
            "grid_auto_columns": null,
            "grid_auto_flow": null,
            "grid_auto_rows": null,
            "grid_column": null,
            "grid_gap": null,
            "grid_row": null,
            "grid_template_areas": null,
            "grid_template_columns": null,
            "grid_template_rows": null,
            "height": null,
            "justify_content": null,
            "justify_items": null,
            "left": null,
            "margin": null,
            "max_height": null,
            "max_width": null,
            "min_height": null,
            "min_width": null,
            "object_fit": null,
            "object_position": null,
            "order": null,
            "overflow": null,
            "overflow_x": null,
            "overflow_y": null,
            "padding": null,
            "right": null,
            "top": null,
            "visibility": null,
            "width": null
          }
        },
        "8986bc4935174e3f80852b9fa4a2e289": {
          "model_module": "@jupyter-widgets/controls",
          "model_name": "DescriptionStyleModel",
          "model_module_version": "1.5.0",
          "state": {
            "_model_module": "@jupyter-widgets/controls",
            "_model_module_version": "1.5.0",
            "_model_name": "DescriptionStyleModel",
            "_view_count": null,
            "_view_module": "@jupyter-widgets/base",
            "_view_module_version": "1.2.0",
            "_view_name": "StyleView",
            "description_width": ""
          }
        },
        "47cae84137714495a0fa557ecefc899c": {
          "model_module": "@jupyter-widgets/base",
          "model_name": "LayoutModel",
          "model_module_version": "1.2.0",
          "state": {
            "_model_module": "@jupyter-widgets/base",
            "_model_module_version": "1.2.0",
            "_model_name": "LayoutModel",
            "_view_count": null,
            "_view_module": "@jupyter-widgets/base",
            "_view_module_version": "1.2.0",
            "_view_name": "LayoutView",
            "align_content": null,
            "align_items": null,
            "align_self": null,
            "border": null,
            "bottom": null,
            "display": null,
            "flex": null,
            "flex_flow": null,
            "grid_area": null,
            "grid_auto_columns": null,
            "grid_auto_flow": null,
            "grid_auto_rows": null,
            "grid_column": null,
            "grid_gap": null,
            "grid_row": null,
            "grid_template_areas": null,
            "grid_template_columns": null,
            "grid_template_rows": null,
            "height": null,
            "justify_content": null,
            "justify_items": null,
            "left": null,
            "margin": null,
            "max_height": null,
            "max_width": null,
            "min_height": null,
            "min_width": null,
            "object_fit": null,
            "object_position": null,
            "order": null,
            "overflow": null,
            "overflow_x": null,
            "overflow_y": null,
            "padding": null,
            "right": null,
            "top": null,
            "visibility": null,
            "width": null
          }
        },
        "b63e1b074ae340cd81edafc406116845": {
          "model_module": "@jupyter-widgets/controls",
          "model_name": "ProgressStyleModel",
          "model_module_version": "1.5.0",
          "state": {
            "_model_module": "@jupyter-widgets/controls",
            "_model_module_version": "1.5.0",
            "_model_name": "ProgressStyleModel",
            "_view_count": null,
            "_view_module": "@jupyter-widgets/base",
            "_view_module_version": "1.2.0",
            "_view_name": "StyleView",
            "bar_color": null,
            "description_width": ""
          }
        },
        "a97e507d4ecb4770a5dc4f42fab3fbfe": {
          "model_module": "@jupyter-widgets/base",
          "model_name": "LayoutModel",
          "model_module_version": "1.2.0",
          "state": {
            "_model_module": "@jupyter-widgets/base",
            "_model_module_version": "1.2.0",
            "_model_name": "LayoutModel",
            "_view_count": null,
            "_view_module": "@jupyter-widgets/base",
            "_view_module_version": "1.2.0",
            "_view_name": "LayoutView",
            "align_content": null,
            "align_items": null,
            "align_self": null,
            "border": null,
            "bottom": null,
            "display": null,
            "flex": null,
            "flex_flow": null,
            "grid_area": null,
            "grid_auto_columns": null,
            "grid_auto_flow": null,
            "grid_auto_rows": null,
            "grid_column": null,
            "grid_gap": null,
            "grid_row": null,
            "grid_template_areas": null,
            "grid_template_columns": null,
            "grid_template_rows": null,
            "height": null,
            "justify_content": null,
            "justify_items": null,
            "left": null,
            "margin": null,
            "max_height": null,
            "max_width": null,
            "min_height": null,
            "min_width": null,
            "object_fit": null,
            "object_position": null,
            "order": null,
            "overflow": null,
            "overflow_x": null,
            "overflow_y": null,
            "padding": null,
            "right": null,
            "top": null,
            "visibility": null,
            "width": null
          }
        },
        "3f48eb01ab954969aaedaae34165b7f6": {
          "model_module": "@jupyter-widgets/controls",
          "model_name": "DescriptionStyleModel",
          "model_module_version": "1.5.0",
          "state": {
            "_model_module": "@jupyter-widgets/controls",
            "_model_module_version": "1.5.0",
            "_model_name": "DescriptionStyleModel",
            "_view_count": null,
            "_view_module": "@jupyter-widgets/base",
            "_view_module_version": "1.2.0",
            "_view_name": "StyleView",
            "description_width": ""
          }
        },
        "55a8233dcde84f0e99352371d4597fb7": {
          "model_module": "@jupyter-widgets/controls",
          "model_name": "HBoxModel",
          "model_module_version": "1.5.0",
          "state": {
            "_dom_classes": [],
            "_model_module": "@jupyter-widgets/controls",
            "_model_module_version": "1.5.0",
            "_model_name": "HBoxModel",
            "_view_count": null,
            "_view_module": "@jupyter-widgets/controls",
            "_view_module_version": "1.5.0",
            "_view_name": "HBoxView",
            "box_style": "",
            "children": [
              "IPY_MODEL_c6c125f7274648ad9b676df79902b6d7",
              "IPY_MODEL_c692703bed8b479b9bbd9e8701551a15",
              "IPY_MODEL_9de24057f71348d6b9d5c0583120ab60"
            ],
            "layout": "IPY_MODEL_982b1f9148944313926b6730130f3396"
          }
        },
        "c6c125f7274648ad9b676df79902b6d7": {
          "model_module": "@jupyter-widgets/controls",
          "model_name": "HTMLModel",
          "model_module_version": "1.5.0",
          "state": {
            "_dom_classes": [],
            "_model_module": "@jupyter-widgets/controls",
            "_model_module_version": "1.5.0",
            "_model_name": "HTMLModel",
            "_view_count": null,
            "_view_module": "@jupyter-widgets/controls",
            "_view_module_version": "1.5.0",
            "_view_name": "HTMLView",
            "description": "",
            "description_tooltip": null,
            "layout": "IPY_MODEL_14b6935714cb47c8a883b1ce0c710f97",
            "placeholder": "​",
            "style": "IPY_MODEL_4d91a5f2699c462f9a3e458010848879",
            "value": "special_tokens_map.json: 100%"
          }
        },
        "c692703bed8b479b9bbd9e8701551a15": {
          "model_module": "@jupyter-widgets/controls",
          "model_name": "FloatProgressModel",
          "model_module_version": "1.5.0",
          "state": {
            "_dom_classes": [],
            "_model_module": "@jupyter-widgets/controls",
            "_model_module_version": "1.5.0",
            "_model_name": "FloatProgressModel",
            "_view_count": null,
            "_view_module": "@jupyter-widgets/controls",
            "_view_module_version": "1.5.0",
            "_view_name": "ProgressView",
            "bar_style": "success",
            "description": "",
            "description_tooltip": null,
            "layout": "IPY_MODEL_792a935016d1433a981e6332e28f84bb",
            "max": 964,
            "min": 0,
            "orientation": "horizontal",
            "style": "IPY_MODEL_97a5f68d76b545a7b87073c1033bce6c",
            "value": 964
          }
        },
        "9de24057f71348d6b9d5c0583120ab60": {
          "model_module": "@jupyter-widgets/controls",
          "model_name": "HTMLModel",
          "model_module_version": "1.5.0",
          "state": {
            "_dom_classes": [],
            "_model_module": "@jupyter-widgets/controls",
            "_model_module_version": "1.5.0",
            "_model_name": "HTMLModel",
            "_view_count": null,
            "_view_module": "@jupyter-widgets/controls",
            "_view_module_version": "1.5.0",
            "_view_name": "HTMLView",
            "description": "",
            "description_tooltip": null,
            "layout": "IPY_MODEL_f504dc82c3e1417595e7ee255d282535",
            "placeholder": "​",
            "style": "IPY_MODEL_22574d3ad6d6439b8b5405b524e15737",
            "value": " 964/964 [00:00&lt;00:00, 8.10kB/s]"
          }
        },
        "982b1f9148944313926b6730130f3396": {
          "model_module": "@jupyter-widgets/base",
          "model_name": "LayoutModel",
          "model_module_version": "1.2.0",
          "state": {
            "_model_module": "@jupyter-widgets/base",
            "_model_module_version": "1.2.0",
            "_model_name": "LayoutModel",
            "_view_count": null,
            "_view_module": "@jupyter-widgets/base",
            "_view_module_version": "1.2.0",
            "_view_name": "LayoutView",
            "align_content": null,
            "align_items": null,
            "align_self": null,
            "border": null,
            "bottom": null,
            "display": null,
            "flex": null,
            "flex_flow": null,
            "grid_area": null,
            "grid_auto_columns": null,
            "grid_auto_flow": null,
            "grid_auto_rows": null,
            "grid_column": null,
            "grid_gap": null,
            "grid_row": null,
            "grid_template_areas": null,
            "grid_template_columns": null,
            "grid_template_rows": null,
            "height": null,
            "justify_content": null,
            "justify_items": null,
            "left": null,
            "margin": null,
            "max_height": null,
            "max_width": null,
            "min_height": null,
            "min_width": null,
            "object_fit": null,
            "object_position": null,
            "order": null,
            "overflow": null,
            "overflow_x": null,
            "overflow_y": null,
            "padding": null,
            "right": null,
            "top": null,
            "visibility": null,
            "width": null
          }
        },
        "14b6935714cb47c8a883b1ce0c710f97": {
          "model_module": "@jupyter-widgets/base",
          "model_name": "LayoutModel",
          "model_module_version": "1.2.0",
          "state": {
            "_model_module": "@jupyter-widgets/base",
            "_model_module_version": "1.2.0",
            "_model_name": "LayoutModel",
            "_view_count": null,
            "_view_module": "@jupyter-widgets/base",
            "_view_module_version": "1.2.0",
            "_view_name": "LayoutView",
            "align_content": null,
            "align_items": null,
            "align_self": null,
            "border": null,
            "bottom": null,
            "display": null,
            "flex": null,
            "flex_flow": null,
            "grid_area": null,
            "grid_auto_columns": null,
            "grid_auto_flow": null,
            "grid_auto_rows": null,
            "grid_column": null,
            "grid_gap": null,
            "grid_row": null,
            "grid_template_areas": null,
            "grid_template_columns": null,
            "grid_template_rows": null,
            "height": null,
            "justify_content": null,
            "justify_items": null,
            "left": null,
            "margin": null,
            "max_height": null,
            "max_width": null,
            "min_height": null,
            "min_width": null,
            "object_fit": null,
            "object_position": null,
            "order": null,
            "overflow": null,
            "overflow_x": null,
            "overflow_y": null,
            "padding": null,
            "right": null,
            "top": null,
            "visibility": null,
            "width": null
          }
        },
        "4d91a5f2699c462f9a3e458010848879": {
          "model_module": "@jupyter-widgets/controls",
          "model_name": "DescriptionStyleModel",
          "model_module_version": "1.5.0",
          "state": {
            "_model_module": "@jupyter-widgets/controls",
            "_model_module_version": "1.5.0",
            "_model_name": "DescriptionStyleModel",
            "_view_count": null,
            "_view_module": "@jupyter-widgets/base",
            "_view_module_version": "1.2.0",
            "_view_name": "StyleView",
            "description_width": ""
          }
        },
        "792a935016d1433a981e6332e28f84bb": {
          "model_module": "@jupyter-widgets/base",
          "model_name": "LayoutModel",
          "model_module_version": "1.2.0",
          "state": {
            "_model_module": "@jupyter-widgets/base",
            "_model_module_version": "1.2.0",
            "_model_name": "LayoutModel",
            "_view_count": null,
            "_view_module": "@jupyter-widgets/base",
            "_view_module_version": "1.2.0",
            "_view_name": "LayoutView",
            "align_content": null,
            "align_items": null,
            "align_self": null,
            "border": null,
            "bottom": null,
            "display": null,
            "flex": null,
            "flex_flow": null,
            "grid_area": null,
            "grid_auto_columns": null,
            "grid_auto_flow": null,
            "grid_auto_rows": null,
            "grid_column": null,
            "grid_gap": null,
            "grid_row": null,
            "grid_template_areas": null,
            "grid_template_columns": null,
            "grid_template_rows": null,
            "height": null,
            "justify_content": null,
            "justify_items": null,
            "left": null,
            "margin": null,
            "max_height": null,
            "max_width": null,
            "min_height": null,
            "min_width": null,
            "object_fit": null,
            "object_position": null,
            "order": null,
            "overflow": null,
            "overflow_x": null,
            "overflow_y": null,
            "padding": null,
            "right": null,
            "top": null,
            "visibility": null,
            "width": null
          }
        },
        "97a5f68d76b545a7b87073c1033bce6c": {
          "model_module": "@jupyter-widgets/controls",
          "model_name": "ProgressStyleModel",
          "model_module_version": "1.5.0",
          "state": {
            "_model_module": "@jupyter-widgets/controls",
            "_model_module_version": "1.5.0",
            "_model_name": "ProgressStyleModel",
            "_view_count": null,
            "_view_module": "@jupyter-widgets/base",
            "_view_module_version": "1.2.0",
            "_view_name": "StyleView",
            "bar_color": null,
            "description_width": ""
          }
        },
        "f504dc82c3e1417595e7ee255d282535": {
          "model_module": "@jupyter-widgets/base",
          "model_name": "LayoutModel",
          "model_module_version": "1.2.0",
          "state": {
            "_model_module": "@jupyter-widgets/base",
            "_model_module_version": "1.2.0",
            "_model_name": "LayoutModel",
            "_view_count": null,
            "_view_module": "@jupyter-widgets/base",
            "_view_module_version": "1.2.0",
            "_view_name": "LayoutView",
            "align_content": null,
            "align_items": null,
            "align_self": null,
            "border": null,
            "bottom": null,
            "display": null,
            "flex": null,
            "flex_flow": null,
            "grid_area": null,
            "grid_auto_columns": null,
            "grid_auto_flow": null,
            "grid_auto_rows": null,
            "grid_column": null,
            "grid_gap": null,
            "grid_row": null,
            "grid_template_areas": null,
            "grid_template_columns": null,
            "grid_template_rows": null,
            "height": null,
            "justify_content": null,
            "justify_items": null,
            "left": null,
            "margin": null,
            "max_height": null,
            "max_width": null,
            "min_height": null,
            "min_width": null,
            "object_fit": null,
            "object_position": null,
            "order": null,
            "overflow": null,
            "overflow_x": null,
            "overflow_y": null,
            "padding": null,
            "right": null,
            "top": null,
            "visibility": null,
            "width": null
          }
        },
        "22574d3ad6d6439b8b5405b524e15737": {
          "model_module": "@jupyter-widgets/controls",
          "model_name": "DescriptionStyleModel",
          "model_module_version": "1.5.0",
          "state": {
            "_model_module": "@jupyter-widgets/controls",
            "_model_module_version": "1.5.0",
            "_model_name": "DescriptionStyleModel",
            "_view_count": null,
            "_view_module": "@jupyter-widgets/base",
            "_view_module_version": "1.2.0",
            "_view_name": "StyleView",
            "description_width": ""
          }
        },
        "89e62996a804441390e3c24d2ba0d243": {
          "model_module": "@jupyter-widgets/controls",
          "model_name": "HBoxModel",
          "model_module_version": "1.5.0",
          "state": {
            "_dom_classes": [],
            "_model_module": "@jupyter-widgets/controls",
            "_model_module_version": "1.5.0",
            "_model_name": "HBoxModel",
            "_view_count": null,
            "_view_module": "@jupyter-widgets/controls",
            "_view_module_version": "1.5.0",
            "_view_name": "HBoxView",
            "box_style": "",
            "children": [
              "IPY_MODEL_12326580f7754062a52b6b65a244897f",
              "IPY_MODEL_765d33bad5b047d1bea6729a0e131781",
              "IPY_MODEL_9b67f278695b4597a18afe35dfa1e5ad"
            ],
            "layout": "IPY_MODEL_1ce71aa023304bd3838af5ec3757fc88"
          }
        },
        "12326580f7754062a52b6b65a244897f": {
          "model_module": "@jupyter-widgets/controls",
          "model_name": "HTMLModel",
          "model_module_version": "1.5.0",
          "state": {
            "_dom_classes": [],
            "_model_module": "@jupyter-widgets/controls",
            "_model_module_version": "1.5.0",
            "_model_name": "HTMLModel",
            "_view_count": null,
            "_view_module": "@jupyter-widgets/controls",
            "_view_module_version": "1.5.0",
            "_view_name": "HTMLView",
            "description": "",
            "description_tooltip": null,
            "layout": "IPY_MODEL_4ac20569cf56434ba2b767488739980b",
            "placeholder": "​",
            "style": "IPY_MODEL_17ab34be2e3c4e9ca9253d9f39eadd1e",
            "value": "tokenizer_config.json: 100%"
          }
        },
        "765d33bad5b047d1bea6729a0e131781": {
          "model_module": "@jupyter-widgets/controls",
          "model_name": "FloatProgressModel",
          "model_module_version": "1.5.0",
          "state": {
            "_dom_classes": [],
            "_model_module": "@jupyter-widgets/controls",
            "_model_module_version": "1.5.0",
            "_model_name": "FloatProgressModel",
            "_view_count": null,
            "_view_module": "@jupyter-widgets/controls",
            "_view_module_version": "1.5.0",
            "_view_name": "ProgressView",
            "bar_style": "success",
            "description": "",
            "description_tooltip": null,
            "layout": "IPY_MODEL_84b1dcf58c884193ba5a180bb998fbfb",
            "max": 444,
            "min": 0,
            "orientation": "horizontal",
            "style": "IPY_MODEL_b4a65303e6024f0185bcd508d8bbee82",
            "value": 444
          }
        },
        "9b67f278695b4597a18afe35dfa1e5ad": {
          "model_module": "@jupyter-widgets/controls",
          "model_name": "HTMLModel",
          "model_module_version": "1.5.0",
          "state": {
            "_dom_classes": [],
            "_model_module": "@jupyter-widgets/controls",
            "_model_module_version": "1.5.0",
            "_model_name": "HTMLModel",
            "_view_count": null,
            "_view_module": "@jupyter-widgets/controls",
            "_view_module_version": "1.5.0",
            "_view_name": "HTMLView",
            "description": "",
            "description_tooltip": null,
            "layout": "IPY_MODEL_6b1cdc54820d4059948aca1f80a5d00f",
            "placeholder": "​",
            "style": "IPY_MODEL_d94b3717041c423cbbb0c2f289b646e2",
            "value": " 444/444 [00:00&lt;00:00, 3.58kB/s]"
          }
        },
        "1ce71aa023304bd3838af5ec3757fc88": {
          "model_module": "@jupyter-widgets/base",
          "model_name": "LayoutModel",
          "model_module_version": "1.2.0",
          "state": {
            "_model_module": "@jupyter-widgets/base",
            "_model_module_version": "1.2.0",
            "_model_name": "LayoutModel",
            "_view_count": null,
            "_view_module": "@jupyter-widgets/base",
            "_view_module_version": "1.2.0",
            "_view_name": "LayoutView",
            "align_content": null,
            "align_items": null,
            "align_self": null,
            "border": null,
            "bottom": null,
            "display": null,
            "flex": null,
            "flex_flow": null,
            "grid_area": null,
            "grid_auto_columns": null,
            "grid_auto_flow": null,
            "grid_auto_rows": null,
            "grid_column": null,
            "grid_gap": null,
            "grid_row": null,
            "grid_template_areas": null,
            "grid_template_columns": null,
            "grid_template_rows": null,
            "height": null,
            "justify_content": null,
            "justify_items": null,
            "left": null,
            "margin": null,
            "max_height": null,
            "max_width": null,
            "min_height": null,
            "min_width": null,
            "object_fit": null,
            "object_position": null,
            "order": null,
            "overflow": null,
            "overflow_x": null,
            "overflow_y": null,
            "padding": null,
            "right": null,
            "top": null,
            "visibility": null,
            "width": null
          }
        },
        "4ac20569cf56434ba2b767488739980b": {
          "model_module": "@jupyter-widgets/base",
          "model_name": "LayoutModel",
          "model_module_version": "1.2.0",
          "state": {
            "_model_module": "@jupyter-widgets/base",
            "_model_module_version": "1.2.0",
            "_model_name": "LayoutModel",
            "_view_count": null,
            "_view_module": "@jupyter-widgets/base",
            "_view_module_version": "1.2.0",
            "_view_name": "LayoutView",
            "align_content": null,
            "align_items": null,
            "align_self": null,
            "border": null,
            "bottom": null,
            "display": null,
            "flex": null,
            "flex_flow": null,
            "grid_area": null,
            "grid_auto_columns": null,
            "grid_auto_flow": null,
            "grid_auto_rows": null,
            "grid_column": null,
            "grid_gap": null,
            "grid_row": null,
            "grid_template_areas": null,
            "grid_template_columns": null,
            "grid_template_rows": null,
            "height": null,
            "justify_content": null,
            "justify_items": null,
            "left": null,
            "margin": null,
            "max_height": null,
            "max_width": null,
            "min_height": null,
            "min_width": null,
            "object_fit": null,
            "object_position": null,
            "order": null,
            "overflow": null,
            "overflow_x": null,
            "overflow_y": null,
            "padding": null,
            "right": null,
            "top": null,
            "visibility": null,
            "width": null
          }
        },
        "17ab34be2e3c4e9ca9253d9f39eadd1e": {
          "model_module": "@jupyter-widgets/controls",
          "model_name": "DescriptionStyleModel",
          "model_module_version": "1.5.0",
          "state": {
            "_model_module": "@jupyter-widgets/controls",
            "_model_module_version": "1.5.0",
            "_model_name": "DescriptionStyleModel",
            "_view_count": null,
            "_view_module": "@jupyter-widgets/base",
            "_view_module_version": "1.2.0",
            "_view_name": "StyleView",
            "description_width": ""
          }
        },
        "84b1dcf58c884193ba5a180bb998fbfb": {
          "model_module": "@jupyter-widgets/base",
          "model_name": "LayoutModel",
          "model_module_version": "1.2.0",
          "state": {
            "_model_module": "@jupyter-widgets/base",
            "_model_module_version": "1.2.0",
            "_model_name": "LayoutModel",
            "_view_count": null,
            "_view_module": "@jupyter-widgets/base",
            "_view_module_version": "1.2.0",
            "_view_name": "LayoutView",
            "align_content": null,
            "align_items": null,
            "align_self": null,
            "border": null,
            "bottom": null,
            "display": null,
            "flex": null,
            "flex_flow": null,
            "grid_area": null,
            "grid_auto_columns": null,
            "grid_auto_flow": null,
            "grid_auto_rows": null,
            "grid_column": null,
            "grid_gap": null,
            "grid_row": null,
            "grid_template_areas": null,
            "grid_template_columns": null,
            "grid_template_rows": null,
            "height": null,
            "justify_content": null,
            "justify_items": null,
            "left": null,
            "margin": null,
            "max_height": null,
            "max_width": null,
            "min_height": null,
            "min_width": null,
            "object_fit": null,
            "object_position": null,
            "order": null,
            "overflow": null,
            "overflow_x": null,
            "overflow_y": null,
            "padding": null,
            "right": null,
            "top": null,
            "visibility": null,
            "width": null
          }
        },
        "b4a65303e6024f0185bcd508d8bbee82": {
          "model_module": "@jupyter-widgets/controls",
          "model_name": "ProgressStyleModel",
          "model_module_version": "1.5.0",
          "state": {
            "_model_module": "@jupyter-widgets/controls",
            "_model_module_version": "1.5.0",
            "_model_name": "ProgressStyleModel",
            "_view_count": null,
            "_view_module": "@jupyter-widgets/base",
            "_view_module_version": "1.2.0",
            "_view_name": "StyleView",
            "bar_color": null,
            "description_width": ""
          }
        },
        "6b1cdc54820d4059948aca1f80a5d00f": {
          "model_module": "@jupyter-widgets/base",
          "model_name": "LayoutModel",
          "model_module_version": "1.2.0",
          "state": {
            "_model_module": "@jupyter-widgets/base",
            "_model_module_version": "1.2.0",
            "_model_name": "LayoutModel",
            "_view_count": null,
            "_view_module": "@jupyter-widgets/base",
            "_view_module_version": "1.2.0",
            "_view_name": "LayoutView",
            "align_content": null,
            "align_items": null,
            "align_self": null,
            "border": null,
            "bottom": null,
            "display": null,
            "flex": null,
            "flex_flow": null,
            "grid_area": null,
            "grid_auto_columns": null,
            "grid_auto_flow": null,
            "grid_auto_rows": null,
            "grid_column": null,
            "grid_gap": null,
            "grid_row": null,
            "grid_template_areas": null,
            "grid_template_columns": null,
            "grid_template_rows": null,
            "height": null,
            "justify_content": null,
            "justify_items": null,
            "left": null,
            "margin": null,
            "max_height": null,
            "max_width": null,
            "min_height": null,
            "min_width": null,
            "object_fit": null,
            "object_position": null,
            "order": null,
            "overflow": null,
            "overflow_x": null,
            "overflow_y": null,
            "padding": null,
            "right": null,
            "top": null,
            "visibility": null,
            "width": null
          }
        },
        "d94b3717041c423cbbb0c2f289b646e2": {
          "model_module": "@jupyter-widgets/controls",
          "model_name": "DescriptionStyleModel",
          "model_module_version": "1.5.0",
          "state": {
            "_model_module": "@jupyter-widgets/controls",
            "_model_module_version": "1.5.0",
            "_model_name": "DescriptionStyleModel",
            "_view_count": null,
            "_view_module": "@jupyter-widgets/base",
            "_view_module_version": "1.2.0",
            "_view_name": "StyleView",
            "description_width": ""
          }
        },
        "3dbcd28e60cb4e95a0045a1180d892c0": {
          "model_module": "@jupyter-widgets/controls",
          "model_name": "HBoxModel",
          "model_module_version": "1.5.0",
          "state": {
            "_dom_classes": [],
            "_model_module": "@jupyter-widgets/controls",
            "_model_module_version": "1.5.0",
            "_model_name": "HBoxModel",
            "_view_count": null,
            "_view_module": "@jupyter-widgets/controls",
            "_view_module_version": "1.5.0",
            "_view_name": "HBoxView",
            "box_style": "",
            "children": [
              "IPY_MODEL_e7e09a88873b41f7b330ca53855df95e",
              "IPY_MODEL_484fe56e58bb438cb1ee1d27fc282dbf",
              "IPY_MODEL_9104d11b48ef4b77b22f4377e0b28ba1"
            ],
            "layout": "IPY_MODEL_8a199ded862f40d292372a0a2465186b"
          }
        },
        "e7e09a88873b41f7b330ca53855df95e": {
          "model_module": "@jupyter-widgets/controls",
          "model_name": "HTMLModel",
          "model_module_version": "1.5.0",
          "state": {
            "_dom_classes": [],
            "_model_module": "@jupyter-widgets/controls",
            "_model_module_version": "1.5.0",
            "_model_name": "HTMLModel",
            "_view_count": null,
            "_view_module": "@jupyter-widgets/controls",
            "_view_module_version": "1.5.0",
            "_view_name": "HTMLView",
            "description": "",
            "description_tooltip": null,
            "layout": "IPY_MODEL_f24720b1b4bc460c9b7bc0a2c94e291c",
            "placeholder": "​",
            "style": "IPY_MODEL_823f725d61af47b9b2bac057bf9ba134",
            "value": "sentencepiece.bpe.model: 100%"
          }
        },
        "484fe56e58bb438cb1ee1d27fc282dbf": {
          "model_module": "@jupyter-widgets/controls",
          "model_name": "FloatProgressModel",
          "model_module_version": "1.5.0",
          "state": {
            "_dom_classes": [],
            "_model_module": "@jupyter-widgets/controls",
            "_model_module_version": "1.5.0",
            "_model_name": "FloatProgressModel",
            "_view_count": null,
            "_view_module": "@jupyter-widgets/controls",
            "_view_module_version": "1.5.0",
            "_view_name": "ProgressView",
            "bar_style": "success",
            "description": "",
            "description_tooltip": null,
            "layout": "IPY_MODEL_b778a08bf7ba4582807114855c05d9f9",
            "max": 5069051,
            "min": 0,
            "orientation": "horizontal",
            "style": "IPY_MODEL_661939b2bc864ea2ad591abdcd623862",
            "value": 5069051
          }
        },
        "9104d11b48ef4b77b22f4377e0b28ba1": {
          "model_module": "@jupyter-widgets/controls",
          "model_name": "HTMLModel",
          "model_module_version": "1.5.0",
          "state": {
            "_dom_classes": [],
            "_model_module": "@jupyter-widgets/controls",
            "_model_module_version": "1.5.0",
            "_model_name": "HTMLModel",
            "_view_count": null,
            "_view_module": "@jupyter-widgets/controls",
            "_view_module_version": "1.5.0",
            "_view_name": "HTMLView",
            "description": "",
            "description_tooltip": null,
            "layout": "IPY_MODEL_847c4d6b98504462bbeeb756667e0a7a",
            "placeholder": "​",
            "style": "IPY_MODEL_88186279c1b54f23a9ad33875a259908",
            "value": " 5.07M/5.07M [00:00&lt;00:00, 29.6MB/s]"
          }
        },
        "8a199ded862f40d292372a0a2465186b": {
          "model_module": "@jupyter-widgets/base",
          "model_name": "LayoutModel",
          "model_module_version": "1.2.0",
          "state": {
            "_model_module": "@jupyter-widgets/base",
            "_model_module_version": "1.2.0",
            "_model_name": "LayoutModel",
            "_view_count": null,
            "_view_module": "@jupyter-widgets/base",
            "_view_module_version": "1.2.0",
            "_view_name": "LayoutView",
            "align_content": null,
            "align_items": null,
            "align_self": null,
            "border": null,
            "bottom": null,
            "display": null,
            "flex": null,
            "flex_flow": null,
            "grid_area": null,
            "grid_auto_columns": null,
            "grid_auto_flow": null,
            "grid_auto_rows": null,
            "grid_column": null,
            "grid_gap": null,
            "grid_row": null,
            "grid_template_areas": null,
            "grid_template_columns": null,
            "grid_template_rows": null,
            "height": null,
            "justify_content": null,
            "justify_items": null,
            "left": null,
            "margin": null,
            "max_height": null,
            "max_width": null,
            "min_height": null,
            "min_width": null,
            "object_fit": null,
            "object_position": null,
            "order": null,
            "overflow": null,
            "overflow_x": null,
            "overflow_y": null,
            "padding": null,
            "right": null,
            "top": null,
            "visibility": null,
            "width": null
          }
        },
        "f24720b1b4bc460c9b7bc0a2c94e291c": {
          "model_module": "@jupyter-widgets/base",
          "model_name": "LayoutModel",
          "model_module_version": "1.2.0",
          "state": {
            "_model_module": "@jupyter-widgets/base",
            "_model_module_version": "1.2.0",
            "_model_name": "LayoutModel",
            "_view_count": null,
            "_view_module": "@jupyter-widgets/base",
            "_view_module_version": "1.2.0",
            "_view_name": "LayoutView",
            "align_content": null,
            "align_items": null,
            "align_self": null,
            "border": null,
            "bottom": null,
            "display": null,
            "flex": null,
            "flex_flow": null,
            "grid_area": null,
            "grid_auto_columns": null,
            "grid_auto_flow": null,
            "grid_auto_rows": null,
            "grid_column": null,
            "grid_gap": null,
            "grid_row": null,
            "grid_template_areas": null,
            "grid_template_columns": null,
            "grid_template_rows": null,
            "height": null,
            "justify_content": null,
            "justify_items": null,
            "left": null,
            "margin": null,
            "max_height": null,
            "max_width": null,
            "min_height": null,
            "min_width": null,
            "object_fit": null,
            "object_position": null,
            "order": null,
            "overflow": null,
            "overflow_x": null,
            "overflow_y": null,
            "padding": null,
            "right": null,
            "top": null,
            "visibility": null,
            "width": null
          }
        },
        "823f725d61af47b9b2bac057bf9ba134": {
          "model_module": "@jupyter-widgets/controls",
          "model_name": "DescriptionStyleModel",
          "model_module_version": "1.5.0",
          "state": {
            "_model_module": "@jupyter-widgets/controls",
            "_model_module_version": "1.5.0",
            "_model_name": "DescriptionStyleModel",
            "_view_count": null,
            "_view_module": "@jupyter-widgets/base",
            "_view_module_version": "1.2.0",
            "_view_name": "StyleView",
            "description_width": ""
          }
        },
        "b778a08bf7ba4582807114855c05d9f9": {
          "model_module": "@jupyter-widgets/base",
          "model_name": "LayoutModel",
          "model_module_version": "1.2.0",
          "state": {
            "_model_module": "@jupyter-widgets/base",
            "_model_module_version": "1.2.0",
            "_model_name": "LayoutModel",
            "_view_count": null,
            "_view_module": "@jupyter-widgets/base",
            "_view_module_version": "1.2.0",
            "_view_name": "LayoutView",
            "align_content": null,
            "align_items": null,
            "align_self": null,
            "border": null,
            "bottom": null,
            "display": null,
            "flex": null,
            "flex_flow": null,
            "grid_area": null,
            "grid_auto_columns": null,
            "grid_auto_flow": null,
            "grid_auto_rows": null,
            "grid_column": null,
            "grid_gap": null,
            "grid_row": null,
            "grid_template_areas": null,
            "grid_template_columns": null,
            "grid_template_rows": null,
            "height": null,
            "justify_content": null,
            "justify_items": null,
            "left": null,
            "margin": null,
            "max_height": null,
            "max_width": null,
            "min_height": null,
            "min_width": null,
            "object_fit": null,
            "object_position": null,
            "order": null,
            "overflow": null,
            "overflow_x": null,
            "overflow_y": null,
            "padding": null,
            "right": null,
            "top": null,
            "visibility": null,
            "width": null
          }
        },
        "661939b2bc864ea2ad591abdcd623862": {
          "model_module": "@jupyter-widgets/controls",
          "model_name": "ProgressStyleModel",
          "model_module_version": "1.5.0",
          "state": {
            "_model_module": "@jupyter-widgets/controls",
            "_model_module_version": "1.5.0",
            "_model_name": "ProgressStyleModel",
            "_view_count": null,
            "_view_module": "@jupyter-widgets/base",
            "_view_module_version": "1.2.0",
            "_view_name": "StyleView",
            "bar_color": null,
            "description_width": ""
          }
        },
        "847c4d6b98504462bbeeb756667e0a7a": {
          "model_module": "@jupyter-widgets/base",
          "model_name": "LayoutModel",
          "model_module_version": "1.2.0",
          "state": {
            "_model_module": "@jupyter-widgets/base",
            "_model_module_version": "1.2.0",
            "_model_name": "LayoutModel",
            "_view_count": null,
            "_view_module": "@jupyter-widgets/base",
            "_view_module_version": "1.2.0",
            "_view_name": "LayoutView",
            "align_content": null,
            "align_items": null,
            "align_self": null,
            "border": null,
            "bottom": null,
            "display": null,
            "flex": null,
            "flex_flow": null,
            "grid_area": null,
            "grid_auto_columns": null,
            "grid_auto_flow": null,
            "grid_auto_rows": null,
            "grid_column": null,
            "grid_gap": null,
            "grid_row": null,
            "grid_template_areas": null,
            "grid_template_columns": null,
            "grid_template_rows": null,
            "height": null,
            "justify_content": null,
            "justify_items": null,
            "left": null,
            "margin": null,
            "max_height": null,
            "max_width": null,
            "min_height": null,
            "min_width": null,
            "object_fit": null,
            "object_position": null,
            "order": null,
            "overflow": null,
            "overflow_x": null,
            "overflow_y": null,
            "padding": null,
            "right": null,
            "top": null,
            "visibility": null,
            "width": null
          }
        },
        "88186279c1b54f23a9ad33875a259908": {
          "model_module": "@jupyter-widgets/controls",
          "model_name": "DescriptionStyleModel",
          "model_module_version": "1.5.0",
          "state": {
            "_model_module": "@jupyter-widgets/controls",
            "_model_module_version": "1.5.0",
            "_model_name": "DescriptionStyleModel",
            "_view_count": null,
            "_view_module": "@jupyter-widgets/base",
            "_view_module_version": "1.2.0",
            "_view_name": "StyleView",
            "description_width": ""
          }
        },
        "00b6b8ba87f8401fa880e6745c33b49d": {
          "model_module": "@jupyter-widgets/controls",
          "model_name": "HBoxModel",
          "model_module_version": "1.5.0",
          "state": {
            "_dom_classes": [],
            "_model_module": "@jupyter-widgets/controls",
            "_model_module_version": "1.5.0",
            "_model_name": "HBoxModel",
            "_view_count": null,
            "_view_module": "@jupyter-widgets/controls",
            "_view_module_version": "1.5.0",
            "_view_name": "HBoxView",
            "box_style": "",
            "children": [
              "IPY_MODEL_be058925032f4ef596a18baf24b76375",
              "IPY_MODEL_15d6ebde3e8c44c7a67d1d96bcdaa349",
              "IPY_MODEL_364846345170414e8bbdbdd72f70d71c"
            ],
            "layout": "IPY_MODEL_64f96ecf7be84b84915477f4c72e2721"
          }
        },
        "be058925032f4ef596a18baf24b76375": {
          "model_module": "@jupyter-widgets/controls",
          "model_name": "HTMLModel",
          "model_module_version": "1.5.0",
          "state": {
            "_dom_classes": [],
            "_model_module": "@jupyter-widgets/controls",
            "_model_module_version": "1.5.0",
            "_model_name": "HTMLModel",
            "_view_count": null,
            "_view_module": "@jupyter-widgets/controls",
            "_view_module_version": "1.5.0",
            "_view_name": "HTMLView",
            "description": "",
            "description_tooltip": null,
            "layout": "IPY_MODEL_70be363936aa46d692e3be4cf185d0af",
            "placeholder": "​",
            "style": "IPY_MODEL_366680d6cfe142af82a3d0b6c9e2c317",
            "value": "pytorch_model.bin: 100%"
          }
        },
        "15d6ebde3e8c44c7a67d1d96bcdaa349": {
          "model_module": "@jupyter-widgets/controls",
          "model_name": "FloatProgressModel",
          "model_module_version": "1.5.0",
          "state": {
            "_dom_classes": [],
            "_model_module": "@jupyter-widgets/controls",
            "_model_module_version": "1.5.0",
            "_model_name": "FloatProgressModel",
            "_view_count": null,
            "_view_module": "@jupyter-widgets/controls",
            "_view_module_version": "1.5.0",
            "_view_name": "ProgressView",
            "bar_style": "success",
            "description": "",
            "description_tooltip": null,
            "layout": "IPY_MODEL_387e9b7ec4f24e8d90f504fbafffacd4",
            "max": 2271145830,
            "min": 0,
            "orientation": "horizontal",
            "style": "IPY_MODEL_e0b88d24a5c246ad94d7f3ce92a8d204",
            "value": 2271145830
          }
        },
        "364846345170414e8bbdbdd72f70d71c": {
          "model_module": "@jupyter-widgets/controls",
          "model_name": "HTMLModel",
          "model_module_version": "1.5.0",
          "state": {
            "_dom_classes": [],
            "_model_module": "@jupyter-widgets/controls",
            "_model_module_version": "1.5.0",
            "_model_name": "HTMLModel",
            "_view_count": null,
            "_view_module": "@jupyter-widgets/controls",
            "_view_module_version": "1.5.0",
            "_view_name": "HTMLView",
            "description": "",
            "description_tooltip": null,
            "layout": "IPY_MODEL_d3cfd39a338d4299a9799f9a9ea76311",
            "placeholder": "​",
            "style": "IPY_MODEL_9496855879324c17a744a8f4e24092f1",
            "value": " 2.27G/2.27G [00:24&lt;00:00, 63.0MB/s]"
          }
        },
        "64f96ecf7be84b84915477f4c72e2721": {
          "model_module": "@jupyter-widgets/base",
          "model_name": "LayoutModel",
          "model_module_version": "1.2.0",
          "state": {
            "_model_module": "@jupyter-widgets/base",
            "_model_module_version": "1.2.0",
            "_model_name": "LayoutModel",
            "_view_count": null,
            "_view_module": "@jupyter-widgets/base",
            "_view_module_version": "1.2.0",
            "_view_name": "LayoutView",
            "align_content": null,
            "align_items": null,
            "align_self": null,
            "border": null,
            "bottom": null,
            "display": null,
            "flex": null,
            "flex_flow": null,
            "grid_area": null,
            "grid_auto_columns": null,
            "grid_auto_flow": null,
            "grid_auto_rows": null,
            "grid_column": null,
            "grid_gap": null,
            "grid_row": null,
            "grid_template_areas": null,
            "grid_template_columns": null,
            "grid_template_rows": null,
            "height": null,
            "justify_content": null,
            "justify_items": null,
            "left": null,
            "margin": null,
            "max_height": null,
            "max_width": null,
            "min_height": null,
            "min_width": null,
            "object_fit": null,
            "object_position": null,
            "order": null,
            "overflow": null,
            "overflow_x": null,
            "overflow_y": null,
            "padding": null,
            "right": null,
            "top": null,
            "visibility": null,
            "width": null
          }
        },
        "70be363936aa46d692e3be4cf185d0af": {
          "model_module": "@jupyter-widgets/base",
          "model_name": "LayoutModel",
          "model_module_version": "1.2.0",
          "state": {
            "_model_module": "@jupyter-widgets/base",
            "_model_module_version": "1.2.0",
            "_model_name": "LayoutModel",
            "_view_count": null,
            "_view_module": "@jupyter-widgets/base",
            "_view_module_version": "1.2.0",
            "_view_name": "LayoutView",
            "align_content": null,
            "align_items": null,
            "align_self": null,
            "border": null,
            "bottom": null,
            "display": null,
            "flex": null,
            "flex_flow": null,
            "grid_area": null,
            "grid_auto_columns": null,
            "grid_auto_flow": null,
            "grid_auto_rows": null,
            "grid_column": null,
            "grid_gap": null,
            "grid_row": null,
            "grid_template_areas": null,
            "grid_template_columns": null,
            "grid_template_rows": null,
            "height": null,
            "justify_content": null,
            "justify_items": null,
            "left": null,
            "margin": null,
            "max_height": null,
            "max_width": null,
            "min_height": null,
            "min_width": null,
            "object_fit": null,
            "object_position": null,
            "order": null,
            "overflow": null,
            "overflow_x": null,
            "overflow_y": null,
            "padding": null,
            "right": null,
            "top": null,
            "visibility": null,
            "width": null
          }
        },
        "366680d6cfe142af82a3d0b6c9e2c317": {
          "model_module": "@jupyter-widgets/controls",
          "model_name": "DescriptionStyleModel",
          "model_module_version": "1.5.0",
          "state": {
            "_model_module": "@jupyter-widgets/controls",
            "_model_module_version": "1.5.0",
            "_model_name": "DescriptionStyleModel",
            "_view_count": null,
            "_view_module": "@jupyter-widgets/base",
            "_view_module_version": "1.2.0",
            "_view_name": "StyleView",
            "description_width": ""
          }
        },
        "387e9b7ec4f24e8d90f504fbafffacd4": {
          "model_module": "@jupyter-widgets/base",
          "model_name": "LayoutModel",
          "model_module_version": "1.2.0",
          "state": {
            "_model_module": "@jupyter-widgets/base",
            "_model_module_version": "1.2.0",
            "_model_name": "LayoutModel",
            "_view_count": null,
            "_view_module": "@jupyter-widgets/base",
            "_view_module_version": "1.2.0",
            "_view_name": "LayoutView",
            "align_content": null,
            "align_items": null,
            "align_self": null,
            "border": null,
            "bottom": null,
            "display": null,
            "flex": null,
            "flex_flow": null,
            "grid_area": null,
            "grid_auto_columns": null,
            "grid_auto_flow": null,
            "grid_auto_rows": null,
            "grid_column": null,
            "grid_gap": null,
            "grid_row": null,
            "grid_template_areas": null,
            "grid_template_columns": null,
            "grid_template_rows": null,
            "height": null,
            "justify_content": null,
            "justify_items": null,
            "left": null,
            "margin": null,
            "max_height": null,
            "max_width": null,
            "min_height": null,
            "min_width": null,
            "object_fit": null,
            "object_position": null,
            "order": null,
            "overflow": null,
            "overflow_x": null,
            "overflow_y": null,
            "padding": null,
            "right": null,
            "top": null,
            "visibility": null,
            "width": null
          }
        },
        "e0b88d24a5c246ad94d7f3ce92a8d204": {
          "model_module": "@jupyter-widgets/controls",
          "model_name": "ProgressStyleModel",
          "model_module_version": "1.5.0",
          "state": {
            "_model_module": "@jupyter-widgets/controls",
            "_model_module_version": "1.5.0",
            "_model_name": "ProgressStyleModel",
            "_view_count": null,
            "_view_module": "@jupyter-widgets/base",
            "_view_module_version": "1.2.0",
            "_view_name": "StyleView",
            "bar_color": null,
            "description_width": ""
          }
        },
        "d3cfd39a338d4299a9799f9a9ea76311": {
          "model_module": "@jupyter-widgets/base",
          "model_name": "LayoutModel",
          "model_module_version": "1.2.0",
          "state": {
            "_model_module": "@jupyter-widgets/base",
            "_model_module_version": "1.2.0",
            "_model_name": "LayoutModel",
            "_view_count": null,
            "_view_module": "@jupyter-widgets/base",
            "_view_module_version": "1.2.0",
            "_view_name": "LayoutView",
            "align_content": null,
            "align_items": null,
            "align_self": null,
            "border": null,
            "bottom": null,
            "display": null,
            "flex": null,
            "flex_flow": null,
            "grid_area": null,
            "grid_auto_columns": null,
            "grid_auto_flow": null,
            "grid_auto_rows": null,
            "grid_column": null,
            "grid_gap": null,
            "grid_row": null,
            "grid_template_areas": null,
            "grid_template_columns": null,
            "grid_template_rows": null,
            "height": null,
            "justify_content": null,
            "justify_items": null,
            "left": null,
            "margin": null,
            "max_height": null,
            "max_width": null,
            "min_height": null,
            "min_width": null,
            "object_fit": null,
            "object_position": null,
            "order": null,
            "overflow": null,
            "overflow_x": null,
            "overflow_y": null,
            "padding": null,
            "right": null,
            "top": null,
            "visibility": null,
            "width": null
          }
        },
        "9496855879324c17a744a8f4e24092f1": {
          "model_module": "@jupyter-widgets/controls",
          "model_name": "DescriptionStyleModel",
          "model_module_version": "1.5.0",
          "state": {
            "_model_module": "@jupyter-widgets/controls",
            "_model_module_version": "1.5.0",
            "_model_name": "DescriptionStyleModel",
            "_view_count": null,
            "_view_module": "@jupyter-widgets/base",
            "_view_module_version": "1.2.0",
            "_view_name": "StyleView",
            "description_width": ""
          }
        },
        "d5b4b441b8a4461cb3e4d2770ffb0154": {
          "model_module": "@jupyter-widgets/controls",
          "model_name": "HBoxModel",
          "model_module_version": "1.5.0",
          "state": {
            "_dom_classes": [],
            "_model_module": "@jupyter-widgets/controls",
            "_model_module_version": "1.5.0",
            "_model_name": "HBoxModel",
            "_view_count": null,
            "_view_module": "@jupyter-widgets/controls",
            "_view_module_version": "1.5.0",
            "_view_name": "HBoxView",
            "box_style": "",
            "children": [
              "IPY_MODEL_86b43e409b1e4aeaaf04533eb347a835",
              "IPY_MODEL_a2ace506193d4894bf3a2ec9eb4e03ac",
              "IPY_MODEL_1660a4264ece423fbc48513d09d7ce0a"
            ],
            "layout": "IPY_MODEL_f38da942ea4345c0961b98dd249f9a04"
          }
        },
        "86b43e409b1e4aeaaf04533eb347a835": {
          "model_module": "@jupyter-widgets/controls",
          "model_name": "HTMLModel",
          "model_module_version": "1.5.0",
          "state": {
            "_dom_classes": [],
            "_model_module": "@jupyter-widgets/controls",
            "_model_module_version": "1.5.0",
            "_model_name": "HTMLModel",
            "_view_count": null,
            "_view_module": "@jupyter-widgets/controls",
            "_view_module_version": "1.5.0",
            "_view_name": "HTMLView",
            "description": "",
            "description_tooltip": null,
            "layout": "IPY_MODEL_644bfbc39bca4ce290c323af89548c02",
            "placeholder": "​",
            "style": "IPY_MODEL_72e26c46f3e54fbd8f1b176219aa388d",
            "value": "tokenizer.json: 100%"
          }
        },
        "a2ace506193d4894bf3a2ec9eb4e03ac": {
          "model_module": "@jupyter-widgets/controls",
          "model_name": "FloatProgressModel",
          "model_module_version": "1.5.0",
          "state": {
            "_dom_classes": [],
            "_model_module": "@jupyter-widgets/controls",
            "_model_module_version": "1.5.0",
            "_model_name": "FloatProgressModel",
            "_view_count": null,
            "_view_module": "@jupyter-widgets/controls",
            "_view_module_version": "1.5.0",
            "_view_name": "ProgressView",
            "bar_style": "success",
            "description": "",
            "description_tooltip": null,
            "layout": "IPY_MODEL_26911a79ee2d4b20b66cdb06307a35e9",
            "max": 17098108,
            "min": 0,
            "orientation": "horizontal",
            "style": "IPY_MODEL_ef7847056e9b4e4fbb9c2ba3c8e53baf",
            "value": 17098108
          }
        },
        "1660a4264ece423fbc48513d09d7ce0a": {
          "model_module": "@jupyter-widgets/controls",
          "model_name": "HTMLModel",
          "model_module_version": "1.5.0",
          "state": {
            "_dom_classes": [],
            "_model_module": "@jupyter-widgets/controls",
            "_model_module_version": "1.5.0",
            "_model_name": "HTMLModel",
            "_view_count": null,
            "_view_module": "@jupyter-widgets/controls",
            "_view_module_version": "1.5.0",
            "_view_name": "HTMLView",
            "description": "",
            "description_tooltip": null,
            "layout": "IPY_MODEL_a63a2869684041309830e5e4013efa04",
            "placeholder": "​",
            "style": "IPY_MODEL_8357eef8e7694bb7924f21b490428899",
            "value": " 17.1M/17.1M [00:00&lt;00:00, 50.8MB/s]"
          }
        },
        "f38da942ea4345c0961b98dd249f9a04": {
          "model_module": "@jupyter-widgets/base",
          "model_name": "LayoutModel",
          "model_module_version": "1.2.0",
          "state": {
            "_model_module": "@jupyter-widgets/base",
            "_model_module_version": "1.2.0",
            "_model_name": "LayoutModel",
            "_view_count": null,
            "_view_module": "@jupyter-widgets/base",
            "_view_module_version": "1.2.0",
            "_view_name": "LayoutView",
            "align_content": null,
            "align_items": null,
            "align_self": null,
            "border": null,
            "bottom": null,
            "display": null,
            "flex": null,
            "flex_flow": null,
            "grid_area": null,
            "grid_auto_columns": null,
            "grid_auto_flow": null,
            "grid_auto_rows": null,
            "grid_column": null,
            "grid_gap": null,
            "grid_row": null,
            "grid_template_areas": null,
            "grid_template_columns": null,
            "grid_template_rows": null,
            "height": null,
            "justify_content": null,
            "justify_items": null,
            "left": null,
            "margin": null,
            "max_height": null,
            "max_width": null,
            "min_height": null,
            "min_width": null,
            "object_fit": null,
            "object_position": null,
            "order": null,
            "overflow": null,
            "overflow_x": null,
            "overflow_y": null,
            "padding": null,
            "right": null,
            "top": null,
            "visibility": null,
            "width": null
          }
        },
        "644bfbc39bca4ce290c323af89548c02": {
          "model_module": "@jupyter-widgets/base",
          "model_name": "LayoutModel",
          "model_module_version": "1.2.0",
          "state": {
            "_model_module": "@jupyter-widgets/base",
            "_model_module_version": "1.2.0",
            "_model_name": "LayoutModel",
            "_view_count": null,
            "_view_module": "@jupyter-widgets/base",
            "_view_module_version": "1.2.0",
            "_view_name": "LayoutView",
            "align_content": null,
            "align_items": null,
            "align_self": null,
            "border": null,
            "bottom": null,
            "display": null,
            "flex": null,
            "flex_flow": null,
            "grid_area": null,
            "grid_auto_columns": null,
            "grid_auto_flow": null,
            "grid_auto_rows": null,
            "grid_column": null,
            "grid_gap": null,
            "grid_row": null,
            "grid_template_areas": null,
            "grid_template_columns": null,
            "grid_template_rows": null,
            "height": null,
            "justify_content": null,
            "justify_items": null,
            "left": null,
            "margin": null,
            "max_height": null,
            "max_width": null,
            "min_height": null,
            "min_width": null,
            "object_fit": null,
            "object_position": null,
            "order": null,
            "overflow": null,
            "overflow_x": null,
            "overflow_y": null,
            "padding": null,
            "right": null,
            "top": null,
            "visibility": null,
            "width": null
          }
        },
        "72e26c46f3e54fbd8f1b176219aa388d": {
          "model_module": "@jupyter-widgets/controls",
          "model_name": "DescriptionStyleModel",
          "model_module_version": "1.5.0",
          "state": {
            "_model_module": "@jupyter-widgets/controls",
            "_model_module_version": "1.5.0",
            "_model_name": "DescriptionStyleModel",
            "_view_count": null,
            "_view_module": "@jupyter-widgets/base",
            "_view_module_version": "1.2.0",
            "_view_name": "StyleView",
            "description_width": ""
          }
        },
        "26911a79ee2d4b20b66cdb06307a35e9": {
          "model_module": "@jupyter-widgets/base",
          "model_name": "LayoutModel",
          "model_module_version": "1.2.0",
          "state": {
            "_model_module": "@jupyter-widgets/base",
            "_model_module_version": "1.2.0",
            "_model_name": "LayoutModel",
            "_view_count": null,
            "_view_module": "@jupyter-widgets/base",
            "_view_module_version": "1.2.0",
            "_view_name": "LayoutView",
            "align_content": null,
            "align_items": null,
            "align_self": null,
            "border": null,
            "bottom": null,
            "display": null,
            "flex": null,
            "flex_flow": null,
            "grid_area": null,
            "grid_auto_columns": null,
            "grid_auto_flow": null,
            "grid_auto_rows": null,
            "grid_column": null,
            "grid_gap": null,
            "grid_row": null,
            "grid_template_areas": null,
            "grid_template_columns": null,
            "grid_template_rows": null,
            "height": null,
            "justify_content": null,
            "justify_items": null,
            "left": null,
            "margin": null,
            "max_height": null,
            "max_width": null,
            "min_height": null,
            "min_width": null,
            "object_fit": null,
            "object_position": null,
            "order": null,
            "overflow": null,
            "overflow_x": null,
            "overflow_y": null,
            "padding": null,
            "right": null,
            "top": null,
            "visibility": null,
            "width": null
          }
        },
        "ef7847056e9b4e4fbb9c2ba3c8e53baf": {
          "model_module": "@jupyter-widgets/controls",
          "model_name": "ProgressStyleModel",
          "model_module_version": "1.5.0",
          "state": {
            "_model_module": "@jupyter-widgets/controls",
            "_model_module_version": "1.5.0",
            "_model_name": "ProgressStyleModel",
            "_view_count": null,
            "_view_module": "@jupyter-widgets/base",
            "_view_module_version": "1.2.0",
            "_view_name": "StyleView",
            "bar_color": null,
            "description_width": ""
          }
        },
        "a63a2869684041309830e5e4013efa04": {
          "model_module": "@jupyter-widgets/base",
          "model_name": "LayoutModel",
          "model_module_version": "1.2.0",
          "state": {
            "_model_module": "@jupyter-widgets/base",
            "_model_module_version": "1.2.0",
            "_model_name": "LayoutModel",
            "_view_count": null,
            "_view_module": "@jupyter-widgets/base",
            "_view_module_version": "1.2.0",
            "_view_name": "LayoutView",
            "align_content": null,
            "align_items": null,
            "align_self": null,
            "border": null,
            "bottom": null,
            "display": null,
            "flex": null,
            "flex_flow": null,
            "grid_area": null,
            "grid_auto_columns": null,
            "grid_auto_flow": null,
            "grid_auto_rows": null,
            "grid_column": null,
            "grid_gap": null,
            "grid_row": null,
            "grid_template_areas": null,
            "grid_template_columns": null,
            "grid_template_rows": null,
            "height": null,
            "justify_content": null,
            "justify_items": null,
            "left": null,
            "margin": null,
            "max_height": null,
            "max_width": null,
            "min_height": null,
            "min_width": null,
            "object_fit": null,
            "object_position": null,
            "order": null,
            "overflow": null,
            "overflow_x": null,
            "overflow_y": null,
            "padding": null,
            "right": null,
            "top": null,
            "visibility": null,
            "width": null
          }
        },
        "8357eef8e7694bb7924f21b490428899": {
          "model_module": "@jupyter-widgets/controls",
          "model_name": "DescriptionStyleModel",
          "model_module_version": "1.5.0",
          "state": {
            "_model_module": "@jupyter-widgets/controls",
            "_model_module_version": "1.5.0",
            "_model_name": "DescriptionStyleModel",
            "_view_count": null,
            "_view_module": "@jupyter-widgets/base",
            "_view_module_version": "1.2.0",
            "_view_name": "StyleView",
            "description_width": ""
          }
        },
        "2ce955c4f7574b1db2b0b0491ff5c90c": {
          "model_module": "@jupyter-widgets/controls",
          "model_name": "HBoxModel",
          "model_module_version": "1.5.0",
          "state": {
            "_dom_classes": [],
            "_model_module": "@jupyter-widgets/controls",
            "_model_module_version": "1.5.0",
            "_model_name": "HBoxModel",
            "_view_count": null,
            "_view_module": "@jupyter-widgets/controls",
            "_view_module_version": "1.5.0",
            "_view_name": "HBoxView",
            "box_style": "",
            "children": [
              "IPY_MODEL_e4010560e54e4c14a7cd4b25b830eb14",
              "IPY_MODEL_898b7f5c341a4981924d0f8a39fa0d6e",
              "IPY_MODEL_cffac7d74f6e48a5bce4a1b92706e569"
            ],
            "layout": "IPY_MODEL_b0cf97f5c3e142519f471da287157c7b"
          }
        },
        "e4010560e54e4c14a7cd4b25b830eb14": {
          "model_module": "@jupyter-widgets/controls",
          "model_name": "HTMLModel",
          "model_module_version": "1.5.0",
          "state": {
            "_dom_classes": [],
            "_model_module": "@jupyter-widgets/controls",
            "_model_module_version": "1.5.0",
            "_model_name": "HTMLModel",
            "_view_count": null,
            "_view_module": "@jupyter-widgets/controls",
            "_view_module_version": "1.5.0",
            "_view_name": "HTMLView",
            "description": "",
            "description_tooltip": null,
            "layout": "IPY_MODEL_640157f9e05b490ca84b86c0b5d75683",
            "placeholder": "​",
            "style": "IPY_MODEL_d488ae5e136143c08543c423bd7a9c16",
            "value": "sparse_linear.pt: 100%"
          }
        },
        "898b7f5c341a4981924d0f8a39fa0d6e": {
          "model_module": "@jupyter-widgets/controls",
          "model_name": "FloatProgressModel",
          "model_module_version": "1.5.0",
          "state": {
            "_dom_classes": [],
            "_model_module": "@jupyter-widgets/controls",
            "_model_module_version": "1.5.0",
            "_model_name": "FloatProgressModel",
            "_view_count": null,
            "_view_module": "@jupyter-widgets/controls",
            "_view_module_version": "1.5.0",
            "_view_name": "ProgressView",
            "bar_style": "success",
            "description": "",
            "description_tooltip": null,
            "layout": "IPY_MODEL_d1d23fb4f36748c59618f77492656c19",
            "max": 3516,
            "min": 0,
            "orientation": "horizontal",
            "style": "IPY_MODEL_6cfdce8fd1714e89b70a0b85362c2a11",
            "value": 3516
          }
        },
        "cffac7d74f6e48a5bce4a1b92706e569": {
          "model_module": "@jupyter-widgets/controls",
          "model_name": "HTMLModel",
          "model_module_version": "1.5.0",
          "state": {
            "_dom_classes": [],
            "_model_module": "@jupyter-widgets/controls",
            "_model_module_version": "1.5.0",
            "_model_name": "HTMLModel",
            "_view_count": null,
            "_view_module": "@jupyter-widgets/controls",
            "_view_module_version": "1.5.0",
            "_view_name": "HTMLView",
            "description": "",
            "description_tooltip": null,
            "layout": "IPY_MODEL_deb76964f0c24499a4e14a83ec2b7a45",
            "placeholder": "​",
            "style": "IPY_MODEL_23714c8c222541dc8937f47b715c1bfd",
            "value": " 3.52k/3.52k [00:00&lt;00:00, 50.1kB/s]"
          }
        },
        "b0cf97f5c3e142519f471da287157c7b": {
          "model_module": "@jupyter-widgets/base",
          "model_name": "LayoutModel",
          "model_module_version": "1.2.0",
          "state": {
            "_model_module": "@jupyter-widgets/base",
            "_model_module_version": "1.2.0",
            "_model_name": "LayoutModel",
            "_view_count": null,
            "_view_module": "@jupyter-widgets/base",
            "_view_module_version": "1.2.0",
            "_view_name": "LayoutView",
            "align_content": null,
            "align_items": null,
            "align_self": null,
            "border": null,
            "bottom": null,
            "display": null,
            "flex": null,
            "flex_flow": null,
            "grid_area": null,
            "grid_auto_columns": null,
            "grid_auto_flow": null,
            "grid_auto_rows": null,
            "grid_column": null,
            "grid_gap": null,
            "grid_row": null,
            "grid_template_areas": null,
            "grid_template_columns": null,
            "grid_template_rows": null,
            "height": null,
            "justify_content": null,
            "justify_items": null,
            "left": null,
            "margin": null,
            "max_height": null,
            "max_width": null,
            "min_height": null,
            "min_width": null,
            "object_fit": null,
            "object_position": null,
            "order": null,
            "overflow": null,
            "overflow_x": null,
            "overflow_y": null,
            "padding": null,
            "right": null,
            "top": null,
            "visibility": null,
            "width": null
          }
        },
        "640157f9e05b490ca84b86c0b5d75683": {
          "model_module": "@jupyter-widgets/base",
          "model_name": "LayoutModel",
          "model_module_version": "1.2.0",
          "state": {
            "_model_module": "@jupyter-widgets/base",
            "_model_module_version": "1.2.0",
            "_model_name": "LayoutModel",
            "_view_count": null,
            "_view_module": "@jupyter-widgets/base",
            "_view_module_version": "1.2.0",
            "_view_name": "LayoutView",
            "align_content": null,
            "align_items": null,
            "align_self": null,
            "border": null,
            "bottom": null,
            "display": null,
            "flex": null,
            "flex_flow": null,
            "grid_area": null,
            "grid_auto_columns": null,
            "grid_auto_flow": null,
            "grid_auto_rows": null,
            "grid_column": null,
            "grid_gap": null,
            "grid_row": null,
            "grid_template_areas": null,
            "grid_template_columns": null,
            "grid_template_rows": null,
            "height": null,
            "justify_content": null,
            "justify_items": null,
            "left": null,
            "margin": null,
            "max_height": null,
            "max_width": null,
            "min_height": null,
            "min_width": null,
            "object_fit": null,
            "object_position": null,
            "order": null,
            "overflow": null,
            "overflow_x": null,
            "overflow_y": null,
            "padding": null,
            "right": null,
            "top": null,
            "visibility": null,
            "width": null
          }
        },
        "d488ae5e136143c08543c423bd7a9c16": {
          "model_module": "@jupyter-widgets/controls",
          "model_name": "DescriptionStyleModel",
          "model_module_version": "1.5.0",
          "state": {
            "_model_module": "@jupyter-widgets/controls",
            "_model_module_version": "1.5.0",
            "_model_name": "DescriptionStyleModel",
            "_view_count": null,
            "_view_module": "@jupyter-widgets/base",
            "_view_module_version": "1.2.0",
            "_view_name": "StyleView",
            "description_width": ""
          }
        },
        "d1d23fb4f36748c59618f77492656c19": {
          "model_module": "@jupyter-widgets/base",
          "model_name": "LayoutModel",
          "model_module_version": "1.2.0",
          "state": {
            "_model_module": "@jupyter-widgets/base",
            "_model_module_version": "1.2.0",
            "_model_name": "LayoutModel",
            "_view_count": null,
            "_view_module": "@jupyter-widgets/base",
            "_view_module_version": "1.2.0",
            "_view_name": "LayoutView",
            "align_content": null,
            "align_items": null,
            "align_self": null,
            "border": null,
            "bottom": null,
            "display": null,
            "flex": null,
            "flex_flow": null,
            "grid_area": null,
            "grid_auto_columns": null,
            "grid_auto_flow": null,
            "grid_auto_rows": null,
            "grid_column": null,
            "grid_gap": null,
            "grid_row": null,
            "grid_template_areas": null,
            "grid_template_columns": null,
            "grid_template_rows": null,
            "height": null,
            "justify_content": null,
            "justify_items": null,
            "left": null,
            "margin": null,
            "max_height": null,
            "max_width": null,
            "min_height": null,
            "min_width": null,
            "object_fit": null,
            "object_position": null,
            "order": null,
            "overflow": null,
            "overflow_x": null,
            "overflow_y": null,
            "padding": null,
            "right": null,
            "top": null,
            "visibility": null,
            "width": null
          }
        },
        "6cfdce8fd1714e89b70a0b85362c2a11": {
          "model_module": "@jupyter-widgets/controls",
          "model_name": "ProgressStyleModel",
          "model_module_version": "1.5.0",
          "state": {
            "_model_module": "@jupyter-widgets/controls",
            "_model_module_version": "1.5.0",
            "_model_name": "ProgressStyleModel",
            "_view_count": null,
            "_view_module": "@jupyter-widgets/base",
            "_view_module_version": "1.2.0",
            "_view_name": "StyleView",
            "bar_color": null,
            "description_width": ""
          }
        },
        "deb76964f0c24499a4e14a83ec2b7a45": {
          "model_module": "@jupyter-widgets/base",
          "model_name": "LayoutModel",
          "model_module_version": "1.2.0",
          "state": {
            "_model_module": "@jupyter-widgets/base",
            "_model_module_version": "1.2.0",
            "_model_name": "LayoutModel",
            "_view_count": null,
            "_view_module": "@jupyter-widgets/base",
            "_view_module_version": "1.2.0",
            "_view_name": "LayoutView",
            "align_content": null,
            "align_items": null,
            "align_self": null,
            "border": null,
            "bottom": null,
            "display": null,
            "flex": null,
            "flex_flow": null,
            "grid_area": null,
            "grid_auto_columns": null,
            "grid_auto_flow": null,
            "grid_auto_rows": null,
            "grid_column": null,
            "grid_gap": null,
            "grid_row": null,
            "grid_template_areas": null,
            "grid_template_columns": null,
            "grid_template_rows": null,
            "height": null,
            "justify_content": null,
            "justify_items": null,
            "left": null,
            "margin": null,
            "max_height": null,
            "max_width": null,
            "min_height": null,
            "min_width": null,
            "object_fit": null,
            "object_position": null,
            "order": null,
            "overflow": null,
            "overflow_x": null,
            "overflow_y": null,
            "padding": null,
            "right": null,
            "top": null,
            "visibility": null,
            "width": null
          }
        },
        "23714c8c222541dc8937f47b715c1bfd": {
          "model_module": "@jupyter-widgets/controls",
          "model_name": "DescriptionStyleModel",
          "model_module_version": "1.5.0",
          "state": {
            "_model_module": "@jupyter-widgets/controls",
            "_model_module_version": "1.5.0",
            "_model_name": "DescriptionStyleModel",
            "_view_count": null,
            "_view_module": "@jupyter-widgets/base",
            "_view_module_version": "1.2.0",
            "_view_name": "StyleView",
            "description_width": ""
          }
        }
      }
    }
  },
  "cells": [
    {
      "cell_type": "markdown",
      "metadata": {
        "id": "view-in-github",
        "colab_type": "text"
      },
      "source": [
        "<a href=\"https://colab.research.google.com/github/flora0110/sentence_prediction/blob/main/bge_m3_KNN.ipynb\" target=\"_parent\"><img src=\"https://colab.research.google.com/assets/colab-badge.svg\" alt=\"Open In Colab\"/></a>"
      ]
    },
    {
      "cell_type": "markdown",
      "source": [
        "# Imports"
      ],
      "metadata": {
        "id": "dmETOAan8L-5"
      }
    },
    {
      "cell_type": "code",
      "source": [
        "!pip install udicOpenData"
      ],
      "metadata": {
        "colab": {
          "base_uri": "https://localhost:8080/"
        },
        "id": "KVcjokdX9Vv8",
        "outputId": "89570796-f6c4-4b00-b8a7-5d4ef9215cbc"
      },
      "execution_count": 2,
      "outputs": [
        {
          "output_type": "stream",
          "name": "stdout",
          "text": [
            "Collecting udicOpenData\n",
            "  Downloading udicOpenData-2.4.tar.gz (17.8 MB)\n",
            "\u001b[2K     \u001b[90m━━━━━━━━━━━━━━━━━━━━━━━━━━━━━━━━━━━━━━━━\u001b[0m \u001b[32m17.8/17.8 MB\u001b[0m \u001b[31m6.0 MB/s\u001b[0m eta \u001b[36m0:00:00\u001b[0m\n",
            "\u001b[?25h  Preparing metadata (setup.py) ... \u001b[?25l\u001b[?25hdone\n",
            "Requirement already satisfied: jieba in /usr/local/lib/python3.10/dist-packages (from udicOpenData) (0.42.1)\n",
            "Requirement already satisfied: nltk in /usr/local/lib/python3.10/dist-packages (from udicOpenData) (3.8.1)\n",
            "Requirement already satisfied: numpy in /usr/local/lib/python3.10/dist-packages (from udicOpenData) (1.25.2)\n",
            "Requirement already satisfied: click in /usr/local/lib/python3.10/dist-packages (from nltk->udicOpenData) (8.1.7)\n",
            "Requirement already satisfied: joblib in /usr/local/lib/python3.10/dist-packages (from nltk->udicOpenData) (1.4.0)\n",
            "Requirement already satisfied: regex>=2021.8.3 in /usr/local/lib/python3.10/dist-packages (from nltk->udicOpenData) (2023.12.25)\n",
            "Requirement already satisfied: tqdm in /usr/local/lib/python3.10/dist-packages (from nltk->udicOpenData) (4.66.2)\n",
            "Building wheels for collected packages: udicOpenData\n",
            "  Building wheel for udicOpenData (setup.py) ... \u001b[?25l\u001b[?25hdone\n",
            "  Created wheel for udicOpenData: filename=udicOpenData-2.4-py3-none-any.whl size=18094423 sha256=9da411b035cd58c1412ee6a0365aa454bcafc644c750401141e4a88524f0b3ef\n",
            "  Stored in directory: /root/.cache/pip/wheels/86/4f/46/2a28bc28485ba1f9d67dead62ac6aba14089a6cf1d5fbad365\n",
            "Successfully built udicOpenData\n",
            "Installing collected packages: udicOpenData\n",
            "Successfully installed udicOpenData-2.4\n"
          ]
        }
      ]
    },
    {
      "cell_type": "code",
      "source": [
        "!pip install opencc-python-reimplemented"
      ],
      "metadata": {
        "colab": {
          "base_uri": "https://localhost:8080/"
        },
        "id": "Knef4rmM9YTW",
        "outputId": "889822a2-8e38-4ded-cc76-7070406be571"
      },
      "execution_count": 3,
      "outputs": [
        {
          "output_type": "stream",
          "name": "stdout",
          "text": [
            "Collecting opencc-python-reimplemented\n",
            "  Downloading opencc_python_reimplemented-0.1.7-py2.py3-none-any.whl (481 kB)\n",
            "\u001b[?25l     \u001b[90m━━━━━━━━━━━━━━━━━━━━━━━━━━━━━━━━━━━━━━━━\u001b[0m \u001b[32m0.0/481.8 kB\u001b[0m \u001b[31m?\u001b[0m eta \u001b[36m-:--:--\u001b[0m\r\u001b[2K     \u001b[91m━━━━━━\u001b[0m\u001b[91m╸\u001b[0m\u001b[90m━━━━━━━━━━━━━━━━━━━━━━━━━━━━━━━━━\u001b[0m \u001b[32m81.9/481.8 kB\u001b[0m \u001b[31m2.2 MB/s\u001b[0m eta \u001b[36m0:00:01\u001b[0m\r\u001b[2K     \u001b[91m━━━━━━━━━━━━━━━━━━━━━━━━━━━━━━━━━━━━━━━\u001b[0m\u001b[91m╸\u001b[0m \u001b[32m481.3/481.8 kB\u001b[0m \u001b[31m7.0 MB/s\u001b[0m eta \u001b[36m0:00:01\u001b[0m\r\u001b[2K     \u001b[90m━━━━━━━━━━━━━━━━━━━━━━━━━━━━━━━━━━━━━━━━\u001b[0m \u001b[32m481.8/481.8 kB\u001b[0m \u001b[31m5.8 MB/s\u001b[0m eta \u001b[36m0:00:00\u001b[0m\n",
            "\u001b[?25hInstalling collected packages: opencc-python-reimplemented\n",
            "Successfully installed opencc-python-reimplemented-0.1.7\n"
          ]
        }
      ]
    },
    {
      "cell_type": "code",
      "source": [
        "!pip install -U FlagEmbedding"
      ],
      "metadata": {
        "colab": {
          "base_uri": "https://localhost:8080/"
        },
        "id": "GP04ERaQrcaT",
        "outputId": "a123e11a-338c-4584-ecd0-f2399bb26220"
      },
      "execution_count": 17,
      "outputs": [
        {
          "output_type": "stream",
          "name": "stdout",
          "text": [
            "Collecting FlagEmbedding\n",
            "  Downloading FlagEmbedding-1.2.8.tar.gz (120 kB)\n",
            "\u001b[2K     \u001b[90m━━━━━━━━━━━━━━━━━━━━━━━━━━━━━━━━━━━━━━━━\u001b[0m \u001b[32m120.2/120.2 kB\u001b[0m \u001b[31m2.9 MB/s\u001b[0m eta \u001b[36m0:00:00\u001b[0m\n",
            "\u001b[?25h  Preparing metadata (setup.py) ... \u001b[?25l\u001b[?25hdone\n",
            "Requirement already satisfied: torch>=1.6.0 in /usr/local/lib/python3.10/dist-packages (from FlagEmbedding) (2.2.1+cu121)\n",
            "Requirement already satisfied: transformers>=4.33.0 in /usr/local/lib/python3.10/dist-packages (from FlagEmbedding) (4.38.2)\n",
            "Collecting datasets (from FlagEmbedding)\n",
            "  Downloading datasets-2.18.0-py3-none-any.whl (510 kB)\n",
            "\u001b[2K     \u001b[90m━━━━━━━━━━━━━━━━━━━━━━━━━━━━━━━━━━━━━━━━\u001b[0m \u001b[32m510.5/510.5 kB\u001b[0m \u001b[31m10.5 MB/s\u001b[0m eta \u001b[36m0:00:00\u001b[0m\n",
            "\u001b[?25hCollecting accelerate>=0.20.1 (from FlagEmbedding)\n",
            "  Downloading accelerate-0.29.2-py3-none-any.whl (297 kB)\n",
            "\u001b[2K     \u001b[90m━━━━━━━━━━━━━━━━━━━━━━━━━━━━━━━━━━━━━━━━\u001b[0m \u001b[32m297.4/297.4 kB\u001b[0m \u001b[31m11.9 MB/s\u001b[0m eta \u001b[36m0:00:00\u001b[0m\n",
            "\u001b[?25hCollecting sentence_transformers (from FlagEmbedding)\n",
            "  Downloading sentence_transformers-2.6.1-py3-none-any.whl (163 kB)\n",
            "\u001b[2K     \u001b[90m━━━━━━━━━━━━━━━━━━━━━━━━━━━━━━━━━━━━━━━━\u001b[0m \u001b[32m163.3/163.3 kB\u001b[0m \u001b[31m16.8 MB/s\u001b[0m eta \u001b[36m0:00:00\u001b[0m\n",
            "\u001b[?25hRequirement already satisfied: numpy>=1.17 in /usr/local/lib/python3.10/dist-packages (from accelerate>=0.20.1->FlagEmbedding) (1.25.2)\n",
            "Requirement already satisfied: packaging>=20.0 in /usr/local/lib/python3.10/dist-packages (from accelerate>=0.20.1->FlagEmbedding) (24.0)\n",
            "Requirement already satisfied: psutil in /usr/local/lib/python3.10/dist-packages (from accelerate>=0.20.1->FlagEmbedding) (5.9.5)\n",
            "Requirement already satisfied: pyyaml in /usr/local/lib/python3.10/dist-packages (from accelerate>=0.20.1->FlagEmbedding) (6.0.1)\n",
            "Requirement already satisfied: huggingface-hub in /usr/local/lib/python3.10/dist-packages (from accelerate>=0.20.1->FlagEmbedding) (0.20.3)\n",
            "Requirement already satisfied: safetensors>=0.3.1 in /usr/local/lib/python3.10/dist-packages (from accelerate>=0.20.1->FlagEmbedding) (0.4.2)\n",
            "Requirement already satisfied: filelock in /usr/local/lib/python3.10/dist-packages (from torch>=1.6.0->FlagEmbedding) (3.13.4)\n",
            "Requirement already satisfied: typing-extensions>=4.8.0 in /usr/local/lib/python3.10/dist-packages (from torch>=1.6.0->FlagEmbedding) (4.11.0)\n",
            "Requirement already satisfied: sympy in /usr/local/lib/python3.10/dist-packages (from torch>=1.6.0->FlagEmbedding) (1.12)\n",
            "Requirement already satisfied: networkx in /usr/local/lib/python3.10/dist-packages (from torch>=1.6.0->FlagEmbedding) (3.3)\n",
            "Requirement already satisfied: jinja2 in /usr/local/lib/python3.10/dist-packages (from torch>=1.6.0->FlagEmbedding) (3.1.3)\n",
            "Requirement already satisfied: fsspec in /usr/local/lib/python3.10/dist-packages (from torch>=1.6.0->FlagEmbedding) (2023.6.0)\n",
            "Collecting nvidia-cuda-nvrtc-cu12==12.1.105 (from torch>=1.6.0->FlagEmbedding)\n",
            "  Using cached nvidia_cuda_nvrtc_cu12-12.1.105-py3-none-manylinux1_x86_64.whl (23.7 MB)\n",
            "Collecting nvidia-cuda-runtime-cu12==12.1.105 (from torch>=1.6.0->FlagEmbedding)\n",
            "  Using cached nvidia_cuda_runtime_cu12-12.1.105-py3-none-manylinux1_x86_64.whl (823 kB)\n",
            "Collecting nvidia-cuda-cupti-cu12==12.1.105 (from torch>=1.6.0->FlagEmbedding)\n",
            "  Using cached nvidia_cuda_cupti_cu12-12.1.105-py3-none-manylinux1_x86_64.whl (14.1 MB)\n",
            "Collecting nvidia-cudnn-cu12==8.9.2.26 (from torch>=1.6.0->FlagEmbedding)\n",
            "  Using cached nvidia_cudnn_cu12-8.9.2.26-py3-none-manylinux1_x86_64.whl (731.7 MB)\n",
            "Collecting nvidia-cublas-cu12==12.1.3.1 (from torch>=1.6.0->FlagEmbedding)\n",
            "  Using cached nvidia_cublas_cu12-12.1.3.1-py3-none-manylinux1_x86_64.whl (410.6 MB)\n",
            "Collecting nvidia-cufft-cu12==11.0.2.54 (from torch>=1.6.0->FlagEmbedding)\n",
            "  Using cached nvidia_cufft_cu12-11.0.2.54-py3-none-manylinux1_x86_64.whl (121.6 MB)\n",
            "Collecting nvidia-curand-cu12==10.3.2.106 (from torch>=1.6.0->FlagEmbedding)\n",
            "  Using cached nvidia_curand_cu12-10.3.2.106-py3-none-manylinux1_x86_64.whl (56.5 MB)\n",
            "Collecting nvidia-cusolver-cu12==11.4.5.107 (from torch>=1.6.0->FlagEmbedding)\n",
            "  Using cached nvidia_cusolver_cu12-11.4.5.107-py3-none-manylinux1_x86_64.whl (124.2 MB)\n",
            "Collecting nvidia-cusparse-cu12==12.1.0.106 (from torch>=1.6.0->FlagEmbedding)\n",
            "  Using cached nvidia_cusparse_cu12-12.1.0.106-py3-none-manylinux1_x86_64.whl (196.0 MB)\n",
            "Collecting nvidia-nccl-cu12==2.19.3 (from torch>=1.6.0->FlagEmbedding)\n",
            "  Using cached nvidia_nccl_cu12-2.19.3-py3-none-manylinux1_x86_64.whl (166.0 MB)\n",
            "Collecting nvidia-nvtx-cu12==12.1.105 (from torch>=1.6.0->FlagEmbedding)\n",
            "  Using cached nvidia_nvtx_cu12-12.1.105-py3-none-manylinux1_x86_64.whl (99 kB)\n",
            "Requirement already satisfied: triton==2.2.0 in /usr/local/lib/python3.10/dist-packages (from torch>=1.6.0->FlagEmbedding) (2.2.0)\n",
            "Collecting nvidia-nvjitlink-cu12 (from nvidia-cusolver-cu12==11.4.5.107->torch>=1.6.0->FlagEmbedding)\n",
            "  Using cached nvidia_nvjitlink_cu12-12.4.127-py3-none-manylinux2014_x86_64.whl (21.1 MB)\n",
            "Requirement already satisfied: regex!=2019.12.17 in /usr/local/lib/python3.10/dist-packages (from transformers>=4.33.0->FlagEmbedding) (2023.12.25)\n",
            "Requirement already satisfied: requests in /usr/local/lib/python3.10/dist-packages (from transformers>=4.33.0->FlagEmbedding) (2.31.0)\n",
            "Requirement already satisfied: tokenizers<0.19,>=0.14 in /usr/local/lib/python3.10/dist-packages (from transformers>=4.33.0->FlagEmbedding) (0.15.2)\n",
            "Requirement already satisfied: tqdm>=4.27 in /usr/local/lib/python3.10/dist-packages (from transformers>=4.33.0->FlagEmbedding) (4.66.2)\n",
            "Requirement already satisfied: pyarrow>=12.0.0 in /usr/local/lib/python3.10/dist-packages (from datasets->FlagEmbedding) (14.0.2)\n",
            "Requirement already satisfied: pyarrow-hotfix in /usr/local/lib/python3.10/dist-packages (from datasets->FlagEmbedding) (0.6)\n",
            "Collecting dill<0.3.9,>=0.3.0 (from datasets->FlagEmbedding)\n",
            "  Downloading dill-0.3.8-py3-none-any.whl (116 kB)\n",
            "\u001b[2K     \u001b[90m━━━━━━━━━━━━━━━━━━━━━━━━━━━━━━━━━━━━━━━━\u001b[0m \u001b[32m116.3/116.3 kB\u001b[0m \u001b[31m12.9 MB/s\u001b[0m eta \u001b[36m0:00:00\u001b[0m\n",
            "\u001b[?25hRequirement already satisfied: pandas in /usr/local/lib/python3.10/dist-packages (from datasets->FlagEmbedding) (2.0.3)\n",
            "Collecting xxhash (from datasets->FlagEmbedding)\n",
            "  Downloading xxhash-3.4.1-cp310-cp310-manylinux_2_17_x86_64.manylinux2014_x86_64.whl (194 kB)\n",
            "\u001b[2K     \u001b[90m━━━━━━━━━━━━━━━━━━━━━━━━━━━━━━━━━━━━━━━━\u001b[0m \u001b[32m194.1/194.1 kB\u001b[0m \u001b[31m17.9 MB/s\u001b[0m eta \u001b[36m0:00:00\u001b[0m\n",
            "\u001b[?25hCollecting multiprocess (from datasets->FlagEmbedding)\n",
            "  Downloading multiprocess-0.70.16-py310-none-any.whl (134 kB)\n",
            "\u001b[2K     \u001b[90m━━━━━━━━━━━━━━━━━━━━━━━━━━━━━━━━━━━━━━━━\u001b[0m \u001b[32m134.8/134.8 kB\u001b[0m \u001b[31m15.4 MB/s\u001b[0m eta \u001b[36m0:00:00\u001b[0m\n",
            "\u001b[?25hRequirement already satisfied: aiohttp in /usr/local/lib/python3.10/dist-packages (from datasets->FlagEmbedding) (3.9.3)\n",
            "Requirement already satisfied: scikit-learn in /usr/local/lib/python3.10/dist-packages (from sentence_transformers->FlagEmbedding) (1.2.2)\n",
            "Requirement already satisfied: scipy in /usr/local/lib/python3.10/dist-packages (from sentence_transformers->FlagEmbedding) (1.11.4)\n",
            "Requirement already satisfied: Pillow in /usr/local/lib/python3.10/dist-packages (from sentence_transformers->FlagEmbedding) (9.4.0)\n",
            "Requirement already satisfied: aiosignal>=1.1.2 in /usr/local/lib/python3.10/dist-packages (from aiohttp->datasets->FlagEmbedding) (1.3.1)\n",
            "Requirement already satisfied: attrs>=17.3.0 in /usr/local/lib/python3.10/dist-packages (from aiohttp->datasets->FlagEmbedding) (23.2.0)\n",
            "Requirement already satisfied: frozenlist>=1.1.1 in /usr/local/lib/python3.10/dist-packages (from aiohttp->datasets->FlagEmbedding) (1.4.1)\n",
            "Requirement already satisfied: multidict<7.0,>=4.5 in /usr/local/lib/python3.10/dist-packages (from aiohttp->datasets->FlagEmbedding) (6.0.5)\n",
            "Requirement already satisfied: yarl<2.0,>=1.0 in /usr/local/lib/python3.10/dist-packages (from aiohttp->datasets->FlagEmbedding) (1.9.4)\n",
            "Requirement already satisfied: async-timeout<5.0,>=4.0 in /usr/local/lib/python3.10/dist-packages (from aiohttp->datasets->FlagEmbedding) (4.0.3)\n",
            "Requirement already satisfied: charset-normalizer<4,>=2 in /usr/local/lib/python3.10/dist-packages (from requests->transformers>=4.33.0->FlagEmbedding) (3.3.2)\n",
            "Requirement already satisfied: idna<4,>=2.5 in /usr/local/lib/python3.10/dist-packages (from requests->transformers>=4.33.0->FlagEmbedding) (3.6)\n",
            "Requirement already satisfied: urllib3<3,>=1.21.1 in /usr/local/lib/python3.10/dist-packages (from requests->transformers>=4.33.0->FlagEmbedding) (2.0.7)\n",
            "Requirement already satisfied: certifi>=2017.4.17 in /usr/local/lib/python3.10/dist-packages (from requests->transformers>=4.33.0->FlagEmbedding) (2024.2.2)\n",
            "Requirement already satisfied: MarkupSafe>=2.0 in /usr/local/lib/python3.10/dist-packages (from jinja2->torch>=1.6.0->FlagEmbedding) (2.1.5)\n",
            "Requirement already satisfied: python-dateutil>=2.8.2 in /usr/local/lib/python3.10/dist-packages (from pandas->datasets->FlagEmbedding) (2.8.2)\n",
            "Requirement already satisfied: pytz>=2020.1 in /usr/local/lib/python3.10/dist-packages (from pandas->datasets->FlagEmbedding) (2023.4)\n",
            "Requirement already satisfied: tzdata>=2022.1 in /usr/local/lib/python3.10/dist-packages (from pandas->datasets->FlagEmbedding) (2024.1)\n",
            "Requirement already satisfied: joblib>=1.1.1 in /usr/local/lib/python3.10/dist-packages (from scikit-learn->sentence_transformers->FlagEmbedding) (1.4.0)\n",
            "Requirement already satisfied: threadpoolctl>=2.0.0 in /usr/local/lib/python3.10/dist-packages (from scikit-learn->sentence_transformers->FlagEmbedding) (3.4.0)\n",
            "Requirement already satisfied: mpmath>=0.19 in /usr/local/lib/python3.10/dist-packages (from sympy->torch>=1.6.0->FlagEmbedding) (1.3.0)\n",
            "Requirement already satisfied: six>=1.5 in /usr/local/lib/python3.10/dist-packages (from python-dateutil>=2.8.2->pandas->datasets->FlagEmbedding) (1.16.0)\n",
            "Building wheels for collected packages: FlagEmbedding\n",
            "  Building wheel for FlagEmbedding (setup.py) ... \u001b[?25l\u001b[?25hdone\n",
            "  Created wheel for FlagEmbedding: filename=FlagEmbedding-1.2.8-py3-none-any.whl size=142818 sha256=a0d2088b26ca8fe3c3acf70401eae282e88a1e7480586e2c0b8cd5fa42dec221\n",
            "  Stored in directory: /root/.cache/pip/wheels/a8/7d/6e/b020e07d6db37e947378ba3ab783952bf471ba1108ac197882\n",
            "Successfully built FlagEmbedding\n",
            "Installing collected packages: xxhash, nvidia-nvtx-cu12, nvidia-nvjitlink-cu12, nvidia-nccl-cu12, nvidia-curand-cu12, nvidia-cufft-cu12, nvidia-cuda-runtime-cu12, nvidia-cuda-nvrtc-cu12, nvidia-cuda-cupti-cu12, nvidia-cublas-cu12, dill, nvidia-cusparse-cu12, nvidia-cudnn-cu12, multiprocess, nvidia-cusolver-cu12, datasets, sentence_transformers, accelerate, FlagEmbedding\n",
            "Successfully installed FlagEmbedding-1.2.8 accelerate-0.29.2 datasets-2.18.0 dill-0.3.8 multiprocess-0.70.16 nvidia-cublas-cu12-12.1.3.1 nvidia-cuda-cupti-cu12-12.1.105 nvidia-cuda-nvrtc-cu12-12.1.105 nvidia-cuda-runtime-cu12-12.1.105 nvidia-cudnn-cu12-8.9.2.26 nvidia-cufft-cu12-11.0.2.54 nvidia-curand-cu12-10.3.2.106 nvidia-cusolver-cu12-11.4.5.107 nvidia-cusparse-cu12-12.1.0.106 nvidia-nccl-cu12-2.19.3 nvidia-nvjitlink-cu12-12.4.127 nvidia-nvtx-cu12-12.1.105 sentence_transformers-2.6.1 xxhash-3.4.1\n"
          ]
        }
      ]
    },
    {
      "cell_type": "code",
      "source": [
        "import numpy as np\n",
        "import json\n",
        "from opencc import OpenCC\n",
        "from sklearn.neighbors import NearestNeighbors\n",
        "import pickle"
      ],
      "metadata": {
        "id": "dpfLGxvy8XLT"
      },
      "execution_count": 25,
      "outputs": []
    },
    {
      "cell_type": "code",
      "source": [
        "from udicOpenData.stopwords import *"
      ],
      "metadata": {
        "id": "okaHfdkn9dih"
      },
      "execution_count": 5,
      "outputs": []
    },
    {
      "cell_type": "code",
      "source": [
        "from FlagEmbedding import BGEM3FlagModel"
      ],
      "metadata": {
        "id": "ly4-x6zD1nZX"
      },
      "execution_count": 20,
      "outputs": []
    },
    {
      "cell_type": "markdown",
      "source": [
        "# Data import"
      ],
      "metadata": {
        "id": "krCs9N-N8U4I"
      }
    },
    {
      "cell_type": "code",
      "source": [
        "folder_path = \"/content/drive/MyDrive/senior/LAB/LawCaseRetreiver/sentence_predict/sample_code/dataset/\""
      ],
      "metadata": {
        "id": "R8kk68cA8dsL"
      },
      "execution_count": 7,
      "outputs": []
    },
    {
      "cell_type": "code",
      "execution_count": 8,
      "metadata": {
        "colab": {
          "base_uri": "https://localhost:8080/"
        },
        "id": "wAqSrCIklsIJ",
        "outputId": "da615749-8f20-463c-8723-4703895e39db"
      },
      "outputs": [
        {
          "output_type": "stream",
          "name": "stdout",
          "text": [
            "Mounted at /content/drive\n"
          ]
        }
      ],
      "source": [
        "from google.colab import drive\n",
        "drive.mount('/content/drive')"
      ]
    },
    {
      "cell_type": "code",
      "source": [
        "with open(folder_path+'train_data.json', 'r', encoding='utf-8') as f:\n",
        "    train_data = json.load(f)\n",
        "\n",
        "with open(folder_path+'test_data.json', 'r', encoding='utf-8') as f:\n",
        "    test_data = json.load(f)"
      ],
      "metadata": {
        "id": "UBH4pYp-nM7-"
      },
      "execution_count": 9,
      "outputs": []
    },
    {
      "cell_type": "code",
      "source": [
        "def extract_key_contents(data):\n",
        "    facts = []\n",
        "    sentences = []\n",
        "    for item in data:\n",
        "        facts.append(item.get('fact'))\n",
        "        sentences.append(item.get('sentance'))\n",
        "    return facts, sentences"
      ],
      "metadata": {
        "id": "uXE_9V3UnJYg"
      },
      "execution_count": 10,
      "outputs": []
    },
    {
      "cell_type": "code",
      "source": [
        "train_facts, train_sentences = extract_key_contents(train_data)\n",
        "test_facts, test_sentences = extract_key_contents(test_data)"
      ],
      "metadata": {
        "id": "acFs77Rtnx0K"
      },
      "execution_count": 11,
      "outputs": []
    },
    {
      "cell_type": "code",
      "source": [
        "def read_string_array_from_file(file_path):\n",
        "    try:\n",
        "        with open(file_path, 'r') as file:\n",
        "            string_array = file.readlines()\n",
        "            # 去除每個元素末尾的換行符\n",
        "            string_array = [string.strip() for string in string_array]\n",
        "        print(f\"String array read from {file_path} successfully.\")\n",
        "        return string_array\n",
        "    except Exception as e:\n",
        "        print(f\"Error occurred while reading string array: {e}\")\n",
        "        return None"
      ],
      "metadata": {
        "id": "1ZCrvJZO9GcC"
      },
      "execution_count": 12,
      "outputs": []
    },
    {
      "cell_type": "code",
      "source": [
        "train_summaries = read_string_array_from_file(folder_path + 'train_summaries.txt')\n",
        "test_summaries = read_string_array_from_file(folder_path + 'test_summaries.txt')"
      ],
      "metadata": {
        "colab": {
          "base_uri": "https://localhost:8080/"
        },
        "id": "NsSk-NBY9I4q",
        "outputId": "4860ed2a-b0d4-4e31-8182-fac371a616d9"
      },
      "execution_count": 13,
      "outputs": [
        {
          "output_type": "stream",
          "name": "stdout",
          "text": [
            "String array read from /content/drive/MyDrive/senior/LAB/LawCaseRetreiver/sentence_predict/sample_code/dataset/train_summaries.txt successfully.\n",
            "String array read from /content/drive/MyDrive/senior/LAB/LawCaseRetreiver/sentence_predict/sample_code/dataset/test_summaries.txt successfully.\n"
          ]
        }
      ]
    },
    {
      "cell_type": "markdown",
      "source": [
        "# Preprocessing"
      ],
      "metadata": {
        "id": "1LkkNGcF9SjW"
      }
    },
    {
      "cell_type": "markdown",
      "source": [
        "## 斷詞"
      ],
      "metadata": {
        "id": "HZmg7VtkoSOS"
      }
    },
    {
      "cell_type": "code",
      "source": [
        "cc = OpenCC('t2s')"
      ],
      "metadata": {
        "id": "O4midZsM1Wqq"
      },
      "execution_count": 14,
      "outputs": []
    },
    {
      "cell_type": "code",
      "source": [
        "# 分詞加空白\n",
        "def split_passage(passage):\n",
        "    word_and_tag = list(rmsw(passage, flag=True))\n",
        "    _temp = list(filter(lambda x: x[1]!='nr' and x[1]!='ns', word_and_tag))\n",
        "    # print(_temp)\n",
        "    text = \" \".join(list(map(lambda x:x[0], _temp)))\n",
        "    return text"
      ],
      "metadata": {
        "id": "lqnfJvoXoHWX"
      },
      "execution_count": 15,
      "outputs": []
    },
    {
      "cell_type": "code",
      "source": [
        "# tokenized_train_summaries = []\n",
        "\n",
        "# for data in train_summaries:\n",
        "#     tokenized_train_summaries.append(split_passage(cc.convert(data)))"
      ],
      "metadata": {
        "id": "GlXRtcojoe_G",
        "colab": {
          "base_uri": "https://localhost:8080/"
        },
        "outputId": "7936b470-7dae-4aba-8b31-b16d2c22ea97"
      },
      "execution_count": null,
      "outputs": [
        {
          "output_type": "stream",
          "name": "stderr",
          "text": [
            "Building prefix dict from the default dictionary ...\n",
            "DEBUG:jieba:Building prefix dict from the default dictionary ...\n",
            "Dumping model to file cache /tmp/jieba.cache\n",
            "DEBUG:jieba:Dumping model to file cache /tmp/jieba.cache\n",
            "Loading model cost 0.977 seconds.\n",
            "DEBUG:jieba:Loading model cost 0.977 seconds.\n",
            "Prefix dict has been built successfully.\n",
            "DEBUG:jieba:Prefix dict has been built successfully.\n"
          ]
        }
      ]
    },
    {
      "cell_type": "code",
      "source": [
        "# tokenized_test_summaries = []\n",
        "\n",
        "# for data in test_summaries:\n",
        "#     tokenized_test_summaries.append(split_passage(cc.convert(data)))"
      ],
      "metadata": {
        "id": "FCISeZzPwG4j"
      },
      "execution_count": null,
      "outputs": []
    },
    {
      "cell_type": "code",
      "source": [
        "def save_string_array_to_file(string_array, file_path):\n",
        "    try:\n",
        "        with open(file_path, 'w') as file:\n",
        "            for string in string_array:\n",
        "                file.write(string + '\\n')\n",
        "        print(f\"String array saved to {file_path} successfully.\")\n",
        "    except Exception as e:\n",
        "        print(f\"Error occurred while saving string array: {e}\")"
      ],
      "metadata": {
        "id": "e5FAft-Vx0PJ"
      },
      "execution_count": null,
      "outputs": []
    },
    {
      "cell_type": "code",
      "source": [
        "# save_string_array_to_file(tokenized_train_summaries, '/content/drive/MyDrive/senior/LAB/LawCaseRetreiver/sentence_predict/summary/tokenized_train_summaries.txt')\n",
        "# save_string_array_to_file(tokenized_test_summaries, '/content/drive/MyDrive/senior/LAB/LawCaseRetreiver/sentence_predict/summary/tokenized_test_summaries.txt')"
      ],
      "metadata": {
        "id": "KONrIMD5yMmZ",
        "colab": {
          "base_uri": "https://localhost:8080/"
        },
        "outputId": "4550e340-ba69-4287-b027-adc84f52a127"
      },
      "execution_count": null,
      "outputs": [
        {
          "output_type": "stream",
          "name": "stdout",
          "text": [
            "String array saved to /content/drive/MyDrive/senior/LAB/LawCaseRetreiver/sentence_predict/summary/tokenized_train_summaries.txt successfully.\n",
            "String array saved to /content/drive/MyDrive/senior/LAB/LawCaseRetreiver/sentence_predict/summary/tokenized_test_summaries.txt successfully.\n"
          ]
        }
      ]
    },
    {
      "cell_type": "code",
      "source": [
        "tokenized_train_summaries = read_string_array_from_file('/content/drive/MyDrive/senior/LAB/LawCaseRetreiver/sentence_predict/summary/tokenized_train_summaries.txt')\n",
        "tokenized_test_summaries = read_string_array_from_file('/content/drive/MyDrive/senior/LAB/LawCaseRetreiver/sentence_predict/summary/tokenized_test_summaries.txt')"
      ],
      "metadata": {
        "colab": {
          "base_uri": "https://localhost:8080/"
        },
        "id": "xySxQ6GGjmNw",
        "outputId": "fc695ba8-6a20-4026-da96-d33298990f71"
      },
      "execution_count": 16,
      "outputs": [
        {
          "output_type": "stream",
          "name": "stdout",
          "text": [
            "String array read from /content/drive/MyDrive/senior/LAB/LawCaseRetreiver/sentence_predict/summary/tokenized_train_summaries.txt successfully.\n",
            "String array read from /content/drive/MyDrive/senior/LAB/LawCaseRetreiver/sentence_predict/summary/tokenized_test_summaries.txt successfully.\n"
          ]
        }
      ]
    },
    {
      "cell_type": "markdown",
      "source": [
        "## Data embedding"
      ],
      "metadata": {
        "id": "wtYFf_Jd2LQ9"
      }
    },
    {
      "cell_type": "code",
      "source": [
        "model = BGEM3FlagModel('BAAI/bge-m3',\n",
        "                       use_fp16=True) # Setting use_fp16 to True speeds up computation with a slight performance degradation"
      ],
      "metadata": {
        "colab": {
          "base_uri": "https://localhost:8080/",
          "height": 880,
          "referenced_widgets": [
            "376d673218bd4259ae70c1ed114907a4",
            "9b3dd718296e4dcc9c3287a7c8ef89d6",
            "6b6ebf5703dd44af952035ec5352f145",
            "8e244354aee340b6a021194fb274ae09",
            "08a3694e2ae04e04b46611e8c70a61b4",
            "adf7ed0808b8421984acb155eb6e1392",
            "ecf076f23ae64b3baf9b5c73bb923f52",
            "523eba335bcd493faa5b0f4cec3c6d61",
            "521f3a4f5d114c6fa0d604c738e2fd2d",
            "8f27e4050ea44b2fb5bd07751a722187",
            "486e6dbcb06f4737a04b3dbd141eba4c",
            "3146e1a0df354311a6206e52bfc738b3",
            "f8983015a94140cca39474c83355523b",
            "b113d7534a084a3dbded83cb2a048828",
            "61943f38b19a4d5c909c396d183a5b2f",
            "ae16a4fe75b141589c208b9da21d0f46",
            "2d4e9b7279924fdd942669022dd5bcf2",
            "380f785642c047149a36280a274970c6",
            "29a7dd0c2ebe43ae941eb9a254d2974f",
            "da52e4ac0d7445d5bad6bd8a7ec1605c",
            "529ab0d8b879459e94592ee679d837b4",
            "711a0efae4dc4a41ad43b30bd6fd6f83",
            "6f3ec993a932457e9fe64ffaf64bcd5c",
            "f17e22b86a1949908f06897e2ddf40b4",
            "fcdfcdd557ab4ac293d0194c78e922cd",
            "400162175734432f8ff02d585cfccfbe",
            "eabf11df68414ce9bd2d902939738c05",
            "5003f2b2b6ec49f6b2558b399a90bb4a",
            "2e71379cb5a34ae28ca15480265ed588",
            "c386cc911dac409e853a8efb1de5425c",
            "2a21587c495f410386595083b49e1cdb",
            "3ab8c5f5d0ca4103b441f3b6024be052",
            "1992f7a49c1d4488b9aced2ec01c57fc",
            "0d28f51c48b74427a4f02fdff93dbd2d",
            "fce91ce0b78f475986a1f415405977cb",
            "5e116920a3a84bc49f217893c2e55f76",
            "cc5dc5bf320a4d209b5c6cf3daaa8314",
            "12655c97e0c0471fb8bb9d7a1a8292ff",
            "736294cb7dd04a2ea3008eacc83d48dd",
            "97474cd5f242464e91008211511d2154",
            "90d3874fa90047f88ef610f3215f5ebf",
            "0d42915033594757a0e7f757bc8b42a4",
            "d043fe8e1af547ae9add973d53d129eb",
            "0780de03a3b14298b99d7c3694c1ebb7",
            "36f11d1294ce450aa5f492b8662ceb5a",
            "e66227e7ee0c4cb2aa08eb52e8d762ee",
            "c807aa1e871f40998de4eb91cad21def",
            "3875bf1720ff45ddb52a6d6c2adac7be",
            "bf9ac40de0ce415b94e00be1d4e0e508",
            "6d31741db7504ea8bf37acc10c7dd721",
            "7b4532db76be41a3aebab0c5c3b17f30",
            "9ce0c2416d464339825dc4c33722d0c7",
            "93d67c5286194d8ba3887a6a1ac4e8fa",
            "5e684119dc194add8b6d381966950f8b",
            "dc81a2d19ea34b86880e0a26761177b0",
            "a010b128f5bb4cc9afb5e8ed74d6d444",
            "743ec2f75036444fb0b4452bf0e9c4ce",
            "8046b56a957b4a1f86fbb15106682a29",
            "fdc122e216cf4cf6b7dc6fa1c2f4a449",
            "3a9e1f71a9a647fea14fd3b9f5cf31a8",
            "81bf323ced174f8b902acb5f04908e15",
            "c4061085e8694069909c1d8591055bba",
            "1e210dfe1d594918842b8b3a965d0c57",
            "c117ad69033d49b7bf0fead0f47be379",
            "6cfa3360207b4bc4a65d93aae79e2e92",
            "1db105681c9147829698f38f3d38be40",
            "99b28c43b3034f0cbad7553d7c745f9f",
            "d8604fbc238e4fc7ba0a84633829c863",
            "ab5a3acc53e84228aeb77002ca5e8029",
            "372029ad5e4d4a7abbae7d6202f7a5de",
            "6bed8fde0fad40d8ac69c4a7622f1697",
            "b2aea583248346aca1cbb8d3a21746d5",
            "88104800b8b64a84be3a764c49612da6",
            "34680758396845db8164ae43c696b4f7",
            "81f9aa18c55d4bf4a2c4147062c4f954",
            "451b052cd39342ad8df84a53dc085dec",
            "865b28fbaa314eca9ed03145c3c16e29",
            "20afddcbc4fd4ff88c16db598dafe327",
            "c9f29406b419430cb3ab3a39b632c7d4",
            "f4dffcda015e41d0a19e224876d880c4",
            "b65d6cf61b6541de8213ed82273d3b85",
            "f3afeb3598c84589ac9fe53e16e87244",
            "848305d04cca4bb7bd9d56917d080f46",
            "73a30f84ebb84a7e8c13d68c389bf484",
            "60cc58c7990f40c1b25b75645ec44354",
            "559bd33580084016adf49310bb02fafa",
            "2f328a5068e145dbb9915ff820375eec",
            "8e3804c2751e41d0ac9a349c911a18c1",
            "9248f91d8324447a9a0a1c47cd4a3338",
            "8c39d9e2334e40aa94f31dfc6830224d",
            "737ba47d54624582b6061247b6dca850",
            "fefadb9c000b46b2a2a75c850394b73f",
            "45b09ea703a9417e816d56adcbab2370",
            "06aca1314ac44ce5ba61a33c96150f5e",
            "311392d17de34870857f7e8e693250e1",
            "a38d14db94c04ad5b2d91e9c0f3ffc1c",
            "66b66a1c7a34495d9560eab393aae9ad",
            "ea6b439d6ee849cca4238e0242a9e1e7",
            "92a40050699e48e088f76b9fda2a0c58",
            "2f1f606edf2e494da9d974dd173cc986",
            "5e23f8572b2a49f1908298dae6dab215",
            "3394058af28a4cfa83eb7e0178859a67",
            "cbc32bf4fe3c471f9caa1451484cd03d",
            "2987f4a391e44bb89da803bd29201554",
            "88791225f1ec4600978a9c6579491304",
            "719f133eae604e55810476cbe6784c1c",
            "0ebb03c06fd348dea67e069f3f3c6b42",
            "dc3ad907bf6a45cb81fa81463738b480",
            "a15a02d727d548a185adec4c534bbf69",
            "999796c9428f44ca8a49809eeca64099",
            "be9e4c5191ac4104b37ad66882411f0e",
            "8d957867ff6240a08206be920c56a710",
            "30ce6bd24f4942b5a0628f11fdbb13a4",
            "12af69cf251844f489f42ce84c92d560",
            "1cbad4dbb726459daccf08733b98fc23",
            "bd0e2d64b3a945cba0cdaff997ebd469",
            "d222fbdede934856910d62baab3b6dc5",
            "cbedd01dd47d4619a9c61d2f8c689153",
            "e91aa8f9adfc469b895a45fc0904bb0b",
            "f0bee7146e1d41cfb5cc1dc0e9b28dd9",
            "ac9c20cd87bd435b907260a58ab0e25a",
            "7e0e3abd9e5246deafe0d2113b617b66",
            "b2dbc984bddf49c7825eb5866204afa4",
            "5309b74ec50744ccb3b7f60dec4fd898",
            "731e5173e3d94741af5bf7050ac27b49",
            "7d8950a0863342228a1f9437073582e0",
            "0916445c594c49fa948e7376224ad3b0",
            "e656e5b1876d4b2497105b7968e25471",
            "3c152e1465d54266be1cd856ff914509",
            "3e0fc5c011884ea0930ea55b572643c2",
            "6ab4e27fd1c04d338c071f38ea78528e",
            "959ff6b002344d3cad1b0f7fdf322588",
            "1dd180c9d433488187b63493746c6ba4",
            "3dd3ad5175c7464ab6765f21d9c0be52",
            "cca9de81bc6947b3b1b7e5797a60395d",
            "7d6afacf1baa4fd39eef2d075dd68530",
            "295a70dd2137452c9dadd7251d204490",
            "d400ed7696394b6e9f0e07a74b2d2a48",
            "c6c633ee9d414ffab687607dcde648ff",
            "4e2e808d039f4331829f8ec3d3ee1097",
            "6ffc65a912244ee6bc41ee0c75e5542f",
            "b17d760b77fb40b7a54d00f736dc663b",
            "8cef43624194408c85910e198a8b6e17",
            "5925468dfe73488c9ae7d5e45e9388b9",
            "7674d3521b4e4c4abed8dfada41e830e",
            "cd77e55435cb4a04996e27b5273a125e",
            "07a7a4e65a22415eb4608a952d816dca",
            "9574479be89b4c509f0007072d269ac6",
            "29f3d94108c94bd5989ee122c426d94a",
            "5618ceab2c4349339ff69ab429d80c0f",
            "4c81473fc35e4dac8ecf6882d2168ab9",
            "640a8fc057134317899d72f404324537",
            "9961a536ed7c4611ab01d8bcfa197607",
            "7272f0d2add8407b9e2e1089df3dff1b",
            "4ce221bd25a644fdb4ad0bc2fea92c13",
            "1a1825c3319f455d9f8d0874c599b49b",
            "dde7d32a08bc4998b7beb21d7d19e431",
            "611083167f5046cd912cfcd6052bfaf2",
            "bae9096afad5477684e0f2f57ae2f623",
            "b15d011755be482eb18daa4ffed6f638",
            "0fb05d8a41e9484e8b48aa9ec0d009e3",
            "009c4555705141e88c104a6732870327",
            "2da289be61ac43d6b9de507dfb552ddb",
            "17453f61a3f2491a9c56021c95ff11dc",
            "8bc83b26c12740e382ee067ff5c15a56",
            "3d5a74fb2be548bf8ed5d8353163393c",
            "42515a9ca5ec4449b638e8869ae927bc",
            "cf158883dac84cf2ada87085323c2f88",
            "d6b792a7138c4d3f82d25a2c97918acf",
            "e9ef1cf1ef3e4d7d99cc6a6c5640271d",
            "174de2e296544dcd97b4ef66e04e541c",
            "d648f69a4f9048b6b1a8daec9987525c",
            "ba01bb526a9b4a7099d9b1bc57f1e383",
            "62457c4c35e54512b0f86abf189f9ee0",
            "46edc91ed83b47f98418e5efd9049220",
            "542a1c83b5c349978c48391785408030",
            "4449307081f04fe7a8531c2a646dfc78",
            "efb629da2ae84a01a06cdfe69135d51c",
            "7a4850464dfd4cb6991ad85d81bee1cb",
            "3ec825d7800f459c9c4fefa4e2f66d63",
            "5b052c1504a24719b8a65d6f597f5e4c",
            "9ea39a84f8e6463982158b44701cf912",
            "8986bc4935174e3f80852b9fa4a2e289",
            "47cae84137714495a0fa557ecefc899c",
            "b63e1b074ae340cd81edafc406116845",
            "a97e507d4ecb4770a5dc4f42fab3fbfe",
            "3f48eb01ab954969aaedaae34165b7f6",
            "55a8233dcde84f0e99352371d4597fb7",
            "c6c125f7274648ad9b676df79902b6d7",
            "c692703bed8b479b9bbd9e8701551a15",
            "9de24057f71348d6b9d5c0583120ab60",
            "982b1f9148944313926b6730130f3396",
            "14b6935714cb47c8a883b1ce0c710f97",
            "4d91a5f2699c462f9a3e458010848879",
            "792a935016d1433a981e6332e28f84bb",
            "97a5f68d76b545a7b87073c1033bce6c",
            "f504dc82c3e1417595e7ee255d282535",
            "22574d3ad6d6439b8b5405b524e15737",
            "89e62996a804441390e3c24d2ba0d243",
            "12326580f7754062a52b6b65a244897f",
            "765d33bad5b047d1bea6729a0e131781",
            "9b67f278695b4597a18afe35dfa1e5ad",
            "1ce71aa023304bd3838af5ec3757fc88",
            "4ac20569cf56434ba2b767488739980b",
            "17ab34be2e3c4e9ca9253d9f39eadd1e",
            "84b1dcf58c884193ba5a180bb998fbfb",
            "b4a65303e6024f0185bcd508d8bbee82",
            "6b1cdc54820d4059948aca1f80a5d00f",
            "d94b3717041c423cbbb0c2f289b646e2",
            "3dbcd28e60cb4e95a0045a1180d892c0",
            "e7e09a88873b41f7b330ca53855df95e",
            "484fe56e58bb438cb1ee1d27fc282dbf",
            "9104d11b48ef4b77b22f4377e0b28ba1",
            "8a199ded862f40d292372a0a2465186b",
            "f24720b1b4bc460c9b7bc0a2c94e291c",
            "823f725d61af47b9b2bac057bf9ba134",
            "b778a08bf7ba4582807114855c05d9f9",
            "661939b2bc864ea2ad591abdcd623862",
            "847c4d6b98504462bbeeb756667e0a7a",
            "88186279c1b54f23a9ad33875a259908",
            "00b6b8ba87f8401fa880e6745c33b49d",
            "be058925032f4ef596a18baf24b76375",
            "15d6ebde3e8c44c7a67d1d96bcdaa349",
            "364846345170414e8bbdbdd72f70d71c",
            "64f96ecf7be84b84915477f4c72e2721",
            "70be363936aa46d692e3be4cf185d0af",
            "366680d6cfe142af82a3d0b6c9e2c317",
            "387e9b7ec4f24e8d90f504fbafffacd4",
            "e0b88d24a5c246ad94d7f3ce92a8d204",
            "d3cfd39a338d4299a9799f9a9ea76311",
            "9496855879324c17a744a8f4e24092f1",
            "d5b4b441b8a4461cb3e4d2770ffb0154",
            "86b43e409b1e4aeaaf04533eb347a835",
            "a2ace506193d4894bf3a2ec9eb4e03ac",
            "1660a4264ece423fbc48513d09d7ce0a",
            "f38da942ea4345c0961b98dd249f9a04",
            "644bfbc39bca4ce290c323af89548c02",
            "72e26c46f3e54fbd8f1b176219aa388d",
            "26911a79ee2d4b20b66cdb06307a35e9",
            "ef7847056e9b4e4fbb9c2ba3c8e53baf",
            "a63a2869684041309830e5e4013efa04",
            "8357eef8e7694bb7924f21b490428899",
            "2ce955c4f7574b1db2b0b0491ff5c90c",
            "e4010560e54e4c14a7cd4b25b830eb14",
            "898b7f5c341a4981924d0f8a39fa0d6e",
            "cffac7d74f6e48a5bce4a1b92706e569",
            "b0cf97f5c3e142519f471da287157c7b",
            "640157f9e05b490ca84b86c0b5d75683",
            "d488ae5e136143c08543c423bd7a9c16",
            "d1d23fb4f36748c59618f77492656c19",
            "6cfdce8fd1714e89b70a0b85362c2a11",
            "deb76964f0c24499a4e14a83ec2b7a45",
            "23714c8c222541dc8937f47b715c1bfd"
          ]
        },
        "id": "-9H3HDXdveJz",
        "outputId": "405166ef-7c7d-40c9-8333-d0886bf1944e"
      },
      "execution_count": 21,
      "outputs": [
        {
          "output_type": "stream",
          "name": "stderr",
          "text": [
            "/usr/local/lib/python3.10/dist-packages/huggingface_hub/utils/_token.py:88: UserWarning: \n",
            "The secret `HF_TOKEN` does not exist in your Colab secrets.\n",
            "To authenticate with the Hugging Face Hub, create a token in your settings tab (https://huggingface.co/settings/tokens), set it as secret in your Google Colab and restart your session.\n",
            "You will be able to reuse this secret in all of your notebooks.\n",
            "Please note that authentication is recommended but still optional to access public models or datasets.\n",
            "  warnings.warn(\n"
          ]
        },
        {
          "output_type": "display_data",
          "data": {
            "text/plain": [
              "Fetching 22 files:   0%|          | 0/22 [00:00<?, ?it/s]"
            ],
            "application/vnd.jupyter.widget-view+json": {
              "version_major": 2,
              "version_minor": 0,
              "model_id": "376d673218bd4259ae70c1ed114907a4"
            }
          },
          "metadata": {}
        },
        {
          "output_type": "display_data",
          "data": {
            "text/plain": [
              "config_sentence_transformers.json:   0%|          | 0.00/123 [00:00<?, ?B/s]"
            ],
            "application/vnd.jupyter.widget-view+json": {
              "version_major": 2,
              "version_minor": 0,
              "model_id": "3146e1a0df354311a6206e52bfc738b3"
            }
          },
          "metadata": {}
        },
        {
          "output_type": "display_data",
          "data": {
            "text/plain": [
              "1_Pooling/config.json:   0%|          | 0.00/191 [00:00<?, ?B/s]"
            ],
            "application/vnd.jupyter.widget-view+json": {
              "version_major": 2,
              "version_minor": 0,
              "model_id": "6f3ec993a932457e9fe64ffaf64bcd5c"
            }
          },
          "metadata": {}
        },
        {
          "output_type": "display_data",
          "data": {
            "text/plain": [
              "colbert_linear.pt:   0%|          | 0.00/2.10M [00:00<?, ?B/s]"
            ],
            "application/vnd.jupyter.widget-view+json": {
              "version_major": 2,
              "version_minor": 0,
              "model_id": "0d28f51c48b74427a4f02fdff93dbd2d"
            }
          },
          "metadata": {}
        },
        {
          "output_type": "display_data",
          "data": {
            "text/plain": [
              "imgs/bm25.jpg:   0%|          | 0.00/69.0k [00:00<?, ?B/s]"
            ],
            "application/vnd.jupyter.widget-view+json": {
              "version_major": 2,
              "version_minor": 0,
              "model_id": "36f11d1294ce450aa5f492b8662ceb5a"
            }
          },
          "metadata": {}
        },
        {
          "output_type": "display_data",
          "data": {
            "text/plain": [
              "README.md:   0%|          | 0.00/15.0k [00:00<?, ?B/s]"
            ],
            "application/vnd.jupyter.widget-view+json": {
              "version_major": 2,
              "version_minor": 0,
              "model_id": "a010b128f5bb4cc9afb5e8ed74d6d444"
            }
          },
          "metadata": {}
        },
        {
          "output_type": "display_data",
          "data": {
            "text/plain": [
              "config.json:   0%|          | 0.00/687 [00:00<?, ?B/s]"
            ],
            "application/vnd.jupyter.widget-view+json": {
              "version_major": 2,
              "version_minor": 0,
              "model_id": "99b28c43b3034f0cbad7553d7c745f9f"
            }
          },
          "metadata": {}
        },
        {
          "output_type": "display_data",
          "data": {
            "text/plain": [
              ".gitattributes:   0%|          | 0.00/1.57k [00:00<?, ?B/s]"
            ],
            "application/vnd.jupyter.widget-view+json": {
              "version_major": 2,
              "version_minor": 0,
              "model_id": "20afddcbc4fd4ff88c16db598dafe327"
            }
          },
          "metadata": {}
        },
        {
          "output_type": "display_data",
          "data": {
            "text/plain": [
              "imgs/long.jpg:   0%|          | 0.00/485k [00:00<?, ?B/s]"
            ],
            "application/vnd.jupyter.widget-view+json": {
              "version_major": 2,
              "version_minor": 0,
              "model_id": "9248f91d8324447a9a0a1c47cd4a3338"
            }
          },
          "metadata": {}
        },
        {
          "output_type": "display_data",
          "data": {
            "text/plain": [
              "imgs/.DS_Store:   0%|          | 0.00/6.15k [00:00<?, ?B/s]"
            ],
            "application/vnd.jupyter.widget-view+json": {
              "version_major": 2,
              "version_minor": 0,
              "model_id": "2f1f606edf2e494da9d974dd173cc986"
            }
          },
          "metadata": {}
        },
        {
          "output_type": "display_data",
          "data": {
            "text/plain": [
              "imgs/miracl.jpg:   0%|          | 0.00/448k [00:00<?, ?B/s]"
            ],
            "application/vnd.jupyter.widget-view+json": {
              "version_major": 2,
              "version_minor": 0,
              "model_id": "be9e4c5191ac4104b37ad66882411f0e"
            }
          },
          "metadata": {}
        },
        {
          "output_type": "display_data",
          "data": {
            "text/plain": [
              "imgs/mkqa.jpg:   0%|          | 0.00/608k [00:00<?, ?B/s]"
            ],
            "application/vnd.jupyter.widget-view+json": {
              "version_major": 2,
              "version_minor": 0,
              "model_id": "7e0e3abd9e5246deafe0d2113b617b66"
            }
          },
          "metadata": {}
        },
        {
          "output_type": "display_data",
          "data": {
            "text/plain": [
              "imgs/others.webp:   0%|          | 0.00/21.0k [00:00<?, ?B/s]"
            ],
            "application/vnd.jupyter.widget-view+json": {
              "version_major": 2,
              "version_minor": 0,
              "model_id": "1dd180c9d433488187b63493746c6ba4"
            }
          },
          "metadata": {}
        },
        {
          "output_type": "display_data",
          "data": {
            "text/plain": [
              "imgs/nqa.jpg:   0%|          | 0.00/158k [00:00<?, ?B/s]"
            ],
            "application/vnd.jupyter.widget-view+json": {
              "version_major": 2,
              "version_minor": 0,
              "model_id": "5925468dfe73488c9ae7d5e45e9388b9"
            }
          },
          "metadata": {}
        },
        {
          "output_type": "display_data",
          "data": {
            "text/plain": [
              "long.jpg:   0%|          | 0.00/127k [00:00<?, ?B/s]"
            ],
            "application/vnd.jupyter.widget-view+json": {
              "version_major": 2,
              "version_minor": 0,
              "model_id": "4ce221bd25a644fdb4ad0bc2fea92c13"
            }
          },
          "metadata": {}
        },
        {
          "output_type": "display_data",
          "data": {
            "text/plain": [
              "modules.json:   0%|          | 0.00/349 [00:00<?, ?B/s]"
            ],
            "application/vnd.jupyter.widget-view+json": {
              "version_major": 2,
              "version_minor": 0,
              "model_id": "3d5a74fb2be548bf8ed5d8353163393c"
            }
          },
          "metadata": {}
        },
        {
          "output_type": "display_data",
          "data": {
            "text/plain": [
              "sentence_bert_config.json:   0%|          | 0.00/54.0 [00:00<?, ?B/s]"
            ],
            "application/vnd.jupyter.widget-view+json": {
              "version_major": 2,
              "version_minor": 0,
              "model_id": "4449307081f04fe7a8531c2a646dfc78"
            }
          },
          "metadata": {}
        },
        {
          "output_type": "display_data",
          "data": {
            "text/plain": [
              "special_tokens_map.json:   0%|          | 0.00/964 [00:00<?, ?B/s]"
            ],
            "application/vnd.jupyter.widget-view+json": {
              "version_major": 2,
              "version_minor": 0,
              "model_id": "55a8233dcde84f0e99352371d4597fb7"
            }
          },
          "metadata": {}
        },
        {
          "output_type": "display_data",
          "data": {
            "text/plain": [
              "tokenizer_config.json:   0%|          | 0.00/444 [00:00<?, ?B/s]"
            ],
            "application/vnd.jupyter.widget-view+json": {
              "version_major": 2,
              "version_minor": 0,
              "model_id": "89e62996a804441390e3c24d2ba0d243"
            }
          },
          "metadata": {}
        },
        {
          "output_type": "display_data",
          "data": {
            "text/plain": [
              "sentencepiece.bpe.model:   0%|          | 0.00/5.07M [00:00<?, ?B/s]"
            ],
            "application/vnd.jupyter.widget-view+json": {
              "version_major": 2,
              "version_minor": 0,
              "model_id": "3dbcd28e60cb4e95a0045a1180d892c0"
            }
          },
          "metadata": {}
        },
        {
          "output_type": "display_data",
          "data": {
            "text/plain": [
              "pytorch_model.bin:   0%|          | 0.00/2.27G [00:00<?, ?B/s]"
            ],
            "application/vnd.jupyter.widget-view+json": {
              "version_major": 2,
              "version_minor": 0,
              "model_id": "00b6b8ba87f8401fa880e6745c33b49d"
            }
          },
          "metadata": {}
        },
        {
          "output_type": "display_data",
          "data": {
            "text/plain": [
              "tokenizer.json:   0%|          | 0.00/17.1M [00:00<?, ?B/s]"
            ],
            "application/vnd.jupyter.widget-view+json": {
              "version_major": 2,
              "version_minor": 0,
              "model_id": "d5b4b441b8a4461cb3e4d2770ffb0154"
            }
          },
          "metadata": {}
        },
        {
          "output_type": "display_data",
          "data": {
            "text/plain": [
              "sparse_linear.pt:   0%|          | 0.00/3.52k [00:00<?, ?B/s]"
            ],
            "application/vnd.jupyter.widget-view+json": {
              "version_major": 2,
              "version_minor": 0,
              "model_id": "2ce955c4f7574b1db2b0b0491ff5c90c"
            }
          },
          "metadata": {}
        }
      ]
    },
    {
      "cell_type": "code",
      "source": [
        "sword_1 = [\"老师\", \"商品\"]\n",
        "sword_2 = [\"教师\", \"货物\"]"
      ],
      "metadata": {
        "id": "i7qohF0W2tOV"
      },
      "execution_count": 22,
      "outputs": []
    },
    {
      "cell_type": "markdown",
      "source": [
        "## dense"
      ],
      "metadata": {
        "id": "nLY1T4PYmFYb"
      }
    },
    {
      "cell_type": "markdown",
      "source": [
        "### 測試在中文上的效果"
      ],
      "metadata": {
        "id": "qLZMAeGbmUAr"
      }
    },
    {
      "cell_type": "code",
      "source": [
        "embeddings_1 = model.encode(sword_1,\n",
        "                            batch_size=12,\n",
        "                            max_length=8192, # If you don't need such a long length, you can set a smaller value to speed up the encoding process.\n",
        "                            )['dense_vecs']\n",
        "embeddings_2 = model.encode(sword_2)['dense_vecs']\n",
        "similarity = embeddings_1 @ embeddings_2.T\n",
        "print(similarity)"
      ],
      "metadata": {
        "colab": {
          "base_uri": "https://localhost:8080/"
        },
        "id": "rxy0uO_myVqe",
        "outputId": "724b2910-ecf3-4931-b859-3e8d241ae22c"
      },
      "execution_count": 23,
      "outputs": [
        {
          "output_type": "stream",
          "name": "stdout",
          "text": [
            "[[0.8509769  0.5041799 ]\n",
            " [0.464958   0.74887514]]\n"
          ]
        }
      ]
    },
    {
      "cell_type": "markdown",
      "source": [
        "### train test data embedding"
      ],
      "metadata": {
        "id": "gxLSpWRBuI_z"
      }
    },
    {
      "cell_type": "code",
      "source": [
        "# train_embeddings_all = model.encode(tokenized_train_summaries, max_length=1500)"
      ],
      "metadata": {
        "id": "69yyRehT7rVA"
      },
      "execution_count": null,
      "outputs": []
    },
    {
      "cell_type": "code",
      "source": [
        "# test_embeddings_all = model.encode(tokenized_test_summaries, max_length=1500)"
      ],
      "metadata": {
        "id": "F9AVdzJY7uQV"
      },
      "execution_count": null,
      "outputs": []
    },
    {
      "cell_type": "code",
      "source": [
        "# with open(folder_path + 'train_embeddings_all.pkl', 'wb') as f:\n",
        "#     pickle.dump(train_embeddings_all, f)"
      ],
      "metadata": {
        "id": "1l9TuA1Q72ZX"
      },
      "execution_count": null,
      "outputs": []
    },
    {
      "cell_type": "code",
      "source": [
        "# with open(folder_path + 'test_embeddings_all.pkl', 'wb') as f:\n",
        "#     pickle.dump(test_embeddings_all, f)"
      ],
      "metadata": {
        "id": "cV2UQ5g077MH"
      },
      "execution_count": null,
      "outputs": []
    },
    {
      "cell_type": "code",
      "source": [
        "with open(folder_path + 'train_embeddings_all.pkl', 'rb') as f:\n",
        "    train_embeddings_all = pickle.load(f)"
      ],
      "metadata": {
        "id": "_hD0lmjw7RFC"
      },
      "execution_count": 26,
      "outputs": []
    },
    {
      "cell_type": "code",
      "source": [
        "train_embeddings_all['dense_vecs']"
      ],
      "metadata": {
        "colab": {
          "base_uri": "https://localhost:8080/"
        },
        "id": "GL3CusJo7eHc",
        "outputId": "e252fa8f-e8b4-4c98-fe5c-7fba92611599"
      },
      "execution_count": 28,
      "outputs": [
        {
          "output_type": "execute_result",
          "data": {
            "text/plain": [
              "array([[-0.03034765,  0.02622485, -0.01174086, ..., -0.01362408,\n",
              "        -0.04923247, -0.0444256 ],\n",
              "       [-0.02140026,  0.0173902 , -0.06489349, ..., -0.00908999,\n",
              "        -0.02669849,  0.02307938],\n",
              "       [-0.01579434,  0.04073653, -0.02186119, ..., -0.02366436,\n",
              "        -0.0657978 , -0.05442155],\n",
              "       ...,\n",
              "       [-0.05367578,  0.01930024, -0.00059708, ...,  0.015949  ,\n",
              "        -0.05102739,  0.01105056],\n",
              "       [-0.01177966,  0.02777622, -0.02606803, ..., -0.01549191,\n",
              "        -0.04460454, -0.01327729],\n",
              "       [-0.0269404 ,  0.02274233, -0.03002858, ...,  0.02050726,\n",
              "        -0.04272795,  0.0081914 ]], dtype=float32)"
            ]
          },
          "metadata": {},
          "execution_count": 28
        }
      ]
    },
    {
      "cell_type": "code",
      "source": [
        "# train_embeddings = model.encode(tokenized_train_summaries, max_length=1500)['dense_vecs']"
      ],
      "metadata": {
        "id": "0H-6GooNssZ8",
        "colab": {
          "base_uri": "https://localhost:8080/"
        },
        "outputId": "9b4b067b-6f53-4fe9-fb6a-d2502f15a133"
      },
      "execution_count": null,
      "outputs": [
        {
          "metadata": {
            "tags": null
          },
          "name": "stderr",
          "output_type": "stream",
          "text": [
            "Inference Embeddings:  81%|████████  | 34/42 [1:20:17<19:33, 146.66s/it]"
          ]
        }
      ]
    },
    {
      "cell_type": "code",
      "source": [
        "# test_embeddings = model.encode(tokenized_test_summaries, max_length=1500)['dense_vecs']"
      ],
      "metadata": {
        "id": "LBqEudP7wClT"
      },
      "execution_count": null,
      "outputs": []
    },
    {
      "cell_type": "code",
      "source": [
        "# np.savetxt(folder_path + 'train_embeddings.txt', train_embeddings)\n",
        "# np.savetxt(folder_path + 'test_embeddings.txt', test_embeddings)"
      ],
      "metadata": {
        "id": "hXEJpFhjT78_"
      },
      "execution_count": null,
      "outputs": []
    },
    {
      "cell_type": "code",
      "source": [
        "train_embeddings = np.loadtxt(folder_path + 'train_embeddings.txt')\n",
        "test_embeddings = np.loadtxt(folder_path + 'test_embeddings.txt')"
      ],
      "metadata": {
        "id": "lJgaKDBJUVOr"
      },
      "execution_count": null,
      "outputs": []
    },
    {
      "cell_type": "code",
      "source": [
        "type(train_embeddings)"
      ],
      "metadata": {
        "colab": {
          "base_uri": "https://localhost:8080/"
        },
        "id": "jWssyR6JC5SE",
        "outputId": "b6ddb368-ceab-4625-b32b-2b01dab7e149"
      },
      "execution_count": null,
      "outputs": [
        {
          "output_type": "execute_result",
          "data": {
            "text/plain": [
              "numpy.ndarray"
            ]
          },
          "metadata": {},
          "execution_count": 91
        }
      ]
    },
    {
      "cell_type": "code",
      "source": [
        "train_embeddings"
      ],
      "metadata": {
        "colab": {
          "base_uri": "https://localhost:8080/"
        },
        "id": "g-qLnr2oEwmq",
        "outputId": "01a4c1ef-0cfc-4fa3-fcaf-390c5f3a2559"
      },
      "execution_count": null,
      "outputs": [
        {
          "output_type": "execute_result",
          "data": {
            "text/plain": [
              "array([[-0.03034765,  0.02622485, -0.01174086, ..., -0.01362408,\n",
              "        -0.04923247, -0.0444256 ],\n",
              "       [-0.02140026,  0.0173902 , -0.06489349, ..., -0.00908999,\n",
              "        -0.02669849,  0.02307938],\n",
              "       [-0.01579434,  0.04073653, -0.02186119, ..., -0.02366436,\n",
              "        -0.0657978 , -0.05442155],\n",
              "       ...,\n",
              "       [-0.05367578,  0.01930024, -0.00059708, ...,  0.015949  ,\n",
              "        -0.05102739,  0.01105056],\n",
              "       [-0.01177966,  0.02777622, -0.02606803, ..., -0.01549191,\n",
              "        -0.04460454, -0.01327729],\n",
              "       [-0.0269404 ,  0.02274233, -0.03002858, ...,  0.02050726,\n",
              "        -0.04272795,  0.0081914 ]])"
            ]
          },
          "metadata": {},
          "execution_count": 92
        }
      ]
    },
    {
      "cell_type": "code",
      "source": [
        "print(test_embeddings.shape)\n",
        "print(test_embeddings[0].shape)\n",
        "print(test_embeddings[0].reshape(-1, 1).shape)"
      ],
      "metadata": {
        "colab": {
          "base_uri": "https://localhost:8080/"
        },
        "id": "O4TxUwaNQDAc",
        "outputId": "f7b051be-0be9-4b73-cca4-81df0b473213"
      },
      "execution_count": null,
      "outputs": [
        {
          "output_type": "stream",
          "name": "stdout",
          "text": [
            "(100, 1024)\n",
            "(1024,)\n",
            "(1024, 1)\n"
          ]
        }
      ]
    },
    {
      "cell_type": "markdown",
      "source": [
        "### KNN"
      ],
      "metadata": {
        "id": "BaDddnUHuOqy"
      }
    },
    {
      "cell_type": "code",
      "source": [
        "k = 5\n",
        "knn_model_SBERT = NearestNeighbors(n_neighbors=k, metric='cosine')\n",
        "knn_model_SBERT.fit(train_embeddings)"
      ],
      "metadata": {
        "id": "IJYMUBXqt-Mi",
        "colab": {
          "base_uri": "https://localhost:8080/",
          "height": 75
        },
        "outputId": "9b99c13c-913f-49cb-8ec2-57ffdd340d5a"
      },
      "execution_count": null,
      "outputs": [
        {
          "output_type": "execute_result",
          "data": {
            "text/plain": [
              "NearestNeighbors(metric='cosine')"
            ],
            "text/html": [
              "<style>#sk-container-id-2 {color: black;background-color: white;}#sk-container-id-2 pre{padding: 0;}#sk-container-id-2 div.sk-toggleable {background-color: white;}#sk-container-id-2 label.sk-toggleable__label {cursor: pointer;display: block;width: 100%;margin-bottom: 0;padding: 0.3em;box-sizing: border-box;text-align: center;}#sk-container-id-2 label.sk-toggleable__label-arrow:before {content: \"▸\";float: left;margin-right: 0.25em;color: #696969;}#sk-container-id-2 label.sk-toggleable__label-arrow:hover:before {color: black;}#sk-container-id-2 div.sk-estimator:hover label.sk-toggleable__label-arrow:before {color: black;}#sk-container-id-2 div.sk-toggleable__content {max-height: 0;max-width: 0;overflow: hidden;text-align: left;background-color: #f0f8ff;}#sk-container-id-2 div.sk-toggleable__content pre {margin: 0.2em;color: black;border-radius: 0.25em;background-color: #f0f8ff;}#sk-container-id-2 input.sk-toggleable__control:checked~div.sk-toggleable__content {max-height: 200px;max-width: 100%;overflow: auto;}#sk-container-id-2 input.sk-toggleable__control:checked~label.sk-toggleable__label-arrow:before {content: \"▾\";}#sk-container-id-2 div.sk-estimator input.sk-toggleable__control:checked~label.sk-toggleable__label {background-color: #d4ebff;}#sk-container-id-2 div.sk-label input.sk-toggleable__control:checked~label.sk-toggleable__label {background-color: #d4ebff;}#sk-container-id-2 input.sk-hidden--visually {border: 0;clip: rect(1px 1px 1px 1px);clip: rect(1px, 1px, 1px, 1px);height: 1px;margin: -1px;overflow: hidden;padding: 0;position: absolute;width: 1px;}#sk-container-id-2 div.sk-estimator {font-family: monospace;background-color: #f0f8ff;border: 1px dotted black;border-radius: 0.25em;box-sizing: border-box;margin-bottom: 0.5em;}#sk-container-id-2 div.sk-estimator:hover {background-color: #d4ebff;}#sk-container-id-2 div.sk-parallel-item::after {content: \"\";width: 100%;border-bottom: 1px solid gray;flex-grow: 1;}#sk-container-id-2 div.sk-label:hover label.sk-toggleable__label {background-color: #d4ebff;}#sk-container-id-2 div.sk-serial::before {content: \"\";position: absolute;border-left: 1px solid gray;box-sizing: border-box;top: 0;bottom: 0;left: 50%;z-index: 0;}#sk-container-id-2 div.sk-serial {display: flex;flex-direction: column;align-items: center;background-color: white;padding-right: 0.2em;padding-left: 0.2em;position: relative;}#sk-container-id-2 div.sk-item {position: relative;z-index: 1;}#sk-container-id-2 div.sk-parallel {display: flex;align-items: stretch;justify-content: center;background-color: white;position: relative;}#sk-container-id-2 div.sk-item::before, #sk-container-id-2 div.sk-parallel-item::before {content: \"\";position: absolute;border-left: 1px solid gray;box-sizing: border-box;top: 0;bottom: 0;left: 50%;z-index: -1;}#sk-container-id-2 div.sk-parallel-item {display: flex;flex-direction: column;z-index: 1;position: relative;background-color: white;}#sk-container-id-2 div.sk-parallel-item:first-child::after {align-self: flex-end;width: 50%;}#sk-container-id-2 div.sk-parallel-item:last-child::after {align-self: flex-start;width: 50%;}#sk-container-id-2 div.sk-parallel-item:only-child::after {width: 0;}#sk-container-id-2 div.sk-dashed-wrapped {border: 1px dashed gray;margin: 0 0.4em 0.5em 0.4em;box-sizing: border-box;padding-bottom: 0.4em;background-color: white;}#sk-container-id-2 div.sk-label label {font-family: monospace;font-weight: bold;display: inline-block;line-height: 1.2em;}#sk-container-id-2 div.sk-label-container {text-align: center;}#sk-container-id-2 div.sk-container {/* jupyter's `normalize.less` sets `[hidden] { display: none; }` but bootstrap.min.css set `[hidden] { display: none !important; }` so we also need the `!important` here to be able to override the default hidden behavior on the sphinx rendered scikit-learn.org. See: https://github.com/scikit-learn/scikit-learn/issues/21755 */display: inline-block !important;position: relative;}#sk-container-id-2 div.sk-text-repr-fallback {display: none;}</style><div id=\"sk-container-id-2\" class=\"sk-top-container\"><div class=\"sk-text-repr-fallback\"><pre>NearestNeighbors(metric=&#x27;cosine&#x27;)</pre><b>In a Jupyter environment, please rerun this cell to show the HTML representation or trust the notebook. <br />On GitHub, the HTML representation is unable to render, please try loading this page with nbviewer.org.</b></div><div class=\"sk-container\" hidden><div class=\"sk-item\"><div class=\"sk-estimator sk-toggleable\"><input class=\"sk-toggleable__control sk-hidden--visually\" id=\"sk-estimator-id-2\" type=\"checkbox\" checked><label for=\"sk-estimator-id-2\" class=\"sk-toggleable__label sk-toggleable__label-arrow\">NearestNeighbors</label><div class=\"sk-toggleable__content\"><pre>NearestNeighbors(metric=&#x27;cosine&#x27;)</pre></div></div></div></div></div>"
            ]
          },
          "metadata": {},
          "execution_count": 85
        }
      ]
    },
    {
      "cell_type": "code",
      "source": [
        "# 將模型保存到文件\n",
        "with open(folder_path + 'knn_model_SBERT.pkl', 'wb') as f:\n",
        "    pickle.dump(knn_model_SBERT, f)"
      ],
      "metadata": {
        "id": "myC_5utZUyeL"
      },
      "execution_count": null,
      "outputs": []
    },
    {
      "cell_type": "code",
      "source": [
        "# 從文件加載模型\n",
        "with open(folder_path + 'knn_model_SBERT.pkl', 'rb') as f:\n",
        "    knn_model_SBERT_loaded = pickle.load(f)"
      ],
      "metadata": {
        "id": "-A1wUWzzREC0"
      },
      "execution_count": null,
      "outputs": []
    },
    {
      "cell_type": "markdown",
      "source": [
        "### 以第一篇test fact進行測試"
      ],
      "metadata": {
        "id": "f6pOE2hEusRC"
      }
    },
    {
      "cell_type": "code",
      "source": [
        "distances, indices = knn_model_SBERT_loaded.kneighbors(test_embeddings[0].reshape(1, -1))"
      ],
      "metadata": {
        "id": "Hh6QRA0QuqC7"
      },
      "execution_count": null,
      "outputs": []
    },
    {
      "cell_type": "code",
      "source": [
        "indices"
      ],
      "metadata": {
        "id": "AECkeI7qwi-g",
        "colab": {
          "base_uri": "https://localhost:8080/"
        },
        "outputId": "a6689cc1-93c8-425b-b909-81fbf1204b30"
      },
      "execution_count": null,
      "outputs": [
        {
          "output_type": "execute_result",
          "data": {
            "text/plain": [
              "array([[415,  47, 114, 250, 137]])"
            ]
          },
          "metadata": {},
          "execution_count": 88
        }
      ]
    },
    {
      "cell_type": "code",
      "source": [
        "distances"
      ],
      "metadata": {
        "id": "a7QaNZzFwn-C",
        "colab": {
          "base_uri": "https://localhost:8080/"
        },
        "outputId": "8f177237-c165-43f2-929c-ba4e4b940902"
      },
      "execution_count": null,
      "outputs": [
        {
          "output_type": "execute_result",
          "data": {
            "text/plain": [
              "array([[0.22361922, 0.26161647, 0.27732217, 0.28204942, 0.2864439 ]],\n",
              "      dtype=float32)"
            ]
          },
          "metadata": {},
          "execution_count": 89
        }
      ]
    },
    {
      "cell_type": "code",
      "source": [
        "test_facts[0]"
      ],
      "metadata": {
        "id": "PhZb176t8sCA",
        "colab": {
          "base_uri": "https://localhost:8080/",
          "height": 214
        },
        "outputId": "fa8d30d4-d6ea-458a-92c1-dd267bdb8def"
      },
      "execution_count": null,
      "outputs": [
        {
          "output_type": "execute_result",
          "data": {
            "text/plain": [
              "'○、緣徐鴻光（所涉行使偽造私文書犯行，業經本院以95年度訴字第955號判決處有期徒刑3月、緩刑3年確定）因需款使用，知悉穆立明有借款管道，為求順利借款，2人竟共同意圖為自己不法所有，基於行使偽造私文書及詐欺取財之犯意聯絡，知悉車牌號碼00-000號營業小客車係徐鴻光向志朗交通有限公司（下稱志朗公司）租賃之車輛，竟由穆立明先於不詳時間、不詳地點，偽刻「志朗交通有限公司」及負責人「陳健志」印章（正確姓名為陳建志，誤刻為「陳健志」）各1枚，並偽造「陳健志」代表志朗公司與徐鴻光簽署之「臺北市計程車客運駕駛人自備車輛參與經營契約書」（下稱本案參與經營契約書），虛偽記載徐鴻光提供上述營業小客車靠行志朗公司營業等不實內容，並持上開偽刻印章，偽造「志朗交通有限公司」印文4枚、「陳健志」印文6枚於本案參與經營契約書上，再於92年3月6日交徐鴻光於立約人乙方欄簽名，2人復於同日協同不知情之徐鴻光配偶徐樂仁（所涉行使偽造私文書犯行，業經本院以95年度訴字第955號判決無罪確定），前往臺北市○○區○○街00巷0號2樓王傑生所經營之宏帝當舖（現更名為渣打當舖），由徐鴻光、穆立明交付偽造本案參與經營契約書向宏帝當鋪借款新臺幣（下同）10萬元以為行使，並約定由徐樂仁擔任連帶保證人，王傑生誤信上開車輛為徐鴻光所有而陷入錯誤，於扣除利息後交付9萬1千元借款予徐鴻光夫婦，足以生損害於志朗公司、陳建志、王傑生。嗣因徐鴻光僅清償每期7千元之分期款共11期計7萬7千元，未全額清償即無力負擔債務，王傑生始查知上開車輛非徐鴻光所有，而悉上情。二、案經王傑生訴由臺灣士林地方法院檢察署檢察官偵查起訴。理由○、證據能力部分：被告以外之人於審判外之言詞或書面陳述，除法律有規定者外，不得作為證據；又被告以外之人於審判外之陳述，雖不符合同法第159條之1至第159條之4之規定，但經當事人於審判程序同意作為證據，法院審酌該言詞陳述或書面陳述作成時之情況，認為適當者，亦得為證據。刑事訴訟法第159條第1項及第159條之5第1項分別定有明文。經查，本判決所引用之各該被告以外之人於審判外之陳述，雖屬傳聞證據，然當事人於本院審判期日中均表示同意作為證據方法而不予爭執，且迄至言詞辯論終結前亦未再聲明異議（見本院卷第68頁至第68頁背面），本院審酌上開證據資料製作時之情況，尚無違法不當及證明力明顯過低之瑕疵，亦認為以之作為證據應屬適當，故揆諸前開規定，爰依刑事訴訟法第159條之5規定，認前揭證據資料均有證據能力。二、認定犯罪事實所憑之證據及理由：（一）訊據被告穆立明固坦承有於92年3月6日帶共同被告徐鴻光、徐樂仁至宏帝當鋪借錢，惟矢口否認有何行使偽造私文書及詐欺取財之犯行，辯稱：本案參與經營契約書係由共同被告徐鴻光所提出，徐鴻光知道我在宏帝當舖當業務員，他因資金不夠，要伊帶至宏帝當鋪借錢，伊請徐鴻光帶身分證、本案參與經營契約書，證明計程車係屬於徐鴻光所有，另外要帶一位保人云云。（二）經查，證人即志英交通公司負責人陳建志於檢察官偵查中結證稱：本案參與經營契約書上之「志朗交通有限公司」、「陳健志」之印文均非我公司的大小章，志朗交通公司也是我的公司，我是負責人，但這個章不是我的，被告徐鴻光只是加入無線電台等語（見94年度偵字第8715號卷第45頁），復有其提出真正之志朗交通有限公司及其本人陳建志之印文各4枚在卷可稽（見94年度偵字第8715號卷第48頁），經核卷附本案參與經營契約書上所示之「志朗交通有限公司」、「陳健志」印文（見95年度偵緝字第60號卷第53頁），除二者字體明顯不同外，本案參與經營契約書中「陳健志」名字中之「健」一字顯係錯別字，堪認本案參與經營契約書上所示之「志朗交通有限公司」、「陳健志」印文確屬偽造一節，應可認定。（三）證人即告訴人王傑生於檢察官偵查中證稱：我經營宏帝當鋪，後改名為渣打當鋪，地址在臺北市○○街00巷0號2樓，計程車典當給我們時，我們要看參與經營契約書，被告徐鴻光有來借錢，被告穆立明當時有在場，徐鴻光給我們看本案參與經營契約書，我們就以為車子是徐鴻光的，我們找到車之後才知道車子是車行的，被告穆立明是我們公司抽獎金的業務員，穆立明介紹人來借錢，我給他獎金等語（見94年度偵字第8715號卷第37頁、95年度偵緝字第60號卷第49頁、第68頁），且證人朱庭峰於檢察官偵查中及本院審理時亦結證稱：我是宏帝當鋪的負責人，後來當鋪讓給王傑生，被告徐鴻光到宏帝當鋪借款10萬元，係由我接洽，當時是被告穆立明介紹，穆立明不是公司職員，他會介紹車子到我們公司來典當，我會給穆立明佣金，即我收到1,000元利息，就給他100元，本案參與經營契約書是由穆立明拿出來等語（見95年度偵緝字第60號卷第68頁至第69頁、95年度訴字第955號卷第66頁至第67頁），復有本案參與經營契約書、本票影本各1份附卷可憑（見94年度偵字第8715號卷第14頁至第17頁），足認共同被告徐鴻光係經被告穆立明介紹，持本案參與經營契約書於上開時間前往宏帝當鋪借款10萬元，且被告穆立明於借款時在場之事實，洵堪認定。（四）被告穆立明雖辯稱：本案參與經營契約書係共同被告徐鴻光所提出，伊僅有將徐鴻光帶去當鋪，就由當舖的人接洽云云，惟查，證人即共同被告徐鴻光於本院審理時證稱：因為我當司機收入不高，家裡有需要用錢，被告穆立明說有辦法借錢，我請被告穆立明帶我去借款，被告穆立明有帶我去當鋪，我太太徐樂仁當時有一起陪同，卷附之本票影本係我當時在當鋪簽立，而本案參與經營契約書係被告穆立明幫我準備好的，經我在當舖蓋我的章及簽名，被告穆立明拿給我時契約書已經寫好資料，至於被告穆立明提出本案參與經營契約書之來源我不知道，被告穆立明只有要我帶駕照、行照、身分證及私章，車號00-000號營業用小客車是我用租的車子，車子是志朗公司的車子，本案參與經營契約書內容不是真的，車子不是我自備的，只有契約書末頁乙方的簽名是我簽的等語（見本院卷第64頁至第66頁背面），核與其在檢察官偵查中證稱：被告穆立明有帶我去宏帝當鋪向朱先生借錢，我借10萬元，本案參與經營契約書係被告穆立明幫我準備好的，前面的簽名及資料是被告穆立明簽的，只有最後的簽名是我簽的等語大致相符（見95年度偵緝字第60號卷第48頁至第49頁），再查，參以被告穆立明於本院審理時當庭書寫徐鴻光名字之字跡經與本案參與經營契約書立契約書人一欄所簽署「徐鴻光」之筆跡比對後（見本院卷第73頁），依肉眼觀之，不論字跡之運筆、筆勾等字體外觀，均較為吻合，反觀該契約書頁末之乙方「徐鴻光」之筆跡，與頁首立契約書人一欄所簽署「徐鴻光」之筆跡之運筆及筆勾，字跡明顯不同，是被告穆立明辯稱本案參與經營契約書係由共同被告徐鴻光提出云云，已難採信；又證人徐鴻光於本院審理時證稱：我曾經用上開車輛向別的當鋪借錢，當時別的當鋪說車子用租的也可以借，只要押行照在那裡即可，不需要像本件一樣的契約，本件是我去當鋪，他們說該簽名的地方，我就簽名，且是我透過別的司機得知被告穆立明可以幫我問問哪裡可以借錢，所以才找被告穆立明等語（見本院卷第65頁背面至第66頁背面），衡以證人徐鴻光涉犯本案犯行業經本院認定有罪確定，自應無虛偽陳述之動機，且被告穆立明自承與證人徐鴻光無糾紛，同為排班計程車司機，為點頭之交乙情，亦認證人徐鴻光無涉詞誣陷被告穆立明之可能；再參以證人王傑生、朱庭峰皆證述本案參與經營契約書係由被告穆立明提出一節，又被告並不否認宏帝當舖僅同意典當個人所有靠行之車輛，不同意典當向車行租的車輛等情，而本件共同被告徐鴻光既有提供行照予被告穆立明，業經其證述如前，則自行照之記載內容即可知悉上開車輛所有人為何人，被告穆立明豈有不知上開車輛所有人為何人之理，況被告穆立明供認介紹共同被告徐鴻光予宏帝當鋪借錢有利息百分之十之報酬等語（見本院卷第69頁背面），其當有可能為促成徐鴻光與宏帝當鋪借款，而提出本案經營契約書供作本件借款之用，是被告穆立明辯稱車子是徐鴻光說其自己所有，本案參與經營契約書係徐鴻光自行提出云云，顯係事後卸責之詞，不足採信。（五）綜上所述，被告上開所辯各節，無非事後避重就輕、圖卸之詞，不足採信，被告行使偽造私文書及詐欺取財等犯行，事證明確，應依法論科。三、論罪科刑部分：（一）按被告行為後，94年2月2日修正公布之刑法已於95年7月1日生效施行，其中第2條第1項「行為後法律有變更者，適用行為時之法律。但行為後之法律有利於行為人者，適用最有利於行為人之法律」之規定，係規範行為後法律變更所生新、舊法律比較適用之準據法，並非刑法實體法律，自不生行為後法律變更之比較適用問題，故刑法修正施行後，應適用該修正後之第2條第1項之規定，依「從舊、從輕」之原則比較新、舊法律之適用；又比較新舊法時，應就罪刑有關之共犯、未遂犯、想像競合犯、牽連犯、連續犯、結合犯，以及累犯加重、自首減輕暨其他法定加減原因（如身分加減）與加減例等一切情形，綜其全部罪刑之結果而為比較後，再適用有利於行為人之法律處斷，而不得一部割裂分別適用不同之新、舊法（最高法院24年上字第4634號、29年上字第964號判例意旨及最高法院95年度第8次刑事庭會議決議參照）。經查：1.刑法第33條第5款關於罰金刑之規定業於94年2月2日修正，於95年7月1日生效，修正前刑法第33條第5款規定：「罰金：1元（銀元）以上。」，並依現行法規所定貨幣單位折算新臺幣條例規定，以銀元1元折算新臺幣3元，故修正前刑法規定罰金之最低數額為新臺幣3元；修正後刑法第33條第5款規定：「罰金：新臺幣1,000元以上，以百元計算之。」，故修正後刑法規定罰金之最低數額提高為新臺幣1,000元；比較上開罰金刑之最高數額，於修正後並無不同，惟修正後刑法第33條第5款所定罰金刑最低數額，既較修正前提高，依前開說明，應適用對被告有利之修正前刑法第33條第5款之規定。2.修正前刑法第28條規定：「二人以上共同實施犯罪之行為者，皆為正犯。」，修正後該條規定為：「二人以上共同實行犯罪之行為者，皆為正犯。」，揆諸本條之修正理由，係為釐清陰謀共同正犯、預備共同正犯、共謀共同正犯是否合乎本條之正犯要件，並將陰謀共同正犯、預備共同正犯剔除於本條適用之外，以符合近代刑法之個人責任原則、法治國人權保障思想及犯罪支配理論，自屬行為後法律有變更，而非僅屬文字修正，應有新舊法比較適用問題（最高法院97年度台上字第37號判決意旨參照）。本件被告穆立明與徐鴻光就前揭行使偽造私文書及詐欺取財犯行各具有犯意聯絡及行為分擔，不論依修正前或修正後之規定，均屬共同正犯，對被告並無有利或不利之情形，應適用行為時之法律。3.被告行為後新法業已刪除牽連犯之規定，依舊法成立方法、結果行為而僅論以一罪者，依新法將論以數罪，比較新、舊法結果，自以修正前刑法第55條牽連犯之規定，較有利於被告。4.綜此，本院經綜合上述各條文修正前、後之比較，參照前揭最高法院決議及修正後刑法第2條第1項前段、後段規定之「從舊、從輕」原則，被告穆立明上開犯行自應適用行為時之法律，予以論處。（二）核被告穆立明所為，係犯刑法第216條、第210條之行使偽造私文書罪、同法第339條第1項詐欺取財罪。被告穆立明於本案參與經營契約書上偽造「志朗交通有限公司」、「陳健志」印章及印文乃偽造私文書之部分行為，其偽造本案參與經營契約書後持以行使，偽造之低度行為復為行使之高度行為所吸收，均不另論罪。被告穆立明與徐鴻光就行使偽造私文書及詐欺之犯行有犯意聯絡及行為分擔，為共同正犯。又其等行使偽造私文書之目的，在詐取告訴人之金錢，所犯連續行使偽造私文書與詐欺取財2罪間，有方法、目的之牽連關係，應依修正前刑法第55條規定，從一較重之行使偽造私文書罪處斷。（三）爰審酌被告穆立明不思以正當途徑賺取錢財，竟偽造志朗公司及其負責人陳建志之印章，進而偽造本案參與經營契約書，而詐取告訴人之金錢，足生損害於志朗公司、陳建志、告訴人，並危害社會交易秩序，所為實有不該，犯後否認犯行，未見悔悟之心，兼衡被告穆立明有違反票據法之前科，有臺灣高等法院被告前案紀錄表在卷可稽（見本院卷第60頁），素行尚可，共同被告徐鴻光於詐得借款後已陸續返還利息予告訴人與朱庭峰，及被告穆立明為高中肄業之智識程度，經濟狀況為小康之生活狀況等一切情狀（見被告警詢筆錄受詢問人欄，本院卷第6頁），量處如主文所示之刑，以資懲儆。又關於易科罰金之折算標準，修正前刑法第41條第1項前段規定：「犯最重本刑為5年以下有期徒刑以下之刑之罪，而受6個月以下有期徒刑或拘役之宣告，因身體、教育、職業、家庭之關係或其他正當事由，執行顯有困難者，得以1元以上3元以下折算1日，易科罰金。」，再依據修正前罰金罰鍰提高標準條例第2條：「依刑法第41條易科罰金或第42條第2項易服勞役者，均就其原定數額提高為1百倍折算1日；法律所定罰金數額未依本條例提高倍數，或其處罰法條無罰金刑之規定者，亦同。」之規定，被告行為時之易科罰金折算標準，應以銀元1百元以上3百元以下折算1日，經折算為新臺幣後，應以新臺幣3百元以上9百元以下折算1日。惟95年7月1日施行之刑法第41條第1項前段規定修正為：「犯最重本刑為5年以下有期徒刑以下之刑之罪，而受6個月以下有期徒刑或拘役之宣告者，得以新臺幣1千元、2千元或3千元折算一日，易科罰金。」，另95年7月1日生效施行之罰金罰鍰提高標準條例則刪除原本第2條之規定。是以比較新舊法結果，自以舊法所定之易科罰金折算標準有利於被告，故應依修正前刑法第41條第1項前段、修正前罰金罰鍰提高標準條例第2條規定，就所宣告之刑部分諭知易科罰金之折算標準。（四）偽造之「臺北市計程車客運駕駛人自備車輛參與經營契約書」原本1份固經共同被告徐鴻光於借款時行使交付予宏帝當鋪，業如前述，惟此僅係共同被告徐鴻光為借得款項，而將本案參與經營契約書交付當鋪作為擔保使用，其所有權仍為共同被告徐鴻光所有，不因行使而移轉為宏帝當鋪所有，又該偽造之契約既係供本件犯行所用，爰依刑法第38條第1項第2款規定宣告沒收。又契約上偽造之「志朗交通有限公司」印文4枚、「陳健志」之印文6枚固係偽造之印文，已因該契約之沒收而包括在內，無再重複諭知沒收之必要。另告訴人為提起本件告訴，而複印本案參與經營契約書資為證據（見94年度偵字第8715號卷第15至第17頁），因認僅係作為本案訴訟使用，而非被告穆立明、共同被告徐鴻光供本件犯行所用之物，就複印之契約書上之「志朗交通有限公司」印文4枚、「陳健志」之印文6枚，爰不予宣告沒收。至被告穆立明偽刻之「志朗交通有限公司」、「陳健志」印章各1枚，係偽造之印章，且無證據證明業已滅失，應依刑法第219條宣告沒收。（五）再按本條例施行前，經通緝而未於中華民國96年12月31日以前自動歸案接受偵查、審判或執行者，不得依本條例減刑，中華民國九十六年罪犯減刑條例第5條定有明文。查本件被告穆立明所為前開犯行之犯罪時間固係在96年4月24日以前，但其曾於中華民國九十六年罪犯減刑條例施行（96年7月16日施行）前之95年12月21日因本案經本院以95年士院刑玄緝字第463號通緝書發佈通緝，於102年9月1日甫緝獲歸案等情，此有前開通緝書、歸案證明書、本院102年士院刑玄銷字第289號撤銷通緝書各1份存卷可參（95年度訴字第955號卷第43頁、本院卷第26頁、第43頁），從而，依前開規定，本案被告無從依中華民國九十六年罪犯減刑條例之規定減刑，併此敘明。據上論斷，應依刑事訴訟法第299條第1項前段，刑法第2條1項前段、第28條、第216條、第210條、第339條第1項、第219條、第38條第1項第2款、修正前刑法第55條、第41條第1項前段，刑法施行法第1條之1第1項，修正前罰金罰鍰提高標準條例第2條，現行法規所定貨幣單位折算新臺幣條例第2條，判決如主文。本案經檢察官黃仙宜到庭執行職務。中華民國102年12月3日刑事第七庭審判長法官雷雯華法官陳介安法官蔡子琪以上正本證明與原本無異。如不服本判決應於收受送達後10日內向本院提出上訴書狀，並應敘述具體理由。其未敘述上訴理由者，應於上訴期間屆滿後20日內向本院補提理由書（均須按他造當事人之人數附繕本）「切勿逕送上級法院」。書記官李宜蓁中華民國102年12月5日附錄本案論罪科刑所依據之法條：刑法第216條、第210條、第339條第1項偽造、變造私文書，足以生損害於公眾或他人者，處5年以下有期徒刑。偽造印章、印文或署押，足以生損害於公眾或他人者，處3年以下有期徒刑。盜用印章、印文或署押，足以生損害於公眾或他人者，亦同。意圖為自己或第三人不法之所有，以詐術使人將本人或第三人之物交付者，處5年以下有期徒刑、拘役或科或併科1千元以下罰金。'"
            ],
            "application/vnd.google.colaboratory.intrinsic+json": {
              "type": "string"
            }
          },
          "metadata": {},
          "execution_count": 90
        }
      ]
    },
    {
      "cell_type": "code",
      "source": [
        "test_summaries[0]"
      ],
      "metadata": {
        "colab": {
          "base_uri": "https://localhost:8080/",
          "height": 71
        },
        "id": "LfxG42YpXgxt",
        "outputId": "59979898-c1a8-4a88-beed-04edc7539302"
      },
      "execution_count": null,
      "outputs": [
        {
          "output_type": "execute_result",
          "data": {
            "text/plain": [
              "'因徐鴻光需款使用，知悉穆立明有借款管道，為求順利借款，2人竟共同意圖為自己不法所有，基於行使偽造私文書及詐欺取財之犯意聯絡，偽造「陳健志」代表志朗公司與徐鴻光簽署的「臺北市計程車客運駕駛人自備車輛參與經營契約書」，並持上開偽刻印章，偽造「志朗交通有限公司」印文4枚、「陳健志」印文6枚於本案參與經營契約書上，再於92年3月6日交徐鴻光於立約人乙方欄簽名。嗣因徐鴻光僅清償每期7千元之分期款共11期計7萬7千元，未全額清償即無力負擔債務，王傑生始查知上開車輛非徐鴻光所有，而悉上情。二、案經王傑生訴由臺灣士林地方法院檢察署檢察官偵查起訴。'"
            ],
            "application/vnd.google.colaboratory.intrinsic+json": {
              "type": "string"
            }
          },
          "metadata": {},
          "execution_count": 91
        }
      ]
    },
    {
      "cell_type": "code",
      "source": [
        "# 打印最相近的五篇文章的索引及距離\n",
        "for i, index in enumerate(indices[0]):\n",
        "    print(\"Article Index:\", index, \"Distance:\", distances[0][i])\n",
        "    print(\"Article Text:\", train_facts[index])"
      ],
      "metadata": {
        "id": "LAV_rBAawqjK",
        "colab": {
          "base_uri": "https://localhost:8080/"
        },
        "outputId": "0055e47c-0d76-4999-e181-d458c1622cdb"
      },
      "execution_count": null,
      "outputs": [
        {
          "output_type": "stream",
          "name": "stdout",
          "text": [
            "Article Index: 415 Distance: 0.22361922\n",
            "Article Text: 一、緣陳榮煉於民國106年7月間，借用李美娟之名義，以分期付款方式購入車牌號碼000-0000號自小客車後，僅繳納16期分期價金後，即因經濟困難而無力繳清餘款，而導致李美娟屢遭銀行催繳遲延價金（所涉詐欺罪嫌另由檢察官為不起訴處分），李美娟遂要求陳榮煉儘速將車輛讓渡，且不得再以其名義及該車輛借款。嗣陳榮煉復欲向第三人借款新臺幣(下同)14萬元，竟未得李美娟同意，基於偽造文書之犯意，於106年12月20日某時，在不詳地點偽造「李美娟」之署名1枚填載於「讓渡證書」之「立讓渡書人」欄位上，連同行車執照及本票2紙交由該第三人後行使之以作為其借款擔保，足以生損害於李美娟之權益。二、案經李美娟訴請臺灣嘉義地方檢察署檢察官偵查起訴。理由壹、程序部分：一、檢察官及被告陳榮煉對於下述本院採為認定犯罪事實依據之各項傳聞證據之證據能力，均表示同意有證據能力（見本院卷第31頁、第47頁、第48頁），另於言詞辯論終結前，除經同意有證據能力之證據外，對於卷附各傳聞證據之證據能力，均未聲明異議，復經本院於審理時逐一提示予被告表示意見，本院審酌該等證據之取得過程並無瑕疵，與本案待證事實間復具有相當之關聯性，以之為本案證據並無不當，依刑事訴訟法第159條之5規定自得採為本件認定事實之基礎。二、另其餘本判決所採之非供述證據亦均經法定程序取得，無不得為證據之情形，自均有證據能力。貳、實體部分：一、訊據被告陳榮煉固坦承因欲向案外人林采晴借款，在未經證人李美娟同意就以證人李美娟的名義簽立讓渡書，並將讓渡書交給案外人林采晴，讓渡書是案外人林采晴要求的，我當時是認為自己如果有還錢後這個讓渡書就無效，而且是證人李美娟一直說要叫我將車處理，所以我就簽了該讓渡書，我認為沒有造成損害等語（見本院卷第31頁、第32頁）。經查：(一)被告陳榮煉確未徵得證人李美娟同意即偽造「李美娟」之署名1枚填載於「讓渡證書」之「立讓渡書人」欄位，並將讓渡書作為向案外人林采晴借款之擔保一情，業據被告坦承不諱，核與證人即告訴人李美娟於偵查中以書面及本院證稱相符（見他字卷第58頁，本院卷第46頁），此外復有讓渡書1紙在卷可稽（見他字卷第101頁、第102頁），此部分事實應可認定。(二)又刑法上偽造文書罪之成立，以足生損害於公眾或他人為特別要件，所謂足生損害，固不以實已發生損害為必要，有足以生損害之虞者，亦足當之（最高法院84年度台上字第2068號判決意旨參照）。被告陳榮煉明知證人李美娟並無同意讓渡車牌號碼000-0000號車輛與案外人林采晴，竟以證人李美娟之名義簽立讓渡書，雖該讓渡書僅為借款之擔保，然已使證人李美娟名下之車輛陷於遭移轉之風險及於被告未能依約還款時，證人李美娟有遭案外人林采晴追償之風險，難謂無足生損害之情。(三)至被告辯稱係證人李美娟一直要其處理車子，才會簽本件讓渡書等語。然自告訴人所提供之二人簡訊對話觀之（見他字卷第79頁至第84頁），被告一直要求證人李美娟以該車輛替其向各大當鋪借款，證人李美娟均表明不願意，並要求將車輛儘速交還，亦提及之前被告也有以機車貸款要求其擔任保證人，被告亦將之私下過戶給別人一情，可知證人李美娟並不同意被告以其名義及名下車輛與他人借款，自不會於本件同意被告以其名義簽立讓渡書作為擔保，是被告所辯尚難採信。(四)綜上，被告本件犯行洵堪認定，應依法論科。二、核被告所為係犯刑法第216條、第210條行使偽造私文書罪。被告偽簽「李美娟」之署名，屬偽造私文書之階段行為，而偽造私文書行為則屬行使偽造私文書之低度行為，均為行使之高度行為所吸收，不另論罪。又被告前因公共危險案件，經本院以105年度嘉交簡字第277號判決判處有期徒刑2月；因過失傷害案件，經本院以105年度嘉交簡字第1072號判決判處有期徒刑4月，上開二案經本院以106年度聲字第133號裁定應執行有期徒刑5月，於106年3月2日易科罰金執行完畢一情，此有臺灣高等法院被告前案紀錄表在卷可稽，其於徒刑執行完畢5年內，故意再犯本件有期徒刑以上之罪，為累犯，應依刑法第47條第1項規定加重其刑。三、爰依被告陳述、臺灣高等法院被告前案紀錄表、個人戶籍資料查詢結果（見本院卷第9頁至第15頁、第52頁）審酌：被告高職畢業，已婚無子、平時與家人同住、現從事房地產、家境不好之生活狀況、前無同類型前科之素行。被告與告訴人為朋友關係，被告為取得案外人林采晴借款之動機目的，竟未先得證人李美娟同意，而偽簽「李美娟」之署名而偽造讓渡書之手段，導致證人李美娟之信用損害、迄今尚未與證人李美娟達成和解等一切情狀，量處如主文所示之刑，併諭知易科罰金之折算標準。四、按被告偽造、變造等文書，既已交付於被害人收受，則該物非屬被告所有，除偽造書類上偽造之印文、署押，應依刑法第219條予以沒收外，依同法第38條第3項之規定，即不得再對各該書類諭知沒收（最高法院43年臺上字第747號判例意旨參照）。查被告所行使偽造讓渡書1份已交由案外人林采晴收執等情，業據被告自承在卷，是未扣案之讓渡證書上之「立讓渡書人」欄之「李美娟」署名1枚，應依刑法第219條規定宣告沒收，而讓渡證書本身無庸沒收。五、另起訴意旨認讓渡證書上另有偽造李美娟之署名1枚，而認被告此部分行為亦涉犯刑法第217條第1項偽造署押犯嫌。然按刑法上偽造私文書，並不以偽造署押為前提，而所謂署押係指在物體上署名或簽押，用以證明一定之意思表示，或一定之事實者而言，如僅書寫姓名以資識別，且亦非表示本人簽名之意思者，則不生署押之問題。（最高法院102年度台上字第3878號意旨參照）。查：本件讓渡證書上「立讓渡書人李美娟今將自己....」之「李美娟」署名部分，僅係書寫名字以資識別，並非用以證明一定意思之意，而不生署押之效力。惟因起訴意旨認此部分若屬有罪，與前開本院判決有罪之行使偽造私文書部分應有接續犯之裁判上一罪關係，爰不另為無罪之諭知。據上論斷，應依刑事訴訟法第299條第1項前段，刑法第216條、第210條、第219條、第47條第1項前段、第41條第1項前段，判決如主文。本案經檢察官陳則銘起訴、檢察官吳明駿到庭執行職務。中華民國108年1月18日刑事第三庭審判長法官吳育霖法官張佐榕法官謝其達以上正本證明與原本無異。如不服本判決應於收受判決後10日內向本院提出上訴書狀，並應敘述具體理由；其未敘述上訴理由者，應於上訴期間屆滿後20日內向本院補提理由書（均須按他造當事人之人數附繕本）「切勿逕送上級法院」。告訴人或被害人如對於本判決不服者，應具備理由請求檢察官上訴，其上訴期間之計算係以檢察官收受判決正本之日期為準。中華民國108年1月18日書記官林芷瑜附錄論罪科刑法條：中華民國刑法第216條（行使偽造變造或登載不實之文書罪）行使第210條至第215條之文書者，依偽造、變造文書或登載不實事項或使登載不實事項之規定處斷。中華民國刑法第210條（偽造變造私文書罪）偽造、變造私文書，足以生損害於公眾或他人者，處5年以下有期徒刑。\n",
            "Article Index: 47 Distance: 0.26161647\n",
            "Article Text: 一、吳文於民國101年6月8日某時，明知林毅桓（業經另案先行判刑確定）並未經陳俊宏授權同意貸款購買自用小客車，竟基於幫助他人行使偽造私文書、使公務員登載不實及詐欺取財之犯意，為林毅桓介紹其洗車場同事莊凱翔（業經檢察官處分緩起訴確定）出面假冒陳俊宏本人貸款購車。由林毅桓於同年月8日持竊得之陳俊宏國民身分證，到彰化縣和美鎮○○路000號陳菀菱經營之東岸汽車商行，購買張超雄所有、託售之車牌號碼0000-00號自用小客車，嗣帶同莊凱翔前往同縣市○○路0段000號順益汽車股份有限公司（下稱順益汽車），辦理汽車買賣相關之簽約，及向臺灣人壽保險股份有限公司（下稱臺灣人壽公司）貸款新臺幣（下同）14萬元等對保手續，並由莊凱翔假冒陳俊宏本人，在如附表所示之文件及欄位上（編號4除外），偽造「陳俊宏」之署押，並將陳俊宏之證件交給不知情之陳菀菱，由陳菀菱將陳俊宏證件交給不知情之代辦人林秀月前往交通部公路總局臺中區監理所彰化監理站，辦理該汽車過戶登記至陳俊宏名下；林毅桓並接續於同年月11日，持上開陳俊宏之證件及其於不詳時地偽刻「陳俊宏」之印章1顆，交由不知情之承辦人陳信瑋於如附表所示之文件及欄位上用印及送件，使原車主張超雄、臺灣人壽公司及上開監理站陷於錯誤，而辦理車輛過戶並交付貸款；待辦完車輛過戶及貸款後，林毅桓便取走該車據為己用，且未繳納分期之貸款，足生損害於陳俊宏、張超雄、臺灣人壽公司之權益及汽車監理機關管理車籍之正確性（貸款本金已由順益汽車於101年8月16日買回債權，並於102年10月24日實行動產抵押權受償2萬5000元）。二、案經陳俊宏訴由彰化縣警察局和美分局報請臺灣彰化地方法院檢察署（下稱彰化地檢署）檢察官偵查起訴。理由一、證據能力(一)本案被告吳文之自白及不利於己之陳述，並無出於強暴、脅迫、利誘、詐欺、疲勞訊問、違法羈押或其他不正之方法，亦非違反法定障礙事由經過期間不得訊問或告知義務之規定而為，且被告並未爭執上開陳述之證據能力，依刑事訴訟法第156條第1項、第158條之2規定，認有證據能力。(二)按被告以外之人於審判外之陳述，雖不符刑事訴訟法第159條之1至第159條之4之規定，但經當事人於審判程序同意作為證據，法院審酌該言詞陳述或書面陳述作成時之情況，認為適當者，亦得為證據，同法第159條之5第1項定有明文。本判決所引告訴人即證人陳俊宏、證人陳菀菱、林秀月、陳信瑋等人，於警詢中之供述，被告同意有證據能力（見本院卷第90頁），本院審酌上開證據資料製作時之情況，尚無違法不當及證明力明顯過低之瑕疵，以之作為證據應屬適當，爰認該等供述證據均有證據能力。(三)本判決所引告訴人即證人陳俊宏、證人陳菀菱及陳信瑋等人，於偵訊中經具結後向檢察官所為之證述，並無顯不可信之情況，依刑事訴訟法第159條之1第2項規定，均有證據能力。(四)本判決所引其餘非供述證據，經本院於審理期日提示予當事人而為合法調查，檢察官及被告均未爭執證據能力（見本院卷第187頁背面至第190頁），本院依證據排除法則審酌各該證據，亦無違背法定程序取得或其他不得作為證據之情形，認均有證據能力。二、認定犯罪事實所憑之證據及理由訊據被告固坦承伊知悉林毅桓未經告訴人陳俊宏同意購買該小客車，且林毅桓曾到伊上班之洗車場找莊凱翔出面假冒告訴人陳俊宏購車，惟矢口否認有共同或幫助犯行使偽造私文書等罪之犯行，並辯稱：我知道林毅桓未經陳俊宏之同意授權而購買該小客車，因為林毅桓有叫莊凱翔在洗車場練習陳俊宏的簽名，當天林毅桓去洗車場找人簽名，我說隨便你找，如果阿弟要去的話就去，我讓林毅桓自己找莊凱翔談，林毅桓要莊凱翔在辦公室裡面練習「陳俊宏」簽名，不是我去找莊凱翔的，林毅桓有來問我說可不可以找莊凱翔去，我說可以，所以我讓莊凱翔提早離開……是林毅桓自己找莊凱翔談出面買車幫他簽名就給3000元，所以莊凱翔不是我找的云云（見本院卷第89頁至第91頁背面）。經查：(一)被告於偵訊中直認：我知道，林毅桓要我找人幫他簽名去買車，因為他說他要簽名，我就找我同事去簽名，我承認我幫助林毅桓找人去偽造文書等語（見102年度偵緝字第73號偵訊筆錄，附於本院卷第145頁），已坦承莊凱翔乃伊幫林毅桓覓得。(二)證人林毅桓於本院證稱：我以陳俊宏名義購買本案之車牌號碼0000-00自用小客車及向臺灣人壽公司辦理動產擔保貸款，當時我是在彰美路與金馬路口的洗車場拜託被告幫我找個比較像陳俊宏的人去代為簽名，被告知道去簽名的「小翔」不是陳俊宏，當時我有拿陳俊宏的照片讓被告看，說就是要找一個類似這樣的人，面容要像一點的，我要去簽名而已，我是跟被告說我以3000元的代價請他去簽名，我不曉得被告找的人是在洗車場找到的，我只知道他叫「小翔」，跟陳俊宏長得蠻像，我是在洗車場外面跟「小翔」碰面。被告幫我找人，我沒有給他代價，因為我之前跟被告是很好的朋友，我有跟被告說我可能要買車……我記得是去簽名的前2、3天，請被告幫我找一個長得很像陳俊宏的人，當時車行已經通知貸款過了，我當時也有拿陳俊宏的身分證給被告看，被告是在我拜託他的隔天找到的，被告是在洗車場外面介紹我跟「小翔」見面，當時是晚上，被告介紹後就自己進去，留我跟「小翔」在那邊交談，之後「小翔」就直接跟我走，我沒有叫「小翔」練習陳俊宏的簽名，我只叫被告找一個類似陳俊宏這個圖片的人，我要帶他去簽名而已，那天我帶「小翔」去順益汽車，是一次把全部文件都簽好，陳俊宏的印章是在「小翔」簽名的隔天，我臨時刻好拿去給順益汽車業務陳信瑋……當時貸款14萬元有超貸1萬6400元，我拿去給我小孩用了，車子本來是我要開，後來我把車轉交給被告開，被告說他要繳所有的貸款，所以我就把超貸的1萬6400元給被告，自從我請被告幫我找人出來簽名的時候，我就跟他說我可能買車，被告就知道我有車貸……當時去東岸汽車買車、辦理貸款跟業務接洽、送資料及文件，都是我一個人，莊凱翔只有一次出面簽名，之後都是我全權辦理……我跟被告是朋友，約在101年3月認識，被告幫我找那位簽陳俊宏名字的人就是現在在庭的莊凱翔，我是以3000元代價請莊凱翔幫我簽名，莊凱翔知道我不是陳俊宏等語（見本院卷第161至166頁、第168頁背面至第169頁），已明確證稱被告係明知林毅桓未取得陳俊宏之同意而貸款買車，並為林毅桓介紹莊凱翔出面假冒陳俊宏身分而簽名。(三)證人莊凱翔於本院證稱：我認識在庭的被告及林毅桓，他們都叫我「阿翔」或「小翔」，是林毅桓叫我去簽名，我知道林毅桓不是陳俊宏，林毅桓是透過被告找上我的，是林毅桓直接跟我說的，他說要去買車叫我去幫他簽名，對保時林毅桓有跟賣車的人或是辦理貸款的人說我是陳俊宏，我當時因為缺錢，所以不管出面簽陳俊宏的名字這件事有沒有問題，為了這3000元的代價，我還是去簽陳俊宏的名字，我只有去簽名，沒有參與其他的部分……烏日分局警卷第14頁之動產擔保交易動產抵押設定登記申請書，該警卷第14頁背面之借款暨動產抵押契約書，該警卷第15頁之監理業務住居所、就業處所地址申請書，以及該警卷第16頁背面之汽車買賣讓渡書，這些文件上面陳俊宏的簽名都是我簽的，都是我同時、一次在順益汽車簽的，我是在簽名後拿到3000元，我沒有分給被告……我的印象是我們三個在場時，剛好講到林毅桓要找我出面假冒陳俊宏買車這件事……當天我有在洗車場練習陳俊宏簽名，一開始是我跟被告兩個，林毅桓是後面才到了，之後才到洗車場外面講，講完之後就進去辦公室裡面練習陳俊宏的簽名……被告到底跟林毅桓怎麼說的我不知道，但是講完林毅桓就把我叫出去，我是透過被告才認識林毅桓等語（見本院卷第170頁背面至第173頁）。關於林毅桓與莊凱翔接洽及討論假冒陳俊宏身分之過程，2人證述內容大致相符，則渠等上開證述，應非虛情。(四)而莊凱翔究竟是林毅桓透過被告找的，還是林毅桓自己去洗車場隨便尋覓之人，經命證人林毅桓與莊凱翔對質後，證人林毅桓證稱：我是直接找被告跟他講，被告跟我說是洗車場的莊凱翔，被告也有說因為莊凱翔比較缺錢，當時我去的時候，被告跟我說要找莊凱翔，所以我才再跟莊凱翔重新講一次，我也有跟被告說要給簽陳俊宏名字的人3000元，所以我請被告幫我找，莊凱翔到洗車場外面時，我還是重複跟莊凱翔說一遍，當時莊凱翔沒有問我，講完之後莊凱翔OK，我就直接帶了，我很確定有叫莊凱翔在辦公室內背陳俊宏的身分證字號、出生年月日、他家的人員、住址等，身分證上全部都要背，我是在被告及莊凱翔面前叫莊凱翔背這些，陳俊宏的簽名則不用練等語（見本院卷第175頁背面）；而證人莊凱翔則證稱：我在辦公室內有練習簽名，也有背資料，辦公室裡面林毅桓及被告都在等語（見本院卷第176頁），關於上開細節，被告亦供承：莊凱翔有在辦公室練簽名、背資料等語不諱（見本院卷第176頁）。由證人林毅桓上開透過被告介紹莊凱翔之證述，以及證人莊凱翔證稱與林毅桓接洽及背陳俊宏資料之過程，被告均在場等情，足認，證人林毅桓證稱伊拜託被告為其尋覓莊凱翔出面假冒陳俊宏身分辦理貸款購車乙節，堪可採信。(五)綜合上情，被告辯稱是林毅桓自己與莊凱翔接洽，伊並未參與云云，並非可採。又本案尚有證人陳俊宏、陳菀菱、林秀月、陳信瑋等人於警詢或偵訊中之證述（見警卷第2至9頁、第9172號偵卷第41至44頁、第23至25頁），及交通部公路總局臺中區監理所函文、檢附之車牌號碼0000-00號汽車之過戶資料、臺灣人壽公司汽車貸款申請書、順益汽車函文103年6月16日、臺灣人壽公司同年月17日函文及債權讓與契約書，暨本院102年度訴字第511號刑事判決等附卷可稽（見警卷第10頁至第17頁背面、第9172號偵卷第38頁、本院卷第8至12頁、第99至101頁）。從而，本案事證明確，被告犯行堪以認定，應依法論科。三、論罪科刑(一)按行為後法律有變更者，適用行為時之法律。但行為後之法律有利於行為人者，適用最有利於行為人之法律，刑法第2條第1項定有明文。查本案被告行為後（幫助犯係以正犯實行犯罪時，為其犯罪行為之時點），刑法第339條業於103年6月18日修正公布，於同年月20日生效施行。按修正前刑法第339條第1項規定：「意圖為自己或第三人不法之所有，以詐術使人將本人或第三人之物交付者，處5年以下有期徒刑、拘役或科或併科1千元以下罰金。」修正後刑法第339條第1項則規定：「意圖為自己或第三人不法之所有，以詐術使人將本人或第三人之物交付者，處5年以下有期徒刑、拘役或科或併科50萬元以下罰金。」二者罰金刑有所不同。修正前刑法第339條第1項所定之罰金刑，依刑法施行法第1條之1第1項、第2項前段規定，以新臺幣為貨幣單位，就所定數額提高為30倍後，為新臺幣3萬元；修正後刑法第339條第1項規定，則將罰金提高為新臺幣50萬元以下，經比較新舊法結果，自以被告行為時即修正前之規定對其較為有利，依刑法第2條第1項前段規定，應適用修正前之刑法第339條第1項規定。(二)又按刑法上之幫助犯，係指以幫助之意思，對於正犯資以助力，使其犯罪易於達成，而未參與實施犯罪之行為者而言，如就構成犯罪事實之一部，已參與實施即屬共同正犯（最高法院49年臺上字第77號判例暨同院101年度臺上字第5885號判決可資參照）。被告基於幫助之犯意，為林毅桓介紹可以假冒陳俊宏本人出面購車、辦理貸款之莊凱翔，使林毅桓及莊凱翔遂行渠等假冒陳俊宏身分而貸款購車之犯行（渠等二人均係犯刑法第216條、第210條行使偽造私文書、同法第214條使公務員登載不實及修正前刑法第339條第1項詐欺取財罪，又利用不知情之汽車商行及順益汽車承辦人員陳菀菱、林秀月、陳信瑋等人遂行上開犯行，均屬間接正犯），被告參與之犯罪僅止於此，並無證據證明被告有參與實施本件行使偽造私文書、使公務員登載不實及詐欺取財等犯行，是核被告所為，係犯刑法第30條第1項前段、同法第216條、第210條、第214條、（修正前）第339條第1項之幫助行使偽造私文書、使公務員登載不實及詐欺取財罪，並依刑法第30條第2項規定，減輕其刑。被告以一介紹莊凱翔為林毅桓出面假冒陳俊宏貸款購車之幫助行為，使林毅桓易於遂行上開數罪，為想像競合犯，應依刑法第55條之規定，從重論以一幫助行使偽造私文書罪。起訴書雖漏未論及刑法第214條及修正前刑法第339條第1項之罪，然為起訴效力所及，本院自得併予審理；又檢察官依行使偽造私文書罪之共同正犯起訴，容有未洽，惟共同正犯與幫助犯，僅係犯罪形態與得否減刑有所差異，其適用之基本法條及所犯罪名並無不同，是尚無變更起訴法條之必要（最高法院99年度臺上字第5741號暨同院97年度臺上字第202號判決參照）。(三)爰以行為人之責任為基礎，審酌被告明知林毅桓以陳俊宏名義貸款購車，並未取得陳俊宏之同意，竟仍幫助林毅桓為其介紹莊凱翔假冒陳俊宏之身分，所為使林毅桓及莊凱翔易於完成本案犯行，因而損及陳俊宏、張超雄、臺灣人壽公司之權益及監理機關對於車輛管理之正確性，並使原車主張超雄移轉該汽車所有權、臺灣人壽公司受有撥付貸款之損害，顯見其法治觀念薄弱，所為實非可取；兼衡其犯後於偵查中曾坦承犯行，嗣於本院否認犯行，及其自述：我是高中肄業（僅讀半學期），沒有任何專門技術及證照，與父母親同住，居住之房屋每月租金約1萬多元，目前與父親一起從事防水抓漏工程，因為須分擔家用，所以沒有向父親領取薪資，我需要用錢時便會跟母親拿等語（見本院第191頁背面）之家庭經濟及生活狀況等一切情狀，量處如主文所示之刑，並諭知易科罰金之折算標準。(四)如附表所示之偽造印文及署押，依刑法第219條之規定，不問屬於被告與否，均應沒收之，屬義務沒收之物；惟按沒收為從刑之一種，依主從不可分之原則，應附隨緊接於主刑之下而同時宣告；又共同正犯因相互間利用他人之行為，以遂行其犯意之實現，本於責任共同之原則，有關沒收部分，對於共犯間供犯罪所用之物，自均應為沒收之諭知。惟幫助犯僅係對於犯罪構成要件以外行為為加工，並無共同犯罪之意思，自不適用該責任共同原則，對於正犯所有供犯罪所用之物或犯罪所得之物，亦為沒收之諭知，最高法院91年度臺上字第5583號判決意旨參照，從而，本院即無庸為沒收之諭知，併予敘明。據上論斷，應依刑事訴訟法第299條第1項前段，刑法第2條第1項前段、第30條第1項前段、第2項、第214條、第210條、第216條、（修正前）第339條第1項、第55條、第41條第1項前段，刑法施行法第1條之1第1項、第2項前段，判決如主文。本案經檢察官何蕙君到庭執行職務。中華民國103年10月21日刑事第五庭審判長法官周淡怡法官李淑惠法官曹馨方以上正本證明與原本無異。如不服本判決應於收受判決後10日內向本院提出上訴書狀，並應敘述具體理由；其未敘述上訴理由者，應於上訴期間屆滿後20日內向本院補提理由書（均須按他造當事人之人數附繕本）「切勿逕送上級法院」。告訴人或被害人對於判決如有不服具備理由請求檢察官上訴者，其上訴期間之計算係以檢察官收受判決正本之日期為準。中華民國103年10月21日書記官呂雅惠附表：偽造之印文及署押\n",
            "Article Index: 114 Distance: 0.27732217\n",
            "Article Text: 一、林永潔前於民國98年1月、3月間，因向張蕙讌借款，因而開立如附表一所示之本票予張蕙讌為擔保，張蕙讌於99年7月5日向本院聲請對附表一所示之本票准予強制執行，經本院於99年7月7日以99年度司票字第3245號裁定准予強制執行，嗣經林永潔提起抗告，經本院於99年8月13日以99年度抗字第172號裁定駁回抗告確定，張蕙讌取得上開執行名義後，遂於99年9月6日向本院聲請強制執行林永潔所有坐落於臺北縣永和市（現改制為新北市○○區○○○路0段000號2樓、臺北縣汐止鎮（現改制為新北市○○區○○○路000巷00號之不動產，林永潔為免上開不動產遭查封，於99年12月14日提起債務人異議之訴，竟基於偽造私文書復持以行使之犯意，其明知張蕙讌並未簽立「債務清償證明書」，亦未授權他人簽立「債務清償證明書」，於100年4月8日前某日，以不詳方式，偽刻「張蕙讌」之印章1枚，再冒用張蕙讌名義，製作內容記載：「林永潔向本人之借款於民國99年6月7日全部清償，林永潔所開付本人之本票、借據全部作廢（包括遺失或未找到之本票、借據）日後不得以民國99年6月7日前之任何憑證要求林永潔還款，恐口說無憑，特立此清償證明書為據。此致林永潔。立債務清償證明書人：張蕙讌，身分證字號：Z0000000000，住址：臺北縣新店市（現改制為新北市○○區○○○里○○○街00號3樓。中華民國九十九年六月七日。PS.雙方同意正本由張蕙讌收執，副本由林永潔收執」之「債務清償證明書」（下稱「債務清償證明書」）1份，並於該「債務清償證明書」之「立債務清償證明書人欄：張蕙讌」下方，偽造「張蕙讌」之署押及印文各1枚，佯以表示林永潔已清償積欠張蕙讌之全部債務，並於前開債務人異議之訴之訴訟進行中之100年4月8日，指示不知情之訴訟代理人張智剛律師、複代理人劉玉津律師將上開「債務清償證明書」提出予本院而行使之，足以生損害於張蕙讌。二、案經張蕙讌訴由臺灣板橋地方法院檢察署（現更名為臺灣新北地方法院檢察署，下稱臺灣新北地方法院檢察署）檢察官偵查起訴。理由甲、證據能力部分：證人即告訴人張蕙讌、證人朱家銘、陳標貴於檢察事務官詢問時之證述，雖屬傳聞證據，惟本院審理時提示其之調查筆錄徵詢被告及辯護人之意見，被告及辯護人均陳明沒有意見，且未於言詞辯論終結前聲明異議，本院審酌上開筆錄作成時，較無人情施壓或干擾，亦無不當取供之情形，認為以之作為本案之證據亦屬適當，是證人即告訴人張蕙讌、證人朱家銘、陳標貴於檢察事務官詢問時之證述，依刑事訴訟法第159條之5第2項規定，有證據能力。乙、認定事實之理由及依據：一、訊據被告林永潔固不否認曾於債務人異議之訴之訴訟中，委請律師提出上開「債務清償證明書」，惟矢口否認有何偽造私文書、行使偽造私文書之犯行，辯稱：99年6月7日當日，朱家銘表示可協助處理其與張蕙讌之債務，伊開了如附表二所示之支票，並拿出現金新臺幣（下同）10萬元，要朱家銘轉交予張蕙讌，之後沒多久朱家銘就拿了「債務清償證明書」回來，告訴伊張蕙讌說伊不用清償了，說伊本來就沒有欠張蕙讌的錢，張蕙讌會自己跟陳標貴要，伊也沒有懷疑云云。經查：(一)被告與張蕙讌前有債務關係，證人即告訴人張蕙讌於本院審理時證稱：起訴書上所載之1,232,000元，係伊借給被告的錢，伊和被告間有借貸關係，被告開立如附表一所示之本票作為擔保借款之用，其後被告未返還票面上所載之金額，此筆借款與伊投資予春福公司之款項係不同款項等語（見本院100年度訴字第2508號卷第228頁至第228頁背面），被告於本院審理時亦以刑事陳報狀陳稱：伊在98年1月間曾向張蕙讌借款80萬元，約定利息每月2分，張蕙讌在98年1月7日分別以現金存款方式存入568,000元、200,000元至被告大眾銀行帳戶（預扣2個月利息32,000元），針對上開借款伊開立6張本票，分別到期日98年3月7日、面額212,000元（利息1萬2千元，本筆金額已在98年3月11日匯款但未收回本票），及如附表一編號1至5所示之本票（尚未清償），98年3月間再向張蕙讌借款60萬元，約定月息2％，張蕙讌於98年3月19日（刑事陳報狀誤載為9月19日）匯入564,000元（預扣3個月利息36,000元），並開立附表一編號6所示本票等語（見本院100年度訴字第2508號卷第257頁），復有被告開立如附表一所示之本票在卷可查（見本院99年度司票字第3245號卷第6頁背面至第7頁），足認被告前曾向張蕙讌借款1,232,000元（不含被告表示已清償之212,000元部分），並開立如附表一編號1至6所示之本票予告訴人張蕙讌作為擔保。(二)告訴人張蕙讌於99年7月間向本院聲請對附表一所示之本票准予強制執行，經本院於99年7月7日以99年度司票字第3245號裁定准予強制執行，嗣經被告提起抗告，經本院於99年8月13日以99年度抗字第172號裁定駁回抗告確定，張蕙讌取得上開執行名義後，遂於99年9月6日向本院聲請強制執行被告所有坐落於新北市○○區○○路0段000號2樓、新北市○○區○○路000巷00號之不動產，被告為免上開不動產遭查封，於99年12月14日提起債務人異議之訴，被告於前開債務人異議之訴之訴訟進行中之100年4月8日，指示訴訟代理人張智剛律師、複代理人劉玉津律師將上開「債務清償證明書」附於民事準備書狀後提出予本院，有本院99年度司票字第3245號卷、99年度抗字第172號卷、99年度司執字第77886號卷、99年度訴字第2580號卷可查，應堪信為真實。(三)關於前開「債務清償證明書」是否為證人張蕙讌所開立，證人即告訴人張蕙讌於檢察事務官詢問時證稱：「債務清償證明書」不是伊簽的，伊從沒有簽過這樣的「債務清償證明書」，被告也一直沒有提出那份「債務清償證明書」的正本，伊在民事庭也說過，伊根本不知道有抵銷債權這件事，不可能開「債務清償證明書」給被告等語（見臺灣新北地方法院檢察署100年度他字第2483號卷第13頁至第14頁、第69頁），於本院審理時具結證稱：伊未曾給被告「債務清償證明書」，伊係在民事官司進行中，有一次被告突然提出這份「債務清償證明書」，之前被告從來沒提出來，簽名看起來係伊的筆跡，但伊實際上沒有簽過這份「債務清償證明書」，伊也不可能有「債務清償證明書」的正本，被告有代書身分，也知道正本應該由她收執，伊怎麼可能會收執正本等語（見本院100年度訴字第2508號卷第229頁至第230頁），則告訴人張蕙讌自始均否認曾書寫並提供予被告「債務清償證明書」，參以本院將告訴人張蕙讌提出其所有之印文3枚（見本院100年度訴字第2508號卷第38頁）、及天主教耕莘醫院張蕙讌病歷上「張蕙讌」之印文（見本院100年度訴字第2508號卷第75頁至第172頁）、張蕙讌撰寫之刑事聲請狀、刑事聲請補充告訴狀上「張蕙讌」印文送鑑定，經內政部警政署刑事警察局鑑定結果，認「債務清償證明書」上「張蕙讌」印文，與前開印文均不相符等情，有內政部警政署刑事警察局101年8月7日刑鑑字第0000000000號鑑定書在卷可查（見本院100年度訴字第2508號卷第186頁至第193頁），另關於「債務清償證明書」上「張蕙讌」署押，經核雖與告訴人張蕙讌於本院準備程序筆錄、審理程序筆錄上張蕙讌簽名之字跡、筆觸、字型均大致相符，然該「債務清償證明書」自始均僅提出影印之「影本」，則「債務清償證明書」上有關「張蕙讌」之簽名，自可能為臨摹或剪貼、套印而成，而證人張蕙讌亦否認曾簽署前開「債務清償證明書」，是本件並無證據證明「債務清償證明書」係由張蕙讌同意並蓋章、簽名。(四)證人朱家銘於檢察事務官詢問時證稱：伊有幫被告協調其與張蕙讌之債務，但因張蕙讌堅持要高額利息，所以債務沒有協調成功，伊沒有拿給被告「債務清償證明書」，債務根本沒有清償，被告給伊如附表二所示支票也還在伊那邊，因伊並沒有和張蕙讌協調成功，支票伊也沒有拿去兌現，被告開給伊如附表二所示之支票，附表二編號1、2之支票沒有開抬頭，也沒有寫禁止背書轉讓，係被告承諾要給伊的處理費用，後來伊簽收，表明收到支票的時間是99年6月7日，之後在99年6月28日還有在「收據」上寫要交款項的事情，這表示99年6月28日時，債務都還沒有解決，又怎麼可能在99年6月7日就拿「債務清償證明書」給被告等語（見臺灣新北地方法院檢察署100年度他字第2483號卷第63頁至第64頁、第69頁），於本院審理時證稱：伊有收被告開立如附表二所示之支票及10萬元現金，被告因積欠張蕙讌約120幾萬債務，當時有交付兩張10萬元即期支票給伊，沒有抬頭具名，因當時被告委託伊很多事情，兩人之間有默契，比如123萬元的債務，伊有辦法在多少範圍之內跟張蕙讌處理掉的話，剩下的就是伊的佣金，所以這兩張10萬元支票沒有開抬頭要給張蕙讌，另外被告又交了3張具名張蕙讌如附表二編號3至5所示之支票，及10萬元現金，另有一張被告手寫的清償證明，伊跟張蕙讌接洽了很多次，問張蕙讌現在要的是什麼、支票是否接受，張蕙讌說不要，因為被告又開1年半的支票，一點誠意都沒有，且已經欠款2、3年了，利息也從未付過，張蕙讌只有一條件，就是把這些票換成現金，就願意和解，被告係在99年6月7日委託伊，伊大概在3天後就電話與張蕙讌聯絡，事後與張蕙讌碰到面，瞭解她的想法，伊回來跟被告報告張蕙讌意思是這些1年半的票要換成現金給她，伊就到被告辦公室，由被告寫了「收據」，收據最後三行記載「以民國99年6月28日以現金新台幣89萬3仟元整交付本人，換回三張支票屬實，恐空口無憑，特立此據」，支票正本還在伊這裡，被告是代書，她如果真的有把現金給伊，為何支票還在伊手上，被告99年6月7日委託伊去跟張蕙讌處理，99年6月28日才跟伊協調好說要以現金換回伊手上3張共89萬3千多元的支票，結果被告寫了之後，什麼都不履行，被告當天在伊面前寫完收據後，伊就一直等著被告交錢給伊，結果被告沒有交錢給伊，支票正本也還在伊這邊，很明顯就是被告沒有交現金給伊，本件打字的「債務清償證明書」，伊在開偵查庭前從未見過，被告交給伊的係被告手寫的清償證明，要伊拿給張蕙讌簽名等語（見本院100年度訴字第2508號卷第282頁至第283頁背面），則從上揭證詞可知，證人朱家銘於檢察事務官詢問時、本院審理時，均否認曾交付被告「債務清償證明書」，參以然張蕙讌於99年7月5日向本院聲請對附表一所示之本票准予強制執行，經本院於99年7月7日以99年度司票字第3245號裁定准予強制執行，被告於99年7月21日就本院99年度司票字第3245號裁定提起抗告，抗告理由略以：系爭本票未經提示、利息之起算日並無依據云云（見本院99年度抗字第172號卷第6頁），並未提出「債務清償證明書」，迄至告訴人張蕙讌強制執行被告所有之不動產，被告於99年12月14日提起債務人異議之訴後，方於訴訟程序進行中之100年4月8日提出「債務清償證明書」，如被告於99年6月7日即取得「債務清償證明書」，其於99年7月21日就本票裁定提起抗告時，即應提出此「債務清償證明書」，表明業已清償全部本票債務，而非僅爭執有無提示票據、利息起算日等，遲至100年4月8日方提出「債務清償證明書」，其是否於99年6月7日即收受「債務清償證明書」，已甚為可疑；又被告於99年6月7日雖曾開立如附表二所示支票交付予朱家銘，並要求朱家銘轉交予張蕙讌，然支付予張蕙讌之支票最早為100年3月後方到期，而被告前已開立本票並逾期未清償，被告縱於99年6月7日開立其他支票予張蕙讌「換票」，被告實未清償任何款項，其開立之支票亦尚未兌現，告訴人張蕙讌又怎可能表示被告已清償全部債務而開立「債務清償證明書」，更顯見告訴人張蕙讌應不可能開立「債務清償證明書」予被告，是該「債務清償證明書」應係被告嗣後自行偽造，而非告訴人張蕙讌、證人朱家銘於99年6月7日交付予被告。(五)另證人陳標貴於偵查時證稱：張蕙讌投資春福公司之金額為105萬元，金額為春福公司的5%，原本係伊名下的股份要轉讓予張蕙讌，但公司說不行，應該要直接給公司，伊也沒有收到張蕙讌要求被告交給伊的錢，伊確定沒有收到該筆投資款等語（見臺灣新北地方法院檢察署100年度他字第2483號卷第85頁），則陳標貴之股份並未成功轉讓予張蕙讌，被告亦未將投資款項交付予證人陳標貴，輔以告訴人張蕙讌於本院審理時證稱：關於春福公司之投資款，被告有另外跟伊借100多萬的金額，不是剛好125萬，當初被告跟伊提到要投資春福時，伊有去現場看，後來伊有同意要投資，所以被告另外欠伊的這個錢，伊就說那就轉去投資春福公司，但這是另外一筆，不是附表一本票所示的1,232,000元等語（見本院100年度訴字第2508號卷第229頁），足見告訴人張蕙讌對投資春福之款項為何亦有爭議，豈可能在爭議未釐清前，即突然表示被告不必還款，而自行開立「債務清償證明書」予被告，此與常理全然不符，況無論被告與張蕙讌間就1,232,000元之借款得否行使抵銷，如告訴人張蕙讌未同意，自不可能開立「債務清償證明書」予被告，被告自行偽造「債務清償證明書」並行使之，即構成行使偽造私文書，至1,232,000元得否與春福公司之欠款行使抵銷權，則非所問。(六)據上，該「債務清償證明書」係由被告提出予本院，證人張蕙讌、朱家銘均表示未開立、見聞該「債務清償證明書」，而被告於檢察事務官詢問時、本院審理時雖表示：伊被朱家銘所騙，該「債務清償證明書」係由朱家銘於99年6月7日拿給伊云云，然告訴人張蕙讌於99年7月間即聲請本票裁定，隨後並聲請就被告所有之不動產為強制執行，被告竟自始均未向告訴人張蕙讌確認有無清償債務及提及其有「債務清償證明書」乙節，亦未於本票裁定抗告時提出「債務清償證明書」予本院，遲於100年4月8日方表示其有「債務清償證明書」，其所為顯與常理不符，應認該「債務清償證明書」係由被告偽造，並持之行使。(七)至被告辯稱：伊有給朱家銘附表二所示之支票，「債務清償證明書」係朱家銘於99年6月7日交給伊，該「債務清償證明書」可能係由朱家銘所偽造，此與朱家銘一貫使用彩色影印文件之手法相符云云，惟查：1.被告於檢察事務官詢問時陳稱：伊清償附表一所示本票之方式，係拿附表二所示支票予朱家銘，朱家銘跟伊說伊的車子放何處張蕙讌都知道，也知道伊帶孫子，伊原本就不用給錢，但會怕所以花錢了事云云（見臺灣新北地方法院檢察署100年度他字第2483號卷第69頁），則依被告前揭所述，應認其清償債務之方式應為給付附表二所示支票予張蕙讌，惟被告於本院審理程序時復改稱：99年6月7日當天朱家銘拿走附表二所示之支票，回來後就拿「債務清償證明書」給伊，並跟伊說剩下的錢都不用還了，張蕙讌會去找陳標貴要這筆錢云云（見本院100年度訴字第2508號卷第291頁），是被告於審理中復改稱該筆債務不存在，被告毋須給付任何款項予張蕙讌，二種清償方式截然不同，被告前後所述明顯不一，是否屬實，已甚為可疑；況如證人朱家銘確曾向被告表示：張蕙讌說不用還了云云，並提供被告張蕙讌簽名之「債務清償證明書」後，被告理當要求朱家銘將現金、支票全數返還，如證人朱家銘遲未返還，衡情常會向債權人即張蕙讌確認其與朱家銘之協調情形及支票究在何處，而非全然未提及此事，於張蕙讌對其聲請本票裁定及強制執行時亦均未告知張蕙讌有「債務清償證明書」乙節，迄自100年4月8日債務人異議之訴之訴訟中，方提出「債務清償證明書」，被告所為顯屬可疑。2.被告於99年6月7日曾給付朱家銘附表二所示之支票及現金10萬元，此有被告提供之支票影本及由朱家銘簽名之收執記錄在卷可稽（見臺灣新北地方法院檢察署100年度他字第2483號卷第56頁至第56頁背面），然該票據並未經交付予張蕙讌，業據證人朱家銘於本院審理時陳稱：附表二所示之支票正本還在伊這邊，如果被告交付伊893,000元給伊換回支票，支票就不會在伊這裡等語（見本院100年度訴字第2508號卷第282頁背面），則證人朱家銘就被告積欠張蕙讌之債務並未處理完畢，亦未收受被告原要交付予其之現金893,000元，衡情證人朱家銘自毋須主動開立「債務清償證明書」予被告。3.又被告曾手寫「收據」交付予證人朱家銘，其內文記載：「本人受林永潔委託處理與張蕙讌之債務新臺幣壹佰壹拾玖萬參仟捌佰元正，99年6月7日本人收到林永潔現金新臺幣壹拾萬元正及99年6月30日票號AB0000000號、AB0057941號支票2張面額各新臺幣壹拾萬元正，及3張分別為100年3月20日、票號AB0000000號、100年6月20日票號AB0000000號、面額各新臺幣參拾萬元正、100年9月20日、票號AB0000000號、面額新臺幣貳拾捌萬參仟捌佰元正之支票，因張蕙讌對此三張支票有異議，經本人調解，林永潔於99年6月28日以現金新臺幣捌拾玖萬參仟元正，交付本人換回3張支票屬實，恐口無憑，特立此據為證」等語，有收據1紙在卷可稽（見臺灣新北地方法院檢察署100年度他字第2483號卷第71頁），足見被告於99年6月7日交付證人朱家銘如附表二所示之支票後，於99年6月28日復有意以893,000元之現金換回附表二編號3至5所示之支票，如被告於99年6月7日已取得「債務清償證明書」，並得知毋須再清償，又何需再表示欲於99年6月28日改以893,000元之現金清償其與張蕙讌之債務，足見被告辯稱：伊在99年6月7日即取得「債務清償證明書」云云，顯不足採；再依上開收據之文字內容觀之，應係被告如交付893,000元之現金予證人朱家銘後，由證人朱家銘簽收該「收據」，而被告自始均未交付893,000元之現金，證人朱家銘自毋庸簽署上開「收據」，此亦與證人朱家銘於本院審理時陳稱：被告在伊面前寫完收據後，伊一直等被告交錢給伊，但被告始終沒有交現金給伊等語相符（見本院100年度訴字第2508號卷第283頁背面），是證人朱家銘所述較為可採；況被告前為代書，又曾經營放款業務，業據被告於本院審理時自承在卷（見本院100年度訴字第2508號卷第290頁），其就放款之流程及相關債務證據之保存應知之甚詳，衡以被告交付附表二所示支票予證人朱家銘後，即要求證人朱家銘親簽收執記錄可知，被告對交付支票、相關證據之留存等均甚為謹慎（見臺灣新北地方法院檢察署100年度他字第2483號卷第56頁至第56頁背面），而一般清償債務之相關證明，或為一式二份，二份正本由債務人、債權人分別收執，或正本一份由債務人收執，以避免將來債權債務有所糾紛，債權人再向債務人請求時，債務人得提出清償證明而有所憑，依被告之社會經歷、工作經驗，當不可能同意僅收執副本，如證人朱家銘僅交付被告副本，被告當會向債權人即張蕙讌詢問、確認，以防受騙，又怎可能僅取得「債務清償證明書」後即自行收藏，全未向告訴人張蕙讌提及此事，且豈可能任證人朱家銘提供影印之「債務清償證明書」，在未取得正本之情形下，又毫無防備即讓朱家銘而隨意取走其手寫之「收據」，足見被告所述，顯有隱飾真實，應不足採。(八)綜上，本件事證明確，被告犯行洵堪認定，應依法論科。二、論罪科刑：(一)核被告所為，係犯刑法第216條、第210條之行使偽造私文書罪。被告偽刻張蕙讌之印章，復持之偽造「債務清償證明書」之行為，係偽造私文書之部分行為；而其偽造私文書後復持以行使，其偽造之低度行為應為行使之高度行為所吸收，均不另論罪。(二)被告利用不知情之訴訟代理人、複代理人庭呈「債務清償證明書」予本院而為行使偽造私文書犯行，為間接正犯。(三)爰審酌被告未經告訴人同意，即偽造告訴人之署押、印文及「債務清償證明書」，並持之提供予本院作為債務人異議之訴之證據，及被告雖陳稱其於100年11月18日與告訴人達成和解，並提出協議書1份在卷可稽（見本院100年度訴字第2508號卷第28頁至第29頁），然告訴人張蕙讌於本院審理時陳稱：伊有依協議書去辦理強制執行的撤回及擔保金取回，但重點在於被告並未履約，被告雖有給伊140萬元，但該給伊的複利都沒有給，協議書有陷阱，回家看清楚後才知道伊又上當了等語（見本院100年度訴字第2508號卷第230頁背面至第231頁），足見被告與告訴人間清償借款等情仍有爭議，並審酌被告之犯罪動機、目的、智識程度、犯罪手段、所產生之危害等一切情狀，量處如主文所示之刑。(四)沒收：1.偽造之「債務清償證明書」，係被告所有，供其為本件犯罪所用之物，應依刑法第38條第1項第2款規定，宣告沒收。2.至「債務清償證明書」上偽造之張蕙讌署押、印文各1枚，業因所附麗之「債務清償證明書」經宣告沒收而一併沒收，自無庸重複為沒收之宣告。3.至偽造之張蕙讌印章1枚，雖未扣案，然無證據證明業已滅失，不問屬於犯人與否，均應依刑法第219條規定，宣告沒收。據上論斷，應依刑事訴訟法第299條第1項前段，刑法第216條、第210條、第38條第1項第2款、第219條，判決如主文。本案經檢察官黃孟珊到庭執行職務。中華民國102年3月14日刑事第十庭審判長法官曾淑娟法官曹惠玲法官廣于霙以上正本證明與原本無異。如不服本判決，應於收受送達後10日內向本院提出上訴書狀，其未敘述上訴之理由者並得於提起上訴後10日內向本院補提理由書（均須按他造當事人之人數附繕本）「切勿逕送上級法院」。書記官古紹霖中華民國102年3月15日附表一\n",
            "Article Index: 250 Distance: 0.28204942\n",
            "Article Text: 一、緣張登閔、潘宥豪均可預見提供自己開設之帳戶、門號供他人使用，他人可能以該帳戶、門號作為掩飾、聯絡貸放款及收取重利等犯罪之工具，竟於不違背渠等本意之情形下，張登閔於民國99年間某日，在高雄市三民區某處，將其中華郵政股份有限公司高雄民強郵局申請開立帳號00000000000000號帳戶（下稱郵局帳戶）之存簿、提款卡及密碼交付自稱「阿龍」之地下錢莊業者；潘宥豪則於99年6月22日後某日，在高雄市鳳山區五甲路與南江街附近，則將所申請之0000000000門號SIM卡交付自稱「阿霖」之地下錢莊業者使用；嗣鄭柳泉於99年9月間某日撥打上開手機門號與上述地下錢莊自稱「林先生」之不詳姓名及年籍之人取得連繫後，該重利集團成員基於乘他人急迫而貸以金錢以取得與原本顯不相當重利之犯意，於99年9月29日，在新北市永和區成功路一段秀朗郵局前，趁鄭柳泉需錢孔急之際，由自稱「林先生」之人，同意借款新台幣（下同）6萬元予鄭柳泉，並約定以30日為1期，需扣除1萬2千元之利息，另要求鄭柳泉提供個人身分證影本以供擔保外，並出示空白借據1紙，由鄭柳泉於借據填寫姓名、連絡地址及連絡之手機門號0000000000（查係97年9月24日向台灣大哥大公司申請），並請鄭柳泉在借據上之甲方欄簽名表示係借款人，另要求鄭柳泉於借據之空白處填寫「陸萬」、「伍萬玖仟」、「歸還貳仟元整，共計30日」等數字，表示鄭柳泉係向在場乙方自稱「林先生」之人（當時借據乙方欄係空白，且鄭柳泉不知借款人為何人，詳後述）借款新臺幣6萬元，鄭柳泉當場並已收取5萬9千元，另於借款30日內，須按日清償2千元意旨，而規避上述重利犯行，而在場「林先生」取得上開鄭柳泉填寫之借據，當場實際交付4萬8千元（借款本金6萬元，扣除利息1萬2千元之餘額）予鄭柳泉後，另提供張登閔前述郵局帳戶，請鄭柳泉其後每日匯款2千元至張登閔帳戶內供地下錢莊業者提領，共計須繳付30日，即以俗稱「日仔會」方式，而向鄭柳泉收取月息為20分之與原本顯不相當之高額利息（張登閔提供上揭郵局帳戶、另潘宥豪提供上揭手機門號供犯罪集團使用，涉犯幫助犯重利罪部分，業經臺灣高雄地方法院以101年度簡字第2654號，分別判處張登閔拘役20日、潘宥豪拘役55日，並均得易科罰金確定，下稱另案）。二、而鄭柳泉於上開時、地，向自稱「林先生」之人借得上開款項後，於借款時間（99年9月29日）之翌日起，陸續使用鄭柳泉個人郵局帳戶，自99年9月30日起至同年10月8日止之9天內，共計轉帳2萬元至重利集團成員使用張登閔所提供之上揭郵局帳戶（其中於99年9月30日轉帳2千元、99年10月1日轉帳4千元、99年10月4日轉帳4千元、99年10月5日轉帳2千元、99年10月6日轉帳2千元、99年10月8日轉帳6千元），嗣鄭柳泉於99年10月8日轉帳最後一筆金額，未能按時繼續繳納借款，且經重利集團不詳成員以電話催討無著後，為藉由上開鄭柳泉出具之空白借據，透過法院核發支付命令，詎洪上正、吳春宏（下稱洪上正2人）與已成年之重利集團不詳成員，明知洪上正2人皆非上揭借據之乙方借款人，竟共同基於變造私文書（上開借據）及行使變造私文書之犯意連絡，明知洪上正2人於97年1月間並未共同借款6萬元予鄭柳泉，且未約定鄭柳泉何時履行債務及違約時如何支付利息，竟於99年10月9日至100年2月18日之某時，在不詳處所，未經鄭柳泉之同意，而在上揭借據之「債務人同意於ＯＯ年ＯＯ月ＯＯ日履行清償義務，逾期未履行，違約利息半年內以年利率百分之十五計算，逾半年以利率百分之十八計算」欄位中，虛偽填載「97年1月31日」作為借貸清償期限，另在上揭借據之左上方處增加「乙方洪上正、吳春宏」之不實事項，而共同變造上揭借據內容，致使洪上正2人成為借據上之乙方債權人，復於100年2月18日之前幾天，由洪上正授權吳春宏持上揭變造後之借據，委請不知情之高雄市前金區大同一路之某代書事務所（臺灣高雄地方法院附近），協助洪上正2人代為製作民事支付命令聲請狀（製作狀紙日期記載100年2月18日）並附送上開變造後之借據，聲請本院民事庭對鄭柳泉核發支付命令（本院收狀日期為100年2月21日），經本院於100年2月22日核發支付命令（案號：100年度司促字第6503號），並於同月25日將該支付命令送達債務人鄭柳泉，已足生損害鄭柳泉借款金額及利息計算之權益，及本院核發支付命令之正確性，嗣鄭柳泉對債權人洪上正2人提出異議，另訴請檢警機關偵辦重利及偽造文書罪嫌，而循線查悉上情。三、案經鄭柳泉訴由新北市政府警察局三峽分局移送臺灣板橋地方法院檢察署檢察官偵查起訴。理由壹、有關證據能力之說明：一、被告洪上正及其辯護人爭執部分：(一)證人鄭柳泉於偵查中向檢察官所為陳述之證據能力：按被告以外之人於偵查中向檢察官所為之陳述，除顯有不可信之情況者外，得為證據，刑事訴訟法第159條之1第2項定有明文。查證人鄭柳泉於下述偵查中，係向檢察官說明本件於上開時、地如何借款、還款，及收受被告洪上正、鄭柳泉（下稱被告2人）聲請本院核發上揭支付命令後，如何處理之情形；證人陳述過程均經全程錄影，未見違法取供及外力干擾情事，就偵查筆錄製作之原因、過程及其功能等加以觀察其信用性（最高法院96年台上字第3070號判決參照），並無顯不可信之情況；況證人鄭柳泉於本院審判中，亦經被告2人之辯護人進行詰問，而給予被告2人行使對質詰問權之機會。是上開證人鄭柳泉於偵查中向檢察官所為之陳述，應認有證據能力。(二)證人鄭柳泉於警詢時所為陳述之證據能力：按被告以外之人於檢察事務官、司法警察官或司法警察調查中所為之陳述，與審判中不符時，其先前之陳述具有較可信之特別情況，且為證明犯罪事實存否所必要者，得為證據，刑事訴訟法第159條之2定有明文。查證人鄭柳泉於本院審理中就上開重利集團成員是否使用上揭「0000000000」門號，表示要看一下等詞（見本院卷第116頁反面），出現陳述簡略之情形，而與警詢所述「我記得地下錢莊聯絡電話是0000000000」之實質內容不符（見100年度偵字第20312號卷〔下稱偵卷〕第4頁反面警詢筆錄）。惟審酌證人鄭柳泉於警詢提供重利集團成員使用之聯絡電話，即上述另案被告潘宥豪於上開時、地提供地下錢莊業者使用之門號，證人警詢所述具有特別可信之外部情況，且證人於警詢所言，為證明本件被告如何與重利集團成員聯繫之經過，為證明犯罪事實之存否所必要者，應認證人鄭柳泉於警詢之陳述，具有證據能力。二、本判決以下所引用各項證據之證據能力，除上述部分外，其餘部分檢察官、被告及其辯護人於本院準備程序中，均未爭執（見本院卷第103、118頁），且於本院言詞辯論終結前，對於卷附具有傳聞證據性質之證據，既均已知其情，均未聲明異議，本院認該具有傳聞證據性質之證據，並無任何違法取證之不適當情形，以之作為證據使用係屬適當，且被告未曾提及檢察官在偵查時，有任何不法取供之情形，且客觀上並無顯不可信之情況；綜上，依刑事訴訟法第159條至第159條之5之規定，本件認定事實所引用之以下卷證所有之證據資料，核均有證據能力。貳、本院得心證之理由：一、訊據被告2人坦承於前揭時、地，共同委請上開代書事務所製作民事支付命令聲請狀，並附送上開告訴人鄭柳泉簽名之借據，而聲請本院對鄭柳泉核發上開支付命令之事實，惟均矢口否認上開犯行，被告2人並於本院101年5月8日準備程序中，分別辯稱如下：(一)被告洪上正辯稱：我當初借6萬元給綽號「昌仔」（台語)之朋友卓坤鈿，「昌仔」把錢轉交給鄭柳泉，我交錢給「昌仔」的時候，告訴人鄭柳泉就在旁邊，但時間已久，我不太確定，借據是我把6萬元交給「昌仔」的時候，「昌仔」給我的借據，「昌仔」向我借6萬元，其中3萬元是我另向吳春宏借的，我當初借錢給「昌仔」，「昌仔」給我的借據上面，就有寫告訴人鄭柳泉的名字，本件事實上我有借這筆錢出去，所以我要討回這6萬元，借據上面乙方記載洪上正、吳春宏是我授權給吳春宏寫的，借據上面乙方原本空白，告訴人鄭柳泉當時也在場，告訴人有授權我可以在乙方上面填寫我或「昌仔」的名字，所以後來我就授權吳春宏寫上乙方的名字，「昌仔」是72年次，本件我是借錢給「昌仔」，「昌仔」再把錢交給告訴人，因為告訴人和我也不熟，當初我不是要借錢給告訴人，告訴人和「昌仔」的借貸關係如何我也不清楚，但是當時告訴人知道這筆錢有我和「昌仔」的權利，所以借據上面乙方才會空白，我有授權吳春宏在借據上面填寫日期97年1月31日的日期及乙方名字，因為我借錢給「昌仔」的時間也差不多是97年1月31日左右，借據上面鄭柳泉向「昌仔」借款的時間也大約在97年1月31日左右，借款的地點是在新北市中和區的員山路與中山路附近，我們在路邊停留約5分鐘，我把6萬元交給「昌仔」之後就走了，當時沒有和「昌仔」約定利息，因為純粹是朋友幫忙而已，「昌仔」說差不多2、3個月後，就是過一陣子就會還錢，但是沒有說確切的時間云云（本院卷第33頁反面至第34頁反面）。(二)被告吳春宏辯稱：起訴書所載的與事實不符，洪上正於97年初在高雄市瑞豐夜市附近的咖啡店向我借3萬元，我於100年1月間向洪上正要這筆錢時，洪上正有跟我說這筆錢是借給別的朋友，但是朋友沒有還錢給他，而洪上正也沒有能力還錢給我，洪上正說他朋友有寫借據，我提議就說要走法律途徑，所以就送支付命令，借據上面的日期、名字，是洪上正授權填寫乙方洪上正、吳春宏的名字，因為洪上正說這筆錢有借給朋友，朋有沒有還給他，偵查中我說不是我寫的，是因為我以為檢察官問我整張借據是否我寫的，我才說不是我寫的，事實上借據上只有「97年1月31日」的字樣及乙方「洪上正、吳春宏」的名字是我寫的，借據上面97年1月31日的借款日期也是洪上正授權我寫的，本件告訴人鄭柳泉我不認識云云（本院卷第34頁正、反面）。二、經查：(一)上開事實，業據證人即告訴人鄭柳泉於100年3月10日警詢時、100年10月24日及100年11月16日檢察官偵查中與本院101年11月28日審理時證述甚詳且互核相符（見偵卷第4、5頁警詢筆錄，偵卷第91、92、117、118、123頁偵訊筆錄，本院卷第113頁反面至117頁反面審判筆錄）；復有上開借據影本、民事支付命令聲請狀、本院100年度司促字第6503號支付命令各1份在卷可稽（見調取之卷附本院100年度司促字第6503號民事卷宗）。是本件告訴人之指訴，顯非無據。(二)又告訴人指訴其於99年9月間某日，撥打另案被告潘宥豪提供重利集團使用之上揭手機門號與重利集團不詳成員取得連繫，而重利集團成員「林先生」於99年9月29日，在新北市永和區成功路一段秀朗郵局前，要求告訴人提供個人身分證影本以供擔保外，「林先生」並出示空白借據1紙，由告訴人於借據上填寫姓名，並留下連絡地址及手機門號，而在場之「林先生」取得告訴人填寫之借據，當場實際交付4萬8千元（借款本金6萬元，扣除利息1萬2千元之餘額）予告訴人後，另提供張登閔前述郵局帳戶，請告訴人其後每日匯款2千元至張登閔帳戶清償餘款，告訴人即於借款時（99年9月29日）之翌日起，陸續使用告訴人個人郵局帳戶，自99年9月30日起至同年10月8日止之9天內，共計轉帳2萬元至張登閔所提供之上揭郵局帳戶（其中於99年9月30日轉帳2千元、99年10月1日轉帳4千元、99年10月4日轉帳4千元、99年10月5日轉帳2千元、99年10月6日轉帳2千元、99年10月8日轉帳6千元）等情，亦核與證人張登閔於警詢及偵查中之證述情節相符（見偵卷第6-8、75-77頁張登閔警詢及偵訊筆錄），復有卷附告訴人郵局存摺內頁影本（偵卷第25、26頁）及張登閔使用高雄民強郵局帳號0000000-0000000號帳戶之申請資料及99年9月至10月之交易明細表之郵局存簿轉帳資料在卷可資佐證（偵卷第36-38頁）。此外，另案被告張登閔提供上揭郵局帳戶、與另案被告潘宥豪提供上揭手機門號供犯罪集團使用，張登閔、潘宥豪二人涉犯幫助犯重利犯行部分，並經臺灣高雄地方法院以101年度簡字第2654號，分別判處張登閔拘役20日、潘宥豪拘役55日，並均得易科罰金確定等情，亦有該院判決正本附卷可參（見本院卷第52、53頁），亦均足以補強告訴人上揭證述之真實性。(三)至證人卓坤鈿於101年10月3日本院審理中雖到庭證稱：我認識在庭之告訴人鄭柳泉，因為之前上來臺北工作的時候，工作不穩定，看報紙小廣告，有小額借錢，才認識他，我跟告訴人有金錢往來關係，有跟他借過錢，借過好幾次，後來他有跟我調錢，他跟我借6萬元，金錢來源是向洪上正借的，我們約在中和圓山路那邊交錢，時間大概97年年初，因為時間已久，確實時間不太記得，當時我跟洪上正借錢的時候，他說借我3萬，如果多的話，他還要另外跟別人借，當天交錢的時候，我們是約在中和圓山路那邊，洪上正當面先交給我6萬元，我再交給告訴人，告訴人他有拿一張借據給我，借據上面有些是空白，因為我的錢是跟別人借的，所以債權人欄名字沒有寫，將來還錢的時候，才知道錢怎麼還、跟誰借的，因為這條錢是我向洪上正借的，不可能寫我的名字，當初履行的日期，都沒有寫，因為告訴人說一個月內會還給我們，告訴人有授權我們自己寫上債權人的姓名，當初不填寫我的名字，而授權我去填的理由，因為我跟洪上正借錢，到時候如果想要還的時候，就寫洪上正的名字，還給洪上正就好，這張借據後來我就交給洪上正，我認識一位張登閔，他認識告訴人，因為我們的錢都是匯張登閔這個戶頭，之前我有跟告訴人借款，告訴人說我只要把每天要還的錢匯到張登閔這個戶頭，當時利息沒有說怎麼算，都沒有談，說一個月還的時候，再算利息，今天要來作證的事情，是101年9月18日左右，洪上正跟我聯絡說今天要來幫他開庭作證一下，說是當時借錢的事情，今天來作證的事情，他打電話跟我講的，他打我的電話是0000000000，洪上正的電話0000000000，洪上正會知道我的電話，我們本來有失去聯絡過，後來是透過朋友聯絡到的，我這支電話號碼，他是透過朋友知道的，洪上正9月18日打電話給我時，告訴我作證的內容就是借錢的事情，當時洪上正跟我講，大概96年底97年初那時候我在臺北工作跟他借6萬的那條錢的事，是借給告訴人鄭柳泉的，他說現在是在開庭，需要我出來作證一下，因為這個也是透過我的關係，才會有這個借據關係，當時借錢的這張借據，我是直接交給洪上正保管，告訴人向我借6萬元，當初沒有講到利息，告訴人說到時候會給我分紅的意思，我當時向洪上正借錢，也沒有講到利息云云（見本院卷第90頁正面至98頁反面）。惟查：１、證人即告訴人鄭柳泉業於本院審理時證稱：我於99年9月29日下午在永和市成功路秀朗郵局前面，向地下錢莊借錢，是一位林先生送錢來給我，我就簽了一張借據，內容是6萬元本金，我有在借據上面簽名，借據上面大寫金額陸萬元是我寫的，實際拿到多少現金沒有寫，借據上面也沒有約定利息，借錢給我的不是在庭的被告洪上正、吳春宏，當時借錢，只有我跟林先生二個人而已，也不是上次來作證的卓坤鈿等語（見本院卷第114頁）。參以證人卓坤鈿於本院審理時證稱本件係被告洪上正於100年9月18日打電話給伊時，並告訴伊應出庭作證何事，是證人卓坤鈿之上揭證述是否可採，已非無疑？２、另就卷附告訴人出具之借據觀之，借據上面係由告訴人親自填寫姓名、連絡地址及連絡之手機門號「0000000000」；次查該手機門號係告訴人於97年4月24日向台灣大哥大公司申請一節，有「台灣大哥大資料查詢」1紙在卷可資佐證（見偵卷第128頁）。本件告訴人於被告洪上正持有之借據上面所留下連絡之手機門號「0000000000」既係97年4月24日始向電信公司申請，衡諸經驗法則，告訴人於97年4月24日之前顯然不可能使用此手機門號；是本件告訴人之借款時間，至少應係97年4月24日以後甚明，又告訴人借款後，曾陸續使用告訴人個人郵局帳戶，自99年9月30日起至同年10月8日止之9天內，共計轉帳2萬元至重利集團成員使用張登閔所提供之上揭郵局帳戶，已如前述；是本件告訴人借款時間、地點及對象，應係告訴人指稱於99年9月29日下午在永和市成功路秀朗郵局前面，向地下錢莊之「林先生」借款甚明。綜上，本件證人卓坤鈿於本院審理中所言，顯係被告洪上正臨訟指導之不實證述，自無從為被告2人有利之認定。(四)另查被告吳春宏於100年11月28日本院審理時供稱：本院調取100年度司促字第6503號卷附民事支付命令聲請狀上面具狀人洪上正、吳春宏的印章，是洪上正拿給我的印章，由我蓋上去的，我的印章是我自己蓋上去，聲請狀是找高雄法院大同一路附近的代書事務所，請人代書，我去代書事務所，他們打好書狀，我拿給洪上正看，洪上正看完之後，拿印章給我，我再把印章蓋上去，洪上正的印章，我蓋完之後就還給洪上正，我的印章還在我自己這裡，蓋章時間大概是100年2月18日的前幾天，應該也在2月間，日期我忘記了等語；核與被告洪上正同日於本院審理時之供述內容相符（見本院卷第120頁正、反面被告2人審判筆錄）。又本件告訴人指稱其於99年9月29日向重利集團借錢，並在重利集團成員「林先生」出示空白借據上面填寫金額陸萬元，且借據上面沒有約定利息，且被告2人借錢當時皆未在場，已如前述。是被告2人明知其等均非上揭借據之乙方借款人，且其等於97年1月間皆未共同借款6萬元予告訴人，且未約定告訴人何時履行債務及違約時如何支付利息，竟於99年10月9日至100年2月18日之某時，在不詳處所，未經告訴人之同意，而在上揭借據之「債務人同意於ＯＯ年ＯＯ月ＯＯ日履行清償義務，逾期未履行，違約利息半年內以年利率百分之十五計算，逾半年以利率百分之十八計算」欄位中，虛偽填載「97年1月31日」作為借貸清償期限，另在上揭借據之左上方處增加「乙方洪上正、吳春宏」之不實事項，而共同變造上揭借據內容，致使被告2人成為借據上之乙方債權人，復於100年2月18日之前幾天，由被告洪上正授權被告吳春宏持上揭變造後之借據，委請不知情上開代書事務所人員，協助被告2人代為製作上揭民事支付命令聲請狀（製作狀紙日期記載100年2月18日）並附送上開變造後之借據，聲請本院民事庭對告訴人核發支付命令（本院收狀日期為100年2月21日），被告2人就上揭行使變造借據犯行，均有犯意聯絡及行為分擔甚明。三、綜上所述，被告2人上開所辯，要係圖卸刑責之詞，自不足採。本件事證明確，被告2人上揭犯行均堪認定，皆應予依法論科。參、論罪及科刑：核被告洪上正、吳春宏所為，均係犯刑法第216條、第210條之行使變造私文書罪。而被告2人變造私文書之低度行為，應為行使變造私文書之高度行為所吸收，均不另論罪。又被告2人與已成年之重利集團不詳成員間，就上開行使變造私文書犯行，均有犯意聯絡及行為分擔，皆應論以共同正犯。爰審酌被告2人為協助重利集團向告訴人催討借款，竟共同持上開變造之不實借據及民事支付命令聲請狀，聲請本院民事庭對告訴人核發支付命令，影響本院核發支付命令之正確性及司法機關公信力，並損及告訴人實際借款金額及利息計算之權益；兼衡被告2人於偵、審期間，猶飾詞卸責、不知悔改，犯後態度不佳，本院因此認為被告2人固無據實陳述之義務，然其等顯然缺乏為自己行為負責之觀念；惟考量被告2人並無前科，另參酌被告洪上正為脫免罪責，竟臨訟指導證人卓坤鈿為上揭不實證述，亦有可議等一切情狀，爰量處被告2人如主文所示之刑，並諭知易科罰金之折算標準，以資懲儆。肆、告發偽證部分：審酌證人卓坤鈿於101年10月3日本院審理中供前具結（證人結文見本院卷第104頁），應據實證言，卻對於案情有重要關係之事項，即本件告訴人何時借款、借款地點、借款實際收受金額、約定利息、當時被告洪上正是否在場等情，涉嫌故為虛偽陳述，企圖影響本案審判之正確行使，嚴重妨害司法公正，此部分另由本院依法函送告發證人卓坤鈿偽證罪嫌，併予指明。伍、據上論結，應依刑事訴訟法第第299條第1項前段，刑法第28條、第216條、第210條、第41條第1項前段，判決如主文。本案經檢察官張慶林到庭執行職務。中華民國101年12月19日刑事第十四庭審判長法官蘇揚旭法官林正忠法官周宛蘭上列正本證明與原本無異。如不服本判決，應於判決送達後10日內敘明上訴理由，向本院提出上訴狀(應附繕本)，上訴於臺灣高等法院。其未敘述上訴理由者，應於上訴期間屆滿後20日內向本院補提理由書「切勿逕送上級法院」。書記官黃頌棻中華民國101年12月19日附錄本案論罪科刑法條全文：中華民國刑法第210條偽造、變造私文書，足以生損害於公眾或他人者，處5年以下有期徒刑。中華民國刑法第216條行使第210條至第215條之文書者，依偽造、變造文書或登載不實事項或使登載不實事項之規定處斷。\n",
            "Article Index: 137 Distance: 0.2864439\n",
            "Article Text: 一、潘平妹自民國107年3月5日起，將位於臺東縣○○市○○路0段000巷00號未辦理保存登記之房屋（下稱系爭房屋）出租予楊炳泉。嗣潘平妹之外甥女林玉佩認系爭房屋乃多人共有，遂於107年間向本院民事簡易庭對楊炳泉提出遷讓房屋之訴（下稱系爭訴訟），請求楊炳泉返還系爭房屋予全體共有人。楊炳泉旋即向潘平妹告知有系爭訴訟，詎潘平妹為繼續獨自保有系爭房屋之租金利益，在未告知楊炳泉欲替其刻製印章並撰寫答辯狀之情形下，竟便宜行事，明知未取得楊炳泉同意或授權，竟基於行使偽造私文書之犯意，於107年10月15日前之同年10月間某日，先委由不知情之成年刻印店人員偽刻楊炳泉之印章1顆，再於107年10月15日蓋用於其委由高雄地區之姓名年籍不詳之不知情朱姓友人製作之「民事聲請暨答辯狀」（下稱民事答辯狀）私文書之具狀人欄（共1枚），用以表示該民事答辯狀係楊炳泉書立之意，並郵寄提出於本院而行使之，經本院於同年10月16日收文，足以生損害於楊炳泉及司法機關裁判之正確性。二、案經本院法官依職權告發由臺灣臺東地方檢察署檢察官偵查起訴。理由壹、證據能力部分一、按被告以外之人於審判外之言詞或書面陳述，除法律有規定者外，不得作為證據。惟被告以外之人於檢察事務官、司法警察官或司法警察調查中所為之陳述，與審判中不符時，其先前之陳述具有較可信之特別情況，且為證明犯罪事實存否所必要者，得為證據，刑事訴訟法第159條第1項、第159條之2分別定有明文。是被告以外之人於檢察事務官、司法警察調查時所為之陳述，屬傳聞證據，倘被告否認其證據能力，如先前之陳述與審判中不符，而具備「可信性」及「必要性」二要件，方例外認有證據能力，而得採為證據。查本件被告潘平妹爭執證人即被害人楊炳泉於檢察事務官前證述之證據能力（見本院卷第48頁），而證人楊炳泉於檢察事務官前之陳述，核與審判中之證述尚無歧異，並未具備其他較可信之特別情況，復非證明犯罪事實存否所必要，依前揭規定及說明，應認此陳述不具傳聞例外，不得作為證明本案犯罪事實成立與否之證據，應以其於審判中所述作為證據，其於檢察事務官前之證述無證據能力。二、本判決書所引用之其他證據（詳如後述），公訴人及被告均同意作為證據，本院審酌該言詞或書面陳述作成時之情況均正常，且與本案相關之待證事實具有關連性，認適當作證據，依刑事訴訟法第159條之5第1項之規定，認上開陳述均具有證據能力。貳、實體部分一、訊據被告固不否認有刻印被害人楊炳泉之印章，再蓋用於其委由朱姓友人撰寫之民事答辯狀後，提出於本院，惟矢口否認有何行使偽造文書犯行，辯稱：伊跟楊炳泉聯絡叫他把收到的法院資料寄給伊，伊會幫他處理，但必須也寄1顆印章過來，楊炳泉說不必，要伊自己在高雄刻1個印章就好，所以伊才去刻章，也有請朱姓友人跟楊炳泉聯絡，後來朱姓友人寫好民事答辯狀時有找伊看一下，伊說可以後，民事答辯狀就同時寄給法院也寄給楊炳泉，因此本件刻印章及找人撰寫答辯狀均是經過楊炳泉同意，若未經過其同意，伊不會自掏腰包花新臺幣（下同）2、3千元請朱姓友人寫民事答辯狀等語。二、經查：（一）以下事實有下列證據可證，首堪認定：１、被告自107年3月5日起，將系爭房屋出租予被害人，租期5年，租金每月新臺幣（下同）2,700元乙節，據被告及被害人陳明在卷，並有租賃契約書影本1份（見臺灣臺東地方檢察署108年度他字第69號卷，下稱他字卷，第7至8頁反面）在卷可查。２、嗣被告之外甥女林玉佩認系爭房屋乃多人共有，遂於107年間向本院對被害人提出系爭訴訟，請求被害人返還系爭房屋予全體共有人，由本院民事庭以107年度東簡字第186號審理中，本院嗣於107年10月16日收受以被害人名義製作之民事答辯狀，其上具狀人「楊炳泉」姓名以電腦繕打，並蓋有楊炳泉印文1個，內容並請求承審法官傳訊被告到庭作證；承審法官於同年11月15日傳訊林玉珮、被害人及被告到庭審理，發現被害人對前開民事答辯狀完全不知情，被告則表示民事答辯狀是其製作及蓋印，承審法官乃依職權告發被告等情，有本院108年1月14日東院義民強107東簡186字第1080000876號函、民事答辯狀、本院107年11月15日言詞辯論筆錄各1份（見他字卷第1至6頁、第11至17頁）在卷可稽，以上事實，均堪認定。（二）本件被害人並未授權被告刻印及以其名義撰寫民事答辯狀提出於法院乙節，業據被害人於107年11月15日民事庭時於承審法官面前證述：「（【提示民事答辯狀】，是否你所寫？）【閱後】我沒有寫狀子，不知道誰寫的」、「我收到開庭通知，我有跟潘平妹討論，但是我沒有叫潘平妹幫我寫狀及蓋章」等語具體明確（見他字卷第12頁反面、第13頁反面）。嗣本院於108年10月21日審理時，被害人仍具結證稱：伊沒有請被告幫伊寫訴狀，被告要伊告訴她關於她姪女告伊的事，要伊將資料傳真給她，伊才傳真給她，被告雖有請一位朱先生聯繫伊，伊當時以為是律師，但伊以為他們只是要瞭解情形，並沒有想到是要幫伊寫答辯狀，且不論是被告或朱先生，都沒有跟伊提到要幫伊刻印章及寫狀紙的事，伊在今年3月就搬遷房屋了等語綦詳（見院卷第63至65頁）明確。核其前後證述內容一致，並無矛盾，且審酌上開民事答辯狀內容乃一般之答辯狀，縱認係被害人提出，其亦無因此涉及不法或自身不利之情形，實無冒偽證風險虛偽證述之必要，況被害人與被告並無恩怨，據被告自承在卷（見院卷第67頁），被害人尚且於審理中表示：其並無提告追究被告之意，被告人很好，伊不希望她被關，伊今天陳述的都是依據事實等語（見院卷第65頁），益證被害人並無設詞誣陷被告之動機，應認其證詞具有高度可信性。（三）被告雖以前詞置辯，惟查：１、被告於107年11月15日民事庭聽聞被害人向承審法官表示對該民事答辯狀完全不知情時，其即供承：「這個狀子是我從高雄寄過來的」、「狀子是我自己寫的，都是我自己用的，被告章也是我蓋的」等語（見他字卷第12頁反面、第13頁反面）明確，亦即坦承均係其個人所為，未有任何當場質問被害人或澄清是事先經被害人同意之辯詞，顯見被害人前揭關於被告未經其同意而擅自刻印撰狀等證述非虛，被告嗣後經法官告發而被檢察官列為被告偵查時，始改口辯稱均有經被害人同意等語，恐係臨訟卸責之詞，難以採信。２、且被告就被害人同意其刻印之辯詞，於偵查時原係辯稱：「（問：你有拿楊炳泉的印章給朱姓朋友？）楊炳泉交代朱姓朋友在高雄自己刻章，才不會麻煩」、「（問：狀紙上面楊炳泉的印文是何人蓋印？）朱姓朋友」等語（見臺灣臺東地方檢察署108年度交查字第126號卷第9頁）；嗣於本院審理時，又改口辯稱：伊聯繫被害人寄資料過來時，有請他順便寄1顆印章過來，但被害人說不必，叫伊在高雄刻就好，所以伊才去刻印章，再交給朱姓友人，這顆印章目前在伊高雄的家，1顆50元等語（見院卷第67頁正反面）。核其就被害人授權刻印之辯詞，在偵查中係辯稱被害人直接授權朱姓友人為之，於審理中則稱係被害人授權其為之，再由其將刻好之印章交予朱姓友人，前後矛盾不一，是否確有授權刻印乙事，實屬有疑。３、被告雖又辯稱系爭民事答辯狀於寄予法院同時，亦有寄予被害人，並提出交寄日期為107年10月15日、收件人係被害人之掛號郵件查單1份（見院卷第36頁）為證。惟查，該民事答辯狀僅被告看過即決定提出予法院，並未事先交予被害人看過，僅係寄送予法院之同時亦寄發1份予被害人讓其知悉此事乙節，從被告於審理時供稱：「（問：朱姓友人寄給楊炳泉的文件，是先寄給法院？還是先給你，你等楊炳泉看過沒問題才寄給法院？）我有先看過民事答辯狀，我就稍微看一下就說可以，朱姓友人就說把書狀寄給楊炳泉並同時寄給法院。」、「（問：如果都已經寄給法院，寄給楊炳泉還有什麼意義嗎？）還是要讓楊炳泉知道有這件事情。」等語（見院卷第67頁正反面）即可觀之甚明，亦即本件寄予被害人僅係事後通知性質，至多僅能證明被告主觀上判斷被害人事後縱知悉其擅為之事，亦不至於會有所反對之情，無以證明被害人有事先授權被告刻印及撰狀提出法院，是此部分證據尚難為被告有利之認定。４、至於被告辯稱若未經被害人同意，其何須自費花2、3千元請人撰狀等語。惟查，上開民事訴訟之被告雖係被害人，然若被害人被判決須遷讓房屋，則本件被告每月2,700元之租金收益即難繼續享有，甚且進一步影響到系爭房屋之產權究係被告個人或與其他人共有之認定，對被告之權益影響甚大，是其願付費撰狀請法院傳訊其到庭作證乃情理之中，尚難以此遽認係經被害人授權為之，此部分所辯，亦不足採。（四）縱上所述，被告所辯各節，顯係卸責之詞，不足採信，應以被害人之證詞始為真實可信，本件被告有事實欄一所載之行使偽造私文書犯行，已可認定，本件事證明確，應依法論科。三、論罪科刑（一）核被告所為，係犯刑法第216條、第210條之行使偽造私文書罪。被告偽刻被害人印章及偽造印文之行為，為其偽造私文書之階段行為；其偽造私文書後進而持以行使，其偽造私文書之低度行為，應為行使之高度行為所吸收，均不另論罪。被告利用不知情之朱姓友人遂行其上揭行使偽造私文書犯行，為間接正犯。（二）審酌被告為保有租金利益，竟便宜行事，明知未取得被害人同意或授權，即擅自對本院為前揭行使偽造私文書之行為，除有害於被害人權益外，亦對司法機關裁判之正確性產生影響，且犯後仍矢口否認犯行，甚為不該，應予非難。惟念及被告未曾因偽造文書而被起訴判刑之情形，此次乃因便宜行事，一時失慮，未事先取得被害人同意而擅為本件犯行，對於有刻製被害人印章及委撰民事答辯狀並提出於本院之客觀事實，尚能據實陳述之犯後態度，已73歲高齡，兼衡本件所生損害、被害人不欲提出告訴及被告自陳小學畢業之教育程度、離婚獨居，目前倚靠每月約3千元之老人年金生活，毋須扶養任何人等一切情狀，量處如主文所示之刑，並諭知易科罰金之折算標準，以資處罰。（三）被告偽造之被害人名義印章1顆，雖未扣案，然被告供稱放在家中如前所述，足證尚未滅失，應併同附表所示偽造被害人名義之印文1枚，均依刑法第219條規定宣告沒收。至於被告偽造之民事答辯狀私文書，業已交付本院前揭民事案件附卷，已非被告所有之物，無從依刑法第38條第2項宣告沒收，附此敘明。據上論斷，應依刑事訴訟法第299條第1項前段，刑法第216條、第210條、第41條第1項前段、第219條，判決如主文。本案經檢察官於盼盼提起公訴、檢察官謝慧中到庭執行職務。中華民國108年11月18日刑事第一庭審判長法官邱奕智法官蔡政晏法官王麗芳以上正本證明與原本無異。如不服本判決應於收受送達後10日內向本院提出上訴書狀，並應敘述具體理由；其未敘述上訴理由者，應於上訴期間屆滿後20日內向本院補提理由書（均須按他造當事人之人數附繕本）。「切勿逕送上級法院」告訴人或被害人對於本判決如有不服，請書具不服之理由狀，請求檢察官上訴，其上訴期間之計算係以檢察官收受判決正本之日期為準。書記官許惠棋中華民國108年11月20日中華民國刑法第210條（偽造變造私文書罪）偽造、變造私文書，足以生損害於公眾或他人者，處5年以下有期徒刑。中華民國刑法第216條（行使偽造變造或登載不實之文書罪）行使第210條至第215條之文書者，依偽造、變造文書或登載不實事項或使登載不實事項之規定處斷。附表\n"
          ]
        }
      ]
    },
    {
      "cell_type": "markdown",
      "source": [
        "### 使用全部test facts在train facts中尋找最相近的五篇facts並計算預測刑期"
      ],
      "metadata": {
        "id": "e_i3YUOgu2ac"
      }
    },
    {
      "cell_type": "code",
      "source": [
        "predicted_sentences_all = []\n",
        "\n",
        "for test_embedding in test_embeddings:\n",
        "    test_embedding = test_embedding.reshape(1, -1)\n",
        "    distances, indices = knn_model_SBERT_loaded.kneighbors(test_embedding)\n",
        "    # 取得最相近的五篇文章的索引及距離\n",
        "    nearest_articles_indices = indices[0]\n",
        "    nearest_articles_distances = distances[0]\n",
        "    predicted_sentences = 0\n",
        "    # 將最相近的五篇文章的刑期加總，並計算平均值作為預測刑期\n",
        "    for i, index in enumerate(nearest_articles_indices):\n",
        "        predicted_sentences += train_sentences[index]\n",
        "    predicted_sentence = float(predicted_sentences) / 5\n",
        "\n",
        "    predicted_sentences_all.append(predicted_sentence)\n",
        "\n"
      ],
      "metadata": {
        "id": "eyyDSQI4xb47"
      },
      "execution_count": null,
      "outputs": []
    },
    {
      "cell_type": "code",
      "source": [
        "print(predicted_sentences_all)\n",
        "print(test_sentences)"
      ],
      "metadata": {
        "id": "lanj0IUryFvQ",
        "colab": {
          "base_uri": "https://localhost:8080/"
        },
        "outputId": "4c0a9124-ed18-4386-9788-6b014265fcae"
      },
      "execution_count": null,
      "outputs": [
        {
          "output_type": "stream",
          "name": "stdout",
          "text": [
            "[111.0, 102.0, 144.0, 100.0, 162.0, 308.0, 180.0, 265.0, 156.0, 211.0, 186.0, 193.0, 132.0, 126.0, 214.0, 138.0, 289.0, 150.0, 203.0, 185.0, 205.0, 138.0, 314.0, 149.0, 100.0, 107.0, 180.4, 136.0, 138.0, 97.6, 126.0, 121.0, 214.6, 211.0, 156.0, 139.6, 113.0, 240.0, 138.0, 138.0, 100.0, 231.0, 144.0, 241.0, 162.0, 235.0, 332.0, 114.0, 88.0, 186.0, 313.2, 108.0, 173.0, 211.0, 93.0, 151.0, 365.2, 126.0, 174.4, 176.0, 99.0, 148.0, 105.0, 108.0, 136.0, 170.0, 290.0, 150.0, 202.0, 156.0, 116.0, 141.0, 156.0, 175.0, 84.0, 283.4, 150.0, 170.0, 126.0, 153.0, 166.0, 95.4, 156.0, 301.0, 227.0, 165.0, 102.0, 165.0, 187.0, 162.0, 175.0, 132.0, 101.0, 356.0, 187.0, 402.2, 174.0, 120.0, 146.0, 125.0]\n",
            "[150, 242, 60, 302, 365, 150, 90, 120, 120, 180, 120, 90, 120, 90, 90, 90, 180, 270, 425, 50, 150, 90, 365, 195, 150, 50, 345, 150, 150, 90, 425, 135, 120, 240, 20, 240, 60, 120, 60, 150, 90, 240, 365, 210, 150, 120, 32, 150, 505, 90, 90, 120, 120, 120, 165, 180, 302, 90, 120, 730, 240, 40, 180, 90, 90, 180, 150, 450, 240, 240, 120, 120, 120, 120, 165, 150, 180, 90, 60, 120, 60, 820, 180, 90, 120, 120, 240, 180, 120, 90, 270, 195, 90, 180, 150, 120, 120, 150, 180, 180]\n"
          ]
        }
      ]
    },
    {
      "cell_type": "code",
      "source": [
        "from sklearn.metrics import mean_squared_error, mean_absolute_error"
      ],
      "metadata": {
        "id": "l0x-782r8NvT"
      },
      "execution_count": null,
      "outputs": []
    },
    {
      "cell_type": "code",
      "source": [
        "mse_linear = mean_squared_error(test_sentences, predicted_sentences_all)\n",
        "rmse_linear = mean_squared_error(test_sentences, predicted_sentences_all, squared=False)\n",
        "mae_linear = mean_absolute_error(test_sentences, predicted_sentences_all)"
      ],
      "metadata": {
        "id": "uuI2-NxR8RFL"
      },
      "execution_count": null,
      "outputs": []
    },
    {
      "cell_type": "code",
      "source": [
        "print('\\n==================================================')\n",
        "print(\"Linear Regression - MSE:\", mse_linear)\n",
        "print(\"Linear Regression - RMSE:\", rmse_linear)\n",
        "print(\"Linear Regression - MAE:\", mae_linear)"
      ],
      "metadata": {
        "id": "mgIAo6vDGJQ9",
        "colab": {
          "base_uri": "https://localhost:8080/"
        },
        "outputId": "d787a729-532f-4f34-db04-ffd5fd1387ac"
      },
      "execution_count": null,
      "outputs": [
        {
          "output_type": "stream",
          "name": "stdout",
          "text": [
            "\n",
            "==================================================\n",
            "Linear Regression - MSE: 21656.706400000003\n",
            "Linear Regression - RMSE: 147.16217720596555\n",
            "Linear Regression - MAE: 98.25200000000001\n"
          ]
        }
      ]
    },
    {
      "cell_type": "markdown",
      "source": [
        "## colbert"
      ],
      "metadata": {
        "id": "TWsYjgmW5Hw4"
      }
    },
    {
      "cell_type": "code",
      "source": [
        "output_1 = model.encode(sword_1, return_dense=True, return_sparse=True, return_colbert_vecs=True)\n",
        "output_2 = model.encode(sword_2, return_dense=True, return_sparse=True, return_colbert_vecs=True)\n",
        "\n",
        "print(model.colbert_score(output_1['colbert_vecs'][0], output_2['colbert_vecs'][0]))\n",
        "print(model.colbert_score(output_1['colbert_vecs'][0], output_2['colbert_vecs'][1]))\n",
        "print(model.colbert_score(output_1['colbert_vecs'][1], output_2['colbert_vecs'][0]))\n",
        "print(model.colbert_score(output_1['colbert_vecs'][1], output_2['colbert_vecs'][1]))"
      ],
      "metadata": {
        "colab": {
          "base_uri": "https://localhost:8080/"
        },
        "id": "i-OL8Pmb5S5v",
        "outputId": "9c891c57-d0d6-4d8a-878a-fe0ac9bae19d"
      },
      "execution_count": null,
      "outputs": [
        {
          "output_type": "stream",
          "name": "stdout",
          "text": [
            "tensor(0.8653)\n",
            "tensor(0.5597)\n",
            "tensor(0.5299)\n",
            "tensor(0.7482)\n"
          ]
        }
      ]
    },
    {
      "cell_type": "code",
      "source": [
        "print(output_1['colbert_vecs'][0].shape)\n",
        "print(output_1['colbert_vecs'][1].shape)"
      ],
      "metadata": {
        "colab": {
          "base_uri": "https://localhost:8080/"
        },
        "id": "mOd5mPHsHHRe",
        "outputId": "5c8948c1-ff3b-420a-cb7f-05419e5e20ea"
      },
      "execution_count": null,
      "outputs": [
        {
          "output_type": "stream",
          "name": "stdout",
          "text": [
            "(3, 1024)\n",
            "(3, 1024)\n"
          ]
        }
      ]
    },
    {
      "cell_type": "code",
      "source": [
        "print(type(test_embeddings_colbert))\n",
        "print(type(test_embeddings_colbert['colbert_vecs']))\n",
        "print(type(test_embeddings_colbert['colbert_vecs'][0]))"
      ],
      "metadata": {
        "colab": {
          "base_uri": "https://localhost:8080/"
        },
        "id": "p0usaf-4xLko",
        "outputId": "155c754a-7abb-40ab-94d0-c19f3c5b7c45"
      },
      "execution_count": null,
      "outputs": [
        {
          "output_type": "stream",
          "name": "stdout",
          "text": [
            "<class 'dict'>\n",
            "<class 'list'>\n",
            "<class 'numpy.ndarray'>\n"
          ]
        }
      ]
    },
    {
      "cell_type": "code",
      "source": [
        "print(type(loaded_test_embeddings))\n",
        "print(type(loaded_test_embeddings['colbert_vecs']))\n",
        "print(type(loaded_test_embeddings['colbert_vecs'][0]))"
      ],
      "metadata": {
        "colab": {
          "base_uri": "https://localhost:8080/"
        },
        "id": "NJukcDReyRro",
        "outputId": "50fa21f3-baf1-4b18-f395-e24ea9ca365a"
      },
      "execution_count": null,
      "outputs": [
        {
          "output_type": "stream",
          "name": "stdout",
          "text": [
            "<class 'dict'>\n",
            "<class 'list'>\n",
            "<class 'numpy.ndarray'>\n"
          ]
        }
      ]
    },
    {
      "cell_type": "code",
      "source": [
        "max_length_train = max(len(vec) for vec in loaded_train_embeddings['colbert_vecs'])\n",
        "max_length_test = max(len(vec) for vec in loaded_test_embeddings['colbert_vecs'])\n",
        "max_length = max(max_length_train, max_length_test)\n",
        "max_length"
      ],
      "metadata": {
        "colab": {
          "base_uri": "https://localhost:8080/"
        },
        "id": "LHEPW-VXHj3g",
        "outputId": "ac3ebd4a-d2b5-4585-e303-1ae3ad51b927"
      },
      "execution_count": null,
      "outputs": [
        {
          "output_type": "execute_result",
          "data": {
            "text/plain": [
              "1154"
            ]
          },
          "metadata": {},
          "execution_count": 14
        }
      ]
    },
    {
      "cell_type": "code",
      "source": [
        "def colbert_metric(vector1, vector2):\n",
        "    # 将一维向量重塑为二维数组\n",
        "    vector1_reshaped = vector1.reshape(max_length, 1024)\n",
        "    vector2_reshaped = vector2.reshape(max_length, 1024)\n",
        "\n",
        "    # 计算相似度\n",
        "    colbert_similarity = model.colbert_score(vector1_reshaped, vector2_reshaped)\n",
        "    # 计算距离（1 - 相似度）\n",
        "    distance = 1 - colbert_similarity\n",
        "    # 返回距离值\n",
        "    return distance  # 这里使用平均值作为最终的距离值，您可以根据需要选择其他方法"
      ],
      "metadata": {
        "id": "IJKJFhzCMwGD"
      },
      "execution_count": null,
      "outputs": []
    },
    {
      "cell_type": "code",
      "source": [
        "k = 5\n",
        "knn_model_colbert = NearestNeighbors(n_neighbors=k, metric=colbert_metric)"
      ],
      "metadata": {
        "id": "21X5P6GdA7UP"
      },
      "execution_count": null,
      "outputs": []
    },
    {
      "cell_type": "code",
      "source": [
        "print(loaded_train_embeddings['colbert_vecs'][0].shape)\n",
        "print(loaded_train_embeddings['colbert_vecs'][1].shape)\n",
        "print(loaded_train_embeddings['colbert_vecs'][2].shape)"
      ],
      "metadata": {
        "colab": {
          "base_uri": "https://localhost:8080/"
        },
        "id": "ArMllQXrGn8S",
        "outputId": "0bd6e519-7405-4450-f2da-ff9d34522477"
      },
      "execution_count": null,
      "outputs": [
        {
          "output_type": "stream",
          "name": "stdout",
          "text": [
            "(194, 1024)\n",
            "(315, 1024)\n",
            "(441, 1024)\n"
          ]
        }
      ]
    },
    {
      "cell_type": "code",
      "source": [
        "padded_train_embeddings_colbert = []\n",
        "for embedding in loaded_train_embeddings['colbert_vecs']:\n",
        "  zero_embedding = np.zeros((max_length, 1024))\n",
        "  for i, vec in enumerate(embedding):\n",
        "    zero_embedding[i] = vec\n",
        "  padded_train_embeddings_colbert.append(zero_embedding)"
      ],
      "metadata": {
        "id": "p8w9GpsRHn7M"
      },
      "execution_count": null,
      "outputs": []
    },
    {
      "cell_type": "code",
      "source": [
        "print(padded_train_embeddings_colbert[0].shape)\n",
        "print(padded_train_embeddings_colbert[1].shape)\n",
        "print(padded_train_embeddings_colbert[2].shape)"
      ],
      "metadata": {
        "colab": {
          "base_uri": "https://localhost:8080/"
        },
        "id": "XV3LWMtrJItj",
        "outputId": "b22d99ba-b308-488b-fa44-d8e4ad1a6820"
      },
      "execution_count": null,
      "outputs": [
        {
          "output_type": "stream",
          "name": "stdout",
          "text": [
            "(1154, 1024)\n",
            "(1154, 1024)\n",
            "(1154, 1024)\n"
          ]
        }
      ]
    },
    {
      "cell_type": "code",
      "source": [
        "reshape_padded_train_embeddings_colbert = np.array(padded_train_embeddings_colbert).reshape(500,-1)"
      ],
      "metadata": {
        "id": "8HCdSof7NgaM"
      },
      "execution_count": null,
      "outputs": []
    },
    {
      "cell_type": "code",
      "source": [
        "reshape_padded_train_embeddings_colbert.shape"
      ],
      "metadata": {
        "colab": {
          "base_uri": "https://localhost:8080/"
        },
        "id": "Hfsv5KKjN9xO",
        "outputId": "fe1e0eda-81db-4778-d306-8e4168cfba88"
      },
      "execution_count": null,
      "outputs": [
        {
          "output_type": "execute_result",
          "data": {
            "text/plain": [
              "(500, 1181696)"
            ]
          },
          "metadata": {},
          "execution_count": 21
        }
      ]
    },
    {
      "cell_type": "code",
      "source": [
        "knn_model_colbert.fit(reshape_padded_train_embeddings_colbert)"
      ],
      "metadata": {
        "colab": {
          "base_uri": "https://localhost:8080/",
          "height": 75
        },
        "id": "pBi5YOwOBqRC",
        "outputId": "edea57e2-7a6a-4d85-bb89-ce4331d40c37"
      },
      "execution_count": null,
      "outputs": [
        {
          "output_type": "execute_result",
          "data": {
            "text/plain": [
              "NearestNeighbors(metric=<function colbert_metric at 0x7da01831ab90>)"
            ],
            "text/html": [
              "<style>#sk-container-id-1 {color: black;background-color: white;}#sk-container-id-1 pre{padding: 0;}#sk-container-id-1 div.sk-toggleable {background-color: white;}#sk-container-id-1 label.sk-toggleable__label {cursor: pointer;display: block;width: 100%;margin-bottom: 0;padding: 0.3em;box-sizing: border-box;text-align: center;}#sk-container-id-1 label.sk-toggleable__label-arrow:before {content: \"▸\";float: left;margin-right: 0.25em;color: #696969;}#sk-container-id-1 label.sk-toggleable__label-arrow:hover:before {color: black;}#sk-container-id-1 div.sk-estimator:hover label.sk-toggleable__label-arrow:before {color: black;}#sk-container-id-1 div.sk-toggleable__content {max-height: 0;max-width: 0;overflow: hidden;text-align: left;background-color: #f0f8ff;}#sk-container-id-1 div.sk-toggleable__content pre {margin: 0.2em;color: black;border-radius: 0.25em;background-color: #f0f8ff;}#sk-container-id-1 input.sk-toggleable__control:checked~div.sk-toggleable__content {max-height: 200px;max-width: 100%;overflow: auto;}#sk-container-id-1 input.sk-toggleable__control:checked~label.sk-toggleable__label-arrow:before {content: \"▾\";}#sk-container-id-1 div.sk-estimator input.sk-toggleable__control:checked~label.sk-toggleable__label {background-color: #d4ebff;}#sk-container-id-1 div.sk-label input.sk-toggleable__control:checked~label.sk-toggleable__label {background-color: #d4ebff;}#sk-container-id-1 input.sk-hidden--visually {border: 0;clip: rect(1px 1px 1px 1px);clip: rect(1px, 1px, 1px, 1px);height: 1px;margin: -1px;overflow: hidden;padding: 0;position: absolute;width: 1px;}#sk-container-id-1 div.sk-estimator {font-family: monospace;background-color: #f0f8ff;border: 1px dotted black;border-radius: 0.25em;box-sizing: border-box;margin-bottom: 0.5em;}#sk-container-id-1 div.sk-estimator:hover {background-color: #d4ebff;}#sk-container-id-1 div.sk-parallel-item::after {content: \"\";width: 100%;border-bottom: 1px solid gray;flex-grow: 1;}#sk-container-id-1 div.sk-label:hover label.sk-toggleable__label {background-color: #d4ebff;}#sk-container-id-1 div.sk-serial::before {content: \"\";position: absolute;border-left: 1px solid gray;box-sizing: border-box;top: 0;bottom: 0;left: 50%;z-index: 0;}#sk-container-id-1 div.sk-serial {display: flex;flex-direction: column;align-items: center;background-color: white;padding-right: 0.2em;padding-left: 0.2em;position: relative;}#sk-container-id-1 div.sk-item {position: relative;z-index: 1;}#sk-container-id-1 div.sk-parallel {display: flex;align-items: stretch;justify-content: center;background-color: white;position: relative;}#sk-container-id-1 div.sk-item::before, #sk-container-id-1 div.sk-parallel-item::before {content: \"\";position: absolute;border-left: 1px solid gray;box-sizing: border-box;top: 0;bottom: 0;left: 50%;z-index: -1;}#sk-container-id-1 div.sk-parallel-item {display: flex;flex-direction: column;z-index: 1;position: relative;background-color: white;}#sk-container-id-1 div.sk-parallel-item:first-child::after {align-self: flex-end;width: 50%;}#sk-container-id-1 div.sk-parallel-item:last-child::after {align-self: flex-start;width: 50%;}#sk-container-id-1 div.sk-parallel-item:only-child::after {width: 0;}#sk-container-id-1 div.sk-dashed-wrapped {border: 1px dashed gray;margin: 0 0.4em 0.5em 0.4em;box-sizing: border-box;padding-bottom: 0.4em;background-color: white;}#sk-container-id-1 div.sk-label label {font-family: monospace;font-weight: bold;display: inline-block;line-height: 1.2em;}#sk-container-id-1 div.sk-label-container {text-align: center;}#sk-container-id-1 div.sk-container {/* jupyter's `normalize.less` sets `[hidden] { display: none; }` but bootstrap.min.css set `[hidden] { display: none !important; }` so we also need the `!important` here to be able to override the default hidden behavior on the sphinx rendered scikit-learn.org. See: https://github.com/scikit-learn/scikit-learn/issues/21755 */display: inline-block !important;position: relative;}#sk-container-id-1 div.sk-text-repr-fallback {display: none;}</style><div id=\"sk-container-id-1\" class=\"sk-top-container\"><div class=\"sk-text-repr-fallback\"><pre>NearestNeighbors(metric=&lt;function colbert_metric at 0x7da01831ab90&gt;)</pre><b>In a Jupyter environment, please rerun this cell to show the HTML representation or trust the notebook. <br />On GitHub, the HTML representation is unable to render, please try loading this page with nbviewer.org.</b></div><div class=\"sk-container\" hidden><div class=\"sk-item\"><div class=\"sk-estimator sk-toggleable\"><input class=\"sk-toggleable__control sk-hidden--visually\" id=\"sk-estimator-id-1\" type=\"checkbox\" checked><label for=\"sk-estimator-id-1\" class=\"sk-toggleable__label sk-toggleable__label-arrow\">NearestNeighbors</label><div class=\"sk-toggleable__content\"><pre>NearestNeighbors(metric=&lt;function colbert_metric at 0x7da01831ab90&gt;)</pre></div></div></div></div></div>"
            ]
          },
          "metadata": {},
          "execution_count": 22
        }
      ]
    },
    {
      "cell_type": "code",
      "source": [
        "# 將模型保存到文件\n",
        "with open('/content/drive/MyDrive/senior/LAB/LawCaseRetreiver/sentence_predict/knn_model_colbert.pkl', 'wb') as f:\n",
        "    pickle.dump(knn_model_colbert, f)\n",
        "\n",
        "# 從文件加載模型\n",
        "with open('/content/drive/MyDrive/senior/LAB/LawCaseRetreiver/sentence_predict/knn_model_colbert.pkl', 'rb') as f:\n",
        "    knn_model_colbert_loaded = pickle.load(f)"
      ],
      "metadata": {
        "colab": {
          "base_uri": "https://localhost:8080/",
          "height": 216
        },
        "id": "qeuo5rbIB4bm",
        "outputId": "c48fb7ab-2e01-46d0-f299-7c9df5113dbe"
      },
      "execution_count": null,
      "outputs": [
        {
          "output_type": "error",
          "ename": "PicklingError",
          "evalue": "Can't pickle <function colbert_metric at 0x7fb3c46c3400>: it's not the same object as __main__.colbert_metric",
          "traceback": [
            "\u001b[0;31m---------------------------------------------------------------------------\u001b[0m",
            "\u001b[0;31mPicklingError\u001b[0m                             Traceback (most recent call last)",
            "\u001b[0;32m<ipython-input-109-64c21c10ef11>\u001b[0m in \u001b[0;36m<cell line: 2>\u001b[0;34m()\u001b[0m\n\u001b[1;32m      1\u001b[0m \u001b[0;31m# 將模型保存到文件\u001b[0m\u001b[0;34m\u001b[0m\u001b[0;34m\u001b[0m\u001b[0m\n\u001b[1;32m      2\u001b[0m \u001b[0;32mwith\u001b[0m \u001b[0mopen\u001b[0m\u001b[0;34m(\u001b[0m\u001b[0;34m'/content/drive/MyDrive/senior/LAB/LawCaseRetreiver/sentence_predict/knn_model_colbert.pkl'\u001b[0m\u001b[0;34m,\u001b[0m \u001b[0;34m'wb'\u001b[0m\u001b[0;34m)\u001b[0m \u001b[0;32mas\u001b[0m \u001b[0mf\u001b[0m\u001b[0;34m:\u001b[0m\u001b[0;34m\u001b[0m\u001b[0;34m\u001b[0m\u001b[0m\n\u001b[0;32m----> 3\u001b[0;31m     \u001b[0mpickle\u001b[0m\u001b[0;34m.\u001b[0m\u001b[0mdump\u001b[0m\u001b[0;34m(\u001b[0m\u001b[0mknn_model_colbert\u001b[0m\u001b[0;34m,\u001b[0m \u001b[0mf\u001b[0m\u001b[0;34m)\u001b[0m\u001b[0;34m\u001b[0m\u001b[0;34m\u001b[0m\u001b[0m\n\u001b[0m\u001b[1;32m      4\u001b[0m \u001b[0;34m\u001b[0m\u001b[0m\n\u001b[1;32m      5\u001b[0m \u001b[0;31m# 從文件加載模型\u001b[0m\u001b[0;34m\u001b[0m\u001b[0;34m\u001b[0m\u001b[0m\n",
            "\u001b[0;31mPicklingError\u001b[0m: Can't pickle <function colbert_metric at 0x7fb3c46c3400>: it's not the same object as __main__.colbert_metric"
          ]
        }
      ]
    },
    {
      "cell_type": "code",
      "source": [
        "padded_test_embeddings_colbert = []\n",
        "for embedding in loaded_test_embeddings['colbert_vecs']:\n",
        "  zero_embedding = np.zeros((max_length, 1024))\n",
        "  for i, vec in enumerate(embedding):\n",
        "    zero_embedding[i] = vec\n",
        "  padded_test_embeddings_colbert.append(zero_embedding)"
      ],
      "metadata": {
        "id": "Hp_IzgIuOZt-"
      },
      "execution_count": null,
      "outputs": []
    },
    {
      "cell_type": "code",
      "source": [
        "print(padded_test_embeddings_colbert[0].shape)\n",
        "print(padded_test_embeddings_colbert[1].shape)"
      ],
      "metadata": {
        "colab": {
          "base_uri": "https://localhost:8080/"
        },
        "id": "rFbmxwBKOuDu",
        "outputId": "c3900788-c020-47c2-d281-9da800508256"
      },
      "execution_count": null,
      "outputs": [
        {
          "output_type": "stream",
          "name": "stdout",
          "text": [
            "(1154, 1024)\n",
            "(1154, 1024)\n"
          ]
        }
      ]
    },
    {
      "cell_type": "code",
      "source": [
        "reshape_padded_test_embeddings_colbert = np.array(padded_test_embeddings_colbert).reshape(100,-1)"
      ],
      "metadata": {
        "id": "5R_WuqE4O0IA"
      },
      "execution_count": null,
      "outputs": []
    },
    {
      "cell_type": "code",
      "source": [
        "print(reshape_padded_test_embeddings_colbert.shape)\n",
        "print(reshape_padded_test_embeddings_colbert[0].shape)\n",
        "print(reshape_padded_test_embeddings_colbert[0].reshape(-1, 1).shape)"
      ],
      "metadata": {
        "colab": {
          "base_uri": "https://localhost:8080/"
        },
        "id": "hChitcODO37j",
        "outputId": "32abbc6a-bf5e-4c73-9a7d-e1e50f30f3d1"
      },
      "execution_count": null,
      "outputs": [
        {
          "output_type": "stream",
          "name": "stdout",
          "text": [
            "(100, 1181696)\n",
            "(1181696,)\n",
            "(1181696, 1)\n"
          ]
        }
      ]
    },
    {
      "cell_type": "code",
      "source": [
        "distances, indices = knn_model_colbert.kneighbors(reshape_padded_test_embeddings_colbert)"
      ],
      "metadata": {
        "id": "7HyccoAEBzXZ"
      },
      "execution_count": null,
      "outputs": []
    },
    {
      "cell_type": "code",
      "source": [
        "distances"
      ],
      "metadata": {
        "colab": {
          "base_uri": "https://localhost:8080/"
        },
        "id": "QyAuCm_SUQuc",
        "outputId": "477c925e-b2ea-4a73-f60d-391acdbc35e5"
      },
      "execution_count": null,
      "outputs": [
        {
          "output_type": "execute_result",
          "data": {
            "text/plain": [
              "array([[0.8467546 , 0.85628895, 0.85792951, 0.85798034, 0.85812114],\n",
              "       [0.46786588, 0.46904526, 0.47064338, 0.4724483 , 0.47270239],\n",
              "       [0.68826188, 0.69833034, 0.71697342, 0.71933531, 0.7221358 ],\n",
              "       [0.9022876 , 0.90252518, 0.90296736, 0.90693968, 0.91095569],\n",
              "       [0.89945079, 0.90220673, 0.90308042, 0.90334198, 0.90344348],\n",
              "       [0.95062302, 0.95340193, 0.95599509, 0.95619578, 0.95635824],\n",
              "       [0.73356978, 0.73466964, 0.73468267, 0.73665344, 0.7376735 ],\n",
              "       [0.71970116, 0.72039855, 0.72337162, 0.72508263, 0.72585188],\n",
              "       [0.93316376, 0.93319655, 0.93438942, 0.9345055 , 0.93488585],\n",
              "       [0.92910114, 0.92966921, 0.92969095, 0.9298863 , 0.93010254],\n",
              "       [0.91468292, 0.9166145 , 0.91728189, 0.91731523, 0.91746835],\n",
              "       [0.87141812, 0.87774514, 0.88135079, 0.88160658, 0.88172145],\n",
              "       [0.62877719, 0.63251745, 0.63353899, 0.63757815, 0.63969064],\n",
              "       [0.88434062, 0.88694274, 0.89574548, 0.89687368, 0.89701152],\n",
              "       [0.88715477, 0.88753215, 0.88805185, 0.88847098, 0.88848006],\n",
              "       [0.78005141, 0.78093777, 0.78534358, 0.78689568, 0.78817286],\n",
              "       [0.7646717 , 0.76644364, 0.76888069, 0.77086377, 0.77331228],\n",
              "       [0.89532286, 0.89847867, 0.89934053, 0.89937813, 0.89980244],\n",
              "       [0.3657339 , 0.39214049, 0.3957074 , 0.40172602, 0.40205371],\n",
              "       [0.85563998, 0.88319143, 0.88458082, 0.88542291, 0.88785176],\n",
              "       [0.90679597, 0.90742181, 0.90803773, 0.90838969, 0.90993447],\n",
              "       [0.59058736, 0.59088326, 0.59896941, 0.60371559, 0.60955077],\n",
              "       [0.87443077, 0.88796145, 0.89050391, 0.89141071, 0.89186583],\n",
              "       [0.85083619, 0.85084632, 0.85268953, 0.85368082, 0.85376662],\n",
              "       [0.39394467, 0.40891519, 0.41282402, 0.41630223, 0.41667004],\n",
              "       [0.61134782, 0.61764927, 0.62031625, 0.62116926, 0.62238491],\n",
              "       [0.9105896 , 0.91143022, 0.91167331, 0.91204986, 0.91272101],\n",
              "       [0.75535771, 0.75581201, 0.76212096, 0.76317518, 0.76482388],\n",
              "       [0.68974514, 0.69027912, 0.69067246, 0.69241819, 0.69428325],\n",
              "       [0.46256917, 0.46551348, 0.47589742, 0.47786026, 0.47875624],\n",
              "       [0.51897773, 0.52047198, 0.52101703, 0.52251206, 0.527441  ],\n",
              "       [0.83595236, 0.83617117, 0.83860416, 0.84025798, 0.84084316],\n",
              "       [0.92457716, 0.93239043, 0.93356821, 0.93656681, 0.93708897],\n",
              "       [0.86454725, 0.87127614, 0.87217275, 0.87403951, 0.87419114],\n",
              "       [0.84015483, 0.84224135, 0.84296019, 0.84333965, 0.84385396],\n",
              "       [0.84100268, 0.85889028, 0.86045316, 0.86117104, 0.86368408],\n",
              "       [0.92982766, 0.92998597, 0.93052724, 0.93150564, 0.93193715],\n",
              "       [0.85127846, 0.85185277, 0.85233763, 0.85421146, 0.85490511],\n",
              "       [0.75370211, 0.75803529, 0.76049572, 0.76338348, 0.76376255],\n",
              "       [0.70950156, 0.71196859, 0.71222768, 0.71504877, 0.71648946],\n",
              "       [0.81641426, 0.81647718, 0.82217656, 0.8262316 , 0.83598242],\n",
              "       [0.92010107, 0.92383716, 0.92417478, 0.92519239, 0.92594572],\n",
              "       [0.55411712, 0.55755899, 0.56236506, 0.56522477, 0.56530427],\n",
              "       [0.61784674, 0.61923001, 0.62036215, 0.62257278, 0.62449174],\n",
              "       [0.53660442, 0.54571038, 0.54999211, 0.55503291, 0.55746324],\n",
              "       [0.69162404, 0.69902474, 0.70088783, 0.70160834, 0.70294926],\n",
              "       [0.78018669, 0.78104487, 0.78258817, 0.78397354, 0.78406771],\n",
              "       [0.89564934, 0.90170012, 0.90205853, 0.90315852, 0.90345068],\n",
              "       [0.92464681, 0.92481684, 0.92489872, 0.92541717, 0.92561427],\n",
              "       [0.73346101, 0.73660668, 0.73823102, 0.73874194, 0.74260535],\n",
              "       [0.7869423 , 0.79357634, 0.80641017, 0.81269044, 0.8128673 ],\n",
              "       [0.56228726, 0.56521123, 0.56765048, 0.56810766, 0.5696796 ],\n",
              "       [0.67326568, 0.6734801 , 0.67944651, 0.67969588, 0.68920716],\n",
              "       [0.83226498, 0.8352444 , 0.83577352, 0.83611989, 0.83702993],\n",
              "       [0.90112026, 0.90183844, 0.90192008, 0.90321782, 0.90351957],\n",
              "       [0.89854295, 0.89979584, 0.90035241, 0.90053618, 0.90055137],\n",
              "       [0.73906435, 0.74506465, 0.7516676 , 0.75669162, 0.75814851],\n",
              "       [0.61125645, 0.61355049, 0.64495714, 0.65615304, 0.67942418],\n",
              "       [0.92238811, 0.92770839, 0.92895221, 0.92940745, 0.92947361],\n",
              "       [0.85078262, 0.85642191, 0.85650178, 0.85668558, 0.85688408],\n",
              "       [0.90074492, 0.9009732 , 0.90133365, 0.90145079, 0.90153042],\n",
              "       [0.92236124, 0.92471957, 0.92659462, 0.92660946, 0.92717538],\n",
              "       [0.84372722, 0.84595012, 0.84620112, 0.84714831, 0.8471918 ],\n",
              "       [0.83650173, 0.83981481, 0.83981971, 0.84245808, 0.84258817],\n",
              "       [0.54192316, 0.55218098, 0.55404356, 0.55862616, 0.55908574],\n",
              "       [0.945032  , 0.94518746, 0.94672203, 0.94685589, 0.94692925],\n",
              "       [0.73391336, 0.73968446, 0.74025267, 0.74278726, 0.74288797],\n",
              "       [0.95573444, 0.95622123, 0.95750238, 0.95756552, 0.95781896],\n",
              "       [0.91734536, 0.91797646, 0.91828076, 0.9193963 , 0.92008678],\n",
              "       [0.9438111 , 0.94597173, 0.94729425, 0.94751201, 0.94887491],\n",
              "       [0.90869848, 0.91050347, 0.91087767, 0.9110478 , 0.91130168],\n",
              "       [0.55142864, 0.55272907, 0.55469607, 0.55613347, 0.55676307],\n",
              "       [0.55767653, 0.56089812, 0.56595207, 0.56721129, 0.5776131 ],\n",
              "       [0.80864196, 0.80874945, 0.8107114 , 0.81170158, 0.81266295],\n",
              "       [0.74373672, 0.74661763, 0.75388715, 0.76306722, 0.76331623],\n",
              "       [0.86096257, 0.86218382, 0.86484646, 0.86555966, 0.86573868],\n",
              "       [0.70476072, 0.70476073, 0.72005943, 0.72005943, 0.72005944],\n",
              "       [0.67115354, 0.67896225, 0.68543168, 0.68950783, 0.69120016],\n",
              "       [0.89633715, 0.89945322, 0.89992339, 0.90022549, 0.90032552],\n",
              "       [0.8914402 , 0.89193032, 0.89229281, 0.89343691, 0.89437141],\n",
              "       [0.72849442, 0.73479435, 0.73546524, 0.74059124, 0.74104289],\n",
              "       [0.911298  , 0.91164967, 0.91167702, 0.91188603, 0.91221229],\n",
              "       [0.56189903, 0.5654182 , 0.5732306 , 0.57555566, 0.57676698],\n",
              "       [0.85179211, 0.85195073, 0.8531241 , 0.85438289, 0.85446518],\n",
              "       [0.7749133 , 0.77686972, 0.78038203, 0.78246358, 0.78376951],\n",
              "       [0.73725926, 0.74076224, 0.74328311, 0.74387427, 0.74495964],\n",
              "       [0.74533078, 0.74539655, 0.74656357, 0.75040316, 0.75041771],\n",
              "       [0.83489409, 0.83802438, 0.83813686, 0.83862343, 0.83944119],\n",
              "       [0.94474066, 0.94509648, 0.946205  , 0.94632527, 0.94637618],\n",
              "       [0.73318163, 0.74182007, 0.74594253, 0.7476263 , 0.74948955],\n",
              "       [0.72586549, 0.73272561, 0.73599692, 0.73700511, 0.7370267 ],\n",
              "       [0.27875909, 0.28455789, 0.29351014, 0.2967403 , 0.29703322],\n",
              "       [0.81654372, 0.81983007, 0.82071006, 0.8216743 , 0.82250102],\n",
              "       [0.88587531, 0.88684006, 0.88783443, 0.89018638, 0.89024214],\n",
              "       [0.89101373, 0.8921746 , 0.89219644, 0.89277449, 0.89318547],\n",
              "       [0.88031983, 0.88236334, 0.88439603, 0.88511936, 0.88551999],\n",
              "       [0.87431555, 0.87921633, 0.87937234, 0.87990071, 0.88000726],\n",
              "       [0.82257708, 0.82372117, 0.82724973, 0.82893723, 0.82904148],\n",
              "       [0.67343621, 0.68449853, 0.68531617, 0.68839463, 0.68853338],\n",
              "       [0.84408609, 0.84862136, 0.8517604 , 0.8520701 , 0.85242006]])"
            ]
          },
          "metadata": {},
          "execution_count": 28
        }
      ]
    },
    {
      "cell_type": "code",
      "source": [
        "indices"
      ],
      "metadata": {
        "colab": {
          "base_uri": "https://localhost:8080/"
        },
        "id": "DRAaINJuUR-o",
        "outputId": "e8e87f96-82c8-4da1-a37a-e5c1c200caa5"
      },
      "execution_count": null,
      "outputs": [
        {
          "output_type": "execute_result",
          "data": {
            "text/plain": [
              "array([[4, 5, 8],\n",
              "       [2, 3, 4]])"
            ]
          },
          "metadata": {},
          "execution_count": 108
        }
      ]
    },
    {
      "cell_type": "code",
      "source": [
        "predicted_sentences_all = []\n",
        "for nearest_articles_indices in indices:\n",
        "    # 將最相近的五篇文章的刑期加總，並計算平均值作為預測刑期\n",
        "    predicted_sentences = 0\n",
        "    for i, index in enumerate(nearest_articles_indices):\n",
        "        predicted_sentences += train_sentences[index]\n",
        "    predicted_sentence = float(predicted_sentences) / 5\n",
        "\n",
        "    predicted_sentences_all.append(predicted_sentence)\n",
        "\n"
      ],
      "metadata": {
        "id": "rgJH1a0p0T9-"
      },
      "execution_count": null,
      "outputs": []
    },
    {
      "cell_type": "code",
      "source": [
        "mse_linear = mean_squared_error(test_sentences, predicted_sentences_all)\n",
        "rmse_linear = mean_squared_error(test_sentences, predicted_sentences_all, squared=False)\n",
        "mae_linear = mean_absolute_error(test_sentences, predicted_sentences_all)"
      ],
      "metadata": {
        "id": "Wp2OyEzYO9KI"
      },
      "execution_count": null,
      "outputs": []
    },
    {
      "cell_type": "code",
      "source": [
        "print('\\n==================================================')\n",
        "print(\"Linear Regression - MSE:\", mse_linear)\n",
        "print(\"Linear Regression - RMSE:\", rmse_linear)\n",
        "print(\"Linear Regression - MAE:\", mae_linear)"
      ],
      "metadata": {
        "colab": {
          "base_uri": "https://localhost:8080/"
        },
        "id": "7a14UXtCPCP-",
        "outputId": "c022bf64-d679-4361-a73a-7d680de216f0"
      },
      "execution_count": null,
      "outputs": [
        {
          "output_type": "stream",
          "name": "stdout",
          "text": [
            "\n",
            "==================================================\n",
            "Linear Regression - MSE: 20205.824399999998\n",
            "Linear Regression - RMSE: 142.14719272641298\n",
            "Linear Regression - MAE: 93.43799999999999\n"
          ]
        }
      ]
    },
    {
      "cell_type": "markdown",
      "source": [
        "# 平均"
      ],
      "metadata": {
        "id": "yHdy1FtJ4RfK"
      }
    },
    {
      "cell_type": "code",
      "source": [
        "avg_sentence = sum(train_sentences)/len(train_sentences)"
      ],
      "metadata": {
        "id": "3jGxx2A64Uoq"
      },
      "execution_count": null,
      "outputs": []
    },
    {
      "cell_type": "code",
      "source": [
        "avg_sentence"
      ],
      "metadata": {
        "colab": {
          "base_uri": "https://localhost:8080/"
        },
        "id": "5QA4GmHN47HX",
        "outputId": "2b0f927d-134f-40aa-8de4-a6dd6e1b735a"
      },
      "execution_count": null,
      "outputs": [
        {
          "output_type": "execute_result",
          "data": {
            "text/plain": [
              "187.724"
            ]
          },
          "metadata": {},
          "execution_count": 37
        }
      ]
    },
    {
      "cell_type": "code",
      "source": [
        "avg_sentences = [avg_sentence]*len(test_sentences)"
      ],
      "metadata": {
        "id": "BQWVnyfJ5ENu"
      },
      "execution_count": null,
      "outputs": []
    },
    {
      "cell_type": "code",
      "source": [
        "mse_linear = mean_squared_error(test_sentences, avg_sentences)\n",
        "rmse_linear = mean_squared_error(test_sentences, avg_sentences, squared=False)\n",
        "mae_linear = mean_absolute_error(test_sentences, avg_sentences)"
      ],
      "metadata": {
        "id": "JHpo0SJy5BUW"
      },
      "execution_count": null,
      "outputs": []
    },
    {
      "cell_type": "code",
      "source": [
        "print('\\n==================================================')\n",
        "print(\"Linear Regression - MSE:\", mse_linear)\n",
        "print(\"Linear Regression - RMSE:\", rmse_linear)\n",
        "print(\"Linear Regression - MAE:\", mae_linear)"
      ],
      "metadata": {
        "colab": {
          "base_uri": "https://localhost:8080/"
        },
        "id": "jjN4CS5W5kPk",
        "outputId": "3b15816b-4cd5-4eba-ac6e-520a93763111"
      },
      "execution_count": null,
      "outputs": [
        {
          "output_type": "stream",
          "name": "stdout",
          "text": [
            "\n",
            "==================================================\n",
            "Linear Regression - MSE: 16325.817136000003\n",
            "Linear Regression - RMSE: 127.77252105206347\n",
            "Linear Regression - MAE: 89.10199999999999\n"
          ]
        }
      ]
    }
  ]
}