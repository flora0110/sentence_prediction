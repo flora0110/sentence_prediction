{
  "cells": [
    {
      "cell_type": "markdown",
      "metadata": {
        "id": "view-in-github",
        "colab_type": "text"
      },
      "source": [
        "<a href=\"https://colab.research.google.com/github/flora0110/sentence_prediction/blob/main/Extraction_based_LLM_prompt_test.ipynb\" target=\"_parent\"><img src=\"https://colab.research.google.com/assets/colab-badge.svg\" alt=\"Open In Colab\"/></a>"
      ]
    },
    {
      "cell_type": "markdown",
      "metadata": {
        "id": "-nJsx4ZXtRFr"
      },
      "source": [
        "# input data"
      ]
    },
    {
      "cell_type": "code",
      "execution_count": null,
      "metadata": {
        "colab": {
          "base_uri": "https://localhost:8080/"
        },
        "id": "CN6KRC3hs_L4",
        "outputId": "74c01446-c9b0-4497-be7a-0282a3ff6b6c"
      },
      "outputs": [
        {
          "output_type": "stream",
          "name": "stdout",
          "text": [
            "Mounted at /content/drive\n"
          ]
        }
      ],
      "source": [
        "from google.colab import drive\n",
        "drive.mount('/content/drive')"
      ]
    },
    {
      "cell_type": "code",
      "execution_count": null,
      "metadata": {
        "id": "gStLn5-ptGSu"
      },
      "outputs": [],
      "source": [
        "import json\n",
        "\n",
        "with open('/content/drive/MyDrive/train_data.json', 'r', encoding='utf-8') as f:\n",
        "    train_data = json.load(f)\n",
        "\n",
        "#with open('/content/drive/MyDrive/senior/LAB/LawCaseRetreiver/sentence_predict/dataset_new/test_data.json', 'r', encoding='utf-8') as f:\n",
        "#    test_data = json.load(f)"
      ]
    },
    {
      "cell_type": "code",
      "execution_count": null,
      "metadata": {
        "id": "UjSTAoKQtMHW"
      },
      "outputs": [],
      "source": [
        "def extract_key_contents(data):\n",
        "    facts = []\n",
        "    sentences = []\n",
        "    for item in data:\n",
        "        facts.append(item.get('fact'))\n",
        "        sentences.append(item.get('sentance'))\n",
        "    return facts, sentences"
      ]
    },
    {
      "cell_type": "code",
      "execution_count": null,
      "metadata": {
        "id": "OCrCtkRBtNuj"
      },
      "outputs": [],
      "source": [
        "train_facts, train_sentences = extract_key_contents(train_data)\n",
        "#test_facts, test_sentences = extract_key_contents(test_data)"
      ]
    },
    {
      "cell_type": "markdown",
      "metadata": {
        "id": "4tmj1GQRuGV1"
      },
      "source": [
        "# split into sentence"
      ]
    },
    {
      "cell_type": "code",
      "execution_count": null,
      "metadata": {
        "id": "-iRgj8EruIcO"
      },
      "outputs": [],
      "source": [
        "def split_into_sentences(text):\n",
        "    return [sentence.strip() for sentence in text.split('。')]"
      ]
    },
    {
      "cell_type": "code",
      "execution_count": null,
      "metadata": {
        "id": "X6DuA0tyuO1K"
      },
      "outputs": [],
      "source": [
        "train_facts_sentences = []\n",
        "for document in train_facts:\n",
        "    train_facts_sentences.append(split_into_sentences(document))"
      ]
    },
    {
      "cell_type": "code",
      "execution_count": null,
      "metadata": {
        "id": "6bdCRQAhuI3w"
      },
      "outputs": [],
      "source": [
        "test_facts_sentences = []\n",
        "for document in test_facts:\n",
        "    test_facts_sentences.append(split_into_sentences(document))"
      ]
    },
    {
      "cell_type": "code",
      "execution_count": null,
      "metadata": {
        "colab": {
          "base_uri": "https://localhost:8080/"
        },
        "id": "GY9Ot4JSuUvb",
        "outputId": "76f9c7fd-c2c0-41b0-bd7f-b4a57ff91d12"
      },
      "outputs": [
        {
          "name": "stdout",
          "output_type": "stream",
          "text": [
            "500\n",
            "51\n",
            "一、陳泰龍明知其與泰國籍女子陳玉婉（泰國名字為JARUWANWONGPRATOOM，陳玉婉涉嫌本案偽造文書部分，另經臺灣臺南地方法院檢察署檢察官通緝中）間並無結婚之真意，然因詹巧薇、張晉源等人欲找臺灣男子前往泰國與泰國女子辦理假結婚，林清水負責介紹臺灣男子予詹巧薇、張晉源等人以賺取新臺幣（下同）1萬元之仲介費，適陳泰龍依林清水於報紙上刊登之徵人廣告應徵時，由林清水告知泰國女子欲以假結婚之方式申請來臺居留工作，其若擔任假結婚之人頭老公，除不用負擔前往泰國之食宿、機票費用外，尚可獲取5、6萬元之報酬，迨陳泰龍應允同意後，林清水將其轉介紹予詹巧薇、張晉源等人，陳泰龍遂與林清水、詹巧薇、張晉源等人共同基於行使使公務員登載不實公文書之概括犯意聯絡，先由陳泰龍依指示於民國93年4月3日前往泰國，並於同年月7日與陳玉婉在泰國曼谷市法拉坎農區註冊辦事處登記結婚，取得上開註冊辦事處核發之結婚登記書、結婚證書等文件後，陳泰龍即行返臺，並於同年5月19日持經我國駐泰國臺北經濟文化辦事處認證之上開結婚登記書、結婚證書等資料，至臺南縣永康市（改制前稱謂，以下沿用舊制稱謂）戶政事務所填寫結婚登記申請書，申請辦理其與陳玉婉之結婚登記，因此使上開戶政事務所僅有形式審查權之承辦公務員陷於錯誤，於形式上審核後，將陳泰龍與陳玉婉於93年4月7日結婚之不實事項，登載於其職務上所掌屬公文書之戶籍登記資料內，並據以核發戶籍謄本，而足以生損害於戶政機關對於戶政管理及戶籍登記資料維護之正確性\n",
            "迨陳玉婉來臺後，為取得居留身分，再由陳泰龍、陳玉婉承前概括之犯意聯絡，於同年6月14日及94年5月5日，均持前開登載不實之戶籍謄本等資料，先後向臺南縣政府警察局外事課申請核發陳玉婉之外僑居留證及申請居留證延期而連續行使之（業經檢察官當庭補充），經承辦人員實質審查結果，均未發覺陳泰龍與陳玉婉假結婚之實情，而發給陳玉婉居留證或核准延期，各足以生損害於主管機關對外僑居留管理之正確性\n"
          ]
        }
      ],
      "source": [
        "print(len(train_facts_sentences))\n",
        "print(len(train_facts_sentences[0]))\n",
        "print(train_facts_sentences[0][0])\n",
        "print(train_facts_sentences[0][1])"
      ]
    },
    {
      "cell_type": "code",
      "execution_count": null,
      "metadata": {
        "colab": {
          "base_uri": "https://localhost:8080/"
        },
        "id": "vT-o6JsnuTLG",
        "outputId": "478f7a61-7488-47e0-af57-2b99199655e2"
      },
      "outputs": [
        {
          "name": "stdout",
          "output_type": "stream",
          "text": [
            "100\n",
            "49\n",
            "○、緣徐鴻光（所涉行使偽造私文書犯行，業經本院以95年度訴字第955號判決處有期徒刑3月、緩刑3年確定）因需款使用，知悉穆立明有借款管道，為求順利借款，2人竟共同意圖為自己不法所有，基於行使偽造私文書及詐欺取財之犯意聯絡，知悉車牌號碼00-000號營業小客車係徐鴻光向志朗交通有限公司（下稱志朗公司）租賃之車輛，竟由穆立明先於不詳時間、不詳地點，偽刻「志朗交通有限公司」及負責人「陳健志」印章（正確姓名為陳建志，誤刻為「陳健志」）各1枚，並偽造「陳健志」代表志朗公司與徐鴻光簽署之「臺北市計程車客運駕駛人自備車輛參與經營契約書」（下稱本案參與經營契約書），虛偽記載徐鴻光提供上述營業小客車靠行志朗公司營業等不實內容，並持上開偽刻印章，偽造「志朗交通有限公司」印文4枚、「陳健志」印文6枚於本案參與經營契約書上，再於92年3月6日交徐鴻光於立約人乙方欄簽名，2人復於同日協同不知情之徐鴻光配偶徐樂仁（所涉行使偽造私文書犯行，業經本院以95年度訴字第955號判決無罪確定），前往臺北市○○區○○街00巷0號2樓王傑生所經營之宏帝當舖（現更名為渣打當舖），由徐鴻光、穆立明交付偽造本案參與經營契約書向宏帝當鋪借款新臺幣（下同）10萬元以為行使，並約定由徐樂仁擔任連帶保證人，王傑生誤信上開車輛為徐鴻光所有而陷入錯誤，於扣除利息後交付9萬1千元借款予徐鴻光夫婦，足以生損害於志朗公司、陳建志、王傑生\n",
            "嗣因徐鴻光僅清償每期7千元之分期款共11期計7萬7千元，未全額清償即無力負擔債務，王傑生始查知上開車輛非徐鴻光所有，而悉上情\n"
          ]
        }
      ],
      "source": [
        "print(len(test_facts_sentences))\n",
        "print(len(test_facts_sentences[0]))\n",
        "print(test_facts_sentences[0][0])\n",
        "print(test_facts_sentences[0][1])"
      ]
    },
    {
      "cell_type": "code",
      "execution_count": null,
      "metadata": {
        "id": "U8U053XjtlDh"
      },
      "outputs": [],
      "source": [
        "train_fact_sentence_num = []\n",
        "test_fact_sentence_num = []\n",
        "\n",
        "for data in train_facts_sentences:\n",
        "  train_fact_sentence_num.append(len(data))\n",
        "\n",
        "for data in test_facts_sentences:\n",
        "  test_fact_sentence_num.append(len(data))\n"
      ]
    },
    {
      "cell_type": "code",
      "execution_count": null,
      "metadata": {
        "colab": {
          "base_uri": "https://localhost:8080/"
        },
        "id": "dXpAHR0it7jT",
        "outputId": "e3a59e5a-5e67-4204-b73c-af6150b54516"
      },
      "outputs": [
        {
          "name": "stdout",
          "output_type": "stream",
          "text": [
            "===Train Dataset===\n",
            "Length:  500\n",
            "Max Length:  191\n",
            "Min Length:  7\n",
            "Avg. Length:  58.688\n",
            "===Test Dataset===\n",
            "Length:  100\n",
            "Max Length:  182\n",
            "Min Length:  7\n",
            "Avg. Length:  59.51\n"
          ]
        }
      ],
      "source": [
        "print(\"===Train Dataset===\")\n",
        "print(\"Length: \", len(train_fact_sentence_num))\n",
        "print(\"Max Length: \", max(train_fact_sentence_num))\n",
        "print(\"Min Length: \", min(train_fact_sentence_num))\n",
        "print(\"Avg. Length: \", sum(train_fact_sentence_num) / len(train_fact_sentence_num))\n",
        "\n",
        "print(\"===Test Dataset===\")\n",
        "print(\"Length: \", len(test_fact_sentence_num))\n",
        "print(\"Max Length: \", max(test_fact_sentence_num))\n",
        "print(\"Min Length: \", min(test_fact_sentence_num))\n",
        "print(\"Avg. Length: \", sum(test_fact_sentence_num) / len(test_fact_sentence_num))"
      ]
    },
    {
      "cell_type": "code",
      "execution_count": null,
      "metadata": {
        "id": "7g5u5b18u8oS"
      },
      "outputs": [],
      "source": [
        "train_fact_sentence_len = []\n",
        "test_fact_sentence_len = []\n",
        "\n",
        "for fact in train_facts_sentences:\n",
        "  for sentence in fact:\n",
        "    train_fact_sentence_len.append(len(sentence))\n",
        "\n",
        "for fact in test_facts_sentences:\n",
        "  for sentence in fact:\n",
        "    test_fact_sentence_len.append(len(sentence))"
      ]
    },
    {
      "cell_type": "code",
      "execution_count": null,
      "metadata": {
        "colab": {
          "base_uri": "https://localhost:8080/"
        },
        "id": "S9R3GASPvClg",
        "outputId": "3f36f9b5-701e-4a4c-f9e3-97c1b2bbdc18"
      },
      "outputs": [
        {
          "name": "stdout",
          "output_type": "stream",
          "text": [
            "===Train Dataset===\n",
            "Length:  29344\n",
            "Max Length:  5193\n",
            "Min Length:  0\n",
            "Avg. Length:  134.20065430752453\n",
            "===Test Dataset===\n",
            "Length:  5951\n",
            "Max Length:  2464\n",
            "Min Length:  0\n",
            "Avg. Length:  137.34011090573014\n"
          ]
        }
      ],
      "source": [
        "print(\"===Train Dataset===\")\n",
        "print(\"Length: \", len(train_fact_sentence_len))\n",
        "print(\"Max Length: \", max(train_fact_sentence_len))\n",
        "print(\"Min Length: \", min(train_fact_sentence_len))\n",
        "print(\"Avg. Length: \", sum(train_fact_sentence_len) / len(train_fact_sentence_len))\n",
        "\n",
        "print(\"===Test Dataset===\")\n",
        "print(\"Length: \", len(test_fact_sentence_len))\n",
        "print(\"Max Length: \", max(test_fact_sentence_len))\n",
        "print(\"Min Length: \", min(test_fact_sentence_len))\n",
        "print(\"Avg. Length: \", sum(test_fact_sentence_len) / len(test_fact_sentence_len))"
      ]
    },
    {
      "cell_type": "code",
      "execution_count": null,
      "metadata": {
        "id": "npIji0OMwGuc"
      },
      "outputs": [],
      "source": [
        "import matplotlib.pyplot as plt"
      ]
    },
    {
      "cell_type": "code",
      "execution_count": null,
      "metadata": {
        "id": "KLMgwBd5wJ7p"
      },
      "outputs": [],
      "source": [
        "def plot_distribution(data):\n",
        "    bin_width = 500\n",
        "    plt.hist(data, bins=10, edgecolor='black')\n",
        "    plt.title('Distribution Plot')\n",
        "    plt.xticks(range(min(data), max(data) + bin_width, bin_width))\n",
        "    plt.xlabel('Value')\n",
        "    plt.ylabel('Frequency')\n",
        "    plt.grid(True)                              # 顯示網格線\n",
        "    plt.show()"
      ]
    },
    {
      "cell_type": "code",
      "execution_count": null,
      "metadata": {
        "colab": {
          "base_uri": "https://localhost:8080/",
          "height": 472
        },
        "id": "RMoJGjTKwROJ",
        "outputId": "7fc33b6d-0069-473b-cedc-c78ed86e6c9a"
      },
      "outputs": [
        {
          "data": {
            "image/png": "[encoded data removed]",
            "text/plain": [
              "<Figure size 640x480 with 1 Axes>"
            ]
          },
          "metadata": {},
          "output_type": "display_data"
        }
      ],
      "source": [
        "plot_distribution(train_fact_sentence_len)"
      ]
    },
    {
      "cell_type": "code",
      "execution_count": null,
      "metadata": {
        "colab": {
          "base_uri": "https://localhost:8080/",
          "height": 472
        },
        "id": "3FbJaDQpxrwa",
        "outputId": "84eb9c64-beb7-4be4-d363-32060297bf8d"
      },
      "outputs": [
        {
          "data": {
            "image/png": "[encoded data removed]",
            "text/plain": [
              "<Figure size 640x480 with 1 Axes>"
            ]
          },
          "metadata": {},
          "output_type": "display_data"
        }
      ],
      "source": [
        "plot_distribution(test_fact_sentence_len)"
      ]
    },
    {
      "cell_type": "code",
      "execution_count": null,
      "metadata": {
        "colab": {
          "base_uri": "https://localhost:8080/"
        },
        "id": "eiyVle4TxdWq",
        "outputId": "34b6b30c-a332-40ef-fbe1-8147bea2f722"
      },
      "outputs": [
        {
          "name": "stdout",
          "output_type": "stream",
          "text": [
            "1613\n",
            "1831\n",
            "1567\n",
            "1614\n",
            "1701\n",
            "1790\n",
            "1744\n",
            "1938\n",
            "1503\n",
            "1512\n",
            "5193\n",
            "1572\n",
            "1938\n",
            "1642\n",
            "1729\n",
            "1920\n",
            "2072\n",
            "1652\n",
            "1806\n",
            "2546\n",
            "1576\n",
            "1532\n",
            "1996\n"
          ]
        }
      ],
      "source": [
        "for i in train_fact_sentence_len:\n",
        "  if(i>1500):\n",
        "    print(i)"
      ]
    },
    {
      "cell_type": "code",
      "execution_count": null,
      "metadata": {
        "colab": {
          "base_uri": "https://localhost:8080/"
        },
        "id": "noyFmS5cx0xC",
        "outputId": "47d1aab1-55cf-4082-dbdc-b374dafa45a9"
      },
      "outputs": [
        {
          "name": "stdout",
          "output_type": "stream",
          "text": [
            "1531\n",
            "1584\n",
            "2308\n",
            "2464\n",
            "1650\n"
          ]
        }
      ],
      "source": [
        "for i in test_fact_sentence_len:\n",
        "  if(i>1500):\n",
        "    print(i)"
      ]
    },
    {
      "cell_type": "markdown",
      "metadata": {
        "id": "tTNksopytTNi"
      },
      "source": [
        "# breeze api"
      ]
    },
    {
      "cell_type": "code",
      "execution_count": null,
      "metadata": {
        "id": "GeiZhGBytVuJ"
      },
      "outputs": [],
      "source": [
        "import requests\n",
        "import json\n",
        "\n",
        "url = \"https://nlplab-llm.nlpnchu.org/generate\"\n",
        "\n",
        "headers = {\n",
        "  'Content-Type': 'application/json',\n",
        "  'accept': 'application/json'\n",
        "}\n",
        "\n",
        "def get_breeze(input_content):\n",
        "    system = 'You are a helpful AI assistant built by MediaTek Research. The user you are helping speaks Traditional Chinese and comes from Taiwan.'\n",
        "\n",
        "    payload = json.dumps({\n",
        "        \"inputs\": f\"<s> {system} [INST] {input_content} [/INST]\",\n",
        "        \"parameters\": {\n",
        "            \"do_sample\": True,\n",
        "            \"temperature\": 0.01,\n",
        "            \"top_p\": 0.95,\n",
        "            # \"frequency_penalty\": 0.01,\n",
        "            # \"presence_penalty\": 0.05,\n",
        "            #'repetition_penalty': 1.2, # 不要一直生重複的\n",
        "            'max_new_tokens':1000, # 要設一下，不然會講到一半就停掉\n",
        "        }\n",
        "        })\n",
        "    headers = {\n",
        "    'Content-Type': 'application/json',\n",
        "    'accept': 'application/json'\n",
        "    }\n",
        "    try:\n",
        "        response = requests.request(\"POST\", url, headers=headers, data=payload)\n",
        "        j_result=json.loads(response.text)\n",
        "        if \"generated_text\" in j_result.keys():\n",
        "            return j_result['generated_text']\n",
        "        else:\n",
        "            return j_result\n",
        "    except Exception as e:\n",
        "        print(e)"
      ]
    },
    {
      "cell_type": "markdown",
      "metadata": {
        "id": "g0hBVnW4uc2t"
      },
      "source": [
        "# prompt 1"
      ]
    },
    {
      "cell_type": "code",
      "execution_count": null,
      "metadata": {
        "id": "VmGULxaovvMZ"
      },
      "outputs": [],
      "source": [
        "def generate_prompt(query, facts):\n",
        "  for i, fact in enumerate(facts):\n",
        "    query = query + f'{i+1}: {fact}\\n'\n",
        "  return query"
      ]
    },
    {
      "cell_type": "code",
      "execution_count": null,
      "metadata": {
        "id": "0IQZtsm8_ecb"
      },
      "outputs": [],
      "source": [
        "def generate_prompt2(query, facts):\n",
        "  for i, fact in enumerate(facts):\n",
        "    query = query + f'{fact}\\n'\n",
        "  return query"
      ]
    },
    {
      "cell_type": "code",
      "execution_count": null,
      "metadata": {
        "id": "__E-3h7lxS75"
      },
      "outputs": [],
      "source": [
        "prompt = \"我需要你幫我挑選出和犯罪情境最相關的三個句子。這些句子都是來自判決書，而我需要找出與犯罪相關的內容。請從以下給出的句子中挑選三個最符合犯罪情境的。\\n\""
      ]
    },
    {
      "cell_type": "code",
      "execution_count": null,
      "metadata": {
        "id": "fumvdr7dwJdk"
      },
      "outputs": [],
      "source": [
        "query = generate_prompt(prompt, train_facts_sentences[309][:15])"
      ]
    },
    {
      "cell_type": "code",
      "execution_count": null,
      "metadata": {
        "colab": {
          "base_uri": "https://localhost:8080/"
        },
        "id": "4r4-YthMwaIc",
        "outputId": "139eeb61-80c9-476a-b072-30cfd580e902"
      },
      "outputs": [
        {
          "name": "stdout",
          "output_type": "stream",
          "text": [
            "我需要你幫我挑選出和犯罪情境最相關的三個句子。這些句子都是來自判決書，而我需要找出與犯罪相關的內容。請從以下給出的句子中挑選三個最符合犯罪情境的。\n",
            "1: 一、張慶堦係址設宜蘭縣羅東鎮○○路289之7號12樓泰雅工程有限公司（以下簡稱泰雅公司）實際負責人，張文騫係址設臺中市○區○○街229號7樓九慶工程顧問有限公司（以下簡稱九慶公司）工程師，九慶公司係承攬宜蘭縣政府文化局發包之「2010宜蘭國際童玩藝術節超級High-net體能極限網設施委託監造服務案」，張文騫為現場監工之人員，吳建忠係宜蘭縣政府文化局約聘人員，為「2010宜蘭國際童玩藝術節超級High-net體能極限網設施委託服務」招標案之承辦人員，均為從事業務之人，泰雅公司於民國99年4月間以新臺幣（下同）1,935萬元得標承作宜蘭縣政府文化局「2010宜蘭國際童玩藝術節超級High-net體能極限網設施委託服務」之標案，依規定於投標時根據招標文件「評選須知」及「設施效果說明及規範」之要求製作「服務建議書」作為投標文件，俾利評選委員審查、評分及作為履約之依據，依據泰雅公司投標時所提出之99年4月份「2010宜蘭國際童玩藝術節超級High-net體能極限網設施結構分析計算書」，有關前開工程之主、副吊橋鋼索尺寸原設計為50mm及40mm，惟於製作「2010宜蘭國際童玩藝術節超級High-net體能極限網超級High-net施作詳圖」時，主吊橋鋼索尺寸註記為60mm，副吊橋鋼索尺寸仍為40mm，泰雅公司於得標後分包予「礁溪鋼鐵機械有限公司」（以下簡稱礁溪公司）施作時，因40mm尺寸之鋼索缺貨，僅剩36mm尺寸之鋼索，嗣張慶堦將主副吊橋鋼索尺寸修正為50mm及36mm，而上開規格經結構技師郭朝和確認安全無虞後，由張慶堦於99年6月14日將經結構技師郭朝和簽證之99年6月份「2010宜蘭國際童玩藝術節超級High-net體能極限網設施結構分析計算書」等文件送請宜蘭縣政府文化局審議，於審議通過後即依審定之相關工程圖說施工，張慶堦實際施工時副吊橋鋼索尺寸以38mm施工（就鋼索尺寸由60mm及40mm更改為50mm及38、36mm並無價差問題），惟宜蘭縣政府文化局於辦理驗收時，發現主副吊橋鋼索尺寸與前開未送審前「2010宜蘭國際童玩藝術節超級High-net體能極限網超級High-net施作詳圖」中所附「橋面鋼索平面圖」所載鋼索尺寸不符，張慶堦遂向宜蘭縣政府文化局驗收人員表示曾於工務會議中決定鋼索尺寸變更一事，宜蘭縣政府文化局於99年9月間泰雅公司欲請領尾款時，要求泰雅公司提出前開工務會議紀錄，張慶堦、張文騫、吳建忠等3人明知本案並未開會討論且未於會議中經結構技師主動建議主、副吊橋鋼索尺寸從60mm、40mm修改為50mm、36mm等情，為利泰雅公司取得工程尾款，張慶堦、張文騫、吳建忠竟基於行使業務上登載不實文書之犯意聯絡，由張慶堦99年9月間某日於其業務上所作成內容為99年5月10日在冬山河工務所召開之會議紀錄，其中決議事項1.虛偽記載「基於安全性考量及為減輕上層爬網重量，經結構技師建議原設計圖為60mm鋼攬（7股19絲），改為50mm（6股37絲）施作，40mm鋼攬改由36mm鋼攬施作，拉力不變及重量減輕」之不實內容，而後於製作完後隔日交由張文騫及吳建忠簽名確認，再由張慶堦向宜蘭縣政府文化局申請工程尾款而行使之，足以生損害於結構技師郭朝和及宜蘭縣政府文化局對於文書管理之正確性\n",
            "2: 二、案經宜蘭縣政府函送暨法務部調查局宜蘭縣調查站移請台灣宜蘭地方法院檢察署檢察官偵查起訴\n",
            "3: 理由一、程序事項：按被告以外之人於審判外之陳述，雖不符刑事訴訟法第159條之1至第159條之4之規定，而經當事人於審判程序同意作為證據，法院審酌該言詞陳述或書面陳述作成時之情況，認為適當者，亦得為證據；當事人、代理人或辯護人於法院調查證據時，知有刑事訴訟法第159條第1項不得為證據之情形，而未於言詞辯論終結前聲明異議者，視為有前項之同意，刑事訴訟法第159條之5定有明文\n",
            "4: 查本件作為認定事實所引用審判外之相關供述證據，固屬傳聞證據，惟公訴人及被告張慶堦、張文騫、吳建忠及辯護人於審判期日均表示無意見而不予爭執，亦未聲明異議（見本院卷第212頁至第278頁），審酌上開證據資料製作時之情況，尚無違法不當及證明力明顯過低之瑕疵，亦認為以之作為證據應屬適當，揆諸前開規定，認前揭證據資料均有證據能力\n",
            "5: 至其餘資以認定被告張慶堦、張文騫、吳建忠犯罪事實之非供述證據，亦查無有何違反法定程序取得之情形，均認具有證據能力\n",
            "6: 二、訊據被告張慶堦對於上開事實坦承不諱，被告張文騫、吳建忠固不否認有在上開99年5月10日會議紀錄上簽名，然矢口否認有何業務上文書登載不實罪之犯意，被告張文騫辯稱：這個工程比較特殊，是勞務採購，不是一般的工程施作，在施作過程中是屬於勞務，如果是一般工程的話，在現場有討論都會作成會議記錄，但是本件是屬於勞務採購，並非一般工程所講的工程採購，在施作過程中有討論，但是沒有去作會議記錄，這張會議記錄當初是因為伊確定伊等人有開過檢討會，被告張慶堦要申請履約保證金，工程都已經結束了，宜蘭縣政府文化局有要求被告張慶堦要去做這部分的說明，所以才會衍生這個紀錄出來，當時整個工程已經辦理驗收完成，履約都已經結束了，所以才去補這張會議記錄，簽立這張會議紀錄的時間伊已經忘記了，是被告張慶堦拿到伊的公司給伊簽的，伊是在做工程時趕回來公司簽的，在簽之前，被告張慶堦先以電話跟伊聯繫，他說文化局要他補說明圖說及施作詳圖誤值的部分云云，被告吳建忠辯稱：當時是被告張慶堦先打電話給伊，伊請假在家裡休養，伊當時在接受臺北的精神科治療，被告張慶堦打電話問伊有沒有在家，伊說伊在家，被告張慶堦就到伊的住處找伊，被告張慶堦說主驗官希望補這份紀錄，被告張慶堦就問伊說之前有1次在清水公園那邊討論鋼纜尺寸這件事情伊是否還記得，伊說伊記得，伊印象深刻的原因是因為當時被告張慶堦有講到幾股幾絲這件事情，伊有請被告張慶堦畫圖給伊看，所以伊還記得這件事情，當時是在討論鋼纜的尺寸，被告張慶堦是說原本圖說的尺寸訂不到，然後他要訂那一種尺寸，但是伊跟被告張慶堦說依照合約設施的規定，畢竟是採材料送審，需要結構技師簽證，所以當被告張慶堦在伊住處前面問伊這件事情的時候，伊就說伊記得，被告張慶堦說主驗官要求要簽這份文件，伊就問不是已經驗收完、拆除完畢了，被告張慶堦就說可是主驗官要求這份文件，伊要簽名之前，伊有跟被告張慶堦說你拿回去給主驗官的時候，要跟主驗官說這個案子有結構技師簽證還有材料送審等相關資料，當時被告張慶堦說他要領尾款或是履約保證金有阻礙，伊有問被告張慶堦這個結構技師簽證的材料不是已經送審了，被告張慶堦說已經送審了，所以伊才在會議紀錄上簽名，伊簽的時候時間大約是99年9月底到10月初間某日，就在伊住處簽的云云，余鑑昌律師則為被告張文騫辯護稱：就被告張文騫而言，被告張文騫就99年5月10日會議記錄之補簽的客觀事實不爭執，但被告張文騫就該補簽的事實並不具備主觀上的直接故意，本件送審主要是依據結構技師的簽證圖，而且竣工及施作尺寸均吻合，主要是在服務建議書及結構計算書有誤植的情形，在竣工驗收完畢以後，被告張慶堦稱主驗官要求補提會議記錄，被告張慶堦就將會議記錄事先繕打並將日期回推至99年5月10日，而將該會議記錄送至被告張文騫之公司請求補簽，依據被告張慶堦之證述，會議記錄內所載安全性的考量及減輕上層爬網之重量之記述，是因為已經相隔一段時間，有詞不達意的情形，因此被告張文騫就主觀認知上，既然知道主鋼索會有不同規格之情形，也曾就該部分在99年5月間討論過，所以對於99年5月10日會議記錄的補簽，疏於注意被告張慶堦所載安全性考量及減輕上層爬網重量文字上有特殊的意義，被告張文騫並無主觀上直接故意，被告張文騫並不該當於偽造文書之犯行云云，林國漳律師則為被告吳建忠辯護稱：本案起因是因為議員的質詢，議員認為有偷工減料的情形，將本標案送檢調單位調查，調查的結果根本沒有偷工減料的情形，當時是主驗官在退還履約保證金時候，認為鋼纜尺寸似乎有點出入，有差價的問題，所以請被告張慶堦說明，被告張慶堦才去製作這份會議記錄，其實當時被告張慶堦只要去解釋清楚，跟結構技師簽證的相符，就可以申請退還，不用製作這份會議記錄，被告張慶堦、張文騫、吳建忠有開會，從被告張慶堦、張文騫、吳建忠歷次的說法可知，只是開會所討論的是否就是會議記錄上所記載的，或許文字的表達不夠精確，被告張慶堦製作完這份會議紀錄之後就拿去給被告吳建忠簽名，當時被告吳建忠因為承辦童玩節壓力很大，有去臺北看精神科，在被告張慶堦的解釋之下，就在該份會議紀錄上簽名，但是被告吳建忠會簽名是因為確實當時的施作圖都符合結構技師的簽證，所以才在上面簽名，被告張慶堦、張文騫、吳建忠等人確實有開會，而且也有結構技師簽證圖，這樣會議記錄並不是偽造的，刑法215條的登載不實，必須要是被告吳建忠有直接故意，今天被告吳建忠雖然簽名的文字不是那麼精準，被告吳建忠並沒有直接故意的犯行，且本條也規定要足以生損害於公眾或他人，但是本件沒有損害公眾及他人，因為宜蘭縣政府文化局本來就要將履約保證金退還給被告張慶堦，被告吳建忠的行為跟刑法偽造文書的要件不符云云\n",
            "7: 經查：(一)被告張慶堦對於上開事實坦承不諱，並據證人郭朝和、葉明道於檢察官訊問及證人葉明道於本院審理時證述明確（見99年度他字第899號卷第192頁至第195頁、本院卷第77頁至第90頁），復有宜蘭縣政府101年4月6日府授文發字第1010002086號函所附「2010宜蘭國際童玩藝術節超級High-net體能極限網設施委託服務」標案資料及投標文件各1份附卷可稽（見本院卷第105頁至第144頁、第174頁至第201頁），足認被告張慶堦之自白與事實相符，應堪採信\n",
            "8: (二)被告張文騫、吳建忠雖以前揭情詞置辯，惟查：1.被告張文騫、吳建忠均不否認泰雅公司有參與宜蘭縣政府文化局「2010宜蘭國際童玩藝術節超級High-net體能極限網設施委託服務」之標案，投標當時所提出之99年4月份「2010宜蘭國際童玩藝術節超級High-net體能極限網設施結構分析計算書」，有關工程之主、副吊橋鋼索尺寸於工程計算書上記載為50mm及40mm，而於「2010宜蘭國際童玩藝術節超級High-net體能極限網超級High-net施作詳圖」主吊橋鋼索尺寸註記為60mm，副吊橋鋼索尺寸仍為40mm，泰雅公司得標後，向宜蘭縣政府文化局所提出之經結構技師郭朝和簽證之99年6月份「2010宜蘭國際童玩藝術節超級High-net體能極限網設施結構分析計算書」主、副吊橋鋼索尺寸記載為50mm及36mm，而渠等有於99年9月間某日所製作之99年5月10日會議紀錄上簽名一情，並據同案被告張慶堦於本院審理時以證人身份證述明確，另有宜蘭縣政府101年4月6日府授文發字第1010002086號函所附「2010宜蘭國際童玩藝術節超級High-net體能極限網設施委託服務」標案資料及投標文件各1份附卷可稽（見本院卷第105頁至第144頁、第174頁至第201頁），此部分之事實，應堪認定\n",
            "9: 2.被告張慶堦、張文騫、吳建忠所製作之99年5月10日會議紀錄內容是否不實：①據證人郭朝和於檢察官訊問時證述：伊係哲佑結構技師事務所負責人，伊有結構技師的執照，99年6月份「2010宜蘭國際童玩藝術節超級High-net體能極限網設施結構分析計算書」封面上有伊的章及簽名，本案原本是另外1家公司設計，後來可能因為業主要求要有結構技師的簽證，所以友人宋志揚便拿這份計算書給伊校核，伊看了一下內容沒有問題，伊才會蓋章，伊沒有參與99年4月份「2010宜蘭國際童玩藝術節超級High-net體能極限網設施結構分析計算書」之製作，依據伊的印象，99年6月份「2010宜蘭國際童玩藝術節超級High-net體能極限網設施結構分析計算書」上面鋼索尺寸為50mm、36mm，伊接觸這個案件時，就是50mm，之後並沒有變更過，伊不認識被告張慶堦、張文騫、吳建忠，當初與伊接洽的人是宋志揚、葉明道，伊也沒有參與過「2010宜蘭國際童玩藝術節超級High-net體能極限網設施委託服務會議紀錄」，會議結論中所記載的「原設計圖為60mm鋼攬（7股19絲），改為50mm（6股37絲）施作，40mm鋼攬改由36mm鋼攬施作，拉力不變及重量減輕」並非伊建議的，伊從來沒有對任何人做過這樣的建議，伊看99年6月份的結構分析計算書內容沒有問題，伊也沒有對內容更改過，就結構分析來看，伊並不在意鋼纜的尺寸，主要重點在整體結構安全是否符合法規要求等語（見99年度他字第899號卷第192頁至第193頁），核與證人葉明道於檢察官訊問及本院審理時證述：伊任職於富邦土木結構技師事務所，伊在宜蘭地區主要從事的工作是做房屋結構設計，泰雅公司不知道從那裡得知伊有從事建築工程的工作，所以被告張慶堦主動打電話給伊，說吊橋是200公尺左右的長度，伊就跟被告張慶堦約時間到被告張慶堦的公司談，被告張慶堦有做一些模模型給伊看，問伊有無辦法幫他做設計及簽證，伊說伊主要的專長是房屋建築，橋樑不是伊的主要工作，但是伊有搭配的一些顧問公司有在做橋樑，所以伊跟被告張慶堦說伊先回去跟顧問公司談談看再回覆他，後來伊把手中資料跟顧問公司討論以後，伊就跟被告張慶堦報價，結果議價以後，就委託伊，橋樑這部分的設計是由中大工程顧問公司設計，所以這個案子伊只是做媒介的工作，這份結構分析計算書伊有參與討論，但是實際設計是由中大工程顧問公司設計的，當時是由伊跟泰雅公司討論再由伊轉達給中大工程顧問公司設計，簽約之前，泰雅公司要去投標送給宜蘭縣政府的投標資料，服務建議書要有基本的結構設計，有要求要概算資料，伊請中大工程顧問有限公司概算以後，泰雅公司就根據概算的資料去修改這1份服務建議書，服務建議書裡面有6、7張的圖，但是有1張沒有改到，所以才會變成主鋼索還是60mm，當時伊概算主鋼索是50mm，後來泰雅公司得標之後，泰雅公司與宜蘭縣政府簽約後，才來跟伊簽約，中大工程顧問有限公司就正式製作1份結構分析計算書送給泰雅公司，主鋼索的規格就是圖上所計算的50mm，這份上面就有郭朝和技師的簽證，99年4月份的結構分析計算書副吊橋鋼索尺寸原本是40mm，於99年4月份簽約後至99年6月送審前這段期間，被告張慶堦跟伊說泰雅公司要去訂購鋼索時，買不到40mm的材料，市場只有36mm，被告張慶堦問買不到40mm的鋼索可不可以用36mm，如果不行用36mm是否就可以往上加用40幾mm的鋼索，以符合安全，後來中大工程顧問有限公司按照36mm去計算也是符合安全規定，所以後來6月份時結構分析計算書才會改成36mm，印象中應該是上報之後，被告張慶堦打電話給伊，宜蘭朋友也有打電話給伊，伊才知道圖面跟計算式尺不合的事情，後來泰雅公司有跟伊說，其他的圖都有改到只有這張圖漏掉，當時他們為了要送件，時間很急迫，所以才會沒有改到，圖說上的60mm伊不知道是如何出現的，自始泰雅公司給伊的資料，就是50mm從來沒有變更過，被告張慶堦從來沒有跟伊討論到主鋼索60mm變成50mm這件事情，過程中伊從來沒有跟被告張慶堦、張文騫、吳建忠一起坐下來開會過，伊也沒有參與過「2010宜蘭國際童玩藝術節超級High-net體能極限網設施委託服務會議紀錄」，會議結論中所記載的「原設計圖為60mm鋼攬（7股19絲），改為50mm（6股37絲）施作，40mm鋼攬改由36mm鋼攬施作，拉力不變及重量減輕」並非伊建議的等語相符（見99年度他字第899號卷第194頁至第195頁、本院卷第76頁至第90頁），堪認泰雅公司投標時所提出之99年4月份「2010宜蘭國際童玩藝術節超級High-net體能極限網超級High-net施作詳圖」主吊橋鋼索尺寸註記為60mm應係誤載，而泰雅公司得標後提出予宜蘭縣政府文化局之99年6月份「2010宜蘭國際童玩藝術節超級High-net體能極限網設施結構分析計算書」，將副吊橋鋼索尺寸記載為36mm，係因泰雅公司當時於市面上無法購得40mm之鋼索，經結構技師確認36mm之尺寸亦符合安全後，始將該副吊橋鋼索尺寸修改為36mm\n",
            "10: ②又據同案被告張慶堦於本案審理時以證人身份證述：本件工程在投標當時要先提供1份概算結構分析連同投標的服務建議書一起提送給宜蘭縣政府文化局開標，投標後這份結構分析書就直接附在合約內，得標後該份結構分析計算書伊請技師簽證後，就正式提給宜蘭縣政府文化局，正式的施工內容就以這1份為準，這1份有技師簽證的結構分析計算書，鋼索的尺寸就是50mm跟36mm，驗收官在驗收的時候，有拿伊投標時所提出的服務建議書原稿來問伊當時設計的鋼纜是60mm，為什麼做出來的是50mm，伊有告訴驗收官說要訂鋼纜的時候，伊等人有討論且也有跟結構技師確認是50mm沒有錯，所以才用50mm製作，所以驗收官叫伊提會議記錄，因伊提給宜蘭縣政府的99年4月份結構分析計算書上計算式上面寫50mm的鋼索與圖說的尺寸不符，伊跟結構技師討論之後，他算是50mm，當時時間比較急迫，伊所製作的圖沒有改到，伊就直接送去投標，自始結構技師就是建議用50mm，而不曾建議用60mm之後再更改成50mm，過程中伊有跟結構技師討論過鋼纜沒有40mm這個尺寸，所以是否可以改為36mm或是38mm計算看看，經過結構技師計算之後，給伊的結構分析書裡面的內容認為是可以的，99年5月10日當天伊有跟被告張文騫、吳建忠報告說沒有那種40mm的尺寸，所以改成36mm或38mm，伊會再請結構技師算完之後再送審，也有跟他們講說，圖說跟計算式不一樣，應該以結構計算書為準，伊會再提供精確的計算式給他們審核，結構技師並沒有向伊表示基於安全性的考量或減輕上層爬網重量，所以建議由60mm改為50mm，40mm改為36mm拉力不變及重量減輕，「2010宜蘭國際童玩藝術節超級High-net體能極限網」中所附的99年5月10日的會議記錄是伊製作的，整個案件已經全部完結之後，但是還有錢還沒有下來，伊就詢問為何錢沒有下來，宜蘭縣政府文化局黃榮豐跟伊說，驗收官有要求伊要提出1張有開會的紀錄，伊在99年9月間才製作這張會議紀錄，當時伊每天都會跟業主即宜蘭縣政府文化局及監造單位九慶公司報告進度以及要施作的一些問題，就在99年5月10日那天伊要訂鋼纜，伊就發現圖與結構計算式尺寸不一樣，伊就有跟被告吳建忠、張文騫報告說結構計算式是50mm的，所以鋼纜會用50mm等語（見本院卷第155頁至第168頁），依證人張慶堦之證述可知，被告張文騫、吳建忠於99年5月10日時，即知悉泰雅公司投標時所提出之99年4月份「2010宜蘭國際童玩藝術節超級High-net體能極限網超級High-net施作詳圖」主吊橋鋼索尺寸註記為60mm應係誤載，而泰雅公司得標後提出於宜蘭縣政府文化局之99年6月份「2010宜蘭國際童玩藝術節超級High-net體能極限網設施結構分析計算書」，將副吊橋鋼索尺寸記載為36mm，係因泰雅公司當時於市面上無法購得40mm之鋼索，經結構技師確認36mm之尺寸亦符合安全後，始將該副吊橋鋼索尺寸修改為36mm\n",
            "11: ③而被告張慶堦所製作之99年5月10日在冬山河工務所召開之會議紀錄，其中決議事項1.係記載「基於安全性考量及為減輕上層爬網重量，經結構技師建議原設計圖為60mm鋼攬（7股19絲），改為50mm（6股37絲）施作，40mm鋼攬改由36mm鋼攬施作，拉力不變及重量減輕」等情，此有上開會議紀錄1份附卷可佐（見本院卷第110頁），上開記載之內容與被告張文騫、吳建忠所認知之主鋼纜尺寸係因誤載、副鋼索係因市場缺貨而變更尺寸之實情不合，被告張文騫為現場監工之人員，被告吳建忠為本招標案之承辦人員，渠等對於廠商交付簽名之文件，理應詳加檢視內容以確認廠商之施作是否符合契約之規定，而上開會議紀錄之記載內容亦僅有數行，並無內容繁雜難以詳加閱讀之理，被告張文騫、吳建忠上開所辯，自屬臨訟卸責之詞，不足採信\n",
            "12: ④至證人張慶堦於本案審理時雖證述：伊在製作這1份會議紀錄時，已經有間隔一段時間，所以伊在製作時，書寫內容有一點詞不達意的情況云云（見本院卷第168頁），然觀諸證人張慶堦自承製作該張會議紀錄之時間為99年9月間某日，距離被告張慶堦所述99年5月間訂購鋼索之時間亦僅差距4月，當無記憶模糊之可能，而證人張慶堦所製作之會議紀錄內容，顯與主鋼纜尺寸係因誤載、副鋼索係因市場缺貨而變更尺寸之實情完全迥異，顯見證人張慶堦係為使宜蘭縣政府文化局對於驗收儘速通過，始會於該會議紀錄上虛偽記載經結構技師建議等語，是證人張慶堦此部分證述，係為卸責之詞，不足採信\n",
            "13: 3.按刑法處罰偽造文書罪之主旨，係在保護文書之實質的真正，雖尚以足生損害於公眾或他人為要件之一，亦衹以有損害之虞為已足，有無實受損害，在所不問，且此所謂損害，亦不以經濟價值為限，最高法院著有93年台上字第4809號判決可資參照\n",
            "14: 據證人即宜蘭縣政府文化局行政科科長陳曉慈於法務部調查局宜蘭縣調查站訊問時證述：「2010宜蘭國際童玩藝術節超級High-net體能極限網設施委託服務案」係依據政府採購法第22條第1項第9款之規定採限制性招標，準用最有利標方式辦理，非以價格為唯一決定得標廠商因素，而會另外參考服務建議書、履約品質及價金合理性等因素來決定得標廠商，泰雅公司以1,935萬元得標，泰雅公司所檢附之服務建議書內容包含結構分析計算書、施作詳圖及預算書等相關文件，依據本案投標須知第43點第10款規定，「2010宜蘭國際童玩藝術節超級High-net體能極限網設施委託服務設施效果說明及規範」是招標文件之一，依據「2010宜蘭國際童玩藝術節超級High-net體能極限網設施委託服務案」契約書第1條第1項各款規定，包括招標、投標及決標、契約本文附件及其變更或補充以及依契約所提出之履約文件或資料等文件都是契約內容，泰雅公司投標時所附之服務建議書暨相關附件都是契約之一部，本案決標簽約後一定期限內，泰雅工程需提送現場施作及驗收之工作計畫給文化局進行審核，審定通過後，泰雅公司才能依照審定之工作計畫書進行施工及驗收，因為泰雅公司投標時所提供服務建議書以及相其所檢附施作詳圖等圖說係比較粗略概估，應該是審定後的工作圖說內容優先於投標時所檢附之施作詳圖等語（見法務部調查局宜蘭縣調查站宜蘭縣政府辦理2010國際童玩藝術節涉嫌不法案卷宗第75頁至第77頁背面），並有「2010宜蘭國際童玩藝術節超級High-net體能極限網設施委託服務設施效果說明及規範」及「2010宜蘭國際童玩藝術節超級High-net體能極限網設施委託服務」採購契約、限制性招標（經公開評選或公開徵求）公告各1份附卷可佐（參法務部調查局宜蘭縣調查站宜蘭縣政府辦理2010國際童玩藝術節涉嫌不法案卷宗第78頁至第82頁背面、第110頁），本件工程施工時，雖應以泰雅公司所提出之99年6月份「2010宜蘭國際童玩藝術節超級High-net體能極限網設施結構分析計算書」為施工之依據，然泰雅公司於投標時所提出之99年4月份「2010宜蘭國際童玩藝術節超級High-net體能極限網設施結構分析計算書」、「2010宜蘭國際童玩藝術節超級High-net體能極限網超級High-net施作詳圖」均為契約之一部，宜蘭縣政府文化局審核泰雅公司各階段之履約是否完備，均可作為檢視之依據，被告張慶堦、張文騫、吳建忠於前揭會議紀錄虛偽記載，已然影響宜蘭縣政府文化局判斷泰雅公司之履約過程是否符合契約之規定，是辯護人辯稱：實質上並無生損害之虞，尚難構成偽造私文書之罪云云，自屬無據\n",
            "15: (三)綜上所述，被告張文騫、吳建忠所辯，均不足採信\n",
            "\n"
          ]
        }
      ],
      "source": [
        "print(query)"
      ]
    },
    {
      "cell_type": "code",
      "execution_count": null,
      "metadata": {
        "colab": {
          "base_uri": "https://localhost:8080/"
        },
        "id": "n7iKR3i0o8q4",
        "outputId": "ea1b79a1-1f8a-4d37-8a24-5d483e316bad"
      },
      "outputs": [
        {
          "data": {
            "text/plain": [
              "9777"
            ]
          },
          "execution_count": 22,
          "metadata": {},
          "output_type": "execute_result"
        }
      ],
      "source": [
        "len(query)"
      ]
    },
    {
      "cell_type": "code",
      "execution_count": null,
      "metadata": {
        "colab": {
          "base_uri": "https://localhost:8080/"
        },
        "id": "YbAbSFNVw_zH",
        "outputId": "837c529e-76d1-4b95-dbd7-1ab5cc32b47d"
      },
      "outputs": [
        {
          "name": "stdout",
          "output_type": "stream",
          "text": [
            " 1. 在犯罪情境中，被告張慶堦、張文騫、吳建忠涉嫌在「2010宜蘭國際童玩藝術節」的「超級High-net體能極限網」設施的工程中，以不實的方式填寫了99年5月10日的會議紀錄。\n",
            "2. 被告張慶堦承認了他們在會議紀錄上填寫了不實的內容，而被告張文騫、吳建忠則否認了犯罪，但辯護人表示，被告張慶堦、張文騫、吳建忠在會議紀錄上填寫了不實的內容，以使宜蘭縣政府文化局能通過驗收。\n",
            "3. 被告張慶堦、張文騫、吳建忠在會議紀錄上填寫了不實的內容，以使宜蘭縣政府文化局相信他們的施工符合了契約的規定。\n",
            "4. 被告張慶堦、張文騫、吳建忠在會議紀錄上填寫了不實的內容，以使宜蘭縣政府文化局相信他們的施工符合了契約的規定。\n",
            "5. 被告張慶堦、張文騫、吳建忠在會議紀錄上填寫了不實的內容，以使宜蘭縣政府文化局相信他們的施工符合了契約的規定。\n",
            "6. 被告張慶堦、張文騫、吳建忠在會議紀錄上填寫了不實的內容，以使宜蘭縣政府文化局相信他們的施工符合了契約的規定。\n",
            "7. 被告張慶堦、張文騫、吳建忠在會議紀錄上填寫了不實的內容，以使宜蘭縣政府文化局相信他們的施工符合了契約的規定。\n",
            "8. 被告張慶堦、張文騫、吳建忠在會議紀錄上填寫了不實的內容，以使宜蘭縣政府文化局相信他們的施工符合了契約的規定。\n",
            "9. 被告張慶堦、張文騫、吳建忠在會議紀錄上填寫了不實的內容，以使宜蘭縣政府文化局相信他們的施工符合了契約的規定。\n",
            "10. 被告張慶堦、張文騫、吳建忠在會議紀錄上填寫了不實的內容，以使宜蘭縣政府文化局相信他們的施工符合了契約的規定。\n",
            "11. 被告張慶堦、張文騫、吳建忠在會議紀錄上填寫了不實的內容，以使宜蘭縣政府文化局相信他們的施工符合了契約的規定。\n",
            "12. 被告張慶堦、張文騫、吳建忠在會議紀錄上填寫了不實的內容，以使宜蘭縣政府文化局相信他們的施工符合了契約的規定。\n",
            "13. 被告張慶堦、張文騫、吳建忠在會議紀錄上填寫了不實的內容，以使宜蘭縣政府文化局相信他們的施工符合了契約的規定。\n",
            "14. 被告張慶堦、張文騫、吳建忠在會議紀錄上填寫了不實的內容，以使宜蘭縣政府文化局相信他們的施工符合了契約的規定。\n",
            "15. 被告張慶堦、張文騫、吳建忠在會議紀錄上填寫了不實的內容，以使宜蘭縣政府文化局相信他們的施工符合了契約的規定。\n",
            "16. 被告張慶堦、張文騫、吳建忠在會議紀錄上填寫了不實的內容，以使宜蘭縣政府文化局相信他們的施工符合了契約的規定。\n",
            "17. 被告張慶堦、張文騫、吳建忠在會議紀錄上填寫了不實的內容，以使宜蘭縣政府文化局相信他們的施工符合了契約的規定。\n",
            "18. 被告張慶堦、張文騫、吳建忠在會議紀錄上填寫了不實的內容，以使宜蘭縣政府文化局相信他們的施工符合了契約的規定。\n",
            "19. 被告張慶堦、張文騫、吳建忠在會議紀錄上填寫了不實的內容，以使宜蘭縣政府文化局相信他們的施工符合了契約的規定。\n",
            "20. 被告張慶堦、張文騫、吳建忠在會議紀錄上填寫了不實的內容，以使宜蘭縣政府文化局相信他們的施工符合了契約的規定。\n",
            "21. 被告張慶堦、張文騫、吳建忠在會議紀錄上填寫了不實的內容，以使宜蘭\n"
          ]
        }
      ],
      "source": [
        "print(get_breeze(query))"
      ]
    },
    {
      "cell_type": "code",
      "execution_count": null,
      "metadata": {
        "colab": {
          "base_uri": "https://localhost:8080/"
        },
        "id": "BCJ5juywta_8",
        "outputId": "77427918-7be8-40ba-98ee-36a8929e5095"
      },
      "outputs": [
        {
          "name": "stdout",
          "output_type": "stream",
          "text": [
            " 1. 在犯罪情節方面，被告張慶堦、張文騫、吳建忠三人共同製造假會議紀錄，以便欺騙主管機關宜蘭縣政府文化局。在這個特定案件中，由於涉及公共工程，而非單純的勞務採購，故而在工程竣工驗收後，被告張慶堦、張文騫、吳建忠被要求提交一份總結報告。然而，被告張慶堦卻交上了一張虛假的會議紀錄，這是一個造假的文件。\n",
            "2. 被告張慶堦承認了他們填寫了那張虛假的會議紀錄，並且承認它含有錯誤信息。被告張文騫則聲稱他在簽署時并没有察覺到那些錯誤。被告吳建忠則說他是受到被告張慶堦的指示去做簽字的。\n",
            "3. 被告張慶堦、張文騫、吳建忠的辯解都不能成立，因為他們制造了一个虛假的文件，并且这些文件将会用于审批过程。\n"
          ]
        }
      ],
      "source": [
        "print(get_breeze(query))"
      ]
    },
    {
      "cell_type": "code",
      "execution_count": null,
      "metadata": {
        "id": "60v-BKNx_U3u"
      },
      "outputs": [],
      "source": [
        "query = generate_prompt(prompt, train_facts_sentences[0][:10])"
      ]
    },
    {
      "cell_type": "code",
      "execution_count": null,
      "metadata": {
        "colab": {
          "base_uri": "https://localhost:8080/"
        },
        "id": "noZ1T35K_0Ur",
        "outputId": "c6ac0b3c-d29a-4355-d6ae-9a5ed74cc85e"
      },
      "outputs": [
        {
          "name": "stdout",
          "output_type": "stream",
          "text": [
            "我需要你幫我挑選出和犯罪情境最相關的三個句子。這些句子都是來自判決書，而我需要找出與犯罪相關的內容。請從以下給出的句子中挑選三個最符合犯罪情境的。\n",
            "1: 一、陳泰龍明知其與泰國籍女子陳玉婉（泰國名字為JARUWANWONGPRATOOM，陳玉婉涉嫌本案偽造文書部分，另經臺灣臺南地方法院檢察署檢察官通緝中）間並無結婚之真意，然因詹巧薇、張晉源等人欲找臺灣男子前往泰國與泰國女子辦理假結婚，林清水負責介紹臺灣男子予詹巧薇、張晉源等人以賺取新臺幣（下同）1萬元之仲介費，適陳泰龍依林清水於報紙上刊登之徵人廣告應徵時，由林清水告知泰國女子欲以假結婚之方式申請來臺居留工作，其若擔任假結婚之人頭老公，除不用負擔前往泰國之食宿、機票費用外，尚可獲取5、6萬元之報酬，迨陳泰龍應允同意後，林清水將其轉介紹予詹巧薇、張晉源等人，陳泰龍遂與林清水、詹巧薇、張晉源等人共同基於行使使公務員登載不實公文書之概括犯意聯絡，先由陳泰龍依指示於民國93年4月3日前往泰國，並於同年月7日與陳玉婉在泰國曼谷市法拉坎農區註冊辦事處登記結婚，取得上開註冊辦事處核發之結婚登記書、結婚證書等文件後，陳泰龍即行返臺，並於同年5月19日持經我國駐泰國臺北經濟文化辦事處認證之上開結婚登記書、結婚證書等資料，至臺南縣永康市（改制前稱謂，以下沿用舊制稱謂）戶政事務所填寫結婚登記申請書，申請辦理其與陳玉婉之結婚登記，因此使上開戶政事務所僅有形式審查權之承辦公務員陷於錯誤，於形式上審核後，將陳泰龍與陳玉婉於93年4月7日結婚之不實事項，登載於其職務上所掌屬公文書之戶籍登記資料內，並據以核發戶籍謄本，而足以生損害於戶政機關對於戶政管理及戶籍登記資料維護之正確性\n",
            "2: 迨陳玉婉來臺後，為取得居留身分，再由陳泰龍、陳玉婉承前概括之犯意聯絡，於同年6月14日及94年5月5日，均持前開登載不實之戶籍謄本等資料，先後向臺南縣政府警察局外事課申請核發陳玉婉之外僑居留證及申請居留證延期而連續行使之（業經檢察官當庭補充），經承辦人員實質審查結果，均未發覺陳泰龍與陳玉婉假結婚之實情，而發給陳玉婉居留證或核准延期，各足以生損害於主管機關對外僑居留管理之正確性\n",
            "3: 二、案經臺南市警察局（現改制為臺南市政府警察局，以下沿用舊制稱謂）第一分局報告臺灣臺南地方法院檢察署檢察官偵查起訴\n",
            "4: 理由甲、程序方面：一、本件以下所引用具傳聞證據性質之供述證據，因本件被告陳泰龍、檢察官等人於本院準備程序進行時，均未爭執前開陳述之證據能力，且迄至本案言詞辯論終結前亦均未聲明異議，應視為已同意援引作為證據，又本院審酌前開證據作成時之情況及證據取得過程等節，並無非出於任意性、不正取供或其他違法不當情事，且客觀上亦無顯不可信之情況，堪認為適當，是依刑事訴訟法第159條之5規定，均有證據能力\n",
            "5: 二、卷附之被告及陳玉婉入出國日期紀錄各1份等書證，均非屬供述證據，皆無傳聞法則之適用，復均無違反法定程序取得之情形，依刑事訴訟法第158條之4規定之反面解釋，均應有證據能力\n",
            "6: 乙、實體方面：一、訊據被告固坦承於上開時、地，透過共犯林清水之介紹，先至泰國辦理與共犯陳玉婉之結婚手續，再前往臺南縣永康市戶政事務所辦理結婚登記，又前往臺南縣政府警察局外事課辦理共犯陳玉婉之外僑居留證及申請居留證延期之事實，惟矢口否認有何行使使公務員登載不實文書情事，於本院審理時辯稱：伊當時經濟狀況良好，因同居女友欲去日本工作而不願結婚，然伊希望結婚生子，遂透過共犯林清水之介紹與安排，共犯林清水先讓伊看過共犯陳玉婉之照片，伊再前往泰國與共犯陳玉婉結婚，伊僅負擔自己的來回機票錢及泰國住宿費用，其他結婚費用均由共犯林清水負擔，伊則贈送伊的一部機車予共犯林清水以為回報，伊並不認識共犯詹巧薇云云\n",
            "7: 經查：(一)被告於93年4月3日前往泰國，並於同年月7日與共犯陳玉婉在泰國曼谷市法拉坎農區註冊辦事處登記結婚，取得上開註冊辦事處核發之結婚登記書、結婚證書等文件後，被告即行返臺，並於同年5月19日持經我國駐泰國臺北經濟文化辦事處認證之上開結婚登記書、結婚證書等資料，至臺南縣永康市戶政事務所填寫結婚登記申請書，申請辦理其與共犯陳玉婉之結婚登記，並取得戶籍謄本\n",
            "8: 迨共犯陳玉婉來臺後，為取得居留身分，被告與共犯陳玉婉於同年6月14日及94年5月5日，均持前開戶籍謄本等資料，先後向臺南縣政府警察局外事課申請核發共犯陳玉婉之外僑居留證及申請居留證延期等情，業據被告供承在卷，並有結婚登記申請書、授權書各1份、結婚登記書、結婚證書各1份（含中文、泰文影本及我國駐泰國臺北經濟文化辦事處認證之資料）、93年6月14日及94年5月5日之外國人居留停留案件聲請表各1份、被告及共犯陳玉婉之入出國日期紀錄各1份、共犯陳玉婉之外僑居留資料查詢1份在卷可按（見警三卷即南市警一刑偵字第0994101517號卷第6至24、33頁）\n",
            "9: 上開事實，首堪認定\n",
            "10: (二)共犯詹巧薇、張晉源等人當時欲找臺灣人與泰國女子結婚，由共犯林清水於報紙上刊登徵人廣告，若應徵者符合與泰國人結婚之條件，便將應徵者介紹予共犯詹巧薇、張晉源等人，共犯林清水可從中獲取1萬元之仲介費，適被告依前開徵人廣告應徵，共犯林清水衡量其條件後告知其可至泰國結婚，其除不用負擔前往泰國之機票及食宿費用外，尚可獲取5至6萬元之報酬，被告應允同意後，共犯林清水將其介紹予詹巧薇、張晉源等人，被告即依指示前往泰國與為了來臺工作且無結婚真意的共犯陳玉婉辦理結婚事宜等情，業據共犯林清水於警詢時證稱：伊登報徵人到泰國結婚，被告看報紙來的，伊便轉介予共犯詹巧薇，由共犯詹巧薇安排後續到泰國結婚之事宜，被告除不用負擔前往泰國機票、食宿等費用，尚可獲取約5至6萬元酬勞，伊則可自共犯詹巧薇獲取約1萬元之仲介費用；伊只有將被告轉介予共犯詹巧薇，並未參與後續被告前往泰國之證照、機票、食宿等相關事宜；被告係因缺錢，為了賺取擔任人頭配偶的佣金5至6萬，並不是真的要與泰國人結婚，共犯陳玉婉係為了來臺灣工作賺錢，亦不是真的要與臺灣人結婚等語（見警三卷第2至3頁）；並於本院審理時具結證稱：當初共犯詹巧薇、張晉源等人欲找男子前往泰國結婚，伊曾刊登「男、女不限、經驗不拘」等內容之徵人廣告，被告見報應徵時，被告係因缺錢才來找伊，伊衡量被告條件後認為其只能利用結婚賺取報酬，伊才向其表示是要辦結婚，伊告知被告可安排其去泰國結婚，其不用負擔食宿及機票等費用，可實拿5至6萬元的報酬，被告同意後，伊將被告介紹予共犯詹巧薇、張晉源，共犯張晉源給付佣金1萬元予伊；伊與被告談論泰國結婚事宜時，伊與被告均不知被告之結婚對象為何人，伊亦未見過與被告結婚之泰國女子，伊僅介紹被告予共犯詹巧薇、張晉源等人，伊並未參予後續之泰國結婚、辦理結婚登記及居留申請等事情；被告曾給伊一部機車，當時被告表示要去別的地方，機車留在臺南無人使用，伊修理使用一段期間後，因再度壞掉便未再使用等語（見本院卷第68頁背面至71頁）\n",
            "\n"
          ]
        }
      ],
      "source": [
        "print(query)"
      ]
    },
    {
      "cell_type": "code",
      "execution_count": null,
      "metadata": {
        "colab": {
          "base_uri": "https://localhost:8080/"
        },
        "id": "z78LwdQ__cuV",
        "outputId": "df4159ef-5cae-4cad-9837-79d3c8034b49"
      },
      "outputs": [
        {
          "name": "stdout",
          "output_type": "stream",
          "text": [
            " 1: 一、陳泰龍明知其與泰國籍女子陳玉婉（泰國名字為JARUWANWONGPRATOOM，陳玉婉涉嫌本案偽造文書部分，另經臺灣臺南地方法院檢察署檢察官通緝中）間並無結婚之真意，\n"
          ]
        }
      ],
      "source": [
        "print(get_breeze(query))"
      ]
    },
    {
      "cell_type": "code",
      "execution_count": null,
      "metadata": {
        "colab": {
          "base_uri": "https://localhost:8080/"
        },
        "id": "Jpa6j14B_rGX",
        "outputId": "236d4729-b487-4698-ed20-b081db216739"
      },
      "outputs": [
        {
          "name": "stdout",
          "output_type": "stream",
          "text": [
            " 1: 一、陳泰龍明知其與泰國籍女子陳玉婉（泰國名字為JARUWANWONGPRATOOM，陳玉婉涉嫌本案偽造文書部分，另經臺灣臺南地方法院檢察署檢察官通緝中）間並無結婚之真意，然因詹巧薇、張晉源等人欲找臺灣男子前往泰國與泰國女子辦理假結婚，林清水負責介紹臺灣男子予詹巧薇、張晉源等人以賺取新臺幣（下同）1萬元之仲介費，適陳泰龍依林清水於報紙上刊登之徵人廣告應徵時，由林清水告知泰國女子欲以假結婚之方式申請來臺居留工作，其若擔任假結婚之人頭老公，除不用負擔前往泰國之食宿、機票費用外，尚可獲取5、6萬元之報酬，迨陳泰龍應允同意後，林清水將其轉介紹予詹巧薇、張晉源等人，陳泰龍遂與林清水、詹巧薇、張晉源等人共同基於行使使公務員登載不實公文書之概括犯意聯絡，先由陳泰龍依指示於民國93年4月3日前往泰國，並於同年月7日與陳玉婉在泰國曼谷市法拉坎農區註冊辦事處登記結婚，取得上開註冊辦事處核發之結婚登記書、結婚證書等文件後，陳泰龍即行返臺，並於同年5月19日持經我國駐泰國臺北經濟文化辦事處認證之上開結婚登記書、結婚證書等資料，至臺南縣永康市（改制前稱謂，以下沿用舊制稱謂）戶政事務所填寫結婚登記申請書，申請辦理其與陳玉婉之結婚登記，因此使上開戶政事務所僅有形式審查權之承辦公務員陷於錯誤，於形式上審核後，將陳泰龍與陳玉婉於93年4月7日結婚之不實事項，登載於其職務上所掌屬公文書之戶籍登記資料內，並據以核發戶籍謄本，而足以生損害於戶政機關對於戶政管理及戶籍登記資料維護之正確性\n",
            "\n",
            "2: 迨陳玉婉來臺後，為取得居留身分，再由陳泰龍、陳玉婉承前概括之犯意聯絡，於同年6月14日及94年5月5日，均持前開登載不實之戶籍謄本等資料，先後向臺南縣政府警察局外事課申請核發陳玉婉之外僑居留證及申請居留證延期而連續行使之（業經檢察官當庭補充），經承辦人員實質審查結果，均未發覺陳泰龍與陳玉婉假結婚之實情，而發給陳玉婉居留證或核准延期，各足以生損害於主管機關對外僑居留管理之正確性\n",
            "\n",
            "3: 二、案經臺南市警察局（現改制為臺南市政府警察局，以下沿用舊制稱謂）第一分局報告臺灣臺南地方法院檢察署檢察官偵查起訴\n"
          ]
        }
      ],
      "source": [
        "print(get_breeze(query))"
      ]
    },
    {
      "cell_type": "code",
      "execution_count": null,
      "metadata": {
        "id": "_VKkLBcl_mUs"
      },
      "outputs": [],
      "source": [
        "query = generate_prompt2(prompt, train_facts_sentences[0][:10])"
      ]
    },
    {
      "cell_type": "code",
      "execution_count": null,
      "metadata": {
        "colab": {
          "base_uri": "https://localhost:8080/"
        },
        "id": "huBpsTs_AHXh",
        "outputId": "0e05d039-ffa9-45d6-e33a-7a7264646253"
      },
      "outputs": [
        {
          "name": "stdout",
          "output_type": "stream",
          "text": [
            " 三、被告陳泰龍明知其與泰國籍女子陳玉婉（泰國名字為JARUWANWONGPRATOOM，陳玉婉涉嫌本案偽造文書部分，另經臺灣臺南地方法院檢察署檢察官通緝中）間並無結婚之真意，然因詹巧薇、張晉源等人欲找臺灣男子前往泰國與泰國女子辦理假結婚，林清水負責介紹臺灣男子予詹巧薇、張晉源等人以賺取新臺幣（下同）1萬元之仲介費，適陳泰龍依林清水於報紙上刊登之徵人廣告應徵時，由林清水告知泰國女子欲以假結婚之方式申請來臺居留工作，其若擔任假結婚之人頭老公，除不用負擔前往泰國之食宿、機票費用外，尚可獲取5、6萬元之報酬，迨陳泰龍應允同意後，林清水將其轉介紹予詹巧薇、張晉源等人，陳泰龍遂與林清水、詹巧薇、張晉源等人共同基於行使使公務員登載不實公文書之概括犯意聯絡，先由陳泰龍依指示於民國93年4月3日前往泰國，並於同年月7日與陳玉婉在泰國曼谷市法拉坎農區註冊辦事處登記結婚，取得上開註冊辦事處核發之結婚登記書、結婚證書等文件後，陳泰龍即行返臺，並於同年5月19日持經我國駐泰國臺北經濟文化辦事處認證之上開結婚登記書、結婚證書等資料，至臺南縣永康市（改制前稱謂，以下沿用舊制稱謂）戶政事務所填寫結婚登記申請書，申請辦理其與陳玉婉之結婚登記，因此使上開戶政事務所僅有形式審查權之承辦公務員陷於錯誤，於形式上審核後，將陳泰龍與陳玉婉於93年4月7日結婚之不實事項，登載於其職務上所掌屬公文書之戶籍登記資料內，並據以核發戶籍謄本，而足以生損害於戶政機關對於戶政管理及戶籍登記資料維護之正確性\n",
            "\n",
            "迨陳玉婉來臺後，為取得居留身分，再由陳泰龍、陳玉婉承前概括之犯意聯絡，於同年6月14日及94年5月5日，均持前開登載不實之戶籍謄本等資料，先後向臺南縣政府警察局外事課申請核發陳玉婉之外僑居留證及申請居留證延期而連續行使之（業經檢察官當庭補充），經承辦人員實質審查結果，均未發覺陳泰龍與陳玉婉假結婚之實情，而發給陳玉婉居留證或核准延期，各足以生損害於主管機關對外僑居留管理之正確性\n"
          ]
        }
      ],
      "source": [
        "print(get_breeze(query))"
      ]
    },
    {
      "cell_type": "code",
      "execution_count": null,
      "metadata": {
        "id": "tvD6K3wyBPSi"
      },
      "outputs": [],
      "source": [
        "query = generate_prompt(prompt, train_facts_sentences[0][10:20])"
      ]
    },
    {
      "cell_type": "code",
      "execution_count": null,
      "metadata": {
        "colab": {
          "base_uri": "https://localhost:8080/"
        },
        "id": "u3OuXw_TBY7K",
        "outputId": "cb595894-92c2-4329-d3d2-f308ff016b3c"
      },
      "outputs": [
        {
          "name": "stdout",
          "output_type": "stream",
          "text": [
            "我需要你幫我挑選出和犯罪情境最相關的三個句子。這些句子都是來自判決書，而我需要找出與犯罪相關的內容。請從以下給出的句子中挑選三個最符合犯罪情境的。\n",
            "1: 而共犯林清水於93、94年間，因仲介臺灣人民陳益昌、林哲銘、廖震南、陳朝榮、王照明等5人擔任人頭老公與泰國女子假結婚，陳益昌等5人均獲取5至7萬元報酬等情，經本院以95年度簡上字第330號判處有期徒刑7月確定，另共犯詹巧薇於92年間，因與共犯張晉源等人共同仲介臺灣人民莊國寶、林世欽、蔡明峰等3人擔任人頭老公與泰國女子假結婚等情，經本院以99年度簡字第1313號判處有期徒刑4月並減為有期徒刑2月確定，又共犯林清水、詹巧薇因本案被告與共犯陳玉婉辦理假結婚致涉嫌共同行使使公務員登載不實文書犯行部分，經臺灣臺南地方法院檢察官認為與前開95年度簡上字第330號、99年度簡字第1313號論罪科刑部分有連續犯之裁判上一罪關係，故均以99年度偵字第17571、17771號、100年度偵字第4564號為不起訴處分確定，有前開判決書及不起訴處分書各1份在卷可按，堪認共犯林清水、詹巧薇、張晉源確曾仲介或安排臺灣男子前往泰國與泰國女子假結婚無訛\n",
            "2: 又被告與共犯林清水並無任何仇怨糾葛，被告尚提供一部機車予共犯林清水使用，衡諸常情，共犯林清水尚無隨意誣指構陷被告之動機，復衡以其於本院中具結後證述上情歷歷，核與其警詢中證述之情節大致相符，苟非親身經歷，尚均無圖陷被告入罪而自行擔負偽證罪責風險之必要，顯見其確係依憑當時親身見聞所為之證述，參以被告於93年4月26日將戶籍遷移寄放至共犯林清水籍設於臺南縣永康市○○路152號之住所，其戶籍遷入目的係為了便利結婚登記之辦理，被告亦依此戶籍地向臺南縣永康市戶政事務所辦理其與共犯陳玉婉之結婚登記等情，業據被告於本院審理時供承伊戶籍寄放於前開住址不諱，及共犯林清水於本院審理時具結證稱：被告將戶籍寄放於伊住所是為了辦理結婚，要拿證件辦理結婚登記比較方便等語（見本院卷第70頁），並有被告及共犯林清水之個人戶籍資料查詢結果各1份、結婚登記申請書1份在卷可佐，而前開95年度簡上字第330號案件中之人頭老公林哲銘亦由共犯林清水提供前開住所供其設籍，並依該戶籍地辦理結婚登記等情，亦據證人林哲銘於警詢時證述明確（見警二卷第19頁），並有證人林哲銘之結婚登記申請書1紙附卷可佐（見警二卷第46頁），益徵被告確係共犯林清水仲介之人頭老公的其中一人甚明\n",
            "3: (三)綜上所述，被告與共犯陳玉婉確係假結婚無訛，是被告前開所辯，要屬卸責之詞，殊無可採\n",
            "4: 本案事證至臻明確，被告上開犯行堪以認定，應予依法論科\n",
            "5: 二、按被告行為後，刑法業於民國94年2月2日修正公布，並自95年7月1日施行\n",
            "6: 按行為後法律有變更者，適用行為時之法律，但行為後之法律有利於行為人者，適用最有利於行為人之法律，修正後刑法第2條第1項定有明文\n",
            "7: 該規定係規範行為後法律變更所生新舊法律比較適用之準據法，是刑法第2條本身雖經修正，尚無比較新舊法之問題，應一律適用裁判時之刑法第2條規定\n",
            "8: 次按本次刑法修正之新舊法比較，應就罪刑有關之共犯、未遂犯、想像競合犯、牽連犯、連續犯、結合犯、以及累犯加重、自首減輕暨其他法定加減原因（如身分加減）與加減例等一切情形，綜其全部罪刑之結果而為比較，有最高法院95年5月23日95年度第8次刑庭會議決議可資參照\n",
            "9: 經查：(一)依增訂之刑法施行法第1條之1：「中華民國94年1月7日刑法修正施行後，刑法分則編所定罰金之貨幣單位為新臺幣\n",
            "10: 94年1月7日刑法修正時，刑法分則編未修正之條文定有罰金者，自94年1月7日刑法修正施行後，就其所定數額提高為30倍\n",
            "\n"
          ]
        }
      ],
      "source": [
        "print(query)"
      ]
    },
    {
      "cell_type": "code",
      "execution_count": null,
      "metadata": {
        "colab": {
          "base_uri": "https://localhost:8080/"
        },
        "id": "fxZ2b2nxBP1S",
        "outputId": "0931d74d-9105-43f8-dd54-fe59298db613"
      },
      "outputs": [
        {
          "name": "stdout",
          "output_type": "stream",
          "text": [
            " 1: 而共犯林清水於93、94年間，因仲介臺灣人民陳益昌、林哲銘、廖震南、陳朝榮、王照明等5人擔任人頭老公與泰國女子假結婚，陳益昌等5人均獲取5至7萬元報酬等情，經本院以95年度簡上字第330號判處有期徒刑7月確定，另共犯詹巧薇於92年間，因與共犯張晉源等人共同仲介臺灣人民莊國寶、林世欽、蔡明峰等3人擔任人頭老公與泰國女子假結婚等情，經本院以99年度簡字第1313號判處有期徒刑4月並減為有期徒刑2月確定，又共犯林清水、詹巧薇因本案被告與共犯陳玉婉辦理假結婚致涉嫌共同行使使公務員登載不實文書犯行部分，經臺灣臺南地方法院檢察官認為與前開95年度簡上字第330號、99年度簡字第1313號論罪科刑部分有連續犯之裁判上一罪關係，故均以99年度偵字第17571、17771號、100年度偵字第4564號為不起訴處分確定，有前開判決書及不起訴處分書各1份在卷可按，堪認共犯林清水、詹巧薇、張晉源確曾仲介或安排臺灣男子前往泰國與泰國女子假結婚無訛\n",
            "\n",
            "2: 又被告與共犯林清水並無任何仇怨糾葛，被告尚提供一部機車予共犯林清水使用，衡諸常情，共犯林清水尚無隨意誣指構陷被告之動機，復衡以其於本院中具結後證述上情歷歷，核與其警詢中證述之情節大致相符，苟非親身經歷，尚均無圖陷被告入罪而自行擔負偽證罪責風險之必要，顯見其確係依憑當時親身見聞所為之證述，參以被告於93年4月26日將戶籍遷移寄放至共犯林清水籍設於臺南縣永康市○○路152號之住所，其戶籍遷入目的係為了便利結婚登記之辦理，被告亦依此戶籍地向臺南縣永康市戶政事務所辦理其與共犯陳玉婉之結婚登記等情，業據被告於本院審理時供承伊戶籍寄放於前開住址不諱，及共犯林清水於本院審理時具結證稱：被告將戶籍寄放於伊住所是為了辦理結婚，要拿證件辦理結婚登記比較方便等語（見本院卷第70頁），並有被告及共犯林清水之個人戶籍資料查詢結果各1份、結婚登記申請書1份在卷可佐，而前開95年度簡上字第330號案件中之人頭老公林哲銘亦由共犯林清水提供前開住所供其設籍，並依該戶籍地辦理結婚登記等情，亦據證人林哲銘於警詢時證述明確（見警二卷第19頁），並有證人林哲銘之結婚登記申請書1紙附卷可佐（見警二卷第46頁），益徵被告確係共犯林清水仲介之人頭老公的其中一人甚明\n",
            "\n",
            "3: (三)綜上所述，被告與共犯陳玉婉確係假結婚無訛，是被告前開所辯，要屬卸責之詞，殊無可採\n"
          ]
        }
      ],
      "source": [
        "print(get_breeze(query))"
      ]
    },
    {
      "cell_type": "code",
      "execution_count": null,
      "metadata": {
        "id": "s_OU7SVSCp0p"
      },
      "outputs": [],
      "source": [
        "query = generate_prompt(prompt, train_facts_sentences[0][20:30])"
      ]
    },
    {
      "cell_type": "code",
      "execution_count": null,
      "metadata": {
        "colab": {
          "base_uri": "https://localhost:8080/"
        },
        "id": "yv-ZAiAjCrMw",
        "outputId": "b0d461b1-3e12-4b5d-ac3a-b2c0497dea5a"
      },
      "outputs": [
        {
          "name": "stdout",
          "output_type": "stream",
          "text": [
            "我需要你幫我挑選出和犯罪情境最相關的三個句子。這些句子都是來自判決書，而我需要找出與犯罪相關的內容。請從以下給出的句子中挑選三個最符合犯罪情境的。\n",
            "1: 但72年6月26日至94年1月7日新增或修正之條文，就其所定數額提高為3倍\n",
            "2: 」，是比較修正後刑法施行法第1條之1第2項與罰金罰鍰提高標準條例第1條之結果，因兩者之罰金最高額度相同而無有利不利之情形，自無刑法第2條第1項之適用，應逕依現行有效且具特別法性質之刑法施行法第1條之1的規定\n",
            "3: (二)刑法第33條第5款修正為：「主刑之種類如下：五、罰金：新臺幣1000元以上，以百元計算之\n",
            "4: 」，是依修正後之法律，刑法第335條第1項之侵占罪所得科處之罰金刑最低為新臺幣1000元，而另依修正前刑法第33條第5款及罰金罰鍰提高標準條例第1條前段規定，罰金最低額則為銀元1元折算為新臺幣3元，故比較新舊法之結果，自以修正前刑法第33條第5款規定較有利於被告\n",
            "5: (三)刑法第28條修正前規定為：「2人以上共同實施犯罪之行為者，皆為正犯\n",
            "6: 」，而修正後規定為：「2人以上共同實行犯罪之行為者，皆為正犯\n",
            "7: 」，是依修正後之規定係將共同正犯限於直接從事構成犯罪事實之行為者，而排除陰謀共同正犯及預謀共同正犯之類型，故修正後共同正犯之可罰性要件之範圍業已限縮\n",
            "8: 惟本件被告既係直接從事構成犯罪事實之行為，則比較修正前後規定之結果，並無有利或不利之情形，應逕依修正後規定\n",
            "9: (四)刑法第56條連續犯之規定於刑法修正後業經刪除，是新法修正施行後，行為人之數犯罪行為便須分論併罰\n",
            "10: 是該項刪除雖非犯罪構成要件之變更，但已影響行為人刑罰之法律效果，自屬法律有所變更而有比較新舊法之必要\n",
            "\n"
          ]
        }
      ],
      "source": [
        "print(query)"
      ]
    },
    {
      "cell_type": "code",
      "execution_count": null,
      "metadata": {
        "colab": {
          "base_uri": "https://localhost:8080/"
        },
        "id": "ackLaQdnCr6e",
        "outputId": "f30bc47f-96ce-4d11-cfc5-fa3838a80ef2"
      },
      "outputs": [
        {
          "name": "stdout",
          "output_type": "stream",
          "text": [
            " 1: 但72年6月26日至94年1月7日新增或修正之條文，就其所定數額提高為3倍\n",
            "2: 」，是比較修正後刑法施行法第1條之1第2項與罰金罰鍰提高標準條例第1條之結果，因兩者之罰金最高額度相同而無有利不利之情形，自無刑法第2條第1項之適用，應逕依現行有效且具特別法性質之刑法施行法第1條之1的規定\n",
            "3: (二)刑法第33條第5款修正為：「主刑之種類如下：五、罰金：新臺幣1000元以上，以百元計算之\n"
          ]
        }
      ],
      "source": [
        "print(get_breeze(query))"
      ]
    },
    {
      "cell_type": "code",
      "execution_count": null,
      "metadata": {
        "id": "ML7Djj0XDF8B"
      },
      "outputs": [],
      "source": [
        "query = generate_prompt(prompt, train_facts_sentences[0][:10])"
      ]
    },
    {
      "cell_type": "code",
      "execution_count": null,
      "metadata": {
        "colab": {
          "base_uri": "https://localhost:8080/",
          "height": 553
        },
        "id": "74syze-RDHa_",
        "outputId": "5f075ecb-cf49-4141-925b-3295464bae94"
      },
      "outputs": [
        {
          "data": {
            "application/vnd.google.colaboratory.intrinsic+json": {
              "type": "string"
            },
            "text/plain": [
              "'我需要你幫我挑選出和犯罪情境最相關的三個句子。這些句子都是來自判決書，而我需要找出與犯罪相關的內容。請從以下給出的句子中挑選三個最符合犯罪情境的。\\n1: 一、陳泰龍明知其與泰國籍女子陳玉婉（泰國名字為JARUWANWONGPRATOOM，陳玉婉涉嫌本案偽造文書部分，另經臺灣臺南地方法院檢察署檢察官通緝中）間並無結婚之真意，然因詹巧薇、張晉源等人欲找臺灣男子前往泰國與泰國女子辦理假結婚，林清水負責介紹臺灣男子予詹巧薇、張晉源等人以賺取新臺幣（下同）1萬元之仲介費，適陳泰龍依林清水於報紙上刊登之徵人廣告應徵時，由林清水告知泰國女子欲以假結婚之方式申請來臺居留工作，其若擔任假結婚之人頭老公，除不用負擔前往泰國之食宿、機票費用外，尚可獲取5、6萬元之報酬，迨陳泰龍應允同意後，林清水將其轉介紹予詹巧薇、張晉源等人，陳泰龍遂與林清水、詹巧薇、張晉源等人共同基於行使使公務員登載不實公文書之概括犯意聯絡，先由陳泰龍依指示於民國93年4月3日前往泰國，並於同年月7日與陳玉婉在泰國曼谷市法拉坎農區註冊辦事處登記結婚，取得上開註冊辦事處核發之結婚登記書、結婚證書等文件後，陳泰龍即行返臺，並於同年5月19日持經我國駐泰國臺北經濟文化辦事處認證之上開結婚登記書、結婚證書等資料，至臺南縣永康市（改制前稱謂，以下沿用舊制稱謂）戶政事務所填寫結婚登記申請書，申請辦理其與陳玉婉之結婚登記，因此使上開戶政事務所僅有形式審查權之承辦公務員陷於錯誤，於形式上審核後，將陳泰龍與陳玉婉於93年4月7日結婚之不實事項，登載於其職務上所掌屬公文書之戶籍登記資料內，並據以核發戶籍謄本，而足以生損害於戶政機關對於戶政管理及戶籍登記資料維護之正確性\\n2: 迨陳玉婉來臺後，為取得居留身分，再由陳泰龍、陳玉婉承前概括之犯意聯絡，於同年6月14日及94年5月5日，均持前開登載不實之戶籍謄本等資料，先後向臺南縣政府警察局外事課申請核發陳玉婉之外僑居留證及申請居留證延期而連續行使之（業經檢察官當庭補充），經承辦人員實質審查結果，均未發覺陳泰龍與陳玉婉假結婚之實情，而發給陳玉婉居留證或核准延期，各足以生損害於主管機關對外僑居留管理之正確性\\n3: 二、案經臺南市警察局（現改制為臺南市政府警察局，以下沿用舊制稱謂）第一分局報告臺灣臺南地方法院檢察署檢察官偵查起訴\\n4: 理由甲、程序方面：一、本件以下所引用具傳聞證據性質之供述證據，因本件被告陳泰龍、檢察官等人於本院準備程序進行時，均未爭執前開陳述之證據能力，且迄至本案言詞辯論終結前亦均未聲明異議，應視為已同意援引作為證據，又本院審酌前開證據作成時之情況及證據取得過程等節，並無非出於任意性、不正取供或其他違法不當情事，且客觀上亦無顯不可信之情況，堪認為適當，是依刑事訴訟法第159條之5規定，均有證據能力\\n5: 二、卷附之被告及陳玉婉入出國日期紀錄各1份等書證，均非屬供述證據，皆無傳聞法則之適用，復均無違反法定程序取得之情形，依刑事訴訟法第158條之4規定之反面解釋，均應有證據能力\\n6: 乙、實體方面：一、訊據被告固坦承於上開時、地，透過共犯林清水之介紹，先至泰國辦理與共犯陳玉婉之結婚手續，再前往臺南縣永康市戶政事務所辦理結婚登記，又前往臺南縣政府警察局外事課辦理共犯陳玉婉之外僑居留證及申請居留證延期之事實，惟矢口否認有何行使使公務員登載不實文書情事，於本院審理時辯稱：伊當時經濟狀況良好，因同居女友欲去日本工作而不願結婚，然伊希望結婚生子，遂透過共犯林清水之介紹與安排，共犯林清水先讓伊看過共犯陳玉婉之照片，伊再前往泰國與共犯陳玉婉結婚，伊僅負擔自己的來回機票錢及泰國住宿費用，其他結婚費用均由共犯林清水負擔，伊則贈送伊的一部機車予共犯林清水以為回報，伊並不認識共犯詹巧薇云云\\n7: 經查：(一)被告於93年4月3日前往泰國，並於同年月7日與共犯陳玉婉在泰國曼谷市法拉坎農區註冊辦事處登記結婚，取得上開註冊辦事處核發之結婚登記書、結婚證書等文件後，被告即行返臺，並於同年5月19日持經我國駐泰國臺北經濟文化辦事處認證之上開結婚登記書、結婚證書等資料，至臺南縣永康市戶政事務所填寫結婚登記申請書，申請辦理其與共犯陳玉婉之結婚登記，並取得戶籍謄本\\n8: 迨共犯陳玉婉來臺後，為取得居留身分，被告與共犯陳玉婉於同年6月14日及94年5月5日，均持前開戶籍謄本等資料，先後向臺南縣政府警察局外事課申請核發共犯陳玉婉之外僑居留證及申請居留證延期等情，業據被告供承在卷，並有結婚登記申請書、授權書各1份、結婚登記書、結婚證書各1份（含中文、泰文影本及我國駐泰國臺北經濟文化辦事處認證之資料）、93年6月14日及94年5月5日之外國人居留停留案件聲請表各1份、被告及共犯陳玉婉之入出國日期紀錄各1份、共犯陳玉婉之外僑居留資料查詢1份在卷可按（見警三卷即南市警一刑偵字第0994101517號卷第6至24、33頁）\\n9: 上開事實，首堪認定\\n10: (二)共犯詹巧薇、張晉源等人當時欲找臺灣人與泰國女子結婚，由共犯林清水於報紙上刊登徵人廣告，若應徵者符合與泰國人結婚之條件，便將應徵者介紹予共犯詹巧薇、張晉源等人，共犯林清水可從中獲取1萬元之仲介費，適被告依前開徵人廣告應徵，共犯林清水衡量其條件後告知其可至泰國結婚，其除不用負擔前往泰國之機票及食宿費用外，尚可獲取5至6萬元之報酬，被告應允同意後，共犯林清水將其介紹予詹巧薇、張晉源等人，被告即依指示前往泰國與為了來臺工作且無結婚真意的共犯陳玉婉辦理結婚事宜等情，業據共犯林清水於警詢時證稱：伊登報徵人到泰國結婚，被告看報紙來的，伊便轉介予共犯詹巧薇，由共犯詹巧薇安排後續到泰國結婚之事宜，被告除不用負擔前往泰國機票、食宿等費用，尚可獲取約5至6萬元酬勞，伊則可自共犯詹巧薇獲取約1萬元之仲介費用；伊只有將被告轉介予共犯詹巧薇，並未參與後續被告前往泰國之證照、機票、食宿等相關事宜；被告係因缺錢，為了賺取擔任人頭配偶的佣金5至6萬，並不是真的要與泰國人結婚，共犯陳玉婉係為了來臺灣工作賺錢，亦不是真的要與臺灣人結婚等語（見警三卷第2至3頁）；並於本院審理時具結證稱：當初共犯詹巧薇、張晉源等人欲找男子前往泰國結婚，伊曾刊登「男、女不限、經驗不拘」等內容之徵人廣告，被告見報應徵時，被告係因缺錢才來找伊，伊衡量被告條件後認為其只能利用結婚賺取報酬，伊才向其表示是要辦結婚，伊告知被告可安排其去泰國結婚，其不用負擔食宿及機票等費用，可實拿5至6萬元的報酬，被告同意後，伊將被告介紹予共犯詹巧薇、張晉源，共犯張晉源給付佣金1萬元予伊；伊與被告談論泰國結婚事宜時，伊與被告均不知被告之結婚對象為何人，伊亦未見過與被告結婚之泰國女子，伊僅介紹被告予共犯詹巧薇、張晉源等人，伊並未參予後續之泰國結婚、辦理結婚登記及居留申請等事情；被告曾給伊一部機車，當時被告表示要去別的地方，機車留在臺南無人使用，伊修理使用一段期間後，因再度壞掉便未再使用等語（見本院卷第68頁背面至71頁）\\n'"
            ]
          },
          "execution_count": 47,
          "metadata": {},
          "output_type": "execute_result"
        }
      ],
      "source": [
        "query"
      ]
    },
    {
      "cell_type": "code",
      "execution_count": null,
      "metadata": {
        "id": "BJYwp4a-DLPn"
      },
      "outputs": [],
      "source": [
        "query_test = \"我需要你幫我挑選出和犯罪情境最相關的三個句子。這些句子都是來自判決書，而我需要找出與犯罪相關的內容。請從以下給出的句子中挑選三個最符合犯罪情境的。\\n1: (二)共犯詹巧薇、張晉源等人當時欲找臺灣人與泰國女子結婚，由共犯林清水於報紙上刊登徵人廣告，若應徵者符合與泰國人結婚之條件，便將應徵者介紹予共犯詹巧薇、張晉源等人，共犯林清水可從中獲取1萬元之仲介費，適被告依前開徵人廣告應徵，共犯林清水衡量其條件後告知其可至泰國結婚，其除不用負擔前往泰國之機票及食宿費用外，尚可獲取5至6萬元之報酬，被告應允同意後，共犯林清水將其介紹予詹巧薇、張晉源等人，被告即依指示前往泰國與為了來臺工作且無結婚真意的共犯陳玉婉辦理結婚事宜等情，業據共犯林清水於警詢時證稱：伊登報徵人到泰國結婚，被告看報紙來的，伊便轉介予共犯詹巧薇，由共犯詹巧薇安排後續到泰國結婚之事宜，被告除不用負擔前往泰國機票、食宿等費用，尚可獲取約5至6萬元酬勞，伊則可自共犯詹巧薇獲取約1萬元之仲介費用；伊只有將被告轉介予共犯詹巧薇，並未參與後續被告前往泰國之證照、機票、食宿等相關事宜；被告係因缺錢，為了賺取擔任人頭配偶的佣金5至6萬，並不是真的要與泰國人結婚，共犯陳玉婉係為了來臺灣工作賺錢，亦不是真的要與臺灣人結婚等語（見警三卷第2至3頁）；並於本院審理時具結證稱：當初共犯詹巧薇、張晉源等人欲找男子前往泰國結婚，伊曾刊登「男、女不限、經驗不拘」等內容之徵人廣告，被告見報應徵時，被告係因缺錢才來找伊，伊衡量被告條件後認為其只能利用結婚賺取報酬，伊才向其表示是要辦結婚，伊告知被告可安排其去泰國結婚，其不用負擔食宿及機票等費用，可實拿5至6萬元的報酬，被告同意後，伊將被告介紹予共犯詹巧薇、張晉源，共犯張晉源給付佣金1萬元予伊；伊與被告談論泰國結婚事宜時，伊與被告均不知被告之結婚對象為何人，伊亦未見過與被告結婚之泰國女子，伊僅介紹被告予共犯詹巧薇、張晉源等人，伊並未參予後續之泰國結婚、辦理結婚登記及居留申請等事情；被告曾給伊一部機車，當時被告表示要去別的地方，機車留在臺南無人使用，伊修理使用一段期間後，因再度壞掉便未再使用等語（見本院卷第68頁背面至71頁）\\n2: 迨陳玉婉來臺後，為取得居留身分，再由陳泰龍、陳玉婉承前概括之犯意聯絡，於同年6月14日及94年5月5日，均持前開登載不實之戶籍謄本等資料，先後向臺南縣政府警察局外事課申請核發陳玉婉之外僑居留證及申請居留證延期而連續行使之（業經檢察官當庭補充），經承辦人員實質審查結果，均未發覺陳泰龍與陳玉婉假結婚之實情，而發給陳玉婉居留證或核准延期，各足以生損害於主管機關對外僑居留管理之正確性\\n3: 二、案經臺南市警察局（現改制為臺南市政府警察局，以下沿用舊制稱謂）第一分局報告臺灣臺南地方法院檢察署檢察官偵查起訴\\n4: 理由甲、程序方面：一、本件以下所引用具傳聞證據性質之供述證據，因本件被告陳泰龍、檢察官等人於本院準備程序進行時，均未爭執前開陳述之證據能力，且迄至本案言詞辯論終結前亦均未聲明異議，應視為已同意援引作為證據，又本院審酌前開證據作成時之情況及證據取得過程等節，並無非出於任意性、不正取供或其他違法不當情事，且客觀上亦無顯不可信之情況，堪認為適當，是依刑事訴訟法第159條之5規定，均有證據能力\\n5: 二、卷附之被告及陳玉婉入出國日期紀錄各1份等書證，均非屬供述證據，皆無傳聞法則之適用，復均無違反法定程序取得之情形，依刑事訴訟法第158條之4規定之反面解釋，均應有證據能力\\n6: 乙、實體方面：一、訊據被告固坦承於上開時、地，透過共犯林清水之介紹，先至泰國辦理與共犯陳玉婉之結婚手續，再前往臺南縣永康市戶政事務所辦理結婚登記，又前往臺南縣政府警察局外事課辦理共犯陳玉婉之外僑居留證及申請居留證延期之事實，惟矢口否認有何行使使公務員登載不實文書情事，於本院審理時辯稱：伊當時經濟狀況良好，因同居女友欲去日本工作而不願結婚，然伊希望結婚生子，遂透過共犯林清水之介紹與安排，共犯林清水先讓伊看過共犯陳玉婉之照片，伊再前往泰國與共犯陳玉婉結婚，伊僅負擔自己的來回機票錢及泰國住宿費用，其他結婚費用均由共犯林清水負擔，伊則贈送伊的一部機車予共犯林清水以為回報，伊並不認識共犯詹巧薇云云\\n7: 經查：(一)被告於93年4月3日前往泰國，並於同年月7日與共犯陳玉婉在泰國曼谷市法拉坎農區註冊辦事處登記結婚，取得上開註冊辦事處核發之結婚登記書、結婚證書等文件後，被告即行返臺，並於同年5月19日持經我國駐泰國臺北經濟文化辦事處認證之上開結婚登記書、結婚證書等資料，至臺南縣永康市戶政事務所填寫結婚登記申請書，申請辦理其與共犯陳玉婉之結婚登記，並取得戶籍謄本\\n8: 迨共犯陳玉婉來臺後，為取得居留身分，被告與共犯陳玉婉於同年6月14日及94年5月5日，均持前開戶籍謄本等資料，先後向臺南縣政府警察局外事課申請核發共犯陳玉婉之外僑居留證及申請居留證延期等情，業據被告供承在卷，並有結婚登記申請書、授權書各1份、結婚登記書、結婚證書各1份（含中文、泰文影本及我國駐泰國臺北經濟文化辦事處認證之資料）、93年6月14日及94年5月5日之外國人居留停留案件聲請表各1份、被告及共犯陳玉婉之入出國日期紀錄各1份、共犯陳玉婉之外僑居留資料查詢1份在卷可按（見警三卷即南市警一刑偵字第0994101517號卷第6至24、33頁）\\n9: 上開事實，首堪認定\\n10: 一、陳泰龍明知其與泰國籍女子陳玉婉（泰國名字為JARUWANWONGPRATOOM，陳玉婉涉嫌本案偽造文書部分，另經臺灣臺南地方法院檢察署檢察官通緝中）間並無結婚之真意，然因詹巧薇、張晉源等人欲找臺灣男子前往泰國與泰國女子辦理假結婚，林清水負責介紹臺灣男子予詹巧薇、張晉源等人以賺取新臺幣（下同）1萬元之仲介費，適陳泰龍依林清水於報紙上刊登之徵人廣告應徵時，由林清水告知泰國女子欲以假結婚之方式申請來臺居留工作，其若擔任假結婚之人頭老公，除不用負擔前往泰國之食宿、機票費用外，尚可獲取5、6萬元之報酬，迨陳泰龍應允同意後，林清水將其轉介紹予詹巧薇、張晉源等人，陳泰龍遂與林清水、詹巧薇、張晉源等人共同基於行使使公務員登載不實公文書之概括犯意聯絡，先由陳泰龍依指示於民國93年4月3日前往泰國，並於同年月7日與陳玉婉在泰國曼谷市法拉坎農區註冊辦事處登記結婚，取得上開註冊辦事處核發之結婚登記書、結婚證書等文件後，陳泰龍即行返臺，並於同年5月19日持經我國駐泰國臺北經濟文化辦事處認證之上開結婚登記書、結婚證書等資料，至臺南縣永康市（改制前稱謂，以下沿用舊制稱謂）戶政事務所填寫結婚登記申請書，申請辦理其與陳玉婉之結婚登記，因此使上開戶政事務所僅有形式審查權之承辦公務員陷於錯誤，於形式上審核後，將陳泰龍與陳玉婉於93年4月7日結婚之不實事項，登載於其職務上所掌屬公文書之戶籍登記資料內，並據以核發戶籍謄本，而足以生損害於戶政機關對於戶政管理及戶籍登記資料維護之正確性\\n\""
      ]
    },
    {
      "cell_type": "code",
      "execution_count": null,
      "metadata": {
        "colab": {
          "base_uri": "https://localhost:8080/"
        },
        "id": "54NoUb4hDIj8",
        "outputId": "95a5616b-dd9f-48f6-ca1f-6da8eddd52dc"
      },
      "outputs": [
        {
          "name": "stdout",
          "output_type": "stream",
          "text": [
            " 1: 一、陳泰龍明知其與泰國籍女子陳玉婉（泰國名字為JARUWANWONGPRATOOM，陳玉婉涉嫌本案偽造文書部分，另經臺灣臺南地方法院檢察署檢察官通緝中）間並無結婚之真意，然因詹巧薇、張晉源等人欲找臺灣男子前往泰國與泰國女子辦理假結婚，林清水負責介紹臺灣男子予詹巧薇、張晉源等人以賺取新臺幣（下同）1萬元之仲介費，適陳泰龍依林清水於報紙上刊登之徵人廣告應徵時，由林清水告知泰國女子欲以假結婚之方式申請來臺居留工作，其若擔任假結婚之人頭老公，除不用負擔前往泰國之食宿、機票費用外，尚可獲取5、6萬元之報酬，迨陳泰龍應允同意後，林清水將其轉介紹予詹巧薇、張晉源等人，陳泰龍遂與林清水、詹巧薇、張晉源等人共同基於行使使公務員登載不實公文書之概括犯意聯絡，先由陳泰龍依指示於民國93年4月3日前往泰國，並於同年月7日與陳玉婉在泰國曼谷市法拉坎農區註冊辦事處登記結婚，取得上開註冊辦事處核發之結婚登記書、結婚證書等文件後，陳泰龍即行返臺，並於同年5月19日持經我國駐泰國臺北經濟文化辦事處認證之上開結婚登記書、結婚證書等資料，至臺南縣永康市（改制前稱謂，以下沿用舊制稱謂）戶政事務所填寫結婚登記申請書，申請辦理其與陳玉婉之結婚登記，因此使上開戶政事務所僅有形式審查權之承辦公務員陷於錯誤，於形式上審核後，將陳泰龍與陳玉婉於93年4月7日結婚之不實事項，登載於其職務上所掌屬公文書之戶籍登記資料內，並據以核發戶籍謄本，而足以生損害於戶政機關對於戶政管理及戶籍登記資料維護之正確性\n",
            "\n",
            "2: 迨陳玉婉來臺後，為取得居留身分，再由陳泰龍、陳玉婉承前概括之犯意聯絡，於同年6月14日及94年5月5日，均持前開登載不實之戶籍謄本等資料，先後向臺南縣政府警察局外事課申請核發陳玉婉之外僑居留證及申請居留證延期而連續行使之（業經檢察官當庭補充），經承辦人員實質審查結果，均未發覺陳泰龍與陳玉婉假結婚之實情，而發給陳玉婉居留證或核准延期，各足以生損害於主管機關對外僑居留管理之正確性\n",
            "\n",
            "3: 二、案經臺南市警察局（現改制為臺南市政府警察局，以下沿用舊制稱謂）第一分局報告臺灣臺南地方法院檢察署檢察官偵查起訴\n"
          ]
        }
      ],
      "source": [
        "print(get_breeze(query))"
      ]
    },
    {
      "cell_type": "code",
      "execution_count": null,
      "metadata": {
        "colab": {
          "base_uri": "https://localhost:8080/"
        },
        "id": "twqj8n32K6xd",
        "outputId": "5a680d99-8eae-4c70-e57d-a53dc4d16dde"
      },
      "outputs": [
        {
          "name": "stdout",
          "output_type": "stream",
          "text": [
            "我需要你幫我挑選出和犯罪情境最相關的三個句子。這些句子都是來自判決書，而我需要找出與犯罪相關的內容。請從以下給出的句子中挑選三個最符合犯罪情境的。\n",
            "1: (二)共犯詹巧薇、張晉源等人當時欲找臺灣人與泰國女子結婚，由共犯林清水於報紙上刊登徵人廣告，若應徵者符合與泰國人結婚之條件，便將應徵者介紹予共犯詹巧薇、張晉源等人，共犯林清水可從中獲取1萬元之仲介費，適被告依前開徵人廣告應徵，共犯林清水衡量其條件後告知其可至泰國結婚，其除不用負擔前往泰國之機票及食宿費用外，尚可獲取5至6萬元之報酬，被告應允同意後，共犯林清水將其介紹予詹巧薇、張晉源等人，被告即依指示前往泰國與為了來臺工作且無結婚真意的共犯陳玉婉辦理結婚事宜等情，業據共犯林清水於警詢時證稱：伊登報徵人到泰國結婚，被告看報紙來的，伊便轉介予共犯詹巧薇，由共犯詹巧薇安排後續到泰國結婚之事宜，被告除不用負擔前往泰國機票、食宿等費用，尚可獲取約5至6萬元酬勞，伊則可自共犯詹巧薇獲取約1萬元之仲介費用；伊只有將被告轉介予共犯詹巧薇，並未參與後續被告前往泰國之證照、機票、食宿等相關事宜；被告係因缺錢，為了賺取擔任人頭配偶的佣金5至6萬，並不是真的要與泰國人結婚，共犯陳玉婉係為了來臺灣工作賺錢，亦不是真的要與臺灣人結婚等語（見警三卷第2至3頁）；並於本院審理時具結證稱：當初共犯詹巧薇、張晉源等人欲找男子前往泰國結婚，伊曾刊登「男、女不限、經驗不拘」等內容之徵人廣告，被告見報應徵時，被告係因缺錢才來找伊，伊衡量被告條件後認為其只能利用結婚賺取報酬，伊才向其表示是要辦結婚，伊告知被告可安排其去泰國結婚，其不用負擔食宿及機票等費用，可實拿5至6萬元的報酬，被告同意後，伊將被告介紹予共犯詹巧薇、張晉源，共犯張晉源給付佣金1萬元予伊；伊與被告談論泰國結婚事宜時，伊與被告均不知被告之結婚對象為何人，伊亦未見過與被告結婚之泰國女子，伊僅介紹被告予共犯詹巧薇、張晉源等人，伊並未參予後續之泰國結婚、辦理結婚登記及居留申請等事情；被告曾給伊一部機車，當時被告表示要去別的地方，機車留在臺南無人使用，伊修理使用一段期間後，因再度壞掉便未再使用等語（見本院卷第68頁背面至71頁）\n",
            "2: 迨陳玉婉來臺後，為取得居留身分，再由陳泰龍、陳玉婉承前概括之犯意聯絡，於同年6月14日及94年5月5日，均持前開登載不實之戶籍謄本等資料，先後向臺南縣政府警察局外事課申請核發陳玉婉之外僑居留證及申請居留證延期而連續行使之（業經檢察官當庭補充），經承辦人員實質審查結果，均未發覺陳泰龍與陳玉婉假結婚之實情，而發給陳玉婉居留證或核准延期，各足以生損害於主管機關對外僑居留管理之正確性\n",
            "3: 二、案經臺南市警察局（現改制為臺南市政府警察局，以下沿用舊制稱謂）第一分局報告臺灣臺南地方法院檢察署檢察官偵查起訴\n",
            "4: 理由甲、程序方面：一、本件以下所引用具傳聞證據性質之供述證據，因本件被告陳泰龍、檢察官等人於本院準備程序進行時，均未爭執前開陳述之證據能力，且迄至本案言詞辯論終結前亦均未聲明異議，應視為已同意援引作為證據，又本院審酌前開證據作成時之情況及證據取得過程等節，並無非出於任意性、不正取供或其他違法不當情事，且客觀上亦無顯不可信之情況，堪認為適當，是依刑事訴訟法第159條之5規定，均有證據能力\n",
            "5: 二、卷附之被告及陳玉婉入出國日期紀錄各1份等書證，均非屬供述證據，皆無傳聞法則之適用，復均無違反法定程序取得之情形，依刑事訴訟法第158條之4規定之反面解釋，均應有證據能力\n",
            "6: 乙、實體方面：一、訊據被告固坦承於上開時、地，透過共犯林清水之介紹，先至泰國辦理與共犯陳玉婉之結婚手續，再前往臺南縣永康市戶政事務所辦理結婚登記，又前往臺南縣政府警察局外事課辦理共犯陳玉婉之外僑居留證及申請居留證延期之事實，惟矢口否認有何行使使公務員登載不實文書情事，於本院審理時辯稱：伊當時經濟狀況良好，因同居女友欲去日本工作而不願結婚，然伊希望結婚生子，遂透過共犯林清水之介紹與安排，共犯林清水先讓伊看過共犯陳玉婉之照片，伊再前往泰國與共犯陳玉婉結婚，伊僅負擔自己的來回機票錢及泰國住宿費用，其他結婚費用均由共犯林清水負擔，伊則贈送伊的一部機車予共犯林清水以為回報，伊並不認識共犯詹巧薇云云\n",
            "7: 經查：(一)被告於93年4月3日前往泰國，並於同年月7日與共犯陳玉婉在泰國曼谷市法拉坎農區註冊辦事處登記結婚，取得上開註冊辦事處核發之結婚登記書、結婚證書等文件後，被告即行返臺，並於同年5月19日持經我國駐泰國臺北經濟文化辦事處認證之上開結婚登記書、結婚證書等資料，至臺南縣永康市戶政事務所填寫結婚登記申請書，申請辦理其與共犯陳玉婉之結婚登記，並取得戶籍謄本\n",
            "8: 迨共犯陳玉婉來臺後，為取得居留身分，被告與共犯陳玉婉於同年6月14日及94年5月5日，均持前開戶籍謄本等資料，先後向臺南縣政府警察局外事課申請核發共犯陳玉婉之外僑居留證及申請居留證延期等情，業據被告供承在卷，並有結婚登記申請書、授權書各1份、結婚登記書、結婚證書各1份（含中文、泰文影本及我國駐泰國臺北經濟文化辦事處認證之資料）、93年6月14日及94年5月5日之外國人居留停留案件聲請表各1份、被告及共犯陳玉婉之入出國日期紀錄各1份、共犯陳玉婉之外僑居留資料查詢1份在卷可按（見警三卷即南市警一刑偵字第0994101517號卷第6至24、33頁）\n",
            "9: 上開事實，首堪認定\n",
            "10: 一、陳泰龍明知其與泰國籍女子陳玉婉（泰國名字為JARUWANWONGPRATOOM，陳玉婉涉嫌本案偽造文書部分，另經臺灣臺南地方法院檢察署檢察官通緝中）間並無結婚之真意，然因詹巧薇、張晉源等人欲找臺灣男子前往泰國與泰國女子辦理假結婚，林清水負責介紹臺灣男子予詹巧薇、張晉源等人以賺取新臺幣（下同）1萬元之仲介費，適陳泰龍依林清水於報紙上刊登之徵人廣告應徵時，由林清水告知泰國女子欲以假結婚之方式申請來臺居留工作，其若擔任假結婚之人頭老公，除不用負擔前往泰國之食宿、機票費用外，尚可獲取5、6萬元之報酬，迨陳泰龍應允同意後，林清水將其轉介紹予詹巧薇、張晉源等人，陳泰龍遂與林清水、詹巧薇、張晉源等人共同基於行使使公務員登載不實公文書之概括犯意聯絡，先由陳泰龍依指示於民國93年4月3日前往泰國，並於同年月7日與陳玉婉在泰國曼谷市法拉坎農區註冊辦事處登記結婚，取得上開註冊辦事處核發之結婚登記書、結婚證書等文件後，陳泰龍即行返臺，並於同年5月19日持經我國駐泰國臺北經濟文化辦事處認證之上開結婚登記書、結婚證書等資料，至臺南縣永康市（改制前稱謂，以下沿用舊制稱謂）戶政事務所填寫結婚登記申請書，申請辦理其與陳玉婉之結婚登記，因此使上開戶政事務所僅有形式審查權之承辦公務員陷於錯誤，於形式上審核後，將陳泰龍與陳玉婉於93年4月7日結婚之不實事項，登載於其職務上所掌屬公文書之戶籍登記資料內，並據以核發戶籍謄本，而足以生損害於戶政機關對於戶政管理及戶籍登記資料維護之正確性\n",
            "\n"
          ]
        }
      ],
      "source": [
        "print(query_test)"
      ]
    },
    {
      "cell_type": "code",
      "execution_count": null,
      "metadata": {
        "colab": {
          "base_uri": "https://localhost:8080/"
        },
        "id": "XQeAtC5287Ya",
        "outputId": "743e9637-27df-4594-e4e6-c2360f3cdf5c"
      },
      "outputs": [
        {
          "data": {
            "text/plain": [
              "2865"
            ]
          },
          "execution_count": 21,
          "metadata": {},
          "output_type": "execute_result"
        }
      ],
      "source": [
        "len(query_test)"
      ]
    },
    {
      "cell_type": "code",
      "execution_count": null,
      "metadata": {
        "colab": {
          "base_uri": "https://localhost:8080/"
        },
        "id": "ZPYKlrgfFjqH",
        "outputId": "3d259fdb-de37-41e7-b794-96342ffe59c8"
      },
      "outputs": [
        {
          "name": "stdout",
          "output_type": "stream",
          "text": [
            " 1: (二)共犯詹巧薇、張晉源等人當時欲找臺灣人與泰國女子結婚，由共犯林清水於報紙上刊登徵人廣告，若應徵者符合與泰國人結婚之條件，便將應徵者介紹予共犯詹巧薇、張晉源等人，共犯林清水可從中獲取1萬元之仲介費，適被告依前開徵人廣告應徵，共犯林清水衡量其條件後告知其可至泰國結婚，其除不用負擔前往泰國之機票及食宿費用外，尚可獲取5至6萬元之報酬，被告應允同意後，共犯林清水將其介紹予詹巧薇、張晉源等人，被告即依指示前往泰國與為了來臺工作且無結婚真意的共犯陳玉婉辦理結婚事宜等情，業據共犯林清水於警詢時證稱：伊登報徵人到泰國結婚，被告看報紙來的，伊便轉介予共犯詹巧薇，由共犯詹巧薇安排後續到泰國結婚之事宜，被告除不用負擔前往泰國機票、食宿等費用，尚可獲取約5至6萬元酬勞，伊則可自共犯詹巧薇獲取約1萬元之仲介費用；伊只有將被告轉介予共犯詹巧薇，並未參與後續被告前往泰國之證照、機票、食宿等相關事宜；被告係因缺錢，為了賺取擔任人頭配偶的佣金5至6萬，並不是真的要與泰國人結婚，共犯陳玉婉係為了來臺灣工作賺錢，亦不是真的要與臺灣人結婚等語（見警三卷第2至3頁）；並於本院審理時具結證稱：當初共犯詹巧薇、張晉源等人欲找男子前往泰國結婚，伊曾刊登「男、女不限、經驗不拘」等內容之徵人廣告，被告見報應徵時，被告係因缺錢才來找伊，伊衡量被告條件後認為其只能利用結婚賺取報酬，伊才向其表示是要辦結婚，伊告知被告可安排其去泰國結婚，其不用負擔食宿及機票等費用，可實拿5至6萬元的報酬，被告同意後，伊將被告介紹予共犯詹巧薇、張晉源，共犯張晉源給付佣金1萬元予伊；伊與被告談論泰國結婚事宜時，伊與被告均不知被告之結婚對象為何人，伊亦未見過與被告結婚之泰國女子，伊僅介紹被告予共犯詹巧薇、張晉源等人，伊並未參予後續之泰國結婚、辦理結婚登記及居留申請等事情；被告曾給伊一部機車，當時被告表示要去別的地方，機車留在臺南無人使用，伊修理使用一段期間後，因再度壞掉便未再使用等語（見本院卷第68頁背面至71頁）\n"
          ]
        }
      ],
      "source": [
        "print(get_breeze(query_test))"
      ]
    },
    {
      "cell_type": "code",
      "execution_count": null,
      "metadata": {
        "id": "Cdl8yJwpJ-yZ"
      },
      "outputs": [],
      "source": [
        "query = generate_prompt(prompt, train_facts_sentences[2][:10])"
      ]
    },
    {
      "cell_type": "code",
      "execution_count": null,
      "metadata": {
        "colab": {
          "base_uri": "https://localhost:8080/"
        },
        "id": "huZbK8xSKCzN",
        "outputId": "d4caed84-ede0-4202-d605-1b4fa6ad8c2e"
      },
      "outputs": [
        {
          "data": {
            "text/plain": [
              "1106"
            ]
          },
          "execution_count": 89,
          "metadata": {},
          "output_type": "execute_result"
        }
      ],
      "source": [
        "len(query)"
      ]
    },
    {
      "cell_type": "code",
      "execution_count": null,
      "metadata": {
        "colab": {
          "base_uri": "https://localhost:8080/"
        },
        "id": "3BCZR4u4KI7s",
        "outputId": "bc56929b-8e62-4508-cbb6-5f4b8c2df4de"
      },
      "outputs": [
        {
          "name": "stdout",
          "output_type": "stream",
          "text": [
            "我需要你幫我挑選出和犯罪情境最相關的三個句子。這些句子都是來自判決書，而我需要找出與犯罪相關的內容。請從以下給出的句子中挑選三個最符合犯罪情境的。\n",
            "1: 及理由一、犯罪事實：白秋霖與泰國籍女子WANGMONTRIDOKMAI（中文姓名白雪蘭，另為職權不起訴處分）均明知並無結婚之真意，為使WANGMONTRIDOKMAI得以結婚方式居留在臺灣地區工作，共同基於使公務員登載不實文書之概括犯意聯絡，於民國93年10月29日，至泰國曼谷，辦理假結婚手續，並在泰國取得不實之結婚證明書等相關資料，由白秋霖於同年11月18日，前往臺中縣沙鹿鎮戶政事務所，持上開結婚證件，申請辦理結婚戶籍登記，使該戶政事務所不知情之承辦人員將白秋霖與WANGMONTRIDOKMAI間虛偽辦理結婚之不實事項，登載於職務上掌管之戶籍登記資料之電子資訊檔案紀錄、戶籍謄本等公文書，足以生損害於戶政機關對於戶籍登記事項管理之正確性\n",
            "2: 白秋霖明知上開婚姻係虛偽婚姻，於94年3月30日具狀向本院訴請離婚，經本院以94年度家訴字第92號判決離婚後，於94年7月7日，前往臺中縣沙鹿鎮戶政事務所，辦理離婚登記，使該戶政事務所不知情之承辦人員將白秋霖與WANGMONTRIDOKMAI間虛偽辦理離婚之不實事項，登載於職務上掌管之戶籍登記資料之電子資訊檔案紀錄、戶籍謄本等公文書，足以生損害於戶政機關對於戶籍登記事項管理之正確性\n",
            "3: 嗣於99年4月6日，因WANGMONTRIDOKMAI逾期居留，為警查獲\n",
            "4: 二、證據：(一)證人WANGMONTRIDOKMAI、鄭陳旺、白文之證述\n",
            "5: (二)卷附之民事起訴狀、擬定書、言詞辯論筆錄、本院94年度家訴字第92號民事判決、結婚登記申請書、結婚證書、戶籍資料查詢結果\n",
            "6: (三)被告白秋霖之自白\n",
            "7: 三、本件經檢察官與被告於審判外達成協商之合意且被告已認罪，其合意內容為：被告願受科刑範圍為有期徒刑6月，減為有期徒刑3月，緩刑2年之宣告\n",
            "8: 經查，上開協商合意並無刑事訴訟法第455條之4第1項所列情形之一，檢察官聲請改依協商程序而為判決，本院爰不經言詞辯論，於協商合意範圍內為協商判決，合予敘明\n",
            "9: 四、應適用之法條：刑事訴訟法第455條之4第2項、第455條之8，刑法第2條第1項、第216條、214條、第74條第1項第1款、修正前刑法第28條、第56條、第41條第1項，刑法施行法第1條之1，修正前罰金罰鍰提高標準條例第2條，中華民國96年罪犯減刑條例第2條第1項第3款、第7條、第9條\n",
            "10: 五、附記事項：被告願支付新臺幣6萬元予台中市政府教育局（業於100年3月25日繳納）\n",
            "\n"
          ]
        }
      ],
      "source": [
        "print(query)"
      ]
    },
    {
      "cell_type": "code",
      "execution_count": null,
      "metadata": {
        "colab": {
          "base_uri": "https://localhost:8080/"
        },
        "id": "Ymc2__znKqic",
        "outputId": "daea95c3-2712-4c67-ff44-af799f804784"
      },
      "outputs": [
        {
          "name": "stdout",
          "output_type": "stream",
          "text": [
            "15\n",
            "17\n",
            "82\n",
            "95\n",
            "141\n",
            "221\n",
            "227\n",
            "257\n",
            "258\n",
            "376\n",
            "397\n",
            "424\n",
            "433\n"
          ]
        }
      ],
      "source": [
        "for i, data in enumerate(train_facts_sentences):\n",
        "  if(len(generate_prompt(\"\", data[:10]))<1000 and len(generate_prompt(\"\", data[:10]))>500):\n",
        "    print(i)"
      ]
    },
    {
      "cell_type": "code",
      "execution_count": null,
      "metadata": {
        "id": "KRzj6yO0Kcfp"
      },
      "outputs": [],
      "source": [
        "query = generate_prompt(prompt, train_facts_sentences[15][:10])"
      ]
    },
    {
      "cell_type": "code",
      "execution_count": null,
      "metadata": {
        "colab": {
          "base_uri": "https://localhost:8080/"
        },
        "id": "m2drX5H9KdtB",
        "outputId": "b19c7769-b736-4456-df7b-b8f9fccf56ef"
      },
      "outputs": [
        {
          "data": {
            "text/plain": [
              "1034"
            ]
          },
          "execution_count": 107,
          "metadata": {},
          "output_type": "execute_result"
        }
      ],
      "source": [
        "len(query)"
      ]
    },
    {
      "cell_type": "code",
      "execution_count": null,
      "metadata": {
        "colab": {
          "base_uri": "https://localhost:8080/"
        },
        "id": "Ie4yFCCvKjIv",
        "outputId": "66213572-f0cf-4984-b026-eecbf31f5018"
      },
      "outputs": [
        {
          "name": "stdout",
          "output_type": "stream",
          "text": [
            "我需要你幫我挑選出和犯罪情境最相關的三個句子。這些句子都是來自判決書，而我需要找出與犯罪相關的內容。請從以下給出的句子中挑選三個最符合犯罪情境的。\n",
            "1: 一、李炷烽曾為金門縣縣長，與李運成為叔姪關係\n",
            "2: 李炷烽與李運成、李根福3人於民國95年間，共同繼承金門縣金寧鄉○○○○○段000號土地（下稱系爭土地），渠等之應有部分均為三分之一\n",
            "3: 李炷烽明知李運成並未同意贈與上開土地之應有部分予社團法人金門縣李氏宗親會（下稱李氏宗親會），竟於102年5月間某日，撥打電話予李運成佯稱：因系爭土地與鄰近土地所有權人界線劃分不清，故需身分證及印章辦理並解決云云，李運成不疑有他，即將身分證及印鑑章寄送李炷烽\n",
            "4: 李炷烽即基於行使偽造私文書及使公務員登載不實之犯意，指示不知情之地政士李根遠於103年3月3日前某日，在「土地登記申請書」、「土地所有權贈與移轉契約書」、「切結書」、「不動產贈與契約」等文件上，接續盜蓋李運成之印章後，復將其中之「土地登記申請書」、「土地所有權贈與移轉契約書」、「切結書」（起訴書誤繕連同「不動產贈與契約」送件至金門縣地政局，應予更正）連同印鑑證明、契稅繳款證明及土地增值稅繳款證明等文件，於103年3月3日送件至金門縣地政局，表示李運成願贈與系爭土地之應有部分，致不知情之承辦公務員為形式審查後，將上開不實事項登載在職務上所掌之地籍簿冊等公文書內，並於103年4月7日移轉登記至李氏宗親會名下，足生損害於地政機關對於地籍管理正確性及李運成\n",
            "5: 嗣辦理完成後，李炷烽將系爭土地所有權狀及「不動產贈與契約」寄送李運成，欲使李運成接受系爭土地已贈與之事實，惟李運成心有不甘，乃提出告訴\n",
            "6: 二、案經李運成訴由臺灣士林地方法院檢察署察官呈請臺灣高等法院檢察署檢察長函轉最高法院檢察署移轉福建金門地方法院檢察署檢察官偵查後起訴\n",
            "7: 理由一、證據能力之說明：(一)按被告以外之人於偵查中向檢察官所為之陳述，除顯有不可信之情況者外，得為證據，刑事訴訟法第159條之1第2項定有明文\n",
            "8: 該規定揭示被告以外之人於偵查中向檢察官所為之陳述，原則上有證據能力，僅於顯有不可信之情況，始例外否定其得為證據\n",
            "9: 換言之，法院僅在被告主張並釋明有「不可信之情況」時，始應就有無該例外情形為調查審認\n",
            "10: 本院審酌，證人李運成、李根福、李錫榮及李根遠等人於偵查時之證述，並無受到外力干擾，依其等陳述時之外在環境及情況，並無任何顯不可信之情形，且俱經依法具結\n",
            "\n"
          ]
        }
      ],
      "source": [
        "print(query)"
      ]
    },
    {
      "cell_type": "code",
      "execution_count": null,
      "metadata": {
        "colab": {
          "base_uri": "https://localhost:8080/"
        },
        "id": "2EP09j3kryLe",
        "outputId": "cc0c90a4-c056-4826-814f-df8fff4e8664"
      },
      "outputs": [
        {
          "name": "stdout",
          "output_type": "stream",
          "text": [
            "11: 5219\n",
            "91: 5718\n",
            "93: 5921\n",
            "110: 5725\n",
            "114: 6447\n",
            "115: 7893\n",
            "127: 5780\n",
            "142: 5221\n",
            "206: 5105\n",
            "209: 7893\n",
            "212: 5063\n",
            "237: 5617\n",
            "264: 5571\n",
            "273: 5818\n",
            "309: 9777\n",
            "336: 6232\n",
            "346: 5640\n",
            "351: 5208\n",
            "355: 5268\n",
            "383: 5104\n",
            "391: 5562\n",
            "437: 8779\n",
            "443: 5244\n",
            "455: 6351\n"
          ]
        }
      ],
      "source": [
        "for i, fact_sentences in enumerate(train_facts_sentences):\n",
        "  query = generate_prompt(prompt, fact_sentences[:15])\n",
        "  if(len(query)>5000):\n",
        "    print(f'{i}: {len(query)}')"
      ]
    },
    {
      "cell_type": "code",
      "execution_count": null,
      "metadata": {
        "id": "x8BF0USCpHzS"
      },
      "outputs": [],
      "source": [
        "query = generate_prompt(prompt, train_facts_sentences[0])"
      ]
    },
    {
      "cell_type": "code",
      "execution_count": null,
      "metadata": {
        "colab": {
          "base_uri": "https://localhost:8080/"
        },
        "id": "gtbzXAlWpMjk",
        "outputId": "82111422-250a-453c-f15e-7872c7c66275"
      },
      "outputs": [
        {
          "data": {
            "text/plain": [
              "6816"
            ]
          },
          "execution_count": 17,
          "metadata": {},
          "output_type": "execute_result"
        }
      ],
      "source": [
        "len(query)"
      ]
    },
    {
      "cell_type": "code",
      "execution_count": null,
      "metadata": {
        "id": "0O6saXMFzTBm"
      },
      "outputs": [],
      "source": [
        "def remove_prefix_and_colon(text):\n",
        "    lines = text.strip().split('\\n')\n",
        "    processed_lines = []\n",
        "    for line in lines:\n",
        "        processed_line = line.split(':')[-1].strip()\n",
        "        processed_lines.append(processed_line)\n",
        "    return processed_lines"
      ]
    },
    {
      "cell_type": "code",
      "execution_count": null,
      "metadata": {
        "colab": {
          "base_uri": "https://localhost:8080/"
        },
        "id": "K3MYi46ixKu6",
        "outputId": "139ca7b6-cc99-4481-c654-96b0764e3e12"
      },
      "outputs": [
        {
          "name": "stdout",
          "output_type": "stream",
          "text": [
            "我需要你幫我挑選出和犯罪情境最相關的三個句子。這些句子都是來自判決書，而我需要找出與犯罪相關的內容。請從以下給出的句子中挑選三個最符合犯罪情境的。\n",
            "1: 一、陳泰龍明知其與泰國籍女子陳玉婉（泰國名字為JARUWANWONGPRATOOM，陳玉婉涉嫌本案偽造文書部分，另經臺灣臺南地方法院檢察署檢察官通緝中）間並無結婚之真意，然因詹巧薇、張晉源等人欲找臺灣男子前往泰國與泰國女子辦理假結婚，林清水負責介紹臺灣男子予詹巧薇、張晉源等人以賺取新臺幣（下同）1萬元之仲介費，適陳泰龍依林清水於報紙上刊登之徵人廣告應徵時，由林清水告知泰國女子欲以假結婚之方式申請來臺居留工作，其若擔任假結婚之人頭老公，除不用負擔前往泰國之食宿、機票費用外，尚可獲取5、6萬元之報酬，迨陳泰龍應允同意後，林清水將其轉介紹予詹巧薇、張晉源等人，陳泰龍遂與林清水、詹巧薇、張晉源等人共同基於行使使公務員登載不實公文書之概括犯意聯絡，先由陳泰龍依指示於民國93年4月3日前往泰國，並於同年月7日與陳玉婉在泰國曼谷市法拉坎農區註冊辦事處登記結婚，取得上開註冊辦事處核發之結婚登記書、結婚證書等文件後，陳泰龍即行返臺，並於同年5月19日持經我國駐泰國臺北經濟文化辦事處認證之上開結婚登記書、結婚證書等資料，至臺南縣永康市（改制前稱謂，以下沿用舊制稱謂）戶政事務所填寫結婚登記申請書，申請辦理其與陳玉婉之結婚登記，因此使上開戶政事務所僅有形式審查權之承辦公務員陷於錯誤，於形式上審核後，將陳泰龍與陳玉婉於93年4月7日結婚之不實事項，登載於其職務上所掌屬公文書之戶籍登記資料內，並據以核發戶籍謄本，而足以生損害於戶政機關對於戶政管理及戶籍登記資料維護之正確性\n",
            "2: 迨陳玉婉來臺後，為取得居留身分，再由陳泰龍、陳玉婉承前概括之犯意聯絡，於同年6月14日及94年5月5日，均持前開登載不實之戶籍謄本等資料，先後向臺南縣政府警察局外事課申請核發陳玉婉之外僑居留證及申請居留證延期而連續行使之（業經檢察官當庭補充），經承辦人員實質審查結果，均未發覺陳泰龍與陳玉婉假結婚之實情，而發給陳玉婉居留證或核准延期，各足以生損害於主管機關對外僑居留管理之正確性\n",
            "3: 二、案經臺南市警察局（現改制為臺南市政府警察局，以下沿用舊制稱謂）第一分局報告臺灣臺南地方法院檢察署檢察官偵查起訴\n",
            "4: 理由甲、程序方面：一、本件以下所引用具傳聞證據性質之供述證據，因本件被告陳泰龍、檢察官等人於本院準備程序進行時，均未爭執前開陳述之證據能力，且迄至本案言詞辯論終結前亦均未聲明異議，應視為已同意援引作為證據，又本院審酌前開證據作成時之情況及證據取得過程等節，並無非出於任意性、不正取供或其他違法不當情事，且客觀上亦無顯不可信之情況，堪認為適當，是依刑事訴訟法第159條之5規定，均有證據能力\n",
            "5: 二、卷附之被告及陳玉婉入出國日期紀錄各1份等書證，均非屬供述證據，皆無傳聞法則之適用，復均無違反法定程序取得之情形，依刑事訴訟法第158條之4規定之反面解釋，均應有證據能力\n",
            "6: 乙、實體方面：一、訊據被告固坦承於上開時、地，透過共犯林清水之介紹，先至泰國辦理與共犯陳玉婉之結婚手續，再前往臺南縣永康市戶政事務所辦理結婚登記，又前往臺南縣政府警察局外事課辦理共犯陳玉婉之外僑居留證及申請居留證延期之事實，惟矢口否認有何行使使公務員登載不實文書情事，於本院審理時辯稱：伊當時經濟狀況良好，因同居女友欲去日本工作而不願結婚，然伊希望結婚生子，遂透過共犯林清水之介紹與安排，共犯林清水先讓伊看過共犯陳玉婉之照片，伊再前往泰國與共犯陳玉婉結婚，伊僅負擔自己的來回機票錢及泰國住宿費用，其他結婚費用均由共犯林清水負擔，伊則贈送伊的一部機車予共犯林清水以為回報，伊並不認識共犯詹巧薇云云\n",
            "7: 經查：(一)被告於93年4月3日前往泰國，並於同年月7日與共犯陳玉婉在泰國曼谷市法拉坎農區註冊辦事處登記結婚，取得上開註冊辦事處核發之結婚登記書、結婚證書等文件後，被告即行返臺，並於同年5月19日持經我國駐泰國臺北經濟文化辦事處認證之上開結婚登記書、結婚證書等資料，至臺南縣永康市戶政事務所填寫結婚登記申請書，申請辦理其與共犯陳玉婉之結婚登記，並取得戶籍謄本\n",
            "8: 迨共犯陳玉婉來臺後，為取得居留身分，被告與共犯陳玉婉於同年6月14日及94年5月5日，均持前開戶籍謄本等資料，先後向臺南縣政府警察局外事課申請核發共犯陳玉婉之外僑居留證及申請居留證延期等情，業據被告供承在卷，並有結婚登記申請書、授權書各1份、結婚登記書、結婚證書各1份（含中文、泰文影本及我國駐泰國臺北經濟文化辦事處認證之資料）、93年6月14日及94年5月5日之外國人居留停留案件聲請表各1份、被告及共犯陳玉婉之入出國日期紀錄各1份、共犯陳玉婉之外僑居留資料查詢1份在卷可按（見警三卷即南市警一刑偵字第0994101517號卷第6至24、33頁）\n",
            "9: 上開事實，首堪認定\n",
            "\n",
            " 1: 一、陳泰龍明知其與泰國籍女子陳玉婉（泰國名字為JARUWANWONGPRATOOM，陳玉婉涉嫌本案偽造文書部分，另經臺灣臺南地方法院檢察署檢察官通緝中）間並無結婚之真意，然因詹巧薇、張晉源等人欲找臺灣男子前往泰國與泰國女子辦理假結婚，林清水負責介紹臺灣男子予詹巧薇、張晉源等人以賺取新臺幣（下同）1萬元之仲介費，適陳泰龍依林清水於報紙上刊登之徵人廣告應徵時，由林清水告知泰國女子欲以假結婚之方式申請來臺居留工作，其若擔任假結婚之人頭老公，除不用負擔前往泰國之食宿、機票費用外，尚可獲取5、6萬元之報酬，迨陳泰龍應允同意後，林清水將其轉介紹予詹巧薇、張晉源等人，陳泰龍遂與林清水、詹巧薇、張晉源等人共同基於行使使公務員登載不實公文書之概括犯意聯絡，先由陳泰龍依指示於民國93年4月3日前往泰國，並於同年月7日與陳玉婉在泰國曼谷市法拉坎農區註冊辦事處登記結婚，取得上開註冊辦事處核發之結婚登記書、結婚證書等文件後，陳泰龍即行返臺，並於同年5月19日持經我國駐泰國臺北經濟文化辦事處認證之上開結婚登記書、結婚證書等資料，至臺南縣永康市（改制前稱謂，以下沿用舊制稱謂）戶政事務所填寫結婚登記申請書，申請辦理其與陳玉婉之結婚登記，因此使上開戶政事務所僅有形式審查權之承辦公務員陷於錯誤，於形式上審核後，將陳泰龍與陳玉婉於93年4月7日結婚之不實事項，登載於其職務上所掌屬公文書之戶籍登記資料內，並據以核發戶籍謄本，而足以生損害於戶政機關對於戶政管理及戶籍登記資料維護之正確性\n",
            "2: 迨陳玉婉來臺後，為取得居留身分，再由陳泰龍、陳玉婉承前概括之犯意聯絡，於同年6月14日及94年5月5日，均持前開登載不實之戶籍謄本等資料，先後向臺南縣政府警察局外事課申請核發陳玉婉之外僑居留證及申請居留證延期而連續行使之（業經檢察官當庭補充），經承辦人員實質審查結果，均未發覺陳泰龍與陳玉婉假結婚之實情，而發給陳玉婉居留證或核准延期，各足以生損害於主管機關對外僑居留管理之正確性\n",
            "3: 二、案經臺南市警察局（現改制為臺南市政府警察局，以下沿用舊制稱謂）第一分局報告臺灣臺南地方法院檢察署檢察官偵查起訴\n",
            "我需要你幫我挑選出和犯罪情境最相關的三個句子。這些句子都是來自判決書，而我需要找出與犯罪相關的內容。請從以下給出的句子中挑選三個最符合犯罪情境的。\n",
            "1: 而共犯林清水於93、94年間，因仲介臺灣人民陳益昌、林哲銘、廖震南、陳朝榮、王照明等5人擔任人頭老公與泰國女子假結婚，陳益昌等5人均獲取5至7萬元報酬等情，經本院以95年度簡上字第330號判處有期徒刑7月確定，另共犯詹巧薇於92年間，因與共犯張晉源等人共同仲介臺灣人民莊國寶、林世欽、蔡明峰等3人擔任人頭老公與泰國女子假結婚等情，經本院以99年度簡字第1313號判處有期徒刑4月並減為有期徒刑2月確定，又共犯林清水、詹巧薇因本案被告與共犯陳玉婉辦理假結婚致涉嫌共同行使使公務員登載不實文書犯行部分，經臺灣臺南地方法院檢察官認為與前開95年度簡上字第330號、99年度簡字第1313號論罪科刑部分有連續犯之裁判上一罪關係，故均以99年度偵字第17571、17771號、100年度偵字第4564號為不起訴處分確定，有前開判決書及不起訴處分書各1份在卷可按，堪認共犯林清水、詹巧薇、張晉源確曾仲介或安排臺灣男子前往泰國與泰國女子假結婚無訛\n",
            "2: 又被告與共犯林清水並無任何仇怨糾葛，被告尚提供一部機車予共犯林清水使用，衡諸常情，共犯林清水尚無隨意誣指構陷被告之動機，復衡以其於本院中具結後證述上情歷歷，核與其警詢中證述之情節大致相符，苟非親身經歷，尚均無圖陷被告入罪而自行擔負偽證罪責風險之必要，顯見其確係依憑當時親身見聞所為之證述，參以被告於93年4月26日將戶籍遷移寄放至共犯林清水籍設於臺南縣永康市○○路152號之住所，其戶籍遷入目的係為了便利結婚登記之辦理，被告亦依此戶籍地向臺南縣永康市戶政事務所辦理其與共犯陳玉婉之結婚登記等情，業據被告於本院審理時供承伊戶籍寄放於前開住址不諱，及共犯林清水於本院審理時具結證稱：被告將戶籍寄放於伊住所是為了辦理結婚，要拿證件辦理結婚登記比較方便等語（見本院卷第70頁），並有被告及共犯林清水之個人戶籍資料查詢結果各1份、結婚登記申請書1份在卷可佐，而前開95年度簡上字第330號案件中之人頭老公林哲銘亦由共犯林清水提供前開住所供其設籍，並依該戶籍地辦理結婚登記等情，亦據證人林哲銘於警詢時證述明確（見警二卷第19頁），並有證人林哲銘之結婚登記申請書1紙附卷可佐（見警二卷第46頁），益徵被告確係共犯林清水仲介之人頭老公的其中一人甚明\n",
            "3: (三)綜上所述，被告與共犯陳玉婉確係假結婚無訛，是被告前開所辯，要屬卸責之詞，殊無可採\n",
            "4: 本案事證至臻明確，被告上開犯行堪以認定，應予依法論科\n",
            "5: 二、按被告行為後，刑法業於民國94年2月2日修正公布，並自95年7月1日施行\n",
            "6: 按行為後法律有變更者，適用行為時之法律，但行為後之法律有利於行為人者，適用最有利於行為人之法律，修正後刑法第2條第1項定有明文\n",
            "7: 該規定係規範行為後法律變更所生新舊法律比較適用之準據法，是刑法第2條本身雖經修正，尚無比較新舊法之問題，應一律適用裁判時之刑法第2條規定\n",
            "8: 次按本次刑法修正之新舊法比較，應就罪刑有關之共犯、未遂犯、想像競合犯、牽連犯、連續犯、結合犯、以及累犯加重、自首減輕暨其他法定加減原因（如身分加減）與加減例等一切情形，綜其全部罪刑之結果而為比較，有最高法院95年5月23日95年度第8次刑庭會議決議可資參照\n",
            "9: 經查：(一)依增訂之刑法施行法第1條之1：「中華民國94年1月7日刑法修正施行後，刑法分則編所定罰金之貨幣單位為新臺幣\n",
            "\n",
            " 1: 而共犯林清水於93、94年間，因仲介臺灣人民陳益昌、林哲銘、廖震南、陳朝榮、王照明等5人擔任人頭老公與泰國女子假結婚，陳益昌等5人均獲取5至7萬元報酬等情，經本院以95年度簡上字第330號判處有期徒刑7月確定，另共犯詹巧薇於92年間，因與共犯張晉源等人共同仲介臺灣人民莊國寶、林世欽、蔡明峰等3人擔任人頭老公與泰國女子假結婚等情，經本院以99年度簡字第1313號判處有期徒刑4月並減為有期徒刑2月確定，又共犯林清水、詹巧薇因本案被告與共犯陳玉婉辦理假結婚致涉嫌共同行使使公務員登載不實文書犯行部分，經臺灣臺南地方法院檢察官認為與前開95年度簡上字第330號、99年度簡字第1313號論罪科刑部分有連續犯之裁判上一罪關係，故均以99年度偵字第17571、17771號、100年度偵字第4564號為不起訴處分確定，有前開判決書及不起訴處分書各1份在卷可按，堪認共犯林清水、詹巧薇、張晉源確曾仲介或安排臺灣男子前往泰國與泰國女子假結婚無訛\n",
            "\n",
            "2: 又被告與共犯林清水並無任何仇怨糾葛，被告尚提供一部機車予共犯林清水使用，衡諸常情，共犯林清水尚無隨意誣指構陷被告之動機，復衡以其於本院中具結後證述上情歷歷，核與其警詢中證述之情節大致相符，苟非親身經歷，尚均無圖陷被告入罪而自行擔負偽證罪責風險之必要，顯見其確係依憑當時親身見聞所為之證述，參以被告於93年4月26日將戶籍遷移寄放至共犯林清水籍設於臺南縣永康市○○路152號之住所，其戶籍遷入目的係為了便利結婚登記之辦理，被告亦依此戶籍地向臺南縣永康市戶政事務所辦理其與共犯陳玉婉之結婚登記等情，業據被告於本院審理時供承伊戶籍寄放於前開住址不諱，及共犯林清水於本院審理時具結證稱：被告將戶籍寄放於伊住所是為了辦理結婚，要拿證件辦理結婚登記比較方便等語（見本院卷第70頁），並有被告及共犯林清水之個人戶籍資料查詢結果各1份、結婚登記申請書1份在卷可佐，而前開95年度簡上字第330號案件中之人頭老公林哲銘亦由共犯林清水提供前開住所供其設籍，並依該戶籍地辦理結婚登記等情，亦據證人林哲銘於警詢時證述明確（見警二卷第19頁），並有證人林哲銘之結婚登記申請書1紙附卷可佐（見警二卷第46頁），益徵被告確係共犯林清水仲介之人頭老公的其中一人甚明\n",
            "\n",
            "3: (三)綜上所述，被告與共犯陳玉婉確係假結婚無訛，是被告前開所辯，要屬卸責之詞，殊無可採\n",
            "我需要你幫我挑選出和犯罪情境最相關的三個句子。這些句子都是來自判決書，而我需要找出與犯罪相關的內容。請從以下給出的句子中挑選三個最符合犯罪情境的。\n",
            "1: 但72年6月26日至94年1月7日新增或修正之條文，就其所定數額提高為3倍\n",
            "2: 」，是比較修正後刑法施行法第1條之1第2項與罰金罰鍰提高標準條例第1條之結果，因兩者之罰金最高額度相同而無有利不利之情形，自無刑法第2條第1項之適用，應逕依現行有效且具特別法性質之刑法施行法第1條之1的規定\n",
            "3: (二)刑法第33條第5款修正為：「主刑之種類如下：五、罰金：新臺幣1000元以上，以百元計算之\n",
            "4: 」，是依修正後之法律，刑法第335條第1項之侵占罪所得科處之罰金刑最低為新臺幣1000元，而另依修正前刑法第33條第5款及罰金罰鍰提高標準條例第1條前段規定，罰金最低額則為銀元1元折算為新臺幣3元，故比較新舊法之結果，自以修正前刑法第33條第5款規定較有利於被告\n",
            "5: (三)刑法第28條修正前規定為：「2人以上共同實施犯罪之行為者，皆為正犯\n",
            "6: 」，而修正後規定為：「2人以上共同實行犯罪之行為者，皆為正犯\n",
            "7: 」，是依修正後之規定係將共同正犯限於直接從事構成犯罪事實之行為者，而排除陰謀共同正犯及預謀共同正犯之類型，故修正後共同正犯之可罰性要件之範圍業已限縮\n",
            "8: 惟本件被告既係直接從事構成犯罪事實之行為，則比較修正前後規定之結果，並無有利或不利之情形，應逕依修正後規定\n",
            "9: (四)刑法第56條連續犯之規定於刑法修正後業經刪除，是新法修正施行後，行為人之數犯罪行為便須分論併罰\n",
            "\n",
            " 1: 但72年6月26日至94年1月7日新增或修正之條文，就其所定數額提高為3倍\n",
            "2: 」，是比較修正後刑法施行法第1條之1第2項與罰金罰鍰提高標準條例第1條之結果，因兩者之罰金最高額度相同而無有利不利之情形，自無刑法第2條第1項之適用，應逕依現行有效且具特別法性質之刑法施行法第1條之1的規定\n",
            "3: (二)刑法第33條第5款修正為：「主刑之種類如下：五、罰金：新臺幣1000元以上，以百元計算之\n",
            "4: 」，是依修正後之法律，刑法第335條第1項之侵占罪所得科處之罰金刑最低為新臺幣1000元，而另依修正前刑法第33條第5款及罰金罰鍰提高標準條例第1條前段規定，罰金最低額則為銀元1元折算為新臺幣3元，故比較新舊法之結果，自以修正前刑法第33條第5款規定較有利於被告\n",
            "5: (三)刑法第28條修正前規定為：「2人以上共同實施犯罪之行為者，皆為正犯\n",
            "6: 」，而修正後規定為：「2人以上共同實行犯罪之行為者，皆為正犯\n",
            "7: 」，是依修正後之規定係將共同正犯限於直接從事構成犯罪事實之行為者，而排除陰謀共同正犯及預謀共同正犯之類型，故修正後共同正犯之可罰性要件之範圍業已限縮\n",
            "8: 惟本件被告既係直接從事構成犯罪事實之行為，則比較修正前後規定之結果，並無有利或不利之情形，應逕依修正後規定\n",
            "9: (四)刑法第56條連續犯之規定於刑法修正後業經刪除，是新法修正施行後，行為人之數犯罪行為便須分論併罰\n",
            "我需要你幫我挑選出和犯罪情境最相關的三個句子。這些句子都是來自判決書，而我需要找出與犯罪相關的內容。請從以下給出的句子中挑選三個最符合犯罪情境的。\n",
            "1: 若依舊法之規定，以一罪論而僅加重其刑至2分之1，但若依新法則須分科併罰，經比較之結果，自以修正前刑法第56條對被告較為有利\n",
            "2: (五)綜上，本院綜合被告所涉上揭全部罪行之一切情形而為比較，揆諸前揭最高法院決議及刑法第2條第1項前段規定，被告適用行為時即修正前刑法之相關規定，對其較為有利，自應一體適用修正前刑法規定予以處斷\n",
            "3: 三、論罪科刑：(一)核被告所為，係犯刑法第216條、第214條之行使使公務員登載不實文書罪\n",
            "4: 被告與共犯林清水、詹巧薇、張晉源等人就上揭犯行，彼此間有犯意聯絡及行為分擔，為共同正犯\n",
            "5: 被告使公務員登載不實事項於其所掌公文書之低度行為，為行使之高度行為所吸收，不另論罪\n",
            "6: 被告於93年5月19日、93年6月14日及94年5月5日先後多次行使使公務員登載不實文書之犯行，時間密接，所犯係構成要件相同之罪名，顯係基於概括犯意反覆為之，為連續犯，應依修正前刑法第56條規定論以一罪，並加重其刑\n",
            "7: (二)爰審酌被告為圖私利，竟藉由假結婚之方式便利共犯陳玉婉入境居留，損害戶政機關結婚登記及主管機關對於外國人居留管理之正確性，對社會秩序、善良風俗及警政機關對治安之管理均非無潛在之危害，復參酌被告犯後自始否認犯行，未見悔意，及其智識程度、生活狀況等一切情狀，量處如主文所示之刑，以資懲儆\n",
            "8: 另被告行為後，關於易科罰金之折算標準，依修正前刑法第41條第1項前段及廢止前罰金罰鍰提高標準條例第2條，係以銀元1百元、2百元或3百元，即新臺幣3百元、6百元或9百元折算1日，而依修正後刑法第41條第1項前段規定，則係以新臺幣1千元、2千元或3千元折算1日，故依刑法第2條第1項前段之規定來比較新舊法之結果，應適用修正前之規定較為有利，爰依修正前刑法第41條第1項前段及廢止前罰金罰鍰提高標準條例第2條諭知易科罰金之折算標準\n",
            "9: 又被告之犯罪時間係在96年4月24日以前，所犯合於中華民國九十六年罪犯減刑條例之減刑條件，應依該條例第2條第1項第3款、第7條及第9條，減其宣告刑2分之1，並諭知易科罰金之折算標準\n",
            "\n",
            " 1: 若依舊法之規定，以一罪論而僅加重其刑至2分之1，但若依新法則須分科併罰，經比較之結果，自以修正前刑法第56條對被告較為有利\n",
            "2: (五)綜上，本院綜合被告所涉上揭全部罪行之一切情形而為比較，揆諸前揭最高法院決議及刑法第2條第1項前段規定，被告適用行為時即修正前刑法之相關規定，對其較為有利，自應一體適用修正前刑法規定予以處斷\n",
            "3: 三、論罪科刑：(一)核被告所為，係犯刑法第216條、第214條之行使使公務員登載不實文書罪\n",
            "我需要你幫我挑選出和犯罪情境最相關的三個句子。這些句子都是來自判決書，而我需要找出與犯罪相關的內容。請從以下給出的句子中挑選三個最符合犯罪情境的。\n",
            "1: 部分之數行為，發生在新法施行前者，新法施行後，該部分適用最有利於行為人之法律\n",
            "2: 若其中部分之一行為或數行為，發生在新法施行後者，該部分不能論以連續犯（最高法院95年度第8次刑事庭會議決議參照，即該決議五數罪併罰之(四)連續犯部分）\n",
            "3: 查被告涉嫌於96年5月28日及96年9月3日與共犯陳玉婉共同持前開登載不實之戶籍謄本等資料，先後向臺南縣政府警察局外事課申請核發陳玉婉之延期居留等事宜，有96年5月28日及96年9月3日之外國人居留停留案件申請表各1份附卷可憑，被告此部分涉嫌共同行使使公務員登載不實文書犯行，均在95年7月1日刑法修正廢除第56條連續犯規定以後，亦未據檢察官記載於起訴書犯罪事實內，揆諸前開說明，此部分犯行與前開論罪科刑部份無連續犯之裁判上一罪關係，自非本院得審判之範圍，附此敘明之\n",
            "4: 據上論斷，應依刑事訴訟法第299條第1項前段，刑法第2條第1項前段、第28條、第216條、第214條，修正前刑法第56條、第41條第1項前段，刑法施行法第1條之1，修正廢止前罰金罰鍰提高標準條例第2條，中華民國96年罪犯減刑條例第2條第1項第3款、第7條、第9條，判決如主文\n",
            "5: 本案經檢察官莊玲如到庭執行職務\n",
            "6: 中華民國101年1月20日刑事第四庭審判長法官林逸梅法官鄭文祺法官莊政達以上正本證明與原本無異\n",
            "7: 如不服本判決應於收受本判後10日內向本院提出上訴書狀，並應敘述具體理由\n",
            "8: 其未敘述上訴理由者，應於上訴期間屆滿後20日內向本院補提理由書狀（均須按他造當事人之人數附繕本）「切勿逕送上級法院」\n",
            "9: 書記官吳昕韋中華民國101年2月1日附錄本案論罪科刑法條：中華民國刑法第214條（使公務員登載不實罪）明知為不實之事項，而使公務員登載於職務上所掌之公文書，足以生損害於公眾或他人者，處3年以下有期徒刑、拘役或5百元以下罰金\n",
            "\n",
            " 1: 部分之數行為，發生在新法施行前者，新法施行後，該部分適用最有利於行為人之法律\n",
            "2: 若其中部分之一行為或數行為，發生在新法施行後者，該部分不能論以連續犯（最高法院95年度第8次刑事庭會議決議參照，即該決議五數罪併罰之(四)連續犯部分）\n",
            "3: 查被告涉嫌於96年5月28日及96年9月3日與共犯陳玉婉共同持前開登載不實之戶籍謄本等資料，先後向臺南縣政府警察局外事課申請核發陳玉婉之延期居留等事宜，有96年5月28日及96年9月3日之外國人居留停留案件申請表各1份附卷可憑，被告此部分涉嫌共同行使使公務員登載不實文書犯行，均在95年7月1日刑法修正廢除第56條連續犯規定以後，亦未據檢察官記載於起訴書犯罪事實內，揆諸前開說明，此部分犯行與前開論罪科刑部份無連續犯之裁判上一罪關係，自非本院得審判之範圍，附此敘明之\n",
            "我需要你幫我挑選出和犯罪情境最相關的三個句子。這些句子都是來自判決書，而我需要找出與犯罪相關的內容。請從以下給出的句子中挑選三個最符合犯罪情境的。\n",
            "1: \n",
            "\n",
            " 1: 被告人於106年1月1日凌晨2時30分許，駕駛車牌號碼000-0000號自小客車，沿桃園市蘆竹區中正路由南往北方向行駛，行經中正路與南崁路口時，因紅燈右轉，為桃園市政府警察局蘆竹分局交通分隊警員攔停盤查，被告人於攔停盤查過程中，因心虛，將車內之毒品吸食器丟棄於路旁，經警員發現後，被告人始坦承持有毒品吸食器，並同意警員搜索其車輛，在車內查獲第二級毒品安非他命1包（毛重0.22公克）。\n",
            "\n",
            "2: \n",
            "被告人於106年1月1日凌晨2時30分許，駕駛車牌號碼000-0000號自小客車，沿桃園市蘆竹區中正路由南往北方向行駛，行經中正路與南崁路口時，因紅燈右轉，為桃園市政府警察局蘆竹分局交通分隊警員攔停盤查，被告人於攔停盤查過程中，因心虛，將車內之毒品吸食器丟棄於路旁，經警員發現後，被告人始坦承持有毒品吸食器，並同意警員搜索其車輛，在車內查獲第二級毒品安非他命1包（毛重0.22公克）。\n",
            "\n",
            "3: \n",
            "被告人於106年1月1日凌晨2時30分許，駕駛車牌號碼000-0000號自小客車，沿桃園市蘆竹區中正路由南往北方向行駛，行經中正路與南崁路口時，因紅燈右轉，為桃園市政府警察局蘆竹分局交通分隊警員攔停盤查，被告人於攔停盤查過程中，因心虛，將車內之毒品吸食器丟棄於路旁，經警員發現後，被告人始坦承持有毒品吸食器，並同意警員搜索其車輛，在車內查獲第二級毒品安非他命1包（毛重0.22公克）。\n",
            "\n",
            "4: \n",
            "被告人於106年1月1日凌晨2時30分許，駕駛車牌號碼000-0000號自小客車，沿桃園市蘆竹區中正路由南往北方向行駛，行經中正路與南崁路口時，因紅燈右轉，為桃園市政府警察局蘆竹分局交通分隊警員攔停盤查，被告人於攔停盤查過程中，因心虛，將車內之毒品吸食器丟棄於路旁，經警員發現後，被告人始坦承持有毒品吸食器，並同意警員搜索其車輛，在車內查獲第二級毒品安非他命1包（毛重0.22公克）。\n",
            "\n",
            "5: \n",
            "被告人於106年1月1日凌晨2時30分許，駕駛車牌號碼000-0000號自小客車，沿桃園市蘆竹區中正路由南往北方向行駛，行經中正路與南崁路口時，因紅燈右轉，為桃園市政府警察局蘆竹分局交通分隊警員攔停盤查，被告人於攔停盤查過程中，因心虛，將車內之毒品吸食器丟棄於路旁，經警員發現後，被告人始坦承持有毒品吸食器，並同意警員搜索其車輛，在車內查獲第二級毒品安非他命1包（毛重0.22公克）。\n",
            "\n",
            "6: \n",
            "被告人於106年1月1日凌晨2時30分許，駕駛車牌號碼000-0000號自小客車，沿桃園市蘆竹區中正路由南往北方向行駛，行經中正路與南崁路口時，因紅燈右轉，為桃園市政府警察局蘆竹分局交通分隊警員攔停盤查，被告人於攔停盤查過程中，因心虛，將車內之毒品吸食器丟棄於路旁，經警員發現後，被告人始坦承持有毒品吸食器，並同意警員搜索其車輛，在車內查獲第二級毒品安非他命1包（毛重0.22公克）。\n",
            "\n",
            "7: \n",
            "被告人於106年1月1日凌晨2時30分許，駕駛車牌號碼000-0000號自小客車，沿桃園市蘆竹區中正路由南往北方向行駛，行經中正路與南崁路口時，因紅燈右轉，為桃園市政府警察局蘆竹分局交通分隊警員攔停盤查，被告人於攔停盤查過程中，因心虛，將車內之毒品吸食器丟棄於路旁，經警員\n"
          ]
        }
      ],
      "source": [
        "important_sentences = []\n",
        "for i in range(0, len(train_facts_sentences[0]), 10):\n",
        "  query = generate_prompt(prompt, train_facts_sentences[0][i:i+9])\n",
        "  ans = get_breeze(query)\n",
        "  important_sentences = important_sentences + remove_prefix_and_colon(ans)\n",
        "  print(query)\n",
        "  print(ans)"
      ]
    },
    {
      "cell_type": "code",
      "execution_count": null,
      "metadata": {
        "colab": {
          "base_uri": "https://localhost:8080/"
        },
        "id": "Kr9AwwqLzhmi",
        "outputId": "2b9a53de-3640-429e-db01-9e91c6a333b5"
      },
      "outputs": [
        {
          "data": {
            "text/plain": [
              "['一、陳泰龍明知其與泰國籍女子陳玉婉（泰國名字為JARUWANWONGPRATOOM，陳玉婉涉嫌本案偽造文書部分，另經臺灣臺南地方法院檢察署檢察官通緝中）間並無結婚之真意，然因詹巧薇、張晉源等人欲找臺灣男子前往泰國與泰國女子辦理假結婚，林清水負責介紹臺灣男子予詹巧薇、張晉源等人以賺取新臺幣（下同）1萬元之仲介費，適陳泰龍依林清水於報紙上刊登之徵人廣告應徵時，由林清水告知泰國女子欲以假結婚之方式申請來臺居留工作，其若擔任假結婚之人頭老公，除不用負擔前往泰國之食宿、機票費用外，尚可獲取5、6萬元之報酬，迨陳泰龍應允同意後，林清水將其轉介紹予詹巧薇、張晉源等人，陳泰龍遂與林清水、詹巧薇、張晉源等人共同基於行使使公務員登載不實公文書之概括犯意聯絡，先由陳泰龍依指示於民國93年4月3日前往泰國，並於同年月7日與陳玉婉在泰國曼谷市法拉坎農區註冊辦事處登記結婚，取得上開註冊辦事處核發之結婚登記書、結婚證書等文件後，陳泰龍即行返臺，並於同年5月19日持經我國駐泰國臺北經濟文化辦事處認證之上開結婚登記書、結婚證書等資料，至臺南縣永康市（改制前稱謂，以下沿用舊制稱謂）戶政事務所填寫結婚登記申請書，申請辦理其與陳玉婉之結婚登記，因此使上開戶政事務所僅有形式審查權之承辦公務員陷於錯誤，於形式上審核後，將陳泰龍與陳玉婉於93年4月7日結婚之不實事項，登載於其職務上所掌屬公文書之戶籍登記資料內，並據以核發戶籍謄本，而足以生損害於戶政機關對於戶政管理及戶籍登記資料維護之正確性',\n",
              " '迨陳玉婉來臺後，為取得居留身分，再由陳泰龍、陳玉婉承前概括之犯意聯絡，於同年6月14日及94年5月5日，均持前開登載不實之戶籍謄本等資料，先後向臺南縣政府警察局外事課申請核發陳玉婉之外僑居留證及申請居留證延期而連續行使之（業經檢察官當庭補充），經承辦人員實質審查結果，均未發覺陳泰龍與陳玉婉假結婚之實情，而發給陳玉婉居留證或核准延期，各足以生損害於主管機關對外僑居留管理之正確性',\n",
              " '二、案經臺南市警察局（現改制為臺南市政府警察局，以下沿用舊制稱謂）第一分局報告臺灣臺南地方法院檢察署檢察官偵查起訴',\n",
              " '而共犯林清水於93、94年間，因仲介臺灣人民陳益昌、林哲銘、廖震南、陳朝榮、王照明等5人擔任人頭老公與泰國女子假結婚，陳益昌等5人均獲取5至7萬元報酬等情，經本院以95年度簡上字第330號判處有期徒刑7月確定，另共犯詹巧薇於92年間，因與共犯張晉源等人共同仲介臺灣人民莊國寶、林世欽、蔡明峰等3人擔任人頭老公與泰國女子假結婚等情，經本院以99年度簡字第1313號判處有期徒刑4月並減為有期徒刑2月確定，又共犯林清水、詹巧薇因本案被告與共犯陳玉婉辦理假結婚致涉嫌共同行使使公務員登載不實文書犯行部分，經臺灣臺南地方法院檢察官認為與前開95年度簡上字第330號、99年度簡字第1313號論罪科刑部分有連續犯之裁判上一罪關係，故均以99年度偵字第17571、17771號、100年度偵字第4564號為不起訴處分確定，有前開判決書及不起訴處分書各1份在卷可按，堪認共犯林清水、詹巧薇、張晉源確曾仲介或安排臺灣男子前往泰國與泰國女子假結婚無訛',\n",
              " '',\n",
              " '又被告與共犯林清水並無任何仇怨糾葛，被告尚提供一部機車予共犯林清水使用，衡諸常情，共犯林清水尚無隨意誣指構陷被告之動機，復衡以其於本院中具結後證述上情歷歷，核與其警詢中證述之情節大致相符，苟非親身經歷，尚均無圖陷被告入罪而自行擔負偽證罪責風險之必要，顯見其確係依憑當時親身見聞所為之證述，參以被告於93年4月26日將戶籍遷移寄放至共犯林清水籍設於臺南縣永康市○○路152號之住所，其戶籍遷入目的係為了便利結婚登記之辦理，被告亦依此戶籍地向臺南縣永康市戶政事務所辦理其與共犯陳玉婉之結婚登記等情，業據被告於本院審理時供承伊戶籍寄放於前開住址不諱，及共犯林清水於本院審理時具結證稱：被告將戶籍寄放於伊住所是為了辦理結婚，要拿證件辦理結婚登記比較方便等語（見本院卷第70頁），並有被告及共犯林清水之個人戶籍資料查詢結果各1份、結婚登記申請書1份在卷可佐，而前開95年度簡上字第330號案件中之人頭老公林哲銘亦由共犯林清水提供前開住所供其設籍，並依該戶籍地辦理結婚登記等情，亦據證人林哲銘於警詢時證述明確（見警二卷第19頁），並有證人林哲銘之結婚登記申請書1紙附卷可佐（見警二卷第46頁），益徵被告確係共犯林清水仲介之人頭老公的其中一人甚明',\n",
              " '',\n",
              " '(三)綜上所述，被告與共犯陳玉婉確係假結婚無訛，是被告前開所辯，要屬卸責之詞，殊無可採',\n",
              " '但72年6月26日至94年1月7日新增或修正之條文，就其所定數額提高為3倍',\n",
              " '」，是比較修正後刑法施行法第1條之1第2項與罰金罰鍰提高標準條例第1條之結果，因兩者之罰金最高額度相同而無有利不利之情形，自無刑法第2條第1項之適用，應逕依現行有效且具特別法性質之刑法施行法第1條之1的規定',\n",
              " '(二)刑法第33條第5款修正為：「主刑之種類如下：五、罰金：新臺幣1000元以上，以百元計算之',\n",
              " '」，是依修正後之法律，刑法第335條第1項之侵占罪所得科處之罰金刑最低為新臺幣1000元，而另依修正前刑法第33條第5款及罰金罰鍰提高標準條例第1條前段規定，罰金最低額則為銀元1元折算為新臺幣3元，故比較新舊法之結果，自以修正前刑法第33條第5款規定較有利於被告',\n",
              " '(三)刑法第28條修正前規定為：「2人以上共同實施犯罪之行為者，皆為正犯',\n",
              " '」，而修正後規定為：「2人以上共同實行犯罪之行為者，皆為正犯',\n",
              " '」，是依修正後之規定係將共同正犯限於直接從事構成犯罪事實之行為者，而排除陰謀共同正犯及預謀共同正犯之類型，故修正後共同正犯之可罰性要件之範圍業已限縮',\n",
              " '惟本件被告既係直接從事構成犯罪事實之行為，則比較修正前後規定之結果，並無有利或不利之情形，應逕依修正後規定',\n",
              " '(四)刑法第56條連續犯之規定於刑法修正後業經刪除，是新法修正施行後，行為人之數犯罪行為便須分論併罰',\n",
              " '若依舊法之規定，以一罪論而僅加重其刑至2分之1，但若依新法則須分科併罰，經比較之結果，自以修正前刑法第56條對被告較為有利',\n",
              " '(五)綜上，本院綜合被告所涉上揭全部罪行之一切情形而為比較，揆諸前揭最高法院決議及刑法第2條第1項前段規定，被告適用行為時即修正前刑法之相關規定，對其較為有利，自應一體適用修正前刑法規定予以處斷',\n",
              " '三、論罪科刑：(一)核被告所為，係犯刑法第216條、第214條之行使使公務員登載不實文書罪',\n",
              " '部分之數行為，發生在新法施行前者，新法施行後，該部分適用最有利於行為人之法律',\n",
              " '若其中部分之一行為或數行為，發生在新法施行後者，該部分不能論以連續犯（最高法院95年度第8次刑事庭會議決議參照，即該決議五數罪併罰之(四)連續犯部分）',\n",
              " '查被告涉嫌於96年5月28日及96年9月3日與共犯陳玉婉共同持前開登載不實之戶籍謄本等資料，先後向臺南縣政府警察局外事課申請核發陳玉婉之延期居留等事宜，有96年5月28日及96年9月3日之外國人居留停留案件申請表各1份附卷可憑，被告此部分涉嫌共同行使使公務員登載不實文書犯行，均在95年7月1日刑法修正廢除第56條連續犯規定以後，亦未據檢察官記載於起訴書犯罪事實內，揆諸前開說明，此部分犯行與前開論罪科刑部份無連續犯之裁判上一罪關係，自非本院得審判之範圍，附此敘明之',\n",
              " '被告人於106年1月1日凌晨2時30分許，駕駛車牌號碼000-0000號自小客車，沿桃園市蘆竹區中正路由南往北方向行駛，行經中正路與南崁路口時，因紅燈右轉，為桃園市政府警察局蘆竹分局交通分隊警員攔停盤查，被告人於攔停盤查過程中，因心虛，將車內之毒品吸食器丟棄於路旁，經警員發現後，被告人始坦承持有毒品吸食器，並同意警員搜索其車輛，在車內查獲第二級毒品安非他命1包（毛重0.22公克）。',\n",
              " '',\n",
              " '',\n",
              " '被告人於106年1月1日凌晨2時30分許，駕駛車牌號碼000-0000號自小客車，沿桃園市蘆竹區中正路由南往北方向行駛，行經中正路與南崁路口時，因紅燈右轉，為桃園市政府警察局蘆竹分局交通分隊警員攔停盤查，被告人於攔停盤查過程中，因心虛，將車內之毒品吸食器丟棄於路旁，經警員發現後，被告人始坦承持有毒品吸食器，並同意警員搜索其車輛，在車內查獲第二級毒品安非他命1包（毛重0.22公克）。',\n",
              " '',\n",
              " '',\n",
              " '被告人於106年1月1日凌晨2時30分許，駕駛車牌號碼000-0000號自小客車，沿桃園市蘆竹區中正路由南往北方向行駛，行經中正路與南崁路口時，因紅燈右轉，為桃園市政府警察局蘆竹分局交通分隊警員攔停盤查，被告人於攔停盤查過程中，因心虛，將車內之毒品吸食器丟棄於路旁，經警員發現後，被告人始坦承持有毒品吸食器，並同意警員搜索其車輛，在車內查獲第二級毒品安非他命1包（毛重0.22公克）。',\n",
              " '',\n",
              " '',\n",
              " '被告人於106年1月1日凌晨2時30分許，駕駛車牌號碼000-0000號自小客車，沿桃園市蘆竹區中正路由南往北方向行駛，行經中正路與南崁路口時，因紅燈右轉，為桃園市政府警察局蘆竹分局交通分隊警員攔停盤查，被告人於攔停盤查過程中，因心虛，將車內之毒品吸食器丟棄於路旁，經警員發現後，被告人始坦承持有毒品吸食器，並同意警員搜索其車輛，在車內查獲第二級毒品安非他命1包（毛重0.22公克）。',\n",
              " '',\n",
              " '',\n",
              " '被告人於106年1月1日凌晨2時30分許，駕駛車牌號碼000-0000號自小客車，沿桃園市蘆竹區中正路由南往北方向行駛，行經中正路與南崁路口時，因紅燈右轉，為桃園市政府警察局蘆竹分局交通分隊警員攔停盤查，被告人於攔停盤查過程中，因心虛，將車內之毒品吸食器丟棄於路旁，經警員發現後，被告人始坦承持有毒品吸食器，並同意警員搜索其車輛，在車內查獲第二級毒品安非他命1包（毛重0.22公克）。',\n",
              " '',\n",
              " '',\n",
              " '被告人於106年1月1日凌晨2時30分許，駕駛車牌號碼000-0000號自小客車，沿桃園市蘆竹區中正路由南往北方向行駛，行經中正路與南崁路口時，因紅燈右轉，為桃園市政府警察局蘆竹分局交通分隊警員攔停盤查，被告人於攔停盤查過程中，因心虛，將車內之毒品吸食器丟棄於路旁，經警員發現後，被告人始坦承持有毒品吸食器，並同意警員搜索其車輛，在車內查獲第二級毒品安非他命1包（毛重0.22公克）。',\n",
              " '',\n",
              " '',\n",
              " '被告人於106年1月1日凌晨2時30分許，駕駛車牌號碼000-0000號自小客車，沿桃園市蘆竹區中正路由南往北方向行駛，行經中正路與南崁路口時，因紅燈右轉，為桃園市政府警察局蘆竹分局交通分隊警員攔停盤查，被告人於攔停盤查過程中，因心虛，將車內之毒品吸食器丟棄於路旁，經警員']"
            ]
          },
          "execution_count": 42,
          "metadata": {},
          "output_type": "execute_result"
        }
      ],
      "source": [
        "important_sentences"
      ]
    },
    {
      "cell_type": "code",
      "execution_count": null,
      "metadata": {
        "id": "L_pVPn6e1Izd"
      },
      "outputs": [],
      "source": [
        "query = generate_prompt(prompt, important_sentences)"
      ]
    },
    {
      "cell_type": "code",
      "execution_count": null,
      "metadata": {
        "colab": {
          "base_uri": "https://localhost:8080/"
        },
        "id": "0OohXPkJ1Szt",
        "outputId": "1e80fe4e-4894-4212-8f70-a597f2bfe11a"
      },
      "outputs": [
        {
          "name": "stdout",
          "output_type": "stream",
          "text": [
            " 1: 一、陳泰龍明知其與泰國籍女子陳玉婉（泰國名字為JARUWANWONGPRATOOM，陳玉婉涉嫌本案偽造文書部分，另經臺灣臺南地方法院檢察署檢察官通緝中）間並無結婚之真意，然因詹巧薇、張晉源等人欲找臺灣男子前往泰國與泰國女子辦理假結婚，林清水負責介紹臺灣男子予詹巧薇、張晉源等人以賺取新臺幣（下同）1萬元之仲介費，適陳泰龍依林清水於報紙上刊登之徵人廣告應徵時，由林清水告知泰國女子欲以假結婚之方式申請來臺居留工作，其若擔任假結婚之人頭老公，除不用負擔前往泰國之食宿、機票費用外，尚可獲取5、6萬元之報酬，迨陳泰龍應允同意後，林清水將其轉介紹予詹巧薇、張晉源等人，陳泰龍遂與林清水、詹巧薇、張晉源等人共同基於行使使公務員登載不實公文書之概括犯意聯絡，先由陳泰龍依指示於民國93年4月3日前往泰國，並於同年月7日與陳玉婉在泰國曼谷市法拉坎農區註冊辦事處登記結婚，取得上開註冊辦事處核發之結婚登記書、結婚證書等文件後，陳泰龍即行返臺，並於同年5月19日持經我國駐泰國臺北經濟文化辦事處認證之上開結婚登記書、結婚證書等資料，至臺南縣永康市（改制前稱謂，以下沿用舊制稱謂）戶政事務所填寫結婚登記申請書，申請辦理其與陳玉婉之結婚登記，因此使上開戶政事務所僅有形式審查權之承辦公務員陷於錯誤，於形式上審核後，將陳泰龍與陳玉婉於93年4月7日結婚之不實事項，登載於其職務上所掌屬公文書之戶籍登記資料內，並據以核發戶籍謄本，而足以生損害於戶政機關對於戶政管理及戶籍登記資料維護之正確性。\n",
            "\n",
            "2: 迨陳玉婉來臺後，為取得居留身分，再由陳泰龍、陳玉婉承前概括之犯意聯絡，於同年6月14日及94年5月5日，均持前開登載不實之戶籍謄本等資料，先後向臺南縣政府警察局外事課申請核發陳玉婉之外僑居留證及申請居留證延期而連續行使之（業經檢察官當庭補充），經承辦人員實質審查結果，均未發覺陳泰龍與陳玉婉假結婚之實情，而發給陳玉婉居留證或核准延期，各足以生損害於主管機關對外僑居留管理之正確性。\n",
            "\n",
            "3: 二、案經臺南市警察局（現改制為臺南市政府警察局，以下沿用舊制稱謂）第一分局報告臺灣臺南地方法院檢察署檢察官偵查起訴。\n"
          ]
        }
      ],
      "source": [
        "print(get_breeze(query))"
      ]
    },
    {
      "cell_type": "markdown",
      "metadata": {
        "id": "6pidFWHU_vI1"
      },
      "source": [
        "# 穩定性測試"
      ]
    },
    {
      "cell_type": "code",
      "execution_count": null,
      "metadata": {
        "id": "h9EzsJmE-NB-"
      },
      "outputs": [],
      "source": [
        "prompt1 = \"1: 乙、實體方面：一、訊據被告固坦承於上開時、地，透過共犯林清水之介紹，先至泰國辦理與共犯陳玉婉之結婚手續，再前往臺南縣永康市戶政事務所辦理結婚登記，又前往臺南縣政府警察局外事課辦理共犯陳玉婉之外僑居留證及申請居留證延期之事實，惟矢口否認有何行使使公務員登載不實文書情事，於本院審理時辯稱：伊當時經濟狀況良好，因同居女友欲去日本工作而不願結婚，然伊希望結婚生子，遂透過共犯林清水之介紹與安排，共犯林清水先讓伊看過共犯陳玉婉之照片，伊再前往泰國與共犯陳玉婉結婚，伊僅負擔自己的來回機票錢及泰國住宿費用，其他結婚費用均由共犯林清水負擔，伊則贈送伊的一部機車予共犯林清水以為回報，伊並不認識共犯詹巧薇云云\\n2: 迨共犯陳玉婉來臺後，為取得居留身分，被告與共犯陳玉婉於同年6月14日及94年5月5日，均持前開戶籍謄本等資料，先後向臺南縣政府警察局外事課申請核發共犯陳玉婉之外僑居留證及申請居留證延期等情，業據被告供承在卷，並有結婚登記申請書、授權書各1份、結婚登記書、結婚證書各1份（含中文、泰文影本及我國駐泰國臺北經濟文化辦事處認證之資料）、93年6月14日及94年5月5日之外國人居留停留案件聲請表各1份、被告及共犯陳玉婉之入出國日期紀錄各1份、共犯陳玉婉之外僑居留資料查詢1份在卷可按（見警三卷即南市警一刑偵字第0994101517號卷第6至24、33頁）\\n3: 上開事實，首堪認定\\n4: 理由甲、程序方面：一、本件以下所引用具傳聞證據性質之供述證據，因本件被告陳泰龍、檢察官等人於本院準備程序進行時，均未爭執前開陳述之證據能力，且迄至本案言詞辯論終結前亦均未聲明異議，應視為已同意援引作為證據，又本院審酌前開證據作成時之情況及證據取得過程等節，並無非出於任意性、不正取供或其他違法不當情事，且客觀上亦無顯不可信之情況，堪認為適當，是依刑事訴訟法第159條之5規定，均有證據能力\\n5: 二、卷附之被告及陳玉婉入出國日期紀錄各1份等書證，均非屬供述證據，皆無傳聞法則之適用，復均無違反法定程序取得之情形，依刑事訴訟法第158條之4規定之反面解釋，均應有證據能力\\n6: 一、陳泰龍明知其與泰國籍女子陳玉婉（泰國名字為JARUWANWONGPRATOOM，陳玉婉涉嫌本案偽造文書部分，另經臺灣臺南地方法院檢察署檢察官通緝中）間並無結婚之真意，然因詹巧薇、張晉源等人欲找臺灣男子前往泰國與泰國女子辦理假結婚，林清水負責介紹臺灣男子予詹巧薇、張晉源等人以賺取新臺幣（下同）1萬元之仲介費，適陳泰龍依林清水於報紙上刊登之徵人廣告應徵時，由林清水告知泰國女子欲以假結婚之方式申請來臺居留工作，其若擔任假結婚之人頭老公，除不用負擔前往泰國之食宿、機票費用外，尚可獲取5、6萬元之報酬，迨陳泰龍應允同意後，林清水將其轉介紹予詹巧薇、張晉源等人，陳泰龍遂與林清水、詹巧薇、張晉源等人共同基於行使使公務員登載不實公文書之概括犯意聯絡，先由陳泰龍依指示於民國93年4月3日前往泰國，並於同年月7日與陳玉婉在泰國曼谷市法拉坎農區註冊辦事處登記結婚，取得上開註冊辦事處核發之結婚登記書、結婚證書等文件後，陳泰龍即行返臺，並於同年5月19日持經我國駐泰國臺北經濟文化辦事處認證之上開結婚登記書、結婚證書等資料，至臺南縣永康市（改制前稱謂，以下沿用舊制稱謂）戶政事務所填寫結婚登記申請書，申請辦理其與陳玉婉之結婚登記，因此使上開戶政事務所僅有形式審查權之承辦公務員陷於錯誤，於形式上審核後，將陳泰龍與陳玉婉於93年4月7日結婚之不實事項，登載於其職務上所掌屬公文書之戶籍登記資料內，並據以核發戶籍謄本，而足以生損害於戶政機關對於戶政管理及戶籍登記資料維護之正確性\\n7: 經查：(一)被告於93年4月3日前往泰國，並於同年月7日與共犯陳玉婉在泰國曼谷市法拉坎農區註冊辦事處登記結婚，取得上開註冊辦事處核發之結婚登記書、結婚證書等文件後，被告即行返臺，並於同年5月19日持經我國駐泰國臺北經濟文化辦事處認證之上開結婚登記書、結婚證書等資料，至臺南縣永康市戶政事務所填寫結婚登記申請書，申請辦理其與共犯陳玉婉之結婚登記，並取得戶籍謄本\\n8: 迨陳玉婉來臺後，為取得居留身分，再由陳泰龍、陳玉婉承前概括之犯意聯絡，於同年6月14日及94年5月5日，均持前開登載不實之戶籍謄本等資料，先後向臺南縣政府警察局外事課申請核發陳玉婉之外僑居留證及申請居留證延期而連續行使之（業經檢察官當庭補充），經承辦人員實質審查結果，均未發覺陳泰龍與陳玉婉假結婚之實情，而發給陳玉婉居留證或核准延期，各足以生損害於主管機關對外僑居留管理之正確性\\n9:  二、案經臺南市警察局（現改制為臺南市政府警察局，以下沿用舊制稱謂）第一分局報告臺灣臺南地方法院檢察署檢察官偵查起訴\\n10: (二)共犯詹巧薇、張晉源等人當時欲找臺灣人與泰國女子結婚，由共犯林清水於報紙上刊登徵人廣告，若應徵者符合與泰國人結婚之條件，便將應徵者介紹予共犯詹巧薇、張晉源等人，共犯林清水可從中獲取1萬元之仲介費，適被告依前開徵人廣告應徵，共犯林清水衡量其條件後告知其可至泰國結婚，其除不用負擔前往泰國之機票及食宿費用外，尚可獲取5至6萬元之報酬，被告應允同意後，共犯林清水將其介紹予詹巧薇、張晉源等人，被告即依指示前往泰國與為了來臺工作且無結婚真意的共犯陳玉婉辦理結婚事宜等情，業據共犯林清水於警詢時證稱：伊登報徵人到泰國結婚，被告看報紙來的，伊便轉介予共犯詹巧薇，由共犯詹巧薇安排後續到泰國結婚之事宜，被告除不用負擔前往泰國機票、食宿等費用，尚可獲取約5至6萬元酬勞，伊則可自共犯詹巧薇獲取約1萬元之仲介費用；伊只有將被告轉介予共犯詹巧薇，並未參與後續被告前往泰國之證照、機票、食宿等相關事宜；被告係因缺錢，為了賺取擔任人頭配偶的佣金5至6萬，並不是真的要與泰國人結婚，共犯陳玉婉係為了來臺灣工作賺錢，亦不是真的要與臺灣人結婚等語（見警三卷第2至3頁）；並於本院審理時具結證稱：當初共犯詹巧薇、張晉源等人欲找男子前往泰國結婚，伊曾刊登「男、女不限、經驗不拘」等內容之徵人廣告，被告見報應徵時，被告係因缺錢才來找伊，伊衡量被告條件後認為其只能利用結婚賺取報酬，伊才向其表示是要辦結婚，伊告知被告可安排其去泰國結婚，其不用負擔食宿及機票等費用，可實拿5至6萬元的報酬，被告同意後，伊將被告介紹予共犯詹巧薇、張晉源，共犯張晉源給付佣金1萬元予伊；伊與被告談論泰國結婚事宜時，伊與被告均不知被告之結婚對象為何人，伊亦未見過與被告結婚之泰國女子，伊僅介紹被告予共犯詹巧薇、張晉源等人，伊並未參予後續之泰國結婚、辦理結婚登記及居留申請等事情；被告曾給伊一部機車，當時被告表示要去別的地方，機車留在臺南無人使用，伊修理使用一段期間後，因再度壞掉便未再使用等語（見本院卷第68頁背面至71頁）\""
      ]
    },
    {
      "cell_type": "code",
      "execution_count": null,
      "metadata": {
        "id": "FENwZLbe-lF_"
      },
      "outputs": [],
      "source": [
        "prompt2 = \"1: 一、陳泰龍明知其與泰國籍女子陳玉婉（泰國名字為JARUWANWONGPRATOOM，陳玉婉涉嫌本案偽造文書部分，另經臺灣臺南地方法院檢察署檢察官通緝中）間並無結婚之真意，然因詹巧薇、張晉源等人欲找臺灣男子前往泰國與泰國女子辦理假結婚，林清水負責介紹臺灣男子予詹巧薇、張晉源等人以賺取新臺幣（下同）1萬元之仲介費，適陳泰龍依林清水於報紙上刊登之徵人廣告應徵時，由林清水告知泰國女子欲以假結婚之方式申請來臺居留工作，其若擔任假結婚之人頭老公，除不用負擔前往泰國之食宿、機票費用外，尚可獲取5、6萬元之報酬，迨陳泰龍應允同意後，林清水將其轉介紹予詹巧薇、張晉源等人，陳泰龍遂與林清水、詹巧薇、張晉源等人共同基於行使使公務員登載不實公文書之概括犯意聯絡，先由陳泰龍依指示於民國93年4月3日前往泰國，並於同年月7日與陳玉婉在泰國曼谷市法拉坎農區註冊辦事處登記結婚，取得上開註冊辦事處核發之結婚登記書、結婚證書等文件後，陳泰龍即行返臺，並於同年5月19日持經我國駐泰國臺北經濟文化辦事處認證之上開結婚登記書、結婚證書等資料，至臺南縣永康市（改制前稱謂，以下沿用舊制稱謂）戶政事務所填寫結婚登記申請書，申請辦理其與陳玉婉之結婚登記，因此使上開戶政事務所僅有形式審查權之承辦公務員陷於錯誤，於形式上審核後，將陳泰龍與陳玉婉於93年4月7日結婚之不實事項，登載於其職務上所掌屬公文書之戶籍登記資料內，並據以核發戶籍謄本，而足以生損害於戶政機關對於戶政管理及戶籍登記資料維護之正確性 \\n2: 迨陳玉婉來臺後，為取得居留身分，再由陳泰龍、陳玉婉承前概括之犯意聯絡，於同年6月14日及94年5月5日，均持前開登載不實之戶籍謄本等資料，先後向臺南縣政府警察局外事課申請核發陳玉婉之外僑居留證及申請居留證延期而連續行使之（業經檢察官當庭補充），經承辦人員實質審查結果，均未發覺陳泰龍與陳玉婉假結婚之實情，而發給陳玉婉居留證或核准延期，各足以生損害於主管機關對外僑居留管理之正確性 \\n3: 二、案經臺南市警察局（現改制為臺南市政府警察局，以下沿用舊制稱謂）第一分局報告臺灣臺南地方法院檢察署檢察官偵查起訴 \\n4: 理由甲、程序方面：一、本件以下所引用具傳聞證據性質之供述證據，因本件被告陳泰龍、檢察官等人於本院準備程序進行時，均未爭執前開陳述之證據能力，且迄至本案言詞辯論終結前亦均未聲明異議，應視為已同意援引作為證據，又本院審酌前開證據作成時之情況及證據取得過程等節，並無非出於任意性、不正取供或其他違法不當情事，且客觀上亦無顯不可信之情況，堪認為適當，是依刑事訴訟法第159條之5規定，均有證據能力 \\n5: 二、卷附之被告及陳玉婉入出國日期紀錄各1份等書證，均非屬供述證據，皆無傳聞法則之適用，復均無違反法定程序取得之情形，依刑事訴訟法第158條之4規定之反面解釋，均應有證據能力 \\n6: 乙、實體方面：一、訊據被告固坦承於上開時、地，透過共犯林清水之介紹，先至泰國辦理與共犯陳玉婉之結婚手續，再前往臺南縣永康市戶政事務所辦理結婚登記，又前往臺南縣政府警察局外事課辦理共犯陳玉婉之外僑居留證及申請居留證延期之事實，惟矢口否認有何行使使公務員登載不實文書情事，於本院審理時辯稱：伊當時經濟狀況良好，因同居女友欲去日本工作而不願結婚，然伊希望結婚生子，遂透過共犯林清水之介紹與安排，共犯林清水先讓伊看過共犯陳玉婉之照片，伊再前往泰國與共犯陳玉婉結婚，伊僅負擔自己的來回機票錢及泰國住宿費用，其他結婚費用均由共犯林清水負擔，伊則贈送伊的一部機車予共犯林清水以為回報，伊並不認識共犯詹巧薇云云 \\n7: 經查：(一)被告於93年4月3日前往泰國，並於同年月7日與共犯陳玉婉在泰國曼谷市法拉坎農區註冊辦事處登記結婚，取得上開註冊辦事處核發之結婚登記書、結婚證書等文件後，被告即行返臺，並於同年5月19日持經我國駐泰國臺北經濟文化辦事處認證之上開結婚登記書、結婚證書等資料，至臺南縣永康市戶政事務所填寫結婚登記申請書，申請辦理其與共犯陳玉婉之結婚登記，並取得戶籍謄本 \\n8: 迨共犯陳玉婉來臺後，為取得居留身分，被告與共犯陳玉婉於同年6月14日及94年5月5日，均持前開戶籍謄本等資料，先後向臺南縣政府警察局外事課申請核發共犯陳玉婉之外僑居留證及申請居留證延期等情，業據被告供承在卷，並有結婚登記申請書、授權書各1份、結婚登記書、結婚證書各1份（含中文、泰文影本及我國駐泰國臺北經濟文化辦事處認證之資料）、93年6月14日及94年5月5日之外國人居留停留案件聲請表各1份、被告及共犯陳玉婉之入出國日期紀錄各1份、共犯陳玉婉之外僑居留資料查詢1份在卷可按（見警三卷即南市警一刑偵字第0994101517號卷第6至24、33頁） \\n9: 上開事實，首堪認定 \\n10: (二)共犯詹巧薇、張晉源等人當時欲找臺灣人與泰國女子結婚，由共犯林清水於報紙上刊登徵人廣告，若應徵者符合與泰國人結婚之條件，便將應徵者介紹予共犯詹巧薇、張晉源等人，共犯林清水可從中獲取1萬元之仲介費，適被告依前開徵人廣告應徵，共犯林清水衡量其條件後告知其可至泰國結婚，其除不用負擔前往泰國之機票及食宿費用外，尚可獲取5至6萬元之報酬，被告應允同意後，共犯林清水將其介紹予詹巧薇、張晉源等人，被告即依指示前往泰國與為了來臺工作且無結婚真意的共犯陳玉婉辦理結婚事宜等情，業據共犯林清水於警詢時證稱：伊登報徵人到泰國結婚，被告看報紙來的，伊便轉介予共犯詹巧薇，由共犯詹巧薇安排後續到泰國結婚之事宜，被告除不用負擔前往泰國機票、食宿等費用，尚可獲取約5至6萬元酬勞，伊則可自共犯詹巧薇獲取約1萬元之仲介費用；伊只有將被告轉介予共犯詹巧薇，並未參與後續被告前往泰國之證照、機票、食宿等相關事宜；被告係因缺錢，為了賺取擔任人頭配偶的佣金5至6萬，並不是真的要與泰國人結婚，共犯陳玉婉係為了來臺灣工作賺錢，亦不是真的要與臺灣人結婚等語（見警三卷第2至3頁）；並於本院審理時具結證稱：當初共犯詹巧薇、張晉源等人欲找男子前往泰國結婚，伊曾刊登「男、女不限、經驗不拘」等內容之徵人廣告，被告見報應徵時，被告係因缺錢才來找伊，伊衡量被告條件後認為其只能利用結婚賺取報酬，伊才向其表示是要辦結婚，伊告知被告可安排其去泰國結婚，其不用負擔食宿及機票等費用，可實拿5至6萬元的報酬，被告同意後，伊將被告介紹予共犯詹巧薇、張晉源，共犯張晉源給付佣金1萬元予伊；伊與被告談論泰國結婚事宜時，伊與被告均不知被告之結婚對象為何人，伊亦未見過與被告結婚之泰國女子，伊僅介紹被告予共犯詹巧薇、張晉源等人，伊並未參予後續之泰國結婚、辦理結婚登記及居留申請等事情；被告曾給伊一部機車，當時被告表示要去別的地方，機車留在臺南無人使用，伊修理使用一段期間後，因再度壞掉便未再使用等語（見本院卷第68頁背面至71頁）\""
      ]
    },
    {
      "cell_type": "code",
      "execution_count": null,
      "metadata": {
        "id": "3PyLGDz2_Nva"
      },
      "outputs": [],
      "source": [
        "prompt3 = \"1: (二)共犯詹巧薇、張晉源等人當時欲找臺灣人與泰國女子結婚，由共犯林清水於報紙上刊登徵人廣告，若應徵者符合與泰國人結婚之條件，便將應徵者介紹予共犯詹巧薇、張晉源等人，共犯林清水可從中獲取1萬元之仲介費，適被告依前開徵人廣告應徵，共犯林清水衡量其條件後告知其可至泰國結婚，其除不用負擔前往泰國之機票及食宿費用外，尚可獲取5至6萬元之報酬，被告應允同意後，共犯林清水將其介紹予詹巧薇、張晉源等人，被告即依指示前往泰國與為了來臺工作且無結婚真意的共犯陳玉婉辦理結婚事宜等情，業據共犯林清水於警詢時證稱：伊登報徵人到泰國結婚，被告看報紙來的，伊便轉介予共犯詹巧薇，由共犯詹巧薇安排後續到泰國結婚之事宜，被告除不用負擔前往泰國機票、食宿等費用，尚可獲取約5至6萬元酬勞，伊則可自共犯詹巧薇獲取約1萬元之仲介費用；伊只有將被告轉介予共犯詹巧薇，並未參與後續被告前往泰國之證照、機票、食宿等相關事宜；被告係因缺錢，為了賺取擔任人頭配偶的佣金5至6萬，並不是真的要與泰國人結婚，共犯陳玉婉係為了來臺灣工作賺錢，亦不是真的要與臺灣人結婚等語（見警三卷第2至3頁）；並於本院審理時具結證稱：當初共犯詹巧薇、張晉源等人欲找男子前往泰國結婚，伊曾刊登「男、女不限、經驗不拘」等內容之徵人廣告，被告見報應徵時，被告係因缺錢才來找伊，伊衡量被告條件後認為其只能利用結婚賺取報酬，伊才向其表示是要辦結婚，伊告知被告可安排其去泰國結婚，其不用負擔食宿及機票等費用，可實拿5至6萬元的報酬，被告同意後，伊將被告介紹予共犯詹巧薇、張晉源，共犯張晉源給付佣金1萬元予伊；伊與被告談論泰國結婚事宜時，伊與被告均不知被告之結婚對象為何人，伊亦未見過與被告結婚之泰國女子，伊僅介紹被告予共犯詹巧薇、張晉源等人，伊並未參予後續之泰國結婚、辦理結婚登記及居留申請等事情；被告曾給伊一部機車，當時被告表示要去別的地方，機車留在臺南無人使用，伊修理使用一段期間後，因再度壞掉便未再使用等語（見本院卷第68頁背面至71頁） \\n2: 迨陳玉婉來臺後，為取得居留身分，再由陳泰龍、陳玉婉承前概括之犯意聯絡，於同年6月14日及94年5月5日，均持前開登載不實之戶籍謄本等資料，先後向臺南縣政府警察局外事課申請核發陳玉婉之外僑居留證及申請居留證延期而連續行使之（業經檢察官當庭補充），經承辦人員實質審查結果，均未發覺陳泰龍與陳玉婉假結婚之實情，而發給陳玉婉居留證或核准延期，各足以生損害於主管機關對外僑居留管理之正確性 \\n3: 二、案經臺南市警察局（現改制為臺南市政府警察局，以下沿用舊制稱謂）第一分局報告臺灣臺南地方法院檢察署檢察官偵查起訴 \\n4: 理由甲、程序方面：一、本件以下所引用具傳聞證據性質之供述證據，因本件被告陳泰龍、檢察官等人於本院準備程序進行時，均未爭執前開陳述之證據能力，且迄至本案言詞辯論終結前亦均未聲明異議，應視為已同意援引作為證據，又本院審酌前開證據作成時之情況及證據取得過程等節，並無非出於任意性、不正取供或其他違法不當情事，且客觀上亦無顯不可信之情況，堪認為適當，是依刑事訴訟法第159條之5規定，均有證據能力 \\n5: 二、卷附之被告及陳玉婉入出國日期紀錄各1份等書證，均非屬供述證據，皆無傳聞法則之適用，復均無違反法定程序取得之情形，依刑事訴訟法第158條之4規定之反面解釋，均應有證據能力 \\n6: 乙、實體方面：一、訊據被告固坦承於上開時、地，透過共犯林清水之介紹，先至泰國辦理與共犯陳玉婉之結婚手續，再前往臺南縣永康市戶政事務所辦理結婚登記，又前往臺南縣政府警察局外事課辦理共犯陳玉婉之外僑居留證及申請居留證延期之事實，惟矢口否認有何行使使公務員登載不實文書情事，於本院審理時辯稱：伊當時經濟狀況良好，因同居女友欲去日本工作而不願結婚，然伊希望結婚生子，遂透過共犯林清水之介紹與安排，共犯林清水先讓伊看過共犯陳玉婉之照片，伊再前往泰國與共犯陳玉婉結婚，伊僅負擔自己的來回機票錢及泰國住宿費用，其他結婚費用均由共犯林清水負擔，伊則贈送伊的一部機車予共犯林清水以為回報，伊並不認識共犯詹巧薇云云 \\n7: 經查：(一)被告於93年4月3日前往泰國，並於同年月7日與共犯陳玉婉在泰國曼谷市法拉坎農區註冊辦事處登記結婚，取得上開註冊辦事處核發之結婚登記書、結婚證書等文件後，被告即行返臺，並於同年5月19日持經我國駐泰國臺北經濟文化辦事處認證之上開結婚登記書、結婚證書等資料，至臺南縣永康市戶政事務所填寫結婚登記申請書，申請辦理其與共犯陳玉婉之結婚登記，並取得戶籍謄本 \\n8: 迨共犯陳玉婉來臺後，為取得居留身分，被告與共犯陳玉婉於同年6月14日及94年5月5日，均持前開戶籍謄本等資料，先後向臺南縣政府警察局外事課申請核發共犯陳玉婉之外僑居留證及申請居留證延期等情，業據被告供承在卷，並有結婚登記申請書、授權書各1份、結婚登記書、結婚證書各1份（含中文、泰文影本及我國駐泰國臺北經濟文化辦事處認證之資料）、93年6月14日及94年5月5日之外國人居留停留案件聲請表各1份、被告及共犯陳玉婉之入出國日期紀錄各1份、共犯陳玉婉之外僑居留資料查詢1份在卷可按（見警三卷即南市警一刑偵字第0994101517號卷第6至24、33頁） \\n9: 上開事實，首堪認定 \\n10: 一、陳泰龍明知其與泰國籍女子陳玉婉（泰國名字為JARUWANWONGPRATOOM，陳玉婉涉嫌本案偽造文書部分，另經臺灣臺南地方法院檢察署檢察官通緝中）間並無結婚之真意，然因詹巧薇、張晉源等人欲找臺灣男子前往泰國與泰國女子辦理假結婚，林清水負責介紹臺灣男子予詹巧薇、張晉源等人以賺取新臺幣（下同）1萬元之仲介費，適陳泰龍依林清水於報紙上刊登之徵人廣告應徵時，由林清水告知泰國女子欲以假結婚之方式申請來臺居留工作，其若擔任假結婚之人頭老公，除不用負擔前往泰國之食宿、機票費用外，尚可獲取5、6萬元之報酬，迨陳泰龍應允同意後，林清水將其轉介紹予詹巧薇、張晉源等人，陳泰龍遂與林清水、詹巧薇、張晉源等人共同基於行使使公務員登載不實公文書之概括犯意聯絡，先由陳泰龍依指示於民國93年4月3日前往泰國，並於同年月7日與陳玉婉在泰國曼谷市法拉坎農區註冊辦事處登記結婚，取得上開註冊辦事處核發之結婚登記書、結婚證書等文件後，陳泰龍即行返臺，並於同年5月19日持經我國駐泰國臺北經濟文化辦事處認證之上開結婚登記書、結婚證書等資料，至臺南縣永康市（改制前稱謂，以下沿用舊制稱謂）戶政事務所填寫結婚登記申請書，申請辦理其與陳玉婉之結婚登記，因此使上開戶政事務所僅有形式審查權之承辦公務員陷於錯誤，於形式上審核後，將陳泰龍與陳玉婉於93年4月7日結婚之不實事項，登載於其職務上所掌屬公文書之戶籍登記資料內，並據以核發戶籍謄本，而足以生損害於戶政機關對於戶政管理及戶籍登記資料維護之正確性\""
      ]
    },
    {
      "cell_type": "code",
      "execution_count": null,
      "metadata": {
        "colab": {
          "base_uri": "https://localhost:8080/"
        },
        "id": "ZOkeEzlk_dC7",
        "outputId": "adc12083-116f-41b3-e27d-016e67966754"
      },
      "outputs": [
        {
          "name": "stdout",
          "output_type": "stream",
          "text": [
            "1: 乙、實體方面：一、訊據被告固坦承於上開時、地，透過共犯林清水之介紹，先至泰國辦理與共犯陳玉婉之結婚手續，再前往臺南縣永康市戶政事務所辦理結婚登記，又前往臺南縣政府警察局外事課辦理共犯陳玉婉之外僑居留證及申請居留證延期之事實，惟矢口否認有何行使使公務員登載不實文書情事，於本院審理時辯稱：伊當時經濟狀況良好，因同居女友欲去日本工作而不願結婚，然伊希望結婚生子，遂透過共犯林清水之介紹與安排，共犯林清水先讓伊看過共犯陳玉婉之照片，伊再前往泰國與共犯陳玉婉結婚，伊僅負擔自己的來回機票錢及泰國住宿費用，其他結婚費用均由共犯林清水負擔，伊則贈送伊的一部機車予共犯林清水以為回報，伊並不認識共犯詹巧薇云云\n",
            "2: 迨共犯陳玉婉來臺後，為取得居留身分，被告與共犯陳玉婉於同年6月14日及94年5月5日，均持前開戶籍謄本等資料，先後向臺南縣政府警察局外事課申請核發共犯陳玉婉之外僑居留證及申請居留證延期等情，業據被告供承在卷，並有結婚登記申請書、授權書各1份、結婚登記書、結婚證書各1份（含中文、泰文影本及我國駐泰國臺北經濟文化辦事處認證之資料）、93年6月14日及94年5月5日之外國人居留停留案件聲請表各1份、被告及共犯陳玉婉之入出國日期紀錄各1份、共犯陳玉婉之外僑居留資料查詢1份在卷可按（見警三卷即南市警一刑偵字第0994101517號卷第6至24、33頁）\n",
            "3: 上開事實，首堪認定\n",
            "4: 理由甲、程序方面：一、本件以下所引用具傳聞證據性質之供述證據，因本件被告陳泰龍、檢察官等人於本院準備程序進行時，均未爭執前開陳述之證據能力，且迄至本案言詞辯論終結前亦均未聲明異議，應視為已同意援引作為證據，又本院審酌前開證據作成時之情況及證據取得過程等節，並無非出於任意性、不正取供或其他違法不當情事，且客觀上亦無顯不可信之情況，堪認為適當，是依刑事訴訟法第159條之5規定，均有證據能力\n",
            "5: 二、卷附之被告及陳玉婉入出國日期紀錄各1份等書證，均非屬供述證據，皆無傳聞法則之適用，復均無違反法定程序取得之情形，依刑事訴訟法第158條之4規定之反面解釋，均應有證據能力\n",
            "6: 一、陳泰龍明知其與泰國籍女子陳玉婉（泰國名字為JARUWANWONGPRATOOM，陳玉婉涉嫌本案偽造文書部分，另經臺灣臺南地方法院檢察署檢察官通緝中）間並無結婚之真意，然因詹巧薇、張晉源等人欲找臺灣男子前往泰國與泰國女子辦理假結婚，林清水負責介紹臺灣男子予詹巧薇、張晉源等人以賺取新臺幣（下同）1萬元之仲介費，適陳泰龍依林清水於報紙上刊登之徵人廣告應徵時，由林清水告知泰國女子欲以假結婚之方式申請來臺居留工作，其若擔任假結婚之人頭老公，除不用負擔前往泰國之食宿、機票費用外，尚可獲取5、6萬元之報酬，迨陳泰龍應允同意後，林清水將其轉介紹予詹巧薇、張晉源等人，陳泰龍遂與林清水、詹巧薇、張晉源等人共同基於行使使公務員登載不實公文書之概括犯意聯絡，先由陳泰龍依指示於民國93年4月3日前往泰國，並於同年月7日與陳玉婉在泰國曼谷市法拉坎農區註冊辦事處登記結婚，取得上開註冊辦事處核發之結婚登記書、結婚證書等文件後，陳泰龍即行返臺，並於同年5月19日持經我國駐泰國臺北經濟文化辦事處認證之上開結婚登記書、結婚證書等資料，至臺南縣永康市（改制前稱謂，以下沿用舊制稱謂）戶政事務所填寫結婚登記申請書，申請辦理其與陳玉婉之結婚登記，因此使上開戶政事務所僅有形式審查權之承辦公務員陷於錯誤，於形式上審核後，將陳泰龍與陳玉婉於93年4月7日結婚之不實事項，登載於其職務上所掌屬公文書之戶籍登記資料內，並據以核發戶籍謄本，而足以生損害於戶政機關對於戶政管理及戶籍登記資料維護之正確性\n",
            "7: 經查：(一)被告於93年4月3日前往泰國，並於同年月7日與共犯陳玉婉在泰國曼谷市法拉坎農區註冊辦事處登記結婚，取得上開註冊辦事處核發之結婚登記書、結婚證書等文件後，被告即行返臺，並於同年5月19日持經我國駐泰國臺北經濟文化辦事處認證之上開結婚登記書、結婚證書等資料，至臺南縣永康市戶政事務所填寫結婚登記申請書，申請辦理其與共犯陳玉婉之結婚登記，並取得戶籍謄本\n",
            "8: 迨陳玉婉來臺後，為取得居留身分，再由陳泰龍、陳玉婉承前概括之犯意聯絡，於同年6月14日及94年5月5日，均持前開登載不實之戶籍謄本等資料，先後向臺南縣政府警察局外事課申請核發陳玉婉之外僑居留證及申請居留證延期而連續行使之（業經檢察官當庭補充），經承辦人員實質審查結果，均未發覺陳泰龍與陳玉婉假結婚之實情，而發給陳玉婉居留證或核准延期，各足以生損害於主管機關對外僑居留管理之正確性\n",
            "9:  二、案經臺南市警察局（現改制為臺南市政府警察局，以下沿用舊制稱謂）第一分局報告臺灣臺南地方法院檢察署檢察官偵查起訴\n",
            "10: (二)共犯詹巧薇、張晉源等人當時欲找臺灣人與泰國女子結婚，由共犯林清水於報紙上刊登徵人廣告，若應徵者符合與泰國人結婚之條件，便將應徵者介紹予共犯詹巧薇、張晉源等人，共犯林清水可從中獲取1萬元之仲介費，適被告依前開徵人廣告應徵，共犯林清水衡量其條件後告知其可至泰國結婚，其除不用負擔前往泰國之機票及食宿費用外，尚可獲取5至6萬元之報酬，被告應允同意後，共犯林清水將其介紹予詹巧薇、張晉源等人，被告即依指示前往泰國與為了來臺工作且無結婚真意的共犯陳玉婉辦理結婚事宜等情，業據共犯林清水於警詢時證稱：伊登報徵人到泰國結婚，被告看報紙來的，伊便轉介予共犯詹巧薇，由共犯詹巧薇安排後續到泰國結婚之事宜，被告除不用負擔前往泰國機票、食宿等費用，尚可獲取約5至6萬元酬勞，伊則可自共犯詹巧薇獲取約1萬元之仲介費用；伊只有將被告轉介予共犯詹巧薇，並未參與後續被告前往泰國之證照、機票、食宿等相關事宜；被告係因缺錢，為了賺取擔任人頭配偶的佣金5至6萬，並不是真的要與泰國人結婚，共犯陳玉婉係為了來臺灣工作賺錢，亦不是真的要與臺灣人結婚等語（見警三卷第2至3頁）；並於本院審理時具結證稱：當初共犯詹巧薇、張晉源等人欲找男子前往泰國結婚，伊曾刊登「男、女不限、經驗不拘」等內容之徵人廣告，被告見報應徵時，被告係因缺錢才來找伊，伊衡量被告條件後認為其只能利用結婚賺取報酬，伊才向其表示是要辦結婚，伊告知被告可安排其去泰國結婚，其不用負擔食宿及機票等費用，可實拿5至6萬元的報酬，被告同意後，伊將被告介紹予共犯詹巧薇、張晉源，共犯張晉源給付佣金1萬元予伊；伊與被告談論泰國結婚事宜時，伊與被告均不知被告之結婚對象為何人，伊亦未見過與被告結婚之泰國女子，伊僅介紹被告予共犯詹巧薇、張晉源等人，伊並未參予後續之泰國結婚、辦理結婚登記及居留申請等事情；被告曾給伊一部機車，當時被告表示要去別的地方，機車留在臺南無人使用，伊修理使用一段期間後，因再度壞掉便未再使用等語（見本院卷第68頁背面至71頁）\n"
          ]
        }
      ],
      "source": [
        "print(prompt1)"
      ]
    },
    {
      "cell_type": "code",
      "execution_count": null,
      "metadata": {
        "colab": {
          "base_uri": "https://localhost:8080/"
        },
        "id": "8TGtVviu_qtH",
        "outputId": "c5751d81-6c42-4f99-ef0a-5a699b9b5c6c"
      },
      "outputs": [
        {
          "name": "stdout",
          "output_type": "stream",
          "text": [
            "1: 一、陳泰龍明知其與泰國籍女子陳玉婉（泰國名字為JARUWANWONGPRATOOM，陳玉婉涉嫌本案偽造文書部分，另經臺灣臺南地方法院檢察署檢察官通緝中）間並無結婚之真意，然因詹巧薇、張晉源等人欲找臺灣男子前往泰國與泰國女子辦理假結婚，林清水負責介紹臺灣男子予詹巧薇、張晉源等人以賺取新臺幣（下同）1萬元之仲介費，適陳泰龍依林清水於報紙上刊登之徵人廣告應徵時，由林清水告知泰國女子欲以假結婚之方式申請來臺居留工作，其若擔任假結婚之人頭老公，除不用負擔前往泰國之食宿、機票費用外，尚可獲取5、6萬元之報酬，迨陳泰龍應允同意後，林清水將其轉介紹予詹巧薇、張晉源等人，陳泰龍遂與林清水、詹巧薇、張晉源等人共同基於行使使公務員登載不實公文書之概括犯意聯絡，先由陳泰龍依指示於民國93年4月3日前往泰國，並於同年月7日與陳玉婉在泰國曼谷市法拉坎農區註冊辦事處登記結婚，取得上開註冊辦事處核發之結婚登記書、結婚證書等文件後，陳泰龍即行返臺，並於同年5月19日持經我國駐泰國臺北經濟文化辦事處認證之上開結婚登記書、結婚證書等資料，至臺南縣永康市（改制前稱謂，以下沿用舊制稱謂）戶政事務所填寫結婚登記申請書，申請辦理其與陳玉婉之結婚登記，因此使上開戶政事務所僅有形式審查權之承辦公務員陷於錯誤，於形式上審核後，將陳泰龍與陳玉婉於93年4月7日結婚之不實事項，登載於其職務上所掌屬公文書之戶籍登記資料內，並據以核發戶籍謄本，而足以生損害於戶政機關對於戶政管理及戶籍登記資料維護之正確性 \n",
            "2: 迨陳玉婉來臺後，為取得居留身分，再由陳泰龍、陳玉婉承前概括之犯意聯絡，於同年6月14日及94年5月5日，均持前開登載不實之戶籍謄本等資料，先後向臺南縣政府警察局外事課申請核發陳玉婉之外僑居留證及申請居留證延期而連續行使之（業經檢察官當庭補充），經承辦人員實質審查結果，均未發覺陳泰龍與陳玉婉假結婚之實情，而發給陳玉婉居留證或核准延期，各足以生損害於主管機關對外僑居留管理之正確性 \n",
            "3: 二、案經臺南市警察局（現改制為臺南市政府警察局，以下沿用舊制稱謂）第一分局報告臺灣臺南地方法院檢察署檢察官偵查起訴 \n",
            "4: 理由甲、程序方面：一、本件以下所引用具傳聞證據性質之供述證據，因本件被告陳泰龍、檢察官等人於本院準備程序進行時，均未爭執前開陳述之證據能力，且迄至本案言詞辯論終結前亦均未聲明異議，應視為已同意援引作為證據，又本院審酌前開證據作成時之情況及證據取得過程等節，並無非出於任意性、不正取供或其他違法不當情事，且客觀上亦無顯不可信之情況，堪認為適當，是依刑事訴訟法第159條之5規定，均有證據能力 \n",
            "5: 二、卷附之被告及陳玉婉入出國日期紀錄各1份等書證，均非屬供述證據，皆無傳聞法則之適用，復均無違反法定程序取得之情形，依刑事訴訟法第158條之4規定之反面解釋，均應有證據能力 \n",
            "6: 乙、實體方面：一、訊據被告固坦承於上開時、地，透過共犯林清水之介紹，先至泰國辦理與共犯陳玉婉之結婚手續，再前往臺南縣永康市戶政事務所辦理結婚登記，又前往臺南縣政府警察局外事課辦理共犯陳玉婉之外僑居留證及申請居留證延期之事實，惟矢口否認有何行使使公務員登載不實文書情事，於本院審理時辯稱：伊當時經濟狀況良好，因同居女友欲去日本工作而不願結婚，然伊希望結婚生子，遂透過共犯林清水之介紹與安排，共犯林清水先讓伊看過共犯陳玉婉之照片，伊再前往泰國與共犯陳玉婉結婚，伊僅負擔自己的來回機票錢及泰國住宿費用，其他結婚費用均由共犯林清水負擔，伊則贈送伊的一部機車予共犯林清水以為回報，伊並不認識共犯詹巧薇云云 \n",
            "7: 經查：(一)被告於93年4月3日前往泰國，並於同年月7日與共犯陳玉婉在泰國曼谷市法拉坎農區註冊辦事處登記結婚，取得上開註冊辦事處核發之結婚登記書、結婚證書等文件後，被告即行返臺，並於同年5月19日持經我國駐泰國臺北經濟文化辦事處認證之上開結婚登記書、結婚證書等資料，至臺南縣永康市戶政事務所填寫結婚登記申請書，申請辦理其與共犯陳玉婉之結婚登記，並取得戶籍謄本 \n",
            "8: 迨共犯陳玉婉來臺後，為取得居留身分，被告與共犯陳玉婉於同年6月14日及94年5月5日，均持前開戶籍謄本等資料，先後向臺南縣政府警察局外事課申請核發共犯陳玉婉之外僑居留證及申請居留證延期等情，業據被告供承在卷，並有結婚登記申請書、授權書各1份、結婚登記書、結婚證書各1份（含中文、泰文影本及我國駐泰國臺北經濟文化辦事處認證之資料）、93年6月14日及94年5月5日之外國人居留停留案件聲請表各1份、被告及共犯陳玉婉之入出國日期紀錄各1份、共犯陳玉婉之外僑居留資料查詢1份在卷可按（見警三卷即南市警一刑偵字第0994101517號卷第6至24、33頁） \n",
            "9: 上開事實，首堪認定 \n",
            "10: (二)共犯詹巧薇、張晉源等人當時欲找臺灣人與泰國女子結婚，由共犯林清水於報紙上刊登徵人廣告，若應徵者符合與泰國人結婚之條件，便將應徵者介紹予共犯詹巧薇、張晉源等人，共犯林清水可從中獲取1萬元之仲介費，適被告依前開徵人廣告應徵，共犯林清水衡量其條件後告知其可至泰國結婚，其除不用負擔前往泰國之機票及食宿費用外，尚可獲取5至6萬元之報酬，被告應允同意後，共犯林清水將其介紹予詹巧薇、張晉源等人，被告即依指示前往泰國與為了來臺工作且無結婚真意的共犯陳玉婉辦理結婚事宜等情，業據共犯林清水於警詢時證稱：伊登報徵人到泰國結婚，被告看報紙來的，伊便轉介予共犯詹巧薇，由共犯詹巧薇安排後續到泰國結婚之事宜，被告除不用負擔前往泰國機票、食宿等費用，尚可獲取約5至6萬元酬勞，伊則可自共犯詹巧薇獲取約1萬元之仲介費用；伊只有將被告轉介予共犯詹巧薇，並未參與後續被告前往泰國之證照、機票、食宿等相關事宜；被告係因缺錢，為了賺取擔任人頭配偶的佣金5至6萬，並不是真的要與泰國人結婚，共犯陳玉婉係為了來臺灣工作賺錢，亦不是真的要與臺灣人結婚等語（見警三卷第2至3頁）；並於本院審理時具結證稱：當初共犯詹巧薇、張晉源等人欲找男子前往泰國結婚，伊曾刊登「男、女不限、經驗不拘」等內容之徵人廣告，被告見報應徵時，被告係因缺錢才來找伊，伊衡量被告條件後認為其只能利用結婚賺取報酬，伊才向其表示是要辦結婚，伊告知被告可安排其去泰國結婚，其不用負擔食宿及機票等費用，可實拿5至6萬元的報酬，被告同意後，伊將被告介紹予共犯詹巧薇、張晉源，共犯張晉源給付佣金1萬元予伊；伊與被告談論泰國結婚事宜時，伊與被告均不知被告之結婚對象為何人，伊亦未見過與被告結婚之泰國女子，伊僅介紹被告予共犯詹巧薇、張晉源等人，伊並未參予後續之泰國結婚、辦理結婚登記及居留申請等事情；被告曾給伊一部機車，當時被告表示要去別的地方，機車留在臺南無人使用，伊修理使用一段期間後，因再度壞掉便未再使用等語（見本院卷第68頁背面至71頁）\n"
          ]
        }
      ],
      "source": [
        "print(prompt2)"
      ]
    },
    {
      "cell_type": "code",
      "execution_count": null,
      "metadata": {
        "colab": {
          "base_uri": "https://localhost:8080/"
        },
        "id": "06KHdpSi_rI2",
        "outputId": "7845525e-5bc7-4ebe-c813-0a742db1c3df"
      },
      "outputs": [
        {
          "name": "stdout",
          "output_type": "stream",
          "text": [
            "1: (二)共犯詹巧薇、張晉源等人當時欲找臺灣人與泰國女子結婚，由共犯林清水於報紙上刊登徵人廣告，若應徵者符合與泰國人結婚之條件，便將應徵者介紹予共犯詹巧薇、張晉源等人，共犯林清水可從中獲取1萬元之仲介費，適被告依前開徵人廣告應徵，共犯林清水衡量其條件後告知其可至泰國結婚，其除不用負擔前往泰國之機票及食宿費用外，尚可獲取5至6萬元之報酬，被告應允同意後，共犯林清水將其介紹予詹巧薇、張晉源等人，被告即依指示前往泰國與為了來臺工作且無結婚真意的共犯陳玉婉辦理結婚事宜等情，業據共犯林清水於警詢時證稱：伊登報徵人到泰國結婚，被告看報紙來的，伊便轉介予共犯詹巧薇，由共犯詹巧薇安排後續到泰國結婚之事宜，被告除不用負擔前往泰國機票、食宿等費用，尚可獲取約5至6萬元酬勞，伊則可自共犯詹巧薇獲取約1萬元之仲介費用；伊只有將被告轉介予共犯詹巧薇，並未參與後續被告前往泰國之證照、機票、食宿等相關事宜；被告係因缺錢，為了賺取擔任人頭配偶的佣金5至6萬，並不是真的要與泰國人結婚，共犯陳玉婉係為了來臺灣工作賺錢，亦不是真的要與臺灣人結婚等語（見警三卷第2至3頁）；並於本院審理時具結證稱：當初共犯詹巧薇、張晉源等人欲找男子前往泰國結婚，伊曾刊登「男、女不限、經驗不拘」等內容之徵人廣告，被告見報應徵時，被告係因缺錢才來找伊，伊衡量被告條件後認為其只能利用結婚賺取報酬，伊才向其表示是要辦結婚，伊告知被告可安排其去泰國結婚，其不用負擔食宿及機票等費用，可實拿5至6萬元的報酬，被告同意後，伊將被告介紹予共犯詹巧薇、張晉源，共犯張晉源給付佣金1萬元予伊；伊與被告談論泰國結婚事宜時，伊與被告均不知被告之結婚對象為何人，伊亦未見過與被告結婚之泰國女子，伊僅介紹被告予共犯詹巧薇、張晉源等人，伊並未參予後續之泰國結婚、辦理結婚登記及居留申請等事情；被告曾給伊一部機車，當時被告表示要去別的地方，機車留在臺南無人使用，伊修理使用一段期間後，因再度壞掉便未再使用等語（見本院卷第68頁背面至71頁） \n",
            "2: 迨陳玉婉來臺後，為取得居留身分，再由陳泰龍、陳玉婉承前概括之犯意聯絡，於同年6月14日及94年5月5日，均持前開登載不實之戶籍謄本等資料，先後向臺南縣政府警察局外事課申請核發陳玉婉之外僑居留證及申請居留證延期而連續行使之（業經檢察官當庭補充），經承辦人員實質審查結果，均未發覺陳泰龍與陳玉婉假結婚之實情，而發給陳玉婉居留證或核准延期，各足以生損害於主管機關對外僑居留管理之正確性 \n",
            "3: 二、案經臺南市警察局（現改制為臺南市政府警察局，以下沿用舊制稱謂）第一分局報告臺灣臺南地方法院檢察署檢察官偵查起訴 \n",
            "4: 理由甲、程序方面：一、本件以下所引用具傳聞證據性質之供述證據，因本件被告陳泰龍、檢察官等人於本院準備程序進行時，均未爭執前開陳述之證據能力，且迄至本案言詞辯論終結前亦均未聲明異議，應視為已同意援引作為證據，又本院審酌前開證據作成時之情況及證據取得過程等節，並無非出於任意性、不正取供或其他違法不當情事，且客觀上亦無顯不可信之情況，堪認為適當，是依刑事訴訟法第159條之5規定，均有證據能力 \n",
            "5: 二、卷附之被告及陳玉婉入出國日期紀錄各1份等書證，均非屬供述證據，皆無傳聞法則之適用，復均無違反法定程序取得之情形，依刑事訴訟法第158條之4規定之反面解釋，均應有證據能力 \n",
            "6: 乙、實體方面：一、訊據被告固坦承於上開時、地，透過共犯林清水之介紹，先至泰國辦理與共犯陳玉婉之結婚手續，再前往臺南縣永康市戶政事務所辦理結婚登記，又前往臺南縣政府警察局外事課辦理共犯陳玉婉之外僑居留證及申請居留證延期之事實，惟矢口否認有何行使使公務員登載不實文書情事，於本院審理時辯稱：伊當時經濟狀況良好，因同居女友欲去日本工作而不願結婚，然伊希望結婚生子，遂透過共犯林清水之介紹與安排，共犯林清水先讓伊看過共犯陳玉婉之照片，伊再前往泰國與共犯陳玉婉結婚，伊僅負擔自己的來回機票錢及泰國住宿費用，其他結婚費用均由共犯林清水負擔，伊則贈送伊的一部機車予共犯林清水以為回報，伊並不認識共犯詹巧薇云云 \n",
            "7: 經查：(一)被告於93年4月3日前往泰國，並於同年月7日與共犯陳玉婉在泰國曼谷市法拉坎農區註冊辦事處登記結婚，取得上開註冊辦事處核發之結婚登記書、結婚證書等文件後，被告即行返臺，並於同年5月19日持經我國駐泰國臺北經濟文化辦事處認證之上開結婚登記書、結婚證書等資料，至臺南縣永康市戶政事務所填寫結婚登記申請書，申請辦理其與共犯陳玉婉之結婚登記，並取得戶籍謄本 \n",
            "8: 迨共犯陳玉婉來臺後，為取得居留身分，被告與共犯陳玉婉於同年6月14日及94年5月5日，均持前開戶籍謄本等資料，先後向臺南縣政府警察局外事課申請核發共犯陳玉婉之外僑居留證及申請居留證延期等情，業據被告供承在卷，並有結婚登記申請書、授權書各1份、結婚登記書、結婚證書各1份（含中文、泰文影本及我國駐泰國臺北經濟文化辦事處認證之資料）、93年6月14日及94年5月5日之外國人居留停留案件聲請表各1份、被告及共犯陳玉婉之入出國日期紀錄各1份、共犯陳玉婉之外僑居留資料查詢1份在卷可按（見警三卷即南市警一刑偵字第0994101517號卷第6至24、33頁） \n",
            "9: 上開事實，首堪認定 \n",
            "10: 一、陳泰龍明知其與泰國籍女子陳玉婉（泰國名字為JARUWANWONGPRATOOM，陳玉婉涉嫌本案偽造文書部分，另經臺灣臺南地方法院檢察署檢察官通緝中）間並無結婚之真意，然因詹巧薇、張晉源等人欲找臺灣男子前往泰國與泰國女子辦理假結婚，林清水負責介紹臺灣男子予詹巧薇、張晉源等人以賺取新臺幣（下同）1萬元之仲介費，適陳泰龍依林清水於報紙上刊登之徵人廣告應徵時，由林清水告知泰國女子欲以假結婚之方式申請來臺居留工作，其若擔任假結婚之人頭老公，除不用負擔前往泰國之食宿、機票費用外，尚可獲取5、6萬元之報酬，迨陳泰龍應允同意後，林清水將其轉介紹予詹巧薇、張晉源等人，陳泰龍遂與林清水、詹巧薇、張晉源等人共同基於行使使公務員登載不實公文書之概括犯意聯絡，先由陳泰龍依指示於民國93年4月3日前往泰國，並於同年月7日與陳玉婉在泰國曼谷市法拉坎農區註冊辦事處登記結婚，取得上開註冊辦事處核發之結婚登記書、結婚證書等文件後，陳泰龍即行返臺，並於同年5月19日持經我國駐泰國臺北經濟文化辦事處認證之上開結婚登記書、結婚證書等資料，至臺南縣永康市（改制前稱謂，以下沿用舊制稱謂）戶政事務所填寫結婚登記申請書，申請辦理其與陳玉婉之結婚登記，因此使上開戶政事務所僅有形式審查權之承辦公務員陷於錯誤，於形式上審核後，將陳泰龍與陳玉婉於93年4月7日結婚之不實事項，登載於其職務上所掌屬公文書之戶籍登記資料內，並據以核發戶籍謄本，而足以生損害於戶政機關對於戶政管理及戶籍登記資料維護之正確性\n"
          ]
        }
      ],
      "source": [
        "print(prompt3)"
      ]
    },
    {
      "cell_type": "code",
      "execution_count": null,
      "metadata": {
        "id": "4vWBeE_k-tP8"
      },
      "outputs": [],
      "source": [
        "query = \"我需要你幫我挑選出和犯罪情境最相關的三個句子。這些句子都是來自判決書，而我需要找出與犯罪相關的內容。請從以下給出的句子中挑選三個最符合犯罪情境的。\\n\""
      ]
    },
    {
      "cell_type": "code",
      "execution_count": null,
      "metadata": {
        "colab": {
          "base_uri": "https://localhost:8080/"
        },
        "id": "Tq9sKMa8_0Sy",
        "outputId": "4122cbd7-e05f-41fc-f36c-3aa6bc2177d8"
      },
      "outputs": [
        {
          "name": "stdout",
          "output_type": "stream",
          "text": [
            " 1: 乙、實體方面：一、訊據被告固坦承於上開時、地，透過共犯林清水之介紹，先至泰國辦理與共犯陳玉婉之結婚手續，再前往臺南縣永康市戶政事務所辦理結婚登記，又前往臺南縣政府警察局外事課辦理共犯陳玉婉之外僑居留證及申請居留證延期之事實，惟矢口否認有何行使使公務員登載不實文書情事，於本院審理時辯稱：伊當時經濟狀況良好，因同居女友欲去日本工作而不願結婚，然伊希望結婚生子，遂透過共犯林清水之介紹與安排，共犯林清水先讓伊看過共犯陳玉婉之照片，伊再前往泰國與共犯陳玉婉結婚，伊僅負擔自己的來回機票錢及泰國住宿費用，其他結婚費用均由共犯林清水負擔，伊則贈送伊的一部機車予共犯林清水以為回報，伊並不認識共犯詹巧薇云云\n",
            "\n",
            "2: 迨共犯陳玉婉來臺後，為取得居留身分，被告與共犯陳玉婉於同年6月14日及94年5月5日，均持前開戶籍謄本等資料，先後向臺南縣政府警察局外事課申請核發共犯陳玉婉之外僑居留證及申請居留證延期等情，業據被告供承在卷，並有結婚登記申請書、授權書各1份、結婚登記書、結婚證書各1份（含中文、泰文影本及我國駐泰國臺北經濟文化辦事處認證之資料）、93年6月14日及94年5月5日之外國人居留停留案件聲請表各1份、被告及共犯陳玉婉之入出國日期紀錄各1份、共犯陳玉婉之外僑居留資料查詢1份在卷可按（見警三卷即南市警一刑偵字第0994101517號卷第6至24、33頁）\n",
            "\n",
            "3: 上開事實，首堪認定\n"
          ]
        }
      ],
      "source": [
        "print(get_breeze(query+prompt1))"
      ]
    },
    {
      "cell_type": "code",
      "execution_count": null,
      "metadata": {
        "colab": {
          "base_uri": "https://localhost:8080/"
        },
        "id": "BCTEoHHj_3vn",
        "outputId": "9ca415aa-8649-4f42-cc9f-168c8d1821ff"
      },
      "outputs": [
        {
          "name": "stdout",
          "output_type": "stream",
          "text": [
            " 1: 一、陳泰龍明知其與泰國籍女子陳玉婉（泰國名字為JARUWANWONGPRATOOM，陳玉婉涉嫌本案偽造文書部分，另經臺灣臺南地方法院檢察署檢察官通緝中）間並無結婚之真意，然因詹巧薇、張晉源等人欲找臺灣男子前往泰國與泰國女子辦理假結婚，林清水負責介紹臺灣男子予詹巧薇、張晉源等人以賺取新臺幣（下同）1萬元之仲介費，適陳泰龍依林清水於報紙上刊登之徵人廣告應徵時，由林清水告知泰國女子欲以假結婚之方式申請來臺居留工作，其若擔任假結婚之人頭老公，除不用負擔前往泰國之食宿、機票費用外，尚可獲取5、6萬元之報酬，迨陳泰龍應允同意後，林清水將其轉介紹予詹巧薇、張晉源等人，陳泰龍遂與林清水、詹巧薇、張晉源等人共同基於行使使公務員登載不實公文書之概括犯意聯絡，先由陳泰龍依指示於民國93年4月3日前往泰國，並於同年月7日與陳玉婉在泰國曼谷市法拉坎農區註冊辦事處登記結婚，取得上開註冊辦事處核發之結婚登記書、結婚證書等文件後，陳泰龍即行返臺，並於同年5月19日持經我國駐泰國臺北經濟文化辦事處認證之上開結婚登記書、結婚證書等資料，至臺南縣永康市（改制前稱謂，以下沿用舊制稱謂）戶政事務所填寫結婚登記申請書，申請辦理其與陳玉婉之結婚登記，因此使上開戶政事務所僅有形式審查權之承辦公務員陷於錯誤，於形式上審核後，將陳泰龍與陳玉婉於93年4月7日結婚之不實事項，登載於其職務上所掌屬公文書之戶籍登記資料內，並據以核發戶籍謄本，而足以生損害於戶政機關對於戶政管理及戶籍登記資料維護之正確性\n",
            "\n",
            "2: 迨陳玉婉來臺後，為取得居留身分，再由陳泰龍、陳玉婉承前概括之犯意聯絡，於同年6月14日及94年5月5日，均持前開登載不實之戶籍謄本等資料，先後向臺南縣政府警察局外事課申請核發陳玉婉之外僑居留證及申請居留證延期而連續行使之（業經檢察官當庭補充），經承辦人員實質審查結果，均未發覺陳泰龍與陳玉婉假結婚之實情，而發給陳玉婉居留證或核准延期，各足以生損害於主管機關對外僑居留管理之正確性\n",
            "\n",
            "3: 二、案經臺南市警察局（現改制為臺南市政府警察局，以下沿用舊制稱謂）第一分局報告臺灣臺南地方法院檢察署檢察官偵查起訴\n"
          ]
        }
      ],
      "source": [
        "print(get_breeze(query+prompt2))"
      ]
    },
    {
      "cell_type": "code",
      "execution_count": null,
      "metadata": {
        "colab": {
          "base_uri": "https://localhost:8080/"
        },
        "id": "8LFtybrv_4b2",
        "outputId": "2ee1a9a0-7db2-4076-f750-00892fe2ad3d"
      },
      "outputs": [
        {
          "name": "stdout",
          "output_type": "stream",
          "text": [
            " 1: (二)共犯詹巧薇、張晉源等人當時欲找臺灣人與泰國女子結婚，由共犯林清水於報紙上刊登徵人廣告，若應徵者符合與泰國人結婚之條件，便將應徵者介紹予共犯詹巧薇、張晉源等人，共犯林清水可從中獲取1萬元之仲介費，適被告依前開徵人廣告應徵，共犯林清水衡量其條件後告知其可至泰國結婚，其除不用負擔前往泰國之機票及食宿費用外，尚可獲取5至6萬元之報酬，被告應允同意後，共犯林清水將其介紹予詹巧薇、張晉源等人，被告即依指示前往泰國與為了來臺工作且無結婚真意的共犯陳玉婉辦理結婚事宜等情，業據共犯林清水於警詢時證稱：伊登報徵人到泰國結婚，被告看報紙來的，伊便轉介予共犯詹巧薇，由共犯詹巧薇安排後續到泰國結婚之事宜，被告除不用負擔前往泰國機票、食宿等費用，尚可獲取約5至6萬元酬勞，伊則可自共犯詹巧薇獲取約1萬元之仲介費用；伊只有將被告轉介予共犯詹巧薇，並未參與後續被告前往泰國之證照、機票、食宿等相關事宜；被告係因缺錢，為了賺取擔任人頭配偶的佣金5至6萬，並\n"
          ]
        }
      ],
      "source": [
        "print(get_breeze(query+prompt3))"
      ]
    },
    {
      "cell_type": "code",
      "execution_count": null,
      "metadata": {
        "id": "r7Bjs2wuAAtf"
      },
      "outputs": [],
      "source": [
        "query = \"我需要你幫我挑選出和犯罪行為最相關的三個句子。這些句子都是來自判決書，請從以下給出的句子中挑選三個最和犯罪行為相關的。\\n\""
      ]
    },
    {
      "cell_type": "code",
      "execution_count": null,
      "metadata": {
        "colab": {
          "base_uri": "https://localhost:8080/"
        },
        "id": "TK8QjAreAOe6",
        "outputId": "da4d3bbb-fe20-4bf5-81d7-f2b92e684324"
      },
      "outputs": [
        {
          "name": "stdout",
          "output_type": "stream",
          "text": [
            " 1: 乙、實體方面：一、訊據被告固坦承於上開時、地，透過共犯林清水之介紹，先至泰國辦理與共犯陳玉婉之結婚手續，再前往臺南縣永康市戶政事務所辦理結婚登記，又前往臺南縣政府警察局外事課辦理共犯陳玉婉之外僑居留證及申請居留證延期之事實，惟矢口否認有何行使使公務員登載不實文書情事，於本院審理時辯稱：伊當時經濟狀況良好，因同居女友欲去日本工作而不願結婚，然伊希望結婚生子，遂透過共犯林清水之介紹與安排，共犯林清水先讓伊看過共犯陳玉婉之照片，伊再前往泰國與共犯陳玉婉結婚，伊僅負擔自己的來回機票錢及泰國住宿費用，其他結婚費用均由共犯林清水負擔，伊則贈送伊的一部機車予共犯林清水以為回報，伊並不認識共犯詹巧薇云云\n",
            "\n",
            "2: 迨共犯陳玉婉來臺後，為取得居留身分，被告與共犯陳玉婉於同年6月14日及94年5月5日，均持前開戶籍謄本等資料，先後向臺南縣政府警察局外事課申請核發共犯陳玉婉之外僑居留證及申請居留證延期等情，業據被告供承在卷，並有結婚登記申請書、授權書各1份、結婚登記書、結婚證書各1份（含中文、泰文影本及我國駐泰國臺北經濟文化辦事處認證之資料）、93年6月14日及94年5月5日之外國人居留停留案件聲請表各1份、被告及共犯陳玉婉之入出國日期紀錄各1份、共犯陳玉婉之外僑居留資料查詢1份在卷可按（見警三卷即南市警一刑偵字第0994101517號卷第6至24、33頁）\n",
            "\n",
            "3: 上開事實，首堪認定\n"
          ]
        }
      ],
      "source": [
        "print(get_breeze(query+prompt1))"
      ]
    },
    {
      "cell_type": "code",
      "execution_count": null,
      "metadata": {
        "colab": {
          "base_uri": "https://localhost:8080/"
        },
        "id": "UvEHVmHJAQtl",
        "outputId": "6825c11b-f2f5-4a36-fa8e-8805f52e5937"
      },
      "outputs": [
        {
          "name": "stdout",
          "output_type": "stream",
          "text": [
            " 1: 一、陳泰龍明知其與泰國籍女子陳玉婉（泰國名字為JARUWANWONGPRATOOM，陳玉婉涉嫌本案偽造文書部分，另經臺灣臺南地方法院檢察署檢察官通緝中）間並無結婚之真意，然因詹巧薇、張晉源等人欲找臺灣男子前往泰國與泰國女子辦理假結婚，林清水負責介紹臺灣男子予詹巧薇、張晉源等人以賺取新臺幣（下同）1萬元之仲介費，適陳泰龍依林清水於報紙上刊登之徵人廣告應徵時，由林清水告知泰國女子欲以假結婚之方式申請來臺居留工作，其若擔任假結婚之人頭老公，除不用負擔前往泰國之食宿、機票費用外，尚可獲取5、6萬元之報酬，迨陳泰龍應允同意後，林清水將其轉介紹予詹巧薇、張晉源等人，陳泰龍遂與林清水、詹巧薇、張晉源等人共同基於行使使公務員登載不實公文書之概括犯意聯絡，先由陳泰龍依指示於民國93年4月3日前往泰國，並於同年月7日與陳玉婉在泰國曼谷市法拉坎農區註冊辦事處登記結婚，取得上開註冊辦事處核發之結婚登記書、結婚證書等文件後，陳泰龍即行返臺，並於同年5月19日持經我國駐泰國臺北經濟文化辦事處認證之上開結婚登記書、結婚證書等資料，至臺南縣永康市（改制前稱謂，以下沿用舊制稱謂）戶政事務所填寫結婚登記申請書，申請辦理其與陳玉婉之結婚登記，因此使上開戶政事務所僅有形式審查權之承辦公務員陷於錯誤，於形式上審核後，將陳泰龍與陳玉婉於93年4月7日結婚之不實事項，登載於其職務上所掌屬公文書之戶籍登記資料內，並據以核發戶籍謄本，而足以生損害於戶政機關對於戶政管理及戶籍登記資料維護之正確性\n",
            "\n",
            "2: 迨陳玉婉來臺後，為取得居留身分，再由陳泰龍、陳玉婉承前概括之犯意聯絡，於同年6月14日及94年5月5日，均持前開登載不實之戶籍謄本等資料，先後向臺南縣政府警察局外事課申請核發陳玉婉之外僑居留證及申請居留證延期而連續行使之（業經檢察官當庭補充），經承辦人員實質審查結果，均未發覺陳泰龍與陳玉婉假結婚之實情，而發給陳玉婉居留證或核准延期，各足以生損害於主管機關對外僑居留管理之正確性\n"
          ]
        }
      ],
      "source": [
        "print(get_breeze(query+prompt2))"
      ]
    },
    {
      "cell_type": "code",
      "execution_count": null,
      "metadata": {
        "colab": {
          "base_uri": "https://localhost:8080/"
        },
        "id": "_tUBAqNGAR45",
        "outputId": "d18315e4-3276-422c-f81f-81f51f10ca87"
      },
      "outputs": [
        {
          "name": "stdout",
          "output_type": "stream",
          "text": [
            " 1: (二)共犯詹巧薇、張晉源等人當時欲找臺灣人與泰國女子結婚，由共犯林清水於報紙上刊登徵人廣告，若應徵者符合與泰國人結婚之條件，便將應徵者介紹予共犯詹巧薇、張晉源等人，共犯林清水可從中獲取1萬元之仲介費，適被告依前開徵人廣告應徵，共犯林清水衡量其條件後告知其可至泰國結婚，其除不用負擔前往泰國之機票及食宿費用外，尚可獲取5至6萬元之報酬，被告應允同意後，共犯林清水將其介紹予詹巧薇、張晉源等人，被告即依指示前往泰國與為了來臺工作且無結婚真意的共犯陳玉婉辦理結婚事宜等情，業據共犯林清水於警詢時證稱：伊登報徵人到泰國結婚，被告看報紙來的，伊便轉介予共犯詹巧薇，由共犯詹巧薇安排後續到泰國結婚之事宜，被告除不用負擔前往泰國機票、食宿等費用，尚可獲取約5至6萬元酬勞，伊則可自共犯詹巧薇獲取約1萬元之仲介費用；伊只有將被告轉介予共犯詹巧薇，並未參與後續被告前往泰國之證照、機票、食宿等相關事宜；被告係因缺錢，為了賺取擔任人頭配偶的佣金5至6萬，並\n"
          ]
        }
      ],
      "source": [
        "print(get_breeze(query+prompt3))"
      ]
    },
    {
      "cell_type": "code",
      "execution_count": null,
      "metadata": {
        "id": "hIjW2hnzAWN-"
      },
      "outputs": [],
      "source": [
        "query = \"請從以下給出的句子中挑選三個最重要的句子：\\n\""
      ]
    },
    {
      "cell_type": "code",
      "execution_count": null,
      "metadata": {
        "colab": {
          "base_uri": "https://localhost:8080/"
        },
        "id": "-1zEYy3nAfVS",
        "outputId": "eec744f4-430c-43d5-9a97-04b633fc6f5b"
      },
      "outputs": [
        {
          "name": "stdout",
          "output_type": "stream",
          "text": [
            " 1: 被告固坦承於上開時、地，透過共犯林清水之介紹，先至泰國辦理與共犯陳玉婉之結婚手續，再前往臺南縣永康市戶政事務所辦理結婚登記，又前往臺南縣政府警察局外事課辦理共犯陳玉婉之外僑居留證及申請居留證延期之事實，惟矢口否認有何行使使公務員登載不實文書情事，於本院審理時辯稱：伊當時經濟狀況良好，因同居女友欲去日本工作而不願結婚，然伊希望結婚生子，遂透過共犯林清水之介紹與安排，共犯林清水先讓伊看過共犯陳玉婉之照片，伊再前往泰國與共犯陳玉婉結婚，伊僅負擔自己的來回機票錢及泰國住宿費用，其他結婚費用均由共犯林清水負擔，伊則贈送伊的一部機車予共犯林清水以為回報，伊並不認識共犯詹巧薇云云。\n",
            "2: 迨共犯陳玉婉來臺後，為取得居留身分，被告與共犯陳玉婉於同年6月14日及94年5月5日，均持前開戶籍謄本等資料，先後向臺南縣政府警察局外事課申請核發共犯陳玉婉之外僑居留證及申請居留證延期等情，業據被告供承在卷，並有結婚登記申請書、授權書各1份、結婚登記書、結婚證書各1份（含中文、泰文影本及我國駐泰國臺北經濟文化辦事處認證之資料）、93年6月14日及94年5月5日之外國人居留停留案件聲請表各1份、被告及共犯陳玉婉之入出國日期紀錄各1份、共犯陳玉婉之外僑居留資料查詢1份在卷可按（見警三卷即南市警一刑偵字第0994101517號卷第6至24、33頁）。\n",
            "3: 上開事實，首堪認定。\n"
          ]
        }
      ],
      "source": [
        "print(get_breeze(query+prompt1))"
      ]
    },
    {
      "cell_type": "code",
      "execution_count": null,
      "metadata": {
        "colab": {
          "base_uri": "https://localhost:8080/"
        },
        "id": "ToFIDA8RAgex",
        "outputId": "1ba3f8bf-8849-41d1-8ee9-50e524e0d056"
      },
      "outputs": [
        {
          "name": "stdout",
          "output_type": "stream",
          "text": [
            " 1. 陳泰龍明知其與泰國籍女子陳玉婉（泰國名字為JARUWANWONGPRATOOM，陳玉婉涉嫌本案偽造文書部分，另經臺灣臺南地方法院檢察署檢察官通緝中）間並無結婚之真意，然因詹巧薇、張晉源等人欲找臺灣男子前往泰國與泰國女子辦理假結婚，林清水負責介紹臺灣男子予詹巧薇、張晉源等人以賺取新臺幣（下同）1萬元之仲介費，適陳泰龍依林清水於報紙上刊登之徵人廣告應徵時，由林清水告知泰國女子欲以假結婚之方式申請來臺居留工作，其若擔任假結婚之人頭老公，除不用負擔前往泰國之食宿、機票費用外，尚可獲取5、6萬元之報酬，迨陳泰龍應允同意後，林清水將其轉介紹予詹巧薇、張晉源等人，陳泰龍遂與林清水、詹巧薇、張晉源等人共同基於行使使公務員登載不實公文書之概括犯意聯絡，先由陳泰龍依指示於民國93年4月3日前往泰國，並於同年月7日與陳玉婉在泰國曼谷市法拉坎農區註冊辦事處登記結婚，取得上開註冊辦事處核發之結婚登記書、結婚證書等文件後，陳泰龍即行返臺，並於同年5月19日持經我國駐泰國臺北經濟文化辦事處認證之上開結婚登記書、結婚證書等資料，至臺南縣永康市（改制前稱謂，以下沿用舊制稱謂）戶政事務所填寫結婚登記申請書，申請辦理其與陳玉婉之結婚登記，因此使上開戶政事務所僅有形式審查權之承辦公務員陷於錯誤，於形式上審核後，將陳泰龍與陳玉婉於93年4月7日結婚之不實事項，登載於其職務上所掌屬公文書之戶籍登記資料內，並據以核發戶籍謄本，而足以生損害於戶政機關對於戶政管理及戶籍登記資料維護之正確性。\n",
            "2. 迨陳玉婉來臺後，為取得居留身分，再由陳泰龍、陳玉婉承前概括之犯意聯絡，於同年6月14日及94年5月5日，均持前開登載不實之戶籍謄本等資料，先後向臺南縣政府警察局外事課申請核發陳玉婉之外僑居留證及申請居留證延期而連續行使之（業經檢察官當庭補充），經承辦人員實質審查結果，均未發覺陳泰龍與陳玉婉假結婚之實情，而發給陳玉婉居留證或核准延期，各足以生損害於主管機關對外僑居留管理之正確性。\n",
            "3. 案經臺南市警察局（現改制為臺南市政府警察局，以下沿用舊制稱謂）第一分局報告臺灣臺南地方法院檢察署檢察官偵查起訴。\n"
          ]
        }
      ],
      "source": [
        "print(get_breeze(query+prompt2))"
      ]
    },
    {
      "cell_type": "code",
      "execution_count": null,
      "metadata": {
        "colab": {
          "base_uri": "https://localhost:8080/"
        },
        "id": "9CM-DML5AiDx",
        "outputId": "3ac367c1-1f49-48bc-d6e3-83de1b92800d"
      },
      "outputs": [
        {
          "name": "stdout",
          "output_type": "stream",
          "text": [
            " 1. 共犯詹巧薇、張晉源等人欲找臺灣人與泰國女子結婚，由共犯林清水於報紙上刊登徵人廣告，應徵者符合條件將介紹予詹巧薇、張晉源等人，林清水可從中獲取1萬元之仲介費。\n",
            "2. 被告依指示前往泰國與泰國女子陳玉婉辦理結婚事宜，被告不用負擔前往泰國機票、食宿等費用，可獲取約5至6萬元報酬，林清水則自詹巧薇獲取約1萬元之仲介費用。\n",
            "3. 被告與陳玉婉於泰國辦理結婚手續後，返回臺灣辦理結婚登記，並持相關文件向臺南縣政府警察局外事課申請核發陳玉婉之外僑居留證及申請居留證延期。\n",
            "4. 被告與陳玉婉的結婚行為是為了取得居留身分，而非真的要結婚。\n",
            "5. 被告與共犯林清水、詹巧薇、張晉源等人共同基於行使使公務員登載不實公文書之概括犯意聯絡。\n",
            "6. 被告的行為足以生損害於主管機關對外僑居留管理之正確性。\n"
          ]
        }
      ],
      "source": [
        "print(get_breeze(query+prompt3))"
      ]
    },
    {
      "cell_type": "code",
      "execution_count": null,
      "metadata": {
        "id": "CULbdFAwAwcF"
      },
      "outputs": [],
      "source": [
        "query = \"請從以下給出的句子中挑選三個最像在描寫行為的句子：\\n\""
      ]
    },
    {
      "cell_type": "code",
      "execution_count": null,
      "metadata": {
        "colab": {
          "base_uri": "https://localhost:8080/"
        },
        "id": "Q4InV7sTB_vQ",
        "outputId": "fe370bea-0ea3-46c4-d6ae-22ec13a60b44"
      },
      "outputs": [
        {
          "name": "stdout",
          "output_type": "stream",
          "text": [
            "1: 乙、實體方面：一、訊據被告固坦承於上開時、地，透過共犯林清水之介紹，先至泰國辦理與共犯陳玉婉之結婚手續，再前往臺南縣永康市戶政事務所辦理結婚登記，又前往臺南縣政府警察局外事課辦理共犯陳玉婉之外僑居留證及申請居留證延期之事實，惟矢口否認有何行使使公務員登載不實文書情事，於本院審理時辯稱：伊當時經濟狀況良好，因同居女友欲去日本工作而不願結婚，然伊希望結婚生子，遂透過共犯林清水之介紹與安排，共犯林清水先讓伊看過共犯陳玉婉之照片，伊再前往泰國與共犯陳玉婉結婚，伊僅負擔自己的來回機票錢及泰國住宿費用，其他結婚費用均由共犯林清水負擔，伊則贈送伊的一部機車予共犯林清水以為回報，伊並不認識共犯詹巧薇云云\n",
            "2: 迨共犯陳玉婉來臺後，為取得居留身分，被告與共犯陳玉婉於同年6月14日及94年5月5日，均持前開戶籍謄本等資料，先後向臺南縣政府警察局外事課申請核發共犯陳玉婉之外僑居留證及申請居留證延期等情，業據被告供承在卷，並有結婚登記申請書、授權書各1份、結婚登記書、結婚證書各1份（含中文、泰文影本及我國駐泰國臺北經濟文化辦事處認證之資料）、93年6月14日及94年5月5日之外國人居留停留案件聲請表各1份、被告及共犯陳玉婉之入出國日期紀錄各1份、共犯陳玉婉之外僑居留資料查詢1份在卷可按（見警三卷即南市警一刑偵字第0994101517號卷第6至24、33頁）\n",
            "3: 上開事實，首堪認定\n",
            "4: 理由甲、程序方面：一、本件以下所引用具傳聞證據性質之供述證據，因本件被告陳泰龍、檢察官等人於本院準備程序進行時，均未爭執前開陳述之證據能力，且迄至本案言詞辯論終結前亦均未聲明異議，應視為已同意援引作為證據，又本院審酌前開證據作成時之情況及證據取得過程等節，並無非出於任意性、不正取供或其他違法不當情事，且客觀上亦無顯不可信之情況，堪認為適當，是依刑事訴訟法第159條之5規定，均有證據能力\n",
            "5: 二、卷附之被告及陳玉婉入出國日期紀錄各1份等書證，均非屬供述證據，皆無傳聞法則之適用，復均無違反法定程序取得之情形，依刑事訴訟法第158條之4規定之反面解釋，均應有證據能力\n",
            "6: 一、陳泰龍明知其與泰國籍女子陳玉婉（泰國名字為JARUWANWONGPRATOOM，陳玉婉涉嫌本案偽造文書部分，另經臺灣臺南地方法院檢察署檢察官通緝中）間並無結婚之真意，然因詹巧薇、張晉源等人欲找臺灣男子前往泰國與泰國女子辦理假結婚，林清水負責介紹臺灣男子予詹巧薇、張晉源等人以賺取新臺幣（下同）1萬元之仲介費，適陳泰龍依林清水於報紙上刊登之徵人廣告應徵時，由林清水告知泰國女子欲以假結婚之方式申請來臺居留工作，其若擔任假結婚之人頭老公，除不用負擔前往泰國之食宿、機票費用外，尚可獲取5、6萬元之報酬，迨陳泰龍應允同意後，林清水將其轉介紹予詹巧薇、張晉源等人，陳泰龍遂與林清水、詹巧薇、張晉源等人共同基於行使使公務員登載不實公文書之概括犯意聯絡，先由陳泰龍依指示於民國93年4月3日前往泰國，並於同年月7日與陳玉婉在泰國曼谷市法拉坎農區註冊辦事處登記結婚，取得上開註冊辦事處核發之結婚登記書、結婚證書等文件後，陳泰龍即行返臺，並於同年5月19日持經我國駐泰國臺北經濟文化辦事處認證之上開結婚登記書、結婚證書等資料，至臺南縣永康市（改制前稱謂，以下沿用舊制稱謂）戶政事務所填寫結婚登記申請書，申請辦理其與陳玉婉之結婚登記，因此使上開戶政事務所僅有形式審查權之承辦公務員陷於錯誤，於形式上審核後，將陳泰龍與陳玉婉於93年4月7日結婚之不實事項，登載於其職務上所掌屬公文書之戶籍登記資料內，並據以核發戶籍謄本，而足以生損害於戶政機關對於戶政管理及戶籍登記資料維護之正確性\n",
            "7: 經查：(一)被告於93年4月3日前往泰國，並於同年月7日與共犯陳玉婉在泰國曼谷市法拉坎農區註冊辦事處登記結婚，取得上開註冊辦事處核發之結婚登記書、結婚證書等文件後，被告即行返臺，並於同年5月19日持經我國駐泰國臺北經濟文化辦事處認證之上開結婚登記書、結婚證書等資料，至臺南縣永康市戶政事務所填寫結婚登記申請書，申請辦理其與共犯陳玉婉之結婚登記，並取得戶籍謄本\n",
            "8: 迨陳玉婉來臺後，為取得居留身分，再由陳泰龍、陳玉婉承前概括之犯意聯絡，於同年6月14日及94年5月5日，均持前開登載不實之戶籍謄本等資料，先後向臺南縣政府警察局外事課申請核發陳玉婉之外僑居留證及申請居留證延期而連續行使之（業經檢察官當庭補充），經承辦人員實質審查結果，均未發覺陳泰龍與陳玉婉假結婚之實情，而發給陳玉婉居留證或核准延期，各足以生損害於主管機關對外僑居留管理之正確性\n",
            "9:  二、案經臺南市警察局（現改制為臺南市政府警察局，以下沿用舊制稱謂）第一分局報告臺灣臺南地方法院檢察署檢察官偵查起訴\n",
            "10: (二)共犯詹巧薇、張晉源等人當時欲找臺灣人與泰國女子結婚，由共犯林清水於報紙上刊登徵人廣告，若應徵者符合與泰國人結婚之條件，便將應徵者介紹予共犯詹巧薇、張晉源等人，共犯林清水可從中獲取1萬元之仲介費，適被告依前開徵人廣告應徵，共犯林清水衡量其條件後告知其可至泰國結婚，其除不用負擔前往泰國之機票及食宿費用外，尚可獲取5至6萬元之報酬，被告應允同意後，共犯林清水將其介紹予詹巧薇、張晉源等人，被告即依指示前往泰國與為了來臺工作且無結婚真意的共犯陳玉婉辦理結婚事宜等情，業據共犯林清水於警詢時證稱：伊登報徵人到泰國結婚，被告看報紙來的，伊便轉介予共犯詹巧薇，由共犯詹巧薇安排後續到泰國結婚之事宜，被告除不用負擔前往泰國機票、食宿等費用，尚可獲取約5至6萬元酬勞，伊則可自共犯詹巧薇獲取約1萬元之仲介費用；伊只有將被告轉介予共犯詹巧薇，並未參與後續被告前往泰國之證照、機票、食宿等相關事宜；被告係因缺錢，為了賺取擔任人頭配偶的佣金5至6萬，並不是真的要與泰國人結婚，共犯陳玉婉係為了來臺灣工作賺錢，亦不是真的要與臺灣人結婚等語（見警三卷第2至3頁）；並於本院審理時具結證稱：當初共犯詹巧薇、張晉源等人欲找男子前往泰國結婚，伊曾刊登「男、女不限、經驗不拘」等內容之徵人廣告，被告見報應徵時，被告係因缺錢才來找伊，伊衡量被告條件後認為其只能利用結婚賺取報酬，伊才向其表示是要辦結婚，伊告知被告可安排其去泰國結婚，其不用負擔食宿及機票等費用，可實拿5至6萬元的報酬，被告同意後，伊將被告介紹予共犯詹巧薇、張晉源，共犯張晉源給付佣金1萬元予伊；伊與被告談論泰國結婚事宜時，伊與被告均不知被告之結婚對象為何人，伊亦未見過與被告結婚之泰國女子，伊僅介紹被告予共犯詹巧薇、張晉源等人，伊並未參予後續之泰國結婚、辦理結婚登記及居留申請等事情；被告曾給伊一部機車，當時被告表示要去別的地方，機車留在臺南無人使用，伊修理使用一段期間後，因再度壞掉便未再使用等語（見本院卷第68頁背面至71頁）\n",
            "=======================================================\n",
            "1: 一、陳泰龍明知其與泰國籍女子陳玉婉（泰國名字為JARUWANWONGPRATOOM，陳玉婉涉嫌本案偽造文書部分，另經臺灣臺南地方法院檢察署檢察官通緝中）間並無結婚之真意，然因詹巧薇、張晉源等人欲找臺灣男子前往泰國與泰國女子辦理假結婚，林清水負責介紹臺灣男子予詹巧薇、張晉源等人以賺取新臺幣（下同）1萬元之仲介費，適陳泰龍依林清水於報紙上刊登之徵人廣告應徵時，由林清水告知泰國女子欲以假結婚之方式申請來臺居留工作，其若擔任假結婚之人頭老公，除不用負擔前往泰國之食宿、機票費用外，尚可獲取5、6萬元之報酬，迨陳泰龍應允同意後，林清水將其轉介紹予詹巧薇、張晉源等人，陳泰龍遂與林清水、詹巧薇、張晉源等人共同基於行使使公務員登載不實公文書之概括犯意聯絡，先由陳泰龍依指示於民國93年4月3日前往泰國，並於同年月7日與陳玉婉在泰國曼谷市法拉坎農區註冊辦事處登記結婚，取得上開註冊辦事處核發之結婚登記書、結婚證書等文件後，陳泰龍即行返臺，並於同年5月19日持經我國駐泰國臺北經濟文化辦事處認證之上開結婚登記書、結婚證書等資料，至臺南縣永康市（改制前稱謂，以下沿用舊制稱謂）戶政事務所填寫結婚登記申請書，申請辦理其與陳玉婉之結婚登記，因此使上開戶政事務所僅有形式審查權之承辦公務員陷於錯誤，於形式上審核後，將陳泰龍與陳玉婉於93年4月7日結婚之不實事項，登載於其職務上所掌屬公文書之戶籍登記資料內，並據以核發戶籍謄本，而足以生損害於戶政機關對於戶政管理及戶籍登記資料維護之正確性 \n",
            "2: 迨陳玉婉來臺後，為取得居留身分，再由陳泰龍、陳玉婉承前概括之犯意聯絡，於同年6月14日及94年5月5日，均持前開登載不實之戶籍謄本等資料，先後向臺南縣政府警察局外事課申請核發陳玉婉之外僑居留證及申請居留證延期而連續行使之（業經檢察官當庭補充），經承辦人員實質審查結果，均未發覺陳泰龍與陳玉婉假結婚之實情，而發給陳玉婉居留證或核准延期，各足以生損害於主管機關對外僑居留管理之正確性 \n",
            "3: 二、案經臺南市警察局（現改制為臺南市政府警察局，以下沿用舊制稱謂）第一分局報告臺灣臺南地方法院檢察署檢察官偵查起訴 \n",
            "4: 理由甲、程序方面：一、本件以下所引用具傳聞證據性質之供述證據，因本件被告陳泰龍、檢察官等人於本院準備程序進行時，均未爭執前開陳述之證據能力，且迄至本案言詞辯論終結前亦均未聲明異議，應視為已同意援引作為證據，又本院審酌前開證據作成時之情況及證據取得過程等節，並無非出於任意性、不正取供或其他違法不當情事，且客觀上亦無顯不可信之情況，堪認為適當，是依刑事訴訟法第159條之5規定，均有證據能力 \n",
            "5: 二、卷附之被告及陳玉婉入出國日期紀錄各1份等書證，均非屬供述證據，皆無傳聞法則之適用，復均無違反法定程序取得之情形，依刑事訴訟法第158條之4規定之反面解釋，均應有證據能力 \n",
            "6: 乙、實體方面：一、訊據被告固坦承於上開時、地，透過共犯林清水之介紹，先至泰國辦理與共犯陳玉婉之結婚手續，再前往臺南縣永康市戶政事務所辦理結婚登記，又前往臺南縣政府警察局外事課辦理共犯陳玉婉之外僑居留證及申請居留證延期之事實，惟矢口否認有何行使使公務員登載不實文書情事，於本院審理時辯稱：伊當時經濟狀況良好，因同居女友欲去日本工作而不願結婚，然伊希望結婚生子，遂透過共犯林清水之介紹與安排，共犯林清水先讓伊看過共犯陳玉婉之照片，伊再前往泰國與共犯陳玉婉結婚，伊僅負擔自己的來回機票錢及泰國住宿費用，其他結婚費用均由共犯林清水負擔，伊則贈送伊的一部機車予共犯林清水以為回報，伊並不認識共犯詹巧薇云云 \n",
            "7: 經查：(一)被告於93年4月3日前往泰國，並於同年月7日與共犯陳玉婉在泰國曼谷市法拉坎農區註冊辦事處登記結婚，取得上開註冊辦事處核發之結婚登記書、結婚證書等文件後，被告即行返臺，並於同年5月19日持經我國駐泰國臺北經濟文化辦事處認證之上開結婚登記書、結婚證書等資料，至臺南縣永康市戶政事務所填寫結婚登記申請書，申請辦理其與共犯陳玉婉之結婚登記，並取得戶籍謄本 \n",
            "8: 迨共犯陳玉婉來臺後，為取得居留身分，被告與共犯陳玉婉於同年6月14日及94年5月5日，均持前開戶籍謄本等資料，先後向臺南縣政府警察局外事課申請核發共犯陳玉婉之外僑居留證及申請居留證延期等情，業據被告供承在卷，並有結婚登記申請書、授權書各1份、結婚登記書、結婚證書各1份（含中文、泰文影本及我國駐泰國臺北經濟文化辦事處認證之資料）、93年6月14日及94年5月5日之外國人居留停留案件聲請表各1份、被告及共犯陳玉婉之入出國日期紀錄各1份、共犯陳玉婉之外僑居留資料查詢1份在卷可按（見警三卷即南市警一刑偵字第0994101517號卷第6至24、33頁） \n",
            "9: 上開事實，首堪認定 \n",
            "10: (二)共犯詹巧薇、張晉源等人當時欲找臺灣人與泰國女子結婚，由共犯林清水於報紙上刊登徵人廣告，若應徵者符合與泰國人結婚之條件，便將應徵者介紹予共犯詹巧薇、張晉源等人，共犯林清水可從中獲取1萬元之仲介費，適被告依前開徵人廣告應徵，共犯林清水衡量其條件後告知其可至泰國結婚，其除不用負擔前往泰國之機票及食宿費用外，尚可獲取5至6萬元之報酬，被告應允同意後，共犯林清水將其介紹予詹巧薇、張晉源等人，被告即依指示前往泰國與為了來臺工作且無結婚真意的共犯陳玉婉辦理結婚事宜等情，業據共犯林清水於警詢時證稱：伊登報徵人到泰國結婚，被告看報紙來的，伊便轉介予共犯詹巧薇，由共犯詹巧薇安排後續到泰國結婚之事宜，被告除不用負擔前往泰國機票、食宿等費用，尚可獲取約5至6萬元酬勞，伊則可自共犯詹巧薇獲取約1萬元之仲介費用；伊只有將被告轉介予共犯詹巧薇，並未參與後續被告前往泰國之證照、機票、食宿等相關事宜；被告係因缺錢，為了賺取擔任人頭配偶的佣金5至6萬，並不是真的要與泰國人結婚，共犯陳玉婉係為了來臺灣工作賺錢，亦不是真的要與臺灣人結婚等語（見警三卷第2至3頁）；並於本院審理時具結證稱：當初共犯詹巧薇、張晉源等人欲找男子前往泰國結婚，伊曾刊登「男、女不限、經驗不拘」等內容之徵人廣告，被告見報應徵時，被告係因缺錢才來找伊，伊衡量被告條件後認為其只能利用結婚賺取報酬，伊才向其表示是要辦結婚，伊告知被告可安排其去泰國結婚，其不用負擔食宿及機票等費用，可實拿5至6萬元的報酬，被告同意後，伊將被告介紹予共犯詹巧薇、張晉源，共犯張晉源給付佣金1萬元予伊；伊與被告談論泰國結婚事宜時，伊與被告均不知被告之結婚對象為何人，伊亦未見過與被告結婚之泰國女子，伊僅介紹被告予共犯詹巧薇、張晉源等人，伊並未參予後續之泰國結婚、辦理結婚登記及居留申請等事情；被告曾給伊一部機車，當時被告表示要去別的地方，機車留在臺南無人使用，伊修理使用一段期間後，因再度壞掉便未再使用等語（見本院卷第68頁背面至71頁）\n",
            "=======================================================\n",
            "1: (二)共犯詹巧薇、張晉源等人當時欲找臺灣人與泰國女子結婚，由共犯林清水於報紙上刊登徵人廣告，若應徵者符合與泰國人結婚之條件，便將應徵者介紹予共犯詹巧薇、張晉源等人，共犯林清水可從中獲取1萬元之仲介費，適被告依前開徵人廣告應徵，共犯林清水衡量其條件後告知其可至泰國結婚，其除不用負擔前往泰國之機票及食宿費用外，尚可獲取5至6萬元之報酬，被告應允同意後，共犯林清水將其介紹予詹巧薇、張晉源等人，被告即依指示前往泰國與為了來臺工作且無結婚真意的共犯陳玉婉辦理結婚事宜等情，業據共犯林清水於警詢時證稱：伊登報徵人到泰國結婚，被告看報紙來的，伊便轉介予共犯詹巧薇，由共犯詹巧薇安排後續到泰國結婚之事宜，被告除不用負擔前往泰國機票、食宿等費用，尚可獲取約5至6萬元酬勞，伊則可自共犯詹巧薇獲取約1萬元之仲介費用；伊只有將被告轉介予共犯詹巧薇，並未參與後續被告前往泰國之證照、機票、食宿等相關事宜；被告係因缺錢，為了賺取擔任人頭配偶的佣金5至6萬，並不是真的要與泰國人結婚，共犯陳玉婉係為了來臺灣工作賺錢，亦不是真的要與臺灣人結婚等語（見警三卷第2至3頁）；並於本院審理時具結證稱：當初共犯詹巧薇、張晉源等人欲找男子前往泰國結婚，伊曾刊登「男、女不限、經驗不拘」等內容之徵人廣告，被告見報應徵時，被告係因缺錢才來找伊，伊衡量被告條件後認為其只能利用結婚賺取報酬，伊才向其表示是要辦結婚，伊告知被告可安排其去泰國結婚，其不用負擔食宿及機票等費用，可實拿5至6萬元的報酬，被告同意後，伊將被告介紹予共犯詹巧薇、張晉源，共犯張晉源給付佣金1萬元予伊；伊與被告談論泰國結婚事宜時，伊與被告均不知被告之結婚對象為何人，伊亦未見過與被告結婚之泰國女子，伊僅介紹被告予共犯詹巧薇、張晉源等人，伊並未參予後續之泰國結婚、辦理結婚登記及居留申請等事情；被告曾給伊一部機車，當時被告表示要去別的地方，機車留在臺南無人使用，伊修理使用一段期間後，因再度壞掉便未再使用等語（見本院卷第68頁背面至71頁） \n",
            "2: 迨陳玉婉來臺後，為取得居留身分，再由陳泰龍、陳玉婉承前概括之犯意聯絡，於同年6月14日及94年5月5日，均持前開登載不實之戶籍謄本等資料，先後向臺南縣政府警察局外事課申請核發陳玉婉之外僑居留證及申請居留證延期而連續行使之（業經檢察官當庭補充），經承辦人員實質審查結果，均未發覺陳泰龍與陳玉婉假結婚之實情，而發給陳玉婉居留證或核准延期，各足以生損害於主管機關對外僑居留管理之正確性 \n",
            "3: 二、案經臺南市警察局（現改制為臺南市政府警察局，以下沿用舊制稱謂）第一分局報告臺灣臺南地方法院檢察署檢察官偵查起訴 \n",
            "4: 理由甲、程序方面：一、本件以下所引用具傳聞證據性質之供述證據，因本件被告陳泰龍、檢察官等人於本院準備程序進行時，均未爭執前開陳述之證據能力，且迄至本案言詞辯論終結前亦均未聲明異議，應視為已同意援引作為證據，又本院審酌前開證據作成時之情況及證據取得過程等節，並無非出於任意性、不正取供或其他違法不當情事，且客觀上亦無顯不可信之情況，堪認為適當，是依刑事訴訟法第159條之5規定，均有證據能力 \n",
            "5: 二、卷附之被告及陳玉婉入出國日期紀錄各1份等書證，均非屬供述證據，皆無傳聞法則之適用，復均無違反法定程序取得之情形，依刑事訴訟法第158條之4規定之反面解釋，均應有證據能力 \n",
            "6: 乙、實體方面：一、訊據被告固坦承於上開時、地，透過共犯林清水之介紹，先至泰國辦理與共犯陳玉婉之結婚手續，再前往臺南縣永康市戶政事務所辦理結婚登記，又前往臺南縣政府警察局外事課辦理共犯陳玉婉之外僑居留證及申請居留證延期之事實，惟矢口否認有何行使使公務員登載不實文書情事，於本院審理時辯稱：伊當時經濟狀況良好，因同居女友欲去日本工作而不願結婚，然伊希望結婚生子，遂透過共犯林清水之介紹與安排，共犯林清水先讓伊看過共犯陳玉婉之照片，伊再前往泰國與共犯陳玉婉結婚，伊僅負擔自己的來回機票錢及泰國住宿費用，其他結婚費用均由共犯林清水負擔，伊則贈送伊的一部機車予共犯林清水以為回報，伊並不認識共犯詹巧薇云云 \n",
            "7: 經查：(一)被告於93年4月3日前往泰國，並於同年月7日與共犯陳玉婉在泰國曼谷市法拉坎農區註冊辦事處登記結婚，取得上開註冊辦事處核發之結婚登記書、結婚證書等文件後，被告即行返臺，並於同年5月19日持經我國駐泰國臺北經濟文化辦事處認證之上開結婚登記書、結婚證書等資料，至臺南縣永康市戶政事務所填寫結婚登記申請書，申請辦理其與共犯陳玉婉之結婚登記，並取得戶籍謄本 \n",
            "8: 迨共犯陳玉婉來臺後，為取得居留身分，被告與共犯陳玉婉於同年6月14日及94年5月5日，均持前開戶籍謄本等資料，先後向臺南縣政府警察局外事課申請核發共犯陳玉婉之外僑居留證及申請居留證延期等情，業據被告供承在卷，並有結婚登記申請書、授權書各1份、結婚登記書、結婚證書各1份（含中文、泰文影本及我國駐泰國臺北經濟文化辦事處認證之資料）、93年6月14日及94年5月5日之外國人居留停留案件聲請表各1份、被告及共犯陳玉婉之入出國日期紀錄各1份、共犯陳玉婉之外僑居留資料查詢1份在卷可按（見警三卷即南市警一刑偵字第0994101517號卷第6至24、33頁） \n",
            "9: 上開事實，首堪認定 \n",
            "10: 一、陳泰龍明知其與泰國籍女子陳玉婉（泰國名字為JARUWANWONGPRATOOM，陳玉婉涉嫌本案偽造文書部分，另經臺灣臺南地方法院檢察署檢察官通緝中）間並無結婚之真意，然因詹巧薇、張晉源等人欲找臺灣男子前往泰國與泰國女子辦理假結婚，林清水負責介紹臺灣男子予詹巧薇、張晉源等人以賺取新臺幣（下同）1萬元之仲介費，適陳泰龍依林清水於報紙上刊登之徵人廣告應徵時，由林清水告知泰國女子欲以假結婚之方式申請來臺居留工作，其若擔任假結婚之人頭老公，除不用負擔前往泰國之食宿、機票費用外，尚可獲取5、6萬元之報酬，迨陳泰龍應允同意後，林清水將其轉介紹予詹巧薇、張晉源等人，陳泰龍遂與林清水、詹巧薇、張晉源等人共同基於行使使公務員登載不實公文書之概括犯意聯絡，先由陳泰龍依指示於民國93年4月3日前往泰國，並於同年月7日與陳玉婉在泰國曼谷市法拉坎農區註冊辦事處登記結婚，取得上開註冊辦事處核發之結婚登記書、結婚證書等文件後，陳泰龍即行返臺，並於同年5月19日持經我國駐泰國臺北經濟文化辦事處認證之上開結婚登記書、結婚證書等資料，至臺南縣永康市（改制前稱謂，以下沿用舊制稱謂）戶政事務所填寫結婚登記申請書，申請辦理其與陳玉婉之結婚登記，因此使上開戶政事務所僅有形式審查權之承辦公務員陷於錯誤，於形式上審核後，將陳泰龍與陳玉婉於93年4月7日結婚之不實事項，登載於其職務上所掌屬公文書之戶籍登記資料內，並據以核發戶籍謄本，而足以生損害於戶政機關對於戶政管理及戶籍登記資料維護之正確性\n",
            "=======================================================\n"
          ]
        }
      ],
      "source": [
        "print(prompt1)\n",
        "print(\"=======================================================\")\n",
        "print(prompt2)\n",
        "print(\"=======================================================\")\n",
        "print(prompt3)\n",
        "print(\"=======================================================\")"
      ]
    },
    {
      "cell_type": "code",
      "execution_count": null,
      "metadata": {
        "colab": {
          "base_uri": "https://localhost:8080/"
        },
        "id": "AFZznosnAx6b",
        "outputId": "f6ae8529-a9ff-4cb4-fa80-ae28794082db"
      },
      "outputs": [
        {
          "name": "stdout",
          "output_type": "stream",
          "text": [
            " 3: 上開事實，首堪認定\n",
            "5: 二、卷附之被告及陳玉婉入出國日期紀錄各1份等書證，均非屬供述證據，皆無傳聞法則之適用，復均無違反法定程序取得之情形，依刑事訴訟法第158條之4規定之反面解釋，均應有證據能力\n",
            "7: 經查：(一)被告於93年4月3日前往泰國，並於同年月7日與共犯陳玉婉在泰國曼谷市法拉坎農區註冊辦事處登記結婚，取得上開註冊辦事處核發之結婚登記書、結婚證書等文件後，被告即行返臺，並於同年5月19日持經我國駐泰國臺北經濟文化辦事處認證之上開結婚登記書、結婚證書等資料，至臺南縣永康市戶政事務所填寫結婚登記申請書，申請辦理其與共犯陳玉婉之結婚登記，並取得戶籍謄本\n",
            "8: 迨陳玉婉來臺後，為取得居留身分，再由陳泰龍、陳玉婉承前概括之犯意聯絡，於同年6月14日及94年5月5日，均持前開登載不實之戶籍謄本等資料，先後向臺南縣政府警察局外事課申請核發陳玉婉之外僑居留證及申請居留證延期而連續行使之（業經檢察官當庭補充），經承辦人員實質審查結果，均未發覺陳泰龍與陳玉婉假結婚之實情，而發給陳玉婉居留證或核准延期，各足以生損害於主管機關對外僑居留管理之正確性\n",
            "=======================================================\n",
            " 1: 一、陳泰龍明知其與泰國籍女子陳玉婉（泰國名字為JARUWANWONGPRATOOM，陳玉婉涉嫌本案偽造文書部分，另經臺灣臺南地方法院檢察署檢察官通緝中）間並無結婚之真意，然因詹巧薇、張晉源等人欲找臺灣男子前往泰國與泰國女子辦理假結婚，林清水負責介紹臺灣男子予詹巧薇、張晉源等人以賺取新臺幣（下同）1萬元之仲介費，適陳泰龍依林清水於報紙上刊登之徵人廣告應徵時，由林清水告知泰國女子欲以假結婚之方式申請來臺居留工作，其若擔任假結婚之人頭老公，除不用負擔前往泰國之食宿、機票費用外，尚可獲取5、6萬元之報酬，迨陳泰龍應允同意後，林清水將其轉介紹予詹巧薇、張晉源等人，陳泰龍遂與林清水、詹巧薇、張晉源等人共同基於行使使公務員登載不實公文書之概括犯意聯絡，先由陳泰龍依指示於民國93年4月3日前往泰國，並於同年月7日與陳玉婉在泰國曼谷市法拉坎農區註冊辦事處登記結婚，取得上開註冊辦事處核發之結婚登記書、結婚證書等文件後，陳泰龍即行返臺，並於同年5月19日持經我國駐泰國臺北經濟文化辦事處認證之上開結婚登記書、結婚證書等資料，至臺南縣永康市（改制前稱謂，以下沿用舊制稱謂）戶政事務所填寫結婚登記申請書，申請辦理其與陳玉婉之結婚登記，因此使上開戶政事務所僅有形式審查權之承辦公務員陷於錯誤，於形式上審核後，將陳泰龍與陳玉婉於93年4月7日結婚之不實事項，登載於其職務上所掌屬公文書之戶籍登記資料內，並據以核發戶籍謄本，而足以生損害於戶政機關對於戶政管理及戶籍登記資料維護之正確性\n",
            "\n",
            "3: 二、案經臺南市警察局（現改制為臺南市政府警察局，以下沿用舊制稱謂）第一分局報告臺灣臺南地方法院檢察署檢察官偵查起訴\n",
            "\n",
            "4: 理由甲、程序方面：一、本件以下所引用具傳聞證據性質之供述證據，因本件被告陳泰龍、檢察官等人於本院準備程序進行時，均未爭執前開陳述之證據能力，且迄至本案言詞辯論終結前亦均未聲明異議，應視為已同意援引作為證據，又本院審酌前開證據作成時之情況及證據取得過程等節，並無非出於任意性、不正取供或其他違法不當情事，且客觀上亦無顯不可信之情況，堪認為適當，是依刑事訴訟法第159條之5規定，均有證據能力\n",
            "\n",
            "5: 二、卷附之被告及陳玉婉入出國日期紀錄各1份等書證，均非屬供述證據，皆無傳聞法則之適用，復均無違反法定程序取得之情形，依刑事訴訟法第158條之4規定之反面解釋，均應有證據能力\n",
            "=======================================================\n",
            " 1.被告依指示前往泰國與為了來臺工作且無結婚真意的共犯陳玉婉辦理結婚事宜等情，業據共犯林清水於警詢時證稱：伊登報徵人到泰國結婚，被告看報紙來的，伊便轉介予共犯詹巧薇，由共犯詹巧薇安排後續到泰國結婚之事宜，被告除不用負擔前往泰國機票、食宿等費用，尚可獲取約5至6萬元酬勞，伊則可自共犯詹巧薇獲取約1萬元之仲介費用；伊只有將被告轉介予共犯詹巧薇，並未參與後續被告前往泰國之證照、機票、食宿等相關事宜；被告係因缺錢，為了賺取擔任人頭配偶的佣金5至6萬，並不是真的要與泰國人結婚，共犯陳玉婉係為了來臺灣工作賺錢，亦不是真的要與臺灣人結婚等語（見警三卷第2至3頁）；並於本院審理時具結證稱：當初共犯詹巧薇、張晉源等人欲找男子前往泰國結婚，伊曾刊登「男、女不限、經驗不拘」等內容之徵人廣告，被告見報應徵時，被告係因缺錢才來找伊，伊衡量被告條件後認為其只能利用結婚賺取報酬，伊才向其表示是要辦結婚，伊告知被告可安排其去泰國結婚，其不用負擔食宿及機票等費用，可實拿5至6萬元的報酬，被告同意後，伊將被告介紹予共犯詹巧薇、張晉源，共犯張晉源給付佣金1萬元予伊；伊與被告談論泰國結婚事宜時，伊與被告均不知被告之結婚對象為何人，伊亦未見過與被告結婚之泰國女子，伊僅介紹被告予共犯詹巧薇、張晉源等人，伊並未參予後續之泰國結婚、辦理結婚登記及居留申請等事情；被告曾給伊一部機車，當時被告表示要去別的地方，機車留在臺南無人使用，伊修理使用一段期間後，因再度壞掉便未再使用等語（見本院卷第68頁背面至71頁）\n",
            "\n",
            "2.被告與共犯陳玉婉於同年6月14日及94年5月5日，均持前開戶籍謄本等資料，先後向臺南縣政府警察局外事課申請核發共犯陳玉婉之外僑居留證及申請居留證延期而連續行使之（業經檢察官當庭補充），經承辦人員實質審查結果，均未發覺陳泰龍與陳玉婉假結婚之實情，而發給陳玉婉居留證或核准延期，各足以生損害於主管機關對外僑居留管理之正確性\n",
            "\n",
            "3.被告於93年4月3日前往泰國，並於同年月7日與共犯陳玉婉在泰國曼谷市法拉坎農區註冊辦事處登記結婚，取得上開註冊辦事處核發之結婚登記書、結婚證書等文件後，被告即行返臺，並於同年5月19日持經我國駐泰國臺北經濟文化辦事處認證之上開結婚登記書、結婚證書等資料，至臺南縣永康市戶政事務所填寫結婚登記申請書，申請辦理其與共犯陳玉婉之結婚登記，並取得戶籍謄本\n",
            "=======================================================\n"
          ]
        }
      ],
      "source": [
        "print(get_breeze(query+prompt1))\n",
        "print(\"=======================================================\")\n",
        "print(get_breeze(query+prompt2))\n",
        "print(\"=======================================================\")\n",
        "print(get_breeze(query+prompt3))\n",
        "print(\"=======================================================\")"
      ]
    },
    {
      "cell_type": "code",
      "execution_count": null,
      "metadata": {
        "id": "1wFb6jqGAzDz"
      },
      "outputs": [],
      "source": [
        "query = \"請從以下給出的句子中挑選三個最像在描寫犯罪行為的句子：\\n\""
      ]
    },
    {
      "cell_type": "code",
      "execution_count": null,
      "metadata": {
        "colab": {
          "base_uri": "https://localhost:8080/"
        },
        "id": "rSIa8wO5CYfO",
        "outputId": "d05b8c8e-b385-42d4-d2e9-d3030db3be6a"
      },
      "outputs": [
        {
          "name": "stdout",
          "output_type": "stream",
          "text": [
            "1: 乙、實體方面：一、訊據被告固坦承於上開時、地，透過共犯林清水之介紹，先至泰國辦理與共犯陳玉婉之結婚手續，再前往臺南縣永康市戶政事務所辦理結婚登記，又前往臺南縣政府警察局外事課辦理共犯陳玉婉之外僑居留證及申請居留證延期之事實，惟矢口否認有何行使使公務員登載不實文書情事，於本院審理時辯稱：伊當時經濟狀況良好，因同居女友欲去日本工作而不願結婚，然伊希望結婚生子，遂透過共犯林清水之介紹與安排，共犯林清水先讓伊看過共犯陳玉婉之照片，伊再前往泰國與共犯陳玉婉結婚，伊僅負擔自己的來回機票錢及泰國住宿費用，其他結婚費用均由共犯林清水負擔，伊則贈送伊的一部機車予共犯林清水以為回報，伊並不認識共犯詹巧薇云云\n",
            "2: 迨共犯陳玉婉來臺後，為取得居留身分，被告與共犯陳玉婉於同年6月14日及94年5月5日，均持前開戶籍謄本等資料，先後向臺南縣政府警察局外事課申請核發共犯陳玉婉之外僑居留證及申請居留證延期等情，業據被告供承在卷，並有結婚登記申請書、授權書各1份、結婚登記書、結婚證書各1份（含中文、泰文影本及我國駐泰國臺北經濟文化辦事處認證之資料）、93年6月14日及94年5月5日之外國人居留停留案件聲請表各1份、被告及共犯陳玉婉之入出國日期紀錄各1份、共犯陳玉婉之外僑居留資料查詢1份在卷可按（見警三卷即南市警一刑偵字第0994101517號卷第6至24、33頁）\n",
            "3: 上開事實，首堪認定\n",
            "4: 理由甲、程序方面：一、本件以下所引用具傳聞證據性質之供述證據，因本件被告陳泰龍、檢察官等人於本院準備程序進行時，均未爭執前開陳述之證據能力，且迄至本案言詞辯論終結前亦均未聲明異議，應視為已同意援引作為證據，又本院審酌前開證據作成時之情況及證據取得過程等節，並無非出於任意性、不正取供或其他違法不當情事，且客觀上亦無顯不可信之情況，堪認為適當，是依刑事訴訟法第159條之5規定，均有證據能力\n",
            "5: 二、卷附之被告及陳玉婉入出國日期紀錄各1份等書證，均非屬供述證據，皆無傳聞法則之適用，復均無違反法定程序取得之情形，依刑事訴訟法第158條之4規定之反面解釋，均應有證據能力\n",
            "6: 一、陳泰龍明知其與泰國籍女子陳玉婉（泰國名字為JARUWANWONGPRATOOM，陳玉婉涉嫌本案偽造文書部分，另經臺灣臺南地方法院檢察署檢察官通緝中）間並無結婚之真意，然因詹巧薇、張晉源等人欲找臺灣男子前往泰國與泰國女子辦理假結婚，林清水負責介紹臺灣男子予詹巧薇、張晉源等人以賺取新臺幣（下同）1萬元之仲介費，適陳泰龍依林清水於報紙上刊登之徵人廣告應徵時，由林清水告知泰國女子欲以假結婚之方式申請來臺居留工作，其若擔任假結婚之人頭老公，除不用負擔前往泰國之食宿、機票費用外，尚可獲取5、6萬元之報酬，迨陳泰龍應允同意後，林清水將其轉介紹予詹巧薇、張晉源等人，陳泰龍遂與林清水、詹巧薇、張晉源等人共同基於行使使公務員登載不實公文書之概括犯意聯絡，先由陳泰龍依指示於民國93年4月3日前往泰國，並於同年月7日與陳玉婉在泰國曼谷市法拉坎農區註冊辦事處登記結婚，取得上開註冊辦事處核發之結婚登記書、結婚證書等文件後，陳泰龍即行返臺，並於同年5月19日持經我國駐泰國臺北經濟文化辦事處認證之上開結婚登記書、結婚證書等資料，至臺南縣永康市（改制前稱謂，以下沿用舊制稱謂）戶政事務所填寫結婚登記申請書，申請辦理其與陳玉婉之結婚登記，因此使上開戶政事務所僅有形式審查權之承辦公務員陷於錯誤，於形式上審核後，將陳泰龍與陳玉婉於93年4月7日結婚之不實事項，登載於其職務上所掌屬公文書之戶籍登記資料內，並據以核發戶籍謄本，而足以生損害於戶政機關對於戶政管理及戶籍登記資料維護之正確性\n",
            "7: 經查：(一)被告於93年4月3日前往泰國，並於同年月7日與共犯陳玉婉在泰國曼谷市法拉坎農區註冊辦事處登記結婚，取得上開註冊辦事處核發之結婚登記書、結婚證書等文件後，被告即行返臺，並於同年5月19日持經我國駐泰國臺北經濟文化辦事處認證之上開結婚登記書、結婚證書等資料，至臺南縣永康市戶政事務所填寫結婚登記申請書，申請辦理其與共犯陳玉婉之結婚登記，並取得戶籍謄本\n",
            "8: 迨陳玉婉來臺後，為取得居留身分，再由陳泰龍、陳玉婉承前概括之犯意聯絡，於同年6月14日及94年5月5日，均持前開登載不實之戶籍謄本等資料，先後向臺南縣政府警察局外事課申請核發陳玉婉之外僑居留證及申請居留證延期而連續行使之（業經檢察官當庭補充），經承辦人員實質審查結果，均未發覺陳泰龍與陳玉婉假結婚之實情，而發給陳玉婉居留證或核准延期，各足以生損害於主管機關對外僑居留管理之正確性\n",
            "9:  二、案經臺南市警察局（現改制為臺南市政府警察局，以下沿用舊制稱謂）第一分局報告臺灣臺南地方法院檢察署檢察官偵查起訴\n",
            "10: (二)共犯詹巧薇、張晉源等人當時欲找臺灣人與泰國女子結婚，由共犯林清水於報紙上刊登徵人廣告，若應徵者符合與泰國人結婚之條件，便將應徵者介紹予共犯詹巧薇、張晉源等人，共犯林清水可從中獲取1萬元之仲介費，適被告依前開徵人廣告應徵，共犯林清水衡量其條件後告知其可至泰國結婚，其除不用負擔前往泰國之機票及食宿費用外，尚可獲取5至6萬元之報酬，被告應允同意後，共犯林清水將其介紹予詹巧薇、張晉源等人，被告即依指示前往泰國與為了來臺工作且無結婚真意的共犯陳玉婉辦理結婚事宜等情，業據共犯林清水於警詢時證稱：伊登報徵人到泰國結婚，被告看報紙來的，伊便轉介予共犯詹巧薇，由共犯詹巧薇安排後續到泰國結婚之事宜，被告除不用負擔前往泰國機票、食宿等費用，尚可獲取約5至6萬元酬勞，伊則可自共犯詹巧薇獲取約1萬元之仲介費用；伊只有將被告轉介予共犯詹巧薇，並未參與後續被告前往泰國之證照、機票、食宿等相關事宜；被告係因缺錢，為了賺取擔任人頭配偶的佣金5至6萬，並不是真的要與泰國人結婚，共犯陳玉婉係為了來臺灣工作賺錢，亦不是真的要與臺灣人結婚等語（見警三卷第2至3頁）；並於本院審理時具結證稱：當初共犯詹巧薇、張晉源等人欲找男子前往泰國結婚，伊曾刊登「男、女不限、經驗不拘」等內容之徵人廣告，被告見報應徵時，被告係因缺錢才來找伊，伊衡量被告條件後認為其只能利用結婚賺取報酬，伊才向其表示是要辦結婚，伊告知被告可安排其去泰國結婚，其不用負擔食宿及機票等費用，可實拿5至6萬元的報酬，被告同意後，伊將被告介紹予共犯詹巧薇、張晉源，共犯張晉源給付佣金1萬元予伊；伊與被告談論泰國結婚事宜時，伊與被告均不知被告之結婚對象為何人，伊亦未見過與被告結婚之泰國女子，伊僅介紹被告予共犯詹巧薇、張晉源等人，伊並未參予後續之泰國結婚、辦理結婚登記及居留申請等事情；被告曾給伊一部機車，當時被告表示要去別的地方，機車留在臺南無人使用，伊修理使用一段期間後，因再度壞掉便未再使用等語（見本院卷第68頁背面至71頁）\n",
            "--->\n",
            " 3: 上開事實，首堪認定\n",
            "5: 二、卷附之被告及陳玉婉入出國日期紀錄各1份等書證，均非屬供述證據，皆無傳聞法則之適用，復均無違反法定程序取得之情形，依刑事訴訟法第158條之4規定之反面解釋，均應有證據能力\n",
            "7: 經查：(一)被告於93年4月3日前往泰國，並於同年月7日與共犯陳玉婉在泰國曼谷市法拉坎農區註冊辦事處登記結婚，取得上開註冊辦事處核發之結婚登記書、結婚證書等文件後，被告即行返臺，並於同年5月19日持經我國駐泰國臺北經濟文化辦事處認證之上開結婚登記書、結婚證書等資料，至臺南縣永康市戶政事務所填寫結婚登記申請書，申請辦理其與共犯陳玉婉之結婚登記，並取得戶籍謄本\n",
            "8: 迨陳玉婉來臺後，為取得居留身分，再由陳泰龍、陳玉婉承前概括之犯意聯絡，於同年6月14日及94年5月5日，均持前開登載不實之戶籍謄本等資料，先後向臺南縣政府警察局外事課申請核發陳玉婉之外僑居留證及申請居留證延期而連續行使之（業經檢察官當庭補充），經承辦人員實質審查結果，均未發覺陳泰龍與陳玉婉假結婚之實情，而發給陳玉婉居留證或核准延期，各足以生損害於主管機關對外僑居留管理之正確性\n",
            "=======================================================\n",
            "1: 乙、實體方面：一、訊據被告固坦承於上開時、地，透過共犯林清水之介紹，先至泰國辦理與共犯陳玉婉之結婚手續，再前往臺南縣永康市戶政事務所辦理結婚登記，又前往臺南縣政府警察局外事課辦理共犯陳玉婉之外僑居留證及申請居留證延期之事實，惟矢口否認有何行使使公務員登載不實文書情事，於本院審理時辯稱：伊當時經濟狀況良好，因同居女友欲去日本工作而不願結婚，然伊希望結婚生子，遂透過共犯林清水之介紹與安排，共犯林清水先讓伊看過共犯陳玉婉之照片，伊再前往泰國與共犯陳玉婉結婚，伊僅負擔自己的來回機票錢及泰國住宿費用，其他結婚費用均由共犯林清水負擔，伊則贈送伊的一部機車予共犯林清水以為回報，伊並不認識共犯詹巧薇云云\n",
            "2: 迨共犯陳玉婉來臺後，為取得居留身分，被告與共犯陳玉婉於同年6月14日及94年5月5日，均持前開戶籍謄本等資料，先後向臺南縣政府警察局外事課申請核發共犯陳玉婉之外僑居留證及申請居留證延期等情，業據被告供承在卷，並有結婚登記申請書、授權書各1份、結婚登記書、結婚證書各1份（含中文、泰文影本及我國駐泰國臺北經濟文化辦事處認證之資料）、93年6月14日及94年5月5日之外國人居留停留案件聲請表各1份、被告及共犯陳玉婉之入出國日期紀錄各1份、共犯陳玉婉之外僑居留資料查詢1份在卷可按（見警三卷即南市警一刑偵字第0994101517號卷第6至24、33頁）\n",
            "3: 上開事實，首堪認定\n",
            "4: 理由甲、程序方面：一、本件以下所引用具傳聞證據性質之供述證據，因本件被告陳泰龍、檢察官等人於本院準備程序進行時，均未爭執前開陳述之證據能力，且迄至本案言詞辯論終結前亦均未聲明異議，應視為已同意援引作為證據，又本院審酌前開證據作成時之情況及證據取得過程等節，並無非出於任意性、不正取供或其他違法不當情事，且客觀上亦無顯不可信之情況，堪認為適當，是依刑事訴訟法第159條之5規定，均有證據能力\n",
            "5: 二、卷附之被告及陳玉婉入出國日期紀錄各1份等書證，均非屬供述證據，皆無傳聞法則之適用，復均無違反法定程序取得之情形，依刑事訴訟法第158條之4規定之反面解釋，均應有證據能力\n",
            "6: 一、陳泰龍明知其與泰國籍女子陳玉婉（泰國名字為JARUWANWONGPRATOOM，陳玉婉涉嫌本案偽造文書部分，另經臺灣臺南地方法院檢察署檢察官通緝中）間並無結婚之真意，然因詹巧薇、張晉源等人欲找臺灣男子前往泰國與泰國女子辦理假結婚，林清水負責介紹臺灣男子予詹巧薇、張晉源等人以賺取新臺幣（下同）1萬元之仲介費，適陳泰龍依林清水於報紙上刊登之徵人廣告應徵時，由林清水告知泰國女子欲以假結婚之方式申請來臺居留工作，其若擔任假結婚之人頭老公，除不用負擔前往泰國之食宿、機票費用外，尚可獲取5、6萬元之報酬，迨陳泰龍應允同意後，林清水將其轉介紹予詹巧薇、張晉源等人，陳泰龍遂與林清水、詹巧薇、張晉源等人共同基於行使使公務員登載不實公文書之概括犯意聯絡，先由陳泰龍依指示於民國93年4月3日前往泰國，並於同年月7日與陳玉婉在泰國曼谷市法拉坎農區註冊辦事處登記結婚，取得上開註冊辦事處核發之結婚登記書、結婚證書等文件後，陳泰龍即行返臺，並於同年5月19日持經我國駐泰國臺北經濟文化辦事處認證之上開結婚登記書、結婚證書等資料，至臺南縣永康市（改制前稱謂，以下沿用舊制稱謂）戶政事務所填寫結婚登記申請書，申請辦理其與陳玉婉之結婚登記，因此使上開戶政事務所僅有形式審查權之承辦公務員陷於錯誤，於形式上審核後，將陳泰龍與陳玉婉於93年4月7日結婚之不實事項，登載於其職務上所掌屬公文書之戶籍登記資料內，並據以核發戶籍謄本，而足以生損害於戶政機關對於戶政管理及戶籍登記資料維護之正確性\n",
            "7: 經查：(一)被告於93年4月3日前往泰國，並於同年月7日與共犯陳玉婉在泰國曼谷市法拉坎農區註冊辦事處登記結婚，取得上開註冊辦事處核發之結婚登記書、結婚證書等文件後，被告即行返臺，並於同年5月19日持經我國駐泰國臺北經濟文化辦事處認證之上開結婚登記書、結婚證書等資料，至臺南縣永康市戶政事務所填寫結婚登記申請書，申請辦理其與共犯陳玉婉之結婚登記，並取得戶籍謄本\n",
            "8: 迨陳玉婉來臺後，為取得居留身分，再由陳泰龍、陳玉婉承前概括之犯意聯絡，於同年6月14日及94年5月5日，均持前開登載不實之戶籍謄本等資料，先後向臺南縣政府警察局外事課申請核發陳玉婉之外僑居留證及申請居留證延期而連續行使之（業經檢察官當庭補充），經承辦人員實質審查結果，均未發覺陳泰龍與陳玉婉假結婚之實情，而發給陳玉婉居留證或核准延期，各足以生損害於主管機關對外僑居留管理之正確性\n",
            "9:  二、案經臺南市警察局（現改制為臺南市政府警察局，以下沿用舊制稱謂）第一分局報告臺灣臺南地方法院檢察署檢察官偵查起訴\n",
            "10: (二)共犯詹巧薇、張晉源等人當時欲找臺灣人與泰國女子結婚，由共犯林清水於報紙上刊登徵人廣告，若應徵者符合與泰國人結婚之條件，便將應徵者介紹予共犯詹巧薇、張晉源等人，共犯林清水可從中獲取1萬元之仲介費，適被告依前開徵人廣告應徵，共犯林清水衡量其條件後告知其可至泰國結婚，其除不用負擔前往泰國之機票及食宿費用外，尚可獲取5至6萬元之報酬，被告應允同意後，共犯林清水將其介紹予詹巧薇、張晉源等人，被告即依指示前往泰國與為了來臺工作且無結婚真意的共犯陳玉婉辦理結婚事宜等情，業據共犯林清水於警詢時證稱：伊登報徵人到泰國結婚，被告看報紙來的，伊便轉介予共犯詹巧薇，由共犯詹巧薇安排後續到泰國結婚之事宜，被告除不用負擔前往泰國機票、食宿等費用，尚可獲取約5至6萬元酬勞，伊則可自共犯詹巧薇獲取約1萬元之仲介費用；伊只有將被告轉介予共犯詹巧薇，並未參與後續被告前往泰國之證照、機票、食宿等相關事宜；被告係因缺錢，為了賺取擔任人頭配偶的佣金5至6萬，並不是真的要與泰國人結婚，共犯陳玉婉係為了來臺灣工作賺錢，亦不是真的要與臺灣人結婚等語（見警三卷第2至3頁）；並於本院審理時具結證稱：當初共犯詹巧薇、張晉源等人欲找男子前往泰國結婚，伊曾刊登「男、女不限、經驗不拘」等內容之徵人廣告，被告見報應徵時，被告係因缺錢才來找伊，伊衡量被告條件後認為其只能利用結婚賺取報酬，伊才向其表示是要辦結婚，伊告知被告可安排其去泰國結婚，其不用負擔食宿及機票等費用，可實拿5至6萬元的報酬，被告同意後，伊將被告介紹予共犯詹巧薇、張晉源，共犯張晉源給付佣金1萬元予伊；伊與被告談論泰國結婚事宜時，伊與被告均不知被告之結婚對象為何人，伊亦未見過與被告結婚之泰國女子，伊僅介紹被告予共犯詹巧薇、張晉源等人，伊並未參予後續之泰國結婚、辦理結婚登記及居留申請等事情；被告曾給伊一部機車，當時被告表示要去別的地方，機車留在臺南無人使用，伊修理使用一段期間後，因再度壞掉便未再使用等語（見本院卷第68頁背面至71頁）\n",
            "--->\n",
            " 1: 一、陳泰龍明知其與泰國籍女子陳玉婉（泰國名字為JARUWANWONGPRATOOM，陳玉婉涉嫌本案偽造文書部分，另經臺灣臺南地方法院檢察署檢察官通緝中）間並無結婚之真意，然因詹巧薇、張晉源等人欲找臺灣男子前往泰國與泰國女子辦理假結婚，林清水負責介紹臺灣男子予詹巧薇、張晉源等人以賺取新臺幣（下同）1萬元之仲介費，適陳泰龍依林清水於報紙上刊登之徵人廣告應徵時，由林清水告知泰國女子欲以假結婚之方式申請來臺居留工作，其若擔任假結婚之人頭老公，除不用負擔前往泰國之食宿、機票費用外，尚可獲取5、6萬元之報酬，迨陳泰龍應允同意後，林清水將其轉介紹予詹巧薇、張晉源等人，陳泰龍遂與林清水、詹巧薇、張晉源等人共同基於行使使公務員登載不實公文書之概括犯意聯絡，先由陳泰龍依指示於民國93年4月3日前往泰國，並於同年月7日與陳玉婉在泰國曼谷市法拉坎農區註冊辦事處登記結婚，取得上開註冊辦事處核發之結婚登記書、結婚證書等文件後，陳泰龍即行返臺，並於同年5月19日持經我國駐泰國臺北經濟文化辦事處認證之上開結婚登記書、結婚證書等資料，至臺南縣永康市（改制前稱謂，以下沿用舊制稱謂）戶政事務所填寫結婚登記申請書，申請辦理其與陳玉婉之結婚登記，因此使上開戶政事務所僅有形式審查權之承辦公務員陷於錯誤，於形式上審核後，將陳泰龍與陳玉婉於93年4月7日結婚之不實事項，登載於其職務上所掌屬公文書之戶籍登記資料內，並據以核發戶籍謄本，而足以生損害於戶政機關對於戶政管理及戶籍登記資料維護之正確性\n",
            "\n",
            "2: 迨陳玉婉來臺後，為取得居留身分，再由陳泰龍、陳玉婉承前概括之犯意聯絡，於同年6月14日及94年5月5日，均持前開登載不實之戶籍謄本等資料，先後向臺南縣政府警察局外事課申請核發陳玉婉之外僑居留證及申請居留證延期而連續行使之（業經檢察官當庭補充），經承辦人員實質審查結果，均未發覺陳泰龍與陳玉婉假結婚之實情，而發給陳玉婉居留證或核准延期，各足以生損害於主管機關對外僑居留管理之正確性\n",
            "=======================================================\n",
            "1: 乙、實體方面：一、訊據被告固坦承於上開時、地，透過共犯林清水之介紹，先至泰國辦理與共犯陳玉婉之結婚手續，再前往臺南縣永康市戶政事務所辦理結婚登記，又前往臺南縣政府警察局外事課辦理共犯陳玉婉之外僑居留證及申請居留證延期之事實，惟矢口否認有何行使使公務員登載不實文書情事，於本院審理時辯稱：伊當時經濟狀況良好，因同居女友欲去日本工作而不願結婚，然伊希望結婚生子，遂透過共犯林清水之介紹與安排，共犯林清水先讓伊看過共犯陳玉婉之照片，伊再前往泰國與共犯陳玉婉結婚，伊僅負擔自己的來回機票錢及泰國住宿費用，其他結婚費用均由共犯林清水負擔，伊則贈送伊的一部機車予共犯林清水以為回報，伊並不認識共犯詹巧薇云云\n",
            "2: 迨共犯陳玉婉來臺後，為取得居留身分，被告與共犯陳玉婉於同年6月14日及94年5月5日，均持前開戶籍謄本等資料，先後向臺南縣政府警察局外事課申請核發共犯陳玉婉之外僑居留證及申請居留證延期等情，業據被告供承在卷，並有結婚登記申請書、授權書各1份、結婚登記書、結婚證書各1份（含中文、泰文影本及我國駐泰國臺北經濟文化辦事處認證之資料）、93年6月14日及94年5月5日之外國人居留停留案件聲請表各1份、被告及共犯陳玉婉之入出國日期紀錄各1份、共犯陳玉婉之外僑居留資料查詢1份在卷可按（見警三卷即南市警一刑偵字第0994101517號卷第6至24、33頁）\n",
            "3: 上開事實，首堪認定\n",
            "4: 理由甲、程序方面：一、本件以下所引用具傳聞證據性質之供述證據，因本件被告陳泰龍、檢察官等人於本院準備程序進行時，均未爭執前開陳述之證據能力，且迄至本案言詞辯論終結前亦均未聲明異議，應視為已同意援引作為證據，又本院審酌前開證據作成時之情況及證據取得過程等節，並無非出於任意性、不正取供或其他違法不當情事，且客觀上亦無顯不可信之情況，堪認為適當，是依刑事訴訟法第159條之5規定，均有證據能力\n",
            "5: 二、卷附之被告及陳玉婉入出國日期紀錄各1份等書證，均非屬供述證據，皆無傳聞法則之適用，復均無違反法定程序取得之情形，依刑事訴訟法第158條之4規定之反面解釋，均應有證據能力\n",
            "6: 一、陳泰龍明知其與泰國籍女子陳玉婉（泰國名字為JARUWANWONGPRATOOM，陳玉婉涉嫌本案偽造文書部分，另經臺灣臺南地方法院檢察署檢察官通緝中）間並無結婚之真意，然因詹巧薇、張晉源等人欲找臺灣男子前往泰國與泰國女子辦理假結婚，林清水負責介紹臺灣男子予詹巧薇、張晉源等人以賺取新臺幣（下同）1萬元之仲介費，適陳泰龍依林清水於報紙上刊登之徵人廣告應徵時，由林清水告知泰國女子欲以假結婚之方式申請來臺居留工作，其若擔任假結婚之人頭老公，除不用負擔前往泰國之食宿、機票費用外，尚可獲取5、6萬元之報酬，迨陳泰龍應允同意後，林清水將其轉介紹予詹巧薇、張晉源等人，陳泰龍遂與林清水、詹巧薇、張晉源等人共同基於行使使公務員登載不實公文書之概括犯意聯絡，先由陳泰龍依指示於民國93年4月3日前往泰國，並於同年月7日與陳玉婉在泰國曼谷市法拉坎農區註冊辦事處登記結婚，取得上開註冊辦事處核發之結婚登記書、結婚證書等文件後，陳泰龍即行返臺，並於同年5月19日持經我國駐泰國臺北經濟文化辦事處認證之上開結婚登記書、結婚證書等資料，至臺南縣永康市（改制前稱謂，以下沿用舊制稱謂）戶政事務所填寫結婚登記申請書，申請辦理其與陳玉婉之結婚登記，因此使上開戶政事務所僅有形式審查權之承辦公務員陷於錯誤，於形式上審核後，將陳泰龍與陳玉婉於93年4月7日結婚之不實事項，登載於其職務上所掌屬公文書之戶籍登記資料內，並據以核發戶籍謄本，而足以生損害於戶政機關對於戶政管理及戶籍登記資料維護之正確性\n",
            "7: 經查：(一)被告於93年4月3日前往泰國，並於同年月7日與共犯陳玉婉在泰國曼谷市法拉坎農區註冊辦事處登記結婚，取得上開註冊辦事處核發之結婚登記書、結婚證書等文件後，被告即行返臺，並於同年5月19日持經我國駐泰國臺北經濟文化辦事處認證之上開結婚登記書、結婚證書等資料，至臺南縣永康市戶政事務所填寫結婚登記申請書，申請辦理其與共犯陳玉婉之結婚登記，並取得戶籍謄本\n",
            "8: 迨陳玉婉來臺後，為取得居留身分，再由陳泰龍、陳玉婉承前概括之犯意聯絡，於同年6月14日及94年5月5日，均持前開登載不實之戶籍謄本等資料，先後向臺南縣政府警察局外事課申請核發陳玉婉之外僑居留證及申請居留證延期而連續行使之（業經檢察官當庭補充），經承辦人員實質審查結果，均未發覺陳泰龍與陳玉婉假結婚之實情，而發給陳玉婉居留證或核准延期，各足以生損害於主管機關對外僑居留管理之正確性\n",
            "9:  二、案經臺南市警察局（現改制為臺南市政府警察局，以下沿用舊制稱謂）第一分局報告臺灣臺南地方法院檢察署檢察官偵查起訴\n",
            "10: (二)共犯詹巧薇、張晉源等人當時欲找臺灣人與泰國女子結婚，由共犯林清水於報紙上刊登徵人廣告，若應徵者符合與泰國人結婚之條件，便將應徵者介紹予共犯詹巧薇、張晉源等人，共犯林清水可從中獲取1萬元之仲介費，適被告依前開徵人廣告應徵，共犯林清水衡量其條件後告知其可至泰國結婚，其除不用負擔前往泰國之機票及食宿費用外，尚可獲取5至6萬元之報酬，被告應允同意後，共犯林清水將其介紹予詹巧薇、張晉源等人，被告即依指示前往泰國與為了來臺工作且無結婚真意的共犯陳玉婉辦理結婚事宜等情，業據共犯林清水於警詢時證稱：伊登報徵人到泰國結婚，被告看報紙來的，伊便轉介予共犯詹巧薇，由共犯詹巧薇安排後續到泰國結婚之事宜，被告除不用負擔前往泰國機票、食宿等費用，尚可獲取約5至6萬元酬勞，伊則可自共犯詹巧薇獲取約1萬元之仲介費用；伊只有將被告轉介予共犯詹巧薇，並未參與後續被告前往泰國之證照、機票、食宿等相關事宜；被告係因缺錢，為了賺取擔任人頭配偶的佣金5至6萬，並不是真的要與泰國人結婚，共犯陳玉婉係為了來臺灣工作賺錢，亦不是真的要與臺灣人結婚等語（見警三卷第2至3頁）；並於本院審理時具結證稱：當初共犯詹巧薇、張晉源等人欲找男子前往泰國結婚，伊曾刊登「男、女不限、經驗不拘」等內容之徵人廣告，被告見報應徵時，被告係因缺錢才來找伊，伊衡量被告條件後認為其只能利用結婚賺取報酬，伊才向其表示是要辦結婚，伊告知被告可安排其去泰國結婚，其不用負擔食宿及機票等費用，可實拿5至6萬元的報酬，被告同意後，伊將被告介紹予共犯詹巧薇、張晉源，共犯張晉源給付佣金1萬元予伊；伊與被告談論泰國結婚事宜時，伊與被告均不知被告之結婚對象為何人，伊亦未見過與被告結婚之泰國女子，伊僅介紹被告予共犯詹巧薇、張晉源等人，伊並未參予後續之泰國結婚、辦理結婚登記及居留申請等事情；被告曾給伊一部機車，當時被告表示要去別的地方，機車留在臺南無人使用，伊修理使用一段期間後，因再度壞掉便未再使用等語（見本院卷第68頁背面至71頁）\n",
            "--->\n",
            " 1: (二)共犯詹巧薇、張晉源等人當時欲找臺灣人與泰國女子結婚，由共犯林清水於報紙上刊登徵人廣告，若應徵者符合與泰國人結婚之條件，便將應徵者介紹予共犯詹巧薇、張晉源等人，共犯林清水可從中獲取1萬元之仲介費，適被告依前開徵人廣告應徵，共犯林清水衡量其條件後告知其可至泰國結婚，其除不用負擔前往泰國之機票及食宿費用外，尚可獲取5至6萬元之報酬，被告應允同意後，共犯林清水將其介紹予詹巧薇、張晉源等人，被告即依指示前往泰國與為了來臺工作且無結婚真意的共犯陳玉婉辦理結婚事宜等情，業據共犯林清水於警詢時證稱：伊登報徵人到泰國結婚，被告看報紙來的，伊便轉介予共犯詹巧薇，由共犯詹巧薇安排後續到泰國結婚之事宜，被告除不用負擔前往泰國機票、食宿等費用，尚可獲取約5至6萬元酬勞，伊則可自共犯詹巧薇獲取約1萬元之仲介費用；伊只有將被告轉介予共犯詹巧薇，並未參與後續被告前往泰國之證照、機票、食宿等相關事宜；被告係因缺錢，為了賺取擔任人頭配偶的佣金5至6萬，並\n",
            "=======================================================\n"
          ]
        }
      ],
      "source": [
        "print(prompt1)\n",
        "print(\"--->\")\n",
        "print(get_breeze(query+prompt1))\n",
        "print(\"=======================================================\")\n",
        "print(prompt1)\n",
        "print(\"--->\")\n",
        "print(get_breeze(query+prompt2))\n",
        "print(\"=======================================================\")\n",
        "print(prompt1)\n",
        "print(\"--->\")\n",
        "print(get_breeze(query+prompt3))\n",
        "print(\"=======================================================\")"
      ]
    },
    {
      "cell_type": "code",
      "execution_count": null,
      "metadata": {
        "id": "mTPnm_42C37n"
      },
      "outputs": [],
      "source": [
        "query = \"請從以下給出的句子中挑選對於描寫犯罪行為最重要的三個句子：\\n\""
      ]
    },
    {
      "cell_type": "code",
      "execution_count": null,
      "metadata": {
        "colab": {
          "base_uri": "https://localhost:8080/"
        },
        "id": "W4lp4odSC5jl",
        "outputId": "4975059c-9bbb-49fd-e67b-37e658766139"
      },
      "outputs": [
        {
          "name": "stdout",
          "output_type": "stream",
          "text": [
            "1: 乙、實體方面：一、訊據被告固坦承於上開時、地，透過共犯林清水之介紹，先至泰國辦理與共犯陳玉婉之結婚手續，再前往臺南縣永康市戶政事務所辦理結婚登記，又前往臺南縣政府警察局外事課辦理共犯陳玉婉之外僑居留證及申請居留證延期之事實，惟矢口否認有何行使使公務員登載不實文書情事，於本院審理時辯稱：伊當時經濟狀況良好，因同居女友欲去日本工作而不願結婚，然伊希望結婚生子，遂透過共犯林清水之介紹與安排，共犯林清水先讓伊看過共犯陳玉婉之照片，伊再前往泰國與共犯陳玉婉結婚，伊僅負擔自己的來回機票錢及泰國住宿費用，其他結婚費用均由共犯林清水負擔，伊則贈送伊的一部機車予共犯林清水以為回報，伊並不認識共犯詹巧薇云云\n",
            "2: 迨共犯陳玉婉來臺後，為取得居留身分，被告與共犯陳玉婉於同年6月14日及94年5月5日，均持前開戶籍謄本等資料，先後向臺南縣政府警察局外事課申請核發共犯陳玉婉之外僑居留證及申請居留證延期等情，業據被告供承在卷，並有結婚登記申請書、授權書各1份、結婚登記書、結婚證書各1份（含中文、泰文影本及我國駐泰國臺北經濟文化辦事處認證之資料）、93年6月14日及94年5月5日之外國人居留停留案件聲請表各1份、被告及共犯陳玉婉之入出國日期紀錄各1份、共犯陳玉婉之外僑居留資料查詢1份在卷可按（見警三卷即南市警一刑偵字第0994101517號卷第6至24、33頁）\n",
            "3: 上開事實，首堪認定\n",
            "4: 理由甲、程序方面：一、本件以下所引用具傳聞證據性質之供述證據，因本件被告陳泰龍、檢察官等人於本院準備程序進行時，均未爭執前開陳述之證據能力，且迄至本案言詞辯論終結前亦均未聲明異議，應視為已同意援引作為證據，又本院審酌前開證據作成時之情況及證據取得過程等節，並無非出於任意性、不正取供或其他違法不當情事，且客觀上亦無顯不可信之情況，堪認為適當，是依刑事訴訟法第159條之5規定，均有證據能力\n",
            "5: 二、卷附之被告及陳玉婉入出國日期紀錄各1份等書證，均非屬供述證據，皆無傳聞法則之適用，復均無違反法定程序取得之情形，依刑事訴訟法第158條之4規定之反面解釋，均應有證據能力\n",
            "6: 一、陳泰龍明知其與泰國籍女子陳玉婉（泰國名字為JARUWANWONGPRATOOM，陳玉婉涉嫌本案偽造文書部分，另經臺灣臺南地方法院檢察署檢察官通緝中）間並無結婚之真意，然因詹巧薇、張晉源等人欲找臺灣男子前往泰國與泰國女子辦理假結婚，林清水負責介紹臺灣男子予詹巧薇、張晉源等人以賺取新臺幣（下同）1萬元之仲介費，適陳泰龍依林清水於報紙上刊登之徵人廣告應徵時，由林清水告知泰國女子欲以假結婚之方式申請來臺居留工作，其若擔任假結婚之人頭老公，除不用負擔前往泰國之食宿、機票費用外，尚可獲取5、6萬元之報酬，迨陳泰龍應允同意後，林清水將其轉介紹予詹巧薇、張晉源等人，陳泰龍遂與林清水、詹巧薇、張晉源等人共同基於行使使公務員登載不實公文書之概括犯意聯絡，先由陳泰龍依指示於民國93年4月3日前往泰國，並於同年月7日與陳玉婉在泰國曼谷市法拉坎農區註冊辦事處登記結婚，取得上開註冊辦事處核發之結婚登記書、結婚證書等文件後，陳泰龍即行返臺，並於同年5月19日持經我國駐泰國臺北經濟文化辦事處認證之上開結婚登記書、結婚證書等資料，至臺南縣永康市（改制前稱謂，以下沿用舊制稱謂）戶政事務所填寫結婚登記申請書，申請辦理其與陳玉婉之結婚登記，因此使上開戶政事務所僅有形式審查權之承辦公務員陷於錯誤，於形式上審核後，將陳泰龍與陳玉婉於93年4月7日結婚之不實事項，登載於其職務上所掌屬公文書之戶籍登記資料內，並據以核發戶籍謄本，而足以生損害於戶政機關對於戶政管理及戶籍登記資料維護之正確性\n",
            "7: 經查：(一)被告於93年4月3日前往泰國，並於同年月7日與共犯陳玉婉在泰國曼谷市法拉坎農區註冊辦事處登記結婚，取得上開註冊辦事處核發之結婚登記書、結婚證書等文件後，被告即行返臺，並於同年5月19日持經我國駐泰國臺北經濟文化辦事處認證之上開結婚登記書、結婚證書等資料，至臺南縣永康市戶政事務所填寫結婚登記申請書，申請辦理其與共犯陳玉婉之結婚登記，並取得戶籍謄本\n",
            "8: 迨陳玉婉來臺後，為取得居留身分，再由陳泰龍、陳玉婉承前概括之犯意聯絡，於同年6月14日及94年5月5日，均持前開登載不實之戶籍謄本等資料，先後向臺南縣政府警察局外事課申請核發陳玉婉之外僑居留證及申請居留證延期而連續行使之（業經檢察官當庭補充），經承辦人員實質審查結果，均未發覺陳泰龍與陳玉婉假結婚之實情，而發給陳玉婉居留證或核准延期，各足以生損害於主管機關對外僑居留管理之正確性\n",
            "9:  二、案經臺南市警察局（現改制為臺南市政府警察局，以下沿用舊制稱謂）第一分局報告臺灣臺南地方法院檢察署檢察官偵查起訴\n",
            "10: (二)共犯詹巧薇、張晉源等人當時欲找臺灣人與泰國女子結婚，由共犯林清水於報紙上刊登徵人廣告，若應徵者符合與泰國人結婚之條件，便將應徵者介紹予共犯詹巧薇、張晉源等人，共犯林清水可從中獲取1萬元之仲介費，適被告依前開徵人廣告應徵，共犯林清水衡量其條件後告知其可至泰國結婚，其除不用負擔前往泰國之機票及食宿費用外，尚可獲取5至6萬元之報酬，被告應允同意後，共犯林清水將其介紹予詹巧薇、張晉源等人，被告即依指示前往泰國與為了來臺工作且無結婚真意的共犯陳玉婉辦理結婚事宜等情，業據共犯林清水於警詢時證稱：伊登報徵人到泰國結婚，被告看報紙來的，伊便轉介予共犯詹巧薇，由共犯詹巧薇安排後續到泰國結婚之事宜，被告除不用負擔前往泰國機票、食宿等費用，尚可獲取約5至6萬元酬勞，伊則可自共犯詹巧薇獲取約1萬元之仲介費用；伊只有將被告轉介予共犯詹巧薇，並未參與後續被告前往泰國之證照、機票、食宿等相關事宜；被告係因缺錢，為了賺取擔任人頭配偶的佣金5至6萬，並不是真的要與泰國人結婚，共犯陳玉婉係為了來臺灣工作賺錢，亦不是真的要與臺灣人結婚等語（見警三卷第2至3頁）；並於本院審理時具結證稱：當初共犯詹巧薇、張晉源等人欲找男子前往泰國結婚，伊曾刊登「男、女不限、經驗不拘」等內容之徵人廣告，被告見報應徵時，被告係因缺錢才來找伊，伊衡量被告條件後認為其只能利用結婚賺取報酬，伊才向其表示是要辦結婚，伊告知被告可安排其去泰國結婚，其不用負擔食宿及機票等費用，可實拿5至6萬元的報酬，被告同意後，伊將被告介紹予共犯詹巧薇、張晉源，共犯張晉源給付佣金1萬元予伊；伊與被告談論泰國結婚事宜時，伊與被告均不知被告之結婚對象為何人，伊亦未見過與被告結婚之泰國女子，伊僅介紹被告予共犯詹巧薇、張晉源等人，伊並未參予後續之泰國結婚、辦理結婚登記及居留申請等事情；被告曾給伊一部機車，當時被告表示要去別的地方，機車留在臺南無人使用，伊修理使用一段期間後，因再度壞掉便未再使用等語（見本院卷第68頁背面至71頁）\n",
            "--->\n",
            " 1: 乙、實體方面：一、訊據被告固坦承於上開時、地，透過共犯林清水之介紹，先至泰國辦理與共犯陳玉婉之結婚手續，再前往臺南縣永康市戶政事務所辦理結婚登記，又前往臺南縣政府警察局外事課辦理共犯陳玉婉之外僑居留證及申請居留證延期之事實，惟矢口否認有何行使使公務員登載不實文書情事，於本院審理時辯稱：伊當時經濟狀況良好，因同居女友欲去日本工作而不願結婚，然伊希望結婚生子，遂透過共犯林清水之介紹與安排，共犯林清水先讓伊看過共犯陳玉婉之照片，伊再前往泰國與共犯陳玉婉結婚，伊僅負擔自己的來回機票錢及泰國住宿費用，其他結婚費用均由共犯林清水負擔，伊則贈送伊的一部機車予共犯林清水以為回報，伊並不認識共犯詹巧薇云云\n",
            "2: 迨共犯陳玉婉來臺後，為取得居留身分，被告與共犯陳玉婉於同年6月14日及94年5月5日，均持前開戶籍謄本等資料，先後向臺南縣政府警察局外事課申請核發共犯陳玉婉之外僑居留證及申請居留證延期等情，業據被告供承在卷，並有結婚登記申請書、授權書各1份、結婚登記書、結婚證書各1份（含中文、泰文影本及我國駐泰國臺北經濟文化辦事處認證之資料）、93年6月14日及94年5月5日之外國人居留停留案件聲請表各1份、被告及共犯陳玉婉之入出國日期紀錄各1份、共犯陳玉婉之外僑居留資料查詢1份在卷可按（見警三卷即南市警一刑偵字第0994101517號卷第6至24、33頁）\n",
            "3: 上開事實，首堪認定\n",
            "=======================================================\n",
            "1: 乙、實體方面：一、訊據被告固坦承於上開時、地，透過共犯林清水之介紹，先至泰國辦理與共犯陳玉婉之結婚手續，再前往臺南縣永康市戶政事務所辦理結婚登記，又前往臺南縣政府警察局外事課辦理共犯陳玉婉之外僑居留證及申請居留證延期之事實，惟矢口否認有何行使使公務員登載不實文書情事，於本院審理時辯稱：伊當時經濟狀況良好，因同居女友欲去日本工作而不願結婚，然伊希望結婚生子，遂透過共犯林清水之介紹與安排，共犯林清水先讓伊看過共犯陳玉婉之照片，伊再前往泰國與共犯陳玉婉結婚，伊僅負擔自己的來回機票錢及泰國住宿費用，其他結婚費用均由共犯林清水負擔，伊則贈送伊的一部機車予共犯林清水以為回報，伊並不認識共犯詹巧薇云云\n",
            "2: 迨共犯陳玉婉來臺後，為取得居留身分，被告與共犯陳玉婉於同年6月14日及94年5月5日，均持前開戶籍謄本等資料，先後向臺南縣政府警察局外事課申請核發共犯陳玉婉之外僑居留證及申請居留證延期等情，業據被告供承在卷，並有結婚登記申請書、授權書各1份、結婚登記書、結婚證書各1份（含中文、泰文影本及我國駐泰國臺北經濟文化辦事處認證之資料）、93年6月14日及94年5月5日之外國人居留停留案件聲請表各1份、被告及共犯陳玉婉之入出國日期紀錄各1份、共犯陳玉婉之外僑居留資料查詢1份在卷可按（見警三卷即南市警一刑偵字第0994101517號卷第6至24、33頁）\n",
            "3: 上開事實，首堪認定\n",
            "4: 理由甲、程序方面：一、本件以下所引用具傳聞證據性質之供述證據，因本件被告陳泰龍、檢察官等人於本院準備程序進行時，均未爭執前開陳述之證據能力，且迄至本案言詞辯論終結前亦均未聲明異議，應視為已同意援引作為證據，又本院審酌前開證據作成時之情況及證據取得過程等節，並無非出於任意性、不正取供或其他違法不當情事，且客觀上亦無顯不可信之情況，堪認為適當，是依刑事訴訟法第159條之5規定，均有證據能力\n",
            "5: 二、卷附之被告及陳玉婉入出國日期紀錄各1份等書證，均非屬供述證據，皆無傳聞法則之適用，復均無違反法定程序取得之情形，依刑事訴訟法第158條之4規定之反面解釋，均應有證據能力\n",
            "6: 一、陳泰龍明知其與泰國籍女子陳玉婉（泰國名字為JARUWANWONGPRATOOM，陳玉婉涉嫌本案偽造文書部分，另經臺灣臺南地方法院檢察署檢察官通緝中）間並無結婚之真意，然因詹巧薇、張晉源等人欲找臺灣男子前往泰國與泰國女子辦理假結婚，林清水負責介紹臺灣男子予詹巧薇、張晉源等人以賺取新臺幣（下同）1萬元之仲介費，適陳泰龍依林清水於報紙上刊登之徵人廣告應徵時，由林清水告知泰國女子欲以假結婚之方式申請來臺居留工作，其若擔任假結婚之人頭老公，除不用負擔前往泰國之食宿、機票費用外，尚可獲取5、6萬元之報酬，迨陳泰龍應允同意後，林清水將其轉介紹予詹巧薇、張晉源等人，陳泰龍遂與林清水、詹巧薇、張晉源等人共同基於行使使公務員登載不實公文書之概括犯意聯絡，先由陳泰龍依指示於民國93年4月3日前往泰國，並於同年月7日與陳玉婉在泰國曼谷市法拉坎農區註冊辦事處登記結婚，取得上開註冊辦事處核發之結婚登記書、結婚證書等文件後，陳泰龍即行返臺，並於同年5月19日持經我國駐泰國臺北經濟文化辦事處認證之上開結婚登記書、結婚證書等資料，至臺南縣永康市（改制前稱謂，以下沿用舊制稱謂）戶政事務所填寫結婚登記申請書，申請辦理其與陳玉婉之結婚登記，因此使上開戶政事務所僅有形式審查權之承辦公務員陷於錯誤，於形式上審核後，將陳泰龍與陳玉婉於93年4月7日結婚之不實事項，登載於其職務上所掌屬公文書之戶籍登記資料內，並據以核發戶籍謄本，而足以生損害於戶政機關對於戶政管理及戶籍登記資料維護之正確性\n",
            "7: 經查：(一)被告於93年4月3日前往泰國，並於同年月7日與共犯陳玉婉在泰國曼谷市法拉坎農區註冊辦事處登記結婚，取得上開註冊辦事處核發之結婚登記書、結婚證書等文件後，被告即行返臺，並於同年5月19日持經我國駐泰國臺北經濟文化辦事處認證之上開結婚登記書、結婚證書等資料，至臺南縣永康市戶政事務所填寫結婚登記申請書，申請辦理其與共犯陳玉婉之結婚登記，並取得戶籍謄本\n",
            "8: 迨陳玉婉來臺後，為取得居留身分，再由陳泰龍、陳玉婉承前概括之犯意聯絡，於同年6月14日及94年5月5日，均持前開登載不實之戶籍謄本等資料，先後向臺南縣政府警察局外事課申請核發陳玉婉之外僑居留證及申請居留證延期而連續行使之（業經檢察官當庭補充），經承辦人員實質審查結果，均未發覺陳泰龍與陳玉婉假結婚之實情，而發給陳玉婉居留證或核准延期，各足以生損害於主管機關對外僑居留管理之正確性\n",
            "9:  二、案經臺南市警察局（現改制為臺南市政府警察局，以下沿用舊制稱謂）第一分局報告臺灣臺南地方法院檢察署檢察官偵查起訴\n",
            "10: (二)共犯詹巧薇、張晉源等人當時欲找臺灣人與泰國女子結婚，由共犯林清水於報紙上刊登徵人廣告，若應徵者符合與泰國人結婚之條件，便將應徵者介紹予共犯詹巧薇、張晉源等人，共犯林清水可從中獲取1萬元之仲介費，適被告依前開徵人廣告應徵，共犯林清水衡量其條件後告知其可至泰國結婚，其除不用負擔前往泰國之機票及食宿費用外，尚可獲取5至6萬元之報酬，被告應允同意後，共犯林清水將其介紹予詹巧薇、張晉源等人，被告即依指示前往泰國與為了來臺工作且無結婚真意的共犯陳玉婉辦理結婚事宜等情，業據共犯林清水於警詢時證稱：伊登報徵人到泰國結婚，被告看報紙來的，伊便轉介予共犯詹巧薇，由共犯詹巧薇安排後續到泰國結婚之事宜，被告除不用負擔前往泰國機票、食宿等費用，尚可獲取約5至6萬元酬勞，伊則可自共犯詹巧薇獲取約1萬元之仲介費用；伊只有將被告轉介予共犯詹巧薇，並未參與後續被告前往泰國之證照、機票、食宿等相關事宜；被告係因缺錢，為了賺取擔任人頭配偶的佣金5至6萬，並不是真的要與泰國人結婚，共犯陳玉婉係為了來臺灣工作賺錢，亦不是真的要與臺灣人結婚等語（見警三卷第2至3頁）；並於本院審理時具結證稱：當初共犯詹巧薇、張晉源等人欲找男子前往泰國結婚，伊曾刊登「男、女不限、經驗不拘」等內容之徵人廣告，被告見報應徵時，被告係因缺錢才來找伊，伊衡量被告條件後認為其只能利用結婚賺取報酬，伊才向其表示是要辦結婚，伊告知被告可安排其去泰國結婚，其不用負擔食宿及機票等費用，可實拿5至6萬元的報酬，被告同意後，伊將被告介紹予共犯詹巧薇、張晉源，共犯張晉源給付佣金1萬元予伊；伊與被告談論泰國結婚事宜時，伊與被告均不知被告之結婚對象為何人，伊亦未見過與被告結婚之泰國女子，伊僅介紹被告予共犯詹巧薇、張晉源等人，伊並未參予後續之泰國結婚、辦理結婚登記及居留申請等事情；被告曾給伊一部機車，當時被告表示要去別的地方，機車留在臺南無人使用，伊修理使用一段期間後，因再度壞掉便未再使用等語（見本院卷第68頁背面至71頁）\n",
            "--->\n",
            " 1: 陳泰龍明知其與泰國籍女子陳玉婉（泰國名字為JARUWANWONGPRATOOM，陳玉婉涉嫌本案偽造文書部分，另經臺灣臺南地方法院檢察署檢察官通緝中）間並無結婚之真意，然因詹巧薇、張晉源等人欲找臺灣男子前往泰國與泰國女子辦理假結婚，林清水負責介紹臺灣男子予詹巧薇、張晉源等人以賺取新臺幣（下同）1萬元之仲介費，適陳泰龍依林清水於報紙上刊登之徵人廣告應徵時，由林清水告知泰國女子欲以假結婚之方式申請來臺居留工作，其若擔任假結婚之人頭老公，除不用負擔前往泰國之食宿、機票費用外，尚可獲取5、6萬元之報酬，迨陳泰龍應允同意後，林清水將其轉介紹予詹巧薇、張晉源等人，陳泰龍遂與林清水、詹巧薇、張晉源等人共同基於行使使公務員登載不實公文書之概括犯意聯絡，先由陳泰龍依指示於民國93年4月3日前往泰國，並於同年月7日與陳玉婉在泰國曼谷市法拉坎農區註冊辦事處登記結婚，取得上開註冊辦事處核發之結婚登記書、結婚證書等文件後，陳泰龍即行返臺，並於同年5月19日持經我國駐泰國臺北經濟文化辦事處認證之上開結婚登記書、結婚證書等資料，至臺南縣永康市（改制前稱謂，以下沿用舊制稱謂）戶政事務所填寫結婚登記申請書，申請辦理其與陳玉婉之結婚登記，因此使上開戶政事務所僅有形式審查權之承辦公務員陷於錯誤，於形式上審核後，將陳泰龍與陳玉婉於93年4月7日結婚之不實事項，登載於其職務上所掌屬公文書之戶籍登記資料內，並據以核發戶籍謄本，而足以生損害於戶政機關對於戶政管理及戶籍登記資料維護之正確性。\n",
            "2: 迨陳玉婉來臺後，為取得居留身分，再由陳泰龍、陳玉婉承前概括之犯意聯絡，於同年6月14日及94年5月5日，均持前開登載不實之戶籍謄本等資料，先後向臺南縣政府警察局外事課申請核發陳玉婉之外僑居留證及申請居留證延期而連續行使之（業經檢察官當庭補充），經承辦人員實質審查結果，均未發覺陳泰龍與陳玉婉假結婚之實情，而發給陳玉婉居留證或核准延期，各足以生損害於主管機關對外僑居留管理之正確性。\n",
            "3: 案經臺南市警察局（現改制為臺南市政府警察局，以下沿用舊制稱謂）第一分局報告臺灣臺南地方法院檢察署檢察官偵查起訴。\n",
            "=======================================================\n",
            "1: 乙、實體方面：一、訊據被告固坦承於上開時、地，透過共犯林清水之介紹，先至泰國辦理與共犯陳玉婉之結婚手續，再前往臺南縣永康市戶政事務所辦理結婚登記，又前往臺南縣政府警察局外事課辦理共犯陳玉婉之外僑居留證及申請居留證延期之事實，惟矢口否認有何行使使公務員登載不實文書情事，於本院審理時辯稱：伊當時經濟狀況良好，因同居女友欲去日本工作而不願結婚，然伊希望結婚生子，遂透過共犯林清水之介紹與安排，共犯林清水先讓伊看過共犯陳玉婉之照片，伊再前往泰國與共犯陳玉婉結婚，伊僅負擔自己的來回機票錢及泰國住宿費用，其他結婚費用均由共犯林清水負擔，伊則贈送伊的一部機車予共犯林清水以為回報，伊並不認識共犯詹巧薇云云\n",
            "2: 迨共犯陳玉婉來臺後，為取得居留身分，被告與共犯陳玉婉於同年6月14日及94年5月5日，均持前開戶籍謄本等資料，先後向臺南縣政府警察局外事課申請核發共犯陳玉婉之外僑居留證及申請居留證延期等情，業據被告供承在卷，並有結婚登記申請書、授權書各1份、結婚登記書、結婚證書各1份（含中文、泰文影本及我國駐泰國臺北經濟文化辦事處認證之資料）、93年6月14日及94年5月5日之外國人居留停留案件聲請表各1份、被告及共犯陳玉婉之入出國日期紀錄各1份、共犯陳玉婉之外僑居留資料查詢1份在卷可按（見警三卷即南市警一刑偵字第0994101517號卷第6至24、33頁）\n",
            "3: 上開事實，首堪認定\n",
            "4: 理由甲、程序方面：一、本件以下所引用具傳聞證據性質之供述證據，因本件被告陳泰龍、檢察官等人於本院準備程序進行時，均未爭執前開陳述之證據能力，且迄至本案言詞辯論終結前亦均未聲明異議，應視為已同意援引作為證據，又本院審酌前開證據作成時之情況及證據取得過程等節，並無非出於任意性、不正取供或其他違法不當情事，且客觀上亦無顯不可信之情況，堪認為適當，是依刑事訴訟法第159條之5規定，均有證據能力\n",
            "5: 二、卷附之被告及陳玉婉入出國日期紀錄各1份等書證，均非屬供述證據，皆無傳聞法則之適用，復均無違反法定程序取得之情形，依刑事訴訟法第158條之4規定之反面解釋，均應有證據能力\n",
            "6: 一、陳泰龍明知其與泰國籍女子陳玉婉（泰國名字為JARUWANWONGPRATOOM，陳玉婉涉嫌本案偽造文書部分，另經臺灣臺南地方法院檢察署檢察官通緝中）間並無結婚之真意，然因詹巧薇、張晉源等人欲找臺灣男子前往泰國與泰國女子辦理假結婚，林清水負責介紹臺灣男子予詹巧薇、張晉源等人以賺取新臺幣（下同）1萬元之仲介費，適陳泰龍依林清水於報紙上刊登之徵人廣告應徵時，由林清水告知泰國女子欲以假結婚之方式申請來臺居留工作，其若擔任假結婚之人頭老公，除不用負擔前往泰國之食宿、機票費用外，尚可獲取5、6萬元之報酬，迨陳泰龍應允同意後，林清水將其轉介紹予詹巧薇、張晉源等人，陳泰龍遂與林清水、詹巧薇、張晉源等人共同基於行使使公務員登載不實公文書之概括犯意聯絡，先由陳泰龍依指示於民國93年4月3日前往泰國，並於同年月7日與陳玉婉在泰國曼谷市法拉坎農區註冊辦事處登記結婚，取得上開註冊辦事處核發之結婚登記書、結婚證書等文件後，陳泰龍即行返臺，並於同年5月19日持經我國駐泰國臺北經濟文化辦事處認證之上開結婚登記書、結婚證書等資料，至臺南縣永康市（改制前稱謂，以下沿用舊制稱謂）戶政事務所填寫結婚登記申請書，申請辦理其與陳玉婉之結婚登記，因此使上開戶政事務所僅有形式審查權之承辦公務員陷於錯誤，於形式上審核後，將陳泰龍與陳玉婉於93年4月7日結婚之不實事項，登載於其職務上所掌屬公文書之戶籍登記資料內，並據以核發戶籍謄本，而足以生損害於戶政機關對於戶政管理及戶籍登記資料維護之正確性\n",
            "7: 經查：(一)被告於93年4月3日前往泰國，並於同年月7日與共犯陳玉婉在泰國曼谷市法拉坎農區註冊辦事處登記結婚，取得上開註冊辦事處核發之結婚登記書、結婚證書等文件後，被告即行返臺，並於同年5月19日持經我國駐泰國臺北經濟文化辦事處認證之上開結婚登記書、結婚證書等資料，至臺南縣永康市戶政事務所填寫結婚登記申請書，申請辦理其與共犯陳玉婉之結婚登記，並取得戶籍謄本\n",
            "8: 迨陳玉婉來臺後，為取得居留身分，再由陳泰龍、陳玉婉承前概括之犯意聯絡，於同年6月14日及94年5月5日，均持前開登載不實之戶籍謄本等資料，先後向臺南縣政府警察局外事課申請核發陳玉婉之外僑居留證及申請居留證延期而連續行使之（業經檢察官當庭補充），經承辦人員實質審查結果，均未發覺陳泰龍與陳玉婉假結婚之實情，而發給陳玉婉居留證或核准延期，各足以生損害於主管機關對外僑居留管理之正確性\n",
            "9:  二、案經臺南市警察局（現改制為臺南市政府警察局，以下沿用舊制稱謂）第一分局報告臺灣臺南地方法院檢察署檢察官偵查起訴\n",
            "10: (二)共犯詹巧薇、張晉源等人當時欲找臺灣人與泰國女子結婚，由共犯林清水於報紙上刊登徵人廣告，若應徵者符合與泰國人結婚之條件，便將應徵者介紹予共犯詹巧薇、張晉源等人，共犯林清水可從中獲取1萬元之仲介費，適被告依前開徵人廣告應徵，共犯林清水衡量其條件後告知其可至泰國結婚，其除不用負擔前往泰國之機票及食宿費用外，尚可獲取5至6萬元之報酬，被告應允同意後，共犯林清水將其介紹予詹巧薇、張晉源等人，被告即依指示前往泰國與為了來臺工作且無結婚真意的共犯陳玉婉辦理結婚事宜等情，業據共犯林清水於警詢時證稱：伊登報徵人到泰國結婚，被告看報紙來的，伊便轉介予共犯詹巧薇，由共犯詹巧薇安排後續到泰國結婚之事宜，被告除不用負擔前往泰國機票、食宿等費用，尚可獲取約5至6萬元酬勞，伊則可自共犯詹巧薇獲取約1萬元之仲介費用；伊只有將被告轉介予共犯詹巧薇，並未參與後續被告前往泰國之證照、機票、食宿等相關事宜；被告係因缺錢，為了賺取擔任人頭配偶的佣金5至6萬，並不是真的要與泰國人結婚，共犯陳玉婉係為了來臺灣工作賺錢，亦不是真的要與臺灣人結婚等語（見警三卷第2至3頁）；並於本院審理時具結證稱：當初共犯詹巧薇、張晉源等人欲找男子前往泰國結婚，伊曾刊登「男、女不限、經驗不拘」等內容之徵人廣告，被告見報應徵時，被告係因缺錢才來找伊，伊衡量被告條件後認為其只能利用結婚賺取報酬，伊才向其表示是要辦結婚，伊告知被告可安排其去泰國結婚，其不用負擔食宿及機票等費用，可實拿5至6萬元的報酬，被告同意後，伊將被告介紹予共犯詹巧薇、張晉源，共犯張晉源給付佣金1萬元予伊；伊與被告談論泰國結婚事宜時，伊與被告均不知被告之結婚對象為何人，伊亦未見過與被告結婚之泰國女子，伊僅介紹被告予共犯詹巧薇、張晉源等人，伊並未參予後續之泰國結婚、辦理結婚登記及居留申請等事情；被告曾給伊一部機車，當時被告表示要去別的地方，機車留在臺南無人使用，伊修理使用一段期間後，因再度壞掉便未再使用等語（見本院卷第68頁背面至71頁）\n",
            "--->\n",
            " 1. 被告依指示前往泰國與為了來臺工作且無結婚真意的共犯陳玉婉辦理結婚事宜等情，業據共犯林清水於警詢時證稱：伊登報徵人到泰國結婚，被告看報紙來的，伊便轉介予共犯詹巧薇，由共犯詹巧薇安排後續到泰國結婚之事宜，被告除不用負擔前往泰國機票、食宿等費用，尚可獲取約5至6萬元酬勞，伊則可自共犯詹巧薇獲取約1萬元之仲介費用；伊只有將被告轉介予共犯詹巧薇，並未參與後續被告前往泰國之證照、機票、食宿等相關事宜；被告係因缺錢，為了賺取擔任人頭配偶的佣金5至6萬，並不是真的要與泰國人結婚，共犯陳玉婉係為了來臺灣工作賺錢，亦不是真的要與臺灣人結婚等語（見警三卷第2至3頁）；並於本院審理時具結證稱：當初共犯詹巧薇、張晉源等人欲找男子前往泰國結婚，伊曾刊登「男、女不限、經驗不拘」等內容之徵人廣告，被告見報應徵時，被告係因缺錢才來找伊，伊衡量被告條件後認為其只能利用結婚賺取報酬，伊才向其表示是要辦結婚，伊告知被告可安排其去泰國結婚，其不用負擔食宿及機票等費用，可實拿5至6萬元的報酬，被告同意後，伊將被告介紹予共犯詹巧薇、張晉源，共犯張晉源給付佣金1萬元予伊；伊與被告談論泰國結婚事宜時，伊與被告均不知被告之結婚對象為何人，伊亦未見過與被告結婚之泰國女子，伊僅介紹被告予共犯詹巧薇、張晉源等人，伊並未參予後續之泰國結婚、辦理結婚登記及居留申請等事情；被告曾給伊一部機車，當時被告表示要去別的地方，機車留在臺南無人使用，伊修理使用一段期間後，因再度壞掉便未再使用等語（見本院卷第68頁背面至71頁）\n",
            "\n",
            "2. 迨陳玉婉來臺後，為取得居留身分，再由陳泰龍、陳玉婉承前概括之犯意聯絡，於同年6月14日及94年5月5日，均持前開登載不實之戶籍謄本等資料，先後向臺南縣政府警察局外事課申請核發陳玉婉之外僑居留證及申請居留證延期而連續行使之（業經檢察官當庭補充），經承辦人員實質審查結果，均未發覺陳泰龍與陳玉婉假結婚之實情，而發給陳玉婉居留證或核准延期，各足以生損害於主管機關對外僑居留管理之正確性\n",
            "\n",
            "3. 二、案經臺南市警察局（現改制為臺南市政府警察局，以下沿用舊制稱謂）第一分局報告臺灣臺南地方法院檢察署檢察官偵查起訴\n",
            "=======================================================\n"
          ]
        }
      ],
      "source": [
        "print(prompt1)\n",
        "print(\"--->\")\n",
        "print(get_breeze(query+prompt1))\n",
        "print(\"=======================================================\")\n",
        "print(prompt1)\n",
        "print(\"--->\")\n",
        "print(get_breeze(query+prompt2))\n",
        "print(\"=======================================================\")\n",
        "print(prompt1)\n",
        "print(\"--->\")\n",
        "print(get_breeze(query+prompt3))\n",
        "print(\"=======================================================\")"
      ]
    },
    {
      "cell_type": "code",
      "execution_count": null,
      "metadata": {
        "id": "py49ysprEFEW"
      },
      "outputs": [],
      "source": [
        "query = \"請從以下給出的句子中挑選最像在描寫犯罪行為的三個句子：\\n\""
      ]
    },
    {
      "cell_type": "code",
      "execution_count": null,
      "metadata": {
        "colab": {
          "base_uri": "https://localhost:8080/"
        },
        "id": "HBlihKwaEIhK",
        "outputId": "4e9434d8-9aa6-4d6f-a945-610f17f90b56"
      },
      "outputs": [
        {
          "name": "stdout",
          "output_type": "stream",
          "text": [
            "1: 乙、實體方面：一、訊據被告固坦承於上開時、地，透過共犯林清水之介紹，先至泰國辦理與共犯陳玉婉之結婚手續，再前往臺南縣永康市戶政事務所辦理結婚登記，又前往臺南縣政府警察局外事課辦理共犯陳玉婉之外僑居留證及申請居留證延期之事實，惟矢口否認有何行使使公務員登載不實文書情事，於本院審理時辯稱：伊當時經濟狀況良好，因同居女友欲去日本工作而不願結婚，然伊希望結婚生子，遂透過共犯林清水之介紹與安排，共犯林清水先讓伊看過共犯陳玉婉之照片，伊再前往泰國與共犯陳玉婉結婚，伊僅負擔自己的來回機票錢及泰國住宿費用，其他結婚費用均由共犯林清水負擔，伊則贈送伊的一部機車予共犯林清水以為回報，伊並不認識共犯詹巧薇云云\n",
            "2: 迨共犯陳玉婉來臺後，為取得居留身分，被告與共犯陳玉婉於同年6月14日及94年5月5日，均持前開戶籍謄本等資料，先後向臺南縣政府警察局外事課申請核發共犯陳玉婉之外僑居留證及申請居留證延期等情，業據被告供承在卷，並有結婚登記申請書、授權書各1份、結婚登記書、結婚證書各1份（含中文、泰文影本及我國駐泰國臺北經濟文化辦事處認證之資料）、93年6月14日及94年5月5日之外國人居留停留案件聲請表各1份、被告及共犯陳玉婉之入出國日期紀錄各1份、共犯陳玉婉之外僑居留資料查詢1份在卷可按（見警三卷即南市警一刑偵字第0994101517號卷第6至24、33頁）\n",
            "3: 上開事實，首堪認定\n",
            "4: 理由甲、程序方面：一、本件以下所引用具傳聞證據性質之供述證據，因本件被告陳泰龍、檢察官等人於本院準備程序進行時，均未爭執前開陳述之證據能力，且迄至本案言詞辯論終結前亦均未聲明異議，應視為已同意援引作為證據，又本院審酌前開證據作成時之情況及證據取得過程等節，並無非出於任意性、不正取供或其他違法不當情事，且客觀上亦無顯不可信之情況，堪認為適當，是依刑事訴訟法第159條之5規定，均有證據能力\n",
            "5: 二、卷附之被告及陳玉婉入出國日期紀錄各1份等書證，均非屬供述證據，皆無傳聞法則之適用，復均無違反法定程序取得之情形，依刑事訴訟法第158條之4規定之反面解釋，均應有證據能力\n",
            "6: 一、陳泰龍明知其與泰國籍女子陳玉婉（泰國名字為JARUWANWONGPRATOOM，陳玉婉涉嫌本案偽造文書部分，另經臺灣臺南地方法院檢察署檢察官通緝中）間並無結婚之真意，然因詹巧薇、張晉源等人欲找臺灣男子前往泰國與泰國女子辦理假結婚，林清水負責介紹臺灣男子予詹巧薇、張晉源等人以賺取新臺幣（下同）1萬元之仲介費，適陳泰龍依林清水於報紙上刊登之徵人廣告應徵時，由林清水告知泰國女子欲以假結婚之方式申請來臺居留工作，其若擔任假結婚之人頭老公，除不用負擔前往泰國之食宿、機票費用外，尚可獲取5、6萬元之報酬，迨陳泰龍應允同意後，林清水將其轉介紹予詹巧薇、張晉源等人，陳泰龍遂與林清水、詹巧薇、張晉源等人共同基於行使使公務員登載不實公文書之概括犯意聯絡，先由陳泰龍依指示於民國93年4月3日前往泰國，並於同年月7日與陳玉婉在泰國曼谷市法拉坎農區註冊辦事處登記結婚，取得上開註冊辦事處核發之結婚登記書、結婚證書等文件後，陳泰龍即行返臺，並於同年5月19日持經我國駐泰國臺北經濟文化辦事處認證之上開結婚登記書、結婚證書等資料，至臺南縣永康市（改制前稱謂，以下沿用舊制稱謂）戶政事務所填寫結婚登記申請書，申請辦理其與陳玉婉之結婚登記，因此使上開戶政事務所僅有形式審查權之承辦公務員陷於錯誤，於形式上審核後，將陳泰龍與陳玉婉於93年4月7日結婚之不實事項，登載於其職務上所掌屬公文書之戶籍登記資料內，並據以核發戶籍謄本，而足以生損害於戶政機關對於戶政管理及戶籍登記資料維護之正確性\n",
            "7: 經查：(一)被告於93年4月3日前往泰國，並於同年月7日與共犯陳玉婉在泰國曼谷市法拉坎農區註冊辦事處登記結婚，取得上開註冊辦事處核發之結婚登記書、結婚證書等文件後，被告即行返臺，並於同年5月19日持經我國駐泰國臺北經濟文化辦事處認證之上開結婚登記書、結婚證書等資料，至臺南縣永康市戶政事務所填寫結婚登記申請書，申請辦理其與共犯陳玉婉之結婚登記，並取得戶籍謄本\n",
            "8: 迨陳玉婉來臺後，為取得居留身分，再由陳泰龍、陳玉婉承前概括之犯意聯絡，於同年6月14日及94年5月5日，均持前開登載不實之戶籍謄本等資料，先後向臺南縣政府警察局外事課申請核發陳玉婉之外僑居留證及申請居留證延期而連續行使之（業經檢察官當庭補充），經承辦人員實質審查結果，均未發覺陳泰龍與陳玉婉假結婚之實情，而發給陳玉婉居留證或核准延期，各足以生損害於主管機關對外僑居留管理之正確性\n",
            "9:  二、案經臺南市警察局（現改制為臺南市政府警察局，以下沿用舊制稱謂）第一分局報告臺灣臺南地方法院檢察署檢察官偵查起訴\n",
            "10: (二)共犯詹巧薇、張晉源等人當時欲找臺灣人與泰國女子結婚，由共犯林清水於報紙上刊登徵人廣告，若應徵者符合與泰國人結婚之條件，便將應徵者介紹予共犯詹巧薇、張晉源等人，共犯林清水可從中獲取1萬元之仲介費，適被告依前開徵人廣告應徵，共犯林清水衡量其條件後告知其可至泰國結婚，其除不用負擔前往泰國之機票及食宿費用外，尚可獲取5至6萬元之報酬，被告應允同意後，共犯林清水將其介紹予詹巧薇、張晉源等人，被告即依指示前往泰國與為了來臺工作且無結婚真意的共犯陳玉婉辦理結婚事宜等情，業據共犯林清水於警詢時證稱：伊登報徵人到泰國結婚，被告看報紙來的，伊便轉介予共犯詹巧薇，由共犯詹巧薇安排後續到泰國結婚之事宜，被告除不用負擔前往泰國機票、食宿等費用，尚可獲取約5至6萬元酬勞，伊則可自共犯詹巧薇獲取約1萬元之仲介費用；伊只有將被告轉介予共犯詹巧薇，並未參與後續被告前往泰國之證照、機票、食宿等相關事宜；被告係因缺錢，為了賺取擔任人頭配偶的佣金5至6萬，並不是真的要與泰國人結婚，共犯陳玉婉係為了來臺灣工作賺錢，亦不是真的要與臺灣人結婚等語（見警三卷第2至3頁）；並於本院審理時具結證稱：當初共犯詹巧薇、張晉源等人欲找男子前往泰國結婚，伊曾刊登「男、女不限、經驗不拘」等內容之徵人廣告，被告見報應徵時，被告係因缺錢才來找伊，伊衡量被告條件後認為其只能利用結婚賺取報酬，伊才向其表示是要辦結婚，伊告知被告可安排其去泰國結婚，其不用負擔食宿及機票等費用，可實拿5至6萬元的報酬，被告同意後，伊將被告介紹予共犯詹巧薇、張晉源，共犯張晉源給付佣金1萬元予伊；伊與被告談論泰國結婚事宜時，伊與被告均不知被告之結婚對象為何人，伊亦未見過與被告結婚之泰國女子，伊僅介紹被告予共犯詹巧薇、張晉源等人，伊並未參予後續之泰國結婚、辦理結婚登記及居留申請等事情；被告曾給伊一部機車，當時被告表示要去別的地方，機車留在臺南無人使用，伊修理使用一段期間後，因再度壞掉便未再使用等語（見本院卷第68頁背面至71頁）\n",
            "--->\n",
            " 3: 上開事實，首堪認定\n",
            "5: 二、卷附之被告及陳玉婉入出國日期紀錄各1份等書證，均非屬供述證據，皆無傳聞法則之適用，復均無違反法定程序取得之情形，依刑事訴訟法第158條之4規定之反面解釋，均應有證據能力\n",
            "7: 經查：(一)被告於93年4月3日前往泰國，並於同年月7日與共犯陳玉婉在泰國曼谷市法拉坎農區註冊辦事處登記結婚，取得上開註冊辦事處核發之結婚登記書、結婚證書等文件後，被告即行返臺，並於同年5月19日持經我國駐泰國臺北經濟文化辦事處認證之上開結婚登記書、結婚證書等資料，至臺南縣永康市戶政事務所填寫結婚登記申請書，申請辦理其與共犯陳玉婉之結婚登記，並取得戶籍謄本\n",
            "8: 迨陳玉婉來臺後，為取得居留身分，再由陳泰龍、陳玉婉承前概括之犯意聯絡，於同年6月14日及94年5月5日，均持前開登載不實之戶籍謄本等資料，先後向臺南縣政府警察局外事課申請核發陳玉婉之外僑居留證及申請居留證延期而連續行使之（業經檢察官當庭補充），經承辦人員實質審查結果，均未發覺陳泰龍與陳玉婉假結婚之實情，而發給陳玉婉居留證或核准延期，各足以生損害於主管機關對外僑居留管理之正確性\n",
            "=======================================================\n",
            "1: 乙、實體方面：一、訊據被告固坦承於上開時、地，透過共犯林清水之介紹，先至泰國辦理與共犯陳玉婉之結婚手續，再前往臺南縣永康市戶政事務所辦理結婚登記，又前往臺南縣政府警察局外事課辦理共犯陳玉婉之外僑居留證及申請居留證延期之事實，惟矢口否認有何行使使公務員登載不實文書情事，於本院審理時辯稱：伊當時經濟狀況良好，因同居女友欲去日本工作而不願結婚，然伊希望結婚生子，遂透過共犯林清水之介紹與安排，共犯林清水先讓伊看過共犯陳玉婉之照片，伊再前往泰國與共犯陳玉婉結婚，伊僅負擔自己的來回機票錢及泰國住宿費用，其他結婚費用均由共犯林清水負擔，伊則贈送伊的一部機車予共犯林清水以為回報，伊並不認識共犯詹巧薇云云\n",
            "2: 迨共犯陳玉婉來臺後，為取得居留身分，被告與共犯陳玉婉於同年6月14日及94年5月5日，均持前開戶籍謄本等資料，先後向臺南縣政府警察局外事課申請核發共犯陳玉婉之外僑居留證及申請居留證延期等情，業據被告供承在卷，並有結婚登記申請書、授權書各1份、結婚登記書、結婚證書各1份（含中文、泰文影本及我國駐泰國臺北經濟文化辦事處認證之資料）、93年6月14日及94年5月5日之外國人居留停留案件聲請表各1份、被告及共犯陳玉婉之入出國日期紀錄各1份、共犯陳玉婉之外僑居留資料查詢1份在卷可按（見警三卷即南市警一刑偵字第0994101517號卷第6至24、33頁）\n",
            "3: 上開事實，首堪認定\n",
            "4: 理由甲、程序方面：一、本件以下所引用具傳聞證據性質之供述證據，因本件被告陳泰龍、檢察官等人於本院準備程序進行時，均未爭執前開陳述之證據能力，且迄至本案言詞辯論終結前亦均未聲明異議，應視為已同意援引作為證據，又本院審酌前開證據作成時之情況及證據取得過程等節，並無非出於任意性、不正取供或其他違法不當情事，且客觀上亦無顯不可信之情況，堪認為適當，是依刑事訴訟法第159條之5規定，均有證據能力\n",
            "5: 二、卷附之被告及陳玉婉入出國日期紀錄各1份等書證，均非屬供述證據，皆無傳聞法則之適用，復均無違反法定程序取得之情形，依刑事訴訟法第158條之4規定之反面解釋，均應有證據能力\n",
            "6: 一、陳泰龍明知其與泰國籍女子陳玉婉（泰國名字為JARUWANWONGPRATOOM，陳玉婉涉嫌本案偽造文書部分，另經臺灣臺南地方法院檢察署檢察官通緝中）間並無結婚之真意，然因詹巧薇、張晉源等人欲找臺灣男子前往泰國與泰國女子辦理假結婚，林清水負責介紹臺灣男子予詹巧薇、張晉源等人以賺取新臺幣（下同）1萬元之仲介費，適陳泰龍依林清水於報紙上刊登之徵人廣告應徵時，由林清水告知泰國女子欲以假結婚之方式申請來臺居留工作，其若擔任假結婚之人頭老公，除不用負擔前往泰國之食宿、機票費用外，尚可獲取5、6萬元之報酬，迨陳泰龍應允同意後，林清水將其轉介紹予詹巧薇、張晉源等人，陳泰龍遂與林清水、詹巧薇、張晉源等人共同基於行使使公務員登載不實公文書之概括犯意聯絡，先由陳泰龍依指示於民國93年4月3日前往泰國，並於同年月7日與陳玉婉在泰國曼谷市法拉坎農區註冊辦事處登記結婚，取得上開註冊辦事處核發之結婚登記書、結婚證書等文件後，陳泰龍即行返臺，並於同年5月19日持經我國駐泰國臺北經濟文化辦事處認證之上開結婚登記書、結婚證書等資料，至臺南縣永康市（改制前稱謂，以下沿用舊制稱謂）戶政事務所填寫結婚登記申請書，申請辦理其與陳玉婉之結婚登記，因此使上開戶政事務所僅有形式審查權之承辦公務員陷於錯誤，於形式上審核後，將陳泰龍與陳玉婉於93年4月7日結婚之不實事項，登載於其職務上所掌屬公文書之戶籍登記資料內，並據以核發戶籍謄本，而足以生損害於戶政機關對於戶政管理及戶籍登記資料維護之正確性\n",
            "7: 經查：(一)被告於93年4月3日前往泰國，並於同年月7日與共犯陳玉婉在泰國曼谷市法拉坎農區註冊辦事處登記結婚，取得上開註冊辦事處核發之結婚登記書、結婚證書等文件後，被告即行返臺，並於同年5月19日持經我國駐泰國臺北經濟文化辦事處認證之上開結婚登記書、結婚證書等資料，至臺南縣永康市戶政事務所填寫結婚登記申請書，申請辦理其與共犯陳玉婉之結婚登記，並取得戶籍謄本\n",
            "8: 迨陳玉婉來臺後，為取得居留身分，再由陳泰龍、陳玉婉承前概括之犯意聯絡，於同年6月14日及94年5月5日，均持前開登載不實之戶籍謄本等資料，先後向臺南縣政府警察局外事課申請核發陳玉婉之外僑居留證及申請居留證延期而連續行使之（業經檢察官當庭補充），經承辦人員實質審查結果，均未發覺陳泰龍與陳玉婉假結婚之實情，而發給陳玉婉居留證或核准延期，各足以生損害於主管機關對外僑居留管理之正確性\n",
            "9:  二、案經臺南市警察局（現改制為臺南市政府警察局，以下沿用舊制稱謂）第一分局報告臺灣臺南地方法院檢察署檢察官偵查起訴\n",
            "10: (二)共犯詹巧薇、張晉源等人當時欲找臺灣人與泰國女子結婚，由共犯林清水於報紙上刊登徵人廣告，若應徵者符合與泰國人結婚之條件，便將應徵者介紹予共犯詹巧薇、張晉源等人，共犯林清水可從中獲取1萬元之仲介費，適被告依前開徵人廣告應徵，共犯林清水衡量其條件後告知其可至泰國結婚，其除不用負擔前往泰國之機票及食宿費用外，尚可獲取5至6萬元之報酬，被告應允同意後，共犯林清水將其介紹予詹巧薇、張晉源等人，被告即依指示前往泰國與為了來臺工作且無結婚真意的共犯陳玉婉辦理結婚事宜等情，業據共犯林清水於警詢時證稱：伊登報徵人到泰國結婚，被告看報紙來的，伊便轉介予共犯詹巧薇，由共犯詹巧薇安排後續到泰國結婚之事宜，被告除不用負擔前往泰國機票、食宿等費用，尚可獲取約5至6萬元酬勞，伊則可自共犯詹巧薇獲取約1萬元之仲介費用；伊只有將被告轉介予共犯詹巧薇，並未參與後續被告前往泰國之證照、機票、食宿等相關事宜；被告係因缺錢，為了賺取擔任人頭配偶的佣金5至6萬，並不是真的要與泰國人結婚，共犯陳玉婉係為了來臺灣工作賺錢，亦不是真的要與臺灣人結婚等語（見警三卷第2至3頁）；並於本院審理時具結證稱：當初共犯詹巧薇、張晉源等人欲找男子前往泰國結婚，伊曾刊登「男、女不限、經驗不拘」等內容之徵人廣告，被告見報應徵時，被告係因缺錢才來找伊，伊衡量被告條件後認為其只能利用結婚賺取報酬，伊才向其表示是要辦結婚，伊告知被告可安排其去泰國結婚，其不用負擔食宿及機票等費用，可實拿5至6萬元的報酬，被告同意後，伊將被告介紹予共犯詹巧薇、張晉源，共犯張晉源給付佣金1萬元予伊；伊與被告談論泰國結婚事宜時，伊與被告均不知被告之結婚對象為何人，伊亦未見過與被告結婚之泰國女子，伊僅介紹被告予共犯詹巧薇、張晉源等人，伊並未參予後續之泰國結婚、辦理結婚登記及居留申請等事情；被告曾給伊一部機車，當時被告表示要去別的地方，機車留在臺南無人使用，伊修理使用一段期間後，因再度壞掉便未再使用等語（見本院卷第68頁背面至71頁）\n",
            "--->\n",
            " 1: 一、陳泰龍明知其與泰國籍女子陳玉婉（泰國名字為JARUWANWONGPRATOOM，陳玉婉涉嫌本案偽造文書部分，另經臺灣臺南地方法院檢察署檢察官通緝中）間並無結婚之真意，然因詹巧薇、張晉源等人欲找臺灣男子前往泰國與泰國女子辦理假結婚，林清水負責介紹臺灣男子予詹巧薇、張晉源等人以賺取新臺幣（下同）1萬元之仲介費，適陳泰龍依林清水於報紙上刊登之徵人廣告應徵時，由林清水告知泰國女子欲以假結婚之方式申請來臺居留工作，其若擔任假結婚之人頭老公，除不用負擔前往泰國之食宿、機票費用外，尚可獲取5、6萬元之報酬，迨陳泰龍應允同意後，林清水將其轉介紹予詹巧薇、張晉源等人，陳泰龍遂與林清水、詹巧薇、張晉源等人共同基於行使使公務員登載不實公文書之概括犯意聯絡，先由陳泰龍依指示於民國93年4月3日前往泰國，並於同年月7日與陳玉婉在泰國曼谷市法拉坎農區註冊辦事處登記結婚，取得上開註冊辦事處核發之結婚登記書、結婚證書等文件後，陳泰龍即行返臺，並於同年5月19日持經我國駐泰國臺北經濟文化辦事處認證之上開結婚登記書、結婚證書等資料，至臺南縣永康市（改制前稱謂，以下沿用舊制稱謂）戶政事務所填寫結婚登記申請書，申請辦理其與陳玉婉之結婚登記，因此使上開戶政事務所僅有形式審查權之承辦公務員陷於錯誤，於形式上審核後，將陳泰龍與陳玉婉於93年4月7日結婚之不實事項，登載於其職務上所掌屬公文書之戶籍登記資料內，並據以核發戶籍謄本，而足以生損害於戶政機關對於戶政管理及戶籍登記資料維護之正確性\n",
            "\n",
            "2: 迨陳玉婉來臺後，為取得居留身分，再由陳泰龍、陳玉婉承前概括之犯意聯絡，於同年6月14日及94年5月5日，均持前開登載不實之戶籍謄本等資料，先後向臺南縣政府警察局外事課申請核發陳玉婉之外僑居留證及申請居留證延期而連續行使之（業經檢察官當庭補充），經承辦人員實質審查結果，均未發覺陳泰龍與陳玉婉假結婚之實情，而發給陳玉婉居留證或核准延期，各足以生損害於主管機關對外僑居留管理之正確性\n",
            "=======================================================\n",
            "1: 乙、實體方面：一、訊據被告固坦承於上開時、地，透過共犯林清水之介紹，先至泰國辦理與共犯陳玉婉之結婚手續，再前往臺南縣永康市戶政事務所辦理結婚登記，又前往臺南縣政府警察局外事課辦理共犯陳玉婉之外僑居留證及申請居留證延期之事實，惟矢口否認有何行使使公務員登載不實文書情事，於本院審理時辯稱：伊當時經濟狀況良好，因同居女友欲去日本工作而不願結婚，然伊希望結婚生子，遂透過共犯林清水之介紹與安排，共犯林清水先讓伊看過共犯陳玉婉之照片，伊再前往泰國與共犯陳玉婉結婚，伊僅負擔自己的來回機票錢及泰國住宿費用，其他結婚費用均由共犯林清水負擔，伊則贈送伊的一部機車予共犯林清水以為回報，伊並不認識共犯詹巧薇云云\n",
            "2: 迨共犯陳玉婉來臺後，為取得居留身分，被告與共犯陳玉婉於同年6月14日及94年5月5日，均持前開戶籍謄本等資料，先後向臺南縣政府警察局外事課申請核發共犯陳玉婉之外僑居留證及申請居留證延期等情，業據被告供承在卷，並有結婚登記申請書、授權書各1份、結婚登記書、結婚證書各1份（含中文、泰文影本及我國駐泰國臺北經濟文化辦事處認證之資料）、93年6月14日及94年5月5日之外國人居留停留案件聲請表各1份、被告及共犯陳玉婉之入出國日期紀錄各1份、共犯陳玉婉之外僑居留資料查詢1份在卷可按（見警三卷即南市警一刑偵字第0994101517號卷第6至24、33頁）\n",
            "3: 上開事實，首堪認定\n",
            "4: 理由甲、程序方面：一、本件以下所引用具傳聞證據性質之供述證據，因本件被告陳泰龍、檢察官等人於本院準備程序進行時，均未爭執前開陳述之證據能力，且迄至本案言詞辯論終結前亦均未聲明異議，應視為已同意援引作為證據，又本院審酌前開證據作成時之情況及證據取得過程等節，並無非出於任意性、不正取供或其他違法不當情事，且客觀上亦無顯不可信之情況，堪認為適當，是依刑事訴訟法第159條之5規定，均有證據能力\n",
            "5: 二、卷附之被告及陳玉婉入出國日期紀錄各1份等書證，均非屬供述證據，皆無傳聞法則之適用，復均無違反法定程序取得之情形，依刑事訴訟法第158條之4規定之反面解釋，均應有證據能力\n",
            "6: 一、陳泰龍明知其與泰國籍女子陳玉婉（泰國名字為JARUWANWONGPRATOOM，陳玉婉涉嫌本案偽造文書部分，另經臺灣臺南地方法院檢察署檢察官通緝中）間並無結婚之真意，然因詹巧薇、張晉源等人欲找臺灣男子前往泰國與泰國女子辦理假結婚，林清水負責介紹臺灣男子予詹巧薇、張晉源等人以賺取新臺幣（下同）1萬元之仲介費，適陳泰龍依林清水於報紙上刊登之徵人廣告應徵時，由林清水告知泰國女子欲以假結婚之方式申請來臺居留工作，其若擔任假結婚之人頭老公，除不用負擔前往泰國之食宿、機票費用外，尚可獲取5、6萬元之報酬，迨陳泰龍應允同意後，林清水將其轉介紹予詹巧薇、張晉源等人，陳泰龍遂與林清水、詹巧薇、張晉源等人共同基於行使使公務員登載不實公文書之概括犯意聯絡，先由陳泰龍依指示於民國93年4月3日前往泰國，並於同年月7日與陳玉婉在泰國曼谷市法拉坎農區註冊辦事處登記結婚，取得上開註冊辦事處核發之結婚登記書、結婚證書等文件後，陳泰龍即行返臺，並於同年5月19日持經我國駐泰國臺北經濟文化辦事處認證之上開結婚登記書、結婚證書等資料，至臺南縣永康市（改制前稱謂，以下沿用舊制稱謂）戶政事務所填寫結婚登記申請書，申請辦理其與陳玉婉之結婚登記，因此使上開戶政事務所僅有形式審查權之承辦公務員陷於錯誤，於形式上審核後，將陳泰龍與陳玉婉於93年4月7日結婚之不實事項，登載於其職務上所掌屬公文書之戶籍登記資料內，並據以核發戶籍謄本，而足以生損害於戶政機關對於戶政管理及戶籍登記資料維護之正確性\n",
            "7: 經查：(一)被告於93年4月3日前往泰國，並於同年月7日與共犯陳玉婉在泰國曼谷市法拉坎農區註冊辦事處登記結婚，取得上開註冊辦事處核發之結婚登記書、結婚證書等文件後，被告即行返臺，並於同年5月19日持經我國駐泰國臺北經濟文化辦事處認證之上開結婚登記書、結婚證書等資料，至臺南縣永康市戶政事務所填寫結婚登記申請書，申請辦理其與共犯陳玉婉之結婚登記，並取得戶籍謄本\n",
            "8: 迨陳玉婉來臺後，為取得居留身分，再由陳泰龍、陳玉婉承前概括之犯意聯絡，於同年6月14日及94年5月5日，均持前開登載不實之戶籍謄本等資料，先後向臺南縣政府警察局外事課申請核發陳玉婉之外僑居留證及申請居留證延期而連續行使之（業經檢察官當庭補充），經承辦人員實質審查結果，均未發覺陳泰龍與陳玉婉假結婚之實情，而發給陳玉婉居留證或核准延期，各足以生損害於主管機關對外僑居留管理之正確性\n",
            "9:  二、案經臺南市警察局（現改制為臺南市政府警察局，以下沿用舊制稱謂）第一分局報告臺灣臺南地方法院檢察署檢察官偵查起訴\n",
            "10: (二)共犯詹巧薇、張晉源等人當時欲找臺灣人與泰國女子結婚，由共犯林清水於報紙上刊登徵人廣告，若應徵者符合與泰國人結婚之條件，便將應徵者介紹予共犯詹巧薇、張晉源等人，共犯林清水可從中獲取1萬元之仲介費，適被告依前開徵人廣告應徵，共犯林清水衡量其條件後告知其可至泰國結婚，其除不用負擔前往泰國之機票及食宿費用外，尚可獲取5至6萬元之報酬，被告應允同意後，共犯林清水將其介紹予詹巧薇、張晉源等人，被告即依指示前往泰國與為了來臺工作且無結婚真意的共犯陳玉婉辦理結婚事宜等情，業據共犯林清水於警詢時證稱：伊登報徵人到泰國結婚，被告看報紙來的，伊便轉介予共犯詹巧薇，由共犯詹巧薇安排後續到泰國結婚之事宜，被告除不用負擔前往泰國機票、食宿等費用，尚可獲取約5至6萬元酬勞，伊則可自共犯詹巧薇獲取約1萬元之仲介費用；伊只有將被告轉介予共犯詹巧薇，並未參與後續被告前往泰國之證照、機票、食宿等相關事宜；被告係因缺錢，為了賺取擔任人頭配偶的佣金5至6萬，並不是真的要與泰國人結婚，共犯陳玉婉係為了來臺灣工作賺錢，亦不是真的要與臺灣人結婚等語（見警三卷第2至3頁）；並於本院審理時具結證稱：當初共犯詹巧薇、張晉源等人欲找男子前往泰國結婚，伊曾刊登「男、女不限、經驗不拘」等內容之徵人廣告，被告見報應徵時，被告係因缺錢才來找伊，伊衡量被告條件後認為其只能利用結婚賺取報酬，伊才向其表示是要辦結婚，伊告知被告可安排其去泰國結婚，其不用負擔食宿及機票等費用，可實拿5至6萬元的報酬，被告同意後，伊將被告介紹予共犯詹巧薇、張晉源，共犯張晉源給付佣金1萬元予伊；伊與被告談論泰國結婚事宜時，伊與被告均不知被告之結婚對象為何人，伊亦未見過與被告結婚之泰國女子，伊僅介紹被告予共犯詹巧薇、張晉源等人，伊並未參予後續之泰國結婚、辦理結婚登記及居留申請等事情；被告曾給伊一部機車，當時被告表示要去別的地方，機車留在臺南無人使用，伊修理使用一段期間後，因再度壞掉便未再使用等語（見本院卷第68頁背面至71頁）\n",
            "--->\n",
            " 1: (二)共犯詹巧薇、張晉源等人當時欲找臺灣人與泰國女子結婚，由共犯林清水於報紙上刊登徵人廣告，若應徵者符合與泰國人結婚之條件，便將應徵者介紹予共犯詹巧薇、張晉源等人，共犯林清水可從中獲取1萬元之仲介費，適被告依前開徵人廣告應徵，共犯林清水衡量其條件後告知其可至泰國結婚，其除不用負擔前往泰國之機票及食宿費用外，尚可獲取5至6萬元之報酬，被告應允同意後，共犯林清水將其介紹予詹巧薇、張晉源等人，被告即依指示前往泰國與為了來臺工作且無結婚真意的共犯陳玉婉辦理結婚事宜等情，業據共犯林清水於警詢時證稱：伊登報徵人到泰國結婚，被告看報紙來的，伊便轉介予共犯詹巧薇，由共犯詹巧薇安排後續到泰國結婚之事宜，被告除不用負擔前往泰國機票、食宿等費用，尚可獲取約5至6萬元酬勞，伊則可自共犯詹巧薇獲取約1萬元之仲介費用；伊只有將被告轉介予共犯詹巧薇，並未參與後續被告前往泰國之證照、機票、食宿等相關事宜；被告係因缺錢，為了賺取擔任人頭配偶的佣金5至6萬，並\n",
            "=======================================================\n"
          ]
        }
      ],
      "source": [
        "print(prompt1)\n",
        "print(\"--->\")\n",
        "print(get_breeze(query+prompt1))\n",
        "print(\"=======================================================\")\n",
        "print(prompt1)\n",
        "print(\"--->\")\n",
        "print(get_breeze(query+prompt2))\n",
        "print(\"=======================================================\")\n",
        "print(prompt1)\n",
        "print(\"--->\")\n",
        "print(get_breeze(query+prompt3))\n",
        "print(\"=======================================================\")"
      ]
    },
    {
      "cell_type": "code",
      "execution_count": null,
      "metadata": {
        "id": "UVjZACN9Ecyq"
      },
      "outputs": [],
      "source": [
        "query = \"請從以下給出的句子中挑選最像在描寫行為的三個句子：\\n\""
      ]
    },
    {
      "cell_type": "code",
      "execution_count": null,
      "metadata": {
        "colab": {
          "base_uri": "https://localhost:8080/"
        },
        "id": "QpGoZXI5EfyA",
        "outputId": "10f00b73-59e7-4405-ae8a-d9f8bc7fac8e"
      },
      "outputs": [
        {
          "name": "stdout",
          "output_type": "stream",
          "text": [
            "1: 乙、實體方面：一、訊據被告固坦承於上開時、地，透過共犯林清水之介紹，先至泰國辦理與共犯陳玉婉之結婚手續，再前往臺南縣永康市戶政事務所辦理結婚登記，又前往臺南縣政府警察局外事課辦理共犯陳玉婉之外僑居留證及申請居留證延期之事實，惟矢口否認有何行使使公務員登載不實文書情事，於本院審理時辯稱：伊當時經濟狀況良好，因同居女友欲去日本工作而不願結婚，然伊希望結婚生子，遂透過共犯林清水之介紹與安排，共犯林清水先讓伊看過共犯陳玉婉之照片，伊再前往泰國與共犯陳玉婉結婚，伊僅負擔自己的來回機票錢及泰國住宿費用，其他結婚費用均由共犯林清水負擔，伊則贈送伊的一部機車予共犯林清水以為回報，伊並不認識共犯詹巧薇云云\n",
            "2: 迨共犯陳玉婉來臺後，為取得居留身分，被告與共犯陳玉婉於同年6月14日及94年5月5日，均持前開戶籍謄本等資料，先後向臺南縣政府警察局外事課申請核發共犯陳玉婉之外僑居留證及申請居留證延期等情，業據被告供承在卷，並有結婚登記申請書、授權書各1份、結婚登記書、結婚證書各1份（含中文、泰文影本及我國駐泰國臺北經濟文化辦事處認證之資料）、93年6月14日及94年5月5日之外國人居留停留案件聲請表各1份、被告及共犯陳玉婉之入出國日期紀錄各1份、共犯陳玉婉之外僑居留資料查詢1份在卷可按（見警三卷即南市警一刑偵字第0994101517號卷第6至24、33頁）\n",
            "3: 上開事實，首堪認定\n",
            "4: 理由甲、程序方面：一、本件以下所引用具傳聞證據性質之供述證據，因本件被告陳泰龍、檢察官等人於本院準備程序進行時，均未爭執前開陳述之證據能力，且迄至本案言詞辯論終結前亦均未聲明異議，應視為已同意援引作為證據，又本院審酌前開證據作成時之情況及證據取得過程等節，並無非出於任意性、不正取供或其他違法不當情事，且客觀上亦無顯不可信之情況，堪認為適當，是依刑事訴訟法第159條之5規定，均有證據能力\n",
            "5: 二、卷附之被告及陳玉婉入出國日期紀錄各1份等書證，均非屬供述證據，皆無傳聞法則之適用，復均無違反法定程序取得之情形，依刑事訴訟法第158條之4規定之反面解釋，均應有證據能力\n",
            "6: 一、陳泰龍明知其與泰國籍女子陳玉婉（泰國名字為JARUWANWONGPRATOOM，陳玉婉涉嫌本案偽造文書部分，另經臺灣臺南地方法院檢察署檢察官通緝中）間並無結婚之真意，然因詹巧薇、張晉源等人欲找臺灣男子前往泰國與泰國女子辦理假結婚，林清水負責介紹臺灣男子予詹巧薇、張晉源等人以賺取新臺幣（下同）1萬元之仲介費，適陳泰龍依林清水於報紙上刊登之徵人廣告應徵時，由林清水告知泰國女子欲以假結婚之方式申請來臺居留工作，其若擔任假結婚之人頭老公，除不用負擔前往泰國之食宿、機票費用外，尚可獲取5、6萬元之報酬，迨陳泰龍應允同意後，林清水將其轉介紹予詹巧薇、張晉源等人，陳泰龍遂與林清水、詹巧薇、張晉源等人共同基於行使使公務員登載不實公文書之概括犯意聯絡，先由陳泰龍依指示於民國93年4月3日前往泰國，並於同年月7日與陳玉婉在泰國曼谷市法拉坎農區註冊辦事處登記結婚，取得上開註冊辦事處核發之結婚登記書、結婚證書等文件後，陳泰龍即行返臺，並於同年5月19日持經我國駐泰國臺北經濟文化辦事處認證之上開結婚登記書、結婚證書等資料，至臺南縣永康市（改制前稱謂，以下沿用舊制稱謂）戶政事務所填寫結婚登記申請書，申請辦理其與陳玉婉之結婚登記，因此使上開戶政事務所僅有形式審查權之承辦公務員陷於錯誤，於形式上審核後，將陳泰龍與陳玉婉於93年4月7日結婚之不實事項，登載於其職務上所掌屬公文書之戶籍登記資料內，並據以核發戶籍謄本，而足以生損害於戶政機關對於戶政管理及戶籍登記資料維護之正確性\n",
            "7: 經查：(一)被告於93年4月3日前往泰國，並於同年月7日與共犯陳玉婉在泰國曼谷市法拉坎農區註冊辦事處登記結婚，取得上開註冊辦事處核發之結婚登記書、結婚證書等文件後，被告即行返臺，並於同年5月19日持經我國駐泰國臺北經濟文化辦事處認證之上開結婚登記書、結婚證書等資料，至臺南縣永康市戶政事務所填寫結婚登記申請書，申請辦理其與共犯陳玉婉之結婚登記，並取得戶籍謄本\n",
            "8: 迨陳玉婉來臺後，為取得居留身分，再由陳泰龍、陳玉婉承前概括之犯意聯絡，於同年6月14日及94年5月5日，均持前開登載不實之戶籍謄本等資料，先後向臺南縣政府警察局外事課申請核發陳玉婉之外僑居留證及申請居留證延期而連續行使之（業經檢察官當庭補充），經承辦人員實質審查結果，均未發覺陳泰龍與陳玉婉假結婚之實情，而發給陳玉婉居留證或核准延期，各足以生損害於主管機關對外僑居留管理之正確性\n",
            "9:  二、案經臺南市警察局（現改制為臺南市政府警察局，以下沿用舊制稱謂）第一分局報告臺灣臺南地方法院檢察署檢察官偵查起訴\n",
            "10: (二)共犯詹巧薇、張晉源等人當時欲找臺灣人與泰國女子結婚，由共犯林清水於報紙上刊登徵人廣告，若應徵者符合與泰國人結婚之條件，便將應徵者介紹予共犯詹巧薇、張晉源等人，共犯林清水可從中獲取1萬元之仲介費，適被告依前開徵人廣告應徵，共犯林清水衡量其條件後告知其可至泰國結婚，其除不用負擔前往泰國之機票及食宿費用外，尚可獲取5至6萬元之報酬，被告應允同意後，共犯林清水將其介紹予詹巧薇、張晉源等人，被告即依指示前往泰國與為了來臺工作且無結婚真意的共犯陳玉婉辦理結婚事宜等情，業據共犯林清水於警詢時證稱：伊登報徵人到泰國結婚，被告看報紙來的，伊便轉介予共犯詹巧薇，由共犯詹巧薇安排後續到泰國結婚之事宜，被告除不用負擔前往泰國機票、食宿等費用，尚可獲取約5至6萬元酬勞，伊則可自共犯詹巧薇獲取約1萬元之仲介費用；伊只有將被告轉介予共犯詹巧薇，並未參與後續被告前往泰國之證照、機票、食宿等相關事宜；被告係因缺錢，為了賺取擔任人頭配偶的佣金5至6萬，並不是真的要與泰國人結婚，共犯陳玉婉係為了來臺灣工作賺錢，亦不是真的要與臺灣人結婚等語（見警三卷第2至3頁）；並於本院審理時具結證稱：當初共犯詹巧薇、張晉源等人欲找男子前往泰國結婚，伊曾刊登「男、女不限、經驗不拘」等內容之徵人廣告，被告見報應徵時，被告係因缺錢才來找伊，伊衡量被告條件後認為其只能利用結婚賺取報酬，伊才向其表示是要辦結婚，伊告知被告可安排其去泰國結婚，其不用負擔食宿及機票等費用，可實拿5至6萬元的報酬，被告同意後，伊將被告介紹予共犯詹巧薇、張晉源，共犯張晉源給付佣金1萬元予伊；伊與被告談論泰國結婚事宜時，伊與被告均不知被告之結婚對象為何人，伊亦未見過與被告結婚之泰國女子，伊僅介紹被告予共犯詹巧薇、張晉源等人，伊並未參予後續之泰國結婚、辦理結婚登記及居留申請等事情；被告曾給伊一部機車，當時被告表示要去別的地方，機車留在臺南無人使用，伊修理使用一段期間後，因再度壞掉便未再使用等語（見本院卷第68頁背面至71頁）\n",
            "--->\n",
            " 3: 上開事實，首堪認定\n",
            "4: 理由甲、程序方面：一、本件以下所引用具傳聞證據性質之供述證據，因本件被告陳泰龍、檢察官等人於本院準備程序進行時，均未爭執前開陳述之證據能力，且迄至本案言詞辯論終結前亦均未聲明異議，應視為已同意援引作為證據，又本院審酌前開證據作成時之情況及證據取得過程等節，並無非出於任意性、不正取供或其他違法不當情事，且客觀上亦無顯不可信之情況，堪認為適當，是依刑事訴訟法第159條之5規定，均有證據能力\n",
            "5: 二、卷附之被告及陳玉婉入出國日期紀錄各1份等書證，均非屬供述證據，皆無傳聞法則之適用，復均無違反法定程序取得之情形，依刑事訴訟法第158條之4規定之反面解釋，均應有證據能力\n",
            "=======================================================\n",
            "1: 乙、實體方面：一、訊據被告固坦承於上開時、地，透過共犯林清水之介紹，先至泰國辦理與共犯陳玉婉之結婚手續，再前往臺南縣永康市戶政事務所辦理結婚登記，又前往臺南縣政府警察局外事課辦理共犯陳玉婉之外僑居留證及申請居留證延期之事實，惟矢口否認有何行使使公務員登載不實文書情事，於本院審理時辯稱：伊當時經濟狀況良好，因同居女友欲去日本工作而不願結婚，然伊希望結婚生子，遂透過共犯林清水之介紹與安排，共犯林清水先讓伊看過共犯陳玉婉之照片，伊再前往泰國與共犯陳玉婉結婚，伊僅負擔自己的來回機票錢及泰國住宿費用，其他結婚費用均由共犯林清水負擔，伊則贈送伊的一部機車予共犯林清水以為回報，伊並不認識共犯詹巧薇云云\n",
            "2: 迨共犯陳玉婉來臺後，為取得居留身分，被告與共犯陳玉婉於同年6月14日及94年5月5日，均持前開戶籍謄本等資料，先後向臺南縣政府警察局外事課申請核發共犯陳玉婉之外僑居留證及申請居留證延期等情，業據被告供承在卷，並有結婚登記申請書、授權書各1份、結婚登記書、結婚證書各1份（含中文、泰文影本及我國駐泰國臺北經濟文化辦事處認證之資料）、93年6月14日及94年5月5日之外國人居留停留案件聲請表各1份、被告及共犯陳玉婉之入出國日期紀錄各1份、共犯陳玉婉之外僑居留資料查詢1份在卷可按（見警三卷即南市警一刑偵字第0994101517號卷第6至24、33頁）\n",
            "3: 上開事實，首堪認定\n",
            "4: 理由甲、程序方面：一、本件以下所引用具傳聞證據性質之供述證據，因本件被告陳泰龍、檢察官等人於本院準備程序進行時，均未爭執前開陳述之證據能力，且迄至本案言詞辯論終結前亦均未聲明異議，應視為已同意援引作為證據，又本院審酌前開證據作成時之情況及證據取得過程等節，並無非出於任意性、不正取供或其他違法不當情事，且客觀上亦無顯不可信之情況，堪認為適當，是依刑事訴訟法第159條之5規定，均有證據能力\n",
            "5: 二、卷附之被告及陳玉婉入出國日期紀錄各1份等書證，均非屬供述證據，皆無傳聞法則之適用，復均無違反法定程序取得之情形，依刑事訴訟法第158條之4規定之反面解釋，均應有證據能力\n",
            "6: 一、陳泰龍明知其與泰國籍女子陳玉婉（泰國名字為JARUWANWONGPRATOOM，陳玉婉涉嫌本案偽造文書部分，另經臺灣臺南地方法院檢察署檢察官通緝中）間並無結婚之真意，然因詹巧薇、張晉源等人欲找臺灣男子前往泰國與泰國女子辦理假結婚，林清水負責介紹臺灣男子予詹巧薇、張晉源等人以賺取新臺幣（下同）1萬元之仲介費，適陳泰龍依林清水於報紙上刊登之徵人廣告應徵時，由林清水告知泰國女子欲以假結婚之方式申請來臺居留工作，其若擔任假結婚之人頭老公，除不用負擔前往泰國之食宿、機票費用外，尚可獲取5、6萬元之報酬，迨陳泰龍應允同意後，林清水將其轉介紹予詹巧薇、張晉源等人，陳泰龍遂與林清水、詹巧薇、張晉源等人共同基於行使使公務員登載不實公文書之概括犯意聯絡，先由陳泰龍依指示於民國93年4月3日前往泰國，並於同年月7日與陳玉婉在泰國曼谷市法拉坎農區註冊辦事處登記結婚，取得上開註冊辦事處核發之結婚登記書、結婚證書等文件後，陳泰龍即行返臺，並於同年5月19日持經我國駐泰國臺北經濟文化辦事處認證之上開結婚登記書、結婚證書等資料，至臺南縣永康市（改制前稱謂，以下沿用舊制稱謂）戶政事務所填寫結婚登記申請書，申請辦理其與陳玉婉之結婚登記，因此使上開戶政事務所僅有形式審查權之承辦公務員陷於錯誤，於形式上審核後，將陳泰龍與陳玉婉於93年4月7日結婚之不實事項，登載於其職務上所掌屬公文書之戶籍登記資料內，並據以核發戶籍謄本，而足以生損害於戶政機關對於戶政管理及戶籍登記資料維護之正確性\n",
            "7: 經查：(一)被告於93年4月3日前往泰國，並於同年月7日與共犯陳玉婉在泰國曼谷市法拉坎農區註冊辦事處登記結婚，取得上開註冊辦事處核發之結婚登記書、結婚證書等文件後，被告即行返臺，並於同年5月19日持經我國駐泰國臺北經濟文化辦事處認證之上開結婚登記書、結婚證書等資料，至臺南縣永康市戶政事務所填寫結婚登記申請書，申請辦理其與共犯陳玉婉之結婚登記，並取得戶籍謄本\n",
            "8: 迨陳玉婉來臺後，為取得居留身分，再由陳泰龍、陳玉婉承前概括之犯意聯絡，於同年6月14日及94年5月5日，均持前開登載不實之戶籍謄本等資料，先後向臺南縣政府警察局外事課申請核發陳玉婉之外僑居留證及申請居留證延期而連續行使之（業經檢察官當庭補充），經承辦人員實質審查結果，均未發覺陳泰龍與陳玉婉假結婚之實情，而發給陳玉婉居留證或核准延期，各足以生損害於主管機關對外僑居留管理之正確性\n",
            "9:  二、案經臺南市警察局（現改制為臺南市政府警察局，以下沿用舊制稱謂）第一分局報告臺灣臺南地方法院檢察署檢察官偵查起訴\n",
            "10: (二)共犯詹巧薇、張晉源等人當時欲找臺灣人與泰國女子結婚，由共犯林清水於報紙上刊登徵人廣告，若應徵者符合與泰國人結婚之條件，便將應徵者介紹予共犯詹巧薇、張晉源等人，共犯林清水可從中獲取1萬元之仲介費，適被告依前開徵人廣告應徵，共犯林清水衡量其條件後告知其可至泰國結婚，其除不用負擔前往泰國之機票及食宿費用外，尚可獲取5至6萬元之報酬，被告應允同意後，共犯林清水將其介紹予詹巧薇、張晉源等人，被告即依指示前往泰國與為了來臺工作且無結婚真意的共犯陳玉婉辦理結婚事宜等情，業據共犯林清水於警詢時證稱：伊登報徵人到泰國結婚，被告看報紙來的，伊便轉介予共犯詹巧薇，由共犯詹巧薇安排後續到泰國結婚之事宜，被告除不用負擔前往泰國機票、食宿等費用，尚可獲取約5至6萬元酬勞，伊則可自共犯詹巧薇獲取約1萬元之仲介費用；伊只有將被告轉介予共犯詹巧薇，並未參與後續被告前往泰國之證照、機票、食宿等相關事宜；被告係因缺錢，為了賺取擔任人頭配偶的佣金5至6萬，並不是真的要與泰國人結婚，共犯陳玉婉係為了來臺灣工作賺錢，亦不是真的要與臺灣人結婚等語（見警三卷第2至3頁）；並於本院審理時具結證稱：當初共犯詹巧薇、張晉源等人欲找男子前往泰國結婚，伊曾刊登「男、女不限、經驗不拘」等內容之徵人廣告，被告見報應徵時，被告係因缺錢才來找伊，伊衡量被告條件後認為其只能利用結婚賺取報酬，伊才向其表示是要辦結婚，伊告知被告可安排其去泰國結婚，其不用負擔食宿及機票等費用，可實拿5至6萬元的報酬，被告同意後，伊將被告介紹予共犯詹巧薇、張晉源，共犯張晉源給付佣金1萬元予伊；伊與被告談論泰國結婚事宜時，伊與被告均不知被告之結婚對象為何人，伊亦未見過與被告結婚之泰國女子，伊僅介紹被告予共犯詹巧薇、張晉源等人，伊並未參予後續之泰國結婚、辦理結婚登記及居留申請等事情；被告曾給伊一部機車，當時被告表示要去別的地方，機車留在臺南無人使用，伊修理使用一段期間後，因再度壞掉便未再使用等語（見本院卷第68頁背面至71頁）\n",
            "--->\n",
            " 1: 一、陳泰龍明知其與泰國籍女子陳玉婉（泰國名字為JARUWANWONGPRATOOM，陳玉婉涉嫌本案偽造文書部分，另經臺灣臺南地方法院檢察署檢察官通緝中）間並無結婚之真意，然因詹巧薇、張晉源等人欲找臺灣男子前往泰國與泰國女子辦理假結婚，林清水負責介紹臺灣男子予詹巧薇、張晉源等人以賺取新臺幣（下同）1萬元之仲介費，適陳泰龍依林清水於報紙上刊登之徵人廣告應徵時，由林清水告知泰國女子欲以假結婚之方式申請來臺居留工作，其若擔任假結婚之人頭老公，除不用負擔前往泰國之食宿、機票費用外，尚可獲取5、6萬元之報酬，迨陳泰龍應允同意後，林清水將其轉介紹予詹巧薇、張晉源等人，陳泰龍遂與林清水、詹巧薇、張晉源等人共同基於行使使公務員登載不實公文書之概括犯意聯絡，先由陳泰龍依指示於民國93年4月3日前往泰國，並於同年月7日與陳玉婉在泰國曼谷市法拉坎農區註冊辦事處登記結婚，取得上開註冊辦事處核發之結婚登記書、結婚證書等文件後，陳泰龍即行返臺，並於同年5月19日持經我國駐泰國臺北經濟文化辦事處認證之上開結婚登記書、結婚證書等資料，至臺南縣永康市（改制前稱謂，以下沿用舊制稱謂）戶政事務所填寫結婚登記申請書，申請辦理其與陳玉婉之結婚登記，因此使上開戶政事務所僅有形式審查權之承辦公務員陷於錯誤，於形式上審核後，將陳泰龍與陳玉婉於93年4月7日結婚之不實事項，登載於其職務上所掌屬公文書之戶籍登記資料內，並據以核發戶籍謄本，而足以生損害於戶政機關對於戶政管理及戶籍登記資料維護之正確性\n",
            "\n",
            "3: 二、案經臺南市警察局（現改制為臺南市政府警察局，以下沿用舊制稱謂）第一分局報告臺灣臺南地方法院檢察署檢察官偵查起訴\n",
            "\n",
            "4: 理由甲、程序方面：一、本件以下所引用具傳聞證據性質之供述證據，因本件被告陳泰龍、檢察官等人於本院準備程序進行時，均未爭執前開陳述之證據能力，且迄至本案言詞辯論終結前亦均未聲明異議，應視為已同意援引作為證據，又本院審酌前開證據作成時之情況及證據取得過程等節，並無非出於任意性、不正取供或其他違法不當情事，且客觀上亦無顯不可信之情況，堪認為適當，是依刑事訴訟法第159條之5規定，均有證據能力\n",
            "\n",
            "5: 二、卷附之被告及陳玉婉入出國日期紀錄各1份等書證，均非屬供述證據，皆無傳聞法則之適用，復均無違反法定程序取得之情形，依刑事訴訟法第158條之4規定之反面解釋，均應有證據能力\n",
            "=======================================================\n",
            "1: 乙、實體方面：一、訊據被告固坦承於上開時、地，透過共犯林清水之介紹，先至泰國辦理與共犯陳玉婉之結婚手續，再前往臺南縣永康市戶政事務所辦理結婚登記，又前往臺南縣政府警察局外事課辦理共犯陳玉婉之外僑居留證及申請居留證延期之事實，惟矢口否認有何行使使公務員登載不實文書情事，於本院審理時辯稱：伊當時經濟狀況良好，因同居女友欲去日本工作而不願結婚，然伊希望結婚生子，遂透過共犯林清水之介紹與安排，共犯林清水先讓伊看過共犯陳玉婉之照片，伊再前往泰國與共犯陳玉婉結婚，伊僅負擔自己的來回機票錢及泰國住宿費用，其他結婚費用均由共犯林清水負擔，伊則贈送伊的一部機車予共犯林清水以為回報，伊並不認識共犯詹巧薇云云\n",
            "2: 迨共犯陳玉婉來臺後，為取得居留身分，被告與共犯陳玉婉於同年6月14日及94年5月5日，均持前開戶籍謄本等資料，先後向臺南縣政府警察局外事課申請核發共犯陳玉婉之外僑居留證及申請居留證延期等情，業據被告供承在卷，並有結婚登記申請書、授權書各1份、結婚登記書、結婚證書各1份（含中文、泰文影本及我國駐泰國臺北經濟文化辦事處認證之資料）、93年6月14日及94年5月5日之外國人居留停留案件聲請表各1份、被告及共犯陳玉婉之入出國日期紀錄各1份、共犯陳玉婉之外僑居留資料查詢1份在卷可按（見警三卷即南市警一刑偵字第0994101517號卷第6至24、33頁）\n",
            "3: 上開事實，首堪認定\n",
            "4: 理由甲、程序方面：一、本件以下所引用具傳聞證據性質之供述證據，因本件被告陳泰龍、檢察官等人於本院準備程序進行時，均未爭執前開陳述之證據能力，且迄至本案言詞辯論終結前亦均未聲明異議，應視為已同意援引作為證據，又本院審酌前開證據作成時之情況及證據取得過程等節，並無非出於任意性、不正取供或其他違法不當情事，且客觀上亦無顯不可信之情況，堪認為適當，是依刑事訴訟法第159條之5規定，均有證據能力\n",
            "5: 二、卷附之被告及陳玉婉入出國日期紀錄各1份等書證，均非屬供述證據，皆無傳聞法則之適用，復均無違反法定程序取得之情形，依刑事訴訟法第158條之4規定之反面解釋，均應有證據能力\n",
            "6: 一、陳泰龍明知其與泰國籍女子陳玉婉（泰國名字為JARUWANWONGPRATOOM，陳玉婉涉嫌本案偽造文書部分，另經臺灣臺南地方法院檢察署檢察官通緝中）間並無結婚之真意，然因詹巧薇、張晉源等人欲找臺灣男子前往泰國與泰國女子辦理假結婚，林清水負責介紹臺灣男子予詹巧薇、張晉源等人以賺取新臺幣（下同）1萬元之仲介費，適陳泰龍依林清水於報紙上刊登之徵人廣告應徵時，由林清水告知泰國女子欲以假結婚之方式申請來臺居留工作，其若擔任假結婚之人頭老公，除不用負擔前往泰國之食宿、機票費用外，尚可獲取5、6萬元之報酬，迨陳泰龍應允同意後，林清水將其轉介紹予詹巧薇、張晉源等人，陳泰龍遂與林清水、詹巧薇、張晉源等人共同基於行使使公務員登載不實公文書之概括犯意聯絡，先由陳泰龍依指示於民國93年4月3日前往泰國，並於同年月7日與陳玉婉在泰國曼谷市法拉坎農區註冊辦事處登記結婚，取得上開註冊辦事處核發之結婚登記書、結婚證書等文件後，陳泰龍即行返臺，並於同年5月19日持經我國駐泰國臺北經濟文化辦事處認證之上開結婚登記書、結婚證書等資料，至臺南縣永康市（改制前稱謂，以下沿用舊制稱謂）戶政事務所填寫結婚登記申請書，申請辦理其與陳玉婉之結婚登記，因此使上開戶政事務所僅有形式審查權之承辦公務員陷於錯誤，於形式上審核後，將陳泰龍與陳玉婉於93年4月7日結婚之不實事項，登載於其職務上所掌屬公文書之戶籍登記資料內，並據以核發戶籍謄本，而足以生損害於戶政機關對於戶政管理及戶籍登記資料維護之正確性\n",
            "7: 經查：(一)被告於93年4月3日前往泰國，並於同年月7日與共犯陳玉婉在泰國曼谷市法拉坎農區註冊辦事處登記結婚，取得上開註冊辦事處核發之結婚登記書、結婚證書等文件後，被告即行返臺，並於同年5月19日持經我國駐泰國臺北經濟文化辦事處認證之上開結婚登記書、結婚證書等資料，至臺南縣永康市戶政事務所填寫結婚登記申請書，申請辦理其與共犯陳玉婉之結婚登記，並取得戶籍謄本\n",
            "8: 迨陳玉婉來臺後，為取得居留身分，再由陳泰龍、陳玉婉承前概括之犯意聯絡，於同年6月14日及94年5月5日，均持前開登載不實之戶籍謄本等資料，先後向臺南縣政府警察局外事課申請核發陳玉婉之外僑居留證及申請居留證延期而連續行使之（業經檢察官當庭補充），經承辦人員實質審查結果，均未發覺陳泰龍與陳玉婉假結婚之實情，而發給陳玉婉居留證或核准延期，各足以生損害於主管機關對外僑居留管理之正確性\n",
            "9:  二、案經臺南市警察局（現改制為臺南市政府警察局，以下沿用舊制稱謂）第一分局報告臺灣臺南地方法院檢察署檢察官偵查起訴\n",
            "10: (二)共犯詹巧薇、張晉源等人當時欲找臺灣人與泰國女子結婚，由共犯林清水於報紙上刊登徵人廣告，若應徵者符合與泰國人結婚之條件，便將應徵者介紹予共犯詹巧薇、張晉源等人，共犯林清水可從中獲取1萬元之仲介費，適被告依前開徵人廣告應徵，共犯林清水衡量其條件後告知其可至泰國結婚，其除不用負擔前往泰國之機票及食宿費用外，尚可獲取5至6萬元之報酬，被告應允同意後，共犯林清水將其介紹予詹巧薇、張晉源等人，被告即依指示前往泰國與為了來臺工作且無結婚真意的共犯陳玉婉辦理結婚事宜等情，業據共犯林清水於警詢時證稱：伊登報徵人到泰國結婚，被告看報紙來的，伊便轉介予共犯詹巧薇，由共犯詹巧薇安排後續到泰國結婚之事宜，被告除不用負擔前往泰國機票、食宿等費用，尚可獲取約5至6萬元酬勞，伊則可自共犯詹巧薇獲取約1萬元之仲介費用；伊只有將被告轉介予共犯詹巧薇，並未參與後續被告前往泰國之證照、機票、食宿等相關事宜；被告係因缺錢，為了賺取擔任人頭配偶的佣金5至6萬，並不是真的要與泰國人結婚，共犯陳玉婉係為了來臺灣工作賺錢，亦不是真的要與臺灣人結婚等語（見警三卷第2至3頁）；並於本院審理時具結證稱：當初共犯詹巧薇、張晉源等人欲找男子前往泰國結婚，伊曾刊登「男、女不限、經驗不拘」等內容之徵人廣告，被告見報應徵時，被告係因缺錢才來找伊，伊衡量被告條件後認為其只能利用結婚賺取報酬，伊才向其表示是要辦結婚，伊告知被告可安排其去泰國結婚，其不用負擔食宿及機票等費用，可實拿5至6萬元的報酬，被告同意後，伊將被告介紹予共犯詹巧薇、張晉源，共犯張晉源給付佣金1萬元予伊；伊與被告談論泰國結婚事宜時，伊與被告均不知被告之結婚對象為何人，伊亦未見過與被告結婚之泰國女子，伊僅介紹被告予共犯詹巧薇、張晉源等人，伊並未參予後續之泰國結婚、辦理結婚登記及居留申請等事情；被告曾給伊一部機車，當時被告表示要去別的地方，機車留在臺南無人使用，伊修理使用一段期間後，因再度壞掉便未再使用等語（見本院卷第68頁背面至71頁）\n",
            "--->\n",
            " 1: 被告依指示前往泰國與為了來臺工作且無結婚真意的共犯陳玉婉辦理結婚事宜等情，業據共犯林清水於警詢時證稱：伊登報徵人到泰國結婚，被告看報紙來的，伊便轉介予共犯詹巧薇，由共犯詹巧薇安排後續到泰國結婚之事宜，被告除不用負擔前往泰國機票、食宿等費用，尚可獲取約5至6萬元酬勞，伊則可自共犯詹巧薇獲取約1萬元之仲介費用；伊只有將被告轉介予共犯詹巧薇，並未參與後續被告前往泰國之證照、機票、食宿等相關事宜；被告係因缺錢，為了賺取擔任人頭配偶的佣金5至6萬，並不是真的要與泰國人結婚，共犯陳玉婉係為了來臺灣工作賺錢，亦不是真的要與臺灣人結婚等語（見警三卷第2至3頁）；並於本院審理時具結證稱：當初共犯詹巧薇、張晉源等人欲找男子前往泰國結婚，伊曾刊登「男、女不限、經驗不拘」等內容之徵人廣告，被告見報應徵時，被告係因缺錢才來找伊，伊衡量被告條件後認為其只能利用結婚賺取報酬，伊才向其表示是要辦結婚，伊告知被告可安排其去泰國結婚，其不用負擔食宿及機票等費用，可實拿5至6萬元的報酬，被告同意後，伊將被告介紹予共犯詹巧薇、張晉源，共犯張晉源給付佣金1萬元予伊；伊與被告談論泰國結婚事宜時，伊與被告均不知被告之結婚對象為何人，伊亦未見過與被告結婚之泰國女子，伊僅介紹被告予共犯詹巧薇、張晉源等人，伊並未參予後續之泰國結婚、辦理結婚登記及居留申請等事情；被告曾給伊一部機車，當時被告表示要去別的地方，機車留在臺南無人使用，伊修理使用一段期間後，因再度壞掉便未再使用等語（見本院卷第68頁背面至71頁）\n",
            "\n",
            "2: 案經臺南市警察局（現改制為臺南市政府警察局，以下沿用舊制稱謂）第一分局報告臺灣臺南地方法院檢察署檢察官偵查起訴\n",
            "\n",
            "3: 二、案經臺南市警察局（現改制為臺南市政府警察局，以下沿用舊制稱謂）第一分局報告臺灣臺南地方法院檢察署檢察官偵查起訴\n",
            "=======================================================\n"
          ]
        }
      ],
      "source": [
        "print(prompt1)\n",
        "print(\"--->\")\n",
        "print(get_breeze(query+prompt1))\n",
        "print(\"=======================================================\")\n",
        "print(prompt1)\n",
        "print(\"--->\")\n",
        "print(get_breeze(query+prompt2))\n",
        "print(\"=======================================================\")\n",
        "print(prompt1)\n",
        "print(\"--->\")\n",
        "print(get_breeze(query+prompt3))\n",
        "print(\"=======================================================\")"
      ]
    },
    {
      "cell_type": "code",
      "execution_count": null,
      "metadata": {
        "id": "NXGehzk9FDJL"
      },
      "outputs": [],
      "source": [
        "query = \"以下句子都是來自判決書，請從這些句子中挑選最像在描寫犯罪行為的三個句子：\\n\""
      ]
    },
    {
      "cell_type": "code",
      "execution_count": null,
      "metadata": {
        "colab": {
          "base_uri": "https://localhost:8080/"
        },
        "id": "sXvWZJJ4FZVb",
        "outputId": "e7d0241c-7cfa-4099-93d9-b15988d31707"
      },
      "outputs": [
        {
          "name": "stdout",
          "output_type": "stream",
          "text": [
            "1: 乙、實體方面：一、訊據被告固坦承於上開時、地，透過共犯林清水之介紹，先至泰國辦理與共犯陳玉婉之結婚手續，再前往臺南縣永康市戶政事務所辦理結婚登記，又前往臺南縣政府警察局外事課辦理共犯陳玉婉之外僑居留證及申請居留證延期之事實，惟矢口否認有何行使使公務員登載不實文書情事，於本院審理時辯稱：伊當時經濟狀況良好，因同居女友欲去日本工作而不願結婚，然伊希望結婚生子，遂透過共犯林清水之介紹與安排，共犯林清水先讓伊看過共犯陳玉婉之照片，伊再前往泰國與共犯陳玉婉結婚，伊僅負擔自己的來回機票錢及泰國住宿費用，其他結婚費用均由共犯林清水負擔，伊則贈送伊的一部機車予共犯林清水以為回報，伊並不認識共犯詹巧薇云云\n",
            "2: 迨共犯陳玉婉來臺後，為取得居留身分，被告與共犯陳玉婉於同年6月14日及94年5月5日，均持前開戶籍謄本等資料，先後向臺南縣政府警察局外事課申請核發共犯陳玉婉之外僑居留證及申請居留證延期等情，業據被告供承在卷，並有結婚登記申請書、授權書各1份、結婚登記書、結婚證書各1份（含中文、泰文影本及我國駐泰國臺北經濟文化辦事處認證之資料）、93年6月14日及94年5月5日之外國人居留停留案件聲請表各1份、被告及共犯陳玉婉之入出國日期紀錄各1份、共犯陳玉婉之外僑居留資料查詢1份在卷可按（見警三卷即南市警一刑偵字第0994101517號卷第6至24、33頁）\n",
            "3: 上開事實，首堪認定\n",
            "4: 理由甲、程序方面：一、本件以下所引用具傳聞證據性質之供述證據，因本件被告陳泰龍、檢察官等人於本院準備程序進行時，均未爭執前開陳述之證據能力，且迄至本案言詞辯論終結前亦均未聲明異議，應視為已同意援引作為證據，又本院審酌前開證據作成時之情況及證據取得過程等節，並無非出於任意性、不正取供或其他違法不當情事，且客觀上亦無顯不可信之情況，堪認為適當，是依刑事訴訟法第159條之5規定，均有證據能力\n",
            "5: 二、卷附之被告及陳玉婉入出國日期紀錄各1份等書證，均非屬供述證據，皆無傳聞法則之適用，復均無違反法定程序取得之情形，依刑事訴訟法第158條之4規定之反面解釋，均應有證據能力\n",
            "6: 一、陳泰龍明知其與泰國籍女子陳玉婉（泰國名字為JARUWANWONGPRATOOM，陳玉婉涉嫌本案偽造文書部分，另經臺灣臺南地方法院檢察署檢察官通緝中）間並無結婚之真意，然因詹巧薇、張晉源等人欲找臺灣男子前往泰國與泰國女子辦理假結婚，林清水負責介紹臺灣男子予詹巧薇、張晉源等人以賺取新臺幣（下同）1萬元之仲介費，適陳泰龍依林清水於報紙上刊登之徵人廣告應徵時，由林清水告知泰國女子欲以假結婚之方式申請來臺居留工作，其若擔任假結婚之人頭老公，除不用負擔前往泰國之食宿、機票費用外，尚可獲取5、6萬元之報酬，迨陳泰龍應允同意後，林清水將其轉介紹予詹巧薇、張晉源等人，陳泰龍遂與林清水、詹巧薇、張晉源等人共同基於行使使公務員登載不實公文書之概括犯意聯絡，先由陳泰龍依指示於民國93年4月3日前往泰國，並於同年月7日與陳玉婉在泰國曼谷市法拉坎農區註冊辦事處登記結婚，取得上開註冊辦事處核發之結婚登記書、結婚證書等文件後，陳泰龍即行返臺，並於同年5月19日持經我國駐泰國臺北經濟文化辦事處認證之上開結婚登記書、結婚證書等資料，至臺南縣永康市（改制前稱謂，以下沿用舊制稱謂）戶政事務所填寫結婚登記申請書，申請辦理其與陳玉婉之結婚登記，因此使上開戶政事務所僅有形式審查權之承辦公務員陷於錯誤，於形式上審核後，將陳泰龍與陳玉婉於93年4月7日結婚之不實事項，登載於其職務上所掌屬公文書之戶籍登記資料內，並據以核發戶籍謄本，而足以生損害於戶政機關對於戶政管理及戶籍登記資料維護之正確性\n",
            "7: 經查：(一)被告於93年4月3日前往泰國，並於同年月7日與共犯陳玉婉在泰國曼谷市法拉坎農區註冊辦事處登記結婚，取得上開註冊辦事處核發之結婚登記書、結婚證書等文件後，被告即行返臺，並於同年5月19日持經我國駐泰國臺北經濟文化辦事處認證之上開結婚登記書、結婚證書等資料，至臺南縣永康市戶政事務所填寫結婚登記申請書，申請辦理其與共犯陳玉婉之結婚登記，並取得戶籍謄本\n",
            "8: 迨陳玉婉來臺後，為取得居留身分，再由陳泰龍、陳玉婉承前概括之犯意聯絡，於同年6月14日及94年5月5日，均持前開登載不實之戶籍謄本等資料，先後向臺南縣政府警察局外事課申請核發陳玉婉之外僑居留證及申請居留證延期而連續行使之（業經檢察官當庭補充），經承辦人員實質審查結果，均未發覺陳泰龍與陳玉婉假結婚之實情，而發給陳玉婉居留證或核准延期，各足以生損害於主管機關對外僑居留管理之正確性\n",
            "9:  二、案經臺南市警察局（現改制為臺南市政府警察局，以下沿用舊制稱謂）第一分局報告臺灣臺南地方法院檢察署檢察官偵查起訴\n",
            "10: (二)共犯詹巧薇、張晉源等人當時欲找臺灣人與泰國女子結婚，由共犯林清水於報紙上刊登徵人廣告，若應徵者符合與泰國人結婚之條件，便將應徵者介紹予共犯詹巧薇、張晉源等人，共犯林清水可從中獲取1萬元之仲介費，適被告依前開徵人廣告應徵，共犯林清水衡量其條件後告知其可至泰國結婚，其除不用負擔前往泰國之機票及食宿費用外，尚可獲取5至6萬元之報酬，被告應允同意後，共犯林清水將其介紹予詹巧薇、張晉源等人，被告即依指示前往泰國與為了來臺工作且無結婚真意的共犯陳玉婉辦理結婚事宜等情，業據共犯林清水於警詢時證稱：伊登報徵人到泰國結婚，被告看報紙來的，伊便轉介予共犯詹巧薇，由共犯詹巧薇安排後續到泰國結婚之事宜，被告除不用負擔前往泰國機票、食宿等費用，尚可獲取約5至6萬元酬勞，伊則可自共犯詹巧薇獲取約1萬元之仲介費用；伊只有將被告轉介予共犯詹巧薇，並未參與後續被告前往泰國之證照、機票、食宿等相關事宜；被告係因缺錢，為了賺取擔任人頭配偶的佣金5至6萬，並不是真的要與泰國人結婚，共犯陳玉婉係為了來臺灣工作賺錢，亦不是真的要與臺灣人結婚等語（見警三卷第2至3頁）；並於本院審理時具結證稱：當初共犯詹巧薇、張晉源等人欲找男子前往泰國結婚，伊曾刊登「男、女不限、經驗不拘」等內容之徵人廣告，被告見報應徵時，被告係因缺錢才來找伊，伊衡量被告條件後認為其只能利用結婚賺取報酬，伊才向其表示是要辦結婚，伊告知被告可安排其去泰國結婚，其不用負擔食宿及機票等費用，可實拿5至6萬元的報酬，被告同意後，伊將被告介紹予共犯詹巧薇、張晉源，共犯張晉源給付佣金1萬元予伊；伊與被告談論泰國結婚事宜時，伊與被告均不知被告之結婚對象為何人，伊亦未見過與被告結婚之泰國女子，伊僅介紹被告予共犯詹巧薇、張晉源等人，伊並未參予後續之泰國結婚、辦理結婚登記及居留申請等事情；被告曾給伊一部機車，當時被告表示要去別的地方，機車留在臺南無人使用，伊修理使用一段期間後，因再度壞掉便未再使用等語（見本院卷第68頁背面至71頁）\n",
            "--->\n",
            " 1: 乙、實體方面：一、訊據被告固坦承於上開時、地，透過共犯林清水之介紹，先至泰國辦理與共犯陳玉婉之結婚手續，再前往臺南縣永康市戶政事務所辦理結婚登記，又前往臺南縣政府警察局外事課辦理共犯陳玉婉之外僑居留證及申請居留證延期之事實，惟矢口否認有何行使使公務員登載不實文書情事，於本院審理時辯稱：伊當時經濟狀況良好，因同居女友欲去日本工作而不願結婚，然伊希望結婚生子，遂透過共犯林清水之介紹與安排，共犯林清水先讓伊看過共犯陳玉婉之照片，伊再前往泰國與共犯陳玉婉結婚，伊僅負擔自己的來回機票錢及泰國住宿費用，其他結婚費用均由共犯林清水負擔，伊則贈送伊的一部機車予共犯林清水以為回報，伊並不認識共犯詹巧薇云云\n",
            "2: 迨共犯陳玉婉來臺後，為取得居留身分，被告與共犯陳玉婉於同年6月14日及94年5月5日，均持前開戶籍謄本等資料，先後向臺南縣政府警察局外事課申請核發共犯陳玉婉之外僑居留證及申請居留證延期等情，業據被告供承在卷，並有結婚登記申請書、授權書各1份、結婚登記書、結婚證書各1份（含中文、泰文影本及我國駐泰國臺北經濟文化辦事處認證之資料）、93年6月14日及94年5月5日之外國人居留停留案件聲請表各1份、被告及共犯陳玉婉之入出國日期紀錄各1份、共犯陳玉婉之外僑居留資料查詢1份在卷可按（見警三卷即南市警一刑偵字第0994101517號卷第6至24、33頁）\n",
            "\n",
            "這三個句子最像在描寫犯罪行為，因為它們描述了被告和共犯們如何共同策劃和執行假結婚的犯罪計劃，包括前往泰國辦理結婚手續、在臺灣辦理結婚登記和居留證申請等步驟。\n",
            "=======================================================\n",
            "1: 乙、實體方面：一、訊據被告固坦承於上開時、地，透過共犯林清水之介紹，先至泰國辦理與共犯陳玉婉之結婚手續，再前往臺南縣永康市戶政事務所辦理結婚登記，又前往臺南縣政府警察局外事課辦理共犯陳玉婉之外僑居留證及申請居留證延期之事實，惟矢口否認有何行使使公務員登載不實文書情事，於本院審理時辯稱：伊當時經濟狀況良好，因同居女友欲去日本工作而不願結婚，然伊希望結婚生子，遂透過共犯林清水之介紹與安排，共犯林清水先讓伊看過共犯陳玉婉之照片，伊再前往泰國與共犯陳玉婉結婚，伊僅負擔自己的來回機票錢及泰國住宿費用，其他結婚費用均由共犯林清水負擔，伊則贈送伊的一部機車予共犯林清水以為回報，伊並不認識共犯詹巧薇云云\n",
            "2: 迨共犯陳玉婉來臺後，為取得居留身分，被告與共犯陳玉婉於同年6月14日及94年5月5日，均持前開戶籍謄本等資料，先後向臺南縣政府警察局外事課申請核發共犯陳玉婉之外僑居留證及申請居留證延期等情，業據被告供承在卷，並有結婚登記申請書、授權書各1份、結婚登記書、結婚證書各1份（含中文、泰文影本及我國駐泰國臺北經濟文化辦事處認證之資料）、93年6月14日及94年5月5日之外國人居留停留案件聲請表各1份、被告及共犯陳玉婉之入出國日期紀錄各1份、共犯陳玉婉之外僑居留資料查詢1份在卷可按（見警三卷即南市警一刑偵字第0994101517號卷第6至24、33頁）\n",
            "3: 上開事實，首堪認定\n",
            "4: 理由甲、程序方面：一、本件以下所引用具傳聞證據性質之供述證據，因本件被告陳泰龍、檢察官等人於本院準備程序進行時，均未爭執前開陳述之證據能力，且迄至本案言詞辯論終結前亦均未聲明異議，應視為已同意援引作為證據，又本院審酌前開證據作成時之情況及證據取得過程等節，並無非出於任意性、不正取供或其他違法不當情事，且客觀上亦無顯不可信之情況，堪認為適當，是依刑事訴訟法第159條之5規定，均有證據能力\n",
            "5: 二、卷附之被告及陳玉婉入出國日期紀錄各1份等書證，均非屬供述證據，皆無傳聞法則之適用，復均無違反法定程序取得之情形，依刑事訴訟法第158條之4規定之反面解釋，均應有證據能力\n",
            "6: 一、陳泰龍明知其與泰國籍女子陳玉婉（泰國名字為JARUWANWONGPRATOOM，陳玉婉涉嫌本案偽造文書部分，另經臺灣臺南地方法院檢察署檢察官通緝中）間並無結婚之真意，然因詹巧薇、張晉源等人欲找臺灣男子前往泰國與泰國女子辦理假結婚，林清水負責介紹臺灣男子予詹巧薇、張晉源等人以賺取新臺幣（下同）1萬元之仲介費，適陳泰龍依林清水於報紙上刊登之徵人廣告應徵時，由林清水告知泰國女子欲以假結婚之方式申請來臺居留工作，其若擔任假結婚之人頭老公，除不用負擔前往泰國之食宿、機票費用外，尚可獲取5、6萬元之報酬，迨陳泰龍應允同意後，林清水將其轉介紹予詹巧薇、張晉源等人，陳泰龍遂與林清水、詹巧薇、張晉源等人共同基於行使使公務員登載不實公文書之概括犯意聯絡，先由陳泰龍依指示於民國93年4月3日前往泰國，並於同年月7日與陳玉婉在泰國曼谷市法拉坎農區註冊辦事處登記結婚，取得上開註冊辦事處核發之結婚登記書、結婚證書等文件後，陳泰龍即行返臺，並於同年5月19日持經我國駐泰國臺北經濟文化辦事處認證之上開結婚登記書、結婚證書等資料，至臺南縣永康市（改制前稱謂，以下沿用舊制稱謂）戶政事務所填寫結婚登記申請書，申請辦理其與陳玉婉之結婚登記，因此使上開戶政事務所僅有形式審查權之承辦公務員陷於錯誤，於形式上審核後，將陳泰龍與陳玉婉於93年4月7日結婚之不實事項，登載於其職務上所掌屬公文書之戶籍登記資料內，並據以核發戶籍謄本，而足以生損害於戶政機關對於戶政管理及戶籍登記資料維護之正確性\n",
            "7: 經查：(一)被告於93年4月3日前往泰國，並於同年月7日與共犯陳玉婉在泰國曼谷市法拉坎農區註冊辦事處登記結婚，取得上開註冊辦事處核發之結婚登記書、結婚證書等文件後，被告即行返臺，並於同年5月19日持經我國駐泰國臺北經濟文化辦事處認證之上開結婚登記書、結婚證書等資料，至臺南縣永康市戶政事務所填寫結婚登記申請書，申請辦理其與共犯陳玉婉之結婚登記，並取得戶籍謄本\n",
            "8: 迨陳玉婉來臺後，為取得居留身分，再由陳泰龍、陳玉婉承前概括之犯意聯絡，於同年6月14日及94年5月5日，均持前開登載不實之戶籍謄本等資料，先後向臺南縣政府警察局外事課申請核發陳玉婉之外僑居留證及申請居留證延期而連續行使之（業經檢察官當庭補充），經承辦人員實質審查結果，均未發覺陳泰龍與陳玉婉假結婚之實情，而發給陳玉婉居留證或核准延期，各足以生損害於主管機關對外僑居留管理之正確性\n",
            "9:  二、案經臺南市警察局（現改制為臺南市政府警察局，以下沿用舊制稱謂）第一分局報告臺灣臺南地方法院檢察署檢察官偵查起訴\n",
            "10: (二)共犯詹巧薇、張晉源等人當時欲找臺灣人與泰國女子結婚，由共犯林清水於報紙上刊登徵人廣告，若應徵者符合與泰國人結婚之條件，便將應徵者介紹予共犯詹巧薇、張晉源等人，共犯林清水可從中獲取1萬元之仲介費，適被告依前開徵人廣告應徵，共犯林清水衡量其條件後告知其可至泰國結婚，其除不用負擔前往泰國之機票及食宿費用外，尚可獲取5至6萬元之報酬，被告應允同意後，共犯林清水將其介紹予詹巧薇、張晉源等人，被告即依指示前往泰國與為了來臺工作且無結婚真意的共犯陳玉婉辦理結婚事宜等情，業據共犯林清水於警詢時證稱：伊登報徵人到泰國結婚，被告看報紙來的，伊便轉介予共犯詹巧薇，由共犯詹巧薇安排後續到泰國結婚之事宜，被告除不用負擔前往泰國機票、食宿等費用，尚可獲取約5至6萬元酬勞，伊則可自共犯詹巧薇獲取約1萬元之仲介費用；伊只有將被告轉介予共犯詹巧薇，並未參與後續被告前往泰國之證照、機票、食宿等相關事宜；被告係因缺錢，為了賺取擔任人頭配偶的佣金5至6萬，並不是真的要與泰國人結婚，共犯陳玉婉係為了來臺灣工作賺錢，亦不是真的要與臺灣人結婚等語（見警三卷第2至3頁）；並於本院審理時具結證稱：當初共犯詹巧薇、張晉源等人欲找男子前往泰國結婚，伊曾刊登「男、女不限、經驗不拘」等內容之徵人廣告，被告見報應徵時，被告係因缺錢才來找伊，伊衡量被告條件後認為其只能利用結婚賺取報酬，伊才向其表示是要辦結婚，伊告知被告可安排其去泰國結婚，其不用負擔食宿及機票等費用，可實拿5至6萬元的報酬，被告同意後，伊將被告介紹予共犯詹巧薇、張晉源，共犯張晉源給付佣金1萬元予伊；伊與被告談論泰國結婚事宜時，伊與被告均不知被告之結婚對象為何人，伊亦未見過與被告結婚之泰國女子，伊僅介紹被告予共犯詹巧薇、張晉源等人，伊並未參予後續之泰國結婚、辦理結婚登記及居留申請等事情；被告曾給伊一部機車，當時被告表示要去別的地方，機車留在臺南無人使用，伊修理使用一段期間後，因再度壞掉便未再使用等語（見本院卷第68頁背面至71頁）\n",
            "--->\n",
            " 1: 一、陳泰龍明知其與泰國籍女子陳玉婉（泰國名字為JARUWANWONGPRATOOM，陳玉婉涉嫌本案偽造文書部分，另經臺灣臺南地方法院檢察署檢察官通緝中）間並無結婚之真意，然因詹巧薇、張晉源等人欲找臺灣男子前往泰國與泰國女子辦理假結婚，林清水負責介紹臺灣男子予詹巧薇、張晉源等人以賺取新臺幣（下同）1萬元之仲介費，適陳泰龍依林清水於報紙上刊登之徵人廣告應徵時，由林清水告知泰國女子欲以假結婚之方式申請來臺居留工作，其若擔任假結婚之人頭老公，除不用負擔前往泰國之食宿、機票費用外，尚可獲取5、6萬元之報酬，迨陳泰龍應允同意後，林清水將其轉介紹予詹巧薇、張晉源等人，陳泰龍遂與林清水、詹巧薇、張晉源等人共同基於行使使公務員登載不實公文書之概括犯意聯絡，先由陳泰龍依指示於民國93年4月3日前往泰國，並於同年月7日與陳玉婉在泰國曼谷市法拉坎農區註冊辦事處登記結婚，取得上開註冊辦事處核發之結婚登記書、結婚證書等文件後，陳泰龍即行返臺，並於同年5月19日持經我國駐泰國臺北經濟文化辦事處認證之上開結婚登記書、結婚證書等資料，至臺南縣永康市（改制前稱謂，以下沿用舊制稱謂）戶政事務所填寫結婚登記申請書，申請辦理其與陳玉婉之結婚登記，因此使上開戶政事務所僅有形式審查權之承辦公務員陷於錯誤，於形式上審核後，將陳泰龍與陳玉婉於93年4月7日結婚之不實事項，登載於其職務上所掌屬公文書之戶籍登記資料內，並據以核發戶籍謄本，而足以生損害於戶政機關對於戶政管理及戶籍登記資料維護之正確性\n",
            "\n",
            "這個句子描述了陳泰龍、陳玉婉、詹巧薇、張晉源和林清水等人共同參與假結婚以取得居留權的犯罪行為。\n",
            "\n",
            "2: 迨陳玉婉來臺後，為取得居留身分，再由陳泰龍、陳玉婉承前概括之犯意聯絡，於同年6月14日及94年5月5日，均持前開登載不實之戶籍謄本等資料，先後向臺南縣政府警察局外事課申請核發陳玉婉之外僑居留證及申請居留證延期而連續行使之（業經檢察官當庭補充），經承辦人員實質審查結果，均未發覺陳泰龍與陳玉婉假結婚之實情，而發給陳玉婉居留證或核准延期，各足以生損害於主管機關對外僑居留管理之正確性\n",
            "\n",
            "這個句子描述了陳玉婉在取得居留權後，陳泰龍和陳玉婉繼續利用假結婚取得居留證延期的犯罪行為。\n",
            "\n",
            "3: 二、案經臺南市警察局（現改制為臺南市政府警察局，以下沿用舊制稱謂）第一分局報告臺灣臺南地方法院檢察署檢察官偵查起訴\n",
            "\n",
            "這個句子描述了案件是由臺南市警察局第一分局移送至臺灣臺南地方法院檢察署。\n",
            "=======================================================\n",
            "1: 乙、實體方面：一、訊據被告固坦承於上開時、地，透過共犯林清水之介紹，先至泰國辦理與共犯陳玉婉之結婚手續，再前往臺南縣永康市戶政事務所辦理結婚登記，又前往臺南縣政府警察局外事課辦理共犯陳玉婉之外僑居留證及申請居留證延期之事實，惟矢口否認有何行使使公務員登載不實文書情事，於本院審理時辯稱：伊當時經濟狀況良好，因同居女友欲去日本工作而不願結婚，然伊希望結婚生子，遂透過共犯林清水之介紹與安排，共犯林清水先讓伊看過共犯陳玉婉之照片，伊再前往泰國與共犯陳玉婉結婚，伊僅負擔自己的來回機票錢及泰國住宿費用，其他結婚費用均由共犯林清水負擔，伊則贈送伊的一部機車予共犯林清水以為回報，伊並不認識共犯詹巧薇云云\n",
            "2: 迨共犯陳玉婉來臺後，為取得居留身分，被告與共犯陳玉婉於同年6月14日及94年5月5日，均持前開戶籍謄本等資料，先後向臺南縣政府警察局外事課申請核發共犯陳玉婉之外僑居留證及申請居留證延期等情，業據被告供承在卷，並有結婚登記申請書、授權書各1份、結婚登記書、結婚證書各1份（含中文、泰文影本及我國駐泰國臺北經濟文化辦事處認證之資料）、93年6月14日及94年5月5日之外國人居留停留案件聲請表各1份、被告及共犯陳玉婉之入出國日期紀錄各1份、共犯陳玉婉之外僑居留資料查詢1份在卷可按（見警三卷即南市警一刑偵字第0994101517號卷第6至24、33頁）\n",
            "3: 上開事實，首堪認定\n",
            "4: 理由甲、程序方面：一、本件以下所引用具傳聞證據性質之供述證據，因本件被告陳泰龍、檢察官等人於本院準備程序進行時，均未爭執前開陳述之證據能力，且迄至本案言詞辯論終結前亦均未聲明異議，應視為已同意援引作為證據，又本院審酌前開證據作成時之情況及證據取得過程等節，並無非出於任意性、不正取供或其他違法不當情事，且客觀上亦無顯不可信之情況，堪認為適當，是依刑事訴訟法第159條之5規定，均有證據能力\n",
            "5: 二、卷附之被告及陳玉婉入出國日期紀錄各1份等書證，均非屬供述證據，皆無傳聞法則之適用，復均無違反法定程序取得之情形，依刑事訴訟法第158條之4規定之反面解釋，均應有證據能力\n",
            "6: 一、陳泰龍明知其與泰國籍女子陳玉婉（泰國名字為JARUWANWONGPRATOOM，陳玉婉涉嫌本案偽造文書部分，另經臺灣臺南地方法院檢察署檢察官通緝中）間並無結婚之真意，然因詹巧薇、張晉源等人欲找臺灣男子前往泰國與泰國女子辦理假結婚，林清水負責介紹臺灣男子予詹巧薇、張晉源等人以賺取新臺幣（下同）1萬元之仲介費，適陳泰龍依林清水於報紙上刊登之徵人廣告應徵時，由林清水告知泰國女子欲以假結婚之方式申請來臺居留工作，其若擔任假結婚之人頭老公，除不用負擔前往泰國之食宿、機票費用外，尚可獲取5、6萬元之報酬，迨陳泰龍應允同意後，林清水將其轉介紹予詹巧薇、張晉源等人，陳泰龍遂與林清水、詹巧薇、張晉源等人共同基於行使使公務員登載不實公文書之概括犯意聯絡，先由陳泰龍依指示於民國93年4月3日前往泰國，並於同年月7日與陳玉婉在泰國曼谷市法拉坎農區註冊辦事處登記結婚，取得上開註冊辦事處核發之結婚登記書、結婚證書等文件後，陳泰龍即行返臺，並於同年5月19日持經我國駐泰國臺北經濟文化辦事處認證之上開結婚登記書、結婚證書等資料，至臺南縣永康市（改制前稱謂，以下沿用舊制稱謂）戶政事務所填寫結婚登記申請書，申請辦理其與陳玉婉之結婚登記，因此使上開戶政事務所僅有形式審查權之承辦公務員陷於錯誤，於形式上審核後，將陳泰龍與陳玉婉於93年4月7日結婚之不實事項，登載於其職務上所掌屬公文書之戶籍登記資料內，並據以核發戶籍謄本，而足以生損害於戶政機關對於戶政管理及戶籍登記資料維護之正確性\n",
            "7: 經查：(一)被告於93年4月3日前往泰國，並於同年月7日與共犯陳玉婉在泰國曼谷市法拉坎農區註冊辦事處登記結婚，取得上開註冊辦事處核發之結婚登記書、結婚證書等文件後，被告即行返臺，並於同年5月19日持經我國駐泰國臺北經濟文化辦事處認證之上開結婚登記書、結婚證書等資料，至臺南縣永康市戶政事務所填寫結婚登記申請書，申請辦理其與共犯陳玉婉之結婚登記，並取得戶籍謄本\n",
            "8: 迨陳玉婉來臺後，為取得居留身分，再由陳泰龍、陳玉婉承前概括之犯意聯絡，於同年6月14日及94年5月5日，均持前開登載不實之戶籍謄本等資料，先後向臺南縣政府警察局外事課申請核發陳玉婉之外僑居留證及申請居留證延期而連續行使之（業經檢察官當庭補充），經承辦人員實質審查結果，均未發覺陳泰龍與陳玉婉假結婚之實情，而發給陳玉婉居留證或核准延期，各足以生損害於主管機關對外僑居留管理之正確性\n",
            "9:  二、案經臺南市警察局（現改制為臺南市政府警察局，以下沿用舊制稱謂）第一分局報告臺灣臺南地方法院檢察署檢察官偵查起訴\n",
            "10: (二)共犯詹巧薇、張晉源等人當時欲找臺灣人與泰國女子結婚，由共犯林清水於報紙上刊登徵人廣告，若應徵者符合與泰國人結婚之條件，便將應徵者介紹予共犯詹巧薇、張晉源等人，共犯林清水可從中獲取1萬元之仲介費，適被告依前開徵人廣告應徵，共犯林清水衡量其條件後告知其可至泰國結婚，其除不用負擔前往泰國之機票及食宿費用外，尚可獲取5至6萬元之報酬，被告應允同意後，共犯林清水將其介紹予詹巧薇、張晉源等人，被告即依指示前往泰國與為了來臺工作且無結婚真意的共犯陳玉婉辦理結婚事宜等情，業據共犯林清水於警詢時證稱：伊登報徵人到泰國結婚，被告看報紙來的，伊便轉介予共犯詹巧薇，由共犯詹巧薇安排後續到泰國結婚之事宜，被告除不用負擔前往泰國機票、食宿等費用，尚可獲取約5至6萬元酬勞，伊則可自共犯詹巧薇獲取約1萬元之仲介費用；伊只有將被告轉介予共犯詹巧薇，並未參與後續被告前往泰國之證照、機票、食宿等相關事宜；被告係因缺錢，為了賺取擔任人頭配偶的佣金5至6萬，並不是真的要與泰國人結婚，共犯陳玉婉係為了來臺灣工作賺錢，亦不是真的要與臺灣人結婚等語（見警三卷第2至3頁）；並於本院審理時具結證稱：當初共犯詹巧薇、張晉源等人欲找男子前往泰國結婚，伊曾刊登「男、女不限、經驗不拘」等內容之徵人廣告，被告見報應徵時，被告係因缺錢才來找伊，伊衡量被告條件後認為其只能利用結婚賺取報酬，伊才向其表示是要辦結婚，伊告知被告可安排其去泰國結婚，其不用負擔食宿及機票等費用，可實拿5至6萬元的報酬，被告同意後，伊將被告介紹予共犯詹巧薇、張晉源，共犯張晉源給付佣金1萬元予伊；伊與被告談論泰國結婚事宜時，伊與被告均不知被告之結婚對象為何人，伊亦未見過與被告結婚之泰國女子，伊僅介紹被告予共犯詹巧薇、張晉源等人，伊並未參予後續之泰國結婚、辦理結婚登記及居留申請等事情；被告曾給伊一部機車，當時被告表示要去別的地方，機車留在臺南無人使用，伊修理使用一段期間後，因再度壞掉便未再使用等語（見本院卷第68頁背面至71頁）\n",
            "--->\n",
            " 1.被告依前開徵人廣告應徵，共犯林清水衡量其條件後告知其可至泰國結婚，其除不用負擔前往泰國之機票及食宿費用外，尚可獲取5至6萬元之報酬，被告應允同意後，共犯林清水將其介紹予詹巧薇、張晉源等人，被告即依指示前往泰國與為了來臺工作且無結婚真意的共犯陳玉婉辦理結婚事宜等情。\n",
            "2.被告與共犯陳玉婉於同年6月14日及94年5月5日，均持前開戶籍謄本等資料，先後向臺南縣政府警察局外事課申請核發共犯陳玉婉之外僑居留證及申請居留證延期。\n",
            "3.被告與共犯陳玉婉間並無結婚之真意，然因詹巧薇、張晉源等人欲找臺灣男子前往泰國與泰國女子辦理假結婚，林清水負責介紹臺灣男子予詹巧薇、張晉源等人以賺取1萬元之仲介費，適陳泰龍依林清水於報紙上刊登之徵人廣告應徵時，由林清水告知泰國女子欲以假結婚之方式申請來臺居留工作，其若擔任假結婚之人頭老公，除不用負擔前往泰國之食宿、機票費用外，尚可獲取5、6萬元之報酬。\n",
            "=======================================================\n"
          ]
        }
      ],
      "source": [
        "print(prompt1)\n",
        "print(\"--->\")\n",
        "print(get_breeze(query+prompt1))\n",
        "print(\"=======================================================\")\n",
        "print(prompt1)\n",
        "print(\"--->\")\n",
        "print(get_breeze(query+prompt2))\n",
        "print(\"=======================================================\")\n",
        "print(prompt1)\n",
        "print(\"--->\")\n",
        "print(get_breeze(query+prompt3))\n",
        "print(\"=======================================================\")"
      ]
    },
    {
      "cell_type": "code",
      "execution_count": null,
      "metadata": {
        "id": "hlFxDK2xFq1T"
      },
      "outputs": [],
      "source": [
        "query = \"以下句子都是來自判決書，請從這些句子中挑選和描述犯罪行為最相關的三個句子：\\n\""
      ]
    },
    {
      "cell_type": "code",
      "execution_count": null,
      "metadata": {
        "colab": {
          "base_uri": "https://localhost:8080/"
        },
        "id": "4eBCGx-TFuTx",
        "outputId": "abcc4c20-e54a-42e7-dad5-a6586c309625"
      },
      "outputs": [
        {
          "name": "stdout",
          "output_type": "stream",
          "text": [
            "1: 乙、實體方面：一、訊據被告固坦承於上開時、地，透過共犯林清水之介紹，先至泰國辦理與共犯陳玉婉之結婚手續，再前往臺南縣永康市戶政事務所辦理結婚登記，又前往臺南縣政府警察局外事課辦理共犯陳玉婉之外僑居留證及申請居留證延期之事實，惟矢口否認有何行使使公務員登載不實文書情事，於本院審理時辯稱：伊當時經濟狀況良好，因同居女友欲去日本工作而不願結婚，然伊希望結婚生子，遂透過共犯林清水之介紹與安排，共犯林清水先讓伊看過共犯陳玉婉之照片，伊再前往泰國與共犯陳玉婉結婚，伊僅負擔自己的來回機票錢及泰國住宿費用，其他結婚費用均由共犯林清水負擔，伊則贈送伊的一部機車予共犯林清水以為回報，伊並不認識共犯詹巧薇云云\n",
            "2: 迨共犯陳玉婉來臺後，為取得居留身分，被告與共犯陳玉婉於同年6月14日及94年5月5日，均持前開戶籍謄本等資料，先後向臺南縣政府警察局外事課申請核發共犯陳玉婉之外僑居留證及申請居留證延期等情，業據被告供承在卷，並有結婚登記申請書、授權書各1份、結婚登記書、結婚證書各1份（含中文、泰文影本及我國駐泰國臺北經濟文化辦事處認證之資料）、93年6月14日及94年5月5日之外國人居留停留案件聲請表各1份、被告及共犯陳玉婉之入出國日期紀錄各1份、共犯陳玉婉之外僑居留資料查詢1份在卷可按（見警三卷即南市警一刑偵字第0994101517號卷第6至24、33頁）\n",
            "3: 上開事實，首堪認定\n",
            "4: 理由甲、程序方面：一、本件以下所引用具傳聞證據性質之供述證據，因本件被告陳泰龍、檢察官等人於本院準備程序進行時，均未爭執前開陳述之證據能力，且迄至本案言詞辯論終結前亦均未聲明異議，應視為已同意援引作為證據，又本院審酌前開證據作成時之情況及證據取得過程等節，並無非出於任意性、不正取供或其他違法不當情事，且客觀上亦無顯不可信之情況，堪認為適當，是依刑事訴訟法第159條之5規定，均有證據能力\n",
            "5: 二、卷附之被告及陳玉婉入出國日期紀錄各1份等書證，均非屬供述證據，皆無傳聞法則之適用，復均無違反法定程序取得之情形，依刑事訴訟法第158條之4規定之反面解釋，均應有證據能力\n",
            "6: 一、陳泰龍明知其與泰國籍女子陳玉婉（泰國名字為JARUWANWONGPRATOOM，陳玉婉涉嫌本案偽造文書部分，另經臺灣臺南地方法院檢察署檢察官通緝中）間並無結婚之真意，然因詹巧薇、張晉源等人欲找臺灣男子前往泰國與泰國女子辦理假結婚，林清水負責介紹臺灣男子予詹巧薇、張晉源等人以賺取新臺幣（下同）1萬元之仲介費，適陳泰龍依林清水於報紙上刊登之徵人廣告應徵時，由林清水告知泰國女子欲以假結婚之方式申請來臺居留工作，其若擔任假結婚之人頭老公，除不用負擔前往泰國之食宿、機票費用外，尚可獲取5、6萬元之報酬，迨陳泰龍應允同意後，林清水將其轉介紹予詹巧薇、張晉源等人，陳泰龍遂與林清水、詹巧薇、張晉源等人共同基於行使使公務員登載不實公文書之概括犯意聯絡，先由陳泰龍依指示於民國93年4月3日前往泰國，並於同年月7日與陳玉婉在泰國曼谷市法拉坎農區註冊辦事處登記結婚，取得上開註冊辦事處核發之結婚登記書、結婚證書等文件後，陳泰龍即行返臺，並於同年5月19日持經我國駐泰國臺北經濟文化辦事處認證之上開結婚登記書、結婚證書等資料，至臺南縣永康市（改制前稱謂，以下沿用舊制稱謂）戶政事務所填寫結婚登記申請書，申請辦理其與陳玉婉之結婚登記，因此使上開戶政事務所僅有形式審查權之承辦公務員陷於錯誤，於形式上審核後，將陳泰龍與陳玉婉於93年4月7日結婚之不實事項，登載於其職務上所掌屬公文書之戶籍登記資料內，並據以核發戶籍謄本，而足以生損害於戶政機關對於戶政管理及戶籍登記資料維護之正確性\n",
            "7: 經查：(一)被告於93年4月3日前往泰國，並於同年月7日與共犯陳玉婉在泰國曼谷市法拉坎農區註冊辦事處登記結婚，取得上開註冊辦事處核發之結婚登記書、結婚證書等文件後，被告即行返臺，並於同年5月19日持經我國駐泰國臺北經濟文化辦事處認證之上開結婚登記書、結婚證書等資料，至臺南縣永康市戶政事務所填寫結婚登記申請書，申請辦理其與共犯陳玉婉之結婚登記，並取得戶籍謄本\n",
            "8: 迨陳玉婉來臺後，為取得居留身分，再由陳泰龍、陳玉婉承前概括之犯意聯絡，於同年6月14日及94年5月5日，均持前開登載不實之戶籍謄本等資料，先後向臺南縣政府警察局外事課申請核發陳玉婉之外僑居留證及申請居留證延期而連續行使之（業經檢察官當庭補充），經承辦人員實質審查結果，均未發覺陳泰龍與陳玉婉假結婚之實情，而發給陳玉婉居留證或核准延期，各足以生損害於主管機關對外僑居留管理之正確性\n",
            "9:  二、案經臺南市警察局（現改制為臺南市政府警察局，以下沿用舊制稱謂）第一分局報告臺灣臺南地方法院檢察署檢察官偵查起訴\n",
            "10: (二)共犯詹巧薇、張晉源等人當時欲找臺灣人與泰國女子結婚，由共犯林清水於報紙上刊登徵人廣告，若應徵者符合與泰國人結婚之條件，便將應徵者介紹予共犯詹巧薇、張晉源等人，共犯林清水可從中獲取1萬元之仲介費，適被告依前開徵人廣告應徵，共犯林清水衡量其條件後告知其可至泰國結婚，其除不用負擔前往泰國之機票及食宿費用外，尚可獲取5至6萬元之報酬，被告應允同意後，共犯林清水將其介紹予詹巧薇、張晉源等人，被告即依指示前往泰國與為了來臺工作且無結婚真意的共犯陳玉婉辦理結婚事宜等情，業據共犯林清水於警詢時證稱：伊登報徵人到泰國結婚，被告看報紙來的，伊便轉介予共犯詹巧薇，由共犯詹巧薇安排後續到泰國結婚之事宜，被告除不用負擔前往泰國機票、食宿等費用，尚可獲取約5至6萬元酬勞，伊則可自共犯詹巧薇獲取約1萬元之仲介費用；伊只有將被告轉介予共犯詹巧薇，並未參與後續被告前往泰國之證照、機票、食宿等相關事宜；被告係因缺錢，為了賺取擔任人頭配偶的佣金5至6萬，並不是真的要與泰國人結婚，共犯陳玉婉係為了來臺灣工作賺錢，亦不是真的要與臺灣人結婚等語（見警三卷第2至3頁）；並於本院審理時具結證稱：當初共犯詹巧薇、張晉源等人欲找男子前往泰國結婚，伊曾刊登「男、女不限、經驗不拘」等內容之徵人廣告，被告見報應徵時，被告係因缺錢才來找伊，伊衡量被告條件後認為其只能利用結婚賺取報酬，伊才向其表示是要辦結婚，伊告知被告可安排其去泰國結婚，其不用負擔食宿及機票等費用，可實拿5至6萬元的報酬，被告同意後，伊將被告介紹予共犯詹巧薇、張晉源，共犯張晉源給付佣金1萬元予伊；伊與被告談論泰國結婚事宜時，伊與被告均不知被告之結婚對象為何人，伊亦未見過與被告結婚之泰國女子，伊僅介紹被告予共犯詹巧薇、張晉源等人，伊並未參予後續之泰國結婚、辦理結婚登記及居留申請等事情；被告曾給伊一部機車，當時被告表示要去別的地方，機車留在臺南無人使用，伊修理使用一段期間後，因再度壞掉便未再使用等語（見本院卷第68頁背面至71頁）\n",
            "--->\n",
            " 1: 乙、實體方面：一、訊據被告固坦承於上開時、地，透過共犯林清水之介紹，先至泰國辦理與共犯陳玉婉之結婚手續，再前往臺南縣永康市戶政事務所辦理結婚登記，又前往臺南縣政府警察局外事課辦理共犯陳玉婉之外僑居留證及申請居留證延期之事實，惟矢口否認有何行使使公務員登載不實文書情事，於本院審理時辯稱：伊當時經濟狀況良好，因同居女友欲去日本工作而不願結婚，然伊希望結婚生子，遂透過共犯林清水之介紹與安排，共犯林清水先讓伊看過共犯陳玉婉之照片，伊再前往泰國與共犯陳玉婉結婚，伊僅負擔自己的來回機票錢及泰國住宿費用，其他結婚費用均由共犯林清水負擔，伊則贈送伊的一部機車予共犯林清水以為回報，伊並不認識共犯詹巧薇云云\n",
            "2: 迨共犯陳玉婉來臺後，為取得居留身分，被告與共犯陳玉婉於同年6月14日及94年5月5日，均持前開戶籍謄本等資料，先後向臺南縣政府警察局外事課申請核發共犯陳玉婉之外僑居留證及申請居留證延期等情，業據被告供承在卷，並有結婚登記申請書、授權書各1份、結婚登記書、結婚證書各1份（含中文、泰文影本及我國駐泰國臺北經濟文化辦事處認證之資料）、93年6月14日及94年5月5日之外國人居留停留案件聲請表各1份、被告及共犯陳玉婉之入出國日期紀錄各1份、共犯陳玉婉之外僑居留資料查詢1份在卷可按（見警三卷即南市警一刑偵字第0994101517號卷第6至24、33頁）\n",
            "\n",
            "這三個句子中最有關於犯罪行為的句子是：\n",
            "\n",
            "1: 乙、實體方面：一、訊據被告固坦承於上開時、地，透過共犯林清水之介紹，先至泰國辦理與共犯陳玉婉之結婚手續，再前往臺南縣永康市戶政事務所辦理結婚登記，又前往臺南縣政府警察局外事課辦理共犯陳玉婉之外僑居留證及申請居留證延期之事實，惟矢口否認有何行使使公務員登載不實文書情事，於本院審理時辯稱：伊當時經濟狀況良好，因同居女友欲去日本工作而不願結婚，然伊希望結婚生子，遂透過共犯林清水之介紹與安排，共犯林清水先讓伊看過共犯陳玉婉之照片，伊再前往泰國與共犯陳玉婉結婚，伊僅負擔自己的來回機票錢及泰國住宿費用，其他結婚費用均由共犯林清水負擔，伊則贈送伊的一部機車予共犯林清水以為回報，伊並不認識共犯詹巧薇云云\n",
            "2: 迨共犯陳玉婉來臺後，為取得居留身分，被告與共犯陳玉婉於同年6月14日及94年5月5日，均持前開戶籍謄本等資料，先後向臺南縣政府警察局外事課申請核發共犯陳玉婉之外僑居留證及申請居留證延期等情，業據被告供承在卷，並有結婚登記申請書、授權書各1份、結婚登記書、結婚證書各1份（含中文、泰文影本及我國駐泰國臺北經濟文化辦事處認證之資料）、93年6月14日及94年5月5日之外國人居留停留案件聲請表各1份、被告及共犯陳玉婉之入出國日期紀錄各1份、共犯陳玉婉之外僑居留資料查詢1份在卷可按（見警三卷即南市警一刑偵字第0994101517號卷第6至24、33頁）\n",
            "\n",
            "這些句子描述被告承認在泰國辦理與共犯陳玉婉的結婚手續，再前往戶政事務所和警察局辦理結婚登記和居留證事宜。然而，被告否認了行使使公務員登載不實文書的犯罪行為。\n",
            "=======================================================\n",
            "1: 乙、實體方面：一、訊據被告固坦承於上開時、地，透過共犯林清水之介紹，先至泰國辦理與共犯陳玉婉之結婚手續，再前往臺南縣永康市戶政事務所辦理結婚登記，又前往臺南縣政府警察局外事課辦理共犯陳玉婉之外僑居留證及申請居留證延期之事實，惟矢口否認有何行使使公務員登載不實文書情事，於本院審理時辯稱：伊當時經濟狀況良好，因同居女友欲去日本工作而不願結婚，然伊希望結婚生子，遂透過共犯林清水之介紹與安排，共犯林清水先讓伊看過共犯陳玉婉之照片，伊再前往泰國與共犯陳玉婉結婚，伊僅負擔自己的來回機票錢及泰國住宿費用，其他結婚費用均由共犯林清水負擔，伊則贈送伊的一部機車予共犯林清水以為回報，伊並不認識共犯詹巧薇云云\n",
            "2: 迨共犯陳玉婉來臺後，為取得居留身分，被告與共犯陳玉婉於同年6月14日及94年5月5日，均持前開戶籍謄本等資料，先後向臺南縣政府警察局外事課申請核發共犯陳玉婉之外僑居留證及申請居留證延期等情，業據被告供承在卷，並有結婚登記申請書、授權書各1份、結婚登記書、結婚證書各1份（含中文、泰文影本及我國駐泰國臺北經濟文化辦事處認證之資料）、93年6月14日及94年5月5日之外國人居留停留案件聲請表各1份、被告及共犯陳玉婉之入出國日期紀錄各1份、共犯陳玉婉之外僑居留資料查詢1份在卷可按（見警三卷即南市警一刑偵字第0994101517號卷第6至24、33頁）\n",
            "3: 上開事實，首堪認定\n",
            "4: 理由甲、程序方面：一、本件以下所引用具傳聞證據性質之供述證據，因本件被告陳泰龍、檢察官等人於本院準備程序進行時，均未爭執前開陳述之證據能力，且迄至本案言詞辯論終結前亦均未聲明異議，應視為已同意援引作為證據，又本院審酌前開證據作成時之情況及證據取得過程等節，並無非出於任意性、不正取供或其他違法不當情事，且客觀上亦無顯不可信之情況，堪認為適當，是依刑事訴訟法第159條之5規定，均有證據能力\n",
            "5: 二、卷附之被告及陳玉婉入出國日期紀錄各1份等書證，均非屬供述證據，皆無傳聞法則之適用，復均無違反法定程序取得之情形，依刑事訴訟法第158條之4規定之反面解釋，均應有證據能力\n",
            "6: 一、陳泰龍明知其與泰國籍女子陳玉婉（泰國名字為JARUWANWONGPRATOOM，陳玉婉涉嫌本案偽造文書部分，另經臺灣臺南地方法院檢察署檢察官通緝中）間並無結婚之真意，然因詹巧薇、張晉源等人欲找臺灣男子前往泰國與泰國女子辦理假結婚，林清水負責介紹臺灣男子予詹巧薇、張晉源等人以賺取新臺幣（下同）1萬元之仲介費，適陳泰龍依林清水於報紙上刊登之徵人廣告應徵時，由林清水告知泰國女子欲以假結婚之方式申請來臺居留工作，其若擔任假結婚之人頭老公，除不用負擔前往泰國之食宿、機票費用外，尚可獲取5、6萬元之報酬，迨陳泰龍應允同意後，林清水將其轉介紹予詹巧薇、張晉源等人，陳泰龍遂與林清水、詹巧薇、張晉源等人共同基於行使使公務員登載不實公文書之概括犯意聯絡，先由陳泰龍依指示於民國93年4月3日前往泰國，並於同年月7日與陳玉婉在泰國曼谷市法拉坎農區註冊辦事處登記結婚，取得上開註冊辦事處核發之結婚登記書、結婚證書等文件後，陳泰龍即行返臺，並於同年5月19日持經我國駐泰國臺北經濟文化辦事處認證之上開結婚登記書、結婚證書等資料，至臺南縣永康市（改制前稱謂，以下沿用舊制稱謂）戶政事務所填寫結婚登記申請書，申請辦理其與陳玉婉之結婚登記，因此使上開戶政事務所僅有形式審查權之承辦公務員陷於錯誤，於形式上審核後，將陳泰龍與陳玉婉於93年4月7日結婚之不實事項，登載於其職務上所掌屬公文書之戶籍登記資料內，並據以核發戶籍謄本，而足以生損害於戶政機關對於戶政管理及戶籍登記資料維護之正確性\n",
            "7: 經查：(一)被告於93年4月3日前往泰國，並於同年月7日與共犯陳玉婉在泰國曼谷市法拉坎農區註冊辦事處登記結婚，取得上開註冊辦事處核發之結婚登記書、結婚證書等文件後，被告即行返臺，並於同年5月19日持經我國駐泰國臺北經濟文化辦事處認證之上開結婚登記書、結婚證書等資料，至臺南縣永康市戶政事務所填寫結婚登記申請書，申請辦理其與共犯陳玉婉之結婚登記，並取得戶籍謄本\n",
            "8: 迨陳玉婉來臺後，為取得居留身分，再由陳泰龍、陳玉婉承前概括之犯意聯絡，於同年6月14日及94年5月5日，均持前開登載不實之戶籍謄本等資料，先後向臺南縣政府警察局外事課申請核發陳玉婉之外僑居留證及申請居留證延期而連續行使之（業經檢察官當庭補充），經承辦人員實質審查結果，均未發覺陳泰龍與陳玉婉假結婚之實情，而發給陳玉婉居留證或核准延期，各足以生損害於主管機關對外僑居留管理之正確性\n",
            "9:  二、案經臺南市警察局（現改制為臺南市政府警察局，以下沿用舊制稱謂）第一分局報告臺灣臺南地方法院檢察署檢察官偵查起訴\n",
            "10: (二)共犯詹巧薇、張晉源等人當時欲找臺灣人與泰國女子結婚，由共犯林清水於報紙上刊登徵人廣告，若應徵者符合與泰國人結婚之條件，便將應徵者介紹予共犯詹巧薇、張晉源等人，共犯林清水可從中獲取1萬元之仲介費，適被告依前開徵人廣告應徵，共犯林清水衡量其條件後告知其可至泰國結婚，其除不用負擔前往泰國之機票及食宿費用外，尚可獲取5至6萬元之報酬，被告應允同意後，共犯林清水將其介紹予詹巧薇、張晉源等人，被告即依指示前往泰國與為了來臺工作且無結婚真意的共犯陳玉婉辦理結婚事宜等情，業據共犯林清水於警詢時證稱：伊登報徵人到泰國結婚，被告看報紙來的，伊便轉介予共犯詹巧薇，由共犯詹巧薇安排後續到泰國結婚之事宜，被告除不用負擔前往泰國機票、食宿等費用，尚可獲取約5至6萬元酬勞，伊則可自共犯詹巧薇獲取約1萬元之仲介費用；伊只有將被告轉介予共犯詹巧薇，並未參與後續被告前往泰國之證照、機票、食宿等相關事宜；被告係因缺錢，為了賺取擔任人頭配偶的佣金5至6萬，並不是真的要與泰國人結婚，共犯陳玉婉係為了來臺灣工作賺錢，亦不是真的要與臺灣人結婚等語（見警三卷第2至3頁）；並於本院審理時具結證稱：當初共犯詹巧薇、張晉源等人欲找男子前往泰國結婚，伊曾刊登「男、女不限、經驗不拘」等內容之徵人廣告，被告見報應徵時，被告係因缺錢才來找伊，伊衡量被告條件後認為其只能利用結婚賺取報酬，伊才向其表示是要辦結婚，伊告知被告可安排其去泰國結婚，其不用負擔食宿及機票等費用，可實拿5至6萬元的報酬，被告同意後，伊將被告介紹予共犯詹巧薇、張晉源，共犯張晉源給付佣金1萬元予伊；伊與被告談論泰國結婚事宜時，伊與被告均不知被告之結婚對象為何人，伊亦未見過與被告結婚之泰國女子，伊僅介紹被告予共犯詹巧薇、張晉源等人，伊並未參予後續之泰國結婚、辦理結婚登記及居留申請等事情；被告曾給伊一部機車，當時被告表示要去別的地方，機車留在臺南無人使用，伊修理使用一段期間後，因再度壞掉便未再使用等語（見本院卷第68頁背面至71頁）\n",
            "--->\n",
            " 1: 一、陳泰龍明知其與泰國籍女子陳玉婉（泰國名字為JARUWANWONGPRATOOM，陳玉婉涉嫌本案偽造文書部分，另經臺灣臺南地方法院檢察署檢察官通緝中）間並無結婚之真意，然因詹巧薇、張晉源等人欲找臺灣男子前往泰國與泰國女子辦理假結婚，林清水負責介紹臺灣男子予詹巧薇、張晉源等人以賺取新臺幣（下同）1萬元之仲介費，適陳泰龍依林清水於報紙上刊登之徵人廣告應徵時，由林清水告知泰國女子欲以假結婚之方式申請來臺居留工作，其若擔任假結婚之人頭老公，除不用負擔前往泰國之食宿、機票費用外，尚可獲取5、6萬元之報酬，迨陳泰龍應允同意後，林清水將其轉介紹予詹巧薇、張晉源等人，陳泰龍遂與林清水、詹巧薇、張晉源等人共同基於行使使公務員登載不實公文書之概括犯意聯絡，先由陳泰龍依指示於民國93年4月3日前往泰國，並於同年月7日與陳玉婉在泰國曼谷市法拉坎農區註冊辦事處登記結婚，取得上開註冊辦事處核發之結婚登記書、結婚證書等文件後，陳泰龍即行返臺，並於同年5月19日持經我國駐泰國臺北經濟文化辦事處認證之上開結婚登記書、結婚證書等資料，至臺南縣永康市（改制前稱謂，以下沿用舊制稱謂）戶政事務所填寫結婚登記申請書，申請辦理其與陳玉婉之結婚登記，因此使上開戶政事務所僅有形式審查權之承辦公務員陷於錯誤，於形式上審核後，將陳泰龍與陳玉婉於93年4月7日結婚之不實事項，登載於其職務上所掌屬公文書之戶籍登記資料內，並據以核發戶籍謄本，而足以生損害於戶政機關對於戶政管理及戶籍登記資料維護之正確性\n",
            "\n",
            "3: 二、案經臺南市警察局（現改制為臺南市政府警察局，以下沿用舊制稱謂）第一分局報告臺灣臺南地方法院檢察署檢察官偵查起訴\n",
            "\n",
            "4: 理由甲、程序方面：一、本件以下所引用具傳聞證據性質之供述證據，因本件被告陳泰龍、檢察官等人於本院準備程序進行時，均未爭執前開陳述之證據能力，且迄至本案言詞辯論終結前亦均未聲明異議，應視為已同意援引作為證據，又本院審酌前開證據作成時之情況及證據取得過程等節，並無非出於任意性、不正取供或其他違法不當情事，且客觀上亦無顯不可信之情況，堪認為適當，是依刑事訴訟法第159條之5規定，均有證據能力\n",
            "\n",
            "5: 二、卷附之被告及陳玉婉入出國日期紀錄各1份等書證，均非屬供述證據，皆無傳聞法則之適用，復均無違反法定程序取得之情形，依刑事訴訟法第158條之4規定之反面解釋，均應有證據能力\n",
            "=======================================================\n",
            "1: 乙、實體方面：一、訊據被告固坦承於上開時、地，透過共犯林清水之介紹，先至泰國辦理與共犯陳玉婉之結婚手續，再前往臺南縣永康市戶政事務所辦理結婚登記，又前往臺南縣政府警察局外事課辦理共犯陳玉婉之外僑居留證及申請居留證延期之事實，惟矢口否認有何行使使公務員登載不實文書情事，於本院審理時辯稱：伊當時經濟狀況良好，因同居女友欲去日本工作而不願結婚，然伊希望結婚生子，遂透過共犯林清水之介紹與安排，共犯林清水先讓伊看過共犯陳玉婉之照片，伊再前往泰國與共犯陳玉婉結婚，伊僅負擔自己的來回機票錢及泰國住宿費用，其他結婚費用均由共犯林清水負擔，伊則贈送伊的一部機車予共犯林清水以為回報，伊並不認識共犯詹巧薇云云\n",
            "2: 迨共犯陳玉婉來臺後，為取得居留身分，被告與共犯陳玉婉於同年6月14日及94年5月5日，均持前開戶籍謄本等資料，先後向臺南縣政府警察局外事課申請核發共犯陳玉婉之外僑居留證及申請居留證延期等情，業據被告供承在卷，並有結婚登記申請書、授權書各1份、結婚登記書、結婚證書各1份（含中文、泰文影本及我國駐泰國臺北經濟文化辦事處認證之資料）、93年6月14日及94年5月5日之外國人居留停留案件聲請表各1份、被告及共犯陳玉婉之入出國日期紀錄各1份、共犯陳玉婉之外僑居留資料查詢1份在卷可按（見警三卷即南市警一刑偵字第0994101517號卷第6至24、33頁）\n",
            "3: 上開事實，首堪認定\n",
            "4: 理由甲、程序方面：一、本件以下所引用具傳聞證據性質之供述證據，因本件被告陳泰龍、檢察官等人於本院準備程序進行時，均未爭執前開陳述之證據能力，且迄至本案言詞辯論終結前亦均未聲明異議，應視為已同意援引作為證據，又本院審酌前開證據作成時之情況及證據取得過程等節，並無非出於任意性、不正取供或其他違法不當情事，且客觀上亦無顯不可信之情況，堪認為適當，是依刑事訴訟法第159條之5規定，均有證據能力\n",
            "5: 二、卷附之被告及陳玉婉入出國日期紀錄各1份等書證，均非屬供述證據，皆無傳聞法則之適用，復均無違反法定程序取得之情形，依刑事訴訟法第158條之4規定之反面解釋，均應有證據能力\n",
            "6: 一、陳泰龍明知其與泰國籍女子陳玉婉（泰國名字為JARUWANWONGPRATOOM，陳玉婉涉嫌本案偽造文書部分，另經臺灣臺南地方法院檢察署檢察官通緝中）間並無結婚之真意，然因詹巧薇、張晉源等人欲找臺灣男子前往泰國與泰國女子辦理假結婚，林清水負責介紹臺灣男子予詹巧薇、張晉源等人以賺取新臺幣（下同）1萬元之仲介費，適陳泰龍依林清水於報紙上刊登之徵人廣告應徵時，由林清水告知泰國女子欲以假結婚之方式申請來臺居留工作，其若擔任假結婚之人頭老公，除不用負擔前往泰國之食宿、機票費用外，尚可獲取5、6萬元之報酬，迨陳泰龍應允同意後，林清水將其轉介紹予詹巧薇、張晉源等人，陳泰龍遂與林清水、詹巧薇、張晉源等人共同基於行使使公務員登載不實公文書之概括犯意聯絡，先由陳泰龍依指示於民國93年4月3日前往泰國，並於同年月7日與陳玉婉在泰國曼谷市法拉坎農區註冊辦事處登記結婚，取得上開註冊辦事處核發之結婚登記書、結婚證書等文件後，陳泰龍即行返臺，並於同年5月19日持經我國駐泰國臺北經濟文化辦事處認證之上開結婚登記書、結婚證書等資料，至臺南縣永康市（改制前稱謂，以下沿用舊制稱謂）戶政事務所填寫結婚登記申請書，申請辦理其與陳玉婉之結婚登記，因此使上開戶政事務所僅有形式審查權之承辦公務員陷於錯誤，於形式上審核後，將陳泰龍與陳玉婉於93年4月7日結婚之不實事項，登載於其職務上所掌屬公文書之戶籍登記資料內，並據以核發戶籍謄本，而足以生損害於戶政機關對於戶政管理及戶籍登記資料維護之正確性\n",
            "7: 經查：(一)被告於93年4月3日前往泰國，並於同年月7日與共犯陳玉婉在泰國曼谷市法拉坎農區註冊辦事處登記結婚，取得上開註冊辦事處核發之結婚登記書、結婚證書等文件後，被告即行返臺，並於同年5月19日持經我國駐泰國臺北經濟文化辦事處認證之上開結婚登記書、結婚證書等資料，至臺南縣永康市戶政事務所填寫結婚登記申請書，申請辦理其與共犯陳玉婉之結婚登記，並取得戶籍謄本\n",
            "8: 迨陳玉婉來臺後，為取得居留身分，再由陳泰龍、陳玉婉承前概括之犯意聯絡，於同年6月14日及94年5月5日，均持前開登載不實之戶籍謄本等資料，先後向臺南縣政府警察局外事課申請核發陳玉婉之外僑居留證及申請居留證延期而連續行使之（業經檢察官當庭補充），經承辦人員實質審查結果，均未發覺陳泰龍與陳玉婉假結婚之實情，而發給陳玉婉居留證或核准延期，各足以生損害於主管機關對外僑居留管理之正確性\n",
            "9:  二、案經臺南市警察局（現改制為臺南市政府警察局，以下沿用舊制稱謂）第一分局報告臺灣臺南地方法院檢察署檢察官偵查起訴\n",
            "10: (二)共犯詹巧薇、張晉源等人當時欲找臺灣人與泰國女子結婚，由共犯林清水於報紙上刊登徵人廣告，若應徵者符合與泰國人結婚之條件，便將應徵者介紹予共犯詹巧薇、張晉源等人，共犯林清水可從中獲取1萬元之仲介費，適被告依前開徵人廣告應徵，共犯林清水衡量其條件後告知其可至泰國結婚，其除不用負擔前往泰國之機票及食宿費用外，尚可獲取5至6萬元之報酬，被告應允同意後，共犯林清水將其介紹予詹巧薇、張晉源等人，被告即依指示前往泰國與為了來臺工作且無結婚真意的共犯陳玉婉辦理結婚事宜等情，業據共犯林清水於警詢時證稱：伊登報徵人到泰國結婚，被告看報紙來的，伊便轉介予共犯詹巧薇，由共犯詹巧薇安排後續到泰國結婚之事宜，被告除不用負擔前往泰國機票、食宿等費用，尚可獲取約5至6萬元酬勞，伊則可自共犯詹巧薇獲取約1萬元之仲介費用；伊只有將被告轉介予共犯詹巧薇，並未參與後續被告前往泰國之證照、機票、食宿等相關事宜；被告係因缺錢，為了賺取擔任人頭配偶的佣金5至6萬，並不是真的要與泰國人結婚，共犯陳玉婉係為了來臺灣工作賺錢，亦不是真的要與臺灣人結婚等語（見警三卷第2至3頁）；並於本院審理時具結證稱：當初共犯詹巧薇、張晉源等人欲找男子前往泰國結婚，伊曾刊登「男、女不限、經驗不拘」等內容之徵人廣告，被告見報應徵時，被告係因缺錢才來找伊，伊衡量被告條件後認為其只能利用結婚賺取報酬，伊才向其表示是要辦結婚，伊告知被告可安排其去泰國結婚，其不用負擔食宿及機票等費用，可實拿5至6萬元的報酬，被告同意後，伊將被告介紹予共犯詹巧薇、張晉源，共犯張晉源給付佣金1萬元予伊；伊與被告談論泰國結婚事宜時，伊與被告均不知被告之結婚對象為何人，伊亦未見過與被告結婚之泰國女子，伊僅介紹被告予共犯詹巧薇、張晉源等人，伊並未參予後續之泰國結婚、辦理結婚登記及居留申請等事情；被告曾給伊一部機車，當時被告表示要去別的地方，機車留在臺南無人使用，伊修理使用一段期間後，因再度壞掉便未再使用等語（見本院卷第68頁背面至71頁）\n",
            "--->\n",
            " 1: (二)共犯詹巧薇、張晉源等人當時欲找臺灣人與泰國女子結婚，由共犯林清水於報紙上刊登徵人廣告，若應徵者符合與泰國人結婚之條件，便將應徵者介紹予共犯詹巧薇、張晉源等人，共犯林清水可從中獲取1萬元之仲介費，適被告依前開徵人廣告應徵，共犯林清水衡量其條件後告知其可至泰國結婚，其除不用負擔前往泰國之機票及食宿費用外，尚可獲取5至6萬元之報酬，被告應允同意後，共犯林清水將其介紹予詹巧薇、張晉源等人，被告即依指示前往泰國與為了來臺工作且無結婚真意的共犯陳玉婉辦理結婚事宜等情，業據共犯林清水於警詢時證稱：伊登報徵人到泰國結婚，被告看報紙來的，伊便轉介予共犯詹巧薇，由共犯詹巧薇安排後續到泰國結婚之事宜，被告除不用負擔前往泰國機票、食宿等費用，尚可獲取約5至6萬元酬勞，伊則可自共犯詹巧薇獲取約1萬元之仲介費用；伊只有將被告轉介予共犯詹巧薇，並未參與後續被告前往泰國之證照、機票、食宿等相關事宜；被告係因缺錢，為了賺取擔任人頭配偶的佣金5至6萬，並不是真的要與泰國人結婚，共犯陳玉婉係為了來臺灣工作賺錢，亦不是真的要與臺灣人結婚等語（見警三卷第2至3頁）；並於本院審理時具結證稱：當初共犯詹巧薇、張晉源等人欲找男子前往泰國結婚，伊曾刊登「男、女不限、經驗不拘」等內容之徵人廣告，被告見報應徵時，被告係因缺錢才來找伊，伊衡量被告條件後認為其只能利用結婚賺取報酬，伊才向其表示是要辦結婚，伊告知被告可安排其去泰國結婚，其不用負擔食宿及機票等費用，可實拿5至6萬元的報酬，被告同意後，伊將被告介紹予共犯詹巧薇、張晉源，共犯張晉源給付佣金1萬元予伊；伊與被告談論泰國結婚事宜時，伊與被告均不知被告之結婚對象為何人，伊亦未見過與被告結婚之泰國女子，伊僅介紹被告予共犯詹巧薇、張晉源等人，伊並未參予後續之泰國結婚、辦理結婚登記及居留申請等事情；被告曾給伊一部機車，當時被告表示要去別的地方，機車留在臺南無人使用，伊修理使用一段期間後，因再度壞掉便未再使用等語（見本院卷第68頁背面至71頁）\n",
            "\n",
            "3: 二、案經臺南市警察局（現改制為臺南市政府警察局，以下沿用舊制稱謂）第一分局報告臺灣臺南地方法院檢察署檢察官偵查起訴\n",
            "\n",
            "4: 理由甲、程序方面：一、本件以下所引用具傳聞證據性質之供述證據，因本件被告陳泰龍、檢察官等人於本院準備程序進行時，均未爭執前開陳述之證據能力，且迄至本案言詞辯論終結前亦均未聲明異議，應視為已同意援引作為證據，又本院審酌前開證據作成時之情況及證據取得過程等節，並無非出於任意性、不正取供或其他違法不當情事，且客觀上亦無顯不可信之情況，堪認為適當，是依刑事訴訟法第159條之5規定，均有證據能力\n",
            "\n",
            "5: 二、卷附之被告及陳玉婉入出國日期紀錄各1份等書證，均非屬供述證據，皆無傳聞法則之適用，復均無違反法定程序取得之情形，依刑事訴訟法第158條之4規定之反面解釋，均應有證據能力\n",
            "\n",
            "6: 乙、實體方面：一、訊據被告固坦承於上開時、地，透過共犯林清水之介紹，先至泰國辦理與共犯陳玉婉之結婚手續，再前往臺南縣永康市戶政事務所辦理結婚登記，又前往臺南縣政府警察局外事課辦理共犯陳玉婉之外僑居留證及申請居留證延期之事實，惟矢口否認有何行使使公務員登載不實文書情事，於本院審理時辯稱：伊當時經濟狀況良好，因同居女友欲去日本工作而不願結婚，然伊希望結婚生子，遂透過共犯林清水之介紹與安排，共犯林清水先讓伊看過共犯陳\n",
            "=======================================================\n"
          ]
        }
      ],
      "source": [
        "print(prompt1)\n",
        "print(\"--->\")\n",
        "print(get_breeze(query+prompt1))\n",
        "print(\"=======================================================\")\n",
        "print(prompt1)\n",
        "print(\"--->\")\n",
        "print(get_breeze(query+prompt2))\n",
        "print(\"=======================================================\")\n",
        "print(prompt1)\n",
        "print(\"--->\")\n",
        "print(get_breeze(query+prompt3))\n",
        "print(\"=======================================================\")"
      ]
    },
    {
      "cell_type": "code",
      "execution_count": null,
      "metadata": {
        "id": "HSe9hscvF2JO"
      },
      "outputs": [],
      "source": [
        "query = \"以下句子都是來自判決書，請從這些句子中挑選和\\\"描述犯罪行為\\\"最相關的三個句子：\\n\""
      ]
    },
    {
      "cell_type": "code",
      "execution_count": null,
      "metadata": {
        "colab": {
          "base_uri": "https://localhost:8080/"
        },
        "id": "1jPLmNnnF3Bz",
        "outputId": "1fbf6b84-c3a6-4022-bbb3-0379a0742e38"
      },
      "outputs": [
        {
          "name": "stdout",
          "output_type": "stream",
          "text": [
            "1: 乙、實體方面：一、訊據被告固坦承於上開時、地，透過共犯林清水之介紹，先至泰國辦理與共犯陳玉婉之結婚手續，再前往臺南縣永康市戶政事務所辦理結婚登記，又前往臺南縣政府警察局外事課辦理共犯陳玉婉之外僑居留證及申請居留證延期之事實，惟矢口否認有何行使使公務員登載不實文書情事，於本院審理時辯稱：伊當時經濟狀況良好，因同居女友欲去日本工作而不願結婚，然伊希望結婚生子，遂透過共犯林清水之介紹與安排，共犯林清水先讓伊看過共犯陳玉婉之照片，伊再前往泰國與共犯陳玉婉結婚，伊僅負擔自己的來回機票錢及泰國住宿費用，其他結婚費用均由共犯林清水負擔，伊則贈送伊的一部機車予共犯林清水以為回報，伊並不認識共犯詹巧薇云云\n",
            "2: 迨共犯陳玉婉來臺後，為取得居留身分，被告與共犯陳玉婉於同年6月14日及94年5月5日，均持前開戶籍謄本等資料，先後向臺南縣政府警察局外事課申請核發共犯陳玉婉之外僑居留證及申請居留證延期等情，業據被告供承在卷，並有結婚登記申請書、授權書各1份、結婚登記書、結婚證書各1份（含中文、泰文影本及我國駐泰國臺北經濟文化辦事處認證之資料）、93年6月14日及94年5月5日之外國人居留停留案件聲請表各1份、被告及共犯陳玉婉之入出國日期紀錄各1份、共犯陳玉婉之外僑居留資料查詢1份在卷可按（見警三卷即南市警一刑偵字第0994101517號卷第6至24、33頁）\n",
            "3: 上開事實，首堪認定\n",
            "4: 理由甲、程序方面：一、本件以下所引用具傳聞證據性質之供述證據，因本件被告陳泰龍、檢察官等人於本院準備程序進行時，均未爭執前開陳述之證據能力，且迄至本案言詞辯論終結前亦均未聲明異議，應視為已同意援引作為證據，又本院審酌前開證據作成時之情況及證據取得過程等節，並無非出於任意性、不正取供或其他違法不當情事，且客觀上亦無顯不可信之情況，堪認為適當，是依刑事訴訟法第159條之5規定，均有證據能力\n",
            "5: 二、卷附之被告及陳玉婉入出國日期紀錄各1份等書證，均非屬供述證據，皆無傳聞法則之適用，復均無違反法定程序取得之情形，依刑事訴訟法第158條之4規定之反面解釋，均應有證據能力\n",
            "6: 一、陳泰龍明知其與泰國籍女子陳玉婉（泰國名字為JARUWANWONGPRATOOM，陳玉婉涉嫌本案偽造文書部分，另經臺灣臺南地方法院檢察署檢察官通緝中）間並無結婚之真意，然因詹巧薇、張晉源等人欲找臺灣男子前往泰國與泰國女子辦理假結婚，林清水負責介紹臺灣男子予詹巧薇、張晉源等人以賺取新臺幣（下同）1萬元之仲介費，適陳泰龍依林清水於報紙上刊登之徵人廣告應徵時，由林清水告知泰國女子欲以假結婚之方式申請來臺居留工作，其若擔任假結婚之人頭老公，除不用負擔前往泰國之食宿、機票費用外，尚可獲取5、6萬元之報酬，迨陳泰龍應允同意後，林清水將其轉介紹予詹巧薇、張晉源等人，陳泰龍遂與林清水、詹巧薇、張晉源等人共同基於行使使公務員登載不實公文書之概括犯意聯絡，先由陳泰龍依指示於民國93年4月3日前往泰國，並於同年月7日與陳玉婉在泰國曼谷市法拉坎農區註冊辦事處登記結婚，取得上開註冊辦事處核發之結婚登記書、結婚證書等文件後，陳泰龍即行返臺，並於同年5月19日持經我國駐泰國臺北經濟文化辦事處認證之上開結婚登記書、結婚證書等資料，至臺南縣永康市（改制前稱謂，以下沿用舊制稱謂）戶政事務所填寫結婚登記申請書，申請辦理其與陳玉婉之結婚登記，因此使上開戶政事務所僅有形式審查權之承辦公務員陷於錯誤，於形式上審核後，將陳泰龍與陳玉婉於93年4月7日結婚之不實事項，登載於其職務上所掌屬公文書之戶籍登記資料內，並據以核發戶籍謄本，而足以生損害於戶政機關對於戶政管理及戶籍登記資料維護之正確性\n",
            "7: 經查：(一)被告於93年4月3日前往泰國，並於同年月7日與共犯陳玉婉在泰國曼谷市法拉坎農區註冊辦事處登記結婚，取得上開註冊辦事處核發之結婚登記書、結婚證書等文件後，被告即行返臺，並於同年5月19日持經我國駐泰國臺北經濟文化辦事處認證之上開結婚登記書、結婚證書等資料，至臺南縣永康市戶政事務所填寫結婚登記申請書，申請辦理其與共犯陳玉婉之結婚登記，並取得戶籍謄本\n",
            "8: 迨陳玉婉來臺後，為取得居留身分，再由陳泰龍、陳玉婉承前概括之犯意聯絡，於同年6月14日及94年5月5日，均持前開登載不實之戶籍謄本等資料，先後向臺南縣政府警察局外事課申請核發陳玉婉之外僑居留證及申請居留證延期而連續行使之（業經檢察官當庭補充），經承辦人員實質審查結果，均未發覺陳泰龍與陳玉婉假結婚之實情，而發給陳玉婉居留證或核准延期，各足以生損害於主管機關對外僑居留管理之正確性\n",
            "9:  二、案經臺南市警察局（現改制為臺南市政府警察局，以下沿用舊制稱謂）第一分局報告臺灣臺南地方法院檢察署檢察官偵查起訴\n",
            "10: (二)共犯詹巧薇、張晉源等人當時欲找臺灣人與泰國女子結婚，由共犯林清水於報紙上刊登徵人廣告，若應徵者符合與泰國人結婚之條件，便將應徵者介紹予共犯詹巧薇、張晉源等人，共犯林清水可從中獲取1萬元之仲介費，適被告依前開徵人廣告應徵，共犯林清水衡量其條件後告知其可至泰國結婚，其除不用負擔前往泰國之機票及食宿費用外，尚可獲取5至6萬元之報酬，被告應允同意後，共犯林清水將其介紹予詹巧薇、張晉源等人，被告即依指示前往泰國與為了來臺工作且無結婚真意的共犯陳玉婉辦理結婚事宜等情，業據共犯林清水於警詢時證稱：伊登報徵人到泰國結婚，被告看報紙來的，伊便轉介予共犯詹巧薇，由共犯詹巧薇安排後續到泰國結婚之事宜，被告除不用負擔前往泰國機票、食宿等費用，尚可獲取約5至6萬元酬勞，伊則可自共犯詹巧薇獲取約1萬元之仲介費用；伊只有將被告轉介予共犯詹巧薇，並未參與後續被告前往泰國之證照、機票、食宿等相關事宜；被告係因缺錢，為了賺取擔任人頭配偶的佣金5至6萬，並不是真的要與泰國人結婚，共犯陳玉婉係為了來臺灣工作賺錢，亦不是真的要與臺灣人結婚等語（見警三卷第2至3頁）；並於本院審理時具結證稱：當初共犯詹巧薇、張晉源等人欲找男子前往泰國結婚，伊曾刊登「男、女不限、經驗不拘」等內容之徵人廣告，被告見報應徵時，被告係因缺錢才來找伊，伊衡量被告條件後認為其只能利用結婚賺取報酬，伊才向其表示是要辦結婚，伊告知被告可安排其去泰國結婚，其不用負擔食宿及機票等費用，可實拿5至6萬元的報酬，被告同意後，伊將被告介紹予共犯詹巧薇、張晉源，共犯張晉源給付佣金1萬元予伊；伊與被告談論泰國結婚事宜時，伊與被告均不知被告之結婚對象為何人，伊亦未見過與被告結婚之泰國女子，伊僅介紹被告予共犯詹巧薇、張晉源等人，伊並未參予後續之泰國結婚、辦理結婚登記及居留申請等事情；被告曾給伊一部機車，當時被告表示要去別的地方，機車留在臺南無人使用，伊修理使用一段期間後，因再度壞掉便未再使用等語（見本院卷第68頁背面至71頁）\n",
            "--->\n",
            " 3: 上開事實，首堪認定\n",
            "4: 理由甲、程序方面：一、本件以下所引用具傳聞證據性質之供述證據，因本件被告陳泰龍、檢察官等人於本院準備程序進行時，均未爭執前開陳述之證據能力，且迄至本案言詞辯論終結前亦均未聲明異議，應視為已同意援引作為證據，又本院審酌前開證據作成時之情況及證據取得過程等節，並無非出於任意性、不正取供或其他違法不當情事，且客觀上亦無顯不可信之情況，堪認為適當，是依刑事訴訟法第159條之5規定，均有證據能力\n",
            "5: 二、卷附之被告及陳玉婉入出國日期紀錄各1份等書證，均非屬供述證據，皆無傳聞法則之適用，復均無違反法定程序取得之情形，依刑事訴訟法第158條之4規定之反面解釋，均應有證據能力\n",
            "=======================================================\n",
            "1: 乙、實體方面：一、訊據被告固坦承於上開時、地，透過共犯林清水之介紹，先至泰國辦理與共犯陳玉婉之結婚手續，再前往臺南縣永康市戶政事務所辦理結婚登記，又前往臺南縣政府警察局外事課辦理共犯陳玉婉之外僑居留證及申請居留證延期之事實，惟矢口否認有何行使使公務員登載不實文書情事，於本院審理時辯稱：伊當時經濟狀況良好，因同居女友欲去日本工作而不願結婚，然伊希望結婚生子，遂透過共犯林清水之介紹與安排，共犯林清水先讓伊看過共犯陳玉婉之照片，伊再前往泰國與共犯陳玉婉結婚，伊僅負擔自己的來回機票錢及泰國住宿費用，其他結婚費用均由共犯林清水負擔，伊則贈送伊的一部機車予共犯林清水以為回報，伊並不認識共犯詹巧薇云云\n",
            "2: 迨共犯陳玉婉來臺後，為取得居留身分，被告與共犯陳玉婉於同年6月14日及94年5月5日，均持前開戶籍謄本等資料，先後向臺南縣政府警察局外事課申請核發共犯陳玉婉之外僑居留證及申請居留證延期等情，業據被告供承在卷，並有結婚登記申請書、授權書各1份、結婚登記書、結婚證書各1份（含中文、泰文影本及我國駐泰國臺北經濟文化辦事處認證之資料）、93年6月14日及94年5月5日之外國人居留停留案件聲請表各1份、被告及共犯陳玉婉之入出國日期紀錄各1份、共犯陳玉婉之外僑居留資料查詢1份在卷可按（見警三卷即南市警一刑偵字第0994101517號卷第6至24、33頁）\n",
            "3: 上開事實，首堪認定\n",
            "4: 理由甲、程序方面：一、本件以下所引用具傳聞證據性質之供述證據，因本件被告陳泰龍、檢察官等人於本院準備程序進行時，均未爭執前開陳述之證據能力，且迄至本案言詞辯論終結前亦均未聲明異議，應視為已同意援引作為證據，又本院審酌前開證據作成時之情況及證據取得過程等節，並無非出於任意性、不正取供或其他違法不當情事，且客觀上亦無顯不可信之情況，堪認為適當，是依刑事訴訟法第159條之5規定，均有證據能力\n",
            "5: 二、卷附之被告及陳玉婉入出國日期紀錄各1份等書證，均非屬供述證據，皆無傳聞法則之適用，復均無違反法定程序取得之情形，依刑事訴訟法第158條之4規定之反面解釋，均應有證據能力\n",
            "6: 一、陳泰龍明知其與泰國籍女子陳玉婉（泰國名字為JARUWANWONGPRATOOM，陳玉婉涉嫌本案偽造文書部分，另經臺灣臺南地方法院檢察署檢察官通緝中）間並無結婚之真意，然因詹巧薇、張晉源等人欲找臺灣男子前往泰國與泰國女子辦理假結婚，林清水負責介紹臺灣男子予詹巧薇、張晉源等人以賺取新臺幣（下同）1萬元之仲介費，適陳泰龍依林清水於報紙上刊登之徵人廣告應徵時，由林清水告知泰國女子欲以假結婚之方式申請來臺居留工作，其若擔任假結婚之人頭老公，除不用負擔前往泰國之食宿、機票費用外，尚可獲取5、6萬元之報酬，迨陳泰龍應允同意後，林清水將其轉介紹予詹巧薇、張晉源等人，陳泰龍遂與林清水、詹巧薇、張晉源等人共同基於行使使公務員登載不實公文書之概括犯意聯絡，先由陳泰龍依指示於民國93年4月3日前往泰國，並於同年月7日與陳玉婉在泰國曼谷市法拉坎農區註冊辦事處登記結婚，取得上開註冊辦事處核發之結婚登記書、結婚證書等文件後，陳泰龍即行返臺，並於同年5月19日持經我國駐泰國臺北經濟文化辦事處認證之上開結婚登記書、結婚證書等資料，至臺南縣永康市（改制前稱謂，以下沿用舊制稱謂）戶政事務所填寫結婚登記申請書，申請辦理其與陳玉婉之結婚登記，因此使上開戶政事務所僅有形式審查權之承辦公務員陷於錯誤，於形式上審核後，將陳泰龍與陳玉婉於93年4月7日結婚之不實事項，登載於其職務上所掌屬公文書之戶籍登記資料內，並據以核發戶籍謄本，而足以生損害於戶政機關對於戶政管理及戶籍登記資料維護之正確性\n",
            "7: 經查：(一)被告於93年4月3日前往泰國，並於同年月7日與共犯陳玉婉在泰國曼谷市法拉坎農區註冊辦事處登記結婚，取得上開註冊辦事處核發之結婚登記書、結婚證書等文件後，被告即行返臺，並於同年5月19日持經我國駐泰國臺北經濟文化辦事處認證之上開結婚登記書、結婚證書等資料，至臺南縣永康市戶政事務所填寫結婚登記申請書，申請辦理其與共犯陳玉婉之結婚登記，並取得戶籍謄本\n",
            "8: 迨陳玉婉來臺後，為取得居留身分，再由陳泰龍、陳玉婉承前概括之犯意聯絡，於同年6月14日及94年5月5日，均持前開登載不實之戶籍謄本等資料，先後向臺南縣政府警察局外事課申請核發陳玉婉之外僑居留證及申請居留證延期而連續行使之（業經檢察官當庭補充），經承辦人員實質審查結果，均未發覺陳泰龍與陳玉婉假結婚之實情，而發給陳玉婉居留證或核准延期，各足以生損害於主管機關對外僑居留管理之正確性\n",
            "9:  二、案經臺南市警察局（現改制為臺南市政府警察局，以下沿用舊制稱謂）第一分局報告臺灣臺南地方法院檢察署檢察官偵查起訴\n",
            "10: (二)共犯詹巧薇、張晉源等人當時欲找臺灣人與泰國女子結婚，由共犯林清水於報紙上刊登徵人廣告，若應徵者符合與泰國人結婚之條件，便將應徵者介紹予共犯詹巧薇、張晉源等人，共犯林清水可從中獲取1萬元之仲介費，適被告依前開徵人廣告應徵，共犯林清水衡量其條件後告知其可至泰國結婚，其除不用負擔前往泰國之機票及食宿費用外，尚可獲取5至6萬元之報酬，被告應允同意後，共犯林清水將其介紹予詹巧薇、張晉源等人，被告即依指示前往泰國與為了來臺工作且無結婚真意的共犯陳玉婉辦理結婚事宜等情，業據共犯林清水於警詢時證稱：伊登報徵人到泰國結婚，被告看報紙來的，伊便轉介予共犯詹巧薇，由共犯詹巧薇安排後續到泰國結婚之事宜，被告除不用負擔前往泰國機票、食宿等費用，尚可獲取約5至6萬元酬勞，伊則可自共犯詹巧薇獲取約1萬元之仲介費用；伊只有將被告轉介予共犯詹巧薇，並未參與後續被告前往泰國之證照、機票、食宿等相關事宜；被告係因缺錢，為了賺取擔任人頭配偶的佣金5至6萬，並不是真的要與泰國人結婚，共犯陳玉婉係為了來臺灣工作賺錢，亦不是真的要與臺灣人結婚等語（見警三卷第2至3頁）；並於本院審理時具結證稱：當初共犯詹巧薇、張晉源等人欲找男子前往泰國結婚，伊曾刊登「男、女不限、經驗不拘」等內容之徵人廣告，被告見報應徵時，被告係因缺錢才來找伊，伊衡量被告條件後認為其只能利用結婚賺取報酬，伊才向其表示是要辦結婚，伊告知被告可安排其去泰國結婚，其不用負擔食宿及機票等費用，可實拿5至6萬元的報酬，被告同意後，伊將被告介紹予共犯詹巧薇、張晉源，共犯張晉源給付佣金1萬元予伊；伊與被告談論泰國結婚事宜時，伊與被告均不知被告之結婚對象為何人，伊亦未見過與被告結婚之泰國女子，伊僅介紹被告予共犯詹巧薇、張晉源等人，伊並未參予後續之泰國結婚、辦理結婚登記及居留申請等事情；被告曾給伊一部機車，當時被告表示要去別的地方，機車留在臺南無人使用，伊修理使用一段期間後，因再度壞掉便未再使用等語（見本院卷第68頁背面至71頁）\n",
            "--->\n",
            " 1: 一、陳泰龍明知其與泰國籍女子陳玉婉（泰國名字為JARUWANWONGPRATOOM，陳玉婉涉嫌本案偽造文書部分，另經臺灣臺南地方法院檢察署檢察官通緝中）間並無結婚之真意，然因詹巧薇、張晉源等人欲找臺灣男子前往泰國與泰國女子辦理假結婚，林清水負責介紹臺灣男子予詹巧薇、張晉源等人以賺取新臺幣（下同）1萬元之仲介費，適陳泰龍依林清水於報紙上刊登之徵人廣告應徵時，由林清水告知泰國女子欲以假結婚之方式申請來臺居留工作，其若擔任假結婚之人頭老公，除不用負擔前往泰國之食宿、機票費用外，尚可獲取5、6萬元之報酬，迨陳泰龍應允同意後，林清水將其轉介紹予詹巧薇、張晉源等人，陳泰龍遂與林清水、詹巧薇、張晉源等人共同基於行使使公務員登載不實公文書之概括犯意聯絡，先由陳泰龍依指示於民國93年4月3日前往泰國，並於同年月7日與陳玉婉在泰國曼谷市法拉坎農區註冊辦事處登記結婚，取得上開註冊辦事處核發之結婚登記書、結婚證書等文件後，陳泰龍即行返臺，並於同年5月19日持經我國駐泰國臺北經濟文化辦事處認證之上開結婚登記書、結婚證書等資料，至臺南縣永康市（改制前稱謂，以下沿用舊制稱謂）戶政事務所填寫結婚登記申請書，申請辦理其與陳玉婉之結婚登記，因此使上開戶政事務所僅有形式審查權之承辦公務員陷於錯誤，於形式上審核後，將陳泰龍與陳玉婉於93年4月7日結婚之不實事項，登載於其職務上所掌屬公文書之戶籍登記資料內，並據以核發戶籍謄本，而足以生損害於戶政機關對於戶政管理及戶籍登記資料維護之正確性\n",
            "\n",
            "2: 迨陳玉婉來臺後，為取得居留身分，再由陳泰龍、陳玉婉承前概括之犯意聯絡，於同年6月14日及94年5月5日，均持前開登載不實之戶籍謄本等資料，先後向臺南縣政府警察局外事課申請核發陳玉婉之外僑居留證及申請居留證延期而連續行使之（業經檢察官當庭補充），經承辦人員實質審查結果，均未發覺陳泰龍與陳玉婉假結婚之實情，而發給陳玉婉居留證或核准延期，各足以生損害於主管機關對外僑居留管理之正確性\n",
            "=======================================================\n",
            "1: 乙、實體方面：一、訊據被告固坦承於上開時、地，透過共犯林清水之介紹，先至泰國辦理與共犯陳玉婉之結婚手續，再前往臺南縣永康市戶政事務所辦理結婚登記，又前往臺南縣政府警察局外事課辦理共犯陳玉婉之外僑居留證及申請居留證延期之事實，惟矢口否認有何行使使公務員登載不實文書情事，於本院審理時辯稱：伊當時經濟狀況良好，因同居女友欲去日本工作而不願結婚，然伊希望結婚生子，遂透過共犯林清水之介紹與安排，共犯林清水先讓伊看過共犯陳玉婉之照片，伊再前往泰國與共犯陳玉婉結婚，伊僅負擔自己的來回機票錢及泰國住宿費用，其他結婚費用均由共犯林清水負擔，伊則贈送伊的一部機車予共犯林清水以為回報，伊並不認識共犯詹巧薇云云\n",
            "2: 迨共犯陳玉婉來臺後，為取得居留身分，被告與共犯陳玉婉於同年6月14日及94年5月5日，均持前開戶籍謄本等資料，先後向臺南縣政府警察局外事課申請核發共犯陳玉婉之外僑居留證及申請居留證延期等情，業據被告供承在卷，並有結婚登記申請書、授權書各1份、結婚登記書、結婚證書各1份（含中文、泰文影本及我國駐泰國臺北經濟文化辦事處認證之資料）、93年6月14日及94年5月5日之外國人居留停留案件聲請表各1份、被告及共犯陳玉婉之入出國日期紀錄各1份、共犯陳玉婉之外僑居留資料查詢1份在卷可按（見警三卷即南市警一刑偵字第0994101517號卷第6至24、33頁）\n",
            "3: 上開事實，首堪認定\n",
            "4: 理由甲、程序方面：一、本件以下所引用具傳聞證據性質之供述證據，因本件被告陳泰龍、檢察官等人於本院準備程序進行時，均未爭執前開陳述之證據能力，且迄至本案言詞辯論終結前亦均未聲明異議，應視為已同意援引作為證據，又本院審酌前開證據作成時之情況及證據取得過程等節，並無非出於任意性、不正取供或其他違法不當情事，且客觀上亦無顯不可信之情況，堪認為適當，是依刑事訴訟法第159條之5規定，均有證據能力\n",
            "5: 二、卷附之被告及陳玉婉入出國日期紀錄各1份等書證，均非屬供述證據，皆無傳聞法則之適用，復均無違反法定程序取得之情形，依刑事訴訟法第158條之4規定之反面解釋，均應有證據能力\n",
            "6: 一、陳泰龍明知其與泰國籍女子陳玉婉（泰國名字為JARUWANWONGPRATOOM，陳玉婉涉嫌本案偽造文書部分，另經臺灣臺南地方法院檢察署檢察官通緝中）間並無結婚之真意，然因詹巧薇、張晉源等人欲找臺灣男子前往泰國與泰國女子辦理假結婚，林清水負責介紹臺灣男子予詹巧薇、張晉源等人以賺取新臺幣（下同）1萬元之仲介費，適陳泰龍依林清水於報紙上刊登之徵人廣告應徵時，由林清水告知泰國女子欲以假結婚之方式申請來臺居留工作，其若擔任假結婚之人頭老公，除不用負擔前往泰國之食宿、機票費用外，尚可獲取5、6萬元之報酬，迨陳泰龍應允同意後，林清水將其轉介紹予詹巧薇、張晉源等人，陳泰龍遂與林清水、詹巧薇、張晉源等人共同基於行使使公務員登載不實公文書之概括犯意聯絡，先由陳泰龍依指示於民國93年4月3日前往泰國，並於同年月7日與陳玉婉在泰國曼谷市法拉坎農區註冊辦事處登記結婚，取得上開註冊辦事處核發之結婚登記書、結婚證書等文件後，陳泰龍即行返臺，並於同年5月19日持經我國駐泰國臺北經濟文化辦事處認證之上開結婚登記書、結婚證書等資料，至臺南縣永康市（改制前稱謂，以下沿用舊制稱謂）戶政事務所填寫結婚登記申請書，申請辦理其與陳玉婉之結婚登記，因此使上開戶政事務所僅有形式審查權之承辦公務員陷於錯誤，於形式上審核後，將陳泰龍與陳玉婉於93年4月7日結婚之不實事項，登載於其職務上所掌屬公文書之戶籍登記資料內，並據以核發戶籍謄本，而足以生損害於戶政機關對於戶政管理及戶籍登記資料維護之正確性\n",
            "7: 經查：(一)被告於93年4月3日前往泰國，並於同年月7日與共犯陳玉婉在泰國曼谷市法拉坎農區註冊辦事處登記結婚，取得上開註冊辦事處核發之結婚登記書、結婚證書等文件後，被告即行返臺，並於同年5月19日持經我國駐泰國臺北經濟文化辦事處認證之上開結婚登記書、結婚證書等資料，至臺南縣永康市戶政事務所填寫結婚登記申請書，申請辦理其與共犯陳玉婉之結婚登記，並取得戶籍謄本\n",
            "8: 迨陳玉婉來臺後，為取得居留身分，再由陳泰龍、陳玉婉承前概括之犯意聯絡，於同年6月14日及94年5月5日，均持前開登載不實之戶籍謄本等資料，先後向臺南縣政府警察局外事課申請核發陳玉婉之外僑居留證及申請居留證延期而連續行使之（業經檢察官當庭補充），經承辦人員實質審查結果，均未發覺陳泰龍與陳玉婉假結婚之實情，而發給陳玉婉居留證或核准延期，各足以生損害於主管機關對外僑居留管理之正確性\n",
            "9:  二、案經臺南市警察局（現改制為臺南市政府警察局，以下沿用舊制稱謂）第一分局報告臺灣臺南地方法院檢察署檢察官偵查起訴\n",
            "10: (二)共犯詹巧薇、張晉源等人當時欲找臺灣人與泰國女子結婚，由共犯林清水於報紙上刊登徵人廣告，若應徵者符合與泰國人結婚之條件，便將應徵者介紹予共犯詹巧薇、張晉源等人，共犯林清水可從中獲取1萬元之仲介費，適被告依前開徵人廣告應徵，共犯林清水衡量其條件後告知其可至泰國結婚，其除不用負擔前往泰國之機票及食宿費用外，尚可獲取5至6萬元之報酬，被告應允同意後，共犯林清水將其介紹予詹巧薇、張晉源等人，被告即依指示前往泰國與為了來臺工作且無結婚真意的共犯陳玉婉辦理結婚事宜等情，業據共犯林清水於警詢時證稱：伊登報徵人到泰國結婚，被告看報紙來的，伊便轉介予共犯詹巧薇，由共犯詹巧薇安排後續到泰國結婚之事宜，被告除不用負擔前往泰國機票、食宿等費用，尚可獲取約5至6萬元酬勞，伊則可自共犯詹巧薇獲取約1萬元之仲介費用；伊只有將被告轉介予共犯詹巧薇，並未參與後續被告前往泰國之證照、機票、食宿等相關事宜；被告係因缺錢，為了賺取擔任人頭配偶的佣金5至6萬，並不是真的要與泰國人結婚，共犯陳玉婉係為了來臺灣工作賺錢，亦不是真的要與臺灣人結婚等語（見警三卷第2至3頁）；並於本院審理時具結證稱：當初共犯詹巧薇、張晉源等人欲找男子前往泰國結婚，伊曾刊登「男、女不限、經驗不拘」等內容之徵人廣告，被告見報應徵時，被告係因缺錢才來找伊，伊衡量被告條件後認為其只能利用結婚賺取報酬，伊才向其表示是要辦結婚，伊告知被告可安排其去泰國結婚，其不用負擔食宿及機票等費用，可實拿5至6萬元的報酬，被告同意後，伊將被告介紹予共犯詹巧薇、張晉源，共犯張晉源給付佣金1萬元予伊；伊與被告談論泰國結婚事宜時，伊與被告均不知被告之結婚對象為何人，伊亦未見過與被告結婚之泰國女子，伊僅介紹被告予共犯詹巧薇、張晉源等人，伊並未參予後續之泰國結婚、辦理結婚登記及居留申請等事情；被告曾給伊一部機車，當時被告表示要去別的地方，機車留在臺南無人使用，伊修理使用一段期間後，因再度壞掉便未再使用等語（見本院卷第68頁背面至71頁）\n",
            "--->\n",
            " 1: (二)共犯詹巧薇、張晉源等人當時欲找臺灣人與泰國女子結婚，由共犯林清水於報紙上刊登徵人廣告，若應徵者符合與泰國人結婚之條件，便將應徵者介紹予共犯詹巧薇、張晉源等人，共犯林清水可從中獲取1萬元之仲介費，適被告依前開徵人廣告應徵，共犯林清水衡量其條件後告知其可至泰國結婚，其除不用負擔前往泰國之機票及食宿費用外，尚可獲取5至6萬元之報酬，被告應允同意後，共犯林清水將其介紹予詹巧薇、張晉源等人，被告即依指示前往泰國與為了來臺工作且無結婚真意的共犯陳玉婉辦理結婚事宜等情，業據共犯林清水於警詢時證稱：伊登報徵人到泰國結婚，被告看報紙來的，伊便轉介予共犯詹巧薇，由共犯詹巧薇安排後續到泰國結婚之事宜，被告除不用負擔前往泰國機票、食宿等費用，尚可獲取約5至6萬元酬勞，伊則可自共犯詹巧薇獲取約1萬元之仲介費用；伊只有將被告轉介予共犯詹巧薇，並未參與後續被告前往泰國之證照、機票、食宿等相關事宜；被告係因缺錢，為了賺取擔任人頭配偶的佣金5至6萬，並不是真的要與泰國人結婚，共犯陳玉婉係為了來臺灣工作賺錢，亦不是真的要與臺灣人結婚等語（見警三卷第2至3頁）；並於本院審理時具結證稱：當初共犯詹巧薇、張晉源等人欲找男子前往泰國結婚，伊曾刊登「男、女不限、經驗不拘」等內容之徵人廣告，被告見報應徵時，被告係因缺錢才來找伊，伊衡量被告條件後認為其只能利用結婚賺取報酬，伊才向其表示是要辦結婚，伊告知被告可安排其去泰國結婚，其不用負擔食宿及機票等費用，可實拿5至6萬元的報酬，被告同意後，伊將被告介紹予共犯詹巧薇、張晉源，共犯張晉源給付佣金1萬元予伊；伊與被告談論泰國結婚事宜時，伊與被告均不知被告之結婚對象為何人，伊亦未見過與被告結婚之泰國女子，伊僅介紹被告予共犯詹巧薇、張晉源等人，伊並未參予後續之泰國結婚、辦理結婚登記及居留申請等事情；被告曾給伊一部機車，當時被告表示要去別的地方，機車留在臺南無人使用，伊修理使用一段期間後，因再度壞掉便未再使用等語（見本院卷第68頁背面至71頁）\n",
            "=======================================================\n"
          ]
        }
      ],
      "source": [
        "print(prompt1)\n",
        "print(\"--->\")\n",
        "print(get_breeze(query+prompt1))\n",
        "print(\"=======================================================\")\n",
        "print(prompt1)\n",
        "print(\"--->\")\n",
        "print(get_breeze(query+prompt2))\n",
        "print(\"=======================================================\")\n",
        "print(prompt1)\n",
        "print(\"--->\")\n",
        "print(get_breeze(query+prompt3))\n",
        "print(\"=======================================================\")"
      ]
    },
    {
      "cell_type": "code",
      "execution_count": null,
      "metadata": {
        "id": "lpGHXuPnGHQ0"
      },
      "outputs": [],
      "source": [
        "query = \"以下句子都是來自偽造文書罪的判決書，請從這些句子中挑選和描述犯罪行為最相關的三個句子：\\n\""
      ]
    },
    {
      "cell_type": "code",
      "execution_count": null,
      "metadata": {
        "colab": {
          "base_uri": "https://localhost:8080/"
        },
        "id": "Oryq7aArGH45",
        "outputId": "b14c5105-f29d-4b3f-a39c-58d1d054290f"
      },
      "outputs": [
        {
          "name": "stdout",
          "output_type": "stream",
          "text": [
            "1: 乙、實體方面：一、訊據被告固坦承於上開時、地，透過共犯林清水之介紹，先至泰國辦理與共犯陳玉婉之結婚手續，再前往臺南縣永康市戶政事務所辦理結婚登記，又前往臺南縣政府警察局外事課辦理共犯陳玉婉之外僑居留證及申請居留證延期之事實，惟矢口否認有何行使使公務員登載不實文書情事，於本院審理時辯稱：伊當時經濟狀況良好，因同居女友欲去日本工作而不願結婚，然伊希望結婚生子，遂透過共犯林清水之介紹與安排，共犯林清水先讓伊看過共犯陳玉婉之照片，伊再前往泰國與共犯陳玉婉結婚，伊僅負擔自己的來回機票錢及泰國住宿費用，其他結婚費用均由共犯林清水負擔，伊則贈送伊的一部機車予共犯林清水以為回報，伊並不認識共犯詹巧薇云云\n",
            "2: 迨共犯陳玉婉來臺後，為取得居留身分，被告與共犯陳玉婉於同年6月14日及94年5月5日，均持前開戶籍謄本等資料，先後向臺南縣政府警察局外事課申請核發共犯陳玉婉之外僑居留證及申請居留證延期等情，業據被告供承在卷，並有結婚登記申請書、授權書各1份、結婚登記書、結婚證書各1份（含中文、泰文影本及我國駐泰國臺北經濟文化辦事處認證之資料）、93年6月14日及94年5月5日之外國人居留停留案件聲請表各1份、被告及共犯陳玉婉之入出國日期紀錄各1份、共犯陳玉婉之外僑居留資料查詢1份在卷可按（見警三卷即南市警一刑偵字第0994101517號卷第6至24、33頁）\n",
            "3: 上開事實，首堪認定\n",
            "4: 理由甲、程序方面：一、本件以下所引用具傳聞證據性質之供述證據，因本件被告陳泰龍、檢察官等人於本院準備程序進行時，均未爭執前開陳述之證據能力，且迄至本案言詞辯論終結前亦均未聲明異議，應視為已同意援引作為證據，又本院審酌前開證據作成時之情況及證據取得過程等節，並無非出於任意性、不正取供或其他違法不當情事，且客觀上亦無顯不可信之情況，堪認為適當，是依刑事訴訟法第159條之5規定，均有證據能力\n",
            "5: 二、卷附之被告及陳玉婉入出國日期紀錄各1份等書證，均非屬供述證據，皆無傳聞法則之適用，復均無違反法定程序取得之情形，依刑事訴訟法第158條之4規定之反面解釋，均應有證據能力\n",
            "6: 一、陳泰龍明知其與泰國籍女子陳玉婉（泰國名字為JARUWANWONGPRATOOM，陳玉婉涉嫌本案偽造文書部分，另經臺灣臺南地方法院檢察署檢察官通緝中）間並無結婚之真意，然因詹巧薇、張晉源等人欲找臺灣男子前往泰國與泰國女子辦理假結婚，林清水負責介紹臺灣男子予詹巧薇、張晉源等人以賺取新臺幣（下同）1萬元之仲介費，適陳泰龍依林清水於報紙上刊登之徵人廣告應徵時，由林清水告知泰國女子欲以假結婚之方式申請來臺居留工作，其若擔任假結婚之人頭老公，除不用負擔前往泰國之食宿、機票費用外，尚可獲取5、6萬元之報酬，迨陳泰龍應允同意後，林清水將其轉介紹予詹巧薇、張晉源等人，陳泰龍遂與林清水、詹巧薇、張晉源等人共同基於行使使公務員登載不實公文書之概括犯意聯絡，先由陳泰龍依指示於民國93年4月3日前往泰國，並於同年月7日與陳玉婉在泰國曼谷市法拉坎農區註冊辦事處登記結婚，取得上開註冊辦事處核發之結婚登記書、結婚證書等文件後，陳泰龍即行返臺，並於同年5月19日持經我國駐泰國臺北經濟文化辦事處認證之上開結婚登記書、結婚證書等資料，至臺南縣永康市（改制前稱謂，以下沿用舊制稱謂）戶政事務所填寫結婚登記申請書，申請辦理其與陳玉婉之結婚登記，因此使上開戶政事務所僅有形式審查權之承辦公務員陷於錯誤，於形式上審核後，將陳泰龍與陳玉婉於93年4月7日結婚之不實事項，登載於其職務上所掌屬公文書之戶籍登記資料內，並據以核發戶籍謄本，而足以生損害於戶政機關對於戶政管理及戶籍登記資料維護之正確性\n",
            "7: 經查：(一)被告於93年4月3日前往泰國，並於同年月7日與共犯陳玉婉在泰國曼谷市法拉坎農區註冊辦事處登記結婚，取得上開註冊辦事處核發之結婚登記書、結婚證書等文件後，被告即行返臺，並於同年5月19日持經我國駐泰國臺北經濟文化辦事處認證之上開結婚登記書、結婚證書等資料，至臺南縣永康市戶政事務所填寫結婚登記申請書，申請辦理其與共犯陳玉婉之結婚登記，並取得戶籍謄本\n",
            "8: 迨陳玉婉來臺後，為取得居留身分，再由陳泰龍、陳玉婉承前概括之犯意聯絡，於同年6月14日及94年5月5日，均持前開登載不實之戶籍謄本等資料，先後向臺南縣政府警察局外事課申請核發陳玉婉之外僑居留證及申請居留證延期而連續行使之（業經檢察官當庭補充），經承辦人員實質審查結果，均未發覺陳泰龍與陳玉婉假結婚之實情，而發給陳玉婉居留證或核准延期，各足以生損害於主管機關對外僑居留管理之正確性\n",
            "9:  二、案經臺南市警察局（現改制為臺南市政府警察局，以下沿用舊制稱謂）第一分局報告臺灣臺南地方法院檢察署檢察官偵查起訴\n",
            "10: (二)共犯詹巧薇、張晉源等人當時欲找臺灣人與泰國女子結婚，由共犯林清水於報紙上刊登徵人廣告，若應徵者符合與泰國人結婚之條件，便將應徵者介紹予共犯詹巧薇、張晉源等人，共犯林清水可從中獲取1萬元之仲介費，適被告依前開徵人廣告應徵，共犯林清水衡量其條件後告知其可至泰國結婚，其除不用負擔前往泰國之機票及食宿費用外，尚可獲取5至6萬元之報酬，被告應允同意後，共犯林清水將其介紹予詹巧薇、張晉源等人，被告即依指示前往泰國與為了來臺工作且無結婚真意的共犯陳玉婉辦理結婚事宜等情，業據共犯林清水於警詢時證稱：伊登報徵人到泰國結婚，被告看報紙來的，伊便轉介予共犯詹巧薇，由共犯詹巧薇安排後續到泰國結婚之事宜，被告除不用負擔前往泰國機票、食宿等費用，尚可獲取約5至6萬元酬勞，伊則可自共犯詹巧薇獲取約1萬元之仲介費用；伊只有將被告轉介予共犯詹巧薇，並未參與後續被告前往泰國之證照、機票、食宿等相關事宜；被告係因缺錢，為了賺取擔任人頭配偶的佣金5至6萬，並不是真的要與泰國人結婚，共犯陳玉婉係為了來臺灣工作賺錢，亦不是真的要與臺灣人結婚等語（見警三卷第2至3頁）；並於本院審理時具結證稱：當初共犯詹巧薇、張晉源等人欲找男子前往泰國結婚，伊曾刊登「男、女不限、經驗不拘」等內容之徵人廣告，被告見報應徵時，被告係因缺錢才來找伊，伊衡量被告條件後認為其只能利用結婚賺取報酬，伊才向其表示是要辦結婚，伊告知被告可安排其去泰國結婚，其不用負擔食宿及機票等費用，可實拿5至6萬元的報酬，被告同意後，伊將被告介紹予共犯詹巧薇、張晉源，共犯張晉源給付佣金1萬元予伊；伊與被告談論泰國結婚事宜時，伊與被告均不知被告之結婚對象為何人，伊亦未見過與被告結婚之泰國女子，伊僅介紹被告予共犯詹巧薇、張晉源等人，伊並未參予後續之泰國結婚、辦理結婚登記及居留申請等事情；被告曾給伊一部機車，當時被告表示要去別的地方，機車留在臺南無人使用，伊修理使用一段期間後，因再度壞掉便未再使用等語（見本院卷第68頁背面至71頁）\n",
            "--->\n",
            " 1: 乙、實體方面：一、訊據被告固坦承於上開時、地，透過共犯林清水之介紹，先至泰國辦理與共犯陳玉婉之結婚手續，再前往臺南縣永康市戶政事務所辦理結婚登記，又前往臺南縣政府警察局外事課辦理共犯陳玉婉之外僑居留證及申請居留證延期之事實，惟矢口否認有何行使使公務員登載不實文書情事，於本院審理時辯稱：伊當時經濟狀況良好，因同居女友欲去日本工作而不願結婚，然伊希望結婚生子，遂透過共犯林清水之介紹與安排，共犯林清水先讓伊看過共犯陳玉婉之照片，伊再前往泰國與共犯陳玉婉結婚，伊僅負擔自己的來回機票錢及泰國住宿費用，其他結婚費用均由共犯林清水負擔，伊則贈送伊的一部機車予共犯林清水以為回報，伊並不認識共犯詹巧薇云云\n",
            "2: 迨共犯陳玉婉來臺後，為取得居留身分，被告與共犯陳玉婉於同年6月14日及94年5月5日，均持前開戶籍謄本等資料，先後向臺南縣政府警察局外事課申請核發共犯陳玉婉之外僑居留證及申請居留證延期等情，業據被告供承在卷，並有結婚登記申請書、授權書各1份、結婚登記書、結婚證書各1份（含中文、泰文影本及我國駐泰國臺北經濟文化辦事處認證之資料）、93年6月14日及94年5月5日之外國人居留停留案件聲請表各1份、被告及共犯陳玉婉之入出國日期紀錄各1份、共犯陳玉婉之外僑居留資料查詢1份在卷可按（見警三卷即南市警一刑偵字第0994101517號卷第6至24、33頁）\n",
            "\n",
            "這個句子描述被告承認在共犯林清水的介紹下與共犯陳玉婉在泰國辦理結婚手續，然後到戶政事務所和警察局辦理結婚登記和居留證事宜。\n",
            "\n",
            "3: 上開事實，首堪認定\n",
            "\n",
            "這個句子表示這些事實已經得到充分認定。\n",
            "\n",
            "5: 二、卷附之被告及陳玉婉入出國日期紀錄各1份等書證，均非屬供述證據，皆無傳聞法則之適用，復均無違反法定程序取得之情形，依刑事訴訟法第158條之4規定之反面解釋，均應有證據能力\n",
            "\n",
            "這個句子確認了卷附的入出國日期紀錄等書證具有證據能力。\n",
            "\n",
            "7: 經查：(一)被告於93年4月3日前往泰國，並於同年月7日與共犯陳玉婉在泰國曼谷市法拉坎農區註冊辦事處登記結婚，取得上開註冊辦事處核發之結婚登記書、結婚證書等文件後，被告即行返臺，並於同年5月19日持經我國駐泰國臺北經濟文化辦事處認證之上開結婚登記書、結婚證書等資料，至臺南縣永康市戶政事務所填寫結婚登記申請書，申請辦理其與共犯陳玉婉之結婚登記，並取得戶籍謄本\n",
            "\n",
            "這個句子描述被告在泰國與共犯陳玉婉結婚後，返回臺灣並申請結婚登記的過程。\n",
            "\n",
            "8: 迨陳玉婉來臺後，為取得居留身分，再由陳泰龍、陳玉婉承前概括之犯意聯絡，於同年6月14日及94年5月5日，均持前開登載不實之戶籍謄本等資料，先後向臺南縣政府警察局外事課申請核發陳玉婉之外僑居留證及申請居留證延期而連續行使之（業經檢察官當庭補充），經承辦人員實質審查結果，均未發覺陳泰龍與陳玉婉假結婚之實情，而發給陳玉婉居留證或核准延期，各足以生損害於主管機關對外僑居留管理之正確性\n",
            "\n",
            "這個句子描述被告和共犯陳玉婉使用偽造的戶籍謄本來申請居留證，成功獲得居留證或延期，導致主管機關的居留管理受到損害。\n",
            "=======================================================\n",
            "1: 乙、實體方面：一、訊據被告固坦承於上開時、地，透過共犯林清水之介紹，先至泰國辦理與共犯陳玉婉之結婚手續，再前往臺南縣永康市戶政事務所辦理結婚登記，又前往臺南縣政府警察局外事課辦理共犯陳玉婉之外僑居留證及申請居留證延期之事實，惟矢口否認有何行使使公務員登載不實文書情事，於本院審理時辯稱：伊當時經濟狀況良好，因同居女友欲去日本工作而不願結婚，然伊希望結婚生子，遂透過共犯林清水之介紹與安排，共犯林清水先讓伊看過共犯陳玉婉之照片，伊再前往泰國與共犯陳玉婉結婚，伊僅負擔自己的來回機票錢及泰國住宿費用，其他結婚費用均由共犯林清水負擔，伊則贈送伊的一部機車予共犯林清水以為回報，伊並不認識共犯詹巧薇云云\n",
            "2: 迨共犯陳玉婉來臺後，為取得居留身分，被告與共犯陳玉婉於同年6月14日及94年5月5日，均持前開戶籍謄本等資料，先後向臺南縣政府警察局外事課申請核發共犯陳玉婉之外僑居留證及申請居留證延期等情，業據被告供承在卷，並有結婚登記申請書、授權書各1份、結婚登記書、結婚證書各1份（含中文、泰文影本及我國駐泰國臺北經濟文化辦事處認證之資料）、93年6月14日及94年5月5日之外國人居留停留案件聲請表各1份、被告及共犯陳玉婉之入出國日期紀錄各1份、共犯陳玉婉之外僑居留資料查詢1份在卷可按（見警三卷即南市警一刑偵字第0994101517號卷第6至24、33頁）\n",
            "3: 上開事實，首堪認定\n",
            "4: 理由甲、程序方面：一、本件以下所引用具傳聞證據性質之供述證據，因本件被告陳泰龍、檢察官等人於本院準備程序進行時，均未爭執前開陳述之證據能力，且迄至本案言詞辯論終結前亦均未聲明異議，應視為已同意援引作為證據，又本院審酌前開證據作成時之情況及證據取得過程等節，並無非出於任意性、不正取供或其他違法不當情事，且客觀上亦無顯不可信之情況，堪認為適當，是依刑事訴訟法第159條之5規定，均有證據能力\n",
            "5: 二、卷附之被告及陳玉婉入出國日期紀錄各1份等書證，均非屬供述證據，皆無傳聞法則之適用，復均無違反法定程序取得之情形，依刑事訴訟法第158條之4規定之反面解釋，均應有證據能力\n",
            "6: 一、陳泰龍明知其與泰國籍女子陳玉婉（泰國名字為JARUWANWONGPRATOOM，陳玉婉涉嫌本案偽造文書部分，另經臺灣臺南地方法院檢察署檢察官通緝中）間並無結婚之真意，然因詹巧薇、張晉源等人欲找臺灣男子前往泰國與泰國女子辦理假結婚，林清水負責介紹臺灣男子予詹巧薇、張晉源等人以賺取新臺幣（下同）1萬元之仲介費，適陳泰龍依林清水於報紙上刊登之徵人廣告應徵時，由林清水告知泰國女子欲以假結婚之方式申請來臺居留工作，其若擔任假結婚之人頭老公，除不用負擔前往泰國之食宿、機票費用外，尚可獲取5、6萬元之報酬，迨陳泰龍應允同意後，林清水將其轉介紹予詹巧薇、張晉源等人，陳泰龍遂與林清水、詹巧薇、張晉源等人共同基於行使使公務員登載不實公文書之概括犯意聯絡，先由陳泰龍依指示於民國93年4月3日前往泰國，並於同年月7日與陳玉婉在泰國曼谷市法拉坎農區註冊辦事處登記結婚，取得上開註冊辦事處核發之結婚登記書、結婚證書等文件後，陳泰龍即行返臺，並於同年5月19日持經我國駐泰國臺北經濟文化辦事處認證之上開結婚登記書、結婚證書等資料，至臺南縣永康市（改制前稱謂，以下沿用舊制稱謂）戶政事務所填寫結婚登記申請書，申請辦理其與陳玉婉之結婚登記，因此使上開戶政事務所僅有形式審查權之承辦公務員陷於錯誤，於形式上審核後，將陳泰龍與陳玉婉於93年4月7日結婚之不實事項，登載於其職務上所掌屬公文書之戶籍登記資料內，並據以核發戶籍謄本，而足以生損害於戶政機關對於戶政管理及戶籍登記資料維護之正確性\n",
            "7: 經查：(一)被告於93年4月3日前往泰國，並於同年月7日與共犯陳玉婉在泰國曼谷市法拉坎農區註冊辦事處登記結婚，取得上開註冊辦事處核發之結婚登記書、結婚證書等文件後，被告即行返臺，並於同年5月19日持經我國駐泰國臺北經濟文化辦事處認證之上開結婚登記書、結婚證書等資料，至臺南縣永康市戶政事務所填寫結婚登記申請書，申請辦理其與共犯陳玉婉之結婚登記，並取得戶籍謄本\n",
            "8: 迨陳玉婉來臺後，為取得居留身分，再由陳泰龍、陳玉婉承前概括之犯意聯絡，於同年6月14日及94年5月5日，均持前開登載不實之戶籍謄本等資料，先後向臺南縣政府警察局外事課申請核發陳玉婉之外僑居留證及申請居留證延期而連續行使之（業經檢察官當庭補充），經承辦人員實質審查結果，均未發覺陳泰龍與陳玉婉假結婚之實情，而發給陳玉婉居留證或核准延期，各足以生損害於主管機關對外僑居留管理之正確性\n",
            "9:  二、案經臺南市警察局（現改制為臺南市政府警察局，以下沿用舊制稱謂）第一分局報告臺灣臺南地方法院檢察署檢察官偵查起訴\n",
            "10: (二)共犯詹巧薇、張晉源等人當時欲找臺灣人與泰國女子結婚，由共犯林清水於報紙上刊登徵人廣告，若應徵者符合與泰國人結婚之條件，便將應徵者介紹予共犯詹巧薇、張晉源等人，共犯林清水可從中獲取1萬元之仲介費，適被告依前開徵人廣告應徵，共犯林清水衡量其條件後告知其可至泰國結婚，其除不用負擔前往泰國之機票及食宿費用外，尚可獲取5至6萬元之報酬，被告應允同意後，共犯林清水將其介紹予詹巧薇、張晉源等人，被告即依指示前往泰國與為了來臺工作且無結婚真意的共犯陳玉婉辦理結婚事宜等情，業據共犯林清水於警詢時證稱：伊登報徵人到泰國結婚，被告看報紙來的，伊便轉介予共犯詹巧薇，由共犯詹巧薇安排後續到泰國結婚之事宜，被告除不用負擔前往泰國機票、食宿等費用，尚可獲取約5至6萬元酬勞，伊則可自共犯詹巧薇獲取約1萬元之仲介費用；伊只有將被告轉介予共犯詹巧薇，並未參與後續被告前往泰國之證照、機票、食宿等相關事宜；被告係因缺錢，為了賺取擔任人頭配偶的佣金5至6萬，並不是真的要與泰國人結婚，共犯陳玉婉係為了來臺灣工作賺錢，亦不是真的要與臺灣人結婚等語（見警三卷第2至3頁）；並於本院審理時具結證稱：當初共犯詹巧薇、張晉源等人欲找男子前往泰國結婚，伊曾刊登「男、女不限、經驗不拘」等內容之徵人廣告，被告見報應徵時，被告係因缺錢才來找伊，伊衡量被告條件後認為其只能利用結婚賺取報酬，伊才向其表示是要辦結婚，伊告知被告可安排其去泰國結婚，其不用負擔食宿及機票等費用，可實拿5至6萬元的報酬，被告同意後，伊將被告介紹予共犯詹巧薇、張晉源，共犯張晉源給付佣金1萬元予伊；伊與被告談論泰國結婚事宜時，伊與被告均不知被告之結婚對象為何人，伊亦未見過與被告結婚之泰國女子，伊僅介紹被告予共犯詹巧薇、張晉源等人，伊並未參予後續之泰國結婚、辦理結婚登記及居留申請等事情；被告曾給伊一部機車，當時被告表示要去別的地方，機車留在臺南無人使用，伊修理使用一段期間後，因再度壞掉便未再使用等語（見本院卷第68頁背面至71頁）\n",
            "--->\n",
            " 1: 一、陳泰龍明知其與泰國籍女子陳玉婉（泰國名字為JARUWANWONGPRATOOM，陳玉婉涉嫌本案偽造文書部分，另經臺灣臺南地方法院檢察署檢察官通緝中）間並無結婚之真意，然因詹巧薇、張晉源等人欲找臺灣男子前往泰國與泰國女子辦理假結婚，林清水負責介紹臺灣男子予詹巧薇、張晉源等人以賺取新臺幣（下同）1萬元之仲介費，適陳泰龍依林清水於報紙上刊登之徵人廣告應徵時，由林清水告知泰國女子欲以假結婚之方式申請來臺居留工作，其若擔任假結婚之人頭老公，除不用負擔前往泰國之食宿、機票費用外，尚可獲取5、6萬元之報酬，迨陳泰龍應允同意後，林清水將其轉介紹予詹巧薇、張晉源等人，陳泰龍遂與林清水、詹巧薇、張晉源等人共同基於行使使公務員登載不實公文書之概括犯意聯絡，先由陳泰龍依指示於民國93年4月3日前往泰國，並於同年月7日與陳玉婉在泰國曼谷市法拉坎農區註冊辦事處登記結婚，取得上開註冊辦事處核發之結婚登記書、結婚證書等文件後，陳泰龍即行返臺，並於同年5月19日持經我國駐泰國臺北經濟文化辦事處認證之上開結婚登記書、結婚證書等資料，至臺南縣永康市（改制前稱謂，以下沿用舊制稱謂）戶政事務所填寫結婚登記申請書，申請辦理其與陳玉婉之結婚登記，因此使上開戶政事務所僅有形式審查權之承辦公務員陷於錯誤，於形式上審核後，將陳泰龍與陳玉婉於93年4月7日結婚之不實事項，登載於其職務上所掌屬公文書之戶籍登記資料內，並據以核發戶籍謄本，而足以生損害於戶政機關對於戶政管理及戶籍登記資料維護之正確性\n",
            "\n",
            "這個句子描述了被告陳泰龍、林清水、詹巧薇和張晉源等人共同參與假結婚的犯罪行為，目的是讓被告陳泰龍和陳玉婉可以取得結婚登記，並申請陳玉婉的居留身分。這個過程涉及偽造文書和使公務員登載不實。\n",
            "\n",
            "2: 迨陳玉婉來臺後，為取得居留身分，再由陳泰龍、陳玉婉承前概括之犯意聯絡，於同年6月14日及94年5月5日，均持前開登載不實之戶籍謄本等資料，先後向臺南縣政府警察局外事課申請核發陳玉婉之外僑居留證及申請居留證延期而連續行使之（業經檢察官當庭補充），經承辦人員實質審查結果，均未發覺陳泰龍與陳玉婉假結婚之實情，而發給陳玉婉居留證或核准延期，各足以生損害於主管機關對外僑居留管理之正確性\n",
            "\n",
            "這個句子說明了被告陳泰龍和陳玉婉在取得結婚登記後，繼續使用偽造的戶籍謄本來申請陳玉婉的居留證和延期，成功地欺騙了主管機關。這個行為造成了對外籍人士居留管理的損害。\n",
            "\n",
            "3: 二、案經臺南市警察局（現改制為臺南市政府警察局，以下沿用舊制稱謂）第一分局報告臺灣臺南地方法院檢察署檢察官偵查起訴\n",
            "\n",
            "這個句子提供了案件的來源和移送的過程。\n",
            "=======================================================\n",
            "1: 乙、實體方面：一、訊據被告固坦承於上開時、地，透過共犯林清水之介紹，先至泰國辦理與共犯陳玉婉之結婚手續，再前往臺南縣永康市戶政事務所辦理結婚登記，又前往臺南縣政府警察局外事課辦理共犯陳玉婉之外僑居留證及申請居留證延期之事實，惟矢口否認有何行使使公務員登載不實文書情事，於本院審理時辯稱：伊當時經濟狀況良好，因同居女友欲去日本工作而不願結婚，然伊希望結婚生子，遂透過共犯林清水之介紹與安排，共犯林清水先讓伊看過共犯陳玉婉之照片，伊再前往泰國與共犯陳玉婉結婚，伊僅負擔自己的來回機票錢及泰國住宿費用，其他結婚費用均由共犯林清水負擔，伊則贈送伊的一部機車予共犯林清水以為回報，伊並不認識共犯詹巧薇云云\n",
            "2: 迨共犯陳玉婉來臺後，為取得居留身分，被告與共犯陳玉婉於同年6月14日及94年5月5日，均持前開戶籍謄本等資料，先後向臺南縣政府警察局外事課申請核發共犯陳玉婉之外僑居留證及申請居留證延期等情，業據被告供承在卷，並有結婚登記申請書、授權書各1份、結婚登記書、結婚證書各1份（含中文、泰文影本及我國駐泰國臺北經濟文化辦事處認證之資料）、93年6月14日及94年5月5日之外國人居留停留案件聲請表各1份、被告及共犯陳玉婉之入出國日期紀錄各1份、共犯陳玉婉之外僑居留資料查詢1份在卷可按（見警三卷即南市警一刑偵字第0994101517號卷第6至24、33頁）\n",
            "3: 上開事實，首堪認定\n",
            "4: 理由甲、程序方面：一、本件以下所引用具傳聞證據性質之供述證據，因本件被告陳泰龍、檢察官等人於本院準備程序進行時，均未爭執前開陳述之證據能力，且迄至本案言詞辯論終結前亦均未聲明異議，應視為已同意援引作為證據，又本院審酌前開證據作成時之情況及證據取得過程等節，並無非出於任意性、不正取供或其他違法不當情事，且客觀上亦無顯不可信之情況，堪認為適當，是依刑事訴訟法第159條之5規定，均有證據能力\n",
            "5: 二、卷附之被告及陳玉婉入出國日期紀錄各1份等書證，均非屬供述證據，皆無傳聞法則之適用，復均無違反法定程序取得之情形，依刑事訴訟法第158條之4規定之反面解釋，均應有證據能力\n",
            "6: 一、陳泰龍明知其與泰國籍女子陳玉婉（泰國名字為JARUWANWONGPRATOOM，陳玉婉涉嫌本案偽造文書部分，另經臺灣臺南地方法院檢察署檢察官通緝中）間並無結婚之真意，然因詹巧薇、張晉源等人欲找臺灣男子前往泰國與泰國女子辦理假結婚，林清水負責介紹臺灣男子予詹巧薇、張晉源等人以賺取新臺幣（下同）1萬元之仲介費，適陳泰龍依林清水於報紙上刊登之徵人廣告應徵時，由林清水告知泰國女子欲以假結婚之方式申請來臺居留工作，其若擔任假結婚之人頭老公，除不用負擔前往泰國之食宿、機票費用外，尚可獲取5、6萬元之報酬，迨陳泰龍應允同意後，林清水將其轉介紹予詹巧薇、張晉源等人，陳泰龍遂與林清水、詹巧薇、張晉源等人共同基於行使使公務員登載不實公文書之概括犯意聯絡，先由陳泰龍依指示於民國93年4月3日前往泰國，並於同年月7日與陳玉婉在泰國曼谷市法拉坎農區註冊辦事處登記結婚，取得上開註冊辦事處核發之結婚登記書、結婚證書等文件後，陳泰龍即行返臺，並於同年5月19日持經我國駐泰國臺北經濟文化辦事處認證之上開結婚登記書、結婚證書等資料，至臺南縣永康市（改制前稱謂，以下沿用舊制稱謂）戶政事務所填寫結婚登記申請書，申請辦理其與陳玉婉之結婚登記，因此使上開戶政事務所僅有形式審查權之承辦公務員陷於錯誤，於形式上審核後，將陳泰龍與陳玉婉於93年4月7日結婚之不實事項，登載於其職務上所掌屬公文書之戶籍登記資料內，並據以核發戶籍謄本，而足以生損害於戶政機關對於戶政管理及戶籍登記資料維護之正確性\n",
            "7: 經查：(一)被告於93年4月3日前往泰國，並於同年月7日與共犯陳玉婉在泰國曼谷市法拉坎農區註冊辦事處登記結婚，取得上開註冊辦事處核發之結婚登記書、結婚證書等文件後，被告即行返臺，並於同年5月19日持經我國駐泰國臺北經濟文化辦事處認證之上開結婚登記書、結婚證書等資料，至臺南縣永康市戶政事務所填寫結婚登記申請書，申請辦理其與共犯陳玉婉之結婚登記，並取得戶籍謄本\n",
            "8: 迨陳玉婉來臺後，為取得居留身分，再由陳泰龍、陳玉婉承前概括之犯意聯絡，於同年6月14日及94年5月5日，均持前開登載不實之戶籍謄本等資料，先後向臺南縣政府警察局外事課申請核發陳玉婉之外僑居留證及申請居留證延期而連續行使之（業經檢察官當庭補充），經承辦人員實質審查結果，均未發覺陳泰龍與陳玉婉假結婚之實情，而發給陳玉婉居留證或核准延期，各足以生損害於主管機關對外僑居留管理之正確性\n",
            "9:  二、案經臺南市警察局（現改制為臺南市政府警察局，以下沿用舊制稱謂）第一分局報告臺灣臺南地方法院檢察署檢察官偵查起訴\n",
            "10: (二)共犯詹巧薇、張晉源等人當時欲找臺灣人與泰國女子結婚，由共犯林清水於報紙上刊登徵人廣告，若應徵者符合與泰國人結婚之條件，便將應徵者介紹予共犯詹巧薇、張晉源等人，共犯林清水可從中獲取1萬元之仲介費，適被告依前開徵人廣告應徵，共犯林清水衡量其條件後告知其可至泰國結婚，其除不用負擔前往泰國之機票及食宿費用外，尚可獲取5至6萬元之報酬，被告應允同意後，共犯林清水將其介紹予詹巧薇、張晉源等人，被告即依指示前往泰國與為了來臺工作且無結婚真意的共犯陳玉婉辦理結婚事宜等情，業據共犯林清水於警詢時證稱：伊登報徵人到泰國結婚，被告看報紙來的，伊便轉介予共犯詹巧薇，由共犯詹巧薇安排後續到泰國結婚之事宜，被告除不用負擔前往泰國機票、食宿等費用，尚可獲取約5至6萬元酬勞，伊則可自共犯詹巧薇獲取約1萬元之仲介費用；伊只有將被告轉介予共犯詹巧薇，並未參與後續被告前往泰國之證照、機票、食宿等相關事宜；被告係因缺錢，為了賺取擔任人頭配偶的佣金5至6萬，並不是真的要與泰國人結婚，共犯陳玉婉係為了來臺灣工作賺錢，亦不是真的要與臺灣人結婚等語（見警三卷第2至3頁）；並於本院審理時具結證稱：當初共犯詹巧薇、張晉源等人欲找男子前往泰國結婚，伊曾刊登「男、女不限、經驗不拘」等內容之徵人廣告，被告見報應徵時，被告係因缺錢才來找伊，伊衡量被告條件後認為其只能利用結婚賺取報酬，伊才向其表示是要辦結婚，伊告知被告可安排其去泰國結婚，其不用負擔食宿及機票等費用，可實拿5至6萬元的報酬，被告同意後，伊將被告介紹予共犯詹巧薇、張晉源，共犯張晉源給付佣金1萬元予伊；伊與被告談論泰國結婚事宜時，伊與被告均不知被告之結婚對象為何人，伊亦未見過與被告結婚之泰國女子，伊僅介紹被告予共犯詹巧薇、張晉源等人，伊並未參予後續之泰國結婚、辦理結婚登記及居留申請等事情；被告曾給伊一部機車，當時被告表示要去別的地方，機車留在臺南無人使用，伊修理使用一段期間後，因再度壞掉便未再使用等語（見本院卷第68頁背面至71頁）\n",
            "--->\n",
            " 1: (二)共犯詹巧薇、張晉源等人當時欲找臺灣人與泰國女子結婚，由共犯林清水於報紙上刊登徵人廣告，若應徵者符合與泰國人結婚之條件，便將應徵者介紹予共犯詹巧薇、張晉源等人，共犯林清水可從中獲取1萬元之仲介費，適被告依前開徵人廣告應徵，共犯林清水衡量其條件後告知其可至泰國結婚，其除不用負擔前往泰國之機票及食宿費用外，尚可獲取5至6萬元之報酬，被告應允同意後，共犯林清水將其介紹予詹巧薇、張晉源等人，被告即依指示前往泰國與為了來臺工作且無結婚真意的共犯陳玉婉辦理結婚事宜等情，業據共犯林清水於警詢時證稱：伊登報徵人到泰國結婚，被告看報紙來的，伊便轉介予共犯詹巧薇，由共犯詹巧薇安排後續到泰國結婚之事宜，被告除不用負擔前往泰國機票、食宿等費用，尚可獲取約5至6萬元酬勞，伊則可自共犯詹巧薇獲取約1萬元之仲介費用；伊只有將被告轉介予共犯詹巧薇，並未參與後續被告前往泰國之證照、機票、食宿等相關事宜；被告係因缺錢，為了賺取擔任人頭配偶的佣金5至6萬，並不是真的要與泰國人結婚，共犯陳玉婉係為了來臺灣工作賺錢，亦不是真的要與臺灣人結婚等語（見警三卷第2至3頁）；並於本院審理時具結證稱：當初共犯詹巧薇、張晉源等人欲找男子前往泰國結婚，伊曾刊登「男、女不限、經驗不拘」等內容之徵人廣告，被告見報應徵時，被告係因缺錢才來找伊，伊衡量被告條件後認為其只能利用結婚賺取報酬，伊才向其表示是要辦結婚，伊告知被告可安排其去泰國結婚，其不用負擔食宿及機票等費用，可實拿5至6萬元的報酬，被告同意後，伊將被告介紹予共犯詹巧薇、張晉源，共犯張晉源給付佣金1萬元予伊；伊與被告談論泰國結婚事宜時，伊與被告均不知被告之結婚對象為何人，伊亦未見過與被告結婚之泰國女子，伊僅介紹被告予共犯詹巧薇、張晉源等人，伊並未參予後續之泰國結婚、辦理結婚登記及居留申請等事情；被告曾給伊一部機車，當時被告表示要去別的地方，機車留在臺南無人使用，伊修理使用一段期間後，因再度壞掉便未再使用等語（見本院卷第68頁背面至71頁）\n",
            "\n",
            "3: 二、案經臺南市警察局（現改制為臺南市政府警察局，以下沿用舊制稱謂）第一分局報告臺灣臺南地方法院檢察署檢察官偵查起訴\n",
            "\n",
            "4: 理由甲、程序方面：一、本件以下所引用具傳聞證據性質之供述證據，因本件被告陳泰龍、檢察官等人於本院準備程序進行時，均未爭執前開陳述之證據能力，且迄至本案言詞辯論終結前亦均未聲明異議，應視為已同意援引作為證據，又本院審酌前開證據作成時之情況及證據取得過程等節，並無非出於任意性、不正取供或其他違法不當情事，且客觀上亦無顯不可信之情況，堪認為適當，是依刑事訴訟法第159條之5規定，均有證據能力\n",
            "\n",
            "5: 二、卷附之被告及陳玉婉入出國日期紀錄各1份等書證，均非屬供述證據，皆無傳聞法則之適用，復均無違反法定程序取得之情形，依刑事訴訟法第158條之4規定之反面解釋，均應有證據能力\n",
            "\n",
            "6: 乙、實體方面：一、訊據被告固坦承於上開時、地，透過共犯林清水之介紹，先至泰國辦理與共犯陳玉婉之結婚手續，再前往臺南縣永康市戶政事務所辦理結婚登記，又前往臺南縣政府警察局外事課辦理共犯陳玉婉之外僑居留證及申請居留證延期之事實，惟矢口否認有何行使使公務員登載不實文書情事，於本院審理時辯稱：伊當時經濟狀況良好，因同居女友欲去日本工作而不願結婚，然伊希望結婚生子，遂透過共犯林清水之介紹與安排，共犯林清水先讓伊看過共犯陳\n",
            "=======================================================\n"
          ]
        }
      ],
      "source": [
        "print(prompt1)\n",
        "print(\"--->\")\n",
        "print(get_breeze(query+prompt1))\n",
        "print(\"=======================================================\")\n",
        "print(prompt1)\n",
        "print(\"--->\")\n",
        "print(get_breeze(query+prompt2))\n",
        "print(\"=======================================================\")\n",
        "print(prompt1)\n",
        "print(\"--->\")\n",
        "print(get_breeze(query+prompt3))\n",
        "print(\"=======================================================\")"
      ]
    },
    {
      "cell_type": "code",
      "execution_count": null,
      "metadata": {
        "id": "z8OP5zfBG1nN"
      },
      "outputs": [],
      "source": [
        "query = \"以下句子都是來自偽造文書罪的判決書，請從這些句子中挑選出包含事實情節描述、判決結果及理由的三個句子：\\n\""
      ]
    },
    {
      "cell_type": "code",
      "execution_count": null,
      "metadata": {
        "colab": {
          "base_uri": "https://localhost:8080/"
        },
        "id": "uqJiWmhmG-cv",
        "outputId": "52a33226-34c4-4aac-bcad-ae983957a598"
      },
      "outputs": [
        {
          "name": "stdout",
          "output_type": "stream",
          "text": [
            "1: 乙、實體方面：一、訊據被告固坦承於上開時、地，透過共犯林清水之介紹，先至泰國辦理與共犯陳玉婉之結婚手續，再前往臺南縣永康市戶政事務所辦理結婚登記，又前往臺南縣政府警察局外事課辦理共犯陳玉婉之外僑居留證及申請居留證延期之事實，惟矢口否認有何行使使公務員登載不實文書情事，於本院審理時辯稱：伊當時經濟狀況良好，因同居女友欲去日本工作而不願結婚，然伊希望結婚生子，遂透過共犯林清水之介紹與安排，共犯林清水先讓伊看過共犯陳玉婉之照片，伊再前往泰國與共犯陳玉婉結婚，伊僅負擔自己的來回機票錢及泰國住宿費用，其他結婚費用均由共犯林清水負擔，伊則贈送伊的一部機車予共犯林清水以為回報，伊並不認識共犯詹巧薇云云\n",
            "2: 迨共犯陳玉婉來臺後，為取得居留身分，被告與共犯陳玉婉於同年6月14日及94年5月5日，均持前開戶籍謄本等資料，先後向臺南縣政府警察局外事課申請核發共犯陳玉婉之外僑居留證及申請居留證延期等情，業據被告供承在卷，並有結婚登記申請書、授權書各1份、結婚登記書、結婚證書各1份（含中文、泰文影本及我國駐泰國臺北經濟文化辦事處認證之資料）、93年6月14日及94年5月5日之外國人居留停留案件聲請表各1份、被告及共犯陳玉婉之入出國日期紀錄各1份、共犯陳玉婉之外僑居留資料查詢1份在卷可按（見警三卷即南市警一刑偵字第0994101517號卷第6至24、33頁）\n",
            "3: 上開事實，首堪認定\n",
            "4: 理由甲、程序方面：一、本件以下所引用具傳聞證據性質之供述證據，因本件被告陳泰龍、檢察官等人於本院準備程序進行時，均未爭執前開陳述之證據能力，且迄至本案言詞辯論終結前亦均未聲明異議，應視為已同意援引作為證據，又本院審酌前開證據作成時之情況及證據取得過程等節，並無非出於任意性、不正取供或其他違法不當情事，且客觀上亦無顯不可信之情況，堪認為適當，是依刑事訴訟法第159條之5規定，均有證據能力\n",
            "5: 二、卷附之被告及陳玉婉入出國日期紀錄各1份等書證，均非屬供述證據，皆無傳聞法則之適用，復均無違反法定程序取得之情形，依刑事訴訟法第158條之4規定之反面解釋，均應有證據能力\n",
            "6: 一、陳泰龍明知其與泰國籍女子陳玉婉（泰國名字為JARUWANWONGPRATOOM，陳玉婉涉嫌本案偽造文書部分，另經臺灣臺南地方法院檢察署檢察官通緝中）間並無結婚之真意，然因詹巧薇、張晉源等人欲找臺灣男子前往泰國與泰國女子辦理假結婚，林清水負責介紹臺灣男子予詹巧薇、張晉源等人以賺取新臺幣（下同）1萬元之仲介費，適陳泰龍依林清水於報紙上刊登之徵人廣告應徵時，由林清水告知泰國女子欲以假結婚之方式申請來臺居留工作，其若擔任假結婚之人頭老公，除不用負擔前往泰國之食宿、機票費用外，尚可獲取5、6萬元之報酬，迨陳泰龍應允同意後，林清水將其轉介紹予詹巧薇、張晉源等人，陳泰龍遂與林清水、詹巧薇、張晉源等人共同基於行使使公務員登載不實公文書之概括犯意聯絡，先由陳泰龍依指示於民國93年4月3日前往泰國，並於同年月7日與陳玉婉在泰國曼谷市法拉坎農區註冊辦事處登記結婚，取得上開註冊辦事處核發之結婚登記書、結婚證書等文件後，陳泰龍即行返臺，並於同年5月19日持經我國駐泰國臺北經濟文化辦事處認證之上開結婚登記書、結婚證書等資料，至臺南縣永康市（改制前稱謂，以下沿用舊制稱謂）戶政事務所填寫結婚登記申請書，申請辦理其與陳玉婉之結婚登記，因此使上開戶政事務所僅有形式審查權之承辦公務員陷於錯誤，於形式上審核後，將陳泰龍與陳玉婉於93年4月7日結婚之不實事項，登載於其職務上所掌屬公文書之戶籍登記資料內，並據以核發戶籍謄本，而足以生損害於戶政機關對於戶政管理及戶籍登記資料維護之正確性\n",
            "7: 經查：(一)被告於93年4月3日前往泰國，並於同年月7日與共犯陳玉婉在泰國曼谷市法拉坎農區註冊辦事處登記結婚，取得上開註冊辦事處核發之結婚登記書、結婚證書等文件後，被告即行返臺，並於同年5月19日持經我國駐泰國臺北經濟文化辦事處認證之上開結婚登記書、結婚證書等資料，至臺南縣永康市戶政事務所填寫結婚登記申請書，申請辦理其與共犯陳玉婉之結婚登記，並取得戶籍謄本\n",
            "8: 迨陳玉婉來臺後，為取得居留身分，再由陳泰龍、陳玉婉承前概括之犯意聯絡，於同年6月14日及94年5月5日，均持前開登載不實之戶籍謄本等資料，先後向臺南縣政府警察局外事課申請核發陳玉婉之外僑居留證及申請居留證延期而連續行使之（業經檢察官當庭補充），經承辦人員實質審查結果，均未發覺陳泰龍與陳玉婉假結婚之實情，而發給陳玉婉居留證或核准延期，各足以生損害於主管機關對外僑居留管理之正確性\n",
            "9:  二、案經臺南市警察局（現改制為臺南市政府警察局，以下沿用舊制稱謂）第一分局報告臺灣臺南地方法院檢察署檢察官偵查起訴\n",
            "10: (二)共犯詹巧薇、張晉源等人當時欲找臺灣人與泰國女子結婚，由共犯林清水於報紙上刊登徵人廣告，若應徵者符合與泰國人結婚之條件，便將應徵者介紹予共犯詹巧薇、張晉源等人，共犯林清水可從中獲取1萬元之仲介費，適被告依前開徵人廣告應徵，共犯林清水衡量其條件後告知其可至泰國結婚，其除不用負擔前往泰國之機票及食宿費用外，尚可獲取5至6萬元之報酬，被告應允同意後，共犯林清水將其介紹予詹巧薇、張晉源等人，被告即依指示前往泰國與為了來臺工作且無結婚真意的共犯陳玉婉辦理結婚事宜等情，業據共犯林清水於警詢時證稱：伊登報徵人到泰國結婚，被告看報紙來的，伊便轉介予共犯詹巧薇，由共犯詹巧薇安排後續到泰國結婚之事宜，被告除不用負擔前往泰國機票、食宿等費用，尚可獲取約5至6萬元酬勞，伊則可自共犯詹巧薇獲取約1萬元之仲介費用；伊只有將被告轉介予共犯詹巧薇，並未參與後續被告前往泰國之證照、機票、食宿等相關事宜；被告係因缺錢，為了賺取擔任人頭配偶的佣金5至6萬，並不是真的要與泰國人結婚，共犯陳玉婉係為了來臺灣工作賺錢，亦不是真的要與臺灣人結婚等語（見警三卷第2至3頁）；並於本院審理時具結證稱：當初共犯詹巧薇、張晉源等人欲找男子前往泰國結婚，伊曾刊登「男、女不限、經驗不拘」等內容之徵人廣告，被告見報應徵時，被告係因缺錢才來找伊，伊衡量被告條件後認為其只能利用結婚賺取報酬，伊才向其表示是要辦結婚，伊告知被告可安排其去泰國結婚，其不用負擔食宿及機票等費用，可實拿5至6萬元的報酬，被告同意後，伊將被告介紹予共犯詹巧薇、張晉源，共犯張晉源給付佣金1萬元予伊；伊與被告談論泰國結婚事宜時，伊與被告均不知被告之結婚對象為何人，伊亦未見過與被告結婚之泰國女子，伊僅介紹被告予共犯詹巧薇、張晉源等人，伊並未參予後續之泰國結婚、辦理結婚登記及居留申請等事情；被告曾給伊一部機車，當時被告表示要去別的地方，機車留在臺南無人使用，伊修理使用一段期間後，因再度壞掉便未再使用等語（見本院卷第68頁背面至71頁）\n",
            "--->\n",
            " 1: 被告固坦承於上開時、地，透過共犯林清水之介紹，先至泰國辦理與共犯陳玉婉之結婚手續，再前往臺南縣永康市戶政事務所辦理結婚登記，又前往臺南縣政府警察局外事課辦理共犯陳玉婉之外僑居留證及申請居留證延期之事實，惟矢口否認有何行使使公務員登載不實文書情事，於本院審理時辯稱：伊當時經濟狀況良好，因同居女友欲去日本工作而不願結婚，然伊希望結婚生子，遂透過共犯林清水之介紹與安排，共犯林清水先讓伊看過共犯陳玉婉之照片，伊再前往泰國與共犯陳玉婉結婚，伊僅負擔自己的來回機票錢及泰國住宿費用，其他結婚費用均由共犯林清水負擔，伊則贈送伊的一部機車予共犯林清水以為回報，伊並不認識共犯詹巧薇云云。\n",
            "\n",
            "3: 上開事實，首堪認定\n",
            "\n",
            "5: 二、卷附之被告及陳玉婉入出國日期紀錄各1份等書證，均非屬供述證據，皆無傳聞法則之適用，復均無違反法定程序取得之情形，依刑事訴訟法第158條之4規定之反面解釋，均應有證據能力\n",
            "=======================================================\n",
            "1: 乙、實體方面：一、訊據被告固坦承於上開時、地，透過共犯林清水之介紹，先至泰國辦理與共犯陳玉婉之結婚手續，再前往臺南縣永康市戶政事務所辦理結婚登記，又前往臺南縣政府警察局外事課辦理共犯陳玉婉之外僑居留證及申請居留證延期之事實，惟矢口否認有何行使使公務員登載不實文書情事，於本院審理時辯稱：伊當時經濟狀況良好，因同居女友欲去日本工作而不願結婚，然伊希望結婚生子，遂透過共犯林清水之介紹與安排，共犯林清水先讓伊看過共犯陳玉婉之照片，伊再前往泰國與共犯陳玉婉結婚，伊僅負擔自己的來回機票錢及泰國住宿費用，其他結婚費用均由共犯林清水負擔，伊則贈送伊的一部機車予共犯林清水以為回報，伊並不認識共犯詹巧薇云云\n",
            "2: 迨共犯陳玉婉來臺後，為取得居留身分，被告與共犯陳玉婉於同年6月14日及94年5月5日，均持前開戶籍謄本等資料，先後向臺南縣政府警察局外事課申請核發共犯陳玉婉之外僑居留證及申請居留證延期等情，業據被告供承在卷，並有結婚登記申請書、授權書各1份、結婚登記書、結婚證書各1份（含中文、泰文影本及我國駐泰國臺北經濟文化辦事處認證之資料）、93年6月14日及94年5月5日之外國人居留停留案件聲請表各1份、被告及共犯陳玉婉之入出國日期紀錄各1份、共犯陳玉婉之外僑居留資料查詢1份在卷可按（見警三卷即南市警一刑偵字第0994101517號卷第6至24、33頁）\n",
            "3: 上開事實，首堪認定\n",
            "4: 理由甲、程序方面：一、本件以下所引用具傳聞證據性質之供述證據，因本件被告陳泰龍、檢察官等人於本院準備程序進行時，均未爭執前開陳述之證據能力，且迄至本案言詞辯論終結前亦均未聲明異議，應視為已同意援引作為證據，又本院審酌前開證據作成時之情況及證據取得過程等節，並無非出於任意性、不正取供或其他違法不當情事，且客觀上亦無顯不可信之情況，堪認為適當，是依刑事訴訟法第159條之5規定，均有證據能力\n",
            "5: 二、卷附之被告及陳玉婉入出國日期紀錄各1份等書證，均非屬供述證據，皆無傳聞法則之適用，復均無違反法定程序取得之情形，依刑事訴訟法第158條之4規定之反面解釋，均應有證據能力\n",
            "6: 一、陳泰龍明知其與泰國籍女子陳玉婉（泰國名字為JARUWANWONGPRATOOM，陳玉婉涉嫌本案偽造文書部分，另經臺灣臺南地方法院檢察署檢察官通緝中）間並無結婚之真意，然因詹巧薇、張晉源等人欲找臺灣男子前往泰國與泰國女子辦理假結婚，林清水負責介紹臺灣男子予詹巧薇、張晉源等人以賺取新臺幣（下同）1萬元之仲介費，適陳泰龍依林清水於報紙上刊登之徵人廣告應徵時，由林清水告知泰國女子欲以假結婚之方式申請來臺居留工作，其若擔任假結婚之人頭老公，除不用負擔前往泰國之食宿、機票費用外，尚可獲取5、6萬元之報酬，迨陳泰龍應允同意後，林清水將其轉介紹予詹巧薇、張晉源等人，陳泰龍遂與林清水、詹巧薇、張晉源等人共同基於行使使公務員登載不實公文書之概括犯意聯絡，先由陳泰龍依指示於民國93年4月3日前往泰國，並於同年月7日與陳玉婉在泰國曼谷市法拉坎農區註冊辦事處登記結婚，取得上開註冊辦事處核發之結婚登記書、結婚證書等文件後，陳泰龍即行返臺，並於同年5月19日持經我國駐泰國臺北經濟文化辦事處認證之上開結婚登記書、結婚證書等資料，至臺南縣永康市（改制前稱謂，以下沿用舊制稱謂）戶政事務所填寫結婚登記申請書，申請辦理其與陳玉婉之結婚登記，因此使上開戶政事務所僅有形式審查權之承辦公務員陷於錯誤，於形式上審核後，將陳泰龍與陳玉婉於93年4月7日結婚之不實事項，登載於其職務上所掌屬公文書之戶籍登記資料內，並據以核發戶籍謄本，而足以生損害於戶政機關對於戶政管理及戶籍登記資料維護之正確性\n",
            "7: 經查：(一)被告於93年4月3日前往泰國，並於同年月7日與共犯陳玉婉在泰國曼谷市法拉坎農區註冊辦事處登記結婚，取得上開註冊辦事處核發之結婚登記書、結婚證書等文件後，被告即行返臺，並於同年5月19日持經我國駐泰國臺北經濟文化辦事處認證之上開結婚登記書、結婚證書等資料，至臺南縣永康市戶政事務所填寫結婚登記申請書，申請辦理其與共犯陳玉婉之結婚登記，並取得戶籍謄本\n",
            "8: 迨陳玉婉來臺後，為取得居留身分，再由陳泰龍、陳玉婉承前概括之犯意聯絡，於同年6月14日及94年5月5日，均持前開登載不實之戶籍謄本等資料，先後向臺南縣政府警察局外事課申請核發陳玉婉之外僑居留證及申請居留證延期而連續行使之（業經檢察官當庭補充），經承辦人員實質審查結果，均未發覺陳泰龍與陳玉婉假結婚之實情，而發給陳玉婉居留證或核准延期，各足以生損害於主管機關對外僑居留管理之正確性\n",
            "9:  二、案經臺南市警察局（現改制為臺南市政府警察局，以下沿用舊制稱謂）第一分局報告臺灣臺南地方法院檢察署檢察官偵查起訴\n",
            "10: (二)共犯詹巧薇、張晉源等人當時欲找臺灣人與泰國女子結婚，由共犯林清水於報紙上刊登徵人廣告，若應徵者符合與泰國人結婚之條件，便將應徵者介紹予共犯詹巧薇、張晉源等人，共犯林清水可從中獲取1萬元之仲介費，適被告依前開徵人廣告應徵，共犯林清水衡量其條件後告知其可至泰國結婚，其除不用負擔前往泰國之機票及食宿費用外，尚可獲取5至6萬元之報酬，被告應允同意後，共犯林清水將其介紹予詹巧薇、張晉源等人，被告即依指示前往泰國與為了來臺工作且無結婚真意的共犯陳玉婉辦理結婚事宜等情，業據共犯林清水於警詢時證稱：伊登報徵人到泰國結婚，被告看報紙來的，伊便轉介予共犯詹巧薇，由共犯詹巧薇安排後續到泰國結婚之事宜，被告除不用負擔前往泰國機票、食宿等費用，尚可獲取約5至6萬元酬勞，伊則可自共犯詹巧薇獲取約1萬元之仲介費用；伊只有將被告轉介予共犯詹巧薇，並未參與後續被告前往泰國之證照、機票、食宿等相關事宜；被告係因缺錢，為了賺取擔任人頭配偶的佣金5至6萬，並不是真的要與泰國人結婚，共犯陳玉婉係為了來臺灣工作賺錢，亦不是真的要與臺灣人結婚等語（見警三卷第2至3頁）；並於本院審理時具結證稱：當初共犯詹巧薇、張晉源等人欲找男子前往泰國結婚，伊曾刊登「男、女不限、經驗不拘」等內容之徵人廣告，被告見報應徵時，被告係因缺錢才來找伊，伊衡量被告條件後認為其只能利用結婚賺取報酬，伊才向其表示是要辦結婚，伊告知被告可安排其去泰國結婚，其不用負擔食宿及機票等費用，可實拿5至6萬元的報酬，被告同意後，伊將被告介紹予共犯詹巧薇、張晉源，共犯張晉源給付佣金1萬元予伊；伊與被告談論泰國結婚事宜時，伊與被告均不知被告之結婚對象為何人，伊亦未見過與被告結婚之泰國女子，伊僅介紹被告予共犯詹巧薇、張晉源等人，伊並未參予後續之泰國結婚、辦理結婚登記及居留申請等事情；被告曾給伊一部機車，當時被告表示要去別的地方，機車留在臺南無人使用，伊修理使用一段期間後，因再度壞掉便未再使用等語（見本院卷第68頁背面至71頁）\n",
            "--->\n",
            " 1: 一、陳泰龍明知其與泰國籍女子陳玉婉（泰國名字為JARUWANWONGPRATOOM，陳玉婉涉嫌本案偽造文書部分，另經臺灣臺南地方法院檢察署檢察官通緝中）間並無結婚之真意，然因詹巧薇、張晉源等人欲找臺灣男子前往泰國與泰國女子辦理假結婚，林清水負責介紹臺灣男子予詹巧薇、張晉源等人以賺取新臺幣（下同）1萬元之仲介費，適陳泰龍依林清水於報紙上刊登之徵人廣告應徵時，由林清水告知泰國女子欲以假結婚之方式申請來臺居留工作，其若擔任假結婚之人頭老公，除不用負擔前往泰國之食宿、機票費用外，尚可獲取5、6萬元之報酬，迨陳泰龍應允同意後，林清水將其轉介紹予詹巧薇、張晉源等人，陳泰龍遂與林清水、詹巧薇、張晉源等人共同基於行使使公務員登載不實公文書之概括犯意聯絡，先由陳泰龍依指示於民國93年4月3日前往泰國，並於同年月7日與陳玉婉在泰國曼谷市法拉坎農區註冊辦事處登記結婚，取得上開註冊辦事處核發之結婚登記書、結婚證書等文件後，陳泰龍即行返臺，並於同年5月19日持經我國駐泰國臺北經濟文化辦事處認證之上開結婚登記書、結婚證書等資料，至臺南縣永康市（改制前稱謂，以下沿用舊制稱謂）戶政事務所填寫結婚登記申請書，申請辦理其與陳玉婉之結婚登記，因此使上開戶政事務所僅有形式審查權之承辦公務員陷於錯誤，於形式上審核後，將陳泰龍與陳玉婉於93年4月7日結婚之不實事項，登載於其職務上所掌屬公文書之戶籍登記資料內，並據以核發戶籍謄本，而足以生損害於戶政機關對於戶政管理及戶籍登記資料維護之正確性\n",
            "=======================================================\n",
            "1: 乙、實體方面：一、訊據被告固坦承於上開時、地，透過共犯林清水之介紹，先至泰國辦理與共犯陳玉婉之結婚手續，再前往臺南縣永康市戶政事務所辦理結婚登記，又前往臺南縣政府警察局外事課辦理共犯陳玉婉之外僑居留證及申請居留證延期之事實，惟矢口否認有何行使使公務員登載不實文書情事，於本院審理時辯稱：伊當時經濟狀況良好，因同居女友欲去日本工作而不願結婚，然伊希望結婚生子，遂透過共犯林清水之介紹與安排，共犯林清水先讓伊看過共犯陳玉婉之照片，伊再前往泰國與共犯陳玉婉結婚，伊僅負擔自己的來回機票錢及泰國住宿費用，其他結婚費用均由共犯林清水負擔，伊則贈送伊的一部機車予共犯林清水以為回報，伊並不認識共犯詹巧薇云云\n",
            "2: 迨共犯陳玉婉來臺後，為取得居留身分，被告與共犯陳玉婉於同年6月14日及94年5月5日，均持前開戶籍謄本等資料，先後向臺南縣政府警察局外事課申請核發共犯陳玉婉之外僑居留證及申請居留證延期等情，業據被告供承在卷，並有結婚登記申請書、授權書各1份、結婚登記書、結婚證書各1份（含中文、泰文影本及我國駐泰國臺北經濟文化辦事處認證之資料）、93年6月14日及94年5月5日之外國人居留停留案件聲請表各1份、被告及共犯陳玉婉之入出國日期紀錄各1份、共犯陳玉婉之外僑居留資料查詢1份在卷可按（見警三卷即南市警一刑偵字第0994101517號卷第6至24、33頁）\n",
            "3: 上開事實，首堪認定\n",
            "4: 理由甲、程序方面：一、本件以下所引用具傳聞證據性質之供述證據，因本件被告陳泰龍、檢察官等人於本院準備程序進行時，均未爭執前開陳述之證據能力，且迄至本案言詞辯論終結前亦均未聲明異議，應視為已同意援引作為證據，又本院審酌前開證據作成時之情況及證據取得過程等節，並無非出於任意性、不正取供或其他違法不當情事，且客觀上亦無顯不可信之情況，堪認為適當，是依刑事訴訟法第159條之5規定，均有證據能力\n",
            "5: 二、卷附之被告及陳玉婉入出國日期紀錄各1份等書證，均非屬供述證據，皆無傳聞法則之適用，復均無違反法定程序取得之情形，依刑事訴訟法第158條之4規定之反面解釋，均應有證據能力\n",
            "6: 一、陳泰龍明知其與泰國籍女子陳玉婉（泰國名字為JARUWANWONGPRATOOM，陳玉婉涉嫌本案偽造文書部分，另經臺灣臺南地方法院檢察署檢察官通緝中）間並無結婚之真意，然因詹巧薇、張晉源等人欲找臺灣男子前往泰國與泰國女子辦理假結婚，林清水負責介紹臺灣男子予詹巧薇、張晉源等人以賺取新臺幣（下同）1萬元之仲介費，適陳泰龍依林清水於報紙上刊登之徵人廣告應徵時，由林清水告知泰國女子欲以假結婚之方式申請來臺居留工作，其若擔任假結婚之人頭老公，除不用負擔前往泰國之食宿、機票費用外，尚可獲取5、6萬元之報酬，迨陳泰龍應允同意後，林清水將其轉介紹予詹巧薇、張晉源等人，陳泰龍遂與林清水、詹巧薇、張晉源等人共同基於行使使公務員登載不實公文書之概括犯意聯絡，先由陳泰龍依指示於民國93年4月3日前往泰國，並於同年月7日與陳玉婉在泰國曼谷市法拉坎農區註冊辦事處登記結婚，取得上開註冊辦事處核發之結婚登記書、結婚證書等文件後，陳泰龍即行返臺，並於同年5月19日持經我國駐泰國臺北經濟文化辦事處認證之上開結婚登記書、結婚證書等資料，至臺南縣永康市（改制前稱謂，以下沿用舊制稱謂）戶政事務所填寫結婚登記申請書，申請辦理其與陳玉婉之結婚登記，因此使上開戶政事務所僅有形式審查權之承辦公務員陷於錯誤，於形式上審核後，將陳泰龍與陳玉婉於93年4月7日結婚之不實事項，登載於其職務上所掌屬公文書之戶籍登記資料內，並據以核發戶籍謄本，而足以生損害於戶政機關對於戶政管理及戶籍登記資料維護之正確性\n",
            "7: 經查：(一)被告於93年4月3日前往泰國，並於同年月7日與共犯陳玉婉在泰國曼谷市法拉坎農區註冊辦事處登記結婚，取得上開註冊辦事處核發之結婚登記書、結婚證書等文件後，被告即行返臺，並於同年5月19日持經我國駐泰國臺北經濟文化辦事處認證之上開結婚登記書、結婚證書等資料，至臺南縣永康市戶政事務所填寫結婚登記申請書，申請辦理其與共犯陳玉婉之結婚登記，並取得戶籍謄本\n",
            "8: 迨陳玉婉來臺後，為取得居留身分，再由陳泰龍、陳玉婉承前概括之犯意聯絡，於同年6月14日及94年5月5日，均持前開登載不實之戶籍謄本等資料，先後向臺南縣政府警察局外事課申請核發陳玉婉之外僑居留證及申請居留證延期而連續行使之（業經檢察官當庭補充），經承辦人員實質審查結果，均未發覺陳泰龍與陳玉婉假結婚之實情，而發給陳玉婉居留證或核准延期，各足以生損害於主管機關對外僑居留管理之正確性\n",
            "9:  二、案經臺南市警察局（現改制為臺南市政府警察局，以下沿用舊制稱謂）第一分局報告臺灣臺南地方法院檢察署檢察官偵查起訴\n",
            "10: (二)共犯詹巧薇、張晉源等人當時欲找臺灣人與泰國女子結婚，由共犯林清水於報紙上刊登徵人廣告，若應徵者符合與泰國人結婚之條件，便將應徵者介紹予共犯詹巧薇、張晉源等人，共犯林清水可從中獲取1萬元之仲介費，適被告依前開徵人廣告應徵，共犯林清水衡量其條件後告知其可至泰國結婚，其除不用負擔前往泰國之機票及食宿費用外，尚可獲取5至6萬元之報酬，被告應允同意後，共犯林清水將其介紹予詹巧薇、張晉源等人，被告即依指示前往泰國與為了來臺工作且無結婚真意的共犯陳玉婉辦理結婚事宜等情，業據共犯林清水於警詢時證稱：伊登報徵人到泰國結婚，被告看報紙來的，伊便轉介予共犯詹巧薇，由共犯詹巧薇安排後續到泰國結婚之事宜，被告除不用負擔前往泰國機票、食宿等費用，尚可獲取約5至6萬元酬勞，伊則可自共犯詹巧薇獲取約1萬元之仲介費用；伊只有將被告轉介予共犯詹巧薇，並未參與後續被告前往泰國之證照、機票、食宿等相關事宜；被告係因缺錢，為了賺取擔任人頭配偶的佣金5至6萬，並不是真的要與泰國人結婚，共犯陳玉婉係為了來臺灣工作賺錢，亦不是真的要與臺灣人結婚等語（見警三卷第2至3頁）；並於本院審理時具結證稱：當初共犯詹巧薇、張晉源等人欲找男子前往泰國結婚，伊曾刊登「男、女不限、經驗不拘」等內容之徵人廣告，被告見報應徵時，被告係因缺錢才來找伊，伊衡量被告條件後認為其只能利用結婚賺取報酬，伊才向其表示是要辦結婚，伊告知被告可安排其去泰國結婚，其不用負擔食宿及機票等費用，可實拿5至6萬元的報酬，被告同意後，伊將被告介紹予共犯詹巧薇、張晉源，共犯張晉源給付佣金1萬元予伊；伊與被告談論泰國結婚事宜時，伊與被告均不知被告之結婚對象為何人，伊亦未見過與被告結婚之泰國女子，伊僅介紹被告予共犯詹巧薇、張晉源等人，伊並未參予後續之泰國結婚、辦理結婚登記及居留申請等事情；被告曾給伊一部機車，當時被告表示要去別的地方，機車留在臺南無人使用，伊修理使用一段期間後，因再度壞掉便未再使用等語（見本院卷第68頁背面至71頁）\n",
            "--->\n",
            " 1: (二)共犯詹巧薇、張晉源等人當時欲找臺灣人與泰國女子結婚，由共犯林清水於報紙上刊登徵人廣告，若應徵者符合與泰國人結婚之條件，便將應徵者介紹予共犯詹巧薇、張晉源等人，共犯林清水可從中獲取1萬元之仲介費，適被告依前開徵人廣告應徵，共犯林清水衡量其條件後告知其可至泰國結婚，其除不用負擔前往泰國之機票及食宿費用外，尚可獲取5至6萬元之報酬，被告應允同意後，共犯林清水將其介紹予詹巧薇、張晉源等人，被告即依指示前往泰國與為了來臺工作且無結婚真意的共犯陳玉婉辦理結婚事宜等情，業據共犯林清水於警詢時證稱：伊登報徵人到泰國結婚，被告看報紙來的，伊便轉介予共犯詹巧薇，由共犯詹巧薇安排後續到泰國結婚之事宜，被告除不用負擔前往泰國機票、食宿等費用，尚可獲取約5至6萬元酬勞，伊則可自共犯詹巧薇獲取約1萬元之仲介費用；伊只有將被告轉介予共犯詹巧薇，並未參與後續被告前往泰國之證照、機票、食宿等相關事宜；被告係因缺錢，為了賺取擔任人頭配偶的佣金5至6萬，並不是真的要與泰國人結婚，共犯陳玉婉係為了來臺灣工作賺錢，亦不是真的要與臺灣人結婚等語（見警三卷第2至3頁）；並於本院審理時具結證稱：當初共犯詹巧薇、張晉源等人欲找男子前往泰國結婚，伊曾刊登「男、女不限、經驗不拘」等內容之徵人廣告，被告見報應徵時，被告係因缺錢才來找伊，伊衡量被告條件後認為其只能利用結婚賺取報酬，伊才向其表示是要辦結婚，伊告知被告可安排其去泰國結婚，其不用負擔食宿及機票等費用，可實拿5至6萬元的報酬，被告同意後，伊將被告介紹予共犯詹巧薇、張晉源，共犯張晉源給付佣金1萬元予伊；伊與被告談論泰國結婚事宜時，伊與被告均不知被告之結婚對象為何人，伊亦未見過與被告結婚之泰國女子，伊僅介紹被告予共犯詹巧薇、張晉源等人，伊並未參予後續之泰國結婚、辦理結婚登記及居留申請等事情；被告曾給伊一部機車，當時被告表示要去別的地方，機車留在臺南無人使用，伊修理使用一段期間後，因再度壞掉便未再使用等語（見本院卷第68頁背面至71頁）\n",
            "\n",
            "3: 二、案經臺南市警察局（現改制為臺南市政府警察局，以下沿用舊制稱謂）第一分局報告臺灣臺南地方法院檢察署檢察官偵查起訴\n",
            "\n",
            "4: 理由甲、程序方面：一、本件以下所引用具傳聞證據性質之供述證據，因本件被告陳泰龍、檢察官等人於本院準備程序進行時，均未爭執前開陳述之證據能力，且迄至本案言詞辯論終結前亦均未聲明異議，應視為已同意援引作為證據，又本院審酌前開證據作成時之情況及證據取得過程等節，並無非出於任意性、不正取供或其他違法不當情事，且客觀上亦無顯不可信之情況，堪認為適當，是依刑事訴訟法第159條之5規定，均有證據能力\n",
            "\n",
            "5: 二、卷附之被告及陳玉婉入出國日期紀錄各1份等書證，均非屬供述證據，皆無傳聞法則之適用，復均無違反法定程序取得之情形，依刑事訴訟法第158條之4規定之反面解釋，均應有證據能力\n",
            "\n",
            "6: 乙、實體方面：一、訊據被告固坦承於上開時、地，透過共犯林清水之介紹，先至泰國辦理與共犯陳玉婉之結婚手續，再前往臺南縣永康市戶政事務所辦理結婚登記，又前往臺南縣政府警察局外事課辦理共犯陳玉婉之外僑居留證及申請居留證延期之事實，惟矢口否認有何行使使公務員登載不實文書情事，於本院審理時辯稱：伊當時經濟狀況良好，因同居女友欲去日本工作而不願結婚，然伊希望結婚生子，遂透過共犯林清水之介紹與安排，共犯林清水先讓伊看過共犯陳\n",
            "=======================================================\n"
          ]
        }
      ],
      "source": [
        "print(prompt1)\n",
        "print(\"--->\")\n",
        "print(get_breeze(query+prompt1))\n",
        "print(\"=======================================================\")\n",
        "print(prompt1)\n",
        "print(\"--->\")\n",
        "print(get_breeze(query+prompt2))\n",
        "print(\"=======================================================\")\n",
        "print(prompt1)\n",
        "print(\"--->\")\n",
        "print(get_breeze(query+prompt3))\n",
        "print(\"=======================================================\")"
      ]
    },
    {
      "cell_type": "code",
      "execution_count": null,
      "metadata": {
        "id": "_UF4q8ZfHWYI"
      },
      "outputs": [],
      "source": [
        "query = \"以下句子都是來自偽造文書罪的判決書，請從這些句子中挑選出包含事實情節描述、判決結果或理由的三個句子：\\n\""
      ]
    },
    {
      "cell_type": "code",
      "execution_count": null,
      "metadata": {
        "colab": {
          "base_uri": "https://localhost:8080/"
        },
        "id": "T_PG0MC1HX19",
        "outputId": "310e57ab-17ea-44fb-e192-f3ec72e051fa"
      },
      "outputs": [
        {
          "name": "stdout",
          "output_type": "stream",
          "text": [
            "1: 乙、實體方面：一、訊據被告固坦承於上開時、地，透過共犯林清水之介紹，先至泰國辦理與共犯陳玉婉之結婚手續，再前往臺南縣永康市戶政事務所辦理結婚登記，又前往臺南縣政府警察局外事課辦理共犯陳玉婉之外僑居留證及申請居留證延期之事實，惟矢口否認有何行使使公務員登載不實文書情事，於本院審理時辯稱：伊當時經濟狀況良好，因同居女友欲去日本工作而不願結婚，然伊希望結婚生子，遂透過共犯林清水之介紹與安排，共犯林清水先讓伊看過共犯陳玉婉之照片，伊再前往泰國與共犯陳玉婉結婚，伊僅負擔自己的來回機票錢及泰國住宿費用，其他結婚費用均由共犯林清水負擔，伊則贈送伊的一部機車予共犯林清水以為回報，伊並不認識共犯詹巧薇云云\n",
            "2: 迨共犯陳玉婉來臺後，為取得居留身分，被告與共犯陳玉婉於同年6月14日及94年5月5日，均持前開戶籍謄本等資料，先後向臺南縣政府警察局外事課申請核發共犯陳玉婉之外僑居留證及申請居留證延期等情，業據被告供承在卷，並有結婚登記申請書、授權書各1份、結婚登記書、結婚證書各1份（含中文、泰文影本及我國駐泰國臺北經濟文化辦事處認證之資料）、93年6月14日及94年5月5日之外國人居留停留案件聲請表各1份、被告及共犯陳玉婉之入出國日期紀錄各1份、共犯陳玉婉之外僑居留資料查詢1份在卷可按（見警三卷即南市警一刑偵字第0994101517號卷第6至24、33頁）\n",
            "3: 上開事實，首堪認定\n",
            "4: 理由甲、程序方面：一、本件以下所引用具傳聞證據性質之供述證據，因本件被告陳泰龍、檢察官等人於本院準備程序進行時，均未爭執前開陳述之證據能力，且迄至本案言詞辯論終結前亦均未聲明異議，應視為已同意援引作為證據，又本院審酌前開證據作成時之情況及證據取得過程等節，並無非出於任意性、不正取供或其他違法不當情事，且客觀上亦無顯不可信之情況，堪認為適當，是依刑事訴訟法第159條之5規定，均有證據能力\n",
            "5: 二、卷附之被告及陳玉婉入出國日期紀錄各1份等書證，均非屬供述證據，皆無傳聞法則之適用，復均無違反法定程序取得之情形，依刑事訴訟法第158條之4規定之反面解釋，均應有證據能力\n",
            "6: 一、陳泰龍明知其與泰國籍女子陳玉婉（泰國名字為JARUWANWONGPRATOOM，陳玉婉涉嫌本案偽造文書部分，另經臺灣臺南地方法院檢察署檢察官通緝中）間並無結婚之真意，然因詹巧薇、張晉源等人欲找臺灣男子前往泰國與泰國女子辦理假結婚，林清水負責介紹臺灣男子予詹巧薇、張晉源等人以賺取新臺幣（下同）1萬元之仲介費，適陳泰龍依林清水於報紙上刊登之徵人廣告應徵時，由林清水告知泰國女子欲以假結婚之方式申請來臺居留工作，其若擔任假結婚之人頭老公，除不用負擔前往泰國之食宿、機票費用外，尚可獲取5、6萬元之報酬，迨陳泰龍應允同意後，林清水將其轉介紹予詹巧薇、張晉源等人，陳泰龍遂與林清水、詹巧薇、張晉源等人共同基於行使使公務員登載不實公文書之概括犯意聯絡，先由陳泰龍依指示於民國93年4月3日前往泰國，並於同年月7日與陳玉婉在泰國曼谷市法拉坎農區註冊辦事處登記結婚，取得上開註冊辦事處核發之結婚登記書、結婚證書等文件後，陳泰龍即行返臺，並於同年5月19日持經我國駐泰國臺北經濟文化辦事處認證之上開結婚登記書、結婚證書等資料，至臺南縣永康市（改制前稱謂，以下沿用舊制稱謂）戶政事務所填寫結婚登記申請書，申請辦理其與陳玉婉之結婚登記，因此使上開戶政事務所僅有形式審查權之承辦公務員陷於錯誤，於形式上審核後，將陳泰龍與陳玉婉於93年4月7日結婚之不實事項，登載於其職務上所掌屬公文書之戶籍登記資料內，並據以核發戶籍謄本，而足以生損害於戶政機關對於戶政管理及戶籍登記資料維護之正確性\n",
            "7: 經查：(一)被告於93年4月3日前往泰國，並於同年月7日與共犯陳玉婉在泰國曼谷市法拉坎農區註冊辦事處登記結婚，取得上開註冊辦事處核發之結婚登記書、結婚證書等文件後，被告即行返臺，並於同年5月19日持經我國駐泰國臺北經濟文化辦事處認證之上開結婚登記書、結婚證書等資料，至臺南縣永康市戶政事務所填寫結婚登記申請書，申請辦理其與共犯陳玉婉之結婚登記，並取得戶籍謄本\n",
            "8: 迨陳玉婉來臺後，為取得居留身分，再由陳泰龍、陳玉婉承前概括之犯意聯絡，於同年6月14日及94年5月5日，均持前開登載不實之戶籍謄本等資料，先後向臺南縣政府警察局外事課申請核發陳玉婉之外僑居留證及申請居留證延期而連續行使之（業經檢察官當庭補充），經承辦人員實質審查結果，均未發覺陳泰龍與陳玉婉假結婚之實情，而發給陳玉婉居留證或核准延期，各足以生損害於主管機關對外僑居留管理之正確性\n",
            "9:  二、案經臺南市警察局（現改制為臺南市政府警察局，以下沿用舊制稱謂）第一分局報告臺灣臺南地方法院檢察署檢察官偵查起訴\n",
            "10: (二)共犯詹巧薇、張晉源等人當時欲找臺灣人與泰國女子結婚，由共犯林清水於報紙上刊登徵人廣告，若應徵者符合與泰國人結婚之條件，便將應徵者介紹予共犯詹巧薇、張晉源等人，共犯林清水可從中獲取1萬元之仲介費，適被告依前開徵人廣告應徵，共犯林清水衡量其條件後告知其可至泰國結婚，其除不用負擔前往泰國之機票及食宿費用外，尚可獲取5至6萬元之報酬，被告應允同意後，共犯林清水將其介紹予詹巧薇、張晉源等人，被告即依指示前往泰國與為了來臺工作且無結婚真意的共犯陳玉婉辦理結婚事宜等情，業據共犯林清水於警詢時證稱：伊登報徵人到泰國結婚，被告看報紙來的，伊便轉介予共犯詹巧薇，由共犯詹巧薇安排後續到泰國結婚之事宜，被告除不用負擔前往泰國機票、食宿等費用，尚可獲取約5至6萬元酬勞，伊則可自共犯詹巧薇獲取約1萬元之仲介費用；伊只有將被告轉介予共犯詹巧薇，並未參與後續被告前往泰國之證照、機票、食宿等相關事宜；被告係因缺錢，為了賺取擔任人頭配偶的佣金5至6萬，並不是真的要與泰國人結婚，共犯陳玉婉係為了來臺灣工作賺錢，亦不是真的要與臺灣人結婚等語（見警三卷第2至3頁）；並於本院審理時具結證稱：當初共犯詹巧薇、張晉源等人欲找男子前往泰國結婚，伊曾刊登「男、女不限、經驗不拘」等內容之徵人廣告，被告見報應徵時，被告係因缺錢才來找伊，伊衡量被告條件後認為其只能利用結婚賺取報酬，伊才向其表示是要辦結婚，伊告知被告可安排其去泰國結婚，其不用負擔食宿及機票等費用，可實拿5至6萬元的報酬，被告同意後，伊將被告介紹予共犯詹巧薇、張晉源，共犯張晉源給付佣金1萬元予伊；伊與被告談論泰國結婚事宜時，伊與被告均不知被告之結婚對象為何人，伊亦未見過與被告結婚之泰國女子，伊僅介紹被告予共犯詹巧薇、張晉源等人，伊並未參予後續之泰國結婚、辦理結婚登記及居留申請等事情；被告曾給伊一部機車，當時被告表示要去別的地方，機車留在臺南無人使用，伊修理使用一段期間後，因再度壞掉便未再使用等語（見本院卷第68頁背面至71頁）\n",
            "--->\n",
            " 1: 被告固坦承於上開時、地，透過共犯林清水之介紹，先至泰國辦理與共犯陳玉婉之結婚手續，再前往臺南縣永康市戶政事務所辦理結婚登記，又前往臺南縣政府警察局外事課辦理共犯陳玉婉之外僑居留證及申請居留證延期之事實，惟矢口否認有何行使使公務員登載不實文書情事，於本院審理時辯稱：伊當時經濟狀況良好，因同居女友欲去日本工作而不願結婚，然伊希望結婚生子，遂透過共犯林清水之介紹與安排，共犯林清水先讓伊看過共犯陳玉婉之照片，伊再前往泰國與共犯陳玉婉結婚，伊僅負擔自己的來回機票錢及泰國住宿費用，其他結婚費用均由共犯林清水負擔，伊則贈送伊的一部機車予共犯林清水以為回報，伊並不認識共犯詹巧薇云云。\n",
            "\n",
            "3: 上開事實，首堪認定\n",
            "\n",
            "5: 二、卷附之被告及陳玉婉入出國日期紀錄各1份等書證，均非屬供述證據，皆無傳聞法則之適用，復均無違反法定程序取得之情形，依刑事訴訟法第158條之4規定之反面解釋，均應有證據能力\n",
            "=======================================================\n",
            "1: 乙、實體方面：一、訊據被告固坦承於上開時、地，透過共犯林清水之介紹，先至泰國辦理與共犯陳玉婉之結婚手續，再前往臺南縣永康市戶政事務所辦理結婚登記，又前往臺南縣政府警察局外事課辦理共犯陳玉婉之外僑居留證及申請居留證延期之事實，惟矢口否認有何行使使公務員登載不實文書情事，於本院審理時辯稱：伊當時經濟狀況良好，因同居女友欲去日本工作而不願結婚，然伊希望結婚生子，遂透過共犯林清水之介紹與安排，共犯林清水先讓伊看過共犯陳玉婉之照片，伊再前往泰國與共犯陳玉婉結婚，伊僅負擔自己的來回機票錢及泰國住宿費用，其他結婚費用均由共犯林清水負擔，伊則贈送伊的一部機車予共犯林清水以為回報，伊並不認識共犯詹巧薇云云\n",
            "2: 迨共犯陳玉婉來臺後，為取得居留身分，被告與共犯陳玉婉於同年6月14日及94年5月5日，均持前開戶籍謄本等資料，先後向臺南縣政府警察局外事課申請核發共犯陳玉婉之外僑居留證及申請居留證延期等情，業據被告供承在卷，並有結婚登記申請書、授權書各1份、結婚登記書、結婚證書各1份（含中文、泰文影本及我國駐泰國臺北經濟文化辦事處認證之資料）、93年6月14日及94年5月5日之外國人居留停留案件聲請表各1份、被告及共犯陳玉婉之入出國日期紀錄各1份、共犯陳玉婉之外僑居留資料查詢1份在卷可按（見警三卷即南市警一刑偵字第0994101517號卷第6至24、33頁）\n",
            "3: 上開事實，首堪認定\n",
            "4: 理由甲、程序方面：一、本件以下所引用具傳聞證據性質之供述證據，因本件被告陳泰龍、檢察官等人於本院準備程序進行時，均未爭執前開陳述之證據能力，且迄至本案言詞辯論終結前亦均未聲明異議，應視為已同意援引作為證據，又本院審酌前開證據作成時之情況及證據取得過程等節，並無非出於任意性、不正取供或其他違法不當情事，且客觀上亦無顯不可信之情況，堪認為適當，是依刑事訴訟法第159條之5規定，均有證據能力\n",
            "5: 二、卷附之被告及陳玉婉入出國日期紀錄各1份等書證，均非屬供述證據，皆無傳聞法則之適用，復均無違反法定程序取得之情形，依刑事訴訟法第158條之4規定之反面解釋，均應有證據能力\n",
            "6: 一、陳泰龍明知其與泰國籍女子陳玉婉（泰國名字為JARUWANWONGPRATOOM，陳玉婉涉嫌本案偽造文書部分，另經臺灣臺南地方法院檢察署檢察官通緝中）間並無結婚之真意，然因詹巧薇、張晉源等人欲找臺灣男子前往泰國與泰國女子辦理假結婚，林清水負責介紹臺灣男子予詹巧薇、張晉源等人以賺取新臺幣（下同）1萬元之仲介費，適陳泰龍依林清水於報紙上刊登之徵人廣告應徵時，由林清水告知泰國女子欲以假結婚之方式申請來臺居留工作，其若擔任假結婚之人頭老公，除不用負擔前往泰國之食宿、機票費用外，尚可獲取5、6萬元之報酬，迨陳泰龍應允同意後，林清水將其轉介紹予詹巧薇、張晉源等人，陳泰龍遂與林清水、詹巧薇、張晉源等人共同基於行使使公務員登載不實公文書之概括犯意聯絡，先由陳泰龍依指示於民國93年4月3日前往泰國，並於同年月7日與陳玉婉在泰國曼谷市法拉坎農區註冊辦事處登記結婚，取得上開註冊辦事處核發之結婚登記書、結婚證書等文件後，陳泰龍即行返臺，並於同年5月19日持經我國駐泰國臺北經濟文化辦事處認證之上開結婚登記書、結婚證書等資料，至臺南縣永康市（改制前稱謂，以下沿用舊制稱謂）戶政事務所填寫結婚登記申請書，申請辦理其與陳玉婉之結婚登記，因此使上開戶政事務所僅有形式審查權之承辦公務員陷於錯誤，於形式上審核後，將陳泰龍與陳玉婉於93年4月7日結婚之不實事項，登載於其職務上所掌屬公文書之戶籍登記資料內，並據以核發戶籍謄本，而足以生損害於戶政機關對於戶政管理及戶籍登記資料維護之正確性\n",
            "7: 經查：(一)被告於93年4月3日前往泰國，並於同年月7日與共犯陳玉婉在泰國曼谷市法拉坎農區註冊辦事處登記結婚，取得上開註冊辦事處核發之結婚登記書、結婚證書等文件後，被告即行返臺，並於同年5月19日持經我國駐泰國臺北經濟文化辦事處認證之上開結婚登記書、結婚證書等資料，至臺南縣永康市戶政事務所填寫結婚登記申請書，申請辦理其與共犯陳玉婉之結婚登記，並取得戶籍謄本\n",
            "8: 迨陳玉婉來臺後，為取得居留身分，再由陳泰龍、陳玉婉承前概括之犯意聯絡，於同年6月14日及94年5月5日，均持前開登載不實之戶籍謄本等資料，先後向臺南縣政府警察局外事課申請核發陳玉婉之外僑居留證及申請居留證延期而連續行使之（業經檢察官當庭補充），經承辦人員實質審查結果，均未發覺陳泰龍與陳玉婉假結婚之實情，而發給陳玉婉居留證或核准延期，各足以生損害於主管機關對外僑居留管理之正確性\n",
            "9:  二、案經臺南市警察局（現改制為臺南市政府警察局，以下沿用舊制稱謂）第一分局報告臺灣臺南地方法院檢察署檢察官偵查起訴\n",
            "10: (二)共犯詹巧薇、張晉源等人當時欲找臺灣人與泰國女子結婚，由共犯林清水於報紙上刊登徵人廣告，若應徵者符合與泰國人結婚之條件，便將應徵者介紹予共犯詹巧薇、張晉源等人，共犯林清水可從中獲取1萬元之仲介費，適被告依前開徵人廣告應徵，共犯林清水衡量其條件後告知其可至泰國結婚，其除不用負擔前往泰國之機票及食宿費用外，尚可獲取5至6萬元之報酬，被告應允同意後，共犯林清水將其介紹予詹巧薇、張晉源等人，被告即依指示前往泰國與為了來臺工作且無結婚真意的共犯陳玉婉辦理結婚事宜等情，業據共犯林清水於警詢時證稱：伊登報徵人到泰國結婚，被告看報紙來的，伊便轉介予共犯詹巧薇，由共犯詹巧薇安排後續到泰國結婚之事宜，被告除不用負擔前往泰國機票、食宿等費用，尚可獲取約5至6萬元酬勞，伊則可自共犯詹巧薇獲取約1萬元之仲介費用；伊只有將被告轉介予共犯詹巧薇，並未參與後續被告前往泰國之證照、機票、食宿等相關事宜；被告係因缺錢，為了賺取擔任人頭配偶的佣金5至6萬，並不是真的要與泰國人結婚，共犯陳玉婉係為了來臺灣工作賺錢，亦不是真的要與臺灣人結婚等語（見警三卷第2至3頁）；並於本院審理時具結證稱：當初共犯詹巧薇、張晉源等人欲找男子前往泰國結婚，伊曾刊登「男、女不限、經驗不拘」等內容之徵人廣告，被告見報應徵時，被告係因缺錢才來找伊，伊衡量被告條件後認為其只能利用結婚賺取報酬，伊才向其表示是要辦結婚，伊告知被告可安排其去泰國結婚，其不用負擔食宿及機票等費用，可實拿5至6萬元的報酬，被告同意後，伊將被告介紹予共犯詹巧薇、張晉源，共犯張晉源給付佣金1萬元予伊；伊與被告談論泰國結婚事宜時，伊與被告均不知被告之結婚對象為何人，伊亦未見過與被告結婚之泰國女子，伊僅介紹被告予共犯詹巧薇、張晉源等人，伊並未參予後續之泰國結婚、辦理結婚登記及居留申請等事情；被告曾給伊一部機車，當時被告表示要去別的地方，機車留在臺南無人使用，伊修理使用一段期間後，因再度壞掉便未再使用等語（見本院卷第68頁背面至71頁）\n",
            "--->\n",
            " 1: 陳泰龍明知其與泰國籍女子陳玉婉（泰國名字為JARUWANWONGPRATOOM，陳玉婉涉嫌本案偽造文書部分，另經臺灣臺南地方法院檢察署檢察官通緝中）間並無結婚之真意，然因詹巧薇、張晉源等人欲找臺灣男子前往泰國與泰國女子辦理假結婚，林清水負責介紹臺灣男子予詹巧薇、張晉源等人以賺取新臺幣（下同）1萬元之仲介費，適陳泰龍依林清水於報紙上刊登之徵人廣告應徵時，由林清水告知泰國女子欲以假結婚之方式申請來臺居留工作，其若擔任假結婚之人頭老公，除不用負擔前往泰國之食宿、機票費用外，尚可獲取5、6萬元之報酬，迨陳泰龍應允同意後，林清水將其轉介紹予詹巧薇、張晉源等人，陳泰龍遂與林清水、詹巧薇、張晉源等人共同基於行使使公務員登載不實公文書之概括犯意聯絡，先由陳泰龍依指示於民國93年4月3日前往泰國，並於同年月7日與陳玉婉在泰國曼谷市法拉坎農區註冊辦事處登記結婚，取得上開註冊辦事處核發之結婚登記書、結婚證書等文件後，陳泰龍即行返臺，並於同年5月19日持經我國駐泰國臺北經濟文化辦事處認證之上開結婚登記書、結婚證書等資料，至臺南縣永康市（改制前稱謂，以下沿用舊制稱謂）戶政事務所填寫結婚登記申請書，申請辦理其與陳玉婉之結婚登記，因此使上開戶政事務所僅有形式審查權之承辦公務員陷於錯誤，於形式上審核後，將陳泰龍與陳玉婉於93年4月7日結婚之不實事項，登載於其職務上所掌屬公文書之戶籍登記資料內，並據以核發戶籍謄本，而足以生損害於戶政機關對於戶政管理及戶籍登記資料維護之正確性。\n",
            "\n",
            "3: 案經臺南市警察局（現改制為臺南市政府警察局，以下沿用舊制稱謂）第一分局報告臺灣臺南地方法院檢察署檢察官偵查起訴。\n",
            "\n",
            "4: 理由甲、程序方面：一、本件以下所引用具傳聞證據性質之供述證據，因本件被告陳泰龍、檢察官等人於本院準備程序進行時，均未爭執前開陳述之證據能力，且迄至本案言詞辯論終結前亦均未聲明異議，應視為已同意援引作為證據，又本院審酌前開證據作成時之情況及證據取得過程等節，並無非出於任意性、不正取供或其他違法不當情事，且客觀上亦無顯不可信之情況，堪認為適當，是依刑事訴訟法第159條之5規定，均有證據能力。\n",
            "\n",
            "5: 二、卷附之被告及陳玉婉入出國日期紀錄各1份等書證，均非屬供述證據，皆無傳聞法則之適用，復均無違反法定程序取得之情形，依刑事訴訟法第158條之4規定之反面解釋，均應有證據能力。\n",
            "\n",
            "6: 乙、實體方面：一、訊據被告固坦承於上開時、地，透過共犯林清水之介紹，先至泰國辦理與共犯陳玉婉之結婚手續，再前往臺南縣永康市戶政事務所辦理結婚登記，又前往臺南縣政府警察局外事課辦理共犯陳玉婉之外僑居留證及申請居留證延期之事實，惟矢口否認有何行使使公務員登載不實文書情事，於本院審理時辯稱：伊當時經濟狀況良好，因同居女友欲去日本工作而不願結婚，然伊希望結婚生子，遂透過共犯林清水之介紹與安排，共犯林清水先讓伊看過共犯陳玉婉之照片，伊再前往泰國與共犯陳玉婉結婚，伊僅負擔自己的來回機票錢及泰國住宿費用，其他結婚費用均由共犯林清水負擔，伊則贈送伊的一部機車予共犯林清水以為回報，伊並不認識共犯詹巧薇云云。\n",
            "=======================================================\n",
            "1: 乙、實體方面：一、訊據被告固坦承於上開時、地，透過共犯林清水之介紹，先至泰國辦理與共犯陳玉婉之結婚手續，再前往臺南縣永康市戶政事務所辦理結婚登記，又前往臺南縣政府警察局外事課辦理共犯陳玉婉之外僑居留證及申請居留證延期之事實，惟矢口否認有何行使使公務員登載不實文書情事，於本院審理時辯稱：伊當時經濟狀況良好，因同居女友欲去日本工作而不願結婚，然伊希望結婚生子，遂透過共犯林清水之介紹與安排，共犯林清水先讓伊看過共犯陳玉婉之照片，伊再前往泰國與共犯陳玉婉結婚，伊僅負擔自己的來回機票錢及泰國住宿費用，其他結婚費用均由共犯林清水負擔，伊則贈送伊的一部機車予共犯林清水以為回報，伊並不認識共犯詹巧薇云云\n",
            "2: 迨共犯陳玉婉來臺後，為取得居留身分，被告與共犯陳玉婉於同年6月14日及94年5月5日，均持前開戶籍謄本等資料，先後向臺南縣政府警察局外事課申請核發共犯陳玉婉之外僑居留證及申請居留證延期等情，業據被告供承在卷，並有結婚登記申請書、授權書各1份、結婚登記書、結婚證書各1份（含中文、泰文影本及我國駐泰國臺北經濟文化辦事處認證之資料）、93年6月14日及94年5月5日之外國人居留停留案件聲請表各1份、被告及共犯陳玉婉之入出國日期紀錄各1份、共犯陳玉婉之外僑居留資料查詢1份在卷可按（見警三卷即南市警一刑偵字第0994101517號卷第6至24、33頁）\n",
            "3: 上開事實，首堪認定\n",
            "4: 理由甲、程序方面：一、本件以下所引用具傳聞證據性質之供述證據，因本件被告陳泰龍、檢察官等人於本院準備程序進行時，均未爭執前開陳述之證據能力，且迄至本案言詞辯論終結前亦均未聲明異議，應視為已同意援引作為證據，又本院審酌前開證據作成時之情況及證據取得過程等節，並無非出於任意性、不正取供或其他違法不當情事，且客觀上亦無顯不可信之情況，堪認為適當，是依刑事訴訟法第159條之5規定，均有證據能力\n",
            "5: 二、卷附之被告及陳玉婉入出國日期紀錄各1份等書證，均非屬供述證據，皆無傳聞法則之適用，復均無違反法定程序取得之情形，依刑事訴訟法第158條之4規定之反面解釋，均應有證據能力\n",
            "6: 一、陳泰龍明知其與泰國籍女子陳玉婉（泰國名字為JARUWANWONGPRATOOM，陳玉婉涉嫌本案偽造文書部分，另經臺灣臺南地方法院檢察署檢察官通緝中）間並無結婚之真意，然因詹巧薇、張晉源等人欲找臺灣男子前往泰國與泰國女子辦理假結婚，林清水負責介紹臺灣男子予詹巧薇、張晉源等人以賺取新臺幣（下同）1萬元之仲介費，適陳泰龍依林清水於報紙上刊登之徵人廣告應徵時，由林清水告知泰國女子欲以假結婚之方式申請來臺居留工作，其若擔任假結婚之人頭老公，除不用負擔前往泰國之食宿、機票費用外，尚可獲取5、6萬元之報酬，迨陳泰龍應允同意後，林清水將其轉介紹予詹巧薇、張晉源等人，陳泰龍遂與林清水、詹巧薇、張晉源等人共同基於行使使公務員登載不實公文書之概括犯意聯絡，先由陳泰龍依指示於民國93年4月3日前往泰國，並於同年月7日與陳玉婉在泰國曼谷市法拉坎農區註冊辦事處登記結婚，取得上開註冊辦事處核發之結婚登記書、結婚證書等文件後，陳泰龍即行返臺，並於同年5月19日持經我國駐泰國臺北經濟文化辦事處認證之上開結婚登記書、結婚證書等資料，至臺南縣永康市（改制前稱謂，以下沿用舊制稱謂）戶政事務所填寫結婚登記申請書，申請辦理其與陳玉婉之結婚登記，因此使上開戶政事務所僅有形式審查權之承辦公務員陷於錯誤，於形式上審核後，將陳泰龍與陳玉婉於93年4月7日結婚之不實事項，登載於其職務上所掌屬公文書之戶籍登記資料內，並據以核發戶籍謄本，而足以生損害於戶政機關對於戶政管理及戶籍登記資料維護之正確性\n",
            "7: 經查：(一)被告於93年4月3日前往泰國，並於同年月7日與共犯陳玉婉在泰國曼谷市法拉坎農區註冊辦事處登記結婚，取得上開註冊辦事處核發之結婚登記書、結婚證書等文件後，被告即行返臺，並於同年5月19日持經我國駐泰國臺北經濟文化辦事處認證之上開結婚登記書、結婚證書等資料，至臺南縣永康市戶政事務所填寫結婚登記申請書，申請辦理其與共犯陳玉婉之結婚登記，並取得戶籍謄本\n",
            "8: 迨陳玉婉來臺後，為取得居留身分，再由陳泰龍、陳玉婉承前概括之犯意聯絡，於同年6月14日及94年5月5日，均持前開登載不實之戶籍謄本等資料，先後向臺南縣政府警察局外事課申請核發陳玉婉之外僑居留證及申請居留證延期而連續行使之（業經檢察官當庭補充），經承辦人員實質審查結果，均未發覺陳泰龍與陳玉婉假結婚之實情，而發給陳玉婉居留證或核准延期，各足以生損害於主管機關對外僑居留管理之正確性\n",
            "9:  二、案經臺南市警察局（現改制為臺南市政府警察局，以下沿用舊制稱謂）第一分局報告臺灣臺南地方法院檢察署檢察官偵查起訴\n",
            "10: (二)共犯詹巧薇、張晉源等人當時欲找臺灣人與泰國女子結婚，由共犯林清水於報紙上刊登徵人廣告，若應徵者符合與泰國人結婚之條件，便將應徵者介紹予共犯詹巧薇、張晉源等人，共犯林清水可從中獲取1萬元之仲介費，適被告依前開徵人廣告應徵，共犯林清水衡量其條件後告知其可至泰國結婚，其除不用負擔前往泰國之機票及食宿費用外，尚可獲取5至6萬元之報酬，被告應允同意後，共犯林清水將其介紹予詹巧薇、張晉源等人，被告即依指示前往泰國與為了來臺工作且無結婚真意的共犯陳玉婉辦理結婚事宜等情，業據共犯林清水於警詢時證稱：伊登報徵人到泰國結婚，被告看報紙來的，伊便轉介予共犯詹巧薇，由共犯詹巧薇安排後續到泰國結婚之事宜，被告除不用負擔前往泰國機票、食宿等費用，尚可獲取約5至6萬元酬勞，伊則可自共犯詹巧薇獲取約1萬元之仲介費用；伊只有將被告轉介予共犯詹巧薇，並未參與後續被告前往泰國之證照、機票、食宿等相關事宜；被告係因缺錢，為了賺取擔任人頭配偶的佣金5至6萬，並不是真的要與泰國人結婚，共犯陳玉婉係為了來臺灣工作賺錢，亦不是真的要與臺灣人結婚等語（見警三卷第2至3頁）；並於本院審理時具結證稱：當初共犯詹巧薇、張晉源等人欲找男子前往泰國結婚，伊曾刊登「男、女不限、經驗不拘」等內容之徵人廣告，被告見報應徵時，被告係因缺錢才來找伊，伊衡量被告條件後認為其只能利用結婚賺取報酬，伊才向其表示是要辦結婚，伊告知被告可安排其去泰國結婚，其不用負擔食宿及機票等費用，可實拿5至6萬元的報酬，被告同意後，伊將被告介紹予共犯詹巧薇、張晉源，共犯張晉源給付佣金1萬元予伊；伊與被告談論泰國結婚事宜時，伊與被告均不知被告之結婚對象為何人，伊亦未見過與被告結婚之泰國女子，伊僅介紹被告予共犯詹巧薇、張晉源等人，伊並未參予後續之泰國結婚、辦理結婚登記及居留申請等事情；被告曾給伊一部機車，當時被告表示要去別的地方，機車留在臺南無人使用，伊修理使用一段期間後，因再度壞掉便未再使用等語（見本院卷第68頁背面至71頁）\n",
            "--->\n",
            " 1: (二)共犯詹巧薇、張晉源等人當時欲找臺灣人與泰國女子結婚，由共犯林清水於報紙上刊登徵人廣告，若應徵者符合與泰國人結婚之條件，便將應徵者介紹予共犯詹巧薇、張晉源等人，共犯林清水可從中獲取1萬元之仲介費，適被告依前開徵人廣告應徵，共犯林清水衡量其條件後告知其可至泰國結婚，其除不用負擔前往泰國之機票及食宿費用外，尚可獲取5至6萬元之報酬，被告應允同意後，共犯林清水將其介紹予詹巧薇、張晉源等人，被告即依指示前往泰國與為了來臺工作且無結婚真意的共犯陳玉婉辦理結婚事宜等情，業據共犯林清水於警詢時證稱：伊登報徵人到泰國結婚，被告看報紙來的，伊便轉介予共犯詹巧薇，由共犯詹巧薇安排後續到泰國結婚之事宜，被告除不用負擔前往泰國機票、食宿等費用，尚可獲取約5至6萬元酬勞，伊則可自共犯詹巧薇獲取約1萬元之仲介費用；伊只有將被告轉介予共犯詹巧薇，並未參與後續被告前往泰國之證照、機票、食宿等相關事宜；被告係因缺錢，為了賺取擔任人頭配偶的佣金5至6萬，並不是真的要與泰國人結婚，共犯陳玉婉係為了來臺灣工作賺錢，亦不是真的要與臺灣人結婚等語（見警三卷第2至3頁）；並於本院審理時具結證稱：當初共犯詹巧薇、張晉源等人欲找男子前往泰國結婚，伊曾刊登「男、女不限、經驗不拘」等內容之徵人廣告，被告見報應徵時，被告係因缺錢才來找伊，伊衡量被告條件後認為其只能利用結婚賺取報酬，伊才向其表示是要辦結婚，伊告知被告可安排其去泰國結婚，其不用負擔食宿及機票等費用，可實拿5至6萬元的報酬，被告同意後，伊將被告介紹予共犯詹巧薇、張晉源，共犯張晉源給付佣金1萬元予伊；伊與被告談論泰國結婚事宜時，伊與被告均不知被告之結婚對象為何人，伊亦未見過與被告結婚之泰國女子，伊僅介紹被告予共犯詹巧薇、張晉源等人，伊並未參予後續之泰國結婚、辦理結婚登記及居留申請等事情；被告曾給伊一部機車，當時被告表示要去別的地方，機車留在臺南無人使用，伊修理使用一段期間後，因再度壞掉便未再使用等語（見本院卷第68頁背面至71頁）\n",
            "\n",
            "3: 二、案經臺南市警察局（現改制為臺南市政府警察局，以下沿用舊制稱謂）第一分局報告臺灣臺南地方法院檢察署檢察官偵查起訴\n",
            "\n",
            "4: 理由甲、程序方面：一、本件以下所引用具傳聞證據性質之供述證據，因本件被告陳泰龍、檢察官等人於本院準備程序進行時，均未爭執前開陳述之證據能力，且迄至本案言詞辯論終結前亦均未聲明異議，應視為已同意援引作為證據，又本院審酌前開證據作成時之情況及證據取得過程等節，並無非出於任意性、不正取供或其他違法不當情事，且客觀上亦無顯不可信之情況，堪認為適當，是依刑事訴訟法第159條之5規定，均有證據能力\n",
            "\n",
            "5: 二、卷附之被告及陳玉婉入出國日期紀錄各1份等書證，均非屬供述證據，皆無傳聞法則之適用，復均無違反法定程序取得之情形，依刑事訴訟法第158條之4規定之反面解釋，均應有證據能力\n",
            "\n",
            "6: 乙、實體方面：一、訊據被告固坦承於上開時、地，透過共犯林清水之介紹，先至泰國辦理與共犯陳玉婉之結婚手續，再前往臺南縣永康市戶政事務所辦理結婚登記，又前往臺南縣政府警察局外事課辦理共犯陳玉婉之外僑居留證及申請居留證延期之事實，惟矢口否認有何行使使公務員登載不實文書情事，於本院審理時辯稱：伊當時經濟狀況良好，因同居女友欲去日本工作而不願結婚，然伊希望結婚生子，遂透過共犯林清水之介紹與安排，共犯林清水先讓伊看過共犯陳\n",
            "=======================================================\n"
          ]
        }
      ],
      "source": [
        "print(prompt1)\n",
        "print(\"--->\")\n",
        "print(get_breeze(query+prompt1))\n",
        "print(\"=======================================================\")\n",
        "print(prompt1)\n",
        "print(\"--->\")\n",
        "print(get_breeze(query+prompt2))\n",
        "print(\"=======================================================\")\n",
        "print(prompt1)\n",
        "print(\"--->\")\n",
        "print(get_breeze(query+prompt3))\n",
        "print(\"=======================================================\")"
      ]
    },
    {
      "cell_type": "code",
      "execution_count": null,
      "metadata": {
        "id": "DflZ3v5aHe_c"
      },
      "outputs": [],
      "source": [
        "query = \"以下句子都是來自偽造文書罪的法律判決書，請從這些句子中挑選出包含事實情節描述的三個句子：\\n\""
      ]
    },
    {
      "cell_type": "code",
      "execution_count": null,
      "metadata": {
        "colab": {
          "base_uri": "https://localhost:8080/"
        },
        "id": "zrwDyfgAHs1z",
        "outputId": "6f5dfe4d-18d2-4581-c70d-a6a98c9d252d"
      },
      "outputs": [
        {
          "name": "stdout",
          "output_type": "stream",
          "text": [
            "1: 乙、實體方面：一、訊據被告固坦承於上開時、地，透過共犯林清水之介紹，先至泰國辦理與共犯陳玉婉之結婚手續，再前往臺南縣永康市戶政事務所辦理結婚登記，又前往臺南縣政府警察局外事課辦理共犯陳玉婉之外僑居留證及申請居留證延期之事實，惟矢口否認有何行使使公務員登載不實文書情事，於本院審理時辯稱：伊當時經濟狀況良好，因同居女友欲去日本工作而不願結婚，然伊希望結婚生子，遂透過共犯林清水之介紹與安排，共犯林清水先讓伊看過共犯陳玉婉之照片，伊再前往泰國與共犯陳玉婉結婚，伊僅負擔自己的來回機票錢及泰國住宿費用，其他結婚費用均由共犯林清水負擔，伊則贈送伊的一部機車予共犯林清水以為回報，伊並不認識共犯詹巧薇云云\n",
            "2: 迨共犯陳玉婉來臺後，為取得居留身分，被告與共犯陳玉婉於同年6月14日及94年5月5日，均持前開戶籍謄本等資料，先後向臺南縣政府警察局外事課申請核發共犯陳玉婉之外僑居留證及申請居留證延期等情，業據被告供承在卷，並有結婚登記申請書、授權書各1份、結婚登記書、結婚證書各1份（含中文、泰文影本及我國駐泰國臺北經濟文化辦事處認證之資料）、93年6月14日及94年5月5日之外國人居留停留案件聲請表各1份、被告及共犯陳玉婉之入出國日期紀錄各1份、共犯陳玉婉之外僑居留資料查詢1份在卷可按（見警三卷即南市警一刑偵字第0994101517號卷第6至24、33頁）\n",
            "3: 上開事實，首堪認定\n",
            "4: 理由甲、程序方面：一、本件以下所引用具傳聞證據性質之供述證據，因本件被告陳泰龍、檢察官等人於本院準備程序進行時，均未爭執前開陳述之證據能力，且迄至本案言詞辯論終結前亦均未聲明異議，應視為已同意援引作為證據，又本院審酌前開證據作成時之情況及證據取得過程等節，並無非出於任意性、不正取供或其他違法不當情事，且客觀上亦無顯不可信之情況，堪認為適當，是依刑事訴訟法第159條之5規定，均有證據能力\n",
            "5: 二、卷附之被告及陳玉婉入出國日期紀錄各1份等書證，均非屬供述證據，皆無傳聞法則之適用，復均無違反法定程序取得之情形，依刑事訴訟法第158條之4規定之反面解釋，均應有證據能力\n",
            "6: 一、陳泰龍明知其與泰國籍女子陳玉婉（泰國名字為JARUWANWONGPRATOOM，陳玉婉涉嫌本案偽造文書部分，另經臺灣臺南地方法院檢察署檢察官通緝中）間並無結婚之真意，然因詹巧薇、張晉源等人欲找臺灣男子前往泰國與泰國女子辦理假結婚，林清水負責介紹臺灣男子予詹巧薇、張晉源等人以賺取新臺幣（下同）1萬元之仲介費，適陳泰龍依林清水於報紙上刊登之徵人廣告應徵時，由林清水告知泰國女子欲以假結婚之方式申請來臺居留工作，其若擔任假結婚之人頭老公，除不用負擔前往泰國之食宿、機票費用外，尚可獲取5、6萬元之報酬，迨陳泰龍應允同意後，林清水將其轉介紹予詹巧薇、張晉源等人，陳泰龍遂與林清水、詹巧薇、張晉源等人共同基於行使使公務員登載不實公文書之概括犯意聯絡，先由陳泰龍依指示於民國93年4月3日前往泰國，並於同年月7日與陳玉婉在泰國曼谷市法拉坎農區註冊辦事處登記結婚，取得上開註冊辦事處核發之結婚登記書、結婚證書等文件後，陳泰龍即行返臺，並於同年5月19日持經我國駐泰國臺北經濟文化辦事處認證之上開結婚登記書、結婚證書等資料，至臺南縣永康市（改制前稱謂，以下沿用舊制稱謂）戶政事務所填寫結婚登記申請書，申請辦理其與陳玉婉之結婚登記，因此使上開戶政事務所僅有形式審查權之承辦公務員陷於錯誤，於形式上審核後，將陳泰龍與陳玉婉於93年4月7日結婚之不實事項，登載於其職務上所掌屬公文書之戶籍登記資料內，並據以核發戶籍謄本，而足以生損害於戶政機關對於戶政管理及戶籍登記資料維護之正確性\n",
            "7: 經查：(一)被告於93年4月3日前往泰國，並於同年月7日與共犯陳玉婉在泰國曼谷市法拉坎農區註冊辦事處登記結婚，取得上開註冊辦事處核發之結婚登記書、結婚證書等文件後，被告即行返臺，並於同年5月19日持經我國駐泰國臺北經濟文化辦事處認證之上開結婚登記書、結婚證書等資料，至臺南縣永康市戶政事務所填寫結婚登記申請書，申請辦理其與共犯陳玉婉之結婚登記，並取得戶籍謄本\n",
            "8: 迨陳玉婉來臺後，為取得居留身分，再由陳泰龍、陳玉婉承前概括之犯意聯絡，於同年6月14日及94年5月5日，均持前開登載不實之戶籍謄本等資料，先後向臺南縣政府警察局外事課申請核發陳玉婉之外僑居留證及申請居留證延期而連續行使之（業經檢察官當庭補充），經承辦人員實質審查結果，均未發覺陳泰龍與陳玉婉假結婚之實情，而發給陳玉婉居留證或核准延期，各足以生損害於主管機關對外僑居留管理之正確性\n",
            "9:  二、案經臺南市警察局（現改制為臺南市政府警察局，以下沿用舊制稱謂）第一分局報告臺灣臺南地方法院檢察署檢察官偵查起訴\n",
            "10: (二)共犯詹巧薇、張晉源等人當時欲找臺灣人與泰國女子結婚，由共犯林清水於報紙上刊登徵人廣告，若應徵者符合與泰國人結婚之條件，便將應徵者介紹予共犯詹巧薇、張晉源等人，共犯林清水可從中獲取1萬元之仲介費，適被告依前開徵人廣告應徵，共犯林清水衡量其條件後告知其可至泰國結婚，其除不用負擔前往泰國之機票及食宿費用外，尚可獲取5至6萬元之報酬，被告應允同意後，共犯林清水將其介紹予詹巧薇、張晉源等人，被告即依指示前往泰國與為了來臺工作且無結婚真意的共犯陳玉婉辦理結婚事宜等情，業據共犯林清水於警詢時證稱：伊登報徵人到泰國結婚，被告看報紙來的，伊便轉介予共犯詹巧薇，由共犯詹巧薇安排後續到泰國結婚之事宜，被告除不用負擔前往泰國機票、食宿等費用，尚可獲取約5至6萬元酬勞，伊則可自共犯詹巧薇獲取約1萬元之仲介費用；伊只有將被告轉介予共犯詹巧薇，並未參與後續被告前往泰國之證照、機票、食宿等相關事宜；被告係因缺錢，為了賺取擔任人頭配偶的佣金5至6萬，並不是真的要與泰國人結婚，共犯陳玉婉係為了來臺灣工作賺錢，亦不是真的要與臺灣人結婚等語（見警三卷第2至3頁）；並於本院審理時具結證稱：當初共犯詹巧薇、張晉源等人欲找男子前往泰國結婚，伊曾刊登「男、女不限、經驗不拘」等內容之徵人廣告，被告見報應徵時，被告係因缺錢才來找伊，伊衡量被告條件後認為其只能利用結婚賺取報酬，伊才向其表示是要辦結婚，伊告知被告可安排其去泰國結婚，其不用負擔食宿及機票等費用，可實拿5至6萬元的報酬，被告同意後，伊將被告介紹予共犯詹巧薇、張晉源，共犯張晉源給付佣金1萬元予伊；伊與被告談論泰國結婚事宜時，伊與被告均不知被告之結婚對象為何人，伊亦未見過與被告結婚之泰國女子，伊僅介紹被告予共犯詹巧薇、張晉源等人，伊並未參予後續之泰國結婚、辦理結婚登記及居留申請等事情；被告曾給伊一部機車，當時被告表示要去別的地方，機車留在臺南無人使用，伊修理使用一段期間後，因再度壞掉便未再使用等語（見本院卷第68頁背面至71頁）\n",
            "--->\n",
            " 1: 被告固坦承於上開時、地，透過共犯林清水之介紹，先至泰國辦理與共犯陳玉婉之結婚手續，再前往臺南縣永康市戶政事務所辦理結婚登記，又前往臺南縣政府警察局外事課辦理共犯陳玉婉之外僑居留證及申請居留證延期之事實，惟矢口否認有何行使使公務員登載不實文書情事，於本院審理時辯稱：伊當時經濟狀況良好，因同居女友欲去日本工作而不願結婚，然伊希望結婚生子，遂透過共犯林清水之介紹與安排，共犯林清水先讓伊看過共犯陳玉婉之照片，伊再前往泰國與共犯陳玉婉結婚，伊僅負擔自己的來回機票錢及泰國住宿費用，其他結婚費用均由共犯林清水負擔，伊則贈送伊的一部機車予共犯林清水以為回報，伊並不認識共犯詹巧薇云云。\n",
            "\n",
            "3: 上開事實，首堪認定\n",
            "\n",
            "5: 二、卷附之被告及陳玉婉入出國日期紀錄各1份等書證，均非屬供述證據，皆無傳聞法則之適用，復均無違反法定程序取得之情形，依刑事訴訟法第158條之4規定之反面解釋，均應有證據能力\n",
            "=======================================================\n",
            "1: 乙、實體方面：一、訊據被告固坦承於上開時、地，透過共犯林清水之介紹，先至泰國辦理與共犯陳玉婉之結婚手續，再前往臺南縣永康市戶政事務所辦理結婚登記，又前往臺南縣政府警察局外事課辦理共犯陳玉婉之外僑居留證及申請居留證延期之事實，惟矢口否認有何行使使公務員登載不實文書情事，於本院審理時辯稱：伊當時經濟狀況良好，因同居女友欲去日本工作而不願結婚，然伊希望結婚生子，遂透過共犯林清水之介紹與安排，共犯林清水先讓伊看過共犯陳玉婉之照片，伊再前往泰國與共犯陳玉婉結婚，伊僅負擔自己的來回機票錢及泰國住宿費用，其他結婚費用均由共犯林清水負擔，伊則贈送伊的一部機車予共犯林清水以為回報，伊並不認識共犯詹巧薇云云\n",
            "2: 迨共犯陳玉婉來臺後，為取得居留身分，被告與共犯陳玉婉於同年6月14日及94年5月5日，均持前開戶籍謄本等資料，先後向臺南縣政府警察局外事課申請核發共犯陳玉婉之外僑居留證及申請居留證延期等情，業據被告供承在卷，並有結婚登記申請書、授權書各1份、結婚登記書、結婚證書各1份（含中文、泰文影本及我國駐泰國臺北經濟文化辦事處認證之資料）、93年6月14日及94年5月5日之外國人居留停留案件聲請表各1份、被告及共犯陳玉婉之入出國日期紀錄各1份、共犯陳玉婉之外僑居留資料查詢1份在卷可按（見警三卷即南市警一刑偵字第0994101517號卷第6至24、33頁）\n",
            "3: 上開事實，首堪認定\n",
            "4: 理由甲、程序方面：一、本件以下所引用具傳聞證據性質之供述證據，因本件被告陳泰龍、檢察官等人於本院準備程序進行時，均未爭執前開陳述之證據能力，且迄至本案言詞辯論終結前亦均未聲明異議，應視為已同意援引作為證據，又本院審酌前開證據作成時之情況及證據取得過程等節，並無非出於任意性、不正取供或其他違法不當情事，且客觀上亦無顯不可信之情況，堪認為適當，是依刑事訴訟法第159條之5規定，均有證據能力\n",
            "5: 二、卷附之被告及陳玉婉入出國日期紀錄各1份等書證，均非屬供述證據，皆無傳聞法則之適用，復均無違反法定程序取得之情形，依刑事訴訟法第158條之4規定之反面解釋，均應有證據能力\n",
            "6: 一、陳泰龍明知其與泰國籍女子陳玉婉（泰國名字為JARUWANWONGPRATOOM，陳玉婉涉嫌本案偽造文書部分，另經臺灣臺南地方法院檢察署檢察官通緝中）間並無結婚之真意，然因詹巧薇、張晉源等人欲找臺灣男子前往泰國與泰國女子辦理假結婚，林清水負責介紹臺灣男子予詹巧薇、張晉源等人以賺取新臺幣（下同）1萬元之仲介費，適陳泰龍依林清水於報紙上刊登之徵人廣告應徵時，由林清水告知泰國女子欲以假結婚之方式申請來臺居留工作，其若擔任假結婚之人頭老公，除不用負擔前往泰國之食宿、機票費用外，尚可獲取5、6萬元之報酬，迨陳泰龍應允同意後，林清水將其轉介紹予詹巧薇、張晉源等人，陳泰龍遂與林清水、詹巧薇、張晉源等人共同基於行使使公務員登載不實公文書之概括犯意聯絡，先由陳泰龍依指示於民國93年4月3日前往泰國，並於同年月7日與陳玉婉在泰國曼谷市法拉坎農區註冊辦事處登記結婚，取得上開註冊辦事處核發之結婚登記書、結婚證書等文件後，陳泰龍即行返臺，並於同年5月19日持經我國駐泰國臺北經濟文化辦事處認證之上開結婚登記書、結婚證書等資料，至臺南縣永康市（改制前稱謂，以下沿用舊制稱謂）戶政事務所填寫結婚登記申請書，申請辦理其與陳玉婉之結婚登記，因此使上開戶政事務所僅有形式審查權之承辦公務員陷於錯誤，於形式上審核後，將陳泰龍與陳玉婉於93年4月7日結婚之不實事項，登載於其職務上所掌屬公文書之戶籍登記資料內，並據以核發戶籍謄本，而足以生損害於戶政機關對於戶政管理及戶籍登記資料維護之正確性\n",
            "7: 經查：(一)被告於93年4月3日前往泰國，並於同年月7日與共犯陳玉婉在泰國曼谷市法拉坎農區註冊辦事處登記結婚，取得上開註冊辦事處核發之結婚登記書、結婚證書等文件後，被告即行返臺，並於同年5月19日持經我國駐泰國臺北經濟文化辦事處認證之上開結婚登記書、結婚證書等資料，至臺南縣永康市戶政事務所填寫結婚登記申請書，申請辦理其與共犯陳玉婉之結婚登記，並取得戶籍謄本\n",
            "8: 迨陳玉婉來臺後，為取得居留身分，再由陳泰龍、陳玉婉承前概括之犯意聯絡，於同年6月14日及94年5月5日，均持前開登載不實之戶籍謄本等資料，先後向臺南縣政府警察局外事課申請核發陳玉婉之外僑居留證及申請居留證延期而連續行使之（業經檢察官當庭補充），經承辦人員實質審查結果，均未發覺陳泰龍與陳玉婉假結婚之實情，而發給陳玉婉居留證或核准延期，各足以生損害於主管機關對外僑居留管理之正確性\n",
            "9:  二、案經臺南市警察局（現改制為臺南市政府警察局，以下沿用舊制稱謂）第一分局報告臺灣臺南地方法院檢察署檢察官偵查起訴\n",
            "10: (二)共犯詹巧薇、張晉源等人當時欲找臺灣人與泰國女子結婚，由共犯林清水於報紙上刊登徵人廣告，若應徵者符合與泰國人結婚之條件，便將應徵者介紹予共犯詹巧薇、張晉源等人，共犯林清水可從中獲取1萬元之仲介費，適被告依前開徵人廣告應徵，共犯林清水衡量其條件後告知其可至泰國結婚，其除不用負擔前往泰國之機票及食宿費用外，尚可獲取5至6萬元之報酬，被告應允同意後，共犯林清水將其介紹予詹巧薇、張晉源等人，被告即依指示前往泰國與為了來臺工作且無結婚真意的共犯陳玉婉辦理結婚事宜等情，業據共犯林清水於警詢時證稱：伊登報徵人到泰國結婚，被告看報紙來的，伊便轉介予共犯詹巧薇，由共犯詹巧薇安排後續到泰國結婚之事宜，被告除不用負擔前往泰國機票、食宿等費用，尚可獲取約5至6萬元酬勞，伊則可自共犯詹巧薇獲取約1萬元之仲介費用；伊只有將被告轉介予共犯詹巧薇，並未參與後續被告前往泰國之證照、機票、食宿等相關事宜；被告係因缺錢，為了賺取擔任人頭配偶的佣金5至6萬，並不是真的要與泰國人結婚，共犯陳玉婉係為了來臺灣工作賺錢，亦不是真的要與臺灣人結婚等語（見警三卷第2至3頁）；並於本院審理時具結證稱：當初共犯詹巧薇、張晉源等人欲找男子前往泰國結婚，伊曾刊登「男、女不限、經驗不拘」等內容之徵人廣告，被告見報應徵時，被告係因缺錢才來找伊，伊衡量被告條件後認為其只能利用結婚賺取報酬，伊才向其表示是要辦結婚，伊告知被告可安排其去泰國結婚，其不用負擔食宿及機票等費用，可實拿5至6萬元的報酬，被告同意後，伊將被告介紹予共犯詹巧薇、張晉源，共犯張晉源給付佣金1萬元予伊；伊與被告談論泰國結婚事宜時，伊與被告均不知被告之結婚對象為何人，伊亦未見過與被告結婚之泰國女子，伊僅介紹被告予共犯詹巧薇、張晉源等人，伊並未參予後續之泰國結婚、辦理結婚登記及居留申請等事情；被告曾給伊一部機車，當時被告表示要去別的地方，機車留在臺南無人使用，伊修理使用一段期間後，因再度壞掉便未再使用等語（見本院卷第68頁背面至71頁）\n",
            "--->\n",
            " 1: 陳泰龍明知其與泰國籍女子陳玉婉（泰國名字為JARUWANWONGPRATOOM，陳玉婉涉嫌本案偽造文書部分，另經臺灣臺南地方法院檢察署檢察官通緝中）間並無結婚之真意，然因詹巧薇、張晉源等人欲找臺灣男子前往泰國與泰國女子辦理假結婚，林清水負責介紹臺灣男子予詹巧薇、張晉源等人以賺取新臺幣（下同）1萬元之仲介費，適陳泰龍依林清水於報紙上刊登之徵人廣告應徵時，由林清水告知泰國女子欲以假結婚之方式申請來臺居留工作，其若擔任假結婚之人頭老公，除不用負擔前往泰國之食宿、機票費用外，尚可獲取5、6萬元之報酬，迨陳泰龍應允同意後，林清水將其轉介紹予詹巧薇、張晉源等人，陳泰龍遂與林清水、詹巧薇、張晉源等人共同基於行使使公務員登載不實公文書之概括犯意聯絡，先由陳泰龍依指示於民國93年4月3日前往泰國，並於同年月7日與陳玉婉在泰國曼谷市法拉坎農區註冊辦事處登記結婚，取得上開註冊辦事處核發之結婚登記書、結婚證書等文件後，陳泰龍即行返臺，並於同年5月19日持經我國駐泰國臺北經濟文化辦事處認證之上開結婚登記書、結婚證書等資料，至臺南縣永康市（改制前稱謂，以下沿用舊制稱謂）戶政事務所填寫結婚登記申請書，申請辦理其與陳玉婉之結婚登記，因此使上開戶政事務所僅有形式審查權之承辦公務員陷於錯誤，於形式上審核後，將陳泰龍與陳玉婉於93年4月7日結婚之不實事項，登載於其職務上所掌屬公文書之戶籍登記資料內，並據以核發戶籍謄本，而足以生損害於戶政機關對於戶政管理及戶籍登記資料維護之正確性。\n",
            "\n",
            "這個句子描述了陳泰龍、陳玉婉、林清水、詹巧薇和張晉源等人共同涉及偽造文書的犯罪行為，目的是讓陳泰龍和陳玉婉看起來像真的結婚，以便陳玉婉可以來臺居留工作。\n",
            "\n",
            "2: 迨陳玉婉來臺後，為取得居留身分，再由陳泰龍、陳玉婉承前概括之犯意聯絡，於同年6月14日及94年5月5日，均持前開登載不實之戶籍謄本等資料，先後向臺南縣政府警察局外事課申請核發陳玉婉之外僑居留證及申請居留證延期而連續行使之（業經檢察官當庭補充），經承辦人員實質審查結果，均未發覺陳泰龍與陳玉婉假結婚之實情，而發給陳玉婉居留證或核准延期，各足以生損害於主管機關對外僑居留管理之正確性。\n",
            "\n",
            "這個句子說明了陳玉婉來臺後，為了取得居留身分，陳泰龍和陳玉婉再次使用偽造的文件，向臺南縣政府警察局外事課申請居留證和延期。\n",
            "\n",
            "3: 案經臺南市警察局（現改制為臺南市政府警察局，以下沿用舊制稱謂）第一分局報告臺灣臺南地方法院檢察署檢察官偵查起訴。\n",
            "\n",
            "這個句子提供了案件的來源和偵辦單位。\n",
            "=======================================================\n",
            "1: 乙、實體方面：一、訊據被告固坦承於上開時、地，透過共犯林清水之介紹，先至泰國辦理與共犯陳玉婉之結婚手續，再前往臺南縣永康市戶政事務所辦理結婚登記，又前往臺南縣政府警察局外事課辦理共犯陳玉婉之外僑居留證及申請居留證延期之事實，惟矢口否認有何行使使公務員登載不實文書情事，於本院審理時辯稱：伊當時經濟狀況良好，因同居女友欲去日本工作而不願結婚，然伊希望結婚生子，遂透過共犯林清水之介紹與安排，共犯林清水先讓伊看過共犯陳玉婉之照片，伊再前往泰國與共犯陳玉婉結婚，伊僅負擔自己的來回機票錢及泰國住宿費用，其他結婚費用均由共犯林清水負擔，伊則贈送伊的一部機車予共犯林清水以為回報，伊並不認識共犯詹巧薇云云\n",
            "2: 迨共犯陳玉婉來臺後，為取得居留身分，被告與共犯陳玉婉於同年6月14日及94年5月5日，均持前開戶籍謄本等資料，先後向臺南縣政府警察局外事課申請核發共犯陳玉婉之外僑居留證及申請居留證延期等情，業據被告供承在卷，並有結婚登記申請書、授權書各1份、結婚登記書、結婚證書各1份（含中文、泰文影本及我國駐泰國臺北經濟文化辦事處認證之資料）、93年6月14日及94年5月5日之外國人居留停留案件聲請表各1份、被告及共犯陳玉婉之入出國日期紀錄各1份、共犯陳玉婉之外僑居留資料查詢1份在卷可按（見警三卷即南市警一刑偵字第0994101517號卷第6至24、33頁）\n",
            "3: 上開事實，首堪認定\n",
            "4: 理由甲、程序方面：一、本件以下所引用具傳聞證據性質之供述證據，因本件被告陳泰龍、檢察官等人於本院準備程序進行時，均未爭執前開陳述之證據能力，且迄至本案言詞辯論終結前亦均未聲明異議，應視為已同意援引作為證據，又本院審酌前開證據作成時之情況及證據取得過程等節，並無非出於任意性、不正取供或其他違法不當情事，且客觀上亦無顯不可信之情況，堪認為適當，是依刑事訴訟法第159條之5規定，均有證據能力\n",
            "5: 二、卷附之被告及陳玉婉入出國日期紀錄各1份等書證，均非屬供述證據，皆無傳聞法則之適用，復均無違反法定程序取得之情形，依刑事訴訟法第158條之4規定之反面解釋，均應有證據能力\n",
            "6: 一、陳泰龍明知其與泰國籍女子陳玉婉（泰國名字為JARUWANWONGPRATOOM，陳玉婉涉嫌本案偽造文書部分，另經臺灣臺南地方法院檢察署檢察官通緝中）間並無結婚之真意，然因詹巧薇、張晉源等人欲找臺灣男子前往泰國與泰國女子辦理假結婚，林清水負責介紹臺灣男子予詹巧薇、張晉源等人以賺取新臺幣（下同）1萬元之仲介費，適陳泰龍依林清水於報紙上刊登之徵人廣告應徵時，由林清水告知泰國女子欲以假結婚之方式申請來臺居留工作，其若擔任假結婚之人頭老公，除不用負擔前往泰國之食宿、機票費用外，尚可獲取5、6萬元之報酬，迨陳泰龍應允同意後，林清水將其轉介紹予詹巧薇、張晉源等人，陳泰龍遂與林清水、詹巧薇、張晉源等人共同基於行使使公務員登載不實公文書之概括犯意聯絡，先由陳泰龍依指示於民國93年4月3日前往泰國，並於同年月7日與陳玉婉在泰國曼谷市法拉坎農區註冊辦事處登記結婚，取得上開註冊辦事處核發之結婚登記書、結婚證書等文件後，陳泰龍即行返臺，並於同年5月19日持經我國駐泰國臺北經濟文化辦事處認證之上開結婚登記書、結婚證書等資料，至臺南縣永康市（改制前稱謂，以下沿用舊制稱謂）戶政事務所填寫結婚登記申請書，申請辦理其與陳玉婉之結婚登記，因此使上開戶政事務所僅有形式審查權之承辦公務員陷於錯誤，於形式上審核後，將陳泰龍與陳玉婉於93年4月7日結婚之不實事項，登載於其職務上所掌屬公文書之戶籍登記資料內，並據以核發戶籍謄本，而足以生損害於戶政機關對於戶政管理及戶籍登記資料維護之正確性\n",
            "7: 經查：(一)被告於93年4月3日前往泰國，並於同年月7日與共犯陳玉婉在泰國曼谷市法拉坎農區註冊辦事處登記結婚，取得上開註冊辦事處核發之結婚登記書、結婚證書等文件後，被告即行返臺，並於同年5月19日持經我國駐泰國臺北經濟文化辦事處認證之上開結婚登記書、結婚證書等資料，至臺南縣永康市戶政事務所填寫結婚登記申請書，申請辦理其與共犯陳玉婉之結婚登記，並取得戶籍謄本\n",
            "8: 迨陳玉婉來臺後，為取得居留身分，再由陳泰龍、陳玉婉承前概括之犯意聯絡，於同年6月14日及94年5月5日，均持前開登載不實之戶籍謄本等資料，先後向臺南縣政府警察局外事課申請核發陳玉婉之外僑居留證及申請居留證延期而連續行使之（業經檢察官當庭補充），經承辦人員實質審查結果，均未發覺陳泰龍與陳玉婉假結婚之實情，而發給陳玉婉居留證或核准延期，各足以生損害於主管機關對外僑居留管理之正確性\n",
            "9:  二、案經臺南市警察局（現改制為臺南市政府警察局，以下沿用舊制稱謂）第一分局報告臺灣臺南地方法院檢察署檢察官偵查起訴\n",
            "10: (二)共犯詹巧薇、張晉源等人當時欲找臺灣人與泰國女子結婚，由共犯林清水於報紙上刊登徵人廣告，若應徵者符合與泰國人結婚之條件，便將應徵者介紹予共犯詹巧薇、張晉源等人，共犯林清水可從中獲取1萬元之仲介費，適被告依前開徵人廣告應徵，共犯林清水衡量其條件後告知其可至泰國結婚，其除不用負擔前往泰國之機票及食宿費用外，尚可獲取5至6萬元之報酬，被告應允同意後，共犯林清水將其介紹予詹巧薇、張晉源等人，被告即依指示前往泰國與為了來臺工作且無結婚真意的共犯陳玉婉辦理結婚事宜等情，業據共犯林清水於警詢時證稱：伊登報徵人到泰國結婚，被告看報紙來的，伊便轉介予共犯詹巧薇，由共犯詹巧薇安排後續到泰國結婚之事宜，被告除不用負擔前往泰國機票、食宿等費用，尚可獲取約5至6萬元酬勞，伊則可自共犯詹巧薇獲取約1萬元之仲介費用；伊只有將被告轉介予共犯詹巧薇，並未參與後續被告前往泰國之證照、機票、食宿等相關事宜；被告係因缺錢，為了賺取擔任人頭配偶的佣金5至6萬，並不是真的要與泰國人結婚，共犯陳玉婉係為了來臺灣工作賺錢，亦不是真的要與臺灣人結婚等語（見警三卷第2至3頁）；並於本院審理時具結證稱：當初共犯詹巧薇、張晉源等人欲找男子前往泰國結婚，伊曾刊登「男、女不限、經驗不拘」等內容之徵人廣告，被告見報應徵時，被告係因缺錢才來找伊，伊衡量被告條件後認為其只能利用結婚賺取報酬，伊才向其表示是要辦結婚，伊告知被告可安排其去泰國結婚，其不用負擔食宿及機票等費用，可實拿5至6萬元的報酬，被告同意後，伊將被告介紹予共犯詹巧薇、張晉源，共犯張晉源給付佣金1萬元予伊；伊與被告談論泰國結婚事宜時，伊與被告均不知被告之結婚對象為何人，伊亦未見過與被告結婚之泰國女子，伊僅介紹被告予共犯詹巧薇、張晉源等人，伊並未參予後續之泰國結婚、辦理結婚登記及居留申請等事情；被告曾給伊一部機車，當時被告表示要去別的地方，機車留在臺南無人使用，伊修理使用一段期間後，因再度壞掉便未再使用等語（見本院卷第68頁背面至71頁）\n",
            "--->\n",
            " 1: (二)共犯詹巧薇、張晉源等人當時欲找臺灣人與泰國女子結婚，由共犯林清水於報紙上刊登徵人廣告，若應徵者符合與泰國人結婚之條件，便將應徵者介紹予共犯詹巧薇、張晉源等人，共犯林清水可從中獲取1萬元之仲介費，適被告依前開徵人廣告應徵，共犯林清水衡量其條件後告知其可至泰國結婚，其除不用負擔前往泰國之機票及食宿費用外，尚可獲取5至6萬元之報酬，被告應允同意後，共犯林清水將其介紹予詹巧薇、張晉源等人，被告即依指示前往泰國與為了來臺工作且無結婚真意的共犯陳玉婉辦理結婚事宜等情，業據共犯林清水於警詢時證稱：伊登報徵人到泰國結婚，被告看報紙來的，伊便轉介予共犯詹巧薇，由共犯詹巧薇安排後續到泰國結婚之事宜，被告除不用負擔前往泰國機票、食宿等費用，尚可獲取約5至6萬元酬勞，伊則可自共犯詹巧薇獲取約1萬元之仲介費用；伊只有將被告轉介予共犯詹巧薇，並未參與後續被告前往泰國之證照、機票、食宿等相關事宜；被告係因缺錢，為了賺取擔任人頭配偶的佣金5至6萬，並不是真的要與泰國人結婚，共犯陳玉婉係為了來臺灣工作賺錢，亦不是真的要與臺灣人結婚等語（見警三卷第2至3頁）；並於本院審理時具結證稱：當初共犯詹巧薇、張晉源等人欲找男子前往泰國結婚，伊曾刊登「男、女不限、經驗不拘」等內容之徵人廣告，被告見報應徵時，被告係因缺錢才來找伊，伊衡量被告條件後認為其只能利用結婚賺取報酬，伊才向其表示是要辦結婚，伊告知被告可安排其去泰國結婚，其不用負擔食宿及機票等費用，可實拿5至6萬元的報酬，被告同意後，伊將被告介紹予共犯詹巧薇、張晉源，共犯張晉源給付佣金1萬元予伊；伊與被告談論泰國結婚事宜時，伊與被告均不知被告之結婚對象為何人，伊亦未見過與被告結婚之泰國女子，伊僅介紹被告予共犯詹巧薇、張晉源等人，伊並未參予後續之泰國結婚、辦理結婚登記及居留申請等事情；被告曾給伊一部機車，當時被告表示要去別的地方，機車留在臺南無人使用，伊修理使用一段期間後，因再度壞掉便未再使用等語（見本院卷第68頁背面至71頁）\n",
            "\n",
            "10: 一、陳泰龍明知其與泰國籍女子陳玉婉（泰國名字為JARUWANWONGPRATOOM，陳玉婉涉嫌本案偽造文書部分，另經臺灣臺南地方法院檢察署檢察官通緝中）間並無結婚之真意，然因詹巧薇、張晉源等人欲找臺灣男子前往泰國與泰國女子辦理假結婚，林清水負責介紹臺灣男子予詹巧薇、張晉源等人以賺取新臺幣（下同）1萬元之仲介費，適陳泰龍依林清水於報紙上刊登之徵人廣告應徵時，由林清水告知泰國女子欲以假結婚之方式申請來臺居留工作，其若擔任假結婚之人頭老公，除不用負擔前往泰國之食宿、機票費用外，尚可獲取5、6萬元之報酬，迨陳泰龍應允同意後，林清水將其轉介紹予詹巧薇、張晉源等人，陳泰龍遂與林清水、詹巧薇、張晉源等人共同基於行使使公務員登載不實公文書之概括犯意聯絡，先由陳泰龍依指示於民國93年4月3日前往泰國，並於同年月7日與陳玉婉在泰國曼谷市法拉坎農區註冊辦事處登記結婚，取得上開註冊辦事處核發之結婚登記書、結婚證書等文件後，陳泰龍即行返臺，並於同年5月19日持經我國駐泰國臺北經濟文化辦事處認證之上開結婚登記書、結婚證書等資料，至臺南縣永康市（改制前稱謂，以下沿用舊制稱謂）戶政事務所填寫結婚登記申請書，申請辦理其與陳玉婉之結婚登記，因此使上開戶政事務所僅有形式審查權之承辦公務員陷於錯誤，於形式上審核後\n",
            "=======================================================\n"
          ]
        }
      ],
      "source": [
        "print(prompt1)\n",
        "print(\"--->\")\n",
        "print(get_breeze(query+prompt1))\n",
        "print(\"=======================================================\")\n",
        "print(prompt1)\n",
        "print(\"--->\")\n",
        "print(get_breeze(query+prompt2))\n",
        "print(\"=======================================================\")\n",
        "print(prompt1)\n",
        "print(\"--->\")\n",
        "print(get_breeze(query+prompt3))\n",
        "print(\"=======================================================\")"
      ]
    },
    {
      "cell_type": "code",
      "execution_count": null,
      "metadata": {
        "id": "ky_NU0YUIHVU"
      },
      "outputs": [],
      "source": [
        "query = \"以下句子都是來自偽造文書罪的法律判決書，請從這些句子中挑選出和事實情節描述最相關的三個句子：\\n\""
      ]
    },
    {
      "cell_type": "code",
      "execution_count": null,
      "metadata": {
        "colab": {
          "base_uri": "https://localhost:8080/"
        },
        "id": "2u4kqfzgIIwu",
        "outputId": "19958cba-01da-4560-fe3f-4d7fd624448e"
      },
      "outputs": [
        {
          "name": "stdout",
          "output_type": "stream",
          "text": [
            "1: 乙、實體方面：一、訊據被告固坦承於上開時、地，透過共犯林清水之介紹，先至泰國辦理與共犯陳玉婉之結婚手續，再前往臺南縣永康市戶政事務所辦理結婚登記，又前往臺南縣政府警察局外事課辦理共犯陳玉婉之外僑居留證及申請居留證延期之事實，惟矢口否認有何行使使公務員登載不實文書情事，於本院審理時辯稱：伊當時經濟狀況良好，因同居女友欲去日本工作而不願結婚，然伊希望結婚生子，遂透過共犯林清水之介紹與安排，共犯林清水先讓伊看過共犯陳玉婉之照片，伊再前往泰國與共犯陳玉婉結婚，伊僅負擔自己的來回機票錢及泰國住宿費用，其他結婚費用均由共犯林清水負擔，伊則贈送伊的一部機車予共犯林清水以為回報，伊並不認識共犯詹巧薇云云\n",
            "2: 迨共犯陳玉婉來臺後，為取得居留身分，被告與共犯陳玉婉於同年6月14日及94年5月5日，均持前開戶籍謄本等資料，先後向臺南縣政府警察局外事課申請核發共犯陳玉婉之外僑居留證及申請居留證延期等情，業據被告供承在卷，並有結婚登記申請書、授權書各1份、結婚登記書、結婚證書各1份（含中文、泰文影本及我國駐泰國臺北經濟文化辦事處認證之資料）、93年6月14日及94年5月5日之外國人居留停留案件聲請表各1份、被告及共犯陳玉婉之入出國日期紀錄各1份、共犯陳玉婉之外僑居留資料查詢1份在卷可按（見警三卷即南市警一刑偵字第0994101517號卷第6至24、33頁）\n",
            "3: 上開事實，首堪認定\n",
            "4: 理由甲、程序方面：一、本件以下所引用具傳聞證據性質之供述證據，因本件被告陳泰龍、檢察官等人於本院準備程序進行時，均未爭執前開陳述之證據能力，且迄至本案言詞辯論終結前亦均未聲明異議，應視為已同意援引作為證據，又本院審酌前開證據作成時之情況及證據取得過程等節，並無非出於任意性、不正取供或其他違法不當情事，且客觀上亦無顯不可信之情況，堪認為適當，是依刑事訴訟法第159條之5規定，均有證據能力\n",
            "5: 二、卷附之被告及陳玉婉入出國日期紀錄各1份等書證，均非屬供述證據，皆無傳聞法則之適用，復均無違反法定程序取得之情形，依刑事訴訟法第158條之4規定之反面解釋，均應有證據能力\n",
            "6: 一、陳泰龍明知其與泰國籍女子陳玉婉（泰國名字為JARUWANWONGPRATOOM，陳玉婉涉嫌本案偽造文書部分，另經臺灣臺南地方法院檢察署檢察官通緝中）間並無結婚之真意，然因詹巧薇、張晉源等人欲找臺灣男子前往泰國與泰國女子辦理假結婚，林清水負責介紹臺灣男子予詹巧薇、張晉源等人以賺取新臺幣（下同）1萬元之仲介費，適陳泰龍依林清水於報紙上刊登之徵人廣告應徵時，由林清水告知泰國女子欲以假結婚之方式申請來臺居留工作，其若擔任假結婚之人頭老公，除不用負擔前往泰國之食宿、機票費用外，尚可獲取5、6萬元之報酬，迨陳泰龍應允同意後，林清水將其轉介紹予詹巧薇、張晉源等人，陳泰龍遂與林清水、詹巧薇、張晉源等人共同基於行使使公務員登載不實公文書之概括犯意聯絡，先由陳泰龍依指示於民國93年4月3日前往泰國，並於同年月7日與陳玉婉在泰國曼谷市法拉坎農區註冊辦事處登記結婚，取得上開註冊辦事處核發之結婚登記書、結婚證書等文件後，陳泰龍即行返臺，並於同年5月19日持經我國駐泰國臺北經濟文化辦事處認證之上開結婚登記書、結婚證書等資料，至臺南縣永康市（改制前稱謂，以下沿用舊制稱謂）戶政事務所填寫結婚登記申請書，申請辦理其與陳玉婉之結婚登記，因此使上開戶政事務所僅有形式審查權之承辦公務員陷於錯誤，於形式上審核後，將陳泰龍與陳玉婉於93年4月7日結婚之不實事項，登載於其職務上所掌屬公文書之戶籍登記資料內，並據以核發戶籍謄本，而足以生損害於戶政機關對於戶政管理及戶籍登記資料維護之正確性\n",
            "7: 經查：(一)被告於93年4月3日前往泰國，並於同年月7日與共犯陳玉婉在泰國曼谷市法拉坎農區註冊辦事處登記結婚，取得上開註冊辦事處核發之結婚登記書、結婚證書等文件後，被告即行返臺，並於同年5月19日持經我國駐泰國臺北經濟文化辦事處認證之上開結婚登記書、結婚證書等資料，至臺南縣永康市戶政事務所填寫結婚登記申請書，申請辦理其與共犯陳玉婉之結婚登記，並取得戶籍謄本\n",
            "8: 迨陳玉婉來臺後，為取得居留身分，再由陳泰龍、陳玉婉承前概括之犯意聯絡，於同年6月14日及94年5月5日，均持前開登載不實之戶籍謄本等資料，先後向臺南縣政府警察局外事課申請核發陳玉婉之外僑居留證及申請居留證延期而連續行使之（業經檢察官當庭補充），經承辦人員實質審查結果，均未發覺陳泰龍與陳玉婉假結婚之實情，而發給陳玉婉居留證或核准延期，各足以生損害於主管機關對外僑居留管理之正確性\n",
            "9:  二、案經臺南市警察局（現改制為臺南市政府警察局，以下沿用舊制稱謂）第一分局報告臺灣臺南地方法院檢察署檢察官偵查起訴\n",
            "10: (二)共犯詹巧薇、張晉源等人當時欲找臺灣人與泰國女子結婚，由共犯林清水於報紙上刊登徵人廣告，若應徵者符合與泰國人結婚之條件，便將應徵者介紹予共犯詹巧薇、張晉源等人，共犯林清水可從中獲取1萬元之仲介費，適被告依前開徵人廣告應徵，共犯林清水衡量其條件後告知其可至泰國結婚，其除不用負擔前往泰國之機票及食宿費用外，尚可獲取5至6萬元之報酬，被告應允同意後，共犯林清水將其介紹予詹巧薇、張晉源等人，被告即依指示前往泰國與為了來臺工作且無結婚真意的共犯陳玉婉辦理結婚事宜等情，業據共犯林清水於警詢時證稱：伊登報徵人到泰國結婚，被告看報紙來的，伊便轉介予共犯詹巧薇，由共犯詹巧薇安排後續到泰國結婚之事宜，被告除不用負擔前往泰國機票、食宿等費用，尚可獲取約5至6萬元酬勞，伊則可自共犯詹巧薇獲取約1萬元之仲介費用；伊只有將被告轉介予共犯詹巧薇，並未參與後續被告前往泰國之證照、機票、食宿等相關事宜；被告係因缺錢，為了賺取擔任人頭配偶的佣金5至6萬，並不是真的要與泰國人結婚，共犯陳玉婉係為了來臺灣工作賺錢，亦不是真的要與臺灣人結婚等語（見警三卷第2至3頁）；並於本院審理時具結證稱：當初共犯詹巧薇、張晉源等人欲找男子前往泰國結婚，伊曾刊登「男、女不限、經驗不拘」等內容之徵人廣告，被告見報應徵時，被告係因缺錢才來找伊，伊衡量被告條件後認為其只能利用結婚賺取報酬，伊才向其表示是要辦結婚，伊告知被告可安排其去泰國結婚，其不用負擔食宿及機票等費用，可實拿5至6萬元的報酬，被告同意後，伊將被告介紹予共犯詹巧薇、張晉源，共犯張晉源給付佣金1萬元予伊；伊與被告談論泰國結婚事宜時，伊與被告均不知被告之結婚對象為何人，伊亦未見過與被告結婚之泰國女子，伊僅介紹被告予共犯詹巧薇、張晉源等人，伊並未參予後續之泰國結婚、辦理結婚登記及居留申請等事情；被告曾給伊一部機車，當時被告表示要去別的地方，機車留在臺南無人使用，伊修理使用一段期間後，因再度壞掉便未再使用等語（見本院卷第68頁背面至71頁）\n",
            "--->\n",
            " 3: 上開事實，首堪認定\n",
            "5: 二、卷附之被告及陳玉婉入出國日期紀錄各1份等書證，均非屬供述證據，皆無傳聞法則之適用，復均無違反法定程序取得之情形，依刑事訴訟法第158條之4規定之反面解釋，均應有證據能力\n",
            "7: 經查：(一)被告於93年4月3日前往泰國，並於同年月7日與共犯陳玉婉在泰國曼谷市法拉坎農區註冊辦事處登記結婚，取得上開註冊辦事處核發之結婚登記書、結婚證書等文件後，被告即行返臺，並於同年5月19日持經我國駐泰國臺北經濟文化辦事處認證之上開結婚登記書、結婚證書等資料，至臺南縣永康市戶政事務所填寫結婚登記申請書，申請辦理其與共犯陳玉婉之結婚登記，並取得戶籍謄本\n",
            "8: 迨陳玉婉來臺後，為取得居留身分，再由陳泰龍、陳玉婉承前概括之犯意聯絡，於同年6月14日及94年5月5日，均持前開登載不實之戶籍謄本等資料，先後向臺南縣政府警察局外事課申請核發陳玉婉之外僑居留證及申請居留證延期而連續行使之（業經檢察官當庭補充），經承辦人員實質審查結果，均未發覺陳泰龍與陳玉婉假結婚之實情，而發給陳玉婉居留證或核准延期，各足以生損害於主管機關對外僑居留管理之正確性\n",
            "=======================================================\n",
            "1: 乙、實體方面：一、訊據被告固坦承於上開時、地，透過共犯林清水之介紹，先至泰國辦理與共犯陳玉婉之結婚手續，再前往臺南縣永康市戶政事務所辦理結婚登記，又前往臺南縣政府警察局外事課辦理共犯陳玉婉之外僑居留證及申請居留證延期之事實，惟矢口否認有何行使使公務員登載不實文書情事，於本院審理時辯稱：伊當時經濟狀況良好，因同居女友欲去日本工作而不願結婚，然伊希望結婚生子，遂透過共犯林清水之介紹與安排，共犯林清水先讓伊看過共犯陳玉婉之照片，伊再前往泰國與共犯陳玉婉結婚，伊僅負擔自己的來回機票錢及泰國住宿費用，其他結婚費用均由共犯林清水負擔，伊則贈送伊的一部機車予共犯林清水以為回報，伊並不認識共犯詹巧薇云云\n",
            "2: 迨共犯陳玉婉來臺後，為取得居留身分，被告與共犯陳玉婉於同年6月14日及94年5月5日，均持前開戶籍謄本等資料，先後向臺南縣政府警察局外事課申請核發共犯陳玉婉之外僑居留證及申請居留證延期等情，業據被告供承在卷，並有結婚登記申請書、授權書各1份、結婚登記書、結婚證書各1份（含中文、泰文影本及我國駐泰國臺北經濟文化辦事處認證之資料）、93年6月14日及94年5月5日之外國人居留停留案件聲請表各1份、被告及共犯陳玉婉之入出國日期紀錄各1份、共犯陳玉婉之外僑居留資料查詢1份在卷可按（見警三卷即南市警一刑偵字第0994101517號卷第6至24、33頁）\n",
            "3: 上開事實，首堪認定\n",
            "4: 理由甲、程序方面：一、本件以下所引用具傳聞證據性質之供述證據，因本件被告陳泰龍、檢察官等人於本院準備程序進行時，均未爭執前開陳述之證據能力，且迄至本案言詞辯論終結前亦均未聲明異議，應視為已同意援引作為證據，又本院審酌前開證據作成時之情況及證據取得過程等節，並無非出於任意性、不正取供或其他違法不當情事，且客觀上亦無顯不可信之情況，堪認為適當，是依刑事訴訟法第159條之5規定，均有證據能力\n",
            "5: 二、卷附之被告及陳玉婉入出國日期紀錄各1份等書證，均非屬供述證據，皆無傳聞法則之適用，復均無違反法定程序取得之情形，依刑事訴訟法第158條之4規定之反面解釋，均應有證據能力\n",
            "6: 一、陳泰龍明知其與泰國籍女子陳玉婉（泰國名字為JARUWANWONGPRATOOM，陳玉婉涉嫌本案偽造文書部分，另經臺灣臺南地方法院檢察署檢察官通緝中）間並無結婚之真意，然因詹巧薇、張晉源等人欲找臺灣男子前往泰國與泰國女子辦理假結婚，林清水負責介紹臺灣男子予詹巧薇、張晉源等人以賺取新臺幣（下同）1萬元之仲介費，適陳泰龍依林清水於報紙上刊登之徵人廣告應徵時，由林清水告知泰國女子欲以假結婚之方式申請來臺居留工作，其若擔任假結婚之人頭老公，除不用負擔前往泰國之食宿、機票費用外，尚可獲取5、6萬元之報酬，迨陳泰龍應允同意後，林清水將其轉介紹予詹巧薇、張晉源等人，陳泰龍遂與林清水、詹巧薇、張晉源等人共同基於行使使公務員登載不實公文書之概括犯意聯絡，先由陳泰龍依指示於民國93年4月3日前往泰國，並於同年月7日與陳玉婉在泰國曼谷市法拉坎農區註冊辦事處登記結婚，取得上開註冊辦事處核發之結婚登記書、結婚證書等文件後，陳泰龍即行返臺，並於同年5月19日持經我國駐泰國臺北經濟文化辦事處認證之上開結婚登記書、結婚證書等資料，至臺南縣永康市（改制前稱謂，以下沿用舊制稱謂）戶政事務所填寫結婚登記申請書，申請辦理其與陳玉婉之結婚登記，因此使上開戶政事務所僅有形式審查權之承辦公務員陷於錯誤，於形式上審核後，將陳泰龍與陳玉婉於93年4月7日結婚之不實事項，登載於其職務上所掌屬公文書之戶籍登記資料內，並據以核發戶籍謄本，而足以生損害於戶政機關對於戶政管理及戶籍登記資料維護之正確性\n",
            "7: 經查：(一)被告於93年4月3日前往泰國，並於同年月7日與共犯陳玉婉在泰國曼谷市法拉坎農區註冊辦事處登記結婚，取得上開註冊辦事處核發之結婚登記書、結婚證書等文件後，被告即行返臺，並於同年5月19日持經我國駐泰國臺北經濟文化辦事處認證之上開結婚登記書、結婚證書等資料，至臺南縣永康市戶政事務所填寫結婚登記申請書，申請辦理其與共犯陳玉婉之結婚登記，並取得戶籍謄本\n",
            "8: 迨陳玉婉來臺後，為取得居留身分，再由陳泰龍、陳玉婉承前概括之犯意聯絡，於同年6月14日及94年5月5日，均持前開登載不實之戶籍謄本等資料，先後向臺南縣政府警察局外事課申請核發陳玉婉之外僑居留證及申請居留證延期而連續行使之（業經檢察官當庭補充），經承辦人員實質審查結果，均未發覺陳泰龍與陳玉婉假結婚之實情，而發給陳玉婉居留證或核准延期，各足以生損害於主管機關對外僑居留管理之正確性\n",
            "9:  二、案經臺南市警察局（現改制為臺南市政府警察局，以下沿用舊制稱謂）第一分局報告臺灣臺南地方法院檢察署檢察官偵查起訴\n",
            "10: (二)共犯詹巧薇、張晉源等人當時欲找臺灣人與泰國女子結婚，由共犯林清水於報紙上刊登徵人廣告，若應徵者符合與泰國人結婚之條件，便將應徵者介紹予共犯詹巧薇、張晉源等人，共犯林清水可從中獲取1萬元之仲介費，適被告依前開徵人廣告應徵，共犯林清水衡量其條件後告知其可至泰國結婚，其除不用負擔前往泰國之機票及食宿費用外，尚可獲取5至6萬元之報酬，被告應允同意後，共犯林清水將其介紹予詹巧薇、張晉源等人，被告即依指示前往泰國與為了來臺工作且無結婚真意的共犯陳玉婉辦理結婚事宜等情，業據共犯林清水於警詢時證稱：伊登報徵人到泰國結婚，被告看報紙來的，伊便轉介予共犯詹巧薇，由共犯詹巧薇安排後續到泰國結婚之事宜，被告除不用負擔前往泰國機票、食宿等費用，尚可獲取約5至6萬元酬勞，伊則可自共犯詹巧薇獲取約1萬元之仲介費用；伊只有將被告轉介予共犯詹巧薇，並未參與後續被告前往泰國之證照、機票、食宿等相關事宜；被告係因缺錢，為了賺取擔任人頭配偶的佣金5至6萬，並不是真的要與泰國人結婚，共犯陳玉婉係為了來臺灣工作賺錢，亦不是真的要與臺灣人結婚等語（見警三卷第2至3頁）；並於本院審理時具結證稱：當初共犯詹巧薇、張晉源等人欲找男子前往泰國結婚，伊曾刊登「男、女不限、經驗不拘」等內容之徵人廣告，被告見報應徵時，被告係因缺錢才來找伊，伊衡量被告條件後認為其只能利用結婚賺取報酬，伊才向其表示是要辦結婚，伊告知被告可安排其去泰國結婚，其不用負擔食宿及機票等費用，可實拿5至6萬元的報酬，被告同意後，伊將被告介紹予共犯詹巧薇、張晉源，共犯張晉源給付佣金1萬元予伊；伊與被告談論泰國結婚事宜時，伊與被告均不知被告之結婚對象為何人，伊亦未見過與被告結婚之泰國女子，伊僅介紹被告予共犯詹巧薇、張晉源等人，伊並未參予後續之泰國結婚、辦理結婚登記及居留申請等事情；被告曾給伊一部機車，當時被告表示要去別的地方，機車留在臺南無人使用，伊修理使用一段期間後，因再度壞掉便未再使用等語（見本院卷第68頁背面至71頁）\n",
            "--->\n",
            " 1: 一、陳泰龍明知其與泰國籍女子陳玉婉（泰國名字為JARUWANWONGPRATOOM，陳玉婉涉嫌本案偽造文書部分，另經臺灣臺南地方法院檢察署檢察官通緝中）間並無結婚之真意，然因詹巧薇、張晉源等人欲找臺灣男子前往泰國與泰國女子辦理假結婚，林清水負責介紹臺灣男子予詹巧薇、張晉源等人以賺取新臺幣（下同）1萬元之仲介費，適陳泰龍依林清水於報紙上刊登之徵人廣告應徵時，由林清水告知泰國女子欲以假結婚之方式申請來臺居留工作，其若擔任假結婚之人頭老公，除不用負擔前往泰國之食宿、機票費用外，尚可獲取5、6萬元之報酬，迨陳泰龍應允同意後，林清水將其轉介紹予詹巧薇、張晉源等人，陳泰龍遂與林清水、詹巧薇、張晉源等人共同基於行使使公務員登載不實公文書之概括犯意聯絡，先由陳泰龍依指示於民國93年4月3日前往泰國，並於同年月7日與陳玉婉在泰國曼谷市法拉坎農區註冊辦事處登記結婚，取得上開註冊辦事處核發之結婚登記書、結婚證書等文件後，陳泰龍即行返臺，並於同年5月19日持經我國駐泰國臺北經濟文化辦事處認證之上開結婚登記書、結婚證書等資料，至臺南縣永康市（改制前稱謂，以下沿用舊制稱謂）戶政事務所填寫結婚登記申請書，申請辦理其與陳玉婉之結婚登記，因此使上開戶政事務所僅有形式審查權之承辦公務員陷於錯誤，於形式上審核後，將陳泰龍與陳玉婉於93年4月7日結婚之不實事項，登載於其職務上所掌屬公文書之戶籍登記資料內，並據以核發戶籍謄本，而足以生損害於戶政機關對於戶政管理及戶籍登記資料維護之正確性\n",
            "=======================================================\n",
            "1: 乙、實體方面：一、訊據被告固坦承於上開時、地，透過共犯林清水之介紹，先至泰國辦理與共犯陳玉婉之結婚手續，再前往臺南縣永康市戶政事務所辦理結婚登記，又前往臺南縣政府警察局外事課辦理共犯陳玉婉之外僑居留證及申請居留證延期之事實，惟矢口否認有何行使使公務員登載不實文書情事，於本院審理時辯稱：伊當時經濟狀況良好，因同居女友欲去日本工作而不願結婚，然伊希望結婚生子，遂透過共犯林清水之介紹與安排，共犯林清水先讓伊看過共犯陳玉婉之照片，伊再前往泰國與共犯陳玉婉結婚，伊僅負擔自己的來回機票錢及泰國住宿費用，其他結婚費用均由共犯林清水負擔，伊則贈送伊的一部機車予共犯林清水以為回報，伊並不認識共犯詹巧薇云云\n",
            "2: 迨共犯陳玉婉來臺後，為取得居留身分，被告與共犯陳玉婉於同年6月14日及94年5月5日，均持前開戶籍謄本等資料，先後向臺南縣政府警察局外事課申請核發共犯陳玉婉之外僑居留證及申請居留證延期等情，業據被告供承在卷，並有結婚登記申請書、授權書各1份、結婚登記書、結婚證書各1份（含中文、泰文影本及我國駐泰國臺北經濟文化辦事處認證之資料）、93年6月14日及94年5月5日之外國人居留停留案件聲請表各1份、被告及共犯陳玉婉之入出國日期紀錄各1份、共犯陳玉婉之外僑居留資料查詢1份在卷可按（見警三卷即南市警一刑偵字第0994101517號卷第6至24、33頁）\n",
            "3: 上開事實，首堪認定\n",
            "4: 理由甲、程序方面：一、本件以下所引用具傳聞證據性質之供述證據，因本件被告陳泰龍、檢察官等人於本院準備程序進行時，均未爭執前開陳述之證據能力，且迄至本案言詞辯論終結前亦均未聲明異議，應視為已同意援引作為證據，又本院審酌前開證據作成時之情況及證據取得過程等節，並無非出於任意性、不正取供或其他違法不當情事，且客觀上亦無顯不可信之情況，堪認為適當，是依刑事訴訟法第159條之5規定，均有證據能力\n",
            "5: 二、卷附之被告及陳玉婉入出國日期紀錄各1份等書證，均非屬供述證據，皆無傳聞法則之適用，復均無違反法定程序取得之情形，依刑事訴訟法第158條之4規定之反面解釋，均應有證據能力\n",
            "6: 一、陳泰龍明知其與泰國籍女子陳玉婉（泰國名字為JARUWANWONGPRATOOM，陳玉婉涉嫌本案偽造文書部分，另經臺灣臺南地方法院檢察署檢察官通緝中）間並無結婚之真意，然因詹巧薇、張晉源等人欲找臺灣男子前往泰國與泰國女子辦理假結婚，林清水負責介紹臺灣男子予詹巧薇、張晉源等人以賺取新臺幣（下同）1萬元之仲介費，適陳泰龍依林清水於報紙上刊登之徵人廣告應徵時，由林清水告知泰國女子欲以假結婚之方式申請來臺居留工作，其若擔任假結婚之人頭老公，除不用負擔前往泰國之食宿、機票費用外，尚可獲取5、6萬元之報酬，迨陳泰龍應允同意後，林清水將其轉介紹予詹巧薇、張晉源等人，陳泰龍遂與林清水、詹巧薇、張晉源等人共同基於行使使公務員登載不實公文書之概括犯意聯絡，先由陳泰龍依指示於民國93年4月3日前往泰國，並於同年月7日與陳玉婉在泰國曼谷市法拉坎農區註冊辦事處登記結婚，取得上開註冊辦事處核發之結婚登記書、結婚證書等文件後，陳泰龍即行返臺，並於同年5月19日持經我國駐泰國臺北經濟文化辦事處認證之上開結婚登記書、結婚證書等資料，至臺南縣永康市（改制前稱謂，以下沿用舊制稱謂）戶政事務所填寫結婚登記申請書，申請辦理其與陳玉婉之結婚登記，因此使上開戶政事務所僅有形式審查權之承辦公務員陷於錯誤，於形式上審核後，將陳泰龍與陳玉婉於93年4月7日結婚之不實事項，登載於其職務上所掌屬公文書之戶籍登記資料內，並據以核發戶籍謄本，而足以生損害於戶政機關對於戶政管理及戶籍登記資料維護之正確性\n",
            "7: 經查：(一)被告於93年4月3日前往泰國，並於同年月7日與共犯陳玉婉在泰國曼谷市法拉坎農區註冊辦事處登記結婚，取得上開註冊辦事處核發之結婚登記書、結婚證書等文件後，被告即行返臺，並於同年5月19日持經我國駐泰國臺北經濟文化辦事處認證之上開結婚登記書、結婚證書等資料，至臺南縣永康市戶政事務所填寫結婚登記申請書，申請辦理其與共犯陳玉婉之結婚登記，並取得戶籍謄本\n",
            "8: 迨陳玉婉來臺後，為取得居留身分，再由陳泰龍、陳玉婉承前概括之犯意聯絡，於同年6月14日及94年5月5日，均持前開登載不實之戶籍謄本等資料，先後向臺南縣政府警察局外事課申請核發陳玉婉之外僑居留證及申請居留證延期而連續行使之（業經檢察官當庭補充），經承辦人員實質審查結果，均未發覺陳泰龍與陳玉婉假結婚之實情，而發給陳玉婉居留證或核准延期，各足以生損害於主管機關對外僑居留管理之正確性\n",
            "9:  二、案經臺南市警察局（現改制為臺南市政府警察局，以下沿用舊制稱謂）第一分局報告臺灣臺南地方法院檢察署檢察官偵查起訴\n",
            "10: (二)共犯詹巧薇、張晉源等人當時欲找臺灣人與泰國女子結婚，由共犯林清水於報紙上刊登徵人廣告，若應徵者符合與泰國人結婚之條件，便將應徵者介紹予共犯詹巧薇、張晉源等人，共犯林清水可從中獲取1萬元之仲介費，適被告依前開徵人廣告應徵，共犯林清水衡量其條件後告知其可至泰國結婚，其除不用負擔前往泰國之機票及食宿費用外，尚可獲取5至6萬元之報酬，被告應允同意後，共犯林清水將其介紹予詹巧薇、張晉源等人，被告即依指示前往泰國與為了來臺工作且無結婚真意的共犯陳玉婉辦理結婚事宜等情，業據共犯林清水於警詢時證稱：伊登報徵人到泰國結婚，被告看報紙來的，伊便轉介予共犯詹巧薇，由共犯詹巧薇安排後續到泰國結婚之事宜，被告除不用負擔前往泰國機票、食宿等費用，尚可獲取約5至6萬元酬勞，伊則可自共犯詹巧薇獲取約1萬元之仲介費用；伊只有將被告轉介予共犯詹巧薇，並未參與後續被告前往泰國之證照、機票、食宿等相關事宜；被告係因缺錢，為了賺取擔任人頭配偶的佣金5至6萬，並不是真的要與泰國人結婚，共犯陳玉婉係為了來臺灣工作賺錢，亦不是真的要與臺灣人結婚等語（見警三卷第2至3頁）；並於本院審理時具結證稱：當初共犯詹巧薇、張晉源等人欲找男子前往泰國結婚，伊曾刊登「男、女不限、經驗不拘」等內容之徵人廣告，被告見報應徵時，被告係因缺錢才來找伊，伊衡量被告條件後認為其只能利用結婚賺取報酬，伊才向其表示是要辦結婚，伊告知被告可安排其去泰國結婚，其不用負擔食宿及機票等費用，可實拿5至6萬元的報酬，被告同意後，伊將被告介紹予共犯詹巧薇、張晉源，共犯張晉源給付佣金1萬元予伊；伊與被告談論泰國結婚事宜時，伊與被告均不知被告之結婚對象為何人，伊亦未見過與被告結婚之泰國女子，伊僅介紹被告予共犯詹巧薇、張晉源等人，伊並未參予後續之泰國結婚、辦理結婚登記及居留申請等事情；被告曾給伊一部機車，當時被告表示要去別的地方，機車留在臺南無人使用，伊修理使用一段期間後，因再度壞掉便未再使用等語（見本院卷第68頁背面至71頁）\n",
            "--->\n",
            " 1: (二)共犯詹巧薇、張晉源等人當時欲找臺灣人與泰國女子結婚，由共犯林清水於報紙上刊登徵人廣告，若應徵者符合與泰國人結婚之條件，便將應徵者介紹予共犯詹巧薇、張晉源等人，共犯林清水可從中獲取1萬元之仲介費，適被告依前開徵人廣告應徵，共犯林清水衡量其條件後告知其可至泰國結婚，其除不用負擔前往泰國之機票及食宿費用外，尚可獲取5至6萬元之報酬，被告應允同意後，共犯林清水將其介紹予詹巧薇、張晉源等人，被告即依指示前往泰國與為了來臺工作且無結婚真意的共犯陳玉婉辦理結婚事宜等情，業據共犯林清水於警詢時證稱：伊登報徵人到泰國結婚，被告看報紙來的，伊便轉介予共犯詹巧薇，由共犯詹巧薇安排後續到泰國結婚之事宜，被告除不用負擔前往泰國機票、食宿等費用，尚可獲取約5至6萬元酬勞，伊則可自共犯詹巧薇獲取約1萬元之仲介費用；伊只有將被告轉介予共犯詹巧薇，並未參與後續被告前往泰國之證照、機票、食宿等相關事宜；被告係因缺錢，為了賺取擔任人頭配偶的佣金5至6萬，並不是真的要與泰國人結婚，共犯陳玉婉係為了來臺灣工作賺錢，亦不是真的要與臺灣人結婚等語（見警三卷第2至3頁）；並於本院審理時具結證稱：當初共犯詹巧薇、張晉源等人欲找男子前往泰國結婚，伊曾刊登「男、女不限、經驗不拘」等內容之徵人廣告，被告見報應徵時，被告係因缺錢才來找伊，伊衡量被告條件後認為其只能利用結婚賺取報酬，伊才向其表示是要辦結婚，伊告知被告可安排其去泰國結婚，其不用負擔食宿及機票等費用，可實拿5至6萬元的報酬，被告同意後，伊將被告介紹予共犯詹巧薇、張晉源，共犯張晉源給付佣金1萬元予伊；伊與被告談論泰國結婚事宜時，伊與被告均不知被告之結婚對象為何人，伊亦未見過與被告結婚之泰國女子，伊僅介紹被告予共犯詹巧薇、張晉源等人，伊並未參予後續之泰國結婚、辦理結婚登記及居留申請等事情；被告曾給伊一部機車，當時被告表示要去別的地方，機車留在臺南無人使用，伊修理使用一段期間後，因再度壞掉便未再使用等語（見本院卷第68頁背面至71頁）\n",
            "=======================================================\n"
          ]
        }
      ],
      "source": [
        "print(prompt1)\n",
        "print(\"--->\")\n",
        "print(get_breeze(query+prompt1))\n",
        "print(\"=======================================================\")\n",
        "print(prompt1)\n",
        "print(\"--->\")\n",
        "print(get_breeze(query+prompt2))\n",
        "print(\"=======================================================\")\n",
        "print(prompt1)\n",
        "print(\"--->\")\n",
        "print(get_breeze(query+prompt3))\n",
        "print(\"=======================================================\")"
      ]
    },
    {
      "cell_type": "code",
      "execution_count": null,
      "metadata": {
        "id": "eWiVtj0UIa9i"
      },
      "outputs": [],
      "source": [
        "query = \"以下句子都是來自一篇法律判決書，請從這些句子中挑選出和事實情節描述最相關的三個句子：\\n\""
      ]
    },
    {
      "cell_type": "code",
      "execution_count": null,
      "metadata": {
        "colab": {
          "base_uri": "https://localhost:8080/"
        },
        "id": "NScKWCTlIdme",
        "outputId": "206b618b-1045-4f89-8939-4bc737db750a"
      },
      "outputs": [
        {
          "name": "stdout",
          "output_type": "stream",
          "text": [
            "1: 乙、實體方面：一、訊據被告固坦承於上開時、地，透過共犯林清水之介紹，先至泰國辦理與共犯陳玉婉之結婚手續，再前往臺南縣永康市戶政事務所辦理結婚登記，又前往臺南縣政府警察局外事課辦理共犯陳玉婉之外僑居留證及申請居留證延期之事實，惟矢口否認有何行使使公務員登載不實文書情事，於本院審理時辯稱：伊當時經濟狀況良好，因同居女友欲去日本工作而不願結婚，然伊希望結婚生子，遂透過共犯林清水之介紹與安排，共犯林清水先讓伊看過共犯陳玉婉之照片，伊再前往泰國與共犯陳玉婉結婚，伊僅負擔自己的來回機票錢及泰國住宿費用，其他結婚費用均由共犯林清水負擔，伊則贈送伊的一部機車予共犯林清水以為回報，伊並不認識共犯詹巧薇云云\n",
            "2: 迨共犯陳玉婉來臺後，為取得居留身分，被告與共犯陳玉婉於同年6月14日及94年5月5日，均持前開戶籍謄本等資料，先後向臺南縣政府警察局外事課申請核發共犯陳玉婉之外僑居留證及申請居留證延期等情，業據被告供承在卷，並有結婚登記申請書、授權書各1份、結婚登記書、結婚證書各1份（含中文、泰文影本及我國駐泰國臺北經濟文化辦事處認證之資料）、93年6月14日及94年5月5日之外國人居留停留案件聲請表各1份、被告及共犯陳玉婉之入出國日期紀錄各1份、共犯陳玉婉之外僑居留資料查詢1份在卷可按（見警三卷即南市警一刑偵字第0994101517號卷第6至24、33頁）\n",
            "3: 上開事實，首堪認定\n",
            "4: 理由甲、程序方面：一、本件以下所引用具傳聞證據性質之供述證據，因本件被告陳泰龍、檢察官等人於本院準備程序進行時，均未爭執前開陳述之證據能力，且迄至本案言詞辯論終結前亦均未聲明異議，應視為已同意援引作為證據，又本院審酌前開證據作成時之情況及證據取得過程等節，並無非出於任意性、不正取供或其他違法不當情事，且客觀上亦無顯不可信之情況，堪認為適當，是依刑事訴訟法第159條之5規定，均有證據能力\n",
            "5: 二、卷附之被告及陳玉婉入出國日期紀錄各1份等書證，均非屬供述證據，皆無傳聞法則之適用，復均無違反法定程序取得之情形，依刑事訴訟法第158條之4規定之反面解釋，均應有證據能力\n",
            "6: 一、陳泰龍明知其與泰國籍女子陳玉婉（泰國名字為JARUWANWONGPRATOOM，陳玉婉涉嫌本案偽造文書部分，另經臺灣臺南地方法院檢察署檢察官通緝中）間並無結婚之真意，然因詹巧薇、張晉源等人欲找臺灣男子前往泰國與泰國女子辦理假結婚，林清水負責介紹臺灣男子予詹巧薇、張晉源等人以賺取新臺幣（下同）1萬元之仲介費，適陳泰龍依林清水於報紙上刊登之徵人廣告應徵時，由林清水告知泰國女子欲以假結婚之方式申請來臺居留工作，其若擔任假結婚之人頭老公，除不用負擔前往泰國之食宿、機票費用外，尚可獲取5、6萬元之報酬，迨陳泰龍應允同意後，林清水將其轉介紹予詹巧薇、張晉源等人，陳泰龍遂與林清水、詹巧薇、張晉源等人共同基於行使使公務員登載不實公文書之概括犯意聯絡，先由陳泰龍依指示於民國93年4月3日前往泰國，並於同年月7日與陳玉婉在泰國曼谷市法拉坎農區註冊辦事處登記結婚，取得上開註冊辦事處核發之結婚登記書、結婚證書等文件後，陳泰龍即行返臺，並於同年5月19日持經我國駐泰國臺北經濟文化辦事處認證之上開結婚登記書、結婚證書等資料，至臺南縣永康市（改制前稱謂，以下沿用舊制稱謂）戶政事務所填寫結婚登記申請書，申請辦理其與陳玉婉之結婚登記，因此使上開戶政事務所僅有形式審查權之承辦公務員陷於錯誤，於形式上審核後，將陳泰龍與陳玉婉於93年4月7日結婚之不實事項，登載於其職務上所掌屬公文書之戶籍登記資料內，並據以核發戶籍謄本，而足以生損害於戶政機關對於戶政管理及戶籍登記資料維護之正確性\n",
            "7: 經查：(一)被告於93年4月3日前往泰國，並於同年月7日與共犯陳玉婉在泰國曼谷市法拉坎農區註冊辦事處登記結婚，取得上開註冊辦事處核發之結婚登記書、結婚證書等文件後，被告即行返臺，並於同年5月19日持經我國駐泰國臺北經濟文化辦事處認證之上開結婚登記書、結婚證書等資料，至臺南縣永康市戶政事務所填寫結婚登記申請書，申請辦理其與共犯陳玉婉之結婚登記，並取得戶籍謄本\n",
            "8: 迨陳玉婉來臺後，為取得居留身分，再由陳泰龍、陳玉婉承前概括之犯意聯絡，於同年6月14日及94年5月5日，均持前開登載不實之戶籍謄本等資料，先後向臺南縣政府警察局外事課申請核發陳玉婉之外僑居留證及申請居留證延期而連續行使之（業經檢察官當庭補充），經承辦人員實質審查結果，均未發覺陳泰龍與陳玉婉假結婚之實情，而發給陳玉婉居留證或核准延期，各足以生損害於主管機關對外僑居留管理之正確性\n",
            "9:  二、案經臺南市警察局（現改制為臺南市政府警察局，以下沿用舊制稱謂）第一分局報告臺灣臺南地方法院檢察署檢察官偵查起訴\n",
            "10: (二)共犯詹巧薇、張晉源等人當時欲找臺灣人與泰國女子結婚，由共犯林清水於報紙上刊登徵人廣告，若應徵者符合與泰國人結婚之條件，便將應徵者介紹予共犯詹巧薇、張晉源等人，共犯林清水可從中獲取1萬元之仲介費，適被告依前開徵人廣告應徵，共犯林清水衡量其條件後告知其可至泰國結婚，其除不用負擔前往泰國之機票及食宿費用外，尚可獲取5至6萬元之報酬，被告應允同意後，共犯林清水將其介紹予詹巧薇、張晉源等人，被告即依指示前往泰國與為了來臺工作且無結婚真意的共犯陳玉婉辦理結婚事宜等情，業據共犯林清水於警詢時證稱：伊登報徵人到泰國結婚，被告看報紙來的，伊便轉介予共犯詹巧薇，由共犯詹巧薇安排後續到泰國結婚之事宜，被告除不用負擔前往泰國機票、食宿等費用，尚可獲取約5至6萬元酬勞，伊則可自共犯詹巧薇獲取約1萬元之仲介費用；伊只有將被告轉介予共犯詹巧薇，並未參與後續被告前往泰國之證照、機票、食宿等相關事宜；被告係因缺錢，為了賺取擔任人頭配偶的佣金5至6萬，並不是真的要與泰國人結婚，共犯陳玉婉係為了來臺灣工作賺錢，亦不是真的要與臺灣人結婚等語（見警三卷第2至3頁）；並於本院審理時具結證稱：當初共犯詹巧薇、張晉源等人欲找男子前往泰國結婚，伊曾刊登「男、女不限、經驗不拘」等內容之徵人廣告，被告見報應徵時，被告係因缺錢才來找伊，伊衡量被告條件後認為其只能利用結婚賺取報酬，伊才向其表示是要辦結婚，伊告知被告可安排其去泰國結婚，其不用負擔食宿及機票等費用，可實拿5至6萬元的報酬，被告同意後，伊將被告介紹予共犯詹巧薇、張晉源，共犯張晉源給付佣金1萬元予伊；伊與被告談論泰國結婚事宜時，伊與被告均不知被告之結婚對象為何人，伊亦未見過與被告結婚之泰國女子，伊僅介紹被告予共犯詹巧薇、張晉源等人，伊並未參予後續之泰國結婚、辦理結婚登記及居留申請等事情；被告曾給伊一部機車，當時被告表示要去別的地方，機車留在臺南無人使用，伊修理使用一段期間後，因再度壞掉便未再使用等語（見本院卷第68頁背面至71頁）\n",
            "--->\n",
            " 3: 上開事實，首堪認定\n",
            "4: 理由甲、程序方面：一、本件以下所引用具傳聞證據性質之供述證據，因本件被告陳泰龍、檢察官等人於本院準備程序進行時，均未爭執前開陳述之證據能力，且迄至本案言詞辯論終結前亦均未聲明異議，應視為已同意援引作為證據，又本院審酌前開證據作成時之情況及證據取得過程等節，並無非出於任意性、不正取供或其他違法不當情事，且客觀上亦無顯不可信之情況，堪認為適當，是依刑事訴訟法第159條之5規定，均有證據能力\n",
            "5: 二、卷附之被告及陳玉婉入出國日期紀錄各1份等書證，均非屬供述證據，皆無傳聞法則之適用，復均無違反法定程序取得之情形，依刑事訴訟法第158條之4規定之反面解釋，均應有證據能力\n",
            "=======================================================\n",
            "1: 乙、實體方面：一、訊據被告固坦承於上開時、地，透過共犯林清水之介紹，先至泰國辦理與共犯陳玉婉之結婚手續，再前往臺南縣永康市戶政事務所辦理結婚登記，又前往臺南縣政府警察局外事課辦理共犯陳玉婉之外僑居留證及申請居留證延期之事實，惟矢口否認有何行使使公務員登載不實文書情事，於本院審理時辯稱：伊當時經濟狀況良好，因同居女友欲去日本工作而不願結婚，然伊希望結婚生子，遂透過共犯林清水之介紹與安排，共犯林清水先讓伊看過共犯陳玉婉之照片，伊再前往泰國與共犯陳玉婉結婚，伊僅負擔自己的來回機票錢及泰國住宿費用，其他結婚費用均由共犯林清水負擔，伊則贈送伊的一部機車予共犯林清水以為回報，伊並不認識共犯詹巧薇云云\n",
            "2: 迨共犯陳玉婉來臺後，為取得居留身分，被告與共犯陳玉婉於同年6月14日及94年5月5日，均持前開戶籍謄本等資料，先後向臺南縣政府警察局外事課申請核發共犯陳玉婉之外僑居留證及申請居留證延期等情，業據被告供承在卷，並有結婚登記申請書、授權書各1份、結婚登記書、結婚證書各1份（含中文、泰文影本及我國駐泰國臺北經濟文化辦事處認證之資料）、93年6月14日及94年5月5日之外國人居留停留案件聲請表各1份、被告及共犯陳玉婉之入出國日期紀錄各1份、共犯陳玉婉之外僑居留資料查詢1份在卷可按（見警三卷即南市警一刑偵字第0994101517號卷第6至24、33頁）\n",
            "3: 上開事實，首堪認定\n",
            "4: 理由甲、程序方面：一、本件以下所引用具傳聞證據性質之供述證據，因本件被告陳泰龍、檢察官等人於本院準備程序進行時，均未爭執前開陳述之證據能力，且迄至本案言詞辯論終結前亦均未聲明異議，應視為已同意援引作為證據，又本院審酌前開證據作成時之情況及證據取得過程等節，並無非出於任意性、不正取供或其他違法不當情事，且客觀上亦無顯不可信之情況，堪認為適當，是依刑事訴訟法第159條之5規定，均有證據能力\n",
            "5: 二、卷附之被告及陳玉婉入出國日期紀錄各1份等書證，均非屬供述證據，皆無傳聞法則之適用，復均無違反法定程序取得之情形，依刑事訴訟法第158條之4規定之反面解釋，均應有證據能力\n",
            "6: 一、陳泰龍明知其與泰國籍女子陳玉婉（泰國名字為JARUWANWONGPRATOOM，陳玉婉涉嫌本案偽造文書部分，另經臺灣臺南地方法院檢察署檢察官通緝中）間並無結婚之真意，然因詹巧薇、張晉源等人欲找臺灣男子前往泰國與泰國女子辦理假結婚，林清水負責介紹臺灣男子予詹巧薇、張晉源等人以賺取新臺幣（下同）1萬元之仲介費，適陳泰龍依林清水於報紙上刊登之徵人廣告應徵時，由林清水告知泰國女子欲以假結婚之方式申請來臺居留工作，其若擔任假結婚之人頭老公，除不用負擔前往泰國之食宿、機票費用外，尚可獲取5、6萬元之報酬，迨陳泰龍應允同意後，林清水將其轉介紹予詹巧薇、張晉源等人，陳泰龍遂與林清水、詹巧薇、張晉源等人共同基於行使使公務員登載不實公文書之概括犯意聯絡，先由陳泰龍依指示於民國93年4月3日前往泰國，並於同年月7日與陳玉婉在泰國曼谷市法拉坎農區註冊辦事處登記結婚，取得上開註冊辦事處核發之結婚登記書、結婚證書等文件後，陳泰龍即行返臺，並於同年5月19日持經我國駐泰國臺北經濟文化辦事處認證之上開結婚登記書、結婚證書等資料，至臺南縣永康市（改制前稱謂，以下沿用舊制稱謂）戶政事務所填寫結婚登記申請書，申請辦理其與陳玉婉之結婚登記，因此使上開戶政事務所僅有形式審查權之承辦公務員陷於錯誤，於形式上審核後，將陳泰龍與陳玉婉於93年4月7日結婚之不實事項，登載於其職務上所掌屬公文書之戶籍登記資料內，並據以核發戶籍謄本，而足以生損害於戶政機關對於戶政管理及戶籍登記資料維護之正確性\n",
            "7: 經查：(一)被告於93年4月3日前往泰國，並於同年月7日與共犯陳玉婉在泰國曼谷市法拉坎農區註冊辦事處登記結婚，取得上開註冊辦事處核發之結婚登記書、結婚證書等文件後，被告即行返臺，並於同年5月19日持經我國駐泰國臺北經濟文化辦事處認證之上開結婚登記書、結婚證書等資料，至臺南縣永康市戶政事務所填寫結婚登記申請書，申請辦理其與共犯陳玉婉之結婚登記，並取得戶籍謄本\n",
            "8: 迨陳玉婉來臺後，為取得居留身分，再由陳泰龍、陳玉婉承前概括之犯意聯絡，於同年6月14日及94年5月5日，均持前開登載不實之戶籍謄本等資料，先後向臺南縣政府警察局外事課申請核發陳玉婉之外僑居留證及申請居留證延期而連續行使之（業經檢察官當庭補充），經承辦人員實質審查結果，均未發覺陳泰龍與陳玉婉假結婚之實情，而發給陳玉婉居留證或核准延期，各足以生損害於主管機關對外僑居留管理之正確性\n",
            "9:  二、案經臺南市警察局（現改制為臺南市政府警察局，以下沿用舊制稱謂）第一分局報告臺灣臺南地方法院檢察署檢察官偵查起訴\n",
            "10: (二)共犯詹巧薇、張晉源等人當時欲找臺灣人與泰國女子結婚，由共犯林清水於報紙上刊登徵人廣告，若應徵者符合與泰國人結婚之條件，便將應徵者介紹予共犯詹巧薇、張晉源等人，共犯林清水可從中獲取1萬元之仲介費，適被告依前開徵人廣告應徵，共犯林清水衡量其條件後告知其可至泰國結婚，其除不用負擔前往泰國之機票及食宿費用外，尚可獲取5至6萬元之報酬，被告應允同意後，共犯林清水將其介紹予詹巧薇、張晉源等人，被告即依指示前往泰國與為了來臺工作且無結婚真意的共犯陳玉婉辦理結婚事宜等情，業據共犯林清水於警詢時證稱：伊登報徵人到泰國結婚，被告看報紙來的，伊便轉介予共犯詹巧薇，由共犯詹巧薇安排後續到泰國結婚之事宜，被告除不用負擔前往泰國機票、食宿等費用，尚可獲取約5至6萬元酬勞，伊則可自共犯詹巧薇獲取約1萬元之仲介費用；伊只有將被告轉介予共犯詹巧薇，並未參與後續被告前往泰國之證照、機票、食宿等相關事宜；被告係因缺錢，為了賺取擔任人頭配偶的佣金5至6萬，並不是真的要與泰國人結婚，共犯陳玉婉係為了來臺灣工作賺錢，亦不是真的要與臺灣人結婚等語（見警三卷第2至3頁）；並於本院審理時具結證稱：當初共犯詹巧薇、張晉源等人欲找男子前往泰國結婚，伊曾刊登「男、女不限、經驗不拘」等內容之徵人廣告，被告見報應徵時，被告係因缺錢才來找伊，伊衡量被告條件後認為其只能利用結婚賺取報酬，伊才向其表示是要辦結婚，伊告知被告可安排其去泰國結婚，其不用負擔食宿及機票等費用，可實拿5至6萬元的報酬，被告同意後，伊將被告介紹予共犯詹巧薇、張晉源，共犯張晉源給付佣金1萬元予伊；伊與被告談論泰國結婚事宜時，伊與被告均不知被告之結婚對象為何人，伊亦未見過與被告結婚之泰國女子，伊僅介紹被告予共犯詹巧薇、張晉源等人，伊並未參予後續之泰國結婚、辦理結婚登記及居留申請等事情；被告曾給伊一部機車，當時被告表示要去別的地方，機車留在臺南無人使用，伊修理使用一段期間後，因再度壞掉便未再使用等語（見本院卷第68頁背面至71頁）\n",
            "--->\n",
            " 1: 一、陳泰龍明知其與泰國籍女子陳玉婉（泰國名字為JARUWANWONGPRATOOM，陳玉婉涉嫌本案偽造文書部分，另經臺灣臺南地方法院檢察署檢察官通緝中）間並無結婚之真意，然因詹巧薇、張晉源等人欲找臺灣男子前往泰國與泰國女子辦理假結婚，林清水負責介紹臺灣男子予詹巧薇、張晉源等人以賺取新臺幣（下同）1萬元之仲介費，適陳泰龍依林清水於報紙上刊登之徵人廣告應徵時，由林清水告知泰國女子欲以假結婚之方式申請來臺居留工作，其若擔任假結婚之人頭老公，除不用負擔前往泰國之食宿、機票費用外，尚可獲取5、6萬元之報酬，迨陳泰龍應允同意後，林清水將其轉介紹予詹巧薇、張晉源等人，陳泰龍遂與林清水、詹巧薇、張晉源等人共同基於行使使公務員登載不實公文書之概括犯意聯絡，先由陳泰龍依指示於民國93年4月3日前往泰國，並於同年月7日與陳玉婉在泰國曼谷市法拉坎農區註冊辦事處登記結婚，取得上開註冊辦事處核發之結婚登記書、結婚證書等文件後，陳泰龍即行返臺，並於同年5月19日持經我國駐泰國臺北經濟文化辦事處認證之上開結婚登記書、結婚證書等資料，至臺南縣永康市（改制前稱謂，以下沿用舊制稱謂）戶政事務所填寫結婚登記申請書，申請辦理其與陳玉婉之結婚登記，因此使上開戶政事務所僅有形式審查權之承辦公務員陷於錯誤，於形式上審核後，將陳泰龍與陳玉婉於93年4月7日結婚之不實事項，登載於其職務上所掌屬公文書之戶籍登記資料內，並據以核發戶籍謄本，而足以生損害於戶政機關對於戶政管理及戶籍登記資料維護之正確性\n",
            "=======================================================\n",
            "1: 乙、實體方面：一、訊據被告固坦承於上開時、地，透過共犯林清水之介紹，先至泰國辦理與共犯陳玉婉之結婚手續，再前往臺南縣永康市戶政事務所辦理結婚登記，又前往臺南縣政府警察局外事課辦理共犯陳玉婉之外僑居留證及申請居留證延期之事實，惟矢口否認有何行使使公務員登載不實文書情事，於本院審理時辯稱：伊當時經濟狀況良好，因同居女友欲去日本工作而不願結婚，然伊希望結婚生子，遂透過共犯林清水之介紹與安排，共犯林清水先讓伊看過共犯陳玉婉之照片，伊再前往泰國與共犯陳玉婉結婚，伊僅負擔自己的來回機票錢及泰國住宿費用，其他結婚費用均由共犯林清水負擔，伊則贈送伊的一部機車予共犯林清水以為回報，伊並不認識共犯詹巧薇云云\n",
            "2: 迨共犯陳玉婉來臺後，為取得居留身分，被告與共犯陳玉婉於同年6月14日及94年5月5日，均持前開戶籍謄本等資料，先後向臺南縣政府警察局外事課申請核發共犯陳玉婉之外僑居留證及申請居留證延期等情，業據被告供承在卷，並有結婚登記申請書、授權書各1份、結婚登記書、結婚證書各1份（含中文、泰文影本及我國駐泰國臺北經濟文化辦事處認證之資料）、93年6月14日及94年5月5日之外國人居留停留案件聲請表各1份、被告及共犯陳玉婉之入出國日期紀錄各1份、共犯陳玉婉之外僑居留資料查詢1份在卷可按（見警三卷即南市警一刑偵字第0994101517號卷第6至24、33頁）\n",
            "3: 上開事實，首堪認定\n",
            "4: 理由甲、程序方面：一、本件以下所引用具傳聞證據性質之供述證據，因本件被告陳泰龍、檢察官等人於本院準備程序進行時，均未爭執前開陳述之證據能力，且迄至本案言詞辯論終結前亦均未聲明異議，應視為已同意援引作為證據，又本院審酌前開證據作成時之情況及證據取得過程等節，並無非出於任意性、不正取供或其他違法不當情事，且客觀上亦無顯不可信之情況，堪認為適當，是依刑事訴訟法第159條之5規定，均有證據能力\n",
            "5: 二、卷附之被告及陳玉婉入出國日期紀錄各1份等書證，均非屬供述證據，皆無傳聞法則之適用，復均無違反法定程序取得之情形，依刑事訴訟法第158條之4規定之反面解釋，均應有證據能力\n",
            "6: 一、陳泰龍明知其與泰國籍女子陳玉婉（泰國名字為JARUWANWONGPRATOOM，陳玉婉涉嫌本案偽造文書部分，另經臺灣臺南地方法院檢察署檢察官通緝中）間並無結婚之真意，然因詹巧薇、張晉源等人欲找臺灣男子前往泰國與泰國女子辦理假結婚，林清水負責介紹臺灣男子予詹巧薇、張晉源等人以賺取新臺幣（下同）1萬元之仲介費，適陳泰龍依林清水於報紙上刊登之徵人廣告應徵時，由林清水告知泰國女子欲以假結婚之方式申請來臺居留工作，其若擔任假結婚之人頭老公，除不用負擔前往泰國之食宿、機票費用外，尚可獲取5、6萬元之報酬，迨陳泰龍應允同意後，林清水將其轉介紹予詹巧薇、張晉源等人，陳泰龍遂與林清水、詹巧薇、張晉源等人共同基於行使使公務員登載不實公文書之概括犯意聯絡，先由陳泰龍依指示於民國93年4月3日前往泰國，並於同年月7日與陳玉婉在泰國曼谷市法拉坎農區註冊辦事處登記結婚，取得上開註冊辦事處核發之結婚登記書、結婚證書等文件後，陳泰龍即行返臺，並於同年5月19日持經我國駐泰國臺北經濟文化辦事處認證之上開結婚登記書、結婚證書等資料，至臺南縣永康市（改制前稱謂，以下沿用舊制稱謂）戶政事務所填寫結婚登記申請書，申請辦理其與陳玉婉之結婚登記，因此使上開戶政事務所僅有形式審查權之承辦公務員陷於錯誤，於形式上審核後，將陳泰龍與陳玉婉於93年4月7日結婚之不實事項，登載於其職務上所掌屬公文書之戶籍登記資料內，並據以核發戶籍謄本，而足以生損害於戶政機關對於戶政管理及戶籍登記資料維護之正確性\n",
            "7: 經查：(一)被告於93年4月3日前往泰國，並於同年月7日與共犯陳玉婉在泰國曼谷市法拉坎農區註冊辦事處登記結婚，取得上開註冊辦事處核發之結婚登記書、結婚證書等文件後，被告即行返臺，並於同年5月19日持經我國駐泰國臺北經濟文化辦事處認證之上開結婚登記書、結婚證書等資料，至臺南縣永康市戶政事務所填寫結婚登記申請書，申請辦理其與共犯陳玉婉之結婚登記，並取得戶籍謄本\n",
            "8: 迨陳玉婉來臺後，為取得居留身分，再由陳泰龍、陳玉婉承前概括之犯意聯絡，於同年6月14日及94年5月5日，均持前開登載不實之戶籍謄本等資料，先後向臺南縣政府警察局外事課申請核發陳玉婉之外僑居留證及申請居留證延期而連續行使之（業經檢察官當庭補充），經承辦人員實質審查結果，均未發覺陳泰龍與陳玉婉假結婚之實情，而發給陳玉婉居留證或核准延期，各足以生損害於主管機關對外僑居留管理之正確性\n",
            "9:  二、案經臺南市警察局（現改制為臺南市政府警察局，以下沿用舊制稱謂）第一分局報告臺灣臺南地方法院檢察署檢察官偵查起訴\n",
            "10: (二)共犯詹巧薇、張晉源等人當時欲找臺灣人與泰國女子結婚，由共犯林清水於報紙上刊登徵人廣告，若應徵者符合與泰國人結婚之條件，便將應徵者介紹予共犯詹巧薇、張晉源等人，共犯林清水可從中獲取1萬元之仲介費，適被告依前開徵人廣告應徵，共犯林清水衡量其條件後告知其可至泰國結婚，其除不用負擔前往泰國之機票及食宿費用外，尚可獲取5至6萬元之報酬，被告應允同意後，共犯林清水將其介紹予詹巧薇、張晉源等人，被告即依指示前往泰國與為了來臺工作且無結婚真意的共犯陳玉婉辦理結婚事宜等情，業據共犯林清水於警詢時證稱：伊登報徵人到泰國結婚，被告看報紙來的，伊便轉介予共犯詹巧薇，由共犯詹巧薇安排後續到泰國結婚之事宜，被告除不用負擔前往泰國機票、食宿等費用，尚可獲取約5至6萬元酬勞，伊則可自共犯詹巧薇獲取約1萬元之仲介費用；伊只有將被告轉介予共犯詹巧薇，並未參與後續被告前往泰國之證照、機票、食宿等相關事宜；被告係因缺錢，為了賺取擔任人頭配偶的佣金5至6萬，並不是真的要與泰國人結婚，共犯陳玉婉係為了來臺灣工作賺錢，亦不是真的要與臺灣人結婚等語（見警三卷第2至3頁）；並於本院審理時具結證稱：當初共犯詹巧薇、張晉源等人欲找男子前往泰國結婚，伊曾刊登「男、女不限、經驗不拘」等內容之徵人廣告，被告見報應徵時，被告係因缺錢才來找伊，伊衡量被告條件後認為其只能利用結婚賺取報酬，伊才向其表示是要辦結婚，伊告知被告可安排其去泰國結婚，其不用負擔食宿及機票等費用，可實拿5至6萬元的報酬，被告同意後，伊將被告介紹予共犯詹巧薇、張晉源，共犯張晉源給付佣金1萬元予伊；伊與被告談論泰國結婚事宜時，伊與被告均不知被告之結婚對象為何人，伊亦未見過與被告結婚之泰國女子，伊僅介紹被告予共犯詹巧薇、張晉源等人，伊並未參予後續之泰國結婚、辦理結婚登記及居留申請等事情；被告曾給伊一部機車，當時被告表示要去別的地方，機車留在臺南無人使用，伊修理使用一段期間後，因再度壞掉便未再使用等語（見本院卷第68頁背面至71頁）\n",
            "--->\n",
            " 1: (二)共犯詹巧薇、張晉源等人當時欲找臺灣人與泰國女子結婚，由共犯林清水於報紙上刊登徵人廣告，若應徵者符合與泰國人結婚之條件，便將應徵者介紹予共犯詹巧薇、張晉源等人，共犯林清水可從中獲取1萬元之仲介費，適被告依前開徵人廣告應徵，共犯林清水衡量其條件後告知其可至泰國結婚，其除不用負擔前往泰國之機票及食宿費用外，尚可獲取5至6萬元之報酬，被告應允同意後，共犯林清水將其介紹予詹巧薇、張晉源等人，被告即依指示前往泰國與為了來臺工作且無結婚真意的共犯陳玉婉辦理結婚事宜等情，業據共犯林清水於警詢時證稱：伊登報徵人到泰國結婚，被告看報紙來的，伊便轉介予共犯詹巧薇，由共犯詹巧薇安排後續到泰國結婚之事宜，被告除不用負擔前往泰國機票、食宿等費用，尚可獲取約5至6萬元酬勞，伊則可自共犯詹巧薇獲取約1萬元之仲介費用；伊只有將被告轉介予共犯詹巧薇，並未參與後續被告前往泰國之證照、機票、食宿等相關事宜；被告係因缺錢，為了賺取擔任人頭配偶的佣金5至6萬，並不是真的要與泰國人結婚，共犯陳玉婉係為了來臺灣工作賺錢，亦不是真的要與臺灣人結婚等語（見警三卷第2至3頁）；並於本院審理時具結證稱：當初共犯詹巧薇、張晉源等人欲找男子前往泰國結婚，伊曾刊登「男、女不限、經驗不拘」等內容之徵人廣告，被告見報應徵時，被告係因缺錢才來找伊，伊衡量被告條件後認為其只能利用結婚賺取報酬，伊才向其表示是要辦結婚，伊告知被告可安排其去泰國結婚，其不用負擔食宿及機票等費用，可實拿5至6萬元的報酬，被告同意後，伊將被告介紹予共犯詹巧薇、張晉源，共犯張晉源給付佣金1萬元予伊；伊與被告談論泰國結婚事宜時，伊與被告均不知被告之結婚對象為何人，伊亦未見過與被告結婚之泰國女子，伊僅介紹被告予共犯詹巧薇、張晉源等人，伊並未參予後續之泰國結婚、辦理結婚登記及居留申請等事情；被告曾給伊一部機車，當時被告表示要去別的地方，機車留在臺南無人使用，伊修理使用一段期間後，因再度壞掉便未再使用等語（見本院卷第68頁背面至71頁）\n",
            "=======================================================\n"
          ]
        }
      ],
      "source": [
        "print(prompt1)\n",
        "print(\"--->\")\n",
        "print(get_breeze(query+prompt1))\n",
        "print(\"=======================================================\")\n",
        "print(prompt1)\n",
        "print(\"--->\")\n",
        "print(get_breeze(query+prompt2))\n",
        "print(\"=======================================================\")\n",
        "print(prompt1)\n",
        "print(\"--->\")\n",
        "print(get_breeze(query+prompt3))\n",
        "print(\"=======================================================\")"
      ]
    },
    {
      "cell_type": "code",
      "execution_count": null,
      "metadata": {
        "id": "o6h4fzPBIkLI"
      },
      "outputs": [],
      "source": [
        "query = \"以下句子都是來自一篇法律判決書，請從這些句子中挑選出和犯罪事實情節描述最相關的三個句子：\\n\""
      ]
    },
    {
      "cell_type": "code",
      "execution_count": null,
      "metadata": {
        "colab": {
          "base_uri": "https://localhost:8080/"
        },
        "id": "ZtfLtD4ZImNr",
        "outputId": "c32953a5-b0db-4886-c79f-c2cf9e0a83ed"
      },
      "outputs": [
        {
          "name": "stdout",
          "output_type": "stream",
          "text": [
            "1: 乙、實體方面：一、訊據被告固坦承於上開時、地，透過共犯林清水之介紹，先至泰國辦理與共犯陳玉婉之結婚手續，再前往臺南縣永康市戶政事務所辦理結婚登記，又前往臺南縣政府警察局外事課辦理共犯陳玉婉之外僑居留證及申請居留證延期之事實，惟矢口否認有何行使使公務員登載不實文書情事，於本院審理時辯稱：伊當時經濟狀況良好，因同居女友欲去日本工作而不願結婚，然伊希望結婚生子，遂透過共犯林清水之介紹與安排，共犯林清水先讓伊看過共犯陳玉婉之照片，伊再前往泰國與共犯陳玉婉結婚，伊僅負擔自己的來回機票錢及泰國住宿費用，其他結婚費用均由共犯林清水負擔，伊則贈送伊的一部機車予共犯林清水以為回報，伊並不認識共犯詹巧薇云云\n",
            "2: 迨共犯陳玉婉來臺後，為取得居留身分，被告與共犯陳玉婉於同年6月14日及94年5月5日，均持前開戶籍謄本等資料，先後向臺南縣政府警察局外事課申請核發共犯陳玉婉之外僑居留證及申請居留證延期等情，業據被告供承在卷，並有結婚登記申請書、授權書各1份、結婚登記書、結婚證書各1份（含中文、泰文影本及我國駐泰國臺北經濟文化辦事處認證之資料）、93年6月14日及94年5月5日之外國人居留停留案件聲請表各1份、被告及共犯陳玉婉之入出國日期紀錄各1份、共犯陳玉婉之外僑居留資料查詢1份在卷可按（見警三卷即南市警一刑偵字第0994101517號卷第6至24、33頁）\n",
            "3: 上開事實，首堪認定\n",
            "4: 理由甲、程序方面：一、本件以下所引用具傳聞證據性質之供述證據，因本件被告陳泰龍、檢察官等人於本院準備程序進行時，均未爭執前開陳述之證據能力，且迄至本案言詞辯論終結前亦均未聲明異議，應視為已同意援引作為證據，又本院審酌前開證據作成時之情況及證據取得過程等節，並無非出於任意性、不正取供或其他違法不當情事，且客觀上亦無顯不可信之情況，堪認為適當，是依刑事訴訟法第159條之5規定，均有證據能力\n",
            "5: 二、卷附之被告及陳玉婉入出國日期紀錄各1份等書證，均非屬供述證據，皆無傳聞法則之適用，復均無違反法定程序取得之情形，依刑事訴訟法第158條之4規定之反面解釋，均應有證據能力\n",
            "6: 一、陳泰龍明知其與泰國籍女子陳玉婉（泰國名字為JARUWANWONGPRATOOM，陳玉婉涉嫌本案偽造文書部分，另經臺灣臺南地方法院檢察署檢察官通緝中）間並無結婚之真意，然因詹巧薇、張晉源等人欲找臺灣男子前往泰國與泰國女子辦理假結婚，林清水負責介紹臺灣男子予詹巧薇、張晉源等人以賺取新臺幣（下同）1萬元之仲介費，適陳泰龍依林清水於報紙上刊登之徵人廣告應徵時，由林清水告知泰國女子欲以假結婚之方式申請來臺居留工作，其若擔任假結婚之人頭老公，除不用負擔前往泰國之食宿、機票費用外，尚可獲取5、6萬元之報酬，迨陳泰龍應允同意後，林清水將其轉介紹予詹巧薇、張晉源等人，陳泰龍遂與林清水、詹巧薇、張晉源等人共同基於行使使公務員登載不實公文書之概括犯意聯絡，先由陳泰龍依指示於民國93年4月3日前往泰國，並於同年月7日與陳玉婉在泰國曼谷市法拉坎農區註冊辦事處登記結婚，取得上開註冊辦事處核發之結婚登記書、結婚證書等文件後，陳泰龍即行返臺，並於同年5月19日持經我國駐泰國臺北經濟文化辦事處認證之上開結婚登記書、結婚證書等資料，至臺南縣永康市（改制前稱謂，以下沿用舊制稱謂）戶政事務所填寫結婚登記申請書，申請辦理其與陳玉婉之結婚登記，因此使上開戶政事務所僅有形式審查權之承辦公務員陷於錯誤，於形式上審核後，將陳泰龍與陳玉婉於93年4月7日結婚之不實事項，登載於其職務上所掌屬公文書之戶籍登記資料內，並據以核發戶籍謄本，而足以生損害於戶政機關對於戶政管理及戶籍登記資料維護之正確性\n",
            "7: 經查：(一)被告於93年4月3日前往泰國，並於同年月7日與共犯陳玉婉在泰國曼谷市法拉坎農區註冊辦事處登記結婚，取得上開註冊辦事處核發之結婚登記書、結婚證書等文件後，被告即行返臺，並於同年5月19日持經我國駐泰國臺北經濟文化辦事處認證之上開結婚登記書、結婚證書等資料，至臺南縣永康市戶政事務所填寫結婚登記申請書，申請辦理其與共犯陳玉婉之結婚登記，並取得戶籍謄本\n",
            "8: 迨陳玉婉來臺後，為取得居留身分，再由陳泰龍、陳玉婉承前概括之犯意聯絡，於同年6月14日及94年5月5日，均持前開登載不實之戶籍謄本等資料，先後向臺南縣政府警察局外事課申請核發陳玉婉之外僑居留證及申請居留證延期而連續行使之（業經檢察官當庭補充），經承辦人員實質審查結果，均未發覺陳泰龍與陳玉婉假結婚之實情，而發給陳玉婉居留證或核准延期，各足以生損害於主管機關對外僑居留管理之正確性\n",
            "9:  二、案經臺南市警察局（現改制為臺南市政府警察局，以下沿用舊制稱謂）第一分局報告臺灣臺南地方法院檢察署檢察官偵查起訴\n",
            "10: (二)共犯詹巧薇、張晉源等人當時欲找臺灣人與泰國女子結婚，由共犯林清水於報紙上刊登徵人廣告，若應徵者符合與泰國人結婚之條件，便將應徵者介紹予共犯詹巧薇、張晉源等人，共犯林清水可從中獲取1萬元之仲介費，適被告依前開徵人廣告應徵，共犯林清水衡量其條件後告知其可至泰國結婚，其除不用負擔前往泰國之機票及食宿費用外，尚可獲取5至6萬元之報酬，被告應允同意後，共犯林清水將其介紹予詹巧薇、張晉源等人，被告即依指示前往泰國與為了來臺工作且無結婚真意的共犯陳玉婉辦理結婚事宜等情，業據共犯林清水於警詢時證稱：伊登報徵人到泰國結婚，被告看報紙來的，伊便轉介予共犯詹巧薇，由共犯詹巧薇安排後續到泰國結婚之事宜，被告除不用負擔前往泰國機票、食宿等費用，尚可獲取約5至6萬元酬勞，伊則可自共犯詹巧薇獲取約1萬元之仲介費用；伊只有將被告轉介予共犯詹巧薇，並未參與後續被告前往泰國之證照、機票、食宿等相關事宜；被告係因缺錢，為了賺取擔任人頭配偶的佣金5至6萬，並不是真的要與泰國人結婚，共犯陳玉婉係為了來臺灣工作賺錢，亦不是真的要與臺灣人結婚等語（見警三卷第2至3頁）；並於本院審理時具結證稱：當初共犯詹巧薇、張晉源等人欲找男子前往泰國結婚，伊曾刊登「男、女不限、經驗不拘」等內容之徵人廣告，被告見報應徵時，被告係因缺錢才來找伊，伊衡量被告條件後認為其只能利用結婚賺取報酬，伊才向其表示是要辦結婚，伊告知被告可安排其去泰國結婚，其不用負擔食宿及機票等費用，可實拿5至6萬元的報酬，被告同意後，伊將被告介紹予共犯詹巧薇、張晉源，共犯張晉源給付佣金1萬元予伊；伊與被告談論泰國結婚事宜時，伊與被告均不知被告之結婚對象為何人，伊亦未見過與被告結婚之泰國女子，伊僅介紹被告予共犯詹巧薇、張晉源等人，伊並未參予後續之泰國結婚、辦理結婚登記及居留申請等事情；被告曾給伊一部機車，當時被告表示要去別的地方，機車留在臺南無人使用，伊修理使用一段期間後，因再度壞掉便未再使用等語（見本院卷第68頁背面至71頁）\n",
            "--->\n",
            " 3: 上開事實，首堪認定\n",
            "5: 二、卷附之被告及陳玉婉入出國日期紀錄各1份等書證，均非屬供述證據，皆無傳聞法則之適用，復均無違反法定程序取得之情形，依刑事訴訟法第158條之4規定之反面解釋，均應有證據能力\n",
            "7: 經查：(一)被告於93年4月3日前往泰國，並於同年月7日與共犯陳玉婉在泰國曼谷市法拉坎農區註冊辦事處登記結婚，取得上開註冊辦事處核發之結婚登記書、結婚證書等文件後，被告即行返臺，並於同年5月19日持經我國駐泰國臺北經濟文化辦事處認證之上開結婚登記書、結婚證書等資料，至臺南縣永康市戶政事務所填寫結婚登記申請書，申請辦理其與共犯陳玉婉之結婚登記，並取得戶籍謄本\n",
            "8: 迨陳玉婉來臺後，為取得居留身分，再由陳泰龍、陳玉婉承前概括之犯意聯絡，於同年6月14日及94年5月5日，均持前開登載不實之戶籍謄本等資料，先後向臺南縣政府警察局外事課申請核發陳玉婉之外僑居留證及申請居留證延期而連續行使之（業經檢察官當庭補充），經承辦人員實質審查結果，均未發覺陳泰龍與陳玉婉假結婚之實情，而發給陳玉婉居留證或核准延期，各足以生損害於主管機關對外僑居留管理之正確性\n",
            "=======================================================\n",
            "1: 乙、實體方面：一、訊據被告固坦承於上開時、地，透過共犯林清水之介紹，先至泰國辦理與共犯陳玉婉之結婚手續，再前往臺南縣永康市戶政事務所辦理結婚登記，又前往臺南縣政府警察局外事課辦理共犯陳玉婉之外僑居留證及申請居留證延期之事實，惟矢口否認有何行使使公務員登載不實文書情事，於本院審理時辯稱：伊當時經濟狀況良好，因同居女友欲去日本工作而不願結婚，然伊希望結婚生子，遂透過共犯林清水之介紹與安排，共犯林清水先讓伊看過共犯陳玉婉之照片，伊再前往泰國與共犯陳玉婉結婚，伊僅負擔自己的來回機票錢及泰國住宿費用，其他結婚費用均由共犯林清水負擔，伊則贈送伊的一部機車予共犯林清水以為回報，伊並不認識共犯詹巧薇云云\n",
            "2: 迨共犯陳玉婉來臺後，為取得居留身分，被告與共犯陳玉婉於同年6月14日及94年5月5日，均持前開戶籍謄本等資料，先後向臺南縣政府警察局外事課申請核發共犯陳玉婉之外僑居留證及申請居留證延期等情，業據被告供承在卷，並有結婚登記申請書、授權書各1份、結婚登記書、結婚證書各1份（含中文、泰文影本及我國駐泰國臺北經濟文化辦事處認證之資料）、93年6月14日及94年5月5日之外國人居留停留案件聲請表各1份、被告及共犯陳玉婉之入出國日期紀錄各1份、共犯陳玉婉之外僑居留資料查詢1份在卷可按（見警三卷即南市警一刑偵字第0994101517號卷第6至24、33頁）\n",
            "3: 上開事實，首堪認定\n",
            "4: 理由甲、程序方面：一、本件以下所引用具傳聞證據性質之供述證據，因本件被告陳泰龍、檢察官等人於本院準備程序進行時，均未爭執前開陳述之證據能力，且迄至本案言詞辯論終結前亦均未聲明異議，應視為已同意援引作為證據，又本院審酌前開證據作成時之情況及證據取得過程等節，並無非出於任意性、不正取供或其他違法不當情事，且客觀上亦無顯不可信之情況，堪認為適當，是依刑事訴訟法第159條之5規定，均有證據能力\n",
            "5: 二、卷附之被告及陳玉婉入出國日期紀錄各1份等書證，均非屬供述證據，皆無傳聞法則之適用，復均無違反法定程序取得之情形，依刑事訴訟法第158條之4規定之反面解釋，均應有證據能力\n",
            "6: 一、陳泰龍明知其與泰國籍女子陳玉婉（泰國名字為JARUWANWONGPRATOOM，陳玉婉涉嫌本案偽造文書部分，另經臺灣臺南地方法院檢察署檢察官通緝中）間並無結婚之真意，然因詹巧薇、張晉源等人欲找臺灣男子前往泰國與泰國女子辦理假結婚，林清水負責介紹臺灣男子予詹巧薇、張晉源等人以賺取新臺幣（下同）1萬元之仲介費，適陳泰龍依林清水於報紙上刊登之徵人廣告應徵時，由林清水告知泰國女子欲以假結婚之方式申請來臺居留工作，其若擔任假結婚之人頭老公，除不用負擔前往泰國之食宿、機票費用外，尚可獲取5、6萬元之報酬，迨陳泰龍應允同意後，林清水將其轉介紹予詹巧薇、張晉源等人，陳泰龍遂與林清水、詹巧薇、張晉源等人共同基於行使使公務員登載不實公文書之概括犯意聯絡，先由陳泰龍依指示於民國93年4月3日前往泰國，並於同年月7日與陳玉婉在泰國曼谷市法拉坎農區註冊辦事處登記結婚，取得上開註冊辦事處核發之結婚登記書、結婚證書等文件後，陳泰龍即行返臺，並於同年5月19日持經我國駐泰國臺北經濟文化辦事處認證之上開結婚登記書、結婚證書等資料，至臺南縣永康市（改制前稱謂，以下沿用舊制稱謂）戶政事務所填寫結婚登記申請書，申請辦理其與陳玉婉之結婚登記，因此使上開戶政事務所僅有形式審查權之承辦公務員陷於錯誤，於形式上審核後，將陳泰龍與陳玉婉於93年4月7日結婚之不實事項，登載於其職務上所掌屬公文書之戶籍登記資料內，並據以核發戶籍謄本，而足以生損害於戶政機關對於戶政管理及戶籍登記資料維護之正確性\n",
            "7: 經查：(一)被告於93年4月3日前往泰國，並於同年月7日與共犯陳玉婉在泰國曼谷市法拉坎農區註冊辦事處登記結婚，取得上開註冊辦事處核發之結婚登記書、結婚證書等文件後，被告即行返臺，並於同年5月19日持經我國駐泰國臺北經濟文化辦事處認證之上開結婚登記書、結婚證書等資料，至臺南縣永康市戶政事務所填寫結婚登記申請書，申請辦理其與共犯陳玉婉之結婚登記，並取得戶籍謄本\n",
            "8: 迨陳玉婉來臺後，為取得居留身分，再由陳泰龍、陳玉婉承前概括之犯意聯絡，於同年6月14日及94年5月5日，均持前開登載不實之戶籍謄本等資料，先後向臺南縣政府警察局外事課申請核發陳玉婉之外僑居留證及申請居留證延期而連續行使之（業經檢察官當庭補充），經承辦人員實質審查結果，均未發覺陳泰龍與陳玉婉假結婚之實情，而發給陳玉婉居留證或核准延期，各足以生損害於主管機關對外僑居留管理之正確性\n",
            "9:  二、案經臺南市警察局（現改制為臺南市政府警察局，以下沿用舊制稱謂）第一分局報告臺灣臺南地方法院檢察署檢察官偵查起訴\n",
            "10: (二)共犯詹巧薇、張晉源等人當時欲找臺灣人與泰國女子結婚，由共犯林清水於報紙上刊登徵人廣告，若應徵者符合與泰國人結婚之條件，便將應徵者介紹予共犯詹巧薇、張晉源等人，共犯林清水可從中獲取1萬元之仲介費，適被告依前開徵人廣告應徵，共犯林清水衡量其條件後告知其可至泰國結婚，其除不用負擔前往泰國之機票及食宿費用外，尚可獲取5至6萬元之報酬，被告應允同意後，共犯林清水將其介紹予詹巧薇、張晉源等人，被告即依指示前往泰國與為了來臺工作且無結婚真意的共犯陳玉婉辦理結婚事宜等情，業據共犯林清水於警詢時證稱：伊登報徵人到泰國結婚，被告看報紙來的，伊便轉介予共犯詹巧薇，由共犯詹巧薇安排後續到泰國結婚之事宜，被告除不用負擔前往泰國機票、食宿等費用，尚可獲取約5至6萬元酬勞，伊則可自共犯詹巧薇獲取約1萬元之仲介費用；伊只有將被告轉介予共犯詹巧薇，並未參與後續被告前往泰國之證照、機票、食宿等相關事宜；被告係因缺錢，為了賺取擔任人頭配偶的佣金5至6萬，並不是真的要與泰國人結婚，共犯陳玉婉係為了來臺灣工作賺錢，亦不是真的要與臺灣人結婚等語（見警三卷第2至3頁）；並於本院審理時具結證稱：當初共犯詹巧薇、張晉源等人欲找男子前往泰國結婚，伊曾刊登「男、女不限、經驗不拘」等內容之徵人廣告，被告見報應徵時，被告係因缺錢才來找伊，伊衡量被告條件後認為其只能利用結婚賺取報酬，伊才向其表示是要辦結婚，伊告知被告可安排其去泰國結婚，其不用負擔食宿及機票等費用，可實拿5至6萬元的報酬，被告同意後，伊將被告介紹予共犯詹巧薇、張晉源，共犯張晉源給付佣金1萬元予伊；伊與被告談論泰國結婚事宜時，伊與被告均不知被告之結婚對象為何人，伊亦未見過與被告結婚之泰國女子，伊僅介紹被告予共犯詹巧薇、張晉源等人，伊並未參予後續之泰國結婚、辦理結婚登記及居留申請等事情；被告曾給伊一部機車，當時被告表示要去別的地方，機車留在臺南無人使用，伊修理使用一段期間後，因再度壞掉便未再使用等語（見本院卷第68頁背面至71頁）\n",
            "--->\n",
            " 1: 一、陳泰龍明知其與泰國籍女子陳玉婉（泰國名字為JARUWANWONGPRATOOM，陳玉婉涉嫌本案偽造文書部分，另經臺灣臺南地方法院檢察署檢察官通緝中）間並無結婚之真意，然因詹巧薇、張晉源等人欲找臺灣男子前往泰國與泰國女子辦理假結婚，林清水負責介紹臺灣男子予詹巧薇、張晉源等人以賺取新臺幣（下同）1萬元之仲介費，適陳泰龍依林清水於報紙上刊登之徵人廣告應徵時，由林清水告知泰國女子欲以假結婚之方式申請來臺居留工作，其若擔任假結婚之人頭老公，除不用負擔前往泰國之食宿、機票費用外，尚可獲取5、6萬元之報酬，迨陳泰龍應允同意後，林清水將其轉介紹予詹巧薇、張晉源等人，陳泰龍遂與林清水、詹巧薇、張晉源等人共同基於行使使公務員登載不實公文書之概括犯意聯絡，先由陳泰龍依指示於民國93年4月3日前往泰國，並於同年月7日與陳玉婉在泰國曼谷市法拉坎農區註冊辦事處登記結婚，取得上開註冊辦事處核發之結婚登記書、結婚證書等文件後，陳泰龍即行返臺，並於同年5月19日持經我國駐泰國臺北經濟文化辦事處認證之上開結婚登記書、結婚證書等資料，至臺南縣永康市（改制前稱謂，以下沿用舊制稱謂）戶政事務所填寫結婚登記申請書，申請辦理其與陳玉婉之結婚登記，因此使上開戶政事務所僅有形式審查權之承辦公務員陷於錯誤，於形式上審核後，將陳泰龍與陳玉婉於93年4月7日結婚之不實事項，登載於其職務上所掌屬公文書之戶籍登記資料內，並據以核發戶籍謄本，而足以生損害於戶政機關對於戶政管理及戶籍登記資料維護之正確性\n",
            "\n",
            "這個句子描述了被告陳泰龍、林清水、詹巧薇、張晉源等人共同涉及的犯罪事實，包括他們的動機、行動和犯罪的結果。\n",
            "=======================================================\n",
            "1: 乙、實體方面：一、訊據被告固坦承於上開時、地，透過共犯林清水之介紹，先至泰國辦理與共犯陳玉婉之結婚手續，再前往臺南縣永康市戶政事務所辦理結婚登記，又前往臺南縣政府警察局外事課辦理共犯陳玉婉之外僑居留證及申請居留證延期之事實，惟矢口否認有何行使使公務員登載不實文書情事，於本院審理時辯稱：伊當時經濟狀況良好，因同居女友欲去日本工作而不願結婚，然伊希望結婚生子，遂透過共犯林清水之介紹與安排，共犯林清水先讓伊看過共犯陳玉婉之照片，伊再前往泰國與共犯陳玉婉結婚，伊僅負擔自己的來回機票錢及泰國住宿費用，其他結婚費用均由共犯林清水負擔，伊則贈送伊的一部機車予共犯林清水以為回報，伊並不認識共犯詹巧薇云云\n",
            "2: 迨共犯陳玉婉來臺後，為取得居留身分，被告與共犯陳玉婉於同年6月14日及94年5月5日，均持前開戶籍謄本等資料，先後向臺南縣政府警察局外事課申請核發共犯陳玉婉之外僑居留證及申請居留證延期等情，業據被告供承在卷，並有結婚登記申請書、授權書各1份、結婚登記書、結婚證書各1份（含中文、泰文影本及我國駐泰國臺北經濟文化辦事處認證之資料）、93年6月14日及94年5月5日之外國人居留停留案件聲請表各1份、被告及共犯陳玉婉之入出國日期紀錄各1份、共犯陳玉婉之外僑居留資料查詢1份在卷可按（見警三卷即南市警一刑偵字第0994101517號卷第6至24、33頁）\n",
            "3: 上開事實，首堪認定\n",
            "4: 理由甲、程序方面：一、本件以下所引用具傳聞證據性質之供述證據，因本件被告陳泰龍、檢察官等人於本院準備程序進行時，均未爭執前開陳述之證據能力，且迄至本案言詞辯論終結前亦均未聲明異議，應視為已同意援引作為證據，又本院審酌前開證據作成時之情況及證據取得過程等節，並無非出於任意性、不正取供或其他違法不當情事，且客觀上亦無顯不可信之情況，堪認為適當，是依刑事訴訟法第159條之5規定，均有證據能力\n",
            "5: 二、卷附之被告及陳玉婉入出國日期紀錄各1份等書證，均非屬供述證據，皆無傳聞法則之適用，復均無違反法定程序取得之情形，依刑事訴訟法第158條之4規定之反面解釋，均應有證據能力\n",
            "6: 一、陳泰龍明知其與泰國籍女子陳玉婉（泰國名字為JARUWANWONGPRATOOM，陳玉婉涉嫌本案偽造文書部分，另經臺灣臺南地方法院檢察署檢察官通緝中）間並無結婚之真意，然因詹巧薇、張晉源等人欲找臺灣男子前往泰國與泰國女子辦理假結婚，林清水負責介紹臺灣男子予詹巧薇、張晉源等人以賺取新臺幣（下同）1萬元之仲介費，適陳泰龍依林清水於報紙上刊登之徵人廣告應徵時，由林清水告知泰國女子欲以假結婚之方式申請來臺居留工作，其若擔任假結婚之人頭老公，除不用負擔前往泰國之食宿、機票費用外，尚可獲取5、6萬元之報酬，迨陳泰龍應允同意後，林清水將其轉介紹予詹巧薇、張晉源等人，陳泰龍遂與林清水、詹巧薇、張晉源等人共同基於行使使公務員登載不實公文書之概括犯意聯絡，先由陳泰龍依指示於民國93年4月3日前往泰國，並於同年月7日與陳玉婉在泰國曼谷市法拉坎農區註冊辦事處登記結婚，取得上開註冊辦事處核發之結婚登記書、結婚證書等文件後，陳泰龍即行返臺，並於同年5月19日持經我國駐泰國臺北經濟文化辦事處認證之上開結婚登記書、結婚證書等資料，至臺南縣永康市（改制前稱謂，以下沿用舊制稱謂）戶政事務所填寫結婚登記申請書，申請辦理其與陳玉婉之結婚登記，因此使上開戶政事務所僅有形式審查權之承辦公務員陷於錯誤，於形式上審核後，將陳泰龍與陳玉婉於93年4月7日結婚之不實事項，登載於其職務上所掌屬公文書之戶籍登記資料內，並據以核發戶籍謄本，而足以生損害於戶政機關對於戶政管理及戶籍登記資料維護之正確性\n",
            "7: 經查：(一)被告於93年4月3日前往泰國，並於同年月7日與共犯陳玉婉在泰國曼谷市法拉坎農區註冊辦事處登記結婚，取得上開註冊辦事處核發之結婚登記書、結婚證書等文件後，被告即行返臺，並於同年5月19日持經我國駐泰國臺北經濟文化辦事處認證之上開結婚登記書、結婚證書等資料，至臺南縣永康市戶政事務所填寫結婚登記申請書，申請辦理其與共犯陳玉婉之結婚登記，並取得戶籍謄本\n",
            "8: 迨陳玉婉來臺後，為取得居留身分，再由陳泰龍、陳玉婉承前概括之犯意聯絡，於同年6月14日及94年5月5日，均持前開登載不實之戶籍謄本等資料，先後向臺南縣政府警察局外事課申請核發陳玉婉之外僑居留證及申請居留證延期而連續行使之（業經檢察官當庭補充），經承辦人員實質審查結果，均未發覺陳泰龍與陳玉婉假結婚之實情，而發給陳玉婉居留證或核准延期，各足以生損害於主管機關對外僑居留管理之正確性\n",
            "9:  二、案經臺南市警察局（現改制為臺南市政府警察局，以下沿用舊制稱謂）第一分局報告臺灣臺南地方法院檢察署檢察官偵查起訴\n",
            "10: (二)共犯詹巧薇、張晉源等人當時欲找臺灣人與泰國女子結婚，由共犯林清水於報紙上刊登徵人廣告，若應徵者符合與泰國人結婚之條件，便將應徵者介紹予共犯詹巧薇、張晉源等人，共犯林清水可從中獲取1萬元之仲介費，適被告依前開徵人廣告應徵，共犯林清水衡量其條件後告知其可至泰國結婚，其除不用負擔前往泰國之機票及食宿費用外，尚可獲取5至6萬元之報酬，被告應允同意後，共犯林清水將其介紹予詹巧薇、張晉源等人，被告即依指示前往泰國與為了來臺工作且無結婚真意的共犯陳玉婉辦理結婚事宜等情，業據共犯林清水於警詢時證稱：伊登報徵人到泰國結婚，被告看報紙來的，伊便轉介予共犯詹巧薇，由共犯詹巧薇安排後續到泰國結婚之事宜，被告除不用負擔前往泰國機票、食宿等費用，尚可獲取約5至6萬元酬勞，伊則可自共犯詹巧薇獲取約1萬元之仲介費用；伊只有將被告轉介予共犯詹巧薇，並未參與後續被告前往泰國之證照、機票、食宿等相關事宜；被告係因缺錢，為了賺取擔任人頭配偶的佣金5至6萬，並不是真的要與泰國人結婚，共犯陳玉婉係為了來臺灣工作賺錢，亦不是真的要與臺灣人結婚等語（見警三卷第2至3頁）；並於本院審理時具結證稱：當初共犯詹巧薇、張晉源等人欲找男子前往泰國結婚，伊曾刊登「男、女不限、經驗不拘」等內容之徵人廣告，被告見報應徵時，被告係因缺錢才來找伊，伊衡量被告條件後認為其只能利用結婚賺取報酬，伊才向其表示是要辦結婚，伊告知被告可安排其去泰國結婚，其不用負擔食宿及機票等費用，可實拿5至6萬元的報酬，被告同意後，伊將被告介紹予共犯詹巧薇、張晉源，共犯張晉源給付佣金1萬元予伊；伊與被告談論泰國結婚事宜時，伊與被告均不知被告之結婚對象為何人，伊亦未見過與被告結婚之泰國女子，伊僅介紹被告予共犯詹巧薇、張晉源等人，伊並未參予後續之泰國結婚、辦理結婚登記及居留申請等事情；被告曾給伊一部機車，當時被告表示要去別的地方，機車留在臺南無人使用，伊修理使用一段期間後，因再度壞掉便未再使用等語（見本院卷第68頁背面至71頁）\n",
            "--->\n",
            " 3: 迨陳玉婉來臺後，為取得居留身分，再由陳泰龍、陳玉婉承前概括之犯意聯絡，於同年6月14日及94年5月5日，均持前開登載不實之戶籍謄本等資料，先後向臺南縣政府警察局外事課申請核發陳玉婉之外僑居留證及申請居留證延期而連續行使之（業經檢察官當庭補充），經承辦人員實質審查結果，均未發覺陳泰龍與陳玉婉假結婚之實情，而發給陳玉婉居留證或核准延期，各足以生損害於主管機關對外僑居留管理之正確性\n",
            "=======================================================\n"
          ]
        }
      ],
      "source": [
        "print(prompt1)\n",
        "print(\"--->\")\n",
        "print(get_breeze(query+prompt1))\n",
        "print(\"=======================================================\")\n",
        "print(prompt1)\n",
        "print(\"--->\")\n",
        "print(get_breeze(query+prompt2))\n",
        "print(\"=======================================================\")\n",
        "print(prompt1)\n",
        "print(\"--->\")\n",
        "print(get_breeze(query+prompt3))\n",
        "print(\"=======================================================\")"
      ]
    },
    {
      "cell_type": "code",
      "execution_count": null,
      "metadata": {
        "id": "DBHQFb7EMOps"
      },
      "outputs": [],
      "source": [
        "input_ex = \"1: 一、李炷烽曾為金門縣縣長，與李運成為叔姪關係 \\n2: 李炷烽與李運成、李根福3人於民國95年間，共同繼承金門縣金寧鄉○○○○○段000號土地（下稱系爭土地），渠等之應有部分均為三分之一 \\n3: 李炷烽明知李運成並未同意贈與上開土地之應有部分予社團法人金門縣李氏宗親會（下稱李氏宗親會），竟於102年5月間某日，撥打電話予李運成佯稱：因系爭土地與鄰近土地所有權人界線劃分不清，故需身分證及印章辦理並解決云云，李運成不疑有他，即將身分證及印鑑章寄送李炷烽 \\n4: 李炷烽即基於行使偽造私文書及使公務員登載不實之犯意，指示不知情之地政士李根遠於103年3月3日前某日，在「土地登記申請書」、「土地所有權贈與移轉契約書」、「切結書」、「不動產贈與契約」等文件上，接續盜蓋李運成之印章後，復將其中之「土地登記申請書」、「土地所有權贈與移轉契約書」、「切結書」（起訴書誤繕連同「不動產贈與契約」送件至金門縣地政局，應予更正）連同印鑑證明、契稅繳款證明及土地增值稅繳款證明等文件，於103年3月3日送件至金門縣地政局，表示李運成願贈與系爭土地之應有部分，致不知情之承辦公務員為形式審查後，將上開不實事項登載在職務上所掌之地籍簿冊等公文書內，並於103年4月7日移轉登記至李氏宗親會名下，足生損害於地政機關對於地籍管理正確性及李運成 \\n5: 嗣辦理完成後，李炷烽將系爭土地所有權狀及「不動產贈與契約」寄送李運成，欲使李運成接受系爭土地已贈與之事實，惟李運成心有不甘，乃提出告訴 \\n6: 二、案經李運成訴由臺灣士林地方法院檢察署察官呈請臺灣高等法院檢察署檢察長函轉最高法院檢察署移轉福建金門地方法院檢察署檢察官偵查後起訴 \\n7: 理由一、證據能力之說明：(一)按被告以外之人於偵查中向檢察官所為之陳述，除顯有不可信之情況者外，得為證據，刑事訴訟法第159條之1第2項定有明文 \\n8: 該規定揭示被告以外之人於偵查中向檢察官所為之陳述，原則上有證據能力，僅於顯有不可信之情況，始例外否定其得為證據 \\n9: 換言之，法院僅在被告主張並釋明有「不可信之情況」時，始應就有無該例外情形為調查審認 \\n10: 本院審酌，證人李運成、李根福、李錫榮及李根遠等人於偵查時之證述，並無受到外力干擾，依其等陳述時之外在環境及情況，並無任何顯不可信之情形，且俱經依法具結\""
      ]
    },
    {
      "cell_type": "code",
      "execution_count": null,
      "metadata": {
        "id": "fDvIQTwBNGAl"
      },
      "outputs": [],
      "source": [
        "output_ex = \"3: 李炷烽明知李運成並未同意贈與上開土地之應有部分予社團法人金門縣李氏宗親會（下稱李氏宗親會），竟於102年5月間某日，撥打電話予李運成佯稱：因系爭土地與鄰近土地所有權人界線劃分不清，故需身分證及印章辦理並解決云云，李運成不疑有他，即將身分證及印鑑章寄送李炷烽 \\n4: 李炷烽即基於行使偽造私文書及使公務員登載不實之犯意，指示不知情之地政士李根遠於103年3月3日前某日，在「土地登記申請書」、「土地所有權贈與移轉契約書」、「切結書」、「不動產贈與契約」等文件上，接續盜蓋李運成之印章後，復將其中之「土地登記申請書」、「土地所有權贈與移轉契約書」、「切結書」（起訴書誤繕連同「不動產贈與契約」送件至金門縣地政局，應予更正）連同印鑑證明、契稅繳款證明及土地增值稅繳款證明等文件，於103年3月3日送件至金門縣地政局，表示李運成願贈與系爭土地之應有部分，致不知情之承辦公務員為形式審查後，將上開不實事項登載在職務上所掌之地籍簿冊等公文書內，並於103年4月7日移轉登記至李氏宗親會名下，足生損害於地政機關對於地籍管理正確性及李運成 \\n5: 嗣辦理完成後，李炷烽將系爭土地所有權狀及「不動產贈與契約」寄送李運成，欲使李運成接受系爭土地已贈與之事實，惟李運成心有不甘，乃提出告訴\""
      ]
    },
    {
      "cell_type": "code",
      "execution_count": null,
      "metadata": {
        "id": "0KIYEICoMlvV"
      },
      "outputs": [],
      "source": [
        "query = \"以下句子都是來自一篇法律判決書，請從這些句子中挑選出和犯罪事實情節描述最相關的三個句子。以下是一個Extraction-based摘要範例：多個句子輸入\"+input_ex+\" 三個句子輸出：\"+output_ex+\"根據以上的範例，從著些句字中萃取出和犯罪事實情節描述最相關的三個句子，句子如下：\""
      ]
    },
    {
      "cell_type": "code",
      "execution_count": null,
      "metadata": {
        "colab": {
          "base_uri": "https://localhost:8080/"
        },
        "id": "Ym2envxNN9TA",
        "outputId": "538563c0-9912-459e-b7d5-aeb4e422aa0d"
      },
      "outputs": [
        {
          "name": "stdout",
          "output_type": "stream",
          "text": [
            "1: 乙、實體方面：一、訊據被告固坦承於上開時、地，透過共犯林清水之介紹，先至泰國辦理與共犯陳玉婉之結婚手續，再前往臺南縣永康市戶政事務所辦理結婚登記，又前往臺南縣政府警察局外事課辦理共犯陳玉婉之外僑居留證及申請居留證延期之事實，惟矢口否認有何行使使公務員登載不實文書情事，於本院審理時辯稱：伊當時經濟狀況良好，因同居女友欲去日本工作而不願結婚，然伊希望結婚生子，遂透過共犯林清水之介紹與安排，共犯林清水先讓伊看過共犯陳玉婉之照片，伊再前往泰國與共犯陳玉婉結婚，伊僅負擔自己的來回機票錢及泰國住宿費用，其他結婚費用均由共犯林清水負擔，伊則贈送伊的一部機車予共犯林清水以為回報，伊並不認識共犯詹巧薇云云\n",
            "2: 迨共犯陳玉婉來臺後，為取得居留身分，被告與共犯陳玉婉於同年6月14日及94年5月5日，均持前開戶籍謄本等資料，先後向臺南縣政府警察局外事課申請核發共犯陳玉婉之外僑居留證及申請居留證延期等情，業據被告供承在卷，並有結婚登記申請書、授權書各1份、結婚登記書、結婚證書各1份（含中文、泰文影本及我國駐泰國臺北經濟文化辦事處認證之資料）、93年6月14日及94年5月5日之外國人居留停留案件聲請表各1份、被告及共犯陳玉婉之入出國日期紀錄各1份、共犯陳玉婉之外僑居留資料查詢1份在卷可按（見警三卷即南市警一刑偵字第0994101517號卷第6至24、33頁）\n",
            "3: 上開事實，首堪認定\n",
            "4: 理由甲、程序方面：一、本件以下所引用具傳聞證據性質之供述證據，因本件被告陳泰龍、檢察官等人於本院準備程序進行時，均未爭執前開陳述之證據能力，且迄至本案言詞辯論終結前亦均未聲明異議，應視為已同意援引作為證據，又本院審酌前開證據作成時之情況及證據取得過程等節，並無非出於任意性、不正取供或其他違法不當情事，且客觀上亦無顯不可信之情況，堪認為適當，是依刑事訴訟法第159條之5規定，均有證據能力\n",
            "5: 二、卷附之被告及陳玉婉入出國日期紀錄各1份等書證，均非屬供述證據，皆無傳聞法則之適用，復均無違反法定程序取得之情形，依刑事訴訟法第158條之4規定之反面解釋，均應有證據能力\n",
            "6: 一、陳泰龍明知其與泰國籍女子陳玉婉（泰國名字為JARUWANWONGPRATOOM，陳玉婉涉嫌本案偽造文書部分，另經臺灣臺南地方法院檢察署檢察官通緝中）間並無結婚之真意，然因詹巧薇、張晉源等人欲找臺灣男子前往泰國與泰國女子辦理假結婚，林清水負責介紹臺灣男子予詹巧薇、張晉源等人以賺取新臺幣（下同）1萬元之仲介費，適陳泰龍依林清水於報紙上刊登之徵人廣告應徵時，由林清水告知泰國女子欲以假結婚之方式申請來臺居留工作，其若擔任假結婚之人頭老公，除不用負擔前往泰國之食宿、機票費用外，尚可獲取5、6萬元之報酬，迨陳泰龍應允同意後，林清水將其轉介紹予詹巧薇、張晉源等人，陳泰龍遂與林清水、詹巧薇、張晉源等人共同基於行使使公務員登載不實公文書之概括犯意聯絡，先由陳泰龍依指示於民國93年4月3日前往泰國，並於同年月7日與陳玉婉在泰國曼谷市法拉坎農區註冊辦事處登記結婚，取得上開註冊辦事處核發之結婚登記書、結婚證書等文件後，陳泰龍即行返臺，並於同年5月19日持經我國駐泰國臺北經濟文化辦事處認證之上開結婚登記書、結婚證書等資料，至臺南縣永康市（改制前稱謂，以下沿用舊制稱謂）戶政事務所填寫結婚登記申請書，申請辦理其與陳玉婉之結婚登記，因此使上開戶政事務所僅有形式審查權之承辦公務員陷於錯誤，於形式上審核後，將陳泰龍與陳玉婉於93年4月7日結婚之不實事項，登載於其職務上所掌屬公文書之戶籍登記資料內，並據以核發戶籍謄本，而足以生損害於戶政機關對於戶政管理及戶籍登記資料維護之正確性\n",
            "7: 經查：(一)被告於93年4月3日前往泰國，並於同年月7日與共犯陳玉婉在泰國曼谷市法拉坎農區註冊辦事處登記結婚，取得上開註冊辦事處核發之結婚登記書、結婚證書等文件後，被告即行返臺，並於同年5月19日持經我國駐泰國臺北經濟文化辦事處認證之上開結婚登記書、結婚證書等資料，至臺南縣永康市戶政事務所填寫結婚登記申請書，申請辦理其與共犯陳玉婉之結婚登記，並取得戶籍謄本\n",
            "8: 迨陳玉婉來臺後，為取得居留身分，再由陳泰龍、陳玉婉承前概括之犯意聯絡，於同年6月14日及94年5月5日，均持前開登載不實之戶籍謄本等資料，先後向臺南縣政府警察局外事課申請核發陳玉婉之外僑居留證及申請居留證延期而連續行使之（業經檢察官當庭補充），經承辦人員實質審查結果，均未發覺陳泰龍與陳玉婉假結婚之實情，而發給陳玉婉居留證或核准延期，各足以生損害於主管機關對外僑居留管理之正確性\n",
            "9:  二、案經臺南市警察局（現改制為臺南市政府警察局，以下沿用舊制稱謂）第一分局報告臺灣臺南地方法院檢察署檢察官偵查起訴\n",
            "10: (二)共犯詹巧薇、張晉源等人當時欲找臺灣人與泰國女子結婚，由共犯林清水於報紙上刊登徵人廣告，若應徵者符合與泰國人結婚之條件，便將應徵者介紹予共犯詹巧薇、張晉源等人，共犯林清水可從中獲取1萬元之仲介費，適被告依前開徵人廣告應徵，共犯林清水衡量其條件後告知其可至泰國結婚，其除不用負擔前往泰國之機票及食宿費用外，尚可獲取5至6萬元之報酬，被告應允同意後，共犯林清水將其介紹予詹巧薇、張晉源等人，被告即依指示前往泰國與為了來臺工作且無結婚真意的共犯陳玉婉辦理結婚事宜等情，業據共犯林清水於警詢時證稱：伊登報徵人到泰國結婚，被告看報紙來的，伊便轉介予共犯詹巧薇，由共犯詹巧薇安排後續到泰國結婚之事宜，被告除不用負擔前往泰國機票、食宿等費用，尚可獲取約5至6萬元酬勞，伊則可自共犯詹巧薇獲取約1萬元之仲介費用；伊只有將被告轉介予共犯詹巧薇，並未參與後續被告前往泰國之證照、機票、食宿等相關事宜；被告係因缺錢，為了賺取擔任人頭配偶的佣金5至6萬，並不是真的要與泰國人結婚，共犯陳玉婉係為了來臺灣工作賺錢，亦不是真的要與臺灣人結婚等語（見警三卷第2至3頁）；並於本院審理時具結證稱：當初共犯詹巧薇、張晉源等人欲找男子前往泰國結婚，伊曾刊登「男、女不限、經驗不拘」等內容之徵人廣告，被告見報應徵時，被告係因缺錢才來找伊，伊衡量被告條件後認為其只能利用結婚賺取報酬，伊才向其表示是要辦結婚，伊告知被告可安排其去泰國結婚，其不用負擔食宿及機票等費用，可實拿5至6萬元的報酬，被告同意後，伊將被告介紹予共犯詹巧薇、張晉源，共犯張晉源給付佣金1萬元予伊；伊與被告談論泰國結婚事宜時，伊與被告均不知被告之結婚對象為何人，伊亦未見過與被告結婚之泰國女子，伊僅介紹被告予共犯詹巧薇、張晉源等人，伊並未參予後續之泰國結婚、辦理結婚登記及居留申請等事情；被告曾給伊一部機車，當時被告表示要去別的地方，機車留在臺南無人使用，伊修理使用一段期間後，因再度壞掉便未再使用等語（見本院卷第68頁背面至71頁）\n",
            "--->\n",
            " 1: 李炷烽明知李運成並未同意贈與上開土地之應有部分予社團法人金門縣李氏宗親會（下稱李氏宗親會），竟於102年5月間某日，撥打電話予李運成佯稱：因系爭土地與鄰近土地所有權人界線劃分不清，故需身分證及印章辦理並解決云云，李運成不疑有他，即將身分證及印鑑章寄送李炷烽\n",
            "2: 李炷烽即基於行使偽造私文書及使公務員登載不實之犯意，指示不知情之地政士李根遠於103年3月3日前某日，在「土地登記申請書」、「土地所有權贈與移轉契約書」、「切結書」、「不動產贈與契約」等文件上，接續盜蓋李運成之印章後，復將其中之「土地登記申請書」、「土地所有權贈與移轉契約書」、「切結書」（起訴書誤繕連同「不動產贈與契約」送件至金門縣地政局，應予更正）連同印鑑證明、契稅繳款證明及土地增值稅繳款證明等文件，於103年3月3日送件至金門縣地政局，表示李運成願贈與系爭土地之應有部分，致不知情之承辦公務員為形式審查後，將上開不實事項登載在職務上所掌之地籍簿冊等公文書內，並於103年4月7日移轉登記至李氏宗親會名下，足生損害於地政機關對於地籍管理正確性及李運成\n",
            "3: 嗣辦理完成後，李炷烽將系爭土地所有權狀及「不動產贈與契約」寄送李運成，欲使李運成接受系爭土地已贈與之事實，惟李運成心有不甘，乃提出告訴\n",
            "=======================================================\n",
            "1: 乙、實體方面：一、訊據被告固坦承於上開時、地，透過共犯林清水之介紹，先至泰國辦理與共犯陳玉婉之結婚手續，再前往臺南縣永康市戶政事務所辦理結婚登記，又前往臺南縣政府警察局外事課辦理共犯陳玉婉之外僑居留證及申請居留證延期之事實，惟矢口否認有何行使使公務員登載不實文書情事，於本院審理時辯稱：伊當時經濟狀況良好，因同居女友欲去日本工作而不願結婚，然伊希望結婚生子，遂透過共犯林清水之介紹與安排，共犯林清水先讓伊看過共犯陳玉婉之照片，伊再前往泰國與共犯陳玉婉結婚，伊僅負擔自己的來回機票錢及泰國住宿費用，其他結婚費用均由共犯林清水負擔，伊則贈送伊的一部機車予共犯林清水以為回報，伊並不認識共犯詹巧薇云云\n",
            "2: 迨共犯陳玉婉來臺後，為取得居留身分，被告與共犯陳玉婉於同年6月14日及94年5月5日，均持前開戶籍謄本等資料，先後向臺南縣政府警察局外事課申請核發共犯陳玉婉之外僑居留證及申請居留證延期等情，業據被告供承在卷，並有結婚登記申請書、授權書各1份、結婚登記書、結婚證書各1份（含中文、泰文影本及我國駐泰國臺北經濟文化辦事處認證之資料）、93年6月14日及94年5月5日之外國人居留停留案件聲請表各1份、被告及共犯陳玉婉之入出國日期紀錄各1份、共犯陳玉婉之外僑居留資料查詢1份在卷可按（見警三卷即南市警一刑偵字第0994101517號卷第6至24、33頁）\n",
            "3: 上開事實，首堪認定\n",
            "4: 理由甲、程序方面：一、本件以下所引用具傳聞證據性質之供述證據，因本件被告陳泰龍、檢察官等人於本院準備程序進行時，均未爭執前開陳述之證據能力，且迄至本案言詞辯論終結前亦均未聲明異議，應視為已同意援引作為證據，又本院審酌前開證據作成時之情況及證據取得過程等節，並無非出於任意性、不正取供或其他違法不當情事，且客觀上亦無顯不可信之情況，堪認為適當，是依刑事訴訟法第159條之5規定，均有證據能力\n",
            "5: 二、卷附之被告及陳玉婉入出國日期紀錄各1份等書證，均非屬供述證據，皆無傳聞法則之適用，復均無違反法定程序取得之情形，依刑事訴訟法第158條之4規定之反面解釋，均應有證據能力\n",
            "6: 一、陳泰龍明知其與泰國籍女子陳玉婉（泰國名字為JARUWANWONGPRATOOM，陳玉婉涉嫌本案偽造文書部分，另經臺灣臺南地方法院檢察署檢察官通緝中）間並無結婚之真意，然因詹巧薇、張晉源等人欲找臺灣男子前往泰國與泰國女子辦理假結婚，林清水負責介紹臺灣男子予詹巧薇、張晉源等人以賺取新臺幣（下同）1萬元之仲介費，適陳泰龍依林清水於報紙上刊登之徵人廣告應徵時，由林清水告知泰國女子欲以假結婚之方式申請來臺居留工作，其若擔任假結婚之人頭老公，除不用負擔前往泰國之食宿、機票費用外，尚可獲取5、6萬元之報酬，迨陳泰龍應允同意後，林清水將其轉介紹予詹巧薇、張晉源等人，陳泰龍遂與林清水、詹巧薇、張晉源等人共同基於行使使公務員登載不實公文書之概括犯意聯絡，先由陳泰龍依指示於民國93年4月3日前往泰國，並於同年月7日與陳玉婉在泰國曼谷市法拉坎農區註冊辦事處登記結婚，取得上開註冊辦事處核發之結婚登記書、結婚證書等文件後，陳泰龍即行返臺，並於同年5月19日持經我國駐泰國臺北經濟文化辦事處認證之上開結婚登記書、結婚證書等資料，至臺南縣永康市（改制前稱謂，以下沿用舊制稱謂）戶政事務所填寫結婚登記申請書，申請辦理其與陳玉婉之結婚登記，因此使上開戶政事務所僅有形式審查權之承辦公務員陷於錯誤，於形式上審核後，將陳泰龍與陳玉婉於93年4月7日結婚之不實事項，登載於其職務上所掌屬公文書之戶籍登記資料內，並據以核發戶籍謄本，而足以生損害於戶政機關對於戶政管理及戶籍登記資料維護之正確性\n",
            "7: 經查：(一)被告於93年4月3日前往泰國，並於同年月7日與共犯陳玉婉在泰國曼谷市法拉坎農區註冊辦事處登記結婚，取得上開註冊辦事處核發之結婚登記書、結婚證書等文件後，被告即行返臺，並於同年5月19日持經我國駐泰國臺北經濟文化辦事處認證之上開結婚登記書、結婚證書等資料，至臺南縣永康市戶政事務所填寫結婚登記申請書，申請辦理其與共犯陳玉婉之結婚登記，並取得戶籍謄本\n",
            "8: 迨陳玉婉來臺後，為取得居留身分，再由陳泰龍、陳玉婉承前概括之犯意聯絡，於同年6月14日及94年5月5日，均持前開登載不實之戶籍謄本等資料，先後向臺南縣政府警察局外事課申請核發陳玉婉之外僑居留證及申請居留證延期而連續行使之（業經檢察官當庭補充），經承辦人員實質審查結果，均未發覺陳泰龍與陳玉婉假結婚之實情，而發給陳玉婉居留證或核准延期，各足以生損害於主管機關對外僑居留管理之正確性\n",
            "9:  二、案經臺南市警察局（現改制為臺南市政府警察局，以下沿用舊制稱謂）第一分局報告臺灣臺南地方法院檢察署檢察官偵查起訴\n",
            "10: (二)共犯詹巧薇、張晉源等人當時欲找臺灣人與泰國女子結婚，由共犯林清水於報紙上刊登徵人廣告，若應徵者符合與泰國人結婚之條件，便將應徵者介紹予共犯詹巧薇、張晉源等人，共犯林清水可從中獲取1萬元之仲介費，適被告依前開徵人廣告應徵，共犯林清水衡量其條件後告知其可至泰國結婚，其除不用負擔前往泰國之機票及食宿費用外，尚可獲取5至6萬元之報酬，被告應允同意後，共犯林清水將其介紹予詹巧薇、張晉源等人，被告即依指示前往泰國與為了來臺工作且無結婚真意的共犯陳玉婉辦理結婚事宜等情，業據共犯林清水於警詢時證稱：伊登報徵人到泰國結婚，被告看報紙來的，伊便轉介予共犯詹巧薇，由共犯詹巧薇安排後續到泰國結婚之事宜，被告除不用負擔前往泰國機票、食宿等費用，尚可獲取約5至6萬元酬勞，伊則可自共犯詹巧薇獲取約1萬元之仲介費用；伊只有將被告轉介予共犯詹巧薇，並未參與後續被告前往泰國之證照、機票、食宿等相關事宜；被告係因缺錢，為了賺取擔任人頭配偶的佣金5至6萬，並不是真的要與泰國人結婚，共犯陳玉婉係為了來臺灣工作賺錢，亦不是真的要與臺灣人結婚等語（見警三卷第2至3頁）；並於本院審理時具結證稱：當初共犯詹巧薇、張晉源等人欲找男子前往泰國結婚，伊曾刊登「男、女不限、經驗不拘」等內容之徵人廣告，被告見報應徵時，被告係因缺錢才來找伊，伊衡量被告條件後認為其只能利用結婚賺取報酬，伊才向其表示是要辦結婚，伊告知被告可安排其去泰國結婚，其不用負擔食宿及機票等費用，可實拿5至6萬元的報酬，被告同意後，伊將被告介紹予共犯詹巧薇、張晉源，共犯張晉源給付佣金1萬元予伊；伊與被告談論泰國結婚事宜時，伊與被告均不知被告之結婚對象為何人，伊亦未見過與被告結婚之泰國女子，伊僅介紹被告予共犯詹巧薇、張晉源等人，伊並未參予後續之泰國結婚、辦理結婚登記及居留申請等事情；被告曾給伊一部機車，當時被告表示要去別的地方，機車留在臺南無人使用，伊修理使用一段期間後，因再度壞掉便未再使用等語（見本院卷第68頁背面至71頁）\n",
            "--->\n",
            " 1: 李炷烽明知李運成並未同意贈與上開土地之應有部分予社團法人金門縣李氏宗親會（下稱李氏宗親會），竟於102年5月間某日，撥打電話予李運成佯稱：因系爭土地與鄰近土地所有權人界線劃分不清，故需身分證及印章辦理並解決云云，李運成不疑有他，即將身分證及印鑑章寄送李炷烽\n",
            "2: 李炷烽即基於行使偽造私文書及使公務員登載不實之犯意，指示不知情之地政士李根遠於103年3月3日前某日，在「土地登記申請書」、「土地所有權贈與移轉契約書」、「切結書」、「不動產贈與契約」等文件上，接續盜蓋李運成之印章後，復將其中之「土地登記申請書」、「土地所有權贈與移轉契約書」、「切結書」（起訴書誤繕連同「不動產贈與契約」送件至金門縣地政局，應予更正）連同印鑑證明、契稅繳款證明及土地增值稅繳款證明等文件，於103年3月3日送件至金門縣地政局，表示李運成願贈與系爭土地之應有部分，致不知情之承辦公務員為形式審查後，將上開不實事項登載在職務上所掌之地籍簿冊等公文書內，並於103年4月7日移轉登記至李氏宗親會名下，足生損害於地政機關對於地籍管理正確性及李運成\n",
            "3: 嗣辦理完成後，李炷烽將系爭土地所有權狀及「不動產贈與契約」寄送李運成，欲使李運成接受系爭土地已贈與之事實，惟李運成心有不甘，乃提出告訴\n",
            "=======================================================\n",
            "1: 乙、實體方面：一、訊據被告固坦承於上開時、地，透過共犯林清水之介紹，先至泰國辦理與共犯陳玉婉之結婚手續，再前往臺南縣永康市戶政事務所辦理結婚登記，又前往臺南縣政府警察局外事課辦理共犯陳玉婉之外僑居留證及申請居留證延期之事實，惟矢口否認有何行使使公務員登載不實文書情事，於本院審理時辯稱：伊當時經濟狀況良好，因同居女友欲去日本工作而不願結婚，然伊希望結婚生子，遂透過共犯林清水之介紹與安排，共犯林清水先讓伊看過共犯陳玉婉之照片，伊再前往泰國與共犯陳玉婉結婚，伊僅負擔自己的來回機票錢及泰國住宿費用，其他結婚費用均由共犯林清水負擔，伊則贈送伊的一部機車予共犯林清水以為回報，伊並不認識共犯詹巧薇云云\n",
            "2: 迨共犯陳玉婉來臺後，為取得居留身分，被告與共犯陳玉婉於同年6月14日及94年5月5日，均持前開戶籍謄本等資料，先後向臺南縣政府警察局外事課申請核發共犯陳玉婉之外僑居留證及申請居留證延期等情，業據被告供承在卷，並有結婚登記申請書、授權書各1份、結婚登記書、結婚證書各1份（含中文、泰文影本及我國駐泰國臺北經濟文化辦事處認證之資料）、93年6月14日及94年5月5日之外國人居留停留案件聲請表各1份、被告及共犯陳玉婉之入出國日期紀錄各1份、共犯陳玉婉之外僑居留資料查詢1份在卷可按（見警三卷即南市警一刑偵字第0994101517號卷第6至24、33頁）\n",
            "3: 上開事實，首堪認定\n",
            "4: 理由甲、程序方面：一、本件以下所引用具傳聞證據性質之供述證據，因本件被告陳泰龍、檢察官等人於本院準備程序進行時，均未爭執前開陳述之證據能力，且迄至本案言詞辯論終結前亦均未聲明異議，應視為已同意援引作為證據，又本院審酌前開證據作成時之情況及證據取得過程等節，並無非出於任意性、不正取供或其他違法不當情事，且客觀上亦無顯不可信之情況，堪認為適當，是依刑事訴訟法第159條之5規定，均有證據能力\n",
            "5: 二、卷附之被告及陳玉婉入出國日期紀錄各1份等書證，均非屬供述證據，皆無傳聞法則之適用，復均無違反法定程序取得之情形，依刑事訴訟法第158條之4規定之反面解釋，均應有證據能力\n",
            "6: 一、陳泰龍明知其與泰國籍女子陳玉婉（泰國名字為JARUWANWONGPRATOOM，陳玉婉涉嫌本案偽造文書部分，另經臺灣臺南地方法院檢察署檢察官通緝中）間並無結婚之真意，然因詹巧薇、張晉源等人欲找臺灣男子前往泰國與泰國女子辦理假結婚，林清水負責介紹臺灣男子予詹巧薇、張晉源等人以賺取新臺幣（下同）1萬元之仲介費，適陳泰龍依林清水於報紙上刊登之徵人廣告應徵時，由林清水告知泰國女子欲以假結婚之方式申請來臺居留工作，其若擔任假結婚之人頭老公，除不用負擔前往泰國之食宿、機票費用外，尚可獲取5、6萬元之報酬，迨陳泰龍應允同意後，林清水將其轉介紹予詹巧薇、張晉源等人，陳泰龍遂與林清水、詹巧薇、張晉源等人共同基於行使使公務員登載不實公文書之概括犯意聯絡，先由陳泰龍依指示於民國93年4月3日前往泰國，並於同年月7日與陳玉婉在泰國曼谷市法拉坎農區註冊辦事處登記結婚，取得上開註冊辦事處核發之結婚登記書、結婚證書等文件後，陳泰龍即行返臺，並於同年5月19日持經我國駐泰國臺北經濟文化辦事處認證之上開結婚登記書、結婚證書等資料，至臺南縣永康市（改制前稱謂，以下沿用舊制稱謂）戶政事務所填寫結婚登記申請書，申請辦理其與陳玉婉之結婚登記，因此使上開戶政事務所僅有形式審查權之承辦公務員陷於錯誤，於形式上審核後，將陳泰龍與陳玉婉於93年4月7日結婚之不實事項，登載於其職務上所掌屬公文書之戶籍登記資料內，並據以核發戶籍謄本，而足以生損害於戶政機關對於戶政管理及戶籍登記資料維護之正確性\n",
            "7: 經查：(一)被告於93年4月3日前往泰國，並於同年月7日與共犯陳玉婉在泰國曼谷市法拉坎農區註冊辦事處登記結婚，取得上開註冊辦事處核發之結婚登記書、結婚證書等文件後，被告即行返臺，並於同年5月19日持經我國駐泰國臺北經濟文化辦事處認證之上開結婚登記書、結婚證書等資料，至臺南縣永康市戶政事務所填寫結婚登記申請書，申請辦理其與共犯陳玉婉之結婚登記，並取得戶籍謄本\n",
            "8: 迨陳玉婉來臺後，為取得居留身分，再由陳泰龍、陳玉婉承前概括之犯意聯絡，於同年6月14日及94年5月5日，均持前開登載不實之戶籍謄本等資料，先後向臺南縣政府警察局外事課申請核發陳玉婉之外僑居留證及申請居留證延期而連續行使之（業經檢察官當庭補充），經承辦人員實質審查結果，均未發覺陳泰龍與陳玉婉假結婚之實情，而發給陳玉婉居留證或核准延期，各足以生損害於主管機關對外僑居留管理之正確性\n",
            "9:  二、案經臺南市警察局（現改制為臺南市政府警察局，以下沿用舊制稱謂）第一分局報告臺灣臺南地方法院檢察署檢察官偵查起訴\n",
            "10: (二)共犯詹巧薇、張晉源等人當時欲找臺灣人與泰國女子結婚，由共犯林清水於報紙上刊登徵人廣告，若應徵者符合與泰國人結婚之條件，便將應徵者介紹予共犯詹巧薇、張晉源等人，共犯林清水可從中獲取1萬元之仲介費，適被告依前開徵人廣告應徵，共犯林清水衡量其條件後告知其可至泰國結婚，其除不用負擔前往泰國之機票及食宿費用外，尚可獲取5至6萬元之報酬，被告應允同意後，共犯林清水將其介紹予詹巧薇、張晉源等人，被告即依指示前往泰國與為了來臺工作且無結婚真意的共犯陳玉婉辦理結婚事宜等情，業據共犯林清水於警詢時證稱：伊登報徵人到泰國結婚，被告看報紙來的，伊便轉介予共犯詹巧薇，由共犯詹巧薇安排後續到泰國結婚之事宜，被告除不用負擔前往泰國機票、食宿等費用，尚可獲取約5至6萬元酬勞，伊則可自共犯詹巧薇獲取約1萬元之仲介費用；伊只有將被告轉介予共犯詹巧薇，並未參與後續被告前往泰國之證照、機票、食宿等相關事宜；被告係因缺錢，為了賺取擔任人頭配偶的佣金5至6萬，並不是真的要與泰國人結婚，共犯陳玉婉係為了來臺灣工作賺錢，亦不是真的要與臺灣人結婚等語（見警三卷第2至3頁）；並於本院審理時具結證稱：當初共犯詹巧薇、張晉源等人欲找男子前往泰國結婚，伊曾刊登「男、女不限、經驗不拘」等內容之徵人廣告，被告見報應徵時，被告係因缺錢才來找伊，伊衡量被告條件後認為其只能利用結婚賺取報酬，伊才向其表示是要辦結婚，伊告知被告可安排其去泰國結婚，其不用負擔食宿及機票等費用，可實拿5至6萬元的報酬，被告同意後，伊將被告介紹予共犯詹巧薇、張晉源，共犯張晉源給付佣金1萬元予伊；伊與被告談論泰國結婚事宜時，伊與被告均不知被告之結婚對象為何人，伊亦未見過與被告結婚之泰國女子，伊僅介紹被告予共犯詹巧薇、張晉源等人，伊並未參予後續之泰國結婚、辦理結婚登記及居留申請等事情；被告曾給伊一部機車，當時被告表示要去別的地方，機車留在臺南無人使用，伊修理使用一段期間後，因再度壞掉便未再使用等語（見本院卷第68頁背面至71頁）\n",
            "--->\n",
            " 以下是三個和犯罪事實情節描述最相關的句子：\n",
            "\n",
            "1. 李炷烽明知李運成並未同意贈與上開土地之應有部分予社團法人金門縣李氏宗親會（下稱李氏宗親會），竟於102年5月間某日，撥打電話予李運成佯稱：因系爭土地與鄰近土地所有權人界線劃分不清，故需身分證及印章辦理並解決云云，李運成不疑有他，即將身分證及印鑑章寄送李炷烽\n",
            "2. 李炷烽即基於行使偽造私文書及使公務員登載不實之犯意，指示不知情之地政士李根遠於103年3月3日前某日，在「土地登記申請書」、「土地所有權贈與移轉契約書」、「切結書」、「不動產贈與契約」等文件上，接續盜蓋李運成之印章後，復將其中之「土地登記申請書」、「土地所有權贈與移轉契約書」、「切結書」（起訴書誤繕連同「不動產贈與契約」送件至金門縣地政局，應予更正）連同印鑑證明、契稅繳款證明及土地增值稅繳款證明等文件，於103年3月3日送件至金門縣地政局，表示李運成願贈與系爭土地之應有部分，致不知情之承辦公務員為形式審查後，將上開不實事項登載在職務上所掌之地籍簿冊等公文書內，並於103年4月7日移轉登記至李氏宗親會名下，足生損害於地政機關對於地籍管理正確性及李運成\n",
            "3. 嗣辦理完成後，李炷烽將系爭土地所有權狀及「不動產贈與契約」寄送李運成，欲使李運成接受系爭土地已贈與之事實，惟李運成心有不甘，乃提出告訴\n",
            "=======================================================\n"
          ]
        }
      ],
      "source": [
        "print(prompt1)\n",
        "print(\"--->\")\n",
        "print(get_breeze(query+prompt1))\n",
        "print(\"=======================================================\")\n",
        "print(prompt1)\n",
        "print(\"--->\")\n",
        "print(get_breeze(query+prompt2))\n",
        "print(\"=======================================================\")\n",
        "print(prompt1)\n",
        "print(\"--->\")\n",
        "print(get_breeze(query+prompt3))\n",
        "print(\"=======================================================\")"
      ]
    },
    {
      "cell_type": "code",
      "execution_count": null,
      "metadata": {
        "id": "Cykp22w0OSmq"
      },
      "outputs": [],
      "source": [
        "query = \"以下句子都是來自一篇法律判決書，請從這些句子中挑選出和犯罪事實情節描述最相關的三個句子。以下是一個Extraction-based摘要範例：多個句子輸入\"+input_ex+\" 萃取出和犯罪事實情節描述最相關的三個句子輸出：\"+output_ex+\"\\n根據以上的範例，從以下句子中萃取出和犯罪事實情節描述最相關的三個句子，句子如下：\""
      ]
    },
    {
      "cell_type": "code",
      "execution_count": null,
      "metadata": {
        "colab": {
          "base_uri": "https://localhost:8080/"
        },
        "id": "xoj398IYOT4Z",
        "outputId": "0c269afc-6d5c-4214-bb8e-888e8487337b"
      },
      "outputs": [
        {
          "name": "stdout",
          "output_type": "stream",
          "text": [
            "1: 乙、實體方面：一、訊據被告固坦承於上開時、地，透過共犯林清水之介紹，先至泰國辦理與共犯陳玉婉之結婚手續，再前往臺南縣永康市戶政事務所辦理結婚登記，又前往臺南縣政府警察局外事課辦理共犯陳玉婉之外僑居留證及申請居留證延期之事實，惟矢口否認有何行使使公務員登載不實文書情事，於本院審理時辯稱：伊當時經濟狀況良好，因同居女友欲去日本工作而不願結婚，然伊希望結婚生子，遂透過共犯林清水之介紹與安排，共犯林清水先讓伊看過共犯陳玉婉之照片，伊再前往泰國與共犯陳玉婉結婚，伊僅負擔自己的來回機票錢及泰國住宿費用，其他結婚費用均由共犯林清水負擔，伊則贈送伊的一部機車予共犯林清水以為回報，伊並不認識共犯詹巧薇云云\n",
            "2: 迨共犯陳玉婉來臺後，為取得居留身分，被告與共犯陳玉婉於同年6月14日及94年5月5日，均持前開戶籍謄本等資料，先後向臺南縣政府警察局外事課申請核發共犯陳玉婉之外僑居留證及申請居留證延期等情，業據被告供承在卷，並有結婚登記申請書、授權書各1份、結婚登記書、結婚證書各1份（含中文、泰文影本及我國駐泰國臺北經濟文化辦事處認證之資料）、93年6月14日及94年5月5日之外國人居留停留案件聲請表各1份、被告及共犯陳玉婉之入出國日期紀錄各1份、共犯陳玉婉之外僑居留資料查詢1份在卷可按（見警三卷即南市警一刑偵字第0994101517號卷第6至24、33頁）\n",
            "3: 上開事實，首堪認定\n",
            "4: 理由甲、程序方面：一、本件以下所引用具傳聞證據性質之供述證據，因本件被告陳泰龍、檢察官等人於本院準備程序進行時，均未爭執前開陳述之證據能力，且迄至本案言詞辯論終結前亦均未聲明異議，應視為已同意援引作為證據，又本院審酌前開證據作成時之情況及證據取得過程等節，並無非出於任意性、不正取供或其他違法不當情事，且客觀上亦無顯不可信之情況，堪認為適當，是依刑事訴訟法第159條之5規定，均有證據能力\n",
            "5: 二、卷附之被告及陳玉婉入出國日期紀錄各1份等書證，均非屬供述證據，皆無傳聞法則之適用，復均無違反法定程序取得之情形，依刑事訴訟法第158條之4規定之反面解釋，均應有證據能力\n",
            "6: 一、陳泰龍明知其與泰國籍女子陳玉婉（泰國名字為JARUWANWONGPRATOOM，陳玉婉涉嫌本案偽造文書部分，另經臺灣臺南地方法院檢察署檢察官通緝中）間並無結婚之真意，然因詹巧薇、張晉源等人欲找臺灣男子前往泰國與泰國女子辦理假結婚，林清水負責介紹臺灣男子予詹巧薇、張晉源等人以賺取新臺幣（下同）1萬元之仲介費，適陳泰龍依林清水於報紙上刊登之徵人廣告應徵時，由林清水告知泰國女子欲以假結婚之方式申請來臺居留工作，其若擔任假結婚之人頭老公，除不用負擔前往泰國之食宿、機票費用外，尚可獲取5、6萬元之報酬，迨陳泰龍應允同意後，林清水將其轉介紹予詹巧薇、張晉源等人，陳泰龍遂與林清水、詹巧薇、張晉源等人共同基於行使使公務員登載不實公文書之概括犯意聯絡，先由陳泰龍依指示於民國93年4月3日前往泰國，並於同年月7日與陳玉婉在泰國曼谷市法拉坎農區註冊辦事處登記結婚，取得上開註冊辦事處核發之結婚登記書、結婚證書等文件後，陳泰龍即行返臺，並於同年5月19日持經我國駐泰國臺北經濟文化辦事處認證之上開結婚登記書、結婚證書等資料，至臺南縣永康市（改制前稱謂，以下沿用舊制稱謂）戶政事務所填寫結婚登記申請書，申請辦理其與陳玉婉之結婚登記，因此使上開戶政事務所僅有形式審查權之承辦公務員陷於錯誤，於形式上審核後，將陳泰龍與陳玉婉於93年4月7日結婚之不實事項，登載於其職務上所掌屬公文書之戶籍登記資料內，並據以核發戶籍謄本，而足以生損害於戶政機關對於戶政管理及戶籍登記資料維護之正確性\n",
            "7: 經查：(一)被告於93年4月3日前往泰國，並於同年月7日與共犯陳玉婉在泰國曼谷市法拉坎農區註冊辦事處登記結婚，取得上開註冊辦事處核發之結婚登記書、結婚證書等文件後，被告即行返臺，並於同年5月19日持經我國駐泰國臺北經濟文化辦事處認證之上開結婚登記書、結婚證書等資料，至臺南縣永康市戶政事務所填寫結婚登記申請書，申請辦理其與共犯陳玉婉之結婚登記，並取得戶籍謄本\n",
            "8: 迨陳玉婉來臺後，為取得居留身分，再由陳泰龍、陳玉婉承前概括之犯意聯絡，於同年6月14日及94年5月5日，均持前開登載不實之戶籍謄本等資料，先後向臺南縣政府警察局外事課申請核發陳玉婉之外僑居留證及申請居留證延期而連續行使之（業經檢察官當庭補充），經承辦人員實質審查結果，均未發覺陳泰龍與陳玉婉假結婚之實情，而發給陳玉婉居留證或核准延期，各足以生損害於主管機關對外僑居留管理之正確性\n",
            "9:  二、案經臺南市警察局（現改制為臺南市政府警察局，以下沿用舊制稱謂）第一分局報告臺灣臺南地方法院檢察署檢察官偵查起訴\n",
            "10: (二)共犯詹巧薇、張晉源等人當時欲找臺灣人與泰國女子結婚，由共犯林清水於報紙上刊登徵人廣告，若應徵者符合與泰國人結婚之條件，便將應徵者介紹予共犯詹巧薇、張晉源等人，共犯林清水可從中獲取1萬元之仲介費，適被告依前開徵人廣告應徵，共犯林清水衡量其條件後告知其可至泰國結婚，其除不用負擔前往泰國之機票及食宿費用外，尚可獲取5至6萬元之報酬，被告應允同意後，共犯林清水將其介紹予詹巧薇、張晉源等人，被告即依指示前往泰國與為了來臺工作且無結婚真意的共犯陳玉婉辦理結婚事宜等情，業據共犯林清水於警詢時證稱：伊登報徵人到泰國結婚，被告看報紙來的，伊便轉介予共犯詹巧薇，由共犯詹巧薇安排後續到泰國結婚之事宜，被告除不用負擔前往泰國機票、食宿等費用，尚可獲取約5至6萬元酬勞，伊則可自共犯詹巧薇獲取約1萬元之仲介費用；伊只有將被告轉介予共犯詹巧薇，並未參與後續被告前往泰國之證照、機票、食宿等相關事宜；被告係因缺錢，為了賺取擔任人頭配偶的佣金5至6萬，並不是真的要與泰國人結婚，共犯陳玉婉係為了來臺灣工作賺錢，亦不是真的要與臺灣人結婚等語（見警三卷第2至3頁）；並於本院審理時具結證稱：當初共犯詹巧薇、張晉源等人欲找男子前往泰國結婚，伊曾刊登「男、女不限、經驗不拘」等內容之徵人廣告，被告見報應徵時，被告係因缺錢才來找伊，伊衡量被告條件後認為其只能利用結婚賺取報酬，伊才向其表示是要辦結婚，伊告知被告可安排其去泰國結婚，其不用負擔食宿及機票等費用，可實拿5至6萬元的報酬，被告同意後，伊將被告介紹予共犯詹巧薇、張晉源，共犯張晉源給付佣金1萬元予伊；伊與被告談論泰國結婚事宜時，伊與被告均不知被告之結婚對象為何人，伊亦未見過與被告結婚之泰國女子，伊僅介紹被告予共犯詹巧薇、張晉源等人，伊並未參予後續之泰國結婚、辦理結婚登記及居留申請等事情；被告曾給伊一部機車，當時被告表示要去別的地方，機車留在臺南無人使用，伊修理使用一段期間後，因再度壞掉便未再使用等語（見本院卷第68頁背面至71頁）\n",
            "--->\n",
            " 3: 李炷烽明知李運成並未同意贈與上開土地之應有部分予社團法人金門縣李氏宗親會（下稱李氏宗親會），竟於102年5月間某日，撥打電話予李運成佯稱：因系爭土地與鄰近土地所有權人界線劃分不清，故需身分證及印章辦理並解決云云，李運成不疑有他，即將身分證及印鑑章寄送李炷烽\n",
            "=======================================================\n",
            "1: 乙、實體方面：一、訊據被告固坦承於上開時、地，透過共犯林清水之介紹，先至泰國辦理與共犯陳玉婉之結婚手續，再前往臺南縣永康市戶政事務所辦理結婚登記，又前往臺南縣政府警察局外事課辦理共犯陳玉婉之外僑居留證及申請居留證延期之事實，惟矢口否認有何行使使公務員登載不實文書情事，於本院審理時辯稱：伊當時經濟狀況良好，因同居女友欲去日本工作而不願結婚，然伊希望結婚生子，遂透過共犯林清水之介紹與安排，共犯林清水先讓伊看過共犯陳玉婉之照片，伊再前往泰國與共犯陳玉婉結婚，伊僅負擔自己的來回機票錢及泰國住宿費用，其他結婚費用均由共犯林清水負擔，伊則贈送伊的一部機車予共犯林清水以為回報，伊並不認識共犯詹巧薇云云\n",
            "2: 迨共犯陳玉婉來臺後，為取得居留身分，被告與共犯陳玉婉於同年6月14日及94年5月5日，均持前開戶籍謄本等資料，先後向臺南縣政府警察局外事課申請核發共犯陳玉婉之外僑居留證及申請居留證延期等情，業據被告供承在卷，並有結婚登記申請書、授權書各1份、結婚登記書、結婚證書各1份（含中文、泰文影本及我國駐泰國臺北經濟文化辦事處認證之資料）、93年6月14日及94年5月5日之外國人居留停留案件聲請表各1份、被告及共犯陳玉婉之入出國日期紀錄各1份、共犯陳玉婉之外僑居留資料查詢1份在卷可按（見警三卷即南市警一刑偵字第0994101517號卷第6至24、33頁）\n",
            "3: 上開事實，首堪認定\n",
            "4: 理由甲、程序方面：一、本件以下所引用具傳聞證據性質之供述證據，因本件被告陳泰龍、檢察官等人於本院準備程序進行時，均未爭執前開陳述之證據能力，且迄至本案言詞辯論終結前亦均未聲明異議，應視為已同意援引作為證據，又本院審酌前開證據作成時之情況及證據取得過程等節，並無非出於任意性、不正取供或其他違法不當情事，且客觀上亦無顯不可信之情況，堪認為適當，是依刑事訴訟法第159條之5規定，均有證據能力\n",
            "5: 二、卷附之被告及陳玉婉入出國日期紀錄各1份等書證，均非屬供述證據，皆無傳聞法則之適用，復均無違反法定程序取得之情形，依刑事訴訟法第158條之4規定之反面解釋，均應有證據能力\n",
            "6: 一、陳泰龍明知其與泰國籍女子陳玉婉（泰國名字為JARUWANWONGPRATOOM，陳玉婉涉嫌本案偽造文書部分，另經臺灣臺南地方法院檢察署檢察官通緝中）間並無結婚之真意，然因詹巧薇、張晉源等人欲找臺灣男子前往泰國與泰國女子辦理假結婚，林清水負責介紹臺灣男子予詹巧薇、張晉源等人以賺取新臺幣（下同）1萬元之仲介費，適陳泰龍依林清水於報紙上刊登之徵人廣告應徵時，由林清水告知泰國女子欲以假結婚之方式申請來臺居留工作，其若擔任假結婚之人頭老公，除不用負擔前往泰國之食宿、機票費用外，尚可獲取5、6萬元之報酬，迨陳泰龍應允同意後，林清水將其轉介紹予詹巧薇、張晉源等人，陳泰龍遂與林清水、詹巧薇、張晉源等人共同基於行使使公務員登載不實公文書之概括犯意聯絡，先由陳泰龍依指示於民國93年4月3日前往泰國，並於同年月7日與陳玉婉在泰國曼谷市法拉坎農區註冊辦事處登記結婚，取得上開註冊辦事處核發之結婚登記書、結婚證書等文件後，陳泰龍即行返臺，並於同年5月19日持經我國駐泰國臺北經濟文化辦事處認證之上開結婚登記書、結婚證書等資料，至臺南縣永康市（改制前稱謂，以下沿用舊制稱謂）戶政事務所填寫結婚登記申請書，申請辦理其與陳玉婉之結婚登記，因此使上開戶政事務所僅有形式審查權之承辦公務員陷於錯誤，於形式上審核後，將陳泰龍與陳玉婉於93年4月7日結婚之不實事項，登載於其職務上所掌屬公文書之戶籍登記資料內，並據以核發戶籍謄本，而足以生損害於戶政機關對於戶政管理及戶籍登記資料維護之正確性\n",
            "7: 經查：(一)被告於93年4月3日前往泰國，並於同年月7日與共犯陳玉婉在泰國曼谷市法拉坎農區註冊辦事處登記結婚，取得上開註冊辦事處核發之結婚登記書、結婚證書等文件後，被告即行返臺，並於同年5月19日持經我國駐泰國臺北經濟文化辦事處認證之上開結婚登記書、結婚證書等資料，至臺南縣永康市戶政事務所填寫結婚登記申請書，申請辦理其與共犯陳玉婉之結婚登記，並取得戶籍謄本\n",
            "8: 迨陳玉婉來臺後，為取得居留身分，再由陳泰龍、陳玉婉承前概括之犯意聯絡，於同年6月14日及94年5月5日，均持前開登載不實之戶籍謄本等資料，先後向臺南縣政府警察局外事課申請核發陳玉婉之外僑居留證及申請居留證延期而連續行使之（業經檢察官當庭補充），經承辦人員實質審查結果，均未發覺陳泰龍與陳玉婉假結婚之實情，而發給陳玉婉居留證或核准延期，各足以生損害於主管機關對外僑居留管理之正確性\n",
            "9:  二、案經臺南市警察局（現改制為臺南市政府警察局，以下沿用舊制稱謂）第一分局報告臺灣臺南地方法院檢察署檢察官偵查起訴\n",
            "10: (二)共犯詹巧薇、張晉源等人當時欲找臺灣人與泰國女子結婚，由共犯林清水於報紙上刊登徵人廣告，若應徵者符合與泰國人結婚之條件，便將應徵者介紹予共犯詹巧薇、張晉源等人，共犯林清水可從中獲取1萬元之仲介費，適被告依前開徵人廣告應徵，共犯林清水衡量其條件後告知其可至泰國結婚，其除不用負擔前往泰國之機票及食宿費用外，尚可獲取5至6萬元之報酬，被告應允同意後，共犯林清水將其介紹予詹巧薇、張晉源等人，被告即依指示前往泰國與為了來臺工作且無結婚真意的共犯陳玉婉辦理結婚事宜等情，業據共犯林清水於警詢時證稱：伊登報徵人到泰國結婚，被告看報紙來的，伊便轉介予共犯詹巧薇，由共犯詹巧薇安排後續到泰國結婚之事宜，被告除不用負擔前往泰國機票、食宿等費用，尚可獲取約5至6萬元酬勞，伊則可自共犯詹巧薇獲取約1萬元之仲介費用；伊只有將被告轉介予共犯詹巧薇，並未參與後續被告前往泰國之證照、機票、食宿等相關事宜；被告係因缺錢，為了賺取擔任人頭配偶的佣金5至6萬，並不是真的要與泰國人結婚，共犯陳玉婉係為了來臺灣工作賺錢，亦不是真的要與臺灣人結婚等語（見警三卷第2至3頁）；並於本院審理時具結證稱：當初共犯詹巧薇、張晉源等人欲找男子前往泰國結婚，伊曾刊登「男、女不限、經驗不拘」等內容之徵人廣告，被告見報應徵時，被告係因缺錢才來找伊，伊衡量被告條件後認為其只能利用結婚賺取報酬，伊才向其表示是要辦結婚，伊告知被告可安排其去泰國結婚，其不用負擔食宿及機票等費用，可實拿5至6萬元的報酬，被告同意後，伊將被告介紹予共犯詹巧薇、張晉源，共犯張晉源給付佣金1萬元予伊；伊與被告談論泰國結婚事宜時，伊與被告均不知被告之結婚對象為何人，伊亦未見過與被告結婚之泰國女子，伊僅介紹被告予共犯詹巧薇、張晉源等人，伊並未參予後續之泰國結婚、辦理結婚登記及居留申請等事情；被告曾給伊一部機車，當時被告表示要去別的地方，機車留在臺南無人使用，伊修理使用一段期間後，因再度壞掉便未再使用等語（見本院卷第68頁背面至71頁）\n",
            "--->\n",
            " 1: 李炷烽明知李運成並未同意贈與上開土地之應有部分予社團法人金門縣李氏宗親會（下稱李氏宗親會），竟於102年5月間某日，撥打電話予李運成佯稱：因系爭土地與鄰近土地所有權人界線劃分不清，故需身分證及印章辦理並解決云云，李運成不疑有他，即將身分證及印鑑章寄送李炷烽\n",
            "2: 李炷烽即基於行使偽造私文書及使公務員登載不實之犯意，指示不知情之地政士李根遠於103年3月3日前某日，在「土地登記申請書」、「土地所有權贈與移轉契約書」、「切結書」、「不動產贈與契約」等文件上，接續盜蓋李運成之印章後，復將其中之「土地登記申請書」、「土地所有權贈與移轉契約書」、「切結書」（起訴書誤繕連同「不動產贈與契約」送件至金門縣地政局，應予更正）連同印鑑證明、契稅繳款證明及土地增值稅繳款證明等文件，於103年3月3日送件至金門縣地政局，表示李運成願贈與系爭土地之應有部分，致不知情之承辦公務員為形式審查後，將上開不實事項登載在職務上所掌之地籍簿冊等公文書內，並於103年4月7日移轉登記至李氏宗親會名下，足生損害於地政機關對於地籍管理正確性及李運成\n",
            "3: 嗣辦理完成後，李炷烽將系爭土地所有權狀及「不動產贈與契約」寄送李運成，欲使李運成接受系爭土地已贈與之事實，惟李運成心有不甘，乃提出告訴\n",
            "=======================================================\n",
            "1: 乙、實體方面：一、訊據被告固坦承於上開時、地，透過共犯林清水之介紹，先至泰國辦理與共犯陳玉婉之結婚手續，再前往臺南縣永康市戶政事務所辦理結婚登記，又前往臺南縣政府警察局外事課辦理共犯陳玉婉之外僑居留證及申請居留證延期之事實，惟矢口否認有何行使使公務員登載不實文書情事，於本院審理時辯稱：伊當時經濟狀況良好，因同居女友欲去日本工作而不願結婚，然伊希望結婚生子，遂透過共犯林清水之介紹與安排，共犯林清水先讓伊看過共犯陳玉婉之照片，伊再前往泰國與共犯陳玉婉結婚，伊僅負擔自己的來回機票錢及泰國住宿費用，其他結婚費用均由共犯林清水負擔，伊則贈送伊的一部機車予共犯林清水以為回報，伊並不認識共犯詹巧薇云云\n",
            "2: 迨共犯陳玉婉來臺後，為取得居留身分，被告與共犯陳玉婉於同年6月14日及94年5月5日，均持前開戶籍謄本等資料，先後向臺南縣政府警察局外事課申請核發共犯陳玉婉之外僑居留證及申請居留證延期等情，業據被告供承在卷，並有結婚登記申請書、授權書各1份、結婚登記書、結婚證書各1份（含中文、泰文影本及我國駐泰國臺北經濟文化辦事處認證之資料）、93年6月14日及94年5月5日之外國人居留停留案件聲請表各1份、被告及共犯陳玉婉之入出國日期紀錄各1份、共犯陳玉婉之外僑居留資料查詢1份在卷可按（見警三卷即南市警一刑偵字第0994101517號卷第6至24、33頁）\n",
            "3: 上開事實，首堪認定\n",
            "4: 理由甲、程序方面：一、本件以下所引用具傳聞證據性質之供述證據，因本件被告陳泰龍、檢察官等人於本院準備程序進行時，均未爭執前開陳述之證據能力，且迄至本案言詞辯論終結前亦均未聲明異議，應視為已同意援引作為證據，又本院審酌前開證據作成時之情況及證據取得過程等節，並無非出於任意性、不正取供或其他違法不當情事，且客觀上亦無顯不可信之情況，堪認為適當，是依刑事訴訟法第159條之5規定，均有證據能力\n",
            "5: 二、卷附之被告及陳玉婉入出國日期紀錄各1份等書證，均非屬供述證據，皆無傳聞法則之適用，復均無違反法定程序取得之情形，依刑事訴訟法第158條之4規定之反面解釋，均應有證據能力\n",
            "6: 一、陳泰龍明知其與泰國籍女子陳玉婉（泰國名字為JARUWANWONGPRATOOM，陳玉婉涉嫌本案偽造文書部分，另經臺灣臺南地方法院檢察署檢察官通緝中）間並無結婚之真意，然因詹巧薇、張晉源等人欲找臺灣男子前往泰國與泰國女子辦理假結婚，林清水負責介紹臺灣男子予詹巧薇、張晉源等人以賺取新臺幣（下同）1萬元之仲介費，適陳泰龍依林清水於報紙上刊登之徵人廣告應徵時，由林清水告知泰國女子欲以假結婚之方式申請來臺居留工作，其若擔任假結婚之人頭老公，除不用負擔前往泰國之食宿、機票費用外，尚可獲取5、6萬元之報酬，迨陳泰龍應允同意後，林清水將其轉介紹予詹巧薇、張晉源等人，陳泰龍遂與林清水、詹巧薇、張晉源等人共同基於行使使公務員登載不實公文書之概括犯意聯絡，先由陳泰龍依指示於民國93年4月3日前往泰國，並於同年月7日與陳玉婉在泰國曼谷市法拉坎農區註冊辦事處登記結婚，取得上開註冊辦事處核發之結婚登記書、結婚證書等文件後，陳泰龍即行返臺，並於同年5月19日持經我國駐泰國臺北經濟文化辦事處認證之上開結婚登記書、結婚證書等資料，至臺南縣永康市（改制前稱謂，以下沿用舊制稱謂）戶政事務所填寫結婚登記申請書，申請辦理其與陳玉婉之結婚登記，因此使上開戶政事務所僅有形式審查權之承辦公務員陷於錯誤，於形式上審核後，將陳泰龍與陳玉婉於93年4月7日結婚之不實事項，登載於其職務上所掌屬公文書之戶籍登記資料內，並據以核發戶籍謄本，而足以生損害於戶政機關對於戶政管理及戶籍登記資料維護之正確性\n",
            "7: 經查：(一)被告於93年4月3日前往泰國，並於同年月7日與共犯陳玉婉在泰國曼谷市法拉坎農區註冊辦事處登記結婚，取得上開註冊辦事處核發之結婚登記書、結婚證書等文件後，被告即行返臺，並於同年5月19日持經我國駐泰國臺北經濟文化辦事處認證之上開結婚登記書、結婚證書等資料，至臺南縣永康市戶政事務所填寫結婚登記申請書，申請辦理其與共犯陳玉婉之結婚登記，並取得戶籍謄本\n",
            "8: 迨陳玉婉來臺後，為取得居留身分，再由陳泰龍、陳玉婉承前概括之犯意聯絡，於同年6月14日及94年5月5日，均持前開登載不實之戶籍謄本等資料，先後向臺南縣政府警察局外事課申請核發陳玉婉之外僑居留證及申請居留證延期而連續行使之（業經檢察官當庭補充），經承辦人員實質審查結果，均未發覺陳泰龍與陳玉婉假結婚之實情，而發給陳玉婉居留證或核准延期，各足以生損害於主管機關對外僑居留管理之正確性\n",
            "9:  二、案經臺南市警察局（現改制為臺南市政府警察局，以下沿用舊制稱謂）第一分局報告臺灣臺南地方法院檢察署檢察官偵查起訴\n",
            "10: (二)共犯詹巧薇、張晉源等人當時欲找臺灣人與泰國女子結婚，由共犯林清水於報紙上刊登徵人廣告，若應徵者符合與泰國人結婚之條件，便將應徵者介紹予共犯詹巧薇、張晉源等人，共犯林清水可從中獲取1萬元之仲介費，適被告依前開徵人廣告應徵，共犯林清水衡量其條件後告知其可至泰國結婚，其除不用負擔前往泰國之機票及食宿費用外，尚可獲取5至6萬元之報酬，被告應允同意後，共犯林清水將其介紹予詹巧薇、張晉源等人，被告即依指示前往泰國與為了來臺工作且無結婚真意的共犯陳玉婉辦理結婚事宜等情，業據共犯林清水於警詢時證稱：伊登報徵人到泰國結婚，被告看報紙來的，伊便轉介予共犯詹巧薇，由共犯詹巧薇安排後續到泰國結婚之事宜，被告除不用負擔前往泰國機票、食宿等費用，尚可獲取約5至6萬元酬勞，伊則可自共犯詹巧薇獲取約1萬元之仲介費用；伊只有將被告轉介予共犯詹巧薇，並未參與後續被告前往泰國之證照、機票、食宿等相關事宜；被告係因缺錢，為了賺取擔任人頭配偶的佣金5至6萬，並不是真的要與泰國人結婚，共犯陳玉婉係為了來臺灣工作賺錢，亦不是真的要與臺灣人結婚等語（見警三卷第2至3頁）；並於本院審理時具結證稱：當初共犯詹巧薇、張晉源等人欲找男子前往泰國結婚，伊曾刊登「男、女不限、經驗不拘」等內容之徵人廣告，被告見報應徵時，被告係因缺錢才來找伊，伊衡量被告條件後認為其只能利用結婚賺取報酬，伊才向其表示是要辦結婚，伊告知被告可安排其去泰國結婚，其不用負擔食宿及機票等費用，可實拿5至6萬元的報酬，被告同意後，伊將被告介紹予共犯詹巧薇、張晉源，共犯張晉源給付佣金1萬元予伊；伊與被告談論泰國結婚事宜時，伊與被告均不知被告之結婚對象為何人，伊亦未見過與被告結婚之泰國女子，伊僅介紹被告予共犯詹巧薇、張晉源等人，伊並未參予後續之泰國結婚、辦理結婚登記及居留申請等事情；被告曾給伊一部機車，當時被告表示要去別的地方，機車留在臺南無人使用，伊修理使用一段期間後，因再度壞掉便未再使用等語（見本院卷第68頁背面至71頁）\n",
            "--->\n",
            " 1: 李炷烽明知李運成並未同意贈與上開土地之應有部分予社團法人金門縣李氏宗親會（下稱李氏宗親會），竟於102年5月間某日，撥打電話予李運成佯稱：因系爭土地與鄰近土地所有權人界線劃分不清，故需身分證及印章辦理並解決云云，李運成不疑有他，即將身分證及印鑑章寄送李炷烽\n",
            "2: 李炷烽即基於行使偽造私文書及使公務員登載不實之犯意，指示不知情之地政士李根遠於103年3月3日前某日，在「土地登記申請書」、「土地所有權贈與移轉契約書」、「切結書」、「不動產贈與契約」等文件上，接續盜蓋李運成之印章後，復將其中之「土地登記申請書」、「土地所有權贈與移轉契約書」、「切結書」（起訴書誤繕連同「不動產贈與契約」送件至金門縣地政局，應予更正）連同印鑑證明、契稅繳款證明及土地增值稅繳款證明等文件，於103年3月3日送件至金門縣地政局，表示李運成願贈與系爭土地之應有部分，致不知情之承辦公務員為形式審查後，將上開不實事項登載在職務上所掌之地籍簿冊等公文書內，並於103年4月7日移轉登記至李氏宗親會名下，足生損害於地政機關對於地籍管理正確性及李運成\n",
            "3: 嗣辦理完成後，李炷烽將系爭土地所有權狀及「不動產贈與契約」寄送李運成，欲使李運成接受系爭土地已贈與之事實，惟李運成心有不甘，乃提出告訴\n",
            "=======================================================\n"
          ]
        }
      ],
      "source": [
        "print(prompt1)\n",
        "print(\"--->\")\n",
        "print(get_breeze(query+prompt1))\n",
        "print(\"=======================================================\")\n",
        "print(prompt1)\n",
        "print(\"--->\")\n",
        "print(get_breeze(query+prompt2))\n",
        "print(\"=======================================================\")\n",
        "print(prompt1)\n",
        "print(\"--->\")\n",
        "print(get_breeze(query+prompt3))\n",
        "print(\"=======================================================\")"
      ]
    },
    {
      "cell_type": "code",
      "execution_count": null,
      "metadata": {
        "id": "DceOPC79Oj1W"
      },
      "outputs": [],
      "source": [
        "query = \"以下句子都是來自一篇法律判決書，請從這些句子中挑選出和犯罪事實情節描述最相關的三個句子。以下是一個萃取句子的範例：多個句子輸入\"+input_ex+\" 萃取出和犯罪事實情節描述最相關的三個句子輸出：\"+output_ex+\"\\n根據以上的範例，從以下句子中萃取出和犯罪事實情節描述最相關的三個句子，句子如下：\""
      ]
    },
    {
      "cell_type": "code",
      "execution_count": null,
      "metadata": {
        "id": "1zmnKE-BOlHg"
      },
      "outputs": [],
      "source": [
        "print(prompt1)\n",
        "print(\"--->\")\n",
        "print(get_breeze(query+prompt1))\n",
        "print(\"=======================================================\")\n",
        "print(prompt1)\n",
        "print(\"--->\")\n",
        "print(get_breeze(query+prompt2))\n",
        "print(\"=======================================================\")\n",
        "print(prompt1)\n",
        "print(\"--->\")\n",
        "print(get_breeze(query+prompt3))\n",
        "print(\"=======================================================\")"
      ]
    },
    {
      "cell_type": "code",
      "execution_count": null,
      "metadata": {
        "colab": {
          "base_uri": "https://localhost:8080/"
        },
        "id": "Vv54wKxXO6s_",
        "outputId": "45f2f4da-d519-41de-c2e1-dba8f5de6d2f"
      },
      "outputs": [
        {
          "data": {
            "text/plain": [
              "4423"
            ]
          },
          "execution_count": 117,
          "metadata": {},
          "output_type": "execute_result"
        }
      ],
      "source": [
        "len(query+prompt1)"
      ]
    },
    {
      "cell_type": "code",
      "execution_count": null,
      "metadata": {
        "id": "Waav4134PCUD"
      },
      "outputs": [],
      "source": [
        "query = \"我會給你來自一篇法律判決書的多個句子，請從這些句子中挑選出和犯罪事實情節描述最相關的三個句子。以下是一個萃取句子的範例：多個句子輸入\"+input_ex+\" 萃取出和犯罪事實情節描述最相關的三個句子輸出：\"+output_ex+\"\\n根據以上的範例，從以下句子中萃取出和犯罪事實情節描述最相關的三個句子，句子如下：\""
      ]
    },
    {
      "cell_type": "code",
      "execution_count": null,
      "metadata": {
        "colab": {
          "base_uri": "https://localhost:8080/"
        },
        "id": "r7oDN0QqPKvS",
        "outputId": "7642c838-4548-444b-8ec2-56d2bcb6a728"
      },
      "outputs": [
        {
          "name": "stdout",
          "output_type": "stream",
          "text": [
            "1: 乙、實體方面：一、訊據被告固坦承於上開時、地，透過共犯林清水之介紹，先至泰國辦理與共犯陳玉婉之結婚手續，再前往臺南縣永康市戶政事務所辦理結婚登記，又前往臺南縣政府警察局外事課辦理共犯陳玉婉之外僑居留證及申請居留證延期之事實，惟矢口否認有何行使使公務員登載不實文書情事，於本院審理時辯稱：伊當時經濟狀況良好，因同居女友欲去日本工作而不願結婚，然伊希望結婚生子，遂透過共犯林清水之介紹與安排，共犯林清水先讓伊看過共犯陳玉婉之照片，伊再前往泰國與共犯陳玉婉結婚，伊僅負擔自己的來回機票錢及泰國住宿費用，其他結婚費用均由共犯林清水負擔，伊則贈送伊的一部機車予共犯林清水以為回報，伊並不認識共犯詹巧薇云云\n",
            "2: 迨共犯陳玉婉來臺後，為取得居留身分，被告與共犯陳玉婉於同年6月14日及94年5月5日，均持前開戶籍謄本等資料，先後向臺南縣政府警察局外事課申請核發共犯陳玉婉之外僑居留證及申請居留證延期等情，業據被告供承在卷，並有結婚登記申請書、授權書各1份、結婚登記書、結婚證書各1份（含中文、泰文影本及我國駐泰國臺北經濟文化辦事處認證之資料）、93年6月14日及94年5月5日之外國人居留停留案件聲請表各1份、被告及共犯陳玉婉之入出國日期紀錄各1份、共犯陳玉婉之外僑居留資料查詢1份在卷可按（見警三卷即南市警一刑偵字第0994101517號卷第6至24、33頁）\n",
            "3: 上開事實，首堪認定\n",
            "4: 理由甲、程序方面：一、本件以下所引用具傳聞證據性質之供述證據，因本件被告陳泰龍、檢察官等人於本院準備程序進行時，均未爭執前開陳述之證據能力，且迄至本案言詞辯論終結前亦均未聲明異議，應視為已同意援引作為證據，又本院審酌前開證據作成時之情況及證據取得過程等節，並無非出於任意性、不正取供或其他違法不當情事，且客觀上亦無顯不可信之情況，堪認為適當，是依刑事訴訟法第159條之5規定，均有證據能力\n",
            "5: 二、卷附之被告及陳玉婉入出國日期紀錄各1份等書證，均非屬供述證據，皆無傳聞法則之適用，復均無違反法定程序取得之情形，依刑事訴訟法第158條之4規定之反面解釋，均應有證據能力\n",
            "6: 一、陳泰龍明知其與泰國籍女子陳玉婉（泰國名字為JARUWANWONGPRATOOM，陳玉婉涉嫌本案偽造文書部分，另經臺灣臺南地方法院檢察署檢察官通緝中）間並無結婚之真意，然因詹巧薇、張晉源等人欲找臺灣男子前往泰國與泰國女子辦理假結婚，林清水負責介紹臺灣男子予詹巧薇、張晉源等人以賺取新臺幣（下同）1萬元之仲介費，適陳泰龍依林清水於報紙上刊登之徵人廣告應徵時，由林清水告知泰國女子欲以假結婚之方式申請來臺居留工作，其若擔任假結婚之人頭老公，除不用負擔前往泰國之食宿、機票費用外，尚可獲取5、6萬元之報酬，迨陳泰龍應允同意後，林清水將其轉介紹予詹巧薇、張晉源等人，陳泰龍遂與林清水、詹巧薇、張晉源等人共同基於行使使公務員登載不實公文書之概括犯意聯絡，先由陳泰龍依指示於民國93年4月3日前往泰國，並於同年月7日與陳玉婉在泰國曼谷市法拉坎農區註冊辦事處登記結婚，取得上開註冊辦事處核發之結婚登記書、結婚證書等文件後，陳泰龍即行返臺，並於同年5月19日持經我國駐泰國臺北經濟文化辦事處認證之上開結婚登記書、結婚證書等資料，至臺南縣永康市（改制前稱謂，以下沿用舊制稱謂）戶政事務所填寫結婚登記申請書，申請辦理其與陳玉婉之結婚登記，因此使上開戶政事務所僅有形式審查權之承辦公務員陷於錯誤，於形式上審核後，將陳泰龍與陳玉婉於93年4月7日結婚之不實事項，登載於其職務上所掌屬公文書之戶籍登記資料內，並據以核發戶籍謄本，而足以生損害於戶政機關對於戶政管理及戶籍登記資料維護之正確性\n",
            "7: 經查：(一)被告於93年4月3日前往泰國，並於同年月7日與共犯陳玉婉在泰國曼谷市法拉坎農區註冊辦事處登記結婚，取得上開註冊辦事處核發之結婚登記書、結婚證書等文件後，被告即行返臺，並於同年5月19日持經我國駐泰國臺北經濟文化辦事處認證之上開結婚登記書、結婚證書等資料，至臺南縣永康市戶政事務所填寫結婚登記申請書，申請辦理其與共犯陳玉婉之結婚登記，並取得戶籍謄本\n",
            "8: 迨陳玉婉來臺後，為取得居留身分，再由陳泰龍、陳玉婉承前概括之犯意聯絡，於同年6月14日及94年5月5日，均持前開登載不實之戶籍謄本等資料，先後向臺南縣政府警察局外事課申請核發陳玉婉之外僑居留證及申請居留證延期而連續行使之（業經檢察官當庭補充），經承辦人員實質審查結果，均未發覺陳泰龍與陳玉婉假結婚之實情，而發給陳玉婉居留證或核准延期，各足以生損害於主管機關對外僑居留管理之正確性\n",
            "9:  二、案經臺南市警察局（現改制為臺南市政府警察局，以下沿用舊制稱謂）第一分局報告臺灣臺南地方法院檢察署檢察官偵查起訴\n",
            "10: (二)共犯詹巧薇、張晉源等人當時欲找臺灣人與泰國女子結婚，由共犯林清水於報紙上刊登徵人廣告，若應徵者符合與泰國人結婚之條件，便將應徵者介紹予共犯詹巧薇、張晉源等人，共犯林清水可從中獲取1萬元之仲介費，適被告依前開徵人廣告應徵，共犯林清水衡量其條件後告知其可至泰國結婚，其除不用負擔前往泰國之機票及食宿費用外，尚可獲取5至6萬元之報酬，被告應允同意後，共犯林清水將其介紹予詹巧薇、張晉源等人，被告即依指示前往泰國與為了來臺工作且無結婚真意的共犯陳玉婉辦理結婚事宜等情，業據共犯林清水於警詢時證稱：伊登報徵人到泰國結婚，被告看報紙來的，伊便轉介予共犯詹巧薇，由共犯詹巧薇安排後續到泰國結婚之事宜，被告除不用負擔前往泰國機票、食宿等費用，尚可獲取約5至6萬元酬勞，伊則可自共犯詹巧薇獲取約1萬元之仲介費用；伊只有將被告轉介予共犯詹巧薇，並未參與後續被告前往泰國之證照、機票、食宿等相關事宜；被告係因缺錢，為了賺取擔任人頭配偶的佣金5至6萬，並不是真的要與泰國人結婚，共犯陳玉婉係為了來臺灣工作賺錢，亦不是真的要與臺灣人結婚等語（見警三卷第2至3頁）；並於本院審理時具結證稱：當初共犯詹巧薇、張晉源等人欲找男子前往泰國結婚，伊曾刊登「男、女不限、經驗不拘」等內容之徵人廣告，被告見報應徵時，被告係因缺錢才來找伊，伊衡量被告條件後認為其只能利用結婚賺取報酬，伊才向其表示是要辦結婚，伊告知被告可安排其去泰國結婚，其不用負擔食宿及機票等費用，可實拿5至6萬元的報酬，被告同意後，伊將被告介紹予共犯詹巧薇、張晉源，共犯張晉源給付佣金1萬元予伊；伊與被告談論泰國結婚事宜時，伊與被告均不知被告之結婚對象為何人，伊亦未見過與被告結婚之泰國女子，伊僅介紹被告予共犯詹巧薇、張晉源等人，伊並未參予後續之泰國結婚、辦理結婚登記及居留申請等事情；被告曾給伊一部機車，當時被告表示要去別的地方，機車留在臺南無人使用，伊修理使用一段期間後，因再度壞掉便未再使用等語（見本院卷第68頁背面至71頁）\n",
            "--->\n",
            " 1: 李炷烽明知李運成並未同意贈與上開土地之應有部分予社團法人金門縣李氏宗親會（下稱李氏宗親會），竟於102年5月間某日，撥打電話予李運成佯稱：因系爭土地與鄰近土地所有權人界線劃分不清，故需身分證及印章辦理並解決云云，李運成不疑有他，即將身分證及印鑑章寄送李炷烽\n",
            "2: 李炷烽即基於行使偽造私文書及使公務員登載不實之犯意，指示不知情之地政士李根遠於103年3月3日前某日，在「土地登記申請書」、「土地所有權贈與移轉契約書」、「切結書」、「不動產贈與契約」等文件上，接續盜蓋李運成之印章後，復將其中之「土地登記申請書」、「土地所有權贈與移轉契約書」、「切結書」（起訴書誤繕連同「不動產贈與契約」送件至金門縣地政局，應予更正）連同印鑑證明、契稅繳款證明及土地增值稅繳款證明等文件，於103年3月3日送件至金門縣地政局，表示李運成願贈與系爭土地之應有部分，致不知情之承辦公務員為形式審查後，將上開不實事項登載在職務上所掌之地籍簿冊等公文書內，並於103年4月7日移轉登記至李氏宗親會名下，足生損害於地政機關對於地籍管理正確性及李運成\n",
            "3: 嗣辦理完成後，李炷烽將系爭土地所有權狀及「不動產贈與契約」寄送李運成，欲使李運成接受系爭土地已贈與之事實，惟李運成心有不甘，乃提出告訴\n",
            "=======================================================\n",
            "1: 乙、實體方面：一、訊據被告固坦承於上開時、地，透過共犯林清水之介紹，先至泰國辦理與共犯陳玉婉之結婚手續，再前往臺南縣永康市戶政事務所辦理結婚登記，又前往臺南縣政府警察局外事課辦理共犯陳玉婉之外僑居留證及申請居留證延期之事實，惟矢口否認有何行使使公務員登載不實文書情事，於本院審理時辯稱：伊當時經濟狀況良好，因同居女友欲去日本工作而不願結婚，然伊希望結婚生子，遂透過共犯林清水之介紹與安排，共犯林清水先讓伊看過共犯陳玉婉之照片，伊再前往泰國與共犯陳玉婉結婚，伊僅負擔自己的來回機票錢及泰國住宿費用，其他結婚費用均由共犯林清水負擔，伊則贈送伊的一部機車予共犯林清水以為回報，伊並不認識共犯詹巧薇云云\n",
            "2: 迨共犯陳玉婉來臺後，為取得居留身分，被告與共犯陳玉婉於同年6月14日及94年5月5日，均持前開戶籍謄本等資料，先後向臺南縣政府警察局外事課申請核發共犯陳玉婉之外僑居留證及申請居留證延期等情，業據被告供承在卷，並有結婚登記申請書、授權書各1份、結婚登記書、結婚證書各1份（含中文、泰文影本及我國駐泰國臺北經濟文化辦事處認證之資料）、93年6月14日及94年5月5日之外國人居留停留案件聲請表各1份、被告及共犯陳玉婉之入出國日期紀錄各1份、共犯陳玉婉之外僑居留資料查詢1份在卷可按（見警三卷即南市警一刑偵字第0994101517號卷第6至24、33頁）\n",
            "3: 上開事實，首堪認定\n",
            "4: 理由甲、程序方面：一、本件以下所引用具傳聞證據性質之供述證據，因本件被告陳泰龍、檢察官等人於本院準備程序進行時，均未爭執前開陳述之證據能力，且迄至本案言詞辯論終結前亦均未聲明異議，應視為已同意援引作為證據，又本院審酌前開證據作成時之情況及證據取得過程等節，並無非出於任意性、不正取供或其他違法不當情事，且客觀上亦無顯不可信之情況，堪認為適當，是依刑事訴訟法第159條之5規定，均有證據能力\n",
            "5: 二、卷附之被告及陳玉婉入出國日期紀錄各1份等書證，均非屬供述證據，皆無傳聞法則之適用，復均無違反法定程序取得之情形，依刑事訴訟法第158條之4規定之反面解釋，均應有證據能力\n",
            "6: 一、陳泰龍明知其與泰國籍女子陳玉婉（泰國名字為JARUWANWONGPRATOOM，陳玉婉涉嫌本案偽造文書部分，另經臺灣臺南地方法院檢察署檢察官通緝中）間並無結婚之真意，然因詹巧薇、張晉源等人欲找臺灣男子前往泰國與泰國女子辦理假結婚，林清水負責介紹臺灣男子予詹巧薇、張晉源等人以賺取新臺幣（下同）1萬元之仲介費，適陳泰龍依林清水於報紙上刊登之徵人廣告應徵時，由林清水告知泰國女子欲以假結婚之方式申請來臺居留工作，其若擔任假結婚之人頭老公，除不用負擔前往泰國之食宿、機票費用外，尚可獲取5、6萬元之報酬，迨陳泰龍應允同意後，林清水將其轉介紹予詹巧薇、張晉源等人，陳泰龍遂與林清水、詹巧薇、張晉源等人共同基於行使使公務員登載不實公文書之概括犯意聯絡，先由陳泰龍依指示於民國93年4月3日前往泰國，並於同年月7日與陳玉婉在泰國曼谷市法拉坎農區註冊辦事處登記結婚，取得上開註冊辦事處核發之結婚登記書、結婚證書等文件後，陳泰龍即行返臺，並於同年5月19日持經我國駐泰國臺北經濟文化辦事處認證之上開結婚登記書、結婚證書等資料，至臺南縣永康市（改制前稱謂，以下沿用舊制稱謂）戶政事務所填寫結婚登記申請書，申請辦理其與陳玉婉之結婚登記，因此使上開戶政事務所僅有形式審查權之承辦公務員陷於錯誤，於形式上審核後，將陳泰龍與陳玉婉於93年4月7日結婚之不實事項，登載於其職務上所掌屬公文書之戶籍登記資料內，並據以核發戶籍謄本，而足以生損害於戶政機關對於戶政管理及戶籍登記資料維護之正確性\n",
            "7: 經查：(一)被告於93年4月3日前往泰國，並於同年月7日與共犯陳玉婉在泰國曼谷市法拉坎農區註冊辦事處登記結婚，取得上開註冊辦事處核發之結婚登記書、結婚證書等文件後，被告即行返臺，並於同年5月19日持經我國駐泰國臺北經濟文化辦事處認證之上開結婚登記書、結婚證書等資料，至臺南縣永康市戶政事務所填寫結婚登記申請書，申請辦理其與共犯陳玉婉之結婚登記，並取得戶籍謄本\n",
            "8: 迨陳玉婉來臺後，為取得居留身分，再由陳泰龍、陳玉婉承前概括之犯意聯絡，於同年6月14日及94年5月5日，均持前開登載不實之戶籍謄本等資料，先後向臺南縣政府警察局外事課申請核發陳玉婉之外僑居留證及申請居留證延期而連續行使之（業經檢察官當庭補充），經承辦人員實質審查結果，均未發覺陳泰龍與陳玉婉假結婚之實情，而發給陳玉婉居留證或核准延期，各足以生損害於主管機關對外僑居留管理之正確性\n",
            "9:  二、案經臺南市警察局（現改制為臺南市政府警察局，以下沿用舊制稱謂）第一分局報告臺灣臺南地方法院檢察署檢察官偵查起訴\n",
            "10: (二)共犯詹巧薇、張晉源等人當時欲找臺灣人與泰國女子結婚，由共犯林清水於報紙上刊登徵人廣告，若應徵者符合與泰國人結婚之條件，便將應徵者介紹予共犯詹巧薇、張晉源等人，共犯林清水可從中獲取1萬元之仲介費，適被告依前開徵人廣告應徵，共犯林清水衡量其條件後告知其可至泰國結婚，其除不用負擔前往泰國之機票及食宿費用外，尚可獲取5至6萬元之報酬，被告應允同意後，共犯林清水將其介紹予詹巧薇、張晉源等人，被告即依指示前往泰國與為了來臺工作且無結婚真意的共犯陳玉婉辦理結婚事宜等情，業據共犯林清水於警詢時證稱：伊登報徵人到泰國結婚，被告看報紙來的，伊便轉介予共犯詹巧薇，由共犯詹巧薇安排後續到泰國結婚之事宜，被告除不用負擔前往泰國機票、食宿等費用，尚可獲取約5至6萬元酬勞，伊則可自共犯詹巧薇獲取約1萬元之仲介費用；伊只有將被告轉介予共犯詹巧薇，並未參與後續被告前往泰國之證照、機票、食宿等相關事宜；被告係因缺錢，為了賺取擔任人頭配偶的佣金5至6萬，並不是真的要與泰國人結婚，共犯陳玉婉係為了來臺灣工作賺錢，亦不是真的要與臺灣人結婚等語（見警三卷第2至3頁）；並於本院審理時具結證稱：當初共犯詹巧薇、張晉源等人欲找男子前往泰國結婚，伊曾刊登「男、女不限、經驗不拘」等內容之徵人廣告，被告見報應徵時，被告係因缺錢才來找伊，伊衡量被告條件後認為其只能利用結婚賺取報酬，伊才向其表示是要辦結婚，伊告知被告可安排其去泰國結婚，其不用負擔食宿及機票等費用，可實拿5至6萬元的報酬，被告同意後，伊將被告介紹予共犯詹巧薇、張晉源，共犯張晉源給付佣金1萬元予伊；伊與被告談論泰國結婚事宜時，伊與被告均不知被告之結婚對象為何人，伊亦未見過與被告結婚之泰國女子，伊僅介紹被告予共犯詹巧薇、張晉源等人，伊並未參予後續之泰國結婚、辦理結婚登記及居留申請等事情；被告曾給伊一部機車，當時被告表示要去別的地方，機車留在臺南無人使用，伊修理使用一段期間後，因再度壞掉便未再使用等語（見本院卷第68頁背面至71頁）\n",
            "--->\n",
            " 1: 李炷烽明知李運成並未同意贈與上開土地之應有部分予社團法人金門縣李氏宗親會（下稱李氏宗親會），竟於102年5月間某日，撥打電話予李運成佯稱：因系爭土地與鄰近土地所有權人界線劃分不清，故需身分證及印章辦理並解決云云，李運成不疑有他，即將身分證及印鑑章寄送李炷烽\n",
            "2: 李炷烽即基於行使偽造私文書及使公務員登載不實之犯意，指示不知情之地政士李根遠於103年3月3日前某日，在「土地登記申請書」、「土地所有權贈與移轉契約書」、「切結書」、「不動產贈與契約」等文件上，接續盜蓋李運成之印章後，復將其中之「土地登記申請書」、「土地所有權贈與移轉契約書」、「切結書」（起訴書誤繕連同「不動產贈與契約」送件至金門縣地政局，應予更正）連同印鑑證明、契稅繳款證明及土地增值稅繳款證明等文件，於103年3月3日送件至金門縣地政局，表示李運成願贈與系爭土地之應有部分，致不知情之承辦公務員為形式審查後，將上開不實事項登載在職務上所掌之地籍簿冊等公文書內，並於103年4月7日移轉登記至李氏宗親會名下，足生損害於地政機關對於地籍管理正確性及李運成\n",
            "3: 嗣辦理完成後，李炷烽將系爭土地所有權狀及「不動產贈與契約」寄送李運成，欲使李運成接受系爭土地已贈與之事實，惟李運成心有不甘，乃提出告訴\n",
            "=======================================================\n",
            "1: 乙、實體方面：一、訊據被告固坦承於上開時、地，透過共犯林清水之介紹，先至泰國辦理與共犯陳玉婉之結婚手續，再前往臺南縣永康市戶政事務所辦理結婚登記，又前往臺南縣政府警察局外事課辦理共犯陳玉婉之外僑居留證及申請居留證延期之事實，惟矢口否認有何行使使公務員登載不實文書情事，於本院審理時辯稱：伊當時經濟狀況良好，因同居女友欲去日本工作而不願結婚，然伊希望結婚生子，遂透過共犯林清水之介紹與安排，共犯林清水先讓伊看過共犯陳玉婉之照片，伊再前往泰國與共犯陳玉婉結婚，伊僅負擔自己的來回機票錢及泰國住宿費用，其他結婚費用均由共犯林清水負擔，伊則贈送伊的一部機車予共犯林清水以為回報，伊並不認識共犯詹巧薇云云\n",
            "2: 迨共犯陳玉婉來臺後，為取得居留身分，被告與共犯陳玉婉於同年6月14日及94年5月5日，均持前開戶籍謄本等資料，先後向臺南縣政府警察局外事課申請核發共犯陳玉婉之外僑居留證及申請居留證延期等情，業據被告供承在卷，並有結婚登記申請書、授權書各1份、結婚登記書、結婚證書各1份（含中文、泰文影本及我國駐泰國臺北經濟文化辦事處認證之資料）、93年6月14日及94年5月5日之外國人居留停留案件聲請表各1份、被告及共犯陳玉婉之入出國日期紀錄各1份、共犯陳玉婉之外僑居留資料查詢1份在卷可按（見警三卷即南市警一刑偵字第0994101517號卷第6至24、33頁）\n",
            "3: 上開事實，首堪認定\n",
            "4: 理由甲、程序方面：一、本件以下所引用具傳聞證據性質之供述證據，因本件被告陳泰龍、檢察官等人於本院準備程序進行時，均未爭執前開陳述之證據能力，且迄至本案言詞辯論終結前亦均未聲明異議，應視為已同意援引作為證據，又本院審酌前開證據作成時之情況及證據取得過程等節，並無非出於任意性、不正取供或其他違法不當情事，且客觀上亦無顯不可信之情況，堪認為適當，是依刑事訴訟法第159條之5規定，均有證據能力\n",
            "5: 二、卷附之被告及陳玉婉入出國日期紀錄各1份等書證，均非屬供述證據，皆無傳聞法則之適用，復均無違反法定程序取得之情形，依刑事訴訟法第158條之4規定之反面解釋，均應有證據能力\n",
            "6: 一、陳泰龍明知其與泰國籍女子陳玉婉（泰國名字為JARUWANWONGPRATOOM，陳玉婉涉嫌本案偽造文書部分，另經臺灣臺南地方法院檢察署檢察官通緝中）間並無結婚之真意，然因詹巧薇、張晉源等人欲找臺灣男子前往泰國與泰國女子辦理假結婚，林清水負責介紹臺灣男子予詹巧薇、張晉源等人以賺取新臺幣（下同）1萬元之仲介費，適陳泰龍依林清水於報紙上刊登之徵人廣告應徵時，由林清水告知泰國女子欲以假結婚之方式申請來臺居留工作，其若擔任假結婚之人頭老公，除不用負擔前往泰國之食宿、機票費用外，尚可獲取5、6萬元之報酬，迨陳泰龍應允同意後，林清水將其轉介紹予詹巧薇、張晉源等人，陳泰龍遂與林清水、詹巧薇、張晉源等人共同基於行使使公務員登載不實公文書之概括犯意聯絡，先由陳泰龍依指示於民國93年4月3日前往泰國，並於同年月7日與陳玉婉在泰國曼谷市法拉坎農區註冊辦事處登記結婚，取得上開註冊辦事處核發之結婚登記書、結婚證書等文件後，陳泰龍即行返臺，並於同年5月19日持經我國駐泰國臺北經濟文化辦事處認證之上開結婚登記書、結婚證書等資料，至臺南縣永康市（改制前稱謂，以下沿用舊制稱謂）戶政事務所填寫結婚登記申請書，申請辦理其與陳玉婉之結婚登記，因此使上開戶政事務所僅有形式審查權之承辦公務員陷於錯誤，於形式上審核後，將陳泰龍與陳玉婉於93年4月7日結婚之不實事項，登載於其職務上所掌屬公文書之戶籍登記資料內，並據以核發戶籍謄本，而足以生損害於戶政機關對於戶政管理及戶籍登記資料維護之正確性\n",
            "7: 經查：(一)被告於93年4月3日前往泰國，並於同年月7日與共犯陳玉婉在泰國曼谷市法拉坎農區註冊辦事處登記結婚，取得上開註冊辦事處核發之結婚登記書、結婚證書等文件後，被告即行返臺，並於同年5月19日持經我國駐泰國臺北經濟文化辦事處認證之上開結婚登記書、結婚證書等資料，至臺南縣永康市戶政事務所填寫結婚登記申請書，申請辦理其與共犯陳玉婉之結婚登記，並取得戶籍謄本\n",
            "8: 迨陳玉婉來臺後，為取得居留身分，再由陳泰龍、陳玉婉承前概括之犯意聯絡，於同年6月14日及94年5月5日，均持前開登載不實之戶籍謄本等資料，先後向臺南縣政府警察局外事課申請核發陳玉婉之外僑居留證及申請居留證延期而連續行使之（業經檢察官當庭補充），經承辦人員實質審查結果，均未發覺陳泰龍與陳玉婉假結婚之實情，而發給陳玉婉居留證或核准延期，各足以生損害於主管機關對外僑居留管理之正確性\n",
            "9:  二、案經臺南市警察局（現改制為臺南市政府警察局，以下沿用舊制稱謂）第一分局報告臺灣臺南地方法院檢察署檢察官偵查起訴\n",
            "10: (二)共犯詹巧薇、張晉源等人當時欲找臺灣人與泰國女子結婚，由共犯林清水於報紙上刊登徵人廣告，若應徵者符合與泰國人結婚之條件，便將應徵者介紹予共犯詹巧薇、張晉源等人，共犯林清水可從中獲取1萬元之仲介費，適被告依前開徵人廣告應徵，共犯林清水衡量其條件後告知其可至泰國結婚，其除不用負擔前往泰國之機票及食宿費用外，尚可獲取5至6萬元之報酬，被告應允同意後，共犯林清水將其介紹予詹巧薇、張晉源等人，被告即依指示前往泰國與為了來臺工作且無結婚真意的共犯陳玉婉辦理結婚事宜等情，業據共犯林清水於警詢時證稱：伊登報徵人到泰國結婚，被告看報紙來的，伊便轉介予共犯詹巧薇，由共犯詹巧薇安排後續到泰國結婚之事宜，被告除不用負擔前往泰國機票、食宿等費用，尚可獲取約5至6萬元酬勞，伊則可自共犯詹巧薇獲取約1萬元之仲介費用；伊只有將被告轉介予共犯詹巧薇，並未參與後續被告前往泰國之證照、機票、食宿等相關事宜；被告係因缺錢，為了賺取擔任人頭配偶的佣金5至6萬，並不是真的要與泰國人結婚，共犯陳玉婉係為了來臺灣工作賺錢，亦不是真的要與臺灣人結婚等語（見警三卷第2至3頁）；並於本院審理時具結證稱：當初共犯詹巧薇、張晉源等人欲找男子前往泰國結婚，伊曾刊登「男、女不限、經驗不拘」等內容之徵人廣告，被告見報應徵時，被告係因缺錢才來找伊，伊衡量被告條件後認為其只能利用結婚賺取報酬，伊才向其表示是要辦結婚，伊告知被告可安排其去泰國結婚，其不用負擔食宿及機票等費用，可實拿5至6萬元的報酬，被告同意後，伊將被告介紹予共犯詹巧薇、張晉源，共犯張晉源給付佣金1萬元予伊；伊與被告談論泰國結婚事宜時，伊與被告均不知被告之結婚對象為何人，伊亦未見過與被告結婚之泰國女子，伊僅介紹被告予共犯詹巧薇、張晉源等人，伊並未參予後續之泰國結婚、辦理結婚登記及居留申請等事情；被告曾給伊一部機車，當時被告表示要去別的地方，機車留在臺南無人使用，伊修理使用一段期間後，因再度壞掉便未再使用等語（見本院卷第68頁背面至71頁）\n",
            "--->\n",
            " 3: 被告明知李運成並未同意贈與上開土地之應有部分予社團法人金門縣李氏宗親會（下稱李氏宗親會），竟於102年5月間某日，撥打電話予李運成佯稱：因系爭土地與鄰近土地所有權人界線劃分不清，故需身分證及印章辦理並解決云云，李運成不疑有他，即將身分證及印鑑章寄送李炷烽\n",
            "=======================================================\n"
          ]
        }
      ],
      "source": [
        "print(prompt1)\n",
        "print(\"--->\")\n",
        "print(get_breeze(query+prompt1))\n",
        "print(\"=======================================================\")\n",
        "print(prompt1)\n",
        "print(\"--->\")\n",
        "print(get_breeze(query+prompt2))\n",
        "print(\"=======================================================\")\n",
        "print(prompt1)\n",
        "print(\"--->\")\n",
        "print(get_breeze(query+prompt3))\n",
        "print(\"=======================================================\")"
      ]
    },
    {
      "cell_type": "code",
      "execution_count": null,
      "metadata": {
        "id": "AzQRVzzaPVBE"
      },
      "outputs": [],
      "source": [
        "query = \"我會給你來自一篇法律判決書的多個句子，請從這些句子中挑選出和犯罪事實情節描述最相關的三個句子。以下是一個挑選句子的範例：多個句子輸入\"+input_ex+\" 從輸入挑選出和犯罪事實情節描述最相關的三個句子輸出：\"+output_ex+\"\\n根據以上的範例，從以下句子中萃取出和犯罪事實情節描述最相關的三個句子，句子如下：\""
      ]
    },
    {
      "cell_type": "code",
      "execution_count": null,
      "metadata": {
        "colab": {
          "base_uri": "https://localhost:8080/"
        },
        "id": "gZsLndrYPWyc",
        "outputId": "ec199be5-c967-41d0-c3c8-c7edb4a66af8"
      },
      "outputs": [
        {
          "name": "stdout",
          "output_type": "stream",
          "text": [
            "1: 乙、實體方面：一、訊據被告固坦承於上開時、地，透過共犯林清水之介紹，先至泰國辦理與共犯陳玉婉之結婚手續，再前往臺南縣永康市戶政事務所辦理結婚登記，又前往臺南縣政府警察局外事課辦理共犯陳玉婉之外僑居留證及申請居留證延期之事實，惟矢口否認有何行使使公務員登載不實文書情事，於本院審理時辯稱：伊當時經濟狀況良好，因同居女友欲去日本工作而不願結婚，然伊希望結婚生子，遂透過共犯林清水之介紹與安排，共犯林清水先讓伊看過共犯陳玉婉之照片，伊再前往泰國與共犯陳玉婉結婚，伊僅負擔自己的來回機票錢及泰國住宿費用，其他結婚費用均由共犯林清水負擔，伊則贈送伊的一部機車予共犯林清水以為回報，伊並不認識共犯詹巧薇云云\n",
            "2: 迨共犯陳玉婉來臺後，為取得居留身分，被告與共犯陳玉婉於同年6月14日及94年5月5日，均持前開戶籍謄本等資料，先後向臺南縣政府警察局外事課申請核發共犯陳玉婉之外僑居留證及申請居留證延期等情，業據被告供承在卷，並有結婚登記申請書、授權書各1份、結婚登記書、結婚證書各1份（含中文、泰文影本及我國駐泰國臺北經濟文化辦事處認證之資料）、93年6月14日及94年5月5日之外國人居留停留案件聲請表各1份、被告及共犯陳玉婉之入出國日期紀錄各1份、共犯陳玉婉之外僑居留資料查詢1份在卷可按（見警三卷即南市警一刑偵字第0994101517號卷第6至24、33頁）\n",
            "3: 上開事實，首堪認定\n",
            "4: 理由甲、程序方面：一、本件以下所引用具傳聞證據性質之供述證據，因本件被告陳泰龍、檢察官等人於本院準備程序進行時，均未爭執前開陳述之證據能力，且迄至本案言詞辯論終結前亦均未聲明異議，應視為已同意援引作為證據，又本院審酌前開證據作成時之情況及證據取得過程等節，並無非出於任意性、不正取供或其他違法不當情事，且客觀上亦無顯不可信之情況，堪認為適當，是依刑事訴訟法第159條之5規定，均有證據能力\n",
            "5: 二、卷附之被告及陳玉婉入出國日期紀錄各1份等書證，均非屬供述證據，皆無傳聞法則之適用，復均無違反法定程序取得之情形，依刑事訴訟法第158條之4規定之反面解釋，均應有證據能力\n",
            "6: 一、陳泰龍明知其與泰國籍女子陳玉婉（泰國名字為JARUWANWONGPRATOOM，陳玉婉涉嫌本案偽造文書部分，另經臺灣臺南地方法院檢察署檢察官通緝中）間並無結婚之真意，然因詹巧薇、張晉源等人欲找臺灣男子前往泰國與泰國女子辦理假結婚，林清水負責介紹臺灣男子予詹巧薇、張晉源等人以賺取新臺幣（下同）1萬元之仲介費，適陳泰龍依林清水於報紙上刊登之徵人廣告應徵時，由林清水告知泰國女子欲以假結婚之方式申請來臺居留工作，其若擔任假結婚之人頭老公，除不用負擔前往泰國之食宿、機票費用外，尚可獲取5、6萬元之報酬，迨陳泰龍應允同意後，林清水將其轉介紹予詹巧薇、張晉源等人，陳泰龍遂與林清水、詹巧薇、張晉源等人共同基於行使使公務員登載不實公文書之概括犯意聯絡，先由陳泰龍依指示於民國93年4月3日前往泰國，並於同年月7日與陳玉婉在泰國曼谷市法拉坎農區註冊辦事處登記結婚，取得上開註冊辦事處核發之結婚登記書、結婚證書等文件後，陳泰龍即行返臺，並於同年5月19日持經我國駐泰國臺北經濟文化辦事處認證之上開結婚登記書、結婚證書等資料，至臺南縣永康市（改制前稱謂，以下沿用舊制稱謂）戶政事務所填寫結婚登記申請書，申請辦理其與陳玉婉之結婚登記，因此使上開戶政事務所僅有形式審查權之承辦公務員陷於錯誤，於形式上審核後，將陳泰龍與陳玉婉於93年4月7日結婚之不實事項，登載於其職務上所掌屬公文書之戶籍登記資料內，並據以核發戶籍謄本，而足以生損害於戶政機關對於戶政管理及戶籍登記資料維護之正確性\n",
            "7: 經查：(一)被告於93年4月3日前往泰國，並於同年月7日與共犯陳玉婉在泰國曼谷市法拉坎農區註冊辦事處登記結婚，取得上開註冊辦事處核發之結婚登記書、結婚證書等文件後，被告即行返臺，並於同年5月19日持經我國駐泰國臺北經濟文化辦事處認證之上開結婚登記書、結婚證書等資料，至臺南縣永康市戶政事務所填寫結婚登記申請書，申請辦理其與共犯陳玉婉之結婚登記，並取得戶籍謄本\n",
            "8: 迨陳玉婉來臺後，為取得居留身分，再由陳泰龍、陳玉婉承前概括之犯意聯絡，於同年6月14日及94年5月5日，均持前開登載不實之戶籍謄本等資料，先後向臺南縣政府警察局外事課申請核發陳玉婉之外僑居留證及申請居留證延期而連續行使之（業經檢察官當庭補充），經承辦人員實質審查結果，均未發覺陳泰龍與陳玉婉假結婚之實情，而發給陳玉婉居留證或核准延期，各足以生損害於主管機關對外僑居留管理之正確性\n",
            "9:  二、案經臺南市警察局（現改制為臺南市政府警察局，以下沿用舊制稱謂）第一分局報告臺灣臺南地方法院檢察署檢察官偵查起訴\n",
            "10: (二)共犯詹巧薇、張晉源等人當時欲找臺灣人與泰國女子結婚，由共犯林清水於報紙上刊登徵人廣告，若應徵者符合與泰國人結婚之條件，便將應徵者介紹予共犯詹巧薇、張晉源等人，共犯林清水可從中獲取1萬元之仲介費，適被告依前開徵人廣告應徵，共犯林清水衡量其條件後告知其可至泰國結婚，其除不用負擔前往泰國之機票及食宿費用外，尚可獲取5至6萬元之報酬，被告應允同意後，共犯林清水將其介紹予詹巧薇、張晉源等人，被告即依指示前往泰國與為了來臺工作且無結婚真意的共犯陳玉婉辦理結婚事宜等情，業據共犯林清水於警詢時證稱：伊登報徵人到泰國結婚，被告看報紙來的，伊便轉介予共犯詹巧薇，由共犯詹巧薇安排後續到泰國結婚之事宜，被告除不用負擔前往泰國機票、食宿等費用，尚可獲取約5至6萬元酬勞，伊則可自共犯詹巧薇獲取約1萬元之仲介費用；伊只有將被告轉介予共犯詹巧薇，並未參與後續被告前往泰國之證照、機票、食宿等相關事宜；被告係因缺錢，為了賺取擔任人頭配偶的佣金5至6萬，並不是真的要與泰國人結婚，共犯陳玉婉係為了來臺灣工作賺錢，亦不是真的要與臺灣人結婚等語（見警三卷第2至3頁）；並於本院審理時具結證稱：當初共犯詹巧薇、張晉源等人欲找男子前往泰國結婚，伊曾刊登「男、女不限、經驗不拘」等內容之徵人廣告，被告見報應徵時，被告係因缺錢才來找伊，伊衡量被告條件後認為其只能利用結婚賺取報酬，伊才向其表示是要辦結婚，伊告知被告可安排其去泰國結婚，其不用負擔食宿及機票等費用，可實拿5至6萬元的報酬，被告同意後，伊將被告介紹予共犯詹巧薇、張晉源，共犯張晉源給付佣金1萬元予伊；伊與被告談論泰國結婚事宜時，伊與被告均不知被告之結婚對象為何人，伊亦未見過與被告結婚之泰國女子，伊僅介紹被告予共犯詹巧薇、張晉源等人，伊並未參予後續之泰國結婚、辦理結婚登記及居留申請等事情；被告曾給伊一部機車，當時被告表示要去別的地方，機車留在臺南無人使用，伊修理使用一段期間後，因再度壞掉便未再使用等語（見本院卷第68頁背面至71頁）\n",
            "--->\n",
            " 1: 李炷烽明知李運成並未同意贈與上開土地之應有部分予社團法人金門縣李氏宗親會（下稱李氏宗親會），竟於102年5月間某日，撥打電話予李運成佯稱：因系爭土地與鄰近土地所有權人界線劃分不清，故需身分證及印章辦理並解決云云，李運成不疑有他，即將身分證及印鑑章寄送李炷烽\n",
            "2: 李炷烽即基於行使偽造私文書及使公務員登載不實之犯意，指示不知情之地政士李根遠於103年3月3日前某日，在「土地登記申請書」、「土地所有權贈與移轉契約書」、「切結書」、「不動產贈與契約」等文件上，接續盜蓋李運成之印章後，復將其中之「土地登記申請書」、「土地所有權贈與移轉契約書」、「切結書」（起訴書誤繕連同「不動產贈與契約」送件至金門縣地政局，應予更正）連同印鑑證明、契稅繳款證明及土地增值稅繳款證明等文件，於103年3月3日送件至金門縣地政局，表示李運成願贈與系爭土地之應有部分，致不知情之承辦公務員為形式審查後，將上開不實事項登載在職務上所掌之地籍簿冊等公文書內，並於103年4月7日移轉登記至李氏宗親會名下，足生損害於地政機關對於地籍管理正確性及李運成\n",
            "3: 嗣辦理完成後，李炷烽將系爭土地所有權狀及「不動產贈與契約」寄送李運成，欲使李運成接受系爭土地已贈與之事實，惟李運成心有不甘，乃提出告訴\n",
            "=======================================================\n",
            "1: 乙、實體方面：一、訊據被告固坦承於上開時、地，透過共犯林清水之介紹，先至泰國辦理與共犯陳玉婉之結婚手續，再前往臺南縣永康市戶政事務所辦理結婚登記，又前往臺南縣政府警察局外事課辦理共犯陳玉婉之外僑居留證及申請居留證延期之事實，惟矢口否認有何行使使公務員登載不實文書情事，於本院審理時辯稱：伊當時經濟狀況良好，因同居女友欲去日本工作而不願結婚，然伊希望結婚生子，遂透過共犯林清水之介紹與安排，共犯林清水先讓伊看過共犯陳玉婉之照片，伊再前往泰國與共犯陳玉婉結婚，伊僅負擔自己的來回機票錢及泰國住宿費用，其他結婚費用均由共犯林清水負擔，伊則贈送伊的一部機車予共犯林清水以為回報，伊並不認識共犯詹巧薇云云\n",
            "2: 迨共犯陳玉婉來臺後，為取得居留身分，被告與共犯陳玉婉於同年6月14日及94年5月5日，均持前開戶籍謄本等資料，先後向臺南縣政府警察局外事課申請核發共犯陳玉婉之外僑居留證及申請居留證延期等情，業據被告供承在卷，並有結婚登記申請書、授權書各1份、結婚登記書、結婚證書各1份（含中文、泰文影本及我國駐泰國臺北經濟文化辦事處認證之資料）、93年6月14日及94年5月5日之外國人居留停留案件聲請表各1份、被告及共犯陳玉婉之入出國日期紀錄各1份、共犯陳玉婉之外僑居留資料查詢1份在卷可按（見警三卷即南市警一刑偵字第0994101517號卷第6至24、33頁）\n",
            "3: 上開事實，首堪認定\n",
            "4: 理由甲、程序方面：一、本件以下所引用具傳聞證據性質之供述證據，因本件被告陳泰龍、檢察官等人於本院準備程序進行時，均未爭執前開陳述之證據能力，且迄至本案言詞辯論終結前亦均未聲明異議，應視為已同意援引作為證據，又本院審酌前開證據作成時之情況及證據取得過程等節，並無非出於任意性、不正取供或其他違法不當情事，且客觀上亦無顯不可信之情況，堪認為適當，是依刑事訴訟法第159條之5規定，均有證據能力\n",
            "5: 二、卷附之被告及陳玉婉入出國日期紀錄各1份等書證，均非屬供述證據，皆無傳聞法則之適用，復均無違反法定程序取得之情形，依刑事訴訟法第158條之4規定之反面解釋，均應有證據能力\n",
            "6: 一、陳泰龍明知其與泰國籍女子陳玉婉（泰國名字為JARUWANWONGPRATOOM，陳玉婉涉嫌本案偽造文書部分，另經臺灣臺南地方法院檢察署檢察官通緝中）間並無結婚之真意，然因詹巧薇、張晉源等人欲找臺灣男子前往泰國與泰國女子辦理假結婚，林清水負責介紹臺灣男子予詹巧薇、張晉源等人以賺取新臺幣（下同）1萬元之仲介費，適陳泰龍依林清水於報紙上刊登之徵人廣告應徵時，由林清水告知泰國女子欲以假結婚之方式申請來臺居留工作，其若擔任假結婚之人頭老公，除不用負擔前往泰國之食宿、機票費用外，尚可獲取5、6萬元之報酬，迨陳泰龍應允同意後，林清水將其轉介紹予詹巧薇、張晉源等人，陳泰龍遂與林清水、詹巧薇、張晉源等人共同基於行使使公務員登載不實公文書之概括犯意聯絡，先由陳泰龍依指示於民國93年4月3日前往泰國，並於同年月7日與陳玉婉在泰國曼谷市法拉坎農區註冊辦事處登記結婚，取得上開註冊辦事處核發之結婚登記書、結婚證書等文件後，陳泰龍即行返臺，並於同年5月19日持經我國駐泰國臺北經濟文化辦事處認證之上開結婚登記書、結婚證書等資料，至臺南縣永康市（改制前稱謂，以下沿用舊制稱謂）戶政事務所填寫結婚登記申請書，申請辦理其與陳玉婉之結婚登記，因此使上開戶政事務所僅有形式審查權之承辦公務員陷於錯誤，於形式上審核後，將陳泰龍與陳玉婉於93年4月7日結婚之不實事項，登載於其職務上所掌屬公文書之戶籍登記資料內，並據以核發戶籍謄本，而足以生損害於戶政機關對於戶政管理及戶籍登記資料維護之正確性\n",
            "7: 經查：(一)被告於93年4月3日前往泰國，並於同年月7日與共犯陳玉婉在泰國曼谷市法拉坎農區註冊辦事處登記結婚，取得上開註冊辦事處核發之結婚登記書、結婚證書等文件後，被告即行返臺，並於同年5月19日持經我國駐泰國臺北經濟文化辦事處認證之上開結婚登記書、結婚證書等資料，至臺南縣永康市戶政事務所填寫結婚登記申請書，申請辦理其與共犯陳玉婉之結婚登記，並取得戶籍謄本\n",
            "8: 迨陳玉婉來臺後，為取得居留身分，再由陳泰龍、陳玉婉承前概括之犯意聯絡，於同年6月14日及94年5月5日，均持前開登載不實之戶籍謄本等資料，先後向臺南縣政府警察局外事課申請核發陳玉婉之外僑居留證及申請居留證延期而連續行使之（業經檢察官當庭補充），經承辦人員實質審查結果，均未發覺陳泰龍與陳玉婉假結婚之實情，而發給陳玉婉居留證或核准延期，各足以生損害於主管機關對外僑居留管理之正確性\n",
            "9:  二、案經臺南市警察局（現改制為臺南市政府警察局，以下沿用舊制稱謂）第一分局報告臺灣臺南地方法院檢察署檢察官偵查起訴\n",
            "10: (二)共犯詹巧薇、張晉源等人當時欲找臺灣人與泰國女子結婚，由共犯林清水於報紙上刊登徵人廣告，若應徵者符合與泰國人結婚之條件，便將應徵者介紹予共犯詹巧薇、張晉源等人，共犯林清水可從中獲取1萬元之仲介費，適被告依前開徵人廣告應徵，共犯林清水衡量其條件後告知其可至泰國結婚，其除不用負擔前往泰國之機票及食宿費用外，尚可獲取5至6萬元之報酬，被告應允同意後，共犯林清水將其介紹予詹巧薇、張晉源等人，被告即依指示前往泰國與為了來臺工作且無結婚真意的共犯陳玉婉辦理結婚事宜等情，業據共犯林清水於警詢時證稱：伊登報徵人到泰國結婚，被告看報紙來的，伊便轉介予共犯詹巧薇，由共犯詹巧薇安排後續到泰國結婚之事宜，被告除不用負擔前往泰國機票、食宿等費用，尚可獲取約5至6萬元酬勞，伊則可自共犯詹巧薇獲取約1萬元之仲介費用；伊只有將被告轉介予共犯詹巧薇，並未參與後續被告前往泰國之證照、機票、食宿等相關事宜；被告係因缺錢，為了賺取擔任人頭配偶的佣金5至6萬，並不是真的要與泰國人結婚，共犯陳玉婉係為了來臺灣工作賺錢，亦不是真的要與臺灣人結婚等語（見警三卷第2至3頁）；並於本院審理時具結證稱：當初共犯詹巧薇、張晉源等人欲找男子前往泰國結婚，伊曾刊登「男、女不限、經驗不拘」等內容之徵人廣告，被告見報應徵時，被告係因缺錢才來找伊，伊衡量被告條件後認為其只能利用結婚賺取報酬，伊才向其表示是要辦結婚，伊告知被告可安排其去泰國結婚，其不用負擔食宿及機票等費用，可實拿5至6萬元的報酬，被告同意後，伊將被告介紹予共犯詹巧薇、張晉源，共犯張晉源給付佣金1萬元予伊；伊與被告談論泰國結婚事宜時，伊與被告均不知被告之結婚對象為何人，伊亦未見過與被告結婚之泰國女子，伊僅介紹被告予共犯詹巧薇、張晉源等人，伊並未參予後續之泰國結婚、辦理結婚登記及居留申請等事情；被告曾給伊一部機車，當時被告表示要去別的地方，機車留在臺南無人使用，伊修理使用一段期間後，因再度壞掉便未再使用等語（見本院卷第68頁背面至71頁）\n",
            "--->\n",
            " 以下是根據範例挑選出的三個句子：\n",
            "\n",
            "1: 李炷烽明知李運成並未同意贈與上開土地之應有部分予社團法人金門縣李氏宗親會（下稱李氏宗親會），竟於102年5月間某日，撥打電話予李運成佯稱：因系爭土地與鄰近土地所有權人界線劃分不清，故需身分證及印章辦理並解決云云，李運成不疑有他，即將身分證及印鑑章寄送李炷烽\n",
            "2: 李炷烽即基於行使偽造私文書及使公務員登載不實之犯意，指示不知情之地政士李根遠於103年3月3日前某日，在「土地登記申請書」、「土地所有權贈與移轉契約書」、「切結書」、「不動產贈與契約」等文件上，接續盜蓋李運成之印章後，復將其中之「土地登記申請書」、「土地所有權贈與移轉契約書」、「切結書」（起訴書誤繕連同「不動產贈與契約」送件至金門縣地政局，應予更正）連同印鑑證明、契稅繳款證明及土地增值稅繳款證明等文件，於103年3月3日送件至金門縣地政局，表示李運成願贈與系爭土地之應有部分，致不知情之承辦公務員為形式審查後，將上開不實事項登載在職務上所掌之地籍簿冊等公文書內，並於103年4月7日移轉登記至李氏宗親會名下，足生損害於地政機關對於地籍管理正確性及李運成\n",
            "3: 嗣辦理完成後，李炷烽將系爭土地所有權狀及「不動產贈與契約」寄送李運成，欲使李運成接受系爭土地已贈與之事實，惟李運成心有不甘，乃提出告訴\n",
            "=======================================================\n",
            "1: 乙、實體方面：一、訊據被告固坦承於上開時、地，透過共犯林清水之介紹，先至泰國辦理與共犯陳玉婉之結婚手續，再前往臺南縣永康市戶政事務所辦理結婚登記，又前往臺南縣政府警察局外事課辦理共犯陳玉婉之外僑居留證及申請居留證延期之事實，惟矢口否認有何行使使公務員登載不實文書情事，於本院審理時辯稱：伊當時經濟狀況良好，因同居女友欲去日本工作而不願結婚，然伊希望結婚生子，遂透過共犯林清水之介紹與安排，共犯林清水先讓伊看過共犯陳玉婉之照片，伊再前往泰國與共犯陳玉婉結婚，伊僅負擔自己的來回機票錢及泰國住宿費用，其他結婚費用均由共犯林清水負擔，伊則贈送伊的一部機車予共犯林清水以為回報，伊並不認識共犯詹巧薇云云\n",
            "2: 迨共犯陳玉婉來臺後，為取得居留身分，被告與共犯陳玉婉於同年6月14日及94年5月5日，均持前開戶籍謄本等資料，先後向臺南縣政府警察局外事課申請核發共犯陳玉婉之外僑居留證及申請居留證延期等情，業據被告供承在卷，並有結婚登記申請書、授權書各1份、結婚登記書、結婚證書各1份（含中文、泰文影本及我國駐泰國臺北經濟文化辦事處認證之資料）、93年6月14日及94年5月5日之外國人居留停留案件聲請表各1份、被告及共犯陳玉婉之入出國日期紀錄各1份、共犯陳玉婉之外僑居留資料查詢1份在卷可按（見警三卷即南市警一刑偵字第0994101517號卷第6至24、33頁）\n",
            "3: 上開事實，首堪認定\n",
            "4: 理由甲、程序方面：一、本件以下所引用具傳聞證據性質之供述證據，因本件被告陳泰龍、檢察官等人於本院準備程序進行時，均未爭執前開陳述之證據能力，且迄至本案言詞辯論終結前亦均未聲明異議，應視為已同意援引作為證據，又本院審酌前開證據作成時之情況及證據取得過程等節，並無非出於任意性、不正取供或其他違法不當情事，且客觀上亦無顯不可信之情況，堪認為適當，是依刑事訴訟法第159條之5規定，均有證據能力\n",
            "5: 二、卷附之被告及陳玉婉入出國日期紀錄各1份等書證，均非屬供述證據，皆無傳聞法則之適用，復均無違反法定程序取得之情形，依刑事訴訟法第158條之4規定之反面解釋，均應有證據能力\n",
            "6: 一、陳泰龍明知其與泰國籍女子陳玉婉（泰國名字為JARUWANWONGPRATOOM，陳玉婉涉嫌本案偽造文書部分，另經臺灣臺南地方法院檢察署檢察官通緝中）間並無結婚之真意，然因詹巧薇、張晉源等人欲找臺灣男子前往泰國與泰國女子辦理假結婚，林清水負責介紹臺灣男子予詹巧薇、張晉源等人以賺取新臺幣（下同）1萬元之仲介費，適陳泰龍依林清水於報紙上刊登之徵人廣告應徵時，由林清水告知泰國女子欲以假結婚之方式申請來臺居留工作，其若擔任假結婚之人頭老公，除不用負擔前往泰國之食宿、機票費用外，尚可獲取5、6萬元之報酬，迨陳泰龍應允同意後，林清水將其轉介紹予詹巧薇、張晉源等人，陳泰龍遂與林清水、詹巧薇、張晉源等人共同基於行使使公務員登載不實公文書之概括犯意聯絡，先由陳泰龍依指示於民國93年4月3日前往泰國，並於同年月7日與陳玉婉在泰國曼谷市法拉坎農區註冊辦事處登記結婚，取得上開註冊辦事處核發之結婚登記書、結婚證書等文件後，陳泰龍即行返臺，並於同年5月19日持經我國駐泰國臺北經濟文化辦事處認證之上開結婚登記書、結婚證書等資料，至臺南縣永康市（改制前稱謂，以下沿用舊制稱謂）戶政事務所填寫結婚登記申請書，申請辦理其與陳玉婉之結婚登記，因此使上開戶政事務所僅有形式審查權之承辦公務員陷於錯誤，於形式上審核後，將陳泰龍與陳玉婉於93年4月7日結婚之不實事項，登載於其職務上所掌屬公文書之戶籍登記資料內，並據以核發戶籍謄本，而足以生損害於戶政機關對於戶政管理及戶籍登記資料維護之正確性\n",
            "7: 經查：(一)被告於93年4月3日前往泰國，並於同年月7日與共犯陳玉婉在泰國曼谷市法拉坎農區註冊辦事處登記結婚，取得上開註冊辦事處核發之結婚登記書、結婚證書等文件後，被告即行返臺，並於同年5月19日持經我國駐泰國臺北經濟文化辦事處認證之上開結婚登記書、結婚證書等資料，至臺南縣永康市戶政事務所填寫結婚登記申請書，申請辦理其與共犯陳玉婉之結婚登記，並取得戶籍謄本\n",
            "8: 迨陳玉婉來臺後，為取得居留身分，再由陳泰龍、陳玉婉承前概括之犯意聯絡，於同年6月14日及94年5月5日，均持前開登載不實之戶籍謄本等資料，先後向臺南縣政府警察局外事課申請核發陳玉婉之外僑居留證及申請居留證延期而連續行使之（業經檢察官當庭補充），經承辦人員實質審查結果，均未發覺陳泰龍與陳玉婉假結婚之實情，而發給陳玉婉居留證或核准延期，各足以生損害於主管機關對外僑居留管理之正確性\n",
            "9:  二、案經臺南市警察局（現改制為臺南市政府警察局，以下沿用舊制稱謂）第一分局報告臺灣臺南地方法院檢察署檢察官偵查起訴\n",
            "10: (二)共犯詹巧薇、張晉源等人當時欲找臺灣人與泰國女子結婚，由共犯林清水於報紙上刊登徵人廣告，若應徵者符合與泰國人結婚之條件，便將應徵者介紹予共犯詹巧薇、張晉源等人，共犯林清水可從中獲取1萬元之仲介費，適被告依前開徵人廣告應徵，共犯林清水衡量其條件後告知其可至泰國結婚，其除不用負擔前往泰國之機票及食宿費用外，尚可獲取5至6萬元之報酬，被告應允同意後，共犯林清水將其介紹予詹巧薇、張晉源等人，被告即依指示前往泰國與為了來臺工作且無結婚真意的共犯陳玉婉辦理結婚事宜等情，業據共犯林清水於警詢時證稱：伊登報徵人到泰國結婚，被告看報紙來的，伊便轉介予共犯詹巧薇，由共犯詹巧薇安排後續到泰國結婚之事宜，被告除不用負擔前往泰國機票、食宿等費用，尚可獲取約5至6萬元酬勞，伊則可自共犯詹巧薇獲取約1萬元之仲介費用；伊只有將被告轉介予共犯詹巧薇，並未參與後續被告前往泰國之證照、機票、食宿等相關事宜；被告係因缺錢，為了賺取擔任人頭配偶的佣金5至6萬，並不是真的要與泰國人結婚，共犯陳玉婉係為了來臺灣工作賺錢，亦不是真的要與臺灣人結婚等語（見警三卷第2至3頁）；並於本院審理時具結證稱：當初共犯詹巧薇、張晉源等人欲找男子前往泰國結婚，伊曾刊登「男、女不限、經驗不拘」等內容之徵人廣告，被告見報應徵時，被告係因缺錢才來找伊，伊衡量被告條件後認為其只能利用結婚賺取報酬，伊才向其表示是要辦結婚，伊告知被告可安排其去泰國結婚，其不用負擔食宿及機票等費用，可實拿5至6萬元的報酬，被告同意後，伊將被告介紹予共犯詹巧薇、張晉源，共犯張晉源給付佣金1萬元予伊；伊與被告談論泰國結婚事宜時，伊與被告均不知被告之結婚對象為何人，伊亦未見過與被告結婚之泰國女子，伊僅介紹被告予共犯詹巧薇、張晉源等人，伊並未參予後續之泰國結婚、辦理結婚登記及居留申請等事情；被告曾給伊一部機車，當時被告表示要去別的地方，機車留在臺南無人使用，伊修理使用一段期間後，因再度壞掉便未再使用等語（見本院卷第68頁背面至71頁）\n",
            "--->\n",
            " 3: 李炷烽明知李運成並未同意贈與上開土地之應有部分予社團法人金門縣李氏宗親會（下稱李氏宗親會），竟於102年5月間某日，撥打電話予李運成佯稱：因系爭土地與鄰近土地所有權人界線劃分不清，故需身分證及印章辦理並解決云云，李運成不疑有他，即將身分證及印鑑章寄送李炷烽\n",
            "=======================================================\n"
          ]
        }
      ],
      "source": [
        "print(prompt1)\n",
        "print(\"--->\")\n",
        "print(get_breeze(query+prompt1))\n",
        "print(\"=======================================================\")\n",
        "print(prompt1)\n",
        "print(\"--->\")\n",
        "print(get_breeze(query+prompt2))\n",
        "print(\"=======================================================\")\n",
        "print(prompt1)\n",
        "print(\"--->\")\n",
        "print(get_breeze(query+prompt3))\n",
        "print(\"=======================================================\")"
      ]
    },
    {
      "cell_type": "code",
      "execution_count": null,
      "metadata": {
        "id": "JjwfXAtMPuB1"
      },
      "outputs": [],
      "source": [
        "query = \"我會給你來自一篇法律判決書的多個句子，請從這些句子中挑選出和犯罪事實情節描述最相關的三個句子。句子如下：\""
      ]
    },
    {
      "cell_type": "code",
      "execution_count": null,
      "metadata": {
        "colab": {
          "base_uri": "https://localhost:8080/"
        },
        "id": "Mj1Tzi-VPzEp",
        "outputId": "24a703c2-5365-4d35-d5a8-7e8c61d52d62"
      },
      "outputs": [
        {
          "name": "stdout",
          "output_type": "stream",
          "text": [
            "1: 乙、實體方面：一、訊據被告固坦承於上開時、地，透過共犯林清水之介紹，先至泰國辦理與共犯陳玉婉之結婚手續，再前往臺南縣永康市戶政事務所辦理結婚登記，又前往臺南縣政府警察局外事課辦理共犯陳玉婉之外僑居留證及申請居留證延期之事實，惟矢口否認有何行使使公務員登載不實文書情事，於本院審理時辯稱：伊當時經濟狀況良好，因同居女友欲去日本工作而不願結婚，然伊希望結婚生子，遂透過共犯林清水之介紹與安排，共犯林清水先讓伊看過共犯陳玉婉之照片，伊再前往泰國與共犯陳玉婉結婚，伊僅負擔自己的來回機票錢及泰國住宿費用，其他結婚費用均由共犯林清水負擔，伊則贈送伊的一部機車予共犯林清水以為回報，伊並不認識共犯詹巧薇云云\n",
            "2: 迨共犯陳玉婉來臺後，為取得居留身分，被告與共犯陳玉婉於同年6月14日及94年5月5日，均持前開戶籍謄本等資料，先後向臺南縣政府警察局外事課申請核發共犯陳玉婉之外僑居留證及申請居留證延期等情，業據被告供承在卷，並有結婚登記申請書、授權書各1份、結婚登記書、結婚證書各1份（含中文、泰文影本及我國駐泰國臺北經濟文化辦事處認證之資料）、93年6月14日及94年5月5日之外國人居留停留案件聲請表各1份、被告及共犯陳玉婉之入出國日期紀錄各1份、共犯陳玉婉之外僑居留資料查詢1份在卷可按（見警三卷即南市警一刑偵字第0994101517號卷第6至24、33頁）\n",
            "3: 上開事實，首堪認定\n",
            "4: 理由甲、程序方面：一、本件以下所引用具傳聞證據性質之供述證據，因本件被告陳泰龍、檢察官等人於本院準備程序進行時，均未爭執前開陳述之證據能力，且迄至本案言詞辯論終結前亦均未聲明異議，應視為已同意援引作為證據，又本院審酌前開證據作成時之情況及證據取得過程等節，並無非出於任意性、不正取供或其他違法不當情事，且客觀上亦無顯不可信之情況，堪認為適當，是依刑事訴訟法第159條之5規定，均有證據能力\n",
            "5: 二、卷附之被告及陳玉婉入出國日期紀錄各1份等書證，均非屬供述證據，皆無傳聞法則之適用，復均無違反法定程序取得之情形，依刑事訴訟法第158條之4規定之反面解釋，均應有證據能力\n",
            "6: 一、陳泰龍明知其與泰國籍女子陳玉婉（泰國名字為JARUWANWONGPRATOOM，陳玉婉涉嫌本案偽造文書部分，另經臺灣臺南地方法院檢察署檢察官通緝中）間並無結婚之真意，然因詹巧薇、張晉源等人欲找臺灣男子前往泰國與泰國女子辦理假結婚，林清水負責介紹臺灣男子予詹巧薇、張晉源等人以賺取新臺幣（下同）1萬元之仲介費，適陳泰龍依林清水於報紙上刊登之徵人廣告應徵時，由林清水告知泰國女子欲以假結婚之方式申請來臺居留工作，其若擔任假結婚之人頭老公，除不用負擔前往泰國之食宿、機票費用外，尚可獲取5、6萬元之報酬，迨陳泰龍應允同意後，林清水將其轉介紹予詹巧薇、張晉源等人，陳泰龍遂與林清水、詹巧薇、張晉源等人共同基於行使使公務員登載不實公文書之概括犯意聯絡，先由陳泰龍依指示於民國93年4月3日前往泰國，並於同年月7日與陳玉婉在泰國曼谷市法拉坎農區註冊辦事處登記結婚，取得上開註冊辦事處核發之結婚登記書、結婚證書等文件後，陳泰龍即行返臺，並於同年5月19日持經我國駐泰國臺北經濟文化辦事處認證之上開結婚登記書、結婚證書等資料，至臺南縣永康市（改制前稱謂，以下沿用舊制稱謂）戶政事務所填寫結婚登記申請書，申請辦理其與陳玉婉之結婚登記，因此使上開戶政事務所僅有形式審查權之承辦公務員陷於錯誤，於形式上審核後，將陳泰龍與陳玉婉於93年4月7日結婚之不實事項，登載於其職務上所掌屬公文書之戶籍登記資料內，並據以核發戶籍謄本，而足以生損害於戶政機關對於戶政管理及戶籍登記資料維護之正確性\n",
            "7: 經查：(一)被告於93年4月3日前往泰國，並於同年月7日與共犯陳玉婉在泰國曼谷市法拉坎農區註冊辦事處登記結婚，取得上開註冊辦事處核發之結婚登記書、結婚證書等文件後，被告即行返臺，並於同年5月19日持經我國駐泰國臺北經濟文化辦事處認證之上開結婚登記書、結婚證書等資料，至臺南縣永康市戶政事務所填寫結婚登記申請書，申請辦理其與共犯陳玉婉之結婚登記，並取得戶籍謄本\n",
            "8: 迨陳玉婉來臺後，為取得居留身分，再由陳泰龍、陳玉婉承前概括之犯意聯絡，於同年6月14日及94年5月5日，均持前開登載不實之戶籍謄本等資料，先後向臺南縣政府警察局外事課申請核發陳玉婉之外僑居留證及申請居留證延期而連續行使之（業經檢察官當庭補充），經承辦人員實質審查結果，均未發覺陳泰龍與陳玉婉假結婚之實情，而發給陳玉婉居留證或核准延期，各足以生損害於主管機關對外僑居留管理之正確性\n",
            "9:  二、案經臺南市警察局（現改制為臺南市政府警察局，以下沿用舊制稱謂）第一分局報告臺灣臺南地方法院檢察署檢察官偵查起訴\n",
            "10: (二)共犯詹巧薇、張晉源等人當時欲找臺灣人與泰國女子結婚，由共犯林清水於報紙上刊登徵人廣告，若應徵者符合與泰國人結婚之條件，便將應徵者介紹予共犯詹巧薇、張晉源等人，共犯林清水可從中獲取1萬元之仲介費，適被告依前開徵人廣告應徵，共犯林清水衡量其條件後告知其可至泰國結婚，其除不用負擔前往泰國之機票及食宿費用外，尚可獲取5至6萬元之報酬，被告應允同意後，共犯林清水將其介紹予詹巧薇、張晉源等人，被告即依指示前往泰國與為了來臺工作且無結婚真意的共犯陳玉婉辦理結婚事宜等情，業據共犯林清水於警詢時證稱：伊登報徵人到泰國結婚，被告看報紙來的，伊便轉介予共犯詹巧薇，由共犯詹巧薇安排後續到泰國結婚之事宜，被告除不用負擔前往泰國機票、食宿等費用，尚可獲取約5至6萬元酬勞，伊則可自共犯詹巧薇獲取約1萬元之仲介費用；伊只有將被告轉介予共犯詹巧薇，並未參與後續被告前往泰國之證照、機票、食宿等相關事宜；被告係因缺錢，為了賺取擔任人頭配偶的佣金5至6萬，並不是真的要與泰國人結婚，共犯陳玉婉係為了來臺灣工作賺錢，亦不是真的要與臺灣人結婚等語（見警三卷第2至3頁）；並於本院審理時具結證稱：當初共犯詹巧薇、張晉源等人欲找男子前往泰國結婚，伊曾刊登「男、女不限、經驗不拘」等內容之徵人廣告，被告見報應徵時，被告係因缺錢才來找伊，伊衡量被告條件後認為其只能利用結婚賺取報酬，伊才向其表示是要辦結婚，伊告知被告可安排其去泰國結婚，其不用負擔食宿及機票等費用，可實拿5至6萬元的報酬，被告同意後，伊將被告介紹予共犯詹巧薇、張晉源，共犯張晉源給付佣金1萬元予伊；伊與被告談論泰國結婚事宜時，伊與被告均不知被告之結婚對象為何人，伊亦未見過與被告結婚之泰國女子，伊僅介紹被告予共犯詹巧薇、張晉源等人，伊並未參予後續之泰國結婚、辦理結婚登記及居留申請等事情；被告曾給伊一部機車，當時被告表示要去別的地方，機車留在臺南無人使用，伊修理使用一段期間後，因再度壞掉便未再使用等語（見本院卷第68頁背面至71頁）\n",
            "--->\n",
            " 1: 乙、實體方面：一、訊據被告固坦承於上開時、地，透過共犯林清水之介紹，先至泰國辦理與共犯陳玉婉之結婚手續，再前往臺南縣永康市戶政事務所辦理結婚登記，又前往臺南縣政府警察局外事課辦理共犯陳玉婉之外僑居留證及申請居留證延期之事實，惟矢口否認有何行使使公務員登載不實文書情事，於本院審理時辯稱：伊當時經濟狀況良好，因同居女友欲去日本工作而不願結婚，然伊希望結婚生子，遂透過共犯林清水之介紹與安排，共犯林清水先讓伊看過共犯陳玉婉之照片，伊再前往泰國與共犯陳玉婉結婚，伊僅負擔自己的來回機票錢及泰國住宿費用，其他結婚費用均由共犯林清水負擔，伊則贈送伊的一部機車予共犯林清水以為回報，伊並不認識共犯詹巧薇云云\n",
            "2: 迨共犯陳玉婉來臺後，為取得居留身分，被告與共犯陳玉婉於同年6月14日及94年5月5日，均持前開戶籍謄本等資料，先後向臺南縣政府警察局外事課申請核發共犯陳玉婉之外僑居留證及申請居留證延期等情，業據被告供承在卷，並有結婚登記申請書、授權書各1份、結婚登記書、結婚證書各1份（含中文、泰文影本及我國駐泰國臺北經濟文化辦事處認證之資料）、93年6月14日及94年5月5日之外國人居留停留案件聲請表各1份、被告及共犯陳玉婉之入出國日期紀錄各1份、共犯陳玉婉之外僑居留資料查詢1份在卷可按（見警三卷即南市警一刑偵字第0994101517號卷第6至24、33頁）\n",
            "\n",
            "這三個句子最相關於犯罪事實情節描述，因為它們描述了被告（被告）、共犯陳玉婉（共犯陳玉婉）、共犯林清水（共犯林清水）、共犯詹巧薇（共犯詹巧薇）、共犯張晉源（共犯張晉源）等人如何共同參與假結婚以取得居留身分的過程。\n",
            "=======================================================\n",
            "1: 乙、實體方面：一、訊據被告固坦承於上開時、地，透過共犯林清水之介紹，先至泰國辦理與共犯陳玉婉之結婚手續，再前往臺南縣永康市戶政事務所辦理結婚登記，又前往臺南縣政府警察局外事課辦理共犯陳玉婉之外僑居留證及申請居留證延期之事實，惟矢口否認有何行使使公務員登載不實文書情事，於本院審理時辯稱：伊當時經濟狀況良好，因同居女友欲去日本工作而不願結婚，然伊希望結婚生子，遂透過共犯林清水之介紹與安排，共犯林清水先讓伊看過共犯陳玉婉之照片，伊再前往泰國與共犯陳玉婉結婚，伊僅負擔自己的來回機票錢及泰國住宿費用，其他結婚費用均由共犯林清水負擔，伊則贈送伊的一部機車予共犯林清水以為回報，伊並不認識共犯詹巧薇云云\n",
            "2: 迨共犯陳玉婉來臺後，為取得居留身分，被告與共犯陳玉婉於同年6月14日及94年5月5日，均持前開戶籍謄本等資料，先後向臺南縣政府警察局外事課申請核發共犯陳玉婉之外僑居留證及申請居留證延期等情，業據被告供承在卷，並有結婚登記申請書、授權書各1份、結婚登記書、結婚證書各1份（含中文、泰文影本及我國駐泰國臺北經濟文化辦事處認證之資料）、93年6月14日及94年5月5日之外國人居留停留案件聲請表各1份、被告及共犯陳玉婉之入出國日期紀錄各1份、共犯陳玉婉之外僑居留資料查詢1份在卷可按（見警三卷即南市警一刑偵字第0994101517號卷第6至24、33頁）\n",
            "3: 上開事實，首堪認定\n",
            "4: 理由甲、程序方面：一、本件以下所引用具傳聞證據性質之供述證據，因本件被告陳泰龍、檢察官等人於本院準備程序進行時，均未爭執前開陳述之證據能力，且迄至本案言詞辯論終結前亦均未聲明異議，應視為已同意援引作為證據，又本院審酌前開證據作成時之情況及證據取得過程等節，並無非出於任意性、不正取供或其他違法不當情事，且客觀上亦無顯不可信之情況，堪認為適當，是依刑事訴訟法第159條之5規定，均有證據能力\n",
            "5: 二、卷附之被告及陳玉婉入出國日期紀錄各1份等書證，均非屬供述證據，皆無傳聞法則之適用，復均無違反法定程序取得之情形，依刑事訴訟法第158條之4規定之反面解釋，均應有證據能力\n",
            "6: 一、陳泰龍明知其與泰國籍女子陳玉婉（泰國名字為JARUWANWONGPRATOOM，陳玉婉涉嫌本案偽造文書部分，另經臺灣臺南地方法院檢察署檢察官通緝中）間並無結婚之真意，然因詹巧薇、張晉源等人欲找臺灣男子前往泰國與泰國女子辦理假結婚，林清水負責介紹臺灣男子予詹巧薇、張晉源等人以賺取新臺幣（下同）1萬元之仲介費，適陳泰龍依林清水於報紙上刊登之徵人廣告應徵時，由林清水告知泰國女子欲以假結婚之方式申請來臺居留工作，其若擔任假結婚之人頭老公，除不用負擔前往泰國之食宿、機票費用外，尚可獲取5、6萬元之報酬，迨陳泰龍應允同意後，林清水將其轉介紹予詹巧薇、張晉源等人，陳泰龍遂與林清水、詹巧薇、張晉源等人共同基於行使使公務員登載不實公文書之概括犯意聯絡，先由陳泰龍依指示於民國93年4月3日前往泰國，並於同年月7日與陳玉婉在泰國曼谷市法拉坎農區註冊辦事處登記結婚，取得上開註冊辦事處核發之結婚登記書、結婚證書等文件後，陳泰龍即行返臺，並於同年5月19日持經我國駐泰國臺北經濟文化辦事處認證之上開結婚登記書、結婚證書等資料，至臺南縣永康市（改制前稱謂，以下沿用舊制稱謂）戶政事務所填寫結婚登記申請書，申請辦理其與陳玉婉之結婚登記，因此使上開戶政事務所僅有形式審查權之承辦公務員陷於錯誤，於形式上審核後，將陳泰龍與陳玉婉於93年4月7日結婚之不實事項，登載於其職務上所掌屬公文書之戶籍登記資料內，並據以核發戶籍謄本，而足以生損害於戶政機關對於戶政管理及戶籍登記資料維護之正確性\n",
            "7: 經查：(一)被告於93年4月3日前往泰國，並於同年月7日與共犯陳玉婉在泰國曼谷市法拉坎農區註冊辦事處登記結婚，取得上開註冊辦事處核發之結婚登記書、結婚證書等文件後，被告即行返臺，並於同年5月19日持經我國駐泰國臺北經濟文化辦事處認證之上開結婚登記書、結婚證書等資料，至臺南縣永康市戶政事務所填寫結婚登記申請書，申請辦理其與共犯陳玉婉之結婚登記，並取得戶籍謄本\n",
            "8: 迨陳玉婉來臺後，為取得居留身分，再由陳泰龍、陳玉婉承前概括之犯意聯絡，於同年6月14日及94年5月5日，均持前開登載不實之戶籍謄本等資料，先後向臺南縣政府警察局外事課申請核發陳玉婉之外僑居留證及申請居留證延期而連續行使之（業經檢察官當庭補充），經承辦人員實質審查結果，均未發覺陳泰龍與陳玉婉假結婚之實情，而發給陳玉婉居留證或核准延期，各足以生損害於主管機關對外僑居留管理之正確性\n",
            "9:  二、案經臺南市警察局（現改制為臺南市政府警察局，以下沿用舊制稱謂）第一分局報告臺灣臺南地方法院檢察署檢察官偵查起訴\n",
            "10: (二)共犯詹巧薇、張晉源等人當時欲找臺灣人與泰國女子結婚，由共犯林清水於報紙上刊登徵人廣告，若應徵者符合與泰國人結婚之條件，便將應徵者介紹予共犯詹巧薇、張晉源等人，共犯林清水可從中獲取1萬元之仲介費，適被告依前開徵人廣告應徵，共犯林清水衡量其條件後告知其可至泰國結婚，其除不用負擔前往泰國之機票及食宿費用外，尚可獲取5至6萬元之報酬，被告應允同意後，共犯林清水將其介紹予詹巧薇、張晉源等人，被告即依指示前往泰國與為了來臺工作且無結婚真意的共犯陳玉婉辦理結婚事宜等情，業據共犯林清水於警詢時證稱：伊登報徵人到泰國結婚，被告看報紙來的，伊便轉介予共犯詹巧薇，由共犯詹巧薇安排後續到泰國結婚之事宜，被告除不用負擔前往泰國機票、食宿等費用，尚可獲取約5至6萬元酬勞，伊則可自共犯詹巧薇獲取約1萬元之仲介費用；伊只有將被告轉介予共犯詹巧薇，並未參與後續被告前往泰國之證照、機票、食宿等相關事宜；被告係因缺錢，為了賺取擔任人頭配偶的佣金5至6萬，並不是真的要與泰國人結婚，共犯陳玉婉係為了來臺灣工作賺錢，亦不是真的要與臺灣人結婚等語（見警三卷第2至3頁）；並於本院審理時具結證稱：當初共犯詹巧薇、張晉源等人欲找男子前往泰國結婚，伊曾刊登「男、女不限、經驗不拘」等內容之徵人廣告，被告見報應徵時，被告係因缺錢才來找伊，伊衡量被告條件後認為其只能利用結婚賺取報酬，伊才向其表示是要辦結婚，伊告知被告可安排其去泰國結婚，其不用負擔食宿及機票等費用，可實拿5至6萬元的報酬，被告同意後，伊將被告介紹予共犯詹巧薇、張晉源，共犯張晉源給付佣金1萬元予伊；伊與被告談論泰國結婚事宜時，伊與被告均不知被告之結婚對象為何人，伊亦未見過與被告結婚之泰國女子，伊僅介紹被告予共犯詹巧薇、張晉源等人，伊並未參予後續之泰國結婚、辦理結婚登記及居留申請等事情；被告曾給伊一部機車，當時被告表示要去別的地方，機車留在臺南無人使用，伊修理使用一段期間後，因再度壞掉便未再使用等語（見本院卷第68頁背面至71頁）\n",
            "--->\n",
            " 1: 一、陳泰龍明知其與泰國籍女子陳玉婉（泰國名字為JARUWANWONGPRATOOM，陳玉婉涉嫌本案偽造文書部分，另經臺灣臺南地方法院檢察署檢察官通緝中）間並無結婚之真意，然因詹巧薇、張晉源等人欲找臺灣男子前往泰國與泰國女子辦理假結婚，林清水負責介紹臺灣男子予詹巧薇、張晉源等人以賺取新臺幣（下同）1萬元之仲介費，適陳泰龍依林清水於報紙上刊登之徵人廣告應徵時，由林清水告知泰國女子欲以假結婚之方式申請來臺居留工作，其若擔任假結婚之人頭老公，除不用負擔前往泰國之食宿、機票費用外，尚可獲取5、6萬元之報酬，迨陳泰龍應允同意後，林清水將其轉介紹予詹巧薇、張晉源等人，陳泰龍遂與林清水、詹巧薇、張晉源等人共同基於行使使公務員登載不實公文書之概括犯意聯絡，先由陳泰龍依指示於民國93年4月3日前往泰國，並於同年月7日與陳玉婉在泰國曼谷市法拉坎農區註冊辦事處登記結婚，取得上開註冊辦事處核發之結婚登記書、結婚證書等文件後，陳泰龍即行返臺，並於同年5月19日持經我國駐泰國臺北經濟文化辦事處認證之上開結婚登記書、結婚證書等資料，至臺南縣永康市（改制前稱謂，以下沿用舊制稱謂）戶政事務所填寫結婚登記申請書，申請辦理其與陳玉婉之結婚登記，因此使上開戶政事務所僅有形式審查權之承辦公務員陷於錯誤，於形式上審核後，將陳泰龍與陳玉婉於93年4月7日結婚之不實事項，登載於其職務上所掌屬公文書之戶籍登記資料內，並據以核發戶籍謄本，而足以生損害於戶政機關對於戶政管理及戶籍登記資料維護之正確性\n",
            "=======================================================\n",
            "1: 乙、實體方面：一、訊據被告固坦承於上開時、地，透過共犯林清水之介紹，先至泰國辦理與共犯陳玉婉之結婚手續，再前往臺南縣永康市戶政事務所辦理結婚登記，又前往臺南縣政府警察局外事課辦理共犯陳玉婉之外僑居留證及申請居留證延期之事實，惟矢口否認有何行使使公務員登載不實文書情事，於本院審理時辯稱：伊當時經濟狀況良好，因同居女友欲去日本工作而不願結婚，然伊希望結婚生子，遂透過共犯林清水之介紹與安排，共犯林清水先讓伊看過共犯陳玉婉之照片，伊再前往泰國與共犯陳玉婉結婚，伊僅負擔自己的來回機票錢及泰國住宿費用，其他結婚費用均由共犯林清水負擔，伊則贈送伊的一部機車予共犯林清水以為回報，伊並不認識共犯詹巧薇云云\n",
            "2: 迨共犯陳玉婉來臺後，為取得居留身分，被告與共犯陳玉婉於同年6月14日及94年5月5日，均持前開戶籍謄本等資料，先後向臺南縣政府警察局外事課申請核發共犯陳玉婉之外僑居留證及申請居留證延期等情，業據被告供承在卷，並有結婚登記申請書、授權書各1份、結婚登記書、結婚證書各1份（含中文、泰文影本及我國駐泰國臺北經濟文化辦事處認證之資料）、93年6月14日及94年5月5日之外國人居留停留案件聲請表各1份、被告及共犯陳玉婉之入出國日期紀錄各1份、共犯陳玉婉之外僑居留資料查詢1份在卷可按（見警三卷即南市警一刑偵字第0994101517號卷第6至24、33頁）\n",
            "3: 上開事實，首堪認定\n",
            "4: 理由甲、程序方面：一、本件以下所引用具傳聞證據性質之供述證據，因本件被告陳泰龍、檢察官等人於本院準備程序進行時，均未爭執前開陳述之證據能力，且迄至本案言詞辯論終結前亦均未聲明異議，應視為已同意援引作為證據，又本院審酌前開證據作成時之情況及證據取得過程等節，並無非出於任意性、不正取供或其他違法不當情事，且客觀上亦無顯不可信之情況，堪認為適當，是依刑事訴訟法第159條之5規定，均有證據能力\n",
            "5: 二、卷附之被告及陳玉婉入出國日期紀錄各1份等書證，均非屬供述證據，皆無傳聞法則之適用，復均無違反法定程序取得之情形，依刑事訴訟法第158條之4規定之反面解釋，均應有證據能力\n",
            "6: 一、陳泰龍明知其與泰國籍女子陳玉婉（泰國名字為JARUWANWONGPRATOOM，陳玉婉涉嫌本案偽造文書部分，另經臺灣臺南地方法院檢察署檢察官通緝中）間並無結婚之真意，然因詹巧薇、張晉源等人欲找臺灣男子前往泰國與泰國女子辦理假結婚，林清水負責介紹臺灣男子予詹巧薇、張晉源等人以賺取新臺幣（下同）1萬元之仲介費，適陳泰龍依林清水於報紙上刊登之徵人廣告應徵時，由林清水告知泰國女子欲以假結婚之方式申請來臺居留工作，其若擔任假結婚之人頭老公，除不用負擔前往泰國之食宿、機票費用外，尚可獲取5、6萬元之報酬，迨陳泰龍應允同意後，林清水將其轉介紹予詹巧薇、張晉源等人，陳泰龍遂與林清水、詹巧薇、張晉源等人共同基於行使使公務員登載不實公文書之概括犯意聯絡，先由陳泰龍依指示於民國93年4月3日前往泰國，並於同年月7日與陳玉婉在泰國曼谷市法拉坎農區註冊辦事處登記結婚，取得上開註冊辦事處核發之結婚登記書、結婚證書等文件後，陳泰龍即行返臺，並於同年5月19日持經我國駐泰國臺北經濟文化辦事處認證之上開結婚登記書、結婚證書等資料，至臺南縣永康市（改制前稱謂，以下沿用舊制稱謂）戶政事務所填寫結婚登記申請書，申請辦理其與陳玉婉之結婚登記，因此使上開戶政事務所僅有形式審查權之承辦公務員陷於錯誤，於形式上審核後，將陳泰龍與陳玉婉於93年4月7日結婚之不實事項，登載於其職務上所掌屬公文書之戶籍登記資料內，並據以核發戶籍謄本，而足以生損害於戶政機關對於戶政管理及戶籍登記資料維護之正確性\n",
            "7: 經查：(一)被告於93年4月3日前往泰國，並於同年月7日與共犯陳玉婉在泰國曼谷市法拉坎農區註冊辦事處登記結婚，取得上開註冊辦事處核發之結婚登記書、結婚證書等文件後，被告即行返臺，並於同年5月19日持經我國駐泰國臺北經濟文化辦事處認證之上開結婚登記書、結婚證書等資料，至臺南縣永康市戶政事務所填寫結婚登記申請書，申請辦理其與共犯陳玉婉之結婚登記，並取得戶籍謄本\n",
            "8: 迨陳玉婉來臺後，為取得居留身分，再由陳泰龍、陳玉婉承前概括之犯意聯絡，於同年6月14日及94年5月5日，均持前開登載不實之戶籍謄本等資料，先後向臺南縣政府警察局外事課申請核發陳玉婉之外僑居留證及申請居留證延期而連續行使之（業經檢察官當庭補充），經承辦人員實質審查結果，均未發覺陳泰龍與陳玉婉假結婚之實情，而發給陳玉婉居留證或核准延期，各足以生損害於主管機關對外僑居留管理之正確性\n",
            "9:  二、案經臺南市警察局（現改制為臺南市政府警察局，以下沿用舊制稱謂）第一分局報告臺灣臺南地方法院檢察署檢察官偵查起訴\n",
            "10: (二)共犯詹巧薇、張晉源等人當時欲找臺灣人與泰國女子結婚，由共犯林清水於報紙上刊登徵人廣告，若應徵者符合與泰國人結婚之條件，便將應徵者介紹予共犯詹巧薇、張晉源等人，共犯林清水可從中獲取1萬元之仲介費，適被告依前開徵人廣告應徵，共犯林清水衡量其條件後告知其可至泰國結婚，其除不用負擔前往泰國之機票及食宿費用外，尚可獲取5至6萬元之報酬，被告應允同意後，共犯林清水將其介紹予詹巧薇、張晉源等人，被告即依指示前往泰國與為了來臺工作且無結婚真意的共犯陳玉婉辦理結婚事宜等情，業據共犯林清水於警詢時證稱：伊登報徵人到泰國結婚，被告看報紙來的，伊便轉介予共犯詹巧薇，由共犯詹巧薇安排後續到泰國結婚之事宜，被告除不用負擔前往泰國機票、食宿等費用，尚可獲取約5至6萬元酬勞，伊則可自共犯詹巧薇獲取約1萬元之仲介費用；伊只有將被告轉介予共犯詹巧薇，並未參與後續被告前往泰國之證照、機票、食宿等相關事宜；被告係因缺錢，為了賺取擔任人頭配偶的佣金5至6萬，並不是真的要與泰國人結婚，共犯陳玉婉係為了來臺灣工作賺錢，亦不是真的要與臺灣人結婚等語（見警三卷第2至3頁）；並於本院審理時具結證稱：當初共犯詹巧薇、張晉源等人欲找男子前往泰國結婚，伊曾刊登「男、女不限、經驗不拘」等內容之徵人廣告，被告見報應徵時，被告係因缺錢才來找伊，伊衡量被告條件後認為其只能利用結婚賺取報酬，伊才向其表示是要辦結婚，伊告知被告可安排其去泰國結婚，其不用負擔食宿及機票等費用，可實拿5至6萬元的報酬，被告同意後，伊將被告介紹予共犯詹巧薇、張晉源，共犯張晉源給付佣金1萬元予伊；伊與被告談論泰國結婚事宜時，伊與被告均不知被告之結婚對象為何人，伊亦未見過與被告結婚之泰國女子，伊僅介紹被告予共犯詹巧薇、張晉源等人，伊並未參予後續之泰國結婚、辦理結婚登記及居留申請等事情；被告曾給伊一部機車，當時被告表示要去別的地方，機車留在臺南無人使用，伊修理使用一段期間後，因再度壞掉便未再使用等語（見本院卷第68頁背面至71頁）\n",
            "--->\n",
            " 三個最相關的句子：\n",
            "\n",
            "1: (二)共犯詹巧薇、張晉源等人當時欲找臺灣人與泰國女子結婚，由共犯林清水於報紙上刊登徵人廣告，若應徵者符合與泰國人結婚之條件，便將應徵者介紹予共犯詹巧薇、張晉源等人，共犯林清水可從中獲取1萬元之仲介費，適被告依前開徵人廣告應徵，共犯林清水衡量其條件後告知其可至泰國結婚，其除不用負擔前往泰國之機票及食宿費用外，尚可獲取5至6萬元之報酬，被告應允同意後，共犯林清水將其介紹予詹巧薇、張晉源等人，被告即依指示前往泰國與為了來臺工作且無結婚真意的共犯陳玉婉辦理結婚事宜等情，業據共犯林清水於警詢時證稱：伊登報徵人到泰國結婚，被告看報紙來的，伊便轉介予共犯詹巧薇，由共犯詹巧薇安排後續到泰國結婚之事宜，被告除不用負擔前往泰國機票、食宿等費用，尚可獲取約5至6萬元酬勞，伊則可自共犯詹巧薇獲取約1萬元之仲介費用；伊只有將被告轉介予共犯詹巧薇，並未參與後續被告前往泰國之證照、機票、食宿等相關事宜；被告係因缺錢，為了賺取擔任人頭配偶的佣金5至6萬，並不是真的要與泰國人結婚，共犯陳玉婉係為了來臺灣工作賺錢，亦不是真的要與臺灣人結婚等語（見警三卷第2至3頁）；並於本院審理時具結證稱：當初共犯詹巧薇、張晉源等人欲找男子前往泰國結婚，伊曾刊登「男、女不限、經驗不拘」等內容之徵人廣告，被告見報應徵時，被告係因缺錢才來找伊，伊衡量被告條件後認為其只能利用結婚賺取報酬，伊才向其表示是要辦結婚，伊告知被告可安排其去泰國結婚，其不用負擔食宿及機票等費用，可實拿5至6萬元的報酬，被告同意後，伊將被告介紹予共犯詹巧薇、張晉源，共犯張晉源給付佣金1萬元予伊；伊與被告談論泰國結婚事宜時，伊與被告均不知被告之結婚對象為何人，伊亦未見過與被告結婚之泰國女子，伊僅介紹被告予共犯詹巧薇、張晉源等人，伊並未參予後續之泰國結婚、辦理結婚登記及居留申請等事情；被告曾給伊一部機車，當時被告表示要去別的地方，機車留在臺南無人使用，伊修理使用一段期間後，因再度壞掉便未再使用等語（見本院卷第68頁背面至71頁）\n",
            "\n",
            "2: 迨陳玉婉來臺後，為取得居留身分，再由陳泰龍、陳玉婉承前概括之犯意聯絡，於同年6月14日及94年5月5日，均持前開登載不實之戶籍謄本等資料，先後向臺南縣政府警察局外事課申請核發陳玉婉之外僑居留證及申請居留證延期而連續行使之（業經檢察官當庭補充），經承辦人員實質審查結果，均未發覺陳泰龍與陳玉婉假結婚之實情，而發給陳玉婉居留證或核准延期，各足以生損害於主管機關對外僑居留管理之正確性\n",
            "\n",
            "3: 二、案經臺南市警察局（現改制為臺南市政府警察局，以下沿用舊制稱謂）第一分局報告臺灣臺南地方法院檢察署檢察官偵查起訴\n",
            "=======================================================\n"
          ]
        }
      ],
      "source": [
        "print(prompt1)\n",
        "print(\"--->\")\n",
        "print(get_breeze(query+prompt1))\n",
        "print(\"=======================================================\")\n",
        "print(prompt1)\n",
        "print(\"--->\")\n",
        "print(get_breeze(query+prompt2))\n",
        "print(\"=======================================================\")\n",
        "print(prompt1)\n",
        "print(\"--->\")\n",
        "print(get_breeze(query+prompt3))\n",
        "print(\"=======================================================\")"
      ]
    },
    {
      "cell_type": "code",
      "execution_count": null,
      "metadata": {
        "id": "YGa54tntQCoN"
      },
      "outputs": [],
      "source": [
        "query = \"我會給你來自一篇偽造文書罪的法律判決書的多個句子，請從這些句子中挑選出和犯罪事實情節描述最相關的三個句子。句子如下：\\n\""
      ]
    },
    {
      "cell_type": "code",
      "execution_count": null,
      "metadata": {
        "colab": {
          "base_uri": "https://localhost:8080/"
        },
        "id": "Fnj-Le_hQKsc",
        "outputId": "5e785d91-cb1c-42e6-b3ce-b7ae9aa946fc"
      },
      "outputs": [
        {
          "name": "stdout",
          "output_type": "stream",
          "text": [
            "1: 乙、實體方面：一、訊據被告固坦承於上開時、地，透過共犯林清水之介紹，先至泰國辦理與共犯陳玉婉之結婚手續，再前往臺南縣永康市戶政事務所辦理結婚登記，又前往臺南縣政府警察局外事課辦理共犯陳玉婉之外僑居留證及申請居留證延期之事實，惟矢口否認有何行使使公務員登載不實文書情事，於本院審理時辯稱：伊當時經濟狀況良好，因同居女友欲去日本工作而不願結婚，然伊希望結婚生子，遂透過共犯林清水之介紹與安排，共犯林清水先讓伊看過共犯陳玉婉之照片，伊再前往泰國與共犯陳玉婉結婚，伊僅負擔自己的來回機票錢及泰國住宿費用，其他結婚費用均由共犯林清水負擔，伊則贈送伊的一部機車予共犯林清水以為回報，伊並不認識共犯詹巧薇云云\n",
            "2: 迨共犯陳玉婉來臺後，為取得居留身分，被告與共犯陳玉婉於同年6月14日及94年5月5日，均持前開戶籍謄本等資料，先後向臺南縣政府警察局外事課申請核發共犯陳玉婉之外僑居留證及申請居留證延期等情，業據被告供承在卷，並有結婚登記申請書、授權書各1份、結婚登記書、結婚證書各1份（含中文、泰文影本及我國駐泰國臺北經濟文化辦事處認證之資料）、93年6月14日及94年5月5日之外國人居留停留案件聲請表各1份、被告及共犯陳玉婉之入出國日期紀錄各1份、共犯陳玉婉之外僑居留資料查詢1份在卷可按（見警三卷即南市警一刑偵字第0994101517號卷第6至24、33頁）\n",
            "3: 上開事實，首堪認定\n",
            "4: 理由甲、程序方面：一、本件以下所引用具傳聞證據性質之供述證據，因本件被告陳泰龍、檢察官等人於本院準備程序進行時，均未爭執前開陳述之證據能力，且迄至本案言詞辯論終結前亦均未聲明異議，應視為已同意援引作為證據，又本院審酌前開證據作成時之情況及證據取得過程等節，並無非出於任意性、不正取供或其他違法不當情事，且客觀上亦無顯不可信之情況，堪認為適當，是依刑事訴訟法第159條之5規定，均有證據能力\n",
            "5: 二、卷附之被告及陳玉婉入出國日期紀錄各1份等書證，均非屬供述證據，皆無傳聞法則之適用，復均無違反法定程序取得之情形，依刑事訴訟法第158條之4規定之反面解釋，均應有證據能力\n",
            "6: 一、陳泰龍明知其與泰國籍女子陳玉婉（泰國名字為JARUWANWONGPRATOOM，陳玉婉涉嫌本案偽造文書部分，另經臺灣臺南地方法院檢察署檢察官通緝中）間並無結婚之真意，然因詹巧薇、張晉源等人欲找臺灣男子前往泰國與泰國女子辦理假結婚，林清水負責介紹臺灣男子予詹巧薇、張晉源等人以賺取新臺幣（下同）1萬元之仲介費，適陳泰龍依林清水於報紙上刊登之徵人廣告應徵時，由林清水告知泰國女子欲以假結婚之方式申請來臺居留工作，其若擔任假結婚之人頭老公，除不用負擔前往泰國之食宿、機票費用外，尚可獲取5、6萬元之報酬，迨陳泰龍應允同意後，林清水將其轉介紹予詹巧薇、張晉源等人，陳泰龍遂與林清水、詹巧薇、張晉源等人共同基於行使使公務員登載不實公文書之概括犯意聯絡，先由陳泰龍依指示於民國93年4月3日前往泰國，並於同年月7日與陳玉婉在泰國曼谷市法拉坎農區註冊辦事處登記結婚，取得上開註冊辦事處核發之結婚登記書、結婚證書等文件後，陳泰龍即行返臺，並於同年5月19日持經我國駐泰國臺北經濟文化辦事處認證之上開結婚登記書、結婚證書等資料，至臺南縣永康市（改制前稱謂，以下沿用舊制稱謂）戶政事務所填寫結婚登記申請書，申請辦理其與陳玉婉之結婚登記，因此使上開戶政事務所僅有形式審查權之承辦公務員陷於錯誤，於形式上審核後，將陳泰龍與陳玉婉於93年4月7日結婚之不實事項，登載於其職務上所掌屬公文書之戶籍登記資料內，並據以核發戶籍謄本，而足以生損害於戶政機關對於戶政管理及戶籍登記資料維護之正確性\n",
            "7: 經查：(一)被告於93年4月3日前往泰國，並於同年月7日與共犯陳玉婉在泰國曼谷市法拉坎農區註冊辦事處登記結婚，取得上開註冊辦事處核發之結婚登記書、結婚證書等文件後，被告即行返臺，並於同年5月19日持經我國駐泰國臺北經濟文化辦事處認證之上開結婚登記書、結婚證書等資料，至臺南縣永康市戶政事務所填寫結婚登記申請書，申請辦理其與共犯陳玉婉之結婚登記，並取得戶籍謄本\n",
            "8: 迨陳玉婉來臺後，為取得居留身分，再由陳泰龍、陳玉婉承前概括之犯意聯絡，於同年6月14日及94年5月5日，均持前開登載不實之戶籍謄本等資料，先後向臺南縣政府警察局外事課申請核發陳玉婉之外僑居留證及申請居留證延期而連續行使之（業經檢察官當庭補充），經承辦人員實質審查結果，均未發覺陳泰龍與陳玉婉假結婚之實情，而發給陳玉婉居留證或核准延期，各足以生損害於主管機關對外僑居留管理之正確性\n",
            "9:  二、案經臺南市警察局（現改制為臺南市政府警察局，以下沿用舊制稱謂）第一分局報告臺灣臺南地方法院檢察署檢察官偵查起訴\n",
            "10: (二)共犯詹巧薇、張晉源等人當時欲找臺灣人與泰國女子結婚，由共犯林清水於報紙上刊登徵人廣告，若應徵者符合與泰國人結婚之條件，便將應徵者介紹予共犯詹巧薇、張晉源等人，共犯林清水可從中獲取1萬元之仲介費，適被告依前開徵人廣告應徵，共犯林清水衡量其條件後告知其可至泰國結婚，其除不用負擔前往泰國之機票及食宿費用外，尚可獲取5至6萬元之報酬，被告應允同意後，共犯林清水將其介紹予詹巧薇、張晉源等人，被告即依指示前往泰國與為了來臺工作且無結婚真意的共犯陳玉婉辦理結婚事宜等情，業據共犯林清水於警詢時證稱：伊登報徵人到泰國結婚，被告看報紙來的，伊便轉介予共犯詹巧薇，由共犯詹巧薇安排後續到泰國結婚之事宜，被告除不用負擔前往泰國機票、食宿等費用，尚可獲取約5至6萬元酬勞，伊則可自共犯詹巧薇獲取約1萬元之仲介費用；伊只有將被告轉介予共犯詹巧薇，並未參與後續被告前往泰國之證照、機票、食宿等相關事宜；被告係因缺錢，為了賺取擔任人頭配偶的佣金5至6萬，並不是真的要與泰國人結婚，共犯陳玉婉係為了來臺灣工作賺錢，亦不是真的要與臺灣人結婚等語（見警三卷第2至3頁）；並於本院審理時具結證稱：當初共犯詹巧薇、張晉源等人欲找男子前往泰國結婚，伊曾刊登「男、女不限、經驗不拘」等內容之徵人廣告，被告見報應徵時，被告係因缺錢才來找伊，伊衡量被告條件後認為其只能利用結婚賺取報酬，伊才向其表示是要辦結婚，伊告知被告可安排其去泰國結婚，其不用負擔食宿及機票等費用，可實拿5至6萬元的報酬，被告同意後，伊將被告介紹予共犯詹巧薇、張晉源，共犯張晉源給付佣金1萬元予伊；伊與被告談論泰國結婚事宜時，伊與被告均不知被告之結婚對象為何人，伊亦未見過與被告結婚之泰國女子，伊僅介紹被告予共犯詹巧薇、張晉源等人，伊並未參予後續之泰國結婚、辦理結婚登記及居留申請等事情；被告曾給伊一部機車，當時被告表示要去別的地方，機車留在臺南無人使用，伊修理使用一段期間後，因再度壞掉便未再使用等語（見本院卷第68頁背面至71頁）\n",
            "--->\n",
            " 1: 乙、實體方面：一、訊據被告固坦承於上開時、地，透過共犯林清水之介紹，先至泰國辦理與共犯陳玉婉之結婚手續，再前往臺南縣永康市戶政事務所辦理結婚登記，又前往臺南縣政府警察局外事課辦理共犯陳玉婉之外僑居留證及申請居留證延期之事實，惟矢口否認有何行使使公務員登載不實文書情事，於本院審理時辯稱：伊當時經濟狀況良好，因同居女友欲去日本工作而不願結婚，然伊希望結婚生子，遂透過共犯林清水之介紹與安排，共犯林清水先讓伊看過共犯陳玉婉之照片，伊再前往泰國與共犯陳玉婉結婚，伊僅負擔自己的來回機票錢及泰國住宿費用，其他結婚費用均由共犯林清水負擔，伊則贈送伊的一部機車予共犯林清水以為回報，伊並不認識共犯詹巧薇云云\n",
            "2: 迨共犯陳玉婉來臺後，為取得居留身分，被告與共犯陳玉婉於同年6月14日及94年5月5日，均持前開戶籍謄本等資料，先後向臺南縣政府警察局外事課申請核發共犯陳玉婉之外僑居留證及申請居留證延期等情，業據被告供承在卷，並有結婚登記申請書、授權書各1份、結婚登記書、結婚證書各1份（含中文、泰文影本及我國駐泰國臺北經濟文化辦事處認證之資料）、93年6月14日及94年5月5日之外國人居留停留案件聲請表各1份、被告及共犯陳玉婉之入出國日期紀錄各1份、共犯陳玉婉之外僑居留資料查詢1份在卷可按（見警三卷即南市警一刑偵字第0994101517號卷第6至24、33頁）\n",
            "\n",
            "這三個句子最相關於犯罪事實情節描述，因為它們描述了被告（被告）、共犯陳玉婉（共犯陳玉婉）、共犯林清水（共犯林清水）、共犯詹巧薇（共犯詹巧薇）、共犯張晉源（共犯張晉源）等人如何共同參與假結婚以取得居留身分的過程。\n",
            "=======================================================\n",
            "1: 乙、實體方面：一、訊據被告固坦承於上開時、地，透過共犯林清水之介紹，先至泰國辦理與共犯陳玉婉之結婚手續，再前往臺南縣永康市戶政事務所辦理結婚登記，又前往臺南縣政府警察局外事課辦理共犯陳玉婉之外僑居留證及申請居留證延期之事實，惟矢口否認有何行使使公務員登載不實文書情事，於本院審理時辯稱：伊當時經濟狀況良好，因同居女友欲去日本工作而不願結婚，然伊希望結婚生子，遂透過共犯林清水之介紹與安排，共犯林清水先讓伊看過共犯陳玉婉之照片，伊再前往泰國與共犯陳玉婉結婚，伊僅負擔自己的來回機票錢及泰國住宿費用，其他結婚費用均由共犯林清水負擔，伊則贈送伊的一部機車予共犯林清水以為回報，伊並不認識共犯詹巧薇云云\n",
            "2: 迨共犯陳玉婉來臺後，為取得居留身分，被告與共犯陳玉婉於同年6月14日及94年5月5日，均持前開戶籍謄本等資料，先後向臺南縣政府警察局外事課申請核發共犯陳玉婉之外僑居留證及申請居留證延期等情，業據被告供承在卷，並有結婚登記申請書、授權書各1份、結婚登記書、結婚證書各1份（含中文、泰文影本及我國駐泰國臺北經濟文化辦事處認證之資料）、93年6月14日及94年5月5日之外國人居留停留案件聲請表各1份、被告及共犯陳玉婉之入出國日期紀錄各1份、共犯陳玉婉之外僑居留資料查詢1份在卷可按（見警三卷即南市警一刑偵字第0994101517號卷第6至24、33頁）\n",
            "3: 上開事實，首堪認定\n",
            "4: 理由甲、程序方面：一、本件以下所引用具傳聞證據性質之供述證據，因本件被告陳泰龍、檢察官等人於本院準備程序進行時，均未爭執前開陳述之證據能力，且迄至本案言詞辯論終結前亦均未聲明異議，應視為已同意援引作為證據，又本院審酌前開證據作成時之情況及證據取得過程等節，並無非出於任意性、不正取供或其他違法不當情事，且客觀上亦無顯不可信之情況，堪認為適當，是依刑事訴訟法第159條之5規定，均有證據能力\n",
            "5: 二、卷附之被告及陳玉婉入出國日期紀錄各1份等書證，均非屬供述證據，皆無傳聞法則之適用，復均無違反法定程序取得之情形，依刑事訴訟法第158條之4規定之反面解釋，均應有證據能力\n",
            "6: 一、陳泰龍明知其與泰國籍女子陳玉婉（泰國名字為JARUWANWONGPRATOOM，陳玉婉涉嫌本案偽造文書部分，另經臺灣臺南地方法院檢察署檢察官通緝中）間並無結婚之真意，然因詹巧薇、張晉源等人欲找臺灣男子前往泰國與泰國女子辦理假結婚，林清水負責介紹臺灣男子予詹巧薇、張晉源等人以賺取新臺幣（下同）1萬元之仲介費，適陳泰龍依林清水於報紙上刊登之徵人廣告應徵時，由林清水告知泰國女子欲以假結婚之方式申請來臺居留工作，其若擔任假結婚之人頭老公，除不用負擔前往泰國之食宿、機票費用外，尚可獲取5、6萬元之報酬，迨陳泰龍應允同意後，林清水將其轉介紹予詹巧薇、張晉源等人，陳泰龍遂與林清水、詹巧薇、張晉源等人共同基於行使使公務員登載不實公文書之概括犯意聯絡，先由陳泰龍依指示於民國93年4月3日前往泰國，並於同年月7日與陳玉婉在泰國曼谷市法拉坎農區註冊辦事處登記結婚，取得上開註冊辦事處核發之結婚登記書、結婚證書等文件後，陳泰龍即行返臺，並於同年5月19日持經我國駐泰國臺北經濟文化辦事處認證之上開結婚登記書、結婚證書等資料，至臺南縣永康市（改制前稱謂，以下沿用舊制稱謂）戶政事務所填寫結婚登記申請書，申請辦理其與陳玉婉之結婚登記，因此使上開戶政事務所僅有形式審查權之承辦公務員陷於錯誤，於形式上審核後，將陳泰龍與陳玉婉於93年4月7日結婚之不實事項，登載於其職務上所掌屬公文書之戶籍登記資料內，並據以核發戶籍謄本，而足以生損害於戶政機關對於戶政管理及戶籍登記資料維護之正確性\n",
            "7: 經查：(一)被告於93年4月3日前往泰國，並於同年月7日與共犯陳玉婉在泰國曼谷市法拉坎農區註冊辦事處登記結婚，取得上開註冊辦事處核發之結婚登記書、結婚證書等文件後，被告即行返臺，並於同年5月19日持經我國駐泰國臺北經濟文化辦事處認證之上開結婚登記書、結婚證書等資料，至臺南縣永康市戶政事務所填寫結婚登記申請書，申請辦理其與共犯陳玉婉之結婚登記，並取得戶籍謄本\n",
            "8: 迨陳玉婉來臺後，為取得居留身分，再由陳泰龍、陳玉婉承前概括之犯意聯絡，於同年6月14日及94年5月5日，均持前開登載不實之戶籍謄本等資料，先後向臺南縣政府警察局外事課申請核發陳玉婉之外僑居留證及申請居留證延期而連續行使之（業經檢察官當庭補充），經承辦人員實質審查結果，均未發覺陳泰龍與陳玉婉假結婚之實情，而發給陳玉婉居留證或核准延期，各足以生損害於主管機關對外僑居留管理之正確性\n",
            "9:  二、案經臺南市警察局（現改制為臺南市政府警察局，以下沿用舊制稱謂）第一分局報告臺灣臺南地方法院檢察署檢察官偵查起訴\n",
            "10: (二)共犯詹巧薇、張晉源等人當時欲找臺灣人與泰國女子結婚，由共犯林清水於報紙上刊登徵人廣告，若應徵者符合與泰國人結婚之條件，便將應徵者介紹予共犯詹巧薇、張晉源等人，共犯林清水可從中獲取1萬元之仲介費，適被告依前開徵人廣告應徵，共犯林清水衡量其條件後告知其可至泰國結婚，其除不用負擔前往泰國之機票及食宿費用外，尚可獲取5至6萬元之報酬，被告應允同意後，共犯林清水將其介紹予詹巧薇、張晉源等人，被告即依指示前往泰國與為了來臺工作且無結婚真意的共犯陳玉婉辦理結婚事宜等情，業據共犯林清水於警詢時證稱：伊登報徵人到泰國結婚，被告看報紙來的，伊便轉介予共犯詹巧薇，由共犯詹巧薇安排後續到泰國結婚之事宜，被告除不用負擔前往泰國機票、食宿等費用，尚可獲取約5至6萬元酬勞，伊則可自共犯詹巧薇獲取約1萬元之仲介費用；伊只有將被告轉介予共犯詹巧薇，並未參與後續被告前往泰國之證照、機票、食宿等相關事宜；被告係因缺錢，為了賺取擔任人頭配偶的佣金5至6萬，並不是真的要與泰國人結婚，共犯陳玉婉係為了來臺灣工作賺錢，亦不是真的要與臺灣人結婚等語（見警三卷第2至3頁）；並於本院審理時具結證稱：當初共犯詹巧薇、張晉源等人欲找男子前往泰國結婚，伊曾刊登「男、女不限、經驗不拘」等內容之徵人廣告，被告見報應徵時，被告係因缺錢才來找伊，伊衡量被告條件後認為其只能利用結婚賺取報酬，伊才向其表示是要辦結婚，伊告知被告可安排其去泰國結婚，其不用負擔食宿及機票等費用，可實拿5至6萬元的報酬，被告同意後，伊將被告介紹予共犯詹巧薇、張晉源，共犯張晉源給付佣金1萬元予伊；伊與被告談論泰國結婚事宜時，伊與被告均不知被告之結婚對象為何人，伊亦未見過與被告結婚之泰國女子，伊僅介紹被告予共犯詹巧薇、張晉源等人，伊並未參予後續之泰國結婚、辦理結婚登記及居留申請等事情；被告曾給伊一部機車，當時被告表示要去別的地方，機車留在臺南無人使用，伊修理使用一段期間後，因再度壞掉便未再使用等語（見本院卷第68頁背面至71頁）\n",
            "--->\n",
            " 1: 一、陳泰龍明知其與泰國籍女子陳玉婉（泰國名字為JARUWANWONGPRATOOM，陳玉婉涉嫌本案偽造文書部分，另經臺灣臺南地方法院檢察署檢察官通緝中）間並無結婚之真意，然因詹巧薇、張晉源等人欲找臺灣男子前往泰國與泰國女子辦理假結婚，林清水負責介紹臺灣男子予詹巧薇、張晉源等人以賺取新臺幣（下同）1萬元之仲介費，適陳泰龍依林清水於報紙上刊登之徵人廣告應徵時，由林清水告知泰國女子欲以假結婚之方式申請來臺居留工作，其若擔任假結婚之人頭老公，除不用負擔前往泰國之食宿、機票費用外，尚可獲取5、6萬元之報酬，迨陳泰龍應允同意後，林清水將其轉介紹予詹巧薇、張晉源等人，陳泰龍遂與林清水、詹巧薇、張晉源等人共同基於行使使公務員登載不實公文書之概括犯意聯絡，先由陳泰龍依指示於民國93年4月3日前往泰國，並於同年月7日與陳玉婉在泰國曼谷市法拉坎農區註冊辦事處登記結婚，取得上開註冊辦事處核發之結婚登記書、結婚證書等文件後，陳泰龍即行返臺，並於同年5月19日持經我國駐泰國臺北經濟文化辦事處認證之上開結婚登記書、結婚證書等資料，至臺南縣永康市（改制前稱謂，以下沿用舊制稱謂）戶政事務所填寫結婚登記申請書，申請辦理其與陳玉婉之結婚登記，因此使上開戶政事務所僅有形式審查權之承辦公務員陷於錯誤，於形式上審核後，將陳泰龍與陳玉婉於93年4月7日結婚之不實事項，登載於其職務上所掌屬公文書之戶籍登記資料內，並據以核發戶籍謄本，而足以生損害於戶政機關對於戶政管理及戶籍登記資料維護之正確性\n",
            "=======================================================\n",
            "1: 乙、實體方面：一、訊據被告固坦承於上開時、地，透過共犯林清水之介紹，先至泰國辦理與共犯陳玉婉之結婚手續，再前往臺南縣永康市戶政事務所辦理結婚登記，又前往臺南縣政府警察局外事課辦理共犯陳玉婉之外僑居留證及申請居留證延期之事實，惟矢口否認有何行使使公務員登載不實文書情事，於本院審理時辯稱：伊當時經濟狀況良好，因同居女友欲去日本工作而不願結婚，然伊希望結婚生子，遂透過共犯林清水之介紹與安排，共犯林清水先讓伊看過共犯陳玉婉之照片，伊再前往泰國與共犯陳玉婉結婚，伊僅負擔自己的來回機票錢及泰國住宿費用，其他結婚費用均由共犯林清水負擔，伊則贈送伊的一部機車予共犯林清水以為回報，伊並不認識共犯詹巧薇云云\n",
            "2: 迨共犯陳玉婉來臺後，為取得居留身分，被告與共犯陳玉婉於同年6月14日及94年5月5日，均持前開戶籍謄本等資料，先後向臺南縣政府警察局外事課申請核發共犯陳玉婉之外僑居留證及申請居留證延期等情，業據被告供承在卷，並有結婚登記申請書、授權書各1份、結婚登記書、結婚證書各1份（含中文、泰文影本及我國駐泰國臺北經濟文化辦事處認證之資料）、93年6月14日及94年5月5日之外國人居留停留案件聲請表各1份、被告及共犯陳玉婉之入出國日期紀錄各1份、共犯陳玉婉之外僑居留資料查詢1份在卷可按（見警三卷即南市警一刑偵字第0994101517號卷第6至24、33頁）\n",
            "3: 上開事實，首堪認定\n",
            "4: 理由甲、程序方面：一、本件以下所引用具傳聞證據性質之供述證據，因本件被告陳泰龍、檢察官等人於本院準備程序進行時，均未爭執前開陳述之證據能力，且迄至本案言詞辯論終結前亦均未聲明異議，應視為已同意援引作為證據，又本院審酌前開證據作成時之情況及證據取得過程等節，並無非出於任意性、不正取供或其他違法不當情事，且客觀上亦無顯不可信之情況，堪認為適當，是依刑事訴訟法第159條之5規定，均有證據能力\n",
            "5: 二、卷附之被告及陳玉婉入出國日期紀錄各1份等書證，均非屬供述證據，皆無傳聞法則之適用，復均無違反法定程序取得之情形，依刑事訴訟法第158條之4規定之反面解釋，均應有證據能力\n",
            "6: 一、陳泰龍明知其與泰國籍女子陳玉婉（泰國名字為JARUWANWONGPRATOOM，陳玉婉涉嫌本案偽造文書部分，另經臺灣臺南地方法院檢察署檢察官通緝中）間並無結婚之真意，然因詹巧薇、張晉源等人欲找臺灣男子前往泰國與泰國女子辦理假結婚，林清水負責介紹臺灣男子予詹巧薇、張晉源等人以賺取新臺幣（下同）1萬元之仲介費，適陳泰龍依林清水於報紙上刊登之徵人廣告應徵時，由林清水告知泰國女子欲以假結婚之方式申請來臺居留工作，其若擔任假結婚之人頭老公，除不用負擔前往泰國之食宿、機票費用外，尚可獲取5、6萬元之報酬，迨陳泰龍應允同意後，林清水將其轉介紹予詹巧薇、張晉源等人，陳泰龍遂與林清水、詹巧薇、張晉源等人共同基於行使使公務員登載不實公文書之概括犯意聯絡，先由陳泰龍依指示於民國93年4月3日前往泰國，並於同年月7日與陳玉婉在泰國曼谷市法拉坎農區註冊辦事處登記結婚，取得上開註冊辦事處核發之結婚登記書、結婚證書等文件後，陳泰龍即行返臺，並於同年5月19日持經我國駐泰國臺北經濟文化辦事處認證之上開結婚登記書、結婚證書等資料，至臺南縣永康市（改制前稱謂，以下沿用舊制稱謂）戶政事務所填寫結婚登記申請書，申請辦理其與陳玉婉之結婚登記，因此使上開戶政事務所僅有形式審查權之承辦公務員陷於錯誤，於形式上審核後，將陳泰龍與陳玉婉於93年4月7日結婚之不實事項，登載於其職務上所掌屬公文書之戶籍登記資料內，並據以核發戶籍謄本，而足以生損害於戶政機關對於戶政管理及戶籍登記資料維護之正確性\n",
            "7: 經查：(一)被告於93年4月3日前往泰國，並於同年月7日與共犯陳玉婉在泰國曼谷市法拉坎農區註冊辦事處登記結婚，取得上開註冊辦事處核發之結婚登記書、結婚證書等文件後，被告即行返臺，並於同年5月19日持經我國駐泰國臺北經濟文化辦事處認證之上開結婚登記書、結婚證書等資料，至臺南縣永康市戶政事務所填寫結婚登記申請書，申請辦理其與共犯陳玉婉之結婚登記，並取得戶籍謄本\n",
            "8: 迨陳玉婉來臺後，為取得居留身分，再由陳泰龍、陳玉婉承前概括之犯意聯絡，於同年6月14日及94年5月5日，均持前開登載不實之戶籍謄本等資料，先後向臺南縣政府警察局外事課申請核發陳玉婉之外僑居留證及申請居留證延期而連續行使之（業經檢察官當庭補充），經承辦人員實質審查結果，均未發覺陳泰龍與陳玉婉假結婚之實情，而發給陳玉婉居留證或核准延期，各足以生損害於主管機關對外僑居留管理之正確性\n",
            "9:  二、案經臺南市警察局（現改制為臺南市政府警察局，以下沿用舊制稱謂）第一分局報告臺灣臺南地方法院檢察署檢察官偵查起訴\n",
            "10: (二)共犯詹巧薇、張晉源等人當時欲找臺灣人與泰國女子結婚，由共犯林清水於報紙上刊登徵人廣告，若應徵者符合與泰國人結婚之條件，便將應徵者介紹予共犯詹巧薇、張晉源等人，共犯林清水可從中獲取1萬元之仲介費，適被告依前開徵人廣告應徵，共犯林清水衡量其條件後告知其可至泰國結婚，其除不用負擔前往泰國之機票及食宿費用外，尚可獲取5至6萬元之報酬，被告應允同意後，共犯林清水將其介紹予詹巧薇、張晉源等人，被告即依指示前往泰國與為了來臺工作且無結婚真意的共犯陳玉婉辦理結婚事宜等情，業據共犯林清水於警詢時證稱：伊登報徵人到泰國結婚，被告看報紙來的，伊便轉介予共犯詹巧薇，由共犯詹巧薇安排後續到泰國結婚之事宜，被告除不用負擔前往泰國機票、食宿等費用，尚可獲取約5至6萬元酬勞，伊則可自共犯詹巧薇獲取約1萬元之仲介費用；伊只有將被告轉介予共犯詹巧薇，並未參與後續被告前往泰國之證照、機票、食宿等相關事宜；被告係因缺錢，為了賺取擔任人頭配偶的佣金5至6萬，並不是真的要與泰國人結婚，共犯陳玉婉係為了來臺灣工作賺錢，亦不是真的要與臺灣人結婚等語（見警三卷第2至3頁）；並於本院審理時具結證稱：當初共犯詹巧薇、張晉源等人欲找男子前往泰國結婚，伊曾刊登「男、女不限、經驗不拘」等內容之徵人廣告，被告見報應徵時，被告係因缺錢才來找伊，伊衡量被告條件後認為其只能利用結婚賺取報酬，伊才向其表示是要辦結婚，伊告知被告可安排其去泰國結婚，其不用負擔食宿及機票等費用，可實拿5至6萬元的報酬，被告同意後，伊將被告介紹予共犯詹巧薇、張晉源，共犯張晉源給付佣金1萬元予伊；伊與被告談論泰國結婚事宜時，伊與被告均不知被告之結婚對象為何人，伊亦未見過與被告結婚之泰國女子，伊僅介紹被告予共犯詹巧薇、張晉源等人，伊並未參予後續之泰國結婚、辦理結婚登記及居留申請等事情；被告曾給伊一部機車，當時被告表示要去別的地方，機車留在臺南無人使用，伊修理使用一段期間後，因再度壞掉便未再使用等語（見本院卷第68頁背面至71頁）\n",
            "--->\n",
            " 1: (二)共犯詹巧薇、張晉源等人當時欲找臺灣人與泰國女子結婚，由共犯林清水於報紙上刊登徵人廣告，若應徵者符合與泰國人結婚之條件，便將應徵者介紹予共犯詹巧薇、張晉源等人，共犯林清水可從中獲取1萬元之仲介費，適被告依前開徵人廣告應徵，共犯林清水衡量其條件後告知其可至泰國結婚，其除不用負擔前往泰國之機票及食宿費用外，尚可獲取5至6萬元之報酬，被告應允同意後，共犯林清水將其介紹予詹巧薇、張晉源等人，被告即依指示前往泰國與為了來臺工作且無結婚真意的共犯陳玉婉辦理結婚事宜等情，業據共犯林清水於警詢時證稱：伊登報徵人到泰國結婚，被告看報紙來的，伊便轉介予共犯詹巧薇，由共犯詹巧薇安排後續到泰國結婚之事宜，被告除不用負擔前往泰國機票、食宿等費用，尚可獲取約5至6萬元酬勞，伊則可自共犯詹巧薇獲取約1萬元之仲介費用；伊只有將被告轉介予共犯詹巧薇，並未參與後續被告前往泰國之證照、機票、食宿等相關事宜；被告係因缺錢，為了賺取擔任人頭配偶的佣金5至6萬，並\n",
            "=======================================================\n"
          ]
        }
      ],
      "source": [
        "print(prompt1)\n",
        "print(\"--->\")\n",
        "print(get_breeze(query+prompt1))\n",
        "print(\"=======================================================\")\n",
        "print(prompt1)\n",
        "print(\"--->\")\n",
        "print(get_breeze(query+prompt2))\n",
        "print(\"=======================================================\")\n",
        "print(prompt1)\n",
        "print(\"--->\")\n",
        "print(get_breeze(query+prompt3))\n",
        "print(\"=======================================================\")"
      ]
    },
    {
      "cell_type": "code",
      "execution_count": null,
      "metadata": {
        "id": "WJ5Hpy-HQThW"
      },
      "outputs": [],
      "source": [
        "query = \"我會給你和偽造文書罪相關的多個句子，請從這些句子中挑選出和犯罪事實情節描述最相關的三個句子。句子如下：\\n\""
      ]
    },
    {
      "cell_type": "code",
      "execution_count": null,
      "metadata": {
        "colab": {
          "base_uri": "https://localhost:8080/"
        },
        "id": "hnxCuJDkQVNJ",
        "outputId": "f5ad5861-a110-4abf-d09b-d2499a638115"
      },
      "outputs": [
        {
          "name": "stdout",
          "output_type": "stream",
          "text": [
            "1: 乙、實體方面：一、訊據被告固坦承於上開時、地，透過共犯林清水之介紹，先至泰國辦理與共犯陳玉婉之結婚手續，再前往臺南縣永康市戶政事務所辦理結婚登記，又前往臺南縣政府警察局外事課辦理共犯陳玉婉之外僑居留證及申請居留證延期之事實，惟矢口否認有何行使使公務員登載不實文書情事，於本院審理時辯稱：伊當時經濟狀況良好，因同居女友欲去日本工作而不願結婚，然伊希望結婚生子，遂透過共犯林清水之介紹與安排，共犯林清水先讓伊看過共犯陳玉婉之照片，伊再前往泰國與共犯陳玉婉結婚，伊僅負擔自己的來回機票錢及泰國住宿費用，其他結婚費用均由共犯林清水負擔，伊則贈送伊的一部機車予共犯林清水以為回報，伊並不認識共犯詹巧薇云云\n",
            "2: 迨共犯陳玉婉來臺後，為取得居留身分，被告與共犯陳玉婉於同年6月14日及94年5月5日，均持前開戶籍謄本等資料，先後向臺南縣政府警察局外事課申請核發共犯陳玉婉之外僑居留證及申請居留證延期等情，業據被告供承在卷，並有結婚登記申請書、授權書各1份、結婚登記書、結婚證書各1份（含中文、泰文影本及我國駐泰國臺北經濟文化辦事處認證之資料）、93年6月14日及94年5月5日之外國人居留停留案件聲請表各1份、被告及共犯陳玉婉之入出國日期紀錄各1份、共犯陳玉婉之外僑居留資料查詢1份在卷可按（見警三卷即南市警一刑偵字第0994101517號卷第6至24、33頁）\n",
            "3: 上開事實，首堪認定\n",
            "4: 理由甲、程序方面：一、本件以下所引用具傳聞證據性質之供述證據，因本件被告陳泰龍、檢察官等人於本院準備程序進行時，均未爭執前開陳述之證據能力，且迄至本案言詞辯論終結前亦均未聲明異議，應視為已同意援引作為證據，又本院審酌前開證據作成時之情況及證據取得過程等節，並無非出於任意性、不正取供或其他違法不當情事，且客觀上亦無顯不可信之情況，堪認為適當，是依刑事訴訟法第159條之5規定，均有證據能力\n",
            "5: 二、卷附之被告及陳玉婉入出國日期紀錄各1份等書證，均非屬供述證據，皆無傳聞法則之適用，復均無違反法定程序取得之情形，依刑事訴訟法第158條之4規定之反面解釋，均應有證據能力\n",
            "6: 一、陳泰龍明知其與泰國籍女子陳玉婉（泰國名字為JARUWANWONGPRATOOM，陳玉婉涉嫌本案偽造文書部分，另經臺灣臺南地方法院檢察署檢察官通緝中）間並無結婚之真意，然因詹巧薇、張晉源等人欲找臺灣男子前往泰國與泰國女子辦理假結婚，林清水負責介紹臺灣男子予詹巧薇、張晉源等人以賺取新臺幣（下同）1萬元之仲介費，適陳泰龍依林清水於報紙上刊登之徵人廣告應徵時，由林清水告知泰國女子欲以假結婚之方式申請來臺居留工作，其若擔任假結婚之人頭老公，除不用負擔前往泰國之食宿、機票費用外，尚可獲取5、6萬元之報酬，迨陳泰龍應允同意後，林清水將其轉介紹予詹巧薇、張晉源等人，陳泰龍遂與林清水、詹巧薇、張晉源等人共同基於行使使公務員登載不實公文書之概括犯意聯絡，先由陳泰龍依指示於民國93年4月3日前往泰國，並於同年月7日與陳玉婉在泰國曼谷市法拉坎農區註冊辦事處登記結婚，取得上開註冊辦事處核發之結婚登記書、結婚證書等文件後，陳泰龍即行返臺，並於同年5月19日持經我國駐泰國臺北經濟文化辦事處認證之上開結婚登記書、結婚證書等資料，至臺南縣永康市（改制前稱謂，以下沿用舊制稱謂）戶政事務所填寫結婚登記申請書，申請辦理其與陳玉婉之結婚登記，因此使上開戶政事務所僅有形式審查權之承辦公務員陷於錯誤，於形式上審核後，將陳泰龍與陳玉婉於93年4月7日結婚之不實事項，登載於其職務上所掌屬公文書之戶籍登記資料內，並據以核發戶籍謄本，而足以生損害於戶政機關對於戶政管理及戶籍登記資料維護之正確性\n",
            "7: 經查：(一)被告於93年4月3日前往泰國，並於同年月7日與共犯陳玉婉在泰國曼谷市法拉坎農區註冊辦事處登記結婚，取得上開註冊辦事處核發之結婚登記書、結婚證書等文件後，被告即行返臺，並於同年5月19日持經我國駐泰國臺北經濟文化辦事處認證之上開結婚登記書、結婚證書等資料，至臺南縣永康市戶政事務所填寫結婚登記申請書，申請辦理其與共犯陳玉婉之結婚登記，並取得戶籍謄本\n",
            "8: 迨陳玉婉來臺後，為取得居留身分，再由陳泰龍、陳玉婉承前概括之犯意聯絡，於同年6月14日及94年5月5日，均持前開登載不實之戶籍謄本等資料，先後向臺南縣政府警察局外事課申請核發陳玉婉之外僑居留證及申請居留證延期而連續行使之（業經檢察官當庭補充），經承辦人員實質審查結果，均未發覺陳泰龍與陳玉婉假結婚之實情，而發給陳玉婉居留證或核准延期，各足以生損害於主管機關對外僑居留管理之正確性\n",
            "9:  二、案經臺南市警察局（現改制為臺南市政府警察局，以下沿用舊制稱謂）第一分局報告臺灣臺南地方法院檢察署檢察官偵查起訴\n",
            "10: (二)共犯詹巧薇、張晉源等人當時欲找臺灣人與泰國女子結婚，由共犯林清水於報紙上刊登徵人廣告，若應徵者符合與泰國人結婚之條件，便將應徵者介紹予共犯詹巧薇、張晉源等人，共犯林清水可從中獲取1萬元之仲介費，適被告依前開徵人廣告應徵，共犯林清水衡量其條件後告知其可至泰國結婚，其除不用負擔前往泰國之機票及食宿費用外，尚可獲取5至6萬元之報酬，被告應允同意後，共犯林清水將其介紹予詹巧薇、張晉源等人，被告即依指示前往泰國與為了來臺工作且無結婚真意的共犯陳玉婉辦理結婚事宜等情，業據共犯林清水於警詢時證稱：伊登報徵人到泰國結婚，被告看報紙來的，伊便轉介予共犯詹巧薇，由共犯詹巧薇安排後續到泰國結婚之事宜，被告除不用負擔前往泰國機票、食宿等費用，尚可獲取約5至6萬元酬勞，伊則可自共犯詹巧薇獲取約1萬元之仲介費用；伊只有將被告轉介予共犯詹巧薇，並未參與後續被告前往泰國之證照、機票、食宿等相關事宜；被告係因缺錢，為了賺取擔任人頭配偶的佣金5至6萬，並不是真的要與泰國人結婚，共犯陳玉婉係為了來臺灣工作賺錢，亦不是真的要與臺灣人結婚等語（見警三卷第2至3頁）；並於本院審理時具結證稱：當初共犯詹巧薇、張晉源等人欲找男子前往泰國結婚，伊曾刊登「男、女不限、經驗不拘」等內容之徵人廣告，被告見報應徵時，被告係因缺錢才來找伊，伊衡量被告條件後認為其只能利用結婚賺取報酬，伊才向其表示是要辦結婚，伊告知被告可安排其去泰國結婚，其不用負擔食宿及機票等費用，可實拿5至6萬元的報酬，被告同意後，伊將被告介紹予共犯詹巧薇、張晉源，共犯張晉源給付佣金1萬元予伊；伊與被告談論泰國結婚事宜時，伊與被告均不知被告之結婚對象為何人，伊亦未見過與被告結婚之泰國女子，伊僅介紹被告予共犯詹巧薇、張晉源等人，伊並未參予後續之泰國結婚、辦理結婚登記及居留申請等事情；被告曾給伊一部機車，當時被告表示要去別的地方，機車留在臺南無人使用，伊修理使用一段期間後，因再度壞掉便未再使用等語（見本院卷第68頁背面至71頁）\n",
            "--->\n",
            " 1: 乙、實體方面：一、訊據被告固坦承於上開時、地，透過共犯林清水之介紹，先至泰國辦理與共犯陳玉婉之結婚手續，再前往臺南縣永康市戶政事務所辦理結婚登記，又前往臺南縣政府警察局外事課辦理共犯陳玉婉之外僑居留證及申請居留證延期之事實，惟矢口否認有何行使使公務員登載不實文書情事，於本院審理時辯稱：伊當時經濟狀況良好，因同居女友欲去日本工作而不願結婚，然伊希望結婚生子，遂透過共犯林清水之介紹與安排，共犯林清水先讓伊看過共犯陳玉婉之照片，伊再前往泰國與共犯陳玉婉結婚，伊僅負擔自己的來回機票錢及泰國住宿費用，其他結婚費用均由共犯林清水負擔，伊則贈送伊的一部機車予共犯林清水以為回報，伊並不認識共犯詹巧薇云云\n",
            "2: 迨共犯陳玉婉來臺後，為取得居留身分，被告與共犯陳玉婉於同年6月14日及94年5月5日，均持前開戶籍謄本等資料，先後向臺南縣政府警察局外事課申請核發共犯陳玉婉之外僑居留證及申請居留證延期等情，業據被告供承在卷，並有結婚登記申請書、授權書各1份、結婚登記書、結婚證書各1份（含中文、泰文影本及我國駐泰國臺北經濟文化辦事處認證之資料）、93年6月14日及94年5月5日之外國人居留停留案件聲請表各1份、被告及共犯陳玉婉之入出國日期紀錄各1份、共犯陳玉婉之外僑居留資料查詢1份在卷可按（見警三卷即南市警一刑偵字第0994101517號卷第6至24、33頁）\n",
            "3: 上開事實，首堪認定\n",
            "=======================================================\n",
            "1: 乙、實體方面：一、訊據被告固坦承於上開時、地，透過共犯林清水之介紹，先至泰國辦理與共犯陳玉婉之結婚手續，再前往臺南縣永康市戶政事務所辦理結婚登記，又前往臺南縣政府警察局外事課辦理共犯陳玉婉之外僑居留證及申請居留證延期之事實，惟矢口否認有何行使使公務員登載不實文書情事，於本院審理時辯稱：伊當時經濟狀況良好，因同居女友欲去日本工作而不願結婚，然伊希望結婚生子，遂透過共犯林清水之介紹與安排，共犯林清水先讓伊看過共犯陳玉婉之照片，伊再前往泰國與共犯陳玉婉結婚，伊僅負擔自己的來回機票錢及泰國住宿費用，其他結婚費用均由共犯林清水負擔，伊則贈送伊的一部機車予共犯林清水以為回報，伊並不認識共犯詹巧薇云云\n",
            "2: 迨共犯陳玉婉來臺後，為取得居留身分，被告與共犯陳玉婉於同年6月14日及94年5月5日，均持前開戶籍謄本等資料，先後向臺南縣政府警察局外事課申請核發共犯陳玉婉之外僑居留證及申請居留證延期等情，業據被告供承在卷，並有結婚登記申請書、授權書各1份、結婚登記書、結婚證書各1份（含中文、泰文影本及我國駐泰國臺北經濟文化辦事處認證之資料）、93年6月14日及94年5月5日之外國人居留停留案件聲請表各1份、被告及共犯陳玉婉之入出國日期紀錄各1份、共犯陳玉婉之外僑居留資料查詢1份在卷可按（見警三卷即南市警一刑偵字第0994101517號卷第6至24、33頁）\n",
            "3: 上開事實，首堪認定\n",
            "4: 理由甲、程序方面：一、本件以下所引用具傳聞證據性質之供述證據，因本件被告陳泰龍、檢察官等人於本院準備程序進行時，均未爭執前開陳述之證據能力，且迄至本案言詞辯論終結前亦均未聲明異議，應視為已同意援引作為證據，又本院審酌前開證據作成時之情況及證據取得過程等節，並無非出於任意性、不正取供或其他違法不當情事，且客觀上亦無顯不可信之情況，堪認為適當，是依刑事訴訟法第159條之5規定，均有證據能力\n",
            "5: 二、卷附之被告及陳玉婉入出國日期紀錄各1份等書證，均非屬供述證據，皆無傳聞法則之適用，復均無違反法定程序取得之情形，依刑事訴訟法第158條之4規定之反面解釋，均應有證據能力\n",
            "6: 一、陳泰龍明知其與泰國籍女子陳玉婉（泰國名字為JARUWANWONGPRATOOM，陳玉婉涉嫌本案偽造文書部分，另經臺灣臺南地方法院檢察署檢察官通緝中）間並無結婚之真意，然因詹巧薇、張晉源等人欲找臺灣男子前往泰國與泰國女子辦理假結婚，林清水負責介紹臺灣男子予詹巧薇、張晉源等人以賺取新臺幣（下同）1萬元之仲介費，適陳泰龍依林清水於報紙上刊登之徵人廣告應徵時，由林清水告知泰國女子欲以假結婚之方式申請來臺居留工作，其若擔任假結婚之人頭老公，除不用負擔前往泰國之食宿、機票費用外，尚可獲取5、6萬元之報酬，迨陳泰龍應允同意後，林清水將其轉介紹予詹巧薇、張晉源等人，陳泰龍遂與林清水、詹巧薇、張晉源等人共同基於行使使公務員登載不實公文書之概括犯意聯絡，先由陳泰龍依指示於民國93年4月3日前往泰國，並於同年月7日與陳玉婉在泰國曼谷市法拉坎農區註冊辦事處登記結婚，取得上開註冊辦事處核發之結婚登記書、結婚證書等文件後，陳泰龍即行返臺，並於同年5月19日持經我國駐泰國臺北經濟文化辦事處認證之上開結婚登記書、結婚證書等資料，至臺南縣永康市（改制前稱謂，以下沿用舊制稱謂）戶政事務所填寫結婚登記申請書，申請辦理其與陳玉婉之結婚登記，因此使上開戶政事務所僅有形式審查權之承辦公務員陷於錯誤，於形式上審核後，將陳泰龍與陳玉婉於93年4月7日結婚之不實事項，登載於其職務上所掌屬公文書之戶籍登記資料內，並據以核發戶籍謄本，而足以生損害於戶政機關對於戶政管理及戶籍登記資料維護之正確性\n",
            "7: 經查：(一)被告於93年4月3日前往泰國，並於同年月7日與共犯陳玉婉在泰國曼谷市法拉坎農區註冊辦事處登記結婚，取得上開註冊辦事處核發之結婚登記書、結婚證書等文件後，被告即行返臺，並於同年5月19日持經我國駐泰國臺北經濟文化辦事處認證之上開結婚登記書、結婚證書等資料，至臺南縣永康市戶政事務所填寫結婚登記申請書，申請辦理其與共犯陳玉婉之結婚登記，並取得戶籍謄本\n",
            "8: 迨陳玉婉來臺後，為取得居留身分，再由陳泰龍、陳玉婉承前概括之犯意聯絡，於同年6月14日及94年5月5日，均持前開登載不實之戶籍謄本等資料，先後向臺南縣政府警察局外事課申請核發陳玉婉之外僑居留證及申請居留證延期而連續行使之（業經檢察官當庭補充），經承辦人員實質審查結果，均未發覺陳泰龍與陳玉婉假結婚之實情，而發給陳玉婉居留證或核准延期，各足以生損害於主管機關對外僑居留管理之正確性\n",
            "9:  二、案經臺南市警察局（現改制為臺南市政府警察局，以下沿用舊制稱謂）第一分局報告臺灣臺南地方法院檢察署檢察官偵查起訴\n",
            "10: (二)共犯詹巧薇、張晉源等人當時欲找臺灣人與泰國女子結婚，由共犯林清水於報紙上刊登徵人廣告，若應徵者符合與泰國人結婚之條件，便將應徵者介紹予共犯詹巧薇、張晉源等人，共犯林清水可從中獲取1萬元之仲介費，適被告依前開徵人廣告應徵，共犯林清水衡量其條件後告知其可至泰國結婚，其除不用負擔前往泰國之機票及食宿費用外，尚可獲取5至6萬元之報酬，被告應允同意後，共犯林清水將其介紹予詹巧薇、張晉源等人，被告即依指示前往泰國與為了來臺工作且無結婚真意的共犯陳玉婉辦理結婚事宜等情，業據共犯林清水於警詢時證稱：伊登報徵人到泰國結婚，被告看報紙來的，伊便轉介予共犯詹巧薇，由共犯詹巧薇安排後續到泰國結婚之事宜，被告除不用負擔前往泰國機票、食宿等費用，尚可獲取約5至6萬元酬勞，伊則可自共犯詹巧薇獲取約1萬元之仲介費用；伊只有將被告轉介予共犯詹巧薇，並未參與後續被告前往泰國之證照、機票、食宿等相關事宜；被告係因缺錢，為了賺取擔任人頭配偶的佣金5至6萬，並不是真的要與泰國人結婚，共犯陳玉婉係為了來臺灣工作賺錢，亦不是真的要與臺灣人結婚等語（見警三卷第2至3頁）；並於本院審理時具結證稱：當初共犯詹巧薇、張晉源等人欲找男子前往泰國結婚，伊曾刊登「男、女不限、經驗不拘」等內容之徵人廣告，被告見報應徵時，被告係因缺錢才來找伊，伊衡量被告條件後認為其只能利用結婚賺取報酬，伊才向其表示是要辦結婚，伊告知被告可安排其去泰國結婚，其不用負擔食宿及機票等費用，可實拿5至6萬元的報酬，被告同意後，伊將被告介紹予共犯詹巧薇、張晉源，共犯張晉源給付佣金1萬元予伊；伊與被告談論泰國結婚事宜時，伊與被告均不知被告之結婚對象為何人，伊亦未見過與被告結婚之泰國女子，伊僅介紹被告予共犯詹巧薇、張晉源等人，伊並未參予後續之泰國結婚、辦理結婚登記及居留申請等事情；被告曾給伊一部機車，當時被告表示要去別的地方，機車留在臺南無人使用，伊修理使用一段期間後，因再度壞掉便未再使用等語（見本院卷第68頁背面至71頁）\n",
            "--->\n",
            " 1: 一、陳泰龍明知其與泰國籍女子陳玉婉（泰國名字為JARUWANWONGPRATOOM，陳玉婉涉嫌本案偽造文書部分，另經臺灣臺南地方法院檢察署檢察官通緝中）間並無結婚之真意，然因詹巧薇、張晉源等人欲找臺灣男子前往泰國與泰國女子辦理假結婚，林清水負責介紹臺灣男子予詹巧薇、張晉源等人以賺取新臺幣（下同）1萬元之仲介費，適陳泰龍依林清水於報紙上刊登之徵人廣告應徵時，由林清水告知泰國女子欲以假結婚之方式申請來臺居留工作，其若擔任假結婚之人頭老公，除不用負擔前往泰國之食宿、機票費用外，尚可獲取5、6萬元之報酬，迨陳泰龍應允同意後，林清水將其轉介紹予詹巧薇、張晉源等人，陳泰龍遂與林清水、詹巧薇、張晉源等人共同基於行使使公務員登載不實公文書之概括犯意聯絡，先由陳泰龍依指示於民國93年4月3日前往泰國，並於同年月7日與陳玉婉在泰國曼谷市法拉坎農區註冊辦事處登記結婚，取得上開註冊辦事處核發之結婚登記書、結婚證書等文件後，陳泰龍即行返臺，並於同年5月19日持經我國駐泰國臺北經濟文化辦事處認證之上開結婚登記書、結婚證書等資料，至臺南縣永康市（改制前稱謂，以下沿用舊制稱謂）戶政事務所填寫結婚登記申請書，申請辦理其與陳玉婉之結婚登記，因此使上開戶政事務所僅有形式審查權之承辦公務員陷於錯誤，於形式上審核後，將陳泰龍與陳玉婉於93年4月7日結婚之不實事項，登載於其職務上所掌屬公文書之戶籍登記資料內，並據以核發戶籍謄本，而足以生損害於戶政機關對於戶政管理及戶籍登記資料維護之正確性\n",
            "=======================================================\n",
            "1: 乙、實體方面：一、訊據被告固坦承於上開時、地，透過共犯林清水之介紹，先至泰國辦理與共犯陳玉婉之結婚手續，再前往臺南縣永康市戶政事務所辦理結婚登記，又前往臺南縣政府警察局外事課辦理共犯陳玉婉之外僑居留證及申請居留證延期之事實，惟矢口否認有何行使使公務員登載不實文書情事，於本院審理時辯稱：伊當時經濟狀況良好，因同居女友欲去日本工作而不願結婚，然伊希望結婚生子，遂透過共犯林清水之介紹與安排，共犯林清水先讓伊看過共犯陳玉婉之照片，伊再前往泰國與共犯陳玉婉結婚，伊僅負擔自己的來回機票錢及泰國住宿費用，其他結婚費用均由共犯林清水負擔，伊則贈送伊的一部機車予共犯林清水以為回報，伊並不認識共犯詹巧薇云云\n",
            "2: 迨共犯陳玉婉來臺後，為取得居留身分，被告與共犯陳玉婉於同年6月14日及94年5月5日，均持前開戶籍謄本等資料，先後向臺南縣政府警察局外事課申請核發共犯陳玉婉之外僑居留證及申請居留證延期等情，業據被告供承在卷，並有結婚登記申請書、授權書各1份、結婚登記書、結婚證書各1份（含中文、泰文影本及我國駐泰國臺北經濟文化辦事處認證之資料）、93年6月14日及94年5月5日之外國人居留停留案件聲請表各1份、被告及共犯陳玉婉之入出國日期紀錄各1份、共犯陳玉婉之外僑居留資料查詢1份在卷可按（見警三卷即南市警一刑偵字第0994101517號卷第6至24、33頁）\n",
            "3: 上開事實，首堪認定\n",
            "4: 理由甲、程序方面：一、本件以下所引用具傳聞證據性質之供述證據，因本件被告陳泰龍、檢察官等人於本院準備程序進行時，均未爭執前開陳述之證據能力，且迄至本案言詞辯論終結前亦均未聲明異議，應視為已同意援引作為證據，又本院審酌前開證據作成時之情況及證據取得過程等節，並無非出於任意性、不正取供或其他違法不當情事，且客觀上亦無顯不可信之情況，堪認為適當，是依刑事訴訟法第159條之5規定，均有證據能力\n",
            "5: 二、卷附之被告及陳玉婉入出國日期紀錄各1份等書證，均非屬供述證據，皆無傳聞法則之適用，復均無違反法定程序取得之情形，依刑事訴訟法第158條之4規定之反面解釋，均應有證據能力\n",
            "6: 一、陳泰龍明知其與泰國籍女子陳玉婉（泰國名字為JARUWANWONGPRATOOM，陳玉婉涉嫌本案偽造文書部分，另經臺灣臺南地方法院檢察署檢察官通緝中）間並無結婚之真意，然因詹巧薇、張晉源等人欲找臺灣男子前往泰國與泰國女子辦理假結婚，林清水負責介紹臺灣男子予詹巧薇、張晉源等人以賺取新臺幣（下同）1萬元之仲介費，適陳泰龍依林清水於報紙上刊登之徵人廣告應徵時，由林清水告知泰國女子欲以假結婚之方式申請來臺居留工作，其若擔任假結婚之人頭老公，除不用負擔前往泰國之食宿、機票費用外，尚可獲取5、6萬元之報酬，迨陳泰龍應允同意後，林清水將其轉介紹予詹巧薇、張晉源等人，陳泰龍遂與林清水、詹巧薇、張晉源等人共同基於行使使公務員登載不實公文書之概括犯意聯絡，先由陳泰龍依指示於民國93年4月3日前往泰國，並於同年月7日與陳玉婉在泰國曼谷市法拉坎農區註冊辦事處登記結婚，取得上開註冊辦事處核發之結婚登記書、結婚證書等文件後，陳泰龍即行返臺，並於同年5月19日持經我國駐泰國臺北經濟文化辦事處認證之上開結婚登記書、結婚證書等資料，至臺南縣永康市（改制前稱謂，以下沿用舊制稱謂）戶政事務所填寫結婚登記申請書，申請辦理其與陳玉婉之結婚登記，因此使上開戶政事務所僅有形式審查權之承辦公務員陷於錯誤，於形式上審核後，將陳泰龍與陳玉婉於93年4月7日結婚之不實事項，登載於其職務上所掌屬公文書之戶籍登記資料內，並據以核發戶籍謄本，而足以生損害於戶政機關對於戶政管理及戶籍登記資料維護之正確性\n",
            "7: 經查：(一)被告於93年4月3日前往泰國，並於同年月7日與共犯陳玉婉在泰國曼谷市法拉坎農區註冊辦事處登記結婚，取得上開註冊辦事處核發之結婚登記書、結婚證書等文件後，被告即行返臺，並於同年5月19日持經我國駐泰國臺北經濟文化辦事處認證之上開結婚登記書、結婚證書等資料，至臺南縣永康市戶政事務所填寫結婚登記申請書，申請辦理其與共犯陳玉婉之結婚登記，並取得戶籍謄本\n",
            "8: 迨陳玉婉來臺後，為取得居留身分，再由陳泰龍、陳玉婉承前概括之犯意聯絡，於同年6月14日及94年5月5日，均持前開登載不實之戶籍謄本等資料，先後向臺南縣政府警察局外事課申請核發陳玉婉之外僑居留證及申請居留證延期而連續行使之（業經檢察官當庭補充），經承辦人員實質審查結果，均未發覺陳泰龍與陳玉婉假結婚之實情，而發給陳玉婉居留證或核准延期，各足以生損害於主管機關對外僑居留管理之正確性\n",
            "9:  二、案經臺南市警察局（現改制為臺南市政府警察局，以下沿用舊制稱謂）第一分局報告臺灣臺南地方法院檢察署檢察官偵查起訴\n",
            "10: (二)共犯詹巧薇、張晉源等人當時欲找臺灣人與泰國女子結婚，由共犯林清水於報紙上刊登徵人廣告，若應徵者符合與泰國人結婚之條件，便將應徵者介紹予共犯詹巧薇、張晉源等人，共犯林清水可從中獲取1萬元之仲介費，適被告依前開徵人廣告應徵，共犯林清水衡量其條件後告知其可至泰國結婚，其除不用負擔前往泰國之機票及食宿費用外，尚可獲取5至6萬元之報酬，被告應允同意後，共犯林清水將其介紹予詹巧薇、張晉源等人，被告即依指示前往泰國與為了來臺工作且無結婚真意的共犯陳玉婉辦理結婚事宜等情，業據共犯林清水於警詢時證稱：伊登報徵人到泰國結婚，被告看報紙來的，伊便轉介予共犯詹巧薇，由共犯詹巧薇安排後續到泰國結婚之事宜，被告除不用負擔前往泰國機票、食宿等費用，尚可獲取約5至6萬元酬勞，伊則可自共犯詹巧薇獲取約1萬元之仲介費用；伊只有將被告轉介予共犯詹巧薇，並未參與後續被告前往泰國之證照、機票、食宿等相關事宜；被告係因缺錢，為了賺取擔任人頭配偶的佣金5至6萬，並不是真的要與泰國人結婚，共犯陳玉婉係為了來臺灣工作賺錢，亦不是真的要與臺灣人結婚等語（見警三卷第2至3頁）；並於本院審理時具結證稱：當初共犯詹巧薇、張晉源等人欲找男子前往泰國結婚，伊曾刊登「男、女不限、經驗不拘」等內容之徵人廣告，被告見報應徵時，被告係因缺錢才來找伊，伊衡量被告條件後認為其只能利用結婚賺取報酬，伊才向其表示是要辦結婚，伊告知被告可安排其去泰國結婚，其不用負擔食宿及機票等費用，可實拿5至6萬元的報酬，被告同意後，伊將被告介紹予共犯詹巧薇、張晉源，共犯張晉源給付佣金1萬元予伊；伊與被告談論泰國結婚事宜時，伊與被告均不知被告之結婚對象為何人，伊亦未見過與被告結婚之泰國女子，伊僅介紹被告予共犯詹巧薇、張晉源等人，伊並未參予後續之泰國結婚、辦理結婚登記及居留申請等事情；被告曾給伊一部機車，當時被告表示要去別的地方，機車留在臺南無人使用，伊修理使用一段期間後，因再度壞掉便未再使用等語（見本院卷第68頁背面至71頁）\n",
            "--->\n",
            " 三個最相關的句子：\n",
            "\n",
            "1: (二)共犯詹巧薇、張晉源等人當時欲找臺灣人與泰國女子結婚，由共犯林清水於報紙上刊登徵人廣告，若應徵者符合與泰國人結婚之條件，便將應徵者介紹予共犯詹巧薇、張晉源等人，共犯林清水可從中獲取1萬元之仲介費，適被告依前開徵人廣告應徵，共犯林清水衡量其條件後告知其可至泰國結婚，其除不用負擔前往泰國之機票及食宿費用外，尚可獲取5至6萬元之報酬，被告應允同意後，共犯林清水將其介紹予詹巧薇、張晉源等人，被告即依指示前往泰國與為了來臺工作且無結婚真意的共犯陳玉婉辦理結婚事宜等情，業據共犯林清水於警詢時證稱：伊登報徵人到泰國結婚，被告看報紙來的，伊便轉介予共犯詹巧薇，由共犯詹巧薇安排後續到泰國結婚之事宜，被告除不用負擔前往泰國機票、食宿等費用，尚可獲取約5至6萬元酬勞，伊則可自共犯詹巧薇獲取約1萬元之仲介費用；伊只有將被告轉介予共犯詹巧薇，並未參與後續被告前往泰國之證照、機票、食宿等相關事宜；被告係因缺錢，為了賺取擔任人頭配偶的佣金5至6萬，並不是真的要與泰國人結婚，共犯陳玉婉係為了來臺灣工作賺錢，亦不是真的要與臺灣人結婚等語（見警三卷第2至3頁）；並於本院審理時具結證稱：當初共犯詹巧薇、張晉源等人欲找男子前往泰國結婚，伊曾刊登「男、女不限、經驗不拘」等內容之徵人廣告，被告見報應徵時，被告係因缺錢才來找伊，伊衡量被告條件後認為其只能利用結婚賺取報酬，伊才向其表示是要辦結婚，伊告知被告可安排其去泰國結婚，其不用負擔食宿及機票等費用，可實拿5至6萬元的報酬，被告同意後，伊將被告介紹予共犯詹巧薇、張晉源，共犯張晉源給付佣金1萬元予伊；伊與被告談論泰國結婚事宜時，伊與被告均不知被告之結婚對象為何人，伊亦未見過與被告結婚之泰國女子，伊僅介紹被告予共犯詹巧薇、張晉源等人，伊並未參予後續之泰國結婚、辦理結婚登記及居留申請等事情；被告曾給伊一部機車，當時被告表示要去別的地方，機車留在臺南無人使用，伊修理使用一段期間後，因再度壞掉便未再使用等語（見本院卷第68頁背面至71頁）\n",
            "\n",
            "2: 迨陳玉婉來臺後，為取得居留身分，再由陳泰龍、陳玉婉承前概括之犯意聯絡，於同年6月14日及94年5月5日，均持前開登載不實之戶籍謄本等資料，先後向臺南縣政府警察局外事課申請核發陳玉婉之外僑居留證及申請居留證延期而連續行使之（業經檢察官當庭補充），經承辦人員實質審查結果，均未發覺陳泰龍與陳玉婉假結婚之實情，而發給陳玉婉居留證或核准延期，各足以生損害於主管機關對外僑居留管理之正確性\n",
            "\n",
            "3: 二、案經臺南市警察局（現改制為臺南市政府警察局，以下沿用舊制稱謂）第一分局報告臺灣臺南地方法院檢察署檢察官偵查起訴\n",
            "=======================================================\n"
          ]
        }
      ],
      "source": [
        "print(prompt1)\n",
        "print(\"--->\")\n",
        "print(get_breeze(query+prompt1))\n",
        "print(\"=======================================================\")\n",
        "print(prompt1)\n",
        "print(\"--->\")\n",
        "print(get_breeze(query+prompt2))\n",
        "print(\"=======================================================\")\n",
        "print(prompt1)\n",
        "print(\"--->\")\n",
        "print(get_breeze(query+prompt3))\n",
        "print(\"=======================================================\")"
      ]
    },
    {
      "cell_type": "code",
      "execution_count": null,
      "metadata": {
        "colab": {
          "base_uri": "https://localhost:8080/",
          "height": 125
        },
        "id": "BaFFeTdmQ07M",
        "outputId": "b8638d3f-d5b1-491c-8b4e-b43ba38a2b4e"
      },
      "outputs": [
        {
          "data": {
            "application/vnd.google.colaboratory.intrinsic+json": {
              "type": "string"
            },
            "text/plain": [
              "' Extraction-based summarization 是一種自然語言處理 (NLP) 的技術，主要目的是將一段長文本 (如文章、文章或文章) 濃縮成一個更短、更簡單的摘要。這個過程通常涉及以下幾個主要步驟：\\n\\n1. 文本分析：首先，需要對原始文本進行分析，以識別重要的詞彙、句子和概念。這通常涉及使用自然語言處理技術，如詞性標記、命名實體識別和情感分析。\\n2. 特徵提取：在文本分析後，需要提取重要的特徵，如關鍵詞、句子和概念。這可以通過計算詞彙頻率、詞彙重要性、句子長度和其他特徵來完成。\\n3. 摘要生成：根據提取的特徵，生成一個摘要。這可以通過不同的方法完成，如：\\n\\n   a. 單詞級摘要：將重要的單詞組合成一個摘要。\\n   b. 句子級摘要：將重要的句子組合成一個摘要。\\n   c. 混合級摘要：將重要的單詞和句子混合，生成一個摘要。\\n\\n4. 摘要評估：最後，需要對生成的摘要進行評估，以確定其質量。這可以通過計算摘要的長度、準確度、一致性等指標來完成。\\n\\nExtraction-based summarization 通常適用於長文本，如新聞文章、報告或書籍。它可以有效地提取重要信息，使用戶可以快速了解文本的主要內容。然而，它也有一些限制，如可能遺漏某些重要信息或無法捕捉到文本的情感和背景。'"
            ]
          },
          "execution_count": 128,
          "metadata": {},
          "output_type": "execute_result"
        }
      ],
      "source": [
        "get_breeze(\"what is Extraction-based summerization\")"
      ]
    },
    {
      "cell_type": "code",
      "execution_count": null,
      "metadata": {
        "id": "E_FBgDTiQlmp"
      },
      "outputs": [],
      "source": [
        "query = \"我想請你幫我對一篇判決書做Extraction-based summarization，我已經將這篇判決書切成多個句子，請幫我從這些句子中挑選出和犯罪事實情節描述最相關的三個句子。句子如下：\\n\""
      ]
    },
    {
      "cell_type": "code",
      "execution_count": null,
      "metadata": {
        "colab": {
          "base_uri": "https://localhost:8080/"
        },
        "id": "7pZ8Z6wqQnRP",
        "outputId": "ffcfa00f-69da-4ab7-b935-eb59c7632102"
      },
      "outputs": [
        {
          "name": "stdout",
          "output_type": "stream",
          "text": [
            "1: 乙、實體方面：一、訊據被告固坦承於上開時、地，透過共犯林清水之介紹，先至泰國辦理與共犯陳玉婉之結婚手續，再前往臺南縣永康市戶政事務所辦理結婚登記，又前往臺南縣政府警察局外事課辦理共犯陳玉婉之外僑居留證及申請居留證延期之事實，惟矢口否認有何行使使公務員登載不實文書情事，於本院審理時辯稱：伊當時經濟狀況良好，因同居女友欲去日本工作而不願結婚，然伊希望結婚生子，遂透過共犯林清水之介紹與安排，共犯林清水先讓伊看過共犯陳玉婉之照片，伊再前往泰國與共犯陳玉婉結婚，伊僅負擔自己的來回機票錢及泰國住宿費用，其他結婚費用均由共犯林清水負擔，伊則贈送伊的一部機車予共犯林清水以為回報，伊並不認識共犯詹巧薇云云\n",
            "2: 迨共犯陳玉婉來臺後，為取得居留身分，被告與共犯陳玉婉於同年6月14日及94年5月5日，均持前開戶籍謄本等資料，先後向臺南縣政府警察局外事課申請核發共犯陳玉婉之外僑居留證及申請居留證延期等情，業據被告供承在卷，並有結婚登記申請書、授權書各1份、結婚登記書、結婚證書各1份（含中文、泰文影本及我國駐泰國臺北經濟文化辦事處認證之資料）、93年6月14日及94年5月5日之外國人居留停留案件聲請表各1份、被告及共犯陳玉婉之入出國日期紀錄各1份、共犯陳玉婉之外僑居留資料查詢1份在卷可按（見警三卷即南市警一刑偵字第0994101517號卷第6至24、33頁）\n",
            "3: 上開事實，首堪認定\n",
            "4: 理由甲、程序方面：一、本件以下所引用具傳聞證據性質之供述證據，因本件被告陳泰龍、檢察官等人於本院準備程序進行時，均未爭執前開陳述之證據能力，且迄至本案言詞辯論終結前亦均未聲明異議，應視為已同意援引作為證據，又本院審酌前開證據作成時之情況及證據取得過程等節，並無非出於任意性、不正取供或其他違法不當情事，且客觀上亦無顯不可信之情況，堪認為適當，是依刑事訴訟法第159條之5規定，均有證據能力\n",
            "5: 二、卷附之被告及陳玉婉入出國日期紀錄各1份等書證，均非屬供述證據，皆無傳聞法則之適用，復均無違反法定程序取得之情形，依刑事訴訟法第158條之4規定之反面解釋，均應有證據能力\n",
            "6: 一、陳泰龍明知其與泰國籍女子陳玉婉（泰國名字為JARUWANWONGPRATOOM，陳玉婉涉嫌本案偽造文書部分，另經臺灣臺南地方法院檢察署檢察官通緝中）間並無結婚之真意，然因詹巧薇、張晉源等人欲找臺灣男子前往泰國與泰國女子辦理假結婚，林清水負責介紹臺灣男子予詹巧薇、張晉源等人以賺取新臺幣（下同）1萬元之仲介費，適陳泰龍依林清水於報紙上刊登之徵人廣告應徵時，由林清水告知泰國女子欲以假結婚之方式申請來臺居留工作，其若擔任假結婚之人頭老公，除不用負擔前往泰國之食宿、機票費用外，尚可獲取5、6萬元之報酬，迨陳泰龍應允同意後，林清水將其轉介紹予詹巧薇、張晉源等人，陳泰龍遂與林清水、詹巧薇、張晉源等人共同基於行使使公務員登載不實公文書之概括犯意聯絡，先由陳泰龍依指示於民國93年4月3日前往泰國，並於同年月7日與陳玉婉在泰國曼谷市法拉坎農區註冊辦事處登記結婚，取得上開註冊辦事處核發之結婚登記書、結婚證書等文件後，陳泰龍即行返臺，並於同年5月19日持經我國駐泰國臺北經濟文化辦事處認證之上開結婚登記書、結婚證書等資料，至臺南縣永康市（改制前稱謂，以下沿用舊制稱謂）戶政事務所填寫結婚登記申請書，申請辦理其與陳玉婉之結婚登記，因此使上開戶政事務所僅有形式審查權之承辦公務員陷於錯誤，於形式上審核後，將陳泰龍與陳玉婉於93年4月7日結婚之不實事項，登載於其職務上所掌屬公文書之戶籍登記資料內，並據以核發戶籍謄本，而足以生損害於戶政機關對於戶政管理及戶籍登記資料維護之正確性\n",
            "7: 經查：(一)被告於93年4月3日前往泰國，並於同年月7日與共犯陳玉婉在泰國曼谷市法拉坎農區註冊辦事處登記結婚，取得上開註冊辦事處核發之結婚登記書、結婚證書等文件後，被告即行返臺，並於同年5月19日持經我國駐泰國臺北經濟文化辦事處認證之上開結婚登記書、結婚證書等資料，至臺南縣永康市戶政事務所填寫結婚登記申請書，申請辦理其與共犯陳玉婉之結婚登記，並取得戶籍謄本\n",
            "8: 迨陳玉婉來臺後，為取得居留身分，再由陳泰龍、陳玉婉承前概括之犯意聯絡，於同年6月14日及94年5月5日，均持前開登載不實之戶籍謄本等資料，先後向臺南縣政府警察局外事課申請核發陳玉婉之外僑居留證及申請居留證延期而連續行使之（業經檢察官當庭補充），經承辦人員實質審查結果，均未發覺陳泰龍與陳玉婉假結婚之實情，而發給陳玉婉居留證或核准延期，各足以生損害於主管機關對外僑居留管理之正確性\n",
            "9:  二、案經臺南市警察局（現改制為臺南市政府警察局，以下沿用舊制稱謂）第一分局報告臺灣臺南地方法院檢察署檢察官偵查起訴\n",
            "10: (二)共犯詹巧薇、張晉源等人當時欲找臺灣人與泰國女子結婚，由共犯林清水於報紙上刊登徵人廣告，若應徵者符合與泰國人結婚之條件，便將應徵者介紹予共犯詹巧薇、張晉源等人，共犯林清水可從中獲取1萬元之仲介費，適被告依前開徵人廣告應徵，共犯林清水衡量其條件後告知其可至泰國結婚，其除不用負擔前往泰國之機票及食宿費用外，尚可獲取5至6萬元之報酬，被告應允同意後，共犯林清水將其介紹予詹巧薇、張晉源等人，被告即依指示前往泰國與為了來臺工作且無結婚真意的共犯陳玉婉辦理結婚事宜等情，業據共犯林清水於警詢時證稱：伊登報徵人到泰國結婚，被告看報紙來的，伊便轉介予共犯詹巧薇，由共犯詹巧薇安排後續到泰國結婚之事宜，被告除不用負擔前往泰國機票、食宿等費用，尚可獲取約5至6萬元酬勞，伊則可自共犯詹巧薇獲取約1萬元之仲介費用；伊只有將被告轉介予共犯詹巧薇，並未參與後續被告前往泰國之證照、機票、食宿等相關事宜；被告係因缺錢，為了賺取擔任人頭配偶的佣金5至6萬，並不是真的要與泰國人結婚，共犯陳玉婉係為了來臺灣工作賺錢，亦不是真的要與臺灣人結婚等語（見警三卷第2至3頁）；並於本院審理時具結證稱：當初共犯詹巧薇、張晉源等人欲找男子前往泰國結婚，伊曾刊登「男、女不限、經驗不拘」等內容之徵人廣告，被告見報應徵時，被告係因缺錢才來找伊，伊衡量被告條件後認為其只能利用結婚賺取報酬，伊才向其表示是要辦結婚，伊告知被告可安排其去泰國結婚，其不用負擔食宿及機票等費用，可實拿5至6萬元的報酬，被告同意後，伊將被告介紹予共犯詹巧薇、張晉源，共犯張晉源給付佣金1萬元予伊；伊與被告談論泰國結婚事宜時，伊與被告均不知被告之結婚對象為何人，伊亦未見過與被告結婚之泰國女子，伊僅介紹被告予共犯詹巧薇、張晉源等人，伊並未參予後續之泰國結婚、辦理結婚登記及居留申請等事情；被告曾給伊一部機車，當時被告表示要去別的地方，機車留在臺南無人使用，伊修理使用一段期間後，因再度壞掉便未再使用等語（見本院卷第68頁背面至71頁）\n",
            "--->\n",
            " 1: 被告坦承於上開時、地，透過共犯林清水之介紹，先至泰國辦理與共犯陳玉婉之結婚手續，再前往臺南縣永康市戶政事務所辦理結婚登記，又前往臺南縣政府警察局外事課辦理共犯陳玉婉之外僑居留證及申請居留證延期之事實。\n",
            "2: 被告與共犯陳玉婉於同年6月14日及94年5月5日，均持前開戶籍謄本等資料，先後向臺南縣政府警察局外事課申請核發共犯陳玉婉之外僑居留證及申請居留證延期等情，業據被告供承在卷。\n",
            "3: 陳泰龍與泰國籍女子陳玉婉（泰國名字為JARUWANWONGPRATOOM）間並無結婚之真意，然因詹巧薇、張晉源等人欲找臺灣男子前往泰國與泰國女子辦理假結婚，林清水負責介紹臺灣男子予詹巧薇、張晉源等人以賺取1萬元之仲介費，適陳泰龍依林清水於報紙上刊登之徵人廣告應徵後，林清水將其轉介紹予詹巧薇、張晉源等人，陳泰龍遂與林清水、詹巧薇、張晉源等人共同基於行使使公務員登載不實公文書之概括犯意聯絡，先由陳泰龍依指示於民國93年4月3日前往泰國，並於同年月7日與陳玉婉在泰國曼谷市法拉坎農區註冊辦事處登記結婚，取得上開註冊辦事處核發之結婚登記書、結婚證書等文件後，陳泰龍即行返臺，並於同年5月19日持經我國駐泰國臺北經濟文化辦事處認證之上開結婚登記書、結婚證書等資料，至臺南縣永康市戶政事務所填寫結婚登記申請書，申請辦理其與陳玉婉之結婚登記，因此使上開戶政事務所僅有形式審查權之承辦公務員陷於錯誤，於形式上審核後，將陳泰龍與陳玉婉於93年4月7日結婚之不實事項，登載於其職務上所掌屬公文書之戶籍登記資料內，並據以核發戶籍謄本，而足以生損害於戶政機關對於戶政管理及戶籍登記資料維護之正確性。\n",
            "=======================================================\n",
            "1: 乙、實體方面：一、訊據被告固坦承於上開時、地，透過共犯林清水之介紹，先至泰國辦理與共犯陳玉婉之結婚手續，再前往臺南縣永康市戶政事務所辦理結婚登記，又前往臺南縣政府警察局外事課辦理共犯陳玉婉之外僑居留證及申請居留證延期之事實，惟矢口否認有何行使使公務員登載不實文書情事，於本院審理時辯稱：伊當時經濟狀況良好，因同居女友欲去日本工作而不願結婚，然伊希望結婚生子，遂透過共犯林清水之介紹與安排，共犯林清水先讓伊看過共犯陳玉婉之照片，伊再前往泰國與共犯陳玉婉結婚，伊僅負擔自己的來回機票錢及泰國住宿費用，其他結婚費用均由共犯林清水負擔，伊則贈送伊的一部機車予共犯林清水以為回報，伊並不認識共犯詹巧薇云云\n",
            "2: 迨共犯陳玉婉來臺後，為取得居留身分，被告與共犯陳玉婉於同年6月14日及94年5月5日，均持前開戶籍謄本等資料，先後向臺南縣政府警察局外事課申請核發共犯陳玉婉之外僑居留證及申請居留證延期等情，業據被告供承在卷，並有結婚登記申請書、授權書各1份、結婚登記書、結婚證書各1份（含中文、泰文影本及我國駐泰國臺北經濟文化辦事處認證之資料）、93年6月14日及94年5月5日之外國人居留停留案件聲請表各1份、被告及共犯陳玉婉之入出國日期紀錄各1份、共犯陳玉婉之外僑居留資料查詢1份在卷可按（見警三卷即南市警一刑偵字第0994101517號卷第6至24、33頁）\n",
            "3: 上開事實，首堪認定\n",
            "4: 理由甲、程序方面：一、本件以下所引用具傳聞證據性質之供述證據，因本件被告陳泰龍、檢察官等人於本院準備程序進行時，均未爭執前開陳述之證據能力，且迄至本案言詞辯論終結前亦均未聲明異議，應視為已同意援引作為證據，又本院審酌前開證據作成時之情況及證據取得過程等節，並無非出於任意性、不正取供或其他違法不當情事，且客觀上亦無顯不可信之情況，堪認為適當，是依刑事訴訟法第159條之5規定，均有證據能力\n",
            "5: 二、卷附之被告及陳玉婉入出國日期紀錄各1份等書證，均非屬供述證據，皆無傳聞法則之適用，復均無違反法定程序取得之情形，依刑事訴訟法第158條之4規定之反面解釋，均應有證據能力\n",
            "6: 一、陳泰龍明知其與泰國籍女子陳玉婉（泰國名字為JARUWANWONGPRATOOM，陳玉婉涉嫌本案偽造文書部分，另經臺灣臺南地方法院檢察署檢察官通緝中）間並無結婚之真意，然因詹巧薇、張晉源等人欲找臺灣男子前往泰國與泰國女子辦理假結婚，林清水負責介紹臺灣男子予詹巧薇、張晉源等人以賺取新臺幣（下同）1萬元之仲介費，適陳泰龍依林清水於報紙上刊登之徵人廣告應徵時，由林清水告知泰國女子欲以假結婚之方式申請來臺居留工作，其若擔任假結婚之人頭老公，除不用負擔前往泰國之食宿、機票費用外，尚可獲取5、6萬元之報酬，迨陳泰龍應允同意後，林清水將其轉介紹予詹巧薇、張晉源等人，陳泰龍遂與林清水、詹巧薇、張晉源等人共同基於行使使公務員登載不實公文書之概括犯意聯絡，先由陳泰龍依指示於民國93年4月3日前往泰國，並於同年月7日與陳玉婉在泰國曼谷市法拉坎農區註冊辦事處登記結婚，取得上開註冊辦事處核發之結婚登記書、結婚證書等文件後，陳泰龍即行返臺，並於同年5月19日持經我國駐泰國臺北經濟文化辦事處認證之上開結婚登記書、結婚證書等資料，至臺南縣永康市（改制前稱謂，以下沿用舊制稱謂）戶政事務所填寫結婚登記申請書，申請辦理其與陳玉婉之結婚登記，因此使上開戶政事務所僅有形式審查權之承辦公務員陷於錯誤，於形式上審核後，將陳泰龍與陳玉婉於93年4月7日結婚之不實事項，登載於其職務上所掌屬公文書之戶籍登記資料內，並據以核發戶籍謄本，而足以生損害於戶政機關對於戶政管理及戶籍登記資料維護之正確性\n",
            "7: 經查：(一)被告於93年4月3日前往泰國，並於同年月7日與共犯陳玉婉在泰國曼谷市法拉坎農區註冊辦事處登記結婚，取得上開註冊辦事處核發之結婚登記書、結婚證書等文件後，被告即行返臺，並於同年5月19日持經我國駐泰國臺北經濟文化辦事處認證之上開結婚登記書、結婚證書等資料，至臺南縣永康市戶政事務所填寫結婚登記申請書，申請辦理其與共犯陳玉婉之結婚登記，並取得戶籍謄本\n",
            "8: 迨陳玉婉來臺後，為取得居留身分，再由陳泰龍、陳玉婉承前概括之犯意聯絡，於同年6月14日及94年5月5日，均持前開登載不實之戶籍謄本等資料，先後向臺南縣政府警察局外事課申請核發陳玉婉之外僑居留證及申請居留證延期而連續行使之（業經檢察官當庭補充），經承辦人員實質審查結果，均未發覺陳泰龍與陳玉婉假結婚之實情，而發給陳玉婉居留證或核准延期，各足以生損害於主管機關對外僑居留管理之正確性\n",
            "9:  二、案經臺南市警察局（現改制為臺南市政府警察局，以下沿用舊制稱謂）第一分局報告臺灣臺南地方法院檢察署檢察官偵查起訴\n",
            "10: (二)共犯詹巧薇、張晉源等人當時欲找臺灣人與泰國女子結婚，由共犯林清水於報紙上刊登徵人廣告，若應徵者符合與泰國人結婚之條件，便將應徵者介紹予共犯詹巧薇、張晉源等人，共犯林清水可從中獲取1萬元之仲介費，適被告依前開徵人廣告應徵，共犯林清水衡量其條件後告知其可至泰國結婚，其除不用負擔前往泰國之機票及食宿費用外，尚可獲取5至6萬元之報酬，被告應允同意後，共犯林清水將其介紹予詹巧薇、張晉源等人，被告即依指示前往泰國與為了來臺工作且無結婚真意的共犯陳玉婉辦理結婚事宜等情，業據共犯林清水於警詢時證稱：伊登報徵人到泰國結婚，被告看報紙來的，伊便轉介予共犯詹巧薇，由共犯詹巧薇安排後續到泰國結婚之事宜，被告除不用負擔前往泰國機票、食宿等費用，尚可獲取約5至6萬元酬勞，伊則可自共犯詹巧薇獲取約1萬元之仲介費用；伊只有將被告轉介予共犯詹巧薇，並未參與後續被告前往泰國之證照、機票、食宿等相關事宜；被告係因缺錢，為了賺取擔任人頭配偶的佣金5至6萬，並不是真的要與泰國人結婚，共犯陳玉婉係為了來臺灣工作賺錢，亦不是真的要與臺灣人結婚等語（見警三卷第2至3頁）；並於本院審理時具結證稱：當初共犯詹巧薇、張晉源等人欲找男子前往泰國結婚，伊曾刊登「男、女不限、經驗不拘」等內容之徵人廣告，被告見報應徵時，被告係因缺錢才來找伊，伊衡量被告條件後認為其只能利用結婚賺取報酬，伊才向其表示是要辦結婚，伊告知被告可安排其去泰國結婚，其不用負擔食宿及機票等費用，可實拿5至6萬元的報酬，被告同意後，伊將被告介紹予共犯詹巧薇、張晉源，共犯張晉源給付佣金1萬元予伊；伊與被告談論泰國結婚事宜時，伊與被告均不知被告之結婚對象為何人，伊亦未見過與被告結婚之泰國女子，伊僅介紹被告予共犯詹巧薇、張晉源等人，伊並未參予後續之泰國結婚、辦理結婚登記及居留申請等事情；被告曾給伊一部機車，當時被告表示要去別的地方，機車留在臺南無人使用，伊修理使用一段期間後，因再度壞掉便未再使用等語（見本院卷第68頁背面至71頁）\n",
            "--->\n",
            " 1: 被告明知與泰國籍女子陳玉婉（JARUWANWONGPRATOOM）間並無結婚真意，仍與林清水、詹巧薇、張晉源等人共同基於行使使公務員登載不實公文書之概括犯意聯絡，辦理假結婚並申請來臺居留工作。\n",
            "2: 陳泰龍與陳玉婉在泰國辦理結婚手續後，返回臺灣，持相關文件至戶政事務所及警察局外事課辦理結婚登記及居留證申請，使承辦人員陷於錯誤，核發戶籍謄本和居留證。\n",
            "3: 本案經臺南市警察局第一分局報告臺灣臺南地方法院檢察署檢察官偵查起訴。\n",
            "=======================================================\n",
            "1: 乙、實體方面：一、訊據被告固坦承於上開時、地，透過共犯林清水之介紹，先至泰國辦理與共犯陳玉婉之結婚手續，再前往臺南縣永康市戶政事務所辦理結婚登記，又前往臺南縣政府警察局外事課辦理共犯陳玉婉之外僑居留證及申請居留證延期之事實，惟矢口否認有何行使使公務員登載不實文書情事，於本院審理時辯稱：伊當時經濟狀況良好，因同居女友欲去日本工作而不願結婚，然伊希望結婚生子，遂透過共犯林清水之介紹與安排，共犯林清水先讓伊看過共犯陳玉婉之照片，伊再前往泰國與共犯陳玉婉結婚，伊僅負擔自己的來回機票錢及泰國住宿費用，其他結婚費用均由共犯林清水負擔，伊則贈送伊的一部機車予共犯林清水以為回報，伊並不認識共犯詹巧薇云云\n",
            "2: 迨共犯陳玉婉來臺後，為取得居留身分，被告與共犯陳玉婉於同年6月14日及94年5月5日，均持前開戶籍謄本等資料，先後向臺南縣政府警察局外事課申請核發共犯陳玉婉之外僑居留證及申請居留證延期等情，業據被告供承在卷，並有結婚登記申請書、授權書各1份、結婚登記書、結婚證書各1份（含中文、泰文影本及我國駐泰國臺北經濟文化辦事處認證之資料）、93年6月14日及94年5月5日之外國人居留停留案件聲請表各1份、被告及共犯陳玉婉之入出國日期紀錄各1份、共犯陳玉婉之外僑居留資料查詢1份在卷可按（見警三卷即南市警一刑偵字第0994101517號卷第6至24、33頁）\n",
            "3: 上開事實，首堪認定\n",
            "4: 理由甲、程序方面：一、本件以下所引用具傳聞證據性質之供述證據，因本件被告陳泰龍、檢察官等人於本院準備程序進行時，均未爭執前開陳述之證據能力，且迄至本案言詞辯論終結前亦均未聲明異議，應視為已同意援引作為證據，又本院審酌前開證據作成時之情況及證據取得過程等節，並無非出於任意性、不正取供或其他違法不當情事，且客觀上亦無顯不可信之情況，堪認為適當，是依刑事訴訟法第159條之5規定，均有證據能力\n",
            "5: 二、卷附之被告及陳玉婉入出國日期紀錄各1份等書證，均非屬供述證據，皆無傳聞法則之適用，復均無違反法定程序取得之情形，依刑事訴訟法第158條之4規定之反面解釋，均應有證據能力\n",
            "6: 一、陳泰龍明知其與泰國籍女子陳玉婉（泰國名字為JARUWANWONGPRATOOM，陳玉婉涉嫌本案偽造文書部分，另經臺灣臺南地方法院檢察署檢察官通緝中）間並無結婚之真意，然因詹巧薇、張晉源等人欲找臺灣男子前往泰國與泰國女子辦理假結婚，林清水負責介紹臺灣男子予詹巧薇、張晉源等人以賺取新臺幣（下同）1萬元之仲介費，適陳泰龍依林清水於報紙上刊登之徵人廣告應徵時，由林清水告知泰國女子欲以假結婚之方式申請來臺居留工作，其若擔任假結婚之人頭老公，除不用負擔前往泰國之食宿、機票費用外，尚可獲取5、6萬元之報酬，迨陳泰龍應允同意後，林清水將其轉介紹予詹巧薇、張晉源等人，陳泰龍遂與林清水、詹巧薇、張晉源等人共同基於行使使公務員登載不實公文書之概括犯意聯絡，先由陳泰龍依指示於民國93年4月3日前往泰國，並於同年月7日與陳玉婉在泰國曼谷市法拉坎農區註冊辦事處登記結婚，取得上開註冊辦事處核發之結婚登記書、結婚證書等文件後，陳泰龍即行返臺，並於同年5月19日持經我國駐泰國臺北經濟文化辦事處認證之上開結婚登記書、結婚證書等資料，至臺南縣永康市（改制前稱謂，以下沿用舊制稱謂）戶政事務所填寫結婚登記申請書，申請辦理其與陳玉婉之結婚登記，因此使上開戶政事務所僅有形式審查權之承辦公務員陷於錯誤，於形式上審核後，將陳泰龍與陳玉婉於93年4月7日結婚之不實事項，登載於其職務上所掌屬公文書之戶籍登記資料內，並據以核發戶籍謄本，而足以生損害於戶政機關對於戶政管理及戶籍登記資料維護之正確性\n",
            "7: 經查：(一)被告於93年4月3日前往泰國，並於同年月7日與共犯陳玉婉在泰國曼谷市法拉坎農區註冊辦事處登記結婚，取得上開註冊辦事處核發之結婚登記書、結婚證書等文件後，被告即行返臺，並於同年5月19日持經我國駐泰國臺北經濟文化辦事處認證之上開結婚登記書、結婚證書等資料，至臺南縣永康市戶政事務所填寫結婚登記申請書，申請辦理其與共犯陳玉婉之結婚登記，並取得戶籍謄本\n",
            "8: 迨陳玉婉來臺後，為取得居留身分，再由陳泰龍、陳玉婉承前概括之犯意聯絡，於同年6月14日及94年5月5日，均持前開登載不實之戶籍謄本等資料，先後向臺南縣政府警察局外事課申請核發陳玉婉之外僑居留證及申請居留證延期而連續行使之（業經檢察官當庭補充），經承辦人員實質審查結果，均未發覺陳泰龍與陳玉婉假結婚之實情，而發給陳玉婉居留證或核准延期，各足以生損害於主管機關對外僑居留管理之正確性\n",
            "9:  二、案經臺南市警察局（現改制為臺南市政府警察局，以下沿用舊制稱謂）第一分局報告臺灣臺南地方法院檢察署檢察官偵查起訴\n",
            "10: (二)共犯詹巧薇、張晉源等人當時欲找臺灣人與泰國女子結婚，由共犯林清水於報紙上刊登徵人廣告，若應徵者符合與泰國人結婚之條件，便將應徵者介紹予共犯詹巧薇、張晉源等人，共犯林清水可從中獲取1萬元之仲介費，適被告依前開徵人廣告應徵，共犯林清水衡量其條件後告知其可至泰國結婚，其除不用負擔前往泰國之機票及食宿費用外，尚可獲取5至6萬元之報酬，被告應允同意後，共犯林清水將其介紹予詹巧薇、張晉源等人，被告即依指示前往泰國與為了來臺工作且無結婚真意的共犯陳玉婉辦理結婚事宜等情，業據共犯林清水於警詢時證稱：伊登報徵人到泰國結婚，被告看報紙來的，伊便轉介予共犯詹巧薇，由共犯詹巧薇安排後續到泰國結婚之事宜，被告除不用負擔前往泰國機票、食宿等費用，尚可獲取約5至6萬元酬勞，伊則可自共犯詹巧薇獲取約1萬元之仲介費用；伊只有將被告轉介予共犯詹巧薇，並未參與後續被告前往泰國之證照、機票、食宿等相關事宜；被告係因缺錢，為了賺取擔任人頭配偶的佣金5至6萬，並不是真的要與泰國人結婚，共犯陳玉婉係為了來臺灣工作賺錢，亦不是真的要與臺灣人結婚等語（見警三卷第2至3頁）；並於本院審理時具結證稱：當初共犯詹巧薇、張晉源等人欲找男子前往泰國結婚，伊曾刊登「男、女不限、經驗不拘」等內容之徵人廣告，被告見報應徵時，被告係因缺錢才來找伊，伊衡量被告條件後認為其只能利用結婚賺取報酬，伊才向其表示是要辦結婚，伊告知被告可安排其去泰國結婚，其不用負擔食宿及機票等費用，可實拿5至6萬元的報酬，被告同意後，伊將被告介紹予共犯詹巧薇、張晉源，共犯張晉源給付佣金1萬元予伊；伊與被告談論泰國結婚事宜時，伊與被告均不知被告之結婚對象為何人，伊亦未見過與被告結婚之泰國女子，伊僅介紹被告予共犯詹巧薇、張晉源等人，伊並未參予後續之泰國結婚、辦理結婚登記及居留申請等事情；被告曾給伊一部機車，當時被告表示要去別的地方，機車留在臺南無人使用，伊修理使用一段期間後，因再度壞掉便未再使用等語（見本院卷第68頁背面至71頁）\n",
            "--->\n",
            " 1. 被告依林清水的介紹前往泰國與共犯陳玉婉辦理結婚手續，並取得戶籍謄本。\n",
            "2. 被告與共犯陳玉婉共同行使使公務員登載不實文書，以取得共犯陳玉婉之外僑居留證及居留證延期。\n",
            "3. 被告與共犯林清水、詹巧薇、張晉源等人共同基於行使使公務員登載不實公文書之概括犯意聯絡。\n",
            "=======================================================\n"
          ]
        }
      ],
      "source": [
        "print(prompt1)\n",
        "print(\"--->\")\n",
        "print(get_breeze(query+prompt1))\n",
        "print(\"=======================================================\")\n",
        "print(prompt1)\n",
        "print(\"--->\")\n",
        "print(get_breeze(query+prompt2))\n",
        "print(\"=======================================================\")\n",
        "print(prompt1)\n",
        "print(\"--->\")\n",
        "print(get_breeze(query+prompt3))\n",
        "print(\"=======================================================\")"
      ]
    },
    {
      "cell_type": "code",
      "execution_count": null,
      "metadata": {
        "id": "d9bWwJkkRVrm"
      },
      "outputs": [],
      "source": [
        "query = \"我想請你幫我對一篇判決書做犯罪事實情節的Extraction-based summarization，我已經將這篇判決書切成多個句子，請幫我從這些句子中挑選出和犯罪事實情節描述最相關的三個句子。句子如下：\\n\""
      ]
    },
    {
      "cell_type": "code",
      "execution_count": null,
      "metadata": {
        "colab": {
          "base_uri": "https://localhost:8080/"
        },
        "id": "vW9JcTMBRXEt",
        "outputId": "4ed5e51b-ded7-4a2c-b88d-d7860c5e3459"
      },
      "outputs": [
        {
          "name": "stdout",
          "output_type": "stream",
          "text": [
            "1: 乙、實體方面：一、訊據被告固坦承於上開時、地，透過共犯林清水之介紹，先至泰國辦理與共犯陳玉婉之結婚手續，再前往臺南縣永康市戶政事務所辦理結婚登記，又前往臺南縣政府警察局外事課辦理共犯陳玉婉之外僑居留證及申請居留證延期之事實，惟矢口否認有何行使使公務員登載不實文書情事，於本院審理時辯稱：伊當時經濟狀況良好，因同居女友欲去日本工作而不願結婚，然伊希望結婚生子，遂透過共犯林清水之介紹與安排，共犯林清水先讓伊看過共犯陳玉婉之照片，伊再前往泰國與共犯陳玉婉結婚，伊僅負擔自己的來回機票錢及泰國住宿費用，其他結婚費用均由共犯林清水負擔，伊則贈送伊的一部機車予共犯林清水以為回報，伊並不認識共犯詹巧薇云云\n",
            "2: 迨共犯陳玉婉來臺後，為取得居留身分，被告與共犯陳玉婉於同年6月14日及94年5月5日，均持前開戶籍謄本等資料，先後向臺南縣政府警察局外事課申請核發共犯陳玉婉之外僑居留證及申請居留證延期等情，業據被告供承在卷，並有結婚登記申請書、授權書各1份、結婚登記書、結婚證書各1份（含中文、泰文影本及我國駐泰國臺北經濟文化辦事處認證之資料）、93年6月14日及94年5月5日之外國人居留停留案件聲請表各1份、被告及共犯陳玉婉之入出國日期紀錄各1份、共犯陳玉婉之外僑居留資料查詢1份在卷可按（見警三卷即南市警一刑偵字第0994101517號卷第6至24、33頁）\n",
            "3: 上開事實，首堪認定\n",
            "4: 理由甲、程序方面：一、本件以下所引用具傳聞證據性質之供述證據，因本件被告陳泰龍、檢察官等人於本院準備程序進行時，均未爭執前開陳述之證據能力，且迄至本案言詞辯論終結前亦均未聲明異議，應視為已同意援引作為證據，又本院審酌前開證據作成時之情況及證據取得過程等節，並無非出於任意性、不正取供或其他違法不當情事，且客觀上亦無顯不可信之情況，堪認為適當，是依刑事訴訟法第159條之5規定，均有證據能力\n",
            "5: 二、卷附之被告及陳玉婉入出國日期紀錄各1份等書證，均非屬供述證據，皆無傳聞法則之適用，復均無違反法定程序取得之情形，依刑事訴訟法第158條之4規定之反面解釋，均應有證據能力\n",
            "6: 一、陳泰龍明知其與泰國籍女子陳玉婉（泰國名字為JARUWANWONGPRATOOM，陳玉婉涉嫌本案偽造文書部分，另經臺灣臺南地方法院檢察署檢察官通緝中）間並無結婚之真意，然因詹巧薇、張晉源等人欲找臺灣男子前往泰國與泰國女子辦理假結婚，林清水負責介紹臺灣男子予詹巧薇、張晉源等人以賺取新臺幣（下同）1萬元之仲介費，適陳泰龍依林清水於報紙上刊登之徵人廣告應徵時，由林清水告知泰國女子欲以假結婚之方式申請來臺居留工作，其若擔任假結婚之人頭老公，除不用負擔前往泰國之食宿、機票費用外，尚可獲取5、6萬元之報酬，迨陳泰龍應允同意後，林清水將其轉介紹予詹巧薇、張晉源等人，陳泰龍遂與林清水、詹巧薇、張晉源等人共同基於行使使公務員登載不實公文書之概括犯意聯絡，先由陳泰龍依指示於民國93年4月3日前往泰國，並於同年月7日與陳玉婉在泰國曼谷市法拉坎農區註冊辦事處登記結婚，取得上開註冊辦事處核發之結婚登記書、結婚證書等文件後，陳泰龍即行返臺，並於同年5月19日持經我國駐泰國臺北經濟文化辦事處認證之上開結婚登記書、結婚證書等資料，至臺南縣永康市（改制前稱謂，以下沿用舊制稱謂）戶政事務所填寫結婚登記申請書，申請辦理其與陳玉婉之結婚登記，因此使上開戶政事務所僅有形式審查權之承辦公務員陷於錯誤，於形式上審核後，將陳泰龍與陳玉婉於93年4月7日結婚之不實事項，登載於其職務上所掌屬公文書之戶籍登記資料內，並據以核發戶籍謄本，而足以生損害於戶政機關對於戶政管理及戶籍登記資料維護之正確性\n",
            "7: 經查：(一)被告於93年4月3日前往泰國，並於同年月7日與共犯陳玉婉在泰國曼谷市法拉坎農區註冊辦事處登記結婚，取得上開註冊辦事處核發之結婚登記書、結婚證書等文件後，被告即行返臺，並於同年5月19日持經我國駐泰國臺北經濟文化辦事處認證之上開結婚登記書、結婚證書等資料，至臺南縣永康市戶政事務所填寫結婚登記申請書，申請辦理其與共犯陳玉婉之結婚登記，並取得戶籍謄本\n",
            "8: 迨陳玉婉來臺後，為取得居留身分，再由陳泰龍、陳玉婉承前概括之犯意聯絡，於同年6月14日及94年5月5日，均持前開登載不實之戶籍謄本等資料，先後向臺南縣政府警察局外事課申請核發陳玉婉之外僑居留證及申請居留證延期而連續行使之（業經檢察官當庭補充），經承辦人員實質審查結果，均未發覺陳泰龍與陳玉婉假結婚之實情，而發給陳玉婉居留證或核准延期，各足以生損害於主管機關對外僑居留管理之正確性\n",
            "9:  二、案經臺南市警察局（現改制為臺南市政府警察局，以下沿用舊制稱謂）第一分局報告臺灣臺南地方法院檢察署檢察官偵查起訴\n",
            "10: (二)共犯詹巧薇、張晉源等人當時欲找臺灣人與泰國女子結婚，由共犯林清水於報紙上刊登徵人廣告，若應徵者符合與泰國人結婚之條件，便將應徵者介紹予共犯詹巧薇、張晉源等人，共犯林清水可從中獲取1萬元之仲介費，適被告依前開徵人廣告應徵，共犯林清水衡量其條件後告知其可至泰國結婚，其除不用負擔前往泰國之機票及食宿費用外，尚可獲取5至6萬元之報酬，被告應允同意後，共犯林清水將其介紹予詹巧薇、張晉源等人，被告即依指示前往泰國與為了來臺工作且無結婚真意的共犯陳玉婉辦理結婚事宜等情，業據共犯林清水於警詢時證稱：伊登報徵人到泰國結婚，被告看報紙來的，伊便轉介予共犯詹巧薇，由共犯詹巧薇安排後續到泰國結婚之事宜，被告除不用負擔前往泰國機票、食宿等費用，尚可獲取約5至6萬元酬勞，伊則可自共犯詹巧薇獲取約1萬元之仲介費用；伊只有將被告轉介予共犯詹巧薇，並未參與後續被告前往泰國之證照、機票、食宿等相關事宜；被告係因缺錢，為了賺取擔任人頭配偶的佣金5至6萬，並不是真的要與泰國人結婚，共犯陳玉婉係為了來臺灣工作賺錢，亦不是真的要與臺灣人結婚等語（見警三卷第2至3頁）；並於本院審理時具結證稱：當初共犯詹巧薇、張晉源等人欲找男子前往泰國結婚，伊曾刊登「男、女不限、經驗不拘」等內容之徵人廣告，被告見報應徵時，被告係因缺錢才來找伊，伊衡量被告條件後認為其只能利用結婚賺取報酬，伊才向其表示是要辦結婚，伊告知被告可安排其去泰國結婚，其不用負擔食宿及機票等費用，可實拿5至6萬元的報酬，被告同意後，伊將被告介紹予共犯詹巧薇、張晉源，共犯張晉源給付佣金1萬元予伊；伊與被告談論泰國結婚事宜時，伊與被告均不知被告之結婚對象為何人，伊亦未見過與被告結婚之泰國女子，伊僅介紹被告予共犯詹巧薇、張晉源等人，伊並未參予後續之泰國結婚、辦理結婚登記及居留申請等事情；被告曾給伊一部機車，當時被告表示要去別的地方，機車留在臺南無人使用，伊修理使用一段期間後，因再度壞掉便未再使用等語（見本院卷第68頁背面至71頁）\n",
            "--->\n",
            " 1: 被告坦承於上開時、地，透過共犯林清水之介紹，先至泰國辦理與共犯陳玉婉之結婚手續，再前往臺南縣永康市戶政事務所辦理結婚登記，又前往臺南縣政府警察局外事課辦理共犯陳玉婉之外僑居留證及申請居留證延期之事實。\n",
            "2: 被告與共犯陳玉婉於同年6月14日及94年5月5日，均持前開戶籍謄本等資料，先後向臺南縣政府警察局外事課申請核發共犯陳玉婉之外僑居留證及申請居留證延期等情，業據被告供承在卷。\n",
            "3: 陳泰龍與泰國籍女子陳玉婉（泰國名字為JARUWANWONGPRATOOM）間並無結婚之真意，然因詹巧薇、張晉源等人欲找臺灣男子前往泰國與泰國女子辦理假結婚，林清水負責介紹臺灣男子予詹巧薇、張晉源等人以賺取1萬元之仲介費，適陳泰龍依林清水於報紙上刊登之徵人廣告應徵後，林清水將其轉介紹予詹巧薇、張晉源等人，陳泰龍遂與林清水、詹巧薇、張晉源等人共同基於行使使公務員登載不實公文書之概括犯意聯絡，先由陳泰龍依指示於民國93年4月3日前往泰國，並於同年月7日與陳玉婉在泰國曼谷市法拉坎農區註冊辦事處登記結婚，取得上開註冊辦事處核發之結婚登記書、結婚證書等文件後，陳泰龍即行返臺，並於同年5月19日持經我國駐泰國臺北經濟文化辦事處認證之上開結婚登記書、結婚證書等資料，至臺南縣永康市戶政事務所填寫結婚登記申請書，申請辦理其與陳玉婉之結婚登記，因此使上開戶政事務所僅有形式審查權之承辦公務員陷於錯誤，於形式上審核後，將陳泰龍與陳玉婉於93年4月7日結婚之不實事項，登載於其職務上所掌屬公文書之戶籍登記資料內，並據以核發戶籍謄本，而足以生損害於戶政機關對於戶政管理及戶籍登記資料維護之正確性。\n",
            "=======================================================\n",
            "1: 乙、實體方面：一、訊據被告固坦承於上開時、地，透過共犯林清水之介紹，先至泰國辦理與共犯陳玉婉之結婚手續，再前往臺南縣永康市戶政事務所辦理結婚登記，又前往臺南縣政府警察局外事課辦理共犯陳玉婉之外僑居留證及申請居留證延期之事實，惟矢口否認有何行使使公務員登載不實文書情事，於本院審理時辯稱：伊當時經濟狀況良好，因同居女友欲去日本工作而不願結婚，然伊希望結婚生子，遂透過共犯林清水之介紹與安排，共犯林清水先讓伊看過共犯陳玉婉之照片，伊再前往泰國與共犯陳玉婉結婚，伊僅負擔自己的來回機票錢及泰國住宿費用，其他結婚費用均由共犯林清水負擔，伊則贈送伊的一部機車予共犯林清水以為回報，伊並不認識共犯詹巧薇云云\n",
            "2: 迨共犯陳玉婉來臺後，為取得居留身分，被告與共犯陳玉婉於同年6月14日及94年5月5日，均持前開戶籍謄本等資料，先後向臺南縣政府警察局外事課申請核發共犯陳玉婉之外僑居留證及申請居留證延期等情，業據被告供承在卷，並有結婚登記申請書、授權書各1份、結婚登記書、結婚證書各1份（含中文、泰文影本及我國駐泰國臺北經濟文化辦事處認證之資料）、93年6月14日及94年5月5日之外國人居留停留案件聲請表各1份、被告及共犯陳玉婉之入出國日期紀錄各1份、共犯陳玉婉之外僑居留資料查詢1份在卷可按（見警三卷即南市警一刑偵字第0994101517號卷第6至24、33頁）\n",
            "3: 上開事實，首堪認定\n",
            "4: 理由甲、程序方面：一、本件以下所引用具傳聞證據性質之供述證據，因本件被告陳泰龍、檢察官等人於本院準備程序進行時，均未爭執前開陳述之證據能力，且迄至本案言詞辯論終結前亦均未聲明異議，應視為已同意援引作為證據，又本院審酌前開證據作成時之情況及證據取得過程等節，並無非出於任意性、不正取供或其他違法不當情事，且客觀上亦無顯不可信之情況，堪認為適當，是依刑事訴訟法第159條之5規定，均有證據能力\n",
            "5: 二、卷附之被告及陳玉婉入出國日期紀錄各1份等書證，均非屬供述證據，皆無傳聞法則之適用，復均無違反法定程序取得之情形，依刑事訴訟法第158條之4規定之反面解釋，均應有證據能力\n",
            "6: 一、陳泰龍明知其與泰國籍女子陳玉婉（泰國名字為JARUWANWONGPRATOOM，陳玉婉涉嫌本案偽造文書部分，另經臺灣臺南地方法院檢察署檢察官通緝中）間並無結婚之真意，然因詹巧薇、張晉源等人欲找臺灣男子前往泰國與泰國女子辦理假結婚，林清水負責介紹臺灣男子予詹巧薇、張晉源等人以賺取新臺幣（下同）1萬元之仲介費，適陳泰龍依林清水於報紙上刊登之徵人廣告應徵時，由林清水告知泰國女子欲以假結婚之方式申請來臺居留工作，其若擔任假結婚之人頭老公，除不用負擔前往泰國之食宿、機票費用外，尚可獲取5、6萬元之報酬，迨陳泰龍應允同意後，林清水將其轉介紹予詹巧薇、張晉源等人，陳泰龍遂與林清水、詹巧薇、張晉源等人共同基於行使使公務員登載不實公文書之概括犯意聯絡，先由陳泰龍依指示於民國93年4月3日前往泰國，並於同年月7日與陳玉婉在泰國曼谷市法拉坎農區註冊辦事處登記結婚，取得上開註冊辦事處核發之結婚登記書、結婚證書等文件後，陳泰龍即行返臺，並於同年5月19日持經我國駐泰國臺北經濟文化辦事處認證之上開結婚登記書、結婚證書等資料，至臺南縣永康市（改制前稱謂，以下沿用舊制稱謂）戶政事務所填寫結婚登記申請書，申請辦理其與陳玉婉之結婚登記，因此使上開戶政事務所僅有形式審查權之承辦公務員陷於錯誤，於形式上審核後，將陳泰龍與陳玉婉於93年4月7日結婚之不實事項，登載於其職務上所掌屬公文書之戶籍登記資料內，並據以核發戶籍謄本，而足以生損害於戶政機關對於戶政管理及戶籍登記資料維護之正確性\n",
            "7: 經查：(一)被告於93年4月3日前往泰國，並於同年月7日與共犯陳玉婉在泰國曼谷市法拉坎農區註冊辦事處登記結婚，取得上開註冊辦事處核發之結婚登記書、結婚證書等文件後，被告即行返臺，並於同年5月19日持經我國駐泰國臺北經濟文化辦事處認證之上開結婚登記書、結婚證書等資料，至臺南縣永康市戶政事務所填寫結婚登記申請書，申請辦理其與共犯陳玉婉之結婚登記，並取得戶籍謄本\n",
            "8: 迨陳玉婉來臺後，為取得居留身分，再由陳泰龍、陳玉婉承前概括之犯意聯絡，於同年6月14日及94年5月5日，均持前開登載不實之戶籍謄本等資料，先後向臺南縣政府警察局外事課申請核發陳玉婉之外僑居留證及申請居留證延期而連續行使之（業經檢察官當庭補充），經承辦人員實質審查結果，均未發覺陳泰龍與陳玉婉假結婚之實情，而發給陳玉婉居留證或核准延期，各足以生損害於主管機關對外僑居留管理之正確性\n",
            "9:  二、案經臺南市警察局（現改制為臺南市政府警察局，以下沿用舊制稱謂）第一分局報告臺灣臺南地方法院檢察署檢察官偵查起訴\n",
            "10: (二)共犯詹巧薇、張晉源等人當時欲找臺灣人與泰國女子結婚，由共犯林清水於報紙上刊登徵人廣告，若應徵者符合與泰國人結婚之條件，便將應徵者介紹予共犯詹巧薇、張晉源等人，共犯林清水可從中獲取1萬元之仲介費，適被告依前開徵人廣告應徵，共犯林清水衡量其條件後告知其可至泰國結婚，其除不用負擔前往泰國之機票及食宿費用外，尚可獲取5至6萬元之報酬，被告應允同意後，共犯林清水將其介紹予詹巧薇、張晉源等人，被告即依指示前往泰國與為了來臺工作且無結婚真意的共犯陳玉婉辦理結婚事宜等情，業據共犯林清水於警詢時證稱：伊登報徵人到泰國結婚，被告看報紙來的，伊便轉介予共犯詹巧薇，由共犯詹巧薇安排後續到泰國結婚之事宜，被告除不用負擔前往泰國機票、食宿等費用，尚可獲取約5至6萬元酬勞，伊則可自共犯詹巧薇獲取約1萬元之仲介費用；伊只有將被告轉介予共犯詹巧薇，並未參與後續被告前往泰國之證照、機票、食宿等相關事宜；被告係因缺錢，為了賺取擔任人頭配偶的佣金5至6萬，並不是真的要與泰國人結婚，共犯陳玉婉係為了來臺灣工作賺錢，亦不是真的要與臺灣人結婚等語（見警三卷第2至3頁）；並於本院審理時具結證稱：當初共犯詹巧薇、張晉源等人欲找男子前往泰國結婚，伊曾刊登「男、女不限、經驗不拘」等內容之徵人廣告，被告見報應徵時，被告係因缺錢才來找伊，伊衡量被告條件後認為其只能利用結婚賺取報酬，伊才向其表示是要辦結婚，伊告知被告可安排其去泰國結婚，其不用負擔食宿及機票等費用，可實拿5至6萬元的報酬，被告同意後，伊將被告介紹予共犯詹巧薇、張晉源，共犯張晉源給付佣金1萬元予伊；伊與被告談論泰國結婚事宜時，伊與被告均不知被告之結婚對象為何人，伊亦未見過與被告結婚之泰國女子，伊僅介紹被告予共犯詹巧薇、張晉源等人，伊並未參予後續之泰國結婚、辦理結婚登記及居留申請等事情；被告曾給伊一部機車，當時被告表示要去別的地方，機車留在臺南無人使用，伊修理使用一段期間後，因再度壞掉便未再使用等語（見本院卷第68頁背面至71頁）\n",
            "--->\n",
            " 1: 陳泰龍明知與泰國籍女子陳玉婉間並無結婚之真意，仍與林清水、詹巧薇、張晉源等人共同基於行使使公務員登載不實公文書之概括犯意聯絡，辦理假結婚並申請來臺居留工作。\n",
            "2: 陳泰龍與陳玉婉辦理假結婚後，持不實戶籍謄本向臺南縣政府警察局外事課申請核發陳玉婉之外僑居留證及申請居留證延期，使承辦人員實質審查結果未發覺假結婚之實情，而發給居留證或核准延期。\n",
            "3: 本案由臺南市警察局第一分局報告臺灣臺南地方法院檢察署檢察官偵查起訴。\n",
            "=======================================================\n",
            "1: 乙、實體方面：一、訊據被告固坦承於上開時、地，透過共犯林清水之介紹，先至泰國辦理與共犯陳玉婉之結婚手續，再前往臺南縣永康市戶政事務所辦理結婚登記，又前往臺南縣政府警察局外事課辦理共犯陳玉婉之外僑居留證及申請居留證延期之事實，惟矢口否認有何行使使公務員登載不實文書情事，於本院審理時辯稱：伊當時經濟狀況良好，因同居女友欲去日本工作而不願結婚，然伊希望結婚生子，遂透過共犯林清水之介紹與安排，共犯林清水先讓伊看過共犯陳玉婉之照片，伊再前往泰國與共犯陳玉婉結婚，伊僅負擔自己的來回機票錢及泰國住宿費用，其他結婚費用均由共犯林清水負擔，伊則贈送伊的一部機車予共犯林清水以為回報，伊並不認識共犯詹巧薇云云\n",
            "2: 迨共犯陳玉婉來臺後，為取得居留身分，被告與共犯陳玉婉於同年6月14日及94年5月5日，均持前開戶籍謄本等資料，先後向臺南縣政府警察局外事課申請核發共犯陳玉婉之外僑居留證及申請居留證延期等情，業據被告供承在卷，並有結婚登記申請書、授權書各1份、結婚登記書、結婚證書各1份（含中文、泰文影本及我國駐泰國臺北經濟文化辦事處認證之資料）、93年6月14日及94年5月5日之外國人居留停留案件聲請表各1份、被告及共犯陳玉婉之入出國日期紀錄各1份、共犯陳玉婉之外僑居留資料查詢1份在卷可按（見警三卷即南市警一刑偵字第0994101517號卷第6至24、33頁）\n",
            "3: 上開事實，首堪認定\n",
            "4: 理由甲、程序方面：一、本件以下所引用具傳聞證據性質之供述證據，因本件被告陳泰龍、檢察官等人於本院準備程序進行時，均未爭執前開陳述之證據能力，且迄至本案言詞辯論終結前亦均未聲明異議，應視為已同意援引作為證據，又本院審酌前開證據作成時之情況及證據取得過程等節，並無非出於任意性、不正取供或其他違法不當情事，且客觀上亦無顯不可信之情況，堪認為適當，是依刑事訴訟法第159條之5規定，均有證據能力\n",
            "5: 二、卷附之被告及陳玉婉入出國日期紀錄各1份等書證，均非屬供述證據，皆無傳聞法則之適用，復均無違反法定程序取得之情形，依刑事訴訟法第158條之4規定之反面解釋，均應有證據能力\n",
            "6: 一、陳泰龍明知其與泰國籍女子陳玉婉（泰國名字為JARUWANWONGPRATOOM，陳玉婉涉嫌本案偽造文書部分，另經臺灣臺南地方法院檢察署檢察官通緝中）間並無結婚之真意，然因詹巧薇、張晉源等人欲找臺灣男子前往泰國與泰國女子辦理假結婚，林清水負責介紹臺灣男子予詹巧薇、張晉源等人以賺取新臺幣（下同）1萬元之仲介費，適陳泰龍依林清水於報紙上刊登之徵人廣告應徵時，由林清水告知泰國女子欲以假結婚之方式申請來臺居留工作，其若擔任假結婚之人頭老公，除不用負擔前往泰國之食宿、機票費用外，尚可獲取5、6萬元之報酬，迨陳泰龍應允同意後，林清水將其轉介紹予詹巧薇、張晉源等人，陳泰龍遂與林清水、詹巧薇、張晉源等人共同基於行使使公務員登載不實公文書之概括犯意聯絡，先由陳泰龍依指示於民國93年4月3日前往泰國，並於同年月7日與陳玉婉在泰國曼谷市法拉坎農區註冊辦事處登記結婚，取得上開註冊辦事處核發之結婚登記書、結婚證書等文件後，陳泰龍即行返臺，並於同年5月19日持經我國駐泰國臺北經濟文化辦事處認證之上開結婚登記書、結婚證書等資料，至臺南縣永康市（改制前稱謂，以下沿用舊制稱謂）戶政事務所填寫結婚登記申請書，申請辦理其與陳玉婉之結婚登記，因此使上開戶政事務所僅有形式審查權之承辦公務員陷於錯誤，於形式上審核後，將陳泰龍與陳玉婉於93年4月7日結婚之不實事項，登載於其職務上所掌屬公文書之戶籍登記資料內，並據以核發戶籍謄本，而足以生損害於戶政機關對於戶政管理及戶籍登記資料維護之正確性\n",
            "7: 經查：(一)被告於93年4月3日前往泰國，並於同年月7日與共犯陳玉婉在泰國曼谷市法拉坎農區註冊辦事處登記結婚，取得上開註冊辦事處核發之結婚登記書、結婚證書等文件後，被告即行返臺，並於同年5月19日持經我國駐泰國臺北經濟文化辦事處認證之上開結婚登記書、結婚證書等資料，至臺南縣永康市戶政事務所填寫結婚登記申請書，申請辦理其與共犯陳玉婉之結婚登記，並取得戶籍謄本\n",
            "8: 迨陳玉婉來臺後，為取得居留身分，再由陳泰龍、陳玉婉承前概括之犯意聯絡，於同年6月14日及94年5月5日，均持前開登載不實之戶籍謄本等資料，先後向臺南縣政府警察局外事課申請核發陳玉婉之外僑居留證及申請居留證延期而連續行使之（業經檢察官當庭補充），經承辦人員實質審查結果，均未發覺陳泰龍與陳玉婉假結婚之實情，而發給陳玉婉居留證或核准延期，各足以生損害於主管機關對外僑居留管理之正確性\n",
            "9:  二、案經臺南市警察局（現改制為臺南市政府警察局，以下沿用舊制稱謂）第一分局報告臺灣臺南地方法院檢察署檢察官偵查起訴\n",
            "10: (二)共犯詹巧薇、張晉源等人當時欲找臺灣人與泰國女子結婚，由共犯林清水於報紙上刊登徵人廣告，若應徵者符合與泰國人結婚之條件，便將應徵者介紹予共犯詹巧薇、張晉源等人，共犯林清水可從中獲取1萬元之仲介費，適被告依前開徵人廣告應徵，共犯林清水衡量其條件後告知其可至泰國結婚，其除不用負擔前往泰國之機票及食宿費用外，尚可獲取5至6萬元之報酬，被告應允同意後，共犯林清水將其介紹予詹巧薇、張晉源等人，被告即依指示前往泰國與為了來臺工作且無結婚真意的共犯陳玉婉辦理結婚事宜等情，業據共犯林清水於警詢時證稱：伊登報徵人到泰國結婚，被告看報紙來的，伊便轉介予共犯詹巧薇，由共犯詹巧薇安排後續到泰國結婚之事宜，被告除不用負擔前往泰國機票、食宿等費用，尚可獲取約5至6萬元酬勞，伊則可自共犯詹巧薇獲取約1萬元之仲介費用；伊只有將被告轉介予共犯詹巧薇，並未參與後續被告前往泰國之證照、機票、食宿等相關事宜；被告係因缺錢，為了賺取擔任人頭配偶的佣金5至6萬，並不是真的要與泰國人結婚，共犯陳玉婉係為了來臺灣工作賺錢，亦不是真的要與臺灣人結婚等語（見警三卷第2至3頁）；並於本院審理時具結證稱：當初共犯詹巧薇、張晉源等人欲找男子前往泰國結婚，伊曾刊登「男、女不限、經驗不拘」等內容之徵人廣告，被告見報應徵時，被告係因缺錢才來找伊，伊衡量被告條件後認為其只能利用結婚賺取報酬，伊才向其表示是要辦結婚，伊告知被告可安排其去泰國結婚，其不用負擔食宿及機票等費用，可實拿5至6萬元的報酬，被告同意後，伊將被告介紹予共犯詹巧薇、張晉源，共犯張晉源給付佣金1萬元予伊；伊與被告談論泰國結婚事宜時，伊與被告均不知被告之結婚對象為何人，伊亦未見過與被告結婚之泰國女子，伊僅介紹被告予共犯詹巧薇、張晉源等人，伊並未參予後續之泰國結婚、辦理結婚登記及居留申請等事情；被告曾給伊一部機車，當時被告表示要去別的地方，機車留在臺南無人使用，伊修理使用一段期間後，因再度壞掉便未再使用等語（見本院卷第68頁背面至71頁）\n",
            "--->\n",
            " 1. 被告依林清水的介紹前往泰國與共犯陳玉婉辦理結婚手續，再前往臺南縣永康市戶政事務所辦理結婚登記，以及臺南縣政府警察局外事課辦理共犯陳玉婉之外僑居留證及申請居留證延期。\n",
            "2. 被告與共犯陳玉婉明知沒有結婚真意，但仍辦理結婚手續和居留證申請，使公務員登載不實。\n",
            "3. 被告與共犯林清水、詹巧薇、張晉源等人共同基於行使使公務員登載不實公文書之概括犯意聯絡。\n",
            "=======================================================\n"
          ]
        }
      ],
      "source": [
        "print(prompt1)\n",
        "print(\"--->\")\n",
        "print(get_breeze(query+prompt1))\n",
        "print(\"=======================================================\")\n",
        "print(prompt1)\n",
        "print(\"--->\")\n",
        "print(get_breeze(query+prompt2))\n",
        "print(\"=======================================================\")\n",
        "print(prompt1)\n",
        "print(\"--->\")\n",
        "print(get_breeze(query+prompt3))\n",
        "print(\"=======================================================\")"
      ]
    },
    {
      "cell_type": "code",
      "execution_count": null,
      "metadata": {
        "id": "XiE5zmHgR7Kb"
      },
      "outputs": [],
      "source": [
        "query = \"我想請你幫我對一篇判決書做犯罪事實情節的Extraction-based summarization，我已經將這篇判決書切成多個句子，請幫我從這些句子中挑選出和犯罪事實情節描述最相關的三個句子。句子如下：\\n\""
      ]
    },
    {
      "cell_type": "code",
      "execution_count": null,
      "metadata": {
        "id": "dti9EgkmR8QG"
      },
      "outputs": [],
      "source": [
        "print(prompt1)\n",
        "print(\"--->\")\n",
        "print(get_breeze(query+prompt1))\n",
        "print(\"=======================================================\")\n",
        "print(prompt1)\n",
        "print(\"--->\")\n",
        "print(get_breeze(query+prompt2))\n",
        "print(\"=======================================================\")\n",
        "print(prompt1)\n",
        "print(\"--->\")\n",
        "print(get_breeze(query+prompt3))\n",
        "print(\"=======================================================\")"
      ]
    },
    {
      "cell_type": "markdown",
      "metadata": {
        "id": "wk4iHybNSeCl"
      },
      "source": [
        "# summerize test"
      ]
    },
    {
      "cell_type": "code",
      "execution_count": null,
      "metadata": {
        "id": "PI9tz0-eSlqB"
      },
      "outputs": [],
      "source": [
        "query = \"我想請你幫我對一篇判決書做Extraction-based summarization，我已經將這篇判決書切成多個句子，請幫我從以下句子中挑選出和犯罪事實情節最相關的3個句子。\\n\""
      ]
    },
    {
      "cell_type": "code",
      "execution_count": null,
      "metadata": {
        "id": "-YatOo_3VIiO"
      },
      "outputs": [],
      "source": [
        "def generate_prompt(query, facts):\n",
        "  for i, fact in enumerate(facts):\n",
        "    query = query + f'{i+1}: {fact}\\n'\n",
        "  return query"
      ]
    },
    {
      "cell_type": "code",
      "execution_count": null,
      "metadata": {
        "id": "2biQ1vYtU3lu"
      },
      "outputs": [],
      "source": [
        "def remove_prefix_and_colon(text):\n",
        "    lines = text.strip().split('\\n')\n",
        "    processed_lines = []\n",
        "    for line in lines:\n",
        "        processed_line = line.split(':')[-1].strip()\n",
        "        processed_lines.append(processed_line)\n",
        "    return processed_lines"
      ]
    },
    {
      "cell_type": "code",
      "execution_count": null,
      "metadata": {
        "id": "6RpUJm0AUmLu"
      },
      "outputs": [],
      "source": [
        "def extract_sentences(query, sentences):\n",
        "    # print(generate_prompt(query, sentences))\n",
        "    ans = get_breeze(generate_prompt(query, sentences))\n",
        "    # print(ans)\n",
        "    # print(\"========================================\")\n",
        "    return remove_prefix_and_colon(ans)"
      ]
    },
    {
      "cell_type": "code",
      "execution_count": null,
      "metadata": {
        "colab": {
          "base_uri": "https://localhost:8080/"
        },
        "id": "rmm7jw_HVrrN",
        "outputId": "1a0cb35b-9c82-4872-894d-c477b3e611c3"
      },
      "outputs": [
        {
          "name": "stdout",
          "output_type": "stream",
          "text": [
            " 1. 被告明知與泰國籍女子陳玉婉（JARUWANWONGPRATOOM）間並無結婚之真意，仍與林清水、詹巧薇、張晉源等人共同基於行使使公務員登載不實公文書之概括犯意聯絡，辦理假結婚手續。\n",
            "2. 被告與陳玉婉在泰國辦理結婚手續後，返回臺灣辦理結婚登記，使承辦公務員陷於錯誤，登載不實事項於戶籍登記資料內，核發戶籍謄本。\n",
            "3. 陳玉婉來臺後，為取得居留身分，被告與她共同向臺南縣政府警察局外事課申請核發居留證及延期，承辦人員實質審查結果未發覺假結婚，而核發居留證或核准延期。\n"
          ]
        }
      ],
      "source": [
        "result = extract_sentences(query, train_facts_sentences[0][:10])"
      ]
    },
    {
      "cell_type": "code",
      "execution_count": null,
      "metadata": {
        "colab": {
          "base_uri": "https://localhost:8080/"
        },
        "id": "rHsn4LUqV1yB",
        "outputId": "765a5dc2-923a-45d5-f37e-646259dfeea9"
      },
      "outputs": [
        {
          "data": {
            "text/plain": [
              "['1. 被告明知與泰國籍女子陳玉婉（JARUWANWONGPRATOOM）間並無結婚之真意，仍與林清水、詹巧薇、張晉源等人共同基於行使使公務員登載不實公文書之概括犯意聯絡，辦理假結婚手續。',\n",
              " '2. 被告與陳玉婉在泰國辦理結婚手續後，返回臺灣辦理結婚登記，使承辦公務員陷於錯誤，登載不實事項於戶籍登記資料內，核發戶籍謄本。',\n",
              " '3. 陳玉婉來臺後，為取得居留身分，被告與她共同向臺南縣政府警察局外事課申請核發居留證及延期，承辦人員實質審查結果未發覺假結婚，而核發居留證或核准延期。']"
            ]
          },
          "execution_count": 161,
          "metadata": {},
          "output_type": "execute_result"
        }
      ],
      "source": [
        "result"
      ]
    },
    {
      "cell_type": "code",
      "execution_count": null,
      "metadata": {
        "id": "JUxI621bVjDm"
      },
      "outputs": [],
      "source": [
        "def generate_summary(query, facts_sentences):\n",
        "    summaries = []\n",
        "    for fact_sentences in facts_sentences:\n",
        "        extracted_sentences = []\n",
        "        for i in range(0, len(fact_sentences), 10):  # 每次处理10个句子\n",
        "            sentences_subset = fact_sentences[i:i+10]\n",
        "            extracted_subset = extract_sentences(query, sentences_subset)\n",
        "            extracted_sentences.extend(extracted_subset)\n",
        "        final_summary = extract_sentences(query, extracted_sentences)\n",
        "        summaries.append(final_summary)\n",
        "    return summaries"
      ]
    },
    {
      "cell_type": "code",
      "execution_count": null,
      "metadata": {
        "colab": {
          "base_uri": "https://localhost:8080/"
        },
        "id": "W8krz0LFSnM6",
        "outputId": "1131fb79-2560-46aa-a844-a395aa0dbad9"
      },
      "outputs": [
        {
          "name": "stdout",
          "output_type": "stream",
          "text": [
            "我想請你幫我對一篇判決書做Extraction-based summarization，我已經將這篇判決書切成多個句子，請幫我從以下句子中挑選出和犯罪事實情節最相關的3個句子。\n",
            "1: ○、緣徐鴻光（所涉行使偽造私文書犯行，業經本院以95年度訴字第955號判決處有期徒刑3月、緩刑3年確定）因需款使用，知悉穆立明有借款管道，為求順利借款，2人竟共同意圖為自己不法所有，基於行使偽造私文書及詐欺取財之犯意聯絡，知悉車牌號碼00-000號營業小客車係徐鴻光向志朗交通有限公司（下稱志朗公司）租賃之車輛，竟由穆立明先於不詳時間、不詳地點，偽刻「志朗交通有限公司」及負責人「陳健志」印章（正確姓名為陳建志，誤刻為「陳健志」）各1枚，並偽造「陳健志」代表志朗公司與徐鴻光簽署之「臺北市計程車客運駕駛人自備車輛參與經營契約書」（下稱本案參與經營契約書），虛偽記載徐鴻光提供上述營業小客車靠行志朗公司營業等不實內容，並持上開偽刻印章，偽造「志朗交通有限公司」印文4枚、「陳健志」印文6枚於本案參與經營契約書上，再於92年3月6日交徐鴻光於立約人乙方欄簽名，2人復於同日協同不知情之徐鴻光配偶徐樂仁（所涉行使偽造私文書犯行，業經本院以95年度訴字第955號判決無罪確定），前往臺北市○○區○○街00巷0號2樓王傑生所經營之宏帝當舖（現更名為渣打當舖），由徐鴻光、穆立明交付偽造本案參與經營契約書向宏帝當鋪借款新臺幣（下同）10萬元以為行使，並約定由徐樂仁擔任連帶保證人，王傑生誤信上開車輛為徐鴻光所有而陷入錯誤，於扣除利息後交付9萬1千元借款予徐鴻光夫婦，足以生損害於志朗公司、陳建志、王傑生\n",
            "2: 嗣因徐鴻光僅清償每期7千元之分期款共11期計7萬7千元，未全額清償即無力負擔債務，王傑生始查知上開車輛非徐鴻光所有，而悉上情\n",
            "3: 二、案經王傑生訴由臺灣士林地方法院檢察署檢察官偵查起訴\n",
            "4: 理由○、證據能力部分：被告以外之人於審判外之言詞或書面陳述，除法律有規定者外，不得作為證據；又被告以外之人於審判外之陳述，雖不符合同法第159條之1至第159條之4之規定，但經當事人於審判程序同意作為證據，法院審酌該言詞陳述或書面陳述作成時之情況，認為適當者，亦得為證據\n",
            "5: 刑事訴訟法第159條第1項及第159條之5第1項分別定有明文\n",
            "6: 經查，本判決所引用之各該被告以外之人於審判外之陳述，雖屬傳聞證據，然當事人於本院審判期日中均表示同意作為證據方法而不予爭執，且迄至言詞辯論終結前亦未再聲明異議（見本院卷第68頁至第68頁背面），本院審酌上開證據資料製作時之情況，尚無違法不當及證明力明顯過低之瑕疵，亦認為以之作為證據應屬適當，故揆諸前開規定，爰依刑事訴訟法第159條之5規定，認前揭證據資料均有證據能力\n",
            "7: 二、認定犯罪事實所憑之證據及理由：（一）訊據被告穆立明固坦承有於92年3月6日帶共同被告徐鴻光、徐樂仁至宏帝當鋪借錢，惟矢口否認有何行使偽造私文書及詐欺取財之犯行，辯稱：本案參與經營契約書係由共同被告徐鴻光所提出，徐鴻光知道我在宏帝當舖當業務員，他因資金不夠，要伊帶至宏帝當鋪借錢，伊請徐鴻光帶身分證、本案參與經營契約書，證明計程車係屬於徐鴻光所有，另外要帶一位保人云云\n",
            "8: （二）經查，證人即志英交通公司負責人陳建志於檢察官偵查中結證稱：本案參與經營契約書上之「志朗交通有限公司」、「陳健志」之印文均非我公司的大小章，志朗交通公司也是我的公司，我是負責人，但這個章不是我的，被告徐鴻光只是加入無線電台等語（見94年度偵字第8715號卷第45頁），復有其提出真正之志朗交通有限公司及其本人陳建志之印文各4枚在卷可稽（見94年度偵字第8715號卷第48頁），經核卷附本案參與經營契約書上所示之「志朗交通有限公司」、「陳健志」印文（見95年度偵緝字第60號卷第53頁），除二者字體明顯不同外，本案參與經營契約書中「陳健志」名字中之「健」一字顯係錯別字，堪認本案參與經營契約書上所示之「志朗交通有限公司」、「陳健志」印文確屬偽造一節，應可認定\n",
            "9: （三）證人即告訴人王傑生於檢察官偵查中證稱：我經營宏帝當鋪，後改名為渣打當鋪，地址在臺北市○○街00巷0號2樓，計程車典當給我們時，我們要看參與經營契約書，被告徐鴻光有來借錢，被告穆立明當時有在場，徐鴻光給我們看本案參與經營契約書，我們就以為車子是徐鴻光的，我們找到車之後才知道車子是車行的，被告穆立明是我們公司抽獎金的業務員，穆立明介紹人來借錢，我給他獎金等語（見94年度偵字第8715號卷第37頁、95年度偵緝字第60號卷第49頁、第68頁），且證人朱庭峰於檢察官偵查中及本院審理時亦結證稱：我是宏帝當鋪的負責人，後來當鋪讓給王傑生，被告徐鴻光到宏帝當鋪借款10萬元，係由我接洽，當時是被告穆立明介紹，穆立明不是公司職員，他會介紹車子到我們公司來典當，我會給穆立明佣金，即我收到1,000元利息，就給他100元，本案參與經營契約書是由穆立明拿出來等語（見95年度偵緝字第60號卷第68頁至第69頁、95年度訴字第955號卷第66頁至第67頁），復有本案參與經營契約書、本票影本各1份附卷可憑（見94年度偵字第8715號卷第14頁至第17頁），足認共同被告徐鴻光係經被告穆立明介紹，持本案參與經營契約書於上開時間前往宏帝當鋪借款10萬元，且被告穆立明於借款時在場之事實，洵堪認定\n",
            "10: （四）被告穆立明雖辯稱：本案參與經營契約書係共同被告徐鴻光所提出，伊僅有將徐鴻光帶去當鋪，就由當舖的人接洽云云，惟查，證人即共同被告徐鴻光於本院審理時證稱：因為我當司機收入不高，家裡有需要用錢，被告穆立明說有辦法借錢，我請被告穆立明帶我去借款，被告穆立明有帶我去當鋪，我太太徐樂仁當時有一起陪同，卷附之本票影本係我當時在當鋪簽立，而本案參與經營契約書係被告穆立明幫我準備好的，經我在當舖蓋我的章及簽名，被告穆立明拿給我時契約書已經寫好資料，至於被告穆立明提出本案參與經營契約書之來源我不知道，被告穆立明只有要我帶駕照、行照、身分證及私章，車號00-000號營業用小客車是我用租的車子，車子是志朗公司的車子，本案參與經營契約書內容不是真的，車子不是我自備的，只有契約書末頁乙方的簽名是我簽的等語（見本院卷第64頁至第66頁背面），核與其在檢察官偵查中證稱：被告穆立明有帶我去宏帝當鋪向朱先生借錢，我借10萬元，本案參與經營契約書係被告穆立明幫我準備好的，前面的簽名及資料是被告穆立明簽的，只有最後的簽名是我簽的等語大致相符（見95年度偵緝字第60號卷第48頁至第49頁），再查，參以被告穆立明於本院審理時當庭書寫徐鴻光名字之字跡經與本案參與經營契約書立契約書人一欄所簽署「徐鴻光」之筆跡比對後（見本院卷第73頁），依肉眼觀之，不論字跡之運筆、筆勾等字體外觀，均較為吻合，反觀該契約書頁末之乙方「徐鴻光」之筆跡，與頁首立契約書人一欄所簽署「徐鴻光」之筆跡之運筆及筆勾，字跡明顯不同，是被告穆立明辯稱本案參與經營契約書係由共同被告徐鴻光提出云云，已難採信；又證人徐鴻光於本院審理時證稱：我曾經用上開車輛向別的當鋪借錢，當時別的當鋪說車子用租的也可以借，只要押行照在那裡即可，不需要像本件一樣的契約，本件是我去當鋪，他們說該簽名的地方，我就簽名，且是我透過別的司機得知被告穆立明可以幫我問問哪裡可以借錢，所以才找被告穆立明等語（見本院卷第65頁背面至第66頁背面），衡以證人徐鴻光涉犯本案犯行業經本院認定有罪確定，自應無虛偽陳述之動機，且被告穆立明自承與證人徐鴻光無糾紛，同為排班計程車司機，為點頭之交乙情，亦認證人徐鴻光無涉詞誣陷被告穆立明之可能；再參以證人王傑生、朱庭峰皆證述本案參與經營契約書係由被告穆立明提出一節，又被告並不否認宏帝當舖僅同意典當個人所有靠行之車輛，不同意典當向車行租的車輛等情，而本件共同被告徐鴻光既有提供行照予被告穆立明，業經其證述如前，則自行照之記載內容即可知悉上開車輛所有人為何人，被告穆立明豈有不知上開車輛所有人為何人之理，況被告穆立明供認介紹共同被告徐鴻光予宏帝當鋪借錢有利息百分之十之報酬等語（見本院卷第69頁背面），其當有可能為促成徐鴻光與宏帝當鋪借款，而提出本案經營契約書供作本件借款之用，是被告穆立明辯稱車子是徐鴻光說其自己所有，本案參與經營契約書係徐鴻光自行提出云云，顯係事後卸責之詞，不足採信\n",
            "\n",
            " 1: 徐鴻光（所涉行使偽造私文書犯行，業經本院以95年度訴字第955號判決處有期徒刑3月、緩刑3年確定）因需款使用，知悉穆立明有借款管道，為求順利借款，2人竟共同意圖為自己不法所有，基於行使偽造私文書及詐欺取財之犯意聯絡，知悉車牌號碼00-000號營業小客車係徐鴻光向志朗交通有限公司（下稱志朗公司）租賃之車輛，竟由穆立明先於不詳時間、不詳地點，偽刻「志朗交通有限公司」及負責人「陳健志」印章（正確姓名為陳建志，誤刻為「陳健志」）各1枚，並偽造「陳健志」代表志朗公司與徐鴻光簽署之「臺北市計程車客運駕駛人自備車輛參與經營契約書」（下稱本案參與經營契約書），虛偽記載徐鴻光提供上述營業小客車靠行志朗公司營業等不實內容，並持上開偽刻印章，偽造「志朗交通有限公司」印文4枚、「陳健志」印文6枚於本案參與經營契約書上，再於92年3月6日交徐鴻光於立約人乙方欄簽名，2人復於同日協同不知情之徐鴻光配偶徐樂仁（所涉行使偽造私文書犯行，業經本院以95年度訴字第955號判決無罪確定），前往臺北市○○區○○街00巷0號2樓王傑生所經營之宏帝當舖（現更名為渣打當舖），由徐鴻光、穆立明交付偽造本案參與經營契約書向宏帝當鋪借款新臺幣（下同）10萬元以為行使，並約定由徐樂仁擔任連帶保證人，王傑生誤信上開車輛為徐鴻光所有而陷入錯誤，於扣除利息後交付9萬1千元借款予徐鴻光夫婦，足以生損害於志朗公司、陳建志、王傑生。\n",
            "2: 嗣因徐鴻光僅清償每期7千元之分期款共11期計7萬7千元，未全額清償即無力負擔債務，王傑生始查知上開車輛非徐鴻光所有，而悉上情。\n",
            "========================================\n",
            "我想請你幫我對一篇判決書做Extraction-based summarization，我已經將這篇判決書切成多個句子，請幫我從以下句子中挑選出和犯罪事實情節最相關的3個句子。\n",
            "1: （五）綜上所述，被告上開所辯各節，無非事後避重就輕、圖卸之詞，不足採信，被告行使偽造私文書及詐欺取財等犯行，事證明確，應依法論科\n",
            "2: 三、論罪科刑部分：（一）按被告行為後，94年2月2日修正公布之刑法已於95年7月1日生效施行，其中第2條第1項「行為後法律有變更者，適用行為時之法律\n",
            "3: 但行為後之法律有利於行為人者，適用最有利於行為人之法律」之規定，係規範行為後法律變更所生新、舊法律比較適用之準據法，並非刑法實體法律，自不生行為後法律變更之比較適用問題，故刑法修正施行後，應適用該修正後之第2條第1項之規定，依「從舊、從輕」之原則比較新、舊法律之適用；又比較新舊法時，應就罪刑有關之共犯、未遂犯、想像競合犯、牽連犯、連續犯、結合犯，以及累犯加重、自首減輕暨其他法定加減原因（如身分加減）與加減例等一切情形，綜其全部罪刑之結果而為比較後，再適用有利於行為人之法律處斷，而不得一部割裂分別適用不同之新、舊法（最高法院24年上字第4634號、29年上字第964號判例意旨及最高法院95年度第8次刑事庭會議決議參照）\n",
            "4: 經查：1.刑法第33條第5款關於罰金刑之規定業於94年2月2日修正，於95年7月1日生效，修正前刑法第33條第5款規定：「罰金：1元（銀元）以上\n",
            "5: 」，並依現行法規所定貨幣單位折算新臺幣條例規定，以銀元1元折算新臺幣3元，故修正前刑法規定罰金之最低數額為新臺幣3元；修正後刑法第33條第5款規定：「罰金：新臺幣1,000元以上，以百元計算之\n",
            "6: 」，故修正後刑法規定罰金之最低數額提高為新臺幣1,000元；比較上開罰金刑之最高數額，於修正後並無不同，惟修正後刑法第33條第5款所定罰金刑最低數額，既較修正前提高，依前開說明，應適用對被告有利之修正前刑法第33條第5款之規定\n",
            "7: 2.修正前刑法第28條規定：「二人以上共同實施犯罪之行為者，皆為正犯\n",
            "8: 」，修正後該條規定為：「二人以上共同實行犯罪之行為者，皆為正犯\n",
            "9: 」，揆諸本條之修正理由，係為釐清陰謀共同正犯、預備共同正犯、共謀共同正犯是否合乎本條之正犯要件，並將陰謀共同正犯、預備共同正犯剔除於本條適用之外，以符合近代刑法之個人責任原則、法治國人權保障思想及犯罪支配理論，自屬行為後法律有變更，而非僅屬文字修正，應有新舊法比較適用問題（最高法院97年度台上字第37號判決意旨參照）\n",
            "10: 本件被告穆立明與徐鴻光就前揭行使偽造私文書及詐欺取財犯行各具有犯意聯絡及行為分擔，不論依修正前或修正後之規定，均屬共同正犯，對被告並無有利或不利之情形，應適用行為時之法律\n",
            "\n",
            " 1: （五）綜上所述，被告上開所辯各節，無非事後避重就輕、圖卸之詞，不足採信，被告行使偽造私文書及詐欺取財等犯行，事證明確，應依法論科\n",
            "2: 三、論罪科刑部分：（一）按被告行為後，94年2月2日修正公布之刑法已於95年7月1日生效施行，其中第2條第1項「行為後法律有變更者，適用行為時之法律\n",
            "3: 但行為後之法律有利於行為人者，適用最有利於行為人之法律」之規定，係規範行為後法律變更所生新、舊法律比較適用之準據法，並非刑法實體法律，自不生行為後法律變更之比較適用問題，故刑法修正施行後，應適用該修正後之第2條第1項之規定，依「從舊、從輕」之原則比較新、舊法律之適用；又比較新舊法時，應就罪刑有關之共犯、未遂犯、想像競合犯、牽連犯、連續犯、結合犯，以及累犯加重、自首減輕暨其他法定加減原因（如身分加減）與加減例等一切情形，綜其全部罪刑之結果而為比較後，再適用有利於行為人之法律處斷，而不得一部割裂分別適用不同之新、舊法（最高法院24年上字第4634號、29年上字第964號判例意旨及最高法院95年度第8次刑事庭會議決議參照）\n",
            "4: 經查：1.刑法第33條第5款關於罰金刑之規定業於94年2月2日修正，於95年7月1日生效，修正前刑法第33條第5款規定：「罰金：1元（銀元）以上\n",
            "5: 」，並依現行法規所定貨幣單位折算新臺幣條例規定，以銀元1元折算新臺幣3元，故修正前刑法規定罰金之最低數額為新臺幣3元；修正後刑法第33條第5款規定：「罰金：新臺幣1,000元以上，以百元計算之\n",
            "6: 」，故修正後刑法規定罰金之最低數額提高為新臺幣1,000元；比較上開罰金刑之最高數額，於修正後並無不同，惟修正後刑法第33條第5款所定罰金刑最低數額，既較修正前提高，依前開說明，應適用對被告有利之修正前刑法第33條第5款之規定\n",
            "7: 2.修正前刑法第28條規定：「二人以上共同實施犯罪之行為者，皆為正犯\n",
            "8: 」，修正後該條規定為：「二人以上共同實行犯罪之行為者，皆為正犯\n",
            "9: 」，揆諸本條之修正理由，係為釐清陰謀共同正犯、預備共同正犯、共謀共同正犯是否合乎本條之正犯要件，並將陰謀共同正犯、預備共同正犯剔除於本條適用之外，以符合近代刑法之個人責任原則、法治國人權保障思想及犯罪支配理論，自屬行為後法律有變更，而非僅屬文字修正，應有新舊法比較適用問題（最高法院97年度台上字第37號判決意旨參照）\n",
            "10: 本件被告穆立明與徐鴻光就前揭行使偽造私文書及詐欺取財犯行各具有犯意聯絡及行為分擔，不論依修正前或修正後之規定，均屬共同正犯，對被告並無有利或不利之情形，應適用行為時之法律\n",
            "========================================\n",
            "我想請你幫我對一篇判決書做Extraction-based summarization，我已經將這篇判決書切成多個句子，請幫我從以下句子中挑選出和犯罪事實情節最相關的3個句子。\n",
            "1: 3.被告行為後新法業已刪除牽連犯之規定，依舊法成立方法、結果行為而僅論以一罪者，依新法將論以數罪，比較新、舊法結果，自以修正前刑法第55條牽連犯之規定，較有利於被告\n",
            "2: 4.綜此，本院經綜合上述各條文修正前、後之比較，參照前揭最高法院決議及修正後刑法第2條第1項前段、後段規定之「從舊、從輕」原則，被告穆立明上開犯行自應適用行為時之法律，予以論處\n",
            "3: （二）核被告穆立明所為，係犯刑法第216條、第210條之行使偽造私文書罪、同法第339條第1項詐欺取財罪\n",
            "4: 被告穆立明於本案參與經營契約書上偽造「志朗交通有限公司」、「陳健志」印章及印文乃偽造私文書之部分行為，其偽造本案參與經營契約書後持以行使，偽造之低度行為復為行使之高度行為所吸收，均不另論罪\n",
            "5: 被告穆立明與徐鴻光就行使偽造私文書及詐欺之犯行有犯意聯絡及行為分擔，為共同正犯\n",
            "6: 又其等行使偽造私文書之目的，在詐取告訴人之金錢，所犯連續行使偽造私文書與詐欺取財2罪間，有方法、目的之牽連關係，應依修正前刑法第55條規定，從一較重之行使偽造私文書罪處斷\n",
            "7: （三）爰審酌被告穆立明不思以正當途徑賺取錢財，竟偽造志朗公司及其負責人陳建志之印章，進而偽造本案參與經營契約書，而詐取告訴人之金錢，足生損害於志朗公司、陳建志、告訴人，並危害社會交易秩序，所為實有不該，犯後否認犯行，未見悔悟之心，兼衡被告穆立明有違反票據法之前科，有臺灣高等法院被告前案紀錄表在卷可稽（見本院卷第60頁），素行尚可，共同被告徐鴻光於詐得借款後已陸續返還利息予告訴人與朱庭峰，及被告穆立明為高中肄業之智識程度，經濟狀況為小康之生活狀況等一切情狀（見被告警詢筆錄受詢問人欄，本院卷第6頁），量處如主文所示之刑，以資懲儆\n",
            "8: 又關於易科罰金之折算標準，修正前刑法第41條第1項前段規定：「犯最重本刑為5年以下有期徒刑以下之刑之罪，而受6個月以下有期徒刑或拘役之宣告，因身體、教育、職業、家庭之關係或其他正當事由，執行顯有困難者，得以1元以上3元以下折算1日，易科罰金\n",
            "9: 」，再依據修正前罰金罰鍰提高標準條例第2條：「依刑法第41條易科罰金或第42條第2項易服勞役者，均就其原定數額提高為1百倍折算1日；法律所定罰金數額未依本條例提高倍數，或其處罰法條無罰金刑之規定者，亦同\n",
            "10: 」之規定，被告行為時之易科罰金折算標準，應以銀元1百元以上3百元以下折算1日，經折算為新臺幣後，應以新臺幣3百元以上9百元以下折算1日\n",
            "\n",
            " 1: 3.被告行為後新法業已刪除牽連犯之規定，依舊法成立方法、結果行為而僅論以一罪者，依新法將論以數罪，比較新、舊法結果，自以修正前刑法第55條牽連犯之規定，較有利於被告\n",
            "2: 4.綜此，本院經綜合上述各條文修正前、後之比較，參照前揭最高法院決議及修正後刑法第2條第1項前段、後段規定之「從舊、從輕」原則，被告穆立明上開犯行自應適用行為時之法律，予以論處\n",
            "3: （二）核被告穆立明所為，係犯刑法第216條、第210條之行使偽造私文書罪、同法第339條第1項詐欺取財罪\n",
            "========================================\n",
            "我想請你幫我對一篇判決書做Extraction-based summarization，我已經將這篇判決書切成多個句子，請幫我從以下句子中挑選出和犯罪事實情節最相關的3個句子。\n",
            "1: 惟95年7月1日施行之刑法第41條第1項前段規定修正為：「犯最重本刑為5年以下有期徒刑以下之刑之罪，而受6個月以下有期徒刑或拘役之宣告者，得以新臺幣1千元、2千元或3千元折算一日，易科罰金\n",
            "2: 」，另95年7月1日生效施行之罰金罰鍰提高標準條例則刪除原本第2條之規定\n",
            "3: 是以比較新舊法結果，自以舊法所定之易科罰金折算標準有利於被告，故應依修正前刑法第41條第1項前段、修正前罰金罰鍰提高標準條例第2條規定，就所宣告之刑部分諭知易科罰金之折算標準\n",
            "4: （四）偽造之「臺北市計程車客運駕駛人自備車輛參與經營契約書」原本1份固經共同被告徐鴻光於借款時行使交付予宏帝當鋪，業如前述，惟此僅係共同被告徐鴻光為借得款項，而將本案參與經營契約書交付當鋪作為擔保使用，其所有權仍為共同被告徐鴻光所有，不因行使而移轉為宏帝當鋪所有，又該偽造之契約既係供本件犯行所用，爰依刑法第38條第1項第2款規定宣告沒收\n",
            "5: 又契約上偽造之「志朗交通有限公司」印文4枚、「陳健志」之印文6枚固係偽造之印文，已因該契約之沒收而包括在內，無再重複諭知沒收之必要\n",
            "6: 另告訴人為提起本件告訴，而複印本案參與經營契約書資為證據（見94年度偵字第8715號卷第15至第17頁），因認僅係作為本案訴訟使用，而非被告穆立明、共同被告徐鴻光供本件犯行所用之物，就複印之契約書上之「志朗交通有限公司」印文4枚、「陳健志」之印文6枚，爰不予宣告沒收\n",
            "7: 至被告穆立明偽刻之「志朗交通有限公司」、「陳健志」印章各1枚，係偽造之印章，且無證據證明業已滅失，應依刑法第219條宣告沒收\n",
            "8: （五）再按本條例施行前，經通緝而未於中華民國96年12月31日以前自動歸案接受偵查、審判或執行者，不得依本條例減刑，中華民國九十六年罪犯減刑條例第5條定有明文\n",
            "9: 查本件被告穆立明所為前開犯行之犯罪時間固係在96年4月24日以前，但其曾於中華民國九十六年罪犯減刑條例施行（96年7月16日施行）前之95年12月21日因本案經本院以95年士院刑玄緝字第463號通緝書發佈通緝，於102年9月1日甫緝獲歸案等情，此有前開通緝書、歸案證明書、本院102年士院刑玄銷字第289號撤銷通緝書各1份存卷可參（95年度訴字第955號卷第43頁、本院卷第26頁、第43頁），從而，依前開規定，本案被告無從依中華民國九十六年罪犯減刑條例之規定減刑，併此敘明\n",
            "10: 據上論斷，應依刑事訴訟法第299條第1項前段，刑法第2條1項前段、第28條、第216條、第210條、第339條第1項、第219條、第38條第1項第2款、修正前刑法第55條、第41條第1項前段，刑法施行法第1條之1第1項，修正前罰金罰鍰提高標準條例第2條，現行法規所定貨幣單位折算新臺幣條例第2條，判決如主文\n",
            "\n",
            " 1: 95年7月1日施行之刑法第41條第1項前段規定修正為：「犯最重本刑為5年以下有期徒刑以下之刑之罪，而受6個月以下有期徒刑或拘役之宣告者，得以新臺幣1千元、2千元或3千元折算一日，易科罰金」，另95年7月1日生效施行之罰金罰鍰提高標準條例則刪除原本第2條之規定\n",
            "3: 是以比較新舊法結果，自以舊法所定之易科罰金折算標準有利於被告，故應依修正前刑法第41條第1項前段、修正前罰金罰鍰提高標準條例第2條規定，就所宣告之刑部分諭知易科罰金之折算標準\n",
            "7: 至被告穆立明偽刻之「志朗交通有限公司」、「陳健志」印章各1枚，係偽造之印章，且無證據證明業已滅失，應依刑法第219條宣告沒收\n",
            "========================================\n",
            "我想請你幫我對一篇判決書做Extraction-based summarization，我已經將這篇判決書切成多個句子，請幫我從以下句子中挑選出和犯罪事實情節最相關的3個句子。\n",
            "1: 本案經檢察官黃仙宜到庭執行職務\n",
            "2: 中華民國102年12月3日刑事第七庭審判長法官雷雯華法官陳介安法官蔡子琪以上正本證明與原本無異\n",
            "3: 如不服本判決應於收受送達後10日內向本院提出上訴書狀，並應敘述具體理由\n",
            "4: 其未敘述上訴理由者，應於上訴期間屆滿後20日內向本院補提理由書（均須按他造當事人之人數附繕本）「切勿逕送上級法院」\n",
            "5: 書記官李宜蓁中華民國102年12月5日附錄本案論罪科刑所依據之法條：刑法第216條、第210條、第339條第1項偽造、變造私文書，足以生損害於公眾或他人者，處5年以下有期徒刑\n",
            "6: 偽造印章、印文或署押，足以生損害於公眾或他人者，處3年以下有期徒刑\n",
            "7: 盜用印章、印文或署押，足以生損害於公眾或他人者，亦同\n",
            "8: 意圖為自己或第三人不法之所有，以詐術使人將本人或第三人之物交付者，處5年以下有期徒刑、拘役或科或併科1千元以下罰金\n",
            "9: \n",
            "\n",
            " 1: 本案經檢察官黃仙宜到庭執行職務\n",
            "2: 中華民國102年12月3日刑事第七庭審判長法官雷雯華法官陳介安法官蔡子琪以上正本證明與原本無異\n",
            "3: 如不服本判決應於收受送達後10日內向本院提出上訴書狀，並應敘述具體理由\n",
            "4: 其未敘述上訴理由者，應於上訴期間屆滿後20日內向本院補提理由書（均須按他造當事人之人數附繕本）「切勿逕送上級法院」\n",
            "========================================\n",
            "我想請你幫我對一篇判決書做Extraction-based summarization，我已經將這篇判決書切成多個句子，請幫我從以下句子中挑選出和犯罪事實情節最相關的3個句子。\n",
            "1: 徐鴻光（所涉行使偽造私文書犯行，業經本院以95年度訴字第955號判決處有期徒刑3月、緩刑3年確定）因需款使用，知悉穆立明有借款管道，為求順利借款，2人竟共同意圖為自己不法所有，基於行使偽造私文書及詐欺取財之犯意聯絡，知悉車牌號碼00-000號營業小客車係徐鴻光向志朗交通有限公司（下稱志朗公司）租賃之車輛，竟由穆立明先於不詳時間、不詳地點，偽刻「志朗交通有限公司」及負責人「陳健志」印章（正確姓名為陳建志，誤刻為「陳健志」）各1枚，並偽造「陳健志」代表志朗公司與徐鴻光簽署之「臺北市計程車客運駕駛人自備車輛參與經營契約書」（下稱本案參與經營契約書），虛偽記載徐鴻光提供上述營業小客車靠行志朗公司營業等不實內容，並持上開偽刻印章，偽造「志朗交通有限公司」印文4枚、「陳健志」印文6枚於本案參與經營契約書上，再於92年3月6日交徐鴻光於立約人乙方欄簽名，2人復於同日協同不知情之徐鴻光配偶徐樂仁（所涉行使偽造私文書犯行，業經本院以95年度訴字第955號判決無罪確定），前往臺北市○○區○○街00巷0號2樓王傑生所經營之宏帝當舖（現更名為渣打當舖），由徐鴻光、穆立明交付偽造本案參與經營契約書向宏帝當鋪借款新臺幣（下同）10萬元以為行使，並約定由徐樂仁擔任連帶保證人，王傑生誤信上開車輛為徐鴻光所有而陷入錯誤，於扣除利息後交付9萬1千元借款予徐鴻光夫婦，足以生損害於志朗公司、陳建志、王傑生。\n",
            "2: 嗣因徐鴻光僅清償每期7千元之分期款共11期計7萬7千元，未全額清償即無力負擔債務，王傑生始查知上開車輛非徐鴻光所有，而悉上情。\n",
            "3: （五）綜上所述，被告上開所辯各節，無非事後避重就輕、圖卸之詞，不足採信，被告行使偽造私文書及詐欺取財等犯行，事證明確，應依法論科\n",
            "4: 三、論罪科刑部分：（一）按被告行為後，94年2月2日修正公布之刑法已於95年7月1日生效施行，其中第2條第1項「行為後法律有變更者，適用行為時之法律\n",
            "5: 但行為後之法律有利於行為人者，適用最有利於行為人之法律」之規定，係規範行為後法律變更所生新、舊法律比較適用之準據法，並非刑法實體法律，自不生行為後法律變更之比較適用問題，故刑法修正施行後，應適用該修正後之第2條第1項之規定，依「從舊、從輕」之原則比較新、舊法律之適用；又比較新舊法時，應就罪刑有關之共犯、未遂犯、想像競合犯、牽連犯、連續犯、結合犯，以及累犯加重、自首減輕暨其他法定加減原因（如身分加減）與加減例等一切情形，綜其全部罪刑之結果而為比較後，再適用有利於行為人之法律處斷，而不得一部割裂分別適用不同之新、舊法（最高法院24年上字第4634號、29年上字第964號判例意旨及最高法院95年度第8次刑事庭會議決議參照）\n",
            "6: 經查：1.刑法第33條第5款關於罰金刑之規定業於94年2月2日修正，於95年7月1日生效，修正前刑法第33條第5款規定：「罰金：1元（銀元）以上\n",
            "7: 」，並依現行法規所定貨幣單位折算新臺幣條例規定，以銀元1元折算新臺幣3元，故修正前刑法規定罰金之最低數額為新臺幣3元；修正後刑法第33條第5款規定：「罰金：新臺幣1,000元以上，以百元計算之\n",
            "8: 」，故修正後刑法規定罰金之最低數額提高為新臺幣1,000元；比較上開罰金刑之最高數額，於修正後並無不同，惟修正後刑法第33條第5款所定罰金刑最低數額，既較修正前提高，依前開說明，應適用對被告有利之修正前刑法第33條第5款之規定\n",
            "9: 2.修正前刑法第28條規定：「二人以上共同實施犯罪之行為者，皆為正犯\n",
            "10: 」，修正後該條規定為：「二人以上共同實行犯罪之行為者，皆為正犯\n",
            "11: 」，揆諸本條之修正理由，係為釐清陰謀共同正犯、預備共同正犯、共謀共同正犯是否合乎本條之正犯要件，並將陰謀共同正犯、預備共同正犯剔除於本條適用之外，以符合近代刑法之個人責任原則、法治國人權保障思想及犯罪支配理論，自屬行為後法律有變更，而非僅屬文字修正，應有新舊法比較適用問題（最高法院97年度台上字第37號判決意旨參照）\n",
            "12: 本件被告穆立明與徐鴻光就前揭行使偽造私文書及詐欺取財犯行各具有犯意聯絡及行為分擔，不論依修正前或修正後之規定，均屬共同正犯，對被告並無有利或不利之情形，應適用行為時之法律\n",
            "13: 3.被告行為後新法業已刪除牽連犯之規定，依舊法成立方法、結果行為而僅論以一罪者，依新法將論以數罪，比較新、舊法結果，自以修正前刑法第55條牽連犯之規定，較有利於被告\n",
            "14: 4.綜此，本院經綜合上述各條文修正前、後之比較，參照前揭最高法院決議及修正後刑法第2條第1項前段、後段規定之「從舊、從輕」原則，被告穆立明上開犯行自應適用行為時之法律，予以論處\n",
            "15: （二）核被告穆立明所為，係犯刑法第216條、第210條之行使偽造私文書罪、同法第339條第1項詐欺取財罪\n",
            "16: 95年7月1日施行之刑法第41條第1項前段規定修正為：「犯最重本刑為5年以下有期徒刑以下之刑之罪，而受6個月以下有期徒刑或拘役之宣告者，得以新臺幣1千元、2千元或3千元折算一日，易科罰金」，另95年7月1日生效施行之罰金罰鍰提高標準條例則刪除原本第2條之規定\n",
            "17: 是以比較新舊法結果，自以舊法所定之易科罰金折算標準有利於被告，故應依修正前刑法第41條第1項前段、修正前罰金罰鍰提高標準條例第2條規定，就所宣告之刑部分諭知易科罰金之折算標準\n",
            "18: 至被告穆立明偽刻之「志朗交通有限公司」、「陳健志」印章各1枚，係偽造之印章，且無證據證明業已滅失，應依刑法第219條宣告沒收\n",
            "19: 本案經檢察官黃仙宜到庭執行職務\n",
            "20: 中華民國102年12月3日刑事第七庭審判長法官雷雯華法官陳介安法官蔡子琪以上正本證明與原本無異\n",
            "21: 如不服本判決應於收受送達後10日內向本院提出上訴書狀，並應敘述具體理由\n",
            "22: 其未敘述上訴理由者，應於上訴期間屆滿後20日內向本院補提理由書（均須按他造當事人之人數附繕本）「切勿逕送上級法院」\n",
            "\n",
            " 1: 徐鴻光和穆立明因需要借款，共同偽造「志朗交通有限公司」和「陳健志」的印章，以及「臺北市計程車客運駕駛人自備車輛參與經營契約書」，向宏帝當鋪借款10萬元。\n",
            "2: 徐鴻光和穆立明偽造的契約書導致王傑生誤信車輛為徐鴻光所有，而提供借款。\n",
            "3: 徐鴻光和穆立明被依行使偽造私文書和詐欺取財罪起訴。\n",
            "========================================\n",
            "我想請你幫我對一篇判決書做Extraction-based summarization，我已經將這篇判決書切成多個句子，請幫我從以下句子中挑選出和犯罪事實情節最相關的3個句子。\n",
            "1: 一、劉木卿（曾有犯背信罪之紀錄，本件不構成累犯），係專業代書，為從事業務之人，曾多次承辦祭祀公業相關業務，深知有關之各種申辦程序及事宜，時值政府立法要求祭祀公業申報以便管理（即96年12月12日公布之祭祀公業條例，要求於該條例施行已存在，而未依祭祀公業公土清理要點或臺灣省祭祀公業土地清理辦法之規定申報並核發派下全員證明書之祭祀公理，應於同條例第7條規定之期間辦理申報等事宜），其知坐落於彰化縣田中鎮○○○段158、159地號二筆土地係屬祭祀公業蕭子玉所有，尚未清理依法核發派下全員證明書等情，故即主動與該公業之管理人蕭賜福、蕭耀西之後代子孫蕭慶堂、蕭慶珍、蕭如壎、蕭慶三等人聯絡處理該祭祀公業之相關事宜（此與該二筆土地密不可分），經洽商結果，於蕭慶堂、蕭慶珍、蕭如壎、蕭慶三等人不需支費下，劉木卿代為申辦，事成後，由劉木卿獲得該祭祀公業所有土地價值20％之報酬，劉木卿竟為圖得該優厚之報酬；另蕭慶堂等人，則亦冀得他人勿來參與成為祭祀公業蕭子玉之派下員，方減少土地分歸他人之意下，其等明知上開祭祀公業蕭子玉之設立人非僅係蕭賜福及該公業之享祀人係蕭子玉等情，其等竟共同基於意圖為自已不法所有及行使業務上登載不實文書、使公務員登載不實之犯意聯絡，接續為下列行為：(一)由劉木卿於民國98年8月3日前數日內某時，在彰化縣員林鎮○○路○段172之1號住處，於業務上登載祭祀公業蕭子玉「3、淵源來歷：由蕭賜福積蓄購買本公業所有坐落彰化縣田中鎮○○○段158、159地號等二筆之土地\n",
            "2: 以祭田收益，作為每年清明節祭祀祖先之資\n",
            "3: 並期望子孫『蕭子』被珍惜如玉，故以『祭祀公業蕭子玉』命名\n",
            "4: 4、設立者姓名：先祖蕭賜福所設立\n",
            "5: 5、祭祀地點即供奉所在地：日據時期祭祀地點為彰化廳武東堡社頭庄百八拾壹番地及彰化廳武東堡社頭庄百八十三番地\n",
            "6: 光復後彰化縣社頭鄉社頭村社頭第一巷3號及彰化縣社頭鄉○○村○○○路360號，民國70年間因祭祀地點公廳拆除改建後，由各派下員各自將祖先神位分靈祭祀，申請人祭祀地點為彰化縣社頭鄉○○村○○○路40號\n",
            "7: 蕭如壎祭祀地點為彰化縣社頭鄉○○村○○○路46號\n",
            "8: 6、土地所在地：彰化縣田中鎮○○○段158、159地號（此部分關於土地之標示應屬無誤）\n",
            "9: 」等不實沿革，及不實之「派下現員：蕭慶三、蕭慶堂、蕭慶珍、蕭如壎」名冊、不實之派下全員系統表、推舉書後，連同該祭祀公業之財產清冊、土地登記第一類謄本，書寫以蕭慶堂為申報人之祭祀公業派下全員證明書申請書，於98年8月4日由劉木卿持向彰化縣田中鎮公所申請該祭祀公業派下全員證明書而行使，使不知情之田中鎮公所民政課承辦人員誤認為所申報關於該祭祀公業之「享祀人」、「設立人」與祭祀公業財產等要件皆具備，及該祭祀公業之派下員僅有蕭慶堂、蕭慶珍、蕭慶三與蕭如壎，而將上開不實事項登載於職務上所掌之公文書，經田中鎮公所依法公告徵求異議，俟公告期滿無人異議後，劉木卿、蕭慶堂、蕭慶珍、蕭慶三與蕭如壎復基於意圖為自己不法利益之犯意聯絡，由劉木卿以該祭祀公業派下員證明申請案已公告期滿無人異議，於98年10月7日在其前揭住處製作祭祀公業蕭子玉申請書，表明蕭慶堂、蕭慶珍、蕭慶三與蕭如壎為該祭祀公業僅存之派下員，於98年10月8日以蕭慶堂名義向田中鎮公所申請核發派下員證明書，致不知情之田中鎮公所民政課承辦人員於98年10月12日核發祭祀公業派下全員證明書、祭祀公業蕭子玉派下全員系統表、派下現員名冊與不動產清冊給蕭慶堂，使蕭慶三、蕭慶堂、蕭慶珍、蕭如壎取得祭祀公業蕭子玉派下員資格之利益\n",
            "10: 嗣於98年10月12日，劉木卿於前揭住處，接續在業務上製作之祭祀公業蕭子玉申請書登載派下全員蕭慶三、蕭慶堂、蕭慶珍、蕭如壎推舉蕭慶堂擔任新任管理人之不實事項，於翌日由劉木卿以蕭慶堂名義，連同該祭祀公業派下全員證明書、祭祀公業蕭子玉派下全員系統表、派下現員名冊與不動產清冊持向田中鎮公所申請管理人變更核備而行使之，使不知情之田中鎮公所民政課承辦人員登載於職務上所載之公文書，均足以生損害於該祭祀公業真正派下員及彰化縣田中鎮公所對祭祀公業管理之正確性\n",
            "\n",
            " 1: 劉木卿主動與祭祀公業蕭子玉之管理人蕭賜福、蕭耀西之後代子孫聯絡處理該祭祀公業之相關事宜，經洽商結果，於蕭慶堂、蕭慶珍、蕭如壎、蕭慶三等人不需支費下，劉木卿代為申辦，事成後，由劉木卿獲得該祭祀公業所有土地價值20％之報酬。\n",
            "2: 劉木卿、蕭慶堂、蕭慶珍、蕭慶三與蕭如壎共同基於意圖為自已不法所有及行使業務上登載不實文書、使公務員登載不實之犯意聯絡，接續為下列行為：由劉木卿於民國98年8月3日前數日內某時，在彰化縣員林鎮○○路○段172之1號住處，於業務上登載祭祀公業蕭子玉「3、淵源來歷：由蕭賜福積蓄購買本公業所有坐落彰化縣田中鎮○○○段158、159地號等二筆之土地以祭田收益，作為每年清明節祭祀祖先之資，並期望子孫『蕭子』被珍惜如玉，故以『祭祀公業蕭子玉』命名」等不實沿革，及不實之「派下現員：蕭慶三、蕭慶堂、蕭慶珍、蕭如壎」名冊、不實之派下全員系統表、推舉書後，連同該祭祀公業之財產清冊、土地登記第一類謄本，書寫以蕭慶堂為申報人之祭祀公業派下全員證明書申請書，於98年8月4日由劉木卿持向彰化縣田中鎮公所申請該祭祀公業派下全員證明書而行使，使不知情之田中鎮公所民政課承辦人員誤認為所申報關於該祭祀公業之「享祀人」、「設立人」與祭祀公業財產等要件皆具備，及該祭祀公業之派下員僅有蕭慶堂、蕭慶珍、蕭慶三與蕭如壎，而將上開不實事項登載於職務上所掌之公文書，經田中鎮公所依法公告徵求異議，俟公告期滿無人異議後，劉木卿、蕭慶堂、蕭慶珍、蕭慶三與蕭如壎復基於意圖為自己不法利益之犯意聯絡，由劉木卿以該祭祀公業派下員證明申請案已公告期滿無人異議，於98年10月7日在其前揭住處製作祭祀公業蕭子玉申請書，表明蕭慶堂、蕭慶珍、蕭慶三與蕭如壎為該祭祀公業僅存之派下員，於98年10月8日以蕭慶堂名義向田中鎮公所申請核發派下員證明書，致不知情之田中鎮公所民政課承辦人員於98年10月12日核發祭祀公業派下全員證明書、祭祀公業蕭子玉派下全員系統表、派下現員名冊與不動產清冊給蕭慶堂，使蕭慶三、蕭慶堂、蕭慶珍、蕭如壎取得祭祀公業蕭子玉派下員資格之利益。\n",
            "========================================\n",
            "我想請你幫我對一篇判決書做Extraction-based summarization，我已經將這篇判決書切成多個句子，請幫我從以下句子中挑選出和犯罪事實情節最相關的3個句子。\n",
            "1: (二)劉木卿、蕭慶堂、蕭慶珍、蕭如壎與蕭慶三於祭祀公業蕭子玉之管理人變更後，其等知曉該祭祀公業因尚有共同設立人（亦即蕭賜福係公業之管理人，並非公業所有土地之單獨所有權人），應有其祭祀公業之派下員存在，在未得其他人同意之下（即該派下員並無解散該祭祀公業之合意），竟賡續前開犯意，由劉木卿於99年1月9日，在其彰化縣員林鎮○○路○段172之1號住處，於職務上製作之該祭祀公業派下員同意書上登載全體派下員蕭慶堂、蕭慶珍、蕭如壎與蕭慶三同意解散該祭祀公業，由各房奉請祖先牌位各自祭祀，及該祭祀公業因解散而需辦理彰化縣田中鎮○○○段158、159地號土地更名登記之土地登記申請書等不實事項後，委由劉木卿持向彰化縣田中地政事務所辦理系爭土地更名登記\n",
            "2: 劉木卿乃於99年1月22日，連同系爭土地所有權狀、土地登記清冊、田中鎮公所核發之祭祀公業派下全員證明書、派下現員名冊持向彰化縣田中地政事務所申請系爭土地更名登記為蕭慶堂、蕭慶珍、蕭如壎與蕭慶三所有而行使，致使不知情之田中地政事務所承辦人員誤認蕭慶堂、蕭慶珍、蕭如壎與蕭慶三為該祭祀公業之全體派下員，及蕭慶堂、蕭慶珍、蕭如壎與蕭慶三均同意解散該祭祀公業，乃將系爭土地所有權人祭祀公業蕭子玉變更登記為蕭慶堂、蕭慶珍、蕭如壎與蕭慶三分別共有（蕭慶三、蕭如壎各取得系爭土地三分之一之應有部分；蕭慶堂、蕭慶珍則各六分之一之應有部分）\n",
            "3: 足以生損害於該祭祀公業真正派下員及彰化縣田中鎮公所對祭祀公業管理之正確性\n",
            "4: 二、案經蕭耀森訴由彰化縣警察局田中分局報告臺灣彰化方法院檢察署檢察官偵查起訴\n",
            "5: 理由壹、程序方面（證據能力）：現行刑事訴訟法為保障被告之反對詰問權，排除具有虛偽危險性之傳聞證據，以求實體真實之發見，於該法第159條第1項明定被告以外之人於審判外之言詞或書面陳述，除法律有規定者外，不得作為證據\n",
            "6: 本件檢察官、被告及辯護人於本院準備程序及審理程序中，並未就本案卷內證據資料之證據能力提出爭執，且迄於言詞辯論終結前，均未主張有刑事訴訟法第159條第1項不得為證據之情形，應認均已同意本案卷內之證據資料均得作為本案證據，且經本院審酌後，認無不適當之情形，是本案卷內之證據均有證據能力，合先敘明\n",
            "7: 貳、實體方面：一、訊據被告劉木卿、蕭慶堂、蕭慶珍、蕭慶三與蕭如壎等人，均矢口否認涉有上開行使業務上登載不實文書、使公務員登載不實及詐欺取財之犯行\n",
            "8: 被告劉木卿辯稱：伊從事代書工作，有關辦理本件祭祀公業蕭子玉之申報事宜，一切資料均來自被告蕭慶堂、蕭慶珍、蕭慶三與蕭如壎等會商後所告知，伊無捏造申報之犯行，且被告蕭慶堂等人告知沿革資料縱內容與事實有出入，或肇因證據散失、記憶模糊，或係告知有誤解所致，絕無任何偽造之故意云云\n",
            "9: 另被告蕭慶堂、蕭慶珍、蕭慶三與蕭如壎則均於辯稱：被告兄弟四人係祭祀公業蕭子玉真正之派下員，故其等所為，並無觸法可言，且上開有關申報祭祀公業蕭子玉中沿革及相關資料中，係來自父親所告知，伊無偽造之故意，因此並未涉有公訴人所指之犯行云云\n",
            "10: 但查：(一)被告蕭如壎於警詢時，明白證稱：「（問：蕭子玉祭祀公業有無財產？分佈何處？）之前我不知道，一位住社頭鄉○○村○○路旁劉姓代書告知，我才知道\n",
            "\n",
            " 1: 劉木卿、蕭慶堂、蕭慶珍、蕭如壎與蕭慶三於祭祀公業蕭子玉之管理人變更後，知悉該祭祀公業仍有共同設立人，應有其派下員存在，在未得其他人同意之下，仍繼續解散該祭祀公業，並辦理土地更名登記。\n",
            "2: 劉木卿於99年1月9日，在職務上製作之派下員同意書登載全體派下員同意解散該祭祀公業，並辦理土地更名登記。\n",
            "3: 劉木卿於99年1月22日，持不實文件向彰化縣田中地政事務所申請系爭土地更名登記，致使田中地政事務所承辦人員誤認蕭慶堂、蕭慶珍、蕭如壎與蕭慶三為該祭祀公業之全體派下員，並同意解散該祭祀公業。\n",
            "========================================\n",
            "我想請你幫我對一篇判決書做Extraction-based summarization，我已經將這篇判決書切成多個句子，請幫我從以下句子中挑選出和犯罪事實情節最相關的3個句子。\n",
            "1: 是該劉姓代書帶我、蕭慶堂、蕭慶三及蕭慶珍４個兄弟前往彰化縣田中鎮○○路附近察看，告知附近土地是我們的\n",
            "2: 」、「（問：你是否知道蕭子玉祭祀公業沿革之內容為何？）我不知道」、「（問：蕭子玉祭祀公業申請前有何人管理及繳交土地稅金？）我不知道」（見警詢筆錄附於99年度偵字第7488號偵查卷宗第12頁背面至13頁背面）；後於偵查中，亦明確指出：「是代書主動來找我們，我才知道可以辦理，所以兄弟協調後，才由代書去處理\n",
            "3: 」（同上偵查卷宗第107頁背面）；後於本院審理中，具結證稱：「（問：你是否知道劉木卿代書所繕寫方的蕭子玉祭祀公業沿革係『希望蕭氏子孫被珍惜如玉』，才叫做蕭子玉祭祀公業，你是否知道這沿革？」我不知道\n",
            "4: 」、「是代書主動來找我們的」等語（見本院101年1月5日審判筆錄），該供述內容前後一致，均無矛盾，且該內容係不利被告蕭如壎之證詞，若非屬實，焉有自陷於不利之理\n",
            "5: 是被告蕭如壎上開證詞，其憑信度極高，自可採信\n",
            "6: 再參之被告蕭慶珍於72年9月27日即辦妥祭祀公業德盛公有擁有坐落彰化縣員林鎮○○○段第93地號（重測前為番仔崙93、104、136、213、218地號）土地事宜（相關謄本附於被告於100年2月21日所提之準備書狀內），而該祭祀公業亦係蕭賜福為管理人，若被告蕭慶珍兄弟早已獲知本件祭祀公業蕭子玉等相關訊息（含管理人係其等之先人蕭賜福），豈有不趁早處理，而遲至98年方為本件申請之理\n",
            "7: 因此，由上可知，被告蕭慶堂、蕭慶珍、蕭如壎、蕭慶三等人原本對祭祀公業蕭子玉之存否，包括其祖父係祭祀公業蕭子玉之管理人及該公業擁有坐落於彰化縣田中鎮○○○段158、159地號二筆土地等情，一無所悉，係同案被告劉木卿主動前來告知等情，確係為實\n",
            "8: (二)證人即被告蕭如壎之子蕭順昌；被告蕭慶堂之子蕭錦標經檢察官聲請傳訊到庭，2人於受詰問時，對於有關祭祀公業蕭子玉相關事宜均無所悉（見同上審判筆錄），此印證被告蕭如壎之上開證詞之真實性，因若如被告蕭慶堂、蕭慶珍、蕭慶三於本院審理中，所辯其明暸祭祀公業蕭子玉等事宜，焉有於其等係已逾六旬之人，而不轉告子嗣明白有關祭祀公業蕭子玉相關事項之理\n",
            "9: 再者，依彰化縣田中地政事務所100年5月9日中地一字第1000002260號函所示：蕭家裕（即居於系爭土地之人）於94、96、98年陸續有以網路申請系爭彰化縣田中鎮○○○段159地號土地電子謄本紀錄，而被告蕭如壎僅在99年11月23日以其名義，以網路申請系爭彰化縣田中鎮○○○段159地號土地電子謄本；另被告蕭慶珍係於98年8月21日申請係系爭彰化縣田中鎮○○○段158地號電子謄本（見本院卷二），此足徵被告蕭慶堂、蕭慶三、蕭慶珍與蕭如壎在98年以前，均不知悉該祭祀公業擁有系爭土地之事實\n",
            "10: 因若係98年以前即知悉系爭土地及該祭祀公業存在，理當有申辦系爭土地謄本以便主張權益之紀錄（例如蕭家裕即是），另被告劉木卿係專業代書，其亦自承多次承辦祭祀公業相關業務，是當深知有關之各種申辦程序及事宜，且本件被告蕭慶堂為祭祀公業蕭子玉申報等相關事宜，又係祭祀公業條例公布清理時限內所為，是有關本件辦理祭祀公業蕭子玉申報事宜及其後分歸土地之事，均係由被告劉木卿主動與該公業之管理人蕭賜福、蕭耀西之後代子孫即被告蕭慶堂、蕭慶珍、蕭如壎、蕭慶三等人所為之事實，應可認定（至於被告劉木卿何以會主動為之，因可獲得如事實一所述之優厚之報酬也）\n",
            "\n",
            " 1: 是該劉姓代書帶我、蕭慶堂、蕭慶三及蕭慶珍４個兄弟前往彰化縣田中鎮○○路附近察看，告知附近土地是我們的\n",
            "2: 被告蕭如壎上開證詞，其憑信度極高，自可採信\n",
            "3: 因此，由上可知，被告蕭慶堂、蕭慶珍、蕭如壎、蕭慶三等人原本對祭祀公業蕭子玉之存否，包括其祖父係祭祀公業蕭子玉之管理人及該公業擁有坐落於彰化縣田中鎮○○○段158、159地號二筆土地等情，一無所悉，係同案被告劉木卿主動前來告知等情，確係為實\n",
            "========================================\n",
            "我想請你幫我對一篇判決書做Extraction-based summarization，我已經將這篇判決書切成多個句子，請幫我從以下句子中挑選出和犯罪事實情節最相關的3個句子。\n",
            "1: (三)依據民事習慣，祭祀公業之構成，係設立人為祭祀祖先所購置或設立之獨立財產（見本院卷一所附之臺灣祭祀公業協會網站文獻、維基百科網站查詢資料），因此，構成祭祀公業須有下列要件：一、人的部份：須有享祀人、設立人、派下員、管理人\n",
            "2: 祭祀公業之享祀人即為祭祀公業所奉祀之人，多為設立人之尊長或先祖，而非以後代子孫為享祀人\n",
            "3: 而祭祀公業須有設立人之存在，有時係一人，有時係多人\n",
            "4: 另管理人為受任管理祭祀公業財產及宗務之人，以選任派下員為原則，例外亦有選任派下以外之人為管理人\n",
            "5: 二、祭祀公業財產：係指不動產、動產、股票、債券收益之意，此類祭祀公業的獨立財產，其財產應屬全體派下員公同共有，與派下子孫個別財產完全不相干\n",
            "6: 本件被告等人於98年8月3日向彰化田中鎮公所所提之申請書附件沿革中，記載：【以祭田收益，作為每年清明節祭祀祖先之資\n",
            "7: 並期望子孫『蕭子』被珍惜如玉，故以『祭祀公業蕭子玉』命名\n",
            "8: 】，非但無享祀人之具體記載，且竟指該公業名稱蕭子玉非係先人之名，而係泛指後代子孫受珍惜，此與前開民俗可謂大相逕異，而將【蕭子玉】指係為後代子孫，實屬偏離至極\n",
            "9: (四)被告蕭慶堂、蕭慶珍、蕭如壎、蕭慶三等四人對於蕭氏宗親所編之蕭氏族譜，均不爭執之其為真正（99年度偵字第5375號第159頁至172頁），其上明確記載蕭時中係蕭氏入漳洲始祖（明永樂九年辛卯科狀元），其子積玉（字子玉，配黃氏），...十一世輝美、十二世有志誠、志海、志湖、志達\n",
            "10: 而本院依職權前往被告蕭慶堂、蕭如壎家中，開啟伊等之祖先牌位，其內均有輝美、志海之記載，有院100年2月21日之勘驗筆錄及照片可稽，是顯見蕭積玉（字子玉）係被告蕭慶堂、蕭慶珍、蕭如壎、蕭慶三等四人之祖先無誤，而被告蕭慶堂於警詢中，竟出言稱：「（：你們祖先之中有無姓名【蕭子玉】之人？）沒有」（見警詢筆錄附於99年度偵字第7488號偵查卷宗第5頁），是顯見被告蕭慶堂為求本件祭祀公業蕭子玉所擁有之系爭土地能順利分歸，不惜為與事實不符之陳述\n",
            "\n",
            " 3: 祭祀公業之享祀人即為祭祀公業所奉祀之人，多為設立人之尊長或先祖，而非以後代子孫為享祀人\n",
            "5: 二、祭祀公業財產：係指不動產、動產、股票、債券收益之意，此類祭祀公業的獨立財產，其財產應屬全體派下員公同共有，與派下子孫個別財產完全不相干\n",
            "9: (四)被告蕭慶堂、蕭慶珍、蕭如壎、蕭慶三等四人對於蕭氏宗親所編之蕭氏族譜，均不爭執之其為真正（99年度偵字第5375號第159頁至172頁），其上明確記載蕭時中係蕭氏入漳洲始祖（明永樂九年辛卯科狀元），其子積玉（字子玉，配黃氏），...十一世輝美、十二世有志誠、志海、志湖、志達\n",
            "========================================\n",
            "我想請你幫我對一篇判決書做Extraction-based summarization，我已經將這篇判決書切成多個句子，請幫我從以下句子中挑選出和犯罪事實情節最相關的3個句子。\n",
            "1: (五)被告蕭慶三於警詢中，明確供陳：「（問：你是否知道蕭子玉祭祀公業沿革之內容為何？）蕭子玉是我們的祖先，祭祀公業是讓我祭祖留念\n",
            "2: 」、「（問：提示位於彰化縣社頭鄉社頭村草仔埤巷4號「芳遠堂」蕭子玉牌位，是否就是你所稱你們祖先蕭子玉？）我以前有跟我媽媽到該處拜拜，他只告知我該處供奉我們的祖先，當時我還小，我沒有注意看\n",
            "3: 」等語（見警詢筆錄附於99年度偵字第7488號偵查卷宗第10頁背面至11頁正面），而其與其他兄弟及被告劉木卿會商後，竟於所提之申請書附件沿革中，為上開記載，在在足證，被告蕭慶堂、蕭慶珍、蕭如壎、蕭慶三及同案被告即代書劉木卿均係明知且故意為之\n",
            "4: 斷非係肇因證據散失、記憶模糊所致\n",
            "5: (六)被告蕭慶堂、蕭慶珍、蕭如壎、蕭慶三及同案被告即代書劉木卿於100年2月11日委由辯護人具狀表示：「(一)無相關證據足以認定蕭賜福為設立人；但亦無證據足以認定蕭賜福非設立人」（見100年2月11日所提之準備書狀），被告等人既明確表示無相關證據足以認定蕭賜福為設立人，則其等於上開沿革中，載稱：「4、設立者姓名：先祖蕭賜福所設立\n",
            "6: 」，豈非係其等於無任何證據之下，徒憑己意所為，是該記載明確有不實之弊，自不待言\n",
            "7: (七)被告蕭慶堂、蕭慶珍、蕭如壎、蕭慶三之祖父蕭賜福於明治44年8月19日與齋友向同為其父蕭貞吉之繼承人蕭福智、蕭福根、蕭登王等人購買坐落彰化縣員林鎮○○○段第93地號（重測前為番仔崙93、104、136、213、218地號）土地設立祭祀公業德盛公，有土地登記簿謄本影本1份（含日據時代之登記簿，係被告所提出附於100年2月21日之準備書狀內），在卷可佐，觀日據時代之登記簿業主權事項欄就該事項係以記載【公業德盛公管理人武東堡社頭庄百八拾壹番地蕭賜福】之方式表示之，亦即方式之記載係表示土地係屬公業德盛公，而管理人係蕭賜福，且除蕭賜福外尚有其他派下員，並非由蕭賜福一人所獨設（因此公業係蕭賜福與其他人一同設立），再觀祭祀公業蕭子玉就系爭土地於日據時代之登記簿業主權事項欄內，其記載亦係以【公業蕭子玉管理人武東堡社頭庄百八拾壹番地蕭賜福】之方式表示之（見99年度偵字第5375號偵查卷宗第34頁），二者之記載方式，則代表含意亦相同，不容有不同之解釋，換言之此方式之記載係表示土地係屬公業蕭子玉，而管理人係蕭賜福，且除蕭賜福外尚有其他派下員，而縱蕭賜福係設立人，亦非由其一人所獨設（況依上述，並無相關證據足以認定蕭賜福係設立人）\n",
            "8: 而被告蕭慶堂、蕭慶珍、蕭如壎、蕭慶三及被告劉木卿竟於無視上開明白之記載，而申請書附件沿革中，明白書載「4、設立者姓名：先祖蕭賜福所設立\n",
            "9: 」，是在在足證其等確有虛偽記載之犯意甚明\n",
            "10: (八)日據時代土地總登記係於明治38年，若有明確資料提出證明確係所有權者，則在該土地登記事項欄內，必以業主相稱，此由上開坐落彰化縣員林鎮○○○段第93地號（重測前為番仔崙93、104、136、213、218地號）土地，原係蕭賜福之父蕭貞吉所有，則於日據時代之土地登記事項欄內，即載明「明治參拾八年拾壹月拾壹日蕭貞吉為業主」自明，而本件祭祀公業蕭子玉所擁有之系爭土地，於日據時代之登記簿業主權事項欄內，係直接記載「業主公業蕭子玉」，亦即該土地之原來所有權人係何人，並無記載，惟依該時之資料可以確定係系爭土地之所有權人係公業蕭子玉，而非蕭賜福\n",
            "\n",
            " 1: 被告蕭慶三於警詢中，明確供陳：「（問：你是否知道蕭子玉祭祀公業沿革之內容為何？）蕭子玉是我們的祖先，祭祀公業是讓我祭祖留念」、「（問：提示位於彰化縣社頭鄉社頭村草仔埤巷4號「芳遠堂」蕭子玉牌位，是否就是你所稱你們祖先蕭子玉？）我以前有跟我媽媽到該處拜拜，他只告知我該處供奉我們的祖先，當時我還小，我沒有注意看」等語（見警詢筆錄附於99年度偵字第7488號偵查卷宗第10頁背面至11頁正面），而其與其他兄弟及被告劉木卿會商後，竟於所提之申請書附件沿革中，為上開記載，在在足證，被告蕭慶堂、蕭慶珍、蕭如壎、蕭慶三及同案被告即代書劉木卿均係明知且故意為之斷非係肇因證據散失、記憶模糊所致\n",
            "2: 被告蕭慶堂、蕭慶珍、蕭如壎、蕭慶三及同案被告即代書劉木卿於100年2月11日委由辯護人具狀表示：「（一）無相關證據足以認定蕭賜福為設立人；但亦無證據足以認定蕭賜福非設立人」（見100年2月11日所提之準備書狀），被告等人既明確表示無相關證據足以認定蕭賜福為設立人，則其等於上開沿革中，載稱：「4、設立者姓名：先祖蕭賜福所設立」，豈非係其等於無任何證據之下，徒憑己意所為，是該記載明確有不實之弊，自不待言\n",
            "3: 被告蕭慶堂、蕭慶珍、蕭如壎、蕭慶三之祖父蕭賜福於明治44年8月19日與齋友向同為其父蕭貞吉之繼承人蕭福智、蕭福根、蕭登王等人購買坐落彰化縣員林鎮○○○段第93地號（重測前為番仔崙93、104、136、213、218地號）土地設立祭祀公業德盛公，有土地登記簿謄本影本1份（含日據時代之登記簿，係被告所提出附於100年2月21日之準備書狀內），在卷可佐，觀日據時代之登記簿業主權事項欄就該事項係以記載【公業德盛公管理人武東堡社頭庄百八拾壹番地蕭賜福】之方式表示之，亦即方式之記載係表示土地係屬公業德盛公，而管理人係蕭賜福，且除蕭賜福外尚有其他派下員，並非由蕭賜福一人所獨設（因此公業係蕭賜福與其他人一同設立），再觀祭祀公業蕭子玉就系爭土地於日據時代之登記簿業主權事項欄內，其記載亦係以【公業蕭子玉管理人武東堡社頭庄百八拾壹番地蕭賜福】之方式表示之（見99年度偵字第5375號偵查卷宗第34頁），二者之記載方式，則代表含意亦相同，不容有不同之解釋，換言之此方式之記載係表示土地係屬公業蕭子玉，而管理人係蕭賜福，且除蕭賜福外尚有其他派下員，而縱蕭賜福係設立人，亦非由其一人所獨設（況依上述，並無相關證據足以認定蕭賜福係設立人）\n",
            "========================================\n",
            "我想請你幫我對一篇判決書做Extraction-based summarization，我已經將這篇判決書切成多個句子，請幫我從以下句子中挑選出和犯罪事實情節最相關的3個句子。\n",
            "1: 再者祭祀公業常有祭典之舉行，故常有一定處所奉祀享祀人，但此與管理人之住處有別，而上開申請書附件沿革竟指蕭賜福之住所即係彰化廳武東堡社頭庄百八拾壹番地為奉祀地，益見該等記載偏離事實，故申請書附件沿革中關於「3、淵源來歷：由蕭賜福積蓄購買本公業所有坐落彰化縣田中鎮○○○段158、159地號等二筆之土地\n",
            "2: 」及「5、祭祀地點即供奉所在地」，顯係不實之記載\n",
            "3: (九)祭祀公業涉及祭典之舉行及因派下員常非單一，故需設管理人，而任該職者，通常係找頗有影響力之人或飽學之士為之，被告蕭慶堂、蕭慶三、蕭慶珍、蕭如壎之先人蕭賜福於日據時代係從販賣阿片之商人，其影響力不可言諭，再者，蕭賜福之父蕭貞吉（生於天保2年）於明治44年去世，其於明治42年時，體力當已老衰，故由蕭賜福任祭祀公業蕭子玉之管理人，應符常情，因此被告等人主張蕭賜福擔任管理人時，其父親尚存在，該公業若為其祖先設立，焉有選任蕭賜福為管理人之可能云云，顯係模糊上情之詞\n",
            "4: (十)被告等確涉有上開犯行，除經證人即告訴人蕭耀森（在是否屬被害人不明前，似乎應以告發人相稱）於警詢證明確外，，就①被告蕭慶堂、蕭慶珍、蕭慶三與蕭如壎合意選任蕭慶堂為代理人，蕭慶堂再委任劉木卿製作該祭祀公業不實之沿革、申請書，連同土地登記第一類謄本於98年8月3日持向田中鎮公所申請派下全員證明書，而田中鎮公所民政課受理申請後，將被告等人登載之不實事項登載於職務上所掌之公文書及被告等人於公告期滿後，於98年10月8日向田中鎮公所申請核發派下員證明書，致田中鎮公所承辦人員陷於錯誤，於同年月13日核發祭祀公業派下全員證明書及蓋有公所印信之派下全員系統表、派下現員名冊與不動產清冊與被告等人以原管理人蕭耀西死亡為由，於98年10月13日向田中鎮公所申請變更該祭祀公業新任管理人為蕭慶堂之事實部分，並有祭祀公業派下全員證明書申請書、委任書、祭祀公業蕭子玉推舉書、沿革、土地登記第一、二類謄本彰化縣田中鎮公所98年9月3日田鎮民字第0980013614號函、田鎮民字第0980013615號公告、祭祀公業蕭子玉申請書、彰化縣田中鎮公所98年10月12日田鎮民字第0980015674號函、祭祀公業蕭子玉管理人選任同意書、申請書、委任書、彰化縣田中鎮公所98年10月14日田鎮民字第0980015957號函附卷可稽；②被告劉木卿擔任被告蕭慶堂、蕭慶三、蕭慶珍與蕭如壎之代理人，以解散該祭祀公業為由，於99年1月22日向田中地政事務所申請系爭土地之所有權人由該祭祀公業變更登記為被告蕭慶堂、蕭慶三、蕭慶珍與蕭如壎，致田中地政事務所承辦人員誤認該祭祀公業派下員同意解散該祭祀公業，進而將系爭土地之所有權人變更為被告文蕭慶堂、蕭慶珍、蕭慶三與蕭如壎之事實部分，亦有彰化縣田中地政事務所100年5月5日中地一字第1000002313號函所附之土地登記申請書、印鑑證明、派下員同意書、派下全員證明書、派下現員名冊、土地所有權狀等影本，附卷可佐\n",
            "5: (十一)綜上，顯見被告劉木卿、蕭慶堂、蕭慶珍、蕭慶三與蕭如壎所辯，均與事實不符，不可採信\n",
            "6: 本件罪證明確，被告劉木卿、蕭慶堂、蕭慶珍、蕭慶三與蕭如壎之犯行，足以認定\n",
            "7: 二、按上開與祭祀公業有關之派下全員證明書申請書、派下現員名冊、祭祀公業蕭子玉推舉書與沿革、同意書等文書，係執行代書業務所製作之文書，屬業務上作成之文書\n",
            "8: 故核被告劉木卿、蕭慶堂、蕭慶珍、蕭慶三與蕭如壎等人前揭所為，均係犯刑法第216條、第215條之行使業務上登載不實之文書、刑法第214條之使公務員登載不實罪與刑法第339條第1項之詐欺取財罪\n",
            "9: 其等所為之明知為不實之事項，而登載於其業務上作成文書之行為（低度行度），為其後之行使行為（高度行為）所吸收，不另論罪\n",
            "10: 其等就前揭犯行有犯意聯絡與行為分擔，俱為共同正犯\n",
            "\n",
            " 1: 申請書附件沿革中關於「3、淵源來歷：由蕭賜福積蓄購買本公業所有坐落彰化縣田中鎮○○○段158、159地號等二筆之土地」及「5、祭祀地點即供奉所在地」，顯係不實之記載。\n",
            "2: 被告等人主張蕭賜福擔任管理人時，其父親尚存在，該公業若為其祖先設立，焉有選任蕭賜福為管理人之可能云云，顯係模糊上情之詞。\n",
            "3: 被告劉木卿、蕭慶堂、蕭慶珍、蕭慶三與蕭如壎所辯，均與事實不符，不可採信。\n",
            "========================================\n",
            "我想請你幫我對一篇判決書做Extraction-based summarization，我已經將這篇判決書切成多個句子，請幫我從以下句子中挑選出和犯罪事實情節最相關的3個句子。\n",
            "1: 其等利用不知情之田中鎮公所民政課承辦人員取得該祭祀公業派下員資格利益及利用不知情之田中鎮公所承辦人員取得系爭土地所有權，係間接正犯\n",
            "2: 又按刑法廢除牽連犯之規定後，對於前以牽連犯予以處理之案例，依立法理由之說明，在適用上，得視其具體情形，分別論以想像競合犯或數罪併罰，予以處斷\n",
            "3: 是原經評價為牽連犯之案件，如其二行為間具有行為局部之同一性，或其行為著手實行階段可認為同一者，得認與一行為觸犯數罪名之要件相侔，而改評價為想像競合犯\n",
            "4: 至於不可認為一行為者，若依實質競合予以併罰，不無刑罰過度評價，依社會通念，並不符合刑罰公平原則，當亦難以一行為一罪論處\n",
            "5: 於此，倘所發生之數個犯罪行為，在犯罪之性質上，或依吾人日常生活經驗之見解上，其前後行為，在形態上雖屬分別獨立，但從同一法益之侵害性而言，因具一定程度之關連性，可認為一方吸收他方之犯罪行為，遂置他方於不論，較為適當，應可依吸收犯理論，認屬實質上一罪關係，而僅包括的論以一罪（參照最高法院96年度台上字第4780號判決意旨）上開諸罪均係基於同一目的（即分歸取得土地所有權），故在刑法評價上，以視為數個舉動之接續施行，彼此間有行為局部之同一性，應為包括之一行為予以評價，較為合理，而屬一行為觸犯數罪名之想像競合犯，應依刑法第55條規定情節較重之詐欺取財罪處斷\n",
            "6: 而公訴人就上開行使業務上登載不實之文書罪部分，指係犯刑法216條、210條之罪，惟已當庭及以補充理由書更正之，故本院不再諭知變更起訴法條\n",
            "7: 另公訴人指上開數罪之關係或謂罪，或想像競合，但如上所述，應依想像競合犯之例論處，方為適當\n",
            "8: 又上開犯罪事實中，為原起訴書所漏列部分，因與已明確記載部分，有裁判上一罪之關係，故本院自得併予審理，併此敘明\n",
            "9: 爰審酌被告劉木卿於辦理祭祀公業相關申報事實之際，為牟得巨利報酬，非但主動其餘被告蕭慶堂等人，且位於主導之地位，為本件不實事實申報及不實之分歸土地，實有不該，應予嚴懲，另被告蕭慶堂、蕭慶珍、蕭慶三、蕭如壎聽信代書之被告劉木卿之言，為求避免其兄弟等人以外之人，前來分歸土地，竟與代書為上開行使業務上登載不實之文書、使公務員登載不實及詐欺取財等犯行，實有欠思慮，念其均為已逾六旬之人，暨渠等之犯罪動機、手段、目的與犯罪後之態度等一切情狀，各量處如主文所示之刑，並就被告蕭慶堂、蕭慶珍、蕭慶三、蕭如壎部分，諭知如易科罰金之折算標準\n",
            "10: 又查被告蕭如壎前未曾因故意犯罪受有期徒刑以上刑之宣告，有臺灣高等法院被告前案紀錄表1份附卷可憑，因有宗親一同處理事務之牽絆，故一時失慮致罹刑章，其於警、偵查時及本院審理中，對所知之事，均有明確之供陳，可謂態度良好，經此偵審教訓後，應知警惕而無再犯之虞，本院因認所宣告之刑，以暫不執行為適當，爰依刑法第74條第1項第1款規定，併予宣告緩刑2年，以勵自新\n",
            "\n",
            " 1: 其等利用不知情之田中鎮公所民政課承辦人員取得該祭祀公業派下員資格利益及利用不知情之田中鎮公所承辦人員取得系爭土地所有權，係間接正犯\n",
            "2: 是原經評價為牽連犯之案件，如其二行為間具有行為局部之同一性，或其行為著手實行階段可認為同一者，得認與一行為觸犯數罪名之要件相侔，而改評價為想像競合犯\n",
            "5: 於此，倘所發生之數個犯罪行為，在犯罪之性質上，或依吾人日常生活經驗之見解上，其前後行為，在形態上雖屬分別獨立，但從同一法益之侵害性而言，因具一定程度之關連性，可認為一方吸收他方之犯罪行為，遂置他方於不論，較為適當，應可依吸收犯理論，認屬實質上一罪關係，而僅包括的論以一罪（參照最高法院96年度台上字第4780號判決意旨）上開諸罪均係基於同一目的（即分歸取得土地所有權），故在刑法評價上，以視為數個舉動之接續施行，彼此間有行為局部之同一性，應為包括之一行為予以評價，較為合理，而屬一行為觸犯數罪名之想像競合犯，應依刑法第55條規定情節較重之詐欺取財罪處斷\n",
            "========================================\n",
            "我想請你幫我對一篇判決書做Extraction-based summarization，我已經將這篇判決書切成多個句子，請幫我從以下句子中挑選出和犯罪事實情節最相關的3個句子。\n",
            "1: 三、本判決僅認定被告等人所涉上開犯行部分，至於祭祀公業蕭子玉之派下員究竟有幾人，除被告蕭慶堂、蕭慶珍、蕭慶三、蕭如壎外，尚有何人具派下員身分，應尋民事途逕解決，非係本判決論斷之範疇，併此敘明\n",
            "2: 據上論斷，應依刑事訴訟法第299條第1項前段、刑法第28條、第216條、第215條、第214條、第339條第1項、第55條、第41條第1項、第74條第1項第1款，刑法施行法第1條之1，判決如主文\n",
            "3: 本案經檢察官黃顗雯到庭執行職務\n",
            "4: 中華民國101年4月6日刑事第三庭審判長法官洪志賢法官張鶴齡法官簡佩珺以上正本證明與原本無異\n",
            "5: 如不服本判決應於收受判決後10日內向本院提出上訴書狀，並應敘述具體理由；其未敘述上訴理由者，應於上訴期間屆滿後20日內向本院補提理由書（均須按他造當事人之人數附繕本）「切勿逕送上級法院」\n",
            "6: 告訴人或被害人對於判決如有不服具備理由請求檢察官上訴者，其上訴期間之計算係以檢察官收受判決正本之日期為準\n",
            "7: 中華民國101年4月6日書記官許億先附錄本案論罪科刑法條全文：中華民國刑法第214條（使公務員登載不實罪）明知為不實之事項，而使公務員登載於職務上所掌之公文書，足以生損害於公眾或他人者，處3年以下有期徒刑、拘役或5百元以下罰金\n",
            "8: 中華民國刑法第215條（業務上文書登載不實罪）從事業務之人，明知為不實之事項，而登載於其業務上作成之文書，足以生損害於公眾或他人者，處3年以下有期徒刑、拘役或5百元以下罰金\n",
            "9: 中華民國刑法第216條（行使偽造變造或登載不實之文書罪）行使第210條至第215條之文書者，依偽造、變造文書或登載不實事項或使登載不實事項之規定處斷\n",
            "10: 中華民國刑法第339條（普通詐欺罪）意圖為自己或第三人不法之所有，以詐術使人將本人或第三人之物交付者，處5年以下有期徒刑、拘役或科或併科1千元以下罰金\n",
            "\n",
            " 1: 三、本判決僅認定被告等人所涉上開犯行部分，至於祭祀公業蕭子玉之派下員究竟有幾人，除被告蕭慶堂、蕭慶珍、蕭慶三、蕭如壎外，尚有何人具派下員身分，應尋民事途逕解決，非係本判決論斷之範疇，併此敘明\n",
            "2: 據上論斷，應依刑事訴訟法第299條第1項前段、刑法第28條、第216條、第215條、第214條、第339條第1項、第55條、第41條第1項、第74條第1項第1款，刑法施行法第1條之1，判決如主文\n",
            "3: 本案經檢察官黃顗雯到庭執行職務\n",
            "========================================\n",
            "我想請你幫我對一篇判決書做Extraction-based summarization，我已經將這篇判決書切成多個句子，請幫我從以下句子中挑選出和犯罪事實情節最相關的3個句子。\n",
            "1: 以前項方法得財產上不法之利益或使第三人得之者，亦同\n",
            "2: 前二項之未遂犯罰之\n",
            "3: \n",
            "\n",
            " 1: 以前項方法得財產上不法之利益或使第三人得之者，亦同\n",
            "2: 前二項之未遂犯罰之\n",
            "3: \n",
            "\n",
            "From the given sentences, the most relevant sentences to the crime facts are:\n",
            "\n",
            "1. 以前項方法得財產上不法之利益或使第三人得之者，亦同\n",
            "2. 前二項之未遂犯罰之\n",
            "========================================\n",
            "我想請你幫我對一篇判決書做Extraction-based summarization，我已經將這篇判決書切成多個句子，請幫我從以下句子中挑選出和犯罪事實情節最相關的3個句子。\n",
            "1: 劉木卿主動與祭祀公業蕭子玉之管理人蕭賜福、蕭耀西之後代子孫聯絡處理該祭祀公業之相關事宜，經洽商結果，於蕭慶堂、蕭慶珍、蕭如壎、蕭慶三等人不需支費下，劉木卿代為申辦，事成後，由劉木卿獲得該祭祀公業所有土地價值20％之報酬。\n",
            "2: 劉木卿、蕭慶堂、蕭慶珍、蕭慶三與蕭如壎共同基於意圖為自已不法所有及行使業務上登載不實文書、使公務員登載不實之犯意聯絡，接續為下列行為：由劉木卿於民國98年8月3日前數日內某時，在彰化縣員林鎮○○路○段172之1號住處，於業務上登載祭祀公業蕭子玉「3、淵源來歷：由蕭賜福積蓄購買本公業所有坐落彰化縣田中鎮○○○段158、159地號等二筆之土地以祭田收益，作為每年清明節祭祀祖先之資，並期望子孫『蕭子』被珍惜如玉，故以『祭祀公業蕭子玉』命名」等不實沿革，及不實之「派下現員：蕭慶三、蕭慶堂、蕭慶珍、蕭如壎」名冊、不實之派下全員系統表、推舉書後，連同該祭祀公業之財產清冊、土地登記第一類謄本，書寫以蕭慶堂為申報人之祭祀公業派下全員證明書申請書，於98年8月4日由劉木卿持向彰化縣田中鎮公所申請該祭祀公業派下全員證明書而行使，使不知情之田中鎮公所民政課承辦人員誤認為所申報關於該祭祀公業之「享祀人」、「設立人」與祭祀公業財產等要件皆具備，及該祭祀公業之派下員僅有蕭慶堂、蕭慶珍、蕭慶三與蕭如壎，而將上開不實事項登載於職務上所掌之公文書，經田中鎮公所依法公告徵求異議，俟公告期滿無人異議後，劉木卿、蕭慶堂、蕭慶珍、蕭慶三與蕭如壎復基於意圖為自己不法利益之犯意聯絡，由劉木卿以該祭祀公業派下員證明申請案已公告期滿無人異議，於98年10月7日在其前揭住處製作祭祀公業蕭子玉申請書，表明蕭慶堂、蕭慶珍、蕭慶三與蕭如壎為該祭祀公業僅存之派下員，於98年10月8日以蕭慶堂名義向田中鎮公所申請核發派下員證明書，致不知情之田中鎮公所民政課承辦人員於98年10月12日核發祭祀公業派下全員證明書、祭祀公業蕭子玉派下全員系統表、派下現員名冊與不動產清冊給蕭慶堂，使蕭慶三、蕭慶堂、蕭慶珍、蕭如壎取得祭祀公業蕭子玉派下員資格之利益。\n",
            "3: 劉木卿、蕭慶堂、蕭慶珍、蕭如壎與蕭慶三於祭祀公業蕭子玉之管理人變更後，知悉該祭祀公業仍有共同設立人，應有其派下員存在，在未得其他人同意之下，仍繼續解散該祭祀公業，並辦理土地更名登記。\n",
            "4: 劉木卿於99年1月9日，在職務上製作之派下員同意書登載全體派下員同意解散該祭祀公業，並辦理土地更名登記。\n",
            "5: 劉木卿於99年1月22日，持不實文件向彰化縣田中地政事務所申請系爭土地更名登記，致使田中地政事務所承辦人員誤認蕭慶堂、蕭慶珍、蕭如壎與蕭慶三為該祭祀公業之全體派下員，並同意解散該祭祀公業。\n",
            "6: 是該劉姓代書帶我、蕭慶堂、蕭慶三及蕭慶珍４個兄弟前往彰化縣田中鎮○○路附近察看，告知附近土地是我們的\n",
            "7: 被告蕭如壎上開證詞，其憑信度極高，自可採信\n",
            "8: 因此，由上可知，被告蕭慶堂、蕭慶珍、蕭如壎、蕭慶三等人原本對祭祀公業蕭子玉之存否，包括其祖父係祭祀公業蕭子玉之管理人及該公業擁有坐落於彰化縣田中鎮○○○段158、159地號二筆土地等情，一無所悉，係同案被告劉木卿主動前來告知等情，確係為實\n",
            "9: 祭祀公業之享祀人即為祭祀公業所奉祀之人，多為設立人之尊長或先祖，而非以後代子孫為享祀人\n",
            "10: 二、祭祀公業財產：係指不動產、動產、股票、債券收益之意，此類祭祀公業的獨立財產，其財產應屬全體派下員公同共有，與派下子孫個別財產完全不相干\n",
            "11: (四)被告蕭慶堂、蕭慶珍、蕭如壎、蕭慶三等四人對於蕭氏宗親所編之蕭氏族譜，均不爭執之其為真正（99年度偵字第5375號第159頁至172頁），其上明確記載蕭時中係蕭氏入漳洲始祖（明永樂九年辛卯科狀元），其子積玉（字子玉，配黃氏），...十一世輝美、十二世有志誠、志海、志湖、志達\n",
            "12: 被告蕭慶三於警詢中，明確供陳：「（問：你是否知道蕭子玉祭祀公業沿革之內容為何？）蕭子玉是我們的祖先，祭祀公業是讓我祭祖留念」、「（問：提示位於彰化縣社頭鄉社頭村草仔埤巷4號「芳遠堂」蕭子玉牌位，是否就是你所稱你們祖先蕭子玉？）我以前有跟我媽媽到該處拜拜，他只告知我該處供奉我們的祖先，當時我還小，我沒有注意看」等語（見警詢筆錄附於99年度偵字第7488號偵查卷宗第10頁背面至11頁正面），而其與其他兄弟及被告劉木卿會商後，竟於所提之申請書附件沿革中，為上開記載，在在足證，被告蕭慶堂、蕭慶珍、蕭如壎、蕭慶三及同案被告即代書劉木卿均係明知且故意為之斷非係肇因證據散失、記憶模糊所致\n",
            "13: 被告蕭慶堂、蕭慶珍、蕭如壎、蕭慶三及同案被告即代書劉木卿於100年2月11日委由辯護人具狀表示：「（一）無相關證據足以認定蕭賜福為設立人；但亦無證據足以認定蕭賜福非設立人」（見100年2月11日所提之準備書狀），被告等人既明確表示無相關證據足以認定蕭賜福為設立人，則其等於上開沿革中，載稱：「4、設立者姓名：先祖蕭賜福所設立」，豈非係其等於無任何證據之下，徒憑己意所為，是該記載明確有不實之弊，自不待言\n",
            "14: 被告蕭慶堂、蕭慶珍、蕭如壎、蕭慶三之祖父蕭賜福於明治44年8月19日與齋友向同為其父蕭貞吉之繼承人蕭福智、蕭福根、蕭登王等人購買坐落彰化縣員林鎮○○○段第93地號（重測前為番仔崙93、104、136、213、218地號）土地設立祭祀公業德盛公，有土地登記簿謄本影本1份（含日據時代之登記簿，係被告所提出附於100年2月21日之準備書狀內），在卷可佐，觀日據時代之登記簿業主權事項欄就該事項係以記載【公業德盛公管理人武東堡社頭庄百八拾壹番地蕭賜福】之方式表示之，亦即方式之記載係表示土地係屬公業德盛公，而管理人係蕭賜福，且除蕭賜福外尚有其他派下員，並非由蕭賜福一人所獨設（因此公業係蕭賜福與其他人一同設立），再觀祭祀公業蕭子玉就系爭土地於日據時代之登記簿業主權事項欄內，其記載亦係以【公業蕭子玉管理人武東堡社頭庄百八拾壹番地蕭賜福】之方式表示之（見99年度偵字第5375號偵查卷宗第34頁），二者之記載方式，則代表含意亦相同，不容有不同之解釋，換言之此方式之記載係表示土地係屬公業蕭子玉，而管理人係蕭賜福，且除蕭賜福外尚有其他派下員，而縱蕭賜福係設立人，亦非由其一人所獨設（況依上述，並無相關證據足以認定蕭賜福係設立人）\n",
            "15: 申請書附件沿革中關於「3、淵源來歷：由蕭賜福積蓄購買本公業所有坐落彰化縣田中鎮○○○段158、159地號等二筆之土地」及「5、祭祀地點即供奉所在地」，顯係不實之記載。\n",
            "16: 被告等人主張蕭賜福擔任管理人時，其父親尚存在，該公業若為其祖先設立，焉有選任蕭賜福為管理人之可能云云，顯係模糊上情之詞。\n",
            "17: 被告劉木卿、蕭慶堂、蕭慶珍、蕭慶三與蕭如壎所辯，均與事實不符，不可採信。\n",
            "18: 其等利用不知情之田中鎮公所民政課承辦人員取得該祭祀公業派下員資格利益及利用不知情之田中鎮公所承辦人員取得系爭土地所有權，係間接正犯\n",
            "19: 是原經評價為牽連犯之案件，如其二行為間具有行為局部之同一性，或其行為著手實行階段可認為同一者，得認與一行為觸犯數罪名之要件相侔，而改評價為想像競合犯\n",
            "20: 於此，倘所發生之數個犯罪行為，在犯罪之性質上，或依吾人日常生活經驗之見解上，其前後行為，在形態上雖屬分別獨立，但從同一法益之侵害性而言，因具一定程度之關連性，可認為一方吸收他方之犯罪行為，遂置他方於不論，較為適當，應可依吸收犯理論，認屬實質上一罪關係，而僅包括的論以一罪（參照最高法院96年度台上字第4780號判決意旨）上開諸罪均係基於同一目的（即分歸取得土地所有權），故在刑法評價上，以視為數個舉動之接續施行，彼此間有行為局部之同一性，應為包括之一行為予以評價，較為合理，而屬一行為觸犯數罪名之想像競合犯，應依刑法第55條規定情節較重之詐欺取財罪處斷\n",
            "21: 三、本判決僅認定被告等人所涉上開犯行部分，至於祭祀公業蕭子玉之派下員究竟有幾人，除被告蕭慶堂、蕭慶珍、蕭慶三、蕭如壎外，尚有何人具派下員身分，應尋民事途逕解決，非係本判決論斷之範疇，併此敘明\n",
            "22: 據上論斷，應依刑事訴訟法第299條第1項前段、刑法第28條、第216條、第215條、第214條、第339條第1項、第55條、第41條第1項、第74條第1項第1款，刑法施行法第1條之1，判決如主文\n",
            "23: 本案經檢察官黃顗雯到庭執行職務\n",
            "24: 以前項方法得財產上不法之利益或使第三人得之者，亦同\n",
            "25: 前二項之未遂犯罰之\n",
            "26: \n",
            "27: \n",
            "28: \n",
            "29: \n",
            "30: 1. 以前項方法得財產上不法之利益或使第三人得之者，亦同\n",
            "31: 2. 前二項之未遂犯罰之\n",
            "\n",
            " 1. 劉木卿主動與祭祀公業蕭子玉之管理人蕭賜福、蕭耀西之後代子孫聯絡處理該祭祀公業之相關事宜，經洽商結果，於蕭慶堂、蕭慶珍、蕭如壎、蕭慶三等人不需支費下，劉木卿代為申辦，事成後，由劉木卿獲得該祭祀公業所有土地價值20％之報酬。\n",
            "2. 劉木卿、蕭慶堂、蕭慶珍、蕭慶三與蕭如壎共同基於意圖為自已不法所有及行使業務上登載不實文書、使公務員登載不實之犯意聯絡，接續為下列行為：由劉木卿於民國98年8月3日前數日內某時，在彰化縣員林鎮○○路○段172之1號住處，於業務上登載祭祀公業蕭子玉「3、淵源來歷：由蕭賜福積蓄購買本公業所有坐落彰化縣田中鎮○○○段158、159地號等二筆之土地以祭田收益，作為每年清明節祭祀祖先之資，並期望子孫『蕭子』被珍惜如玉，故以『祭祀公業蕭子玉』命名」等不實沿革，及不實之「派下現員：蕭慶三、蕭慶堂、蕭慶珍、蕭如壎」名冊、不實之派下全員系統表、推舉書後，連同該祭祀公業之財產清冊、土地登記第一類謄本，書寫以蕭慶堂為申報人之祭祀公業派下全員證明書申請書，於98年8月4日由劉木卿持向彰化縣田中鎮公所申請該祭祀公業派下全員證明書而行使，使不知情之田中鎮公所民政課承辦人員誤認為所申報關於該祭祀公業之「享祀人」、「設立人」與祭祀公業財產等要件皆具備，及該祭祀公業之派下員僅有蕭慶堂、蕭慶珍、蕭慶三與蕭如壎，而將上開不實事項登載於職務上所掌之公文書，經田中鎮公所依法公告徵求異議，俟公告期滿無人異議後，劉木卿、蕭慶堂、蕭慶珍、蕭慶三與蕭如壎復基於意圖為自己不法利益之犯意聯絡，由劉木卿以該祭祀公業派下員證明申請案已公告期滿無人異議，於98年10月7日在其前揭住處製作祭祀公業蕭子玉申請書，表明蕭慶堂、蕭慶珍、蕭慶三與蕭如壎為該祭祀公業僅存之派下員，於98年10月8日以蕭慶堂名義向田中鎮公所申請核發派下員證明書，致不知情之田中鎮公所民政課承辦人員於98年10月12日核發祭祀公業派下全員證明書、祭祀公業蕭子玉派下全員系統表、派下現員名冊與不動產清冊給蕭慶堂，使蕭慶三、蕭慶堂、蕭慶珍、蕭如壎取得祭祀公業蕭子玉派下員資格之利益。\n",
            "========================================\n",
            "我想請你幫我對一篇判決書做Extraction-based summarization，我已經將這篇判決書切成多個句子，請幫我從以下句子中挑選出和犯罪事實情節最相關的3個句子。\n",
            "1: 一、緣張彩系與鄧盈珍、鄧盈汝之父親鄧清亮係夫妻，鄧清亮於民國96年4月6日過世，遺產由張彩糸、鄧盈慧、鄧盈珍、鄧盈汝、鄧淯任5人共同繼承\n",
            "2: 詎張彩系未經共同繼承人鄧盈珍、鄧盈汝之同意，竟基於行使偽造私文書之犯意，於96年4月9日某時許，持鄧清亮開設之信義鄉農會帳號：00000000000000號帳戶存簿及開戶印章，前往位於南投縣○○鄉○○街00號之信義鄉農會填寫取款憑條、並盜蓋鄧清亮之開戶印章後，再持向不知情之該農會承辦人員行使之，將鄧清亮上開帳戶內之存款新臺幣（下同）153萬元轉入張彩系在該農會開設之帳號：00000000000000號帳戶，足生損害於鄧盈珍、鄧盈汝之繼承權利及信義鄉農會管理金融帳戶之正確性\n",
            "3: 二、案經鄧盈珍、鄧盈汝訴由臺灣臺中地方檢察署檢察官呈請臺灣高等檢察署臺中檢察分署檢察長核轉臺灣南投地方檢察署檢察官偵查起訴\n",
            "4: 理由一、證據能力：(一)本案以下引用被告張彩糸以外之人於審判外所為陳述之供述證據，迄本院言詞辯論終結前，檢察官、被告就該等證據之證據能力均未聲明異議（見本院卷第93、272頁），本院審酌該等證據製作時之情況，並無違法不當或證明力明顯過低之瑕疵，以之作為證據應屬適當，依刑事訴訟法第159條之5第2項之規定，認為均得作為證據\n",
            "5: (二)而其餘認定本案犯罪事實之非供述證據，復無違反法定程序取得之情形，亦得作為證據\n",
            "6: 二、認定犯罪事實所憑之證據及理由：訊據被告對於其與告訴人鄧盈珍、鄧盈汝之父親即被繼承人鄧清亮係夫妻，鄧清亮於96年4月6日過世，遺產由張彩糸、鄧盈慧、鄧盈珍、鄧盈汝、鄧淯任5人共同繼承；其於96年4月9日某時許，持鄧清亮開設之信義鄉農會帳號：00000000000000號帳戶存簿及開戶印章，前往位於南投縣○○鄉○○街00號之信義鄉農會填寫取款憑條、並蓋用鄧清亮之開戶印章後，再持向該農會承辦人員行使之，將鄧清亮上開帳戶內之存款153萬元轉入張彩系在該農會開設之帳號：00000000000000號帳戶之事實固不爭執（本院卷第93、94頁），惟矢口否認有何行使偽造私文書之犯行，並辯稱：提領款項係依公公指示，合乎一般社會通念及鄉民習慣，沒有偽造文書意圖；在我與我先生的戶籍裡面，未曾登記告訴人兩位的姓名；且提領款項係為償還鄧清亮之債務，並無詐欺或侵占之不法所有意圖（見本院卷第38、41、271、281至285頁）云云\n",
            "7: 經查：(一)關於上開被告不爭執之事實，業據被告於本院準備程序時自承在卷（見本院卷第39、93至95頁），核與告訴代理人謝莉蘭（見臺中他卷第14頁）、證人即告訴人鄧盈珍、鄧盈汝（見南投他卷第11頁、本院卷第238至241、265至268頁）所述情節大致相符，並有戶籍謄本（除戶部分）、信義鄉農會取款憑條、信義鄉農會105年8月22日函、個人戶籍資料（臺中他卷第4至6頁）、信義鄉農會客戶往來交易明細表（見本院卷第59至65頁）等件附卷可稽，是此部份之事實，即堪認定\n",
            "8: 而被告未經共同繼承人鄧盈珍、鄧盈汝之同意，擅自轉匯上開款項之事實，復據被告於偵訊時自承在案（見南投他卷第11頁），且經鄧盈珍、鄧盈汝證述明確（見本院卷第241、267頁），則此部分之事實，亦可認定\n",
            "9: (二)被告雖然辯稱提領款項係依公公指示，合乎一般社會通念及鄉民習慣，沒有偽造文書意圖云云\n",
            "10: 然依被告先後自陳「沒有辦法聯絡到其他繼承人」、「因為當初辦繼承的方面，我都有拜託姐姐跟他們聯絡」、「是他們不願意回來配合辦理」、「有叫他們拿資料來辦理繼承，但他們都不配合」（見南投他卷第11頁、本院卷第39、241、269頁），鄧盈珍證稱「他還一直恐嚇我們拋棄繼承」（見本院卷第239頁），鄧盈汝證稱「都是代書跟我們聯絡，要我們放棄繼承」（見本院卷第266頁），證人即鄧清亮之胞兄鄧清浪證稱：我有勸過被告就遺產部分要找告訴人方面來討論，我認為被告也有朝這方面來努力（見本院卷第271頁）等語，可見被告顯然知悉被繼承人鄧清亮死亡以後，已不得再以鄧清亮名義製作取款憑條提領被繼承人之存款，如要提領被繼承人之存款，應得全體繼承人之同意，否則何須大費周章聯絡告訴人等配合辦理繼承或拋棄繼承事宜；被告辯稱提領款項係依公公指示，合乎一般社會通念及鄉民習慣，沒有偽造文書意圖云云，實屬卸責之詞，不足採信，被告具有行使偽造私文書之故意甚明\n",
            "\n",
            " 1: 張彩系未經共同繼承人鄧盈珍、鄧盈汝之同意，竟基於行使偽造私文書之犯意，於96年4月9日某時許，持鄧清亮開設之信義鄉農會帳號：00000000000000號帳戶存簿及開戶印章，前往位於南投縣○○鄉○○街00號之信義鄉農會填寫取款憑條、並盜蓋鄧清亮之開戶印章後，再持向不知情之該農會承辦人員行使之，將鄧清亮上開帳戶內之存款153萬元轉入張彩系在該農會開設之帳號：00000000000000號帳戶，足生損害於鄧盈珍、鄧盈汝之繼承權利及信義鄉農會管理金融帳戶之正確性\n",
            "2: 案經鄧盈珍、鄧盈汝訴由臺灣臺中地方檢察署檢察官呈請臺灣高等檢察署臺中檢察分署檢察長核轉臺灣南投地方檢察署檢察官偵查起訴\n",
            "3: 被告未經共同繼承人鄧盈珍、鄧盈汝之同意，擅自轉匯上開款項之事實，復據被告於偵訊時自承在案（見南投他卷第11頁），且經鄧盈珍、鄧盈汝證述明確（見本院卷第241、267頁），則此部分之事實，亦可認定\n",
            "========================================\n",
            "我想請你幫我對一篇判決書做Extraction-based summarization，我已經將這篇判決書切成多個句子，請幫我從以下句子中挑選出和犯罪事實情節最相關的3個句子。\n",
            "1: (三)被告嗣後雖再改口辯稱在我與我先生的戶籍裡面，未曾登記告訴人兩位的姓名云云\n",
            "2: 但以被告於被繼承人鄧清亮死亡以後，曾經聯絡告訴人等配合辦理繼承或拋棄繼承事宜，已如上述，佐諸鄧盈珍證稱：被告跟我父親結婚時，知道我父親有其他子女（見本院卷第239頁），鄧清浪證稱：被告知道鄧清亮有與前配偶育有子女（見本院卷第270頁）等語，足見被告於轉匯上開存款時，確實知悉告訴人2人為鄧清亮之子女，而為鄧清亮之共同繼承人；被告辯稱在其與其先生的戶籍裡面，未曾登記告訴人兩位的姓名云云，不過飾卸之詞，委不可採\n",
            "3: (四)被告雖又辯稱轉匯上開款項係為償還鄧清亮之債務，並未生損害於公眾或他人云云\n",
            "4: 然按，刑法第210條所稱足生損害於公眾或他人，以有損害之虞為已足，不以實際發生損害為要件（最高法院43年台上字第387號判例要旨參照）\n",
            "5: 所稱之足生損害，係指他人有可受法律保護之利益，因此遭受損害或有受損害之虞，不以實際發生損害者為必要；而所謂損害，亦不以經濟上之損害為限，即民事、刑事或行政上之損害亦皆屬之（最高法院107年度台上字第3038號判決要旨參照）\n",
            "6: 如未經被繼承人之全體繼承人同意，即偽以被繼承人名義製作取款憑條，提領被繼承人帳戶內之存款，其行為自有足以生損害於其餘繼承人之虞，至於其所提領之款項是否非被繼承人之遺產及提領之用途為何，均與其行為是否與刑法第210條、第216條行使偽造私文書罪之犯罪構成要件該當，並不生影響（最高法院106年度台上字第1165號判決意旨參照）\n",
            "7: 則以被告未經鄧清亮之繼承人即告訴人2人同意，擅自轉匯上開款項，造成鄧清亮名下財產減少，告訴人等之繼承權利即有可能受到損害，並不以彙算之後確有損害為必要；且被告於鄧清亮過世後，擅以鄧清亮之名義轉匯上開款項，復可能產生信義鄉農會對於消費寄託債務是否清償之爭執，亦足生損害於信義鄉農會管理金融帳戶之正確性\n",
            "8: 被告辯稱未生損害於公眾或他人云云，純屬推諉之詞，並不可採\n",
            "9: (五)至於被告雖另辯稱提領款項係為償還鄧清亮之債務，並無詐欺或侵占之不法所有意圖云云\n",
            "10: 惟按，所提領之款項是否使用於支付被繼承人醫藥費、喪葬費之用，要屬行為人有無不法所有意圖之問題，與行使偽造私文書罪該當與否不生影響（最高法院107年度台上字第1753號判決意旨參照）\n",
            "\n",
            " 1: 但以被告於被繼承人鄧清亮死亡以後，曾經聯絡告訴人等配合辦理繼承或拋棄繼承事宜，已如上述，佐諸鄧盈珍證稱：被告跟我父親結婚時，知道我父親有其他子女（見本院卷第239頁），鄧清浪證稱：被告知道鄧清亮有與前配偶育有子女（見本院卷第270頁）等語，足見被告於轉匯上開存款時，確實知悉告訴人2人為鄧清亮之子女，而為鄧清亮之共同繼承人；被告辯稱在其與其先生的戶籍裡面，未曾登記告訴人兩位的姓名云云，不過飾卸之詞，委不可採\n",
            "2: 然按，刑法第210條所稱足生損害於公眾或他人，以有損害之虞為已足，不以實際發生損害為要件（最高法院43年台上字第387號判例要旨參照）\n",
            "3: 以未經被繼承人之全體繼承人同意，即偽以被繼承人名義製作取款憑條，提領被繼承人帳戶內之存款，其行為自有足以生損害於其餘繼承人之虞，至於其所提領之款項是否非被繼承人之遺產及提領之用途為何，均與其行為是否與刑法第210條、第216條行使偽造私文書罪之犯罪構成要件該當，並不生影響（最高法院106年度台上字第1165號判決意旨參照）\n",
            "========================================\n",
            "我想請你幫我對一篇判決書做Extraction-based summarization，我已經將這篇判決書切成多個句子，請幫我從以下句子中挑選出和犯罪事實情節最相關的3個句子。\n",
            "1: 茲因本案起訴意旨及上開論罪所犯罪名均未認定被告涉犯詐欺或侵占犯行、而均論以行使偽造私文書罪嫌（見本院卷第10、11頁），被告轉匯上開款項是否係為償還被繼承人鄧清亮之債務，事涉是否構成詐欺或侵占犯罪，自與本案被告是否成立犯罪（行使偽造私文書）無關\n",
            "2: 被告辯稱並無詐欺或侵占之不法所有意圖云云，容有誤會起訴及論罪所犯罪名，併予敘明\n",
            "3: (六)綜上所述，本案事證明確，被告之犯行可以認定，應予依法論罪科刑\n",
            "4: 三、論罪科刑之理由：(一)按人之權利能力，終於死亡，其權利義務因死亡而開始繼承，由全體繼承人承受，故關於遺產之法律行為，自當由全體繼承人為之，被繼承人縱令於生前曾授權他人為之，亦因其死亡致權利主體不存在使授權關係消滅，即不得再以被繼承人生前授權或全體繼承人之同意，而以被繼承人之名義製作取款憑條，提領被繼承人帳戶內之存款，否則足致社會一般人誤認死者猶然生存在世，有害公共信用之虞，尤其倘另有其他繼承人，對於遺產之繼承迭有爭執，倘未經全體繼承人同意，而擅以被繼承人名義為法律行為，其行為更有足生損害於繼承人之虞，均屬無權製作之偽造行為；至於行為人提領款項之目的或動機何在（例如是否悉數用作支付喪葬費，或其他用途），對於本罪之成立，不生影響（最高法院107年度台上字第1162號判決意旨參照）\n",
            "5: 次按，盜用印章與盜用印文為不同之犯罪態樣，盜取他人之印章持以蓋用，當然產生該印章之印文，祇成立盜用印章罪，不應再論以盜用印文罪，亦非盜用印章行為為盜用印文行為所吸收（最高法院86年台上字第3295號判例要旨參照）\n",
            "6: 刑法上之盜用印文罪，係指單純盜用他人之印文而言；若盜用印文，而在書類上已為一定之意思表示，且具有存續性，其內容屬法律上有關係之事項者，則係犯偽造文書罪（最高法院91年度台上字第360號判決要旨參照）\n",
            "7: 銀行為便利存款人取款而印好任人索取填寫之取款憑條，非可流通市面得以自由轉讓，衹屬私文書之一種，不能認為有價證券（最高法院49年台上字第1409號判例要旨參照）\n",
            "8: 查被告持偽造鄧清亮製作之取款憑條，向不知情之信義鄉農會承辦人員行使之，核其所為，係犯刑法第216條、第210條之行使偽造私文書罪\n",
            "9: 而被告在取款憑條之私文書上，盜蓋鄧清亮之印章，係偽造私文書之階段行為；偽造私文書後復持以行使，偽造私文書之低度行為，亦為行使偽造私文書之高度行為所吸收，均不另論罪\n",
            "10: (二)爰審酌被告並無曾因犯罪經法院判處罪刑，有臺灣高等法院被告前案紀錄表1份在案足佐，而其明知配偶鄧清亮已經死亡，鄧清亮之信義鄉農會帳戶內之存款係屬遺產、且為全體繼承人共有，竟仍以鄧清亮之名義轉匯存款，非僅損害告訴人等之繼承權利，並且破壞信義鄉農會管理金融帳戶之正確性，行為實有不該，兼衡以被告轉匯之金額係為清償鄧清亮之生前債務及醫藥費（見南投偵卷第32至36頁），及其犯罪之動機、目的、手段、犯罪情節、犯後態度等一切情形，量處如主文所示之刑，並諭知易科罰金之折算標準\n",
            "\n",
            " 1: 茲因本案起訴意旨及上開論罪所犯罪名均未認定被告涉犯詐欺或侵占犯行、而均論以行使偽造私文書罪嫌（見本院卷第10、11頁），被告轉匯上開款項是否係為償還被繼承人鄧清亮之債務，事涉是否構成詐欺或侵占犯罪，自與本案被告是否成立犯罪（行使偽造私文書）無關\n",
            "3: (六)綜上所述，本案事證明確，被告之犯行可以認定，應予依法論罪科刑\n",
            "10: (二)爰審酌被告並無曾因犯罪經法院判處罪刑，有臺灣高等法院被告前案紀錄表1份在案足佐，而其明知配偶鄧清亮已經死亡，鄧清亮之信義鄉農會帳戶內之存款係屬遺產、且為全體繼承人共有，竟仍以鄧清亮之名義轉匯存款，非僅損害告訴人等之繼承權利，並且破壞信義鄉農會管理金融帳戶之正確性，行為實有不該，兼衡以被告轉匯之金額係為清償鄧清亮之生前債務及醫藥費（見南投偵卷第32至36頁），及其犯罪之動機、目的、手段、犯罪情節、犯後態度等一切情形，量處如主文所示之刑，並諭知易科罰金之折算標準\n",
            "========================================\n",
            "我想請你幫我對一篇判決書做Extraction-based summarization，我已經將這篇判決書切成多個句子，請幫我從以下句子中挑選出和犯罪事實情節最相關的3個句子。\n",
            "1: (三)另按，盜用他人真印章所蓋之印文，並非偽造印章之印文，不在刑法第219條所定必須沒收之列（最高法院48年台上字第113號判例要旨參照）\n",
            "2: 偽造之文書，既已交付於被害人收受，則該物非屬被告所有，除該偽造文書上偽造之印文、署押，應依刑法第219條予以沒收外，依同法第38條第3項之規定，即不得再就該文書諭知沒收（最高法院89年度台上字第3757號判決要旨參照）\n",
            "3: 查鄧清亮之上開信義鄉農會帳戶開戶印章係由被告保管，被告盜蓋印章之印文「鄧清亮」即非偽造，無從依刑法第219條規定諭知沒收\n",
            "4: 至於上開取款憑條，雖屬被告行使偽造私文書犯罪所用之物，但經被告持以行使，業經信義鄉農會承辦人員收執，已非被告所有，亦非違禁物，爰不予以宣告沒收\n",
            "5: 此外，被告以行使偽造私文書方式轉匯鄧清亮之信義鄉農會帳戶內之存款153萬元，為其犯罪所得（產自行使偽造私文書犯罪之所得，即實現犯罪所獲得之直接財產利益），固應依法宣告沒收，於全部或一部不能沒收時，追徵其價額，惟因被告主張扣抵「非屬繼承財產之鄧淯任薪資7萬5,586元；清償鄧清亮所遺合會債務35萬2,000元、所得稅債務1萬7,104元、信用卡消費債務2萬4,865元、對鄧清浪之70萬元借款債務、農會借款債務42萬4,931元，以及辦理繼承登記之代書費用5萬元」，合計164萬4,486元，業經臺灣臺中地方法院105年度家訴字第21號民事判決認屬有據，並且詳為說明理由（見南投偵卷第35頁），堪認被告並無保有犯罪所得，倘再就此宣告沒收或追徵，實有過苛之虞、且欠缺刑法上之重要性，自無必要宣告沒收或追徵\n",
            "6: 據上論斷，應依刑事訴訟法第299條第1項前段，刑法第216條、第210條、第41條第1項前段，判決如主文\n",
            "7: 本案經檢察官洪紹文提起公訴，檢察官陳俊宏到庭執行職務\n",
            "8: 中華民國108年5月30日刑事第二庭審判長法官黃益茂法官張雅涵法官張國隆以上正本與原本無異\n",
            "9: 如不服本判決應於收受送達後10日內向本院提出上訴書狀，並應敘述具體理由；其未敘述上訴理由者，應於上訴期間屆滿後20日內向本院補提理由書（均須按他造當事人之人數附繕本）「切勿逕送上級法院」\n",
            "10: 告訴人或被害人如對於本判決不服者，應具備理由請求檢察官上訴，其上訴期間之計算係以檢察官收受判決正本之日期為準\n",
            "\n",
            " 1: 盜用他人真印章所蓋之印文，並非偽造印章之印文，不在刑法第219條所定必須沒收之列（最高法院48年台上字第113號判例要旨參照）\n",
            "2: 偽造之文書，既已交付於被害人收受，則該物非屬被告所有，除該偽造文書上偽造之印文、署押，應依刑法第219條予以沒收外，依同法第38條第3項之規定，即不得再就該文書諭知沒收（最高法院89年度台上字第3757號判決要旨參照）\n",
            "3: 查鄧清亮之上開信義鄉農會帳戶開戶印章係由被告保管，被告盜蓋印章之印文「鄧清亮」即非偽造，無從依刑法第219條規定諭知沒收\n",
            "========================================\n",
            "我想請你幫我對一篇判決書做Extraction-based summarization，我已經將這篇判決書切成多個句子，請幫我從以下句子中挑選出和犯罪事實情節最相關的3個句子。\n",
            "1: 書記官張馨方中華民國108年5月30日附錄本案論罪科刑法條：中華民國刑法第210條偽造、變造私文書，足以生損害於公眾或他人者，處5年以下有有期徒刑\n",
            "2: 中華民國刑法第216條行使第210條至第215條之文書者，依偽造、變造文書或登載不實事項或使登載不實事項之規定處斷\n",
            "3: \n",
            "\n",
            " 1: 書記官張馨方中華民國108年5月30日\n",
            "2: 中華民國刑法第210條偽造、變造私文書，足以生損害於公眾或他人者，處5年以下有有期徒刑\n",
            "3: 中華民國刑法第216條行使第210條至第215條之文書者，依偽造、變造文書或登載不實事項或使登載不實事項之規定處斷\n",
            "========================================\n",
            "我想請你幫我對一篇判決書做Extraction-based summarization，我已經將這篇判決書切成多個句子，請幫我從以下句子中挑選出和犯罪事實情節最相關的3個句子。\n",
            "1: 張彩系未經共同繼承人鄧盈珍、鄧盈汝之同意，竟基於行使偽造私文書之犯意，於96年4月9日某時許，持鄧清亮開設之信義鄉農會帳號：00000000000000號帳戶存簿及開戶印章，前往位於南投縣○○鄉○○街00號之信義鄉農會填寫取款憑條、並盜蓋鄧清亮之開戶印章後，再持向不知情之該農會承辦人員行使之，將鄧清亮上開帳戶內之存款153萬元轉入張彩系在該農會開設之帳號：00000000000000號帳戶，足生損害於鄧盈珍、鄧盈汝之繼承權利及信義鄉農會管理金融帳戶之正確性\n",
            "2: 案經鄧盈珍、鄧盈汝訴由臺灣臺中地方檢察署檢察官呈請臺灣高等檢察署臺中檢察分署檢察長核轉臺灣南投地方檢察署檢察官偵查起訴\n",
            "3: 被告未經共同繼承人鄧盈珍、鄧盈汝之同意，擅自轉匯上開款項之事實，復據被告於偵訊時自承在案（見南投他卷第11頁），且經鄧盈珍、鄧盈汝證述明確（見本院卷第241、267頁），則此部分之事實，亦可認定\n",
            "4: 但以被告於被繼承人鄧清亮死亡以後，曾經聯絡告訴人等配合辦理繼承或拋棄繼承事宜，已如上述，佐諸鄧盈珍證稱：被告跟我父親結婚時，知道我父親有其他子女（見本院卷第239頁），鄧清浪證稱：被告知道鄧清亮有與前配偶育有子女（見本院卷第270頁）等語，足見被告於轉匯上開存款時，確實知悉告訴人2人為鄧清亮之子女，而為鄧清亮之共同繼承人；被告辯稱在其與其先生的戶籍裡面，未曾登記告訴人兩位的姓名云云，不過飾卸之詞，委不可採\n",
            "5: 然按，刑法第210條所稱足生損害於公眾或他人，以有損害之虞為已足，不以實際發生損害為要件（最高法院43年台上字第387號判例要旨參照）\n",
            "6: 以未經被繼承人之全體繼承人同意，即偽以被繼承人名義製作取款憑條，提領被繼承人帳戶內之存款，其行為自有足以生損害於其餘繼承人之虞，至於其所提領之款項是否非被繼承人之遺產及提領之用途為何，均與其行為是否與刑法第210條、第216條行使偽造私文書罪之犯罪構成要件該當，並不生影響（最高法院106年度台上字第1165號判決意旨參照）\n",
            "7: 茲因本案起訴意旨及上開論罪所犯罪名均未認定被告涉犯詐欺或侵占犯行、而均論以行使偽造私文書罪嫌（見本院卷第10、11頁），被告轉匯上開款項是否係為償還被繼承人鄧清亮之債務，事涉是否構成詐欺或侵占犯罪，自與本案被告是否成立犯罪（行使偽造私文書）無關\n",
            "8: (六)綜上所述，本案事證明確，被告之犯行可以認定，應予依法論罪科刑\n",
            "9: (二)爰審酌被告並無曾因犯罪經法院判處罪刑，有臺灣高等法院被告前案紀錄表1份在案足佐，而其明知配偶鄧清亮已經死亡，鄧清亮之信義鄉農會帳戶內之存款係屬遺產、且為全體繼承人共有，竟仍以鄧清亮之名義轉匯存款，非僅損害告訴人等之繼承權利，並且破壞信義鄉農會管理金融帳戶之正確性，行為實有不該，兼衡以被告轉匯之金額係為清償鄧清亮之生前債務及醫藥費（見南投偵卷第32至36頁），及其犯罪之動機、目的、手段、犯罪情節、犯後態度等一切情形，量處如主文所示之刑，並諭知易科罰金之折算標準\n",
            "10: 盜用他人真印章所蓋之印文，並非偽造印章之印文，不在刑法第219條所定必須沒收之列（最高法院48年台上字第113號判例要旨參照）\n",
            "11: 偽造之文書，既已交付於被害人收受，則該物非屬被告所有，除該偽造文書上偽造之印文、署押，應依刑法第219條予以沒收外，依同法第38條第3項之規定，即不得再就該文書諭知沒收（最高法院89年度台上字第3757號判決要旨參照）\n",
            "12: 查鄧清亮之上開信義鄉農會帳戶開戶印章係由被告保管，被告盜蓋印章之印文「鄧清亮」即非偽造，無從依刑法第219條規定諭知沒收\n",
            "13: 書記官張馨方中華民國108年5月30日\n",
            "14: 中華民國刑法第210條偽造、變造私文書，足以生損害於公眾或他人者，處5年以下有有期徒刑\n",
            "15: 中華民國刑法第216條行使第210條至第215條之文書者，依偽造、變造文書或登載不實事項或使登載不實事項之規定處斷\n",
            "\n",
            " 1: 張彩系未經共同繼承人鄧盈珍、鄧盈汝之同意，竟基於行使偽造私文書之犯意，於96年4月9日某時許，持鄧清亮開設之信義鄉農會帳號：00000000000000號帳戶存簿及開戶印章，前往位於南投縣○○鄉○○街00號之信義鄉農會填寫取款憑條、並盜蓋鄧清亮之開戶印章後，再持向不知情之該農會承辦人員行使之，將鄧清亮上開帳戶內之存款153萬元轉入張彩系在該農會開設之帳號：00000000000000號帳戶，足生損害於鄧盈珍、鄧盈汝之繼承權利及信義鄉農會管理金融帳戶之正確性\n",
            "3: 被告未經共同繼承人鄧盈珍、鄧盈汝之同意，擅自轉匯上開款項之事實，復據被告於偵訊時自承在案（見南投他卷第11頁），且經鄧盈珍、鄧盈汝證述明確（見本院卷第241、267頁），則此部分之事實，亦可認定\n",
            "6: 以未經被繼承人之全體繼承人同意，即偽以被繼承人名義製作取款憑條，提領被繼承人帳戶內之存款，其行為自有足以生損害於其餘繼承人之虞，至於其所提領之款項是否非被繼承人之遺產及提領之用途為何，均與其行為是否與刑法第210條、第216條行使偽造私文書罪之犯罪構成要件該當，並不生影響（最高法院106年度台上字第1165號判決意旨參照）\n",
            "========================================\n"
          ]
        }
      ],
      "source": [
        "summaries = generate_summary(query, test_facts_sentences[:3])"
      ]
    },
    {
      "cell_type": "code",
      "execution_count": null,
      "metadata": {
        "colab": {
          "base_uri": "https://localhost:8080/"
        },
        "id": "h2eDaXvcXZHs",
        "outputId": "47aa6566-94f6-4f48-df53-1108160e0ed7"
      },
      "outputs": [
        {
          "name": "stdout",
          "output_type": "stream",
          "text": [
            "[['徐鴻光和穆立明因需要借款，共同偽造「志朗交通有限公司」和「陳健志」的印章，以及「臺北市計程車客運駕駛人自備車輛參與經營契約書」，向宏帝當鋪借款10萬元。', '徐鴻光和穆立明偽造的契約書導致王傑生誤信車輛為徐鴻光所有，而提供借款。', '徐鴻光和穆立明被依行使偽造私文書和詐欺取財罪起訴。'], ['1. 劉木卿主動與祭祀公業蕭子玉之管理人蕭賜福、蕭耀西之後代子孫聯絡處理該祭祀公業之相關事宜，經洽商結果，於蕭慶堂、蕭慶珍、蕭如壎、蕭慶三等人不需支費下，劉木卿代為申辦，事成後，由劉木卿獲得該祭祀公業所有土地價值20％之報酬。', '2. 劉木卿、蕭慶堂、蕭慶珍、蕭慶三與蕭如壎共同基於意圖為自已不法所有及行使業務上登載不實文書、使公務員登載不實之犯意聯絡，接續為下列行為：由劉木卿於民國98年8月3日前數日內某時，在彰化縣員林鎮○○路○段172之1號住處，於業務上登載祭祀公業蕭子玉「3、淵源來歷：由蕭賜福積蓄購買本公業所有坐落彰化縣田中鎮○○○段158、159地號等二筆之土地以祭田收益，作為每年清明節祭祀祖先之資，並期望子孫『蕭子』被珍惜如玉，故以『祭祀公業蕭子玉』命名」等不實沿革，及不實之「派下現員：蕭慶三、蕭慶堂、蕭慶珍、蕭如壎」名冊、不實之派下全員系統表、推舉書後，連同該祭祀公業之財產清冊、土地登記第一類謄本，書寫以蕭慶堂為申報人之祭祀公業派下全員證明書申請書，於98年8月4日由劉木卿持向彰化縣田中鎮公所申請該祭祀公業派下全員證明書而行使，使不知情之田中鎮公所民政課承辦人員誤認為所申報關於該祭祀公業之「享祀人」、「設立人」與祭祀公業財產等要件皆具備，及該祭祀公業之派下員僅有蕭慶堂、蕭慶珍、蕭慶三與蕭如壎，而將上開不實事項登載於職務上所掌之公文書，經田中鎮公所依法公告徵求異議，俟公告期滿無人異議後，劉木卿、蕭慶堂、蕭慶珍、蕭慶三與蕭如壎復基於意圖為自己不法利益之犯意聯絡，由劉木卿以該祭祀公業派下員證明申請案已公告期滿無人異議，於98年10月7日在其前揭住處製作祭祀公業蕭子玉申請書，表明蕭慶堂、蕭慶珍、蕭慶三與蕭如壎為該祭祀公業僅存之派下員，於98年10月8日以蕭慶堂名義向田中鎮公所申請核發派下員證明書，致不知情之田中鎮公所民政課承辦人員於98年10月12日核發祭祀公業派下全員證明書、祭祀公業蕭子玉派下全員系統表、派下現員名冊與不動產清冊給蕭慶堂，使蕭慶三、蕭慶堂、蕭慶珍、蕭如壎取得祭祀公業蕭子玉派下員資格之利益。'], ['張彩系未經共同繼承人鄧盈珍、鄧盈汝之同意，竟基於行使偽造私文書之犯意，於96年4月9日某時許，持鄧清亮開設之信義鄉農會帳號：00000000000000號帳戶存簿及開戶印章，前往位於南投縣○○鄉○○街00號之信義鄉農會填寫取款憑條、並盜蓋鄧清亮之開戶印章後，再持向不知情之該農會承辦人員行使之，將鄧清亮上開帳戶內之存款153萬元轉入張彩系在該農會開設之帳號：00000000000000號帳戶，足生損害於鄧盈珍、鄧盈汝之繼承權利及信義鄉農會管理金融帳戶之正確性', '被告未經共同繼承人鄧盈珍、鄧盈汝之同意，擅自轉匯上開款項之事實，復據被告於偵訊時自承在案（見南投他卷第11頁），且經鄧盈珍、鄧盈汝證述明確（見本院卷第241、267頁），則此部分之事實，亦可認定', '以未經被繼承人之全體繼承人同意，即偽以被繼承人名義製作取款憑條，提領被繼承人帳戶內之存款，其行為自有足以生損害於其餘繼承人之虞，至於其所提領之款項是否非被繼承人之遺產及提領之用途為何，均與其行為是否與刑法第210條、第216條行使偽造私文書罪之犯罪構成要件該當，並不生影響（最高法院106年度台上字第1165號判決意旨參照）']]\n"
          ]
        }
      ],
      "source": [
        "print(summaries)"
      ]
    },
    {
      "cell_type": "code",
      "execution_count": null,
      "metadata": {
        "colab": {
          "base_uri": "https://localhost:8080/"
        },
        "id": "oyLYE4NKgd9D",
        "outputId": "a9caa927-76d6-447d-8eec-96728a5c3230"
      },
      "outputs": [
        {
          "name": "stdout",
          "output_type": "stream",
          "text": [
            "○、緣徐鴻光（所涉行使偽造私文書犯行，業經本院以95年度訴字第955號判決處有期徒刑3月、緩刑3年確定）因需款使用，知悉穆立明有借款管道，為求順利借款，2人竟共同意圖為自己不法所有，基於行使偽造私文書及詐欺取財之犯意聯絡，知悉車牌號碼00-000號營業小客車係徐鴻光向志朗交通有限公司（下稱志朗公司）租賃之車輛，竟由穆立明先於不詳時間、不詳地點，偽刻「志朗交通有限公司」及負責人「陳健志」印章（正確姓名為陳建志，誤刻為「陳健志」）各1枚，並偽造「陳健志」代表志朗公司與徐鴻光簽署之「臺北市計程車客運駕駛人自備車輛參與經營契約書」（下稱本案參與經營契約書），虛偽記載徐鴻光提供上述營業小客車靠行志朗公司營業等不實內容，並持上開偽刻印章，偽造「志朗交通有限公司」印文4枚、「陳健志」印文6枚於本案參與經營契約書上，再於92年3月6日交徐鴻光於立約人乙方欄簽名，2人復於同日協同不知情之徐鴻光配偶徐樂仁（所涉行使偽造私文書犯行，業經本院以95年度訴字第955號判決無罪確定），前往臺北市○○區○○街00巷0號2樓王傑生所經營之宏帝當舖（現更名為渣打當舖），由徐鴻光、穆立明交付偽造本案參與經營契約書向宏帝當鋪借款新臺幣（下同）10萬元以為行使，並約定由徐樂仁擔任連帶保證人，王傑生誤信上開車輛為徐鴻光所有而陷入錯誤，於扣除利息後交付9萬1千元借款予徐鴻光夫婦，足以生損害於志朗公司、陳建志、王傑生。嗣因徐鴻光僅清償每期7千元之分期款共11期計7萬7千元，未全額清償即無力負擔債務，王傑生始查知上開車輛非徐鴻光所有，而悉上情。二、案經王傑生訴由臺灣士林地方法院檢察署檢察官偵查起訴。理由○、證據能力部分：被告以外之人於審判外之言詞或書面陳述，除法律有規定者外，不得作為證據；又被告以外之人於審判外之陳述，雖不符合同法第159條之1至第159條之4之規定，但經當事人於審判程序同意作為證據，法院審酌該言詞陳述或書面陳述作成時之情況，認為適當者，亦得為證據。刑事訴訟法第159條第1項及第159條之5第1項分別定有明文。經查，本判決所引用之各該被告以外之人於審判外之陳述，雖屬傳聞證據，然當事人於本院審判期日中均表示同意作為證據方法而不予爭執，且迄至言詞辯論終結前亦未再聲明異議（見本院卷第68頁至第68頁背面），本院審酌上開證據資料製作時之情況，尚無違法不當及證明力明顯過低之瑕疵，亦認為以之作為證據應屬適當，故揆諸前開規定，爰依刑事訴訟法第159條之5規定，認前揭證據資料均有證據能力。二、認定犯罪事實所憑之證據及理由：（一）訊據被告穆立明固坦承有於92年3月6日帶共同被告徐鴻光、徐樂仁至宏帝當鋪借錢，惟矢口否認有何行使偽造私文書及詐欺取財之犯行，辯稱：本案參與經營契約書係由共同被告徐鴻光所提出，徐鴻光知道我在宏帝當舖當業務員，他因資金不夠，要伊帶至宏帝當鋪借錢，伊請徐鴻光帶身分證、本案參與經營契約書，證明計程車係屬於徐鴻光所有，另外要帶一位保人云云。（二）經查，證人即志英交通公司負責人陳建志於檢察官偵查中結證稱：本案參與經營契約書上之「志朗交通有限公司」、「陳健志」之印文均非我公司的大小章，志朗交通公司也是我的公司，我是負責人，但這個章不是我的，被告徐鴻光只是加入無線電台等語（見94年度偵字第8715號卷第45頁），復有其提出真正之志朗交通有限公司及其本人陳建志之印文各4枚在卷可稽（見94年度偵字第8715號卷第48頁），經核卷附本案參與經營契約書上所示之「志朗交通有限公司」、「陳健志」印文（見95年度偵緝字第60號卷第53頁），除二者字體明顯不同外，本案參與經營契約書中「陳健志」名字中之「健」一字顯係錯別字，堪認本案參與經營契約書上所示之「志朗交通有限公司」、「陳健志」印文確屬偽造一節，應可認定。（三）證人即告訴人王傑生於檢察官偵查中證稱：我經營宏帝當鋪，後改名為渣打當鋪，地址在臺北市○○街00巷0號2樓，計程車典當給我們時，我們要看參與經營契約書，被告徐鴻光有來借錢，被告穆立明當時有在場，徐鴻光給我們看本案參與經營契約書，我們就以為車子是徐鴻光的，我們找到車之後才知道車子是車行的，被告穆立明是我們公司抽獎金的業務員，穆立明介紹人來借錢，我給他獎金等語（見94年度偵字第8715號卷第37頁、95年度偵緝字第60號卷第49頁、第68頁），且證人朱庭峰於檢察官偵查中及本院審理時亦結證稱：我是宏帝當鋪的負責人，後來當鋪讓給王傑生，被告徐鴻光到宏帝當鋪借款10萬元，係由我接洽，當時是被告穆立明介紹，穆立明不是公司職員，他會介紹車子到我們公司來典當，我會給穆立明佣金，即我收到1,000元利息，就給他100元，本案參與經營契約書是由穆立明拿出來等語（見95年度偵緝字第60號卷第68頁至第69頁、95年度訴字第955號卷第66頁至第67頁），復有本案參與經營契約書、本票影本各1份附卷可憑（見94年度偵字第8715號卷第14頁至第17頁），足認共同被告徐鴻光係經被告穆立明介紹，持本案參與經營契約書於上開時間前往宏帝當鋪借款10萬元，且被告穆立明於借款時在場之事實，洵堪認定。（四）被告穆立明雖辯稱：本案參與經營契約書係共同被告徐鴻光所提出，伊僅有將徐鴻光帶去當鋪，就由當舖的人接洽云云，惟查，證人即共同被告徐鴻光於本院審理時證稱：因為我當司機收入不高，家裡有需要用錢，被告穆立明說有辦法借錢，我請被告穆立明帶我去借款，被告穆立明有帶我去當鋪，我太太徐樂仁當時有一起陪同，卷附之本票影本係我當時在當鋪簽立，而本案參與經營契約書係被告穆立明幫我準備好的，經我在當舖蓋我的章及簽名，被告穆立明拿給我時契約書已經寫好資料，至於被告穆立明提出本案參與經營契約書之來源我不知道，被告穆立明只有要我帶駕照、行照、身分證及私章，車號00-000號營業用小客車是我用租的車子，車子是志朗公司的車子，本案參與經營契約書內容不是真的，車子不是我自備的，只有契約書末頁乙方的簽名是我簽的等語（見本院卷第64頁至第66頁背面），核與其在檢察官偵查中證稱：被告穆立明有帶我去宏帝當鋪向朱先生借錢，我借10萬元，本案參與經營契約書係被告穆立明幫我準備好的，前面的簽名及資料是被告穆立明簽的，只有最後的簽名是我簽的等語大致相符（見95年度偵緝字第60號卷第48頁至第49頁），再查，參以被告穆立明於本院審理時當庭書寫徐鴻光名字之字跡經與本案參與經營契約書立契約書人一欄所簽署「徐鴻光」之筆跡比對後（見本院卷第73頁），依肉眼觀之，不論字跡之運筆、筆勾等字體外觀，均較為吻合，反觀該契約書頁末之乙方「徐鴻光」之筆跡，與頁首立契約書人一欄所簽署「徐鴻光」之筆跡之運筆及筆勾，字跡明顯不同，是被告穆立明辯稱本案參與經營契約書係由共同被告徐鴻光提出云云，已難採信；又證人徐鴻光於本院審理時證稱：我曾經用上開車輛向別的當鋪借錢，當時別的當鋪說車子用租的也可以借，只要押行照在那裡即可，不需要像本件一樣的契約，本件是我去當鋪，他們說該簽名的地方，我就簽名，且是我透過別的司機得知被告穆立明可以幫我問問哪裡可以借錢，所以才找被告穆立明等語（見本院卷第65頁背面至第66頁背面），衡以證人徐鴻光涉犯本案犯行業經本院認定有罪確定，自應無虛偽陳述之動機，且被告穆立明自承與證人徐鴻光無糾紛，同為排班計程車司機，為點頭之交乙情，亦認證人徐鴻光無涉詞誣陷被告穆立明之可能；再參以證人王傑生、朱庭峰皆證述本案參與經營契約書係由被告穆立明提出一節，又被告並不否認宏帝當舖僅同意典當個人所有靠行之車輛，不同意典當向車行租的車輛等情，而本件共同被告徐鴻光既有提供行照予被告穆立明，業經其證述如前，則自行照之記載內容即可知悉上開車輛所有人為何人，被告穆立明豈有不知上開車輛所有人為何人之理，況被告穆立明供認介紹共同被告徐鴻光予宏帝當鋪借錢有利息百分之十之報酬等語（見本院卷第69頁背面），其當有可能為促成徐鴻光與宏帝當鋪借款，而提出本案經營契約書供作本件借款之用，是被告穆立明辯稱車子是徐鴻光說其自己所有，本案參與經營契約書係徐鴻光自行提出云云，顯係事後卸責之詞，不足採信。（五）綜上所述，被告上開所辯各節，無非事後避重就輕、圖卸之詞，不足採信，被告行使偽造私文書及詐欺取財等犯行，事證明確，應依法論科。三、論罪科刑部分：（一）按被告行為後，94年2月2日修正公布之刑法已於95年7月1日生效施行，其中第2條第1項「行為後法律有變更者，適用行為時之法律。但行為後之法律有利於行為人者，適用最有利於行為人之法律」之規定，係規範行為後法律變更所生新、舊法律比較適用之準據法，並非刑法實體法律，自不生行為後法律變更之比較適用問題，故刑法修正施行後，應適用該修正後之第2條第1項之規定，依「從舊、從輕」之原則比較新、舊法律之適用；又比較新舊法時，應就罪刑有關之共犯、未遂犯、想像競合犯、牽連犯、連續犯、結合犯，以及累犯加重、自首減輕暨其他法定加減原因（如身分加減）與加減例等一切情形，綜其全部罪刑之結果而為比較後，再適用有利於行為人之法律處斷，而不得一部割裂分別適用不同之新、舊法（最高法院24年上字第4634號、29年上字第964號判例意旨及最高法院95年度第8次刑事庭會議決議參照）。經查：1.刑法第33條第5款關於罰金刑之規定業於94年2月2日修正，於95年7月1日生效，修正前刑法第33條第5款規定：「罰金：1元（銀元）以上。」，並依現行法規所定貨幣單位折算新臺幣條例規定，以銀元1元折算新臺幣3元，故修正前刑法規定罰金之最低數額為新臺幣3元；修正後刑法第33條第5款規定：「罰金：新臺幣1,000元以上，以百元計算之。」，故修正後刑法規定罰金之最低數額提高為新臺幣1,000元；比較上開罰金刑之最高數額，於修正後並無不同，惟修正後刑法第33條第5款所定罰金刑最低數額，既較修正前提高，依前開說明，應適用對被告有利之修正前刑法第33條第5款之規定。2.修正前刑法第28條規定：「二人以上共同實施犯罪之行為者，皆為正犯。」，修正後該條規定為：「二人以上共同實行犯罪之行為者，皆為正犯。」，揆諸本條之修正理由，係為釐清陰謀共同正犯、預備共同正犯、共謀共同正犯是否合乎本條之正犯要件，並將陰謀共同正犯、預備共同正犯剔除於本條適用之外，以符合近代刑法之個人責任原則、法治國人權保障思想及犯罪支配理論，自屬行為後法律有變更，而非僅屬文字修正，應有新舊法比較適用問題（最高法院97年度台上字第37號判決意旨參照）。本件被告穆立明與徐鴻光就前揭行使偽造私文書及詐欺取財犯行各具有犯意聯絡及行為分擔，不論依修正前或修正後之規定，均屬共同正犯，對被告並無有利或不利之情形，應適用行為時之法律。3.被告行為後新法業已刪除牽連犯之規定，依舊法成立方法、結果行為而僅論以一罪者，依新法將論以數罪，比較新、舊法結果，自以修正前刑法第55條牽連犯之規定，較有利於被告。4.綜此，本院經綜合上述各條文修正前、後之比較，參照前揭最高法院決議及修正後刑法第2條第1項前段、後段規定之「從舊、從輕」原則，被告穆立明上開犯行自應適用行為時之法律，予以論處。（二）核被告穆立明所為，係犯刑法第216條、第210條之行使偽造私文書罪、同法第339條第1項詐欺取財罪。被告穆立明於本案參與經營契約書上偽造「志朗交通有限公司」、「陳健志」印章及印文乃偽造私文書之部分行為，其偽造本案參與經營契約書後持以行使，偽造之低度行為復為行使之高度行為所吸收，均不另論罪。被告穆立明與徐鴻光就行使偽造私文書及詐欺之犯行有犯意聯絡及行為分擔，為共同正犯。又其等行使偽造私文書之目的，在詐取告訴人之金錢，所犯連續行使偽造私文書與詐欺取財2罪間，有方法、目的之牽連關係，應依修正前刑法第55條規定，從一較重之行使偽造私文書罪處斷。（三）爰審酌被告穆立明不思以正當途徑賺取錢財，竟偽造志朗公司及其負責人陳建志之印章，進而偽造本案參與經營契約書，而詐取告訴人之金錢，足生損害於志朗公司、陳建志、告訴人，並危害社會交易秩序，所為實有不該，犯後否認犯行，未見悔悟之心，兼衡被告穆立明有違反票據法之前科，有臺灣高等法院被告前案紀錄表在卷可稽（見本院卷第60頁），素行尚可，共同被告徐鴻光於詐得借款後已陸續返還利息予告訴人與朱庭峰，及被告穆立明為高中肄業之智識程度，經濟狀況為小康之生活狀況等一切情狀（見被告警詢筆錄受詢問人欄，本院卷第6頁），量處如主文所示之刑，以資懲儆。又關於易科罰金之折算標準，修正前刑法第41條第1項前段規定：「犯最重本刑為5年以下有期徒刑以下之刑之罪，而受6個月以下有期徒刑或拘役之宣告，因身體、教育、職業、家庭之關係或其他正當事由，執行顯有困難者，得以1元以上3元以下折算1日，易科罰金。」，再依據修正前罰金罰鍰提高標準條例第2條：「依刑法第41條易科罰金或第42條第2項易服勞役者，均就其原定數額提高為1百倍折算1日；法律所定罰金數額未依本條例提高倍數，或其處罰法條無罰金刑之規定者，亦同。」之規定，被告行為時之易科罰金折算標準，應以銀元1百元以上3百元以下折算1日，經折算為新臺幣後，應以新臺幣3百元以上9百元以下折算1日。惟95年7月1日施行之刑法第41條第1項前段規定修正為：「犯最重本刑為5年以下有期徒刑以下之刑之罪，而受6個月以下有期徒刑或拘役之宣告者，得以新臺幣1千元、2千元或3千元折算一日，易科罰金。」，另95年7月1日生效施行之罰金罰鍰提高標準條例則刪除原本第2條之規定。是以比較新舊法結果，自以舊法所定之易科罰金折算標準有利於被告，故應依修正前刑法第41條第1項前段、修正前罰金罰鍰提高標準條例第2條規定，就所宣告之刑部分諭知易科罰金之折算標準。（四）偽造之「臺北市計程車客運駕駛人自備車輛參與經營契約書」原本1份固經共同被告徐鴻光於借款時行使交付予宏帝當鋪，業如前述，惟此僅係共同被告徐鴻光為借得款項，而將本案參與經營契約書交付當鋪作為擔保使用，其所有權仍為共同被告徐鴻光所有，不因行使而移轉為宏帝當鋪所有，又該偽造之契約既係供本件犯行所用，爰依刑法第38條第1項第2款規定宣告沒收。又契約上偽造之「志朗交通有限公司」印文4枚、「陳健志」之印文6枚固係偽造之印文，已因該契約之沒收而包括在內，無再重複諭知沒收之必要。另告訴人為提起本件告訴，而複印本案參與經營契約書資為證據（見94年度偵字第8715號卷第15至第17頁），因認僅係作為本案訴訟使用，而非被告穆立明、共同被告徐鴻光供本件犯行所用之物，就複印之契約書上之「志朗交通有限公司」印文4枚、「陳健志」之印文6枚，爰不予宣告沒收。至被告穆立明偽刻之「志朗交通有限公司」、「陳健志」印章各1枚，係偽造之印章，且無證據證明業已滅失，應依刑法第219條宣告沒收。（五）再按本條例施行前，經通緝而未於中華民國96年12月31日以前自動歸案接受偵查、審判或執行者，不得依本條例減刑，中華民國九十六年罪犯減刑條例第5條定有明文。查本件被告穆立明所為前開犯行之犯罪時間固係在96年4月24日以前，但其曾於中華民國九十六年罪犯減刑條例施行（96年7月16日施行）前之95年12月21日因本案經本院以95年士院刑玄緝字第463號通緝書發佈通緝，於102年9月1日甫緝獲歸案等情，此有前開通緝書、歸案證明書、本院102年士院刑玄銷字第289號撤銷通緝書各1份存卷可參（95年度訴字第955號卷第43頁、本院卷第26頁、第43頁），從而，依前開規定，本案被告無從依中華民國九十六年罪犯減刑條例之規定減刑，併此敘明。據上論斷，應依刑事訴訟法第299條第1項前段，刑法第2條1項前段、第28條、第216條、第210條、第339條第1項、第219條、第38條第1項第2款、修正前刑法第55條、第41條第1項前段，刑法施行法第1條之1第1項，修正前罰金罰鍰提高標準條例第2條，現行法規所定貨幣單位折算新臺幣條例第2條，判決如主文。本案經檢察官黃仙宜到庭執行職務。中華民國102年12月3日刑事第七庭審判長法官雷雯華法官陳介安法官蔡子琪以上正本證明與原本無異。如不服本判決應於收受送達後10日內向本院提出上訴書狀，並應敘述具體理由。其未敘述上訴理由者，應於上訴期間屆滿後20日內向本院補提理由書（均須按他造當事人之人數附繕本）「切勿逕送上級法院」。書記官李宜蓁中華民國102年12月5日附錄本案論罪科刑所依據之法條：刑法第216條、第210條、第339條第1項偽造、變造私文書，足以生損害於公眾或他人者，處5年以下有期徒刑。偽造印章、印文或署押，足以生損害於公眾或他人者，處3年以下有期徒刑。盜用印章、印文或署押，足以生損害於公眾或他人者，亦同。意圖為自己或第三人不法之所有，以詐術使人將本人或第三人之物交付者，處5年以下有期徒刑、拘役或科或併科1千元以下罰金。\n",
            "一、劉木卿（曾有犯背信罪之紀錄，本件不構成累犯），係專業代書，為從事業務之人，曾多次承辦祭祀公業相關業務，深知有關之各種申辦程序及事宜，時值政府立法要求祭祀公業申報以便管理（即96年12月12日公布之祭祀公業條例，要求於該條例施行已存在，而未依祭祀公業公土清理要點或臺灣省祭祀公業土地清理辦法之規定申報並核發派下全員證明書之祭祀公理，應於同條例第7條規定之期間辦理申報等事宜），其知坐落於彰化縣田中鎮○○○段158、159地號二筆土地係屬祭祀公業蕭子玉所有，尚未清理依法核發派下全員證明書等情，故即主動與該公業之管理人蕭賜福、蕭耀西之後代子孫蕭慶堂、蕭慶珍、蕭如壎、蕭慶三等人聯絡處理該祭祀公業之相關事宜（此與該二筆土地密不可分），經洽商結果，於蕭慶堂、蕭慶珍、蕭如壎、蕭慶三等人不需支費下，劉木卿代為申辦，事成後，由劉木卿獲得該祭祀公業所有土地價值20％之報酬，劉木卿竟為圖得該優厚之報酬；另蕭慶堂等人，則亦冀得他人勿來參與成為祭祀公業蕭子玉之派下員，方減少土地分歸他人之意下，其等明知上開祭祀公業蕭子玉之設立人非僅係蕭賜福及該公業之享祀人係蕭子玉等情，其等竟共同基於意圖為自已不法所有及行使業務上登載不實文書、使公務員登載不實之犯意聯絡，接續為下列行為：(一)由劉木卿於民國98年8月3日前數日內某時，在彰化縣員林鎮○○路○段172之1號住處，於業務上登載祭祀公業蕭子玉「3、淵源來歷：由蕭賜福積蓄購買本公業所有坐落彰化縣田中鎮○○○段158、159地號等二筆之土地。以祭田收益，作為每年清明節祭祀祖先之資。並期望子孫『蕭子』被珍惜如玉，故以『祭祀公業蕭子玉』命名。4、設立者姓名：先祖蕭賜福所設立。5、祭祀地點即供奉所在地：日據時期祭祀地點為彰化廳武東堡社頭庄百八拾壹番地及彰化廳武東堡社頭庄百八十三番地。光復後彰化縣社頭鄉社頭村社頭第一巷3號及彰化縣社頭鄉○○村○○○路360號，民國70年間因祭祀地點公廳拆除改建後，由各派下員各自將祖先神位分靈祭祀，申請人祭祀地點為彰化縣社頭鄉○○村○○○路40號。蕭如壎祭祀地點為彰化縣社頭鄉○○村○○○路46號。6、土地所在地：彰化縣田中鎮○○○段158、159地號（此部分關於土地之標示應屬無誤）。」等不實沿革，及不實之「派下現員：蕭慶三、蕭慶堂、蕭慶珍、蕭如壎」名冊、不實之派下全員系統表、推舉書後，連同該祭祀公業之財產清冊、土地登記第一類謄本，書寫以蕭慶堂為申報人之祭祀公業派下全員證明書申請書，於98年8月4日由劉木卿持向彰化縣田中鎮公所申請該祭祀公業派下全員證明書而行使，使不知情之田中鎮公所民政課承辦人員誤認為所申報關於該祭祀公業之「享祀人」、「設立人」與祭祀公業財產等要件皆具備，及該祭祀公業之派下員僅有蕭慶堂、蕭慶珍、蕭慶三與蕭如壎，而將上開不實事項登載於職務上所掌之公文書，經田中鎮公所依法公告徵求異議，俟公告期滿無人異議後，劉木卿、蕭慶堂、蕭慶珍、蕭慶三與蕭如壎復基於意圖為自己不法利益之犯意聯絡，由劉木卿以該祭祀公業派下員證明申請案已公告期滿無人異議，於98年10月7日在其前揭住處製作祭祀公業蕭子玉申請書，表明蕭慶堂、蕭慶珍、蕭慶三與蕭如壎為該祭祀公業僅存之派下員，於98年10月8日以蕭慶堂名義向田中鎮公所申請核發派下員證明書，致不知情之田中鎮公所民政課承辦人員於98年10月12日核發祭祀公業派下全員證明書、祭祀公業蕭子玉派下全員系統表、派下現員名冊與不動產清冊給蕭慶堂，使蕭慶三、蕭慶堂、蕭慶珍、蕭如壎取得祭祀公業蕭子玉派下員資格之利益。嗣於98年10月12日，劉木卿於前揭住處，接續在業務上製作之祭祀公業蕭子玉申請書登載派下全員蕭慶三、蕭慶堂、蕭慶珍、蕭如壎推舉蕭慶堂擔任新任管理人之不實事項，於翌日由劉木卿以蕭慶堂名義，連同該祭祀公業派下全員證明書、祭祀公業蕭子玉派下全員系統表、派下現員名冊與不動產清冊持向田中鎮公所申請管理人變更核備而行使之，使不知情之田中鎮公所民政課承辦人員登載於職務上所載之公文書，均足以生損害於該祭祀公業真正派下員及彰化縣田中鎮公所對祭祀公業管理之正確性。(二)劉木卿、蕭慶堂、蕭慶珍、蕭如壎與蕭慶三於祭祀公業蕭子玉之管理人變更後，其等知曉該祭祀公業因尚有共同設立人（亦即蕭賜福係公業之管理人，並非公業所有土地之單獨所有權人），應有其祭祀公業之派下員存在，在未得其他人同意之下（即該派下員並無解散該祭祀公業之合意），竟賡續前開犯意，由劉木卿於99年1月9日，在其彰化縣員林鎮○○路○段172之1號住處，於職務上製作之該祭祀公業派下員同意書上登載全體派下員蕭慶堂、蕭慶珍、蕭如壎與蕭慶三同意解散該祭祀公業，由各房奉請祖先牌位各自祭祀，及該祭祀公業因解散而需辦理彰化縣田中鎮○○○段158、159地號土地更名登記之土地登記申請書等不實事項後，委由劉木卿持向彰化縣田中地政事務所辦理系爭土地更名登記。劉木卿乃於99年1月22日，連同系爭土地所有權狀、土地登記清冊、田中鎮公所核發之祭祀公業派下全員證明書、派下現員名冊持向彰化縣田中地政事務所申請系爭土地更名登記為蕭慶堂、蕭慶珍、蕭如壎與蕭慶三所有而行使，致使不知情之田中地政事務所承辦人員誤認蕭慶堂、蕭慶珍、蕭如壎與蕭慶三為該祭祀公業之全體派下員，及蕭慶堂、蕭慶珍、蕭如壎與蕭慶三均同意解散該祭祀公業，乃將系爭土地所有權人祭祀公業蕭子玉變更登記為蕭慶堂、蕭慶珍、蕭如壎與蕭慶三分別共有（蕭慶三、蕭如壎各取得系爭土地三分之一之應有部分；蕭慶堂、蕭慶珍則各六分之一之應有部分）。足以生損害於該祭祀公業真正派下員及彰化縣田中鎮公所對祭祀公業管理之正確性。二、案經蕭耀森訴由彰化縣警察局田中分局報告臺灣彰化方法院檢察署檢察官偵查起訴。理由壹、程序方面（證據能力）：現行刑事訴訟法為保障被告之反對詰問權，排除具有虛偽危險性之傳聞證據，以求實體真實之發見，於該法第159條第1項明定被告以外之人於審判外之言詞或書面陳述，除法律有規定者外，不得作為證據。本件檢察官、被告及辯護人於本院準備程序及審理程序中，並未就本案卷內證據資料之證據能力提出爭執，且迄於言詞辯論終結前，均未主張有刑事訴訟法第159條第1項不得為證據之情形，應認均已同意本案卷內之證據資料均得作為本案證據，且經本院審酌後，認無不適當之情形，是本案卷內之證據均有證據能力，合先敘明。貳、實體方面：一、訊據被告劉木卿、蕭慶堂、蕭慶珍、蕭慶三與蕭如壎等人，均矢口否認涉有上開行使業務上登載不實文書、使公務員登載不實及詐欺取財之犯行。被告劉木卿辯稱：伊從事代書工作，有關辦理本件祭祀公業蕭子玉之申報事宜，一切資料均來自被告蕭慶堂、蕭慶珍、蕭慶三與蕭如壎等會商後所告知，伊無捏造申報之犯行，且被告蕭慶堂等人告知沿革資料縱內容與事實有出入，或肇因證據散失、記憶模糊，或係告知有誤解所致，絕無任何偽造之故意云云。另被告蕭慶堂、蕭慶珍、蕭慶三與蕭如壎則均於辯稱：被告兄弟四人係祭祀公業蕭子玉真正之派下員，故其等所為，並無觸法可言，且上開有關申報祭祀公業蕭子玉中沿革及相關資料中，係來自父親所告知，伊無偽造之故意，因此並未涉有公訴人所指之犯行云云。但查：(一)被告蕭如壎於警詢時，明白證稱：「（問：蕭子玉祭祀公業有無財產？分佈何處？）之前我不知道，一位住社頭鄉○○村○○路旁劉姓代書告知，我才知道。是該劉姓代書帶我、蕭慶堂、蕭慶三及蕭慶珍４個兄弟前往彰化縣田中鎮○○路附近察看，告知附近土地是我們的。」、「（問：你是否知道蕭子玉祭祀公業沿革之內容為何？）我不知道」、「（問：蕭子玉祭祀公業申請前有何人管理及繳交土地稅金？）我不知道」（見警詢筆錄附於99年度偵字第7488號偵查卷宗第12頁背面至13頁背面）；後於偵查中，亦明確指出：「是代書主動來找我們，我才知道可以辦理，所以兄弟協調後，才由代書去處理。」（同上偵查卷宗第107頁背面）；後於本院審理中，具結證稱：「（問：你是否知道劉木卿代書所繕寫方的蕭子玉祭祀公業沿革係『希望蕭氏子孫被珍惜如玉』，才叫做蕭子玉祭祀公業，你是否知道這沿革？」我不知道。」、「是代書主動來找我們的」等語（見本院101年1月5日審判筆錄），該供述內容前後一致，均無矛盾，且該內容係不利被告蕭如壎之證詞，若非屬實，焉有自陷於不利之理。是被告蕭如壎上開證詞，其憑信度極高，自可採信。再參之被告蕭慶珍於72年9月27日即辦妥祭祀公業德盛公有擁有坐落彰化縣員林鎮○○○段第93地號（重測前為番仔崙93、104、136、213、218地號）土地事宜（相關謄本附於被告於100年2月21日所提之準備書狀內），而該祭祀公業亦係蕭賜福為管理人，若被告蕭慶珍兄弟早已獲知本件祭祀公業蕭子玉等相關訊息（含管理人係其等之先人蕭賜福），豈有不趁早處理，而遲至98年方為本件申請之理。因此，由上可知，被告蕭慶堂、蕭慶珍、蕭如壎、蕭慶三等人原本對祭祀公業蕭子玉之存否，包括其祖父係祭祀公業蕭子玉之管理人及該公業擁有坐落於彰化縣田中鎮○○○段158、159地號二筆土地等情，一無所悉，係同案被告劉木卿主動前來告知等情，確係為實。(二)證人即被告蕭如壎之子蕭順昌；被告蕭慶堂之子蕭錦標經檢察官聲請傳訊到庭，2人於受詰問時，對於有關祭祀公業蕭子玉相關事宜均無所悉（見同上審判筆錄），此印證被告蕭如壎之上開證詞之真實性，因若如被告蕭慶堂、蕭慶珍、蕭慶三於本院審理中，所辯其明暸祭祀公業蕭子玉等事宜，焉有於其等係已逾六旬之人，而不轉告子嗣明白有關祭祀公業蕭子玉相關事項之理。再者，依彰化縣田中地政事務所100年5月9日中地一字第1000002260號函所示：蕭家裕（即居於系爭土地之人）於94、96、98年陸續有以網路申請系爭彰化縣田中鎮○○○段159地號土地電子謄本紀錄，而被告蕭如壎僅在99年11月23日以其名義，以網路申請系爭彰化縣田中鎮○○○段159地號土地電子謄本；另被告蕭慶珍係於98年8月21日申請係系爭彰化縣田中鎮○○○段158地號電子謄本（見本院卷二），此足徵被告蕭慶堂、蕭慶三、蕭慶珍與蕭如壎在98年以前，均不知悉該祭祀公業擁有系爭土地之事實。因若係98年以前即知悉系爭土地及該祭祀公業存在，理當有申辦系爭土地謄本以便主張權益之紀錄（例如蕭家裕即是），另被告劉木卿係專業代書，其亦自承多次承辦祭祀公業相關業務，是當深知有關之各種申辦程序及事宜，且本件被告蕭慶堂為祭祀公業蕭子玉申報等相關事宜，又係祭祀公業條例公布清理時限內所為，是有關本件辦理祭祀公業蕭子玉申報事宜及其後分歸土地之事，均係由被告劉木卿主動與該公業之管理人蕭賜福、蕭耀西之後代子孫即被告蕭慶堂、蕭慶珍、蕭如壎、蕭慶三等人所為之事實，應可認定（至於被告劉木卿何以會主動為之，因可獲得如事實一所述之優厚之報酬也）。(三)依據民事習慣，祭祀公業之構成，係設立人為祭祀祖先所購置或設立之獨立財產（見本院卷一所附之臺灣祭祀公業協會網站文獻、維基百科網站查詢資料），因此，構成祭祀公業須有下列要件：一、人的部份：須有享祀人、設立人、派下員、管理人。祭祀公業之享祀人即為祭祀公業所奉祀之人，多為設立人之尊長或先祖，而非以後代子孫為享祀人。而祭祀公業須有設立人之存在，有時係一人，有時係多人。另管理人為受任管理祭祀公業財產及宗務之人，以選任派下員為原則，例外亦有選任派下以外之人為管理人。二、祭祀公業財產：係指不動產、動產、股票、債券收益之意，此類祭祀公業的獨立財產，其財產應屬全體派下員公同共有，與派下子孫個別財產完全不相干。本件被告等人於98年8月3日向彰化田中鎮公所所提之申請書附件沿革中，記載：【以祭田收益，作為每年清明節祭祀祖先之資。並期望子孫『蕭子』被珍惜如玉，故以『祭祀公業蕭子玉』命名。】，非但無享祀人之具體記載，且竟指該公業名稱蕭子玉非係先人之名，而係泛指後代子孫受珍惜，此與前開民俗可謂大相逕異，而將【蕭子玉】指係為後代子孫，實屬偏離至極。(四)被告蕭慶堂、蕭慶珍、蕭如壎、蕭慶三等四人對於蕭氏宗親所編之蕭氏族譜，均不爭執之其為真正（99年度偵字第5375號第159頁至172頁），其上明確記載蕭時中係蕭氏入漳洲始祖（明永樂九年辛卯科狀元），其子積玉（字子玉，配黃氏），...十一世輝美、十二世有志誠、志海、志湖、志達。而本院依職權前往被告蕭慶堂、蕭如壎家中，開啟伊等之祖先牌位，其內均有輝美、志海之記載，有院100年2月21日之勘驗筆錄及照片可稽，是顯見蕭積玉（字子玉）係被告蕭慶堂、蕭慶珍、蕭如壎、蕭慶三等四人之祖先無誤，而被告蕭慶堂於警詢中，竟出言稱：「（：你們祖先之中有無姓名【蕭子玉】之人？）沒有」（見警詢筆錄附於99年度偵字第7488號偵查卷宗第5頁），是顯見被告蕭慶堂為求本件祭祀公業蕭子玉所擁有之系爭土地能順利分歸，不惜為與事實不符之陳述。(五)被告蕭慶三於警詢中，明確供陳：「（問：你是否知道蕭子玉祭祀公業沿革之內容為何？）蕭子玉是我們的祖先，祭祀公業是讓我祭祖留念。」、「（問：提示位於彰化縣社頭鄉社頭村草仔埤巷4號「芳遠堂」蕭子玉牌位，是否就是你所稱你們祖先蕭子玉？）我以前有跟我媽媽到該處拜拜，他只告知我該處供奉我們的祖先，當時我還小，我沒有注意看。」等語（見警詢筆錄附於99年度偵字第7488號偵查卷宗第10頁背面至11頁正面），而其與其他兄弟及被告劉木卿會商後，竟於所提之申請書附件沿革中，為上開記載，在在足證，被告蕭慶堂、蕭慶珍、蕭如壎、蕭慶三及同案被告即代書劉木卿均係明知且故意為之。斷非係肇因證據散失、記憶模糊所致。(六)被告蕭慶堂、蕭慶珍、蕭如壎、蕭慶三及同案被告即代書劉木卿於100年2月11日委由辯護人具狀表示：「(一)無相關證據足以認定蕭賜福為設立人；但亦無證據足以認定蕭賜福非設立人」（見100年2月11日所提之準備書狀），被告等人既明確表示無相關證據足以認定蕭賜福為設立人，則其等於上開沿革中，載稱：「4、設立者姓名：先祖蕭賜福所設立。」，豈非係其等於無任何證據之下，徒憑己意所為，是該記載明確有不實之弊，自不待言。(七)被告蕭慶堂、蕭慶珍、蕭如壎、蕭慶三之祖父蕭賜福於明治44年8月19日與齋友向同為其父蕭貞吉之繼承人蕭福智、蕭福根、蕭登王等人購買坐落彰化縣員林鎮○○○段第93地號（重測前為番仔崙93、104、136、213、218地號）土地設立祭祀公業德盛公，有土地登記簿謄本影本1份（含日據時代之登記簿，係被告所提出附於100年2月21日之準備書狀內），在卷可佐，觀日據時代之登記簿業主權事項欄就該事項係以記載【公業德盛公管理人武東堡社頭庄百八拾壹番地蕭賜福】之方式表示之，亦即方式之記載係表示土地係屬公業德盛公，而管理人係蕭賜福，且除蕭賜福外尚有其他派下員，並非由蕭賜福一人所獨設（因此公業係蕭賜福與其他人一同設立），再觀祭祀公業蕭子玉就系爭土地於日據時代之登記簿業主權事項欄內，其記載亦係以【公業蕭子玉管理人武東堡社頭庄百八拾壹番地蕭賜福】之方式表示之（見99年度偵字第5375號偵查卷宗第34頁），二者之記載方式，則代表含意亦相同，不容有不同之解釋，換言之此方式之記載係表示土地係屬公業蕭子玉，而管理人係蕭賜福，且除蕭賜福外尚有其他派下員，而縱蕭賜福係設立人，亦非由其一人所獨設（況依上述，並無相關證據足以認定蕭賜福係設立人）。而被告蕭慶堂、蕭慶珍、蕭如壎、蕭慶三及被告劉木卿竟於無視上開明白之記載，而申請書附件沿革中，明白書載「4、設立者姓名：先祖蕭賜福所設立。」，是在在足證其等確有虛偽記載之犯意甚明。(八)日據時代土地總登記係於明治38年，若有明確資料提出證明確係所有權者，則在該土地登記事項欄內，必以業主相稱，此由上開坐落彰化縣員林鎮○○○段第93地號（重測前為番仔崙93、104、136、213、218地號）土地，原係蕭賜福之父蕭貞吉所有，則於日據時代之土地登記事項欄內，即載明「明治參拾八年拾壹月拾壹日蕭貞吉為業主」自明，而本件祭祀公業蕭子玉所擁有之系爭土地，於日據時代之登記簿業主權事項欄內，係直接記載「業主公業蕭子玉」，亦即該土地之原來所有權人係何人，並無記載，惟依該時之資料可以確定係系爭土地之所有權人係公業蕭子玉，而非蕭賜福。再者祭祀公業常有祭典之舉行，故常有一定處所奉祀享祀人，但此與管理人之住處有別，而上開申請書附件沿革竟指蕭賜福之住所即係彰化廳武東堡社頭庄百八拾壹番地為奉祀地，益見該等記載偏離事實，故申請書附件沿革中關於「3、淵源來歷：由蕭賜福積蓄購買本公業所有坐落彰化縣田中鎮○○○段158、159地號等二筆之土地。」及「5、祭祀地點即供奉所在地」，顯係不實之記載。(九)祭祀公業涉及祭典之舉行及因派下員常非單一，故需設管理人，而任該職者，通常係找頗有影響力之人或飽學之士為之，被告蕭慶堂、蕭慶三、蕭慶珍、蕭如壎之先人蕭賜福於日據時代係從販賣阿片之商人，其影響力不可言諭，再者，蕭賜福之父蕭貞吉（生於天保2年）於明治44年去世，其於明治42年時，體力當已老衰，故由蕭賜福任祭祀公業蕭子玉之管理人，應符常情，因此被告等人主張蕭賜福擔任管理人時，其父親尚存在，該公業若為其祖先設立，焉有選任蕭賜福為管理人之可能云云，顯係模糊上情之詞。(十)被告等確涉有上開犯行，除經證人即告訴人蕭耀森（在是否屬被害人不明前，似乎應以告發人相稱）於警詢證明確外，，就①被告蕭慶堂、蕭慶珍、蕭慶三與蕭如壎合意選任蕭慶堂為代理人，蕭慶堂再委任劉木卿製作該祭祀公業不實之沿革、申請書，連同土地登記第一類謄本於98年8月3日持向田中鎮公所申請派下全員證明書，而田中鎮公所民政課受理申請後，將被告等人登載之不實事項登載於職務上所掌之公文書及被告等人於公告期滿後，於98年10月8日向田中鎮公所申請核發派下員證明書，致田中鎮公所承辦人員陷於錯誤，於同年月13日核發祭祀公業派下全員證明書及蓋有公所印信之派下全員系統表、派下現員名冊與不動產清冊與被告等人以原管理人蕭耀西死亡為由，於98年10月13日向田中鎮公所申請變更該祭祀公業新任管理人為蕭慶堂之事實部分，並有祭祀公業派下全員證明書申請書、委任書、祭祀公業蕭子玉推舉書、沿革、土地登記第一、二類謄本彰化縣田中鎮公所98年9月3日田鎮民字第0980013614號函、田鎮民字第0980013615號公告、祭祀公業蕭子玉申請書、彰化縣田中鎮公所98年10月12日田鎮民字第0980015674號函、祭祀公業蕭子玉管理人選任同意書、申請書、委任書、彰化縣田中鎮公所98年10月14日田鎮民字第0980015957號函附卷可稽；②被告劉木卿擔任被告蕭慶堂、蕭慶三、蕭慶珍與蕭如壎之代理人，以解散該祭祀公業為由，於99年1月22日向田中地政事務所申請系爭土地之所有權人由該祭祀公業變更登記為被告蕭慶堂、蕭慶三、蕭慶珍與蕭如壎，致田中地政事務所承辦人員誤認該祭祀公業派下員同意解散該祭祀公業，進而將系爭土地之所有權人變更為被告文蕭慶堂、蕭慶珍、蕭慶三與蕭如壎之事實部分，亦有彰化縣田中地政事務所100年5月5日中地一字第1000002313號函所附之土地登記申請書、印鑑證明、派下員同意書、派下全員證明書、派下現員名冊、土地所有權狀等影本，附卷可佐。(十一)綜上，顯見被告劉木卿、蕭慶堂、蕭慶珍、蕭慶三與蕭如壎所辯，均與事實不符，不可採信。本件罪證明確，被告劉木卿、蕭慶堂、蕭慶珍、蕭慶三與蕭如壎之犯行，足以認定。二、按上開與祭祀公業有關之派下全員證明書申請書、派下現員名冊、祭祀公業蕭子玉推舉書與沿革、同意書等文書，係執行代書業務所製作之文書，屬業務上作成之文書。故核被告劉木卿、蕭慶堂、蕭慶珍、蕭慶三與蕭如壎等人前揭所為，均係犯刑法第216條、第215條之行使業務上登載不實之文書、刑法第214條之使公務員登載不實罪與刑法第339條第1項之詐欺取財罪。其等所為之明知為不實之事項，而登載於其業務上作成文書之行為（低度行度），為其後之行使行為（高度行為）所吸收，不另論罪。其等就前揭犯行有犯意聯絡與行為分擔，俱為共同正犯。其等利用不知情之田中鎮公所民政課承辦人員取得該祭祀公業派下員資格利益及利用不知情之田中鎮公所承辦人員取得系爭土地所有權，係間接正犯。又按刑法廢除牽連犯之規定後，對於前以牽連犯予以處理之案例，依立法理由之說明，在適用上，得視其具體情形，分別論以想像競合犯或數罪併罰，予以處斷。是原經評價為牽連犯之案件，如其二行為間具有行為局部之同一性，或其行為著手實行階段可認為同一者，得認與一行為觸犯數罪名之要件相侔，而改評價為想像競合犯。至於不可認為一行為者，若依實質競合予以併罰，不無刑罰過度評價，依社會通念，並不符合刑罰公平原則，當亦難以一行為一罪論處。於此，倘所發生之數個犯罪行為，在犯罪之性質上，或依吾人日常生活經驗之見解上，其前後行為，在形態上雖屬分別獨立，但從同一法益之侵害性而言，因具一定程度之關連性，可認為一方吸收他方之犯罪行為，遂置他方於不論，較為適當，應可依吸收犯理論，認屬實質上一罪關係，而僅包括的論以一罪（參照最高法院96年度台上字第4780號判決意旨）上開諸罪均係基於同一目的（即分歸取得土地所有權），故在刑法評價上，以視為數個舉動之接續施行，彼此間有行為局部之同一性，應為包括之一行為予以評價，較為合理，而屬一行為觸犯數罪名之想像競合犯，應依刑法第55條規定情節較重之詐欺取財罪處斷。而公訴人就上開行使業務上登載不實之文書罪部分，指係犯刑法216條、210條之罪，惟已當庭及以補充理由書更正之，故本院不再諭知變更起訴法條。另公訴人指上開數罪之關係或謂罪，或想像競合，但如上所述，應依想像競合犯之例論處，方為適當。又上開犯罪事實中，為原起訴書所漏列部分，因與已明確記載部分，有裁判上一罪之關係，故本院自得併予審理，併此敘明。爰審酌被告劉木卿於辦理祭祀公業相關申報事實之際，為牟得巨利報酬，非但主動其餘被告蕭慶堂等人，且位於主導之地位，為本件不實事實申報及不實之分歸土地，實有不該，應予嚴懲，另被告蕭慶堂、蕭慶珍、蕭慶三、蕭如壎聽信代書之被告劉木卿之言，為求避免其兄弟等人以外之人，前來分歸土地，竟與代書為上開行使業務上登載不實之文書、使公務員登載不實及詐欺取財等犯行，實有欠思慮，念其均為已逾六旬之人，暨渠等之犯罪動機、手段、目的與犯罪後之態度等一切情狀，各量處如主文所示之刑，並就被告蕭慶堂、蕭慶珍、蕭慶三、蕭如壎部分，諭知如易科罰金之折算標準。又查被告蕭如壎前未曾因故意犯罪受有期徒刑以上刑之宣告，有臺灣高等法院被告前案紀錄表1份附卷可憑，因有宗親一同處理事務之牽絆，故一時失慮致罹刑章，其於警、偵查時及本院審理中，對所知之事，均有明確之供陳，可謂態度良好，經此偵審教訓後，應知警惕而無再犯之虞，本院因認所宣告之刑，以暫不執行為適當，爰依刑法第74條第1項第1款規定，併予宣告緩刑2年，以勵自新。三、本判決僅認定被告等人所涉上開犯行部分，至於祭祀公業蕭子玉之派下員究竟有幾人，除被告蕭慶堂、蕭慶珍、蕭慶三、蕭如壎外，尚有何人具派下員身分，應尋民事途逕解決，非係本判決論斷之範疇，併此敘明。據上論斷，應依刑事訴訟法第299條第1項前段、刑法第28條、第216條、第215條、第214條、第339條第1項、第55條、第41條第1項、第74條第1項第1款，刑法施行法第1條之1，判決如主文。本案經檢察官黃顗雯到庭執行職務。中華民國101年4月6日刑事第三庭審判長法官洪志賢法官張鶴齡法官簡佩珺以上正本證明與原本無異。如不服本判決應於收受判決後10日內向本院提出上訴書狀，並應敘述具體理由；其未敘述上訴理由者，應於上訴期間屆滿後20日內向本院補提理由書（均須按他造當事人之人數附繕本）「切勿逕送上級法院」。告訴人或被害人對於判決如有不服具備理由請求檢察官上訴者，其上訴期間之計算係以檢察官收受判決正本之日期為準。中華民國101年4月6日書記官許億先附錄本案論罪科刑法條全文：中華民國刑法第214條（使公務員登載不實罪）明知為不實之事項，而使公務員登載於職務上所掌之公文書，足以生損害於公眾或他人者，處3年以下有期徒刑、拘役或5百元以下罰金。中華民國刑法第215條（業務上文書登載不實罪）從事業務之人，明知為不實之事項，而登載於其業務上作成之文書，足以生損害於公眾或他人者，處3年以下有期徒刑、拘役或5百元以下罰金。中華民國刑法第216條（行使偽造變造或登載不實之文書罪）行使第210條至第215條之文書者，依偽造、變造文書或登載不實事項或使登載不實事項之規定處斷。中華民國刑法第339條（普通詐欺罪）意圖為自己或第三人不法之所有，以詐術使人將本人或第三人之物交付者，處5年以下有期徒刑、拘役或科或併科1千元以下罰金。以前項方法得財產上不法之利益或使第三人得之者，亦同。前二項之未遂犯罰之。\n",
            "一、緣張彩系與鄧盈珍、鄧盈汝之父親鄧清亮係夫妻，鄧清亮於民國96年4月6日過世，遺產由張彩糸、鄧盈慧、鄧盈珍、鄧盈汝、鄧淯任5人共同繼承。詎張彩系未經共同繼承人鄧盈珍、鄧盈汝之同意，竟基於行使偽造私文書之犯意，於96年4月9日某時許，持鄧清亮開設之信義鄉農會帳號：00000000000000號帳戶存簿及開戶印章，前往位於南投縣○○鄉○○街00號之信義鄉農會填寫取款憑條、並盜蓋鄧清亮之開戶印章後，再持向不知情之該農會承辦人員行使之，將鄧清亮上開帳戶內之存款新臺幣（下同）153萬元轉入張彩系在該農會開設之帳號：00000000000000號帳戶，足生損害於鄧盈珍、鄧盈汝之繼承權利及信義鄉農會管理金融帳戶之正確性。二、案經鄧盈珍、鄧盈汝訴由臺灣臺中地方檢察署檢察官呈請臺灣高等檢察署臺中檢察分署檢察長核轉臺灣南投地方檢察署檢察官偵查起訴。理由一、證據能力：(一)本案以下引用被告張彩糸以外之人於審判外所為陳述之供述證據，迄本院言詞辯論終結前，檢察官、被告就該等證據之證據能力均未聲明異議（見本院卷第93、272頁），本院審酌該等證據製作時之情況，並無違法不當或證明力明顯過低之瑕疵，以之作為證據應屬適當，依刑事訴訟法第159條之5第2項之規定，認為均得作為證據。(二)而其餘認定本案犯罪事實之非供述證據，復無違反法定程序取得之情形，亦得作為證據。二、認定犯罪事實所憑之證據及理由：訊據被告對於其與告訴人鄧盈珍、鄧盈汝之父親即被繼承人鄧清亮係夫妻，鄧清亮於96年4月6日過世，遺產由張彩糸、鄧盈慧、鄧盈珍、鄧盈汝、鄧淯任5人共同繼承；其於96年4月9日某時許，持鄧清亮開設之信義鄉農會帳號：00000000000000號帳戶存簿及開戶印章，前往位於南投縣○○鄉○○街00號之信義鄉農會填寫取款憑條、並蓋用鄧清亮之開戶印章後，再持向該農會承辦人員行使之，將鄧清亮上開帳戶內之存款153萬元轉入張彩系在該農會開設之帳號：00000000000000號帳戶之事實固不爭執（本院卷第93、94頁），惟矢口否認有何行使偽造私文書之犯行，並辯稱：提領款項係依公公指示，合乎一般社會通念及鄉民習慣，沒有偽造文書意圖；在我與我先生的戶籍裡面，未曾登記告訴人兩位的姓名；且提領款項係為償還鄧清亮之債務，並無詐欺或侵占之不法所有意圖（見本院卷第38、41、271、281至285頁）云云。經查：(一)關於上開被告不爭執之事實，業據被告於本院準備程序時自承在卷（見本院卷第39、93至95頁），核與告訴代理人謝莉蘭（見臺中他卷第14頁）、證人即告訴人鄧盈珍、鄧盈汝（見南投他卷第11頁、本院卷第238至241、265至268頁）所述情節大致相符，並有戶籍謄本（除戶部分）、信義鄉農會取款憑條、信義鄉農會105年8月22日函、個人戶籍資料（臺中他卷第4至6頁）、信義鄉農會客戶往來交易明細表（見本院卷第59至65頁）等件附卷可稽，是此部份之事實，即堪認定。而被告未經共同繼承人鄧盈珍、鄧盈汝之同意，擅自轉匯上開款項之事實，復據被告於偵訊時自承在案（見南投他卷第11頁），且經鄧盈珍、鄧盈汝證述明確（見本院卷第241、267頁），則此部分之事實，亦可認定。(二)被告雖然辯稱提領款項係依公公指示，合乎一般社會通念及鄉民習慣，沒有偽造文書意圖云云。然依被告先後自陳「沒有辦法聯絡到其他繼承人」、「因為當初辦繼承的方面，我都有拜託姐姐跟他們聯絡」、「是他們不願意回來配合辦理」、「有叫他們拿資料來辦理繼承，但他們都不配合」（見南投他卷第11頁、本院卷第39、241、269頁），鄧盈珍證稱「他還一直恐嚇我們拋棄繼承」（見本院卷第239頁），鄧盈汝證稱「都是代書跟我們聯絡，要我們放棄繼承」（見本院卷第266頁），證人即鄧清亮之胞兄鄧清浪證稱：我有勸過被告就遺產部分要找告訴人方面來討論，我認為被告也有朝這方面來努力（見本院卷第271頁）等語，可見被告顯然知悉被繼承人鄧清亮死亡以後，已不得再以鄧清亮名義製作取款憑條提領被繼承人之存款，如要提領被繼承人之存款，應得全體繼承人之同意，否則何須大費周章聯絡告訴人等配合辦理繼承或拋棄繼承事宜；被告辯稱提領款項係依公公指示，合乎一般社會通念及鄉民習慣，沒有偽造文書意圖云云，實屬卸責之詞，不足採信，被告具有行使偽造私文書之故意甚明。(三)被告嗣後雖再改口辯稱在我與我先生的戶籍裡面，未曾登記告訴人兩位的姓名云云。但以被告於被繼承人鄧清亮死亡以後，曾經聯絡告訴人等配合辦理繼承或拋棄繼承事宜，已如上述，佐諸鄧盈珍證稱：被告跟我父親結婚時，知道我父親有其他子女（見本院卷第239頁），鄧清浪證稱：被告知道鄧清亮有與前配偶育有子女（見本院卷第270頁）等語，足見被告於轉匯上開存款時，確實知悉告訴人2人為鄧清亮之子女，而為鄧清亮之共同繼承人；被告辯稱在其與其先生的戶籍裡面，未曾登記告訴人兩位的姓名云云，不過飾卸之詞，委不可採。(四)被告雖又辯稱轉匯上開款項係為償還鄧清亮之債務，並未生損害於公眾或他人云云。然按，刑法第210條所稱足生損害於公眾或他人，以有損害之虞為已足，不以實際發生損害為要件（最高法院43年台上字第387號判例要旨參照）。所稱之足生損害，係指他人有可受法律保護之利益，因此遭受損害或有受損害之虞，不以實際發生損害者為必要；而所謂損害，亦不以經濟上之損害為限，即民事、刑事或行政上之損害亦皆屬之（最高法院107年度台上字第3038號判決要旨參照）。如未經被繼承人之全體繼承人同意，即偽以被繼承人名義製作取款憑條，提領被繼承人帳戶內之存款，其行為自有足以生損害於其餘繼承人之虞，至於其所提領之款項是否非被繼承人之遺產及提領之用途為何，均與其行為是否與刑法第210條、第216條行使偽造私文書罪之犯罪構成要件該當，並不生影響（最高法院106年度台上字第1165號判決意旨參照）。則以被告未經鄧清亮之繼承人即告訴人2人同意，擅自轉匯上開款項，造成鄧清亮名下財產減少，告訴人等之繼承權利即有可能受到損害，並不以彙算之後確有損害為必要；且被告於鄧清亮過世後，擅以鄧清亮之名義轉匯上開款項，復可能產生信義鄉農會對於消費寄託債務是否清償之爭執，亦足生損害於信義鄉農會管理金融帳戶之正確性。被告辯稱未生損害於公眾或他人云云，純屬推諉之詞，並不可採。(五)至於被告雖另辯稱提領款項係為償還鄧清亮之債務，並無詐欺或侵占之不法所有意圖云云。惟按，所提領之款項是否使用於支付被繼承人醫藥費、喪葬費之用，要屬行為人有無不法所有意圖之問題，與行使偽造私文書罪該當與否不生影響（最高法院107年度台上字第1753號判決意旨參照）。茲因本案起訴意旨及上開論罪所犯罪名均未認定被告涉犯詐欺或侵占犯行、而均論以行使偽造私文書罪嫌（見本院卷第10、11頁），被告轉匯上開款項是否係為償還被繼承人鄧清亮之債務，事涉是否構成詐欺或侵占犯罪，自與本案被告是否成立犯罪（行使偽造私文書）無關。被告辯稱並無詐欺或侵占之不法所有意圖云云，容有誤會起訴及論罪所犯罪名，併予敘明。(六)綜上所述，本案事證明確，被告之犯行可以認定，應予依法論罪科刑。三、論罪科刑之理由：(一)按人之權利能力，終於死亡，其權利義務因死亡而開始繼承，由全體繼承人承受，故關於遺產之法律行為，自當由全體繼承人為之，被繼承人縱令於生前曾授權他人為之，亦因其死亡致權利主體不存在使授權關係消滅，即不得再以被繼承人生前授權或全體繼承人之同意，而以被繼承人之名義製作取款憑條，提領被繼承人帳戶內之存款，否則足致社會一般人誤認死者猶然生存在世，有害公共信用之虞，尤其倘另有其他繼承人，對於遺產之繼承迭有爭執，倘未經全體繼承人同意，而擅以被繼承人名義為法律行為，其行為更有足生損害於繼承人之虞，均屬無權製作之偽造行為；至於行為人提領款項之目的或動機何在（例如是否悉數用作支付喪葬費，或其他用途），對於本罪之成立，不生影響（最高法院107年度台上字第1162號判決意旨參照）。次按，盜用印章與盜用印文為不同之犯罪態樣，盜取他人之印章持以蓋用，當然產生該印章之印文，祇成立盜用印章罪，不應再論以盜用印文罪，亦非盜用印章行為為盜用印文行為所吸收（最高法院86年台上字第3295號判例要旨參照）。刑法上之盜用印文罪，係指單純盜用他人之印文而言；若盜用印文，而在書類上已為一定之意思表示，且具有存續性，其內容屬法律上有關係之事項者，則係犯偽造文書罪（最高法院91年度台上字第360號判決要旨參照）。銀行為便利存款人取款而印好任人索取填寫之取款憑條，非可流通市面得以自由轉讓，衹屬私文書之一種，不能認為有價證券（最高法院49年台上字第1409號判例要旨參照）。查被告持偽造鄧清亮製作之取款憑條，向不知情之信義鄉農會承辦人員行使之，核其所為，係犯刑法第216條、第210條之行使偽造私文書罪。而被告在取款憑條之私文書上，盜蓋鄧清亮之印章，係偽造私文書之階段行為；偽造私文書後復持以行使，偽造私文書之低度行為，亦為行使偽造私文書之高度行為所吸收，均不另論罪。(二)爰審酌被告並無曾因犯罪經法院判處罪刑，有臺灣高等法院被告前案紀錄表1份在案足佐，而其明知配偶鄧清亮已經死亡，鄧清亮之信義鄉農會帳戶內之存款係屬遺產、且為全體繼承人共有，竟仍以鄧清亮之名義轉匯存款，非僅損害告訴人等之繼承權利，並且破壞信義鄉農會管理金融帳戶之正確性，行為實有不該，兼衡以被告轉匯之金額係為清償鄧清亮之生前債務及醫藥費（見南投偵卷第32至36頁），及其犯罪之動機、目的、手段、犯罪情節、犯後態度等一切情形，量處如主文所示之刑，並諭知易科罰金之折算標準。(三)另按，盜用他人真印章所蓋之印文，並非偽造印章之印文，不在刑法第219條所定必須沒收之列（最高法院48年台上字第113號判例要旨參照）。偽造之文書，既已交付於被害人收受，則該物非屬被告所有，除該偽造文書上偽造之印文、署押，應依刑法第219條予以沒收外，依同法第38條第3項之規定，即不得再就該文書諭知沒收（最高法院89年度台上字第3757號判決要旨參照）。查鄧清亮之上開信義鄉農會帳戶開戶印章係由被告保管，被告盜蓋印章之印文「鄧清亮」即非偽造，無從依刑法第219條規定諭知沒收。至於上開取款憑條，雖屬被告行使偽造私文書犯罪所用之物，但經被告持以行使，業經信義鄉農會承辦人員收執，已非被告所有，亦非違禁物，爰不予以宣告沒收。此外，被告以行使偽造私文書方式轉匯鄧清亮之信義鄉農會帳戶內之存款153萬元，為其犯罪所得（產自行使偽造私文書犯罪之所得，即實現犯罪所獲得之直接財產利益），固應依法宣告沒收，於全部或一部不能沒收時，追徵其價額，惟因被告主張扣抵「非屬繼承財產之鄧淯任薪資7萬5,586元；清償鄧清亮所遺合會債務35萬2,000元、所得稅債務1萬7,104元、信用卡消費債務2萬4,865元、對鄧清浪之70萬元借款債務、農會借款債務42萬4,931元，以及辦理繼承登記之代書費用5萬元」，合計164萬4,486元，業經臺灣臺中地方法院105年度家訴字第21號民事判決認屬有據，並且詳為說明理由（見南投偵卷第35頁），堪認被告並無保有犯罪所得，倘再就此宣告沒收或追徵，實有過苛之虞、且欠缺刑法上之重要性，自無必要宣告沒收或追徵。據上論斷，應依刑事訴訟法第299條第1項前段，刑法第216條、第210條、第41條第1項前段，判決如主文。本案經檢察官洪紹文提起公訴，檢察官陳俊宏到庭執行職務。中華民國108年5月30日刑事第二庭審判長法官黃益茂法官張雅涵法官張國隆以上正本與原本無異。如不服本判決應於收受送達後10日內向本院提出上訴書狀，並應敘述具體理由；其未敘述上訴理由者，應於上訴期間屆滿後20日內向本院補提理由書（均須按他造當事人之人數附繕本）「切勿逕送上級法院」。告訴人或被害人如對於本判決不服者，應具備理由請求檢察官上訴，其上訴期間之計算係以檢察官收受判決正本之日期為準。書記官張馨方中華民國108年5月30日附錄本案論罪科刑法條：中華民國刑法第210條偽造、變造私文書，足以生損害於公眾或他人者，處5年以下有有期徒刑。中華民國刑法第216條行使第210條至第215條之文書者，依偽造、變造文書或登載不實事項或使登載不實事項之規定處斷。\n"
          ]
        }
      ],
      "source": [
        "for fact in test_facts[:3]:\n",
        "  print(fact)"
      ]
    },
    {
      "cell_type": "code",
      "execution_count": null,
      "metadata": {
        "colab": {
          "base_uri": "https://localhost:8080/"
        },
        "id": "S0zHh6X1gIMZ",
        "outputId": "96c70a20-797c-41e4-ec14-3819b7430525"
      },
      "outputs": [
        {
          "name": "stdout",
          "output_type": "stream",
          "text": [
            "['徐鴻光和穆立明因需要借款，共同偽造「志朗交通有限公司」和「陳健志」的印章，以及「臺北市計程車客運駕駛人自備車輛參與經營契約書」，向宏帝當鋪借款10萬元。', '徐鴻光和穆立明偽造的契約書導致王傑生誤信車輛為徐鴻光所有，而提供借款。', '徐鴻光和穆立明被依行使偽造私文書和詐欺取財罪起訴。']\n",
            "['1. 劉木卿主動與祭祀公業蕭子玉之管理人蕭賜福、蕭耀西之後代子孫聯絡處理該祭祀公業之相關事宜，經洽商結果，於蕭慶堂、蕭慶珍、蕭如壎、蕭慶三等人不需支費下，劉木卿代為申辦，事成後，由劉木卿獲得該祭祀公業所有土地價值20％之報酬。', '2. 劉木卿、蕭慶堂、蕭慶珍、蕭慶三與蕭如壎共同基於意圖為自已不法所有及行使業務上登載不實文書、使公務員登載不實之犯意聯絡，接續為下列行為：由劉木卿於民國98年8月3日前數日內某時，在彰化縣員林鎮○○路○段172之1號住處，於業務上登載祭祀公業蕭子玉「3、淵源來歷：由蕭賜福積蓄購買本公業所有坐落彰化縣田中鎮○○○段158、159地號等二筆之土地以祭田收益，作為每年清明節祭祀祖先之資，並期望子孫『蕭子』被珍惜如玉，故以『祭祀公業蕭子玉』命名」等不實沿革，及不實之「派下現員：蕭慶三、蕭慶堂、蕭慶珍、蕭如壎」名冊、不實之派下全員系統表、推舉書後，連同該祭祀公業之財產清冊、土地登記第一類謄本，書寫以蕭慶堂為申報人之祭祀公業派下全員證明書申請書，於98年8月4日由劉木卿持向彰化縣田中鎮公所申請該祭祀公業派下全員證明書而行使，使不知情之田中鎮公所民政課承辦人員誤認為所申報關於該祭祀公業之「享祀人」、「設立人」與祭祀公業財產等要件皆具備，及該祭祀公業之派下員僅有蕭慶堂、蕭慶珍、蕭慶三與蕭如壎，而將上開不實事項登載於職務上所掌之公文書，經田中鎮公所依法公告徵求異議，俟公告期滿無人異議後，劉木卿、蕭慶堂、蕭慶珍、蕭慶三與蕭如壎復基於意圖為自己不法利益之犯意聯絡，由劉木卿以該祭祀公業派下員證明申請案已公告期滿無人異議，於98年10月7日在其前揭住處製作祭祀公業蕭子玉申請書，表明蕭慶堂、蕭慶珍、蕭慶三與蕭如壎為該祭祀公業僅存之派下員，於98年10月8日以蕭慶堂名義向田中鎮公所申請核發派下員證明書，致不知情之田中鎮公所民政課承辦人員於98年10月12日核發祭祀公業派下全員證明書、祭祀公業蕭子玉派下全員系統表、派下現員名冊與不動產清冊給蕭慶堂，使蕭慶三、蕭慶堂、蕭慶珍、蕭如壎取得祭祀公業蕭子玉派下員資格之利益。']\n",
            "['張彩系未經共同繼承人鄧盈珍、鄧盈汝之同意，竟基於行使偽造私文書之犯意，於96年4月9日某時許，持鄧清亮開設之信義鄉農會帳號：00000000000000號帳戶存簿及開戶印章，前往位於南投縣○○鄉○○街00號之信義鄉農會填寫取款憑條、並盜蓋鄧清亮之開戶印章後，再持向不知情之該農會承辦人員行使之，將鄧清亮上開帳戶內之存款153萬元轉入張彩系在該農會開設之帳號：00000000000000號帳戶，足生損害於鄧盈珍、鄧盈汝之繼承權利及信義鄉農會管理金融帳戶之正確性', '被告未經共同繼承人鄧盈珍、鄧盈汝之同意，擅自轉匯上開款項之事實，復據被告於偵訊時自承在案（見南投他卷第11頁），且經鄧盈珍、鄧盈汝證述明確（見本院卷第241、267頁），則此部分之事實，亦可認定', '以未經被繼承人之全體繼承人同意，即偽以被繼承人名義製作取款憑條，提領被繼承人帳戶內之存款，其行為自有足以生損害於其餘繼承人之虞，至於其所提領之款項是否非被繼承人之遺產及提領之用途為何，均與其行為是否與刑法第210條、第216條行使偽造私文書罪之犯罪構成要件該當，並不生影響（最高法院106年度台上字第1165號判決意旨參照）']\n"
          ]
        }
      ],
      "source": [
        "for sentence in summaries:\n",
        "  print(sentence)"
      ]
    },
    {
      "cell_type": "code",
      "execution_count": null,
      "metadata": {
        "colab": {
          "base_uri": "https://localhost:8080/"
        },
        "id": "X_plDkkZhKfM",
        "outputId": "caa52015-e67f-4529-b5d3-25455555342f"
      },
      "outputs": [
        {
          "name": "stdout",
          "output_type": "stream",
          "text": [
            "0: 6857\n",
            "1: 10091\n",
            "2: 4996\n",
            "3: 8278\n",
            "4: 11349\n",
            "5: 5765\n",
            "6: 16309\n",
            "7: 13506\n",
            "8: 2565\n",
            "9: 4523\n"
          ]
        }
      ],
      "source": [
        "for i, fact in enumerate(test_facts[:10]):\n",
        "  print(f'{i}: {len(fact)}')"
      ]
    },
    {
      "cell_type": "code",
      "execution_count": null,
      "metadata": {
        "colab": {
          "background_save": true
        },
        "id": "TvtT2t-alRc6"
      },
      "outputs": [],
      "source": [
        "summaries_sentences = generate_summary(query, test_facts_sentences)"
      ]
    },
    {
      "cell_type": "code",
      "execution_count": null,
      "metadata": {
        "colab": {
          "background_save": true
        },
        "id": "M_BqB5CZjkAE"
      },
      "outputs": [],
      "source": [
        "with open('/content/drive/MyDrive/senior/LAB/LawCaseRetreiver/sentence_predict/summary/summaries_sentences.json', 'w', encoding='utf-8') as file:\n",
        "    file.write(json.dumps(summaries_sentences, ensure_ascii=False))"
      ]
    },
    {
      "cell_type": "code",
      "execution_count": null,
      "metadata": {
        "id": "syGXEVh_kyaf"
      },
      "outputs": [],
      "source": [
        "with open('/content/drive/MyDrive/senior/LAB/LawCaseRetreiver/sentence_predict/summary/summaries_sentences.json', 'r', encoding='utf-8') as file:\n",
        "    json_data = file.read()\n",
        "    loaded_summaries = json.loads(json_data)"
      ]
    },
    {
      "cell_type": "code",
      "source": [
        "loaded_summaries[:5]"
      ],
      "metadata": {
        "colab": {
          "base_uri": "https://localhost:8080/"
        },
        "id": "4-IoJu16poxP",
        "outputId": "576d43fe-6dcf-4477-cb84-ff5228433cdf"
      },
      "execution_count": null,
      "outputs": [
        {
          "output_type": "execute_result",
          "data": {
            "text/plain": [
              "[['因徐鴻光需款使用，知悉穆立明有借款管道，為求順利借款，2人竟共同意圖為自己不法所有，基於行使偽造私文書及詐欺取財之犯意聯絡，偽造「陳健志」代表志朗公司與徐鴻光簽署的「臺北市計程車客運駕駛人自備車輛參與經營契約書」，並持上開偽刻印章，偽造「志朗交通有限公司」印文4枚、「陳健志」印文6枚於本案參與經營契約書上，再於92年3月6日交徐鴻光於立約人乙方欄簽名。',\n",
              "  '嗣因徐鴻光僅清償每期7千元之分期款共11期計7萬7千元，未全額清償即無力負擔債務，王傑生始查知上開車輛非徐鴻光所有，而悉上情。',\n",
              "  '二、案經王傑生訴由臺灣士林地方法院檢察署檢察官偵查起訴。'],\n",
              " ['1. 劉木卿主動與祭祀公業蕭子玉之管理人蕭賜福、蕭耀西之後代子孫聯絡處理該祭祀公業之相關事宜，經洽商結果，於蕭慶堂、蕭慶珍、蕭如壎、蕭慶三等人不需支費下，劉木卿代為申辦，事成後，由劉木卿獲得該祭祀公業所有土地價值20％之報酬。',\n",
              "  '2. 劉木卿、蕭慶堂、蕭慶珍、蕭慶三與蕭如壎共同基於意圖為自已不法所有及行使業務上登載不實文書、使公務員登載不實之犯意聯絡，接續為下列行為：由劉木卿於民國98年8月3日前數日內某時，在彰化縣員林鎮○○路○段172之1號住處，於業務上登載祭祀公業蕭子玉「3、淵源來歷：由蕭賜福積蓄購買本公業所有坐落彰化縣田中鎮○○○段158、159地號等二筆之土地以祭田收益，作為每年清明節祭祀祖先之資，並期望子孫『蕭子』被珍惜如玉，故以『祭祀公業蕭子玉』命名」等不實沿革，及不實之「派下現員：蕭慶三、蕭慶堂、蕭慶珍、蕭如壎」名冊、不實之派下全員系統表、推舉書後，連同該祭祀公業之財產清冊、土地登記第一類謄本，書寫以蕭慶堂為申報人之祭祀公業派下全員證明書申請書，於98年8月4日由劉木卿持向彰化縣田中鎮公所申請該祭祀公業派下全員證明書而行使，使不知情之田中鎮公所民政課承辦人員誤認為所申報關於該祭祀公業之「享祀人」、「設立人」與祭祀公業財產等要件皆具備，及該祭祀公業之派下員僅有蕭慶堂、蕭慶珍、蕭慶三與蕭如壎，而將上開不實事項登載於職務上所掌之公文書，經田中鎮公所依法公告徵求異議，俟公告期滿無人異議後，劉木卿、蕭慶堂、蕭慶珍、蕭慶三與蕭如壎復基於意圖為自己不法利益之犯意聯絡，由劉木卿以該祭祀公業派下員證明申請案已公告期滿無人異議，於98年10月7日在其前揭住處製作祭祀公業蕭子玉申請書，表明蕭慶堂、蕭慶珍、蕭慶三與蕭如壎為該祭祀公業僅存之派下員，於98年10月8日以蕭慶堂名義向田中鎮公所申請核發派下員證明書，致不知情之田中鎮公所民政課承辦人員於98年10月12日核發祭祀公業派下全員證明書、祭祀公業蕭子玉派下全員系統表、派下現員名冊與不動產清冊給蕭慶堂，使蕭慶三、蕭慶堂、蕭慶珍、蕭如壎取得祭祀公業蕭子玉派下員資格之利益。'],\n",
              " ['張彩系未經共同繼承人鄧盈珍、鄧盈汝之同意，竟基於行使偽造私文書之犯意，於96年4月9日某時許，持鄧清亮開設之信義鄉農會帳號：00000000000000號帳戶存簿及開戶印章，前往位於南投縣○○鄉○○街00號之信義鄉農會填寫取款憑條、並盜蓋鄧清亮之開戶印章後，再持向不知情之該農會承辦人員行使之，將鄧清亮上開帳戶內之存款153萬元轉入張彩系在該農會開設之帳號：00000000000000號帳戶，足生損害於鄧盈珍、鄧盈汝之繼承權利及信義鄉農會管理金融帳戶之正確性',\n",
              "  '被告未經共同繼承人鄧盈珍、鄧盈汝之同意，擅自轉匯上開款項之事實，復據被告於偵訊時自承在案（見南投他卷第11頁），且經鄧盈珍、鄧盈汝證述明確（見本院卷第241、267頁），則此部分之事實，亦可認定',\n",
              "  '以未經被繼承人之全體繼承人同意，即偽以被繼承人名義製作取款憑條，提領被繼承人帳戶內之存款，其行為自有足以生損害於其餘繼承人之虞，至於其所提領之款項是否非被繼承人之遺產及提領之用途為何，均與其行為是否與刑法第210條、第216條行使偽造私文書罪之犯罪構成要件該當，並不生影響（最高法院106年度台上字第1165號判決意旨參照）'],\n",
              " ['1. 劉文海於95年間竊取電纜線，經屏東地院判處有期徒刑8月，96年出獄後又竊盜大眾運輸工具柴油及車牌，共11次，由屏東地院判處有期徒刑2年。',\n",
              "  '2. 劉文海於98年9月在新竹竊取柴油，判處有期徒刑6月，又再犯3次竊取柴油，經屏東地院判處應執行有期徒刑1年4月。',\n",
              "  '3. 劉文海明知他人車牌為9M-7735號，卻偽造00-0000號車牌懸掛於自己的自小貨車，並使用它行駛道路，損害公路監理機關管理及真正車主。'],\n",
              " ['鄭孟育為垣田景觀開發設計有限公司之負責人，因公司承攬103年度高雄物產館蓮潭旗艦店之環境清潔維護工作，而使臨時清潔人員劉曾玉暇免於繳納勞保及健保費用。',\n",
              "  '鄭孟育在未經告訴人孫慈鈺之授權或同意下，刻印孫慈鈺連續章2枚，並將其中一枚交給劉曾玉暇使用，另一枚則供自己使用。',\n",
              "  '鄭孟育在附表二至附表十三的「每月清潔維護人員簽到表」文件上，以及附表二之1至附表十三之1的「每日環境清潔檢查表」文件的檢查人員簽名欄上，偽造孫慈鈺的印章，以表示由孫慈鈺負責環境清潔及檢查工作。']]"
            ]
          },
          "metadata": {},
          "execution_count": 6
        }
      ]
    },
    {
      "cell_type": "code",
      "source": [
        "loaded_summaries_len = []\n",
        "sentences_len = []\n",
        "for summary in loaded_summaries:\n",
        "  summary_len = 0\n",
        "  for sentence in summary:\n",
        "    summary_len = summary_len + len(sentence)\n",
        "    sentences_len.append(len(sentence))\n",
        "  loaded_summaries_len.append(summary_len)\n"
      ],
      "metadata": {
        "id": "BnsOuRa9y2N0"
      },
      "execution_count": null,
      "outputs": []
    },
    {
      "cell_type": "code",
      "source": [
        "print(\"===loaded_summaries_len===\")\n",
        "print(\"Length: \", len(loaded_summaries_len))\n",
        "print(\"Max Length: \", max(loaded_summaries_len))\n",
        "print(\"Min Length: \", min(loaded_summaries_len))\n",
        "print(\"Avg. Length: \", sum(loaded_summaries_len) / len(loaded_summaries_len))\n",
        "\n",
        "print(\"===sentences_len===\")\n",
        "print(\"Length: \", len(sentences_len))\n",
        "print(\"Max Length: \", max(sentences_len))\n",
        "print(\"Min Length: \", min(sentences_len))\n",
        "print(\"Avg. Length: \", sum(sentences_len) / len(sentences_len))"
      ],
      "metadata": {
        "colab": {
          "base_uri": "https://localhost:8080/"
        },
        "id": "9FapXJuOy6mX",
        "outputId": "e23b70d9-b030-45f5-9a96-d9a0d4b247b5"
      },
      "execution_count": null,
      "outputs": [
        {
          "output_type": "stream",
          "name": "stdout",
          "text": [
            "===loaded_summaries_len===\n",
            "Length:  100\n",
            "Max Length:  1219\n",
            "Min Length:  97\n",
            "Avg. Length:  394.01\n",
            "===sentences_len===\n",
            "Length:  356\n",
            "Max Length:  755\n",
            "Min Length:  0\n",
            "Avg. Length:  110.67696629213484\n"
          ]
        }
      ]
    },
    {
      "cell_type": "code",
      "source": [
        "train_facts_sentences[0][:3]"
      ],
      "metadata": {
        "colab": {
          "base_uri": "https://localhost:8080/"
        },
        "id": "kI6l1ZyH02dB",
        "outputId": "957e1ab4-75b6-48b9-b14b-03efe19f3693"
      },
      "execution_count": null,
      "outputs": [
        {
          "output_type": "execute_result",
          "data": {
            "text/plain": [
              "['一、陳泰龍明知其與泰國籍女子陳玉婉（泰國名字為JARUWANWONGPRATOOM，陳玉婉涉嫌本案偽造文書部分，另經臺灣臺南地方法院檢察署檢察官通緝中）間並無結婚之真意，然因詹巧薇、張晉源等人欲找臺灣男子前往泰國與泰國女子辦理假結婚，林清水負責介紹臺灣男子予詹巧薇、張晉源等人以賺取新臺幣（下同）1萬元之仲介費，適陳泰龍依林清水於報紙上刊登之徵人廣告應徵時，由林清水告知泰國女子欲以假結婚之方式申請來臺居留工作，其若擔任假結婚之人頭老公，除不用負擔前往泰國之食宿、機票費用外，尚可獲取5、6萬元之報酬，迨陳泰龍應允同意後，林清水將其轉介紹予詹巧薇、張晉源等人，陳泰龍遂與林清水、詹巧薇、張晉源等人共同基於行使使公務員登載不實公文書之概括犯意聯絡，先由陳泰龍依指示於民國93年4月3日前往泰國，並於同年月7日與陳玉婉在泰國曼谷市法拉坎農區註冊辦事處登記結婚，取得上開註冊辦事處核發之結婚登記書、結婚證書等文件後，陳泰龍即行返臺，並於同年5月19日持經我國駐泰國臺北經濟文化辦事處認證之上開結婚登記書、結婚證書等資料，至臺南縣永康市（改制前稱謂，以下沿用舊制稱謂）戶政事務所填寫結婚登記申請書，申請辦理其與陳玉婉之結婚登記，因此使上開戶政事務所僅有形式審查權之承辦公務員陷於錯誤，於形式上審核後，將陳泰龍與陳玉婉於93年4月7日結婚之不實事項，登載於其職務上所掌屬公文書之戶籍登記資料內，並據以核發戶籍謄本，而足以生損害於戶政機關對於戶政管理及戶籍登記資料維護之正確性',\n",
              " '迨陳玉婉來臺後，為取得居留身分，再由陳泰龍、陳玉婉承前概括之犯意聯絡，於同年6月14日及94年5月5日，均持前開登載不實之戶籍謄本等資料，先後向臺南縣政府警察局外事課申請核發陳玉婉之外僑居留證及申請居留證延期而連續行使之（業經檢察官當庭補充），經承辦人員實質審查結果，均未發覺陳泰龍與陳玉婉假結婚之實情，而發給陳玉婉居留證或核准延期，各足以生損害於主管機關對外僑居留管理之正確性',\n",
              " '二、案經臺南市警察局（現改制為臺南市政府警察局，以下沿用舊制稱謂）第一分局報告臺灣臺南地方法院檢察署檢察官偵查起訴']"
            ]
          },
          "metadata": {},
          "execution_count": 20
        }
      ]
    },
    {
      "cell_type": "code",
      "source": [
        "train_summaries_sentences = generate_summary(query, train_facts_sentences[:100])"
      ],
      "metadata": {
        "id": "JjlvTw4h0tBx"
      },
      "execution_count": null,
      "outputs": []
    },
    {
      "cell_type": "code",
      "source": [
        "with open('/content/drive/MyDrive/train_summaries_sentences_100.json', 'w', encoding='utf-8') as file:\n",
        "    file.write(json.dumps(train_summaries_sentences, ensure_ascii=False))"
      ],
      "metadata": {
        "id": "ez26zntm0ymL"
      },
      "execution_count": null,
      "outputs": []
    },
    {
      "cell_type": "code",
      "source": [
        "train_facts_sentences[0][:5]"
      ],
      "metadata": {
        "colab": {
          "base_uri": "https://localhost:8080/"
        },
        "id": "1adHQjYiGhSw",
        "outputId": "71a8b11f-5a7d-4b7c-b4cb-cc11f442b632"
      },
      "execution_count": null,
      "outputs": [
        {
          "output_type": "execute_result",
          "data": {
            "text/plain": [
              "['一、陳泰龍明知其與泰國籍女子陳玉婉（泰國名字為JARUWANWONGPRATOOM，陳玉婉涉嫌本案偽造文書部分，另經臺灣臺南地方法院檢察署檢察官通緝中）間並無結婚之真意，然因詹巧薇、張晉源等人欲找臺灣男子前往泰國與泰國女子辦理假結婚，林清水負責介紹臺灣男子予詹巧薇、張晉源等人以賺取新臺幣（下同）1萬元之仲介費，適陳泰龍依林清水於報紙上刊登之徵人廣告應徵時，由林清水告知泰國女子欲以假結婚之方式申請來臺居留工作，其若擔任假結婚之人頭老公，除不用負擔前往泰國之食宿、機票費用外，尚可獲取5、6萬元之報酬，迨陳泰龍應允同意後，林清水將其轉介紹予詹巧薇、張晉源等人，陳泰龍遂與林清水、詹巧薇、張晉源等人共同基於行使使公務員登載不實公文書之概括犯意聯絡，先由陳泰龍依指示於民國93年4月3日前往泰國，並於同年月7日與陳玉婉在泰國曼谷市法拉坎農區註冊辦事處登記結婚，取得上開註冊辦事處核發之結婚登記書、結婚證書等文件後，陳泰龍即行返臺，並於同年5月19日持經我國駐泰國臺北經濟文化辦事處認證之上開結婚登記書、結婚證書等資料，至臺南縣永康市（改制前稱謂，以下沿用舊制稱謂）戶政事務所填寫結婚登記申請書，申請辦理其與陳玉婉之結婚登記，因此使上開戶政事務所僅有形式審查權之承辦公務員陷於錯誤，於形式上審核後，將陳泰龍與陳玉婉於93年4月7日結婚之不實事項，登載於其職務上所掌屬公文書之戶籍登記資料內，並據以核發戶籍謄本，而足以生損害於戶政機關對於戶政管理及戶籍登記資料維護之正確性',\n",
              " '迨陳玉婉來臺後，為取得居留身分，再由陳泰龍、陳玉婉承前概括之犯意聯絡，於同年6月14日及94年5月5日，均持前開登載不實之戶籍謄本等資料，先後向臺南縣政府警察局外事課申請核發陳玉婉之外僑居留證及申請居留證延期而連續行使之（業經檢察官當庭補充），經承辦人員實質審查結果，均未發覺陳泰龍與陳玉婉假結婚之實情，而發給陳玉婉居留證或核准延期，各足以生損害於主管機關對外僑居留管理之正確性',\n",
              " '二、案經臺南市警察局（現改制為臺南市政府警察局，以下沿用舊制稱謂）第一分局報告臺灣臺南地方法院檢察署檢察官偵查起訴',\n",
              " '理由甲、程序方面：一、本件以下所引用具傳聞證據性質之供述證據，因本件被告陳泰龍、檢察官等人於本院準備程序進行時，均未爭執前開陳述之證據能力，且迄至本案言詞辯論終結前亦均未聲明異議，應視為已同意援引作為證據，又本院審酌前開證據作成時之情況及證據取得過程等節，並無非出於任意性、不正取供或其他違法不當情事，且客觀上亦無顯不可信之情況，堪認為適當，是依刑事訴訟法第159條之5規定，均有證據能力',\n",
              " '二、卷附之被告及陳玉婉入出國日期紀錄各1份等書證，均非屬供述證據，皆無傳聞法則之適用，復均無違反法定程序取得之情形，依刑事訴訟法第158條之4規定之反面解釋，均應有證據能力']"
            ]
          },
          "metadata": {},
          "execution_count": 19
        }
      ]
    },
    {
      "cell_type": "code",
      "source": [
        "train_summaries_sentences[:3]"
      ],
      "metadata": {
        "colab": {
          "base_uri": "https://localhost:8080/"
        },
        "id": "7mknaxb_GZeJ",
        "outputId": "8f507595-4d45-45ea-90c3-d093186c20fb"
      },
      "execution_count": null,
      "outputs": [
        {
          "output_type": "execute_result",
          "data": {
            "text/plain": [
              "[['被告明知與泰國籍女子陳玉婉（JARUWANWONGPRATOOM）間並無結婚之真意，仍與林清水、詹巧薇、張晉源等人共同基於行使使公務員登載不實公文書之概括犯意聯絡，辦理假結婚手續。',\n",
              "  '被告與陳玉婉在泰國辦理結婚手續後，返回臺灣辦理結婚登記，使承辦公務員陷於錯誤，登載不實事項於戶籍登記資料內，核發戶籍謄本。',\n",
              "  '陳玉婉來臺後，為取得居留身分，被告與她共同向臺南縣政府警察局外事課申請核發居留證及延期，承辦人員實質審查結果未發覺假結婚，而核發居留證或核准延期。'],\n",
              " ['甲○○於民國100年11月1日上午7時許，在臺南市北安橋路旁拾得可發射子彈具有殺傷力之槍枝（槍枝管制編號：0000000000號）後持有之，並於100年11月6日主動向員警坦承犯行而自首接受裁判',\n",
              "  '甲○○於本院審理該案（100年度訴字第1635號）時編造其母楊陳敏於100年11月1日經急診住院接受治療，其係為照顧住院之母親楊陳敏才遲延報繳槍枝之情節，辯稱其無持有可發射子彈具有殺傷力槍枝之犯意',\n",
              "  '甲○○為取信於法院乃基於行使偽造私文書之犯意，於100年11月6日至101年1月12日間某日在不詳地點，偽刻奇美醫療財團法人奇美醫院（下稱奇美醫院）、院長邱仲慶及醫師甲○○之印章各1顆，再偽造如附表編號四所示診斷證明書（下稱系爭診斷證明書）提出於本院（收件日期為101年1月12日），表示系爭診斷證明書記載之內容業經認證屬實之意，足以生損害於奇美醫院、邱仲慶、甲○○及國家司法權行使之正確性'],\n",
              " ['及理由一、犯罪事實：白秋霖與泰國籍女子WANGMONTRIDOKMAI（中文姓名白雪蘭，另為職權不起訴處分）均明知並無結婚之真意，為使WANGMONTRIDOKMAI得以結婚方式居留在臺灣地區工作，共同基於使公務員登載不實文書之概括犯意聯絡，於民國93年10月29日，至泰國曼谷，辦理假結婚手續，並在泰國取得不實之結婚證明書等相關資料，由白秋霖於同年11月18日，前往臺中縣沙鹿鎮戶政事務所，持上開結婚證件，申請辦理結婚戶籍登記，使該戶政事務所不知情之承辦人員將白秋霖與WANGMONTRIDOKMAI間虛偽辦理結婚之不實事項，登載於職務上掌管之戶籍登記資料之電子資訊檔案紀錄、戶籍謄本等公文書，足以生損害於戶政機關對於戶籍登記事項管理之正確性',\n",
              "  '白秋霖明知上開婚姻係虛偽婚姻，於94年3月30日具狀向本院訴請離婚，經本院以94年度家訴字第92號判決離婚後，於94年7月7日，前往臺中縣沙鹿鎮戶政事務所，辦理離婚登記，使該戶政事務所不知情之承辦人員將白秋霖與WANGMONTRIDOKMAI間虛偽辦理離婚之不實事項，登載於職務上掌管之戶籍登記資料之電子資訊檔案紀錄、戶籍謄本等公文書，足以生損害於戶政機關對於戶籍登記事項管理之正確性',\n",
              "  '嗣於99年4月6日，因WANGMONTRIDOKMAI逾期居留，為警查獲']]"
            ]
          },
          "metadata": {},
          "execution_count": 17
        }
      ]
    },
    {
      "cell_type": "code",
      "source": [
        "with open('/content/drive/MyDrive/train_summaries_sentences_100.json', 'r', encoding='utf-8') as file:\n",
        "    json_data = file.read()\n",
        "    loaded_summaries = json.loads(json_data)"
      ],
      "metadata": {
        "id": "SkUPG4KjGQCI"
      },
      "execution_count": null,
      "outputs": []
    },
    {
      "cell_type": "code",
      "source": [
        "loaded_summaries[:3]"
      ],
      "metadata": {
        "colab": {
          "base_uri": "https://localhost:8080/"
        },
        "id": "T2ojoelbH-u1",
        "outputId": "c4cbebec-d776-405e-c860-681cffcb3749"
      },
      "execution_count": null,
      "outputs": [
        {
          "output_type": "execute_result",
          "data": {
            "text/plain": [
              "[['被告明知與泰國籍女子陳玉婉（JARUWANWONGPRATOOM）間並無結婚之真意，仍與林清水、詹巧薇、張晉源等人共同基於行使使公務員登載不實公文書之概括犯意聯絡，辦理假結婚手續。',\n",
              "  '被告與陳玉婉在泰國辦理結婚手續後，返回臺灣辦理結婚登記，使承辦公務員陷於錯誤，登載不實事項於戶籍登記資料內，核發戶籍謄本。',\n",
              "  '陳玉婉來臺後，為取得居留身分，被告與她共同向臺南縣政府警察局外事課申請核發居留證及延期，承辦人員實質審查結果未發覺假結婚，而核發居留證或核准延期。'],\n",
              " ['甲○○於民國100年11月1日上午7時許，在臺南市北安橋路旁拾得可發射子彈具有殺傷力之槍枝（槍枝管制編號：0000000000號）後持有之，並於100年11月6日主動向員警坦承犯行而自首接受裁判',\n",
              "  '甲○○於本院審理該案（100年度訴字第1635號）時編造其母楊陳敏於100年11月1日經急診住院接受治療，其係為照顧住院之母親楊陳敏才遲延報繳槍枝之情節，辯稱其無持有可發射子彈具有殺傷力槍枝之犯意',\n",
              "  '甲○○為取信於法院乃基於行使偽造私文書之犯意，於100年11月6日至101年1月12日間某日在不詳地點，偽刻奇美醫療財團法人奇美醫院（下稱奇美醫院）、院長邱仲慶及醫師甲○○之印章各1顆，再偽造如附表編號四所示診斷證明書（下稱系爭診斷證明書）提出於本院（收件日期為101年1月12日），表示系爭診斷證明書記載之內容業經認證屬實之意，足以生損害於奇美醫院、邱仲慶、甲○○及國家司法權行使之正確性'],\n",
              " ['及理由一、犯罪事實：白秋霖與泰國籍女子WANGMONTRIDOKMAI（中文姓名白雪蘭，另為職權不起訴處分）均明知並無結婚之真意，為使WANGMONTRIDOKMAI得以結婚方式居留在臺灣地區工作，共同基於使公務員登載不實文書之概括犯意聯絡，於民國93年10月29日，至泰國曼谷，辦理假結婚手續，並在泰國取得不實之結婚證明書等相關資料，由白秋霖於同年11月18日，前往臺中縣沙鹿鎮戶政事務所，持上開結婚證件，申請辦理結婚戶籍登記，使該戶政事務所不知情之承辦人員將白秋霖與WANGMONTRIDOKMAI間虛偽辦理結婚之不實事項，登載於職務上掌管之戶籍登記資料之電子資訊檔案紀錄、戶籍謄本等公文書，足以生損害於戶政機關對於戶籍登記事項管理之正確性',\n",
              "  '白秋霖明知上開婚姻係虛偽婚姻，於94年3月30日具狀向本院訴請離婚，經本院以94年度家訴字第92號判決離婚後，於94年7月7日，前往臺中縣沙鹿鎮戶政事務所，辦理離婚登記，使該戶政事務所不知情之承辦人員將白秋霖與WANGMONTRIDOKMAI間虛偽辦理離婚之不實事項，登載於職務上掌管之戶籍登記資料之電子資訊檔案紀錄、戶籍謄本等公文書，足以生損害於戶政機關對於戶籍登記事項管理之正確性',\n",
              "  '嗣於99年4月6日，因WANGMONTRIDOKMAI逾期居留，為警查獲']]"
            ]
          },
          "metadata": {},
          "execution_count": 23
        }
      ]
    },
    {
      "cell_type": "code",
      "source": [
        "train_summaries_sentences_200 = generate_summary(query, train_facts_sentences[100:200])"
      ],
      "metadata": {
        "id": "VFQ6Y-v4IXXj"
      },
      "execution_count": null,
      "outputs": []
    },
    {
      "cell_type": "code",
      "source": [
        "with open('/content/drive/MyDrive/train_summaries_sentences_200.json', 'w', encoding='utf-8') as file:\n",
        "    file.write(json.dumps(train_summaries_sentences_200, ensure_ascii=False))"
      ],
      "metadata": {
        "id": "8gN4NujSIp75"
      },
      "execution_count": null,
      "outputs": []
    }
  ],
  "metadata": {
    "colab": {
      "provenance": [],
      "include_colab_link": true
    },
    "kernelspec": {
      "display_name": "Python 3",
      "name": "python3"
    },
    "language_info": {
      "name": "python"
    }
  },
  "nbformat": 4,
  "nbformat_minor": 0
}