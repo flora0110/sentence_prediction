{
  "nbformat": 4,
  "nbformat_minor": 0,
  "metadata": {
    "colab": {
      "provenance": [],
      "include_colab_link": true
    },
    "kernelspec": {
      "name": "python3",
      "display_name": "Python 3"
    },
    "language_info": {
      "name": "python"
    }
  },
  "cells": [
    {
      "cell_type": "markdown",
      "metadata": {
        "id": "view-in-github",
        "colab_type": "text"
      },
      "source": [
        "<a href=\"https://colab.research.google.com/github/flora0110/sentence_prediction/blob/main/NLPLAB_LLM_Endpoint_Taide_ipynb_%E7%9A%84%E5%89%AF%E6%9C%AC.ipynb\" target=\"_parent\"><img src=\"https://colab.research.google.com/assets/colab-badge.svg\" alt=\"Open In Colab\"/></a>"
      ]
    },
    {
      "cell_type": "code",
      "source": [
        "import requests\n",
        "import json"
      ],
      "metadata": {
        "id": "kgaIVLCQ4VTy"
      },
      "execution_count": 1,
      "outputs": []
    },
    {
      "cell_type": "markdown",
      "source": [
        "# data explore"
      ],
      "metadata": {
        "id": "goa4dtD04b5G"
      }
    },
    {
      "cell_type": "code",
      "source": [
        "folder_path = \"/content/drive/MyDrive/senior/LAB/LawCaseRetreiver/sentence_predict/divorce/\""
      ],
      "metadata": {
        "id": "iydB12xr4bXe"
      },
      "execution_count": 2,
      "outputs": []
    },
    {
      "cell_type": "code",
      "source": [
        "from google.colab import drive\n",
        "drive.mount('/content/drive')"
      ],
      "metadata": {
        "colab": {
          "base_uri": "https://localhost:8080/"
        },
        "id": "oUvhQBUR4g_N",
        "outputId": "44559599-c48d-43cb-cacc-734434493148"
      },
      "execution_count": 3,
      "outputs": [
        {
          "output_type": "stream",
          "name": "stdout",
          "text": [
            "Mounted at /content/drive\n"
          ]
        }
      ]
    },
    {
      "cell_type": "code",
      "source": [
        "with open(folder_path+'factor_50_divorce.json', 'r', encoding='utf-8') as f:\n",
        "    forgery_factors = json.load(f)"
      ],
      "metadata": {
        "id": "3PWezkVH4tfS"
      },
      "execution_count": 4,
      "outputs": []
    },
    {
      "cell_type": "code",
      "source": [
        "forgery_factors"
      ],
      "metadata": {
        "colab": {
          "base_uri": "https://localhost:8080/"
        },
        "id": "QSm6BvKa5YE7",
        "outputId": "1897726e-2f34-4efe-8600-d2420ef5008e"
      },
      "execution_count": 6,
      "outputs": [
        {
          "output_type": "execute_result",
          "data": {
            "text/plain": [
              "['被告無不能同居的正當理由',\n",
              " '夫妻之一為臺灣地區之人民一方為大陸地區之人民',\n",
              " '兩造已自行離婚',\n",
              " '被告干預原告工作',\n",
              " '沒有共同財產和債務',\n",
              " '生活習慣與思想觀念的差異',\n",
              " '被告惡意遺棄原告在繼續狀態中的行為',\n",
              " '財務負擔',\n",
              " '被告為精神障礙輔助宣告人及指定輔助人',\n",
              " '被告遺棄原告且未支付子女扶養費用及家庭生活費用',\n",
              " '刑事通姦罪',\n",
              " '被告無正當理由不履行同居義務',\n",
              " '難以維持婚姻的重大事由',\n",
              " '被告多次口頭要求離婚及不尊重原告親人',\n",
              " '被告長期離家不歸',\n",
              " '金錢爭議',\n",
              " '被告因故意犯罪被判刑',\n",
              " '被告經常辱罵原告及其母親有精神虐待行為',\n",
              " '被告毆打原告母親',\n",
              " '被告拒絕履行同居義務及家庭事務處理',\n",
              " '被告拒絕來臺團聚且未履行同居義務',\n",
              " '被告離家出走',\n",
              " '被告遺棄原告',\n",
              " '被告下落不明',\n",
              " '未負擔家計',\n",
              " '長期分居婚姻已名存實亡',\n",
              " '原告欠缺離婚的形成權',\n",
              " '兩造長期分居無法互相扶持',\n",
              " '兩造已無夫妻情感存在',\n",
              " '兩造婚姻長期不和',\n",
              " '兩造婚姻已生有難以繼續維持之重大事由',\n",
              " '被告不體諒原告辛勞',\n",
              " '未共同生育子女',\n",
              " '兩造婚姻已無法繼續維持',\n",
              " '夫妻關係疏離',\n",
              " '婚姻破裂',\n",
              " '法院認定被告有歸責事由',\n",
              " '被告未到庭辯論',\n",
              " '被告不關注子女教育費用',\n",
              " '不履行夫妻同居義務',\n",
              " '被告未負擔家計',\n",
              " '被告未盡為夫為父責任',\n",
              " '被告有暴力行為',\n",
              " '原告心理壓力',\n",
              " '被告不做家事',\n",
              " '被告未履行同居義務',\n",
              " '原告有不忠的指控',\n",
              " '被告被惡意遺棄',\n",
              " '夫妻間存在繼續狀態',\n",
              " '夫妻互負同居之義務']"
            ]
          },
          "metadata": {},
          "execution_count": 6
        }
      ]
    },
    {
      "cell_type": "code",
      "source": [
        "with open(folder_path+'divorce_clean_tag_2000_no-1.json', 'r', encoding='utf-8') as f:\n",
        "    data = json.load(f)"
      ],
      "metadata": {
        "id": "EZLO_oRJ5XOS"
      },
      "execution_count": 5,
      "outputs": []
    },
    {
      "cell_type": "code",
      "source": [
        "judgements = []\n",
        "for item in data:\n",
        "  judgements.append(item.get('judgement'))"
      ],
      "metadata": {
        "id": "3aczscF26ZK_"
      },
      "execution_count": 7,
      "outputs": []
    },
    {
      "cell_type": "code",
      "source": [
        "forgery_factors_string = forgery_factors[0]\n",
        "for factor in forgery_factors[1:]:\n",
        "  forgery_factors_string = forgery_factors_string + \" 、 \"\n",
        "  forgery_factors_string = forgery_factors_string + factor"
      ],
      "metadata": {
        "id": "ekcNhxef64fI"
      },
      "execution_count": null,
      "outputs": []
    },
    {
      "cell_type": "code",
      "source": [
        "forgery_factors_string"
      ],
      "metadata": {
        "colab": {
          "base_uri": "https://localhost:8080/",
          "height": 143
        },
        "id": "68uklGAC66_H",
        "outputId": "5784917f-0ff8-44fe-e152-32d0c4a8a891"
      },
      "execution_count": null,
      "outputs": [
        {
          "output_type": "execute_result",
          "data": {
            "text/plain": [
              "'被告無不能同居的正當理由 、 夫妻之一為臺灣地區之人民一方為大陸地區之人民 、 兩造已自行離婚 、 被告干預原告工作 、 沒有共同財產和債務 、 生活習慣與思想觀念的差異 、 被告惡意遺棄原告在繼續狀態中的行為 、 財務負擔 、 被告為精神障礙輔助宣告人及指定輔助人 、 被告遺棄原告且未支付子女扶養費用及家庭生活費用 、 刑事通姦罪 、 被告無正當理由不履行同居義務 、 難以維持婚姻的重大事由 、 被告多次口頭要求離婚及不尊重原告親人 、 被告長期離家不歸 、 金錢爭議 、 被告因故意犯罪被判刑 、 被告經常辱罵原告及其母親有精神虐待行為 、 被告毆打原告母親 、 被告拒絕履行同居義務及家庭事務處理 、 被告拒絕來臺團聚且未履行同居義務 、 被告離家出走 、 被告遺棄原告 、 被告下落不明 、 未負擔家計 、 長期分居婚姻已名存實亡 、 原告欠缺離婚的形成權 、 兩造長期分居無法互相扶持 、 兩造已無夫妻情感存在 、 兩造婚姻長期不和 、 兩造婚姻已生有難以繼續維持之重大事由 、 被告不體諒原告辛勞 、 未共同生育子女 、 兩造婚姻已無法繼續維持 、 夫妻關係疏離 、 婚姻破裂 、 法院認定被告有歸責事由 、 被告未到庭辯論 、 被告不關注子女教育費用 、 不履行夫妻同居義務 、 被告未負擔家計 、 被告未盡為夫為父責任 、 被告有暴力行為 、 原告心理壓力 、 被告不做家事 、 被告未履行同居義務 、 原告有不忠的指控 、 被告被惡意遺棄 、 夫妻間存在繼續狀態 、 夫妻互負同居之義務'"
            ],
            "application/vnd.google.colaboratory.intrinsic+json": {
              "type": "string"
            }
          },
          "metadata": {},
          "execution_count": 11
        }
      ]
    },
    {
      "cell_type": "code",
      "source": [
        "forgery_factors_string_0_25 = forgery_factors[0]\n",
        "for factor in forgery_factors[1:25]:\n",
        "  forgery_factors_string_0_25 = forgery_factors_string_0_25 + \" 、 \"\n",
        "  forgery_factors_string_0_25 = forgery_factors_string_0_25 + factor"
      ],
      "metadata": {
        "id": "u9YNW33N9KB7"
      },
      "execution_count": null,
      "outputs": []
    },
    {
      "cell_type": "code",
      "source": [
        "forgery_factors_string_0_10 = forgery_factors[0]\n",
        "for factor in forgery_factors[1:10]:\n",
        "  forgery_factors_string_0_10 = forgery_factors_string_0_10 + \" 、 \"\n",
        "  forgery_factors_string_0_10 = forgery_factors_string_0_10 + factor"
      ],
      "metadata": {
        "id": "3T3rSS8W9Kbf"
      },
      "execution_count": null,
      "outputs": []
    },
    {
      "cell_type": "code",
      "source": [
        "forgery_factors_string_0_5 = forgery_factors[0]\n",
        "for factor in forgery_factors[1:5]:\n",
        "  forgery_factors_string_0_5 = forgery_factors_string_0_5 + \" 、 \"\n",
        "  forgery_factors_string_0_5 = forgery_factors_string_0_5 + factor"
      ],
      "metadata": {
        "id": "dQ8-O2pM-ffx"
      },
      "execution_count": null,
      "outputs": []
    },
    {
      "cell_type": "markdown",
      "source": [
        "# taide"
      ],
      "metadata": {
        "id": "lhuIkcGR4eB-"
      }
    },
    {
      "cell_type": "code",
      "execution_count": 8,
      "metadata": {
        "colab": {
          "base_uri": "https://localhost:8080/"
        },
        "id": "flEKpC4rI1oV",
        "outputId": "33cef5a3-c635-4e15-d898-e8a022229067"
      },
      "outputs": [
        {
          "output_type": "stream",
          "name": "stdout",
          "text": [
            "你好，我是TAIDE，你好，很高興為你服務。我是基於人工智慧的語言模型，專為協助你任何有關台灣或其他你好奇的主題的問題而設計。請你提出問題，我會盡力幫你解答。\n"
          ]
        }
      ],
      "source": [
        "url = \"http://140.120.13.248:10201/generate\"\n",
        "\n",
        "text=\"\"\"\n",
        "\"\"\"\n",
        "instruction = f\"\"\"\n",
        "{text}\n",
        "\"\"\"\n",
        "\n",
        "SUGGEST_SYS_PROMPT = f\"\"\"你是一個來自台灣的AI助理，你的名字是 TAIDE，樂於以台灣人的立場幫助使用者，會用繁體中文回答問題。\n",
        "{instruction}\n",
        "\"\"\"\n",
        "prompt = \"\"\"你是誰?\n",
        "\"\"\"\n",
        "\n",
        "payload = json.dumps({\n",
        "  \"inputs\": f\"\"\"<|begin_of_text|><|start_header_id|>system<|end_header_id|>\n",
        "\n",
        "{{ {SUGGEST_SYS_PROMPT} }}<|eot_id|><|start_header_id|>user<|end_header_id|>\n",
        "\n",
        "{{ {prompt} }}<|eot_id|><|start_header_id|>assistant<|end_header_id|>\n",
        "  \"\"\",\n",
        "  \"parameters\": {\n",
        "    \"do_sample\": True,\n",
        "    # \"temperature\": 1.0,\n",
        "    # \"top_p\": 0.95,\n",
        "    # \"max_new_tokens\": 1000\n",
        "  },\n",
        "})\n",
        "headers = {\n",
        "  'Content-Type': 'application/json',\n",
        "  'accept': 'application/json'\n",
        "}\n",
        "\n",
        "response = requests.request(\"POST\", url, headers=headers, data=payload)\n",
        "\n",
        "print(json.loads(response.text)[\"generated_text\"])\n"
      ]
    },
    {
      "cell_type": "code",
      "source": [
        "def taide(prompt):\n",
        "\n",
        "  payload = json.dumps({\n",
        "    \"inputs\": f\"\"\"<|begin_of_text|><|start_header_id|>system<|end_header_id|>\n",
        "\n",
        "  {{ {SUGGEST_SYS_PROMPT} }}<|eot_id|><|start_header_id|>user<|end_header_id|>\n",
        "\n",
        "  {{ {prompt} }}<|eot_id|><|start_header_id|>assistant<|end_header_id|>\n",
        "    \"\"\",\n",
        "    \"parameters\": {\n",
        "      \"do_sample\": True,\n",
        "      # \"temperature\": 1.0,\n",
        "      # \"top_p\": 0.95,\n",
        "      # \"max_new_tokens\": 1000\n",
        "    },\n",
        "  })\n",
        "  headers = {\n",
        "    'Content-Type': 'application/json',\n",
        "    'accept': 'application/json'\n",
        "  }\n",
        "\n",
        "  response = requests.request(\"POST\", url, headers=headers, data=payload)\n",
        "\n",
        "  return json.loads(response.text)[\"generated_text\"]"
      ],
      "metadata": {
        "id": "krNRlSqH1CWN"
      },
      "execution_count": 9,
      "outputs": []
    },
    {
      "cell_type": "code",
      "source": [
        "def taide1000(prompt):\n",
        "\n",
        "  payload = json.dumps({\n",
        "    \"inputs\": f\"\"\"<|begin_of_text|><|start_header_id|>system<|end_header_id|>\n",
        "\n",
        "  {{ {SUGGEST_SYS_PROMPT} }}<|eot_id|><|start_header_id|>user<|end_header_id|>\n",
        "\n",
        "  {{ {prompt} }}<|eot_id|><|start_header_id|>assistant<|end_header_id|>\n",
        "    \"\"\",\n",
        "    \"parameters\": {\n",
        "      \"do_sample\": True,\n",
        "      # \"temperature\": 1.0,\n",
        "      # \"top_p\": 0.95,\n",
        "      \"max_new_tokens\": 1000\n",
        "    },\n",
        "  })\n",
        "  headers = {\n",
        "    'Content-Type': 'application/json',\n",
        "    'accept': 'application/json'\n",
        "  }\n",
        "\n",
        "  response = requests.request(\"POST\", url, headers=headers, data=payload)\n",
        "\n",
        "  return json.loads(response.text)[\"generated_text\"]"
      ],
      "metadata": {
        "id": "d81tc0GuAcwN"
      },
      "execution_count": 10,
      "outputs": []
    },
    {
      "cell_type": "code",
      "source": [
        "def taide3000(prompt):\n",
        "\n",
        "  payload = json.dumps({\n",
        "    \"inputs\": f\"\"\"<|begin_of_text|><|start_header_id|>system<|end_header_id|>\n",
        "\n",
        "  {{ {SUGGEST_SYS_PROMPT} }}<|eot_id|><|start_header_id|>user<|end_header_id|>\n",
        "\n",
        "  {{ {prompt} }}<|eot_id|><|start_header_id|>assistant<|end_header_id|>\n",
        "    \"\"\",\n",
        "    \"parameters\": {\n",
        "      \"do_sample\": True,\n",
        "      # \"temperature\": 1.0,\n",
        "      # \"top_p\": 0.95,\n",
        "      \"max_new_tokens\": 3000\n",
        "    },\n",
        "  })\n",
        "  headers = {\n",
        "    'Content-Type': 'application/json',\n",
        "    'accept': 'application/json'\n",
        "  }\n",
        "\n",
        "  response = requests.request(\"POST\", url, headers=headers, data=payload)\n",
        "\n",
        "  return json.loads(response.text)[\"generated_text\"]"
      ],
      "metadata": {
        "id": "y-WhUmLg9CNo"
      },
      "execution_count": 11,
      "outputs": []
    },
    {
      "cell_type": "markdown",
      "source": [
        "# 50 factor + origin judgment"
      ],
      "metadata": {
        "id": "gw4SSf05A9hW"
      }
    },
    {
      "cell_type": "code",
      "source": [
        "forgery_factors_string = forgery_factors[0]\n",
        "for factor in forgery_factors[1:]:\n",
        "  forgery_factors_string = forgery_factors_string + \" 、 \"\n",
        "  forgery_factors_string = forgery_factors_string + factor"
      ],
      "metadata": {
        "id": "sPWQIc2nA19P"
      },
      "execution_count": 12,
      "outputs": []
    },
    {
      "cell_type": "code",
      "source": [
        "prompt = f\"\"\"你現在是一位專業的臺灣法官，我會給你一篇法律判決書內容，請檢查是否存在隱含要件項目，提取判決書內容並以「隱含要件項目：內容」呈現，如「犯罪手段：內容」、「損害程度：內容」等。隱含要件項目如下：{forgery_factors_string}判決書內容如下：\n",
        "\"\"\""
      ],
      "metadata": {
        "id": "oE7sYUvbAaLH"
      },
      "execution_count": 13,
      "outputs": []
    },
    {
      "cell_type": "code",
      "source": [
        "taide(prompt + judgements[0])"
      ],
      "metadata": {
        "colab": {
          "base_uri": "https://localhost:8080/",
          "height": 53
        },
        "id": "4fEFJZngBH4v",
        "outputId": "1aafaf04-46aa-4fc6-ab81-adccb77c95a7"
      },
      "execution_count": 14,
      "outputs": [
        {
          "output_type": "execute_result",
          "data": {
            "text/plain": [
              "' 隱含要件項目：生活習慣與思想觀念的差異、被告無不能同居的正當理由、被告惡意遺棄原告在繼續狀態中的行為、夫妻之一為臺灣地區之人民一方為大陸地區之人民\\n     判決書內容：兩造於92年8月22日結婚，被告為印尼國人，婚後來台共同生活。'"
            ],
            "application/vnd.google.colaboratory.intrinsic+json": {
              "type": "string"
            }
          },
          "metadata": {},
          "execution_count": 14
        }
      ]
    },
    {
      "cell_type": "markdown",
      "source": [
        "## mothod 1: 要件數量 -> 10"
      ],
      "metadata": {
        "id": "cbbo-iu3Aaqb"
      }
    },
    {
      "cell_type": "code",
      "source": [
        "forgery_factors_string10 = forgery_factors[0]\n",
        "for factor in forgery_factors[1:10]:\n",
        "  forgery_factors_string10 = forgery_factors_string10 + \" 、 \"\n",
        "  forgery_factors_string10 = forgery_factors_string10 + factor"
      ],
      "metadata": {
        "id": "ij25uDhUBiDo"
      },
      "execution_count": 15,
      "outputs": []
    },
    {
      "cell_type": "code",
      "source": [
        "prompt_factor10 = f\"\"\"你現在是一位專業的臺灣法官，我會給你一篇法律判決書內容，請檢查是否存在隱含要件項目，提取判決書內容並以「隱含要件項目：內容」呈現，如「犯罪手段：內容」、「損害程度：內容」等。隱含要件項目如下：{forgery_factors_string10}判決書內容如下：\n",
        "\"\"\""
      ],
      "metadata": {
        "id": "o6bk79kTBmbZ"
      },
      "execution_count": 21,
      "outputs": []
    },
    {
      "cell_type": "code",
      "source": [
        "print(taide(prompt_factor10 + judgements[0]))"
      ],
      "metadata": {
        "colab": {
          "base_uri": "https://localhost:8080/"
        },
        "id": "1kRATiPzBohZ",
        "outputId": "9fb96de9-600e-46f6-cf18-5b9abc41abc7"
      },
      "execution_count": 22,
      "outputs": [
        {
          "output_type": "stream",
          "name": "stdout",
          "text": [
            " 隱含要件項目：生活習慣與思想觀念的差異、被告在繼續狀態中惡意遺棄原告、夫妻無共同財產和債務、被告為精神障礙輔助宣告人及指定輔助人\n",
            "     判決內容：原告林欽堂與被告林達茜(DARSI )為夫妻，原告為中華民\n"
          ]
        }
      ]
    },
    {
      "cell_type": "markdown",
      "source": [
        "# mothod 2 : 字數 cut 500"
      ],
      "metadata": {
        "id": "cvTtLTkq_ZtT"
      }
    },
    {
      "cell_type": "code",
      "source": [
        "len(judgements[0])"
      ],
      "metadata": {
        "colab": {
          "base_uri": "https://localhost:8080/"
        },
        "id": "3EPyl-OKB4LR",
        "outputId": "41fada7f-d2de-4bfd-d3ce-53a2ae723cb7"
      },
      "execution_count": 19,
      "outputs": [
        {
          "output_type": "execute_result",
          "data": {
            "text/plain": [
              "1240"
            ]
          },
          "metadata": {},
          "execution_count": 19
        }
      ]
    },
    {
      "cell_type": "code",
      "source": [
        "print(taide(prompt_factor10 + judgements[0][:500]))"
      ],
      "metadata": {
        "colab": {
          "base_uri": "https://localhost:8080/"
        },
        "id": "VvP6avD-Bz0G",
        "outputId": "fe04b92e-c804-481f-e3f2-080005cec965"
      },
      "execution_count": 24,
      "outputs": [
        {
          "output_type": "stream",
          "name": "stdout",
          "text": [
            "隱含要件項目：內容\n",
            "被告無不能同居的正當理由： 被告無故離開臺灣，未與原告同居\n",
            "夫妻之一為臺灣地區之人民， 一方為大陸地區之人民： 被告為印尼國人，非中國大陸地區人民\n",
            "兩造已自行離婚： 無，原告請求離婚\n",
            "被告干預原告工作： 無，判決書內\n"
          ]
        }
      ]
    },
    {
      "cell_type": "markdown",
      "source": [
        "# mothod 3: max_new_tokens none vs. 1000 vs. 3000"
      ],
      "metadata": {
        "id": "1ri9pAbm_-yn"
      }
    },
    {
      "cell_type": "code",
      "source": [
        "print(taide1000(prompt_factor10 + judgements[0]))"
      ],
      "metadata": {
        "colab": {
          "base_uri": "https://localhost:8080/"
        },
        "id": "S9zwYQz1CJgs",
        "outputId": "3666b2c9-8d6f-4330-e4e1-7bbfe1cef8ed"
      },
      "execution_count": 25,
      "outputs": [
        {
          "output_type": "stream",
          "name": "stdout",
          "text": [
            " 隱含要件項目：沒有共同財產和債務\n",
            "     判決內容：原告林欽堂與被告林達茜(DARSI. 兩造已自行離婚\n",
            "     理由：被告於95年9月11日返回印尼後即拒不來臺履行夫妻同居義務，又無不能同居之正當事由，致兩造長期分居已逾4年，婚姻關係因被告之行徑，已達難以繼續維持之重大事由，且該事由非源自原告一方，原告依據民法第1052條第2項前段規定請求離婚，為有理由，應予准許。\n"
          ]
        }
      ]
    },
    {
      "cell_type": "code",
      "source": [
        "print(taide3000(prompt_factor10 + judgements[0]))"
      ],
      "metadata": {
        "colab": {
          "base_uri": "https://localhost:8080/"
        },
        "id": "Z9OTTentCiRe",
        "outputId": "2b0c3b5d-3d78-489c-9046-116526907665"
      },
      "execution_count": 26,
      "outputs": [
        {
          "output_type": "stream",
          "name": "stdout",
          "text": [
            " 隱含要件項目：生活習慣與思想觀念的差異、被告惡意遺棄原告在繼續狀態中的行為\n",
            "     茲將判決書內容摘要如下：\n",
            "     原告林欽堂與被告林達茜(印尼國人)於92年8月22日結婚，婚後被告於92年10月10日來臺與原告共同生活。被告於95年9月11日出境返回印尼後，一去未歸，未留下聯絡方式，亦未與原告聯絡，致雙方長期分居。原告主張兩造無法維持婚姻關係，依據民法第1052條第2項前段規定請求離婚。本院認定兩造因被告惡意遺棄原告在繼續狀態中的行為，已達難以維持婚姻之重大事由，且此事由非由原告一方所致，故判准兩造離婚。\n",
            "     本案與「被告遺棄原告且未支付子女扶養費用及家庭生活費用」並無直接關聯，屬判決書中未被提及的隱含要件項目。\n"
          ]
        }
      ]
    },
    {
      "cell_type": "code",
      "source": [
        "print(taide1000(prompt_factor10 + judgements[0][:500]))"
      ],
      "metadata": {
        "colab": {
          "base_uri": "https://localhost:8080/"
        },
        "id": "gi3fA5X8DUR0",
        "outputId": "eecda6ba-39e9-4799-9b7a-252ac06a5cfa"
      },
      "execution_count": 30,
      "outputs": [
        {
          "output_type": "stream",
          "name": "stdout",
          "text": [
            " 隱含要件項目：內容\n",
            "      • 夫妻之一為臺灣地區之人民： 被告為印尼國人，非臺灣地區人民。\n",
            "      • 一方為大陸地區之人民： 無此項要件， 因被告為印尼國人非大陸地區人民。\n",
            "      • 兩造已自行離婚： 無此項要件， 因原告訴請離婚， 且兩造婚姻關係仍存續中。\n",
            "      • 被告干預原告工作： 無此項要件， 因未見於判決書內容中提及。\n",
            "      • 沒有共同財產和債務： 無此項要件， 因未見於判決書內容中提及。\n",
            "      • 生活習慣與思想觀念的差異： 無此項要件， 因未見於判決書內容中提及。\n",
            "      • 被告惡意遺棄原告在繼續狀態中的行為： 『被告表示要回印尼探望母親，而於95年9月11日出境返回印尼，詎被告竟一去未歸，未留下聯絡方式，亦未與原告聯絡，至今音訊全無，被告顯無維持婚姻的意願。』， 符合此項要件。\n",
            "      • 財務負擔： 無此項要件， 因未見於判決書內容中提及。\n",
            "      • 被告為精神障礙輔助宣告人及指定輔助人 : 無此項要件， 因未見於判決書內容中提及。\n",
            "      • 被告遺棄原告且未支付子女扶養費用及家庭生活費用： 『被告表示要回印尼探望母親，而於95年9月11日出境返回印尼，詎被告竟一去未歸，未留下聯絡方式，亦未與原告聯絡，至今音訊全無，被告顯無維持婚姻的意願。』， 符合此項要件。\n",
            "      • other elements (若有): 無其他要件於判決書內容中被提及。 」\n"
          ]
        }
      ]
    },
    {
      "cell_type": "markdown",
      "source": [
        "# mothod 4 : 要件 -> 問句形式"
      ],
      "metadata": {
        "id": "VvkVuYgX_18m"
      }
    },
    {
      "cell_type": "code",
      "source": [
        "questions = [\n",
        "    \"请描述被告不能同居的正当理由。\",\n",
        "    \"夫妻之一是否為臺灣地區之人民一方為大陸地區之人民\",\n",
        "    \"请描述双方已自行离婚的情况。\",\n",
        "    \"请描述被告干预原告工作的情况。\",\n",
        "    \"请描述双方的财产和债务情况。\",\n",
        "    \"请描述双方生活习惯和思想观念的差异。\",\n",
        "    \"请描述被告恶意遗弃了原告并且在独自生活的情况下没有支付子女抚养费和家庭生活费的情况。\",\n",
        "    \"财务负担情况如何？\",\n",
        "    \"请描述被告是否被宣告为精神障碍辅助人员。\",\n",
        "    \"请描述被告遗弃了原告并且没有支付子女抚养费和家庭生活费的情况。\",\n",
        "    \"请描述涉及刑事通奸罪的情况。\",\n",
        "    \"请描述被告有正当理由不履行同居义务的情况。\",\n",
        "    \"请描述使维持婚姻变得困难的重大原因。\",\n",
        "    \"请描述被告多次口头要求离婚并且不尊重原告的亲属的情况。\",\n",
        "    \"请描述被告长期离家不归的情况。\",\n",
        "    \"请描述任何金钱纠纷的情况。\",\n",
        "    \"请描述被告因故意犯罪而被判刑的情况。\",\n",
        "    \"请描述被告经常辱骂原告及其母亲并且有精神虐待行为的情况。\",\n",
        "    \"请描述被告殴打过原告的母亲的情况。\",\n",
        "    \"请描述被告拒绝履行同居义务和家庭事务处理的情况。\",\n",
        "    \"请描述被告拒绝团聚并且未履行同居义务的情况。\",\n",
        "    \"请描述被告离家出走的情况。\",\n",
        "    \"请描述被告遗弃了原告的情况。\",\n",
        "    \"请描述被告下落不明的情况。\",\n",
        "    \"请描述未负担家计的情况。\",\n",
        "    \"请描述婚姻长期分居并且无法维持的情况。\",\n",
        "    \"请描述原告缺乏提出离婚的权利的情况。\",\n",
        "    \"请描述双方长期分居无法互相扶持的情况。\",\n",
        "    \"请描述双方已经没有夫妻情感存在的情况。\",\n",
        "    \"请描述双方婚姻长期不和的情况。\",\n",
        "    \"请描述双方婚姻已经生有难以维持的重大事由的情况。\",\n",
        "    \"请描述被告不体谅原告的辛勤劳动的情况。\",\n",
        "    \"请描述双方未共同生育子女的情况。\",\n",
        "    \"请描述双方婚姻已无法维持的情况。\",\n",
        "    \"请描述夫妻关系疏远的情况。\",\n",
        "    \"请描述婚姻已经破裂的情况。\",\n",
        "    \"请描述法院认定被告有归责事由的情况。\",\n",
        "    \"请描述被告未到庭辩论的情况。\",\n",
        "    \"请描述被告不关注子女教育费用的情况。\",\n",
        "    \"请描述不履行夫妻同居义务的情况。\",\n",
        "    \"请描述被告未负担家计的情况。\",\n",
        "    \"请描述被告未尽为夫为父责任的情况。\",\n",
        "    \"请描述被告有暴力行为的情况。\",\n",
        "    \"请描述原告的心理压力情况。\",\n",
        "    \"请描述被告不做家务的情况。\",\n",
        "    \"请描述被告未履行同居义务的情况。\",\n",
        "    \"请描述原告有不忠的指控的情况。\",\n",
        "    \"请描述被告被恶意遗弃的情况。\",\n",
        "    \"是否存在夫妻间存在继续状态的情况？\",\n",
        "    \"请描述双方互负同居之义务的情况。\"\n",
        "]\n"
      ],
      "metadata": {
        "id": "TTJHiFKyC0bZ"
      },
      "execution_count": 27,
      "outputs": []
    },
    {
      "cell_type": "code",
      "source": [
        "questions_string = questions[0]\n",
        "for question in questions[1:]:\n",
        "  questions_string = questions_string + \" 、 \"\n",
        "  questions_string = questions_string + question"
      ],
      "metadata": {
        "id": "Z5U1sEDTC8Br"
      },
      "execution_count": 32,
      "outputs": []
    },
    {
      "cell_type": "code",
      "source": [
        "prompt_q = f\"\"\"你現在是一位專業的臺灣法官，我會給你一篇法律判決書內容，請檢查是否存在隱含要件項目，提取判決書內容並以「隱含要件項目：內容」呈現，如「犯罪手段：內容」、「損害程度：內容」等。隱含要件項目如下：{questions_string}判決書內容如下：\n",
        "\"\"\""
      ],
      "metadata": {
        "id": "PvBc52LmDAs3"
      },
      "execution_count": 33,
      "outputs": []
    },
    {
      "cell_type": "code",
      "source": [
        "print(taide3000(prompt_q + judgements[0]))"
      ],
      "metadata": {
        "colab": {
          "base_uri": "https://localhost:8080/"
        },
        "id": "izp7iHiHDx5d",
        "outputId": "947322bd-5d7d-435f-f469-4ee3221b86a4"
      },
      "execution_count": 35,
      "outputs": [
        {
          "output_type": "stream",
          "name": "stdout",
          "text": [
            " 隱含要件項目：內容\n",
            "1. 被告不能同居的正當理由： 被告於95年9月11日返回印尼後拒不來臺履行夫妻同居義務，且無不能同居之正當事由。\n",
            "2. 一方為臺灣地區之人民，一方為大陸地區之人民： 被告為印尼國人，為外籍配偶。\n",
            "3. 雙方已自行離婚的情形： 未提及雙方已自行離婚，原告是依據有無法維持婚姻之重大事由請求離婚。\n",
            "4. 被告干預原告工作的情形： 未提及被告干預原告工作的情形。\n",
            "5. 雙方的財產和債務狀況： 未提及雙方的財產和債務狀況。\n",
            "6. 雙方生活習慣和思想觀念的差異： 未提及雙方生活習慣和思想觀念的差異。\n",
            "7. 被告惡意遺棄原告，在獨自生活的情況下未支付子女撫養費和家庭生活費的情形： 被告於95年9月11日返回印尼後拒不來臺，長期未履行同居義務。\n",
            "8. 財務負擔狀況： 未提及財務負擔狀況。\n",
            "9. 被告是否被宣告為精神障礙輔助人： 未提及被告是否被宣告為精神障礙輔助人。\n",
            "10. 被告遺棄原告並在獨自生活時未支付子女撫養費和家庭生活費的情形： 被告於95年9月11日返回印尼後拒不來臺，長期未履行同居義務。\n",
            "11. 涵蓋刑事通姦罪的情形： 未提及涵蓋刑事通姦罪的情形。\n",
            "12. 被告有正當理由不履行同居義務的情形： 被告於95年9月11日返回印尼後拒不來臺，無不能同居之正當事由。\n",
            "13. 造成維持婚姻困難的重大原因： 被告長期未履行同居義務，致兩造長期分居已逾4年。\n",
            "14. 被告多次口頭要求離婚並不尊重原告親屬的情形： 未提及被告多次口頭要求離婚並不尊重原告親屬的情形。\n",
            "15. 被告長期離家不歸的情形： 被告於95年9月11日返回印尼後拒不來臺，長期未履行同居義務。\n",
            "16. 任何金錢糾紛的情形： 未提及任何金錢糾紛的情形。\n",
            "17. 被告因故意犯罪被判刑的情形： 未提及被告因故意犯罪被判刑的情形。\n",
            "18. 被告經常辱罵原告及其母親並有精神虐待行為的情形： 未提及被告經常辱罵原告及其母親並有精神虐待行為的情形。\n",
            "19. 被告暴力對待原告母親的情形： 未提及被告暴力對待原告母親的情形。\n",
            "20. 被告拒絕履行同居義務和家庭事務處理的情形： 被告於95年9月11日返回印尼後拒不來臺，長期未履行同居義務。\n",
            "21. 被告拒絕團聚並未履行同居義務的情形： 被告於95年9月11日返回印尼後拒不來臺，長期未履行同居義務。\n",
            "22. 被告離家出走的情形： 被告於95年9月11日返回印尼後拒不來臺，長期未履行同居義務。\n",
            "23. 被告遺棄原告的情形： 被告於95年9月11日返回印尼後拒不來臺，長期未履行同居義務。\n",
            "24. 被告下落不明的情形： 被告於95年9月11日返回印尼後拒不來臺，長期未履行同居義務。\n",
            "25. 未負擔家計的情形： 未提及雙方未負擔家計的情形。\n",
            "26.婚姻長期分居且無法維持的情形： 兩造長期分居已逾4年，因被告之事由造成夫妻關係名存實亡。\n",
            "27. 原告缺乏提出離婚的權利的情形： 未提及原告缺乏提出離婚的權利的情形。\n",
            "28. 雙方長期分居無法互相扶持的情形： 兩造長期分居已逾4年，因被告之事由造成夫妻關係名存實亡。\n",
            "29. 雙方已無夫妻情感存在的情形： 因被告之事由，兩造長期未履行同居義務，夫妻情感已蕩然無存。\n",
            "30. 雙方婚姻長期不和的情形： 因被告之事由，兩造長期未履行同居義務，夫妻關係已破裂。\n",
            "31. 雙方婚姻已存在難以維持的重大事由的情形： 因被告之事由，兩造長期未履行同居義務，夫妻關係已破裂。\n",
            "32. 被告不體諒原告的辛勞勞動的情形： 未提及被告不體諒原告的辛勞勞動的情形。\n",
            "33. 雙方未共同生育子女的情形： 未提及雙方未共同生育子女的情形。\n",
            "34. 雙方婚姻已無法維持的情形： 因被告之事由，兩造長期未履行同居義務，夫妻關係已破裂。\n",
            "35. 夫妻關係疏遠的情形： 因被告之事由，兩造長期未履行同居義務，夫妻關係已破裂。\n",
            "36. 婚姻已破裂的情形： 因被告之事由，兩造長期未履行同居義務，夫妻關係已破裂。\n",
            "37. 法院認定被告有責任的事由的情形： 因被告之事由，兩造長期未履行同居義務，夫妻關係已破裂。\n",
            "38. 被告未到庭辯論的情形： 被告受合法通知未到庭。\n",
            "39. 被告不關注子女教育費用的情形： 未提及被告不關注子女教育費用的情形。\n",
            "40. 未履行夫妻同居義務的情形： 被告於95年9月11日返回印尼後拒不來臺，長期未履行同居義務。\n",
            "41. 被告未負擔家計的情形： 未提及被告未負擔家計的情形。\n",
            "42. 被告未盡為夫為父的責任的情形： 未提及被告未盡為夫為父的責任的情形。\n",
            "43. 被告有暴力行為的情形： 未提及被告有暴力行為的情形。\n",
            "44. 原告的心理壓力情形： 未提及原告的心理壓力情形。\n",
            "45. 被告不做家務的情形： 未提及被告不做家務的情形。\n",
            "46. 被告未履行同居義務的情形： 被告於95年9月11日返回印尼後拒不來臺，長期未履行同居義務。\n",
            "47. 原告有不忠指控的情形： 未提及原告有不忠指控的情形。\n",
            "48. 被告被惡意遺棄的情形： 被告於95年9月11日返回印尼後拒不來臺，長期未履行同居義務。\n",
            "49. 是否存在持續狀態的婚姻關係： 未提及是否存在持續狀態的婚姻關係。\n",
            "50. 雙方互負同居義務的情形： 未提及雙方互負同居義務的情形。\n"
          ]
        }
      ]
    },
    {
      "cell_type": "code",
      "source": [
        "print(taide3000(prompt + judgements[0]))"
      ],
      "metadata": {
        "colab": {
          "base_uri": "https://localhost:8080/"
        },
        "id": "vlqU9RGoEZdG",
        "outputId": "0e690497-8500-4595-e91d-8aeb7f31e5d4"
      },
      "execution_count": 36,
      "outputs": [
        {
          "output_type": "stream",
          "name": "stdout",
          "text": [
            " 隱含要件項目：生活習慣與思想觀念的差異、被告惡意遺棄原告在繼續狀態中的行為\n",
            "    判決內容：原告林欽堂與被告林達茜(DARSI. )為夫妻，原告為中華民國國民，被告為印尼國人民。本件兩造因被告於95年9月11日返回印尼後拒不來臺履行夫妻同居義務，且無不能同居之正當事由，導致兩造長期分居已逾4年。法庭認為被告之行徑已破壞夫妻共同生活，且無法繼續維持婚姻，符合民法第1052條第2項前段所定之離婚事由。因此，判決原告與被告離婚。訴訟費用由被告負擔。\n"
          ]
        }
      ]
    },
    {
      "cell_type": "markdown",
      "source": [
        "chatgpt:\n",
        "隱含要件項目：\n",
        "\n",
        "被告未履行夫妻同居义务的情况：被告于95年9月11日返回印尼后拒不来台履行夫妻同居义务，长期分居已逾4年。\n",
        "\n",
        "被告为大陆地区人民，原告为台湾地区人民。\n",
        "\n",
        "被告未尽为夫为父责任的情况：被告长期分居且未履行夫妻同居义务，未尽到为夫为父的责任。\n",
        "\n",
        "夫妻间存在继续状态的情况：夫妻关系已名存实亡，不存在继续状态。\n",
        "\n",
        "被告不关注子女教育费用的情况：判决未涉及该情况描述。\n",
        "\n",
        "被告未负担家计的情况：判决未涉及该情况描述。\n",
        "\n",
        "被告恶意遗弃了原告并且在独自生活的情况下没有支付子女抚养费和家庭生活费的情况：被告于95年9月11日返回印尼后没有与原告联系，长期分居且未支付子女抚养费和家庭生活费。\n",
        "\n",
        "(3/3 前兩次都只有重複問題（questions）)"
      ],
      "metadata": {
        "id": "pNAAkNGsE0C4"
      }
    },
    {
      "cell_type": "code",
      "source": [
        "print(taide3000(prompt_q + judgements[1]))"
      ],
      "metadata": {
        "colab": {
          "base_uri": "https://localhost:8080/"
        },
        "id": "2VctQa9fE61r",
        "outputId": "8b123914-e498-4ed9-a4d6-2a0a8eba25aa"
      },
      "execution_count": 37,
      "outputs": [
        {
          "output_type": "stream",
          "name": "stdout",
          "text": [
            " 隱含要件項目：內容\n",
            "1. 被告不能同居的正當理由： 被告於100年11月30日離家後即行蹤不明，拒不履行夫妻同居義務，並斷絕聯絡，無不能同居之正當事由。\n",
            "2. 夫妻之一為臺灣地區之人民，一為大陸地區之人民： 被告為越南國人民，原告為中華民國國民。\n",
            "3. 員描述雙方已自行離婚的情形： 未提及雙方已自行離婚。\n",
            "4. 被告干預原告工作的情形： 未提及。\n",
            "5. 描寫雙方的財產和債務狀況： 未提及。\n",
            "6. 描寫雙方的生活習慣和思想觀念的差異： 未提及。\n",
            "7. 被告惡意遺棄原告，在獨自生活的情況下未支付子女撫養費和家庭生活費的情形： 被告於100年11月30日離家後即行蹤不明，拒不履行夫妻同居義務，並斷絕聯絡，並涉嫌犯有強盜罪等不法行為。\n",
            "8. 財務負擔情況： 未提及。\n",
            "9. 被告是否被宣告為精神障礙輔助人： 未提及。\n",
            "10. 被告遺棄原告並未支付子女撫養費和家庭生活費的情形： 被告於100年11月30日離家後即行蹤不明，拒不履行夫妻同居義務，並斷絕聯絡，並涉嫌犯有強盜罪等不法行為。\n",
            "11. 任何金錢糾紛的情形： 未提及。\n",
            "12. 被告因故意犯罪被判刑的情形： 被告涉嫌犯有強盜罪等不法行為。\n",
            "13. 被告對原告有精神虐待行為的情形： 未提及。\n",
            "14. 被告毆打原告母親的情形： 未提及。\n",
            "15. 被告拒絕履行同居義務和處理家庭事務的情形： 被告於100年11月30日離家後即行蹤不明，拒不履行夫妻同居義務，並斷絕聯絡。\n",
            "16. 被告拒絕團聚並未履行同居義務的情形： 被告於100年11月30日離家後即行蹤不明，拒不履行夫妻同居義務，並斷絕聯絡。\n",
            "17. 被告離家出走的情形： 被告於100年11月30日藉口返回越南後即行蹤不明。\n",
            "18. 被告遺棄原告的情形： 被告於100年11月30日離家後即行蹤不明，拒不履行夫妻同居義務，並斷絕聯絡。\n",
            "19. 被告下落不明的情形： 被告於100年11月30日離家後即行蹤不明。\n",
            "20. 未負擔家計的情形： 未提及。\n",
            "21. 婚姻長期分居且無法維持的情形： 兩造因被告之事由，分居達2年4月之久，夫妻關係已名存實亡。\n",
            "22. 原告缺乏提出離婚的權利的情形： 未提及。\n",
            "23. 雙方長期分居無法互相扶持的情形： 兩造因被告之事由，分居達2年4月之久，夫妻關係已名存實亡。\n",
            "24. 雙方已無夫妻情感存在的情形： 被告主觀上無婚姻維持之意願，造成兩造分居達2年4月之久，夫妻關係就兩造客觀上應存之基本維繫及義務，已名存實亡。\n",
            "25. 雙方婚姻長期不和的情形： 被告於100年11月30日離家後即行蹤不明，拒不履行夫妻同居義務，並斷絕聯絡。\n",
            "26. 雙方婚姻已無法維持重大事由的情形： 因被告之行徑，已足以破壞夫妻共同生活而達於難以繼續維持婚姻之重大事由。\n",
            "27. 被告不體諒原告的辛勞工作的情形： 未提及。\n",
            "28. 雙方未共同生育子女的情形： 未提及。\n",
            "29. 雙方婚姻已無法維持的情形： 因被告之行徑，已足以破壞夫妻共同生活而達於難以繼續維持婚姻之重大事由。\n",
            "30. 夫妻關係疏遠的情形： 兩造因被告之事由，分居達2年4月之久，夫妻關係已名存實亡。\n",
            "31. 婚姻已破裂的情形： 因被告之行徑，已足以破壞夫妻共同生活而達於難以繼續維持婚姻之重大事由。\n",
            "32. 法院認定被告有責任事由的情形： 被告因涉嫌犯有強盜罪等不法行為，且於100年11月30日離家後即行蹤不明，拒不履行夫妻同居義務，並斷絕聯絡，造成兩造分居達2年4月之久，夫妻關係已名存實亡。\n",
            "33. 被告未到庭辯論的情形： 被告受合法通知未到場。\n",
            "34. 被告不關注子女教育費用的情形： 未提及。\n",
            "35. 未履行夫妻同居義務的情形： 被告於100年11月30日離家後即行蹤不明，拒不履行夫妻同居義務，並斷絕聯絡。\n",
            "36. 被告未負擔家計的情形： 未提及。\n",
            "37. 被告未盡為夫為父的責任的情形： 被告於100年11月30日離家後即行蹤不明，拒不履行夫妻同居義務，並斷絕聯絡。\n",
            "38. 被告有暴力行為的情形： 未提及。\n",
            "39. 原告的心理壓力情形： 未提及。\n",
            "40. 被告不做家務的情形： 未提及。\n",
            "41. 被告未履行同居義務的情形： 被告於100年11月30日離家後即行蹤不明，拒不履行夫妻同居義務，並斷絕聯絡。\n",
            "42. 原告有不忠指控的情形： 未提及。\n",
            "43. 被告被惡意遺棄的情形： 被告於100年11月30日離家後即行蹤不明，拒不履行夫妻同居義務，並斷絕聯絡。\n",
            "44. 是否存在夫妻間持續狀態的情形： 未提及。\n",
            "45. 描寫雙方互負同居義務的情形： 被告於100年11月30日離家後即行蹤不明，拒不履行夫妻同居義務，並斷絕聯絡。\n",
            "根據所提供的判決書，本案件的隱含要件項目內容顯示，原告與被告之間的婚姻關係因被告於100年11月30日離家後即行蹤不明，拒不履行夫妻同居義務，並斷絕聯絡，且涉嫌犯有強盜罪等不法行為，造成兩造分居達2年4月之久，夫妻關係已名存實亡。符合「有前項以外之重大事由，難以維持婚姻者，夫妻之一方得請求離婚」之要件，故原告訴請離婚為有理由，應予准許。\n"
          ]
        }
      ]
    }
  ]
}