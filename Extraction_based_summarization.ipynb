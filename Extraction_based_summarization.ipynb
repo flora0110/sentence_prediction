{
  "nbformat": 4,
  "nbformat_minor": 0,
  "metadata": {
    "colab": {
      "provenance": [],
      "authorship_tag": "ABX9TyNkXTlNAXowjR4Vk7T90DCH",
      "include_colab_link": true
    },
    "kernelspec": {
      "name": "python3",
      "display_name": "Python 3"
    },
    "language_info": {
      "name": "python"
    },
    "widgets": {
      "application/vnd.jupyter.widget-state+json": {
        "34e514cbba6c426fa852540829d35dbe": {
          "model_module": "@jupyter-widgets/controls",
          "model_name": "HBoxModel",
          "model_module_version": "1.5.0",
          "state": {
            "_dom_classes": [],
            "_model_module": "@jupyter-widgets/controls",
            "_model_module_version": "1.5.0",
            "_model_name": "HBoxModel",
            "_view_count": null,
            "_view_module": "@jupyter-widgets/controls",
            "_view_module_version": "1.5.0",
            "_view_name": "HBoxView",
            "box_style": "",
            "children": [
              "IPY_MODEL_500e75be35e1461b895f61982639bd1b",
              "IPY_MODEL_913729a0b48440dd9ae2a5d5df0b5e57",
              "IPY_MODEL_cf589ff9a496443989c1c9e6044f1088"
            ],
            "layout": "IPY_MODEL_4993c8eb2a0e4a41a6f6e3949e01821b"
          }
        },
        "500e75be35e1461b895f61982639bd1b": {
          "model_module": "@jupyter-widgets/controls",
          "model_name": "HTMLModel",
          "model_module_version": "1.5.0",
          "state": {
            "_dom_classes": [],
            "_model_module": "@jupyter-widgets/controls",
            "_model_module_version": "1.5.0",
            "_model_name": "HTMLModel",
            "_view_count": null,
            "_view_module": "@jupyter-widgets/controls",
            "_view_module_version": "1.5.0",
            "_view_name": "HTMLView",
            "description": "",
            "description_tooltip": null,
            "layout": "IPY_MODEL_d5bfbbc593014f4e9bb55bac6b891da4",
            "placeholder": "​",
            "style": "IPY_MODEL_cf9d99d7d94544cb8dfb56627d567d46",
            "value": "modules.json: 100%"
          }
        },
        "913729a0b48440dd9ae2a5d5df0b5e57": {
          "model_module": "@jupyter-widgets/controls",
          "model_name": "FloatProgressModel",
          "model_module_version": "1.5.0",
          "state": {
            "_dom_classes": [],
            "_model_module": "@jupyter-widgets/controls",
            "_model_module_version": "1.5.0",
            "_model_name": "FloatProgressModel",
            "_view_count": null,
            "_view_module": "@jupyter-widgets/controls",
            "_view_module_version": "1.5.0",
            "_view_name": "ProgressView",
            "bar_style": "success",
            "description": "",
            "description_tooltip": null,
            "layout": "IPY_MODEL_06122443e8554faabb384a7ea4902c55",
            "max": 341,
            "min": 0,
            "orientation": "horizontal",
            "style": "IPY_MODEL_49144e9f52eb4f5e94bccd7fb0adbae3",
            "value": 341
          }
        },
        "cf589ff9a496443989c1c9e6044f1088": {
          "model_module": "@jupyter-widgets/controls",
          "model_name": "HTMLModel",
          "model_module_version": "1.5.0",
          "state": {
            "_dom_classes": [],
            "_model_module": "@jupyter-widgets/controls",
            "_model_module_version": "1.5.0",
            "_model_name": "HTMLModel",
            "_view_count": null,
            "_view_module": "@jupyter-widgets/controls",
            "_view_module_version": "1.5.0",
            "_view_name": "HTMLView",
            "description": "",
            "description_tooltip": null,
            "layout": "IPY_MODEL_777e1e1d55a54f4496e772c3a2a89af0",
            "placeholder": "​",
            "style": "IPY_MODEL_d9cb298469764e028f3b500f3ec9e14b",
            "value": " 341/341 [00:00&lt;00:00, 6.49kB/s]"
          }
        },
        "4993c8eb2a0e4a41a6f6e3949e01821b": {
          "model_module": "@jupyter-widgets/base",
          "model_name": "LayoutModel",
          "model_module_version": "1.2.0",
          "state": {
            "_model_module": "@jupyter-widgets/base",
            "_model_module_version": "1.2.0",
            "_model_name": "LayoutModel",
            "_view_count": null,
            "_view_module": "@jupyter-widgets/base",
            "_view_module_version": "1.2.0",
            "_view_name": "LayoutView",
            "align_content": null,
            "align_items": null,
            "align_self": null,
            "border": null,
            "bottom": null,
            "display": null,
            "flex": null,
            "flex_flow": null,
            "grid_area": null,
            "grid_auto_columns": null,
            "grid_auto_flow": null,
            "grid_auto_rows": null,
            "grid_column": null,
            "grid_gap": null,
            "grid_row": null,
            "grid_template_areas": null,
            "grid_template_columns": null,
            "grid_template_rows": null,
            "height": null,
            "justify_content": null,
            "justify_items": null,
            "left": null,
            "margin": null,
            "max_height": null,
            "max_width": null,
            "min_height": null,
            "min_width": null,
            "object_fit": null,
            "object_position": null,
            "order": null,
            "overflow": null,
            "overflow_x": null,
            "overflow_y": null,
            "padding": null,
            "right": null,
            "top": null,
            "visibility": null,
            "width": null
          }
        },
        "d5bfbbc593014f4e9bb55bac6b891da4": {
          "model_module": "@jupyter-widgets/base",
          "model_name": "LayoutModel",
          "model_module_version": "1.2.0",
          "state": {
            "_model_module": "@jupyter-widgets/base",
            "_model_module_version": "1.2.0",
            "_model_name": "LayoutModel",
            "_view_count": null,
            "_view_module": "@jupyter-widgets/base",
            "_view_module_version": "1.2.0",
            "_view_name": "LayoutView",
            "align_content": null,
            "align_items": null,
            "align_self": null,
            "border": null,
            "bottom": null,
            "display": null,
            "flex": null,
            "flex_flow": null,
            "grid_area": null,
            "grid_auto_columns": null,
            "grid_auto_flow": null,
            "grid_auto_rows": null,
            "grid_column": null,
            "grid_gap": null,
            "grid_row": null,
            "grid_template_areas": null,
            "grid_template_columns": null,
            "grid_template_rows": null,
            "height": null,
            "justify_content": null,
            "justify_items": null,
            "left": null,
            "margin": null,
            "max_height": null,
            "max_width": null,
            "min_height": null,
            "min_width": null,
            "object_fit": null,
            "object_position": null,
            "order": null,
            "overflow": null,
            "overflow_x": null,
            "overflow_y": null,
            "padding": null,
            "right": null,
            "top": null,
            "visibility": null,
            "width": null
          }
        },
        "cf9d99d7d94544cb8dfb56627d567d46": {
          "model_module": "@jupyter-widgets/controls",
          "model_name": "DescriptionStyleModel",
          "model_module_version": "1.5.0",
          "state": {
            "_model_module": "@jupyter-widgets/controls",
            "_model_module_version": "1.5.0",
            "_model_name": "DescriptionStyleModel",
            "_view_count": null,
            "_view_module": "@jupyter-widgets/base",
            "_view_module_version": "1.2.0",
            "_view_name": "StyleView",
            "description_width": ""
          }
        },
        "06122443e8554faabb384a7ea4902c55": {
          "model_module": "@jupyter-widgets/base",
          "model_name": "LayoutModel",
          "model_module_version": "1.2.0",
          "state": {
            "_model_module": "@jupyter-widgets/base",
            "_model_module_version": "1.2.0",
            "_model_name": "LayoutModel",
            "_view_count": null,
            "_view_module": "@jupyter-widgets/base",
            "_view_module_version": "1.2.0",
            "_view_name": "LayoutView",
            "align_content": null,
            "align_items": null,
            "align_self": null,
            "border": null,
            "bottom": null,
            "display": null,
            "flex": null,
            "flex_flow": null,
            "grid_area": null,
            "grid_auto_columns": null,
            "grid_auto_flow": null,
            "grid_auto_rows": null,
            "grid_column": null,
            "grid_gap": null,
            "grid_row": null,
            "grid_template_areas": null,
            "grid_template_columns": null,
            "grid_template_rows": null,
            "height": null,
            "justify_content": null,
            "justify_items": null,
            "left": null,
            "margin": null,
            "max_height": null,
            "max_width": null,
            "min_height": null,
            "min_width": null,
            "object_fit": null,
            "object_position": null,
            "order": null,
            "overflow": null,
            "overflow_x": null,
            "overflow_y": null,
            "padding": null,
            "right": null,
            "top": null,
            "visibility": null,
            "width": null
          }
        },
        "49144e9f52eb4f5e94bccd7fb0adbae3": {
          "model_module": "@jupyter-widgets/controls",
          "model_name": "ProgressStyleModel",
          "model_module_version": "1.5.0",
          "state": {
            "_model_module": "@jupyter-widgets/controls",
            "_model_module_version": "1.5.0",
            "_model_name": "ProgressStyleModel",
            "_view_count": null,
            "_view_module": "@jupyter-widgets/base",
            "_view_module_version": "1.2.0",
            "_view_name": "StyleView",
            "bar_color": null,
            "description_width": ""
          }
        },
        "777e1e1d55a54f4496e772c3a2a89af0": {
          "model_module": "@jupyter-widgets/base",
          "model_name": "LayoutModel",
          "model_module_version": "1.2.0",
          "state": {
            "_model_module": "@jupyter-widgets/base",
            "_model_module_version": "1.2.0",
            "_model_name": "LayoutModel",
            "_view_count": null,
            "_view_module": "@jupyter-widgets/base",
            "_view_module_version": "1.2.0",
            "_view_name": "LayoutView",
            "align_content": null,
            "align_items": null,
            "align_self": null,
            "border": null,
            "bottom": null,
            "display": null,
            "flex": null,
            "flex_flow": null,
            "grid_area": null,
            "grid_auto_columns": null,
            "grid_auto_flow": null,
            "grid_auto_rows": null,
            "grid_column": null,
            "grid_gap": null,
            "grid_row": null,
            "grid_template_areas": null,
            "grid_template_columns": null,
            "grid_template_rows": null,
            "height": null,
            "justify_content": null,
            "justify_items": null,
            "left": null,
            "margin": null,
            "max_height": null,
            "max_width": null,
            "min_height": null,
            "min_width": null,
            "object_fit": null,
            "object_position": null,
            "order": null,
            "overflow": null,
            "overflow_x": null,
            "overflow_y": null,
            "padding": null,
            "right": null,
            "top": null,
            "visibility": null,
            "width": null
          }
        },
        "d9cb298469764e028f3b500f3ec9e14b": {
          "model_module": "@jupyter-widgets/controls",
          "model_name": "DescriptionStyleModel",
          "model_module_version": "1.5.0",
          "state": {
            "_model_module": "@jupyter-widgets/controls",
            "_model_module_version": "1.5.0",
            "_model_name": "DescriptionStyleModel",
            "_view_count": null,
            "_view_module": "@jupyter-widgets/base",
            "_view_module_version": "1.2.0",
            "_view_name": "StyleView",
            "description_width": ""
          }
        },
        "aa1b41b138304119a62b27ec42e146cb": {
          "model_module": "@jupyter-widgets/controls",
          "model_name": "HBoxModel",
          "model_module_version": "1.5.0",
          "state": {
            "_dom_classes": [],
            "_model_module": "@jupyter-widgets/controls",
            "_model_module_version": "1.5.0",
            "_model_name": "HBoxModel",
            "_view_count": null,
            "_view_module": "@jupyter-widgets/controls",
            "_view_module_version": "1.5.0",
            "_view_name": "HBoxView",
            "box_style": "",
            "children": [
              "IPY_MODEL_6caed51af8524bcbace64f87229ff0e5",
              "IPY_MODEL_c49efd4370934537a0c4cd736e58bb81",
              "IPY_MODEL_f5dbc6248e164a4aa890132d8cbd9804"
            ],
            "layout": "IPY_MODEL_5d63ed7ff7da4909baceca70b4419100"
          }
        },
        "6caed51af8524bcbace64f87229ff0e5": {
          "model_module": "@jupyter-widgets/controls",
          "model_name": "HTMLModel",
          "model_module_version": "1.5.0",
          "state": {
            "_dom_classes": [],
            "_model_module": "@jupyter-widgets/controls",
            "_model_module_version": "1.5.0",
            "_model_name": "HTMLModel",
            "_view_count": null,
            "_view_module": "@jupyter-widgets/controls",
            "_view_module_version": "1.5.0",
            "_view_name": "HTMLView",
            "description": "",
            "description_tooltip": null,
            "layout": "IPY_MODEL_ac614b8aa79b4779ad56c2bb07fb0097",
            "placeholder": "​",
            "style": "IPY_MODEL_24f33576e754420f9a3b670483100a4d",
            "value": "config_sentence_transformers.json: 100%"
          }
        },
        "c49efd4370934537a0c4cd736e58bb81": {
          "model_module": "@jupyter-widgets/controls",
          "model_name": "FloatProgressModel",
          "model_module_version": "1.5.0",
          "state": {
            "_dom_classes": [],
            "_model_module": "@jupyter-widgets/controls",
            "_model_module_version": "1.5.0",
            "_model_name": "FloatProgressModel",
            "_view_count": null,
            "_view_module": "@jupyter-widgets/controls",
            "_view_module_version": "1.5.0",
            "_view_name": "ProgressView",
            "bar_style": "success",
            "description": "",
            "description_tooltip": null,
            "layout": "IPY_MODEL_45a9032b22074526b7916e8b020ab44d",
            "max": 122,
            "min": 0,
            "orientation": "horizontal",
            "style": "IPY_MODEL_e6cfd853b5fa4d89974e5b5dacbdaa55",
            "value": 122
          }
        },
        "f5dbc6248e164a4aa890132d8cbd9804": {
          "model_module": "@jupyter-widgets/controls",
          "model_name": "HTMLModel",
          "model_module_version": "1.5.0",
          "state": {
            "_dom_classes": [],
            "_model_module": "@jupyter-widgets/controls",
            "_model_module_version": "1.5.0",
            "_model_name": "HTMLModel",
            "_view_count": null,
            "_view_module": "@jupyter-widgets/controls",
            "_view_module_version": "1.5.0",
            "_view_name": "HTMLView",
            "description": "",
            "description_tooltip": null,
            "layout": "IPY_MODEL_8b38a10ad4884d67b8ebe75beca834d6",
            "placeholder": "​",
            "style": "IPY_MODEL_7f2931c7da154450818a7f2af6cfcf4e",
            "value": " 122/122 [00:00&lt;00:00, 1.46kB/s]"
          }
        },
        "5d63ed7ff7da4909baceca70b4419100": {
          "model_module": "@jupyter-widgets/base",
          "model_name": "LayoutModel",
          "model_module_version": "1.2.0",
          "state": {
            "_model_module": "@jupyter-widgets/base",
            "_model_module_version": "1.2.0",
            "_model_name": "LayoutModel",
            "_view_count": null,
            "_view_module": "@jupyter-widgets/base",
            "_view_module_version": "1.2.0",
            "_view_name": "LayoutView",
            "align_content": null,
            "align_items": null,
            "align_self": null,
            "border": null,
            "bottom": null,
            "display": null,
            "flex": null,
            "flex_flow": null,
            "grid_area": null,
            "grid_auto_columns": null,
            "grid_auto_flow": null,
            "grid_auto_rows": null,
            "grid_column": null,
            "grid_gap": null,
            "grid_row": null,
            "grid_template_areas": null,
            "grid_template_columns": null,
            "grid_template_rows": null,
            "height": null,
            "justify_content": null,
            "justify_items": null,
            "left": null,
            "margin": null,
            "max_height": null,
            "max_width": null,
            "min_height": null,
            "min_width": null,
            "object_fit": null,
            "object_position": null,
            "order": null,
            "overflow": null,
            "overflow_x": null,
            "overflow_y": null,
            "padding": null,
            "right": null,
            "top": null,
            "visibility": null,
            "width": null
          }
        },
        "ac614b8aa79b4779ad56c2bb07fb0097": {
          "model_module": "@jupyter-widgets/base",
          "model_name": "LayoutModel",
          "model_module_version": "1.2.0",
          "state": {
            "_model_module": "@jupyter-widgets/base",
            "_model_module_version": "1.2.0",
            "_model_name": "LayoutModel",
            "_view_count": null,
            "_view_module": "@jupyter-widgets/base",
            "_view_module_version": "1.2.0",
            "_view_name": "LayoutView",
            "align_content": null,
            "align_items": null,
            "align_self": null,
            "border": null,
            "bottom": null,
            "display": null,
            "flex": null,
            "flex_flow": null,
            "grid_area": null,
            "grid_auto_columns": null,
            "grid_auto_flow": null,
            "grid_auto_rows": null,
            "grid_column": null,
            "grid_gap": null,
            "grid_row": null,
            "grid_template_areas": null,
            "grid_template_columns": null,
            "grid_template_rows": null,
            "height": null,
            "justify_content": null,
            "justify_items": null,
            "left": null,
            "margin": null,
            "max_height": null,
            "max_width": null,
            "min_height": null,
            "min_width": null,
            "object_fit": null,
            "object_position": null,
            "order": null,
            "overflow": null,
            "overflow_x": null,
            "overflow_y": null,
            "padding": null,
            "right": null,
            "top": null,
            "visibility": null,
            "width": null
          }
        },
        "24f33576e754420f9a3b670483100a4d": {
          "model_module": "@jupyter-widgets/controls",
          "model_name": "DescriptionStyleModel",
          "model_module_version": "1.5.0",
          "state": {
            "_model_module": "@jupyter-widgets/controls",
            "_model_module_version": "1.5.0",
            "_model_name": "DescriptionStyleModel",
            "_view_count": null,
            "_view_module": "@jupyter-widgets/base",
            "_view_module_version": "1.2.0",
            "_view_name": "StyleView",
            "description_width": ""
          }
        },
        "45a9032b22074526b7916e8b020ab44d": {
          "model_module": "@jupyter-widgets/base",
          "model_name": "LayoutModel",
          "model_module_version": "1.2.0",
          "state": {
            "_model_module": "@jupyter-widgets/base",
            "_model_module_version": "1.2.0",
            "_model_name": "LayoutModel",
            "_view_count": null,
            "_view_module": "@jupyter-widgets/base",
            "_view_module_version": "1.2.0",
            "_view_name": "LayoutView",
            "align_content": null,
            "align_items": null,
            "align_self": null,
            "border": null,
            "bottom": null,
            "display": null,
            "flex": null,
            "flex_flow": null,
            "grid_area": null,
            "grid_auto_columns": null,
            "grid_auto_flow": null,
            "grid_auto_rows": null,
            "grid_column": null,
            "grid_gap": null,
            "grid_row": null,
            "grid_template_areas": null,
            "grid_template_columns": null,
            "grid_template_rows": null,
            "height": null,
            "justify_content": null,
            "justify_items": null,
            "left": null,
            "margin": null,
            "max_height": null,
            "max_width": null,
            "min_height": null,
            "min_width": null,
            "object_fit": null,
            "object_position": null,
            "order": null,
            "overflow": null,
            "overflow_x": null,
            "overflow_y": null,
            "padding": null,
            "right": null,
            "top": null,
            "visibility": null,
            "width": null
          }
        },
        "e6cfd853b5fa4d89974e5b5dacbdaa55": {
          "model_module": "@jupyter-widgets/controls",
          "model_name": "ProgressStyleModel",
          "model_module_version": "1.5.0",
          "state": {
            "_model_module": "@jupyter-widgets/controls",
            "_model_module_version": "1.5.0",
            "_model_name": "ProgressStyleModel",
            "_view_count": null,
            "_view_module": "@jupyter-widgets/base",
            "_view_module_version": "1.2.0",
            "_view_name": "StyleView",
            "bar_color": null,
            "description_width": ""
          }
        },
        "8b38a10ad4884d67b8ebe75beca834d6": {
          "model_module": "@jupyter-widgets/base",
          "model_name": "LayoutModel",
          "model_module_version": "1.2.0",
          "state": {
            "_model_module": "@jupyter-widgets/base",
            "_model_module_version": "1.2.0",
            "_model_name": "LayoutModel",
            "_view_count": null,
            "_view_module": "@jupyter-widgets/base",
            "_view_module_version": "1.2.0",
            "_view_name": "LayoutView",
            "align_content": null,
            "align_items": null,
            "align_self": null,
            "border": null,
            "bottom": null,
            "display": null,
            "flex": null,
            "flex_flow": null,
            "grid_area": null,
            "grid_auto_columns": null,
            "grid_auto_flow": null,
            "grid_auto_rows": null,
            "grid_column": null,
            "grid_gap": null,
            "grid_row": null,
            "grid_template_areas": null,
            "grid_template_columns": null,
            "grid_template_rows": null,
            "height": null,
            "justify_content": null,
            "justify_items": null,
            "left": null,
            "margin": null,
            "max_height": null,
            "max_width": null,
            "min_height": null,
            "min_width": null,
            "object_fit": null,
            "object_position": null,
            "order": null,
            "overflow": null,
            "overflow_x": null,
            "overflow_y": null,
            "padding": null,
            "right": null,
            "top": null,
            "visibility": null,
            "width": null
          }
        },
        "7f2931c7da154450818a7f2af6cfcf4e": {
          "model_module": "@jupyter-widgets/controls",
          "model_name": "DescriptionStyleModel",
          "model_module_version": "1.5.0",
          "state": {
            "_model_module": "@jupyter-widgets/controls",
            "_model_module_version": "1.5.0",
            "_model_name": "DescriptionStyleModel",
            "_view_count": null,
            "_view_module": "@jupyter-widgets/base",
            "_view_module_version": "1.2.0",
            "_view_name": "StyleView",
            "description_width": ""
          }
        },
        "b192b5fa541a4573943c141052917f5b": {
          "model_module": "@jupyter-widgets/controls",
          "model_name": "HBoxModel",
          "model_module_version": "1.5.0",
          "state": {
            "_dom_classes": [],
            "_model_module": "@jupyter-widgets/controls",
            "_model_module_version": "1.5.0",
            "_model_name": "HBoxModel",
            "_view_count": null,
            "_view_module": "@jupyter-widgets/controls",
            "_view_module_version": "1.5.0",
            "_view_name": "HBoxView",
            "box_style": "",
            "children": [
              "IPY_MODEL_26d66a5bd9954399bb6262a40096b5f3",
              "IPY_MODEL_88e88246b9114335bb6ff0aed16f7df3",
              "IPY_MODEL_220a4559b0bd43ecafc1d74d455654fa"
            ],
            "layout": "IPY_MODEL_2a1f498f1a264349a008fdd8e077f151"
          }
        },
        "26d66a5bd9954399bb6262a40096b5f3": {
          "model_module": "@jupyter-widgets/controls",
          "model_name": "HTMLModel",
          "model_module_version": "1.5.0",
          "state": {
            "_dom_classes": [],
            "_model_module": "@jupyter-widgets/controls",
            "_model_module_version": "1.5.0",
            "_model_name": "HTMLModel",
            "_view_count": null,
            "_view_module": "@jupyter-widgets/controls",
            "_view_module_version": "1.5.0",
            "_view_name": "HTMLView",
            "description": "",
            "description_tooltip": null,
            "layout": "IPY_MODEL_3dca5b4e20dd452c8b265c9c522e2dee",
            "placeholder": "​",
            "style": "IPY_MODEL_818fc36991b54672be5bd633fc111ee6",
            "value": "README.md: 100%"
          }
        },
        "88e88246b9114335bb6ff0aed16f7df3": {
          "model_module": "@jupyter-widgets/controls",
          "model_name": "FloatProgressModel",
          "model_module_version": "1.5.0",
          "state": {
            "_dom_classes": [],
            "_model_module": "@jupyter-widgets/controls",
            "_model_module_version": "1.5.0",
            "_model_name": "FloatProgressModel",
            "_view_count": null,
            "_view_module": "@jupyter-widgets/controls",
            "_view_module_version": "1.5.0",
            "_view_name": "ProgressView",
            "bar_style": "success",
            "description": "",
            "description_tooltip": null,
            "layout": "IPY_MODEL_ed0eee4fc8484bbab7f8a6780901c4b4",
            "max": 2694,
            "min": 0,
            "orientation": "horizontal",
            "style": "IPY_MODEL_a09cbce72a3d4a0ab7fa3a69a28a5985",
            "value": 2694
          }
        },
        "220a4559b0bd43ecafc1d74d455654fa": {
          "model_module": "@jupyter-widgets/controls",
          "model_name": "HTMLModel",
          "model_module_version": "1.5.0",
          "state": {
            "_dom_classes": [],
            "_model_module": "@jupyter-widgets/controls",
            "_model_module_version": "1.5.0",
            "_model_name": "HTMLModel",
            "_view_count": null,
            "_view_module": "@jupyter-widgets/controls",
            "_view_module_version": "1.5.0",
            "_view_name": "HTMLView",
            "description": "",
            "description_tooltip": null,
            "layout": "IPY_MODEL_72fab9faa90e4a8bae47b41e1ec6baba",
            "placeholder": "​",
            "style": "IPY_MODEL_32d57f77f16c41f387822dbba5f987e9",
            "value": " 2.69k/2.69k [00:00&lt;00:00, 33.2kB/s]"
          }
        },
        "2a1f498f1a264349a008fdd8e077f151": {
          "model_module": "@jupyter-widgets/base",
          "model_name": "LayoutModel",
          "model_module_version": "1.2.0",
          "state": {
            "_model_module": "@jupyter-widgets/base",
            "_model_module_version": "1.2.0",
            "_model_name": "LayoutModel",
            "_view_count": null,
            "_view_module": "@jupyter-widgets/base",
            "_view_module_version": "1.2.0",
            "_view_name": "LayoutView",
            "align_content": null,
            "align_items": null,
            "align_self": null,
            "border": null,
            "bottom": null,
            "display": null,
            "flex": null,
            "flex_flow": null,
            "grid_area": null,
            "grid_auto_columns": null,
            "grid_auto_flow": null,
            "grid_auto_rows": null,
            "grid_column": null,
            "grid_gap": null,
            "grid_row": null,
            "grid_template_areas": null,
            "grid_template_columns": null,
            "grid_template_rows": null,
            "height": null,
            "justify_content": null,
            "justify_items": null,
            "left": null,
            "margin": null,
            "max_height": null,
            "max_width": null,
            "min_height": null,
            "min_width": null,
            "object_fit": null,
            "object_position": null,
            "order": null,
            "overflow": null,
            "overflow_x": null,
            "overflow_y": null,
            "padding": null,
            "right": null,
            "top": null,
            "visibility": null,
            "width": null
          }
        },
        "3dca5b4e20dd452c8b265c9c522e2dee": {
          "model_module": "@jupyter-widgets/base",
          "model_name": "LayoutModel",
          "model_module_version": "1.2.0",
          "state": {
            "_model_module": "@jupyter-widgets/base",
            "_model_module_version": "1.2.0",
            "_model_name": "LayoutModel",
            "_view_count": null,
            "_view_module": "@jupyter-widgets/base",
            "_view_module_version": "1.2.0",
            "_view_name": "LayoutView",
            "align_content": null,
            "align_items": null,
            "align_self": null,
            "border": null,
            "bottom": null,
            "display": null,
            "flex": null,
            "flex_flow": null,
            "grid_area": null,
            "grid_auto_columns": null,
            "grid_auto_flow": null,
            "grid_auto_rows": null,
            "grid_column": null,
            "grid_gap": null,
            "grid_row": null,
            "grid_template_areas": null,
            "grid_template_columns": null,
            "grid_template_rows": null,
            "height": null,
            "justify_content": null,
            "justify_items": null,
            "left": null,
            "margin": null,
            "max_height": null,
            "max_width": null,
            "min_height": null,
            "min_width": null,
            "object_fit": null,
            "object_position": null,
            "order": null,
            "overflow": null,
            "overflow_x": null,
            "overflow_y": null,
            "padding": null,
            "right": null,
            "top": null,
            "visibility": null,
            "width": null
          }
        },
        "818fc36991b54672be5bd633fc111ee6": {
          "model_module": "@jupyter-widgets/controls",
          "model_name": "DescriptionStyleModel",
          "model_module_version": "1.5.0",
          "state": {
            "_model_module": "@jupyter-widgets/controls",
            "_model_module_version": "1.5.0",
            "_model_name": "DescriptionStyleModel",
            "_view_count": null,
            "_view_module": "@jupyter-widgets/base",
            "_view_module_version": "1.2.0",
            "_view_name": "StyleView",
            "description_width": ""
          }
        },
        "ed0eee4fc8484bbab7f8a6780901c4b4": {
          "model_module": "@jupyter-widgets/base",
          "model_name": "LayoutModel",
          "model_module_version": "1.2.0",
          "state": {
            "_model_module": "@jupyter-widgets/base",
            "_model_module_version": "1.2.0",
            "_model_name": "LayoutModel",
            "_view_count": null,
            "_view_module": "@jupyter-widgets/base",
            "_view_module_version": "1.2.0",
            "_view_name": "LayoutView",
            "align_content": null,
            "align_items": null,
            "align_self": null,
            "border": null,
            "bottom": null,
            "display": null,
            "flex": null,
            "flex_flow": null,
            "grid_area": null,
            "grid_auto_columns": null,
            "grid_auto_flow": null,
            "grid_auto_rows": null,
            "grid_column": null,
            "grid_gap": null,
            "grid_row": null,
            "grid_template_areas": null,
            "grid_template_columns": null,
            "grid_template_rows": null,
            "height": null,
            "justify_content": null,
            "justify_items": null,
            "left": null,
            "margin": null,
            "max_height": null,
            "max_width": null,
            "min_height": null,
            "min_width": null,
            "object_fit": null,
            "object_position": null,
            "order": null,
            "overflow": null,
            "overflow_x": null,
            "overflow_y": null,
            "padding": null,
            "right": null,
            "top": null,
            "visibility": null,
            "width": null
          }
        },
        "a09cbce72a3d4a0ab7fa3a69a28a5985": {
          "model_module": "@jupyter-widgets/controls",
          "model_name": "ProgressStyleModel",
          "model_module_version": "1.5.0",
          "state": {
            "_model_module": "@jupyter-widgets/controls",
            "_model_module_version": "1.5.0",
            "_model_name": "ProgressStyleModel",
            "_view_count": null,
            "_view_module": "@jupyter-widgets/base",
            "_view_module_version": "1.2.0",
            "_view_name": "StyleView",
            "bar_color": null,
            "description_width": ""
          }
        },
        "72fab9faa90e4a8bae47b41e1ec6baba": {
          "model_module": "@jupyter-widgets/base",
          "model_name": "LayoutModel",
          "model_module_version": "1.2.0",
          "state": {
            "_model_module": "@jupyter-widgets/base",
            "_model_module_version": "1.2.0",
            "_model_name": "LayoutModel",
            "_view_count": null,
            "_view_module": "@jupyter-widgets/base",
            "_view_module_version": "1.2.0",
            "_view_name": "LayoutView",
            "align_content": null,
            "align_items": null,
            "align_self": null,
            "border": null,
            "bottom": null,
            "display": null,
            "flex": null,
            "flex_flow": null,
            "grid_area": null,
            "grid_auto_columns": null,
            "grid_auto_flow": null,
            "grid_auto_rows": null,
            "grid_column": null,
            "grid_gap": null,
            "grid_row": null,
            "grid_template_areas": null,
            "grid_template_columns": null,
            "grid_template_rows": null,
            "height": null,
            "justify_content": null,
            "justify_items": null,
            "left": null,
            "margin": null,
            "max_height": null,
            "max_width": null,
            "min_height": null,
            "min_width": null,
            "object_fit": null,
            "object_position": null,
            "order": null,
            "overflow": null,
            "overflow_x": null,
            "overflow_y": null,
            "padding": null,
            "right": null,
            "top": null,
            "visibility": null,
            "width": null
          }
        },
        "32d57f77f16c41f387822dbba5f987e9": {
          "model_module": "@jupyter-widgets/controls",
          "model_name": "DescriptionStyleModel",
          "model_module_version": "1.5.0",
          "state": {
            "_model_module": "@jupyter-widgets/controls",
            "_model_module_version": "1.5.0",
            "_model_name": "DescriptionStyleModel",
            "_view_count": null,
            "_view_module": "@jupyter-widgets/base",
            "_view_module_version": "1.2.0",
            "_view_name": "StyleView",
            "description_width": ""
          }
        },
        "004a52902a7f4568a3585bb467254914": {
          "model_module": "@jupyter-widgets/controls",
          "model_name": "HBoxModel",
          "model_module_version": "1.5.0",
          "state": {
            "_dom_classes": [],
            "_model_module": "@jupyter-widgets/controls",
            "_model_module_version": "1.5.0",
            "_model_name": "HBoxModel",
            "_view_count": null,
            "_view_module": "@jupyter-widgets/controls",
            "_view_module_version": "1.5.0",
            "_view_name": "HBoxView",
            "box_style": "",
            "children": [
              "IPY_MODEL_8ec98a2bf35f4b01a2bdf5d533031828",
              "IPY_MODEL_b40005e5d7e74d0382a6dd4691cd205b",
              "IPY_MODEL_845bbaeceff74671a8dedba47ba489a0"
            ],
            "layout": "IPY_MODEL_43a2fafe33d04ede8ea8ab8b73cccf5f"
          }
        },
        "8ec98a2bf35f4b01a2bdf5d533031828": {
          "model_module": "@jupyter-widgets/controls",
          "model_name": "HTMLModel",
          "model_module_version": "1.5.0",
          "state": {
            "_dom_classes": [],
            "_model_module": "@jupyter-widgets/controls",
            "_model_module_version": "1.5.0",
            "_model_name": "HTMLModel",
            "_view_count": null,
            "_view_module": "@jupyter-widgets/controls",
            "_view_module_version": "1.5.0",
            "_view_name": "HTMLView",
            "description": "",
            "description_tooltip": null,
            "layout": "IPY_MODEL_a31f62ea18e949a99e34690fd1ba63db",
            "placeholder": "​",
            "style": "IPY_MODEL_29aa54c0a2344576b8a443e6db8e0cc1",
            "value": "sentence_bert_config.json: 100%"
          }
        },
        "b40005e5d7e74d0382a6dd4691cd205b": {
          "model_module": "@jupyter-widgets/controls",
          "model_name": "FloatProgressModel",
          "model_module_version": "1.5.0",
          "state": {
            "_dom_classes": [],
            "_model_module": "@jupyter-widgets/controls",
            "_model_module_version": "1.5.0",
            "_model_name": "FloatProgressModel",
            "_view_count": null,
            "_view_module": "@jupyter-widgets/controls",
            "_view_module_version": "1.5.0",
            "_view_name": "ProgressView",
            "bar_style": "success",
            "description": "",
            "description_tooltip": null,
            "layout": "IPY_MODEL_f0a757719aff4f7ebc91ace547f3362c",
            "max": 53,
            "min": 0,
            "orientation": "horizontal",
            "style": "IPY_MODEL_900902520c974e43beca3535937a319c",
            "value": 53
          }
        },
        "845bbaeceff74671a8dedba47ba489a0": {
          "model_module": "@jupyter-widgets/controls",
          "model_name": "HTMLModel",
          "model_module_version": "1.5.0",
          "state": {
            "_dom_classes": [],
            "_model_module": "@jupyter-widgets/controls",
            "_model_module_version": "1.5.0",
            "_model_name": "HTMLModel",
            "_view_count": null,
            "_view_module": "@jupyter-widgets/controls",
            "_view_module_version": "1.5.0",
            "_view_name": "HTMLView",
            "description": "",
            "description_tooltip": null,
            "layout": "IPY_MODEL_ae99244f7fc640a4aa11e0059d69021b",
            "placeholder": "​",
            "style": "IPY_MODEL_ab11d771aa874066bf4a48061111e169",
            "value": " 53.0/53.0 [00:00&lt;00:00, 609B/s]"
          }
        },
        "43a2fafe33d04ede8ea8ab8b73cccf5f": {
          "model_module": "@jupyter-widgets/base",
          "model_name": "LayoutModel",
          "model_module_version": "1.2.0",
          "state": {
            "_model_module": "@jupyter-widgets/base",
            "_model_module_version": "1.2.0",
            "_model_name": "LayoutModel",
            "_view_count": null,
            "_view_module": "@jupyter-widgets/base",
            "_view_module_version": "1.2.0",
            "_view_name": "LayoutView",
            "align_content": null,
            "align_items": null,
            "align_self": null,
            "border": null,
            "bottom": null,
            "display": null,
            "flex": null,
            "flex_flow": null,
            "grid_area": null,
            "grid_auto_columns": null,
            "grid_auto_flow": null,
            "grid_auto_rows": null,
            "grid_column": null,
            "grid_gap": null,
            "grid_row": null,
            "grid_template_areas": null,
            "grid_template_columns": null,
            "grid_template_rows": null,
            "height": null,
            "justify_content": null,
            "justify_items": null,
            "left": null,
            "margin": null,
            "max_height": null,
            "max_width": null,
            "min_height": null,
            "min_width": null,
            "object_fit": null,
            "object_position": null,
            "order": null,
            "overflow": null,
            "overflow_x": null,
            "overflow_y": null,
            "padding": null,
            "right": null,
            "top": null,
            "visibility": null,
            "width": null
          }
        },
        "a31f62ea18e949a99e34690fd1ba63db": {
          "model_module": "@jupyter-widgets/base",
          "model_name": "LayoutModel",
          "model_module_version": "1.2.0",
          "state": {
            "_model_module": "@jupyter-widgets/base",
            "_model_module_version": "1.2.0",
            "_model_name": "LayoutModel",
            "_view_count": null,
            "_view_module": "@jupyter-widgets/base",
            "_view_module_version": "1.2.0",
            "_view_name": "LayoutView",
            "align_content": null,
            "align_items": null,
            "align_self": null,
            "border": null,
            "bottom": null,
            "display": null,
            "flex": null,
            "flex_flow": null,
            "grid_area": null,
            "grid_auto_columns": null,
            "grid_auto_flow": null,
            "grid_auto_rows": null,
            "grid_column": null,
            "grid_gap": null,
            "grid_row": null,
            "grid_template_areas": null,
            "grid_template_columns": null,
            "grid_template_rows": null,
            "height": null,
            "justify_content": null,
            "justify_items": null,
            "left": null,
            "margin": null,
            "max_height": null,
            "max_width": null,
            "min_height": null,
            "min_width": null,
            "object_fit": null,
            "object_position": null,
            "order": null,
            "overflow": null,
            "overflow_x": null,
            "overflow_y": null,
            "padding": null,
            "right": null,
            "top": null,
            "visibility": null,
            "width": null
          }
        },
        "29aa54c0a2344576b8a443e6db8e0cc1": {
          "model_module": "@jupyter-widgets/controls",
          "model_name": "DescriptionStyleModel",
          "model_module_version": "1.5.0",
          "state": {
            "_model_module": "@jupyter-widgets/controls",
            "_model_module_version": "1.5.0",
            "_model_name": "DescriptionStyleModel",
            "_view_count": null,
            "_view_module": "@jupyter-widgets/base",
            "_view_module_version": "1.2.0",
            "_view_name": "StyleView",
            "description_width": ""
          }
        },
        "f0a757719aff4f7ebc91ace547f3362c": {
          "model_module": "@jupyter-widgets/base",
          "model_name": "LayoutModel",
          "model_module_version": "1.2.0",
          "state": {
            "_model_module": "@jupyter-widgets/base",
            "_model_module_version": "1.2.0",
            "_model_name": "LayoutModel",
            "_view_count": null,
            "_view_module": "@jupyter-widgets/base",
            "_view_module_version": "1.2.0",
            "_view_name": "LayoutView",
            "align_content": null,
            "align_items": null,
            "align_self": null,
            "border": null,
            "bottom": null,
            "display": null,
            "flex": null,
            "flex_flow": null,
            "grid_area": null,
            "grid_auto_columns": null,
            "grid_auto_flow": null,
            "grid_auto_rows": null,
            "grid_column": null,
            "grid_gap": null,
            "grid_row": null,
            "grid_template_areas": null,
            "grid_template_columns": null,
            "grid_template_rows": null,
            "height": null,
            "justify_content": null,
            "justify_items": null,
            "left": null,
            "margin": null,
            "max_height": null,
            "max_width": null,
            "min_height": null,
            "min_width": null,
            "object_fit": null,
            "object_position": null,
            "order": null,
            "overflow": null,
            "overflow_x": null,
            "overflow_y": null,
            "padding": null,
            "right": null,
            "top": null,
            "visibility": null,
            "width": null
          }
        },
        "900902520c974e43beca3535937a319c": {
          "model_module": "@jupyter-widgets/controls",
          "model_name": "ProgressStyleModel",
          "model_module_version": "1.5.0",
          "state": {
            "_model_module": "@jupyter-widgets/controls",
            "_model_module_version": "1.5.0",
            "_model_name": "ProgressStyleModel",
            "_view_count": null,
            "_view_module": "@jupyter-widgets/base",
            "_view_module_version": "1.2.0",
            "_view_name": "StyleView",
            "bar_color": null,
            "description_width": ""
          }
        },
        "ae99244f7fc640a4aa11e0059d69021b": {
          "model_module": "@jupyter-widgets/base",
          "model_name": "LayoutModel",
          "model_module_version": "1.2.0",
          "state": {
            "_model_module": "@jupyter-widgets/base",
            "_model_module_version": "1.2.0",
            "_model_name": "LayoutModel",
            "_view_count": null,
            "_view_module": "@jupyter-widgets/base",
            "_view_module_version": "1.2.0",
            "_view_name": "LayoutView",
            "align_content": null,
            "align_items": null,
            "align_self": null,
            "border": null,
            "bottom": null,
            "display": null,
            "flex": null,
            "flex_flow": null,
            "grid_area": null,
            "grid_auto_columns": null,
            "grid_auto_flow": null,
            "grid_auto_rows": null,
            "grid_column": null,
            "grid_gap": null,
            "grid_row": null,
            "grid_template_areas": null,
            "grid_template_columns": null,
            "grid_template_rows": null,
            "height": null,
            "justify_content": null,
            "justify_items": null,
            "left": null,
            "margin": null,
            "max_height": null,
            "max_width": null,
            "min_height": null,
            "min_width": null,
            "object_fit": null,
            "object_position": null,
            "order": null,
            "overflow": null,
            "overflow_x": null,
            "overflow_y": null,
            "padding": null,
            "right": null,
            "top": null,
            "visibility": null,
            "width": null
          }
        },
        "ab11d771aa874066bf4a48061111e169": {
          "model_module": "@jupyter-widgets/controls",
          "model_name": "DescriptionStyleModel",
          "model_module_version": "1.5.0",
          "state": {
            "_model_module": "@jupyter-widgets/controls",
            "_model_module_version": "1.5.0",
            "_model_name": "DescriptionStyleModel",
            "_view_count": null,
            "_view_module": "@jupyter-widgets/base",
            "_view_module_version": "1.2.0",
            "_view_name": "StyleView",
            "description_width": ""
          }
        },
        "a0b80bf3fecb4cc49631e299d523f3cb": {
          "model_module": "@jupyter-widgets/controls",
          "model_name": "HBoxModel",
          "model_module_version": "1.5.0",
          "state": {
            "_dom_classes": [],
            "_model_module": "@jupyter-widgets/controls",
            "_model_module_version": "1.5.0",
            "_model_name": "HBoxModel",
            "_view_count": null,
            "_view_module": "@jupyter-widgets/controls",
            "_view_module_version": "1.5.0",
            "_view_name": "HBoxView",
            "box_style": "",
            "children": [
              "IPY_MODEL_1652f9b6b83741d2842c508ae2f1255a",
              "IPY_MODEL_6b7a1b9241584108a15e9187bd6da7e0",
              "IPY_MODEL_f1450beeeee049b1b7422921727487d0"
            ],
            "layout": "IPY_MODEL_cb7952533210421ea01f8eb10722a35d"
          }
        },
        "1652f9b6b83741d2842c508ae2f1255a": {
          "model_module": "@jupyter-widgets/controls",
          "model_name": "HTMLModel",
          "model_module_version": "1.5.0",
          "state": {
            "_dom_classes": [],
            "_model_module": "@jupyter-widgets/controls",
            "_model_module_version": "1.5.0",
            "_model_name": "HTMLModel",
            "_view_count": null,
            "_view_module": "@jupyter-widgets/controls",
            "_view_module_version": "1.5.0",
            "_view_name": "HTMLView",
            "description": "",
            "description_tooltip": null,
            "layout": "IPY_MODEL_778a15cabed04c398e9d4da8f53123ab",
            "placeholder": "​",
            "style": "IPY_MODEL_cbd249197e5e45c2baf067e05b3826c1",
            "value": "config.json: 100%"
          }
        },
        "6b7a1b9241584108a15e9187bd6da7e0": {
          "model_module": "@jupyter-widgets/controls",
          "model_name": "FloatProgressModel",
          "model_module_version": "1.5.0",
          "state": {
            "_dom_classes": [],
            "_model_module": "@jupyter-widgets/controls",
            "_model_module_version": "1.5.0",
            "_model_name": "FloatProgressModel",
            "_view_count": null,
            "_view_module": "@jupyter-widgets/controls",
            "_view_module_version": "1.5.0",
            "_view_name": "ProgressView",
            "bar_style": "success",
            "description": "",
            "description_tooltip": null,
            "layout": "IPY_MODEL_8d157ce973ca47329d32aa3319f407b9",
            "max": 610,
            "min": 0,
            "orientation": "horizontal",
            "style": "IPY_MODEL_dfb66815f68e4c01a56559baeb452c8f",
            "value": 610
          }
        },
        "f1450beeeee049b1b7422921727487d0": {
          "model_module": "@jupyter-widgets/controls",
          "model_name": "HTMLModel",
          "model_module_version": "1.5.0",
          "state": {
            "_dom_classes": [],
            "_model_module": "@jupyter-widgets/controls",
            "_model_module_version": "1.5.0",
            "_model_name": "HTMLModel",
            "_view_count": null,
            "_view_module": "@jupyter-widgets/controls",
            "_view_module_version": "1.5.0",
            "_view_name": "HTMLView",
            "description": "",
            "description_tooltip": null,
            "layout": "IPY_MODEL_7e7de4046969453387be2f4e89a7ab4d",
            "placeholder": "​",
            "style": "IPY_MODEL_eb534e247aff4056a520a6f62ae8e332",
            "value": " 610/610 [00:00&lt;00:00, 8.58kB/s]"
          }
        },
        "cb7952533210421ea01f8eb10722a35d": {
          "model_module": "@jupyter-widgets/base",
          "model_name": "LayoutModel",
          "model_module_version": "1.2.0",
          "state": {
            "_model_module": "@jupyter-widgets/base",
            "_model_module_version": "1.2.0",
            "_model_name": "LayoutModel",
            "_view_count": null,
            "_view_module": "@jupyter-widgets/base",
            "_view_module_version": "1.2.0",
            "_view_name": "LayoutView",
            "align_content": null,
            "align_items": null,
            "align_self": null,
            "border": null,
            "bottom": null,
            "display": null,
            "flex": null,
            "flex_flow": null,
            "grid_area": null,
            "grid_auto_columns": null,
            "grid_auto_flow": null,
            "grid_auto_rows": null,
            "grid_column": null,
            "grid_gap": null,
            "grid_row": null,
            "grid_template_areas": null,
            "grid_template_columns": null,
            "grid_template_rows": null,
            "height": null,
            "justify_content": null,
            "justify_items": null,
            "left": null,
            "margin": null,
            "max_height": null,
            "max_width": null,
            "min_height": null,
            "min_width": null,
            "object_fit": null,
            "object_position": null,
            "order": null,
            "overflow": null,
            "overflow_x": null,
            "overflow_y": null,
            "padding": null,
            "right": null,
            "top": null,
            "visibility": null,
            "width": null
          }
        },
        "778a15cabed04c398e9d4da8f53123ab": {
          "model_module": "@jupyter-widgets/base",
          "model_name": "LayoutModel",
          "model_module_version": "1.2.0",
          "state": {
            "_model_module": "@jupyter-widgets/base",
            "_model_module_version": "1.2.0",
            "_model_name": "LayoutModel",
            "_view_count": null,
            "_view_module": "@jupyter-widgets/base",
            "_view_module_version": "1.2.0",
            "_view_name": "LayoutView",
            "align_content": null,
            "align_items": null,
            "align_self": null,
            "border": null,
            "bottom": null,
            "display": null,
            "flex": null,
            "flex_flow": null,
            "grid_area": null,
            "grid_auto_columns": null,
            "grid_auto_flow": null,
            "grid_auto_rows": null,
            "grid_column": null,
            "grid_gap": null,
            "grid_row": null,
            "grid_template_areas": null,
            "grid_template_columns": null,
            "grid_template_rows": null,
            "height": null,
            "justify_content": null,
            "justify_items": null,
            "left": null,
            "margin": null,
            "max_height": null,
            "max_width": null,
            "min_height": null,
            "min_width": null,
            "object_fit": null,
            "object_position": null,
            "order": null,
            "overflow": null,
            "overflow_x": null,
            "overflow_y": null,
            "padding": null,
            "right": null,
            "top": null,
            "visibility": null,
            "width": null
          }
        },
        "cbd249197e5e45c2baf067e05b3826c1": {
          "model_module": "@jupyter-widgets/controls",
          "model_name": "DescriptionStyleModel",
          "model_module_version": "1.5.0",
          "state": {
            "_model_module": "@jupyter-widgets/controls",
            "_model_module_version": "1.5.0",
            "_model_name": "DescriptionStyleModel",
            "_view_count": null,
            "_view_module": "@jupyter-widgets/base",
            "_view_module_version": "1.2.0",
            "_view_name": "StyleView",
            "description_width": ""
          }
        },
        "8d157ce973ca47329d32aa3319f407b9": {
          "model_module": "@jupyter-widgets/base",
          "model_name": "LayoutModel",
          "model_module_version": "1.2.0",
          "state": {
            "_model_module": "@jupyter-widgets/base",
            "_model_module_version": "1.2.0",
            "_model_name": "LayoutModel",
            "_view_count": null,
            "_view_module": "@jupyter-widgets/base",
            "_view_module_version": "1.2.0",
            "_view_name": "LayoutView",
            "align_content": null,
            "align_items": null,
            "align_self": null,
            "border": null,
            "bottom": null,
            "display": null,
            "flex": null,
            "flex_flow": null,
            "grid_area": null,
            "grid_auto_columns": null,
            "grid_auto_flow": null,
            "grid_auto_rows": null,
            "grid_column": null,
            "grid_gap": null,
            "grid_row": null,
            "grid_template_areas": null,
            "grid_template_columns": null,
            "grid_template_rows": null,
            "height": null,
            "justify_content": null,
            "justify_items": null,
            "left": null,
            "margin": null,
            "max_height": null,
            "max_width": null,
            "min_height": null,
            "min_width": null,
            "object_fit": null,
            "object_position": null,
            "order": null,
            "overflow": null,
            "overflow_x": null,
            "overflow_y": null,
            "padding": null,
            "right": null,
            "top": null,
            "visibility": null,
            "width": null
          }
        },
        "dfb66815f68e4c01a56559baeb452c8f": {
          "model_module": "@jupyter-widgets/controls",
          "model_name": "ProgressStyleModel",
          "model_module_version": "1.5.0",
          "state": {
            "_model_module": "@jupyter-widgets/controls",
            "_model_module_version": "1.5.0",
            "_model_name": "ProgressStyleModel",
            "_view_count": null,
            "_view_module": "@jupyter-widgets/base",
            "_view_module_version": "1.2.0",
            "_view_name": "StyleView",
            "bar_color": null,
            "description_width": ""
          }
        },
        "7e7de4046969453387be2f4e89a7ab4d": {
          "model_module": "@jupyter-widgets/base",
          "model_name": "LayoutModel",
          "model_module_version": "1.2.0",
          "state": {
            "_model_module": "@jupyter-widgets/base",
            "_model_module_version": "1.2.0",
            "_model_name": "LayoutModel",
            "_view_count": null,
            "_view_module": "@jupyter-widgets/base",
            "_view_module_version": "1.2.0",
            "_view_name": "LayoutView",
            "align_content": null,
            "align_items": null,
            "align_self": null,
            "border": null,
            "bottom": null,
            "display": null,
            "flex": null,
            "flex_flow": null,
            "grid_area": null,
            "grid_auto_columns": null,
            "grid_auto_flow": null,
            "grid_auto_rows": null,
            "grid_column": null,
            "grid_gap": null,
            "grid_row": null,
            "grid_template_areas": null,
            "grid_template_columns": null,
            "grid_template_rows": null,
            "height": null,
            "justify_content": null,
            "justify_items": null,
            "left": null,
            "margin": null,
            "max_height": null,
            "max_width": null,
            "min_height": null,
            "min_width": null,
            "object_fit": null,
            "object_position": null,
            "order": null,
            "overflow": null,
            "overflow_x": null,
            "overflow_y": null,
            "padding": null,
            "right": null,
            "top": null,
            "visibility": null,
            "width": null
          }
        },
        "eb534e247aff4056a520a6f62ae8e332": {
          "model_module": "@jupyter-widgets/controls",
          "model_name": "DescriptionStyleModel",
          "model_module_version": "1.5.0",
          "state": {
            "_model_module": "@jupyter-widgets/controls",
            "_model_module_version": "1.5.0",
            "_model_name": "DescriptionStyleModel",
            "_view_count": null,
            "_view_module": "@jupyter-widgets/base",
            "_view_module_version": "1.2.0",
            "_view_name": "StyleView",
            "description_width": ""
          }
        },
        "8859a8d3bba84229aac1c7841caac8bb": {
          "model_module": "@jupyter-widgets/controls",
          "model_name": "HBoxModel",
          "model_module_version": "1.5.0",
          "state": {
            "_dom_classes": [],
            "_model_module": "@jupyter-widgets/controls",
            "_model_module_version": "1.5.0",
            "_model_name": "HBoxModel",
            "_view_count": null,
            "_view_module": "@jupyter-widgets/controls",
            "_view_module_version": "1.5.0",
            "_view_name": "HBoxView",
            "box_style": "",
            "children": [
              "IPY_MODEL_04ce10d56f46411e8ddd529c31ceec8a",
              "IPY_MODEL_1dbdff7b253043c3ab847474d3b12f0b",
              "IPY_MODEL_d16e8f588fb645e7bd8c0cf9dea1dfa3"
            ],
            "layout": "IPY_MODEL_65321d4eff234447832049b61f07e1b0"
          }
        },
        "04ce10d56f46411e8ddd529c31ceec8a": {
          "model_module": "@jupyter-widgets/controls",
          "model_name": "HTMLModel",
          "model_module_version": "1.5.0",
          "state": {
            "_dom_classes": [],
            "_model_module": "@jupyter-widgets/controls",
            "_model_module_version": "1.5.0",
            "_model_name": "HTMLModel",
            "_view_count": null,
            "_view_module": "@jupyter-widgets/controls",
            "_view_module_version": "1.5.0",
            "_view_name": "HTMLView",
            "description": "",
            "description_tooltip": null,
            "layout": "IPY_MODEL_89cb03b69ac44b229842f7f8a19cb3d5",
            "placeholder": "​",
            "style": "IPY_MODEL_cc6326a5225540b4b52f6231a8968ed4",
            "value": "pytorch_model.bin: 100%"
          }
        },
        "1dbdff7b253043c3ab847474d3b12f0b": {
          "model_module": "@jupyter-widgets/controls",
          "model_name": "FloatProgressModel",
          "model_module_version": "1.5.0",
          "state": {
            "_dom_classes": [],
            "_model_module": "@jupyter-widgets/controls",
            "_model_module_version": "1.5.0",
            "_model_name": "FloatProgressModel",
            "_view_count": null,
            "_view_module": "@jupyter-widgets/controls",
            "_view_module_version": "1.5.0",
            "_view_name": "ProgressView",
            "bar_style": "success",
            "description": "",
            "description_tooltip": null,
            "layout": "IPY_MODEL_428ca64347c6419799a109220da84df2",
            "max": 538971577,
            "min": 0,
            "orientation": "horizontal",
            "style": "IPY_MODEL_70a78af394a24ca18f9c2eb0d11d46ef",
            "value": 538971577
          }
        },
        "d16e8f588fb645e7bd8c0cf9dea1dfa3": {
          "model_module": "@jupyter-widgets/controls",
          "model_name": "HTMLModel",
          "model_module_version": "1.5.0",
          "state": {
            "_dom_classes": [],
            "_model_module": "@jupyter-widgets/controls",
            "_model_module_version": "1.5.0",
            "_model_name": "HTMLModel",
            "_view_count": null,
            "_view_module": "@jupyter-widgets/controls",
            "_view_module_version": "1.5.0",
            "_view_name": "HTMLView",
            "description": "",
            "description_tooltip": null,
            "layout": "IPY_MODEL_587ed208f7674a1a9ed73ed9ab2a1deb",
            "placeholder": "​",
            "style": "IPY_MODEL_33de18a3c5da422494a40a2df5f74229",
            "value": " 539M/539M [00:14&lt;00:00, 44.7MB/s]"
          }
        },
        "65321d4eff234447832049b61f07e1b0": {
          "model_module": "@jupyter-widgets/base",
          "model_name": "LayoutModel",
          "model_module_version": "1.2.0",
          "state": {
            "_model_module": "@jupyter-widgets/base",
            "_model_module_version": "1.2.0",
            "_model_name": "LayoutModel",
            "_view_count": null,
            "_view_module": "@jupyter-widgets/base",
            "_view_module_version": "1.2.0",
            "_view_name": "LayoutView",
            "align_content": null,
            "align_items": null,
            "align_self": null,
            "border": null,
            "bottom": null,
            "display": null,
            "flex": null,
            "flex_flow": null,
            "grid_area": null,
            "grid_auto_columns": null,
            "grid_auto_flow": null,
            "grid_auto_rows": null,
            "grid_column": null,
            "grid_gap": null,
            "grid_row": null,
            "grid_template_areas": null,
            "grid_template_columns": null,
            "grid_template_rows": null,
            "height": null,
            "justify_content": null,
            "justify_items": null,
            "left": null,
            "margin": null,
            "max_height": null,
            "max_width": null,
            "min_height": null,
            "min_width": null,
            "object_fit": null,
            "object_position": null,
            "order": null,
            "overflow": null,
            "overflow_x": null,
            "overflow_y": null,
            "padding": null,
            "right": null,
            "top": null,
            "visibility": null,
            "width": null
          }
        },
        "89cb03b69ac44b229842f7f8a19cb3d5": {
          "model_module": "@jupyter-widgets/base",
          "model_name": "LayoutModel",
          "model_module_version": "1.2.0",
          "state": {
            "_model_module": "@jupyter-widgets/base",
            "_model_module_version": "1.2.0",
            "_model_name": "LayoutModel",
            "_view_count": null,
            "_view_module": "@jupyter-widgets/base",
            "_view_module_version": "1.2.0",
            "_view_name": "LayoutView",
            "align_content": null,
            "align_items": null,
            "align_self": null,
            "border": null,
            "bottom": null,
            "display": null,
            "flex": null,
            "flex_flow": null,
            "grid_area": null,
            "grid_auto_columns": null,
            "grid_auto_flow": null,
            "grid_auto_rows": null,
            "grid_column": null,
            "grid_gap": null,
            "grid_row": null,
            "grid_template_areas": null,
            "grid_template_columns": null,
            "grid_template_rows": null,
            "height": null,
            "justify_content": null,
            "justify_items": null,
            "left": null,
            "margin": null,
            "max_height": null,
            "max_width": null,
            "min_height": null,
            "min_width": null,
            "object_fit": null,
            "object_position": null,
            "order": null,
            "overflow": null,
            "overflow_x": null,
            "overflow_y": null,
            "padding": null,
            "right": null,
            "top": null,
            "visibility": null,
            "width": null
          }
        },
        "cc6326a5225540b4b52f6231a8968ed4": {
          "model_module": "@jupyter-widgets/controls",
          "model_name": "DescriptionStyleModel",
          "model_module_version": "1.5.0",
          "state": {
            "_model_module": "@jupyter-widgets/controls",
            "_model_module_version": "1.5.0",
            "_model_name": "DescriptionStyleModel",
            "_view_count": null,
            "_view_module": "@jupyter-widgets/base",
            "_view_module_version": "1.2.0",
            "_view_name": "StyleView",
            "description_width": ""
          }
        },
        "428ca64347c6419799a109220da84df2": {
          "model_module": "@jupyter-widgets/base",
          "model_name": "LayoutModel",
          "model_module_version": "1.2.0",
          "state": {
            "_model_module": "@jupyter-widgets/base",
            "_model_module_version": "1.2.0",
            "_model_name": "LayoutModel",
            "_view_count": null,
            "_view_module": "@jupyter-widgets/base",
            "_view_module_version": "1.2.0",
            "_view_name": "LayoutView",
            "align_content": null,
            "align_items": null,
            "align_self": null,
            "border": null,
            "bottom": null,
            "display": null,
            "flex": null,
            "flex_flow": null,
            "grid_area": null,
            "grid_auto_columns": null,
            "grid_auto_flow": null,
            "grid_auto_rows": null,
            "grid_column": null,
            "grid_gap": null,
            "grid_row": null,
            "grid_template_areas": null,
            "grid_template_columns": null,
            "grid_template_rows": null,
            "height": null,
            "justify_content": null,
            "justify_items": null,
            "left": null,
            "margin": null,
            "max_height": null,
            "max_width": null,
            "min_height": null,
            "min_width": null,
            "object_fit": null,
            "object_position": null,
            "order": null,
            "overflow": null,
            "overflow_x": null,
            "overflow_y": null,
            "padding": null,
            "right": null,
            "top": null,
            "visibility": null,
            "width": null
          }
        },
        "70a78af394a24ca18f9c2eb0d11d46ef": {
          "model_module": "@jupyter-widgets/controls",
          "model_name": "ProgressStyleModel",
          "model_module_version": "1.5.0",
          "state": {
            "_model_module": "@jupyter-widgets/controls",
            "_model_module_version": "1.5.0",
            "_model_name": "ProgressStyleModel",
            "_view_count": null,
            "_view_module": "@jupyter-widgets/base",
            "_view_module_version": "1.2.0",
            "_view_name": "StyleView",
            "bar_color": null,
            "description_width": ""
          }
        },
        "587ed208f7674a1a9ed73ed9ab2a1deb": {
          "model_module": "@jupyter-widgets/base",
          "model_name": "LayoutModel",
          "model_module_version": "1.2.0",
          "state": {
            "_model_module": "@jupyter-widgets/base",
            "_model_module_version": "1.2.0",
            "_model_name": "LayoutModel",
            "_view_count": null,
            "_view_module": "@jupyter-widgets/base",
            "_view_module_version": "1.2.0",
            "_view_name": "LayoutView",
            "align_content": null,
            "align_items": null,
            "align_self": null,
            "border": null,
            "bottom": null,
            "display": null,
            "flex": null,
            "flex_flow": null,
            "grid_area": null,
            "grid_auto_columns": null,
            "grid_auto_flow": null,
            "grid_auto_rows": null,
            "grid_column": null,
            "grid_gap": null,
            "grid_row": null,
            "grid_template_areas": null,
            "grid_template_columns": null,
            "grid_template_rows": null,
            "height": null,
            "justify_content": null,
            "justify_items": null,
            "left": null,
            "margin": null,
            "max_height": null,
            "max_width": null,
            "min_height": null,
            "min_width": null,
            "object_fit": null,
            "object_position": null,
            "order": null,
            "overflow": null,
            "overflow_x": null,
            "overflow_y": null,
            "padding": null,
            "right": null,
            "top": null,
            "visibility": null,
            "width": null
          }
        },
        "33de18a3c5da422494a40a2df5f74229": {
          "model_module": "@jupyter-widgets/controls",
          "model_name": "DescriptionStyleModel",
          "model_module_version": "1.5.0",
          "state": {
            "_model_module": "@jupyter-widgets/controls",
            "_model_module_version": "1.5.0",
            "_model_name": "DescriptionStyleModel",
            "_view_count": null,
            "_view_module": "@jupyter-widgets/base",
            "_view_module_version": "1.2.0",
            "_view_name": "StyleView",
            "description_width": ""
          }
        },
        "94b3b2e4ce164c818116a50e9bf8b581": {
          "model_module": "@jupyter-widgets/controls",
          "model_name": "HBoxModel",
          "model_module_version": "1.5.0",
          "state": {
            "_dom_classes": [],
            "_model_module": "@jupyter-widgets/controls",
            "_model_module_version": "1.5.0",
            "_model_name": "HBoxModel",
            "_view_count": null,
            "_view_module": "@jupyter-widgets/controls",
            "_view_module_version": "1.5.0",
            "_view_name": "HBoxView",
            "box_style": "",
            "children": [
              "IPY_MODEL_f53e3ecfd40e4cbab3a99762d5f0a736",
              "IPY_MODEL_be57764af9e24bbfb623facf730607b8",
              "IPY_MODEL_398bb178a8124b679d48238ec2d5b5a7"
            ],
            "layout": "IPY_MODEL_ac4936c2d54f4237a5dd22c088d92c9f"
          }
        },
        "f53e3ecfd40e4cbab3a99762d5f0a736": {
          "model_module": "@jupyter-widgets/controls",
          "model_name": "HTMLModel",
          "model_module_version": "1.5.0",
          "state": {
            "_dom_classes": [],
            "_model_module": "@jupyter-widgets/controls",
            "_model_module_version": "1.5.0",
            "_model_name": "HTMLModel",
            "_view_count": null,
            "_view_module": "@jupyter-widgets/controls",
            "_view_module_version": "1.5.0",
            "_view_name": "HTMLView",
            "description": "",
            "description_tooltip": null,
            "layout": "IPY_MODEL_96a31f50e6dd435b8a0c524d03ccec0a",
            "placeholder": "​",
            "style": "IPY_MODEL_5582f3ae94b0412e9ff8508697cdcac5",
            "value": "tokenizer_config.json: 100%"
          }
        },
        "be57764af9e24bbfb623facf730607b8": {
          "model_module": "@jupyter-widgets/controls",
          "model_name": "FloatProgressModel",
          "model_module_version": "1.5.0",
          "state": {
            "_dom_classes": [],
            "_model_module": "@jupyter-widgets/controls",
            "_model_module_version": "1.5.0",
            "_model_name": "FloatProgressModel",
            "_view_count": null,
            "_view_module": "@jupyter-widgets/controls",
            "_view_module_version": "1.5.0",
            "_view_name": "ProgressView",
            "bar_style": "success",
            "description": "",
            "description_tooltip": null,
            "layout": "IPY_MODEL_8a0dc83c3f1c4e60a11d436fe53d0ca8",
            "max": 531,
            "min": 0,
            "orientation": "horizontal",
            "style": "IPY_MODEL_65dd981119394cb8bfaee0acf7c9887c",
            "value": 531
          }
        },
        "398bb178a8124b679d48238ec2d5b5a7": {
          "model_module": "@jupyter-widgets/controls",
          "model_name": "HTMLModel",
          "model_module_version": "1.5.0",
          "state": {
            "_dom_classes": [],
            "_model_module": "@jupyter-widgets/controls",
            "_model_module_version": "1.5.0",
            "_model_name": "HTMLModel",
            "_view_count": null,
            "_view_module": "@jupyter-widgets/controls",
            "_view_module_version": "1.5.0",
            "_view_name": "HTMLView",
            "description": "",
            "description_tooltip": null,
            "layout": "IPY_MODEL_a65453cc7b9248d19418ec164261abc1",
            "placeholder": "​",
            "style": "IPY_MODEL_1958e52f99fb4d10869802d857c6f8e1",
            "value": " 531/531 [00:00&lt;00:00, 18.1kB/s]"
          }
        },
        "ac4936c2d54f4237a5dd22c088d92c9f": {
          "model_module": "@jupyter-widgets/base",
          "model_name": "LayoutModel",
          "model_module_version": "1.2.0",
          "state": {
            "_model_module": "@jupyter-widgets/base",
            "_model_module_version": "1.2.0",
            "_model_name": "LayoutModel",
            "_view_count": null,
            "_view_module": "@jupyter-widgets/base",
            "_view_module_version": "1.2.0",
            "_view_name": "LayoutView",
            "align_content": null,
            "align_items": null,
            "align_self": null,
            "border": null,
            "bottom": null,
            "display": null,
            "flex": null,
            "flex_flow": null,
            "grid_area": null,
            "grid_auto_columns": null,
            "grid_auto_flow": null,
            "grid_auto_rows": null,
            "grid_column": null,
            "grid_gap": null,
            "grid_row": null,
            "grid_template_areas": null,
            "grid_template_columns": null,
            "grid_template_rows": null,
            "height": null,
            "justify_content": null,
            "justify_items": null,
            "left": null,
            "margin": null,
            "max_height": null,
            "max_width": null,
            "min_height": null,
            "min_width": null,
            "object_fit": null,
            "object_position": null,
            "order": null,
            "overflow": null,
            "overflow_x": null,
            "overflow_y": null,
            "padding": null,
            "right": null,
            "top": null,
            "visibility": null,
            "width": null
          }
        },
        "96a31f50e6dd435b8a0c524d03ccec0a": {
          "model_module": "@jupyter-widgets/base",
          "model_name": "LayoutModel",
          "model_module_version": "1.2.0",
          "state": {
            "_model_module": "@jupyter-widgets/base",
            "_model_module_version": "1.2.0",
            "_model_name": "LayoutModel",
            "_view_count": null,
            "_view_module": "@jupyter-widgets/base",
            "_view_module_version": "1.2.0",
            "_view_name": "LayoutView",
            "align_content": null,
            "align_items": null,
            "align_self": null,
            "border": null,
            "bottom": null,
            "display": null,
            "flex": null,
            "flex_flow": null,
            "grid_area": null,
            "grid_auto_columns": null,
            "grid_auto_flow": null,
            "grid_auto_rows": null,
            "grid_column": null,
            "grid_gap": null,
            "grid_row": null,
            "grid_template_areas": null,
            "grid_template_columns": null,
            "grid_template_rows": null,
            "height": null,
            "justify_content": null,
            "justify_items": null,
            "left": null,
            "margin": null,
            "max_height": null,
            "max_width": null,
            "min_height": null,
            "min_width": null,
            "object_fit": null,
            "object_position": null,
            "order": null,
            "overflow": null,
            "overflow_x": null,
            "overflow_y": null,
            "padding": null,
            "right": null,
            "top": null,
            "visibility": null,
            "width": null
          }
        },
        "5582f3ae94b0412e9ff8508697cdcac5": {
          "model_module": "@jupyter-widgets/controls",
          "model_name": "DescriptionStyleModel",
          "model_module_version": "1.5.0",
          "state": {
            "_model_module": "@jupyter-widgets/controls",
            "_model_module_version": "1.5.0",
            "_model_name": "DescriptionStyleModel",
            "_view_count": null,
            "_view_module": "@jupyter-widgets/base",
            "_view_module_version": "1.2.0",
            "_view_name": "StyleView",
            "description_width": ""
          }
        },
        "8a0dc83c3f1c4e60a11d436fe53d0ca8": {
          "model_module": "@jupyter-widgets/base",
          "model_name": "LayoutModel",
          "model_module_version": "1.2.0",
          "state": {
            "_model_module": "@jupyter-widgets/base",
            "_model_module_version": "1.2.0",
            "_model_name": "LayoutModel",
            "_view_count": null,
            "_view_module": "@jupyter-widgets/base",
            "_view_module_version": "1.2.0",
            "_view_name": "LayoutView",
            "align_content": null,
            "align_items": null,
            "align_self": null,
            "border": null,
            "bottom": null,
            "display": null,
            "flex": null,
            "flex_flow": null,
            "grid_area": null,
            "grid_auto_columns": null,
            "grid_auto_flow": null,
            "grid_auto_rows": null,
            "grid_column": null,
            "grid_gap": null,
            "grid_row": null,
            "grid_template_areas": null,
            "grid_template_columns": null,
            "grid_template_rows": null,
            "height": null,
            "justify_content": null,
            "justify_items": null,
            "left": null,
            "margin": null,
            "max_height": null,
            "max_width": null,
            "min_height": null,
            "min_width": null,
            "object_fit": null,
            "object_position": null,
            "order": null,
            "overflow": null,
            "overflow_x": null,
            "overflow_y": null,
            "padding": null,
            "right": null,
            "top": null,
            "visibility": null,
            "width": null
          }
        },
        "65dd981119394cb8bfaee0acf7c9887c": {
          "model_module": "@jupyter-widgets/controls",
          "model_name": "ProgressStyleModel",
          "model_module_version": "1.5.0",
          "state": {
            "_model_module": "@jupyter-widgets/controls",
            "_model_module_version": "1.5.0",
            "_model_name": "ProgressStyleModel",
            "_view_count": null,
            "_view_module": "@jupyter-widgets/base",
            "_view_module_version": "1.2.0",
            "_view_name": "StyleView",
            "bar_color": null,
            "description_width": ""
          }
        },
        "a65453cc7b9248d19418ec164261abc1": {
          "model_module": "@jupyter-widgets/base",
          "model_name": "LayoutModel",
          "model_module_version": "1.2.0",
          "state": {
            "_model_module": "@jupyter-widgets/base",
            "_model_module_version": "1.2.0",
            "_model_name": "LayoutModel",
            "_view_count": null,
            "_view_module": "@jupyter-widgets/base",
            "_view_module_version": "1.2.0",
            "_view_name": "LayoutView",
            "align_content": null,
            "align_items": null,
            "align_self": null,
            "border": null,
            "bottom": null,
            "display": null,
            "flex": null,
            "flex_flow": null,
            "grid_area": null,
            "grid_auto_columns": null,
            "grid_auto_flow": null,
            "grid_auto_rows": null,
            "grid_column": null,
            "grid_gap": null,
            "grid_row": null,
            "grid_template_areas": null,
            "grid_template_columns": null,
            "grid_template_rows": null,
            "height": null,
            "justify_content": null,
            "justify_items": null,
            "left": null,
            "margin": null,
            "max_height": null,
            "max_width": null,
            "min_height": null,
            "min_width": null,
            "object_fit": null,
            "object_position": null,
            "order": null,
            "overflow": null,
            "overflow_x": null,
            "overflow_y": null,
            "padding": null,
            "right": null,
            "top": null,
            "visibility": null,
            "width": null
          }
        },
        "1958e52f99fb4d10869802d857c6f8e1": {
          "model_module": "@jupyter-widgets/controls",
          "model_name": "DescriptionStyleModel",
          "model_module_version": "1.5.0",
          "state": {
            "_model_module": "@jupyter-widgets/controls",
            "_model_module_version": "1.5.0",
            "_model_name": "DescriptionStyleModel",
            "_view_count": null,
            "_view_module": "@jupyter-widgets/base",
            "_view_module_version": "1.2.0",
            "_view_name": "StyleView",
            "description_width": ""
          }
        },
        "f78fb815b8264f949e76fa039a6ae657": {
          "model_module": "@jupyter-widgets/controls",
          "model_name": "HBoxModel",
          "model_module_version": "1.5.0",
          "state": {
            "_dom_classes": [],
            "_model_module": "@jupyter-widgets/controls",
            "_model_module_version": "1.5.0",
            "_model_name": "HBoxModel",
            "_view_count": null,
            "_view_module": "@jupyter-widgets/controls",
            "_view_module_version": "1.5.0",
            "_view_name": "HBoxView",
            "box_style": "",
            "children": [
              "IPY_MODEL_c2b60ac4aae4409582a3e1b8c1aa9475",
              "IPY_MODEL_af496e4b236c4d6c83e0bd93f3323202",
              "IPY_MODEL_77a2cb4e82bb43c1bb69621a83323a6b"
            ],
            "layout": "IPY_MODEL_18554750c0974c4f8c8ef03670dd1725"
          }
        },
        "c2b60ac4aae4409582a3e1b8c1aa9475": {
          "model_module": "@jupyter-widgets/controls",
          "model_name": "HTMLModel",
          "model_module_version": "1.5.0",
          "state": {
            "_dom_classes": [],
            "_model_module": "@jupyter-widgets/controls",
            "_model_module_version": "1.5.0",
            "_model_name": "HTMLModel",
            "_view_count": null,
            "_view_module": "@jupyter-widgets/controls",
            "_view_module_version": "1.5.0",
            "_view_name": "HTMLView",
            "description": "",
            "description_tooltip": null,
            "layout": "IPY_MODEL_5e4bbae9b56f42a991c2b9c9855a8206",
            "placeholder": "​",
            "style": "IPY_MODEL_a8dbf6c9079943119b5277baa97982f6",
            "value": "vocab.txt: 100%"
          }
        },
        "af496e4b236c4d6c83e0bd93f3323202": {
          "model_module": "@jupyter-widgets/controls",
          "model_name": "FloatProgressModel",
          "model_module_version": "1.5.0",
          "state": {
            "_dom_classes": [],
            "_model_module": "@jupyter-widgets/controls",
            "_model_module_version": "1.5.0",
            "_model_name": "FloatProgressModel",
            "_view_count": null,
            "_view_module": "@jupyter-widgets/controls",
            "_view_module_version": "1.5.0",
            "_view_name": "ProgressView",
            "bar_style": "success",
            "description": "",
            "description_tooltip": null,
            "layout": "IPY_MODEL_ddeff0a21f254496b0a0667cfeaee594",
            "max": 995526,
            "min": 0,
            "orientation": "horizontal",
            "style": "IPY_MODEL_b7cc330287794e6fa930a6fdb4b371a6",
            "value": 995526
          }
        },
        "77a2cb4e82bb43c1bb69621a83323a6b": {
          "model_module": "@jupyter-widgets/controls",
          "model_name": "HTMLModel",
          "model_module_version": "1.5.0",
          "state": {
            "_dom_classes": [],
            "_model_module": "@jupyter-widgets/controls",
            "_model_module_version": "1.5.0",
            "_model_name": "HTMLModel",
            "_view_count": null,
            "_view_module": "@jupyter-widgets/controls",
            "_view_module_version": "1.5.0",
            "_view_name": "HTMLView",
            "description": "",
            "description_tooltip": null,
            "layout": "IPY_MODEL_52135543f659444796c73bbebbc84357",
            "placeholder": "​",
            "style": "IPY_MODEL_7b2b5a163bca40bcaca54a271456b9e8",
            "value": " 996k/996k [00:00&lt;00:00, 8.07MB/s]"
          }
        },
        "18554750c0974c4f8c8ef03670dd1725": {
          "model_module": "@jupyter-widgets/base",
          "model_name": "LayoutModel",
          "model_module_version": "1.2.0",
          "state": {
            "_model_module": "@jupyter-widgets/base",
            "_model_module_version": "1.2.0",
            "_model_name": "LayoutModel",
            "_view_count": null,
            "_view_module": "@jupyter-widgets/base",
            "_view_module_version": "1.2.0",
            "_view_name": "LayoutView",
            "align_content": null,
            "align_items": null,
            "align_self": null,
            "border": null,
            "bottom": null,
            "display": null,
            "flex": null,
            "flex_flow": null,
            "grid_area": null,
            "grid_auto_columns": null,
            "grid_auto_flow": null,
            "grid_auto_rows": null,
            "grid_column": null,
            "grid_gap": null,
            "grid_row": null,
            "grid_template_areas": null,
            "grid_template_columns": null,
            "grid_template_rows": null,
            "height": null,
            "justify_content": null,
            "justify_items": null,
            "left": null,
            "margin": null,
            "max_height": null,
            "max_width": null,
            "min_height": null,
            "min_width": null,
            "object_fit": null,
            "object_position": null,
            "order": null,
            "overflow": null,
            "overflow_x": null,
            "overflow_y": null,
            "padding": null,
            "right": null,
            "top": null,
            "visibility": null,
            "width": null
          }
        },
        "5e4bbae9b56f42a991c2b9c9855a8206": {
          "model_module": "@jupyter-widgets/base",
          "model_name": "LayoutModel",
          "model_module_version": "1.2.0",
          "state": {
            "_model_module": "@jupyter-widgets/base",
            "_model_module_version": "1.2.0",
            "_model_name": "LayoutModel",
            "_view_count": null,
            "_view_module": "@jupyter-widgets/base",
            "_view_module_version": "1.2.0",
            "_view_name": "LayoutView",
            "align_content": null,
            "align_items": null,
            "align_self": null,
            "border": null,
            "bottom": null,
            "display": null,
            "flex": null,
            "flex_flow": null,
            "grid_area": null,
            "grid_auto_columns": null,
            "grid_auto_flow": null,
            "grid_auto_rows": null,
            "grid_column": null,
            "grid_gap": null,
            "grid_row": null,
            "grid_template_areas": null,
            "grid_template_columns": null,
            "grid_template_rows": null,
            "height": null,
            "justify_content": null,
            "justify_items": null,
            "left": null,
            "margin": null,
            "max_height": null,
            "max_width": null,
            "min_height": null,
            "min_width": null,
            "object_fit": null,
            "object_position": null,
            "order": null,
            "overflow": null,
            "overflow_x": null,
            "overflow_y": null,
            "padding": null,
            "right": null,
            "top": null,
            "visibility": null,
            "width": null
          }
        },
        "a8dbf6c9079943119b5277baa97982f6": {
          "model_module": "@jupyter-widgets/controls",
          "model_name": "DescriptionStyleModel",
          "model_module_version": "1.5.0",
          "state": {
            "_model_module": "@jupyter-widgets/controls",
            "_model_module_version": "1.5.0",
            "_model_name": "DescriptionStyleModel",
            "_view_count": null,
            "_view_module": "@jupyter-widgets/base",
            "_view_module_version": "1.2.0",
            "_view_name": "StyleView",
            "description_width": ""
          }
        },
        "ddeff0a21f254496b0a0667cfeaee594": {
          "model_module": "@jupyter-widgets/base",
          "model_name": "LayoutModel",
          "model_module_version": "1.2.0",
          "state": {
            "_model_module": "@jupyter-widgets/base",
            "_model_module_version": "1.2.0",
            "_model_name": "LayoutModel",
            "_view_count": null,
            "_view_module": "@jupyter-widgets/base",
            "_view_module_version": "1.2.0",
            "_view_name": "LayoutView",
            "align_content": null,
            "align_items": null,
            "align_self": null,
            "border": null,
            "bottom": null,
            "display": null,
            "flex": null,
            "flex_flow": null,
            "grid_area": null,
            "grid_auto_columns": null,
            "grid_auto_flow": null,
            "grid_auto_rows": null,
            "grid_column": null,
            "grid_gap": null,
            "grid_row": null,
            "grid_template_areas": null,
            "grid_template_columns": null,
            "grid_template_rows": null,
            "height": null,
            "justify_content": null,
            "justify_items": null,
            "left": null,
            "margin": null,
            "max_height": null,
            "max_width": null,
            "min_height": null,
            "min_width": null,
            "object_fit": null,
            "object_position": null,
            "order": null,
            "overflow": null,
            "overflow_x": null,
            "overflow_y": null,
            "padding": null,
            "right": null,
            "top": null,
            "visibility": null,
            "width": null
          }
        },
        "b7cc330287794e6fa930a6fdb4b371a6": {
          "model_module": "@jupyter-widgets/controls",
          "model_name": "ProgressStyleModel",
          "model_module_version": "1.5.0",
          "state": {
            "_model_module": "@jupyter-widgets/controls",
            "_model_module_version": "1.5.0",
            "_model_name": "ProgressStyleModel",
            "_view_count": null,
            "_view_module": "@jupyter-widgets/base",
            "_view_module_version": "1.2.0",
            "_view_name": "StyleView",
            "bar_color": null,
            "description_width": ""
          }
        },
        "52135543f659444796c73bbebbc84357": {
          "model_module": "@jupyter-widgets/base",
          "model_name": "LayoutModel",
          "model_module_version": "1.2.0",
          "state": {
            "_model_module": "@jupyter-widgets/base",
            "_model_module_version": "1.2.0",
            "_model_name": "LayoutModel",
            "_view_count": null,
            "_view_module": "@jupyter-widgets/base",
            "_view_module_version": "1.2.0",
            "_view_name": "LayoutView",
            "align_content": null,
            "align_items": null,
            "align_self": null,
            "border": null,
            "bottom": null,
            "display": null,
            "flex": null,
            "flex_flow": null,
            "grid_area": null,
            "grid_auto_columns": null,
            "grid_auto_flow": null,
            "grid_auto_rows": null,
            "grid_column": null,
            "grid_gap": null,
            "grid_row": null,
            "grid_template_areas": null,
            "grid_template_columns": null,
            "grid_template_rows": null,
            "height": null,
            "justify_content": null,
            "justify_items": null,
            "left": null,
            "margin": null,
            "max_height": null,
            "max_width": null,
            "min_height": null,
            "min_width": null,
            "object_fit": null,
            "object_position": null,
            "order": null,
            "overflow": null,
            "overflow_x": null,
            "overflow_y": null,
            "padding": null,
            "right": null,
            "top": null,
            "visibility": null,
            "width": null
          }
        },
        "7b2b5a163bca40bcaca54a271456b9e8": {
          "model_module": "@jupyter-widgets/controls",
          "model_name": "DescriptionStyleModel",
          "model_module_version": "1.5.0",
          "state": {
            "_model_module": "@jupyter-widgets/controls",
            "_model_module_version": "1.5.0",
            "_model_name": "DescriptionStyleModel",
            "_view_count": null,
            "_view_module": "@jupyter-widgets/base",
            "_view_module_version": "1.2.0",
            "_view_name": "StyleView",
            "description_width": ""
          }
        },
        "c939534252d34eb5986d3aec2b82c3a8": {
          "model_module": "@jupyter-widgets/controls",
          "model_name": "HBoxModel",
          "model_module_version": "1.5.0",
          "state": {
            "_dom_classes": [],
            "_model_module": "@jupyter-widgets/controls",
            "_model_module_version": "1.5.0",
            "_model_name": "HBoxModel",
            "_view_count": null,
            "_view_module": "@jupyter-widgets/controls",
            "_view_module_version": "1.5.0",
            "_view_name": "HBoxView",
            "box_style": "",
            "children": [
              "IPY_MODEL_c168dbabf0584c3d964aa50fc38b7a51",
              "IPY_MODEL_97c6cef1c31442de83e7011bc692b166",
              "IPY_MODEL_b65e0a4adfd146cda3f5ce8b1a40e9d5"
            ],
            "layout": "IPY_MODEL_ed47c02a03ca47e7b135e1f4809284d3"
          }
        },
        "c168dbabf0584c3d964aa50fc38b7a51": {
          "model_module": "@jupyter-widgets/controls",
          "model_name": "HTMLModel",
          "model_module_version": "1.5.0",
          "state": {
            "_dom_classes": [],
            "_model_module": "@jupyter-widgets/controls",
            "_model_module_version": "1.5.0",
            "_model_name": "HTMLModel",
            "_view_count": null,
            "_view_module": "@jupyter-widgets/controls",
            "_view_module_version": "1.5.0",
            "_view_name": "HTMLView",
            "description": "",
            "description_tooltip": null,
            "layout": "IPY_MODEL_6de861b324ed4fa3ac3b68777ebdb961",
            "placeholder": "​",
            "style": "IPY_MODEL_81b176c1a64249f8a78a51ccd7354dfb",
            "value": "tokenizer.json: 100%"
          }
        },
        "97c6cef1c31442de83e7011bc692b166": {
          "model_module": "@jupyter-widgets/controls",
          "model_name": "FloatProgressModel",
          "model_module_version": "1.5.0",
          "state": {
            "_dom_classes": [],
            "_model_module": "@jupyter-widgets/controls",
            "_model_module_version": "1.5.0",
            "_model_name": "FloatProgressModel",
            "_view_count": null,
            "_view_module": "@jupyter-widgets/controls",
            "_view_module_version": "1.5.0",
            "_view_name": "ProgressView",
            "bar_style": "success",
            "description": "",
            "description_tooltip": null,
            "layout": "IPY_MODEL_9e24a2c653d346ebb41ebc2618413363",
            "max": 1961847,
            "min": 0,
            "orientation": "horizontal",
            "style": "IPY_MODEL_c0fdc68a454e4e199631af3a7cc5ac18",
            "value": 1961847
          }
        },
        "b65e0a4adfd146cda3f5ce8b1a40e9d5": {
          "model_module": "@jupyter-widgets/controls",
          "model_name": "HTMLModel",
          "model_module_version": "1.5.0",
          "state": {
            "_dom_classes": [],
            "_model_module": "@jupyter-widgets/controls",
            "_model_module_version": "1.5.0",
            "_model_name": "HTMLModel",
            "_view_count": null,
            "_view_module": "@jupyter-widgets/controls",
            "_view_module_version": "1.5.0",
            "_view_name": "HTMLView",
            "description": "",
            "description_tooltip": null,
            "layout": "IPY_MODEL_0dcfcbda7a6e470c968a80b13334b4d9",
            "placeholder": "​",
            "style": "IPY_MODEL_f71dd8bf3e694ab4ac3d8d4e9c53cea7",
            "value": " 1.96M/1.96M [00:00&lt;00:00, 21.8MB/s]"
          }
        },
        "ed47c02a03ca47e7b135e1f4809284d3": {
          "model_module": "@jupyter-widgets/base",
          "model_name": "LayoutModel",
          "model_module_version": "1.2.0",
          "state": {
            "_model_module": "@jupyter-widgets/base",
            "_model_module_version": "1.2.0",
            "_model_name": "LayoutModel",
            "_view_count": null,
            "_view_module": "@jupyter-widgets/base",
            "_view_module_version": "1.2.0",
            "_view_name": "LayoutView",
            "align_content": null,
            "align_items": null,
            "align_self": null,
            "border": null,
            "bottom": null,
            "display": null,
            "flex": null,
            "flex_flow": null,
            "grid_area": null,
            "grid_auto_columns": null,
            "grid_auto_flow": null,
            "grid_auto_rows": null,
            "grid_column": null,
            "grid_gap": null,
            "grid_row": null,
            "grid_template_areas": null,
            "grid_template_columns": null,
            "grid_template_rows": null,
            "height": null,
            "justify_content": null,
            "justify_items": null,
            "left": null,
            "margin": null,
            "max_height": null,
            "max_width": null,
            "min_height": null,
            "min_width": null,
            "object_fit": null,
            "object_position": null,
            "order": null,
            "overflow": null,
            "overflow_x": null,
            "overflow_y": null,
            "padding": null,
            "right": null,
            "top": null,
            "visibility": null,
            "width": null
          }
        },
        "6de861b324ed4fa3ac3b68777ebdb961": {
          "model_module": "@jupyter-widgets/base",
          "model_name": "LayoutModel",
          "model_module_version": "1.2.0",
          "state": {
            "_model_module": "@jupyter-widgets/base",
            "_model_module_version": "1.2.0",
            "_model_name": "LayoutModel",
            "_view_count": null,
            "_view_module": "@jupyter-widgets/base",
            "_view_module_version": "1.2.0",
            "_view_name": "LayoutView",
            "align_content": null,
            "align_items": null,
            "align_self": null,
            "border": null,
            "bottom": null,
            "display": null,
            "flex": null,
            "flex_flow": null,
            "grid_area": null,
            "grid_auto_columns": null,
            "grid_auto_flow": null,
            "grid_auto_rows": null,
            "grid_column": null,
            "grid_gap": null,
            "grid_row": null,
            "grid_template_areas": null,
            "grid_template_columns": null,
            "grid_template_rows": null,
            "height": null,
            "justify_content": null,
            "justify_items": null,
            "left": null,
            "margin": null,
            "max_height": null,
            "max_width": null,
            "min_height": null,
            "min_width": null,
            "object_fit": null,
            "object_position": null,
            "order": null,
            "overflow": null,
            "overflow_x": null,
            "overflow_y": null,
            "padding": null,
            "right": null,
            "top": null,
            "visibility": null,
            "width": null
          }
        },
        "81b176c1a64249f8a78a51ccd7354dfb": {
          "model_module": "@jupyter-widgets/controls",
          "model_name": "DescriptionStyleModel",
          "model_module_version": "1.5.0",
          "state": {
            "_model_module": "@jupyter-widgets/controls",
            "_model_module_version": "1.5.0",
            "_model_name": "DescriptionStyleModel",
            "_view_count": null,
            "_view_module": "@jupyter-widgets/base",
            "_view_module_version": "1.2.0",
            "_view_name": "StyleView",
            "description_width": ""
          }
        },
        "9e24a2c653d346ebb41ebc2618413363": {
          "model_module": "@jupyter-widgets/base",
          "model_name": "LayoutModel",
          "model_module_version": "1.2.0",
          "state": {
            "_model_module": "@jupyter-widgets/base",
            "_model_module_version": "1.2.0",
            "_model_name": "LayoutModel",
            "_view_count": null,
            "_view_module": "@jupyter-widgets/base",
            "_view_module_version": "1.2.0",
            "_view_name": "LayoutView",
            "align_content": null,
            "align_items": null,
            "align_self": null,
            "border": null,
            "bottom": null,
            "display": null,
            "flex": null,
            "flex_flow": null,
            "grid_area": null,
            "grid_auto_columns": null,
            "grid_auto_flow": null,
            "grid_auto_rows": null,
            "grid_column": null,
            "grid_gap": null,
            "grid_row": null,
            "grid_template_areas": null,
            "grid_template_columns": null,
            "grid_template_rows": null,
            "height": null,
            "justify_content": null,
            "justify_items": null,
            "left": null,
            "margin": null,
            "max_height": null,
            "max_width": null,
            "min_height": null,
            "min_width": null,
            "object_fit": null,
            "object_position": null,
            "order": null,
            "overflow": null,
            "overflow_x": null,
            "overflow_y": null,
            "padding": null,
            "right": null,
            "top": null,
            "visibility": null,
            "width": null
          }
        },
        "c0fdc68a454e4e199631af3a7cc5ac18": {
          "model_module": "@jupyter-widgets/controls",
          "model_name": "ProgressStyleModel",
          "model_module_version": "1.5.0",
          "state": {
            "_model_module": "@jupyter-widgets/controls",
            "_model_module_version": "1.5.0",
            "_model_name": "ProgressStyleModel",
            "_view_count": null,
            "_view_module": "@jupyter-widgets/base",
            "_view_module_version": "1.2.0",
            "_view_name": "StyleView",
            "bar_color": null,
            "description_width": ""
          }
        },
        "0dcfcbda7a6e470c968a80b13334b4d9": {
          "model_module": "@jupyter-widgets/base",
          "model_name": "LayoutModel",
          "model_module_version": "1.2.0",
          "state": {
            "_model_module": "@jupyter-widgets/base",
            "_model_module_version": "1.2.0",
            "_model_name": "LayoutModel",
            "_view_count": null,
            "_view_module": "@jupyter-widgets/base",
            "_view_module_version": "1.2.0",
            "_view_name": "LayoutView",
            "align_content": null,
            "align_items": null,
            "align_self": null,
            "border": null,
            "bottom": null,
            "display": null,
            "flex": null,
            "flex_flow": null,
            "grid_area": null,
            "grid_auto_columns": null,
            "grid_auto_flow": null,
            "grid_auto_rows": null,
            "grid_column": null,
            "grid_gap": null,
            "grid_row": null,
            "grid_template_areas": null,
            "grid_template_columns": null,
            "grid_template_rows": null,
            "height": null,
            "justify_content": null,
            "justify_items": null,
            "left": null,
            "margin": null,
            "max_height": null,
            "max_width": null,
            "min_height": null,
            "min_width": null,
            "object_fit": null,
            "object_position": null,
            "order": null,
            "overflow": null,
            "overflow_x": null,
            "overflow_y": null,
            "padding": null,
            "right": null,
            "top": null,
            "visibility": null,
            "width": null
          }
        },
        "f71dd8bf3e694ab4ac3d8d4e9c53cea7": {
          "model_module": "@jupyter-widgets/controls",
          "model_name": "DescriptionStyleModel",
          "model_module_version": "1.5.0",
          "state": {
            "_model_module": "@jupyter-widgets/controls",
            "_model_module_version": "1.5.0",
            "_model_name": "DescriptionStyleModel",
            "_view_count": null,
            "_view_module": "@jupyter-widgets/base",
            "_view_module_version": "1.2.0",
            "_view_name": "StyleView",
            "description_width": ""
          }
        },
        "fa7c55b9d2ae4da5bcab2665e7c1e455": {
          "model_module": "@jupyter-widgets/controls",
          "model_name": "HBoxModel",
          "model_module_version": "1.5.0",
          "state": {
            "_dom_classes": [],
            "_model_module": "@jupyter-widgets/controls",
            "_model_module_version": "1.5.0",
            "_model_name": "HBoxModel",
            "_view_count": null,
            "_view_module": "@jupyter-widgets/controls",
            "_view_module_version": "1.5.0",
            "_view_name": "HBoxView",
            "box_style": "",
            "children": [
              "IPY_MODEL_d6340fb80b724b57aa7715219b5c443e",
              "IPY_MODEL_7c80c2ad83bb48e5bef0d24ac37c1952",
              "IPY_MODEL_2b4bb2d11b1d45cfa2b06c0ce13d8d38"
            ],
            "layout": "IPY_MODEL_e15f61ead42c4e9c82855545d010c5be"
          }
        },
        "d6340fb80b724b57aa7715219b5c443e": {
          "model_module": "@jupyter-widgets/controls",
          "model_name": "HTMLModel",
          "model_module_version": "1.5.0",
          "state": {
            "_dom_classes": [],
            "_model_module": "@jupyter-widgets/controls",
            "_model_module_version": "1.5.0",
            "_model_name": "HTMLModel",
            "_view_count": null,
            "_view_module": "@jupyter-widgets/controls",
            "_view_module_version": "1.5.0",
            "_view_name": "HTMLView",
            "description": "",
            "description_tooltip": null,
            "layout": "IPY_MODEL_897c3e4df15144e78ef1962a27b915c4",
            "placeholder": "​",
            "style": "IPY_MODEL_7ee76426d6e04ebbbb247c5530cafdf5",
            "value": "special_tokens_map.json: 100%"
          }
        },
        "7c80c2ad83bb48e5bef0d24ac37c1952": {
          "model_module": "@jupyter-widgets/controls",
          "model_name": "FloatProgressModel",
          "model_module_version": "1.5.0",
          "state": {
            "_dom_classes": [],
            "_model_module": "@jupyter-widgets/controls",
            "_model_module_version": "1.5.0",
            "_model_name": "FloatProgressModel",
            "_view_count": null,
            "_view_module": "@jupyter-widgets/controls",
            "_view_module_version": "1.5.0",
            "_view_name": "ProgressView",
            "bar_style": "success",
            "description": "",
            "description_tooltip": null,
            "layout": "IPY_MODEL_be059355c884449e8c6cfc01dcff98cc",
            "max": 112,
            "min": 0,
            "orientation": "horizontal",
            "style": "IPY_MODEL_e5176813a5414b8f858a4c1808d04c66",
            "value": 112
          }
        },
        "2b4bb2d11b1d45cfa2b06c0ce13d8d38": {
          "model_module": "@jupyter-widgets/controls",
          "model_name": "HTMLModel",
          "model_module_version": "1.5.0",
          "state": {
            "_dom_classes": [],
            "_model_module": "@jupyter-widgets/controls",
            "_model_module_version": "1.5.0",
            "_model_name": "HTMLModel",
            "_view_count": null,
            "_view_module": "@jupyter-widgets/controls",
            "_view_module_version": "1.5.0",
            "_view_name": "HTMLView",
            "description": "",
            "description_tooltip": null,
            "layout": "IPY_MODEL_5e32a1bf43674eb08828812d001faf24",
            "placeholder": "​",
            "style": "IPY_MODEL_4f6f93800e244c7e89e870c5fe33bfe3",
            "value": " 112/112 [00:00&lt;00:00, 4.56kB/s]"
          }
        },
        "e15f61ead42c4e9c82855545d010c5be": {
          "model_module": "@jupyter-widgets/base",
          "model_name": "LayoutModel",
          "model_module_version": "1.2.0",
          "state": {
            "_model_module": "@jupyter-widgets/base",
            "_model_module_version": "1.2.0",
            "_model_name": "LayoutModel",
            "_view_count": null,
            "_view_module": "@jupyter-widgets/base",
            "_view_module_version": "1.2.0",
            "_view_name": "LayoutView",
            "align_content": null,
            "align_items": null,
            "align_self": null,
            "border": null,
            "bottom": null,
            "display": null,
            "flex": null,
            "flex_flow": null,
            "grid_area": null,
            "grid_auto_columns": null,
            "grid_auto_flow": null,
            "grid_auto_rows": null,
            "grid_column": null,
            "grid_gap": null,
            "grid_row": null,
            "grid_template_areas": null,
            "grid_template_columns": null,
            "grid_template_rows": null,
            "height": null,
            "justify_content": null,
            "justify_items": null,
            "left": null,
            "margin": null,
            "max_height": null,
            "max_width": null,
            "min_height": null,
            "min_width": null,
            "object_fit": null,
            "object_position": null,
            "order": null,
            "overflow": null,
            "overflow_x": null,
            "overflow_y": null,
            "padding": null,
            "right": null,
            "top": null,
            "visibility": null,
            "width": null
          }
        },
        "897c3e4df15144e78ef1962a27b915c4": {
          "model_module": "@jupyter-widgets/base",
          "model_name": "LayoutModel",
          "model_module_version": "1.2.0",
          "state": {
            "_model_module": "@jupyter-widgets/base",
            "_model_module_version": "1.2.0",
            "_model_name": "LayoutModel",
            "_view_count": null,
            "_view_module": "@jupyter-widgets/base",
            "_view_module_version": "1.2.0",
            "_view_name": "LayoutView",
            "align_content": null,
            "align_items": null,
            "align_self": null,
            "border": null,
            "bottom": null,
            "display": null,
            "flex": null,
            "flex_flow": null,
            "grid_area": null,
            "grid_auto_columns": null,
            "grid_auto_flow": null,
            "grid_auto_rows": null,
            "grid_column": null,
            "grid_gap": null,
            "grid_row": null,
            "grid_template_areas": null,
            "grid_template_columns": null,
            "grid_template_rows": null,
            "height": null,
            "justify_content": null,
            "justify_items": null,
            "left": null,
            "margin": null,
            "max_height": null,
            "max_width": null,
            "min_height": null,
            "min_width": null,
            "object_fit": null,
            "object_position": null,
            "order": null,
            "overflow": null,
            "overflow_x": null,
            "overflow_y": null,
            "padding": null,
            "right": null,
            "top": null,
            "visibility": null,
            "width": null
          }
        },
        "7ee76426d6e04ebbbb247c5530cafdf5": {
          "model_module": "@jupyter-widgets/controls",
          "model_name": "DescriptionStyleModel",
          "model_module_version": "1.5.0",
          "state": {
            "_model_module": "@jupyter-widgets/controls",
            "_model_module_version": "1.5.0",
            "_model_name": "DescriptionStyleModel",
            "_view_count": null,
            "_view_module": "@jupyter-widgets/base",
            "_view_module_version": "1.2.0",
            "_view_name": "StyleView",
            "description_width": ""
          }
        },
        "be059355c884449e8c6cfc01dcff98cc": {
          "model_module": "@jupyter-widgets/base",
          "model_name": "LayoutModel",
          "model_module_version": "1.2.0",
          "state": {
            "_model_module": "@jupyter-widgets/base",
            "_model_module_version": "1.2.0",
            "_model_name": "LayoutModel",
            "_view_count": null,
            "_view_module": "@jupyter-widgets/base",
            "_view_module_version": "1.2.0",
            "_view_name": "LayoutView",
            "align_content": null,
            "align_items": null,
            "align_self": null,
            "border": null,
            "bottom": null,
            "display": null,
            "flex": null,
            "flex_flow": null,
            "grid_area": null,
            "grid_auto_columns": null,
            "grid_auto_flow": null,
            "grid_auto_rows": null,
            "grid_column": null,
            "grid_gap": null,
            "grid_row": null,
            "grid_template_areas": null,
            "grid_template_columns": null,
            "grid_template_rows": null,
            "height": null,
            "justify_content": null,
            "justify_items": null,
            "left": null,
            "margin": null,
            "max_height": null,
            "max_width": null,
            "min_height": null,
            "min_width": null,
            "object_fit": null,
            "object_position": null,
            "order": null,
            "overflow": null,
            "overflow_x": null,
            "overflow_y": null,
            "padding": null,
            "right": null,
            "top": null,
            "visibility": null,
            "width": null
          }
        },
        "e5176813a5414b8f858a4c1808d04c66": {
          "model_module": "@jupyter-widgets/controls",
          "model_name": "ProgressStyleModel",
          "model_module_version": "1.5.0",
          "state": {
            "_model_module": "@jupyter-widgets/controls",
            "_model_module_version": "1.5.0",
            "_model_name": "ProgressStyleModel",
            "_view_count": null,
            "_view_module": "@jupyter-widgets/base",
            "_view_module_version": "1.2.0",
            "_view_name": "StyleView",
            "bar_color": null,
            "description_width": ""
          }
        },
        "5e32a1bf43674eb08828812d001faf24": {
          "model_module": "@jupyter-widgets/base",
          "model_name": "LayoutModel",
          "model_module_version": "1.2.0",
          "state": {
            "_model_module": "@jupyter-widgets/base",
            "_model_module_version": "1.2.0",
            "_model_name": "LayoutModel",
            "_view_count": null,
            "_view_module": "@jupyter-widgets/base",
            "_view_module_version": "1.2.0",
            "_view_name": "LayoutView",
            "align_content": null,
            "align_items": null,
            "align_self": null,
            "border": null,
            "bottom": null,
            "display": null,
            "flex": null,
            "flex_flow": null,
            "grid_area": null,
            "grid_auto_columns": null,
            "grid_auto_flow": null,
            "grid_auto_rows": null,
            "grid_column": null,
            "grid_gap": null,
            "grid_row": null,
            "grid_template_areas": null,
            "grid_template_columns": null,
            "grid_template_rows": null,
            "height": null,
            "justify_content": null,
            "justify_items": null,
            "left": null,
            "margin": null,
            "max_height": null,
            "max_width": null,
            "min_height": null,
            "min_width": null,
            "object_fit": null,
            "object_position": null,
            "order": null,
            "overflow": null,
            "overflow_x": null,
            "overflow_y": null,
            "padding": null,
            "right": null,
            "top": null,
            "visibility": null,
            "width": null
          }
        },
        "4f6f93800e244c7e89e870c5fe33bfe3": {
          "model_module": "@jupyter-widgets/controls",
          "model_name": "DescriptionStyleModel",
          "model_module_version": "1.5.0",
          "state": {
            "_model_module": "@jupyter-widgets/controls",
            "_model_module_version": "1.5.0",
            "_model_name": "DescriptionStyleModel",
            "_view_count": null,
            "_view_module": "@jupyter-widgets/base",
            "_view_module_version": "1.2.0",
            "_view_name": "StyleView",
            "description_width": ""
          }
        },
        "121ab010bf9d4c6b98e1df3b7a49cb90": {
          "model_module": "@jupyter-widgets/controls",
          "model_name": "HBoxModel",
          "model_module_version": "1.5.0",
          "state": {
            "_dom_classes": [],
            "_model_module": "@jupyter-widgets/controls",
            "_model_module_version": "1.5.0",
            "_model_name": "HBoxModel",
            "_view_count": null,
            "_view_module": "@jupyter-widgets/controls",
            "_view_module_version": "1.5.0",
            "_view_name": "HBoxView",
            "box_style": "",
            "children": [
              "IPY_MODEL_4bed5d5cc53844929befbc968c91aaa2",
              "IPY_MODEL_7b053bcd53cc409eb1bb98584f14ad3d",
              "IPY_MODEL_977b842432f8436ea568901921d4977c"
            ],
            "layout": "IPY_MODEL_d0ba357eea94458e8d87c4c2406770a5"
          }
        },
        "4bed5d5cc53844929befbc968c91aaa2": {
          "model_module": "@jupyter-widgets/controls",
          "model_name": "HTMLModel",
          "model_module_version": "1.5.0",
          "state": {
            "_dom_classes": [],
            "_model_module": "@jupyter-widgets/controls",
            "_model_module_version": "1.5.0",
            "_model_name": "HTMLModel",
            "_view_count": null,
            "_view_module": "@jupyter-widgets/controls",
            "_view_module_version": "1.5.0",
            "_view_name": "HTMLView",
            "description": "",
            "description_tooltip": null,
            "layout": "IPY_MODEL_83781721457e48f5b632219207589bf9",
            "placeholder": "​",
            "style": "IPY_MODEL_7f5152b61710423cb43de3914f5ba875",
            "value": "1_Pooling/config.json: 100%"
          }
        },
        "7b053bcd53cc409eb1bb98584f14ad3d": {
          "model_module": "@jupyter-widgets/controls",
          "model_name": "FloatProgressModel",
          "model_module_version": "1.5.0",
          "state": {
            "_dom_classes": [],
            "_model_module": "@jupyter-widgets/controls",
            "_model_module_version": "1.5.0",
            "_model_name": "FloatProgressModel",
            "_view_count": null,
            "_view_module": "@jupyter-widgets/controls",
            "_view_module_version": "1.5.0",
            "_view_name": "ProgressView",
            "bar_style": "success",
            "description": "",
            "description_tooltip": null,
            "layout": "IPY_MODEL_4e29262d68b345eda3b706cf079ddf17",
            "max": 190,
            "min": 0,
            "orientation": "horizontal",
            "style": "IPY_MODEL_117ea57dd5f142888337a4152ace0146",
            "value": 190
          }
        },
        "977b842432f8436ea568901921d4977c": {
          "model_module": "@jupyter-widgets/controls",
          "model_name": "HTMLModel",
          "model_module_version": "1.5.0",
          "state": {
            "_dom_classes": [],
            "_model_module": "@jupyter-widgets/controls",
            "_model_module_version": "1.5.0",
            "_model_name": "HTMLModel",
            "_view_count": null,
            "_view_module": "@jupyter-widgets/controls",
            "_view_module_version": "1.5.0",
            "_view_name": "HTMLView",
            "description": "",
            "description_tooltip": null,
            "layout": "IPY_MODEL_792faee13a8b48018ae29c6f731adce7",
            "placeholder": "​",
            "style": "IPY_MODEL_a67e8baf1af24f30a148eb22c0ce5c65",
            "value": " 190/190 [00:00&lt;00:00, 4.16kB/s]"
          }
        },
        "d0ba357eea94458e8d87c4c2406770a5": {
          "model_module": "@jupyter-widgets/base",
          "model_name": "LayoutModel",
          "model_module_version": "1.2.0",
          "state": {
            "_model_module": "@jupyter-widgets/base",
            "_model_module_version": "1.2.0",
            "_model_name": "LayoutModel",
            "_view_count": null,
            "_view_module": "@jupyter-widgets/base",
            "_view_module_version": "1.2.0",
            "_view_name": "LayoutView",
            "align_content": null,
            "align_items": null,
            "align_self": null,
            "border": null,
            "bottom": null,
            "display": null,
            "flex": null,
            "flex_flow": null,
            "grid_area": null,
            "grid_auto_columns": null,
            "grid_auto_flow": null,
            "grid_auto_rows": null,
            "grid_column": null,
            "grid_gap": null,
            "grid_row": null,
            "grid_template_areas": null,
            "grid_template_columns": null,
            "grid_template_rows": null,
            "height": null,
            "justify_content": null,
            "justify_items": null,
            "left": null,
            "margin": null,
            "max_height": null,
            "max_width": null,
            "min_height": null,
            "min_width": null,
            "object_fit": null,
            "object_position": null,
            "order": null,
            "overflow": null,
            "overflow_x": null,
            "overflow_y": null,
            "padding": null,
            "right": null,
            "top": null,
            "visibility": null,
            "width": null
          }
        },
        "83781721457e48f5b632219207589bf9": {
          "model_module": "@jupyter-widgets/base",
          "model_name": "LayoutModel",
          "model_module_version": "1.2.0",
          "state": {
            "_model_module": "@jupyter-widgets/base",
            "_model_module_version": "1.2.0",
            "_model_name": "LayoutModel",
            "_view_count": null,
            "_view_module": "@jupyter-widgets/base",
            "_view_module_version": "1.2.0",
            "_view_name": "LayoutView",
            "align_content": null,
            "align_items": null,
            "align_self": null,
            "border": null,
            "bottom": null,
            "display": null,
            "flex": null,
            "flex_flow": null,
            "grid_area": null,
            "grid_auto_columns": null,
            "grid_auto_flow": null,
            "grid_auto_rows": null,
            "grid_column": null,
            "grid_gap": null,
            "grid_row": null,
            "grid_template_areas": null,
            "grid_template_columns": null,
            "grid_template_rows": null,
            "height": null,
            "justify_content": null,
            "justify_items": null,
            "left": null,
            "margin": null,
            "max_height": null,
            "max_width": null,
            "min_height": null,
            "min_width": null,
            "object_fit": null,
            "object_position": null,
            "order": null,
            "overflow": null,
            "overflow_x": null,
            "overflow_y": null,
            "padding": null,
            "right": null,
            "top": null,
            "visibility": null,
            "width": null
          }
        },
        "7f5152b61710423cb43de3914f5ba875": {
          "model_module": "@jupyter-widgets/controls",
          "model_name": "DescriptionStyleModel",
          "model_module_version": "1.5.0",
          "state": {
            "_model_module": "@jupyter-widgets/controls",
            "_model_module_version": "1.5.0",
            "_model_name": "DescriptionStyleModel",
            "_view_count": null,
            "_view_module": "@jupyter-widgets/base",
            "_view_module_version": "1.2.0",
            "_view_name": "StyleView",
            "description_width": ""
          }
        },
        "4e29262d68b345eda3b706cf079ddf17": {
          "model_module": "@jupyter-widgets/base",
          "model_name": "LayoutModel",
          "model_module_version": "1.2.0",
          "state": {
            "_model_module": "@jupyter-widgets/base",
            "_model_module_version": "1.2.0",
            "_model_name": "LayoutModel",
            "_view_count": null,
            "_view_module": "@jupyter-widgets/base",
            "_view_module_version": "1.2.0",
            "_view_name": "LayoutView",
            "align_content": null,
            "align_items": null,
            "align_self": null,
            "border": null,
            "bottom": null,
            "display": null,
            "flex": null,
            "flex_flow": null,
            "grid_area": null,
            "grid_auto_columns": null,
            "grid_auto_flow": null,
            "grid_auto_rows": null,
            "grid_column": null,
            "grid_gap": null,
            "grid_row": null,
            "grid_template_areas": null,
            "grid_template_columns": null,
            "grid_template_rows": null,
            "height": null,
            "justify_content": null,
            "justify_items": null,
            "left": null,
            "margin": null,
            "max_height": null,
            "max_width": null,
            "min_height": null,
            "min_width": null,
            "object_fit": null,
            "object_position": null,
            "order": null,
            "overflow": null,
            "overflow_x": null,
            "overflow_y": null,
            "padding": null,
            "right": null,
            "top": null,
            "visibility": null,
            "width": null
          }
        },
        "117ea57dd5f142888337a4152ace0146": {
          "model_module": "@jupyter-widgets/controls",
          "model_name": "ProgressStyleModel",
          "model_module_version": "1.5.0",
          "state": {
            "_model_module": "@jupyter-widgets/controls",
            "_model_module_version": "1.5.0",
            "_model_name": "ProgressStyleModel",
            "_view_count": null,
            "_view_module": "@jupyter-widgets/base",
            "_view_module_version": "1.2.0",
            "_view_name": "StyleView",
            "bar_color": null,
            "description_width": ""
          }
        },
        "792faee13a8b48018ae29c6f731adce7": {
          "model_module": "@jupyter-widgets/base",
          "model_name": "LayoutModel",
          "model_module_version": "1.2.0",
          "state": {
            "_model_module": "@jupyter-widgets/base",
            "_model_module_version": "1.2.0",
            "_model_name": "LayoutModel",
            "_view_count": null,
            "_view_module": "@jupyter-widgets/base",
            "_view_module_version": "1.2.0",
            "_view_name": "LayoutView",
            "align_content": null,
            "align_items": null,
            "align_self": null,
            "border": null,
            "bottom": null,
            "display": null,
            "flex": null,
            "flex_flow": null,
            "grid_area": null,
            "grid_auto_columns": null,
            "grid_auto_flow": null,
            "grid_auto_rows": null,
            "grid_column": null,
            "grid_gap": null,
            "grid_row": null,
            "grid_template_areas": null,
            "grid_template_columns": null,
            "grid_template_rows": null,
            "height": null,
            "justify_content": null,
            "justify_items": null,
            "left": null,
            "margin": null,
            "max_height": null,
            "max_width": null,
            "min_height": null,
            "min_width": null,
            "object_fit": null,
            "object_position": null,
            "order": null,
            "overflow": null,
            "overflow_x": null,
            "overflow_y": null,
            "padding": null,
            "right": null,
            "top": null,
            "visibility": null,
            "width": null
          }
        },
        "a67e8baf1af24f30a148eb22c0ce5c65": {
          "model_module": "@jupyter-widgets/controls",
          "model_name": "DescriptionStyleModel",
          "model_module_version": "1.5.0",
          "state": {
            "_model_module": "@jupyter-widgets/controls",
            "_model_module_version": "1.5.0",
            "_model_name": "DescriptionStyleModel",
            "_view_count": null,
            "_view_module": "@jupyter-widgets/base",
            "_view_module_version": "1.2.0",
            "_view_name": "StyleView",
            "description_width": ""
          }
        },
        "a4148bddfc99415d9fb461148a9c99b9": {
          "model_module": "@jupyter-widgets/controls",
          "model_name": "HBoxModel",
          "model_module_version": "1.5.0",
          "state": {
            "_dom_classes": [],
            "_model_module": "@jupyter-widgets/controls",
            "_model_module_version": "1.5.0",
            "_model_name": "HBoxModel",
            "_view_count": null,
            "_view_module": "@jupyter-widgets/controls",
            "_view_module_version": "1.5.0",
            "_view_name": "HBoxView",
            "box_style": "",
            "children": [
              "IPY_MODEL_91b5cf9fbe7c4a17bcd59825f900af4f",
              "IPY_MODEL_5a20f7ab1ff24048b21b54db92b4eb1a",
              "IPY_MODEL_5da1e8ba8bfa447f91d7e8f9fe1e3e37"
            ],
            "layout": "IPY_MODEL_bd6f6ca55a4a4c4a8a981f99011370f4"
          }
        },
        "91b5cf9fbe7c4a17bcd59825f900af4f": {
          "model_module": "@jupyter-widgets/controls",
          "model_name": "HTMLModel",
          "model_module_version": "1.5.0",
          "state": {
            "_dom_classes": [],
            "_model_module": "@jupyter-widgets/controls",
            "_model_module_version": "1.5.0",
            "_model_name": "HTMLModel",
            "_view_count": null,
            "_view_module": "@jupyter-widgets/controls",
            "_view_module_version": "1.5.0",
            "_view_name": "HTMLView",
            "description": "",
            "description_tooltip": null,
            "layout": "IPY_MODEL_3639cd98cf614ea083e9c9307056efb5",
            "placeholder": "​",
            "style": "IPY_MODEL_bf934b770cbb46c1b7642f6463d3f1fe",
            "value": "2_Dense/config.json: 100%"
          }
        },
        "5a20f7ab1ff24048b21b54db92b4eb1a": {
          "model_module": "@jupyter-widgets/controls",
          "model_name": "FloatProgressModel",
          "model_module_version": "1.5.0",
          "state": {
            "_dom_classes": [],
            "_model_module": "@jupyter-widgets/controls",
            "_model_module_version": "1.5.0",
            "_model_name": "FloatProgressModel",
            "_view_count": null,
            "_view_module": "@jupyter-widgets/controls",
            "_view_module_version": "1.5.0",
            "_view_name": "ProgressView",
            "bar_style": "success",
            "description": "",
            "description_tooltip": null,
            "layout": "IPY_MODEL_b3dcd700fd544a8688df17626595d3f7",
            "max": 114,
            "min": 0,
            "orientation": "horizontal",
            "style": "IPY_MODEL_c8480ea139a44400b646a140b5c98542",
            "value": 114
          }
        },
        "5da1e8ba8bfa447f91d7e8f9fe1e3e37": {
          "model_module": "@jupyter-widgets/controls",
          "model_name": "HTMLModel",
          "model_module_version": "1.5.0",
          "state": {
            "_dom_classes": [],
            "_model_module": "@jupyter-widgets/controls",
            "_model_module_version": "1.5.0",
            "_model_name": "HTMLModel",
            "_view_count": null,
            "_view_module": "@jupyter-widgets/controls",
            "_view_module_version": "1.5.0",
            "_view_name": "HTMLView",
            "description": "",
            "description_tooltip": null,
            "layout": "IPY_MODEL_9657327f54984659b26b88df6423085c",
            "placeholder": "​",
            "style": "IPY_MODEL_639937c397b444b6b462a0cef5c22fa6",
            "value": " 114/114 [00:00&lt;00:00, 2.92kB/s]"
          }
        },
        "bd6f6ca55a4a4c4a8a981f99011370f4": {
          "model_module": "@jupyter-widgets/base",
          "model_name": "LayoutModel",
          "model_module_version": "1.2.0",
          "state": {
            "_model_module": "@jupyter-widgets/base",
            "_model_module_version": "1.2.0",
            "_model_name": "LayoutModel",
            "_view_count": null,
            "_view_module": "@jupyter-widgets/base",
            "_view_module_version": "1.2.0",
            "_view_name": "LayoutView",
            "align_content": null,
            "align_items": null,
            "align_self": null,
            "border": null,
            "bottom": null,
            "display": null,
            "flex": null,
            "flex_flow": null,
            "grid_area": null,
            "grid_auto_columns": null,
            "grid_auto_flow": null,
            "grid_auto_rows": null,
            "grid_column": null,
            "grid_gap": null,
            "grid_row": null,
            "grid_template_areas": null,
            "grid_template_columns": null,
            "grid_template_rows": null,
            "height": null,
            "justify_content": null,
            "justify_items": null,
            "left": null,
            "margin": null,
            "max_height": null,
            "max_width": null,
            "min_height": null,
            "min_width": null,
            "object_fit": null,
            "object_position": null,
            "order": null,
            "overflow": null,
            "overflow_x": null,
            "overflow_y": null,
            "padding": null,
            "right": null,
            "top": null,
            "visibility": null,
            "width": null
          }
        },
        "3639cd98cf614ea083e9c9307056efb5": {
          "model_module": "@jupyter-widgets/base",
          "model_name": "LayoutModel",
          "model_module_version": "1.2.0",
          "state": {
            "_model_module": "@jupyter-widgets/base",
            "_model_module_version": "1.2.0",
            "_model_name": "LayoutModel",
            "_view_count": null,
            "_view_module": "@jupyter-widgets/base",
            "_view_module_version": "1.2.0",
            "_view_name": "LayoutView",
            "align_content": null,
            "align_items": null,
            "align_self": null,
            "border": null,
            "bottom": null,
            "display": null,
            "flex": null,
            "flex_flow": null,
            "grid_area": null,
            "grid_auto_columns": null,
            "grid_auto_flow": null,
            "grid_auto_rows": null,
            "grid_column": null,
            "grid_gap": null,
            "grid_row": null,
            "grid_template_areas": null,
            "grid_template_columns": null,
            "grid_template_rows": null,
            "height": null,
            "justify_content": null,
            "justify_items": null,
            "left": null,
            "margin": null,
            "max_height": null,
            "max_width": null,
            "min_height": null,
            "min_width": null,
            "object_fit": null,
            "object_position": null,
            "order": null,
            "overflow": null,
            "overflow_x": null,
            "overflow_y": null,
            "padding": null,
            "right": null,
            "top": null,
            "visibility": null,
            "width": null
          }
        },
        "bf934b770cbb46c1b7642f6463d3f1fe": {
          "model_module": "@jupyter-widgets/controls",
          "model_name": "DescriptionStyleModel",
          "model_module_version": "1.5.0",
          "state": {
            "_model_module": "@jupyter-widgets/controls",
            "_model_module_version": "1.5.0",
            "_model_name": "DescriptionStyleModel",
            "_view_count": null,
            "_view_module": "@jupyter-widgets/base",
            "_view_module_version": "1.2.0",
            "_view_name": "StyleView",
            "description_width": ""
          }
        },
        "b3dcd700fd544a8688df17626595d3f7": {
          "model_module": "@jupyter-widgets/base",
          "model_name": "LayoutModel",
          "model_module_version": "1.2.0",
          "state": {
            "_model_module": "@jupyter-widgets/base",
            "_model_module_version": "1.2.0",
            "_model_name": "LayoutModel",
            "_view_count": null,
            "_view_module": "@jupyter-widgets/base",
            "_view_module_version": "1.2.0",
            "_view_name": "LayoutView",
            "align_content": null,
            "align_items": null,
            "align_self": null,
            "border": null,
            "bottom": null,
            "display": null,
            "flex": null,
            "flex_flow": null,
            "grid_area": null,
            "grid_auto_columns": null,
            "grid_auto_flow": null,
            "grid_auto_rows": null,
            "grid_column": null,
            "grid_gap": null,
            "grid_row": null,
            "grid_template_areas": null,
            "grid_template_columns": null,
            "grid_template_rows": null,
            "height": null,
            "justify_content": null,
            "justify_items": null,
            "left": null,
            "margin": null,
            "max_height": null,
            "max_width": null,
            "min_height": null,
            "min_width": null,
            "object_fit": null,
            "object_position": null,
            "order": null,
            "overflow": null,
            "overflow_x": null,
            "overflow_y": null,
            "padding": null,
            "right": null,
            "top": null,
            "visibility": null,
            "width": null
          }
        },
        "c8480ea139a44400b646a140b5c98542": {
          "model_module": "@jupyter-widgets/controls",
          "model_name": "ProgressStyleModel",
          "model_module_version": "1.5.0",
          "state": {
            "_model_module": "@jupyter-widgets/controls",
            "_model_module_version": "1.5.0",
            "_model_name": "ProgressStyleModel",
            "_view_count": null,
            "_view_module": "@jupyter-widgets/base",
            "_view_module_version": "1.2.0",
            "_view_name": "StyleView",
            "bar_color": null,
            "description_width": ""
          }
        },
        "9657327f54984659b26b88df6423085c": {
          "model_module": "@jupyter-widgets/base",
          "model_name": "LayoutModel",
          "model_module_version": "1.2.0",
          "state": {
            "_model_module": "@jupyter-widgets/base",
            "_model_module_version": "1.2.0",
            "_model_name": "LayoutModel",
            "_view_count": null,
            "_view_module": "@jupyter-widgets/base",
            "_view_module_version": "1.2.0",
            "_view_name": "LayoutView",
            "align_content": null,
            "align_items": null,
            "align_self": null,
            "border": null,
            "bottom": null,
            "display": null,
            "flex": null,
            "flex_flow": null,
            "grid_area": null,
            "grid_auto_columns": null,
            "grid_auto_flow": null,
            "grid_auto_rows": null,
            "grid_column": null,
            "grid_gap": null,
            "grid_row": null,
            "grid_template_areas": null,
            "grid_template_columns": null,
            "grid_template_rows": null,
            "height": null,
            "justify_content": null,
            "justify_items": null,
            "left": null,
            "margin": null,
            "max_height": null,
            "max_width": null,
            "min_height": null,
            "min_width": null,
            "object_fit": null,
            "object_position": null,
            "order": null,
            "overflow": null,
            "overflow_x": null,
            "overflow_y": null,
            "padding": null,
            "right": null,
            "top": null,
            "visibility": null,
            "width": null
          }
        },
        "639937c397b444b6b462a0cef5c22fa6": {
          "model_module": "@jupyter-widgets/controls",
          "model_name": "DescriptionStyleModel",
          "model_module_version": "1.5.0",
          "state": {
            "_model_module": "@jupyter-widgets/controls",
            "_model_module_version": "1.5.0",
            "_model_name": "DescriptionStyleModel",
            "_view_count": null,
            "_view_module": "@jupyter-widgets/base",
            "_view_module_version": "1.2.0",
            "_view_name": "StyleView",
            "description_width": ""
          }
        },
        "ea786bff716a49ce8db06018b1c22477": {
          "model_module": "@jupyter-widgets/controls",
          "model_name": "HBoxModel",
          "model_module_version": "1.5.0",
          "state": {
            "_dom_classes": [],
            "_model_module": "@jupyter-widgets/controls",
            "_model_module_version": "1.5.0",
            "_model_name": "HBoxModel",
            "_view_count": null,
            "_view_module": "@jupyter-widgets/controls",
            "_view_module_version": "1.5.0",
            "_view_name": "HBoxView",
            "box_style": "",
            "children": [
              "IPY_MODEL_77ad0b47e50c43239d71cd6b1ed8c913",
              "IPY_MODEL_16bb6169006c4cae96d81b7c6a3106dd",
              "IPY_MODEL_fb3c84b482a54930a5e9bf7d6781810a"
            ],
            "layout": "IPY_MODEL_a47fe438c4e44ad695a959cdc7684170"
          }
        },
        "77ad0b47e50c43239d71cd6b1ed8c913": {
          "model_module": "@jupyter-widgets/controls",
          "model_name": "HTMLModel",
          "model_module_version": "1.5.0",
          "state": {
            "_dom_classes": [],
            "_model_module": "@jupyter-widgets/controls",
            "_model_module_version": "1.5.0",
            "_model_name": "HTMLModel",
            "_view_count": null,
            "_view_module": "@jupyter-widgets/controls",
            "_view_module_version": "1.5.0",
            "_view_name": "HTMLView",
            "description": "",
            "description_tooltip": null,
            "layout": "IPY_MODEL_09744a61f6f24894aa9b255d07b1df7f",
            "placeholder": "​",
            "style": "IPY_MODEL_8ae08b61526a4398b63ed7e41ffad179",
            "value": "pytorch_model.bin: 100%"
          }
        },
        "16bb6169006c4cae96d81b7c6a3106dd": {
          "model_module": "@jupyter-widgets/controls",
          "model_name": "FloatProgressModel",
          "model_module_version": "1.5.0",
          "state": {
            "_dom_classes": [],
            "_model_module": "@jupyter-widgets/controls",
            "_model_module_version": "1.5.0",
            "_model_name": "FloatProgressModel",
            "_view_count": null,
            "_view_module": "@jupyter-widgets/controls",
            "_view_module_version": "1.5.0",
            "_view_name": "ProgressView",
            "bar_style": "success",
            "description": "",
            "description_tooltip": null,
            "layout": "IPY_MODEL_9c2cff8a4ee14d9e9c14bd47a3e46e8d",
            "max": 1575975,
            "min": 0,
            "orientation": "horizontal",
            "style": "IPY_MODEL_da8447b4f530475080430b1e2210f273",
            "value": 1575975
          }
        },
        "fb3c84b482a54930a5e9bf7d6781810a": {
          "model_module": "@jupyter-widgets/controls",
          "model_name": "HTMLModel",
          "model_module_version": "1.5.0",
          "state": {
            "_dom_classes": [],
            "_model_module": "@jupyter-widgets/controls",
            "_model_module_version": "1.5.0",
            "_model_name": "HTMLModel",
            "_view_count": null,
            "_view_module": "@jupyter-widgets/controls",
            "_view_module_version": "1.5.0",
            "_view_name": "HTMLView",
            "description": "",
            "description_tooltip": null,
            "layout": "IPY_MODEL_31b7c8113e70466b9005e3d6a673d662",
            "placeholder": "​",
            "style": "IPY_MODEL_043e4644af2e4400af7a36d2ba726b7e",
            "value": " 1.58M/1.58M [00:00&lt;00:00, 3.66MB/s]"
          }
        },
        "a47fe438c4e44ad695a959cdc7684170": {
          "model_module": "@jupyter-widgets/base",
          "model_name": "LayoutModel",
          "model_module_version": "1.2.0",
          "state": {
            "_model_module": "@jupyter-widgets/base",
            "_model_module_version": "1.2.0",
            "_model_name": "LayoutModel",
            "_view_count": null,
            "_view_module": "@jupyter-widgets/base",
            "_view_module_version": "1.2.0",
            "_view_name": "LayoutView",
            "align_content": null,
            "align_items": null,
            "align_self": null,
            "border": null,
            "bottom": null,
            "display": null,
            "flex": null,
            "flex_flow": null,
            "grid_area": null,
            "grid_auto_columns": null,
            "grid_auto_flow": null,
            "grid_auto_rows": null,
            "grid_column": null,
            "grid_gap": null,
            "grid_row": null,
            "grid_template_areas": null,
            "grid_template_columns": null,
            "grid_template_rows": null,
            "height": null,
            "justify_content": null,
            "justify_items": null,
            "left": null,
            "margin": null,
            "max_height": null,
            "max_width": null,
            "min_height": null,
            "min_width": null,
            "object_fit": null,
            "object_position": null,
            "order": null,
            "overflow": null,
            "overflow_x": null,
            "overflow_y": null,
            "padding": null,
            "right": null,
            "top": null,
            "visibility": null,
            "width": null
          }
        },
        "09744a61f6f24894aa9b255d07b1df7f": {
          "model_module": "@jupyter-widgets/base",
          "model_name": "LayoutModel",
          "model_module_version": "1.2.0",
          "state": {
            "_model_module": "@jupyter-widgets/base",
            "_model_module_version": "1.2.0",
            "_model_name": "LayoutModel",
            "_view_count": null,
            "_view_module": "@jupyter-widgets/base",
            "_view_module_version": "1.2.0",
            "_view_name": "LayoutView",
            "align_content": null,
            "align_items": null,
            "align_self": null,
            "border": null,
            "bottom": null,
            "display": null,
            "flex": null,
            "flex_flow": null,
            "grid_area": null,
            "grid_auto_columns": null,
            "grid_auto_flow": null,
            "grid_auto_rows": null,
            "grid_column": null,
            "grid_gap": null,
            "grid_row": null,
            "grid_template_areas": null,
            "grid_template_columns": null,
            "grid_template_rows": null,
            "height": null,
            "justify_content": null,
            "justify_items": null,
            "left": null,
            "margin": null,
            "max_height": null,
            "max_width": null,
            "min_height": null,
            "min_width": null,
            "object_fit": null,
            "object_position": null,
            "order": null,
            "overflow": null,
            "overflow_x": null,
            "overflow_y": null,
            "padding": null,
            "right": null,
            "top": null,
            "visibility": null,
            "width": null
          }
        },
        "8ae08b61526a4398b63ed7e41ffad179": {
          "model_module": "@jupyter-widgets/controls",
          "model_name": "DescriptionStyleModel",
          "model_module_version": "1.5.0",
          "state": {
            "_model_module": "@jupyter-widgets/controls",
            "_model_module_version": "1.5.0",
            "_model_name": "DescriptionStyleModel",
            "_view_count": null,
            "_view_module": "@jupyter-widgets/base",
            "_view_module_version": "1.2.0",
            "_view_name": "StyleView",
            "description_width": ""
          }
        },
        "9c2cff8a4ee14d9e9c14bd47a3e46e8d": {
          "model_module": "@jupyter-widgets/base",
          "model_name": "LayoutModel",
          "model_module_version": "1.2.0",
          "state": {
            "_model_module": "@jupyter-widgets/base",
            "_model_module_version": "1.2.0",
            "_model_name": "LayoutModel",
            "_view_count": null,
            "_view_module": "@jupyter-widgets/base",
            "_view_module_version": "1.2.0",
            "_view_name": "LayoutView",
            "align_content": null,
            "align_items": null,
            "align_self": null,
            "border": null,
            "bottom": null,
            "display": null,
            "flex": null,
            "flex_flow": null,
            "grid_area": null,
            "grid_auto_columns": null,
            "grid_auto_flow": null,
            "grid_auto_rows": null,
            "grid_column": null,
            "grid_gap": null,
            "grid_row": null,
            "grid_template_areas": null,
            "grid_template_columns": null,
            "grid_template_rows": null,
            "height": null,
            "justify_content": null,
            "justify_items": null,
            "left": null,
            "margin": null,
            "max_height": null,
            "max_width": null,
            "min_height": null,
            "min_width": null,
            "object_fit": null,
            "object_position": null,
            "order": null,
            "overflow": null,
            "overflow_x": null,
            "overflow_y": null,
            "padding": null,
            "right": null,
            "top": null,
            "visibility": null,
            "width": null
          }
        },
        "da8447b4f530475080430b1e2210f273": {
          "model_module": "@jupyter-widgets/controls",
          "model_name": "ProgressStyleModel",
          "model_module_version": "1.5.0",
          "state": {
            "_model_module": "@jupyter-widgets/controls",
            "_model_module_version": "1.5.0",
            "_model_name": "ProgressStyleModel",
            "_view_count": null,
            "_view_module": "@jupyter-widgets/base",
            "_view_module_version": "1.2.0",
            "_view_name": "StyleView",
            "bar_color": null,
            "description_width": ""
          }
        },
        "31b7c8113e70466b9005e3d6a673d662": {
          "model_module": "@jupyter-widgets/base",
          "model_name": "LayoutModel",
          "model_module_version": "1.2.0",
          "state": {
            "_model_module": "@jupyter-widgets/base",
            "_model_module_version": "1.2.0",
            "_model_name": "LayoutModel",
            "_view_count": null,
            "_view_module": "@jupyter-widgets/base",
            "_view_module_version": "1.2.0",
            "_view_name": "LayoutView",
            "align_content": null,
            "align_items": null,
            "align_self": null,
            "border": null,
            "bottom": null,
            "display": null,
            "flex": null,
            "flex_flow": null,
            "grid_area": null,
            "grid_auto_columns": null,
            "grid_auto_flow": null,
            "grid_auto_rows": null,
            "grid_column": null,
            "grid_gap": null,
            "grid_row": null,
            "grid_template_areas": null,
            "grid_template_columns": null,
            "grid_template_rows": null,
            "height": null,
            "justify_content": null,
            "justify_items": null,
            "left": null,
            "margin": null,
            "max_height": null,
            "max_width": null,
            "min_height": null,
            "min_width": null,
            "object_fit": null,
            "object_position": null,
            "order": null,
            "overflow": null,
            "overflow_x": null,
            "overflow_y": null,
            "padding": null,
            "right": null,
            "top": null,
            "visibility": null,
            "width": null
          }
        },
        "043e4644af2e4400af7a36d2ba726b7e": {
          "model_module": "@jupyter-widgets/controls",
          "model_name": "DescriptionStyleModel",
          "model_module_version": "1.5.0",
          "state": {
            "_model_module": "@jupyter-widgets/controls",
            "_model_module_version": "1.5.0",
            "_model_name": "DescriptionStyleModel",
            "_view_count": null,
            "_view_module": "@jupyter-widgets/base",
            "_view_module_version": "1.2.0",
            "_view_name": "StyleView",
            "description_width": ""
          }
        }
      }
    }
  },
  "cells": [
    {
      "cell_type": "markdown",
      "metadata": {
        "id": "view-in-github",
        "colab_type": "text"
      },
      "source": [
        "<a href=\"https://colab.research.google.com/github/flora0110/sentence_prediction/blob/main/Extraction_based_summarization.ipynb\" target=\"_parent\"><img src=\"https://colab.research.google.com/assets/colab-badge.svg\" alt=\"Open In Colab\"/></a>"
      ]
    },
    {
      "cell_type": "markdown",
      "source": [
        "# input data"
      ],
      "metadata": {
        "id": "bh3CJRAEbjVV"
      }
    },
    {
      "cell_type": "code",
      "execution_count": 1,
      "metadata": {
        "colab": {
          "base_uri": "https://localhost:8080/"
        },
        "id": "icKpjyhSq8w3",
        "outputId": "1071c159-a79a-4cca-fa02-fde74d2aa7a7"
      },
      "outputs": [
        {
          "output_type": "stream",
          "name": "stdout",
          "text": [
            "Mounted at /content/drive\n"
          ]
        }
      ],
      "source": [
        "from google.colab import drive\n",
        "drive.mount('/content/drive')"
      ]
    },
    {
      "cell_type": "code",
      "source": [
        "import json\n",
        "\n",
        "with open('/content/drive/MyDrive/senior/LAB/LawCaseRetreiver/sentence_predict/dataset_new/train_data.json', 'r', encoding='utf-8') as f:\n",
        "    train_data = json.load(f)\n",
        "\n",
        "with open('/content/drive/MyDrive/senior/LAB/LawCaseRetreiver/sentence_predict/dataset_new/test_data.json', 'r', encoding='utf-8') as f:\n",
        "    test_data = json.load(f)"
      ],
      "metadata": {
        "id": "CvmAq0tJrD7O"
      },
      "execution_count": 2,
      "outputs": []
    },
    {
      "cell_type": "code",
      "source": [
        "print(train_data[0])\n",
        "print(test_data[0])"
      ],
      "metadata": {
        "colab": {
          "base_uri": "https://localhost:8080/"
        },
        "id": "04-yhgahrPoX",
        "outputId": "3a7a1c2d-3f21-4e71-c61d-bdce0d921872"
      },
      "execution_count": 3,
      "outputs": [
        {
          "output_type": "stream",
          "name": "stdout",
          "text": [
            "{'id': 'SlU-F40BlrB_n9qTlLQf', 'reason': '偽造文書', 'sentance': 120, 'fact': '一、陳泰龍明知其與泰國籍女子陳玉婉（泰國名字為JARUWANWONGPRATOOM，陳玉婉涉嫌本案偽造文書部分，另經臺灣臺南地方法院檢察署檢察官通緝中）間並無結婚之真意，然因詹巧薇、張晉源等人欲找臺灣男子前往泰國與泰國女子辦理假結婚，林清水負責介紹臺灣男子予詹巧薇、張晉源等人以賺取新臺幣（下同）1萬元之仲介費，適陳泰龍依林清水於報紙上刊登之徵人廣告應徵時，由林清水告知泰國女子欲以假結婚之方式申請來臺居留工作，其若擔任假結婚之人頭老公，除不用負擔前往泰國之食宿、機票費用外，尚可獲取5、6萬元之報酬，迨陳泰龍應允同意後，林清水將其轉介紹予詹巧薇、張晉源等人，陳泰龍遂與林清水、詹巧薇、張晉源等人共同基於行使使公務員登載不實公文書之概括犯意聯絡，先由陳泰龍依指示於民國93年4月3日前往泰國，並於同年月7日與陳玉婉在泰國曼谷市法拉坎農區註冊辦事處登記結婚，取得上開註冊辦事處核發之結婚登記書、結婚證書等文件後，陳泰龍即行返臺，並於同年5月19日持經我國駐泰國臺北經濟文化辦事處認證之上開結婚登記書、結婚證書等資料，至臺南縣永康市（改制前稱謂，以下沿用舊制稱謂）戶政事務所填寫結婚登記申請書，申請辦理其與陳玉婉之結婚登記，因此使上開戶政事務所僅有形式審查權之承辦公務員陷於錯誤，於形式上審核後，將陳泰龍與陳玉婉於93年4月7日結婚之不實事項，登載於其職務上所掌屬公文書之戶籍登記資料內，並據以核發戶籍謄本，而足以生損害於戶政機關對於戶政管理及戶籍登記資料維護之正確性。迨陳玉婉來臺後，為取得居留身分，再由陳泰龍、陳玉婉承前概括之犯意聯絡，於同年6月14日及94年5月5日，均持前開登載不實之戶籍謄本等資料，先後向臺南縣政府警察局外事課申請核發陳玉婉之外僑居留證及申請居留證延期而連續行使之（業經檢察官當庭補充），經承辦人員實質審查結果，均未發覺陳泰龍與陳玉婉假結婚之實情，而發給陳玉婉居留證或核准延期，各足以生損害於主管機關對外僑居留管理之正確性。二、案經臺南市警察局（現改制為臺南市政府警察局，以下沿用舊制稱謂）第一分局報告臺灣臺南地方法院檢察署檢察官偵查起訴。理由甲、程序方面：一、本件以下所引用具傳聞證據性質之供述證據，因本件被告陳泰龍、檢察官等人於本院準備程序進行時，均未爭執前開陳述之證據能力，且迄至本案言詞辯論終結前亦均未聲明異議，應視為已同意援引作為證據，又本院審酌前開證據作成時之情況及證據取得過程等節，並無非出於任意性、不正取供或其他違法不當情事，且客觀上亦無顯不可信之情況，堪認為適當，是依刑事訴訟法第159條之5規定，均有證據能力。二、卷附之被告及陳玉婉入出國日期紀錄各1份等書證，均非屬供述證據，皆無傳聞法則之適用，復均無違反法定程序取得之情形，依刑事訴訟法第158條之4規定之反面解釋，均應有證據能力。乙、實體方面：一、訊據被告固坦承於上開時、地，透過共犯林清水之介紹，先至泰國辦理與共犯陳玉婉之結婚手續，再前往臺南縣永康市戶政事務所辦理結婚登記，又前往臺南縣政府警察局外事課辦理共犯陳玉婉之外僑居留證及申請居留證延期之事實，惟矢口否認有何行使使公務員登載不實文書情事，於本院審理時辯稱：伊當時經濟狀況良好，因同居女友欲去日本工作而不願結婚，然伊希望結婚生子，遂透過共犯林清水之介紹與安排，共犯林清水先讓伊看過共犯陳玉婉之照片，伊再前往泰國與共犯陳玉婉結婚，伊僅負擔自己的來回機票錢及泰國住宿費用，其他結婚費用均由共犯林清水負擔，伊則贈送伊的一部機車予共犯林清水以為回報，伊並不認識共犯詹巧薇云云。經查：(一)被告於93年4月3日前往泰國，並於同年月7日與共犯陳玉婉在泰國曼谷市法拉坎農區註冊辦事處登記結婚，取得上開註冊辦事處核發之結婚登記書、結婚證書等文件後，被告即行返臺，並於同年5月19日持經我國駐泰國臺北經濟文化辦事處認證之上開結婚登記書、結婚證書等資料，至臺南縣永康市戶政事務所填寫結婚登記申請書，申請辦理其與共犯陳玉婉之結婚登記，並取得戶籍謄本。迨共犯陳玉婉來臺後，為取得居留身分，被告與共犯陳玉婉於同年6月14日及94年5月5日，均持前開戶籍謄本等資料，先後向臺南縣政府警察局外事課申請核發共犯陳玉婉之外僑居留證及申請居留證延期等情，業據被告供承在卷，並有結婚登記申請書、授權書各1份、結婚登記書、結婚證書各1份（含中文、泰文影本及我國駐泰國臺北經濟文化辦事處認證之資料）、93年6月14日及94年5月5日之外國人居留停留案件聲請表各1份、被告及共犯陳玉婉之入出國日期紀錄各1份、共犯陳玉婉之外僑居留資料查詢1份在卷可按（見警三卷即南市警一刑偵字第0994101517號卷第6至24、33頁）。上開事實，首堪認定。(二)共犯詹巧薇、張晉源等人當時欲找臺灣人與泰國女子結婚，由共犯林清水於報紙上刊登徵人廣告，若應徵者符合與泰國人結婚之條件，便將應徵者介紹予共犯詹巧薇、張晉源等人，共犯林清水可從中獲取1萬元之仲介費，適被告依前開徵人廣告應徵，共犯林清水衡量其條件後告知其可至泰國結婚，其除不用負擔前往泰國之機票及食宿費用外，尚可獲取5至6萬元之報酬，被告應允同意後，共犯林清水將其介紹予詹巧薇、張晉源等人，被告即依指示前往泰國與為了來臺工作且無結婚真意的共犯陳玉婉辦理結婚事宜等情，業據共犯林清水於警詢時證稱：伊登報徵人到泰國結婚，被告看報紙來的，伊便轉介予共犯詹巧薇，由共犯詹巧薇安排後續到泰國結婚之事宜，被告除不用負擔前往泰國機票、食宿等費用，尚可獲取約5至6萬元酬勞，伊則可自共犯詹巧薇獲取約1萬元之仲介費用；伊只有將被告轉介予共犯詹巧薇，並未參與後續被告前往泰國之證照、機票、食宿等相關事宜；被告係因缺錢，為了賺取擔任人頭配偶的佣金5至6萬，並不是真的要與泰國人結婚，共犯陳玉婉係為了來臺灣工作賺錢，亦不是真的要與臺灣人結婚等語（見警三卷第2至3頁）；並於本院審理時具結證稱：當初共犯詹巧薇、張晉源等人欲找男子前往泰國結婚，伊曾刊登「男、女不限、經驗不拘」等內容之徵人廣告，被告見報應徵時，被告係因缺錢才來找伊，伊衡量被告條件後認為其只能利用結婚賺取報酬，伊才向其表示是要辦結婚，伊告知被告可安排其去泰國結婚，其不用負擔食宿及機票等費用，可實拿5至6萬元的報酬，被告同意後，伊將被告介紹予共犯詹巧薇、張晉源，共犯張晉源給付佣金1萬元予伊；伊與被告談論泰國結婚事宜時，伊與被告均不知被告之結婚對象為何人，伊亦未見過與被告結婚之泰國女子，伊僅介紹被告予共犯詹巧薇、張晉源等人，伊並未參予後續之泰國結婚、辦理結婚登記及居留申請等事情；被告曾給伊一部機車，當時被告表示要去別的地方，機車留在臺南無人使用，伊修理使用一段期間後，因再度壞掉便未再使用等語（見本院卷第68頁背面至71頁）。而共犯林清水於93、94年間，因仲介臺灣人民陳益昌、林哲銘、廖震南、陳朝榮、王照明等5人擔任人頭老公與泰國女子假結婚，陳益昌等5人均獲取5至7萬元報酬等情，經本院以95年度簡上字第330號判處有期徒刑7月確定，另共犯詹巧薇於92年間，因與共犯張晉源等人共同仲介臺灣人民莊國寶、林世欽、蔡明峰等3人擔任人頭老公與泰國女子假結婚等情，經本院以99年度簡字第1313號判處有期徒刑4月並減為有期徒刑2月確定，又共犯林清水、詹巧薇因本案被告與共犯陳玉婉辦理假結婚致涉嫌共同行使使公務員登載不實文書犯行部分，經臺灣臺南地方法院檢察官認為與前開95年度簡上字第330號、99年度簡字第1313號論罪科刑部分有連續犯之裁判上一罪關係，故均以99年度偵字第17571、17771號、100年度偵字第4564號為不起訴處分確定，有前開判決書及不起訴處分書各1份在卷可按，堪認共犯林清水、詹巧薇、張晉源確曾仲介或安排臺灣男子前往泰國與泰國女子假結婚無訛。又被告與共犯林清水並無任何仇怨糾葛，被告尚提供一部機車予共犯林清水使用，衡諸常情，共犯林清水尚無隨意誣指構陷被告之動機，復衡以其於本院中具結後證述上情歷歷，核與其警詢中證述之情節大致相符，苟非親身經歷，尚均無圖陷被告入罪而自行擔負偽證罪責風險之必要，顯見其確係依憑當時親身見聞所為之證述，參以被告於93年4月26日將戶籍遷移寄放至共犯林清水籍設於臺南縣永康市○○路152號之住所，其戶籍遷入目的係為了便利結婚登記之辦理，被告亦依此戶籍地向臺南縣永康市戶政事務所辦理其與共犯陳玉婉之結婚登記等情，業據被告於本院審理時供承伊戶籍寄放於前開住址不諱，及共犯林清水於本院審理時具結證稱：被告將戶籍寄放於伊住所是為了辦理結婚，要拿證件辦理結婚登記比較方便等語（見本院卷第70頁），並有被告及共犯林清水之個人戶籍資料查詢結果各1份、結婚登記申請書1份在卷可佐，而前開95年度簡上字第330號案件中之人頭老公林哲銘亦由共犯林清水提供前開住所供其設籍，並依該戶籍地辦理結婚登記等情，亦據證人林哲銘於警詢時證述明確（見警二卷第19頁），並有證人林哲銘之結婚登記申請書1紙附卷可佐（見警二卷第46頁），益徵被告確係共犯林清水仲介之人頭老公的其中一人甚明。(三)綜上所述，被告與共犯陳玉婉確係假結婚無訛，是被告前開所辯，要屬卸責之詞，殊無可採。本案事證至臻明確，被告上開犯行堪以認定，應予依法論科。二、按被告行為後，刑法業於民國94年2月2日修正公布，並自95年7月1日施行。按行為後法律有變更者，適用行為時之法律，但行為後之法律有利於行為人者，適用最有利於行為人之法律，修正後刑法第2條第1項定有明文。該規定係規範行為後法律變更所生新舊法律比較適用之準據法，是刑法第2條本身雖經修正，尚無比較新舊法之問題，應一律適用裁判時之刑法第2條規定。次按本次刑法修正之新舊法比較，應就罪刑有關之共犯、未遂犯、想像競合犯、牽連犯、連續犯、結合犯、以及累犯加重、自首減輕暨其他法定加減原因（如身分加減）與加減例等一切情形，綜其全部罪刑之結果而為比較，有最高法院95年5月23日95年度第8次刑庭會議決議可資參照。經查：(一)依增訂之刑法施行法第1條之1：「中華民國94年1月7日刑法修正施行後，刑法分則編所定罰金之貨幣單位為新臺幣。94年1月7日刑法修正時，刑法分則編未修正之條文定有罰金者，自94年1月7日刑法修正施行後，就其所定數額提高為30倍。但72年6月26日至94年1月7日新增或修正之條文，就其所定數額提高為3倍。」，是比較修正後刑法施行法第1條之1第2項與罰金罰鍰提高標準條例第1條之結果，因兩者之罰金最高額度相同而無有利不利之情形，自無刑法第2條第1項之適用，應逕依現行有效且具特別法性質之刑法施行法第1條之1的規定。(二)刑法第33條第5款修正為：「主刑之種類如下：五、罰金：新臺幣1000元以上，以百元計算之。」，是依修正後之法律，刑法第335條第1項之侵占罪所得科處之罰金刑最低為新臺幣1000元，而另依修正前刑法第33條第5款及罰金罰鍰提高標準條例第1條前段規定，罰金最低額則為銀元1元折算為新臺幣3元，故比較新舊法之結果，自以修正前刑法第33條第5款規定較有利於被告。(三)刑法第28條修正前規定為：「2人以上共同實施犯罪之行為者，皆為正犯。」，而修正後規定為：「2人以上共同實行犯罪之行為者，皆為正犯。」，是依修正後之規定係將共同正犯限於直接從事構成犯罪事實之行為者，而排除陰謀共同正犯及預謀共同正犯之類型，故修正後共同正犯之可罰性要件之範圍業已限縮。惟本件被告既係直接從事構成犯罪事實之行為，則比較修正前後規定之結果，並無有利或不利之情形，應逕依修正後規定。(四)刑法第56條連續犯之規定於刑法修正後業經刪除，是新法修正施行後，行為人之數犯罪行為便須分論併罰。是該項刪除雖非犯罪構成要件之變更，但已影響行為人刑罰之法律效果，自屬法律有所變更而有比較新舊法之必要。若依舊法之規定，以一罪論而僅加重其刑至2分之1，但若依新法則須分科併罰，經比較之結果，自以修正前刑法第56條對被告較為有利。(五)綜上，本院綜合被告所涉上揭全部罪行之一切情形而為比較，揆諸前揭最高法院決議及刑法第2條第1項前段規定，被告適用行為時即修正前刑法之相關規定，對其較為有利，自應一體適用修正前刑法規定予以處斷。三、論罪科刑：(一)核被告所為，係犯刑法第216條、第214條之行使使公務員登載不實文書罪。被告與共犯林清水、詹巧薇、張晉源等人就上揭犯行，彼此間有犯意聯絡及行為分擔，為共同正犯。被告使公務員登載不實事項於其所掌公文書之低度行為，為行使之高度行為所吸收，不另論罪。被告於93年5月19日、93年6月14日及94年5月5日先後多次行使使公務員登載不實文書之犯行，時間密接，所犯係構成要件相同之罪名，顯係基於概括犯意反覆為之，為連續犯，應依修正前刑法第56條規定論以一罪，並加重其刑。(二)爰審酌被告為圖私利，竟藉由假結婚之方式便利共犯陳玉婉入境居留，損害戶政機關結婚登記及主管機關對於外國人居留管理之正確性，對社會秩序、善良風俗及警政機關對治安之管理均非無潛在之危害，復參酌被告犯後自始否認犯行，未見悔意，及其智識程度、生活狀況等一切情狀，量處如主文所示之刑，以資懲儆。另被告行為後，關於易科罰金之折算標準，依修正前刑法第41條第1項前段及廢止前罰金罰鍰提高標準條例第2條，係以銀元1百元、2百元或3百元，即新臺幣3百元、6百元或9百元折算1日，而依修正後刑法第41條第1項前段規定，則係以新臺幣1千元、2千元或3千元折算1日，故依刑法第2條第1項前段之規定來比較新舊法之結果，應適用修正前之規定較為有利，爰依修正前刑法第41條第1項前段及廢止前罰金罰鍰提高標準條例第2條諭知易科罰金之折算標準。又被告之犯罪時間係在96年4月24日以前，所犯合於中華民國九十六年罪犯減刑條例之減刑條件，應依該條例第2條第1項第3款、第7條及第9條，減其宣告刑2分之1，並諭知易科罰金之折算標準。四、末按連續數行為而犯同一之罪名，均在新法施行前者，新法施行後，應依新法第2條第1項之規定，適用最有利於行為人之法律。部分之數行為，發生在新法施行前者，新法施行後，該部分適用最有利於行為人之法律。若其中部分之一行為或數行為，發生在新法施行後者，該部分不能論以連續犯（最高法院95年度第8次刑事庭會議決議參照，即該決議五數罪併罰之(四)連續犯部分）。查被告涉嫌於96年5月28日及96年9月3日與共犯陳玉婉共同持前開登載不實之戶籍謄本等資料，先後向臺南縣政府警察局外事課申請核發陳玉婉之延期居留等事宜，有96年5月28日及96年9月3日之外國人居留停留案件申請表各1份附卷可憑，被告此部分涉嫌共同行使使公務員登載不實文書犯行，均在95年7月1日刑法修正廢除第56條連續犯規定以後，亦未據檢察官記載於起訴書犯罪事實內，揆諸前開說明，此部分犯行與前開論罪科刑部份無連續犯之裁判上一罪關係，自非本院得審判之範圍，附此敘明之。據上論斷，應依刑事訴訟法第299條第1項前段，刑法第2條第1項前段、第28條、第216條、第214條，修正前刑法第56條、第41條第1項前段，刑法施行法第1條之1，修正廢止前罰金罰鍰提高標準條例第2條，中華民國96年罪犯減刑條例第2條第1項第3款、第7條、第9條，判決如主文。本案經檢察官莊玲如到庭執行職務。中華民國101年1月20日刑事第四庭審判長法官林逸梅法官鄭文祺法官莊政達以上正本證明與原本無異。如不服本判決應於收受本判後10日內向本院提出上訴書狀，並應敘述具體理由。其未敘述上訴理由者，應於上訴期間屆滿後20日內向本院補提理由書狀（均須按他造當事人之人數附繕本）「切勿逕送上級法院」。書記官吳昕韋中華民國101年2月1日附錄本案論罪科刑法條：中華民國刑法第214條（使公務員登載不實罪）明知為不實之事項，而使公務員登載於職務上所掌之公文書，足以生損害於公眾或他人者，處3年以下有期徒刑、拘役或5百元以下罰金。中華民國刑法第216條（行使偽造變造或登載不實之文書罪）行使第210條至第215條之文書者，依偽造、變造文書或登載不實事項或使登載不實事項之規定處斷。'}\n",
            "{'id': 'GHPOGo0BlrB_n9qTZiJF', 'reason': '偽造文書', 'sentance': 150, 'fact': '○、緣徐鴻光（所涉行使偽造私文書犯行，業經本院以95年度訴字第955號判決處有期徒刑3月、緩刑3年確定）因需款使用，知悉穆立明有借款管道，為求順利借款，2人竟共同意圖為自己不法所有，基於行使偽造私文書及詐欺取財之犯意聯絡，知悉車牌號碼00-000號營業小客車係徐鴻光向志朗交通有限公司（下稱志朗公司）租賃之車輛，竟由穆立明先於不詳時間、不詳地點，偽刻「志朗交通有限公司」及負責人「陳健志」印章（正確姓名為陳建志，誤刻為「陳健志」）各1枚，並偽造「陳健志」代表志朗公司與徐鴻光簽署之「臺北市計程車客運駕駛人自備車輛參與經營契約書」（下稱本案參與經營契約書），虛偽記載徐鴻光提供上述營業小客車靠行志朗公司營業等不實內容，並持上開偽刻印章，偽造「志朗交通有限公司」印文4枚、「陳健志」印文6枚於本案參與經營契約書上，再於92年3月6日交徐鴻光於立約人乙方欄簽名，2人復於同日協同不知情之徐鴻光配偶徐樂仁（所涉行使偽造私文書犯行，業經本院以95年度訴字第955號判決無罪確定），前往臺北市○○區○○街00巷0號2樓王傑生所經營之宏帝當舖（現更名為渣打當舖），由徐鴻光、穆立明交付偽造本案參與經營契約書向宏帝當鋪借款新臺幣（下同）10萬元以為行使，並約定由徐樂仁擔任連帶保證人，王傑生誤信上開車輛為徐鴻光所有而陷入錯誤，於扣除利息後交付9萬1千元借款予徐鴻光夫婦，足以生損害於志朗公司、陳建志、王傑生。嗣因徐鴻光僅清償每期7千元之分期款共11期計7萬7千元，未全額清償即無力負擔債務，王傑生始查知上開車輛非徐鴻光所有，而悉上情。二、案經王傑生訴由臺灣士林地方法院檢察署檢察官偵查起訴。理由○、證據能力部分：被告以外之人於審判外之言詞或書面陳述，除法律有規定者外，不得作為證據；又被告以外之人於審判外之陳述，雖不符合同法第159條之1至第159條之4之規定，但經當事人於審判程序同意作為證據，法院審酌該言詞陳述或書面陳述作成時之情況，認為適當者，亦得為證據。刑事訴訟法第159條第1項及第159條之5第1項分別定有明文。經查，本判決所引用之各該被告以外之人於審判外之陳述，雖屬傳聞證據，然當事人於本院審判期日中均表示同意作為證據方法而不予爭執，且迄至言詞辯論終結前亦未再聲明異議（見本院卷第68頁至第68頁背面），本院審酌上開證據資料製作時之情況，尚無違法不當及證明力明顯過低之瑕疵，亦認為以之作為證據應屬適當，故揆諸前開規定，爰依刑事訴訟法第159條之5規定，認前揭證據資料均有證據能力。二、認定犯罪事實所憑之證據及理由：（一）訊據被告穆立明固坦承有於92年3月6日帶共同被告徐鴻光、徐樂仁至宏帝當鋪借錢，惟矢口否認有何行使偽造私文書及詐欺取財之犯行，辯稱：本案參與經營契約書係由共同被告徐鴻光所提出，徐鴻光知道我在宏帝當舖當業務員，他因資金不夠，要伊帶至宏帝當鋪借錢，伊請徐鴻光帶身分證、本案參與經營契約書，證明計程車係屬於徐鴻光所有，另外要帶一位保人云云。（二）經查，證人即志英交通公司負責人陳建志於檢察官偵查中結證稱：本案參與經營契約書上之「志朗交通有限公司」、「陳健志」之印文均非我公司的大小章，志朗交通公司也是我的公司，我是負責人，但這個章不是我的，被告徐鴻光只是加入無線電台等語（見94年度偵字第8715號卷第45頁），復有其提出真正之志朗交通有限公司及其本人陳建志之印文各4枚在卷可稽（見94年度偵字第8715號卷第48頁），經核卷附本案參與經營契約書上所示之「志朗交通有限公司」、「陳健志」印文（見95年度偵緝字第60號卷第53頁），除二者字體明顯不同外，本案參與經營契約書中「陳健志」名字中之「健」一字顯係錯別字，堪認本案參與經營契約書上所示之「志朗交通有限公司」、「陳健志」印文確屬偽造一節，應可認定。（三）證人即告訴人王傑生於檢察官偵查中證稱：我經營宏帝當鋪，後改名為渣打當鋪，地址在臺北市○○街00巷0號2樓，計程車典當給我們時，我們要看參與經營契約書，被告徐鴻光有來借錢，被告穆立明當時有在場，徐鴻光給我們看本案參與經營契約書，我們就以為車子是徐鴻光的，我們找到車之後才知道車子是車行的，被告穆立明是我們公司抽獎金的業務員，穆立明介紹人來借錢，我給他獎金等語（見94年度偵字第8715號卷第37頁、95年度偵緝字第60號卷第49頁、第68頁），且證人朱庭峰於檢察官偵查中及本院審理時亦結證稱：我是宏帝當鋪的負責人，後來當鋪讓給王傑生，被告徐鴻光到宏帝當鋪借款10萬元，係由我接洽，當時是被告穆立明介紹，穆立明不是公司職員，他會介紹車子到我們公司來典當，我會給穆立明佣金，即我收到1,000元利息，就給他100元，本案參與經營契約書是由穆立明拿出來等語（見95年度偵緝字第60號卷第68頁至第69頁、95年度訴字第955號卷第66頁至第67頁），復有本案參與經營契約書、本票影本各1份附卷可憑（見94年度偵字第8715號卷第14頁至第17頁），足認共同被告徐鴻光係經被告穆立明介紹，持本案參與經營契約書於上開時間前往宏帝當鋪借款10萬元，且被告穆立明於借款時在場之事實，洵堪認定。（四）被告穆立明雖辯稱：本案參與經營契約書係共同被告徐鴻光所提出，伊僅有將徐鴻光帶去當鋪，就由當舖的人接洽云云，惟查，證人即共同被告徐鴻光於本院審理時證稱：因為我當司機收入不高，家裡有需要用錢，被告穆立明說有辦法借錢，我請被告穆立明帶我去借款，被告穆立明有帶我去當鋪，我太太徐樂仁當時有一起陪同，卷附之本票影本係我當時在當鋪簽立，而本案參與經營契約書係被告穆立明幫我準備好的，經我在當舖蓋我的章及簽名，被告穆立明拿給我時契約書已經寫好資料，至於被告穆立明提出本案參與經營契約書之來源我不知道，被告穆立明只有要我帶駕照、行照、身分證及私章，車號00-000號營業用小客車是我用租的車子，車子是志朗公司的車子，本案參與經營契約書內容不是真的，車子不是我自備的，只有契約書末頁乙方的簽名是我簽的等語（見本院卷第64頁至第66頁背面），核與其在檢察官偵查中證稱：被告穆立明有帶我去宏帝當鋪向朱先生借錢，我借10萬元，本案參與經營契約書係被告穆立明幫我準備好的，前面的簽名及資料是被告穆立明簽的，只有最後的簽名是我簽的等語大致相符（見95年度偵緝字第60號卷第48頁至第49頁），再查，參以被告穆立明於本院審理時當庭書寫徐鴻光名字之字跡經與本案參與經營契約書立契約書人一欄所簽署「徐鴻光」之筆跡比對後（見本院卷第73頁），依肉眼觀之，不論字跡之運筆、筆勾等字體外觀，均較為吻合，反觀該契約書頁末之乙方「徐鴻光」之筆跡，與頁首立契約書人一欄所簽署「徐鴻光」之筆跡之運筆及筆勾，字跡明顯不同，是被告穆立明辯稱本案參與經營契約書係由共同被告徐鴻光提出云云，已難採信；又證人徐鴻光於本院審理時證稱：我曾經用上開車輛向別的當鋪借錢，當時別的當鋪說車子用租的也可以借，只要押行照在那裡即可，不需要像本件一樣的契約，本件是我去當鋪，他們說該簽名的地方，我就簽名，且是我透過別的司機得知被告穆立明可以幫我問問哪裡可以借錢，所以才找被告穆立明等語（見本院卷第65頁背面至第66頁背面），衡以證人徐鴻光涉犯本案犯行業經本院認定有罪確定，自應無虛偽陳述之動機，且被告穆立明自承與證人徐鴻光無糾紛，同為排班計程車司機，為點頭之交乙情，亦認證人徐鴻光無涉詞誣陷被告穆立明之可能；再參以證人王傑生、朱庭峰皆證述本案參與經營契約書係由被告穆立明提出一節，又被告並不否認宏帝當舖僅同意典當個人所有靠行之車輛，不同意典當向車行租的車輛等情，而本件共同被告徐鴻光既有提供行照予被告穆立明，業經其證述如前，則自行照之記載內容即可知悉上開車輛所有人為何人，被告穆立明豈有不知上開車輛所有人為何人之理，況被告穆立明供認介紹共同被告徐鴻光予宏帝當鋪借錢有利息百分之十之報酬等語（見本院卷第69頁背面），其當有可能為促成徐鴻光與宏帝當鋪借款，而提出本案經營契約書供作本件借款之用，是被告穆立明辯稱車子是徐鴻光說其自己所有，本案參與經營契約書係徐鴻光自行提出云云，顯係事後卸責之詞，不足採信。（五）綜上所述，被告上開所辯各節，無非事後避重就輕、圖卸之詞，不足採信，被告行使偽造私文書及詐欺取財等犯行，事證明確，應依法論科。三、論罪科刑部分：（一）按被告行為後，94年2月2日修正公布之刑法已於95年7月1日生效施行，其中第2條第1項「行為後法律有變更者，適用行為時之法律。但行為後之法律有利於行為人者，適用最有利於行為人之法律」之規定，係規範行為後法律變更所生新、舊法律比較適用之準據法，並非刑法實體法律，自不生行為後法律變更之比較適用問題，故刑法修正施行後，應適用該修正後之第2條第1項之規定，依「從舊、從輕」之原則比較新、舊法律之適用；又比較新舊法時，應就罪刑有關之共犯、未遂犯、想像競合犯、牽連犯、連續犯、結合犯，以及累犯加重、自首減輕暨其他法定加減原因（如身分加減）與加減例等一切情形，綜其全部罪刑之結果而為比較後，再適用有利於行為人之法律處斷，而不得一部割裂分別適用不同之新、舊法（最高法院24年上字第4634號、29年上字第964號判例意旨及最高法院95年度第8次刑事庭會議決議參照）。經查：1.刑法第33條第5款關於罰金刑之規定業於94年2月2日修正，於95年7月1日生效，修正前刑法第33條第5款規定：「罰金：1元（銀元）以上。」，並依現行法規所定貨幣單位折算新臺幣條例規定，以銀元1元折算新臺幣3元，故修正前刑法規定罰金之最低數額為新臺幣3元；修正後刑法第33條第5款規定：「罰金：新臺幣1,000元以上，以百元計算之。」，故修正後刑法規定罰金之最低數額提高為新臺幣1,000元；比較上開罰金刑之最高數額，於修正後並無不同，惟修正後刑法第33條第5款所定罰金刑最低數額，既較修正前提高，依前開說明，應適用對被告有利之修正前刑法第33條第5款之規定。2.修正前刑法第28條規定：「二人以上共同實施犯罪之行為者，皆為正犯。」，修正後該條規定為：「二人以上共同實行犯罪之行為者，皆為正犯。」，揆諸本條之修正理由，係為釐清陰謀共同正犯、預備共同正犯、共謀共同正犯是否合乎本條之正犯要件，並將陰謀共同正犯、預備共同正犯剔除於本條適用之外，以符合近代刑法之個人責任原則、法治國人權保障思想及犯罪支配理論，自屬行為後法律有變更，而非僅屬文字修正，應有新舊法比較適用問題（最高法院97年度台上字第37號判決意旨參照）。本件被告穆立明與徐鴻光就前揭行使偽造私文書及詐欺取財犯行各具有犯意聯絡及行為分擔，不論依修正前或修正後之規定，均屬共同正犯，對被告並無有利或不利之情形，應適用行為時之法律。3.被告行為後新法業已刪除牽連犯之規定，依舊法成立方法、結果行為而僅論以一罪者，依新法將論以數罪，比較新、舊法結果，自以修正前刑法第55條牽連犯之規定，較有利於被告。4.綜此，本院經綜合上述各條文修正前、後之比較，參照前揭最高法院決議及修正後刑法第2條第1項前段、後段規定之「從舊、從輕」原則，被告穆立明上開犯行自應適用行為時之法律，予以論處。（二）核被告穆立明所為，係犯刑法第216條、第210條之行使偽造私文書罪、同法第339條第1項詐欺取財罪。被告穆立明於本案參與經營契約書上偽造「志朗交通有限公司」、「陳健志」印章及印文乃偽造私文書之部分行為，其偽造本案參與經營契約書後持以行使，偽造之低度行為復為行使之高度行為所吸收，均不另論罪。被告穆立明與徐鴻光就行使偽造私文書及詐欺之犯行有犯意聯絡及行為分擔，為共同正犯。又其等行使偽造私文書之目的，在詐取告訴人之金錢，所犯連續行使偽造私文書與詐欺取財2罪間，有方法、目的之牽連關係，應依修正前刑法第55條規定，從一較重之行使偽造私文書罪處斷。（三）爰審酌被告穆立明不思以正當途徑賺取錢財，竟偽造志朗公司及其負責人陳建志之印章，進而偽造本案參與經營契約書，而詐取告訴人之金錢，足生損害於志朗公司、陳建志、告訴人，並危害社會交易秩序，所為實有不該，犯後否認犯行，未見悔悟之心，兼衡被告穆立明有違反票據法之前科，有臺灣高等法院被告前案紀錄表在卷可稽（見本院卷第60頁），素行尚可，共同被告徐鴻光於詐得借款後已陸續返還利息予告訴人與朱庭峰，及被告穆立明為高中肄業之智識程度，經濟狀況為小康之生活狀況等一切情狀（見被告警詢筆錄受詢問人欄，本院卷第6頁），量處如主文所示之刑，以資懲儆。又關於易科罰金之折算標準，修正前刑法第41條第1項前段規定：「犯最重本刑為5年以下有期徒刑以下之刑之罪，而受6個月以下有期徒刑或拘役之宣告，因身體、教育、職業、家庭之關係或其他正當事由，執行顯有困難者，得以1元以上3元以下折算1日，易科罰金。」，再依據修正前罰金罰鍰提高標準條例第2條：「依刑法第41條易科罰金或第42條第2項易服勞役者，均就其原定數額提高為1百倍折算1日；法律所定罰金數額未依本條例提高倍數，或其處罰法條無罰金刑之規定者，亦同。」之規定，被告行為時之易科罰金折算標準，應以銀元1百元以上3百元以下折算1日，經折算為新臺幣後，應以新臺幣3百元以上9百元以下折算1日。惟95年7月1日施行之刑法第41條第1項前段規定修正為：「犯最重本刑為5年以下有期徒刑以下之刑之罪，而受6個月以下有期徒刑或拘役之宣告者，得以新臺幣1千元、2千元或3千元折算一日，易科罰金。」，另95年7月1日生效施行之罰金罰鍰提高標準條例則刪除原本第2條之規定。是以比較新舊法結果，自以舊法所定之易科罰金折算標準有利於被告，故應依修正前刑法第41條第1項前段、修正前罰金罰鍰提高標準條例第2條規定，就所宣告之刑部分諭知易科罰金之折算標準。（四）偽造之「臺北市計程車客運駕駛人自備車輛參與經營契約書」原本1份固經共同被告徐鴻光於借款時行使交付予宏帝當鋪，業如前述，惟此僅係共同被告徐鴻光為借得款項，而將本案參與經營契約書交付當鋪作為擔保使用，其所有權仍為共同被告徐鴻光所有，不因行使而移轉為宏帝當鋪所有，又該偽造之契約既係供本件犯行所用，爰依刑法第38條第1項第2款規定宣告沒收。又契約上偽造之「志朗交通有限公司」印文4枚、「陳健志」之印文6枚固係偽造之印文，已因該契約之沒收而包括在內，無再重複諭知沒收之必要。另告訴人為提起本件告訴，而複印本案參與經營契約書資為證據（見94年度偵字第8715號卷第15至第17頁），因認僅係作為本案訴訟使用，而非被告穆立明、共同被告徐鴻光供本件犯行所用之物，就複印之契約書上之「志朗交通有限公司」印文4枚、「陳健志」之印文6枚，爰不予宣告沒收。至被告穆立明偽刻之「志朗交通有限公司」、「陳健志」印章各1枚，係偽造之印章，且無證據證明業已滅失，應依刑法第219條宣告沒收。（五）再按本條例施行前，經通緝而未於中華民國96年12月31日以前自動歸案接受偵查、審判或執行者，不得依本條例減刑，中華民國九十六年罪犯減刑條例第5條定有明文。查本件被告穆立明所為前開犯行之犯罪時間固係在96年4月24日以前，但其曾於中華民國九十六年罪犯減刑條例施行（96年7月16日施行）前之95年12月21日因本案經本院以95年士院刑玄緝字第463號通緝書發佈通緝，於102年9月1日甫緝獲歸案等情，此有前開通緝書、歸案證明書、本院102年士院刑玄銷字第289號撤銷通緝書各1份存卷可參（95年度訴字第955號卷第43頁、本院卷第26頁、第43頁），從而，依前開規定，本案被告無從依中華民國九十六年罪犯減刑條例之規定減刑，併此敘明。據上論斷，應依刑事訴訟法第299條第1項前段，刑法第2條1項前段、第28條、第216條、第210條、第339條第1項、第219條、第38條第1項第2款、修正前刑法第55條、第41條第1項前段，刑法施行法第1條之1第1項，修正前罰金罰鍰提高標準條例第2條，現行法規所定貨幣單位折算新臺幣條例第2條，判決如主文。本案經檢察官黃仙宜到庭執行職務。中華民國102年12月3日刑事第七庭審判長法官雷雯華法官陳介安法官蔡子琪以上正本證明與原本無異。如不服本判決應於收受送達後10日內向本院提出上訴書狀，並應敘述具體理由。其未敘述上訴理由者，應於上訴期間屆滿後20日內向本院補提理由書（均須按他造當事人之人數附繕本）「切勿逕送上級法院」。書記官李宜蓁中華民國102年12月5日附錄本案論罪科刑所依據之法條：刑法第216條、第210條、第339條第1項偽造、變造私文書，足以生損害於公眾或他人者，處5年以下有期徒刑。偽造印章、印文或署押，足以生損害於公眾或他人者，處3年以下有期徒刑。盜用印章、印文或署押，足以生損害於公眾或他人者，亦同。意圖為自己或第三人不法之所有，以詐術使人將本人或第三人之物交付者，處5年以下有期徒刑、拘役或科或併科1千元以下罰金。'}\n"
          ]
        }
      ]
    },
    {
      "cell_type": "code",
      "source": [
        "def extract_key_contents(data):\n",
        "    facts = []\n",
        "    sentences = []\n",
        "    for item in data:\n",
        "        facts.append(item.get('fact'))\n",
        "        sentences.append(item.get('sentance'))\n",
        "    return facts, sentences"
      ],
      "metadata": {
        "id": "oOOK_0x2uHIl"
      },
      "execution_count": 16,
      "outputs": []
    },
    {
      "cell_type": "code",
      "source": [
        "train_facts, train_sentences = extract_key_contents(train_data)\n",
        "test_facts, test_sentences = extract_key_contents(test_data)"
      ],
      "metadata": {
        "id": "x-Y6la9ZuJyb"
      },
      "execution_count": 17,
      "outputs": []
    },
    {
      "cell_type": "code",
      "source": [
        "print(\"Train facts:\", train_facts[:5])\n",
        "print(\"Train Sentences:\", train_sentences[:5])\n",
        "print(\"Test facts:\", test_facts[:5])\n",
        "print(\"Test Sentences:\", test_sentences[:5])"
      ],
      "metadata": {
        "colab": {
          "base_uri": "https://localhost:8080/"
        },
        "id": "ros5Z2CkuLo7",
        "outputId": "473535ff-0d62-4d99-f3a1-4cdebbe91630"
      },
      "execution_count": 18,
      "outputs": [
        {
          "output_type": "stream",
          "name": "stdout",
          "text": [
            "Train facts: ['一、陳泰龍明知其與泰國籍女子陳玉婉（泰國名字為JARUWANWONGPRATOOM，陳玉婉涉嫌本案偽造文書部分，另經臺灣臺南地方法院檢察署檢察官通緝中）間並無結婚之真意，然因詹巧薇、張晉源等人欲找臺灣男子前往泰國與泰國女子辦理假結婚，林清水負責介紹臺灣男子予詹巧薇、張晉源等人以賺取新臺幣（下同）1萬元之仲介費，適陳泰龍依林清水於報紙上刊登之徵人廣告應徵時，由林清水告知泰國女子欲以假結婚之方式申請來臺居留工作，其若擔任假結婚之人頭老公，除不用負擔前往泰國之食宿、機票費用外，尚可獲取5、6萬元之報酬，迨陳泰龍應允同意後，林清水將其轉介紹予詹巧薇、張晉源等人，陳泰龍遂與林清水、詹巧薇、張晉源等人共同基於行使使公務員登載不實公文書之概括犯意聯絡，先由陳泰龍依指示於民國93年4月3日前往泰國，並於同年月7日與陳玉婉在泰國曼谷市法拉坎農區註冊辦事處登記結婚，取得上開註冊辦事處核發之結婚登記書、結婚證書等文件後，陳泰龍即行返臺，並於同年5月19日持經我國駐泰國臺北經濟文化辦事處認證之上開結婚登記書、結婚證書等資料，至臺南縣永康市（改制前稱謂，以下沿用舊制稱謂）戶政事務所填寫結婚登記申請書，申請辦理其與陳玉婉之結婚登記，因此使上開戶政事務所僅有形式審查權之承辦公務員陷於錯誤，於形式上審核後，將陳泰龍與陳玉婉於93年4月7日結婚之不實事項，登載於其職務上所掌屬公文書之戶籍登記資料內，並據以核發戶籍謄本，而足以生損害於戶政機關對於戶政管理及戶籍登記資料維護之正確性。迨陳玉婉來臺後，為取得居留身分，再由陳泰龍、陳玉婉承前概括之犯意聯絡，於同年6月14日及94年5月5日，均持前開登載不實之戶籍謄本等資料，先後向臺南縣政府警察局外事課申請核發陳玉婉之外僑居留證及申請居留證延期而連續行使之（業經檢察官當庭補充），經承辦人員實質審查結果，均未發覺陳泰龍與陳玉婉假結婚之實情，而發給陳玉婉居留證或核准延期，各足以生損害於主管機關對外僑居留管理之正確性。二、案經臺南市警察局（現改制為臺南市政府警察局，以下沿用舊制稱謂）第一分局報告臺灣臺南地方法院檢察署檢察官偵查起訴。理由甲、程序方面：一、本件以下所引用具傳聞證據性質之供述證據，因本件被告陳泰龍、檢察官等人於本院準備程序進行時，均未爭執前開陳述之證據能力，且迄至本案言詞辯論終結前亦均未聲明異議，應視為已同意援引作為證據，又本院審酌前開證據作成時之情況及證據取得過程等節，並無非出於任意性、不正取供或其他違法不當情事，且客觀上亦無顯不可信之情況，堪認為適當，是依刑事訴訟法第159條之5規定，均有證據能力。二、卷附之被告及陳玉婉入出國日期紀錄各1份等書證，均非屬供述證據，皆無傳聞法則之適用，復均無違反法定程序取得之情形，依刑事訴訟法第158條之4規定之反面解釋，均應有證據能力。乙、實體方面：一、訊據被告固坦承於上開時、地，透過共犯林清水之介紹，先至泰國辦理與共犯陳玉婉之結婚手續，再前往臺南縣永康市戶政事務所辦理結婚登記，又前往臺南縣政府警察局外事課辦理共犯陳玉婉之外僑居留證及申請居留證延期之事實，惟矢口否認有何行使使公務員登載不實文書情事，於本院審理時辯稱：伊當時經濟狀況良好，因同居女友欲去日本工作而不願結婚，然伊希望結婚生子，遂透過共犯林清水之介紹與安排，共犯林清水先讓伊看過共犯陳玉婉之照片，伊再前往泰國與共犯陳玉婉結婚，伊僅負擔自己的來回機票錢及泰國住宿費用，其他結婚費用均由共犯林清水負擔，伊則贈送伊的一部機車予共犯林清水以為回報，伊並不認識共犯詹巧薇云云。經查：(一)被告於93年4月3日前往泰國，並於同年月7日與共犯陳玉婉在泰國曼谷市法拉坎農區註冊辦事處登記結婚，取得上開註冊辦事處核發之結婚登記書、結婚證書等文件後，被告即行返臺，並於同年5月19日持經我國駐泰國臺北經濟文化辦事處認證之上開結婚登記書、結婚證書等資料，至臺南縣永康市戶政事務所填寫結婚登記申請書，申請辦理其與共犯陳玉婉之結婚登記，並取得戶籍謄本。迨共犯陳玉婉來臺後，為取得居留身分，被告與共犯陳玉婉於同年6月14日及94年5月5日，均持前開戶籍謄本等資料，先後向臺南縣政府警察局外事課申請核發共犯陳玉婉之外僑居留證及申請居留證延期等情，業據被告供承在卷，並有結婚登記申請書、授權書各1份、結婚登記書、結婚證書各1份（含中文、泰文影本及我國駐泰國臺北經濟文化辦事處認證之資料）、93年6月14日及94年5月5日之外國人居留停留案件聲請表各1份、被告及共犯陳玉婉之入出國日期紀錄各1份、共犯陳玉婉之外僑居留資料查詢1份在卷可按（見警三卷即南市警一刑偵字第0994101517號卷第6至24、33頁）。上開事實，首堪認定。(二)共犯詹巧薇、張晉源等人當時欲找臺灣人與泰國女子結婚，由共犯林清水於報紙上刊登徵人廣告，若應徵者符合與泰國人結婚之條件，便將應徵者介紹予共犯詹巧薇、張晉源等人，共犯林清水可從中獲取1萬元之仲介費，適被告依前開徵人廣告應徵，共犯林清水衡量其條件後告知其可至泰國結婚，其除不用負擔前往泰國之機票及食宿費用外，尚可獲取5至6萬元之報酬，被告應允同意後，共犯林清水將其介紹予詹巧薇、張晉源等人，被告即依指示前往泰國與為了來臺工作且無結婚真意的共犯陳玉婉辦理結婚事宜等情，業據共犯林清水於警詢時證稱：伊登報徵人到泰國結婚，被告看報紙來的，伊便轉介予共犯詹巧薇，由共犯詹巧薇安排後續到泰國結婚之事宜，被告除不用負擔前往泰國機票、食宿等費用，尚可獲取約5至6萬元酬勞，伊則可自共犯詹巧薇獲取約1萬元之仲介費用；伊只有將被告轉介予共犯詹巧薇，並未參與後續被告前往泰國之證照、機票、食宿等相關事宜；被告係因缺錢，為了賺取擔任人頭配偶的佣金5至6萬，並不是真的要與泰國人結婚，共犯陳玉婉係為了來臺灣工作賺錢，亦不是真的要與臺灣人結婚等語（見警三卷第2至3頁）；並於本院審理時具結證稱：當初共犯詹巧薇、張晉源等人欲找男子前往泰國結婚，伊曾刊登「男、女不限、經驗不拘」等內容之徵人廣告，被告見報應徵時，被告係因缺錢才來找伊，伊衡量被告條件後認為其只能利用結婚賺取報酬，伊才向其表示是要辦結婚，伊告知被告可安排其去泰國結婚，其不用負擔食宿及機票等費用，可實拿5至6萬元的報酬，被告同意後，伊將被告介紹予共犯詹巧薇、張晉源，共犯張晉源給付佣金1萬元予伊；伊與被告談論泰國結婚事宜時，伊與被告均不知被告之結婚對象為何人，伊亦未見過與被告結婚之泰國女子，伊僅介紹被告予共犯詹巧薇、張晉源等人，伊並未參予後續之泰國結婚、辦理結婚登記及居留申請等事情；被告曾給伊一部機車，當時被告表示要去別的地方，機車留在臺南無人使用，伊修理使用一段期間後，因再度壞掉便未再使用等語（見本院卷第68頁背面至71頁）。而共犯林清水於93、94年間，因仲介臺灣人民陳益昌、林哲銘、廖震南、陳朝榮、王照明等5人擔任人頭老公與泰國女子假結婚，陳益昌等5人均獲取5至7萬元報酬等情，經本院以95年度簡上字第330號判處有期徒刑7月確定，另共犯詹巧薇於92年間，因與共犯張晉源等人共同仲介臺灣人民莊國寶、林世欽、蔡明峰等3人擔任人頭老公與泰國女子假結婚等情，經本院以99年度簡字第1313號判處有期徒刑4月並減為有期徒刑2月確定，又共犯林清水、詹巧薇因本案被告與共犯陳玉婉辦理假結婚致涉嫌共同行使使公務員登載不實文書犯行部分，經臺灣臺南地方法院檢察官認為與前開95年度簡上字第330號、99年度簡字第1313號論罪科刑部分有連續犯之裁判上一罪關係，故均以99年度偵字第17571、17771號、100年度偵字第4564號為不起訴處分確定，有前開判決書及不起訴處分書各1份在卷可按，堪認共犯林清水、詹巧薇、張晉源確曾仲介或安排臺灣男子前往泰國與泰國女子假結婚無訛。又被告與共犯林清水並無任何仇怨糾葛，被告尚提供一部機車予共犯林清水使用，衡諸常情，共犯林清水尚無隨意誣指構陷被告之動機，復衡以其於本院中具結後證述上情歷歷，核與其警詢中證述之情節大致相符，苟非親身經歷，尚均無圖陷被告入罪而自行擔負偽證罪責風險之必要，顯見其確係依憑當時親身見聞所為之證述，參以被告於93年4月26日將戶籍遷移寄放至共犯林清水籍設於臺南縣永康市○○路152號之住所，其戶籍遷入目的係為了便利結婚登記之辦理，被告亦依此戶籍地向臺南縣永康市戶政事務所辦理其與共犯陳玉婉之結婚登記等情，業據被告於本院審理時供承伊戶籍寄放於前開住址不諱，及共犯林清水於本院審理時具結證稱：被告將戶籍寄放於伊住所是為了辦理結婚，要拿證件辦理結婚登記比較方便等語（見本院卷第70頁），並有被告及共犯林清水之個人戶籍資料查詢結果各1份、結婚登記申請書1份在卷可佐，而前開95年度簡上字第330號案件中之人頭老公林哲銘亦由共犯林清水提供前開住所供其設籍，並依該戶籍地辦理結婚登記等情，亦據證人林哲銘於警詢時證述明確（見警二卷第19頁），並有證人林哲銘之結婚登記申請書1紙附卷可佐（見警二卷第46頁），益徵被告確係共犯林清水仲介之人頭老公的其中一人甚明。(三)綜上所述，被告與共犯陳玉婉確係假結婚無訛，是被告前開所辯，要屬卸責之詞，殊無可採。本案事證至臻明確，被告上開犯行堪以認定，應予依法論科。二、按被告行為後，刑法業於民國94年2月2日修正公布，並自95年7月1日施行。按行為後法律有變更者，適用行為時之法律，但行為後之法律有利於行為人者，適用最有利於行為人之法律，修正後刑法第2條第1項定有明文。該規定係規範行為後法律變更所生新舊法律比較適用之準據法，是刑法第2條本身雖經修正，尚無比較新舊法之問題，應一律適用裁判時之刑法第2條規定。次按本次刑法修正之新舊法比較，應就罪刑有關之共犯、未遂犯、想像競合犯、牽連犯、連續犯、結合犯、以及累犯加重、自首減輕暨其他法定加減原因（如身分加減）與加減例等一切情形，綜其全部罪刑之結果而為比較，有最高法院95年5月23日95年度第8次刑庭會議決議可資參照。經查：(一)依增訂之刑法施行法第1條之1：「中華民國94年1月7日刑法修正施行後，刑法分則編所定罰金之貨幣單位為新臺幣。94年1月7日刑法修正時，刑法分則編未修正之條文定有罰金者，自94年1月7日刑法修正施行後，就其所定數額提高為30倍。但72年6月26日至94年1月7日新增或修正之條文，就其所定數額提高為3倍。」，是比較修正後刑法施行法第1條之1第2項與罰金罰鍰提高標準條例第1條之結果，因兩者之罰金最高額度相同而無有利不利之情形，自無刑法第2條第1項之適用，應逕依現行有效且具特別法性質之刑法施行法第1條之1的規定。(二)刑法第33條第5款修正為：「主刑之種類如下：五、罰金：新臺幣1000元以上，以百元計算之。」，是依修正後之法律，刑法第335條第1項之侵占罪所得科處之罰金刑最低為新臺幣1000元，而另依修正前刑法第33條第5款及罰金罰鍰提高標準條例第1條前段規定，罰金最低額則為銀元1元折算為新臺幣3元，故比較新舊法之結果，自以修正前刑法第33條第5款規定較有利於被告。(三)刑法第28條修正前規定為：「2人以上共同實施犯罪之行為者，皆為正犯。」，而修正後規定為：「2人以上共同實行犯罪之行為者，皆為正犯。」，是依修正後之規定係將共同正犯限於直接從事構成犯罪事實之行為者，而排除陰謀共同正犯及預謀共同正犯之類型，故修正後共同正犯之可罰性要件之範圍業已限縮。惟本件被告既係直接從事構成犯罪事實之行為，則比較修正前後規定之結果，並無有利或不利之情形，應逕依修正後規定。(四)刑法第56條連續犯之規定於刑法修正後業經刪除，是新法修正施行後，行為人之數犯罪行為便須分論併罰。是該項刪除雖非犯罪構成要件之變更，但已影響行為人刑罰之法律效果，自屬法律有所變更而有比較新舊法之必要。若依舊法之規定，以一罪論而僅加重其刑至2分之1，但若依新法則須分科併罰，經比較之結果，自以修正前刑法第56條對被告較為有利。(五)綜上，本院綜合被告所涉上揭全部罪行之一切情形而為比較，揆諸前揭最高法院決議及刑法第2條第1項前段規定，被告適用行為時即修正前刑法之相關規定，對其較為有利，自應一體適用修正前刑法規定予以處斷。三、論罪科刑：(一)核被告所為，係犯刑法第216條、第214條之行使使公務員登載不實文書罪。被告與共犯林清水、詹巧薇、張晉源等人就上揭犯行，彼此間有犯意聯絡及行為分擔，為共同正犯。被告使公務員登載不實事項於其所掌公文書之低度行為，為行使之高度行為所吸收，不另論罪。被告於93年5月19日、93年6月14日及94年5月5日先後多次行使使公務員登載不實文書之犯行，時間密接，所犯係構成要件相同之罪名，顯係基於概括犯意反覆為之，為連續犯，應依修正前刑法第56條規定論以一罪，並加重其刑。(二)爰審酌被告為圖私利，竟藉由假結婚之方式便利共犯陳玉婉入境居留，損害戶政機關結婚登記及主管機關對於外國人居留管理之正確性，對社會秩序、善良風俗及警政機關對治安之管理均非無潛在之危害，復參酌被告犯後自始否認犯行，未見悔意，及其智識程度、生活狀況等一切情狀，量處如主文所示之刑，以資懲儆。另被告行為後，關於易科罰金之折算標準，依修正前刑法第41條第1項前段及廢止前罰金罰鍰提高標準條例第2條，係以銀元1百元、2百元或3百元，即新臺幣3百元、6百元或9百元折算1日，而依修正後刑法第41條第1項前段規定，則係以新臺幣1千元、2千元或3千元折算1日，故依刑法第2條第1項前段之規定來比較新舊法之結果，應適用修正前之規定較為有利，爰依修正前刑法第41條第1項前段及廢止前罰金罰鍰提高標準條例第2條諭知易科罰金之折算標準。又被告之犯罪時間係在96年4月24日以前，所犯合於中華民國九十六年罪犯減刑條例之減刑條件，應依該條例第2條第1項第3款、第7條及第9條，減其宣告刑2分之1，並諭知易科罰金之折算標準。四、末按連續數行為而犯同一之罪名，均在新法施行前者，新法施行後，應依新法第2條第1項之規定，適用最有利於行為人之法律。部分之數行為，發生在新法施行前者，新法施行後，該部分適用最有利於行為人之法律。若其中部分之一行為或數行為，發生在新法施行後者，該部分不能論以連續犯（最高法院95年度第8次刑事庭會議決議參照，即該決議五數罪併罰之(四)連續犯部分）。查被告涉嫌於96年5月28日及96年9月3日與共犯陳玉婉共同持前開登載不實之戶籍謄本等資料，先後向臺南縣政府警察局外事課申請核發陳玉婉之延期居留等事宜，有96年5月28日及96年9月3日之外國人居留停留案件申請表各1份附卷可憑，被告此部分涉嫌共同行使使公務員登載不實文書犯行，均在95年7月1日刑法修正廢除第56條連續犯規定以後，亦未據檢察官記載於起訴書犯罪事實內，揆諸前開說明，此部分犯行與前開論罪科刑部份無連續犯之裁判上一罪關係，自非本院得審判之範圍，附此敘明之。據上論斷，應依刑事訴訟法第299條第1項前段，刑法第2條第1項前段、第28條、第216條、第214條，修正前刑法第56條、第41條第1項前段，刑法施行法第1條之1，修正廢止前罰金罰鍰提高標準條例第2條，中華民國96年罪犯減刑條例第2條第1項第3款、第7條、第9條，判決如主文。本案經檢察官莊玲如到庭執行職務。中華民國101年1月20日刑事第四庭審判長法官林逸梅法官鄭文祺法官莊政達以上正本證明與原本無異。如不服本判決應於收受本判後10日內向本院提出上訴書狀，並應敘述具體理由。其未敘述上訴理由者，應於上訴期間屆滿後20日內向本院補提理由書狀（均須按他造當事人之人數附繕本）「切勿逕送上級法院」。書記官吳昕韋中華民國101年2月1日附錄本案論罪科刑法條：中華民國刑法第214條（使公務員登載不實罪）明知為不實之事項，而使公務員登載於職務上所掌之公文書，足以生損害於公眾或他人者，處3年以下有期徒刑、拘役或5百元以下罰金。中華民國刑法第216條（行使偽造變造或登載不實之文書罪）行使第210條至第215條之文書者，依偽造、變造文書或登載不實事項或使登載不實事項之規定處斷。', '一、緣甲○○於民國100年11月1日上午7時許，在臺南市北安橋路旁拾得可發射子彈具有殺傷力之槍枝（槍枝管制編號：0000000000號）後持有之，並於100年11月6日主動向員警坦承犯行而自首接受裁判。甲○○竟於本院審理該案（100年度訴字第1635號）時編造其母楊陳敏於100年11月1日經急診住院接受治療，其係為照顧住院之母親楊陳敏才遲延報繳槍枝之情節，辯稱其無持有可發射子彈具有殺傷力槍枝之犯意。甲○○為取信於法院乃基於行使偽造私文書之犯意，於100年11月6日至101年1月12日間某日在不詳地點，偽刻奇美醫療財團法人奇美醫院（下稱奇美醫院）、院長邱仲慶及醫師甲○○之印章各1顆，再偽造如附表編號四所示診斷證明書（下稱系爭診斷證明書）提出於本院（收件日期為101年1月12日），表示系爭診斷證明書記載之內容業經認證屬實之意，足以生損害於奇美醫院、邱仲慶、甲○○及國家司法權行使之正確性。嗣本院於該案審理中函詢奇美醫院發覺有異，始循線查悉上情。二、案經臺灣臺南地方法院檢察署檢察官簽分後偵查起訴。理由一、訊據被告甲○○矢口否認有前揭行使偽造私文書之犯行，辯稱：其去奇美醫院申請的診斷證明書就是這樣，沒有偽造如附表所示之印章及診斷證明書云云。惟查：(一)被告於100年12月21日於他案（本院100年度訴字第1635號）具狀陳稱：其因照顧急診住院之母親而遲延報繳槍枝，實無持有可發射子彈具有殺傷力槍枝之犯意云云，復向本院提出如附表所示診斷證明書以為佐證（收文日期：101年1月12日）等情，有被告於該案提出之刑事答辯狀2份、診斷證明書1紙在卷可佐（見本院100年度訴字第1635號刑事卷宗第1宗第16頁至第18頁、第32頁至第35頁），足堪認定。然被告之母楊陳敏於100年11月1日至100年11月7日間，無前往奇美醫院急診或門診之就診紀錄，亦有三親等資料查詢結果表、奇美醫院101年2月14日(101)奇醫字第0608號函暨所附病歷、行政院衛生署中央健康保險局（現改制為衛生福利部中央健康保險署）101年6月1日健保南字第0000000000號函暨所附就醫紀錄明細表各1份在卷可稽（見臺灣臺南地方法院檢察署102年度他字第1857號偵查卷宗第27頁、本院100年度訴字第1635號刑事卷宗第1宗第92頁至第117頁、第2宗第5頁至第7頁），可知被告之母楊陳敏於100年11月1日並未前往奇美醫院急診。(二)被告向本院提出之系爭診斷證明書固可逼真，惟相較於卷附真正之診斷證明書病歷資料，系爭診斷證明書上奇美醫院、邱仲慶、甲○○之印章，與真正之印章於字體及文字大小均有些微差異，系爭診斷證明書之格式及字樣與真正之診斷證明書復不相同，有奇美醫院101年6月4日(101)奇醫字第2594號函暨所附病歷在卷可憑（見本院100年度訴字第1635號刑事卷宗第2宗第2頁至第3頁、第13頁）。何況奇美醫院未曾核發系爭診斷證明書，亦有奇美醫院101年5月9日(101)奇醫字第2140號函暨所附病歷在卷可考（見本院100年度訴字第1635號刑事卷宗第1宗第186頁至第187頁）。被告向本院提出之系爭診斷證明書顯係偽造無訛。(三)再參被告於他案辯稱：其於100年11月1日深夜即100年11月2日清晨，忽然接到電話通知其母楊陳敏再度中風，其心急如焚而立即趕往奇美醫院照料並在加護病房守候數日，俟其母楊陳敏因病情獲得控制轉至普通病房，才抽空將拾獲之槍枝向治安單位說明云云（見本院100年度訴字第1635號刑事卷宗第1宗第33頁），核與系爭診斷證明書上所載：「……民國100年11月01日00：25病人於急診就診，於11月06日14：25轉至加護病房治療……」不符，益徵被告係為脫卸其非法持有可發射子彈具殺傷力槍枝之責，始虛構前開急診住院之情節並偽造系爭診斷證明書。蓋因被告前揭所辯情詞及系爭診斷證明書若確屬實，急診日期應記載為「100年11月2日」而非「100年11月1日」，轉送治療之處亦應記載為「普通病房」而非「加護病房」，否則被告苟於100年11月1日凌晨0時25分許，已經趕至奇美醫院照護守候其母楊陳敏而未離開，被告當無可能於當上午7時許在臺南市北安橋路旁拾得前開槍枝，又被告之母楊陳敏苟於100年11月6日下午2時25分許才轉至加護病房，被告亦無可能於100年11月6日主動向員警坦承犯行前，即已於奇美醫院加護病房守候其母楊陳敏數日。上述明顯之瑕疵益證系爭診斷證明書確係偽造而成。(四)被告於100年11月6日始主動向員警坦承持有前開槍枝，於該日前尚無偽造系爭診斷證明書之需要及動機，應可排除被告於100年11月6日前著手為本件犯行之可能，而本院既係於101年1月12日收到系爭診斷證明書，系爭診斷證明書當應於101年1月12日以前即已偽造完成。(五)綜上所述，被告所辯無非飾卸之詞，委無可採。本案事證明確，被告犯行堪以認定，應依法論科。二、蓋用私立奇美醫院及該院院長與醫師之印章所製作診斷證明書，係表示醫師之判斷意見及診斷證明書上記載事項業經認證之意，應屬私文書。被告偽造系爭診斷證明書以表示其記載內容經認證屬實，藉此使他人認為系爭診斷證明書所載之內容，經邱仲慶代表奇美醫院暨甲○○以本人名義認證屬實，足以生損害於奇美醫院、邱仲慶、甲○○；被告持系爭診斷證明書向本院行使，企圖使本院採信其因照護母親楊陳敏而遲延報繳槍枝之辯詞，足以生損害於國家司法權行使之正確性。核被告所為，係犯刑法第216條、第210條之行使偽造私文書罪。被告偽刻如附表編號一至編號三所示之印章，持之偽造如附表編號四所示之印文及診斷證明書，其偽造印章及印文均屬偽造私文書之部分行為；又被告偽造系爭診斷證明書後持之向本院行使，偽造私文書之行為應為行使偽造私文書之高度行為所吸收，均不另論罪。檢察官雖未起訴被告偽造如附表編號一所示印章、偽造如附表編號四所示「奇美醫療財團法人奇美醫院證明用章」之印文，惟該部分犯行與已起訴部分犯行有實質上一罪關係，自為起訴效力所及而得由本院併予審理。被告前因違反兒童及少年性交易防制條例等案件，經臺灣高等法院臺南分院分別以91年度少連上訴字第1355號刑事判決，判處有期徒刑3年9月併科罰金新臺幣（下同）110,000元，以91年度上訴字第323號刑事判決判處有期徒刑7月確定，又經本院以91年度易字第843號刑事判決判處有期徒刑7月（經臺灣高等法院臺南分院以91年度上易字第1197號刑事判決駁回上訴確定），嗣經法院裁定部分減刑及定應執行有期徒刑4年2月併科110,000元確定（臺灣高等法院臺南分院96年度聲減字第505號），於92年2月20日入監服刑至執畢日期96年7月16日（易服勞役期間為96年7月16日至96年11月14日），有臺灣高等法院被告前案紀錄表1份在卷可佐，其於5年以內故意再犯本件有期徒刑以上之罪，為累犯，應依刑法第47條第1項加重其刑。爰審酌被告教育程度不高且無子女需要扶養，入監執行前月收入約20,000元至30,000元，為飾卸刑責竟行使偽造系爭診斷證明書，企圖取信於法院而為其無罪之判決，足以生損害於奇美醫院、邱仲慶、甲○○及國家司法權行使之正確性，罪證確鑿猶矢口否認且未見悔意等一切情狀，量處如主文所示之刑。偽造如附表編號一至編號三所示之印章雖未扣案，但無證據證明已滅失，另偽造如附表編號四所示「奇美醫療財團法人奇美醫院證明用章」、「奇美醫院院長邱仲慶（乙）」、「急診醫學科甲○○診斷書用」之印文，不問屬於犯人與否，均依刑法第219條之規定宣告沒收。系爭診斷證明書經被告提出於本院而行使，非屬被告所有之物，爰不予宣告沒收。據上論斷，應依刑事訴訟法第299條第1項前段，刑法第216條、第210條、第47條第1項、第219條，判決如主文。本案經檢察官李宗榮到庭執行職務。中華民國102年11月5日刑事第五庭審判長法官包梅真法官陳淑勤法官陳谷鴻以上正本證明與原本無異。如不服本判決，應於收受判決後10日內向本院提出上訴書狀，並應敘述具體理由；未敘述上訴理由者，應於上訴期間屆滿後20日內向本院補提理由書（均須按他造當事人之人數檢附繕本）。告訴人或被害人如對本判決有不服者，得具備理由請求檢察官上訴。書記官林幸萱中華民國102年11月7日【附表】', '及理由一、犯罪事實：白秋霖與泰國籍女子WANGMONTRIDOKMAI（中文姓名白雪蘭，另為職權不起訴處分）均明知並無結婚之真意，為使WANGMONTRIDOKMAI得以結婚方式居留在臺灣地區工作，共同基於使公務員登載不實文書之概括犯意聯絡，於民國93年10月29日，至泰國曼谷，辦理假結婚手續，並在泰國取得不實之結婚證明書等相關資料，由白秋霖於同年11月18日，前往臺中縣沙鹿鎮戶政事務所，持上開結婚證件，申請辦理結婚戶籍登記，使該戶政事務所不知情之承辦人員將白秋霖與WANGMONTRIDOKMAI間虛偽辦理結婚之不實事項，登載於職務上掌管之戶籍登記資料之電子資訊檔案紀錄、戶籍謄本等公文書，足以生損害於戶政機關對於戶籍登記事項管理之正確性。白秋霖明知上開婚姻係虛偽婚姻，於94年3月30日具狀向本院訴請離婚，經本院以94年度家訴字第92號判決離婚後，於94年7月7日，前往臺中縣沙鹿鎮戶政事務所，辦理離婚登記，使該戶政事務所不知情之承辦人員將白秋霖與WANGMONTRIDOKMAI間虛偽辦理離婚之不實事項，登載於職務上掌管之戶籍登記資料之電子資訊檔案紀錄、戶籍謄本等公文書，足以生損害於戶政機關對於戶籍登記事項管理之正確性。嗣於99年4月6日，因WANGMONTRIDOKMAI逾期居留，為警查獲。二、證據：(一)證人WANGMONTRIDOKMAI、鄭陳旺、白文之證述。(二)卷附之民事起訴狀、擬定書、言詞辯論筆錄、本院94年度家訴字第92號民事判決、結婚登記申請書、結婚證書、戶籍資料查詢結果。(三)被告白秋霖之自白。三、本件經檢察官與被告於審判外達成協商之合意且被告已認罪，其合意內容為：被告願受科刑範圍為有期徒刑6月，減為有期徒刑3月，緩刑2年之宣告。經查，上開協商合意並無刑事訴訟法第455條之4第1項所列情形之一，檢察官聲請改依協商程序而為判決，本院爰不經言詞辯論，於協商合意範圍內為協商判決，合予敘明。四、應適用之法條：刑事訴訟法第455條之4第2項、第455條之8，刑法第2條第1項、第216條、214條、第74條第1項第1款、修正前刑法第28條、第56條、第41條第1項，刑法施行法第1條之1，修正前罰金罰鍰提高標準條例第2條，中華民國96年罪犯減刑條例第2條第1項第3款、第7條、第9條。五、附記事項：被告願支付新臺幣6萬元予台中市政府教育局（業於100年3月25日繳納）。六、本判決除有刑事訴訟法第455條之4第1項第1款、第2款、第4款、第6款、第7款所定情形之一，或違反同條第2項規定者外，不得上訴。七、如有上開得上訴情形，應於收受送達後10日內向本院提出上訴書狀（應敘述具體理由並附繕本）。上訴書狀如未敘述理由，應於上訴期間屆滿後20日內補提理由書於本院。中華民國100年3月28日刑事第十一庭法官林慧英以上正本證明與原本無異。書記官陳玲誼中華民國100年3月28日附錄論罪科刑法條刑法第216條行使第210條至第215條之文書者，依偽造、變造文書或登載不實事項或使登載不實事項之規定處斷。刑法第214條明知為不實之事項，而使公務員登載於職務上所掌之公文書，足以生損害於公眾或他人者，處3年以下有期徒刑、拘役或5百元以下罰金。', '一、陳勝裕為陳阿仁（前於民國99年11月17日死亡）之孫，林柏丞為執業代書。陳勝裕、林柏丞均明知陳阿仁並未於99年8月27日將其所有坐落高雄市○○區○○段地號1032-2號、1038號土地（下合稱本件土地）以新臺幣（下同）387萬6,700元售予陳勝裕之事實，亦自始無出售本件土地之真意，渠2人竟與陳阿仁（因已歿未據起訴）共同基於使公務員登載不實之犯意聯絡，由陳阿仁及陳勝裕檢附上蓋有2人印文之本件土地所有權買賣移轉契約書為附件，連同土地登記申請書委由林柏丞於99年9月6日以「買賣」為原因，向高雄市政府地政局岡山地政事務所（下稱岡山地政事務所）遞件申請將本件土地所有權由陳阿仁移轉登記予陳勝裕所有（同日並辦理抵押權設定），惟因當日附繳文件尚缺前揭1038地號土地最新權狀而未完成所有權移轉，嗣於同年10月12日備齊1038地號土地最新權狀為附件後，本件土地即於翌（13）日以「買賣」為登記原因，移轉所有權並設定抵押權予陳勝裕，足生損害於地政機關對於不動產登記管理及稅務機關核課稅捐之正確性。二、案經陳素珍及陳萬春告發臺灣高雄地方法院檢察署檢察官偵查起訴。理由壹、有罪部分一、按被告以外之人於審判外之言詞或書面陳述，除法律有規定者外，不得作為證據；又被告以外之人於審判外之陳述，雖不符刑事訴訟法第159條之1至第159條之4之規定，而經當事人於審判程序同意作為證據，法院審酌該言詞陳述或書面陳述作成時之情況，認為適當者，亦得為證據；另當事人、代理人或辯護人於法院調查證據時，知有第159條第1項不得為證據之情形，而未於言詞辯論終結前聲明異議者，視為有前項之同意，刑事訴訟法第159條之5定有明文。其立法意旨在於傳聞證據未經當事人之反對詰問予以核實，原則上先予排除。惟若當事人已放棄反對詰問權，於審判程序中表明同意該等傳聞證據可作為證據，基於尊重當事人對傳聞證據之處分權，及證據資料愈豐富，愈有助於真實發現之理念，且強化言詞辯論主義，使訴訟程序得以順暢進行，上開傳聞證據亦均具有證據能力。本判決以下引用之被告以外之人於審判外之言詞或書面陳述，經檢察官、上訴人即被告陳勝裕、林柏丞（下均稱被告）及被告陳勝裕之選任辯護人於準備程序均表示同意作為證據使用（見本院卷第58頁），且迄言詞辯論終結前均未聲明異議，本院審酌此等證據作成時之情況，均無違法不當，且與待證事實具有關聯性，認為以之作為證據應屬適當，爰依刑事訴訟法第159條之5規定，認前揭證據資料均有證據能力。二、事實認定：訊據被告陳勝裕固坦認於本件土地所有權移轉登記申請書、買賣移轉契約書上蓋用自己印鑑，其後委由被告林柏丞辦理本件土地移轉登記事宜；被告林柏丞則承認經辦本件土地所有權移轉及設定抵押權事宜，惟渠2人均矢口否認有何使公務員登載不實文書犯行，被告陳勝裕辯稱：陳阿仁在世時就說土地要給我，辦理過程都是由陳阿仁與林柏丞處理，我僅有去簽名用印，不知為何最後會用「買賣」名義辦理移轉登記云云；其選任辯護人則以：本件土地並非建地，其上無任何建物或自用住宅，根本無原審所指適用自用住宅優惠稅率之問題，陳勝裕確實不知移轉時係以何原因登記。實際上本件土地移轉予陳勝裕性質上較近於附條件贈與，而非假買賣，並無任何規避稅法之違法，另陳阿仁亦無積欠他人債務，故以登記買賣為原因，達成相近於附條件贈與之目的，亦不構成使公務員登載不實之要件等語置辯。被告林柏丞則辯稱：本件土地係陳阿仁與陳勝裕討論後，決定以「買賣」名義移轉所有權，價金以陳勝裕所書立300萬元借據抵付，至於價金餘額87萬元則因陳阿仁認平常生活起居都是陳勝裕在照顧，故陳勝裕無庸支付，雙方談妥上情後再由我偕同辦理，我是確認陳阿仁與陳勝裕要用買賣做原因，才以此事由辦理土地登記，不知道他們實際上是否為贈與；本件土地是農地，依法無須繳納贈與稅，原審認被告陳勝裕是以買賣為原因，藉此得以適用自用住宅優惠稅率課徵土地增值稅，欲規避贈與稅之動機，與稅法未符云云。經查：(一)、本件土地原為陳阿仁所有，經檢附上有陳阿仁印文、署名及被告陳勝裕印文之土地登記申請書與土地所有權買賣移轉契約書，委由被告林柏丞於99年9月6日以「買賣」為原因，向岡山地政事務所遞件申請將本件土地所有權由陳阿仁移轉登記予被告陳勝裕所有（同日並辦理抵押權設定），嗣於同年10月12日備齊1038地號土地最新權狀為附件後，本件土地即於翌（13）日以「買賣」為登記原因，移轉所有權予陳勝裕並設定抵押權擔保債權額300萬元予陳阿仁。於登記完畢19日後，被告陳勝裕單獨於同年11月2日持抵押權塗銷同意書等文件申請辦理本件土地抵押權塗銷事宜，陳阿仁於99年11月17日死亡等情，業據證人陳素珍及陳萬春到庭證述屬實（見原審卷一第56-63頁、第64-68頁），並有岡山地政事務所102年12月16日高市地岡登字第00000000000號函附本件土地申辦所有權移轉及抵押權（塗銷）登記原始文件影本及繼承系統表1份在卷可參（見他7671號卷《下稱B1卷》第5頁、第6-9頁、偵23121號卷《下稱B2卷》第13-19頁），復為被告2人於本院準備程序時所不爭執（見本院卷第57頁），此部分事實洵堪認定。(二)、關於陳阿仁與被告陳勝裕間有無買賣本件土地真意一節，固經被告林柏丞以前詞置辯。然觀諸其於偵查及原審審理中結證稱：當時陳阿仁欲將本件土地贈與給陳勝裕，但怕陳勝裕拿到土地後不照顧他沒有保障，才設定抵押權，後來他們討論後決定用買賣名義過戶並辦理抵押權設定等語（見B1卷第74頁、原審卷(一)第74頁），核與陳勝裕於原審審理時陳稱：陳阿仁表示因我眼睛有問題且未婚，若他過世僅有父執輩可以繼承財產，才將本件土地贈與給我過生活，我並沒有以387萬元購買這2筆土地等語（見原審卷(一)第71頁）；及證人即陳阿仁之子、被告陳勝裕之父陳榮本於原審審理中結證稱：我父親陳阿仁有告訴我，因為陳勝裕一隻眼睛不方便，所以要將兩筆土地移轉給陳勝裕，我不知道本件土地的移轉，陳阿仁與陳勝裕間有無任何金錢往來等語（見原審卷(一)第147-148頁），若合符節。足證本件土地陳阿仁實際上欲以贈與方式，將本件土地移轉所有權予被告陳勝裕乙節甚明。復衡以被告陳勝裕既自承：案發期間我與陳阿仁同住並幫忙其農作，生活費用均由陳阿仁支付，陳阿仁醫療費用是由陳阿仁自行支付，我並未以387萬元金額購買本件土地等語（見原審卷(一)第70至71頁），可見當時被告陳勝裕之經濟生活狀況及主觀意願，其確無買受本件土地之能力及真意。再觀諸本件土地固於99年9月6日連同所有權移轉登記文件併同申請設定抵押權之登記，惟於地政機關10月13日准予前開登記後僅19日，被告陳勝裕旋於同年11月2日以債務清償為由申請塗銷上開抵押權登記，而以被告陳勝裕所陳案發當時資力，實無可能於短期內清償上開為支付買賣價金而向陳阿仁貸借之300萬元借款，益徵雙方移轉本件土地所有權之實際原因並非「買賣」而係「贈與」，且卷附被告陳勝裕所書立借據（見原審卷(一)第48頁）純係為因應買賣名義而虛偽製作無訛。(三)、稱買賣者，謂當事人約定一方移轉財產權於他方，他方支付價金之契約；稱贈與者，則係謂當事人約定，一方以自己之財產無償給與他方，他方允受之契約，民法第345條及第406條分別定有明文，是買賣與贈與之法律性質及效力截然不同。被告林柏丞為執業代書，被告陳勝裕30餘歲之成年人，對於該等法律關係之成立與法律效果，自屬知之甚稔。被告林柏丞雖辯稱以買賣作為登記原因係陳阿仁等人之決定，並有檢附相關支付價金證明云云，然審諸渠既擔任執業代書，對於稅捐相關法規及土地交易流程本即知之甚詳，而果如渠所述陳阿仁自始即慮及己身晚年生活有所保障，始另設定抵押權之詞為真，當可知陳阿仁本可保有本件土地所有權並以其他方式使用收益，斷無大費周章、多此一舉先將本件土地以買賣之方式售予被告陳勝裕，復於其上設定抵押權防止被告陳勝裕任意處分之理，是被告林柏丞此部分所辯即與常情有悖。被告林柏丞既清楚知悉陳阿仁實欲將本件土地贈與被告陳勝裕，業如前述，最終卻以「買賣」為登記原因送件，其主觀上對於上開「買賣」原因關係乃不實事項之情即有所認知，而對於此部分犯行亦同有犯意聯絡及行為分擔，洵堪審認。被告陳勝裕固辯稱：我僅負責於文件上簽名用印，並不清楚辦理過程及為何最終以「買賣」作為登記原因云云。然審諸被告陳勝裕既自始知悉與陳阿仁間並無買賣本件土地之真意，復參以共同被告林柏丞於原審審理時證稱：陳阿仁及陳勝裕前來委託代辦所有權移轉登記時，我有向渠等解釋買賣及贈與程序之異同等語明確（見原審卷(一)第76至77頁）。再者，被告陳勝裕雖眼部稍有缺陷，然依其歷次受訊問時所陳述內容觀之，並無礙於日常生活目視周遭事物之能力，其視力所及之範圍，亦無影響其判斷力之虞，且其既為智識正常之成年人，端無親自於已勾選登記原因為「買賣」之土地登記申請書及「土地所有權買賣移轉契約書」上蓋用印文，卻對於該文件所表彰內容毫無所悉之理。況徵諸林柏丞已證稱有向被告陳勝裕介紹買賣與贈與交易異同，嗣經被告陳勝裕及陳阿仁共同決定以買賣為登記名義乙節，核與事實相符而堪予採認。基此足認被告陳勝裕非僅於相關文書上簽名用印，且確有參與以「買賣」為移轉登記原因之意思形成過程無訛。故被告陳勝裕辯稱：不知為何最後會用「買賣」名義辦理移轉登記云云、其選任辯護人以：被告陳勝裕確實不知移轉時係以何原因登記云云、被告林柏丞辯稱：我是確認陳阿仁與陳勝裕要用買賣做原因，才以此事由辦理土地登記，不知道他們實際上是否為贈與云云，均核與事證未合，難認為可採。(四)、按刑法第214條使公務員登載不實罪之成立，須一經他人之聲明或申報，公務員即有登載之義務，並依其所為之聲明或申報予以登載，而屬不實之事項者，始足構成，最高法院73年台上字第1710號判例可資參照。又地政機關辦理土地所有權移轉登記時，僅須審核形式上之要件是否具備即足，對於土地所有權移轉之實質上是否真正，並無審認之責，倘行為人明知所申辦之土地所有權移轉登記，實質上並非真正，仍以該不實之事項向地政機關申辦登記，使地政機關承辦之公務員登載於職務上所掌之相關公文書內，自與上開犯罪構成要件相當（最高法院95年度台非字第278號判決意旨供參）。被告2人明知陳阿仁及被告陳勝裕並無真正買賣本件土地之真意與約定，竟以「買賣」為登記原因推由被告林柏丞檢具相關資料向地政機關申請所有權移轉登記，使地政機關不知情之公務員將上開不實事項登載於職務上所掌之公文書上，已足生損害於地政機關對於不動產登記管理之正確性，渠2人此舉自已符合刑法第214條要件無訛。(五)、本件土地地目分屬田地及旱地，無須繳納土地增值稅，另因核定價額共計2,099,500元，依遺產及贈與稅法第22條之規定，應可自每年贈與總額中減除免稅額220萬元，此有土地所有權、土地增值稅免稅證明書各2份、贈與稅免稅證明書1份在卷可稽（見原審卷(一)第43-44頁、第113頁、本院卷第12頁正反面）。可見被告林柏丞辯稱：本件土地是農地，依法無須繳納贈與稅，原審認被告陳勝裕是以買賣為原因，藉此得以適用自用住宅優惠稅率課徵土地增值稅，欲規避贈與稅之動機，與稅法未符，尚非無稽。似可認本件土地不實登記，對於稅捐機關核課稅捐之正確性未生影響，實則不然。繼查，本件土地實際移轉登記原因應為贈與，倘若據實辦理土地登記，依遺產及贈與稅法第15條第1項第1款及第13條之規定，被繼承人死亡前2年內贈與依民法第1138條及1140條規定之各順序繼承人之財產，應於被繼承人死亡時，視為被繼承人之遺產，併入遺產總額，減除同法第17條、第17條之1規定之各項扣除額及第18條規定之免稅額後之課稅遺產淨額，課徵10%之遺產稅。陳阿仁於本件土地贈與予被告陳勝裕後2年內，即99年11月17日死亡，其若核實向地政機關申請辦理土地贈與登記，依前揭說明，自應將本件土地列入遺產總額，按法定稅率課徵遺產稅（至於是否有應繳納之遺產稅額，則在所不問）。反之，其若以不實之買賣本件土地之原因登記，則非屬上開應視為遺產課稅之法律涵蓋範圍，自足生於損害稅務機關核課稅捐之正確性，甚為灼然。故被告陳勝裕之選任辯護人辯稱：實際上本件土地移轉予陳勝裕性質上較近於附條件贈與，而非假買賣，並無任何規避稅法之違法，另陳阿仁亦無積欠他人債務，故以登記買賣為原因，達成相近於附條件贈與之目的，亦不構成使公務員登載不實之要件云云，自有未合，難謂為可採。(六)、至證人即陳阿仁之子女陳素珍、陳萬春於偵查及原審審理時固均證稱：陳阿仁於99年間身體狀況即已不佳，尚須他人攙扶方能行走，且精神狀況亦不佳，故本件土地係陳勝裕乘陳阿仁病入膏肓之際，恐嚇其辦過戶云云。又被告陳勝裕另涉於99年11月3日利用陳阿仁辨識能力薄弱，對事務不能為合理之分析與利害判斷之際，將陳阿仁所有另33筆土地以公證遺囑程序悉數指定由陳勝裕單獨繼承，經本院以101年度上訴字第868號判決（下稱另案）判處乘機詐欺得利罪有罪確定在案。細繹另案係依據當庭勘驗99年11月3日公證遺囑過程錄影光碟及參酌陳阿仁於該時期病歷資料，綜合判斷陳阿仁斯時辨識能力確屬薄弱。然於本案被告2人均稱：本件土地辦理過戶之際陳阿仁身體狀況仍佳，陳阿仁並自行表示要以「買賣」為移轉登記原因等語，似與前開證人證述及另案之判斷結論有所歧異。本院審酌證人陳素珍及陳萬春均為陳阿仁法定繼承人，而本件土地所有權移轉效力涉及渠等繼承財產之多寡，本與被告陳勝裕利害關係相反，且本案亦係渠等對被告陳勝裕提出偽造文書及竊佔告訴而開始偵查，是該等證人證述是否果與事實相符，仍應調查其他證據以資審認。是參以另案案發時間為99年11月間，距本案初次遞交所有權移轉登記申請書（即同年9月6日）已相隔達2月，期間陳阿仁身體狀況是否始終均維持相同狀態，實非無疑，尚無從徒憑其於另案案發時身體狀況不佳，遽予回溯推認本案案發時依其意識及辨識能力已無從為處分財產之正常判斷。再者，觀諸另案卷附陳阿仁於99年5月至11月在義大醫院就診病歷（見另案影卷偵續字第363號影卷第52頁反面至247頁），陳阿仁雖於99年7月開始於該院有住院紀錄，然亦陸續因病情穩定出院，其中自同年7月31日出院後，直至同年9月17日始再入院，期間亦乏病歷資料可資判斷陳阿仁實際身體狀況，該院更於103年9月24日函稱：陳阿仁除99年9月26日曾因腹痛急診治療，當時昏迷指數為11分而呈嗜睡狀態，經治療後次（27）日已清醒，其餘住院期間並無意識不清或意識時好時壞之紀錄等語明確（見原審卷(一)第198頁），則依上開義大醫院病歷資料尚未足判認陳阿仁於99年8月底至9月6日期間之意識情況為何？此外復無其他積極證據堪認陳阿仁於本案案發時，果如證人陳素珍及陳萬春所稱已意識不清及欠缺辨識能力，進而遭被告陳勝裕恐嚇或逕帶往被告林柏丞執業處所處分其財產，是渠等前開證述難認與事實相符，自無從採為對被告2人不利之認定，附此敘明。(七)、綜上所陳，本案事證已臻明確，被告2人前開犯行洵堪認定，應依法論科。三、論罪科刑：核被告2人所為，均係犯刑法第214條使公務員登載不實罪。渠2人就上開犯行與陳阿仁彼此間有犯意聯絡及行為分擔，均為共同正犯。原審認被告陳勝裕、林柏丞共同犯使公務員登載不實罪，事證明確，據以論罪科刑，固非無見。惟原判決認定被告2人使公務員登載不實之動機，係以買賣為所有權移轉登記名義，可適用自用住宅優惠稅率課徵土地增值稅，而有使公務員登載不實藉以減少稅捐之動機，其論據與卷內之贈與稅免稅證明書、遺產及贈與稅法第13條、第15條第1項第2款之規定未合，已如前二、(五)所述，尚有未恰。被告2人上訴否認犯罪，指摘原判決為不當，固無理由，惟原判決既有上開違誤之處，且據被告2人具體指摘為上訴理由之一，自應由本院予以撤銷改判。爰審酌被告2人前開犯行雖未違背財產所有權人陳阿仁之處分意願，然仍足生損害於地政機關對於不動產登記管理及稅務機關核課稅捐之正確性，所為實屬不該；尤以被告林柏丞身為執業代書，熟知不動產交易實務上此種為求避稅以買賣為名掩藏贈與之實之交易類型有觸法之虞且層出不窮，猶仍實施前開犯行，其可非難性更甚於被告陳勝裕；復衡諸被告2人犯後自始均矢口否認犯行，未見悔意，兼慮及被告2人之犯罪分工情形、智識程度、生活狀況及素行資料（其中被告林柏丞前無論罪科刑前案紀錄，素行良好；另被告陳勝裕則因上述另案經論罪科刑，此外亦無其他前案紀錄，有臺灣高等法院被告前案紀錄表2份在卷可查）等具體行為人責任基礎之一切情狀，分別量處如主文第2、3項所示之刑，並均諭知易科罰金之折算標準，以示懲儆。貳、不另為無罪諭知部分一、公訴意旨另以：被告陳勝裕及林柏丞均明知陳阿仁所有坐落高雄市○○區○○段0000地號土地所有權狀並未由陳阿仁保管且亦未遺失，竟共同基於行使使公務員登載不實文書之犯意聯絡，先於99年9月8日持土地登記申請書及上有陳阿仁署名、內容略謂：立切結書人陳阿仁所有之上開土地所有權狀於99年9月5日遺失屬實，特申請補發，並切結如有不實，致他人權益受損害者，立切結書人願負一切法律責任等旨之切結書（下稱上開切結書），向承辦之岡山地政事務所公務員謊報上開土地所有權狀已遺失而申請補發，使該管機關承辦公務員誤信其前揭土地之所有權狀果已遺失，遂將此不實事項登載於職務上所掌之高雄市政府地政局岡山地政事務所公告，並於同年10月12日補發上開土地之所有權狀予陳阿仁，陳阿仁遂將之作為本件土地所有權移轉登記附繳證件而行使之。因認被告2人此部分涉犯刑法第216條、第214條使公務員登載不實罪及行使使公務員登載不實文書罪嫌。二、犯罪事實應依證據認定之，無證據不得認定犯罪事實；不能證明被告犯罪者，應諭知無罪之判決，刑事訴訟法第154條第2項及第301條第1項分別定有明文。所謂證據，係指足以認定被告確有犯罪行為之積極證據而言，該項證據自須適合於被告犯罪事實之認定，始得採為斷罪資料。苟積極證據不足為不利於被告事實之認定時，即應為有利於被告之認定，更不必有何有利之證據，最高法院29年上字第3105號及30年上字第816號分別著有判例可資參照。三、訊據被告2人均堅詞否認有何起訴書所載此部分使公務員登載不實及行使使公務員登載不實文書犯行，被告陳勝裕辯稱：我只知道陳阿仁有要申請補發權狀，但不清楚1038地號土地所有權狀有無遺失，整個書狀補發手續完全是陳阿仁自行與林柏丞處理，我並未在申請文件上用印等語；被告林柏丞則辯稱：我只是受託辦理本件土地所有權移轉事宜，因原所附1038地號土地所有權狀為88年舊狀，才要求陳阿仁須提供91年新狀，但陳阿仁表示找不到並詢問是否可補發，才請其在申請書上簽名蓋章等語。經查：(一)、就上開公訴意旨所載「行使」使公務員登載不實文書所指涉事實究屬為何？茲依起訴書記載內容略為：岡山地政事務所承辦公務員將1038地號土地所有權狀遺失之不實事項登載於職務上所掌之該所公告，嗣於99年10月12日補發新權狀予陳阿仁，進而使用於本件土地所有權移轉登記附件，地政機關遂於翌日將本件土地以買賣為登記原因移轉所有權予被告陳勝裕等語。另於103年5月21日原審行準備程序時公訴檢察官則當庭補充：陳阿仁及被告2人基於犯意聯絡，推由被告林柏丞持書狀換給申請書及上開切結書申請補發土地所有權狀，認此部分除構成使公務員登載不實罪外，亦構成行使使公務員登載不實文書罪等語（見原審審易卷第37頁），堪認此部分起訴被告2人涉犯刑法第216條、214條之犯罪事實包含「使地政事務所公務員將土地所有權狀遺失之不實事項登載於該所公告後據以行使」之事實，暨「持地政事務所補發之新權狀作為申請本件土地所有權移轉登記附件」之事實，先予敘明。(二)、查本件土地於99年9月6日經送件申請買賣所有權移轉登記時，因其中所附繳之1038地號土地所有權狀（88年岡狀土字第18465號）與該地號土地先前經補發最新權狀（91年岡狀土字第9625號）字號不符，經岡山地政事務所依土地登記規則第56條規定通知補正，其後於同年9月8日經提出上有陳阿仁署名及印文（無被告陳勝裕之署名及印文）之書狀補給登記申請書暨上開切結書連件提出書狀補給申請，岡山地政事務所遂將此情登載於該所公告上，經30日無人提出異議便與本件土地買賣登記部分連件准予登記完畢等情，業有岡山地政事務所前揭102年12月16日函附本件土地申辦書狀換給申請書及上開切結書影本，及同所103年7月22日高市地岡登字第00000000000號函所附書狀補給登記相關資料在卷可參（見原審卷(一)第98-121頁），復為被告2人所不爭執（見原審審易卷第38頁），此部分事實堪予審認，是被告林柏丞前開辯稱：辦理本件土地所有權移轉登記時，發現檢附權狀不符規定乙節，尚非無稽。(三)、按刑法第214條使公務員登載不實罪，係以行為人明知為不實之事項，而使不負實質審查登載內容真實與否職權之公務員登載於職務上所掌之公文書，足以生損害於公眾或他人者為其構成要件。是倘公務員所登載事項不能證明為不實，基於證據裁判主義及無罪推定原則，即不得逕對行為人論以上開罪名。就1038地號土地書狀字號91年岡狀土字第9625號原始所有權狀（下稱91年原權狀），於99年9月8日申請書狀換給之際，是否果有遺失之事實？因上開切結書之名義人陳阿仁已歿而始終未能到庭就此部分為陳述。而其上「陳阿仁」署名及印文部分，茲據被告2人審理時陳稱：係陳阿仁親自簽名蓋印並按捺手印等語（見原審卷(一)第190頁），此外亦無積極證據足認係被告2人所為，且被告陳勝裕亦未於該文書上簽名用印，業如前述，故自書狀換給申請書及上開切結書形式外觀尚無從推認91年原權狀是否確實遺失。再者，起訴書證據清單援引告訴代理人羅庭章律師於偵查中指稱：該權狀並未遺失，實則是在陳素珍手上云云（見B1卷第75頁）。然衡諸告訴代理人並非實際見聞權狀所在狀態之人，至多僅係聽聞證人陳素珍轉述而代為表示意見，而證人陳素珍、陳萬春偵查中始終均未敘及本案91年原權狀所在為何，嗣於原審準備程序時告訴代理人則稱：因陳阿仁先前將渠所有其中18筆土地之所有權狀交予陳素珍，本來據陳萬春之印象91年原權狀是由陳萬春保管，可能其搬家時遺失，偵查中並沒有要提告此部分等語（見原審審易卷第38頁）；證人陳素珍更到庭證稱：陳阿仁於99年8、9月間有將18紙土地所有權狀交由我保管，但不包含本件土地（兩筆）權狀，其餘權狀我不清楚何人保管等語；證人陳萬春則證稱：我曾聽聞陳阿仁表示有將18筆土地所有權狀交予陳素珍保管，其餘權狀放在住處金庫，陳素珍亦曾提及陳阿仁有交付權狀之事等語明確（見原審卷(一)第61、66至68頁），是告訴代理人前開所稱本案91年原權狀係由陳素珍保管一節，非僅與其後到庭陳述內容有悖，亦核與證人陳素珍、陳萬春證述不符，已難認此部分指述為真。且綜合上開證據方法亦無從審認陳阿仁究係將本案91年原權狀自行保管或交予陳素珍以外他人代為保管，更遑論是否確有遺失之事實。故依卷內事證既無積極證據證明岡山地政事務所公告所載「本案91年原權狀業已遺失」事項為不實，尚難僅憑上開申請權狀換發程序為本件土地所有權移轉手續之一環，遽為被告2人不利之認定，揆諸上開說明，自無從認定檢察官起訴被告2人此部分涉犯刑法第214條之使公務員登載不實罪嫌為真。(四)、公訴意旨所指行使使公務員登載不實文書犯行部分，因岡山地政事務所公告所載「91年原權狀業已遺失」事項並無證據足堪認定為不實，業如前述，自無登載不實之情。則嗣後被告2人雖持補發之1038地號權狀遞交地政機關作為申請本件土地所有權移轉之附件，當不生行使使公務員登載不實文書之問題。是依卷附證據，申請補發1038地號土地權狀之行政程序中，被告2人並無何使公務員登載不實文書之舉，此部分行使使公務員登載不實罪嫌，亦屬不能證明。四、綜前所述，檢察官所述上開犯罪事實及所憑證據，俱難證明被告2人就申請補發1038地號土地所有權狀乙節，涉有使公務員登載不實及行使使公務員登載不實文書犯行，當不得遽為不利於渠等之認定。惟此部分與渠等上揭使公務員登載不實有罪部分（即以「買賣」為原因申請移轉所有權登記部分），既據起訴書記載為申請移轉所有權登記之中間過程而概括論以行使使公務員登載不實文書一罪，爰不另為無罪之諭知。據上論結，應依刑事訴訟法第369條第1項前段、第364條、第299條第1項前段，刑法第28條、第214條、第41條前段，刑法施行法第1條之1第1項、第2項前段，判決如主文。本案經檢察官蔡國禎到庭執行職務。中華民國104年6月25日刑事第八庭審判長法官李炫德法官李嘉興法官李代昌以上正本證明與原本無異。不得上訴。中華民國104年6月25日書記官陳昱光附錄本件判決論罪科刑法條：中華民國刑法第214條明知為不實之事項，而使公務員登載於職務上所掌之公文書，足以生損害於公眾或他人者，處3年以下有期徒刑、拘役或5百元以下罰金。', '一、謝麗華自民國80幾年起迄今均擔任苗成企業股份有限公司（下稱苗成公司）之董事長，負責綜理該公司所有業務，對外代表公司，為從事業務之人，並基於業務關係而掌有苗成公司股東名冊。其與施東益係姨甥關係，施東益自97年1月23日起即在苗成公司任職，直至102年8月31日以業務副總一職離職。謝麗華在施東益任職期間，為留任施東益為苗成公司招攬業務，遂於99年7月12日、100年7月28日，在苗成公司辦理每股新臺幣（下同）1,000元現金增資未發行實體股票時，自行出資以施東益名義繳納300萬元、350萬元之增資股款，以此方式將苗成公司上開增資股份3,000股、3,500股登記在施東益名下為施東益所有，使施東益成為苗成公司股東，並將此情登載在苗成公司99年7月12日、100年7月28日股東名冊上。詎施東益離職後，謝麗華欲取回上開登記在施東益名下之股份，明知其不知情成年子女兒媳與施東益間，並無買賣交易施東益上開苗成公司股份6,500股，卻囑不知情苗成公司成年員工於102年11月6日，在財政部國稅局網站填載施東益，以每股777元，價金各為1,243,200元、1,243,200元、1,320,900元、1,243,200元，出售登記在施東益名下苗成公司股份1,600股予謝麗華之女賴稚涵、1,600股售予謝麗華之子賴彥邦、1,700股售予謝麗華之子賴彥宏、1,600股售予謝麗華之媳鍾小葳，而由賴稚涵、賴彥邦、賴彥宏、鍾小葳擔任代徵人等內容之102年度證券交易稅一般代徵稅額繳款書（賴稚涵、賴彥邦、賴彥宏、鍾小葳對此不知情，但有概括授權謝麗華處理名下股份），並於列印後持往臺灣中小企業銀行彰化分行（下稱臺企銀彰化分行），繳納該等證券交易稅。嗣謝麗華並於同日基於業務上登載不實文書之犯意，命不知情苗成公司之成年員工張淑燕將該等已繳納完畢之102年度證券交易稅一般代徵稅額繳款書持交代辦苗成公司會計事務之鼎信聯合會計事務所，由鼎信聯合會計事務所不知情成年員工將上開不實交易過戶股份之資料即賴稚涵增加持股1,600股至10,600股、賴稚涵增加持股1,600股至10,600股、賴彥宏增加持股1,700股至10,200股、鍾小葳增加持股1,600股至5,600股，而施東益出脫全部持股已非苗成公司股東一情，登載在苗成公司102年11月6日股東名冊上，足生損害於施東益以及苗成公司管理股份資料之正確性，嗣財政部中區國稅局彰化分局通知施東益就上開股份交易申報所得，施東益始悉上情。二、案經施東益訴由臺灣彰化地方法院檢察署檢察官偵查起訴。理由一、證據能力部分：(一)按被告以外之人於審判外之言詞或書面陳述，屬傳聞證據，原則上不得作為證據；惟按被告以外之人於審判外之陳述，雖不符刑事訴訟法第159條之1至第159條之4之規定，而經當事人於審判程序同意作為證據，法院審酌該言詞陳述或書面陳述作成時之情況，認為適當者，亦得為證據，刑事訴訟法第159條第1項、第159條之5第1項分別定有明文。是檢察官、被告及其辯護人均就後述被告以外之人於審判外陳述之傳聞證據，於本院審理時均明示同意有證據能力（本院卷第50-54頁），本院審酌上開證據作成時之情狀，並無違法或不當等情形，且與本案相關之待證事實具有關聯性，認為以之作為本案之證據亦屬適當，認均應有證據能力。(二)至本判決其餘所依憑判斷之非供述證據，本院亦查無有何違反法定程序取得之情形，且與本案相關之待證事實亦具有關聯性，並均經本院於審判期日依法進行證據之調查、辯論，被告於訴訟上之防禦權，已受保障，故該等證據資料亦均有證據能力。二、認定犯罪事實所憑證據及理由：訊據被告謝麗華固坦承其為苗成公司董事長，施東益為其外甥並自97年1月底起在苗成公司任職至102年8月31日止。另其於99年7月12日、100年7月28日，自行出資300萬元、350萬元，以施東益名義繳納苗成公司增資股款，並將增資取得之股份各3,000股、3,500股登記在施東益名下，並登載在苗成公司99年7月12日、100年7月28日股東名冊上。又施東益離職後，賴稚涵、賴彥邦、賴彥宏、鍾小葳雖未向施東益購買上開股份，但其有囑苗成公司成年員工，將渠等間買賣填載在102年度證券交易稅一般代徵稅額繳款書後繳款，並將該繳款書交付鼎信聯合會計事務所成年員工將上開交易過戶股份之資料登載在苗成公司102年11月6日股東名冊上等事實，惟矢口否認有何業務登載不實之犯行，辯稱：其係借用施東益名義繳納300萬元、350萬元股款，並將該增資取得之苗成公司股份3,000股、3,500股再借用施東益名義登記其名下，目的係為使施東益代表苗成公司對外談生意較為容易，而非贈與施東益，施東益係事後才知此事。又施東益離職後一直以電話催促並追問張淑燕，其名下股份要趕快過一過，其經由張淑燕告知後，始會將施東益名下6,500股以買賣為原因移轉至其子女兒媳名下，並將上開交易過戶股份之資料登載在苗成公司102年11月6日股東名冊上等語。辯護人則為被告辯護略以：謝麗華上開出資就苗成公司增資所取得之3,000股、3,500股雖登記在施東益名下，但非贈與施東益，更非施東益技術入股取得，謝麗華始為該6,500股份真正所有權人，縱其未經施東益同意，未將該6,500股屬施東益所有一情，登載在苗成公司102年11月6日股東名冊上，亦不損及施東益任何權利。另施東益離職後，因認其名下有苗成公司上開股份，須負擔苗成公司之虧損，持續催促謝麗華過戶，謝麗華始在施東益催促且不違背施東益意思下，辦理該等6,500股過戶予其子女兒媳等語。經查：(一)被告為苗成公司之董事長與告訴人為姨甥關係，告訴人於97年1月23日起即在苗成公司任職，直至102年8月31日以業務副總一職離職。又被告於99年7月12日、100年7月28日，在苗成公司辦理現金增資時，自行出資以告訴人名義各繳納300萬元、350萬元現金股款，告訴人名下因此登記有苗成公司股份3,000股、3,500股，而成為苗成公司股東，被告並將此情登載在苗成公司99年7月12日、100年7月28日股東名冊上。又告訴人離職後，被告明知其子女兒媳並無向告訴人買受該6,500股，卻囑不知情之成年員工，在財政部國稅局網站填載將告訴人名下苗成公司股份1,600股售予賴稚涵、1,600股售予賴彥邦、1,700股售予賴彥宏、1,600股售予鍾小葳，並列印該等102年度證券交易稅一般代徵稅額繳款書後，持往臺企銀彰化分行繳納，復於同日命張淑燕將該等已繳納之證券交易稅繳款書交由鼎信聯合會計事務所，將該等交易過戶股份之資料登載即賴稚涵增加持股1,600股至10,600股、賴稚涵增加持股1,600股至10,600股、賴彥宏增加持股1,700股至10,200股、鍾小葳增加持股1,600股至5,600股，而告訴人出脫全部持股已非苗成公司股東，在苗成公司102年11月6日股東名冊上等情，業據被告於偵查及本院審理時坦承不諱（他卷(一)第19-21頁、他卷(二)第75-78頁、偵卷第7、22、23、72-74頁、本院卷第48、49、108-110頁）、核與證人即告訴人於偵查及本院審理時（他卷(一)第19-21頁、他卷(二)第75-78頁、偵卷第22、23、72-74頁、本院卷第85-95頁）、證人黃素絹即鼎信聯合會計事務所會計師於偵查時（他卷(二)第42-44、75-78頁）、證人張淑燕即苗成公司會計於偵查及本院審理時（他卷(二)第76-78頁、本院卷第100-105頁）、證人柯碧招即苗成公司採購部經理於偵查時（他卷(二)第75、76頁）之具結證述相符，復有經濟部中部辦公室104年5月12日經中三字第000號函附苗成公司於99年7月12日、100年7月28日辦理每股1,000元現金增資之苗成公司變更登記申請書、變更登記表、股東常會議事錄、股東臨時會議事錄、董事會議事錄、董事會簽到簿、公司章程、施麗華聲明自行增資認股之聲明書、增加資本發行新股登記資本額查核報告書、資產負債表、會計科目試算表、增資股東繳納現金股款明細表、臺灣企銀彰化分行存摺正反面暨內頁交易明細表、苗成公司委託黃素絹擔任增資登記資本查核簽證會計師等資料（他卷(一)第24-58頁）；被告設立於臺灣企銀彰化分行存摺正反面暨內頁交易明細表（他卷(二)第7、8、11、12頁）；苗成公司99年7月12日、100年7月28日股東名冊記載施東益為苗成公司股東且持有股份為3,000股、6,500股（偵卷第13頁），可見苗成公司於99年7月12日、100年7月28日辦理每股1,000元現金增資時，確由被告以告訴人名義出資繳納300萬元、350萬元現金股款，並在苗成公司99年7月12日、100年7月28日股東名冊上記載告訴人因上開增資而為苗成公司股東，並持有3,000股、3,500股；施東益於102年8月31日自苗成公司離職之辭離職申請書（他卷(二)第38頁），可見告訴人於97年1月23日起即在苗成公司任職，直至102年8月31日以業務副總一職離職；財政部中區國稅局104年7月9日中區國稅一字第000號函、104年7月29日中區國稅三字第000號函、財政部中區國稅局彰化分局104年7月30日中區國稅彰化綜所字第000號函附苗成公司102年度公司股東股份轉讓即施東益將其名下股份1,600股售予賴稚涵、1,600股售予賴彥邦、1,700股售予賴彥宏、1,600股售予鍾小葳之102年度證券交易稅一般代徵稅額繳款書、苗成公司股份轉讓通報表、財政部中區國稅局彰化分局通知施東益就上開股份交易所得申報之通知書等件（他卷(二)第59、60、54、62頁），可知該等102年度證券交易稅一般代徵稅額繳款書記載告訴人名下股份1,600股售予賴稚涵、1,600股售予賴彥邦、1,700股售予賴彥宏、1,600股售予鍾小葳，並已在臺企銀彰化分行繳納該等證券交易稅，而苗成公司向財政部中區國稅局通報該等股份轉讓一事，財政部中區國稅局彰化分局通知告訴人就上開股份交易所得為申報，是此部分事實堪以認定。(二)被告於本院審理稱：苗成公司在95年前生意不錯，但95年度因漆彈代工遭大陸公司搶單營業額突然下降，另在施東益任職苗成公司前，苗成公司未與德律科技股份有限公司（下稱德律公司）為交易，97年起德律公司業務，均係施東益所招募，99年度德律公司營業額已占苗成公司20幾%，100年度又提高占了39%，101年度又比100年度39%更高，但102年沒有很高，而德律公司為上市公司，均有照實付款等語（本院卷第48頁反面、第49頁正面），核與被告所提93年至100年苗成公司與德律科技公司（下稱德律公司）全年營業額表觀之（偵卷第69頁），可知苗成公司於93年至96年與德律公司間並無任何交易，而全年營業額各為156,658,794元、102,140,474元、62,914,594元，至97年、98年苗成公司全年總營業額為43,129,247元、79,782,468元，雖與德律公司有交易但全年營業額僅各為1,013,730元、1,444,211元，僅占苗成公司該等年度總營業額2.4%、1.8%，然自99年、100年苗成公司與德律公司交易金額即大幅提升至各為23,744,350元、42,625,282元，而苗成公司該等年度總營業額各為109,067,839元、108,453,886元已占苗成公司該等年度總營業額21.8%、39.3%等一致，再參以97年至100年苗成公司財務報表以及與德律公司交易發票（外放卷宗外），可見苗成公司於告訴人任職之97年度全年營業額已降至93年度以來之最低，後自告訴人任職後足年增加，而告訴人所招募之德律公司營業額從百萬元足年增加至101年度時已超過5仟萬元，超過苗成公司該年度總營業額39.3%以上，且全部貨款均有收回等情，堪認告訴人自97年1月23日任職在苗成公司起，確實為苗成公司招攬相當程度業務。(三)證人柯壁招即苗成公司採購部經理於偵查時證述：施東益因不滿意其薪水，想要調薪，但謝麗華覺得夠高，故沒理會施東益。另謝麗華自己出資讓施東益當股東，可能是想要留住施東益等語（偵卷第75頁），再參以證人即告訴人於偵查時證述：當初講好苗成公司應支付其每月薪資20萬元，但苗成公司僅支付每月6、7萬元，另被告自己有每月再支付其5萬元等語（偵卷第22頁反面），復佐以被告於偵查時陳述：施東益於100年間曾說有人要給他月薪30萬元及1台500萬元車輛，但苗成公司仍支付施東益每月7萬元，但其另每月支付5萬元予施東益，並買1台300多萬元車輛在施東益名下等語（偵卷第22頁反面），以及被告於本院審理時稱：有向施東益講過要過一些股份給他，但施東益未表示好或不好，2次增資沒有跟施東益說，施東益知道他有股份，但不知有多少等語（本院卷第48頁），以及證人即告訴人於本院審理時證述：被告於99、100年間曾告訴他，他的薪水無法像外面一樣，給他一些苗成公司的股份，到時苗承公司如有賺錢會有分紅，當時有答應，但被告沒有說到是多少股份，其不知道該2次增資等語（本院卷第90頁）。(四)本件告訴人於任職苗成公司期間確能為苗成公司招攬相當程度業務，然被告未應告訴人要求提高其薪資，是以被告為平息告訴人對其薪資不滿，而於99年7月12日、100年7月28日，在苗成公司辦理現金增資時，出資以告訴人名義各繳納300萬元、350萬元現金股款，並將苗成公司股份3,000股、3,500股登記在告訴人名下為告訴人所有，使告訴人成為苗成公司股東，藉此安撫並挽留告訴人繼續為苗成公司服務，而告訴人亦未反對被告以上開方式彌補其薪資，衡諸一般公司經營者以此方式留任對公司有助益之員工，應屬合理。故被告上開出資以告訴人名義各繳納300萬元、350萬元現金股款，並將苗成公司股份3,000股、3,500股登記在告訴人名下，使告訴人成為苗成公司股東之動機及目的，應非僅係為使告訴人代表苗成公司對外談生意較為容易，否則被告僅需將告訴人在苗成公司職位提高即可達成，又何必在告訴人未出資之情況，卻將價值不斐之股份登記在告訴人名下，使告訴人成為苗成公司股東，且又未將被告始為該等股份所有權人一情以字據載明，以杜絕日後紛爭？再告訴人已不滿其薪資，而向被告要求調高薪資，告訴人又為何在被告未應其要求調高薪資之情況下，仍繼續在苗成公司服務？又雖該等股份登記於告訴人名下，依課稅方式應以告訴人為課稅義務人，但被告如為該等股份所有權人時，告訴人上開股份出售被告兒女子媳一事，告訴人因出賣人身分所衍生增加之稅負，理應由被告負擔，但卻未見被告有何負擔該筆稅負之舉止，反而任由告訴人單獨面對財政部中區國稅局彰化分局通知申報該次股份交易所得負擔稅負。從而，被告以上開方式將苗成公司股份登記予告訴人名下為告訴人所有，使告訴人成為苗成公司股東之動機及目的，實係基於安撫告訴人，藉此留任告訴人繼續為苗成公司服務無誤，即使被告自認告訴人離職後，該等股份應返回被告不應繼續登記在告訴人名下時，被告亦應透過民事訴訟機制予以解決，在未透過正當管道解決紛爭前，自不得在未得告訴人同意或授權之情況下轉讓至其名下，更遑論擅自將之以買賣為原因轉讓至其子女兒媳名下。(五)是以，被告明知告訴人與其不知情子女及兒媳間，並無買賣交易登記在告訴人名下上開苗成公司股份6,500股，卻利用不知情鼎信聯合會計事務所成年員工將上開不實交易過戶股份之資料即賴稚涵增加持股1,600股至10,600股、賴稚涵增加持股1,600股至10,600股、賴彥宏增加持股1,700股至10,200股、鍾小葳增加持股1,600股至5,600股，而告訴人出脫全部持股已非苗成公司股東一情，登載在苗成公司102年11月6日股東名冊上，以足使告訴人難以對苗成公司行使股東權利，亦損及苗成公司管理股份資料之正確性，難謂無造成告訴人及苗成公司損害之虞，另被告辯護人雖舉被告於102年8月19日書寫與告訴人信函，其中載有股份留著不用處理等語（他字卷(一)11、12頁），欲證明告訴人名下苗成公司股份真正所有權人為被告一情，惟觀諸該信函內容主要係提及被告不捨告訴人自苗成公司離職，並感念告訴人為苗承公司服務多年，僅於文末敘及股份留著不用處理，而文末所敘之股份留著不用處理一語，至多亦只能推論被告要求告訴人留下其名下苗成公司股份，但難以推知被告為該等股份真正所有權人，否則被告在該信函內豈會無隻字片語提及該等股份為其所有，自無法以該信函文末敘及股份留著不用處理一語，即遽以認定告訴人名下苗成公司股份所有權人為被告。是被告及其辯護人上開所辯：被告係為使告訴人代表苗成公司對外談生意較容易之目的，始借用告訴人名義繳納300萬元、350萬元股款，並將該增資取得之苗成公司股份3,000股、3,500股，又借用告訴人名義登記其名下，被告始為真正所有權人以及被告上開過戶一事不影響告訴人任何權利等情，尚無足採。(六)又被告及其辯護人再舉證人張淑燕證言（他字卷(二)76-78頁、本院卷第100-105頁），欲證明告訴人離職後要求證人張淑燕轉告被告將其名下股份過戶他人，被告始在告訴人催促且不違背意思下，辦理該等6,500股過戶予其子女兒媳一情，惟證人張淑燕於偵查時證述：施東益是苗成公司股東，離職後因擔心苗成公司未賺錢，股東要拿錢出來幫忙，故有一直打電話請我向謝麗華講說，要謝麗華將股份處理掉，我都有轉告謝麗華，但施東益沒有具體說要謝麗華如何處理股份的事等語（他字卷(二)76-78頁），另於本院審理時證述：施東益在離職後一直打電話請我向謝麗華講說，要謝麗華趕快將股份處理掉、趕快過過（台語）即過戶，他還有說因為他是股東，苗成公司又賠錢，說不定還要拿錢出來，但施東益沒有無說要用什麼方式移轉，或是要轉給誰，且施東益於電話中亦沒有授權她或謝麗華過戶其名下股份等語（本院卷第100-105頁）。是依證人張淑燕上開證述觀之，告訴人向證人張淑燕表示，要求謝麗華把股份處理掉或趕快過過（台語）即過戶之意一情，應至多僅能證明告訴人深怕其為苗成公司股東，須以股東身分為苗成公司虧損負責，要求被告尋得願意受讓其名下股份之人，但難以推論告訴人有明示或默示同意或授權被告將其苗成公司名下移轉至被告名下，甚至逕以推認以買賣為原因轉讓至被告子女兒媳名下，否則告訴人在電話中為何未向證人張淑燕中表達願將該等股份以何移轉原因移轉至何人名下之意，再告訴人此舉亦可佐證，該等股份是被告借用告訴人名義登記其名下，告訴人非苗成公司股東，被告始為該等股份所有權人一情並非真實，否則告訴人又豈會出現如此擔心會因持有苗成公司股份，而須負擔苗成公司虧損之舉止，是被告自無法以證人張淑燕之證詞，遽為有利其之認定。(七)綜上所述，被告及其辯護人前開所辯，均與現有證據不符，不足採信。本件被告明知告訴人與其不知情子女兒媳間，並無買賣交易告訴人上開苗成公司股份6,500股，卻利用不知情鼎信聯合會計事務所員工將上開不實交易過戶股份之資料即賴稚涵增加持股1,600股至10,600股、賴稚涵增加持股1,600股至10,600股、賴彥宏增加持股1,700股至10,200股、鍾小葳增加持股1,600股至5,600股，而告訴人出脫全部持股已非苗成公司股東一情，登載在苗成公司102年11月6日股東名冊上，足以生損害於告訴人及苗成公司管理股份資料之正確性，應屬業務登載不實，本件事證明確，被告犯行洵堪認定，自應依法論科。三、論罪科刑：(一)被告係苗成公司董事長負責綜理該公司所有業務，對外代表公司，為從事業務之人，而其就苗成公司股東名冊，自係被告業務上所執掌之文書。是核被告就前揭犯罪事實所為，係犯刑法第215條之業務上登載不實文書罪。又被告係利用鼎信聯合會計事務所不知情成年員工為本案業務登載不實犯行，應屬間接正犯。(二)爰依上述與被告犯行有關之證據，以及被告前案紀錄及戶籍資料等，審酌：被告為取回登記在告訴人名下苗成公司股份6,500股之動機及目的，而以上開業務登載不實之犯罪手段為之，並因此造成告訴人及苗成公司受有損害；未有證據顯示為本件犯行時係受刺激；已婚、育有3名成年子女，現與配偶及2名成年子女同住以及為苗成公司董事長之生活狀況；無任何前科之品行；五專畢業之智識程度；自始均否認本件犯行，且未彌補告訴人所受損害等犯罪一切情狀，量處如主文所示之刑，並諭知易科罰金之折算標準。(三)又被告行為後，刑法有關沒收規定已於104年12月17日修正，並經總統於104年12月30日公布，依刑法施行法第10條之3第1項規定，上開修正之刑法條文自105年7月1日施行。其中，修正後刑法第2條第2項規定「沒收、非拘束人身自由之保安處分適用裁判時之法律。」，已明確規範修正後有關沒收之法律適用，應適用裁判時法，無比較新舊法之問題，是本案自應逕行適用裁判時法即修正後刑法總則編第五章之一沒收（即修正後刑法第38條至第40條之2）條文，以為本案被告沒收之依據。又刑法修正後，有關犯罪物之規定，主要規定於修正後刑法第38條第2條至第4項，而修正後刑法第38條第2項至第4項規定「供犯罪所用、犯罪預備之物或犯罪所生之物，屬於犯罪行為人者，得沒收之。但有特別規定者，依其規定。前項之物屬於犯罪行為人以外之自然人、法人或非法人團體，而無正當理由提供或取得者，得沒收之。但有特別規定者，依其規定。前二項之沒收，於全部或一部不能沒收或不宜執行沒收時，追徵其價額。」。被告因業務上所製作之不實苗成公司102年11月6日股東名冊，並非被告所有之物，實係苗成公司所有；而苗成公司並非本案犯罪行為人，且被告係因執行業務關係，致苗成公司取得前揭不實股東名冊，苗成公司取得上開不實股東名冊，尚難認屬無正當理由，故參諸前揭規定，自無庸就前開被告所製作之不實苗成公司102年11月6日股東名冊，併此敘明。據上論斷，應依刑事訴訟法第299條第1項前段，刑法215條、第41條第1項前段，刑法施行法第1條之1第1項、第2項前段，判決如主文。本案經檢察官陳詠薇到庭執行職務。中華民國106年5月15日刑事第六庭法官楊鑫忠以上正本證明與原本無異。如不服本判決應於收受判決後10日內向本院提出上訴書狀，並應敘述具體理由；其未敘述上訴理由者，應於上訴期間屆滿後20日內向本院補提理由書（均須按他造當事人之人數附繕本）「切勿逕送上級法院」。告訴人或被害人對於判決如有不服具備理由請求檢察官上訴者，其上訴期間之計算係以檢察官收受判決正本之日期為準。中華民國106年5月15日書記官陳文新附錄本案論罪科刑法條：刑法第215條從事業務之人，明知為不實之事項，而登載於其業務上作成之文書，足以生損害於公眾或他人者，處3年以下有期徒刑、拘役或5百元以下罰金。']\n",
            "Train Sentences: [120, 240, 180, 135, 120]\n",
            "Test facts: ['○、緣徐鴻光（所涉行使偽造私文書犯行，業經本院以95年度訴字第955號判決處有期徒刑3月、緩刑3年確定）因需款使用，知悉穆立明有借款管道，為求順利借款，2人竟共同意圖為自己不法所有，基於行使偽造私文書及詐欺取財之犯意聯絡，知悉車牌號碼00-000號營業小客車係徐鴻光向志朗交通有限公司（下稱志朗公司）租賃之車輛，竟由穆立明先於不詳時間、不詳地點，偽刻「志朗交通有限公司」及負責人「陳健志」印章（正確姓名為陳建志，誤刻為「陳健志」）各1枚，並偽造「陳健志」代表志朗公司與徐鴻光簽署之「臺北市計程車客運駕駛人自備車輛參與經營契約書」（下稱本案參與經營契約書），虛偽記載徐鴻光提供上述營業小客車靠行志朗公司營業等不實內容，並持上開偽刻印章，偽造「志朗交通有限公司」印文4枚、「陳健志」印文6枚於本案參與經營契約書上，再於92年3月6日交徐鴻光於立約人乙方欄簽名，2人復於同日協同不知情之徐鴻光配偶徐樂仁（所涉行使偽造私文書犯行，業經本院以95年度訴字第955號判決無罪確定），前往臺北市○○區○○街00巷0號2樓王傑生所經營之宏帝當舖（現更名為渣打當舖），由徐鴻光、穆立明交付偽造本案參與經營契約書向宏帝當鋪借款新臺幣（下同）10萬元以為行使，並約定由徐樂仁擔任連帶保證人，王傑生誤信上開車輛為徐鴻光所有而陷入錯誤，於扣除利息後交付9萬1千元借款予徐鴻光夫婦，足以生損害於志朗公司、陳建志、王傑生。嗣因徐鴻光僅清償每期7千元之分期款共11期計7萬7千元，未全額清償即無力負擔債務，王傑生始查知上開車輛非徐鴻光所有，而悉上情。二、案經王傑生訴由臺灣士林地方法院檢察署檢察官偵查起訴。理由○、證據能力部分：被告以外之人於審判外之言詞或書面陳述，除法律有規定者外，不得作為證據；又被告以外之人於審判外之陳述，雖不符合同法第159條之1至第159條之4之規定，但經當事人於審判程序同意作為證據，法院審酌該言詞陳述或書面陳述作成時之情況，認為適當者，亦得為證據。刑事訴訟法第159條第1項及第159條之5第1項分別定有明文。經查，本判決所引用之各該被告以外之人於審判外之陳述，雖屬傳聞證據，然當事人於本院審判期日中均表示同意作為證據方法而不予爭執，且迄至言詞辯論終結前亦未再聲明異議（見本院卷第68頁至第68頁背面），本院審酌上開證據資料製作時之情況，尚無違法不當及證明力明顯過低之瑕疵，亦認為以之作為證據應屬適當，故揆諸前開規定，爰依刑事訴訟法第159條之5規定，認前揭證據資料均有證據能力。二、認定犯罪事實所憑之證據及理由：（一）訊據被告穆立明固坦承有於92年3月6日帶共同被告徐鴻光、徐樂仁至宏帝當鋪借錢，惟矢口否認有何行使偽造私文書及詐欺取財之犯行，辯稱：本案參與經營契約書係由共同被告徐鴻光所提出，徐鴻光知道我在宏帝當舖當業務員，他因資金不夠，要伊帶至宏帝當鋪借錢，伊請徐鴻光帶身分證、本案參與經營契約書，證明計程車係屬於徐鴻光所有，另外要帶一位保人云云。（二）經查，證人即志英交通公司負責人陳建志於檢察官偵查中結證稱：本案參與經營契約書上之「志朗交通有限公司」、「陳健志」之印文均非我公司的大小章，志朗交通公司也是我的公司，我是負責人，但這個章不是我的，被告徐鴻光只是加入無線電台等語（見94年度偵字第8715號卷第45頁），復有其提出真正之志朗交通有限公司及其本人陳建志之印文各4枚在卷可稽（見94年度偵字第8715號卷第48頁），經核卷附本案參與經營契約書上所示之「志朗交通有限公司」、「陳健志」印文（見95年度偵緝字第60號卷第53頁），除二者字體明顯不同外，本案參與經營契約書中「陳健志」名字中之「健」一字顯係錯別字，堪認本案參與經營契約書上所示之「志朗交通有限公司」、「陳健志」印文確屬偽造一節，應可認定。（三）證人即告訴人王傑生於檢察官偵查中證稱：我經營宏帝當鋪，後改名為渣打當鋪，地址在臺北市○○街00巷0號2樓，計程車典當給我們時，我們要看參與經營契約書，被告徐鴻光有來借錢，被告穆立明當時有在場，徐鴻光給我們看本案參與經營契約書，我們就以為車子是徐鴻光的，我們找到車之後才知道車子是車行的，被告穆立明是我們公司抽獎金的業務員，穆立明介紹人來借錢，我給他獎金等語（見94年度偵字第8715號卷第37頁、95年度偵緝字第60號卷第49頁、第68頁），且證人朱庭峰於檢察官偵查中及本院審理時亦結證稱：我是宏帝當鋪的負責人，後來當鋪讓給王傑生，被告徐鴻光到宏帝當鋪借款10萬元，係由我接洽，當時是被告穆立明介紹，穆立明不是公司職員，他會介紹車子到我們公司來典當，我會給穆立明佣金，即我收到1,000元利息，就給他100元，本案參與經營契約書是由穆立明拿出來等語（見95年度偵緝字第60號卷第68頁至第69頁、95年度訴字第955號卷第66頁至第67頁），復有本案參與經營契約書、本票影本各1份附卷可憑（見94年度偵字第8715號卷第14頁至第17頁），足認共同被告徐鴻光係經被告穆立明介紹，持本案參與經營契約書於上開時間前往宏帝當鋪借款10萬元，且被告穆立明於借款時在場之事實，洵堪認定。（四）被告穆立明雖辯稱：本案參與經營契約書係共同被告徐鴻光所提出，伊僅有將徐鴻光帶去當鋪，就由當舖的人接洽云云，惟查，證人即共同被告徐鴻光於本院審理時證稱：因為我當司機收入不高，家裡有需要用錢，被告穆立明說有辦法借錢，我請被告穆立明帶我去借款，被告穆立明有帶我去當鋪，我太太徐樂仁當時有一起陪同，卷附之本票影本係我當時在當鋪簽立，而本案參與經營契約書係被告穆立明幫我準備好的，經我在當舖蓋我的章及簽名，被告穆立明拿給我時契約書已經寫好資料，至於被告穆立明提出本案參與經營契約書之來源我不知道，被告穆立明只有要我帶駕照、行照、身分證及私章，車號00-000號營業用小客車是我用租的車子，車子是志朗公司的車子，本案參與經營契約書內容不是真的，車子不是我自備的，只有契約書末頁乙方的簽名是我簽的等語（見本院卷第64頁至第66頁背面），核與其在檢察官偵查中證稱：被告穆立明有帶我去宏帝當鋪向朱先生借錢，我借10萬元，本案參與經營契約書係被告穆立明幫我準備好的，前面的簽名及資料是被告穆立明簽的，只有最後的簽名是我簽的等語大致相符（見95年度偵緝字第60號卷第48頁至第49頁），再查，參以被告穆立明於本院審理時當庭書寫徐鴻光名字之字跡經與本案參與經營契約書立契約書人一欄所簽署「徐鴻光」之筆跡比對後（見本院卷第73頁），依肉眼觀之，不論字跡之運筆、筆勾等字體外觀，均較為吻合，反觀該契約書頁末之乙方「徐鴻光」之筆跡，與頁首立契約書人一欄所簽署「徐鴻光」之筆跡之運筆及筆勾，字跡明顯不同，是被告穆立明辯稱本案參與經營契約書係由共同被告徐鴻光提出云云，已難採信；又證人徐鴻光於本院審理時證稱：我曾經用上開車輛向別的當鋪借錢，當時別的當鋪說車子用租的也可以借，只要押行照在那裡即可，不需要像本件一樣的契約，本件是我去當鋪，他們說該簽名的地方，我就簽名，且是我透過別的司機得知被告穆立明可以幫我問問哪裡可以借錢，所以才找被告穆立明等語（見本院卷第65頁背面至第66頁背面），衡以證人徐鴻光涉犯本案犯行業經本院認定有罪確定，自應無虛偽陳述之動機，且被告穆立明自承與證人徐鴻光無糾紛，同為排班計程車司機，為點頭之交乙情，亦認證人徐鴻光無涉詞誣陷被告穆立明之可能；再參以證人王傑生、朱庭峰皆證述本案參與經營契約書係由被告穆立明提出一節，又被告並不否認宏帝當舖僅同意典當個人所有靠行之車輛，不同意典當向車行租的車輛等情，而本件共同被告徐鴻光既有提供行照予被告穆立明，業經其證述如前，則自行照之記載內容即可知悉上開車輛所有人為何人，被告穆立明豈有不知上開車輛所有人為何人之理，況被告穆立明供認介紹共同被告徐鴻光予宏帝當鋪借錢有利息百分之十之報酬等語（見本院卷第69頁背面），其當有可能為促成徐鴻光與宏帝當鋪借款，而提出本案經營契約書供作本件借款之用，是被告穆立明辯稱車子是徐鴻光說其自己所有，本案參與經營契約書係徐鴻光自行提出云云，顯係事後卸責之詞，不足採信。（五）綜上所述，被告上開所辯各節，無非事後避重就輕、圖卸之詞，不足採信，被告行使偽造私文書及詐欺取財等犯行，事證明確，應依法論科。三、論罪科刑部分：（一）按被告行為後，94年2月2日修正公布之刑法已於95年7月1日生效施行，其中第2條第1項「行為後法律有變更者，適用行為時之法律。但行為後之法律有利於行為人者，適用最有利於行為人之法律」之規定，係規範行為後法律變更所生新、舊法律比較適用之準據法，並非刑法實體法律，自不生行為後法律變更之比較適用問題，故刑法修正施行後，應適用該修正後之第2條第1項之規定，依「從舊、從輕」之原則比較新、舊法律之適用；又比較新舊法時，應就罪刑有關之共犯、未遂犯、想像競合犯、牽連犯、連續犯、結合犯，以及累犯加重、自首減輕暨其他法定加減原因（如身分加減）與加減例等一切情形，綜其全部罪刑之結果而為比較後，再適用有利於行為人之法律處斷，而不得一部割裂分別適用不同之新、舊法（最高法院24年上字第4634號、29年上字第964號判例意旨及最高法院95年度第8次刑事庭會議決議參照）。經查：1.刑法第33條第5款關於罰金刑之規定業於94年2月2日修正，於95年7月1日生效，修正前刑法第33條第5款規定：「罰金：1元（銀元）以上。」，並依現行法規所定貨幣單位折算新臺幣條例規定，以銀元1元折算新臺幣3元，故修正前刑法規定罰金之最低數額為新臺幣3元；修正後刑法第33條第5款規定：「罰金：新臺幣1,000元以上，以百元計算之。」，故修正後刑法規定罰金之最低數額提高為新臺幣1,000元；比較上開罰金刑之最高數額，於修正後並無不同，惟修正後刑法第33條第5款所定罰金刑最低數額，既較修正前提高，依前開說明，應適用對被告有利之修正前刑法第33條第5款之規定。2.修正前刑法第28條規定：「二人以上共同實施犯罪之行為者，皆為正犯。」，修正後該條規定為：「二人以上共同實行犯罪之行為者，皆為正犯。」，揆諸本條之修正理由，係為釐清陰謀共同正犯、預備共同正犯、共謀共同正犯是否合乎本條之正犯要件，並將陰謀共同正犯、預備共同正犯剔除於本條適用之外，以符合近代刑法之個人責任原則、法治國人權保障思想及犯罪支配理論，自屬行為後法律有變更，而非僅屬文字修正，應有新舊法比較適用問題（最高法院97年度台上字第37號判決意旨參照）。本件被告穆立明與徐鴻光就前揭行使偽造私文書及詐欺取財犯行各具有犯意聯絡及行為分擔，不論依修正前或修正後之規定，均屬共同正犯，對被告並無有利或不利之情形，應適用行為時之法律。3.被告行為後新法業已刪除牽連犯之規定，依舊法成立方法、結果行為而僅論以一罪者，依新法將論以數罪，比較新、舊法結果，自以修正前刑法第55條牽連犯之規定，較有利於被告。4.綜此，本院經綜合上述各條文修正前、後之比較，參照前揭最高法院決議及修正後刑法第2條第1項前段、後段規定之「從舊、從輕」原則，被告穆立明上開犯行自應適用行為時之法律，予以論處。（二）核被告穆立明所為，係犯刑法第216條、第210條之行使偽造私文書罪、同法第339條第1項詐欺取財罪。被告穆立明於本案參與經營契約書上偽造「志朗交通有限公司」、「陳健志」印章及印文乃偽造私文書之部分行為，其偽造本案參與經營契約書後持以行使，偽造之低度行為復為行使之高度行為所吸收，均不另論罪。被告穆立明與徐鴻光就行使偽造私文書及詐欺之犯行有犯意聯絡及行為分擔，為共同正犯。又其等行使偽造私文書之目的，在詐取告訴人之金錢，所犯連續行使偽造私文書與詐欺取財2罪間，有方法、目的之牽連關係，應依修正前刑法第55條規定，從一較重之行使偽造私文書罪處斷。（三）爰審酌被告穆立明不思以正當途徑賺取錢財，竟偽造志朗公司及其負責人陳建志之印章，進而偽造本案參與經營契約書，而詐取告訴人之金錢，足生損害於志朗公司、陳建志、告訴人，並危害社會交易秩序，所為實有不該，犯後否認犯行，未見悔悟之心，兼衡被告穆立明有違反票據法之前科，有臺灣高等法院被告前案紀錄表在卷可稽（見本院卷第60頁），素行尚可，共同被告徐鴻光於詐得借款後已陸續返還利息予告訴人與朱庭峰，及被告穆立明為高中肄業之智識程度，經濟狀況為小康之生活狀況等一切情狀（見被告警詢筆錄受詢問人欄，本院卷第6頁），量處如主文所示之刑，以資懲儆。又關於易科罰金之折算標準，修正前刑法第41條第1項前段規定：「犯最重本刑為5年以下有期徒刑以下之刑之罪，而受6個月以下有期徒刑或拘役之宣告，因身體、教育、職業、家庭之關係或其他正當事由，執行顯有困難者，得以1元以上3元以下折算1日，易科罰金。」，再依據修正前罰金罰鍰提高標準條例第2條：「依刑法第41條易科罰金或第42條第2項易服勞役者，均就其原定數額提高為1百倍折算1日；法律所定罰金數額未依本條例提高倍數，或其處罰法條無罰金刑之規定者，亦同。」之規定，被告行為時之易科罰金折算標準，應以銀元1百元以上3百元以下折算1日，經折算為新臺幣後，應以新臺幣3百元以上9百元以下折算1日。惟95年7月1日施行之刑法第41條第1項前段規定修正為：「犯最重本刑為5年以下有期徒刑以下之刑之罪，而受6個月以下有期徒刑或拘役之宣告者，得以新臺幣1千元、2千元或3千元折算一日，易科罰金。」，另95年7月1日生效施行之罰金罰鍰提高標準條例則刪除原本第2條之規定。是以比較新舊法結果，自以舊法所定之易科罰金折算標準有利於被告，故應依修正前刑法第41條第1項前段、修正前罰金罰鍰提高標準條例第2條規定，就所宣告之刑部分諭知易科罰金之折算標準。（四）偽造之「臺北市計程車客運駕駛人自備車輛參與經營契約書」原本1份固經共同被告徐鴻光於借款時行使交付予宏帝當鋪，業如前述，惟此僅係共同被告徐鴻光為借得款項，而將本案參與經營契約書交付當鋪作為擔保使用，其所有權仍為共同被告徐鴻光所有，不因行使而移轉為宏帝當鋪所有，又該偽造之契約既係供本件犯行所用，爰依刑法第38條第1項第2款規定宣告沒收。又契約上偽造之「志朗交通有限公司」印文4枚、「陳健志」之印文6枚固係偽造之印文，已因該契約之沒收而包括在內，無再重複諭知沒收之必要。另告訴人為提起本件告訴，而複印本案參與經營契約書資為證據（見94年度偵字第8715號卷第15至第17頁），因認僅係作為本案訴訟使用，而非被告穆立明、共同被告徐鴻光供本件犯行所用之物，就複印之契約書上之「志朗交通有限公司」印文4枚、「陳健志」之印文6枚，爰不予宣告沒收。至被告穆立明偽刻之「志朗交通有限公司」、「陳健志」印章各1枚，係偽造之印章，且無證據證明業已滅失，應依刑法第219條宣告沒收。（五）再按本條例施行前，經通緝而未於中華民國96年12月31日以前自動歸案接受偵查、審判或執行者，不得依本條例減刑，中華民國九十六年罪犯減刑條例第5條定有明文。查本件被告穆立明所為前開犯行之犯罪時間固係在96年4月24日以前，但其曾於中華民國九十六年罪犯減刑條例施行（96年7月16日施行）前之95年12月21日因本案經本院以95年士院刑玄緝字第463號通緝書發佈通緝，於102年9月1日甫緝獲歸案等情，此有前開通緝書、歸案證明書、本院102年士院刑玄銷字第289號撤銷通緝書各1份存卷可參（95年度訴字第955號卷第43頁、本院卷第26頁、第43頁），從而，依前開規定，本案被告無從依中華民國九十六年罪犯減刑條例之規定減刑，併此敘明。據上論斷，應依刑事訴訟法第299條第1項前段，刑法第2條1項前段、第28條、第216條、第210條、第339條第1項、第219條、第38條第1項第2款、修正前刑法第55條、第41條第1項前段，刑法施行法第1條之1第1項，修正前罰金罰鍰提高標準條例第2條，現行法規所定貨幣單位折算新臺幣條例第2條，判決如主文。本案經檢察官黃仙宜到庭執行職務。中華民國102年12月3日刑事第七庭審判長法官雷雯華法官陳介安法官蔡子琪以上正本證明與原本無異。如不服本判決應於收受送達後10日內向本院提出上訴書狀，並應敘述具體理由。其未敘述上訴理由者，應於上訴期間屆滿後20日內向本院補提理由書（均須按他造當事人之人數附繕本）「切勿逕送上級法院」。書記官李宜蓁中華民國102年12月5日附錄本案論罪科刑所依據之法條：刑法第216條、第210條、第339條第1項偽造、變造私文書，足以生損害於公眾或他人者，處5年以下有期徒刑。偽造印章、印文或署押，足以生損害於公眾或他人者，處3年以下有期徒刑。盜用印章、印文或署押，足以生損害於公眾或他人者，亦同。意圖為自己或第三人不法之所有，以詐術使人將本人或第三人之物交付者，處5年以下有期徒刑、拘役或科或併科1千元以下罰金。', '一、劉木卿（曾有犯背信罪之紀錄，本件不構成累犯），係專業代書，為從事業務之人，曾多次承辦祭祀公業相關業務，深知有關之各種申辦程序及事宜，時值政府立法要求祭祀公業申報以便管理（即96年12月12日公布之祭祀公業條例，要求於該條例施行已存在，而未依祭祀公業公土清理要點或臺灣省祭祀公業土地清理辦法之規定申報並核發派下全員證明書之祭祀公理，應於同條例第7條規定之期間辦理申報等事宜），其知坐落於彰化縣田中鎮○○○段158、159地號二筆土地係屬祭祀公業蕭子玉所有，尚未清理依法核發派下全員證明書等情，故即主動與該公業之管理人蕭賜福、蕭耀西之後代子孫蕭慶堂、蕭慶珍、蕭如壎、蕭慶三等人聯絡處理該祭祀公業之相關事宜（此與該二筆土地密不可分），經洽商結果，於蕭慶堂、蕭慶珍、蕭如壎、蕭慶三等人不需支費下，劉木卿代為申辦，事成後，由劉木卿獲得該祭祀公業所有土地價值20％之報酬，劉木卿竟為圖得該優厚之報酬；另蕭慶堂等人，則亦冀得他人勿來參與成為祭祀公業蕭子玉之派下員，方減少土地分歸他人之意下，其等明知上開祭祀公業蕭子玉之設立人非僅係蕭賜福及該公業之享祀人係蕭子玉等情，其等竟共同基於意圖為自已不法所有及行使業務上登載不實文書、使公務員登載不實之犯意聯絡，接續為下列行為：(一)由劉木卿於民國98年8月3日前數日內某時，在彰化縣員林鎮○○路○段172之1號住處，於業務上登載祭祀公業蕭子玉「3、淵源來歷：由蕭賜福積蓄購買本公業所有坐落彰化縣田中鎮○○○段158、159地號等二筆之土地。以祭田收益，作為每年清明節祭祀祖先之資。並期望子孫『蕭子』被珍惜如玉，故以『祭祀公業蕭子玉』命名。4、設立者姓名：先祖蕭賜福所設立。5、祭祀地點即供奉所在地：日據時期祭祀地點為彰化廳武東堡社頭庄百八拾壹番地及彰化廳武東堡社頭庄百八十三番地。光復後彰化縣社頭鄉社頭村社頭第一巷3號及彰化縣社頭鄉○○村○○○路360號，民國70年間因祭祀地點公廳拆除改建後，由各派下員各自將祖先神位分靈祭祀，申請人祭祀地點為彰化縣社頭鄉○○村○○○路40號。蕭如壎祭祀地點為彰化縣社頭鄉○○村○○○路46號。6、土地所在地：彰化縣田中鎮○○○段158、159地號（此部分關於土地之標示應屬無誤）。」等不實沿革，及不實之「派下現員：蕭慶三、蕭慶堂、蕭慶珍、蕭如壎」名冊、不實之派下全員系統表、推舉書後，連同該祭祀公業之財產清冊、土地登記第一類謄本，書寫以蕭慶堂為申報人之祭祀公業派下全員證明書申請書，於98年8月4日由劉木卿持向彰化縣田中鎮公所申請該祭祀公業派下全員證明書而行使，使不知情之田中鎮公所民政課承辦人員誤認為所申報關於該祭祀公業之「享祀人」、「設立人」與祭祀公業財產等要件皆具備，及該祭祀公業之派下員僅有蕭慶堂、蕭慶珍、蕭慶三與蕭如壎，而將上開不實事項登載於職務上所掌之公文書，經田中鎮公所依法公告徵求異議，俟公告期滿無人異議後，劉木卿、蕭慶堂、蕭慶珍、蕭慶三與蕭如壎復基於意圖為自己不法利益之犯意聯絡，由劉木卿以該祭祀公業派下員證明申請案已公告期滿無人異議，於98年10月7日在其前揭住處製作祭祀公業蕭子玉申請書，表明蕭慶堂、蕭慶珍、蕭慶三與蕭如壎為該祭祀公業僅存之派下員，於98年10月8日以蕭慶堂名義向田中鎮公所申請核發派下員證明書，致不知情之田中鎮公所民政課承辦人員於98年10月12日核發祭祀公業派下全員證明書、祭祀公業蕭子玉派下全員系統表、派下現員名冊與不動產清冊給蕭慶堂，使蕭慶三、蕭慶堂、蕭慶珍、蕭如壎取得祭祀公業蕭子玉派下員資格之利益。嗣於98年10月12日，劉木卿於前揭住處，接續在業務上製作之祭祀公業蕭子玉申請書登載派下全員蕭慶三、蕭慶堂、蕭慶珍、蕭如壎推舉蕭慶堂擔任新任管理人之不實事項，於翌日由劉木卿以蕭慶堂名義，連同該祭祀公業派下全員證明書、祭祀公業蕭子玉派下全員系統表、派下現員名冊與不動產清冊持向田中鎮公所申請管理人變更核備而行使之，使不知情之田中鎮公所民政課承辦人員登載於職務上所載之公文書，均足以生損害於該祭祀公業真正派下員及彰化縣田中鎮公所對祭祀公業管理之正確性。(二)劉木卿、蕭慶堂、蕭慶珍、蕭如壎與蕭慶三於祭祀公業蕭子玉之管理人變更後，其等知曉該祭祀公業因尚有共同設立人（亦即蕭賜福係公業之管理人，並非公業所有土地之單獨所有權人），應有其祭祀公業之派下員存在，在未得其他人同意之下（即該派下員並無解散該祭祀公業之合意），竟賡續前開犯意，由劉木卿於99年1月9日，在其彰化縣員林鎮○○路○段172之1號住處，於職務上製作之該祭祀公業派下員同意書上登載全體派下員蕭慶堂、蕭慶珍、蕭如壎與蕭慶三同意解散該祭祀公業，由各房奉請祖先牌位各自祭祀，及該祭祀公業因解散而需辦理彰化縣田中鎮○○○段158、159地號土地更名登記之土地登記申請書等不實事項後，委由劉木卿持向彰化縣田中地政事務所辦理系爭土地更名登記。劉木卿乃於99年1月22日，連同系爭土地所有權狀、土地登記清冊、田中鎮公所核發之祭祀公業派下全員證明書、派下現員名冊持向彰化縣田中地政事務所申請系爭土地更名登記為蕭慶堂、蕭慶珍、蕭如壎與蕭慶三所有而行使，致使不知情之田中地政事務所承辦人員誤認蕭慶堂、蕭慶珍、蕭如壎與蕭慶三為該祭祀公業之全體派下員，及蕭慶堂、蕭慶珍、蕭如壎與蕭慶三均同意解散該祭祀公業，乃將系爭土地所有權人祭祀公業蕭子玉變更登記為蕭慶堂、蕭慶珍、蕭如壎與蕭慶三分別共有（蕭慶三、蕭如壎各取得系爭土地三分之一之應有部分；蕭慶堂、蕭慶珍則各六分之一之應有部分）。足以生損害於該祭祀公業真正派下員及彰化縣田中鎮公所對祭祀公業管理之正確性。二、案經蕭耀森訴由彰化縣警察局田中分局報告臺灣彰化方法院檢察署檢察官偵查起訴。理由壹、程序方面（證據能力）：現行刑事訴訟法為保障被告之反對詰問權，排除具有虛偽危險性之傳聞證據，以求實體真實之發見，於該法第159條第1項明定被告以外之人於審判外之言詞或書面陳述，除法律有規定者外，不得作為證據。本件檢察官、被告及辯護人於本院準備程序及審理程序中，並未就本案卷內證據資料之證據能力提出爭執，且迄於言詞辯論終結前，均未主張有刑事訴訟法第159條第1項不得為證據之情形，應認均已同意本案卷內之證據資料均得作為本案證據，且經本院審酌後，認無不適當之情形，是本案卷內之證據均有證據能力，合先敘明。貳、實體方面：一、訊據被告劉木卿、蕭慶堂、蕭慶珍、蕭慶三與蕭如壎等人，均矢口否認涉有上開行使業務上登載不實文書、使公務員登載不實及詐欺取財之犯行。被告劉木卿辯稱：伊從事代書工作，有關辦理本件祭祀公業蕭子玉之申報事宜，一切資料均來自被告蕭慶堂、蕭慶珍、蕭慶三與蕭如壎等會商後所告知，伊無捏造申報之犯行，且被告蕭慶堂等人告知沿革資料縱內容與事實有出入，或肇因證據散失、記憶模糊，或係告知有誤解所致，絕無任何偽造之故意云云。另被告蕭慶堂、蕭慶珍、蕭慶三與蕭如壎則均於辯稱：被告兄弟四人係祭祀公業蕭子玉真正之派下員，故其等所為，並無觸法可言，且上開有關申報祭祀公業蕭子玉中沿革及相關資料中，係來自父親所告知，伊無偽造之故意，因此並未涉有公訴人所指之犯行云云。但查：(一)被告蕭如壎於警詢時，明白證稱：「（問：蕭子玉祭祀公業有無財產？分佈何處？）之前我不知道，一位住社頭鄉○○村○○路旁劉姓代書告知，我才知道。是該劉姓代書帶我、蕭慶堂、蕭慶三及蕭慶珍４個兄弟前往彰化縣田中鎮○○路附近察看，告知附近土地是我們的。」、「（問：你是否知道蕭子玉祭祀公業沿革之內容為何？）我不知道」、「（問：蕭子玉祭祀公業申請前有何人管理及繳交土地稅金？）我不知道」（見警詢筆錄附於99年度偵字第7488號偵查卷宗第12頁背面至13頁背面）；後於偵查中，亦明確指出：「是代書主動來找我們，我才知道可以辦理，所以兄弟協調後，才由代書去處理。」（同上偵查卷宗第107頁背面）；後於本院審理中，具結證稱：「（問：你是否知道劉木卿代書所繕寫方的蕭子玉祭祀公業沿革係『希望蕭氏子孫被珍惜如玉』，才叫做蕭子玉祭祀公業，你是否知道這沿革？」我不知道。」、「是代書主動來找我們的」等語（見本院101年1月5日審判筆錄），該供述內容前後一致，均無矛盾，且該內容係不利被告蕭如壎之證詞，若非屬實，焉有自陷於不利之理。是被告蕭如壎上開證詞，其憑信度極高，自可採信。再參之被告蕭慶珍於72年9月27日即辦妥祭祀公業德盛公有擁有坐落彰化縣員林鎮○○○段第93地號（重測前為番仔崙93、104、136、213、218地號）土地事宜（相關謄本附於被告於100年2月21日所提之準備書狀內），而該祭祀公業亦係蕭賜福為管理人，若被告蕭慶珍兄弟早已獲知本件祭祀公業蕭子玉等相關訊息（含管理人係其等之先人蕭賜福），豈有不趁早處理，而遲至98年方為本件申請之理。因此，由上可知，被告蕭慶堂、蕭慶珍、蕭如壎、蕭慶三等人原本對祭祀公業蕭子玉之存否，包括其祖父係祭祀公業蕭子玉之管理人及該公業擁有坐落於彰化縣田中鎮○○○段158、159地號二筆土地等情，一無所悉，係同案被告劉木卿主動前來告知等情，確係為實。(二)證人即被告蕭如壎之子蕭順昌；被告蕭慶堂之子蕭錦標經檢察官聲請傳訊到庭，2人於受詰問時，對於有關祭祀公業蕭子玉相關事宜均無所悉（見同上審判筆錄），此印證被告蕭如壎之上開證詞之真實性，因若如被告蕭慶堂、蕭慶珍、蕭慶三於本院審理中，所辯其明暸祭祀公業蕭子玉等事宜，焉有於其等係已逾六旬之人，而不轉告子嗣明白有關祭祀公業蕭子玉相關事項之理。再者，依彰化縣田中地政事務所100年5月9日中地一字第1000002260號函所示：蕭家裕（即居於系爭土地之人）於94、96、98年陸續有以網路申請系爭彰化縣田中鎮○○○段159地號土地電子謄本紀錄，而被告蕭如壎僅在99年11月23日以其名義，以網路申請系爭彰化縣田中鎮○○○段159地號土地電子謄本；另被告蕭慶珍係於98年8月21日申請係系爭彰化縣田中鎮○○○段158地號電子謄本（見本院卷二），此足徵被告蕭慶堂、蕭慶三、蕭慶珍與蕭如壎在98年以前，均不知悉該祭祀公業擁有系爭土地之事實。因若係98年以前即知悉系爭土地及該祭祀公業存在，理當有申辦系爭土地謄本以便主張權益之紀錄（例如蕭家裕即是），另被告劉木卿係專業代書，其亦自承多次承辦祭祀公業相關業務，是當深知有關之各種申辦程序及事宜，且本件被告蕭慶堂為祭祀公業蕭子玉申報等相關事宜，又係祭祀公業條例公布清理時限內所為，是有關本件辦理祭祀公業蕭子玉申報事宜及其後分歸土地之事，均係由被告劉木卿主動與該公業之管理人蕭賜福、蕭耀西之後代子孫即被告蕭慶堂、蕭慶珍、蕭如壎、蕭慶三等人所為之事實，應可認定（至於被告劉木卿何以會主動為之，因可獲得如事實一所述之優厚之報酬也）。(三)依據民事習慣，祭祀公業之構成，係設立人為祭祀祖先所購置或設立之獨立財產（見本院卷一所附之臺灣祭祀公業協會網站文獻、維基百科網站查詢資料），因此，構成祭祀公業須有下列要件：一、人的部份：須有享祀人、設立人、派下員、管理人。祭祀公業之享祀人即為祭祀公業所奉祀之人，多為設立人之尊長或先祖，而非以後代子孫為享祀人。而祭祀公業須有設立人之存在，有時係一人，有時係多人。另管理人為受任管理祭祀公業財產及宗務之人，以選任派下員為原則，例外亦有選任派下以外之人為管理人。二、祭祀公業財產：係指不動產、動產、股票、債券收益之意，此類祭祀公業的獨立財產，其財產應屬全體派下員公同共有，與派下子孫個別財產完全不相干。本件被告等人於98年8月3日向彰化田中鎮公所所提之申請書附件沿革中，記載：【以祭田收益，作為每年清明節祭祀祖先之資。並期望子孫『蕭子』被珍惜如玉，故以『祭祀公業蕭子玉』命名。】，非但無享祀人之具體記載，且竟指該公業名稱蕭子玉非係先人之名，而係泛指後代子孫受珍惜，此與前開民俗可謂大相逕異，而將【蕭子玉】指係為後代子孫，實屬偏離至極。(四)被告蕭慶堂、蕭慶珍、蕭如壎、蕭慶三等四人對於蕭氏宗親所編之蕭氏族譜，均不爭執之其為真正（99年度偵字第5375號第159頁至172頁），其上明確記載蕭時中係蕭氏入漳洲始祖（明永樂九年辛卯科狀元），其子積玉（字子玉，配黃氏），...十一世輝美、十二世有志誠、志海、志湖、志達。而本院依職權前往被告蕭慶堂、蕭如壎家中，開啟伊等之祖先牌位，其內均有輝美、志海之記載，有院100年2月21日之勘驗筆錄及照片可稽，是顯見蕭積玉（字子玉）係被告蕭慶堂、蕭慶珍、蕭如壎、蕭慶三等四人之祖先無誤，而被告蕭慶堂於警詢中，竟出言稱：「（：你們祖先之中有無姓名【蕭子玉】之人？）沒有」（見警詢筆錄附於99年度偵字第7488號偵查卷宗第5頁），是顯見被告蕭慶堂為求本件祭祀公業蕭子玉所擁有之系爭土地能順利分歸，不惜為與事實不符之陳述。(五)被告蕭慶三於警詢中，明確供陳：「（問：你是否知道蕭子玉祭祀公業沿革之內容為何？）蕭子玉是我們的祖先，祭祀公業是讓我祭祖留念。」、「（問：提示位於彰化縣社頭鄉社頭村草仔埤巷4號「芳遠堂」蕭子玉牌位，是否就是你所稱你們祖先蕭子玉？）我以前有跟我媽媽到該處拜拜，他只告知我該處供奉我們的祖先，當時我還小，我沒有注意看。」等語（見警詢筆錄附於99年度偵字第7488號偵查卷宗第10頁背面至11頁正面），而其與其他兄弟及被告劉木卿會商後，竟於所提之申請書附件沿革中，為上開記載，在在足證，被告蕭慶堂、蕭慶珍、蕭如壎、蕭慶三及同案被告即代書劉木卿均係明知且故意為之。斷非係肇因證據散失、記憶模糊所致。(六)被告蕭慶堂、蕭慶珍、蕭如壎、蕭慶三及同案被告即代書劉木卿於100年2月11日委由辯護人具狀表示：「(一)無相關證據足以認定蕭賜福為設立人；但亦無證據足以認定蕭賜福非設立人」（見100年2月11日所提之準備書狀），被告等人既明確表示無相關證據足以認定蕭賜福為設立人，則其等於上開沿革中，載稱：「4、設立者姓名：先祖蕭賜福所設立。」，豈非係其等於無任何證據之下，徒憑己意所為，是該記載明確有不實之弊，自不待言。(七)被告蕭慶堂、蕭慶珍、蕭如壎、蕭慶三之祖父蕭賜福於明治44年8月19日與齋友向同為其父蕭貞吉之繼承人蕭福智、蕭福根、蕭登王等人購買坐落彰化縣員林鎮○○○段第93地號（重測前為番仔崙93、104、136、213、218地號）土地設立祭祀公業德盛公，有土地登記簿謄本影本1份（含日據時代之登記簿，係被告所提出附於100年2月21日之準備書狀內），在卷可佐，觀日據時代之登記簿業主權事項欄就該事項係以記載【公業德盛公管理人武東堡社頭庄百八拾壹番地蕭賜福】之方式表示之，亦即方式之記載係表示土地係屬公業德盛公，而管理人係蕭賜福，且除蕭賜福外尚有其他派下員，並非由蕭賜福一人所獨設（因此公業係蕭賜福與其他人一同設立），再觀祭祀公業蕭子玉就系爭土地於日據時代之登記簿業主權事項欄內，其記載亦係以【公業蕭子玉管理人武東堡社頭庄百八拾壹番地蕭賜福】之方式表示之（見99年度偵字第5375號偵查卷宗第34頁），二者之記載方式，則代表含意亦相同，不容有不同之解釋，換言之此方式之記載係表示土地係屬公業蕭子玉，而管理人係蕭賜福，且除蕭賜福外尚有其他派下員，而縱蕭賜福係設立人，亦非由其一人所獨設（況依上述，並無相關證據足以認定蕭賜福係設立人）。而被告蕭慶堂、蕭慶珍、蕭如壎、蕭慶三及被告劉木卿竟於無視上開明白之記載，而申請書附件沿革中，明白書載「4、設立者姓名：先祖蕭賜福所設立。」，是在在足證其等確有虛偽記載之犯意甚明。(八)日據時代土地總登記係於明治38年，若有明確資料提出證明確係所有權者，則在該土地登記事項欄內，必以業主相稱，此由上開坐落彰化縣員林鎮○○○段第93地號（重測前為番仔崙93、104、136、213、218地號）土地，原係蕭賜福之父蕭貞吉所有，則於日據時代之土地登記事項欄內，即載明「明治參拾八年拾壹月拾壹日蕭貞吉為業主」自明，而本件祭祀公業蕭子玉所擁有之系爭土地，於日據時代之登記簿業主權事項欄內，係直接記載「業主公業蕭子玉」，亦即該土地之原來所有權人係何人，並無記載，惟依該時之資料可以確定係系爭土地之所有權人係公業蕭子玉，而非蕭賜福。再者祭祀公業常有祭典之舉行，故常有一定處所奉祀享祀人，但此與管理人之住處有別，而上開申請書附件沿革竟指蕭賜福之住所即係彰化廳武東堡社頭庄百八拾壹番地為奉祀地，益見該等記載偏離事實，故申請書附件沿革中關於「3、淵源來歷：由蕭賜福積蓄購買本公業所有坐落彰化縣田中鎮○○○段158、159地號等二筆之土地。」及「5、祭祀地點即供奉所在地」，顯係不實之記載。(九)祭祀公業涉及祭典之舉行及因派下員常非單一，故需設管理人，而任該職者，通常係找頗有影響力之人或飽學之士為之，被告蕭慶堂、蕭慶三、蕭慶珍、蕭如壎之先人蕭賜福於日據時代係從販賣阿片之商人，其影響力不可言諭，再者，蕭賜福之父蕭貞吉（生於天保2年）於明治44年去世，其於明治42年時，體力當已老衰，故由蕭賜福任祭祀公業蕭子玉之管理人，應符常情，因此被告等人主張蕭賜福擔任管理人時，其父親尚存在，該公業若為其祖先設立，焉有選任蕭賜福為管理人之可能云云，顯係模糊上情之詞。(十)被告等確涉有上開犯行，除經證人即告訴人蕭耀森（在是否屬被害人不明前，似乎應以告發人相稱）於警詢證明確外，，就①被告蕭慶堂、蕭慶珍、蕭慶三與蕭如壎合意選任蕭慶堂為代理人，蕭慶堂再委任劉木卿製作該祭祀公業不實之沿革、申請書，連同土地登記第一類謄本於98年8月3日持向田中鎮公所申請派下全員證明書，而田中鎮公所民政課受理申請後，將被告等人登載之不實事項登載於職務上所掌之公文書及被告等人於公告期滿後，於98年10月8日向田中鎮公所申請核發派下員證明書，致田中鎮公所承辦人員陷於錯誤，於同年月13日核發祭祀公業派下全員證明書及蓋有公所印信之派下全員系統表、派下現員名冊與不動產清冊與被告等人以原管理人蕭耀西死亡為由，於98年10月13日向田中鎮公所申請變更該祭祀公業新任管理人為蕭慶堂之事實部分，並有祭祀公業派下全員證明書申請書、委任書、祭祀公業蕭子玉推舉書、沿革、土地登記第一、二類謄本彰化縣田中鎮公所98年9月3日田鎮民字第0980013614號函、田鎮民字第0980013615號公告、祭祀公業蕭子玉申請書、彰化縣田中鎮公所98年10月12日田鎮民字第0980015674號函、祭祀公業蕭子玉管理人選任同意書、申請書、委任書、彰化縣田中鎮公所98年10月14日田鎮民字第0980015957號函附卷可稽；②被告劉木卿擔任被告蕭慶堂、蕭慶三、蕭慶珍與蕭如壎之代理人，以解散該祭祀公業為由，於99年1月22日向田中地政事務所申請系爭土地之所有權人由該祭祀公業變更登記為被告蕭慶堂、蕭慶三、蕭慶珍與蕭如壎，致田中地政事務所承辦人員誤認該祭祀公業派下員同意解散該祭祀公業，進而將系爭土地之所有權人變更為被告文蕭慶堂、蕭慶珍、蕭慶三與蕭如壎之事實部分，亦有彰化縣田中地政事務所100年5月5日中地一字第1000002313號函所附之土地登記申請書、印鑑證明、派下員同意書、派下全員證明書、派下現員名冊、土地所有權狀等影本，附卷可佐。(十一)綜上，顯見被告劉木卿、蕭慶堂、蕭慶珍、蕭慶三與蕭如壎所辯，均與事實不符，不可採信。本件罪證明確，被告劉木卿、蕭慶堂、蕭慶珍、蕭慶三與蕭如壎之犯行，足以認定。二、按上開與祭祀公業有關之派下全員證明書申請書、派下現員名冊、祭祀公業蕭子玉推舉書與沿革、同意書等文書，係執行代書業務所製作之文書，屬業務上作成之文書。故核被告劉木卿、蕭慶堂、蕭慶珍、蕭慶三與蕭如壎等人前揭所為，均係犯刑法第216條、第215條之行使業務上登載不實之文書、刑法第214條之使公務員登載不實罪與刑法第339條第1項之詐欺取財罪。其等所為之明知為不實之事項，而登載於其業務上作成文書之行為（低度行度），為其後之行使行為（高度行為）所吸收，不另論罪。其等就前揭犯行有犯意聯絡與行為分擔，俱為共同正犯。其等利用不知情之田中鎮公所民政課承辦人員取得該祭祀公業派下員資格利益及利用不知情之田中鎮公所承辦人員取得系爭土地所有權，係間接正犯。又按刑法廢除牽連犯之規定後，對於前以牽連犯予以處理之案例，依立法理由之說明，在適用上，得視其具體情形，分別論以想像競合犯或數罪併罰，予以處斷。是原經評價為牽連犯之案件，如其二行為間具有行為局部之同一性，或其行為著手實行階段可認為同一者，得認與一行為觸犯數罪名之要件相侔，而改評價為想像競合犯。至於不可認為一行為者，若依實質競合予以併罰，不無刑罰過度評價，依社會通念，並不符合刑罰公平原則，當亦難以一行為一罪論處。於此，倘所發生之數個犯罪行為，在犯罪之性質上，或依吾人日常生活經驗之見解上，其前後行為，在形態上雖屬分別獨立，但從同一法益之侵害性而言，因具一定程度之關連性，可認為一方吸收他方之犯罪行為，遂置他方於不論，較為適當，應可依吸收犯理論，認屬實質上一罪關係，而僅包括的論以一罪（參照最高法院96年度台上字第4780號判決意旨）上開諸罪均係基於同一目的（即分歸取得土地所有權），故在刑法評價上，以視為數個舉動之接續施行，彼此間有行為局部之同一性，應為包括之一行為予以評價，較為合理，而屬一行為觸犯數罪名之想像競合犯，應依刑法第55條規定情節較重之詐欺取財罪處斷。而公訴人就上開行使業務上登載不實之文書罪部分，指係犯刑法216條、210條之罪，惟已當庭及以補充理由書更正之，故本院不再諭知變更起訴法條。另公訴人指上開數罪之關係或謂罪，或想像競合，但如上所述，應依想像競合犯之例論處，方為適當。又上開犯罪事實中，為原起訴書所漏列部分，因與已明確記載部分，有裁判上一罪之關係，故本院自得併予審理，併此敘明。爰審酌被告劉木卿於辦理祭祀公業相關申報事實之際，為牟得巨利報酬，非但主動其餘被告蕭慶堂等人，且位於主導之地位，為本件不實事實申報及不實之分歸土地，實有不該，應予嚴懲，另被告蕭慶堂、蕭慶珍、蕭慶三、蕭如壎聽信代書之被告劉木卿之言，為求避免其兄弟等人以外之人，前來分歸土地，竟與代書為上開行使業務上登載不實之文書、使公務員登載不實及詐欺取財等犯行，實有欠思慮，念其均為已逾六旬之人，暨渠等之犯罪動機、手段、目的與犯罪後之態度等一切情狀，各量處如主文所示之刑，並就被告蕭慶堂、蕭慶珍、蕭慶三、蕭如壎部分，諭知如易科罰金之折算標準。又查被告蕭如壎前未曾因故意犯罪受有期徒刑以上刑之宣告，有臺灣高等法院被告前案紀錄表1份附卷可憑，因有宗親一同處理事務之牽絆，故一時失慮致罹刑章，其於警、偵查時及本院審理中，對所知之事，均有明確之供陳，可謂態度良好，經此偵審教訓後，應知警惕而無再犯之虞，本院因認所宣告之刑，以暫不執行為適當，爰依刑法第74條第1項第1款規定，併予宣告緩刑2年，以勵自新。三、本判決僅認定被告等人所涉上開犯行部分，至於祭祀公業蕭子玉之派下員究竟有幾人，除被告蕭慶堂、蕭慶珍、蕭慶三、蕭如壎外，尚有何人具派下員身分，應尋民事途逕解決，非係本判決論斷之範疇，併此敘明。據上論斷，應依刑事訴訟法第299條第1項前段、刑法第28條、第216條、第215條、第214條、第339條第1項、第55條、第41條第1項、第74條第1項第1款，刑法施行法第1條之1，判決如主文。本案經檢察官黃顗雯到庭執行職務。中華民國101年4月6日刑事第三庭審判長法官洪志賢法官張鶴齡法官簡佩珺以上正本證明與原本無異。如不服本判決應於收受判決後10日內向本院提出上訴書狀，並應敘述具體理由；其未敘述上訴理由者，應於上訴期間屆滿後20日內向本院補提理由書（均須按他造當事人之人數附繕本）「切勿逕送上級法院」。告訴人或被害人對於判決如有不服具備理由請求檢察官上訴者，其上訴期間之計算係以檢察官收受判決正本之日期為準。中華民國101年4月6日書記官許億先附錄本案論罪科刑法條全文：中華民國刑法第214條（使公務員登載不實罪）明知為不實之事項，而使公務員登載於職務上所掌之公文書，足以生損害於公眾或他人者，處3年以下有期徒刑、拘役或5百元以下罰金。中華民國刑法第215條（業務上文書登載不實罪）從事業務之人，明知為不實之事項，而登載於其業務上作成之文書，足以生損害於公眾或他人者，處3年以下有期徒刑、拘役或5百元以下罰金。中華民國刑法第216條（行使偽造變造或登載不實之文書罪）行使第210條至第215條之文書者，依偽造、變造文書或登載不實事項或使登載不實事項之規定處斷。中華民國刑法第339條（普通詐欺罪）意圖為自己或第三人不法之所有，以詐術使人將本人或第三人之物交付者，處5年以下有期徒刑、拘役或科或併科1千元以下罰金。以前項方法得財產上不法之利益或使第三人得之者，亦同。前二項之未遂犯罰之。', '一、緣張彩系與鄧盈珍、鄧盈汝之父親鄧清亮係夫妻，鄧清亮於民國96年4月6日過世，遺產由張彩糸、鄧盈慧、鄧盈珍、鄧盈汝、鄧淯任5人共同繼承。詎張彩系未經共同繼承人鄧盈珍、鄧盈汝之同意，竟基於行使偽造私文書之犯意，於96年4月9日某時許，持鄧清亮開設之信義鄉農會帳號：00000000000000號帳戶存簿及開戶印章，前往位於南投縣○○鄉○○街00號之信義鄉農會填寫取款憑條、並盜蓋鄧清亮之開戶印章後，再持向不知情之該農會承辦人員行使之，將鄧清亮上開帳戶內之存款新臺幣（下同）153萬元轉入張彩系在該農會開設之帳號：00000000000000號帳戶，足生損害於鄧盈珍、鄧盈汝之繼承權利及信義鄉農會管理金融帳戶之正確性。二、案經鄧盈珍、鄧盈汝訴由臺灣臺中地方檢察署檢察官呈請臺灣高等檢察署臺中檢察分署檢察長核轉臺灣南投地方檢察署檢察官偵查起訴。理由一、證據能力：(一)本案以下引用被告張彩糸以外之人於審判外所為陳述之供述證據，迄本院言詞辯論終結前，檢察官、被告就該等證據之證據能力均未聲明異議（見本院卷第93、272頁），本院審酌該等證據製作時之情況，並無違法不當或證明力明顯過低之瑕疵，以之作為證據應屬適當，依刑事訴訟法第159條之5第2項之規定，認為均得作為證據。(二)而其餘認定本案犯罪事實之非供述證據，復無違反法定程序取得之情形，亦得作為證據。二、認定犯罪事實所憑之證據及理由：訊據被告對於其與告訴人鄧盈珍、鄧盈汝之父親即被繼承人鄧清亮係夫妻，鄧清亮於96年4月6日過世，遺產由張彩糸、鄧盈慧、鄧盈珍、鄧盈汝、鄧淯任5人共同繼承；其於96年4月9日某時許，持鄧清亮開設之信義鄉農會帳號：00000000000000號帳戶存簿及開戶印章，前往位於南投縣○○鄉○○街00號之信義鄉農會填寫取款憑條、並蓋用鄧清亮之開戶印章後，再持向該農會承辦人員行使之，將鄧清亮上開帳戶內之存款153萬元轉入張彩系在該農會開設之帳號：00000000000000號帳戶之事實固不爭執（本院卷第93、94頁），惟矢口否認有何行使偽造私文書之犯行，並辯稱：提領款項係依公公指示，合乎一般社會通念及鄉民習慣，沒有偽造文書意圖；在我與我先生的戶籍裡面，未曾登記告訴人兩位的姓名；且提領款項係為償還鄧清亮之債務，並無詐欺或侵占之不法所有意圖（見本院卷第38、41、271、281至285頁）云云。經查：(一)關於上開被告不爭執之事實，業據被告於本院準備程序時自承在卷（見本院卷第39、93至95頁），核與告訴代理人謝莉蘭（見臺中他卷第14頁）、證人即告訴人鄧盈珍、鄧盈汝（見南投他卷第11頁、本院卷第238至241、265至268頁）所述情節大致相符，並有戶籍謄本（除戶部分）、信義鄉農會取款憑條、信義鄉農會105年8月22日函、個人戶籍資料（臺中他卷第4至6頁）、信義鄉農會客戶往來交易明細表（見本院卷第59至65頁）等件附卷可稽，是此部份之事實，即堪認定。而被告未經共同繼承人鄧盈珍、鄧盈汝之同意，擅自轉匯上開款項之事實，復據被告於偵訊時自承在案（見南投他卷第11頁），且經鄧盈珍、鄧盈汝證述明確（見本院卷第241、267頁），則此部分之事實，亦可認定。(二)被告雖然辯稱提領款項係依公公指示，合乎一般社會通念及鄉民習慣，沒有偽造文書意圖云云。然依被告先後自陳「沒有辦法聯絡到其他繼承人」、「因為當初辦繼承的方面，我都有拜託姐姐跟他們聯絡」、「是他們不願意回來配合辦理」、「有叫他們拿資料來辦理繼承，但他們都不配合」（見南投他卷第11頁、本院卷第39、241、269頁），鄧盈珍證稱「他還一直恐嚇我們拋棄繼承」（見本院卷第239頁），鄧盈汝證稱「都是代書跟我們聯絡，要我們放棄繼承」（見本院卷第266頁），證人即鄧清亮之胞兄鄧清浪證稱：我有勸過被告就遺產部分要找告訴人方面來討論，我認為被告也有朝這方面來努力（見本院卷第271頁）等語，可見被告顯然知悉被繼承人鄧清亮死亡以後，已不得再以鄧清亮名義製作取款憑條提領被繼承人之存款，如要提領被繼承人之存款，應得全體繼承人之同意，否則何須大費周章聯絡告訴人等配合辦理繼承或拋棄繼承事宜；被告辯稱提領款項係依公公指示，合乎一般社會通念及鄉民習慣，沒有偽造文書意圖云云，實屬卸責之詞，不足採信，被告具有行使偽造私文書之故意甚明。(三)被告嗣後雖再改口辯稱在我與我先生的戶籍裡面，未曾登記告訴人兩位的姓名云云。但以被告於被繼承人鄧清亮死亡以後，曾經聯絡告訴人等配合辦理繼承或拋棄繼承事宜，已如上述，佐諸鄧盈珍證稱：被告跟我父親結婚時，知道我父親有其他子女（見本院卷第239頁），鄧清浪證稱：被告知道鄧清亮有與前配偶育有子女（見本院卷第270頁）等語，足見被告於轉匯上開存款時，確實知悉告訴人2人為鄧清亮之子女，而為鄧清亮之共同繼承人；被告辯稱在其與其先生的戶籍裡面，未曾登記告訴人兩位的姓名云云，不過飾卸之詞，委不可採。(四)被告雖又辯稱轉匯上開款項係為償還鄧清亮之債務，並未生損害於公眾或他人云云。然按，刑法第210條所稱足生損害於公眾或他人，以有損害之虞為已足，不以實際發生損害為要件（最高法院43年台上字第387號判例要旨參照）。所稱之足生損害，係指他人有可受法律保護之利益，因此遭受損害或有受損害之虞，不以實際發生損害者為必要；而所謂損害，亦不以經濟上之損害為限，即民事、刑事或行政上之損害亦皆屬之（最高法院107年度台上字第3038號判決要旨參照）。如未經被繼承人之全體繼承人同意，即偽以被繼承人名義製作取款憑條，提領被繼承人帳戶內之存款，其行為自有足以生損害於其餘繼承人之虞，至於其所提領之款項是否非被繼承人之遺產及提領之用途為何，均與其行為是否與刑法第210條、第216條行使偽造私文書罪之犯罪構成要件該當，並不生影響（最高法院106年度台上字第1165號判決意旨參照）。則以被告未經鄧清亮之繼承人即告訴人2人同意，擅自轉匯上開款項，造成鄧清亮名下財產減少，告訴人等之繼承權利即有可能受到損害，並不以彙算之後確有損害為必要；且被告於鄧清亮過世後，擅以鄧清亮之名義轉匯上開款項，復可能產生信義鄉農會對於消費寄託債務是否清償之爭執，亦足生損害於信義鄉農會管理金融帳戶之正確性。被告辯稱未生損害於公眾或他人云云，純屬推諉之詞，並不可採。(五)至於被告雖另辯稱提領款項係為償還鄧清亮之債務，並無詐欺或侵占之不法所有意圖云云。惟按，所提領之款項是否使用於支付被繼承人醫藥費、喪葬費之用，要屬行為人有無不法所有意圖之問題，與行使偽造私文書罪該當與否不生影響（最高法院107年度台上字第1753號判決意旨參照）。茲因本案起訴意旨及上開論罪所犯罪名均未認定被告涉犯詐欺或侵占犯行、而均論以行使偽造私文書罪嫌（見本院卷第10、11頁），被告轉匯上開款項是否係為償還被繼承人鄧清亮之債務，事涉是否構成詐欺或侵占犯罪，自與本案被告是否成立犯罪（行使偽造私文書）無關。被告辯稱並無詐欺或侵占之不法所有意圖云云，容有誤會起訴及論罪所犯罪名，併予敘明。(六)綜上所述，本案事證明確，被告之犯行可以認定，應予依法論罪科刑。三、論罪科刑之理由：(一)按人之權利能力，終於死亡，其權利義務因死亡而開始繼承，由全體繼承人承受，故關於遺產之法律行為，自當由全體繼承人為之，被繼承人縱令於生前曾授權他人為之，亦因其死亡致權利主體不存在使授權關係消滅，即不得再以被繼承人生前授權或全體繼承人之同意，而以被繼承人之名義製作取款憑條，提領被繼承人帳戶內之存款，否則足致社會一般人誤認死者猶然生存在世，有害公共信用之虞，尤其倘另有其他繼承人，對於遺產之繼承迭有爭執，倘未經全體繼承人同意，而擅以被繼承人名義為法律行為，其行為更有足生損害於繼承人之虞，均屬無權製作之偽造行為；至於行為人提領款項之目的或動機何在（例如是否悉數用作支付喪葬費，或其他用途），對於本罪之成立，不生影響（最高法院107年度台上字第1162號判決意旨參照）。次按，盜用印章與盜用印文為不同之犯罪態樣，盜取他人之印章持以蓋用，當然產生該印章之印文，祇成立盜用印章罪，不應再論以盜用印文罪，亦非盜用印章行為為盜用印文行為所吸收（最高法院86年台上字第3295號判例要旨參照）。刑法上之盜用印文罪，係指單純盜用他人之印文而言；若盜用印文，而在書類上已為一定之意思表示，且具有存續性，其內容屬法律上有關係之事項者，則係犯偽造文書罪（最高法院91年度台上字第360號判決要旨參照）。銀行為便利存款人取款而印好任人索取填寫之取款憑條，非可流通市面得以自由轉讓，衹屬私文書之一種，不能認為有價證券（最高法院49年台上字第1409號判例要旨參照）。查被告持偽造鄧清亮製作之取款憑條，向不知情之信義鄉農會承辦人員行使之，核其所為，係犯刑法第216條、第210條之行使偽造私文書罪。而被告在取款憑條之私文書上，盜蓋鄧清亮之印章，係偽造私文書之階段行為；偽造私文書後復持以行使，偽造私文書之低度行為，亦為行使偽造私文書之高度行為所吸收，均不另論罪。(二)爰審酌被告並無曾因犯罪經法院判處罪刑，有臺灣高等法院被告前案紀錄表1份在案足佐，而其明知配偶鄧清亮已經死亡，鄧清亮之信義鄉農會帳戶內之存款係屬遺產、且為全體繼承人共有，竟仍以鄧清亮之名義轉匯存款，非僅損害告訴人等之繼承權利，並且破壞信義鄉農會管理金融帳戶之正確性，行為實有不該，兼衡以被告轉匯之金額係為清償鄧清亮之生前債務及醫藥費（見南投偵卷第32至36頁），及其犯罪之動機、目的、手段、犯罪情節、犯後態度等一切情形，量處如主文所示之刑，並諭知易科罰金之折算標準。(三)另按，盜用他人真印章所蓋之印文，並非偽造印章之印文，不在刑法第219條所定必須沒收之列（最高法院48年台上字第113號判例要旨參照）。偽造之文書，既已交付於被害人收受，則該物非屬被告所有，除該偽造文書上偽造之印文、署押，應依刑法第219條予以沒收外，依同法第38條第3項之規定，即不得再就該文書諭知沒收（最高法院89年度台上字第3757號判決要旨參照）。查鄧清亮之上開信義鄉農會帳戶開戶印章係由被告保管，被告盜蓋印章之印文「鄧清亮」即非偽造，無從依刑法第219條規定諭知沒收。至於上開取款憑條，雖屬被告行使偽造私文書犯罪所用之物，但經被告持以行使，業經信義鄉農會承辦人員收執，已非被告所有，亦非違禁物，爰不予以宣告沒收。此外，被告以行使偽造私文書方式轉匯鄧清亮之信義鄉農會帳戶內之存款153萬元，為其犯罪所得（產自行使偽造私文書犯罪之所得，即實現犯罪所獲得之直接財產利益），固應依法宣告沒收，於全部或一部不能沒收時，追徵其價額，惟因被告主張扣抵「非屬繼承財產之鄧淯任薪資7萬5,586元；清償鄧清亮所遺合會債務35萬2,000元、所得稅債務1萬7,104元、信用卡消費債務2萬4,865元、對鄧清浪之70萬元借款債務、農會借款債務42萬4,931元，以及辦理繼承登記之代書費用5萬元」，合計164萬4,486元，業經臺灣臺中地方法院105年度家訴字第21號民事判決認屬有據，並且詳為說明理由（見南投偵卷第35頁），堪認被告並無保有犯罪所得，倘再就此宣告沒收或追徵，實有過苛之虞、且欠缺刑法上之重要性，自無必要宣告沒收或追徵。據上論斷，應依刑事訴訟法第299條第1項前段，刑法第216條、第210條、第41條第1項前段，判決如主文。本案經檢察官洪紹文提起公訴，檢察官陳俊宏到庭執行職務。中華民國108年5月30日刑事第二庭審判長法官黃益茂法官張雅涵法官張國隆以上正本與原本無異。如不服本判決應於收受送達後10日內向本院提出上訴書狀，並應敘述具體理由；其未敘述上訴理由者，應於上訴期間屆滿後20日內向本院補提理由書（均須按他造當事人之人數附繕本）「切勿逕送上級法院」。告訴人或被害人如對於本判決不服者，應具備理由請求檢察官上訴，其上訴期間之計算係以檢察官收受判決正本之日期為準。書記官張馨方中華民國108年5月30日附錄本案論罪科刑法條：中華民國刑法第210條偽造、變造私文書，足以生損害於公眾或他人者，處5年以下有有期徒刑。中華民國刑法第216條行使第210條至第215條之文書者，依偽造、變造文書或登載不實事項或使登載不實事項之規定處斷。', '一、劉文海前於民國95年間竊取他人電纜線經臺灣屏東地方法院（下稱屏東地院）以95年度易字第277號判處有期徒刑8月，96年出獄後不以正途工作賺取所需，又於97、98年間竊盜大眾運輸工具柴油及車牌共計11次（其中竊油9次），由屏東地院以98年度易字第506、750號判處有期徒刑2年，於該案審理期間之98年9月間，再至新竹竊取柴油，經臺灣新竹地方法院以98年度審易字第704號判處有期徒刑6月，又再犯3次竊取他人柴油犯行，經屏東地院以99年度易字第424號判處應執行有期徒刑1年4月，於101年6月13日假釋出監（於本件尚不構成累犯）。二、劉文海明知伊所有之白色自小貨車（引擎號碼：4DR7-FB225585號，車主登記為洪指成）之車牌號碼為9M-7735號，竟分別為下列行為：(一)與綽號「阿三」真實姓名年籍不詳之成年男子共同基於偽造特種文書之犯意聯絡，於不詳時、地，利用「阿三」不知情之友人偽造壓克力材質車牌號碼00-0000號車牌1面後，劉文海於101年9月17日在屏東縣東港鎮某處，將上開偽造車牌懸掛於其所使用之上開自小貨車，並將該車輛行駛於道路上而行使，足生損害於公路監理機關對汽車牌照管理之正確性及使該車牌號碼00-0000號車牌之真正車主受損。嗣於101年9月18日凌晨0時20分許，劉文海駕駛上開自小貨車搭載洪指成，行經彰化縣芳苑鄉新寶村省道臺17線公路與中正路路口之北上車道時，遭巡邏員警察覺上開自小貨車懸掛之車牌有異而攔查，始悉上情，並扣得附表四編號1所示之物。(二)復基於行使偽造特種文書之犯意，於101年10月24日晚間10時許，在嘉義縣布袋鎮某處，將綽號「阿良」真實姓名年籍不詳之成年男子所交付，以壓克力材質所偽造之車牌號碼0000-00號車牌2面，懸掛於其所使用之上開自小貨車，並將該車輛行駛於道路上而行使，足生損害於公路監理機關對汽車牌照管理之正確性及使該車牌號碼0000-00號車牌之真正車主受損。三、劉文海有財產犯罪之犯罪習慣，甫假釋出監未及半年，竟分別意圖為自己不法之所有，基於竊盜之犯意，於下列時、地為竊盜犯行：(一)於101年10月25日凌晨0時25分許，駕駛上開自小貨車，至嘉義縣朴子市朴子體育館之BRT公車停車場，先以徒手打開如附表二所示3部營業用大客車之四方形外蓋，再將油箱蓋轉開後，以上開自小貨車上之蓄電池接上馬達，再利用其所有之抽油管，接續竊取上開3部營業用大客車油箱內之柴油至其駕駛之上開自小貨車油槽中，合計竊取柴油369.385公升（532-FM號：184公升、082-FJ號：37.43公升、029-FJ號：147.955公升）得手。(二)又於101年10月25日凌晨2時10分許，駕駛上開自小貨車，至嘉義縣朴子市市○路00號民宅前，以徒步之方式進入距其停車處約30公尺之嘉義客運停車場，見如附表三所示10部營業用大客車無人看顧，先以不詳工具將971-FT號、838-FQ號營業用大客車之四方形油箱外蓋撬開，致令不堪使用，再徒手打開上開10部車輛之油箱蓋，欲竊取上開車輛油箱內之柴油時，經民眾發覺報警到場，劉文海見事跡敗露旋逃離現場而不遂，嗣其欲返回上開自小貨車時為當場埋伏之員警逮捕，並扣得附表四編號8所示之物。四、案經嘉義縣警察局朴子分局報告臺灣嘉義地方法院檢察署檢察官偵查起訴。理由一、證據能力：按傳聞法則之重要理論依據，在於傳聞證據未經當事人之反對詰問予以核實，乃予排斥，惟若當事人已放棄對原供述人之反對詰問權，於法院審判時表明同意該等傳聞證據可作為證據，基於證據資料愈豐富，愈有助於真實發現之理念，並貫徹刑事訴訟法修法加重當事人進行主義之精神，確認當事人對於證據能力有處分權之制度，傳聞證據經當事人同意作為證據，法院認為適當者，亦得為證據；另當事人於調查證據時，對於傳聞證據表示「沒有意見」、「對於證據調查無意見」，而未於言詞辯論終結前聲明異議，應視為已有將該等傳聞證據採為證據之同意，刑事訴訟法第159條之5定有明文。本件檢察官、被告劉文海於審理時就本判決引用之各項證據資料如屬審判外之言詞或書面陳述，知有刑事訴訟法第159條第1項不得為證據之情形，均表示無意見，而未於言詞辯論終結前聲明異議，審酌上開證據資料作成時之情況，並無任何違法取證之不適當情形，且對於被告涉案之事實具有相當之關聯性，依刑事訴訟法第159條之5規定，認具有證據能力。二、得心證之理由：(一)上揭犯罪事實欄二之犯行：業據被告於偵查及本院審理時坦承不諱（102年度偵字第433號卷第16至17頁、101年度偵字第6995號卷第20頁、101年度易字第894號卷第24頁反面、第53頁反面、第122頁反面、102年度易字第107號卷第27頁、第40頁反面），並有彰化縣警察局芳苑分局扣押筆錄、扣押物品收據、扣押物品目錄表、照片4張、車輛詳細資料報表、新竹市警察局車輛協尋電腦輸入單、彰化縣警察局舉發違反道路交通管理事件通知單、汽車車籍查詢、汽車異動歷史查詢、汽車領牌歷史查詢、交通部公路總局高雄區監理所101年11月7日高監車字第0000000000號函、新竹市警察局第三分局朝山派出所受理各類案件紀錄表（臺灣彰化地方法院檢察署101年度偵字第8484號卷第29至31頁反面、第40至44頁、第111至114頁、第117頁、第120頁）、嘉義縣警察局朴子分局搜索扣押筆錄、扣押物品收據、扣押物品目錄表、搜索經過及結果陳報書、照片2張（嘉義縣警察局朴子分局嘉朴警偵字第0000000000號卷第18至23頁、第35頁），及扣案如附表四編號1、2所示之物附卷可稽。(二)上揭犯罪事實欄三之犯行：業據被告於偵查及本院審理時坦承不諱（101年度偵字第6995號卷第99頁及反面、101年度易字第894號卷第24頁反面、第53頁反面、第122頁反面），核與證人蔡政哲、李清塗於警詢、偵查中證述（嘉義縣警察局朴子分局嘉朴警偵字第0000000000號卷第9至14頁、101年度偵字第6995號卷第58至60頁、第112至116頁）；證人林振榮於偵查中證述（101年度偵字第6995號卷第64至65頁）大致相符，並有贓物認領保管單、被害人報告單、嘉義縣警察局朴子分局搜索扣押筆錄、扣押物品收據、扣押物品目錄表、搜索經過及結果陳報書、照片68張、臺灣中油收據影本1紙、威盛嘉義站收據影本1紙（上開警卷第15至56頁、第82至83頁）、嘉義縣警察局朴子分局101年11月23日職務報告、臺灣中油收據影本2紙、嘉義縣公共汽車管理處行車人員日報表、臺灣中油油品分析報告、漁船用燃料油規範、車用柴油規範、檢驗樣品照片2張、失竊現場圖、失竊現場照片4張、油箱外蓋毀損照片6張、維修估價單影本2紙（上開偵卷第110至111頁、第117至134頁），及扣案如附表四編號3至11所示之物在卷可佐。(三)被告雖辯稱：犯罪事實欄三、(二)，伊跑去躲起來後，自己走回自小貨車處，員警當時尚不知伊竊盜犯行，是伊跟警察說的云云。惟查：證人即到場查緝之員警方健原於本院審理時證述：當時是接獲民眾報案，有陌生人進入嘉義客運停車場，伊等獲報後就到現場，發現本案自小貨車懸掛壓克力材質之4190-XU號車牌，伊等進入嘉義客運停車場搜尋嫌疑人，看到一個人影，然後該人就跑給伊等追；在逮捕被告前，同事蕭丞璋進去嘉義客運裡面發現油箱蓋被打開，那時候確定被告要去偷油，逮捕被告前就已經知道油箱蓋被撬開，即確定被告要竊盜；追捕時有詢問民眾被告之特徵，還有撿到被告的鞋子，之後被告回到自小貨車時只穿襪子沒有穿鞋子，很確定就是被告，特徵也很符合等語（101年度易字第894號卷第128頁反面至第132頁反面），則證人方健原到場查緝時即發現被告所駕駛之上開自小貨車懸掛以壓克力材質偽造之車牌，復經其進入嘉義客運停車場查看發現停車場內之大客車油箱蓋已遭人打開，復於追捕過程中確認被告之特徵，可知證人於逮捕被告前已有確切之根據得為合理之可疑，知悉被告本件犯罪事實，衡以證人方健原係經具結後方為上開證言，且其為依法執行職務之公務員，與被告素不相識，應尚無何宿隙恩怨，應無甘冒受偽證罪制裁之風險而為虛偽證言構陷之可能，證人方健原之證詞應堪採信，是被告並不符合自首之要件，其辯稱係自首云云，尚非可採。(四)綜上事證，足認被告自白與事實相符，可以採信，本案事證明確，被告犯行堪以認定，應依法論科。三、新舊法比較：按行為後法律有變更者，適用行為時之法律。但行為後之法律有利於行為人者，適用最有利於行為人之法律。刑法第2條第1項定有明文。查被告為上開竊盜犯行後，刑法第50條於102年1月23日修正公布，並自同年月25日起施行，而修正前刑法第50條規定：「裁判確定前犯數罪者，併合處罰之。」修正後刑法第50條第1項則規定：「裁判確定前犯數罪者，併合處罰之。但有下列情形之一者，不在此限：一、得易科罰金之罪與不得易科罰金之罪。二、得易科罰金之罪與不得易服社會勞動之罪。三、得易服社會勞動之罪與不得易科罰金之罪。四、得易服社會勞動之罪與不得易服社會勞動之罪。前項但書情形，受刑人請求檢察官聲請定應執行刑者，依第51條規定定之。」比較修正前後之規定，修正後該條項增訂第1項但書及第2項規定，使行為人取得得易科罰金或易服社會勞動之利益，比較修正前後之規定，自以修正後之規定對被告較有利，依刑法第2條第1項規定，本案被告所為上開竊盜犯行，應適用行為後之法律即修正後刑法第50條，合先敘明。四、論罪科刑：(一)按汽車牌照為行車之許可憑證，屬於刑法第212條所列特許證之一種（最高法院63年臺上字第1550號判例意旨參照）；又刑法上之行使偽造文書罪，重在保護文書公共信用之利益，凡行為人提出偽造之私文書，充作真正之文書，並對其內容有所主張，足以生損害於公眾或他人，即已成立，至其行使之目的能否達到，則在所不問。犯罪事實欄二、(一)所示犯行，被告利用「阿三」不知情之友人，以壓克力材質偽造車牌號碼00-0000號之車牌1面後，將偽造之車牌懸掛於其所使用自用小貨車後駕駛外出，即對該偽造之車牌有所主張，核被告劉文海此部分所為，係犯刑法第216條、第212條之行使偽造特種文書罪。被告與「阿三」有犯意聯絡與行為分擔，為共同正犯。被告與「阿三」利用不知情之友人偽造車牌，為間接正犯。被告偽造車牌之特種文書後復加以行使，其偽造之低度行為已為行使之高度行為吸收，不另論罪。犯罪事實欄二、(二)所示犯行，被告將「阿良」所交付，以壓克力材質偽造車牌號碼0000-00號之車牌2面，懸掛於其所使用自用小貨車後駕駛外出，即對該偽造之車牌有所主張，核被告劉文海此部分所為，係犯刑法第216條行使第212條之偽造特種文書罪。(二)被告就犯罪事實欄三、(一)犯行，係犯刑法第320條第1項之竊盜罪；就犯罪事實欄三、(二)犯行，係犯刑法第320條第3項、第1項之竊盜未遂罪、刑法第354條之毀損他人物品罪。公訴意旨以自被告所駕駛之自小貨車上扣得附表四編號11所示之工具，認被告就犯罪事實欄三、(一)、(二)之犯行，應分別以刑法第321條第1項第3款之攜帶兇器竊盜罪、同法第321條第1項第3款、第2項之攜帶兇器竊盜未遂罪處斷。然被告否認有攜帶兇器竊盜之犯行，辯稱就犯罪事實欄三、(一)部分，係徒手打開油箱蓋，油箱蓋沒有上鎖，一按就打開，伊牽油管去公車的加油孔將油抽至自小貨車之油槽內；就犯罪事實欄三、(二)部分，當時伊車子停在市西路，走進嘉義客運停車場，身上沒有攜帶工具，是以口袋裡的機車鑰匙扳開油箱蓋，再用手指慢慢將油箱蓋扳開，伊並未使用工具破壞油箱蓋，伊不知道自小貨車上有那些扣案之工具等語。查本件雖於被告所駕駛之自小貨車上扣得附表四編號11所示之工具，惟就犯罪事實欄三、(一)部分，證人蔡政哲、李清塗於警詢中陳稱附表二所示之大客車之油箱蓋並未遭破壞等語（上開警卷第10頁、第13頁），且證人李清塗於本院審理時亦不否認本案大客車之油箱蓋在一般狀況一按即可打開乙情（101年度易字第894號卷第122頁反面至第123頁），佐以被告自承僅以抽油管竊取附表二所示之大客車之柴油乙節，是被告供稱竊取大客車之柴油時，並未攜帶附表四編號11所示之工具下車乙節，尚非不可採信；就犯罪事實欄三、(二)部分，員警到場時車牌號碼000-00號、838-FQ號大客車之油箱蓋已遭破壞，並未目擊被告毀損油箱蓋之過程等情，業據證人方健原證述如前，又證人即員警黃威智於本院審理時證稱：被告所駕駛之自小貨車停放處距附表三所示之大客車約3、40公尺等語（101年度易字第894號卷第144頁反面），參以本案係被告折返自小貨車處，遭埋伏現場之員警逮獲，即難認被告持用置於自小貨車內如附表四編號11所示之物行竊，而本案亦未當場查扣被告破壞前揭油箱蓋使用之工具，自難逕論被告持用客觀上足對人之生命、身體、安全構成威脅並具有危險性之兇器行竊，依罪疑惟輕之法理，自不得僅以被告經員警查獲後，於其駕駛之自小貨車上扣得附表四編號11所示之工具為由，遽認其係攜帶兇器，是被告此部分之辯解，尚非無據，公訴意旨認被告涉犯攜帶兇器竊盜罪，尚有未洽，惟因起訴基本事實相同，且經本院於審理時當庭諭知被告另涉犯刑法第320條第1項之竊盜罪，爰依法變更起訴法條。就犯罪事實欄三、(二)部分，被告已著手於上開竊盜犯行之實行，而未生移置財物於自己實力支配下之結果，為未遂犯，爰依刑法第25條第2項規定減輕其刑。被告就犯罪事實欄三、(一)先後竊取多部車輛柴油得手、就犯罪事實欄三、(二)毀損油箱蓋及欲竊取多部車輛柴油未遂，分別係基於同一竊盜及毀損犯意下之接續行為，應各只論以一罪。被告以不詳工具將971-FT號、838-FQ號營業用大客車之四方形油箱外蓋撬開，致令不堪使用，再徒手打開附表三所示之10部車輛之油箱蓋，竊取上開車輛油箱內之柴油未遂，係一行為觸犯構成要件不同之罪名，為想像競合犯，應分別從一重之竊盜未遂罪論處。(三)被告所犯上開4罪，犯意各別，行為互殊，應予分論併罰。爰以行為人之責任為基礎，審酌被告：1.正值青壯，竟不思勞動獲取報酬，任意攫取他人財物之犯罪動機、目的；2.利用偽造車牌掩飾犯行，妨害監理機關對於汽車車牌管理之正確性，亦使車號真正所有人受損，又專挑供大眾運輸用之公共汽車之柴油予以竊取，致使公眾交通工具隱藏危機，造成大眾不便之犯罪手段；3.前有多次行使偽造特種文書、竊取大眾運輸工具之柴油經法院判處罪刑之前科紀錄，有臺灣高等法院被告前案紀錄表1份在卷可考，仍不知悔改而為本件犯行，顯見其品行非佳；4.國中肄業之智識程度；5.被告犯後於警詢及偵查之初否認本件竊盜犯行，嗣於偵查中始承認有竊取大客車之柴油，惟仍飾詞圖卸犯行，且意圖諉過予嘉義客運公司之管理者及員警，影響偵查方向，浪費司法資源之犯後態度等一切情狀，分別量處如附表一所示之刑（就附表一編號1、2所示之刑分別諭知易科罰金之折算標準）。並就附表一編號1、2所示之刑，定如主文所示之應執行刑及易科罰金之折算標準，就附表一編號3、4所示之刑，定如主文所示之應執行刑，以資懲戒。四、沒收：(一)扣案如附表四編號1以壓克力材質偽造之車牌號碼00-0000號車牌1面、編號8之抽油管6條、油槽1個，為被告所有，分別供本件犯罪事實欄二、(一)及三、所用之物，業據其供明在卷（101年度易字第894號卷第63頁、102年度易字第107號卷第27頁），均應依刑法第38條第1項第2款之規定沒收。(二)檢察官就附表四編號3所列之車牌號碼00-0000號自小貨車1輛，認係被告所有，供竊取柴油所用之犯罪工具而聲請依刑法第38條第1項第2款、第3項規定宣告沒收。惟依刑法第38條第1項第2款及第3項規定，供犯罪所用或供犯罪預備之物，而屬於犯人者，得沒收。其立法趣旨係在於防杜再犯及徵收不法利得，以防衛社會安全、維持正義。至其物之沒收與否，審判法院固得自由裁量，但財產權乃憲法所保障之人民基本權利，自有比例原則之適用。是對於非專供犯罪所用之物，是否允宜沒收，即應本其立法目的，依一般社會通念，受比例原則之支配，而審慎決定，非許裁判者濫權恣意擅斷，否則當有法則適用不當之違法（最高法院95年度臺上字第6135號裁判要旨參照），而本件扣案之自小貨車雖係被告所有，衡諸一般社會通念，自小貨車並非專供竊盜犯罪所用之物，如予以沒收不符合比例原則，至附表四編號2、4至7、9至11之扣案物品，或非被告所有，或為被告所有，惟無證據顯示係供犯罪所用之物，均不予宣告沒收。五、諭知強制工作部分：(一)末按「18歲以上之竊盜犯、贓物犯，有犯罪之習慣者，得於刑之執行前，令入勞動場所強制工作」，竊盜犯贓物犯保安處分條例第3條第1項定有明文。而保安處分係針對受處分人將來之危險性所為之處置，以達教化、治療之目的，為刑罰之補充制度。我國現行刑法採刑罰與保安處分雙軌制，係在維持行為責任之刑罰原則下，為協助行為人再社會化之功能，以及改善行為人潛在之危險性格，期能達成根治犯罪原因、預防犯罪之特別目的。是保安處分中之強制工作，旨在對嚴重職業性犯罪及欠缺正確工作觀念或無正常工作因而犯罪者，強制其從事勞動，學習一技之長及正確之謀生觀念，使其日後重返社會，能適應社會生活。竊盜犯贓物犯保安處分條例第3條第1項規定，即係本於保安處分應受比例原則之規範，使保安處分之宣告，與行為人所為行為之嚴重性、行為人所表現之危險性及對於行為人未來行為之期待性相當之意旨而制定，而由法院視行為人之危險性格，決定應否令入勞動處所強制工作，以達預防之目的。(二)查被告有如犯罪事實欄一所示多次竊盜前科，有上開前案紀錄表在卷可考，復於假釋期間再為本件竊取油品犯行，足徵被告於前開十數件竊盜案件判處罪刑甫假釋出監未及半年，仍不思改過，再次竊取他人財物，其犯罪頻率甚高，而有犯罪之習慣，對社會秩序、民眾權益有重大危害，而被告正值壯年，卻未盡其力於正途，反屢次為竊盜犯罪，足認有矯治其惡習、培育其正確觀念、性格，俾其能於將來刑滿重返社會時，不再重蹈覆轍，並獲新生之必要，是檢察官請求本案被告於刑之執行前令入勞動場所強制工作為有理由，且被告所定之執行刑逾1年以上，爰依竊盜犯贓物犯保安處分條例第3條第1項之規定，於其所犯竊盜罪定應執行刑項下，諭知於刑之執行前，令被告入勞動場所強制工作3年（臺灣高等法院暨所屬法院100年法律座談會刑事類提案第9號參照）。據上論斷，應依刑事訴訟法第299條第1項前段、第300條，刑法第2條第1項但書、第28條、第216條、第212條、第320條第1項、第3項、第354條、第55條前段、第25條第2項、第41條第1項前段、第38條第1項第2款、第51條第5款，刑法施行法第1條之1第1項、第2項前段，竊盜犯贓物犯保安處分條例第3條第1項、第4條、第5條第1項前段，判決如主文。本案經檢察官陳志川到庭執行職務中華民國102年3月8日刑事第六庭審判長法官王慧娟法官吳育霖法官葉南君以上正本證明與原本無異。如不服本判決應於收受判決後10日內向本院提出上訴書狀，並應敘述具體理由；其未敘述上訴理由者，應於上訴期間屆滿後20日內向本院補提理由書（均須按他造當事人之人數附繕本）「切勿逕送上級法院」。告訴人或被害人如對於本判決不服者，應具備理由請求檢察官上訴，其上訴期間之計算係以檢察官收受判決正本之日期為準。中華民國102年3月8日書記官高文靜附錄所犯法條：中華民國刑法第212條（偽造變造特種文書罪）偽造、變造護照、旅券、免許證、特許證及關於品行、能力服務或其他相類之證書、介紹書，足以生損害於公眾或他人者，處1年以下有期徒刑、拘役或3百元以下罰金。中華民國刑法第216條（行使偽造變造或登載不實之文書罪）行使第210條至第215條之文書者，依偽造、變造文書或登載不實事項或使登載不實事項之規定處斷。中華民國刑法第320條（普通竊盜罪、竊佔罪）意圖為自己或第三人不法之所有，而竊取他人之動產者，為竊盜罪，處5年以下有期徒刑、拘役或5百元以下罰金。意圖為自己或第三人不法之利益，而竊佔他人之不動產者，依前項之規定處斷。前二項之未遂犯罰之。中華民國刑法第354條（毀損器物罪）毀棄、損壞前二條以外之他人之物或致令不堪用，足以生損害於公眾或他人者，處2年以下有期徒刑、拘役或5百元以下罰金。附表一：', '一、鄭孟育為垣田景觀開發設計有限公司之負責人（下稱垣田公司）。因垣田公司於102年12月13日向高雄市政府農業局（下稱農業局）標得「103年度高雄物產館蓮潭旗艦店環境清潔維護（含災後搶修工作）」標案（下稱物產館標案）承攬103年度高雄物產館蓮潭旗艦店（下稱物產館）之環境清潔維護工作。詎鄭孟育為使臨時清潔人員劉曾玉暇免於繳納勞保及健保費用，明知未取得當時同居人孫慈鈺之授權或同意，竟基於行使偽造私文書之犯意，於102年12月13日至103年1月間之某日，囑不知情之刻印人員偽刻孫慈鈺連續章2枚後，1枚交由不知情之劉曾玉暇自103年1月4日起至同年12月31日止之期間內，於附表二至附表十三「蓋印日期欄」所示日期完成物產館標案清潔工作後蓋印於附表二至附表十三所示之「每月清潔維護人員簽到表」之文件上，另1枚則由鄭孟育按月自行蓋印於附表二之1至附表十三之1所示之「每日環境清潔檢查表」文件之檢查人員簽名欄上，用以表示係由孫慈鈺於上開時間辦理環境清潔及檢查工作之私文書，並由鄭孟育持上揭不實文書於每月月底向不知情之農業局承辦人員申辦驗收及請領物產館標案之價金而行使之（如附表一所示之事實），足生損害於孫慈鈺本人信用及農業局核實承攬工作完成之正確性。嗣孫慈鈺搬家時意外翻見蓋有上揭「孫慈鈺」印文之文件而向臺灣高雄地方法院檢察署提起告訴，始悉上情。二、案經孫慈鈺訴由臺灣高雄地方法院檢察署檢察官偵查起訴。理由壹、證據能力部分按被告以外之人於審判外之陳述，雖不符刑事訴訟法第159條之1至同條之4之規定，而經當事人於審判程序同意作為證據，法院審酌該言詞陳述或書面陳述作成時之情況，認為適當者，亦得為證據；當事人、代理人或辯護人於法院調查證據時，知有同法第159條第1項不得為證據之情形，而未於言詞辯論終結前聲明異議者，視為有前項之同意，刑事訴訟法第159條之5定有明文。經查，本件就後述援用之具傳聞性質之證據，被告、辯護人及檢察官於本院審判中同意作為證據【見本院105年度訴字第844號卷（下稱院卷）第33頁】，且於調查證據時，已知其內容及性質，皆未於言詞辯論終結前聲明異議，本院審酌該等陳述作成時之情況正常，所取得過程並無瑕疵，且與本案相關之待證事實具有關連性，亦無證明力明顯過低等情形，認適當作為證據，依前開刑事訴訟法第159條之5之規定，認上開陳述具有證據能力。又下列其餘認定本案有罪部分之非供述證據，經查並無違反法定程序取得之情，依刑事訴訟法第158條之4規定反面解釋，亦應具證據能力。貳、實體事項一、認定犯罪事實所憑之證據及理由訊據被告固坦承其為垣田公司負責人，而垣田公司於102年12月13日向農業局標得物產館標案，承攬103年度物產館之環境清潔維護工作，其為使臨時清潔人員劉曾玉暇免於繳納勞保及健保費用，乃於102年12月13日至103年1月間某日，在高雄市楠梓區右昌某印章店委託刻印人員刻印其當時同居人即告訴人孫慈鈺連續章2枚，1枚交由劉曾玉暇於附表二至附表十三「蓋印日期欄」所示日期完成物產館標案清潔工作後蓋印於附表二至附表十三所示之「每月清潔維護人員簽到表」上，另1枚則由其按月自行蓋印於附表二之1至附表十三之1所示之「每日環境清潔檢查表」上，再由其每月持上揭文件向農業局承辦人員申辦驗收及請領物產館標案價金之事實，惟矢口否認行使偽造私文書之犯行，辯稱：伊當時與告訴人同居，且告訴人也清楚標案流程，故伊係經告訴人同意刻印孫慈鈺之連續章，再交由劉曾玉暇及自行使用云云；其選任辯護人則為其辯護稱：①告訴人於97年2月起就任職垣田公司，係垣田公司之老闆娘及員工，負責垣田公司備標及投標作業，並將其個人印章、存摺、學經歷證件等具高度專有性資料交由被告保管、使用，可見已概括同意被告或垣田公司以其名義作業務上之使用；②告訴人為垣田公司之老闆娘，當應知悉劉曾玉暇係垣田公司之一般員工，惟因年齡及與銀行間之債務關係無法參加勞健保，日後工作需以告訴人名義提供勞務，況告訴人曾參與物產館標案之投影片製作及放映，益徵對於該工作係其代劉曾玉暇提供勞務出名情形知悉；③被告長期將告訴人連續章及蓋有連續章之文件放置在垣田公司辦公室事務桌上，是如告訴人未概括同意被告使用連續章，告訴人早將連續章取走，並向被告或劉曾玉暇表示不得使用之；④告訴人前後證述有所不一，且因與被告有私人糾紛對被告怨念已深，故其否認授權之證述不足採信；⑤被告係垣田公司之法定代理人，有權製作附表二至附表十三、附表二之1至附表十三之1所示文件，難認被告行為係屬偽造文書；⑥垣田公司就物產館標案確實已依約履行，未影響農業局，且垣田公司已發給劉曾玉暇及告訴人薪資，故被告此一行為不生損害之虞云云，經查：(一)本案基礎事實：被告前揭所坦承之事實【臺灣高雄地方法院檢察署104年度他字第7762號卷（下稱他卷）第105頁反面至第106頁反面、院卷第29頁、第30頁至第33頁、第34頁至第35頁】，經告訴人於偵訊及審理時、證人劉曾玉暇、物產館保全人員盧建良、曾廷君於偵訊時證述明確【他卷第106頁反面、第102頁反面至第103頁反面、臺灣高雄地方法院檢察署105年度偵字第8155號卷（下稱偵卷）第11頁、第12頁、院卷第137至139頁】，並有垣田公司之經濟部商業司公司資料查詢、臺灣高雄地方法院檢察署104年度檢管字第4600號收受贓證物品清單、物產館標案之決標公告、高雄市政府農業局議價/決標/紀錄、高雄市政府農業局議價/決標/紀錄（資格標、公開取得報價單或企劃書公告）、垣田公司就物產館標案自103年1月份至12月份每月清潔維護人員簽到表、103年度物產館標案環境清潔維護工作每日環境清潔檢查表、農業局105年11月29日高市農銷字第10533497800號函、農業局106年1月3日高市農銷字第10533833700號函及檢附之物產館標案契約影本、高雄市政府農業局106年1月23日高市農銷字第10630155200號函在卷可稽【見他卷第9頁、第109頁、102、103年度高雄物產館蓮池譚旗艦店環境清潔維護（含災後搶修工作）案相關資料卷（下稱資料卷）第69頁至第74頁反面、第75頁至第86頁、第87頁至第180頁反面、院卷第15頁、第42頁至第109頁、第215頁至第216頁】，堪以認定。(二)告訴人未授權被告刻印連續章供劉曾玉暇及被告蓋印於附表二至附表十三、附表二之1至附表十三之1所示文件之事實：1.告訴人於偵訊時及審理時均證稱：伊未授權被告刻印連續章等語【見他卷第106頁反面、偵卷第12頁、院卷第143頁】，而被告於104年12月8日偵訊時亦供稱：伊蓋用孫慈鈺的連續章未經其授權；且未經告訴人同意蓋用其連續章等語【見他卷第105頁、第106頁】，可徵被告應確未經告訴人同意即自行刻印告訴人連續章2枚，並將印章交由劉曾玉暇及己身蓋印於附表二至附表十三及附表二之1至附表十三之1所示之文件。2.又「知悉」並不等同於「同意」，某人知悉某項事實而不為反對之表示，能否視為同意或默示同意，仍須以該人是否有某項舉動，足以推知其有同意之意思者，始足當之。被告以下辯解僅得證明告訴人可能「知悉」物產館標案需要製作前揭文書及其個人印章曾經被告使用之情，但對於是否同意由被告或劉曾玉暇製作如事實欄所載之文書，則無證據證明：(1)被告於106年2月7日審理時改稱：伊刻連續章時，已跟告訴人講明，而得告訴人同意等語【見院卷第156頁】，倘被告此部分供稱屬實，應無可能誤會未得告訴人同意刻印及用印，且應於先前訊問時即為此部分最直接之利己供述，然被告於首次偵訊時已坦承未經告訴人同意或授權刻印，詳如前述，而被告雖就此係供稱其因未取得告訴人之授權書，故於當時誤認未得告訴人之同意，然被告於104年12月8日偵訊後具狀表示及於105年5月5日偵訊時均否認無權刻印及偽蓋告訴人連續章之犯行，而就此表示其事後想到告訴人自98年起將其存摺及印章交與其作工作上使用，且與告訴人同居期間均放置告訴人可見位置，故認其已得告訴人概括授權同意【見他卷第114頁至第115頁、偵卷第12頁】，嗣於105年10月26日準備程序時供稱：伊於該時與告訴人同居，且告訴人知悉文書作業流程，故認為告訴人係有同意伊使用這些印章等語【見本院105年度審訴字第1734號卷（下稱審訴卷）第25頁】，而均以與授權書無關之上情積極主張其應已得告訴人同意之情，且均未提及曾當面徵得告訴人同意刻印或蓋印連續章，是被告前揭供稱嗣後翻異前詞理由即有可議，且此部分之翻異供述是否可採，已非無疑；再者，被告既係因劉曾玉暇之個人因素刻印告訴人之連續章，如曾徵詢告訴人，理應將刻印之目的及用途告知，然被告於105年5月5日偵訊時以明確供稱：伊交給劉曾玉暇印章並未告知告訴人等語【見偵卷第12頁】，可見被告此部分之辯稱不足採信。(2)再者，被告於104年12月8日偵訊時明確供稱：物產館標案之現場人員均未與告訴人接觸，且屬臨時雇用員工等語【見他卷第105頁反面、第106頁】，且告訴人亦到庭證稱：伊對劉曾玉暇名字有印象，但對該人無印象等語【見院卷第146頁】，則劉曾玉暇既未與告訴人有所接觸，則告訴人是否知悉劉曾玉暇因個人因素無法有參加勞健保之情形，即非無疑；又被告得標物產館標案後，嗣於103年1月9日函送物產館標案之勞工名冊至農業局，而該勞工名冊共有5人，分別為被告、孫慈鈺、孫大成、廖慶安、張永富，此有農業局106年1月3日高市農銷字第10533833700號函檢附之垣田公司103年1月9日（109）物產字第103010902號函檢附之物產館標案勞工名冊在卷可稽【見院卷第42頁、第58頁】，然此勞工名冊所列載之人員，除孫慈鈺之連續章曾出現於物產館標案之「每月清潔維護人員簽到表」、「每日環境清潔檢查表」外，僅被告之連續章曾多次出現於「每日環境清潔檢查表」之文件上，及張永富之連續章出現於附表六編號31、附表十一編號10所示文件之簽到人欄位，暨被告曾簽名於附表六編號17所示文件之簽到人欄位，並多次於「每日環境清潔檢查表」簽名，此外尚無其他孫大成、廖慶安之簽名或印文出現於物產館標案之「每月清潔維護人員簽到表」、「每日環境清潔檢查表」之文件上，且尚有未在上揭勞工名冊內之人員即許燕草之連續章印文或劉英男之簽名多次出現於「每月清潔維護人員簽到表」，此有卷附之物產館標案之每日清潔維護表、每日環境清潔檢查表附卷可佐【資料卷第75至179頁】，又102年「蓮池潭高雄物產館」環境清潔維護工作之「工作補充說明書」第9條第2項及物產館標案之工作補充說明書第9條第2項均規定人員由廠商自由調度，故每月清潔維護人員簽到表之簽到人員與勞工名冊不同，應屬廠商自行調度人員，契約並未規範人員調度之作業等情，有農業局106年1月3日高市農銷字第10533833700號函檢附之物產館標案契約之工作補充說明書、農業局106年1月23日高市農銷字第10630155200號函附卷可稽【見院卷第42頁、第82頁至第83頁、第138頁至第139頁】，可見勞工名冊上所載之人員與事後實際工作人員可非屬同人，且垣田公司事後實際工作並簽到之人確有非屬原其提供與農業局勞工名冊所載之人，是告訴人縱確實曾協助製作或操作物產館標案之簡報【見院卷第142頁】，而可能從中知悉其被列為勞工名冊之人，然勞工名冊人員及實際施作人員既可能因廠商調度而可有所不同，且垣田公司實際操作上亦有此情形之發生，故難以此逕認告訴人已同意出名與現場實際工作人員，是被告辯護人為被告辯稱：告訴人熟悉垣田公司業務而知悉劉曾玉暇有個人因素需他人出名，且曾參與物產館標案之簡報作業，知悉物產館標案內容，進而主張告訴人有授權被告刻印其姓名連續章，及交由現場實際工作人員劉曾玉暇及被告蓋印於物產館標案工作使用云云，自不足採。(3)又告訴人曾將其銀行存簿、印鑑章、畢業證書等相關證書交給被告保管直至103年12月，並同意被告將其畢業證書作為投標標案之服務建議書所用等情，業經告訴人證述明確【見院卷第136頁至第137頁】，然被告未具體指出告訴人之銀行存簿、印鑑章與其標案之相關性，再酌以告訴人與被告前係同居關係，則此與被告工作或標案是否相關已非無疑，縱認告訴人所交付上揭物品及證書均係供被告工作或投標所用，惟告訴人既僅交付上揭物品及證書供被告工作或投標所用，衡情尚難以此擴張認定告訴人已概括授權刻印及以之作為借名與實際工作人員使用，是難以上情對被告為有利之認定。(4)另被告辯護人為被告辯稱：被告長期將告訴人之連續章及蓋有連續章之文件放置於告訴人得自由進出之垣田公司辦公室內，如告訴人未概括同意被告蓋印連續章，則應已發現之並將連續章取走，且向被告或劉曾玉暇表示不得使用之云云，然告訴人到庭證稱：伊係於103年12月間搬家時發現其同居處1樓辦公室內放有蓋印伊姓名連續章之文件，而提起本件告訴等語【見院卷第143頁】，又被告縱長期將連續章及蓋印文件放置於辦公室內，惟此與告訴人是否因而翻閱而查知當無直接關聯，是被告辯護人為被告前揭辯稱告訴人早已發現被告刻印或蓋印其連續章之詞僅屬其主觀臆測之詞，自難憑此逕認被告已得告訴人同意或授權刻印連續章及蓋印於附表二至十三、附表二之1至十三之1之文件上。3.被告辯護人復為被告辯稱：告訴人於104年12月8日偵訊時證稱：伊係全職之家庭主婦，且不知有物產館標案等語【見他卷第106頁反面】，嗣於審理時證稱：伊有將勞健保加入垣田公司，且被告按月給付伊2萬元，並就物產館標案協助被告作簡報排版、操作，及協助垣田公司得標之燕巢動物保護關愛園區新建工程（下稱燕巢動物工程）部分作業等語【見院卷第135頁、第137頁】，足見其前後證述迥異，且告訴人於103年間尚有參與燕巢動物工程，而在垣田公司工作，並非全職家庭主婦，是其所為證述與事實尚有不一之情形，又告訴人於103年12月間不歡而散後，即不願被告依法認領與其所生之女兒，甚至偵訊及審理時均表示不願與被告和解，可見告訴人對被告怨念頗深，故其證述實不足採云云，惟告訴人於97年1月27日與被告結婚，嗣因告訴人重婚而經臺灣高雄地方法院99年度家訴字第258號判決宣告渠等婚姻無效，而兩人仍同居至103年12月間，此經告訴人證述明確【見院卷第134頁至第135頁】，並有被告之戶籍謄本及臺灣高雄地方法院99年度家訴字第258號判決附卷可稽【見他卷第116頁至第118頁】，又現今社會未工作之婦女協助其配偶或同居人所經營之公司業務及加保其中均非少見，是告訴人雖曾參與被告所經營之垣田公司標案，且每月自被告處拿取2萬元，並投勞健保於垣田公司，惟此究係單純協助而按月拿取家用或已為垣田公司員工並按月領取薪資，僅屬主觀認知上有所落差，客觀事實難謂有重大不同，是要難憑此逕認告訴人證述有重大瑕疵足以推翻本院之認定，且亦難認告訴人有為挾怨報復被告而故意為不實證述之情形，是被告辯護人前揭辯稱均難採信。(三)被告係無製作權人而冒用告訴人名義以製作附表二至十三之「每月清潔維護人員簽到表」及附表二之1至十三之1「每日環境清潔檢查表」之事實：按刑法第210條之偽造私文書罪，以無制作權人而捏造他人名義制作該文書為構成要件之一，學理上稱為「有形偽造」，倘行為人係以自己名義制作之文書，或基於他人之授權、委託，以該他人名義制作之文書，既非無制作權，自均不能成立該罪；至刑法第213條之公文書不實登載罪及同法第215條之業務上文書登載不實罪，乃有制作權人，故意自為記載內容虛偽不實之文書，學理上謂為「直接無形偽造」，而同法第214條之使公務員登載不實罪，係向有制作權人，為虛偽不實之報告或陳述，使該有制作權人據以制作內容不實之文書，學理上指為「間接無形偽造」，前後情形有別，不容混淆（最高法院84年度台上字第1996號判決意旨參照）。經查，被告未經告訴人授權即刻印其姓名之連續章2枚並交由劉曾玉暇及由自己分別蓋印於附表二至十三及附表二之1至附表十三之1所示之文件上，業經本院認定如前；再者，附表二至十三所示之「每月清潔維護人員簽到表」及附表二之1至附表十三之1所示「每日環境清潔檢查表」中之檢查人員簽名欄本須由到場負責清掃及檢查人員以其自身名義簽名或用印，顯非屬垣田公司法定代理人依其職權所可製作之文書，是依前揭說明，被告冒用告訴人名義蓋印於上揭文件以製作之即屬無製作權人製作上揭文件。(四)被告按月持附表二至附表十三及附表二之1至附表十三之1所示文件向農業局行使之事實：按刑法上之行使偽造私文書罪，必須提出偽造之文書，本於該文書之內容有所主張方得成立（最高法院47年台上字第1048號判決意旨參照）。經查，被告係按月分別持附表二至附表十三、附表二之1及附表十三之1所示文件向農業局而辦理驗收及請領價金乙節，業經本院認定如前，而上揭文件分別係表彰垣田公司依約完成清潔及檢查工作，依前揭說明，足認被告就偽造之文書內容有所主張而行使之。(五)被告前揭所為對告訴人之信用及農業局核實承攬之工作完成之正確性足生損害：按刑法處罰偽造文書之罪，旨在保護文書之實質真正，雖尚以足生損害於公眾或他人為要件之一，惟衹須就客觀上為一般觀察，公眾或他人事實上有因此受損害之虞即足，有無實質受損害，並非所問，且所謂損害，亦不以經濟價值為限（最高法院刑事判決104年度台上字第1638號判決意旨參照）。經查，被告所為已誤導農業局認於每日清潔維護人員簽到表及每日環境清潔檢查表上有孫慈鈺印文之日即係由其執行清潔及檢查環境工作，而須由其負擔此文書內容正確之責任，又被告於準備程序時供稱：物產館標案執行過程中，假日需由二位清潔人員進行清掃，否則會遭農業局扣款等語【見院卷第33頁】，而附表五編號4蓋印日期當日，附表五編號4所示之文件上除蓋有「孫慈鈺」之印文外，同日該文件上之簽到人欄另蓋有「曾玉暇」之印文，而影響農業局對垣田公司於假日是否已派足員工到場履約之認定，足見被告偽蓋孫慈鈺連續章確實會影響農業局對物產館標案之管理，及產生告訴人因此遭究責之風險，從而被告之行為係足生損害於告訴人信用及農業局核實承攬之工作完成之正確性，甚為明確。又最高法院49年台非字第18號判例係針對該案被告未將已離職其寓所工作之員工「周海東」辦理人事異動，並刻印「周海東」之印章，誤刻為「周東海」印章，再以該前員工之名義報領薪餉及配給實物，並以前揭誤刻印章蓋用於配給實物印領清冊及員役現金給與清冊上，再發給接替人員之事實，而認被告以前員工名義報領之薪餉及配給實物交與接替人員，既為接替人員實行服務所應享受之報酬，復為公家對於服務人員所應負擔之給與，於公於私均無足生損害之可言，其文書登載之形式雖有不實，而實質上殊無足生損害之虞，惟此判例事實中，該案被告偽刻之印章姓名有誤，且文書僅係表彰於該寓所服務人員已具領應領報酬，與本件被告偽刻告訴人姓名之連續章，以表彰告訴人身分，及被告所偽造之文件具供主管機關查核被告是否已依約履行之目的情形不同，自難予以比附援引，而難憑此逕認被告行使偽造文書行為依此判例不生損害之虞。(六)末按當事人聲請調查之證據，待證事實已臻明瞭無再調查之必要者，應認為不必要，刑事訴訟法第163條之2第2項第3款定有明文。本件被告固請求①向行政院公共工程委員會函詢鄭孟育園藝技師事務所、垣田公司自97年3月至102年12月止參與政府機關工程投標次數及投標項目，以證明被告曾多次使用告訴人交付之學經歷證件於參與標案之服務建議書或企畫書內，且垣田公司102年度之政府標案僅3、4個，均經告訴人參與而知悉。②向高雄市政府工務局新建工程處調取燕巢動物工程相關資料，證明該案件亦使用告訴人學經歷證件參與該標案之服務建議書或企業書內。③傳喚證人即燕巢動物工程負責人楊士賢，證明告訴人曾多次至高雄市政府新建工程處製作施工計畫書、進度表書類資料，及負責該工程案件之印製及用印，以此證明告訴人於103年間仍任職於垣田公司，打擊告訴人證述之憑信姓。惟告訴人已到庭證稱：伊於97年將相關個人學經歷證據交予被告，供被告作為投標標案之服務建議書後相關資料所用，並就燕巢動物工程案件曾拿垣田公司大小章至工程處用印、依被告所提出之範本填寫施工計畫書、品管計畫書及防浚計畫書，及依被告指示至工程處找楊士賢修改計畫書等語【見院卷第137頁至第138頁、第141頁】，是告訴人之證述大致已可證明被告辯護人聲請調查上揭證據之目的，又本院於前已詳述告訴人否認其在垣田公司任職情形尚不足以遽認其證述有不可採之情，另被告辯護人所聲請傳喚之上揭證據均與物產館標案無關，且未指出有與本件相同之告訴人出名與垣田公司實際到場人員之情形，是被告辯護人為被告聲請上揭證據，核與待證事實無直接及重要關係，且被告所涉前揭犯行，業經本院審認如前，從而，本案事實已臻明瞭，揆諸上揭規定認無依被告辯護人之聲請函詢或傳訊證人之必要，附此敘明。(七)至告訴人具狀表示被告行為應另涉犯詐欺取財罪部分，惟依卷內資料所示，未見有客觀事證足認被告有未依物產館標案契約履行環境清潔事務而向農業局詐領標案價金之情形，至附表五編號4蓋印日期每月維護人員簽到表上係分別蓋印「孫慈鈺」及「曾玉暇」之印文，然依卷內資料，尚不足以證明垣田公司當日確有未派足員工前往履約，且依卷內資料，垣田公司履行物產館標案期間僅該日發生此情，要難排除係一時疏失所致，是難認被告另涉詐欺取財之犯行，且檢察官對此亦為相同之認定，而不另為不起訴之處分，併此敘明。(八)綜上所述，本件事證明確，被告上開所辯均無可採，其行使偽造私文書之犯行洵堪認定。二、論罪科刑(一)按刑法上之偽造印文罪，係指單純偽造印文而言，若在制式之書類上偽造他人印文，已為一定意思表示，具有申請書或收據等類性質者，則係犯偽造文書罪，該偽造印文為偽造文書之部分行為不另論罪（最高法院85年度台非字第146號判決、88年度台非字第5號判決、92年度台上字第1877號判決意旨參照），是倘行為人係以簽名或蓋印之意，於文件上簽名或蓋印，且該簽名或蓋印僅在表示簽名或蓋印者個人身分，以作為人格同一性之證明，除此之外，再無其他用意者，即係刑法上所稱之「署押」；反之，若於人格同一性之證明外，尚有其他法律上之用意（例如表示收受某物之用意而成為收據之性質、表示對於某事項為同意之用意證明）者，始該當刑法上之「私文書」。本件附表二至附表十三及附表二之1至附表十三之1所示文件分別表彰到場實行清潔及檢查工作人員之文書，屬私文書無疑，又清潔人員及檢查工作人員於其上用印應係用以表示已完成工作之意思及擔保其記載內容真正之用意，已屬私文書無訛，故核被告所為附表一所示之行為，均係犯刑法第216條、第210條之行使偽造私文書罪。另被告偽造告訴人連續章2枚，及分別以上揭連續章偽造附表二至附表十三及附表二之1及附表十三之1所示文件之印文行為，均為偽造私文書之階段行為。被告自103年1月起於每月所為附表一所示之各次行為，均係於密接時間內基於當月持上揭文件向農業局辦理驗收及請款之同一犯意所為，顯係各基於單一犯罪決意而為之，各該舉動之獨立性極為薄弱，難以強行分開，在刑法評價上，以視為數個舉動之接續施行，合為包括之一行為予以評價較為合理，各應論以接續犯之一罪。再者，被告上開偽造私文書之低度行為，應為行使之高度行為所吸收，應論以行使偽造私文書罪。又被告利用不知情之刻印業者偽刻告訴人之印章，及利用不知情之劉曾玉暇盜蓋告訴人連續章於附表二至附表十三所示之「每月清潔維護人員簽到表」，均應論以間接正犯。(二)本件被告於103年每月月底彙整當月之「每月清潔維護人員簽到表」、「每日環境清潔檢查表」再交給農業局辦理驗收及請款等情，業經本院認定如前，可見上揭文件係按月月底彙整後再交由農業局驗收及請款而行使之，是其按月行使偽造私文書行為，每次相隔時間已達1個月，應屬各別獨立行使行為而非接續行使，自難論以一罪。故被告所犯附表一編號1至12所示行使偽造私文書罪，其犯意各別，行為互殊，應予分論併罰。公訴意旨及被告辯護人辯護意旨雖認被告偽造附表二至附表十三及附表二之1至附表十三之1所示行使偽造私文書之行為應屬接續犯，故罪數應屬一罪，及告訴人具狀表示應就每日或間隔數日盜蓋告訴人印章於之行為各論一罪云云，則有未洽。(三)爰以行為人之責任為基礎，審酌被告明知告訴人未授權借名與劉曾玉暇，即未經告訴人同意偽造其連續章2枚，並自103年1月起至同年12月止每月利用不知情之劉曾玉暇及自行分別於「每月清潔維護人員簽到表」、「每日環境清潔檢查表」上蓋印偽造之連續章，再執此向農業局行使，足生損害於告訴人信用及農業局對物產館標案管理之正確性，行為已有不當，復兼衡被告僅於首次偵訊時坦承犯行，嗣後均否認犯行之犯後態度，及酌以其經濟、生活狀況、教育程度為大學畢業等其他一切情狀，量處如附表一編號1至12所示之刑，並均諭知如易科罰金以新臺幣1,000元為折算1日之標準。併定其應執行之刑及同前易科罰金之折算標準，以資懲儆。三、沒收(一)按被告為本件犯行後，刑法關於犯罪所得之沒收及追徵等事項，業已修正、增訂刑法第38條至第38條之3等條文，並於104年12月30日修正公佈、105年7月1日施行。而沒收、非拘束人身自由之保安處分適用裁判時之法律，刑法第2條第2項定有明文，故本件之沒收即應逕行適用裁判時法律，合先敘明。次按供犯罪所用、犯罪預備之物或犯罪所生之物，屬於犯罪行為人者，得沒收之。但有特別規定者，依其規定。前項之物屬於犯罪行為人以外之自然人、法人或非法人團體，而無正當理由提供或取得者，得沒收之。但有特別規定者，依其規定，刑法第38條第2項及第3項定有明文。再按刑法第219條規定，偽造之印章、印文或署押，不問屬於犯人與否，沒收之。復按縱署押、印文為文書之一部，偽造署押、偽造印文之行為應吸收於偽造文書行為，而無須另行論罪，然若未將偽造之文書沒收者，仍應依刑法第219條將偽造之署押、印文沒收（最高法院27年上字第2597號判例意旨參照）。經查，本件被告偽造告訴人之連續章2枚部分均經被告提出而扣押在案，依刑法第219條之規定，於各該罪之主文項下，予以宣告沒收，又被告偽造告訴人之連續章蓋印於如附表二至十三及附表二之1至十三之1所示之私文書，業經交由農業局保管，且農業局非無正當理由取得，依刑法第38條第2項、第3項之規定，爰不予宣告沒收，惟被告於附表二至十三及附表二之1及十三之1所示文件上偽造如附表二至十三及附表二之1至十三之1之偽造「孫慈鈺」之印文欄所示之印文，仍應依刑法第219條規定，不問屬於被告與否，併予以宣告沒收。(二)末按修正後刑法第51條第9款已刪除宣告多數沒收，併執行之規定，而將該項規定移至修正後第40條之2第1項，故就沒收已無定應執行刑之問題。如宣告多數沒收，自應適用新法，併執行之，故對被告所為之沒收宣告自無庸再定應執行刑，附此敘明。據上論斷，應依刑事訴訟法第299條第1項前段，刑法第216條、第210條、第41條第1項前段、第8項、第219條、第51條第5款、第40條之2第1項，刑法施行法第1之1條第1項，判決如主文。本案經檢察官黃世勳到庭執行職務。中華民國106年3月3日刑事第三庭審判長法官楊智守法官黃三友法官姚怡菁以上正本證明與原本無異。如不服本判決應於收受送達後10日內向本院提出上訴書狀，並應敘述具體理由；如未敘述上訴理由者，應於上訴期間屆滿後20日內向本院補提理由書（均須按他造當事人之人數附繕本）「切勿逕送上級法院」。中華民國105年3月3日書記官陳正附錄本件判決論罪科刑法條：中華民國刑法第210條（偽造變造私文書罪）偽造、變造私文書，足以生損害於公眾或他人者，處5年以下有期徒刑。中華民國刑法第216條（行使偽造變造或登載不實之文書罪）行使第210條至第215條之文書者，依偽造、變造文書或登載不實事項或使登載不實事項之規定處斷。附表一']\n",
            "Test Sentences: [150, 242, 60, 302, 365]\n"
          ]
        }
      ]
    },
    {
      "cell_type": "markdown",
      "source": [
        "# summerize"
      ],
      "metadata": {
        "id": "LZXzYF7-8UTe"
      }
    },
    {
      "cell_type": "markdown",
      "source": [
        "## Step 1: Split into sentences"
      ],
      "metadata": {
        "id": "pPhR6U6eutve"
      }
    },
    {
      "cell_type": "code",
      "source": [
        "def split_into_sentences(text):\n",
        "    return [sentence.strip() for sentence in text.split('。')]"
      ],
      "metadata": {
        "id": "Ay2VzZmouulx"
      },
      "execution_count": 36,
      "outputs": []
    },
    {
      "cell_type": "code",
      "source": [
        "train_facts_sentences = []\n",
        "for document in train_facts:\n",
        "    train_facts_sentences.append(split_into_sentences(document))"
      ],
      "metadata": {
        "id": "ZQVKIKn3uzQ1"
      },
      "execution_count": 39,
      "outputs": []
    },
    {
      "cell_type": "code",
      "source": [
        "test_facts_sentences = []\n",
        "for document in test_facts:\n",
        "    test_facts_sentences.append(split_into_sentences(document))"
      ],
      "metadata": {
        "id": "5EZolWazwOWT"
      },
      "execution_count": 43,
      "outputs": []
    },
    {
      "cell_type": "code",
      "source": [
        "print(len(train_facts_sentences[0]))\n",
        "print(train_facts_sentences[0][0])\n",
        "print(train_facts_sentences[0][1])\n",
        "print(len(test_facts_sentences[0]))\n",
        "print(test_facts_sentences[0][0])\n",
        "print(test_facts_sentences[0][1])"
      ],
      "metadata": {
        "colab": {
          "base_uri": "https://localhost:8080/"
        },
        "id": "JtZo5_aXu9IN",
        "outputId": "9bbf7310-55ef-419c-8040-55c292b0e21c"
      },
      "execution_count": 44,
      "outputs": [
        {
          "output_type": "stream",
          "name": "stdout",
          "text": [
            "51\n",
            "一、陳泰龍明知其與泰國籍女子陳玉婉（泰國名字為JARUWANWONGPRATOOM，陳玉婉涉嫌本案偽造文書部分，另經臺灣臺南地方法院檢察署檢察官通緝中）間並無結婚之真意，然因詹巧薇、張晉源等人欲找臺灣男子前往泰國與泰國女子辦理假結婚，林清水負責介紹臺灣男子予詹巧薇、張晉源等人以賺取新臺幣（下同）1萬元之仲介費，適陳泰龍依林清水於報紙上刊登之徵人廣告應徵時，由林清水告知泰國女子欲以假結婚之方式申請來臺居留工作，其若擔任假結婚之人頭老公，除不用負擔前往泰國之食宿、機票費用外，尚可獲取5、6萬元之報酬，迨陳泰龍應允同意後，林清水將其轉介紹予詹巧薇、張晉源等人，陳泰龍遂與林清水、詹巧薇、張晉源等人共同基於行使使公務員登載不實公文書之概括犯意聯絡，先由陳泰龍依指示於民國93年4月3日前往泰國，並於同年月7日與陳玉婉在泰國曼谷市法拉坎農區註冊辦事處登記結婚，取得上開註冊辦事處核發之結婚登記書、結婚證書等文件後，陳泰龍即行返臺，並於同年5月19日持經我國駐泰國臺北經濟文化辦事處認證之上開結婚登記書、結婚證書等資料，至臺南縣永康市（改制前稱謂，以下沿用舊制稱謂）戶政事務所填寫結婚登記申請書，申請辦理其與陳玉婉之結婚登記，因此使上開戶政事務所僅有形式審查權之承辦公務員陷於錯誤，於形式上審核後，將陳泰龍與陳玉婉於93年4月7日結婚之不實事項，登載於其職務上所掌屬公文書之戶籍登記資料內，並據以核發戶籍謄本，而足以生損害於戶政機關對於戶政管理及戶籍登記資料維護之正確性\n",
            "迨陳玉婉來臺後，為取得居留身分，再由陳泰龍、陳玉婉承前概括之犯意聯絡，於同年6月14日及94年5月5日，均持前開登載不實之戶籍謄本等資料，先後向臺南縣政府警察局外事課申請核發陳玉婉之外僑居留證及申請居留證延期而連續行使之（業經檢察官當庭補充），經承辦人員實質審查結果，均未發覺陳泰龍與陳玉婉假結婚之實情，而發給陳玉婉居留證或核准延期，各足以生損害於主管機關對外僑居留管理之正確性\n",
            "49\n",
            "○、緣徐鴻光（所涉行使偽造私文書犯行，業經本院以95年度訴字第955號判決處有期徒刑3月、緩刑3年確定）因需款使用，知悉穆立明有借款管道，為求順利借款，2人竟共同意圖為自己不法所有，基於行使偽造私文書及詐欺取財之犯意聯絡，知悉車牌號碼00-000號營業小客車係徐鴻光向志朗交通有限公司（下稱志朗公司）租賃之車輛，竟由穆立明先於不詳時間、不詳地點，偽刻「志朗交通有限公司」及負責人「陳健志」印章（正確姓名為陳建志，誤刻為「陳健志」）各1枚，並偽造「陳健志」代表志朗公司與徐鴻光簽署之「臺北市計程車客運駕駛人自備車輛參與經營契約書」（下稱本案參與經營契約書），虛偽記載徐鴻光提供上述營業小客車靠行志朗公司營業等不實內容，並持上開偽刻印章，偽造「志朗交通有限公司」印文4枚、「陳健志」印文6枚於本案參與經營契約書上，再於92年3月6日交徐鴻光於立約人乙方欄簽名，2人復於同日協同不知情之徐鴻光配偶徐樂仁（所涉行使偽造私文書犯行，業經本院以95年度訴字第955號判決無罪確定），前往臺北市○○區○○街00巷0號2樓王傑生所經營之宏帝當舖（現更名為渣打當舖），由徐鴻光、穆立明交付偽造本案參與經營契約書向宏帝當鋪借款新臺幣（下同）10萬元以為行使，並約定由徐樂仁擔任連帶保證人，王傑生誤信上開車輛為徐鴻光所有而陷入錯誤，於扣除利息後交付9萬1千元借款予徐鴻光夫婦，足以生損害於志朗公司、陳建志、王傑生\n",
            "嗣因徐鴻光僅清償每期7千元之分期款共11期計7萬7千元，未全額清償即無力負擔債務，王傑生始查知上開車輛非徐鴻光所有，而悉上情\n"
          ]
        }
      ]
    },
    {
      "cell_type": "markdown",
      "source": [
        "## Step 2: Remove stop words"
      ],
      "metadata": {
        "id": "SphdfWj6wlY3"
      }
    },
    {
      "cell_type": "code",
      "source": [
        "!pip install opencc-python-reimplemented"
      ],
      "metadata": {
        "colab": {
          "base_uri": "https://localhost:8080/"
        },
        "id": "oocQk7GG0ECS",
        "outputId": "50580083-2bf9-4606-aa9c-cbc666df64cf"
      },
      "execution_count": 65,
      "outputs": [
        {
          "output_type": "stream",
          "name": "stdout",
          "text": [
            "Collecting opencc-python-reimplemented\n",
            "  Downloading opencc_python_reimplemented-0.1.7-py2.py3-none-any.whl (481 kB)\n",
            "\u001b[2K     \u001b[90m━━━━━━━━━━━━━━━━━━━━━━━━━━━━━━━━━━━━━━━━\u001b[0m \u001b[32m481.8/481.8 kB\u001b[0m \u001b[31m5.6 MB/s\u001b[0m eta \u001b[36m0:00:00\u001b[0m\n",
            "\u001b[?25hInstalling collected packages: opencc-python-reimplemented\n",
            "Successfully installed opencc-python-reimplemented-0.1.7\n"
          ]
        }
      ]
    },
    {
      "cell_type": "code",
      "source": [
        "from opencc import OpenCC"
      ],
      "metadata": {
        "id": "0aAYrTg20F0J"
      },
      "execution_count": 66,
      "outputs": []
    },
    {
      "cell_type": "code",
      "source": [
        "cc = OpenCC('t2s')"
      ],
      "metadata": {
        "id": "v7JR-0Ev0H48"
      },
      "execution_count": 67,
      "outputs": []
    },
    {
      "cell_type": "code",
      "source": [
        "!pip install udicOpenData"
      ],
      "metadata": {
        "colab": {
          "base_uri": "https://localhost:8080/"
        },
        "id": "ILdzU-O4wk7c",
        "outputId": "2aea54cd-f361-4c9b-ba79-8023b1e79cc8"
      },
      "execution_count": 45,
      "outputs": [
        {
          "output_type": "stream",
          "name": "stdout",
          "text": [
            "Collecting udicOpenData\n",
            "  Downloading udicOpenData-2.4.tar.gz (17.8 MB)\n",
            "\u001b[2K     \u001b[90m━━━━━━━━━━━━━━━━━━━━━━━━━━━━━━━━━━━━━━━━\u001b[0m \u001b[32m17.8/17.8 MB\u001b[0m \u001b[31m33.9 MB/s\u001b[0m eta \u001b[36m0:00:00\u001b[0m\n",
            "\u001b[?25h  Preparing metadata (setup.py) ... \u001b[?25l\u001b[?25hdone\n",
            "Requirement already satisfied: jieba in /usr/local/lib/python3.10/dist-packages (from udicOpenData) (0.42.1)\n",
            "Requirement already satisfied: nltk in /usr/local/lib/python3.10/dist-packages (from udicOpenData) (3.8.1)\n",
            "Requirement already satisfied: numpy in /usr/local/lib/python3.10/dist-packages (from udicOpenData) (1.25.2)\n",
            "Requirement already satisfied: click in /usr/local/lib/python3.10/dist-packages (from nltk->udicOpenData) (8.1.7)\n",
            "Requirement already satisfied: joblib in /usr/local/lib/python3.10/dist-packages (from nltk->udicOpenData) (1.3.2)\n",
            "Requirement already satisfied: regex>=2021.8.3 in /usr/local/lib/python3.10/dist-packages (from nltk->udicOpenData) (2023.12.25)\n",
            "Requirement already satisfied: tqdm in /usr/local/lib/python3.10/dist-packages (from nltk->udicOpenData) (4.66.2)\n",
            "Building wheels for collected packages: udicOpenData\n",
            "  Building wheel for udicOpenData (setup.py) ... \u001b[?25l\u001b[?25hdone\n",
            "  Created wheel for udicOpenData: filename=udicOpenData-2.4-py3-none-any.whl size=18094423 sha256=75cde9178d71cc59435dd1709f0eb527b2eaf135e987146d40db61b1adaeab6c\n",
            "  Stored in directory: /root/.cache/pip/wheels/86/4f/46/2a28bc28485ba1f9d67dead62ac6aba14089a6cf1d5fbad365\n",
            "Successfully built udicOpenData\n",
            "Installing collected packages: udicOpenData\n",
            "Successfully installed udicOpenData-2.4\n"
          ]
        }
      ]
    },
    {
      "cell_type": "code",
      "source": [
        "from udicOpenData.stopwords import *\n",
        "\n",
        "# 分詞加空白\n",
        "def split_passage(passage):\n",
        "    word_and_tag = list(rmsw(passage, flag=True))\n",
        "    _temp = list(filter(lambda x: x[1]!='nr' and x[1]!='ns' and x[1]!='ng', word_and_tag))\n",
        "    text = \" \".join(list(map(lambda x:x[0], _temp)))\n",
        "    return text"
      ],
      "metadata": {
        "id": "slheEh3DwVKr"
      },
      "execution_count": 74,
      "outputs": []
    },
    {
      "cell_type": "code",
      "source": [
        "tokenized_train_facts_sentences = []\n",
        "\n",
        "for document in train_facts_sentences:\n",
        "  temp = []\n",
        "  for sentence in document:\n",
        "    temp.append(split_passage(cc.convert(sentence)))\n",
        "  tokenized_train_facts_sentences.append(temp)"
      ],
      "metadata": {
        "id": "8LDl_b0pxN7v"
      },
      "execution_count": 163,
      "outputs": []
    },
    {
      "cell_type": "code",
      "source": [
        "tokenized_test_facts_sentences = []\n",
        "\n",
        "for document in test_facts_sentences:\n",
        "  temp = []\n",
        "  for sentence in document:\n",
        "    temp.append(split_passage(cc.convert(sentence)))\n",
        "  tokenized_test_facts_sentences.append(temp)"
      ],
      "metadata": {
        "id": "sPFoZOpkG1Ib"
      },
      "execution_count": 169,
      "outputs": []
    },
    {
      "cell_type": "code",
      "source": [
        "print(len(tokenized_train_facts_sentences))\n",
        "print(len(tokenized_train_facts_sentences[0]))\n",
        "print(tokenized_train_facts_sentences[0][0])\n",
        "print(tokenized_train_facts_sentences[0][1])"
      ],
      "metadata": {
        "colab": {
          "base_uri": "https://localhost:8080/"
        },
        "id": "CKJgK8B4GeSO",
        "outputId": "36e78ebf-7eff-4996-ecee-822a37e841dd"
      },
      "execution_count": 164,
      "outputs": [
        {
          "output_type": "stream",
          "name": "stdout",
          "text": [
            "500\n",
            "51\n",
            "明知 与 女子 名字 为 JARUWANWONGPRATOOM 涉嫌 本案 伪造文书 部分 经 地方法院 检察署 检察官 通缉 中 间 并 无 结婚 真意 源等 人 欲 找 男子 前往 与 女子 办理 假结婚 清水 负责 介绍 男子 予 源等 人 赚取 新台币 下同 万元 仲介 费 适 清水 于 报纸 刊登 征 人 广告 应征 时 清水 告知 女子 欲 假结婚 方式 申请 来 台 居留 工作 其若 担任 假结婚 人头 不用 负担 前往 食宿 机票 费用 外 尚可 获取 万元 报酬 迨 应允 同意 后 清水 将 转 介绍 予 源等 人 遂 与 清水 源等 人 共同 基于 行使 使 公务员 登载 不实 公文书 概括 犯意 联络 先 指示 于 民国 前往 并 于 同年 月 日 与 法拉 坎农 区 注册 办事处 登记 结婚 取得 上开 注册 办事处 核发 结婚登记 书 结婚证书 文件 后 即行 返台 并 于 同年 持 经 我国 驻 台北 经济 文化 办事处 认证 之上 开 结婚登记 书 结婚证书 资料 永康市 改制 前 称谓 以下 沿用 旧制 称谓 户政事务 填写 结婚登记 申请 办理 与 结婚登记 使 开 户政事务 所仅 有形 式 审查 承办 公务员 陷于 错误 于 形式 审核 后 将 与 于 结婚 不实 事项 登载 于 职务 上所 掌属 公文书 户籍 登记 资料 内 并 据 核发 户籍誊本 足以 生 损害 于 户政 机关 对于 户政 管理 户籍 登记 资料 维护 正确性\n",
            "迨 来 台后 为 取得 居留 身分 前 概括 犯意 联络 于 同年 持 前 开 登载 不实 户籍誊本 资料 先后 县政府 警察局 外事 课 申请 核发 外侨 申请 延期 连续 行使 业经 检察官 当庭 补充 经 承办 人员 实质 审查 结果 未 发觉 与 假结婚 实情 发给 核准 延期 足以 生 损害 于 主管机关 对 外侨 居留 管理 正确性\n"
          ]
        }
      ]
    },
    {
      "cell_type": "code",
      "source": [
        "with open('/content/drive/MyDrive/senior/LAB/LawCaseRetreiver/sentence_predict/dataset_new/tokenized_train_facts_sentences.json', 'w', encoding='utf-8') as f:\n",
        "    json.dump(tokenized_train_facts_sentences, f, ensure_ascii=False)"
      ],
      "metadata": {
        "id": "kUkrxgp1H_oP"
      },
      "execution_count": 165,
      "outputs": []
    },
    {
      "cell_type": "code",
      "source": [
        "with open('/content/drive/MyDrive/senior/LAB/LawCaseRetreiver/sentence_predict/dataset_new/tokenized_test_facts_sentences.json', 'w', encoding='utf-8') as f:\n",
        "    json.dump(tokenized_test_facts_sentences, f, ensure_ascii=False)"
      ],
      "metadata": {
        "id": "_FQW4EQiIomT"
      },
      "execution_count": 170,
      "outputs": []
    },
    {
      "cell_type": "code",
      "source": [
        "# # 載入 JSON 檔案\n",
        "# with open('/content/drive/MyDrive/senior/LAB/LawCaseRetreiver/sentence_predict/dataset_new/tokenized_train_facts_sentences.json', 'r', encoding='utf-8') as f:\n",
        "#     load_tokenized_train_facts_sentences = json.load(f)"
      ],
      "metadata": {
        "id": "Mp4HwM1sIZEA"
      },
      "execution_count": 167,
      "outputs": []
    },
    {
      "cell_type": "markdown",
      "source": [
        "## step 3: calculate similarity"
      ],
      "metadata": {
        "id": "UPhCS9XByCQV"
      }
    },
    {
      "cell_type": "markdown",
      "source": [
        "### test SBERT vs. TFIDF"
      ],
      "metadata": {
        "id": "h8i2zLaaEaac"
      }
    },
    {
      "cell_type": "markdown",
      "source": [
        "#### SBERT"
      ],
      "metadata": {
        "id": "CZPz1HKS8LFC"
      }
    },
    {
      "cell_type": "code",
      "source": [
        "!pip install sentence_transformers"
      ],
      "metadata": {
        "colab": {
          "base_uri": "https://localhost:8080/"
        },
        "id": "d-mCvCZKx0gz",
        "outputId": "7f9c2a71-e3bb-4ac0-de3d-614171dfa12b"
      },
      "execution_count": 48,
      "outputs": [
        {
          "output_type": "stream",
          "name": "stdout",
          "text": [
            "Collecting sentence_transformers\n",
            "  Downloading sentence_transformers-2.5.1-py3-none-any.whl (156 kB)\n",
            "\u001b[?25l     \u001b[90m━━━━━━━━━━━━━━━━━━━━━━━━━━━━━━━━━━━━━━━━\u001b[0m \u001b[32m0.0/156.5 kB\u001b[0m \u001b[31m?\u001b[0m eta \u001b[36m-:--:--\u001b[0m\r\u001b[2K     \u001b[91m━━━━━━━━━━━━━━━━━━━━━━━━━━━━━━━━━━━━━━━\u001b[0m\u001b[90m╺\u001b[0m \u001b[32m153.6/156.5 kB\u001b[0m \u001b[31m4.4 MB/s\u001b[0m eta \u001b[36m0:00:01\u001b[0m\r\u001b[2K     \u001b[90m━━━━━━━━━━━━━━━━━━━━━━━━━━━━━━━━━━━━━━━━\u001b[0m \u001b[32m156.5/156.5 kB\u001b[0m \u001b[31m3.4 MB/s\u001b[0m eta \u001b[36m0:00:00\u001b[0m\n",
            "\u001b[?25hRequirement already satisfied: transformers<5.0.0,>=4.32.0 in /usr/local/lib/python3.10/dist-packages (from sentence_transformers) (4.38.2)\n",
            "Requirement already satisfied: tqdm in /usr/local/lib/python3.10/dist-packages (from sentence_transformers) (4.66.2)\n",
            "Requirement already satisfied: torch>=1.11.0 in /usr/local/lib/python3.10/dist-packages (from sentence_transformers) (2.2.1+cu121)\n",
            "Requirement already satisfied: numpy in /usr/local/lib/python3.10/dist-packages (from sentence_transformers) (1.25.2)\n",
            "Requirement already satisfied: scikit-learn in /usr/local/lib/python3.10/dist-packages (from sentence_transformers) (1.2.2)\n",
            "Requirement already satisfied: scipy in /usr/local/lib/python3.10/dist-packages (from sentence_transformers) (1.11.4)\n",
            "Requirement already satisfied: huggingface-hub>=0.15.1 in /usr/local/lib/python3.10/dist-packages (from sentence_transformers) (0.20.3)\n",
            "Requirement already satisfied: Pillow in /usr/local/lib/python3.10/dist-packages (from sentence_transformers) (9.4.0)\n",
            "Requirement already satisfied: filelock in /usr/local/lib/python3.10/dist-packages (from huggingface-hub>=0.15.1->sentence_transformers) (3.13.1)\n",
            "Requirement already satisfied: fsspec>=2023.5.0 in /usr/local/lib/python3.10/dist-packages (from huggingface-hub>=0.15.1->sentence_transformers) (2023.6.0)\n",
            "Requirement already satisfied: requests in /usr/local/lib/python3.10/dist-packages (from huggingface-hub>=0.15.1->sentence_transformers) (2.31.0)\n",
            "Requirement already satisfied: pyyaml>=5.1 in /usr/local/lib/python3.10/dist-packages (from huggingface-hub>=0.15.1->sentence_transformers) (6.0.1)\n",
            "Requirement already satisfied: typing-extensions>=3.7.4.3 in /usr/local/lib/python3.10/dist-packages (from huggingface-hub>=0.15.1->sentence_transformers) (4.10.0)\n",
            "Requirement already satisfied: packaging>=20.9 in /usr/local/lib/python3.10/dist-packages (from huggingface-hub>=0.15.1->sentence_transformers) (24.0)\n",
            "Requirement already satisfied: sympy in /usr/local/lib/python3.10/dist-packages (from torch>=1.11.0->sentence_transformers) (1.12)\n",
            "Requirement already satisfied: networkx in /usr/local/lib/python3.10/dist-packages (from torch>=1.11.0->sentence_transformers) (3.2.1)\n",
            "Requirement already satisfied: jinja2 in /usr/local/lib/python3.10/dist-packages (from torch>=1.11.0->sentence_transformers) (3.1.3)\n",
            "Collecting nvidia-cuda-nvrtc-cu12==12.1.105 (from torch>=1.11.0->sentence_transformers)\n",
            "  Downloading nvidia_cuda_nvrtc_cu12-12.1.105-py3-none-manylinux1_x86_64.whl (23.7 MB)\n",
            "\u001b[2K     \u001b[90m━━━━━━━━━━━━━━━━━━━━━━━━━━━━━━━━━━━━━━━━\u001b[0m \u001b[32m23.7/23.7 MB\u001b[0m \u001b[31m34.8 MB/s\u001b[0m eta \u001b[36m0:00:00\u001b[0m\n",
            "\u001b[?25hCollecting nvidia-cuda-runtime-cu12==12.1.105 (from torch>=1.11.0->sentence_transformers)\n",
            "  Downloading nvidia_cuda_runtime_cu12-12.1.105-py3-none-manylinux1_x86_64.whl (823 kB)\n",
            "\u001b[2K     \u001b[90m━━━━━━━━━━━━━━━━━━━━━━━━━━━━━━━━━━━━━━━━\u001b[0m \u001b[32m823.6/823.6 kB\u001b[0m \u001b[31m53.1 MB/s\u001b[0m eta \u001b[36m0:00:00\u001b[0m\n",
            "\u001b[?25hCollecting nvidia-cuda-cupti-cu12==12.1.105 (from torch>=1.11.0->sentence_transformers)\n",
            "  Downloading nvidia_cuda_cupti_cu12-12.1.105-py3-none-manylinux1_x86_64.whl (14.1 MB)\n",
            "\u001b[2K     \u001b[90m━━━━━━━━━━━━━━━━━━━━━━━━━━━━━━━━━━━━━━━━\u001b[0m \u001b[32m14.1/14.1 MB\u001b[0m \u001b[31m49.3 MB/s\u001b[0m eta \u001b[36m0:00:00\u001b[0m\n",
            "\u001b[?25hCollecting nvidia-cudnn-cu12==8.9.2.26 (from torch>=1.11.0->sentence_transformers)\n",
            "  Downloading nvidia_cudnn_cu12-8.9.2.26-py3-none-manylinux1_x86_64.whl (731.7 MB)\n",
            "\u001b[2K     \u001b[90m━━━━━━━━━━━━━━━━━━━━━━━━━━━━━━━━━━━━━━━━\u001b[0m \u001b[32m731.7/731.7 MB\u001b[0m \u001b[31m1.7 MB/s\u001b[0m eta \u001b[36m0:00:00\u001b[0m\n",
            "\u001b[?25hCollecting nvidia-cublas-cu12==12.1.3.1 (from torch>=1.11.0->sentence_transformers)\n",
            "  Downloading nvidia_cublas_cu12-12.1.3.1-py3-none-manylinux1_x86_64.whl (410.6 MB)\n",
            "\u001b[2K     \u001b[90m━━━━━━━━━━━━━━━━━━━━━━━━━━━━━━━━━━━━━━━━\u001b[0m \u001b[32m410.6/410.6 MB\u001b[0m \u001b[31m2.6 MB/s\u001b[0m eta \u001b[36m0:00:00\u001b[0m\n",
            "\u001b[?25hCollecting nvidia-cufft-cu12==11.0.2.54 (from torch>=1.11.0->sentence_transformers)\n",
            "  Downloading nvidia_cufft_cu12-11.0.2.54-py3-none-manylinux1_x86_64.whl (121.6 MB)\n",
            "\u001b[2K     \u001b[90m━━━━━━━━━━━━━━━━━━━━━━━━━━━━━━━━━━━━━━━━\u001b[0m \u001b[32m121.6/121.6 MB\u001b[0m \u001b[31m8.0 MB/s\u001b[0m eta \u001b[36m0:00:00\u001b[0m\n",
            "\u001b[?25hCollecting nvidia-curand-cu12==10.3.2.106 (from torch>=1.11.0->sentence_transformers)\n",
            "  Downloading nvidia_curand_cu12-10.3.2.106-py3-none-manylinux1_x86_64.whl (56.5 MB)\n",
            "\u001b[2K     \u001b[90m━━━━━━━━━━━━━━━━━━━━━━━━━━━━━━━━━━━━━━━━\u001b[0m \u001b[32m56.5/56.5 MB\u001b[0m \u001b[31m10.3 MB/s\u001b[0m eta \u001b[36m0:00:00\u001b[0m\n",
            "\u001b[?25hCollecting nvidia-cusolver-cu12==11.4.5.107 (from torch>=1.11.0->sentence_transformers)\n",
            "  Downloading nvidia_cusolver_cu12-11.4.5.107-py3-none-manylinux1_x86_64.whl (124.2 MB)\n",
            "\u001b[2K     \u001b[90m━━━━━━━━━━━━━━━━━━━━━━━━━━━━━━━━━━━━━━━━\u001b[0m \u001b[32m124.2/124.2 MB\u001b[0m \u001b[31m7.2 MB/s\u001b[0m eta \u001b[36m0:00:00\u001b[0m\n",
            "\u001b[?25hCollecting nvidia-cusparse-cu12==12.1.0.106 (from torch>=1.11.0->sentence_transformers)\n",
            "  Downloading nvidia_cusparse_cu12-12.1.0.106-py3-none-manylinux1_x86_64.whl (196.0 MB)\n",
            "\u001b[2K     \u001b[90m━━━━━━━━━━━━━━━━━━━━━━━━━━━━━━━━━━━━━━━━\u001b[0m \u001b[32m196.0/196.0 MB\u001b[0m \u001b[31m2.2 MB/s\u001b[0m eta \u001b[36m0:00:00\u001b[0m\n",
            "\u001b[?25hCollecting nvidia-nccl-cu12==2.19.3 (from torch>=1.11.0->sentence_transformers)\n",
            "  Downloading nvidia_nccl_cu12-2.19.3-py3-none-manylinux1_x86_64.whl (166.0 MB)\n",
            "\u001b[2K     \u001b[90m━━━━━━━━━━━━━━━━━━━━━━━━━━━━━━━━━━━━━━━━\u001b[0m \u001b[32m166.0/166.0 MB\u001b[0m \u001b[31m6.2 MB/s\u001b[0m eta \u001b[36m0:00:00\u001b[0m\n",
            "\u001b[?25hCollecting nvidia-nvtx-cu12==12.1.105 (from torch>=1.11.0->sentence_transformers)\n",
            "  Downloading nvidia_nvtx_cu12-12.1.105-py3-none-manylinux1_x86_64.whl (99 kB)\n",
            "\u001b[2K     \u001b[90m━━━━━━━━━━━━━━━━━━━━━━━━━━━━━━━━━━━━━━━━\u001b[0m \u001b[32m99.1/99.1 kB\u001b[0m \u001b[31m9.8 MB/s\u001b[0m eta \u001b[36m0:00:00\u001b[0m\n",
            "\u001b[?25hRequirement already satisfied: triton==2.2.0 in /usr/local/lib/python3.10/dist-packages (from torch>=1.11.0->sentence_transformers) (2.2.0)\n",
            "Collecting nvidia-nvjitlink-cu12 (from nvidia-cusolver-cu12==11.4.5.107->torch>=1.11.0->sentence_transformers)\n",
            "  Downloading nvidia_nvjitlink_cu12-12.4.99-py3-none-manylinux2014_x86_64.whl (21.1 MB)\n",
            "\u001b[2K     \u001b[90m━━━━━━━━━━━━━━━━━━━━━━━━━━━━━━━━━━━━━━━━\u001b[0m \u001b[32m21.1/21.1 MB\u001b[0m \u001b[31m59.5 MB/s\u001b[0m eta \u001b[36m0:00:00\u001b[0m\n",
            "\u001b[?25hRequirement already satisfied: regex!=2019.12.17 in /usr/local/lib/python3.10/dist-packages (from transformers<5.0.0,>=4.32.0->sentence_transformers) (2023.12.25)\n",
            "Requirement already satisfied: tokenizers<0.19,>=0.14 in /usr/local/lib/python3.10/dist-packages (from transformers<5.0.0,>=4.32.0->sentence_transformers) (0.15.2)\n",
            "Requirement already satisfied: safetensors>=0.4.1 in /usr/local/lib/python3.10/dist-packages (from transformers<5.0.0,>=4.32.0->sentence_transformers) (0.4.2)\n",
            "Requirement already satisfied: joblib>=1.1.1 in /usr/local/lib/python3.10/dist-packages (from scikit-learn->sentence_transformers) (1.3.2)\n",
            "Requirement already satisfied: threadpoolctl>=2.0.0 in /usr/local/lib/python3.10/dist-packages (from scikit-learn->sentence_transformers) (3.3.0)\n",
            "Requirement already satisfied: MarkupSafe>=2.0 in /usr/local/lib/python3.10/dist-packages (from jinja2->torch>=1.11.0->sentence_transformers) (2.1.5)\n",
            "Requirement already satisfied: charset-normalizer<4,>=2 in /usr/local/lib/python3.10/dist-packages (from requests->huggingface-hub>=0.15.1->sentence_transformers) (3.3.2)\n",
            "Requirement already satisfied: idna<4,>=2.5 in /usr/local/lib/python3.10/dist-packages (from requests->huggingface-hub>=0.15.1->sentence_transformers) (3.6)\n",
            "Requirement already satisfied: urllib3<3,>=1.21.1 in /usr/local/lib/python3.10/dist-packages (from requests->huggingface-hub>=0.15.1->sentence_transformers) (2.0.7)\n",
            "Requirement already satisfied: certifi>=2017.4.17 in /usr/local/lib/python3.10/dist-packages (from requests->huggingface-hub>=0.15.1->sentence_transformers) (2024.2.2)\n",
            "Requirement already satisfied: mpmath>=0.19 in /usr/local/lib/python3.10/dist-packages (from sympy->torch>=1.11.0->sentence_transformers) (1.3.0)\n",
            "Installing collected packages: nvidia-nvtx-cu12, nvidia-nvjitlink-cu12, nvidia-nccl-cu12, nvidia-curand-cu12, nvidia-cufft-cu12, nvidia-cuda-runtime-cu12, nvidia-cuda-nvrtc-cu12, nvidia-cuda-cupti-cu12, nvidia-cublas-cu12, nvidia-cusparse-cu12, nvidia-cudnn-cu12, nvidia-cusolver-cu12, sentence_transformers\n",
            "Successfully installed nvidia-cublas-cu12-12.1.3.1 nvidia-cuda-cupti-cu12-12.1.105 nvidia-cuda-nvrtc-cu12-12.1.105 nvidia-cuda-runtime-cu12-12.1.105 nvidia-cudnn-cu12-8.9.2.26 nvidia-cufft-cu12-11.0.2.54 nvidia-curand-cu12-10.3.2.106 nvidia-cusolver-cu12-11.4.5.107 nvidia-cusparse-cu12-12.1.0.106 nvidia-nccl-cu12-2.19.3 nvidia-nvjitlink-cu12-12.4.99 nvidia-nvtx-cu12-12.1.105 sentence_transformers-2.5.1\n"
          ]
        }
      ]
    },
    {
      "cell_type": "code",
      "source": [
        "from sentence_transformers import SentenceTransformer, util\n",
        "model = SentenceTransformer('distiluse-base-multilingual-cased-v2')\n",
        "\n",
        "wordpairs = [['老師', '教師', '泰國'],\n",
        "             ['商品', '貨物', '跑步']]\n",
        "\n",
        "for wordpair in wordpairs:\n",
        "    embeddings = model.encode(wordpair)\n",
        "    print(wordpair[0], 'vs',  wordpair[1], 'distance =', util.pytorch_cos_sim(embeddings[0], embeddings[1]))\n",
        "    print(wordpair[0], 'vs',  wordpair[2], 'distance =', util.pytorch_cos_sim(embeddings[0], embeddings[2]))\n",
        "    print(wordpair[1], 'vs',  wordpair[2], 'distance =', util.pytorch_cos_sim(embeddings[1], embeddings[2]))"
      ],
      "metadata": {
        "colab": {
          "base_uri": "https://localhost:8080/",
          "height": 667,
          "referenced_widgets": [
            "34e514cbba6c426fa852540829d35dbe",
            "500e75be35e1461b895f61982639bd1b",
            "913729a0b48440dd9ae2a5d5df0b5e57",
            "cf589ff9a496443989c1c9e6044f1088",
            "4993c8eb2a0e4a41a6f6e3949e01821b",
            "d5bfbbc593014f4e9bb55bac6b891da4",
            "cf9d99d7d94544cb8dfb56627d567d46",
            "06122443e8554faabb384a7ea4902c55",
            "49144e9f52eb4f5e94bccd7fb0adbae3",
            "777e1e1d55a54f4496e772c3a2a89af0",
            "d9cb298469764e028f3b500f3ec9e14b",
            "aa1b41b138304119a62b27ec42e146cb",
            "6caed51af8524bcbace64f87229ff0e5",
            "c49efd4370934537a0c4cd736e58bb81",
            "f5dbc6248e164a4aa890132d8cbd9804",
            "5d63ed7ff7da4909baceca70b4419100",
            "ac614b8aa79b4779ad56c2bb07fb0097",
            "24f33576e754420f9a3b670483100a4d",
            "45a9032b22074526b7916e8b020ab44d",
            "e6cfd853b5fa4d89974e5b5dacbdaa55",
            "8b38a10ad4884d67b8ebe75beca834d6",
            "7f2931c7da154450818a7f2af6cfcf4e",
            "b192b5fa541a4573943c141052917f5b",
            "26d66a5bd9954399bb6262a40096b5f3",
            "88e88246b9114335bb6ff0aed16f7df3",
            "220a4559b0bd43ecafc1d74d455654fa",
            "2a1f498f1a264349a008fdd8e077f151",
            "3dca5b4e20dd452c8b265c9c522e2dee",
            "818fc36991b54672be5bd633fc111ee6",
            "ed0eee4fc8484bbab7f8a6780901c4b4",
            "a09cbce72a3d4a0ab7fa3a69a28a5985",
            "72fab9faa90e4a8bae47b41e1ec6baba",
            "32d57f77f16c41f387822dbba5f987e9",
            "004a52902a7f4568a3585bb467254914",
            "8ec98a2bf35f4b01a2bdf5d533031828",
            "b40005e5d7e74d0382a6dd4691cd205b",
            "845bbaeceff74671a8dedba47ba489a0",
            "43a2fafe33d04ede8ea8ab8b73cccf5f",
            "a31f62ea18e949a99e34690fd1ba63db",
            "29aa54c0a2344576b8a443e6db8e0cc1",
            "f0a757719aff4f7ebc91ace547f3362c",
            "900902520c974e43beca3535937a319c",
            "ae99244f7fc640a4aa11e0059d69021b",
            "ab11d771aa874066bf4a48061111e169",
            "a0b80bf3fecb4cc49631e299d523f3cb",
            "1652f9b6b83741d2842c508ae2f1255a",
            "6b7a1b9241584108a15e9187bd6da7e0",
            "f1450beeeee049b1b7422921727487d0",
            "cb7952533210421ea01f8eb10722a35d",
            "778a15cabed04c398e9d4da8f53123ab",
            "cbd249197e5e45c2baf067e05b3826c1",
            "8d157ce973ca47329d32aa3319f407b9",
            "dfb66815f68e4c01a56559baeb452c8f",
            "7e7de4046969453387be2f4e89a7ab4d",
            "eb534e247aff4056a520a6f62ae8e332",
            "8859a8d3bba84229aac1c7841caac8bb",
            "04ce10d56f46411e8ddd529c31ceec8a",
            "1dbdff7b253043c3ab847474d3b12f0b",
            "d16e8f588fb645e7bd8c0cf9dea1dfa3",
            "65321d4eff234447832049b61f07e1b0",
            "89cb03b69ac44b229842f7f8a19cb3d5",
            "cc6326a5225540b4b52f6231a8968ed4",
            "428ca64347c6419799a109220da84df2",
            "70a78af394a24ca18f9c2eb0d11d46ef",
            "587ed208f7674a1a9ed73ed9ab2a1deb",
            "33de18a3c5da422494a40a2df5f74229",
            "94b3b2e4ce164c818116a50e9bf8b581",
            "f53e3ecfd40e4cbab3a99762d5f0a736",
            "be57764af9e24bbfb623facf730607b8",
            "398bb178a8124b679d48238ec2d5b5a7",
            "ac4936c2d54f4237a5dd22c088d92c9f",
            "96a31f50e6dd435b8a0c524d03ccec0a",
            "5582f3ae94b0412e9ff8508697cdcac5",
            "8a0dc83c3f1c4e60a11d436fe53d0ca8",
            "65dd981119394cb8bfaee0acf7c9887c",
            "a65453cc7b9248d19418ec164261abc1",
            "1958e52f99fb4d10869802d857c6f8e1",
            "f78fb815b8264f949e76fa039a6ae657",
            "c2b60ac4aae4409582a3e1b8c1aa9475",
            "af496e4b236c4d6c83e0bd93f3323202",
            "77a2cb4e82bb43c1bb69621a83323a6b",
            "18554750c0974c4f8c8ef03670dd1725",
            "5e4bbae9b56f42a991c2b9c9855a8206",
            "a8dbf6c9079943119b5277baa97982f6",
            "ddeff0a21f254496b0a0667cfeaee594",
            "b7cc330287794e6fa930a6fdb4b371a6",
            "52135543f659444796c73bbebbc84357",
            "7b2b5a163bca40bcaca54a271456b9e8",
            "c939534252d34eb5986d3aec2b82c3a8",
            "c168dbabf0584c3d964aa50fc38b7a51",
            "97c6cef1c31442de83e7011bc692b166",
            "b65e0a4adfd146cda3f5ce8b1a40e9d5",
            "ed47c02a03ca47e7b135e1f4809284d3",
            "6de861b324ed4fa3ac3b68777ebdb961",
            "81b176c1a64249f8a78a51ccd7354dfb",
            "9e24a2c653d346ebb41ebc2618413363",
            "c0fdc68a454e4e199631af3a7cc5ac18",
            "0dcfcbda7a6e470c968a80b13334b4d9",
            "f71dd8bf3e694ab4ac3d8d4e9c53cea7",
            "fa7c55b9d2ae4da5bcab2665e7c1e455",
            "d6340fb80b724b57aa7715219b5c443e",
            "7c80c2ad83bb48e5bef0d24ac37c1952",
            "2b4bb2d11b1d45cfa2b06c0ce13d8d38",
            "e15f61ead42c4e9c82855545d010c5be",
            "897c3e4df15144e78ef1962a27b915c4",
            "7ee76426d6e04ebbbb247c5530cafdf5",
            "be059355c884449e8c6cfc01dcff98cc",
            "e5176813a5414b8f858a4c1808d04c66",
            "5e32a1bf43674eb08828812d001faf24",
            "4f6f93800e244c7e89e870c5fe33bfe3",
            "121ab010bf9d4c6b98e1df3b7a49cb90",
            "4bed5d5cc53844929befbc968c91aaa2",
            "7b053bcd53cc409eb1bb98584f14ad3d",
            "977b842432f8436ea568901921d4977c",
            "d0ba357eea94458e8d87c4c2406770a5",
            "83781721457e48f5b632219207589bf9",
            "7f5152b61710423cb43de3914f5ba875",
            "4e29262d68b345eda3b706cf079ddf17",
            "117ea57dd5f142888337a4152ace0146",
            "792faee13a8b48018ae29c6f731adce7",
            "a67e8baf1af24f30a148eb22c0ce5c65",
            "a4148bddfc99415d9fb461148a9c99b9",
            "91b5cf9fbe7c4a17bcd59825f900af4f",
            "5a20f7ab1ff24048b21b54db92b4eb1a",
            "5da1e8ba8bfa447f91d7e8f9fe1e3e37",
            "bd6f6ca55a4a4c4a8a981f99011370f4",
            "3639cd98cf614ea083e9c9307056efb5",
            "bf934b770cbb46c1b7642f6463d3f1fe",
            "b3dcd700fd544a8688df17626595d3f7",
            "c8480ea139a44400b646a140b5c98542",
            "9657327f54984659b26b88df6423085c",
            "639937c397b444b6b462a0cef5c22fa6",
            "ea786bff716a49ce8db06018b1c22477",
            "77ad0b47e50c43239d71cd6b1ed8c913",
            "16bb6169006c4cae96d81b7c6a3106dd",
            "fb3c84b482a54930a5e9bf7d6781810a",
            "a47fe438c4e44ad695a959cdc7684170",
            "09744a61f6f24894aa9b255d07b1df7f",
            "8ae08b61526a4398b63ed7e41ffad179",
            "9c2cff8a4ee14d9e9c14bd47a3e46e8d",
            "da8447b4f530475080430b1e2210f273",
            "31b7c8113e70466b9005e3d6a673d662",
            "043e4644af2e4400af7a36d2ba726b7e"
          ]
        },
        "id": "QLNq8jr2yJGi",
        "outputId": "306390dc-bdd4-4b15-945b-cb7578d1a88d"
      },
      "execution_count": 49,
      "outputs": [
        {
          "output_type": "stream",
          "name": "stderr",
          "text": [
            "/usr/local/lib/python3.10/dist-packages/huggingface_hub/utils/_token.py:88: UserWarning: \n",
            "The secret `HF_TOKEN` does not exist in your Colab secrets.\n",
            "To authenticate with the Hugging Face Hub, create a token in your settings tab (https://huggingface.co/settings/tokens), set it as secret in your Google Colab and restart your session.\n",
            "You will be able to reuse this secret in all of your notebooks.\n",
            "Please note that authentication is recommended but still optional to access public models or datasets.\n",
            "  warnings.warn(\n"
          ]
        },
        {
          "output_type": "display_data",
          "data": {
            "text/plain": [
              "modules.json:   0%|          | 0.00/341 [00:00<?, ?B/s]"
            ],
            "application/vnd.jupyter.widget-view+json": {
              "version_major": 2,
              "version_minor": 0,
              "model_id": "34e514cbba6c426fa852540829d35dbe"
            }
          },
          "metadata": {}
        },
        {
          "output_type": "display_data",
          "data": {
            "text/plain": [
              "config_sentence_transformers.json:   0%|          | 0.00/122 [00:00<?, ?B/s]"
            ],
            "application/vnd.jupyter.widget-view+json": {
              "version_major": 2,
              "version_minor": 0,
              "model_id": "aa1b41b138304119a62b27ec42e146cb"
            }
          },
          "metadata": {}
        },
        {
          "output_type": "display_data",
          "data": {
            "text/plain": [
              "README.md:   0%|          | 0.00/2.69k [00:00<?, ?B/s]"
            ],
            "application/vnd.jupyter.widget-view+json": {
              "version_major": 2,
              "version_minor": 0,
              "model_id": "b192b5fa541a4573943c141052917f5b"
            }
          },
          "metadata": {}
        },
        {
          "output_type": "display_data",
          "data": {
            "text/plain": [
              "sentence_bert_config.json:   0%|          | 0.00/53.0 [00:00<?, ?B/s]"
            ],
            "application/vnd.jupyter.widget-view+json": {
              "version_major": 2,
              "version_minor": 0,
              "model_id": "004a52902a7f4568a3585bb467254914"
            }
          },
          "metadata": {}
        },
        {
          "output_type": "display_data",
          "data": {
            "text/plain": [
              "config.json:   0%|          | 0.00/610 [00:00<?, ?B/s]"
            ],
            "application/vnd.jupyter.widget-view+json": {
              "version_major": 2,
              "version_minor": 0,
              "model_id": "a0b80bf3fecb4cc49631e299d523f3cb"
            }
          },
          "metadata": {}
        },
        {
          "output_type": "display_data",
          "data": {
            "text/plain": [
              "pytorch_model.bin:   0%|          | 0.00/539M [00:00<?, ?B/s]"
            ],
            "application/vnd.jupyter.widget-view+json": {
              "version_major": 2,
              "version_minor": 0,
              "model_id": "8859a8d3bba84229aac1c7841caac8bb"
            }
          },
          "metadata": {}
        },
        {
          "output_type": "display_data",
          "data": {
            "text/plain": [
              "tokenizer_config.json:   0%|          | 0.00/531 [00:00<?, ?B/s]"
            ],
            "application/vnd.jupyter.widget-view+json": {
              "version_major": 2,
              "version_minor": 0,
              "model_id": "94b3b2e4ce164c818116a50e9bf8b581"
            }
          },
          "metadata": {}
        },
        {
          "output_type": "display_data",
          "data": {
            "text/plain": [
              "vocab.txt:   0%|          | 0.00/996k [00:00<?, ?B/s]"
            ],
            "application/vnd.jupyter.widget-view+json": {
              "version_major": 2,
              "version_minor": 0,
              "model_id": "f78fb815b8264f949e76fa039a6ae657"
            }
          },
          "metadata": {}
        },
        {
          "output_type": "display_data",
          "data": {
            "text/plain": [
              "tokenizer.json:   0%|          | 0.00/1.96M [00:00<?, ?B/s]"
            ],
            "application/vnd.jupyter.widget-view+json": {
              "version_major": 2,
              "version_minor": 0,
              "model_id": "c939534252d34eb5986d3aec2b82c3a8"
            }
          },
          "metadata": {}
        },
        {
          "output_type": "display_data",
          "data": {
            "text/plain": [
              "special_tokens_map.json:   0%|          | 0.00/112 [00:00<?, ?B/s]"
            ],
            "application/vnd.jupyter.widget-view+json": {
              "version_major": 2,
              "version_minor": 0,
              "model_id": "fa7c55b9d2ae4da5bcab2665e7c1e455"
            }
          },
          "metadata": {}
        },
        {
          "output_type": "display_data",
          "data": {
            "text/plain": [
              "1_Pooling/config.json:   0%|          | 0.00/190 [00:00<?, ?B/s]"
            ],
            "application/vnd.jupyter.widget-view+json": {
              "version_major": 2,
              "version_minor": 0,
              "model_id": "121ab010bf9d4c6b98e1df3b7a49cb90"
            }
          },
          "metadata": {}
        },
        {
          "output_type": "display_data",
          "data": {
            "text/plain": [
              "2_Dense/config.json:   0%|          | 0.00/114 [00:00<?, ?B/s]"
            ],
            "application/vnd.jupyter.widget-view+json": {
              "version_major": 2,
              "version_minor": 0,
              "model_id": "a4148bddfc99415d9fb461148a9c99b9"
            }
          },
          "metadata": {}
        },
        {
          "output_type": "display_data",
          "data": {
            "text/plain": [
              "pytorch_model.bin:   0%|          | 0.00/1.58M [00:00<?, ?B/s]"
            ],
            "application/vnd.jupyter.widget-view+json": {
              "version_major": 2,
              "version_minor": 0,
              "model_id": "ea786bff716a49ce8db06018b1c22477"
            }
          },
          "metadata": {}
        },
        {
          "output_type": "stream",
          "name": "stdout",
          "text": [
            "老師 vs 教師 distance = tensor([[0.9929]])\n",
            "老師 vs 泰國 distance = tensor([[0.3189]])\n",
            "教師 vs 泰國 distance = tensor([[0.3134]])\n",
            "商品 vs 貨物 distance = tensor([[0.6787]])\n",
            "商品 vs 跑步 distance = tensor([[0.4246]])\n",
            "貨物 vs 跑步 distance = tensor([[0.4545]])\n"
          ]
        }
      ]
    },
    {
      "cell_type": "code",
      "source": [
        "wordpairs = [['老师', '教师', '泰国'],\n",
        "              ['商品', '货物', '跑步']]\n",
        "\n",
        "for wordpair in wordpairs:\n",
        "    embeddings = model.encode(wordpair)\n",
        "    print(wordpair[0], 'vs',  wordpair[1], 'distance =', util.pytorch_cos_sim(embeddings[0], embeddings[1]))\n",
        "    print(wordpair[0], 'vs',  wordpair[2], 'distance =', util.pytorch_cos_sim(embeddings[0], embeddings[2]))\n",
        "    print(wordpair[1], 'vs',  wordpair[2], 'distance =', util.pytorch_cos_sim(embeddings[1], embeddings[2]))"
      ],
      "metadata": {
        "colab": {
          "base_uri": "https://localhost:8080/"
        },
        "id": "mqw0MBpR2lBw",
        "outputId": "a44cbfb1-f9b8-4701-9f98-3c97c67e9581"
      },
      "execution_count": 78,
      "outputs": [
        {
          "output_type": "stream",
          "name": "stdout",
          "text": [
            "老师 vs 教师 distance = tensor([[0.9646]])\n",
            "老师 vs 泰国 distance = tensor([[0.3492]])\n",
            "教师 vs 泰国 distance = tensor([[0.3385]])\n",
            "商品 vs 货物 distance = tensor([[0.9299]])\n",
            "商品 vs 跑步 distance = tensor([[0.4246]])\n",
            "货物 vs 跑步 distance = tensor([[0.4699]])\n"
          ]
        }
      ]
    },
    {
      "cell_type": "code",
      "source": [
        "SBERT_encoded_train_facts_sentences = []\n",
        "\n",
        "for sentences in tokenized_train_facts_sentences:\n",
        "  encoded_sentences = model.encode(sentences)\n",
        "  SBERT_encoded_train_facts_sentences.append(encoded_sentences)"
      ],
      "metadata": {
        "id": "l-kXCY7_3QF7"
      },
      "execution_count": 177,
      "outputs": []
    },
    {
      "cell_type": "code",
      "source": [
        "SBERT_encoded_test_facts_sentences = []\n",
        "\n",
        "for sentences in tokenized_test_facts_sentences:\n",
        "  encoded_sentences = model.encode(sentences)\n",
        "  SBERT_encoded_test_facts_sentences.append(encoded_sentences)"
      ],
      "metadata": {
        "id": "PyBh7JiMTw0g"
      },
      "execution_count": 178,
      "outputs": []
    },
    {
      "cell_type": "code",
      "source": [
        "print(len(SBERT_encoded_train_facts_sentences))\n",
        "print(len(SBERT_encoded_train_facts_sentences[0]))\n",
        "print(len(SBERT_encoded_train_facts_sentences[0][0]))"
      ],
      "metadata": {
        "colab": {
          "base_uri": "https://localhost:8080/"
        },
        "id": "Vuqhx-NDyOg_",
        "outputId": "0e232ab1-edfa-44bd-a876-82cab9deda48"
      },
      "execution_count": 185,
      "outputs": [
        {
          "output_type": "stream",
          "name": "stdout",
          "text": [
            "500\n",
            "51\n",
            "512\n"
          ]
        }
      ]
    },
    {
      "cell_type": "code",
      "source": [
        "print(type(SBERT_encoded_train_facts_sentences))\n",
        "print(type(SBERT_encoded_train_facts_sentences[0]))\n",
        "print(type(SBERT_encoded_train_facts_sentences[0][0]))"
      ],
      "metadata": {
        "colab": {
          "base_uri": "https://localhost:8080/"
        },
        "id": "PfUxa2av9-IJ",
        "outputId": "e3598964-7bd8-4da5-df25-c1740748880f"
      },
      "execution_count": 189,
      "outputs": [
        {
          "output_type": "stream",
          "name": "stdout",
          "text": [
            "<class 'list'>\n",
            "<class 'numpy.ndarray'>\n",
            "<class 'numpy.ndarray'>\n"
          ]
        }
      ]
    },
    {
      "cell_type": "code",
      "source": [
        "SBERT_encoded_train_facts_sentences_list = [[[elem.tolist() for elem in row] for row in arr] for arr in SBERT_encoded_train_facts_sentences]"
      ],
      "metadata": {
        "id": "OJGIjqIC-NNQ"
      },
      "execution_count": 190,
      "outputs": []
    },
    {
      "cell_type": "code",
      "source": [
        "print(type(SBERT_encoded_train_facts_sentences_list))\n",
        "print(type(SBERT_encoded_train_facts_sentences_list[0]))\n",
        "print(type(SBERT_encoded_train_facts_sentences_list[0][0]))"
      ],
      "metadata": {
        "colab": {
          "base_uri": "https://localhost:8080/"
        },
        "id": "iIZ1VjgZ9JaK",
        "outputId": "7ce1ff93-ddf6-4a54-c42b-1f246cabb26b"
      },
      "execution_count": 191,
      "outputs": [
        {
          "output_type": "stream",
          "name": "stdout",
          "text": [
            "<class 'list'>\n",
            "<class 'list'>\n",
            "<class 'list'>\n"
          ]
        }
      ]
    },
    {
      "cell_type": "code",
      "source": [
        "SBERT_encoded_test_facts_sentences_list = [[[elem.tolist() for elem in row] for row in arr] for arr in SBERT_encoded_test_facts_sentences]"
      ],
      "metadata": {
        "id": "DuoP8PED-cDP"
      },
      "execution_count": 192,
      "outputs": []
    },
    {
      "cell_type": "code",
      "source": [
        "with open('/content/drive/MyDrive/senior/LAB/LawCaseRetreiver/sentence_predict/dataset_new/SBERT_encoded_train_facts_sentences.json', 'w') as f:\n",
        "    json.dump(SBERT_encoded_train_facts_sentences_list, f)\n",
        "with open('/content/drive/MyDrive/senior/LAB/LawCaseRetreiver/sentence_predict/dataset_new/SBERT_encoded_test_facts_sentences.json', 'w') as f:\n",
        "    json.dump(SBERT_encoded_test_facts_sentences_list, f)"
      ],
      "metadata": {
        "id": "cIWDt3AFLCAm"
      },
      "execution_count": 193,
      "outputs": []
    },
    {
      "cell_type": "code",
      "source": [
        "import numpy as np\n",
        "from sklearn.metrics.pairwise import cosine_similarity"
      ],
      "metadata": {
        "id": "q9Sxaz2P5IHH"
      },
      "execution_count": 84,
      "outputs": []
    },
    {
      "cell_type": "code",
      "source": [
        "def calculate_similarity_matrix(encoded_sentences):\n",
        "    num_sentences = len(encoded_sentences)\n",
        "    similarity_matrix = np.zeros((num_sentences, num_sentences))\n",
        "\n",
        "    for i in range(num_sentences):\n",
        "        for j in range(num_sentences):\n",
        "            similarity_matrix[i][j] = cosine_similarity([encoded_sentences[i]], [encoded_sentences[j]])[0, 0]\n",
        "\n",
        "    return similarity_matrix"
      ],
      "metadata": {
        "id": "sYpmLngv5u6z"
      },
      "execution_count": 85,
      "outputs": []
    },
    {
      "cell_type": "code",
      "source": [
        "def SBERT_generate_summary(encoded_sentences, facts_sentences, tokenized_facts_sentences, num_sentences=3):\n",
        "    similarity_matrix = calculate_similarity_matrix(encoded_sentences)\n",
        "    sentence_scores = similarity_matrix.sum(axis=1)\n",
        "    ranked_indices = np.argsort(sentence_scores)[::-1][:num_sentences]  # 排序後句字的索引\n",
        "\n",
        "    # 根據排名選擇句子\n",
        "    summary_encoded_sentences = [encoded_sentences[i] for i in ranked_indices]\n",
        "    summary_tokenized_sentences = [tokenized_facts_sentences[i] for i in ranked_indices]\n",
        "    summary_sentences = [facts_sentences[i] for i in ranked_indices]\n",
        "\n",
        "    return summary_tokenized_sentences, summary_sentences"
      ],
      "metadata": {
        "id": "s5Fb8iwD5zGo"
      },
      "execution_count": 142,
      "outputs": []
    },
    {
      "cell_type": "code",
      "source": [
        "train_facts[0]"
      ],
      "metadata": {
        "colab": {
          "base_uri": "https://localhost:8080/",
          "height": 214
        },
        "id": "G6hk40777vVT",
        "outputId": "54b14729-0368-4694-ef8a-77f9b97ad851"
      },
      "execution_count": 107,
      "outputs": [
        {
          "output_type": "execute_result",
          "data": {
            "text/plain": [
              "'一、陳泰龍明知其與泰國籍女子陳玉婉（泰國名字為JARUWANWONGPRATOOM，陳玉婉涉嫌本案偽造文書部分，另經臺灣臺南地方法院檢察署檢察官通緝中）間並無結婚之真意，然因詹巧薇、張晉源等人欲找臺灣男子前往泰國與泰國女子辦理假結婚，林清水負責介紹臺灣男子予詹巧薇、張晉源等人以賺取新臺幣（下同）1萬元之仲介費，適陳泰龍依林清水於報紙上刊登之徵人廣告應徵時，由林清水告知泰國女子欲以假結婚之方式申請來臺居留工作，其若擔任假結婚之人頭老公，除不用負擔前往泰國之食宿、機票費用外，尚可獲取5、6萬元之報酬，迨陳泰龍應允同意後，林清水將其轉介紹予詹巧薇、張晉源等人，陳泰龍遂與林清水、詹巧薇、張晉源等人共同基於行使使公務員登載不實公文書之概括犯意聯絡，先由陳泰龍依指示於民國93年4月3日前往泰國，並於同年月7日與陳玉婉在泰國曼谷市法拉坎農區註冊辦事處登記結婚，取得上開註冊辦事處核發之結婚登記書、結婚證書等文件後，陳泰龍即行返臺，並於同年5月19日持經我國駐泰國臺北經濟文化辦事處認證之上開結婚登記書、結婚證書等資料，至臺南縣永康市（改制前稱謂，以下沿用舊制稱謂）戶政事務所填寫結婚登記申請書，申請辦理其與陳玉婉之結婚登記，因此使上開戶政事務所僅有形式審查權之承辦公務員陷於錯誤，於形式上審核後，將陳泰龍與陳玉婉於93年4月7日結婚之不實事項，登載於其職務上所掌屬公文書之戶籍登記資料內，並據以核發戶籍謄本，而足以生損害於戶政機關對於戶政管理及戶籍登記資料維護之正確性。迨陳玉婉來臺後，為取得居留身分，再由陳泰龍、陳玉婉承前概括之犯意聯絡，於同年6月14日及94年5月5日，均持前開登載不實之戶籍謄本等資料，先後向臺南縣政府警察局外事課申請核發陳玉婉之外僑居留證及申請居留證延期而連續行使之（業經檢察官當庭補充），經承辦人員實質審查結果，均未發覺陳泰龍與陳玉婉假結婚之實情，而發給陳玉婉居留證或核准延期，各足以生損害於主管機關對外僑居留管理之正確性。二、案經臺南市警察局（現改制為臺南市政府警察局，以下沿用舊制稱謂）第一分局報告臺灣臺南地方法院檢察署檢察官偵查起訴。理由甲、程序方面：一、本件以下所引用具傳聞證據性質之供述證據，因本件被告陳泰龍、檢察官等人於本院準備程序進行時，均未爭執前開陳述之證據能力，且迄至本案言詞辯論終結前亦均未聲明異議，應視為已同意援引作為證據，又本院審酌前開證據作成時之情況及證據取得過程等節，並無非出於任意性、不正取供或其他違法不當情事，且客觀上亦無顯不可信之情況，堪認為適當，是依刑事訴訟法第159條之5規定，均有證據能力。二、卷附之被告及陳玉婉入出國日期紀錄各1份等書證，均非屬供述證據，皆無傳聞法則之適用，復均無違反法定程序取得之情形，依刑事訴訟法第158條之4規定之反面解釋，均應有證據能力。乙、實體方面：一、訊據被告固坦承於上開時、地，透過共犯林清水之介紹，先至泰國辦理與共犯陳玉婉之結婚手續，再前往臺南縣永康市戶政事務所辦理結婚登記，又前往臺南縣政府警察局外事課辦理共犯陳玉婉之外僑居留證及申請居留證延期之事實，惟矢口否認有何行使使公務員登載不實文書情事，於本院審理時辯稱：伊當時經濟狀況良好，因同居女友欲去日本工作而不願結婚，然伊希望結婚生子，遂透過共犯林清水之介紹與安排，共犯林清水先讓伊看過共犯陳玉婉之照片，伊再前往泰國與共犯陳玉婉結婚，伊僅負擔自己的來回機票錢及泰國住宿費用，其他結婚費用均由共犯林清水負擔，伊則贈送伊的一部機車予共犯林清水以為回報，伊並不認識共犯詹巧薇云云。經查：(一)被告於93年4月3日前往泰國，並於同年月7日與共犯陳玉婉在泰國曼谷市法拉坎農區註冊辦事處登記結婚，取得上開註冊辦事處核發之結婚登記書、結婚證書等文件後，被告即行返臺，並於同年5月19日持經我國駐泰國臺北經濟文化辦事處認證之上開結婚登記書、結婚證書等資料，至臺南縣永康市戶政事務所填寫結婚登記申請書，申請辦理其與共犯陳玉婉之結婚登記，並取得戶籍謄本。迨共犯陳玉婉來臺後，為取得居留身分，被告與共犯陳玉婉於同年6月14日及94年5月5日，均持前開戶籍謄本等資料，先後向臺南縣政府警察局外事課申請核發共犯陳玉婉之外僑居留證及申請居留證延期等情，業據被告供承在卷，並有結婚登記申請書、授權書各1份、結婚登記書、結婚證書各1份（含中文、泰文影本及我國駐泰國臺北經濟文化辦事處認證之資料）、93年6月14日及94年5月5日之外國人居留停留案件聲請表各1份、被告及共犯陳玉婉之入出國日期紀錄各1份、共犯陳玉婉之外僑居留資料查詢1份在卷可按（見警三卷即南市警一刑偵字第0994101517號卷第6至24、33頁）。上開事實，首堪認定。(二)共犯詹巧薇、張晉源等人當時欲找臺灣人與泰國女子結婚，由共犯林清水於報紙上刊登徵人廣告，若應徵者符合與泰國人結婚之條件，便將應徵者介紹予共犯詹巧薇、張晉源等人，共犯林清水可從中獲取1萬元之仲介費，適被告依前開徵人廣告應徵，共犯林清水衡量其條件後告知其可至泰國結婚，其除不用負擔前往泰國之機票及食宿費用外，尚可獲取5至6萬元之報酬，被告應允同意後，共犯林清水將其介紹予詹巧薇、張晉源等人，被告即依指示前往泰國與為了來臺工作且無結婚真意的共犯陳玉婉辦理結婚事宜等情，業據共犯林清水於警詢時證稱：伊登報徵人到泰國結婚，被告看報紙來的，伊便轉介予共犯詹巧薇，由共犯詹巧薇安排後續到泰國結婚之事宜，被告除不用負擔前往泰國機票、食宿等費用，尚可獲取約5至6萬元酬勞，伊則可自共犯詹巧薇獲取約1萬元之仲介費用；伊只有將被告轉介予共犯詹巧薇，並未參與後續被告前往泰國之證照、機票、食宿等相關事宜；被告係因缺錢，為了賺取擔任人頭配偶的佣金5至6萬，並不是真的要與泰國人結婚，共犯陳玉婉係為了來臺灣工作賺錢，亦不是真的要與臺灣人結婚等語（見警三卷第2至3頁）；並於本院審理時具結證稱：當初共犯詹巧薇、張晉源等人欲找男子前往泰國結婚，伊曾刊登「男、女不限、經驗不拘」等內容之徵人廣告，被告見報應徵時，被告係因缺錢才來找伊，伊衡量被告條件後認為其只能利用結婚賺取報酬，伊才向其表示是要辦結婚，伊告知被告可安排其去泰國結婚，其不用負擔食宿及機票等費用，可實拿5至6萬元的報酬，被告同意後，伊將被告介紹予共犯詹巧薇、張晉源，共犯張晉源給付佣金1萬元予伊；伊與被告談論泰國結婚事宜時，伊與被告均不知被告之結婚對象為何人，伊亦未見過與被告結婚之泰國女子，伊僅介紹被告予共犯詹巧薇、張晉源等人，伊並未參予後續之泰國結婚、辦理結婚登記及居留申請等事情；被告曾給伊一部機車，當時被告表示要去別的地方，機車留在臺南無人使用，伊修理使用一段期間後，因再度壞掉便未再使用等語（見本院卷第68頁背面至71頁）。而共犯林清水於93、94年間，因仲介臺灣人民陳益昌、林哲銘、廖震南、陳朝榮、王照明等5人擔任人頭老公與泰國女子假結婚，陳益昌等5人均獲取5至7萬元報酬等情，經本院以95年度簡上字第330號判處有期徒刑7月確定，另共犯詹巧薇於92年間，因與共犯張晉源等人共同仲介臺灣人民莊國寶、林世欽、蔡明峰等3人擔任人頭老公與泰國女子假結婚等情，經本院以99年度簡字第1313號判處有期徒刑4月並減為有期徒刑2月確定，又共犯林清水、詹巧薇因本案被告與共犯陳玉婉辦理假結婚致涉嫌共同行使使公務員登載不實文書犯行部分，經臺灣臺南地方法院檢察官認為與前開95年度簡上字第330號、99年度簡字第1313號論罪科刑部分有連續犯之裁判上一罪關係，故均以99年度偵字第17571、17771號、100年度偵字第4564號為不起訴處分確定，有前開判決書及不起訴處分書各1份在卷可按，堪認共犯林清水、詹巧薇、張晉源確曾仲介或安排臺灣男子前往泰國與泰國女子假結婚無訛。又被告與共犯林清水並無任何仇怨糾葛，被告尚提供一部機車予共犯林清水使用，衡諸常情，共犯林清水尚無隨意誣指構陷被告之動機，復衡以其於本院中具結後證述上情歷歷，核與其警詢中證述之情節大致相符，苟非親身經歷，尚均無圖陷被告入罪而自行擔負偽證罪責風險之必要，顯見其確係依憑當時親身見聞所為之證述，參以被告於93年4月26日將戶籍遷移寄放至共犯林清水籍設於臺南縣永康市○○路152號之住所，其戶籍遷入目的係為了便利結婚登記之辦理，被告亦依此戶籍地向臺南縣永康市戶政事務所辦理其與共犯陳玉婉之結婚登記等情，業據被告於本院審理時供承伊戶籍寄放於前開住址不諱，及共犯林清水於本院審理時具結證稱：被告將戶籍寄放於伊住所是為了辦理結婚，要拿證件辦理結婚登記比較方便等語（見本院卷第70頁），並有被告及共犯林清水之個人戶籍資料查詢結果各1份、結婚登記申請書1份在卷可佐，而前開95年度簡上字第330號案件中之人頭老公林哲銘亦由共犯林清水提供前開住所供其設籍，並依該戶籍地辦理結婚登記等情，亦據證人林哲銘於警詢時證述明確（見警二卷第19頁），並有證人林哲銘之結婚登記申請書1紙附卷可佐（見警二卷第46頁），益徵被告確係共犯林清水仲介之人頭老公的其中一人甚明。(三)綜上所述，被告與共犯陳玉婉確係假結婚無訛，是被告前開所辯，要屬卸責之詞，殊無可採。本案事證至臻明確，被告上開犯行堪以認定，應予依法論科。二、按被告行為後，刑法業於民國94年2月2日修正公布，並自95年7月1日施行。按行為後法律有變更者，適用行為時之法律，但行為後之法律有利於行為人者，適用最有利於行為人之法律，修正後刑法第2條第1項定有明文。該規定係規範行為後法律變更所生新舊法律比較適用之準據法，是刑法第2條本身雖經修正，尚無比較新舊法之問題，應一律適用裁判時之刑法第2條規定。次按本次刑法修正之新舊法比較，應就罪刑有關之共犯、未遂犯、想像競合犯、牽連犯、連續犯、結合犯、以及累犯加重、自首減輕暨其他法定加減原因（如身分加減）與加減例等一切情形，綜其全部罪刑之結果而為比較，有最高法院95年5月23日95年度第8次刑庭會議決議可資參照。經查：(一)依增訂之刑法施行法第1條之1：「中華民國94年1月7日刑法修正施行後，刑法分則編所定罰金之貨幣單位為新臺幣。94年1月7日刑法修正時，刑法分則編未修正之條文定有罰金者，自94年1月7日刑法修正施行後，就其所定數額提高為30倍。但72年6月26日至94年1月7日新增或修正之條文，就其所定數額提高為3倍。」，是比較修正後刑法施行法第1條之1第2項與罰金罰鍰提高標準條例第1條之結果，因兩者之罰金最高額度相同而無有利不利之情形，自無刑法第2條第1項之適用，應逕依現行有效且具特別法性質之刑法施行法第1條之1的規定。(二)刑法第33條第5款修正為：「主刑之種類如下：五、罰金：新臺幣1000元以上，以百元計算之。」，是依修正後之法律，刑法第335條第1項之侵占罪所得科處之罰金刑最低為新臺幣1000元，而另依修正前刑法第33條第5款及罰金罰鍰提高標準條例第1條前段規定，罰金最低額則為銀元1元折算為新臺幣3元，故比較新舊法之結果，自以修正前刑法第33條第5款規定較有利於被告。(三)刑法第28條修正前規定為：「2人以上共同實施犯罪之行為者，皆為正犯。」，而修正後規定為：「2人以上共同實行犯罪之行為者，皆為正犯。」，是依修正後之規定係將共同正犯限於直接從事構成犯罪事實之行為者，而排除陰謀共同正犯及預謀共同正犯之類型，故修正後共同正犯之可罰性要件之範圍業已限縮。惟本件被告既係直接從事構成犯罪事實之行為，則比較修正前後規定之結果，並無有利或不利之情形，應逕依修正後規定。(四)刑法第56條連續犯之規定於刑法修正後業經刪除，是新法修正施行後，行為人之數犯罪行為便須分論併罰。是該項刪除雖非犯罪構成要件之變更，但已影響行為人刑罰之法律效果，自屬法律有所變更而有比較新舊法之必要。若依舊法之規定，以一罪論而僅加重其刑至2分之1，但若依新法則須分科併罰，經比較之結果，自以修正前刑法第56條對被告較為有利。(五)綜上，本院綜合被告所涉上揭全部罪行之一切情形而為比較，揆諸前揭最高法院決議及刑法第2條第1項前段規定，被告適用行為時即修正前刑法之相關規定，對其較為有利，自應一體適用修正前刑法規定予以處斷。三、論罪科刑：(一)核被告所為，係犯刑法第216條、第214條之行使使公務員登載不實文書罪。被告與共犯林清水、詹巧薇、張晉源等人就上揭犯行，彼此間有犯意聯絡及行為分擔，為共同正犯。被告使公務員登載不實事項於其所掌公文書之低度行為，為行使之高度行為所吸收，不另論罪。被告於93年5月19日、93年6月14日及94年5月5日先後多次行使使公務員登載不實文書之犯行，時間密接，所犯係構成要件相同之罪名，顯係基於概括犯意反覆為之，為連續犯，應依修正前刑法第56條規定論以一罪，並加重其刑。(二)爰審酌被告為圖私利，竟藉由假結婚之方式便利共犯陳玉婉入境居留，損害戶政機關結婚登記及主管機關對於外國人居留管理之正確性，對社會秩序、善良風俗及警政機關對治安之管理均非無潛在之危害，復參酌被告犯後自始否認犯行，未見悔意，及其智識程度、生活狀況等一切情狀，量處如主文所示之刑，以資懲儆。另被告行為後，關於易科罰金之折算標準，依修正前刑法第41條第1項前段及廢止前罰金罰鍰提高標準條例第2條，係以銀元1百元、2百元或3百元，即新臺幣3百元、6百元或9百元折算1日，而依修正後刑法第41條第1項前段規定，則係以新臺幣1千元、2千元或3千元折算1日，故依刑法第2條第1項前段之規定來比較新舊法之結果，應適用修正前之規定較為有利，爰依修正前刑法第41條第1項前段及廢止前罰金罰鍰提高標準條例第2條諭知易科罰金之折算標準。又被告之犯罪時間係在96年4月24日以前，所犯合於中華民國九十六年罪犯減刑條例之減刑條件，應依該條例第2條第1項第3款、第7條及第9條，減其宣告刑2分之1，並諭知易科罰金之折算標準。四、末按連續數行為而犯同一之罪名，均在新法施行前者，新法施行後，應依新法第2條第1項之規定，適用最有利於行為人之法律。部分之數行為，發生在新法施行前者，新法施行後，該部分適用最有利於行為人之法律。若其中部分之一行為或數行為，發生在新法施行後者，該部分不能論以連續犯（最高法院95年度第8次刑事庭會議決議參照，即該決議五數罪併罰之(四)連續犯部分）。查被告涉嫌於96年5月28日及96年9月3日與共犯陳玉婉共同持前開登載不實之戶籍謄本等資料，先後向臺南縣政府警察局外事課申請核發陳玉婉之延期居留等事宜，有96年5月28日及96年9月3日之外國人居留停留案件申請表各1份附卷可憑，被告此部分涉嫌共同行使使公務員登載不實文書犯行，均在95年7月1日刑法修正廢除第56條連續犯規定以後，亦未據檢察官記載於起訴書犯罪事實內，揆諸前開說明，此部分犯行與前開論罪科刑部份無連續犯之裁判上一罪關係，自非本院得審判之範圍，附此敘明之。據上論斷，應依刑事訴訟法第299條第1項前段，刑法第2條第1項前段、第28條、第216條、第214條，修正前刑法第56條、第41條第1項前段，刑法施行法第1條之1，修正廢止前罰金罰鍰提高標準條例第2條，中華民國96年罪犯減刑條例第2條第1項第3款、第7條、第9條，判決如主文。本案經檢察官莊玲如到庭執行職務。中華民國101年1月20日刑事第四庭審判長法官林逸梅法官鄭文祺法官莊政達以上正本證明與原本無異。如不服本判決應於收受本判後10日內向本院提出上訴書狀，並應敘述具體理由。其未敘述上訴理由者，應於上訴期間屆滿後20日內向本院補提理由書狀（均須按他造當事人之人數附繕本）「切勿逕送上級法院」。書記官吳昕韋中華民國101年2月1日附錄本案論罪科刑法條：中華民國刑法第214條（使公務員登載不實罪）明知為不實之事項，而使公務員登載於職務上所掌之公文書，足以生損害於公眾或他人者，處3年以下有期徒刑、拘役或5百元以下罰金。中華民國刑法第216條（行使偽造變造或登載不實之文書罪）行使第210條至第215條之文書者，依偽造、變造文書或登載不實事項或使登載不實事項之規定處斷。'"
            ],
            "application/vnd.google.colaboratory.intrinsic+json": {
              "type": "string"
            }
          },
          "metadata": {},
          "execution_count": 107
        }
      ]
    },
    {
      "cell_type": "code",
      "source": [
        "summary_tokenized_sentences, summary_sentences = SBERT_generate_summary(SBERT_encoded_train_facts_sentences[0],train_facts_sentences[0],tokenized_train_facts_sentences[0])"
      ],
      "metadata": {
        "id": "-Y0xRYw24pUm"
      },
      "execution_count": 143,
      "outputs": []
    },
    {
      "cell_type": "code",
      "source": [
        "for sentence in summary_tokenized_sentences:\n",
        "  print(sentence)\n",
        "for sentence in summary_sentences:\n",
        "  print(sentence)"
      ],
      "metadata": {
        "colab": {
          "base_uri": "https://localhost:8080/"
        },
        "id": "4re_TiRz-fbT",
        "outputId": "656e9dc2-4a43-48b9-c8ad-0def6ee3ec7f"
      },
      "execution_count": 144,
      "outputs": [
        {
          "output_type": "stream",
          "name": "stdout",
          "text": [
            "查 被告 涉嫌 于 与 共犯 共同 持前 开 登载 不实 户籍誊本 资料 先后 县政府 警察局 外事 课 申请 核发 延期 居留 事宜 外国人 居留 停留 案件 申请表 份 附 卷 可凭 被告 部分 涉嫌 共同 行使 使 公务员 登载 不实 文书 犯行 刑法 废除 条 连续犯 规定 以后 亦 未 据 检察官 记载 于 起诉书 犯罪事实 内 揆 诸 前开 说明 部分 犯行 与 前 开 论罪 科刑 部份 无 连续犯 裁判 罪 关系 自非 本院 审判 范围 附此\n",
            "论罪 科刑 核 被告 所为 系犯 刑法 条 条 行使 使 公务员 登载 不实 文书 罪\n",
            "被告 行为 后 关于 罚金 折算 标准 前 刑法 条 项 前段 废止 前 罚金 罚 锾 提高 标准 条例 条 系 银元 百元 百元 百元 新台币 百元 百元 百元 折算 日 后 刑法 条 项 前段 规定 则 系 新台币 千元 千元 千元 折算 日 刑法 条 项 前段 规定 来 比较 法 结果 应 适用 前 规定 较为 有利 爰 前 刑法 条 项 前段 废止 前 罚金 罚 锾 提高 标准 条例 条 谕知 罚金 折算 标准\n",
            "查被告涉嫌於96年5月28日及96年9月3日與共犯陳玉婉共同持前開登載不實之戶籍謄本等資料，先後向臺南縣政府警察局外事課申請核發陳玉婉之延期居留等事宜，有96年5月28日及96年9月3日之外國人居留停留案件申請表各1份附卷可憑，被告此部分涉嫌共同行使使公務員登載不實文書犯行，均在95年7月1日刑法修正廢除第56條連續犯規定以後，亦未據檢察官記載於起訴書犯罪事實內，揆諸前開說明，此部分犯行與前開論罪科刑部份無連續犯之裁判上一罪關係，自非本院得審判之範圍，附此敘明之\n",
            "三、論罪科刑：(一)核被告所為，係犯刑法第216條、第214條之行使使公務員登載不實文書罪\n",
            "另被告行為後，關於易科罰金之折算標準，依修正前刑法第41條第1項前段及廢止前罰金罰鍰提高標準條例第2條，係以銀元1百元、2百元或3百元，即新臺幣3百元、6百元或9百元折算1日，而依修正後刑法第41條第1項前段規定，則係以新臺幣1千元、2千元或3千元折算1日，故依刑法第2條第1項前段之規定來比較新舊法之結果，應適用修正前之規定較為有利，爰依修正前刑法第41條第1項前段及廢止前罰金罰鍰提高標準條例第2條諭知易科罰金之折算標準\n"
          ]
        }
      ]
    },
    {
      "cell_type": "code",
      "source": [
        "train_facts[1]"
      ],
      "metadata": {
        "colab": {
          "base_uri": "https://localhost:8080/",
          "height": 625
        },
        "id": "drNBJFgt8qnV",
        "outputId": "9fca76da-9c4e-41be-8f45-a68d0635a4c5"
      },
      "execution_count": 110,
      "outputs": [
        {
          "output_type": "execute_result",
          "data": {
            "text/plain": [
              "'一、緣甲○○於民國100年11月1日上午7時許，在臺南市北安橋路旁拾得可發射子彈具有殺傷力之槍枝（槍枝管制編號：0000000000號）後持有之，並於100年11月6日主動向員警坦承犯行而自首接受裁判。甲○○竟於本院審理該案（100年度訴字第1635號）時編造其母楊陳敏於100年11月1日經急診住院接受治療，其係為照顧住院之母親楊陳敏才遲延報繳槍枝之情節，辯稱其無持有可發射子彈具有殺傷力槍枝之犯意。甲○○為取信於法院乃基於行使偽造私文書之犯意，於100年11月6日至101年1月12日間某日在不詳地點，偽刻奇美醫療財團法人奇美醫院（下稱奇美醫院）、院長邱仲慶及醫師甲○○之印章各1顆，再偽造如附表編號四所示診斷證明書（下稱系爭診斷證明書）提出於本院（收件日期為101年1月12日），表示系爭診斷證明書記載之內容業經認證屬實之意，足以生損害於奇美醫院、邱仲慶、甲○○及國家司法權行使之正確性。嗣本院於該案審理中函詢奇美醫院發覺有異，始循線查悉上情。二、案經臺灣臺南地方法院檢察署檢察官簽分後偵查起訴。理由一、訊據被告甲○○矢口否認有前揭行使偽造私文書之犯行，辯稱：其去奇美醫院申請的診斷證明書就是這樣，沒有偽造如附表所示之印章及診斷證明書云云。惟查：(一)被告於100年12月21日於他案（本院100年度訴字第1635號）具狀陳稱：其因照顧急診住院之母親而遲延報繳槍枝，實無持有可發射子彈具有殺傷力槍枝之犯意云云，復向本院提出如附表所示診斷證明書以為佐證（收文日期：101年1月12日）等情，有被告於該案提出之刑事答辯狀2份、診斷證明書1紙在卷可佐（見本院100年度訴字第1635號刑事卷宗第1宗第16頁至第18頁、第32頁至第35頁），足堪認定。然被告之母楊陳敏於100年11月1日至100年11月7日間，無前往奇美醫院急診或門診之就診紀錄，亦有三親等資料查詢結果表、奇美醫院101年2月14日(101)奇醫字第0608號函暨所附病歷、行政院衛生署中央健康保險局（現改制為衛生福利部中央健康保險署）101年6月1日健保南字第0000000000號函暨所附就醫紀錄明細表各1份在卷可稽（見臺灣臺南地方法院檢察署102年度他字第1857號偵查卷宗第27頁、本院100年度訴字第1635號刑事卷宗第1宗第92頁至第117頁、第2宗第5頁至第7頁），可知被告之母楊陳敏於100年11月1日並未前往奇美醫院急診。(二)被告向本院提出之系爭診斷證明書固可逼真，惟相較於卷附真正之診斷證明書病歷資料，系爭診斷證明書上奇美醫院、邱仲慶、甲○○之印章，與真正之印章於字體及文字大小均有些微差異，系爭診斷證明書之格式及字樣與真正之診斷證明書復不相同，有奇美醫院101年6月4日(101)奇醫字第2594號函暨所附病歷在卷可憑（見本院100年度訴字第1635號刑事卷宗第2宗第2頁至第3頁、第13頁）。何況奇美醫院未曾核發系爭診斷證明書，亦有奇美醫院101年5月9日(101)奇醫字第2140號函暨所附病歷在卷可考（見本院100年度訴字第1635號刑事卷宗第1宗第186頁至第187頁）。被告向本院提出之系爭診斷證明書顯係偽造無訛。(三)再參被告於他案辯稱：其於100年11月1日深夜即100年11月2日清晨，忽然接到電話通知其母楊陳敏再度中風，其心急如焚而立即趕往奇美醫院照料並在加護病房守候數日，俟其母楊陳敏因病情獲得控制轉至普通病房，才抽空將拾獲之槍枝向治安單位說明云云（見本院100年度訴字第1635號刑事卷宗第1宗第33頁），核與系爭診斷證明書上所載：「……民國100年11月01日00：25病人於急診就診，於11月06日14：25轉至加護病房治療……」不符，益徵被告係為脫卸其非法持有可發射子彈具殺傷力槍枝之責，始虛構前開急診住院之情節並偽造系爭診斷證明書。蓋因被告前揭所辯情詞及系爭診斷證明書若確屬實，急診日期應記載為「100年11月2日」而非「100年11月1日」，轉送治療之處亦應記載為「普通病房」而非「加護病房」，否則被告苟於100年11月1日凌晨0時25分許，已經趕至奇美醫院照護守候其母楊陳敏而未離開，被告當無可能於當上午7時許在臺南市北安橋路旁拾得前開槍枝，又被告之母楊陳敏苟於100年11月6日下午2時25分許才轉至加護病房，被告亦無可能於100年11月6日主動向員警坦承犯行前，即已於奇美醫院加護病房守候其母楊陳敏數日。上述明顯之瑕疵益證系爭診斷證明書確係偽造而成。(四)被告於100年11月6日始主動向員警坦承持有前開槍枝，於該日前尚無偽造系爭診斷證明書之需要及動機，應可排除被告於100年11月6日前著手為本件犯行之可能，而本院既係於101年1月12日收到系爭診斷證明書，系爭診斷證明書當應於101年1月12日以前即已偽造完成。(五)綜上所述，被告所辯無非飾卸之詞，委無可採。本案事證明確，被告犯行堪以認定，應依法論科。二、蓋用私立奇美醫院及該院院長與醫師之印章所製作診斷證明書，係表示醫師之判斷意見及診斷證明書上記載事項業經認證之意，應屬私文書。被告偽造系爭診斷證明書以表示其記載內容經認證屬實，藉此使他人認為系爭診斷證明書所載之內容，經邱仲慶代表奇美醫院暨甲○○以本人名義認證屬實，足以生損害於奇美醫院、邱仲慶、甲○○；被告持系爭診斷證明書向本院行使，企圖使本院採信其因照護母親楊陳敏而遲延報繳槍枝之辯詞，足以生損害於國家司法權行使之正確性。核被告所為，係犯刑法第216條、第210條之行使偽造私文書罪。被告偽刻如附表編號一至編號三所示之印章，持之偽造如附表編號四所示之印文及診斷證明書，其偽造印章及印文均屬偽造私文書之部分行為；又被告偽造系爭診斷證明書後持之向本院行使，偽造私文書之行為應為行使偽造私文書之高度行為所吸收，均不另論罪。檢察官雖未起訴被告偽造如附表編號一所示印章、偽造如附表編號四所示「奇美醫療財團法人奇美醫院證明用章」之印文，惟該部分犯行與已起訴部分犯行有實質上一罪關係，自為起訴效力所及而得由本院併予審理。被告前因違反兒童及少年性交易防制條例等案件，經臺灣高等法院臺南分院分別以91年度少連上訴字第1355號刑事判決，判處有期徒刑3年9月併科罰金新臺幣（下同）110,000元，以91年度上訴字第323號刑事判決判處有期徒刑7月確定，又經本院以91年度易字第843號刑事判決判處有期徒刑7月（經臺灣高等法院臺南分院以91年度上易字第1197號刑事判決駁回上訴確定），嗣經法院裁定部分減刑及定應執行有期徒刑4年2月併科110,000元確定（臺灣高等法院臺南分院96年度聲減字第505號），於92年2月20日入監服刑至執畢日期96年7月16日（易服勞役期間為96年7月16日至96年11月14日），有臺灣高等法院被告前案紀錄表1份在卷可佐，其於5年以內故意再犯本件有期徒刑以上之罪，為累犯，應依刑法第47條第1項加重其刑。爰審酌被告教育程度不高且無子女需要扶養，入監執行前月收入約20,000元至30,000元，為飾卸刑責竟行使偽造系爭診斷證明書，企圖取信於法院而為其無罪之判決，足以生損害於奇美醫院、邱仲慶、甲○○及國家司法權行使之正確性，罪證確鑿猶矢口否認且未見悔意等一切情狀，量處如主文所示之刑。偽造如附表編號一至編號三所示之印章雖未扣案，但無證據證明已滅失，另偽造如附表編號四所示「奇美醫療財團法人奇美醫院證明用章」、「奇美醫院院長邱仲慶（乙）」、「急診醫學科甲○○診斷書用」之印文，不問屬於犯人與否，均依刑法第219條之規定宣告沒收。系爭診斷證明書經被告提出於本院而行使，非屬被告所有之物，爰不予宣告沒收。據上論斷，應依刑事訴訟法第299條第1項前段，刑法第216條、第210條、第47條第1項、第219條，判決如主文。本案經檢察官李宗榮到庭執行職務。中華民國102年11月5日刑事第五庭審判長法官包梅真法官陳淑勤法官陳谷鴻以上正本證明與原本無異。如不服本判決，應於收受判決後10日內向本院提出上訴書狀，並應敘述具體理由；未敘述上訴理由者，應於上訴期間屆滿後20日內向本院補提理由書（均須按他造當事人之人數檢附繕本）。告訴人或被害人如對本判決有不服者，得具備理由請求檢察官上訴。書記官林幸萱中華民國102年11月7日【附表】'"
            ],
            "application/vnd.google.colaboratory.intrinsic+json": {
              "type": "string"
            }
          },
          "metadata": {},
          "execution_count": 110
        }
      ]
    },
    {
      "cell_type": "code",
      "source": [
        "summary_tokenized_sentences, summary_sentences = SBERT_generate_summary(SBERT_encoded_train_facts_sentences[1],train_facts_sentences[1],tokenized_train_facts_sentences[1])"
      ],
      "metadata": {
        "id": "tS_REPnE8qUY"
      },
      "execution_count": 145,
      "outputs": []
    },
    {
      "cell_type": "code",
      "source": [
        "for sentence in summary_tokenized_sentences:\n",
        "  print(sentence)\n",
        "for sentence in summary_sentences:\n",
        "  print(sentence)"
      ],
      "metadata": {
        "colab": {
          "base_uri": "https://localhost:8080/"
        },
        "id": "JEgL4zkR-7n0",
        "outputId": "c29c3db2-4504-43de-8858-64c41a3faf3d"
      },
      "execution_count": 146,
      "outputs": [
        {
          "output_type": "stream",
          "name": "stdout",
          "text": [
            "甲 为 取信于 法院 基于 行使 伪造 私 文书 犯意 于 间 某日 不详 地点 伪刻 奇美 医疗 财团法人 奇美 医院 下称 奇美 医院 院长 医师 甲 印章 颗 伪造 附表 编号 所示 诊断 证明书 下称 系争 诊断 证明书 提出 于 本院 收件 日期 为 表示 系争 诊断 证明书 记载 内容 业经 认证 属实 足以 生 损害 于 奇美 医院 甲 国家 行使 正确性\n",
            "理由 据 被告 甲 矢口否认 前 揭 行使 伪造 私 文书 犯行 辩称 奇美 医院 申请 诊断 证明书 这样 没有 伪造 附表 所示 印章 诊断 证明书\n",
            "伪造 附表 编号 一至 编号 所示 印章 虽 未扣 案 无证据 证明 已 灭失 伪造 附表 编号 所示 奇美 医疗 财团法人 奇美 医院 证明 用章 奇美 医院院长 乙 急诊 医学 科甲 诊断书 印文 不问 属于 犯人 与否 均依 刑法 条 规定 宣告 没收\n",
            "甲○○為取信於法院乃基於行使偽造私文書之犯意，於100年11月6日至101年1月12日間某日在不詳地點，偽刻奇美醫療財團法人奇美醫院（下稱奇美醫院）、院長邱仲慶及醫師甲○○之印章各1顆，再偽造如附表編號四所示診斷證明書（下稱系爭診斷證明書）提出於本院（收件日期為101年1月12日），表示系爭診斷證明書記載之內容業經認證屬實之意，足以生損害於奇美醫院、邱仲慶、甲○○及國家司法權行使之正確性\n",
            "理由一、訊據被告甲○○矢口否認有前揭行使偽造私文書之犯行，辯稱：其去奇美醫院申請的診斷證明書就是這樣，沒有偽造如附表所示之印章及診斷證明書云云\n",
            "偽造如附表編號一至編號三所示之印章雖未扣案，但無證據證明已滅失，另偽造如附表編號四所示「奇美醫療財團法人奇美醫院證明用章」、「奇美醫院院長邱仲慶（乙）」、「急診醫學科甲○○診斷書用」之印文，不問屬於犯人與否，均依刑法第219條之規定宣告沒收\n"
          ]
        }
      ]
    },
    {
      "cell_type": "code",
      "source": [
        "summary_tokenized_sentences, summary_sentences = SBERT_generate_summary(SBERT_encoded_train_facts_sentences[2],train_facts_sentences[2],tokenized_train_facts_sentences[2])"
      ],
      "metadata": {
        "id": "aCilLH0nDaRB"
      },
      "execution_count": 152,
      "outputs": []
    },
    {
      "cell_type": "code",
      "source": [
        "for sentence in summary_tokenized_sentences:\n",
        "  print(sentence)\n",
        "for sentence in summary_sentences:\n",
        "  print(sentence)"
      ],
      "metadata": {
        "colab": {
          "base_uri": "https://localhost:8080/"
        },
        "id": "GPggAXn6DeHd",
        "outputId": "8f9929cc-b3c1-4e9a-c66f-189022821252"
      },
      "execution_count": 153,
      "outputs": [
        {
          "output_type": "stream",
          "name": "stdout",
          "text": [
            "判决 刑事诉讼法 条 项 款 款 款 款 款 所定 情形 违反 条 项 规定 外 上诉\n",
            "卷附之 民事 起诉状 拟定 书 言词辩论 笔录 本院 年度 家诉字 号 民事判决 结婚登记 结婚证书 户籍 资料 查询 结果\n",
            "上诉书 未 叙述 理由 应于 上诉 期间 届满 后 日 内 补 提 理由 书 于 本院\n",
            "六、本判決除有刑事訴訟法第455條之4第1項第1款、第2款、第4款、第6款、第7款所定情形之一，或違反同條第2項規定者外，不得上訴\n",
            "(二)卷附之民事起訴狀、擬定書、言詞辯論筆錄、本院94年度家訴字第92號民事判決、結婚登記申請書、結婚證書、戶籍資料查詢結果\n",
            "上訴書狀如未敘述理由，應於上訴期間屆滿後20日內補提理由書於本院\n"
          ]
        }
      ]
    },
    {
      "cell_type": "code",
      "source": [
        "index = 3\n",
        "summary_tokenized_sentences, summary_sentences = SBERT_generate_summary(SBERT_encoded_train_facts_sentences[index],train_facts_sentences[index],tokenized_train_facts_sentences[index])\n",
        "for sentence in summary_tokenized_sentences:\n",
        "  print(sentence)\n",
        "print(\"\")\n",
        "for sentence in summary_sentences:\n",
        "  print(sentence)"
      ],
      "metadata": {
        "colab": {
          "base_uri": "https://localhost:8080/"
        },
        "id": "DE9tuOYPDgQ2",
        "outputId": "f46878f1-1ed8-40e8-8530-f7943e139bb0"
      },
      "execution_count": 154,
      "outputs": [
        {
          "output_type": "stream",
          "name": "stdout",
          "text": [
            "前 所述 检察官 所述 上开 犯罪事实 凭 证据 俱 难 证明 被告 人 申请 补发 地号 土地 所有权状 乙节 涉有 使 公务员 登载 不实 行使 使 公务员 登载 不实 文书 犯行 当 遽为 不利于 渠 认定\n",
            "被告 人 明知 被告 并 无 真正 买卖 本件 土地 真意 与 约定 竟以 买卖 为 登记 原因 推 被告 具 相关 资料 地政 机关 申请 所有权 移转 登记 使 地政 机关 不知情 公务员 将 上开 不实 事项 登载 于 职务 掌 公文书 已 足生 损害 于 地政 机关 对于 不动产 登记 管理 正确性 渠 人 此举 自已 符合 刑法 条 要件 无讹\n",
            "据 被告 人均 词 否认 有何 起诉书 所载 部分 使 公务员 登载 不实 行使 使 公务员 登载 不实 文书 犯行 被告 辩称 只 申请 补发 权状 清楚 地号 土地 所有权状 有无 遗失 整个 书状 补发 手续 完全 自行 与 处理 并未 申请 文件 用印 被告 丞则 辩称 受托 办理 本件 土地 所有权 移转 事宜 原 所附 地号 土地 所有权状 为 旧 要求 须 提供 新状 表示 找 不到 并 询问 是否 补发 请 签名\n",
            "\n",
            "四、綜前所述，檢察官所述上開犯罪事實及所憑證據，俱難證明被告2人就申請補發1038地號土地所有權狀乙節，涉有使公務員登載不實及行使使公務員登載不實文書犯行，當不得遽為不利於渠等之認定\n",
            "被告2人明知陳阿仁及被告陳勝裕並無真正買賣本件土地之真意與約定，竟以「買賣」為登記原因推由被告林柏丞檢具相關資料向地政機關申請所有權移轉登記，使地政機關不知情之公務員將上開不實事項登載於職務上所掌之公文書上，已足生損害於地政機關對於不動產登記管理之正確性，渠2人此舉自已符合刑法第214條要件無訛\n",
            "三、訊據被告2人均堅詞否認有何起訴書所載此部分使公務員登載不實及行使使公務員登載不實文書犯行，被告陳勝裕辯稱：我只知道陳阿仁有要申請補發權狀，但不清楚1038地號土地所有權狀有無遺失，整個書狀補發手續完全是陳阿仁自行與林柏丞處理，我並未在申請文件上用印等語；被告林柏丞則辯稱：我只是受託辦理本件土地所有權移轉事宜，因原所附1038地號土地所有權狀為88年舊狀，才要求陳阿仁須提供91年新狀，但陳阿仁表示找不到並詢問是否可補發，才請其在申請書上簽名蓋章等語\n"
          ]
        }
      ]
    },
    {
      "cell_type": "markdown",
      "source": [
        "#### TFIDF"
      ],
      "metadata": {
        "id": "PlvG5b0d81IC"
      }
    },
    {
      "cell_type": "code",
      "source": [
        "from sklearn.feature_extraction.text import TfidfVectorizer"
      ],
      "metadata": {
        "id": "9j93mmcG82r4"
      },
      "execution_count": 124,
      "outputs": []
    },
    {
      "cell_type": "code",
      "source": [
        "vectorizer = TfidfVectorizer()"
      ],
      "metadata": {
        "id": "QTWm9kCr9NBk"
      },
      "execution_count": 125,
      "outputs": []
    },
    {
      "cell_type": "code",
      "source": [
        "TFIDF_encoded_train_facts_sentences = []\n",
        "\n",
        "for sentences in tokenized_train_facts_sentences[:1]:\n",
        "    encoded_sentences = vectorizer.fit_transform(sentences).toarray()\n",
        "    TFIDF_encoded_train_facts_sentences.append()"
      ],
      "metadata": {
        "id": "CPY1slTN9Rxz"
      },
      "execution_count": 134,
      "outputs": []
    },
    {
      "cell_type": "code",
      "source": [
        "len(encoded_sentences)"
      ],
      "metadata": {
        "colab": {
          "base_uri": "https://localhost:8080/"
        },
        "id": "AUtwnhfx_ms6",
        "outputId": "92ccc97b-f49f-46e7-9f78-0b39967ed8b8"
      },
      "execution_count": 136,
      "outputs": [
        {
          "output_type": "execute_result",
          "data": {
            "text/plain": [
              "51"
            ]
          },
          "metadata": {},
          "execution_count": 136
        }
      ]
    },
    {
      "cell_type": "code",
      "source": [
        "print(len(encoded_sentences[0]))\n",
        "print(len(encoded_sentences[1]))"
      ],
      "metadata": {
        "colab": {
          "base_uri": "https://localhost:8080/"
        },
        "id": "6anm02lBA3MW",
        "outputId": "e90adca6-bc08-4e69-ed62-aee51990b7c2"
      },
      "execution_count": 137,
      "outputs": [
        {
          "output_type": "stream",
          "name": "stdout",
          "text": [
            "620\n",
            "620\n"
          ]
        }
      ]
    },
    {
      "cell_type": "code",
      "source": [
        "def TFIDF_generate_summary(facts_sentences, tokenized_facts_sentences, num_sentences=3):\n",
        "    encoded_sentences = vectorizer.fit_transform(tokenized_facts_sentences).toarray()\n",
        "    similarity_matrix = cosine_similarity(encoded_sentences)\n",
        "    sentence_scores = similarity_matrix.sum(axis=1)\n",
        "    ranked_indices = np.argsort(sentence_scores)[::-1][:num_sentences]\n",
        "    summary_tokenized_sentences = [tokenized_facts_sentences[i] for i in ranked_indices]\n",
        "    summary_sentences = [facts_sentences[i] for i in ranked_indices]\n",
        "    return summary_tokenized_sentences, summary_sentences"
      ],
      "metadata": {
        "id": "Up4t1oLICJaF"
      },
      "execution_count": 147,
      "outputs": []
    },
    {
      "cell_type": "code",
      "source": [
        "summary_tokenized_sentences, summary_sentences = TFIDF_generate_summary(train_facts_sentences[0],tokenized_train_facts_sentences[0])"
      ],
      "metadata": {
        "id": "dmkaWd0vCe8B"
      },
      "execution_count": 148,
      "outputs": []
    },
    {
      "cell_type": "code",
      "source": [
        "for sentence in summary_tokenized_sentences:\n",
        "  print(sentence)\n",
        "print(\"\")\n",
        "for sentence in summary_sentences:\n",
        "  print(sentence)"
      ],
      "metadata": {
        "colab": {
          "base_uri": "https://localhost:8080/"
        },
        "id": "0RgTjaMvDBWp",
        "outputId": "9c89e488-73bb-42ea-8725-27d82231c56f"
      },
      "execution_count": 149,
      "outputs": [
        {
          "output_type": "stream",
          "name": "stdout",
          "text": [
            "后 法律 刑法 条 侵占罪 所得 科处 罚金 刑 最低 为 新台币 元 前 刑法 条 款 罚金 罚 锾 提高 标准 条例 条 前段 规定 罚金 最低 额则 为 银元 元 折算 为 新台币 元 比较 法 结果 前 刑法 条 款 规定 较 有利于 被告\n",
            "综上 本院 综合 被告 所涉 揭 全部 罪行 情形 为 比较 揆 诸 前 揭 最高法院 决议 刑法 条 项 前段 规定 被告 适用 行为 前 刑法 相关 规定 对 较为 有利 自应 一体 适用 前 刑法 规定 予以 处断\n",
            "比较 后 刑法 施行 法 条 项 与 罚金 罚 锾 提高 标准 条例 条 结果 两者 罚金 最高 额度 相同 无 有利 不利 情形 自无 刑法 条 适用 应 迳 现行 有效 具 特别法 性质 刑法 施行 法 条 规定\n",
            "\n",
            "」，是依修正後之法律，刑法第335條第1項之侵占罪所得科處之罰金刑最低為新臺幣1000元，而另依修正前刑法第33條第5款及罰金罰鍰提高標準條例第1條前段規定，罰金最低額則為銀元1元折算為新臺幣3元，故比較新舊法之結果，自以修正前刑法第33條第5款規定較有利於被告\n",
            "(五)綜上，本院綜合被告所涉上揭全部罪行之一切情形而為比較，揆諸前揭最高法院決議及刑法第2條第1項前段規定，被告適用行為時即修正前刑法之相關規定，對其較為有利，自應一體適用修正前刑法規定予以處斷\n",
            "」，是比較修正後刑法施行法第1條之1第2項與罰金罰鍰提高標準條例第1條之結果，因兩者之罰金最高額度相同而無有利不利之情形，自無刑法第2條第1項之適用，應逕依現行有效且具特別法性質之刑法施行法第1條之1的規定\n"
          ]
        }
      ]
    },
    {
      "cell_type": "code",
      "source": [
        "summary_tokenized_sentences, summary_sentences = TFIDF_generate_summary(train_facts_sentences[1],tokenized_train_facts_sentences[1])"
      ],
      "metadata": {
        "id": "zu0hSPzzDUfD"
      },
      "execution_count": 150,
      "outputs": []
    },
    {
      "cell_type": "code",
      "source": [
        "for sentence in summary_tokenized_sentences:\n",
        "  print(sentence)\n",
        "print(\"\")\n",
        "for sentence in summary_sentences:\n",
        "  print(sentence)"
      ],
      "metadata": {
        "colab": {
          "base_uri": "https://localhost:8080/"
        },
        "id": "Wu3SxX0CDWof",
        "outputId": "5157897a-5b22-44bf-d766-d46638a83bb1"
      },
      "execution_count": 151,
      "outputs": [
        {
          "output_type": "stream",
          "name": "stdout",
          "text": [
            "甲 为 取信于 法院 基于 行使 伪造 私 文书 犯意 于 间 某日 不详 地点 伪刻 奇美 医疗 财团法人 奇美 医院 下称 奇美 医院 院长 医师 甲 印章 颗 伪造 附表 编号 所示 诊断 证明书 下称 系争 诊断 证明书 提出 于 本院 收件 日期 为 表示 系争 诊断 证明书 记载 内容 业经 认证 属实 足以 生 损害 于 奇美 医院 甲 国家 行使 正确性\n",
            "理由 据 被告 甲 矢口否认 前 揭 行使 伪造 私 文书 犯行 辩称 奇美 医院 申请 诊断 证明书 这样 没有 伪造 附表 所示 印章 诊断 证明书\n",
            "被告 伪造 系争 诊断 证明书 表示 记载 内容 经 认证 属实 借此 使 认为 系争 诊断 证明书 所载 内容 经 代表 奇美 医院 名义 认证 属实 足以 生 损害 于 奇美 医院 甲 被告 持 系争 诊断 证明书 本院 行使 企图 使 本院 采信 照护 母亲 报缴 枪枝 辩词 足以 生 损害 于 国家 行使 正确性\n",
            "\n",
            "甲○○為取信於法院乃基於行使偽造私文書之犯意，於100年11月6日至101年1月12日間某日在不詳地點，偽刻奇美醫療財團法人奇美醫院（下稱奇美醫院）、院長邱仲慶及醫師甲○○之印章各1顆，再偽造如附表編號四所示診斷證明書（下稱系爭診斷證明書）提出於本院（收件日期為101年1月12日），表示系爭診斷證明書記載之內容業經認證屬實之意，足以生損害於奇美醫院、邱仲慶、甲○○及國家司法權行使之正確性\n",
            "理由一、訊據被告甲○○矢口否認有前揭行使偽造私文書之犯行，辯稱：其去奇美醫院申請的診斷證明書就是這樣，沒有偽造如附表所示之印章及診斷證明書云云\n",
            "被告偽造系爭診斷證明書以表示其記載內容經認證屬實，藉此使他人認為系爭診斷證明書所載之內容，經邱仲慶代表奇美醫院暨甲○○以本人名義認證屬實，足以生損害於奇美醫院、邱仲慶、甲○○；被告持系爭診斷證明書向本院行使，企圖使本院採信其因照護母親楊陳敏而遲延報繳槍枝之辯詞，足以生損害於國家司法權行使之正確性\n"
          ]
        }
      ]
    },
    {
      "cell_type": "code",
      "source": [
        "index = 2\n",
        "summary_tokenized_sentences, summary_sentences = TFIDF_generate_summary(train_facts_sentences[index],tokenized_train_facts_sentences[index])\n",
        "for sentence in summary_tokenized_sentences:\n",
        "  print(sentence)\n",
        "print(\"\")\n",
        "for sentence in summary_sentences:\n",
        "  print(sentence)"
      ],
      "metadata": {
        "colab": {
          "base_uri": "https://localhost:8080/"
        },
        "id": "t3TmU-pxDvuA",
        "outputId": "0767d499-62ab-463e-d11a-3f69a9510f4f"
      },
      "execution_count": 155,
      "outputs": [
        {
          "output_type": "stream",
          "name": "stdout",
          "text": [
            "理由 犯罪事实 与 女子 WANGMONTRIDOKMAI 中文姓名 白雪 为 职权 起诉 处分 明知 并 无 结婚 真意 为 使 WANGMONTRIDOKMAI 得以 结婚 方式 居留 工作 共同 基于 使 公务员 登载 不实 文书 概括 犯意 联络 于 民国 曼谷 办理 假结婚 手续 并 取得 不实 结婚 证明书 相关 资料 于 同年 前往 沙鹿 镇 户政事务 持上 开 结婚 证件 申请 办理 结婚 户籍 登记 使该 户政事务 不知情 承办 人员 将 与 WANGMONTRIDOKMAI 间 虚伪 办理 结婚 不实 事项 登载 于 职务 掌管 户籍 登记 资料 电子 资讯 档案 纪录 户籍誊本 公文书 足以 生 损害 于 户政 机关 对于 户籍 登记 事项 管理 正确性\n",
            "明知 上开 婚姻 系 虚伪 婚姻 于 具 本院 诉请 离婚 经 本院 年度 家诉字 号 判决 离婚 后 于 前往 沙鹿 镇 户政事务 办理 离婚 登记 使该 户政事务 不知情 承办 人员 将 与 WANGMONTRIDOKMAI 间 虚伪 办理 离婚 不实 事项 登载 于 职务 掌管 户籍 登记 资料 电子 资讯 档案 纪录 户籍誊本 公文书 足以 生 损害 于 户政 机关 对于 户籍 登记 事项 管理 正确性\n",
            "刑法 条 明知 为 不实 事项 使 公务员 登载 于 职务 掌 公文书 足以 生 损害 于 公众 处 以下 有期徒刑 拘役 百元 以下 罚金\n",
            "\n",
            "及理由一、犯罪事實：白秋霖與泰國籍女子WANGMONTRIDOKMAI（中文姓名白雪蘭，另為職權不起訴處分）均明知並無結婚之真意，為使WANGMONTRIDOKMAI得以結婚方式居留在臺灣地區工作，共同基於使公務員登載不實文書之概括犯意聯絡，於民國93年10月29日，至泰國曼谷，辦理假結婚手續，並在泰國取得不實之結婚證明書等相關資料，由白秋霖於同年11月18日，前往臺中縣沙鹿鎮戶政事務所，持上開結婚證件，申請辦理結婚戶籍登記，使該戶政事務所不知情之承辦人員將白秋霖與WANGMONTRIDOKMAI間虛偽辦理結婚之不實事項，登載於職務上掌管之戶籍登記資料之電子資訊檔案紀錄、戶籍謄本等公文書，足以生損害於戶政機關對於戶籍登記事項管理之正確性\n",
            "白秋霖明知上開婚姻係虛偽婚姻，於94年3月30日具狀向本院訴請離婚，經本院以94年度家訴字第92號判決離婚後，於94年7月7日，前往臺中縣沙鹿鎮戶政事務所，辦理離婚登記，使該戶政事務所不知情之承辦人員將白秋霖與WANGMONTRIDOKMAI間虛偽辦理離婚之不實事項，登載於職務上掌管之戶籍登記資料之電子資訊檔案紀錄、戶籍謄本等公文書，足以生損害於戶政機關對於戶籍登記事項管理之正確性\n",
            "刑法第214條明知為不實之事項，而使公務員登載於職務上所掌之公文書，足以生損害於公眾或他人者，處3年以下有期徒刑、拘役或5百元以下罰金\n"
          ]
        }
      ]
    },
    {
      "cell_type": "code",
      "source": [
        "index = 3\n",
        "summary_tokenized_sentences, summary_sentences = TFIDF_generate_summary(train_facts_sentences[index],tokenized_train_facts_sentences[index])\n",
        "for sentence in summary_tokenized_sentences:\n",
        "  print(sentence)\n",
        "print(\"\")\n",
        "for sentence in summary_sentences:\n",
        "  print(sentence)"
      ],
      "metadata": {
        "colab": {
          "base_uri": "https://localhost:8080/"
        },
        "id": "hs04Q92OD90C",
        "outputId": "0f9fb224-8aee-4621-c3f2-7144008fd02c"
      },
      "execution_count": 156,
      "outputs": [
        {
          "output_type": "stream",
          "name": "stdout",
          "text": [
            "经查 上开 公诉 意旨 所载 行使 使 公务员 登载 不实 文书 所指 涉 事实 究 属 为何 兹 起诉书 记载 内容 略为 地政事务 承办 公务员 将 地号 土地 所有权状 遗失 不实 事项 登载 于 职务 掌 该所 公告 于 补发 新 权状 予 进而 使用 于 本件 土地 所有权 移转 登记 附件 地政 机关 遂 于 翌日 将 本件 土地 买卖 为 登记 原因 移转 所有权 予 被告\n",
            "另于 原审 行 准备 程序 时 公诉 检察官 则 当庭 补充 被告 人 基于 犯意 联络 推 被告 书状 换 给 上开 切结 书 申请 补发 土地 所有权状 认 部分 构成 使 公务员 登载 不实 罪 外 亦 构成 行使 使 公务员 登载 不实 文书 罪 见 原审 审易 卷 页 堪认 部分 起诉 被告 人 涉犯 刑法 条 条 犯罪事实 包含 使 地政事务 公务员 将 土地 所有权状 遗失 不实 事项 登载 于 该所 公告 后据 行使 事实 暨 持 地政事务 补发 新 权状 作为 申请 本件 土地 所有权 移转 登记 附件 事实 先予 叙明\n",
            "明知 并未 于 将 所有 坐落 高雄市 区 段 地号 号 号 土地 下 合称 本件 土地 新台币 下同 万 元 售予 事实 亦 自始 无 出售 本件 土地 真意 渠 人 与 已 殁 未 据 起诉 共同 基于 使 公务员 登载 不实 犯意 联络 检附 上盖 人 印文 本件 土地 所有权 买卖 移转 契约书 为 附件 连同 土地 登记 委 买卖 为 原因 高雄市政府 政局 地政事务 下称 地政事务 递 件 申请 将 本件 土地 所有权 移转 登记 予 所有 同日 并 办理 抵押权 设定 惟 当日 附缴 文件 尚缺 前 揭 地号 土地 最新 权状 未完成 所有权 移转 于 同年 备齐 地号 土地 最新 权状 为 附件 后 本件 土地 即于 翌 日 买卖 为 登记 原因 移转 所有权 并 设定 抵押权 予 足生 损害 于 地政 机关 对于 不动产 登记 管理 税务机关 核 课税 捐 正确性\n",
            "\n",
            "經查：(一)、就上開公訴意旨所載「行使」使公務員登載不實文書所指涉事實究屬為何？茲依起訴書記載內容略為：岡山地政事務所承辦公務員將1038地號土地所有權狀遺失之不實事項登載於職務上所掌之該所公告，嗣於99年10月12日補發新權狀予陳阿仁，進而使用於本件土地所有權移轉登記附件，地政機關遂於翌日將本件土地以買賣為登記原因移轉所有權予被告陳勝裕等語\n",
            "另於103年5月21日原審行準備程序時公訴檢察官則當庭補充：陳阿仁及被告2人基於犯意聯絡，推由被告林柏丞持書狀換給申請書及上開切結書申請補發土地所有權狀，認此部分除構成使公務員登載不實罪外，亦構成行使使公務員登載不實文書罪等語（見原審審易卷第37頁），堪認此部分起訴被告2人涉犯刑法第216條、214條之犯罪事實包含「使地政事務所公務員將土地所有權狀遺失之不實事項登載於該所公告後據以行使」之事實，暨「持地政事務所補發之新權狀作為申請本件土地所有權移轉登記附件」之事實，先予敘明\n",
            "陳勝裕、林柏丞均明知陳阿仁並未於99年8月27日將其所有坐落高雄市○○區○○段地號1032-2號、1038號土地（下合稱本件土地）以新臺幣（下同）387萬6,700元售予陳勝裕之事實，亦自始無出售本件土地之真意，渠2人竟與陳阿仁（因已歿未據起訴）共同基於使公務員登載不實之犯意聯絡，由陳阿仁及陳勝裕檢附上蓋有2人印文之本件土地所有權買賣移轉契約書為附件，連同土地登記申請書委由林柏丞於99年9月6日以「買賣」為原因，向高雄市政府地政局岡山地政事務所（下稱岡山地政事務所）遞件申請將本件土地所有權由陳阿仁移轉登記予陳勝裕所有（同日並辦理抵押權設定），惟因當日附繳文件尚缺前揭1038地號土地最新權狀而未完成所有權移轉，嗣於同年10月12日備齊1038地號土地最新權狀為附件後，本件土地即於翌（13）日以「買賣」為登記原因，移轉所有權並設定抵押權予陳勝裕，足生損害於地政機關對於不動產登記管理及稅務機關核課稅捐之正確性\n"
          ]
        }
      ]
    },
    {
      "cell_type": "markdown",
      "source": [
        "### 摘要 - SBERT"
      ],
      "metadata": {
        "id": "U7AoKIA1EH9O"
      }
    },
    {
      "cell_type": "code",
      "source": [
        "def SBERT_generate_summary_encode(encoded_sentences, num_sentences=3):\n",
        "    similarity_matrix = calculate_similarity_matrix(encoded_sentences)\n",
        "    sentence_scores = similarity_matrix.sum(axis=1)\n",
        "    ranked_indices = np.argsort(sentence_scores)[::-1][:num_sentences]  # 排序後句字的索引\n",
        "\n",
        "    # 根據排名選擇句子\n",
        "    summary_encoded_sentences = [encoded_sentences[i] for i in ranked_indices]\n",
        "    summary_encoded = [elem for sublist in summary_encoded_sentences for elem in sublist]\n",
        "    #summary_encoded = summary_encoded_sentences.flatten()\n",
        "    return summary_encoded"
      ],
      "metadata": {
        "id": "1EIAR3gKEHZ-"
      },
      "execution_count": 203,
      "outputs": []
    },
    {
      "cell_type": "markdown",
      "source": [
        "### 摘要 - TFIDF"
      ],
      "metadata": {
        "id": "wZQXxYX5MXFt"
      }
    },
    {
      "cell_type": "code",
      "source": [
        "def TFIDF_generate_summary(tokenized_facts_sentences, encoded_sentences, num_sentences=3):\n",
        "  TFIDF_encoded_sentences = vectorizer.fit_transform(tokenized_facts_sentences).toarray()\n",
        "  similarity_matrix = cosine_similarity(TFIDF_encoded_sentences)\n",
        "  sentence_scores = similarity_matrix.sum(axis=1)\n",
        "  ranked_indices = np.argsort(sentence_scores)[::-1][:num_sentences]\n",
        "\n",
        "  # 根據排名選擇句子\n",
        "  summary_encoded_sentences = [encoded_sentences[i] for i in ranked_indices]\n",
        "  summary_encoded = [elem for sublist in summary_encoded_sentences for elem in sublist]\n",
        "  return summary_encoded"
      ],
      "metadata": {
        "id": "TzYs9hRsMflq"
      },
      "execution_count": 296,
      "outputs": []
    },
    {
      "cell_type": "markdown",
      "source": [
        "# method 1\n",
        "- SBERT 做 summerize\n",
        "- summerize 取 3 個句子"
      ],
      "metadata": {
        "id": "BcCeoyJ9Hex0"
      }
    },
    {
      "cell_type": "code",
      "source": [
        "SBERT_summary_encoded_train_facts = []\n",
        "\n",
        "for i, fact in enumerate(SBERT_encoded_train_facts_sentences):\n",
        "  print(i)\n",
        "  summary_encode = SBERT_generate_summary_encode(fact)\n",
        "  SBERT_summary_encoded_train_facts.append(summary_encode)"
      ],
      "metadata": {
        "id": "JDgQlmGdKmH7"
      },
      "execution_count": null,
      "outputs": []
    },
    {
      "cell_type": "code",
      "source": [
        "print(type(SBERT_summary_encoded_train_facts))\n",
        "print(type(SBERT_summary_encoded_train_facts[0]))\n",
        "print(type(SBERT_summary_encoded_train_facts[0][0]))"
      ],
      "metadata": {
        "colab": {
          "base_uri": "https://localhost:8080/"
        },
        "id": "TIeqUKKyBD7O",
        "outputId": "31140b14-348d-4ff0-904a-fc83802b5ca7"
      },
      "execution_count": 210,
      "outputs": [
        {
          "output_type": "stream",
          "name": "stdout",
          "text": [
            "<class 'list'>\n",
            "<class 'list'>\n",
            "<class 'numpy.float32'>\n"
          ]
        }
      ]
    },
    {
      "cell_type": "code",
      "source": [
        "print(len(SBERT_summary_encoded_train_facts))\n",
        "print(len(SBERT_summary_encoded_train_facts[0]))"
      ],
      "metadata": {
        "colab": {
          "base_uri": "https://localhost:8080/"
        },
        "id": "HUw_kCUJBPV-",
        "outputId": "8836dd29-3493-4642-ac9a-ca33506b0f53"
      },
      "execution_count": 212,
      "outputs": [
        {
          "output_type": "stream",
          "name": "stdout",
          "text": [
            "5\n",
            "1536\n"
          ]
        }
      ]
    },
    {
      "cell_type": "code",
      "source": [
        "SBERT_summary_encoded_test_facts = []\n",
        "\n",
        "for fact in SBERT_encoded_test_facts_sentences:\n",
        "    summary_encode = SBERT_generate_summary_encode(fact)\n",
        "    SBERT_summary_encoded_test_facts.append(summary_encode)"
      ],
      "metadata": {
        "id": "wzBG5VZOBDcM"
      },
      "execution_count": 219,
      "outputs": []
    },
    {
      "cell_type": "code",
      "source": [
        "print(len(SBERT_summary_encoded_test_facts))\n",
        "print(len(SBERT_summary_encoded_test_facts[0]))\n",
        "print(len(SBERT_summary_encoded_test_facts[1]))"
      ],
      "metadata": {
        "colab": {
          "base_uri": "https://localhost:8080/"
        },
        "id": "_sUWGOsaSPHp",
        "outputId": "e3f93ae3-4e64-4706-f313-47b9e8a99263"
      },
      "execution_count": 284,
      "outputs": [
        {
          "output_type": "stream",
          "name": "stdout",
          "text": [
            "100\n",
            "2560\n",
            "2560\n"
          ]
        }
      ]
    },
    {
      "cell_type": "code",
      "source": [
        "SBERT_summary_encoded_train_facts_float = [[float(value) for value in arr] for arr in SBERT_summary_encoded_train_facts]\n",
        "SBERT_summary_encoded_test_facts_float = [[float(value) for value in arr] for arr in SBERT_summary_encoded_test_facts]"
      ],
      "metadata": {
        "id": "EOJUIBVGB2Af"
      },
      "execution_count": 220,
      "outputs": []
    },
    {
      "cell_type": "code",
      "source": [
        "with open('/content/drive/MyDrive/senior/LAB/LawCaseRetreiver/sentence_predict/dataset_new/SBERT_summary_encoded_train_facts.json', 'w') as f:\n",
        "    json.dump(SBERT_summary_encoded_train_facts_float, f)\n",
        "with open('/content/drive/MyDrive/senior/LAB/LawCaseRetreiver/sentence_predict/dataset_new/SBERT_summary_encoded_test_facts.json', 'w') as f:\n",
        "    json.dump(SBERT_summary_encoded_test_facts_float, f)"
      ],
      "metadata": {
        "id": "HEIM9Mz1BXvN"
      },
      "execution_count": 221,
      "outputs": []
    },
    {
      "cell_type": "markdown",
      "source": [
        "## KNN - SBERT"
      ],
      "metadata": {
        "id": "tCOzNFIxDoea"
      }
    },
    {
      "cell_type": "code",
      "source": [
        "from sklearn.neighbors import NearestNeighbors"
      ],
      "metadata": {
        "id": "iaG5rOPmDs_Y"
      },
      "execution_count": 222,
      "outputs": []
    },
    {
      "cell_type": "code",
      "source": [
        "k = 5\n",
        "knn_model_SBERT = NearestNeighbors(n_neighbors=k, metric='cosine')\n",
        "knn_model_SBERT.fit(SBERT_summary_encoded_train_facts_float)"
      ],
      "metadata": {
        "colab": {
          "base_uri": "https://localhost:8080/",
          "height": 75
        },
        "id": "qBzvav5UDzWu",
        "outputId": "97a15691-a7f3-44fc-fea6-ad095936f51f"
      },
      "execution_count": 223,
      "outputs": [
        {
          "output_type": "execute_result",
          "data": {
            "text/plain": [
              "NearestNeighbors(metric='cosine')"
            ],
            "text/html": [
              "<style>#sk-container-id-1 {color: black;background-color: white;}#sk-container-id-1 pre{padding: 0;}#sk-container-id-1 div.sk-toggleable {background-color: white;}#sk-container-id-1 label.sk-toggleable__label {cursor: pointer;display: block;width: 100%;margin-bottom: 0;padding: 0.3em;box-sizing: border-box;text-align: center;}#sk-container-id-1 label.sk-toggleable__label-arrow:before {content: \"▸\";float: left;margin-right: 0.25em;color: #696969;}#sk-container-id-1 label.sk-toggleable__label-arrow:hover:before {color: black;}#sk-container-id-1 div.sk-estimator:hover label.sk-toggleable__label-arrow:before {color: black;}#sk-container-id-1 div.sk-toggleable__content {max-height: 0;max-width: 0;overflow: hidden;text-align: left;background-color: #f0f8ff;}#sk-container-id-1 div.sk-toggleable__content pre {margin: 0.2em;color: black;border-radius: 0.25em;background-color: #f0f8ff;}#sk-container-id-1 input.sk-toggleable__control:checked~div.sk-toggleable__content {max-height: 200px;max-width: 100%;overflow: auto;}#sk-container-id-1 input.sk-toggleable__control:checked~label.sk-toggleable__label-arrow:before {content: \"▾\";}#sk-container-id-1 div.sk-estimator input.sk-toggleable__control:checked~label.sk-toggleable__label {background-color: #d4ebff;}#sk-container-id-1 div.sk-label input.sk-toggleable__control:checked~label.sk-toggleable__label {background-color: #d4ebff;}#sk-container-id-1 input.sk-hidden--visually {border: 0;clip: rect(1px 1px 1px 1px);clip: rect(1px, 1px, 1px, 1px);height: 1px;margin: -1px;overflow: hidden;padding: 0;position: absolute;width: 1px;}#sk-container-id-1 div.sk-estimator {font-family: monospace;background-color: #f0f8ff;border: 1px dotted black;border-radius: 0.25em;box-sizing: border-box;margin-bottom: 0.5em;}#sk-container-id-1 div.sk-estimator:hover {background-color: #d4ebff;}#sk-container-id-1 div.sk-parallel-item::after {content: \"\";width: 100%;border-bottom: 1px solid gray;flex-grow: 1;}#sk-container-id-1 div.sk-label:hover label.sk-toggleable__label {background-color: #d4ebff;}#sk-container-id-1 div.sk-serial::before {content: \"\";position: absolute;border-left: 1px solid gray;box-sizing: border-box;top: 0;bottom: 0;left: 50%;z-index: 0;}#sk-container-id-1 div.sk-serial {display: flex;flex-direction: column;align-items: center;background-color: white;padding-right: 0.2em;padding-left: 0.2em;position: relative;}#sk-container-id-1 div.sk-item {position: relative;z-index: 1;}#sk-container-id-1 div.sk-parallel {display: flex;align-items: stretch;justify-content: center;background-color: white;position: relative;}#sk-container-id-1 div.sk-item::before, #sk-container-id-1 div.sk-parallel-item::before {content: \"\";position: absolute;border-left: 1px solid gray;box-sizing: border-box;top: 0;bottom: 0;left: 50%;z-index: -1;}#sk-container-id-1 div.sk-parallel-item {display: flex;flex-direction: column;z-index: 1;position: relative;background-color: white;}#sk-container-id-1 div.sk-parallel-item:first-child::after {align-self: flex-end;width: 50%;}#sk-container-id-1 div.sk-parallel-item:last-child::after {align-self: flex-start;width: 50%;}#sk-container-id-1 div.sk-parallel-item:only-child::after {width: 0;}#sk-container-id-1 div.sk-dashed-wrapped {border: 1px dashed gray;margin: 0 0.4em 0.5em 0.4em;box-sizing: border-box;padding-bottom: 0.4em;background-color: white;}#sk-container-id-1 div.sk-label label {font-family: monospace;font-weight: bold;display: inline-block;line-height: 1.2em;}#sk-container-id-1 div.sk-label-container {text-align: center;}#sk-container-id-1 div.sk-container {/* jupyter's `normalize.less` sets `[hidden] { display: none; }` but bootstrap.min.css set `[hidden] { display: none !important; }` so we also need the `!important` here to be able to override the default hidden behavior on the sphinx rendered scikit-learn.org. See: https://github.com/scikit-learn/scikit-learn/issues/21755 */display: inline-block !important;position: relative;}#sk-container-id-1 div.sk-text-repr-fallback {display: none;}</style><div id=\"sk-container-id-1\" class=\"sk-top-container\"><div class=\"sk-text-repr-fallback\"><pre>NearestNeighbors(metric=&#x27;cosine&#x27;)</pre><b>In a Jupyter environment, please rerun this cell to show the HTML representation or trust the notebook. <br />On GitHub, the HTML representation is unable to render, please try loading this page with nbviewer.org.</b></div><div class=\"sk-container\" hidden><div class=\"sk-item\"><div class=\"sk-estimator sk-toggleable\"><input class=\"sk-toggleable__control sk-hidden--visually\" id=\"sk-estimator-id-1\" type=\"checkbox\" checked><label for=\"sk-estimator-id-1\" class=\"sk-toggleable__label sk-toggleable__label-arrow\">NearestNeighbors</label><div class=\"sk-toggleable__content\"><pre>NearestNeighbors(metric=&#x27;cosine&#x27;)</pre></div></div></div></div></div>"
            ]
          },
          "metadata": {},
          "execution_count": 223
        }
      ]
    },
    {
      "cell_type": "code",
      "source": [
        "import pickle\n",
        "\n",
        "# 將模型保存到文件\n",
        "with open('/content/drive/MyDrive/senior/LAB/LawCaseRetreiver/sentence_predict/dataset_new/knn_model_SBERT.pkl', 'wb') as f:\n",
        "    pickle.dump(knn_model_SBERT, f)\n",
        "\n",
        "# 從文件加載模型\n",
        "with open('/content/drive/MyDrive/senior/LAB/LawCaseRetreiver/sentence_predict/dataset_new/knn_model_SBERT.pkl', 'rb') as f:\n",
        "    knn_model_SBERT_loaded = pickle.load(f)"
      ],
      "metadata": {
        "id": "OsoLJF-4Dzyo"
      },
      "execution_count": 224,
      "outputs": []
    },
    {
      "cell_type": "code",
      "source": [
        "SBERT_summary_encoded_test_facts_float_np = [np.array(item) for item in SBERT_summary_encoded_test_facts_float]"
      ],
      "metadata": {
        "id": "meD0Hm2PG2m0"
      },
      "execution_count": 228,
      "outputs": []
    },
    {
      "cell_type": "code",
      "source": [
        "distances, indices = knn_model_SBERT_loaded.kneighbors(SBERT_summary_encoded_test_facts_float_np[0].reshape(1, -1))"
      ],
      "metadata": {
        "id": "LDGY_YPND-xM"
      },
      "execution_count": 229,
      "outputs": []
    },
    {
      "cell_type": "code",
      "source": [
        "test_facts[0]"
      ],
      "metadata": {
        "colab": {
          "base_uri": "https://localhost:8080/",
          "height": 214
        },
        "id": "P4MRq6JoEMd4",
        "outputId": "6abe4666-2b4c-486e-8b8b-210d92349d93"
      },
      "execution_count": 230,
      "outputs": [
        {
          "output_type": "execute_result",
          "data": {
            "text/plain": [
              "'○、緣徐鴻光（所涉行使偽造私文書犯行，業經本院以95年度訴字第955號判決處有期徒刑3月、緩刑3年確定）因需款使用，知悉穆立明有借款管道，為求順利借款，2人竟共同意圖為自己不法所有，基於行使偽造私文書及詐欺取財之犯意聯絡，知悉車牌號碼00-000號營業小客車係徐鴻光向志朗交通有限公司（下稱志朗公司）租賃之車輛，竟由穆立明先於不詳時間、不詳地點，偽刻「志朗交通有限公司」及負責人「陳健志」印章（正確姓名為陳建志，誤刻為「陳健志」）各1枚，並偽造「陳健志」代表志朗公司與徐鴻光簽署之「臺北市計程車客運駕駛人自備車輛參與經營契約書」（下稱本案參與經營契約書），虛偽記載徐鴻光提供上述營業小客車靠行志朗公司營業等不實內容，並持上開偽刻印章，偽造「志朗交通有限公司」印文4枚、「陳健志」印文6枚於本案參與經營契約書上，再於92年3月6日交徐鴻光於立約人乙方欄簽名，2人復於同日協同不知情之徐鴻光配偶徐樂仁（所涉行使偽造私文書犯行，業經本院以95年度訴字第955號判決無罪確定），前往臺北市○○區○○街00巷0號2樓王傑生所經營之宏帝當舖（現更名為渣打當舖），由徐鴻光、穆立明交付偽造本案參與經營契約書向宏帝當鋪借款新臺幣（下同）10萬元以為行使，並約定由徐樂仁擔任連帶保證人，王傑生誤信上開車輛為徐鴻光所有而陷入錯誤，於扣除利息後交付9萬1千元借款予徐鴻光夫婦，足以生損害於志朗公司、陳建志、王傑生。嗣因徐鴻光僅清償每期7千元之分期款共11期計7萬7千元，未全額清償即無力負擔債務，王傑生始查知上開車輛非徐鴻光所有，而悉上情。二、案經王傑生訴由臺灣士林地方法院檢察署檢察官偵查起訴。理由○、證據能力部分：被告以外之人於審判外之言詞或書面陳述，除法律有規定者外，不得作為證據；又被告以外之人於審判外之陳述，雖不符合同法第159條之1至第159條之4之規定，但經當事人於審判程序同意作為證據，法院審酌該言詞陳述或書面陳述作成時之情況，認為適當者，亦得為證據。刑事訴訟法第159條第1項及第159條之5第1項分別定有明文。經查，本判決所引用之各該被告以外之人於審判外之陳述，雖屬傳聞證據，然當事人於本院審判期日中均表示同意作為證據方法而不予爭執，且迄至言詞辯論終結前亦未再聲明異議（見本院卷第68頁至第68頁背面），本院審酌上開證據資料製作時之情況，尚無違法不當及證明力明顯過低之瑕疵，亦認為以之作為證據應屬適當，故揆諸前開規定，爰依刑事訴訟法第159條之5規定，認前揭證據資料均有證據能力。二、認定犯罪事實所憑之證據及理由：（一）訊據被告穆立明固坦承有於92年3月6日帶共同被告徐鴻光、徐樂仁至宏帝當鋪借錢，惟矢口否認有何行使偽造私文書及詐欺取財之犯行，辯稱：本案參與經營契約書係由共同被告徐鴻光所提出，徐鴻光知道我在宏帝當舖當業務員，他因資金不夠，要伊帶至宏帝當鋪借錢，伊請徐鴻光帶身分證、本案參與經營契約書，證明計程車係屬於徐鴻光所有，另外要帶一位保人云云。（二）經查，證人即志英交通公司負責人陳建志於檢察官偵查中結證稱：本案參與經營契約書上之「志朗交通有限公司」、「陳健志」之印文均非我公司的大小章，志朗交通公司也是我的公司，我是負責人，但這個章不是我的，被告徐鴻光只是加入無線電台等語（見94年度偵字第8715號卷第45頁），復有其提出真正之志朗交通有限公司及其本人陳建志之印文各4枚在卷可稽（見94年度偵字第8715號卷第48頁），經核卷附本案參與經營契約書上所示之「志朗交通有限公司」、「陳健志」印文（見95年度偵緝字第60號卷第53頁），除二者字體明顯不同外，本案參與經營契約書中「陳健志」名字中之「健」一字顯係錯別字，堪認本案參與經營契約書上所示之「志朗交通有限公司」、「陳健志」印文確屬偽造一節，應可認定。（三）證人即告訴人王傑生於檢察官偵查中證稱：我經營宏帝當鋪，後改名為渣打當鋪，地址在臺北市○○街00巷0號2樓，計程車典當給我們時，我們要看參與經營契約書，被告徐鴻光有來借錢，被告穆立明當時有在場，徐鴻光給我們看本案參與經營契約書，我們就以為車子是徐鴻光的，我們找到車之後才知道車子是車行的，被告穆立明是我們公司抽獎金的業務員，穆立明介紹人來借錢，我給他獎金等語（見94年度偵字第8715號卷第37頁、95年度偵緝字第60號卷第49頁、第68頁），且證人朱庭峰於檢察官偵查中及本院審理時亦結證稱：我是宏帝當鋪的負責人，後來當鋪讓給王傑生，被告徐鴻光到宏帝當鋪借款10萬元，係由我接洽，當時是被告穆立明介紹，穆立明不是公司職員，他會介紹車子到我們公司來典當，我會給穆立明佣金，即我收到1,000元利息，就給他100元，本案參與經營契約書是由穆立明拿出來等語（見95年度偵緝字第60號卷第68頁至第69頁、95年度訴字第955號卷第66頁至第67頁），復有本案參與經營契約書、本票影本各1份附卷可憑（見94年度偵字第8715號卷第14頁至第17頁），足認共同被告徐鴻光係經被告穆立明介紹，持本案參與經營契約書於上開時間前往宏帝當鋪借款10萬元，且被告穆立明於借款時在場之事實，洵堪認定。（四）被告穆立明雖辯稱：本案參與經營契約書係共同被告徐鴻光所提出，伊僅有將徐鴻光帶去當鋪，就由當舖的人接洽云云，惟查，證人即共同被告徐鴻光於本院審理時證稱：因為我當司機收入不高，家裡有需要用錢，被告穆立明說有辦法借錢，我請被告穆立明帶我去借款，被告穆立明有帶我去當鋪，我太太徐樂仁當時有一起陪同，卷附之本票影本係我當時在當鋪簽立，而本案參與經營契約書係被告穆立明幫我準備好的，經我在當舖蓋我的章及簽名，被告穆立明拿給我時契約書已經寫好資料，至於被告穆立明提出本案參與經營契約書之來源我不知道，被告穆立明只有要我帶駕照、行照、身分證及私章，車號00-000號營業用小客車是我用租的車子，車子是志朗公司的車子，本案參與經營契約書內容不是真的，車子不是我自備的，只有契約書末頁乙方的簽名是我簽的等語（見本院卷第64頁至第66頁背面），核與其在檢察官偵查中證稱：被告穆立明有帶我去宏帝當鋪向朱先生借錢，我借10萬元，本案參與經營契約書係被告穆立明幫我準備好的，前面的簽名及資料是被告穆立明簽的，只有最後的簽名是我簽的等語大致相符（見95年度偵緝字第60號卷第48頁至第49頁），再查，參以被告穆立明於本院審理時當庭書寫徐鴻光名字之字跡經與本案參與經營契約書立契約書人一欄所簽署「徐鴻光」之筆跡比對後（見本院卷第73頁），依肉眼觀之，不論字跡之運筆、筆勾等字體外觀，均較為吻合，反觀該契約書頁末之乙方「徐鴻光」之筆跡，與頁首立契約書人一欄所簽署「徐鴻光」之筆跡之運筆及筆勾，字跡明顯不同，是被告穆立明辯稱本案參與經營契約書係由共同被告徐鴻光提出云云，已難採信；又證人徐鴻光於本院審理時證稱：我曾經用上開車輛向別的當鋪借錢，當時別的當鋪說車子用租的也可以借，只要押行照在那裡即可，不需要像本件一樣的契約，本件是我去當鋪，他們說該簽名的地方，我就簽名，且是我透過別的司機得知被告穆立明可以幫我問問哪裡可以借錢，所以才找被告穆立明等語（見本院卷第65頁背面至第66頁背面），衡以證人徐鴻光涉犯本案犯行業經本院認定有罪確定，自應無虛偽陳述之動機，且被告穆立明自承與證人徐鴻光無糾紛，同為排班計程車司機，為點頭之交乙情，亦認證人徐鴻光無涉詞誣陷被告穆立明之可能；再參以證人王傑生、朱庭峰皆證述本案參與經營契約書係由被告穆立明提出一節，又被告並不否認宏帝當舖僅同意典當個人所有靠行之車輛，不同意典當向車行租的車輛等情，而本件共同被告徐鴻光既有提供行照予被告穆立明，業經其證述如前，則自行照之記載內容即可知悉上開車輛所有人為何人，被告穆立明豈有不知上開車輛所有人為何人之理，況被告穆立明供認介紹共同被告徐鴻光予宏帝當鋪借錢有利息百分之十之報酬等語（見本院卷第69頁背面），其當有可能為促成徐鴻光與宏帝當鋪借款，而提出本案經營契約書供作本件借款之用，是被告穆立明辯稱車子是徐鴻光說其自己所有，本案參與經營契約書係徐鴻光自行提出云云，顯係事後卸責之詞，不足採信。（五）綜上所述，被告上開所辯各節，無非事後避重就輕、圖卸之詞，不足採信，被告行使偽造私文書及詐欺取財等犯行，事證明確，應依法論科。三、論罪科刑部分：（一）按被告行為後，94年2月2日修正公布之刑法已於95年7月1日生效施行，其中第2條第1項「行為後法律有變更者，適用行為時之法律。但行為後之法律有利於行為人者，適用最有利於行為人之法律」之規定，係規範行為後法律變更所生新、舊法律比較適用之準據法，並非刑法實體法律，自不生行為後法律變更之比較適用問題，故刑法修正施行後，應適用該修正後之第2條第1項之規定，依「從舊、從輕」之原則比較新、舊法律之適用；又比較新舊法時，應就罪刑有關之共犯、未遂犯、想像競合犯、牽連犯、連續犯、結合犯，以及累犯加重、自首減輕暨其他法定加減原因（如身分加減）與加減例等一切情形，綜其全部罪刑之結果而為比較後，再適用有利於行為人之法律處斷，而不得一部割裂分別適用不同之新、舊法（最高法院24年上字第4634號、29年上字第964號判例意旨及最高法院95年度第8次刑事庭會議決議參照）。經查：1.刑法第33條第5款關於罰金刑之規定業於94年2月2日修正，於95年7月1日生效，修正前刑法第33條第5款規定：「罰金：1元（銀元）以上。」，並依現行法規所定貨幣單位折算新臺幣條例規定，以銀元1元折算新臺幣3元，故修正前刑法規定罰金之最低數額為新臺幣3元；修正後刑法第33條第5款規定：「罰金：新臺幣1,000元以上，以百元計算之。」，故修正後刑法規定罰金之最低數額提高為新臺幣1,000元；比較上開罰金刑之最高數額，於修正後並無不同，惟修正後刑法第33條第5款所定罰金刑最低數額，既較修正前提高，依前開說明，應適用對被告有利之修正前刑法第33條第5款之規定。2.修正前刑法第28條規定：「二人以上共同實施犯罪之行為者，皆為正犯。」，修正後該條規定為：「二人以上共同實行犯罪之行為者，皆為正犯。」，揆諸本條之修正理由，係為釐清陰謀共同正犯、預備共同正犯、共謀共同正犯是否合乎本條之正犯要件，並將陰謀共同正犯、預備共同正犯剔除於本條適用之外，以符合近代刑法之個人責任原則、法治國人權保障思想及犯罪支配理論，自屬行為後法律有變更，而非僅屬文字修正，應有新舊法比較適用問題（最高法院97年度台上字第37號判決意旨參照）。本件被告穆立明與徐鴻光就前揭行使偽造私文書及詐欺取財犯行各具有犯意聯絡及行為分擔，不論依修正前或修正後之規定，均屬共同正犯，對被告並無有利或不利之情形，應適用行為時之法律。3.被告行為後新法業已刪除牽連犯之規定，依舊法成立方法、結果行為而僅論以一罪者，依新法將論以數罪，比較新、舊法結果，自以修正前刑法第55條牽連犯之規定，較有利於被告。4.綜此，本院經綜合上述各條文修正前、後之比較，參照前揭最高法院決議及修正後刑法第2條第1項前段、後段規定之「從舊、從輕」原則，被告穆立明上開犯行自應適用行為時之法律，予以論處。（二）核被告穆立明所為，係犯刑法第216條、第210條之行使偽造私文書罪、同法第339條第1項詐欺取財罪。被告穆立明於本案參與經營契約書上偽造「志朗交通有限公司」、「陳健志」印章及印文乃偽造私文書之部分行為，其偽造本案參與經營契約書後持以行使，偽造之低度行為復為行使之高度行為所吸收，均不另論罪。被告穆立明與徐鴻光就行使偽造私文書及詐欺之犯行有犯意聯絡及行為分擔，為共同正犯。又其等行使偽造私文書之目的，在詐取告訴人之金錢，所犯連續行使偽造私文書與詐欺取財2罪間，有方法、目的之牽連關係，應依修正前刑法第55條規定，從一較重之行使偽造私文書罪處斷。（三）爰審酌被告穆立明不思以正當途徑賺取錢財，竟偽造志朗公司及其負責人陳建志之印章，進而偽造本案參與經營契約書，而詐取告訴人之金錢，足生損害於志朗公司、陳建志、告訴人，並危害社會交易秩序，所為實有不該，犯後否認犯行，未見悔悟之心，兼衡被告穆立明有違反票據法之前科，有臺灣高等法院被告前案紀錄表在卷可稽（見本院卷第60頁），素行尚可，共同被告徐鴻光於詐得借款後已陸續返還利息予告訴人與朱庭峰，及被告穆立明為高中肄業之智識程度，經濟狀況為小康之生活狀況等一切情狀（見被告警詢筆錄受詢問人欄，本院卷第6頁），量處如主文所示之刑，以資懲儆。又關於易科罰金之折算標準，修正前刑法第41條第1項前段規定：「犯最重本刑為5年以下有期徒刑以下之刑之罪，而受6個月以下有期徒刑或拘役之宣告，因身體、教育、職業、家庭之關係或其他正當事由，執行顯有困難者，得以1元以上3元以下折算1日，易科罰金。」，再依據修正前罰金罰鍰提高標準條例第2條：「依刑法第41條易科罰金或第42條第2項易服勞役者，均就其原定數額提高為1百倍折算1日；法律所定罰金數額未依本條例提高倍數，或其處罰法條無罰金刑之規定者，亦同。」之規定，被告行為時之易科罰金折算標準，應以銀元1百元以上3百元以下折算1日，經折算為新臺幣後，應以新臺幣3百元以上9百元以下折算1日。惟95年7月1日施行之刑法第41條第1項前段規定修正為：「犯最重本刑為5年以下有期徒刑以下之刑之罪，而受6個月以下有期徒刑或拘役之宣告者，得以新臺幣1千元、2千元或3千元折算一日，易科罰金。」，另95年7月1日生效施行之罰金罰鍰提高標準條例則刪除原本第2條之規定。是以比較新舊法結果，自以舊法所定之易科罰金折算標準有利於被告，故應依修正前刑法第41條第1項前段、修正前罰金罰鍰提高標準條例第2條規定，就所宣告之刑部分諭知易科罰金之折算標準。（四）偽造之「臺北市計程車客運駕駛人自備車輛參與經營契約書」原本1份固經共同被告徐鴻光於借款時行使交付予宏帝當鋪，業如前述，惟此僅係共同被告徐鴻光為借得款項，而將本案參與經營契約書交付當鋪作為擔保使用，其所有權仍為共同被告徐鴻光所有，不因行使而移轉為宏帝當鋪所有，又該偽造之契約既係供本件犯行所用，爰依刑法第38條第1項第2款規定宣告沒收。又契約上偽造之「志朗交通有限公司」印文4枚、「陳健志」之印文6枚固係偽造之印文，已因該契約之沒收而包括在內，無再重複諭知沒收之必要。另告訴人為提起本件告訴，而複印本案參與經營契約書資為證據（見94年度偵字第8715號卷第15至第17頁），因認僅係作為本案訴訟使用，而非被告穆立明、共同被告徐鴻光供本件犯行所用之物，就複印之契約書上之「志朗交通有限公司」印文4枚、「陳健志」之印文6枚，爰不予宣告沒收。至被告穆立明偽刻之「志朗交通有限公司」、「陳健志」印章各1枚，係偽造之印章，且無證據證明業已滅失，應依刑法第219條宣告沒收。（五）再按本條例施行前，經通緝而未於中華民國96年12月31日以前自動歸案接受偵查、審判或執行者，不得依本條例減刑，中華民國九十六年罪犯減刑條例第5條定有明文。查本件被告穆立明所為前開犯行之犯罪時間固係在96年4月24日以前，但其曾於中華民國九十六年罪犯減刑條例施行（96年7月16日施行）前之95年12月21日因本案經本院以95年士院刑玄緝字第463號通緝書發佈通緝，於102年9月1日甫緝獲歸案等情，此有前開通緝書、歸案證明書、本院102年士院刑玄銷字第289號撤銷通緝書各1份存卷可參（95年度訴字第955號卷第43頁、本院卷第26頁、第43頁），從而，依前開規定，本案被告無從依中華民國九十六年罪犯減刑條例之規定減刑，併此敘明。據上論斷，應依刑事訴訟法第299條第1項前段，刑法第2條1項前段、第28條、第216條、第210條、第339條第1項、第219條、第38條第1項第2款、修正前刑法第55條、第41條第1項前段，刑法施行法第1條之1第1項，修正前罰金罰鍰提高標準條例第2條，現行法規所定貨幣單位折算新臺幣條例第2條，判決如主文。本案經檢察官黃仙宜到庭執行職務。中華民國102年12月3日刑事第七庭審判長法官雷雯華法官陳介安法官蔡子琪以上正本證明與原本無異。如不服本判決應於收受送達後10日內向本院提出上訴書狀，並應敘述具體理由。其未敘述上訴理由者，應於上訴期間屆滿後20日內向本院補提理由書（均須按他造當事人之人數附繕本）「切勿逕送上級法院」。書記官李宜蓁中華民國102年12月5日附錄本案論罪科刑所依據之法條：刑法第216條、第210條、第339條第1項偽造、變造私文書，足以生損害於公眾或他人者，處5年以下有期徒刑。偽造印章、印文或署押，足以生損害於公眾或他人者，處3年以下有期徒刑。盜用印章、印文或署押，足以生損害於公眾或他人者，亦同。意圖為自己或第三人不法之所有，以詐術使人將本人或第三人之物交付者，處5年以下有期徒刑、拘役或科或併科1千元以下罰金。'"
            ],
            "application/vnd.google.colaboratory.intrinsic+json": {
              "type": "string"
            }
          },
          "metadata": {},
          "execution_count": 230
        }
      ]
    },
    {
      "cell_type": "code",
      "source": [
        "# 打印最相近的五篇文章的索引及距離\n",
        "for i, index in enumerate(indices[0]):\n",
        "    print(\"Article Index:\", index, \"Distance:\", distances[0][i])\n",
        "    print(\"Article Text:\", train_facts[index])"
      ],
      "metadata": {
        "colab": {
          "base_uri": "https://localhost:8080/"
        },
        "id": "rTcIpRIfEOOx",
        "outputId": "55cb25a5-1c73-49ad-8371-137f2bd097c8"
      },
      "execution_count": 231,
      "outputs": [
        {
          "output_type": "stream",
          "name": "stdout",
          "text": [
            "Article Index: 299 Distance: 0.22926417836023694\n",
            "Article Text: 欄一（一）之行使偽造私文書罪部分暨定應執行刑部分均撤銷。蔡明潔犯行使偽造私文書罪，處有期徒刑參月，如易科罰金，以新臺幣壹仟元折算壹日；如附表一所示偽造之「蔡瀚陞」署押共貳枚，均沒收。其餘上訴駁回。上開撤銷改判所處之刑，與上訴駁回部分所處之刑，應執行有期徒刑肆月，如易科罰金，以新臺幣壹仟元折算壹日；如附表一、附表二所示偽造之「蔡瀚陞」署押共肆枚、印文壹枚及「蔡瀚陞」印章壹枚，均沒收。事實一、蔡明潔為蔡瀚陞之兄，蔡瀚陞因長期在國外，於民國91年間委託蔡明潔辦理領取國泰世華商業銀行帳戶款項之事務，並將其所有之身分證、印章1枚（下稱原印章）、國泰世華商業銀行帳戶存摺等物，交付蔡明潔保管後，蔡明潔竟分別為下列行為：（一）竟意圖為自己不法之所有，基於詐欺取財及行使偽造私文書之犯意，未經蔡瀚陞之同意或授權，於96年9月28日（起訴書誤繕為9月2日）持蔡瀚陞之身分證及原印章向台新國際商業銀行七賢分行（下稱台新銀行七賢分行）申辦台幣存款帳戶，偽以蔡瀚陞之名義，在附表一編號1、2所示之開戶業務申請書之戶名（代表人暨存款帳戶文件領取人）欄及台幣往來印鑑暨資料卡之戶名正楷簽名欄，各偽簽「蔡瀚陞」署押1枚及各盜蓋「蔡瀚陞」原印章之印文1枚，而偽造具私文書性質之開戶業務申請書、台幣往來印鑑暨資料卡，持以交付該行人員以完成開戶程序，致該行人員陷於錯誤，遂將帳號：00000000000000號（下稱系爭帳戶）存摺1本、金融卡1張交付予蔡明潔，足生損害於蔡瀚陞本人及台新銀行七賢分行對金融帳戶管理之正確性。（二）另基於行使偽造私文書之犯意，於97年10月29日前某日，利用不知情之不詳姓名成年刻印人員偽刻「蔡瀚陞」印章1枚（下稱偽印章，未扣案），於97年10月29日攜帶該偽印章至台新銀行七賢分行辦理系爭帳戶之印鑑變更，並在附表二所示之台幣往來印鑑暨資料卡之戶名正楷簽名欄及印鑑欄偽簽「蔡瀚陞」署押共2枚及蓋用偽印章之印文1枚，而偽造具私文書性質之台幣往來印鑑暨資料卡，持以交付該行人員以完成變更印鑑程序，足生損害於蔡瀚陞本人及台新銀行七賢分行對金融帳戶管理之正確性。嗣因蔡瀚陞接獲台新銀行七賢分行通知金融卡有效期限屆滿信件並向該行查證，始知悉上情。二、案經蔡瀚陞訴由高雄市政府警察局苓雅分局移送臺灣高雄地方法院檢察署檢察官偵查起訴。理由一、證據能力之認定：按被告以外之人於審判外之言詞或書面陳述，除法律有規定者外，不得作為證據，刑事訴訟法第159條第1項定有明文。又被告以外之人於審判外之陳述，雖不符前4條之規定，而經當事人於審判程序同意作為證據，法院審酌該言詞陳述或書面陳述作成時之情況，認為適當者，亦得為證據。當事人、代理人或辯護人於法院調查證據時，知有第159條第1項不得為證據之情形，而未於言詞辯論終結前聲明異議者，視為有前項之同意，刑事訴訟法第159條之5亦定有明文。本判決所引用之證據資料（詳後引證據，含供述證據、非供述證據及其他具有傳聞性質之證據），檢察官、被告蔡明潔及其辯護人均同意有證據能力（院三卷第53頁）；本院並審酌前開證據資料作成時之情況，尚未有違法或不當之情形，所取得過程並無瑕疵，且與本案相關之待證事實具有關連性，認適當作為證據，是依上開規定及說明，認均具有證據能力。二、就事實欄一（一）部分：訊據被告蔡明潔固承認於91年間取得告訴人蔡瀚陞身分證及原印章，並於96年9月28日持告訴人身分證及原印章至台新銀行七賢分行申辦系爭帳戶，並於開戶業務申請書、台幣往來印鑑暨資料卡上，各簽署「蔡瀚陞」簽名1枚及各蓋用「蔡瀚陞」原印章之印文1枚等事實，惟矢口否認有何行使偽造私文書、詐欺犯行，辯稱：申辦蔡瀚陞台新銀行之帳戶，有經過其同意及授權，且有家書、匯款單據、收據等資料可證，況蔡瀚陞並未有任何損失云云。經查：（一）被告於91年間自告訴人處取得告訴人身分證及原印章，並於96年9月28日親自持告訴人之身分證及原印章向台新銀行七賢分行以告訴人之名義申辦系爭帳戶，如附表一編號1、2所示之開戶業務申請書、台幣往來印鑑暨資料卡上之「蔡瀚陞」簽名及「蔡瀚陞」原印章印文均為被告簽署及蓋章，被告並自台新銀行七賢分行領取系爭帳戶存摺1本、金融卡1張等情，業據被告於本院審理中陳述明確（院三卷第52、90、94至95頁），核與告訴人、證人蔡吳安慰於本院審理中證述之情節相符（院三卷第55、71頁），並有96年9月28日開戶業務申請書、台幣往來印鑑暨資料卡各1份在卷可稽（警二卷第16至17頁、偵二卷第30頁），此部分事實，堪以認定。（二）告訴人於91年出國前將個人印章、身分證及國泰世華銀行帳戶存摺交給被告保管，委託被告替其自該帳戶領錢給父母及繳納保險費，被告未經告訴人之同意或授權，至台新銀行七賢分行以告訴人名義申辦系爭帳戶，開戶業務申請書、台幣往來印鑑暨資料卡上「蔡瀚陞」之署名均非告訴人所簽，但台幣往來印鑑暨資料卡上之「蔡瀚陞」印文，係告訴人交給被告之原印章所蓋印，告訴人係於接獲台新銀行七賢分行通知金融卡有效期限屆滿信件，方知悉其名下有台新銀行七賢分行帳戶，而告訴人對於上開以其名義在台新銀行七賢分行開立之系爭帳戶之交易明細〔自96年9月28日（開戶日）至99年10月12日（最後交易日），即警二卷第21至27頁〕所記載之交易內容、對象均不知情或認識等情，業據告訴人於本院審理中證述明確（院三卷第55至56、58、60至62頁），倘若告訴人同意被告至台新銀行七賢分行以告訴人名義申辦系爭帳戶，供被告為告訴人辦理事務之用，衡情應不至於對於上開台新銀行七賢分行系爭帳戶之交易內容及對象毫無所悉。另佐以被告亦於本院審理中供述：96年9月28日是我去台新銀行開戶，當時蔡瀚陞並沒有提出委託書或授權書請我替他去台新銀行開戶，我並沒有告知銀行行員「蔡瀚陞本人沒有來，我替他開戶」等語（院三卷第94頁），倘若被告係經告訴人授權，方至台新銀行七賢分行替告訴人申辦系爭帳戶，被告大可直接向該銀行行員告知係替告訴人辦理開戶，又何需冒著當場被該銀行行員揭穿非告訴人本人申辦帳戶之危險？綜合上情判斷，被告未經告訴人之同意或授權，即偽以告訴人名義，偽簽告訴人之署名，蓋用告訴人原留印章，以申請台新銀行七賢分行系爭帳戶使用之事實，堪以認定。（三）雖被告辯稱申辦上開台新銀行七賢分行帳戶經過告訴人之同意及授權，有家書、匯款單據、收據等資料可證云云。然，告訴人（原名蔡明恩）於91年3月26日之家書中記載「另外以您的名義開個外幣戶頭」，告訴人於家書中係請被告以被告本人名義開立外幣帳戶，並非委託被告以告訴人名義開立台幣存款帳戶等情，業據告訴人於本院審理中證述明確（院三卷第56頁），並有家書影本1份在卷可稽（警二卷第25頁），而被告於104年3月6日具狀提出之匯款單據、收據影本資料之發生時間，大多在被告於96年9月28日申辦台新銀行七賢分行帳戶之前，縱有匯款單據或收據之發生時間在96年9月28日之後，經本院比對於單據發生之相同時間內之上開台新銀行七賢分行系爭帳戶之交易明細，亦查無相對應之提款紀錄，是此部分尚難為被告有利之認定。至被告另辯稱以告訴人名義開戶對告訴人並無損害云云，然遭冒名開戶常衍生金融犯罪，且相關稅賦課徵義務人亦會混亂，對於交易秩序之安全，並非毫無危險，況刑法上偽造文書罪，所謂足以生損害於公眾或他人，以有損害之虞為已足，不以實際發生損害為必要，故被告辯稱告訴人並無損害云云，不足採信。（四）綜上所述，被告偽以告訴人名義，申辦台新銀行七賢分行系爭帳戶使用，已使台新銀行七賢分行銀行人員誤認係告訴人本人申請開戶，而陷於錯誤，遂將系爭帳戶之存摺1本、金融卡1張交付與被告，不僅已損害於告訴人本人，亦損害台新銀行七賢分行對金融帳戶管理之正確性。被告此部分行使偽造私文書、詐欺取財之犯行，堪以認定，應依法論科。三、就事實欄一（二）部分：上開事實欄一（二）所載之犯罪事實，業據被告於本院審理中坦承不諱，核與告訴人於本院審理中證述情節相符（院三卷第61頁），復有台幣往來印鑑暨資料卡影本1份（97年10月29日）在卷可稽（警二卷第18頁），是被告之自白與事實相符，可資採為認定犯罪事實之依據，被告此部分行使偽造私文書犯行，堪以認定，應依法論科。四、查刑法第339條業於103年6月18日修正公布，其中有關罰金刑部分已從「或併科罰金一千元以下罰金」，提高為「或併科五十萬元以下罰金」，被告犯罪行為完成於上開條文修正前，比較新舊法結果，自以舊法對被告較為有利，依刑法第2條第1項前段之規定，自應適用行為時，即修正前之規定。五、是核被告如事實欄一（一）所為，係犯刑法第216條、第210條之行使偽造私文書罪、修正前刑法第339條第1項之詐欺取財罪；如事實欄一（二）所為，係犯刑法第216條、第210條之行使偽造私文書罪。就事實欄一（一）部分，被告偽造「蔡瀚陞」署名及盜蓋「蔡瀚陞」印章之行為，均係偽造私文書之階段行為，又偽造私文書之低度行為，為其持以向台新銀行七賢分行行使之高度行為所吸收，均不另論罪。被告先後偽造附表一所示私文書，係於密切接近之時間為之，侵害同一法益，各行為之獨立性相當薄弱，且係出於同一目的，依一般社會觀念，難以強行分開，應視為數個舉動之接續施行，應論以接續犯。被告以一行為觸犯行使偽造私文書、詐欺取財等2罪，為想像競合犯，應從一重論以行使偽造私文書罪；就事實欄一（二）部分，被告利用不知情之不詳姓名成年刻印人員，偽刻「蔡瀚陞」印章1枚，為間接正犯。又被告利用不知情之不詳姓名成年刻印人員偽造「蔡瀚陞」印章之行為及偽造「蔡瀚陞」署名、印文之行為，均為偽造私文書之階段行為，又其偽造私文書之低度行為，為其持以向台新銀行七賢分行行使之高度行為所吸收，不另論罪。被告所犯上開行使偽造私文書2罪，犯意各別，行為互殊，應予分論併罰。末按檢察官就犯罪事實一部起訴者，其效力及於全部，刑事訴訟法第267條定有明文。關於上開事實一（一）部分，起訴書就被告詐欺取財部分雖未提起公訴，然此部分與已起訴之行使偽造私文書，有想像競合犯之裁判上一罪關係，業如前述，且經原審公訴檢察官就此部分犯罪事實，補充修正前刑法第339條第1項詐欺取財罪名（院一卷第19頁），亦經本院於審理時告知上開罪名（院三卷第51頁），自為起訴效力所及，是本院應就此部分一併加以審理裁判。六、撤銷改判〔事實欄一（一）〕之部分：原審據以論處被告罪刑，固非無見。惟查：被告如事實欄一（一）所為，係以一行為觸犯行使偽造私文書、詐欺取財等2罪，原審漏未就本為起訴效力所及之詐欺取財罪部分加以論處，未論以想像競合犯，亦未引用刑法第55條規定，且被告行為後刑法第339條業經修正，原審亦漏未比較新舊法，自有未當。被告上訴意旨指摘原判決量刑過重，為無理由；惟原判決既有上開違誤，自應由本院就此部分及定應執行刑均撤銷，另為適法之判決。本院審酌被告為謀一己之方便，竟利用持有告訴人身分證件及原印章之機會，冒用告訴人名義申辦銀行帳戶使用，並領取該帳戶存摺及金融卡等物，復使用該帳戶，破壞社會金融秩序，行為實有不該。又參以被告犯後承認開立系爭帳戶之事實，但辯稱經告訴人同意方申辦系爭帳戶之態度，且未與告訴人達成和解；並考量被告本件犯罪情節、所得財物價值等一切情狀，暨自陳高中畢業之智識程度，近一年的平均收入約20至30萬元之經濟狀況等一切情狀，量處如主文第2項所示之刑，並諭知如主文所示易科罰金之折算標準，以資懲儆。並由本院就上開撤銷改判部分與上訴駁回部分（詳後述），另定其應執行之刑，及就所定應執行之刑諭知易科罰金之折算標準。七、上訴駁回〔事實欄一（二）〕之部分：原審以被告於97年10月29日向台新銀行七賢分行行使偽造私文書之犯行事證明確，適用刑法第216條、第210條之規定，並審酌被告擅自偽刻告訴人印章，向銀行辦理系爭帳戶之印鑑變更，破壞社會金融秩序，所為均有不該，惟念其犯後尚知坦承犯行，且未將前開帳戶用以從事其他犯罪行為等一切情狀，量處有期徒刑3月，如易科罰金，以新臺幣1,000元折算1日。經核其認事用法俱無不合，量刑亦屬妥適，被告上訴指摘原審量刑過重，並無理由，應予駁回。八、末按刑法第219條所定不問屬於犯人與否沒收之者，以偽造之印章、印文或署押為限，至盜用他人真正印章所蓋之印文，並非該條所指之偽造印文（最高法院48年度台上字第1533號判例、93年度台上字第1871號判決意旨參照）。查附表一、附表二（即原判決附表編號3）所示之文書，因已交付台新銀行七賢分行，非被告所有之物，固無庸沒收，惟附表一、附表二所示偽造「蔡瀚陞」署押、印文，揆諸前揭說明，均應依刑法第219條規定，各於被告事實欄一（一）、（二）之罪名項下宣告沒收。另被告利用不知情之成年刻印人員所偽造之「蔡瀚陞」印章1枚，雖未據扣案，惟查無證據足證該物品均已滅失，併依刑法第219條之規定，於被告事實欄一（二）罪名項下宣告沒收。至附表一所示文書上蓋用之「蔡瀚陞」印文，係盜用告訴人真印章所蓋之印文，並非偽造印章之印文，不在刑法第219條所定必須沒收之列，爰不予宣告沒收，起訴書就此部分聲請沒收，容有誤會，附此敘明。據上論斷，應依刑事訴訟法第455條之1第1項、第3項、第368條、第369條第1項前段、第364條、第299條第1項前段，刑法第2條第1項前段、第216條、第210條、修正前刑法第339條第1項、刑法第55條、第41條第1項前段、第219條、第51條第5款、第9款，刑法施行法第1條之1，判決如主文。本案經檢察官張時嘉到庭執行職務。中華民國104年3月25日刑事第二十庭審判長法官林永村法官胡慧滿法官李爭春以上正本證明與原本無異。不得上訴。中華民國104年3月25日書記官王資惠附錄本案論罪科刑法條：中華民國刑法第210條（偽造變造私文書罪）偽造、變造私文書，足以生損害於公眾或他人者，處5年以下有期徒刑。中華民國刑法第216條（行使偽造變造或登載不實之文書罪）行使第210條至第215條之文書者，依偽造、變造文書或登載不實事項或使登載不實事項之規定處斷。中華民國刑法第339條（普通詐欺罪）意圖為自己或第三人不法之所有，以詐術使人將本人或第三人之物交付者，處5年以下有期徒刑、拘役或科或併科1千元以下罰金。以前項方法得財產上不法之利益或使第三人得之者，亦同。前二項之未遂犯罰之。附表一：\n",
            "Article Index: 131 Distance: 0.2447248355299514\n",
            "Article Text: 一、洪月連為莊崇珍之妻，為莊林美雪及莊樹枝（民國87年11月24日歿）之媳婦。洪月連明知其對莊樹枝並無債權存在，且莊林美雪並未擔任保證人且未提供其所有位於新北市○○區○○路000巷00○0號1樓之房屋供作抵償，竟為取得該房屋之所有權，而於103年8月5日前某日，利用不知情之刻印業者偽刻「莊林美雪」及「莊樹枝」之印章各1枚，並基於行使偽造私文書及使公務員登載不實之犯意，以莊樹枝及莊林美雪之名義，虛偽記載「一、本人（莊樹枝）因欠朋友錢被催討，才向媳婦（洪月連）支借三次款項還錢。（一）民國七十九年五月十一日支借新臺幣六十萬元整還竹塘哈目。（二）民國八十三年十月二十七日支借新臺幣壹佰萬元整還五庄矮龍。（三）民國八十四年十二月二十六日支借新臺幣壹佰伍拾萬元整還代厝庄喚仔。三次支借金額共新臺幣参佰壹拾萬元整。二、以上所支借款項，由我妻子（莊林美雪）名下的房地做為抵還，房地位於台北縣○○市○○路000巷0000號一樓。因買這間房子的錢是我（莊樹枝）拿出來，任何人不得有議」之借據，並於立據人欄及保證人欄上，分別偽造「莊樹枝」及「莊林美雪」之署名各1枚，復於其上分別蓋用前開偽造「莊樹枝」及「莊林美雪」印章而偽造「莊樹枝」及「莊林美雪」印文各1枚，用以偽造莊樹枝表示上開借據內容意思表示及莊林美雪表示擔任保證人保證莊樹枝前開債務及以前開房屋作為抵償之私文書，再於103年8月5日撰寫民事支付命令聲請狀，旋於翌日（6日）持向本院聲請對莊林美雪核發民事支付命令，使本院不知情之司法事務官為形式審查後，於103年8月7日將上開借據所示之金額及洪月連聲請之利息准予核發支付命令之不實事項，登載於其職務上所製作之103年度司促字第9908號支付命令，嗣因莊林美雪聲明異議，視為起訴，本院於103年9月12日裁定命洪月連繳交裁判費用，惟洪月連未繳交，而經本院於103年10月16日以103年度訴字第1042號裁定原告之訴駁回確定，其後於臺灣新北地方法院104年度重訴字第195號及臺灣高等法院104年度重上字第1095號民事訴訟中，洪月連再提出前所偽造之借據以行使之，足以生損害於莊樹枝、莊林美雪、本院核發支付命令之正確性及法院認事用法之正確性。二、案經莊林美雪訴請臺灣彰化地方法院檢察署檢察官偵查起訴。理由一、證據能力：(一)按檢察官職司追訴犯罪，就審判程式之訴訟構造言，檢察官係屬與被告相對立之當事人一方，偵查中對被告以外之人所為之偵查筆錄，或被告以外之人向檢察官所提之書面陳述，性質上均屬傳聞證據。自理論上言，如未予被告反對詰問、適當辯解之機會，一律准其為證據，似有違當事人進行主義之精神，對被告之防禦權亦有所妨礙；然而現階段刑事訴訟法規定檢察官代表國家偵查犯罪、實施公訴，必須對於被告之犯罪事實負舉證之責，依法其有訊問被告、證人及鑑定人之權，證人、鑑定人且須具結，而實務運作時，偵查中檢察官向被告以外之人所取得之陳述，原則上均能遵守法律規定，不致違法取供，其可信性極高，為兼顧理論與實務，乃於修正刑事訴訟法時，增列第159條之1第2項，明定被告以外之人（含被害人、證人等）於偵查中向檢察官所為陳述，除顯有不可信之情況者外，得為證據，並於92年9月1日施行（最高法院94年度臺上字第7416號判決意旨參照）。又所謂「顯有不可信性」，係指陳述是否出於供述者之真意、有無違法取供情事之信用性而言，故應就偵查或調查筆錄製作之原因、過程及其功能等加以觀察其信用性，據以判斷該傳聞證據是否有顯不可信或有特別可信之情況而例外具有證據能力，並非對其陳述內容之證明力如何加以論斷，二者之層次有別，不容混淆（最高法院94年度臺上字第629號判決要旨可參）。經查，辯護人否認證人莊林美雪於偵訊中證述之證據能力，然證人莊林美雪在檢察官偵查時，係以證人之身分，經檢察官告以具結之義務及偽證之處罰，經其具結，而於負擔偽證罪之處罰心理下所為，是其之證述係經以具結擔保該陳述之真實性，且無證據顯示其於受檢察官訊問之證述係遭受強暴、脅迫、詐欺、利誘等外力干擾情形或在影響其之心理狀況致妨礙其自由陳述等顯不可信之情況下所為。是其於偵訊時之陳述，既無顯不可信情況，依上開說明，具有證據能力。(二)按除顯有不可信之情況外，公務員職務上製作之紀錄文書、證明文書，亦得為證據，刑事訴訟法第159條之4第1款定有明文。上述「紀錄文書」或「證明文書」，並不限於針對特定事件所製作。只要係公務員基於職務上就一定事實之記載，或就一定事實之證明而製作之文書，而其內容不涉及公務員主觀之判斷或意見之記載，即屬於上述條款所稱文書之範疇。經查，辯護人否認臺灣彰化地方法院檢察署公務電話紀錄單之證據能力，然而該等紀錄單，係書記官本於職權依據銀行行員告知之事實所製作之紀錄，其外部條件並無顯有不可信之情況，且不涉及書記官主觀之判斷或意見，具有證據能力。(三)以下本案其他所引用被告以外之人於審判外之言詞或書面陳述，而不符合刑事訴訟法第159條之1至第159條之4之規定者，均經本院於審理時當庭直接提示而為合法之調查，檢察官、被告及辯護人均不爭執其證據能力，本院審酌前開證據作成或取得之情況，並無非法或不當取證之情事，亦無顯不可信之狀況，故認為適當而均得作為證據。是前開證據，依刑事訴訟法第159條之5之規定，皆具有證據能力，先予敘明。二、訊據被告洪月連固供承有提出上開借據據以聲請民事支付命令，惟矢口否認有何偽造文書犯行，辯稱：該借據係莊樹枝口述，由其撰寫，印章是莊林美雪與莊樹枝所蓋用，第一筆借款係伊於79年5月11日從台灣銀行提領給莊樹枝，當時本來是要辦定存，係莊樹枝要求借款，伊才將款項借給莊樹枝，第二筆款項是母親從彰化竹塘拿100萬元到臺北，伊在臺北交給莊樹枝，莊樹枝再拿回竹塘，第三筆也是母親從彰化竹塘拿150萬元到臺北，伊在臺北交給莊樹枝，莊樹枝再拿回竹塘，莊樹枝每次借錢都說要將上開房屋過戶給伊云云。辯護人則以該借據確實係被告於84年12月26日依莊樹枝及莊林美雪之指示所書寫，其上用印係2人親自蓋用，被告聲請核發103年度司促字第9908號支付命令後，因考量借款已罹於時效，才未繳納裁判費，並非因該借據係經偽造，且鑑定機關亦無從對借據字跡筆墨及紙張年份為鑑定，自應為被告有利之認定等語為被告辯護。經查：(一)被告於103年8月6日持該借據向本院聲請民事支付命令，經本院司法事務官為形式審查後，於103年8月7日將該借據之款項及被告所聲請之利息登載於職務上所製作之103年度司促字第9908號支付命令，嗣因告訴人莊林美雪聲明異議，視為起訴，本院於103年9月12日裁定命被告繳交裁判費用，惟被告未繳交，再經本院於103年10月16日以103年度訴字第1042號裁定原告之訴駁回確定，其後被告向告訴人提起確認買賣關係不存在等之民事訴訟時，復提出該借據作為證據等情，為被告所坦白承認，並有民事支付命令聲請狀影本、借據影本、本院103年度司促字第9908號支付命令及103年度訴字第1042號民事裁定影本、臺灣高等法院104年度重上字第1095號民事判決書（見他卷第2至5頁，偵卷第25至29頁背面）在卷可參，是此部分之事實，先予認定。(二)證人即告訴人莊林美雪於偵訊中證稱：莊樹枝沒有向借據所載之3人借過錢，借據記載不實在，上面的印章是洪月連偷刻的，且其有很多兒子，要借錢也不會向洪月連借錢等語（見偵卷第19至21頁背面）；繼於本院審理中證稱：莊樹枝沒有跟洪月連借過錢，其與莊樹枝沒有寫過借據給洪月連，也沒有授權洪月連寫借據，由其等蓋章的情形等語（見本院卷第84頁背面至89頁），是證人即告訴人莊林美雪迭於偵訊及本院審理中均證稱莊樹枝未曾向被告借錢，且其等亦未授權予被告撰寫系爭借據，則系爭借據是否為真正，即非無疑。再者，據證人即被告之夫洪崇珍於偵訊中證稱：84年間其與洪月連感情很好，係因為父親在87年11月24日過世後，其才搬回家住，而其係在1個多月前（製作筆錄時間為105年1月11日）才看過本案借據，在之前都沒有看過，洪月連也未曾告知父親莊樹枝有向她借錢的事情等語（見他卷第49至54頁），是倘莊樹枝如需用錢，何以未向莊崇珍表示，反係直接向被告為之，已屬有疑，且依借據所記載之情形，借款金額均非屬小額借貸，次數更達3次，而莊崇珍均不知情，亦與事理常情相違，故莊樹枝是否曾向被告借貸金錢，誠屬有疑。(三)就被告所辯貸與款項之資金來源，惟查：1.79年5月11日部分，被告稱該部分係其於79年5月11日至臺灣銀行，本欲領取60萬元轉定存，而因莊樹枝借用，始未轉定存云云，然依被告提出之臺灣銀行帳號000000000000號存摺封面暨內頁交易明細影本（見他卷第58至63頁），79年5月11日確實有支出60萬元（見同卷第63頁），而此部分之交易情形，乃係被告於79年5月11日自臺灣銀行提領60萬元後，當日轉為定存，按月續存至79年9月間等情，有臺灣銀行連城分行105年3月2日連城營密字第10550000771號函暨所附傳票影本2紙、105年10月26日連城公密字第10550005241號函暨所附轉帳傳票影本4紙、臺灣彰化地方法院檢察署公務電話紀錄單2紙（見他卷第148至150、185頁，偵卷第113至117、121至122頁）附卷可參，是被告所稱此部分借款資金來源，顯係子虛烏有，不足為採。2.83年10月27日及84年12月26日部分，被告稱均係母親就醫時攜帶現金100萬元、150萬元自彰化縣竹塘鄉北上至臺北交付予被告，被告在臺北交付100萬元、150萬元現金予莊樹枝，莊樹枝再攜回彰化縣竹塘鄉云云。衡諸常情，100萬元、150萬元均屬巨額款項，交易方式多係以匯款為之，倘依被告所言，被告母親係利用就醫時搭車攜帶現金北上，而被告母親長期居住於彰化縣竹塘鄉，獨自一人搭車北上就醫本非其平常之事，已需多加注意小心，若再攜帶巨額款項至臺北交付予被告，更需付出相當心力保管金錢，顯與常情相違；再者，若依被告所述，其收受現金後，再交由莊樹枝自臺北攜回彰化縣竹塘鄉，可見金錢來源及欲交付之對象均係在彰化縣竹塘鄉，大可相約在彰化縣竹塘鄉交付款項即可，何以冒著攜帶巨額現金遺失之風險，往來彰化臺北間，亦與常情相悖。3.綜上，被告就借款之資金來源，已有前開不實、不合理之處，實難認定被告有何貸與金錢予莊樹枝乙情，從而，被告所提系爭借據，應屬偽造甚明。(四)另辯護人主張鑑定機關無法鑑定借據筆墨及紙張年份，應為被告有利之認定部分。惟查，內政部警政署刑事警察局固函覆有關借據原本之紙張年份及借據上筆墨為幾年所寫一節，因無是項鑑定條件，無法鑑定，有該局105年1月19日刑鑑字第1050004021號函文（見他卷第122頁）在卷可參，而法務部調查局函覆由於製作文件之用紙材質及筆墨種類繁多，使用時新舊情況又不明（如舊物新用），加上紙本文件易受溫度、濕度、光照、日曬及空氣流通情形等保存條件不定之影響而生變化，故難憑文件構成素材之氧化情形或成分判斷本案借據紙張之筆墨之年份與書寫時間，有該局105年1月30日調科貳字第10503130060號函（見他卷第135頁）在卷足參，然而，此僅係無法鑑定系爭借據紙張、筆墨年份及書寫時間，要與系爭借據是否為偽造乙節無涉，自無從為被告有利或不利之認定，是辯護人此部分主張，容有誤會，附此敘明。(五)綜上所述，被告所辯，應屬飾卸之詞，不足為採，此外，尚有扣案之偽造借據原本可資佐證，足認被告前開犯行，事證明確，堪以認定，應予依法論科。三、論罪科刑：(一)按偽造文書罪之成立，係以無制作權人，冒用他人名義作成之文書，足以生損害於公眾及他人為要件。蓋偽造文書罪，係以其信用為保護法益，茲所謂他人，除自己之外，不問已經死亡或尚未出生者，均包括在內（最高法院89年度臺上第173號判決參照）。復按支付命令之聲請，除應表明當事人及法定代理人、法院外，祇須表明請求之標的並其數量及請求之原因事實，以及應發支付命令之陳述；又法院應不訊問債務人，就支付命令之聲請為裁定；債務人對於支付命令，得不附理由於法定期間向發命令之法院提出異議，此時，支付命令失其效力，以債權人支付命令之聲請，視為起訴或聲請調解，民事訴訟法第511條（指104年7月1日修正公布前之規定）、第512條、第516條第1項、第519條第1項分別定有明文，故債權人於督促程序就支付命令之聲請毋庸舉證，法院就其聲請並不為實質之審查，經為形式上之審查後，除有民事訴訟法第513條第1項應予裁定駁回之情形外，應發支付命令，故聲請人如就請求之標的、數量及請求之原因事實有虛偽不實之聲明，使法院將此不實事項登載於支付命令上，自足生損害於債務人及債務人之真正債權人，應構成刑法第214條之使公務員登載不實罪（最高法院89年度臺非字第477號判決意旨參照）。是核被告所為，係犯刑法第216條、第210條之行使偽造私文書罪及同法第214條之使公務員登載不實罪。被告偽造「莊樹枝」、「莊林美雪」之印章，乃係利用不知情之刻印業者為之，係間接正犯。被告先後持偽造之借據聲請支付命令、作為民事訴訟案件之證據而行使之行為，係於密切接近之時、地實施，且係侵害同一法益，各行為之獨立性極為薄弱，依一般社會健全觀念，在時間差距上，難以強行分開，在主觀上顯係基於同一之犯意，為接續犯，應論以一罪。另被告偽造莊樹枝、莊林美雪之署名、印章、印文，為偽造私文書之部分行為，而偽造私文書後復持以行為，偽造私文書之低度行為應為其後行使之高度行為所吸收，均不另論罪。又其所犯上開2罪，行為雖非完全一致，然仍有部分重疊，且其犯罪目的同一，乃係一行為觸犯2罪名，為想像競合犯，應依刑法第55條規定，從一重論以行使偽造私文書罪。檢察官於起訴書中，雖僅記載被告持系爭偽造之借據向法院聲請支付命令而行使之，未將使公務員登載不實部分之犯罪事實記載完備，且漏未記載被告將偽造之借據提出作為民事訴訟案件之證據之犯罪事實，然前開部分與已敘及部分，分別有想像競合犯之裁判上一罪及接續犯之實質上一罪關係，均為起訴效力所及，本院自應併予審理。(二)爰審酌被告為圖獲得莊林美雪前開所有房地，竟虛偽捏造莊樹枝積欠其債務、莊林美雪願提供上開房地抵償，而冒用莊樹枝、莊林美雪之名義偽造系爭借據，並進而持向法院聲請支付命令，而使公務員登載不實，其後與他人民事訴訟程序中，又提出作為證據使用，試圖影響法院認事用法之正確性，所為實不足取，並考量其犯後否認犯行之犯後態度，暨其智識程度、犯罪目的、手段、生活狀況等一切情狀，量處如主文所示之刑，並諭知易科罰金之折算標準，以資儆懲。(三)經查，被告行為後，刑法業於104年12月30日修正，於105年7月1日施行，增訂第5章之1沒收，繼於105年6月22日修正沒收章節中之第38條之3，於同年7月1日施行。是本案關於沒收部分，一律適用裁判時即修正後刑法之規定，先予敘明。偽造之「莊林美雪」及「莊樹枝」之印章各1枚，雖均未扣案，惟不能證明業已滅失，應依刑法第219條規定宣告沒收。又扣案之偽造借據，為行使偽造私文書罪所用之物，爰依刑法第38條第2項前段規定宣告沒收，而其上所偽造之署名及印文，已因偽造借據之沒收而包括在內，自不重為沒收之諭知，附此敘明。據上論斷，應依刑事訴訟法第299條第1項前段，刑法第2條第2項、第210條、第214條、第216條、第55條、第41條第1項前段、第219條、第38條第2項前段，刑法施行法第1條之1，判決如主文。本案經檢察官傅克強到庭執行職務。中華民國106年6月29日刑事第四庭審判長法官余仕明法官都韻荃法官林怡君以上正本證明與原本無異。如不服本判決應於收受判決後10日內向本院提出上訴書狀，並應敘述具體理由。其未敘述上訴理由者，應於上訴期間屆滿後20日內向本院補提理由書（均須按他造當事人之人數附繕本）「切勿逕送上級法院」。告訴人或被害人對於判決如有不服具備理由請求檢察官上訴者，其上訴期間之計算係以檢察官收受判決正本之日期為準。中華民國106年6月29日書記官吳冠慧附錄本案論罪科刑法條：中華民國刑法第210條（偽造變造私文書罪）偽造、變造私文書，足以生損害於公眾或他人者，處5年以下有期徒刑。中華民國刑法第214條（使公務員登載不實罪）明知為不實之事項，而使公務員登載於職務上所掌之公文書，足以生損害於公眾或他人者，處3年以下有期徒刑、拘役或5百元以下罰金。中華民國刑法第216條（行使偽造變造或登載不實之文書罪）行使第210條至第215條之文書者，依偽造、變造文書或登載不實事項或使登載不實事項之規定處斷。\n",
            "Article Index: 231 Distance: 0.27456686749954584\n",
            "Article Text: 一、吳榮峻（由本院另行審理判決）自民國96年12月起，在臺南市○○路○段000號5樓之3開設名稱為「金豪行銷公司」之信用卡代辦中心，夥同渠所雇用之王燈發、張勝賢、莊偉哲及邵龍財擔任業務招攬工作（上開4人均由本院另行審理判決），及劉驊慧擔任文書處理工作（由本院另行審理判決），共同基於行使偽造私文書及意圖為自己不法所有之犯意聯絡，先由吳榮峻及王燈發於中華日報及自由時報之分類廣告版中刊登「代辦信用卡、無工作可辦、0000000000」及「100﹪銀行，只要信用正常，我們可以幫你辦理銀行貸款，0000000000」等文字廣告，對外招攬自身並無工作或欠缺財力證明而無法向銀行申辦信用卡之人，宣稱僅須交付身分證及健康保險卡影本即可代辦信用卡。二、劉玉枝閱覽上開廣告內容後，乃與「金豪行銷公司」電話聯繫，並前往「金豪行銷公司」，交付身分證及健保卡予王燈發，委託其代為申辦信用卡。劉玉枝明知自己並未在和芳製衣有限公司（下稱和芳公司）工作，竟與張勝賢、吳榮峻、王燈發、莊偉哲、邵龍財及劉驊慧等人共同基於行使偽造私文書及意圖為自己不法所有之犯意聯絡，由王燈發在中國信託商業銀行股份有限公司（下稱中信銀行）及友邦商業銀行有限公司（下稱友邦銀行）之信用卡申請書上填載劉玉枝在和芳公司任職、職稱及薪水等之虛假事項，並由劉玉枝授權王燈發在上開信用卡申請書之申請人欄位簽名，完成上開信用卡申請書，並由吳榮峻偽造內容不實之和芳公司薪資明細表，再由吳榮峻分別於97年3月11日、同年月18日持中信銀行、友邦銀行信用卡申請書及偽造之薪資明細表，向中信銀行及友邦銀行申辦信用卡，劉玉枝並於上開銀行徵信人員打電話對保時，向銀行徵信人員偽稱在和芳公司任職之不實事項，致生損害於和芳公司及中信銀行、友邦銀行對於信用卡風險之控管，嗣中信銀行因劉玉枝及吳榮峻、王燈發、張勝賢、莊偉哲、邵龍財及劉驊慧等人實施上開詐術陷於錯誤而核發信用卡予劉玉枝，友邦銀行則拒絕核發信用卡而未遂。三、案經臺南市政府警察局第一分局報請臺灣臺南地方法院檢察署檢察官偵查起訴，由本院裁定改依簡易程序審理。理由壹、證據能力之判斷：本件以下所引用之具傳聞性質之證據，檢察官及被告於本案言詞辯論終結前，均未爭執其證據能力，本院審酌前開證據之作成或取得之狀況，並無非法或不當取證之情事，且經本院於審判期日就上開證據依法進行調查、辯論，依刑事訴訟法第159條之5規定，均具有證據能力。至以下所引用之不具傳聞性質之證據，因非警方違背法定程序取得之證據，依法自應有證據能力，合先敘明。貳、犯罪事實之認定：一、訊據被告劉玉枝固不否認其未在和芳公司任職，其交付身分證、健保卡予王燈發，並授權王燈發在中國信託商業銀行及友邦商業銀行信用卡申請書申請人欄位簽名，並於二家銀行電話徵信時，均對徵信人員偽稱任職於和芳公司，致中國信託商業銀行核發信用卡、友邦公司拒絕核發信用卡之事實，惟矢口否認有何偽造文書、詐欺之犯意，辯稱，伊不知道王燈發的公司是騙人的，伊是因為王燈發交待而向銀行偽稱是和芳公司員工云云。二、上開事實，業據被告劉玉枝自承在卷，核與證人即共同被告吳榮峻（見警卷1第1至4頁；警卷2第8至11頁；偵卷2第25至27頁；偵卷1第9至11頁；本院卷8第105至114頁、188至190頁）、王燈發（警卷1第5至11頁；偵卷2第30至31頁；偵卷1第9至11頁；本院卷8第65至72頁、第178至187頁）、張勝賢（見警卷2第19至第26頁；本院卷3第283及第285頁；本院卷8第114至第128頁、192至206頁）、莊偉哲（警卷2第27至31頁；本院卷3第284至289頁；本院卷8第95至第105頁）、邵龍財（警卷2第32至37頁；偵卷2第126至第127頁；本院卷3第287至第289頁；本院卷8第73至86頁）及劉驊慧（見警卷1第12至14頁；偵卷2第28至29頁；偵卷1第9至11頁；本院卷3第287至第289頁）證稱在卷，並有中國信託銀行信用卡申請書、被告身分證影本、健保卡影本各1紙（見警卷3第143至第144頁）、偽造和芳公司薪資明細表3紙（警卷3第145至第147頁）、友邦商業銀行信用卡申請書、被告身分證影本、健保卡影本各1紙（見警卷5第75至第76頁）、金豪行銷公司進件表1份（見警卷4第24頁）、中信銀行98年9月30日陳報狀1紙（見偵卷3第132至第133頁）、財團法人金融聯合徵信中心102年8月5日金徵（業）字第00000000000號函暨檢送劉玉枝授信、保證、信用卡刷卡紀錄資訊1份（本院卷10第183至第186頁）在卷可稽，此部分事實，要可認定。三、被告雖辯稱金豪公司自稱是銀行人員出來開立，伊相信且無不法之故意云云。惟查，被告明知自己並非和芳公司員工，竟仍對銀行徵信人員偽稱係和芳公司職員，施以詐術，足認其確有行使偽造私文書及詐騙之故意，其辯稱無不法故意云云，僅係空言卸詞，尚不足採。四、綜上所述，被告與吳榮峻等人共同行使偽造私文書、詐欺取財等犯行，均情事明確，堪以認定，應依法論科。參、論罪科刑：一、查被告被訴假冒和芳公司員工申請中國信託商商業銀行而核發信用卡部分，係犯刑法第216條、第210條行使偽造私文書罪及第339條第一項詐欺取財罪；又假冒和芳公司員工申請友邦商業銀行核發信用卡，經友邦商業銀行拒絕核發部分，係犯刑法第216條、第210條行使偽造私文書罪及第339條第3項及第1項詐欺取財未遂罪。二、被告所犯行使偽造私文書、詐欺取財二罪間，係一行為觸犯數罪名，應依刑法第55條想像競合犯規定，從一重以行使偽造私文書罪處斷。起訴書雖未論及刑法第339條第1項、第3項之罪，惟此部分與有罪之行使偽造私文書部分，有裁判上一罪之想像競合犯關係，仍為本院審理範圍，併此敘明。三、被告就上開犯行，與吳榮峻、張勝賢、王燈發、莊偉哲、邵龍財及劉驊慧等人，有犯意聯絡及行為分擔，應論以共同正犯。四、又被告先後二次犯行，行為互異，應分論併罰。五、原審以被告犯罪事證明確，予以論罪科刑，固非無見，惟本案判決被告行使偽造文書罪，共二罪，各量處有期徒刑4月、3月，並定應執行有期徒刑4月，已失立法者區分數罪、一罪之危害性而分別制定刑罰之功能，原審定應執行刑之量刑裁量有違比例原則，自有違法之處，檢察官循此提起上訴，請求撤銷原判決，為有理由，自應由本院撤銷改判，至於被告空言否認犯罪，上訴並無理由，惟原判決既有前開可議之處，仍應由本院撤銷改判。六、爰審酌被告犯罪動機、手段、所得、與犯罪集團假冒和芳公司員工申辦信用卡，致生損害於和芳公司及發卡銀行對於信用卡用戶資料審核之正確性，對社會治安、金融秩序潛在之危害非輕、犯罪後並未坦承犯行之態度，並斟酌被告前無前科之素行、小學畢業之智識程度、經濟狀況等一切情狀，分別量處如主文所示之刑，並諭知有期徒刑如易科罰金之折算標準，另就有期徒刑部分定應執行刑及如易科罰金之折算標準如主文所示，以示儆懲。據上論斷，依刑事訴訟法第455條之1第1項、第3項、第369條第1項前段、第364條、第299條第1項前段，刑法第28條、第216條、第210條、第339條第1項、第3項、第55條、第51條第5款、第41條第1項，刑法施行法第1條之1，判決如主文。本案經檢察官王誠到庭執行職務。中華民國103年3月20日刑事第三庭審判長法官彭喜有法官高俊珊法官洪士傑以上正本證明與原本無異不得上訴書記官黃鋕偉中華民國103年3月20日附錄法條：中華民國刑法第210條（偽造變造私文書罪）偽造、變造私文書，足以生損害於公眾或他人者，處5年以下有期徒刑。中華民國刑法第216條（行使偽造變造或登載不實之文書罪）行使第210條至第215條之文書者，依偽造、變造文書或登載不實事項或使登載不實事項之規定處斷。中華民國刑法第339條（普通詐欺罪）意圖為自己或第三人不法之所有，以詐術使人將本人或第三人之物交付者，處5年以下有期徒刑、拘役或科或併科1千元以下罰金。以前項方法得財產上不法之利益或使第三人得之者，亦同。前二項之未遂犯罰之。\n",
            "Article Index: 259 Distance: 0.27494324548395255\n",
            "Article Text: 一、林詹吩（民國00年0月0日生，行為時為滿80歲之人）為林森垚之妻，林慶重、林慶興均為林森垚之子。渠等均明知林森垚於98年3月5日死亡後，林森垚之遺產，應由林森垚之遺孀林詹吩與其子女林慶興、林慶重、林正川、林沛蓉、林妤錡、林雪、林美雲等人依法共同繼承，須由全體繼承人同意，並檢具相關證件，依據繼承之程序，始得提領林森垚遺產，林詹吩、林慶重、林慶興竟先後為下列行為：(一)林詹吩與林慶興、林正川（以上2人此部分未經起訴，應由檢察官另行分案處理）共同基於行使偽造私文書之犯意聯絡，於98年3月6日，共同前往南投縣鹿谷鄉農會信用部（下稱鹿谷鄉農會），由林詹吩持其保管之林森垚之真正印章1顆，以林森垚為名義，在「更換印鑑申請書」上「存款戶」、「新印鑑式樣」欄上分別使用上開林森垚之真正印章蓋印「林森垚」印文2枚、印文1枚，及在「鹿谷鄉農會存款印鑑卡（活期存款）」、「鹿谷鄉農會存款印鑑卡（存單存款）」上之「印鑑」欄、「存戶及負責人」簽章處，分別使用上開林森垚之真正印章蓋印「林森垚」印文各1枚。嗣因林詹吩無法簽名，林慶興、林正川並在該「存款戶」欄、「戶名及負責人」簽章處旁均簽自己之名表示為見證人，而偽造林森垚向鹿谷鄉農會辦理變更林森垚活期儲蓄存款、定期存款之原留印鑑之上開等不實之私文書，足生損害於鹿谷鄉農會管理金融帳戶之正確性。再持上開等偽造之私文書連同林森垚國民身分證影本一併交付鹿谷鄉農會承辦人員邱信用、黃世煌而行使之，用以主張係林森垚本人欲辦理變更印鑑之意思，使前揭承辦人員予以辦理林森垚原留印鑑之變更，足生損害於鹿谷鄉農會管理金融帳戶之正確性。渠等復接續上開共同行使偽造私文書之犯意聯絡，接續在林森垚之鹿谷鄉農會編號：0000000、0000000、0000000、0000000、0000000，金額分別為：新臺幣（下同）60萬元、40萬元、60萬元、40萬元、40萬元之定期儲蓄存款存單背面「存戶簽蓋原留印鑑」欄使用上開林森垚之真正印章盜蓋「林森垚」印文各1枚，偽造林森垚本人就該定期儲蓄存款存單申請中途解約之私文書，而持以向鹿谷鄉農會承辦人員邱信用行使之，使該承辦人員誤為林森垚本人申請辦理定期存款解約，而將解約後所得之款項，轉入林森垚本人在該農會00000000000000號之帳戶內，足生損害鹿谷鄉農會管理金融帳戶之正確性。渠等並接續上開共同行使偽造私文書，以及另共同意圖為自己不法所有之犯意聯絡，在鹿谷鄉農會取款憑條上之「存戶簽章」欄使用林森垚之真正印章盜蓋「林森垚」印文1枚，偽造林森垚本人提領上開定期存款解約後可得之款項及該帳戶內原有存款合計共267萬5,000元之私文書，而持以向鹿谷鄉農會承辦人員行使之，使承辦人員因而陷於錯誤，遂將該筆款項依林詹吩指示轉至林詹吩設在該農會初鄉分部000000000000000號帳戶內，足生損害於林沛蓉、林妤錡、林雪等共同繼承人之權利及鹿谷鄉農會管理金融帳戶之正確性。(二)林詹吩另與林慶重共同意圖為自己不法所有，並基於行使偽造私文書之犯意聯絡，由林詹吩囑咐林慶重，分別為下列行為：1.於98年3月10日，攜由林詹吩所保管之林森垚之真正印章至臺灣中小企業銀行（下稱臺灣企銀）竹山分行，在該銀行取款憑條上存戶簽章欄使用林森垚之印章盜蓋「林森垚」之印文1枚，偽造林森垚本人提領其設在該分行00000000000號帳戶內之1萬元取款憑條之私文書，足生損害於臺灣企銀竹山分行管理金融帳戶之正確性，繼而持該偽造之取款憑條向該分行承辦人員行使之，使該承辦人員因而陷於錯誤，將上開款項轉入林慶重設在該分行之00000000000號帳戶內，足生損害於林沛蓉、林妤錡、林雪等共同繼承人之權利及臺灣企銀竹山分行管理金融帳戶之正確性。2.於98年3月11日，以上開1.之相同手法，偽造林森垚本人提領銀行帳戶內之20萬3,000元、5萬元等取款憑條之私文書，足生損害於臺灣企銀竹山分行管理金融帳戶之正確性，繼而持該偽造之取款憑條向該分行承辦人員行使之，使該承辦人員因而陷於錯誤，將上開款項轉入林慶重設在該分行之00000000000號帳戶內，足生損害於林沛蓉、林妤錡、林雪等共同繼承人之權利及臺灣企銀竹山分行管理金融帳戶之正確性。3.於98年3月12日，以上開1.之相同手法，偽造林森垚本人提領銀行帳戶內之25萬2,400元取款憑條之私文書，足生損害於臺灣企銀竹山分行管理金融帳戶之正確性，繼而持該偽造之取款憑條向該分行承辦人員行使之，使該承辦人員因而陷於錯誤，將上開款項轉入林慶重設在該分行之00000000000號帳戶內，足生損害於林沛蓉、林妤錡、林雪等共同繼承人之權利及臺灣企銀竹山分行管理金融帳戶之正確性。(三)林詹吩另與林慶興共同意圖為自己不法所有，並基於行使偽造私文書之犯意聯絡，由林詹吩囑咐林慶興於98年3月11日，攜由林詹吩所保管之林森垚之真正印章至臺中商業銀行（下稱臺中商銀）竹山分行（原為鹿谷分行，後併入竹山分行，下以新制稱），在該銀行存摺存款取款憑條上「存戶簽章」欄使用林森垚之印章盜蓋「林森垚」之印文1枚，偽造林森垚本人提領其設在該分行000000000000號帳戶（起訴書誤為00000000000號帳戶，業經公訴檢察官當庭更正）內之2萬9,000元取款憑條之私文書，足生損害於臺中商銀竹山分行對於管理金融帳戶之正確性，繼而持該偽造之取款憑條向該分行承辦人員行使之，使該承辦人員因而陷於錯誤，將上開款項轉入林慶興設在該分行之000000000000號帳戶內，足生損害於林沛蓉、林妤錡、林雪等共同繼承人之權利及臺中商銀竹山分行管理金融帳戶之正確性。(四)林詹吩另與林慶興共同基於行使偽造私文書之犯意聯絡，由林詹吩囑咐林慶興，於98年3月18日，攜由林詹吩所保管之林森垚之真正印章至臺中商銀竹山分行，接續在林森垚之臺中商銀竹山分行編號：017033至017036，金額分別為：60萬元、100萬元、100萬元、100萬元之存本取息儲蓄存款存單背面「請蓋原留印鑑」欄使用林森垚之印章盜蓋「林森垚」印文各1枚，偽造林森垚本人就該存本取息儲蓄存款存單申請中途解約之私文書，而持以向臺中商銀竹山分行承辦人員謝念紋行使之，使該承辦人員誤為林森垚本人授權辦理定期存款解約，而同意林森垚上開定期存款解約，並將解約後所得款項，轉入林森垚本人在該分行所申設之000000000000號之帳戶內，足生損害臺中商銀竹山分行管理金融帳戶之正確性。渠等並接續上開共同行使偽造私文書，以及另共同意圖為自己不法所有之犯意聯絡，在臺中商銀存摺存款取款憑條上之「存戶簽章」欄使用林森垚之印章盜蓋「林森垚」印文1枚，偽造林森垚本人提領上開定期存款解約後之360萬1,350元及原帳戶內剩餘之159元共計360萬1,509元之私文書1紙（起訴書誤為4紙應予更正），而持以向臺中商銀竹山分行承辦人員謝念紋行使之，使該承辦人員因而陷於錯誤，遂將該筆款項中之120萬2,684元，依林慶興指示轉至林慶興設在該分行之000000000000號帳戶內，其餘239萬8,825元依林慶興指示匯入遠雄人壽保險事業股份有限公司作為林慶興之保險費，足生損害於林沛蓉、林妤錡、林雪等共同繼承人之權利及臺中商銀竹山分行管理金融帳戶之正確性。二、案經林沛蓉、林妤錡、林雪訴由臺灣南投地方法院檢察署檢察官偵查起訴。理由壹、有罪部分：一、程序部分：按被告以外之人於審判外之陳述，經當事人於審判程序同意作為證據，法院審酌該言詞陳述或書面陳述作成時之情況，認為適當者，亦得為證據；當事人、代理人或辯護人於法院調查證據時，知有第159條第1項不得為證據之情形，而未於言詞辯論終結前聲明異議，視為有前項之同意，刑事訴訟法第159條之5定有明文。核其立法意旨，在於傳聞證據未經當事人之反對詰問予以核實，原則上先予排除。惟若當事人已放棄反對詰問權，於審判程序中表明同意該等傳聞證據可作為證據，或於言詞辯論終結前未聲明異議，基於尊重當事人對傳聞證據之處分權，及證據資料愈豐富，愈有助於真實發見之理念，暨強化言詞辯論主義，使訴訟程序得以順暢進行，上開傳聞證據亦應具有證據能力。查本件以下採為判決基礎之被告以外之人於審判外之言詞或書面陳述，固屬傳聞證據，惟該等證據經被告林詹吩、林慶重、林慶興表示對於證據能力無意見，同意作為本案證據（參見本院卷第40頁反面至第41頁反面），復經本院依法踐行調查證據程序時，諭知檢察官、被告林詹吩、林慶重、林慶興均得隨時就本案各項證據（包括證據能力）表示意見，而檢察官、被告林詹吩、林慶重、林慶興迄言詞辯論終結前，均未對該等證據之證據能力表示異議（參見本院卷第199頁至第204頁反面），揆諸前揭說明，暨經審酌前揭證據之取得，無違法取證其他瑕疵，以之為本案證據堪為適當等情，本院認該等證據均有證據能力。二、認定事實所憑之證據及理由：上揭犯罪事實，業據被告林詹吩、林慶重、林慶興於本院準備程序及審理時均坦承不諱，核與告訴人林妤錡、林沛蓉、林雪於偵查中之指述【參見臺灣南投地方法院檢察署101年度偵字第2806號偵卷（下稱偵卷）第13頁至第14頁、第21頁至第23頁、第47頁至第50頁、第74頁至第78頁】、證人即鹿谷鄉農會承辦人員張宏謀、邱信用、黃世煌及證人即臺中商銀竹山分行承辦人員謝念紋於本院審理時證述之情節均相符合（參見本院卷第94頁反面至第97頁反面、第97頁反面至第98頁反面、第196頁至第198頁、第198頁至第199頁），並有林森垚之除戶戶籍謄本（見偵卷第5頁）、林慶重之臺灣企銀竹山分行存摺封面及內頁影本、林森垚之繼承系統表、財政部臺灣省中區國稅局97年度綜合所得稅各類所得資料清單）、奉養母親支出計算表各1份（見偵卷第5頁至第7頁、第15頁至第19頁）、臺灣企銀竹山分行101年8月31日101竹山字第5300190117號函暨檢附98年3月10、11、11、12日取款憑條（代傳票）影本4份及活期存款交易明細影本1份（見偵卷第26頁至第31頁）、臺灣企銀竹山分行活期存款交易明細表影本1份及98年3月11日、12日取款憑條（代傳票）影本3份、存摺存款憑條2份、林森垚之臺中商銀竹山分行活期儲蓄存款交易明細及林慶重之臺中商銀竹山分行綜合存款存摺封面、林森垚之鹿谷鄉農會活期存款往來交易明細表及林詹吩之鹿谷鄉農會活期儲蓄存款存摺封面影本各1份（見偵卷第32頁至第41頁）、林森垚之鹿谷鄉農會活期性存款存摺封面及內頁影本1份（見偵卷第79頁）、鹿谷鄉農會102年10月24日鹿鄉農信字第1020004140號函暨檢附取款憑條、轉帳收入傳票、鹿谷鄉農會存款印鑑卡影本各1份（見本院卷第13頁至第16頁）、臺中商銀竹山分行102年10月30日中竹山字第1020000147號函暨檢附林森垚帳號0000000號之帳戶存摺存款取款憑條影本2份、存款憑條影本1份、存摺存款存款憑條影本2份（見本院卷第17頁至第22頁）、林森垚之鹿谷鄉農會活期存款往來交易明細表1份（見本院卷第47頁）、臺中商銀竹山分行103年3月13日中竹山字第1030000043號函暨檢附存本取息儲蓄存款存單影本4份、解約取息憑條代利息支出傳票影本4份（見本院卷第50頁至第54頁）、林詹吩之鹿谷鄉農會活期儲蓄存款之存摺封面及內頁影本各1份（見本院卷第64頁）、鹿谷鄉農會103年5月7日鹿鄉農信字第1030001673號函暨檢附轉帳收入傳票影本5份、存單存款銷戶登錄單（代傳票）(1)（聯2）影本2份、定期儲蓄存款存單影本5份、活期存款往來交易明細表影本1份（見本院卷第67頁至第83頁）、鹿谷鄉農會103年9月29日鹿鄉農信字第1030003741號函暨檢附林森垚帳號00000000000000號帳戶之5筆定存單解約之印鑑資料1份（見本院卷第105頁至第118頁）、鹿谷鄉農會103年10月3日鹿鄉農信字第1030003837號函暨檢附林森垚取款憑條影本1份、定期儲蓄存款存單影本5份（見本院卷第124頁至第136頁，原本置於第136頁之公文封）、臺灣企銀竹山分行103年10月9日103竹山字第5300390092號函暨檢附取款憑條影本4紙（見本院卷第137頁至第141頁，原本置於第141頁之公文封）、鹿谷鄉農會103年10月20日鹿鄉農信字第1030004027號函暨檢附林森垚更換印鑑申請書、註銷印鑑卡、活期存款印鑑卡、存單存款印鑑卡影本各1份（見本院卷第143頁至第149頁，原本置於第149頁之公文封）、臺中商銀竹山分行103年10月7日中竹山字第1030000195號函暨檢附存本取息儲蓄存款存單影本4份（見本院卷第150頁至第154頁）、臺灣南投地方法院電話紀錄表1紙（見本院卷第156頁）等資料在卷可稽，足認被告林詹吩、林慶重、林慶興之自白均與事實相符而可採，本件事證明確，應依法論科。三、論罪科刑之理由：(一)按行為後法律有變更者，適用行為時之法律；但行為後之法律有利於行為人者，適用最有利於行為人之法律，刑法第2條第1項定有明文。查本案被告林詹吩、林慶重、林慶興行為後，刑法第339條第1項業於103年6月18日經總統公布修正，而於同年6月20日生效施行，修正前刑法第339條第1項規定：「意圖為自己或第三人不法之所有，以詐術使人將本人或第三人之物交付者，處5年以下有期徒刑、拘役或科或併科1千元以下罰金。」（依刑法施行法第1條之1第1項、第2項前段規定，上開罰金數額提高為30倍，即新臺幣3萬元以下罰金，下同）；修正後刑法第339條第1項則規定：「意圖為自己或第三人不法之所有，以詐術使人將本人或第三人之物交付者，處5年以下有期徒刑、拘役或科或併科50萬元以下罰金。以前項方法得財產上不法之利益或使第三人得之者，亦同。」，修正後刑法第339條第1項，將法定刑自「5年以下有期徒刑、拘役或科或併科1千元以下罰金」，提高為「5年以下有期徒刑、拘役或科或併科50萬元以下罰金」。經比較修正前後之法律，新法提高罰金刑上限，對被告林詹吩、林慶重、林慶興較為不利，是應依刑法第2條第1項前段規定，適用渠等行為時之法律。(二)按人之權利能力，始於出生，終於死亡，民法第6條定有明文。被繼承人死亡時，其權利能力即喪失，權利主體已不存在，自不能以被繼承人名義為法律行為。縱被繼承人生前曾授權他人為之，亦因其死亡而授權關係歸於消滅，仍不得再以被繼承人之名義為法律行為。倘以被繼承人名義製作文書，當屬無權製作之偽造行為，若足以生損害於公眾或他人，即難辭偽造文書罪責（最高法院102年度台上字第4206號判決參照）。次按偽造文書罪，係著重於保護公共信用之法益，即使該偽造文書所載之作成名義人業已死亡，而社會一般人仍有誤認其為真正文書之危險，自難因其死亡阻卻犯罪之成立（最高法院21年上字第2668號判例參照）。再按銀行製作之定期存單與一般存款簿相同，不得以背書或交付轉讓，參酌銀行法第7條、第8條意旨，係供存款人，憑以提取存款之證明，並不發生設權之效果，倘存款人喪失存單之占有時，可請求銀行補發，並非依公示催告除權判決之程序辦理，且設定質權時，係以存款之債權為質權之標的物，並不移轉存單之占有，其性質為文書，非有價證券（最高法院89年度台上字第5227號判決參照）。農業金融法第33條並有準用上開銀行法之規定，是依農會信用部製作之定期存單，亦應為相同之解釋。是核被告林詹吩就事實欄一(一)至(四)之所為；被告林慶重就事實欄一(二)之所為；被告林慶興就事實欄一(三)至(四)之所為，均係犯刑法第216條、第210條之行使偽造私文書罪及修正前刑法第339條第1項之詐欺取財罪。被告林詹吩、林慶重、林慶興等人分別在更換印鑑申請書、印鑑卡（活期存款、存單存款）、定期存單及取款憑條等私文書上以盜蓋之方式偽造「林森垚」之印文，分別為各該偽造私文書之階段行為；其等偽造上開私文書等後復持以行使，則偽造之低度行為應為行使之高度行為所吸收，均不另論罪。(三)被告林詹吩就事實欄一(一)所示各次行使偽造私文書之犯行；被告林詹吩、林慶重就事實欄一(二)2.所示於98年3月11日同日2次行使偽造文書私文書及詐欺取財之犯行；被告林詹吩、林慶興就事實欄一(四)各次行使偽造私文書之犯行，顯係利用同一機會，於密接時、地，接續侵害其餘告訴人林沛蓉、林妤錡、林雪等共同繼承人、鹿谷鄉農會、臺灣企銀及臺中商銀之同一法益，且各行為之獨立性極為薄弱，依一般社會健全觀念，在時間差距上，難以強行分開，在刑法評價上，以視為數個舉動之接續施行，合為包括之一行為予以評價較為合理，應均論以接續犯。公訴意旨認被告林詹吩、林慶重就事實欄一(二)2.所示之犯行，應予分論併罰，容有誤會。(四)被告林詹吩與林慶興、林正川（以上2人未經起訴）間，就事實欄一(一)所示之犯行；被告林詹吩、林慶重就事實欄一(二)所示之犯行；被告被告林詹吩、林慶興就事實欄一(三)(四)所示之犯行，均有犯意聯絡及行為分擔，俱應論以共同正犯。(五)被告林詹吩、林慶重、林慶興等人行使偽造私文書，係為冒林森垚之名辦理定期存款解約及提領款項，而供其等遂行向農會、銀行詐取財物之目的，是其等行使偽造私文書之行為顯屬其等詐欺取財行為之一部分，各該行為之著手實行階段可認為同一，主觀上亦係基於單一犯罪決意支配下所為，客觀上堪認為屬於法律上之一行為。是被告林詹吩、林慶重、林慶興等人就事實欄一(一)、一(二)1.至3.、一(三)及一(四)等6次行使偽造私文書與詐欺取財之犯行，各應評價為一行為，較為適當。被告林詹吩、林慶重、林慶興分別以一行為同時觸犯行使偽造私文書罪、詐欺取財罪，各為想像競合犯，均依刑法第55條前段規定，俱應從一重之行使偽造私文書罪處斷。公訴檢察官就被告等人所犯上開詐欺取財與行使偽造文書罪，認係犯數罪而於本院準備程序中追加起訴，亦有誤會，附此敘明。(六)公訴意旨雖未就事實欄一(一)被告林詹吩與林慶興、林正川之共犯事實起訴，惟該部分與已起訴部分，有事實上一罪之關係；及未就事實欄一(一)被告林詹吩申請變更印鑑、變更印鑑章及定期存款解約等行使偽造私文書之犯行起訴，惟該部分與已起訴之行使偽造私文書部分，具有接續犯之實質上一罪關係；及未就事實欄一(四)被告林詹吩、林慶興定期存款解約之行使偽造私文書之犯行起訴，惟該部分與已起訴之行使偽造私文書部分，亦具有接續犯之實質上一罪關係，均為起訴效力所及，本院自均得予以審理。又起訴書雖未就被告林詹吩、林慶重、林慶興等人如事實欄一(一)至(四)所示詐欺取財之犯行予以起訴，然此部分分別與各該部分之行使偽造私文書犯行間，具有想像競合犯之裁判上一罪關係，已如上訴，自應為起訴效力所及，本院自得併予審究，附此敘明。(七)被告林詹吩所犯如事實欄一(一)、(二)1.至3.、(三)及(四)共6次之行使偽造私文書罪；被告林慶重所犯如事實欄一(二)1.、2.、3.共3次之行使偽造私文書罪；被告林慶興所犯如事實欄一(三)、(四)共2次之行使偽造私文書罪，均犯意各別，行為互殊，俱應予以分論併罰。(八)被告林詹吩於12年1月9日出生，為本案偽造文書犯行時（98年3月6日至同年月18日），已年滿80歲，有被告林詹吩之個人基本資料查詢結果1紙在卷可證（見偵卷第24頁），被告林詹吩自始至終均坦承犯行，尚知悔悟，爰依刑法第18條第3項規定，予以減輕其刑。(九)本院爰審酌：(1)被告林詹吩、林慶重、林慶興等人均無前科，有其等臺灣高等法院被告前案紀錄表各1份附卷可查，素行堪認良好；(2)被告林詹吩、林慶重、林慶興未經全體繼承人之同意或授權，冒用被繼承人林森垚之名義，將林森垚之定期存單解約，並領取林森垚帳戶內存款，法治觀念顯有欠缺，並損及其他繼承人之繼承權及鹿谷鄉農會、臺灣企銀及臺中商銀對於客戶存款管理之正確性，所為實不足取；(3)惟念及被告林詹吩年事已高，領有極重度身心障礙證明（見本院卷第215頁），係因傳統過於重視男嗣之觀念，不願將林森垚遺產分配與告訴人等，而指示林慶興、林慶重為本件犯行，告訴人等表示對被告林詹吩不予追究；(4)暨考量渠等各次行為所涉提領數額之犯罪情節，及尚未就財產分配與告訴人等達成協議等一切情狀，分別量處如主文所示之刑，併諭知易科罰金之折算標準。(十)再按行為後法律有變更者，適用行為時之法律，但行為後之法律有利於行為人者，適用最有利於行為人之法律，刑法第2條第1項定有明文。查被告林詹吩、林慶重、林慶興等人所犯如事實一(一)至(四)所示等行為後，刑法第50條業已修正，並於102年1月23日經總統以華總一義字第10200012451號令公布、同年月25日起施行。修正前刑法第50條規定：「裁判確定前犯數罪者，併合處罰之。」；修正後則規定「裁判確定前犯數罪者，併合處罰之。但有下列情形之一者，不在此限：一、得易科罰金之罪與不得易科罰金之罪。二、得易科罰金之罪與不得易服社會勞動之罪。三、得易服社會勞動之罪與不得易科罰金之罪。四、得易服社會勞動之罪與不得易服社會勞動之罪。前項但書情形，受刑人請求檢察官聲請定應執行刑者，依第51條規定定之。」。查本件被告林詹吩、林慶重、林慶興分別所犯如事實一(一)至(四)所示各罪，均係經本院量處如主文所示得易科罰金之罪，故不論依修正前之刑法第50條，或修正後之刑法第50條第1項前段之規定，法院均應於判決時定其應執行之刑，並無有利或不利之影響，依首揭說明，即無比較新舊法適用之必要，而應依一般法律適用原則，適用現行、有效之裁判時法論處，爰就被告林詹吩所犯如事實一(一)至(四)所示各罪；被告林慶重所犯如事實一(二)1.至3.所示各罪，被告林慶興所犯如事實一(三)(四)所示各罪定其應執行刑，並均諭知易科罰金之折算標準。(十一)被告林詹吩前未曾因故意犯罪受有期徒刑以上刑之宣告，已如前述，本院考量其年紀已92歲，係因一時失慮，致罹刑章，犯後已坦承犯行，態度良好，且告訴人等亦表示不對其追究而希望本院給予緩刑，信其經此偵審程序及科刑宣告後，自當知所警惕，而無再犯之虞，因認對其所宣告之刑，以暫不執行為適當，爰併予宣告緩刑2年，以啟自新。(十二)被告林詹吩、林慶重、林慶興等人偽造之「更換印鑑申請書」、「鹿谷鄉農會存款印鑑卡（活期存款）」、「鹿谷鄉農會存款印鑑卡（存單存款）」各1紙、鹿谷鄉農會之「定期儲蓄存款存單」5紙、「鹿谷鄉農會取款憑條」1紙、「臺灣中小企業銀行取款憑條」4紙、「台中商業銀行存摺存款取款憑條」2紙、臺中商銀之「存本取息儲蓄存款存單」4紙，業據被告林詹吩、林慶重、林慶興等人持以行使，而分別交付予鹿谷鄉農會、臺灣企銀竹山分行及臺中商銀竹山分行，不復屬於被告等人所有，依法不得宣告沒收。另按刑法第219條所定不問屬於犯人與否沒收之者，以偽造之印章、印文或署押為限，盜用者不在其列，最高法院著有48年台上字第1532號判例可資參照。查於被告林詹吩、林慶重、林慶興等人上開偽造之私文書上所蓋用之「林森垚」印文，均係被告等人盜用林森垚之真正印章所生印文，均非屬偽造印章之印文，依前揭判例意旨，自無庸依刑法第219條規定予以沒收，附此敘明。貳、無罪部分：一、公訴意旨另以：被告林慶重於98年3月6日，由其母即被告林詹吩囑咐持林森垚之印章，攜至南投縣鹿谷鄉農會信用部，由被告林慶重盜用林森垚之印章，偽造在該農會00000000000000號林森垚帳戶名義之提款條，持以詐領林森垚生前在該農會之存款267萬5,000元，隨即轉帳至被告林詹吩設在該農會初鄉分部000000000000000號帳戶內。因認被告林慶重涉有刑法第216條、第210條之行使偽造私文書罪嫌等語。二、按犯罪事實之認定，係據以確定具體的刑罰權之基礎，自須經嚴格之證明，故其所憑之證據不僅應具有證據能力，且須經合法之調查程序，否則即不得作為有罪認定之依據。倘法院審理之結果，認為不能證明被告犯罪，而為無罪之諭知，即無刑事訴訟法第154條第2項所謂「應依證據認定」之犯罪事實之存在。因此，同法第308條前段規定，無罪之判決書只須記載主文及理由。而其理由之論敘，僅須與卷存證據資料相符，且與經驗法則、論理法則無違即可，所使用之證據亦不以具有證據能力者為限，即使不具證據能力之傳聞證據，亦非不得資為彈劾證據使用（最高法院100年度台上字第2980號判決參照）。三、按犯罪事實應依證據認定之，無證據不得認定犯罪事實，又不能證明被告犯罪者，應諭知無罪之判決，刑事訴訟法第154條第2項、第301條第1項前段分別定有明文；又所謂認定犯罪事實之證據，係指足以認定被告確有犯罪行為之積極證據而言，如未能發現相當證據或證據不足以證明，自不能以推測或擬制之方法，以為裁判基礎，最高法院29年上字第3105號及40年台上字第86號分別著有判例；且認定犯罪事實所憑之證據，雖不以直接證據為限，間接證據亦包括在內，然而無論直接證據或間接證據，其為訴訟上之證明，須於通常一般之人均不致有所懷疑，而得確信其為真實之程度者，始得據為有罪之認定，倘其證明尚未達到此一程度，有合理之懷疑存在而無從使事實審法院得有罪之確信時，即應由法院為諭知被告無罪之判決，最高法院76年台上字第4986號判例意旨可資參照。四、公訴意旨認被告林慶重涉犯上開罪嫌，無非係以告訴人林沛蓉、林妤錡、林雪於偵查中之指訴，及林森垚之除戶戶籍謄本、鹿谷鄉農會存摺及交易明細等資為論據。五、訊據被告林慶重堅決否認有何上開行使偽造文書之犯行，辯稱：伊承認有去領一筆51萬多元的，但是267萬多元的那筆伊沒有去領，伊也沒有帶伊母親林詹吩去提領等語。經查：(一)告訴人林沛蓉、林妤錡、林雪於偵查中以具狀指述：先父生前在鹿谷鄉農會現金遺產267萬5,000元，疑由林慶重夫婦於先父死亡翌日，提領轉存至渠等母親林詹吩帳戶，惟渠等母親林詹吩之帳戶悉由林慶重保管、支配等情（參見偵卷第34頁）。是依告訴人等之指述，渠等認被告林慶重涉有此部分之犯行，係告訴人等以被告林慶重保管其母親即被告林詹吩之帳戶，而告訴人等之父林森垚鹿谷鄉農會帳戶內之267萬5,000元匯入其母親之帳戶內之推論而得。惟告訴人等上開不利被告林慶重之指述，並未提出任何佐證以實其說，渠等指述，是否可採，即非無疑。(二)告訴人等之父林森垚鹿谷鄉農會帳戶267萬5,000元，係被告林詹吩、林慶興與林森垚之子林正川共同前往鹿谷鄉農會辦理變更印鑑，再將林森垚之鹿谷鄉農會定期存款解約後轉至被告林詹吩帳戶乙節，業據被告林慶興所自承不諱，亦經證人即鹿谷鄉農會承辦人員黃世煌、邱信用於本院審理時證述明確，並有鹿谷鄉農會函覆本院檢附之更換印鑑申請書、鹿谷鄉農會存款印鑑卡（活期存款）、鹿谷鄉農會存款印鑑卡（存單存款）原本各1紙，經本院影印後留存之影本在卷可參（見本院卷第145頁、第146頁正反面、第147頁至第148頁），堪認屬實。則被告林慶重辯稱伊沒有去提領該筆款項，洵非無據，應可採信。被告林慶重既未一同前往鹿谷鄉農會辦理父林森垚鹿谷鄉定期存款解約，且該筆款項，亦轉至被告林詹吩帳戶，而未流向被告林慶重帳戶，即難認其與被告林詹吩有何犯意聯絡及行為分擔。六、綜上所述，被告林慶重所辯，尚堪採信。公訴人所提之證據，其所為訴訟上之證明，於通常一般人仍有合理之懷疑存在，尚未達於可確信其真實之程度。此外復查無其他積極之證據足以證明被告林慶重有何公訴人所指之行使偽造文書犯行，自屬不能證明被告林慶重此部分之犯行，即應為被告林慶重無罪之諭知。參、至如事實欄一(一)所示林慶興與林正川與被告林詹吩共犯行使偽造文私書之犯罪事實部分，業據本院認定如前，惟此部分既未經起訴，自應由檢察官另為適法之處理，附此敘明。據上論斷，應依刑事訴訟法第299條第1項前段、第301條第1項前段，刑法第2條第1項前段、第28條、第216條、第210條、（修正前刑法）第339條第1項、第55條前段、第18條第3項、第41第1項前段、第8項、第51條第5款、第74條第1項第1款，刑法施行法第1條之1第1項。本案經檢察官劉仁慈到庭執行職務。中華民國104年2月5日臺灣南投地方法院刑事第一庭審判長法官廖健男法官陳斐琪法官蔡志明以上正本與原本無異。如不服本判決應於收受送達後10日內向本院提出上訴書狀，並應敘述具體理由；其未敘述上訴理由者，應於上訴期間屆滿後20日內向本院補提理由書（均須按他造當事人之人數附繕本）「切勿逕送上級法院」。告訴人或被害人如對於本判決不服者，應具備理由請求檢察官上訴，其上訴期間之計算係以檢察官收受判決正本之日期為準。書記官余富誠中華民國104年2月5日附錄本案論罪科刑法條:中華民國刑法第216條（行使偽造變造或登載不實之文書罪）行使第210條至第215條之文書者，依偽造、變造文書或登載不實事項或使登載不實事項之規定處斷。中華民國刑法第210條（偽造變造私文書罪）偽造、變造私文書，足以生損害於公眾或他人者，處5年以下有期徒刑。中華民國刑法第339條（普通詐欺罪）意圖為自己或第三人不法之所有，以詐術使人將本人或第三人之物交付者，處5年以下有期徒刑、拘役或科或併科1千元以下罰金。以前項方法得財產上不法之利益或使第三人得之者，亦同。前二項之未遂犯罰之。\n",
            "Article Index: 396 Distance: 0.2770618373363183\n",
            "Article Text: 一、乙○○（原名李俊誼，於民國102年10月28日改名）與甲○（警詢代號：0000000000、真實姓名年籍資料詳卷、下稱甲○）原為男女朋友，甲○前因遭張順賢性侵害案件，經臺灣屏東地方法院檢察署偵查終結，並對張順賢以妨害性自主罪提起公訴，後由本院以101年度侵訴字第53號案件審理（業經本院判處有期徒刑4年）。乙○○明知甲○並無意委託其代為處理上開妨害性自主案件之民事或刑事訴訟程序，竟基於偽造私文書並進而行使之單一犯意，於102年5月5日某時許，在其位於屏東縣屏東市○○街00號10樓之1之住處內，接續在如附表編號1至編號2書狀名稱欄所示之文件上，共偽造「甲○」名義之署名及指印各3枚，並於102年8月29日，將如附表編號1至2所示偽造之刑事委任狀及刑事附帶民事訴訟起訴狀遞交本院收狀人員收受，偽以表示甲○本人有委託其為告訴代理人及對張順賢向本院提起附帶民事損害賠償訴訟之意而行使之，足以生損害於甲○本人、張順賢及司法機關審理刑事、民事案件之正確性、公信力。二、案經本院告發臺灣屏東地方法院檢察署檢察官偵查起訴。。理由壹、程序方面一、被告以外之人於偵查中向檢察官所為陳述，除顯有不可信之情況者外，得為證據，刑事訴訟法第159條之1第2項定有明文。是偵查中對被告以外之人所為之偵查筆錄，性質上雖屬傳聞證據，惟現階段刑事訴訟法規定檢察官代表國家偵查犯罪、實施公訴，依法其有訊問被告、證人及鑑定人之權，證人、鑑定人且須具結，而實務運作時，檢察官偵查中向被告以外之人所取得之陳述，原則上均能遵守法律規定，不致違法取供。職是，除反對該項供述得具有證據能力之一方，已釋明「顯有不可信之情況」之理由，或該偵查中陳述除另違反應具結而未具結之規定外，應具證據能力。查甲○於偵訊時業經檢察官依法命具結證述，訊問過程既無何違法或不當情形，且陳述時客觀環境及條件並無顯不可信之情況，揆諸上開說明，渠等偵查證述自有證據能力。二、被告以外之人於審判外之陳述，雖不符前4條之規定，而經當事人於審判程序同意作為證據，法院審酌該言詞陳述或書面陳述作成時之情況，認為適當者，亦得為證據，刑事訴訟法第159條之5第1項亦有明文。查卷附告訴人於偵審期間提出之書面陳述（如簡訊，偵卷第13頁）性質上原屬傳聞證據，然經當事人於本院準備程序時同意作為證據，本院復依法踐行調查證據程序，另審酌此等證據資料作成時並無違法不當之瑕疵，亦無其他依法應排除證據能力之情形，乃認以之作為證據要屬適當，而得採為本件認定事實之依據。貳、實體方面一、訊據被告固坦認伊逕於前記時地在前揭刑事附帶民事起訴狀及刑事委任狀上簽署甲○署名並蓋印，以告訴代理人名義據以請求損害賠償之事實，惟矢口否認有何偽造文書犯行，辯稱：「我是經過她同意的，並無偽造文書之犯意」云云。經查：（一）甲○於偵查中證稱略以：「自從我遭性侵害後，我就跟李俊誼（即本案被告）說我不跟他在一起了。我沒有寫過刑事委任狀和刑事附帶民事起訴狀影本，我今天是第一次看到這2張，上面兩組我的簽名及蓋章都不是我親自簽名、蓋章的。當時李俊誼在我旁邊，他一直叫我傳簡訊給他，還在一旁教我簡訊內容怎麼寫，要我寫好後將簡訊內容傳給她，代表我真的要委任他去幫我處理這件事情，可是我真的不想委任他去處理，我原諒對方了，我不想這件事情再訴訟下去。他就一直跟我說只要我配合演下去，就會一筆錢，他會再將錢的一部份分給我。因為我很怕他，所以我才會照著他的意思打簡訊內容。因為我一開始就有原諒對方的意思，我根本沒有向對方拿錢的意思。」等語（參偵查卷第10頁）；核與被告於偵查中自陳：「甲○遭性侵後，我們就很少聯絡，後來也沒有在一起了。我有拿出來給她看，要她簽名，但她不願意。甲○有同意，但她不想寫」等節相符（參偵卷第18頁）。是甲○自遭性侵害後，即與被告疏遠，此為兩造所不爭之事實，既此，甲○是否得願意再委託被告處理訴訟事務，並與被告朋分本件賠償金額，殊非無疑。再徵以甲○於本件相關妨害性自主之刑事訴訟期間，被告仍得知悉甲○訴訟期日（參偵卷第10頁背面），堪信被告仍得聯繫甲○，然如被告所述甲○仍不願意在系爭文件上簽名，足信甲○本即無意委任被告為刑事訴訟案件之告訴代理人或向張順賢提起附帶民事訴訟之真意。從而，甲○未授權被告處理本件刑事附帶民事損害賠償誠屬有據。又既被告已明知甲○不願意在系爭文件上簽名，則對於甲○並無委託被告向張順賢求償之意，亦應知之甚稔，是故被告此部分所辯要與事實不符，即難憑採。（二）按刑法第210條規定所稱足生損害於公眾或他人，以有生損害之虞為已足，不以實際發生損害為要件；又祇要行為人主觀上認識到在其法律交往關係中，提出該偽造私文書之行為，他方足以認為其係對該文書權利義務等內容有所主張，並有意使其發生，或其發生不違背其本意者，即難謂無侵害公共信用之危險，足以生損害於公眾或他人，仍無礙於本罪之成立（最高法院90年度台上字第5214號、92年度台上字第1594號判決意旨參照）。復按無制作權之人冒用或捏造他人名義制作文書，足以生損害於公眾或他人者，應成立刑法第210條偽造私文書罪；其無代理權或雖有代理權而逾越其權限，以本人之名義作成文書者，自不失其為偽造（最高法院84年度台上字第3097號判決意旨參照）。被告固以前詞置辯，然被告既於上開刑事委任狀和刑事附帶民事起訴狀上簽署甲○署名並遞送本院收發文處，偽以表彰甲○授權被告代為提起刑事附帶民事起訴狀之意，惟實際上甲○自始並無授權之意，即已侵害該文書公共信用甚明，況甲○本無意向張順賢求償之意，被告此舉致本院無端開啟審理程序，並有致使甲○蒙受日後喪失求償權利及張順賢支付賠償金予被告之損失，揆諸前開說明，被告此舉即應已符合偽造文書罪「足生損害」之構成要件無訛。（三）綜上所述，本案事證明確，被告前開犯行洵堪認定，應依法論科。二、核被告所為，係犯刑法第210條、第216條行使偽造私文書罪。被告在附表1、2上偽造「甲○」署名及指印，均屬偽造該私文書之部分行為，而其偽造私文書後持以行使，該偽造之低度行為亦為行使之高度行為所吸收，均不另論罪。又被告以一行為同時向本院刑事庭行使上開兩文書，為一行為觸犯數罪名，為想像競合犯，應從一重之行使偽造私文書罪。爰審酌被告犯行足生損害於甲○及司法機關對訴訟文書審理之正確性，其犯罪之動機、目的及手段洵非可取，且犯後自始否認犯行，未見悔意，又曾犯重利罪，素行不佳，有臺灣高等法院被告前案紀錄表1份在卷可佐。惟衡酌被告此舉雖足生前揭損害，然渠交付前揭書狀予本院後，旋遭本院察覺有異而告發，業如前述，除侵害該文書公共信用外，尚未發生具體實害，犯罪情節尚屬輕微，兼衡被告與甲○之關係，及被告之智識程度與生活狀況等具體行為人責任基礎之一切情狀，量處如主文所示之刑，並諭知易科罰金折算標準，以資儆懲。末被告偽造之如附表所示之書狀持以行使，業非屬其所有之物，自不得宣告沒收，惟其上偽造之「甲○」署名及指印，應依刑法第219條規定不問屬於犯人與否宣告沒收之。據上論斷，應依刑事訴訟法第299條第1項前段，刑法第216條、第210條、第55條、第41條第1項前段、第219條，刑法施行法第1條之1第1項、第2項前段，判決如主文。本案經檢察官潘國威到庭執行職務。中華民國103年8月19日刑事第一庭審判長法官涂裕洪法官麥元馨法官林鈴淑以上正本證明與原本無異。如不服本判決應於收受判決後10日內向本院提出上訴書狀，並應敘述具體理由；其未敘述上訴理由者，應於上訴期間屆滿後20日內向本院補提理由書（均須按他造當事人之人數附繕本）「切勿逕送上級法院」。中華民國103年8月19日書記官姚佳華附錄本判決論罪法條全文：中華民國刑法第216條（行使偽造變造或登載不實之文書罪）行使第210條至第215條之文書者，依偽造、變造文書或登載不實事項或使登載不實事項之規定處斷。中華民國刑法第210條（偽造變造私文書罪）偽造、變造私文書，足以生損害於公眾或他人者，處5年以下有期徒刑。中華民國刑法第219條（沒收之特例）偽造之印章、印文或署押，不問屬於犯人與否，沒收之。附表\n"
          ]
        }
      ]
    },
    {
      "cell_type": "code",
      "source": [
        "predicted_sentences_all = []\n",
        "\n",
        "for test_embedding in SBERT_summary_encoded_test_facts_float_np:\n",
        "    test_embedding = test_embedding.reshape(1, -1)\n",
        "    distances, indices = knn_model_SBERT_loaded.kneighbors(test_embedding)\n",
        "    # 取得最相近的五篇文章的索引及距離\n",
        "    nearest_articles_indices = indices[0]\n",
        "    nearest_articles_distances = distances[0]\n",
        "    predicted_sentences = 0\n",
        "    # 將最相近的五篇文章的刑期加總，並計算平均值作為預測刑期\n",
        "    for i, index in enumerate(nearest_articles_indices):\n",
        "        predicted_sentences += train_sentences[index]\n",
        "    predicted_sentence = float(predicted_sentences) / 5\n",
        "\n",
        "    predicted_sentences_all.append(predicted_sentence)\n",
        "\n"
      ],
      "metadata": {
        "id": "WQxQYEkjHD_L"
      },
      "execution_count": 232,
      "outputs": []
    },
    {
      "cell_type": "code",
      "source": [
        "print(predicted_sentences_all)\n",
        "print(test_sentences)"
      ],
      "metadata": {
        "colab": {
          "base_uri": "https://localhost:8080/"
        },
        "id": "ZAg2qDGRHGxy",
        "outputId": "8c48fd0a-4d7d-435b-ab51-403c9c46a518"
      },
      "execution_count": 233,
      "outputs": [
        {
          "output_type": "stream",
          "name": "stdout",
          "text": [
            "[152.0, 288.0, 241.0, 136.0, 221.0, 290.0, 181.0, 114.0, 118.0, 224.0, 205.0, 250.0, 108.0, 202.0, 130.0, 266.0, 126.0, 123.0, 82.0, 234.0, 211.0, 120.0, 199.0, 315.0, 242.0, 185.0, 124.0, 158.0, 138.0, 263.0, 230.0, 142.0, 209.0, 258.0, 179.0, 145.6, 132.0, 161.0, 137.0, 266.0, 197.0, 168.0, 117.0, 382.0, 217.0, 254.0, 170.6, 263.0, 147.0, 150.0, 304.0, 132.0, 211.0, 112.0, 247.4, 115.0, 355.2, 132.0, 168.0, 138.0, 155.0, 150.0, 348.0, 126.0, 421.0, 175.0, 167.0, 159.0, 120.0, 191.0, 181.0, 374.0, 179.0, 248.0, 137.0, 186.0, 123.0, 177.0, 284.0, 180.0, 210.4, 268.0, 247.0, 118.0, 142.4, 210.4, 152.0, 226.0, 181.0, 102.0, 321.0, 134.0, 117.0, 222.0, 168.0, 452.6, 150.0, 272.0, 187.0, 134.0]\n",
            "[150, 242, 60, 302, 365, 150, 90, 120, 120, 180, 120, 90, 120, 90, 90, 90, 180, 270, 425, 50, 150, 90, 365, 195, 150, 50, 345, 150, 150, 90, 425, 135, 120, 240, 20, 240, 60, 120, 60, 150, 90, 240, 365, 210, 150, 120, 32, 150, 505, 90, 90, 120, 120, 120, 165, 180, 302, 90, 120, 730, 240, 40, 180, 90, 90, 180, 150, 450, 240, 240, 120, 120, 120, 120, 165, 150, 180, 90, 60, 120, 60, 820, 180, 90, 120, 120, 240, 180, 120, 90, 270, 195, 90, 180, 150, 120, 120, 150, 180, 180]\n"
          ]
        }
      ]
    },
    {
      "cell_type": "code",
      "source": [
        "from sklearn.metrics import mean_squared_error, mean_absolute_error"
      ],
      "metadata": {
        "id": "HQlLsxHXHOeT"
      },
      "execution_count": 234,
      "outputs": []
    },
    {
      "cell_type": "code",
      "source": [
        "mse_linear = mean_squared_error(test_sentences, predicted_sentences_all)\n",
        "rmse_linear = mean_squared_error(test_sentences, predicted_sentences_all, squared=False)\n",
        "mae_linear = mean_absolute_error(test_sentences, predicted_sentences_all)"
      ],
      "metadata": {
        "id": "kKnTnDMkHQqY"
      },
      "execution_count": 235,
      "outputs": []
    },
    {
      "cell_type": "code",
      "source": [
        "print('\\n==================================================')\n",
        "print(\"Linear Regression - MSE:\", mse_linear)\n",
        "print(\"Linear Regression - RMSE:\", rmse_linear)\n",
        "print(\"Linear Regression - MAE:\", mae_linear)"
      ],
      "metadata": {
        "colab": {
          "base_uri": "https://localhost:8080/"
        },
        "id": "jhCm-SrqHS_X",
        "outputId": "9463344a-2038-4ff8-8e72-7c292e42a0fd"
      },
      "execution_count": 236,
      "outputs": [
        {
          "output_type": "stream",
          "name": "stdout",
          "text": [
            "\n",
            "==================================================\n",
            "Linear Regression - MSE: 22504.1016\n",
            "Linear Regression - RMSE: 150.01367137697818\n",
            "Linear Regression - MAE: 107.584\n"
          ]
        }
      ]
    },
    {
      "cell_type": "markdown",
      "source": [
        "# method 2\n",
        "- SBERT 做 summerize\n",
        "- summerize 取 5 個句子"
      ],
      "metadata": {
        "id": "i_GUrSHwH05T"
      }
    },
    {
      "cell_type": "markdown",
      "source": [
        "## summerize"
      ],
      "metadata": {
        "id": "ziVQvj7TI7u2"
      }
    },
    {
      "cell_type": "code",
      "source": [
        "SBERT_summary_encoded_train_facts = []\n",
        "\n",
        "for i, fact in enumerate(SBERT_encoded_train_facts_sentences):\n",
        "  print(i)\n",
        "  summary_encode = SBERT_generate_summary_encode(fact, 5)\n",
        "  SBERT_summary_encoded_train_facts.append(summary_encode)"
      ],
      "metadata": {
        "colab": {
          "base_uri": "https://localhost:8080/"
        },
        "id": "EtgJJLtuH2P-",
        "outputId": "1551a605-02fb-465f-c5a0-c92c93559231"
      },
      "execution_count": 238,
      "outputs": [
        {
          "output_type": "stream",
          "name": "stdout",
          "text": [
            "72\n",
            "73\n",
            "74\n",
            "75\n",
            "76\n",
            "77\n",
            "78\n",
            "79\n",
            "80\n",
            "81\n",
            "82\n",
            "83\n",
            "84\n",
            "85\n",
            "86\n",
            "87\n",
            "88\n",
            "89\n",
            "90\n",
            "91\n",
            "92\n",
            "93\n",
            "94\n",
            "95\n",
            "96\n",
            "97\n",
            "98\n",
            "99\n",
            "100\n",
            "101\n",
            "102\n",
            "103\n",
            "104\n",
            "105\n",
            "106\n",
            "107\n",
            "108\n",
            "109\n",
            "110\n",
            "111\n",
            "112\n",
            "113\n",
            "114\n",
            "115\n",
            "116\n",
            "117\n",
            "118\n",
            "119\n",
            "120\n",
            "121\n",
            "122\n",
            "123\n",
            "124\n",
            "125\n",
            "126\n",
            "127\n",
            "128\n",
            "129\n",
            "130\n",
            "131\n",
            "132\n",
            "133\n",
            "134\n",
            "135\n",
            "136\n",
            "137\n",
            "138\n",
            "139\n",
            "140\n",
            "141\n",
            "142\n",
            "143\n",
            "144\n",
            "145\n",
            "146\n",
            "147\n",
            "148\n",
            "149\n",
            "150\n",
            "151\n",
            "152\n",
            "153\n",
            "154\n",
            "155\n",
            "156\n",
            "157\n",
            "158\n",
            "159\n",
            "160\n",
            "161\n",
            "162\n",
            "163\n",
            "164\n",
            "165\n",
            "166\n",
            "167\n",
            "168\n",
            "169\n",
            "170\n",
            "171\n",
            "172\n",
            "173\n",
            "174\n",
            "175\n",
            "176\n",
            "177\n",
            "178\n",
            "179\n",
            "180\n",
            "181\n",
            "182\n",
            "183\n",
            "184\n",
            "185\n",
            "186\n",
            "187\n",
            "188\n",
            "189\n",
            "190\n",
            "191\n",
            "192\n",
            "193\n",
            "194\n",
            "195\n",
            "196\n",
            "197\n",
            "198\n",
            "199\n",
            "200\n",
            "201\n",
            "202\n",
            "203\n",
            "204\n",
            "205\n",
            "206\n",
            "207\n",
            "208\n",
            "209\n",
            "210\n",
            "211\n",
            "212\n",
            "213\n",
            "214\n",
            "215\n",
            "216\n",
            "217\n",
            "218\n",
            "219\n",
            "220\n",
            "221\n",
            "222\n",
            "223\n",
            "224\n",
            "225\n",
            "226\n",
            "227\n",
            "228\n",
            "229\n",
            "230\n",
            "231\n",
            "232\n",
            "233\n",
            "234\n",
            "235\n",
            "236\n",
            "237\n",
            "238\n",
            "239\n",
            "240\n",
            "241\n",
            "242\n",
            "243\n",
            "244\n",
            "245\n",
            "246\n",
            "247\n",
            "248\n",
            "249\n",
            "250\n",
            "251\n",
            "252\n",
            "253\n",
            "254\n",
            "255\n",
            "256\n",
            "257\n",
            "258\n",
            "259\n",
            "260\n",
            "261\n",
            "262\n",
            "263\n",
            "264\n",
            "265\n",
            "266\n",
            "267\n",
            "268\n",
            "269\n",
            "270\n",
            "271\n",
            "272\n",
            "273\n",
            "274\n",
            "275\n",
            "276\n",
            "277\n",
            "278\n",
            "279\n",
            "280\n",
            "281\n",
            "282\n",
            "283\n",
            "284\n",
            "285\n",
            "286\n",
            "287\n",
            "288\n",
            "289\n",
            "290\n",
            "291\n",
            "292\n",
            "293\n",
            "294\n",
            "295\n",
            "296\n",
            "297\n",
            "298\n",
            "299\n",
            "300\n",
            "301\n",
            "302\n",
            "303\n",
            "304\n",
            "305\n",
            "306\n",
            "307\n",
            "308\n",
            "309\n",
            "310\n",
            "311\n",
            "312\n",
            "313\n",
            "314\n",
            "315\n",
            "316\n",
            "317\n",
            "318\n",
            "319\n",
            "320\n",
            "321\n",
            "322\n",
            "323\n",
            "324\n",
            "325\n",
            "326\n",
            "327\n",
            "328\n",
            "329\n",
            "330\n",
            "331\n",
            "332\n",
            "333\n",
            "334\n",
            "335\n",
            "336\n",
            "337\n",
            "338\n",
            "339\n",
            "340\n",
            "341\n",
            "342\n",
            "343\n",
            "344\n",
            "345\n",
            "346\n",
            "347\n",
            "348\n",
            "349\n",
            "350\n",
            "351\n",
            "352\n",
            "353\n",
            "354\n",
            "355\n",
            "356\n",
            "357\n",
            "358\n",
            "359\n",
            "360\n",
            "361\n",
            "362\n",
            "363\n",
            "364\n",
            "365\n",
            "366\n",
            "367\n",
            "368\n",
            "369\n",
            "370\n",
            "371\n",
            "372\n",
            "373\n",
            "374\n",
            "375\n",
            "376\n",
            "377\n",
            "378\n",
            "379\n",
            "380\n",
            "381\n",
            "382\n",
            "383\n",
            "384\n",
            "385\n",
            "386\n",
            "387\n",
            "388\n",
            "389\n",
            "390\n",
            "391\n",
            "392\n",
            "393\n",
            "394\n",
            "395\n",
            "396\n",
            "397\n",
            "398\n",
            "399\n",
            "400\n",
            "401\n",
            "402\n",
            "403\n",
            "404\n",
            "405\n",
            "406\n",
            "407\n",
            "408\n",
            "409\n",
            "410\n",
            "411\n",
            "412\n",
            "413\n",
            "414\n",
            "415\n",
            "416\n",
            "417\n",
            "418\n",
            "419\n",
            "420\n",
            "421\n",
            "422\n",
            "423\n",
            "424\n",
            "425\n",
            "426\n",
            "427\n",
            "428\n",
            "429\n",
            "430\n",
            "431\n",
            "432\n",
            "433\n",
            "434\n",
            "435\n",
            "436\n",
            "437\n",
            "438\n",
            "439\n",
            "440\n",
            "441\n",
            "442\n",
            "443\n",
            "444\n",
            "445\n",
            "446\n",
            "447\n",
            "448\n",
            "449\n",
            "450\n",
            "451\n",
            "452\n",
            "453\n",
            "454\n",
            "455\n",
            "456\n",
            "457\n",
            "458\n",
            "459\n",
            "460\n",
            "461\n",
            "462\n",
            "463\n",
            "464\n",
            "465\n",
            "466\n",
            "467\n",
            "468\n",
            "469\n",
            "470\n",
            "471\n",
            "472\n",
            "473\n",
            "474\n",
            "475\n",
            "476\n",
            "477\n",
            "478\n",
            "479\n",
            "480\n",
            "481\n",
            "482\n",
            "483\n",
            "484\n",
            "485\n",
            "486\n",
            "487\n",
            "488\n",
            "489\n",
            "490\n",
            "491\n",
            "492\n",
            "493\n",
            "494\n",
            "495\n",
            "496\n",
            "497\n",
            "498\n",
            "499\n"
          ]
        }
      ]
    },
    {
      "cell_type": "code",
      "source": [
        "print(len(SBERT_summary_encoded_train_facts))\n",
        "print(len(SBERT_summary_encoded_train_facts[0]))"
      ],
      "metadata": {
        "colab": {
          "base_uri": "https://localhost:8080/"
        },
        "id": "T2muJct8IGQT",
        "outputId": "29b85df1-787c-484f-b08b-e9bb2b35d31b"
      },
      "execution_count": 239,
      "outputs": [
        {
          "output_type": "stream",
          "name": "stdout",
          "text": [
            "500\n",
            "2560\n"
          ]
        }
      ]
    },
    {
      "cell_type": "code",
      "source": [
        "SBERT_summary_encoded_test_facts = []\n",
        "\n",
        "for fact in SBERT_encoded_test_facts_sentences:\n",
        "    summary_encode = SBERT_generate_summary_encode(fact,5)\n",
        "    SBERT_summary_encoded_test_facts.append(summary_encode)"
      ],
      "metadata": {
        "id": "lGqBIWv4IJhr"
      },
      "execution_count": 240,
      "outputs": []
    },
    {
      "cell_type": "code",
      "source": [
        "SBERT_summary5_encoded_train_facts_float = [[float(value) for value in arr] for arr in SBERT_summary_encoded_train_facts]\n",
        "SBERT_summary5_encoded_test_facts_float = [[float(value) for value in arr] for arr in SBERT_summary_encoded_test_facts]"
      ],
      "metadata": {
        "id": "LB9W3088IPnZ"
      },
      "execution_count": 241,
      "outputs": []
    },
    {
      "cell_type": "code",
      "source": [
        "with open('/content/drive/MyDrive/senior/LAB/LawCaseRetreiver/sentence_predict/dataset_new/SBERT_summary5_encoded_train_facts.json', 'w') as f:\n",
        "    json.dump(SBERT_summary5_encoded_train_facts_float, f)\n",
        "with open('/content/drive/MyDrive/senior/LAB/LawCaseRetreiver/sentence_predict/dataset_new/SBERT_summary5_encoded_test_facts.json', 'w') as f:\n",
        "    json.dump(SBERT_summary5_encoded_test_facts_float, f)"
      ],
      "metadata": {
        "id": "5peKS7SYITD9"
      },
      "execution_count": 242,
      "outputs": []
    },
    {
      "cell_type": "markdown",
      "source": [
        "## KNN - SBERT"
      ],
      "metadata": {
        "id": "1XnDTrTAI1rR"
      }
    },
    {
      "cell_type": "code",
      "source": [
        "from sklearn.neighbors import NearestNeighbors"
      ],
      "metadata": {
        "id": "TWf14PUiI1rb"
      },
      "execution_count": 243,
      "outputs": []
    },
    {
      "cell_type": "code",
      "source": [
        "k = 5\n",
        "knn_model_SBERT = NearestNeighbors(n_neighbors=k, metric='cosine')\n",
        "knn_model_SBERT.fit(SBERT_summary5_encoded_train_facts_float)"
      ],
      "metadata": {
        "outputId": "c0afa6a5-2f48-48b7-c13a-160c91c4344a",
        "colab": {
          "base_uri": "https://localhost:8080/",
          "height": 75
        },
        "id": "7TmB8HJTI1rb"
      },
      "execution_count": 255,
      "outputs": [
        {
          "output_type": "execute_result",
          "data": {
            "text/plain": [
              "NearestNeighbors(metric='cosine')"
            ],
            "text/html": [
              "<style>#sk-container-id-3 {color: black;background-color: white;}#sk-container-id-3 pre{padding: 0;}#sk-container-id-3 div.sk-toggleable {background-color: white;}#sk-container-id-3 label.sk-toggleable__label {cursor: pointer;display: block;width: 100%;margin-bottom: 0;padding: 0.3em;box-sizing: border-box;text-align: center;}#sk-container-id-3 label.sk-toggleable__label-arrow:before {content: \"▸\";float: left;margin-right: 0.25em;color: #696969;}#sk-container-id-3 label.sk-toggleable__label-arrow:hover:before {color: black;}#sk-container-id-3 div.sk-estimator:hover label.sk-toggleable__label-arrow:before {color: black;}#sk-container-id-3 div.sk-toggleable__content {max-height: 0;max-width: 0;overflow: hidden;text-align: left;background-color: #f0f8ff;}#sk-container-id-3 div.sk-toggleable__content pre {margin: 0.2em;color: black;border-radius: 0.25em;background-color: #f0f8ff;}#sk-container-id-3 input.sk-toggleable__control:checked~div.sk-toggleable__content {max-height: 200px;max-width: 100%;overflow: auto;}#sk-container-id-3 input.sk-toggleable__control:checked~label.sk-toggleable__label-arrow:before {content: \"▾\";}#sk-container-id-3 div.sk-estimator input.sk-toggleable__control:checked~label.sk-toggleable__label {background-color: #d4ebff;}#sk-container-id-3 div.sk-label input.sk-toggleable__control:checked~label.sk-toggleable__label {background-color: #d4ebff;}#sk-container-id-3 input.sk-hidden--visually {border: 0;clip: rect(1px 1px 1px 1px);clip: rect(1px, 1px, 1px, 1px);height: 1px;margin: -1px;overflow: hidden;padding: 0;position: absolute;width: 1px;}#sk-container-id-3 div.sk-estimator {font-family: monospace;background-color: #f0f8ff;border: 1px dotted black;border-radius: 0.25em;box-sizing: border-box;margin-bottom: 0.5em;}#sk-container-id-3 div.sk-estimator:hover {background-color: #d4ebff;}#sk-container-id-3 div.sk-parallel-item::after {content: \"\";width: 100%;border-bottom: 1px solid gray;flex-grow: 1;}#sk-container-id-3 div.sk-label:hover label.sk-toggleable__label {background-color: #d4ebff;}#sk-container-id-3 div.sk-serial::before {content: \"\";position: absolute;border-left: 1px solid gray;box-sizing: border-box;top: 0;bottom: 0;left: 50%;z-index: 0;}#sk-container-id-3 div.sk-serial {display: flex;flex-direction: column;align-items: center;background-color: white;padding-right: 0.2em;padding-left: 0.2em;position: relative;}#sk-container-id-3 div.sk-item {position: relative;z-index: 1;}#sk-container-id-3 div.sk-parallel {display: flex;align-items: stretch;justify-content: center;background-color: white;position: relative;}#sk-container-id-3 div.sk-item::before, #sk-container-id-3 div.sk-parallel-item::before {content: \"\";position: absolute;border-left: 1px solid gray;box-sizing: border-box;top: 0;bottom: 0;left: 50%;z-index: -1;}#sk-container-id-3 div.sk-parallel-item {display: flex;flex-direction: column;z-index: 1;position: relative;background-color: white;}#sk-container-id-3 div.sk-parallel-item:first-child::after {align-self: flex-end;width: 50%;}#sk-container-id-3 div.sk-parallel-item:last-child::after {align-self: flex-start;width: 50%;}#sk-container-id-3 div.sk-parallel-item:only-child::after {width: 0;}#sk-container-id-3 div.sk-dashed-wrapped {border: 1px dashed gray;margin: 0 0.4em 0.5em 0.4em;box-sizing: border-box;padding-bottom: 0.4em;background-color: white;}#sk-container-id-3 div.sk-label label {font-family: monospace;font-weight: bold;display: inline-block;line-height: 1.2em;}#sk-container-id-3 div.sk-label-container {text-align: center;}#sk-container-id-3 div.sk-container {/* jupyter's `normalize.less` sets `[hidden] { display: none; }` but bootstrap.min.css set `[hidden] { display: none !important; }` so we also need the `!important` here to be able to override the default hidden behavior on the sphinx rendered scikit-learn.org. See: https://github.com/scikit-learn/scikit-learn/issues/21755 */display: inline-block !important;position: relative;}#sk-container-id-3 div.sk-text-repr-fallback {display: none;}</style><div id=\"sk-container-id-3\" class=\"sk-top-container\"><div class=\"sk-text-repr-fallback\"><pre>NearestNeighbors(metric=&#x27;cosine&#x27;)</pre><b>In a Jupyter environment, please rerun this cell to show the HTML representation or trust the notebook. <br />On GitHub, the HTML representation is unable to render, please try loading this page with nbviewer.org.</b></div><div class=\"sk-container\" hidden><div class=\"sk-item\"><div class=\"sk-estimator sk-toggleable\"><input class=\"sk-toggleable__control sk-hidden--visually\" id=\"sk-estimator-id-3\" type=\"checkbox\" checked><label for=\"sk-estimator-id-3\" class=\"sk-toggleable__label sk-toggleable__label-arrow\">NearestNeighbors</label><div class=\"sk-toggleable__content\"><pre>NearestNeighbors(metric=&#x27;cosine&#x27;)</pre></div></div></div></div></div>"
            ]
          },
          "metadata": {},
          "execution_count": 255
        }
      ]
    },
    {
      "cell_type": "code",
      "source": [
        "import pickle\n",
        "\n",
        "# 將模型保存到文件\n",
        "with open('/content/drive/MyDrive/senior/LAB/LawCaseRetreiver/sentence_predict/dataset_new/knn_model_SBERT_s5.pkl', 'wb') as f:\n",
        "    pickle.dump(knn_model_SBERT, f)\n",
        "\n",
        "# 從文件加載模型\n",
        "with open('/content/drive/MyDrive/senior/LAB/LawCaseRetreiver/sentence_predict/dataset_new/knn_model_SBERT_s5.pkl', 'rb') as f:\n",
        "    knn_model_SBERT_loaded = pickle.load(f)"
      ],
      "metadata": {
        "id": "3qk8I34zI1rc"
      },
      "execution_count": 256,
      "outputs": []
    },
    {
      "cell_type": "code",
      "source": [
        "SBERT_summary_encoded_test_facts_float_np = [np.array(item) for item in SBERT_summary5_encoded_test_facts_float]"
      ],
      "metadata": {
        "id": "siOuNVBSI1rc"
      },
      "execution_count": 257,
      "outputs": []
    },
    {
      "cell_type": "code",
      "source": [
        "distances, indices = knn_model_SBERT_loaded.kneighbors(SBERT_summary_encoded_test_facts_float_np[0].reshape(1, -1))"
      ],
      "metadata": {
        "id": "EJqOGjidI1rc"
      },
      "execution_count": 258,
      "outputs": []
    },
    {
      "cell_type": "code",
      "source": [
        "test_facts[0]"
      ],
      "metadata": {
        "outputId": "729638e3-3c40-4dd2-8b1e-ca98e1ae1c89",
        "colab": {
          "base_uri": "https://localhost:8080/",
          "height": 214
        },
        "id": "hmmVOWYhI1rc"
      },
      "execution_count": 248,
      "outputs": [
        {
          "output_type": "execute_result",
          "data": {
            "text/plain": [
              "'○、緣徐鴻光（所涉行使偽造私文書犯行，業經本院以95年度訴字第955號判決處有期徒刑3月、緩刑3年確定）因需款使用，知悉穆立明有借款管道，為求順利借款，2人竟共同意圖為自己不法所有，基於行使偽造私文書及詐欺取財之犯意聯絡，知悉車牌號碼00-000號營業小客車係徐鴻光向志朗交通有限公司（下稱志朗公司）租賃之車輛，竟由穆立明先於不詳時間、不詳地點，偽刻「志朗交通有限公司」及負責人「陳健志」印章（正確姓名為陳建志，誤刻為「陳健志」）各1枚，並偽造「陳健志」代表志朗公司與徐鴻光簽署之「臺北市計程車客運駕駛人自備車輛參與經營契約書」（下稱本案參與經營契約書），虛偽記載徐鴻光提供上述營業小客車靠行志朗公司營業等不實內容，並持上開偽刻印章，偽造「志朗交通有限公司」印文4枚、「陳健志」印文6枚於本案參與經營契約書上，再於92年3月6日交徐鴻光於立約人乙方欄簽名，2人復於同日協同不知情之徐鴻光配偶徐樂仁（所涉行使偽造私文書犯行，業經本院以95年度訴字第955號判決無罪確定），前往臺北市○○區○○街00巷0號2樓王傑生所經營之宏帝當舖（現更名為渣打當舖），由徐鴻光、穆立明交付偽造本案參與經營契約書向宏帝當鋪借款新臺幣（下同）10萬元以為行使，並約定由徐樂仁擔任連帶保證人，王傑生誤信上開車輛為徐鴻光所有而陷入錯誤，於扣除利息後交付9萬1千元借款予徐鴻光夫婦，足以生損害於志朗公司、陳建志、王傑生。嗣因徐鴻光僅清償每期7千元之分期款共11期計7萬7千元，未全額清償即無力負擔債務，王傑生始查知上開車輛非徐鴻光所有，而悉上情。二、案經王傑生訴由臺灣士林地方法院檢察署檢察官偵查起訴。理由○、證據能力部分：被告以外之人於審判外之言詞或書面陳述，除法律有規定者外，不得作為證據；又被告以外之人於審判外之陳述，雖不符合同法第159條之1至第159條之4之規定，但經當事人於審判程序同意作為證據，法院審酌該言詞陳述或書面陳述作成時之情況，認為適當者，亦得為證據。刑事訴訟法第159條第1項及第159條之5第1項分別定有明文。經查，本判決所引用之各該被告以外之人於審判外之陳述，雖屬傳聞證據，然當事人於本院審判期日中均表示同意作為證據方法而不予爭執，且迄至言詞辯論終結前亦未再聲明異議（見本院卷第68頁至第68頁背面），本院審酌上開證據資料製作時之情況，尚無違法不當及證明力明顯過低之瑕疵，亦認為以之作為證據應屬適當，故揆諸前開規定，爰依刑事訴訟法第159條之5規定，認前揭證據資料均有證據能力。二、認定犯罪事實所憑之證據及理由：（一）訊據被告穆立明固坦承有於92年3月6日帶共同被告徐鴻光、徐樂仁至宏帝當鋪借錢，惟矢口否認有何行使偽造私文書及詐欺取財之犯行，辯稱：本案參與經營契約書係由共同被告徐鴻光所提出，徐鴻光知道我在宏帝當舖當業務員，他因資金不夠，要伊帶至宏帝當鋪借錢，伊請徐鴻光帶身分證、本案參與經營契約書，證明計程車係屬於徐鴻光所有，另外要帶一位保人云云。（二）經查，證人即志英交通公司負責人陳建志於檢察官偵查中結證稱：本案參與經營契約書上之「志朗交通有限公司」、「陳健志」之印文均非我公司的大小章，志朗交通公司也是我的公司，我是負責人，但這個章不是我的，被告徐鴻光只是加入無線電台等語（見94年度偵字第8715號卷第45頁），復有其提出真正之志朗交通有限公司及其本人陳建志之印文各4枚在卷可稽（見94年度偵字第8715號卷第48頁），經核卷附本案參與經營契約書上所示之「志朗交通有限公司」、「陳健志」印文（見95年度偵緝字第60號卷第53頁），除二者字體明顯不同外，本案參與經營契約書中「陳健志」名字中之「健」一字顯係錯別字，堪認本案參與經營契約書上所示之「志朗交通有限公司」、「陳健志」印文確屬偽造一節，應可認定。（三）證人即告訴人王傑生於檢察官偵查中證稱：我經營宏帝當鋪，後改名為渣打當鋪，地址在臺北市○○街00巷0號2樓，計程車典當給我們時，我們要看參與經營契約書，被告徐鴻光有來借錢，被告穆立明當時有在場，徐鴻光給我們看本案參與經營契約書，我們就以為車子是徐鴻光的，我們找到車之後才知道車子是車行的，被告穆立明是我們公司抽獎金的業務員，穆立明介紹人來借錢，我給他獎金等語（見94年度偵字第8715號卷第37頁、95年度偵緝字第60號卷第49頁、第68頁），且證人朱庭峰於檢察官偵查中及本院審理時亦結證稱：我是宏帝當鋪的負責人，後來當鋪讓給王傑生，被告徐鴻光到宏帝當鋪借款10萬元，係由我接洽，當時是被告穆立明介紹，穆立明不是公司職員，他會介紹車子到我們公司來典當，我會給穆立明佣金，即我收到1,000元利息，就給他100元，本案參與經營契約書是由穆立明拿出來等語（見95年度偵緝字第60號卷第68頁至第69頁、95年度訴字第955號卷第66頁至第67頁），復有本案參與經營契約書、本票影本各1份附卷可憑（見94年度偵字第8715號卷第14頁至第17頁），足認共同被告徐鴻光係經被告穆立明介紹，持本案參與經營契約書於上開時間前往宏帝當鋪借款10萬元，且被告穆立明於借款時在場之事實，洵堪認定。（四）被告穆立明雖辯稱：本案參與經營契約書係共同被告徐鴻光所提出，伊僅有將徐鴻光帶去當鋪，就由當舖的人接洽云云，惟查，證人即共同被告徐鴻光於本院審理時證稱：因為我當司機收入不高，家裡有需要用錢，被告穆立明說有辦法借錢，我請被告穆立明帶我去借款，被告穆立明有帶我去當鋪，我太太徐樂仁當時有一起陪同，卷附之本票影本係我當時在當鋪簽立，而本案參與經營契約書係被告穆立明幫我準備好的，經我在當舖蓋我的章及簽名，被告穆立明拿給我時契約書已經寫好資料，至於被告穆立明提出本案參與經營契約書之來源我不知道，被告穆立明只有要我帶駕照、行照、身分證及私章，車號00-000號營業用小客車是我用租的車子，車子是志朗公司的車子，本案參與經營契約書內容不是真的，車子不是我自備的，只有契約書末頁乙方的簽名是我簽的等語（見本院卷第64頁至第66頁背面），核與其在檢察官偵查中證稱：被告穆立明有帶我去宏帝當鋪向朱先生借錢，我借10萬元，本案參與經營契約書係被告穆立明幫我準備好的，前面的簽名及資料是被告穆立明簽的，只有最後的簽名是我簽的等語大致相符（見95年度偵緝字第60號卷第48頁至第49頁），再查，參以被告穆立明於本院審理時當庭書寫徐鴻光名字之字跡經與本案參與經營契約書立契約書人一欄所簽署「徐鴻光」之筆跡比對後（見本院卷第73頁），依肉眼觀之，不論字跡之運筆、筆勾等字體外觀，均較為吻合，反觀該契約書頁末之乙方「徐鴻光」之筆跡，與頁首立契約書人一欄所簽署「徐鴻光」之筆跡之運筆及筆勾，字跡明顯不同，是被告穆立明辯稱本案參與經營契約書係由共同被告徐鴻光提出云云，已難採信；又證人徐鴻光於本院審理時證稱：我曾經用上開車輛向別的當鋪借錢，當時別的當鋪說車子用租的也可以借，只要押行照在那裡即可，不需要像本件一樣的契約，本件是我去當鋪，他們說該簽名的地方，我就簽名，且是我透過別的司機得知被告穆立明可以幫我問問哪裡可以借錢，所以才找被告穆立明等語（見本院卷第65頁背面至第66頁背面），衡以證人徐鴻光涉犯本案犯行業經本院認定有罪確定，自應無虛偽陳述之動機，且被告穆立明自承與證人徐鴻光無糾紛，同為排班計程車司機，為點頭之交乙情，亦認證人徐鴻光無涉詞誣陷被告穆立明之可能；再參以證人王傑生、朱庭峰皆證述本案參與經營契約書係由被告穆立明提出一節，又被告並不否認宏帝當舖僅同意典當個人所有靠行之車輛，不同意典當向車行租的車輛等情，而本件共同被告徐鴻光既有提供行照予被告穆立明，業經其證述如前，則自行照之記載內容即可知悉上開車輛所有人為何人，被告穆立明豈有不知上開車輛所有人為何人之理，況被告穆立明供認介紹共同被告徐鴻光予宏帝當鋪借錢有利息百分之十之報酬等語（見本院卷第69頁背面），其當有可能為促成徐鴻光與宏帝當鋪借款，而提出本案經營契約書供作本件借款之用，是被告穆立明辯稱車子是徐鴻光說其自己所有，本案參與經營契約書係徐鴻光自行提出云云，顯係事後卸責之詞，不足採信。（五）綜上所述，被告上開所辯各節，無非事後避重就輕、圖卸之詞，不足採信，被告行使偽造私文書及詐欺取財等犯行，事證明確，應依法論科。三、論罪科刑部分：（一）按被告行為後，94年2月2日修正公布之刑法已於95年7月1日生效施行，其中第2條第1項「行為後法律有變更者，適用行為時之法律。但行為後之法律有利於行為人者，適用最有利於行為人之法律」之規定，係規範行為後法律變更所生新、舊法律比較適用之準據法，並非刑法實體法律，自不生行為後法律變更之比較適用問題，故刑法修正施行後，應適用該修正後之第2條第1項之規定，依「從舊、從輕」之原則比較新、舊法律之適用；又比較新舊法時，應就罪刑有關之共犯、未遂犯、想像競合犯、牽連犯、連續犯、結合犯，以及累犯加重、自首減輕暨其他法定加減原因（如身分加減）與加減例等一切情形，綜其全部罪刑之結果而為比較後，再適用有利於行為人之法律處斷，而不得一部割裂分別適用不同之新、舊法（最高法院24年上字第4634號、29年上字第964號判例意旨及最高法院95年度第8次刑事庭會議決議參照）。經查：1.刑法第33條第5款關於罰金刑之規定業於94年2月2日修正，於95年7月1日生效，修正前刑法第33條第5款規定：「罰金：1元（銀元）以上。」，並依現行法規所定貨幣單位折算新臺幣條例規定，以銀元1元折算新臺幣3元，故修正前刑法規定罰金之最低數額為新臺幣3元；修正後刑法第33條第5款規定：「罰金：新臺幣1,000元以上，以百元計算之。」，故修正後刑法規定罰金之最低數額提高為新臺幣1,000元；比較上開罰金刑之最高數額，於修正後並無不同，惟修正後刑法第33條第5款所定罰金刑最低數額，既較修正前提高，依前開說明，應適用對被告有利之修正前刑法第33條第5款之規定。2.修正前刑法第28條規定：「二人以上共同實施犯罪之行為者，皆為正犯。」，修正後該條規定為：「二人以上共同實行犯罪之行為者，皆為正犯。」，揆諸本條之修正理由，係為釐清陰謀共同正犯、預備共同正犯、共謀共同正犯是否合乎本條之正犯要件，並將陰謀共同正犯、預備共同正犯剔除於本條適用之外，以符合近代刑法之個人責任原則、法治國人權保障思想及犯罪支配理論，自屬行為後法律有變更，而非僅屬文字修正，應有新舊法比較適用問題（最高法院97年度台上字第37號判決意旨參照）。本件被告穆立明與徐鴻光就前揭行使偽造私文書及詐欺取財犯行各具有犯意聯絡及行為分擔，不論依修正前或修正後之規定，均屬共同正犯，對被告並無有利或不利之情形，應適用行為時之法律。3.被告行為後新法業已刪除牽連犯之規定，依舊法成立方法、結果行為而僅論以一罪者，依新法將論以數罪，比較新、舊法結果，自以修正前刑法第55條牽連犯之規定，較有利於被告。4.綜此，本院經綜合上述各條文修正前、後之比較，參照前揭最高法院決議及修正後刑法第2條第1項前段、後段規定之「從舊、從輕」原則，被告穆立明上開犯行自應適用行為時之法律，予以論處。（二）核被告穆立明所為，係犯刑法第216條、第210條之行使偽造私文書罪、同法第339條第1項詐欺取財罪。被告穆立明於本案參與經營契約書上偽造「志朗交通有限公司」、「陳健志」印章及印文乃偽造私文書之部分行為，其偽造本案參與經營契約書後持以行使，偽造之低度行為復為行使之高度行為所吸收，均不另論罪。被告穆立明與徐鴻光就行使偽造私文書及詐欺之犯行有犯意聯絡及行為分擔，為共同正犯。又其等行使偽造私文書之目的，在詐取告訴人之金錢，所犯連續行使偽造私文書與詐欺取財2罪間，有方法、目的之牽連關係，應依修正前刑法第55條規定，從一較重之行使偽造私文書罪處斷。（三）爰審酌被告穆立明不思以正當途徑賺取錢財，竟偽造志朗公司及其負責人陳建志之印章，進而偽造本案參與經營契約書，而詐取告訴人之金錢，足生損害於志朗公司、陳建志、告訴人，並危害社會交易秩序，所為實有不該，犯後否認犯行，未見悔悟之心，兼衡被告穆立明有違反票據法之前科，有臺灣高等法院被告前案紀錄表在卷可稽（見本院卷第60頁），素行尚可，共同被告徐鴻光於詐得借款後已陸續返還利息予告訴人與朱庭峰，及被告穆立明為高中肄業之智識程度，經濟狀況為小康之生活狀況等一切情狀（見被告警詢筆錄受詢問人欄，本院卷第6頁），量處如主文所示之刑，以資懲儆。又關於易科罰金之折算標準，修正前刑法第41條第1項前段規定：「犯最重本刑為5年以下有期徒刑以下之刑之罪，而受6個月以下有期徒刑或拘役之宣告，因身體、教育、職業、家庭之關係或其他正當事由，執行顯有困難者，得以1元以上3元以下折算1日，易科罰金。」，再依據修正前罰金罰鍰提高標準條例第2條：「依刑法第41條易科罰金或第42條第2項易服勞役者，均就其原定數額提高為1百倍折算1日；法律所定罰金數額未依本條例提高倍數，或其處罰法條無罰金刑之規定者，亦同。」之規定，被告行為時之易科罰金折算標準，應以銀元1百元以上3百元以下折算1日，經折算為新臺幣後，應以新臺幣3百元以上9百元以下折算1日。惟95年7月1日施行之刑法第41條第1項前段規定修正為：「犯最重本刑為5年以下有期徒刑以下之刑之罪，而受6個月以下有期徒刑或拘役之宣告者，得以新臺幣1千元、2千元或3千元折算一日，易科罰金。」，另95年7月1日生效施行之罰金罰鍰提高標準條例則刪除原本第2條之規定。是以比較新舊法結果，自以舊法所定之易科罰金折算標準有利於被告，故應依修正前刑法第41條第1項前段、修正前罰金罰鍰提高標準條例第2條規定，就所宣告之刑部分諭知易科罰金之折算標準。（四）偽造之「臺北市計程車客運駕駛人自備車輛參與經營契約書」原本1份固經共同被告徐鴻光於借款時行使交付予宏帝當鋪，業如前述，惟此僅係共同被告徐鴻光為借得款項，而將本案參與經營契約書交付當鋪作為擔保使用，其所有權仍為共同被告徐鴻光所有，不因行使而移轉為宏帝當鋪所有，又該偽造之契約既係供本件犯行所用，爰依刑法第38條第1項第2款規定宣告沒收。又契約上偽造之「志朗交通有限公司」印文4枚、「陳健志」之印文6枚固係偽造之印文，已因該契約之沒收而包括在內，無再重複諭知沒收之必要。另告訴人為提起本件告訴，而複印本案參與經營契約書資為證據（見94年度偵字第8715號卷第15至第17頁），因認僅係作為本案訴訟使用，而非被告穆立明、共同被告徐鴻光供本件犯行所用之物，就複印之契約書上之「志朗交通有限公司」印文4枚、「陳健志」之印文6枚，爰不予宣告沒收。至被告穆立明偽刻之「志朗交通有限公司」、「陳健志」印章各1枚，係偽造之印章，且無證據證明業已滅失，應依刑法第219條宣告沒收。（五）再按本條例施行前，經通緝而未於中華民國96年12月31日以前自動歸案接受偵查、審判或執行者，不得依本條例減刑，中華民國九十六年罪犯減刑條例第5條定有明文。查本件被告穆立明所為前開犯行之犯罪時間固係在96年4月24日以前，但其曾於中華民國九十六年罪犯減刑條例施行（96年7月16日施行）前之95年12月21日因本案經本院以95年士院刑玄緝字第463號通緝書發佈通緝，於102年9月1日甫緝獲歸案等情，此有前開通緝書、歸案證明書、本院102年士院刑玄銷字第289號撤銷通緝書各1份存卷可參（95年度訴字第955號卷第43頁、本院卷第26頁、第43頁），從而，依前開規定，本案被告無從依中華民國九十六年罪犯減刑條例之規定減刑，併此敘明。據上論斷，應依刑事訴訟法第299條第1項前段，刑法第2條1項前段、第28條、第216條、第210條、第339條第1項、第219條、第38條第1項第2款、修正前刑法第55條、第41條第1項前段，刑法施行法第1條之1第1項，修正前罰金罰鍰提高標準條例第2條，現行法規所定貨幣單位折算新臺幣條例第2條，判決如主文。本案經檢察官黃仙宜到庭執行職務。中華民國102年12月3日刑事第七庭審判長法官雷雯華法官陳介安法官蔡子琪以上正本證明與原本無異。如不服本判決應於收受送達後10日內向本院提出上訴書狀，並應敘述具體理由。其未敘述上訴理由者，應於上訴期間屆滿後20日內向本院補提理由書（均須按他造當事人之人數附繕本）「切勿逕送上級法院」。書記官李宜蓁中華民國102年12月5日附錄本案論罪科刑所依據之法條：刑法第216條、第210條、第339條第1項偽造、變造私文書，足以生損害於公眾或他人者，處5年以下有期徒刑。偽造印章、印文或署押，足以生損害於公眾或他人者，處3年以下有期徒刑。盜用印章、印文或署押，足以生損害於公眾或他人者，亦同。意圖為自己或第三人不法之所有，以詐術使人將本人或第三人之物交付者，處5年以下有期徒刑、拘役或科或併科1千元以下罰金。'"
            ],
            "application/vnd.google.colaboratory.intrinsic+json": {
              "type": "string"
            }
          },
          "metadata": {},
          "execution_count": 248
        }
      ]
    },
    {
      "cell_type": "code",
      "source": [
        "# 打印最相近的五篇文章的索引及距離\n",
        "for i, index in enumerate(indices[0]):\n",
        "    print(\"Article Index:\", index, \"Distance:\", distances[0][i])\n",
        "    print(\"Article Text:\", train_facts[index])"
      ],
      "metadata": {
        "outputId": "4b71c04e-25bd-4c5b-f86b-0de8a4be5a49",
        "colab": {
          "base_uri": "https://localhost:8080/"
        },
        "id": "U3dJmhsZI1rc"
      },
      "execution_count": 259,
      "outputs": [
        {
          "output_type": "stream",
          "name": "stdout",
          "text": [
            "Article Index: 299 Distance: 0.2878052917095526\n",
            "Article Text: 欄一（一）之行使偽造私文書罪部分暨定應執行刑部分均撤銷。蔡明潔犯行使偽造私文書罪，處有期徒刑參月，如易科罰金，以新臺幣壹仟元折算壹日；如附表一所示偽造之「蔡瀚陞」署押共貳枚，均沒收。其餘上訴駁回。上開撤銷改判所處之刑，與上訴駁回部分所處之刑，應執行有期徒刑肆月，如易科罰金，以新臺幣壹仟元折算壹日；如附表一、附表二所示偽造之「蔡瀚陞」署押共肆枚、印文壹枚及「蔡瀚陞」印章壹枚，均沒收。事實一、蔡明潔為蔡瀚陞之兄，蔡瀚陞因長期在國外，於民國91年間委託蔡明潔辦理領取國泰世華商業銀行帳戶款項之事務，並將其所有之身分證、印章1枚（下稱原印章）、國泰世華商業銀行帳戶存摺等物，交付蔡明潔保管後，蔡明潔竟分別為下列行為：（一）竟意圖為自己不法之所有，基於詐欺取財及行使偽造私文書之犯意，未經蔡瀚陞之同意或授權，於96年9月28日（起訴書誤繕為9月2日）持蔡瀚陞之身分證及原印章向台新國際商業銀行七賢分行（下稱台新銀行七賢分行）申辦台幣存款帳戶，偽以蔡瀚陞之名義，在附表一編號1、2所示之開戶業務申請書之戶名（代表人暨存款帳戶文件領取人）欄及台幣往來印鑑暨資料卡之戶名正楷簽名欄，各偽簽「蔡瀚陞」署押1枚及各盜蓋「蔡瀚陞」原印章之印文1枚，而偽造具私文書性質之開戶業務申請書、台幣往來印鑑暨資料卡，持以交付該行人員以完成開戶程序，致該行人員陷於錯誤，遂將帳號：00000000000000號（下稱系爭帳戶）存摺1本、金融卡1張交付予蔡明潔，足生損害於蔡瀚陞本人及台新銀行七賢分行對金融帳戶管理之正確性。（二）另基於行使偽造私文書之犯意，於97年10月29日前某日，利用不知情之不詳姓名成年刻印人員偽刻「蔡瀚陞」印章1枚（下稱偽印章，未扣案），於97年10月29日攜帶該偽印章至台新銀行七賢分行辦理系爭帳戶之印鑑變更，並在附表二所示之台幣往來印鑑暨資料卡之戶名正楷簽名欄及印鑑欄偽簽「蔡瀚陞」署押共2枚及蓋用偽印章之印文1枚，而偽造具私文書性質之台幣往來印鑑暨資料卡，持以交付該行人員以完成變更印鑑程序，足生損害於蔡瀚陞本人及台新銀行七賢分行對金融帳戶管理之正確性。嗣因蔡瀚陞接獲台新銀行七賢分行通知金融卡有效期限屆滿信件並向該行查證，始知悉上情。二、案經蔡瀚陞訴由高雄市政府警察局苓雅分局移送臺灣高雄地方法院檢察署檢察官偵查起訴。理由一、證據能力之認定：按被告以外之人於審判外之言詞或書面陳述，除法律有規定者外，不得作為證據，刑事訴訟法第159條第1項定有明文。又被告以外之人於審判外之陳述，雖不符前4條之規定，而經當事人於審判程序同意作為證據，法院審酌該言詞陳述或書面陳述作成時之情況，認為適當者，亦得為證據。當事人、代理人或辯護人於法院調查證據時，知有第159條第1項不得為證據之情形，而未於言詞辯論終結前聲明異議者，視為有前項之同意，刑事訴訟法第159條之5亦定有明文。本判決所引用之證據資料（詳後引證據，含供述證據、非供述證據及其他具有傳聞性質之證據），檢察官、被告蔡明潔及其辯護人均同意有證據能力（院三卷第53頁）；本院並審酌前開證據資料作成時之情況，尚未有違法或不當之情形，所取得過程並無瑕疵，且與本案相關之待證事實具有關連性，認適當作為證據，是依上開規定及說明，認均具有證據能力。二、就事實欄一（一）部分：訊據被告蔡明潔固承認於91年間取得告訴人蔡瀚陞身分證及原印章，並於96年9月28日持告訴人身分證及原印章至台新銀行七賢分行申辦系爭帳戶，並於開戶業務申請書、台幣往來印鑑暨資料卡上，各簽署「蔡瀚陞」簽名1枚及各蓋用「蔡瀚陞」原印章之印文1枚等事實，惟矢口否認有何行使偽造私文書、詐欺犯行，辯稱：申辦蔡瀚陞台新銀行之帳戶，有經過其同意及授權，且有家書、匯款單據、收據等資料可證，況蔡瀚陞並未有任何損失云云。經查：（一）被告於91年間自告訴人處取得告訴人身分證及原印章，並於96年9月28日親自持告訴人之身分證及原印章向台新銀行七賢分行以告訴人之名義申辦系爭帳戶，如附表一編號1、2所示之開戶業務申請書、台幣往來印鑑暨資料卡上之「蔡瀚陞」簽名及「蔡瀚陞」原印章印文均為被告簽署及蓋章，被告並自台新銀行七賢分行領取系爭帳戶存摺1本、金融卡1張等情，業據被告於本院審理中陳述明確（院三卷第52、90、94至95頁），核與告訴人、證人蔡吳安慰於本院審理中證述之情節相符（院三卷第55、71頁），並有96年9月28日開戶業務申請書、台幣往來印鑑暨資料卡各1份在卷可稽（警二卷第16至17頁、偵二卷第30頁），此部分事實，堪以認定。（二）告訴人於91年出國前將個人印章、身分證及國泰世華銀行帳戶存摺交給被告保管，委託被告替其自該帳戶領錢給父母及繳納保險費，被告未經告訴人之同意或授權，至台新銀行七賢分行以告訴人名義申辦系爭帳戶，開戶業務申請書、台幣往來印鑑暨資料卡上「蔡瀚陞」之署名均非告訴人所簽，但台幣往來印鑑暨資料卡上之「蔡瀚陞」印文，係告訴人交給被告之原印章所蓋印，告訴人係於接獲台新銀行七賢分行通知金融卡有效期限屆滿信件，方知悉其名下有台新銀行七賢分行帳戶，而告訴人對於上開以其名義在台新銀行七賢分行開立之系爭帳戶之交易明細〔自96年9月28日（開戶日）至99年10月12日（最後交易日），即警二卷第21至27頁〕所記載之交易內容、對象均不知情或認識等情，業據告訴人於本院審理中證述明確（院三卷第55至56、58、60至62頁），倘若告訴人同意被告至台新銀行七賢分行以告訴人名義申辦系爭帳戶，供被告為告訴人辦理事務之用，衡情應不至於對於上開台新銀行七賢分行系爭帳戶之交易內容及對象毫無所悉。另佐以被告亦於本院審理中供述：96年9月28日是我去台新銀行開戶，當時蔡瀚陞並沒有提出委託書或授權書請我替他去台新銀行開戶，我並沒有告知銀行行員「蔡瀚陞本人沒有來，我替他開戶」等語（院三卷第94頁），倘若被告係經告訴人授權，方至台新銀行七賢分行替告訴人申辦系爭帳戶，被告大可直接向該銀行行員告知係替告訴人辦理開戶，又何需冒著當場被該銀行行員揭穿非告訴人本人申辦帳戶之危險？綜合上情判斷，被告未經告訴人之同意或授權，即偽以告訴人名義，偽簽告訴人之署名，蓋用告訴人原留印章，以申請台新銀行七賢分行系爭帳戶使用之事實，堪以認定。（三）雖被告辯稱申辦上開台新銀行七賢分行帳戶經過告訴人之同意及授權，有家書、匯款單據、收據等資料可證云云。然，告訴人（原名蔡明恩）於91年3月26日之家書中記載「另外以您的名義開個外幣戶頭」，告訴人於家書中係請被告以被告本人名義開立外幣帳戶，並非委託被告以告訴人名義開立台幣存款帳戶等情，業據告訴人於本院審理中證述明確（院三卷第56頁），並有家書影本1份在卷可稽（警二卷第25頁），而被告於104年3月6日具狀提出之匯款單據、收據影本資料之發生時間，大多在被告於96年9月28日申辦台新銀行七賢分行帳戶之前，縱有匯款單據或收據之發生時間在96年9月28日之後，經本院比對於單據發生之相同時間內之上開台新銀行七賢分行系爭帳戶之交易明細，亦查無相對應之提款紀錄，是此部分尚難為被告有利之認定。至被告另辯稱以告訴人名義開戶對告訴人並無損害云云，然遭冒名開戶常衍生金融犯罪，且相關稅賦課徵義務人亦會混亂，對於交易秩序之安全，並非毫無危險，況刑法上偽造文書罪，所謂足以生損害於公眾或他人，以有損害之虞為已足，不以實際發生損害為必要，故被告辯稱告訴人並無損害云云，不足採信。（四）綜上所述，被告偽以告訴人名義，申辦台新銀行七賢分行系爭帳戶使用，已使台新銀行七賢分行銀行人員誤認係告訴人本人申請開戶，而陷於錯誤，遂將系爭帳戶之存摺1本、金融卡1張交付與被告，不僅已損害於告訴人本人，亦損害台新銀行七賢分行對金融帳戶管理之正確性。被告此部分行使偽造私文書、詐欺取財之犯行，堪以認定，應依法論科。三、就事實欄一（二）部分：上開事實欄一（二）所載之犯罪事實，業據被告於本院審理中坦承不諱，核與告訴人於本院審理中證述情節相符（院三卷第61頁），復有台幣往來印鑑暨資料卡影本1份（97年10月29日）在卷可稽（警二卷第18頁），是被告之自白與事實相符，可資採為認定犯罪事實之依據，被告此部分行使偽造私文書犯行，堪以認定，應依法論科。四、查刑法第339條業於103年6月18日修正公布，其中有關罰金刑部分已從「或併科罰金一千元以下罰金」，提高為「或併科五十萬元以下罰金」，被告犯罪行為完成於上開條文修正前，比較新舊法結果，自以舊法對被告較為有利，依刑法第2條第1項前段之規定，自應適用行為時，即修正前之規定。五、是核被告如事實欄一（一）所為，係犯刑法第216條、第210條之行使偽造私文書罪、修正前刑法第339條第1項之詐欺取財罪；如事實欄一（二）所為，係犯刑法第216條、第210條之行使偽造私文書罪。就事實欄一（一）部分，被告偽造「蔡瀚陞」署名及盜蓋「蔡瀚陞」印章之行為，均係偽造私文書之階段行為，又偽造私文書之低度行為，為其持以向台新銀行七賢分行行使之高度行為所吸收，均不另論罪。被告先後偽造附表一所示私文書，係於密切接近之時間為之，侵害同一法益，各行為之獨立性相當薄弱，且係出於同一目的，依一般社會觀念，難以強行分開，應視為數個舉動之接續施行，應論以接續犯。被告以一行為觸犯行使偽造私文書、詐欺取財等2罪，為想像競合犯，應從一重論以行使偽造私文書罪；就事實欄一（二）部分，被告利用不知情之不詳姓名成年刻印人員，偽刻「蔡瀚陞」印章1枚，為間接正犯。又被告利用不知情之不詳姓名成年刻印人員偽造「蔡瀚陞」印章之行為及偽造「蔡瀚陞」署名、印文之行為，均為偽造私文書之階段行為，又其偽造私文書之低度行為，為其持以向台新銀行七賢分行行使之高度行為所吸收，不另論罪。被告所犯上開行使偽造私文書2罪，犯意各別，行為互殊，應予分論併罰。末按檢察官就犯罪事實一部起訴者，其效力及於全部，刑事訴訟法第267條定有明文。關於上開事實一（一）部分，起訴書就被告詐欺取財部分雖未提起公訴，然此部分與已起訴之行使偽造私文書，有想像競合犯之裁判上一罪關係，業如前述，且經原審公訴檢察官就此部分犯罪事實，補充修正前刑法第339條第1項詐欺取財罪名（院一卷第19頁），亦經本院於審理時告知上開罪名（院三卷第51頁），自為起訴效力所及，是本院應就此部分一併加以審理裁判。六、撤銷改判〔事實欄一（一）〕之部分：原審據以論處被告罪刑，固非無見。惟查：被告如事實欄一（一）所為，係以一行為觸犯行使偽造私文書、詐欺取財等2罪，原審漏未就本為起訴效力所及之詐欺取財罪部分加以論處，未論以想像競合犯，亦未引用刑法第55條規定，且被告行為後刑法第339條業經修正，原審亦漏未比較新舊法，自有未當。被告上訴意旨指摘原判決量刑過重，為無理由；惟原判決既有上開違誤，自應由本院就此部分及定應執行刑均撤銷，另為適法之判決。本院審酌被告為謀一己之方便，竟利用持有告訴人身分證件及原印章之機會，冒用告訴人名義申辦銀行帳戶使用，並領取該帳戶存摺及金融卡等物，復使用該帳戶，破壞社會金融秩序，行為實有不該。又參以被告犯後承認開立系爭帳戶之事實，但辯稱經告訴人同意方申辦系爭帳戶之態度，且未與告訴人達成和解；並考量被告本件犯罪情節、所得財物價值等一切情狀，暨自陳高中畢業之智識程度，近一年的平均收入約20至30萬元之經濟狀況等一切情狀，量處如主文第2項所示之刑，並諭知如主文所示易科罰金之折算標準，以資懲儆。並由本院就上開撤銷改判部分與上訴駁回部分（詳後述），另定其應執行之刑，及就所定應執行之刑諭知易科罰金之折算標準。七、上訴駁回〔事實欄一（二）〕之部分：原審以被告於97年10月29日向台新銀行七賢分行行使偽造私文書之犯行事證明確，適用刑法第216條、第210條之規定，並審酌被告擅自偽刻告訴人印章，向銀行辦理系爭帳戶之印鑑變更，破壞社會金融秩序，所為均有不該，惟念其犯後尚知坦承犯行，且未將前開帳戶用以從事其他犯罪行為等一切情狀，量處有期徒刑3月，如易科罰金，以新臺幣1,000元折算1日。經核其認事用法俱無不合，量刑亦屬妥適，被告上訴指摘原審量刑過重，並無理由，應予駁回。八、末按刑法第219條所定不問屬於犯人與否沒收之者，以偽造之印章、印文或署押為限，至盜用他人真正印章所蓋之印文，並非該條所指之偽造印文（最高法院48年度台上字第1533號判例、93年度台上字第1871號判決意旨參照）。查附表一、附表二（即原判決附表編號3）所示之文書，因已交付台新銀行七賢分行，非被告所有之物，固無庸沒收，惟附表一、附表二所示偽造「蔡瀚陞」署押、印文，揆諸前揭說明，均應依刑法第219條規定，各於被告事實欄一（一）、（二）之罪名項下宣告沒收。另被告利用不知情之成年刻印人員所偽造之「蔡瀚陞」印章1枚，雖未據扣案，惟查無證據足證該物品均已滅失，併依刑法第219條之規定，於被告事實欄一（二）罪名項下宣告沒收。至附表一所示文書上蓋用之「蔡瀚陞」印文，係盜用告訴人真印章所蓋之印文，並非偽造印章之印文，不在刑法第219條所定必須沒收之列，爰不予宣告沒收，起訴書就此部分聲請沒收，容有誤會，附此敘明。據上論斷，應依刑事訴訟法第455條之1第1項、第3項、第368條、第369條第1項前段、第364條、第299條第1項前段，刑法第2條第1項前段、第216條、第210條、修正前刑法第339條第1項、刑法第55條、第41條第1項前段、第219條、第51條第5款、第9款，刑法施行法第1條之1，判決如主文。本案經檢察官張時嘉到庭執行職務。中華民國104年3月25日刑事第二十庭審判長法官林永村法官胡慧滿法官李爭春以上正本證明與原本無異。不得上訴。中華民國104年3月25日書記官王資惠附錄本案論罪科刑法條：中華民國刑法第210條（偽造變造私文書罪）偽造、變造私文書，足以生損害於公眾或他人者，處5年以下有期徒刑。中華民國刑法第216條（行使偽造變造或登載不實之文書罪）行使第210條至第215條之文書者，依偽造、變造文書或登載不實事項或使登載不實事項之規定處斷。中華民國刑法第339條（普通詐欺罪）意圖為自己或第三人不法之所有，以詐術使人將本人或第三人之物交付者，處5年以下有期徒刑、拘役或科或併科1千元以下罰金。以前項方法得財產上不法之利益或使第三人得之者，亦同。前二項之未遂犯罰之。附表一：\n",
            "Article Index: 131 Distance: 0.32357583344737306\n",
            "Article Text: 一、洪月連為莊崇珍之妻，為莊林美雪及莊樹枝（民國87年11月24日歿）之媳婦。洪月連明知其對莊樹枝並無債權存在，且莊林美雪並未擔任保證人且未提供其所有位於新北市○○區○○路000巷00○0號1樓之房屋供作抵償，竟為取得該房屋之所有權，而於103年8月5日前某日，利用不知情之刻印業者偽刻「莊林美雪」及「莊樹枝」之印章各1枚，並基於行使偽造私文書及使公務員登載不實之犯意，以莊樹枝及莊林美雪之名義，虛偽記載「一、本人（莊樹枝）因欠朋友錢被催討，才向媳婦（洪月連）支借三次款項還錢。（一）民國七十九年五月十一日支借新臺幣六十萬元整還竹塘哈目。（二）民國八十三年十月二十七日支借新臺幣壹佰萬元整還五庄矮龍。（三）民國八十四年十二月二十六日支借新臺幣壹佰伍拾萬元整還代厝庄喚仔。三次支借金額共新臺幣参佰壹拾萬元整。二、以上所支借款項，由我妻子（莊林美雪）名下的房地做為抵還，房地位於台北縣○○市○○路000巷0000號一樓。因買這間房子的錢是我（莊樹枝）拿出來，任何人不得有議」之借據，並於立據人欄及保證人欄上，分別偽造「莊樹枝」及「莊林美雪」之署名各1枚，復於其上分別蓋用前開偽造「莊樹枝」及「莊林美雪」印章而偽造「莊樹枝」及「莊林美雪」印文各1枚，用以偽造莊樹枝表示上開借據內容意思表示及莊林美雪表示擔任保證人保證莊樹枝前開債務及以前開房屋作為抵償之私文書，再於103年8月5日撰寫民事支付命令聲請狀，旋於翌日（6日）持向本院聲請對莊林美雪核發民事支付命令，使本院不知情之司法事務官為形式審查後，於103年8月7日將上開借據所示之金額及洪月連聲請之利息准予核發支付命令之不實事項，登載於其職務上所製作之103年度司促字第9908號支付命令，嗣因莊林美雪聲明異議，視為起訴，本院於103年9月12日裁定命洪月連繳交裁判費用，惟洪月連未繳交，而經本院於103年10月16日以103年度訴字第1042號裁定原告之訴駁回確定，其後於臺灣新北地方法院104年度重訴字第195號及臺灣高等法院104年度重上字第1095號民事訴訟中，洪月連再提出前所偽造之借據以行使之，足以生損害於莊樹枝、莊林美雪、本院核發支付命令之正確性及法院認事用法之正確性。二、案經莊林美雪訴請臺灣彰化地方法院檢察署檢察官偵查起訴。理由一、證據能力：(一)按檢察官職司追訴犯罪，就審判程式之訴訟構造言，檢察官係屬與被告相對立之當事人一方，偵查中對被告以外之人所為之偵查筆錄，或被告以外之人向檢察官所提之書面陳述，性質上均屬傳聞證據。自理論上言，如未予被告反對詰問、適當辯解之機會，一律准其為證據，似有違當事人進行主義之精神，對被告之防禦權亦有所妨礙；然而現階段刑事訴訟法規定檢察官代表國家偵查犯罪、實施公訴，必須對於被告之犯罪事實負舉證之責，依法其有訊問被告、證人及鑑定人之權，證人、鑑定人且須具結，而實務運作時，偵查中檢察官向被告以外之人所取得之陳述，原則上均能遵守法律規定，不致違法取供，其可信性極高，為兼顧理論與實務，乃於修正刑事訴訟法時，增列第159條之1第2項，明定被告以外之人（含被害人、證人等）於偵查中向檢察官所為陳述，除顯有不可信之情況者外，得為證據，並於92年9月1日施行（最高法院94年度臺上字第7416號判決意旨參照）。又所謂「顯有不可信性」，係指陳述是否出於供述者之真意、有無違法取供情事之信用性而言，故應就偵查或調查筆錄製作之原因、過程及其功能等加以觀察其信用性，據以判斷該傳聞證據是否有顯不可信或有特別可信之情況而例外具有證據能力，並非對其陳述內容之證明力如何加以論斷，二者之層次有別，不容混淆（最高法院94年度臺上字第629號判決要旨可參）。經查，辯護人否認證人莊林美雪於偵訊中證述之證據能力，然證人莊林美雪在檢察官偵查時，係以證人之身分，經檢察官告以具結之義務及偽證之處罰，經其具結，而於負擔偽證罪之處罰心理下所為，是其之證述係經以具結擔保該陳述之真實性，且無證據顯示其於受檢察官訊問之證述係遭受強暴、脅迫、詐欺、利誘等外力干擾情形或在影響其之心理狀況致妨礙其自由陳述等顯不可信之情況下所為。是其於偵訊時之陳述，既無顯不可信情況，依上開說明，具有證據能力。(二)按除顯有不可信之情況外，公務員職務上製作之紀錄文書、證明文書，亦得為證據，刑事訴訟法第159條之4第1款定有明文。上述「紀錄文書」或「證明文書」，並不限於針對特定事件所製作。只要係公務員基於職務上就一定事實之記載，或就一定事實之證明而製作之文書，而其內容不涉及公務員主觀之判斷或意見之記載，即屬於上述條款所稱文書之範疇。經查，辯護人否認臺灣彰化地方法院檢察署公務電話紀錄單之證據能力，然而該等紀錄單，係書記官本於職權依據銀行行員告知之事實所製作之紀錄，其外部條件並無顯有不可信之情況，且不涉及書記官主觀之判斷或意見，具有證據能力。(三)以下本案其他所引用被告以外之人於審判外之言詞或書面陳述，而不符合刑事訴訟法第159條之1至第159條之4之規定者，均經本院於審理時當庭直接提示而為合法之調查，檢察官、被告及辯護人均不爭執其證據能力，本院審酌前開證據作成或取得之情況，並無非法或不當取證之情事，亦無顯不可信之狀況，故認為適當而均得作為證據。是前開證據，依刑事訴訟法第159條之5之規定，皆具有證據能力，先予敘明。二、訊據被告洪月連固供承有提出上開借據據以聲請民事支付命令，惟矢口否認有何偽造文書犯行，辯稱：該借據係莊樹枝口述，由其撰寫，印章是莊林美雪與莊樹枝所蓋用，第一筆借款係伊於79年5月11日從台灣銀行提領給莊樹枝，當時本來是要辦定存，係莊樹枝要求借款，伊才將款項借給莊樹枝，第二筆款項是母親從彰化竹塘拿100萬元到臺北，伊在臺北交給莊樹枝，莊樹枝再拿回竹塘，第三筆也是母親從彰化竹塘拿150萬元到臺北，伊在臺北交給莊樹枝，莊樹枝再拿回竹塘，莊樹枝每次借錢都說要將上開房屋過戶給伊云云。辯護人則以該借據確實係被告於84年12月26日依莊樹枝及莊林美雪之指示所書寫，其上用印係2人親自蓋用，被告聲請核發103年度司促字第9908號支付命令後，因考量借款已罹於時效，才未繳納裁判費，並非因該借據係經偽造，且鑑定機關亦無從對借據字跡筆墨及紙張年份為鑑定，自應為被告有利之認定等語為被告辯護。經查：(一)被告於103年8月6日持該借據向本院聲請民事支付命令，經本院司法事務官為形式審查後，於103年8月7日將該借據之款項及被告所聲請之利息登載於職務上所製作之103年度司促字第9908號支付命令，嗣因告訴人莊林美雪聲明異議，視為起訴，本院於103年9月12日裁定命被告繳交裁判費用，惟被告未繳交，再經本院於103年10月16日以103年度訴字第1042號裁定原告之訴駁回確定，其後被告向告訴人提起確認買賣關係不存在等之民事訴訟時，復提出該借據作為證據等情，為被告所坦白承認，並有民事支付命令聲請狀影本、借據影本、本院103年度司促字第9908號支付命令及103年度訴字第1042號民事裁定影本、臺灣高等法院104年度重上字第1095號民事判決書（見他卷第2至5頁，偵卷第25至29頁背面）在卷可參，是此部分之事實，先予認定。(二)證人即告訴人莊林美雪於偵訊中證稱：莊樹枝沒有向借據所載之3人借過錢，借據記載不實在，上面的印章是洪月連偷刻的，且其有很多兒子，要借錢也不會向洪月連借錢等語（見偵卷第19至21頁背面）；繼於本院審理中證稱：莊樹枝沒有跟洪月連借過錢，其與莊樹枝沒有寫過借據給洪月連，也沒有授權洪月連寫借據，由其等蓋章的情形等語（見本院卷第84頁背面至89頁），是證人即告訴人莊林美雪迭於偵訊及本院審理中均證稱莊樹枝未曾向被告借錢，且其等亦未授權予被告撰寫系爭借據，則系爭借據是否為真正，即非無疑。再者，據證人即被告之夫洪崇珍於偵訊中證稱：84年間其與洪月連感情很好，係因為父親在87年11月24日過世後，其才搬回家住，而其係在1個多月前（製作筆錄時間為105年1月11日）才看過本案借據，在之前都沒有看過，洪月連也未曾告知父親莊樹枝有向她借錢的事情等語（見他卷第49至54頁），是倘莊樹枝如需用錢，何以未向莊崇珍表示，反係直接向被告為之，已屬有疑，且依借據所記載之情形，借款金額均非屬小額借貸，次數更達3次，而莊崇珍均不知情，亦與事理常情相違，故莊樹枝是否曾向被告借貸金錢，誠屬有疑。(三)就被告所辯貸與款項之資金來源，惟查：1.79年5月11日部分，被告稱該部分係其於79年5月11日至臺灣銀行，本欲領取60萬元轉定存，而因莊樹枝借用，始未轉定存云云，然依被告提出之臺灣銀行帳號000000000000號存摺封面暨內頁交易明細影本（見他卷第58至63頁），79年5月11日確實有支出60萬元（見同卷第63頁），而此部分之交易情形，乃係被告於79年5月11日自臺灣銀行提領60萬元後，當日轉為定存，按月續存至79年9月間等情，有臺灣銀行連城分行105年3月2日連城營密字第10550000771號函暨所附傳票影本2紙、105年10月26日連城公密字第10550005241號函暨所附轉帳傳票影本4紙、臺灣彰化地方法院檢察署公務電話紀錄單2紙（見他卷第148至150、185頁，偵卷第113至117、121至122頁）附卷可參，是被告所稱此部分借款資金來源，顯係子虛烏有，不足為採。2.83年10月27日及84年12月26日部分，被告稱均係母親就醫時攜帶現金100萬元、150萬元自彰化縣竹塘鄉北上至臺北交付予被告，被告在臺北交付100萬元、150萬元現金予莊樹枝，莊樹枝再攜回彰化縣竹塘鄉云云。衡諸常情，100萬元、150萬元均屬巨額款項，交易方式多係以匯款為之，倘依被告所言，被告母親係利用就醫時搭車攜帶現金北上，而被告母親長期居住於彰化縣竹塘鄉，獨自一人搭車北上就醫本非其平常之事，已需多加注意小心，若再攜帶巨額款項至臺北交付予被告，更需付出相當心力保管金錢，顯與常情相違；再者，若依被告所述，其收受現金後，再交由莊樹枝自臺北攜回彰化縣竹塘鄉，可見金錢來源及欲交付之對象均係在彰化縣竹塘鄉，大可相約在彰化縣竹塘鄉交付款項即可，何以冒著攜帶巨額現金遺失之風險，往來彰化臺北間，亦與常情相悖。3.綜上，被告就借款之資金來源，已有前開不實、不合理之處，實難認定被告有何貸與金錢予莊樹枝乙情，從而，被告所提系爭借據，應屬偽造甚明。(四)另辯護人主張鑑定機關無法鑑定借據筆墨及紙張年份，應為被告有利之認定部分。惟查，內政部警政署刑事警察局固函覆有關借據原本之紙張年份及借據上筆墨為幾年所寫一節，因無是項鑑定條件，無法鑑定，有該局105年1月19日刑鑑字第1050004021號函文（見他卷第122頁）在卷可參，而法務部調查局函覆由於製作文件之用紙材質及筆墨種類繁多，使用時新舊情況又不明（如舊物新用），加上紙本文件易受溫度、濕度、光照、日曬及空氣流通情形等保存條件不定之影響而生變化，故難憑文件構成素材之氧化情形或成分判斷本案借據紙張之筆墨之年份與書寫時間，有該局105年1月30日調科貳字第10503130060號函（見他卷第135頁）在卷足參，然而，此僅係無法鑑定系爭借據紙張、筆墨年份及書寫時間，要與系爭借據是否為偽造乙節無涉，自無從為被告有利或不利之認定，是辯護人此部分主張，容有誤會，附此敘明。(五)綜上所述，被告所辯，應屬飾卸之詞，不足為採，此外，尚有扣案之偽造借據原本可資佐證，足認被告前開犯行，事證明確，堪以認定，應予依法論科。三、論罪科刑：(一)按偽造文書罪之成立，係以無制作權人，冒用他人名義作成之文書，足以生損害於公眾及他人為要件。蓋偽造文書罪，係以其信用為保護法益，茲所謂他人，除自己之外，不問已經死亡或尚未出生者，均包括在內（最高法院89年度臺上第173號判決參照）。復按支付命令之聲請，除應表明當事人及法定代理人、法院外，祇須表明請求之標的並其數量及請求之原因事實，以及應發支付命令之陳述；又法院應不訊問債務人，就支付命令之聲請為裁定；債務人對於支付命令，得不附理由於法定期間向發命令之法院提出異議，此時，支付命令失其效力，以債權人支付命令之聲請，視為起訴或聲請調解，民事訴訟法第511條（指104年7月1日修正公布前之規定）、第512條、第516條第1項、第519條第1項分別定有明文，故債權人於督促程序就支付命令之聲請毋庸舉證，法院就其聲請並不為實質之審查，經為形式上之審查後，除有民事訴訟法第513條第1項應予裁定駁回之情形外，應發支付命令，故聲請人如就請求之標的、數量及請求之原因事實有虛偽不實之聲明，使法院將此不實事項登載於支付命令上，自足生損害於債務人及債務人之真正債權人，應構成刑法第214條之使公務員登載不實罪（最高法院89年度臺非字第477號判決意旨參照）。是核被告所為，係犯刑法第216條、第210條之行使偽造私文書罪及同法第214條之使公務員登載不實罪。被告偽造「莊樹枝」、「莊林美雪」之印章，乃係利用不知情之刻印業者為之，係間接正犯。被告先後持偽造之借據聲請支付命令、作為民事訴訟案件之證據而行使之行為，係於密切接近之時、地實施，且係侵害同一法益，各行為之獨立性極為薄弱，依一般社會健全觀念，在時間差距上，難以強行分開，在主觀上顯係基於同一之犯意，為接續犯，應論以一罪。另被告偽造莊樹枝、莊林美雪之署名、印章、印文，為偽造私文書之部分行為，而偽造私文書後復持以行為，偽造私文書之低度行為應為其後行使之高度行為所吸收，均不另論罪。又其所犯上開2罪，行為雖非完全一致，然仍有部分重疊，且其犯罪目的同一，乃係一行為觸犯2罪名，為想像競合犯，應依刑法第55條規定，從一重論以行使偽造私文書罪。檢察官於起訴書中，雖僅記載被告持系爭偽造之借據向法院聲請支付命令而行使之，未將使公務員登載不實部分之犯罪事實記載完備，且漏未記載被告將偽造之借據提出作為民事訴訟案件之證據之犯罪事實，然前開部分與已敘及部分，分別有想像競合犯之裁判上一罪及接續犯之實質上一罪關係，均為起訴效力所及，本院自應併予審理。(二)爰審酌被告為圖獲得莊林美雪前開所有房地，竟虛偽捏造莊樹枝積欠其債務、莊林美雪願提供上開房地抵償，而冒用莊樹枝、莊林美雪之名義偽造系爭借據，並進而持向法院聲請支付命令，而使公務員登載不實，其後與他人民事訴訟程序中，又提出作為證據使用，試圖影響法院認事用法之正確性，所為實不足取，並考量其犯後否認犯行之犯後態度，暨其智識程度、犯罪目的、手段、生活狀況等一切情狀，量處如主文所示之刑，並諭知易科罰金之折算標準，以資儆懲。(三)經查，被告行為後，刑法業於104年12月30日修正，於105年7月1日施行，增訂第5章之1沒收，繼於105年6月22日修正沒收章節中之第38條之3，於同年7月1日施行。是本案關於沒收部分，一律適用裁判時即修正後刑法之規定，先予敘明。偽造之「莊林美雪」及「莊樹枝」之印章各1枚，雖均未扣案，惟不能證明業已滅失，應依刑法第219條規定宣告沒收。又扣案之偽造借據，為行使偽造私文書罪所用之物，爰依刑法第38條第2項前段規定宣告沒收，而其上所偽造之署名及印文，已因偽造借據之沒收而包括在內，自不重為沒收之諭知，附此敘明。據上論斷，應依刑事訴訟法第299條第1項前段，刑法第2條第2項、第210條、第214條、第216條、第55條、第41條第1項前段、第219條、第38條第2項前段，刑法施行法第1條之1，判決如主文。本案經檢察官傅克強到庭執行職務。中華民國106年6月29日刑事第四庭審判長法官余仕明法官都韻荃法官林怡君以上正本證明與原本無異。如不服本判決應於收受判決後10日內向本院提出上訴書狀，並應敘述具體理由。其未敘述上訴理由者，應於上訴期間屆滿後20日內向本院補提理由書（均須按他造當事人之人數附繕本）「切勿逕送上級法院」。告訴人或被害人對於判決如有不服具備理由請求檢察官上訴者，其上訴期間之計算係以檢察官收受判決正本之日期為準。中華民國106年6月29日書記官吳冠慧附錄本案論罪科刑法條：中華民國刑法第210條（偽造變造私文書罪）偽造、變造私文書，足以生損害於公眾或他人者，處5年以下有期徒刑。中華民國刑法第214條（使公務員登載不實罪）明知為不實之事項，而使公務員登載於職務上所掌之公文書，足以生損害於公眾或他人者，處3年以下有期徒刑、拘役或5百元以下罰金。中華民國刑法第216條（行使偽造變造或登載不實之文書罪）行使第210條至第215條之文書者，依偽造、變造文書或登載不實事項或使登載不實事項之規定處斷。\n",
            "Article Index: 259 Distance: 0.3259005731536053\n",
            "Article Text: 一、林詹吩（民國00年0月0日生，行為時為滿80歲之人）為林森垚之妻，林慶重、林慶興均為林森垚之子。渠等均明知林森垚於98年3月5日死亡後，林森垚之遺產，應由林森垚之遺孀林詹吩與其子女林慶興、林慶重、林正川、林沛蓉、林妤錡、林雪、林美雲等人依法共同繼承，須由全體繼承人同意，並檢具相關證件，依據繼承之程序，始得提領林森垚遺產，林詹吩、林慶重、林慶興竟先後為下列行為：(一)林詹吩與林慶興、林正川（以上2人此部分未經起訴，應由檢察官另行分案處理）共同基於行使偽造私文書之犯意聯絡，於98年3月6日，共同前往南投縣鹿谷鄉農會信用部（下稱鹿谷鄉農會），由林詹吩持其保管之林森垚之真正印章1顆，以林森垚為名義，在「更換印鑑申請書」上「存款戶」、「新印鑑式樣」欄上分別使用上開林森垚之真正印章蓋印「林森垚」印文2枚、印文1枚，及在「鹿谷鄉農會存款印鑑卡（活期存款）」、「鹿谷鄉農會存款印鑑卡（存單存款）」上之「印鑑」欄、「存戶及負責人」簽章處，分別使用上開林森垚之真正印章蓋印「林森垚」印文各1枚。嗣因林詹吩無法簽名，林慶興、林正川並在該「存款戶」欄、「戶名及負責人」簽章處旁均簽自己之名表示為見證人，而偽造林森垚向鹿谷鄉農會辦理變更林森垚活期儲蓄存款、定期存款之原留印鑑之上開等不實之私文書，足生損害於鹿谷鄉農會管理金融帳戶之正確性。再持上開等偽造之私文書連同林森垚國民身分證影本一併交付鹿谷鄉農會承辦人員邱信用、黃世煌而行使之，用以主張係林森垚本人欲辦理變更印鑑之意思，使前揭承辦人員予以辦理林森垚原留印鑑之變更，足生損害於鹿谷鄉農會管理金融帳戶之正確性。渠等復接續上開共同行使偽造私文書之犯意聯絡，接續在林森垚之鹿谷鄉農會編號：0000000、0000000、0000000、0000000、0000000，金額分別為：新臺幣（下同）60萬元、40萬元、60萬元、40萬元、40萬元之定期儲蓄存款存單背面「存戶簽蓋原留印鑑」欄使用上開林森垚之真正印章盜蓋「林森垚」印文各1枚，偽造林森垚本人就該定期儲蓄存款存單申請中途解約之私文書，而持以向鹿谷鄉農會承辦人員邱信用行使之，使該承辦人員誤為林森垚本人申請辦理定期存款解約，而將解約後所得之款項，轉入林森垚本人在該農會00000000000000號之帳戶內，足生損害鹿谷鄉農會管理金融帳戶之正確性。渠等並接續上開共同行使偽造私文書，以及另共同意圖為自己不法所有之犯意聯絡，在鹿谷鄉農會取款憑條上之「存戶簽章」欄使用林森垚之真正印章盜蓋「林森垚」印文1枚，偽造林森垚本人提領上開定期存款解約後可得之款項及該帳戶內原有存款合計共267萬5,000元之私文書，而持以向鹿谷鄉農會承辦人員行使之，使承辦人員因而陷於錯誤，遂將該筆款項依林詹吩指示轉至林詹吩設在該農會初鄉分部000000000000000號帳戶內，足生損害於林沛蓉、林妤錡、林雪等共同繼承人之權利及鹿谷鄉農會管理金融帳戶之正確性。(二)林詹吩另與林慶重共同意圖為自己不法所有，並基於行使偽造私文書之犯意聯絡，由林詹吩囑咐林慶重，分別為下列行為：1.於98年3月10日，攜由林詹吩所保管之林森垚之真正印章至臺灣中小企業銀行（下稱臺灣企銀）竹山分行，在該銀行取款憑條上存戶簽章欄使用林森垚之印章盜蓋「林森垚」之印文1枚，偽造林森垚本人提領其設在該分行00000000000號帳戶內之1萬元取款憑條之私文書，足生損害於臺灣企銀竹山分行管理金融帳戶之正確性，繼而持該偽造之取款憑條向該分行承辦人員行使之，使該承辦人員因而陷於錯誤，將上開款項轉入林慶重設在該分行之00000000000號帳戶內，足生損害於林沛蓉、林妤錡、林雪等共同繼承人之權利及臺灣企銀竹山分行管理金融帳戶之正確性。2.於98年3月11日，以上開1.之相同手法，偽造林森垚本人提領銀行帳戶內之20萬3,000元、5萬元等取款憑條之私文書，足生損害於臺灣企銀竹山分行管理金融帳戶之正確性，繼而持該偽造之取款憑條向該分行承辦人員行使之，使該承辦人員因而陷於錯誤，將上開款項轉入林慶重設在該分行之00000000000號帳戶內，足生損害於林沛蓉、林妤錡、林雪等共同繼承人之權利及臺灣企銀竹山分行管理金融帳戶之正確性。3.於98年3月12日，以上開1.之相同手法，偽造林森垚本人提領銀行帳戶內之25萬2,400元取款憑條之私文書，足生損害於臺灣企銀竹山分行管理金融帳戶之正確性，繼而持該偽造之取款憑條向該分行承辦人員行使之，使該承辦人員因而陷於錯誤，將上開款項轉入林慶重設在該分行之00000000000號帳戶內，足生損害於林沛蓉、林妤錡、林雪等共同繼承人之權利及臺灣企銀竹山分行管理金融帳戶之正確性。(三)林詹吩另與林慶興共同意圖為自己不法所有，並基於行使偽造私文書之犯意聯絡，由林詹吩囑咐林慶興於98年3月11日，攜由林詹吩所保管之林森垚之真正印章至臺中商業銀行（下稱臺中商銀）竹山分行（原為鹿谷分行，後併入竹山分行，下以新制稱），在該銀行存摺存款取款憑條上「存戶簽章」欄使用林森垚之印章盜蓋「林森垚」之印文1枚，偽造林森垚本人提領其設在該分行000000000000號帳戶（起訴書誤為00000000000號帳戶，業經公訴檢察官當庭更正）內之2萬9,000元取款憑條之私文書，足生損害於臺中商銀竹山分行對於管理金融帳戶之正確性，繼而持該偽造之取款憑條向該分行承辦人員行使之，使該承辦人員因而陷於錯誤，將上開款項轉入林慶興設在該分行之000000000000號帳戶內，足生損害於林沛蓉、林妤錡、林雪等共同繼承人之權利及臺中商銀竹山分行管理金融帳戶之正確性。(四)林詹吩另與林慶興共同基於行使偽造私文書之犯意聯絡，由林詹吩囑咐林慶興，於98年3月18日，攜由林詹吩所保管之林森垚之真正印章至臺中商銀竹山分行，接續在林森垚之臺中商銀竹山分行編號：017033至017036，金額分別為：60萬元、100萬元、100萬元、100萬元之存本取息儲蓄存款存單背面「請蓋原留印鑑」欄使用林森垚之印章盜蓋「林森垚」印文各1枚，偽造林森垚本人就該存本取息儲蓄存款存單申請中途解約之私文書，而持以向臺中商銀竹山分行承辦人員謝念紋行使之，使該承辦人員誤為林森垚本人授權辦理定期存款解約，而同意林森垚上開定期存款解約，並將解約後所得款項，轉入林森垚本人在該分行所申設之000000000000號之帳戶內，足生損害臺中商銀竹山分行管理金融帳戶之正確性。渠等並接續上開共同行使偽造私文書，以及另共同意圖為自己不法所有之犯意聯絡，在臺中商銀存摺存款取款憑條上之「存戶簽章」欄使用林森垚之印章盜蓋「林森垚」印文1枚，偽造林森垚本人提領上開定期存款解約後之360萬1,350元及原帳戶內剩餘之159元共計360萬1,509元之私文書1紙（起訴書誤為4紙應予更正），而持以向臺中商銀竹山分行承辦人員謝念紋行使之，使該承辦人員因而陷於錯誤，遂將該筆款項中之120萬2,684元，依林慶興指示轉至林慶興設在該分行之000000000000號帳戶內，其餘239萬8,825元依林慶興指示匯入遠雄人壽保險事業股份有限公司作為林慶興之保險費，足生損害於林沛蓉、林妤錡、林雪等共同繼承人之權利及臺中商銀竹山分行管理金融帳戶之正確性。二、案經林沛蓉、林妤錡、林雪訴由臺灣南投地方法院檢察署檢察官偵查起訴。理由壹、有罪部分：一、程序部分：按被告以外之人於審判外之陳述，經當事人於審判程序同意作為證據，法院審酌該言詞陳述或書面陳述作成時之情況，認為適當者，亦得為證據；當事人、代理人或辯護人於法院調查證據時，知有第159條第1項不得為證據之情形，而未於言詞辯論終結前聲明異議，視為有前項之同意，刑事訴訟法第159條之5定有明文。核其立法意旨，在於傳聞證據未經當事人之反對詰問予以核實，原則上先予排除。惟若當事人已放棄反對詰問權，於審判程序中表明同意該等傳聞證據可作為證據，或於言詞辯論終結前未聲明異議，基於尊重當事人對傳聞證據之處分權，及證據資料愈豐富，愈有助於真實發見之理念，暨強化言詞辯論主義，使訴訟程序得以順暢進行，上開傳聞證據亦應具有證據能力。查本件以下採為判決基礎之被告以外之人於審判外之言詞或書面陳述，固屬傳聞證據，惟該等證據經被告林詹吩、林慶重、林慶興表示對於證據能力無意見，同意作為本案證據（參見本院卷第40頁反面至第41頁反面），復經本院依法踐行調查證據程序時，諭知檢察官、被告林詹吩、林慶重、林慶興均得隨時就本案各項證據（包括證據能力）表示意見，而檢察官、被告林詹吩、林慶重、林慶興迄言詞辯論終結前，均未對該等證據之證據能力表示異議（參見本院卷第199頁至第204頁反面），揆諸前揭說明，暨經審酌前揭證據之取得，無違法取證其他瑕疵，以之為本案證據堪為適當等情，本院認該等證據均有證據能力。二、認定事實所憑之證據及理由：上揭犯罪事實，業據被告林詹吩、林慶重、林慶興於本院準備程序及審理時均坦承不諱，核與告訴人林妤錡、林沛蓉、林雪於偵查中之指述【參見臺灣南投地方法院檢察署101年度偵字第2806號偵卷（下稱偵卷）第13頁至第14頁、第21頁至第23頁、第47頁至第50頁、第74頁至第78頁】、證人即鹿谷鄉農會承辦人員張宏謀、邱信用、黃世煌及證人即臺中商銀竹山分行承辦人員謝念紋於本院審理時證述之情節均相符合（參見本院卷第94頁反面至第97頁反面、第97頁反面至第98頁反面、第196頁至第198頁、第198頁至第199頁），並有林森垚之除戶戶籍謄本（見偵卷第5頁）、林慶重之臺灣企銀竹山分行存摺封面及內頁影本、林森垚之繼承系統表、財政部臺灣省中區國稅局97年度綜合所得稅各類所得資料清單）、奉養母親支出計算表各1份（見偵卷第5頁至第7頁、第15頁至第19頁）、臺灣企銀竹山分行101年8月31日101竹山字第5300190117號函暨檢附98年3月10、11、11、12日取款憑條（代傳票）影本4份及活期存款交易明細影本1份（見偵卷第26頁至第31頁）、臺灣企銀竹山分行活期存款交易明細表影本1份及98年3月11日、12日取款憑條（代傳票）影本3份、存摺存款憑條2份、林森垚之臺中商銀竹山分行活期儲蓄存款交易明細及林慶重之臺中商銀竹山分行綜合存款存摺封面、林森垚之鹿谷鄉農會活期存款往來交易明細表及林詹吩之鹿谷鄉農會活期儲蓄存款存摺封面影本各1份（見偵卷第32頁至第41頁）、林森垚之鹿谷鄉農會活期性存款存摺封面及內頁影本1份（見偵卷第79頁）、鹿谷鄉農會102年10月24日鹿鄉農信字第1020004140號函暨檢附取款憑條、轉帳收入傳票、鹿谷鄉農會存款印鑑卡影本各1份（見本院卷第13頁至第16頁）、臺中商銀竹山分行102年10月30日中竹山字第1020000147號函暨檢附林森垚帳號0000000號之帳戶存摺存款取款憑條影本2份、存款憑條影本1份、存摺存款存款憑條影本2份（見本院卷第17頁至第22頁）、林森垚之鹿谷鄉農會活期存款往來交易明細表1份（見本院卷第47頁）、臺中商銀竹山分行103年3月13日中竹山字第1030000043號函暨檢附存本取息儲蓄存款存單影本4份、解約取息憑條代利息支出傳票影本4份（見本院卷第50頁至第54頁）、林詹吩之鹿谷鄉農會活期儲蓄存款之存摺封面及內頁影本各1份（見本院卷第64頁）、鹿谷鄉農會103年5月7日鹿鄉農信字第1030001673號函暨檢附轉帳收入傳票影本5份、存單存款銷戶登錄單（代傳票）(1)（聯2）影本2份、定期儲蓄存款存單影本5份、活期存款往來交易明細表影本1份（見本院卷第67頁至第83頁）、鹿谷鄉農會103年9月29日鹿鄉農信字第1030003741號函暨檢附林森垚帳號00000000000000號帳戶之5筆定存單解約之印鑑資料1份（見本院卷第105頁至第118頁）、鹿谷鄉農會103年10月3日鹿鄉農信字第1030003837號函暨檢附林森垚取款憑條影本1份、定期儲蓄存款存單影本5份（見本院卷第124頁至第136頁，原本置於第136頁之公文封）、臺灣企銀竹山分行103年10月9日103竹山字第5300390092號函暨檢附取款憑條影本4紙（見本院卷第137頁至第141頁，原本置於第141頁之公文封）、鹿谷鄉農會103年10月20日鹿鄉農信字第1030004027號函暨檢附林森垚更換印鑑申請書、註銷印鑑卡、活期存款印鑑卡、存單存款印鑑卡影本各1份（見本院卷第143頁至第149頁，原本置於第149頁之公文封）、臺中商銀竹山分行103年10月7日中竹山字第1030000195號函暨檢附存本取息儲蓄存款存單影本4份（見本院卷第150頁至第154頁）、臺灣南投地方法院電話紀錄表1紙（見本院卷第156頁）等資料在卷可稽，足認被告林詹吩、林慶重、林慶興之自白均與事實相符而可採，本件事證明確，應依法論科。三、論罪科刑之理由：(一)按行為後法律有變更者，適用行為時之法律；但行為後之法律有利於行為人者，適用最有利於行為人之法律，刑法第2條第1項定有明文。查本案被告林詹吩、林慶重、林慶興行為後，刑法第339條第1項業於103年6月18日經總統公布修正，而於同年6月20日生效施行，修正前刑法第339條第1項規定：「意圖為自己或第三人不法之所有，以詐術使人將本人或第三人之物交付者，處5年以下有期徒刑、拘役或科或併科1千元以下罰金。」（依刑法施行法第1條之1第1項、第2項前段規定，上開罰金數額提高為30倍，即新臺幣3萬元以下罰金，下同）；修正後刑法第339條第1項則規定：「意圖為自己或第三人不法之所有，以詐術使人將本人或第三人之物交付者，處5年以下有期徒刑、拘役或科或併科50萬元以下罰金。以前項方法得財產上不法之利益或使第三人得之者，亦同。」，修正後刑法第339條第1項，將法定刑自「5年以下有期徒刑、拘役或科或併科1千元以下罰金」，提高為「5年以下有期徒刑、拘役或科或併科50萬元以下罰金」。經比較修正前後之法律，新法提高罰金刑上限，對被告林詹吩、林慶重、林慶興較為不利，是應依刑法第2條第1項前段規定，適用渠等行為時之法律。(二)按人之權利能力，始於出生，終於死亡，民法第6條定有明文。被繼承人死亡時，其權利能力即喪失，權利主體已不存在，自不能以被繼承人名義為法律行為。縱被繼承人生前曾授權他人為之，亦因其死亡而授權關係歸於消滅，仍不得再以被繼承人之名義為法律行為。倘以被繼承人名義製作文書，當屬無權製作之偽造行為，若足以生損害於公眾或他人，即難辭偽造文書罪責（最高法院102年度台上字第4206號判決參照）。次按偽造文書罪，係著重於保護公共信用之法益，即使該偽造文書所載之作成名義人業已死亡，而社會一般人仍有誤認其為真正文書之危險，自難因其死亡阻卻犯罪之成立（最高法院21年上字第2668號判例參照）。再按銀行製作之定期存單與一般存款簿相同，不得以背書或交付轉讓，參酌銀行法第7條、第8條意旨，係供存款人，憑以提取存款之證明，並不發生設權之效果，倘存款人喪失存單之占有時，可請求銀行補發，並非依公示催告除權判決之程序辦理，且設定質權時，係以存款之債權為質權之標的物，並不移轉存單之占有，其性質為文書，非有價證券（最高法院89年度台上字第5227號判決參照）。農業金融法第33條並有準用上開銀行法之規定，是依農會信用部製作之定期存單，亦應為相同之解釋。是核被告林詹吩就事實欄一(一)至(四)之所為；被告林慶重就事實欄一(二)之所為；被告林慶興就事實欄一(三)至(四)之所為，均係犯刑法第216條、第210條之行使偽造私文書罪及修正前刑法第339條第1項之詐欺取財罪。被告林詹吩、林慶重、林慶興等人分別在更換印鑑申請書、印鑑卡（活期存款、存單存款）、定期存單及取款憑條等私文書上以盜蓋之方式偽造「林森垚」之印文，分別為各該偽造私文書之階段行為；其等偽造上開私文書等後復持以行使，則偽造之低度行為應為行使之高度行為所吸收，均不另論罪。(三)被告林詹吩就事實欄一(一)所示各次行使偽造私文書之犯行；被告林詹吩、林慶重就事實欄一(二)2.所示於98年3月11日同日2次行使偽造文書私文書及詐欺取財之犯行；被告林詹吩、林慶興就事實欄一(四)各次行使偽造私文書之犯行，顯係利用同一機會，於密接時、地，接續侵害其餘告訴人林沛蓉、林妤錡、林雪等共同繼承人、鹿谷鄉農會、臺灣企銀及臺中商銀之同一法益，且各行為之獨立性極為薄弱，依一般社會健全觀念，在時間差距上，難以強行分開，在刑法評價上，以視為數個舉動之接續施行，合為包括之一行為予以評價較為合理，應均論以接續犯。公訴意旨認被告林詹吩、林慶重就事實欄一(二)2.所示之犯行，應予分論併罰，容有誤會。(四)被告林詹吩與林慶興、林正川（以上2人未經起訴）間，就事實欄一(一)所示之犯行；被告林詹吩、林慶重就事實欄一(二)所示之犯行；被告被告林詹吩、林慶興就事實欄一(三)(四)所示之犯行，均有犯意聯絡及行為分擔，俱應論以共同正犯。(五)被告林詹吩、林慶重、林慶興等人行使偽造私文書，係為冒林森垚之名辦理定期存款解約及提領款項，而供其等遂行向農會、銀行詐取財物之目的，是其等行使偽造私文書之行為顯屬其等詐欺取財行為之一部分，各該行為之著手實行階段可認為同一，主觀上亦係基於單一犯罪決意支配下所為，客觀上堪認為屬於法律上之一行為。是被告林詹吩、林慶重、林慶興等人就事實欄一(一)、一(二)1.至3.、一(三)及一(四)等6次行使偽造私文書與詐欺取財之犯行，各應評價為一行為，較為適當。被告林詹吩、林慶重、林慶興分別以一行為同時觸犯行使偽造私文書罪、詐欺取財罪，各為想像競合犯，均依刑法第55條前段規定，俱應從一重之行使偽造私文書罪處斷。公訴檢察官就被告等人所犯上開詐欺取財與行使偽造文書罪，認係犯數罪而於本院準備程序中追加起訴，亦有誤會，附此敘明。(六)公訴意旨雖未就事實欄一(一)被告林詹吩與林慶興、林正川之共犯事實起訴，惟該部分與已起訴部分，有事實上一罪之關係；及未就事實欄一(一)被告林詹吩申請變更印鑑、變更印鑑章及定期存款解約等行使偽造私文書之犯行起訴，惟該部分與已起訴之行使偽造私文書部分，具有接續犯之實質上一罪關係；及未就事實欄一(四)被告林詹吩、林慶興定期存款解約之行使偽造私文書之犯行起訴，惟該部分與已起訴之行使偽造私文書部分，亦具有接續犯之實質上一罪關係，均為起訴效力所及，本院自均得予以審理。又起訴書雖未就被告林詹吩、林慶重、林慶興等人如事實欄一(一)至(四)所示詐欺取財之犯行予以起訴，然此部分分別與各該部分之行使偽造私文書犯行間，具有想像競合犯之裁判上一罪關係，已如上訴，自應為起訴效力所及，本院自得併予審究，附此敘明。(七)被告林詹吩所犯如事實欄一(一)、(二)1.至3.、(三)及(四)共6次之行使偽造私文書罪；被告林慶重所犯如事實欄一(二)1.、2.、3.共3次之行使偽造私文書罪；被告林慶興所犯如事實欄一(三)、(四)共2次之行使偽造私文書罪，均犯意各別，行為互殊，俱應予以分論併罰。(八)被告林詹吩於12年1月9日出生，為本案偽造文書犯行時（98年3月6日至同年月18日），已年滿80歲，有被告林詹吩之個人基本資料查詢結果1紙在卷可證（見偵卷第24頁），被告林詹吩自始至終均坦承犯行，尚知悔悟，爰依刑法第18條第3項規定，予以減輕其刑。(九)本院爰審酌：(1)被告林詹吩、林慶重、林慶興等人均無前科，有其等臺灣高等法院被告前案紀錄表各1份附卷可查，素行堪認良好；(2)被告林詹吩、林慶重、林慶興未經全體繼承人之同意或授權，冒用被繼承人林森垚之名義，將林森垚之定期存單解約，並領取林森垚帳戶內存款，法治觀念顯有欠缺，並損及其他繼承人之繼承權及鹿谷鄉農會、臺灣企銀及臺中商銀對於客戶存款管理之正確性，所為實不足取；(3)惟念及被告林詹吩年事已高，領有極重度身心障礙證明（見本院卷第215頁），係因傳統過於重視男嗣之觀念，不願將林森垚遺產分配與告訴人等，而指示林慶興、林慶重為本件犯行，告訴人等表示對被告林詹吩不予追究；(4)暨考量渠等各次行為所涉提領數額之犯罪情節，及尚未就財產分配與告訴人等達成協議等一切情狀，分別量處如主文所示之刑，併諭知易科罰金之折算標準。(十)再按行為後法律有變更者，適用行為時之法律，但行為後之法律有利於行為人者，適用最有利於行為人之法律，刑法第2條第1項定有明文。查被告林詹吩、林慶重、林慶興等人所犯如事實一(一)至(四)所示等行為後，刑法第50條業已修正，並於102年1月23日經總統以華總一義字第10200012451號令公布、同年月25日起施行。修正前刑法第50條規定：「裁判確定前犯數罪者，併合處罰之。」；修正後則規定「裁判確定前犯數罪者，併合處罰之。但有下列情形之一者，不在此限：一、得易科罰金之罪與不得易科罰金之罪。二、得易科罰金之罪與不得易服社會勞動之罪。三、得易服社會勞動之罪與不得易科罰金之罪。四、得易服社會勞動之罪與不得易服社會勞動之罪。前項但書情形，受刑人請求檢察官聲請定應執行刑者，依第51條規定定之。」。查本件被告林詹吩、林慶重、林慶興分別所犯如事實一(一)至(四)所示各罪，均係經本院量處如主文所示得易科罰金之罪，故不論依修正前之刑法第50條，或修正後之刑法第50條第1項前段之規定，法院均應於判決時定其應執行之刑，並無有利或不利之影響，依首揭說明，即無比較新舊法適用之必要，而應依一般法律適用原則，適用現行、有效之裁判時法論處，爰就被告林詹吩所犯如事實一(一)至(四)所示各罪；被告林慶重所犯如事實一(二)1.至3.所示各罪，被告林慶興所犯如事實一(三)(四)所示各罪定其應執行刑，並均諭知易科罰金之折算標準。(十一)被告林詹吩前未曾因故意犯罪受有期徒刑以上刑之宣告，已如前述，本院考量其年紀已92歲，係因一時失慮，致罹刑章，犯後已坦承犯行，態度良好，且告訴人等亦表示不對其追究而希望本院給予緩刑，信其經此偵審程序及科刑宣告後，自當知所警惕，而無再犯之虞，因認對其所宣告之刑，以暫不執行為適當，爰併予宣告緩刑2年，以啟自新。(十二)被告林詹吩、林慶重、林慶興等人偽造之「更換印鑑申請書」、「鹿谷鄉農會存款印鑑卡（活期存款）」、「鹿谷鄉農會存款印鑑卡（存單存款）」各1紙、鹿谷鄉農會之「定期儲蓄存款存單」5紙、「鹿谷鄉農會取款憑條」1紙、「臺灣中小企業銀行取款憑條」4紙、「台中商業銀行存摺存款取款憑條」2紙、臺中商銀之「存本取息儲蓄存款存單」4紙，業據被告林詹吩、林慶重、林慶興等人持以行使，而分別交付予鹿谷鄉農會、臺灣企銀竹山分行及臺中商銀竹山分行，不復屬於被告等人所有，依法不得宣告沒收。另按刑法第219條所定不問屬於犯人與否沒收之者，以偽造之印章、印文或署押為限，盜用者不在其列，最高法院著有48年台上字第1532號判例可資參照。查於被告林詹吩、林慶重、林慶興等人上開偽造之私文書上所蓋用之「林森垚」印文，均係被告等人盜用林森垚之真正印章所生印文，均非屬偽造印章之印文，依前揭判例意旨，自無庸依刑法第219條規定予以沒收，附此敘明。貳、無罪部分：一、公訴意旨另以：被告林慶重於98年3月6日，由其母即被告林詹吩囑咐持林森垚之印章，攜至南投縣鹿谷鄉農會信用部，由被告林慶重盜用林森垚之印章，偽造在該農會00000000000000號林森垚帳戶名義之提款條，持以詐領林森垚生前在該農會之存款267萬5,000元，隨即轉帳至被告林詹吩設在該農會初鄉分部000000000000000號帳戶內。因認被告林慶重涉有刑法第216條、第210條之行使偽造私文書罪嫌等語。二、按犯罪事實之認定，係據以確定具體的刑罰權之基礎，自須經嚴格之證明，故其所憑之證據不僅應具有證據能力，且須經合法之調查程序，否則即不得作為有罪認定之依據。倘法院審理之結果，認為不能證明被告犯罪，而為無罪之諭知，即無刑事訴訟法第154條第2項所謂「應依證據認定」之犯罪事實之存在。因此，同法第308條前段規定，無罪之判決書只須記載主文及理由。而其理由之論敘，僅須與卷存證據資料相符，且與經驗法則、論理法則無違即可，所使用之證據亦不以具有證據能力者為限，即使不具證據能力之傳聞證據，亦非不得資為彈劾證據使用（最高法院100年度台上字第2980號判決參照）。三、按犯罪事實應依證據認定之，無證據不得認定犯罪事實，又不能證明被告犯罪者，應諭知無罪之判決，刑事訴訟法第154條第2項、第301條第1項前段分別定有明文；又所謂認定犯罪事實之證據，係指足以認定被告確有犯罪行為之積極證據而言，如未能發現相當證據或證據不足以證明，自不能以推測或擬制之方法，以為裁判基礎，最高法院29年上字第3105號及40年台上字第86號分別著有判例；且認定犯罪事實所憑之證據，雖不以直接證據為限，間接證據亦包括在內，然而無論直接證據或間接證據，其為訴訟上之證明，須於通常一般之人均不致有所懷疑，而得確信其為真實之程度者，始得據為有罪之認定，倘其證明尚未達到此一程度，有合理之懷疑存在而無從使事實審法院得有罪之確信時，即應由法院為諭知被告無罪之判決，最高法院76年台上字第4986號判例意旨可資參照。四、公訴意旨認被告林慶重涉犯上開罪嫌，無非係以告訴人林沛蓉、林妤錡、林雪於偵查中之指訴，及林森垚之除戶戶籍謄本、鹿谷鄉農會存摺及交易明細等資為論據。五、訊據被告林慶重堅決否認有何上開行使偽造文書之犯行，辯稱：伊承認有去領一筆51萬多元的，但是267萬多元的那筆伊沒有去領，伊也沒有帶伊母親林詹吩去提領等語。經查：(一)告訴人林沛蓉、林妤錡、林雪於偵查中以具狀指述：先父生前在鹿谷鄉農會現金遺產267萬5,000元，疑由林慶重夫婦於先父死亡翌日，提領轉存至渠等母親林詹吩帳戶，惟渠等母親林詹吩之帳戶悉由林慶重保管、支配等情（參見偵卷第34頁）。是依告訴人等之指述，渠等認被告林慶重涉有此部分之犯行，係告訴人等以被告林慶重保管其母親即被告林詹吩之帳戶，而告訴人等之父林森垚鹿谷鄉農會帳戶內之267萬5,000元匯入其母親之帳戶內之推論而得。惟告訴人等上開不利被告林慶重之指述，並未提出任何佐證以實其說，渠等指述，是否可採，即非無疑。(二)告訴人等之父林森垚鹿谷鄉農會帳戶267萬5,000元，係被告林詹吩、林慶興與林森垚之子林正川共同前往鹿谷鄉農會辦理變更印鑑，再將林森垚之鹿谷鄉農會定期存款解約後轉至被告林詹吩帳戶乙節，業據被告林慶興所自承不諱，亦經證人即鹿谷鄉農會承辦人員黃世煌、邱信用於本院審理時證述明確，並有鹿谷鄉農會函覆本院檢附之更換印鑑申請書、鹿谷鄉農會存款印鑑卡（活期存款）、鹿谷鄉農會存款印鑑卡（存單存款）原本各1紙，經本院影印後留存之影本在卷可參（見本院卷第145頁、第146頁正反面、第147頁至第148頁），堪認屬實。則被告林慶重辯稱伊沒有去提領該筆款項，洵非無據，應可採信。被告林慶重既未一同前往鹿谷鄉農會辦理父林森垚鹿谷鄉定期存款解約，且該筆款項，亦轉至被告林詹吩帳戶，而未流向被告林慶重帳戶，即難認其與被告林詹吩有何犯意聯絡及行為分擔。六、綜上所述，被告林慶重所辯，尚堪採信。公訴人所提之證據，其所為訴訟上之證明，於通常一般人仍有合理之懷疑存在，尚未達於可確信其真實之程度。此外復查無其他積極之證據足以證明被告林慶重有何公訴人所指之行使偽造文書犯行，自屬不能證明被告林慶重此部分之犯行，即應為被告林慶重無罪之諭知。參、至如事實欄一(一)所示林慶興與林正川與被告林詹吩共犯行使偽造文私書之犯罪事實部分，業據本院認定如前，惟此部分既未經起訴，自應由檢察官另為適法之處理，附此敘明。據上論斷，應依刑事訴訟法第299條第1項前段、第301條第1項前段，刑法第2條第1項前段、第28條、第216條、第210條、（修正前刑法）第339條第1項、第55條前段、第18條第3項、第41第1項前段、第8項、第51條第5款、第74條第1項第1款，刑法施行法第1條之1第1項。本案經檢察官劉仁慈到庭執行職務。中華民國104年2月5日臺灣南投地方法院刑事第一庭審判長法官廖健男法官陳斐琪法官蔡志明以上正本與原本無異。如不服本判決應於收受送達後10日內向本院提出上訴書狀，並應敘述具體理由；其未敘述上訴理由者，應於上訴期間屆滿後20日內向本院補提理由書（均須按他造當事人之人數附繕本）「切勿逕送上級法院」。告訴人或被害人如對於本判決不服者，應具備理由請求檢察官上訴，其上訴期間之計算係以檢察官收受判決正本之日期為準。書記官余富誠中華民國104年2月5日附錄本案論罪科刑法條:中華民國刑法第216條（行使偽造變造或登載不實之文書罪）行使第210條至第215條之文書者，依偽造、變造文書或登載不實事項或使登載不實事項之規定處斷。中華民國刑法第210條（偽造變造私文書罪）偽造、變造私文書，足以生損害於公眾或他人者，處5年以下有期徒刑。中華民國刑法第339條（普通詐欺罪）意圖為自己或第三人不法之所有，以詐術使人將本人或第三人之物交付者，處5年以下有期徒刑、拘役或科或併科1千元以下罰金。以前項方法得財產上不法之利益或使第三人得之者，亦同。前二項之未遂犯罰之。\n",
            "Article Index: 396 Distance: 0.32646941454987544\n",
            "Article Text: 一、乙○○（原名李俊誼，於民國102年10月28日改名）與甲○（警詢代號：0000000000、真實姓名年籍資料詳卷、下稱甲○）原為男女朋友，甲○前因遭張順賢性侵害案件，經臺灣屏東地方法院檢察署偵查終結，並對張順賢以妨害性自主罪提起公訴，後由本院以101年度侵訴字第53號案件審理（業經本院判處有期徒刑4年）。乙○○明知甲○並無意委託其代為處理上開妨害性自主案件之民事或刑事訴訟程序，竟基於偽造私文書並進而行使之單一犯意，於102年5月5日某時許，在其位於屏東縣屏東市○○街00號10樓之1之住處內，接續在如附表編號1至編號2書狀名稱欄所示之文件上，共偽造「甲○」名義之署名及指印各3枚，並於102年8月29日，將如附表編號1至2所示偽造之刑事委任狀及刑事附帶民事訴訟起訴狀遞交本院收狀人員收受，偽以表示甲○本人有委託其為告訴代理人及對張順賢向本院提起附帶民事損害賠償訴訟之意而行使之，足以生損害於甲○本人、張順賢及司法機關審理刑事、民事案件之正確性、公信力。二、案經本院告發臺灣屏東地方法院檢察署檢察官偵查起訴。。理由壹、程序方面一、被告以外之人於偵查中向檢察官所為陳述，除顯有不可信之情況者外，得為證據，刑事訴訟法第159條之1第2項定有明文。是偵查中對被告以外之人所為之偵查筆錄，性質上雖屬傳聞證據，惟現階段刑事訴訟法規定檢察官代表國家偵查犯罪、實施公訴，依法其有訊問被告、證人及鑑定人之權，證人、鑑定人且須具結，而實務運作時，檢察官偵查中向被告以外之人所取得之陳述，原則上均能遵守法律規定，不致違法取供。職是，除反對該項供述得具有證據能力之一方，已釋明「顯有不可信之情況」之理由，或該偵查中陳述除另違反應具結而未具結之規定外，應具證據能力。查甲○於偵訊時業經檢察官依法命具結證述，訊問過程既無何違法或不當情形，且陳述時客觀環境及條件並無顯不可信之情況，揆諸上開說明，渠等偵查證述自有證據能力。二、被告以外之人於審判外之陳述，雖不符前4條之規定，而經當事人於審判程序同意作為證據，法院審酌該言詞陳述或書面陳述作成時之情況，認為適當者，亦得為證據，刑事訴訟法第159條之5第1項亦有明文。查卷附告訴人於偵審期間提出之書面陳述（如簡訊，偵卷第13頁）性質上原屬傳聞證據，然經當事人於本院準備程序時同意作為證據，本院復依法踐行調查證據程序，另審酌此等證據資料作成時並無違法不當之瑕疵，亦無其他依法應排除證據能力之情形，乃認以之作為證據要屬適當，而得採為本件認定事實之依據。貳、實體方面一、訊據被告固坦認伊逕於前記時地在前揭刑事附帶民事起訴狀及刑事委任狀上簽署甲○署名並蓋印，以告訴代理人名義據以請求損害賠償之事實，惟矢口否認有何偽造文書犯行，辯稱：「我是經過她同意的，並無偽造文書之犯意」云云。經查：（一）甲○於偵查中證稱略以：「自從我遭性侵害後，我就跟李俊誼（即本案被告）說我不跟他在一起了。我沒有寫過刑事委任狀和刑事附帶民事起訴狀影本，我今天是第一次看到這2張，上面兩組我的簽名及蓋章都不是我親自簽名、蓋章的。當時李俊誼在我旁邊，他一直叫我傳簡訊給他，還在一旁教我簡訊內容怎麼寫，要我寫好後將簡訊內容傳給她，代表我真的要委任他去幫我處理這件事情，可是我真的不想委任他去處理，我原諒對方了，我不想這件事情再訴訟下去。他就一直跟我說只要我配合演下去，就會一筆錢，他會再將錢的一部份分給我。因為我很怕他，所以我才會照著他的意思打簡訊內容。因為我一開始就有原諒對方的意思，我根本沒有向對方拿錢的意思。」等語（參偵查卷第10頁）；核與被告於偵查中自陳：「甲○遭性侵後，我們就很少聯絡，後來也沒有在一起了。我有拿出來給她看，要她簽名，但她不願意。甲○有同意，但她不想寫」等節相符（參偵卷第18頁）。是甲○自遭性侵害後，即與被告疏遠，此為兩造所不爭之事實，既此，甲○是否得願意再委託被告處理訴訟事務，並與被告朋分本件賠償金額，殊非無疑。再徵以甲○於本件相關妨害性自主之刑事訴訟期間，被告仍得知悉甲○訴訟期日（參偵卷第10頁背面），堪信被告仍得聯繫甲○，然如被告所述甲○仍不願意在系爭文件上簽名，足信甲○本即無意委任被告為刑事訴訟案件之告訴代理人或向張順賢提起附帶民事訴訟之真意。從而，甲○未授權被告處理本件刑事附帶民事損害賠償誠屬有據。又既被告已明知甲○不願意在系爭文件上簽名，則對於甲○並無委託被告向張順賢求償之意，亦應知之甚稔，是故被告此部分所辯要與事實不符，即難憑採。（二）按刑法第210條規定所稱足生損害於公眾或他人，以有生損害之虞為已足，不以實際發生損害為要件；又祇要行為人主觀上認識到在其法律交往關係中，提出該偽造私文書之行為，他方足以認為其係對該文書權利義務等內容有所主張，並有意使其發生，或其發生不違背其本意者，即難謂無侵害公共信用之危險，足以生損害於公眾或他人，仍無礙於本罪之成立（最高法院90年度台上字第5214號、92年度台上字第1594號判決意旨參照）。復按無制作權之人冒用或捏造他人名義制作文書，足以生損害於公眾或他人者，應成立刑法第210條偽造私文書罪；其無代理權或雖有代理權而逾越其權限，以本人之名義作成文書者，自不失其為偽造（最高法院84年度台上字第3097號判決意旨參照）。被告固以前詞置辯，然被告既於上開刑事委任狀和刑事附帶民事起訴狀上簽署甲○署名並遞送本院收發文處，偽以表彰甲○授權被告代為提起刑事附帶民事起訴狀之意，惟實際上甲○自始並無授權之意，即已侵害該文書公共信用甚明，況甲○本無意向張順賢求償之意，被告此舉致本院無端開啟審理程序，並有致使甲○蒙受日後喪失求償權利及張順賢支付賠償金予被告之損失，揆諸前開說明，被告此舉即應已符合偽造文書罪「足生損害」之構成要件無訛。（三）綜上所述，本案事證明確，被告前開犯行洵堪認定，應依法論科。二、核被告所為，係犯刑法第210條、第216條行使偽造私文書罪。被告在附表1、2上偽造「甲○」署名及指印，均屬偽造該私文書之部分行為，而其偽造私文書後持以行使，該偽造之低度行為亦為行使之高度行為所吸收，均不另論罪。又被告以一行為同時向本院刑事庭行使上開兩文書，為一行為觸犯數罪名，為想像競合犯，應從一重之行使偽造私文書罪。爰審酌被告犯行足生損害於甲○及司法機關對訴訟文書審理之正確性，其犯罪之動機、目的及手段洵非可取，且犯後自始否認犯行，未見悔意，又曾犯重利罪，素行不佳，有臺灣高等法院被告前案紀錄表1份在卷可佐。惟衡酌被告此舉雖足生前揭損害，然渠交付前揭書狀予本院後，旋遭本院察覺有異而告發，業如前述，除侵害該文書公共信用外，尚未發生具體實害，犯罪情節尚屬輕微，兼衡被告與甲○之關係，及被告之智識程度與生活狀況等具體行為人責任基礎之一切情狀，量處如主文所示之刑，並諭知易科罰金折算標準，以資儆懲。末被告偽造之如附表所示之書狀持以行使，業非屬其所有之物，自不得宣告沒收，惟其上偽造之「甲○」署名及指印，應依刑法第219條規定不問屬於犯人與否宣告沒收之。據上論斷，應依刑事訴訟法第299條第1項前段，刑法第216條、第210條、第55條、第41條第1項前段、第219條，刑法施行法第1條之1第1項、第2項前段，判決如主文。本案經檢察官潘國威到庭執行職務。中華民國103年8月19日刑事第一庭審判長法官涂裕洪法官麥元馨法官林鈴淑以上正本證明與原本無異。如不服本判決應於收受判決後10日內向本院提出上訴書狀，並應敘述具體理由；其未敘述上訴理由者，應於上訴期間屆滿後20日內向本院補提理由書（均須按他造當事人之人數附繕本）「切勿逕送上級法院」。中華民國103年8月19日書記官姚佳華附錄本判決論罪法條全文：中華民國刑法第216條（行使偽造變造或登載不實之文書罪）行使第210條至第215條之文書者，依偽造、變造文書或登載不實事項或使登載不實事項之規定處斷。中華民國刑法第210條（偽造變造私文書罪）偽造、變造私文書，足以生損害於公眾或他人者，處5年以下有期徒刑。中華民國刑法第219條（沒收之特例）偽造之印章、印文或署押，不問屬於犯人與否，沒收之。附表\n",
            "Article Index: 411 Distance: 0.32666613004945033\n",
            "Article Text: 一、温語涵（原名温意蕙）於民國97年3、4月間（起訴書誤載為98年6月至99年1月間）某日，明知未經金本大旅社有限公司（下稱「金本大旅社」）及李嬋娟（同為金本大旅社之代表人）2人之同意或授權，竟基於偽造印章之犯意，利用某不知情之刻印業者，偽刻「金本大旅社有限公司」、「李嬋娟」之印章各1顆，足生損害於金本大旅社及李嬋娟；嗣另基於偽造印文、行使偽造私文書、使公務員登載不實之犯意，，於99年1月6日，在花蓮縣花蓮市○○街45號營業處所內，蓋用前開偽刻之「李嬋娟」印章1枚，擅自偽造立同意書人李嬋娟名義，內容為李嬋娟同意將名下坐落在花蓮市○○街45號房屋提供予李園妹（温語涵之母、為象玉設計有限公司〈下稱「象玉公司」〉之董事；另經檢察官處分不起訴）經營象玉公司之用，期間自立書日（即99年1月6日）起至109年4月11日止之房屋使用同意書1份，並當場影印1份留存，其後，温語涵委託不知情之永信會計事務所會計人員黃寶蓉，持上揭偽造之房屋使用同意書原本於99年1月18日向象玉公司原址所轄之臺北市政府（起訴書誤繕為財政部臺灣省北區國稅局花蓮分局〈下稱國稅局花蓮分局〉）申請象玉公司所在地變更等事宜而行使之，而由臺北市政府函轉象玉公司遷移地址所轄之經濟部（中部辦公室）辦理，使不知情之承辦公務員於形式審查後，據以登載於職務上所掌之有限公司變更登記表之公文書上（經濟部於同年月22日收文後，即於同年月25日核准並副知國稅局花蓮分局），足生損害於李嬋娟及經濟部對於公司變更登記事項管理之正確性，嗣後温語涵再接續委由不知情之上開會計人員黃寶蓉，持前揭留存之偽造房屋使用同意書影本於99年2月1日向國稅局花蓮分局辦理象玉公司所在地變更等事宜，使不知情之承辦公務員於形式審查後，據以登載於職務上所掌之公文書上，足生損害於李嬋娟及國稅局花蓮分局對於公司變更登記事項管理之正確性。後因李嬋娟於99年3、4月間，收受花蓮縣政府寄予象玉公司之函文後，心覺有異，遂向國稅局花蓮分局調取資料核閱，於得悉前情後具狀告訴，始獲上情。二、案經李嬋娟訴由臺灣花蓮地方法院檢察署檢察官發交花蓮縣警察局花蓮分局調查後偵查起訴。理由一、本判決所引用之供述及非供述證據，被告温語涵不爭執其證據能力，本院審酌該等證據作成時之情況，並無不法之情事，且與本案待證事實復具有相當之關聯性，以之為證據尚無不當，依法均應認有證據能力。二、上揭犯罪事實，業據被告於警詢、偵查、原審及本院審理時坦承不諱（見警卷第7頁、偵卷第23頁、原審卷第29至30頁、第53至54頁、第85頁、第93至95頁、第145至146頁及本院卷第30頁反面、第49頁反面），並有上開偽造之房屋使用同意書原本、影本各1紙在卷可參（原本由原審向經濟部函調，並影印附於原審卷第79頁後檢還；影本由原審函請國稅局花蓮分局承辦人員攜同到庭，經原審當庭核閱並影印附於原審卷第38頁後由該承辦人員攜回，見原審卷第29頁），及臺灣花蓮地方檢察署扣押物品清單、國稅局花蓮分局100年3月17日北區國稅花縣三字第1001004513號函、經濟部99年1月25日經授中字第09931602540號函（稿）、象玉公司變更登記申請書、臺北市政府99年1月20日府產業商字第09980497400號函各1件在卷可佐（見偵卷第29、32頁、原審卷第71至73頁、第81頁），復有「金本大旅社有限公司」、「李嬋娟」印章各1顆扣案可證。綜參各節，被告之任意性自白核與事實相符，其犯行堪以認定，應予依法論科。三、被告持偽以「李嬋娟」名義製作之房屋使用同意書原本及影本各乙份向主管機關申請變更象玉公司地址之登記，自屬本於各該偽造文書之內容而有所主張，足生損害於告訴人李嬋娟權益及主管機關對於所掌公文書登記事項管理之正確性。核被告所為，係犯刑法第217條第1項之偽造印章罪、第210條、第216條之行使偽造私文書及第214條之使公務員登載不實罪。起訴書雖未述及被告使公務員登載不實部分，惟因該部分與已起訴且經本院認為有罪之行使偽造私文書部分有想像競合犯之裁判上一罪關係（詳後述），為起訴效力所及，且法院並予被告辯明犯罪事實及辯論之機會（見原審卷第145頁審判筆錄、本院卷第44、47頁審判筆錄），基於審判不可分原則，自得併予審酌。被告利用不知情之某刻印業者偽刻印章，及嗣後透過不知情之會計人員先後持偽造之房屋使用同意書向主管機關申請公司地址變更登記，均為間接正犯。被告以一行為同時偽刻「李嬋娟」、「金本大旅社有限公司」印章2顆，係一行為侵害數法益，觸犯數罪名，為想像競合犯，因告訴人除已身外，同具金本大旅社代表人之身份，從而偽刻告訴人印章，自就偽造金本大旅社印章之情節為重，依刑法第55條前段規定，從情節較重之偽造「李嬋娟」印章部分，論以一偽造印章罪。又被告以先前偽刻之「李嬋娟」印章偽造「李嬋娟」之印文，為後續偽造私文書之部分行為；其偽造文書後持以行使，其偽造之低度行為，應為行使之高度行為所吸收，均不另論罪。被告持偽造之房屋使用同意書，向主管機關申請變更登記而行使，使承辦公務員將不實事項登載於職務上所掌管之公文書，係一行為同時觸犯刑法第210條、第216條之行使偽造私文書及第214條之使公務員登載不實罪名，為想像競合犯，應依刑法第55條前段規定，從一重之行使偽造私文書罪處斷。被告2次行使偽造私文書之舉止，係於緊密時間內，在同地所實施，所犯構成要件概屬相同，同出於變更象玉公司地址之目的，反覆侵害相同社會法益，各舉止之獨立性依社會健全觀念甚為薄弱，係屬接續犯，應論以一罪，檢察官雖僅就被告向經濟部申請變更公司地址登記部分提起公訴，未論及另向國稅局花蓮分局行使偽造私文書部分，惟檢察官就犯罪事實之一部提起公訴，其效力及於全部，被告之全部犯罪事實既具有接續犯之實質上一罪關係，業經敘明，本院自得一併審理。再查被告所犯偽造印章與行使偽造私文書兩罪，犯罪時間相隔近兩年，行為互殊，被告亦供承二罪犯意各別，自應予以分論併罰。至被告雖另涉於98年5月、6月間，2次以偽刻之「李嬋娟」印章，先後蓋用在立書日為98年6月1日之房屋使用同意書原本及影本上共計3枚之情，惟查該3枚印文與本案之「李嬋娟」之印文樣式顯有不同，足認另涉部分所持印章與本案所用印章非屬同一，且觀之另涉部分之房屋使用同意書所載文字，其意思表示之內容為告訴人願提供名下房屋供李園妹營業「芒果旅店企業社」所用，與本案被告偽造文書之意思表示內容顯然有別，其目的互異，況另涉部分之犯罪時間，亦與本案相隔數月之久，顯無密接性，二者間要無一罪之關係，即無從併審，附此敘明。四、原審因予論科，固非無見，惟查被告自承其偽刻系爭印章後，即留下未做其他用途，嗣於99年初因有需要，始取出原先盜刻之李嬋娟印章，偽造印文蓋用在偽造之房屋使用同意書上，且查上開二犯行已隔時甚遠，顯見其於偽造印章之初，並無往後犯行之預見，故其之後行使偽造私文書之犯行，當屬另起犯意而為之，應個別論罪，原審卻認定偽造印章與之後隔時已久之行使偽造文書行為，有吸收犯關係，不另論罪，即有可議。又原審固認定被告偽造印章之犯罪時間為95年6月初某日（即刑法修正之前），惟以被告嗣於本院審理時，經其再三回憶後陳稱：應係於97年3、4月間，伊計畫作網路行銷時，始起意偽造印章，後來因故作罷，偽造之印章也就沒有使用等情，復參其嗣後所提網路行銷之申請資料，自以其於本院審理時所記憶之犯罪時間較有根據，至被告於原審雖已自承其係於95年6月初偽造系爭印章，惟此時點並未據被告提出相關資料佐實，可信性當較被告於本院審理時所供承之犯罪時點為低，衡情應以被告於本院所供述者較為可採，是原審就被告偽刻印章之犯罪時點認定，不無失真。公訴人以被告恣意偽造之行為，讓被害人蒙受巨大損害，至今仍惶惶不安，原審僅量處其有期徒刑3月，顯屬過輕云云，上訴請求對被告從重量刑，固無理由，惟原判決既有上開可議之處，即屬無可維持，自應由本院予以撤銷改判。爰審酌被告並無前科，素行尚佳，有臺灣高等法院被告前案紀錄表1紙在卷可參；兼衡其高職畢業之智識程度，當知以他人名義為書面之意思表示，應得他人之同意，竟擅以他人之名義，製作文書後持向主管機關行使，造成他人之損害，並影響公文書登載之正確性，所為殊值非議；為圖辦理公司地址變更登記私益之犯罪目的；犯罪時未受明顯之刺激；偽造印文後，進而持偽造文書使公務員登載於公文書上之犯罪手段；案後隨即於99年3月22日申請變更象玉公司地址（即花蓮市○○街45號）之登記，此有經濟部99年3月23日經授中字第09931814990號函1件存卷可依（見偵卷第70頁），並於偵查中當庭交出所偽刻之印章2顆（見偵卷第23頁），惟迄未與告訴人達成和解並賠償損害之犯後態度等一切情狀，分別就其所犯2罪量處如主文第2項所示之刑，並均諭知易科罰金之折算標準，及定其應執行之刑，再就執行刑諭知易科罰金之折算標準，以示懲儆。前開偽造之房屋使用同意書原本及影本各1紙，業經被告提出於各主管機關而行使之，已非屬被告所有，復非義務沒收之物，爰不予宣告沒收；至其上所偽造之「李嬋娟」印文各1枚，及扣案偽造之「李嬋娟」、「金本大旅社有限公司」印章各1顆，無論屬於犯人與否，則均依刑法第219條之規定，併予宣告沒收。據上論斷，應依刑事訴訟法第369條第1項前段、第364條、第299條第1項前段，刑法第217條第1項、第216條、第210條、第214條、第55條、第51條第5款、第41條第1項前段、第219條，刑法施行法第1條之1，判決如主文。本案經檢察官崔紀鎮到庭執行職務中華民國101年6月27日刑事庭審判長法官謝志揚法官林慶煙法官張健河以上正本證明與原本無異。本件偽造印章罪部分不得上訴。其餘部分如不服本判決，應於收受送達後10日內向本院提出上訴書狀，其未敘述理由者，並得於提起上訴狀後10日內向本院補提理由書（均須按他造當事人之人數附繕本）「切勿逕送上級法院」。告訴人或被害人如對於本判決不服者，應具備理由請求檢察官上訴，其上訴期間之計算係以檢察官收受判決正本之日期為準。中華民國101年6月27日書記官徐文彬附錄本判決論罪之法律條文：中華民國刑法第210條偽造、變造私文書，足以生損害於公眾或他人者，處5年以下有期徒刑。中華民國刑法第214條明知為不實之事項，而使公務員登載於職務上所掌之公文書，足以生損害於公眾或他人者，處3年以下有期徒刑、拘役或5百元以下罰金。中華民國刑法第216條行使第210條至第215條之文書者，依偽造、變造文書或登載不實事項或使登載不實事項之規定處斷。中華民國刑法第217條（偽造盜用印章印文或署押罪）偽造印章、印文或署押，足以生損害於公眾或他人者，處3年以下有期徒刑。盜用印章、印文或署押，足以生損害於公眾或他人者，亦同。\n"
          ]
        }
      ]
    },
    {
      "cell_type": "code",
      "source": [
        "predicted_sentences_all = []\n",
        "\n",
        "for test_embedding in SBERT_summary_encoded_test_facts_float_np:\n",
        "    test_embedding = test_embedding.reshape(1, -1)\n",
        "    distances, indices = knn_model_SBERT_loaded.kneighbors(test_embedding)\n",
        "    # 取得最相近的五篇文章的索引及距離\n",
        "    nearest_articles_indices = indices[0]\n",
        "    nearest_articles_distances = distances[0]\n",
        "    predicted_sentences = 0\n",
        "    # 將最相近的五篇文章的刑期加總，並計算平均值作為預測刑期\n",
        "    for i, index in enumerate(nearest_articles_indices):\n",
        "        predicted_sentences += train_sentences[index]\n",
        "    predicted_sentence = float(predicted_sentences) / 5\n",
        "\n",
        "    predicted_sentences_all.append(predicted_sentence)\n",
        "\n"
      ],
      "metadata": {
        "id": "vHYBKL_4I1rc"
      },
      "execution_count": 261,
      "outputs": []
    },
    {
      "cell_type": "code",
      "source": [
        "print(predicted_sentences_all)\n",
        "print(test_sentences)"
      ],
      "metadata": {
        "outputId": "61ef1b0a-ec53-42e3-e306-79f9c840c168",
        "colab": {
          "base_uri": "https://localhost:8080/"
        },
        "id": "e5LaWq9sI1rc"
      },
      "execution_count": 262,
      "outputs": [
        {
          "output_type": "stream",
          "name": "stdout",
          "text": [
            "[146.0, 308.0, 259.0, 424.4, 99.0, 212.0, 92.0, 168.0, 108.0, 179.0, 241.0, 129.0, 182.0, 166.0, 190.0, 112.0, 138.0, 129.0, 115.0, 246.0, 211.0, 111.0, 236.0, 308.0, 297.0, 134.0, 112.0, 128.0, 132.0, 208.0, 283.0, 135.0, 217.0, 232.0, 167.0, 133.6, 100.0, 126.0, 179.0, 251.0, 88.0, 210.0, 126.0, 388.0, 181.0, 297.0, 163.0, 259.0, 159.0, 205.0, 387.0, 266.0, 140.4, 283.0, 240.0, 108.0, 357.2, 150.0, 142.0, 122.0, 152.0, 147.0, 236.0, 138.0, 134.0, 277.0, 106.0, 149.0, 211.0, 206.6, 199.0, 306.0, 179.0, 180.0, 88.0, 199.0, 153.0, 171.0, 392.0, 174.0, 316.4, 239.0, 165.0, 165.0, 194.4, 224.4, 158.0, 228.4, 216.0, 169.0, 220.0, 321.0, 129.0, 306.0, 329.0, 170.0, 105.0, 175.0, 193.0, 254.0]\n",
            "[150, 242, 60, 302, 365, 150, 90, 120, 120, 180, 120, 90, 120, 90, 90, 90, 180, 270, 425, 50, 150, 90, 365, 195, 150, 50, 345, 150, 150, 90, 425, 135, 120, 240, 20, 240, 60, 120, 60, 150, 90, 240, 365, 210, 150, 120, 32, 150, 505, 90, 90, 120, 120, 120, 165, 180, 302, 90, 120, 730, 240, 40, 180, 90, 90, 180, 150, 450, 240, 240, 120, 120, 120, 120, 165, 150, 180, 90, 60, 120, 60, 820, 180, 90, 120, 120, 240, 180, 120, 90, 270, 195, 90, 180, 150, 120, 120, 150, 180, 180]\n"
          ]
        }
      ]
    },
    {
      "cell_type": "code",
      "source": [
        "from sklearn.metrics import mean_squared_error, mean_absolute_error"
      ],
      "metadata": {
        "id": "4YhsaiXCI1rc"
      },
      "execution_count": 263,
      "outputs": []
    },
    {
      "cell_type": "code",
      "source": [
        "mse_linear = mean_squared_error(test_sentences, predicted_sentences_all)\n",
        "rmse_linear = mean_squared_error(test_sentences, predicted_sentences_all, squared=False)\n",
        "mae_linear = mean_absolute_error(test_sentences, predicted_sentences_all)"
      ],
      "metadata": {
        "id": "Ltgg_1OLI1rc"
      },
      "execution_count": 264,
      "outputs": []
    },
    {
      "cell_type": "code",
      "source": [
        "print('\\n==================================================')\n",
        "print(\"Linear Regression - MSE:\", mse_linear)\n",
        "print(\"Linear Regression - RMSE:\", rmse_linear)\n",
        "print(\"Linear Regression - MAE:\", mae_linear)"
      ],
      "metadata": {
        "outputId": "eda447a7-f9c3-4b1b-f732-20c25621adf8",
        "colab": {
          "base_uri": "https://localhost:8080/"
        },
        "id": "AUUoEKNrI1rd"
      },
      "execution_count": 265,
      "outputs": [
        {
          "output_type": "stream",
          "name": "stdout",
          "text": [
            "\n",
            "==================================================\n",
            "Linear Regression - MSE: 21904.227199999998\n",
            "Linear Regression - RMSE: 148.00076756557718\n",
            "Linear Regression - MAE: 104.404\n"
          ]
        }
      ]
    },
    {
      "cell_type": "markdown",
      "source": [
        "# method 3\n",
        "- TFIDF 做 summerize\n",
        "- summerize 取 3 個句子"
      ],
      "metadata": {
        "id": "w1CVAEEtNOj-"
      }
    },
    {
      "cell_type": "code",
      "source": [
        "TFIDF_summary_encoded_train_facts = []\n",
        "\n",
        "for i in range(len(SBERT_encoded_train_facts_sentences)):\n",
        "  summary_encode = TFIDF_generate_summary(tokenized_train_facts_sentences[i], SBERT_encoded_train_facts_sentences[i])\n",
        "  TFIDF_summary_encoded_train_facts.append(summary_encode)"
      ],
      "metadata": {
        "id": "nlhN96gLNOkK"
      },
      "execution_count": 309,
      "outputs": []
    },
    {
      "cell_type": "code",
      "source": [
        "TFIDF_summary_encoded_test_facts = []\n",
        "\n",
        "for i in range(len(SBERT_encoded_test_facts_sentences)):\n",
        "  summary_encode = TFIDF_generate_summary(tokenized_test_facts_sentences[i], SBERT_encoded_test_facts_sentences[i])\n",
        "  TFIDF_summary_encoded_test_facts.append(summary_encode)"
      ],
      "metadata": {
        "id": "0YLr-OUZNOkL"
      },
      "execution_count": 299,
      "outputs": []
    },
    {
      "cell_type": "code",
      "source": [
        "TFIDF_summary_encoded_train_facts_float = [[float(value) for value in arr] for arr in TFIDF_summary_encoded_train_facts]\n",
        "TFIDF_summary_encoded_test_facts_float = [[float(value) for value in arr] for arr in TFIDF_summary_encoded_test_facts]"
      ],
      "metadata": {
        "id": "Rqtr5o8GNOkL"
      },
      "execution_count": 310,
      "outputs": []
    },
    {
      "cell_type": "code",
      "source": [
        "with open('/content/drive/MyDrive/senior/LAB/LawCaseRetreiver/sentence_predict/dataset_new/TFIDF_summary_encoded_train_facts.json', 'w') as f:\n",
        "    json.dump(TFIDF_summary_encoded_train_facts_float, f)\n",
        "with open('/content/drive/MyDrive/senior/LAB/LawCaseRetreiver/sentence_predict/dataset_new/TFIDF_summary_encoded_test_facts.json', 'w') as f:\n",
        "    json.dump(TFIDF_summary_encoded_test_facts_float, f)"
      ],
      "metadata": {
        "id": "YJvbI5N_NOkL"
      },
      "execution_count": 311,
      "outputs": []
    },
    {
      "cell_type": "markdown",
      "source": [
        "## KNN - SBERT"
      ],
      "metadata": {
        "id": "fhW1wgh_NOkL"
      }
    },
    {
      "cell_type": "code",
      "source": [
        "from sklearn.neighbors import NearestNeighbors"
      ],
      "metadata": {
        "id": "HqGzyo4WNOkL"
      },
      "execution_count": 277,
      "outputs": []
    },
    {
      "cell_type": "code",
      "source": [
        "k = 5\n",
        "knn_model_TFIDF = NearestNeighbors(n_neighbors=k, metric='cosine')\n",
        "knn_model_TFIDF.fit(np.array(TFIDF_summary_encoded_train_facts_float))"
      ],
      "metadata": {
        "colab": {
          "base_uri": "https://localhost:8080/",
          "height": 75
        },
        "outputId": "1c65da0d-f9c2-4004-a18f-2210576fbcc6",
        "id": "ABJxvvFdNOkL"
      },
      "execution_count": 312,
      "outputs": [
        {
          "output_type": "execute_result",
          "data": {
            "text/plain": [
              "NearestNeighbors(metric='cosine')"
            ],
            "text/html": [
              "<style>#sk-container-id-5 {color: black;background-color: white;}#sk-container-id-5 pre{padding: 0;}#sk-container-id-5 div.sk-toggleable {background-color: white;}#sk-container-id-5 label.sk-toggleable__label {cursor: pointer;display: block;width: 100%;margin-bottom: 0;padding: 0.3em;box-sizing: border-box;text-align: center;}#sk-container-id-5 label.sk-toggleable__label-arrow:before {content: \"▸\";float: left;margin-right: 0.25em;color: #696969;}#sk-container-id-5 label.sk-toggleable__label-arrow:hover:before {color: black;}#sk-container-id-5 div.sk-estimator:hover label.sk-toggleable__label-arrow:before {color: black;}#sk-container-id-5 div.sk-toggleable__content {max-height: 0;max-width: 0;overflow: hidden;text-align: left;background-color: #f0f8ff;}#sk-container-id-5 div.sk-toggleable__content pre {margin: 0.2em;color: black;border-radius: 0.25em;background-color: #f0f8ff;}#sk-container-id-5 input.sk-toggleable__control:checked~div.sk-toggleable__content {max-height: 200px;max-width: 100%;overflow: auto;}#sk-container-id-5 input.sk-toggleable__control:checked~label.sk-toggleable__label-arrow:before {content: \"▾\";}#sk-container-id-5 div.sk-estimator input.sk-toggleable__control:checked~label.sk-toggleable__label {background-color: #d4ebff;}#sk-container-id-5 div.sk-label input.sk-toggleable__control:checked~label.sk-toggleable__label {background-color: #d4ebff;}#sk-container-id-5 input.sk-hidden--visually {border: 0;clip: rect(1px 1px 1px 1px);clip: rect(1px, 1px, 1px, 1px);height: 1px;margin: -1px;overflow: hidden;padding: 0;position: absolute;width: 1px;}#sk-container-id-5 div.sk-estimator {font-family: monospace;background-color: #f0f8ff;border: 1px dotted black;border-radius: 0.25em;box-sizing: border-box;margin-bottom: 0.5em;}#sk-container-id-5 div.sk-estimator:hover {background-color: #d4ebff;}#sk-container-id-5 div.sk-parallel-item::after {content: \"\";width: 100%;border-bottom: 1px solid gray;flex-grow: 1;}#sk-container-id-5 div.sk-label:hover label.sk-toggleable__label {background-color: #d4ebff;}#sk-container-id-5 div.sk-serial::before {content: \"\";position: absolute;border-left: 1px solid gray;box-sizing: border-box;top: 0;bottom: 0;left: 50%;z-index: 0;}#sk-container-id-5 div.sk-serial {display: flex;flex-direction: column;align-items: center;background-color: white;padding-right: 0.2em;padding-left: 0.2em;position: relative;}#sk-container-id-5 div.sk-item {position: relative;z-index: 1;}#sk-container-id-5 div.sk-parallel {display: flex;align-items: stretch;justify-content: center;background-color: white;position: relative;}#sk-container-id-5 div.sk-item::before, #sk-container-id-5 div.sk-parallel-item::before {content: \"\";position: absolute;border-left: 1px solid gray;box-sizing: border-box;top: 0;bottom: 0;left: 50%;z-index: -1;}#sk-container-id-5 div.sk-parallel-item {display: flex;flex-direction: column;z-index: 1;position: relative;background-color: white;}#sk-container-id-5 div.sk-parallel-item:first-child::after {align-self: flex-end;width: 50%;}#sk-container-id-5 div.sk-parallel-item:last-child::after {align-self: flex-start;width: 50%;}#sk-container-id-5 div.sk-parallel-item:only-child::after {width: 0;}#sk-container-id-5 div.sk-dashed-wrapped {border: 1px dashed gray;margin: 0 0.4em 0.5em 0.4em;box-sizing: border-box;padding-bottom: 0.4em;background-color: white;}#sk-container-id-5 div.sk-label label {font-family: monospace;font-weight: bold;display: inline-block;line-height: 1.2em;}#sk-container-id-5 div.sk-label-container {text-align: center;}#sk-container-id-5 div.sk-container {/* jupyter's `normalize.less` sets `[hidden] { display: none; }` but bootstrap.min.css set `[hidden] { display: none !important; }` so we also need the `!important` here to be able to override the default hidden behavior on the sphinx rendered scikit-learn.org. See: https://github.com/scikit-learn/scikit-learn/issues/21755 */display: inline-block !important;position: relative;}#sk-container-id-5 div.sk-text-repr-fallback {display: none;}</style><div id=\"sk-container-id-5\" class=\"sk-top-container\"><div class=\"sk-text-repr-fallback\"><pre>NearestNeighbors(metric=&#x27;cosine&#x27;)</pre><b>In a Jupyter environment, please rerun this cell to show the HTML representation or trust the notebook. <br />On GitHub, the HTML representation is unable to render, please try loading this page with nbviewer.org.</b></div><div class=\"sk-container\" hidden><div class=\"sk-item\"><div class=\"sk-estimator sk-toggleable\"><input class=\"sk-toggleable__control sk-hidden--visually\" id=\"sk-estimator-id-5\" type=\"checkbox\" checked><label for=\"sk-estimator-id-5\" class=\"sk-toggleable__label sk-toggleable__label-arrow\">NearestNeighbors</label><div class=\"sk-toggleable__content\"><pre>NearestNeighbors(metric=&#x27;cosine&#x27;)</pre></div></div></div></div></div>"
            ]
          },
          "metadata": {},
          "execution_count": 312
        }
      ]
    },
    {
      "cell_type": "code",
      "source": [
        "import pickle\n",
        "\n",
        "# 將模型保存到文件\n",
        "with open('/content/drive/MyDrive/senior/LAB/LawCaseRetreiver/sentence_predict/dataset_new/knn_model_TFIDF.pkl', 'wb') as f:\n",
        "    pickle.dump(knn_model_TFIDF, f)\n",
        "\n",
        "# 從文件加載模型\n",
        "with open('/content/drive/MyDrive/senior/LAB/LawCaseRetreiver/sentence_predict/dataset_new/knn_model_TFIDF.pkl', 'rb') as f:\n",
        "    knn_model_TFIDF_loaded = pickle.load(f)"
      ],
      "metadata": {
        "id": "4HiBIqo8NOkM"
      },
      "execution_count": 313,
      "outputs": []
    },
    {
      "cell_type": "code",
      "source": [
        "TFIDF_summary_encoded_test_facts_float_np = [np.array(item) for item in TFIDF_summary_encoded_test_facts_float]"
      ],
      "metadata": {
        "id": "Qek84dIzNOkM"
      },
      "execution_count": 305,
      "outputs": []
    },
    {
      "cell_type": "code",
      "source": [
        "distances, indices = knn_model_TFIDF_loaded.kneighbors(TFIDF_summary_encoded_test_facts_float_np[0].reshape(1, -1))"
      ],
      "metadata": {
        "id": "NOuwnNJvNOkM"
      },
      "execution_count": 314,
      "outputs": []
    },
    {
      "cell_type": "code",
      "source": [
        "test_facts[0]"
      ],
      "metadata": {
        "colab": {
          "base_uri": "https://localhost:8080/",
          "height": 214
        },
        "outputId": "6abe4666-2b4c-486e-8b8b-210d92349d93",
        "id": "Hg31gdSJNOkM"
      },
      "execution_count": null,
      "outputs": [
        {
          "output_type": "execute_result",
          "data": {
            "text/plain": [
              "'○、緣徐鴻光（所涉行使偽造私文書犯行，業經本院以95年度訴字第955號判決處有期徒刑3月、緩刑3年確定）因需款使用，知悉穆立明有借款管道，為求順利借款，2人竟共同意圖為自己不法所有，基於行使偽造私文書及詐欺取財之犯意聯絡，知悉車牌號碼00-000號營業小客車係徐鴻光向志朗交通有限公司（下稱志朗公司）租賃之車輛，竟由穆立明先於不詳時間、不詳地點，偽刻「志朗交通有限公司」及負責人「陳健志」印章（正確姓名為陳建志，誤刻為「陳健志」）各1枚，並偽造「陳健志」代表志朗公司與徐鴻光簽署之「臺北市計程車客運駕駛人自備車輛參與經營契約書」（下稱本案參與經營契約書），虛偽記載徐鴻光提供上述營業小客車靠行志朗公司營業等不實內容，並持上開偽刻印章，偽造「志朗交通有限公司」印文4枚、「陳健志」印文6枚於本案參與經營契約書上，再於92年3月6日交徐鴻光於立約人乙方欄簽名，2人復於同日協同不知情之徐鴻光配偶徐樂仁（所涉行使偽造私文書犯行，業經本院以95年度訴字第955號判決無罪確定），前往臺北市○○區○○街00巷0號2樓王傑生所經營之宏帝當舖（現更名為渣打當舖），由徐鴻光、穆立明交付偽造本案參與經營契約書向宏帝當鋪借款新臺幣（下同）10萬元以為行使，並約定由徐樂仁擔任連帶保證人，王傑生誤信上開車輛為徐鴻光所有而陷入錯誤，於扣除利息後交付9萬1千元借款予徐鴻光夫婦，足以生損害於志朗公司、陳建志、王傑生。嗣因徐鴻光僅清償每期7千元之分期款共11期計7萬7千元，未全額清償即無力負擔債務，王傑生始查知上開車輛非徐鴻光所有，而悉上情。二、案經王傑生訴由臺灣士林地方法院檢察署檢察官偵查起訴。理由○、證據能力部分：被告以外之人於審判外之言詞或書面陳述，除法律有規定者外，不得作為證據；又被告以外之人於審判外之陳述，雖不符合同法第159條之1至第159條之4之規定，但經當事人於審判程序同意作為證據，法院審酌該言詞陳述或書面陳述作成時之情況，認為適當者，亦得為證據。刑事訴訟法第159條第1項及第159條之5第1項分別定有明文。經查，本判決所引用之各該被告以外之人於審判外之陳述，雖屬傳聞證據，然當事人於本院審判期日中均表示同意作為證據方法而不予爭執，且迄至言詞辯論終結前亦未再聲明異議（見本院卷第68頁至第68頁背面），本院審酌上開證據資料製作時之情況，尚無違法不當及證明力明顯過低之瑕疵，亦認為以之作為證據應屬適當，故揆諸前開規定，爰依刑事訴訟法第159條之5規定，認前揭證據資料均有證據能力。二、認定犯罪事實所憑之證據及理由：（一）訊據被告穆立明固坦承有於92年3月6日帶共同被告徐鴻光、徐樂仁至宏帝當鋪借錢，惟矢口否認有何行使偽造私文書及詐欺取財之犯行，辯稱：本案參與經營契約書係由共同被告徐鴻光所提出，徐鴻光知道我在宏帝當舖當業務員，他因資金不夠，要伊帶至宏帝當鋪借錢，伊請徐鴻光帶身分證、本案參與經營契約書，證明計程車係屬於徐鴻光所有，另外要帶一位保人云云。（二）經查，證人即志英交通公司負責人陳建志於檢察官偵查中結證稱：本案參與經營契約書上之「志朗交通有限公司」、「陳健志」之印文均非我公司的大小章，志朗交通公司也是我的公司，我是負責人，但這個章不是我的，被告徐鴻光只是加入無線電台等語（見94年度偵字第8715號卷第45頁），復有其提出真正之志朗交通有限公司及其本人陳建志之印文各4枚在卷可稽（見94年度偵字第8715號卷第48頁），經核卷附本案參與經營契約書上所示之「志朗交通有限公司」、「陳健志」印文（見95年度偵緝字第60號卷第53頁），除二者字體明顯不同外，本案參與經營契約書中「陳健志」名字中之「健」一字顯係錯別字，堪認本案參與經營契約書上所示之「志朗交通有限公司」、「陳健志」印文確屬偽造一節，應可認定。（三）證人即告訴人王傑生於檢察官偵查中證稱：我經營宏帝當鋪，後改名為渣打當鋪，地址在臺北市○○街00巷0號2樓，計程車典當給我們時，我們要看參與經營契約書，被告徐鴻光有來借錢，被告穆立明當時有在場，徐鴻光給我們看本案參與經營契約書，我們就以為車子是徐鴻光的，我們找到車之後才知道車子是車行的，被告穆立明是我們公司抽獎金的業務員，穆立明介紹人來借錢，我給他獎金等語（見94年度偵字第8715號卷第37頁、95年度偵緝字第60號卷第49頁、第68頁），且證人朱庭峰於檢察官偵查中及本院審理時亦結證稱：我是宏帝當鋪的負責人，後來當鋪讓給王傑生，被告徐鴻光到宏帝當鋪借款10萬元，係由我接洽，當時是被告穆立明介紹，穆立明不是公司職員，他會介紹車子到我們公司來典當，我會給穆立明佣金，即我收到1,000元利息，就給他100元，本案參與經營契約書是由穆立明拿出來等語（見95年度偵緝字第60號卷第68頁至第69頁、95年度訴字第955號卷第66頁至第67頁），復有本案參與經營契約書、本票影本各1份附卷可憑（見94年度偵字第8715號卷第14頁至第17頁），足認共同被告徐鴻光係經被告穆立明介紹，持本案參與經營契約書於上開時間前往宏帝當鋪借款10萬元，且被告穆立明於借款時在場之事實，洵堪認定。（四）被告穆立明雖辯稱：本案參與經營契約書係共同被告徐鴻光所提出，伊僅有將徐鴻光帶去當鋪，就由當舖的人接洽云云，惟查，證人即共同被告徐鴻光於本院審理時證稱：因為我當司機收入不高，家裡有需要用錢，被告穆立明說有辦法借錢，我請被告穆立明帶我去借款，被告穆立明有帶我去當鋪，我太太徐樂仁當時有一起陪同，卷附之本票影本係我當時在當鋪簽立，而本案參與經營契約書係被告穆立明幫我準備好的，經我在當舖蓋我的章及簽名，被告穆立明拿給我時契約書已經寫好資料，至於被告穆立明提出本案參與經營契約書之來源我不知道，被告穆立明只有要我帶駕照、行照、身分證及私章，車號00-000號營業用小客車是我用租的車子，車子是志朗公司的車子，本案參與經營契約書內容不是真的，車子不是我自備的，只有契約書末頁乙方的簽名是我簽的等語（見本院卷第64頁至第66頁背面），核與其在檢察官偵查中證稱：被告穆立明有帶我去宏帝當鋪向朱先生借錢，我借10萬元，本案參與經營契約書係被告穆立明幫我準備好的，前面的簽名及資料是被告穆立明簽的，只有最後的簽名是我簽的等語大致相符（見95年度偵緝字第60號卷第48頁至第49頁），再查，參以被告穆立明於本院審理時當庭書寫徐鴻光名字之字跡經與本案參與經營契約書立契約書人一欄所簽署「徐鴻光」之筆跡比對後（見本院卷第73頁），依肉眼觀之，不論字跡之運筆、筆勾等字體外觀，均較為吻合，反觀該契約書頁末之乙方「徐鴻光」之筆跡，與頁首立契約書人一欄所簽署「徐鴻光」之筆跡之運筆及筆勾，字跡明顯不同，是被告穆立明辯稱本案參與經營契約書係由共同被告徐鴻光提出云云，已難採信；又證人徐鴻光於本院審理時證稱：我曾經用上開車輛向別的當鋪借錢，當時別的當鋪說車子用租的也可以借，只要押行照在那裡即可，不需要像本件一樣的契約，本件是我去當鋪，他們說該簽名的地方，我就簽名，且是我透過別的司機得知被告穆立明可以幫我問問哪裡可以借錢，所以才找被告穆立明等語（見本院卷第65頁背面至第66頁背面），衡以證人徐鴻光涉犯本案犯行業經本院認定有罪確定，自應無虛偽陳述之動機，且被告穆立明自承與證人徐鴻光無糾紛，同為排班計程車司機，為點頭之交乙情，亦認證人徐鴻光無涉詞誣陷被告穆立明之可能；再參以證人王傑生、朱庭峰皆證述本案參與經營契約書係由被告穆立明提出一節，又被告並不否認宏帝當舖僅同意典當個人所有靠行之車輛，不同意典當向車行租的車輛等情，而本件共同被告徐鴻光既有提供行照予被告穆立明，業經其證述如前，則自行照之記載內容即可知悉上開車輛所有人為何人，被告穆立明豈有不知上開車輛所有人為何人之理，況被告穆立明供認介紹共同被告徐鴻光予宏帝當鋪借錢有利息百分之十之報酬等語（見本院卷第69頁背面），其當有可能為促成徐鴻光與宏帝當鋪借款，而提出本案經營契約書供作本件借款之用，是被告穆立明辯稱車子是徐鴻光說其自己所有，本案參與經營契約書係徐鴻光自行提出云云，顯係事後卸責之詞，不足採信。（五）綜上所述，被告上開所辯各節，無非事後避重就輕、圖卸之詞，不足採信，被告行使偽造私文書及詐欺取財等犯行，事證明確，應依法論科。三、論罪科刑部分：（一）按被告行為後，94年2月2日修正公布之刑法已於95年7月1日生效施行，其中第2條第1項「行為後法律有變更者，適用行為時之法律。但行為後之法律有利於行為人者，適用最有利於行為人之法律」之規定，係規範行為後法律變更所生新、舊法律比較適用之準據法，並非刑法實體法律，自不生行為後法律變更之比較適用問題，故刑法修正施行後，應適用該修正後之第2條第1項之規定，依「從舊、從輕」之原則比較新、舊法律之適用；又比較新舊法時，應就罪刑有關之共犯、未遂犯、想像競合犯、牽連犯、連續犯、結合犯，以及累犯加重、自首減輕暨其他法定加減原因（如身分加減）與加減例等一切情形，綜其全部罪刑之結果而為比較後，再適用有利於行為人之法律處斷，而不得一部割裂分別適用不同之新、舊法（最高法院24年上字第4634號、29年上字第964號判例意旨及最高法院95年度第8次刑事庭會議決議參照）。經查：1.刑法第33條第5款關於罰金刑之規定業於94年2月2日修正，於95年7月1日生效，修正前刑法第33條第5款規定：「罰金：1元（銀元）以上。」，並依現行法規所定貨幣單位折算新臺幣條例規定，以銀元1元折算新臺幣3元，故修正前刑法規定罰金之最低數額為新臺幣3元；修正後刑法第33條第5款規定：「罰金：新臺幣1,000元以上，以百元計算之。」，故修正後刑法規定罰金之最低數額提高為新臺幣1,000元；比較上開罰金刑之最高數額，於修正後並無不同，惟修正後刑法第33條第5款所定罰金刑最低數額，既較修正前提高，依前開說明，應適用對被告有利之修正前刑法第33條第5款之規定。2.修正前刑法第28條規定：「二人以上共同實施犯罪之行為者，皆為正犯。」，修正後該條規定為：「二人以上共同實行犯罪之行為者，皆為正犯。」，揆諸本條之修正理由，係為釐清陰謀共同正犯、預備共同正犯、共謀共同正犯是否合乎本條之正犯要件，並將陰謀共同正犯、預備共同正犯剔除於本條適用之外，以符合近代刑法之個人責任原則、法治國人權保障思想及犯罪支配理論，自屬行為後法律有變更，而非僅屬文字修正，應有新舊法比較適用問題（最高法院97年度台上字第37號判決意旨參照）。本件被告穆立明與徐鴻光就前揭行使偽造私文書及詐欺取財犯行各具有犯意聯絡及行為分擔，不論依修正前或修正後之規定，均屬共同正犯，對被告並無有利或不利之情形，應適用行為時之法律。3.被告行為後新法業已刪除牽連犯之規定，依舊法成立方法、結果行為而僅論以一罪者，依新法將論以數罪，比較新、舊法結果，自以修正前刑法第55條牽連犯之規定，較有利於被告。4.綜此，本院經綜合上述各條文修正前、後之比較，參照前揭最高法院決議及修正後刑法第2條第1項前段、後段規定之「從舊、從輕」原則，被告穆立明上開犯行自應適用行為時之法律，予以論處。（二）核被告穆立明所為，係犯刑法第216條、第210條之行使偽造私文書罪、同法第339條第1項詐欺取財罪。被告穆立明於本案參與經營契約書上偽造「志朗交通有限公司」、「陳健志」印章及印文乃偽造私文書之部分行為，其偽造本案參與經營契約書後持以行使，偽造之低度行為復為行使之高度行為所吸收，均不另論罪。被告穆立明與徐鴻光就行使偽造私文書及詐欺之犯行有犯意聯絡及行為分擔，為共同正犯。又其等行使偽造私文書之目的，在詐取告訴人之金錢，所犯連續行使偽造私文書與詐欺取財2罪間，有方法、目的之牽連關係，應依修正前刑法第55條規定，從一較重之行使偽造私文書罪處斷。（三）爰審酌被告穆立明不思以正當途徑賺取錢財，竟偽造志朗公司及其負責人陳建志之印章，進而偽造本案參與經營契約書，而詐取告訴人之金錢，足生損害於志朗公司、陳建志、告訴人，並危害社會交易秩序，所為實有不該，犯後否認犯行，未見悔悟之心，兼衡被告穆立明有違反票據法之前科，有臺灣高等法院被告前案紀錄表在卷可稽（見本院卷第60頁），素行尚可，共同被告徐鴻光於詐得借款後已陸續返還利息予告訴人與朱庭峰，及被告穆立明為高中肄業之智識程度，經濟狀況為小康之生活狀況等一切情狀（見被告警詢筆錄受詢問人欄，本院卷第6頁），量處如主文所示之刑，以資懲儆。又關於易科罰金之折算標準，修正前刑法第41條第1項前段規定：「犯最重本刑為5年以下有期徒刑以下之刑之罪，而受6個月以下有期徒刑或拘役之宣告，因身體、教育、職業、家庭之關係或其他正當事由，執行顯有困難者，得以1元以上3元以下折算1日，易科罰金。」，再依據修正前罰金罰鍰提高標準條例第2條：「依刑法第41條易科罰金或第42條第2項易服勞役者，均就其原定數額提高為1百倍折算1日；法律所定罰金數額未依本條例提高倍數，或其處罰法條無罰金刑之規定者，亦同。」之規定，被告行為時之易科罰金折算標準，應以銀元1百元以上3百元以下折算1日，經折算為新臺幣後，應以新臺幣3百元以上9百元以下折算1日。惟95年7月1日施行之刑法第41條第1項前段規定修正為：「犯最重本刑為5年以下有期徒刑以下之刑之罪，而受6個月以下有期徒刑或拘役之宣告者，得以新臺幣1千元、2千元或3千元折算一日，易科罰金。」，另95年7月1日生效施行之罰金罰鍰提高標準條例則刪除原本第2條之規定。是以比較新舊法結果，自以舊法所定之易科罰金折算標準有利於被告，故應依修正前刑法第41條第1項前段、修正前罰金罰鍰提高標準條例第2條規定，就所宣告之刑部分諭知易科罰金之折算標準。（四）偽造之「臺北市計程車客運駕駛人自備車輛參與經營契約書」原本1份固經共同被告徐鴻光於借款時行使交付予宏帝當鋪，業如前述，惟此僅係共同被告徐鴻光為借得款項，而將本案參與經營契約書交付當鋪作為擔保使用，其所有權仍為共同被告徐鴻光所有，不因行使而移轉為宏帝當鋪所有，又該偽造之契約既係供本件犯行所用，爰依刑法第38條第1項第2款規定宣告沒收。又契約上偽造之「志朗交通有限公司」印文4枚、「陳健志」之印文6枚固係偽造之印文，已因該契約之沒收而包括在內，無再重複諭知沒收之必要。另告訴人為提起本件告訴，而複印本案參與經營契約書資為證據（見94年度偵字第8715號卷第15至第17頁），因認僅係作為本案訴訟使用，而非被告穆立明、共同被告徐鴻光供本件犯行所用之物，就複印之契約書上之「志朗交通有限公司」印文4枚、「陳健志」之印文6枚，爰不予宣告沒收。至被告穆立明偽刻之「志朗交通有限公司」、「陳健志」印章各1枚，係偽造之印章，且無證據證明業已滅失，應依刑法第219條宣告沒收。（五）再按本條例施行前，經通緝而未於中華民國96年12月31日以前自動歸案接受偵查、審判或執行者，不得依本條例減刑，中華民國九十六年罪犯減刑條例第5條定有明文。查本件被告穆立明所為前開犯行之犯罪時間固係在96年4月24日以前，但其曾於中華民國九十六年罪犯減刑條例施行（96年7月16日施行）前之95年12月21日因本案經本院以95年士院刑玄緝字第463號通緝書發佈通緝，於102年9月1日甫緝獲歸案等情，此有前開通緝書、歸案證明書、本院102年士院刑玄銷字第289號撤銷通緝書各1份存卷可參（95年度訴字第955號卷第43頁、本院卷第26頁、第43頁），從而，依前開規定，本案被告無從依中華民國九十六年罪犯減刑條例之規定減刑，併此敘明。據上論斷，應依刑事訴訟法第299條第1項前段，刑法第2條1項前段、第28條、第216條、第210條、第339條第1項、第219條、第38條第1項第2款、修正前刑法第55條、第41條第1項前段，刑法施行法第1條之1第1項，修正前罰金罰鍰提高標準條例第2條，現行法規所定貨幣單位折算新臺幣條例第2條，判決如主文。本案經檢察官黃仙宜到庭執行職務。中華民國102年12月3日刑事第七庭審判長法官雷雯華法官陳介安法官蔡子琪以上正本證明與原本無異。如不服本判決應於收受送達後10日內向本院提出上訴書狀，並應敘述具體理由。其未敘述上訴理由者，應於上訴期間屆滿後20日內向本院補提理由書（均須按他造當事人之人數附繕本）「切勿逕送上級法院」。書記官李宜蓁中華民國102年12月5日附錄本案論罪科刑所依據之法條：刑法第216條、第210條、第339條第1項偽造、變造私文書，足以生損害於公眾或他人者，處5年以下有期徒刑。偽造印章、印文或署押，足以生損害於公眾或他人者，處3年以下有期徒刑。盜用印章、印文或署押，足以生損害於公眾或他人者，亦同。意圖為自己或第三人不法之所有，以詐術使人將本人或第三人之物交付者，處5年以下有期徒刑、拘役或科或併科1千元以下罰金。'"
            ],
            "application/vnd.google.colaboratory.intrinsic+json": {
              "type": "string"
            }
          },
          "metadata": {},
          "execution_count": 230
        }
      ]
    },
    {
      "cell_type": "code",
      "source": [
        "# 打印最相近的五篇文章的索引及距離\n",
        "for i, index in enumerate(indices[0]):\n",
        "    print(\"Article Index:\", index, \"Distance:\", distances[0][i])\n",
        "    print(\"Article Text:\", train_facts[index])"
      ],
      "metadata": {
        "colab": {
          "base_uri": "https://localhost:8080/"
        },
        "outputId": "7012dbdc-ee9f-4116-9b41-8c7a77cf8410",
        "id": "C9WBy8A-NOkM"
      },
      "execution_count": 315,
      "outputs": [
        {
          "output_type": "stream",
          "name": "stdout",
          "text": [
            "Article Index: 50 Distance: 0.34494549947531705\n",
            "Article Text: 一、黃啓斌基於行使偽造私文書之犯意，於民國103年6月17日前某日，委請不知情刻印店人員偽刻楊鉉銘為負責人之銘冠營造有限公司（下稱銘冠公司）大、小章，即「銘冠營造有限公司印」及「楊炫銘」（「鉉」誤刻為「炫」）印章各1枚後，於103年6月17日，在新北市○○區○○路00號唐柏武經營之柏筑設計工程有限公司內，明知其未經同意或授權，竟冒用銘冠公司名義向唐柏武承攬新竹縣○○鎮○鄉段000○0地號土地之「朱公館自用農舍工程」（門牌號碼：新竹縣○○鎮○○路0段000巷00號），並以上開偽造印章在「工程承攬合約書」如附表所示欄位蓋印而偽造「銘冠營造有限公司印」及「楊炫銘」印文8枚，表示銘冠公司承攬該工程，而偽造屬私文書之上開工程合約書後，再交付予唐柏武而行使，足生損害於楊鉉銘、銘冠公司之權益，及唐柏武對簽約對象之正確判斷。二、案經楊鉉銘訴由新竹縣政府警察局竹東分局報告臺灣新竹地方檢察署檢察官呈請臺灣高等檢察署檢察長令轉臺灣苗栗地方檢察署檢察官偵查起訴。理由壹、證據能力部分一、被告以外之人於審判外之言詞或書面陳述，除法律有規定者外，不得作為證據；被告以外之人於審判外之陳述，雖不符刑事訴訟法第159條之1至第159條之4之規定，而經當事人於審判程序同意作為證據，法院審酌該言詞陳述或書面陳述作成時之情況，認為適當者，亦得為證據，刑事訴訟法第159條第1項、第159條之5第1項分別定有明文。查本案所引被告以外之人於審判外之供述，經被告黃啓斌表示同意作為證據（見本院卷一第164頁；本院卷三第12頁），本院審酌該等陳述無證明力明顯過低之情事，且依製作時之情況，尚無違法不當之瑕疵，認作為證據應屬適當，得為證據。二、被告所為不利於己之供述，無出於強暴、脅迫、利誘、詐欺、疲勞訊問、違法羈押或其他不正之方法，亦非違反法定障礙事由經過期間不得訊問或告知義務規定而為，依刑事訴訟法第156條第1項、第158條之2規定，應有證據能力。三、本案所引非供述證據，無違反法定程序而取得之情形，依刑事訴訟法第158條之4反面規定，得為證據。貳、認定犯罪事實所憑證據及其理由訊據被告固坦承有委託刻製「銘冠營造有限公司印」及「楊炫銘」印章，並在「工程承攬合約書」上用印以承攬「朱公館自用農舍工程」之事實，惟矢口否認有何行使偽造私文書之犯行，辯稱：都是經過楊鉉銘同意的云云（見本院卷一第137頁至第140頁、第165頁、第210頁；本院卷三第13頁至第14頁、第18頁）。經查：一、被告於103年6月17日前某日，委請不知情刻印店人員刻製告訴人楊鉉銘為負責人之銘冠公司大、小章，即「銘冠營造有限公司印」及「楊炫銘」（「鉉」誤刻為「炫」）印章各1枚後，於103年6月17日，在新北市○○區○○路00號唐柏武經營之柏筑設計工程有限公司內，向唐柏武承攬新竹縣○○鎮○鄉段000○0地號土地之「朱公館自用農舍工程」（門牌號碼：新竹縣○○鎮○○路0段000巷00號），並以上開印章在「工程承攬合約書」如附表所示欄位蓋印印文8枚，再交付該工程合約書予唐柏武而行使等情，業據被告於警詢、偵訊及審理中均坦承不諱（見臺灣新竹地方檢察署106年度偵字第12533號卷，下稱偵卷，第3頁至第4頁；臺灣苗栗地方檢察署107年度偵緝字第350號卷第25頁；本院卷一第137頁至第138頁、第165頁；本院卷三第13頁至第14頁、第18頁），核與證人唐柏武、朱明輝於證述之情節皆大致相符（見偵卷第5頁至第8頁、第58頁至第61頁；本院卷一第214頁至第223頁），並有有限公司設立登記事項卡、有限公司變更登記表、郵局存證信函用紙、切結書在卷可稽（見偵卷第14頁至第22頁、第54頁至第56頁反面、第73頁至第86頁），且有「工程承攬合約書」扣案可佐。是此部分事實，應堪認定。二、證人即告訴人楊鉉銘於偵訊中具結證稱：「工程承攬合約書」上的大、小章，不是伊公司的，印章還刻錯了，伊的「鉉」是金字邊，黃啓斌曾用伊公司名義去承作工程，出事死人後，勞檢所找上伊，伊就發存證信函說這工程不是伊承包的，後來伊跟黃啓斌說不能再這樣，不然會告他，沒想到他還繼續用，伊未同意他刻伊公司的大、小章，也未同意借牌給他等語（見偵卷第50頁至第51頁）；復於審理中具結證稱：伊確定「工程承攬合約書」上的大、小章不是伊公司的，因為伊的「鉉」是金字邊，印章是火字邊，伊不知道這件案子，黃啓斌沒跟伊提過，伊也未曾同意他在這件案子用伊公司的大、小章，伊曾於921地震後借牌給他過，但都是借他印章再拿回來，或伊親自去打契約，不可能委託他刻有錯字的章，譬如宗達公司的工程契約書，黃啓斌有來伊公司跟伊談，上面就是蓋伊平常打合約的章，之後他自己偷刻章，沒跟伊說就用伊公司名義承包天順建設在台南的工程，直到勞檢所通知有發生工安意外後，伊才知道那件案子，該案工程合約上的印文不是伊的，因為「鉉」被刻錯成火字邊，「銘冠營造有限公司印」有個「印」字，伊從沒刻過這樣的章等語（見本院卷一第195頁至第209頁；本院卷二第94頁至第105頁）。勾稽證人即告訴人楊鉉銘對於其未曾同意或授權被告刻製「銘冠營造有限公司印」及「楊炫銘」印章，並在「工程承攬合約書」上用印以承攬「朱公館自用農舍工程」等情，證述甚為明確，無重大瑕疵，前後說詞未歧異不一，若非確有其事，當無可能於偵訊及審理中均為一致之陳述，況其上開證述均經具結以擔保證詞之真實。再者，證人即告訴人楊鉉銘既為銘冠公司負責人，衡情自不可能授權他人自行刻製銘冠公司之公司章、代表人章（即大、小章），亦不可能不留下書面以為雙方合作之憑據。是被告辯稱：楊鉉銘在新竹的餐廳內曾口頭同意伊於「朱公館自用農舍工程」借他的牌云云（見本院卷一第138頁至第139頁），顯與常情相悖而不足採信，自應以證人即告訴人楊鉉銘之證述較為可採。準此，足認證人即告訴人楊鉉銘之上開證述，應非子虛。三、復本院向勞動部職業安全衛生署調閱天順開發建設有限公司（下稱天順建設）「富貴人生8戶新建工程」重大職業災害相關資料（見本院卷二第159頁至第272頁），該工程發生職業災害後，經勞動部職業安全衛生署南區職業安全衛生中心詢問被告時陳稱：銘冠公司沒有授權或同意伊使用他的大、小章及名義等語（見本院卷二第192頁），及詢問該工程實際承攬人簡坤白時陳稱：合約是被告負責製作，銘冠公司大、小章也是他蓋的，本工程實際上跟銘冠公司沒有關係，伊與該公司沒有往來等語（見本院卷第194頁），核與證人即告訴人楊鉉銘證稱被告未經其同意即冒用銘冠公司名義承作天順建設工程之情節相合，益徵其上開證述與客觀事實相符。再者，觀諸「工程承攬合約書」上之「銘冠營造有限公司印」及「楊炫銘」印文，與天順建設所簽訂「工程合約（富貴人生8戶新建工程）」上之「銘冠營造有限公司印」及「楊炫銘」印文相較（見本卷院一第269頁），兩者內容（均有「印」字及「炫」字）相同，字型、字體皆相似；與宗達工業股份有限公司所簽訂「工程契約書」上之「銘冠營造有限公司」及「楊鉉銘」印文相較（見本卷院一第289頁），兩者內容（有無「印」字、為「炫」或「鉉」字）、字型、字體均不同乙節，有本院勘驗筆錄在卷可稽（見本院卷三第23頁至第24頁）。衡諸常情，應可認被告於本案「工程承攬合約書」之模式，應與天順建設「富貴人生8戶新建工程」者雷同。準此，被告未經同意或授權，即委託偽刻「銘冠營造有限公司印」及「楊炫銘」印章，並在「工程承攬合約書」上用印而冒用銘冠公司名義偽造屬私文書之該工程合約書，再交付予唐柏武而行使之行使偽造私文書犯行，應堪認定。四、被告固聲請傳喚朱明輝以證明其未延宕「朱公館自用農舍工程」云云（見本院卷一第224頁），然此與本案待證事實無重要關係，顯無調查之必要，爰依刑事訴訟法第163條之2第1項、第2項第2款規定駁回聲請，併此敘明。五、綜上，本案事證明確，被告犯行洵堪認定，應予依法論科。參、論罪科刑及沒收一、核被告所為，係犯刑法第216條、第210條之行使偽造私文書罪。被告偽造印章及偽造印文均為偽造私文書之部分行為，又偽造私文書之低度行為，為行使偽造私文書之高度行為所吸收，均不另論罪。再被告利用不知情之刻印店人員偽刻印章以遂行犯行，為間接正犯。二、爰以行為人之責任為基礎，審酌被告偽造私文書後持以行使而冒名承攬工程，足以生損害於告訴人楊鉉銘、銘冠公司之權益，及唐柏武對簽約對象之正確判斷，實屬可議，兼衡犯罪之動機、目的、手段、情節，與偽造私文書、印章、印文之數量，及犯後之態度，與告訴人楊鉉銘之意見等一切情狀（見本院卷一第214頁；本院卷二第106頁），量處如主文所示之刑；再審酌其已有行使偽造私文書之前科紀錄，經臺灣嘉義地方法院於103年3月4日以102年度訴字第394號判決判處有期徒刑6月，如易科罰金，以1千元折算1日確定，有臺灣高等法院被告前科紀錄表、判決書在卷可稽（見本院卷一第169頁至第176頁），暨自承專科畢業之智識程度、月入約新臺幣（下同）10萬多元之生活狀況等情（見本院卷三第19頁），諭知易科罰金以2千元折算1日，以示懲儆。三、被告行為後，刑法沒收規定業於104年12月30日修正公布，於105年7月1日生效施行。刑法第2條第2項修正規定：「沒收、非拘束人身自由之保安處分適用裁判時之法律」，故本案沒收應適用裁判時之規定。又修正後刑法第11條規定：「本法總則於其他法律有刑罰、保安處分或沒收之規定者，亦適用之。但其他法律有特別規定者，不在此限。」是同法第219條關於印章、印文之沒收乃屬總則沒收之特別規定，依前條但書所示，於修法後，應仍適用之。按上訴人用以詐欺取財之偽造、變造等書類，既已交付於被害人收受，則該物非屬上訴人所有，除偽造書類上偽造之印文、署押，應依刑法第219條予以沒收外，依修正前同法第38條第3項之規定，即不得再對各該書類諭知沒收（最高法院43年台上字第747號判例意旨參照）。又刑法第219條規定，偽造之印章、印文或署押，不問屬於犯人與否，沒收之；係採義務沒收主義，凡偽造之印章、印文或署押，不論是否屬於犯人所有，苟不能證明業已滅失，均應依法宣告沒收（最高法院96年度台上字第1310號判決意旨參照）。查扣案之偽造「工程承攬合約書」，業經被告行使而交付予唐柏武收執，非被告所有，無從宣告沒收。惟該工程合約書中如附表所示偽造印文8枚，與未扣案之偽刻「銘冠營造有限公司印」及「楊炫銘」印章各1枚，無證據證明業已滅失，均應依刑法第219條規定沒收宣告。據上論結，應依刑事訴訟法第299條第1項前段、刑法第2條第2項、第216條、第210條、第41條第1項前段、第219條，判決如主文。本案經檢察官呂秉炎提起公訴及到庭執行職務。中華民國109年8月26日刑事第三庭審判長法官林卉聆法官陳雅菡法官魏正杰以上正本證明與原本無異。如不服本判決應於收受判決後20日內向本院提出上訴書狀，並應敘述具體理由。其未敘述上訴理由者，應於上訴期間屆滿後20日內向本院補提理由書(均須按他造當事人之人數附繕本)「切勿逕送上級法院」。告訴人或被害人如對本判決不服者，應具備理由請求檢察官上訴，其上訴期間之計算係以檢察官收受判決正本之日期為準。書記官巫穎中華民國109年8月26日附錄本件論罪科刑之法條全文：中華民國刑法第216條行使第210條至第215條之文書者，依偽造、變造文書或登載不實事項或使登載不實事項之規定處斷。中華民國刑法第210條偽造、變造私文書，足以生損害於公眾或他人者，處5年以下有期徒刑。附表：\n",
            "Article Index: 143 Distance: 0.3604352740335939\n",
            "Article Text: 一、己○○（原名蔡佳伶，於民國89年3月20日更名），於88年12月下旬，因亟需貸款，經洽代辦貸款業者自稱「陳國治」之成年男子協助。「陳國治」與甲○○（於另案判決確定）熟識，前經「陳國治」向其表示要借車辦貸款，意即當時有銀行憑借款人名下有出廠5年內之汽車，即可提供個人小額信用貸款，故「陳國治」需有此等汽車過戶至借款人名下，僅製造財產證明，毋庸設定抵押，車主原車可用，且過戶後該車稅金即由「陳國治」代繳，如代辦之貸款獲銀行核撥，「陳國治」可抽成充作佣金，並分佣給甲○○；甲○○欣然同意，適其配偶丙○○名下車牌號碼00-0000號自用小客車（下稱系爭汽車）符合條件，甲○○遂藉口買賣使不知情之丙○○於88年12月18日至交通部公路局臺中區監理所（下稱臺中區監理所）將系爭汽車過戶至不知情之戊○○名下，既無讓與合意，真正車主仍為丙○○，實際上由甲○○用車。於己○○委由「陳國治」代辦貸款後，「陳國治」與甲○○依計畫要將已在戊○○名下之系爭汽車過戶至己○○名下，己○○誤以系爭汽車為戊○○所有，明知自己並無受讓系爭汽車所有權之事實，為求辦貸款，竟依「陳國治」與甲○○之指示，而基於使公務員登載不實之概括犯意聯絡，於88年12月20日上午10時51分許，向臺中區監理所偽以辦理過戶，在該汽車車輛異動登記書上之「新車主簽章」欄，簽寫姓名「蔡佳伶」，使不知情之公務員於職務上所掌之公文書（含輸入電腦形成電磁記錄之準公文書）即車籍登記資料上登載新車主為「蔡佳伶」，並據以補發行車執照，足以生損害於公路監理機關對於車籍管理之正確性及丙○○。己○○嗣依「陳國治」與甲○○指示，明知乙○○亦係求辦貸款，並無受讓系爭汽車所有權之事實，仍承上概括犯意聯絡，於89年4月20日下午1時38分許，夥同乙○○再向臺中區監理所偽以辦理過戶，在該汽車車輛異動登記書上之「原車主簽章」欄，簽寫姓名「己○○」，使不知情之公務員於職務上所掌之公文書（含輸入電腦形成電磁記錄之準公文書）即車籍登記資料上登載新車主為乙○○，並據以補發行車執照，足以生損害於公路監理機關對於車籍管理之正確性及丙○○。嗣於89年5月10日上午11時51分許，由甲○○帶同乙○○本人向臺中區監理所偽以辦理過戶予戊○○（己○○不知情），經戊○○於89年底、90年4月間分別接獲系爭汽車之交通罰單及稅單後，不堪其擾，遂訴請檢察官循線查獲上情。二、案經戊○○訴由臺灣新竹地方法院檢察署（下稱新竹地檢署）檢察官呈請臺灣高等法院檢察署檢察長令轉臺灣臺中地方法院檢察署（下稱臺中地檢署）檢察官自動檢舉偵查起訴。理由壹、證據能力部分一、有罪之判決書，應於理由內記載認定犯罪事實所憑之證據及其認定之理由；無證據能力、未經合法調查之證據，不得作為判斷之依據；被告以外之人於審判外之言詞或書面陳述，除法律有規定者外，不得作為證據，刑事訴訟法第310條第1款、第155條第2項、第159條第1項分別定有明文。基此，認定犯罪事實，以被告以外之人於審判外之言詞或書面陳述（即傳聞證據）為證據者，應先敘明其有證據能力之理由；至傳聞證據以外其他證據，除被告之自白外，若無刑事訴訟法規定列為不得作為證據之情形，本有證據能力。至於非認定犯罪事實所用之證據（諸如未引用之證據、彈劾證據、量刑之依據等），不論是否為傳聞證據，應無庸記載其得為證據之理由，合先敘明。二、本判決認定犯罪事實所用之傳聞證據，及檢察官起訴所引用之證據，個別有無證據能力之理由，分述如下：（一）同案被告甲○○、證人丙○○（均未具結）、證人乙○○（經具結）之偵訊筆錄，均係被告以外之人於偵查中向檢察官所為之陳述，既無顯不可信之情況，依刑事訴訟法第159條之1第2項規定，即有證據能力。同案被告甲○○於偵訊中供述之身分均非證人，自非依法應具結者；證人丙○○當時為該案被告甲○○之配偶而不拒絕證言者，依92年1月14日修正通過、92年2月6日公布、92年9月1日施行前之刑事訴訟法第186條第4款規定，不得令其具結，亦非依法應具結者，此部分陳述之證據能力，依刑事訴訟法施行法第7條之3規定，於修正刑事訴訟法施行後，其效力不受影響，併予敘明。（二）告訴人戊○○於偵查中之指訴（包括告訴意旨信函及檢察事務官詢問筆錄）、證人丙○○之檢察事務官詢問筆錄，均經當事人於準備程序同意作為證據，本院審酌該言詞陳述及書面陳述作成時之情況，亦認為適當，依刑事訴訟法第159條之5第1項規定，即有證據能力。（三）交通部公路局新竹區監理所（下稱新竹區監理所）90年5月11日九０竹監一字第6389號函附車籍資料（即異動歷史查詢），係公務員職務上製作之紀錄文書（經輸入電腦），再自電腦查詢所生之證明文書，作為該機關於審判外陳述系爭汽車車籍登記情形之供述證據，其可信度極高，既無顯不可信之情況，依刑事訴訟法第159條之4第1款規定，即有證據能力。（四）東信電訊股份有限公司（下稱東信電訊）之行動電話號碼資料查詢，係從事電信業務之人，於通常業務過程所須製作之紀錄文書（經輸入電腦），再自電腦查詢所生之證明文書，作為該公司於審判外陳述行動電話號碼申登情形之供述證據，其可信度極高，既無顯不可信之情況，依刑事訴訟法第159條之4第2款規定，即有證據能力。（五）臺中區監理所90年5月17日九０中監一字第0000000號函附系爭汽車於88年12月18日、88年12月20日、89年4月20日、89年5月10日過戶之汽車車輛異動登記書各1紙、交通部公路局臺中區監理所臺中市監理站（下稱臺中市監理站）90年5月18日九０中監中字第0000000號函附異動、變更、補照登記書等資料、新竹區監理所90年5月11日九０竹監一字第6389號函附動產擔保抵押等資料、「陳國治」陳舊名片1張、被告照片影本2張，均屬物證性質，並非供述證據，亦無刑事訴訟法所定其他不得作為證據之情形，本有證據能力。（六）起訴書所載同案被告甲○○於法院（意指本院91年度易字第2092號、臺灣高等法院臺中分院92年度上訴字第267號）審理時之供述，惟上開卷宗送執行後業已銷燬，有臺灣臺中地方法院檢察署檔案室在本院調卷單上蓋用「本件已銷燬」之戳章為憑，無從調查之，自不得作為證據，附此說明。貳、實體部分一、上揭犯罪事實業據被告己○○坦承不諱（見本院卷第34頁至第35頁、第66頁、第68頁），核與證人即同案被告甲○○於偵訊中供述及本院審理中證述「陳國治」與伊借車辦貸款之約定、伊帶同丙○○本人至臺中區監理所將系爭汽車過戶至「陳國治」指定之戊○○名下、伊繼續用車、被告缺錢找上「陳國治」代辦信用貸款、伊依「陳國治」指示帶同被告將系爭汽車過戶至被告名下、乙○○亦缺錢找上伊經介紹由「陳國治」代辦貸款、同為貸款將系爭汽車過戶至乙○○名下、事後又過戶至戊○○名下、過戶時伊都有到場部分之情節大致相符（見臺中地檢署90年度他字第1790號卷【下稱中檢90他1790卷】第17頁至第18頁、90年度偵緝字第790號卷【下稱中檢90偵緝790卷】第13頁至第15頁、本院卷第59頁至第62頁反面），與告訴人戊○○於偵查中指訴伊遺失身分證遭冒名為系爭汽車車主接獲交通罰單及稅單不堪其擾之情節無違（見新竹地檢署90年度他字第117號卷【下稱竹檢他卷】第3頁至第5頁、第9頁），亦與證人丙○○於偵查中證述系爭汽車係伊所買、動產擔保抵押已付清、沒有見過戊○○、伊以為戊○○要買車遂同甲○○將系爭汽車過戶至戊○○名下、未曾收到賣車價款、伊沒有再開該車、曾於90年2月25日在復興路看到甲○○駕駛系爭汽車部分之情節不牴觸（見竹檢他卷第41頁至第43頁、中檢90他1790卷第28頁至第29頁、中檢90偵緝790卷第22頁至第23頁），復有臺中區監理所90年5月17日九０中監一字第0000000號函附系爭汽車於88年12月18日、88年12月20日、89年4月20日、89年5月10日過戶之汽車車輛異動登記書各1紙（見竹檢他卷第11頁至第15頁）、臺中市監理站90年5月18日九０中監中字第0000000號函附異動、變更、補照登記書等資料（見竹檢他卷第18頁至第23頁）、新竹區監理所90年5月11日九０竹監一字第6389號函附車籍資料（即異動歷史查詢）、動產擔保抵押等資料（見竹檢他卷第24頁至第27頁）、「陳國治」陳舊名片1張（臺中地檢署101年度偵緝字第220號卷第22頁）、被告照片影本2張附卷可稽（中檢90他1790卷第32頁、中檢90偵緝790卷第25頁）。至證人乙○○於偵訊中證稱伊確於89年4月20日會同被告將系爭汽車過戶於己無誤，然係因甲○○與被告要將系爭汽車賣給伊云云（見中檢90他1790卷第15頁、第28頁、中檢90偵緝790卷第23頁至第24頁），惟其自稱未看過車、未付款分文，就先過戶達相當時日（自89年4月20日起至89年5月10日止）之情節，顯違一般社會常情，已難遽信，況乙○○自89年間起有施用毒品之前科，有臺灣高等法院被告前案紀錄表在卷可參（見本院卷第41頁至第44頁），於本院經辯護人詰問其於89年4、5月間工作收入，其坦承當時無工作、無收入等語（見本院卷第63頁反面），益徵其應無買車之迫切需求，更毋庸急於將系爭汽車過戶至自己名下，無端浪費過戶之勞力與時間，乙○○復於本院證稱伊未支付過戶費用，應係甲○○支付等語（見本院卷第64頁反面），益徵其所稱因買賣而過戶之不合理。由此觀之，證人甲○○於本院結證稱乙○○係缺錢找伊辦貸款，由伊帶去找「陳國治」，狀況與被告一樣等語（見本院卷第61頁反面、第60頁），較符實情而屬可採。至「陳國治」名片上所載電話號碼0000000000，經東信電訊提供之行動電話號碼資料查詢結果，其申登人並非「陳國治」，惟一般人向銀行貸款無庸透過代辦業者，所謂代辦業者多會游走法律邊緣，諸如為借款人製造不實之財產證明，為逃避究責，以化名而非真姓名示人不違常理，而社會上代辦業者之存在及人頭電話氾濫，為眾所週知之事，尚難僅以「陳國治」電話之申登人為他人名義，即排除其人存在之可能性，而遽否定被告自白之真實性。被告明知自己與乙○○皆無受讓系爭汽車所有權之事實，亦非與真正車主間有何借名登記之關係，竟先後於88年12月20日、89年4月20日向臺中區監理所偽以辦理過戶，使不知情之公務員登載於職務上所掌之公文書（含輸入電腦形成電磁記錄之準公文書），即在車籍登記資料上，先後登載新車主為被告、乙○○，並據以陸續補發行車執照，自足以生損害於公路監理機關對於車籍管理之正確性及真正車主丙○○之權益。足認被告任意性自白確與事實相符，事證明確，犯行堪以認定，應予依法論科。二、被告行為後，94年1月7日修正、同年2月2日公布之刑法修正條文，業於95年7月1日施行，刑法第2條第1項係規範行為後法律變更所生新舊法律比較適用之準據法，應依其修正後之規定為「從舊從輕」之比較。比較適用最有利於行為人之法律時，應就罪刑有關之共犯、未遂犯、連續犯、牽連犯、結合犯以及累犯加重、自首減輕暨其他法定加減原因、加減例等一切情形，綜其全部之結果而為比較，再適用有利於行為人之法律處斷，且應就罪刑有關之一切情形，比較其全部之結果，而為整個之適用，不能割裂而分別適用有利益之條文。刑法第28條，將共同正犯之範圍，修正限縮於共同實行犯罪者，始成立共同正犯，排除陰謀犯、預備犯之共同正犯；又同法第47條第1項關於累犯之修正，將所犯之後罪無論係故意或過失再犯，均得成立累犯，修正限縮為再犯之罪以故意犯為限，始成立累犯，以上之修正屬法律之變更，非僅為法理之明文化及純文字之修正，然如就被告之犯罪，無論依修正前或修正後第28條、第47條之規定，均成立共同正犯及構成累犯，或均不成立共同正犯及不構成累犯，即無有利或不利之情形，即無庸為新舊法之比較。所謂不能割裂適用，係指與罪刑有關之本刑而言，並不包括易刑處分在內，有關易科罰金、易服勞役之刑罰執行，仍應比較新舊法之規定，適用最有利於行為人之法律，依刑法第2條第1項之從舊從輕原則定其易刑之折算標準。犯罪在修正施行前，修正施行後，緩刑之宣告，應適用修正後刑法第74條之規定（最高法院95年度第8次刑事庭會議決議、98年度台上字第1316號、97年度台上字第2545號裁判要旨參照）。準此，本案應適用之法條說明如下：（一）本刑部分：1.刑法第214條之法定刑關於罰金部分，依修正前刑法第33條第5款、廢止前罰金罰鍰提高標準條例第1條前段、現行法規所定貨幣單位折算新臺幣條例第2條規定，罰金為銀元10元即新臺幣30元以上；修正後刑法第33條第5款規定，罰金為新臺幣1千元以上，以百元計算之，對被告未較有利。2.修正前刑法第56條規定連續數行為而犯同一之罪名者，以一罪論，但得加重其刑至二分之一；修正後刪除本條有關連續犯之規定，或認係一罪（對於合乎「接續犯」或「包括的一罪」之情形，認為構成單一之犯罪），或認係數罪併罰，被告於88年12月20日、89年4月20日之犯行，在時間差距上，可以分開，如不依連續犯之規定以一罪論，應認係數罪併罰，對被告未較有利。3.綜上全部之結果而為比較，被告行為後施行之刑法修正條文對其未較有利，應依修正後刑法第2條第1項前段之從舊原則，一體適用其行為時之法律。（二）如對被告諭知易科罰金之折算標準，依修正前刑法第41條第1項前段、廢止前罰金罰鍰提高標準條例第2條規定、現行法規所定貨幣單位折算新臺幣條例第2條規定，以銀元100元以上300元以下，即新臺幣300元以上900元以下折算1日；修正後刑法第41條第1項前段規定，以新臺幣1千元、2千元或3千元折算1日，對被告未較有利，亦應適用其行為時之法律。（三）如對被告為緩刑之宣告，逕適用修正後刑法第74條之規定即可。三、按電磁紀錄，藉電腦之處理所顯示之影像或符號，足以為表示其用意之證明者，以文書論，刑法第220條第2項定有明文，故公務員將被告於88年12月20日、89年4月20日所提出之汽車車輛異動登記書表示之不實過戶事實鍵入職務上所掌之電腦資料，亦屬公務員職務上所掌之公文書。核被告所為，均係犯刑法第214條使公務員登載不實罪。被告與「陳國治」、甲○○、乙○○等間，有犯意聯絡及行為分擔，應論以共同正犯。被告先後使公務員登載不實之犯行，時間緊接，方法相同，均觸犯構成要件相同之罪名，顯係基於概括犯意反覆為之，為連續犯，應依修正前刑法第56條規定，以一罪論，並加重其刑。起訴書雖未就被告於89年4月20日之犯行予以載明，惟該部分犯行與被告於88年12月20日之犯行，有連續犯之裁判上一罪關係，為起訴效力所及，本院自應併予審理。爰審酌被告所為共同連續使公務員登載不實之犯行，足以生損害於公路監理機關對於車籍管理之正確性及丙○○，非無可議；惟念及被告係因亟需貸款，經依代辦貸款業者之指示，方參與犯行，茲有其子戶籍謄本顯示被告於88年間生子，適為案發前不久，非無可憫，且無犯罪前科，有臺灣高等法院被告前案紀錄表在卷可參，並於本院供稱於案發前曾從事在大賣場設攤招攬信用卡之工作，現其子均仍未成年，且為低收入戶，業據提出101年3月29日新北市土城區公所低收入證明書為憑，且依其個人基本資料之教育程度註記為高中畢業之生活狀況及智識程度，況因被告犯行所生之危險或損害尚非嚴重，及其坦承犯行，犯後態度良好等一切情狀，量處如主文所示之刑，並諭知易科罰金之折算標準，以示懲儆。按被告於中華民國九十六年罪犯減刑條例施行前，經偵查中通緝，並未依該條例第5條規定於96年12月31日以前自動歸案接受偵查，故不得依該條例減刑，附此敘明。被告迄今未受任何刑之宣告，前已敘及，其因一時失慮致罹刑典，經此刑之宣告後，應當知所警惕，而信無再犯之虞，是認對被告所宣告之刑以暫不執行為適當，併宣告緩刑2年。四、不另為無罪諭知部分：（一）公訴意旨另以：被告己○○與同案被告甲○○亦基於行使偽造私文書之概括犯意聯絡，於88年12月20日同至臺中區監理所，由甲○○將其拾得戊○○遺失之身分證正本及其盜刻之戊○○印章交付被告，由被告在汽車車輛異動登記書上之原車主名稱欄後蓋用該盜刻戊○○印章，偽造戊○○名義製作其就系爭汽車為原車主之過戶意思表示之私文書，繼之持向臺中區監理所辦理過戶以行使之，足以生損害於公路監理機關對於車籍管理之正確性及戊○○。其後，被告與甲○○於89年4月20日共同將系爭汽車販售予不知情之乙○○，並由被告至臺中區監理所會同乙○○辦理過戶。嗣因乙○○於約定取車及交款之次日發現系爭汽車之顏色與約定不符而表示不願買受，被告與甲○○竟承前行使偽造私文書、使公務員登載不實之概括犯意聯絡，於89年5月10日同至臺中區監理所與乙○○會合，再由甲○○將前揭戊○○之身分證及盜刻印章交付被告，由被告在汽車車輛異動登記書上之新車主名稱欄後蓋用該盜刻印章，偽造戊○○名義製作其就系爭汽車為新車主之過戶意思表示之私文書，繼之持向臺中區監理所辦理過戶以行使之，使不知情之公務員於職務上所掌之公文書（含輸入電腦形成電磁記錄之準公文書）即車籍登記資料上登載新車主為戊○○，並據以補發行車執照，足以生損害於公路監理機關對於車籍管理之正確性及戊○○。因認被告涉犯共同連續行使偽造私文書罪嫌（其認於88年12月20日、89年5月10日之使公務員登載不實犯行為連續犯，並與連續行使偽造私文書之犯行依修正前刑法規定為牽連犯，從一重之連續行使偽造私文書罪論處）。（二）按犯罪事實應依證據認定之，無證據不得認定犯罪事實，刑事訴訟法第154條第2項定有明文。被告未經審判證明有罪確定前，推定其為無罪，此為我刑事訴訟之基本原則。又公訴案件犯罪證據之蒐集，及提起公訴後，對犯罪事實之舉證責任及指出證明之方法，均屬公訴人之職責，原則上法院僅於當事人之主張及舉證範圍內進行調查證據，其經法定程序調查證據之結果，認已足以證明犯罪事實時，始得為犯罪事實之認定。若其為訴訟上之證明，於通常一般人仍有合理之懷疑存在，尚未達於可確信其真實之程度者，在該合理懷疑尚未剔除前，自不能為有罪之認定。法院不得以偵查機關關於某種犯罪之調查不易，即放棄上開原則之堅持，致有違背刑事訴訟無罪推定及嚴格證明之原則，其理甚明（最高法院94年度台上字第2033號裁判要旨參照）。（三）檢察官起訴被告涉犯此部分罪嫌，除本判決認定有罪部分已引用之證據具有共通性外，無非以證人乙○○於偵訊中證稱：「當時是那女的與代辦人員進去辦的，一下子就辦好出來了，這二次過戶都是我與那一男一女三人一起去，我的身分證及印章都是我拿給那個女的去辦過戶的……（問：【提示卷附甲○○及己○○之照片】是否照片上的這個人辦過戶給你？）是，二次都是他們二人帶我去辦的……（問：是否認識甲○○？）我有在臺中監理所看過他，是由他與一位女子把車子辦過戶給我。（問：【提示蔡佳伶照片】甲○○是否與照片上的這位女子一起把車子過戶給你？）是。……（問：有何補充？）二次過戶都是甲○○與蔡佳伶幫我辦的。」等語（見中檢90他1790卷第15頁、第28頁、中檢90偵緝790卷第23頁至第24頁），及同案被告甲○○於偵訊中供稱：戊○○之身分證及印章均係「陳國治」於88年12月18日在臺中區監理所交給伊，就留在伊那裡，沒有交給別人，現已不知道放哪裡等語（見中檢90偵緝790卷第14頁、第23頁至第24頁），以此推認88年12月20日、89年5月10日均係由甲○○將戊○○之身分證及印章交由被告去辦理過戶，為其論據。（四）訊據被告堅決否認有參與88年12月20日行使偽造私文書之犯行及89年5月10日行使偽造私文書及使公務員登載不實之犯行，所辯除與其前揭自白共通外，另辯稱：伊不認識戊○○，當時以為戊○○是車主，88年12月20日伊在過戶文件上簽名時，就印章蓋了沒，事隔太久記不得，伊確無經手戊○○之印章等語。（五）經查：1.系爭汽車於89年5月10日過戶之汽車車輛異動登記書上核有手寫筆跡「代辦人乙○○Z000000000」之記載（見竹檢他卷第15頁），顯與證人乙○○於偵訊中所述係由被告代辦之情詞牴觸，據辯護人於本院詰問之，經證人乙○○辨識筆跡後坦承確係伊親筆書寫，記明筆錄（見本院卷第62頁反面），可見當時實係乙○○偽以原車主本人兼新車主戊○○代理人之身分，逕向臺中區監理所辦理過戶，而非假手他人代辦，縱甲○○於89年5月10日有將戊○○之身分證及印章交付辦過戶之人（事實上亦難斷定），則該人亦應係乙○○，而非被告，足認證人乙○○於偵訊中所述確有可疑。又乙○○無非偽證之動機，即推卸其本身亦涉嫌行使偽造私文書及使公務員登載不實之刑責，其證述既屬可疑，自難憑信。況證人乙○○於偵訊中所稱過戶之原因，係甲○○與被告要將系爭汽車賣給伊，而有89年4月20日之過戶，伊看車後不滿意，方有89年5月10日之過戶云云，惟其於偵訊及本院證稱伊未看過車、未付款分文，就先過戶相當時日之情節，實屬牽強，前已論及，堪認證人乙○○所述就89年4月20日、89年5月10日過戶之原因及89年5月10日由被告代辦過戶之證言，確係卸責之詞，不足採憑。2.按汽車有過戶者，應申請異動登記，道路交通安全規則第15條第2項第1款定有明文，而依91年12月13日修正前之同規則第16條規定：「汽車所有人依前條規定申請者，應填具申請書，並依左列規定提出證明文件：一、以個人名義申請登記者，應繳驗國民身分證或軍人身分證或僑民居留證明或有效之汽車駕駛執照。……前項第一款，以個人名義申請登記，委託汽車買賣業代辦過戶者，得憑車主國民身分證影本及委託汽車買賣業代辦過戶之委託書或當地汽車商業同業公會開具之證明書申請登記，並另繳驗汽車買賣業之營利事業登記證正本、汽車商業同業公會會員證及代辦人身分證正本，始得辦理。以當地汽車商業同業公會開具之證明書申登記者，其營利事業登記證得以影本審驗。」核臺中區監理所90年5月17日九０中監一字第0000000號函、臺中市監理站90年5月18日九０中監中字第0000000號函所附系爭汽車之異動登記資料，未見其中有委託汽車買賣業代辦過戶之委託書或相關紀錄，可見均係由汽車所有人（新車主或原車主）本人辦理（基於便民措施，其一即可），系爭汽車於89年5月10日過戶時，被告既非名義上之原車主或新車主，亦非持委託書代辦過戶之汽車買賣業，實無代辦過戶之可能，且89年5月10日之過戶，與被告並無任何利害關係，被告實無參與之理。而依卷存證據，除證人乙○○上開不實之證述外，別無積極證據足資推論被告有何參與89年5月10日行使偽造私文書及使公務員登載不實之犯行，基於無罪推定之原則，應認被告對此部分犯行不知情而未參與，自不能以罪相繩。3.同案被告甲○○固然於偵訊中供稱：戊○○之身分證及印章於88年12月18日就在伊那裡，沒有交給別人等語，卻無法交代戊○○之身分證及印章之下落，已非無疑。對此，業於本院以證人身分結證稱：「當時所述不實在，因為我認為做兄弟的，線既然斷在我這邊，我應該把事情擔起來」等語（見本院卷第61頁反面），衡諸社會常情，未必較不可信，況甲○○因此對己不利之供述，就其自身案件已遭判決有罪確定並執行完畢，應無再於本案干冒偽證罪之風險為己辯解之必要，堪認其於本院之證言較符實情，自難遽認此揭偵訊所供部分為實在。退步言，縱認戊○○之身分證及印章於88年12月18日起即由甲○○持有，亦乏其他積極證據足資證明甲○○於88年12月20日有將戊○○之身分證及印章交由被告使用，蓋於88年12月20日系爭汽車過戶時，被告如何能知悉車籍登記上之原車主戊○○其實非真正車主？能否排除代辦貸款業者包辦除被告親自簽名以外之汽車車輛異動登記書內容製作之可能性？被告在該異動登記書上簽名之際，其上關於戊○○之記載及戊○○之印文是否尚未完成？均非無合理懷疑，而未能剔除，自不能僅憑臆測逕推認被告於88年12月20日有參與行使偽造私文書部分之犯罪事實。（六）因檢察官所為舉證，尚不足以證實被告確有88年12月20日行使偽造私文書之犯行及89年5月10日行使偽造私文書及使公務員登載不實之犯行，自不能認被告有此部分犯行。惟若被告確有此部分犯行，則與於88年12月20日使公務員登載不實之犯行，應有連續犯及牽連犯之關係，屬裁判上之一罪，爰不另為無罪之諭知。據上論斷，應依刑事訴訟法第299條第1項前段，刑法第2條第1項前段、第28條、第214條、第220條第2項、第74條第1項第1款，94年1月7日修正前刑法第56條、第41條第1項前段，刑法施行法第1條之1第1項、第2項前段，廢止前罰金罰鍰提高標準條例第2條規定，現行法規所定貨幣單位折算新臺幣條例第2條，判決如主文。本案經檢察官丁○○到庭執行職務中華民國102年1月10日刑事第十九庭審判長法官高文崇法官蕭一弘法官蔡嘉裕以上正本證明與原本無異。如不服本判決應於收受判決後10日內向本院提出上訴書狀，並應敘述具體理由；其未敘述上訴理由者，應於上訴期間屆滿後20日內向本院補提理由書（均須按他造當事人之人數附繕本）「切勿逕送上級法院」。書記官楊家印中華民國102年1月10日附錄論罪科刑法條：刑法第214條明知為不實之事項，而使公務員登載於職務上所掌之公文書，足以生損害於公眾或他人者，處3年以下有期徒刑、拘役或5百元以下罰金。\n",
            "Article Index: 285 Distance: 0.37112029778195277\n",
            "Article Text: 一、張綉惠與黃裕城為母子，張綉惠、黃裕城分別與黃文忠為夫妻、父子關係。黃文忠為桃園縣八德市（現改制為桃園市○○區○○○○街00號1樓「忠城汽車貨運股份有限公司」（下稱忠城公司）負責人及裕城企業社之實際負責人。張綉惠則為「裕城企業社」負責人，並負責保管裕城企業社、忠城公司之印鑑。詎張綉惠、黃裕城竟為下列犯行：（一）張綉惠、黃裕城均明知張綉惠並無實際出賣其所有之桃園縣○○市○○段0000地號土地（重測前為桃園縣八德市○○○段000○00地號，其上建物門牌號碼為桃園縣○○市○○街00巷00號）與黃裕城之真意，竟基於使公務員登載不實之犯意聯絡，於民國100年9月27日簽立不實之土地買賣契約書、並填具不實之土地登記申請書、土地所有權買賣移轉契約書後，於100年10月21日委由不知情之地政士以買賣為原因，持上開土地買賣契約書、土地登記申請書、土地所有權買賣移轉契約書向桃園縣八德市地政事務所之該管公務員申請將上開土地移轉登記至黃裕城名下，致使不知情之該管公務員經形式審查後，將此不實事項登載於土地登記謄本此一其職務上所掌之公文書，足生損害於地政機關對於地籍管理之正確性。（二）張綉惠、黃裕城均明知黃裕城並未借款給裕城企業社、黃文忠或忠城公司，且黃文忠更未授權黃裕城將忠城公司所有車牌號碼000-00號營業用大貨曳引車、車牌號碼00-00號營業用全拖車、車牌號碼000-00號營業用大貨車及黃文忠所有車牌號碼00-0000號自用小貨車設定動產抵押，竟於101年1、2月間，聽從真實姓名年籍不詳之成年友人建議後，基於使公務員登載不實及行使偽造私文書之犯意聯絡，商議以黃裕城有借款予裕城企業社、黃文忠及忠城公司為由，至監理機關將登記於裕城企業社、黃文忠及忠城公司名下之車輛，為黃裕城設定不實之動產抵押登記，謀議既定，張綉惠即持其保管之裕城企業社、忠城公司大小章，與黃裕城一同於101年2月20日至交通部公路總局新竹區監理所桃園監理站，請不知情之監理站公務員提供動產擔保交易動產抵押設定登記申請書、動產抵押契約書，並為下列行為：1.請不知情之監理站公務員依張綉惠、黃裕城之指示將裕城企業社名下車牌號碼00-0000號自用小客車、車牌號碼00-000號自用大貨車與車牌號碼00-000號自用大貨車等動產抵押標的填載於上開設定登記申請書、抵押契約書，由張綉惠填載擔保債權最高限額新臺幣（下同）500萬元，並經張綉惠、黃裕城分別於上開文件簽章、用印後，交由該管公務員辦理動產抵押，使監理站公務員形式審查後，將車牌號碼00-0000號自用小客車、車牌號碼00-000號自用大貨車與車牌號碼00-000號自用大貨車已因上開債權債務關係設定動產抵押與黃裕城之不實事項登載於其職務上所掌之動產擔保交易線上登記及公示查詢網站系統此一準公文書，足生損害於監理機關對於車輛管理之正確性。2.請不知情之監理站公務員依張綉惠、黃裕城之指示將忠城公司名下車牌號碼000-00號營業用大貨曳引車、車牌號碼00-00號營業用全拖車、車牌號碼000-00號營業用大貨車填載於交通部公路總局新竹區監理所桃園監理站收文字號101桃動交3020號與3022號動產擔保交易設定登記申請書之標的物說明欄及動產抵押契約書之抵押物欄，並於上開申請文件中將忠城公司填寫為債務人，並於動產擔保交易動產抵押設定登記申請書上之「債務人」及「抵押人」欄位盜蓋「忠城汽車貨運股份有限公司」及「黃文忠」之印文各2枚，於動產抵押契約書上之「債務人」及「抵押物提供人」欄位盜蓋「忠城汽車貨運股份有限公司」及「黃文忠」之印文各2枚後（共計盜蓋「忠城汽車貨運股份有限公司」之印文8枚、「黃文忠」之印文8枚），交由張綉惠於2份動產擔保交易動產抵押設定登記申請書、動產抵押契約書分別填載擔保債權最高限額100萬元、300萬元，並由黃裕城將其姓名填寫於債權人欄位並用印，以表彰黃裕城對忠城公司有400萬元之債權，且忠城公司將車牌號碼000-00號營業用大貨曳引車、車牌號碼00-00號營業用全拖車、車牌號碼000-00號營業用大貨車設定抵押予黃裕城。而黃裕城再將前開申請書、契約書交付予不知情之監理站公務員而行使之，使不知情之監理站公務員經形式審查後，將此不實事項登載於職務上所掌之動產擔保交易線上登記及公示查詢網站系統此一準公文書，足生損害於忠城公司及監理機關對於車輛管理之正確性。3.請不知情之監理站公務員依張綉惠、黃裕城之指示將黃文忠名下車牌號碼00-0000號自用小貨車填載於交通部公路總局新竹區監理所桃園監理站收文字號101桃動交3019號動產擔保交易動產抵押設定登記申請書之標的物說明欄及動產抵押契約書之抵押物欄，並於上開申請文件中將黃文忠填寫為債務人，並於動產擔保交易動產抵押設定登記申請書上之「債務人」及「抵押人」欄位盜蓋「黃文忠」之印文共2枚，於動產抵押契約書上之「債務人」及「抵押物提供人」欄位盜蓋「黃文忠」之印文共2枚後（共計盜蓋「黃文忠」之印文4枚），交由張綉惠於動產擔保交易動產抵押設定登記申請書、動產抵押契約書填載擔保債權最高限額100萬元，並由黃裕城將其姓名填寫於債權人欄位並用印，以表彰黃裕城對黃文忠有100萬元之債權，且黃文忠將車牌號碼00-0000號自用小貨車設定抵押予黃裕城。而黃裕城再將前開申請書、契約書交付予不知情之監理站公務員而行使之，使不知情之監理站公務員經形式審查後，將此不實事項登載於職務上所掌之動產擔保交易線上登記及公示查詢網站系統此一準公文書，足生損害於黃文忠及監理機關對於車輛管理之正確性。理由壹、程序部分：按刑事訴訟法第159條之5立法意旨，在於確認當事人對於傳聞證據有處分權，得放棄反對詰問權，同意或擬制同意傳聞證據可作為證據，屬於證據傳聞性之解除行為，如法院認為適當，不論該傳聞證據是否具備刑事訴訟法第159條之1至第159條之4所定情形，均容許作為證據，不以未具備刑事訴訟法第159條之1至第159條之4所定情形為前提。此揆諸「若當事人於審判程序表明同意該等傳聞證據可作為證據，基於證據資料愈豐富，愈有助於真實發見之理念，此時，法院自可承認該傳聞證據之證據能力」立法意旨，係採擴大適用之立場。蓋不論是否第159條之1至第159條之4所定情形，抑當事人之同意，均係傳聞之例外，俱得為證據，僅因我國尚非採澈底之當事人進行主義，故而附加「適當性」之限制而已，可知其適用並不以「不符前四條之規定」為要件。惟如符合第159條之1第1項規定之要件而已得為證據者，不宜贅依第159條之5之規定認定有證據能力，最高法院104年度第3次刑事庭會議決議可資參照。查本件下列所引用之被告以外之人於審判外之陳述，均經被告於本院行準備程序時同意有證據能力（見本院103年度審訴字第1492卷第37頁），復經本院審酌上開證據資料製作時之情況，尚無違法取得及證明力明顯過低之瑕疵，認以之作為證據應屬適當，而認為前開審判外之陳述得為證據。貳、實體部分：一、犯罪事實一（一）部分：（一）訊據被告張綉惠、黃裕城固坦承於100年9月27日簽立前開土地之買賣契約書、並填具土地登記申請書、土地所有權買賣移轉契約書後，於100年10月21日委由地政士持上開土地買賣契約書、土地登記申請書、土地所有權買賣移轉契約書向桃園縣八德市地政事務所之該管公務員，以買賣為原因，申請將上開土地移轉登記至黃裕城名下，而該管公務員經形式審查後，即將被告黃裕城以買賣為原因取得上開土地所有之事項登載於土地登記謄本此一其職務上所掌之公文書，惟矢口否認有何使公務員登載不實犯行，並均辯稱：我們確實有實際買賣上開土地云云，惟查：1.被告張綉惠、黃裕城於100年9月27日簽立前開土地之買賣契約書、並填具土地登記申請書、土地所有權買賣移轉契約書後，於100年10月21日委由地政士以買賣為原因，持上開土地買賣契約書、土地登記申請書、土地所有權買賣移轉契約書向桃園縣八德市地政事務所之該管公務員申請將上開土地移轉登記至黃裕城名下，而該管公務員經形式審查後，即將被告黃裕城以買賣為原因取得上開土地所有之事項登載於土地登記謄本此一其職務上所掌之公文書等情，業據被告張綉惠、黃裕城供承不諱，與證人黃文忠於本院審理時之證述相符（見本院訴字卷一第142-144頁反面），並有桃園縣八德地政事務所103年5月14日德地登字第1030005355號函暨土地登記公務用謄本、建物登記公務用謄本、網路申領《異動索引》、100年10月20日德資字第0000000號土地登記申請書、桃園縣政府地方稅務局土地增值稅繳款書、土地所有權買賣移轉契約書、臺灣省桃園縣八德市戶政事務所戶印證字第0000000號印鑑證明、財政部臺灣省北區國稅局100年10月19日贈與稅免稅證明書、101年1月11日德資字第0000000號土地登記申請書、繳款書、桃園縣政府地方稅務局總局101年契稅繳款書、建築改良物所有權贈與移轉契約書、財政部臺灣省101年1月9日贈與稅免稅證明書在卷可稽（見102年度他字第4223號卷第53-80頁），上情已堪認定。2.被告張綉惠、黃裕城雖以前詞置辯，然查：(1)證人黃文忠於本院審理時證述：我的了解是，被告張綉惠實際上是用贈與的方式將前開土地過戶給被告黃裕城，被告黃裕城根本就剛畢業，沒有錢，大學也是我花錢讓他讀的等語（見本院訴字卷一第144頁反面）。此外，被告張綉惠於偵查時亦一度供稱：我認為我們的財產遲早要給被告黃裕城，所以我就過給被告黃裕城等語（見102年度他字第4223號卷第45頁），衡諸被告黃裕城於100年9月至10月前開土地過戶期間，年僅25歲，確為一般成年男性大學畢業服完兵役後出社會工作1至2年之歲數，且經本院調閱被告黃裕城於99年、100年之稅務電子閘門財產所得調件明細表，亦顯示被告黃裕城在99年間之薪資所得及其他所得，僅為42萬5343元，在100年間之薪資所得及其他所得，僅為73萬722元，有上開調件明細表附卷可考（見本院訴字卷二第50-57頁），足認被告黃裕城其時資力確實有限，應無憑一己之力購買價值動輒高達數百萬元房地之能力。另衡以父母生前即將財產過繼給子女，確為我國社會普遍之慣行，故應認為證人黃文忠上開證述及被告張綉惠上開供述，均與常理相符而可堪採信，被告張綉惠應係以贈與方式將前開土地移轉與被告黃裕城甚明。(2)至被告張綉惠嗣後雖改稱：前開土地是以買賣方式移轉與被告黃裕城云云，被告黃裕城亦辯稱其與被告張綉惠係買賣關係，然觀諸被告張綉惠於偵查時供稱：我們確實是買賣，但價錢我忘記了，應該不只400萬元等語（見102年度他字第4223號卷第45頁），被告黃裕城於偵查時供稱：前開土地及房屋都是我向被告張綉惠購買的，價金約400萬、500萬元，因為是家人，我就沒有給頭期款，也沒有印象總共給多少錢，都是用現金陸陸續續交付等語（見102年度他字第4223號卷第45頁），與前開土地之土地所有權買賣移轉契約書顯示：前開土地買賣價金為218萬8580元之情（見102年度他字第4223號卷第67頁），均有相當大之落差。衡以買賣房地，為人生大事，且因房地之買賣多半支出甚鉅，購買房地者對於房地價金，往往錙銖必較，豈有確有房地買賣事實，然對於房地究竟是贈與或買賣前後說詞反覆，甚至雖口稱為買賣，但記憶之價金與契約書所標示之價金有高達200萬元左右出入之可能？是從偵查時被告張琇惠對於前開土地移轉原因為買賣或贈與說詞反覆，且被告2人所供稱之價金皆與契約書所載有高達200萬元左右之出入，應可認為被告張綉惠、黃裕城稱前開土地移轉原因為買賣云云，僅為臨訟杜撰，不可採信。(3)另被告張綉惠、黃裕城雖於本院審理時稱被告黃裕城有向中國信託商業銀行借款267萬元以償還積欠被告張綉惠之房地買賣價金等語（見本院審訴字卷第36頁），並提出被告黃裕城於101年10月25日向中國信託商業銀行（下稱中國信託商銀）借款267萬元之借款契約為依據（見本院審訴字卷第43頁），然被告黃裕城既然僅積欠被告張綉惠價金218萬元，卻向中國信託商銀借款267萬元以清償積欠價金，此已不符事理，況被告黃裕城方於偵查中供稱是陸續交付現金與被告張綉惠以清償欠款，於本院審理時又改稱是直接向中國信託商銀借款後償還欠款，前後亦明顯不一，是可徵被告張綉惠、黃裕城上開辯詞，亦為杜撰之詞，無可採取。(4)綜上，被告張綉惠係以贈與為原因移轉前開土地與被告黃裕城，然彼等卻以上揭方式，向地政機關該管公務員佯稱為買賣，使該管公務員形式審查後登載於職務上所掌之土地登記謄本，其所為使公務員登載不實犯行均堪以認定。二、犯罪事實一、（二）部分：（一）訊據被告張綉惠、黃裕城就犯罪事實一、（二）、1均坦承不諱，並就犯罪事實一、（二）、2及3部分，坦承渠等於101年1、2月間，聽從真實姓名年籍不詳之成年友人建議後，由被告張綉惠持其保管之忠城公司大小章，與黃裕城一同於101年2月20日至交通部公路總局新竹區監理所桃園監理站，以上揭方式完成前開動產抵押設定行為，惟矢口否認有何使公務員登載不實或行使偽造私文書犯行，並均辯稱：被告黃裕城在去申辦動產抵押登記前，有打電話給黃文忠詢問是否能將忠城公司及黃文忠名下車輛辦理動產抵押給被告黃裕城，並在電話中得到黃文忠口頭同意，且被告黃裕城於101年2月20日以前有陸續從銀行提領現金約25萬元給黃文忠，被告黃裕城確實對黃文忠有債權云云，惟查：1.被告張綉惠、黃裕城於101年1、2月間，聽從真實姓名年籍不詳之成年友人建議後，由被告張綉惠持其保管之裕城企業社、忠城公司大小章，與被告黃裕城一同於101年2月20日至交通部公路總局新竹區監理所桃園監理站，請不知情之監理站公務員提供動產擔保交易動產抵押設定登記申請書、動產抵押契約書，並填具前開動產擔保申請文件及蓋章用印後，被告黃裕城再將前開申請文件交付予監理站公務員，使監理站公務員經形式審查後，將裕城企業社、忠城公司、告訴人黃文忠因債權債務關係，而將名下之前開車輛設定動產抵押與被告黃裕城之事項，登載於職務上所掌之動產擔保交易線上登記及公示查詢網站系統此一準公文書等情，業據被告張綉惠、黃裕城於本院審理時供承不諱，與告訴人黃文忠之指訴相符（見本院訴字卷第144頁反面-第152頁），並有交通部公路總局新竹區監理所桃園監理站103年1月20日竹監桃字第1030002372號函暨101桃動交03019、03020、03021、03022號動產擔保交易動產抵押設定登記申請書、動產抵押契約書、交通部公路總局各區監理所（站）車輛動產擔保交易登記作業手冊附卷可參（見102年度他字第4223號卷第27頁-第37頁反面），此外，被告黃裕城實際上並未借款給裕城企業社，故犯罪事實一、（二）、1之動產抵押登載係屬不實乙情，亦經被告張綉惠、黃裕城於本院審理時供認明確（見本院訴字卷二第25頁正反面），上情已堪認定。2.被告張綉惠、黃裕城就犯罪事實一、（二）、2及3部分，雖以前詞置辯，然查：(1)證人黃文忠於本院審理時證稱：我從來沒有同意過被告張綉惠或黃裕城將登記於我或忠城公司名下之車輛辦理動產抵押，也從來沒有跟被告黃裕城借過錢，被告黃裕城當時才剛大學畢業，哪裡有錢能借我，我怎麼可能會跟被告黃裕城借錢？另外我是在要去賣掉車號000-00號營業用大貨曳引車時，監理站告訴我該車已經被辦理動產抵押等語（見本院訴字卷一第146-148頁），且觀諸被告黃裕城提出之土地銀行八德分行存摺往來明細顯示，被告黃裕城於該書證中聲稱於99年11月26日從帳戶提領2萬1000元、於10年3月29日從帳戶提領10萬元，於100年9月16日從帳戶提領2萬9000元，於100年11月16日從帳戶提領20萬元，加總共計不過為35萬元（見本院審訴字卷第40-42頁），證人黃文忠即便欲為被告黃裕城辦理動產抵押，又如何需要用忠城公司名義為被告黃裕城辦理最高限額高達100萬元、300萬元，及以自己名義為被告黃裕城辦理最高限額高達100萬元之動產抵押？基此，已可見證人黃文忠之證述方與事理相符，被告張綉惠、黃裕城之辯詞則顯與常理有違而難堪採信。(2)抑且，衡諸社會常情，以自己公司財產為他人辦理動產抵押，一有無法如期清償欠款情事，抵押權人如行使抵押權，立即可能影響公司正常營運，對公司存亡事關重大，告訴人黃文忠為忠城公司及裕城企業社負責人，經營企業多年，有相當之商場經歷，對此應知之甚稔，因而即便真因事業需要而將公司之營運車輛設定動產抵押，必然也要經深思熟慮，分析權衡利弊得失後方可能為之，要無可能在驟然聽聞他人詢問後即貿然應允。惟依被告黃裕城於本院審理時供述：我與被告張綉惠在101年2月20日至監理站辦理動產抵押前，有打電話給告訴人黃文忠，問告訴人黃文忠能否將前開車輛辦理動產抵押，告訴人黃文忠在電話裡也口頭同意，我們才會去辦理云云（見本院訴字卷二第27頁反面），依其所稱，其竟是在準備前往監理所辦理動產抵押前才電詢告訴人黃文忠，而告訴人黃文忠身為裕城企業社及忠城公司之負責人，在商場打滾多年，也竟絲毫不知此事對公司營運影響甚大，旋即在電話中驟然應允被告黃裕城，此實與事理有違，亦徵被告張綉惠、黃裕城上開辯詞，均屬杜撰之詞，不可採信，其等均明知被告黃裕城並非裕城企業社、告訴人黃文忠或忠城公司之債權人，且告訴人黃文忠更未授權被告黃裕城將其名下及忠城公司名下前開車輛設定動產抵押，竟仍於101年2月20日至監理站偽辦上開動產抵押之犯行足堪認定。（二）綜上，本件事證已明，被告張綉惠、黃裕城就犯罪事實一、（二）之犯行已堪認定，應予依法論科。三、論罪科刑及沒收：（一）按在紙上或物品上之文字、符號、圖畫、照像，依習慣或特約，足以為表示其用意之證明者，關於本章及本章以外各罪，以文書論。錄音、錄影或電磁紀錄，藉機器或電腦之處理所顯示之聲音、影像或符號，足以為表示其用意之證明者，亦同，刑法第220條定有明文。查監理站公務員職務上所掌之動產擔保交易線上登記及公示查詢網站系統中所記載之動產擔保交易登記事項，可藉電腦運算處理電磁紀錄顯示影像，以表彰動產擔保交易當事人設定動產擔保用意之證明，自應依刑法第220條規定，以文書論。故核被告張綉惠、黃裕城所為，就犯罪事實一、（一）部分，均係犯刑法第214條使公務員登載不實罪；就犯罪事實一、（二）部分，均係犯刑法第214條使公務員登載不實、同法第216條、第210條行使偽造私文書罪。被告張綉惠、黃裕城就犯罪事實一、（二）之時間、地點於交通部公路總局新竹區監理所桃園監理站收文字號101桃動交3019號、101桃動交3020號與101桃動交3022號動產擔保交易設定登記申請書暨所附契約書上盜蓋黃文忠、忠城公司印鑑之行為，係為偽造私文書之部分行為，又被告張綉惠、黃裕城偽造私文書之低度行為，為行使偽造私文書之高度行為所吸收，均不另論罪。又被告張綉惠、黃裕城就犯罪事實一、（二）所為，係以一行為而觸犯行使偽造私文書罪及使公務員登載不實罪，應依刑法第55條規定，從一重之行使偽造私文書罪處斷。被告張綉惠、黃裕城就犯罪事實一、（一）、一、（二）所為犯行，均犯意各別，行為互殊，應予分論併罰。又被告張綉惠與黃裕城就犯罪事實一、（一）、一、（二）之犯行，有犯意聯絡及行為分擔，應論以共同正犯。（二）至公訴意旨雖未就被告張綉惠所為犯罪事實一、（二）、2、3之使公務員登載不實及行使偽造私文書部分犯行於起訴書犯罪事實欄中敘明，惟被告張綉惠既已於本院審理時供述：我在101年2月20日與被告黃裕城一同至桃園監理站辦理前開忠城公司及告訴人黃文忠名下車輛之動產抵押申請，申請文件上填載的擔保債權最高限額的金額都是我填寫等語（見本院卷第26頁、第27頁反面），顯然被告張綉惠就被告黃裕城所為犯罪事實一、（二）、2、3之犯行，亦有參與之事實而與被告黃裕城有犯意聯絡及行為分擔，且因被告張綉惠所為犯罪事實一、（二）、2、3部分，與業據起訴書犯罪事實欄載明之犯罪事實一、（二）、1之犯行屬一罪關係，為起訴效力所及，本院自得併予審理，併此敘明。（三）爰以行為人之責任為基礎，審酌被告張綉惠、黃裕城就犯罪事實一、（一）之犯行，危害國家機關對於產權登記之正確性，就犯罪事實一、（二）之犯行，除危害國家機關對於車輛管理之正確性，亦侵害忠城公司與告訴人黃文忠合法行使前開車輛所有權之權能，且未經同意權人同意即私自辦理動產抵押之車輛多達4部，違反法規範之情節難認輕微而誠不足取，雖被告張綉惠、黃裕城均無偽造文書之前案紀錄，惟迄今除犯罪事實一、（二）、1部分外均否認犯行，亦未能與告訴人黃文忠達成和解，暨被告張綉惠、黃裕城之學經歷、家庭經濟狀況、智識程度等一切情狀，分別量處如主文所示之刑及定執行刑，並均諭知易科罰金之折算標準。（四）被告張綉惠、黃裕城於犯罪事實一、（二）、2所示之2份動產擔保交易動產抵押設定登記申請書上之「債務人」及「抵押人」欄位盜蓋「忠城汽車貨運股份有限公司」及「黃文忠」之印文各4枚，及於動產抵押契約書上之「債務人」及「抵押物提供人」欄位盜蓋「忠城汽車貨運股份有限公司」及「黃文忠」之印文各4枚，以及於犯罪事實一、（二）、3所示之動產擔保交易動產抵押設定登記申請書上之「債務人」及「抵押人」欄位及動產抵押契約書上之「債務人」及「抵押物提供人」欄位盜蓋「黃文忠」之印文共4枚（合計盜蓋之忠城汽車貨運股份有限公司印文共8枚，盜蓋之黃文忠印文共12枚），應依刑法第219條規定，不問屬於被告張綉惠、黃裕城與否，均諭知沒收。據上論斷，應依刑事訴訟法第299條第1項前段、刑法第28條、第216條、第210條、第214條、第55條、第41條第1項前段、第8項、第51條第5款、第219條，刑法施行法第1條之1第1項、第2項前段，判決如主文。本案經檢察官王鈺玟、彭師佑、葉詠嫻到庭執行職務。中華民國106年6月13日刑事第七庭審判長法官鄭吉雄法官梁志偉法官蕭淳尹以上正本證明與原本無異。如不服本判決應於收受判決後10日內向本院提出上訴書狀，並應敘述具體理由。其未敘述上訴理由者，應於上訴期間屆滿後20日內向本院補提理由書(均須按他造當事人之人數附繕本)「切勿逕送上級法院」。書記官黃志微中華民國106年6月14日附錄本案論罪科刑法條中華民國刑法第214條（使公務員登載不實罪）明知為不實之事項，而使公務員登載於職務上所掌之公文書，足以生損害於公眾或他人者，處3年以下有期徒刑、拘役或5百元以下罰金。中華民國刑法第216條（行使偽造變造或登載不實之文書罪）行使第210條至第215條之文書者，依偽造、變造文書或登載不實事項或使登載不實事項之規定處斷。中華民國刑法第210條（偽造變造私文書罪）偽造、變造私文書，足以生損害於公眾或他人者，處5年以下有期徒刑。\n",
            "Article Index: 343 Distance: 0.3769808004763522\n",
            "Article Text: 一、連政平日以向他人收購機車轉售為業，盧聖元（原名：盧秉豐）則以按件計酬方式，受連政委任代為出面向他人收購機車。緣葉家妤於民國107年9月29日，因其行動電話通訊軟體LINE（下稱LINE）上接收真實姓名不詳之人傳送之「辦機車換現金（8萬），辦門號換現金（2萬），美國捐卵（30萬）限女，客服電話0000000000，有專人為您服務哦!」文字訊息，遂輾轉聯絡上連政，雙方聯繫由葉家妤購入機車轉賣連政換取現金，並相約於同年10月4日在址設屏東縣屏東市○○路0000號之統一超商（下稱前揭超商）辦理機車換現金事宜。為此，葉家妤先於同年10月3日下午某時前往址設屏東縣內某機車行，以分期付款之方式，購買新臺幣（下同）8萬5,000元之車牌號碼000-0000號普通重型機車（下稱系爭機車），繼於翌（4）日下午某時，葉家妤取得系爭機車後，即於同日夜間某時前往前揭超商與由連政委任到場之盧聖元見面，盧聖元到場即先提出如附表編號1至3所示文書要求葉家妤預先簽名、用印，葉家妤即依指示簽名、用印，嗣因雙方未能談定系爭機車收購價格即各自離開。詎連政與盧聖元均明知連政與葉家妤間並無債權債務關係，更非葉家妤債權人，為使葉家妤無法將系爭機車轉售他人，竟共同基於使公務員登載不實之犯意聯絡，由盧聖元將如附表編號1所示文書拍照並以LINE傳給連政，再由連政連接網際網路連結至車輛監理機關之車輛動產擔保線上登記系統，以車輛貸款事宜為設定事由申請設定動產抵押權，並附加如附表編號1所示文書，於當日19時11分2秒上傳至交通部公路總局金門監理站，使不知情之監理站承辦公務員經形式審查後，以電腦處理將債權人連政、債務人葉家妤，抵押之動產為系爭機車，擔保債權額8萬元，契約有效期間自107年10月4日至108年10月4日等不實事項，登載於其職務上所掌之動產擔保交易線上登記系統此一電腦電磁紀錄之準公文書，設定系爭機車之動產抵押權予連政，足生損害於葉家妤及車輛監理機關車輛管理之正確性。嗣葉家妤於屏東縣內某處連接網際網路連結車輛管理系統網站查詢，始悉上情。二、案經葉家妤訴由臺灣屏東地方檢察署檢察官偵查起訴。理由壹、程序部分：一、被告以外之人於審判外之言詞或書面陳述，除法律有規定者外，不得作為證據，刑事訴訟法第159條第1項固定有明文；惟按被告以外之人於審判外之陳述，雖不符同法第159條之1至之4之規定，而經當事人於審判程序同意作為證據，法院審酌該言詞陳述或書面陳述作成時之情況，認為適當者，亦得為證據，同法第159條之5第1項，亦定有明文。經查，本判決後述資以認定本案而具傳聞性質之證據，檢察官、被告連政、盧聖元暨其辯護人均同意有證據能力（見本院卷第111、128、180頁），基於尊重當事人對於傳聞證據之處分權，及證據資料愈豐富，愈有助於真實發現之理念，復經本院審酌該等證據之作成情況，核無違法取證或其他瑕疵，並與本案均具關聯性，認為以之作為證據為適當，依上開條文規定，自具證據能力。二、被告盧聖元暨其辯護人另爭執證人即告訴人葉家妤於警詢時之所述無證據能力等語（見本院卷第128、180頁），因該等證據並未經本院持以認定本案之犯罪事實，自無庸贅論該等證據之證據能力問題，附予說明。貳、實體部分：一、訊據被告連政、盧聖元（下合稱被告2人）俱不否認被告連政曾與告訴人葉家妤聯繫收購機車事宜，嗣被告盧聖元受被告連政委任前往前揭超商與告訴人簽署文書，迨告訴人於如附表編號1至3所示文書簽名、用印，被告盧聖元即將其中如附表編號1所示文書拍照並以LINE傳送予被告連政，被告連政遂連接網際網路連結至車輛監理機關之車輛動產擔保線上登記系統，申請設定系爭機車之動產抵押權，並經承辦公務員以電腦處理後將債權人連政、債務人葉家妤，抵押之動產即為系爭機車，擔保債權額8萬元，契約有效期間107年10月4日至108年10月4日等事項，登載於其職務上所掌之動產擔保交易線上登記系統此一電腦電磁紀錄之準公文書，設定系爭機車之動產抵押權予被告連政之事實，惟皆矢口否認有何使公務員登載不實之犯行，被告連政、盧聖元暨其辯護人同辯稱：本案是因為告訴人嗣後因價格不符合期待而反悔不賣機車，始生爭議。使告訴人填載、簽署如附表編號1至3所示文書，並設定動產抵押權，是為了避免賣家於我方交付價金後、辦理機車過戶前之空檔，再將機車變賣他人，造成無法如期收車的損失。事前被告盧聖元有向告訴人說明，告訴人也知悉並同意簽署云云（見本院卷第109、110、125、126、211、262、263至265頁）。經查：㈠告訴人於107年9月29日，因其LINE上接收真實姓名不詳之人傳送之「辦機車換現金（8萬），辦門號換現金（2萬），美國捐卵（30萬）限女，客服電話0000000000，有專人為您服務哦!」文字訊息，遂輾轉聯絡上被告連政，雙方聯繫由告訴人購入機車轉賣被告連政換取現金，並相約於同年10月4日在前揭超商辦理機車換現金事宜，為此，告訴人先於同年10月3日下午某時前往址設屏東縣內某機車行，以分期付款方式，購買8萬5,000元之系爭機車，繼於翌（4）日下午某時，告訴人取得系爭機車後，即於同日夜間某時前往前揭超商與由被告連政委任到場之被告盧聖元見面，被告盧聖元到場即先提出如附表編號1至3所示文書要求葉家妤預先簽名、用印，告訴人即依指示簽名、用印，嗣因雙方未能談定系爭機車收購價格即各自離開等節，業據證人葉家妤於偵查、本院審理時證稱：一開始我看到LINE上廣告急需用錢才去辦理分期付款購買系爭機車欲轉售，其後我與被告連政以LINE聯絡並約定交車的時間、地點，因為廣告中是寫辦機車換現金（8萬），因此我以為我以8萬5,000元購入新車，對方會以8萬元向我收購，因此我於107年10月3日下午購入系爭機車，隔日下午牽車、晚上前往前揭超商與被告盧聖元見面。被告連政於電話聯繫中並未跟我說確切的金額。我與被告盧聖元見面後還沒談到價錢，被告盧聖元就要求我先簽如附表1至3所示文書，並經我同意拿我的印章用印。當場與被告盧聖元談到的價格原是4萬多，再到5萬，後來我說沒辦法，系爭機車我留著自己使用、沒有要賣了。如果起初被告連政明確地說系爭機車我買8萬，將以5萬元收購，我就不會去交易了。價格談不攏之後，被告盧聖元就帶著我簽的如附表編號1至3所示文書離開，並稱是公司的資料不願返還給我。雖然我有簽如附表編號1所示文書，但我要求對方返還未果，我沒有同意讓被告2人設定動產抵押權等語（見偵續卷第51至53頁，本院卷第182至198頁），與證人蘇力翎於本院審理時證稱：我與告訴人一起看到LINE上的廣告，廣告上寫辦機車換現金（8萬）。當日我們一起將系爭機車騎到前揭超商準備交車，被告盧聖元去的時候就叫我們先簽資料，簽完之後被告盧聖元去領錢並跟我們說收購價格是5萬元，我們聽到後就說不要交易了，簽名的文件我們有跟對方要，但對方說是公司資料不能外洩，很急著東西拿了就走等語互核一致（見本院卷第199至201頁），並有LINE對話擷圖2幀、行動電話通話紀錄擷圖2幀、門號0000000000號通聯調閱查詢單在卷可考（見107年度他字第3600號卷【下稱他卷一】第4至7頁，發查卷第37頁）。且被告連政於警詢、檢察事務官詢問、本院準備程序時供稱：門號0000000000號是我申設、使用。與告訴人以LINE及門號聯繫的人是我等語明確（見發查卷第22至25頁，108年度他字第1266號卷【下稱他卷二第31頁】，本院卷第109、110頁），核亦與證人葉家妤前揭證述相符，可佐證人葉家妤前開所證，確有其事。㈡被告連政平日以向他人收購機車轉售為業，被告盧聖元則以按件計酬方式，受被告連政委任代為出面向他人收購機車。於107年10月4日夜間某時，被告盧聖元受被告連政委任前往前揭超商與告訴人見面。被告盧聖元將如附表編號1所示文書拍照並以LINE傳給被告連政，再由被告連政連接網際網路連結至車輛監理機關之車輛動產擔保線上登記系統，以車輛貸款事宜為設定事由申請設定動產抵押權，並附加如附表編號1所示文書，於當日19時11分2秒上傳至交通部公路總局金門監理站，使不知情監理站承辦公務員經形式審查後，以電腦處理將債權人連政、債務人葉家妤，抵押之動產即為系爭機車，擔保債權額8萬元，契約有效期間107年10月4日至108年10月4日等事項，登載於其職務上所掌之動產擔保交易線上登記系統此一電腦電磁紀錄之準公文書，設定系爭機車之動產抵押權予被告連政等情，業據被告盧聖元於本院準備程序時供稱：我曾在被告連政那邊幫忙一陣子，後來便離職，本案是我在被告連政那邊幫忙時發生的。我在工作時都自稱為「范先生」，在公司LINE群組中我也是使用這個名字。我跟告訴人說我是收購機車公司的業務，當天是被告連政交代我自新北市開車南下，與告訴人見面簽約並且收購機車，附表編號1至3所示文書是我帶去讓告訴人簽的，附表編號1所示文書上車籍資料、日期是我當場所寫，其上「捌萬」及被告連政的個人資料是被告連政事先寫好，告訴人的印章是請她自己蓋的，並未違反告訴人意願；附表編號1、2所示文書上車籍資料、日期是我填寫，我請告訴人填寫我打勾的地方，之後，我將前揭文字拍照傳給被告連政供其設定系爭機車之動產抵押權等語（見本院卷第125、126頁）；被告連政於本院準備程序時供稱：LINE群組中「范先生」是被告盧聖元，被告盧聖元將如附表編號1所示文書用LINE傳給我，其上的「捌萬」及我的個人資料是我先寫好的，牌照資料是到現場被告盧聖元與告訴人寫的，設定動產抵押權只需要這一份文書，其後我將這份文書上傳至監理所網站辦理設定等語（見本院卷第110頁）相符，並有被告連政提出之LINE對話紀錄1幀、動產抵押權申辦成功網頁擷圖1幀、交通部公路總局臺北市區監理所金門監理站110年9月1日北市監金站字第1100157969號函暨檢附之設定書、契約書、車輛動產擔保查詢資料在卷可查（見他卷一第12頁，本院卷第117、119、155至163頁）。又被告連政以網路申請設定動產抵押權，一經上傳填載資料、附件即完成設定，且申請文件即得用以代證明書，監理站公務員毋庸審查並無從知悉當事人間債權債務關係之存否、真偽，而屬形式審查。㈢被告連政於本院準備程序時供稱：附表編號1所示文書上雖載「本抵押物擔保範圍，為甲方對乙方於107年10月4日所立貸款契約發生之債務」，但實際上我與告訴人間並無貸款契約，這份文書只是讓我能夠順利收車的工具，且在車界行之有年，本案是因為告訴人事後反悔才會有問題等語（見本院卷第110頁）；被告盧聖元於本院準備程序時亦供稱：我們與告訴人談的是買賣機車，並非借款等語（見本院卷第125頁），可見前揭動產抵押登記事項，確非實在。又被告2人自始即係因系爭機車收購問題與告訴人聯繫，其等自俱明知被告連政非告訴人之債權人，亦未對告訴人具有8萬元之債權，雙方間不存何借貸債權債務關係，兼之被告2人亦自承其使用如附表編號1所示文書設定系爭機車之動產抵押權，係為避免過戶前告訴人再將系爭機車賣與他人，致收購機車不遂等語（見本院卷第110、262、263頁），足見前揭動產抵押之設定，僅係被告2人為使告訴人無法轉售系爭機車之手段。是被告2人主觀上明知為不實事項，為使告訴人無法轉售系爭機車，猶使公務員將前揭不實事項登載於所掌公文書，其等具有使公務員登載不實之犯意甚明。故被告盧聖元之辯護人辯稱被告盧聖元主觀上認為上傳的照片中內容是正確的，並無使公務員登載不實之犯意等語（見本院卷266頁），應無足採。㈣被告連政、盧聖元暨其辯護人雖執前詞為辯，並援引檢察事務官勘驗筆錄作為告訴人同意5萬元出售系爭機車之佐證，被告2人復分別於本院審理時以證人身分具結作證，其中被告盧聖元以證人身分證稱：當天我於約好的時間抵達前揭超商，我看一下系爭機車沒有什麼狀況便回報給被告連政，被告連政跟我說以4萬8,000元收購，告訴人有意見，因此我幫告訴人與被告連政溝通，後來雙方同意以5萬元交車，接下來我與告訴人就簽合約，並在如附表編號3所示文書上填載「車價為新台幣伍萬」，並告知告訴人合約內容以及如何填寫，告訴人填載完畢後我就在前揭超商將如附表編號1所示文書傳給被告連政。因為當天晚上真的來不及過戶，所以才簽了如附表編號1所示文書，在我們完成過戶前，車子是在設定為抵押品的狀態，完成過戶之後這個合約就會作廢，告訴人是寫完合約之後又反悔說不要等語（見本院卷第232至234頁）；被告連政同於本院審理時以證人證稱：我收車要到現場看實際狀況才能決定金額。本件一開始跟告訴人是從4萬5,000元或4萬8,000元開始談，到現場報價，告訴人聽了覺得不OK，後來談到5萬元時她就同意了，然後我們才做後續簽約的動作。倘若是空白文書沒有人會願意簽署。因為一般到現場跟客人收車會直接去監理站過戶，但當天監理站已經關門，所以收車之前我們都會跟客人說為什麼要設定動產抵押，客人也同意才簽的。如附表編號1所示文書上面寫8萬是因為基本上機車金額大概就是8萬上下，是固定的等語（見本院卷第240至245頁）。惟證人葉家妤、蘇力翎均一致證述當時並未談妥系爭機車收購金額，亦未同意設定動產抵押權予被告連政等語如前（見本院卷第183至210頁），況告訴人甫以8萬5,000元購入該車，豈會於翌日即同意折價近半轉售，被告2人所辯實違常理。被告2人所供前詞，尚難逕信。至其等所辯設定動產抵押係為妨止阻礙出賣人轉售機車等語，核屬其等本案犯罪動機，惟其等設定之動產抵押內容確有不實，已如前述，自仍該當本罪。是被告連政、盧聖元暨其辯護人所辯應無可採。㈤綜上所述，本案事證已臻明確，被告連政與盧聖元暨其辯護人所辯俱不足憑採，被告2人使公務員登載不實犯行洵堪認定，均應依法論科。二、論罪科刑㈠核被告2人所為，均係犯刑法第214條之使公務員登載不實罪。㈡刑法之共同正犯，各行為人彼此間之犯意聯絡，並不以直接者為限，祇要有中間行為人，溝通其上下或左右人員，達致相互利用、共同完成犯罪之意思者，即克當之；易言之，具有間接之意思聯絡者，仍然屬之，不以全部行為人在場或全程參與為必要。又共同正犯之行為人已形成一個犯罪共同體，彼此相互利用，並以其行為互為補充，以完成共同之犯罪目的。故其所實行之行為，非僅就自己實行之行為負其責任，並在犯意聯絡之範圍內，對於他共同正犯所實行之行為，亦應共同負責。此即所謂「一部行為全部責任」之法理。被告2人分別負責以電話聯繫告訴人、至現場與告訴人簽約、傳送如附表編號1所示文書照片以及上傳、設定前揭系爭機車動產抵押之方式彼此分工，依被告2人之犯罪情節以觀，被告2人係藉由各司其職，彼此相互利用，並以其等行為互為補充，以達其等共同犯罪目的，自應共負其責。準此，被告2人就本案使公務員登載不實犯行，均有犯意聯絡、行為分擔，應論以共同正犯。被告盧聖元之辯護人辯以被告盧聖元應僅成立幫助犯等語（見本院卷第266頁），惟被告盧聖元有前揭行為分擔，主觀上亦知悉其行為是本案動產抵押設定所不可或缺，與被告連政間具有犯意聯絡，而該當本罪共同正犯，辯護人所辯應無足採。㈢被告2人前揭犯罪之科刑，爰以各別被告之責任為基礎，並審酌被告2人所為有害國家機關對於車輛管理之正確性，亦侵害告訴人合法行使前開車輛所有權之權能，違反法規範之情誠不足取。繼審之被告2人飾卸辯詞，亦未能與告訴人達成和解之犯罪後態度。惟衡被告2人俱未曾因故意犯罪觸犯刑律經判處罪刑等情，有臺灣高等法院被告前案紀錄表1份在卷可按，素行皆非惡（見本院卷第17至24頁）。復酌被告2人於上述本案之角色地位、行為分擔與違反義務之程度。暨考量被告2人於本院審理時自陳之學、經歷、家庭生活及經濟狀況等情（見本院卷第263頁），分別量處如主文所示之刑，併諭知如易科罰金，以1,000元折算1日之標準。據上論斷，應依刑事訴訟法第299條第1項前段，刑法第28條、第214條、第41條第1項前段，刑法施行法第1條之1第1項，判決如主文。本案經檢察官蔡榮龍提起公訴，檢察官施柏均、吳政洋到庭執行職務。中華民國110年11月16日刑事第四庭審判長法官黃柏霖法官林敬超法官錢毓華以上正本證明與原本無異。如不服本判決應於收受判決後20日內向本院提出上訴書狀，並應敘述具體理由；其未敘述上訴理由者，應於上訴期間屆滿後20日內向本院補提理由書（均須按他造當事人之人數附繕本）「切勿逕送上級法院」。中華民國110年11月16日書記官郭淑芳附錄本案論罪科刑法條：刑法第214條。中華民國刑法第214條明知為不實之事項，而使公務員登載於職務上所掌之公文書，足以生損害於公眾或他人者，處三年以下有期徒刑、拘役或一萬五千元以下罰金。附表\n",
            "Article Index: 53 Distance: 0.38689673068917796\n",
            "Article Text: 一、林雯瑄（原名林嫦芬）為張學祥（民國98年10月30日被聲請禁治產，99年2月12日經法院宣告為受監護人，張學禮為其監護人）之前配偶（經本院於100年4月20日以99年度婚字第996號民事判決離婚確定在案）。林雯瑄趁張學祥因中風，無法處理自己事務，且由其弟張學祺接回新北市新店區同住之際，竟意圖為自己不法所有，基於行使偽造私文書及使公務員登載不實之犯意，未經張學祥之同意及授權，於98年10月15日，持張學祥所有之車牌號碼PM3-622號機車（下稱系爭機車）行車執照、國民身分證及印章等物，前往交通部公路總局臺中區監理所，擅自以代辦人身分填寫在汽（機）車過戶登記書各欄事項，並於該登記書原車主名稱欄偽簽張學祥之姓名，並盜蓋張學祥之印章，而完成偽造張學祥同意將系爭機車過戶登記予自己之私文書後，連同張學祥之國民身分證、印章交予不知情之監理所承辦機車過戶登記之公務員而行使之，致使該不知情公務員為形式審查後，將上開機車過戶予林雯瑄之不實事項，登載於其職務上所掌之汽（機）車過戶登記書之公文書，足生損害於張學祥及監理機關對於車輛過戶管理之正確性。二、案經張學祥之監護人張學禮委由莊慶洲律師、陳浩華律師訴由臺灣臺中地方法院檢察署檢察官偵查起訴。理由一、按被告以外之人於偵查中向檢察官所為陳述，除顯有不可信之情況者外，得為證據，刑事訴訟法第159條之1第2項定有明文。蓋因檢察官與法官同為司法官署，且檢察官代表國家偵查犯罪，依法有訊問被告、證人及鑑定人之權力，且須對被告有利、不利之情形均應注意，況徵諸實務運作，檢察官實施刑事偵查程序，亦能恪遵法定程序之要求，不致有違法取證情事且可信度極高，是被告以外之人前於偵查中已具結而為證述，除反對該項供述得具有證據能力之一方，已釋明「顯有不可信之情況」之理由外，不宜以該證人未能於審判中接受他造之反對詰問為由，即遽指該證人於偵查中之陳述不具證據能力，方符前揭法條之立法意旨。查本案證人張學祺、張世儀於檢察官偵訊時以證人身分所為之陳述，業經具結，以擔保其等證言之真實性，被告既未爭執證據能力，亦未釋明上開證人之偵訊證述有何「顯不可信之情況」，依上開說明，上開證人於偵查中之證言自具有證據能力。二、按當事人、代理人或辯護人於法院調查證據時，知有第159條第1項不得為證據之情形，而未於言詞辯論終結前聲明異議者，視為有前項之同意，刑事訴訟法第159條之5第2項定有明文，乃係基於證據資料愈豐富，愈有助於真實發現之理念，酌採當事人進行主義之證據處分權原則，並強化言詞辯論主義，透過當事人等到庭所為之法庭活動，在使訴訟程序順暢進行之要求下，承認傳聞證據於一定條件內，得具證據適格。本件告訴人於偵查中之陳述，固屬傳聞證據，然檢察官及被告就此部分證據均未爭執無證據能力，且迄至本院言詞辯論終結前均未聲明異議，本院審酌告訴人於偵訊中之陳述並無不法或不當情形，且與本案犯罪事實有重要關聯性，認以之為本案之證據為適當，故應認有證據能力。三、訊據被告固坦承於上揭時間，持張學祥所有之系爭機車行車執照、國民身分證及印章等物，前往交通部公路總局臺中區監理所，填寫在汽（機）車過戶登記書各欄事項，並於該登記書原車主名稱欄簽署張學祥之姓名，並蓋用張學祥之印章後，交予承辦機車過戶登記之公務員辦理過戶登記該機車在自己名下等情，惟否認有何行使偽造私文書及使公務員登載不實犯行，辯稱張學祥之印鑑、機車證件是張學祥之父張世儀所交付，系爭機車係張學祥之弟張學祺叫伊去辦理該機車過戶，伊沒有貪圖該機車，因該機車不值錢云云。然查，(一)被告於上揭時間，持張學祥所有之系爭機車行車執照、國民身分證及印章等物，前往臺中區監理所，填寫在汽（機）車過戶登記書各欄事項，並於該登記書原車主名稱欄簽署張學祥之姓名，並蓋用張學祥之印章後，交予承辦機車過戶登記之公務員，而承辦公務員為形式審查後，在其職務上所掌之汽（機）車過戶登記書登載該機車過戶在被告名下等情，業據告訴人指訴明確，亦為被告所坦承，且有交通部公路總局臺中區監理所99年9月20日中監車字第0990037582號函及過戶登記書在卷可稽，自堪信為真實。(二)張學祥因93年間中風，無法自己處理自己事務，張學禮98年10月30日向法院聲請宣告禁治產，99年2月12日經法院宣告為受監護人，張學禮為監護人等事實，業據證人張學禮於本院審理中及證人張學祺、張世儀於偵訊及本院審理中證述綦詳，並有診斷證明書、親屬會議紀錄、臺灣臺北地方法院98年度禁字第318號、98年度監字第276號民事裁定在卷足參。另因被告不願照顧其夫張學祥，而由張學祥之弟張學祺於98年7月25日將張學祥接回新北市新店區同住迄今，亦據證人張學禮、張學祺及張世儀於本院審理中證述明確，是可知，被告於98年10月15日辦理系爭機車過戶為自己名下，並無可能獲得其夫張學祥之同意或授權。(三)被告雖以前詞置辯，惟證人張世儀於偵訊中證稱：「（張學祥和你的關係？）我兒子。現在勉強走路，精神好像5、6歲小孩一樣。」、「（林雯瑄跟張學祥的關係？）過去是夫妻。前幾月離婚。」、「（問：張學祥本來有一部機車，在郵局裡面有存款你是否知道？）有。」、「（機車的行照、郵局的存摺、印鑑放在哪裡？）過去都是林雯瑄保管。」、「（是你交給他的？）不是。原來是我兒子張學祥保管，張學祥生病之後，送到醫院。他跟植物人差不多。」等語（見99年度偵字第20986號卷第51頁背面、第52頁），於本院審理中亦證稱：「（張學祥何時發生腦中風的？病情狀況為何？）93年4月10日間的時候，當時張學祥病發，意識不清楚，也無法言語，在加護病房住了十幾天。出加護病房後，意識到現在還是不清楚，也不能講話。他現在可以勉強走路，他右半邊癱瘓，右手不能抬，右腳僅可提起一點點，左手及左腳還可以行動，他還可以走路，不需要柺杖，但行動比較緩慢」、「（在98年10月15日這段期間，張學祥的意識是否清楚？言語及行動是否正常？）張學祥到現在的意識都不清楚，也沒有辦法講話。他可以認得家人及林雯瑄」、「[（請提示99年度偵字20986號卷第15頁汽機車過戶登記書）上開登記書是由何人到交通部公路總局臺中區監理所辦理系爭PM3-622號機車過戶事宜？]我不知道，當時我人在臺北」、「（系爭PM3-622號機車在98年10月15日辦理過戶時，你是否知道過戶的事情？）我不知道」、「（以你所知，系爭PM3-622號機車在98年10月15日辦理過戶時，張學禮、張學祺是否知道？）我年紀大了，我一向不過問這些事情。我並沒有將張學祥身份證、行車執照、印章等資料交給林雯瑄，這些資料一直都是林雯瑄保管的，我並沒有要求林雯瑄去辦理系爭PM3-622號機車的過戶，當時林雯瑄也沒有事先跟我說過要辦理機車的過戶」等語（見本院卷第33頁背面、第34頁）；而證人張學祺於偵訊證稱：「（你跟張學祥的關係？）張學祥是我二哥。」、「（你有無將學祥郵局的存摺、印鑑及機車的證件交付給林雯瑄？）沒有。」、「（你有無叫他去過戶或是存款？）都沒有。」、「（林雯瑄是哪裡人？）大陸人。」、「（是否知道她最近何時有去大陸？）98年年底她有去大陸。」等語（見同上偵查卷第52頁背面），於本院審理中證稱：「（張學祥在98年10月15日居住在何處？由何人照顧？）當時已經帶回新店我的居住地址，與我同住，原因是因為林雯瑄在98年7月份提出要離婚的事情，也不願意再照顧張學祥，所以我們在98年7月底，我們將張學祥帶回臺北，之後就沒有在帶回龍井了，直到現在都是一直住在臺北新店」、「[（請提示99年度偵字20986號卷第15頁汽機車過戶登記申請書）系爭PM3-622號機車原來所有權人是何人？是何人於98年10月15日到交通部公路總局臺中區監理所辦理過戶事宜？]系爭機車原所有權人為張學祥，我不曉得是何人去辦理汽車登記的，這個登記書我是第一次看到的。機車過戶是張學禮擔任張學祥的監護人後，才發現該機車有被過戶的情形」、「（。系爭PM3-622號機車於98年10月15日辦理過戶時，你、張學禮、張世儀等人是否知悉該機車有辦理過戶的情形？）不知道，不清楚，沒有人知道」、「（你在98年10月15日前包括當天，你是否有要求或者同意林雯瑄拿張學祥的身份證、行車執照、印章到交通部公路總局臺中區監理所辦理系爭PM3-622號機車過戶的事情？）我並沒有同意也沒有要求林雯瑄拿張學祥的身份證等資料去辦理系爭PM3-622號機車過戶的事情」等語（見本院卷第31至32頁）。參以被告不願照顧其夫張學祥，致使其弟張學祺須將張學祥接回新北市新店區同住，已如上述，足見被告與張學祥之家屬當時已處於不和睦之狀態，則證人張世儀豈會交付伊張學祥之印鑑、機車證件，證人張學祺又豈會同意或要求被告將系爭機車過戶登記在被告名下?是證人張世儀及張學祺上開證述，尚合情理，堪以信憑。從而，被告所辯顯非事實，難以採信。(四)綜上所述，足認被告並未得張學祥之同意或授權，即擅自在上開汽機車過戶登記書之原車主名稱欄偽簽張學祥之姓名，並盜蓋張學祥之印章，以偽造張學祥同意將系爭機車過戶登記為被告名下之私文書後，連同張學祥之國民身分證、印章交予不知情之監理所承辦機車過戶登記之公務員而行使之，致使該不知情公務員為形式審查後，將上開機車過戶予林雯瑄之不實事項，登載於其職務上所掌之汽（機）車過戶登記書之公文書，自足以生損害於張學祥及監理機關對於車輛過戶管理之正確性。是被告否認上揭犯行，無非卸責之詞，要不可採。被告另請求與上開證人等進行測謊，本院審酌測謊結果僅供法院參考，且本案事證明確，足認被告犯罪，縱行測謊亦不至影響本院之認定，因認無將被告與上開證人進行測謊之必要，附此敘明。是本案事證明確，被告有上揭犯行，洵堪認定。四、核被告林雯瑄所為，係犯刑法第216條、第210條行使偽造私文書罪及同法第214條之使公務員登載不實罪。被告偽造簽名、盜用印文之行為為偽造私文書之階段行為，偽造私文書之低度行為，則為行使偽造私文書之高度行為所吸收，均不另論罪。又被告所犯上開行使偽造私文書罪與使公務員登載不實罪，係一行為同時觸犯數罪名之想像競合犯，從一重之行使偽造私文書罪處斷。另依卷內汽（機）車過戶登記書之代辦人欄記載「林嫦芬」，堪認被告係以代辦人身分辦理系爭機車過戶登記，則縱被告擅自持張學祥之國民身分證前往辦理，亦難認其有冒用張學祥身分辦理過戶登記之情形，即不該當戶籍法第75條第3項規定之犯罪構成要件，自難論以該罪，併予敘明。爰審酌被告無犯罪前科，此有臺灣高等法院被告前案紀錄表可稽，素行尚佳，然其於婚姻關係存續中，不顧已罹患重症之夫張學祥之生活，竟貪圖私利，未得張學祥之同意或授權，偽造張學祥同意將系爭機車過戶予伊之登記書並持交予不知情之公務員，使該公務員將該不實之事項登記於其掌管之過戶登記書上，而完成系爭機車過戶登記在被告名下，洵不足取。且事後飾詞狡卸，迄未與張學祥和解，未見悔意等一切情狀，量處如主文所示之刑，並諭知易科罰金之折算標準，以資懲儆。被告偽造張學祥名義之汽（機）車登記書，已交付臺中區監理所所屬公務員辦理過戶登記，而為該公務員所掌管之公文書，是該登記書已屬臺中區監理所所有，而非被告所有，自不予宣告沒收。至於該汽（機）車過戶登記書上原車主名稱欄偽造之張學祥署押一枚，不問屬於犯人與否，應依刑法第219條規定諭知沒收。據上論斷，應依刑事訴訟法第299條第1項前段，刑法第216條、第210條、第214條、第219條、第55條、第41條第1項前段，判決如主文。本案經檢察官曹錫泓到庭執行職務。中華民國101年2月7日刑事第八庭法官許文碩法官林慧英法官黃佳琪以上正本證明與原本無異如不服本判決應於收受判決後10日內向本院提出上訴書狀，並應敘述具體理由；其未敘述上訴理由者，應於上訴期間屆滿後20日內向本院補提理由書（均須按他造當事人之人數附繕本）「切勿逕送上級法院」。書記官黃舜民中華民國101年2月7日附錄論罪科刑法條刑法第216條行使第210條至第215條之文書者，依偽造、變造文書或登載不實事項或使登載不實事項之規定處斷。刑法第210條偽造、變造私文書，足以生損害於公眾或他人者，處五年以下有期徒刑。刑法第214條明知為不實之事項，而使公務員登載於職務上所掌之公文書，足以生損害於公眾或他人者，處三年以下有期徒刑、拘役或五百元以下罰金。\n"
          ]
        }
      ]
    },
    {
      "cell_type": "code",
      "source": [
        "predicted_sentences_all = []\n",
        "\n",
        "for test_embedding in TFIDF_summary_encoded_test_facts_float_np:\n",
        "    test_embedding = test_embedding.reshape(1, -1)\n",
        "    distances, indices = knn_model_TFIDF_loaded.kneighbors(test_embedding)\n",
        "    # 取得最相近的五篇文章的索引及距離\n",
        "    nearest_articles_indices = indices[0]\n",
        "    nearest_articles_distances = distances[0]\n",
        "    predicted_sentences = 0\n",
        "    # 將最相近的五篇文章的刑期加總，並計算平均值作為預測刑期\n",
        "    for i, index in enumerate(nearest_articles_indices):\n",
        "        predicted_sentences += train_sentences[index]\n",
        "    predicted_sentence = float(predicted_sentences) / 5\n",
        "\n",
        "    predicted_sentences_all.append(predicted_sentence)\n",
        "\n"
      ],
      "metadata": {
        "id": "UR6wDfWQNOkM"
      },
      "execution_count": 317,
      "outputs": []
    },
    {
      "cell_type": "code",
      "source": [
        "print(predicted_sentences_all)\n",
        "print(test_sentences)"
      ],
      "metadata": {
        "colab": {
          "base_uri": "https://localhost:8080/"
        },
        "outputId": "e14d6b57-8c3a-456c-d668-f31837c9496b",
        "id": "VvNFj8tLNOkM"
      },
      "execution_count": 318,
      "outputs": [
        {
          "output_type": "stream",
          "name": "stdout",
          "text": [
            "[120.0, 271.0, 130.0, 82.0, 204.0, 472.0, 152.0, 184.0, 217.0, 151.0, 205.0, 162.0, 344.0, 198.0, 165.0, 302.0, 205.0, 111.0, 138.0, 112.0, 202.0, 84.0, 181.0, 186.0, 187.0, 109.0, 174.0, 94.0, 132.0, 141.0, 149.0, 102.0, 226.0, 121.0, 194.0, 238.6, 105.0, 156.0, 211.0, 271.0, 100.0, 136.0, 94.4, 192.8, 182.0, 132.0, 249.2, 144.0, 100.6, 114.0, 251.2, 145.6, 126.0, 351.0, 260.0, 181.0, 390.2, 241.0, 90.0, 120.0, 277.4, 144.0, 223.0, 120.0, 247.0, 198.0, 284.0, 109.0, 156.0, 78.0, 162.0, 211.0, 150.0, 223.0, 120.0, 156.0, 197.0, 114.0, 157.0, 174.0, 290.4, 166.0, 253.0, 181.0, 166.0, 107.0, 120.0, 140.0, 193.0, 94.0, 128.0, 138.0, 160.0, 169.0, 172.0, 418.0, 157.0, 193.0, 201.0, 162.0]\n",
            "[150, 242, 60, 302, 365, 150, 90, 120, 120, 180, 120, 90, 120, 90, 90, 90, 180, 270, 425, 50, 150, 90, 365, 195, 150, 50, 345, 150, 150, 90, 425, 135, 120, 240, 20, 240, 60, 120, 60, 150, 90, 240, 365, 210, 150, 120, 32, 150, 505, 90, 90, 120, 120, 120, 165, 180, 302, 90, 120, 730, 240, 40, 180, 90, 90, 180, 150, 450, 240, 240, 120, 120, 120, 120, 165, 150, 180, 90, 60, 120, 60, 820, 180, 90, 120, 120, 240, 180, 120, 90, 270, 195, 90, 180, 150, 120, 120, 150, 180, 180]\n"
          ]
        }
      ]
    },
    {
      "cell_type": "code",
      "source": [
        "mse_linear = mean_squared_error(test_sentences, predicted_sentences_all)\n",
        "rmse_linear = mean_squared_error(test_sentences, predicted_sentences_all, squared=False)\n",
        "mae_linear = mean_absolute_error(test_sentences, predicted_sentences_all)"
      ],
      "metadata": {
        "id": "sl3JqlOxNOkM"
      },
      "execution_count": 320,
      "outputs": []
    },
    {
      "cell_type": "code",
      "source": [
        "print('\\n==================================================')\n",
        "print(\"Linear Regression - MSE:\", mse_linear)\n",
        "print(\"Linear Regression - RMSE:\", rmse_linear)\n",
        "print(\"Linear Regression - MAE:\", mae_linear)"
      ],
      "metadata": {
        "colab": {
          "base_uri": "https://localhost:8080/"
        },
        "outputId": "f5f9dec1-565e-462a-81f0-98c043bd363e",
        "id": "CFEAQVagNOkM"
      },
      "execution_count": 321,
      "outputs": [
        {
          "output_type": "stream",
          "name": "stdout",
          "text": [
            "\n",
            "==================================================\n",
            "Linear Regression - MSE: 23639.0432\n",
            "Linear Regression - RMSE: 153.74993723575955\n",
            "Linear Regression - MAE: 102.77600000000001\n"
          ]
        }
      ]
    },
    {
      "cell_type": "markdown",
      "source": [
        "# method 4\n",
        "- TFIDF 做 summerize\n",
        "- summerize 取 5 個句子"
      ],
      "metadata": {
        "id": "O8ovkwRpWLy9"
      }
    },
    {
      "cell_type": "code",
      "source": [
        "TFIDF_summary5_encoded_train_facts = []\n",
        "\n",
        "for i in range(len(SBERT_encoded_train_facts_sentences)):\n",
        "  summary_encode = TFIDF_generate_summary(tokenized_train_facts_sentences[i], SBERT_encoded_train_facts_sentences[i], 5)\n",
        "  TFIDF_summary5_encoded_train_facts.append(summary_encode)"
      ],
      "metadata": {
        "id": "j8xHGQXAWLzK"
      },
      "execution_count": 323,
      "outputs": []
    },
    {
      "cell_type": "code",
      "source": [
        "TFIDF_summary5_encoded_test_facts = []\n",
        "\n",
        "for i in range(len(SBERT_encoded_test_facts_sentences)):\n",
        "  summary_encode = TFIDF_generate_summary(tokenized_test_facts_sentences[i], SBERT_encoded_test_facts_sentences[i], 5)\n",
        "  TFIDF_summary5_encoded_test_facts.append(summary_encode)"
      ],
      "metadata": {
        "id": "L9QBKeR6WLzK"
      },
      "execution_count": 324,
      "outputs": []
    },
    {
      "cell_type": "code",
      "source": [
        "TFIDF_summary5_encoded_train_facts_float = [[float(value) for value in arr] for arr in TFIDF_summary5_encoded_train_facts]\n",
        "TFIDF_summary5_encoded_test_facts_float = [[float(value) for value in arr] for arr in TFIDF_summary5_encoded_test_facts]"
      ],
      "metadata": {
        "id": "tIlK4RG2WLzK"
      },
      "execution_count": 325,
      "outputs": []
    },
    {
      "cell_type": "code",
      "source": [
        "with open('/content/drive/MyDrive/senior/LAB/LawCaseRetreiver/sentence_predict/dataset_new/TFIDF_summary5_encoded_train_facts.json', 'w') as f:\n",
        "    json.dump(TFIDF_summary5_encoded_train_facts_float, f)\n",
        "with open('/content/drive/MyDrive/senior/LAB/LawCaseRetreiver/sentence_predict/dataset_new/TFIDF_summary5_encoded_test_facts.json', 'w') as f:\n",
        "    json.dump(TFIDF_summary5_encoded_test_facts_float, f)"
      ],
      "metadata": {
        "id": "ddkY9pNlWLzK"
      },
      "execution_count": 326,
      "outputs": []
    },
    {
      "cell_type": "markdown",
      "source": [
        "## KNN - SBERT"
      ],
      "metadata": {
        "id": "zA1PFOwxWLzK"
      }
    },
    {
      "cell_type": "code",
      "source": [
        "k = 5\n",
        "knn_model_TFIDF = NearestNeighbors(n_neighbors=k, metric='cosine')\n",
        "knn_model_TFIDF.fit(np.array(TFIDF_summary5_encoded_train_facts_float))"
      ],
      "metadata": {
        "colab": {
          "base_uri": "https://localhost:8080/",
          "height": 75
        },
        "outputId": "89c1590d-8422-4b42-837c-7806cbc8accf",
        "id": "lmeXGqhAWLzK"
      },
      "execution_count": 327,
      "outputs": [
        {
          "output_type": "execute_result",
          "data": {
            "text/plain": [
              "NearestNeighbors(metric='cosine')"
            ],
            "text/html": [
              "<style>#sk-container-id-6 {color: black;background-color: white;}#sk-container-id-6 pre{padding: 0;}#sk-container-id-6 div.sk-toggleable {background-color: white;}#sk-container-id-6 label.sk-toggleable__label {cursor: pointer;display: block;width: 100%;margin-bottom: 0;padding: 0.3em;box-sizing: border-box;text-align: center;}#sk-container-id-6 label.sk-toggleable__label-arrow:before {content: \"▸\";float: left;margin-right: 0.25em;color: #696969;}#sk-container-id-6 label.sk-toggleable__label-arrow:hover:before {color: black;}#sk-container-id-6 div.sk-estimator:hover label.sk-toggleable__label-arrow:before {color: black;}#sk-container-id-6 div.sk-toggleable__content {max-height: 0;max-width: 0;overflow: hidden;text-align: left;background-color: #f0f8ff;}#sk-container-id-6 div.sk-toggleable__content pre {margin: 0.2em;color: black;border-radius: 0.25em;background-color: #f0f8ff;}#sk-container-id-6 input.sk-toggleable__control:checked~div.sk-toggleable__content {max-height: 200px;max-width: 100%;overflow: auto;}#sk-container-id-6 input.sk-toggleable__control:checked~label.sk-toggleable__label-arrow:before {content: \"▾\";}#sk-container-id-6 div.sk-estimator input.sk-toggleable__control:checked~label.sk-toggleable__label {background-color: #d4ebff;}#sk-container-id-6 div.sk-label input.sk-toggleable__control:checked~label.sk-toggleable__label {background-color: #d4ebff;}#sk-container-id-6 input.sk-hidden--visually {border: 0;clip: rect(1px 1px 1px 1px);clip: rect(1px, 1px, 1px, 1px);height: 1px;margin: -1px;overflow: hidden;padding: 0;position: absolute;width: 1px;}#sk-container-id-6 div.sk-estimator {font-family: monospace;background-color: #f0f8ff;border: 1px dotted black;border-radius: 0.25em;box-sizing: border-box;margin-bottom: 0.5em;}#sk-container-id-6 div.sk-estimator:hover {background-color: #d4ebff;}#sk-container-id-6 div.sk-parallel-item::after {content: \"\";width: 100%;border-bottom: 1px solid gray;flex-grow: 1;}#sk-container-id-6 div.sk-label:hover label.sk-toggleable__label {background-color: #d4ebff;}#sk-container-id-6 div.sk-serial::before {content: \"\";position: absolute;border-left: 1px solid gray;box-sizing: border-box;top: 0;bottom: 0;left: 50%;z-index: 0;}#sk-container-id-6 div.sk-serial {display: flex;flex-direction: column;align-items: center;background-color: white;padding-right: 0.2em;padding-left: 0.2em;position: relative;}#sk-container-id-6 div.sk-item {position: relative;z-index: 1;}#sk-container-id-6 div.sk-parallel {display: flex;align-items: stretch;justify-content: center;background-color: white;position: relative;}#sk-container-id-6 div.sk-item::before, #sk-container-id-6 div.sk-parallel-item::before {content: \"\";position: absolute;border-left: 1px solid gray;box-sizing: border-box;top: 0;bottom: 0;left: 50%;z-index: -1;}#sk-container-id-6 div.sk-parallel-item {display: flex;flex-direction: column;z-index: 1;position: relative;background-color: white;}#sk-container-id-6 div.sk-parallel-item:first-child::after {align-self: flex-end;width: 50%;}#sk-container-id-6 div.sk-parallel-item:last-child::after {align-self: flex-start;width: 50%;}#sk-container-id-6 div.sk-parallel-item:only-child::after {width: 0;}#sk-container-id-6 div.sk-dashed-wrapped {border: 1px dashed gray;margin: 0 0.4em 0.5em 0.4em;box-sizing: border-box;padding-bottom: 0.4em;background-color: white;}#sk-container-id-6 div.sk-label label {font-family: monospace;font-weight: bold;display: inline-block;line-height: 1.2em;}#sk-container-id-6 div.sk-label-container {text-align: center;}#sk-container-id-6 div.sk-container {/* jupyter's `normalize.less` sets `[hidden] { display: none; }` but bootstrap.min.css set `[hidden] { display: none !important; }` so we also need the `!important` here to be able to override the default hidden behavior on the sphinx rendered scikit-learn.org. See: https://github.com/scikit-learn/scikit-learn/issues/21755 */display: inline-block !important;position: relative;}#sk-container-id-6 div.sk-text-repr-fallback {display: none;}</style><div id=\"sk-container-id-6\" class=\"sk-top-container\"><div class=\"sk-text-repr-fallback\"><pre>NearestNeighbors(metric=&#x27;cosine&#x27;)</pre><b>In a Jupyter environment, please rerun this cell to show the HTML representation or trust the notebook. <br />On GitHub, the HTML representation is unable to render, please try loading this page with nbviewer.org.</b></div><div class=\"sk-container\" hidden><div class=\"sk-item\"><div class=\"sk-estimator sk-toggleable\"><input class=\"sk-toggleable__control sk-hidden--visually\" id=\"sk-estimator-id-6\" type=\"checkbox\" checked><label for=\"sk-estimator-id-6\" class=\"sk-toggleable__label sk-toggleable__label-arrow\">NearestNeighbors</label><div class=\"sk-toggleable__content\"><pre>NearestNeighbors(metric=&#x27;cosine&#x27;)</pre></div></div></div></div></div>"
            ]
          },
          "metadata": {},
          "execution_count": 327
        }
      ]
    },
    {
      "cell_type": "code",
      "source": [
        "import pickle\n",
        "\n",
        "# 將模型保存到文件\n",
        "with open('/content/drive/MyDrive/senior/LAB/LawCaseRetreiver/sentence_predict/dataset_new/knn_model_TFIDF_s5.pkl', 'wb') as f:\n",
        "    pickle.dump(knn_model_TFIDF, f)\n",
        "\n",
        "# 從文件加載模型\n",
        "with open('/content/drive/MyDrive/senior/LAB/LawCaseRetreiver/sentence_predict/dataset_new/knn_model_TFIDF_s5.pkl', 'rb') as f:\n",
        "    knn_model_TFIDF_loaded = pickle.load(f)"
      ],
      "metadata": {
        "id": "sdygV9ZiWLzL"
      },
      "execution_count": 328,
      "outputs": []
    },
    {
      "cell_type": "code",
      "source": [
        "TFIDF_summary5_encoded_test_facts_float_np = [np.array(item) for item in TFIDF_summary5_encoded_test_facts_float]"
      ],
      "metadata": {
        "id": "XwEzZSNZWLzL"
      },
      "execution_count": 329,
      "outputs": []
    },
    {
      "cell_type": "code",
      "source": [
        "distances, indices = knn_model_TFIDF_loaded.kneighbors(TFIDF_summary5_encoded_test_facts_float_np[0].reshape(1, -1))"
      ],
      "metadata": {
        "id": "EDga76iDWLzL"
      },
      "execution_count": 330,
      "outputs": []
    },
    {
      "cell_type": "code",
      "source": [
        "test_facts[0]"
      ],
      "metadata": {
        "colab": {
          "base_uri": "https://localhost:8080/",
          "height": 214
        },
        "outputId": "6abe4666-2b4c-486e-8b8b-210d92349d93",
        "id": "X2-VrVAcWLzL"
      },
      "execution_count": null,
      "outputs": [
        {
          "output_type": "execute_result",
          "data": {
            "text/plain": [
              "'○、緣徐鴻光（所涉行使偽造私文書犯行，業經本院以95年度訴字第955號判決處有期徒刑3月、緩刑3年確定）因需款使用，知悉穆立明有借款管道，為求順利借款，2人竟共同意圖為自己不法所有，基於行使偽造私文書及詐欺取財之犯意聯絡，知悉車牌號碼00-000號營業小客車係徐鴻光向志朗交通有限公司（下稱志朗公司）租賃之車輛，竟由穆立明先於不詳時間、不詳地點，偽刻「志朗交通有限公司」及負責人「陳健志」印章（正確姓名為陳建志，誤刻為「陳健志」）各1枚，並偽造「陳健志」代表志朗公司與徐鴻光簽署之「臺北市計程車客運駕駛人自備車輛參與經營契約書」（下稱本案參與經營契約書），虛偽記載徐鴻光提供上述營業小客車靠行志朗公司營業等不實內容，並持上開偽刻印章，偽造「志朗交通有限公司」印文4枚、「陳健志」印文6枚於本案參與經營契約書上，再於92年3月6日交徐鴻光於立約人乙方欄簽名，2人復於同日協同不知情之徐鴻光配偶徐樂仁（所涉行使偽造私文書犯行，業經本院以95年度訴字第955號判決無罪確定），前往臺北市○○區○○街00巷0號2樓王傑生所經營之宏帝當舖（現更名為渣打當舖），由徐鴻光、穆立明交付偽造本案參與經營契約書向宏帝當鋪借款新臺幣（下同）10萬元以為行使，並約定由徐樂仁擔任連帶保證人，王傑生誤信上開車輛為徐鴻光所有而陷入錯誤，於扣除利息後交付9萬1千元借款予徐鴻光夫婦，足以生損害於志朗公司、陳建志、王傑生。嗣因徐鴻光僅清償每期7千元之分期款共11期計7萬7千元，未全額清償即無力負擔債務，王傑生始查知上開車輛非徐鴻光所有，而悉上情。二、案經王傑生訴由臺灣士林地方法院檢察署檢察官偵查起訴。理由○、證據能力部分：被告以外之人於審判外之言詞或書面陳述，除法律有規定者外，不得作為證據；又被告以外之人於審判外之陳述，雖不符合同法第159條之1至第159條之4之規定，但經當事人於審判程序同意作為證據，法院審酌該言詞陳述或書面陳述作成時之情況，認為適當者，亦得為證據。刑事訴訟法第159條第1項及第159條之5第1項分別定有明文。經查，本判決所引用之各該被告以外之人於審判外之陳述，雖屬傳聞證據，然當事人於本院審判期日中均表示同意作為證據方法而不予爭執，且迄至言詞辯論終結前亦未再聲明異議（見本院卷第68頁至第68頁背面），本院審酌上開證據資料製作時之情況，尚無違法不當及證明力明顯過低之瑕疵，亦認為以之作為證據應屬適當，故揆諸前開規定，爰依刑事訴訟法第159條之5規定，認前揭證據資料均有證據能力。二、認定犯罪事實所憑之證據及理由：（一）訊據被告穆立明固坦承有於92年3月6日帶共同被告徐鴻光、徐樂仁至宏帝當鋪借錢，惟矢口否認有何行使偽造私文書及詐欺取財之犯行，辯稱：本案參與經營契約書係由共同被告徐鴻光所提出，徐鴻光知道我在宏帝當舖當業務員，他因資金不夠，要伊帶至宏帝當鋪借錢，伊請徐鴻光帶身分證、本案參與經營契約書，證明計程車係屬於徐鴻光所有，另外要帶一位保人云云。（二）經查，證人即志英交通公司負責人陳建志於檢察官偵查中結證稱：本案參與經營契約書上之「志朗交通有限公司」、「陳健志」之印文均非我公司的大小章，志朗交通公司也是我的公司，我是負責人，但這個章不是我的，被告徐鴻光只是加入無線電台等語（見94年度偵字第8715號卷第45頁），復有其提出真正之志朗交通有限公司及其本人陳建志之印文各4枚在卷可稽（見94年度偵字第8715號卷第48頁），經核卷附本案參與經營契約書上所示之「志朗交通有限公司」、「陳健志」印文（見95年度偵緝字第60號卷第53頁），除二者字體明顯不同外，本案參與經營契約書中「陳健志」名字中之「健」一字顯係錯別字，堪認本案參與經營契約書上所示之「志朗交通有限公司」、「陳健志」印文確屬偽造一節，應可認定。（三）證人即告訴人王傑生於檢察官偵查中證稱：我經營宏帝當鋪，後改名為渣打當鋪，地址在臺北市○○街00巷0號2樓，計程車典當給我們時，我們要看參與經營契約書，被告徐鴻光有來借錢，被告穆立明當時有在場，徐鴻光給我們看本案參與經營契約書，我們就以為車子是徐鴻光的，我們找到車之後才知道車子是車行的，被告穆立明是我們公司抽獎金的業務員，穆立明介紹人來借錢，我給他獎金等語（見94年度偵字第8715號卷第37頁、95年度偵緝字第60號卷第49頁、第68頁），且證人朱庭峰於檢察官偵查中及本院審理時亦結證稱：我是宏帝當鋪的負責人，後來當鋪讓給王傑生，被告徐鴻光到宏帝當鋪借款10萬元，係由我接洽，當時是被告穆立明介紹，穆立明不是公司職員，他會介紹車子到我們公司來典當，我會給穆立明佣金，即我收到1,000元利息，就給他100元，本案參與經營契約書是由穆立明拿出來等語（見95年度偵緝字第60號卷第68頁至第69頁、95年度訴字第955號卷第66頁至第67頁），復有本案參與經營契約書、本票影本各1份附卷可憑（見94年度偵字第8715號卷第14頁至第17頁），足認共同被告徐鴻光係經被告穆立明介紹，持本案參與經營契約書於上開時間前往宏帝當鋪借款10萬元，且被告穆立明於借款時在場之事實，洵堪認定。（四）被告穆立明雖辯稱：本案參與經營契約書係共同被告徐鴻光所提出，伊僅有將徐鴻光帶去當鋪，就由當舖的人接洽云云，惟查，證人即共同被告徐鴻光於本院審理時證稱：因為我當司機收入不高，家裡有需要用錢，被告穆立明說有辦法借錢，我請被告穆立明帶我去借款，被告穆立明有帶我去當鋪，我太太徐樂仁當時有一起陪同，卷附之本票影本係我當時在當鋪簽立，而本案參與經營契約書係被告穆立明幫我準備好的，經我在當舖蓋我的章及簽名，被告穆立明拿給我時契約書已經寫好資料，至於被告穆立明提出本案參與經營契約書之來源我不知道，被告穆立明只有要我帶駕照、行照、身分證及私章，車號00-000號營業用小客車是我用租的車子，車子是志朗公司的車子，本案參與經營契約書內容不是真的，車子不是我自備的，只有契約書末頁乙方的簽名是我簽的等語（見本院卷第64頁至第66頁背面），核與其在檢察官偵查中證稱：被告穆立明有帶我去宏帝當鋪向朱先生借錢，我借10萬元，本案參與經營契約書係被告穆立明幫我準備好的，前面的簽名及資料是被告穆立明簽的，只有最後的簽名是我簽的等語大致相符（見95年度偵緝字第60號卷第48頁至第49頁），再查，參以被告穆立明於本院審理時當庭書寫徐鴻光名字之字跡經與本案參與經營契約書立契約書人一欄所簽署「徐鴻光」之筆跡比對後（見本院卷第73頁），依肉眼觀之，不論字跡之運筆、筆勾等字體外觀，均較為吻合，反觀該契約書頁末之乙方「徐鴻光」之筆跡，與頁首立契約書人一欄所簽署「徐鴻光」之筆跡之運筆及筆勾，字跡明顯不同，是被告穆立明辯稱本案參與經營契約書係由共同被告徐鴻光提出云云，已難採信；又證人徐鴻光於本院審理時證稱：我曾經用上開車輛向別的當鋪借錢，當時別的當鋪說車子用租的也可以借，只要押行照在那裡即可，不需要像本件一樣的契約，本件是我去當鋪，他們說該簽名的地方，我就簽名，且是我透過別的司機得知被告穆立明可以幫我問問哪裡可以借錢，所以才找被告穆立明等語（見本院卷第65頁背面至第66頁背面），衡以證人徐鴻光涉犯本案犯行業經本院認定有罪確定，自應無虛偽陳述之動機，且被告穆立明自承與證人徐鴻光無糾紛，同為排班計程車司機，為點頭之交乙情，亦認證人徐鴻光無涉詞誣陷被告穆立明之可能；再參以證人王傑生、朱庭峰皆證述本案參與經營契約書係由被告穆立明提出一節，又被告並不否認宏帝當舖僅同意典當個人所有靠行之車輛，不同意典當向車行租的車輛等情，而本件共同被告徐鴻光既有提供行照予被告穆立明，業經其證述如前，則自行照之記載內容即可知悉上開車輛所有人為何人，被告穆立明豈有不知上開車輛所有人為何人之理，況被告穆立明供認介紹共同被告徐鴻光予宏帝當鋪借錢有利息百分之十之報酬等語（見本院卷第69頁背面），其當有可能為促成徐鴻光與宏帝當鋪借款，而提出本案經營契約書供作本件借款之用，是被告穆立明辯稱車子是徐鴻光說其自己所有，本案參與經營契約書係徐鴻光自行提出云云，顯係事後卸責之詞，不足採信。（五）綜上所述，被告上開所辯各節，無非事後避重就輕、圖卸之詞，不足採信，被告行使偽造私文書及詐欺取財等犯行，事證明確，應依法論科。三、論罪科刑部分：（一）按被告行為後，94年2月2日修正公布之刑法已於95年7月1日生效施行，其中第2條第1項「行為後法律有變更者，適用行為時之法律。但行為後之法律有利於行為人者，適用最有利於行為人之法律」之規定，係規範行為後法律變更所生新、舊法律比較適用之準據法，並非刑法實體法律，自不生行為後法律變更之比較適用問題，故刑法修正施行後，應適用該修正後之第2條第1項之規定，依「從舊、從輕」之原則比較新、舊法律之適用；又比較新舊法時，應就罪刑有關之共犯、未遂犯、想像競合犯、牽連犯、連續犯、結合犯，以及累犯加重、自首減輕暨其他法定加減原因（如身分加減）與加減例等一切情形，綜其全部罪刑之結果而為比較後，再適用有利於行為人之法律處斷，而不得一部割裂分別適用不同之新、舊法（最高法院24年上字第4634號、29年上字第964號判例意旨及最高法院95年度第8次刑事庭會議決議參照）。經查：1.刑法第33條第5款關於罰金刑之規定業於94年2月2日修正，於95年7月1日生效，修正前刑法第33條第5款規定：「罰金：1元（銀元）以上。」，並依現行法規所定貨幣單位折算新臺幣條例規定，以銀元1元折算新臺幣3元，故修正前刑法規定罰金之最低數額為新臺幣3元；修正後刑法第33條第5款規定：「罰金：新臺幣1,000元以上，以百元計算之。」，故修正後刑法規定罰金之最低數額提高為新臺幣1,000元；比較上開罰金刑之最高數額，於修正後並無不同，惟修正後刑法第33條第5款所定罰金刑最低數額，既較修正前提高，依前開說明，應適用對被告有利之修正前刑法第33條第5款之規定。2.修正前刑法第28條規定：「二人以上共同實施犯罪之行為者，皆為正犯。」，修正後該條規定為：「二人以上共同實行犯罪之行為者，皆為正犯。」，揆諸本條之修正理由，係為釐清陰謀共同正犯、預備共同正犯、共謀共同正犯是否合乎本條之正犯要件，並將陰謀共同正犯、預備共同正犯剔除於本條適用之外，以符合近代刑法之個人責任原則、法治國人權保障思想及犯罪支配理論，自屬行為後法律有變更，而非僅屬文字修正，應有新舊法比較適用問題（最高法院97年度台上字第37號判決意旨參照）。本件被告穆立明與徐鴻光就前揭行使偽造私文書及詐欺取財犯行各具有犯意聯絡及行為分擔，不論依修正前或修正後之規定，均屬共同正犯，對被告並無有利或不利之情形，應適用行為時之法律。3.被告行為後新法業已刪除牽連犯之規定，依舊法成立方法、結果行為而僅論以一罪者，依新法將論以數罪，比較新、舊法結果，自以修正前刑法第55條牽連犯之規定，較有利於被告。4.綜此，本院經綜合上述各條文修正前、後之比較，參照前揭最高法院決議及修正後刑法第2條第1項前段、後段規定之「從舊、從輕」原則，被告穆立明上開犯行自應適用行為時之法律，予以論處。（二）核被告穆立明所為，係犯刑法第216條、第210條之行使偽造私文書罪、同法第339條第1項詐欺取財罪。被告穆立明於本案參與經營契約書上偽造「志朗交通有限公司」、「陳健志」印章及印文乃偽造私文書之部分行為，其偽造本案參與經營契約書後持以行使，偽造之低度行為復為行使之高度行為所吸收，均不另論罪。被告穆立明與徐鴻光就行使偽造私文書及詐欺之犯行有犯意聯絡及行為分擔，為共同正犯。又其等行使偽造私文書之目的，在詐取告訴人之金錢，所犯連續行使偽造私文書與詐欺取財2罪間，有方法、目的之牽連關係，應依修正前刑法第55條規定，從一較重之行使偽造私文書罪處斷。（三）爰審酌被告穆立明不思以正當途徑賺取錢財，竟偽造志朗公司及其負責人陳建志之印章，進而偽造本案參與經營契約書，而詐取告訴人之金錢，足生損害於志朗公司、陳建志、告訴人，並危害社會交易秩序，所為實有不該，犯後否認犯行，未見悔悟之心，兼衡被告穆立明有違反票據法之前科，有臺灣高等法院被告前案紀錄表在卷可稽（見本院卷第60頁），素行尚可，共同被告徐鴻光於詐得借款後已陸續返還利息予告訴人與朱庭峰，及被告穆立明為高中肄業之智識程度，經濟狀況為小康之生活狀況等一切情狀（見被告警詢筆錄受詢問人欄，本院卷第6頁），量處如主文所示之刑，以資懲儆。又關於易科罰金之折算標準，修正前刑法第41條第1項前段規定：「犯最重本刑為5年以下有期徒刑以下之刑之罪，而受6個月以下有期徒刑或拘役之宣告，因身體、教育、職業、家庭之關係或其他正當事由，執行顯有困難者，得以1元以上3元以下折算1日，易科罰金。」，再依據修正前罰金罰鍰提高標準條例第2條：「依刑法第41條易科罰金或第42條第2項易服勞役者，均就其原定數額提高為1百倍折算1日；法律所定罰金數額未依本條例提高倍數，或其處罰法條無罰金刑之規定者，亦同。」之規定，被告行為時之易科罰金折算標準，應以銀元1百元以上3百元以下折算1日，經折算為新臺幣後，應以新臺幣3百元以上9百元以下折算1日。惟95年7月1日施行之刑法第41條第1項前段規定修正為：「犯最重本刑為5年以下有期徒刑以下之刑之罪，而受6個月以下有期徒刑或拘役之宣告者，得以新臺幣1千元、2千元或3千元折算一日，易科罰金。」，另95年7月1日生效施行之罰金罰鍰提高標準條例則刪除原本第2條之規定。是以比較新舊法結果，自以舊法所定之易科罰金折算標準有利於被告，故應依修正前刑法第41條第1項前段、修正前罰金罰鍰提高標準條例第2條規定，就所宣告之刑部分諭知易科罰金之折算標準。（四）偽造之「臺北市計程車客運駕駛人自備車輛參與經營契約書」原本1份固經共同被告徐鴻光於借款時行使交付予宏帝當鋪，業如前述，惟此僅係共同被告徐鴻光為借得款項，而將本案參與經營契約書交付當鋪作為擔保使用，其所有權仍為共同被告徐鴻光所有，不因行使而移轉為宏帝當鋪所有，又該偽造之契約既係供本件犯行所用，爰依刑法第38條第1項第2款規定宣告沒收。又契約上偽造之「志朗交通有限公司」印文4枚、「陳健志」之印文6枚固係偽造之印文，已因該契約之沒收而包括在內，無再重複諭知沒收之必要。另告訴人為提起本件告訴，而複印本案參與經營契約書資為證據（見94年度偵字第8715號卷第15至第17頁），因認僅係作為本案訴訟使用，而非被告穆立明、共同被告徐鴻光供本件犯行所用之物，就複印之契約書上之「志朗交通有限公司」印文4枚、「陳健志」之印文6枚，爰不予宣告沒收。至被告穆立明偽刻之「志朗交通有限公司」、「陳健志」印章各1枚，係偽造之印章，且無證據證明業已滅失，應依刑法第219條宣告沒收。（五）再按本條例施行前，經通緝而未於中華民國96年12月31日以前自動歸案接受偵查、審判或執行者，不得依本條例減刑，中華民國九十六年罪犯減刑條例第5條定有明文。查本件被告穆立明所為前開犯行之犯罪時間固係在96年4月24日以前，但其曾於中華民國九十六年罪犯減刑條例施行（96年7月16日施行）前之95年12月21日因本案經本院以95年士院刑玄緝字第463號通緝書發佈通緝，於102年9月1日甫緝獲歸案等情，此有前開通緝書、歸案證明書、本院102年士院刑玄銷字第289號撤銷通緝書各1份存卷可參（95年度訴字第955號卷第43頁、本院卷第26頁、第43頁），從而，依前開規定，本案被告無從依中華民國九十六年罪犯減刑條例之規定減刑，併此敘明。據上論斷，應依刑事訴訟法第299條第1項前段，刑法第2條1項前段、第28條、第216條、第210條、第339條第1項、第219條、第38條第1項第2款、修正前刑法第55條、第41條第1項前段，刑法施行法第1條之1第1項，修正前罰金罰鍰提高標準條例第2條，現行法規所定貨幣單位折算新臺幣條例第2條，判決如主文。本案經檢察官黃仙宜到庭執行職務。中華民國102年12月3日刑事第七庭審判長法官雷雯華法官陳介安法官蔡子琪以上正本證明與原本無異。如不服本判決應於收受送達後10日內向本院提出上訴書狀，並應敘述具體理由。其未敘述上訴理由者，應於上訴期間屆滿後20日內向本院補提理由書（均須按他造當事人之人數附繕本）「切勿逕送上級法院」。書記官李宜蓁中華民國102年12月5日附錄本案論罪科刑所依據之法條：刑法第216條、第210條、第339條第1項偽造、變造私文書，足以生損害於公眾或他人者，處5年以下有期徒刑。偽造印章、印文或署押，足以生損害於公眾或他人者，處3年以下有期徒刑。盜用印章、印文或署押，足以生損害於公眾或他人者，亦同。意圖為自己或第三人不法之所有，以詐術使人將本人或第三人之物交付者，處5年以下有期徒刑、拘役或科或併科1千元以下罰金。'"
            ],
            "application/vnd.google.colaboratory.intrinsic+json": {
              "type": "string"
            }
          },
          "metadata": {},
          "execution_count": 230
        }
      ]
    },
    {
      "cell_type": "code",
      "source": [
        "# 打印最相近的五篇文章的索引及距離\n",
        "for i, index in enumerate(indices[0]):\n",
        "    print(\"Article Index:\", index, \"Distance:\", distances[0][i])\n",
        "    print(\"Article Text:\", train_facts[index])"
      ],
      "metadata": {
        "colab": {
          "base_uri": "https://localhost:8080/"
        },
        "outputId": "2ed18ecc-443d-4a82-824f-de195d27d626",
        "id": "Ab-4AjPtWLzL"
      },
      "execution_count": 331,
      "outputs": [
        {
          "output_type": "stream",
          "name": "stdout",
          "text": [
            "Article Index: 341 Distance: 0.43205555694991826\n",
            "Article Text: 一、林泰華與臺灣籍女子林秋霞（所犯行使使公務員登載不實文書罪，業經本院判處有期徒刑4月，減為有期徒刑2月確定）明知無結婚之真意，竟共同基於行使使公務員登載不實公文書之犯意聯絡，先於民國91年7月10日，由臺灣籍成年男子『林福順』、臺灣籍成年女子『李鳳春』及某不知名泰國籍成年女子引介林秋霞、林泰華至泰國共同辦理結婚登記，並取得泰國帕克萊縣政府核發之結婚證書後，持上開不實文件至中華民國駐泰國臺北經濟文化辦事處辦理文書驗證手續，於取得該處核發之證明書後，再於91年8月9日，持前揭不實之結婚證書等相關文件，前往桃園縣蘆竹鄉戶政事務所，填寫不實之結婚登記申請書，辦理結婚之戶籍登記，使不知情之該管承辦戶籍登記之公務員，於形式上審核其提出之資料後，將林秋霞與林泰華結婚之不實事項，登載於職務上所掌戶籍謄本等公文書，並據以發給業經登載上開不實事項之戶籍謄本。嗣林泰華旋與林秋霞共同持證件及登載上開不實事項之戶籍謄本，於91年9月18日向內政部警政署入出境管理局（已改制為內政部入出國及移民署）申請居留證而持以行使，足生損害於戶政機關對於戶政登記、管理之正確性。二、林泰華另共同基於行使偽造私文書及行使使公務員登載不實公文書之犯意聯絡，於98年8月10日共同與泰國籍成年女子黃美玉、臺灣籍成年男子李桓忠及2名臺灣籍成年男子冒用林秋霞名義，偽造林泰華承租住居在臺北縣深坑鄉雲鄉路00號2樓該址之不實房屋租賃契約書後，於98年9月15日，由林泰華持偽造之房屋租賃契約書及與林秋霞假結婚之戶籍謄本至內政部入出國及移民署服務事務大隊臺北縣服務站，申請辦理居留證延期及居留地址異動，經承辦公務員為形式上審核後，將林泰華居留地址異動至臺北縣深坑鄉雲鄉路00號2樓之不實事項，登載於職務上所掌之公文書，足生損害於內政部入出國及移民署對於外僑居留資料登記、管理之正確性。三、案經內政部入出國及移民署專勤事務第一大隊臺北縣專勤隊報告臺灣新北地方法院檢察署檢察官呈請臺灣高等法院檢察署檢察長令轉臺灣宜蘭地方法院檢察署檢察官偵查後起訴。理由一、證據能力：按被告以外之人於審判外之言詞或書面陳述，除法律有規定者外，不得作為證據，刑事訴訟法第159條第1項定有明文。被告以外之人於偵查中向檢察官所為之陳述，除顯有不可信之情況者外，得為證據。被告以外之人於審判外之陳述，雖不符刑事訴訟法第159條之1至第159條之4之規定，而經當事人於審判程序同意作為證據，法院審酌該言詞陳述或書面陳述作成時之情況，認為適當者，亦得為證據；當事人、代理人或辯護人於法院調查證據時，知有第159條第1項不得為證據之情形，而未於言詞辯論終結前聲明異議者，視為有前項之同意，同法第159條之1第2項、第159條之5亦有明定。查被告及其辯護人對證人即同案被告林秋霞、證人林桓忠於調查站之陳述於本院辯論終結前均未聲明異議，本院審酌證人於調查站指述時所處之狀況，並無受外力不當干擾之情事，以之作為證據應認為適當，依前開規定，認為前開證人於調查站時之指述均有證據能力。又證人李桓忠、證人即入出國及移民署臺北縣服務站本件承辦人洪聖竣於偵查中之證述均係經檢察官告知具結義務及偽證罪之處罰後，同意作證依法具結而為陳述，此有卷附上開偵訊筆錄及證人之結文在卷可參，並無顯不可信之情形，是證人李桓忠、洪聖竣於偵查中之指證均有證據能力。至本院以下採用之各項文書證據，無證據證明係公務員違背法定程式所取得，亦無刑事訴訟法第159條之4之顯有不可信之情況與不得作為證據之情形。故該文書證據，亦均得採為證據，合先敘明。二、實體部分：(一)、訊據被告林泰華對於犯罪事實一即伊與臺灣籍女子林秋霞無結婚之真意，於91年7月10日，先至泰國辦理結婚登記，並取得結婚證書及相關驗證文件後，再於91年8月9日，持前揭不實之結婚證書等相關文件，前往桃園縣蘆竹鄉戶政事務所，填寫不實之結婚登記申請書，向不知情之該管承辦戶籍登記之公務員形式上審核後，將林秋霞與林泰華結婚之不實事項登載於戶籍謄本等公文書，並據以發給業經登載上開不實事項之戶籍謄本。嗣林泰華旋與林秋霞共同持證件及登載上開不實事項之戶籍謄本，於91年9月18日向內政部入出國及移民署申請居留證之事實已於本院審理時坦承不諱（見本院卷第106頁、第113頁反面），核與證人即同案被告林秋霞於調查站及本案審理時供述相符（見板檢偵卷第4-7頁、本院100訴184卷第15、42頁），並有外國人居停留案件申請表、林秋霞身份證正反面影本、入出國及移民署專勤事務第一大隊臺北縣專勤隊查察紀錄暨訪視照片7張、被告之外僑居留資料、桃園縣蘆竹鄉戶政事務所98年12月17日桃蘆戶字第0000000000號函暨結婚登記申請書、泰國版結婚證書、林秋霞戶籍謄本等附件、被告及林秋霞戶籍資料、入出境資料等在卷可稽（見本院卷第36、71、74頁、板檢偵卷第8、9-11、25、29-34頁、宜檢偵卷第6-8、9-12頁）。事證明確，被告確與同案被告林秋霞無結婚真意共同犯行使使公務員登載不實公文書罪，應依法論科。(二)、惟被告林泰華矢口否認有犯罪事實欄二偽造房屋租賃契約之犯行，辯稱：伊確實有跟一位自稱房東的臺灣男子簽租約，係伊一位泰國女性友人黃美玉陪伊簽約，伊也先付了1萬2千元押金，但2、3天後伊要搬進去卻發現鑰匙打不開，事後伊要再打電話詢問電話也已經都打不通，所以伊就回到桃園觀音友人家居住，伊實際上沒有住在深坑，房屋租賃契約上承租人寫林秋霞名字係因為黃美玉告訴伊要以伊太太林秋霞名義簽約，但林秋霞實際上並無跟伊去簽約云云。然查：證人即入出國及移民署臺北縣服務站本件承辦人洪聖竣證稱：當時其審核被告提出之房屋租賃契約書時發現租約上承租人與出租人筆跡相同，地址也像假的，就至該址查看，出租人表示並無出租予外國人，但承認被告提出之水電單是其所有，其查證後也有通知被告說明，被告說該租約係伊太太去簽的等語（見板檢偵卷第51-52頁）。證人黃美玉於本院審理時雖亦證稱：之前其認識一位泰國籍姊姊在臺北新莊，她說有一個弟弟就是被告要在板橋租房子，其幫忙問，因其剛好認識一位住在板橋的大哥，他說附近有房子可以出租，其就問被告要不要租，被告說好，其原本在花蓮，跟被告約在板橋一起去找那位大哥，該位板橋大哥有帶其與被告去看房子，但沒有打開房門讓其看裡面，該位板橋大哥也有拿水電單給他們看，其當被告翻譯，問被告要不要，被告說ok，合約就由該位大哥寫好，且把鑰匙給被告，之後其就離開回花蓮，被告準備搬家時才打電話給其稱鑰匙打不開，其打電話給板橋大哥，他說他會處理，之後就沒有聯絡。後來其也有陪被告去移民署，因為他有偽造文書的問題。之後其又找另一位大哥跟被告一起去找真正的房東，真正的房東稱不知情，其與被告才知道被騙了，庭上的證人李桓忠就是真正的房東云云（見本院卷第106頁反面-107頁）。然被告之前於本院均稱：伊原本在桃園觀音工作，因為工作不多，伊就跟林秋霞說要一個人搬到深坑云云（見本院卷第20-21頁），又稱：伊以前在桃園觀音工作，但工作地點不一，哪裡叫人伊就去那裡，當初伊想說深坑跟林秋霞比較近云云（見本院卷第110頁反面-111頁），然被告既在桃園觀音工作，又稱不懂中文，竟欲一個人遷居至距桃園觀音甚遠之深坑居住，已有疑義。且臺北縣深坑與林秋霞住居之宜蘭蘇澳址距離亦相當遙遠。又本件承租地址在臺北縣深坑鄉雲鄉路00號2樓，與證人黃美玉所稱：被告要承租板橋的房子云云，亦不相同。再者，被告既欲承租該處，竟未使用鑰匙進屋查看房屋內部情形、可否居住等等，旋即簽約付定1萬2千元押金，亦顯與一般租屋常情有違，殊難想像。被告又稱：自稱房東的人有給伊兩把鑰匙，一支是大門的，但大門就已經打不開，伊之後要搬去時該處都沒有人住，其也沒有按門鈴，因為伊怕他們說伊偷東西，伊係第一次租房子所以不太懂云云（見本院卷第109頁），所述亦與常情不符，亦難採信。(三)、證人李桓忠雖亦稱：當日係一位臺灣人打電話給其，說其房子有問題，後來約在外面見面，其沒有見過被告或黃美玉，其也不知道為何對方有其電話，其向對方解釋該房子是透天厝由其全家居住，沒有出租云云（見本院卷第109頁），然又稱：深坑雲鄉路00號有出租給學生和上班族，其全家是住在雲鄉路00號，78號在前棟，80號是後棟，其出租都是包水電，所以水電費都是扣繳，水電單據沒有外流，其不認識任何外籍人士云云（見本院卷第109頁反面），又改稱：雲鄉路80號之前有出租給外籍人士，但都有身份證，離婚單身，外籍新娘云云（見本院卷第110頁）。前後所述不一，已有可疑，且既稱出租房屋租金均包含水電費，水電單據若未提供他人，外人焉能取得？況卷附房屋租賃契約書上復載有證人李桓忠之身份證字號（見板檢偵卷第21頁）、對方復知悉證人李桓忠電話號碼，證人李桓忠雖稱不認識對方，然竟因對方來電稱其房子有問題，即與他人相約見面乙情，亦與常情有違，以上種種不合理之處均證證人李桓忠所述顯有可疑，誠難採信。該址水電單據應係證人李桓忠提供予被告使用乙情，堪以認定。再佐以證人黃美玉稱：租房子時被告就有說要在工作附近租房子，他說要辦理延期居留。用被告太太名字簽租約係因為其問房東被告沒有身份證可以打契約嗎？需要被告太太名字嗎？房東說不用，因為被告居留證後面有他太太名字所以房東就自己寫。租房子出事後其還跟被告還有桃園的大哥一起去被告太太林秋霞家裡拜託林秋霞幫忙，說把居留證事情辦完就會離婚等語（見本院卷第108、112頁）。被告亦坦承：伊沒有住在深坑雲鄉路該址等語（見本院卷第21頁）。足證被告、證人黃美玉及板橋、桃園大哥均知悉渠等未經林秋霞同意而冒用其名義簽立一虛偽房屋租約以供被告辦理延期居留及變更居留地址使用一節。此外，並有外國人居停留資料申請表、內政部入出國及移民署服務事務大隊臺北縣服務站98年11月10日移署服北縣竣字第0000000000號函暨被告護照影本、外僑居留資料查詢、臺北縣深坑鄉雲鄉路00號2樓電費收據、水費收據、房屋租賃契約書等附件資料、同站99年7月20日函等在卷可證（見本院100訴184卷第27頁、板檢偵卷第12-24、39頁）。從而，綜合上情相互勾稽，足證證人黃美玉與所稱板橋大哥、桃園大哥及證人李桓忠均知悉被告欲辦理居留延期，而冒用林秋霞名義簽訂被告遷居臺北縣深坑鄉雲鄉路00號2樓之不實事項之房屋租賃契約書，堪以認定。被告復持該不實內容之房屋租賃契約書及載有伊與林秋霞不實婚姻關係之戶籍謄本至內政部入出國及移民署服務事務大隊臺北縣服務站，申請辦理居留證延期及居留地址異動，經承辦公務員為形式上審核後，將林泰華居留地址異動至臺北縣深坑鄉雲鄉路00號2樓之不實事項登載於職務上所掌之公文書，被告所犯係行使偽造私文書及行使使公務員登載不實公文書之犯行明確，自應依法論科。三、論罪科刑部分：(一)、新舊法比較：查被告於犯罪事實欄一所載之行使使公務員登載不實公文書行為（行使假結婚登記部分）後，刑法部分條文業於94年2月2日修正公布，並於95年7月1日施行。按行為後法律有變更者，適用行為時之法律，但行為後之法律有利於行為人者，適用最有利於行為人之法律，修正後刑法第2條第1項定有明文。此條規定乃與刑法第1條罪刑法定主義契合，而貫徹法律禁止溯及既往原則，係規範行為後法律變更所生新舊法律比較適用之準據法，是刑法第2條本身雖經修正，但刑法第2條既屬適用法律之準據法，本身尚無比較新舊法之問題，應一律適用裁判時之現行刑法第2條規定以決定適用之刑罰法律，合先敘明。又法律變更之比較適用，比較時應就罪刑有關之共犯、未遂犯、想像競合犯、牽連犯、連續犯、結合犯，以及累犯加重、自首減輕暨其他法定加減（如身分加減）與加減例等一切情形，綜其全部罪刑之結果而為比較；且就比較之結果，須為整體之適用，不能割裂分別適用各該有利於行為人之法律，此即法律變更之比較適用所應遵守之「罪刑綜合比較原則」及「擇用整體性原則」（最高法院24年上字第4634號判例、27年上字第2615號判例、95年第8次刑事庭會議決議可資參照）。茲就本件情形，比較新舊法之適用結果如下：1、刑法第214條使公務員登載不實罪，法定刑罰金部分，依修正後刑法第33條第5款之規定，最低額為新臺幣1,000元，惟依被告行為時之罰金罰鍰提高標準條例第1條前段、修正前刑法第33條第5款規定，罰金之最低額僅新臺幣30元。比較修正前後之規定，以修正前之規定，對被告較為有利。2、關於共犯規定，刑法第28條條文內容，雖由「二人以上共同實施犯罪之行為者，皆為正犯」，修正為「二人以上共同實行犯罪之行為者，皆為正犯」。本件被告係基於與林秋霞共同之犯意聯絡而為本件犯行，上開條文之修正，不影響本件共犯之認定，是修正後之規定，對被告並無不利情形。3、綜上所述，依法律變更之比較適用所應遵守之「罪刑綜合比較原則」及「擇用整體性原則」，經綜合比較新、舊法之適用結果，適用修正後之刑法並未較有利於被告，是被告此部分犯行，自應依現行刑法第2條第1項前段規定整體適用行為時法即修正前刑法之有關規定，合先敘明。4、另關於易科罰金之部分，修正前刑法（即90年1月10日時刑法）第41條第1項前段規定「犯最重本刑為5年以下有期徒刑以下之刑之罪，而受6個月以下有期徒刑或拘役之宣告，因身體、教育、職業、家庭之關係或其他正當事由，執行顯有困難者，得以1元以上3元以下折算1日，易科罰金」，上開以銀元1元以上3元以下折算1日之標準，依修正前罰金罰鍰提高標準條例第2條規定提高1百倍，而為銀元1百元以上3百元以下（即新臺幣3百元以上9百元以下）折算1日（罰金罰鍰提高標準條例於95年5月17日修正刪除第2條，自95年7月1日施行；復於98年4月29日經總統公布廢止，並於98年5月1日生效），而94年2月2日該條項規定修正為「犯最重本刑為五年以下有期徒刑以下之刑之罪，而受六個月以下有期徒刑或拘役之宣告者，得以新臺幣一千元、二千元或三千元折算一日，易科罰金。但確因不執行所宣告之刑，難收矯正之效，或難以維持法秩序者，不在此限」。又於98年1月21日修正為「犯最重本刑為五年以下有期徒刑以下之刑之罪，而受六個月以下有期徒刑或拘役之宣告者，得以新臺幣一千元、二千元或三千元折算一日，易科罰金。但確因不執行所宣告之刑，難收矯正之效或難以維持法秩序者，不在此限」。又於98年12月30修正為「犯最重本刑為五年以下有期徒刑以下之刑之罪，而受六月以下有期徒刑或拘役之宣告者，得以新臺幣一千元、二千元或三千元折算一日，易科罰金。但易科罰金，難收矯正之效或難以維持法秩序者，不在此限」。則比較上開行為時法與修正後裁判時法，應以行為時法即修正前刑法第41條第1項前段之規定較有利於被告，則依刑法第2條第1項前段之規定，此部分之宣告刑及減得之刑自應適用該行為時法所規定之易科罰金折算標準。(二)、是核被告就犯罪事實欄一所載之假結婚戶籍登記並進而持登載不實婚姻事項之戶籍謄本及證件辦理居留證而行使部分，係犯修正前刑法第216條、第214條之行使使公務員登載不實公文書罪。其使公務員登載不實公文書之低度行為，應為行使之高度行為所吸收，不另論罪。又被告就前揭行使使公務員登載不實公文書罪，與林秋霞及其稱臺灣籍成年男子『林福順』、臺灣籍成年女子『李鳳春』及某不知名泰國籍成年女子間，有犯意聯絡及行為分擔，應論以共同正犯。(三)、被告就犯罪事實欄二所為，係犯刑法第216條、第210條之行使偽造私文書罪及同法第216條、第214條之行使使公務員登載不實公文書罪。其冒用林秋霞名義在房屋租賃契約書上偽造其署押之行為，為偽造私文書之部分行為，其偽造私文書及使公務員登載不實公文書之低度行為，亦均為行使之高度行為所吸收，均不另論罪。又被告係同時持虛偽不實之房屋租賃契約私文書及登載不實婚姻關係之戶籍謄本向移民署承辦人員辦理居留延期及居留地址變更事項，為想像競合犯，應從一重論以行使偽造私文書罪。被告就此犯行，與證人黃美玉及其所稱板橋大哥、桃園大哥、證人李桓忠間，有犯意聯絡及行為分擔，應論以共同正犯。(四)、爰審酌被告為泰國籍人，為留在臺灣工作賺錢，竟與臺灣女子林秋霞假結婚，並向移民署人員行使登載不實婚姻關係之戶籍謄本取得居留證，又偽造虛偽不實之房屋租賃契約書以期變更居留地址，損害戶政機關對於戶籍管理與政府對於外籍人士管理之正確性，對我國社會治安及經濟均生不良影響。另考量其國中畢業之教育程度、前以臨時電焊工為業，收入不固定，尚有70餘歲之父母待其扶養之家庭經濟狀況，並患有甲狀腺亢進之身體狀況，犯後仍否認犯行之態度等一切情狀，就被告所犯二罪各量處如主文所示之刑並均諭知易科罰金之折算標準，並定其應執行刑及易科罰金之折算標準【按中華民國96年罪犯減刑條例業於96年7月4日公布，自96年7月16日施行，其規定犯罪時間於96年4月24日以前且無不得減刑之情形者，則應依該條例第2條第1項第3款、第7條規定，減其宣告刑二分之一。查被告所為如犯罪事實欄一所示之行使使公務員登載不實文書罪，係於96年4月24日以前所犯，又無何不得減刑之情形，應依該條例第2條第1項第3款、第7條之規定，減其宣告刑二分之一，並依同條例第9條規定，均諭知易科罰金之折算標準，另依同條例第11條規定，與不得減刑之如犯罪事實欄二所示之行使偽造私文書罪之宣告刑，定其應執行刑。又按裁判確定前犯數罪，其中一罪在新法施行前者，亦應為新舊法比較（最高法院95年5月23日第8次刑事庭會議決議參照）。如所犯數罪，經分別諭知得易科罰金之徒刑，而其折算標準高低不同時，應擇有利於行為人之易科罰金折算標準。本件被告就如事實欄一部分所犯之行使使公務員登載不實公文書罪係在95年7月1日之刑法修正前所犯；事實欄二部分所犯之行使偽造私文書罪係在刑法修正後所犯。又刑法第50條之規定業於102年1月23日修正公布，並於102年1月25日施行。而修正前刑法第50條規定：「裁判確定前犯數罪者，併合處罰之」，修正後刑法第50條規定：「裁判確定前犯數罪者，併合處罰之。但有下列情形之一者，不在此限：一、得易科罰金之罪與不得易科罰金之罪。二、得易科罰金之罪與不得易服社會勞動之罪。三、得易服社會勞動之罪與不得易科罰金之罪。四、得易服社會勞動之罪與不得易服社會勞動之罪。前項但書情形，受刑人請求檢察官聲請定應執行刑者，依第51條規定定之」，而本件被告所宣告之刑，經減刑後均屬得易科罰金之罪，則不論依修正前之刑法第50條，或修正後之刑法第50條之規定，就諭知有期徒刑部分均應併合處罰之，自不生新舊法比較之問題。另經比較修正前後易科罰金之規定，自應以修正前刑法第41條第1項前段規定較有利於被告，故應依修正前刑法第51條、第41條第1項前段規定定其應執行之刑，及諭知易科罰金之折算標準。(五)、偽造之房屋租賃契約書上承租人欄及立契約人（乙方）欄偽造之林秋霞署押2枚，不問屬於犯人與否，應依刑法第219條之規定均宣告沒收。另被告係泰國籍人，在我國犯罪而受本案有期徒刑以上刑之宣告，且係非法在我國工作長達10多年時間，自不宜允其繼續留在我國，以免危害社會治安，本院認其於刑之執行完畢後，有驅逐出境之必要，爰依刑法第95條之規定，於刑之執行完畢或赦免後，驅逐出境。據上論斷，應依刑事訴訟法第299條第1項前段，刑法第2條第1項前段，修正前刑法第28條、第216條、第214條，刑法第210條、修正前及現行第41條第1項前段、第55條、第51條第5款、第219條、第95條，廢止前罰金罰鍰提高標準條例第2條，現行法規所定貨幣單位折算新臺幣條例第2條，中華民國九十六年罪犯減刑條例第2條第1項第3款、第7條、第9條、第11條，刑法施行法第l條之1第1項、第2項前段，判決如主文。本案經檢察官張學翰到庭執行職務。中華民國104年12月7日刑事第二庭審判長法官陳玉雲法官張育彰法官卓怡君以上正本證明與原本無異。如不服本判決應於收受本判決後10日內向本院提出上訴書狀，並應敘述具體理由。若未敘述理由者，應於上訴期間屆滿後20日內向本院補提理由書狀(均須按他造當事人之人數附繕本)。書記官黃家麟中華民國104年12月8日刑法第210條偽造、變造私文書，足以生損害於公眾或他人者，處5年以下有期徒刑。刑法第214條明知為不實之事項，而使公務員登載於職務上所掌之公文書，足以生損害於公眾或他人者，處3年以下有期徒刑、拘役或5百元以下罰金。刑法第216條行使第210條至第215條之文書者，依偽造、變造文書或登載不實事項或使登載不實事項之規定處斷。\n",
            "Article Index: 242 Distance: 0.4587987290290505\n",
            "Article Text: 一、楊斌（其所涉業務過失重傷害部分，另經臺灣桃園地方法院檢察署檢察官以103年度偵字第18549號為不起訴之處分）係址設桃園縣中壢市（現改制為桃園市○○區○○○路000號「自由飛翔活動企劃團隊」（下稱自由飛翔團隊）之實際負責人，為從事各學校校外團康活動業務之人，欲於民國103年7月間，在桃園縣○○鄉○○○○○○○市○○區○○○村○○街000號「石門水庫福華渡假飯店」（下稱福華渡假飯店）、石門水庫及石門山等地舉辦「勇闖冒險島」體驗營活動，其明知附表編號1至3所示企劃書、報名表上所載之單位（下稱各單位）並未同意擔任「勇闖冒險島」體驗營活動之指導、主辦、承辦或協辦單位，竟基於行使業務登載不實文書之犯意，先於103年3、4月間，在自由飛翔團隊上開設址處，擅將各單位列載在其業務上所製作如附表編號1至3之「勇闖冒險島」體驗營企劃書及報名表，以表示各單位為「勇闖冒險島」體驗營活動之指導、主辦、承辦或協辦單位，並於103年4月30日透過「社團法人臺灣原住民文化暨身心障礙就業創業經濟協會」（下稱臺灣原住民文化協會）名義，將內容不實之附表編號1的企劃書，函寄不知情之桃園縣政府（現改制為桃園市政府，以下沿用舊稱）教育局，由桃園縣政府教育局轉達予桃園縣境內各國小代為轉發，經桃園縣政府教育局於103年5月21日回函後，其再委託不知情之印刷商，大量印製內容不實如附表編號2、3之報名表，而由其、不知情之林俊仁送至各國小，或由不知情之自由飛翔團隊成員在各國小校門口直接發送學生，以為行使，對外廣告招收學生，足以生損害於各單位及桃園縣政府教育局對於該活動查驗之正確性。二、案經桃園縣政府教育局告發由臺灣桃園地方法院檢察署檢察官偵查起訴。理由壹、程序部分按被告以外之人於審判外之言詞或書面陳述，除法律有規定者外，不得作為證據；又被告以外之人於審判外之陳述，經當事人於審判程序同意作為證據，法院審酌該言詞陳述或書面陳述作成時之情況，認為適當者，亦得為證據；當事人、代理人或辯護人於法院調查證據時，知有第159條第1項不得為證據之情形，而未於言詞辯論終結前聲明異議者，視為有前項之同意，刑事訴訟法第159條第1項、第159條之5分別定有明文。經查，被告及其辯護人對於本判決以下所引用被告以外之人於審判外之陳述，迄至本院言詞辯論終結前亦未聲明異議，本院審酌上開證據資料作成時之情況，尚無違法不當或證明力明顯過低之瑕疵，而認為以之作為證據應屬適當，依刑事訴訟法第159條之5規定，應認前揭證據資料均有證據能力。貳、認定事實之理由及依據一、訊據被告對於上揭犯罪事實於偵查中、本院審理中均坦承不諱（見臺灣桃園地方法院檢察署103年度他字第4955號卷第112頁，下稱他字卷、本院104年度易字第967號卷一第171頁反面至第172頁，下稱本院卷一、本院104年度易字第967號卷二第44頁及其反面，下稱本院卷二），核與證人即曾任桃園縣政府教育局國小教育科人員張雅筑於本院審理中之證述相符（見本院卷一第68頁至第69頁反面、第71頁、第163頁至第164頁反面），且有附表編號1至3所示之企劃書、報名表影本、各單位之聲明書等資料在卷可佐（見他字卷第2頁至第9頁、第72頁至第77頁反面），足認被告前開自白，核與事實相符，堪以認定，本案事證明確，自應依法論科。二、論罪科刑(一)、核被告所為，係犯刑法第216條、第215條之行使業務登載不實文書罪。又被告於製作附表編號1至3企劃書、報名表時，未經各單位之同意，將各單位分別列載在附表編號1至3之企劃書、報名表，因而侵害各單位之法益，乃係屬一行為觸犯數罪名之同種想像競合犯，應從一重論處。又被告於業務上文書登載不實後復持以行使，業務登載不實文書之低度行為應為行使之高度行為所吸收，不另論罪。被告透過臺灣原住民文化協會將附表編號1之企劃書函寄不知情之桃園縣政府教育局轉達各級學校而行使，以及利用不知情之自由飛翔團隊成員，將附表編號2、3之報名表送達或發送不知情之桃園縣境內各國小及學童而行使，為間接正犯。再按刑法上一行為而觸犯數罪名之想像競合犯，其存在之目的，在於避免對於同一不法要素予以過度評價，則自然意義之數行為，得否評價為法律概念之ㄧ行為，應就客觀構成要件行為之重合情形、主觀意思活動之內容、所侵害之法益與行為間之關連性等要素，視個案情節依社會通念加以判斷。如具有行為局部之同一性，或其行為著手實行階段可認為同一者，得認與一行為觸犯數罪名之要件相侔，而依想像競合犯論擬（最高法院101年度台上字第2449號判決意旨參照）。經查，另被告行使附表編號1至3之企劃書、報名表，雖前後時間、行使對象有別，然被告主觀係為舉辦綠野仙蹤勇闖冒險島活動之單一目的，以被告所為之客觀事實觀察，依社會通念，法律評價應認為係以一行為侵害數法益，應依刑法第55條規定，從情節較重之行使業務登載不實文書罪，起訴書此部分認為係接續犯，容有誤會，附此敘明。(二)、爰以行為人之責任為基礎，審酌被告身為自由飛翔團隊之負責人，本應遵循合法程序謹慎從事，然其僅為達舉辦活動之目的，明知未獲各單位之同意，竟將之列為活動相關單位，侵害他人權益，且損及桃園縣政府以及各單位事務管理之正確性，所為非是，兼衡其大專畢業之智識程度、目前在大陸地區工作、月收入約新臺幣4、5萬元之經濟狀況等情（見本院卷一第172頁反面）、其犯罪動機、目的、手段、所生損害、所得利益及其坦承犯行之犯後態度等一切情狀，量處如主文所示之刑，並諭知易科罰金之折算標準。據上論斷，應依刑事訴訟法第299條第1項前段，刑法第216條、第215條、第55條、第41條第1項前段，刑法施行法第1條之1第1項、第2項前段，判決如主文。本案經檢察官朱哲群到庭執行職務。中華民國106年1月26日刑事第六庭法官涂光慧以上正本證明與原本無異。如不服本判決應於收受判決後10日內向本院提出上訴書狀，並應敘述具體理由。其未敘述上訴理由者，應於上訴期間屆滿後20日內向本院補提理由書(均須按他造當事人之人數附繕本)「切勿逕送上級法院」。書記官張晏齊中華民國106年2月6日附錄論罪科刑法條中華民國刑法第216條（行使偽造變造或登載不實之文書罪）行使第210條至第215條之文書者，依偽造、變造文書或登載不實事項或使登載不實事項之規定處斷。中華民國刑法第215條（業務上文書登載不實罪）從事業務之人，明知為不實之事項，而登載於其業務上作成之文書，足以生損害於公眾或他人者，處3年以下有期徒刑、拘役或5百元以下罰金。附表：\n",
            "Article Index: 45 Distance: 0.4665268147600322\n",
            "Article Text: 一、王維勝（原名王讚生）因竊盜案件經通緝在案，竟為恐遭警緝獲而基於行使偽造私文書之概括犯意，先後為下列行為：(一)王維勝駕駛其向友人廖煜芳所借車牌號碼為A8-0929號之自用小客車，於民國90年6月24日14時2分許，行經不詳處所時(係屬內政部警政署國道公路警察局第三警察隊轄區)，因交通違規，遭警當場攔查舉發，詎其竟冒用其胞弟王山忠名義，於內政部警政署國道公路警察局公警局交字第Z00000000號舉發違反道路交通管理事件通知單收受通知聯者簽章欄內，偽造「王山忠」署名1枚（係一式複寫於通知聯、移送聯及存根聯上），以表示其確為王山忠本人並已收到該通知單之意，而偽造上述違規通知單之私文書，旋復持以行使當場將該通知單移送聯及存根聯交還予填單取締之警員收執，足以生損害於警察機關對交通違規駕駛者處罰之正確性及王山忠本人。(二)王維勝駕駛上開其向友人廖煜芳所借車牌號碼為A8-0929號之自用小客車，於90年7月14日某時，行經(改制前)臺中縣后里鄉○○路某處(係屬改制前臺中縣警察局大甲分局月眉派出所轄區)，因交通違規，遭警當場攔查舉發，詎其竟冒用其胞弟王山忠名義，於臺中縣警察局中縣警交字第H00000000號舉發違反道路交通管理事件通知單收受通知聯者簽章欄內，偽造「王山忠」署名1枚（係一式複寫於通知聯、移送聯及存根聯上），以表示其確為王山忠本人並已收到該通知單之意，而偽造上述違規通知單之私文書，旋復持以行使當場將該通知單移送聯及存根聯交還予填單取締之警員收執，足以生損害於警察機關對交通違規駕駛者處罰之正確性及王山忠本人。二、王維勝嗣復另行基於行使偽造私文書之犯意，駕駛車牌號碼為DY-5000號之自用小客車，於91年7月1日(起訴書誤載為同年月2日)15時17分許，行經臺南縣七股鄉臺十七縣北上170K處時，因超速之交通違規，遭警當場攔查舉發，詎其竟冒用其胞弟王山忠名義，於臺南縣警察局南縣警交字第M00000000號舉發違反道路交通管理事件通知單收受通知聯者簽章欄內，偽造「王山忠」署名1枚（係一式複寫於通知聯、移送聯及存根聯上），以表示其確為王山忠本人並已收到該通知單之意，而偽造上述違規通知單之私文書，旋復持以行使當場將該通知單移送聯及存根聯交還予填單取締之警員收執，足以生損害於警察機關對交通違規駕駛者處罰之正確性及王山忠本人。三、案經王山忠告訴及臺北縣政府警察局(現改制為新北市政府警察局)永和分局報告臺灣臺北地方法院檢察署呈請臺灣高等法院檢察署核轉臺灣臺中地方法院檢察署檢察官偵查起訴。理由壹、證據能力部分：按現行刑事訴訟法為保障被告之反對詰問權，排除具有虛偽危險性之傳聞證據，以求實體真實之發見，於該法第159條第1項明定被告以外之人於審判外之言詞或書面陳述，除法律有規定者外，不得作為證據。而刑事訴訟法第159條之1至159條之4有傳聞法則之例外規定，且被告以外之人於審判外之陳述，雖不符前4條之規定，而經當事人於審判程序同意作為證據，法院審酌該言詞陳述或書面陳述作成時之情況，認為適當者，亦得為證據；當事人、代理人或辯護人於法院調查證據時，知有第159條第1項不得為證據之情形，而未於言詞辯論終結前聲明異議者，視為有前項之同意，刑事訴訟法第159條之5定有明文。查本件經本院於審理期日踐行調查證據程序之被告以外之人於審判外之書面、言詞陳述，公訴人及被告於本院審理時對於證據能力均未聲明異議，本院審酌後認為該等證據均為本院事實認定之重要依據，作為本案之證據均屬適當，故依刑事訴訟法第159條之5規定，均具有證據能力。貳、實體部分：一、訊據被告王維勝對於上揭犯罪事實坦承不諱，核與證人王山忠於警詢及審理中證述、證人廖煜芳於警詢中證述情節相符，復有告訴人所提出之臺北市交通事件裁決所駕駛違規紀錄影本(見他卷第4頁)、指認相片(指認人廖煜芳，見他卷第31頁)、車號A8-0929號之汽機車過戶登記書、汽機車各項異動作業登記單、汽車燃料使用費繳納通知書、台中縣稅捐稽徵處92年全期使用牌照稅繳款書、86年全期使用牌照稅繳款書、86年全期汽車燃料使用費繳款書、汽車燃料使用費繳納通知書、汽車新領牌照登記書(見他卷第33-37頁)、中縣警局車輛協尋電腦輸入單、車籍查詢資料(他卷第39-40頁)、車號A8-0929違規查詢報表(見100年度偵字第1080偵查卷第39)、臺南市政府警察局佳里分局函及所檢附之M00000000號舉發違規通知單影本(見本院卷第18-19頁)等件在卷可稽。參之，A8-0929號自用小客車、DY-5000號自用小客車，登記車主均非王山忠，若非被告確有上揭3次犯行，警察機關端無列「王山忠」為交通違規人之理，足認被告之自白確與事實相符，堪可採信。綜上所述，本案事證明確，被告犯行堪以認定。二、被告行為後，刑法及刑法施行法業於94年2月2日經總統修正公布，並自95年7月1日施行，且查：(一)修正後刑法第2條第1項規定，已將新舊法律適用之「從新從輕」原則，改採「從舊從輕」原則，而此規定僅係規範行為後法律變更所生新舊法律比較適用之準據法，並非實體刑罰法律，自不生行為後法律變更之比較適用之問題，應逕行適用新法第2條第1項之規定，為「從舊從輕」之比較。(二)被告行為後，罰金罰鍰提高標準條例第2條業已刪除，而刑法第41條第1項前段關於易科罰金之折算標準已由舊法之銀元100元、200元、300元修正為新臺幣（下同）1千元、2千元、3千元，因屬科刑規範事項之變更，其折算標準為裁判時所應諭知，自有就新舊法規定比較之必要，經比較新舊法結果，以被告行為時之舊法較為有利於被告，是依修正後刑法第2條第1項前段之規定，本件應適用被告行為時之舊法即依修正前刑法第41條第1項前段、修正前罰金罰鍰提高標準條例第2條、現行法規所定貨幣單位折算新臺幣條例第2條之規定，諭知以銀元300元即新臺幣900元折算1日為易科罰金之折算標準。(三)刑法第56條「連續數行為而犯同一之罪名者，以一罪論。但得加重其刑至2分之1」之規定，業經總統於94年2月2日公布廢除，自95年7月1日施行，亦即刑法第56條廢除後，該條原規定之數行為而犯同一之罪名者，除有接續犯之情形外，應按數罪併罰之原則論處，依修正施行後刑法第2條第1項「行為後法律有變更者，適用行為時之法律。但行為後之法律有利於行為人者，適用最有利於行為人之法律」之規定，比較廢除前後刑法第56條之規定，廢除後之規定，並未較有利於被告，故本件應適用被告行為時即廢除前刑法第56條之規定予以論處。(四)刑法第51條原規定：「數罪併罰，分別宣告其罪之刑，依左列各款定其應執行者：」其中第5款規定：「宣告多數有期徒刑者，於各刑中之最長期以上，各刑合併之刑期以下，定其刑期。但不得逾20年。」修正後刑法第51條第5款規定：「宣告多數有期徒刑者，於各刑中之最長期以上，各刑合併之刑期以下，定其刑期。但不得逾30年。」比較結果，修正後刑法並非較有利於被告，依刑法第2條第1項前段之規定，仍應依修正前刑法，定其應執行之刑三、查，被告王維勝在員警所開立之舉發違反道路交通管理事件通知單（1式3聯）之收受通知聯者簽章欄內，偽簽胞弟「王山忠」姓名，即表示業已收受該舉發通知單之意思，再交回取締員警處理，顯然對於該私文書之內容有所主張，足以生損害於警察機關及監理單位對於交通違規事件舉發、裁罰之正確性以及王山忠之人格權益。是核其所為，均係犯刑法第216條、第210條之行使偽造私文書罪。被告偽造署押之行為，為偽造私文書之階段行為；而偽造私文書之低度行為，復為高度之行使行為所吸收，均不另論罪。被告如犯罪事實欄一(一)、(二)先後2次為上揭行使偽造私文書犯行，均係駕駛A8-0929號自用小客車違規，並均係冒用王山忠之名，且時間相距不到1個月，尚屬時間緊接，手法相同，觸犯構成要件相同之罪名，顯係基於概括犯意反覆為之，為連續犯，應從一重處斷，並加重其刑。至被告如犯罪事實欄二部分所示犯行之時間距離90年7月14日，相隔已11個月餘，要難再認屬時間緊接，此次被告復係另駕駛DY-5000號自用小客車為警查獲交通違規時，始再冒王山忠之名，益見被告此次犯行與上開如犯罪事實欄一部分所示犯行間，犯意各別，行為互殊，應予分論併罰，檢察官誤認被告此部分犯行與被告如犯罪事實欄一部分所示犯行，係屬連續犯關係云云，尚有誤會，附此指明。爰審酌被告前有竊盜、傷害、妨害自由前科，有臺灣臺中地方法院檢察署刑案資料查註紀錄表、臺灣高等法院被告全國前案紀錄表在卷可參，仍不知戒慎自持，欠缺守法觀念，任意冒用他人名義簽署舉發違反道路交通管理事件通知單，對被害人王山忠及交通違規事件管理正確性造成相當損害，惟姑念上開3次交通違規行為，被告嗣均有繳交罰緩結案及被告犯罪後尚能坦承犯行之態度等一切情狀，就其所犯上開2罪，各量處如主文所示之刑，並均諭知易科罰金之折算標準。再中華民國96年罪犯減刑條例業經總統於96年7月4日公布，自同年7月16日施行，本件被告所犯上開刑法第216條、第210條之罪，犯罪時間均係在96年4月24日以前，經核尚無該條例第3條所列不予減刑之情形，均應依中華民國96年罪犯減刑條例第2條第3款規定，各減其刑期2分之1，且就減刑後刑諭知易科罰金之折算標準，暨就其減刑後所處之刑定其應執行之刑及諭知易科罰金之折算標準。按刑法第219條規定：偽造之印文或署押，不問屬於犯人與否，沒收之。係採義務沒收主義，凡偽造之印文或署押，不論是否屬於犯人所有，亦不論有無搜獲扣案，苟不能證明其已滅失，均應依法宣告沒收(最高法院94年度臺上字第3518號判決旨參照)。查，被告於附表編號一號所示舉發違反道路交通管理事件通知單通知聯、移送聯；於附表編號二號所示舉發違反道路交通管理事件通知單通知聯、移送聯、存根聯；於附表編號三號所示舉發違反道路交通管理事件通知單通知聯、存根聯上，偽造之「王山忠」署名，經查並無積極證據足認確已滅失，即均應予宣告沒收。又如附表編號一號所示舉發違反道路交通管理事件通知單之存根聯；如附表編號三號所示舉發違反道路交通管理事件通知單之移送聯，均已銷燬，有內政部警政署國道公路警察局第三警察隊函及交通部公路總局臺北區監理所函各1份在卷可稽(見本院卷第20頁、第25頁)，是被告於附表編號一號所示舉發違反道路交通管理事件通知單存根聯上；於附表編號三號所示舉發違反道路交通管理事件通知單移送聯上，偽造之「王山忠」署名，既均已滅失，即不再予以宣告沒收，附此敘明。據上論斷，應依刑事訴訟法第299條第1項前段，刑法第2條第1項前段、(修正前)第56條、第216條、第210條、第219條、(修正前)第41條第1項前段、(修正前)第51條第5款，(刪除前)罰金罰鍰提高標準條例第2條，中華民國96年罪犯減刑條例第2條第1項第3款、第7條、第9條、第10條第1項，判決處刑如主文。中華民國100年10月27日刑事第十一庭審判長法官王金洲法官陳玉聰法官江奇峰以上正本證明與原本無異。如不服本判決應於收受判決後10日內向本院提出上訴書狀，並應敘述具體理由；其未敘述上訴理由者，應於上訴期間屆滿後20日內向本院補提理由書（均須按他造當事人之人數附繕本）「切勿逕送上級法院」。書記官林素珍中華民國100年10月27日附錄論罪科刑法條：刑法第210條：偽造、變造私文書，足以生損害於公眾或他人者，處5年以下有期徒刑。刑法第216條：行使第210條至第215條之文書者，依偽造、變造文書或登載不實事項或使登載不實事項之規定處斷。附表\n",
            "Article Index: 192 Distance: 0.46750961779768696\n",
            "Article Text: 一、高國彧（已於民國100年1月11日歿）原為盟鑫金屬股份有限公司（下稱盟鑫公司）之負責人；蔡雀惠為高國彧之妻，緣高國彧於99年6月4日起，因重病意識不清而無法處理盟鑫公司業務，蔡雀惠即代理高國彧綜理公司業務，其為從事業務之人；蘇忠茂及張瑞美2人則為盟鑫公司94年2月22日設立登記時登記表上所載之原始股東，登記的出資額分別為新台幣（下同）35萬4000元及96萬3000元。詎蔡雀惠認蘇忠茂及張瑞美2人於盟鑫公司成立時並無實質出資，乃基於偽造私文書、業務登載不實文書及使公務員登載不實之犯意，於99年10月高國彧病情惡化前，蔡雀惠為達將蘇忠茂及張瑞美2人登記之出資額移轉給其不知情之兒子高孟聰（另為無罪判決，後述）及高孟志（業經檢察官為不起訴處分確定）之目的，乃於99年10月26日，在屏東縣枋寮鄉○○村○○路00號盟鑫公司內，未經蘇忠茂、張瑞美及高孟聰之同意，於當日在99年10月26日盟鑫公司股東同意書上，擅自偽造蘇忠茂、張瑞美、高孟聰3人之簽名各1枚，並盜蓋其3人原留存於盟鑫公司之印章，表示蘇忠茂及張瑞美同意將上開同意書所載之出資額（蘇忠茂為34萬9200元；張瑞美為95萬4480元）分別轉讓予高孟聰、高孟志持有。再由蔡雀惠於99年11月3日，將上開股東同意書交由不知情之會計師黃添壕，持以向經濟部中部辦公室申報盟鑫公司登記事項之變更，而行使前開偽造蘇忠茂、張瑞美及高孟聰之署名及印文，致使承辦之公務員為形式審查後，將上述盟鑫公司股東同意書所載不實之股東出資額轉讓事項，登載於職務上所掌，屬於公文書之有限公司變更登記表上，足以生損害於蘇忠茂、張瑞美、高孟聰及經濟部對公司登記管理之正確性。二、案經蘇忠茂、張瑞美分別訴由臺灣屏東地方法院檢察署檢察官偵查起訴及高雄地方法院檢察署檢察官併案審理。理由壹、證據能力本判決後述所援用之證據資料，其中關於傳聞證據部分，被告、辯護人及公訴人於本院審理時，均同意作為證據（本院卷第36-39頁、第62頁），本院審酌上開證據之作成，並無違法或不當情形，且與本案待證事實相關，適當作為證據，依刑事訴訟法第159條之5第1項之規定，認均有證據能力。貳、實體上認定甲、撤銷改判部分（即蔡雀惠有罪部分）一、訊據被告蔡雀惠對上開事實，於本院審理時已坦承不諱（本院卷第36頁、第71頁），核與同案被告高孟聰、證人蔡振德、黃添壕、高國禛、鄭崑竹、高溪興、游文俊、游文邦，及告訴人兼證人張瑞美及蘇忠茂分別於偵訊及原審證述情節相符，復有高國彧高雄市立大同醫院附設中和紀念醫院病歷影本、高雄市立小港醫院病歷影本、告訴人提供之股利憑單共4份、盟鑫公司登記卷宗內之99年10月26日股東同意書、99年11月3日變更登記申請書、有限公司變更登記表（偵二卷第5-6頁、第11頁；偵三卷第12-15頁；偵五卷第70-101頁；偵六卷第111-402頁背面；偵一卷第13頁背面）等在卷可稽，足認被告蔡雀惠上開任意性自白核與事實相符，自得作為認定被告蔡雀惠犯罪之依據，故本件事證明確，被告蔡雀惠犯行洵堪認定。二、又被告蔡雀惠雖於警詢、偵訊均供稱：當是伊先生（高國彧）生前交待伊這樣處理的，因為他跟伊說蘇忠茂並沒有實際出資，而張瑞美則因其所應支付之出資額沒有進來，所以就當她不願意加入，因她也沒有股權，所以才會把他們2人的股份分別轉到高孟聰、高孟志的名下云云（偵三卷第46頁、偵四卷第18頁）。惟查高國彧自99年6月4日起，即因心跳休止，復經高雄市大同醫院附設中和紀念醫院進行急診，並對其施以心肺復甦術，而經心肺復甦術後，雖生命徵象暫時恢復，但自該日後，其已呈意識不清而住院直至99年6月24日止，始轉院至鳳山醫院就診時，仍持續呈半昏迷至木僵狀態，且無法表達意思等情，此有高雄市立大同醫院（委託財團法人私立高雄醫學大學附設中和紀念醫院經營）101年4月20日案件回覆表及所檢附高國彧病歷在卷可按（偵五卷第70-101頁）。又高國彧自99年6月24日至99年6月28日雖轉院到鳳山醫院就醫，然因其於99年6月17日曾因缺氧性腦病變、敗血性休克、呼吸衰竭，經治療後無法順利脫離呼吸器而接受氣切手術，並於99年6月28日又由鳳山醫院轉院至高雄市立小港醫院呼吸照護病房（RCW），評估其意識狀況仍呈現嗜睡無法溝通，直至99年9月28日因敗血性休克極低血氧轉入內科加護病房，於99年10月18日又回轉RCW繼續照護，而於99年10月23日同樣因上述狀況再轉入內科加護病房，復於99年11月12日回轉RCW，又於99年12月17日因急性腎衰竭轉入內科加護病房，然因狀況不穩始於同年12月27日辦理自動出院，而上述住院過程中，高國彧均呈現無法溝通狀況等情，此有高雄市立小港醫院（委託財團法人私立高雄醫學大學附設中和紀念醫院經營）101年5月18日高醫港管字第0000000000號函（偵五卷第106-107頁）在卷可按。由上開高雄市立大同醫院附設中和紀念醫院、高雄市立小港醫院附設中和紀念醫院之函文，及高國彧之上開病歷資料，可見高國彧自99年6月4日起至同年12月27日止，均呈現嗜睡無法溝通、昏迷況態等情，已可確認。又高國彧直至100年1月11日過世之事實，復有個人除戶資料查詢結果表在卷可按（偵六卷第41頁），而本件被告蔡雀惠係於99年10月26日即偽造本件股東同意書，業經認定如前，而由高國彧當時既已呈現無意識，直至過世前呈無法溝通狀態，已如前述，故自難認高國彧與被告蔡雀惠於99年10月26日對上開所偽造股東同意書，有何共同犯意之聯絡。另被告蔡雀惠雖供稱：是高國彧生前交待伊這樣處理的（即將張瑞美、蘇忠茂出資額分別轉到高孟聰、高孟志的名下）云云，惟卻又無法說明高國彧究係何時向其為上開之表示，故被告蔡雀惠上開所供：係高國彧生前向伊為上情之表示，才將張瑞美、蘇忠茂之股份分別轉到高孟聰、高孟志的名下云云，已與高國彧上開病況之情節不符，自難信以為真，故本件應認係被告蔡雀惠個人所為，尚難認高國彧與其有共同之犯意聯絡。公訴意旨認高國彧亦有本件偽造私文書之犯意聯絡，則有誤會。三、被告蔡雀惠於其夫高國彧自99年6月4日住院期間起，已全權代理高國彧綜理盟鑫公司業務，故應為盟鑫公司之實際負責人，且屬從事業務之人。故核被告蔡雀惠所為，係犯刑法第216條、第210條之行使偽造私文書罪、同法第216條、第215條之行使業務上登載不實文書罪及同法第214條之使公務員登載不實罪。又被告蔡雀惠利用不知情之會計師黃添壕，持上開偽造及業務登載不實的股東同意書以向經濟部中部辦公室申報盟鑫公司登記事項之變更，為間接正犯。又被告蔡雀惠偽造「蘇忠茂」、「張瑞美」、「高孟聰」署名之行為，係偽造私文書之部分行為；其偽造私文書、於業務上文書登載不實後，復持以行使，其偽造之低度行為為行使之高度行為所吸收，均不另論罪。又被告蔡雀惠於99年10月26日盟鑫公司股東同意書登載股東蘇忠茂及張瑞美2人出資額移轉之不實事項後，接續在出資轉讓股東簽名欄內偽造蘇忠茂、張瑞美、高孟聰之署名各1枚，均係於密切接近之時、地實施，各行為之獨立性極為薄弱，且係出於同一申請變更登記之目的，應視為數個舉動之接續施行，合為包括之一行為予以評價，應屬接續犯。公訴意旨未就張瑞美95萬4480元股權遭被告蔡雀惠移轉部分起訴，惟此部分與前揭蘇忠茂股權移轉部分，既有接續犯之關係，屬實質上一罪，本院自得併予審理。又被告蔡雀惠以一個行使行為同時觸犯行使偽造私文書罪、行使業務上登載不實文書罪及使公務員登載不實罪，係一行為觸犯數罪名，侵害數法益，為想像競合犯，依刑法第55條規定，應從一重之行使偽造私文書罪處斷。公訴意旨雖認被告蔡雀惠僅偽造張瑞美、蘇忠茂之簽名及盜用其2人留存在盟鑫公司印章，而漏未起訴被告蔡雀惠偽造高孟聰之簽名及盜用其留存在盟鑫公司印章在上開股東同意書部分，惟此部分與前揭偽造張瑞美、蘇忠茂部分，既以一行為予以評價，故依審判不可分之原則，本院自得併予審理，附此敘明。四、原判決就被告蔡雀惠犯行，據以論罪科刑，固非無見；惟查：(一)原審認被告蔡雀惠與高國彧有共同之犯意聯絡，而為共同正犯，已有未洽。(二)原審事實欄既認定被告蔡雀惠將張瑞美95萬4480元股權部分移轉，然於判決理由則未敘明此部分（未經起訴）與本案有接續犯之關係，亦有未合。(三)原審判決理由既認定同案被告高孟聰對上開盟鑫公司股東同意書上「高孟聰」簽名為被告蔡雀惠所偽造及盜用印文，而對被告高孟聰諭知無罪（理由後述），惟卻漏未審酌被告蔡雀惠偽造「高孟聰」簽名及盜用印章部分，亦有未合。檢察官循告訴人張瑞美、蘇忠茂具狀請求上訴意旨，而指摘原判決關於被告蔡雀惠部分量刑過輕，雖為無理由；惟原判決關於被告蔡雀惠部分既有上開瑕疵，自應由本院將原判決此部分予以撤銷改判。五、審酌被告蔡雀惠身為盟鑫公司之實際負責人，明知蘇忠茂及張瑞美、高孟聰均未同意出資額轉讓之事，竟偽造3人之署名，並盜用3人印文，足以生損害於告訴人及高孟聰權益及主管機關管理公司行號之正確性，實屬不該，兼衡被告之年齡、品行、智識能力、犯罪動機、手段、情狀、所生法益受侵害之程度，及其於本案前尚無前科紀錄，素行尚佳，且於犯罪後坦承犯行，態度良好，惟尚未與告訴人和解等一切情狀，爰仍量如原判決所處之有期徒刑6月，並諭知如易科罰金，以新臺幣1000元為折算1日之標準。又盟鑫公司99年10月26日股東同意書出資轉讓股東簽章欄內所偽造之「「蘇忠茂」、「張瑞美」、「高孟聰」署名，各1枚，不問屬於犯人與否，均應依刑法第219條之規定予以宣告沒收之（如附表示所示）。至於被告蔡雀惠盜蓋蘇忠茂、張瑞美、高孟聰原留存於盟鑫公司之印章於上開股東同意書上之印文，均係真正之印章所蓋之印文，非屬刑法第219條規定應沒收之物（最高法院48年台上1533號判例參照），及上開偽造署名之股東同意書，因業已交付予主管機關經濟部承辦人員辦理變更登記，而非屬被告蔡雀惠所有，均不予宣告沒收，亦併此陳明。乙、上訴駁回部分（即高孟聰無罪部分）一、公訴意旨略以：緣高國彧為盟鑫公司負責人，被告蔡雀惠（所犯偽造文書罪部分，另經本院判處有期徒刑6月，已如前述）為高國彧之妻，其於99年6月間高國彧重病無法視事盟鑫公司業務後，出而代理高國彧綜理公司業務，被告高孟聰為高國彧夫妻之子，為盟鑫公司之副總經理兼股東，蘇忠茂則為盟鑫公司94年2月22日創立時之原始股東，蘇忠茂於盟鑫公司之出資額迄99年間止，為34萬9200元。詎高國彧、被告蔡雀惠及被告高孟聰為圖將蘇忠茂上開金額之出資額轉入被告高孟聰名下，並使蘇忠茂除名該公司股東，竟共同基於偽造私文書、偽造署押及印文及行使偽造私文書之犯意聯絡，先於99年10月26日前之不詳時日，在不詳地點，推由其中1人，偽造蘇忠茂之簽名及其印文於盟鑫公司99年10月26日股東同意書上，表示蘇忠茂同意將上開金額之出資額全數轉讓予被告高孟聰持有後，復由被告蔡雀惠於99年11月3日，將上開股東同意書交由不知情之會計師黃添壕，持以向經濟部中部辦公室申報盟鑫公司登記事項之變更，而行使上開偽造蘇忠茂之簽名及印文，因認被告高孟聰亦涉犯刑法第210條、第217條、第216條行使偽造私文書罪嫌云云。二、按犯罪事實應依證據認定之，無證據不得認定犯罪事實；又不能證明被告犯罪者，應諭知無罪之判決，刑事訴訟法第154條第2項、第301條第1項分別定有明文。次按認定不利於被告之事實須依積極證據，苟積極證據不足為不利於被告事實之認定，即應為有利被告之認定，更不必有何有利之證據；又犯罪事實之認定，應憑證據，如無相當之證據，或證據不足以證明，自不得以推測或擬制之方法，以為裁判之基礎（最高法院30年上字第816號判例、40年臺上字第86號判例可資參照）。又檢察官就被告犯罪事實，應負舉證責任，並指出證明之方法，亦為同法第161條第1項所明定。因此，檢察官對於起訴之犯罪事實，應負提出證據及說服之實質舉證責任，倘其所提出之證據，不足為被告有罪之積極證明，或其指出證明之方法，無從說服法院以形成被告有罪之心證，基於無罪推定之原則，自應為被告無罪判決之諭知，亦有最高法院92年臺上字第128號判例足參。所謂認定犯罪事實之證據，係指足以認定被告確有犯罪行為之積極證據而言，如未發現相當證據，或證據不足以證明，自不能以推測或擬制之方法，以為裁判基礎。且刑事訴訟上證明之資料，無論其為直接證據或間接證據，均須達於通常一般人均不致於有所懷疑，而得確信其為真實之程度，始得據為有罪之認定，若其關於被告是否犯罪之證明未能達此程度，而有合理性懷疑之存在，致使無從形成有罪之確信，根據「罪證有疑，利於被告」之證據法則，即不得遽為不利被告之認定，其以情況證據（即間接證據）斷罪時，尤須基於該證據在直接關係上所可證明之他項情況事實，本乎推理作用足以確證被告有罪，方為合法，不得徒憑主觀上之推想，將一般經驗上有利被告之其他合理情況逕予排除。（最高法院76年臺上字第4986號、32年度上字67號判例參照）三、公訴意旨認被告高孟聰涉犯上述行使偽造私文書罪嫌，無非係以被告高孟聰於偵查中之供述、被告兼證人蔡雀惠，及證人蔡振德、黃添壕、高國禎、鄭崑竹、告訴人兼證人蘇忠茂等人於偵查中之證述，及高國彧高雄市立大同醫院附設中和紀念醫院病歷影本、高雄市立小港醫院病歷影本、告訴人蘇忠茂提供之股利憑單、盟鑫公司登記卷宗內之99年10月26日股東同意書、99年11月3日變更登記申請書、有限公司變更登記表等為其主要論據。訊據被告高孟聰堅決否認有上開偽造文書之犯行，並辯稱：伊沒有參與偽造張瑞美、蘇忠茂股份移轉，這些都是伊母親（蔡雀惠）所為，因當時伊父親意識狀況已經模糊，而伊當完兵後，即被緊急召回公司，對於公司股權是如何移轉均不清楚等語（本院卷第71頁反面）。四、經查：（一）共同被告兼證人蔡雀惠原審審理時，已證稱：盟鑫公司實際經營者剛開始是伊先生高國彧…，而移轉張瑞美、蘇忠茂股權這件事情，高孟聰、高孟志均不知情，伊是辦完之後，才告訴這兩個孩子（高孟聰、高孟志），也是伊去把張瑞美、蘇忠茂的股權辦理移轉的，且99年10月26日股東同意書上的同意修正章程、股權移轉，其上面的蘇忠茂、張瑞美的簽名都是伊簽的，印章是當初設立公司時，公司為他們所代刻的印章，而一直留在公司，高孟聰、高孟志2人沒有參與，而高孟聰、高孟志上的（99年10月26日）股東同意書簽名，其中高孟志是自己簽名的，但他不曉得這要做什麼，伊當時只是拿1紙白紙給他簽的，而高孟聰部分的簽名則是伊簽的，而伊簽股東同意書時，確實是沒有經過開會程序等語（原審二卷第83-90頁）；並於本院審理時，亦已供承：當時高孟聰沒有授權給伊在上面簽他的名字及蓋章等語（本院卷第71頁反面）；而證人即會計師黃添壕於偵訊亦證稱：伊於99年間有受盟鑫公司委託辦理盟鑫公司變更登記業務，都是蔡雀惠與伊接洽的，一整年都是蔡雀惠與伊接洽事務，蔡雀惠並非盟鑫公司股東，也沒有擔任正式職位，但盟鑫公司都是她與高國彧在經營，他們的前身是長煒科技，辦理公司登記都是蔡雀惠與伊接洽比較多，高國彧與伊則沒有這方面的業務往來，但關於公司盈虧業務經營事項，伊會跟高國彧報告，盟鑫公司為有限公司，故依法是不需要召開股東會議，股東同意書是由伊事務所依照經濟部固定格式，先為他們先打印好，再交給他們自行找股東簽章，至於他們內部是如何達成決議，伊並不清楚等語（偵六卷第14頁）；另證人即高國彧之弟高國禎亦於偵訊證稱：盟鑫公司於99年間的實際負責人應該是高國彧或蔡雀惠，高國彧在過世前1年左右，身體狀況已經非常不好，斷斷續續都在住院，事情就變成蔡雀惠在經手處理，盟鑫公司股東同意書，每頁都是伊自己簽名的，蔡雀惠打電話給我，跟伊說公司要開會，叫伊去公司簽名，伊就去簽名等語（偵六卷第16頁）；另證人鄭崑竹於偵訊亦證稱：伊於93年9月1日是在長煒科技公司任職，後來94年間盟鑫公司成立時，伊同意他們以伊的名義成為掛名的負責人，但是實際上的經營者是高國彧及蔡雀惠，伊並沒有參與公司的實際經營等語（偵六卷第12頁），足認盟鑫公司於高國彧自99年6月4日起住院期間，被告蔡雀惠已為公司之實際負責人，且由其將盟鑫公司99年10月26日股東同意書交由會計師黃添壕辦理盟鑫公司的股東出資轉讓，及修正公司章程變更登記之事實，應可確認。（二）又經臺灣屏東地方法院檢察署檢察官及原審法院將上開盟鑫公司股東同意書「蘇忠茂」簽名及被告高孟聰親筆簽名送內政部警政署刑事警察局及法務部調查局，則均無法確認盟鑫公司股東同意書上「蘇忠茂」簽名係由被告高孟聰所偽造等情，此有內政部警政署刑事警察局101年8月9日刑鑑字第0000000000號函（偵六卷第33頁）、法務部調查局101年9月21日調科貳字第00000000000號函（偵六卷第37頁）、法務部調查局102年10月17日調科貳字第00000000000號函（原審卷第116頁），是既無法證明上開盟鑫公司股東同意書上開「蘇忠茂」簽名為被告高孟聰所偽造，復無證據足資證明被告高孟聰於被告蔡雀惠偽造「蘇忠茂」簽名時亦有在場參與，已難認被告高孟聰與蔡雀惠有共同偽造私文書罪之犯意聯絡，自不得對被告高孟聰遽以偽造私文書罪相繩。（三）綜上所述，本件既未有何證據足以證明被告高孟聰其有在前開股東同意書上偽簽告訴人「蘇忠茂」之簽名及盜蓋「蘇忠茂」之印章，而公訴人亦未能提出積極之證據證明其與同案被告蔡雀惠就上開偽造私文書罪，有何犯意之聯絡或行為之分擔，自不能僅憑被告高孟聰係蔡雀惠之子，及其任職於盟鑫公司，即推認其亦涉有上述偽造文書犯行。五、本件公訴意旨所舉前開證據，既均不足以確信被告高孟聰有公訴意旨所指偽造文書犯行，自難對其論以偽造私文書罪。此外，復查無其他積極證據足認被告高孟聰涉有其他犯行，揆諸首揭說明，被告高孟聰既屬犯罪不能證明，自應為無罪之諭知。六、原審以不能證明被告高孟聰犯偽造私文書罪，而為無罪之諭知，核無違誤；檢察官循告訴人張瑞美、蘇忠茂具狀請求上訴意旨，而指摘原判決關於被告高孟聰無罪部分不當，為無理由，應予駁回。七、本案既認定被告高孟聰為無罪，則臺灣高雄地方法院檢察署103年度偵字第5452號被告高孟聰併案部分，與本案即無裁判上一罪關係，應一併退回由檢察官偵辦，併此敘明。據上論結，應依刑事訴訟法第368條、第369條第1項前段、第364條、第299條第1項前段，刑法第216條、第210條、第214條、第215條、第55條、第41條第1項前段、第219條，刑法施行法第1條之1第1項、第2項前段，判決如主文。本案經檢察官張其主到庭執行職務。中華民國103年6月26日刑事第六庭審判長法官翁慶珍法官莊飛宗法官李政庭以上正本證明與原本無異。如不服本判決應於收受本判決後10日內向本院提出上訴書狀，其未敘述上訴理由者，並得於提起上訴後10日內向本院補提理由書狀（均須按他造當事人之人數附繕本）「切勿逕送上級法院」。中華民國103年6月26日書記官蔡妮庭附錄本件判決論罪科刑法條：中華民國刑法第210條（偽造變造私文書罪）偽造、變造私文書，足以生損害於公眾或他人者，處5年以下有期徒刑。中華民國刑法第214條（使公務員登載不實罪）明知為不實之事項，而使公務員登載於職務上所掌之公文書，足以生損害於公眾或他人者，處3年以下有期徒刑、拘役或5百元以下罰金。中華民國刑法第215條（業務上文書登載不實罪）從事業務之人，明知為不實之事項，而登載於其業務上作成之文書，足以生損害於公眾或他人者，處3年以下有期徒刑、拘役或5百元以下罰金。中華民國刑法第216條（行使偽造變造或登載不實之文書罪）行使第210條至第215條之文書者，依偽造、變造文書或登載不實事項或使登載不實事項之規定處斷。附表\n",
            "Article Index: 482 Distance: 0.4694125761238176\n",
            "Article Text: 一、林奇穎於民國107年5月15日21時許，因涉嫌違反毒品危害防制條例案件為警查獲，在花蓮縣警察局花蓮分局豐川派出所應訊時，為免其另案遭通緝之身分為警發現及避免因施用第二級毒品案件受到刑事追訴處罰，竟基於行使偽造私文書及偽造署押之接續犯意，於同日21時55許至22時25分許止，冒用不知情之其弟「林廉智」之名義應訊，接續於附表編號1至5所示之文書及欄位內偽造「林廉智」之署名及指印（數量各如附表所示），足生損害於「林廉智」；其中附表編號5所示之文書，依其內容表示「林廉智」本人對勘察採證為同意之意思表示，並將之交還警員收執存卷而行使之，足生損害於警察機關對犯罪偵查之正確性及「林廉智」本人。嗣經檢察官傳喚林廉智到庭訊問而查悉上情。二、案經臺灣花蓮地方檢察署檢察官分案偵查起訴。理由壹、證據能力部分：按被告以外之人於審判外之言詞或書面陳述，除法律有規定者外，不得作為證據。被告以外之人於審判外之陳述，雖不符刑事訴訟法第159條之1至第159條之4之規定，而經當事人於審判程序同意作為證據，法院審酌該言詞陳述或書面陳述作成時之情況，認為適當者，亦得為證據；當事人、代理人或辯護人於法院調查證據時，知有第159條第1項不得為證據之情形，而未於言詞辯論終結前聲明異議者，視為有前項之同意，刑事訴訟法第159條第1項、第159條之5分別定有明文。本判決以下所引用被告以外之人於審判外之言詞或書面陳述，固屬傳聞證據，惟被告於本院審理時對於證據能力表示沒有意見，均同意作為證據等語(見本院卷第155頁)，迄至本件言詞辯論終結前，亦未聲明異議，本院審酌上開證據資料作成時之外部狀況，尚無違法取證及證明力明顯過低之瑕疵，認為以之作為證據應屬適當，依前揭刑事訴訟法第159條之5之規定，認前揭供述證據均有證據能力。貳、實體事項一、認定犯罪事實所憑之證據及理由：上揭犯罪事實，業據被告於偵查中、原審及本院審理時坦承不諱（見毒偵卷第43頁、原審卷第52頁反面、第57頁反面、本院卷第157頁），核與證人即被告之弟林廉智於偵查中之證述相符(毒偵卷第25-30頁)，並有如附表所載之文書、林廉智之簽名比對資料、內政部警政署刑事警察局107年11月8日刑生字第1078004171號鑑定書在卷可佐（警卷第3-9、11-14頁，毒偵卷第29、30、49-53頁），足見被告之任意性自白與事實相符，應可採信。綜上，本案事證明確，被告之犯行洵堪認定，應依法論科。二、論罪：(一)按刑法第217條第1項所稱之「偽造署押」，係指行為人單純冒用本人名義在文件上簽名或為民法第3條第3項所稱指印之類似簽名之行為者而言（最高法院80年度台非字第277號判決意旨參照）。若在制式之書類上偽造他人署名，已為一定意思表示，具有申請書或收據等類性質者，則係犯偽造文書罪（最高法院85年度台非字第146號判決意旨參照）。準此，刑法上偽造文書罪章所指之文書，除必須具備有體性、文字性、持續性、意思性等要件外，尚必須存有足以表彰一定之製作名義人之名義性時，該等記載方可認為係文書，否則若僅為表彰某人簽名意思之署名或簽押，並不具有表彰一定製作名義人之名義性存在，該等記載即無從認為係刑法上之文書，而只能認為係單純之署押。是倘行為人係以簽名之意，於文件上簽名，且該簽名僅在於表示簽名者個人身份，以作為人格同一性之證明，除此之外，再無任何其他用意者，固即係刑法上所稱之「署押」，然若於作為人格同一性之證明之外，尚有其他法律上之用意（例如表示收受某物之用意而成為收據之性質、表示對於某事項為同意之用意證明）者，即應該當刑法上之「私文書」。本件被告於附表編號1、2、3、4所載文書偽造「林廉智」之署名及指印部分，該簽名、指印僅係表示受詢問、受通知者係「林廉智」其人無誤，並無其他法律上之用意，自均屬成立偽造署押之範疇；被告於附表編號5所示文書偽造「林廉智」之署名及指印部分，係表示同意接受採尿送驗鑑定之意思表示，當屬刑法上之私文書，且被告偽造後復持之行使，自足以生損害於司法警察就犯罪偵查之正確性及林廉智本人。(二)核被告所為，附表編號1至4部分均係犯刑法第217條第1項偽造署押罪，附表編號5部分係犯刑法第216條、第210條之行使偽造私文書罪。被告附表編號5部分之偽造署押，係偽造私文書之部分行為，其於偽造私文書後復持以行使，該偽造私文書之低度行為已為行使偽造私文書之高度行為所吸收，均不另論罪。被告附表編號1至5部分所為偽造署押及行使偽造私文書之行為，均係因被告出於隱匿身分、逃避刑責之目的冒名應訊而為之各個舉動，各行為之獨立性極為薄弱，依一般社會健全觀念難以強行分離，且被告主觀上當然有自始至終在各階段中為偽冒「林廉智」應訊目的之意思，認各個舉動不過為犯罪行為之一部分，並係侵害同一法益，接續而完成整個犯罪，顯基於單一犯意接續所為，應包括於一行為予以評價，為接續犯，應論以一罪。被告接續以一行為觸犯行使偽造私文書罪及偽造署押罪，為想像競合犯，應依刑法第55條之規定，從一重以刑法第216條、第210條之行使偽造私文書罪處斷。(三)被告構成累犯，並應依法加重其刑：1.被告前因①施用毒品案件，經原審法院以102年度訴字第174號判決判處有期徒刑7月、8月，定應執行刑有期徒刑11月；又因②施用毒品案件，經原審法院以103年度訴字第108號判決判處有期徒刑10月，均經確定在案，上開2案接續執行，被告於103年1月16日入監，於104年5月22日假釋出監，惟被告假釋嗣後經撤銷，於105年4月30日入監執行殘刑，於105年8月27日執行完畢，有臺灣高等法院被告前案紀錄表在卷可查，被告於有期徒刑執行完畢後，5年以內故意再犯本件有期徒刑以上之罪，符合刑法第47條第1項累犯規定。2.依108年2月22日公布之司法院釋字第775號解釋認：刑法第47條第1項累犯規定，不分情節一律加重最低本刑，不符憲法罪刑相當原則，抵觸憲法第23條比例原則，應自解釋公布日起2年內修正之；於修正前，法院就個案應依解釋意旨，裁量是否加重最低本刑。申言之，法院仍得斟酌個案情形裁量是否加重最低本刑，並未完全排除累犯規定之適用。3.本院審酌被告前開構成累犯之案件為施用毒品犯罪，其入監執行後雖假釋出監，不久即經撤銷假釋，再入監執行殘刑，於105年8月27日執行完畢；又另因施用毒品案件，經法院判刑確定並遭通緝，於通緝期間為掩飾身分避免其施用毒品犯行再遭查獲而為本件犯行，有臺灣高等法院被告前案紀錄表及被告之供述可按，足見被告實不知警惕，一再犯罪，堪認其刑罰反應力薄弱，有特別之惡性，確有延長其矯正期間，以助其重返社會，並兼顧社會防衛之必要，因認被告所犯本件行使偽造私文書罪，應加重其最低本刑。三、原判決撤銷之理由：(一)原判決以：考量其構成累犯之前案與本件偽造署押、行使偽造私文書所保護之法益不同，尚難因此認為被告就此部分犯行有主觀特別惡性存在，爰不依刑法第47條第1項規定加重其刑等語，固非無見。惟司法院釋字第775號解釋係指個案應量處最低法定刑，又無法適用刑法第59條在內減輕規定之情形，法院應依此解釋意旨裁量是否加重最低本刑。本件被告如前所述已因施用毒品案件多次犯罪，並曾經判處罪刑及執行完畢，理應生警惕作用，期待其得以自我控管，仍故意再為本件犯行，足認確有特別之惡性，對於刑罰反應力薄弱，原審疏未審酌及此，僅以其構成累犯之前案與本件行使偽造私文書等罪所保護之法益不同，即認難以認被告有主觀特別惡性存在等語，而裁量不加重最低本刑，顯有未合。(二)按刑罰之量定，固屬法院自由裁量之職權行使，然刑事審判之量刑，在於實現刑罰權之分配的正義，故法院對科刑判決之被告量刑，應符合罪刑相當原則，使罰當其罪，以契合人民之法律感情，此所以刑法第57條明定科刑時應審酌一切情狀，尤應注意該條所列各款情形，以為科刑輕重之標準（最高法院96年度台上字第2357號判決意旨參照）。本件被告有前述之犯罪科刑紀錄，素行不佳，其犯罪後雖坦承犯行，然其為掩飾身分及為避免施用毒品犯行遭到追訴處罰，即任意冒用其弟姓名應訊、偽造署押及行使偽造私文書，使其弟無端受到刑事調查、訴追之風險，並影響國家司法權之正確行使，極為不該，原審僅量處被告刑法第210條、第216條行使偽造私文書罪法定刑之最低刑有期徒刑2月，顯不足以反應被告行為之惡性，達到刑罰一般預防及特別預防之效果，有違人民之法律感情，檢察官上訴指摘原審僅量處被告有期徒刑2月，量刑過輕等語，為有理由。(三)從而，原審判決既有前述可議之處，自應由本院予以撤銷改判。四、科刑：爰審酌被告有多次犯罪科刑之紀錄，其為避免遭到查緝而冒名應訊，致使其弟無端遭到偵查，嚴重危害司法警察機關對於犯罪偵查之正確性，危害不輕；然其犯罪後坦承犯行，態度尚可；兼衡被告自述國中畢業，智識程度不高，入監前從事鐵工工作，日薪約新臺幣(下同)1千7百元，未婚、無須扶養之人之生活狀況等一切情狀，量處如主文第二項所示之刑，並諭知易科罰金之折算標準，以資懲儆。五、沒收：如附表所示偽造之「林廉智」署押共24枚（含署名6枚、指印18枚），均係被告所偽造之署押，不問屬於犯人與否，皆應依刑法第219條之規定，宣告沒收之。至被告偽造如附表編號5所示之勘察採證同意書，業據被告持以行使而交付警員收執，已非被告所有，又非違禁物，爰不另為沒收之諭知，併此敘明。據上論斷，依刑事訴訟法第369條第1項前段、第364條、第299條第1項前段，刑法第217條第1項、第216條、第210條、第55條、第41條第1項前段、第47條第1項、第219條，判決如主文。本案經檢察官蘇聖涵提起公訴，檢察官羅國榮提起上訴，檢察官黃怡君到庭執行職務。中華民國108年11月27日刑事庭審判長法官邱志平法官王紋瑩法官林碧玲以上正本證明與原本無異。如不服本判決，應於收受送達後10日內向本院提出上訴書狀，其未敘述理由者，並得於提起上訴狀後10日內向本院補提理由書（均須按他造當事人之人數附繕本）「切勿逕送上級法院」。告訴人或被害人如對於本判決不服者，應具備理由請求檢察官上訴，其上訴期間之計算係以檢察官收受判決正本之日期為準。中華民國108年11月27日書記官徐珮綾附表：\n"
          ]
        }
      ]
    },
    {
      "cell_type": "code",
      "source": [
        "predicted_sentences_all = []\n",
        "\n",
        "for test_embedding in TFIDF_summary5_encoded_test_facts_float_np:\n",
        "    test_embedding = test_embedding.reshape(1, -1)\n",
        "    distances, indices = knn_model_TFIDF_loaded.kneighbors(test_embedding)\n",
        "    # 取得最相近的五篇文章的索引及距離\n",
        "    nearest_articles_indices = indices[0]\n",
        "    nearest_articles_distances = distances[0]\n",
        "    predicted_sentences = 0\n",
        "    # 將最相近的五篇文章的刑期加總，並計算平均值作為預測刑期\n",
        "    for i, index in enumerate(nearest_articles_indices):\n",
        "        predicted_sentences += train_sentences[index]\n",
        "    predicted_sentence = float(predicted_sentences) / 5\n",
        "\n",
        "    predicted_sentences_all.append(predicted_sentence)\n",
        "\n"
      ],
      "metadata": {
        "id": "JVeWbENwWLzL"
      },
      "execution_count": 332,
      "outputs": []
    },
    {
      "cell_type": "code",
      "source": [
        "print(predicted_sentences_all)\n",
        "print(test_sentences)"
      ],
      "metadata": {
        "colab": {
          "base_uri": "https://localhost:8080/"
        },
        "outputId": "6a6c8a6b-8ef0-422d-81e0-841ed813fc0c",
        "id": "kYLpVyElWLzL"
      },
      "execution_count": 333,
      "outputs": [
        {
          "output_type": "stream",
          "name": "stdout",
          "text": [
            "[144.0, 186.0, 126.0, 82.0, 411.0, 472.0, 260.0, 156.0, 186.0, 229.0, 114.0, 192.0, 393.0, 344.0, 202.0, 205.0, 235.0, 102.0, 120.0, 100.0, 202.0, 114.0, 181.0, 162.0, 116.4, 62.0, 265.0, 110.0, 156.0, 147.0, 303.0, 169.0, 241.0, 106.0, 199.0, 224.6, 114.0, 192.0, 211.0, 448.0, 118.0, 197.4, 92.0, 277.8, 194.0, 111.0, 251.0, 186.0, 97.6, 168.0, 202.2, 226.0, 181.4, 187.0, 213.4, 171.0, 384.2, 241.0, 248.0, 156.0, 217.4, 199.0, 357.0, 114.0, 114.0, 197.0, 290.0, 141.0, 199.0, 155.0, 210.4, 144.0, 132.0, 247.0, 84.0, 150.0, 229.0, 116.0, 100.0, 174.0, 179.0, 216.0, 229.0, 314.0, 228.0, 177.0, 198.0, 148.0, 235.4, 106.0, 174.4, 275.0, 123.0, 160.0, 320.0, 351.0, 139.0, 229.4, 189.0, 174.0]\n",
            "[150, 242, 60, 302, 365, 150, 90, 120, 120, 180, 120, 90, 120, 90, 90, 90, 180, 270, 425, 50, 150, 90, 365, 195, 150, 50, 345, 150, 150, 90, 425, 135, 120, 240, 20, 240, 60, 120, 60, 150, 90, 240, 365, 210, 150, 120, 32, 150, 505, 90, 90, 120, 120, 120, 165, 180, 302, 90, 120, 730, 240, 40, 180, 90, 90, 180, 150, 450, 240, 240, 120, 120, 120, 120, 165, 150, 180, 90, 60, 120, 60, 820, 180, 90, 120, 120, 240, 180, 120, 90, 270, 195, 90, 180, 150, 120, 120, 150, 180, 180]\n"
          ]
        }
      ]
    },
    {
      "cell_type": "code",
      "source": [
        "mse_linear = mean_squared_error(test_sentences, predicted_sentences_all)\n",
        "rmse_linear = mean_squared_error(test_sentences, predicted_sentences_all, squared=False)\n",
        "mae_linear = mean_absolute_error(test_sentences, predicted_sentences_all)"
      ],
      "metadata": {
        "id": "x-vsid22WLzL"
      },
      "execution_count": 334,
      "outputs": []
    },
    {
      "cell_type": "code",
      "source": [
        "print('\\n==================================================')\n",
        "print(\"Linear Regression - MSE:\", mse_linear)\n",
        "print(\"Linear Regression - RMSE:\", rmse_linear)\n",
        "print(\"Linear Regression - MAE:\", mae_linear)"
      ],
      "metadata": {
        "colab": {
          "base_uri": "https://localhost:8080/"
        },
        "outputId": "cd7ce19c-51c4-4975-f260-8155afb5f5cb",
        "id": "d4L_5IOfWLzL"
      },
      "execution_count": 335,
      "outputs": [
        {
          "output_type": "stream",
          "name": "stdout",
          "text": [
            "\n",
            "==================================================\n",
            "Linear Regression - MSE: 22577.1848\n",
            "Linear Regression - RMSE: 150.25706239641448\n",
            "Linear Regression - MAE: 103.344\n"
          ]
        }
      ]
    }
  ]
}