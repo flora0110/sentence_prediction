{
  "cells": [
    {
      "cell_type": "markdown",
      "metadata": {
        "id": "view-in-github",
        "colab_type": "text"
      },
      "source": [
        "<a href=\"https://colab.research.google.com/github/flora0110/sentence_prediction/blob/main/Extraction_based_LLM.ipynb\" target=\"_parent\"><img src=\"https://colab.research.google.com/assets/colab-badge.svg\" alt=\"Open In Colab\"/></a>"
      ]
    },
    {
      "cell_type": "markdown",
      "metadata": {
        "id": "-nJsx4ZXtRFr"
      },
      "source": [
        "# input data"
      ]
    },
    {
      "cell_type": "code",
      "execution_count": 1,
      "metadata": {
        "colab": {
          "base_uri": "https://localhost:8080/"
        },
        "id": "CN6KRC3hs_L4",
        "outputId": "0091689c-6957-485f-ba3c-f2a431c1f33e"
      },
      "outputs": [
        {
          "output_type": "stream",
          "name": "stdout",
          "text": [
            "Mounted at /content/drive\n"
          ]
        }
      ],
      "source": [
        "from google.colab import drive\n",
        "drive.mount('/content/drive')"
      ]
    },
    {
      "cell_type": "code",
      "source": [
        "import json\n",
        "\n",
        "with open('/content/drive/MyDrive/senior/LAB/LawCaseRetreiver/sentence_predict/dataset_new/train_data.json', 'r', encoding='utf-8') as f:\n",
        "    train_data = json.load(f)\n",
        "\n",
        "#with open('/content/drive/MyDrive/senior/LAB/LawCaseRetreiver/sentence_predict/dataset_new/test_data.json', 'r', encoding='utf-8') as f:\n",
        "#    test_data = json.load(f)"
      ],
      "metadata": {
        "id": "FAR9k7e2Xba6"
      },
      "execution_count": 2,
      "outputs": []
    },
    {
      "cell_type": "code",
      "execution_count": null,
      "metadata": {
        "id": "gStLn5-ptGSu"
      },
      "outputs": [],
      "source": [
        "import json\n",
        "\n",
        "with open('/content/drive/MyDrive/train_data.json', 'r', encoding='utf-8') as f:\n",
        "    train_data = json.load(f)\n",
        "\n",
        "#with open('/content/drive/MyDrive/senior/LAB/LawCaseRetreiver/sentence_predict/dataset_new/test_data.json', 'r', encoding='utf-8') as f:\n",
        "#    test_data = json.load(f)"
      ]
    },
    {
      "cell_type": "code",
      "execution_count": 3,
      "metadata": {
        "id": "UjSTAoKQtMHW"
      },
      "outputs": [],
      "source": [
        "def extract_key_contents(data):\n",
        "    facts = []\n",
        "    sentences = []\n",
        "    for item in data:\n",
        "        facts.append(item.get('fact'))\n",
        "        sentences.append(item.get('sentance'))\n",
        "    return facts, sentences"
      ]
    },
    {
      "cell_type": "code",
      "execution_count": 4,
      "metadata": {
        "id": "OCrCtkRBtNuj"
      },
      "outputs": [],
      "source": [
        "train_facts, train_sentences = extract_key_contents(train_data)\n",
        "#test_facts, test_sentences = extract_key_contents(test_data)"
      ]
    },
    {
      "cell_type": "markdown",
      "metadata": {
        "id": "4tmj1GQRuGV1"
      },
      "source": [
        "# split into sentence"
      ]
    },
    {
      "cell_type": "code",
      "execution_count": 5,
      "metadata": {
        "id": "-iRgj8EruIcO"
      },
      "outputs": [],
      "source": [
        "def split_into_sentences(text):\n",
        "    return [sentence.strip() for sentence in text.split('。')]"
      ]
    },
    {
      "cell_type": "code",
      "execution_count": 6,
      "metadata": {
        "id": "X6DuA0tyuO1K"
      },
      "outputs": [],
      "source": [
        "train_facts_sentences = []\n",
        "for document in train_facts:\n",
        "    train_facts_sentences.append(split_into_sentences(document))"
      ]
    },
    {
      "cell_type": "code",
      "execution_count": null,
      "metadata": {
        "id": "6bdCRQAhuI3w"
      },
      "outputs": [],
      "source": [
        "test_facts_sentences = []\n",
        "for document in test_facts:\n",
        "    test_facts_sentences.append(split_into_sentences(document))"
      ]
    },
    {
      "cell_type": "code",
      "execution_count": null,
      "metadata": {
        "colab": {
          "base_uri": "https://localhost:8080/"
        },
        "id": "GY9Ot4JSuUvb",
        "outputId": "76f9c7fd-c2c0-41b0-bd7f-b4a57ff91d12"
      },
      "outputs": [
        {
          "name": "stdout",
          "output_type": "stream",
          "text": [
            "500\n",
            "51\n",
            "一、陳泰龍明知其與泰國籍女子陳玉婉（泰國名字為JARUWANWONGPRATOOM，陳玉婉涉嫌本案偽造文書部分，另經臺灣臺南地方法院檢察署檢察官通緝中）間並無結婚之真意，然因詹巧薇、張晉源等人欲找臺灣男子前往泰國與泰國女子辦理假結婚，林清水負責介紹臺灣男子予詹巧薇、張晉源等人以賺取新臺幣（下同）1萬元之仲介費，適陳泰龍依林清水於報紙上刊登之徵人廣告應徵時，由林清水告知泰國女子欲以假結婚之方式申請來臺居留工作，其若擔任假結婚之人頭老公，除不用負擔前往泰國之食宿、機票費用外，尚可獲取5、6萬元之報酬，迨陳泰龍應允同意後，林清水將其轉介紹予詹巧薇、張晉源等人，陳泰龍遂與林清水、詹巧薇、張晉源等人共同基於行使使公務員登載不實公文書之概括犯意聯絡，先由陳泰龍依指示於民國93年4月3日前往泰國，並於同年月7日與陳玉婉在泰國曼谷市法拉坎農區註冊辦事處登記結婚，取得上開註冊辦事處核發之結婚登記書、結婚證書等文件後，陳泰龍即行返臺，並於同年5月19日持經我國駐泰國臺北經濟文化辦事處認證之上開結婚登記書、結婚證書等資料，至臺南縣永康市（改制前稱謂，以下沿用舊制稱謂）戶政事務所填寫結婚登記申請書，申請辦理其與陳玉婉之結婚登記，因此使上開戶政事務所僅有形式審查權之承辦公務員陷於錯誤，於形式上審核後，將陳泰龍與陳玉婉於93年4月7日結婚之不實事項，登載於其職務上所掌屬公文書之戶籍登記資料內，並據以核發戶籍謄本，而足以生損害於戶政機關對於戶政管理及戶籍登記資料維護之正確性\n",
            "迨陳玉婉來臺後，為取得居留身分，再由陳泰龍、陳玉婉承前概括之犯意聯絡，於同年6月14日及94年5月5日，均持前開登載不實之戶籍謄本等資料，先後向臺南縣政府警察局外事課申請核發陳玉婉之外僑居留證及申請居留證延期而連續行使之（業經檢察官當庭補充），經承辦人員實質審查結果，均未發覺陳泰龍與陳玉婉假結婚之實情，而發給陳玉婉居留證或核准延期，各足以生損害於主管機關對外僑居留管理之正確性\n"
          ]
        }
      ],
      "source": [
        "print(len(train_facts_sentences))\n",
        "print(len(train_facts_sentences[0]))\n",
        "print(train_facts_sentences[0][0])\n",
        "print(train_facts_sentences[0][1])"
      ]
    },
    {
      "cell_type": "code",
      "execution_count": null,
      "metadata": {
        "colab": {
          "base_uri": "https://localhost:8080/"
        },
        "id": "vT-o6JsnuTLG",
        "outputId": "478f7a61-7488-47e0-af57-2b99199655e2"
      },
      "outputs": [
        {
          "name": "stdout",
          "output_type": "stream",
          "text": [
            "100\n",
            "49\n",
            "○、緣徐鴻光（所涉行使偽造私文書犯行，業經本院以95年度訴字第955號判決處有期徒刑3月、緩刑3年確定）因需款使用，知悉穆立明有借款管道，為求順利借款，2人竟共同意圖為自己不法所有，基於行使偽造私文書及詐欺取財之犯意聯絡，知悉車牌號碼00-000號營業小客車係徐鴻光向志朗交通有限公司（下稱志朗公司）租賃之車輛，竟由穆立明先於不詳時間、不詳地點，偽刻「志朗交通有限公司」及負責人「陳健志」印章（正確姓名為陳建志，誤刻為「陳健志」）各1枚，並偽造「陳健志」代表志朗公司與徐鴻光簽署之「臺北市計程車客運駕駛人自備車輛參與經營契約書」（下稱本案參與經營契約書），虛偽記載徐鴻光提供上述營業小客車靠行志朗公司營業等不實內容，並持上開偽刻印章，偽造「志朗交通有限公司」印文4枚、「陳健志」印文6枚於本案參與經營契約書上，再於92年3月6日交徐鴻光於立約人乙方欄簽名，2人復於同日協同不知情之徐鴻光配偶徐樂仁（所涉行使偽造私文書犯行，業經本院以95年度訴字第955號判決無罪確定），前往臺北市○○區○○街00巷0號2樓王傑生所經營之宏帝當舖（現更名為渣打當舖），由徐鴻光、穆立明交付偽造本案參與經營契約書向宏帝當鋪借款新臺幣（下同）10萬元以為行使，並約定由徐樂仁擔任連帶保證人，王傑生誤信上開車輛為徐鴻光所有而陷入錯誤，於扣除利息後交付9萬1千元借款予徐鴻光夫婦，足以生損害於志朗公司、陳建志、王傑生\n",
            "嗣因徐鴻光僅清償每期7千元之分期款共11期計7萬7千元，未全額清償即無力負擔債務，王傑生始查知上開車輛非徐鴻光所有，而悉上情\n"
          ]
        }
      ],
      "source": [
        "print(len(test_facts_sentences))\n",
        "print(len(test_facts_sentences[0]))\n",
        "print(test_facts_sentences[0][0])\n",
        "print(test_facts_sentences[0][1])"
      ]
    },
    {
      "cell_type": "code",
      "execution_count": null,
      "metadata": {
        "id": "U8U053XjtlDh"
      },
      "outputs": [],
      "source": [
        "train_fact_sentence_num = []\n",
        "test_fact_sentence_num = []\n",
        "\n",
        "for data in train_facts_sentences:\n",
        "  train_fact_sentence_num.append(len(data))\n",
        "\n",
        "for data in test_facts_sentences:\n",
        "  test_fact_sentence_num.append(len(data))\n"
      ]
    },
    {
      "cell_type": "code",
      "execution_count": null,
      "metadata": {
        "colab": {
          "base_uri": "https://localhost:8080/"
        },
        "id": "dXpAHR0it7jT",
        "outputId": "e3a59e5a-5e67-4204-b73c-af6150b54516"
      },
      "outputs": [
        {
          "name": "stdout",
          "output_type": "stream",
          "text": [
            "===Train Dataset===\n",
            "Length:  500\n",
            "Max Length:  191\n",
            "Min Length:  7\n",
            "Avg. Length:  58.688\n",
            "===Test Dataset===\n",
            "Length:  100\n",
            "Max Length:  182\n",
            "Min Length:  7\n",
            "Avg. Length:  59.51\n"
          ]
        }
      ],
      "source": [
        "print(\"===Train Dataset===\")\n",
        "print(\"Length: \", len(train_fact_sentence_num))\n",
        "print(\"Max Length: \", max(train_fact_sentence_num))\n",
        "print(\"Min Length: \", min(train_fact_sentence_num))\n",
        "print(\"Avg. Length: \", sum(train_fact_sentence_num) / len(train_fact_sentence_num))\n",
        "\n",
        "print(\"===Test Dataset===\")\n",
        "print(\"Length: \", len(test_fact_sentence_num))\n",
        "print(\"Max Length: \", max(test_fact_sentence_num))\n",
        "print(\"Min Length: \", min(test_fact_sentence_num))\n",
        "print(\"Avg. Length: \", sum(test_fact_sentence_num) / len(test_fact_sentence_num))"
      ]
    },
    {
      "cell_type": "code",
      "execution_count": null,
      "metadata": {
        "id": "7g5u5b18u8oS"
      },
      "outputs": [],
      "source": [
        "train_fact_sentence_len = []\n",
        "test_fact_sentence_len = []\n",
        "\n",
        "for fact in train_facts_sentences:\n",
        "  for sentence in fact:\n",
        "    train_fact_sentence_len.append(len(sentence))\n",
        "\n",
        "for fact in test_facts_sentences:\n",
        "  for sentence in fact:\n",
        "    test_fact_sentence_len.append(len(sentence))"
      ]
    },
    {
      "cell_type": "code",
      "execution_count": null,
      "metadata": {
        "colab": {
          "base_uri": "https://localhost:8080/"
        },
        "id": "S9R3GASPvClg",
        "outputId": "3f36f9b5-701e-4a4c-f9e3-97c1b2bbdc18"
      },
      "outputs": [
        {
          "name": "stdout",
          "output_type": "stream",
          "text": [
            "===Train Dataset===\n",
            "Length:  29344\n",
            "Max Length:  5193\n",
            "Min Length:  0\n",
            "Avg. Length:  134.20065430752453\n",
            "===Test Dataset===\n",
            "Length:  5951\n",
            "Max Length:  2464\n",
            "Min Length:  0\n",
            "Avg. Length:  137.34011090573014\n"
          ]
        }
      ],
      "source": [
        "print(\"===Train Dataset===\")\n",
        "print(\"Length: \", len(train_fact_sentence_len))\n",
        "print(\"Max Length: \", max(train_fact_sentence_len))\n",
        "print(\"Min Length: \", min(train_fact_sentence_len))\n",
        "print(\"Avg. Length: \", sum(train_fact_sentence_len) / len(train_fact_sentence_len))\n",
        "\n",
        "print(\"===Test Dataset===\")\n",
        "print(\"Length: \", len(test_fact_sentence_len))\n",
        "print(\"Max Length: \", max(test_fact_sentence_len))\n",
        "print(\"Min Length: \", min(test_fact_sentence_len))\n",
        "print(\"Avg. Length: \", sum(test_fact_sentence_len) / len(test_fact_sentence_len))"
      ]
    },
    {
      "cell_type": "code",
      "execution_count": null,
      "metadata": {
        "id": "npIji0OMwGuc"
      },
      "outputs": [],
      "source": [
        "import matplotlib.pyplot as plt"
      ]
    },
    {
      "cell_type": "code",
      "execution_count": null,
      "metadata": {
        "id": "KLMgwBd5wJ7p"
      },
      "outputs": [],
      "source": [
        "def plot_distribution(data):\n",
        "    bin_width = 500\n",
        "    plt.hist(data, bins=10, edgecolor='black')\n",
        "    plt.title('Distribution Plot')\n",
        "    plt.xticks(range(min(data), max(data) + bin_width, bin_width))\n",
        "    plt.xlabel('Value')\n",
        "    plt.ylabel('Frequency')\n",
        "    plt.grid(True)                              # 顯示網格線\n",
        "    plt.show()"
      ]
    },
    {
      "cell_type": "code",
      "execution_count": null,
      "metadata": {
        "colab": {
          "base_uri": "https://localhost:8080/",
          "height": 472
        },
        "id": "RMoJGjTKwROJ",
        "outputId": "7fc33b6d-0069-473b-cedc-c78ed86e6c9a"
      },
      "outputs": [
        {
          "data": {
            "image/png": "[encoded data removed]",
            "text/plain": [
              "<Figure size 640x480 with 1 Axes>"
            ]
          },
          "metadata": {},
          "output_type": "display_data"
        }
      ],
      "source": [
        "plot_distribution(train_fact_sentence_len)"
      ]
    },
    {
      "cell_type": "code",
      "execution_count": null,
      "metadata": {
        "colab": {
          "base_uri": "https://localhost:8080/",
          "height": 472
        },
        "id": "3FbJaDQpxrwa",
        "outputId": "84eb9c64-beb7-4be4-d363-32060297bf8d"
      },
      "outputs": [
        {
          "data": {
            "image/png": "[encoded data removed]",
            "text/plain": [
              "<Figure size 640x480 with 1 Axes>"
            ]
          },
          "metadata": {},
          "output_type": "display_data"
        }
      ],
      "source": [
        "plot_distribution(test_fact_sentence_len)"
      ]
    },
    {
      "cell_type": "markdown",
      "metadata": {
        "id": "tTNksopytTNi"
      },
      "source": [
        "# breeze api"
      ]
    },
    {
      "cell_type": "code",
      "execution_count": 7,
      "metadata": {
        "id": "GeiZhGBytVuJ"
      },
      "outputs": [],
      "source": [
        "import requests\n",
        "import json\n",
        "\n",
        "url = \"https://nlplab-llm.nlpnchu.org/generate\"\n",
        "\n",
        "headers = {\n",
        "  'Content-Type': 'application/json',\n",
        "  'accept': 'application/json'\n",
        "}\n",
        "\n",
        "def get_breeze(input_content):\n",
        "    system = 'You are a helpful AI assistant built by MediaTek Research. The user you are helping speaks Traditional Chinese and comes from Taiwan.'\n",
        "\n",
        "    payload = json.dumps({\n",
        "        \"inputs\": f\"<s> {system} [INST] {input_content} [/INST]\",\n",
        "        \"parameters\": {\n",
        "            \"do_sample\": True,\n",
        "            \"temperature\": 0.01,\n",
        "            \"top_p\": 0.95,\n",
        "            # \"frequency_penalty\": 0.01,\n",
        "            # \"presence_penalty\": 0.05,\n",
        "            #'repetition_penalty': 1.2, # 不要一直生重複的\n",
        "            'max_new_tokens':1000, # 要設一下，不然會講到一半就停掉\n",
        "        }\n",
        "        })\n",
        "    headers = {\n",
        "    'Content-Type': 'application/json',\n",
        "    'accept': 'application/json'\n",
        "    }\n",
        "    try:\n",
        "        response = requests.request(\"POST\", url, headers=headers, data=payload)\n",
        "        j_result=json.loads(response.text)\n",
        "        if \"generated_text\" in j_result.keys():\n",
        "            return j_result['generated_text']\n",
        "        else:\n",
        "            return j_result\n",
        "    except Exception as e:\n",
        "        print(e)"
      ]
    },
    {
      "cell_type": "markdown",
      "metadata": {
        "id": "6pidFWHU_vI1"
      },
      "source": [
        "# prompt測試\n",
        "交換句子順序測試是不是只會抓前三個"
      ]
    },
    {
      "cell_type": "code",
      "execution_count": null,
      "metadata": {
        "id": "h9EzsJmE-NB-"
      },
      "outputs": [],
      "source": [
        "prompt1 = \"1: 乙、實體方面：一、訊據被告固坦承於上開時、地，透過共犯林清水之介紹，先至泰國辦理與共犯陳玉婉之結婚手續，再前往臺南縣永康市戶政事務所辦理結婚登記，又前往臺南縣政府警察局外事課辦理共犯陳玉婉之外僑居留證及申請居留證延期之事實，惟矢口否認有何行使使公務員登載不實文書情事，於本院審理時辯稱：伊當時經濟狀況良好，因同居女友欲去日本工作而不願結婚，然伊希望結婚生子，遂透過共犯林清水之介紹與安排，共犯林清水先讓伊看過共犯陳玉婉之照片，伊再前往泰國與共犯陳玉婉結婚，伊僅負擔自己的來回機票錢及泰國住宿費用，其他結婚費用均由共犯林清水負擔，伊則贈送伊的一部機車予共犯林清水以為回報，伊並不認識共犯詹巧薇云云\\n2: 迨共犯陳玉婉來臺後，為取得居留身分，被告與共犯陳玉婉於同年6月14日及94年5月5日，均持前開戶籍謄本等資料，先後向臺南縣政府警察局外事課申請核發共犯陳玉婉之外僑居留證及申請居留證延期等情，業據被告供承在卷，並有結婚登記申請書、授權書各1份、結婚登記書、結婚證書各1份（含中文、泰文影本及我國駐泰國臺北經濟文化辦事處認證之資料）、93年6月14日及94年5月5日之外國人居留停留案件聲請表各1份、被告及共犯陳玉婉之入出國日期紀錄各1份、共犯陳玉婉之外僑居留資料查詢1份在卷可按（見警三卷即南市警一刑偵字第0994101517號卷第6至24、33頁）\\n3: 上開事實，首堪認定\\n4: 理由甲、程序方面：一、本件以下所引用具傳聞證據性質之供述證據，因本件被告陳泰龍、檢察官等人於本院準備程序進行時，均未爭執前開陳述之證據能力，且迄至本案言詞辯論終結前亦均未聲明異議，應視為已同意援引作為證據，又本院審酌前開證據作成時之情況及證據取得過程等節，並無非出於任意性、不正取供或其他違法不當情事，且客觀上亦無顯不可信之情況，堪認為適當，是依刑事訴訟法第159條之5規定，均有證據能力\\n5: 二、卷附之被告及陳玉婉入出國日期紀錄各1份等書證，均非屬供述證據，皆無傳聞法則之適用，復均無違反法定程序取得之情形，依刑事訴訟法第158條之4規定之反面解釋，均應有證據能力\\n6: 一、陳泰龍明知其與泰國籍女子陳玉婉（泰國名字為JARUWANWONGPRATOOM，陳玉婉涉嫌本案偽造文書部分，另經臺灣臺南地方法院檢察署檢察官通緝中）間並無結婚之真意，然因詹巧薇、張晉源等人欲找臺灣男子前往泰國與泰國女子辦理假結婚，林清水負責介紹臺灣男子予詹巧薇、張晉源等人以賺取新臺幣（下同）1萬元之仲介費，適陳泰龍依林清水於報紙上刊登之徵人廣告應徵時，由林清水告知泰國女子欲以假結婚之方式申請來臺居留工作，其若擔任假結婚之人頭老公，除不用負擔前往泰國之食宿、機票費用外，尚可獲取5、6萬元之報酬，迨陳泰龍應允同意後，林清水將其轉介紹予詹巧薇、張晉源等人，陳泰龍遂與林清水、詹巧薇、張晉源等人共同基於行使使公務員登載不實公文書之概括犯意聯絡，先由陳泰龍依指示於民國93年4月3日前往泰國，並於同年月7日與陳玉婉在泰國曼谷市法拉坎農區註冊辦事處登記結婚，取得上開註冊辦事處核發之結婚登記書、結婚證書等文件後，陳泰龍即行返臺，並於同年5月19日持經我國駐泰國臺北經濟文化辦事處認證之上開結婚登記書、結婚證書等資料，至臺南縣永康市（改制前稱謂，以下沿用舊制稱謂）戶政事務所填寫結婚登記申請書，申請辦理其與陳玉婉之結婚登記，因此使上開戶政事務所僅有形式審查權之承辦公務員陷於錯誤，於形式上審核後，將陳泰龍與陳玉婉於93年4月7日結婚之不實事項，登載於其職務上所掌屬公文書之戶籍登記資料內，並據以核發戶籍謄本，而足以生損害於戶政機關對於戶政管理及戶籍登記資料維護之正確性\\n7: 經查：(一)被告於93年4月3日前往泰國，並於同年月7日與共犯陳玉婉在泰國曼谷市法拉坎農區註冊辦事處登記結婚，取得上開註冊辦事處核發之結婚登記書、結婚證書等文件後，被告即行返臺，並於同年5月19日持經我國駐泰國臺北經濟文化辦事處認證之上開結婚登記書、結婚證書等資料，至臺南縣永康市戶政事務所填寫結婚登記申請書，申請辦理其與共犯陳玉婉之結婚登記，並取得戶籍謄本\\n8: 迨陳玉婉來臺後，為取得居留身分，再由陳泰龍、陳玉婉承前概括之犯意聯絡，於同年6月14日及94年5月5日，均持前開登載不實之戶籍謄本等資料，先後向臺南縣政府警察局外事課申請核發陳玉婉之外僑居留證及申請居留證延期而連續行使之（業經檢察官當庭補充），經承辦人員實質審查結果，均未發覺陳泰龍與陳玉婉假結婚之實情，而發給陳玉婉居留證或核准延期，各足以生損害於主管機關對外僑居留管理之正確性\\n9:  二、案經臺南市警察局（現改制為臺南市政府警察局，以下沿用舊制稱謂）第一分局報告臺灣臺南地方法院檢察署檢察官偵查起訴\\n10: (二)共犯詹巧薇、張晉源等人當時欲找臺灣人與泰國女子結婚，由共犯林清水於報紙上刊登徵人廣告，若應徵者符合與泰國人結婚之條件，便將應徵者介紹予共犯詹巧薇、張晉源等人，共犯林清水可從中獲取1萬元之仲介費，適被告依前開徵人廣告應徵，共犯林清水衡量其條件後告知其可至泰國結婚，其除不用負擔前往泰國之機票及食宿費用外，尚可獲取5至6萬元之報酬，被告應允同意後，共犯林清水將其介紹予詹巧薇、張晉源等人，被告即依指示前往泰國與為了來臺工作且無結婚真意的共犯陳玉婉辦理結婚事宜等情，業據共犯林清水於警詢時證稱：伊登報徵人到泰國結婚，被告看報紙來的，伊便轉介予共犯詹巧薇，由共犯詹巧薇安排後續到泰國結婚之事宜，被告除不用負擔前往泰國機票、食宿等費用，尚可獲取約5至6萬元酬勞，伊則可自共犯詹巧薇獲取約1萬元之仲介費用；伊只有將被告轉介予共犯詹巧薇，並未參與後續被告前往泰國之證照、機票、食宿等相關事宜；被告係因缺錢，為了賺取擔任人頭配偶的佣金5至6萬，並不是真的要與泰國人結婚，共犯陳玉婉係為了來臺灣工作賺錢，亦不是真的要與臺灣人結婚等語（見警三卷第2至3頁）；並於本院審理時具結證稱：當初共犯詹巧薇、張晉源等人欲找男子前往泰國結婚，伊曾刊登「男、女不限、經驗不拘」等內容之徵人廣告，被告見報應徵時，被告係因缺錢才來找伊，伊衡量被告條件後認為其只能利用結婚賺取報酬，伊才向其表示是要辦結婚，伊告知被告可安排其去泰國結婚，其不用負擔食宿及機票等費用，可實拿5至6萬元的報酬，被告同意後，伊將被告介紹予共犯詹巧薇、張晉源，共犯張晉源給付佣金1萬元予伊；伊與被告談論泰國結婚事宜時，伊與被告均不知被告之結婚對象為何人，伊亦未見過與被告結婚之泰國女子，伊僅介紹被告予共犯詹巧薇、張晉源等人，伊並未參予後續之泰國結婚、辦理結婚登記及居留申請等事情；被告曾給伊一部機車，當時被告表示要去別的地方，機車留在臺南無人使用，伊修理使用一段期間後，因再度壞掉便未再使用等語（見本院卷第68頁背面至71頁）\""
      ]
    },
    {
      "cell_type": "code",
      "execution_count": null,
      "metadata": {
        "id": "FENwZLbe-lF_"
      },
      "outputs": [],
      "source": [
        "prompt2 = \"1: 一、陳泰龍明知其與泰國籍女子陳玉婉（泰國名字為JARUWANWONGPRATOOM，陳玉婉涉嫌本案偽造文書部分，另經臺灣臺南地方法院檢察署檢察官通緝中）間並無結婚之真意，然因詹巧薇、張晉源等人欲找臺灣男子前往泰國與泰國女子辦理假結婚，林清水負責介紹臺灣男子予詹巧薇、張晉源等人以賺取新臺幣（下同）1萬元之仲介費，適陳泰龍依林清水於報紙上刊登之徵人廣告應徵時，由林清水告知泰國女子欲以假結婚之方式申請來臺居留工作，其若擔任假結婚之人頭老公，除不用負擔前往泰國之食宿、機票費用外，尚可獲取5、6萬元之報酬，迨陳泰龍應允同意後，林清水將其轉介紹予詹巧薇、張晉源等人，陳泰龍遂與林清水、詹巧薇、張晉源等人共同基於行使使公務員登載不實公文書之概括犯意聯絡，先由陳泰龍依指示於民國93年4月3日前往泰國，並於同年月7日與陳玉婉在泰國曼谷市法拉坎農區註冊辦事處登記結婚，取得上開註冊辦事處核發之結婚登記書、結婚證書等文件後，陳泰龍即行返臺，並於同年5月19日持經我國駐泰國臺北經濟文化辦事處認證之上開結婚登記書、結婚證書等資料，至臺南縣永康市（改制前稱謂，以下沿用舊制稱謂）戶政事務所填寫結婚登記申請書，申請辦理其與陳玉婉之結婚登記，因此使上開戶政事務所僅有形式審查權之承辦公務員陷於錯誤，於形式上審核後，將陳泰龍與陳玉婉於93年4月7日結婚之不實事項，登載於其職務上所掌屬公文書之戶籍登記資料內，並據以核發戶籍謄本，而足以生損害於戶政機關對於戶政管理及戶籍登記資料維護之正確性 \\n2: 迨陳玉婉來臺後，為取得居留身分，再由陳泰龍、陳玉婉承前概括之犯意聯絡，於同年6月14日及94年5月5日，均持前開登載不實之戶籍謄本等資料，先後向臺南縣政府警察局外事課申請核發陳玉婉之外僑居留證及申請居留證延期而連續行使之（業經檢察官當庭補充），經承辦人員實質審查結果，均未發覺陳泰龍與陳玉婉假結婚之實情，而發給陳玉婉居留證或核准延期，各足以生損害於主管機關對外僑居留管理之正確性 \\n3: 二、案經臺南市警察局（現改制為臺南市政府警察局，以下沿用舊制稱謂）第一分局報告臺灣臺南地方法院檢察署檢察官偵查起訴 \\n4: 理由甲、程序方面：一、本件以下所引用具傳聞證據性質之供述證據，因本件被告陳泰龍、檢察官等人於本院準備程序進行時，均未爭執前開陳述之證據能力，且迄至本案言詞辯論終結前亦均未聲明異議，應視為已同意援引作為證據，又本院審酌前開證據作成時之情況及證據取得過程等節，並無非出於任意性、不正取供或其他違法不當情事，且客觀上亦無顯不可信之情況，堪認為適當，是依刑事訴訟法第159條之5規定，均有證據能力 \\n5: 二、卷附之被告及陳玉婉入出國日期紀錄各1份等書證，均非屬供述證據，皆無傳聞法則之適用，復均無違反法定程序取得之情形，依刑事訴訟法第158條之4規定之反面解釋，均應有證據能力 \\n6: 乙、實體方面：一、訊據被告固坦承於上開時、地，透過共犯林清水之介紹，先至泰國辦理與共犯陳玉婉之結婚手續，再前往臺南縣永康市戶政事務所辦理結婚登記，又前往臺南縣政府警察局外事課辦理共犯陳玉婉之外僑居留證及申請居留證延期之事實，惟矢口否認有何行使使公務員登載不實文書情事，於本院審理時辯稱：伊當時經濟狀況良好，因同居女友欲去日本工作而不願結婚，然伊希望結婚生子，遂透過共犯林清水之介紹與安排，共犯林清水先讓伊看過共犯陳玉婉之照片，伊再前往泰國與共犯陳玉婉結婚，伊僅負擔自己的來回機票錢及泰國住宿費用，其他結婚費用均由共犯林清水負擔，伊則贈送伊的一部機車予共犯林清水以為回報，伊並不認識共犯詹巧薇云云 \\n7: 經查：(一)被告於93年4月3日前往泰國，並於同年月7日與共犯陳玉婉在泰國曼谷市法拉坎農區註冊辦事處登記結婚，取得上開註冊辦事處核發之結婚登記書、結婚證書等文件後，被告即行返臺，並於同年5月19日持經我國駐泰國臺北經濟文化辦事處認證之上開結婚登記書、結婚證書等資料，至臺南縣永康市戶政事務所填寫結婚登記申請書，申請辦理其與共犯陳玉婉之結婚登記，並取得戶籍謄本 \\n8: 迨共犯陳玉婉來臺後，為取得居留身分，被告與共犯陳玉婉於同年6月14日及94年5月5日，均持前開戶籍謄本等資料，先後向臺南縣政府警察局外事課申請核發共犯陳玉婉之外僑居留證及申請居留證延期等情，業據被告供承在卷，並有結婚登記申請書、授權書各1份、結婚登記書、結婚證書各1份（含中文、泰文影本及我國駐泰國臺北經濟文化辦事處認證之資料）、93年6月14日及94年5月5日之外國人居留停留案件聲請表各1份、被告及共犯陳玉婉之入出國日期紀錄各1份、共犯陳玉婉之外僑居留資料查詢1份在卷可按（見警三卷即南市警一刑偵字第0994101517號卷第6至24、33頁） \\n9: 上開事實，首堪認定 \\n10: (二)共犯詹巧薇、張晉源等人當時欲找臺灣人與泰國女子結婚，由共犯林清水於報紙上刊登徵人廣告，若應徵者符合與泰國人結婚之條件，便將應徵者介紹予共犯詹巧薇、張晉源等人，共犯林清水可從中獲取1萬元之仲介費，適被告依前開徵人廣告應徵，共犯林清水衡量其條件後告知其可至泰國結婚，其除不用負擔前往泰國之機票及食宿費用外，尚可獲取5至6萬元之報酬，被告應允同意後，共犯林清水將其介紹予詹巧薇、張晉源等人，被告即依指示前往泰國與為了來臺工作且無結婚真意的共犯陳玉婉辦理結婚事宜等情，業據共犯林清水於警詢時證稱：伊登報徵人到泰國結婚，被告看報紙來的，伊便轉介予共犯詹巧薇，由共犯詹巧薇安排後續到泰國結婚之事宜，被告除不用負擔前往泰國機票、食宿等費用，尚可獲取約5至6萬元酬勞，伊則可自共犯詹巧薇獲取約1萬元之仲介費用；伊只有將被告轉介予共犯詹巧薇，並未參與後續被告前往泰國之證照、機票、食宿等相關事宜；被告係因缺錢，為了賺取擔任人頭配偶的佣金5至6萬，並不是真的要與泰國人結婚，共犯陳玉婉係為了來臺灣工作賺錢，亦不是真的要與臺灣人結婚等語（見警三卷第2至3頁）；並於本院審理時具結證稱：當初共犯詹巧薇、張晉源等人欲找男子前往泰國結婚，伊曾刊登「男、女不限、經驗不拘」等內容之徵人廣告，被告見報應徵時，被告係因缺錢才來找伊，伊衡量被告條件後認為其只能利用結婚賺取報酬，伊才向其表示是要辦結婚，伊告知被告可安排其去泰國結婚，其不用負擔食宿及機票等費用，可實拿5至6萬元的報酬，被告同意後，伊將被告介紹予共犯詹巧薇、張晉源，共犯張晉源給付佣金1萬元予伊；伊與被告談論泰國結婚事宜時，伊與被告均不知被告之結婚對象為何人，伊亦未見過與被告結婚之泰國女子，伊僅介紹被告予共犯詹巧薇、張晉源等人，伊並未參予後續之泰國結婚、辦理結婚登記及居留申請等事情；被告曾給伊一部機車，當時被告表示要去別的地方，機車留在臺南無人使用，伊修理使用一段期間後，因再度壞掉便未再使用等語（見本院卷第68頁背面至71頁）\""
      ]
    },
    {
      "cell_type": "code",
      "execution_count": null,
      "metadata": {
        "id": "3PyLGDz2_Nva"
      },
      "outputs": [],
      "source": [
        "prompt3 = \"1: (二)共犯詹巧薇、張晉源等人當時欲找臺灣人與泰國女子結婚，由共犯林清水於報紙上刊登徵人廣告，若應徵者符合與泰國人結婚之條件，便將應徵者介紹予共犯詹巧薇、張晉源等人，共犯林清水可從中獲取1萬元之仲介費，適被告依前開徵人廣告應徵，共犯林清水衡量其條件後告知其可至泰國結婚，其除不用負擔前往泰國之機票及食宿費用外，尚可獲取5至6萬元之報酬，被告應允同意後，共犯林清水將其介紹予詹巧薇、張晉源等人，被告即依指示前往泰國與為了來臺工作且無結婚真意的共犯陳玉婉辦理結婚事宜等情，業據共犯林清水於警詢時證稱：伊登報徵人到泰國結婚，被告看報紙來的，伊便轉介予共犯詹巧薇，由共犯詹巧薇安排後續到泰國結婚之事宜，被告除不用負擔前往泰國機票、食宿等費用，尚可獲取約5至6萬元酬勞，伊則可自共犯詹巧薇獲取約1萬元之仲介費用；伊只有將被告轉介予共犯詹巧薇，並未參與後續被告前往泰國之證照、機票、食宿等相關事宜；被告係因缺錢，為了賺取擔任人頭配偶的佣金5至6萬，並不是真的要與泰國人結婚，共犯陳玉婉係為了來臺灣工作賺錢，亦不是真的要與臺灣人結婚等語（見警三卷第2至3頁）；並於本院審理時具結證稱：當初共犯詹巧薇、張晉源等人欲找男子前往泰國結婚，伊曾刊登「男、女不限、經驗不拘」等內容之徵人廣告，被告見報應徵時，被告係因缺錢才來找伊，伊衡量被告條件後認為其只能利用結婚賺取報酬，伊才向其表示是要辦結婚，伊告知被告可安排其去泰國結婚，其不用負擔食宿及機票等費用，可實拿5至6萬元的報酬，被告同意後，伊將被告介紹予共犯詹巧薇、張晉源，共犯張晉源給付佣金1萬元予伊；伊與被告談論泰國結婚事宜時，伊與被告均不知被告之結婚對象為何人，伊亦未見過與被告結婚之泰國女子，伊僅介紹被告予共犯詹巧薇、張晉源等人，伊並未參予後續之泰國結婚、辦理結婚登記及居留申請等事情；被告曾給伊一部機車，當時被告表示要去別的地方，機車留在臺南無人使用，伊修理使用一段期間後，因再度壞掉便未再使用等語（見本院卷第68頁背面至71頁） \\n2: 迨陳玉婉來臺後，為取得居留身分，再由陳泰龍、陳玉婉承前概括之犯意聯絡，於同年6月14日及94年5月5日，均持前開登載不實之戶籍謄本等資料，先後向臺南縣政府警察局外事課申請核發陳玉婉之外僑居留證及申請居留證延期而連續行使之（業經檢察官當庭補充），經承辦人員實質審查結果，均未發覺陳泰龍與陳玉婉假結婚之實情，而發給陳玉婉居留證或核准延期，各足以生損害於主管機關對外僑居留管理之正確性 \\n3: 二、案經臺南市警察局（現改制為臺南市政府警察局，以下沿用舊制稱謂）第一分局報告臺灣臺南地方法院檢察署檢察官偵查起訴 \\n4: 理由甲、程序方面：一、本件以下所引用具傳聞證據性質之供述證據，因本件被告陳泰龍、檢察官等人於本院準備程序進行時，均未爭執前開陳述之證據能力，且迄至本案言詞辯論終結前亦均未聲明異議，應視為已同意援引作為證據，又本院審酌前開證據作成時之情況及證據取得過程等節，並無非出於任意性、不正取供或其他違法不當情事，且客觀上亦無顯不可信之情況，堪認為適當，是依刑事訴訟法第159條之5規定，均有證據能力 \\n5: 二、卷附之被告及陳玉婉入出國日期紀錄各1份等書證，均非屬供述證據，皆無傳聞法則之適用，復均無違反法定程序取得之情形，依刑事訴訟法第158條之4規定之反面解釋，均應有證據能力 \\n6: 乙、實體方面：一、訊據被告固坦承於上開時、地，透過共犯林清水之介紹，先至泰國辦理與共犯陳玉婉之結婚手續，再前往臺南縣永康市戶政事務所辦理結婚登記，又前往臺南縣政府警察局外事課辦理共犯陳玉婉之外僑居留證及申請居留證延期之事實，惟矢口否認有何行使使公務員登載不實文書情事，於本院審理時辯稱：伊當時經濟狀況良好，因同居女友欲去日本工作而不願結婚，然伊希望結婚生子，遂透過共犯林清水之介紹與安排，共犯林清水先讓伊看過共犯陳玉婉之照片，伊再前往泰國與共犯陳玉婉結婚，伊僅負擔自己的來回機票錢及泰國住宿費用，其他結婚費用均由共犯林清水負擔，伊則贈送伊的一部機車予共犯林清水以為回報，伊並不認識共犯詹巧薇云云 \\n7: 經查：(一)被告於93年4月3日前往泰國，並於同年月7日與共犯陳玉婉在泰國曼谷市法拉坎農區註冊辦事處登記結婚，取得上開註冊辦事處核發之結婚登記書、結婚證書等文件後，被告即行返臺，並於同年5月19日持經我國駐泰國臺北經濟文化辦事處認證之上開結婚登記書、結婚證書等資料，至臺南縣永康市戶政事務所填寫結婚登記申請書，申請辦理其與共犯陳玉婉之結婚登記，並取得戶籍謄本 \\n8: 迨共犯陳玉婉來臺後，為取得居留身分，被告與共犯陳玉婉於同年6月14日及94年5月5日，均持前開戶籍謄本等資料，先後向臺南縣政府警察局外事課申請核發共犯陳玉婉之外僑居留證及申請居留證延期等情，業據被告供承在卷，並有結婚登記申請書、授權書各1份、結婚登記書、結婚證書各1份（含中文、泰文影本及我國駐泰國臺北經濟文化辦事處認證之資料）、93年6月14日及94年5月5日之外國人居留停留案件聲請表各1份、被告及共犯陳玉婉之入出國日期紀錄各1份、共犯陳玉婉之外僑居留資料查詢1份在卷可按（見警三卷即南市警一刑偵字第0994101517號卷第6至24、33頁） \\n9: 上開事實，首堪認定 \\n10: 一、陳泰龍明知其與泰國籍女子陳玉婉（泰國名字為JARUWANWONGPRATOOM，陳玉婉涉嫌本案偽造文書部分，另經臺灣臺南地方法院檢察署檢察官通緝中）間並無結婚之真意，然因詹巧薇、張晉源等人欲找臺灣男子前往泰國與泰國女子辦理假結婚，林清水負責介紹臺灣男子予詹巧薇、張晉源等人以賺取新臺幣（下同）1萬元之仲介費，適陳泰龍依林清水於報紙上刊登之徵人廣告應徵時，由林清水告知泰國女子欲以假結婚之方式申請來臺居留工作，其若擔任假結婚之人頭老公，除不用負擔前往泰國之食宿、機票費用外，尚可獲取5、6萬元之報酬，迨陳泰龍應允同意後，林清水將其轉介紹予詹巧薇、張晉源等人，陳泰龍遂與林清水、詹巧薇、張晉源等人共同基於行使使公務員登載不實公文書之概括犯意聯絡，先由陳泰龍依指示於民國93年4月3日前往泰國，並於同年月7日與陳玉婉在泰國曼谷市法拉坎農區註冊辦事處登記結婚，取得上開註冊辦事處核發之結婚登記書、結婚證書等文件後，陳泰龍即行返臺，並於同年5月19日持經我國駐泰國臺北經濟文化辦事處認證之上開結婚登記書、結婚證書等資料，至臺南縣永康市（改制前稱謂，以下沿用舊制稱謂）戶政事務所填寫結婚登記申請書，申請辦理其與陳玉婉之結婚登記，因此使上開戶政事務所僅有形式審查權之承辦公務員陷於錯誤，於形式上審核後，將陳泰龍與陳玉婉於93年4月7日結婚之不實事項，登載於其職務上所掌屬公文書之戶籍登記資料內，並據以核發戶籍謄本，而足以生損害於戶政機關對於戶政管理及戶籍登記資料維護之正確性\""
      ]
    },
    {
      "cell_type": "code",
      "execution_count": null,
      "metadata": {
        "colab": {
          "base_uri": "https://localhost:8080/"
        },
        "id": "ZOkeEzlk_dC7",
        "outputId": "adc12083-116f-41b3-e27d-016e67966754"
      },
      "outputs": [
        {
          "name": "stdout",
          "output_type": "stream",
          "text": [
            "1: 乙、實體方面：一、訊據被告固坦承於上開時、地，透過共犯林清水之介紹，先至泰國辦理與共犯陳玉婉之結婚手續，再前往臺南縣永康市戶政事務所辦理結婚登記，又前往臺南縣政府警察局外事課辦理共犯陳玉婉之外僑居留證及申請居留證延期之事實，惟矢口否認有何行使使公務員登載不實文書情事，於本院審理時辯稱：伊當時經濟狀況良好，因同居女友欲去日本工作而不願結婚，然伊希望結婚生子，遂透過共犯林清水之介紹與安排，共犯林清水先讓伊看過共犯陳玉婉之照片，伊再前往泰國與共犯陳玉婉結婚，伊僅負擔自己的來回機票錢及泰國住宿費用，其他結婚費用均由共犯林清水負擔，伊則贈送伊的一部機車予共犯林清水以為回報，伊並不認識共犯詹巧薇云云\n",
            "2: 迨共犯陳玉婉來臺後，為取得居留身分，被告與共犯陳玉婉於同年6月14日及94年5月5日，均持前開戶籍謄本等資料，先後向臺南縣政府警察局外事課申請核發共犯陳玉婉之外僑居留證及申請居留證延期等情，業據被告供承在卷，並有結婚登記申請書、授權書各1份、結婚登記書、結婚證書各1份（含中文、泰文影本及我國駐泰國臺北經濟文化辦事處認證之資料）、93年6月14日及94年5月5日之外國人居留停留案件聲請表各1份、被告及共犯陳玉婉之入出國日期紀錄各1份、共犯陳玉婉之外僑居留資料查詢1份在卷可按（見警三卷即南市警一刑偵字第0994101517號卷第6至24、33頁）\n",
            "3: 上開事實，首堪認定\n",
            "4: 理由甲、程序方面：一、本件以下所引用具傳聞證據性質之供述證據，因本件被告陳泰龍、檢察官等人於本院準備程序進行時，均未爭執前開陳述之證據能力，且迄至本案言詞辯論終結前亦均未聲明異議，應視為已同意援引作為證據，又本院審酌前開證據作成時之情況及證據取得過程等節，並無非出於任意性、不正取供或其他違法不當情事，且客觀上亦無顯不可信之情況，堪認為適當，是依刑事訴訟法第159條之5規定，均有證據能力\n",
            "5: 二、卷附之被告及陳玉婉入出國日期紀錄各1份等書證，均非屬供述證據，皆無傳聞法則之適用，復均無違反法定程序取得之情形，依刑事訴訟法第158條之4規定之反面解釋，均應有證據能力\n",
            "6: 一、陳泰龍明知其與泰國籍女子陳玉婉（泰國名字為JARUWANWONGPRATOOM，陳玉婉涉嫌本案偽造文書部分，另經臺灣臺南地方法院檢察署檢察官通緝中）間並無結婚之真意，然因詹巧薇、張晉源等人欲找臺灣男子前往泰國與泰國女子辦理假結婚，林清水負責介紹臺灣男子予詹巧薇、張晉源等人以賺取新臺幣（下同）1萬元之仲介費，適陳泰龍依林清水於報紙上刊登之徵人廣告應徵時，由林清水告知泰國女子欲以假結婚之方式申請來臺居留工作，其若擔任假結婚之人頭老公，除不用負擔前往泰國之食宿、機票費用外，尚可獲取5、6萬元之報酬，迨陳泰龍應允同意後，林清水將其轉介紹予詹巧薇、張晉源等人，陳泰龍遂與林清水、詹巧薇、張晉源等人共同基於行使使公務員登載不實公文書之概括犯意聯絡，先由陳泰龍依指示於民國93年4月3日前往泰國，並於同年月7日與陳玉婉在泰國曼谷市法拉坎農區註冊辦事處登記結婚，取得上開註冊辦事處核發之結婚登記書、結婚證書等文件後，陳泰龍即行返臺，並於同年5月19日持經我國駐泰國臺北經濟文化辦事處認證之上開結婚登記書、結婚證書等資料，至臺南縣永康市（改制前稱謂，以下沿用舊制稱謂）戶政事務所填寫結婚登記申請書，申請辦理其與陳玉婉之結婚登記，因此使上開戶政事務所僅有形式審查權之承辦公務員陷於錯誤，於形式上審核後，將陳泰龍與陳玉婉於93年4月7日結婚之不實事項，登載於其職務上所掌屬公文書之戶籍登記資料內，並據以核發戶籍謄本，而足以生損害於戶政機關對於戶政管理及戶籍登記資料維護之正確性\n",
            "7: 經查：(一)被告於93年4月3日前往泰國，並於同年月7日與共犯陳玉婉在泰國曼谷市法拉坎農區註冊辦事處登記結婚，取得上開註冊辦事處核發之結婚登記書、結婚證書等文件後，被告即行返臺，並於同年5月19日持經我國駐泰國臺北經濟文化辦事處認證之上開結婚登記書、結婚證書等資料，至臺南縣永康市戶政事務所填寫結婚登記申請書，申請辦理其與共犯陳玉婉之結婚登記，並取得戶籍謄本\n",
            "8: 迨陳玉婉來臺後，為取得居留身分，再由陳泰龍、陳玉婉承前概括之犯意聯絡，於同年6月14日及94年5月5日，均持前開登載不實之戶籍謄本等資料，先後向臺南縣政府警察局外事課申請核發陳玉婉之外僑居留證及申請居留證延期而連續行使之（業經檢察官當庭補充），經承辦人員實質審查結果，均未發覺陳泰龍與陳玉婉假結婚之實情，而發給陳玉婉居留證或核准延期，各足以生損害於主管機關對外僑居留管理之正確性\n",
            "9:  二、案經臺南市警察局（現改制為臺南市政府警察局，以下沿用舊制稱謂）第一分局報告臺灣臺南地方法院檢察署檢察官偵查起訴\n",
            "10: (二)共犯詹巧薇、張晉源等人當時欲找臺灣人與泰國女子結婚，由共犯林清水於報紙上刊登徵人廣告，若應徵者符合與泰國人結婚之條件，便將應徵者介紹予共犯詹巧薇、張晉源等人，共犯林清水可從中獲取1萬元之仲介費，適被告依前開徵人廣告應徵，共犯林清水衡量其條件後告知其可至泰國結婚，其除不用負擔前往泰國之機票及食宿費用外，尚可獲取5至6萬元之報酬，被告應允同意後，共犯林清水將其介紹予詹巧薇、張晉源等人，被告即依指示前往泰國與為了來臺工作且無結婚真意的共犯陳玉婉辦理結婚事宜等情，業據共犯林清水於警詢時證稱：伊登報徵人到泰國結婚，被告看報紙來的，伊便轉介予共犯詹巧薇，由共犯詹巧薇安排後續到泰國結婚之事宜，被告除不用負擔前往泰國機票、食宿等費用，尚可獲取約5至6萬元酬勞，伊則可自共犯詹巧薇獲取約1萬元之仲介費用；伊只有將被告轉介予共犯詹巧薇，並未參與後續被告前往泰國之證照、機票、食宿等相關事宜；被告係因缺錢，為了賺取擔任人頭配偶的佣金5至6萬，並不是真的要與泰國人結婚，共犯陳玉婉係為了來臺灣工作賺錢，亦不是真的要與臺灣人結婚等語（見警三卷第2至3頁）；並於本院審理時具結證稱：當初共犯詹巧薇、張晉源等人欲找男子前往泰國結婚，伊曾刊登「男、女不限、經驗不拘」等內容之徵人廣告，被告見報應徵時，被告係因缺錢才來找伊，伊衡量被告條件後認為其只能利用結婚賺取報酬，伊才向其表示是要辦結婚，伊告知被告可安排其去泰國結婚，其不用負擔食宿及機票等費用，可實拿5至6萬元的報酬，被告同意後，伊將被告介紹予共犯詹巧薇、張晉源，共犯張晉源給付佣金1萬元予伊；伊與被告談論泰國結婚事宜時，伊與被告均不知被告之結婚對象為何人，伊亦未見過與被告結婚之泰國女子，伊僅介紹被告予共犯詹巧薇、張晉源等人，伊並未參予後續之泰國結婚、辦理結婚登記及居留申請等事情；被告曾給伊一部機車，當時被告表示要去別的地方，機車留在臺南無人使用，伊修理使用一段期間後，因再度壞掉便未再使用等語（見本院卷第68頁背面至71頁）\n"
          ]
        }
      ],
      "source": [
        "print(prompt1)"
      ]
    },
    {
      "cell_type": "code",
      "execution_count": null,
      "metadata": {
        "colab": {
          "base_uri": "https://localhost:8080/"
        },
        "id": "8TGtVviu_qtH",
        "outputId": "c5751d81-6c42-4f99-ef0a-5a699b9b5c6c"
      },
      "outputs": [
        {
          "name": "stdout",
          "output_type": "stream",
          "text": [
            "1: 一、陳泰龍明知其與泰國籍女子陳玉婉（泰國名字為JARUWANWONGPRATOOM，陳玉婉涉嫌本案偽造文書部分，另經臺灣臺南地方法院檢察署檢察官通緝中）間並無結婚之真意，然因詹巧薇、張晉源等人欲找臺灣男子前往泰國與泰國女子辦理假結婚，林清水負責介紹臺灣男子予詹巧薇、張晉源等人以賺取新臺幣（下同）1萬元之仲介費，適陳泰龍依林清水於報紙上刊登之徵人廣告應徵時，由林清水告知泰國女子欲以假結婚之方式申請來臺居留工作，其若擔任假結婚之人頭老公，除不用負擔前往泰國之食宿、機票費用外，尚可獲取5、6萬元之報酬，迨陳泰龍應允同意後，林清水將其轉介紹予詹巧薇、張晉源等人，陳泰龍遂與林清水、詹巧薇、張晉源等人共同基於行使使公務員登載不實公文書之概括犯意聯絡，先由陳泰龍依指示於民國93年4月3日前往泰國，並於同年月7日與陳玉婉在泰國曼谷市法拉坎農區註冊辦事處登記結婚，取得上開註冊辦事處核發之結婚登記書、結婚證書等文件後，陳泰龍即行返臺，並於同年5月19日持經我國駐泰國臺北經濟文化辦事處認證之上開結婚登記書、結婚證書等資料，至臺南縣永康市（改制前稱謂，以下沿用舊制稱謂）戶政事務所填寫結婚登記申請書，申請辦理其與陳玉婉之結婚登記，因此使上開戶政事務所僅有形式審查權之承辦公務員陷於錯誤，於形式上審核後，將陳泰龍與陳玉婉於93年4月7日結婚之不實事項，登載於其職務上所掌屬公文書之戶籍登記資料內，並據以核發戶籍謄本，而足以生損害於戶政機關對於戶政管理及戶籍登記資料維護之正確性 \n",
            "2: 迨陳玉婉來臺後，為取得居留身分，再由陳泰龍、陳玉婉承前概括之犯意聯絡，於同年6月14日及94年5月5日，均持前開登載不實之戶籍謄本等資料，先後向臺南縣政府警察局外事課申請核發陳玉婉之外僑居留證及申請居留證延期而連續行使之（業經檢察官當庭補充），經承辦人員實質審查結果，均未發覺陳泰龍與陳玉婉假結婚之實情，而發給陳玉婉居留證或核准延期，各足以生損害於主管機關對外僑居留管理之正確性 \n",
            "3: 二、案經臺南市警察局（現改制為臺南市政府警察局，以下沿用舊制稱謂）第一分局報告臺灣臺南地方法院檢察署檢察官偵查起訴 \n",
            "4: 理由甲、程序方面：一、本件以下所引用具傳聞證據性質之供述證據，因本件被告陳泰龍、檢察官等人於本院準備程序進行時，均未爭執前開陳述之證據能力，且迄至本案言詞辯論終結前亦均未聲明異議，應視為已同意援引作為證據，又本院審酌前開證據作成時之情況及證據取得過程等節，並無非出於任意性、不正取供或其他違法不當情事，且客觀上亦無顯不可信之情況，堪認為適當，是依刑事訴訟法第159條之5規定，均有證據能力 \n",
            "5: 二、卷附之被告及陳玉婉入出國日期紀錄各1份等書證，均非屬供述證據，皆無傳聞法則之適用，復均無違反法定程序取得之情形，依刑事訴訟法第158條之4規定之反面解釋，均應有證據能力 \n",
            "6: 乙、實體方面：一、訊據被告固坦承於上開時、地，透過共犯林清水之介紹，先至泰國辦理與共犯陳玉婉之結婚手續，再前往臺南縣永康市戶政事務所辦理結婚登記，又前往臺南縣政府警察局外事課辦理共犯陳玉婉之外僑居留證及申請居留證延期之事實，惟矢口否認有何行使使公務員登載不實文書情事，於本院審理時辯稱：伊當時經濟狀況良好，因同居女友欲去日本工作而不願結婚，然伊希望結婚生子，遂透過共犯林清水之介紹與安排，共犯林清水先讓伊看過共犯陳玉婉之照片，伊再前往泰國與共犯陳玉婉結婚，伊僅負擔自己的來回機票錢及泰國住宿費用，其他結婚費用均由共犯林清水負擔，伊則贈送伊的一部機車予共犯林清水以為回報，伊並不認識共犯詹巧薇云云 \n",
            "7: 經查：(一)被告於93年4月3日前往泰國，並於同年月7日與共犯陳玉婉在泰國曼谷市法拉坎農區註冊辦事處登記結婚，取得上開註冊辦事處核發之結婚登記書、結婚證書等文件後，被告即行返臺，並於同年5月19日持經我國駐泰國臺北經濟文化辦事處認證之上開結婚登記書、結婚證書等資料，至臺南縣永康市戶政事務所填寫結婚登記申請書，申請辦理其與共犯陳玉婉之結婚登記，並取得戶籍謄本 \n",
            "8: 迨共犯陳玉婉來臺後，為取得居留身分，被告與共犯陳玉婉於同年6月14日及94年5月5日，均持前開戶籍謄本等資料，先後向臺南縣政府警察局外事課申請核發共犯陳玉婉之外僑居留證及申請居留證延期等情，業據被告供承在卷，並有結婚登記申請書、授權書各1份、結婚登記書、結婚證書各1份（含中文、泰文影本及我國駐泰國臺北經濟文化辦事處認證之資料）、93年6月14日及94年5月5日之外國人居留停留案件聲請表各1份、被告及共犯陳玉婉之入出國日期紀錄各1份、共犯陳玉婉之外僑居留資料查詢1份在卷可按（見警三卷即南市警一刑偵字第0994101517號卷第6至24、33頁） \n",
            "9: 上開事實，首堪認定 \n",
            "10: (二)共犯詹巧薇、張晉源等人當時欲找臺灣人與泰國女子結婚，由共犯林清水於報紙上刊登徵人廣告，若應徵者符合與泰國人結婚之條件，便將應徵者介紹予共犯詹巧薇、張晉源等人，共犯林清水可從中獲取1萬元之仲介費，適被告依前開徵人廣告應徵，共犯林清水衡量其條件後告知其可至泰國結婚，其除不用負擔前往泰國之機票及食宿費用外，尚可獲取5至6萬元之報酬，被告應允同意後，共犯林清水將其介紹予詹巧薇、張晉源等人，被告即依指示前往泰國與為了來臺工作且無結婚真意的共犯陳玉婉辦理結婚事宜等情，業據共犯林清水於警詢時證稱：伊登報徵人到泰國結婚，被告看報紙來的，伊便轉介予共犯詹巧薇，由共犯詹巧薇安排後續到泰國結婚之事宜，被告除不用負擔前往泰國機票、食宿等費用，尚可獲取約5至6萬元酬勞，伊則可自共犯詹巧薇獲取約1萬元之仲介費用；伊只有將被告轉介予共犯詹巧薇，並未參與後續被告前往泰國之證照、機票、食宿等相關事宜；被告係因缺錢，為了賺取擔任人頭配偶的佣金5至6萬，並不是真的要與泰國人結婚，共犯陳玉婉係為了來臺灣工作賺錢，亦不是真的要與臺灣人結婚等語（見警三卷第2至3頁）；並於本院審理時具結證稱：當初共犯詹巧薇、張晉源等人欲找男子前往泰國結婚，伊曾刊登「男、女不限、經驗不拘」等內容之徵人廣告，被告見報應徵時，被告係因缺錢才來找伊，伊衡量被告條件後認為其只能利用結婚賺取報酬，伊才向其表示是要辦結婚，伊告知被告可安排其去泰國結婚，其不用負擔食宿及機票等費用，可實拿5至6萬元的報酬，被告同意後，伊將被告介紹予共犯詹巧薇、張晉源，共犯張晉源給付佣金1萬元予伊；伊與被告談論泰國結婚事宜時，伊與被告均不知被告之結婚對象為何人，伊亦未見過與被告結婚之泰國女子，伊僅介紹被告予共犯詹巧薇、張晉源等人，伊並未參予後續之泰國結婚、辦理結婚登記及居留申請等事情；被告曾給伊一部機車，當時被告表示要去別的地方，機車留在臺南無人使用，伊修理使用一段期間後，因再度壞掉便未再使用等語（見本院卷第68頁背面至71頁）\n"
          ]
        }
      ],
      "source": [
        "print(prompt2)"
      ]
    },
    {
      "cell_type": "code",
      "execution_count": null,
      "metadata": {
        "colab": {
          "base_uri": "https://localhost:8080/"
        },
        "id": "06KHdpSi_rI2",
        "outputId": "7845525e-5bc7-4ebe-c813-0a742db1c3df"
      },
      "outputs": [
        {
          "name": "stdout",
          "output_type": "stream",
          "text": [
            "1: (二)共犯詹巧薇、張晉源等人當時欲找臺灣人與泰國女子結婚，由共犯林清水於報紙上刊登徵人廣告，若應徵者符合與泰國人結婚之條件，便將應徵者介紹予共犯詹巧薇、張晉源等人，共犯林清水可從中獲取1萬元之仲介費，適被告依前開徵人廣告應徵，共犯林清水衡量其條件後告知其可至泰國結婚，其除不用負擔前往泰國之機票及食宿費用外，尚可獲取5至6萬元之報酬，被告應允同意後，共犯林清水將其介紹予詹巧薇、張晉源等人，被告即依指示前往泰國與為了來臺工作且無結婚真意的共犯陳玉婉辦理結婚事宜等情，業據共犯林清水於警詢時證稱：伊登報徵人到泰國結婚，被告看報紙來的，伊便轉介予共犯詹巧薇，由共犯詹巧薇安排後續到泰國結婚之事宜，被告除不用負擔前往泰國機票、食宿等費用，尚可獲取約5至6萬元酬勞，伊則可自共犯詹巧薇獲取約1萬元之仲介費用；伊只有將被告轉介予共犯詹巧薇，並未參與後續被告前往泰國之證照、機票、食宿等相關事宜；被告係因缺錢，為了賺取擔任人頭配偶的佣金5至6萬，並不是真的要與泰國人結婚，共犯陳玉婉係為了來臺灣工作賺錢，亦不是真的要與臺灣人結婚等語（見警三卷第2至3頁）；並於本院審理時具結證稱：當初共犯詹巧薇、張晉源等人欲找男子前往泰國結婚，伊曾刊登「男、女不限、經驗不拘」等內容之徵人廣告，被告見報應徵時，被告係因缺錢才來找伊，伊衡量被告條件後認為其只能利用結婚賺取報酬，伊才向其表示是要辦結婚，伊告知被告可安排其去泰國結婚，其不用負擔食宿及機票等費用，可實拿5至6萬元的報酬，被告同意後，伊將被告介紹予共犯詹巧薇、張晉源，共犯張晉源給付佣金1萬元予伊；伊與被告談論泰國結婚事宜時，伊與被告均不知被告之結婚對象為何人，伊亦未見過與被告結婚之泰國女子，伊僅介紹被告予共犯詹巧薇、張晉源等人，伊並未參予後續之泰國結婚、辦理結婚登記及居留申請等事情；被告曾給伊一部機車，當時被告表示要去別的地方，機車留在臺南無人使用，伊修理使用一段期間後，因再度壞掉便未再使用等語（見本院卷第68頁背面至71頁） \n",
            "2: 迨陳玉婉來臺後，為取得居留身分，再由陳泰龍、陳玉婉承前概括之犯意聯絡，於同年6月14日及94年5月5日，均持前開登載不實之戶籍謄本等資料，先後向臺南縣政府警察局外事課申請核發陳玉婉之外僑居留證及申請居留證延期而連續行使之（業經檢察官當庭補充），經承辦人員實質審查結果，均未發覺陳泰龍與陳玉婉假結婚之實情，而發給陳玉婉居留證或核准延期，各足以生損害於主管機關對外僑居留管理之正確性 \n",
            "3: 二、案經臺南市警察局（現改制為臺南市政府警察局，以下沿用舊制稱謂）第一分局報告臺灣臺南地方法院檢察署檢察官偵查起訴 \n",
            "4: 理由甲、程序方面：一、本件以下所引用具傳聞證據性質之供述證據，因本件被告陳泰龍、檢察官等人於本院準備程序進行時，均未爭執前開陳述之證據能力，且迄至本案言詞辯論終結前亦均未聲明異議，應視為已同意援引作為證據，又本院審酌前開證據作成時之情況及證據取得過程等節，並無非出於任意性、不正取供或其他違法不當情事，且客觀上亦無顯不可信之情況，堪認為適當，是依刑事訴訟法第159條之5規定，均有證據能力 \n",
            "5: 二、卷附之被告及陳玉婉入出國日期紀錄各1份等書證，均非屬供述證據，皆無傳聞法則之適用，復均無違反法定程序取得之情形，依刑事訴訟法第158條之4規定之反面解釋，均應有證據能力 \n",
            "6: 乙、實體方面：一、訊據被告固坦承於上開時、地，透過共犯林清水之介紹，先至泰國辦理與共犯陳玉婉之結婚手續，再前往臺南縣永康市戶政事務所辦理結婚登記，又前往臺南縣政府警察局外事課辦理共犯陳玉婉之外僑居留證及申請居留證延期之事實，惟矢口否認有何行使使公務員登載不實文書情事，於本院審理時辯稱：伊當時經濟狀況良好，因同居女友欲去日本工作而不願結婚，然伊希望結婚生子，遂透過共犯林清水之介紹與安排，共犯林清水先讓伊看過共犯陳玉婉之照片，伊再前往泰國與共犯陳玉婉結婚，伊僅負擔自己的來回機票錢及泰國住宿費用，其他結婚費用均由共犯林清水負擔，伊則贈送伊的一部機車予共犯林清水以為回報，伊並不認識共犯詹巧薇云云 \n",
            "7: 經查：(一)被告於93年4月3日前往泰國，並於同年月7日與共犯陳玉婉在泰國曼谷市法拉坎農區註冊辦事處登記結婚，取得上開註冊辦事處核發之結婚登記書、結婚證書等文件後，被告即行返臺，並於同年5月19日持經我國駐泰國臺北經濟文化辦事處認證之上開結婚登記書、結婚證書等資料，至臺南縣永康市戶政事務所填寫結婚登記申請書，申請辦理其與共犯陳玉婉之結婚登記，並取得戶籍謄本 \n",
            "8: 迨共犯陳玉婉來臺後，為取得居留身分，被告與共犯陳玉婉於同年6月14日及94年5月5日，均持前開戶籍謄本等資料，先後向臺南縣政府警察局外事課申請核發共犯陳玉婉之外僑居留證及申請居留證延期等情，業據被告供承在卷，並有結婚登記申請書、授權書各1份、結婚登記書、結婚證書各1份（含中文、泰文影本及我國駐泰國臺北經濟文化辦事處認證之資料）、93年6月14日及94年5月5日之外國人居留停留案件聲請表各1份、被告及共犯陳玉婉之入出國日期紀錄各1份、共犯陳玉婉之外僑居留資料查詢1份在卷可按（見警三卷即南市警一刑偵字第0994101517號卷第6至24、33頁） \n",
            "9: 上開事實，首堪認定 \n",
            "10: 一、陳泰龍明知其與泰國籍女子陳玉婉（泰國名字為JARUWANWONGPRATOOM，陳玉婉涉嫌本案偽造文書部分，另經臺灣臺南地方法院檢察署檢察官通緝中）間並無結婚之真意，然因詹巧薇、張晉源等人欲找臺灣男子前往泰國與泰國女子辦理假結婚，林清水負責介紹臺灣男子予詹巧薇、張晉源等人以賺取新臺幣（下同）1萬元之仲介費，適陳泰龍依林清水於報紙上刊登之徵人廣告應徵時，由林清水告知泰國女子欲以假結婚之方式申請來臺居留工作，其若擔任假結婚之人頭老公，除不用負擔前往泰國之食宿、機票費用外，尚可獲取5、6萬元之報酬，迨陳泰龍應允同意後，林清水將其轉介紹予詹巧薇、張晉源等人，陳泰龍遂與林清水、詹巧薇、張晉源等人共同基於行使使公務員登載不實公文書之概括犯意聯絡，先由陳泰龍依指示於民國93年4月3日前往泰國，並於同年月7日與陳玉婉在泰國曼谷市法拉坎農區註冊辦事處登記結婚，取得上開註冊辦事處核發之結婚登記書、結婚證書等文件後，陳泰龍即行返臺，並於同年5月19日持經我國駐泰國臺北經濟文化辦事處認證之上開結婚登記書、結婚證書等資料，至臺南縣永康市（改制前稱謂，以下沿用舊制稱謂）戶政事務所填寫結婚登記申請書，申請辦理其與陳玉婉之結婚登記，因此使上開戶政事務所僅有形式審查權之承辦公務員陷於錯誤，於形式上審核後，將陳泰龍與陳玉婉於93年4月7日結婚之不實事項，登載於其職務上所掌屬公文書之戶籍登記資料內，並據以核發戶籍謄本，而足以生損害於戶政機關對於戶政管理及戶籍登記資料維護之正確性\n"
          ]
        }
      ],
      "source": [
        "print(prompt3)"
      ]
    },
    {
      "cell_type": "markdown",
      "source": [
        "## 給範例\n",
        "結果：只會印出範例句子，已經測試過長度在5000內也一樣"
      ],
      "metadata": {
        "id": "MxfXG5a4VGoj"
      }
    },
    {
      "cell_type": "code",
      "execution_count": null,
      "metadata": {
        "id": "DBHQFb7EMOps"
      },
      "outputs": [],
      "source": [
        "input_ex = \"1: 一、李炷烽曾為金門縣縣長，與李運成為叔姪關係 \\n2: 李炷烽與李運成、李根福3人於民國95年間，共同繼承金門縣金寧鄉○○○○○段000號土地（下稱系爭土地），渠等之應有部分均為三分之一 \\n3: 李炷烽明知李運成並未同意贈與上開土地之應有部分予社團法人金門縣李氏宗親會（下稱李氏宗親會），竟於102年5月間某日，撥打電話予李運成佯稱：因系爭土地與鄰近土地所有權人界線劃分不清，故需身分證及印章辦理並解決云云，李運成不疑有他，即將身分證及印鑑章寄送李炷烽 \\n4: 李炷烽即基於行使偽造私文書及使公務員登載不實之犯意，指示不知情之地政士李根遠於103年3月3日前某日，在「土地登記申請書」、「土地所有權贈與移轉契約書」、「切結書」、「不動產贈與契約」等文件上，接續盜蓋李運成之印章後，復將其中之「土地登記申請書」、「土地所有權贈與移轉契約書」、「切結書」（起訴書誤繕連同「不動產贈與契約」送件至金門縣地政局，應予更正）連同印鑑證明、契稅繳款證明及土地增值稅繳款證明等文件，於103年3月3日送件至金門縣地政局，表示李運成願贈與系爭土地之應有部分，致不知情之承辦公務員為形式審查後，將上開不實事項登載在職務上所掌之地籍簿冊等公文書內，並於103年4月7日移轉登記至李氏宗親會名下，足生損害於地政機關對於地籍管理正確性及李運成 \\n5: 嗣辦理完成後，李炷烽將系爭土地所有權狀及「不動產贈與契約」寄送李運成，欲使李運成接受系爭土地已贈與之事實，惟李運成心有不甘，乃提出告訴 \\n6: 二、案經李運成訴由臺灣士林地方法院檢察署察官呈請臺灣高等法院檢察署檢察長函轉最高法院檢察署移轉福建金門地方法院檢察署檢察官偵查後起訴 \\n7: 理由一、證據能力之說明：(一)按被告以外之人於偵查中向檢察官所為之陳述，除顯有不可信之情況者外，得為證據，刑事訴訟法第159條之1第2項定有明文 \\n8: 該規定揭示被告以外之人於偵查中向檢察官所為之陳述，原則上有證據能力，僅於顯有不可信之情況，始例外否定其得為證據 \\n9: 換言之，法院僅在被告主張並釋明有「不可信之情況」時，始應就有無該例外情形為調查審認 \\n10: 本院審酌，證人李運成、李根福、李錫榮及李根遠等人於偵查時之證述，並無受到外力干擾，依其等陳述時之外在環境及情況，並無任何顯不可信之情形，且俱經依法具結\""
      ]
    },
    {
      "cell_type": "code",
      "execution_count": null,
      "metadata": {
        "id": "fDvIQTwBNGAl"
      },
      "outputs": [],
      "source": [
        "output_ex = \"3: 李炷烽明知李運成並未同意贈與上開土地之應有部分予社團法人金門縣李氏宗親會（下稱李氏宗親會），竟於102年5月間某日，撥打電話予李運成佯稱：因系爭土地與鄰近土地所有權人界線劃分不清，故需身分證及印章辦理並解決云云，李運成不疑有他，即將身分證及印鑑章寄送李炷烽 \\n4: 李炷烽即基於行使偽造私文書及使公務員登載不實之犯意，指示不知情之地政士李根遠於103年3月3日前某日，在「土地登記申請書」、「土地所有權贈與移轉契約書」、「切結書」、「不動產贈與契約」等文件上，接續盜蓋李運成之印章後，復將其中之「土地登記申請書」、「土地所有權贈與移轉契約書」、「切結書」（起訴書誤繕連同「不動產贈與契約」送件至金門縣地政局，應予更正）連同印鑑證明、契稅繳款證明及土地增值稅繳款證明等文件，於103年3月3日送件至金門縣地政局，表示李運成願贈與系爭土地之應有部分，致不知情之承辦公務員為形式審查後，將上開不實事項登載在職務上所掌之地籍簿冊等公文書內，並於103年4月7日移轉登記至李氏宗親會名下，足生損害於地政機關對於地籍管理正確性及李運成 \\n5: 嗣辦理完成後，李炷烽將系爭土地所有權狀及「不動產贈與契約」寄送李運成，欲使李運成接受系爭土地已贈與之事實，惟李運成心有不甘，乃提出告訴\""
      ]
    },
    {
      "cell_type": "code",
      "execution_count": null,
      "metadata": {
        "id": "0KIYEICoMlvV"
      },
      "outputs": [],
      "source": [
        "query = \"以下句子都是來自一篇法律判決書，請從這些句子中挑選出和犯罪事實情節描述最相關的三個句子。以下是一個Extraction-based摘要範例：多個句子輸入\"+input_ex+\" 三個句子輸出：\"+output_ex+\"根據以上的範例，從著些句字中萃取出和犯罪事實情節描述最相關的三個句子，句子如下：\""
      ]
    },
    {
      "cell_type": "code",
      "execution_count": null,
      "metadata": {
        "colab": {
          "base_uri": "https://localhost:8080/"
        },
        "id": "Ym2envxNN9TA",
        "outputId": "538563c0-9912-459e-b7d5-aeb4e422aa0d"
      },
      "outputs": [
        {
          "name": "stdout",
          "output_type": "stream",
          "text": [
            "1: 乙、實體方面：一、訊據被告固坦承於上開時、地，透過共犯林清水之介紹，先至泰國辦理與共犯陳玉婉之結婚手續，再前往臺南縣永康市戶政事務所辦理結婚登記，又前往臺南縣政府警察局外事課辦理共犯陳玉婉之外僑居留證及申請居留證延期之事實，惟矢口否認有何行使使公務員登載不實文書情事，於本院審理時辯稱：伊當時經濟狀況良好，因同居女友欲去日本工作而不願結婚，然伊希望結婚生子，遂透過共犯林清水之介紹與安排，共犯林清水先讓伊看過共犯陳玉婉之照片，伊再前往泰國與共犯陳玉婉結婚，伊僅負擔自己的來回機票錢及泰國住宿費用，其他結婚費用均由共犯林清水負擔，伊則贈送伊的一部機車予共犯林清水以為回報，伊並不認識共犯詹巧薇云云\n",
            "2: 迨共犯陳玉婉來臺後，為取得居留身分，被告與共犯陳玉婉於同年6月14日及94年5月5日，均持前開戶籍謄本等資料，先後向臺南縣政府警察局外事課申請核發共犯陳玉婉之外僑居留證及申請居留證延期等情，業據被告供承在卷，並有結婚登記申請書、授權書各1份、結婚登記書、結婚證書各1份（含中文、泰文影本及我國駐泰國臺北經濟文化辦事處認證之資料）、93年6月14日及94年5月5日之外國人居留停留案件聲請表各1份、被告及共犯陳玉婉之入出國日期紀錄各1份、共犯陳玉婉之外僑居留資料查詢1份在卷可按（見警三卷即南市警一刑偵字第0994101517號卷第6至24、33頁）\n",
            "3: 上開事實，首堪認定\n",
            "4: 理由甲、程序方面：一、本件以下所引用具傳聞證據性質之供述證據，因本件被告陳泰龍、檢察官等人於本院準備程序進行時，均未爭執前開陳述之證據能力，且迄至本案言詞辯論終結前亦均未聲明異議，應視為已同意援引作為證據，又本院審酌前開證據作成時之情況及證據取得過程等節，並無非出於任意性、不正取供或其他違法不當情事，且客觀上亦無顯不可信之情況，堪認為適當，是依刑事訴訟法第159條之5規定，均有證據能力\n",
            "5: 二、卷附之被告及陳玉婉入出國日期紀錄各1份等書證，均非屬供述證據，皆無傳聞法則之適用，復均無違反法定程序取得之情形，依刑事訴訟法第158條之4規定之反面解釋，均應有證據能力\n",
            "6: 一、陳泰龍明知其與泰國籍女子陳玉婉（泰國名字為JARUWANWONGPRATOOM，陳玉婉涉嫌本案偽造文書部分，另經臺灣臺南地方法院檢察署檢察官通緝中）間並無結婚之真意，然因詹巧薇、張晉源等人欲找臺灣男子前往泰國與泰國女子辦理假結婚，林清水負責介紹臺灣男子予詹巧薇、張晉源等人以賺取新臺幣（下同）1萬元之仲介費，適陳泰龍依林清水於報紙上刊登之徵人廣告應徵時，由林清水告知泰國女子欲以假結婚之方式申請來臺居留工作，其若擔任假結婚之人頭老公，除不用負擔前往泰國之食宿、機票費用外，尚可獲取5、6萬元之報酬，迨陳泰龍應允同意後，林清水將其轉介紹予詹巧薇、張晉源等人，陳泰龍遂與林清水、詹巧薇、張晉源等人共同基於行使使公務員登載不實公文書之概括犯意聯絡，先由陳泰龍依指示於民國93年4月3日前往泰國，並於同年月7日與陳玉婉在泰國曼谷市法拉坎農區註冊辦事處登記結婚，取得上開註冊辦事處核發之結婚登記書、結婚證書等文件後，陳泰龍即行返臺，並於同年5月19日持經我國駐泰國臺北經濟文化辦事處認證之上開結婚登記書、結婚證書等資料，至臺南縣永康市（改制前稱謂，以下沿用舊制稱謂）戶政事務所填寫結婚登記申請書，申請辦理其與陳玉婉之結婚登記，因此使上開戶政事務所僅有形式審查權之承辦公務員陷於錯誤，於形式上審核後，將陳泰龍與陳玉婉於93年4月7日結婚之不實事項，登載於其職務上所掌屬公文書之戶籍登記資料內，並據以核發戶籍謄本，而足以生損害於戶政機關對於戶政管理及戶籍登記資料維護之正確性\n",
            "7: 經查：(一)被告於93年4月3日前往泰國，並於同年月7日與共犯陳玉婉在泰國曼谷市法拉坎農區註冊辦事處登記結婚，取得上開註冊辦事處核發之結婚登記書、結婚證書等文件後，被告即行返臺，並於同年5月19日持經我國駐泰國臺北經濟文化辦事處認證之上開結婚登記書、結婚證書等資料，至臺南縣永康市戶政事務所填寫結婚登記申請書，申請辦理其與共犯陳玉婉之結婚登記，並取得戶籍謄本\n",
            "8: 迨陳玉婉來臺後，為取得居留身分，再由陳泰龍、陳玉婉承前概括之犯意聯絡，於同年6月14日及94年5月5日，均持前開登載不實之戶籍謄本等資料，先後向臺南縣政府警察局外事課申請核發陳玉婉之外僑居留證及申請居留證延期而連續行使之（業經檢察官當庭補充），經承辦人員實質審查結果，均未發覺陳泰龍與陳玉婉假結婚之實情，而發給陳玉婉居留證或核准延期，各足以生損害於主管機關對外僑居留管理之正確性\n",
            "9:  二、案經臺南市警察局（現改制為臺南市政府警察局，以下沿用舊制稱謂）第一分局報告臺灣臺南地方法院檢察署檢察官偵查起訴\n",
            "10: (二)共犯詹巧薇、張晉源等人當時欲找臺灣人與泰國女子結婚，由共犯林清水於報紙上刊登徵人廣告，若應徵者符合與泰國人結婚之條件，便將應徵者介紹予共犯詹巧薇、張晉源等人，共犯林清水可從中獲取1萬元之仲介費，適被告依前開徵人廣告應徵，共犯林清水衡量其條件後告知其可至泰國結婚，其除不用負擔前往泰國之機票及食宿費用外，尚可獲取5至6萬元之報酬，被告應允同意後，共犯林清水將其介紹予詹巧薇、張晉源等人，被告即依指示前往泰國與為了來臺工作且無結婚真意的共犯陳玉婉辦理結婚事宜等情，業據共犯林清水於警詢時證稱：伊登報徵人到泰國結婚，被告看報紙來的，伊便轉介予共犯詹巧薇，由共犯詹巧薇安排後續到泰國結婚之事宜，被告除不用負擔前往泰國機票、食宿等費用，尚可獲取約5至6萬元酬勞，伊則可自共犯詹巧薇獲取約1萬元之仲介費用；伊只有將被告轉介予共犯詹巧薇，並未參與後續被告前往泰國之證照、機票、食宿等相關事宜；被告係因缺錢，為了賺取擔任人頭配偶的佣金5至6萬，並不是真的要與泰國人結婚，共犯陳玉婉係為了來臺灣工作賺錢，亦不是真的要與臺灣人結婚等語（見警三卷第2至3頁）；並於本院審理時具結證稱：當初共犯詹巧薇、張晉源等人欲找男子前往泰國結婚，伊曾刊登「男、女不限、經驗不拘」等內容之徵人廣告，被告見報應徵時，被告係因缺錢才來找伊，伊衡量被告條件後認為其只能利用結婚賺取報酬，伊才向其表示是要辦結婚，伊告知被告可安排其去泰國結婚，其不用負擔食宿及機票等費用，可實拿5至6萬元的報酬，被告同意後，伊將被告介紹予共犯詹巧薇、張晉源，共犯張晉源給付佣金1萬元予伊；伊與被告談論泰國結婚事宜時，伊與被告均不知被告之結婚對象為何人，伊亦未見過與被告結婚之泰國女子，伊僅介紹被告予共犯詹巧薇、張晉源等人，伊並未參予後續之泰國結婚、辦理結婚登記及居留申請等事情；被告曾給伊一部機車，當時被告表示要去別的地方，機車留在臺南無人使用，伊修理使用一段期間後，因再度壞掉便未再使用等語（見本院卷第68頁背面至71頁）\n",
            "--->\n",
            " 1: 李炷烽明知李運成並未同意贈與上開土地之應有部分予社團法人金門縣李氏宗親會（下稱李氏宗親會），竟於102年5月間某日，撥打電話予李運成佯稱：因系爭土地與鄰近土地所有權人界線劃分不清，故需身分證及印章辦理並解決云云，李運成不疑有他，即將身分證及印鑑章寄送李炷烽\n",
            "2: 李炷烽即基於行使偽造私文書及使公務員登載不實之犯意，指示不知情之地政士李根遠於103年3月3日前某日，在「土地登記申請書」、「土地所有權贈與移轉契約書」、「切結書」、「不動產贈與契約」等文件上，接續盜蓋李運成之印章後，復將其中之「土地登記申請書」、「土地所有權贈與移轉契約書」、「切結書」（起訴書誤繕連同「不動產贈與契約」送件至金門縣地政局，應予更正）連同印鑑證明、契稅繳款證明及土地增值稅繳款證明等文件，於103年3月3日送件至金門縣地政局，表示李運成願贈與系爭土地之應有部分，致不知情之承辦公務員為形式審查後，將上開不實事項登載在職務上所掌之地籍簿冊等公文書內，並於103年4月7日移轉登記至李氏宗親會名下，足生損害於地政機關對於地籍管理正確性及李運成\n",
            "3: 嗣辦理完成後，李炷烽將系爭土地所有權狀及「不動產贈與契約」寄送李運成，欲使李運成接受系爭土地已贈與之事實，惟李運成心有不甘，乃提出告訴\n",
            "=======================================================\n",
            "1: 乙、實體方面：一、訊據被告固坦承於上開時、地，透過共犯林清水之介紹，先至泰國辦理與共犯陳玉婉之結婚手續，再前往臺南縣永康市戶政事務所辦理結婚登記，又前往臺南縣政府警察局外事課辦理共犯陳玉婉之外僑居留證及申請居留證延期之事實，惟矢口否認有何行使使公務員登載不實文書情事，於本院審理時辯稱：伊當時經濟狀況良好，因同居女友欲去日本工作而不願結婚，然伊希望結婚生子，遂透過共犯林清水之介紹與安排，共犯林清水先讓伊看過共犯陳玉婉之照片，伊再前往泰國與共犯陳玉婉結婚，伊僅負擔自己的來回機票錢及泰國住宿費用，其他結婚費用均由共犯林清水負擔，伊則贈送伊的一部機車予共犯林清水以為回報，伊並不認識共犯詹巧薇云云\n",
            "2: 迨共犯陳玉婉來臺後，為取得居留身分，被告與共犯陳玉婉於同年6月14日及94年5月5日，均持前開戶籍謄本等資料，先後向臺南縣政府警察局外事課申請核發共犯陳玉婉之外僑居留證及申請居留證延期等情，業據被告供承在卷，並有結婚登記申請書、授權書各1份、結婚登記書、結婚證書各1份（含中文、泰文影本及我國駐泰國臺北經濟文化辦事處認證之資料）、93年6月14日及94年5月5日之外國人居留停留案件聲請表各1份、被告及共犯陳玉婉之入出國日期紀錄各1份、共犯陳玉婉之外僑居留資料查詢1份在卷可按（見警三卷即南市警一刑偵字第0994101517號卷第6至24、33頁）\n",
            "3: 上開事實，首堪認定\n",
            "4: 理由甲、程序方面：一、本件以下所引用具傳聞證據性質之供述證據，因本件被告陳泰龍、檢察官等人於本院準備程序進行時，均未爭執前開陳述之證據能力，且迄至本案言詞辯論終結前亦均未聲明異議，應視為已同意援引作為證據，又本院審酌前開證據作成時之情況及證據取得過程等節，並無非出於任意性、不正取供或其他違法不當情事，且客觀上亦無顯不可信之情況，堪認為適當，是依刑事訴訟法第159條之5規定，均有證據能力\n",
            "5: 二、卷附之被告及陳玉婉入出國日期紀錄各1份等書證，均非屬供述證據，皆無傳聞法則之適用，復均無違反法定程序取得之情形，依刑事訴訟法第158條之4規定之反面解釋，均應有證據能力\n",
            "6: 一、陳泰龍明知其與泰國籍女子陳玉婉（泰國名字為JARUWANWONGPRATOOM，陳玉婉涉嫌本案偽造文書部分，另經臺灣臺南地方法院檢察署檢察官通緝中）間並無結婚之真意，然因詹巧薇、張晉源等人欲找臺灣男子前往泰國與泰國女子辦理假結婚，林清水負責介紹臺灣男子予詹巧薇、張晉源等人以賺取新臺幣（下同）1萬元之仲介費，適陳泰龍依林清水於報紙上刊登之徵人廣告應徵時，由林清水告知泰國女子欲以假結婚之方式申請來臺居留工作，其若擔任假結婚之人頭老公，除不用負擔前往泰國之食宿、機票費用外，尚可獲取5、6萬元之報酬，迨陳泰龍應允同意後，林清水將其轉介紹予詹巧薇、張晉源等人，陳泰龍遂與林清水、詹巧薇、張晉源等人共同基於行使使公務員登載不實公文書之概括犯意聯絡，先由陳泰龍依指示於民國93年4月3日前往泰國，並於同年月7日與陳玉婉在泰國曼谷市法拉坎農區註冊辦事處登記結婚，取得上開註冊辦事處核發之結婚登記書、結婚證書等文件後，陳泰龍即行返臺，並於同年5月19日持經我國駐泰國臺北經濟文化辦事處認證之上開結婚登記書、結婚證書等資料，至臺南縣永康市（改制前稱謂，以下沿用舊制稱謂）戶政事務所填寫結婚登記申請書，申請辦理其與陳玉婉之結婚登記，因此使上開戶政事務所僅有形式審查權之承辦公務員陷於錯誤，於形式上審核後，將陳泰龍與陳玉婉於93年4月7日結婚之不實事項，登載於其職務上所掌屬公文書之戶籍登記資料內，並據以核發戶籍謄本，而足以生損害於戶政機關對於戶政管理及戶籍登記資料維護之正確性\n",
            "7: 經查：(一)被告於93年4月3日前往泰國，並於同年月7日與共犯陳玉婉在泰國曼谷市法拉坎農區註冊辦事處登記結婚，取得上開註冊辦事處核發之結婚登記書、結婚證書等文件後，被告即行返臺，並於同年5月19日持經我國駐泰國臺北經濟文化辦事處認證之上開結婚登記書、結婚證書等資料，至臺南縣永康市戶政事務所填寫結婚登記申請書，申請辦理其與共犯陳玉婉之結婚登記，並取得戶籍謄本\n",
            "8: 迨陳玉婉來臺後，為取得居留身分，再由陳泰龍、陳玉婉承前概括之犯意聯絡，於同年6月14日及94年5月5日，均持前開登載不實之戶籍謄本等資料，先後向臺南縣政府警察局外事課申請核發陳玉婉之外僑居留證及申請居留證延期而連續行使之（業經檢察官當庭補充），經承辦人員實質審查結果，均未發覺陳泰龍與陳玉婉假結婚之實情，而發給陳玉婉居留證或核准延期，各足以生損害於主管機關對外僑居留管理之正確性\n",
            "9:  二、案經臺南市警察局（現改制為臺南市政府警察局，以下沿用舊制稱謂）第一分局報告臺灣臺南地方法院檢察署檢察官偵查起訴\n",
            "10: (二)共犯詹巧薇、張晉源等人當時欲找臺灣人與泰國女子結婚，由共犯林清水於報紙上刊登徵人廣告，若應徵者符合與泰國人結婚之條件，便將應徵者介紹予共犯詹巧薇、張晉源等人，共犯林清水可從中獲取1萬元之仲介費，適被告依前開徵人廣告應徵，共犯林清水衡量其條件後告知其可至泰國結婚，其除不用負擔前往泰國之機票及食宿費用外，尚可獲取5至6萬元之報酬，被告應允同意後，共犯林清水將其介紹予詹巧薇、張晉源等人，被告即依指示前往泰國與為了來臺工作且無結婚真意的共犯陳玉婉辦理結婚事宜等情，業據共犯林清水於警詢時證稱：伊登報徵人到泰國結婚，被告看報紙來的，伊便轉介予共犯詹巧薇，由共犯詹巧薇安排後續到泰國結婚之事宜，被告除不用負擔前往泰國機票、食宿等費用，尚可獲取約5至6萬元酬勞，伊則可自共犯詹巧薇獲取約1萬元之仲介費用；伊只有將被告轉介予共犯詹巧薇，並未參與後續被告前往泰國之證照、機票、食宿等相關事宜；被告係因缺錢，為了賺取擔任人頭配偶的佣金5至6萬，並不是真的要與泰國人結婚，共犯陳玉婉係為了來臺灣工作賺錢，亦不是真的要與臺灣人結婚等語（見警三卷第2至3頁）；並於本院審理時具結證稱：當初共犯詹巧薇、張晉源等人欲找男子前往泰國結婚，伊曾刊登「男、女不限、經驗不拘」等內容之徵人廣告，被告見報應徵時，被告係因缺錢才來找伊，伊衡量被告條件後認為其只能利用結婚賺取報酬，伊才向其表示是要辦結婚，伊告知被告可安排其去泰國結婚，其不用負擔食宿及機票等費用，可實拿5至6萬元的報酬，被告同意後，伊將被告介紹予共犯詹巧薇、張晉源，共犯張晉源給付佣金1萬元予伊；伊與被告談論泰國結婚事宜時，伊與被告均不知被告之結婚對象為何人，伊亦未見過與被告結婚之泰國女子，伊僅介紹被告予共犯詹巧薇、張晉源等人，伊並未參予後續之泰國結婚、辦理結婚登記及居留申請等事情；被告曾給伊一部機車，當時被告表示要去別的地方，機車留在臺南無人使用，伊修理使用一段期間後，因再度壞掉便未再使用等語（見本院卷第68頁背面至71頁）\n",
            "--->\n",
            " 1: 李炷烽明知李運成並未同意贈與上開土地之應有部分予社團法人金門縣李氏宗親會（下稱李氏宗親會），竟於102年5月間某日，撥打電話予李運成佯稱：因系爭土地與鄰近土地所有權人界線劃分不清，故需身分證及印章辦理並解決云云，李運成不疑有他，即將身分證及印鑑章寄送李炷烽\n",
            "2: 李炷烽即基於行使偽造私文書及使公務員登載不實之犯意，指示不知情之地政士李根遠於103年3月3日前某日，在「土地登記申請書」、「土地所有權贈與移轉契約書」、「切結書」、「不動產贈與契約」等文件上，接續盜蓋李運成之印章後，復將其中之「土地登記申請書」、「土地所有權贈與移轉契約書」、「切結書」（起訴書誤繕連同「不動產贈與契約」送件至金門縣地政局，應予更正）連同印鑑證明、契稅繳款證明及土地增值稅繳款證明等文件，於103年3月3日送件至金門縣地政局，表示李運成願贈與系爭土地之應有部分，致不知情之承辦公務員為形式審查後，將上開不實事項登載在職務上所掌之地籍簿冊等公文書內，並於103年4月7日移轉登記至李氏宗親會名下，足生損害於地政機關對於地籍管理正確性及李運成\n",
            "3: 嗣辦理完成後，李炷烽將系爭土地所有權狀及「不動產贈與契約」寄送李運成，欲使李運成接受系爭土地已贈與之事實，惟李運成心有不甘，乃提出告訴\n",
            "=======================================================\n",
            "1: 乙、實體方面：一、訊據被告固坦承於上開時、地，透過共犯林清水之介紹，先至泰國辦理與共犯陳玉婉之結婚手續，再前往臺南縣永康市戶政事務所辦理結婚登記，又前往臺南縣政府警察局外事課辦理共犯陳玉婉之外僑居留證及申請居留證延期之事實，惟矢口否認有何行使使公務員登載不實文書情事，於本院審理時辯稱：伊當時經濟狀況良好，因同居女友欲去日本工作而不願結婚，然伊希望結婚生子，遂透過共犯林清水之介紹與安排，共犯林清水先讓伊看過共犯陳玉婉之照片，伊再前往泰國與共犯陳玉婉結婚，伊僅負擔自己的來回機票錢及泰國住宿費用，其他結婚費用均由共犯林清水負擔，伊則贈送伊的一部機車予共犯林清水以為回報，伊並不認識共犯詹巧薇云云\n",
            "2: 迨共犯陳玉婉來臺後，為取得居留身分，被告與共犯陳玉婉於同年6月14日及94年5月5日，均持前開戶籍謄本等資料，先後向臺南縣政府警察局外事課申請核發共犯陳玉婉之外僑居留證及申請居留證延期等情，業據被告供承在卷，並有結婚登記申請書、授權書各1份、結婚登記書、結婚證書各1份（含中文、泰文影本及我國駐泰國臺北經濟文化辦事處認證之資料）、93年6月14日及94年5月5日之外國人居留停留案件聲請表各1份、被告及共犯陳玉婉之入出國日期紀錄各1份、共犯陳玉婉之外僑居留資料查詢1份在卷可按（見警三卷即南市警一刑偵字第0994101517號卷第6至24、33頁）\n",
            "3: 上開事實，首堪認定\n",
            "4: 理由甲、程序方面：一、本件以下所引用具傳聞證據性質之供述證據，因本件被告陳泰龍、檢察官等人於本院準備程序進行時，均未爭執前開陳述之證據能力，且迄至本案言詞辯論終結前亦均未聲明異議，應視為已同意援引作為證據，又本院審酌前開證據作成時之情況及證據取得過程等節，並無非出於任意性、不正取供或其他違法不當情事，且客觀上亦無顯不可信之情況，堪認為適當，是依刑事訴訟法第159條之5規定，均有證據能力\n",
            "5: 二、卷附之被告及陳玉婉入出國日期紀錄各1份等書證，均非屬供述證據，皆無傳聞法則之適用，復均無違反法定程序取得之情形，依刑事訴訟法第158條之4規定之反面解釋，均應有證據能力\n",
            "6: 一、陳泰龍明知其與泰國籍女子陳玉婉（泰國名字為JARUWANWONGPRATOOM，陳玉婉涉嫌本案偽造文書部分，另經臺灣臺南地方法院檢察署檢察官通緝中）間並無結婚之真意，然因詹巧薇、張晉源等人欲找臺灣男子前往泰國與泰國女子辦理假結婚，林清水負責介紹臺灣男子予詹巧薇、張晉源等人以賺取新臺幣（下同）1萬元之仲介費，適陳泰龍依林清水於報紙上刊登之徵人廣告應徵時，由林清水告知泰國女子欲以假結婚之方式申請來臺居留工作，其若擔任假結婚之人頭老公，除不用負擔前往泰國之食宿、機票費用外，尚可獲取5、6萬元之報酬，迨陳泰龍應允同意後，林清水將其轉介紹予詹巧薇、張晉源等人，陳泰龍遂與林清水、詹巧薇、張晉源等人共同基於行使使公務員登載不實公文書之概括犯意聯絡，先由陳泰龍依指示於民國93年4月3日前往泰國，並於同年月7日與陳玉婉在泰國曼谷市法拉坎農區註冊辦事處登記結婚，取得上開註冊辦事處核發之結婚登記書、結婚證書等文件後，陳泰龍即行返臺，並於同年5月19日持經我國駐泰國臺北經濟文化辦事處認證之上開結婚登記書、結婚證書等資料，至臺南縣永康市（改制前稱謂，以下沿用舊制稱謂）戶政事務所填寫結婚登記申請書，申請辦理其與陳玉婉之結婚登記，因此使上開戶政事務所僅有形式審查權之承辦公務員陷於錯誤，於形式上審核後，將陳泰龍與陳玉婉於93年4月7日結婚之不實事項，登載於其職務上所掌屬公文書之戶籍登記資料內，並據以核發戶籍謄本，而足以生損害於戶政機關對於戶政管理及戶籍登記資料維護之正確性\n",
            "7: 經查：(一)被告於93年4月3日前往泰國，並於同年月7日與共犯陳玉婉在泰國曼谷市法拉坎農區註冊辦事處登記結婚，取得上開註冊辦事處核發之結婚登記書、結婚證書等文件後，被告即行返臺，並於同年5月19日持經我國駐泰國臺北經濟文化辦事處認證之上開結婚登記書、結婚證書等資料，至臺南縣永康市戶政事務所填寫結婚登記申請書，申請辦理其與共犯陳玉婉之結婚登記，並取得戶籍謄本\n",
            "8: 迨陳玉婉來臺後，為取得居留身分，再由陳泰龍、陳玉婉承前概括之犯意聯絡，於同年6月14日及94年5月5日，均持前開登載不實之戶籍謄本等資料，先後向臺南縣政府警察局外事課申請核發陳玉婉之外僑居留證及申請居留證延期而連續行使之（業經檢察官當庭補充），經承辦人員實質審查結果，均未發覺陳泰龍與陳玉婉假結婚之實情，而發給陳玉婉居留證或核准延期，各足以生損害於主管機關對外僑居留管理之正確性\n",
            "9:  二、案經臺南市警察局（現改制為臺南市政府警察局，以下沿用舊制稱謂）第一分局報告臺灣臺南地方法院檢察署檢察官偵查起訴\n",
            "10: (二)共犯詹巧薇、張晉源等人當時欲找臺灣人與泰國女子結婚，由共犯林清水於報紙上刊登徵人廣告，若應徵者符合與泰國人結婚之條件，便將應徵者介紹予共犯詹巧薇、張晉源等人，共犯林清水可從中獲取1萬元之仲介費，適被告依前開徵人廣告應徵，共犯林清水衡量其條件後告知其可至泰國結婚，其除不用負擔前往泰國之機票及食宿費用外，尚可獲取5至6萬元之報酬，被告應允同意後，共犯林清水將其介紹予詹巧薇、張晉源等人，被告即依指示前往泰國與為了來臺工作且無結婚真意的共犯陳玉婉辦理結婚事宜等情，業據共犯林清水於警詢時證稱：伊登報徵人到泰國結婚，被告看報紙來的，伊便轉介予共犯詹巧薇，由共犯詹巧薇安排後續到泰國結婚之事宜，被告除不用負擔前往泰國機票、食宿等費用，尚可獲取約5至6萬元酬勞，伊則可自共犯詹巧薇獲取約1萬元之仲介費用；伊只有將被告轉介予共犯詹巧薇，並未參與後續被告前往泰國之證照、機票、食宿等相關事宜；被告係因缺錢，為了賺取擔任人頭配偶的佣金5至6萬，並不是真的要與泰國人結婚，共犯陳玉婉係為了來臺灣工作賺錢，亦不是真的要與臺灣人結婚等語（見警三卷第2至3頁）；並於本院審理時具結證稱：當初共犯詹巧薇、張晉源等人欲找男子前往泰國結婚，伊曾刊登「男、女不限、經驗不拘」等內容之徵人廣告，被告見報應徵時，被告係因缺錢才來找伊，伊衡量被告條件後認為其只能利用結婚賺取報酬，伊才向其表示是要辦結婚，伊告知被告可安排其去泰國結婚，其不用負擔食宿及機票等費用，可實拿5至6萬元的報酬，被告同意後，伊將被告介紹予共犯詹巧薇、張晉源，共犯張晉源給付佣金1萬元予伊；伊與被告談論泰國結婚事宜時，伊與被告均不知被告之結婚對象為何人，伊亦未見過與被告結婚之泰國女子，伊僅介紹被告予共犯詹巧薇、張晉源等人，伊並未參予後續之泰國結婚、辦理結婚登記及居留申請等事情；被告曾給伊一部機車，當時被告表示要去別的地方，機車留在臺南無人使用，伊修理使用一段期間後，因再度壞掉便未再使用等語（見本院卷第68頁背面至71頁）\n",
            "--->\n",
            " 以下是三個和犯罪事實情節描述最相關的句子：\n",
            "\n",
            "1. 李炷烽明知李運成並未同意贈與上開土地之應有部分予社團法人金門縣李氏宗親會（下稱李氏宗親會），竟於102年5月間某日，撥打電話予李運成佯稱：因系爭土地與鄰近土地所有權人界線劃分不清，故需身分證及印章辦理並解決云云，李運成不疑有他，即將身分證及印鑑章寄送李炷烽\n",
            "2. 李炷烽即基於行使偽造私文書及使公務員登載不實之犯意，指示不知情之地政士李根遠於103年3月3日前某日，在「土地登記申請書」、「土地所有權贈與移轉契約書」、「切結書」、「不動產贈與契約」等文件上，接續盜蓋李運成之印章後，復將其中之「土地登記申請書」、「土地所有權贈與移轉契約書」、「切結書」（起訴書誤繕連同「不動產贈與契約」送件至金門縣地政局，應予更正）連同印鑑證明、契稅繳款證明及土地增值稅繳款證明等文件，於103年3月3日送件至金門縣地政局，表示李運成願贈與系爭土地之應有部分，致不知情之承辦公務員為形式審查後，將上開不實事項登載在職務上所掌之地籍簿冊等公文書內，並於103年4月7日移轉登記至李氏宗親會名下，足生損害於地政機關對於地籍管理正確性及李運成\n",
            "3. 嗣辦理完成後，李炷烽將系爭土地所有權狀及「不動產贈與契約」寄送李運成，欲使李運成接受系爭土地已贈與之事實，惟李運成心有不甘，乃提出告訴\n",
            "=======================================================\n"
          ]
        }
      ],
      "source": [
        "print(prompt1)\n",
        "print(\"--->\")\n",
        "print(get_breeze(query+prompt1))\n",
        "print(\"=======================================================\")\n",
        "print(prompt1)\n",
        "print(\"--->\")\n",
        "print(get_breeze(query+prompt2))\n",
        "print(\"=======================================================\")\n",
        "print(prompt1)\n",
        "print(\"--->\")\n",
        "print(get_breeze(query+prompt3))\n",
        "print(\"=======================================================\")"
      ]
    },
    {
      "cell_type": "code",
      "execution_count": null,
      "metadata": {
        "id": "Cykp22w0OSmq"
      },
      "outputs": [],
      "source": [
        "query = \"以下句子都是來自一篇法律判決書，請從這些句子中挑選出和犯罪事實情節描述最相關的三個句子。以下是一個Extraction-based摘要範例：多個句子輸入\"+input_ex+\" 萃取出和犯罪事實情節描述最相關的三個句子輸出：\"+output_ex+\"\\n根據以上的範例，從以下句子中萃取出和犯罪事實情節描述最相關的三個句子，句子如下：\""
      ]
    },
    {
      "cell_type": "code",
      "execution_count": null,
      "metadata": {
        "colab": {
          "base_uri": "https://localhost:8080/"
        },
        "id": "xoj398IYOT4Z",
        "outputId": "0c269afc-6d5c-4214-bb8e-888e8487337b"
      },
      "outputs": [
        {
          "name": "stdout",
          "output_type": "stream",
          "text": [
            "1: 乙、實體方面：一、訊據被告固坦承於上開時、地，透過共犯林清水之介紹，先至泰國辦理與共犯陳玉婉之結婚手續，再前往臺南縣永康市戶政事務所辦理結婚登記，又前往臺南縣政府警察局外事課辦理共犯陳玉婉之外僑居留證及申請居留證延期之事實，惟矢口否認有何行使使公務員登載不實文書情事，於本院審理時辯稱：伊當時經濟狀況良好，因同居女友欲去日本工作而不願結婚，然伊希望結婚生子，遂透過共犯林清水之介紹與安排，共犯林清水先讓伊看過共犯陳玉婉之照片，伊再前往泰國與共犯陳玉婉結婚，伊僅負擔自己的來回機票錢及泰國住宿費用，其他結婚費用均由共犯林清水負擔，伊則贈送伊的一部機車予共犯林清水以為回報，伊並不認識共犯詹巧薇云云\n",
            "2: 迨共犯陳玉婉來臺後，為取得居留身分，被告與共犯陳玉婉於同年6月14日及94年5月5日，均持前開戶籍謄本等資料，先後向臺南縣政府警察局外事課申請核發共犯陳玉婉之外僑居留證及申請居留證延期等情，業據被告供承在卷，並有結婚登記申請書、授權書各1份、結婚登記書、結婚證書各1份（含中文、泰文影本及我國駐泰國臺北經濟文化辦事處認證之資料）、93年6月14日及94年5月5日之外國人居留停留案件聲請表各1份、被告及共犯陳玉婉之入出國日期紀錄各1份、共犯陳玉婉之外僑居留資料查詢1份在卷可按（見警三卷即南市警一刑偵字第0994101517號卷第6至24、33頁）\n",
            "3: 上開事實，首堪認定\n",
            "4: 理由甲、程序方面：一、本件以下所引用具傳聞證據性質之供述證據，因本件被告陳泰龍、檢察官等人於本院準備程序進行時，均未爭執前開陳述之證據能力，且迄至本案言詞辯論終結前亦均未聲明異議，應視為已同意援引作為證據，又本院審酌前開證據作成時之情況及證據取得過程等節，並無非出於任意性、不正取供或其他違法不當情事，且客觀上亦無顯不可信之情況，堪認為適當，是依刑事訴訟法第159條之5規定，均有證據能力\n",
            "5: 二、卷附之被告及陳玉婉入出國日期紀錄各1份等書證，均非屬供述證據，皆無傳聞法則之適用，復均無違反法定程序取得之情形，依刑事訴訟法第158條之4規定之反面解釋，均應有證據能力\n",
            "6: 一、陳泰龍明知其與泰國籍女子陳玉婉（泰國名字為JARUWANWONGPRATOOM，陳玉婉涉嫌本案偽造文書部分，另經臺灣臺南地方法院檢察署檢察官通緝中）間並無結婚之真意，然因詹巧薇、張晉源等人欲找臺灣男子前往泰國與泰國女子辦理假結婚，林清水負責介紹臺灣男子予詹巧薇、張晉源等人以賺取新臺幣（下同）1萬元之仲介費，適陳泰龍依林清水於報紙上刊登之徵人廣告應徵時，由林清水告知泰國女子欲以假結婚之方式申請來臺居留工作，其若擔任假結婚之人頭老公，除不用負擔前往泰國之食宿、機票費用外，尚可獲取5、6萬元之報酬，迨陳泰龍應允同意後，林清水將其轉介紹予詹巧薇、張晉源等人，陳泰龍遂與林清水、詹巧薇、張晉源等人共同基於行使使公務員登載不實公文書之概括犯意聯絡，先由陳泰龍依指示於民國93年4月3日前往泰國，並於同年月7日與陳玉婉在泰國曼谷市法拉坎農區註冊辦事處登記結婚，取得上開註冊辦事處核發之結婚登記書、結婚證書等文件後，陳泰龍即行返臺，並於同年5月19日持經我國駐泰國臺北經濟文化辦事處認證之上開結婚登記書、結婚證書等資料，至臺南縣永康市（改制前稱謂，以下沿用舊制稱謂）戶政事務所填寫結婚登記申請書，申請辦理其與陳玉婉之結婚登記，因此使上開戶政事務所僅有形式審查權之承辦公務員陷於錯誤，於形式上審核後，將陳泰龍與陳玉婉於93年4月7日結婚之不實事項，登載於其職務上所掌屬公文書之戶籍登記資料內，並據以核發戶籍謄本，而足以生損害於戶政機關對於戶政管理及戶籍登記資料維護之正確性\n",
            "7: 經查：(一)被告於93年4月3日前往泰國，並於同年月7日與共犯陳玉婉在泰國曼谷市法拉坎農區註冊辦事處登記結婚，取得上開註冊辦事處核發之結婚登記書、結婚證書等文件後，被告即行返臺，並於同年5月19日持經我國駐泰國臺北經濟文化辦事處認證之上開結婚登記書、結婚證書等資料，至臺南縣永康市戶政事務所填寫結婚登記申請書，申請辦理其與共犯陳玉婉之結婚登記，並取得戶籍謄本\n",
            "8: 迨陳玉婉來臺後，為取得居留身分，再由陳泰龍、陳玉婉承前概括之犯意聯絡，於同年6月14日及94年5月5日，均持前開登載不實之戶籍謄本等資料，先後向臺南縣政府警察局外事課申請核發陳玉婉之外僑居留證及申請居留證延期而連續行使之（業經檢察官當庭補充），經承辦人員實質審查結果，均未發覺陳泰龍與陳玉婉假結婚之實情，而發給陳玉婉居留證或核准延期，各足以生損害於主管機關對外僑居留管理之正確性\n",
            "9:  二、案經臺南市警察局（現改制為臺南市政府警察局，以下沿用舊制稱謂）第一分局報告臺灣臺南地方法院檢察署檢察官偵查起訴\n",
            "10: (二)共犯詹巧薇、張晉源等人當時欲找臺灣人與泰國女子結婚，由共犯林清水於報紙上刊登徵人廣告，若應徵者符合與泰國人結婚之條件，便將應徵者介紹予共犯詹巧薇、張晉源等人，共犯林清水可從中獲取1萬元之仲介費，適被告依前開徵人廣告應徵，共犯林清水衡量其條件後告知其可至泰國結婚，其除不用負擔前往泰國之機票及食宿費用外，尚可獲取5至6萬元之報酬，被告應允同意後，共犯林清水將其介紹予詹巧薇、張晉源等人，被告即依指示前往泰國與為了來臺工作且無結婚真意的共犯陳玉婉辦理結婚事宜等情，業據共犯林清水於警詢時證稱：伊登報徵人到泰國結婚，被告看報紙來的，伊便轉介予共犯詹巧薇，由共犯詹巧薇安排後續到泰國結婚之事宜，被告除不用負擔前往泰國機票、食宿等費用，尚可獲取約5至6萬元酬勞，伊則可自共犯詹巧薇獲取約1萬元之仲介費用；伊只有將被告轉介予共犯詹巧薇，並未參與後續被告前往泰國之證照、機票、食宿等相關事宜；被告係因缺錢，為了賺取擔任人頭配偶的佣金5至6萬，並不是真的要與泰國人結婚，共犯陳玉婉係為了來臺灣工作賺錢，亦不是真的要與臺灣人結婚等語（見警三卷第2至3頁）；並於本院審理時具結證稱：當初共犯詹巧薇、張晉源等人欲找男子前往泰國結婚，伊曾刊登「男、女不限、經驗不拘」等內容之徵人廣告，被告見報應徵時，被告係因缺錢才來找伊，伊衡量被告條件後認為其只能利用結婚賺取報酬，伊才向其表示是要辦結婚，伊告知被告可安排其去泰國結婚，其不用負擔食宿及機票等費用，可實拿5至6萬元的報酬，被告同意後，伊將被告介紹予共犯詹巧薇、張晉源，共犯張晉源給付佣金1萬元予伊；伊與被告談論泰國結婚事宜時，伊與被告均不知被告之結婚對象為何人，伊亦未見過與被告結婚之泰國女子，伊僅介紹被告予共犯詹巧薇、張晉源等人，伊並未參予後續之泰國結婚、辦理結婚登記及居留申請等事情；被告曾給伊一部機車，當時被告表示要去別的地方，機車留在臺南無人使用，伊修理使用一段期間後，因再度壞掉便未再使用等語（見本院卷第68頁背面至71頁）\n",
            "--->\n",
            " 3: 李炷烽明知李運成並未同意贈與上開土地之應有部分予社團法人金門縣李氏宗親會（下稱李氏宗親會），竟於102年5月間某日，撥打電話予李運成佯稱：因系爭土地與鄰近土地所有權人界線劃分不清，故需身分證及印章辦理並解決云云，李運成不疑有他，即將身分證及印鑑章寄送李炷烽\n",
            "=======================================================\n",
            "1: 乙、實體方面：一、訊據被告固坦承於上開時、地，透過共犯林清水之介紹，先至泰國辦理與共犯陳玉婉之結婚手續，再前往臺南縣永康市戶政事務所辦理結婚登記，又前往臺南縣政府警察局外事課辦理共犯陳玉婉之外僑居留證及申請居留證延期之事實，惟矢口否認有何行使使公務員登載不實文書情事，於本院審理時辯稱：伊當時經濟狀況良好，因同居女友欲去日本工作而不願結婚，然伊希望結婚生子，遂透過共犯林清水之介紹與安排，共犯林清水先讓伊看過共犯陳玉婉之照片，伊再前往泰國與共犯陳玉婉結婚，伊僅負擔自己的來回機票錢及泰國住宿費用，其他結婚費用均由共犯林清水負擔，伊則贈送伊的一部機車予共犯林清水以為回報，伊並不認識共犯詹巧薇云云\n",
            "2: 迨共犯陳玉婉來臺後，為取得居留身分，被告與共犯陳玉婉於同年6月14日及94年5月5日，均持前開戶籍謄本等資料，先後向臺南縣政府警察局外事課申請核發共犯陳玉婉之外僑居留證及申請居留證延期等情，業據被告供承在卷，並有結婚登記申請書、授權書各1份、結婚登記書、結婚證書各1份（含中文、泰文影本及我國駐泰國臺北經濟文化辦事處認證之資料）、93年6月14日及94年5月5日之外國人居留停留案件聲請表各1份、被告及共犯陳玉婉之入出國日期紀錄各1份、共犯陳玉婉之外僑居留資料查詢1份在卷可按（見警三卷即南市警一刑偵字第0994101517號卷第6至24、33頁）\n",
            "3: 上開事實，首堪認定\n",
            "4: 理由甲、程序方面：一、本件以下所引用具傳聞證據性質之供述證據，因本件被告陳泰龍、檢察官等人於本院準備程序進行時，均未爭執前開陳述之證據能力，且迄至本案言詞辯論終結前亦均未聲明異議，應視為已同意援引作為證據，又本院審酌前開證據作成時之情況及證據取得過程等節，並無非出於任意性、不正取供或其他違法不當情事，且客觀上亦無顯不可信之情況，堪認為適當，是依刑事訴訟法第159條之5規定，均有證據能力\n",
            "5: 二、卷附之被告及陳玉婉入出國日期紀錄各1份等書證，均非屬供述證據，皆無傳聞法則之適用，復均無違反法定程序取得之情形，依刑事訴訟法第158條之4規定之反面解釋，均應有證據能力\n",
            "6: 一、陳泰龍明知其與泰國籍女子陳玉婉（泰國名字為JARUWANWONGPRATOOM，陳玉婉涉嫌本案偽造文書部分，另經臺灣臺南地方法院檢察署檢察官通緝中）間並無結婚之真意，然因詹巧薇、張晉源等人欲找臺灣男子前往泰國與泰國女子辦理假結婚，林清水負責介紹臺灣男子予詹巧薇、張晉源等人以賺取新臺幣（下同）1萬元之仲介費，適陳泰龍依林清水於報紙上刊登之徵人廣告應徵時，由林清水告知泰國女子欲以假結婚之方式申請來臺居留工作，其若擔任假結婚之人頭老公，除不用負擔前往泰國之食宿、機票費用外，尚可獲取5、6萬元之報酬，迨陳泰龍應允同意後，林清水將其轉介紹予詹巧薇、張晉源等人，陳泰龍遂與林清水、詹巧薇、張晉源等人共同基於行使使公務員登載不實公文書之概括犯意聯絡，先由陳泰龍依指示於民國93年4月3日前往泰國，並於同年月7日與陳玉婉在泰國曼谷市法拉坎農區註冊辦事處登記結婚，取得上開註冊辦事處核發之結婚登記書、結婚證書等文件後，陳泰龍即行返臺，並於同年5月19日持經我國駐泰國臺北經濟文化辦事處認證之上開結婚登記書、結婚證書等資料，至臺南縣永康市（改制前稱謂，以下沿用舊制稱謂）戶政事務所填寫結婚登記申請書，申請辦理其與陳玉婉之結婚登記，因此使上開戶政事務所僅有形式審查權之承辦公務員陷於錯誤，於形式上審核後，將陳泰龍與陳玉婉於93年4月7日結婚之不實事項，登載於其職務上所掌屬公文書之戶籍登記資料內，並據以核發戶籍謄本，而足以生損害於戶政機關對於戶政管理及戶籍登記資料維護之正確性\n",
            "7: 經查：(一)被告於93年4月3日前往泰國，並於同年月7日與共犯陳玉婉在泰國曼谷市法拉坎農區註冊辦事處登記結婚，取得上開註冊辦事處核發之結婚登記書、結婚證書等文件後，被告即行返臺，並於同年5月19日持經我國駐泰國臺北經濟文化辦事處認證之上開結婚登記書、結婚證書等資料，至臺南縣永康市戶政事務所填寫結婚登記申請書，申請辦理其與共犯陳玉婉之結婚登記，並取得戶籍謄本\n",
            "8: 迨陳玉婉來臺後，為取得居留身分，再由陳泰龍、陳玉婉承前概括之犯意聯絡，於同年6月14日及94年5月5日，均持前開登載不實之戶籍謄本等資料，先後向臺南縣政府警察局外事課申請核發陳玉婉之外僑居留證及申請居留證延期而連續行使之（業經檢察官當庭補充），經承辦人員實質審查結果，均未發覺陳泰龍與陳玉婉假結婚之實情，而發給陳玉婉居留證或核准延期，各足以生損害於主管機關對外僑居留管理之正確性\n",
            "9:  二、案經臺南市警察局（現改制為臺南市政府警察局，以下沿用舊制稱謂）第一分局報告臺灣臺南地方法院檢察署檢察官偵查起訴\n",
            "10: (二)共犯詹巧薇、張晉源等人當時欲找臺灣人與泰國女子結婚，由共犯林清水於報紙上刊登徵人廣告，若應徵者符合與泰國人結婚之條件，便將應徵者介紹予共犯詹巧薇、張晉源等人，共犯林清水可從中獲取1萬元之仲介費，適被告依前開徵人廣告應徵，共犯林清水衡量其條件後告知其可至泰國結婚，其除不用負擔前往泰國之機票及食宿費用外，尚可獲取5至6萬元之報酬，被告應允同意後，共犯林清水將其介紹予詹巧薇、張晉源等人，被告即依指示前往泰國與為了來臺工作且無結婚真意的共犯陳玉婉辦理結婚事宜等情，業據共犯林清水於警詢時證稱：伊登報徵人到泰國結婚，被告看報紙來的，伊便轉介予共犯詹巧薇，由共犯詹巧薇安排後續到泰國結婚之事宜，被告除不用負擔前往泰國機票、食宿等費用，尚可獲取約5至6萬元酬勞，伊則可自共犯詹巧薇獲取約1萬元之仲介費用；伊只有將被告轉介予共犯詹巧薇，並未參與後續被告前往泰國之證照、機票、食宿等相關事宜；被告係因缺錢，為了賺取擔任人頭配偶的佣金5至6萬，並不是真的要與泰國人結婚，共犯陳玉婉係為了來臺灣工作賺錢，亦不是真的要與臺灣人結婚等語（見警三卷第2至3頁）；並於本院審理時具結證稱：當初共犯詹巧薇、張晉源等人欲找男子前往泰國結婚，伊曾刊登「男、女不限、經驗不拘」等內容之徵人廣告，被告見報應徵時，被告係因缺錢才來找伊，伊衡量被告條件後認為其只能利用結婚賺取報酬，伊才向其表示是要辦結婚，伊告知被告可安排其去泰國結婚，其不用負擔食宿及機票等費用，可實拿5至6萬元的報酬，被告同意後，伊將被告介紹予共犯詹巧薇、張晉源，共犯張晉源給付佣金1萬元予伊；伊與被告談論泰國結婚事宜時，伊與被告均不知被告之結婚對象為何人，伊亦未見過與被告結婚之泰國女子，伊僅介紹被告予共犯詹巧薇、張晉源等人，伊並未參予後續之泰國結婚、辦理結婚登記及居留申請等事情；被告曾給伊一部機車，當時被告表示要去別的地方，機車留在臺南無人使用，伊修理使用一段期間後，因再度壞掉便未再使用等語（見本院卷第68頁背面至71頁）\n",
            "--->\n",
            " 1: 李炷烽明知李運成並未同意贈與上開土地之應有部分予社團法人金門縣李氏宗親會（下稱李氏宗親會），竟於102年5月間某日，撥打電話予李運成佯稱：因系爭土地與鄰近土地所有權人界線劃分不清，故需身分證及印章辦理並解決云云，李運成不疑有他，即將身分證及印鑑章寄送李炷烽\n",
            "2: 李炷烽即基於行使偽造私文書及使公務員登載不實之犯意，指示不知情之地政士李根遠於103年3月3日前某日，在「土地登記申請書」、「土地所有權贈與移轉契約書」、「切結書」、「不動產贈與契約」等文件上，接續盜蓋李運成之印章後，復將其中之「土地登記申請書」、「土地所有權贈與移轉契約書」、「切結書」（起訴書誤繕連同「不動產贈與契約」送件至金門縣地政局，應予更正）連同印鑑證明、契稅繳款證明及土地增值稅繳款證明等文件，於103年3月3日送件至金門縣地政局，表示李運成願贈與系爭土地之應有部分，致不知情之承辦公務員為形式審查後，將上開不實事項登載在職務上所掌之地籍簿冊等公文書內，並於103年4月7日移轉登記至李氏宗親會名下，足生損害於地政機關對於地籍管理正確性及李運成\n",
            "3: 嗣辦理完成後，李炷烽將系爭土地所有權狀及「不動產贈與契約」寄送李運成，欲使李運成接受系爭土地已贈與之事實，惟李運成心有不甘，乃提出告訴\n",
            "=======================================================\n",
            "1: 乙、實體方面：一、訊據被告固坦承於上開時、地，透過共犯林清水之介紹，先至泰國辦理與共犯陳玉婉之結婚手續，再前往臺南縣永康市戶政事務所辦理結婚登記，又前往臺南縣政府警察局外事課辦理共犯陳玉婉之外僑居留證及申請居留證延期之事實，惟矢口否認有何行使使公務員登載不實文書情事，於本院審理時辯稱：伊當時經濟狀況良好，因同居女友欲去日本工作而不願結婚，然伊希望結婚生子，遂透過共犯林清水之介紹與安排，共犯林清水先讓伊看過共犯陳玉婉之照片，伊再前往泰國與共犯陳玉婉結婚，伊僅負擔自己的來回機票錢及泰國住宿費用，其他結婚費用均由共犯林清水負擔，伊則贈送伊的一部機車予共犯林清水以為回報，伊並不認識共犯詹巧薇云云\n",
            "2: 迨共犯陳玉婉來臺後，為取得居留身分，被告與共犯陳玉婉於同年6月14日及94年5月5日，均持前開戶籍謄本等資料，先後向臺南縣政府警察局外事課申請核發共犯陳玉婉之外僑居留證及申請居留證延期等情，業據被告供承在卷，並有結婚登記申請書、授權書各1份、結婚登記書、結婚證書各1份（含中文、泰文影本及我國駐泰國臺北經濟文化辦事處認證之資料）、93年6月14日及94年5月5日之外國人居留停留案件聲請表各1份、被告及共犯陳玉婉之入出國日期紀錄各1份、共犯陳玉婉之外僑居留資料查詢1份在卷可按（見警三卷即南市警一刑偵字第0994101517號卷第6至24、33頁）\n",
            "3: 上開事實，首堪認定\n",
            "4: 理由甲、程序方面：一、本件以下所引用具傳聞證據性質之供述證據，因本件被告陳泰龍、檢察官等人於本院準備程序進行時，均未爭執前開陳述之證據能力，且迄至本案言詞辯論終結前亦均未聲明異議，應視為已同意援引作為證據，又本院審酌前開證據作成時之情況及證據取得過程等節，並無非出於任意性、不正取供或其他違法不當情事，且客觀上亦無顯不可信之情況，堪認為適當，是依刑事訴訟法第159條之5規定，均有證據能力\n",
            "5: 二、卷附之被告及陳玉婉入出國日期紀錄各1份等書證，均非屬供述證據，皆無傳聞法則之適用，復均無違反法定程序取得之情形，依刑事訴訟法第158條之4規定之反面解釋，均應有證據能力\n",
            "6: 一、陳泰龍明知其與泰國籍女子陳玉婉（泰國名字為JARUWANWONGPRATOOM，陳玉婉涉嫌本案偽造文書部分，另經臺灣臺南地方法院檢察署檢察官通緝中）間並無結婚之真意，然因詹巧薇、張晉源等人欲找臺灣男子前往泰國與泰國女子辦理假結婚，林清水負責介紹臺灣男子予詹巧薇、張晉源等人以賺取新臺幣（下同）1萬元之仲介費，適陳泰龍依林清水於報紙上刊登之徵人廣告應徵時，由林清水告知泰國女子欲以假結婚之方式申請來臺居留工作，其若擔任假結婚之人頭老公，除不用負擔前往泰國之食宿、機票費用外，尚可獲取5、6萬元之報酬，迨陳泰龍應允同意後，林清水將其轉介紹予詹巧薇、張晉源等人，陳泰龍遂與林清水、詹巧薇、張晉源等人共同基於行使使公務員登載不實公文書之概括犯意聯絡，先由陳泰龍依指示於民國93年4月3日前往泰國，並於同年月7日與陳玉婉在泰國曼谷市法拉坎農區註冊辦事處登記結婚，取得上開註冊辦事處核發之結婚登記書、結婚證書等文件後，陳泰龍即行返臺，並於同年5月19日持經我國駐泰國臺北經濟文化辦事處認證之上開結婚登記書、結婚證書等資料，至臺南縣永康市（改制前稱謂，以下沿用舊制稱謂）戶政事務所填寫結婚登記申請書，申請辦理其與陳玉婉之結婚登記，因此使上開戶政事務所僅有形式審查權之承辦公務員陷於錯誤，於形式上審核後，將陳泰龍與陳玉婉於93年4月7日結婚之不實事項，登載於其職務上所掌屬公文書之戶籍登記資料內，並據以核發戶籍謄本，而足以生損害於戶政機關對於戶政管理及戶籍登記資料維護之正確性\n",
            "7: 經查：(一)被告於93年4月3日前往泰國，並於同年月7日與共犯陳玉婉在泰國曼谷市法拉坎農區註冊辦事處登記結婚，取得上開註冊辦事處核發之結婚登記書、結婚證書等文件後，被告即行返臺，並於同年5月19日持經我國駐泰國臺北經濟文化辦事處認證之上開結婚登記書、結婚證書等資料，至臺南縣永康市戶政事務所填寫結婚登記申請書，申請辦理其與共犯陳玉婉之結婚登記，並取得戶籍謄本\n",
            "8: 迨陳玉婉來臺後，為取得居留身分，再由陳泰龍、陳玉婉承前概括之犯意聯絡，於同年6月14日及94年5月5日，均持前開登載不實之戶籍謄本等資料，先後向臺南縣政府警察局外事課申請核發陳玉婉之外僑居留證及申請居留證延期而連續行使之（業經檢察官當庭補充），經承辦人員實質審查結果，均未發覺陳泰龍與陳玉婉假結婚之實情，而發給陳玉婉居留證或核准延期，各足以生損害於主管機關對外僑居留管理之正確性\n",
            "9:  二、案經臺南市警察局（現改制為臺南市政府警察局，以下沿用舊制稱謂）第一分局報告臺灣臺南地方法院檢察署檢察官偵查起訴\n",
            "10: (二)共犯詹巧薇、張晉源等人當時欲找臺灣人與泰國女子結婚，由共犯林清水於報紙上刊登徵人廣告，若應徵者符合與泰國人結婚之條件，便將應徵者介紹予共犯詹巧薇、張晉源等人，共犯林清水可從中獲取1萬元之仲介費，適被告依前開徵人廣告應徵，共犯林清水衡量其條件後告知其可至泰國結婚，其除不用負擔前往泰國之機票及食宿費用外，尚可獲取5至6萬元之報酬，被告應允同意後，共犯林清水將其介紹予詹巧薇、張晉源等人，被告即依指示前往泰國與為了來臺工作且無結婚真意的共犯陳玉婉辦理結婚事宜等情，業據共犯林清水於警詢時證稱：伊登報徵人到泰國結婚，被告看報紙來的，伊便轉介予共犯詹巧薇，由共犯詹巧薇安排後續到泰國結婚之事宜，被告除不用負擔前往泰國機票、食宿等費用，尚可獲取約5至6萬元酬勞，伊則可自共犯詹巧薇獲取約1萬元之仲介費用；伊只有將被告轉介予共犯詹巧薇，並未參與後續被告前往泰國之證照、機票、食宿等相關事宜；被告係因缺錢，為了賺取擔任人頭配偶的佣金5至6萬，並不是真的要與泰國人結婚，共犯陳玉婉係為了來臺灣工作賺錢，亦不是真的要與臺灣人結婚等語（見警三卷第2至3頁）；並於本院審理時具結證稱：當初共犯詹巧薇、張晉源等人欲找男子前往泰國結婚，伊曾刊登「男、女不限、經驗不拘」等內容之徵人廣告，被告見報應徵時，被告係因缺錢才來找伊，伊衡量被告條件後認為其只能利用結婚賺取報酬，伊才向其表示是要辦結婚，伊告知被告可安排其去泰國結婚，其不用負擔食宿及機票等費用，可實拿5至6萬元的報酬，被告同意後，伊將被告介紹予共犯詹巧薇、張晉源，共犯張晉源給付佣金1萬元予伊；伊與被告談論泰國結婚事宜時，伊與被告均不知被告之結婚對象為何人，伊亦未見過與被告結婚之泰國女子，伊僅介紹被告予共犯詹巧薇、張晉源等人，伊並未參予後續之泰國結婚、辦理結婚登記及居留申請等事情；被告曾給伊一部機車，當時被告表示要去別的地方，機車留在臺南無人使用，伊修理使用一段期間後，因再度壞掉便未再使用等語（見本院卷第68頁背面至71頁）\n",
            "--->\n",
            " 1: 李炷烽明知李運成並未同意贈與上開土地之應有部分予社團法人金門縣李氏宗親會（下稱李氏宗親會），竟於102年5月間某日，撥打電話予李運成佯稱：因系爭土地與鄰近土地所有權人界線劃分不清，故需身分證及印章辦理並解決云云，李運成不疑有他，即將身分證及印鑑章寄送李炷烽\n",
            "2: 李炷烽即基於行使偽造私文書及使公務員登載不實之犯意，指示不知情之地政士李根遠於103年3月3日前某日，在「土地登記申請書」、「土地所有權贈與移轉契約書」、「切結書」、「不動產贈與契約」等文件上，接續盜蓋李運成之印章後，復將其中之「土地登記申請書」、「土地所有權贈與移轉契約書」、「切結書」（起訴書誤繕連同「不動產贈與契約」送件至金門縣地政局，應予更正）連同印鑑證明、契稅繳款證明及土地增值稅繳款證明等文件，於103年3月3日送件至金門縣地政局，表示李運成願贈與系爭土地之應有部分，致不知情之承辦公務員為形式審查後，將上開不實事項登載在職務上所掌之地籍簿冊等公文書內，並於103年4月7日移轉登記至李氏宗親會名下，足生損害於地政機關對於地籍管理正確性及李運成\n",
            "3: 嗣辦理完成後，李炷烽將系爭土地所有權狀及「不動產贈與契約」寄送李運成，欲使李運成接受系爭土地已贈與之事實，惟李運成心有不甘，乃提出告訴\n",
            "=======================================================\n"
          ]
        }
      ],
      "source": [
        "print(prompt1)\n",
        "print(\"--->\")\n",
        "print(get_breeze(query+prompt1))\n",
        "print(\"=======================================================\")\n",
        "print(prompt1)\n",
        "print(\"--->\")\n",
        "print(get_breeze(query+prompt2))\n",
        "print(\"=======================================================\")\n",
        "print(prompt1)\n",
        "print(\"--->\")\n",
        "print(get_breeze(query+prompt3))\n",
        "print(\"=======================================================\")"
      ]
    },
    {
      "cell_type": "code",
      "execution_count": null,
      "metadata": {
        "id": "DceOPC79Oj1W"
      },
      "outputs": [],
      "source": [
        "query = \"以下句子都是來自一篇法律判決書，請從這些句子中挑選出和犯罪事實情節描述最相關的三個句子。以下是一個萃取句子的範例：多個句子輸入\"+input_ex+\" 萃取出和犯罪事實情節描述最相關的三個句子輸出：\"+output_ex+\"\\n根據以上的範例，從以下句子中萃取出和犯罪事實情節描述最相關的三個句子，句子如下：\""
      ]
    },
    {
      "cell_type": "code",
      "execution_count": null,
      "metadata": {
        "id": "1zmnKE-BOlHg"
      },
      "outputs": [],
      "source": [
        "print(prompt1)\n",
        "print(\"--->\")\n",
        "print(get_breeze(query+prompt1))\n",
        "print(\"=======================================================\")\n",
        "print(prompt1)\n",
        "print(\"--->\")\n",
        "print(get_breeze(query+prompt2))\n",
        "print(\"=======================================================\")\n",
        "print(prompt1)\n",
        "print(\"--->\")\n",
        "print(get_breeze(query+prompt3))\n",
        "print(\"=======================================================\")"
      ]
    },
    {
      "cell_type": "code",
      "execution_count": null,
      "metadata": {
        "colab": {
          "base_uri": "https://localhost:8080/"
        },
        "id": "Vv54wKxXO6s_",
        "outputId": "45f2f4da-d519-41de-c2e1-dba8f5de6d2f"
      },
      "outputs": [
        {
          "data": {
            "text/plain": [
              "4423"
            ]
          },
          "execution_count": 117,
          "metadata": {},
          "output_type": "execute_result"
        }
      ],
      "source": [
        "len(query+prompt1)"
      ]
    },
    {
      "cell_type": "code",
      "execution_count": null,
      "metadata": {
        "id": "Waav4134PCUD"
      },
      "outputs": [],
      "source": [
        "query = \"我會給你來自一篇法律判決書的多個句子，請從這些句子中挑選出和犯罪事實情節描述最相關的三個句子。以下是一個萃取句子的範例：多個句子輸入\"+input_ex+\" 萃取出和犯罪事實情節描述最相關的三個句子輸出：\"+output_ex+\"\\n根據以上的範例，從以下句子中萃取出和犯罪事實情節描述最相關的三個句子，句子如下：\""
      ]
    },
    {
      "cell_type": "code",
      "execution_count": null,
      "metadata": {
        "colab": {
          "base_uri": "https://localhost:8080/"
        },
        "id": "r7oDN0QqPKvS",
        "outputId": "7642c838-4548-444b-8ec2-56d2bcb6a728"
      },
      "outputs": [
        {
          "name": "stdout",
          "output_type": "stream",
          "text": [
            "1: 乙、實體方面：一、訊據被告固坦承於上開時、地，透過共犯林清水之介紹，先至泰國辦理與共犯陳玉婉之結婚手續，再前往臺南縣永康市戶政事務所辦理結婚登記，又前往臺南縣政府警察局外事課辦理共犯陳玉婉之外僑居留證及申請居留證延期之事實，惟矢口否認有何行使使公務員登載不實文書情事，於本院審理時辯稱：伊當時經濟狀況良好，因同居女友欲去日本工作而不願結婚，然伊希望結婚生子，遂透過共犯林清水之介紹與安排，共犯林清水先讓伊看過共犯陳玉婉之照片，伊再前往泰國與共犯陳玉婉結婚，伊僅負擔自己的來回機票錢及泰國住宿費用，其他結婚費用均由共犯林清水負擔，伊則贈送伊的一部機車予共犯林清水以為回報，伊並不認識共犯詹巧薇云云\n",
            "2: 迨共犯陳玉婉來臺後，為取得居留身分，被告與共犯陳玉婉於同年6月14日及94年5月5日，均持前開戶籍謄本等資料，先後向臺南縣政府警察局外事課申請核發共犯陳玉婉之外僑居留證及申請居留證延期等情，業據被告供承在卷，並有結婚登記申請書、授權書各1份、結婚登記書、結婚證書各1份（含中文、泰文影本及我國駐泰國臺北經濟文化辦事處認證之資料）、93年6月14日及94年5月5日之外國人居留停留案件聲請表各1份、被告及共犯陳玉婉之入出國日期紀錄各1份、共犯陳玉婉之外僑居留資料查詢1份在卷可按（見警三卷即南市警一刑偵字第0994101517號卷第6至24、33頁）\n",
            "3: 上開事實，首堪認定\n",
            "4: 理由甲、程序方面：一、本件以下所引用具傳聞證據性質之供述證據，因本件被告陳泰龍、檢察官等人於本院準備程序進行時，均未爭執前開陳述之證據能力，且迄至本案言詞辯論終結前亦均未聲明異議，應視為已同意援引作為證據，又本院審酌前開證據作成時之情況及證據取得過程等節，並無非出於任意性、不正取供或其他違法不當情事，且客觀上亦無顯不可信之情況，堪認為適當，是依刑事訴訟法第159條之5規定，均有證據能力\n",
            "5: 二、卷附之被告及陳玉婉入出國日期紀錄各1份等書證，均非屬供述證據，皆無傳聞法則之適用，復均無違反法定程序取得之情形，依刑事訴訟法第158條之4規定之反面解釋，均應有證據能力\n",
            "6: 一、陳泰龍明知其與泰國籍女子陳玉婉（泰國名字為JARUWANWONGPRATOOM，陳玉婉涉嫌本案偽造文書部分，另經臺灣臺南地方法院檢察署檢察官通緝中）間並無結婚之真意，然因詹巧薇、張晉源等人欲找臺灣男子前往泰國與泰國女子辦理假結婚，林清水負責介紹臺灣男子予詹巧薇、張晉源等人以賺取新臺幣（下同）1萬元之仲介費，適陳泰龍依林清水於報紙上刊登之徵人廣告應徵時，由林清水告知泰國女子欲以假結婚之方式申請來臺居留工作，其若擔任假結婚之人頭老公，除不用負擔前往泰國之食宿、機票費用外，尚可獲取5、6萬元之報酬，迨陳泰龍應允同意後，林清水將其轉介紹予詹巧薇、張晉源等人，陳泰龍遂與林清水、詹巧薇、張晉源等人共同基於行使使公務員登載不實公文書之概括犯意聯絡，先由陳泰龍依指示於民國93年4月3日前往泰國，並於同年月7日與陳玉婉在泰國曼谷市法拉坎農區註冊辦事處登記結婚，取得上開註冊辦事處核發之結婚登記書、結婚證書等文件後，陳泰龍即行返臺，並於同年5月19日持經我國駐泰國臺北經濟文化辦事處認證之上開結婚登記書、結婚證書等資料，至臺南縣永康市（改制前稱謂，以下沿用舊制稱謂）戶政事務所填寫結婚登記申請書，申請辦理其與陳玉婉之結婚登記，因此使上開戶政事務所僅有形式審查權之承辦公務員陷於錯誤，於形式上審核後，將陳泰龍與陳玉婉於93年4月7日結婚之不實事項，登載於其職務上所掌屬公文書之戶籍登記資料內，並據以核發戶籍謄本，而足以生損害於戶政機關對於戶政管理及戶籍登記資料維護之正確性\n",
            "7: 經查：(一)被告於93年4月3日前往泰國，並於同年月7日與共犯陳玉婉在泰國曼谷市法拉坎農區註冊辦事處登記結婚，取得上開註冊辦事處核發之結婚登記書、結婚證書等文件後，被告即行返臺，並於同年5月19日持經我國駐泰國臺北經濟文化辦事處認證之上開結婚登記書、結婚證書等資料，至臺南縣永康市戶政事務所填寫結婚登記申請書，申請辦理其與共犯陳玉婉之結婚登記，並取得戶籍謄本\n",
            "8: 迨陳玉婉來臺後，為取得居留身分，再由陳泰龍、陳玉婉承前概括之犯意聯絡，於同年6月14日及94年5月5日，均持前開登載不實之戶籍謄本等資料，先後向臺南縣政府警察局外事課申請核發陳玉婉之外僑居留證及申請居留證延期而連續行使之（業經檢察官當庭補充），經承辦人員實質審查結果，均未發覺陳泰龍與陳玉婉假結婚之實情，而發給陳玉婉居留證或核准延期，各足以生損害於主管機關對外僑居留管理之正確性\n",
            "9:  二、案經臺南市警察局（現改制為臺南市政府警察局，以下沿用舊制稱謂）第一分局報告臺灣臺南地方法院檢察署檢察官偵查起訴\n",
            "10: (二)共犯詹巧薇、張晉源等人當時欲找臺灣人與泰國女子結婚，由共犯林清水於報紙上刊登徵人廣告，若應徵者符合與泰國人結婚之條件，便將應徵者介紹予共犯詹巧薇、張晉源等人，共犯林清水可從中獲取1萬元之仲介費，適被告依前開徵人廣告應徵，共犯林清水衡量其條件後告知其可至泰國結婚，其除不用負擔前往泰國之機票及食宿費用外，尚可獲取5至6萬元之報酬，被告應允同意後，共犯林清水將其介紹予詹巧薇、張晉源等人，被告即依指示前往泰國與為了來臺工作且無結婚真意的共犯陳玉婉辦理結婚事宜等情，業據共犯林清水於警詢時證稱：伊登報徵人到泰國結婚，被告看報紙來的，伊便轉介予共犯詹巧薇，由共犯詹巧薇安排後續到泰國結婚之事宜，被告除不用負擔前往泰國機票、食宿等費用，尚可獲取約5至6萬元酬勞，伊則可自共犯詹巧薇獲取約1萬元之仲介費用；伊只有將被告轉介予共犯詹巧薇，並未參與後續被告前往泰國之證照、機票、食宿等相關事宜；被告係因缺錢，為了賺取擔任人頭配偶的佣金5至6萬，並不是真的要與泰國人結婚，共犯陳玉婉係為了來臺灣工作賺錢，亦不是真的要與臺灣人結婚等語（見警三卷第2至3頁）；並於本院審理時具結證稱：當初共犯詹巧薇、張晉源等人欲找男子前往泰國結婚，伊曾刊登「男、女不限、經驗不拘」等內容之徵人廣告，被告見報應徵時，被告係因缺錢才來找伊，伊衡量被告條件後認為其只能利用結婚賺取報酬，伊才向其表示是要辦結婚，伊告知被告可安排其去泰國結婚，其不用負擔食宿及機票等費用，可實拿5至6萬元的報酬，被告同意後，伊將被告介紹予共犯詹巧薇、張晉源，共犯張晉源給付佣金1萬元予伊；伊與被告談論泰國結婚事宜時，伊與被告均不知被告之結婚對象為何人，伊亦未見過與被告結婚之泰國女子，伊僅介紹被告予共犯詹巧薇、張晉源等人，伊並未參予後續之泰國結婚、辦理結婚登記及居留申請等事情；被告曾給伊一部機車，當時被告表示要去別的地方，機車留在臺南無人使用，伊修理使用一段期間後，因再度壞掉便未再使用等語（見本院卷第68頁背面至71頁）\n",
            "--->\n",
            " 1: 李炷烽明知李運成並未同意贈與上開土地之應有部分予社團法人金門縣李氏宗親會（下稱李氏宗親會），竟於102年5月間某日，撥打電話予李運成佯稱：因系爭土地與鄰近土地所有權人界線劃分不清，故需身分證及印章辦理並解決云云，李運成不疑有他，即將身分證及印鑑章寄送李炷烽\n",
            "2: 李炷烽即基於行使偽造私文書及使公務員登載不實之犯意，指示不知情之地政士李根遠於103年3月3日前某日，在「土地登記申請書」、「土地所有權贈與移轉契約書」、「切結書」、「不動產贈與契約」等文件上，接續盜蓋李運成之印章後，復將其中之「土地登記申請書」、「土地所有權贈與移轉契約書」、「切結書」（起訴書誤繕連同「不動產贈與契約」送件至金門縣地政局，應予更正）連同印鑑證明、契稅繳款證明及土地增值稅繳款證明等文件，於103年3月3日送件至金門縣地政局，表示李運成願贈與系爭土地之應有部分，致不知情之承辦公務員為形式審查後，將上開不實事項登載在職務上所掌之地籍簿冊等公文書內，並於103年4月7日移轉登記至李氏宗親會名下，足生損害於地政機關對於地籍管理正確性及李運成\n",
            "3: 嗣辦理完成後，李炷烽將系爭土地所有權狀及「不動產贈與契約」寄送李運成，欲使李運成接受系爭土地已贈與之事實，惟李運成心有不甘，乃提出告訴\n",
            "=======================================================\n",
            "1: 乙、實體方面：一、訊據被告固坦承於上開時、地，透過共犯林清水之介紹，先至泰國辦理與共犯陳玉婉之結婚手續，再前往臺南縣永康市戶政事務所辦理結婚登記，又前往臺南縣政府警察局外事課辦理共犯陳玉婉之外僑居留證及申請居留證延期之事實，惟矢口否認有何行使使公務員登載不實文書情事，於本院審理時辯稱：伊當時經濟狀況良好，因同居女友欲去日本工作而不願結婚，然伊希望結婚生子，遂透過共犯林清水之介紹與安排，共犯林清水先讓伊看過共犯陳玉婉之照片，伊再前往泰國與共犯陳玉婉結婚，伊僅負擔自己的來回機票錢及泰國住宿費用，其他結婚費用均由共犯林清水負擔，伊則贈送伊的一部機車予共犯林清水以為回報，伊並不認識共犯詹巧薇云云\n",
            "2: 迨共犯陳玉婉來臺後，為取得居留身分，被告與共犯陳玉婉於同年6月14日及94年5月5日，均持前開戶籍謄本等資料，先後向臺南縣政府警察局外事課申請核發共犯陳玉婉之外僑居留證及申請居留證延期等情，業據被告供承在卷，並有結婚登記申請書、授權書各1份、結婚登記書、結婚證書各1份（含中文、泰文影本及我國駐泰國臺北經濟文化辦事處認證之資料）、93年6月14日及94年5月5日之外國人居留停留案件聲請表各1份、被告及共犯陳玉婉之入出國日期紀錄各1份、共犯陳玉婉之外僑居留資料查詢1份在卷可按（見警三卷即南市警一刑偵字第0994101517號卷第6至24、33頁）\n",
            "3: 上開事實，首堪認定\n",
            "4: 理由甲、程序方面：一、本件以下所引用具傳聞證據性質之供述證據，因本件被告陳泰龍、檢察官等人於本院準備程序進行時，均未爭執前開陳述之證據能力，且迄至本案言詞辯論終結前亦均未聲明異議，應視為已同意援引作為證據，又本院審酌前開證據作成時之情況及證據取得過程等節，並無非出於任意性、不正取供或其他違法不當情事，且客觀上亦無顯不可信之情況，堪認為適當，是依刑事訴訟法第159條之5規定，均有證據能力\n",
            "5: 二、卷附之被告及陳玉婉入出國日期紀錄各1份等書證，均非屬供述證據，皆無傳聞法則之適用，復均無違反法定程序取得之情形，依刑事訴訟法第158條之4規定之反面解釋，均應有證據能力\n",
            "6: 一、陳泰龍明知其與泰國籍女子陳玉婉（泰國名字為JARUWANWONGPRATOOM，陳玉婉涉嫌本案偽造文書部分，另經臺灣臺南地方法院檢察署檢察官通緝中）間並無結婚之真意，然因詹巧薇、張晉源等人欲找臺灣男子前往泰國與泰國女子辦理假結婚，林清水負責介紹臺灣男子予詹巧薇、張晉源等人以賺取新臺幣（下同）1萬元之仲介費，適陳泰龍依林清水於報紙上刊登之徵人廣告應徵時，由林清水告知泰國女子欲以假結婚之方式申請來臺居留工作，其若擔任假結婚之人頭老公，除不用負擔前往泰國之食宿、機票費用外，尚可獲取5、6萬元之報酬，迨陳泰龍應允同意後，林清水將其轉介紹予詹巧薇、張晉源等人，陳泰龍遂與林清水、詹巧薇、張晉源等人共同基於行使使公務員登載不實公文書之概括犯意聯絡，先由陳泰龍依指示於民國93年4月3日前往泰國，並於同年月7日與陳玉婉在泰國曼谷市法拉坎農區註冊辦事處登記結婚，取得上開註冊辦事處核發之結婚登記書、結婚證書等文件後，陳泰龍即行返臺，並於同年5月19日持經我國駐泰國臺北經濟文化辦事處認證之上開結婚登記書、結婚證書等資料，至臺南縣永康市（改制前稱謂，以下沿用舊制稱謂）戶政事務所填寫結婚登記申請書，申請辦理其與陳玉婉之結婚登記，因此使上開戶政事務所僅有形式審查權之承辦公務員陷於錯誤，於形式上審核後，將陳泰龍與陳玉婉於93年4月7日結婚之不實事項，登載於其職務上所掌屬公文書之戶籍登記資料內，並據以核發戶籍謄本，而足以生損害於戶政機關對於戶政管理及戶籍登記資料維護之正確性\n",
            "7: 經查：(一)被告於93年4月3日前往泰國，並於同年月7日與共犯陳玉婉在泰國曼谷市法拉坎農區註冊辦事處登記結婚，取得上開註冊辦事處核發之結婚登記書、結婚證書等文件後，被告即行返臺，並於同年5月19日持經我國駐泰國臺北經濟文化辦事處認證之上開結婚登記書、結婚證書等資料，至臺南縣永康市戶政事務所填寫結婚登記申請書，申請辦理其與共犯陳玉婉之結婚登記，並取得戶籍謄本\n",
            "8: 迨陳玉婉來臺後，為取得居留身分，再由陳泰龍、陳玉婉承前概括之犯意聯絡，於同年6月14日及94年5月5日，均持前開登載不實之戶籍謄本等資料，先後向臺南縣政府警察局外事課申請核發陳玉婉之外僑居留證及申請居留證延期而連續行使之（業經檢察官當庭補充），經承辦人員實質審查結果，均未發覺陳泰龍與陳玉婉假結婚之實情，而發給陳玉婉居留證或核准延期，各足以生損害於主管機關對外僑居留管理之正確性\n",
            "9:  二、案經臺南市警察局（現改制為臺南市政府警察局，以下沿用舊制稱謂）第一分局報告臺灣臺南地方法院檢察署檢察官偵查起訴\n",
            "10: (二)共犯詹巧薇、張晉源等人當時欲找臺灣人與泰國女子結婚，由共犯林清水於報紙上刊登徵人廣告，若應徵者符合與泰國人結婚之條件，便將應徵者介紹予共犯詹巧薇、張晉源等人，共犯林清水可從中獲取1萬元之仲介費，適被告依前開徵人廣告應徵，共犯林清水衡量其條件後告知其可至泰國結婚，其除不用負擔前往泰國之機票及食宿費用外，尚可獲取5至6萬元之報酬，被告應允同意後，共犯林清水將其介紹予詹巧薇、張晉源等人，被告即依指示前往泰國與為了來臺工作且無結婚真意的共犯陳玉婉辦理結婚事宜等情，業據共犯林清水於警詢時證稱：伊登報徵人到泰國結婚，被告看報紙來的，伊便轉介予共犯詹巧薇，由共犯詹巧薇安排後續到泰國結婚之事宜，被告除不用負擔前往泰國機票、食宿等費用，尚可獲取約5至6萬元酬勞，伊則可自共犯詹巧薇獲取約1萬元之仲介費用；伊只有將被告轉介予共犯詹巧薇，並未參與後續被告前往泰國之證照、機票、食宿等相關事宜；被告係因缺錢，為了賺取擔任人頭配偶的佣金5至6萬，並不是真的要與泰國人結婚，共犯陳玉婉係為了來臺灣工作賺錢，亦不是真的要與臺灣人結婚等語（見警三卷第2至3頁）；並於本院審理時具結證稱：當初共犯詹巧薇、張晉源等人欲找男子前往泰國結婚，伊曾刊登「男、女不限、經驗不拘」等內容之徵人廣告，被告見報應徵時，被告係因缺錢才來找伊，伊衡量被告條件後認為其只能利用結婚賺取報酬，伊才向其表示是要辦結婚，伊告知被告可安排其去泰國結婚，其不用負擔食宿及機票等費用，可實拿5至6萬元的報酬，被告同意後，伊將被告介紹予共犯詹巧薇、張晉源，共犯張晉源給付佣金1萬元予伊；伊與被告談論泰國結婚事宜時，伊與被告均不知被告之結婚對象為何人，伊亦未見過與被告結婚之泰國女子，伊僅介紹被告予共犯詹巧薇、張晉源等人，伊並未參予後續之泰國結婚、辦理結婚登記及居留申請等事情；被告曾給伊一部機車，當時被告表示要去別的地方，機車留在臺南無人使用，伊修理使用一段期間後，因再度壞掉便未再使用等語（見本院卷第68頁背面至71頁）\n",
            "--->\n",
            " 1: 李炷烽明知李運成並未同意贈與上開土地之應有部分予社團法人金門縣李氏宗親會（下稱李氏宗親會），竟於102年5月間某日，撥打電話予李運成佯稱：因系爭土地與鄰近土地所有權人界線劃分不清，故需身分證及印章辦理並解決云云，李運成不疑有他，即將身分證及印鑑章寄送李炷烽\n",
            "2: 李炷烽即基於行使偽造私文書及使公務員登載不實之犯意，指示不知情之地政士李根遠於103年3月3日前某日，在「土地登記申請書」、「土地所有權贈與移轉契約書」、「切結書」、「不動產贈與契約」等文件上，接續盜蓋李運成之印章後，復將其中之「土地登記申請書」、「土地所有權贈與移轉契約書」、「切結書」（起訴書誤繕連同「不動產贈與契約」送件至金門縣地政局，應予更正）連同印鑑證明、契稅繳款證明及土地增值稅繳款證明等文件，於103年3月3日送件至金門縣地政局，表示李運成願贈與系爭土地之應有部分，致不知情之承辦公務員為形式審查後，將上開不實事項登載在職務上所掌之地籍簿冊等公文書內，並於103年4月7日移轉登記至李氏宗親會名下，足生損害於地政機關對於地籍管理正確性及李運成\n",
            "3: 嗣辦理完成後，李炷烽將系爭土地所有權狀及「不動產贈與契約」寄送李運成，欲使李運成接受系爭土地已贈與之事實，惟李運成心有不甘，乃提出告訴\n",
            "=======================================================\n",
            "1: 乙、實體方面：一、訊據被告固坦承於上開時、地，透過共犯林清水之介紹，先至泰國辦理與共犯陳玉婉之結婚手續，再前往臺南縣永康市戶政事務所辦理結婚登記，又前往臺南縣政府警察局外事課辦理共犯陳玉婉之外僑居留證及申請居留證延期之事實，惟矢口否認有何行使使公務員登載不實文書情事，於本院審理時辯稱：伊當時經濟狀況良好，因同居女友欲去日本工作而不願結婚，然伊希望結婚生子，遂透過共犯林清水之介紹與安排，共犯林清水先讓伊看過共犯陳玉婉之照片，伊再前往泰國與共犯陳玉婉結婚，伊僅負擔自己的來回機票錢及泰國住宿費用，其他結婚費用均由共犯林清水負擔，伊則贈送伊的一部機車予共犯林清水以為回報，伊並不認識共犯詹巧薇云云\n",
            "2: 迨共犯陳玉婉來臺後，為取得居留身分，被告與共犯陳玉婉於同年6月14日及94年5月5日，均持前開戶籍謄本等資料，先後向臺南縣政府警察局外事課申請核發共犯陳玉婉之外僑居留證及申請居留證延期等情，業據被告供承在卷，並有結婚登記申請書、授權書各1份、結婚登記書、結婚證書各1份（含中文、泰文影本及我國駐泰國臺北經濟文化辦事處認證之資料）、93年6月14日及94年5月5日之外國人居留停留案件聲請表各1份、被告及共犯陳玉婉之入出國日期紀錄各1份、共犯陳玉婉之外僑居留資料查詢1份在卷可按（見警三卷即南市警一刑偵字第0994101517號卷第6至24、33頁）\n",
            "3: 上開事實，首堪認定\n",
            "4: 理由甲、程序方面：一、本件以下所引用具傳聞證據性質之供述證據，因本件被告陳泰龍、檢察官等人於本院準備程序進行時，均未爭執前開陳述之證據能力，且迄至本案言詞辯論終結前亦均未聲明異議，應視為已同意援引作為證據，又本院審酌前開證據作成時之情況及證據取得過程等節，並無非出於任意性、不正取供或其他違法不當情事，且客觀上亦無顯不可信之情況，堪認為適當，是依刑事訴訟法第159條之5規定，均有證據能力\n",
            "5: 二、卷附之被告及陳玉婉入出國日期紀錄各1份等書證，均非屬供述證據，皆無傳聞法則之適用，復均無違反法定程序取得之情形，依刑事訴訟法第158條之4規定之反面解釋，均應有證據能力\n",
            "6: 一、陳泰龍明知其與泰國籍女子陳玉婉（泰國名字為JARUWANWONGPRATOOM，陳玉婉涉嫌本案偽造文書部分，另經臺灣臺南地方法院檢察署檢察官通緝中）間並無結婚之真意，然因詹巧薇、張晉源等人欲找臺灣男子前往泰國與泰國女子辦理假結婚，林清水負責介紹臺灣男子予詹巧薇、張晉源等人以賺取新臺幣（下同）1萬元之仲介費，適陳泰龍依林清水於報紙上刊登之徵人廣告應徵時，由林清水告知泰國女子欲以假結婚之方式申請來臺居留工作，其若擔任假結婚之人頭老公，除不用負擔前往泰國之食宿、機票費用外，尚可獲取5、6萬元之報酬，迨陳泰龍應允同意後，林清水將其轉介紹予詹巧薇、張晉源等人，陳泰龍遂與林清水、詹巧薇、張晉源等人共同基於行使使公務員登載不實公文書之概括犯意聯絡，先由陳泰龍依指示於民國93年4月3日前往泰國，並於同年月7日與陳玉婉在泰國曼谷市法拉坎農區註冊辦事處登記結婚，取得上開註冊辦事處核發之結婚登記書、結婚證書等文件後，陳泰龍即行返臺，並於同年5月19日持經我國駐泰國臺北經濟文化辦事處認證之上開結婚登記書、結婚證書等資料，至臺南縣永康市（改制前稱謂，以下沿用舊制稱謂）戶政事務所填寫結婚登記申請書，申請辦理其與陳玉婉之結婚登記，因此使上開戶政事務所僅有形式審查權之承辦公務員陷於錯誤，於形式上審核後，將陳泰龍與陳玉婉於93年4月7日結婚之不實事項，登載於其職務上所掌屬公文書之戶籍登記資料內，並據以核發戶籍謄本，而足以生損害於戶政機關對於戶政管理及戶籍登記資料維護之正確性\n",
            "7: 經查：(一)被告於93年4月3日前往泰國，並於同年月7日與共犯陳玉婉在泰國曼谷市法拉坎農區註冊辦事處登記結婚，取得上開註冊辦事處核發之結婚登記書、結婚證書等文件後，被告即行返臺，並於同年5月19日持經我國駐泰國臺北經濟文化辦事處認證之上開結婚登記書、結婚證書等資料，至臺南縣永康市戶政事務所填寫結婚登記申請書，申請辦理其與共犯陳玉婉之結婚登記，並取得戶籍謄本\n",
            "8: 迨陳玉婉來臺後，為取得居留身分，再由陳泰龍、陳玉婉承前概括之犯意聯絡，於同年6月14日及94年5月5日，均持前開登載不實之戶籍謄本等資料，先後向臺南縣政府警察局外事課申請核發陳玉婉之外僑居留證及申請居留證延期而連續行使之（業經檢察官當庭補充），經承辦人員實質審查結果，均未發覺陳泰龍與陳玉婉假結婚之實情，而發給陳玉婉居留證或核准延期，各足以生損害於主管機關對外僑居留管理之正確性\n",
            "9:  二、案經臺南市警察局（現改制為臺南市政府警察局，以下沿用舊制稱謂）第一分局報告臺灣臺南地方法院檢察署檢察官偵查起訴\n",
            "10: (二)共犯詹巧薇、張晉源等人當時欲找臺灣人與泰國女子結婚，由共犯林清水於報紙上刊登徵人廣告，若應徵者符合與泰國人結婚之條件，便將應徵者介紹予共犯詹巧薇、張晉源等人，共犯林清水可從中獲取1萬元之仲介費，適被告依前開徵人廣告應徵，共犯林清水衡量其條件後告知其可至泰國結婚，其除不用負擔前往泰國之機票及食宿費用外，尚可獲取5至6萬元之報酬，被告應允同意後，共犯林清水將其介紹予詹巧薇、張晉源等人，被告即依指示前往泰國與為了來臺工作且無結婚真意的共犯陳玉婉辦理結婚事宜等情，業據共犯林清水於警詢時證稱：伊登報徵人到泰國結婚，被告看報紙來的，伊便轉介予共犯詹巧薇，由共犯詹巧薇安排後續到泰國結婚之事宜，被告除不用負擔前往泰國機票、食宿等費用，尚可獲取約5至6萬元酬勞，伊則可自共犯詹巧薇獲取約1萬元之仲介費用；伊只有將被告轉介予共犯詹巧薇，並未參與後續被告前往泰國之證照、機票、食宿等相關事宜；被告係因缺錢，為了賺取擔任人頭配偶的佣金5至6萬，並不是真的要與泰國人結婚，共犯陳玉婉係為了來臺灣工作賺錢，亦不是真的要與臺灣人結婚等語（見警三卷第2至3頁）；並於本院審理時具結證稱：當初共犯詹巧薇、張晉源等人欲找男子前往泰國結婚，伊曾刊登「男、女不限、經驗不拘」等內容之徵人廣告，被告見報應徵時，被告係因缺錢才來找伊，伊衡量被告條件後認為其只能利用結婚賺取報酬，伊才向其表示是要辦結婚，伊告知被告可安排其去泰國結婚，其不用負擔食宿及機票等費用，可實拿5至6萬元的報酬，被告同意後，伊將被告介紹予共犯詹巧薇、張晉源，共犯張晉源給付佣金1萬元予伊；伊與被告談論泰國結婚事宜時，伊與被告均不知被告之結婚對象為何人，伊亦未見過與被告結婚之泰國女子，伊僅介紹被告予共犯詹巧薇、張晉源等人，伊並未參予後續之泰國結婚、辦理結婚登記及居留申請等事情；被告曾給伊一部機車，當時被告表示要去別的地方，機車留在臺南無人使用，伊修理使用一段期間後，因再度壞掉便未再使用等語（見本院卷第68頁背面至71頁）\n",
            "--->\n",
            " 3: 被告明知李運成並未同意贈與上開土地之應有部分予社團法人金門縣李氏宗親會（下稱李氏宗親會），竟於102年5月間某日，撥打電話予李運成佯稱：因系爭土地與鄰近土地所有權人界線劃分不清，故需身分證及印章辦理並解決云云，李運成不疑有他，即將身分證及印鑑章寄送李炷烽\n",
            "=======================================================\n"
          ]
        }
      ],
      "source": [
        "print(prompt1)\n",
        "print(\"--->\")\n",
        "print(get_breeze(query+prompt1))\n",
        "print(\"=======================================================\")\n",
        "print(prompt1)\n",
        "print(\"--->\")\n",
        "print(get_breeze(query+prompt2))\n",
        "print(\"=======================================================\")\n",
        "print(prompt1)\n",
        "print(\"--->\")\n",
        "print(get_breeze(query+prompt3))\n",
        "print(\"=======================================================\")"
      ]
    },
    {
      "cell_type": "code",
      "execution_count": null,
      "metadata": {
        "id": "AzQRVzzaPVBE"
      },
      "outputs": [],
      "source": [
        "query = \"我會給你來自一篇法律判決書的多個句子，請從這些句子中挑選出和犯罪事實情節描述最相關的三個句子。以下是一個挑選句子的範例：多個句子輸入\"+input_ex+\" 從輸入挑選出和犯罪事實情節描述最相關的三個句子輸出：\"+output_ex+\"\\n根據以上的範例，從以下句子中萃取出和犯罪事實情節描述最相關的三個句子，句子如下：\""
      ]
    },
    {
      "cell_type": "code",
      "execution_count": null,
      "metadata": {
        "colab": {
          "base_uri": "https://localhost:8080/"
        },
        "id": "gZsLndrYPWyc",
        "outputId": "ec199be5-c967-41d0-c3c8-c7edb4a66af8"
      },
      "outputs": [
        {
          "name": "stdout",
          "output_type": "stream",
          "text": [
            "1: 乙、實體方面：一、訊據被告固坦承於上開時、地，透過共犯林清水之介紹，先至泰國辦理與共犯陳玉婉之結婚手續，再前往臺南縣永康市戶政事務所辦理結婚登記，又前往臺南縣政府警察局外事課辦理共犯陳玉婉之外僑居留證及申請居留證延期之事實，惟矢口否認有何行使使公務員登載不實文書情事，於本院審理時辯稱：伊當時經濟狀況良好，因同居女友欲去日本工作而不願結婚，然伊希望結婚生子，遂透過共犯林清水之介紹與安排，共犯林清水先讓伊看過共犯陳玉婉之照片，伊再前往泰國與共犯陳玉婉結婚，伊僅負擔自己的來回機票錢及泰國住宿費用，其他結婚費用均由共犯林清水負擔，伊則贈送伊的一部機車予共犯林清水以為回報，伊並不認識共犯詹巧薇云云\n",
            "2: 迨共犯陳玉婉來臺後，為取得居留身分，被告與共犯陳玉婉於同年6月14日及94年5月5日，均持前開戶籍謄本等資料，先後向臺南縣政府警察局外事課申請核發共犯陳玉婉之外僑居留證及申請居留證延期等情，業據被告供承在卷，並有結婚登記申請書、授權書各1份、結婚登記書、結婚證書各1份（含中文、泰文影本及我國駐泰國臺北經濟文化辦事處認證之資料）、93年6月14日及94年5月5日之外國人居留停留案件聲請表各1份、被告及共犯陳玉婉之入出國日期紀錄各1份、共犯陳玉婉之外僑居留資料查詢1份在卷可按（見警三卷即南市警一刑偵字第0994101517號卷第6至24、33頁）\n",
            "3: 上開事實，首堪認定\n",
            "4: 理由甲、程序方面：一、本件以下所引用具傳聞證據性質之供述證據，因本件被告陳泰龍、檢察官等人於本院準備程序進行時，均未爭執前開陳述之證據能力，且迄至本案言詞辯論終結前亦均未聲明異議，應視為已同意援引作為證據，又本院審酌前開證據作成時之情況及證據取得過程等節，並無非出於任意性、不正取供或其他違法不當情事，且客觀上亦無顯不可信之情況，堪認為適當，是依刑事訴訟法第159條之5規定，均有證據能力\n",
            "5: 二、卷附之被告及陳玉婉入出國日期紀錄各1份等書證，均非屬供述證據，皆無傳聞法則之適用，復均無違反法定程序取得之情形，依刑事訴訟法第158條之4規定之反面解釋，均應有證據能力\n",
            "6: 一、陳泰龍明知其與泰國籍女子陳玉婉（泰國名字為JARUWANWONGPRATOOM，陳玉婉涉嫌本案偽造文書部分，另經臺灣臺南地方法院檢察署檢察官通緝中）間並無結婚之真意，然因詹巧薇、張晉源等人欲找臺灣男子前往泰國與泰國女子辦理假結婚，林清水負責介紹臺灣男子予詹巧薇、張晉源等人以賺取新臺幣（下同）1萬元之仲介費，適陳泰龍依林清水於報紙上刊登之徵人廣告應徵時，由林清水告知泰國女子欲以假結婚之方式申請來臺居留工作，其若擔任假結婚之人頭老公，除不用負擔前往泰國之食宿、機票費用外，尚可獲取5、6萬元之報酬，迨陳泰龍應允同意後，林清水將其轉介紹予詹巧薇、張晉源等人，陳泰龍遂與林清水、詹巧薇、張晉源等人共同基於行使使公務員登載不實公文書之概括犯意聯絡，先由陳泰龍依指示於民國93年4月3日前往泰國，並於同年月7日與陳玉婉在泰國曼谷市法拉坎農區註冊辦事處登記結婚，取得上開註冊辦事處核發之結婚登記書、結婚證書等文件後，陳泰龍即行返臺，並於同年5月19日持經我國駐泰國臺北經濟文化辦事處認證之上開結婚登記書、結婚證書等資料，至臺南縣永康市（改制前稱謂，以下沿用舊制稱謂）戶政事務所填寫結婚登記申請書，申請辦理其與陳玉婉之結婚登記，因此使上開戶政事務所僅有形式審查權之承辦公務員陷於錯誤，於形式上審核後，將陳泰龍與陳玉婉於93年4月7日結婚之不實事項，登載於其職務上所掌屬公文書之戶籍登記資料內，並據以核發戶籍謄本，而足以生損害於戶政機關對於戶政管理及戶籍登記資料維護之正確性\n",
            "7: 經查：(一)被告於93年4月3日前往泰國，並於同年月7日與共犯陳玉婉在泰國曼谷市法拉坎農區註冊辦事處登記結婚，取得上開註冊辦事處核發之結婚登記書、結婚證書等文件後，被告即行返臺，並於同年5月19日持經我國駐泰國臺北經濟文化辦事處認證之上開結婚登記書、結婚證書等資料，至臺南縣永康市戶政事務所填寫結婚登記申請書，申請辦理其與共犯陳玉婉之結婚登記，並取得戶籍謄本\n",
            "8: 迨陳玉婉來臺後，為取得居留身分，再由陳泰龍、陳玉婉承前概括之犯意聯絡，於同年6月14日及94年5月5日，均持前開登載不實之戶籍謄本等資料，先後向臺南縣政府警察局外事課申請核發陳玉婉之外僑居留證及申請居留證延期而連續行使之（業經檢察官當庭補充），經承辦人員實質審查結果，均未發覺陳泰龍與陳玉婉假結婚之實情，而發給陳玉婉居留證或核准延期，各足以生損害於主管機關對外僑居留管理之正確性\n",
            "9:  二、案經臺南市警察局（現改制為臺南市政府警察局，以下沿用舊制稱謂）第一分局報告臺灣臺南地方法院檢察署檢察官偵查起訴\n",
            "10: (二)共犯詹巧薇、張晉源等人當時欲找臺灣人與泰國女子結婚，由共犯林清水於報紙上刊登徵人廣告，若應徵者符合與泰國人結婚之條件，便將應徵者介紹予共犯詹巧薇、張晉源等人，共犯林清水可從中獲取1萬元之仲介費，適被告依前開徵人廣告應徵，共犯林清水衡量其條件後告知其可至泰國結婚，其除不用負擔前往泰國之機票及食宿費用外，尚可獲取5至6萬元之報酬，被告應允同意後，共犯林清水將其介紹予詹巧薇、張晉源等人，被告即依指示前往泰國與為了來臺工作且無結婚真意的共犯陳玉婉辦理結婚事宜等情，業據共犯林清水於警詢時證稱：伊登報徵人到泰國結婚，被告看報紙來的，伊便轉介予共犯詹巧薇，由共犯詹巧薇安排後續到泰國結婚之事宜，被告除不用負擔前往泰國機票、食宿等費用，尚可獲取約5至6萬元酬勞，伊則可自共犯詹巧薇獲取約1萬元之仲介費用；伊只有將被告轉介予共犯詹巧薇，並未參與後續被告前往泰國之證照、機票、食宿等相關事宜；被告係因缺錢，為了賺取擔任人頭配偶的佣金5至6萬，並不是真的要與泰國人結婚，共犯陳玉婉係為了來臺灣工作賺錢，亦不是真的要與臺灣人結婚等語（見警三卷第2至3頁）；並於本院審理時具結證稱：當初共犯詹巧薇、張晉源等人欲找男子前往泰國結婚，伊曾刊登「男、女不限、經驗不拘」等內容之徵人廣告，被告見報應徵時，被告係因缺錢才來找伊，伊衡量被告條件後認為其只能利用結婚賺取報酬，伊才向其表示是要辦結婚，伊告知被告可安排其去泰國結婚，其不用負擔食宿及機票等費用，可實拿5至6萬元的報酬，被告同意後，伊將被告介紹予共犯詹巧薇、張晉源，共犯張晉源給付佣金1萬元予伊；伊與被告談論泰國結婚事宜時，伊與被告均不知被告之結婚對象為何人，伊亦未見過與被告結婚之泰國女子，伊僅介紹被告予共犯詹巧薇、張晉源等人，伊並未參予後續之泰國結婚、辦理結婚登記及居留申請等事情；被告曾給伊一部機車，當時被告表示要去別的地方，機車留在臺南無人使用，伊修理使用一段期間後，因再度壞掉便未再使用等語（見本院卷第68頁背面至71頁）\n",
            "--->\n",
            " 1: 李炷烽明知李運成並未同意贈與上開土地之應有部分予社團法人金門縣李氏宗親會（下稱李氏宗親會），竟於102年5月間某日，撥打電話予李運成佯稱：因系爭土地與鄰近土地所有權人界線劃分不清，故需身分證及印章辦理並解決云云，李運成不疑有他，即將身分證及印鑑章寄送李炷烽\n",
            "2: 李炷烽即基於行使偽造私文書及使公務員登載不實之犯意，指示不知情之地政士李根遠於103年3月3日前某日，在「土地登記申請書」、「土地所有權贈與移轉契約書」、「切結書」、「不動產贈與契約」等文件上，接續盜蓋李運成之印章後，復將其中之「土地登記申請書」、「土地所有權贈與移轉契約書」、「切結書」（起訴書誤繕連同「不動產贈與契約」送件至金門縣地政局，應予更正）連同印鑑證明、契稅繳款證明及土地增值稅繳款證明等文件，於103年3月3日送件至金門縣地政局，表示李運成願贈與系爭土地之應有部分，致不知情之承辦公務員為形式審查後，將上開不實事項登載在職務上所掌之地籍簿冊等公文書內，並於103年4月7日移轉登記至李氏宗親會名下，足生損害於地政機關對於地籍管理正確性及李運成\n",
            "3: 嗣辦理完成後，李炷烽將系爭土地所有權狀及「不動產贈與契約」寄送李運成，欲使李運成接受系爭土地已贈與之事實，惟李運成心有不甘，乃提出告訴\n",
            "=======================================================\n",
            "1: 乙、實體方面：一、訊據被告固坦承於上開時、地，透過共犯林清水之介紹，先至泰國辦理與共犯陳玉婉之結婚手續，再前往臺南縣永康市戶政事務所辦理結婚登記，又前往臺南縣政府警察局外事課辦理共犯陳玉婉之外僑居留證及申請居留證延期之事實，惟矢口否認有何行使使公務員登載不實文書情事，於本院審理時辯稱：伊當時經濟狀況良好，因同居女友欲去日本工作而不願結婚，然伊希望結婚生子，遂透過共犯林清水之介紹與安排，共犯林清水先讓伊看過共犯陳玉婉之照片，伊再前往泰國與共犯陳玉婉結婚，伊僅負擔自己的來回機票錢及泰國住宿費用，其他結婚費用均由共犯林清水負擔，伊則贈送伊的一部機車予共犯林清水以為回報，伊並不認識共犯詹巧薇云云\n",
            "2: 迨共犯陳玉婉來臺後，為取得居留身分，被告與共犯陳玉婉於同年6月14日及94年5月5日，均持前開戶籍謄本等資料，先後向臺南縣政府警察局外事課申請核發共犯陳玉婉之外僑居留證及申請居留證延期等情，業據被告供承在卷，並有結婚登記申請書、授權書各1份、結婚登記書、結婚證書各1份（含中文、泰文影本及我國駐泰國臺北經濟文化辦事處認證之資料）、93年6月14日及94年5月5日之外國人居留停留案件聲請表各1份、被告及共犯陳玉婉之入出國日期紀錄各1份、共犯陳玉婉之外僑居留資料查詢1份在卷可按（見警三卷即南市警一刑偵字第0994101517號卷第6至24、33頁）\n",
            "3: 上開事實，首堪認定\n",
            "4: 理由甲、程序方面：一、本件以下所引用具傳聞證據性質之供述證據，因本件被告陳泰龍、檢察官等人於本院準備程序進行時，均未爭執前開陳述之證據能力，且迄至本案言詞辯論終結前亦均未聲明異議，應視為已同意援引作為證據，又本院審酌前開證據作成時之情況及證據取得過程等節，並無非出於任意性、不正取供或其他違法不當情事，且客觀上亦無顯不可信之情況，堪認為適當，是依刑事訴訟法第159條之5規定，均有證據能力\n",
            "5: 二、卷附之被告及陳玉婉入出國日期紀錄各1份等書證，均非屬供述證據，皆無傳聞法則之適用，復均無違反法定程序取得之情形，依刑事訴訟法第158條之4規定之反面解釋，均應有證據能力\n",
            "6: 一、陳泰龍明知其與泰國籍女子陳玉婉（泰國名字為JARUWANWONGPRATOOM，陳玉婉涉嫌本案偽造文書部分，另經臺灣臺南地方法院檢察署檢察官通緝中）間並無結婚之真意，然因詹巧薇、張晉源等人欲找臺灣男子前往泰國與泰國女子辦理假結婚，林清水負責介紹臺灣男子予詹巧薇、張晉源等人以賺取新臺幣（下同）1萬元之仲介費，適陳泰龍依林清水於報紙上刊登之徵人廣告應徵時，由林清水告知泰國女子欲以假結婚之方式申請來臺居留工作，其若擔任假結婚之人頭老公，除不用負擔前往泰國之食宿、機票費用外，尚可獲取5、6萬元之報酬，迨陳泰龍應允同意後，林清水將其轉介紹予詹巧薇、張晉源等人，陳泰龍遂與林清水、詹巧薇、張晉源等人共同基於行使使公務員登載不實公文書之概括犯意聯絡，先由陳泰龍依指示於民國93年4月3日前往泰國，並於同年月7日與陳玉婉在泰國曼谷市法拉坎農區註冊辦事處登記結婚，取得上開註冊辦事處核發之結婚登記書、結婚證書等文件後，陳泰龍即行返臺，並於同年5月19日持經我國駐泰國臺北經濟文化辦事處認證之上開結婚登記書、結婚證書等資料，至臺南縣永康市（改制前稱謂，以下沿用舊制稱謂）戶政事務所填寫結婚登記申請書，申請辦理其與陳玉婉之結婚登記，因此使上開戶政事務所僅有形式審查權之承辦公務員陷於錯誤，於形式上審核後，將陳泰龍與陳玉婉於93年4月7日結婚之不實事項，登載於其職務上所掌屬公文書之戶籍登記資料內，並據以核發戶籍謄本，而足以生損害於戶政機關對於戶政管理及戶籍登記資料維護之正確性\n",
            "7: 經查：(一)被告於93年4月3日前往泰國，並於同年月7日與共犯陳玉婉在泰國曼谷市法拉坎農區註冊辦事處登記結婚，取得上開註冊辦事處核發之結婚登記書、結婚證書等文件後，被告即行返臺，並於同年5月19日持經我國駐泰國臺北經濟文化辦事處認證之上開結婚登記書、結婚證書等資料，至臺南縣永康市戶政事務所填寫結婚登記申請書，申請辦理其與共犯陳玉婉之結婚登記，並取得戶籍謄本\n",
            "8: 迨陳玉婉來臺後，為取得居留身分，再由陳泰龍、陳玉婉承前概括之犯意聯絡，於同年6月14日及94年5月5日，均持前開登載不實之戶籍謄本等資料，先後向臺南縣政府警察局外事課申請核發陳玉婉之外僑居留證及申請居留證延期而連續行使之（業經檢察官當庭補充），經承辦人員實質審查結果，均未發覺陳泰龍與陳玉婉假結婚之實情，而發給陳玉婉居留證或核准延期，各足以生損害於主管機關對外僑居留管理之正確性\n",
            "9:  二、案經臺南市警察局（現改制為臺南市政府警察局，以下沿用舊制稱謂）第一分局報告臺灣臺南地方法院檢察署檢察官偵查起訴\n",
            "10: (二)共犯詹巧薇、張晉源等人當時欲找臺灣人與泰國女子結婚，由共犯林清水於報紙上刊登徵人廣告，若應徵者符合與泰國人結婚之條件，便將應徵者介紹予共犯詹巧薇、張晉源等人，共犯林清水可從中獲取1萬元之仲介費，適被告依前開徵人廣告應徵，共犯林清水衡量其條件後告知其可至泰國結婚，其除不用負擔前往泰國之機票及食宿費用外，尚可獲取5至6萬元之報酬，被告應允同意後，共犯林清水將其介紹予詹巧薇、張晉源等人，被告即依指示前往泰國與為了來臺工作且無結婚真意的共犯陳玉婉辦理結婚事宜等情，業據共犯林清水於警詢時證稱：伊登報徵人到泰國結婚，被告看報紙來的，伊便轉介予共犯詹巧薇，由共犯詹巧薇安排後續到泰國結婚之事宜，被告除不用負擔前往泰國機票、食宿等費用，尚可獲取約5至6萬元酬勞，伊則可自共犯詹巧薇獲取約1萬元之仲介費用；伊只有將被告轉介予共犯詹巧薇，並未參與後續被告前往泰國之證照、機票、食宿等相關事宜；被告係因缺錢，為了賺取擔任人頭配偶的佣金5至6萬，並不是真的要與泰國人結婚，共犯陳玉婉係為了來臺灣工作賺錢，亦不是真的要與臺灣人結婚等語（見警三卷第2至3頁）；並於本院審理時具結證稱：當初共犯詹巧薇、張晉源等人欲找男子前往泰國結婚，伊曾刊登「男、女不限、經驗不拘」等內容之徵人廣告，被告見報應徵時，被告係因缺錢才來找伊，伊衡量被告條件後認為其只能利用結婚賺取報酬，伊才向其表示是要辦結婚，伊告知被告可安排其去泰國結婚，其不用負擔食宿及機票等費用，可實拿5至6萬元的報酬，被告同意後，伊將被告介紹予共犯詹巧薇、張晉源，共犯張晉源給付佣金1萬元予伊；伊與被告談論泰國結婚事宜時，伊與被告均不知被告之結婚對象為何人，伊亦未見過與被告結婚之泰國女子，伊僅介紹被告予共犯詹巧薇、張晉源等人，伊並未參予後續之泰國結婚、辦理結婚登記及居留申請等事情；被告曾給伊一部機車，當時被告表示要去別的地方，機車留在臺南無人使用，伊修理使用一段期間後，因再度壞掉便未再使用等語（見本院卷第68頁背面至71頁）\n",
            "--->\n",
            " 以下是根據範例挑選出的三個句子：\n",
            "\n",
            "1: 李炷烽明知李運成並未同意贈與上開土地之應有部分予社團法人金門縣李氏宗親會（下稱李氏宗親會），竟於102年5月間某日，撥打電話予李運成佯稱：因系爭土地與鄰近土地所有權人界線劃分不清，故需身分證及印章辦理並解決云云，李運成不疑有他，即將身分證及印鑑章寄送李炷烽\n",
            "2: 李炷烽即基於行使偽造私文書及使公務員登載不實之犯意，指示不知情之地政士李根遠於103年3月3日前某日，在「土地登記申請書」、「土地所有權贈與移轉契約書」、「切結書」、「不動產贈與契約」等文件上，接續盜蓋李運成之印章後，復將其中之「土地登記申請書」、「土地所有權贈與移轉契約書」、「切結書」（起訴書誤繕連同「不動產贈與契約」送件至金門縣地政局，應予更正）連同印鑑證明、契稅繳款證明及土地增值稅繳款證明等文件，於103年3月3日送件至金門縣地政局，表示李運成願贈與系爭土地之應有部分，致不知情之承辦公務員為形式審查後，將上開不實事項登載在職務上所掌之地籍簿冊等公文書內，並於103年4月7日移轉登記至李氏宗親會名下，足生損害於地政機關對於地籍管理正確性及李運成\n",
            "3: 嗣辦理完成後，李炷烽將系爭土地所有權狀及「不動產贈與契約」寄送李運成，欲使李運成接受系爭土地已贈與之事實，惟李運成心有不甘，乃提出告訴\n",
            "=======================================================\n",
            "1: 乙、實體方面：一、訊據被告固坦承於上開時、地，透過共犯林清水之介紹，先至泰國辦理與共犯陳玉婉之結婚手續，再前往臺南縣永康市戶政事務所辦理結婚登記，又前往臺南縣政府警察局外事課辦理共犯陳玉婉之外僑居留證及申請居留證延期之事實，惟矢口否認有何行使使公務員登載不實文書情事，於本院審理時辯稱：伊當時經濟狀況良好，因同居女友欲去日本工作而不願結婚，然伊希望結婚生子，遂透過共犯林清水之介紹與安排，共犯林清水先讓伊看過共犯陳玉婉之照片，伊再前往泰國與共犯陳玉婉結婚，伊僅負擔自己的來回機票錢及泰國住宿費用，其他結婚費用均由共犯林清水負擔，伊則贈送伊的一部機車予共犯林清水以為回報，伊並不認識共犯詹巧薇云云\n",
            "2: 迨共犯陳玉婉來臺後，為取得居留身分，被告與共犯陳玉婉於同年6月14日及94年5月5日，均持前開戶籍謄本等資料，先後向臺南縣政府警察局外事課申請核發共犯陳玉婉之外僑居留證及申請居留證延期等情，業據被告供承在卷，並有結婚登記申請書、授權書各1份、結婚登記書、結婚證書各1份（含中文、泰文影本及我國駐泰國臺北經濟文化辦事處認證之資料）、93年6月14日及94年5月5日之外國人居留停留案件聲請表各1份、被告及共犯陳玉婉之入出國日期紀錄各1份、共犯陳玉婉之外僑居留資料查詢1份在卷可按（見警三卷即南市警一刑偵字第0994101517號卷第6至24、33頁）\n",
            "3: 上開事實，首堪認定\n",
            "4: 理由甲、程序方面：一、本件以下所引用具傳聞證據性質之供述證據，因本件被告陳泰龍、檢察官等人於本院準備程序進行時，均未爭執前開陳述之證據能力，且迄至本案言詞辯論終結前亦均未聲明異議，應視為已同意援引作為證據，又本院審酌前開證據作成時之情況及證據取得過程等節，並無非出於任意性、不正取供或其他違法不當情事，且客觀上亦無顯不可信之情況，堪認為適當，是依刑事訴訟法第159條之5規定，均有證據能力\n",
            "5: 二、卷附之被告及陳玉婉入出國日期紀錄各1份等書證，均非屬供述證據，皆無傳聞法則之適用，復均無違反法定程序取得之情形，依刑事訴訟法第158條之4規定之反面解釋，均應有證據能力\n",
            "6: 一、陳泰龍明知其與泰國籍女子陳玉婉（泰國名字為JARUWANWONGPRATOOM，陳玉婉涉嫌本案偽造文書部分，另經臺灣臺南地方法院檢察署檢察官通緝中）間並無結婚之真意，然因詹巧薇、張晉源等人欲找臺灣男子前往泰國與泰國女子辦理假結婚，林清水負責介紹臺灣男子予詹巧薇、張晉源等人以賺取新臺幣（下同）1萬元之仲介費，適陳泰龍依林清水於報紙上刊登之徵人廣告應徵時，由林清水告知泰國女子欲以假結婚之方式申請來臺居留工作，其若擔任假結婚之人頭老公，除不用負擔前往泰國之食宿、機票費用外，尚可獲取5、6萬元之報酬，迨陳泰龍應允同意後，林清水將其轉介紹予詹巧薇、張晉源等人，陳泰龍遂與林清水、詹巧薇、張晉源等人共同基於行使使公務員登載不實公文書之概括犯意聯絡，先由陳泰龍依指示於民國93年4月3日前往泰國，並於同年月7日與陳玉婉在泰國曼谷市法拉坎農區註冊辦事處登記結婚，取得上開註冊辦事處核發之結婚登記書、結婚證書等文件後，陳泰龍即行返臺，並於同年5月19日持經我國駐泰國臺北經濟文化辦事處認證之上開結婚登記書、結婚證書等資料，至臺南縣永康市（改制前稱謂，以下沿用舊制稱謂）戶政事務所填寫結婚登記申請書，申請辦理其與陳玉婉之結婚登記，因此使上開戶政事務所僅有形式審查權之承辦公務員陷於錯誤，於形式上審核後，將陳泰龍與陳玉婉於93年4月7日結婚之不實事項，登載於其職務上所掌屬公文書之戶籍登記資料內，並據以核發戶籍謄本，而足以生損害於戶政機關對於戶政管理及戶籍登記資料維護之正確性\n",
            "7: 經查：(一)被告於93年4月3日前往泰國，並於同年月7日與共犯陳玉婉在泰國曼谷市法拉坎農區註冊辦事處登記結婚，取得上開註冊辦事處核發之結婚登記書、結婚證書等文件後，被告即行返臺，並於同年5月19日持經我國駐泰國臺北經濟文化辦事處認證之上開結婚登記書、結婚證書等資料，至臺南縣永康市戶政事務所填寫結婚登記申請書，申請辦理其與共犯陳玉婉之結婚登記，並取得戶籍謄本\n",
            "8: 迨陳玉婉來臺後，為取得居留身分，再由陳泰龍、陳玉婉承前概括之犯意聯絡，於同年6月14日及94年5月5日，均持前開登載不實之戶籍謄本等資料，先後向臺南縣政府警察局外事課申請核發陳玉婉之外僑居留證及申請居留證延期而連續行使之（業經檢察官當庭補充），經承辦人員實質審查結果，均未發覺陳泰龍與陳玉婉假結婚之實情，而發給陳玉婉居留證或核准延期，各足以生損害於主管機關對外僑居留管理之正確性\n",
            "9:  二、案經臺南市警察局（現改制為臺南市政府警察局，以下沿用舊制稱謂）第一分局報告臺灣臺南地方法院檢察署檢察官偵查起訴\n",
            "10: (二)共犯詹巧薇、張晉源等人當時欲找臺灣人與泰國女子結婚，由共犯林清水於報紙上刊登徵人廣告，若應徵者符合與泰國人結婚之條件，便將應徵者介紹予共犯詹巧薇、張晉源等人，共犯林清水可從中獲取1萬元之仲介費，適被告依前開徵人廣告應徵，共犯林清水衡量其條件後告知其可至泰國結婚，其除不用負擔前往泰國之機票及食宿費用外，尚可獲取5至6萬元之報酬，被告應允同意後，共犯林清水將其介紹予詹巧薇、張晉源等人，被告即依指示前往泰國與為了來臺工作且無結婚真意的共犯陳玉婉辦理結婚事宜等情，業據共犯林清水於警詢時證稱：伊登報徵人到泰國結婚，被告看報紙來的，伊便轉介予共犯詹巧薇，由共犯詹巧薇安排後續到泰國結婚之事宜，被告除不用負擔前往泰國機票、食宿等費用，尚可獲取約5至6萬元酬勞，伊則可自共犯詹巧薇獲取約1萬元之仲介費用；伊只有將被告轉介予共犯詹巧薇，並未參與後續被告前往泰國之證照、機票、食宿等相關事宜；被告係因缺錢，為了賺取擔任人頭配偶的佣金5至6萬，並不是真的要與泰國人結婚，共犯陳玉婉係為了來臺灣工作賺錢，亦不是真的要與臺灣人結婚等語（見警三卷第2至3頁）；並於本院審理時具結證稱：當初共犯詹巧薇、張晉源等人欲找男子前往泰國結婚，伊曾刊登「男、女不限、經驗不拘」等內容之徵人廣告，被告見報應徵時，被告係因缺錢才來找伊，伊衡量被告條件後認為其只能利用結婚賺取報酬，伊才向其表示是要辦結婚，伊告知被告可安排其去泰國結婚，其不用負擔食宿及機票等費用，可實拿5至6萬元的報酬，被告同意後，伊將被告介紹予共犯詹巧薇、張晉源，共犯張晉源給付佣金1萬元予伊；伊與被告談論泰國結婚事宜時，伊與被告均不知被告之結婚對象為何人，伊亦未見過與被告結婚之泰國女子，伊僅介紹被告予共犯詹巧薇、張晉源等人，伊並未參予後續之泰國結婚、辦理結婚登記及居留申請等事情；被告曾給伊一部機車，當時被告表示要去別的地方，機車留在臺南無人使用，伊修理使用一段期間後，因再度壞掉便未再使用等語（見本院卷第68頁背面至71頁）\n",
            "--->\n",
            " 3: 李炷烽明知李運成並未同意贈與上開土地之應有部分予社團法人金門縣李氏宗親會（下稱李氏宗親會），竟於102年5月間某日，撥打電話予李運成佯稱：因系爭土地與鄰近土地所有權人界線劃分不清，故需身分證及印章辦理並解決云云，李運成不疑有他，即將身分證及印鑑章寄送李炷烽\n",
            "=======================================================\n"
          ]
        }
      ],
      "source": [
        "print(prompt1)\n",
        "print(\"--->\")\n",
        "print(get_breeze(query+prompt1))\n",
        "print(\"=======================================================\")\n",
        "print(prompt1)\n",
        "print(\"--->\")\n",
        "print(get_breeze(query+prompt2))\n",
        "print(\"=======================================================\")\n",
        "print(prompt1)\n",
        "print(\"--->\")\n",
        "print(get_breeze(query+prompt3))\n",
        "print(\"=======================================================\")"
      ]
    },
    {
      "cell_type": "markdown",
      "source": [
        "## 在敘述中加入說要做Extraction-based summarization有助於不要只抓前三個句子"
      ],
      "metadata": {
        "id": "RfFLTcYlV4P7"
      }
    },
    {
      "cell_type": "code",
      "execution_count": null,
      "metadata": {
        "id": "E_FBgDTiQlmp"
      },
      "outputs": [],
      "source": [
        "query = \"我想請你幫我對一篇判決書做Extraction-based summarization，我已經將這篇判決書切成多個句子，請幫我從這些句子中挑選出和犯罪事實情節描述最相關的三個句子。句子如下：\\n\""
      ]
    },
    {
      "cell_type": "code",
      "execution_count": null,
      "metadata": {
        "colab": {
          "base_uri": "https://localhost:8080/"
        },
        "id": "7pZ8Z6wqQnRP",
        "outputId": "ffcfa00f-69da-4ab7-b935-eb59c7632102"
      },
      "outputs": [
        {
          "name": "stdout",
          "output_type": "stream",
          "text": [
            "1: 乙、實體方面：一、訊據被告固坦承於上開時、地，透過共犯林清水之介紹，先至泰國辦理與共犯陳玉婉之結婚手續，再前往臺南縣永康市戶政事務所辦理結婚登記，又前往臺南縣政府警察局外事課辦理共犯陳玉婉之外僑居留證及申請居留證延期之事實，惟矢口否認有何行使使公務員登載不實文書情事，於本院審理時辯稱：伊當時經濟狀況良好，因同居女友欲去日本工作而不願結婚，然伊希望結婚生子，遂透過共犯林清水之介紹與安排，共犯林清水先讓伊看過共犯陳玉婉之照片，伊再前往泰國與共犯陳玉婉結婚，伊僅負擔自己的來回機票錢及泰國住宿費用，其他結婚費用均由共犯林清水負擔，伊則贈送伊的一部機車予共犯林清水以為回報，伊並不認識共犯詹巧薇云云\n",
            "2: 迨共犯陳玉婉來臺後，為取得居留身分，被告與共犯陳玉婉於同年6月14日及94年5月5日，均持前開戶籍謄本等資料，先後向臺南縣政府警察局外事課申請核發共犯陳玉婉之外僑居留證及申請居留證延期等情，業據被告供承在卷，並有結婚登記申請書、授權書各1份、結婚登記書、結婚證書各1份（含中文、泰文影本及我國駐泰國臺北經濟文化辦事處認證之資料）、93年6月14日及94年5月5日之外國人居留停留案件聲請表各1份、被告及共犯陳玉婉之入出國日期紀錄各1份、共犯陳玉婉之外僑居留資料查詢1份在卷可按（見警三卷即南市警一刑偵字第0994101517號卷第6至24、33頁）\n",
            "3: 上開事實，首堪認定\n",
            "4: 理由甲、程序方面：一、本件以下所引用具傳聞證據性質之供述證據，因本件被告陳泰龍、檢察官等人於本院準備程序進行時，均未爭執前開陳述之證據能力，且迄至本案言詞辯論終結前亦均未聲明異議，應視為已同意援引作為證據，又本院審酌前開證據作成時之情況及證據取得過程等節，並無非出於任意性、不正取供或其他違法不當情事，且客觀上亦無顯不可信之情況，堪認為適當，是依刑事訴訟法第159條之5規定，均有證據能力\n",
            "5: 二、卷附之被告及陳玉婉入出國日期紀錄各1份等書證，均非屬供述證據，皆無傳聞法則之適用，復均無違反法定程序取得之情形，依刑事訴訟法第158條之4規定之反面解釋，均應有證據能力\n",
            "6: 一、陳泰龍明知其與泰國籍女子陳玉婉（泰國名字為JARUWANWONGPRATOOM，陳玉婉涉嫌本案偽造文書部分，另經臺灣臺南地方法院檢察署檢察官通緝中）間並無結婚之真意，然因詹巧薇、張晉源等人欲找臺灣男子前往泰國與泰國女子辦理假結婚，林清水負責介紹臺灣男子予詹巧薇、張晉源等人以賺取新臺幣（下同）1萬元之仲介費，適陳泰龍依林清水於報紙上刊登之徵人廣告應徵時，由林清水告知泰國女子欲以假結婚之方式申請來臺居留工作，其若擔任假結婚之人頭老公，除不用負擔前往泰國之食宿、機票費用外，尚可獲取5、6萬元之報酬，迨陳泰龍應允同意後，林清水將其轉介紹予詹巧薇、張晉源等人，陳泰龍遂與林清水、詹巧薇、張晉源等人共同基於行使使公務員登載不實公文書之概括犯意聯絡，先由陳泰龍依指示於民國93年4月3日前往泰國，並於同年月7日與陳玉婉在泰國曼谷市法拉坎農區註冊辦事處登記結婚，取得上開註冊辦事處核發之結婚登記書、結婚證書等文件後，陳泰龍即行返臺，並於同年5月19日持經我國駐泰國臺北經濟文化辦事處認證之上開結婚登記書、結婚證書等資料，至臺南縣永康市（改制前稱謂，以下沿用舊制稱謂）戶政事務所填寫結婚登記申請書，申請辦理其與陳玉婉之結婚登記，因此使上開戶政事務所僅有形式審查權之承辦公務員陷於錯誤，於形式上審核後，將陳泰龍與陳玉婉於93年4月7日結婚之不實事項，登載於其職務上所掌屬公文書之戶籍登記資料內，並據以核發戶籍謄本，而足以生損害於戶政機關對於戶政管理及戶籍登記資料維護之正確性\n",
            "7: 經查：(一)被告於93年4月3日前往泰國，並於同年月7日與共犯陳玉婉在泰國曼谷市法拉坎農區註冊辦事處登記結婚，取得上開註冊辦事處核發之結婚登記書、結婚證書等文件後，被告即行返臺，並於同年5月19日持經我國駐泰國臺北經濟文化辦事處認證之上開結婚登記書、結婚證書等資料，至臺南縣永康市戶政事務所填寫結婚登記申請書，申請辦理其與共犯陳玉婉之結婚登記，並取得戶籍謄本\n",
            "8: 迨陳玉婉來臺後，為取得居留身分，再由陳泰龍、陳玉婉承前概括之犯意聯絡，於同年6月14日及94年5月5日，均持前開登載不實之戶籍謄本等資料，先後向臺南縣政府警察局外事課申請核發陳玉婉之外僑居留證及申請居留證延期而連續行使之（業經檢察官當庭補充），經承辦人員實質審查結果，均未發覺陳泰龍與陳玉婉假結婚之實情，而發給陳玉婉居留證或核准延期，各足以生損害於主管機關對外僑居留管理之正確性\n",
            "9:  二、案經臺南市警察局（現改制為臺南市政府警察局，以下沿用舊制稱謂）第一分局報告臺灣臺南地方法院檢察署檢察官偵查起訴\n",
            "10: (二)共犯詹巧薇、張晉源等人當時欲找臺灣人與泰國女子結婚，由共犯林清水於報紙上刊登徵人廣告，若應徵者符合與泰國人結婚之條件，便將應徵者介紹予共犯詹巧薇、張晉源等人，共犯林清水可從中獲取1萬元之仲介費，適被告依前開徵人廣告應徵，共犯林清水衡量其條件後告知其可至泰國結婚，其除不用負擔前往泰國之機票及食宿費用外，尚可獲取5至6萬元之報酬，被告應允同意後，共犯林清水將其介紹予詹巧薇、張晉源等人，被告即依指示前往泰國與為了來臺工作且無結婚真意的共犯陳玉婉辦理結婚事宜等情，業據共犯林清水於警詢時證稱：伊登報徵人到泰國結婚，被告看報紙來的，伊便轉介予共犯詹巧薇，由共犯詹巧薇安排後續到泰國結婚之事宜，被告除不用負擔前往泰國機票、食宿等費用，尚可獲取約5至6萬元酬勞，伊則可自共犯詹巧薇獲取約1萬元之仲介費用；伊只有將被告轉介予共犯詹巧薇，並未參與後續被告前往泰國之證照、機票、食宿等相關事宜；被告係因缺錢，為了賺取擔任人頭配偶的佣金5至6萬，並不是真的要與泰國人結婚，共犯陳玉婉係為了來臺灣工作賺錢，亦不是真的要與臺灣人結婚等語（見警三卷第2至3頁）；並於本院審理時具結證稱：當初共犯詹巧薇、張晉源等人欲找男子前往泰國結婚，伊曾刊登「男、女不限、經驗不拘」等內容之徵人廣告，被告見報應徵時，被告係因缺錢才來找伊，伊衡量被告條件後認為其只能利用結婚賺取報酬，伊才向其表示是要辦結婚，伊告知被告可安排其去泰國結婚，其不用負擔食宿及機票等費用，可實拿5至6萬元的報酬，被告同意後，伊將被告介紹予共犯詹巧薇、張晉源，共犯張晉源給付佣金1萬元予伊；伊與被告談論泰國結婚事宜時，伊與被告均不知被告之結婚對象為何人，伊亦未見過與被告結婚之泰國女子，伊僅介紹被告予共犯詹巧薇、張晉源等人，伊並未參予後續之泰國結婚、辦理結婚登記及居留申請等事情；被告曾給伊一部機車，當時被告表示要去別的地方，機車留在臺南無人使用，伊修理使用一段期間後，因再度壞掉便未再使用等語（見本院卷第68頁背面至71頁）\n",
            "--->\n",
            " 1: 被告坦承於上開時、地，透過共犯林清水之介紹，先至泰國辦理與共犯陳玉婉之結婚手續，再前往臺南縣永康市戶政事務所辦理結婚登記，又前往臺南縣政府警察局外事課辦理共犯陳玉婉之外僑居留證及申請居留證延期之事實。\n",
            "2: 被告與共犯陳玉婉於同年6月14日及94年5月5日，均持前開戶籍謄本等資料，先後向臺南縣政府警察局外事課申請核發共犯陳玉婉之外僑居留證及申請居留證延期等情，業據被告供承在卷。\n",
            "3: 陳泰龍與泰國籍女子陳玉婉（泰國名字為JARUWANWONGPRATOOM）間並無結婚之真意，然因詹巧薇、張晉源等人欲找臺灣男子前往泰國與泰國女子辦理假結婚，林清水負責介紹臺灣男子予詹巧薇、張晉源等人以賺取1萬元之仲介費，適陳泰龍依林清水於報紙上刊登之徵人廣告應徵後，林清水將其轉介紹予詹巧薇、張晉源等人，陳泰龍遂與林清水、詹巧薇、張晉源等人共同基於行使使公務員登載不實公文書之概括犯意聯絡，先由陳泰龍依指示於民國93年4月3日前往泰國，並於同年月7日與陳玉婉在泰國曼谷市法拉坎農區註冊辦事處登記結婚，取得上開註冊辦事處核發之結婚登記書、結婚證書等文件後，陳泰龍即行返臺，並於同年5月19日持經我國駐泰國臺北經濟文化辦事處認證之上開結婚登記書、結婚證書等資料，至臺南縣永康市戶政事務所填寫結婚登記申請書，申請辦理其與陳玉婉之結婚登記，因此使上開戶政事務所僅有形式審查權之承辦公務員陷於錯誤，於形式上審核後，將陳泰龍與陳玉婉於93年4月7日結婚之不實事項，登載於其職務上所掌屬公文書之戶籍登記資料內，並據以核發戶籍謄本，而足以生損害於戶政機關對於戶政管理及戶籍登記資料維護之正確性。\n",
            "=======================================================\n",
            "1: 乙、實體方面：一、訊據被告固坦承於上開時、地，透過共犯林清水之介紹，先至泰國辦理與共犯陳玉婉之結婚手續，再前往臺南縣永康市戶政事務所辦理結婚登記，又前往臺南縣政府警察局外事課辦理共犯陳玉婉之外僑居留證及申請居留證延期之事實，惟矢口否認有何行使使公務員登載不實文書情事，於本院審理時辯稱：伊當時經濟狀況良好，因同居女友欲去日本工作而不願結婚，然伊希望結婚生子，遂透過共犯林清水之介紹與安排，共犯林清水先讓伊看過共犯陳玉婉之照片，伊再前往泰國與共犯陳玉婉結婚，伊僅負擔自己的來回機票錢及泰國住宿費用，其他結婚費用均由共犯林清水負擔，伊則贈送伊的一部機車予共犯林清水以為回報，伊並不認識共犯詹巧薇云云\n",
            "2: 迨共犯陳玉婉來臺後，為取得居留身分，被告與共犯陳玉婉於同年6月14日及94年5月5日，均持前開戶籍謄本等資料，先後向臺南縣政府警察局外事課申請核發共犯陳玉婉之外僑居留證及申請居留證延期等情，業據被告供承在卷，並有結婚登記申請書、授權書各1份、結婚登記書、結婚證書各1份（含中文、泰文影本及我國駐泰國臺北經濟文化辦事處認證之資料）、93年6月14日及94年5月5日之外國人居留停留案件聲請表各1份、被告及共犯陳玉婉之入出國日期紀錄各1份、共犯陳玉婉之外僑居留資料查詢1份在卷可按（見警三卷即南市警一刑偵字第0994101517號卷第6至24、33頁）\n",
            "3: 上開事實，首堪認定\n",
            "4: 理由甲、程序方面：一、本件以下所引用具傳聞證據性質之供述證據，因本件被告陳泰龍、檢察官等人於本院準備程序進行時，均未爭執前開陳述之證據能力，且迄至本案言詞辯論終結前亦均未聲明異議，應視為已同意援引作為證據，又本院審酌前開證據作成時之情況及證據取得過程等節，並無非出於任意性、不正取供或其他違法不當情事，且客觀上亦無顯不可信之情況，堪認為適當，是依刑事訴訟法第159條之5規定，均有證據能力\n",
            "5: 二、卷附之被告及陳玉婉入出國日期紀錄各1份等書證，均非屬供述證據，皆無傳聞法則之適用，復均無違反法定程序取得之情形，依刑事訴訟法第158條之4規定之反面解釋，均應有證據能力\n",
            "6: 一、陳泰龍明知其與泰國籍女子陳玉婉（泰國名字為JARUWANWONGPRATOOM，陳玉婉涉嫌本案偽造文書部分，另經臺灣臺南地方法院檢察署檢察官通緝中）間並無結婚之真意，然因詹巧薇、張晉源等人欲找臺灣男子前往泰國與泰國女子辦理假結婚，林清水負責介紹臺灣男子予詹巧薇、張晉源等人以賺取新臺幣（下同）1萬元之仲介費，適陳泰龍依林清水於報紙上刊登之徵人廣告應徵時，由林清水告知泰國女子欲以假結婚之方式申請來臺居留工作，其若擔任假結婚之人頭老公，除不用負擔前往泰國之食宿、機票費用外，尚可獲取5、6萬元之報酬，迨陳泰龍應允同意後，林清水將其轉介紹予詹巧薇、張晉源等人，陳泰龍遂與林清水、詹巧薇、張晉源等人共同基於行使使公務員登載不實公文書之概括犯意聯絡，先由陳泰龍依指示於民國93年4月3日前往泰國，並於同年月7日與陳玉婉在泰國曼谷市法拉坎農區註冊辦事處登記結婚，取得上開註冊辦事處核發之結婚登記書、結婚證書等文件後，陳泰龍即行返臺，並於同年5月19日持經我國駐泰國臺北經濟文化辦事處認證之上開結婚登記書、結婚證書等資料，至臺南縣永康市（改制前稱謂，以下沿用舊制稱謂）戶政事務所填寫結婚登記申請書，申請辦理其與陳玉婉之結婚登記，因此使上開戶政事務所僅有形式審查權之承辦公務員陷於錯誤，於形式上審核後，將陳泰龍與陳玉婉於93年4月7日結婚之不實事項，登載於其職務上所掌屬公文書之戶籍登記資料內，並據以核發戶籍謄本，而足以生損害於戶政機關對於戶政管理及戶籍登記資料維護之正確性\n",
            "7: 經查：(一)被告於93年4月3日前往泰國，並於同年月7日與共犯陳玉婉在泰國曼谷市法拉坎農區註冊辦事處登記結婚，取得上開註冊辦事處核發之結婚登記書、結婚證書等文件後，被告即行返臺，並於同年5月19日持經我國駐泰國臺北經濟文化辦事處認證之上開結婚登記書、結婚證書等資料，至臺南縣永康市戶政事務所填寫結婚登記申請書，申請辦理其與共犯陳玉婉之結婚登記，並取得戶籍謄本\n",
            "8: 迨陳玉婉來臺後，為取得居留身分，再由陳泰龍、陳玉婉承前概括之犯意聯絡，於同年6月14日及94年5月5日，均持前開登載不實之戶籍謄本等資料，先後向臺南縣政府警察局外事課申請核發陳玉婉之外僑居留證及申請居留證延期而連續行使之（業經檢察官當庭補充），經承辦人員實質審查結果，均未發覺陳泰龍與陳玉婉假結婚之實情，而發給陳玉婉居留證或核准延期，各足以生損害於主管機關對外僑居留管理之正確性\n",
            "9:  二、案經臺南市警察局（現改制為臺南市政府警察局，以下沿用舊制稱謂）第一分局報告臺灣臺南地方法院檢察署檢察官偵查起訴\n",
            "10: (二)共犯詹巧薇、張晉源等人當時欲找臺灣人與泰國女子結婚，由共犯林清水於報紙上刊登徵人廣告，若應徵者符合與泰國人結婚之條件，便將應徵者介紹予共犯詹巧薇、張晉源等人，共犯林清水可從中獲取1萬元之仲介費，適被告依前開徵人廣告應徵，共犯林清水衡量其條件後告知其可至泰國結婚，其除不用負擔前往泰國之機票及食宿費用外，尚可獲取5至6萬元之報酬，被告應允同意後，共犯林清水將其介紹予詹巧薇、張晉源等人，被告即依指示前往泰國與為了來臺工作且無結婚真意的共犯陳玉婉辦理結婚事宜等情，業據共犯林清水於警詢時證稱：伊登報徵人到泰國結婚，被告看報紙來的，伊便轉介予共犯詹巧薇，由共犯詹巧薇安排後續到泰國結婚之事宜，被告除不用負擔前往泰國機票、食宿等費用，尚可獲取約5至6萬元酬勞，伊則可自共犯詹巧薇獲取約1萬元之仲介費用；伊只有將被告轉介予共犯詹巧薇，並未參與後續被告前往泰國之證照、機票、食宿等相關事宜；被告係因缺錢，為了賺取擔任人頭配偶的佣金5至6萬，並不是真的要與泰國人結婚，共犯陳玉婉係為了來臺灣工作賺錢，亦不是真的要與臺灣人結婚等語（見警三卷第2至3頁）；並於本院審理時具結證稱：當初共犯詹巧薇、張晉源等人欲找男子前往泰國結婚，伊曾刊登「男、女不限、經驗不拘」等內容之徵人廣告，被告見報應徵時，被告係因缺錢才來找伊，伊衡量被告條件後認為其只能利用結婚賺取報酬，伊才向其表示是要辦結婚，伊告知被告可安排其去泰國結婚，其不用負擔食宿及機票等費用，可實拿5至6萬元的報酬，被告同意後，伊將被告介紹予共犯詹巧薇、張晉源，共犯張晉源給付佣金1萬元予伊；伊與被告談論泰國結婚事宜時，伊與被告均不知被告之結婚對象為何人，伊亦未見過與被告結婚之泰國女子，伊僅介紹被告予共犯詹巧薇、張晉源等人，伊並未參予後續之泰國結婚、辦理結婚登記及居留申請等事情；被告曾給伊一部機車，當時被告表示要去別的地方，機車留在臺南無人使用，伊修理使用一段期間後，因再度壞掉便未再使用等語（見本院卷第68頁背面至71頁）\n",
            "--->\n",
            " 1: 被告明知與泰國籍女子陳玉婉（JARUWANWONGPRATOOM）間並無結婚真意，仍與林清水、詹巧薇、張晉源等人共同基於行使使公務員登載不實公文書之概括犯意聯絡，辦理假結婚並申請來臺居留工作。\n",
            "2: 陳泰龍與陳玉婉在泰國辦理結婚手續後，返回臺灣，持相關文件至戶政事務所及警察局外事課辦理結婚登記及居留證申請，使承辦人員陷於錯誤，核發戶籍謄本和居留證。\n",
            "3: 本案經臺南市警察局第一分局報告臺灣臺南地方法院檢察署檢察官偵查起訴。\n",
            "=======================================================\n",
            "1: 乙、實體方面：一、訊據被告固坦承於上開時、地，透過共犯林清水之介紹，先至泰國辦理與共犯陳玉婉之結婚手續，再前往臺南縣永康市戶政事務所辦理結婚登記，又前往臺南縣政府警察局外事課辦理共犯陳玉婉之外僑居留證及申請居留證延期之事實，惟矢口否認有何行使使公務員登載不實文書情事，於本院審理時辯稱：伊當時經濟狀況良好，因同居女友欲去日本工作而不願結婚，然伊希望結婚生子，遂透過共犯林清水之介紹與安排，共犯林清水先讓伊看過共犯陳玉婉之照片，伊再前往泰國與共犯陳玉婉結婚，伊僅負擔自己的來回機票錢及泰國住宿費用，其他結婚費用均由共犯林清水負擔，伊則贈送伊的一部機車予共犯林清水以為回報，伊並不認識共犯詹巧薇云云\n",
            "2: 迨共犯陳玉婉來臺後，為取得居留身分，被告與共犯陳玉婉於同年6月14日及94年5月5日，均持前開戶籍謄本等資料，先後向臺南縣政府警察局外事課申請核發共犯陳玉婉之外僑居留證及申請居留證延期等情，業據被告供承在卷，並有結婚登記申請書、授權書各1份、結婚登記書、結婚證書各1份（含中文、泰文影本及我國駐泰國臺北經濟文化辦事處認證之資料）、93年6月14日及94年5月5日之外國人居留停留案件聲請表各1份、被告及共犯陳玉婉之入出國日期紀錄各1份、共犯陳玉婉之外僑居留資料查詢1份在卷可按（見警三卷即南市警一刑偵字第0994101517號卷第6至24、33頁）\n",
            "3: 上開事實，首堪認定\n",
            "4: 理由甲、程序方面：一、本件以下所引用具傳聞證據性質之供述證據，因本件被告陳泰龍、檢察官等人於本院準備程序進行時，均未爭執前開陳述之證據能力，且迄至本案言詞辯論終結前亦均未聲明異議，應視為已同意援引作為證據，又本院審酌前開證據作成時之情況及證據取得過程等節，並無非出於任意性、不正取供或其他違法不當情事，且客觀上亦無顯不可信之情況，堪認為適當，是依刑事訴訟法第159條之5規定，均有證據能力\n",
            "5: 二、卷附之被告及陳玉婉入出國日期紀錄各1份等書證，均非屬供述證據，皆無傳聞法則之適用，復均無違反法定程序取得之情形，依刑事訴訟法第158條之4規定之反面解釋，均應有證據能力\n",
            "6: 一、陳泰龍明知其與泰國籍女子陳玉婉（泰國名字為JARUWANWONGPRATOOM，陳玉婉涉嫌本案偽造文書部分，另經臺灣臺南地方法院檢察署檢察官通緝中）間並無結婚之真意，然因詹巧薇、張晉源等人欲找臺灣男子前往泰國與泰國女子辦理假結婚，林清水負責介紹臺灣男子予詹巧薇、張晉源等人以賺取新臺幣（下同）1萬元之仲介費，適陳泰龍依林清水於報紙上刊登之徵人廣告應徵時，由林清水告知泰國女子欲以假結婚之方式申請來臺居留工作，其若擔任假結婚之人頭老公，除不用負擔前往泰國之食宿、機票費用外，尚可獲取5、6萬元之報酬，迨陳泰龍應允同意後，林清水將其轉介紹予詹巧薇、張晉源等人，陳泰龍遂與林清水、詹巧薇、張晉源等人共同基於行使使公務員登載不實公文書之概括犯意聯絡，先由陳泰龍依指示於民國93年4月3日前往泰國，並於同年月7日與陳玉婉在泰國曼谷市法拉坎農區註冊辦事處登記結婚，取得上開註冊辦事處核發之結婚登記書、結婚證書等文件後，陳泰龍即行返臺，並於同年5月19日持經我國駐泰國臺北經濟文化辦事處認證之上開結婚登記書、結婚證書等資料，至臺南縣永康市（改制前稱謂，以下沿用舊制稱謂）戶政事務所填寫結婚登記申請書，申請辦理其與陳玉婉之結婚登記，因此使上開戶政事務所僅有形式審查權之承辦公務員陷於錯誤，於形式上審核後，將陳泰龍與陳玉婉於93年4月7日結婚之不實事項，登載於其職務上所掌屬公文書之戶籍登記資料內，並據以核發戶籍謄本，而足以生損害於戶政機關對於戶政管理及戶籍登記資料維護之正確性\n",
            "7: 經查：(一)被告於93年4月3日前往泰國，並於同年月7日與共犯陳玉婉在泰國曼谷市法拉坎農區註冊辦事處登記結婚，取得上開註冊辦事處核發之結婚登記書、結婚證書等文件後，被告即行返臺，並於同年5月19日持經我國駐泰國臺北經濟文化辦事處認證之上開結婚登記書、結婚證書等資料，至臺南縣永康市戶政事務所填寫結婚登記申請書，申請辦理其與共犯陳玉婉之結婚登記，並取得戶籍謄本\n",
            "8: 迨陳玉婉來臺後，為取得居留身分，再由陳泰龍、陳玉婉承前概括之犯意聯絡，於同年6月14日及94年5月5日，均持前開登載不實之戶籍謄本等資料，先後向臺南縣政府警察局外事課申請核發陳玉婉之外僑居留證及申請居留證延期而連續行使之（業經檢察官當庭補充），經承辦人員實質審查結果，均未發覺陳泰龍與陳玉婉假結婚之實情，而發給陳玉婉居留證或核准延期，各足以生損害於主管機關對外僑居留管理之正確性\n",
            "9:  二、案經臺南市警察局（現改制為臺南市政府警察局，以下沿用舊制稱謂）第一分局報告臺灣臺南地方法院檢察署檢察官偵查起訴\n",
            "10: (二)共犯詹巧薇、張晉源等人當時欲找臺灣人與泰國女子結婚，由共犯林清水於報紙上刊登徵人廣告，若應徵者符合與泰國人結婚之條件，便將應徵者介紹予共犯詹巧薇、張晉源等人，共犯林清水可從中獲取1萬元之仲介費，適被告依前開徵人廣告應徵，共犯林清水衡量其條件後告知其可至泰國結婚，其除不用負擔前往泰國之機票及食宿費用外，尚可獲取5至6萬元之報酬，被告應允同意後，共犯林清水將其介紹予詹巧薇、張晉源等人，被告即依指示前往泰國與為了來臺工作且無結婚真意的共犯陳玉婉辦理結婚事宜等情，業據共犯林清水於警詢時證稱：伊登報徵人到泰國結婚，被告看報紙來的，伊便轉介予共犯詹巧薇，由共犯詹巧薇安排後續到泰國結婚之事宜，被告除不用負擔前往泰國機票、食宿等費用，尚可獲取約5至6萬元酬勞，伊則可自共犯詹巧薇獲取約1萬元之仲介費用；伊只有將被告轉介予共犯詹巧薇，並未參與後續被告前往泰國之證照、機票、食宿等相關事宜；被告係因缺錢，為了賺取擔任人頭配偶的佣金5至6萬，並不是真的要與泰國人結婚，共犯陳玉婉係為了來臺灣工作賺錢，亦不是真的要與臺灣人結婚等語（見警三卷第2至3頁）；並於本院審理時具結證稱：當初共犯詹巧薇、張晉源等人欲找男子前往泰國結婚，伊曾刊登「男、女不限、經驗不拘」等內容之徵人廣告，被告見報應徵時，被告係因缺錢才來找伊，伊衡量被告條件後認為其只能利用結婚賺取報酬，伊才向其表示是要辦結婚，伊告知被告可安排其去泰國結婚，其不用負擔食宿及機票等費用，可實拿5至6萬元的報酬，被告同意後，伊將被告介紹予共犯詹巧薇、張晉源，共犯張晉源給付佣金1萬元予伊；伊與被告談論泰國結婚事宜時，伊與被告均不知被告之結婚對象為何人，伊亦未見過與被告結婚之泰國女子，伊僅介紹被告予共犯詹巧薇、張晉源等人，伊並未參予後續之泰國結婚、辦理結婚登記及居留申請等事情；被告曾給伊一部機車，當時被告表示要去別的地方，機車留在臺南無人使用，伊修理使用一段期間後，因再度壞掉便未再使用等語（見本院卷第68頁背面至71頁）\n",
            "--->\n",
            " 1. 被告依林清水的介紹前往泰國與共犯陳玉婉辦理結婚手續，並取得戶籍謄本。\n",
            "2. 被告與共犯陳玉婉共同行使使公務員登載不實文書，以取得共犯陳玉婉之外僑居留證及居留證延期。\n",
            "3. 被告與共犯林清水、詹巧薇、張晉源等人共同基於行使使公務員登載不實公文書之概括犯意聯絡。\n",
            "=======================================================\n"
          ]
        }
      ],
      "source": [
        "print(prompt1)\n",
        "print(\"--->\")\n",
        "print(get_breeze(query+prompt1))\n",
        "print(\"=======================================================\")\n",
        "print(prompt1)\n",
        "print(\"--->\")\n",
        "print(get_breeze(query+prompt2))\n",
        "print(\"=======================================================\")\n",
        "print(prompt1)\n",
        "print(\"--->\")\n",
        "print(get_breeze(query+prompt3))\n",
        "print(\"=======================================================\")"
      ]
    },
    {
      "cell_type": "markdown",
      "metadata": {
        "id": "wk4iHybNSeCl"
      },
      "source": [
        "# summarize"
      ]
    },
    {
      "cell_type": "code",
      "execution_count": 8,
      "metadata": {
        "id": "PI9tz0-eSlqB"
      },
      "outputs": [],
      "source": [
        "query = \"我想請你幫我對一篇判決書做Extraction-based summarization，我已經將這篇判決書切成多個句子，請幫我從以下句子中挑選出和犯罪事實情節最相關的3個句子。\\n\""
      ]
    },
    {
      "cell_type": "code",
      "execution_count": 9,
      "metadata": {
        "id": "-YatOo_3VIiO"
      },
      "outputs": [],
      "source": [
        "def generate_prompt(query, facts):\n",
        "  for i, fact in enumerate(facts):\n",
        "    query = query + f'{i+1}: {fact}\\n'\n",
        "  return query"
      ]
    },
    {
      "cell_type": "code",
      "execution_count": 10,
      "metadata": {
        "id": "2biQ1vYtU3lu"
      },
      "outputs": [],
      "source": [
        "def remove_prefix_and_colon(text):\n",
        "    lines = text.strip().split('\\n')\n",
        "    processed_lines = []\n",
        "    for line in lines:\n",
        "        processed_line = line.split(':')[-1].strip()\n",
        "        processed_lines.append(processed_line)\n",
        "    return processed_lines"
      ]
    },
    {
      "cell_type": "code",
      "execution_count": 11,
      "metadata": {
        "id": "6RpUJm0AUmLu"
      },
      "outputs": [],
      "source": [
        "def extract_sentences(query, sentences):\n",
        "    # print(generate_prompt(query, sentences))\n",
        "    ans = get_breeze(generate_prompt(query, sentences))\n",
        "    # print(ans)\n",
        "    # print(\"========================================\")\n",
        "    return remove_prefix_and_colon(ans)"
      ]
    },
    {
      "cell_type": "code",
      "execution_count": null,
      "metadata": {
        "colab": {
          "base_uri": "https://localhost:8080/"
        },
        "id": "rmm7jw_HVrrN",
        "outputId": "1a0cb35b-9c82-4872-894d-c477b3e611c3"
      },
      "outputs": [
        {
          "name": "stdout",
          "output_type": "stream",
          "text": [
            " 1. 被告明知與泰國籍女子陳玉婉（JARUWANWONGPRATOOM）間並無結婚之真意，仍與林清水、詹巧薇、張晉源等人共同基於行使使公務員登載不實公文書之概括犯意聯絡，辦理假結婚手續。\n",
            "2. 被告與陳玉婉在泰國辦理結婚手續後，返回臺灣辦理結婚登記，使承辦公務員陷於錯誤，登載不實事項於戶籍登記資料內，核發戶籍謄本。\n",
            "3. 陳玉婉來臺後，為取得居留身分，被告與她共同向臺南縣政府警察局外事課申請核發居留證及延期，承辦人員實質審查結果未發覺假結婚，而核發居留證或核准延期。\n"
          ]
        }
      ],
      "source": [
        "result = extract_sentences(query, train_facts_sentences[0][:10])"
      ]
    },
    {
      "cell_type": "code",
      "execution_count": null,
      "metadata": {
        "colab": {
          "base_uri": "https://localhost:8080/"
        },
        "id": "rHsn4LUqV1yB",
        "outputId": "765a5dc2-923a-45d5-f37e-646259dfeea9"
      },
      "outputs": [
        {
          "data": {
            "text/plain": [
              "['1. 被告明知與泰國籍女子陳玉婉（JARUWANWONGPRATOOM）間並無結婚之真意，仍與林清水、詹巧薇、張晉源等人共同基於行使使公務員登載不實公文書之概括犯意聯絡，辦理假結婚手續。',\n",
              " '2. 被告與陳玉婉在泰國辦理結婚手續後，返回臺灣辦理結婚登記，使承辦公務員陷於錯誤，登載不實事項於戶籍登記資料內，核發戶籍謄本。',\n",
              " '3. 陳玉婉來臺後，為取得居留身分，被告與她共同向臺南縣政府警察局外事課申請核發居留證及延期，承辦人員實質審查結果未發覺假結婚，而核發居留證或核准延期。']"
            ]
          },
          "execution_count": 161,
          "metadata": {},
          "output_type": "execute_result"
        }
      ],
      "source": [
        "result"
      ]
    },
    {
      "cell_type": "code",
      "execution_count": null,
      "metadata": {
        "id": "JUxI621bVjDm"
      },
      "outputs": [],
      "source": [
        "def generate_summary(query, facts_sentences):\n",
        "    summaries = []\n",
        "    for fact_sentences in facts_sentences:\n",
        "        extracted_sentences = []\n",
        "        for i in range(0, len(fact_sentences), 10):  # 每次处理10个句子\n",
        "            sentences_subset = fact_sentences[i:i+10]\n",
        "            extracted_subset = extract_sentences(query, sentences_subset)\n",
        "            extracted_sentences.extend(extracted_subset)\n",
        "        final_summary = extract_sentences(query, extracted_sentences)\n",
        "        summaries.append(final_summary)\n",
        "    return summaries"
      ]
    },
    {
      "cell_type": "markdown",
      "source": [
        "## 前三個印出來看看"
      ],
      "metadata": {
        "id": "s0y_ZE_vYONJ"
      }
    },
    {
      "cell_type": "code",
      "execution_count": null,
      "metadata": {
        "colab": {
          "base_uri": "https://localhost:8080/"
        },
        "id": "W8krz0LFSnM6",
        "outputId": "1131fb79-2560-46aa-a844-a395aa0dbad9"
      },
      "outputs": [
        {
          "name": "stdout",
          "output_type": "stream",
          "text": [
            "我想請你幫我對一篇判決書做Extraction-based summarization，我已經將這篇判決書切成多個句子，請幫我從以下句子中挑選出和犯罪事實情節最相關的3個句子。\n",
            "1: ○、緣徐鴻光（所涉行使偽造私文書犯行，業經本院以95年度訴字第955號判決處有期徒刑3月、緩刑3年確定）因需款使用，知悉穆立明有借款管道，為求順利借款，2人竟共同意圖為自己不法所有，基於行使偽造私文書及詐欺取財之犯意聯絡，知悉車牌號碼00-000號營業小客車係徐鴻光向志朗交通有限公司（下稱志朗公司）租賃之車輛，竟由穆立明先於不詳時間、不詳地點，偽刻「志朗交通有限公司」及負責人「陳健志」印章（正確姓名為陳建志，誤刻為「陳健志」）各1枚，並偽造「陳健志」代表志朗公司與徐鴻光簽署之「臺北市計程車客運駕駛人自備車輛參與經營契約書」（下稱本案參與經營契約書），虛偽記載徐鴻光提供上述營業小客車靠行志朗公司營業等不實內容，並持上開偽刻印章，偽造「志朗交通有限公司」印文4枚、「陳健志」印文6枚於本案參與經營契約書上，再於92年3月6日交徐鴻光於立約人乙方欄簽名，2人復於同日協同不知情之徐鴻光配偶徐樂仁（所涉行使偽造私文書犯行，業經本院以95年度訴字第955號判決無罪確定），前往臺北市○○區○○街00巷0號2樓王傑生所經營之宏帝當舖（現更名為渣打當舖），由徐鴻光、穆立明交付偽造本案參與經營契約書向宏帝當鋪借款新臺幣（下同）10萬元以為行使，並約定由徐樂仁擔任連帶保證人，王傑生誤信上開車輛為徐鴻光所有而陷入錯誤，於扣除利息後交付9萬1千元借款予徐鴻光夫婦，足以生損害於志朗公司、陳建志、王傑生\n",
            "2: 嗣因徐鴻光僅清償每期7千元之分期款共11期計7萬7千元，未全額清償即無力負擔債務，王傑生始查知上開車輛非徐鴻光所有，而悉上情\n",
            "3: 二、案經王傑生訴由臺灣士林地方法院檢察署檢察官偵查起訴\n",
            "4: 理由○、證據能力部分：被告以外之人於審判外之言詞或書面陳述，除法律有規定者外，不得作為證據；又被告以外之人於審判外之陳述，雖不符合同法第159條之1至第159條之4之規定，但經當事人於審判程序同意作為證據，法院審酌該言詞陳述或書面陳述作成時之情況，認為適當者，亦得為證據\n",
            "5: 刑事訴訟法第159條第1項及第159條之5第1項分別定有明文\n",
            "6: 經查，本判決所引用之各該被告以外之人於審判外之陳述，雖屬傳聞證據，然當事人於本院審判期日中均表示同意作為證據方法而不予爭執，且迄至言詞辯論終結前亦未再聲明異議（見本院卷第68頁至第68頁背面），本院審酌上開證據資料製作時之情況，尚無違法不當及證明力明顯過低之瑕疵，亦認為以之作為證據應屬適當，故揆諸前開規定，爰依刑事訴訟法第159條之5規定，認前揭證據資料均有證據能力\n",
            "7: 二、認定犯罪事實所憑之證據及理由：（一）訊據被告穆立明固坦承有於92年3月6日帶共同被告徐鴻光、徐樂仁至宏帝當鋪借錢，惟矢口否認有何行使偽造私文書及詐欺取財之犯行，辯稱：本案參與經營契約書係由共同被告徐鴻光所提出，徐鴻光知道我在宏帝當舖當業務員，他因資金不夠，要伊帶至宏帝當鋪借錢，伊請徐鴻光帶身分證、本案參與經營契約書，證明計程車係屬於徐鴻光所有，另外要帶一位保人云云\n",
            "8: （二）經查，證人即志英交通公司負責人陳建志於檢察官偵查中結證稱：本案參與經營契約書上之「志朗交通有限公司」、「陳健志」之印文均非我公司的大小章，志朗交通公司也是我的公司，我是負責人，但這個章不是我的，被告徐鴻光只是加入無線電台等語（見94年度偵字第8715號卷第45頁），復有其提出真正之志朗交通有限公司及其本人陳建志之印文各4枚在卷可稽（見94年度偵字第8715號卷第48頁），經核卷附本案參與經營契約書上所示之「志朗交通有限公司」、「陳健志」印文（見95年度偵緝字第60號卷第53頁），除二者字體明顯不同外，本案參與經營契約書中「陳健志」名字中之「健」一字顯係錯別字，堪認本案參與經營契約書上所示之「志朗交通有限公司」、「陳健志」印文確屬偽造一節，應可認定\n",
            "9: （三）證人即告訴人王傑生於檢察官偵查中證稱：我經營宏帝當鋪，後改名為渣打當鋪，地址在臺北市○○街00巷0號2樓，計程車典當給我們時，我們要看參與經營契約書，被告徐鴻光有來借錢，被告穆立明當時有在場，徐鴻光給我們看本案參與經營契約書，我們就以為車子是徐鴻光的，我們找到車之後才知道車子是車行的，被告穆立明是我們公司抽獎金的業務員，穆立明介紹人來借錢，我給他獎金等語（見94年度偵字第8715號卷第37頁、95年度偵緝字第60號卷第49頁、第68頁），且證人朱庭峰於檢察官偵查中及本院審理時亦結證稱：我是宏帝當鋪的負責人，後來當鋪讓給王傑生，被告徐鴻光到宏帝當鋪借款10萬元，係由我接洽，當時是被告穆立明介紹，穆立明不是公司職員，他會介紹車子到我們公司來典當，我會給穆立明佣金，即我收到1,000元利息，就給他100元，本案參與經營契約書是由穆立明拿出來等語（見95年度偵緝字第60號卷第68頁至第69頁、95年度訴字第955號卷第66頁至第67頁），復有本案參與經營契約書、本票影本各1份附卷可憑（見94年度偵字第8715號卷第14頁至第17頁），足認共同被告徐鴻光係經被告穆立明介紹，持本案參與經營契約書於上開時間前往宏帝當鋪借款10萬元，且被告穆立明於借款時在場之事實，洵堪認定\n",
            "10: （四）被告穆立明雖辯稱：本案參與經營契約書係共同被告徐鴻光所提出，伊僅有將徐鴻光帶去當鋪，就由當舖的人接洽云云，惟查，證人即共同被告徐鴻光於本院審理時證稱：因為我當司機收入不高，家裡有需要用錢，被告穆立明說有辦法借錢，我請被告穆立明帶我去借款，被告穆立明有帶我去當鋪，我太太徐樂仁當時有一起陪同，卷附之本票影本係我當時在當鋪簽立，而本案參與經營契約書係被告穆立明幫我準備好的，經我在當舖蓋我的章及簽名，被告穆立明拿給我時契約書已經寫好資料，至於被告穆立明提出本案參與經營契約書之來源我不知道，被告穆立明只有要我帶駕照、行照、身分證及私章，車號00-000號營業用小客車是我用租的車子，車子是志朗公司的車子，本案參與經營契約書內容不是真的，車子不是我自備的，只有契約書末頁乙方的簽名是我簽的等語（見本院卷第64頁至第66頁背面），核與其在檢察官偵查中證稱：被告穆立明有帶我去宏帝當鋪向朱先生借錢，我借10萬元，本案參與經營契約書係被告穆立明幫我準備好的，前面的簽名及資料是被告穆立明簽的，只有最後的簽名是我簽的等語大致相符（見95年度偵緝字第60號卷第48頁至第49頁），再查，參以被告穆立明於本院審理時當庭書寫徐鴻光名字之字跡經與本案參與經營契約書立契約書人一欄所簽署「徐鴻光」之筆跡比對後（見本院卷第73頁），依肉眼觀之，不論字跡之運筆、筆勾等字體外觀，均較為吻合，反觀該契約書頁末之乙方「徐鴻光」之筆跡，與頁首立契約書人一欄所簽署「徐鴻光」之筆跡之運筆及筆勾，字跡明顯不同，是被告穆立明辯稱本案參與經營契約書係由共同被告徐鴻光提出云云，已難採信；又證人徐鴻光於本院審理時證稱：我曾經用上開車輛向別的當鋪借錢，當時別的當鋪說車子用租的也可以借，只要押行照在那裡即可，不需要像本件一樣的契約，本件是我去當鋪，他們說該簽名的地方，我就簽名，且是我透過別的司機得知被告穆立明可以幫我問問哪裡可以借錢，所以才找被告穆立明等語（見本院卷第65頁背面至第66頁背面），衡以證人徐鴻光涉犯本案犯行業經本院認定有罪確定，自應無虛偽陳述之動機，且被告穆立明自承與證人徐鴻光無糾紛，同為排班計程車司機，為點頭之交乙情，亦認證人徐鴻光無涉詞誣陷被告穆立明之可能；再參以證人王傑生、朱庭峰皆證述本案參與經營契約書係由被告穆立明提出一節，又被告並不否認宏帝當舖僅同意典當個人所有靠行之車輛，不同意典當向車行租的車輛等情，而本件共同被告徐鴻光既有提供行照予被告穆立明，業經其證述如前，則自行照之記載內容即可知悉上開車輛所有人為何人，被告穆立明豈有不知上開車輛所有人為何人之理，況被告穆立明供認介紹共同被告徐鴻光予宏帝當鋪借錢有利息百分之十之報酬等語（見本院卷第69頁背面），其當有可能為促成徐鴻光與宏帝當鋪借款，而提出本案經營契約書供作本件借款之用，是被告穆立明辯稱車子是徐鴻光說其自己所有，本案參與經營契約書係徐鴻光自行提出云云，顯係事後卸責之詞，不足採信\n",
            "\n",
            " 1: 徐鴻光（所涉行使偽造私文書犯行，業經本院以95年度訴字第955號判決處有期徒刑3月、緩刑3年確定）因需款使用，知悉穆立明有借款管道，為求順利借款，2人竟共同意圖為自己不法所有，基於行使偽造私文書及詐欺取財之犯意聯絡，知悉車牌號碼00-000號營業小客車係徐鴻光向志朗交通有限公司（下稱志朗公司）租賃之車輛，竟由穆立明先於不詳時間、不詳地點，偽刻「志朗交通有限公司」及負責人「陳健志」印章（正確姓名為陳建志，誤刻為「陳健志」）各1枚，並偽造「陳健志」代表志朗公司與徐鴻光簽署之「臺北市計程車客運駕駛人自備車輛參與經營契約書」（下稱本案參與經營契約書），虛偽記載徐鴻光提供上述營業小客車靠行志朗公司營業等不實內容，並持上開偽刻印章，偽造「志朗交通有限公司」印文4枚、「陳健志」印文6枚於本案參與經營契約書上，再於92年3月6日交徐鴻光於立約人乙方欄簽名，2人復於同日協同不知情之徐鴻光配偶徐樂仁（所涉行使偽造私文書犯行，業經本院以95年度訴字第955號判決無罪確定），前往臺北市○○區○○街00巷0號2樓王傑生所經營之宏帝當舖（現更名為渣打當舖），由徐鴻光、穆立明交付偽造本案參與經營契約書向宏帝當鋪借款新臺幣（下同）10萬元以為行使，並約定由徐樂仁擔任連帶保證人，王傑生誤信上開車輛為徐鴻光所有而陷入錯誤，於扣除利息後交付9萬1千元借款予徐鴻光夫婦，足以生損害於志朗公司、陳建志、王傑生。\n",
            "2: 嗣因徐鴻光僅清償每期7千元之分期款共11期計7萬7千元，未全額清償即無力負擔債務，王傑生始查知上開車輛非徐鴻光所有，而悉上情。\n",
            "========================================\n",
            "我想請你幫我對一篇判決書做Extraction-based summarization，我已經將這篇判決書切成多個句子，請幫我從以下句子中挑選出和犯罪事實情節最相關的3個句子。\n",
            "1: （五）綜上所述，被告上開所辯各節，無非事後避重就輕、圖卸之詞，不足採信，被告行使偽造私文書及詐欺取財等犯行，事證明確，應依法論科\n",
            "2: 三、論罪科刑部分：（一）按被告行為後，94年2月2日修正公布之刑法已於95年7月1日生效施行，其中第2條第1項「行為後法律有變更者，適用行為時之法律\n",
            "3: 但行為後之法律有利於行為人者，適用最有利於行為人之法律」之規定，係規範行為後法律變更所生新、舊法律比較適用之準據法，並非刑法實體法律，自不生行為後法律變更之比較適用問題，故刑法修正施行後，應適用該修正後之第2條第1項之規定，依「從舊、從輕」之原則比較新、舊法律之適用；又比較新舊法時，應就罪刑有關之共犯、未遂犯、想像競合犯、牽連犯、連續犯、結合犯，以及累犯加重、自首減輕暨其他法定加減原因（如身分加減）與加減例等一切情形，綜其全部罪刑之結果而為比較後，再適用有利於行為人之法律處斷，而不得一部割裂分別適用不同之新、舊法（最高法院24年上字第4634號、29年上字第964號判例意旨及最高法院95年度第8次刑事庭會議決議參照）\n",
            "4: 經查：1.刑法第33條第5款關於罰金刑之規定業於94年2月2日修正，於95年7月1日生效，修正前刑法第33條第5款規定：「罰金：1元（銀元）以上\n",
            "5: 」，並依現行法規所定貨幣單位折算新臺幣條例規定，以銀元1元折算新臺幣3元，故修正前刑法規定罰金之最低數額為新臺幣3元；修正後刑法第33條第5款規定：「罰金：新臺幣1,000元以上，以百元計算之\n",
            "6: 」，故修正後刑法規定罰金之最低數額提高為新臺幣1,000元；比較上開罰金刑之最高數額，於修正後並無不同，惟修正後刑法第33條第5款所定罰金刑最低數額，既較修正前提高，依前開說明，應適用對被告有利之修正前刑法第33條第5款之規定\n",
            "7: 2.修正前刑法第28條規定：「二人以上共同實施犯罪之行為者，皆為正犯\n",
            "8: 」，修正後該條規定為：「二人以上共同實行犯罪之行為者，皆為正犯\n",
            "9: 」，揆諸本條之修正理由，係為釐清陰謀共同正犯、預備共同正犯、共謀共同正犯是否合乎本條之正犯要件，並將陰謀共同正犯、預備共同正犯剔除於本條適用之外，以符合近代刑法之個人責任原則、法治國人權保障思想及犯罪支配理論，自屬行為後法律有變更，而非僅屬文字修正，應有新舊法比較適用問題（最高法院97年度台上字第37號判決意旨參照）\n",
            "10: 本件被告穆立明與徐鴻光就前揭行使偽造私文書及詐欺取財犯行各具有犯意聯絡及行為分擔，不論依修正前或修正後之規定，均屬共同正犯，對被告並無有利或不利之情形，應適用行為時之法律\n",
            "\n",
            " 1: （五）綜上所述，被告上開所辯各節，無非事後避重就輕、圖卸之詞，不足採信，被告行使偽造私文書及詐欺取財等犯行，事證明確，應依法論科\n",
            "2: 三、論罪科刑部分：（一）按被告行為後，94年2月2日修正公布之刑法已於95年7月1日生效施行，其中第2條第1項「行為後法律有變更者，適用行為時之法律\n",
            "3: 但行為後之法律有利於行為人者，適用最有利於行為人之法律」之規定，係規範行為後法律變更所生新、舊法律比較適用之準據法，並非刑法實體法律，自不生行為後法律變更之比較適用問題，故刑法修正施行後，應適用該修正後之第2條第1項之規定，依「從舊、從輕」之原則比較新、舊法律之適用；又比較新舊法時，應就罪刑有關之共犯、未遂犯、想像競合犯、牽連犯、連續犯、結合犯，以及累犯加重、自首減輕暨其他法定加減原因（如身分加減）與加減例等一切情形，綜其全部罪刑之結果而為比較後，再適用有利於行為人之法律處斷，而不得一部割裂分別適用不同之新、舊法（最高法院24年上字第4634號、29年上字第964號判例意旨及最高法院95年度第8次刑事庭會議決議參照）\n",
            "4: 經查：1.刑法第33條第5款關於罰金刑之規定業於94年2月2日修正，於95年7月1日生效，修正前刑法第33條第5款規定：「罰金：1元（銀元）以上\n",
            "5: 」，並依現行法規所定貨幣單位折算新臺幣條例規定，以銀元1元折算新臺幣3元，故修正前刑法規定罰金之最低數額為新臺幣3元；修正後刑法第33條第5款規定：「罰金：新臺幣1,000元以上，以百元計算之\n",
            "6: 」，故修正後刑法規定罰金之最低數額提高為新臺幣1,000元；比較上開罰金刑之最高數額，於修正後並無不同，惟修正後刑法第33條第5款所定罰金刑最低數額，既較修正前提高，依前開說明，應適用對被告有利之修正前刑法第33條第5款之規定\n",
            "7: 2.修正前刑法第28條規定：「二人以上共同實施犯罪之行為者，皆為正犯\n",
            "8: 」，修正後該條規定為：「二人以上共同實行犯罪之行為者，皆為正犯\n",
            "9: 」，揆諸本條之修正理由，係為釐清陰謀共同正犯、預備共同正犯、共謀共同正犯是否合乎本條之正犯要件，並將陰謀共同正犯、預備共同正犯剔除於本條適用之外，以符合近代刑法之個人責任原則、法治國人權保障思想及犯罪支配理論，自屬行為後法律有變更，而非僅屬文字修正，應有新舊法比較適用問題（最高法院97年度台上字第37號判決意旨參照）\n",
            "10: 本件被告穆立明與徐鴻光就前揭行使偽造私文書及詐欺取財犯行各具有犯意聯絡及行為分擔，不論依修正前或修正後之規定，均屬共同正犯，對被告並無有利或不利之情形，應適用行為時之法律\n",
            "========================================\n",
            "我想請你幫我對一篇判決書做Extraction-based summarization，我已經將這篇判決書切成多個句子，請幫我從以下句子中挑選出和犯罪事實情節最相關的3個句子。\n",
            "1: 3.被告行為後新法業已刪除牽連犯之規定，依舊法成立方法、結果行為而僅論以一罪者，依新法將論以數罪，比較新、舊法結果，自以修正前刑法第55條牽連犯之規定，較有利於被告\n",
            "2: 4.綜此，本院經綜合上述各條文修正前、後之比較，參照前揭最高法院決議及修正後刑法第2條第1項前段、後段規定之「從舊、從輕」原則，被告穆立明上開犯行自應適用行為時之法律，予以論處\n",
            "3: （二）核被告穆立明所為，係犯刑法第216條、第210條之行使偽造私文書罪、同法第339條第1項詐欺取財罪\n",
            "4: 被告穆立明於本案參與經營契約書上偽造「志朗交通有限公司」、「陳健志」印章及印文乃偽造私文書之部分行為，其偽造本案參與經營契約書後持以行使，偽造之低度行為復為行使之高度行為所吸收，均不另論罪\n",
            "5: 被告穆立明與徐鴻光就行使偽造私文書及詐欺之犯行有犯意聯絡及行為分擔，為共同正犯\n",
            "6: 又其等行使偽造私文書之目的，在詐取告訴人之金錢，所犯連續行使偽造私文書與詐欺取財2罪間，有方法、目的之牽連關係，應依修正前刑法第55條規定，從一較重之行使偽造私文書罪處斷\n",
            "7: （三）爰審酌被告穆立明不思以正當途徑賺取錢財，竟偽造志朗公司及其負責人陳建志之印章，進而偽造本案參與經營契約書，而詐取告訴人之金錢，足生損害於志朗公司、陳建志、告訴人，並危害社會交易秩序，所為實有不該，犯後否認犯行，未見悔悟之心，兼衡被告穆立明有違反票據法之前科，有臺灣高等法院被告前案紀錄表在卷可稽（見本院卷第60頁），素行尚可，共同被告徐鴻光於詐得借款後已陸續返還利息予告訴人與朱庭峰，及被告穆立明為高中肄業之智識程度，經濟狀況為小康之生活狀況等一切情狀（見被告警詢筆錄受詢問人欄，本院卷第6頁），量處如主文所示之刑，以資懲儆\n",
            "8: 又關於易科罰金之折算標準，修正前刑法第41條第1項前段規定：「犯最重本刑為5年以下有期徒刑以下之刑之罪，而受6個月以下有期徒刑或拘役之宣告，因身體、教育、職業、家庭之關係或其他正當事由，執行顯有困難者，得以1元以上3元以下折算1日，易科罰金\n",
            "9: 」，再依據修正前罰金罰鍰提高標準條例第2條：「依刑法第41條易科罰金或第42條第2項易服勞役者，均就其原定數額提高為1百倍折算1日；法律所定罰金數額未依本條例提高倍數，或其處罰法條無罰金刑之規定者，亦同\n",
            "10: 」之規定，被告行為時之易科罰金折算標準，應以銀元1百元以上3百元以下折算1日，經折算為新臺幣後，應以新臺幣3百元以上9百元以下折算1日\n",
            "\n",
            " 1: 3.被告行為後新法業已刪除牽連犯之規定，依舊法成立方法、結果行為而僅論以一罪者，依新法將論以數罪，比較新、舊法結果，自以修正前刑法第55條牽連犯之規定，較有利於被告\n",
            "2: 4.綜此，本院經綜合上述各條文修正前、後之比較，參照前揭最高法院決議及修正後刑法第2條第1項前段、後段規定之「從舊、從輕」原則，被告穆立明上開犯行自應適用行為時之法律，予以論處\n",
            "3: （二）核被告穆立明所為，係犯刑法第216條、第210條之行使偽造私文書罪、同法第339條第1項詐欺取財罪\n",
            "========================================\n",
            "我想請你幫我對一篇判決書做Extraction-based summarization，我已經將這篇判決書切成多個句子，請幫我從以下句子中挑選出和犯罪事實情節最相關的3個句子。\n",
            "1: 惟95年7月1日施行之刑法第41條第1項前段規定修正為：「犯最重本刑為5年以下有期徒刑以下之刑之罪，而受6個月以下有期徒刑或拘役之宣告者，得以新臺幣1千元、2千元或3千元折算一日，易科罰金\n",
            "2: 」，另95年7月1日生效施行之罰金罰鍰提高標準條例則刪除原本第2條之規定\n",
            "3: 是以比較新舊法結果，自以舊法所定之易科罰金折算標準有利於被告，故應依修正前刑法第41條第1項前段、修正前罰金罰鍰提高標準條例第2條規定，就所宣告之刑部分諭知易科罰金之折算標準\n",
            "4: （四）偽造之「臺北市計程車客運駕駛人自備車輛參與經營契約書」原本1份固經共同被告徐鴻光於借款時行使交付予宏帝當鋪，業如前述，惟此僅係共同被告徐鴻光為借得款項，而將本案參與經營契約書交付當鋪作為擔保使用，其所有權仍為共同被告徐鴻光所有，不因行使而移轉為宏帝當鋪所有，又該偽造之契約既係供本件犯行所用，爰依刑法第38條第1項第2款規定宣告沒收\n",
            "5: 又契約上偽造之「志朗交通有限公司」印文4枚、「陳健志」之印文6枚固係偽造之印文，已因該契約之沒收而包括在內，無再重複諭知沒收之必要\n",
            "6: 另告訴人為提起本件告訴，而複印本案參與經營契約書資為證據（見94年度偵字第8715號卷第15至第17頁），因認僅係作為本案訴訟使用，而非被告穆立明、共同被告徐鴻光供本件犯行所用之物，就複印之契約書上之「志朗交通有限公司」印文4枚、「陳健志」之印文6枚，爰不予宣告沒收\n",
            "7: 至被告穆立明偽刻之「志朗交通有限公司」、「陳健志」印章各1枚，係偽造之印章，且無證據證明業已滅失，應依刑法第219條宣告沒收\n",
            "8: （五）再按本條例施行前，經通緝而未於中華民國96年12月31日以前自動歸案接受偵查、審判或執行者，不得依本條例減刑，中華民國九十六年罪犯減刑條例第5條定有明文\n",
            "9: 查本件被告穆立明所為前開犯行之犯罪時間固係在96年4月24日以前，但其曾於中華民國九十六年罪犯減刑條例施行（96年7月16日施行）前之95年12月21日因本案經本院以95年士院刑玄緝字第463號通緝書發佈通緝，於102年9月1日甫緝獲歸案等情，此有前開通緝書、歸案證明書、本院102年士院刑玄銷字第289號撤銷通緝書各1份存卷可參（95年度訴字第955號卷第43頁、本院卷第26頁、第43頁），從而，依前開規定，本案被告無從依中華民國九十六年罪犯減刑條例之規定減刑，併此敘明\n",
            "10: 據上論斷，應依刑事訴訟法第299條第1項前段，刑法第2條1項前段、第28條、第216條、第210條、第339條第1項、第219條、第38條第1項第2款、修正前刑法第55條、第41條第1項前段，刑法施行法第1條之1第1項，修正前罰金罰鍰提高標準條例第2條，現行法規所定貨幣單位折算新臺幣條例第2條，判決如主文\n",
            "\n",
            " 1: 95年7月1日施行之刑法第41條第1項前段規定修正為：「犯最重本刑為5年以下有期徒刑以下之刑之罪，而受6個月以下有期徒刑或拘役之宣告者，得以新臺幣1千元、2千元或3千元折算一日，易科罰金」，另95年7月1日生效施行之罰金罰鍰提高標準條例則刪除原本第2條之規定\n",
            "3: 是以比較新舊法結果，自以舊法所定之易科罰金折算標準有利於被告，故應依修正前刑法第41條第1項前段、修正前罰金罰鍰提高標準條例第2條規定，就所宣告之刑部分諭知易科罰金之折算標準\n",
            "7: 至被告穆立明偽刻之「志朗交通有限公司」、「陳健志」印章各1枚，係偽造之印章，且無證據證明業已滅失，應依刑法第219條宣告沒收\n",
            "========================================\n",
            "我想請你幫我對一篇判決書做Extraction-based summarization，我已經將這篇判決書切成多個句子，請幫我從以下句子中挑選出和犯罪事實情節最相關的3個句子。\n",
            "1: 本案經檢察官黃仙宜到庭執行職務\n",
            "2: 中華民國102年12月3日刑事第七庭審判長法官雷雯華法官陳介安法官蔡子琪以上正本證明與原本無異\n",
            "3: 如不服本判決應於收受送達後10日內向本院提出上訴書狀，並應敘述具體理由\n",
            "4: 其未敘述上訴理由者，應於上訴期間屆滿後20日內向本院補提理由書（均須按他造當事人之人數附繕本）「切勿逕送上級法院」\n",
            "5: 書記官李宜蓁中華民國102年12月5日附錄本案論罪科刑所依據之法條：刑法第216條、第210條、第339條第1項偽造、變造私文書，足以生損害於公眾或他人者，處5年以下有期徒刑\n",
            "6: 偽造印章、印文或署押，足以生損害於公眾或他人者，處3年以下有期徒刑\n",
            "7: 盜用印章、印文或署押，足以生損害於公眾或他人者，亦同\n",
            "8: 意圖為自己或第三人不法之所有，以詐術使人將本人或第三人之物交付者，處5年以下有期徒刑、拘役或科或併科1千元以下罰金\n",
            "9: \n",
            "\n",
            " 1: 本案經檢察官黃仙宜到庭執行職務\n",
            "2: 中華民國102年12月3日刑事第七庭審判長法官雷雯華法官陳介安法官蔡子琪以上正本證明與原本無異\n",
            "3: 如不服本判決應於收受送達後10日內向本院提出上訴書狀，並應敘述具體理由\n",
            "4: 其未敘述上訴理由者，應於上訴期間屆滿後20日內向本院補提理由書（均須按他造當事人之人數附繕本）「切勿逕送上級法院」\n",
            "========================================\n",
            "我想請你幫我對一篇判決書做Extraction-based summarization，我已經將這篇判決書切成多個句子，請幫我從以下句子中挑選出和犯罪事實情節最相關的3個句子。\n",
            "1: 徐鴻光（所涉行使偽造私文書犯行，業經本院以95年度訴字第955號判決處有期徒刑3月、緩刑3年確定）因需款使用，知悉穆立明有借款管道，為求順利借款，2人竟共同意圖為自己不法所有，基於行使偽造私文書及詐欺取財之犯意聯絡，知悉車牌號碼00-000號營業小客車係徐鴻光向志朗交通有限公司（下稱志朗公司）租賃之車輛，竟由穆立明先於不詳時間、不詳地點，偽刻「志朗交通有限公司」及負責人「陳健志」印章（正確姓名為陳建志，誤刻為「陳健志」）各1枚，並偽造「陳健志」代表志朗公司與徐鴻光簽署之「臺北市計程車客運駕駛人自備車輛參與經營契約書」（下稱本案參與經營契約書），虛偽記載徐鴻光提供上述營業小客車靠行志朗公司營業等不實內容，並持上開偽刻印章，偽造「志朗交通有限公司」印文4枚、「陳健志」印文6枚於本案參與經營契約書上，再於92年3月6日交徐鴻光於立約人乙方欄簽名，2人復於同日協同不知情之徐鴻光配偶徐樂仁（所涉行使偽造私文書犯行，業經本院以95年度訴字第955號判決無罪確定），前往臺北市○○區○○街00巷0號2樓王傑生所經營之宏帝當舖（現更名為渣打當舖），由徐鴻光、穆立明交付偽造本案參與經營契約書向宏帝當鋪借款新臺幣（下同）10萬元以為行使，並約定由徐樂仁擔任連帶保證人，王傑生誤信上開車輛為徐鴻光所有而陷入錯誤，於扣除利息後交付9萬1千元借款予徐鴻光夫婦，足以生損害於志朗公司、陳建志、王傑生。\n",
            "2: 嗣因徐鴻光僅清償每期7千元之分期款共11期計7萬7千元，未全額清償即無力負擔債務，王傑生始查知上開車輛非徐鴻光所有，而悉上情。\n",
            "3: （五）綜上所述，被告上開所辯各節，無非事後避重就輕、圖卸之詞，不足採信，被告行使偽造私文書及詐欺取財等犯行，事證明確，應依法論科\n",
            "4: 三、論罪科刑部分：（一）按被告行為後，94年2月2日修正公布之刑法已於95年7月1日生效施行，其中第2條第1項「行為後法律有變更者，適用行為時之法律\n",
            "5: 但行為後之法律有利於行為人者，適用最有利於行為人之法律」之規定，係規範行為後法律變更所生新、舊法律比較適用之準據法，並非刑法實體法律，自不生行為後法律變更之比較適用問題，故刑法修正施行後，應適用該修正後之第2條第1項之規定，依「從舊、從輕」之原則比較新、舊法律之適用；又比較新舊法時，應就罪刑有關之共犯、未遂犯、想像競合犯、牽連犯、連續犯、結合犯，以及累犯加重、自首減輕暨其他法定加減原因（如身分加減）與加減例等一切情形，綜其全部罪刑之結果而為比較後，再適用有利於行為人之法律處斷，而不得一部割裂分別適用不同之新、舊法（最高法院24年上字第4634號、29年上字第964號判例意旨及最高法院95年度第8次刑事庭會議決議參照）\n",
            "6: 經查：1.刑法第33條第5款關於罰金刑之規定業於94年2月2日修正，於95年7月1日生效，修正前刑法第33條第5款規定：「罰金：1元（銀元）以上\n",
            "7: 」，並依現行法規所定貨幣單位折算新臺幣條例規定，以銀元1元折算新臺幣3元，故修正前刑法規定罰金之最低數額為新臺幣3元；修正後刑法第33條第5款規定：「罰金：新臺幣1,000元以上，以百元計算之\n",
            "8: 」，故修正後刑法規定罰金之最低數額提高為新臺幣1,000元；比較上開罰金刑之最高數額，於修正後並無不同，惟修正後刑法第33條第5款所定罰金刑最低數額，既較修正前提高，依前開說明，應適用對被告有利之修正前刑法第33條第5款之規定\n",
            "9: 2.修正前刑法第28條規定：「二人以上共同實施犯罪之行為者，皆為正犯\n",
            "10: 」，修正後該條規定為：「二人以上共同實行犯罪之行為者，皆為正犯\n",
            "11: 」，揆諸本條之修正理由，係為釐清陰謀共同正犯、預備共同正犯、共謀共同正犯是否合乎本條之正犯要件，並將陰謀共同正犯、預備共同正犯剔除於本條適用之外，以符合近代刑法之個人責任原則、法治國人權保障思想及犯罪支配理論，自屬行為後法律有變更，而非僅屬文字修正，應有新舊法比較適用問題（最高法院97年度台上字第37號判決意旨參照）\n",
            "12: 本件被告穆立明與徐鴻光就前揭行使偽造私文書及詐欺取財犯行各具有犯意聯絡及行為分擔，不論依修正前或修正後之規定，均屬共同正犯，對被告並無有利或不利之情形，應適用行為時之法律\n",
            "13: 3.被告行為後新法業已刪除牽連犯之規定，依舊法成立方法、結果行為而僅論以一罪者，依新法將論以數罪，比較新、舊法結果，自以修正前刑法第55條牽連犯之規定，較有利於被告\n",
            "14: 4.綜此，本院經綜合上述各條文修正前、後之比較，參照前揭最高法院決議及修正後刑法第2條第1項前段、後段規定之「從舊、從輕」原則，被告穆立明上開犯行自應適用行為時之法律，予以論處\n",
            "15: （二）核被告穆立明所為，係犯刑法第216條、第210條之行使偽造私文書罪、同法第339條第1項詐欺取財罪\n",
            "16: 95年7月1日施行之刑法第41條第1項前段規定修正為：「犯最重本刑為5年以下有期徒刑以下之刑之罪，而受6個月以下有期徒刑或拘役之宣告者，得以新臺幣1千元、2千元或3千元折算一日，易科罰金」，另95年7月1日生效施行之罰金罰鍰提高標準條例則刪除原本第2條之規定\n",
            "17: 是以比較新舊法結果，自以舊法所定之易科罰金折算標準有利於被告，故應依修正前刑法第41條第1項前段、修正前罰金罰鍰提高標準條例第2條規定，就所宣告之刑部分諭知易科罰金之折算標準\n",
            "18: 至被告穆立明偽刻之「志朗交通有限公司」、「陳健志」印章各1枚，係偽造之印章，且無證據證明業已滅失，應依刑法第219條宣告沒收\n",
            "19: 本案經檢察官黃仙宜到庭執行職務\n",
            "20: 中華民國102年12月3日刑事第七庭審判長法官雷雯華法官陳介安法官蔡子琪以上正本證明與原本無異\n",
            "21: 如不服本判決應於收受送達後10日內向本院提出上訴書狀，並應敘述具體理由\n",
            "22: 其未敘述上訴理由者，應於上訴期間屆滿後20日內向本院補提理由書（均須按他造當事人之人數附繕本）「切勿逕送上級法院」\n",
            "\n",
            " 1: 徐鴻光和穆立明因需要借款，共同偽造「志朗交通有限公司」和「陳健志」的印章，以及「臺北市計程車客運駕駛人自備車輛參與經營契約書」，向宏帝當鋪借款10萬元。\n",
            "2: 徐鴻光和穆立明偽造的契約書導致王傑生誤信車輛為徐鴻光所有，而提供借款。\n",
            "3: 徐鴻光和穆立明被依行使偽造私文書和詐欺取財罪起訴。\n",
            "========================================\n",
            "我想請你幫我對一篇判決書做Extraction-based summarization，我已經將這篇判決書切成多個句子，請幫我從以下句子中挑選出和犯罪事實情節最相關的3個句子。\n",
            "1: 一、劉木卿（曾有犯背信罪之紀錄，本件不構成累犯），係專業代書，為從事業務之人，曾多次承辦祭祀公業相關業務，深知有關之各種申辦程序及事宜，時值政府立法要求祭祀公業申報以便管理（即96年12月12日公布之祭祀公業條例，要求於該條例施行已存在，而未依祭祀公業公土清理要點或臺灣省祭祀公業土地清理辦法之規定申報並核發派下全員證明書之祭祀公理，應於同條例第7條規定之期間辦理申報等事宜），其知坐落於彰化縣田中鎮○○○段158、159地號二筆土地係屬祭祀公業蕭子玉所有，尚未清理依法核發派下全員證明書等情，故即主動與該公業之管理人蕭賜福、蕭耀西之後代子孫蕭慶堂、蕭慶珍、蕭如壎、蕭慶三等人聯絡處理該祭祀公業之相關事宜（此與該二筆土地密不可分），經洽商結果，於蕭慶堂、蕭慶珍、蕭如壎、蕭慶三等人不需支費下，劉木卿代為申辦，事成後，由劉木卿獲得該祭祀公業所有土地價值20％之報酬，劉木卿竟為圖得該優厚之報酬；另蕭慶堂等人，則亦冀得他人勿來參與成為祭祀公業蕭子玉之派下員，方減少土地分歸他人之意下，其等明知上開祭祀公業蕭子玉之設立人非僅係蕭賜福及該公業之享祀人係蕭子玉等情，其等竟共同基於意圖為自已不法所有及行使業務上登載不實文書、使公務員登載不實之犯意聯絡，接續為下列行為：(一)由劉木卿於民國98年8月3日前數日內某時，在彰化縣員林鎮○○路○段172之1號住處，於業務上登載祭祀公業蕭子玉「3、淵源來歷：由蕭賜福積蓄購買本公業所有坐落彰化縣田中鎮○○○段158、159地號等二筆之土地\n",
            "2: 以祭田收益，作為每年清明節祭祀祖先之資\n",
            "3: 並期望子孫『蕭子』被珍惜如玉，故以『祭祀公業蕭子玉』命名\n",
            "4: 4、設立者姓名：先祖蕭賜福所設立\n",
            "5: 5、祭祀地點即供奉所在地：日據時期祭祀地點為彰化廳武東堡社頭庄百八拾壹番地及彰化廳武東堡社頭庄百八十三番地\n",
            "6: 光復後彰化縣社頭鄉社頭村社頭第一巷3號及彰化縣社頭鄉○○村○○○路360號，民國70年間因祭祀地點公廳拆除改建後，由各派下員各自將祖先神位分靈祭祀，申請人祭祀地點為彰化縣社頭鄉○○村○○○路40號\n",
            "7: 蕭如壎祭祀地點為彰化縣社頭鄉○○村○○○路46號\n",
            "8: 6、土地所在地：彰化縣田中鎮○○○段158、159地號（此部分關於土地之標示應屬無誤）\n",
            "9: 」等不實沿革，及不實之「派下現員：蕭慶三、蕭慶堂、蕭慶珍、蕭如壎」名冊、不實之派下全員系統表、推舉書後，連同該祭祀公業之財產清冊、土地登記第一類謄本，書寫以蕭慶堂為申報人之祭祀公業派下全員證明書申請書，於98年8月4日由劉木卿持向彰化縣田中鎮公所申請該祭祀公業派下全員證明書而行使，使不知情之田中鎮公所民政課承辦人員誤認為所申報關於該祭祀公業之「享祀人」、「設立人」與祭祀公業財產等要件皆具備，及該祭祀公業之派下員僅有蕭慶堂、蕭慶珍、蕭慶三與蕭如壎，而將上開不實事項登載於職務上所掌之公文書，經田中鎮公所依法公告徵求異議，俟公告期滿無人異議後，劉木卿、蕭慶堂、蕭慶珍、蕭慶三與蕭如壎復基於意圖為自己不法利益之犯意聯絡，由劉木卿以該祭祀公業派下員證明申請案已公告期滿無人異議，於98年10月7日在其前揭住處製作祭祀公業蕭子玉申請書，表明蕭慶堂、蕭慶珍、蕭慶三與蕭如壎為該祭祀公業僅存之派下員，於98年10月8日以蕭慶堂名義向田中鎮公所申請核發派下員證明書，致不知情之田中鎮公所民政課承辦人員於98年10月12日核發祭祀公業派下全員證明書、祭祀公業蕭子玉派下全員系統表、派下現員名冊與不動產清冊給蕭慶堂，使蕭慶三、蕭慶堂、蕭慶珍、蕭如壎取得祭祀公業蕭子玉派下員資格之利益\n",
            "10: 嗣於98年10月12日，劉木卿於前揭住處，接續在業務上製作之祭祀公業蕭子玉申請書登載派下全員蕭慶三、蕭慶堂、蕭慶珍、蕭如壎推舉蕭慶堂擔任新任管理人之不實事項，於翌日由劉木卿以蕭慶堂名義，連同該祭祀公業派下全員證明書、祭祀公業蕭子玉派下全員系統表、派下現員名冊與不動產清冊持向田中鎮公所申請管理人變更核備而行使之，使不知情之田中鎮公所民政課承辦人員登載於職務上所載之公文書，均足以生損害於該祭祀公業真正派下員及彰化縣田中鎮公所對祭祀公業管理之正確性\n",
            "\n",
            " 1: 劉木卿主動與祭祀公業蕭子玉之管理人蕭賜福、蕭耀西之後代子孫聯絡處理該祭祀公業之相關事宜，經洽商結果，於蕭慶堂、蕭慶珍、蕭如壎、蕭慶三等人不需支費下，劉木卿代為申辦，事成後，由劉木卿獲得該祭祀公業所有土地價值20％之報酬。\n",
            "2: 劉木卿、蕭慶堂、蕭慶珍、蕭慶三與蕭如壎共同基於意圖為自已不法所有及行使業務上登載不實文書、使公務員登載不實之犯意聯絡，接續為下列行為：由劉木卿於民國98年8月3日前數日內某時，在彰化縣員林鎮○○路○段172之1號住處，於業務上登載祭祀公業蕭子玉「3、淵源來歷：由蕭賜福積蓄購買本公業所有坐落彰化縣田中鎮○○○段158、159地號等二筆之土地以祭田收益，作為每年清明節祭祀祖先之資，並期望子孫『蕭子』被珍惜如玉，故以『祭祀公業蕭子玉』命名」等不實沿革，及不實之「派下現員：蕭慶三、蕭慶堂、蕭慶珍、蕭如壎」名冊、不實之派下全員系統表、推舉書後，連同該祭祀公業之財產清冊、土地登記第一類謄本，書寫以蕭慶堂為申報人之祭祀公業派下全員證明書申請書，於98年8月4日由劉木卿持向彰化縣田中鎮公所申請該祭祀公業派下全員證明書而行使，使不知情之田中鎮公所民政課承辦人員誤認為所申報關於該祭祀公業之「享祀人」、「設立人」與祭祀公業財產等要件皆具備，及該祭祀公業之派下員僅有蕭慶堂、蕭慶珍、蕭慶三與蕭如壎，而將上開不實事項登載於職務上所掌之公文書，經田中鎮公所依法公告徵求異議，俟公告期滿無人異議後，劉木卿、蕭慶堂、蕭慶珍、蕭慶三與蕭如壎復基於意圖為自己不法利益之犯意聯絡，由劉木卿以該祭祀公業派下員證明申請案已公告期滿無人異議，於98年10月7日在其前揭住處製作祭祀公業蕭子玉申請書，表明蕭慶堂、蕭慶珍、蕭慶三與蕭如壎為該祭祀公業僅存之派下員，於98年10月8日以蕭慶堂名義向田中鎮公所申請核發派下員證明書，致不知情之田中鎮公所民政課承辦人員於98年10月12日核發祭祀公業派下全員證明書、祭祀公業蕭子玉派下全員系統表、派下現員名冊與不動產清冊給蕭慶堂，使蕭慶三、蕭慶堂、蕭慶珍、蕭如壎取得祭祀公業蕭子玉派下員資格之利益。\n",
            "========================================\n",
            "我想請你幫我對一篇判決書做Extraction-based summarization，我已經將這篇判決書切成多個句子，請幫我從以下句子中挑選出和犯罪事實情節最相關的3個句子。\n",
            "1: (二)劉木卿、蕭慶堂、蕭慶珍、蕭如壎與蕭慶三於祭祀公業蕭子玉之管理人變更後，其等知曉該祭祀公業因尚有共同設立人（亦即蕭賜福係公業之管理人，並非公業所有土地之單獨所有權人），應有其祭祀公業之派下員存在，在未得其他人同意之下（即該派下員並無解散該祭祀公業之合意），竟賡續前開犯意，由劉木卿於99年1月9日，在其彰化縣員林鎮○○路○段172之1號住處，於職務上製作之該祭祀公業派下員同意書上登載全體派下員蕭慶堂、蕭慶珍、蕭如壎與蕭慶三同意解散該祭祀公業，由各房奉請祖先牌位各自祭祀，及該祭祀公業因解散而需辦理彰化縣田中鎮○○○段158、159地號土地更名登記之土地登記申請書等不實事項後，委由劉木卿持向彰化縣田中地政事務所辦理系爭土地更名登記\n",
            "2: 劉木卿乃於99年1月22日，連同系爭土地所有權狀、土地登記清冊、田中鎮公所核發之祭祀公業派下全員證明書、派下現員名冊持向彰化縣田中地政事務所申請系爭土地更名登記為蕭慶堂、蕭慶珍、蕭如壎與蕭慶三所有而行使，致使不知情之田中地政事務所承辦人員誤認蕭慶堂、蕭慶珍、蕭如壎與蕭慶三為該祭祀公業之全體派下員，及蕭慶堂、蕭慶珍、蕭如壎與蕭慶三均同意解散該祭祀公業，乃將系爭土地所有權人祭祀公業蕭子玉變更登記為蕭慶堂、蕭慶珍、蕭如壎與蕭慶三分別共有（蕭慶三、蕭如壎各取得系爭土地三分之一之應有部分；蕭慶堂、蕭慶珍則各六分之一之應有部分）\n",
            "3: 足以生損害於該祭祀公業真正派下員及彰化縣田中鎮公所對祭祀公業管理之正確性\n",
            "4: 二、案經蕭耀森訴由彰化縣警察局田中分局報告臺灣彰化方法院檢察署檢察官偵查起訴\n",
            "5: 理由壹、程序方面（證據能力）：現行刑事訴訟法為保障被告之反對詰問權，排除具有虛偽危險性之傳聞證據，以求實體真實之發見，於該法第159條第1項明定被告以外之人於審判外之言詞或書面陳述，除法律有規定者外，不得作為證據\n",
            "6: 本件檢察官、被告及辯護人於本院準備程序及審理程序中，並未就本案卷內證據資料之證據能力提出爭執，且迄於言詞辯論終結前，均未主張有刑事訴訟法第159條第1項不得為證據之情形，應認均已同意本案卷內之證據資料均得作為本案證據，且經本院審酌後，認無不適當之情形，是本案卷內之證據均有證據能力，合先敘明\n",
            "7: 貳、實體方面：一、訊據被告劉木卿、蕭慶堂、蕭慶珍、蕭慶三與蕭如壎等人，均矢口否認涉有上開行使業務上登載不實文書、使公務員登載不實及詐欺取財之犯行\n",
            "8: 被告劉木卿辯稱：伊從事代書工作，有關辦理本件祭祀公業蕭子玉之申報事宜，一切資料均來自被告蕭慶堂、蕭慶珍、蕭慶三與蕭如壎等會商後所告知，伊無捏造申報之犯行，且被告蕭慶堂等人告知沿革資料縱內容與事實有出入，或肇因證據散失、記憶模糊，或係告知有誤解所致，絕無任何偽造之故意云云\n",
            "9: 另被告蕭慶堂、蕭慶珍、蕭慶三與蕭如壎則均於辯稱：被告兄弟四人係祭祀公業蕭子玉真正之派下員，故其等所為，並無觸法可言，且上開有關申報祭祀公業蕭子玉中沿革及相關資料中，係來自父親所告知，伊無偽造之故意，因此並未涉有公訴人所指之犯行云云\n",
            "10: 但查：(一)被告蕭如壎於警詢時，明白證稱：「（問：蕭子玉祭祀公業有無財產？分佈何處？）之前我不知道，一位住社頭鄉○○村○○路旁劉姓代書告知，我才知道\n",
            "\n",
            " 1: 劉木卿、蕭慶堂、蕭慶珍、蕭如壎與蕭慶三於祭祀公業蕭子玉之管理人變更後，知悉該祭祀公業仍有共同設立人，應有其派下員存在，在未得其他人同意之下，仍繼續解散該祭祀公業，並辦理土地更名登記。\n",
            "2: 劉木卿於99年1月9日，在職務上製作之派下員同意書登載全體派下員同意解散該祭祀公業，並辦理土地更名登記。\n",
            "3: 劉木卿於99年1月22日，持不實文件向彰化縣田中地政事務所申請系爭土地更名登記，致使田中地政事務所承辦人員誤認蕭慶堂、蕭慶珍、蕭如壎與蕭慶三為該祭祀公業之全體派下員，並同意解散該祭祀公業。\n",
            "========================================\n",
            "我想請你幫我對一篇判決書做Extraction-based summarization，我已經將這篇判決書切成多個句子，請幫我從以下句子中挑選出和犯罪事實情節最相關的3個句子。\n",
            "1: 是該劉姓代書帶我、蕭慶堂、蕭慶三及蕭慶珍４個兄弟前往彰化縣田中鎮○○路附近察看，告知附近土地是我們的\n",
            "2: 」、「（問：你是否知道蕭子玉祭祀公業沿革之內容為何？）我不知道」、「（問：蕭子玉祭祀公業申請前有何人管理及繳交土地稅金？）我不知道」（見警詢筆錄附於99年度偵字第7488號偵查卷宗第12頁背面至13頁背面）；後於偵查中，亦明確指出：「是代書主動來找我們，我才知道可以辦理，所以兄弟協調後，才由代書去處理\n",
            "3: 」（同上偵查卷宗第107頁背面）；後於本院審理中，具結證稱：「（問：你是否知道劉木卿代書所繕寫方的蕭子玉祭祀公業沿革係『希望蕭氏子孫被珍惜如玉』，才叫做蕭子玉祭祀公業，你是否知道這沿革？」我不知道\n",
            "4: 」、「是代書主動來找我們的」等語（見本院101年1月5日審判筆錄），該供述內容前後一致，均無矛盾，且該內容係不利被告蕭如壎之證詞，若非屬實，焉有自陷於不利之理\n",
            "5: 是被告蕭如壎上開證詞，其憑信度極高，自可採信\n",
            "6: 再參之被告蕭慶珍於72年9月27日即辦妥祭祀公業德盛公有擁有坐落彰化縣員林鎮○○○段第93地號（重測前為番仔崙93、104、136、213、218地號）土地事宜（相關謄本附於被告於100年2月21日所提之準備書狀內），而該祭祀公業亦係蕭賜福為管理人，若被告蕭慶珍兄弟早已獲知本件祭祀公業蕭子玉等相關訊息（含管理人係其等之先人蕭賜福），豈有不趁早處理，而遲至98年方為本件申請之理\n",
            "7: 因此，由上可知，被告蕭慶堂、蕭慶珍、蕭如壎、蕭慶三等人原本對祭祀公業蕭子玉之存否，包括其祖父係祭祀公業蕭子玉之管理人及該公業擁有坐落於彰化縣田中鎮○○○段158、159地號二筆土地等情，一無所悉，係同案被告劉木卿主動前來告知等情，確係為實\n",
            "8: (二)證人即被告蕭如壎之子蕭順昌；被告蕭慶堂之子蕭錦標經檢察官聲請傳訊到庭，2人於受詰問時，對於有關祭祀公業蕭子玉相關事宜均無所悉（見同上審判筆錄），此印證被告蕭如壎之上開證詞之真實性，因若如被告蕭慶堂、蕭慶珍、蕭慶三於本院審理中，所辯其明暸祭祀公業蕭子玉等事宜，焉有於其等係已逾六旬之人，而不轉告子嗣明白有關祭祀公業蕭子玉相關事項之理\n",
            "9: 再者，依彰化縣田中地政事務所100年5月9日中地一字第1000002260號函所示：蕭家裕（即居於系爭土地之人）於94、96、98年陸續有以網路申請系爭彰化縣田中鎮○○○段159地號土地電子謄本紀錄，而被告蕭如壎僅在99年11月23日以其名義，以網路申請系爭彰化縣田中鎮○○○段159地號土地電子謄本；另被告蕭慶珍係於98年8月21日申請係系爭彰化縣田中鎮○○○段158地號電子謄本（見本院卷二），此足徵被告蕭慶堂、蕭慶三、蕭慶珍與蕭如壎在98年以前，均不知悉該祭祀公業擁有系爭土地之事實\n",
            "10: 因若係98年以前即知悉系爭土地及該祭祀公業存在，理當有申辦系爭土地謄本以便主張權益之紀錄（例如蕭家裕即是），另被告劉木卿係專業代書，其亦自承多次承辦祭祀公業相關業務，是當深知有關之各種申辦程序及事宜，且本件被告蕭慶堂為祭祀公業蕭子玉申報等相關事宜，又係祭祀公業條例公布清理時限內所為，是有關本件辦理祭祀公業蕭子玉申報事宜及其後分歸土地之事，均係由被告劉木卿主動與該公業之管理人蕭賜福、蕭耀西之後代子孫即被告蕭慶堂、蕭慶珍、蕭如壎、蕭慶三等人所為之事實，應可認定（至於被告劉木卿何以會主動為之，因可獲得如事實一所述之優厚之報酬也）\n",
            "\n",
            " 1: 是該劉姓代書帶我、蕭慶堂、蕭慶三及蕭慶珍４個兄弟前往彰化縣田中鎮○○路附近察看，告知附近土地是我們的\n",
            "2: 被告蕭如壎上開證詞，其憑信度極高，自可採信\n",
            "3: 因此，由上可知，被告蕭慶堂、蕭慶珍、蕭如壎、蕭慶三等人原本對祭祀公業蕭子玉之存否，包括其祖父係祭祀公業蕭子玉之管理人及該公業擁有坐落於彰化縣田中鎮○○○段158、159地號二筆土地等情，一無所悉，係同案被告劉木卿主動前來告知等情，確係為實\n",
            "========================================\n",
            "我想請你幫我對一篇判決書做Extraction-based summarization，我已經將這篇判決書切成多個句子，請幫我從以下句子中挑選出和犯罪事實情節最相關的3個句子。\n",
            "1: (三)依據民事習慣，祭祀公業之構成，係設立人為祭祀祖先所購置或設立之獨立財產（見本院卷一所附之臺灣祭祀公業協會網站文獻、維基百科網站查詢資料），因此，構成祭祀公業須有下列要件：一、人的部份：須有享祀人、設立人、派下員、管理人\n",
            "2: 祭祀公業之享祀人即為祭祀公業所奉祀之人，多為設立人之尊長或先祖，而非以後代子孫為享祀人\n",
            "3: 而祭祀公業須有設立人之存在，有時係一人，有時係多人\n",
            "4: 另管理人為受任管理祭祀公業財產及宗務之人，以選任派下員為原則，例外亦有選任派下以外之人為管理人\n",
            "5: 二、祭祀公業財產：係指不動產、動產、股票、債券收益之意，此類祭祀公業的獨立財產，其財產應屬全體派下員公同共有，與派下子孫個別財產完全不相干\n",
            "6: 本件被告等人於98年8月3日向彰化田中鎮公所所提之申請書附件沿革中，記載：【以祭田收益，作為每年清明節祭祀祖先之資\n",
            "7: 並期望子孫『蕭子』被珍惜如玉，故以『祭祀公業蕭子玉』命名\n",
            "8: 】，非但無享祀人之具體記載，且竟指該公業名稱蕭子玉非係先人之名，而係泛指後代子孫受珍惜，此與前開民俗可謂大相逕異，而將【蕭子玉】指係為後代子孫，實屬偏離至極\n",
            "9: (四)被告蕭慶堂、蕭慶珍、蕭如壎、蕭慶三等四人對於蕭氏宗親所編之蕭氏族譜，均不爭執之其為真正（99年度偵字第5375號第159頁至172頁），其上明確記載蕭時中係蕭氏入漳洲始祖（明永樂九年辛卯科狀元），其子積玉（字子玉，配黃氏），...十一世輝美、十二世有志誠、志海、志湖、志達\n",
            "10: 而本院依職權前往被告蕭慶堂、蕭如壎家中，開啟伊等之祖先牌位，其內均有輝美、志海之記載，有院100年2月21日之勘驗筆錄及照片可稽，是顯見蕭積玉（字子玉）係被告蕭慶堂、蕭慶珍、蕭如壎、蕭慶三等四人之祖先無誤，而被告蕭慶堂於警詢中，竟出言稱：「（：你們祖先之中有無姓名【蕭子玉】之人？）沒有」（見警詢筆錄附於99年度偵字第7488號偵查卷宗第5頁），是顯見被告蕭慶堂為求本件祭祀公業蕭子玉所擁有之系爭土地能順利分歸，不惜為與事實不符之陳述\n",
            "\n",
            " 3: 祭祀公業之享祀人即為祭祀公業所奉祀之人，多為設立人之尊長或先祖，而非以後代子孫為享祀人\n",
            "5: 二、祭祀公業財產：係指不動產、動產、股票、債券收益之意，此類祭祀公業的獨立財產，其財產應屬全體派下員公同共有，與派下子孫個別財產完全不相干\n",
            "9: (四)被告蕭慶堂、蕭慶珍、蕭如壎、蕭慶三等四人對於蕭氏宗親所編之蕭氏族譜，均不爭執之其為真正（99年度偵字第5375號第159頁至172頁），其上明確記載蕭時中係蕭氏入漳洲始祖（明永樂九年辛卯科狀元），其子積玉（字子玉，配黃氏），...十一世輝美、十二世有志誠、志海、志湖、志達\n",
            "========================================\n",
            "我想請你幫我對一篇判決書做Extraction-based summarization，我已經將這篇判決書切成多個句子，請幫我從以下句子中挑選出和犯罪事實情節最相關的3個句子。\n",
            "1: (五)被告蕭慶三於警詢中，明確供陳：「（問：你是否知道蕭子玉祭祀公業沿革之內容為何？）蕭子玉是我們的祖先，祭祀公業是讓我祭祖留念\n",
            "2: 」、「（問：提示位於彰化縣社頭鄉社頭村草仔埤巷4號「芳遠堂」蕭子玉牌位，是否就是你所稱你們祖先蕭子玉？）我以前有跟我媽媽到該處拜拜，他只告知我該處供奉我們的祖先，當時我還小，我沒有注意看\n",
            "3: 」等語（見警詢筆錄附於99年度偵字第7488號偵查卷宗第10頁背面至11頁正面），而其與其他兄弟及被告劉木卿會商後，竟於所提之申請書附件沿革中，為上開記載，在在足證，被告蕭慶堂、蕭慶珍、蕭如壎、蕭慶三及同案被告即代書劉木卿均係明知且故意為之\n",
            "4: 斷非係肇因證據散失、記憶模糊所致\n",
            "5: (六)被告蕭慶堂、蕭慶珍、蕭如壎、蕭慶三及同案被告即代書劉木卿於100年2月11日委由辯護人具狀表示：「(一)無相關證據足以認定蕭賜福為設立人；但亦無證據足以認定蕭賜福非設立人」（見100年2月11日所提之準備書狀），被告等人既明確表示無相關證據足以認定蕭賜福為設立人，則其等於上開沿革中，載稱：「4、設立者姓名：先祖蕭賜福所設立\n",
            "6: 」，豈非係其等於無任何證據之下，徒憑己意所為，是該記載明確有不實之弊，自不待言\n",
            "7: (七)被告蕭慶堂、蕭慶珍、蕭如壎、蕭慶三之祖父蕭賜福於明治44年8月19日與齋友向同為其父蕭貞吉之繼承人蕭福智、蕭福根、蕭登王等人購買坐落彰化縣員林鎮○○○段第93地號（重測前為番仔崙93、104、136、213、218地號）土地設立祭祀公業德盛公，有土地登記簿謄本影本1份（含日據時代之登記簿，係被告所提出附於100年2月21日之準備書狀內），在卷可佐，觀日據時代之登記簿業主權事項欄就該事項係以記載【公業德盛公管理人武東堡社頭庄百八拾壹番地蕭賜福】之方式表示之，亦即方式之記載係表示土地係屬公業德盛公，而管理人係蕭賜福，且除蕭賜福外尚有其他派下員，並非由蕭賜福一人所獨設（因此公業係蕭賜福與其他人一同設立），再觀祭祀公業蕭子玉就系爭土地於日據時代之登記簿業主權事項欄內，其記載亦係以【公業蕭子玉管理人武東堡社頭庄百八拾壹番地蕭賜福】之方式表示之（見99年度偵字第5375號偵查卷宗第34頁），二者之記載方式，則代表含意亦相同，不容有不同之解釋，換言之此方式之記載係表示土地係屬公業蕭子玉，而管理人係蕭賜福，且除蕭賜福外尚有其他派下員，而縱蕭賜福係設立人，亦非由其一人所獨設（況依上述，並無相關證據足以認定蕭賜福係設立人）\n",
            "8: 而被告蕭慶堂、蕭慶珍、蕭如壎、蕭慶三及被告劉木卿竟於無視上開明白之記載，而申請書附件沿革中，明白書載「4、設立者姓名：先祖蕭賜福所設立\n",
            "9: 」，是在在足證其等確有虛偽記載之犯意甚明\n",
            "10: (八)日據時代土地總登記係於明治38年，若有明確資料提出證明確係所有權者，則在該土地登記事項欄內，必以業主相稱，此由上開坐落彰化縣員林鎮○○○段第93地號（重測前為番仔崙93、104、136、213、218地號）土地，原係蕭賜福之父蕭貞吉所有，則於日據時代之土地登記事項欄內，即載明「明治參拾八年拾壹月拾壹日蕭貞吉為業主」自明，而本件祭祀公業蕭子玉所擁有之系爭土地，於日據時代之登記簿業主權事項欄內，係直接記載「業主公業蕭子玉」，亦即該土地之原來所有權人係何人，並無記載，惟依該時之資料可以確定係系爭土地之所有權人係公業蕭子玉，而非蕭賜福\n",
            "\n",
            " 1: 被告蕭慶三於警詢中，明確供陳：「（問：你是否知道蕭子玉祭祀公業沿革之內容為何？）蕭子玉是我們的祖先，祭祀公業是讓我祭祖留念」、「（問：提示位於彰化縣社頭鄉社頭村草仔埤巷4號「芳遠堂」蕭子玉牌位，是否就是你所稱你們祖先蕭子玉？）我以前有跟我媽媽到該處拜拜，他只告知我該處供奉我們的祖先，當時我還小，我沒有注意看」等語（見警詢筆錄附於99年度偵字第7488號偵查卷宗第10頁背面至11頁正面），而其與其他兄弟及被告劉木卿會商後，竟於所提之申請書附件沿革中，為上開記載，在在足證，被告蕭慶堂、蕭慶珍、蕭如壎、蕭慶三及同案被告即代書劉木卿均係明知且故意為之斷非係肇因證據散失、記憶模糊所致\n",
            "2: 被告蕭慶堂、蕭慶珍、蕭如壎、蕭慶三及同案被告即代書劉木卿於100年2月11日委由辯護人具狀表示：「（一）無相關證據足以認定蕭賜福為設立人；但亦無證據足以認定蕭賜福非設立人」（見100年2月11日所提之準備書狀），被告等人既明確表示無相關證據足以認定蕭賜福為設立人，則其等於上開沿革中，載稱：「4、設立者姓名：先祖蕭賜福所設立」，豈非係其等於無任何證據之下，徒憑己意所為，是該記載明確有不實之弊，自不待言\n",
            "3: 被告蕭慶堂、蕭慶珍、蕭如壎、蕭慶三之祖父蕭賜福於明治44年8月19日與齋友向同為其父蕭貞吉之繼承人蕭福智、蕭福根、蕭登王等人購買坐落彰化縣員林鎮○○○段第93地號（重測前為番仔崙93、104、136、213、218地號）土地設立祭祀公業德盛公，有土地登記簿謄本影本1份（含日據時代之登記簿，係被告所提出附於100年2月21日之準備書狀內），在卷可佐，觀日據時代之登記簿業主權事項欄就該事項係以記載【公業德盛公管理人武東堡社頭庄百八拾壹番地蕭賜福】之方式表示之，亦即方式之記載係表示土地係屬公業德盛公，而管理人係蕭賜福，且除蕭賜福外尚有其他派下員，並非由蕭賜福一人所獨設（因此公業係蕭賜福與其他人一同設立），再觀祭祀公業蕭子玉就系爭土地於日據時代之登記簿業主權事項欄內，其記載亦係以【公業蕭子玉管理人武東堡社頭庄百八拾壹番地蕭賜福】之方式表示之（見99年度偵字第5375號偵查卷宗第34頁），二者之記載方式，則代表含意亦相同，不容有不同之解釋，換言之此方式之記載係表示土地係屬公業蕭子玉，而管理人係蕭賜福，且除蕭賜福外尚有其他派下員，而縱蕭賜福係設立人，亦非由其一人所獨設（況依上述，並無相關證據足以認定蕭賜福係設立人）\n",
            "========================================\n",
            "我想請你幫我對一篇判決書做Extraction-based summarization，我已經將這篇判決書切成多個句子，請幫我從以下句子中挑選出和犯罪事實情節最相關的3個句子。\n",
            "1: 再者祭祀公業常有祭典之舉行，故常有一定處所奉祀享祀人，但此與管理人之住處有別，而上開申請書附件沿革竟指蕭賜福之住所即係彰化廳武東堡社頭庄百八拾壹番地為奉祀地，益見該等記載偏離事實，故申請書附件沿革中關於「3、淵源來歷：由蕭賜福積蓄購買本公業所有坐落彰化縣田中鎮○○○段158、159地號等二筆之土地\n",
            "2: 」及「5、祭祀地點即供奉所在地」，顯係不實之記載\n",
            "3: (九)祭祀公業涉及祭典之舉行及因派下員常非單一，故需設管理人，而任該職者，通常係找頗有影響力之人或飽學之士為之，被告蕭慶堂、蕭慶三、蕭慶珍、蕭如壎之先人蕭賜福於日據時代係從販賣阿片之商人，其影響力不可言諭，再者，蕭賜福之父蕭貞吉（生於天保2年）於明治44年去世，其於明治42年時，體力當已老衰，故由蕭賜福任祭祀公業蕭子玉之管理人，應符常情，因此被告等人主張蕭賜福擔任管理人時，其父親尚存在，該公業若為其祖先設立，焉有選任蕭賜福為管理人之可能云云，顯係模糊上情之詞\n",
            "4: (十)被告等確涉有上開犯行，除經證人即告訴人蕭耀森（在是否屬被害人不明前，似乎應以告發人相稱）於警詢證明確外，，就①被告蕭慶堂、蕭慶珍、蕭慶三與蕭如壎合意選任蕭慶堂為代理人，蕭慶堂再委任劉木卿製作該祭祀公業不實之沿革、申請書，連同土地登記第一類謄本於98年8月3日持向田中鎮公所申請派下全員證明書，而田中鎮公所民政課受理申請後，將被告等人登載之不實事項登載於職務上所掌之公文書及被告等人於公告期滿後，於98年10月8日向田中鎮公所申請核發派下員證明書，致田中鎮公所承辦人員陷於錯誤，於同年月13日核發祭祀公業派下全員證明書及蓋有公所印信之派下全員系統表、派下現員名冊與不動產清冊與被告等人以原管理人蕭耀西死亡為由，於98年10月13日向田中鎮公所申請變更該祭祀公業新任管理人為蕭慶堂之事實部分，並有祭祀公業派下全員證明書申請書、委任書、祭祀公業蕭子玉推舉書、沿革、土地登記第一、二類謄本彰化縣田中鎮公所98年9月3日田鎮民字第0980013614號函、田鎮民字第0980013615號公告、祭祀公業蕭子玉申請書、彰化縣田中鎮公所98年10月12日田鎮民字第0980015674號函、祭祀公業蕭子玉管理人選任同意書、申請書、委任書、彰化縣田中鎮公所98年10月14日田鎮民字第0980015957號函附卷可稽；②被告劉木卿擔任被告蕭慶堂、蕭慶三、蕭慶珍與蕭如壎之代理人，以解散該祭祀公業為由，於99年1月22日向田中地政事務所申請系爭土地之所有權人由該祭祀公業變更登記為被告蕭慶堂、蕭慶三、蕭慶珍與蕭如壎，致田中地政事務所承辦人員誤認該祭祀公業派下員同意解散該祭祀公業，進而將系爭土地之所有權人變更為被告文蕭慶堂、蕭慶珍、蕭慶三與蕭如壎之事實部分，亦有彰化縣田中地政事務所100年5月5日中地一字第1000002313號函所附之土地登記申請書、印鑑證明、派下員同意書、派下全員證明書、派下現員名冊、土地所有權狀等影本，附卷可佐\n",
            "5: (十一)綜上，顯見被告劉木卿、蕭慶堂、蕭慶珍、蕭慶三與蕭如壎所辯，均與事實不符，不可採信\n",
            "6: 本件罪證明確，被告劉木卿、蕭慶堂、蕭慶珍、蕭慶三與蕭如壎之犯行，足以認定\n",
            "7: 二、按上開與祭祀公業有關之派下全員證明書申請書、派下現員名冊、祭祀公業蕭子玉推舉書與沿革、同意書等文書，係執行代書業務所製作之文書，屬業務上作成之文書\n",
            "8: 故核被告劉木卿、蕭慶堂、蕭慶珍、蕭慶三與蕭如壎等人前揭所為，均係犯刑法第216條、第215條之行使業務上登載不實之文書、刑法第214條之使公務員登載不實罪與刑法第339條第1項之詐欺取財罪\n",
            "9: 其等所為之明知為不實之事項，而登載於其業務上作成文書之行為（低度行度），為其後之行使行為（高度行為）所吸收，不另論罪\n",
            "10: 其等就前揭犯行有犯意聯絡與行為分擔，俱為共同正犯\n",
            "\n",
            " 1: 申請書附件沿革中關於「3、淵源來歷：由蕭賜福積蓄購買本公業所有坐落彰化縣田中鎮○○○段158、159地號等二筆之土地」及「5、祭祀地點即供奉所在地」，顯係不實之記載。\n",
            "2: 被告等人主張蕭賜福擔任管理人時，其父親尚存在，該公業若為其祖先設立，焉有選任蕭賜福為管理人之可能云云，顯係模糊上情之詞。\n",
            "3: 被告劉木卿、蕭慶堂、蕭慶珍、蕭慶三與蕭如壎所辯，均與事實不符，不可採信。\n",
            "========================================\n",
            "我想請你幫我對一篇判決書做Extraction-based summarization，我已經將這篇判決書切成多個句子，請幫我從以下句子中挑選出和犯罪事實情節最相關的3個句子。\n",
            "1: 其等利用不知情之田中鎮公所民政課承辦人員取得該祭祀公業派下員資格利益及利用不知情之田中鎮公所承辦人員取得系爭土地所有權，係間接正犯\n",
            "2: 又按刑法廢除牽連犯之規定後，對於前以牽連犯予以處理之案例，依立法理由之說明，在適用上，得視其具體情形，分別論以想像競合犯或數罪併罰，予以處斷\n",
            "3: 是原經評價為牽連犯之案件，如其二行為間具有行為局部之同一性，或其行為著手實行階段可認為同一者，得認與一行為觸犯數罪名之要件相侔，而改評價為想像競合犯\n",
            "4: 至於不可認為一行為者，若依實質競合予以併罰，不無刑罰過度評價，依社會通念，並不符合刑罰公平原則，當亦難以一行為一罪論處\n",
            "5: 於此，倘所發生之數個犯罪行為，在犯罪之性質上，或依吾人日常生活經驗之見解上，其前後行為，在形態上雖屬分別獨立，但從同一法益之侵害性而言，因具一定程度之關連性，可認為一方吸收他方之犯罪行為，遂置他方於不論，較為適當，應可依吸收犯理論，認屬實質上一罪關係，而僅包括的論以一罪（參照最高法院96年度台上字第4780號判決意旨）上開諸罪均係基於同一目的（即分歸取得土地所有權），故在刑法評價上，以視為數個舉動之接續施行，彼此間有行為局部之同一性，應為包括之一行為予以評價，較為合理，而屬一行為觸犯數罪名之想像競合犯，應依刑法第55條規定情節較重之詐欺取財罪處斷\n",
            "6: 而公訴人就上開行使業務上登載不實之文書罪部分，指係犯刑法216條、210條之罪，惟已當庭及以補充理由書更正之，故本院不再諭知變更起訴法條\n",
            "7: 另公訴人指上開數罪之關係或謂罪，或想像競合，但如上所述，應依想像競合犯之例論處，方為適當\n",
            "8: 又上開犯罪事實中，為原起訴書所漏列部分，因與已明確記載部分，有裁判上一罪之關係，故本院自得併予審理，併此敘明\n",
            "9: 爰審酌被告劉木卿於辦理祭祀公業相關申報事實之際，為牟得巨利報酬，非但主動其餘被告蕭慶堂等人，且位於主導之地位，為本件不實事實申報及不實之分歸土地，實有不該，應予嚴懲，另被告蕭慶堂、蕭慶珍、蕭慶三、蕭如壎聽信代書之被告劉木卿之言，為求避免其兄弟等人以外之人，前來分歸土地，竟與代書為上開行使業務上登載不實之文書、使公務員登載不實及詐欺取財等犯行，實有欠思慮，念其均為已逾六旬之人，暨渠等之犯罪動機、手段、目的與犯罪後之態度等一切情狀，各量處如主文所示之刑，並就被告蕭慶堂、蕭慶珍、蕭慶三、蕭如壎部分，諭知如易科罰金之折算標準\n",
            "10: 又查被告蕭如壎前未曾因故意犯罪受有期徒刑以上刑之宣告，有臺灣高等法院被告前案紀錄表1份附卷可憑，因有宗親一同處理事務之牽絆，故一時失慮致罹刑章，其於警、偵查時及本院審理中，對所知之事，均有明確之供陳，可謂態度良好，經此偵審教訓後，應知警惕而無再犯之虞，本院因認所宣告之刑，以暫不執行為適當，爰依刑法第74條第1項第1款規定，併予宣告緩刑2年，以勵自新\n",
            "\n",
            " 1: 其等利用不知情之田中鎮公所民政課承辦人員取得該祭祀公業派下員資格利益及利用不知情之田中鎮公所承辦人員取得系爭土地所有權，係間接正犯\n",
            "2: 是原經評價為牽連犯之案件，如其二行為間具有行為局部之同一性，或其行為著手實行階段可認為同一者，得認與一行為觸犯數罪名之要件相侔，而改評價為想像競合犯\n",
            "5: 於此，倘所發生之數個犯罪行為，在犯罪之性質上，或依吾人日常生活經驗之見解上，其前後行為，在形態上雖屬分別獨立，但從同一法益之侵害性而言，因具一定程度之關連性，可認為一方吸收他方之犯罪行為，遂置他方於不論，較為適當，應可依吸收犯理論，認屬實質上一罪關係，而僅包括的論以一罪（參照最高法院96年度台上字第4780號判決意旨）上開諸罪均係基於同一目的（即分歸取得土地所有權），故在刑法評價上，以視為數個舉動之接續施行，彼此間有行為局部之同一性，應為包括之一行為予以評價，較為合理，而屬一行為觸犯數罪名之想像競合犯，應依刑法第55條規定情節較重之詐欺取財罪處斷\n",
            "========================================\n",
            "我想請你幫我對一篇判決書做Extraction-based summarization，我已經將這篇判決書切成多個句子，請幫我從以下句子中挑選出和犯罪事實情節最相關的3個句子。\n",
            "1: 三、本判決僅認定被告等人所涉上開犯行部分，至於祭祀公業蕭子玉之派下員究竟有幾人，除被告蕭慶堂、蕭慶珍、蕭慶三、蕭如壎外，尚有何人具派下員身分，應尋民事途逕解決，非係本判決論斷之範疇，併此敘明\n",
            "2: 據上論斷，應依刑事訴訟法第299條第1項前段、刑法第28條、第216條、第215條、第214條、第339條第1項、第55條、第41條第1項、第74條第1項第1款，刑法施行法第1條之1，判決如主文\n",
            "3: 本案經檢察官黃顗雯到庭執行職務\n",
            "4: 中華民國101年4月6日刑事第三庭審判長法官洪志賢法官張鶴齡法官簡佩珺以上正本證明與原本無異\n",
            "5: 如不服本判決應於收受判決後10日內向本院提出上訴書狀，並應敘述具體理由；其未敘述上訴理由者，應於上訴期間屆滿後20日內向本院補提理由書（均須按他造當事人之人數附繕本）「切勿逕送上級法院」\n",
            "6: 告訴人或被害人對於判決如有不服具備理由請求檢察官上訴者，其上訴期間之計算係以檢察官收受判決正本之日期為準\n",
            "7: 中華民國101年4月6日書記官許億先附錄本案論罪科刑法條全文：中華民國刑法第214條（使公務員登載不實罪）明知為不實之事項，而使公務員登載於職務上所掌之公文書，足以生損害於公眾或他人者，處3年以下有期徒刑、拘役或5百元以下罰金\n",
            "8: 中華民國刑法第215條（業務上文書登載不實罪）從事業務之人，明知為不實之事項，而登載於其業務上作成之文書，足以生損害於公眾或他人者，處3年以下有期徒刑、拘役或5百元以下罰金\n",
            "9: 中華民國刑法第216條（行使偽造變造或登載不實之文書罪）行使第210條至第215條之文書者，依偽造、變造文書或登載不實事項或使登載不實事項之規定處斷\n",
            "10: 中華民國刑法第339條（普通詐欺罪）意圖為自己或第三人不法之所有，以詐術使人將本人或第三人之物交付者，處5年以下有期徒刑、拘役或科或併科1千元以下罰金\n",
            "\n",
            " 1: 三、本判決僅認定被告等人所涉上開犯行部分，至於祭祀公業蕭子玉之派下員究竟有幾人，除被告蕭慶堂、蕭慶珍、蕭慶三、蕭如壎外，尚有何人具派下員身分，應尋民事途逕解決，非係本判決論斷之範疇，併此敘明\n",
            "2: 據上論斷，應依刑事訴訟法第299條第1項前段、刑法第28條、第216條、第215條、第214條、第339條第1項、第55條、第41條第1項、第74條第1項第1款，刑法施行法第1條之1，判決如主文\n",
            "3: 本案經檢察官黃顗雯到庭執行職務\n",
            "========================================\n",
            "我想請你幫我對一篇判決書做Extraction-based summarization，我已經將這篇判決書切成多個句子，請幫我從以下句子中挑選出和犯罪事實情節最相關的3個句子。\n",
            "1: 以前項方法得財產上不法之利益或使第三人得之者，亦同\n",
            "2: 前二項之未遂犯罰之\n",
            "3: \n",
            "\n",
            " 1: 以前項方法得財產上不法之利益或使第三人得之者，亦同\n",
            "2: 前二項之未遂犯罰之\n",
            "3: \n",
            "\n",
            "From the given sentences, the most relevant sentences to the crime facts are:\n",
            "\n",
            "1. 以前項方法得財產上不法之利益或使第三人得之者，亦同\n",
            "2. 前二項之未遂犯罰之\n",
            "========================================\n",
            "我想請你幫我對一篇判決書做Extraction-based summarization，我已經將這篇判決書切成多個句子，請幫我從以下句子中挑選出和犯罪事實情節最相關的3個句子。\n",
            "1: 劉木卿主動與祭祀公業蕭子玉之管理人蕭賜福、蕭耀西之後代子孫聯絡處理該祭祀公業之相關事宜，經洽商結果，於蕭慶堂、蕭慶珍、蕭如壎、蕭慶三等人不需支費下，劉木卿代為申辦，事成後，由劉木卿獲得該祭祀公業所有土地價值20％之報酬。\n",
            "2: 劉木卿、蕭慶堂、蕭慶珍、蕭慶三與蕭如壎共同基於意圖為自已不法所有及行使業務上登載不實文書、使公務員登載不實之犯意聯絡，接續為下列行為：由劉木卿於民國98年8月3日前數日內某時，在彰化縣員林鎮○○路○段172之1號住處，於業務上登載祭祀公業蕭子玉「3、淵源來歷：由蕭賜福積蓄購買本公業所有坐落彰化縣田中鎮○○○段158、159地號等二筆之土地以祭田收益，作為每年清明節祭祀祖先之資，並期望子孫『蕭子』被珍惜如玉，故以『祭祀公業蕭子玉』命名」等不實沿革，及不實之「派下現員：蕭慶三、蕭慶堂、蕭慶珍、蕭如壎」名冊、不實之派下全員系統表、推舉書後，連同該祭祀公業之財產清冊、土地登記第一類謄本，書寫以蕭慶堂為申報人之祭祀公業派下全員證明書申請書，於98年8月4日由劉木卿持向彰化縣田中鎮公所申請該祭祀公業派下全員證明書而行使，使不知情之田中鎮公所民政課承辦人員誤認為所申報關於該祭祀公業之「享祀人」、「設立人」與祭祀公業財產等要件皆具備，及該祭祀公業之派下員僅有蕭慶堂、蕭慶珍、蕭慶三與蕭如壎，而將上開不實事項登載於職務上所掌之公文書，經田中鎮公所依法公告徵求異議，俟公告期滿無人異議後，劉木卿、蕭慶堂、蕭慶珍、蕭慶三與蕭如壎復基於意圖為自己不法利益之犯意聯絡，由劉木卿以該祭祀公業派下員證明申請案已公告期滿無人異議，於98年10月7日在其前揭住處製作祭祀公業蕭子玉申請書，表明蕭慶堂、蕭慶珍、蕭慶三與蕭如壎為該祭祀公業僅存之派下員，於98年10月8日以蕭慶堂名義向田中鎮公所申請核發派下員證明書，致不知情之田中鎮公所民政課承辦人員於98年10月12日核發祭祀公業派下全員證明書、祭祀公業蕭子玉派下全員系統表、派下現員名冊與不動產清冊給蕭慶堂，使蕭慶三、蕭慶堂、蕭慶珍、蕭如壎取得祭祀公業蕭子玉派下員資格之利益。\n",
            "3: 劉木卿、蕭慶堂、蕭慶珍、蕭如壎與蕭慶三於祭祀公業蕭子玉之管理人變更後，知悉該祭祀公業仍有共同設立人，應有其派下員存在，在未得其他人同意之下，仍繼續解散該祭祀公業，並辦理土地更名登記。\n",
            "4: 劉木卿於99年1月9日，在職務上製作之派下員同意書登載全體派下員同意解散該祭祀公業，並辦理土地更名登記。\n",
            "5: 劉木卿於99年1月22日，持不實文件向彰化縣田中地政事務所申請系爭土地更名登記，致使田中地政事務所承辦人員誤認蕭慶堂、蕭慶珍、蕭如壎與蕭慶三為該祭祀公業之全體派下員，並同意解散該祭祀公業。\n",
            "6: 是該劉姓代書帶我、蕭慶堂、蕭慶三及蕭慶珍４個兄弟前往彰化縣田中鎮○○路附近察看，告知附近土地是我們的\n",
            "7: 被告蕭如壎上開證詞，其憑信度極高，自可採信\n",
            "8: 因此，由上可知，被告蕭慶堂、蕭慶珍、蕭如壎、蕭慶三等人原本對祭祀公業蕭子玉之存否，包括其祖父係祭祀公業蕭子玉之管理人及該公業擁有坐落於彰化縣田中鎮○○○段158、159地號二筆土地等情，一無所悉，係同案被告劉木卿主動前來告知等情，確係為實\n",
            "9: 祭祀公業之享祀人即為祭祀公業所奉祀之人，多為設立人之尊長或先祖，而非以後代子孫為享祀人\n",
            "10: 二、祭祀公業財產：係指不動產、動產、股票、債券收益之意，此類祭祀公業的獨立財產，其財產應屬全體派下員公同共有，與派下子孫個別財產完全不相干\n",
            "11: (四)被告蕭慶堂、蕭慶珍、蕭如壎、蕭慶三等四人對於蕭氏宗親所編之蕭氏族譜，均不爭執之其為真正（99年度偵字第5375號第159頁至172頁），其上明確記載蕭時中係蕭氏入漳洲始祖（明永樂九年辛卯科狀元），其子積玉（字子玉，配黃氏），...十一世輝美、十二世有志誠、志海、志湖、志達\n",
            "12: 被告蕭慶三於警詢中，明確供陳：「（問：你是否知道蕭子玉祭祀公業沿革之內容為何？）蕭子玉是我們的祖先，祭祀公業是讓我祭祖留念」、「（問：提示位於彰化縣社頭鄉社頭村草仔埤巷4號「芳遠堂」蕭子玉牌位，是否就是你所稱你們祖先蕭子玉？）我以前有跟我媽媽到該處拜拜，他只告知我該處供奉我們的祖先，當時我還小，我沒有注意看」等語（見警詢筆錄附於99年度偵字第7488號偵查卷宗第10頁背面至11頁正面），而其與其他兄弟及被告劉木卿會商後，竟於所提之申請書附件沿革中，為上開記載，在在足證，被告蕭慶堂、蕭慶珍、蕭如壎、蕭慶三及同案被告即代書劉木卿均係明知且故意為之斷非係肇因證據散失、記憶模糊所致\n",
            "13: 被告蕭慶堂、蕭慶珍、蕭如壎、蕭慶三及同案被告即代書劉木卿於100年2月11日委由辯護人具狀表示：「（一）無相關證據足以認定蕭賜福為設立人；但亦無證據足以認定蕭賜福非設立人」（見100年2月11日所提之準備書狀），被告等人既明確表示無相關證據足以認定蕭賜福為設立人，則其等於上開沿革中，載稱：「4、設立者姓名：先祖蕭賜福所設立」，豈非係其等於無任何證據之下，徒憑己意所為，是該記載明確有不實之弊，自不待言\n",
            "14: 被告蕭慶堂、蕭慶珍、蕭如壎、蕭慶三之祖父蕭賜福於明治44年8月19日與齋友向同為其父蕭貞吉之繼承人蕭福智、蕭福根、蕭登王等人購買坐落彰化縣員林鎮○○○段第93地號（重測前為番仔崙93、104、136、213、218地號）土地設立祭祀公業德盛公，有土地登記簿謄本影本1份（含日據時代之登記簿，係被告所提出附於100年2月21日之準備書狀內），在卷可佐，觀日據時代之登記簿業主權事項欄就該事項係以記載【公業德盛公管理人武東堡社頭庄百八拾壹番地蕭賜福】之方式表示之，亦即方式之記載係表示土地係屬公業德盛公，而管理人係蕭賜福，且除蕭賜福外尚有其他派下員，並非由蕭賜福一人所獨設（因此公業係蕭賜福與其他人一同設立），再觀祭祀公業蕭子玉就系爭土地於日據時代之登記簿業主權事項欄內，其記載亦係以【公業蕭子玉管理人武東堡社頭庄百八拾壹番地蕭賜福】之方式表示之（見99年度偵字第5375號偵查卷宗第34頁），二者之記載方式，則代表含意亦相同，不容有不同之解釋，換言之此方式之記載係表示土地係屬公業蕭子玉，而管理人係蕭賜福，且除蕭賜福外尚有其他派下員，而縱蕭賜福係設立人，亦非由其一人所獨設（況依上述，並無相關證據足以認定蕭賜福係設立人）\n",
            "15: 申請書附件沿革中關於「3、淵源來歷：由蕭賜福積蓄購買本公業所有坐落彰化縣田中鎮○○○段158、159地號等二筆之土地」及「5、祭祀地點即供奉所在地」，顯係不實之記載。\n",
            "16: 被告等人主張蕭賜福擔任管理人時，其父親尚存在，該公業若為其祖先設立，焉有選任蕭賜福為管理人之可能云云，顯係模糊上情之詞。\n",
            "17: 被告劉木卿、蕭慶堂、蕭慶珍、蕭慶三與蕭如壎所辯，均與事實不符，不可採信。\n",
            "18: 其等利用不知情之田中鎮公所民政課承辦人員取得該祭祀公業派下員資格利益及利用不知情之田中鎮公所承辦人員取得系爭土地所有權，係間接正犯\n",
            "19: 是原經評價為牽連犯之案件，如其二行為間具有行為局部之同一性，或其行為著手實行階段可認為同一者，得認與一行為觸犯數罪名之要件相侔，而改評價為想像競合犯\n",
            "20: 於此，倘所發生之數個犯罪行為，在犯罪之性質上，或依吾人日常生活經驗之見解上，其前後行為，在形態上雖屬分別獨立，但從同一法益之侵害性而言，因具一定程度之關連性，可認為一方吸收他方之犯罪行為，遂置他方於不論，較為適當，應可依吸收犯理論，認屬實質上一罪關係，而僅包括的論以一罪（參照最高法院96年度台上字第4780號判決意旨）上開諸罪均係基於同一目的（即分歸取得土地所有權），故在刑法評價上，以視為數個舉動之接續施行，彼此間有行為局部之同一性，應為包括之一行為予以評價，較為合理，而屬一行為觸犯數罪名之想像競合犯，應依刑法第55條規定情節較重之詐欺取財罪處斷\n",
            "21: 三、本判決僅認定被告等人所涉上開犯行部分，至於祭祀公業蕭子玉之派下員究竟有幾人，除被告蕭慶堂、蕭慶珍、蕭慶三、蕭如壎外，尚有何人具派下員身分，應尋民事途逕解決，非係本判決論斷之範疇，併此敘明\n",
            "22: 據上論斷，應依刑事訴訟法第299條第1項前段、刑法第28條、第216條、第215條、第214條、第339條第1項、第55條、第41條第1項、第74條第1項第1款，刑法施行法第1條之1，判決如主文\n",
            "23: 本案經檢察官黃顗雯到庭執行職務\n",
            "24: 以前項方法得財產上不法之利益或使第三人得之者，亦同\n",
            "25: 前二項之未遂犯罰之\n",
            "26: \n",
            "27: \n",
            "28: \n",
            "29: \n",
            "30: 1. 以前項方法得財產上不法之利益或使第三人得之者，亦同\n",
            "31: 2. 前二項之未遂犯罰之\n",
            "\n",
            " 1. 劉木卿主動與祭祀公業蕭子玉之管理人蕭賜福、蕭耀西之後代子孫聯絡處理該祭祀公業之相關事宜，經洽商結果，於蕭慶堂、蕭慶珍、蕭如壎、蕭慶三等人不需支費下，劉木卿代為申辦，事成後，由劉木卿獲得該祭祀公業所有土地價值20％之報酬。\n",
            "2. 劉木卿、蕭慶堂、蕭慶珍、蕭慶三與蕭如壎共同基於意圖為自已不法所有及行使業務上登載不實文書、使公務員登載不實之犯意聯絡，接續為下列行為：由劉木卿於民國98年8月3日前數日內某時，在彰化縣員林鎮○○路○段172之1號住處，於業務上登載祭祀公業蕭子玉「3、淵源來歷：由蕭賜福積蓄購買本公業所有坐落彰化縣田中鎮○○○段158、159地號等二筆之土地以祭田收益，作為每年清明節祭祀祖先之資，並期望子孫『蕭子』被珍惜如玉，故以『祭祀公業蕭子玉』命名」等不實沿革，及不實之「派下現員：蕭慶三、蕭慶堂、蕭慶珍、蕭如壎」名冊、不實之派下全員系統表、推舉書後，連同該祭祀公業之財產清冊、土地登記第一類謄本，書寫以蕭慶堂為申報人之祭祀公業派下全員證明書申請書，於98年8月4日由劉木卿持向彰化縣田中鎮公所申請該祭祀公業派下全員證明書而行使，使不知情之田中鎮公所民政課承辦人員誤認為所申報關於該祭祀公業之「享祀人」、「設立人」與祭祀公業財產等要件皆具備，及該祭祀公業之派下員僅有蕭慶堂、蕭慶珍、蕭慶三與蕭如壎，而將上開不實事項登載於職務上所掌之公文書，經田中鎮公所依法公告徵求異議，俟公告期滿無人異議後，劉木卿、蕭慶堂、蕭慶珍、蕭慶三與蕭如壎復基於意圖為自己不法利益之犯意聯絡，由劉木卿以該祭祀公業派下員證明申請案已公告期滿無人異議，於98年10月7日在其前揭住處製作祭祀公業蕭子玉申請書，表明蕭慶堂、蕭慶珍、蕭慶三與蕭如壎為該祭祀公業僅存之派下員，於98年10月8日以蕭慶堂名義向田中鎮公所申請核發派下員證明書，致不知情之田中鎮公所民政課承辦人員於98年10月12日核發祭祀公業派下全員證明書、祭祀公業蕭子玉派下全員系統表、派下現員名冊與不動產清冊給蕭慶堂，使蕭慶三、蕭慶堂、蕭慶珍、蕭如壎取得祭祀公業蕭子玉派下員資格之利益。\n",
            "========================================\n",
            "我想請你幫我對一篇判決書做Extraction-based summarization，我已經將這篇判決書切成多個句子，請幫我從以下句子中挑選出和犯罪事實情節最相關的3個句子。\n",
            "1: 一、緣張彩系與鄧盈珍、鄧盈汝之父親鄧清亮係夫妻，鄧清亮於民國96年4月6日過世，遺產由張彩糸、鄧盈慧、鄧盈珍、鄧盈汝、鄧淯任5人共同繼承\n",
            "2: 詎張彩系未經共同繼承人鄧盈珍、鄧盈汝之同意，竟基於行使偽造私文書之犯意，於96年4月9日某時許，持鄧清亮開設之信義鄉農會帳號：00000000000000號帳戶存簿及開戶印章，前往位於南投縣○○鄉○○街00號之信義鄉農會填寫取款憑條、並盜蓋鄧清亮之開戶印章後，再持向不知情之該農會承辦人員行使之，將鄧清亮上開帳戶內之存款新臺幣（下同）153萬元轉入張彩系在該農會開設之帳號：00000000000000號帳戶，足生損害於鄧盈珍、鄧盈汝之繼承權利及信義鄉農會管理金融帳戶之正確性\n",
            "3: 二、案經鄧盈珍、鄧盈汝訴由臺灣臺中地方檢察署檢察官呈請臺灣高等檢察署臺中檢察分署檢察長核轉臺灣南投地方檢察署檢察官偵查起訴\n",
            "4: 理由一、證據能力：(一)本案以下引用被告張彩糸以外之人於審判外所為陳述之供述證據，迄本院言詞辯論終結前，檢察官、被告就該等證據之證據能力均未聲明異議（見本院卷第93、272頁），本院審酌該等證據製作時之情況，並無違法不當或證明力明顯過低之瑕疵，以之作為證據應屬適當，依刑事訴訟法第159條之5第2項之規定，認為均得作為證據\n",
            "5: (二)而其餘認定本案犯罪事實之非供述證據，復無違反法定程序取得之情形，亦得作為證據\n",
            "6: 二、認定犯罪事實所憑之證據及理由：訊據被告對於其與告訴人鄧盈珍、鄧盈汝之父親即被繼承人鄧清亮係夫妻，鄧清亮於96年4月6日過世，遺產由張彩糸、鄧盈慧、鄧盈珍、鄧盈汝、鄧淯任5人共同繼承；其於96年4月9日某時許，持鄧清亮開設之信義鄉農會帳號：00000000000000號帳戶存簿及開戶印章，前往位於南投縣○○鄉○○街00號之信義鄉農會填寫取款憑條、並蓋用鄧清亮之開戶印章後，再持向該農會承辦人員行使之，將鄧清亮上開帳戶內之存款153萬元轉入張彩系在該農會開設之帳號：00000000000000號帳戶之事實固不爭執（本院卷第93、94頁），惟矢口否認有何行使偽造私文書之犯行，並辯稱：提領款項係依公公指示，合乎一般社會通念及鄉民習慣，沒有偽造文書意圖；在我與我先生的戶籍裡面，未曾登記告訴人兩位的姓名；且提領款項係為償還鄧清亮之債務，並無詐欺或侵占之不法所有意圖（見本院卷第38、41、271、281至285頁）云云\n",
            "7: 經查：(一)關於上開被告不爭執之事實，業據被告於本院準備程序時自承在卷（見本院卷第39、93至95頁），核與告訴代理人謝莉蘭（見臺中他卷第14頁）、證人即告訴人鄧盈珍、鄧盈汝（見南投他卷第11頁、本院卷第238至241、265至268頁）所述情節大致相符，並有戶籍謄本（除戶部分）、信義鄉農會取款憑條、信義鄉農會105年8月22日函、個人戶籍資料（臺中他卷第4至6頁）、信義鄉農會客戶往來交易明細表（見本院卷第59至65頁）等件附卷可稽，是此部份之事實，即堪認定\n",
            "8: 而被告未經共同繼承人鄧盈珍、鄧盈汝之同意，擅自轉匯上開款項之事實，復據被告於偵訊時自承在案（見南投他卷第11頁），且經鄧盈珍、鄧盈汝證述明確（見本院卷第241、267頁），則此部分之事實，亦可認定\n",
            "9: (二)被告雖然辯稱提領款項係依公公指示，合乎一般社會通念及鄉民習慣，沒有偽造文書意圖云云\n",
            "10: 然依被告先後自陳「沒有辦法聯絡到其他繼承人」、「因為當初辦繼承的方面，我都有拜託姐姐跟他們聯絡」、「是他們不願意回來配合辦理」、「有叫他們拿資料來辦理繼承，但他們都不配合」（見南投他卷第11頁、本院卷第39、241、269頁），鄧盈珍證稱「他還一直恐嚇我們拋棄繼承」（見本院卷第239頁），鄧盈汝證稱「都是代書跟我們聯絡，要我們放棄繼承」（見本院卷第266頁），證人即鄧清亮之胞兄鄧清浪證稱：我有勸過被告就遺產部分要找告訴人方面來討論，我認為被告也有朝這方面來努力（見本院卷第271頁）等語，可見被告顯然知悉被繼承人鄧清亮死亡以後，已不得再以鄧清亮名義製作取款憑條提領被繼承人之存款，如要提領被繼承人之存款，應得全體繼承人之同意，否則何須大費周章聯絡告訴人等配合辦理繼承或拋棄繼承事宜；被告辯稱提領款項係依公公指示，合乎一般社會通念及鄉民習慣，沒有偽造文書意圖云云，實屬卸責之詞，不足採信，被告具有行使偽造私文書之故意甚明\n",
            "\n",
            " 1: 張彩系未經共同繼承人鄧盈珍、鄧盈汝之同意，竟基於行使偽造私文書之犯意，於96年4月9日某時許，持鄧清亮開設之信義鄉農會帳號：00000000000000號帳戶存簿及開戶印章，前往位於南投縣○○鄉○○街00號之信義鄉農會填寫取款憑條、並盜蓋鄧清亮之開戶印章後，再持向不知情之該農會承辦人員行使之，將鄧清亮上開帳戶內之存款153萬元轉入張彩系在該農會開設之帳號：00000000000000號帳戶，足生損害於鄧盈珍、鄧盈汝之繼承權利及信義鄉農會管理金融帳戶之正確性\n",
            "2: 案經鄧盈珍、鄧盈汝訴由臺灣臺中地方檢察署檢察官呈請臺灣高等檢察署臺中檢察分署檢察長核轉臺灣南投地方檢察署檢察官偵查起訴\n",
            "3: 被告未經共同繼承人鄧盈珍、鄧盈汝之同意，擅自轉匯上開款項之事實，復據被告於偵訊時自承在案（見南投他卷第11頁），且經鄧盈珍、鄧盈汝證述明確（見本院卷第241、267頁），則此部分之事實，亦可認定\n",
            "========================================\n",
            "我想請你幫我對一篇判決書做Extraction-based summarization，我已經將這篇判決書切成多個句子，請幫我從以下句子中挑選出和犯罪事實情節最相關的3個句子。\n",
            "1: (三)被告嗣後雖再改口辯稱在我與我先生的戶籍裡面，未曾登記告訴人兩位的姓名云云\n",
            "2: 但以被告於被繼承人鄧清亮死亡以後，曾經聯絡告訴人等配合辦理繼承或拋棄繼承事宜，已如上述，佐諸鄧盈珍證稱：被告跟我父親結婚時，知道我父親有其他子女（見本院卷第239頁），鄧清浪證稱：被告知道鄧清亮有與前配偶育有子女（見本院卷第270頁）等語，足見被告於轉匯上開存款時，確實知悉告訴人2人為鄧清亮之子女，而為鄧清亮之共同繼承人；被告辯稱在其與其先生的戶籍裡面，未曾登記告訴人兩位的姓名云云，不過飾卸之詞，委不可採\n",
            "3: (四)被告雖又辯稱轉匯上開款項係為償還鄧清亮之債務，並未生損害於公眾或他人云云\n",
            "4: 然按，刑法第210條所稱足生損害於公眾或他人，以有損害之虞為已足，不以實際發生損害為要件（最高法院43年台上字第387號判例要旨參照）\n",
            "5: 所稱之足生損害，係指他人有可受法律保護之利益，因此遭受損害或有受損害之虞，不以實際發生損害者為必要；而所謂損害，亦不以經濟上之損害為限，即民事、刑事或行政上之損害亦皆屬之（最高法院107年度台上字第3038號判決要旨參照）\n",
            "6: 如未經被繼承人之全體繼承人同意，即偽以被繼承人名義製作取款憑條，提領被繼承人帳戶內之存款，其行為自有足以生損害於其餘繼承人之虞，至於其所提領之款項是否非被繼承人之遺產及提領之用途為何，均與其行為是否與刑法第210條、第216條行使偽造私文書罪之犯罪構成要件該當，並不生影響（最高法院106年度台上字第1165號判決意旨參照）\n",
            "7: 則以被告未經鄧清亮之繼承人即告訴人2人同意，擅自轉匯上開款項，造成鄧清亮名下財產減少，告訴人等之繼承權利即有可能受到損害，並不以彙算之後確有損害為必要；且被告於鄧清亮過世後，擅以鄧清亮之名義轉匯上開款項，復可能產生信義鄉農會對於消費寄託債務是否清償之爭執，亦足生損害於信義鄉農會管理金融帳戶之正確性\n",
            "8: 被告辯稱未生損害於公眾或他人云云，純屬推諉之詞，並不可採\n",
            "9: (五)至於被告雖另辯稱提領款項係為償還鄧清亮之債務，並無詐欺或侵占之不法所有意圖云云\n",
            "10: 惟按，所提領之款項是否使用於支付被繼承人醫藥費、喪葬費之用，要屬行為人有無不法所有意圖之問題，與行使偽造私文書罪該當與否不生影響（最高法院107年度台上字第1753號判決意旨參照）\n",
            "\n",
            " 1: 但以被告於被繼承人鄧清亮死亡以後，曾經聯絡告訴人等配合辦理繼承或拋棄繼承事宜，已如上述，佐諸鄧盈珍證稱：被告跟我父親結婚時，知道我父親有其他子女（見本院卷第239頁），鄧清浪證稱：被告知道鄧清亮有與前配偶育有子女（見本院卷第270頁）等語，足見被告於轉匯上開存款時，確實知悉告訴人2人為鄧清亮之子女，而為鄧清亮之共同繼承人；被告辯稱在其與其先生的戶籍裡面，未曾登記告訴人兩位的姓名云云，不過飾卸之詞，委不可採\n",
            "2: 然按，刑法第210條所稱足生損害於公眾或他人，以有損害之虞為已足，不以實際發生損害為要件（最高法院43年台上字第387號判例要旨參照）\n",
            "3: 以未經被繼承人之全體繼承人同意，即偽以被繼承人名義製作取款憑條，提領被繼承人帳戶內之存款，其行為自有足以生損害於其餘繼承人之虞，至於其所提領之款項是否非被繼承人之遺產及提領之用途為何，均與其行為是否與刑法第210條、第216條行使偽造私文書罪之犯罪構成要件該當，並不生影響（最高法院106年度台上字第1165號判決意旨參照）\n",
            "========================================\n",
            "我想請你幫我對一篇判決書做Extraction-based summarization，我已經將這篇判決書切成多個句子，請幫我從以下句子中挑選出和犯罪事實情節最相關的3個句子。\n",
            "1: 茲因本案起訴意旨及上開論罪所犯罪名均未認定被告涉犯詐欺或侵占犯行、而均論以行使偽造私文書罪嫌（見本院卷第10、11頁），被告轉匯上開款項是否係為償還被繼承人鄧清亮之債務，事涉是否構成詐欺或侵占犯罪，自與本案被告是否成立犯罪（行使偽造私文書）無關\n",
            "2: 被告辯稱並無詐欺或侵占之不法所有意圖云云，容有誤會起訴及論罪所犯罪名，併予敘明\n",
            "3: (六)綜上所述，本案事證明確，被告之犯行可以認定，應予依法論罪科刑\n",
            "4: 三、論罪科刑之理由：(一)按人之權利能力，終於死亡，其權利義務因死亡而開始繼承，由全體繼承人承受，故關於遺產之法律行為，自當由全體繼承人為之，被繼承人縱令於生前曾授權他人為之，亦因其死亡致權利主體不存在使授權關係消滅，即不得再以被繼承人生前授權或全體繼承人之同意，而以被繼承人之名義製作取款憑條，提領被繼承人帳戶內之存款，否則足致社會一般人誤認死者猶然生存在世，有害公共信用之虞，尤其倘另有其他繼承人，對於遺產之繼承迭有爭執，倘未經全體繼承人同意，而擅以被繼承人名義為法律行為，其行為更有足生損害於繼承人之虞，均屬無權製作之偽造行為；至於行為人提領款項之目的或動機何在（例如是否悉數用作支付喪葬費，或其他用途），對於本罪之成立，不生影響（最高法院107年度台上字第1162號判決意旨參照）\n",
            "5: 次按，盜用印章與盜用印文為不同之犯罪態樣，盜取他人之印章持以蓋用，當然產生該印章之印文，祇成立盜用印章罪，不應再論以盜用印文罪，亦非盜用印章行為為盜用印文行為所吸收（最高法院86年台上字第3295號判例要旨參照）\n",
            "6: 刑法上之盜用印文罪，係指單純盜用他人之印文而言；若盜用印文，而在書類上已為一定之意思表示，且具有存續性，其內容屬法律上有關係之事項者，則係犯偽造文書罪（最高法院91年度台上字第360號判決要旨參照）\n",
            "7: 銀行為便利存款人取款而印好任人索取填寫之取款憑條，非可流通市面得以自由轉讓，衹屬私文書之一種，不能認為有價證券（最高法院49年台上字第1409號判例要旨參照）\n",
            "8: 查被告持偽造鄧清亮製作之取款憑條，向不知情之信義鄉農會承辦人員行使之，核其所為，係犯刑法第216條、第210條之行使偽造私文書罪\n",
            "9: 而被告在取款憑條之私文書上，盜蓋鄧清亮之印章，係偽造私文書之階段行為；偽造私文書後復持以行使，偽造私文書之低度行為，亦為行使偽造私文書之高度行為所吸收，均不另論罪\n",
            "10: (二)爰審酌被告並無曾因犯罪經法院判處罪刑，有臺灣高等法院被告前案紀錄表1份在案足佐，而其明知配偶鄧清亮已經死亡，鄧清亮之信義鄉農會帳戶內之存款係屬遺產、且為全體繼承人共有，竟仍以鄧清亮之名義轉匯存款，非僅損害告訴人等之繼承權利，並且破壞信義鄉農會管理金融帳戶之正確性，行為實有不該，兼衡以被告轉匯之金額係為清償鄧清亮之生前債務及醫藥費（見南投偵卷第32至36頁），及其犯罪之動機、目的、手段、犯罪情節、犯後態度等一切情形，量處如主文所示之刑，並諭知易科罰金之折算標準\n",
            "\n",
            " 1: 茲因本案起訴意旨及上開論罪所犯罪名均未認定被告涉犯詐欺或侵占犯行、而均論以行使偽造私文書罪嫌（見本院卷第10、11頁），被告轉匯上開款項是否係為償還被繼承人鄧清亮之債務，事涉是否構成詐欺或侵占犯罪，自與本案被告是否成立犯罪（行使偽造私文書）無關\n",
            "3: (六)綜上所述，本案事證明確，被告之犯行可以認定，應予依法論罪科刑\n",
            "10: (二)爰審酌被告並無曾因犯罪經法院判處罪刑，有臺灣高等法院被告前案紀錄表1份在案足佐，而其明知配偶鄧清亮已經死亡，鄧清亮之信義鄉農會帳戶內之存款係屬遺產、且為全體繼承人共有，竟仍以鄧清亮之名義轉匯存款，非僅損害告訴人等之繼承權利，並且破壞信義鄉農會管理金融帳戶之正確性，行為實有不該，兼衡以被告轉匯之金額係為清償鄧清亮之生前債務及醫藥費（見南投偵卷第32至36頁），及其犯罪之動機、目的、手段、犯罪情節、犯後態度等一切情形，量處如主文所示之刑，並諭知易科罰金之折算標準\n",
            "========================================\n",
            "我想請你幫我對一篇判決書做Extraction-based summarization，我已經將這篇判決書切成多個句子，請幫我從以下句子中挑選出和犯罪事實情節最相關的3個句子。\n",
            "1: (三)另按，盜用他人真印章所蓋之印文，並非偽造印章之印文，不在刑法第219條所定必須沒收之列（最高法院48年台上字第113號判例要旨參照）\n",
            "2: 偽造之文書，既已交付於被害人收受，則該物非屬被告所有，除該偽造文書上偽造之印文、署押，應依刑法第219條予以沒收外，依同法第38條第3項之規定，即不得再就該文書諭知沒收（最高法院89年度台上字第3757號判決要旨參照）\n",
            "3: 查鄧清亮之上開信義鄉農會帳戶開戶印章係由被告保管，被告盜蓋印章之印文「鄧清亮」即非偽造，無從依刑法第219條規定諭知沒收\n",
            "4: 至於上開取款憑條，雖屬被告行使偽造私文書犯罪所用之物，但經被告持以行使，業經信義鄉農會承辦人員收執，已非被告所有，亦非違禁物，爰不予以宣告沒收\n",
            "5: 此外，被告以行使偽造私文書方式轉匯鄧清亮之信義鄉農會帳戶內之存款153萬元，為其犯罪所得（產自行使偽造私文書犯罪之所得，即實現犯罪所獲得之直接財產利益），固應依法宣告沒收，於全部或一部不能沒收時，追徵其價額，惟因被告主張扣抵「非屬繼承財產之鄧淯任薪資7萬5,586元；清償鄧清亮所遺合會債務35萬2,000元、所得稅債務1萬7,104元、信用卡消費債務2萬4,865元、對鄧清浪之70萬元借款債務、農會借款債務42萬4,931元，以及辦理繼承登記之代書費用5萬元」，合計164萬4,486元，業經臺灣臺中地方法院105年度家訴字第21號民事判決認屬有據，並且詳為說明理由（見南投偵卷第35頁），堪認被告並無保有犯罪所得，倘再就此宣告沒收或追徵，實有過苛之虞、且欠缺刑法上之重要性，自無必要宣告沒收或追徵\n",
            "6: 據上論斷，應依刑事訴訟法第299條第1項前段，刑法第216條、第210條、第41條第1項前段，判決如主文\n",
            "7: 本案經檢察官洪紹文提起公訴，檢察官陳俊宏到庭執行職務\n",
            "8: 中華民國108年5月30日刑事第二庭審判長法官黃益茂法官張雅涵法官張國隆以上正本與原本無異\n",
            "9: 如不服本判決應於收受送達後10日內向本院提出上訴書狀，並應敘述具體理由；其未敘述上訴理由者，應於上訴期間屆滿後20日內向本院補提理由書（均須按他造當事人之人數附繕本）「切勿逕送上級法院」\n",
            "10: 告訴人或被害人如對於本判決不服者，應具備理由請求檢察官上訴，其上訴期間之計算係以檢察官收受判決正本之日期為準\n",
            "\n",
            " 1: 盜用他人真印章所蓋之印文，並非偽造印章之印文，不在刑法第219條所定必須沒收之列（最高法院48年台上字第113號判例要旨參照）\n",
            "2: 偽造之文書，既已交付於被害人收受，則該物非屬被告所有，除該偽造文書上偽造之印文、署押，應依刑法第219條予以沒收外，依同法第38條第3項之規定，即不得再就該文書諭知沒收（最高法院89年度台上字第3757號判決要旨參照）\n",
            "3: 查鄧清亮之上開信義鄉農會帳戶開戶印章係由被告保管，被告盜蓋印章之印文「鄧清亮」即非偽造，無從依刑法第219條規定諭知沒收\n",
            "========================================\n",
            "我想請你幫我對一篇判決書做Extraction-based summarization，我已經將這篇判決書切成多個句子，請幫我從以下句子中挑選出和犯罪事實情節最相關的3個句子。\n",
            "1: 書記官張馨方中華民國108年5月30日附錄本案論罪科刑法條：中華民國刑法第210條偽造、變造私文書，足以生損害於公眾或他人者，處5年以下有有期徒刑\n",
            "2: 中華民國刑法第216條行使第210條至第215條之文書者，依偽造、變造文書或登載不實事項或使登載不實事項之規定處斷\n",
            "3: \n",
            "\n",
            " 1: 書記官張馨方中華民國108年5月30日\n",
            "2: 中華民國刑法第210條偽造、變造私文書，足以生損害於公眾或他人者，處5年以下有有期徒刑\n",
            "3: 中華民國刑法第216條行使第210條至第215條之文書者，依偽造、變造文書或登載不實事項或使登載不實事項之規定處斷\n",
            "========================================\n",
            "我想請你幫我對一篇判決書做Extraction-based summarization，我已經將這篇判決書切成多個句子，請幫我從以下句子中挑選出和犯罪事實情節最相關的3個句子。\n",
            "1: 張彩系未經共同繼承人鄧盈珍、鄧盈汝之同意，竟基於行使偽造私文書之犯意，於96年4月9日某時許，持鄧清亮開設之信義鄉農會帳號：00000000000000號帳戶存簿及開戶印章，前往位於南投縣○○鄉○○街00號之信義鄉農會填寫取款憑條、並盜蓋鄧清亮之開戶印章後，再持向不知情之該農會承辦人員行使之，將鄧清亮上開帳戶內之存款153萬元轉入張彩系在該農會開設之帳號：00000000000000號帳戶，足生損害於鄧盈珍、鄧盈汝之繼承權利及信義鄉農會管理金融帳戶之正確性\n",
            "2: 案經鄧盈珍、鄧盈汝訴由臺灣臺中地方檢察署檢察官呈請臺灣高等檢察署臺中檢察分署檢察長核轉臺灣南投地方檢察署檢察官偵查起訴\n",
            "3: 被告未經共同繼承人鄧盈珍、鄧盈汝之同意，擅自轉匯上開款項之事實，復據被告於偵訊時自承在案（見南投他卷第11頁），且經鄧盈珍、鄧盈汝證述明確（見本院卷第241、267頁），則此部分之事實，亦可認定\n",
            "4: 但以被告於被繼承人鄧清亮死亡以後，曾經聯絡告訴人等配合辦理繼承或拋棄繼承事宜，已如上述，佐諸鄧盈珍證稱：被告跟我父親結婚時，知道我父親有其他子女（見本院卷第239頁），鄧清浪證稱：被告知道鄧清亮有與前配偶育有子女（見本院卷第270頁）等語，足見被告於轉匯上開存款時，確實知悉告訴人2人為鄧清亮之子女，而為鄧清亮之共同繼承人；被告辯稱在其與其先生的戶籍裡面，未曾登記告訴人兩位的姓名云云，不過飾卸之詞，委不可採\n",
            "5: 然按，刑法第210條所稱足生損害於公眾或他人，以有損害之虞為已足，不以實際發生損害為要件（最高法院43年台上字第387號判例要旨參照）\n",
            "6: 以未經被繼承人之全體繼承人同意，即偽以被繼承人名義製作取款憑條，提領被繼承人帳戶內之存款，其行為自有足以生損害於其餘繼承人之虞，至於其所提領之款項是否非被繼承人之遺產及提領之用途為何，均與其行為是否與刑法第210條、第216條行使偽造私文書罪之犯罪構成要件該當，並不生影響（最高法院106年度台上字第1165號判決意旨參照）\n",
            "7: 茲因本案起訴意旨及上開論罪所犯罪名均未認定被告涉犯詐欺或侵占犯行、而均論以行使偽造私文書罪嫌（見本院卷第10、11頁），被告轉匯上開款項是否係為償還被繼承人鄧清亮之債務，事涉是否構成詐欺或侵占犯罪，自與本案被告是否成立犯罪（行使偽造私文書）無關\n",
            "8: (六)綜上所述，本案事證明確，被告之犯行可以認定，應予依法論罪科刑\n",
            "9: (二)爰審酌被告並無曾因犯罪經法院判處罪刑，有臺灣高等法院被告前案紀錄表1份在案足佐，而其明知配偶鄧清亮已經死亡，鄧清亮之信義鄉農會帳戶內之存款係屬遺產、且為全體繼承人共有，竟仍以鄧清亮之名義轉匯存款，非僅損害告訴人等之繼承權利，並且破壞信義鄉農會管理金融帳戶之正確性，行為實有不該，兼衡以被告轉匯之金額係為清償鄧清亮之生前債務及醫藥費（見南投偵卷第32至36頁），及其犯罪之動機、目的、手段、犯罪情節、犯後態度等一切情形，量處如主文所示之刑，並諭知易科罰金之折算標準\n",
            "10: 盜用他人真印章所蓋之印文，並非偽造印章之印文，不在刑法第219條所定必須沒收之列（最高法院48年台上字第113號判例要旨參照）\n",
            "11: 偽造之文書，既已交付於被害人收受，則該物非屬被告所有，除該偽造文書上偽造之印文、署押，應依刑法第219條予以沒收外，依同法第38條第3項之規定，即不得再就該文書諭知沒收（最高法院89年度台上字第3757號判決要旨參照）\n",
            "12: 查鄧清亮之上開信義鄉農會帳戶開戶印章係由被告保管，被告盜蓋印章之印文「鄧清亮」即非偽造，無從依刑法第219條規定諭知沒收\n",
            "13: 書記官張馨方中華民國108年5月30日\n",
            "14: 中華民國刑法第210條偽造、變造私文書，足以生損害於公眾或他人者，處5年以下有有期徒刑\n",
            "15: 中華民國刑法第216條行使第210條至第215條之文書者，依偽造、變造文書或登載不實事項或使登載不實事項之規定處斷\n",
            "\n",
            " 1: 張彩系未經共同繼承人鄧盈珍、鄧盈汝之同意，竟基於行使偽造私文書之犯意，於96年4月9日某時許，持鄧清亮開設之信義鄉農會帳號：00000000000000號帳戶存簿及開戶印章，前往位於南投縣○○鄉○○街00號之信義鄉農會填寫取款憑條、並盜蓋鄧清亮之開戶印章後，再持向不知情之該農會承辦人員行使之，將鄧清亮上開帳戶內之存款153萬元轉入張彩系在該農會開設之帳號：00000000000000號帳戶，足生損害於鄧盈珍、鄧盈汝之繼承權利及信義鄉農會管理金融帳戶之正確性\n",
            "3: 被告未經共同繼承人鄧盈珍、鄧盈汝之同意，擅自轉匯上開款項之事實，復據被告於偵訊時自承在案（見南投他卷第11頁），且經鄧盈珍、鄧盈汝證述明確（見本院卷第241、267頁），則此部分之事實，亦可認定\n",
            "6: 以未經被繼承人之全體繼承人同意，即偽以被繼承人名義製作取款憑條，提領被繼承人帳戶內之存款，其行為自有足以生損害於其餘繼承人之虞，至於其所提領之款項是否非被繼承人之遺產及提領之用途為何，均與其行為是否與刑法第210條、第216條行使偽造私文書罪之犯罪構成要件該當，並不生影響（最高法院106年度台上字第1165號判決意旨參照）\n",
            "========================================\n"
          ]
        }
      ],
      "source": [
        "summaries = generate_summary(query, test_facts_sentences[:3])"
      ]
    },
    {
      "cell_type": "code",
      "execution_count": null,
      "metadata": {
        "colab": {
          "base_uri": "https://localhost:8080/"
        },
        "id": "oyLYE4NKgd9D",
        "outputId": "a9caa927-76d6-447d-8eec-96728a5c3230"
      },
      "outputs": [
        {
          "name": "stdout",
          "output_type": "stream",
          "text": [
            "○、緣徐鴻光（所涉行使偽造私文書犯行，業經本院以95年度訴字第955號判決處有期徒刑3月、緩刑3年確定）因需款使用，知悉穆立明有借款管道，為求順利借款，2人竟共同意圖為自己不法所有，基於行使偽造私文書及詐欺取財之犯意聯絡，知悉車牌號碼00-000號營業小客車係徐鴻光向志朗交通有限公司（下稱志朗公司）租賃之車輛，竟由穆立明先於不詳時間、不詳地點，偽刻「志朗交通有限公司」及負責人「陳健志」印章（正確姓名為陳建志，誤刻為「陳健志」）各1枚，並偽造「陳健志」代表志朗公司與徐鴻光簽署之「臺北市計程車客運駕駛人自備車輛參與經營契約書」（下稱本案參與經營契約書），虛偽記載徐鴻光提供上述營業小客車靠行志朗公司營業等不實內容，並持上開偽刻印章，偽造「志朗交通有限公司」印文4枚、「陳健志」印文6枚於本案參與經營契約書上，再於92年3月6日交徐鴻光於立約人乙方欄簽名，2人復於同日協同不知情之徐鴻光配偶徐樂仁（所涉行使偽造私文書犯行，業經本院以95年度訴字第955號判決無罪確定），前往臺北市○○區○○街00巷0號2樓王傑生所經營之宏帝當舖（現更名為渣打當舖），由徐鴻光、穆立明交付偽造本案參與經營契約書向宏帝當鋪借款新臺幣（下同）10萬元以為行使，並約定由徐樂仁擔任連帶保證人，王傑生誤信上開車輛為徐鴻光所有而陷入錯誤，於扣除利息後交付9萬1千元借款予徐鴻光夫婦，足以生損害於志朗公司、陳建志、王傑生。嗣因徐鴻光僅清償每期7千元之分期款共11期計7萬7千元，未全額清償即無力負擔債務，王傑生始查知上開車輛非徐鴻光所有，而悉上情。二、案經王傑生訴由臺灣士林地方法院檢察署檢察官偵查起訴。理由○、證據能力部分：被告以外之人於審判外之言詞或書面陳述，除法律有規定者外，不得作為證據；又被告以外之人於審判外之陳述，雖不符合同法第159條之1至第159條之4之規定，但經當事人於審判程序同意作為證據，法院審酌該言詞陳述或書面陳述作成時之情況，認為適當者，亦得為證據。刑事訴訟法第159條第1項及第159條之5第1項分別定有明文。經查，本判決所引用之各該被告以外之人於審判外之陳述，雖屬傳聞證據，然當事人於本院審判期日中均表示同意作為證據方法而不予爭執，且迄至言詞辯論終結前亦未再聲明異議（見本院卷第68頁至第68頁背面），本院審酌上開證據資料製作時之情況，尚無違法不當及證明力明顯過低之瑕疵，亦認為以之作為證據應屬適當，故揆諸前開規定，爰依刑事訴訟法第159條之5規定，認前揭證據資料均有證據能力。二、認定犯罪事實所憑之證據及理由：（一）訊據被告穆立明固坦承有於92年3月6日帶共同被告徐鴻光、徐樂仁至宏帝當鋪借錢，惟矢口否認有何行使偽造私文書及詐欺取財之犯行，辯稱：本案參與經營契約書係由共同被告徐鴻光所提出，徐鴻光知道我在宏帝當舖當業務員，他因資金不夠，要伊帶至宏帝當鋪借錢，伊請徐鴻光帶身分證、本案參與經營契約書，證明計程車係屬於徐鴻光所有，另外要帶一位保人云云。（二）經查，證人即志英交通公司負責人陳建志於檢察官偵查中結證稱：本案參與經營契約書上之「志朗交通有限公司」、「陳健志」之印文均非我公司的大小章，志朗交通公司也是我的公司，我是負責人，但這個章不是我的，被告徐鴻光只是加入無線電台等語（見94年度偵字第8715號卷第45頁），復有其提出真正之志朗交通有限公司及其本人陳建志之印文各4枚在卷可稽（見94年度偵字第8715號卷第48頁），經核卷附本案參與經營契約書上所示之「志朗交通有限公司」、「陳健志」印文（見95年度偵緝字第60號卷第53頁），除二者字體明顯不同外，本案參與經營契約書中「陳健志」名字中之「健」一字顯係錯別字，堪認本案參與經營契約書上所示之「志朗交通有限公司」、「陳健志」印文確屬偽造一節，應可認定。（三）證人即告訴人王傑生於檢察官偵查中證稱：我經營宏帝當鋪，後改名為渣打當鋪，地址在臺北市○○街00巷0號2樓，計程車典當給我們時，我們要看參與經營契約書，被告徐鴻光有來借錢，被告穆立明當時有在場，徐鴻光給我們看本案參與經營契約書，我們就以為車子是徐鴻光的，我們找到車之後才知道車子是車行的，被告穆立明是我們公司抽獎金的業務員，穆立明介紹人來借錢，我給他獎金等語（見94年度偵字第8715號卷第37頁、95年度偵緝字第60號卷第49頁、第68頁），且證人朱庭峰於檢察官偵查中及本院審理時亦結證稱：我是宏帝當鋪的負責人，後來當鋪讓給王傑生，被告徐鴻光到宏帝當鋪借款10萬元，係由我接洽，當時是被告穆立明介紹，穆立明不是公司職員，他會介紹車子到我們公司來典當，我會給穆立明佣金，即我收到1,000元利息，就給他100元，本案參與經營契約書是由穆立明拿出來等語（見95年度偵緝字第60號卷第68頁至第69頁、95年度訴字第955號卷第66頁至第67頁），復有本案參與經營契約書、本票影本各1份附卷可憑（見94年度偵字第8715號卷第14頁至第17頁），足認共同被告徐鴻光係經被告穆立明介紹，持本案參與經營契約書於上開時間前往宏帝當鋪借款10萬元，且被告穆立明於借款時在場之事實，洵堪認定。（四）被告穆立明雖辯稱：本案參與經營契約書係共同被告徐鴻光所提出，伊僅有將徐鴻光帶去當鋪，就由當舖的人接洽云云，惟查，證人即共同被告徐鴻光於本院審理時證稱：因為我當司機收入不高，家裡有需要用錢，被告穆立明說有辦法借錢，我請被告穆立明帶我去借款，被告穆立明有帶我去當鋪，我太太徐樂仁當時有一起陪同，卷附之本票影本係我當時在當鋪簽立，而本案參與經營契約書係被告穆立明幫我準備好的，經我在當舖蓋我的章及簽名，被告穆立明拿給我時契約書已經寫好資料，至於被告穆立明提出本案參與經營契約書之來源我不知道，被告穆立明只有要我帶駕照、行照、身分證及私章，車號00-000號營業用小客車是我用租的車子，車子是志朗公司的車子，本案參與經營契約書內容不是真的，車子不是我自備的，只有契約書末頁乙方的簽名是我簽的等語（見本院卷第64頁至第66頁背面），核與其在檢察官偵查中證稱：被告穆立明有帶我去宏帝當鋪向朱先生借錢，我借10萬元，本案參與經營契約書係被告穆立明幫我準備好的，前面的簽名及資料是被告穆立明簽的，只有最後的簽名是我簽的等語大致相符（見95年度偵緝字第60號卷第48頁至第49頁），再查，參以被告穆立明於本院審理時當庭書寫徐鴻光名字之字跡經與本案參與經營契約書立契約書人一欄所簽署「徐鴻光」之筆跡比對後（見本院卷第73頁），依肉眼觀之，不論字跡之運筆、筆勾等字體外觀，均較為吻合，反觀該契約書頁末之乙方「徐鴻光」之筆跡，與頁首立契約書人一欄所簽署「徐鴻光」之筆跡之運筆及筆勾，字跡明顯不同，是被告穆立明辯稱本案參與經營契約書係由共同被告徐鴻光提出云云，已難採信；又證人徐鴻光於本院審理時證稱：我曾經用上開車輛向別的當鋪借錢，當時別的當鋪說車子用租的也可以借，只要押行照在那裡即可，不需要像本件一樣的契約，本件是我去當鋪，他們說該簽名的地方，我就簽名，且是我透過別的司機得知被告穆立明可以幫我問問哪裡可以借錢，所以才找被告穆立明等語（見本院卷第65頁背面至第66頁背面），衡以證人徐鴻光涉犯本案犯行業經本院認定有罪確定，自應無虛偽陳述之動機，且被告穆立明自承與證人徐鴻光無糾紛，同為排班計程車司機，為點頭之交乙情，亦認證人徐鴻光無涉詞誣陷被告穆立明之可能；再參以證人王傑生、朱庭峰皆證述本案參與經營契約書係由被告穆立明提出一節，又被告並不否認宏帝當舖僅同意典當個人所有靠行之車輛，不同意典當向車行租的車輛等情，而本件共同被告徐鴻光既有提供行照予被告穆立明，業經其證述如前，則自行照之記載內容即可知悉上開車輛所有人為何人，被告穆立明豈有不知上開車輛所有人為何人之理，況被告穆立明供認介紹共同被告徐鴻光予宏帝當鋪借錢有利息百分之十之報酬等語（見本院卷第69頁背面），其當有可能為促成徐鴻光與宏帝當鋪借款，而提出本案經營契約書供作本件借款之用，是被告穆立明辯稱車子是徐鴻光說其自己所有，本案參與經營契約書係徐鴻光自行提出云云，顯係事後卸責之詞，不足採信。（五）綜上所述，被告上開所辯各節，無非事後避重就輕、圖卸之詞，不足採信，被告行使偽造私文書及詐欺取財等犯行，事證明確，應依法論科。三、論罪科刑部分：（一）按被告行為後，94年2月2日修正公布之刑法已於95年7月1日生效施行，其中第2條第1項「行為後法律有變更者，適用行為時之法律。但行為後之法律有利於行為人者，適用最有利於行為人之法律」之規定，係規範行為後法律變更所生新、舊法律比較適用之準據法，並非刑法實體法律，自不生行為後法律變更之比較適用問題，故刑法修正施行後，應適用該修正後之第2條第1項之規定，依「從舊、從輕」之原則比較新、舊法律之適用；又比較新舊法時，應就罪刑有關之共犯、未遂犯、想像競合犯、牽連犯、連續犯、結合犯，以及累犯加重、自首減輕暨其他法定加減原因（如身分加減）與加減例等一切情形，綜其全部罪刑之結果而為比較後，再適用有利於行為人之法律處斷，而不得一部割裂分別適用不同之新、舊法（最高法院24年上字第4634號、29年上字第964號判例意旨及最高法院95年度第8次刑事庭會議決議參照）。經查：1.刑法第33條第5款關於罰金刑之規定業於94年2月2日修正，於95年7月1日生效，修正前刑法第33條第5款規定：「罰金：1元（銀元）以上。」，並依現行法規所定貨幣單位折算新臺幣條例規定，以銀元1元折算新臺幣3元，故修正前刑法規定罰金之最低數額為新臺幣3元；修正後刑法第33條第5款規定：「罰金：新臺幣1,000元以上，以百元計算之。」，故修正後刑法規定罰金之最低數額提高為新臺幣1,000元；比較上開罰金刑之最高數額，於修正後並無不同，惟修正後刑法第33條第5款所定罰金刑最低數額，既較修正前提高，依前開說明，應適用對被告有利之修正前刑法第33條第5款之規定。2.修正前刑法第28條規定：「二人以上共同實施犯罪之行為者，皆為正犯。」，修正後該條規定為：「二人以上共同實行犯罪之行為者，皆為正犯。」，揆諸本條之修正理由，係為釐清陰謀共同正犯、預備共同正犯、共謀共同正犯是否合乎本條之正犯要件，並將陰謀共同正犯、預備共同正犯剔除於本條適用之外，以符合近代刑法之個人責任原則、法治國人權保障思想及犯罪支配理論，自屬行為後法律有變更，而非僅屬文字修正，應有新舊法比較適用問題（最高法院97年度台上字第37號判決意旨參照）。本件被告穆立明與徐鴻光就前揭行使偽造私文書及詐欺取財犯行各具有犯意聯絡及行為分擔，不論依修正前或修正後之規定，均屬共同正犯，對被告並無有利或不利之情形，應適用行為時之法律。3.被告行為後新法業已刪除牽連犯之規定，依舊法成立方法、結果行為而僅論以一罪者，依新法將論以數罪，比較新、舊法結果，自以修正前刑法第55條牽連犯之規定，較有利於被告。4.綜此，本院經綜合上述各條文修正前、後之比較，參照前揭最高法院決議及修正後刑法第2條第1項前段、後段規定之「從舊、從輕」原則，被告穆立明上開犯行自應適用行為時之法律，予以論處。（二）核被告穆立明所為，係犯刑法第216條、第210條之行使偽造私文書罪、同法第339條第1項詐欺取財罪。被告穆立明於本案參與經營契約書上偽造「志朗交通有限公司」、「陳健志」印章及印文乃偽造私文書之部分行為，其偽造本案參與經營契約書後持以行使，偽造之低度行為復為行使之高度行為所吸收，均不另論罪。被告穆立明與徐鴻光就行使偽造私文書及詐欺之犯行有犯意聯絡及行為分擔，為共同正犯。又其等行使偽造私文書之目的，在詐取告訴人之金錢，所犯連續行使偽造私文書與詐欺取財2罪間，有方法、目的之牽連關係，應依修正前刑法第55條規定，從一較重之行使偽造私文書罪處斷。（三）爰審酌被告穆立明不思以正當途徑賺取錢財，竟偽造志朗公司及其負責人陳建志之印章，進而偽造本案參與經營契約書，而詐取告訴人之金錢，足生損害於志朗公司、陳建志、告訴人，並危害社會交易秩序，所為實有不該，犯後否認犯行，未見悔悟之心，兼衡被告穆立明有違反票據法之前科，有臺灣高等法院被告前案紀錄表在卷可稽（見本院卷第60頁），素行尚可，共同被告徐鴻光於詐得借款後已陸續返還利息予告訴人與朱庭峰，及被告穆立明為高中肄業之智識程度，經濟狀況為小康之生活狀況等一切情狀（見被告警詢筆錄受詢問人欄，本院卷第6頁），量處如主文所示之刑，以資懲儆。又關於易科罰金之折算標準，修正前刑法第41條第1項前段規定：「犯最重本刑為5年以下有期徒刑以下之刑之罪，而受6個月以下有期徒刑或拘役之宣告，因身體、教育、職業、家庭之關係或其他正當事由，執行顯有困難者，得以1元以上3元以下折算1日，易科罰金。」，再依據修正前罰金罰鍰提高標準條例第2條：「依刑法第41條易科罰金或第42條第2項易服勞役者，均就其原定數額提高為1百倍折算1日；法律所定罰金數額未依本條例提高倍數，或其處罰法條無罰金刑之規定者，亦同。」之規定，被告行為時之易科罰金折算標準，應以銀元1百元以上3百元以下折算1日，經折算為新臺幣後，應以新臺幣3百元以上9百元以下折算1日。惟95年7月1日施行之刑法第41條第1項前段規定修正為：「犯最重本刑為5年以下有期徒刑以下之刑之罪，而受6個月以下有期徒刑或拘役之宣告者，得以新臺幣1千元、2千元或3千元折算一日，易科罰金。」，另95年7月1日生效施行之罰金罰鍰提高標準條例則刪除原本第2條之規定。是以比較新舊法結果，自以舊法所定之易科罰金折算標準有利於被告，故應依修正前刑法第41條第1項前段、修正前罰金罰鍰提高標準條例第2條規定，就所宣告之刑部分諭知易科罰金之折算標準。（四）偽造之「臺北市計程車客運駕駛人自備車輛參與經營契約書」原本1份固經共同被告徐鴻光於借款時行使交付予宏帝當鋪，業如前述，惟此僅係共同被告徐鴻光為借得款項，而將本案參與經營契約書交付當鋪作為擔保使用，其所有權仍為共同被告徐鴻光所有，不因行使而移轉為宏帝當鋪所有，又該偽造之契約既係供本件犯行所用，爰依刑法第38條第1項第2款規定宣告沒收。又契約上偽造之「志朗交通有限公司」印文4枚、「陳健志」之印文6枚固係偽造之印文，已因該契約之沒收而包括在內，無再重複諭知沒收之必要。另告訴人為提起本件告訴，而複印本案參與經營契約書資為證據（見94年度偵字第8715號卷第15至第17頁），因認僅係作為本案訴訟使用，而非被告穆立明、共同被告徐鴻光供本件犯行所用之物，就複印之契約書上之「志朗交通有限公司」印文4枚、「陳健志」之印文6枚，爰不予宣告沒收。至被告穆立明偽刻之「志朗交通有限公司」、「陳健志」印章各1枚，係偽造之印章，且無證據證明業已滅失，應依刑法第219條宣告沒收。（五）再按本條例施行前，經通緝而未於中華民國96年12月31日以前自動歸案接受偵查、審判或執行者，不得依本條例減刑，中華民國九十六年罪犯減刑條例第5條定有明文。查本件被告穆立明所為前開犯行之犯罪時間固係在96年4月24日以前，但其曾於中華民國九十六年罪犯減刑條例施行（96年7月16日施行）前之95年12月21日因本案經本院以95年士院刑玄緝字第463號通緝書發佈通緝，於102年9月1日甫緝獲歸案等情，此有前開通緝書、歸案證明書、本院102年士院刑玄銷字第289號撤銷通緝書各1份存卷可參（95年度訴字第955號卷第43頁、本院卷第26頁、第43頁），從而，依前開規定，本案被告無從依中華民國九十六年罪犯減刑條例之規定減刑，併此敘明。據上論斷，應依刑事訴訟法第299條第1項前段，刑法第2條1項前段、第28條、第216條、第210條、第339條第1項、第219條、第38條第1項第2款、修正前刑法第55條、第41條第1項前段，刑法施行法第1條之1第1項，修正前罰金罰鍰提高標準條例第2條，現行法規所定貨幣單位折算新臺幣條例第2條，判決如主文。本案經檢察官黃仙宜到庭執行職務。中華民國102年12月3日刑事第七庭審判長法官雷雯華法官陳介安法官蔡子琪以上正本證明與原本無異。如不服本判決應於收受送達後10日內向本院提出上訴書狀，並應敘述具體理由。其未敘述上訴理由者，應於上訴期間屆滿後20日內向本院補提理由書（均須按他造當事人之人數附繕本）「切勿逕送上級法院」。書記官李宜蓁中華民國102年12月5日附錄本案論罪科刑所依據之法條：刑法第216條、第210條、第339條第1項偽造、變造私文書，足以生損害於公眾或他人者，處5年以下有期徒刑。偽造印章、印文或署押，足以生損害於公眾或他人者，處3年以下有期徒刑。盜用印章、印文或署押，足以生損害於公眾或他人者，亦同。意圖為自己或第三人不法之所有，以詐術使人將本人或第三人之物交付者，處5年以下有期徒刑、拘役或科或併科1千元以下罰金。\n",
            "一、劉木卿（曾有犯背信罪之紀錄，本件不構成累犯），係專業代書，為從事業務之人，曾多次承辦祭祀公業相關業務，深知有關之各種申辦程序及事宜，時值政府立法要求祭祀公業申報以便管理（即96年12月12日公布之祭祀公業條例，要求於該條例施行已存在，而未依祭祀公業公土清理要點或臺灣省祭祀公業土地清理辦法之規定申報並核發派下全員證明書之祭祀公理，應於同條例第7條規定之期間辦理申報等事宜），其知坐落於彰化縣田中鎮○○○段158、159地號二筆土地係屬祭祀公業蕭子玉所有，尚未清理依法核發派下全員證明書等情，故即主動與該公業之管理人蕭賜福、蕭耀西之後代子孫蕭慶堂、蕭慶珍、蕭如壎、蕭慶三等人聯絡處理該祭祀公業之相關事宜（此與該二筆土地密不可分），經洽商結果，於蕭慶堂、蕭慶珍、蕭如壎、蕭慶三等人不需支費下，劉木卿代為申辦，事成後，由劉木卿獲得該祭祀公業所有土地價值20％之報酬，劉木卿竟為圖得該優厚之報酬；另蕭慶堂等人，則亦冀得他人勿來參與成為祭祀公業蕭子玉之派下員，方減少土地分歸他人之意下，其等明知上開祭祀公業蕭子玉之設立人非僅係蕭賜福及該公業之享祀人係蕭子玉等情，其等竟共同基於意圖為自已不法所有及行使業務上登載不實文書、使公務員登載不實之犯意聯絡，接續為下列行為：(一)由劉木卿於民國98年8月3日前數日內某時，在彰化縣員林鎮○○路○段172之1號住處，於業務上登載祭祀公業蕭子玉「3、淵源來歷：由蕭賜福積蓄購買本公業所有坐落彰化縣田中鎮○○○段158、159地號等二筆之土地。以祭田收益，作為每年清明節祭祀祖先之資。並期望子孫『蕭子』被珍惜如玉，故以『祭祀公業蕭子玉』命名。4、設立者姓名：先祖蕭賜福所設立。5、祭祀地點即供奉所在地：日據時期祭祀地點為彰化廳武東堡社頭庄百八拾壹番地及彰化廳武東堡社頭庄百八十三番地。光復後彰化縣社頭鄉社頭村社頭第一巷3號及彰化縣社頭鄉○○村○○○路360號，民國70年間因祭祀地點公廳拆除改建後，由各派下員各自將祖先神位分靈祭祀，申請人祭祀地點為彰化縣社頭鄉○○村○○○路40號。蕭如壎祭祀地點為彰化縣社頭鄉○○村○○○路46號。6、土地所在地：彰化縣田中鎮○○○段158、159地號（此部分關於土地之標示應屬無誤）。」等不實沿革，及不實之「派下現員：蕭慶三、蕭慶堂、蕭慶珍、蕭如壎」名冊、不實之派下全員系統表、推舉書後，連同該祭祀公業之財產清冊、土地登記第一類謄本，書寫以蕭慶堂為申報人之祭祀公業派下全員證明書申請書，於98年8月4日由劉木卿持向彰化縣田中鎮公所申請該祭祀公業派下全員證明書而行使，使不知情之田中鎮公所民政課承辦人員誤認為所申報關於該祭祀公業之「享祀人」、「設立人」與祭祀公業財產等要件皆具備，及該祭祀公業之派下員僅有蕭慶堂、蕭慶珍、蕭慶三與蕭如壎，而將上開不實事項登載於職務上所掌之公文書，經田中鎮公所依法公告徵求異議，俟公告期滿無人異議後，劉木卿、蕭慶堂、蕭慶珍、蕭慶三與蕭如壎復基於意圖為自己不法利益之犯意聯絡，由劉木卿以該祭祀公業派下員證明申請案已公告期滿無人異議，於98年10月7日在其前揭住處製作祭祀公業蕭子玉申請書，表明蕭慶堂、蕭慶珍、蕭慶三與蕭如壎為該祭祀公業僅存之派下員，於98年10月8日以蕭慶堂名義向田中鎮公所申請核發派下員證明書，致不知情之田中鎮公所民政課承辦人員於98年10月12日核發祭祀公業派下全員證明書、祭祀公業蕭子玉派下全員系統表、派下現員名冊與不動產清冊給蕭慶堂，使蕭慶三、蕭慶堂、蕭慶珍、蕭如壎取得祭祀公業蕭子玉派下員資格之利益。嗣於98年10月12日，劉木卿於前揭住處，接續在業務上製作之祭祀公業蕭子玉申請書登載派下全員蕭慶三、蕭慶堂、蕭慶珍、蕭如壎推舉蕭慶堂擔任新任管理人之不實事項，於翌日由劉木卿以蕭慶堂名義，連同該祭祀公業派下全員證明書、祭祀公業蕭子玉派下全員系統表、派下現員名冊與不動產清冊持向田中鎮公所申請管理人變更核備而行使之，使不知情之田中鎮公所民政課承辦人員登載於職務上所載之公文書，均足以生損害於該祭祀公業真正派下員及彰化縣田中鎮公所對祭祀公業管理之正確性。(二)劉木卿、蕭慶堂、蕭慶珍、蕭如壎與蕭慶三於祭祀公業蕭子玉之管理人變更後，其等知曉該祭祀公業因尚有共同設立人（亦即蕭賜福係公業之管理人，並非公業所有土地之單獨所有權人），應有其祭祀公業之派下員存在，在未得其他人同意之下（即該派下員並無解散該祭祀公業之合意），竟賡續前開犯意，由劉木卿於99年1月9日，在其彰化縣員林鎮○○路○段172之1號住處，於職務上製作之該祭祀公業派下員同意書上登載全體派下員蕭慶堂、蕭慶珍、蕭如壎與蕭慶三同意解散該祭祀公業，由各房奉請祖先牌位各自祭祀，及該祭祀公業因解散而需辦理彰化縣田中鎮○○○段158、159地號土地更名登記之土地登記申請書等不實事項後，委由劉木卿持向彰化縣田中地政事務所辦理系爭土地更名登記。劉木卿乃於99年1月22日，連同系爭土地所有權狀、土地登記清冊、田中鎮公所核發之祭祀公業派下全員證明書、派下現員名冊持向彰化縣田中地政事務所申請系爭土地更名登記為蕭慶堂、蕭慶珍、蕭如壎與蕭慶三所有而行使，致使不知情之田中地政事務所承辦人員誤認蕭慶堂、蕭慶珍、蕭如壎與蕭慶三為該祭祀公業之全體派下員，及蕭慶堂、蕭慶珍、蕭如壎與蕭慶三均同意解散該祭祀公業，乃將系爭土地所有權人祭祀公業蕭子玉變更登記為蕭慶堂、蕭慶珍、蕭如壎與蕭慶三分別共有（蕭慶三、蕭如壎各取得系爭土地三分之一之應有部分；蕭慶堂、蕭慶珍則各六分之一之應有部分）。足以生損害於該祭祀公業真正派下員及彰化縣田中鎮公所對祭祀公業管理之正確性。二、案經蕭耀森訴由彰化縣警察局田中分局報告臺灣彰化方法院檢察署檢察官偵查起訴。理由壹、程序方面（證據能力）：現行刑事訴訟法為保障被告之反對詰問權，排除具有虛偽危險性之傳聞證據，以求實體真實之發見，於該法第159條第1項明定被告以外之人於審判外之言詞或書面陳述，除法律有規定者外，不得作為證據。本件檢察官、被告及辯護人於本院準備程序及審理程序中，並未就本案卷內證據資料之證據能力提出爭執，且迄於言詞辯論終結前，均未主張有刑事訴訟法第159條第1項不得為證據之情形，應認均已同意本案卷內之證據資料均得作為本案證據，且經本院審酌後，認無不適當之情形，是本案卷內之證據均有證據能力，合先敘明。貳、實體方面：一、訊據被告劉木卿、蕭慶堂、蕭慶珍、蕭慶三與蕭如壎等人，均矢口否認涉有上開行使業務上登載不實文書、使公務員登載不實及詐欺取財之犯行。被告劉木卿辯稱：伊從事代書工作，有關辦理本件祭祀公業蕭子玉之申報事宜，一切資料均來自被告蕭慶堂、蕭慶珍、蕭慶三與蕭如壎等會商後所告知，伊無捏造申報之犯行，且被告蕭慶堂等人告知沿革資料縱內容與事實有出入，或肇因證據散失、記憶模糊，或係告知有誤解所致，絕無任何偽造之故意云云。另被告蕭慶堂、蕭慶珍、蕭慶三與蕭如壎則均於辯稱：被告兄弟四人係祭祀公業蕭子玉真正之派下員，故其等所為，並無觸法可言，且上開有關申報祭祀公業蕭子玉中沿革及相關資料中，係來自父親所告知，伊無偽造之故意，因此並未涉有公訴人所指之犯行云云。但查：(一)被告蕭如壎於警詢時，明白證稱：「（問：蕭子玉祭祀公業有無財產？分佈何處？）之前我不知道，一位住社頭鄉○○村○○路旁劉姓代書告知，我才知道。是該劉姓代書帶我、蕭慶堂、蕭慶三及蕭慶珍４個兄弟前往彰化縣田中鎮○○路附近察看，告知附近土地是我們的。」、「（問：你是否知道蕭子玉祭祀公業沿革之內容為何？）我不知道」、「（問：蕭子玉祭祀公業申請前有何人管理及繳交土地稅金？）我不知道」（見警詢筆錄附於99年度偵字第7488號偵查卷宗第12頁背面至13頁背面）；後於偵查中，亦明確指出：「是代書主動來找我們，我才知道可以辦理，所以兄弟協調後，才由代書去處理。」（同上偵查卷宗第107頁背面）；後於本院審理中，具結證稱：「（問：你是否知道劉木卿代書所繕寫方的蕭子玉祭祀公業沿革係『希望蕭氏子孫被珍惜如玉』，才叫做蕭子玉祭祀公業，你是否知道這沿革？」我不知道。」、「是代書主動來找我們的」等語（見本院101年1月5日審判筆錄），該供述內容前後一致，均無矛盾，且該內容係不利被告蕭如壎之證詞，若非屬實，焉有自陷於不利之理。是被告蕭如壎上開證詞，其憑信度極高，自可採信。再參之被告蕭慶珍於72年9月27日即辦妥祭祀公業德盛公有擁有坐落彰化縣員林鎮○○○段第93地號（重測前為番仔崙93、104、136、213、218地號）土地事宜（相關謄本附於被告於100年2月21日所提之準備書狀內），而該祭祀公業亦係蕭賜福為管理人，若被告蕭慶珍兄弟早已獲知本件祭祀公業蕭子玉等相關訊息（含管理人係其等之先人蕭賜福），豈有不趁早處理，而遲至98年方為本件申請之理。因此，由上可知，被告蕭慶堂、蕭慶珍、蕭如壎、蕭慶三等人原本對祭祀公業蕭子玉之存否，包括其祖父係祭祀公業蕭子玉之管理人及該公業擁有坐落於彰化縣田中鎮○○○段158、159地號二筆土地等情，一無所悉，係同案被告劉木卿主動前來告知等情，確係為實。(二)證人即被告蕭如壎之子蕭順昌；被告蕭慶堂之子蕭錦標經檢察官聲請傳訊到庭，2人於受詰問時，對於有關祭祀公業蕭子玉相關事宜均無所悉（見同上審判筆錄），此印證被告蕭如壎之上開證詞之真實性，因若如被告蕭慶堂、蕭慶珍、蕭慶三於本院審理中，所辯其明暸祭祀公業蕭子玉等事宜，焉有於其等係已逾六旬之人，而不轉告子嗣明白有關祭祀公業蕭子玉相關事項之理。再者，依彰化縣田中地政事務所100年5月9日中地一字第1000002260號函所示：蕭家裕（即居於系爭土地之人）於94、96、98年陸續有以網路申請系爭彰化縣田中鎮○○○段159地號土地電子謄本紀錄，而被告蕭如壎僅在99年11月23日以其名義，以網路申請系爭彰化縣田中鎮○○○段159地號土地電子謄本；另被告蕭慶珍係於98年8月21日申請係系爭彰化縣田中鎮○○○段158地號電子謄本（見本院卷二），此足徵被告蕭慶堂、蕭慶三、蕭慶珍與蕭如壎在98年以前，均不知悉該祭祀公業擁有系爭土地之事實。因若係98年以前即知悉系爭土地及該祭祀公業存在，理當有申辦系爭土地謄本以便主張權益之紀錄（例如蕭家裕即是），另被告劉木卿係專業代書，其亦自承多次承辦祭祀公業相關業務，是當深知有關之各種申辦程序及事宜，且本件被告蕭慶堂為祭祀公業蕭子玉申報等相關事宜，又係祭祀公業條例公布清理時限內所為，是有關本件辦理祭祀公業蕭子玉申報事宜及其後分歸土地之事，均係由被告劉木卿主動與該公業之管理人蕭賜福、蕭耀西之後代子孫即被告蕭慶堂、蕭慶珍、蕭如壎、蕭慶三等人所為之事實，應可認定（至於被告劉木卿何以會主動為之，因可獲得如事實一所述之優厚之報酬也）。(三)依據民事習慣，祭祀公業之構成，係設立人為祭祀祖先所購置或設立之獨立財產（見本院卷一所附之臺灣祭祀公業協會網站文獻、維基百科網站查詢資料），因此，構成祭祀公業須有下列要件：一、人的部份：須有享祀人、設立人、派下員、管理人。祭祀公業之享祀人即為祭祀公業所奉祀之人，多為設立人之尊長或先祖，而非以後代子孫為享祀人。而祭祀公業須有設立人之存在，有時係一人，有時係多人。另管理人為受任管理祭祀公業財產及宗務之人，以選任派下員為原則，例外亦有選任派下以外之人為管理人。二、祭祀公業財產：係指不動產、動產、股票、債券收益之意，此類祭祀公業的獨立財產，其財產應屬全體派下員公同共有，與派下子孫個別財產完全不相干。本件被告等人於98年8月3日向彰化田中鎮公所所提之申請書附件沿革中，記載：【以祭田收益，作為每年清明節祭祀祖先之資。並期望子孫『蕭子』被珍惜如玉，故以『祭祀公業蕭子玉』命名。】，非但無享祀人之具體記載，且竟指該公業名稱蕭子玉非係先人之名，而係泛指後代子孫受珍惜，此與前開民俗可謂大相逕異，而將【蕭子玉】指係為後代子孫，實屬偏離至極。(四)被告蕭慶堂、蕭慶珍、蕭如壎、蕭慶三等四人對於蕭氏宗親所編之蕭氏族譜，均不爭執之其為真正（99年度偵字第5375號第159頁至172頁），其上明確記載蕭時中係蕭氏入漳洲始祖（明永樂九年辛卯科狀元），其子積玉（字子玉，配黃氏），...十一世輝美、十二世有志誠、志海、志湖、志達。而本院依職權前往被告蕭慶堂、蕭如壎家中，開啟伊等之祖先牌位，其內均有輝美、志海之記載，有院100年2月21日之勘驗筆錄及照片可稽，是顯見蕭積玉（字子玉）係被告蕭慶堂、蕭慶珍、蕭如壎、蕭慶三等四人之祖先無誤，而被告蕭慶堂於警詢中，竟出言稱：「（：你們祖先之中有無姓名【蕭子玉】之人？）沒有」（見警詢筆錄附於99年度偵字第7488號偵查卷宗第5頁），是顯見被告蕭慶堂為求本件祭祀公業蕭子玉所擁有之系爭土地能順利分歸，不惜為與事實不符之陳述。(五)被告蕭慶三於警詢中，明確供陳：「（問：你是否知道蕭子玉祭祀公業沿革之內容為何？）蕭子玉是我們的祖先，祭祀公業是讓我祭祖留念。」、「（問：提示位於彰化縣社頭鄉社頭村草仔埤巷4號「芳遠堂」蕭子玉牌位，是否就是你所稱你們祖先蕭子玉？）我以前有跟我媽媽到該處拜拜，他只告知我該處供奉我們的祖先，當時我還小，我沒有注意看。」等語（見警詢筆錄附於99年度偵字第7488號偵查卷宗第10頁背面至11頁正面），而其與其他兄弟及被告劉木卿會商後，竟於所提之申請書附件沿革中，為上開記載，在在足證，被告蕭慶堂、蕭慶珍、蕭如壎、蕭慶三及同案被告即代書劉木卿均係明知且故意為之。斷非係肇因證據散失、記憶模糊所致。(六)被告蕭慶堂、蕭慶珍、蕭如壎、蕭慶三及同案被告即代書劉木卿於100年2月11日委由辯護人具狀表示：「(一)無相關證據足以認定蕭賜福為設立人；但亦無證據足以認定蕭賜福非設立人」（見100年2月11日所提之準備書狀），被告等人既明確表示無相關證據足以認定蕭賜福為設立人，則其等於上開沿革中，載稱：「4、設立者姓名：先祖蕭賜福所設立。」，豈非係其等於無任何證據之下，徒憑己意所為，是該記載明確有不實之弊，自不待言。(七)被告蕭慶堂、蕭慶珍、蕭如壎、蕭慶三之祖父蕭賜福於明治44年8月19日與齋友向同為其父蕭貞吉之繼承人蕭福智、蕭福根、蕭登王等人購買坐落彰化縣員林鎮○○○段第93地號（重測前為番仔崙93、104、136、213、218地號）土地設立祭祀公業德盛公，有土地登記簿謄本影本1份（含日據時代之登記簿，係被告所提出附於100年2月21日之準備書狀內），在卷可佐，觀日據時代之登記簿業主權事項欄就該事項係以記載【公業德盛公管理人武東堡社頭庄百八拾壹番地蕭賜福】之方式表示之，亦即方式之記載係表示土地係屬公業德盛公，而管理人係蕭賜福，且除蕭賜福外尚有其他派下員，並非由蕭賜福一人所獨設（因此公業係蕭賜福與其他人一同設立），再觀祭祀公業蕭子玉就系爭土地於日據時代之登記簿業主權事項欄內，其記載亦係以【公業蕭子玉管理人武東堡社頭庄百八拾壹番地蕭賜福】之方式表示之（見99年度偵字第5375號偵查卷宗第34頁），二者之記載方式，則代表含意亦相同，不容有不同之解釋，換言之此方式之記載係表示土地係屬公業蕭子玉，而管理人係蕭賜福，且除蕭賜福外尚有其他派下員，而縱蕭賜福係設立人，亦非由其一人所獨設（況依上述，並無相關證據足以認定蕭賜福係設立人）。而被告蕭慶堂、蕭慶珍、蕭如壎、蕭慶三及被告劉木卿竟於無視上開明白之記載，而申請書附件沿革中，明白書載「4、設立者姓名：先祖蕭賜福所設立。」，是在在足證其等確有虛偽記載之犯意甚明。(八)日據時代土地總登記係於明治38年，若有明確資料提出證明確係所有權者，則在該土地登記事項欄內，必以業主相稱，此由上開坐落彰化縣員林鎮○○○段第93地號（重測前為番仔崙93、104、136、213、218地號）土地，原係蕭賜福之父蕭貞吉所有，則於日據時代之土地登記事項欄內，即載明「明治參拾八年拾壹月拾壹日蕭貞吉為業主」自明，而本件祭祀公業蕭子玉所擁有之系爭土地，於日據時代之登記簿業主權事項欄內，係直接記載「業主公業蕭子玉」，亦即該土地之原來所有權人係何人，並無記載，惟依該時之資料可以確定係系爭土地之所有權人係公業蕭子玉，而非蕭賜福。再者祭祀公業常有祭典之舉行，故常有一定處所奉祀享祀人，但此與管理人之住處有別，而上開申請書附件沿革竟指蕭賜福之住所即係彰化廳武東堡社頭庄百八拾壹番地為奉祀地，益見該等記載偏離事實，故申請書附件沿革中關於「3、淵源來歷：由蕭賜福積蓄購買本公業所有坐落彰化縣田中鎮○○○段158、159地號等二筆之土地。」及「5、祭祀地點即供奉所在地」，顯係不實之記載。(九)祭祀公業涉及祭典之舉行及因派下員常非單一，故需設管理人，而任該職者，通常係找頗有影響力之人或飽學之士為之，被告蕭慶堂、蕭慶三、蕭慶珍、蕭如壎之先人蕭賜福於日據時代係從販賣阿片之商人，其影響力不可言諭，再者，蕭賜福之父蕭貞吉（生於天保2年）於明治44年去世，其於明治42年時，體力當已老衰，故由蕭賜福任祭祀公業蕭子玉之管理人，應符常情，因此被告等人主張蕭賜福擔任管理人時，其父親尚存在，該公業若為其祖先設立，焉有選任蕭賜福為管理人之可能云云，顯係模糊上情之詞。(十)被告等確涉有上開犯行，除經證人即告訴人蕭耀森（在是否屬被害人不明前，似乎應以告發人相稱）於警詢證明確外，，就①被告蕭慶堂、蕭慶珍、蕭慶三與蕭如壎合意選任蕭慶堂為代理人，蕭慶堂再委任劉木卿製作該祭祀公業不實之沿革、申請書，連同土地登記第一類謄本於98年8月3日持向田中鎮公所申請派下全員證明書，而田中鎮公所民政課受理申請後，將被告等人登載之不實事項登載於職務上所掌之公文書及被告等人於公告期滿後，於98年10月8日向田中鎮公所申請核發派下員證明書，致田中鎮公所承辦人員陷於錯誤，於同年月13日核發祭祀公業派下全員證明書及蓋有公所印信之派下全員系統表、派下現員名冊與不動產清冊與被告等人以原管理人蕭耀西死亡為由，於98年10月13日向田中鎮公所申請變更該祭祀公業新任管理人為蕭慶堂之事實部分，並有祭祀公業派下全員證明書申請書、委任書、祭祀公業蕭子玉推舉書、沿革、土地登記第一、二類謄本彰化縣田中鎮公所98年9月3日田鎮民字第0980013614號函、田鎮民字第0980013615號公告、祭祀公業蕭子玉申請書、彰化縣田中鎮公所98年10月12日田鎮民字第0980015674號函、祭祀公業蕭子玉管理人選任同意書、申請書、委任書、彰化縣田中鎮公所98年10月14日田鎮民字第0980015957號函附卷可稽；②被告劉木卿擔任被告蕭慶堂、蕭慶三、蕭慶珍與蕭如壎之代理人，以解散該祭祀公業為由，於99年1月22日向田中地政事務所申請系爭土地之所有權人由該祭祀公業變更登記為被告蕭慶堂、蕭慶三、蕭慶珍與蕭如壎，致田中地政事務所承辦人員誤認該祭祀公業派下員同意解散該祭祀公業，進而將系爭土地之所有權人變更為被告文蕭慶堂、蕭慶珍、蕭慶三與蕭如壎之事實部分，亦有彰化縣田中地政事務所100年5月5日中地一字第1000002313號函所附之土地登記申請書、印鑑證明、派下員同意書、派下全員證明書、派下現員名冊、土地所有權狀等影本，附卷可佐。(十一)綜上，顯見被告劉木卿、蕭慶堂、蕭慶珍、蕭慶三與蕭如壎所辯，均與事實不符，不可採信。本件罪證明確，被告劉木卿、蕭慶堂、蕭慶珍、蕭慶三與蕭如壎之犯行，足以認定。二、按上開與祭祀公業有關之派下全員證明書申請書、派下現員名冊、祭祀公業蕭子玉推舉書與沿革、同意書等文書，係執行代書業務所製作之文書，屬業務上作成之文書。故核被告劉木卿、蕭慶堂、蕭慶珍、蕭慶三與蕭如壎等人前揭所為，均係犯刑法第216條、第215條之行使業務上登載不實之文書、刑法第214條之使公務員登載不實罪與刑法第339條第1項之詐欺取財罪。其等所為之明知為不實之事項，而登載於其業務上作成文書之行為（低度行度），為其後之行使行為（高度行為）所吸收，不另論罪。其等就前揭犯行有犯意聯絡與行為分擔，俱為共同正犯。其等利用不知情之田中鎮公所民政課承辦人員取得該祭祀公業派下員資格利益及利用不知情之田中鎮公所承辦人員取得系爭土地所有權，係間接正犯。又按刑法廢除牽連犯之規定後，對於前以牽連犯予以處理之案例，依立法理由之說明，在適用上，得視其具體情形，分別論以想像競合犯或數罪併罰，予以處斷。是原經評價為牽連犯之案件，如其二行為間具有行為局部之同一性，或其行為著手實行階段可認為同一者，得認與一行為觸犯數罪名之要件相侔，而改評價為想像競合犯。至於不可認為一行為者，若依實質競合予以併罰，不無刑罰過度評價，依社會通念，並不符合刑罰公平原則，當亦難以一行為一罪論處。於此，倘所發生之數個犯罪行為，在犯罪之性質上，或依吾人日常生活經驗之見解上，其前後行為，在形態上雖屬分別獨立，但從同一法益之侵害性而言，因具一定程度之關連性，可認為一方吸收他方之犯罪行為，遂置他方於不論，較為適當，應可依吸收犯理論，認屬實質上一罪關係，而僅包括的論以一罪（參照最高法院96年度台上字第4780號判決意旨）上開諸罪均係基於同一目的（即分歸取得土地所有權），故在刑法評價上，以視為數個舉動之接續施行，彼此間有行為局部之同一性，應為包括之一行為予以評價，較為合理，而屬一行為觸犯數罪名之想像競合犯，應依刑法第55條規定情節較重之詐欺取財罪處斷。而公訴人就上開行使業務上登載不實之文書罪部分，指係犯刑法216條、210條之罪，惟已當庭及以補充理由書更正之，故本院不再諭知變更起訴法條。另公訴人指上開數罪之關係或謂罪，或想像競合，但如上所述，應依想像競合犯之例論處，方為適當。又上開犯罪事實中，為原起訴書所漏列部分，因與已明確記載部分，有裁判上一罪之關係，故本院自得併予審理，併此敘明。爰審酌被告劉木卿於辦理祭祀公業相關申報事實之際，為牟得巨利報酬，非但主動其餘被告蕭慶堂等人，且位於主導之地位，為本件不實事實申報及不實之分歸土地，實有不該，應予嚴懲，另被告蕭慶堂、蕭慶珍、蕭慶三、蕭如壎聽信代書之被告劉木卿之言，為求避免其兄弟等人以外之人，前來分歸土地，竟與代書為上開行使業務上登載不實之文書、使公務員登載不實及詐欺取財等犯行，實有欠思慮，念其均為已逾六旬之人，暨渠等之犯罪動機、手段、目的與犯罪後之態度等一切情狀，各量處如主文所示之刑，並就被告蕭慶堂、蕭慶珍、蕭慶三、蕭如壎部分，諭知如易科罰金之折算標準。又查被告蕭如壎前未曾因故意犯罪受有期徒刑以上刑之宣告，有臺灣高等法院被告前案紀錄表1份附卷可憑，因有宗親一同處理事務之牽絆，故一時失慮致罹刑章，其於警、偵查時及本院審理中，對所知之事，均有明確之供陳，可謂態度良好，經此偵審教訓後，應知警惕而無再犯之虞，本院因認所宣告之刑，以暫不執行為適當，爰依刑法第74條第1項第1款規定，併予宣告緩刑2年，以勵自新。三、本判決僅認定被告等人所涉上開犯行部分，至於祭祀公業蕭子玉之派下員究竟有幾人，除被告蕭慶堂、蕭慶珍、蕭慶三、蕭如壎外，尚有何人具派下員身分，應尋民事途逕解決，非係本判決論斷之範疇，併此敘明。據上論斷，應依刑事訴訟法第299條第1項前段、刑法第28條、第216條、第215條、第214條、第339條第1項、第55條、第41條第1項、第74條第1項第1款，刑法施行法第1條之1，判決如主文。本案經檢察官黃顗雯到庭執行職務。中華民國101年4月6日刑事第三庭審判長法官洪志賢法官張鶴齡法官簡佩珺以上正本證明與原本無異。如不服本判決應於收受判決後10日內向本院提出上訴書狀，並應敘述具體理由；其未敘述上訴理由者，應於上訴期間屆滿後20日內向本院補提理由書（均須按他造當事人之人數附繕本）「切勿逕送上級法院」。告訴人或被害人對於判決如有不服具備理由請求檢察官上訴者，其上訴期間之計算係以檢察官收受判決正本之日期為準。中華民國101年4月6日書記官許億先附錄本案論罪科刑法條全文：中華民國刑法第214條（使公務員登載不實罪）明知為不實之事項，而使公務員登載於職務上所掌之公文書，足以生損害於公眾或他人者，處3年以下有期徒刑、拘役或5百元以下罰金。中華民國刑法第215條（業務上文書登載不實罪）從事業務之人，明知為不實之事項，而登載於其業務上作成之文書，足以生損害於公眾或他人者，處3年以下有期徒刑、拘役或5百元以下罰金。中華民國刑法第216條（行使偽造變造或登載不實之文書罪）行使第210條至第215條之文書者，依偽造、變造文書或登載不實事項或使登載不實事項之規定處斷。中華民國刑法第339條（普通詐欺罪）意圖為自己或第三人不法之所有，以詐術使人將本人或第三人之物交付者，處5年以下有期徒刑、拘役或科或併科1千元以下罰金。以前項方法得財產上不法之利益或使第三人得之者，亦同。前二項之未遂犯罰之。\n",
            "一、緣張彩系與鄧盈珍、鄧盈汝之父親鄧清亮係夫妻，鄧清亮於民國96年4月6日過世，遺產由張彩糸、鄧盈慧、鄧盈珍、鄧盈汝、鄧淯任5人共同繼承。詎張彩系未經共同繼承人鄧盈珍、鄧盈汝之同意，竟基於行使偽造私文書之犯意，於96年4月9日某時許，持鄧清亮開設之信義鄉農會帳號：00000000000000號帳戶存簿及開戶印章，前往位於南投縣○○鄉○○街00號之信義鄉農會填寫取款憑條、並盜蓋鄧清亮之開戶印章後，再持向不知情之該農會承辦人員行使之，將鄧清亮上開帳戶內之存款新臺幣（下同）153萬元轉入張彩系在該農會開設之帳號：00000000000000號帳戶，足生損害於鄧盈珍、鄧盈汝之繼承權利及信義鄉農會管理金融帳戶之正確性。二、案經鄧盈珍、鄧盈汝訴由臺灣臺中地方檢察署檢察官呈請臺灣高等檢察署臺中檢察分署檢察長核轉臺灣南投地方檢察署檢察官偵查起訴。理由一、證據能力：(一)本案以下引用被告張彩糸以外之人於審判外所為陳述之供述證據，迄本院言詞辯論終結前，檢察官、被告就該等證據之證據能力均未聲明異議（見本院卷第93、272頁），本院審酌該等證據製作時之情況，並無違法不當或證明力明顯過低之瑕疵，以之作為證據應屬適當，依刑事訴訟法第159條之5第2項之規定，認為均得作為證據。(二)而其餘認定本案犯罪事實之非供述證據，復無違反法定程序取得之情形，亦得作為證據。二、認定犯罪事實所憑之證據及理由：訊據被告對於其與告訴人鄧盈珍、鄧盈汝之父親即被繼承人鄧清亮係夫妻，鄧清亮於96年4月6日過世，遺產由張彩糸、鄧盈慧、鄧盈珍、鄧盈汝、鄧淯任5人共同繼承；其於96年4月9日某時許，持鄧清亮開設之信義鄉農會帳號：00000000000000號帳戶存簿及開戶印章，前往位於南投縣○○鄉○○街00號之信義鄉農會填寫取款憑條、並蓋用鄧清亮之開戶印章後，再持向該農會承辦人員行使之，將鄧清亮上開帳戶內之存款153萬元轉入張彩系在該農會開設之帳號：00000000000000號帳戶之事實固不爭執（本院卷第93、94頁），惟矢口否認有何行使偽造私文書之犯行，並辯稱：提領款項係依公公指示，合乎一般社會通念及鄉民習慣，沒有偽造文書意圖；在我與我先生的戶籍裡面，未曾登記告訴人兩位的姓名；且提領款項係為償還鄧清亮之債務，並無詐欺或侵占之不法所有意圖（見本院卷第38、41、271、281至285頁）云云。經查：(一)關於上開被告不爭執之事實，業據被告於本院準備程序時自承在卷（見本院卷第39、93至95頁），核與告訴代理人謝莉蘭（見臺中他卷第14頁）、證人即告訴人鄧盈珍、鄧盈汝（見南投他卷第11頁、本院卷第238至241、265至268頁）所述情節大致相符，並有戶籍謄本（除戶部分）、信義鄉農會取款憑條、信義鄉農會105年8月22日函、個人戶籍資料（臺中他卷第4至6頁）、信義鄉農會客戶往來交易明細表（見本院卷第59至65頁）等件附卷可稽，是此部份之事實，即堪認定。而被告未經共同繼承人鄧盈珍、鄧盈汝之同意，擅自轉匯上開款項之事實，復據被告於偵訊時自承在案（見南投他卷第11頁），且經鄧盈珍、鄧盈汝證述明確（見本院卷第241、267頁），則此部分之事實，亦可認定。(二)被告雖然辯稱提領款項係依公公指示，合乎一般社會通念及鄉民習慣，沒有偽造文書意圖云云。然依被告先後自陳「沒有辦法聯絡到其他繼承人」、「因為當初辦繼承的方面，我都有拜託姐姐跟他們聯絡」、「是他們不願意回來配合辦理」、「有叫他們拿資料來辦理繼承，但他們都不配合」（見南投他卷第11頁、本院卷第39、241、269頁），鄧盈珍證稱「他還一直恐嚇我們拋棄繼承」（見本院卷第239頁），鄧盈汝證稱「都是代書跟我們聯絡，要我們放棄繼承」（見本院卷第266頁），證人即鄧清亮之胞兄鄧清浪證稱：我有勸過被告就遺產部分要找告訴人方面來討論，我認為被告也有朝這方面來努力（見本院卷第271頁）等語，可見被告顯然知悉被繼承人鄧清亮死亡以後，已不得再以鄧清亮名義製作取款憑條提領被繼承人之存款，如要提領被繼承人之存款，應得全體繼承人之同意，否則何須大費周章聯絡告訴人等配合辦理繼承或拋棄繼承事宜；被告辯稱提領款項係依公公指示，合乎一般社會通念及鄉民習慣，沒有偽造文書意圖云云，實屬卸責之詞，不足採信，被告具有行使偽造私文書之故意甚明。(三)被告嗣後雖再改口辯稱在我與我先生的戶籍裡面，未曾登記告訴人兩位的姓名云云。但以被告於被繼承人鄧清亮死亡以後，曾經聯絡告訴人等配合辦理繼承或拋棄繼承事宜，已如上述，佐諸鄧盈珍證稱：被告跟我父親結婚時，知道我父親有其他子女（見本院卷第239頁），鄧清浪證稱：被告知道鄧清亮有與前配偶育有子女（見本院卷第270頁）等語，足見被告於轉匯上開存款時，確實知悉告訴人2人為鄧清亮之子女，而為鄧清亮之共同繼承人；被告辯稱在其與其先生的戶籍裡面，未曾登記告訴人兩位的姓名云云，不過飾卸之詞，委不可採。(四)被告雖又辯稱轉匯上開款項係為償還鄧清亮之債務，並未生損害於公眾或他人云云。然按，刑法第210條所稱足生損害於公眾或他人，以有損害之虞為已足，不以實際發生損害為要件（最高法院43年台上字第387號判例要旨參照）。所稱之足生損害，係指他人有可受法律保護之利益，因此遭受損害或有受損害之虞，不以實際發生損害者為必要；而所謂損害，亦不以經濟上之損害為限，即民事、刑事或行政上之損害亦皆屬之（最高法院107年度台上字第3038號判決要旨參照）。如未經被繼承人之全體繼承人同意，即偽以被繼承人名義製作取款憑條，提領被繼承人帳戶內之存款，其行為自有足以生損害於其餘繼承人之虞，至於其所提領之款項是否非被繼承人之遺產及提領之用途為何，均與其行為是否與刑法第210條、第216條行使偽造私文書罪之犯罪構成要件該當，並不生影響（最高法院106年度台上字第1165號判決意旨參照）。則以被告未經鄧清亮之繼承人即告訴人2人同意，擅自轉匯上開款項，造成鄧清亮名下財產減少，告訴人等之繼承權利即有可能受到損害，並不以彙算之後確有損害為必要；且被告於鄧清亮過世後，擅以鄧清亮之名義轉匯上開款項，復可能產生信義鄉農會對於消費寄託債務是否清償之爭執，亦足生損害於信義鄉農會管理金融帳戶之正確性。被告辯稱未生損害於公眾或他人云云，純屬推諉之詞，並不可採。(五)至於被告雖另辯稱提領款項係為償還鄧清亮之債務，並無詐欺或侵占之不法所有意圖云云。惟按，所提領之款項是否使用於支付被繼承人醫藥費、喪葬費之用，要屬行為人有無不法所有意圖之問題，與行使偽造私文書罪該當與否不生影響（最高法院107年度台上字第1753號判決意旨參照）。茲因本案起訴意旨及上開論罪所犯罪名均未認定被告涉犯詐欺或侵占犯行、而均論以行使偽造私文書罪嫌（見本院卷第10、11頁），被告轉匯上開款項是否係為償還被繼承人鄧清亮之債務，事涉是否構成詐欺或侵占犯罪，自與本案被告是否成立犯罪（行使偽造私文書）無關。被告辯稱並無詐欺或侵占之不法所有意圖云云，容有誤會起訴及論罪所犯罪名，併予敘明。(六)綜上所述，本案事證明確，被告之犯行可以認定，應予依法論罪科刑。三、論罪科刑之理由：(一)按人之權利能力，終於死亡，其權利義務因死亡而開始繼承，由全體繼承人承受，故關於遺產之法律行為，自當由全體繼承人為之，被繼承人縱令於生前曾授權他人為之，亦因其死亡致權利主體不存在使授權關係消滅，即不得再以被繼承人生前授權或全體繼承人之同意，而以被繼承人之名義製作取款憑條，提領被繼承人帳戶內之存款，否則足致社會一般人誤認死者猶然生存在世，有害公共信用之虞，尤其倘另有其他繼承人，對於遺產之繼承迭有爭執，倘未經全體繼承人同意，而擅以被繼承人名義為法律行為，其行為更有足生損害於繼承人之虞，均屬無權製作之偽造行為；至於行為人提領款項之目的或動機何在（例如是否悉數用作支付喪葬費，或其他用途），對於本罪之成立，不生影響（最高法院107年度台上字第1162號判決意旨參照）。次按，盜用印章與盜用印文為不同之犯罪態樣，盜取他人之印章持以蓋用，當然產生該印章之印文，祇成立盜用印章罪，不應再論以盜用印文罪，亦非盜用印章行為為盜用印文行為所吸收（最高法院86年台上字第3295號判例要旨參照）。刑法上之盜用印文罪，係指單純盜用他人之印文而言；若盜用印文，而在書類上已為一定之意思表示，且具有存續性，其內容屬法律上有關係之事項者，則係犯偽造文書罪（最高法院91年度台上字第360號判決要旨參照）。銀行為便利存款人取款而印好任人索取填寫之取款憑條，非可流通市面得以自由轉讓，衹屬私文書之一種，不能認為有價證券（最高法院49年台上字第1409號判例要旨參照）。查被告持偽造鄧清亮製作之取款憑條，向不知情之信義鄉農會承辦人員行使之，核其所為，係犯刑法第216條、第210條之行使偽造私文書罪。而被告在取款憑條之私文書上，盜蓋鄧清亮之印章，係偽造私文書之階段行為；偽造私文書後復持以行使，偽造私文書之低度行為，亦為行使偽造私文書之高度行為所吸收，均不另論罪。(二)爰審酌被告並無曾因犯罪經法院判處罪刑，有臺灣高等法院被告前案紀錄表1份在案足佐，而其明知配偶鄧清亮已經死亡，鄧清亮之信義鄉農會帳戶內之存款係屬遺產、且為全體繼承人共有，竟仍以鄧清亮之名義轉匯存款，非僅損害告訴人等之繼承權利，並且破壞信義鄉農會管理金融帳戶之正確性，行為實有不該，兼衡以被告轉匯之金額係為清償鄧清亮之生前債務及醫藥費（見南投偵卷第32至36頁），及其犯罪之動機、目的、手段、犯罪情節、犯後態度等一切情形，量處如主文所示之刑，並諭知易科罰金之折算標準。(三)另按，盜用他人真印章所蓋之印文，並非偽造印章之印文，不在刑法第219條所定必須沒收之列（最高法院48年台上字第113號判例要旨參照）。偽造之文書，既已交付於被害人收受，則該物非屬被告所有，除該偽造文書上偽造之印文、署押，應依刑法第219條予以沒收外，依同法第38條第3項之規定，即不得再就該文書諭知沒收（最高法院89年度台上字第3757號判決要旨參照）。查鄧清亮之上開信義鄉農會帳戶開戶印章係由被告保管，被告盜蓋印章之印文「鄧清亮」即非偽造，無從依刑法第219條規定諭知沒收。至於上開取款憑條，雖屬被告行使偽造私文書犯罪所用之物，但經被告持以行使，業經信義鄉農會承辦人員收執，已非被告所有，亦非違禁物，爰不予以宣告沒收。此外，被告以行使偽造私文書方式轉匯鄧清亮之信義鄉農會帳戶內之存款153萬元，為其犯罪所得（產自行使偽造私文書犯罪之所得，即實現犯罪所獲得之直接財產利益），固應依法宣告沒收，於全部或一部不能沒收時，追徵其價額，惟因被告主張扣抵「非屬繼承財產之鄧淯任薪資7萬5,586元；清償鄧清亮所遺合會債務35萬2,000元、所得稅債務1萬7,104元、信用卡消費債務2萬4,865元、對鄧清浪之70萬元借款債務、農會借款債務42萬4,931元，以及辦理繼承登記之代書費用5萬元」，合計164萬4,486元，業經臺灣臺中地方法院105年度家訴字第21號民事判決認屬有據，並且詳為說明理由（見南投偵卷第35頁），堪認被告並無保有犯罪所得，倘再就此宣告沒收或追徵，實有過苛之虞、且欠缺刑法上之重要性，自無必要宣告沒收或追徵。據上論斷，應依刑事訴訟法第299條第1項前段，刑法第216條、第210條、第41條第1項前段，判決如主文。本案經檢察官洪紹文提起公訴，檢察官陳俊宏到庭執行職務。中華民國108年5月30日刑事第二庭審判長法官黃益茂法官張雅涵法官張國隆以上正本與原本無異。如不服本判決應於收受送達後10日內向本院提出上訴書狀，並應敘述具體理由；其未敘述上訴理由者，應於上訴期間屆滿後20日內向本院補提理由書（均須按他造當事人之人數附繕本）「切勿逕送上級法院」。告訴人或被害人如對於本判決不服者，應具備理由請求檢察官上訴，其上訴期間之計算係以檢察官收受判決正本之日期為準。書記官張馨方中華民國108年5月30日附錄本案論罪科刑法條：中華民國刑法第210條偽造、變造私文書，足以生損害於公眾或他人者，處5年以下有有期徒刑。中華民國刑法第216條行使第210條至第215條之文書者，依偽造、變造文書或登載不實事項或使登載不實事項之規定處斷。\n"
          ]
        }
      ],
      "source": [
        "for fact in test_facts[:3]:\n",
        "  print(fact)"
      ]
    },
    {
      "cell_type": "code",
      "execution_count": null,
      "metadata": {
        "colab": {
          "base_uri": "https://localhost:8080/"
        },
        "id": "S0zHh6X1gIMZ",
        "outputId": "96c70a20-797c-41e4-ec14-3819b7430525"
      },
      "outputs": [
        {
          "name": "stdout",
          "output_type": "stream",
          "text": [
            "['徐鴻光和穆立明因需要借款，共同偽造「志朗交通有限公司」和「陳健志」的印章，以及「臺北市計程車客運駕駛人自備車輛參與經營契約書」，向宏帝當鋪借款10萬元。', '徐鴻光和穆立明偽造的契約書導致王傑生誤信車輛為徐鴻光所有，而提供借款。', '徐鴻光和穆立明被依行使偽造私文書和詐欺取財罪起訴。']\n",
            "['1. 劉木卿主動與祭祀公業蕭子玉之管理人蕭賜福、蕭耀西之後代子孫聯絡處理該祭祀公業之相關事宜，經洽商結果，於蕭慶堂、蕭慶珍、蕭如壎、蕭慶三等人不需支費下，劉木卿代為申辦，事成後，由劉木卿獲得該祭祀公業所有土地價值20％之報酬。', '2. 劉木卿、蕭慶堂、蕭慶珍、蕭慶三與蕭如壎共同基於意圖為自已不法所有及行使業務上登載不實文書、使公務員登載不實之犯意聯絡，接續為下列行為：由劉木卿於民國98年8月3日前數日內某時，在彰化縣員林鎮○○路○段172之1號住處，於業務上登載祭祀公業蕭子玉「3、淵源來歷：由蕭賜福積蓄購買本公業所有坐落彰化縣田中鎮○○○段158、159地號等二筆之土地以祭田收益，作為每年清明節祭祀祖先之資，並期望子孫『蕭子』被珍惜如玉，故以『祭祀公業蕭子玉』命名」等不實沿革，及不實之「派下現員：蕭慶三、蕭慶堂、蕭慶珍、蕭如壎」名冊、不實之派下全員系統表、推舉書後，連同該祭祀公業之財產清冊、土地登記第一類謄本，書寫以蕭慶堂為申報人之祭祀公業派下全員證明書申請書，於98年8月4日由劉木卿持向彰化縣田中鎮公所申請該祭祀公業派下全員證明書而行使，使不知情之田中鎮公所民政課承辦人員誤認為所申報關於該祭祀公業之「享祀人」、「設立人」與祭祀公業財產等要件皆具備，及該祭祀公業之派下員僅有蕭慶堂、蕭慶珍、蕭慶三與蕭如壎，而將上開不實事項登載於職務上所掌之公文書，經田中鎮公所依法公告徵求異議，俟公告期滿無人異議後，劉木卿、蕭慶堂、蕭慶珍、蕭慶三與蕭如壎復基於意圖為自己不法利益之犯意聯絡，由劉木卿以該祭祀公業派下員證明申請案已公告期滿無人異議，於98年10月7日在其前揭住處製作祭祀公業蕭子玉申請書，表明蕭慶堂、蕭慶珍、蕭慶三與蕭如壎為該祭祀公業僅存之派下員，於98年10月8日以蕭慶堂名義向田中鎮公所申請核發派下員證明書，致不知情之田中鎮公所民政課承辦人員於98年10月12日核發祭祀公業派下全員證明書、祭祀公業蕭子玉派下全員系統表、派下現員名冊與不動產清冊給蕭慶堂，使蕭慶三、蕭慶堂、蕭慶珍、蕭如壎取得祭祀公業蕭子玉派下員資格之利益。']\n",
            "['張彩系未經共同繼承人鄧盈珍、鄧盈汝之同意，竟基於行使偽造私文書之犯意，於96年4月9日某時許，持鄧清亮開設之信義鄉農會帳號：00000000000000號帳戶存簿及開戶印章，前往位於南投縣○○鄉○○街00號之信義鄉農會填寫取款憑條、並盜蓋鄧清亮之開戶印章後，再持向不知情之該農會承辦人員行使之，將鄧清亮上開帳戶內之存款153萬元轉入張彩系在該農會開設之帳號：00000000000000號帳戶，足生損害於鄧盈珍、鄧盈汝之繼承權利及信義鄉農會管理金融帳戶之正確性', '被告未經共同繼承人鄧盈珍、鄧盈汝之同意，擅自轉匯上開款項之事實，復據被告於偵訊時自承在案（見南投他卷第11頁），且經鄧盈珍、鄧盈汝證述明確（見本院卷第241、267頁），則此部分之事實，亦可認定', '以未經被繼承人之全體繼承人同意，即偽以被繼承人名義製作取款憑條，提領被繼承人帳戶內之存款，其行為自有足以生損害於其餘繼承人之虞，至於其所提領之款項是否非被繼承人之遺產及提領之用途為何，均與其行為是否與刑法第210條、第216條行使偽造私文書罪之犯罪構成要件該當，並不生影響（最高法院106年度台上字第1165號判決意旨參照）']\n"
          ]
        }
      ],
      "source": [
        "for sentence in summaries:\n",
        "  print(sentence)"
      ]
    },
    {
      "cell_type": "markdown",
      "source": [
        "## test facts"
      ],
      "metadata": {
        "id": "DVyBpNVdYSsB"
      }
    },
    {
      "cell_type": "code",
      "execution_count": null,
      "metadata": {
        "colab": {
          "background_save": true
        },
        "id": "TvtT2t-alRc6"
      },
      "outputs": [],
      "source": [
        "summaries_sentences = generate_summary(query, test_facts_sentences)"
      ]
    },
    {
      "cell_type": "code",
      "execution_count": null,
      "metadata": {
        "colab": {
          "background_save": true
        },
        "id": "M_BqB5CZjkAE"
      },
      "outputs": [],
      "source": [
        "with open('/content/drive/MyDrive/senior/LAB/LawCaseRetreiver/sentence_predict/summary/summaries_sentences.json', 'w', encoding='utf-8') as file:\n",
        "    file.write(json.dumps(summaries_sentences, ensure_ascii=False))"
      ]
    },
    {
      "cell_type": "code",
      "execution_count": null,
      "metadata": {
        "id": "syGXEVh_kyaf"
      },
      "outputs": [],
      "source": [
        "with open('/content/drive/MyDrive/senior/LAB/LawCaseRetreiver/sentence_predict/summary/summaries_sentences.json', 'r', encoding='utf-8') as file:\n",
        "    json_data = file.read()\n",
        "    loaded_summaries = json.loads(json_data)"
      ]
    },
    {
      "cell_type": "code",
      "source": [
        "loaded_summaries[:5]"
      ],
      "metadata": {
        "colab": {
          "base_uri": "https://localhost:8080/"
        },
        "id": "4-IoJu16poxP",
        "outputId": "576d43fe-6dcf-4477-cb84-ff5228433cdf"
      },
      "execution_count": null,
      "outputs": [
        {
          "output_type": "execute_result",
          "data": {
            "text/plain": [
              "[['因徐鴻光需款使用，知悉穆立明有借款管道，為求順利借款，2人竟共同意圖為自己不法所有，基於行使偽造私文書及詐欺取財之犯意聯絡，偽造「陳健志」代表志朗公司與徐鴻光簽署的「臺北市計程車客運駕駛人自備車輛參與經營契約書」，並持上開偽刻印章，偽造「志朗交通有限公司」印文4枚、「陳健志」印文6枚於本案參與經營契約書上，再於92年3月6日交徐鴻光於立約人乙方欄簽名。',\n",
              "  '嗣因徐鴻光僅清償每期7千元之分期款共11期計7萬7千元，未全額清償即無力負擔債務，王傑生始查知上開車輛非徐鴻光所有，而悉上情。',\n",
              "  '二、案經王傑生訴由臺灣士林地方法院檢察署檢察官偵查起訴。'],\n",
              " ['1. 劉木卿主動與祭祀公業蕭子玉之管理人蕭賜福、蕭耀西之後代子孫聯絡處理該祭祀公業之相關事宜，經洽商結果，於蕭慶堂、蕭慶珍、蕭如壎、蕭慶三等人不需支費下，劉木卿代為申辦，事成後，由劉木卿獲得該祭祀公業所有土地價值20％之報酬。',\n",
              "  '2. 劉木卿、蕭慶堂、蕭慶珍、蕭慶三與蕭如壎共同基於意圖為自已不法所有及行使業務上登載不實文書、使公務員登載不實之犯意聯絡，接續為下列行為：由劉木卿於民國98年8月3日前數日內某時，在彰化縣員林鎮○○路○段172之1號住處，於業務上登載祭祀公業蕭子玉「3、淵源來歷：由蕭賜福積蓄購買本公業所有坐落彰化縣田中鎮○○○段158、159地號等二筆之土地以祭田收益，作為每年清明節祭祀祖先之資，並期望子孫『蕭子』被珍惜如玉，故以『祭祀公業蕭子玉』命名」等不實沿革，及不實之「派下現員：蕭慶三、蕭慶堂、蕭慶珍、蕭如壎」名冊、不實之派下全員系統表、推舉書後，連同該祭祀公業之財產清冊、土地登記第一類謄本，書寫以蕭慶堂為申報人之祭祀公業派下全員證明書申請書，於98年8月4日由劉木卿持向彰化縣田中鎮公所申請該祭祀公業派下全員證明書而行使，使不知情之田中鎮公所民政課承辦人員誤認為所申報關於該祭祀公業之「享祀人」、「設立人」與祭祀公業財產等要件皆具備，及該祭祀公業之派下員僅有蕭慶堂、蕭慶珍、蕭慶三與蕭如壎，而將上開不實事項登載於職務上所掌之公文書，經田中鎮公所依法公告徵求異議，俟公告期滿無人異議後，劉木卿、蕭慶堂、蕭慶珍、蕭慶三與蕭如壎復基於意圖為自己不法利益之犯意聯絡，由劉木卿以該祭祀公業派下員證明申請案已公告期滿無人異議，於98年10月7日在其前揭住處製作祭祀公業蕭子玉申請書，表明蕭慶堂、蕭慶珍、蕭慶三與蕭如壎為該祭祀公業僅存之派下員，於98年10月8日以蕭慶堂名義向田中鎮公所申請核發派下員證明書，致不知情之田中鎮公所民政課承辦人員於98年10月12日核發祭祀公業派下全員證明書、祭祀公業蕭子玉派下全員系統表、派下現員名冊與不動產清冊給蕭慶堂，使蕭慶三、蕭慶堂、蕭慶珍、蕭如壎取得祭祀公業蕭子玉派下員資格之利益。'],\n",
              " ['張彩系未經共同繼承人鄧盈珍、鄧盈汝之同意，竟基於行使偽造私文書之犯意，於96年4月9日某時許，持鄧清亮開設之信義鄉農會帳號：00000000000000號帳戶存簿及開戶印章，前往位於南投縣○○鄉○○街00號之信義鄉農會填寫取款憑條、並盜蓋鄧清亮之開戶印章後，再持向不知情之該農會承辦人員行使之，將鄧清亮上開帳戶內之存款153萬元轉入張彩系在該農會開設之帳號：00000000000000號帳戶，足生損害於鄧盈珍、鄧盈汝之繼承權利及信義鄉農會管理金融帳戶之正確性',\n",
              "  '被告未經共同繼承人鄧盈珍、鄧盈汝之同意，擅自轉匯上開款項之事實，復據被告於偵訊時自承在案（見南投他卷第11頁），且經鄧盈珍、鄧盈汝證述明確（見本院卷第241、267頁），則此部分之事實，亦可認定',\n",
              "  '以未經被繼承人之全體繼承人同意，即偽以被繼承人名義製作取款憑條，提領被繼承人帳戶內之存款，其行為自有足以生損害於其餘繼承人之虞，至於其所提領之款項是否非被繼承人之遺產及提領之用途為何，均與其行為是否與刑法第210條、第216條行使偽造私文書罪之犯罪構成要件該當，並不生影響（最高法院106年度台上字第1165號判決意旨參照）'],\n",
              " ['1. 劉文海於95年間竊取電纜線，經屏東地院判處有期徒刑8月，96年出獄後又竊盜大眾運輸工具柴油及車牌，共11次，由屏東地院判處有期徒刑2年。',\n",
              "  '2. 劉文海於98年9月在新竹竊取柴油，判處有期徒刑6月，又再犯3次竊取柴油，經屏東地院判處應執行有期徒刑1年4月。',\n",
              "  '3. 劉文海明知他人車牌為9M-7735號，卻偽造00-0000號車牌懸掛於自己的自小貨車，並使用它行駛道路，損害公路監理機關管理及真正車主。'],\n",
              " ['鄭孟育為垣田景觀開發設計有限公司之負責人，因公司承攬103年度高雄物產館蓮潭旗艦店之環境清潔維護工作，而使臨時清潔人員劉曾玉暇免於繳納勞保及健保費用。',\n",
              "  '鄭孟育在未經告訴人孫慈鈺之授權或同意下，刻印孫慈鈺連續章2枚，並將其中一枚交給劉曾玉暇使用，另一枚則供自己使用。',\n",
              "  '鄭孟育在附表二至附表十三的「每月清潔維護人員簽到表」文件上，以及附表二之1至附表十三之1的「每日環境清潔檢查表」文件的檢查人員簽名欄上，偽造孫慈鈺的印章，以表示由孫慈鈺負責環境清潔及檢查工作。']]"
            ]
          },
          "metadata": {},
          "execution_count": 6
        }
      ]
    },
    {
      "cell_type": "code",
      "source": [
        "loaded_summaries_len = []\n",
        "sentences_len = []\n",
        "for summary in loaded_summaries:\n",
        "  summary_len = 0\n",
        "  for sentence in summary:\n",
        "    summary_len = summary_len + len(sentence)\n",
        "    sentences_len.append(len(sentence))\n",
        "  loaded_summaries_len.append(summary_len)\n"
      ],
      "metadata": {
        "id": "BnsOuRa9y2N0"
      },
      "execution_count": null,
      "outputs": []
    },
    {
      "cell_type": "code",
      "source": [
        "print(\"===loaded_summaries_len===\")\n",
        "print(\"Length: \", len(loaded_summaries_len))\n",
        "print(\"Max Length: \", max(loaded_summaries_len))\n",
        "print(\"Min Length: \", min(loaded_summaries_len))\n",
        "print(\"Avg. Length: \", sum(loaded_summaries_len) / len(loaded_summaries_len))\n",
        "\n",
        "print(\"===sentences_len===\")\n",
        "print(\"Length: \", len(sentences_len))\n",
        "print(\"Max Length: \", max(sentences_len))\n",
        "print(\"Min Length: \", min(sentences_len))\n",
        "print(\"Avg. Length: \", sum(sentences_len) / len(sentences_len))"
      ],
      "metadata": {
        "colab": {
          "base_uri": "https://localhost:8080/"
        },
        "id": "9FapXJuOy6mX",
        "outputId": "e23b70d9-b030-45f5-9a96-d9a0d4b247b5"
      },
      "execution_count": null,
      "outputs": [
        {
          "output_type": "stream",
          "name": "stdout",
          "text": [
            "===loaded_summaries_len===\n",
            "Length:  100\n",
            "Max Length:  1219\n",
            "Min Length:  97\n",
            "Avg. Length:  394.01\n",
            "===sentences_len===\n",
            "Length:  356\n",
            "Max Length:  755\n",
            "Min Length:  0\n",
            "Avg. Length:  110.67696629213484\n"
          ]
        }
      ]
    },
    {
      "cell_type": "code",
      "source": [
        "train_facts_sentences[0][:3]"
      ],
      "metadata": {
        "colab": {
          "base_uri": "https://localhost:8080/"
        },
        "id": "kI6l1ZyH02dB",
        "outputId": "957e1ab4-75b6-48b9-b14b-03efe19f3693"
      },
      "execution_count": null,
      "outputs": [
        {
          "output_type": "execute_result",
          "data": {
            "text/plain": [
              "['一、陳泰龍明知其與泰國籍女子陳玉婉（泰國名字為JARUWANWONGPRATOOM，陳玉婉涉嫌本案偽造文書部分，另經臺灣臺南地方法院檢察署檢察官通緝中）間並無結婚之真意，然因詹巧薇、張晉源等人欲找臺灣男子前往泰國與泰國女子辦理假結婚，林清水負責介紹臺灣男子予詹巧薇、張晉源等人以賺取新臺幣（下同）1萬元之仲介費，適陳泰龍依林清水於報紙上刊登之徵人廣告應徵時，由林清水告知泰國女子欲以假結婚之方式申請來臺居留工作，其若擔任假結婚之人頭老公，除不用負擔前往泰國之食宿、機票費用外，尚可獲取5、6萬元之報酬，迨陳泰龍應允同意後，林清水將其轉介紹予詹巧薇、張晉源等人，陳泰龍遂與林清水、詹巧薇、張晉源等人共同基於行使使公務員登載不實公文書之概括犯意聯絡，先由陳泰龍依指示於民國93年4月3日前往泰國，並於同年月7日與陳玉婉在泰國曼谷市法拉坎農區註冊辦事處登記結婚，取得上開註冊辦事處核發之結婚登記書、結婚證書等文件後，陳泰龍即行返臺，並於同年5月19日持經我國駐泰國臺北經濟文化辦事處認證之上開結婚登記書、結婚證書等資料，至臺南縣永康市（改制前稱謂，以下沿用舊制稱謂）戶政事務所填寫結婚登記申請書，申請辦理其與陳玉婉之結婚登記，因此使上開戶政事務所僅有形式審查權之承辦公務員陷於錯誤，於形式上審核後，將陳泰龍與陳玉婉於93年4月7日結婚之不實事項，登載於其職務上所掌屬公文書之戶籍登記資料內，並據以核發戶籍謄本，而足以生損害於戶政機關對於戶政管理及戶籍登記資料維護之正確性',\n",
              " '迨陳玉婉來臺後，為取得居留身分，再由陳泰龍、陳玉婉承前概括之犯意聯絡，於同年6月14日及94年5月5日，均持前開登載不實之戶籍謄本等資料，先後向臺南縣政府警察局外事課申請核發陳玉婉之外僑居留證及申請居留證延期而連續行使之（業經檢察官當庭補充），經承辦人員實質審查結果，均未發覺陳泰龍與陳玉婉假結婚之實情，而發給陳玉婉居留證或核准延期，各足以生損害於主管機關對外僑居留管理之正確性',\n",
              " '二、案經臺南市警察局（現改制為臺南市政府警察局，以下沿用舊制稱謂）第一分局報告臺灣臺南地方法院檢察署檢察官偵查起訴']"
            ]
          },
          "metadata": {},
          "execution_count": 20
        }
      ]
    },
    {
      "cell_type": "markdown",
      "source": [
        "## train facts"
      ],
      "metadata": {
        "id": "NLACbs-3YXrk"
      }
    },
    {
      "cell_type": "code",
      "source": [
        "train_summaries_sentences = generate_summary(query, train_facts_sentences[:100])"
      ],
      "metadata": {
        "id": "JjlvTw4h0tBx"
      },
      "execution_count": null,
      "outputs": []
    },
    {
      "cell_type": "code",
      "source": [
        "with open('/content/drive/MyDrive/train_summaries_sentences_100.json', 'w', encoding='utf-8') as file:\n",
        "    file.write(json.dumps(train_summaries_sentences, ensure_ascii=False))"
      ],
      "metadata": {
        "id": "ez26zntm0ymL"
      },
      "execution_count": null,
      "outputs": []
    },
    {
      "cell_type": "code",
      "source": [
        "train_facts_sentences[0][:5]"
      ],
      "metadata": {
        "colab": {
          "base_uri": "https://localhost:8080/"
        },
        "id": "1adHQjYiGhSw",
        "outputId": "71a8b11f-5a7d-4b7c-b4cb-cc11f442b632"
      },
      "execution_count": null,
      "outputs": [
        {
          "output_type": "execute_result",
          "data": {
            "text/plain": [
              "['一、陳泰龍明知其與泰國籍女子陳玉婉（泰國名字為JARUWANWONGPRATOOM，陳玉婉涉嫌本案偽造文書部分，另經臺灣臺南地方法院檢察署檢察官通緝中）間並無結婚之真意，然因詹巧薇、張晉源等人欲找臺灣男子前往泰國與泰國女子辦理假結婚，林清水負責介紹臺灣男子予詹巧薇、張晉源等人以賺取新臺幣（下同）1萬元之仲介費，適陳泰龍依林清水於報紙上刊登之徵人廣告應徵時，由林清水告知泰國女子欲以假結婚之方式申請來臺居留工作，其若擔任假結婚之人頭老公，除不用負擔前往泰國之食宿、機票費用外，尚可獲取5、6萬元之報酬，迨陳泰龍應允同意後，林清水將其轉介紹予詹巧薇、張晉源等人，陳泰龍遂與林清水、詹巧薇、張晉源等人共同基於行使使公務員登載不實公文書之概括犯意聯絡，先由陳泰龍依指示於民國93年4月3日前往泰國，並於同年月7日與陳玉婉在泰國曼谷市法拉坎農區註冊辦事處登記結婚，取得上開註冊辦事處核發之結婚登記書、結婚證書等文件後，陳泰龍即行返臺，並於同年5月19日持經我國駐泰國臺北經濟文化辦事處認證之上開結婚登記書、結婚證書等資料，至臺南縣永康市（改制前稱謂，以下沿用舊制稱謂）戶政事務所填寫結婚登記申請書，申請辦理其與陳玉婉之結婚登記，因此使上開戶政事務所僅有形式審查權之承辦公務員陷於錯誤，於形式上審核後，將陳泰龍與陳玉婉於93年4月7日結婚之不實事項，登載於其職務上所掌屬公文書之戶籍登記資料內，並據以核發戶籍謄本，而足以生損害於戶政機關對於戶政管理及戶籍登記資料維護之正確性',\n",
              " '迨陳玉婉來臺後，為取得居留身分，再由陳泰龍、陳玉婉承前概括之犯意聯絡，於同年6月14日及94年5月5日，均持前開登載不實之戶籍謄本等資料，先後向臺南縣政府警察局外事課申請核發陳玉婉之外僑居留證及申請居留證延期而連續行使之（業經檢察官當庭補充），經承辦人員實質審查結果，均未發覺陳泰龍與陳玉婉假結婚之實情，而發給陳玉婉居留證或核准延期，各足以生損害於主管機關對外僑居留管理之正確性',\n",
              " '二、案經臺南市警察局（現改制為臺南市政府警察局，以下沿用舊制稱謂）第一分局報告臺灣臺南地方法院檢察署檢察官偵查起訴',\n",
              " '理由甲、程序方面：一、本件以下所引用具傳聞證據性質之供述證據，因本件被告陳泰龍、檢察官等人於本院準備程序進行時，均未爭執前開陳述之證據能力，且迄至本案言詞辯論終結前亦均未聲明異議，應視為已同意援引作為證據，又本院審酌前開證據作成時之情況及證據取得過程等節，並無非出於任意性、不正取供或其他違法不當情事，且客觀上亦無顯不可信之情況，堪認為適當，是依刑事訴訟法第159條之5規定，均有證據能力',\n",
              " '二、卷附之被告及陳玉婉入出國日期紀錄各1份等書證，均非屬供述證據，皆無傳聞法則之適用，復均無違反法定程序取得之情形，依刑事訴訟法第158條之4規定之反面解釋，均應有證據能力']"
            ]
          },
          "metadata": {},
          "execution_count": 19
        }
      ]
    },
    {
      "cell_type": "code",
      "source": [
        "train_summaries_sentences[:3]"
      ],
      "metadata": {
        "colab": {
          "base_uri": "https://localhost:8080/"
        },
        "id": "7mknaxb_GZeJ",
        "outputId": "8f507595-4d45-45ea-90c3-d093186c20fb"
      },
      "execution_count": null,
      "outputs": [
        {
          "output_type": "execute_result",
          "data": {
            "text/plain": [
              "[['被告明知與泰國籍女子陳玉婉（JARUWANWONGPRATOOM）間並無結婚之真意，仍與林清水、詹巧薇、張晉源等人共同基於行使使公務員登載不實公文書之概括犯意聯絡，辦理假結婚手續。',\n",
              "  '被告與陳玉婉在泰國辦理結婚手續後，返回臺灣辦理結婚登記，使承辦公務員陷於錯誤，登載不實事項於戶籍登記資料內，核發戶籍謄本。',\n",
              "  '陳玉婉來臺後，為取得居留身分，被告與她共同向臺南縣政府警察局外事課申請核發居留證及延期，承辦人員實質審查結果未發覺假結婚，而核發居留證或核准延期。'],\n",
              " ['甲○○於民國100年11月1日上午7時許，在臺南市北安橋路旁拾得可發射子彈具有殺傷力之槍枝（槍枝管制編號：0000000000號）後持有之，並於100年11月6日主動向員警坦承犯行而自首接受裁判',\n",
              "  '甲○○於本院審理該案（100年度訴字第1635號）時編造其母楊陳敏於100年11月1日經急診住院接受治療，其係為照顧住院之母親楊陳敏才遲延報繳槍枝之情節，辯稱其無持有可發射子彈具有殺傷力槍枝之犯意',\n",
              "  '甲○○為取信於法院乃基於行使偽造私文書之犯意，於100年11月6日至101年1月12日間某日在不詳地點，偽刻奇美醫療財團法人奇美醫院（下稱奇美醫院）、院長邱仲慶及醫師甲○○之印章各1顆，再偽造如附表編號四所示診斷證明書（下稱系爭診斷證明書）提出於本院（收件日期為101年1月12日），表示系爭診斷證明書記載之內容業經認證屬實之意，足以生損害於奇美醫院、邱仲慶、甲○○及國家司法權行使之正確性'],\n",
              " ['及理由一、犯罪事實：白秋霖與泰國籍女子WANGMONTRIDOKMAI（中文姓名白雪蘭，另為職權不起訴處分）均明知並無結婚之真意，為使WANGMONTRIDOKMAI得以結婚方式居留在臺灣地區工作，共同基於使公務員登載不實文書之概括犯意聯絡，於民國93年10月29日，至泰國曼谷，辦理假結婚手續，並在泰國取得不實之結婚證明書等相關資料，由白秋霖於同年11月18日，前往臺中縣沙鹿鎮戶政事務所，持上開結婚證件，申請辦理結婚戶籍登記，使該戶政事務所不知情之承辦人員將白秋霖與WANGMONTRIDOKMAI間虛偽辦理結婚之不實事項，登載於職務上掌管之戶籍登記資料之電子資訊檔案紀錄、戶籍謄本等公文書，足以生損害於戶政機關對於戶籍登記事項管理之正確性',\n",
              "  '白秋霖明知上開婚姻係虛偽婚姻，於94年3月30日具狀向本院訴請離婚，經本院以94年度家訴字第92號判決離婚後，於94年7月7日，前往臺中縣沙鹿鎮戶政事務所，辦理離婚登記，使該戶政事務所不知情之承辦人員將白秋霖與WANGMONTRIDOKMAI間虛偽辦理離婚之不實事項，登載於職務上掌管之戶籍登記資料之電子資訊檔案紀錄、戶籍謄本等公文書，足以生損害於戶政機關對於戶籍登記事項管理之正確性',\n",
              "  '嗣於99年4月6日，因WANGMONTRIDOKMAI逾期居留，為警查獲']]"
            ]
          },
          "metadata": {},
          "execution_count": 17
        }
      ]
    },
    {
      "cell_type": "code",
      "source": [
        "with open('/content/drive/MyDrive/train_summaries_sentences_100.json', 'r', encoding='utf-8') as file:\n",
        "    json_data = file.read()\n",
        "    loaded_summaries = json.loads(json_data)"
      ],
      "metadata": {
        "id": "SkUPG4KjGQCI"
      },
      "execution_count": null,
      "outputs": []
    },
    {
      "cell_type": "code",
      "source": [
        "loaded_summaries[:3]"
      ],
      "metadata": {
        "colab": {
          "base_uri": "https://localhost:8080/"
        },
        "id": "T2ojoelbH-u1",
        "outputId": "c4cbebec-d776-405e-c860-681cffcb3749"
      },
      "execution_count": null,
      "outputs": [
        {
          "output_type": "execute_result",
          "data": {
            "text/plain": [
              "[['被告明知與泰國籍女子陳玉婉（JARUWANWONGPRATOOM）間並無結婚之真意，仍與林清水、詹巧薇、張晉源等人共同基於行使使公務員登載不實公文書之概括犯意聯絡，辦理假結婚手續。',\n",
              "  '被告與陳玉婉在泰國辦理結婚手續後，返回臺灣辦理結婚登記，使承辦公務員陷於錯誤，登載不實事項於戶籍登記資料內，核發戶籍謄本。',\n",
              "  '陳玉婉來臺後，為取得居留身分，被告與她共同向臺南縣政府警察局外事課申請核發居留證及延期，承辦人員實質審查結果未發覺假結婚，而核發居留證或核准延期。'],\n",
              " ['甲○○於民國100年11月1日上午7時許，在臺南市北安橋路旁拾得可發射子彈具有殺傷力之槍枝（槍枝管制編號：0000000000號）後持有之，並於100年11月6日主動向員警坦承犯行而自首接受裁判',\n",
              "  '甲○○於本院審理該案（100年度訴字第1635號）時編造其母楊陳敏於100年11月1日經急診住院接受治療，其係為照顧住院之母親楊陳敏才遲延報繳槍枝之情節，辯稱其無持有可發射子彈具有殺傷力槍枝之犯意',\n",
              "  '甲○○為取信於法院乃基於行使偽造私文書之犯意，於100年11月6日至101年1月12日間某日在不詳地點，偽刻奇美醫療財團法人奇美醫院（下稱奇美醫院）、院長邱仲慶及醫師甲○○之印章各1顆，再偽造如附表編號四所示診斷證明書（下稱系爭診斷證明書）提出於本院（收件日期為101年1月12日），表示系爭診斷證明書記載之內容業經認證屬實之意，足以生損害於奇美醫院、邱仲慶、甲○○及國家司法權行使之正確性'],\n",
              " ['及理由一、犯罪事實：白秋霖與泰國籍女子WANGMONTRIDOKMAI（中文姓名白雪蘭，另為職權不起訴處分）均明知並無結婚之真意，為使WANGMONTRIDOKMAI得以結婚方式居留在臺灣地區工作，共同基於使公務員登載不實文書之概括犯意聯絡，於民國93年10月29日，至泰國曼谷，辦理假結婚手續，並在泰國取得不實之結婚證明書等相關資料，由白秋霖於同年11月18日，前往臺中縣沙鹿鎮戶政事務所，持上開結婚證件，申請辦理結婚戶籍登記，使該戶政事務所不知情之承辦人員將白秋霖與WANGMONTRIDOKMAI間虛偽辦理結婚之不實事項，登載於職務上掌管之戶籍登記資料之電子資訊檔案紀錄、戶籍謄本等公文書，足以生損害於戶政機關對於戶籍登記事項管理之正確性',\n",
              "  '白秋霖明知上開婚姻係虛偽婚姻，於94年3月30日具狀向本院訴請離婚，經本院以94年度家訴字第92號判決離婚後，於94年7月7日，前往臺中縣沙鹿鎮戶政事務所，辦理離婚登記，使該戶政事務所不知情之承辦人員將白秋霖與WANGMONTRIDOKMAI間虛偽辦理離婚之不實事項，登載於職務上掌管之戶籍登記資料之電子資訊檔案紀錄、戶籍謄本等公文書，足以生損害於戶政機關對於戶籍登記事項管理之正確性',\n",
              "  '嗣於99年4月6日，因WANGMONTRIDOKMAI逾期居留，為警查獲']]"
            ]
          },
          "metadata": {},
          "execution_count": 23
        }
      ]
    },
    {
      "cell_type": "code",
      "source": [
        "train_summaries_sentences_200 = generate_summary(query, train_facts_sentences[100:200])"
      ],
      "metadata": {
        "id": "VFQ6Y-v4IXXj"
      },
      "execution_count": null,
      "outputs": []
    },
    {
      "cell_type": "code",
      "source": [
        "with open('/content/drive/MyDrive/train_summaries_sentences_200.json', 'w', encoding='utf-8') as file:\n",
        "    file.write(json.dumps(train_summaries_sentences_200, ensure_ascii=False))"
      ],
      "metadata": {
        "id": "8gN4NujSIp75"
      },
      "execution_count": null,
      "outputs": []
    }
  ],
  "metadata": {
    "colab": {
      "provenance": [],
      "include_colab_link": true
    },
    "kernelspec": {
      "display_name": "Python 3",
      "name": "python3"
    },
    "language_info": {
      "name": "python"
    }
  },
  "nbformat": 4,
  "nbformat_minor": 0
}