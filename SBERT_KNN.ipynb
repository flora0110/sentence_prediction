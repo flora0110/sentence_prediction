{
  "nbformat": 4,
  "nbformat_minor": 0,
  "metadata": {
    "colab": {
      "provenance": [],
      "authorship_tag": "ABX9TyMhvkUHZYujeb0a5LDOXy08",
      "include_colab_link": true
    },
    "kernelspec": {
      "name": "python3",
      "display_name": "Python 3"
    },
    "language_info": {
      "name": "python"
    },
    "widgets": {
      "application/vnd.jupyter.widget-state+json": {
        "c923b2fa97974adcad8dbb6719219d3d": {
          "model_module": "@jupyter-widgets/controls",
          "model_name": "HBoxModel",
          "model_module_version": "1.5.0",
          "state": {
            "_dom_classes": [],
            "_model_module": "@jupyter-widgets/controls",
            "_model_module_version": "1.5.0",
            "_model_name": "HBoxModel",
            "_view_count": null,
            "_view_module": "@jupyter-widgets/controls",
            "_view_module_version": "1.5.0",
            "_view_name": "HBoxView",
            "box_style": "",
            "children": [
              "IPY_MODEL_f0dcadf03218463aa9e6c57c2dd8c86d",
              "IPY_MODEL_3734b94b47954545a5ccc454a578d30b",
              "IPY_MODEL_cc6978c840494133aa30035158bc0910"
            ],
            "layout": "IPY_MODEL_d39869934f724675ba571ca3b19f5335"
          }
        },
        "f0dcadf03218463aa9e6c57c2dd8c86d": {
          "model_module": "@jupyter-widgets/controls",
          "model_name": "HTMLModel",
          "model_module_version": "1.5.0",
          "state": {
            "_dom_classes": [],
            "_model_module": "@jupyter-widgets/controls",
            "_model_module_version": "1.5.0",
            "_model_name": "HTMLModel",
            "_view_count": null,
            "_view_module": "@jupyter-widgets/controls",
            "_view_module_version": "1.5.0",
            "_view_name": "HTMLView",
            "description": "",
            "description_tooltip": null,
            "layout": "IPY_MODEL_2b55ee0d7983472f848c663d4828d066",
            "placeholder": "​",
            "style": "IPY_MODEL_f591766554d640a0831887d7e3d637ee",
            "value": "modules.json: 100%"
          }
        },
        "3734b94b47954545a5ccc454a578d30b": {
          "model_module": "@jupyter-widgets/controls",
          "model_name": "FloatProgressModel",
          "model_module_version": "1.5.0",
          "state": {
            "_dom_classes": [],
            "_model_module": "@jupyter-widgets/controls",
            "_model_module_version": "1.5.0",
            "_model_name": "FloatProgressModel",
            "_view_count": null,
            "_view_module": "@jupyter-widgets/controls",
            "_view_module_version": "1.5.0",
            "_view_name": "ProgressView",
            "bar_style": "success",
            "description": "",
            "description_tooltip": null,
            "layout": "IPY_MODEL_bb34584d12aa4e0099a29c63368838d6",
            "max": 341,
            "min": 0,
            "orientation": "horizontal",
            "style": "IPY_MODEL_24c924a978104b4385a40fc28338e31f",
            "value": 341
          }
        },
        "cc6978c840494133aa30035158bc0910": {
          "model_module": "@jupyter-widgets/controls",
          "model_name": "HTMLModel",
          "model_module_version": "1.5.0",
          "state": {
            "_dom_classes": [],
            "_model_module": "@jupyter-widgets/controls",
            "_model_module_version": "1.5.0",
            "_model_name": "HTMLModel",
            "_view_count": null,
            "_view_module": "@jupyter-widgets/controls",
            "_view_module_version": "1.5.0",
            "_view_name": "HTMLView",
            "description": "",
            "description_tooltip": null,
            "layout": "IPY_MODEL_fb5246337e784c4ba858c2b2bc14c873",
            "placeholder": "​",
            "style": "IPY_MODEL_bba0905299f64f3696e0911918a78ec0",
            "value": " 341/341 [00:00&lt;00:00, 5.29kB/s]"
          }
        },
        "d39869934f724675ba571ca3b19f5335": {
          "model_module": "@jupyter-widgets/base",
          "model_name": "LayoutModel",
          "model_module_version": "1.2.0",
          "state": {
            "_model_module": "@jupyter-widgets/base",
            "_model_module_version": "1.2.0",
            "_model_name": "LayoutModel",
            "_view_count": null,
            "_view_module": "@jupyter-widgets/base",
            "_view_module_version": "1.2.0",
            "_view_name": "LayoutView",
            "align_content": null,
            "align_items": null,
            "align_self": null,
            "border": null,
            "bottom": null,
            "display": null,
            "flex": null,
            "flex_flow": null,
            "grid_area": null,
            "grid_auto_columns": null,
            "grid_auto_flow": null,
            "grid_auto_rows": null,
            "grid_column": null,
            "grid_gap": null,
            "grid_row": null,
            "grid_template_areas": null,
            "grid_template_columns": null,
            "grid_template_rows": null,
            "height": null,
            "justify_content": null,
            "justify_items": null,
            "left": null,
            "margin": null,
            "max_height": null,
            "max_width": null,
            "min_height": null,
            "min_width": null,
            "object_fit": null,
            "object_position": null,
            "order": null,
            "overflow": null,
            "overflow_x": null,
            "overflow_y": null,
            "padding": null,
            "right": null,
            "top": null,
            "visibility": null,
            "width": null
          }
        },
        "2b55ee0d7983472f848c663d4828d066": {
          "model_module": "@jupyter-widgets/base",
          "model_name": "LayoutModel",
          "model_module_version": "1.2.0",
          "state": {
            "_model_module": "@jupyter-widgets/base",
            "_model_module_version": "1.2.0",
            "_model_name": "LayoutModel",
            "_view_count": null,
            "_view_module": "@jupyter-widgets/base",
            "_view_module_version": "1.2.0",
            "_view_name": "LayoutView",
            "align_content": null,
            "align_items": null,
            "align_self": null,
            "border": null,
            "bottom": null,
            "display": null,
            "flex": null,
            "flex_flow": null,
            "grid_area": null,
            "grid_auto_columns": null,
            "grid_auto_flow": null,
            "grid_auto_rows": null,
            "grid_column": null,
            "grid_gap": null,
            "grid_row": null,
            "grid_template_areas": null,
            "grid_template_columns": null,
            "grid_template_rows": null,
            "height": null,
            "justify_content": null,
            "justify_items": null,
            "left": null,
            "margin": null,
            "max_height": null,
            "max_width": null,
            "min_height": null,
            "min_width": null,
            "object_fit": null,
            "object_position": null,
            "order": null,
            "overflow": null,
            "overflow_x": null,
            "overflow_y": null,
            "padding": null,
            "right": null,
            "top": null,
            "visibility": null,
            "width": null
          }
        },
        "f591766554d640a0831887d7e3d637ee": {
          "model_module": "@jupyter-widgets/controls",
          "model_name": "DescriptionStyleModel",
          "model_module_version": "1.5.0",
          "state": {
            "_model_module": "@jupyter-widgets/controls",
            "_model_module_version": "1.5.0",
            "_model_name": "DescriptionStyleModel",
            "_view_count": null,
            "_view_module": "@jupyter-widgets/base",
            "_view_module_version": "1.2.0",
            "_view_name": "StyleView",
            "description_width": ""
          }
        },
        "bb34584d12aa4e0099a29c63368838d6": {
          "model_module": "@jupyter-widgets/base",
          "model_name": "LayoutModel",
          "model_module_version": "1.2.0",
          "state": {
            "_model_module": "@jupyter-widgets/base",
            "_model_module_version": "1.2.0",
            "_model_name": "LayoutModel",
            "_view_count": null,
            "_view_module": "@jupyter-widgets/base",
            "_view_module_version": "1.2.0",
            "_view_name": "LayoutView",
            "align_content": null,
            "align_items": null,
            "align_self": null,
            "border": null,
            "bottom": null,
            "display": null,
            "flex": null,
            "flex_flow": null,
            "grid_area": null,
            "grid_auto_columns": null,
            "grid_auto_flow": null,
            "grid_auto_rows": null,
            "grid_column": null,
            "grid_gap": null,
            "grid_row": null,
            "grid_template_areas": null,
            "grid_template_columns": null,
            "grid_template_rows": null,
            "height": null,
            "justify_content": null,
            "justify_items": null,
            "left": null,
            "margin": null,
            "max_height": null,
            "max_width": null,
            "min_height": null,
            "min_width": null,
            "object_fit": null,
            "object_position": null,
            "order": null,
            "overflow": null,
            "overflow_x": null,
            "overflow_y": null,
            "padding": null,
            "right": null,
            "top": null,
            "visibility": null,
            "width": null
          }
        },
        "24c924a978104b4385a40fc28338e31f": {
          "model_module": "@jupyter-widgets/controls",
          "model_name": "ProgressStyleModel",
          "model_module_version": "1.5.0",
          "state": {
            "_model_module": "@jupyter-widgets/controls",
            "_model_module_version": "1.5.0",
            "_model_name": "ProgressStyleModel",
            "_view_count": null,
            "_view_module": "@jupyter-widgets/base",
            "_view_module_version": "1.2.0",
            "_view_name": "StyleView",
            "bar_color": null,
            "description_width": ""
          }
        },
        "fb5246337e784c4ba858c2b2bc14c873": {
          "model_module": "@jupyter-widgets/base",
          "model_name": "LayoutModel",
          "model_module_version": "1.2.0",
          "state": {
            "_model_module": "@jupyter-widgets/base",
            "_model_module_version": "1.2.0",
            "_model_name": "LayoutModel",
            "_view_count": null,
            "_view_module": "@jupyter-widgets/base",
            "_view_module_version": "1.2.0",
            "_view_name": "LayoutView",
            "align_content": null,
            "align_items": null,
            "align_self": null,
            "border": null,
            "bottom": null,
            "display": null,
            "flex": null,
            "flex_flow": null,
            "grid_area": null,
            "grid_auto_columns": null,
            "grid_auto_flow": null,
            "grid_auto_rows": null,
            "grid_column": null,
            "grid_gap": null,
            "grid_row": null,
            "grid_template_areas": null,
            "grid_template_columns": null,
            "grid_template_rows": null,
            "height": null,
            "justify_content": null,
            "justify_items": null,
            "left": null,
            "margin": null,
            "max_height": null,
            "max_width": null,
            "min_height": null,
            "min_width": null,
            "object_fit": null,
            "object_position": null,
            "order": null,
            "overflow": null,
            "overflow_x": null,
            "overflow_y": null,
            "padding": null,
            "right": null,
            "top": null,
            "visibility": null,
            "width": null
          }
        },
        "bba0905299f64f3696e0911918a78ec0": {
          "model_module": "@jupyter-widgets/controls",
          "model_name": "DescriptionStyleModel",
          "model_module_version": "1.5.0",
          "state": {
            "_model_module": "@jupyter-widgets/controls",
            "_model_module_version": "1.5.0",
            "_model_name": "DescriptionStyleModel",
            "_view_count": null,
            "_view_module": "@jupyter-widgets/base",
            "_view_module_version": "1.2.0",
            "_view_name": "StyleView",
            "description_width": ""
          }
        },
        "ddfdcd5f38214593971bb77f1aab938c": {
          "model_module": "@jupyter-widgets/controls",
          "model_name": "HBoxModel",
          "model_module_version": "1.5.0",
          "state": {
            "_dom_classes": [],
            "_model_module": "@jupyter-widgets/controls",
            "_model_module_version": "1.5.0",
            "_model_name": "HBoxModel",
            "_view_count": null,
            "_view_module": "@jupyter-widgets/controls",
            "_view_module_version": "1.5.0",
            "_view_name": "HBoxView",
            "box_style": "",
            "children": [
              "IPY_MODEL_e24ca5f9d6e243dc8155f4d32daa6ce9",
              "IPY_MODEL_84fca6365bbf4bb8921e2917ff93a672",
              "IPY_MODEL_09366c201d364e18b3fd7fe09a58a3a3"
            ],
            "layout": "IPY_MODEL_a419bc6cf8a649d9935b44f1d2b6a0ad"
          }
        },
        "e24ca5f9d6e243dc8155f4d32daa6ce9": {
          "model_module": "@jupyter-widgets/controls",
          "model_name": "HTMLModel",
          "model_module_version": "1.5.0",
          "state": {
            "_dom_classes": [],
            "_model_module": "@jupyter-widgets/controls",
            "_model_module_version": "1.5.0",
            "_model_name": "HTMLModel",
            "_view_count": null,
            "_view_module": "@jupyter-widgets/controls",
            "_view_module_version": "1.5.0",
            "_view_name": "HTMLView",
            "description": "",
            "description_tooltip": null,
            "layout": "IPY_MODEL_65b59be6180b4137a8833b667a8370c8",
            "placeholder": "​",
            "style": "IPY_MODEL_9b3c061c67004cc4b654b2da2f7a6f91",
            "value": "config_sentence_transformers.json: 100%"
          }
        },
        "84fca6365bbf4bb8921e2917ff93a672": {
          "model_module": "@jupyter-widgets/controls",
          "model_name": "FloatProgressModel",
          "model_module_version": "1.5.0",
          "state": {
            "_dom_classes": [],
            "_model_module": "@jupyter-widgets/controls",
            "_model_module_version": "1.5.0",
            "_model_name": "FloatProgressModel",
            "_view_count": null,
            "_view_module": "@jupyter-widgets/controls",
            "_view_module_version": "1.5.0",
            "_view_name": "ProgressView",
            "bar_style": "success",
            "description": "",
            "description_tooltip": null,
            "layout": "IPY_MODEL_6a2074424efc447f85006dd6856c85ec",
            "max": 122,
            "min": 0,
            "orientation": "horizontal",
            "style": "IPY_MODEL_91cfc2b5ee354a37b653dcd7d4dd5d4f",
            "value": 122
          }
        },
        "09366c201d364e18b3fd7fe09a58a3a3": {
          "model_module": "@jupyter-widgets/controls",
          "model_name": "HTMLModel",
          "model_module_version": "1.5.0",
          "state": {
            "_dom_classes": [],
            "_model_module": "@jupyter-widgets/controls",
            "_model_module_version": "1.5.0",
            "_model_name": "HTMLModel",
            "_view_count": null,
            "_view_module": "@jupyter-widgets/controls",
            "_view_module_version": "1.5.0",
            "_view_name": "HTMLView",
            "description": "",
            "description_tooltip": null,
            "layout": "IPY_MODEL_7194ce6b96c442608f680f60c5494af7",
            "placeholder": "​",
            "style": "IPY_MODEL_1c580f8d927d45b29c25aa7d58912f0c",
            "value": " 122/122 [00:00&lt;00:00, 4.24kB/s]"
          }
        },
        "a419bc6cf8a649d9935b44f1d2b6a0ad": {
          "model_module": "@jupyter-widgets/base",
          "model_name": "LayoutModel",
          "model_module_version": "1.2.0",
          "state": {
            "_model_module": "@jupyter-widgets/base",
            "_model_module_version": "1.2.0",
            "_model_name": "LayoutModel",
            "_view_count": null,
            "_view_module": "@jupyter-widgets/base",
            "_view_module_version": "1.2.0",
            "_view_name": "LayoutView",
            "align_content": null,
            "align_items": null,
            "align_self": null,
            "border": null,
            "bottom": null,
            "display": null,
            "flex": null,
            "flex_flow": null,
            "grid_area": null,
            "grid_auto_columns": null,
            "grid_auto_flow": null,
            "grid_auto_rows": null,
            "grid_column": null,
            "grid_gap": null,
            "grid_row": null,
            "grid_template_areas": null,
            "grid_template_columns": null,
            "grid_template_rows": null,
            "height": null,
            "justify_content": null,
            "justify_items": null,
            "left": null,
            "margin": null,
            "max_height": null,
            "max_width": null,
            "min_height": null,
            "min_width": null,
            "object_fit": null,
            "object_position": null,
            "order": null,
            "overflow": null,
            "overflow_x": null,
            "overflow_y": null,
            "padding": null,
            "right": null,
            "top": null,
            "visibility": null,
            "width": null
          }
        },
        "65b59be6180b4137a8833b667a8370c8": {
          "model_module": "@jupyter-widgets/base",
          "model_name": "LayoutModel",
          "model_module_version": "1.2.0",
          "state": {
            "_model_module": "@jupyter-widgets/base",
            "_model_module_version": "1.2.0",
            "_model_name": "LayoutModel",
            "_view_count": null,
            "_view_module": "@jupyter-widgets/base",
            "_view_module_version": "1.2.0",
            "_view_name": "LayoutView",
            "align_content": null,
            "align_items": null,
            "align_self": null,
            "border": null,
            "bottom": null,
            "display": null,
            "flex": null,
            "flex_flow": null,
            "grid_area": null,
            "grid_auto_columns": null,
            "grid_auto_flow": null,
            "grid_auto_rows": null,
            "grid_column": null,
            "grid_gap": null,
            "grid_row": null,
            "grid_template_areas": null,
            "grid_template_columns": null,
            "grid_template_rows": null,
            "height": null,
            "justify_content": null,
            "justify_items": null,
            "left": null,
            "margin": null,
            "max_height": null,
            "max_width": null,
            "min_height": null,
            "min_width": null,
            "object_fit": null,
            "object_position": null,
            "order": null,
            "overflow": null,
            "overflow_x": null,
            "overflow_y": null,
            "padding": null,
            "right": null,
            "top": null,
            "visibility": null,
            "width": null
          }
        },
        "9b3c061c67004cc4b654b2da2f7a6f91": {
          "model_module": "@jupyter-widgets/controls",
          "model_name": "DescriptionStyleModel",
          "model_module_version": "1.5.0",
          "state": {
            "_model_module": "@jupyter-widgets/controls",
            "_model_module_version": "1.5.0",
            "_model_name": "DescriptionStyleModel",
            "_view_count": null,
            "_view_module": "@jupyter-widgets/base",
            "_view_module_version": "1.2.0",
            "_view_name": "StyleView",
            "description_width": ""
          }
        },
        "6a2074424efc447f85006dd6856c85ec": {
          "model_module": "@jupyter-widgets/base",
          "model_name": "LayoutModel",
          "model_module_version": "1.2.0",
          "state": {
            "_model_module": "@jupyter-widgets/base",
            "_model_module_version": "1.2.0",
            "_model_name": "LayoutModel",
            "_view_count": null,
            "_view_module": "@jupyter-widgets/base",
            "_view_module_version": "1.2.0",
            "_view_name": "LayoutView",
            "align_content": null,
            "align_items": null,
            "align_self": null,
            "border": null,
            "bottom": null,
            "display": null,
            "flex": null,
            "flex_flow": null,
            "grid_area": null,
            "grid_auto_columns": null,
            "grid_auto_flow": null,
            "grid_auto_rows": null,
            "grid_column": null,
            "grid_gap": null,
            "grid_row": null,
            "grid_template_areas": null,
            "grid_template_columns": null,
            "grid_template_rows": null,
            "height": null,
            "justify_content": null,
            "justify_items": null,
            "left": null,
            "margin": null,
            "max_height": null,
            "max_width": null,
            "min_height": null,
            "min_width": null,
            "object_fit": null,
            "object_position": null,
            "order": null,
            "overflow": null,
            "overflow_x": null,
            "overflow_y": null,
            "padding": null,
            "right": null,
            "top": null,
            "visibility": null,
            "width": null
          }
        },
        "91cfc2b5ee354a37b653dcd7d4dd5d4f": {
          "model_module": "@jupyter-widgets/controls",
          "model_name": "ProgressStyleModel",
          "model_module_version": "1.5.0",
          "state": {
            "_model_module": "@jupyter-widgets/controls",
            "_model_module_version": "1.5.0",
            "_model_name": "ProgressStyleModel",
            "_view_count": null,
            "_view_module": "@jupyter-widgets/base",
            "_view_module_version": "1.2.0",
            "_view_name": "StyleView",
            "bar_color": null,
            "description_width": ""
          }
        },
        "7194ce6b96c442608f680f60c5494af7": {
          "model_module": "@jupyter-widgets/base",
          "model_name": "LayoutModel",
          "model_module_version": "1.2.0",
          "state": {
            "_model_module": "@jupyter-widgets/base",
            "_model_module_version": "1.2.0",
            "_model_name": "LayoutModel",
            "_view_count": null,
            "_view_module": "@jupyter-widgets/base",
            "_view_module_version": "1.2.0",
            "_view_name": "LayoutView",
            "align_content": null,
            "align_items": null,
            "align_self": null,
            "border": null,
            "bottom": null,
            "display": null,
            "flex": null,
            "flex_flow": null,
            "grid_area": null,
            "grid_auto_columns": null,
            "grid_auto_flow": null,
            "grid_auto_rows": null,
            "grid_column": null,
            "grid_gap": null,
            "grid_row": null,
            "grid_template_areas": null,
            "grid_template_columns": null,
            "grid_template_rows": null,
            "height": null,
            "justify_content": null,
            "justify_items": null,
            "left": null,
            "margin": null,
            "max_height": null,
            "max_width": null,
            "min_height": null,
            "min_width": null,
            "object_fit": null,
            "object_position": null,
            "order": null,
            "overflow": null,
            "overflow_x": null,
            "overflow_y": null,
            "padding": null,
            "right": null,
            "top": null,
            "visibility": null,
            "width": null
          }
        },
        "1c580f8d927d45b29c25aa7d58912f0c": {
          "model_module": "@jupyter-widgets/controls",
          "model_name": "DescriptionStyleModel",
          "model_module_version": "1.5.0",
          "state": {
            "_model_module": "@jupyter-widgets/controls",
            "_model_module_version": "1.5.0",
            "_model_name": "DescriptionStyleModel",
            "_view_count": null,
            "_view_module": "@jupyter-widgets/base",
            "_view_module_version": "1.2.0",
            "_view_name": "StyleView",
            "description_width": ""
          }
        },
        "bccfec9ff60e474586a14d47259c0632": {
          "model_module": "@jupyter-widgets/controls",
          "model_name": "HBoxModel",
          "model_module_version": "1.5.0",
          "state": {
            "_dom_classes": [],
            "_model_module": "@jupyter-widgets/controls",
            "_model_module_version": "1.5.0",
            "_model_name": "HBoxModel",
            "_view_count": null,
            "_view_module": "@jupyter-widgets/controls",
            "_view_module_version": "1.5.0",
            "_view_name": "HBoxView",
            "box_style": "",
            "children": [
              "IPY_MODEL_b3c48afa1c07496cb8d5ef072a50cae1",
              "IPY_MODEL_56d14251d361415ba43a5d4f0d713f39",
              "IPY_MODEL_d84b37267a094ebfb433895444e266b0"
            ],
            "layout": "IPY_MODEL_53542a62814e4c6d88e9afba222b4f9e"
          }
        },
        "b3c48afa1c07496cb8d5ef072a50cae1": {
          "model_module": "@jupyter-widgets/controls",
          "model_name": "HTMLModel",
          "model_module_version": "1.5.0",
          "state": {
            "_dom_classes": [],
            "_model_module": "@jupyter-widgets/controls",
            "_model_module_version": "1.5.0",
            "_model_name": "HTMLModel",
            "_view_count": null,
            "_view_module": "@jupyter-widgets/controls",
            "_view_module_version": "1.5.0",
            "_view_name": "HTMLView",
            "description": "",
            "description_tooltip": null,
            "layout": "IPY_MODEL_72180069730641d6aa6ed547f5c4610a",
            "placeholder": "​",
            "style": "IPY_MODEL_e26a503a31ed4de4bd4335802b6474d5",
            "value": "README.md: 100%"
          }
        },
        "56d14251d361415ba43a5d4f0d713f39": {
          "model_module": "@jupyter-widgets/controls",
          "model_name": "FloatProgressModel",
          "model_module_version": "1.5.0",
          "state": {
            "_dom_classes": [],
            "_model_module": "@jupyter-widgets/controls",
            "_model_module_version": "1.5.0",
            "_model_name": "FloatProgressModel",
            "_view_count": null,
            "_view_module": "@jupyter-widgets/controls",
            "_view_module_version": "1.5.0",
            "_view_name": "ProgressView",
            "bar_style": "success",
            "description": "",
            "description_tooltip": null,
            "layout": "IPY_MODEL_6ac74b79ae7a4d138aa5a36fffe280fd",
            "max": 2694,
            "min": 0,
            "orientation": "horizontal",
            "style": "IPY_MODEL_f75b22fe54cb4cdd840980e61200f8cb",
            "value": 2694
          }
        },
        "d84b37267a094ebfb433895444e266b0": {
          "model_module": "@jupyter-widgets/controls",
          "model_name": "HTMLModel",
          "model_module_version": "1.5.0",
          "state": {
            "_dom_classes": [],
            "_model_module": "@jupyter-widgets/controls",
            "_model_module_version": "1.5.0",
            "_model_name": "HTMLModel",
            "_view_count": null,
            "_view_module": "@jupyter-widgets/controls",
            "_view_module_version": "1.5.0",
            "_view_name": "HTMLView",
            "description": "",
            "description_tooltip": null,
            "layout": "IPY_MODEL_f441e2d2e612450dacfd9d74e5da58e9",
            "placeholder": "​",
            "style": "IPY_MODEL_21d01a84f78c4697848a2902ef92f247",
            "value": " 2.69k/2.69k [00:00&lt;00:00, 41.4kB/s]"
          }
        },
        "53542a62814e4c6d88e9afba222b4f9e": {
          "model_module": "@jupyter-widgets/base",
          "model_name": "LayoutModel",
          "model_module_version": "1.2.0",
          "state": {
            "_model_module": "@jupyter-widgets/base",
            "_model_module_version": "1.2.0",
            "_model_name": "LayoutModel",
            "_view_count": null,
            "_view_module": "@jupyter-widgets/base",
            "_view_module_version": "1.2.0",
            "_view_name": "LayoutView",
            "align_content": null,
            "align_items": null,
            "align_self": null,
            "border": null,
            "bottom": null,
            "display": null,
            "flex": null,
            "flex_flow": null,
            "grid_area": null,
            "grid_auto_columns": null,
            "grid_auto_flow": null,
            "grid_auto_rows": null,
            "grid_column": null,
            "grid_gap": null,
            "grid_row": null,
            "grid_template_areas": null,
            "grid_template_columns": null,
            "grid_template_rows": null,
            "height": null,
            "justify_content": null,
            "justify_items": null,
            "left": null,
            "margin": null,
            "max_height": null,
            "max_width": null,
            "min_height": null,
            "min_width": null,
            "object_fit": null,
            "object_position": null,
            "order": null,
            "overflow": null,
            "overflow_x": null,
            "overflow_y": null,
            "padding": null,
            "right": null,
            "top": null,
            "visibility": null,
            "width": null
          }
        },
        "72180069730641d6aa6ed547f5c4610a": {
          "model_module": "@jupyter-widgets/base",
          "model_name": "LayoutModel",
          "model_module_version": "1.2.0",
          "state": {
            "_model_module": "@jupyter-widgets/base",
            "_model_module_version": "1.2.0",
            "_model_name": "LayoutModel",
            "_view_count": null,
            "_view_module": "@jupyter-widgets/base",
            "_view_module_version": "1.2.0",
            "_view_name": "LayoutView",
            "align_content": null,
            "align_items": null,
            "align_self": null,
            "border": null,
            "bottom": null,
            "display": null,
            "flex": null,
            "flex_flow": null,
            "grid_area": null,
            "grid_auto_columns": null,
            "grid_auto_flow": null,
            "grid_auto_rows": null,
            "grid_column": null,
            "grid_gap": null,
            "grid_row": null,
            "grid_template_areas": null,
            "grid_template_columns": null,
            "grid_template_rows": null,
            "height": null,
            "justify_content": null,
            "justify_items": null,
            "left": null,
            "margin": null,
            "max_height": null,
            "max_width": null,
            "min_height": null,
            "min_width": null,
            "object_fit": null,
            "object_position": null,
            "order": null,
            "overflow": null,
            "overflow_x": null,
            "overflow_y": null,
            "padding": null,
            "right": null,
            "top": null,
            "visibility": null,
            "width": null
          }
        },
        "e26a503a31ed4de4bd4335802b6474d5": {
          "model_module": "@jupyter-widgets/controls",
          "model_name": "DescriptionStyleModel",
          "model_module_version": "1.5.0",
          "state": {
            "_model_module": "@jupyter-widgets/controls",
            "_model_module_version": "1.5.0",
            "_model_name": "DescriptionStyleModel",
            "_view_count": null,
            "_view_module": "@jupyter-widgets/base",
            "_view_module_version": "1.2.0",
            "_view_name": "StyleView",
            "description_width": ""
          }
        },
        "6ac74b79ae7a4d138aa5a36fffe280fd": {
          "model_module": "@jupyter-widgets/base",
          "model_name": "LayoutModel",
          "model_module_version": "1.2.0",
          "state": {
            "_model_module": "@jupyter-widgets/base",
            "_model_module_version": "1.2.0",
            "_model_name": "LayoutModel",
            "_view_count": null,
            "_view_module": "@jupyter-widgets/base",
            "_view_module_version": "1.2.0",
            "_view_name": "LayoutView",
            "align_content": null,
            "align_items": null,
            "align_self": null,
            "border": null,
            "bottom": null,
            "display": null,
            "flex": null,
            "flex_flow": null,
            "grid_area": null,
            "grid_auto_columns": null,
            "grid_auto_flow": null,
            "grid_auto_rows": null,
            "grid_column": null,
            "grid_gap": null,
            "grid_row": null,
            "grid_template_areas": null,
            "grid_template_columns": null,
            "grid_template_rows": null,
            "height": null,
            "justify_content": null,
            "justify_items": null,
            "left": null,
            "margin": null,
            "max_height": null,
            "max_width": null,
            "min_height": null,
            "min_width": null,
            "object_fit": null,
            "object_position": null,
            "order": null,
            "overflow": null,
            "overflow_x": null,
            "overflow_y": null,
            "padding": null,
            "right": null,
            "top": null,
            "visibility": null,
            "width": null
          }
        },
        "f75b22fe54cb4cdd840980e61200f8cb": {
          "model_module": "@jupyter-widgets/controls",
          "model_name": "ProgressStyleModel",
          "model_module_version": "1.5.0",
          "state": {
            "_model_module": "@jupyter-widgets/controls",
            "_model_module_version": "1.5.0",
            "_model_name": "ProgressStyleModel",
            "_view_count": null,
            "_view_module": "@jupyter-widgets/base",
            "_view_module_version": "1.2.0",
            "_view_name": "StyleView",
            "bar_color": null,
            "description_width": ""
          }
        },
        "f441e2d2e612450dacfd9d74e5da58e9": {
          "model_module": "@jupyter-widgets/base",
          "model_name": "LayoutModel",
          "model_module_version": "1.2.0",
          "state": {
            "_model_module": "@jupyter-widgets/base",
            "_model_module_version": "1.2.0",
            "_model_name": "LayoutModel",
            "_view_count": null,
            "_view_module": "@jupyter-widgets/base",
            "_view_module_version": "1.2.0",
            "_view_name": "LayoutView",
            "align_content": null,
            "align_items": null,
            "align_self": null,
            "border": null,
            "bottom": null,
            "display": null,
            "flex": null,
            "flex_flow": null,
            "grid_area": null,
            "grid_auto_columns": null,
            "grid_auto_flow": null,
            "grid_auto_rows": null,
            "grid_column": null,
            "grid_gap": null,
            "grid_row": null,
            "grid_template_areas": null,
            "grid_template_columns": null,
            "grid_template_rows": null,
            "height": null,
            "justify_content": null,
            "justify_items": null,
            "left": null,
            "margin": null,
            "max_height": null,
            "max_width": null,
            "min_height": null,
            "min_width": null,
            "object_fit": null,
            "object_position": null,
            "order": null,
            "overflow": null,
            "overflow_x": null,
            "overflow_y": null,
            "padding": null,
            "right": null,
            "top": null,
            "visibility": null,
            "width": null
          }
        },
        "21d01a84f78c4697848a2902ef92f247": {
          "model_module": "@jupyter-widgets/controls",
          "model_name": "DescriptionStyleModel",
          "model_module_version": "1.5.0",
          "state": {
            "_model_module": "@jupyter-widgets/controls",
            "_model_module_version": "1.5.0",
            "_model_name": "DescriptionStyleModel",
            "_view_count": null,
            "_view_module": "@jupyter-widgets/base",
            "_view_module_version": "1.2.0",
            "_view_name": "StyleView",
            "description_width": ""
          }
        },
        "11ff5edc117f4c9192ed29634a826222": {
          "model_module": "@jupyter-widgets/controls",
          "model_name": "HBoxModel",
          "model_module_version": "1.5.0",
          "state": {
            "_dom_classes": [],
            "_model_module": "@jupyter-widgets/controls",
            "_model_module_version": "1.5.0",
            "_model_name": "HBoxModel",
            "_view_count": null,
            "_view_module": "@jupyter-widgets/controls",
            "_view_module_version": "1.5.0",
            "_view_name": "HBoxView",
            "box_style": "",
            "children": [
              "IPY_MODEL_e92d836a8d4b4542a07e53dcb38c1fae",
              "IPY_MODEL_55861d9596db4e18919c72f21bda8fc9",
              "IPY_MODEL_5093bd8452ab45eba2cfe9b9dd204a9e"
            ],
            "layout": "IPY_MODEL_9117e6fa5dbf4878b5c01821f133f8ae"
          }
        },
        "e92d836a8d4b4542a07e53dcb38c1fae": {
          "model_module": "@jupyter-widgets/controls",
          "model_name": "HTMLModel",
          "model_module_version": "1.5.0",
          "state": {
            "_dom_classes": [],
            "_model_module": "@jupyter-widgets/controls",
            "_model_module_version": "1.5.0",
            "_model_name": "HTMLModel",
            "_view_count": null,
            "_view_module": "@jupyter-widgets/controls",
            "_view_module_version": "1.5.0",
            "_view_name": "HTMLView",
            "description": "",
            "description_tooltip": null,
            "layout": "IPY_MODEL_9a6a91af8559427784589a55902a05ea",
            "placeholder": "​",
            "style": "IPY_MODEL_67f273b67e8141f99533fb4d8673ed39",
            "value": "sentence_bert_config.json: 100%"
          }
        },
        "55861d9596db4e18919c72f21bda8fc9": {
          "model_module": "@jupyter-widgets/controls",
          "model_name": "FloatProgressModel",
          "model_module_version": "1.5.0",
          "state": {
            "_dom_classes": [],
            "_model_module": "@jupyter-widgets/controls",
            "_model_module_version": "1.5.0",
            "_model_name": "FloatProgressModel",
            "_view_count": null,
            "_view_module": "@jupyter-widgets/controls",
            "_view_module_version": "1.5.0",
            "_view_name": "ProgressView",
            "bar_style": "success",
            "description": "",
            "description_tooltip": null,
            "layout": "IPY_MODEL_08ba869790f4429ab50a83b2d915d8bc",
            "max": 53,
            "min": 0,
            "orientation": "horizontal",
            "style": "IPY_MODEL_fee4e184d2c1418fbd64cbde0d6bdff0",
            "value": 53
          }
        },
        "5093bd8452ab45eba2cfe9b9dd204a9e": {
          "model_module": "@jupyter-widgets/controls",
          "model_name": "HTMLModel",
          "model_module_version": "1.5.0",
          "state": {
            "_dom_classes": [],
            "_model_module": "@jupyter-widgets/controls",
            "_model_module_version": "1.5.0",
            "_model_name": "HTMLModel",
            "_view_count": null,
            "_view_module": "@jupyter-widgets/controls",
            "_view_module_version": "1.5.0",
            "_view_name": "HTMLView",
            "description": "",
            "description_tooltip": null,
            "layout": "IPY_MODEL_b93298cbe3004a9ab84f3676c67dd664",
            "placeholder": "​",
            "style": "IPY_MODEL_0db445c845974374bba6480bbe6e2181",
            "value": " 53.0/53.0 [00:00&lt;00:00, 547B/s]"
          }
        },
        "9117e6fa5dbf4878b5c01821f133f8ae": {
          "model_module": "@jupyter-widgets/base",
          "model_name": "LayoutModel",
          "model_module_version": "1.2.0",
          "state": {
            "_model_module": "@jupyter-widgets/base",
            "_model_module_version": "1.2.0",
            "_model_name": "LayoutModel",
            "_view_count": null,
            "_view_module": "@jupyter-widgets/base",
            "_view_module_version": "1.2.0",
            "_view_name": "LayoutView",
            "align_content": null,
            "align_items": null,
            "align_self": null,
            "border": null,
            "bottom": null,
            "display": null,
            "flex": null,
            "flex_flow": null,
            "grid_area": null,
            "grid_auto_columns": null,
            "grid_auto_flow": null,
            "grid_auto_rows": null,
            "grid_column": null,
            "grid_gap": null,
            "grid_row": null,
            "grid_template_areas": null,
            "grid_template_columns": null,
            "grid_template_rows": null,
            "height": null,
            "justify_content": null,
            "justify_items": null,
            "left": null,
            "margin": null,
            "max_height": null,
            "max_width": null,
            "min_height": null,
            "min_width": null,
            "object_fit": null,
            "object_position": null,
            "order": null,
            "overflow": null,
            "overflow_x": null,
            "overflow_y": null,
            "padding": null,
            "right": null,
            "top": null,
            "visibility": null,
            "width": null
          }
        },
        "9a6a91af8559427784589a55902a05ea": {
          "model_module": "@jupyter-widgets/base",
          "model_name": "LayoutModel",
          "model_module_version": "1.2.0",
          "state": {
            "_model_module": "@jupyter-widgets/base",
            "_model_module_version": "1.2.0",
            "_model_name": "LayoutModel",
            "_view_count": null,
            "_view_module": "@jupyter-widgets/base",
            "_view_module_version": "1.2.0",
            "_view_name": "LayoutView",
            "align_content": null,
            "align_items": null,
            "align_self": null,
            "border": null,
            "bottom": null,
            "display": null,
            "flex": null,
            "flex_flow": null,
            "grid_area": null,
            "grid_auto_columns": null,
            "grid_auto_flow": null,
            "grid_auto_rows": null,
            "grid_column": null,
            "grid_gap": null,
            "grid_row": null,
            "grid_template_areas": null,
            "grid_template_columns": null,
            "grid_template_rows": null,
            "height": null,
            "justify_content": null,
            "justify_items": null,
            "left": null,
            "margin": null,
            "max_height": null,
            "max_width": null,
            "min_height": null,
            "min_width": null,
            "object_fit": null,
            "object_position": null,
            "order": null,
            "overflow": null,
            "overflow_x": null,
            "overflow_y": null,
            "padding": null,
            "right": null,
            "top": null,
            "visibility": null,
            "width": null
          }
        },
        "67f273b67e8141f99533fb4d8673ed39": {
          "model_module": "@jupyter-widgets/controls",
          "model_name": "DescriptionStyleModel",
          "model_module_version": "1.5.0",
          "state": {
            "_model_module": "@jupyter-widgets/controls",
            "_model_module_version": "1.5.0",
            "_model_name": "DescriptionStyleModel",
            "_view_count": null,
            "_view_module": "@jupyter-widgets/base",
            "_view_module_version": "1.2.0",
            "_view_name": "StyleView",
            "description_width": ""
          }
        },
        "08ba869790f4429ab50a83b2d915d8bc": {
          "model_module": "@jupyter-widgets/base",
          "model_name": "LayoutModel",
          "model_module_version": "1.2.0",
          "state": {
            "_model_module": "@jupyter-widgets/base",
            "_model_module_version": "1.2.0",
            "_model_name": "LayoutModel",
            "_view_count": null,
            "_view_module": "@jupyter-widgets/base",
            "_view_module_version": "1.2.0",
            "_view_name": "LayoutView",
            "align_content": null,
            "align_items": null,
            "align_self": null,
            "border": null,
            "bottom": null,
            "display": null,
            "flex": null,
            "flex_flow": null,
            "grid_area": null,
            "grid_auto_columns": null,
            "grid_auto_flow": null,
            "grid_auto_rows": null,
            "grid_column": null,
            "grid_gap": null,
            "grid_row": null,
            "grid_template_areas": null,
            "grid_template_columns": null,
            "grid_template_rows": null,
            "height": null,
            "justify_content": null,
            "justify_items": null,
            "left": null,
            "margin": null,
            "max_height": null,
            "max_width": null,
            "min_height": null,
            "min_width": null,
            "object_fit": null,
            "object_position": null,
            "order": null,
            "overflow": null,
            "overflow_x": null,
            "overflow_y": null,
            "padding": null,
            "right": null,
            "top": null,
            "visibility": null,
            "width": null
          }
        },
        "fee4e184d2c1418fbd64cbde0d6bdff0": {
          "model_module": "@jupyter-widgets/controls",
          "model_name": "ProgressStyleModel",
          "model_module_version": "1.5.0",
          "state": {
            "_model_module": "@jupyter-widgets/controls",
            "_model_module_version": "1.5.0",
            "_model_name": "ProgressStyleModel",
            "_view_count": null,
            "_view_module": "@jupyter-widgets/base",
            "_view_module_version": "1.2.0",
            "_view_name": "StyleView",
            "bar_color": null,
            "description_width": ""
          }
        },
        "b93298cbe3004a9ab84f3676c67dd664": {
          "model_module": "@jupyter-widgets/base",
          "model_name": "LayoutModel",
          "model_module_version": "1.2.0",
          "state": {
            "_model_module": "@jupyter-widgets/base",
            "_model_module_version": "1.2.0",
            "_model_name": "LayoutModel",
            "_view_count": null,
            "_view_module": "@jupyter-widgets/base",
            "_view_module_version": "1.2.0",
            "_view_name": "LayoutView",
            "align_content": null,
            "align_items": null,
            "align_self": null,
            "border": null,
            "bottom": null,
            "display": null,
            "flex": null,
            "flex_flow": null,
            "grid_area": null,
            "grid_auto_columns": null,
            "grid_auto_flow": null,
            "grid_auto_rows": null,
            "grid_column": null,
            "grid_gap": null,
            "grid_row": null,
            "grid_template_areas": null,
            "grid_template_columns": null,
            "grid_template_rows": null,
            "height": null,
            "justify_content": null,
            "justify_items": null,
            "left": null,
            "margin": null,
            "max_height": null,
            "max_width": null,
            "min_height": null,
            "min_width": null,
            "object_fit": null,
            "object_position": null,
            "order": null,
            "overflow": null,
            "overflow_x": null,
            "overflow_y": null,
            "padding": null,
            "right": null,
            "top": null,
            "visibility": null,
            "width": null
          }
        },
        "0db445c845974374bba6480bbe6e2181": {
          "model_module": "@jupyter-widgets/controls",
          "model_name": "DescriptionStyleModel",
          "model_module_version": "1.5.0",
          "state": {
            "_model_module": "@jupyter-widgets/controls",
            "_model_module_version": "1.5.0",
            "_model_name": "DescriptionStyleModel",
            "_view_count": null,
            "_view_module": "@jupyter-widgets/base",
            "_view_module_version": "1.2.0",
            "_view_name": "StyleView",
            "description_width": ""
          }
        },
        "59eb219ad0ce4aff9e5b8a64062088e2": {
          "model_module": "@jupyter-widgets/controls",
          "model_name": "HBoxModel",
          "model_module_version": "1.5.0",
          "state": {
            "_dom_classes": [],
            "_model_module": "@jupyter-widgets/controls",
            "_model_module_version": "1.5.0",
            "_model_name": "HBoxModel",
            "_view_count": null,
            "_view_module": "@jupyter-widgets/controls",
            "_view_module_version": "1.5.0",
            "_view_name": "HBoxView",
            "box_style": "",
            "children": [
              "IPY_MODEL_bf16d78faeb64c28ac54c8367028a9fc",
              "IPY_MODEL_21f98a63570f430582037a22e0a9e5d6",
              "IPY_MODEL_4d419d1ed3794275af67486ef1824077"
            ],
            "layout": "IPY_MODEL_48b85e99a75c4fde92558823d1f5b212"
          }
        },
        "bf16d78faeb64c28ac54c8367028a9fc": {
          "model_module": "@jupyter-widgets/controls",
          "model_name": "HTMLModel",
          "model_module_version": "1.5.0",
          "state": {
            "_dom_classes": [],
            "_model_module": "@jupyter-widgets/controls",
            "_model_module_version": "1.5.0",
            "_model_name": "HTMLModel",
            "_view_count": null,
            "_view_module": "@jupyter-widgets/controls",
            "_view_module_version": "1.5.0",
            "_view_name": "HTMLView",
            "description": "",
            "description_tooltip": null,
            "layout": "IPY_MODEL_fbfaffff8b604f75ae50ea403cc6bb1a",
            "placeholder": "​",
            "style": "IPY_MODEL_2ea6ce8b7a374d8198708e25bc369010",
            "value": "config.json: 100%"
          }
        },
        "21f98a63570f430582037a22e0a9e5d6": {
          "model_module": "@jupyter-widgets/controls",
          "model_name": "FloatProgressModel",
          "model_module_version": "1.5.0",
          "state": {
            "_dom_classes": [],
            "_model_module": "@jupyter-widgets/controls",
            "_model_module_version": "1.5.0",
            "_model_name": "FloatProgressModel",
            "_view_count": null,
            "_view_module": "@jupyter-widgets/controls",
            "_view_module_version": "1.5.0",
            "_view_name": "ProgressView",
            "bar_style": "success",
            "description": "",
            "description_tooltip": null,
            "layout": "IPY_MODEL_6fbde7bff24b4ca1a4aff787938cd9cd",
            "max": 610,
            "min": 0,
            "orientation": "horizontal",
            "style": "IPY_MODEL_0ea811baefc84d7aa1938087d429f2ce",
            "value": 610
          }
        },
        "4d419d1ed3794275af67486ef1824077": {
          "model_module": "@jupyter-widgets/controls",
          "model_name": "HTMLModel",
          "model_module_version": "1.5.0",
          "state": {
            "_dom_classes": [],
            "_model_module": "@jupyter-widgets/controls",
            "_model_module_version": "1.5.0",
            "_model_name": "HTMLModel",
            "_view_count": null,
            "_view_module": "@jupyter-widgets/controls",
            "_view_module_version": "1.5.0",
            "_view_name": "HTMLView",
            "description": "",
            "description_tooltip": null,
            "layout": "IPY_MODEL_e74a7548b48a4126a87062b5f114ca08",
            "placeholder": "​",
            "style": "IPY_MODEL_07c35c065fc24ff8ac02625d74ef7f03",
            "value": " 610/610 [00:00&lt;00:00, 5.11kB/s]"
          }
        },
        "48b85e99a75c4fde92558823d1f5b212": {
          "model_module": "@jupyter-widgets/base",
          "model_name": "LayoutModel",
          "model_module_version": "1.2.0",
          "state": {
            "_model_module": "@jupyter-widgets/base",
            "_model_module_version": "1.2.0",
            "_model_name": "LayoutModel",
            "_view_count": null,
            "_view_module": "@jupyter-widgets/base",
            "_view_module_version": "1.2.0",
            "_view_name": "LayoutView",
            "align_content": null,
            "align_items": null,
            "align_self": null,
            "border": null,
            "bottom": null,
            "display": null,
            "flex": null,
            "flex_flow": null,
            "grid_area": null,
            "grid_auto_columns": null,
            "grid_auto_flow": null,
            "grid_auto_rows": null,
            "grid_column": null,
            "grid_gap": null,
            "grid_row": null,
            "grid_template_areas": null,
            "grid_template_columns": null,
            "grid_template_rows": null,
            "height": null,
            "justify_content": null,
            "justify_items": null,
            "left": null,
            "margin": null,
            "max_height": null,
            "max_width": null,
            "min_height": null,
            "min_width": null,
            "object_fit": null,
            "object_position": null,
            "order": null,
            "overflow": null,
            "overflow_x": null,
            "overflow_y": null,
            "padding": null,
            "right": null,
            "top": null,
            "visibility": null,
            "width": null
          }
        },
        "fbfaffff8b604f75ae50ea403cc6bb1a": {
          "model_module": "@jupyter-widgets/base",
          "model_name": "LayoutModel",
          "model_module_version": "1.2.0",
          "state": {
            "_model_module": "@jupyter-widgets/base",
            "_model_module_version": "1.2.0",
            "_model_name": "LayoutModel",
            "_view_count": null,
            "_view_module": "@jupyter-widgets/base",
            "_view_module_version": "1.2.0",
            "_view_name": "LayoutView",
            "align_content": null,
            "align_items": null,
            "align_self": null,
            "border": null,
            "bottom": null,
            "display": null,
            "flex": null,
            "flex_flow": null,
            "grid_area": null,
            "grid_auto_columns": null,
            "grid_auto_flow": null,
            "grid_auto_rows": null,
            "grid_column": null,
            "grid_gap": null,
            "grid_row": null,
            "grid_template_areas": null,
            "grid_template_columns": null,
            "grid_template_rows": null,
            "height": null,
            "justify_content": null,
            "justify_items": null,
            "left": null,
            "margin": null,
            "max_height": null,
            "max_width": null,
            "min_height": null,
            "min_width": null,
            "object_fit": null,
            "object_position": null,
            "order": null,
            "overflow": null,
            "overflow_x": null,
            "overflow_y": null,
            "padding": null,
            "right": null,
            "top": null,
            "visibility": null,
            "width": null
          }
        },
        "2ea6ce8b7a374d8198708e25bc369010": {
          "model_module": "@jupyter-widgets/controls",
          "model_name": "DescriptionStyleModel",
          "model_module_version": "1.5.0",
          "state": {
            "_model_module": "@jupyter-widgets/controls",
            "_model_module_version": "1.5.0",
            "_model_name": "DescriptionStyleModel",
            "_view_count": null,
            "_view_module": "@jupyter-widgets/base",
            "_view_module_version": "1.2.0",
            "_view_name": "StyleView",
            "description_width": ""
          }
        },
        "6fbde7bff24b4ca1a4aff787938cd9cd": {
          "model_module": "@jupyter-widgets/base",
          "model_name": "LayoutModel",
          "model_module_version": "1.2.0",
          "state": {
            "_model_module": "@jupyter-widgets/base",
            "_model_module_version": "1.2.0",
            "_model_name": "LayoutModel",
            "_view_count": null,
            "_view_module": "@jupyter-widgets/base",
            "_view_module_version": "1.2.0",
            "_view_name": "LayoutView",
            "align_content": null,
            "align_items": null,
            "align_self": null,
            "border": null,
            "bottom": null,
            "display": null,
            "flex": null,
            "flex_flow": null,
            "grid_area": null,
            "grid_auto_columns": null,
            "grid_auto_flow": null,
            "grid_auto_rows": null,
            "grid_column": null,
            "grid_gap": null,
            "grid_row": null,
            "grid_template_areas": null,
            "grid_template_columns": null,
            "grid_template_rows": null,
            "height": null,
            "justify_content": null,
            "justify_items": null,
            "left": null,
            "margin": null,
            "max_height": null,
            "max_width": null,
            "min_height": null,
            "min_width": null,
            "object_fit": null,
            "object_position": null,
            "order": null,
            "overflow": null,
            "overflow_x": null,
            "overflow_y": null,
            "padding": null,
            "right": null,
            "top": null,
            "visibility": null,
            "width": null
          }
        },
        "0ea811baefc84d7aa1938087d429f2ce": {
          "model_module": "@jupyter-widgets/controls",
          "model_name": "ProgressStyleModel",
          "model_module_version": "1.5.0",
          "state": {
            "_model_module": "@jupyter-widgets/controls",
            "_model_module_version": "1.5.0",
            "_model_name": "ProgressStyleModel",
            "_view_count": null,
            "_view_module": "@jupyter-widgets/base",
            "_view_module_version": "1.2.0",
            "_view_name": "StyleView",
            "bar_color": null,
            "description_width": ""
          }
        },
        "e74a7548b48a4126a87062b5f114ca08": {
          "model_module": "@jupyter-widgets/base",
          "model_name": "LayoutModel",
          "model_module_version": "1.2.0",
          "state": {
            "_model_module": "@jupyter-widgets/base",
            "_model_module_version": "1.2.0",
            "_model_name": "LayoutModel",
            "_view_count": null,
            "_view_module": "@jupyter-widgets/base",
            "_view_module_version": "1.2.0",
            "_view_name": "LayoutView",
            "align_content": null,
            "align_items": null,
            "align_self": null,
            "border": null,
            "bottom": null,
            "display": null,
            "flex": null,
            "flex_flow": null,
            "grid_area": null,
            "grid_auto_columns": null,
            "grid_auto_flow": null,
            "grid_auto_rows": null,
            "grid_column": null,
            "grid_gap": null,
            "grid_row": null,
            "grid_template_areas": null,
            "grid_template_columns": null,
            "grid_template_rows": null,
            "height": null,
            "justify_content": null,
            "justify_items": null,
            "left": null,
            "margin": null,
            "max_height": null,
            "max_width": null,
            "min_height": null,
            "min_width": null,
            "object_fit": null,
            "object_position": null,
            "order": null,
            "overflow": null,
            "overflow_x": null,
            "overflow_y": null,
            "padding": null,
            "right": null,
            "top": null,
            "visibility": null,
            "width": null
          }
        },
        "07c35c065fc24ff8ac02625d74ef7f03": {
          "model_module": "@jupyter-widgets/controls",
          "model_name": "DescriptionStyleModel",
          "model_module_version": "1.5.0",
          "state": {
            "_model_module": "@jupyter-widgets/controls",
            "_model_module_version": "1.5.0",
            "_model_name": "DescriptionStyleModel",
            "_view_count": null,
            "_view_module": "@jupyter-widgets/base",
            "_view_module_version": "1.2.0",
            "_view_name": "StyleView",
            "description_width": ""
          }
        },
        "5d14dc1d1e544cbea470a83ce92430bf": {
          "model_module": "@jupyter-widgets/controls",
          "model_name": "HBoxModel",
          "model_module_version": "1.5.0",
          "state": {
            "_dom_classes": [],
            "_model_module": "@jupyter-widgets/controls",
            "_model_module_version": "1.5.0",
            "_model_name": "HBoxModel",
            "_view_count": null,
            "_view_module": "@jupyter-widgets/controls",
            "_view_module_version": "1.5.0",
            "_view_name": "HBoxView",
            "box_style": "",
            "children": [
              "IPY_MODEL_c0734af4354e45e09a8c8fe16650af50",
              "IPY_MODEL_ce14662061454dd9b07c17b0e0fa1062",
              "IPY_MODEL_f9924b25a8c641e3b731557f8a73176e"
            ],
            "layout": "IPY_MODEL_68f518ffb0a44a87834e767e3098aca8"
          }
        },
        "c0734af4354e45e09a8c8fe16650af50": {
          "model_module": "@jupyter-widgets/controls",
          "model_name": "HTMLModel",
          "model_module_version": "1.5.0",
          "state": {
            "_dom_classes": [],
            "_model_module": "@jupyter-widgets/controls",
            "_model_module_version": "1.5.0",
            "_model_name": "HTMLModel",
            "_view_count": null,
            "_view_module": "@jupyter-widgets/controls",
            "_view_module_version": "1.5.0",
            "_view_name": "HTMLView",
            "description": "",
            "description_tooltip": null,
            "layout": "IPY_MODEL_9aa4b14b3bf649cbb2c525dc03afa4a0",
            "placeholder": "​",
            "style": "IPY_MODEL_3f783409ed1c40269347bdb85be472ee",
            "value": "pytorch_model.bin: 100%"
          }
        },
        "ce14662061454dd9b07c17b0e0fa1062": {
          "model_module": "@jupyter-widgets/controls",
          "model_name": "FloatProgressModel",
          "model_module_version": "1.5.0",
          "state": {
            "_dom_classes": [],
            "_model_module": "@jupyter-widgets/controls",
            "_model_module_version": "1.5.0",
            "_model_name": "FloatProgressModel",
            "_view_count": null,
            "_view_module": "@jupyter-widgets/controls",
            "_view_module_version": "1.5.0",
            "_view_name": "ProgressView",
            "bar_style": "success",
            "description": "",
            "description_tooltip": null,
            "layout": "IPY_MODEL_4c3168542f9148e18f9c80e5fc2e3bba",
            "max": 538971577,
            "min": 0,
            "orientation": "horizontal",
            "style": "IPY_MODEL_b122b88943f64b0b895c91d8589af0b5",
            "value": 538971577
          }
        },
        "f9924b25a8c641e3b731557f8a73176e": {
          "model_module": "@jupyter-widgets/controls",
          "model_name": "HTMLModel",
          "model_module_version": "1.5.0",
          "state": {
            "_dom_classes": [],
            "_model_module": "@jupyter-widgets/controls",
            "_model_module_version": "1.5.0",
            "_model_name": "HTMLModel",
            "_view_count": null,
            "_view_module": "@jupyter-widgets/controls",
            "_view_module_version": "1.5.0",
            "_view_name": "HTMLView",
            "description": "",
            "description_tooltip": null,
            "layout": "IPY_MODEL_b05dc3538ce04606b0417d71a5a04f44",
            "placeholder": "​",
            "style": "IPY_MODEL_490aa5aa66a14a87a106cabde66cdfb6",
            "value": " 539M/539M [00:06&lt;00:00, 72.1MB/s]"
          }
        },
        "68f518ffb0a44a87834e767e3098aca8": {
          "model_module": "@jupyter-widgets/base",
          "model_name": "LayoutModel",
          "model_module_version": "1.2.0",
          "state": {
            "_model_module": "@jupyter-widgets/base",
            "_model_module_version": "1.2.0",
            "_model_name": "LayoutModel",
            "_view_count": null,
            "_view_module": "@jupyter-widgets/base",
            "_view_module_version": "1.2.0",
            "_view_name": "LayoutView",
            "align_content": null,
            "align_items": null,
            "align_self": null,
            "border": null,
            "bottom": null,
            "display": null,
            "flex": null,
            "flex_flow": null,
            "grid_area": null,
            "grid_auto_columns": null,
            "grid_auto_flow": null,
            "grid_auto_rows": null,
            "grid_column": null,
            "grid_gap": null,
            "grid_row": null,
            "grid_template_areas": null,
            "grid_template_columns": null,
            "grid_template_rows": null,
            "height": null,
            "justify_content": null,
            "justify_items": null,
            "left": null,
            "margin": null,
            "max_height": null,
            "max_width": null,
            "min_height": null,
            "min_width": null,
            "object_fit": null,
            "object_position": null,
            "order": null,
            "overflow": null,
            "overflow_x": null,
            "overflow_y": null,
            "padding": null,
            "right": null,
            "top": null,
            "visibility": null,
            "width": null
          }
        },
        "9aa4b14b3bf649cbb2c525dc03afa4a0": {
          "model_module": "@jupyter-widgets/base",
          "model_name": "LayoutModel",
          "model_module_version": "1.2.0",
          "state": {
            "_model_module": "@jupyter-widgets/base",
            "_model_module_version": "1.2.0",
            "_model_name": "LayoutModel",
            "_view_count": null,
            "_view_module": "@jupyter-widgets/base",
            "_view_module_version": "1.2.0",
            "_view_name": "LayoutView",
            "align_content": null,
            "align_items": null,
            "align_self": null,
            "border": null,
            "bottom": null,
            "display": null,
            "flex": null,
            "flex_flow": null,
            "grid_area": null,
            "grid_auto_columns": null,
            "grid_auto_flow": null,
            "grid_auto_rows": null,
            "grid_column": null,
            "grid_gap": null,
            "grid_row": null,
            "grid_template_areas": null,
            "grid_template_columns": null,
            "grid_template_rows": null,
            "height": null,
            "justify_content": null,
            "justify_items": null,
            "left": null,
            "margin": null,
            "max_height": null,
            "max_width": null,
            "min_height": null,
            "min_width": null,
            "object_fit": null,
            "object_position": null,
            "order": null,
            "overflow": null,
            "overflow_x": null,
            "overflow_y": null,
            "padding": null,
            "right": null,
            "top": null,
            "visibility": null,
            "width": null
          }
        },
        "3f783409ed1c40269347bdb85be472ee": {
          "model_module": "@jupyter-widgets/controls",
          "model_name": "DescriptionStyleModel",
          "model_module_version": "1.5.0",
          "state": {
            "_model_module": "@jupyter-widgets/controls",
            "_model_module_version": "1.5.0",
            "_model_name": "DescriptionStyleModel",
            "_view_count": null,
            "_view_module": "@jupyter-widgets/base",
            "_view_module_version": "1.2.0",
            "_view_name": "StyleView",
            "description_width": ""
          }
        },
        "4c3168542f9148e18f9c80e5fc2e3bba": {
          "model_module": "@jupyter-widgets/base",
          "model_name": "LayoutModel",
          "model_module_version": "1.2.0",
          "state": {
            "_model_module": "@jupyter-widgets/base",
            "_model_module_version": "1.2.0",
            "_model_name": "LayoutModel",
            "_view_count": null,
            "_view_module": "@jupyter-widgets/base",
            "_view_module_version": "1.2.0",
            "_view_name": "LayoutView",
            "align_content": null,
            "align_items": null,
            "align_self": null,
            "border": null,
            "bottom": null,
            "display": null,
            "flex": null,
            "flex_flow": null,
            "grid_area": null,
            "grid_auto_columns": null,
            "grid_auto_flow": null,
            "grid_auto_rows": null,
            "grid_column": null,
            "grid_gap": null,
            "grid_row": null,
            "grid_template_areas": null,
            "grid_template_columns": null,
            "grid_template_rows": null,
            "height": null,
            "justify_content": null,
            "justify_items": null,
            "left": null,
            "margin": null,
            "max_height": null,
            "max_width": null,
            "min_height": null,
            "min_width": null,
            "object_fit": null,
            "object_position": null,
            "order": null,
            "overflow": null,
            "overflow_x": null,
            "overflow_y": null,
            "padding": null,
            "right": null,
            "top": null,
            "visibility": null,
            "width": null
          }
        },
        "b122b88943f64b0b895c91d8589af0b5": {
          "model_module": "@jupyter-widgets/controls",
          "model_name": "ProgressStyleModel",
          "model_module_version": "1.5.0",
          "state": {
            "_model_module": "@jupyter-widgets/controls",
            "_model_module_version": "1.5.0",
            "_model_name": "ProgressStyleModel",
            "_view_count": null,
            "_view_module": "@jupyter-widgets/base",
            "_view_module_version": "1.2.0",
            "_view_name": "StyleView",
            "bar_color": null,
            "description_width": ""
          }
        },
        "b05dc3538ce04606b0417d71a5a04f44": {
          "model_module": "@jupyter-widgets/base",
          "model_name": "LayoutModel",
          "model_module_version": "1.2.0",
          "state": {
            "_model_module": "@jupyter-widgets/base",
            "_model_module_version": "1.2.0",
            "_model_name": "LayoutModel",
            "_view_count": null,
            "_view_module": "@jupyter-widgets/base",
            "_view_module_version": "1.2.0",
            "_view_name": "LayoutView",
            "align_content": null,
            "align_items": null,
            "align_self": null,
            "border": null,
            "bottom": null,
            "display": null,
            "flex": null,
            "flex_flow": null,
            "grid_area": null,
            "grid_auto_columns": null,
            "grid_auto_flow": null,
            "grid_auto_rows": null,
            "grid_column": null,
            "grid_gap": null,
            "grid_row": null,
            "grid_template_areas": null,
            "grid_template_columns": null,
            "grid_template_rows": null,
            "height": null,
            "justify_content": null,
            "justify_items": null,
            "left": null,
            "margin": null,
            "max_height": null,
            "max_width": null,
            "min_height": null,
            "min_width": null,
            "object_fit": null,
            "object_position": null,
            "order": null,
            "overflow": null,
            "overflow_x": null,
            "overflow_y": null,
            "padding": null,
            "right": null,
            "top": null,
            "visibility": null,
            "width": null
          }
        },
        "490aa5aa66a14a87a106cabde66cdfb6": {
          "model_module": "@jupyter-widgets/controls",
          "model_name": "DescriptionStyleModel",
          "model_module_version": "1.5.0",
          "state": {
            "_model_module": "@jupyter-widgets/controls",
            "_model_module_version": "1.5.0",
            "_model_name": "DescriptionStyleModel",
            "_view_count": null,
            "_view_module": "@jupyter-widgets/base",
            "_view_module_version": "1.2.0",
            "_view_name": "StyleView",
            "description_width": ""
          }
        },
        "1da0aaf31b254d769a58d6a5c91763f3": {
          "model_module": "@jupyter-widgets/controls",
          "model_name": "HBoxModel",
          "model_module_version": "1.5.0",
          "state": {
            "_dom_classes": [],
            "_model_module": "@jupyter-widgets/controls",
            "_model_module_version": "1.5.0",
            "_model_name": "HBoxModel",
            "_view_count": null,
            "_view_module": "@jupyter-widgets/controls",
            "_view_module_version": "1.5.0",
            "_view_name": "HBoxView",
            "box_style": "",
            "children": [
              "IPY_MODEL_eae111a8fba64411927f0581a7dc80d4",
              "IPY_MODEL_3af9ea6aae7b4cff88d8f7f622397941",
              "IPY_MODEL_6fb30d21224741b2bdc02b3e0b7af75e"
            ],
            "layout": "IPY_MODEL_01feff496400400f9478008892a493d4"
          }
        },
        "eae111a8fba64411927f0581a7dc80d4": {
          "model_module": "@jupyter-widgets/controls",
          "model_name": "HTMLModel",
          "model_module_version": "1.5.0",
          "state": {
            "_dom_classes": [],
            "_model_module": "@jupyter-widgets/controls",
            "_model_module_version": "1.5.0",
            "_model_name": "HTMLModel",
            "_view_count": null,
            "_view_module": "@jupyter-widgets/controls",
            "_view_module_version": "1.5.0",
            "_view_name": "HTMLView",
            "description": "",
            "description_tooltip": null,
            "layout": "IPY_MODEL_01e8ae898d674d579a8b5f4de4a055c7",
            "placeholder": "​",
            "style": "IPY_MODEL_73f64f5d0d4f4f1797d5ee7548871f0e",
            "value": "tokenizer_config.json: 100%"
          }
        },
        "3af9ea6aae7b4cff88d8f7f622397941": {
          "model_module": "@jupyter-widgets/controls",
          "model_name": "FloatProgressModel",
          "model_module_version": "1.5.0",
          "state": {
            "_dom_classes": [],
            "_model_module": "@jupyter-widgets/controls",
            "_model_module_version": "1.5.0",
            "_model_name": "FloatProgressModel",
            "_view_count": null,
            "_view_module": "@jupyter-widgets/controls",
            "_view_module_version": "1.5.0",
            "_view_name": "ProgressView",
            "bar_style": "success",
            "description": "",
            "description_tooltip": null,
            "layout": "IPY_MODEL_e61d35ab0a2e448d96769bf8458fe88d",
            "max": 531,
            "min": 0,
            "orientation": "horizontal",
            "style": "IPY_MODEL_d4eeca66169e42ed885ab649288b0c27",
            "value": 531
          }
        },
        "6fb30d21224741b2bdc02b3e0b7af75e": {
          "model_module": "@jupyter-widgets/controls",
          "model_name": "HTMLModel",
          "model_module_version": "1.5.0",
          "state": {
            "_dom_classes": [],
            "_model_module": "@jupyter-widgets/controls",
            "_model_module_version": "1.5.0",
            "_model_name": "HTMLModel",
            "_view_count": null,
            "_view_module": "@jupyter-widgets/controls",
            "_view_module_version": "1.5.0",
            "_view_name": "HTMLView",
            "description": "",
            "description_tooltip": null,
            "layout": "IPY_MODEL_b846fa947f9340ce9d1178dee7b7c519",
            "placeholder": "​",
            "style": "IPY_MODEL_69aa2359cd914f9f81175d18fddf96c4",
            "value": " 531/531 [00:00&lt;00:00, 19.0kB/s]"
          }
        },
        "01feff496400400f9478008892a493d4": {
          "model_module": "@jupyter-widgets/base",
          "model_name": "LayoutModel",
          "model_module_version": "1.2.0",
          "state": {
            "_model_module": "@jupyter-widgets/base",
            "_model_module_version": "1.2.0",
            "_model_name": "LayoutModel",
            "_view_count": null,
            "_view_module": "@jupyter-widgets/base",
            "_view_module_version": "1.2.0",
            "_view_name": "LayoutView",
            "align_content": null,
            "align_items": null,
            "align_self": null,
            "border": null,
            "bottom": null,
            "display": null,
            "flex": null,
            "flex_flow": null,
            "grid_area": null,
            "grid_auto_columns": null,
            "grid_auto_flow": null,
            "grid_auto_rows": null,
            "grid_column": null,
            "grid_gap": null,
            "grid_row": null,
            "grid_template_areas": null,
            "grid_template_columns": null,
            "grid_template_rows": null,
            "height": null,
            "justify_content": null,
            "justify_items": null,
            "left": null,
            "margin": null,
            "max_height": null,
            "max_width": null,
            "min_height": null,
            "min_width": null,
            "object_fit": null,
            "object_position": null,
            "order": null,
            "overflow": null,
            "overflow_x": null,
            "overflow_y": null,
            "padding": null,
            "right": null,
            "top": null,
            "visibility": null,
            "width": null
          }
        },
        "01e8ae898d674d579a8b5f4de4a055c7": {
          "model_module": "@jupyter-widgets/base",
          "model_name": "LayoutModel",
          "model_module_version": "1.2.0",
          "state": {
            "_model_module": "@jupyter-widgets/base",
            "_model_module_version": "1.2.0",
            "_model_name": "LayoutModel",
            "_view_count": null,
            "_view_module": "@jupyter-widgets/base",
            "_view_module_version": "1.2.0",
            "_view_name": "LayoutView",
            "align_content": null,
            "align_items": null,
            "align_self": null,
            "border": null,
            "bottom": null,
            "display": null,
            "flex": null,
            "flex_flow": null,
            "grid_area": null,
            "grid_auto_columns": null,
            "grid_auto_flow": null,
            "grid_auto_rows": null,
            "grid_column": null,
            "grid_gap": null,
            "grid_row": null,
            "grid_template_areas": null,
            "grid_template_columns": null,
            "grid_template_rows": null,
            "height": null,
            "justify_content": null,
            "justify_items": null,
            "left": null,
            "margin": null,
            "max_height": null,
            "max_width": null,
            "min_height": null,
            "min_width": null,
            "object_fit": null,
            "object_position": null,
            "order": null,
            "overflow": null,
            "overflow_x": null,
            "overflow_y": null,
            "padding": null,
            "right": null,
            "top": null,
            "visibility": null,
            "width": null
          }
        },
        "73f64f5d0d4f4f1797d5ee7548871f0e": {
          "model_module": "@jupyter-widgets/controls",
          "model_name": "DescriptionStyleModel",
          "model_module_version": "1.5.0",
          "state": {
            "_model_module": "@jupyter-widgets/controls",
            "_model_module_version": "1.5.0",
            "_model_name": "DescriptionStyleModel",
            "_view_count": null,
            "_view_module": "@jupyter-widgets/base",
            "_view_module_version": "1.2.0",
            "_view_name": "StyleView",
            "description_width": ""
          }
        },
        "e61d35ab0a2e448d96769bf8458fe88d": {
          "model_module": "@jupyter-widgets/base",
          "model_name": "LayoutModel",
          "model_module_version": "1.2.0",
          "state": {
            "_model_module": "@jupyter-widgets/base",
            "_model_module_version": "1.2.0",
            "_model_name": "LayoutModel",
            "_view_count": null,
            "_view_module": "@jupyter-widgets/base",
            "_view_module_version": "1.2.0",
            "_view_name": "LayoutView",
            "align_content": null,
            "align_items": null,
            "align_self": null,
            "border": null,
            "bottom": null,
            "display": null,
            "flex": null,
            "flex_flow": null,
            "grid_area": null,
            "grid_auto_columns": null,
            "grid_auto_flow": null,
            "grid_auto_rows": null,
            "grid_column": null,
            "grid_gap": null,
            "grid_row": null,
            "grid_template_areas": null,
            "grid_template_columns": null,
            "grid_template_rows": null,
            "height": null,
            "justify_content": null,
            "justify_items": null,
            "left": null,
            "margin": null,
            "max_height": null,
            "max_width": null,
            "min_height": null,
            "min_width": null,
            "object_fit": null,
            "object_position": null,
            "order": null,
            "overflow": null,
            "overflow_x": null,
            "overflow_y": null,
            "padding": null,
            "right": null,
            "top": null,
            "visibility": null,
            "width": null
          }
        },
        "d4eeca66169e42ed885ab649288b0c27": {
          "model_module": "@jupyter-widgets/controls",
          "model_name": "ProgressStyleModel",
          "model_module_version": "1.5.0",
          "state": {
            "_model_module": "@jupyter-widgets/controls",
            "_model_module_version": "1.5.0",
            "_model_name": "ProgressStyleModel",
            "_view_count": null,
            "_view_module": "@jupyter-widgets/base",
            "_view_module_version": "1.2.0",
            "_view_name": "StyleView",
            "bar_color": null,
            "description_width": ""
          }
        },
        "b846fa947f9340ce9d1178dee7b7c519": {
          "model_module": "@jupyter-widgets/base",
          "model_name": "LayoutModel",
          "model_module_version": "1.2.0",
          "state": {
            "_model_module": "@jupyter-widgets/base",
            "_model_module_version": "1.2.0",
            "_model_name": "LayoutModel",
            "_view_count": null,
            "_view_module": "@jupyter-widgets/base",
            "_view_module_version": "1.2.0",
            "_view_name": "LayoutView",
            "align_content": null,
            "align_items": null,
            "align_self": null,
            "border": null,
            "bottom": null,
            "display": null,
            "flex": null,
            "flex_flow": null,
            "grid_area": null,
            "grid_auto_columns": null,
            "grid_auto_flow": null,
            "grid_auto_rows": null,
            "grid_column": null,
            "grid_gap": null,
            "grid_row": null,
            "grid_template_areas": null,
            "grid_template_columns": null,
            "grid_template_rows": null,
            "height": null,
            "justify_content": null,
            "justify_items": null,
            "left": null,
            "margin": null,
            "max_height": null,
            "max_width": null,
            "min_height": null,
            "min_width": null,
            "object_fit": null,
            "object_position": null,
            "order": null,
            "overflow": null,
            "overflow_x": null,
            "overflow_y": null,
            "padding": null,
            "right": null,
            "top": null,
            "visibility": null,
            "width": null
          }
        },
        "69aa2359cd914f9f81175d18fddf96c4": {
          "model_module": "@jupyter-widgets/controls",
          "model_name": "DescriptionStyleModel",
          "model_module_version": "1.5.0",
          "state": {
            "_model_module": "@jupyter-widgets/controls",
            "_model_module_version": "1.5.0",
            "_model_name": "DescriptionStyleModel",
            "_view_count": null,
            "_view_module": "@jupyter-widgets/base",
            "_view_module_version": "1.2.0",
            "_view_name": "StyleView",
            "description_width": ""
          }
        },
        "2194a671c1c44943bc3073daf5b1c167": {
          "model_module": "@jupyter-widgets/controls",
          "model_name": "HBoxModel",
          "model_module_version": "1.5.0",
          "state": {
            "_dom_classes": [],
            "_model_module": "@jupyter-widgets/controls",
            "_model_module_version": "1.5.0",
            "_model_name": "HBoxModel",
            "_view_count": null,
            "_view_module": "@jupyter-widgets/controls",
            "_view_module_version": "1.5.0",
            "_view_name": "HBoxView",
            "box_style": "",
            "children": [
              "IPY_MODEL_eafb95f3e1f445f69e04f897a402aa89",
              "IPY_MODEL_13dd549dbe024bd7ac0e8ef42f8dce0a",
              "IPY_MODEL_bf1a2b57f6a84f48b0b189fb74383728"
            ],
            "layout": "IPY_MODEL_1eaa05cbb8624e448da8a9d670c875cc"
          }
        },
        "eafb95f3e1f445f69e04f897a402aa89": {
          "model_module": "@jupyter-widgets/controls",
          "model_name": "HTMLModel",
          "model_module_version": "1.5.0",
          "state": {
            "_dom_classes": [],
            "_model_module": "@jupyter-widgets/controls",
            "_model_module_version": "1.5.0",
            "_model_name": "HTMLModel",
            "_view_count": null,
            "_view_module": "@jupyter-widgets/controls",
            "_view_module_version": "1.5.0",
            "_view_name": "HTMLView",
            "description": "",
            "description_tooltip": null,
            "layout": "IPY_MODEL_c208fe8675134769b4528cc2a524d1b2",
            "placeholder": "​",
            "style": "IPY_MODEL_3936796599e441499370f8d2abbcf14c",
            "value": "vocab.txt: 100%"
          }
        },
        "13dd549dbe024bd7ac0e8ef42f8dce0a": {
          "model_module": "@jupyter-widgets/controls",
          "model_name": "FloatProgressModel",
          "model_module_version": "1.5.0",
          "state": {
            "_dom_classes": [],
            "_model_module": "@jupyter-widgets/controls",
            "_model_module_version": "1.5.0",
            "_model_name": "FloatProgressModel",
            "_view_count": null,
            "_view_module": "@jupyter-widgets/controls",
            "_view_module_version": "1.5.0",
            "_view_name": "ProgressView",
            "bar_style": "success",
            "description": "",
            "description_tooltip": null,
            "layout": "IPY_MODEL_0780e6daa1404f3ead22fd4368b8f890",
            "max": 995526,
            "min": 0,
            "orientation": "horizontal",
            "style": "IPY_MODEL_c8b9450180f3477b962d27863102939f",
            "value": 995526
          }
        },
        "bf1a2b57f6a84f48b0b189fb74383728": {
          "model_module": "@jupyter-widgets/controls",
          "model_name": "HTMLModel",
          "model_module_version": "1.5.0",
          "state": {
            "_dom_classes": [],
            "_model_module": "@jupyter-widgets/controls",
            "_model_module_version": "1.5.0",
            "_model_name": "HTMLModel",
            "_view_count": null,
            "_view_module": "@jupyter-widgets/controls",
            "_view_module_version": "1.5.0",
            "_view_name": "HTMLView",
            "description": "",
            "description_tooltip": null,
            "layout": "IPY_MODEL_3b1611f331cb4081ad5d5d6f5cd46dad",
            "placeholder": "​",
            "style": "IPY_MODEL_fe5e166d7eea480fb53b59f2f5e74269",
            "value": " 996k/996k [00:00&lt;00:00, 3.03MB/s]"
          }
        },
        "1eaa05cbb8624e448da8a9d670c875cc": {
          "model_module": "@jupyter-widgets/base",
          "model_name": "LayoutModel",
          "model_module_version": "1.2.0",
          "state": {
            "_model_module": "@jupyter-widgets/base",
            "_model_module_version": "1.2.0",
            "_model_name": "LayoutModel",
            "_view_count": null,
            "_view_module": "@jupyter-widgets/base",
            "_view_module_version": "1.2.0",
            "_view_name": "LayoutView",
            "align_content": null,
            "align_items": null,
            "align_self": null,
            "border": null,
            "bottom": null,
            "display": null,
            "flex": null,
            "flex_flow": null,
            "grid_area": null,
            "grid_auto_columns": null,
            "grid_auto_flow": null,
            "grid_auto_rows": null,
            "grid_column": null,
            "grid_gap": null,
            "grid_row": null,
            "grid_template_areas": null,
            "grid_template_columns": null,
            "grid_template_rows": null,
            "height": null,
            "justify_content": null,
            "justify_items": null,
            "left": null,
            "margin": null,
            "max_height": null,
            "max_width": null,
            "min_height": null,
            "min_width": null,
            "object_fit": null,
            "object_position": null,
            "order": null,
            "overflow": null,
            "overflow_x": null,
            "overflow_y": null,
            "padding": null,
            "right": null,
            "top": null,
            "visibility": null,
            "width": null
          }
        },
        "c208fe8675134769b4528cc2a524d1b2": {
          "model_module": "@jupyter-widgets/base",
          "model_name": "LayoutModel",
          "model_module_version": "1.2.0",
          "state": {
            "_model_module": "@jupyter-widgets/base",
            "_model_module_version": "1.2.0",
            "_model_name": "LayoutModel",
            "_view_count": null,
            "_view_module": "@jupyter-widgets/base",
            "_view_module_version": "1.2.0",
            "_view_name": "LayoutView",
            "align_content": null,
            "align_items": null,
            "align_self": null,
            "border": null,
            "bottom": null,
            "display": null,
            "flex": null,
            "flex_flow": null,
            "grid_area": null,
            "grid_auto_columns": null,
            "grid_auto_flow": null,
            "grid_auto_rows": null,
            "grid_column": null,
            "grid_gap": null,
            "grid_row": null,
            "grid_template_areas": null,
            "grid_template_columns": null,
            "grid_template_rows": null,
            "height": null,
            "justify_content": null,
            "justify_items": null,
            "left": null,
            "margin": null,
            "max_height": null,
            "max_width": null,
            "min_height": null,
            "min_width": null,
            "object_fit": null,
            "object_position": null,
            "order": null,
            "overflow": null,
            "overflow_x": null,
            "overflow_y": null,
            "padding": null,
            "right": null,
            "top": null,
            "visibility": null,
            "width": null
          }
        },
        "3936796599e441499370f8d2abbcf14c": {
          "model_module": "@jupyter-widgets/controls",
          "model_name": "DescriptionStyleModel",
          "model_module_version": "1.5.0",
          "state": {
            "_model_module": "@jupyter-widgets/controls",
            "_model_module_version": "1.5.0",
            "_model_name": "DescriptionStyleModel",
            "_view_count": null,
            "_view_module": "@jupyter-widgets/base",
            "_view_module_version": "1.2.0",
            "_view_name": "StyleView",
            "description_width": ""
          }
        },
        "0780e6daa1404f3ead22fd4368b8f890": {
          "model_module": "@jupyter-widgets/base",
          "model_name": "LayoutModel",
          "model_module_version": "1.2.0",
          "state": {
            "_model_module": "@jupyter-widgets/base",
            "_model_module_version": "1.2.0",
            "_model_name": "LayoutModel",
            "_view_count": null,
            "_view_module": "@jupyter-widgets/base",
            "_view_module_version": "1.2.0",
            "_view_name": "LayoutView",
            "align_content": null,
            "align_items": null,
            "align_self": null,
            "border": null,
            "bottom": null,
            "display": null,
            "flex": null,
            "flex_flow": null,
            "grid_area": null,
            "grid_auto_columns": null,
            "grid_auto_flow": null,
            "grid_auto_rows": null,
            "grid_column": null,
            "grid_gap": null,
            "grid_row": null,
            "grid_template_areas": null,
            "grid_template_columns": null,
            "grid_template_rows": null,
            "height": null,
            "justify_content": null,
            "justify_items": null,
            "left": null,
            "margin": null,
            "max_height": null,
            "max_width": null,
            "min_height": null,
            "min_width": null,
            "object_fit": null,
            "object_position": null,
            "order": null,
            "overflow": null,
            "overflow_x": null,
            "overflow_y": null,
            "padding": null,
            "right": null,
            "top": null,
            "visibility": null,
            "width": null
          }
        },
        "c8b9450180f3477b962d27863102939f": {
          "model_module": "@jupyter-widgets/controls",
          "model_name": "ProgressStyleModel",
          "model_module_version": "1.5.0",
          "state": {
            "_model_module": "@jupyter-widgets/controls",
            "_model_module_version": "1.5.0",
            "_model_name": "ProgressStyleModel",
            "_view_count": null,
            "_view_module": "@jupyter-widgets/base",
            "_view_module_version": "1.2.0",
            "_view_name": "StyleView",
            "bar_color": null,
            "description_width": ""
          }
        },
        "3b1611f331cb4081ad5d5d6f5cd46dad": {
          "model_module": "@jupyter-widgets/base",
          "model_name": "LayoutModel",
          "model_module_version": "1.2.0",
          "state": {
            "_model_module": "@jupyter-widgets/base",
            "_model_module_version": "1.2.0",
            "_model_name": "LayoutModel",
            "_view_count": null,
            "_view_module": "@jupyter-widgets/base",
            "_view_module_version": "1.2.0",
            "_view_name": "LayoutView",
            "align_content": null,
            "align_items": null,
            "align_self": null,
            "border": null,
            "bottom": null,
            "display": null,
            "flex": null,
            "flex_flow": null,
            "grid_area": null,
            "grid_auto_columns": null,
            "grid_auto_flow": null,
            "grid_auto_rows": null,
            "grid_column": null,
            "grid_gap": null,
            "grid_row": null,
            "grid_template_areas": null,
            "grid_template_columns": null,
            "grid_template_rows": null,
            "height": null,
            "justify_content": null,
            "justify_items": null,
            "left": null,
            "margin": null,
            "max_height": null,
            "max_width": null,
            "min_height": null,
            "min_width": null,
            "object_fit": null,
            "object_position": null,
            "order": null,
            "overflow": null,
            "overflow_x": null,
            "overflow_y": null,
            "padding": null,
            "right": null,
            "top": null,
            "visibility": null,
            "width": null
          }
        },
        "fe5e166d7eea480fb53b59f2f5e74269": {
          "model_module": "@jupyter-widgets/controls",
          "model_name": "DescriptionStyleModel",
          "model_module_version": "1.5.0",
          "state": {
            "_model_module": "@jupyter-widgets/controls",
            "_model_module_version": "1.5.0",
            "_model_name": "DescriptionStyleModel",
            "_view_count": null,
            "_view_module": "@jupyter-widgets/base",
            "_view_module_version": "1.2.0",
            "_view_name": "StyleView",
            "description_width": ""
          }
        },
        "51907ad41b6f40439fdefaa3545fd975": {
          "model_module": "@jupyter-widgets/controls",
          "model_name": "HBoxModel",
          "model_module_version": "1.5.0",
          "state": {
            "_dom_classes": [],
            "_model_module": "@jupyter-widgets/controls",
            "_model_module_version": "1.5.0",
            "_model_name": "HBoxModel",
            "_view_count": null,
            "_view_module": "@jupyter-widgets/controls",
            "_view_module_version": "1.5.0",
            "_view_name": "HBoxView",
            "box_style": "",
            "children": [
              "IPY_MODEL_a65dd494a2784a2b9633ff7bf3f0b6e7",
              "IPY_MODEL_aacf06ada01b4b3fbaaacad0e0b3ba75",
              "IPY_MODEL_1cb0d5ea1a2747ab989c24711c3bfcc3"
            ],
            "layout": "IPY_MODEL_b9c4f5d5d9ef40f193245d3626aa4d7b"
          }
        },
        "a65dd494a2784a2b9633ff7bf3f0b6e7": {
          "model_module": "@jupyter-widgets/controls",
          "model_name": "HTMLModel",
          "model_module_version": "1.5.0",
          "state": {
            "_dom_classes": [],
            "_model_module": "@jupyter-widgets/controls",
            "_model_module_version": "1.5.0",
            "_model_name": "HTMLModel",
            "_view_count": null,
            "_view_module": "@jupyter-widgets/controls",
            "_view_module_version": "1.5.0",
            "_view_name": "HTMLView",
            "description": "",
            "description_tooltip": null,
            "layout": "IPY_MODEL_1d981bb5e142476fb3f8ef5c49257eb1",
            "placeholder": "​",
            "style": "IPY_MODEL_0f5a7242cc3b490ca77e9463b973fa73",
            "value": "tokenizer.json: 100%"
          }
        },
        "aacf06ada01b4b3fbaaacad0e0b3ba75": {
          "model_module": "@jupyter-widgets/controls",
          "model_name": "FloatProgressModel",
          "model_module_version": "1.5.0",
          "state": {
            "_dom_classes": [],
            "_model_module": "@jupyter-widgets/controls",
            "_model_module_version": "1.5.0",
            "_model_name": "FloatProgressModel",
            "_view_count": null,
            "_view_module": "@jupyter-widgets/controls",
            "_view_module_version": "1.5.0",
            "_view_name": "ProgressView",
            "bar_style": "success",
            "description": "",
            "description_tooltip": null,
            "layout": "IPY_MODEL_84863304c42c44a19b0f8ac5d248fdf9",
            "max": 1961847,
            "min": 0,
            "orientation": "horizontal",
            "style": "IPY_MODEL_5ef9a0ea5c54468ab913dfd9f92663f5",
            "value": 1961847
          }
        },
        "1cb0d5ea1a2747ab989c24711c3bfcc3": {
          "model_module": "@jupyter-widgets/controls",
          "model_name": "HTMLModel",
          "model_module_version": "1.5.0",
          "state": {
            "_dom_classes": [],
            "_model_module": "@jupyter-widgets/controls",
            "_model_module_version": "1.5.0",
            "_model_name": "HTMLModel",
            "_view_count": null,
            "_view_module": "@jupyter-widgets/controls",
            "_view_module_version": "1.5.0",
            "_view_name": "HTMLView",
            "description": "",
            "description_tooltip": null,
            "layout": "IPY_MODEL_8be62c6b9a604466bcd5eb1a047a8f50",
            "placeholder": "​",
            "style": "IPY_MODEL_3957c2d8153641a4a077ba15707d803b",
            "value": " 1.96M/1.96M [00:00&lt;00:00, 4.75MB/s]"
          }
        },
        "b9c4f5d5d9ef40f193245d3626aa4d7b": {
          "model_module": "@jupyter-widgets/base",
          "model_name": "LayoutModel",
          "model_module_version": "1.2.0",
          "state": {
            "_model_module": "@jupyter-widgets/base",
            "_model_module_version": "1.2.0",
            "_model_name": "LayoutModel",
            "_view_count": null,
            "_view_module": "@jupyter-widgets/base",
            "_view_module_version": "1.2.0",
            "_view_name": "LayoutView",
            "align_content": null,
            "align_items": null,
            "align_self": null,
            "border": null,
            "bottom": null,
            "display": null,
            "flex": null,
            "flex_flow": null,
            "grid_area": null,
            "grid_auto_columns": null,
            "grid_auto_flow": null,
            "grid_auto_rows": null,
            "grid_column": null,
            "grid_gap": null,
            "grid_row": null,
            "grid_template_areas": null,
            "grid_template_columns": null,
            "grid_template_rows": null,
            "height": null,
            "justify_content": null,
            "justify_items": null,
            "left": null,
            "margin": null,
            "max_height": null,
            "max_width": null,
            "min_height": null,
            "min_width": null,
            "object_fit": null,
            "object_position": null,
            "order": null,
            "overflow": null,
            "overflow_x": null,
            "overflow_y": null,
            "padding": null,
            "right": null,
            "top": null,
            "visibility": null,
            "width": null
          }
        },
        "1d981bb5e142476fb3f8ef5c49257eb1": {
          "model_module": "@jupyter-widgets/base",
          "model_name": "LayoutModel",
          "model_module_version": "1.2.0",
          "state": {
            "_model_module": "@jupyter-widgets/base",
            "_model_module_version": "1.2.0",
            "_model_name": "LayoutModel",
            "_view_count": null,
            "_view_module": "@jupyter-widgets/base",
            "_view_module_version": "1.2.0",
            "_view_name": "LayoutView",
            "align_content": null,
            "align_items": null,
            "align_self": null,
            "border": null,
            "bottom": null,
            "display": null,
            "flex": null,
            "flex_flow": null,
            "grid_area": null,
            "grid_auto_columns": null,
            "grid_auto_flow": null,
            "grid_auto_rows": null,
            "grid_column": null,
            "grid_gap": null,
            "grid_row": null,
            "grid_template_areas": null,
            "grid_template_columns": null,
            "grid_template_rows": null,
            "height": null,
            "justify_content": null,
            "justify_items": null,
            "left": null,
            "margin": null,
            "max_height": null,
            "max_width": null,
            "min_height": null,
            "min_width": null,
            "object_fit": null,
            "object_position": null,
            "order": null,
            "overflow": null,
            "overflow_x": null,
            "overflow_y": null,
            "padding": null,
            "right": null,
            "top": null,
            "visibility": null,
            "width": null
          }
        },
        "0f5a7242cc3b490ca77e9463b973fa73": {
          "model_module": "@jupyter-widgets/controls",
          "model_name": "DescriptionStyleModel",
          "model_module_version": "1.5.0",
          "state": {
            "_model_module": "@jupyter-widgets/controls",
            "_model_module_version": "1.5.0",
            "_model_name": "DescriptionStyleModel",
            "_view_count": null,
            "_view_module": "@jupyter-widgets/base",
            "_view_module_version": "1.2.0",
            "_view_name": "StyleView",
            "description_width": ""
          }
        },
        "84863304c42c44a19b0f8ac5d248fdf9": {
          "model_module": "@jupyter-widgets/base",
          "model_name": "LayoutModel",
          "model_module_version": "1.2.0",
          "state": {
            "_model_module": "@jupyter-widgets/base",
            "_model_module_version": "1.2.0",
            "_model_name": "LayoutModel",
            "_view_count": null,
            "_view_module": "@jupyter-widgets/base",
            "_view_module_version": "1.2.0",
            "_view_name": "LayoutView",
            "align_content": null,
            "align_items": null,
            "align_self": null,
            "border": null,
            "bottom": null,
            "display": null,
            "flex": null,
            "flex_flow": null,
            "grid_area": null,
            "grid_auto_columns": null,
            "grid_auto_flow": null,
            "grid_auto_rows": null,
            "grid_column": null,
            "grid_gap": null,
            "grid_row": null,
            "grid_template_areas": null,
            "grid_template_columns": null,
            "grid_template_rows": null,
            "height": null,
            "justify_content": null,
            "justify_items": null,
            "left": null,
            "margin": null,
            "max_height": null,
            "max_width": null,
            "min_height": null,
            "min_width": null,
            "object_fit": null,
            "object_position": null,
            "order": null,
            "overflow": null,
            "overflow_x": null,
            "overflow_y": null,
            "padding": null,
            "right": null,
            "top": null,
            "visibility": null,
            "width": null
          }
        },
        "5ef9a0ea5c54468ab913dfd9f92663f5": {
          "model_module": "@jupyter-widgets/controls",
          "model_name": "ProgressStyleModel",
          "model_module_version": "1.5.0",
          "state": {
            "_model_module": "@jupyter-widgets/controls",
            "_model_module_version": "1.5.0",
            "_model_name": "ProgressStyleModel",
            "_view_count": null,
            "_view_module": "@jupyter-widgets/base",
            "_view_module_version": "1.2.0",
            "_view_name": "StyleView",
            "bar_color": null,
            "description_width": ""
          }
        },
        "8be62c6b9a604466bcd5eb1a047a8f50": {
          "model_module": "@jupyter-widgets/base",
          "model_name": "LayoutModel",
          "model_module_version": "1.2.0",
          "state": {
            "_model_module": "@jupyter-widgets/base",
            "_model_module_version": "1.2.0",
            "_model_name": "LayoutModel",
            "_view_count": null,
            "_view_module": "@jupyter-widgets/base",
            "_view_module_version": "1.2.0",
            "_view_name": "LayoutView",
            "align_content": null,
            "align_items": null,
            "align_self": null,
            "border": null,
            "bottom": null,
            "display": null,
            "flex": null,
            "flex_flow": null,
            "grid_area": null,
            "grid_auto_columns": null,
            "grid_auto_flow": null,
            "grid_auto_rows": null,
            "grid_column": null,
            "grid_gap": null,
            "grid_row": null,
            "grid_template_areas": null,
            "grid_template_columns": null,
            "grid_template_rows": null,
            "height": null,
            "justify_content": null,
            "justify_items": null,
            "left": null,
            "margin": null,
            "max_height": null,
            "max_width": null,
            "min_height": null,
            "min_width": null,
            "object_fit": null,
            "object_position": null,
            "order": null,
            "overflow": null,
            "overflow_x": null,
            "overflow_y": null,
            "padding": null,
            "right": null,
            "top": null,
            "visibility": null,
            "width": null
          }
        },
        "3957c2d8153641a4a077ba15707d803b": {
          "model_module": "@jupyter-widgets/controls",
          "model_name": "DescriptionStyleModel",
          "model_module_version": "1.5.0",
          "state": {
            "_model_module": "@jupyter-widgets/controls",
            "_model_module_version": "1.5.0",
            "_model_name": "DescriptionStyleModel",
            "_view_count": null,
            "_view_module": "@jupyter-widgets/base",
            "_view_module_version": "1.2.0",
            "_view_name": "StyleView",
            "description_width": ""
          }
        },
        "85326994a3d24b0ebecec2971ea5ff25": {
          "model_module": "@jupyter-widgets/controls",
          "model_name": "HBoxModel",
          "model_module_version": "1.5.0",
          "state": {
            "_dom_classes": [],
            "_model_module": "@jupyter-widgets/controls",
            "_model_module_version": "1.5.0",
            "_model_name": "HBoxModel",
            "_view_count": null,
            "_view_module": "@jupyter-widgets/controls",
            "_view_module_version": "1.5.0",
            "_view_name": "HBoxView",
            "box_style": "",
            "children": [
              "IPY_MODEL_2fb13b9c3dc74958bce367423b8e3dac",
              "IPY_MODEL_30e2eec7cc9e43beaad607b59d4f474e",
              "IPY_MODEL_28056764335740fd9d0e01ff02a9c230"
            ],
            "layout": "IPY_MODEL_886f57307a7a4d17adb6191d35f22225"
          }
        },
        "2fb13b9c3dc74958bce367423b8e3dac": {
          "model_module": "@jupyter-widgets/controls",
          "model_name": "HTMLModel",
          "model_module_version": "1.5.0",
          "state": {
            "_dom_classes": [],
            "_model_module": "@jupyter-widgets/controls",
            "_model_module_version": "1.5.0",
            "_model_name": "HTMLModel",
            "_view_count": null,
            "_view_module": "@jupyter-widgets/controls",
            "_view_module_version": "1.5.0",
            "_view_name": "HTMLView",
            "description": "",
            "description_tooltip": null,
            "layout": "IPY_MODEL_c69051195db14a50b57d31cfd793fa9b",
            "placeholder": "​",
            "style": "IPY_MODEL_e59a76ebe8ca48269d8d1687793e9493",
            "value": "special_tokens_map.json: 100%"
          }
        },
        "30e2eec7cc9e43beaad607b59d4f474e": {
          "model_module": "@jupyter-widgets/controls",
          "model_name": "FloatProgressModel",
          "model_module_version": "1.5.0",
          "state": {
            "_dom_classes": [],
            "_model_module": "@jupyter-widgets/controls",
            "_model_module_version": "1.5.0",
            "_model_name": "FloatProgressModel",
            "_view_count": null,
            "_view_module": "@jupyter-widgets/controls",
            "_view_module_version": "1.5.0",
            "_view_name": "ProgressView",
            "bar_style": "success",
            "description": "",
            "description_tooltip": null,
            "layout": "IPY_MODEL_1afe4e13abc44f2fa3f2fa783b72e94f",
            "max": 112,
            "min": 0,
            "orientation": "horizontal",
            "style": "IPY_MODEL_fb88cf81a8e8443292662b5ca96763c6",
            "value": 112
          }
        },
        "28056764335740fd9d0e01ff02a9c230": {
          "model_module": "@jupyter-widgets/controls",
          "model_name": "HTMLModel",
          "model_module_version": "1.5.0",
          "state": {
            "_dom_classes": [],
            "_model_module": "@jupyter-widgets/controls",
            "_model_module_version": "1.5.0",
            "_model_name": "HTMLModel",
            "_view_count": null,
            "_view_module": "@jupyter-widgets/controls",
            "_view_module_version": "1.5.0",
            "_view_name": "HTMLView",
            "description": "",
            "description_tooltip": null,
            "layout": "IPY_MODEL_fa8a0196f8ba434fb35a74abaa201260",
            "placeholder": "​",
            "style": "IPY_MODEL_90d53e5874424d70bc0ddf0d821d099d",
            "value": " 112/112 [00:00&lt;00:00, 3.29kB/s]"
          }
        },
        "886f57307a7a4d17adb6191d35f22225": {
          "model_module": "@jupyter-widgets/base",
          "model_name": "LayoutModel",
          "model_module_version": "1.2.0",
          "state": {
            "_model_module": "@jupyter-widgets/base",
            "_model_module_version": "1.2.0",
            "_model_name": "LayoutModel",
            "_view_count": null,
            "_view_module": "@jupyter-widgets/base",
            "_view_module_version": "1.2.0",
            "_view_name": "LayoutView",
            "align_content": null,
            "align_items": null,
            "align_self": null,
            "border": null,
            "bottom": null,
            "display": null,
            "flex": null,
            "flex_flow": null,
            "grid_area": null,
            "grid_auto_columns": null,
            "grid_auto_flow": null,
            "grid_auto_rows": null,
            "grid_column": null,
            "grid_gap": null,
            "grid_row": null,
            "grid_template_areas": null,
            "grid_template_columns": null,
            "grid_template_rows": null,
            "height": null,
            "justify_content": null,
            "justify_items": null,
            "left": null,
            "margin": null,
            "max_height": null,
            "max_width": null,
            "min_height": null,
            "min_width": null,
            "object_fit": null,
            "object_position": null,
            "order": null,
            "overflow": null,
            "overflow_x": null,
            "overflow_y": null,
            "padding": null,
            "right": null,
            "top": null,
            "visibility": null,
            "width": null
          }
        },
        "c69051195db14a50b57d31cfd793fa9b": {
          "model_module": "@jupyter-widgets/base",
          "model_name": "LayoutModel",
          "model_module_version": "1.2.0",
          "state": {
            "_model_module": "@jupyter-widgets/base",
            "_model_module_version": "1.2.0",
            "_model_name": "LayoutModel",
            "_view_count": null,
            "_view_module": "@jupyter-widgets/base",
            "_view_module_version": "1.2.0",
            "_view_name": "LayoutView",
            "align_content": null,
            "align_items": null,
            "align_self": null,
            "border": null,
            "bottom": null,
            "display": null,
            "flex": null,
            "flex_flow": null,
            "grid_area": null,
            "grid_auto_columns": null,
            "grid_auto_flow": null,
            "grid_auto_rows": null,
            "grid_column": null,
            "grid_gap": null,
            "grid_row": null,
            "grid_template_areas": null,
            "grid_template_columns": null,
            "grid_template_rows": null,
            "height": null,
            "justify_content": null,
            "justify_items": null,
            "left": null,
            "margin": null,
            "max_height": null,
            "max_width": null,
            "min_height": null,
            "min_width": null,
            "object_fit": null,
            "object_position": null,
            "order": null,
            "overflow": null,
            "overflow_x": null,
            "overflow_y": null,
            "padding": null,
            "right": null,
            "top": null,
            "visibility": null,
            "width": null
          }
        },
        "e59a76ebe8ca48269d8d1687793e9493": {
          "model_module": "@jupyter-widgets/controls",
          "model_name": "DescriptionStyleModel",
          "model_module_version": "1.5.0",
          "state": {
            "_model_module": "@jupyter-widgets/controls",
            "_model_module_version": "1.5.0",
            "_model_name": "DescriptionStyleModel",
            "_view_count": null,
            "_view_module": "@jupyter-widgets/base",
            "_view_module_version": "1.2.0",
            "_view_name": "StyleView",
            "description_width": ""
          }
        },
        "1afe4e13abc44f2fa3f2fa783b72e94f": {
          "model_module": "@jupyter-widgets/base",
          "model_name": "LayoutModel",
          "model_module_version": "1.2.0",
          "state": {
            "_model_module": "@jupyter-widgets/base",
            "_model_module_version": "1.2.0",
            "_model_name": "LayoutModel",
            "_view_count": null,
            "_view_module": "@jupyter-widgets/base",
            "_view_module_version": "1.2.0",
            "_view_name": "LayoutView",
            "align_content": null,
            "align_items": null,
            "align_self": null,
            "border": null,
            "bottom": null,
            "display": null,
            "flex": null,
            "flex_flow": null,
            "grid_area": null,
            "grid_auto_columns": null,
            "grid_auto_flow": null,
            "grid_auto_rows": null,
            "grid_column": null,
            "grid_gap": null,
            "grid_row": null,
            "grid_template_areas": null,
            "grid_template_columns": null,
            "grid_template_rows": null,
            "height": null,
            "justify_content": null,
            "justify_items": null,
            "left": null,
            "margin": null,
            "max_height": null,
            "max_width": null,
            "min_height": null,
            "min_width": null,
            "object_fit": null,
            "object_position": null,
            "order": null,
            "overflow": null,
            "overflow_x": null,
            "overflow_y": null,
            "padding": null,
            "right": null,
            "top": null,
            "visibility": null,
            "width": null
          }
        },
        "fb88cf81a8e8443292662b5ca96763c6": {
          "model_module": "@jupyter-widgets/controls",
          "model_name": "ProgressStyleModel",
          "model_module_version": "1.5.0",
          "state": {
            "_model_module": "@jupyter-widgets/controls",
            "_model_module_version": "1.5.0",
            "_model_name": "ProgressStyleModel",
            "_view_count": null,
            "_view_module": "@jupyter-widgets/base",
            "_view_module_version": "1.2.0",
            "_view_name": "StyleView",
            "bar_color": null,
            "description_width": ""
          }
        },
        "fa8a0196f8ba434fb35a74abaa201260": {
          "model_module": "@jupyter-widgets/base",
          "model_name": "LayoutModel",
          "model_module_version": "1.2.0",
          "state": {
            "_model_module": "@jupyter-widgets/base",
            "_model_module_version": "1.2.0",
            "_model_name": "LayoutModel",
            "_view_count": null,
            "_view_module": "@jupyter-widgets/base",
            "_view_module_version": "1.2.0",
            "_view_name": "LayoutView",
            "align_content": null,
            "align_items": null,
            "align_self": null,
            "border": null,
            "bottom": null,
            "display": null,
            "flex": null,
            "flex_flow": null,
            "grid_area": null,
            "grid_auto_columns": null,
            "grid_auto_flow": null,
            "grid_auto_rows": null,
            "grid_column": null,
            "grid_gap": null,
            "grid_row": null,
            "grid_template_areas": null,
            "grid_template_columns": null,
            "grid_template_rows": null,
            "height": null,
            "justify_content": null,
            "justify_items": null,
            "left": null,
            "margin": null,
            "max_height": null,
            "max_width": null,
            "min_height": null,
            "min_width": null,
            "object_fit": null,
            "object_position": null,
            "order": null,
            "overflow": null,
            "overflow_x": null,
            "overflow_y": null,
            "padding": null,
            "right": null,
            "top": null,
            "visibility": null,
            "width": null
          }
        },
        "90d53e5874424d70bc0ddf0d821d099d": {
          "model_module": "@jupyter-widgets/controls",
          "model_name": "DescriptionStyleModel",
          "model_module_version": "1.5.0",
          "state": {
            "_model_module": "@jupyter-widgets/controls",
            "_model_module_version": "1.5.0",
            "_model_name": "DescriptionStyleModel",
            "_view_count": null,
            "_view_module": "@jupyter-widgets/base",
            "_view_module_version": "1.2.0",
            "_view_name": "StyleView",
            "description_width": ""
          }
        },
        "41ea584648e04a4f83355c24ebdad2fb": {
          "model_module": "@jupyter-widgets/controls",
          "model_name": "HBoxModel",
          "model_module_version": "1.5.0",
          "state": {
            "_dom_classes": [],
            "_model_module": "@jupyter-widgets/controls",
            "_model_module_version": "1.5.0",
            "_model_name": "HBoxModel",
            "_view_count": null,
            "_view_module": "@jupyter-widgets/controls",
            "_view_module_version": "1.5.0",
            "_view_name": "HBoxView",
            "box_style": "",
            "children": [
              "IPY_MODEL_8320ab3be1244149af052d70b87e865b",
              "IPY_MODEL_b569799363334e62a88bfb0b727ae0aa",
              "IPY_MODEL_815ee23b6f5542c593036edd3e079bfd"
            ],
            "layout": "IPY_MODEL_31d6ea3092b54731b721cf51615d3709"
          }
        },
        "8320ab3be1244149af052d70b87e865b": {
          "model_module": "@jupyter-widgets/controls",
          "model_name": "HTMLModel",
          "model_module_version": "1.5.0",
          "state": {
            "_dom_classes": [],
            "_model_module": "@jupyter-widgets/controls",
            "_model_module_version": "1.5.0",
            "_model_name": "HTMLModel",
            "_view_count": null,
            "_view_module": "@jupyter-widgets/controls",
            "_view_module_version": "1.5.0",
            "_view_name": "HTMLView",
            "description": "",
            "description_tooltip": null,
            "layout": "IPY_MODEL_7dc72b47250f4146848a7290464916e8",
            "placeholder": "​",
            "style": "IPY_MODEL_a8c4b5f78b6b4c32a8fe96f02c28633f",
            "value": "1_Pooling/config.json: 100%"
          }
        },
        "b569799363334e62a88bfb0b727ae0aa": {
          "model_module": "@jupyter-widgets/controls",
          "model_name": "FloatProgressModel",
          "model_module_version": "1.5.0",
          "state": {
            "_dom_classes": [],
            "_model_module": "@jupyter-widgets/controls",
            "_model_module_version": "1.5.0",
            "_model_name": "FloatProgressModel",
            "_view_count": null,
            "_view_module": "@jupyter-widgets/controls",
            "_view_module_version": "1.5.0",
            "_view_name": "ProgressView",
            "bar_style": "success",
            "description": "",
            "description_tooltip": null,
            "layout": "IPY_MODEL_3228a37a4da0471090fec0519f714ee0",
            "max": 190,
            "min": 0,
            "orientation": "horizontal",
            "style": "IPY_MODEL_88eebdc4c8894e079ac14e1e79109c9e",
            "value": 190
          }
        },
        "815ee23b6f5542c593036edd3e079bfd": {
          "model_module": "@jupyter-widgets/controls",
          "model_name": "HTMLModel",
          "model_module_version": "1.5.0",
          "state": {
            "_dom_classes": [],
            "_model_module": "@jupyter-widgets/controls",
            "_model_module_version": "1.5.0",
            "_model_name": "HTMLModel",
            "_view_count": null,
            "_view_module": "@jupyter-widgets/controls",
            "_view_module_version": "1.5.0",
            "_view_name": "HTMLView",
            "description": "",
            "description_tooltip": null,
            "layout": "IPY_MODEL_6f7d694f69ac440b92a27e00cf856913",
            "placeholder": "​",
            "style": "IPY_MODEL_365bd30747284c5fb989f8f80b17ef6a",
            "value": " 190/190 [00:00&lt;00:00, 6.02kB/s]"
          }
        },
        "31d6ea3092b54731b721cf51615d3709": {
          "model_module": "@jupyter-widgets/base",
          "model_name": "LayoutModel",
          "model_module_version": "1.2.0",
          "state": {
            "_model_module": "@jupyter-widgets/base",
            "_model_module_version": "1.2.0",
            "_model_name": "LayoutModel",
            "_view_count": null,
            "_view_module": "@jupyter-widgets/base",
            "_view_module_version": "1.2.0",
            "_view_name": "LayoutView",
            "align_content": null,
            "align_items": null,
            "align_self": null,
            "border": null,
            "bottom": null,
            "display": null,
            "flex": null,
            "flex_flow": null,
            "grid_area": null,
            "grid_auto_columns": null,
            "grid_auto_flow": null,
            "grid_auto_rows": null,
            "grid_column": null,
            "grid_gap": null,
            "grid_row": null,
            "grid_template_areas": null,
            "grid_template_columns": null,
            "grid_template_rows": null,
            "height": null,
            "justify_content": null,
            "justify_items": null,
            "left": null,
            "margin": null,
            "max_height": null,
            "max_width": null,
            "min_height": null,
            "min_width": null,
            "object_fit": null,
            "object_position": null,
            "order": null,
            "overflow": null,
            "overflow_x": null,
            "overflow_y": null,
            "padding": null,
            "right": null,
            "top": null,
            "visibility": null,
            "width": null
          }
        },
        "7dc72b47250f4146848a7290464916e8": {
          "model_module": "@jupyter-widgets/base",
          "model_name": "LayoutModel",
          "model_module_version": "1.2.0",
          "state": {
            "_model_module": "@jupyter-widgets/base",
            "_model_module_version": "1.2.0",
            "_model_name": "LayoutModel",
            "_view_count": null,
            "_view_module": "@jupyter-widgets/base",
            "_view_module_version": "1.2.0",
            "_view_name": "LayoutView",
            "align_content": null,
            "align_items": null,
            "align_self": null,
            "border": null,
            "bottom": null,
            "display": null,
            "flex": null,
            "flex_flow": null,
            "grid_area": null,
            "grid_auto_columns": null,
            "grid_auto_flow": null,
            "grid_auto_rows": null,
            "grid_column": null,
            "grid_gap": null,
            "grid_row": null,
            "grid_template_areas": null,
            "grid_template_columns": null,
            "grid_template_rows": null,
            "height": null,
            "justify_content": null,
            "justify_items": null,
            "left": null,
            "margin": null,
            "max_height": null,
            "max_width": null,
            "min_height": null,
            "min_width": null,
            "object_fit": null,
            "object_position": null,
            "order": null,
            "overflow": null,
            "overflow_x": null,
            "overflow_y": null,
            "padding": null,
            "right": null,
            "top": null,
            "visibility": null,
            "width": null
          }
        },
        "a8c4b5f78b6b4c32a8fe96f02c28633f": {
          "model_module": "@jupyter-widgets/controls",
          "model_name": "DescriptionStyleModel",
          "model_module_version": "1.5.0",
          "state": {
            "_model_module": "@jupyter-widgets/controls",
            "_model_module_version": "1.5.0",
            "_model_name": "DescriptionStyleModel",
            "_view_count": null,
            "_view_module": "@jupyter-widgets/base",
            "_view_module_version": "1.2.0",
            "_view_name": "StyleView",
            "description_width": ""
          }
        },
        "3228a37a4da0471090fec0519f714ee0": {
          "model_module": "@jupyter-widgets/base",
          "model_name": "LayoutModel",
          "model_module_version": "1.2.0",
          "state": {
            "_model_module": "@jupyter-widgets/base",
            "_model_module_version": "1.2.0",
            "_model_name": "LayoutModel",
            "_view_count": null,
            "_view_module": "@jupyter-widgets/base",
            "_view_module_version": "1.2.0",
            "_view_name": "LayoutView",
            "align_content": null,
            "align_items": null,
            "align_self": null,
            "border": null,
            "bottom": null,
            "display": null,
            "flex": null,
            "flex_flow": null,
            "grid_area": null,
            "grid_auto_columns": null,
            "grid_auto_flow": null,
            "grid_auto_rows": null,
            "grid_column": null,
            "grid_gap": null,
            "grid_row": null,
            "grid_template_areas": null,
            "grid_template_columns": null,
            "grid_template_rows": null,
            "height": null,
            "justify_content": null,
            "justify_items": null,
            "left": null,
            "margin": null,
            "max_height": null,
            "max_width": null,
            "min_height": null,
            "min_width": null,
            "object_fit": null,
            "object_position": null,
            "order": null,
            "overflow": null,
            "overflow_x": null,
            "overflow_y": null,
            "padding": null,
            "right": null,
            "top": null,
            "visibility": null,
            "width": null
          }
        },
        "88eebdc4c8894e079ac14e1e79109c9e": {
          "model_module": "@jupyter-widgets/controls",
          "model_name": "ProgressStyleModel",
          "model_module_version": "1.5.0",
          "state": {
            "_model_module": "@jupyter-widgets/controls",
            "_model_module_version": "1.5.0",
            "_model_name": "ProgressStyleModel",
            "_view_count": null,
            "_view_module": "@jupyter-widgets/base",
            "_view_module_version": "1.2.0",
            "_view_name": "StyleView",
            "bar_color": null,
            "description_width": ""
          }
        },
        "6f7d694f69ac440b92a27e00cf856913": {
          "model_module": "@jupyter-widgets/base",
          "model_name": "LayoutModel",
          "model_module_version": "1.2.0",
          "state": {
            "_model_module": "@jupyter-widgets/base",
            "_model_module_version": "1.2.0",
            "_model_name": "LayoutModel",
            "_view_count": null,
            "_view_module": "@jupyter-widgets/base",
            "_view_module_version": "1.2.0",
            "_view_name": "LayoutView",
            "align_content": null,
            "align_items": null,
            "align_self": null,
            "border": null,
            "bottom": null,
            "display": null,
            "flex": null,
            "flex_flow": null,
            "grid_area": null,
            "grid_auto_columns": null,
            "grid_auto_flow": null,
            "grid_auto_rows": null,
            "grid_column": null,
            "grid_gap": null,
            "grid_row": null,
            "grid_template_areas": null,
            "grid_template_columns": null,
            "grid_template_rows": null,
            "height": null,
            "justify_content": null,
            "justify_items": null,
            "left": null,
            "margin": null,
            "max_height": null,
            "max_width": null,
            "min_height": null,
            "min_width": null,
            "object_fit": null,
            "object_position": null,
            "order": null,
            "overflow": null,
            "overflow_x": null,
            "overflow_y": null,
            "padding": null,
            "right": null,
            "top": null,
            "visibility": null,
            "width": null
          }
        },
        "365bd30747284c5fb989f8f80b17ef6a": {
          "model_module": "@jupyter-widgets/controls",
          "model_name": "DescriptionStyleModel",
          "model_module_version": "1.5.0",
          "state": {
            "_model_module": "@jupyter-widgets/controls",
            "_model_module_version": "1.5.0",
            "_model_name": "DescriptionStyleModel",
            "_view_count": null,
            "_view_module": "@jupyter-widgets/base",
            "_view_module_version": "1.2.0",
            "_view_name": "StyleView",
            "description_width": ""
          }
        },
        "4eccb7e418f249dd82bed62b5c9a89a8": {
          "model_module": "@jupyter-widgets/controls",
          "model_name": "HBoxModel",
          "model_module_version": "1.5.0",
          "state": {
            "_dom_classes": [],
            "_model_module": "@jupyter-widgets/controls",
            "_model_module_version": "1.5.0",
            "_model_name": "HBoxModel",
            "_view_count": null,
            "_view_module": "@jupyter-widgets/controls",
            "_view_module_version": "1.5.0",
            "_view_name": "HBoxView",
            "box_style": "",
            "children": [
              "IPY_MODEL_d0b38aff6d064d4d940132cc929ef3f8",
              "IPY_MODEL_82179969ded8463c8c46edcac591d2e2",
              "IPY_MODEL_5f2557636d224031bb3edd93c33e2f44"
            ],
            "layout": "IPY_MODEL_acc1bbe06a794b7ca5d09a15b087f8ff"
          }
        },
        "d0b38aff6d064d4d940132cc929ef3f8": {
          "model_module": "@jupyter-widgets/controls",
          "model_name": "HTMLModel",
          "model_module_version": "1.5.0",
          "state": {
            "_dom_classes": [],
            "_model_module": "@jupyter-widgets/controls",
            "_model_module_version": "1.5.0",
            "_model_name": "HTMLModel",
            "_view_count": null,
            "_view_module": "@jupyter-widgets/controls",
            "_view_module_version": "1.5.0",
            "_view_name": "HTMLView",
            "description": "",
            "description_tooltip": null,
            "layout": "IPY_MODEL_6b318b4a5c5747c2bdf5e5466842f63c",
            "placeholder": "​",
            "style": "IPY_MODEL_355e9874dc574fb3a80e59dd50d78144",
            "value": "2_Dense/config.json: 100%"
          }
        },
        "82179969ded8463c8c46edcac591d2e2": {
          "model_module": "@jupyter-widgets/controls",
          "model_name": "FloatProgressModel",
          "model_module_version": "1.5.0",
          "state": {
            "_dom_classes": [],
            "_model_module": "@jupyter-widgets/controls",
            "_model_module_version": "1.5.0",
            "_model_name": "FloatProgressModel",
            "_view_count": null,
            "_view_module": "@jupyter-widgets/controls",
            "_view_module_version": "1.5.0",
            "_view_name": "ProgressView",
            "bar_style": "success",
            "description": "",
            "description_tooltip": null,
            "layout": "IPY_MODEL_8d25ab950a18482499a3fd9468052303",
            "max": 114,
            "min": 0,
            "orientation": "horizontal",
            "style": "IPY_MODEL_cae11d23c52b42e2a5603f20bfb91a14",
            "value": 114
          }
        },
        "5f2557636d224031bb3edd93c33e2f44": {
          "model_module": "@jupyter-widgets/controls",
          "model_name": "HTMLModel",
          "model_module_version": "1.5.0",
          "state": {
            "_dom_classes": [],
            "_model_module": "@jupyter-widgets/controls",
            "_model_module_version": "1.5.0",
            "_model_name": "HTMLModel",
            "_view_count": null,
            "_view_module": "@jupyter-widgets/controls",
            "_view_module_version": "1.5.0",
            "_view_name": "HTMLView",
            "description": "",
            "description_tooltip": null,
            "layout": "IPY_MODEL_1fe1175ff18a40a3a6dba4188afbbc9d",
            "placeholder": "​",
            "style": "IPY_MODEL_3f9478b32dae4932afbc6406f1a7ec25",
            "value": " 114/114 [00:00&lt;00:00, 2.44kB/s]"
          }
        },
        "acc1bbe06a794b7ca5d09a15b087f8ff": {
          "model_module": "@jupyter-widgets/base",
          "model_name": "LayoutModel",
          "model_module_version": "1.2.0",
          "state": {
            "_model_module": "@jupyter-widgets/base",
            "_model_module_version": "1.2.0",
            "_model_name": "LayoutModel",
            "_view_count": null,
            "_view_module": "@jupyter-widgets/base",
            "_view_module_version": "1.2.0",
            "_view_name": "LayoutView",
            "align_content": null,
            "align_items": null,
            "align_self": null,
            "border": null,
            "bottom": null,
            "display": null,
            "flex": null,
            "flex_flow": null,
            "grid_area": null,
            "grid_auto_columns": null,
            "grid_auto_flow": null,
            "grid_auto_rows": null,
            "grid_column": null,
            "grid_gap": null,
            "grid_row": null,
            "grid_template_areas": null,
            "grid_template_columns": null,
            "grid_template_rows": null,
            "height": null,
            "justify_content": null,
            "justify_items": null,
            "left": null,
            "margin": null,
            "max_height": null,
            "max_width": null,
            "min_height": null,
            "min_width": null,
            "object_fit": null,
            "object_position": null,
            "order": null,
            "overflow": null,
            "overflow_x": null,
            "overflow_y": null,
            "padding": null,
            "right": null,
            "top": null,
            "visibility": null,
            "width": null
          }
        },
        "6b318b4a5c5747c2bdf5e5466842f63c": {
          "model_module": "@jupyter-widgets/base",
          "model_name": "LayoutModel",
          "model_module_version": "1.2.0",
          "state": {
            "_model_module": "@jupyter-widgets/base",
            "_model_module_version": "1.2.0",
            "_model_name": "LayoutModel",
            "_view_count": null,
            "_view_module": "@jupyter-widgets/base",
            "_view_module_version": "1.2.0",
            "_view_name": "LayoutView",
            "align_content": null,
            "align_items": null,
            "align_self": null,
            "border": null,
            "bottom": null,
            "display": null,
            "flex": null,
            "flex_flow": null,
            "grid_area": null,
            "grid_auto_columns": null,
            "grid_auto_flow": null,
            "grid_auto_rows": null,
            "grid_column": null,
            "grid_gap": null,
            "grid_row": null,
            "grid_template_areas": null,
            "grid_template_columns": null,
            "grid_template_rows": null,
            "height": null,
            "justify_content": null,
            "justify_items": null,
            "left": null,
            "margin": null,
            "max_height": null,
            "max_width": null,
            "min_height": null,
            "min_width": null,
            "object_fit": null,
            "object_position": null,
            "order": null,
            "overflow": null,
            "overflow_x": null,
            "overflow_y": null,
            "padding": null,
            "right": null,
            "top": null,
            "visibility": null,
            "width": null
          }
        },
        "355e9874dc574fb3a80e59dd50d78144": {
          "model_module": "@jupyter-widgets/controls",
          "model_name": "DescriptionStyleModel",
          "model_module_version": "1.5.0",
          "state": {
            "_model_module": "@jupyter-widgets/controls",
            "_model_module_version": "1.5.0",
            "_model_name": "DescriptionStyleModel",
            "_view_count": null,
            "_view_module": "@jupyter-widgets/base",
            "_view_module_version": "1.2.0",
            "_view_name": "StyleView",
            "description_width": ""
          }
        },
        "8d25ab950a18482499a3fd9468052303": {
          "model_module": "@jupyter-widgets/base",
          "model_name": "LayoutModel",
          "model_module_version": "1.2.0",
          "state": {
            "_model_module": "@jupyter-widgets/base",
            "_model_module_version": "1.2.0",
            "_model_name": "LayoutModel",
            "_view_count": null,
            "_view_module": "@jupyter-widgets/base",
            "_view_module_version": "1.2.0",
            "_view_name": "LayoutView",
            "align_content": null,
            "align_items": null,
            "align_self": null,
            "border": null,
            "bottom": null,
            "display": null,
            "flex": null,
            "flex_flow": null,
            "grid_area": null,
            "grid_auto_columns": null,
            "grid_auto_flow": null,
            "grid_auto_rows": null,
            "grid_column": null,
            "grid_gap": null,
            "grid_row": null,
            "grid_template_areas": null,
            "grid_template_columns": null,
            "grid_template_rows": null,
            "height": null,
            "justify_content": null,
            "justify_items": null,
            "left": null,
            "margin": null,
            "max_height": null,
            "max_width": null,
            "min_height": null,
            "min_width": null,
            "object_fit": null,
            "object_position": null,
            "order": null,
            "overflow": null,
            "overflow_x": null,
            "overflow_y": null,
            "padding": null,
            "right": null,
            "top": null,
            "visibility": null,
            "width": null
          }
        },
        "cae11d23c52b42e2a5603f20bfb91a14": {
          "model_module": "@jupyter-widgets/controls",
          "model_name": "ProgressStyleModel",
          "model_module_version": "1.5.0",
          "state": {
            "_model_module": "@jupyter-widgets/controls",
            "_model_module_version": "1.5.0",
            "_model_name": "ProgressStyleModel",
            "_view_count": null,
            "_view_module": "@jupyter-widgets/base",
            "_view_module_version": "1.2.0",
            "_view_name": "StyleView",
            "bar_color": null,
            "description_width": ""
          }
        },
        "1fe1175ff18a40a3a6dba4188afbbc9d": {
          "model_module": "@jupyter-widgets/base",
          "model_name": "LayoutModel",
          "model_module_version": "1.2.0",
          "state": {
            "_model_module": "@jupyter-widgets/base",
            "_model_module_version": "1.2.0",
            "_model_name": "LayoutModel",
            "_view_count": null,
            "_view_module": "@jupyter-widgets/base",
            "_view_module_version": "1.2.0",
            "_view_name": "LayoutView",
            "align_content": null,
            "align_items": null,
            "align_self": null,
            "border": null,
            "bottom": null,
            "display": null,
            "flex": null,
            "flex_flow": null,
            "grid_area": null,
            "grid_auto_columns": null,
            "grid_auto_flow": null,
            "grid_auto_rows": null,
            "grid_column": null,
            "grid_gap": null,
            "grid_row": null,
            "grid_template_areas": null,
            "grid_template_columns": null,
            "grid_template_rows": null,
            "height": null,
            "justify_content": null,
            "justify_items": null,
            "left": null,
            "margin": null,
            "max_height": null,
            "max_width": null,
            "min_height": null,
            "min_width": null,
            "object_fit": null,
            "object_position": null,
            "order": null,
            "overflow": null,
            "overflow_x": null,
            "overflow_y": null,
            "padding": null,
            "right": null,
            "top": null,
            "visibility": null,
            "width": null
          }
        },
        "3f9478b32dae4932afbc6406f1a7ec25": {
          "model_module": "@jupyter-widgets/controls",
          "model_name": "DescriptionStyleModel",
          "model_module_version": "1.5.0",
          "state": {
            "_model_module": "@jupyter-widgets/controls",
            "_model_module_version": "1.5.0",
            "_model_name": "DescriptionStyleModel",
            "_view_count": null,
            "_view_module": "@jupyter-widgets/base",
            "_view_module_version": "1.2.0",
            "_view_name": "StyleView",
            "description_width": ""
          }
        },
        "55f635906f4e463d92d6c4062585a9ae": {
          "model_module": "@jupyter-widgets/controls",
          "model_name": "HBoxModel",
          "model_module_version": "1.5.0",
          "state": {
            "_dom_classes": [],
            "_model_module": "@jupyter-widgets/controls",
            "_model_module_version": "1.5.0",
            "_model_name": "HBoxModel",
            "_view_count": null,
            "_view_module": "@jupyter-widgets/controls",
            "_view_module_version": "1.5.0",
            "_view_name": "HBoxView",
            "box_style": "",
            "children": [
              "IPY_MODEL_dc6b0ec9cbde442d82e9778f634a3dbb",
              "IPY_MODEL_ba8e6b6e2f344d95a7f971570190a74e",
              "IPY_MODEL_3d04507f188e4d8eb039677f1d7d099a"
            ],
            "layout": "IPY_MODEL_319fea9df9214807b153266482e54214"
          }
        },
        "dc6b0ec9cbde442d82e9778f634a3dbb": {
          "model_module": "@jupyter-widgets/controls",
          "model_name": "HTMLModel",
          "model_module_version": "1.5.0",
          "state": {
            "_dom_classes": [],
            "_model_module": "@jupyter-widgets/controls",
            "_model_module_version": "1.5.0",
            "_model_name": "HTMLModel",
            "_view_count": null,
            "_view_module": "@jupyter-widgets/controls",
            "_view_module_version": "1.5.0",
            "_view_name": "HTMLView",
            "description": "",
            "description_tooltip": null,
            "layout": "IPY_MODEL_673a965e5e9a4e14adefeb289d388317",
            "placeholder": "​",
            "style": "IPY_MODEL_7cdf6c9d6a4e4687849975960e9be066",
            "value": "pytorch_model.bin: 100%"
          }
        },
        "ba8e6b6e2f344d95a7f971570190a74e": {
          "model_module": "@jupyter-widgets/controls",
          "model_name": "FloatProgressModel",
          "model_module_version": "1.5.0",
          "state": {
            "_dom_classes": [],
            "_model_module": "@jupyter-widgets/controls",
            "_model_module_version": "1.5.0",
            "_model_name": "FloatProgressModel",
            "_view_count": null,
            "_view_module": "@jupyter-widgets/controls",
            "_view_module_version": "1.5.0",
            "_view_name": "ProgressView",
            "bar_style": "success",
            "description": "",
            "description_tooltip": null,
            "layout": "IPY_MODEL_820dd17a531a46c3aab44b59e2e664f0",
            "max": 1575975,
            "min": 0,
            "orientation": "horizontal",
            "style": "IPY_MODEL_8c14bdb7eda649f68605ce985a1269c7",
            "value": 1575975
          }
        },
        "3d04507f188e4d8eb039677f1d7d099a": {
          "model_module": "@jupyter-widgets/controls",
          "model_name": "HTMLModel",
          "model_module_version": "1.5.0",
          "state": {
            "_dom_classes": [],
            "_model_module": "@jupyter-widgets/controls",
            "_model_module_version": "1.5.0",
            "_model_name": "HTMLModel",
            "_view_count": null,
            "_view_module": "@jupyter-widgets/controls",
            "_view_module_version": "1.5.0",
            "_view_name": "HTMLView",
            "description": "",
            "description_tooltip": null,
            "layout": "IPY_MODEL_655e78e01f8a4246ad6c4e3932bb7b72",
            "placeholder": "​",
            "style": "IPY_MODEL_f142ea9097404bc9b9bd7fecdaeeffdf",
            "value": " 1.58M/1.58M [00:00&lt;00:00, 29.7MB/s]"
          }
        },
        "319fea9df9214807b153266482e54214": {
          "model_module": "@jupyter-widgets/base",
          "model_name": "LayoutModel",
          "model_module_version": "1.2.0",
          "state": {
            "_model_module": "@jupyter-widgets/base",
            "_model_module_version": "1.2.0",
            "_model_name": "LayoutModel",
            "_view_count": null,
            "_view_module": "@jupyter-widgets/base",
            "_view_module_version": "1.2.0",
            "_view_name": "LayoutView",
            "align_content": null,
            "align_items": null,
            "align_self": null,
            "border": null,
            "bottom": null,
            "display": null,
            "flex": null,
            "flex_flow": null,
            "grid_area": null,
            "grid_auto_columns": null,
            "grid_auto_flow": null,
            "grid_auto_rows": null,
            "grid_column": null,
            "grid_gap": null,
            "grid_row": null,
            "grid_template_areas": null,
            "grid_template_columns": null,
            "grid_template_rows": null,
            "height": null,
            "justify_content": null,
            "justify_items": null,
            "left": null,
            "margin": null,
            "max_height": null,
            "max_width": null,
            "min_height": null,
            "min_width": null,
            "object_fit": null,
            "object_position": null,
            "order": null,
            "overflow": null,
            "overflow_x": null,
            "overflow_y": null,
            "padding": null,
            "right": null,
            "top": null,
            "visibility": null,
            "width": null
          }
        },
        "673a965e5e9a4e14adefeb289d388317": {
          "model_module": "@jupyter-widgets/base",
          "model_name": "LayoutModel",
          "model_module_version": "1.2.0",
          "state": {
            "_model_module": "@jupyter-widgets/base",
            "_model_module_version": "1.2.0",
            "_model_name": "LayoutModel",
            "_view_count": null,
            "_view_module": "@jupyter-widgets/base",
            "_view_module_version": "1.2.0",
            "_view_name": "LayoutView",
            "align_content": null,
            "align_items": null,
            "align_self": null,
            "border": null,
            "bottom": null,
            "display": null,
            "flex": null,
            "flex_flow": null,
            "grid_area": null,
            "grid_auto_columns": null,
            "grid_auto_flow": null,
            "grid_auto_rows": null,
            "grid_column": null,
            "grid_gap": null,
            "grid_row": null,
            "grid_template_areas": null,
            "grid_template_columns": null,
            "grid_template_rows": null,
            "height": null,
            "justify_content": null,
            "justify_items": null,
            "left": null,
            "margin": null,
            "max_height": null,
            "max_width": null,
            "min_height": null,
            "min_width": null,
            "object_fit": null,
            "object_position": null,
            "order": null,
            "overflow": null,
            "overflow_x": null,
            "overflow_y": null,
            "padding": null,
            "right": null,
            "top": null,
            "visibility": null,
            "width": null
          }
        },
        "7cdf6c9d6a4e4687849975960e9be066": {
          "model_module": "@jupyter-widgets/controls",
          "model_name": "DescriptionStyleModel",
          "model_module_version": "1.5.0",
          "state": {
            "_model_module": "@jupyter-widgets/controls",
            "_model_module_version": "1.5.0",
            "_model_name": "DescriptionStyleModel",
            "_view_count": null,
            "_view_module": "@jupyter-widgets/base",
            "_view_module_version": "1.2.0",
            "_view_name": "StyleView",
            "description_width": ""
          }
        },
        "820dd17a531a46c3aab44b59e2e664f0": {
          "model_module": "@jupyter-widgets/base",
          "model_name": "LayoutModel",
          "model_module_version": "1.2.0",
          "state": {
            "_model_module": "@jupyter-widgets/base",
            "_model_module_version": "1.2.0",
            "_model_name": "LayoutModel",
            "_view_count": null,
            "_view_module": "@jupyter-widgets/base",
            "_view_module_version": "1.2.0",
            "_view_name": "LayoutView",
            "align_content": null,
            "align_items": null,
            "align_self": null,
            "border": null,
            "bottom": null,
            "display": null,
            "flex": null,
            "flex_flow": null,
            "grid_area": null,
            "grid_auto_columns": null,
            "grid_auto_flow": null,
            "grid_auto_rows": null,
            "grid_column": null,
            "grid_gap": null,
            "grid_row": null,
            "grid_template_areas": null,
            "grid_template_columns": null,
            "grid_template_rows": null,
            "height": null,
            "justify_content": null,
            "justify_items": null,
            "left": null,
            "margin": null,
            "max_height": null,
            "max_width": null,
            "min_height": null,
            "min_width": null,
            "object_fit": null,
            "object_position": null,
            "order": null,
            "overflow": null,
            "overflow_x": null,
            "overflow_y": null,
            "padding": null,
            "right": null,
            "top": null,
            "visibility": null,
            "width": null
          }
        },
        "8c14bdb7eda649f68605ce985a1269c7": {
          "model_module": "@jupyter-widgets/controls",
          "model_name": "ProgressStyleModel",
          "model_module_version": "1.5.0",
          "state": {
            "_model_module": "@jupyter-widgets/controls",
            "_model_module_version": "1.5.0",
            "_model_name": "ProgressStyleModel",
            "_view_count": null,
            "_view_module": "@jupyter-widgets/base",
            "_view_module_version": "1.2.0",
            "_view_name": "StyleView",
            "bar_color": null,
            "description_width": ""
          }
        },
        "655e78e01f8a4246ad6c4e3932bb7b72": {
          "model_module": "@jupyter-widgets/base",
          "model_name": "LayoutModel",
          "model_module_version": "1.2.0",
          "state": {
            "_model_module": "@jupyter-widgets/base",
            "_model_module_version": "1.2.0",
            "_model_name": "LayoutModel",
            "_view_count": null,
            "_view_module": "@jupyter-widgets/base",
            "_view_module_version": "1.2.0",
            "_view_name": "LayoutView",
            "align_content": null,
            "align_items": null,
            "align_self": null,
            "border": null,
            "bottom": null,
            "display": null,
            "flex": null,
            "flex_flow": null,
            "grid_area": null,
            "grid_auto_columns": null,
            "grid_auto_flow": null,
            "grid_auto_rows": null,
            "grid_column": null,
            "grid_gap": null,
            "grid_row": null,
            "grid_template_areas": null,
            "grid_template_columns": null,
            "grid_template_rows": null,
            "height": null,
            "justify_content": null,
            "justify_items": null,
            "left": null,
            "margin": null,
            "max_height": null,
            "max_width": null,
            "min_height": null,
            "min_width": null,
            "object_fit": null,
            "object_position": null,
            "order": null,
            "overflow": null,
            "overflow_x": null,
            "overflow_y": null,
            "padding": null,
            "right": null,
            "top": null,
            "visibility": null,
            "width": null
          }
        },
        "f142ea9097404bc9b9bd7fecdaeeffdf": {
          "model_module": "@jupyter-widgets/controls",
          "model_name": "DescriptionStyleModel",
          "model_module_version": "1.5.0",
          "state": {
            "_model_module": "@jupyter-widgets/controls",
            "_model_module_version": "1.5.0",
            "_model_name": "DescriptionStyleModel",
            "_view_count": null,
            "_view_module": "@jupyter-widgets/base",
            "_view_module_version": "1.2.0",
            "_view_name": "StyleView",
            "description_width": ""
          }
        }
      }
    }
  },
  "cells": [
    {
      "cell_type": "markdown",
      "metadata": {
        "id": "view-in-github",
        "colab_type": "text"
      },
      "source": [
        "<a href=\"https://colab.research.google.com/github/flora0110/sentence_prediction/blob/main/SBERT_KNN.ipynb\" target=\"_parent\"><img src=\"https://colab.research.google.com/assets/colab-badge.svg\" alt=\"Open In Colab\"/></a>"
      ]
    },
    {
      "cell_type": "code",
      "source": [
        "!pip install udicOpenData"
      ],
      "metadata": {
        "colab": {
          "base_uri": "https://localhost:8080/"
        },
        "id": "x1Fe5ju9oL5m",
        "outputId": "93e378c1-6840-410d-c1af-e4316848e818"
      },
      "execution_count": 1,
      "outputs": [
        {
          "output_type": "stream",
          "name": "stdout",
          "text": [
            "Collecting udicOpenData\n",
            "  Downloading udicOpenData-2.4.tar.gz (17.8 MB)\n",
            "\u001b[2K     \u001b[90m━━━━━━━━━━━━━━━━━━━━━━━━━━━━━━━━━━━━━━━━\u001b[0m \u001b[32m17.8/17.8 MB\u001b[0m \u001b[31m4.3 MB/s\u001b[0m eta \u001b[36m0:00:00\u001b[0m\n",
            "\u001b[?25h  Preparing metadata (setup.py) ... \u001b[?25l\u001b[?25hdone\n",
            "Requirement already satisfied: jieba in /usr/local/lib/python3.10/dist-packages (from udicOpenData) (0.42.1)\n",
            "Requirement already satisfied: nltk in /usr/local/lib/python3.10/dist-packages (from udicOpenData) (3.8.1)\n",
            "Requirement already satisfied: numpy in /usr/local/lib/python3.10/dist-packages (from udicOpenData) (1.25.2)\n",
            "Requirement already satisfied: click in /usr/local/lib/python3.10/dist-packages (from nltk->udicOpenData) (8.1.7)\n",
            "Requirement already satisfied: joblib in /usr/local/lib/python3.10/dist-packages (from nltk->udicOpenData) (1.3.2)\n",
            "Requirement already satisfied: regex>=2021.8.3 in /usr/local/lib/python3.10/dist-packages (from nltk->udicOpenData) (2023.12.25)\n",
            "Requirement already satisfied: tqdm in /usr/local/lib/python3.10/dist-packages (from nltk->udicOpenData) (4.66.2)\n",
            "Building wheels for collected packages: udicOpenData\n",
            "  Building wheel for udicOpenData (setup.py) ... \u001b[?25l\u001b[?25hdone\n",
            "  Created wheel for udicOpenData: filename=udicOpenData-2.4-py3-none-any.whl size=18094423 sha256=657683ea9a284670dd6651d729d7057857b7640a6423368d6348a5509fa97900\n",
            "  Stored in directory: /root/.cache/pip/wheels/86/4f/46/2a28bc28485ba1f9d67dead62ac6aba14089a6cf1d5fbad365\n",
            "Successfully built udicOpenData\n",
            "Installing collected packages: udicOpenData\n",
            "Successfully installed udicOpenData-2.4\n"
          ]
        }
      ]
    },
    {
      "cell_type": "code",
      "execution_count": 2,
      "metadata": {
        "colab": {
          "base_uri": "https://localhost:8080/"
        },
        "id": "wAqSrCIklsIJ",
        "outputId": "8a053a76-b04b-4301-f048-6e9e8366a304"
      },
      "outputs": [
        {
          "output_type": "stream",
          "name": "stdout",
          "text": [
            "Mounted at /content/drive\n"
          ]
        }
      ],
      "source": [
        "from google.colab import drive\n",
        "drive.mount('/content/drive')"
      ]
    },
    {
      "cell_type": "code",
      "source": [
        "import json\n",
        "\n",
        "with open('/content/drive/MyDrive/senior/LAB/LawCaseRetreiver/sentence_predict/dataset_new/train_data.json', 'r', encoding='utf-8') as f:\n",
        "    train_data = json.load(f)\n",
        "\n",
        "with open('/content/drive/MyDrive/senior/LAB/LawCaseRetreiver/sentence_predict/dataset_new/test_data.json', 'r', encoding='utf-8') as f:\n",
        "    test_data = json.load(f)"
      ],
      "metadata": {
        "id": "UBH4pYp-nM7-"
      },
      "execution_count": 3,
      "outputs": []
    },
    {
      "cell_type": "code",
      "source": [
        "print(\"===Train Dataset===\")\n",
        "print(\"Key: \", train_data[0].keys())\n",
        "print(\"Size: \", len(train_data))\n",
        "\n",
        "print(\"===Test Dataset===\")\n",
        "print(\"Key: \", test_data[0].keys())\n",
        "print(\"Size: \", len(test_data))"
      ],
      "metadata": {
        "colab": {
          "base_uri": "https://localhost:8080/"
        },
        "id": "atiACWF4nVaB",
        "outputId": "3554f0fc-2221-4d4a-d93d-5c2c1aa30972"
      },
      "execution_count": 4,
      "outputs": [
        {
          "output_type": "stream",
          "name": "stdout",
          "text": [
            "===Train Dataset===\n",
            "Key:  dict_keys(['id', 'reason', 'sentance', 'fact'])\n",
            "Size:  500\n",
            "===Test Dataset===\n",
            "Key:  dict_keys(['id', 'reason', 'sentance', 'fact'])\n",
            "Size:  100\n"
          ]
        }
      ]
    },
    {
      "cell_type": "code",
      "source": [
        "print(train_data[0])\n",
        "print(test_data[0])"
      ],
      "metadata": {
        "colab": {
          "base_uri": "https://localhost:8080/"
        },
        "id": "PAxPW_R7naZD",
        "outputId": "5d25a86c-6f03-4c43-8b75-71f64a9ab63d"
      },
      "execution_count": 5,
      "outputs": [
        {
          "output_type": "stream",
          "name": "stdout",
          "text": [
            "{'id': 'SlU-F40BlrB_n9qTlLQf', 'reason': '偽造文書', 'sentance': 120, 'fact': '一、陳泰龍明知其與泰國籍女子陳玉婉（泰國名字為JARUWANWONGPRATOOM，陳玉婉涉嫌本案偽造文書部分，另經臺灣臺南地方法院檢察署檢察官通緝中）間並無結婚之真意，然因詹巧薇、張晉源等人欲找臺灣男子前往泰國與泰國女子辦理假結婚，林清水負責介紹臺灣男子予詹巧薇、張晉源等人以賺取新臺幣（下同）1萬元之仲介費，適陳泰龍依林清水於報紙上刊登之徵人廣告應徵時，由林清水告知泰國女子欲以假結婚之方式申請來臺居留工作，其若擔任假結婚之人頭老公，除不用負擔前往泰國之食宿、機票費用外，尚可獲取5、6萬元之報酬，迨陳泰龍應允同意後，林清水將其轉介紹予詹巧薇、張晉源等人，陳泰龍遂與林清水、詹巧薇、張晉源等人共同基於行使使公務員登載不實公文書之概括犯意聯絡，先由陳泰龍依指示於民國93年4月3日前往泰國，並於同年月7日與陳玉婉在泰國曼谷市法拉坎農區註冊辦事處登記結婚，取得上開註冊辦事處核發之結婚登記書、結婚證書等文件後，陳泰龍即行返臺，並於同年5月19日持經我國駐泰國臺北經濟文化辦事處認證之上開結婚登記書、結婚證書等資料，至臺南縣永康市（改制前稱謂，以下沿用舊制稱謂）戶政事務所填寫結婚登記申請書，申請辦理其與陳玉婉之結婚登記，因此使上開戶政事務所僅有形式審查權之承辦公務員陷於錯誤，於形式上審核後，將陳泰龍與陳玉婉於93年4月7日結婚之不實事項，登載於其職務上所掌屬公文書之戶籍登記資料內，並據以核發戶籍謄本，而足以生損害於戶政機關對於戶政管理及戶籍登記資料維護之正確性。迨陳玉婉來臺後，為取得居留身分，再由陳泰龍、陳玉婉承前概括之犯意聯絡，於同年6月14日及94年5月5日，均持前開登載不實之戶籍謄本等資料，先後向臺南縣政府警察局外事課申請核發陳玉婉之外僑居留證及申請居留證延期而連續行使之（業經檢察官當庭補充），經承辦人員實質審查結果，均未發覺陳泰龍與陳玉婉假結婚之實情，而發給陳玉婉居留證或核准延期，各足以生損害於主管機關對外僑居留管理之正確性。二、案經臺南市警察局（現改制為臺南市政府警察局，以下沿用舊制稱謂）第一分局報告臺灣臺南地方法院檢察署檢察官偵查起訴。理由甲、程序方面：一、本件以下所引用具傳聞證據性質之供述證據，因本件被告陳泰龍、檢察官等人於本院準備程序進行時，均未爭執前開陳述之證據能力，且迄至本案言詞辯論終結前亦均未聲明異議，應視為已同意援引作為證據，又本院審酌前開證據作成時之情況及證據取得過程等節，並無非出於任意性、不正取供或其他違法不當情事，且客觀上亦無顯不可信之情況，堪認為適當，是依刑事訴訟法第159條之5規定，均有證據能力。二、卷附之被告及陳玉婉入出國日期紀錄各1份等書證，均非屬供述證據，皆無傳聞法則之適用，復均無違反法定程序取得之情形，依刑事訴訟法第158條之4規定之反面解釋，均應有證據能力。乙、實體方面：一、訊據被告固坦承於上開時、地，透過共犯林清水之介紹，先至泰國辦理與共犯陳玉婉之結婚手續，再前往臺南縣永康市戶政事務所辦理結婚登記，又前往臺南縣政府警察局外事課辦理共犯陳玉婉之外僑居留證及申請居留證延期之事實，惟矢口否認有何行使使公務員登載不實文書情事，於本院審理時辯稱：伊當時經濟狀況良好，因同居女友欲去日本工作而不願結婚，然伊希望結婚生子，遂透過共犯林清水之介紹與安排，共犯林清水先讓伊看過共犯陳玉婉之照片，伊再前往泰國與共犯陳玉婉結婚，伊僅負擔自己的來回機票錢及泰國住宿費用，其他結婚費用均由共犯林清水負擔，伊則贈送伊的一部機車予共犯林清水以為回報，伊並不認識共犯詹巧薇云云。經查：(一)被告於93年4月3日前往泰國，並於同年月7日與共犯陳玉婉在泰國曼谷市法拉坎農區註冊辦事處登記結婚，取得上開註冊辦事處核發之結婚登記書、結婚證書等文件後，被告即行返臺，並於同年5月19日持經我國駐泰國臺北經濟文化辦事處認證之上開結婚登記書、結婚證書等資料，至臺南縣永康市戶政事務所填寫結婚登記申請書，申請辦理其與共犯陳玉婉之結婚登記，並取得戶籍謄本。迨共犯陳玉婉來臺後，為取得居留身分，被告與共犯陳玉婉於同年6月14日及94年5月5日，均持前開戶籍謄本等資料，先後向臺南縣政府警察局外事課申請核發共犯陳玉婉之外僑居留證及申請居留證延期等情，業據被告供承在卷，並有結婚登記申請書、授權書各1份、結婚登記書、結婚證書各1份（含中文、泰文影本及我國駐泰國臺北經濟文化辦事處認證之資料）、93年6月14日及94年5月5日之外國人居留停留案件聲請表各1份、被告及共犯陳玉婉之入出國日期紀錄各1份、共犯陳玉婉之外僑居留資料查詢1份在卷可按（見警三卷即南市警一刑偵字第0994101517號卷第6至24、33頁）。上開事實，首堪認定。(二)共犯詹巧薇、張晉源等人當時欲找臺灣人與泰國女子結婚，由共犯林清水於報紙上刊登徵人廣告，若應徵者符合與泰國人結婚之條件，便將應徵者介紹予共犯詹巧薇、張晉源等人，共犯林清水可從中獲取1萬元之仲介費，適被告依前開徵人廣告應徵，共犯林清水衡量其條件後告知其可至泰國結婚，其除不用負擔前往泰國之機票及食宿費用外，尚可獲取5至6萬元之報酬，被告應允同意後，共犯林清水將其介紹予詹巧薇、張晉源等人，被告即依指示前往泰國與為了來臺工作且無結婚真意的共犯陳玉婉辦理結婚事宜等情，業據共犯林清水於警詢時證稱：伊登報徵人到泰國結婚，被告看報紙來的，伊便轉介予共犯詹巧薇，由共犯詹巧薇安排後續到泰國結婚之事宜，被告除不用負擔前往泰國機票、食宿等費用，尚可獲取約5至6萬元酬勞，伊則可自共犯詹巧薇獲取約1萬元之仲介費用；伊只有將被告轉介予共犯詹巧薇，並未參與後續被告前往泰國之證照、機票、食宿等相關事宜；被告係因缺錢，為了賺取擔任人頭配偶的佣金5至6萬，並不是真的要與泰國人結婚，共犯陳玉婉係為了來臺灣工作賺錢，亦不是真的要與臺灣人結婚等語（見警三卷第2至3頁）；並於本院審理時具結證稱：當初共犯詹巧薇、張晉源等人欲找男子前往泰國結婚，伊曾刊登「男、女不限、經驗不拘」等內容之徵人廣告，被告見報應徵時，被告係因缺錢才來找伊，伊衡量被告條件後認為其只能利用結婚賺取報酬，伊才向其表示是要辦結婚，伊告知被告可安排其去泰國結婚，其不用負擔食宿及機票等費用，可實拿5至6萬元的報酬，被告同意後，伊將被告介紹予共犯詹巧薇、張晉源，共犯張晉源給付佣金1萬元予伊；伊與被告談論泰國結婚事宜時，伊與被告均不知被告之結婚對象為何人，伊亦未見過與被告結婚之泰國女子，伊僅介紹被告予共犯詹巧薇、張晉源等人，伊並未參予後續之泰國結婚、辦理結婚登記及居留申請等事情；被告曾給伊一部機車，當時被告表示要去別的地方，機車留在臺南無人使用，伊修理使用一段期間後，因再度壞掉便未再使用等語（見本院卷第68頁背面至71頁）。而共犯林清水於93、94年間，因仲介臺灣人民陳益昌、林哲銘、廖震南、陳朝榮、王照明等5人擔任人頭老公與泰國女子假結婚，陳益昌等5人均獲取5至7萬元報酬等情，經本院以95年度簡上字第330號判處有期徒刑7月確定，另共犯詹巧薇於92年間，因與共犯張晉源等人共同仲介臺灣人民莊國寶、林世欽、蔡明峰等3人擔任人頭老公與泰國女子假結婚等情，經本院以99年度簡字第1313號判處有期徒刑4月並減為有期徒刑2月確定，又共犯林清水、詹巧薇因本案被告與共犯陳玉婉辦理假結婚致涉嫌共同行使使公務員登載不實文書犯行部分，經臺灣臺南地方法院檢察官認為與前開95年度簡上字第330號、99年度簡字第1313號論罪科刑部分有連續犯之裁判上一罪關係，故均以99年度偵字第17571、17771號、100年度偵字第4564號為不起訴處分確定，有前開判決書及不起訴處分書各1份在卷可按，堪認共犯林清水、詹巧薇、張晉源確曾仲介或安排臺灣男子前往泰國與泰國女子假結婚無訛。又被告與共犯林清水並無任何仇怨糾葛，被告尚提供一部機車予共犯林清水使用，衡諸常情，共犯林清水尚無隨意誣指構陷被告之動機，復衡以其於本院中具結後證述上情歷歷，核與其警詢中證述之情節大致相符，苟非親身經歷，尚均無圖陷被告入罪而自行擔負偽證罪責風險之必要，顯見其確係依憑當時親身見聞所為之證述，參以被告於93年4月26日將戶籍遷移寄放至共犯林清水籍設於臺南縣永康市○○路152號之住所，其戶籍遷入目的係為了便利結婚登記之辦理，被告亦依此戶籍地向臺南縣永康市戶政事務所辦理其與共犯陳玉婉之結婚登記等情，業據被告於本院審理時供承伊戶籍寄放於前開住址不諱，及共犯林清水於本院審理時具結證稱：被告將戶籍寄放於伊住所是為了辦理結婚，要拿證件辦理結婚登記比較方便等語（見本院卷第70頁），並有被告及共犯林清水之個人戶籍資料查詢結果各1份、結婚登記申請書1份在卷可佐，而前開95年度簡上字第330號案件中之人頭老公林哲銘亦由共犯林清水提供前開住所供其設籍，並依該戶籍地辦理結婚登記等情，亦據證人林哲銘於警詢時證述明確（見警二卷第19頁），並有證人林哲銘之結婚登記申請書1紙附卷可佐（見警二卷第46頁），益徵被告確係共犯林清水仲介之人頭老公的其中一人甚明。(三)綜上所述，被告與共犯陳玉婉確係假結婚無訛，是被告前開所辯，要屬卸責之詞，殊無可採。本案事證至臻明確，被告上開犯行堪以認定，應予依法論科。二、按被告行為後，刑法業於民國94年2月2日修正公布，並自95年7月1日施行。按行為後法律有變更者，適用行為時之法律，但行為後之法律有利於行為人者，適用最有利於行為人之法律，修正後刑法第2條第1項定有明文。該規定係規範行為後法律變更所生新舊法律比較適用之準據法，是刑法第2條本身雖經修正，尚無比較新舊法之問題，應一律適用裁判時之刑法第2條規定。次按本次刑法修正之新舊法比較，應就罪刑有關之共犯、未遂犯、想像競合犯、牽連犯、連續犯、結合犯、以及累犯加重、自首減輕暨其他法定加減原因（如身分加減）與加減例等一切情形，綜其全部罪刑之結果而為比較，有最高法院95年5月23日95年度第8次刑庭會議決議可資參照。經查：(一)依增訂之刑法施行法第1條之1：「中華民國94年1月7日刑法修正施行後，刑法分則編所定罰金之貨幣單位為新臺幣。94年1月7日刑法修正時，刑法分則編未修正之條文定有罰金者，自94年1月7日刑法修正施行後，就其所定數額提高為30倍。但72年6月26日至94年1月7日新增或修正之條文，就其所定數額提高為3倍。」，是比較修正後刑法施行法第1條之1第2項與罰金罰鍰提高標準條例第1條之結果，因兩者之罰金最高額度相同而無有利不利之情形，自無刑法第2條第1項之適用，應逕依現行有效且具特別法性質之刑法施行法第1條之1的規定。(二)刑法第33條第5款修正為：「主刑之種類如下：五、罰金：新臺幣1000元以上，以百元計算之。」，是依修正後之法律，刑法第335條第1項之侵占罪所得科處之罰金刑最低為新臺幣1000元，而另依修正前刑法第33條第5款及罰金罰鍰提高標準條例第1條前段規定，罰金最低額則為銀元1元折算為新臺幣3元，故比較新舊法之結果，自以修正前刑法第33條第5款規定較有利於被告。(三)刑法第28條修正前規定為：「2人以上共同實施犯罪之行為者，皆為正犯。」，而修正後規定為：「2人以上共同實行犯罪之行為者，皆為正犯。」，是依修正後之規定係將共同正犯限於直接從事構成犯罪事實之行為者，而排除陰謀共同正犯及預謀共同正犯之類型，故修正後共同正犯之可罰性要件之範圍業已限縮。惟本件被告既係直接從事構成犯罪事實之行為，則比較修正前後規定之結果，並無有利或不利之情形，應逕依修正後規定。(四)刑法第56條連續犯之規定於刑法修正後業經刪除，是新法修正施行後，行為人之數犯罪行為便須分論併罰。是該項刪除雖非犯罪構成要件之變更，但已影響行為人刑罰之法律效果，自屬法律有所變更而有比較新舊法之必要。若依舊法之規定，以一罪論而僅加重其刑至2分之1，但若依新法則須分科併罰，經比較之結果，自以修正前刑法第56條對被告較為有利。(五)綜上，本院綜合被告所涉上揭全部罪行之一切情形而為比較，揆諸前揭最高法院決議及刑法第2條第1項前段規定，被告適用行為時即修正前刑法之相關規定，對其較為有利，自應一體適用修正前刑法規定予以處斷。三、論罪科刑：(一)核被告所為，係犯刑法第216條、第214條之行使使公務員登載不實文書罪。被告與共犯林清水、詹巧薇、張晉源等人就上揭犯行，彼此間有犯意聯絡及行為分擔，為共同正犯。被告使公務員登載不實事項於其所掌公文書之低度行為，為行使之高度行為所吸收，不另論罪。被告於93年5月19日、93年6月14日及94年5月5日先後多次行使使公務員登載不實文書之犯行，時間密接，所犯係構成要件相同之罪名，顯係基於概括犯意反覆為之，為連續犯，應依修正前刑法第56條規定論以一罪，並加重其刑。(二)爰審酌被告為圖私利，竟藉由假結婚之方式便利共犯陳玉婉入境居留，損害戶政機關結婚登記及主管機關對於外國人居留管理之正確性，對社會秩序、善良風俗及警政機關對治安之管理均非無潛在之危害，復參酌被告犯後自始否認犯行，未見悔意，及其智識程度、生活狀況等一切情狀，量處如主文所示之刑，以資懲儆。另被告行為後，關於易科罰金之折算標準，依修正前刑法第41條第1項前段及廢止前罰金罰鍰提高標準條例第2條，係以銀元1百元、2百元或3百元，即新臺幣3百元、6百元或9百元折算1日，而依修正後刑法第41條第1項前段規定，則係以新臺幣1千元、2千元或3千元折算1日，故依刑法第2條第1項前段之規定來比較新舊法之結果，應適用修正前之規定較為有利，爰依修正前刑法第41條第1項前段及廢止前罰金罰鍰提高標準條例第2條諭知易科罰金之折算標準。又被告之犯罪時間係在96年4月24日以前，所犯合於中華民國九十六年罪犯減刑條例之減刑條件，應依該條例第2條第1項第3款、第7條及第9條，減其宣告刑2分之1，並諭知易科罰金之折算標準。四、末按連續數行為而犯同一之罪名，均在新法施行前者，新法施行後，應依新法第2條第1項之規定，適用最有利於行為人之法律。部分之數行為，發生在新法施行前者，新法施行後，該部分適用最有利於行為人之法律。若其中部分之一行為或數行為，發生在新法施行後者，該部分不能論以連續犯（最高法院95年度第8次刑事庭會議決議參照，即該決議五數罪併罰之(四)連續犯部分）。查被告涉嫌於96年5月28日及96年9月3日與共犯陳玉婉共同持前開登載不實之戶籍謄本等資料，先後向臺南縣政府警察局外事課申請核發陳玉婉之延期居留等事宜，有96年5月28日及96年9月3日之外國人居留停留案件申請表各1份附卷可憑，被告此部分涉嫌共同行使使公務員登載不實文書犯行，均在95年7月1日刑法修正廢除第56條連續犯規定以後，亦未據檢察官記載於起訴書犯罪事實內，揆諸前開說明，此部分犯行與前開論罪科刑部份無連續犯之裁判上一罪關係，自非本院得審判之範圍，附此敘明之。據上論斷，應依刑事訴訟法第299條第1項前段，刑法第2條第1項前段、第28條、第216條、第214條，修正前刑法第56條、第41條第1項前段，刑法施行法第1條之1，修正廢止前罰金罰鍰提高標準條例第2條，中華民國96年罪犯減刑條例第2條第1項第3款、第7條、第9條，判決如主文。本案經檢察官莊玲如到庭執行職務。中華民國101年1月20日刑事第四庭審判長法官林逸梅法官鄭文祺法官莊政達以上正本證明與原本無異。如不服本判決應於收受本判後10日內向本院提出上訴書狀，並應敘述具體理由。其未敘述上訴理由者，應於上訴期間屆滿後20日內向本院補提理由書狀（均須按他造當事人之人數附繕本）「切勿逕送上級法院」。書記官吳昕韋中華民國101年2月1日附錄本案論罪科刑法條：中華民國刑法第214條（使公務員登載不實罪）明知為不實之事項，而使公務員登載於職務上所掌之公文書，足以生損害於公眾或他人者，處3年以下有期徒刑、拘役或5百元以下罰金。中華民國刑法第216條（行使偽造變造或登載不實之文書罪）行使第210條至第215條之文書者，依偽造、變造文書或登載不實事項或使登載不實事項之規定處斷。'}\n",
            "{'id': 'GHPOGo0BlrB_n9qTZiJF', 'reason': '偽造文書', 'sentance': 150, 'fact': '○、緣徐鴻光（所涉行使偽造私文書犯行，業經本院以95年度訴字第955號判決處有期徒刑3月、緩刑3年確定）因需款使用，知悉穆立明有借款管道，為求順利借款，2人竟共同意圖為自己不法所有，基於行使偽造私文書及詐欺取財之犯意聯絡，知悉車牌號碼00-000號營業小客車係徐鴻光向志朗交通有限公司（下稱志朗公司）租賃之車輛，竟由穆立明先於不詳時間、不詳地點，偽刻「志朗交通有限公司」及負責人「陳健志」印章（正確姓名為陳建志，誤刻為「陳健志」）各1枚，並偽造「陳健志」代表志朗公司與徐鴻光簽署之「臺北市計程車客運駕駛人自備車輛參與經營契約書」（下稱本案參與經營契約書），虛偽記載徐鴻光提供上述營業小客車靠行志朗公司營業等不實內容，並持上開偽刻印章，偽造「志朗交通有限公司」印文4枚、「陳健志」印文6枚於本案參與經營契約書上，再於92年3月6日交徐鴻光於立約人乙方欄簽名，2人復於同日協同不知情之徐鴻光配偶徐樂仁（所涉行使偽造私文書犯行，業經本院以95年度訴字第955號判決無罪確定），前往臺北市○○區○○街00巷0號2樓王傑生所經營之宏帝當舖（現更名為渣打當舖），由徐鴻光、穆立明交付偽造本案參與經營契約書向宏帝當鋪借款新臺幣（下同）10萬元以為行使，並約定由徐樂仁擔任連帶保證人，王傑生誤信上開車輛為徐鴻光所有而陷入錯誤，於扣除利息後交付9萬1千元借款予徐鴻光夫婦，足以生損害於志朗公司、陳建志、王傑生。嗣因徐鴻光僅清償每期7千元之分期款共11期計7萬7千元，未全額清償即無力負擔債務，王傑生始查知上開車輛非徐鴻光所有，而悉上情。二、案經王傑生訴由臺灣士林地方法院檢察署檢察官偵查起訴。理由○、證據能力部分：被告以外之人於審判外之言詞或書面陳述，除法律有規定者外，不得作為證據；又被告以外之人於審判外之陳述，雖不符合同法第159條之1至第159條之4之規定，但經當事人於審判程序同意作為證據，法院審酌該言詞陳述或書面陳述作成時之情況，認為適當者，亦得為證據。刑事訴訟法第159條第1項及第159條之5第1項分別定有明文。經查，本判決所引用之各該被告以外之人於審判外之陳述，雖屬傳聞證據，然當事人於本院審判期日中均表示同意作為證據方法而不予爭執，且迄至言詞辯論終結前亦未再聲明異議（見本院卷第68頁至第68頁背面），本院審酌上開證據資料製作時之情況，尚無違法不當及證明力明顯過低之瑕疵，亦認為以之作為證據應屬適當，故揆諸前開規定，爰依刑事訴訟法第159條之5規定，認前揭證據資料均有證據能力。二、認定犯罪事實所憑之證據及理由：（一）訊據被告穆立明固坦承有於92年3月6日帶共同被告徐鴻光、徐樂仁至宏帝當鋪借錢，惟矢口否認有何行使偽造私文書及詐欺取財之犯行，辯稱：本案參與經營契約書係由共同被告徐鴻光所提出，徐鴻光知道我在宏帝當舖當業務員，他因資金不夠，要伊帶至宏帝當鋪借錢，伊請徐鴻光帶身分證、本案參與經營契約書，證明計程車係屬於徐鴻光所有，另外要帶一位保人云云。（二）經查，證人即志英交通公司負責人陳建志於檢察官偵查中結證稱：本案參與經營契約書上之「志朗交通有限公司」、「陳健志」之印文均非我公司的大小章，志朗交通公司也是我的公司，我是負責人，但這個章不是我的，被告徐鴻光只是加入無線電台等語（見94年度偵字第8715號卷第45頁），復有其提出真正之志朗交通有限公司及其本人陳建志之印文各4枚在卷可稽（見94年度偵字第8715號卷第48頁），經核卷附本案參與經營契約書上所示之「志朗交通有限公司」、「陳健志」印文（見95年度偵緝字第60號卷第53頁），除二者字體明顯不同外，本案參與經營契約書中「陳健志」名字中之「健」一字顯係錯別字，堪認本案參與經營契約書上所示之「志朗交通有限公司」、「陳健志」印文確屬偽造一節，應可認定。（三）證人即告訴人王傑生於檢察官偵查中證稱：我經營宏帝當鋪，後改名為渣打當鋪，地址在臺北市○○街00巷0號2樓，計程車典當給我們時，我們要看參與經營契約書，被告徐鴻光有來借錢，被告穆立明當時有在場，徐鴻光給我們看本案參與經營契約書，我們就以為車子是徐鴻光的，我們找到車之後才知道車子是車行的，被告穆立明是我們公司抽獎金的業務員，穆立明介紹人來借錢，我給他獎金等語（見94年度偵字第8715號卷第37頁、95年度偵緝字第60號卷第49頁、第68頁），且證人朱庭峰於檢察官偵查中及本院審理時亦結證稱：我是宏帝當鋪的負責人，後來當鋪讓給王傑生，被告徐鴻光到宏帝當鋪借款10萬元，係由我接洽，當時是被告穆立明介紹，穆立明不是公司職員，他會介紹車子到我們公司來典當，我會給穆立明佣金，即我收到1,000元利息，就給他100元，本案參與經營契約書是由穆立明拿出來等語（見95年度偵緝字第60號卷第68頁至第69頁、95年度訴字第955號卷第66頁至第67頁），復有本案參與經營契約書、本票影本各1份附卷可憑（見94年度偵字第8715號卷第14頁至第17頁），足認共同被告徐鴻光係經被告穆立明介紹，持本案參與經營契約書於上開時間前往宏帝當鋪借款10萬元，且被告穆立明於借款時在場之事實，洵堪認定。（四）被告穆立明雖辯稱：本案參與經營契約書係共同被告徐鴻光所提出，伊僅有將徐鴻光帶去當鋪，就由當舖的人接洽云云，惟查，證人即共同被告徐鴻光於本院審理時證稱：因為我當司機收入不高，家裡有需要用錢，被告穆立明說有辦法借錢，我請被告穆立明帶我去借款，被告穆立明有帶我去當鋪，我太太徐樂仁當時有一起陪同，卷附之本票影本係我當時在當鋪簽立，而本案參與經營契約書係被告穆立明幫我準備好的，經我在當舖蓋我的章及簽名，被告穆立明拿給我時契約書已經寫好資料，至於被告穆立明提出本案參與經營契約書之來源我不知道，被告穆立明只有要我帶駕照、行照、身分證及私章，車號00-000號營業用小客車是我用租的車子，車子是志朗公司的車子，本案參與經營契約書內容不是真的，車子不是我自備的，只有契約書末頁乙方的簽名是我簽的等語（見本院卷第64頁至第66頁背面），核與其在檢察官偵查中證稱：被告穆立明有帶我去宏帝當鋪向朱先生借錢，我借10萬元，本案參與經營契約書係被告穆立明幫我準備好的，前面的簽名及資料是被告穆立明簽的，只有最後的簽名是我簽的等語大致相符（見95年度偵緝字第60號卷第48頁至第49頁），再查，參以被告穆立明於本院審理時當庭書寫徐鴻光名字之字跡經與本案參與經營契約書立契約書人一欄所簽署「徐鴻光」之筆跡比對後（見本院卷第73頁），依肉眼觀之，不論字跡之運筆、筆勾等字體外觀，均較為吻合，反觀該契約書頁末之乙方「徐鴻光」之筆跡，與頁首立契約書人一欄所簽署「徐鴻光」之筆跡之運筆及筆勾，字跡明顯不同，是被告穆立明辯稱本案參與經營契約書係由共同被告徐鴻光提出云云，已難採信；又證人徐鴻光於本院審理時證稱：我曾經用上開車輛向別的當鋪借錢，當時別的當鋪說車子用租的也可以借，只要押行照在那裡即可，不需要像本件一樣的契約，本件是我去當鋪，他們說該簽名的地方，我就簽名，且是我透過別的司機得知被告穆立明可以幫我問問哪裡可以借錢，所以才找被告穆立明等語（見本院卷第65頁背面至第66頁背面），衡以證人徐鴻光涉犯本案犯行業經本院認定有罪確定，自應無虛偽陳述之動機，且被告穆立明自承與證人徐鴻光無糾紛，同為排班計程車司機，為點頭之交乙情，亦認證人徐鴻光無涉詞誣陷被告穆立明之可能；再參以證人王傑生、朱庭峰皆證述本案參與經營契約書係由被告穆立明提出一節，又被告並不否認宏帝當舖僅同意典當個人所有靠行之車輛，不同意典當向車行租的車輛等情，而本件共同被告徐鴻光既有提供行照予被告穆立明，業經其證述如前，則自行照之記載內容即可知悉上開車輛所有人為何人，被告穆立明豈有不知上開車輛所有人為何人之理，況被告穆立明供認介紹共同被告徐鴻光予宏帝當鋪借錢有利息百分之十之報酬等語（見本院卷第69頁背面），其當有可能為促成徐鴻光與宏帝當鋪借款，而提出本案經營契約書供作本件借款之用，是被告穆立明辯稱車子是徐鴻光說其自己所有，本案參與經營契約書係徐鴻光自行提出云云，顯係事後卸責之詞，不足採信。（五）綜上所述，被告上開所辯各節，無非事後避重就輕、圖卸之詞，不足採信，被告行使偽造私文書及詐欺取財等犯行，事證明確，應依法論科。三、論罪科刑部分：（一）按被告行為後，94年2月2日修正公布之刑法已於95年7月1日生效施行，其中第2條第1項「行為後法律有變更者，適用行為時之法律。但行為後之法律有利於行為人者，適用最有利於行為人之法律」之規定，係規範行為後法律變更所生新、舊法律比較適用之準據法，並非刑法實體法律，自不生行為後法律變更之比較適用問題，故刑法修正施行後，應適用該修正後之第2條第1項之規定，依「從舊、從輕」之原則比較新、舊法律之適用；又比較新舊法時，應就罪刑有關之共犯、未遂犯、想像競合犯、牽連犯、連續犯、結合犯，以及累犯加重、自首減輕暨其他法定加減原因（如身分加減）與加減例等一切情形，綜其全部罪刑之結果而為比較後，再適用有利於行為人之法律處斷，而不得一部割裂分別適用不同之新、舊法（最高法院24年上字第4634號、29年上字第964號判例意旨及最高法院95年度第8次刑事庭會議決議參照）。經查：1.刑法第33條第5款關於罰金刑之規定業於94年2月2日修正，於95年7月1日生效，修正前刑法第33條第5款規定：「罰金：1元（銀元）以上。」，並依現行法規所定貨幣單位折算新臺幣條例規定，以銀元1元折算新臺幣3元，故修正前刑法規定罰金之最低數額為新臺幣3元；修正後刑法第33條第5款規定：「罰金：新臺幣1,000元以上，以百元計算之。」，故修正後刑法規定罰金之最低數額提高為新臺幣1,000元；比較上開罰金刑之最高數額，於修正後並無不同，惟修正後刑法第33條第5款所定罰金刑最低數額，既較修正前提高，依前開說明，應適用對被告有利之修正前刑法第33條第5款之規定。2.修正前刑法第28條規定：「二人以上共同實施犯罪之行為者，皆為正犯。」，修正後該條規定為：「二人以上共同實行犯罪之行為者，皆為正犯。」，揆諸本條之修正理由，係為釐清陰謀共同正犯、預備共同正犯、共謀共同正犯是否合乎本條之正犯要件，並將陰謀共同正犯、預備共同正犯剔除於本條適用之外，以符合近代刑法之個人責任原則、法治國人權保障思想及犯罪支配理論，自屬行為後法律有變更，而非僅屬文字修正，應有新舊法比較適用問題（最高法院97年度台上字第37號判決意旨參照）。本件被告穆立明與徐鴻光就前揭行使偽造私文書及詐欺取財犯行各具有犯意聯絡及行為分擔，不論依修正前或修正後之規定，均屬共同正犯，對被告並無有利或不利之情形，應適用行為時之法律。3.被告行為後新法業已刪除牽連犯之規定，依舊法成立方法、結果行為而僅論以一罪者，依新法將論以數罪，比較新、舊法結果，自以修正前刑法第55條牽連犯之規定，較有利於被告。4.綜此，本院經綜合上述各條文修正前、後之比較，參照前揭最高法院決議及修正後刑法第2條第1項前段、後段規定之「從舊、從輕」原則，被告穆立明上開犯行自應適用行為時之法律，予以論處。（二）核被告穆立明所為，係犯刑法第216條、第210條之行使偽造私文書罪、同法第339條第1項詐欺取財罪。被告穆立明於本案參與經營契約書上偽造「志朗交通有限公司」、「陳健志」印章及印文乃偽造私文書之部分行為，其偽造本案參與經營契約書後持以行使，偽造之低度行為復為行使之高度行為所吸收，均不另論罪。被告穆立明與徐鴻光就行使偽造私文書及詐欺之犯行有犯意聯絡及行為分擔，為共同正犯。又其等行使偽造私文書之目的，在詐取告訴人之金錢，所犯連續行使偽造私文書與詐欺取財2罪間，有方法、目的之牽連關係，應依修正前刑法第55條規定，從一較重之行使偽造私文書罪處斷。（三）爰審酌被告穆立明不思以正當途徑賺取錢財，竟偽造志朗公司及其負責人陳建志之印章，進而偽造本案參與經營契約書，而詐取告訴人之金錢，足生損害於志朗公司、陳建志、告訴人，並危害社會交易秩序，所為實有不該，犯後否認犯行，未見悔悟之心，兼衡被告穆立明有違反票據法之前科，有臺灣高等法院被告前案紀錄表在卷可稽（見本院卷第60頁），素行尚可，共同被告徐鴻光於詐得借款後已陸續返還利息予告訴人與朱庭峰，及被告穆立明為高中肄業之智識程度，經濟狀況為小康之生活狀況等一切情狀（見被告警詢筆錄受詢問人欄，本院卷第6頁），量處如主文所示之刑，以資懲儆。又關於易科罰金之折算標準，修正前刑法第41條第1項前段規定：「犯最重本刑為5年以下有期徒刑以下之刑之罪，而受6個月以下有期徒刑或拘役之宣告，因身體、教育、職業、家庭之關係或其他正當事由，執行顯有困難者，得以1元以上3元以下折算1日，易科罰金。」，再依據修正前罰金罰鍰提高標準條例第2條：「依刑法第41條易科罰金或第42條第2項易服勞役者，均就其原定數額提高為1百倍折算1日；法律所定罰金數額未依本條例提高倍數，或其處罰法條無罰金刑之規定者，亦同。」之規定，被告行為時之易科罰金折算標準，應以銀元1百元以上3百元以下折算1日，經折算為新臺幣後，應以新臺幣3百元以上9百元以下折算1日。惟95年7月1日施行之刑法第41條第1項前段規定修正為：「犯最重本刑為5年以下有期徒刑以下之刑之罪，而受6個月以下有期徒刑或拘役之宣告者，得以新臺幣1千元、2千元或3千元折算一日，易科罰金。」，另95年7月1日生效施行之罰金罰鍰提高標準條例則刪除原本第2條之規定。是以比較新舊法結果，自以舊法所定之易科罰金折算標準有利於被告，故應依修正前刑法第41條第1項前段、修正前罰金罰鍰提高標準條例第2條規定，就所宣告之刑部分諭知易科罰金之折算標準。（四）偽造之「臺北市計程車客運駕駛人自備車輛參與經營契約書」原本1份固經共同被告徐鴻光於借款時行使交付予宏帝當鋪，業如前述，惟此僅係共同被告徐鴻光為借得款項，而將本案參與經營契約書交付當鋪作為擔保使用，其所有權仍為共同被告徐鴻光所有，不因行使而移轉為宏帝當鋪所有，又該偽造之契約既係供本件犯行所用，爰依刑法第38條第1項第2款規定宣告沒收。又契約上偽造之「志朗交通有限公司」印文4枚、「陳健志」之印文6枚固係偽造之印文，已因該契約之沒收而包括在內，無再重複諭知沒收之必要。另告訴人為提起本件告訴，而複印本案參與經營契約書資為證據（見94年度偵字第8715號卷第15至第17頁），因認僅係作為本案訴訟使用，而非被告穆立明、共同被告徐鴻光供本件犯行所用之物，就複印之契約書上之「志朗交通有限公司」印文4枚、「陳健志」之印文6枚，爰不予宣告沒收。至被告穆立明偽刻之「志朗交通有限公司」、「陳健志」印章各1枚，係偽造之印章，且無證據證明業已滅失，應依刑法第219條宣告沒收。（五）再按本條例施行前，經通緝而未於中華民國96年12月31日以前自動歸案接受偵查、審判或執行者，不得依本條例減刑，中華民國九十六年罪犯減刑條例第5條定有明文。查本件被告穆立明所為前開犯行之犯罪時間固係在96年4月24日以前，但其曾於中華民國九十六年罪犯減刑條例施行（96年7月16日施行）前之95年12月21日因本案經本院以95年士院刑玄緝字第463號通緝書發佈通緝，於102年9月1日甫緝獲歸案等情，此有前開通緝書、歸案證明書、本院102年士院刑玄銷字第289號撤銷通緝書各1份存卷可參（95年度訴字第955號卷第43頁、本院卷第26頁、第43頁），從而，依前開規定，本案被告無從依中華民國九十六年罪犯減刑條例之規定減刑，併此敘明。據上論斷，應依刑事訴訟法第299條第1項前段，刑法第2條1項前段、第28條、第216條、第210條、第339條第1項、第219條、第38條第1項第2款、修正前刑法第55條、第41條第1項前段，刑法施行法第1條之1第1項，修正前罰金罰鍰提高標準條例第2條，現行法規所定貨幣單位折算新臺幣條例第2條，判決如主文。本案經檢察官黃仙宜到庭執行職務。中華民國102年12月3日刑事第七庭審判長法官雷雯華法官陳介安法官蔡子琪以上正本證明與原本無異。如不服本判決應於收受送達後10日內向本院提出上訴書狀，並應敘述具體理由。其未敘述上訴理由者，應於上訴期間屆滿後20日內向本院補提理由書（均須按他造當事人之人數附繕本）「切勿逕送上級法院」。書記官李宜蓁中華民國102年12月5日附錄本案論罪科刑所依據之法條：刑法第216條、第210條、第339條第1項偽造、變造私文書，足以生損害於公眾或他人者，處5年以下有期徒刑。偽造印章、印文或署押，足以生損害於公眾或他人者，處3年以下有期徒刑。盜用印章、印文或署押，足以生損害於公眾或他人者，亦同。意圖為自己或第三人不法之所有，以詐術使人將本人或第三人之物交付者，處5年以下有期徒刑、拘役或科或併科1千元以下罰金。'}\n"
          ]
        }
      ]
    },
    {
      "cell_type": "code",
      "source": [
        "train_fact_len = []\n",
        "test_fact_len = []\n",
        "\n",
        "for data in train_data:\n",
        "    train_fact_len.append(len(data['fact']))\n",
        "\n",
        "for data in test_data:\n",
        "    test_fact_len.append(len(data['fact']))\n"
      ],
      "metadata": {
        "id": "vOT3jRpPnibt"
      },
      "execution_count": 6,
      "outputs": []
    },
    {
      "cell_type": "code",
      "source": [
        "print(\"===Train Dataset===\")\n",
        "print(\"Length: \", len(train_fact_len))\n",
        "print(\"Max Length: \", max(train_fact_len))\n",
        "print(\"Min Length: \", min(train_fact_len))\n",
        "print(\"Avg. Length: \", sum(train_fact_len) / len(train_fact_len))\n",
        "\n",
        "print(\"===Test Dataset===\")\n",
        "print(\"Length: \", len(test_fact_len))\n",
        "print(\"Max Length: \", max(test_fact_len))\n",
        "print(\"Min Length: \", min(test_fact_len))\n",
        "print(\"Avg. Length: \", sum(test_fact_len) / len(test_fact_len))"
      ],
      "metadata": {
        "colab": {
          "base_uri": "https://localhost:8080/"
        },
        "id": "eVmVkrH0nnAT",
        "outputId": "27a14ef2-fdac-44fa-ce97-65da092c6859"
      },
      "execution_count": 7,
      "outputs": [
        {
          "output_type": "stream",
          "name": "stdout",
          "text": [
            "===Train Dataset===\n",
            "Length:  500\n",
            "Max Length:  19745\n",
            "Min Length:  328\n",
            "Avg. Length:  7933.656\n",
            "===Test Dataset===\n",
            "Length:  100\n",
            "Max Length:  19277\n",
            "Min Length:  280\n",
            "Avg. Length:  8231.62\n"
          ]
        }
      ]
    },
    {
      "cell_type": "code",
      "source": [
        "def extract_key_contents(data):\n",
        "    facts = []\n",
        "    sentences = []\n",
        "    for item in data:\n",
        "        facts.append(item.get('fact'))\n",
        "        sentences.append(item.get('sentance'))\n",
        "    return facts, sentences"
      ],
      "metadata": {
        "id": "uXE_9V3UnJYg"
      },
      "execution_count": 8,
      "outputs": []
    },
    {
      "cell_type": "code",
      "source": [
        "train_facts, train_sentences = extract_key_contents(train_data)\n",
        "test_facts, test_sentences = extract_key_contents(test_data)"
      ],
      "metadata": {
        "id": "acFs77Rtnx0K"
      },
      "execution_count": 9,
      "outputs": []
    },
    {
      "cell_type": "code",
      "source": [
        "print(\"Train facts:\", train_facts[:5])\n",
        "print(\"Train Sentences:\", train_sentences[:5])\n",
        "print(\"Test facts:\", test_facts[:5])\n",
        "print(\"Test Sentences:\", test_sentences[:5])"
      ],
      "metadata": {
        "colab": {
          "base_uri": "https://localhost:8080/"
        },
        "id": "pLnQPW0pn_cs",
        "outputId": "5ac97712-c0fa-4bce-eb0e-472fa6681295"
      },
      "execution_count": 10,
      "outputs": [
        {
          "output_type": "stream",
          "name": "stdout",
          "text": [
            "Train facts: ['一、陳泰龍明知其與泰國籍女子陳玉婉（泰國名字為JARUWANWONGPRATOOM，陳玉婉涉嫌本案偽造文書部分，另經臺灣臺南地方法院檢察署檢察官通緝中）間並無結婚之真意，然因詹巧薇、張晉源等人欲找臺灣男子前往泰國與泰國女子辦理假結婚，林清水負責介紹臺灣男子予詹巧薇、張晉源等人以賺取新臺幣（下同）1萬元之仲介費，適陳泰龍依林清水於報紙上刊登之徵人廣告應徵時，由林清水告知泰國女子欲以假結婚之方式申請來臺居留工作，其若擔任假結婚之人頭老公，除不用負擔前往泰國之食宿、機票費用外，尚可獲取5、6萬元之報酬，迨陳泰龍應允同意後，林清水將其轉介紹予詹巧薇、張晉源等人，陳泰龍遂與林清水、詹巧薇、張晉源等人共同基於行使使公務員登載不實公文書之概括犯意聯絡，先由陳泰龍依指示於民國93年4月3日前往泰國，並於同年月7日與陳玉婉在泰國曼谷市法拉坎農區註冊辦事處登記結婚，取得上開註冊辦事處核發之結婚登記書、結婚證書等文件後，陳泰龍即行返臺，並於同年5月19日持經我國駐泰國臺北經濟文化辦事處認證之上開結婚登記書、結婚證書等資料，至臺南縣永康市（改制前稱謂，以下沿用舊制稱謂）戶政事務所填寫結婚登記申請書，申請辦理其與陳玉婉之結婚登記，因此使上開戶政事務所僅有形式審查權之承辦公務員陷於錯誤，於形式上審核後，將陳泰龍與陳玉婉於93年4月7日結婚之不實事項，登載於其職務上所掌屬公文書之戶籍登記資料內，並據以核發戶籍謄本，而足以生損害於戶政機關對於戶政管理及戶籍登記資料維護之正確性。迨陳玉婉來臺後，為取得居留身分，再由陳泰龍、陳玉婉承前概括之犯意聯絡，於同年6月14日及94年5月5日，均持前開登載不實之戶籍謄本等資料，先後向臺南縣政府警察局外事課申請核發陳玉婉之外僑居留證及申請居留證延期而連續行使之（業經檢察官當庭補充），經承辦人員實質審查結果，均未發覺陳泰龍與陳玉婉假結婚之實情，而發給陳玉婉居留證或核准延期，各足以生損害於主管機關對外僑居留管理之正確性。二、案經臺南市警察局（現改制為臺南市政府警察局，以下沿用舊制稱謂）第一分局報告臺灣臺南地方法院檢察署檢察官偵查起訴。理由甲、程序方面：一、本件以下所引用具傳聞證據性質之供述證據，因本件被告陳泰龍、檢察官等人於本院準備程序進行時，均未爭執前開陳述之證據能力，且迄至本案言詞辯論終結前亦均未聲明異議，應視為已同意援引作為證據，又本院審酌前開證據作成時之情況及證據取得過程等節，並無非出於任意性、不正取供或其他違法不當情事，且客觀上亦無顯不可信之情況，堪認為適當，是依刑事訴訟法第159條之5規定，均有證據能力。二、卷附之被告及陳玉婉入出國日期紀錄各1份等書證，均非屬供述證據，皆無傳聞法則之適用，復均無違反法定程序取得之情形，依刑事訴訟法第158條之4規定之反面解釋，均應有證據能力。乙、實體方面：一、訊據被告固坦承於上開時、地，透過共犯林清水之介紹，先至泰國辦理與共犯陳玉婉之結婚手續，再前往臺南縣永康市戶政事務所辦理結婚登記，又前往臺南縣政府警察局外事課辦理共犯陳玉婉之外僑居留證及申請居留證延期之事實，惟矢口否認有何行使使公務員登載不實文書情事，於本院審理時辯稱：伊當時經濟狀況良好，因同居女友欲去日本工作而不願結婚，然伊希望結婚生子，遂透過共犯林清水之介紹與安排，共犯林清水先讓伊看過共犯陳玉婉之照片，伊再前往泰國與共犯陳玉婉結婚，伊僅負擔自己的來回機票錢及泰國住宿費用，其他結婚費用均由共犯林清水負擔，伊則贈送伊的一部機車予共犯林清水以為回報，伊並不認識共犯詹巧薇云云。經查：(一)被告於93年4月3日前往泰國，並於同年月7日與共犯陳玉婉在泰國曼谷市法拉坎農區註冊辦事處登記結婚，取得上開註冊辦事處核發之結婚登記書、結婚證書等文件後，被告即行返臺，並於同年5月19日持經我國駐泰國臺北經濟文化辦事處認證之上開結婚登記書、結婚證書等資料，至臺南縣永康市戶政事務所填寫結婚登記申請書，申請辦理其與共犯陳玉婉之結婚登記，並取得戶籍謄本。迨共犯陳玉婉來臺後，為取得居留身分，被告與共犯陳玉婉於同年6月14日及94年5月5日，均持前開戶籍謄本等資料，先後向臺南縣政府警察局外事課申請核發共犯陳玉婉之外僑居留證及申請居留證延期等情，業據被告供承在卷，並有結婚登記申請書、授權書各1份、結婚登記書、結婚證書各1份（含中文、泰文影本及我國駐泰國臺北經濟文化辦事處認證之資料）、93年6月14日及94年5月5日之外國人居留停留案件聲請表各1份、被告及共犯陳玉婉之入出國日期紀錄各1份、共犯陳玉婉之外僑居留資料查詢1份在卷可按（見警三卷即南市警一刑偵字第0994101517號卷第6至24、33頁）。上開事實，首堪認定。(二)共犯詹巧薇、張晉源等人當時欲找臺灣人與泰國女子結婚，由共犯林清水於報紙上刊登徵人廣告，若應徵者符合與泰國人結婚之條件，便將應徵者介紹予共犯詹巧薇、張晉源等人，共犯林清水可從中獲取1萬元之仲介費，適被告依前開徵人廣告應徵，共犯林清水衡量其條件後告知其可至泰國結婚，其除不用負擔前往泰國之機票及食宿費用外，尚可獲取5至6萬元之報酬，被告應允同意後，共犯林清水將其介紹予詹巧薇、張晉源等人，被告即依指示前往泰國與為了來臺工作且無結婚真意的共犯陳玉婉辦理結婚事宜等情，業據共犯林清水於警詢時證稱：伊登報徵人到泰國結婚，被告看報紙來的，伊便轉介予共犯詹巧薇，由共犯詹巧薇安排後續到泰國結婚之事宜，被告除不用負擔前往泰國機票、食宿等費用，尚可獲取約5至6萬元酬勞，伊則可自共犯詹巧薇獲取約1萬元之仲介費用；伊只有將被告轉介予共犯詹巧薇，並未參與後續被告前往泰國之證照、機票、食宿等相關事宜；被告係因缺錢，為了賺取擔任人頭配偶的佣金5至6萬，並不是真的要與泰國人結婚，共犯陳玉婉係為了來臺灣工作賺錢，亦不是真的要與臺灣人結婚等語（見警三卷第2至3頁）；並於本院審理時具結證稱：當初共犯詹巧薇、張晉源等人欲找男子前往泰國結婚，伊曾刊登「男、女不限、經驗不拘」等內容之徵人廣告，被告見報應徵時，被告係因缺錢才來找伊，伊衡量被告條件後認為其只能利用結婚賺取報酬，伊才向其表示是要辦結婚，伊告知被告可安排其去泰國結婚，其不用負擔食宿及機票等費用，可實拿5至6萬元的報酬，被告同意後，伊將被告介紹予共犯詹巧薇、張晉源，共犯張晉源給付佣金1萬元予伊；伊與被告談論泰國結婚事宜時，伊與被告均不知被告之結婚對象為何人，伊亦未見過與被告結婚之泰國女子，伊僅介紹被告予共犯詹巧薇、張晉源等人，伊並未參予後續之泰國結婚、辦理結婚登記及居留申請等事情；被告曾給伊一部機車，當時被告表示要去別的地方，機車留在臺南無人使用，伊修理使用一段期間後，因再度壞掉便未再使用等語（見本院卷第68頁背面至71頁）。而共犯林清水於93、94年間，因仲介臺灣人民陳益昌、林哲銘、廖震南、陳朝榮、王照明等5人擔任人頭老公與泰國女子假結婚，陳益昌等5人均獲取5至7萬元報酬等情，經本院以95年度簡上字第330號判處有期徒刑7月確定，另共犯詹巧薇於92年間，因與共犯張晉源等人共同仲介臺灣人民莊國寶、林世欽、蔡明峰等3人擔任人頭老公與泰國女子假結婚等情，經本院以99年度簡字第1313號判處有期徒刑4月並減為有期徒刑2月確定，又共犯林清水、詹巧薇因本案被告與共犯陳玉婉辦理假結婚致涉嫌共同行使使公務員登載不實文書犯行部分，經臺灣臺南地方法院檢察官認為與前開95年度簡上字第330號、99年度簡字第1313號論罪科刑部分有連續犯之裁判上一罪關係，故均以99年度偵字第17571、17771號、100年度偵字第4564號為不起訴處分確定，有前開判決書及不起訴處分書各1份在卷可按，堪認共犯林清水、詹巧薇、張晉源確曾仲介或安排臺灣男子前往泰國與泰國女子假結婚無訛。又被告與共犯林清水並無任何仇怨糾葛，被告尚提供一部機車予共犯林清水使用，衡諸常情，共犯林清水尚無隨意誣指構陷被告之動機，復衡以其於本院中具結後證述上情歷歷，核與其警詢中證述之情節大致相符，苟非親身經歷，尚均無圖陷被告入罪而自行擔負偽證罪責風險之必要，顯見其確係依憑當時親身見聞所為之證述，參以被告於93年4月26日將戶籍遷移寄放至共犯林清水籍設於臺南縣永康市○○路152號之住所，其戶籍遷入目的係為了便利結婚登記之辦理，被告亦依此戶籍地向臺南縣永康市戶政事務所辦理其與共犯陳玉婉之結婚登記等情，業據被告於本院審理時供承伊戶籍寄放於前開住址不諱，及共犯林清水於本院審理時具結證稱：被告將戶籍寄放於伊住所是為了辦理結婚，要拿證件辦理結婚登記比較方便等語（見本院卷第70頁），並有被告及共犯林清水之個人戶籍資料查詢結果各1份、結婚登記申請書1份在卷可佐，而前開95年度簡上字第330號案件中之人頭老公林哲銘亦由共犯林清水提供前開住所供其設籍，並依該戶籍地辦理結婚登記等情，亦據證人林哲銘於警詢時證述明確（見警二卷第19頁），並有證人林哲銘之結婚登記申請書1紙附卷可佐（見警二卷第46頁），益徵被告確係共犯林清水仲介之人頭老公的其中一人甚明。(三)綜上所述，被告與共犯陳玉婉確係假結婚無訛，是被告前開所辯，要屬卸責之詞，殊無可採。本案事證至臻明確，被告上開犯行堪以認定，應予依法論科。二、按被告行為後，刑法業於民國94年2月2日修正公布，並自95年7月1日施行。按行為後法律有變更者，適用行為時之法律，但行為後之法律有利於行為人者，適用最有利於行為人之法律，修正後刑法第2條第1項定有明文。該規定係規範行為後法律變更所生新舊法律比較適用之準據法，是刑法第2條本身雖經修正，尚無比較新舊法之問題，應一律適用裁判時之刑法第2條規定。次按本次刑法修正之新舊法比較，應就罪刑有關之共犯、未遂犯、想像競合犯、牽連犯、連續犯、結合犯、以及累犯加重、自首減輕暨其他法定加減原因（如身分加減）與加減例等一切情形，綜其全部罪刑之結果而為比較，有最高法院95年5月23日95年度第8次刑庭會議決議可資參照。經查：(一)依增訂之刑法施行法第1條之1：「中華民國94年1月7日刑法修正施行後，刑法分則編所定罰金之貨幣單位為新臺幣。94年1月7日刑法修正時，刑法分則編未修正之條文定有罰金者，自94年1月7日刑法修正施行後，就其所定數額提高為30倍。但72年6月26日至94年1月7日新增或修正之條文，就其所定數額提高為3倍。」，是比較修正後刑法施行法第1條之1第2項與罰金罰鍰提高標準條例第1條之結果，因兩者之罰金最高額度相同而無有利不利之情形，自無刑法第2條第1項之適用，應逕依現行有效且具特別法性質之刑法施行法第1條之1的規定。(二)刑法第33條第5款修正為：「主刑之種類如下：五、罰金：新臺幣1000元以上，以百元計算之。」，是依修正後之法律，刑法第335條第1項之侵占罪所得科處之罰金刑最低為新臺幣1000元，而另依修正前刑法第33條第5款及罰金罰鍰提高標準條例第1條前段規定，罰金最低額則為銀元1元折算為新臺幣3元，故比較新舊法之結果，自以修正前刑法第33條第5款規定較有利於被告。(三)刑法第28條修正前規定為：「2人以上共同實施犯罪之行為者，皆為正犯。」，而修正後規定為：「2人以上共同實行犯罪之行為者，皆為正犯。」，是依修正後之規定係將共同正犯限於直接從事構成犯罪事實之行為者，而排除陰謀共同正犯及預謀共同正犯之類型，故修正後共同正犯之可罰性要件之範圍業已限縮。惟本件被告既係直接從事構成犯罪事實之行為，則比較修正前後規定之結果，並無有利或不利之情形，應逕依修正後規定。(四)刑法第56條連續犯之規定於刑法修正後業經刪除，是新法修正施行後，行為人之數犯罪行為便須分論併罰。是該項刪除雖非犯罪構成要件之變更，但已影響行為人刑罰之法律效果，自屬法律有所變更而有比較新舊法之必要。若依舊法之規定，以一罪論而僅加重其刑至2分之1，但若依新法則須分科併罰，經比較之結果，自以修正前刑法第56條對被告較為有利。(五)綜上，本院綜合被告所涉上揭全部罪行之一切情形而為比較，揆諸前揭最高法院決議及刑法第2條第1項前段規定，被告適用行為時即修正前刑法之相關規定，對其較為有利，自應一體適用修正前刑法規定予以處斷。三、論罪科刑：(一)核被告所為，係犯刑法第216條、第214條之行使使公務員登載不實文書罪。被告與共犯林清水、詹巧薇、張晉源等人就上揭犯行，彼此間有犯意聯絡及行為分擔，為共同正犯。被告使公務員登載不實事項於其所掌公文書之低度行為，為行使之高度行為所吸收，不另論罪。被告於93年5月19日、93年6月14日及94年5月5日先後多次行使使公務員登載不實文書之犯行，時間密接，所犯係構成要件相同之罪名，顯係基於概括犯意反覆為之，為連續犯，應依修正前刑法第56條規定論以一罪，並加重其刑。(二)爰審酌被告為圖私利，竟藉由假結婚之方式便利共犯陳玉婉入境居留，損害戶政機關結婚登記及主管機關對於外國人居留管理之正確性，對社會秩序、善良風俗及警政機關對治安之管理均非無潛在之危害，復參酌被告犯後自始否認犯行，未見悔意，及其智識程度、生活狀況等一切情狀，量處如主文所示之刑，以資懲儆。另被告行為後，關於易科罰金之折算標準，依修正前刑法第41條第1項前段及廢止前罰金罰鍰提高標準條例第2條，係以銀元1百元、2百元或3百元，即新臺幣3百元、6百元或9百元折算1日，而依修正後刑法第41條第1項前段規定，則係以新臺幣1千元、2千元或3千元折算1日，故依刑法第2條第1項前段之規定來比較新舊法之結果，應適用修正前之規定較為有利，爰依修正前刑法第41條第1項前段及廢止前罰金罰鍰提高標準條例第2條諭知易科罰金之折算標準。又被告之犯罪時間係在96年4月24日以前，所犯合於中華民國九十六年罪犯減刑條例之減刑條件，應依該條例第2條第1項第3款、第7條及第9條，減其宣告刑2分之1，並諭知易科罰金之折算標準。四、末按連續數行為而犯同一之罪名，均在新法施行前者，新法施行後，應依新法第2條第1項之規定，適用最有利於行為人之法律。部分之數行為，發生在新法施行前者，新法施行後，該部分適用最有利於行為人之法律。若其中部分之一行為或數行為，發生在新法施行後者，該部分不能論以連續犯（最高法院95年度第8次刑事庭會議決議參照，即該決議五數罪併罰之(四)連續犯部分）。查被告涉嫌於96年5月28日及96年9月3日與共犯陳玉婉共同持前開登載不實之戶籍謄本等資料，先後向臺南縣政府警察局外事課申請核發陳玉婉之延期居留等事宜，有96年5月28日及96年9月3日之外國人居留停留案件申請表各1份附卷可憑，被告此部分涉嫌共同行使使公務員登載不實文書犯行，均在95年7月1日刑法修正廢除第56條連續犯規定以後，亦未據檢察官記載於起訴書犯罪事實內，揆諸前開說明，此部分犯行與前開論罪科刑部份無連續犯之裁判上一罪關係，自非本院得審判之範圍，附此敘明之。據上論斷，應依刑事訴訟法第299條第1項前段，刑法第2條第1項前段、第28條、第216條、第214條，修正前刑法第56條、第41條第1項前段，刑法施行法第1條之1，修正廢止前罰金罰鍰提高標準條例第2條，中華民國96年罪犯減刑條例第2條第1項第3款、第7條、第9條，判決如主文。本案經檢察官莊玲如到庭執行職務。中華民國101年1月20日刑事第四庭審判長法官林逸梅法官鄭文祺法官莊政達以上正本證明與原本無異。如不服本判決應於收受本判後10日內向本院提出上訴書狀，並應敘述具體理由。其未敘述上訴理由者，應於上訴期間屆滿後20日內向本院補提理由書狀（均須按他造當事人之人數附繕本）「切勿逕送上級法院」。書記官吳昕韋中華民國101年2月1日附錄本案論罪科刑法條：中華民國刑法第214條（使公務員登載不實罪）明知為不實之事項，而使公務員登載於職務上所掌之公文書，足以生損害於公眾或他人者，處3年以下有期徒刑、拘役或5百元以下罰金。中華民國刑法第216條（行使偽造變造或登載不實之文書罪）行使第210條至第215條之文書者，依偽造、變造文書或登載不實事項或使登載不實事項之規定處斷。', '一、緣甲○○於民國100年11月1日上午7時許，在臺南市北安橋路旁拾得可發射子彈具有殺傷力之槍枝（槍枝管制編號：0000000000號）後持有之，並於100年11月6日主動向員警坦承犯行而自首接受裁判。甲○○竟於本院審理該案（100年度訴字第1635號）時編造其母楊陳敏於100年11月1日經急診住院接受治療，其係為照顧住院之母親楊陳敏才遲延報繳槍枝之情節，辯稱其無持有可發射子彈具有殺傷力槍枝之犯意。甲○○為取信於法院乃基於行使偽造私文書之犯意，於100年11月6日至101年1月12日間某日在不詳地點，偽刻奇美醫療財團法人奇美醫院（下稱奇美醫院）、院長邱仲慶及醫師甲○○之印章各1顆，再偽造如附表編號四所示診斷證明書（下稱系爭診斷證明書）提出於本院（收件日期為101年1月12日），表示系爭診斷證明書記載之內容業經認證屬實之意，足以生損害於奇美醫院、邱仲慶、甲○○及國家司法權行使之正確性。嗣本院於該案審理中函詢奇美醫院發覺有異，始循線查悉上情。二、案經臺灣臺南地方法院檢察署檢察官簽分後偵查起訴。理由一、訊據被告甲○○矢口否認有前揭行使偽造私文書之犯行，辯稱：其去奇美醫院申請的診斷證明書就是這樣，沒有偽造如附表所示之印章及診斷證明書云云。惟查：(一)被告於100年12月21日於他案（本院100年度訴字第1635號）具狀陳稱：其因照顧急診住院之母親而遲延報繳槍枝，實無持有可發射子彈具有殺傷力槍枝之犯意云云，復向本院提出如附表所示診斷證明書以為佐證（收文日期：101年1月12日）等情，有被告於該案提出之刑事答辯狀2份、診斷證明書1紙在卷可佐（見本院100年度訴字第1635號刑事卷宗第1宗第16頁至第18頁、第32頁至第35頁），足堪認定。然被告之母楊陳敏於100年11月1日至100年11月7日間，無前往奇美醫院急診或門診之就診紀錄，亦有三親等資料查詢結果表、奇美醫院101年2月14日(101)奇醫字第0608號函暨所附病歷、行政院衛生署中央健康保險局（現改制為衛生福利部中央健康保險署）101年6月1日健保南字第0000000000號函暨所附就醫紀錄明細表各1份在卷可稽（見臺灣臺南地方法院檢察署102年度他字第1857號偵查卷宗第27頁、本院100年度訴字第1635號刑事卷宗第1宗第92頁至第117頁、第2宗第5頁至第7頁），可知被告之母楊陳敏於100年11月1日並未前往奇美醫院急診。(二)被告向本院提出之系爭診斷證明書固可逼真，惟相較於卷附真正之診斷證明書病歷資料，系爭診斷證明書上奇美醫院、邱仲慶、甲○○之印章，與真正之印章於字體及文字大小均有些微差異，系爭診斷證明書之格式及字樣與真正之診斷證明書復不相同，有奇美醫院101年6月4日(101)奇醫字第2594號函暨所附病歷在卷可憑（見本院100年度訴字第1635號刑事卷宗第2宗第2頁至第3頁、第13頁）。何況奇美醫院未曾核發系爭診斷證明書，亦有奇美醫院101年5月9日(101)奇醫字第2140號函暨所附病歷在卷可考（見本院100年度訴字第1635號刑事卷宗第1宗第186頁至第187頁）。被告向本院提出之系爭診斷證明書顯係偽造無訛。(三)再參被告於他案辯稱：其於100年11月1日深夜即100年11月2日清晨，忽然接到電話通知其母楊陳敏再度中風，其心急如焚而立即趕往奇美醫院照料並在加護病房守候數日，俟其母楊陳敏因病情獲得控制轉至普通病房，才抽空將拾獲之槍枝向治安單位說明云云（見本院100年度訴字第1635號刑事卷宗第1宗第33頁），核與系爭診斷證明書上所載：「……民國100年11月01日00：25病人於急診就診，於11月06日14：25轉至加護病房治療……」不符，益徵被告係為脫卸其非法持有可發射子彈具殺傷力槍枝之責，始虛構前開急診住院之情節並偽造系爭診斷證明書。蓋因被告前揭所辯情詞及系爭診斷證明書若確屬實，急診日期應記載為「100年11月2日」而非「100年11月1日」，轉送治療之處亦應記載為「普通病房」而非「加護病房」，否則被告苟於100年11月1日凌晨0時25分許，已經趕至奇美醫院照護守候其母楊陳敏而未離開，被告當無可能於當上午7時許在臺南市北安橋路旁拾得前開槍枝，又被告之母楊陳敏苟於100年11月6日下午2時25分許才轉至加護病房，被告亦無可能於100年11月6日主動向員警坦承犯行前，即已於奇美醫院加護病房守候其母楊陳敏數日。上述明顯之瑕疵益證系爭診斷證明書確係偽造而成。(四)被告於100年11月6日始主動向員警坦承持有前開槍枝，於該日前尚無偽造系爭診斷證明書之需要及動機，應可排除被告於100年11月6日前著手為本件犯行之可能，而本院既係於101年1月12日收到系爭診斷證明書，系爭診斷證明書當應於101年1月12日以前即已偽造完成。(五)綜上所述，被告所辯無非飾卸之詞，委無可採。本案事證明確，被告犯行堪以認定，應依法論科。二、蓋用私立奇美醫院及該院院長與醫師之印章所製作診斷證明書，係表示醫師之判斷意見及診斷證明書上記載事項業經認證之意，應屬私文書。被告偽造系爭診斷證明書以表示其記載內容經認證屬實，藉此使他人認為系爭診斷證明書所載之內容，經邱仲慶代表奇美醫院暨甲○○以本人名義認證屬實，足以生損害於奇美醫院、邱仲慶、甲○○；被告持系爭診斷證明書向本院行使，企圖使本院採信其因照護母親楊陳敏而遲延報繳槍枝之辯詞，足以生損害於國家司法權行使之正確性。核被告所為，係犯刑法第216條、第210條之行使偽造私文書罪。被告偽刻如附表編號一至編號三所示之印章，持之偽造如附表編號四所示之印文及診斷證明書，其偽造印章及印文均屬偽造私文書之部分行為；又被告偽造系爭診斷證明書後持之向本院行使，偽造私文書之行為應為行使偽造私文書之高度行為所吸收，均不另論罪。檢察官雖未起訴被告偽造如附表編號一所示印章、偽造如附表編號四所示「奇美醫療財團法人奇美醫院證明用章」之印文，惟該部分犯行與已起訴部分犯行有實質上一罪關係，自為起訴效力所及而得由本院併予審理。被告前因違反兒童及少年性交易防制條例等案件，經臺灣高等法院臺南分院分別以91年度少連上訴字第1355號刑事判決，判處有期徒刑3年9月併科罰金新臺幣（下同）110,000元，以91年度上訴字第323號刑事判決判處有期徒刑7月確定，又經本院以91年度易字第843號刑事判決判處有期徒刑7月（經臺灣高等法院臺南分院以91年度上易字第1197號刑事判決駁回上訴確定），嗣經法院裁定部分減刑及定應執行有期徒刑4年2月併科110,000元確定（臺灣高等法院臺南分院96年度聲減字第505號），於92年2月20日入監服刑至執畢日期96年7月16日（易服勞役期間為96年7月16日至96年11月14日），有臺灣高等法院被告前案紀錄表1份在卷可佐，其於5年以內故意再犯本件有期徒刑以上之罪，為累犯，應依刑法第47條第1項加重其刑。爰審酌被告教育程度不高且無子女需要扶養，入監執行前月收入約20,000元至30,000元，為飾卸刑責竟行使偽造系爭診斷證明書，企圖取信於法院而為其無罪之判決，足以生損害於奇美醫院、邱仲慶、甲○○及國家司法權行使之正確性，罪證確鑿猶矢口否認且未見悔意等一切情狀，量處如主文所示之刑。偽造如附表編號一至編號三所示之印章雖未扣案，但無證據證明已滅失，另偽造如附表編號四所示「奇美醫療財團法人奇美醫院證明用章」、「奇美醫院院長邱仲慶（乙）」、「急診醫學科甲○○診斷書用」之印文，不問屬於犯人與否，均依刑法第219條之規定宣告沒收。系爭診斷證明書經被告提出於本院而行使，非屬被告所有之物，爰不予宣告沒收。據上論斷，應依刑事訴訟法第299條第1項前段，刑法第216條、第210條、第47條第1項、第219條，判決如主文。本案經檢察官李宗榮到庭執行職務。中華民國102年11月5日刑事第五庭審判長法官包梅真法官陳淑勤法官陳谷鴻以上正本證明與原本無異。如不服本判決，應於收受判決後10日內向本院提出上訴書狀，並應敘述具體理由；未敘述上訴理由者，應於上訴期間屆滿後20日內向本院補提理由書（均須按他造當事人之人數檢附繕本）。告訴人或被害人如對本判決有不服者，得具備理由請求檢察官上訴。書記官林幸萱中華民國102年11月7日【附表】', '及理由一、犯罪事實：白秋霖與泰國籍女子WANGMONTRIDOKMAI（中文姓名白雪蘭，另為職權不起訴處分）均明知並無結婚之真意，為使WANGMONTRIDOKMAI得以結婚方式居留在臺灣地區工作，共同基於使公務員登載不實文書之概括犯意聯絡，於民國93年10月29日，至泰國曼谷，辦理假結婚手續，並在泰國取得不實之結婚證明書等相關資料，由白秋霖於同年11月18日，前往臺中縣沙鹿鎮戶政事務所，持上開結婚證件，申請辦理結婚戶籍登記，使該戶政事務所不知情之承辦人員將白秋霖與WANGMONTRIDOKMAI間虛偽辦理結婚之不實事項，登載於職務上掌管之戶籍登記資料之電子資訊檔案紀錄、戶籍謄本等公文書，足以生損害於戶政機關對於戶籍登記事項管理之正確性。白秋霖明知上開婚姻係虛偽婚姻，於94年3月30日具狀向本院訴請離婚，經本院以94年度家訴字第92號判決離婚後，於94年7月7日，前往臺中縣沙鹿鎮戶政事務所，辦理離婚登記，使該戶政事務所不知情之承辦人員將白秋霖與WANGMONTRIDOKMAI間虛偽辦理離婚之不實事項，登載於職務上掌管之戶籍登記資料之電子資訊檔案紀錄、戶籍謄本等公文書，足以生損害於戶政機關對於戶籍登記事項管理之正確性。嗣於99年4月6日，因WANGMONTRIDOKMAI逾期居留，為警查獲。二、證據：(一)證人WANGMONTRIDOKMAI、鄭陳旺、白文之證述。(二)卷附之民事起訴狀、擬定書、言詞辯論筆錄、本院94年度家訴字第92號民事判決、結婚登記申請書、結婚證書、戶籍資料查詢結果。(三)被告白秋霖之自白。三、本件經檢察官與被告於審判外達成協商之合意且被告已認罪，其合意內容為：被告願受科刑範圍為有期徒刑6月，減為有期徒刑3月，緩刑2年之宣告。經查，上開協商合意並無刑事訴訟法第455條之4第1項所列情形之一，檢察官聲請改依協商程序而為判決，本院爰不經言詞辯論，於協商合意範圍內為協商判決，合予敘明。四、應適用之法條：刑事訴訟法第455條之4第2項、第455條之8，刑法第2條第1項、第216條、214條、第74條第1項第1款、修正前刑法第28條、第56條、第41條第1項，刑法施行法第1條之1，修正前罰金罰鍰提高標準條例第2條，中華民國96年罪犯減刑條例第2條第1項第3款、第7條、第9條。五、附記事項：被告願支付新臺幣6萬元予台中市政府教育局（業於100年3月25日繳納）。六、本判決除有刑事訴訟法第455條之4第1項第1款、第2款、第4款、第6款、第7款所定情形之一，或違反同條第2項規定者外，不得上訴。七、如有上開得上訴情形，應於收受送達後10日內向本院提出上訴書狀（應敘述具體理由並附繕本）。上訴書狀如未敘述理由，應於上訴期間屆滿後20日內補提理由書於本院。中華民國100年3月28日刑事第十一庭法官林慧英以上正本證明與原本無異。書記官陳玲誼中華民國100年3月28日附錄論罪科刑法條刑法第216條行使第210條至第215條之文書者，依偽造、變造文書或登載不實事項或使登載不實事項之規定處斷。刑法第214條明知為不實之事項，而使公務員登載於職務上所掌之公文書，足以生損害於公眾或他人者，處3年以下有期徒刑、拘役或5百元以下罰金。', '一、陳勝裕為陳阿仁（前於民國99年11月17日死亡）之孫，林柏丞為執業代書。陳勝裕、林柏丞均明知陳阿仁並未於99年8月27日將其所有坐落高雄市○○區○○段地號1032-2號、1038號土地（下合稱本件土地）以新臺幣（下同）387萬6,700元售予陳勝裕之事實，亦自始無出售本件土地之真意，渠2人竟與陳阿仁（因已歿未據起訴）共同基於使公務員登載不實之犯意聯絡，由陳阿仁及陳勝裕檢附上蓋有2人印文之本件土地所有權買賣移轉契約書為附件，連同土地登記申請書委由林柏丞於99年9月6日以「買賣」為原因，向高雄市政府地政局岡山地政事務所（下稱岡山地政事務所）遞件申請將本件土地所有權由陳阿仁移轉登記予陳勝裕所有（同日並辦理抵押權設定），惟因當日附繳文件尚缺前揭1038地號土地最新權狀而未完成所有權移轉，嗣於同年10月12日備齊1038地號土地最新權狀為附件後，本件土地即於翌（13）日以「買賣」為登記原因，移轉所有權並設定抵押權予陳勝裕，足生損害於地政機關對於不動產登記管理及稅務機關核課稅捐之正確性。二、案經陳素珍及陳萬春告發臺灣高雄地方法院檢察署檢察官偵查起訴。理由壹、有罪部分一、按被告以外之人於審判外之言詞或書面陳述，除法律有規定者外，不得作為證據；又被告以外之人於審判外之陳述，雖不符刑事訴訟法第159條之1至第159條之4之規定，而經當事人於審判程序同意作為證據，法院審酌該言詞陳述或書面陳述作成時之情況，認為適當者，亦得為證據；另當事人、代理人或辯護人於法院調查證據時，知有第159條第1項不得為證據之情形，而未於言詞辯論終結前聲明異議者，視為有前項之同意，刑事訴訟法第159條之5定有明文。其立法意旨在於傳聞證據未經當事人之反對詰問予以核實，原則上先予排除。惟若當事人已放棄反對詰問權，於審判程序中表明同意該等傳聞證據可作為證據，基於尊重當事人對傳聞證據之處分權，及證據資料愈豐富，愈有助於真實發現之理念，且強化言詞辯論主義，使訴訟程序得以順暢進行，上開傳聞證據亦均具有證據能力。本判決以下引用之被告以外之人於審判外之言詞或書面陳述，經檢察官、上訴人即被告陳勝裕、林柏丞（下均稱被告）及被告陳勝裕之選任辯護人於準備程序均表示同意作為證據使用（見本院卷第58頁），且迄言詞辯論終結前均未聲明異議，本院審酌此等證據作成時之情況，均無違法不當，且與待證事實具有關聯性，認為以之作為證據應屬適當，爰依刑事訴訟法第159條之5規定，認前揭證據資料均有證據能力。二、事實認定：訊據被告陳勝裕固坦認於本件土地所有權移轉登記申請書、買賣移轉契約書上蓋用自己印鑑，其後委由被告林柏丞辦理本件土地移轉登記事宜；被告林柏丞則承認經辦本件土地所有權移轉及設定抵押權事宜，惟渠2人均矢口否認有何使公務員登載不實文書犯行，被告陳勝裕辯稱：陳阿仁在世時就說土地要給我，辦理過程都是由陳阿仁與林柏丞處理，我僅有去簽名用印，不知為何最後會用「買賣」名義辦理移轉登記云云；其選任辯護人則以：本件土地並非建地，其上無任何建物或自用住宅，根本無原審所指適用自用住宅優惠稅率之問題，陳勝裕確實不知移轉時係以何原因登記。實際上本件土地移轉予陳勝裕性質上較近於附條件贈與，而非假買賣，並無任何規避稅法之違法，另陳阿仁亦無積欠他人債務，故以登記買賣為原因，達成相近於附條件贈與之目的，亦不構成使公務員登載不實之要件等語置辯。被告林柏丞則辯稱：本件土地係陳阿仁與陳勝裕討論後，決定以「買賣」名義移轉所有權，價金以陳勝裕所書立300萬元借據抵付，至於價金餘額87萬元則因陳阿仁認平常生活起居都是陳勝裕在照顧，故陳勝裕無庸支付，雙方談妥上情後再由我偕同辦理，我是確認陳阿仁與陳勝裕要用買賣做原因，才以此事由辦理土地登記，不知道他們實際上是否為贈與；本件土地是農地，依法無須繳納贈與稅，原審認被告陳勝裕是以買賣為原因，藉此得以適用自用住宅優惠稅率課徵土地增值稅，欲規避贈與稅之動機，與稅法未符云云。經查：(一)、本件土地原為陳阿仁所有，經檢附上有陳阿仁印文、署名及被告陳勝裕印文之土地登記申請書與土地所有權買賣移轉契約書，委由被告林柏丞於99年9月6日以「買賣」為原因，向岡山地政事務所遞件申請將本件土地所有權由陳阿仁移轉登記予被告陳勝裕所有（同日並辦理抵押權設定），嗣於同年10月12日備齊1038地號土地最新權狀為附件後，本件土地即於翌（13）日以「買賣」為登記原因，移轉所有權予陳勝裕並設定抵押權擔保債權額300萬元予陳阿仁。於登記完畢19日後，被告陳勝裕單獨於同年11月2日持抵押權塗銷同意書等文件申請辦理本件土地抵押權塗銷事宜，陳阿仁於99年11月17日死亡等情，業據證人陳素珍及陳萬春到庭證述屬實（見原審卷一第56-63頁、第64-68頁），並有岡山地政事務所102年12月16日高市地岡登字第00000000000號函附本件土地申辦所有權移轉及抵押權（塗銷）登記原始文件影本及繼承系統表1份在卷可參（見他7671號卷《下稱B1卷》第5頁、第6-9頁、偵23121號卷《下稱B2卷》第13-19頁），復為被告2人於本院準備程序時所不爭執（見本院卷第57頁），此部分事實洵堪認定。(二)、關於陳阿仁與被告陳勝裕間有無買賣本件土地真意一節，固經被告林柏丞以前詞置辯。然觀諸其於偵查及原審審理中結證稱：當時陳阿仁欲將本件土地贈與給陳勝裕，但怕陳勝裕拿到土地後不照顧他沒有保障，才設定抵押權，後來他們討論後決定用買賣名義過戶並辦理抵押權設定等語（見B1卷第74頁、原審卷(一)第74頁），核與陳勝裕於原審審理時陳稱：陳阿仁表示因我眼睛有問題且未婚，若他過世僅有父執輩可以繼承財產，才將本件土地贈與給我過生活，我並沒有以387萬元購買這2筆土地等語（見原審卷(一)第71頁）；及證人即陳阿仁之子、被告陳勝裕之父陳榮本於原審審理中結證稱：我父親陳阿仁有告訴我，因為陳勝裕一隻眼睛不方便，所以要將兩筆土地移轉給陳勝裕，我不知道本件土地的移轉，陳阿仁與陳勝裕間有無任何金錢往來等語（見原審卷(一)第147-148頁），若合符節。足證本件土地陳阿仁實際上欲以贈與方式，將本件土地移轉所有權予被告陳勝裕乙節甚明。復衡以被告陳勝裕既自承：案發期間我與陳阿仁同住並幫忙其農作，生活費用均由陳阿仁支付，陳阿仁醫療費用是由陳阿仁自行支付，我並未以387萬元金額購買本件土地等語（見原審卷(一)第70至71頁），可見當時被告陳勝裕之經濟生活狀況及主觀意願，其確無買受本件土地之能力及真意。再觀諸本件土地固於99年9月6日連同所有權移轉登記文件併同申請設定抵押權之登記，惟於地政機關10月13日准予前開登記後僅19日，被告陳勝裕旋於同年11月2日以債務清償為由申請塗銷上開抵押權登記，而以被告陳勝裕所陳案發當時資力，實無可能於短期內清償上開為支付買賣價金而向陳阿仁貸借之300萬元借款，益徵雙方移轉本件土地所有權之實際原因並非「買賣」而係「贈與」，且卷附被告陳勝裕所書立借據（見原審卷(一)第48頁）純係為因應買賣名義而虛偽製作無訛。(三)、稱買賣者，謂當事人約定一方移轉財產權於他方，他方支付價金之契約；稱贈與者，則係謂當事人約定，一方以自己之財產無償給與他方，他方允受之契約，民法第345條及第406條分別定有明文，是買賣與贈與之法律性質及效力截然不同。被告林柏丞為執業代書，被告陳勝裕30餘歲之成年人，對於該等法律關係之成立與法律效果，自屬知之甚稔。被告林柏丞雖辯稱以買賣作為登記原因係陳阿仁等人之決定，並有檢附相關支付價金證明云云，然審諸渠既擔任執業代書，對於稅捐相關法規及土地交易流程本即知之甚詳，而果如渠所述陳阿仁自始即慮及己身晚年生活有所保障，始另設定抵押權之詞為真，當可知陳阿仁本可保有本件土地所有權並以其他方式使用收益，斷無大費周章、多此一舉先將本件土地以買賣之方式售予被告陳勝裕，復於其上設定抵押權防止被告陳勝裕任意處分之理，是被告林柏丞此部分所辯即與常情有悖。被告林柏丞既清楚知悉陳阿仁實欲將本件土地贈與被告陳勝裕，業如前述，最終卻以「買賣」為登記原因送件，其主觀上對於上開「買賣」原因關係乃不實事項之情即有所認知，而對於此部分犯行亦同有犯意聯絡及行為分擔，洵堪審認。被告陳勝裕固辯稱：我僅負責於文件上簽名用印，並不清楚辦理過程及為何最終以「買賣」作為登記原因云云。然審諸被告陳勝裕既自始知悉與陳阿仁間並無買賣本件土地之真意，復參以共同被告林柏丞於原審審理時證稱：陳阿仁及陳勝裕前來委託代辦所有權移轉登記時，我有向渠等解釋買賣及贈與程序之異同等語明確（見原審卷(一)第76至77頁）。再者，被告陳勝裕雖眼部稍有缺陷，然依其歷次受訊問時所陳述內容觀之，並無礙於日常生活目視周遭事物之能力，其視力所及之範圍，亦無影響其判斷力之虞，且其既為智識正常之成年人，端無親自於已勾選登記原因為「買賣」之土地登記申請書及「土地所有權買賣移轉契約書」上蓋用印文，卻對於該文件所表彰內容毫無所悉之理。況徵諸林柏丞已證稱有向被告陳勝裕介紹買賣與贈與交易異同，嗣經被告陳勝裕及陳阿仁共同決定以買賣為登記名義乙節，核與事實相符而堪予採認。基此足認被告陳勝裕非僅於相關文書上簽名用印，且確有參與以「買賣」為移轉登記原因之意思形成過程無訛。故被告陳勝裕辯稱：不知為何最後會用「買賣」名義辦理移轉登記云云、其選任辯護人以：被告陳勝裕確實不知移轉時係以何原因登記云云、被告林柏丞辯稱：我是確認陳阿仁與陳勝裕要用買賣做原因，才以此事由辦理土地登記，不知道他們實際上是否為贈與云云，均核與事證未合，難認為可採。(四)、按刑法第214條使公務員登載不實罪之成立，須一經他人之聲明或申報，公務員即有登載之義務，並依其所為之聲明或申報予以登載，而屬不實之事項者，始足構成，最高法院73年台上字第1710號判例可資參照。又地政機關辦理土地所有權移轉登記時，僅須審核形式上之要件是否具備即足，對於土地所有權移轉之實質上是否真正，並無審認之責，倘行為人明知所申辦之土地所有權移轉登記，實質上並非真正，仍以該不實之事項向地政機關申辦登記，使地政機關承辦之公務員登載於職務上所掌之相關公文書內，自與上開犯罪構成要件相當（最高法院95年度台非字第278號判決意旨供參）。被告2人明知陳阿仁及被告陳勝裕並無真正買賣本件土地之真意與約定，竟以「買賣」為登記原因推由被告林柏丞檢具相關資料向地政機關申請所有權移轉登記，使地政機關不知情之公務員將上開不實事項登載於職務上所掌之公文書上，已足生損害於地政機關對於不動產登記管理之正確性，渠2人此舉自已符合刑法第214條要件無訛。(五)、本件土地地目分屬田地及旱地，無須繳納土地增值稅，另因核定價額共計2,099,500元，依遺產及贈與稅法第22條之規定，應可自每年贈與總額中減除免稅額220萬元，此有土地所有權、土地增值稅免稅證明書各2份、贈與稅免稅證明書1份在卷可稽（見原審卷(一)第43-44頁、第113頁、本院卷第12頁正反面）。可見被告林柏丞辯稱：本件土地是農地，依法無須繳納贈與稅，原審認被告陳勝裕是以買賣為原因，藉此得以適用自用住宅優惠稅率課徵土地增值稅，欲規避贈與稅之動機，與稅法未符，尚非無稽。似可認本件土地不實登記，對於稅捐機關核課稅捐之正確性未生影響，實則不然。繼查，本件土地實際移轉登記原因應為贈與，倘若據實辦理土地登記，依遺產及贈與稅法第15條第1項第1款及第13條之規定，被繼承人死亡前2年內贈與依民法第1138條及1140條規定之各順序繼承人之財產，應於被繼承人死亡時，視為被繼承人之遺產，併入遺產總額，減除同法第17條、第17條之1規定之各項扣除額及第18條規定之免稅額後之課稅遺產淨額，課徵10%之遺產稅。陳阿仁於本件土地贈與予被告陳勝裕後2年內，即99年11月17日死亡，其若核實向地政機關申請辦理土地贈與登記，依前揭說明，自應將本件土地列入遺產總額，按法定稅率課徵遺產稅（至於是否有應繳納之遺產稅額，則在所不問）。反之，其若以不實之買賣本件土地之原因登記，則非屬上開應視為遺產課稅之法律涵蓋範圍，自足生於損害稅務機關核課稅捐之正確性，甚為灼然。故被告陳勝裕之選任辯護人辯稱：實際上本件土地移轉予陳勝裕性質上較近於附條件贈與，而非假買賣，並無任何規避稅法之違法，另陳阿仁亦無積欠他人債務，故以登記買賣為原因，達成相近於附條件贈與之目的，亦不構成使公務員登載不實之要件云云，自有未合，難謂為可採。(六)、至證人即陳阿仁之子女陳素珍、陳萬春於偵查及原審審理時固均證稱：陳阿仁於99年間身體狀況即已不佳，尚須他人攙扶方能行走，且精神狀況亦不佳，故本件土地係陳勝裕乘陳阿仁病入膏肓之際，恐嚇其辦過戶云云。又被告陳勝裕另涉於99年11月3日利用陳阿仁辨識能力薄弱，對事務不能為合理之分析與利害判斷之際，將陳阿仁所有另33筆土地以公證遺囑程序悉數指定由陳勝裕單獨繼承，經本院以101年度上訴字第868號判決（下稱另案）判處乘機詐欺得利罪有罪確定在案。細繹另案係依據當庭勘驗99年11月3日公證遺囑過程錄影光碟及參酌陳阿仁於該時期病歷資料，綜合判斷陳阿仁斯時辨識能力確屬薄弱。然於本案被告2人均稱：本件土地辦理過戶之際陳阿仁身體狀況仍佳，陳阿仁並自行表示要以「買賣」為移轉登記原因等語，似與前開證人證述及另案之判斷結論有所歧異。本院審酌證人陳素珍及陳萬春均為陳阿仁法定繼承人，而本件土地所有權移轉效力涉及渠等繼承財產之多寡，本與被告陳勝裕利害關係相反，且本案亦係渠等對被告陳勝裕提出偽造文書及竊佔告訴而開始偵查，是該等證人證述是否果與事實相符，仍應調查其他證據以資審認。是參以另案案發時間為99年11月間，距本案初次遞交所有權移轉登記申請書（即同年9月6日）已相隔達2月，期間陳阿仁身體狀況是否始終均維持相同狀態，實非無疑，尚無從徒憑其於另案案發時身體狀況不佳，遽予回溯推認本案案發時依其意識及辨識能力已無從為處分財產之正常判斷。再者，觀諸另案卷附陳阿仁於99年5月至11月在義大醫院就診病歷（見另案影卷偵續字第363號影卷第52頁反面至247頁），陳阿仁雖於99年7月開始於該院有住院紀錄，然亦陸續因病情穩定出院，其中自同年7月31日出院後，直至同年9月17日始再入院，期間亦乏病歷資料可資判斷陳阿仁實際身體狀況，該院更於103年9月24日函稱：陳阿仁除99年9月26日曾因腹痛急診治療，當時昏迷指數為11分而呈嗜睡狀態，經治療後次（27）日已清醒，其餘住院期間並無意識不清或意識時好時壞之紀錄等語明確（見原審卷(一)第198頁），則依上開義大醫院病歷資料尚未足判認陳阿仁於99年8月底至9月6日期間之意識情況為何？此外復無其他積極證據堪認陳阿仁於本案案發時，果如證人陳素珍及陳萬春所稱已意識不清及欠缺辨識能力，進而遭被告陳勝裕恐嚇或逕帶往被告林柏丞執業處所處分其財產，是渠等前開證述難認與事實相符，自無從採為對被告2人不利之認定，附此敘明。(七)、綜上所陳，本案事證已臻明確，被告2人前開犯行洵堪認定，應依法論科。三、論罪科刑：核被告2人所為，均係犯刑法第214條使公務員登載不實罪。渠2人就上開犯行與陳阿仁彼此間有犯意聯絡及行為分擔，均為共同正犯。原審認被告陳勝裕、林柏丞共同犯使公務員登載不實罪，事證明確，據以論罪科刑，固非無見。惟原判決認定被告2人使公務員登載不實之動機，係以買賣為所有權移轉登記名義，可適用自用住宅優惠稅率課徵土地增值稅，而有使公務員登載不實藉以減少稅捐之動機，其論據與卷內之贈與稅免稅證明書、遺產及贈與稅法第13條、第15條第1項第2款之規定未合，已如前二、(五)所述，尚有未恰。被告2人上訴否認犯罪，指摘原判決為不當，固無理由，惟原判決既有上開違誤之處，且據被告2人具體指摘為上訴理由之一，自應由本院予以撤銷改判。爰審酌被告2人前開犯行雖未違背財產所有權人陳阿仁之處分意願，然仍足生損害於地政機關對於不動產登記管理及稅務機關核課稅捐之正確性，所為實屬不該；尤以被告林柏丞身為執業代書，熟知不動產交易實務上此種為求避稅以買賣為名掩藏贈與之實之交易類型有觸法之虞且層出不窮，猶仍實施前開犯行，其可非難性更甚於被告陳勝裕；復衡諸被告2人犯後自始均矢口否認犯行，未見悔意，兼慮及被告2人之犯罪分工情形、智識程度、生活狀況及素行資料（其中被告林柏丞前無論罪科刑前案紀錄，素行良好；另被告陳勝裕則因上述另案經論罪科刑，此外亦無其他前案紀錄，有臺灣高等法院被告前案紀錄表2份在卷可查）等具體行為人責任基礎之一切情狀，分別量處如主文第2、3項所示之刑，並均諭知易科罰金之折算標準，以示懲儆。貳、不另為無罪諭知部分一、公訴意旨另以：被告陳勝裕及林柏丞均明知陳阿仁所有坐落高雄市○○區○○段0000地號土地所有權狀並未由陳阿仁保管且亦未遺失，竟共同基於行使使公務員登載不實文書之犯意聯絡，先於99年9月8日持土地登記申請書及上有陳阿仁署名、內容略謂：立切結書人陳阿仁所有之上開土地所有權狀於99年9月5日遺失屬實，特申請補發，並切結如有不實，致他人權益受損害者，立切結書人願負一切法律責任等旨之切結書（下稱上開切結書），向承辦之岡山地政事務所公務員謊報上開土地所有權狀已遺失而申請補發，使該管機關承辦公務員誤信其前揭土地之所有權狀果已遺失，遂將此不實事項登載於職務上所掌之高雄市政府地政局岡山地政事務所公告，並於同年10月12日補發上開土地之所有權狀予陳阿仁，陳阿仁遂將之作為本件土地所有權移轉登記附繳證件而行使之。因認被告2人此部分涉犯刑法第216條、第214條使公務員登載不實罪及行使使公務員登載不實文書罪嫌。二、犯罪事實應依證據認定之，無證據不得認定犯罪事實；不能證明被告犯罪者，應諭知無罪之判決，刑事訴訟法第154條第2項及第301條第1項分別定有明文。所謂證據，係指足以認定被告確有犯罪行為之積極證據而言，該項證據自須適合於被告犯罪事實之認定，始得採為斷罪資料。苟積極證據不足為不利於被告事實之認定時，即應為有利於被告之認定，更不必有何有利之證據，最高法院29年上字第3105號及30年上字第816號分別著有判例可資參照。三、訊據被告2人均堅詞否認有何起訴書所載此部分使公務員登載不實及行使使公務員登載不實文書犯行，被告陳勝裕辯稱：我只知道陳阿仁有要申請補發權狀，但不清楚1038地號土地所有權狀有無遺失，整個書狀補發手續完全是陳阿仁自行與林柏丞處理，我並未在申請文件上用印等語；被告林柏丞則辯稱：我只是受託辦理本件土地所有權移轉事宜，因原所附1038地號土地所有權狀為88年舊狀，才要求陳阿仁須提供91年新狀，但陳阿仁表示找不到並詢問是否可補發，才請其在申請書上簽名蓋章等語。經查：(一)、就上開公訴意旨所載「行使」使公務員登載不實文書所指涉事實究屬為何？茲依起訴書記載內容略為：岡山地政事務所承辦公務員將1038地號土地所有權狀遺失之不實事項登載於職務上所掌之該所公告，嗣於99年10月12日補發新權狀予陳阿仁，進而使用於本件土地所有權移轉登記附件，地政機關遂於翌日將本件土地以買賣為登記原因移轉所有權予被告陳勝裕等語。另於103年5月21日原審行準備程序時公訴檢察官則當庭補充：陳阿仁及被告2人基於犯意聯絡，推由被告林柏丞持書狀換給申請書及上開切結書申請補發土地所有權狀，認此部分除構成使公務員登載不實罪外，亦構成行使使公務員登載不實文書罪等語（見原審審易卷第37頁），堪認此部分起訴被告2人涉犯刑法第216條、214條之犯罪事實包含「使地政事務所公務員將土地所有權狀遺失之不實事項登載於該所公告後據以行使」之事實，暨「持地政事務所補發之新權狀作為申請本件土地所有權移轉登記附件」之事實，先予敘明。(二)、查本件土地於99年9月6日經送件申請買賣所有權移轉登記時，因其中所附繳之1038地號土地所有權狀（88年岡狀土字第18465號）與該地號土地先前經補發最新權狀（91年岡狀土字第9625號）字號不符，經岡山地政事務所依土地登記規則第56條規定通知補正，其後於同年9月8日經提出上有陳阿仁署名及印文（無被告陳勝裕之署名及印文）之書狀補給登記申請書暨上開切結書連件提出書狀補給申請，岡山地政事務所遂將此情登載於該所公告上，經30日無人提出異議便與本件土地買賣登記部分連件准予登記完畢等情，業有岡山地政事務所前揭102年12月16日函附本件土地申辦書狀換給申請書及上開切結書影本，及同所103年7月22日高市地岡登字第00000000000號函所附書狀補給登記相關資料在卷可參（見原審卷(一)第98-121頁），復為被告2人所不爭執（見原審審易卷第38頁），此部分事實堪予審認，是被告林柏丞前開辯稱：辦理本件土地所有權移轉登記時，發現檢附權狀不符規定乙節，尚非無稽。(三)、按刑法第214條使公務員登載不實罪，係以行為人明知為不實之事項，而使不負實質審查登載內容真實與否職權之公務員登載於職務上所掌之公文書，足以生損害於公眾或他人者為其構成要件。是倘公務員所登載事項不能證明為不實，基於證據裁判主義及無罪推定原則，即不得逕對行為人論以上開罪名。就1038地號土地書狀字號91年岡狀土字第9625號原始所有權狀（下稱91年原權狀），於99年9月8日申請書狀換給之際，是否果有遺失之事實？因上開切結書之名義人陳阿仁已歿而始終未能到庭就此部分為陳述。而其上「陳阿仁」署名及印文部分，茲據被告2人審理時陳稱：係陳阿仁親自簽名蓋印並按捺手印等語（見原審卷(一)第190頁），此外亦無積極證據足認係被告2人所為，且被告陳勝裕亦未於該文書上簽名用印，業如前述，故自書狀換給申請書及上開切結書形式外觀尚無從推認91年原權狀是否確實遺失。再者，起訴書證據清單援引告訴代理人羅庭章律師於偵查中指稱：該權狀並未遺失，實則是在陳素珍手上云云（見B1卷第75頁）。然衡諸告訴代理人並非實際見聞權狀所在狀態之人，至多僅係聽聞證人陳素珍轉述而代為表示意見，而證人陳素珍、陳萬春偵查中始終均未敘及本案91年原權狀所在為何，嗣於原審準備程序時告訴代理人則稱：因陳阿仁先前將渠所有其中18筆土地之所有權狀交予陳素珍，本來據陳萬春之印象91年原權狀是由陳萬春保管，可能其搬家時遺失，偵查中並沒有要提告此部分等語（見原審審易卷第38頁）；證人陳素珍更到庭證稱：陳阿仁於99年8、9月間有將18紙土地所有權狀交由我保管，但不包含本件土地（兩筆）權狀，其餘權狀我不清楚何人保管等語；證人陳萬春則證稱：我曾聽聞陳阿仁表示有將18筆土地所有權狀交予陳素珍保管，其餘權狀放在住處金庫，陳素珍亦曾提及陳阿仁有交付權狀之事等語明確（見原審卷(一)第61、66至68頁），是告訴代理人前開所稱本案91年原權狀係由陳素珍保管一節，非僅與其後到庭陳述內容有悖，亦核與證人陳素珍、陳萬春證述不符，已難認此部分指述為真。且綜合上開證據方法亦無從審認陳阿仁究係將本案91年原權狀自行保管或交予陳素珍以外他人代為保管，更遑論是否確有遺失之事實。故依卷內事證既無積極證據證明岡山地政事務所公告所載「本案91年原權狀業已遺失」事項為不實，尚難僅憑上開申請權狀換發程序為本件土地所有權移轉手續之一環，遽為被告2人不利之認定，揆諸上開說明，自無從認定檢察官起訴被告2人此部分涉犯刑法第214條之使公務員登載不實罪嫌為真。(四)、公訴意旨所指行使使公務員登載不實文書犯行部分，因岡山地政事務所公告所載「91年原權狀業已遺失」事項並無證據足堪認定為不實，業如前述，自無登載不實之情。則嗣後被告2人雖持補發之1038地號權狀遞交地政機關作為申請本件土地所有權移轉之附件，當不生行使使公務員登載不實文書之問題。是依卷附證據，申請補發1038地號土地權狀之行政程序中，被告2人並無何使公務員登載不實文書之舉，此部分行使使公務員登載不實罪嫌，亦屬不能證明。四、綜前所述，檢察官所述上開犯罪事實及所憑證據，俱難證明被告2人就申請補發1038地號土地所有權狀乙節，涉有使公務員登載不實及行使使公務員登載不實文書犯行，當不得遽為不利於渠等之認定。惟此部分與渠等上揭使公務員登載不實有罪部分（即以「買賣」為原因申請移轉所有權登記部分），既據起訴書記載為申請移轉所有權登記之中間過程而概括論以行使使公務員登載不實文書一罪，爰不另為無罪之諭知。據上論結，應依刑事訴訟法第369條第1項前段、第364條、第299條第1項前段，刑法第28條、第214條、第41條前段，刑法施行法第1條之1第1項、第2項前段，判決如主文。本案經檢察官蔡國禎到庭執行職務。中華民國104年6月25日刑事第八庭審判長法官李炫德法官李嘉興法官李代昌以上正本證明與原本無異。不得上訴。中華民國104年6月25日書記官陳昱光附錄本件判決論罪科刑法條：中華民國刑法第214條明知為不實之事項，而使公務員登載於職務上所掌之公文書，足以生損害於公眾或他人者，處3年以下有期徒刑、拘役或5百元以下罰金。', '一、謝麗華自民國80幾年起迄今均擔任苗成企業股份有限公司（下稱苗成公司）之董事長，負責綜理該公司所有業務，對外代表公司，為從事業務之人，並基於業務關係而掌有苗成公司股東名冊。其與施東益係姨甥關係，施東益自97年1月23日起即在苗成公司任職，直至102年8月31日以業務副總一職離職。謝麗華在施東益任職期間，為留任施東益為苗成公司招攬業務，遂於99年7月12日、100年7月28日，在苗成公司辦理每股新臺幣（下同）1,000元現金增資未發行實體股票時，自行出資以施東益名義繳納300萬元、350萬元之增資股款，以此方式將苗成公司上開增資股份3,000股、3,500股登記在施東益名下為施東益所有，使施東益成為苗成公司股東，並將此情登載在苗成公司99年7月12日、100年7月28日股東名冊上。詎施東益離職後，謝麗華欲取回上開登記在施東益名下之股份，明知其不知情成年子女兒媳與施東益間，並無買賣交易施東益上開苗成公司股份6,500股，卻囑不知情苗成公司成年員工於102年11月6日，在財政部國稅局網站填載施東益，以每股777元，價金各為1,243,200元、1,243,200元、1,320,900元、1,243,200元，出售登記在施東益名下苗成公司股份1,600股予謝麗華之女賴稚涵、1,600股售予謝麗華之子賴彥邦、1,700股售予謝麗華之子賴彥宏、1,600股售予謝麗華之媳鍾小葳，而由賴稚涵、賴彥邦、賴彥宏、鍾小葳擔任代徵人等內容之102年度證券交易稅一般代徵稅額繳款書（賴稚涵、賴彥邦、賴彥宏、鍾小葳對此不知情，但有概括授權謝麗華處理名下股份），並於列印後持往臺灣中小企業銀行彰化分行（下稱臺企銀彰化分行），繳納該等證券交易稅。嗣謝麗華並於同日基於業務上登載不實文書之犯意，命不知情苗成公司之成年員工張淑燕將該等已繳納完畢之102年度證券交易稅一般代徵稅額繳款書持交代辦苗成公司會計事務之鼎信聯合會計事務所，由鼎信聯合會計事務所不知情成年員工將上開不實交易過戶股份之資料即賴稚涵增加持股1,600股至10,600股、賴稚涵增加持股1,600股至10,600股、賴彥宏增加持股1,700股至10,200股、鍾小葳增加持股1,600股至5,600股，而施東益出脫全部持股已非苗成公司股東一情，登載在苗成公司102年11月6日股東名冊上，足生損害於施東益以及苗成公司管理股份資料之正確性，嗣財政部中區國稅局彰化分局通知施東益就上開股份交易申報所得，施東益始悉上情。二、案經施東益訴由臺灣彰化地方法院檢察署檢察官偵查起訴。理由一、證據能力部分：(一)按被告以外之人於審判外之言詞或書面陳述，屬傳聞證據，原則上不得作為證據；惟按被告以外之人於審判外之陳述，雖不符刑事訴訟法第159條之1至第159條之4之規定，而經當事人於審判程序同意作為證據，法院審酌該言詞陳述或書面陳述作成時之情況，認為適當者，亦得為證據，刑事訴訟法第159條第1項、第159條之5第1項分別定有明文。是檢察官、被告及其辯護人均就後述被告以外之人於審判外陳述之傳聞證據，於本院審理時均明示同意有證據能力（本院卷第50-54頁），本院審酌上開證據作成時之情狀，並無違法或不當等情形，且與本案相關之待證事實具有關聯性，認為以之作為本案之證據亦屬適當，認均應有證據能力。(二)至本判決其餘所依憑判斷之非供述證據，本院亦查無有何違反法定程序取得之情形，且與本案相關之待證事實亦具有關聯性，並均經本院於審判期日依法進行證據之調查、辯論，被告於訴訟上之防禦權，已受保障，故該等證據資料亦均有證據能力。二、認定犯罪事實所憑證據及理由：訊據被告謝麗華固坦承其為苗成公司董事長，施東益為其外甥並自97年1月底起在苗成公司任職至102年8月31日止。另其於99年7月12日、100年7月28日，自行出資300萬元、350萬元，以施東益名義繳納苗成公司增資股款，並將增資取得之股份各3,000股、3,500股登記在施東益名下，並登載在苗成公司99年7月12日、100年7月28日股東名冊上。又施東益離職後，賴稚涵、賴彥邦、賴彥宏、鍾小葳雖未向施東益購買上開股份，但其有囑苗成公司成年員工，將渠等間買賣填載在102年度證券交易稅一般代徵稅額繳款書後繳款，並將該繳款書交付鼎信聯合會計事務所成年員工將上開交易過戶股份之資料登載在苗成公司102年11月6日股東名冊上等事實，惟矢口否認有何業務登載不實之犯行，辯稱：其係借用施東益名義繳納300萬元、350萬元股款，並將該增資取得之苗成公司股份3,000股、3,500股再借用施東益名義登記其名下，目的係為使施東益代表苗成公司對外談生意較為容易，而非贈與施東益，施東益係事後才知此事。又施東益離職後一直以電話催促並追問張淑燕，其名下股份要趕快過一過，其經由張淑燕告知後，始會將施東益名下6,500股以買賣為原因移轉至其子女兒媳名下，並將上開交易過戶股份之資料登載在苗成公司102年11月6日股東名冊上等語。辯護人則為被告辯護略以：謝麗華上開出資就苗成公司增資所取得之3,000股、3,500股雖登記在施東益名下，但非贈與施東益，更非施東益技術入股取得，謝麗華始為該6,500股份真正所有權人，縱其未經施東益同意，未將該6,500股屬施東益所有一情，登載在苗成公司102年11月6日股東名冊上，亦不損及施東益任何權利。另施東益離職後，因認其名下有苗成公司上開股份，須負擔苗成公司之虧損，持續催促謝麗華過戶，謝麗華始在施東益催促且不違背施東益意思下，辦理該等6,500股過戶予其子女兒媳等語。經查：(一)被告為苗成公司之董事長與告訴人為姨甥關係，告訴人於97年1月23日起即在苗成公司任職，直至102年8月31日以業務副總一職離職。又被告於99年7月12日、100年7月28日，在苗成公司辦理現金增資時，自行出資以告訴人名義各繳納300萬元、350萬元現金股款，告訴人名下因此登記有苗成公司股份3,000股、3,500股，而成為苗成公司股東，被告並將此情登載在苗成公司99年7月12日、100年7月28日股東名冊上。又告訴人離職後，被告明知其子女兒媳並無向告訴人買受該6,500股，卻囑不知情之成年員工，在財政部國稅局網站填載將告訴人名下苗成公司股份1,600股售予賴稚涵、1,600股售予賴彥邦、1,700股售予賴彥宏、1,600股售予鍾小葳，並列印該等102年度證券交易稅一般代徵稅額繳款書後，持往臺企銀彰化分行繳納，復於同日命張淑燕將該等已繳納之證券交易稅繳款書交由鼎信聯合會計事務所，將該等交易過戶股份之資料登載即賴稚涵增加持股1,600股至10,600股、賴稚涵增加持股1,600股至10,600股、賴彥宏增加持股1,700股至10,200股、鍾小葳增加持股1,600股至5,600股，而告訴人出脫全部持股已非苗成公司股東，在苗成公司102年11月6日股東名冊上等情，業據被告於偵查及本院審理時坦承不諱（他卷(一)第19-21頁、他卷(二)第75-78頁、偵卷第7、22、23、72-74頁、本院卷第48、49、108-110頁）、核與證人即告訴人於偵查及本院審理時（他卷(一)第19-21頁、他卷(二)第75-78頁、偵卷第22、23、72-74頁、本院卷第85-95頁）、證人黃素絹即鼎信聯合會計事務所會計師於偵查時（他卷(二)第42-44、75-78頁）、證人張淑燕即苗成公司會計於偵查及本院審理時（他卷(二)第76-78頁、本院卷第100-105頁）、證人柯碧招即苗成公司採購部經理於偵查時（他卷(二)第75、76頁）之具結證述相符，復有經濟部中部辦公室104年5月12日經中三字第000號函附苗成公司於99年7月12日、100年7月28日辦理每股1,000元現金增資之苗成公司變更登記申請書、變更登記表、股東常會議事錄、股東臨時會議事錄、董事會議事錄、董事會簽到簿、公司章程、施麗華聲明自行增資認股之聲明書、增加資本發行新股登記資本額查核報告書、資產負債表、會計科目試算表、增資股東繳納現金股款明細表、臺灣企銀彰化分行存摺正反面暨內頁交易明細表、苗成公司委託黃素絹擔任增資登記資本查核簽證會計師等資料（他卷(一)第24-58頁）；被告設立於臺灣企銀彰化分行存摺正反面暨內頁交易明細表（他卷(二)第7、8、11、12頁）；苗成公司99年7月12日、100年7月28日股東名冊記載施東益為苗成公司股東且持有股份為3,000股、6,500股（偵卷第13頁），可見苗成公司於99年7月12日、100年7月28日辦理每股1,000元現金增資時，確由被告以告訴人名義出資繳納300萬元、350萬元現金股款，並在苗成公司99年7月12日、100年7月28日股東名冊上記載告訴人因上開增資而為苗成公司股東，並持有3,000股、3,500股；施東益於102年8月31日自苗成公司離職之辭離職申請書（他卷(二)第38頁），可見告訴人於97年1月23日起即在苗成公司任職，直至102年8月31日以業務副總一職離職；財政部中區國稅局104年7月9日中區國稅一字第000號函、104年7月29日中區國稅三字第000號函、財政部中區國稅局彰化分局104年7月30日中區國稅彰化綜所字第000號函附苗成公司102年度公司股東股份轉讓即施東益將其名下股份1,600股售予賴稚涵、1,600股售予賴彥邦、1,700股售予賴彥宏、1,600股售予鍾小葳之102年度證券交易稅一般代徵稅額繳款書、苗成公司股份轉讓通報表、財政部中區國稅局彰化分局通知施東益就上開股份交易所得申報之通知書等件（他卷(二)第59、60、54、62頁），可知該等102年度證券交易稅一般代徵稅額繳款書記載告訴人名下股份1,600股售予賴稚涵、1,600股售予賴彥邦、1,700股售予賴彥宏、1,600股售予鍾小葳，並已在臺企銀彰化分行繳納該等證券交易稅，而苗成公司向財政部中區國稅局通報該等股份轉讓一事，財政部中區國稅局彰化分局通知告訴人就上開股份交易所得為申報，是此部分事實堪以認定。(二)被告於本院審理稱：苗成公司在95年前生意不錯，但95年度因漆彈代工遭大陸公司搶單營業額突然下降，另在施東益任職苗成公司前，苗成公司未與德律科技股份有限公司（下稱德律公司）為交易，97年起德律公司業務，均係施東益所招募，99年度德律公司營業額已占苗成公司20幾%，100年度又提高占了39%，101年度又比100年度39%更高，但102年沒有很高，而德律公司為上市公司，均有照實付款等語（本院卷第48頁反面、第49頁正面），核與被告所提93年至100年苗成公司與德律科技公司（下稱德律公司）全年營業額表觀之（偵卷第69頁），可知苗成公司於93年至96年與德律公司間並無任何交易，而全年營業額各為156,658,794元、102,140,474元、62,914,594元，至97年、98年苗成公司全年總營業額為43,129,247元、79,782,468元，雖與德律公司有交易但全年營業額僅各為1,013,730元、1,444,211元，僅占苗成公司該等年度總營業額2.4%、1.8%，然自99年、100年苗成公司與德律公司交易金額即大幅提升至各為23,744,350元、42,625,282元，而苗成公司該等年度總營業額各為109,067,839元、108,453,886元已占苗成公司該等年度總營業額21.8%、39.3%等一致，再參以97年至100年苗成公司財務報表以及與德律公司交易發票（外放卷宗外），可見苗成公司於告訴人任職之97年度全年營業額已降至93年度以來之最低，後自告訴人任職後足年增加，而告訴人所招募之德律公司營業額從百萬元足年增加至101年度時已超過5仟萬元，超過苗成公司該年度總營業額39.3%以上，且全部貨款均有收回等情，堪認告訴人自97年1月23日任職在苗成公司起，確實為苗成公司招攬相當程度業務。(三)證人柯壁招即苗成公司採購部經理於偵查時證述：施東益因不滿意其薪水，想要調薪，但謝麗華覺得夠高，故沒理會施東益。另謝麗華自己出資讓施東益當股東，可能是想要留住施東益等語（偵卷第75頁），再參以證人即告訴人於偵查時證述：當初講好苗成公司應支付其每月薪資20萬元，但苗成公司僅支付每月6、7萬元，另被告自己有每月再支付其5萬元等語（偵卷第22頁反面），復佐以被告於偵查時陳述：施東益於100年間曾說有人要給他月薪30萬元及1台500萬元車輛，但苗成公司仍支付施東益每月7萬元，但其另每月支付5萬元予施東益，並買1台300多萬元車輛在施東益名下等語（偵卷第22頁反面），以及被告於本院審理時稱：有向施東益講過要過一些股份給他，但施東益未表示好或不好，2次增資沒有跟施東益說，施東益知道他有股份，但不知有多少等語（本院卷第48頁），以及證人即告訴人於本院審理時證述：被告於99、100年間曾告訴他，他的薪水無法像外面一樣，給他一些苗成公司的股份，到時苗承公司如有賺錢會有分紅，當時有答應，但被告沒有說到是多少股份，其不知道該2次增資等語（本院卷第90頁）。(四)本件告訴人於任職苗成公司期間確能為苗成公司招攬相當程度業務，然被告未應告訴人要求提高其薪資，是以被告為平息告訴人對其薪資不滿，而於99年7月12日、100年7月28日，在苗成公司辦理現金增資時，出資以告訴人名義各繳納300萬元、350萬元現金股款，並將苗成公司股份3,000股、3,500股登記在告訴人名下為告訴人所有，使告訴人成為苗成公司股東，藉此安撫並挽留告訴人繼續為苗成公司服務，而告訴人亦未反對被告以上開方式彌補其薪資，衡諸一般公司經營者以此方式留任對公司有助益之員工，應屬合理。故被告上開出資以告訴人名義各繳納300萬元、350萬元現金股款，並將苗成公司股份3,000股、3,500股登記在告訴人名下，使告訴人成為苗成公司股東之動機及目的，應非僅係為使告訴人代表苗成公司對外談生意較為容易，否則被告僅需將告訴人在苗成公司職位提高即可達成，又何必在告訴人未出資之情況，卻將價值不斐之股份登記在告訴人名下，使告訴人成為苗成公司股東，且又未將被告始為該等股份所有權人一情以字據載明，以杜絕日後紛爭？再告訴人已不滿其薪資，而向被告要求調高薪資，告訴人又為何在被告未應其要求調高薪資之情況下，仍繼續在苗成公司服務？又雖該等股份登記於告訴人名下，依課稅方式應以告訴人為課稅義務人，但被告如為該等股份所有權人時，告訴人上開股份出售被告兒女子媳一事，告訴人因出賣人身分所衍生增加之稅負，理應由被告負擔，但卻未見被告有何負擔該筆稅負之舉止，反而任由告訴人單獨面對財政部中區國稅局彰化分局通知申報該次股份交易所得負擔稅負。從而，被告以上開方式將苗成公司股份登記予告訴人名下為告訴人所有，使告訴人成為苗成公司股東之動機及目的，實係基於安撫告訴人，藉此留任告訴人繼續為苗成公司服務無誤，即使被告自認告訴人離職後，該等股份應返回被告不應繼續登記在告訴人名下時，被告亦應透過民事訴訟機制予以解決，在未透過正當管道解決紛爭前，自不得在未得告訴人同意或授權之情況下轉讓至其名下，更遑論擅自將之以買賣為原因轉讓至其子女兒媳名下。(五)是以，被告明知告訴人與其不知情子女及兒媳間，並無買賣交易登記在告訴人名下上開苗成公司股份6,500股，卻利用不知情鼎信聯合會計事務所成年員工將上開不實交易過戶股份之資料即賴稚涵增加持股1,600股至10,600股、賴稚涵增加持股1,600股至10,600股、賴彥宏增加持股1,700股至10,200股、鍾小葳增加持股1,600股至5,600股，而告訴人出脫全部持股已非苗成公司股東一情，登載在苗成公司102年11月6日股東名冊上，以足使告訴人難以對苗成公司行使股東權利，亦損及苗成公司管理股份資料之正確性，難謂無造成告訴人及苗成公司損害之虞，另被告辯護人雖舉被告於102年8月19日書寫與告訴人信函，其中載有股份留著不用處理等語（他字卷(一)11、12頁），欲證明告訴人名下苗成公司股份真正所有權人為被告一情，惟觀諸該信函內容主要係提及被告不捨告訴人自苗成公司離職，並感念告訴人為苗承公司服務多年，僅於文末敘及股份留著不用處理，而文末所敘之股份留著不用處理一語，至多亦只能推論被告要求告訴人留下其名下苗成公司股份，但難以推知被告為該等股份真正所有權人，否則被告在該信函內豈會無隻字片語提及該等股份為其所有，自無法以該信函文末敘及股份留著不用處理一語，即遽以認定告訴人名下苗成公司股份所有權人為被告。是被告及其辯護人上開所辯：被告係為使告訴人代表苗成公司對外談生意較容易之目的，始借用告訴人名義繳納300萬元、350萬元股款，並將該增資取得之苗成公司股份3,000股、3,500股，又借用告訴人名義登記其名下，被告始為真正所有權人以及被告上開過戶一事不影響告訴人任何權利等情，尚無足採。(六)又被告及其辯護人再舉證人張淑燕證言（他字卷(二)76-78頁、本院卷第100-105頁），欲證明告訴人離職後要求證人張淑燕轉告被告將其名下股份過戶他人，被告始在告訴人催促且不違背意思下，辦理該等6,500股過戶予其子女兒媳一情，惟證人張淑燕於偵查時證述：施東益是苗成公司股東，離職後因擔心苗成公司未賺錢，股東要拿錢出來幫忙，故有一直打電話請我向謝麗華講說，要謝麗華將股份處理掉，我都有轉告謝麗華，但施東益沒有具體說要謝麗華如何處理股份的事等語（他字卷(二)76-78頁），另於本院審理時證述：施東益在離職後一直打電話請我向謝麗華講說，要謝麗華趕快將股份處理掉、趕快過過（台語）即過戶，他還有說因為他是股東，苗成公司又賠錢，說不定還要拿錢出來，但施東益沒有無說要用什麼方式移轉，或是要轉給誰，且施東益於電話中亦沒有授權她或謝麗華過戶其名下股份等語（本院卷第100-105頁）。是依證人張淑燕上開證述觀之，告訴人向證人張淑燕表示，要求謝麗華把股份處理掉或趕快過過（台語）即過戶之意一情，應至多僅能證明告訴人深怕其為苗成公司股東，須以股東身分為苗成公司虧損負責，要求被告尋得願意受讓其名下股份之人，但難以推論告訴人有明示或默示同意或授權被告將其苗成公司名下移轉至被告名下，甚至逕以推認以買賣為原因轉讓至被告子女兒媳名下，否則告訴人在電話中為何未向證人張淑燕中表達願將該等股份以何移轉原因移轉至何人名下之意，再告訴人此舉亦可佐證，該等股份是被告借用告訴人名義登記其名下，告訴人非苗成公司股東，被告始為該等股份所有權人一情並非真實，否則告訴人又豈會出現如此擔心會因持有苗成公司股份，而須負擔苗成公司虧損之舉止，是被告自無法以證人張淑燕之證詞，遽為有利其之認定。(七)綜上所述，被告及其辯護人前開所辯，均與現有證據不符，不足採信。本件被告明知告訴人與其不知情子女兒媳間，並無買賣交易告訴人上開苗成公司股份6,500股，卻利用不知情鼎信聯合會計事務所員工將上開不實交易過戶股份之資料即賴稚涵增加持股1,600股至10,600股、賴稚涵增加持股1,600股至10,600股、賴彥宏增加持股1,700股至10,200股、鍾小葳增加持股1,600股至5,600股，而告訴人出脫全部持股已非苗成公司股東一情，登載在苗成公司102年11月6日股東名冊上，足以生損害於告訴人及苗成公司管理股份資料之正確性，應屬業務登載不實，本件事證明確，被告犯行洵堪認定，自應依法論科。三、論罪科刑：(一)被告係苗成公司董事長負責綜理該公司所有業務，對外代表公司，為從事業務之人，而其就苗成公司股東名冊，自係被告業務上所執掌之文書。是核被告就前揭犯罪事實所為，係犯刑法第215條之業務上登載不實文書罪。又被告係利用鼎信聯合會計事務所不知情成年員工為本案業務登載不實犯行，應屬間接正犯。(二)爰依上述與被告犯行有關之證據，以及被告前案紀錄及戶籍資料等，審酌：被告為取回登記在告訴人名下苗成公司股份6,500股之動機及目的，而以上開業務登載不實之犯罪手段為之，並因此造成告訴人及苗成公司受有損害；未有證據顯示為本件犯行時係受刺激；已婚、育有3名成年子女，現與配偶及2名成年子女同住以及為苗成公司董事長之生活狀況；無任何前科之品行；五專畢業之智識程度；自始均否認本件犯行，且未彌補告訴人所受損害等犯罪一切情狀，量處如主文所示之刑，並諭知易科罰金之折算標準。(三)又被告行為後，刑法有關沒收規定已於104年12月17日修正，並經總統於104年12月30日公布，依刑法施行法第10條之3第1項規定，上開修正之刑法條文自105年7月1日施行。其中，修正後刑法第2條第2項規定「沒收、非拘束人身自由之保安處分適用裁判時之法律。」，已明確規範修正後有關沒收之法律適用，應適用裁判時法，無比較新舊法之問題，是本案自應逕行適用裁判時法即修正後刑法總則編第五章之一沒收（即修正後刑法第38條至第40條之2）條文，以為本案被告沒收之依據。又刑法修正後，有關犯罪物之規定，主要規定於修正後刑法第38條第2條至第4項，而修正後刑法第38條第2項至第4項規定「供犯罪所用、犯罪預備之物或犯罪所生之物，屬於犯罪行為人者，得沒收之。但有特別規定者，依其規定。前項之物屬於犯罪行為人以外之自然人、法人或非法人團體，而無正當理由提供或取得者，得沒收之。但有特別規定者，依其規定。前二項之沒收，於全部或一部不能沒收或不宜執行沒收時，追徵其價額。」。被告因業務上所製作之不實苗成公司102年11月6日股東名冊，並非被告所有之物，實係苗成公司所有；而苗成公司並非本案犯罪行為人，且被告係因執行業務關係，致苗成公司取得前揭不實股東名冊，苗成公司取得上開不實股東名冊，尚難認屬無正當理由，故參諸前揭規定，自無庸就前開被告所製作之不實苗成公司102年11月6日股東名冊，併此敘明。據上論斷，應依刑事訴訟法第299條第1項前段，刑法215條、第41條第1項前段，刑法施行法第1條之1第1項、第2項前段，判決如主文。本案經檢察官陳詠薇到庭執行職務。中華民國106年5月15日刑事第六庭法官楊鑫忠以上正本證明與原本無異。如不服本判決應於收受判決後10日內向本院提出上訴書狀，並應敘述具體理由；其未敘述上訴理由者，應於上訴期間屆滿後20日內向本院補提理由書（均須按他造當事人之人數附繕本）「切勿逕送上級法院」。告訴人或被害人對於判決如有不服具備理由請求檢察官上訴者，其上訴期間之計算係以檢察官收受判決正本之日期為準。中華民國106年5月15日書記官陳文新附錄本案論罪科刑法條：刑法第215條從事業務之人，明知為不實之事項，而登載於其業務上作成之文書，足以生損害於公眾或他人者，處3年以下有期徒刑、拘役或5百元以下罰金。']\n",
            "Train Sentences: [120, 240, 180, 135, 120]\n",
            "Test facts: ['○、緣徐鴻光（所涉行使偽造私文書犯行，業經本院以95年度訴字第955號判決處有期徒刑3月、緩刑3年確定）因需款使用，知悉穆立明有借款管道，為求順利借款，2人竟共同意圖為自己不法所有，基於行使偽造私文書及詐欺取財之犯意聯絡，知悉車牌號碼00-000號營業小客車係徐鴻光向志朗交通有限公司（下稱志朗公司）租賃之車輛，竟由穆立明先於不詳時間、不詳地點，偽刻「志朗交通有限公司」及負責人「陳健志」印章（正確姓名為陳建志，誤刻為「陳健志」）各1枚，並偽造「陳健志」代表志朗公司與徐鴻光簽署之「臺北市計程車客運駕駛人自備車輛參與經營契約書」（下稱本案參與經營契約書），虛偽記載徐鴻光提供上述營業小客車靠行志朗公司營業等不實內容，並持上開偽刻印章，偽造「志朗交通有限公司」印文4枚、「陳健志」印文6枚於本案參與經營契約書上，再於92年3月6日交徐鴻光於立約人乙方欄簽名，2人復於同日協同不知情之徐鴻光配偶徐樂仁（所涉行使偽造私文書犯行，業經本院以95年度訴字第955號判決無罪確定），前往臺北市○○區○○街00巷0號2樓王傑生所經營之宏帝當舖（現更名為渣打當舖），由徐鴻光、穆立明交付偽造本案參與經營契約書向宏帝當鋪借款新臺幣（下同）10萬元以為行使，並約定由徐樂仁擔任連帶保證人，王傑生誤信上開車輛為徐鴻光所有而陷入錯誤，於扣除利息後交付9萬1千元借款予徐鴻光夫婦，足以生損害於志朗公司、陳建志、王傑生。嗣因徐鴻光僅清償每期7千元之分期款共11期計7萬7千元，未全額清償即無力負擔債務，王傑生始查知上開車輛非徐鴻光所有，而悉上情。二、案經王傑生訴由臺灣士林地方法院檢察署檢察官偵查起訴。理由○、證據能力部分：被告以外之人於審判外之言詞或書面陳述，除法律有規定者外，不得作為證據；又被告以外之人於審判外之陳述，雖不符合同法第159條之1至第159條之4之規定，但經當事人於審判程序同意作為證據，法院審酌該言詞陳述或書面陳述作成時之情況，認為適當者，亦得為證據。刑事訴訟法第159條第1項及第159條之5第1項分別定有明文。經查，本判決所引用之各該被告以外之人於審判外之陳述，雖屬傳聞證據，然當事人於本院審判期日中均表示同意作為證據方法而不予爭執，且迄至言詞辯論終結前亦未再聲明異議（見本院卷第68頁至第68頁背面），本院審酌上開證據資料製作時之情況，尚無違法不當及證明力明顯過低之瑕疵，亦認為以之作為證據應屬適當，故揆諸前開規定，爰依刑事訴訟法第159條之5規定，認前揭證據資料均有證據能力。二、認定犯罪事實所憑之證據及理由：（一）訊據被告穆立明固坦承有於92年3月6日帶共同被告徐鴻光、徐樂仁至宏帝當鋪借錢，惟矢口否認有何行使偽造私文書及詐欺取財之犯行，辯稱：本案參與經營契約書係由共同被告徐鴻光所提出，徐鴻光知道我在宏帝當舖當業務員，他因資金不夠，要伊帶至宏帝當鋪借錢，伊請徐鴻光帶身分證、本案參與經營契約書，證明計程車係屬於徐鴻光所有，另外要帶一位保人云云。（二）經查，證人即志英交通公司負責人陳建志於檢察官偵查中結證稱：本案參與經營契約書上之「志朗交通有限公司」、「陳健志」之印文均非我公司的大小章，志朗交通公司也是我的公司，我是負責人，但這個章不是我的，被告徐鴻光只是加入無線電台等語（見94年度偵字第8715號卷第45頁），復有其提出真正之志朗交通有限公司及其本人陳建志之印文各4枚在卷可稽（見94年度偵字第8715號卷第48頁），經核卷附本案參與經營契約書上所示之「志朗交通有限公司」、「陳健志」印文（見95年度偵緝字第60號卷第53頁），除二者字體明顯不同外，本案參與經營契約書中「陳健志」名字中之「健」一字顯係錯別字，堪認本案參與經營契約書上所示之「志朗交通有限公司」、「陳健志」印文確屬偽造一節，應可認定。（三）證人即告訴人王傑生於檢察官偵查中證稱：我經營宏帝當鋪，後改名為渣打當鋪，地址在臺北市○○街00巷0號2樓，計程車典當給我們時，我們要看參與經營契約書，被告徐鴻光有來借錢，被告穆立明當時有在場，徐鴻光給我們看本案參與經營契約書，我們就以為車子是徐鴻光的，我們找到車之後才知道車子是車行的，被告穆立明是我們公司抽獎金的業務員，穆立明介紹人來借錢，我給他獎金等語（見94年度偵字第8715號卷第37頁、95年度偵緝字第60號卷第49頁、第68頁），且證人朱庭峰於檢察官偵查中及本院審理時亦結證稱：我是宏帝當鋪的負責人，後來當鋪讓給王傑生，被告徐鴻光到宏帝當鋪借款10萬元，係由我接洽，當時是被告穆立明介紹，穆立明不是公司職員，他會介紹車子到我們公司來典當，我會給穆立明佣金，即我收到1,000元利息，就給他100元，本案參與經營契約書是由穆立明拿出來等語（見95年度偵緝字第60號卷第68頁至第69頁、95年度訴字第955號卷第66頁至第67頁），復有本案參與經營契約書、本票影本各1份附卷可憑（見94年度偵字第8715號卷第14頁至第17頁），足認共同被告徐鴻光係經被告穆立明介紹，持本案參與經營契約書於上開時間前往宏帝當鋪借款10萬元，且被告穆立明於借款時在場之事實，洵堪認定。（四）被告穆立明雖辯稱：本案參與經營契約書係共同被告徐鴻光所提出，伊僅有將徐鴻光帶去當鋪，就由當舖的人接洽云云，惟查，證人即共同被告徐鴻光於本院審理時證稱：因為我當司機收入不高，家裡有需要用錢，被告穆立明說有辦法借錢，我請被告穆立明帶我去借款，被告穆立明有帶我去當鋪，我太太徐樂仁當時有一起陪同，卷附之本票影本係我當時在當鋪簽立，而本案參與經營契約書係被告穆立明幫我準備好的，經我在當舖蓋我的章及簽名，被告穆立明拿給我時契約書已經寫好資料，至於被告穆立明提出本案參與經營契約書之來源我不知道，被告穆立明只有要我帶駕照、行照、身分證及私章，車號00-000號營業用小客車是我用租的車子，車子是志朗公司的車子，本案參與經營契約書內容不是真的，車子不是我自備的，只有契約書末頁乙方的簽名是我簽的等語（見本院卷第64頁至第66頁背面），核與其在檢察官偵查中證稱：被告穆立明有帶我去宏帝當鋪向朱先生借錢，我借10萬元，本案參與經營契約書係被告穆立明幫我準備好的，前面的簽名及資料是被告穆立明簽的，只有最後的簽名是我簽的等語大致相符（見95年度偵緝字第60號卷第48頁至第49頁），再查，參以被告穆立明於本院審理時當庭書寫徐鴻光名字之字跡經與本案參與經營契約書立契約書人一欄所簽署「徐鴻光」之筆跡比對後（見本院卷第73頁），依肉眼觀之，不論字跡之運筆、筆勾等字體外觀，均較為吻合，反觀該契約書頁末之乙方「徐鴻光」之筆跡，與頁首立契約書人一欄所簽署「徐鴻光」之筆跡之運筆及筆勾，字跡明顯不同，是被告穆立明辯稱本案參與經營契約書係由共同被告徐鴻光提出云云，已難採信；又證人徐鴻光於本院審理時證稱：我曾經用上開車輛向別的當鋪借錢，當時別的當鋪說車子用租的也可以借，只要押行照在那裡即可，不需要像本件一樣的契約，本件是我去當鋪，他們說該簽名的地方，我就簽名，且是我透過別的司機得知被告穆立明可以幫我問問哪裡可以借錢，所以才找被告穆立明等語（見本院卷第65頁背面至第66頁背面），衡以證人徐鴻光涉犯本案犯行業經本院認定有罪確定，自應無虛偽陳述之動機，且被告穆立明自承與證人徐鴻光無糾紛，同為排班計程車司機，為點頭之交乙情，亦認證人徐鴻光無涉詞誣陷被告穆立明之可能；再參以證人王傑生、朱庭峰皆證述本案參與經營契約書係由被告穆立明提出一節，又被告並不否認宏帝當舖僅同意典當個人所有靠行之車輛，不同意典當向車行租的車輛等情，而本件共同被告徐鴻光既有提供行照予被告穆立明，業經其證述如前，則自行照之記載內容即可知悉上開車輛所有人為何人，被告穆立明豈有不知上開車輛所有人為何人之理，況被告穆立明供認介紹共同被告徐鴻光予宏帝當鋪借錢有利息百分之十之報酬等語（見本院卷第69頁背面），其當有可能為促成徐鴻光與宏帝當鋪借款，而提出本案經營契約書供作本件借款之用，是被告穆立明辯稱車子是徐鴻光說其自己所有，本案參與經營契約書係徐鴻光自行提出云云，顯係事後卸責之詞，不足採信。（五）綜上所述，被告上開所辯各節，無非事後避重就輕、圖卸之詞，不足採信，被告行使偽造私文書及詐欺取財等犯行，事證明確，應依法論科。三、論罪科刑部分：（一）按被告行為後，94年2月2日修正公布之刑法已於95年7月1日生效施行，其中第2條第1項「行為後法律有變更者，適用行為時之法律。但行為後之法律有利於行為人者，適用最有利於行為人之法律」之規定，係規範行為後法律變更所生新、舊法律比較適用之準據法，並非刑法實體法律，自不生行為後法律變更之比較適用問題，故刑法修正施行後，應適用該修正後之第2條第1項之規定，依「從舊、從輕」之原則比較新、舊法律之適用；又比較新舊法時，應就罪刑有關之共犯、未遂犯、想像競合犯、牽連犯、連續犯、結合犯，以及累犯加重、自首減輕暨其他法定加減原因（如身分加減）與加減例等一切情形，綜其全部罪刑之結果而為比較後，再適用有利於行為人之法律處斷，而不得一部割裂分別適用不同之新、舊法（最高法院24年上字第4634號、29年上字第964號判例意旨及最高法院95年度第8次刑事庭會議決議參照）。經查：1.刑法第33條第5款關於罰金刑之規定業於94年2月2日修正，於95年7月1日生效，修正前刑法第33條第5款規定：「罰金：1元（銀元）以上。」，並依現行法規所定貨幣單位折算新臺幣條例規定，以銀元1元折算新臺幣3元，故修正前刑法規定罰金之最低數額為新臺幣3元；修正後刑法第33條第5款規定：「罰金：新臺幣1,000元以上，以百元計算之。」，故修正後刑法規定罰金之最低數額提高為新臺幣1,000元；比較上開罰金刑之最高數額，於修正後並無不同，惟修正後刑法第33條第5款所定罰金刑最低數額，既較修正前提高，依前開說明，應適用對被告有利之修正前刑法第33條第5款之規定。2.修正前刑法第28條規定：「二人以上共同實施犯罪之行為者，皆為正犯。」，修正後該條規定為：「二人以上共同實行犯罪之行為者，皆為正犯。」，揆諸本條之修正理由，係為釐清陰謀共同正犯、預備共同正犯、共謀共同正犯是否合乎本條之正犯要件，並將陰謀共同正犯、預備共同正犯剔除於本條適用之外，以符合近代刑法之個人責任原則、法治國人權保障思想及犯罪支配理論，自屬行為後法律有變更，而非僅屬文字修正，應有新舊法比較適用問題（最高法院97年度台上字第37號判決意旨參照）。本件被告穆立明與徐鴻光就前揭行使偽造私文書及詐欺取財犯行各具有犯意聯絡及行為分擔，不論依修正前或修正後之規定，均屬共同正犯，對被告並無有利或不利之情形，應適用行為時之法律。3.被告行為後新法業已刪除牽連犯之規定，依舊法成立方法、結果行為而僅論以一罪者，依新法將論以數罪，比較新、舊法結果，自以修正前刑法第55條牽連犯之規定，較有利於被告。4.綜此，本院經綜合上述各條文修正前、後之比較，參照前揭最高法院決議及修正後刑法第2條第1項前段、後段規定之「從舊、從輕」原則，被告穆立明上開犯行自應適用行為時之法律，予以論處。（二）核被告穆立明所為，係犯刑法第216條、第210條之行使偽造私文書罪、同法第339條第1項詐欺取財罪。被告穆立明於本案參與經營契約書上偽造「志朗交通有限公司」、「陳健志」印章及印文乃偽造私文書之部分行為，其偽造本案參與經營契約書後持以行使，偽造之低度行為復為行使之高度行為所吸收，均不另論罪。被告穆立明與徐鴻光就行使偽造私文書及詐欺之犯行有犯意聯絡及行為分擔，為共同正犯。又其等行使偽造私文書之目的，在詐取告訴人之金錢，所犯連續行使偽造私文書與詐欺取財2罪間，有方法、目的之牽連關係，應依修正前刑法第55條規定，從一較重之行使偽造私文書罪處斷。（三）爰審酌被告穆立明不思以正當途徑賺取錢財，竟偽造志朗公司及其負責人陳建志之印章，進而偽造本案參與經營契約書，而詐取告訴人之金錢，足生損害於志朗公司、陳建志、告訴人，並危害社會交易秩序，所為實有不該，犯後否認犯行，未見悔悟之心，兼衡被告穆立明有違反票據法之前科，有臺灣高等法院被告前案紀錄表在卷可稽（見本院卷第60頁），素行尚可，共同被告徐鴻光於詐得借款後已陸續返還利息予告訴人與朱庭峰，及被告穆立明為高中肄業之智識程度，經濟狀況為小康之生活狀況等一切情狀（見被告警詢筆錄受詢問人欄，本院卷第6頁），量處如主文所示之刑，以資懲儆。又關於易科罰金之折算標準，修正前刑法第41條第1項前段規定：「犯最重本刑為5年以下有期徒刑以下之刑之罪，而受6個月以下有期徒刑或拘役之宣告，因身體、教育、職業、家庭之關係或其他正當事由，執行顯有困難者，得以1元以上3元以下折算1日，易科罰金。」，再依據修正前罰金罰鍰提高標準條例第2條：「依刑法第41條易科罰金或第42條第2項易服勞役者，均就其原定數額提高為1百倍折算1日；法律所定罰金數額未依本條例提高倍數，或其處罰法條無罰金刑之規定者，亦同。」之規定，被告行為時之易科罰金折算標準，應以銀元1百元以上3百元以下折算1日，經折算為新臺幣後，應以新臺幣3百元以上9百元以下折算1日。惟95年7月1日施行之刑法第41條第1項前段規定修正為：「犯最重本刑為5年以下有期徒刑以下之刑之罪，而受6個月以下有期徒刑或拘役之宣告者，得以新臺幣1千元、2千元或3千元折算一日，易科罰金。」，另95年7月1日生效施行之罰金罰鍰提高標準條例則刪除原本第2條之規定。是以比較新舊法結果，自以舊法所定之易科罰金折算標準有利於被告，故應依修正前刑法第41條第1項前段、修正前罰金罰鍰提高標準條例第2條規定，就所宣告之刑部分諭知易科罰金之折算標準。（四）偽造之「臺北市計程車客運駕駛人自備車輛參與經營契約書」原本1份固經共同被告徐鴻光於借款時行使交付予宏帝當鋪，業如前述，惟此僅係共同被告徐鴻光為借得款項，而將本案參與經營契約書交付當鋪作為擔保使用，其所有權仍為共同被告徐鴻光所有，不因行使而移轉為宏帝當鋪所有，又該偽造之契約既係供本件犯行所用，爰依刑法第38條第1項第2款規定宣告沒收。又契約上偽造之「志朗交通有限公司」印文4枚、「陳健志」之印文6枚固係偽造之印文，已因該契約之沒收而包括在內，無再重複諭知沒收之必要。另告訴人為提起本件告訴，而複印本案參與經營契約書資為證據（見94年度偵字第8715號卷第15至第17頁），因認僅係作為本案訴訟使用，而非被告穆立明、共同被告徐鴻光供本件犯行所用之物，就複印之契約書上之「志朗交通有限公司」印文4枚、「陳健志」之印文6枚，爰不予宣告沒收。至被告穆立明偽刻之「志朗交通有限公司」、「陳健志」印章各1枚，係偽造之印章，且無證據證明業已滅失，應依刑法第219條宣告沒收。（五）再按本條例施行前，經通緝而未於中華民國96年12月31日以前自動歸案接受偵查、審判或執行者，不得依本條例減刑，中華民國九十六年罪犯減刑條例第5條定有明文。查本件被告穆立明所為前開犯行之犯罪時間固係在96年4月24日以前，但其曾於中華民國九十六年罪犯減刑條例施行（96年7月16日施行）前之95年12月21日因本案經本院以95年士院刑玄緝字第463號通緝書發佈通緝，於102年9月1日甫緝獲歸案等情，此有前開通緝書、歸案證明書、本院102年士院刑玄銷字第289號撤銷通緝書各1份存卷可參（95年度訴字第955號卷第43頁、本院卷第26頁、第43頁），從而，依前開規定，本案被告無從依中華民國九十六年罪犯減刑條例之規定減刑，併此敘明。據上論斷，應依刑事訴訟法第299條第1項前段，刑法第2條1項前段、第28條、第216條、第210條、第339條第1項、第219條、第38條第1項第2款、修正前刑法第55條、第41條第1項前段，刑法施行法第1條之1第1項，修正前罰金罰鍰提高標準條例第2條，現行法規所定貨幣單位折算新臺幣條例第2條，判決如主文。本案經檢察官黃仙宜到庭執行職務。中華民國102年12月3日刑事第七庭審判長法官雷雯華法官陳介安法官蔡子琪以上正本證明與原本無異。如不服本判決應於收受送達後10日內向本院提出上訴書狀，並應敘述具體理由。其未敘述上訴理由者，應於上訴期間屆滿後20日內向本院補提理由書（均須按他造當事人之人數附繕本）「切勿逕送上級法院」。書記官李宜蓁中華民國102年12月5日附錄本案論罪科刑所依據之法條：刑法第216條、第210條、第339條第1項偽造、變造私文書，足以生損害於公眾或他人者，處5年以下有期徒刑。偽造印章、印文或署押，足以生損害於公眾或他人者，處3年以下有期徒刑。盜用印章、印文或署押，足以生損害於公眾或他人者，亦同。意圖為自己或第三人不法之所有，以詐術使人將本人或第三人之物交付者，處5年以下有期徒刑、拘役或科或併科1千元以下罰金。', '一、劉木卿（曾有犯背信罪之紀錄，本件不構成累犯），係專業代書，為從事業務之人，曾多次承辦祭祀公業相關業務，深知有關之各種申辦程序及事宜，時值政府立法要求祭祀公業申報以便管理（即96年12月12日公布之祭祀公業條例，要求於該條例施行已存在，而未依祭祀公業公土清理要點或臺灣省祭祀公業土地清理辦法之規定申報並核發派下全員證明書之祭祀公理，應於同條例第7條規定之期間辦理申報等事宜），其知坐落於彰化縣田中鎮○○○段158、159地號二筆土地係屬祭祀公業蕭子玉所有，尚未清理依法核發派下全員證明書等情，故即主動與該公業之管理人蕭賜福、蕭耀西之後代子孫蕭慶堂、蕭慶珍、蕭如壎、蕭慶三等人聯絡處理該祭祀公業之相關事宜（此與該二筆土地密不可分），經洽商結果，於蕭慶堂、蕭慶珍、蕭如壎、蕭慶三等人不需支費下，劉木卿代為申辦，事成後，由劉木卿獲得該祭祀公業所有土地價值20％之報酬，劉木卿竟為圖得該優厚之報酬；另蕭慶堂等人，則亦冀得他人勿來參與成為祭祀公業蕭子玉之派下員，方減少土地分歸他人之意下，其等明知上開祭祀公業蕭子玉之設立人非僅係蕭賜福及該公業之享祀人係蕭子玉等情，其等竟共同基於意圖為自已不法所有及行使業務上登載不實文書、使公務員登載不實之犯意聯絡，接續為下列行為：(一)由劉木卿於民國98年8月3日前數日內某時，在彰化縣員林鎮○○路○段172之1號住處，於業務上登載祭祀公業蕭子玉「3、淵源來歷：由蕭賜福積蓄購買本公業所有坐落彰化縣田中鎮○○○段158、159地號等二筆之土地。以祭田收益，作為每年清明節祭祀祖先之資。並期望子孫『蕭子』被珍惜如玉，故以『祭祀公業蕭子玉』命名。4、設立者姓名：先祖蕭賜福所設立。5、祭祀地點即供奉所在地：日據時期祭祀地點為彰化廳武東堡社頭庄百八拾壹番地及彰化廳武東堡社頭庄百八十三番地。光復後彰化縣社頭鄉社頭村社頭第一巷3號及彰化縣社頭鄉○○村○○○路360號，民國70年間因祭祀地點公廳拆除改建後，由各派下員各自將祖先神位分靈祭祀，申請人祭祀地點為彰化縣社頭鄉○○村○○○路40號。蕭如壎祭祀地點為彰化縣社頭鄉○○村○○○路46號。6、土地所在地：彰化縣田中鎮○○○段158、159地號（此部分關於土地之標示應屬無誤）。」等不實沿革，及不實之「派下現員：蕭慶三、蕭慶堂、蕭慶珍、蕭如壎」名冊、不實之派下全員系統表、推舉書後，連同該祭祀公業之財產清冊、土地登記第一類謄本，書寫以蕭慶堂為申報人之祭祀公業派下全員證明書申請書，於98年8月4日由劉木卿持向彰化縣田中鎮公所申請該祭祀公業派下全員證明書而行使，使不知情之田中鎮公所民政課承辦人員誤認為所申報關於該祭祀公業之「享祀人」、「設立人」與祭祀公業財產等要件皆具備，及該祭祀公業之派下員僅有蕭慶堂、蕭慶珍、蕭慶三與蕭如壎，而將上開不實事項登載於職務上所掌之公文書，經田中鎮公所依法公告徵求異議，俟公告期滿無人異議後，劉木卿、蕭慶堂、蕭慶珍、蕭慶三與蕭如壎復基於意圖為自己不法利益之犯意聯絡，由劉木卿以該祭祀公業派下員證明申請案已公告期滿無人異議，於98年10月7日在其前揭住處製作祭祀公業蕭子玉申請書，表明蕭慶堂、蕭慶珍、蕭慶三與蕭如壎為該祭祀公業僅存之派下員，於98年10月8日以蕭慶堂名義向田中鎮公所申請核發派下員證明書，致不知情之田中鎮公所民政課承辦人員於98年10月12日核發祭祀公業派下全員證明書、祭祀公業蕭子玉派下全員系統表、派下現員名冊與不動產清冊給蕭慶堂，使蕭慶三、蕭慶堂、蕭慶珍、蕭如壎取得祭祀公業蕭子玉派下員資格之利益。嗣於98年10月12日，劉木卿於前揭住處，接續在業務上製作之祭祀公業蕭子玉申請書登載派下全員蕭慶三、蕭慶堂、蕭慶珍、蕭如壎推舉蕭慶堂擔任新任管理人之不實事項，於翌日由劉木卿以蕭慶堂名義，連同該祭祀公業派下全員證明書、祭祀公業蕭子玉派下全員系統表、派下現員名冊與不動產清冊持向田中鎮公所申請管理人變更核備而行使之，使不知情之田中鎮公所民政課承辦人員登載於職務上所載之公文書，均足以生損害於該祭祀公業真正派下員及彰化縣田中鎮公所對祭祀公業管理之正確性。(二)劉木卿、蕭慶堂、蕭慶珍、蕭如壎與蕭慶三於祭祀公業蕭子玉之管理人變更後，其等知曉該祭祀公業因尚有共同設立人（亦即蕭賜福係公業之管理人，並非公業所有土地之單獨所有權人），應有其祭祀公業之派下員存在，在未得其他人同意之下（即該派下員並無解散該祭祀公業之合意），竟賡續前開犯意，由劉木卿於99年1月9日，在其彰化縣員林鎮○○路○段172之1號住處，於職務上製作之該祭祀公業派下員同意書上登載全體派下員蕭慶堂、蕭慶珍、蕭如壎與蕭慶三同意解散該祭祀公業，由各房奉請祖先牌位各自祭祀，及該祭祀公業因解散而需辦理彰化縣田中鎮○○○段158、159地號土地更名登記之土地登記申請書等不實事項後，委由劉木卿持向彰化縣田中地政事務所辦理系爭土地更名登記。劉木卿乃於99年1月22日，連同系爭土地所有權狀、土地登記清冊、田中鎮公所核發之祭祀公業派下全員證明書、派下現員名冊持向彰化縣田中地政事務所申請系爭土地更名登記為蕭慶堂、蕭慶珍、蕭如壎與蕭慶三所有而行使，致使不知情之田中地政事務所承辦人員誤認蕭慶堂、蕭慶珍、蕭如壎與蕭慶三為該祭祀公業之全體派下員，及蕭慶堂、蕭慶珍、蕭如壎與蕭慶三均同意解散該祭祀公業，乃將系爭土地所有權人祭祀公業蕭子玉變更登記為蕭慶堂、蕭慶珍、蕭如壎與蕭慶三分別共有（蕭慶三、蕭如壎各取得系爭土地三分之一之應有部分；蕭慶堂、蕭慶珍則各六分之一之應有部分）。足以生損害於該祭祀公業真正派下員及彰化縣田中鎮公所對祭祀公業管理之正確性。二、案經蕭耀森訴由彰化縣警察局田中分局報告臺灣彰化方法院檢察署檢察官偵查起訴。理由壹、程序方面（證據能力）：現行刑事訴訟法為保障被告之反對詰問權，排除具有虛偽危險性之傳聞證據，以求實體真實之發見，於該法第159條第1項明定被告以外之人於審判外之言詞或書面陳述，除法律有規定者外，不得作為證據。本件檢察官、被告及辯護人於本院準備程序及審理程序中，並未就本案卷內證據資料之證據能力提出爭執，且迄於言詞辯論終結前，均未主張有刑事訴訟法第159條第1項不得為證據之情形，應認均已同意本案卷內之證據資料均得作為本案證據，且經本院審酌後，認無不適當之情形，是本案卷內之證據均有證據能力，合先敘明。貳、實體方面：一、訊據被告劉木卿、蕭慶堂、蕭慶珍、蕭慶三與蕭如壎等人，均矢口否認涉有上開行使業務上登載不實文書、使公務員登載不實及詐欺取財之犯行。被告劉木卿辯稱：伊從事代書工作，有關辦理本件祭祀公業蕭子玉之申報事宜，一切資料均來自被告蕭慶堂、蕭慶珍、蕭慶三與蕭如壎等會商後所告知，伊無捏造申報之犯行，且被告蕭慶堂等人告知沿革資料縱內容與事實有出入，或肇因證據散失、記憶模糊，或係告知有誤解所致，絕無任何偽造之故意云云。另被告蕭慶堂、蕭慶珍、蕭慶三與蕭如壎則均於辯稱：被告兄弟四人係祭祀公業蕭子玉真正之派下員，故其等所為，並無觸法可言，且上開有關申報祭祀公業蕭子玉中沿革及相關資料中，係來自父親所告知，伊無偽造之故意，因此並未涉有公訴人所指之犯行云云。但查：(一)被告蕭如壎於警詢時，明白證稱：「（問：蕭子玉祭祀公業有無財產？分佈何處？）之前我不知道，一位住社頭鄉○○村○○路旁劉姓代書告知，我才知道。是該劉姓代書帶我、蕭慶堂、蕭慶三及蕭慶珍４個兄弟前往彰化縣田中鎮○○路附近察看，告知附近土地是我們的。」、「（問：你是否知道蕭子玉祭祀公業沿革之內容為何？）我不知道」、「（問：蕭子玉祭祀公業申請前有何人管理及繳交土地稅金？）我不知道」（見警詢筆錄附於99年度偵字第7488號偵查卷宗第12頁背面至13頁背面）；後於偵查中，亦明確指出：「是代書主動來找我們，我才知道可以辦理，所以兄弟協調後，才由代書去處理。」（同上偵查卷宗第107頁背面）；後於本院審理中，具結證稱：「（問：你是否知道劉木卿代書所繕寫方的蕭子玉祭祀公業沿革係『希望蕭氏子孫被珍惜如玉』，才叫做蕭子玉祭祀公業，你是否知道這沿革？」我不知道。」、「是代書主動來找我們的」等語（見本院101年1月5日審判筆錄），該供述內容前後一致，均無矛盾，且該內容係不利被告蕭如壎之證詞，若非屬實，焉有自陷於不利之理。是被告蕭如壎上開證詞，其憑信度極高，自可採信。再參之被告蕭慶珍於72年9月27日即辦妥祭祀公業德盛公有擁有坐落彰化縣員林鎮○○○段第93地號（重測前為番仔崙93、104、136、213、218地號）土地事宜（相關謄本附於被告於100年2月21日所提之準備書狀內），而該祭祀公業亦係蕭賜福為管理人，若被告蕭慶珍兄弟早已獲知本件祭祀公業蕭子玉等相關訊息（含管理人係其等之先人蕭賜福），豈有不趁早處理，而遲至98年方為本件申請之理。因此，由上可知，被告蕭慶堂、蕭慶珍、蕭如壎、蕭慶三等人原本對祭祀公業蕭子玉之存否，包括其祖父係祭祀公業蕭子玉之管理人及該公業擁有坐落於彰化縣田中鎮○○○段158、159地號二筆土地等情，一無所悉，係同案被告劉木卿主動前來告知等情，確係為實。(二)證人即被告蕭如壎之子蕭順昌；被告蕭慶堂之子蕭錦標經檢察官聲請傳訊到庭，2人於受詰問時，對於有關祭祀公業蕭子玉相關事宜均無所悉（見同上審判筆錄），此印證被告蕭如壎之上開證詞之真實性，因若如被告蕭慶堂、蕭慶珍、蕭慶三於本院審理中，所辯其明暸祭祀公業蕭子玉等事宜，焉有於其等係已逾六旬之人，而不轉告子嗣明白有關祭祀公業蕭子玉相關事項之理。再者，依彰化縣田中地政事務所100年5月9日中地一字第1000002260號函所示：蕭家裕（即居於系爭土地之人）於94、96、98年陸續有以網路申請系爭彰化縣田中鎮○○○段159地號土地電子謄本紀錄，而被告蕭如壎僅在99年11月23日以其名義，以網路申請系爭彰化縣田中鎮○○○段159地號土地電子謄本；另被告蕭慶珍係於98年8月21日申請係系爭彰化縣田中鎮○○○段158地號電子謄本（見本院卷二），此足徵被告蕭慶堂、蕭慶三、蕭慶珍與蕭如壎在98年以前，均不知悉該祭祀公業擁有系爭土地之事實。因若係98年以前即知悉系爭土地及該祭祀公業存在，理當有申辦系爭土地謄本以便主張權益之紀錄（例如蕭家裕即是），另被告劉木卿係專業代書，其亦自承多次承辦祭祀公業相關業務，是當深知有關之各種申辦程序及事宜，且本件被告蕭慶堂為祭祀公業蕭子玉申報等相關事宜，又係祭祀公業條例公布清理時限內所為，是有關本件辦理祭祀公業蕭子玉申報事宜及其後分歸土地之事，均係由被告劉木卿主動與該公業之管理人蕭賜福、蕭耀西之後代子孫即被告蕭慶堂、蕭慶珍、蕭如壎、蕭慶三等人所為之事實，應可認定（至於被告劉木卿何以會主動為之，因可獲得如事實一所述之優厚之報酬也）。(三)依據民事習慣，祭祀公業之構成，係設立人為祭祀祖先所購置或設立之獨立財產（見本院卷一所附之臺灣祭祀公業協會網站文獻、維基百科網站查詢資料），因此，構成祭祀公業須有下列要件：一、人的部份：須有享祀人、設立人、派下員、管理人。祭祀公業之享祀人即為祭祀公業所奉祀之人，多為設立人之尊長或先祖，而非以後代子孫為享祀人。而祭祀公業須有設立人之存在，有時係一人，有時係多人。另管理人為受任管理祭祀公業財產及宗務之人，以選任派下員為原則，例外亦有選任派下以外之人為管理人。二、祭祀公業財產：係指不動產、動產、股票、債券收益之意，此類祭祀公業的獨立財產，其財產應屬全體派下員公同共有，與派下子孫個別財產完全不相干。本件被告等人於98年8月3日向彰化田中鎮公所所提之申請書附件沿革中，記載：【以祭田收益，作為每年清明節祭祀祖先之資。並期望子孫『蕭子』被珍惜如玉，故以『祭祀公業蕭子玉』命名。】，非但無享祀人之具體記載，且竟指該公業名稱蕭子玉非係先人之名，而係泛指後代子孫受珍惜，此與前開民俗可謂大相逕異，而將【蕭子玉】指係為後代子孫，實屬偏離至極。(四)被告蕭慶堂、蕭慶珍、蕭如壎、蕭慶三等四人對於蕭氏宗親所編之蕭氏族譜，均不爭執之其為真正（99年度偵字第5375號第159頁至172頁），其上明確記載蕭時中係蕭氏入漳洲始祖（明永樂九年辛卯科狀元），其子積玉（字子玉，配黃氏），...十一世輝美、十二世有志誠、志海、志湖、志達。而本院依職權前往被告蕭慶堂、蕭如壎家中，開啟伊等之祖先牌位，其內均有輝美、志海之記載，有院100年2月21日之勘驗筆錄及照片可稽，是顯見蕭積玉（字子玉）係被告蕭慶堂、蕭慶珍、蕭如壎、蕭慶三等四人之祖先無誤，而被告蕭慶堂於警詢中，竟出言稱：「（：你們祖先之中有無姓名【蕭子玉】之人？）沒有」（見警詢筆錄附於99年度偵字第7488號偵查卷宗第5頁），是顯見被告蕭慶堂為求本件祭祀公業蕭子玉所擁有之系爭土地能順利分歸，不惜為與事實不符之陳述。(五)被告蕭慶三於警詢中，明確供陳：「（問：你是否知道蕭子玉祭祀公業沿革之內容為何？）蕭子玉是我們的祖先，祭祀公業是讓我祭祖留念。」、「（問：提示位於彰化縣社頭鄉社頭村草仔埤巷4號「芳遠堂」蕭子玉牌位，是否就是你所稱你們祖先蕭子玉？）我以前有跟我媽媽到該處拜拜，他只告知我該處供奉我們的祖先，當時我還小，我沒有注意看。」等語（見警詢筆錄附於99年度偵字第7488號偵查卷宗第10頁背面至11頁正面），而其與其他兄弟及被告劉木卿會商後，竟於所提之申請書附件沿革中，為上開記載，在在足證，被告蕭慶堂、蕭慶珍、蕭如壎、蕭慶三及同案被告即代書劉木卿均係明知且故意為之。斷非係肇因證據散失、記憶模糊所致。(六)被告蕭慶堂、蕭慶珍、蕭如壎、蕭慶三及同案被告即代書劉木卿於100年2月11日委由辯護人具狀表示：「(一)無相關證據足以認定蕭賜福為設立人；但亦無證據足以認定蕭賜福非設立人」（見100年2月11日所提之準備書狀），被告等人既明確表示無相關證據足以認定蕭賜福為設立人，則其等於上開沿革中，載稱：「4、設立者姓名：先祖蕭賜福所設立。」，豈非係其等於無任何證據之下，徒憑己意所為，是該記載明確有不實之弊，自不待言。(七)被告蕭慶堂、蕭慶珍、蕭如壎、蕭慶三之祖父蕭賜福於明治44年8月19日與齋友向同為其父蕭貞吉之繼承人蕭福智、蕭福根、蕭登王等人購買坐落彰化縣員林鎮○○○段第93地號（重測前為番仔崙93、104、136、213、218地號）土地設立祭祀公業德盛公，有土地登記簿謄本影本1份（含日據時代之登記簿，係被告所提出附於100年2月21日之準備書狀內），在卷可佐，觀日據時代之登記簿業主權事項欄就該事項係以記載【公業德盛公管理人武東堡社頭庄百八拾壹番地蕭賜福】之方式表示之，亦即方式之記載係表示土地係屬公業德盛公，而管理人係蕭賜福，且除蕭賜福外尚有其他派下員，並非由蕭賜福一人所獨設（因此公業係蕭賜福與其他人一同設立），再觀祭祀公業蕭子玉就系爭土地於日據時代之登記簿業主權事項欄內，其記載亦係以【公業蕭子玉管理人武東堡社頭庄百八拾壹番地蕭賜福】之方式表示之（見99年度偵字第5375號偵查卷宗第34頁），二者之記載方式，則代表含意亦相同，不容有不同之解釋，換言之此方式之記載係表示土地係屬公業蕭子玉，而管理人係蕭賜福，且除蕭賜福外尚有其他派下員，而縱蕭賜福係設立人，亦非由其一人所獨設（況依上述，並無相關證據足以認定蕭賜福係設立人）。而被告蕭慶堂、蕭慶珍、蕭如壎、蕭慶三及被告劉木卿竟於無視上開明白之記載，而申請書附件沿革中，明白書載「4、設立者姓名：先祖蕭賜福所設立。」，是在在足證其等確有虛偽記載之犯意甚明。(八)日據時代土地總登記係於明治38年，若有明確資料提出證明確係所有權者，則在該土地登記事項欄內，必以業主相稱，此由上開坐落彰化縣員林鎮○○○段第93地號（重測前為番仔崙93、104、136、213、218地號）土地，原係蕭賜福之父蕭貞吉所有，則於日據時代之土地登記事項欄內，即載明「明治參拾八年拾壹月拾壹日蕭貞吉為業主」自明，而本件祭祀公業蕭子玉所擁有之系爭土地，於日據時代之登記簿業主權事項欄內，係直接記載「業主公業蕭子玉」，亦即該土地之原來所有權人係何人，並無記載，惟依該時之資料可以確定係系爭土地之所有權人係公業蕭子玉，而非蕭賜福。再者祭祀公業常有祭典之舉行，故常有一定處所奉祀享祀人，但此與管理人之住處有別，而上開申請書附件沿革竟指蕭賜福之住所即係彰化廳武東堡社頭庄百八拾壹番地為奉祀地，益見該等記載偏離事實，故申請書附件沿革中關於「3、淵源來歷：由蕭賜福積蓄購買本公業所有坐落彰化縣田中鎮○○○段158、159地號等二筆之土地。」及「5、祭祀地點即供奉所在地」，顯係不實之記載。(九)祭祀公業涉及祭典之舉行及因派下員常非單一，故需設管理人，而任該職者，通常係找頗有影響力之人或飽學之士為之，被告蕭慶堂、蕭慶三、蕭慶珍、蕭如壎之先人蕭賜福於日據時代係從販賣阿片之商人，其影響力不可言諭，再者，蕭賜福之父蕭貞吉（生於天保2年）於明治44年去世，其於明治42年時，體力當已老衰，故由蕭賜福任祭祀公業蕭子玉之管理人，應符常情，因此被告等人主張蕭賜福擔任管理人時，其父親尚存在，該公業若為其祖先設立，焉有選任蕭賜福為管理人之可能云云，顯係模糊上情之詞。(十)被告等確涉有上開犯行，除經證人即告訴人蕭耀森（在是否屬被害人不明前，似乎應以告發人相稱）於警詢證明確外，，就①被告蕭慶堂、蕭慶珍、蕭慶三與蕭如壎合意選任蕭慶堂為代理人，蕭慶堂再委任劉木卿製作該祭祀公業不實之沿革、申請書，連同土地登記第一類謄本於98年8月3日持向田中鎮公所申請派下全員證明書，而田中鎮公所民政課受理申請後，將被告等人登載之不實事項登載於職務上所掌之公文書及被告等人於公告期滿後，於98年10月8日向田中鎮公所申請核發派下員證明書，致田中鎮公所承辦人員陷於錯誤，於同年月13日核發祭祀公業派下全員證明書及蓋有公所印信之派下全員系統表、派下現員名冊與不動產清冊與被告等人以原管理人蕭耀西死亡為由，於98年10月13日向田中鎮公所申請變更該祭祀公業新任管理人為蕭慶堂之事實部分，並有祭祀公業派下全員證明書申請書、委任書、祭祀公業蕭子玉推舉書、沿革、土地登記第一、二類謄本彰化縣田中鎮公所98年9月3日田鎮民字第0980013614號函、田鎮民字第0980013615號公告、祭祀公業蕭子玉申請書、彰化縣田中鎮公所98年10月12日田鎮民字第0980015674號函、祭祀公業蕭子玉管理人選任同意書、申請書、委任書、彰化縣田中鎮公所98年10月14日田鎮民字第0980015957號函附卷可稽；②被告劉木卿擔任被告蕭慶堂、蕭慶三、蕭慶珍與蕭如壎之代理人，以解散該祭祀公業為由，於99年1月22日向田中地政事務所申請系爭土地之所有權人由該祭祀公業變更登記為被告蕭慶堂、蕭慶三、蕭慶珍與蕭如壎，致田中地政事務所承辦人員誤認該祭祀公業派下員同意解散該祭祀公業，進而將系爭土地之所有權人變更為被告文蕭慶堂、蕭慶珍、蕭慶三與蕭如壎之事實部分，亦有彰化縣田中地政事務所100年5月5日中地一字第1000002313號函所附之土地登記申請書、印鑑證明、派下員同意書、派下全員證明書、派下現員名冊、土地所有權狀等影本，附卷可佐。(十一)綜上，顯見被告劉木卿、蕭慶堂、蕭慶珍、蕭慶三與蕭如壎所辯，均與事實不符，不可採信。本件罪證明確，被告劉木卿、蕭慶堂、蕭慶珍、蕭慶三與蕭如壎之犯行，足以認定。二、按上開與祭祀公業有關之派下全員證明書申請書、派下現員名冊、祭祀公業蕭子玉推舉書與沿革、同意書等文書，係執行代書業務所製作之文書，屬業務上作成之文書。故核被告劉木卿、蕭慶堂、蕭慶珍、蕭慶三與蕭如壎等人前揭所為，均係犯刑法第216條、第215條之行使業務上登載不實之文書、刑法第214條之使公務員登載不實罪與刑法第339條第1項之詐欺取財罪。其等所為之明知為不實之事項，而登載於其業務上作成文書之行為（低度行度），為其後之行使行為（高度行為）所吸收，不另論罪。其等就前揭犯行有犯意聯絡與行為分擔，俱為共同正犯。其等利用不知情之田中鎮公所民政課承辦人員取得該祭祀公業派下員資格利益及利用不知情之田中鎮公所承辦人員取得系爭土地所有權，係間接正犯。又按刑法廢除牽連犯之規定後，對於前以牽連犯予以處理之案例，依立法理由之說明，在適用上，得視其具體情形，分別論以想像競合犯或數罪併罰，予以處斷。是原經評價為牽連犯之案件，如其二行為間具有行為局部之同一性，或其行為著手實行階段可認為同一者，得認與一行為觸犯數罪名之要件相侔，而改評價為想像競合犯。至於不可認為一行為者，若依實質競合予以併罰，不無刑罰過度評價，依社會通念，並不符合刑罰公平原則，當亦難以一行為一罪論處。於此，倘所發生之數個犯罪行為，在犯罪之性質上，或依吾人日常生活經驗之見解上，其前後行為，在形態上雖屬分別獨立，但從同一法益之侵害性而言，因具一定程度之關連性，可認為一方吸收他方之犯罪行為，遂置他方於不論，較為適當，應可依吸收犯理論，認屬實質上一罪關係，而僅包括的論以一罪（參照最高法院96年度台上字第4780號判決意旨）上開諸罪均係基於同一目的（即分歸取得土地所有權），故在刑法評價上，以視為數個舉動之接續施行，彼此間有行為局部之同一性，應為包括之一行為予以評價，較為合理，而屬一行為觸犯數罪名之想像競合犯，應依刑法第55條規定情節較重之詐欺取財罪處斷。而公訴人就上開行使業務上登載不實之文書罪部分，指係犯刑法216條、210條之罪，惟已當庭及以補充理由書更正之，故本院不再諭知變更起訴法條。另公訴人指上開數罪之關係或謂罪，或想像競合，但如上所述，應依想像競合犯之例論處，方為適當。又上開犯罪事實中，為原起訴書所漏列部分，因與已明確記載部分，有裁判上一罪之關係，故本院自得併予審理，併此敘明。爰審酌被告劉木卿於辦理祭祀公業相關申報事實之際，為牟得巨利報酬，非但主動其餘被告蕭慶堂等人，且位於主導之地位，為本件不實事實申報及不實之分歸土地，實有不該，應予嚴懲，另被告蕭慶堂、蕭慶珍、蕭慶三、蕭如壎聽信代書之被告劉木卿之言，為求避免其兄弟等人以外之人，前來分歸土地，竟與代書為上開行使業務上登載不實之文書、使公務員登載不實及詐欺取財等犯行，實有欠思慮，念其均為已逾六旬之人，暨渠等之犯罪動機、手段、目的與犯罪後之態度等一切情狀，各量處如主文所示之刑，並就被告蕭慶堂、蕭慶珍、蕭慶三、蕭如壎部分，諭知如易科罰金之折算標準。又查被告蕭如壎前未曾因故意犯罪受有期徒刑以上刑之宣告，有臺灣高等法院被告前案紀錄表1份附卷可憑，因有宗親一同處理事務之牽絆，故一時失慮致罹刑章，其於警、偵查時及本院審理中，對所知之事，均有明確之供陳，可謂態度良好，經此偵審教訓後，應知警惕而無再犯之虞，本院因認所宣告之刑，以暫不執行為適當，爰依刑法第74條第1項第1款規定，併予宣告緩刑2年，以勵自新。三、本判決僅認定被告等人所涉上開犯行部分，至於祭祀公業蕭子玉之派下員究竟有幾人，除被告蕭慶堂、蕭慶珍、蕭慶三、蕭如壎外，尚有何人具派下員身分，應尋民事途逕解決，非係本判決論斷之範疇，併此敘明。據上論斷，應依刑事訴訟法第299條第1項前段、刑法第28條、第216條、第215條、第214條、第339條第1項、第55條、第41條第1項、第74條第1項第1款，刑法施行法第1條之1，判決如主文。本案經檢察官黃顗雯到庭執行職務。中華民國101年4月6日刑事第三庭審判長法官洪志賢法官張鶴齡法官簡佩珺以上正本證明與原本無異。如不服本判決應於收受判決後10日內向本院提出上訴書狀，並應敘述具體理由；其未敘述上訴理由者，應於上訴期間屆滿後20日內向本院補提理由書（均須按他造當事人之人數附繕本）「切勿逕送上級法院」。告訴人或被害人對於判決如有不服具備理由請求檢察官上訴者，其上訴期間之計算係以檢察官收受判決正本之日期為準。中華民國101年4月6日書記官許億先附錄本案論罪科刑法條全文：中華民國刑法第214條（使公務員登載不實罪）明知為不實之事項，而使公務員登載於職務上所掌之公文書，足以生損害於公眾或他人者，處3年以下有期徒刑、拘役或5百元以下罰金。中華民國刑法第215條（業務上文書登載不實罪）從事業務之人，明知為不實之事項，而登載於其業務上作成之文書，足以生損害於公眾或他人者，處3年以下有期徒刑、拘役或5百元以下罰金。中華民國刑法第216條（行使偽造變造或登載不實之文書罪）行使第210條至第215條之文書者，依偽造、變造文書或登載不實事項或使登載不實事項之規定處斷。中華民國刑法第339條（普通詐欺罪）意圖為自己或第三人不法之所有，以詐術使人將本人或第三人之物交付者，處5年以下有期徒刑、拘役或科或併科1千元以下罰金。以前項方法得財產上不法之利益或使第三人得之者，亦同。前二項之未遂犯罰之。', '一、緣張彩系與鄧盈珍、鄧盈汝之父親鄧清亮係夫妻，鄧清亮於民國96年4月6日過世，遺產由張彩糸、鄧盈慧、鄧盈珍、鄧盈汝、鄧淯任5人共同繼承。詎張彩系未經共同繼承人鄧盈珍、鄧盈汝之同意，竟基於行使偽造私文書之犯意，於96年4月9日某時許，持鄧清亮開設之信義鄉農會帳號：00000000000000號帳戶存簿及開戶印章，前往位於南投縣○○鄉○○街00號之信義鄉農會填寫取款憑條、並盜蓋鄧清亮之開戶印章後，再持向不知情之該農會承辦人員行使之，將鄧清亮上開帳戶內之存款新臺幣（下同）153萬元轉入張彩系在該農會開設之帳號：00000000000000號帳戶，足生損害於鄧盈珍、鄧盈汝之繼承權利及信義鄉農會管理金融帳戶之正確性。二、案經鄧盈珍、鄧盈汝訴由臺灣臺中地方檢察署檢察官呈請臺灣高等檢察署臺中檢察分署檢察長核轉臺灣南投地方檢察署檢察官偵查起訴。理由一、證據能力：(一)本案以下引用被告張彩糸以外之人於審判外所為陳述之供述證據，迄本院言詞辯論終結前，檢察官、被告就該等證據之證據能力均未聲明異議（見本院卷第93、272頁），本院審酌該等證據製作時之情況，並無違法不當或證明力明顯過低之瑕疵，以之作為證據應屬適當，依刑事訴訟法第159條之5第2項之規定，認為均得作為證據。(二)而其餘認定本案犯罪事實之非供述證據，復無違反法定程序取得之情形，亦得作為證據。二、認定犯罪事實所憑之證據及理由：訊據被告對於其與告訴人鄧盈珍、鄧盈汝之父親即被繼承人鄧清亮係夫妻，鄧清亮於96年4月6日過世，遺產由張彩糸、鄧盈慧、鄧盈珍、鄧盈汝、鄧淯任5人共同繼承；其於96年4月9日某時許，持鄧清亮開設之信義鄉農會帳號：00000000000000號帳戶存簿及開戶印章，前往位於南投縣○○鄉○○街00號之信義鄉農會填寫取款憑條、並蓋用鄧清亮之開戶印章後，再持向該農會承辦人員行使之，將鄧清亮上開帳戶內之存款153萬元轉入張彩系在該農會開設之帳號：00000000000000號帳戶之事實固不爭執（本院卷第93、94頁），惟矢口否認有何行使偽造私文書之犯行，並辯稱：提領款項係依公公指示，合乎一般社會通念及鄉民習慣，沒有偽造文書意圖；在我與我先生的戶籍裡面，未曾登記告訴人兩位的姓名；且提領款項係為償還鄧清亮之債務，並無詐欺或侵占之不法所有意圖（見本院卷第38、41、271、281至285頁）云云。經查：(一)關於上開被告不爭執之事實，業據被告於本院準備程序時自承在卷（見本院卷第39、93至95頁），核與告訴代理人謝莉蘭（見臺中他卷第14頁）、證人即告訴人鄧盈珍、鄧盈汝（見南投他卷第11頁、本院卷第238至241、265至268頁）所述情節大致相符，並有戶籍謄本（除戶部分）、信義鄉農會取款憑條、信義鄉農會105年8月22日函、個人戶籍資料（臺中他卷第4至6頁）、信義鄉農會客戶往來交易明細表（見本院卷第59至65頁）等件附卷可稽，是此部份之事實，即堪認定。而被告未經共同繼承人鄧盈珍、鄧盈汝之同意，擅自轉匯上開款項之事實，復據被告於偵訊時自承在案（見南投他卷第11頁），且經鄧盈珍、鄧盈汝證述明確（見本院卷第241、267頁），則此部分之事實，亦可認定。(二)被告雖然辯稱提領款項係依公公指示，合乎一般社會通念及鄉民習慣，沒有偽造文書意圖云云。然依被告先後自陳「沒有辦法聯絡到其他繼承人」、「因為當初辦繼承的方面，我都有拜託姐姐跟他們聯絡」、「是他們不願意回來配合辦理」、「有叫他們拿資料來辦理繼承，但他們都不配合」（見南投他卷第11頁、本院卷第39、241、269頁），鄧盈珍證稱「他還一直恐嚇我們拋棄繼承」（見本院卷第239頁），鄧盈汝證稱「都是代書跟我們聯絡，要我們放棄繼承」（見本院卷第266頁），證人即鄧清亮之胞兄鄧清浪證稱：我有勸過被告就遺產部分要找告訴人方面來討論，我認為被告也有朝這方面來努力（見本院卷第271頁）等語，可見被告顯然知悉被繼承人鄧清亮死亡以後，已不得再以鄧清亮名義製作取款憑條提領被繼承人之存款，如要提領被繼承人之存款，應得全體繼承人之同意，否則何須大費周章聯絡告訴人等配合辦理繼承或拋棄繼承事宜；被告辯稱提領款項係依公公指示，合乎一般社會通念及鄉民習慣，沒有偽造文書意圖云云，實屬卸責之詞，不足採信，被告具有行使偽造私文書之故意甚明。(三)被告嗣後雖再改口辯稱在我與我先生的戶籍裡面，未曾登記告訴人兩位的姓名云云。但以被告於被繼承人鄧清亮死亡以後，曾經聯絡告訴人等配合辦理繼承或拋棄繼承事宜，已如上述，佐諸鄧盈珍證稱：被告跟我父親結婚時，知道我父親有其他子女（見本院卷第239頁），鄧清浪證稱：被告知道鄧清亮有與前配偶育有子女（見本院卷第270頁）等語，足見被告於轉匯上開存款時，確實知悉告訴人2人為鄧清亮之子女，而為鄧清亮之共同繼承人；被告辯稱在其與其先生的戶籍裡面，未曾登記告訴人兩位的姓名云云，不過飾卸之詞，委不可採。(四)被告雖又辯稱轉匯上開款項係為償還鄧清亮之債務，並未生損害於公眾或他人云云。然按，刑法第210條所稱足生損害於公眾或他人，以有損害之虞為已足，不以實際發生損害為要件（最高法院43年台上字第387號判例要旨參照）。所稱之足生損害，係指他人有可受法律保護之利益，因此遭受損害或有受損害之虞，不以實際發生損害者為必要；而所謂損害，亦不以經濟上之損害為限，即民事、刑事或行政上之損害亦皆屬之（最高法院107年度台上字第3038號判決要旨參照）。如未經被繼承人之全體繼承人同意，即偽以被繼承人名義製作取款憑條，提領被繼承人帳戶內之存款，其行為自有足以生損害於其餘繼承人之虞，至於其所提領之款項是否非被繼承人之遺產及提領之用途為何，均與其行為是否與刑法第210條、第216條行使偽造私文書罪之犯罪構成要件該當，並不生影響（最高法院106年度台上字第1165號判決意旨參照）。則以被告未經鄧清亮之繼承人即告訴人2人同意，擅自轉匯上開款項，造成鄧清亮名下財產減少，告訴人等之繼承權利即有可能受到損害，並不以彙算之後確有損害為必要；且被告於鄧清亮過世後，擅以鄧清亮之名義轉匯上開款項，復可能產生信義鄉農會對於消費寄託債務是否清償之爭執，亦足生損害於信義鄉農會管理金融帳戶之正確性。被告辯稱未生損害於公眾或他人云云，純屬推諉之詞，並不可採。(五)至於被告雖另辯稱提領款項係為償還鄧清亮之債務，並無詐欺或侵占之不法所有意圖云云。惟按，所提領之款項是否使用於支付被繼承人醫藥費、喪葬費之用，要屬行為人有無不法所有意圖之問題，與行使偽造私文書罪該當與否不生影響（最高法院107年度台上字第1753號判決意旨參照）。茲因本案起訴意旨及上開論罪所犯罪名均未認定被告涉犯詐欺或侵占犯行、而均論以行使偽造私文書罪嫌（見本院卷第10、11頁），被告轉匯上開款項是否係為償還被繼承人鄧清亮之債務，事涉是否構成詐欺或侵占犯罪，自與本案被告是否成立犯罪（行使偽造私文書）無關。被告辯稱並無詐欺或侵占之不法所有意圖云云，容有誤會起訴及論罪所犯罪名，併予敘明。(六)綜上所述，本案事證明確，被告之犯行可以認定，應予依法論罪科刑。三、論罪科刑之理由：(一)按人之權利能力，終於死亡，其權利義務因死亡而開始繼承，由全體繼承人承受，故關於遺產之法律行為，自當由全體繼承人為之，被繼承人縱令於生前曾授權他人為之，亦因其死亡致權利主體不存在使授權關係消滅，即不得再以被繼承人生前授權或全體繼承人之同意，而以被繼承人之名義製作取款憑條，提領被繼承人帳戶內之存款，否則足致社會一般人誤認死者猶然生存在世，有害公共信用之虞，尤其倘另有其他繼承人，對於遺產之繼承迭有爭執，倘未經全體繼承人同意，而擅以被繼承人名義為法律行為，其行為更有足生損害於繼承人之虞，均屬無權製作之偽造行為；至於行為人提領款項之目的或動機何在（例如是否悉數用作支付喪葬費，或其他用途），對於本罪之成立，不生影響（最高法院107年度台上字第1162號判決意旨參照）。次按，盜用印章與盜用印文為不同之犯罪態樣，盜取他人之印章持以蓋用，當然產生該印章之印文，祇成立盜用印章罪，不應再論以盜用印文罪，亦非盜用印章行為為盜用印文行為所吸收（最高法院86年台上字第3295號判例要旨參照）。刑法上之盜用印文罪，係指單純盜用他人之印文而言；若盜用印文，而在書類上已為一定之意思表示，且具有存續性，其內容屬法律上有關係之事項者，則係犯偽造文書罪（最高法院91年度台上字第360號判決要旨參照）。銀行為便利存款人取款而印好任人索取填寫之取款憑條，非可流通市面得以自由轉讓，衹屬私文書之一種，不能認為有價證券（最高法院49年台上字第1409號判例要旨參照）。查被告持偽造鄧清亮製作之取款憑條，向不知情之信義鄉農會承辦人員行使之，核其所為，係犯刑法第216條、第210條之行使偽造私文書罪。而被告在取款憑條之私文書上，盜蓋鄧清亮之印章，係偽造私文書之階段行為；偽造私文書後復持以行使，偽造私文書之低度行為，亦為行使偽造私文書之高度行為所吸收，均不另論罪。(二)爰審酌被告並無曾因犯罪經法院判處罪刑，有臺灣高等法院被告前案紀錄表1份在案足佐，而其明知配偶鄧清亮已經死亡，鄧清亮之信義鄉農會帳戶內之存款係屬遺產、且為全體繼承人共有，竟仍以鄧清亮之名義轉匯存款，非僅損害告訴人等之繼承權利，並且破壞信義鄉農會管理金融帳戶之正確性，行為實有不該，兼衡以被告轉匯之金額係為清償鄧清亮之生前債務及醫藥費（見南投偵卷第32至36頁），及其犯罪之動機、目的、手段、犯罪情節、犯後態度等一切情形，量處如主文所示之刑，並諭知易科罰金之折算標準。(三)另按，盜用他人真印章所蓋之印文，並非偽造印章之印文，不在刑法第219條所定必須沒收之列（最高法院48年台上字第113號判例要旨參照）。偽造之文書，既已交付於被害人收受，則該物非屬被告所有，除該偽造文書上偽造之印文、署押，應依刑法第219條予以沒收外，依同法第38條第3項之規定，即不得再就該文書諭知沒收（最高法院89年度台上字第3757號判決要旨參照）。查鄧清亮之上開信義鄉農會帳戶開戶印章係由被告保管，被告盜蓋印章之印文「鄧清亮」即非偽造，無從依刑法第219條規定諭知沒收。至於上開取款憑條，雖屬被告行使偽造私文書犯罪所用之物，但經被告持以行使，業經信義鄉農會承辦人員收執，已非被告所有，亦非違禁物，爰不予以宣告沒收。此外，被告以行使偽造私文書方式轉匯鄧清亮之信義鄉農會帳戶內之存款153萬元，為其犯罪所得（產自行使偽造私文書犯罪之所得，即實現犯罪所獲得之直接財產利益），固應依法宣告沒收，於全部或一部不能沒收時，追徵其價額，惟因被告主張扣抵「非屬繼承財產之鄧淯任薪資7萬5,586元；清償鄧清亮所遺合會債務35萬2,000元、所得稅債務1萬7,104元、信用卡消費債務2萬4,865元、對鄧清浪之70萬元借款債務、農會借款債務42萬4,931元，以及辦理繼承登記之代書費用5萬元」，合計164萬4,486元，業經臺灣臺中地方法院105年度家訴字第21號民事判決認屬有據，並且詳為說明理由（見南投偵卷第35頁），堪認被告並無保有犯罪所得，倘再就此宣告沒收或追徵，實有過苛之虞、且欠缺刑法上之重要性，自無必要宣告沒收或追徵。據上論斷，應依刑事訴訟法第299條第1項前段，刑法第216條、第210條、第41條第1項前段，判決如主文。本案經檢察官洪紹文提起公訴，檢察官陳俊宏到庭執行職務。中華民國108年5月30日刑事第二庭審判長法官黃益茂法官張雅涵法官張國隆以上正本與原本無異。如不服本判決應於收受送達後10日內向本院提出上訴書狀，並應敘述具體理由；其未敘述上訴理由者，應於上訴期間屆滿後20日內向本院補提理由書（均須按他造當事人之人數附繕本）「切勿逕送上級法院」。告訴人或被害人如對於本判決不服者，應具備理由請求檢察官上訴，其上訴期間之計算係以檢察官收受判決正本之日期為準。書記官張馨方中華民國108年5月30日附錄本案論罪科刑法條：中華民國刑法第210條偽造、變造私文書，足以生損害於公眾或他人者，處5年以下有有期徒刑。中華民國刑法第216條行使第210條至第215條之文書者，依偽造、變造文書或登載不實事項或使登載不實事項之規定處斷。', '一、劉文海前於民國95年間竊取他人電纜線經臺灣屏東地方法院（下稱屏東地院）以95年度易字第277號判處有期徒刑8月，96年出獄後不以正途工作賺取所需，又於97、98年間竊盜大眾運輸工具柴油及車牌共計11次（其中竊油9次），由屏東地院以98年度易字第506、750號判處有期徒刑2年，於該案審理期間之98年9月間，再至新竹竊取柴油，經臺灣新竹地方法院以98年度審易字第704號判處有期徒刑6月，又再犯3次竊取他人柴油犯行，經屏東地院以99年度易字第424號判處應執行有期徒刑1年4月，於101年6月13日假釋出監（於本件尚不構成累犯）。二、劉文海明知伊所有之白色自小貨車（引擎號碼：4DR7-FB225585號，車主登記為洪指成）之車牌號碼為9M-7735號，竟分別為下列行為：(一)與綽號「阿三」真實姓名年籍不詳之成年男子共同基於偽造特種文書之犯意聯絡，於不詳時、地，利用「阿三」不知情之友人偽造壓克力材質車牌號碼00-0000號車牌1面後，劉文海於101年9月17日在屏東縣東港鎮某處，將上開偽造車牌懸掛於其所使用之上開自小貨車，並將該車輛行駛於道路上而行使，足生損害於公路監理機關對汽車牌照管理之正確性及使該車牌號碼00-0000號車牌之真正車主受損。嗣於101年9月18日凌晨0時20分許，劉文海駕駛上開自小貨車搭載洪指成，行經彰化縣芳苑鄉新寶村省道臺17線公路與中正路路口之北上車道時，遭巡邏員警察覺上開自小貨車懸掛之車牌有異而攔查，始悉上情，並扣得附表四編號1所示之物。(二)復基於行使偽造特種文書之犯意，於101年10月24日晚間10時許，在嘉義縣布袋鎮某處，將綽號「阿良」真實姓名年籍不詳之成年男子所交付，以壓克力材質所偽造之車牌號碼0000-00號車牌2面，懸掛於其所使用之上開自小貨車，並將該車輛行駛於道路上而行使，足生損害於公路監理機關對汽車牌照管理之正確性及使該車牌號碼0000-00號車牌之真正車主受損。三、劉文海有財產犯罪之犯罪習慣，甫假釋出監未及半年，竟分別意圖為自己不法之所有，基於竊盜之犯意，於下列時、地為竊盜犯行：(一)於101年10月25日凌晨0時25分許，駕駛上開自小貨車，至嘉義縣朴子市朴子體育館之BRT公車停車場，先以徒手打開如附表二所示3部營業用大客車之四方形外蓋，再將油箱蓋轉開後，以上開自小貨車上之蓄電池接上馬達，再利用其所有之抽油管，接續竊取上開3部營業用大客車油箱內之柴油至其駕駛之上開自小貨車油槽中，合計竊取柴油369.385公升（532-FM號：184公升、082-FJ號：37.43公升、029-FJ號：147.955公升）得手。(二)又於101年10月25日凌晨2時10分許，駕駛上開自小貨車，至嘉義縣朴子市市○路00號民宅前，以徒步之方式進入距其停車處約30公尺之嘉義客運停車場，見如附表三所示10部營業用大客車無人看顧，先以不詳工具將971-FT號、838-FQ號營業用大客車之四方形油箱外蓋撬開，致令不堪使用，再徒手打開上開10部車輛之油箱蓋，欲竊取上開車輛油箱內之柴油時，經民眾發覺報警到場，劉文海見事跡敗露旋逃離現場而不遂，嗣其欲返回上開自小貨車時為當場埋伏之員警逮捕，並扣得附表四編號8所示之物。四、案經嘉義縣警察局朴子分局報告臺灣嘉義地方法院檢察署檢察官偵查起訴。理由一、證據能力：按傳聞法則之重要理論依據，在於傳聞證據未經當事人之反對詰問予以核實，乃予排斥，惟若當事人已放棄對原供述人之反對詰問權，於法院審判時表明同意該等傳聞證據可作為證據，基於證據資料愈豐富，愈有助於真實發現之理念，並貫徹刑事訴訟法修法加重當事人進行主義之精神，確認當事人對於證據能力有處分權之制度，傳聞證據經當事人同意作為證據，法院認為適當者，亦得為證據；另當事人於調查證據時，對於傳聞證據表示「沒有意見」、「對於證據調查無意見」，而未於言詞辯論終結前聲明異議，應視為已有將該等傳聞證據採為證據之同意，刑事訴訟法第159條之5定有明文。本件檢察官、被告劉文海於審理時就本判決引用之各項證據資料如屬審判外之言詞或書面陳述，知有刑事訴訟法第159條第1項不得為證據之情形，均表示無意見，而未於言詞辯論終結前聲明異議，審酌上開證據資料作成時之情況，並無任何違法取證之不適當情形，且對於被告涉案之事實具有相當之關聯性，依刑事訴訟法第159條之5規定，認具有證據能力。二、得心證之理由：(一)上揭犯罪事實欄二之犯行：業據被告於偵查及本院審理時坦承不諱（102年度偵字第433號卷第16至17頁、101年度偵字第6995號卷第20頁、101年度易字第894號卷第24頁反面、第53頁反面、第122頁反面、102年度易字第107號卷第27頁、第40頁反面），並有彰化縣警察局芳苑分局扣押筆錄、扣押物品收據、扣押物品目錄表、照片4張、車輛詳細資料報表、新竹市警察局車輛協尋電腦輸入單、彰化縣警察局舉發違反道路交通管理事件通知單、汽車車籍查詢、汽車異動歷史查詢、汽車領牌歷史查詢、交通部公路總局高雄區監理所101年11月7日高監車字第0000000000號函、新竹市警察局第三分局朝山派出所受理各類案件紀錄表（臺灣彰化地方法院檢察署101年度偵字第8484號卷第29至31頁反面、第40至44頁、第111至114頁、第117頁、第120頁）、嘉義縣警察局朴子分局搜索扣押筆錄、扣押物品收據、扣押物品目錄表、搜索經過及結果陳報書、照片2張（嘉義縣警察局朴子分局嘉朴警偵字第0000000000號卷第18至23頁、第35頁），及扣案如附表四編號1、2所示之物附卷可稽。(二)上揭犯罪事實欄三之犯行：業據被告於偵查及本院審理時坦承不諱（101年度偵字第6995號卷第99頁及反面、101年度易字第894號卷第24頁反面、第53頁反面、第122頁反面），核與證人蔡政哲、李清塗於警詢、偵查中證述（嘉義縣警察局朴子分局嘉朴警偵字第0000000000號卷第9至14頁、101年度偵字第6995號卷第58至60頁、第112至116頁）；證人林振榮於偵查中證述（101年度偵字第6995號卷第64至65頁）大致相符，並有贓物認領保管單、被害人報告單、嘉義縣警察局朴子分局搜索扣押筆錄、扣押物品收據、扣押物品目錄表、搜索經過及結果陳報書、照片68張、臺灣中油收據影本1紙、威盛嘉義站收據影本1紙（上開警卷第15至56頁、第82至83頁）、嘉義縣警察局朴子分局101年11月23日職務報告、臺灣中油收據影本2紙、嘉義縣公共汽車管理處行車人員日報表、臺灣中油油品分析報告、漁船用燃料油規範、車用柴油規範、檢驗樣品照片2張、失竊現場圖、失竊現場照片4張、油箱外蓋毀損照片6張、維修估價單影本2紙（上開偵卷第110至111頁、第117至134頁），及扣案如附表四編號3至11所示之物在卷可佐。(三)被告雖辯稱：犯罪事實欄三、(二)，伊跑去躲起來後，自己走回自小貨車處，員警當時尚不知伊竊盜犯行，是伊跟警察說的云云。惟查：證人即到場查緝之員警方健原於本院審理時證述：當時是接獲民眾報案，有陌生人進入嘉義客運停車場，伊等獲報後就到現場，發現本案自小貨車懸掛壓克力材質之4190-XU號車牌，伊等進入嘉義客運停車場搜尋嫌疑人，看到一個人影，然後該人就跑給伊等追；在逮捕被告前，同事蕭丞璋進去嘉義客運裡面發現油箱蓋被打開，那時候確定被告要去偷油，逮捕被告前就已經知道油箱蓋被撬開，即確定被告要竊盜；追捕時有詢問民眾被告之特徵，還有撿到被告的鞋子，之後被告回到自小貨車時只穿襪子沒有穿鞋子，很確定就是被告，特徵也很符合等語（101年度易字第894號卷第128頁反面至第132頁反面），則證人方健原到場查緝時即發現被告所駕駛之上開自小貨車懸掛以壓克力材質偽造之車牌，復經其進入嘉義客運停車場查看發現停車場內之大客車油箱蓋已遭人打開，復於追捕過程中確認被告之特徵，可知證人於逮捕被告前已有確切之根據得為合理之可疑，知悉被告本件犯罪事實，衡以證人方健原係經具結後方為上開證言，且其為依法執行職務之公務員，與被告素不相識，應尚無何宿隙恩怨，應無甘冒受偽證罪制裁之風險而為虛偽證言構陷之可能，證人方健原之證詞應堪採信，是被告並不符合自首之要件，其辯稱係自首云云，尚非可採。(四)綜上事證，足認被告自白與事實相符，可以採信，本案事證明確，被告犯行堪以認定，應依法論科。三、新舊法比較：按行為後法律有變更者，適用行為時之法律。但行為後之法律有利於行為人者，適用最有利於行為人之法律。刑法第2條第1項定有明文。查被告為上開竊盜犯行後，刑法第50條於102年1月23日修正公布，並自同年月25日起施行，而修正前刑法第50條規定：「裁判確定前犯數罪者，併合處罰之。」修正後刑法第50條第1項則規定：「裁判確定前犯數罪者，併合處罰之。但有下列情形之一者，不在此限：一、得易科罰金之罪與不得易科罰金之罪。二、得易科罰金之罪與不得易服社會勞動之罪。三、得易服社會勞動之罪與不得易科罰金之罪。四、得易服社會勞動之罪與不得易服社會勞動之罪。前項但書情形，受刑人請求檢察官聲請定應執行刑者，依第51條規定定之。」比較修正前後之規定，修正後該條項增訂第1項但書及第2項規定，使行為人取得得易科罰金或易服社會勞動之利益，比較修正前後之規定，自以修正後之規定對被告較有利，依刑法第2條第1項規定，本案被告所為上開竊盜犯行，應適用行為後之法律即修正後刑法第50條，合先敘明。四、論罪科刑：(一)按汽車牌照為行車之許可憑證，屬於刑法第212條所列特許證之一種（最高法院63年臺上字第1550號判例意旨參照）；又刑法上之行使偽造文書罪，重在保護文書公共信用之利益，凡行為人提出偽造之私文書，充作真正之文書，並對其內容有所主張，足以生損害於公眾或他人，即已成立，至其行使之目的能否達到，則在所不問。犯罪事實欄二、(一)所示犯行，被告利用「阿三」不知情之友人，以壓克力材質偽造車牌號碼00-0000號之車牌1面後，將偽造之車牌懸掛於其所使用自用小貨車後駕駛外出，即對該偽造之車牌有所主張，核被告劉文海此部分所為，係犯刑法第216條、第212條之行使偽造特種文書罪。被告與「阿三」有犯意聯絡與行為分擔，為共同正犯。被告與「阿三」利用不知情之友人偽造車牌，為間接正犯。被告偽造車牌之特種文書後復加以行使，其偽造之低度行為已為行使之高度行為吸收，不另論罪。犯罪事實欄二、(二)所示犯行，被告將「阿良」所交付，以壓克力材質偽造車牌號碼0000-00號之車牌2面，懸掛於其所使用自用小貨車後駕駛外出，即對該偽造之車牌有所主張，核被告劉文海此部分所為，係犯刑法第216條行使第212條之偽造特種文書罪。(二)被告就犯罪事實欄三、(一)犯行，係犯刑法第320條第1項之竊盜罪；就犯罪事實欄三、(二)犯行，係犯刑法第320條第3項、第1項之竊盜未遂罪、刑法第354條之毀損他人物品罪。公訴意旨以自被告所駕駛之自小貨車上扣得附表四編號11所示之工具，認被告就犯罪事實欄三、(一)、(二)之犯行，應分別以刑法第321條第1項第3款之攜帶兇器竊盜罪、同法第321條第1項第3款、第2項之攜帶兇器竊盜未遂罪處斷。然被告否認有攜帶兇器竊盜之犯行，辯稱就犯罪事實欄三、(一)部分，係徒手打開油箱蓋，油箱蓋沒有上鎖，一按就打開，伊牽油管去公車的加油孔將油抽至自小貨車之油槽內；就犯罪事實欄三、(二)部分，當時伊車子停在市西路，走進嘉義客運停車場，身上沒有攜帶工具，是以口袋裡的機車鑰匙扳開油箱蓋，再用手指慢慢將油箱蓋扳開，伊並未使用工具破壞油箱蓋，伊不知道自小貨車上有那些扣案之工具等語。查本件雖於被告所駕駛之自小貨車上扣得附表四編號11所示之工具，惟就犯罪事實欄三、(一)部分，證人蔡政哲、李清塗於警詢中陳稱附表二所示之大客車之油箱蓋並未遭破壞等語（上開警卷第10頁、第13頁），且證人李清塗於本院審理時亦不否認本案大客車之油箱蓋在一般狀況一按即可打開乙情（101年度易字第894號卷第122頁反面至第123頁），佐以被告自承僅以抽油管竊取附表二所示之大客車之柴油乙節，是被告供稱竊取大客車之柴油時，並未攜帶附表四編號11所示之工具下車乙節，尚非不可採信；就犯罪事實欄三、(二)部分，員警到場時車牌號碼000-00號、838-FQ號大客車之油箱蓋已遭破壞，並未目擊被告毀損油箱蓋之過程等情，業據證人方健原證述如前，又證人即員警黃威智於本院審理時證稱：被告所駕駛之自小貨車停放處距附表三所示之大客車約3、40公尺等語（101年度易字第894號卷第144頁反面），參以本案係被告折返自小貨車處，遭埋伏現場之員警逮獲，即難認被告持用置於自小貨車內如附表四編號11所示之物行竊，而本案亦未當場查扣被告破壞前揭油箱蓋使用之工具，自難逕論被告持用客觀上足對人之生命、身體、安全構成威脅並具有危險性之兇器行竊，依罪疑惟輕之法理，自不得僅以被告經員警查獲後，於其駕駛之自小貨車上扣得附表四編號11所示之工具為由，遽認其係攜帶兇器，是被告此部分之辯解，尚非無據，公訴意旨認被告涉犯攜帶兇器竊盜罪，尚有未洽，惟因起訴基本事實相同，且經本院於審理時當庭諭知被告另涉犯刑法第320條第1項之竊盜罪，爰依法變更起訴法條。就犯罪事實欄三、(二)部分，被告已著手於上開竊盜犯行之實行，而未生移置財物於自己實力支配下之結果，為未遂犯，爰依刑法第25條第2項規定減輕其刑。被告就犯罪事實欄三、(一)先後竊取多部車輛柴油得手、就犯罪事實欄三、(二)毀損油箱蓋及欲竊取多部車輛柴油未遂，分別係基於同一竊盜及毀損犯意下之接續行為，應各只論以一罪。被告以不詳工具將971-FT號、838-FQ號營業用大客車之四方形油箱外蓋撬開，致令不堪使用，再徒手打開附表三所示之10部車輛之油箱蓋，竊取上開車輛油箱內之柴油未遂，係一行為觸犯構成要件不同之罪名，為想像競合犯，應分別從一重之竊盜未遂罪論處。(三)被告所犯上開4罪，犯意各別，行為互殊，應予分論併罰。爰以行為人之責任為基礎，審酌被告：1.正值青壯，竟不思勞動獲取報酬，任意攫取他人財物之犯罪動機、目的；2.利用偽造車牌掩飾犯行，妨害監理機關對於汽車車牌管理之正確性，亦使車號真正所有人受損，又專挑供大眾運輸用之公共汽車之柴油予以竊取，致使公眾交通工具隱藏危機，造成大眾不便之犯罪手段；3.前有多次行使偽造特種文書、竊取大眾運輸工具之柴油經法院判處罪刑之前科紀錄，有臺灣高等法院被告前案紀錄表1份在卷可考，仍不知悔改而為本件犯行，顯見其品行非佳；4.國中肄業之智識程度；5.被告犯後於警詢及偵查之初否認本件竊盜犯行，嗣於偵查中始承認有竊取大客車之柴油，惟仍飾詞圖卸犯行，且意圖諉過予嘉義客運公司之管理者及員警，影響偵查方向，浪費司法資源之犯後態度等一切情狀，分別量處如附表一所示之刑（就附表一編號1、2所示之刑分別諭知易科罰金之折算標準）。並就附表一編號1、2所示之刑，定如主文所示之應執行刑及易科罰金之折算標準，就附表一編號3、4所示之刑，定如主文所示之應執行刑，以資懲戒。四、沒收：(一)扣案如附表四編號1以壓克力材質偽造之車牌號碼00-0000號車牌1面、編號8之抽油管6條、油槽1個，為被告所有，分別供本件犯罪事實欄二、(一)及三、所用之物，業據其供明在卷（101年度易字第894號卷第63頁、102年度易字第107號卷第27頁），均應依刑法第38條第1項第2款之規定沒收。(二)檢察官就附表四編號3所列之車牌號碼00-0000號自小貨車1輛，認係被告所有，供竊取柴油所用之犯罪工具而聲請依刑法第38條第1項第2款、第3項規定宣告沒收。惟依刑法第38條第1項第2款及第3項規定，供犯罪所用或供犯罪預備之物，而屬於犯人者，得沒收。其立法趣旨係在於防杜再犯及徵收不法利得，以防衛社會安全、維持正義。至其物之沒收與否，審判法院固得自由裁量，但財產權乃憲法所保障之人民基本權利，自有比例原則之適用。是對於非專供犯罪所用之物，是否允宜沒收，即應本其立法目的，依一般社會通念，受比例原則之支配，而審慎決定，非許裁判者濫權恣意擅斷，否則當有法則適用不當之違法（最高法院95年度臺上字第6135號裁判要旨參照），而本件扣案之自小貨車雖係被告所有，衡諸一般社會通念，自小貨車並非專供竊盜犯罪所用之物，如予以沒收不符合比例原則，至附表四編號2、4至7、9至11之扣案物品，或非被告所有，或為被告所有，惟無證據顯示係供犯罪所用之物，均不予宣告沒收。五、諭知強制工作部分：(一)末按「18歲以上之竊盜犯、贓物犯，有犯罪之習慣者，得於刑之執行前，令入勞動場所強制工作」，竊盜犯贓物犯保安處分條例第3條第1項定有明文。而保安處分係針對受處分人將來之危險性所為之處置，以達教化、治療之目的，為刑罰之補充制度。我國現行刑法採刑罰與保安處分雙軌制，係在維持行為責任之刑罰原則下，為協助行為人再社會化之功能，以及改善行為人潛在之危險性格，期能達成根治犯罪原因、預防犯罪之特別目的。是保安處分中之強制工作，旨在對嚴重職業性犯罪及欠缺正確工作觀念或無正常工作因而犯罪者，強制其從事勞動，學習一技之長及正確之謀生觀念，使其日後重返社會，能適應社會生活。竊盜犯贓物犯保安處分條例第3條第1項規定，即係本於保安處分應受比例原則之規範，使保安處分之宣告，與行為人所為行為之嚴重性、行為人所表現之危險性及對於行為人未來行為之期待性相當之意旨而制定，而由法院視行為人之危險性格，決定應否令入勞動處所強制工作，以達預防之目的。(二)查被告有如犯罪事實欄一所示多次竊盜前科，有上開前案紀錄表在卷可考，復於假釋期間再為本件竊取油品犯行，足徵被告於前開十數件竊盜案件判處罪刑甫假釋出監未及半年，仍不思改過，再次竊取他人財物，其犯罪頻率甚高，而有犯罪之習慣，對社會秩序、民眾權益有重大危害，而被告正值壯年，卻未盡其力於正途，反屢次為竊盜犯罪，足認有矯治其惡習、培育其正確觀念、性格，俾其能於將來刑滿重返社會時，不再重蹈覆轍，並獲新生之必要，是檢察官請求本案被告於刑之執行前令入勞動場所強制工作為有理由，且被告所定之執行刑逾1年以上，爰依竊盜犯贓物犯保安處分條例第3條第1項之規定，於其所犯竊盜罪定應執行刑項下，諭知於刑之執行前，令被告入勞動場所強制工作3年（臺灣高等法院暨所屬法院100年法律座談會刑事類提案第9號參照）。據上論斷，應依刑事訴訟法第299條第1項前段、第300條，刑法第2條第1項但書、第28條、第216條、第212條、第320條第1項、第3項、第354條、第55條前段、第25條第2項、第41條第1項前段、第38條第1項第2款、第51條第5款，刑法施行法第1條之1第1項、第2項前段，竊盜犯贓物犯保安處分條例第3條第1項、第4條、第5條第1項前段，判決如主文。本案經檢察官陳志川到庭執行職務中華民國102年3月8日刑事第六庭審判長法官王慧娟法官吳育霖法官葉南君以上正本證明與原本無異。如不服本判決應於收受判決後10日內向本院提出上訴書狀，並應敘述具體理由；其未敘述上訴理由者，應於上訴期間屆滿後20日內向本院補提理由書（均須按他造當事人之人數附繕本）「切勿逕送上級法院」。告訴人或被害人如對於本判決不服者，應具備理由請求檢察官上訴，其上訴期間之計算係以檢察官收受判決正本之日期為準。中華民國102年3月8日書記官高文靜附錄所犯法條：中華民國刑法第212條（偽造變造特種文書罪）偽造、變造護照、旅券、免許證、特許證及關於品行、能力服務或其他相類之證書、介紹書，足以生損害於公眾或他人者，處1年以下有期徒刑、拘役或3百元以下罰金。中華民國刑法第216條（行使偽造變造或登載不實之文書罪）行使第210條至第215條之文書者，依偽造、變造文書或登載不實事項或使登載不實事項之規定處斷。中華民國刑法第320條（普通竊盜罪、竊佔罪）意圖為自己或第三人不法之所有，而竊取他人之動產者，為竊盜罪，處5年以下有期徒刑、拘役或5百元以下罰金。意圖為自己或第三人不法之利益，而竊佔他人之不動產者，依前項之規定處斷。前二項之未遂犯罰之。中華民國刑法第354條（毀損器物罪）毀棄、損壞前二條以外之他人之物或致令不堪用，足以生損害於公眾或他人者，處2年以下有期徒刑、拘役或5百元以下罰金。附表一：', '一、鄭孟育為垣田景觀開發設計有限公司之負責人（下稱垣田公司）。因垣田公司於102年12月13日向高雄市政府農業局（下稱農業局）標得「103年度高雄物產館蓮潭旗艦店環境清潔維護（含災後搶修工作）」標案（下稱物產館標案）承攬103年度高雄物產館蓮潭旗艦店（下稱物產館）之環境清潔維護工作。詎鄭孟育為使臨時清潔人員劉曾玉暇免於繳納勞保及健保費用，明知未取得當時同居人孫慈鈺之授權或同意，竟基於行使偽造私文書之犯意，於102年12月13日至103年1月間之某日，囑不知情之刻印人員偽刻孫慈鈺連續章2枚後，1枚交由不知情之劉曾玉暇自103年1月4日起至同年12月31日止之期間內，於附表二至附表十三「蓋印日期欄」所示日期完成物產館標案清潔工作後蓋印於附表二至附表十三所示之「每月清潔維護人員簽到表」之文件上，另1枚則由鄭孟育按月自行蓋印於附表二之1至附表十三之1所示之「每日環境清潔檢查表」文件之檢查人員簽名欄上，用以表示係由孫慈鈺於上開時間辦理環境清潔及檢查工作之私文書，並由鄭孟育持上揭不實文書於每月月底向不知情之農業局承辦人員申辦驗收及請領物產館標案之價金而行使之（如附表一所示之事實），足生損害於孫慈鈺本人信用及農業局核實承攬工作完成之正確性。嗣孫慈鈺搬家時意外翻見蓋有上揭「孫慈鈺」印文之文件而向臺灣高雄地方法院檢察署提起告訴，始悉上情。二、案經孫慈鈺訴由臺灣高雄地方法院檢察署檢察官偵查起訴。理由壹、證據能力部分按被告以外之人於審判外之陳述，雖不符刑事訴訟法第159條之1至同條之4之規定，而經當事人於審判程序同意作為證據，法院審酌該言詞陳述或書面陳述作成時之情況，認為適當者，亦得為證據；當事人、代理人或辯護人於法院調查證據時，知有同法第159條第1項不得為證據之情形，而未於言詞辯論終結前聲明異議者，視為有前項之同意，刑事訴訟法第159條之5定有明文。經查，本件就後述援用之具傳聞性質之證據，被告、辯護人及檢察官於本院審判中同意作為證據【見本院105年度訴字第844號卷（下稱院卷）第33頁】，且於調查證據時，已知其內容及性質，皆未於言詞辯論終結前聲明異議，本院審酌該等陳述作成時之情況正常，所取得過程並無瑕疵，且與本案相關之待證事實具有關連性，亦無證明力明顯過低等情形，認適當作為證據，依前開刑事訴訟法第159條之5之規定，認上開陳述具有證據能力。又下列其餘認定本案有罪部分之非供述證據，經查並無違反法定程序取得之情，依刑事訴訟法第158條之4規定反面解釋，亦應具證據能力。貳、實體事項一、認定犯罪事實所憑之證據及理由訊據被告固坦承其為垣田公司負責人，而垣田公司於102年12月13日向農業局標得物產館標案，承攬103年度物產館之環境清潔維護工作，其為使臨時清潔人員劉曾玉暇免於繳納勞保及健保費用，乃於102年12月13日至103年1月間某日，在高雄市楠梓區右昌某印章店委託刻印人員刻印其當時同居人即告訴人孫慈鈺連續章2枚，1枚交由劉曾玉暇於附表二至附表十三「蓋印日期欄」所示日期完成物產館標案清潔工作後蓋印於附表二至附表十三所示之「每月清潔維護人員簽到表」上，另1枚則由其按月自行蓋印於附表二之1至附表十三之1所示之「每日環境清潔檢查表」上，再由其每月持上揭文件向農業局承辦人員申辦驗收及請領物產館標案價金之事實，惟矢口否認行使偽造私文書之犯行，辯稱：伊當時與告訴人同居，且告訴人也清楚標案流程，故伊係經告訴人同意刻印孫慈鈺之連續章，再交由劉曾玉暇及自行使用云云；其選任辯護人則為其辯護稱：①告訴人於97年2月起就任職垣田公司，係垣田公司之老闆娘及員工，負責垣田公司備標及投標作業，並將其個人印章、存摺、學經歷證件等具高度專有性資料交由被告保管、使用，可見已概括同意被告或垣田公司以其名義作業務上之使用；②告訴人為垣田公司之老闆娘，當應知悉劉曾玉暇係垣田公司之一般員工，惟因年齡及與銀行間之債務關係無法參加勞健保，日後工作需以告訴人名義提供勞務，況告訴人曾參與物產館標案之投影片製作及放映，益徵對於該工作係其代劉曾玉暇提供勞務出名情形知悉；③被告長期將告訴人連續章及蓋有連續章之文件放置在垣田公司辦公室事務桌上，是如告訴人未概括同意被告使用連續章，告訴人早將連續章取走，並向被告或劉曾玉暇表示不得使用之；④告訴人前後證述有所不一，且因與被告有私人糾紛對被告怨念已深，故其否認授權之證述不足採信；⑤被告係垣田公司之法定代理人，有權製作附表二至附表十三、附表二之1至附表十三之1所示文件，難認被告行為係屬偽造文書；⑥垣田公司就物產館標案確實已依約履行，未影響農業局，且垣田公司已發給劉曾玉暇及告訴人薪資，故被告此一行為不生損害之虞云云，經查：(一)本案基礎事實：被告前揭所坦承之事實【臺灣高雄地方法院檢察署104年度他字第7762號卷（下稱他卷）第105頁反面至第106頁反面、院卷第29頁、第30頁至第33頁、第34頁至第35頁】，經告訴人於偵訊及審理時、證人劉曾玉暇、物產館保全人員盧建良、曾廷君於偵訊時證述明確【他卷第106頁反面、第102頁反面至第103頁反面、臺灣高雄地方法院檢察署105年度偵字第8155號卷（下稱偵卷）第11頁、第12頁、院卷第137至139頁】，並有垣田公司之經濟部商業司公司資料查詢、臺灣高雄地方法院檢察署104年度檢管字第4600號收受贓證物品清單、物產館標案之決標公告、高雄市政府農業局議價/決標/紀錄、高雄市政府農業局議價/決標/紀錄（資格標、公開取得報價單或企劃書公告）、垣田公司就物產館標案自103年1月份至12月份每月清潔維護人員簽到表、103年度物產館標案環境清潔維護工作每日環境清潔檢查表、農業局105年11月29日高市農銷字第10533497800號函、農業局106年1月3日高市農銷字第10533833700號函及檢附之物產館標案契約影本、高雄市政府農業局106年1月23日高市農銷字第10630155200號函在卷可稽【見他卷第9頁、第109頁、102、103年度高雄物產館蓮池譚旗艦店環境清潔維護（含災後搶修工作）案相關資料卷（下稱資料卷）第69頁至第74頁反面、第75頁至第86頁、第87頁至第180頁反面、院卷第15頁、第42頁至第109頁、第215頁至第216頁】，堪以認定。(二)告訴人未授權被告刻印連續章供劉曾玉暇及被告蓋印於附表二至附表十三、附表二之1至附表十三之1所示文件之事實：1.告訴人於偵訊時及審理時均證稱：伊未授權被告刻印連續章等語【見他卷第106頁反面、偵卷第12頁、院卷第143頁】，而被告於104年12月8日偵訊時亦供稱：伊蓋用孫慈鈺的連續章未經其授權；且未經告訴人同意蓋用其連續章等語【見他卷第105頁、第106頁】，可徵被告應確未經告訴人同意即自行刻印告訴人連續章2枚，並將印章交由劉曾玉暇及己身蓋印於附表二至附表十三及附表二之1至附表十三之1所示之文件。2.又「知悉」並不等同於「同意」，某人知悉某項事實而不為反對之表示，能否視為同意或默示同意，仍須以該人是否有某項舉動，足以推知其有同意之意思者，始足當之。被告以下辯解僅得證明告訴人可能「知悉」物產館標案需要製作前揭文書及其個人印章曾經被告使用之情，但對於是否同意由被告或劉曾玉暇製作如事實欄所載之文書，則無證據證明：(1)被告於106年2月7日審理時改稱：伊刻連續章時，已跟告訴人講明，而得告訴人同意等語【見院卷第156頁】，倘被告此部分供稱屬實，應無可能誤會未得告訴人同意刻印及用印，且應於先前訊問時即為此部分最直接之利己供述，然被告於首次偵訊時已坦承未經告訴人同意或授權刻印，詳如前述，而被告雖就此係供稱其因未取得告訴人之授權書，故於當時誤認未得告訴人之同意，然被告於104年12月8日偵訊後具狀表示及於105年5月5日偵訊時均否認無權刻印及偽蓋告訴人連續章之犯行，而就此表示其事後想到告訴人自98年起將其存摺及印章交與其作工作上使用，且與告訴人同居期間均放置告訴人可見位置，故認其已得告訴人概括授權同意【見他卷第114頁至第115頁、偵卷第12頁】，嗣於105年10月26日準備程序時供稱：伊於該時與告訴人同居，且告訴人知悉文書作業流程，故認為告訴人係有同意伊使用這些印章等語【見本院105年度審訴字第1734號卷（下稱審訴卷）第25頁】，而均以與授權書無關之上情積極主張其應已得告訴人同意之情，且均未提及曾當面徵得告訴人同意刻印或蓋印連續章，是被告前揭供稱嗣後翻異前詞理由即有可議，且此部分之翻異供述是否可採，已非無疑；再者，被告既係因劉曾玉暇之個人因素刻印告訴人之連續章，如曾徵詢告訴人，理應將刻印之目的及用途告知，然被告於105年5月5日偵訊時以明確供稱：伊交給劉曾玉暇印章並未告知告訴人等語【見偵卷第12頁】，可見被告此部分之辯稱不足採信。(2)再者，被告於104年12月8日偵訊時明確供稱：物產館標案之現場人員均未與告訴人接觸，且屬臨時雇用員工等語【見他卷第105頁反面、第106頁】，且告訴人亦到庭證稱：伊對劉曾玉暇名字有印象，但對該人無印象等語【見院卷第146頁】，則劉曾玉暇既未與告訴人有所接觸，則告訴人是否知悉劉曾玉暇因個人因素無法有參加勞健保之情形，即非無疑；又被告得標物產館標案後，嗣於103年1月9日函送物產館標案之勞工名冊至農業局，而該勞工名冊共有5人，分別為被告、孫慈鈺、孫大成、廖慶安、張永富，此有農業局106年1月3日高市農銷字第10533833700號函檢附之垣田公司103年1月9日（109）物產字第103010902號函檢附之物產館標案勞工名冊在卷可稽【見院卷第42頁、第58頁】，然此勞工名冊所列載之人員，除孫慈鈺之連續章曾出現於物產館標案之「每月清潔維護人員簽到表」、「每日環境清潔檢查表」外，僅被告之連續章曾多次出現於「每日環境清潔檢查表」之文件上，及張永富之連續章出現於附表六編號31、附表十一編號10所示文件之簽到人欄位，暨被告曾簽名於附表六編號17所示文件之簽到人欄位，並多次於「每日環境清潔檢查表」簽名，此外尚無其他孫大成、廖慶安之簽名或印文出現於物產館標案之「每月清潔維護人員簽到表」、「每日環境清潔檢查表」之文件上，且尚有未在上揭勞工名冊內之人員即許燕草之連續章印文或劉英男之簽名多次出現於「每月清潔維護人員簽到表」，此有卷附之物產館標案之每日清潔維護表、每日環境清潔檢查表附卷可佐【資料卷第75至179頁】，又102年「蓮池潭高雄物產館」環境清潔維護工作之「工作補充說明書」第9條第2項及物產館標案之工作補充說明書第9條第2項均規定人員由廠商自由調度，故每月清潔維護人員簽到表之簽到人員與勞工名冊不同，應屬廠商自行調度人員，契約並未規範人員調度之作業等情，有農業局106年1月3日高市農銷字第10533833700號函檢附之物產館標案契約之工作補充說明書、農業局106年1月23日高市農銷字第10630155200號函附卷可稽【見院卷第42頁、第82頁至第83頁、第138頁至第139頁】，可見勞工名冊上所載之人員與事後實際工作人員可非屬同人，且垣田公司事後實際工作並簽到之人確有非屬原其提供與農業局勞工名冊所載之人，是告訴人縱確實曾協助製作或操作物產館標案之簡報【見院卷第142頁】，而可能從中知悉其被列為勞工名冊之人，然勞工名冊人員及實際施作人員既可能因廠商調度而可有所不同，且垣田公司實際操作上亦有此情形之發生，故難以此逕認告訴人已同意出名與現場實際工作人員，是被告辯護人為被告辯稱：告訴人熟悉垣田公司業務而知悉劉曾玉暇有個人因素需他人出名，且曾參與物產館標案之簡報作業，知悉物產館標案內容，進而主張告訴人有授權被告刻印其姓名連續章，及交由現場實際工作人員劉曾玉暇及被告蓋印於物產館標案工作使用云云，自不足採。(3)又告訴人曾將其銀行存簿、印鑑章、畢業證書等相關證書交給被告保管直至103年12月，並同意被告將其畢業證書作為投標標案之服務建議書所用等情，業經告訴人證述明確【見院卷第136頁至第137頁】，然被告未具體指出告訴人之銀行存簿、印鑑章與其標案之相關性，再酌以告訴人與被告前係同居關係，則此與被告工作或標案是否相關已非無疑，縱認告訴人所交付上揭物品及證書均係供被告工作或投標所用，惟告訴人既僅交付上揭物品及證書供被告工作或投標所用，衡情尚難以此擴張認定告訴人已概括授權刻印及以之作為借名與實際工作人員使用，是難以上情對被告為有利之認定。(4)另被告辯護人為被告辯稱：被告長期將告訴人之連續章及蓋有連續章之文件放置於告訴人得自由進出之垣田公司辦公室內，如告訴人未概括同意被告蓋印連續章，則應已發現之並將連續章取走，且向被告或劉曾玉暇表示不得使用之云云，然告訴人到庭證稱：伊係於103年12月間搬家時發現其同居處1樓辦公室內放有蓋印伊姓名連續章之文件，而提起本件告訴等語【見院卷第143頁】，又被告縱長期將連續章及蓋印文件放置於辦公室內，惟此與告訴人是否因而翻閱而查知當無直接關聯，是被告辯護人為被告前揭辯稱告訴人早已發現被告刻印或蓋印其連續章之詞僅屬其主觀臆測之詞，自難憑此逕認被告已得告訴人同意或授權刻印連續章及蓋印於附表二至十三、附表二之1至十三之1之文件上。3.被告辯護人復為被告辯稱：告訴人於104年12月8日偵訊時證稱：伊係全職之家庭主婦，且不知有物產館標案等語【見他卷第106頁反面】，嗣於審理時證稱：伊有將勞健保加入垣田公司，且被告按月給付伊2萬元，並就物產館標案協助被告作簡報排版、操作，及協助垣田公司得標之燕巢動物保護關愛園區新建工程（下稱燕巢動物工程）部分作業等語【見院卷第135頁、第137頁】，足見其前後證述迥異，且告訴人於103年間尚有參與燕巢動物工程，而在垣田公司工作，並非全職家庭主婦，是其所為證述與事實尚有不一之情形，又告訴人於103年12月間不歡而散後，即不願被告依法認領與其所生之女兒，甚至偵訊及審理時均表示不願與被告和解，可見告訴人對被告怨念頗深，故其證述實不足採云云，惟告訴人於97年1月27日與被告結婚，嗣因告訴人重婚而經臺灣高雄地方法院99年度家訴字第258號判決宣告渠等婚姻無效，而兩人仍同居至103年12月間，此經告訴人證述明確【見院卷第134頁至第135頁】，並有被告之戶籍謄本及臺灣高雄地方法院99年度家訴字第258號判決附卷可稽【見他卷第116頁至第118頁】，又現今社會未工作之婦女協助其配偶或同居人所經營之公司業務及加保其中均非少見，是告訴人雖曾參與被告所經營之垣田公司標案，且每月自被告處拿取2萬元，並投勞健保於垣田公司，惟此究係單純協助而按月拿取家用或已為垣田公司員工並按月領取薪資，僅屬主觀認知上有所落差，客觀事實難謂有重大不同，是要難憑此逕認告訴人證述有重大瑕疵足以推翻本院之認定，且亦難認告訴人有為挾怨報復被告而故意為不實證述之情形，是被告辯護人前揭辯稱均難採信。(三)被告係無製作權人而冒用告訴人名義以製作附表二至十三之「每月清潔維護人員簽到表」及附表二之1至十三之1「每日環境清潔檢查表」之事實：按刑法第210條之偽造私文書罪，以無制作權人而捏造他人名義制作該文書為構成要件之一，學理上稱為「有形偽造」，倘行為人係以自己名義制作之文書，或基於他人之授權、委託，以該他人名義制作之文書，既非無制作權，自均不能成立該罪；至刑法第213條之公文書不實登載罪及同法第215條之業務上文書登載不實罪，乃有制作權人，故意自為記載內容虛偽不實之文書，學理上謂為「直接無形偽造」，而同法第214條之使公務員登載不實罪，係向有制作權人，為虛偽不實之報告或陳述，使該有制作權人據以制作內容不實之文書，學理上指為「間接無形偽造」，前後情形有別，不容混淆（最高法院84年度台上字第1996號判決意旨參照）。經查，被告未經告訴人授權即刻印其姓名之連續章2枚並交由劉曾玉暇及由自己分別蓋印於附表二至十三及附表二之1至附表十三之1所示之文件上，業經本院認定如前；再者，附表二至十三所示之「每月清潔維護人員簽到表」及附表二之1至附表十三之1所示「每日環境清潔檢查表」中之檢查人員簽名欄本須由到場負責清掃及檢查人員以其自身名義簽名或用印，顯非屬垣田公司法定代理人依其職權所可製作之文書，是依前揭說明，被告冒用告訴人名義蓋印於上揭文件以製作之即屬無製作權人製作上揭文件。(四)被告按月持附表二至附表十三及附表二之1至附表十三之1所示文件向農業局行使之事實：按刑法上之行使偽造私文書罪，必須提出偽造之文書，本於該文書之內容有所主張方得成立（最高法院47年台上字第1048號判決意旨參照）。經查，被告係按月分別持附表二至附表十三、附表二之1及附表十三之1所示文件向農業局而辦理驗收及請領價金乙節，業經本院認定如前，而上揭文件分別係表彰垣田公司依約完成清潔及檢查工作，依前揭說明，足認被告就偽造之文書內容有所主張而行使之。(五)被告前揭所為對告訴人之信用及農業局核實承攬之工作完成之正確性足生損害：按刑法處罰偽造文書之罪，旨在保護文書之實質真正，雖尚以足生損害於公眾或他人為要件之一，惟衹須就客觀上為一般觀察，公眾或他人事實上有因此受損害之虞即足，有無實質受損害，並非所問，且所謂損害，亦不以經濟價值為限（最高法院刑事判決104年度台上字第1638號判決意旨參照）。經查，被告所為已誤導農業局認於每日清潔維護人員簽到表及每日環境清潔檢查表上有孫慈鈺印文之日即係由其執行清潔及檢查環境工作，而須由其負擔此文書內容正確之責任，又被告於準備程序時供稱：物產館標案執行過程中，假日需由二位清潔人員進行清掃，否則會遭農業局扣款等語【見院卷第33頁】，而附表五編號4蓋印日期當日，附表五編號4所示之文件上除蓋有「孫慈鈺」之印文外，同日該文件上之簽到人欄另蓋有「曾玉暇」之印文，而影響農業局對垣田公司於假日是否已派足員工到場履約之認定，足見被告偽蓋孫慈鈺連續章確實會影響農業局對物產館標案之管理，及產生告訴人因此遭究責之風險，從而被告之行為係足生損害於告訴人信用及農業局核實承攬之工作完成之正確性，甚為明確。又最高法院49年台非字第18號判例係針對該案被告未將已離職其寓所工作之員工「周海東」辦理人事異動，並刻印「周海東」之印章，誤刻為「周東海」印章，再以該前員工之名義報領薪餉及配給實物，並以前揭誤刻印章蓋用於配給實物印領清冊及員役現金給與清冊上，再發給接替人員之事實，而認被告以前員工名義報領之薪餉及配給實物交與接替人員，既為接替人員實行服務所應享受之報酬，復為公家對於服務人員所應負擔之給與，於公於私均無足生損害之可言，其文書登載之形式雖有不實，而實質上殊無足生損害之虞，惟此判例事實中，該案被告偽刻之印章姓名有誤，且文書僅係表彰於該寓所服務人員已具領應領報酬，與本件被告偽刻告訴人姓名之連續章，以表彰告訴人身分，及被告所偽造之文件具供主管機關查核被告是否已依約履行之目的情形不同，自難予以比附援引，而難憑此逕認被告行使偽造文書行為依此判例不生損害之虞。(六)末按當事人聲請調查之證據，待證事實已臻明瞭無再調查之必要者，應認為不必要，刑事訴訟法第163條之2第2項第3款定有明文。本件被告固請求①向行政院公共工程委員會函詢鄭孟育園藝技師事務所、垣田公司自97年3月至102年12月止參與政府機關工程投標次數及投標項目，以證明被告曾多次使用告訴人交付之學經歷證件於參與標案之服務建議書或企畫書內，且垣田公司102年度之政府標案僅3、4個，均經告訴人參與而知悉。②向高雄市政府工務局新建工程處調取燕巢動物工程相關資料，證明該案件亦使用告訴人學經歷證件參與該標案之服務建議書或企業書內。③傳喚證人即燕巢動物工程負責人楊士賢，證明告訴人曾多次至高雄市政府新建工程處製作施工計畫書、進度表書類資料，及負責該工程案件之印製及用印，以此證明告訴人於103年間仍任職於垣田公司，打擊告訴人證述之憑信姓。惟告訴人已到庭證稱：伊於97年將相關個人學經歷證據交予被告，供被告作為投標標案之服務建議書後相關資料所用，並就燕巢動物工程案件曾拿垣田公司大小章至工程處用印、依被告所提出之範本填寫施工計畫書、品管計畫書及防浚計畫書，及依被告指示至工程處找楊士賢修改計畫書等語【見院卷第137頁至第138頁、第141頁】，是告訴人之證述大致已可證明被告辯護人聲請調查上揭證據之目的，又本院於前已詳述告訴人否認其在垣田公司任職情形尚不足以遽認其證述有不可採之情，另被告辯護人所聲請傳喚之上揭證據均與物產館標案無關，且未指出有與本件相同之告訴人出名與垣田公司實際到場人員之情形，是被告辯護人為被告聲請上揭證據，核與待證事實無直接及重要關係，且被告所涉前揭犯行，業經本院審認如前，從而，本案事實已臻明瞭，揆諸上揭規定認無依被告辯護人之聲請函詢或傳訊證人之必要，附此敘明。(七)至告訴人具狀表示被告行為應另涉犯詐欺取財罪部分，惟依卷內資料所示，未見有客觀事證足認被告有未依物產館標案契約履行環境清潔事務而向農業局詐領標案價金之情形，至附表五編號4蓋印日期每月維護人員簽到表上係分別蓋印「孫慈鈺」及「曾玉暇」之印文，然依卷內資料，尚不足以證明垣田公司當日確有未派足員工前往履約，且依卷內資料，垣田公司履行物產館標案期間僅該日發生此情，要難排除係一時疏失所致，是難認被告另涉詐欺取財之犯行，且檢察官對此亦為相同之認定，而不另為不起訴之處分，併此敘明。(八)綜上所述，本件事證明確，被告上開所辯均無可採，其行使偽造私文書之犯行洵堪認定。二、論罪科刑(一)按刑法上之偽造印文罪，係指單純偽造印文而言，若在制式之書類上偽造他人印文，已為一定意思表示，具有申請書或收據等類性質者，則係犯偽造文書罪，該偽造印文為偽造文書之部分行為不另論罪（最高法院85年度台非字第146號判決、88年度台非字第5號判決、92年度台上字第1877號判決意旨參照），是倘行為人係以簽名或蓋印之意，於文件上簽名或蓋印，且該簽名或蓋印僅在表示簽名或蓋印者個人身分，以作為人格同一性之證明，除此之外，再無其他用意者，即係刑法上所稱之「署押」；反之，若於人格同一性之證明外，尚有其他法律上之用意（例如表示收受某物之用意而成為收據之性質、表示對於某事項為同意之用意證明）者，始該當刑法上之「私文書」。本件附表二至附表十三及附表二之1至附表十三之1所示文件分別表彰到場實行清潔及檢查工作人員之文書，屬私文書無疑，又清潔人員及檢查工作人員於其上用印應係用以表示已完成工作之意思及擔保其記載內容真正之用意，已屬私文書無訛，故核被告所為附表一所示之行為，均係犯刑法第216條、第210條之行使偽造私文書罪。另被告偽造告訴人連續章2枚，及分別以上揭連續章偽造附表二至附表十三及附表二之1及附表十三之1所示文件之印文行為，均為偽造私文書之階段行為。被告自103年1月起於每月所為附表一所示之各次行為，均係於密接時間內基於當月持上揭文件向農業局辦理驗收及請款之同一犯意所為，顯係各基於單一犯罪決意而為之，各該舉動之獨立性極為薄弱，難以強行分開，在刑法評價上，以視為數個舉動之接續施行，合為包括之一行為予以評價較為合理，各應論以接續犯之一罪。再者，被告上開偽造私文書之低度行為，應為行使之高度行為所吸收，應論以行使偽造私文書罪。又被告利用不知情之刻印業者偽刻告訴人之印章，及利用不知情之劉曾玉暇盜蓋告訴人連續章於附表二至附表十三所示之「每月清潔維護人員簽到表」，均應論以間接正犯。(二)本件被告於103年每月月底彙整當月之「每月清潔維護人員簽到表」、「每日環境清潔檢查表」再交給農業局辦理驗收及請款等情，業經本院認定如前，可見上揭文件係按月月底彙整後再交由農業局驗收及請款而行使之，是其按月行使偽造私文書行為，每次相隔時間已達1個月，應屬各別獨立行使行為而非接續行使，自難論以一罪。故被告所犯附表一編號1至12所示行使偽造私文書罪，其犯意各別，行為互殊，應予分論併罰。公訴意旨及被告辯護人辯護意旨雖認被告偽造附表二至附表十三及附表二之1至附表十三之1所示行使偽造私文書之行為應屬接續犯，故罪數應屬一罪，及告訴人具狀表示應就每日或間隔數日盜蓋告訴人印章於之行為各論一罪云云，則有未洽。(三)爰以行為人之責任為基礎，審酌被告明知告訴人未授權借名與劉曾玉暇，即未經告訴人同意偽造其連續章2枚，並自103年1月起至同年12月止每月利用不知情之劉曾玉暇及自行分別於「每月清潔維護人員簽到表」、「每日環境清潔檢查表」上蓋印偽造之連續章，再執此向農業局行使，足生損害於告訴人信用及農業局對物產館標案管理之正確性，行為已有不當，復兼衡被告僅於首次偵訊時坦承犯行，嗣後均否認犯行之犯後態度，及酌以其經濟、生活狀況、教育程度為大學畢業等其他一切情狀，量處如附表一編號1至12所示之刑，並均諭知如易科罰金以新臺幣1,000元為折算1日之標準。併定其應執行之刑及同前易科罰金之折算標準，以資懲儆。三、沒收(一)按被告為本件犯行後，刑法關於犯罪所得之沒收及追徵等事項，業已修正、增訂刑法第38條至第38條之3等條文，並於104年12月30日修正公佈、105年7月1日施行。而沒收、非拘束人身自由之保安處分適用裁判時之法律，刑法第2條第2項定有明文，故本件之沒收即應逕行適用裁判時法律，合先敘明。次按供犯罪所用、犯罪預備之物或犯罪所生之物，屬於犯罪行為人者，得沒收之。但有特別規定者，依其規定。前項之物屬於犯罪行為人以外之自然人、法人或非法人團體，而無正當理由提供或取得者，得沒收之。但有特別規定者，依其規定，刑法第38條第2項及第3項定有明文。再按刑法第219條規定，偽造之印章、印文或署押，不問屬於犯人與否，沒收之。復按縱署押、印文為文書之一部，偽造署押、偽造印文之行為應吸收於偽造文書行為，而無須另行論罪，然若未將偽造之文書沒收者，仍應依刑法第219條將偽造之署押、印文沒收（最高法院27年上字第2597號判例意旨參照）。經查，本件被告偽造告訴人之連續章2枚部分均經被告提出而扣押在案，依刑法第219條之規定，於各該罪之主文項下，予以宣告沒收，又被告偽造告訴人之連續章蓋印於如附表二至十三及附表二之1至十三之1所示之私文書，業經交由農業局保管，且農業局非無正當理由取得，依刑法第38條第2項、第3項之規定，爰不予宣告沒收，惟被告於附表二至十三及附表二之1及十三之1所示文件上偽造如附表二至十三及附表二之1至十三之1之偽造「孫慈鈺」之印文欄所示之印文，仍應依刑法第219條規定，不問屬於被告與否，併予以宣告沒收。(二)末按修正後刑法第51條第9款已刪除宣告多數沒收，併執行之規定，而將該項規定移至修正後第40條之2第1項，故就沒收已無定應執行刑之問題。如宣告多數沒收，自應適用新法，併執行之，故對被告所為之沒收宣告自無庸再定應執行刑，附此敘明。據上論斷，應依刑事訴訟法第299條第1項前段，刑法第216條、第210條、第41條第1項前段、第8項、第219條、第51條第5款、第40條之2第1項，刑法施行法第1之1條第1項，判決如主文。本案經檢察官黃世勳到庭執行職務。中華民國106年3月3日刑事第三庭審判長法官楊智守法官黃三友法官姚怡菁以上正本證明與原本無異。如不服本判決應於收受送達後10日內向本院提出上訴書狀，並應敘述具體理由；如未敘述上訴理由者，應於上訴期間屆滿後20日內向本院補提理由書（均須按他造當事人之人數附繕本）「切勿逕送上級法院」。中華民國105年3月3日書記官陳正附錄本件判決論罪科刑法條：中華民國刑法第210條（偽造變造私文書罪）偽造、變造私文書，足以生損害於公眾或他人者，處5年以下有期徒刑。中華民國刑法第216條（行使偽造變造或登載不實之文書罪）行使第210條至第215條之文書者，依偽造、變造文書或登載不實事項或使登載不實事項之規定處斷。附表一']\n",
            "Test Sentences: [150, 242, 60, 302, 365]\n"
          ]
        }
      ]
    },
    {
      "cell_type": "markdown",
      "source": [
        "# 斷詞"
      ],
      "metadata": {
        "id": "HZmg7VtkoSOS"
      }
    },
    {
      "cell_type": "code",
      "source": [
        "!pip install opencc-python-reimplemented"
      ],
      "metadata": {
        "id": "pygIOpMP1TT8",
        "outputId": "a554d17f-0e92-43df-e815-07ec374740ac",
        "colab": {
          "base_uri": "https://localhost:8080/"
        }
      },
      "execution_count": 14,
      "outputs": [
        {
          "output_type": "stream",
          "name": "stdout",
          "text": [
            "Collecting opencc-python-reimplemented\n",
            "  Downloading opencc_python_reimplemented-0.1.7-py2.py3-none-any.whl (481 kB)\n",
            "\u001b[?25l     \u001b[90m━━━━━━━━━━━━━━━━━━━━━━━━━━━━━━━━━━━━━━━━\u001b[0m \u001b[32m0.0/481.8 kB\u001b[0m \u001b[31m?\u001b[0m eta \u001b[36m-:--:--\u001b[0m\r\u001b[2K     \u001b[91m━━━━━━━━━━━━━━━━━━━━━\u001b[0m\u001b[90m╺\u001b[0m\u001b[90m━━━━━━━━━━━━━━━━━━\u001b[0m \u001b[32m256.0/481.8 kB\u001b[0m \u001b[31m7.5 MB/s\u001b[0m eta \u001b[36m0:00:01\u001b[0m\r\u001b[2K     \u001b[90m━━━━━━━━━━━━━━━━━━━━━━━━━━━━━━━━━━━━━━━━\u001b[0m \u001b[32m481.8/481.8 kB\u001b[0m \u001b[31m7.6 MB/s\u001b[0m eta \u001b[36m0:00:00\u001b[0m\n",
            "\u001b[?25hInstalling collected packages: opencc-python-reimplemented\n",
            "Successfully installed opencc-python-reimplemented-0.1.7\n"
          ]
        }
      ]
    },
    {
      "cell_type": "code",
      "source": [
        "from opencc import OpenCC"
      ],
      "metadata": {
        "id": "nDvC9PWt1VHI"
      },
      "execution_count": 15,
      "outputs": []
    },
    {
      "cell_type": "code",
      "source": [
        "cc = OpenCC('t2s')"
      ],
      "metadata": {
        "id": "O4midZsM1Wqq"
      },
      "execution_count": 16,
      "outputs": []
    },
    {
      "cell_type": "code",
      "source": [
        "from udicOpenData.stopwords import *\n",
        "\n",
        "# 分詞加空白\n",
        "def split_passage(passage):\n",
        "    word_and_tag = list(rmsw(passage, flag=True))\n",
        "    _temp = list(filter(lambda x: x[1]!='nr' and x[1]!='ns', word_and_tag))\n",
        "    # print(_temp)\n",
        "    text = \" \".join(list(map(lambda x:x[0], _temp)))\n",
        "    return text"
      ],
      "metadata": {
        "colab": {
          "base_uri": "https://localhost:8080/"
        },
        "id": "lqnfJvoXoHWX",
        "outputId": "03d22ebe-0b64-4d03-929c-340f92dd9ff7"
      },
      "execution_count": 11,
      "outputs": [
        {
          "output_type": "stream",
          "name": "stderr",
          "text": [
            "[nltk_data] Downloading package punkt to /root/nltk_data...\n",
            "[nltk_data]   Unzipping tokenizers/punkt.zip.\n",
            "[nltk_data] Downloading package averaged_perceptron_tagger to\n",
            "[nltk_data]     /root/nltk_data...\n",
            "[nltk_data]   Unzipping taggers/averaged_perceptron_tagger.zip.\n",
            "[nltk_data] Downloading package maxent_ne_chunker to\n",
            "[nltk_data]     /root/nltk_data...\n",
            "[nltk_data]   Unzipping chunkers/maxent_ne_chunker.zip.\n",
            "[nltk_data] Downloading package words to /root/nltk_data...\n",
            "[nltk_data]   Unzipping corpora/words.zip.\n",
            "[nltk_data] Downloading package wordnet to /root/nltk_data...\n"
          ]
        }
      ]
    },
    {
      "cell_type": "code",
      "source": [
        "tokenized_train_facts = []\n",
        "\n",
        "for data in train_facts:\n",
        "    tokenized_train_facts.append(split_passage(cc.convert(data)))"
      ],
      "metadata": {
        "id": "GlXRtcojoe_G"
      },
      "execution_count": 17,
      "outputs": []
    },
    {
      "cell_type": "code",
      "source": [
        "tokenized_test_facts = []\n",
        "\n",
        "for data in test_facts:\n",
        "    tokenized_test_facts.append(split_passage(cc.convert(data)))"
      ],
      "metadata": {
        "id": "FCISeZzPwG4j"
      },
      "execution_count": 18,
      "outputs": []
    },
    {
      "cell_type": "code",
      "source": [
        "tokenized_train_facts[0]"
      ],
      "metadata": {
        "colab": {
          "base_uri": "https://localhost:8080/",
          "height": 178
        },
        "id": "kM6ppF3Bon3k",
        "outputId": "b7732984-adce-4c35-f26f-9be5ce179049"
      },
      "execution_count": 19,
      "outputs": [
        {
          "output_type": "execute_result",
          "data": {
            "text/plain": [
              "'明知 与 籍 女子 名字 为 JARUWANWONGPRATOOM 涉嫌 本案 伪造文书 部分 经 地方法院 检察署 检察官 通缉 中 间 并 无 结婚 真意 源等 人 欲 找 男子 前往 与 女子 办理 假结婚 林 清水 负责 介绍 男子 予 源等 人 赚取 新台币 下同 万元 仲介 费 适 清水 于 报纸 刊登 征 人 广告 应征 时 清水 告知 女子 欲 假结婚 方式 申请 来 台 居留 工作 其若 担任 假结婚 人头 不用 负担 前往 食宿 机票 费用 外 尚可 获取 万元 报酬 迨 应允 同意 后 林 清水 将 转 介绍 予 源等 人 遂 与 清水 源等 人 共同 基于 行使 使 公务员 登载 不实 公文书 概括 犯意 联络 先 指示 于 民国 前往 并 于 同年 月 日 与 法拉 坎农 区 注册 办事处 登记 结婚 取得 上开 注册 办事处 核发 结婚登记 书 结婚证书 文件 后 即行 返台 并 于 同年 持 经 我国 驻 台北 经济 文化 办事处 认证 之上 开 结婚登记 书 结婚证书 资料 永康市 改制 前 称谓 以下 沿用 旧制 称谓 户政事务 填写 结婚登记 申请 办理 与 结婚登记 使 开 户政事务 所仅 有形 式 审查 承办 公务员 陷于 错误 于 形式 审核 后 将 与 于 结婚 不实 事项 登载 于 职务 上所 掌属 公文书 户籍 登记 资料 内 并 据 核发 户籍誊本 足以 生 损害 于 户政 机关 对于 户政 管理 户籍 登记 资料 维护 正确性 迨 来 台后 为 取得 居留 身分 前 概括 犯意 联络 于 同年 持 前 开 登载 不实 户籍誊本 资料 先后 县政府 警察局 外事 课 申请 核发 外侨 申请 延期 连续 行使 业经 检察官 当庭 补充 经 承办 人员 实质 审查 结果 未 发觉 与 假结婚 实情 发给 核准 延期 足以 生 损害 于 主管机关 对 外侨 居留 管理 正确性 案经 警察局 现 改制 为 市政府 警察局 以下 沿用 旧制 称谓 第一 分局 报告 地方法院 检察署 检察官 侦查 起诉 理由 甲 程序 方面 本件 以下 引用 具 传闻 证据 性质 供述 证据 本件 被告 检察官 人 于 本院 准备 程序 进行 时 未 争执 前 开 证据 能力 迄至 本案 言词辩论 终结 前 亦 未声明 异议 应 视为 已 同意 援引 作为 证据 本院 审酌 前 开 证据 作成 时 情况 证据 取得 过程 节 并 无非 出于 任意性 不正 取供 违法 不当 情事 客观 亦 无显 不可 信 情况 堪 认为 适当 刑事诉讼法 条 规定 证据 能力 卷附之 被告 婉入 出国 日期 纪录 份 书证 非 属 供述 证据 皆 无 传闻 法则 适用 复均 无 违反 法定程序 取得 情形 刑事诉讼法 条 规定 反面 解释 应有 证据 能力 乙 实体 方面 讯 据 被告 坦承 于 开时 透过 共犯 林 清水 介绍 先至 办理 与 共犯 结婚 手续 前往 永康市 户政事务 办理 结婚登记 前往 县政府 警察局 外事 课 办理 共犯 外侨 申请 延期 事实 惟 矢口否认 有何 行使 使 公务员 登载 不实 文书 情事 于 本院 审理 时 辩称 当时 经济 状况良好 同居 女友 欲 日本 工作 愿 结婚 希望 结婚 生子 遂 透过 共犯 林 清水 介绍 与 安排 共犯 林 清水 先 让 看过 共犯 照片 前往 与 共犯 结婚 伊 仅 负担 来回 机票 钱 住宿费 结婚 费用 共犯 林 清水 负担 赠送 伊 一部 机车 予 共犯 林 清水 以为 回报 伊 并 认识 共犯 经查 被告 于 前往 并 于 同年 月 日 与 共犯 法拉 坎农 区 注册 办事处 登记 结婚 取得 上开 注册 办事处 核发 结婚登记 书 结婚证书 文件 后 被告 即行 返台 并 于 同年 持 经 我国 驻 台北 经济 文化 办事处 认证 之上 开 结婚登记 书 结婚证书 资料 永康市 户政事务 填写 结婚登记 申请 办理 与 共犯 结婚登记 并 取得 户籍誊本 迨 共犯 来 台后 为 取得 居留 身分 被告 与 共犯 于 同年 持 前 开 户籍誊本 资料 先后 县政府 警察局 外事 课 申请 核发 共犯 外侨 申请 延期 情 业据 被告 供承 卷 并 结婚登记 授权书 份 结婚登记 书 结婚证书 份 含 中文 泰文 影本 我国 驻 台北 经济 文化 办事处 认证 资料 外国人 居留 停留 案件 声请表 份 被告 共犯 入 出国 日期 纪录 份 共犯 之外 侨居 留 资料 查询 份 卷 见 警 三卷 南市 警一 刑侦 字 号 卷 页 上开 事实 首堪 认定 共犯 源等 人 当时 欲 找 台湾人 与 女子 结婚 共犯 林 清水 于 报纸 刊登 征人 广告 应征者 符合 与 结婚 条件 将 应征者 介绍 予 共犯 源等 人 共犯 林 清水 从中 获取 万元 仲介 费 适 被告 依前 开征 人 广告 应征 共犯 林 清水 衡量 条件 后 告知 可至 结婚 不用 负担 前往 机票 食宿费 外 尚可 获取 万元 报酬 被告 应允 同意 后 共犯 林 清水 将 介绍 予 源等 人 被告 指示 前往 与 为了 来 台 工作 无 结婚 真意 共犯 办理 结婚 事宜 情 业据 共犯 林 清水 于 警询 时证 称 伊登 报征 人 结婚 被告 报纸 来 伊 转 介予 共犯 共犯 安排 后续 结婚 事宜 被告 不用 负担 前往 机票 食宿 费用 尚可 获取 约 万元 酬劳 伊 则 共犯 获取 约 万元 仲介 费用 将 被告 转 介予 共犯 并未 参与 后续 被告 前往 证照 机票 食宿 相关 事宜 被告 系因 缺钱 为了 赚取 担任 人头 配偶 佣金 万 并 与 结婚 共犯 系 为了 来 工作 赚钱 亦 与 台湾人 结婚 语 见 警 三卷 页 并 于 本院 审理 时 具结 证称 当初 共犯 源等 人 欲 找 男子 前往 结婚 刊登 男 女 经验 内容 征 人 广告 被告 见报 应征 时 被告 系因 缺钱 来 找 衡量 被告 条件 后 认为 只能 利用 结婚 赚取 报酬 表示 要办 结婚 告知 被告 安排 结婚 不用 负担 食宿 机票 费用 可实 万元 报酬 被告 同意 后 被告 介绍 予 共犯 共犯 给付 佣金 万元 予 伊 伊 与 被告 谈论 结婚 事宜 时 伊 与 被告 不知 被告 结婚 对象 为 何人 未 见 过 与 被告 结婚 女子 伊 仅 介绍 被告 予 共犯 源等 人 并未 参予 后续 结婚 办理 结婚登记 居留 申请 事情 被告 曾 给 一部 机车 当时 被告 表示 别的 地方 机车 留在 无人 使用 修理 使用 一段 期间 后 再度 坏掉 未再 使用 语 见 本院 卷 页 背面 页 共犯 林 清水 于 间 仲介 王照 明等 人 担任 人头 与 女子 假结婚 人均 获取 万元 报酬 情 经 本院 年度 简上 字 号 判处 有期徒刑 确定 共犯 于 间 与 共犯 源等 人 共同 仲介 国宝 蔡明 人 担任 人头 与 女子 假结婚 情 经 本院 年度 简字 号 判处 有期徒刑 并 减为 有期徒刑 确定 共犯 林 清水 本案 被告 与 共犯 办理 假结婚 致 涉嫌 共同 行使 使 公务员 登载 不实 文书 犯行 部分 经 地方法院 检察官 认为 与 前 开 年度 简上 字 号 年度 简字 号 论罪 科刑 部分 连续犯 裁判 罪 关系 年度 侦字 号 年度 侦字 号 为 起诉 处分 确定 前 开 判决书 起诉 处分 书 份 卷 堪认 共犯 林 清水 确 曾 仲介 安排 男子 前往 与 女子 假结婚 无讹 被告 与 共犯 林 清水 并 无 仇怨 纠葛 被告 尚 提供 一部 机车 予 共犯 林 清水 使用 常情 共犯 林 清水 尚无 随意 诬 指 构陷 被告 动机 复衡 以其 于 院中 具结 后 证述 情 历历 核 与其 警询 中 证述 情节 相符 苟非 亲身经历 尚 无图 陷 被告 入罪 自行 担负 伪证 罪责 风险 必要 显见 确系 依凭 当时 亲身 见闻 所为 证述 参以 被告 于 将 户籍 迁移 寄放 共犯 林 清水 籍 设于 永康市 路 号 住所 户籍 迁入 目的 系 为了 便利 结婚登记 办理 被告 亦 依此 户籍地 永康市 户政事务 办理 与 共犯 结婚登记 情 业据 被告 于 本院 审理 时 供承 户籍 寄放 于 前 开 住址 不讳 共犯 林 清水 于 本院 审理 时 具结 证称 被告 将 户籍 寄放 于 住所 为了 办理 结婚 证件 办理 结婚登记 比较 方便 语 见 本院 卷 页 并 被告 共犯 林 清水 个人 户籍 资料 查询 结果 份 结婚登记 份 卷 可佐 而前 开 年度 简上 字 号 案件 中 人头 亦 共犯 林 清水 提供 前 开 住所 供 设籍 并 依该 户籍地 办理 结婚登记 情 亦 据 证人 于 警询 时 证述 明确 见 警 二卷 页 并 证人 结婚登记 纸 附 卷 可佐 见 警 二卷 页 被告 确系 共犯 林 清水 仲介 人头 人 甚明 综上所述 被告 与 共犯 确系 假结婚 无讹 被告 前 开所 辩 属 卸责 词 殊 无可 采 本案 事证 明确 被告 上开 犯行 堪以 认定 应予 依法 论科 被告 行为 后 刑法 业 于 民国 公布 并 施行 行为 后 法律 有变 更者 适用 行为 时 法律 行为 后 法律 有利于 行为人 适用 最 有利于 行为人 法律 后 刑法 条 项 定有 明文 该 规定 系 规范 行为 后 法律 变更 所生 法律 比较 适用 准据法 刑法 条 虽 经 尚无 比较 法 问题 应 一律 适用 裁判 时 刑法 条 规定 次 本次 刑法 法比 较 应 罪刑 有关 共犯 未遂犯 想像 竞合 犯 牵连 犯 连续犯 结合 犯 累犯 加重 自首 减轻 暨 法定 加减 原因 身分 加减 与 加减 例 情形 综其 全部 罪刑 结果 为 比较 最高法院 年度 次 刑庭 会议 决议 可资 参照 经查 增订 刑法 施行 法 条 刑法 施行 后 刑法 分则 编 所定 罚金 货币 单位 为 新台币 刑法 时 刑法 分则 编 未 条文 定有 罚金 刑法 施行 后 就其 所定 数额 提高 为 倍 新增 条文 就其 所定 数额 提高 为 倍 比较 后 刑法 施行 法 条 项 与 罚金 罚 锾 提高 标准 条例 条 结果 两者 罚金 最高 额度 相同 无 有利 不利 情形 自无 刑法 条 适用 应 迳 现行 有效 具 特别法 性质 刑法 施行 法 条 规定 刑法 条 款 为 主刑 种类 罚金 新台币 元 以上 百元 计算 后 法律 刑法 条 侵占罪 所得 科处 罚金 刑 最低 为 新台币 元 前 刑法 条 款 罚金 罚 锾 提高 标准 条例 条 前段 规定 罚金 最低 额则 为 银元 元 折算 为 新台币 元 比较 法 结果 前 刑法 条 款 规定 较 有利于 被告 刑法 条 前 规定 为 人 以上 共同 实施 犯罪 行为 皆 为 正犯 后 规定 为 人 以上 共同 实行 犯罪 行为 皆 为 正犯 后 规定 系将 共同正犯 限于 直接 从事 构成 犯罪事实 行为 排除 阴谋 共同正犯 预谋 共同正犯 类型 后 共同正犯 可罚 性 要件 范围 业已 限缩 惟 本件 被告 既系 直接 从事 构成 犯罪事实 行为 则 比较 前后 规定 结果 并 无 有利 不利 情形 应 迳 后 规定 刑法 条 连续犯 规定 于 刑法 后 业经 删除 新法 施行 后 行为人 数 犯罪行为 须 分论 并 罚 该项 删除 虽非 犯罪构成 要件 变更 已 影响 行为人 刑罚 法律 效果 自属 法律 有所 变更 而有 比较 法 必要 依旧 法 规定 罪论 而仅 加重 刑 分 但若 依新 法则 须 分科 并 罚 经 比较 结果 前 刑法 条 对 被告 较为 有利 综上 本院 综合 被告 所涉 揭 全部 罪行 情形 为 比较 揆 诸 前 揭 最高法院 决议 刑法 条 项 前段 规定 被告 适用 行为 时 前 刑法 相关 规定 对 较为 有利 自应 一体 适用 前 刑法 规定 予以 处断 论罪 科刑 核 被告 所为 系犯 刑法 条 条 行使 使 公务员 登载 不实 文书 罪 被告 与 共犯 林 清水 源等 人 揭犯 行 彼此间 犯意 联络 行为 分担 为 共同正犯 被告 使 公务员 登载 不实 事项 于 掌 公文书 低度 行为 为 行使 高度 行为 吸收 论罪 被告 于 先后 行使 使 公务员 登载 不实 文书 犯行 时间 密接 所犯 系 构成 要件 相同 罪名 显系 基于 概括 犯意 反复 为 为 连续犯 前 刑法 条规 定论 罪 并 加重 刑 爰 审酌 被告 为 图 私利 假结婚 方式 便利 共犯 入境 居留 损害 户政 机关 结婚登记 主管机关 对于 外国人 居留 管理 正确性 对 社会秩序 善良 风俗 警政 机关 对 治安 管理 非 无 潜在 危害 复 参酌 被告 犯 后 自始 否认 犯行 未 见 悔意 智识 程度 生活状况 情状 量 处 主文 所示 刑 资惩 儆 被告 行为 后 关于 罚金 折算 标准 前 刑法 条 项 前段 废止 前 罚金 罚 锾 提高 标准 条例 条 系 银元 百元 百元 百元 新台币 百元 百元 百元 折算 日 后 刑法 条 项 前段 规定 则 系 新台币 千元 千元 千元 折算 日 刑法 条 项 前段 规定 来 比较 法 结果 应 适用 前 规定 较为 有利 爰 前 刑法 条 项 前段 废止 前 罚金 罚 锾 提高 标准 条例 条 谕知 罚金 折算 标准 被告 犯罪 时间 系 以前 所犯 合于 九十六年 罪犯 减刑 条例 减刑 条件 应 依该 条例 条 项 款 条 及第 条 减 宣告 刑 分 并 谕知 罚金 折算 标准 末 连续 数 行为 犯 同一 罪名 新法 施行 新法 施行 后 新法 条 规定 适用 最 有利于 行为人 法律 部分 数 行为 发生 新法 施行 新法 施行 后 该 部分 适用 最 有利于 行为人 法律 部分 行为 数 行为 发生 新法 施行 后者 该 部分 论以 连续犯 最高法院 年度 次 刑事 庭 会议 决议 参照 该 决议 数罪并罚 连续犯 部分 查 被告 涉嫌 于 与 共犯 共同 持前 开 登载 不实 户籍誊本 资料 先后 县政府 警察局 外事 课 申请 核发 延期 居留 事宜 外国人 居留 停留 案件 申请表 份 附 卷 可凭 被告 部分 涉嫌 共同 行使 使 公务员 登载 不实 文书 犯行 刑法 废除 条 连续犯 规定 以后 亦 未 据 检察官 记载 于 起诉书 犯罪事实 内 揆 诸 前开 说明 部分 犯行 与 前 开 论罪 科刑 部份 无 连续犯 裁判 罪 关系 自非 本院 审判 范围 附此 据 论断 刑事诉讼法 条 项 前段 刑法 条 项 前段 条 条 条 前 刑法 条 条 项 前段 刑法 施行 法 条 废止 前 罚金 罚 锾 提高 标准 条例 条 罪犯 减刑 条例 条 项 款 条 条 判决 主文 本案 经 检察官 到庭 执行 职务 刑事 第四 庭 审判长 法官 法官 法官 以上 正本 证明 与 原本 无异 不服 判决 应于 收受 判 后 日 内向 本院 提出 上诉书 状 并 应 叙述 具体 理由 未 叙述 上诉 理由 应于 上诉 期间 届满 后 日 内向 本院 补 提 理由 书状 均须 造 当事人 人数 附缮 迳 送 上级法院 书记官 附录 本案 论罪 科 刑法 条 刑法 条 使 公务员 登载 不实 罪 明知 为 不实 事项 使 公务员 登载 于 职务 掌 公文书 足以 生 损害 于 公众 处 以下 有期徒刑 拘役 百元 以下 罚金 刑法 条 行使 伪造 变造 登载 不实 文书 罪 行使 条 条 文书 伪造 变造 文书 登载 不实 事项 或使 登载 不实 事项 规定 处断'"
            ],
            "application/vnd.google.colaboratory.intrinsic+json": {
              "type": "string"
            }
          },
          "metadata": {},
          "execution_count": 19
        }
      ]
    },
    {
      "cell_type": "code",
      "source": [
        "tokenized_test_facts[0]"
      ],
      "metadata": {
        "colab": {
          "base_uri": "https://localhost:8080/",
          "height": 196
        },
        "id": "7ce4E7vVwLrQ",
        "outputId": "10960ee3-9e0d-439a-b1f3-ebdb5c7ce390"
      },
      "execution_count": 20,
      "outputs": [
        {
          "output_type": "execute_result",
          "data": {
            "text/plain": [
              "'缘 所涉 行使 伪造 私 文书 犯行 业经 本院 年度 诉 字 号 判决 处 有期徒刑 缓刑 确定 需款 使用 知悉 借款 管道 为求 顺利 借款 人 共同 意图 为 不法 所有 基于 行使 伪造 私 文书 诈欺 取财 犯意 联络 知悉 车牌号码 号 营业 小客车 系 光向 交通 有限公司 下称 志 公司 租赁 车辆 先于 不详 时间 不详 地点 伪刻 交通 有限公司 负责人 印章 正确 姓名 为 误刻 为 枚 并 伪造 代表 公司 与 签署 计程车 客运 驾驶 人 自备 车辆 参与 经营 契约书 下称 本案 参与 经营 契约书 虚伪 记载 提供 上述 营业 小客车 靠行 公司 营业 不实 内容 并持 上开 伪刻 印章 伪造 交通 有限公司 印文 枚 印文 枚 于 本案 参与 经营 契约书 于 交 约人 乙方 栏 签名 人 复于 同日 协同 不知情 配偶 所涉 行使 伪造 私 文书 犯行 业经 本院 年度 诉 字 号 判决 无罪 确定 前往 区 街 巷 号 楼 经营 宏帝 当 舖 现 更名 为 渣打 当 舖 交付 伪造 本案 参与 经营 契约书 当铺 借款 新台币 下同 万元 以为 行使 并 约定 担任 连带保证 人 误信 上开 车辆 为 所有 陷入 错误 于 扣除 利息 后 交付 万 千元 借款 予 夫妇 足以 生 损害 公司 嗣 仅 清偿 每期 千元 分期 款 期计 万 千元 未 全额 清偿 无力 负担 债务 生始 查知 上开 车辆 非 所有 悉上 情 案经 生诉 士林 地方法院 检察署 检察官 侦查 起诉 理由 证据 能力 部分 被告 以外 之人 于 审判 外 言词 书面 法律 规定 外 作为 证据 被告 以外 之人 于 审判 外 虽 不符 合同法 条 条 规定 经 当事人 于 审判程序 同意 作为 证据 法院 审酌 该 言词 书面 作成 时 情况 认为 适当 亦 为 证据 刑事诉讼法 条 项 及第 条 项 分别 定有 明文 经查 判决 引用 该 被告 以外 之人 于 审判 外 虽 属 传闻 证据 当事人 于 本院 审判 期日 中均 表示同意 作为 证据 方法 不予 争执 迄至 言词辩论 终结 前 亦 未再 声明 异议 见 本院 卷 页 页 背面 本院 审酌 上开 证据 资料 制作 时 情况 尚无 违法 不当 证明 力 明显 过 低 瑕疵 亦 认为 以之 作为 证据 应属 适当 揆 诸 前开 规定 爰 刑事诉讼法 条 规定 认前 揭 证据 资料 证据 能力 认定 犯罪事实 凭 证据 理由 讯 据 被告 坦承 于 带 共同 被告 宏帝 当铺 借钱 惟 矢口否认 有何 行使 伪造 私 文书 诈欺 取财 犯行 辩称 本案 参与 经营 契约书 系由 共同 被告 提出 宏帝 当 舖 当 业务员 资金 不够 带至 宏帝 当铺 借钱 伊 请 光带 身分证 本案 参与 经营 契约书 证明 计程车 系 属于 所有 带 一位 保人 经查 证人 志 英 交通 公司 负责人 于 检察官 侦查 中结证 称 本案 参与 经营 契约书 交通 有限公司 印文 非我 公司 大小 章 交通 公司 公司 负责人 这个 章 被告 加入 无线电台 语 见 年度 侦字 号 卷 页 复有 提出 真正 交通 有限公司 印文 枚 卷可稽 见 年度 侦字 号 卷 页 经核 卷 附 本案 参与 经营 契约书 所示 交通 有限公司 印文 见 年度 侦缉 字 号 卷 页 二者 字体 明显 外 本案 参与 经营 契约书 中 名字 中 健 字 显系 错别字 堪认 本案 参与 经营 契约书 所示 交通 有限公司 印文 确属 伪造 一节 应 认定 证人 告诉 人 生于 检察官 侦查 中证 称 经营 宏帝 当铺 后 改名 为 渣打 当铺 地址 街 巷 号 楼 计程车 典当 给 我们 时 我们 参与 经营 契约书 被告 来 借钱 被告 当时 在场 给 我们 本案 参与 经营 契约书 我们 以为 车子 我们 车 之后 车子 车行 被告 我们 公司 抽 奖金 业务员 介绍 人 来 借钱 给 奖金 语 见 年度 侦字 号 卷 页 年度 侦缉 字 号 卷 页 页 证人 于 检察官 侦查 本院 审理 时 亦 结证 称 宏帝 当铺 负责人 后来 当铺 让给 被告 宏帝 当铺 借款 万元 系由 接洽 当时 被告 介绍 公司 职员 会 介绍 车子 我们 公司 来 典当 我会 给 佣金 收到 元 利息 给 元 本案 参与 经营 契约书 出来 语 见 年度 侦缉 字 号 卷 页 页 年度 诉 字 号 卷 页 页 复有 本案 参与 经营 契约书 本票 影本 份 附 卷 可凭 见 年度 侦字 号 卷 页 页 足 认 共同 被告 系 经 被告 介绍 持 本案 参与 经营 契约书 于 开 时间 前往 宏帝 当铺 借款 万元 被告 明于 借款 时 在场 事实 洵 堪 认定 被告 虽 辩称 本案 参与 经营 契约书 系 共同 被告 提出 伊 仅 将 光带 当铺 当 舖 人 接洽 惟查 证人 共同 被告 于 本院 审理 时证 称 因为 当 司机 收入 高 家里 需要 用钱 被告 明说 办法 借钱 请 被告 带我去 借款 被告 带我去 当铺 太太 当时 一起 陪同 卷附之 本票 影本 系 当时 当铺 签立 本案 参与 经营 契约书 系 被告 帮 准备 好 经 当 舖 盖 章 签名 被告 拿给 我时 契约书 已经 写 好 资料 至于 被告 提出 本案 参与 经营 契约书 来源 不知 道 被告 带 驾照 行照 身分证 私章 车号 号 营业 小客车 用租 车子 车子 志 公司 车子 本案 参与 经营 契约书 内容 车子 自备 契约书 末页 乙方 签名 签 等语 见 本院 卷 页 页 背面 核 与其 检察官 侦查 中证 称 被告 带我去 宏帝 当铺 借钱 万元 本案 参与 经营 契约书 系 被告 帮 准备 好 前 面的 签名 资料 被告 签 最后 签名 签 等语 相符 见 年度 侦缉 字 号 卷 页 页 查 参以 被告 明于 本院 审理 时 当庭 书写 名字 字迹 经 与 本案 参与 经营 契约书 契约书 人一 栏所 签署 笔迹 比对 后 见 本院 卷 页 肉眼 观 不论 字迹 运笔 笔勾 字体 外观 较为 吻合 反观 该 书页 末 乙方 笔迹 与 页 首立 契约书 人一 栏所 签署 笔迹 运笔 笔勾 字迹 明显 被告 辩称 本案 参与 经营 契约书 系由 共同 被告 提出 已难 采信 证人 于 本院 审理 时证 称 曾经 开 车辆 别的 当铺 借钱 当时 别的 当铺 说 车子 用租 押 行照 那里 即可 需要 本件 一样 本件 当铺 他们 说 该 签名 地方 签名 且是 透过 别的 司机 得知 被告 帮 问问 哪里 借钱 找 被告 语 见 本院 卷 页 背面 页 背面 衡以 证人 涉犯 案犯 行业 经 本院 认定 有罪 确定 自应 无 虚伪 动机 被告 自承 与 证人 无 纠纷 为 排班 计程车 司机 为 点头之交 乙情 亦 认证 人 无涉 词 诬陷 被告 参以 证人 皆 证述 本案 参与 经营 契约书 系由 被告 提出 一节 被告 并 否认 宏帝 当 舖 仅 同意 典当 个人所有 靠行 车辆 意 典当 车行 租 车辆 情 本件 共同 被告 既有 提供 行照 予 被告 业经 证述 如前 则 自行 记载 内容 即可 知悉 上开 车辆 所有人 为 何人 被告 岂 不知 上开 车辆 所有人 为 何人 理 况 被告 供认 介绍 共同 被告 予 宏帝 当铺 借钱 有利 息 百分之十 报酬 语 见 本院 卷 页 背面 当有 为 促成 与 宏帝 当铺 借款 提出 本案 经营 契约书 供作 本件 借款 之用 被告 辩称 车子 说 所有 本案 参与 经营 契约书 系 自行 提出 显系 事后 卸责 词 不足 采信 综上所述 被告 上开 辩 节 无非 事后 避重就轻 图 卸 词 不足 采信 被告 行使 伪造 私 文书 诈欺 取财 犯行 事 证明 确 应 依法 论科 论罪 科刑 部分 被告 行为 后 公布 刑法 已 于 生效 施行 条 项 行为 后 法律 有变 更者 适用 行为 时 法律 行为 后 法律 有利于 行为人 适用 最 有利于 行为人 法律 规定 系 规范 行为 后 法律 变更 所生 新 旧 法律 比较 适用 准据法 并非 刑法 实体 法律 自不生 行为 后 法律 变更 比较 适用 问题 刑法 施行 后 应 适用 该 后 条 规定 从旧 从轻 原则 比较 新 旧 法律 适用 比较 法 时 应 罪刑 有关 共犯 未遂犯 想像 竞合 犯 牵连 犯 连续犯 结合 犯 累犯 加重 自首 减轻 暨 法定 加减 原因 身分 加减 与 加减 例 情形 综其 全部 罪刑 结果 为 比较 后 适用 有利于 行为人 法律 处断 一部 割裂 分别 适用 新 旧法 最高法院 字 号 字 号 判例 意旨 最高法院 年度 次 刑事 庭 会议 决议 参照 经查 刑法 条 款 关于 罚金 规定 业 于 于 生效 前 刑法 条 款 规定 罚金 元 银元 以上 并 现行 法规 所定 货币 单位 折算 新台币 条例 规定 银元 元 折算 新台币 元 前 刑法 规定 罚金 最低 数额 为 新台币 元 后 刑法 条 款 规定 罚金 新台币 元 以上 百元 计算 后 刑法 规定 罚金 最低 数额 提高 为 新台币 元 比较 上开 罚金 最高 数额 于 后 并 无 惟 后 刑法 条 款 所定 罚金 刑 最低 数额 较 前 提高 依前 开 说明 应 适用 对 被告 有利 前 刑法 条 款 规定 前 刑法 条 规定 二人 以上 共同 实施 犯罪 行为 皆 为 正犯 后 该条 规定 为 二人 以上 共同 实行 犯罪 行为 皆 为 正犯 揆 本条 理由 系 为 厘清 阴谋 共同正犯 预备 共同正犯 共谋 共同正犯 是否 合乎 本条 正犯 要件 并 将 阴谋 共同正犯 预备 共同正犯 剔除 于 本条 适用 之外 符合 近代 刑法 个人 责任 原则 法治 国 人权 保障 思想 犯罪 支配 理论 自属 行为 后 法律 变更 而非 仅 属 文字 应有 法比 较 适用 问题 最高法院 年度 台上 字 号 判决 意旨 参照 本件 被告 与 前 揭 行使 伪造 私 文书 诈欺 取财 犯行 具有 犯意 联络 行为 分担 不论 前 后 规定 属 共同正犯 对 被告 并 无 有利 不利 情形 应 适用 行为 时 法律 被告 行为 后 新法 业已 删除 牵连 犯 规定 依旧 法 成立 方法 结果 行为 而仅 论 罪者 新法 将 论 数罪 比较 新 旧法 结果 前 刑法 条 牵连 犯 规定 较 有利于 被告 综此 本院 经 综合 上述 条文 前 后 比较 参照 前 揭 最高法院 决议 后 刑法 条 项 前段 后段 规定 从旧 从轻 原则 被告 上开 犯行 自应 适用 行为 时 法律 予以 论处 核 被告 所为 系犯 刑法 条 条 行使 伪造 私 文书 罪 同法 条 项 诈欺 取财 罪 被告 明于 本案 参与 经营 契约书 伪造 交通 有限公司 印章 印文 伪造 私 文书 部分 行为 伪造 本案 参与 经营 契约书 后 持以 行使 伪造 低度 行为 复为 行使 高度 行为 吸收 论罪 被告 与 行使 伪造 私 文书 诈欺 犯行 犯意 联络 行为 分担 为 共同正犯 行使 伪造 私 文书 目的 诈取 告诉 人 金钱 所犯 连续 行使 伪造 私 文书 与 诈欺 取财 罪间 方法 目的 牵连 关系 前 刑法 条 规定 从 较重 行使 伪造 私 文书 罪 处断 爰 审酌 被告 思以 正当 途径 赚取 伪造 公司 负责人 印章 进而 伪造 本案 参与 经营 契约书 诈取 告诉 人 金钱 足生 损害 公司 告诉 人 并 危害 社会 交易 秩序 所为 实有 不该 犯 后 否认 犯行 未 见 悔悟 心 兼衡 被告 有违 反 票据法 之前 科 高等法院 被告 前案 纪录 表在 卷可稽 见 本院 卷 页 素行 尚可 共同 被告 于 诈得 借款 后 已 陆续 返还 利息 予 告诉 人 与 被告 明为 高中 肄业 智识 程度 经济 状况 为 小康 生活状况 情状 见 告警 询 笔录 受 询问 人栏 本院 卷 页 量 处 主文 所示 刑 资惩 儆 关于 罚金 折算 标准 前 刑法 条 项 前段 规定 犯 最重 本刑 为 以下 有期徒刑 以下 刑 罪 受 个 月 以下 有期徒刑 拘役 宣告 身体 教育 职业 家庭 关系 正当 事由 执行 显有 困难者 得以 元 以上 元 以下 折算 日 罚金 依据 前 罚金 罚 锾 提高 标准 条例 条 刑法 条易 科 罚金 条 项易 服劳役 原定 数额 提高 为 百倍 折算 日 法律 所定 罚金 数额 未 依本 条例 提高 倍数 或其 处罚法 条 无 罚金 规定 亦 规定 被告 行为 时之易 科 罚金 折算 标准 应以 银元 百元 以上 百元 以下 折算 日 经 折算 为 新台币 后 应以 新台币 百元 以上 百元 以下 折算 日 惟 施行 刑法 条 项 前段 规定 为 犯 最重 本刑 为 以下 有期徒刑 以下 刑 罪 受 个 月 以下 有期徒刑 拘役 宣告 得以 新台币 千元 千元 千元 折算 一日 罚金 生效 施行 罚金 罚 锾 提高 标准 条例 则 删除 原本 条 规定 比较 法 结果 旧法 所定 易 科 罚金 折算 标准 有利于 被告 故应 前 刑法 条 项 前段 前 罚金 罚 锾 提高 标准 条例 条 规定 宣告 刑 部分 谕知 罚金 折算 标准 伪造 计程车 客运 驾驶 人 自备 车辆 参与 经营 契约书 原本 份固经 共同 被告 于 借款 时 行使 交付 予 宏帝 当铺 业 前述 惟此仅 系 共同 被告 为 借得 款项 将 本案 参与 经营 契约书 交付 当铺 作为 担保 使用 所有权 仍为 共同 被告 所有 不因 行使 移转 为 宏帝 当铺 所有 该 伪造 既系 供 本件 犯行 所用 爰 刑法 条 项 款 规定 宣告 没收 伪造 交通 有限公司 印文 枚 印文 枚 固系 伪造 印文 已 该 没收 包括 在内 无再 重复 谕知 没收 必要 告诉 人为 提起 本件 告诉 复印 本案 参与 经营 契约书 资为 证据 见 年度 侦字 号 卷 页 认 仅 系 作为 本案 诉讼 使用 而非 被告 共同 被告 供 本件 犯行 所用 之物 复印 契约书 交通 有限公司 印文 枚 印文 枚 爰 不予 宣告 没收 被告 伪刻 交通 有限公司 印章 枚 系 伪造 印章 无证据 证明 业已 灭失 刑法 条 宣告 没收 条例 施行 前 经 通缉 未于 以前 自动 归案 接受 侦查 审判 执行者 依本 条例 减刑 九十六年 罪犯 减刑 条例 条 定有 明文 查 本件 被告 所为 前开 犯行 犯罪 时间 固系 以前 但其 曾 于 九十六年 罪犯 减刑 条例 施行 施行 前 本案 经 本院 士院 缉字 号 通缉 书 发布 通缉 于 缉获 归案 情 前 开 通缉 书 归案 证明书 本院 士院 销字 号 撤销 通缉 书 份存 卷 参 年度 诉 字 号 卷 页 本院 卷 页 页 从而 依前 开 规定 本案 被告 无从 九十六年 罪犯 减刑 条例 规定 减刑 并此 叙明 据 论断 刑事诉讼法 条 项 前段 刑法 条 项 前段 条 条 条 条 项 条 条 项 款 前 刑法 条 条 项 前段 刑法 施行 法 条 项 前 罚金 罚 锾 提高 标准 条例 条 现行 法规 所定 货币 单位 折算 新台币 条例 条 判决 主文 本案 经 检察官 到庭 执行 职务 刑事 第七 庭 审判长 法官 法官 法官 以上 正本 证明 与 原本 无异 不服 判决 应于 收受 送达 后 日 内向 本院 提出 上诉书 状 并 应 叙述 具体 理由 未 叙述 上诉 理由 应于 上诉 期间 届满 后 日 内向 本院 补 提 理由 书 均须 造 当事人 人数 附缮 迳 送 上级法院 书记官 附录 本案 论罪 科刑 依据 之法 条 刑法 条 条 条 项 伪造 变造 私 文书 足以 生 损害 于 公众 处 以下 有期徒刑 伪造 印章 印文 署押 足以 生 损害 于 公众 处 以下 有期徒刑 盗用 印章 印文 署押 足以 生 损害 于 公众 亦 意图 为 第三 人 不法 所有 诈术 使 人 将 第三 人之物 交付 处 以下 有期徒刑 拘役 科 并 科 千元 以下 罚金'"
            ],
            "application/vnd.google.colaboratory.intrinsic+json": {
              "type": "string"
            }
          },
          "metadata": {},
          "execution_count": 20
        }
      ]
    },
    {
      "cell_type": "code",
      "source": [
        "def save_string_array_to_file(string_array, file_path):\n",
        "    try:\n",
        "        with open(file_path, 'w') as file:\n",
        "            for string in string_array:\n",
        "                file.write(string + '\\n')\n",
        "        print(f\"String array saved to {file_path} successfully.\")\n",
        "    except Exception as e:\n",
        "        print(f\"Error occurred while saving string array: {e}\")"
      ],
      "metadata": {
        "id": "e5FAft-Vx0PJ"
      },
      "execution_count": 21,
      "outputs": []
    },
    {
      "cell_type": "code",
      "source": [
        "save_string_array_to_file(tokenized_train_facts, '/content/drive/MyDrive/senior/LAB/LawCaseRetreiver/sentence_predict/dataset_new/tokenized_train_facts.txt')\n",
        "save_string_array_to_file(tokenized_test_facts, '/content/drive/MyDrive/senior/LAB/LawCaseRetreiver/sentence_predict/dataset_new/tokenized_test_facts.txt')"
      ],
      "metadata": {
        "colab": {
          "base_uri": "https://localhost:8080/"
        },
        "id": "KONrIMD5yMmZ",
        "outputId": "cf5def21-c036-436e-8a35-6aaa1d355a7e"
      },
      "execution_count": 22,
      "outputs": [
        {
          "output_type": "stream",
          "name": "stdout",
          "text": [
            "String array saved to /content/drive/MyDrive/senior/LAB/LawCaseRetreiver/sentence_predict/dataset_new/tokenized_train_facts.txt successfully.\n",
            "String array saved to /content/drive/MyDrive/senior/LAB/LawCaseRetreiver/sentence_predict/dataset_new/tokenized_test_facts.txt successfully.\n"
          ]
        }
      ]
    },
    {
      "cell_type": "markdown",
      "source": [
        "# SBERT"
      ],
      "metadata": {
        "id": "lxzRHzQgxT8_"
      }
    },
    {
      "cell_type": "code",
      "source": [
        "!pip install sentence_transformers"
      ],
      "metadata": {
        "colab": {
          "base_uri": "https://localhost:8080/"
        },
        "id": "GX1S_fL4rVMo",
        "outputId": "00522bbb-34aa-423a-dbf2-45270c35aaec"
      },
      "execution_count": 23,
      "outputs": [
        {
          "output_type": "stream",
          "name": "stdout",
          "text": [
            "Collecting sentence_transformers\n",
            "  Downloading sentence_transformers-2.5.1-py3-none-any.whl (156 kB)\n",
            "\u001b[?25l     \u001b[90m━━━━━━━━━━━━━━━━━━━━━━━━━━━━━━━━━━━━━━━━\u001b[0m \u001b[32m0.0/156.5 kB\u001b[0m \u001b[31m?\u001b[0m eta \u001b[36m-:--:--\u001b[0m\r\u001b[2K     \u001b[90m━━━━━━━━━━━━━━━━━━━━━━━━━━━━━━━━━━━━━━━━\u001b[0m \u001b[32m156.5/156.5 kB\u001b[0m \u001b[31m4.3 MB/s\u001b[0m eta \u001b[36m0:00:00\u001b[0m\n",
            "\u001b[?25hRequirement already satisfied: transformers<5.0.0,>=4.32.0 in /usr/local/lib/python3.10/dist-packages (from sentence_transformers) (4.38.2)\n",
            "Requirement already satisfied: tqdm in /usr/local/lib/python3.10/dist-packages (from sentence_transformers) (4.66.2)\n",
            "Requirement already satisfied: torch>=1.11.0 in /usr/local/lib/python3.10/dist-packages (from sentence_transformers) (2.2.1+cu121)\n",
            "Requirement already satisfied: numpy in /usr/local/lib/python3.10/dist-packages (from sentence_transformers) (1.25.2)\n",
            "Requirement already satisfied: scikit-learn in /usr/local/lib/python3.10/dist-packages (from sentence_transformers) (1.2.2)\n",
            "Requirement already satisfied: scipy in /usr/local/lib/python3.10/dist-packages (from sentence_transformers) (1.11.4)\n",
            "Requirement already satisfied: huggingface-hub>=0.15.1 in /usr/local/lib/python3.10/dist-packages (from sentence_transformers) (0.20.3)\n",
            "Requirement already satisfied: Pillow in /usr/local/lib/python3.10/dist-packages (from sentence_transformers) (9.4.0)\n",
            "Requirement already satisfied: filelock in /usr/local/lib/python3.10/dist-packages (from huggingface-hub>=0.15.1->sentence_transformers) (3.13.1)\n",
            "Requirement already satisfied: fsspec>=2023.5.0 in /usr/local/lib/python3.10/dist-packages (from huggingface-hub>=0.15.1->sentence_transformers) (2023.6.0)\n",
            "Requirement already satisfied: requests in /usr/local/lib/python3.10/dist-packages (from huggingface-hub>=0.15.1->sentence_transformers) (2.31.0)\n",
            "Requirement already satisfied: pyyaml>=5.1 in /usr/local/lib/python3.10/dist-packages (from huggingface-hub>=0.15.1->sentence_transformers) (6.0.1)\n",
            "Requirement already satisfied: typing-extensions>=3.7.4.3 in /usr/local/lib/python3.10/dist-packages (from huggingface-hub>=0.15.1->sentence_transformers) (4.10.0)\n",
            "Requirement already satisfied: packaging>=20.9 in /usr/local/lib/python3.10/dist-packages (from huggingface-hub>=0.15.1->sentence_transformers) (24.0)\n",
            "Requirement already satisfied: sympy in /usr/local/lib/python3.10/dist-packages (from torch>=1.11.0->sentence_transformers) (1.12)\n",
            "Requirement already satisfied: networkx in /usr/local/lib/python3.10/dist-packages (from torch>=1.11.0->sentence_transformers) (3.2.1)\n",
            "Requirement already satisfied: jinja2 in /usr/local/lib/python3.10/dist-packages (from torch>=1.11.0->sentence_transformers) (3.1.3)\n",
            "Collecting nvidia-cuda-nvrtc-cu12==12.1.105 (from torch>=1.11.0->sentence_transformers)\n",
            "  Downloading nvidia_cuda_nvrtc_cu12-12.1.105-py3-none-manylinux1_x86_64.whl (23.7 MB)\n",
            "\u001b[2K     \u001b[90m━━━━━━━━━━━━━━━━━━━━━━━━━━━━━━━━━━━━━━━━\u001b[0m \u001b[32m23.7/23.7 MB\u001b[0m \u001b[31m27.9 MB/s\u001b[0m eta \u001b[36m0:00:00\u001b[0m\n",
            "\u001b[?25hCollecting nvidia-cuda-runtime-cu12==12.1.105 (from torch>=1.11.0->sentence_transformers)\n",
            "  Downloading nvidia_cuda_runtime_cu12-12.1.105-py3-none-manylinux1_x86_64.whl (823 kB)\n",
            "\u001b[2K     \u001b[90m━━━━━━━━━━━━━━━━━━━━━━━━━━━━━━━━━━━━━━━━\u001b[0m \u001b[32m823.6/823.6 kB\u001b[0m \u001b[31m40.2 MB/s\u001b[0m eta \u001b[36m0:00:00\u001b[0m\n",
            "\u001b[?25hCollecting nvidia-cuda-cupti-cu12==12.1.105 (from torch>=1.11.0->sentence_transformers)\n",
            "  Downloading nvidia_cuda_cupti_cu12-12.1.105-py3-none-manylinux1_x86_64.whl (14.1 MB)\n",
            "\u001b[2K     \u001b[90m━━━━━━━━━━━━━━━━━━━━━━━━━━━━━━━━━━━━━━━━\u001b[0m \u001b[32m14.1/14.1 MB\u001b[0m \u001b[31m52.9 MB/s\u001b[0m eta \u001b[36m0:00:00\u001b[0m\n",
            "\u001b[?25hCollecting nvidia-cudnn-cu12==8.9.2.26 (from torch>=1.11.0->sentence_transformers)\n",
            "  Downloading nvidia_cudnn_cu12-8.9.2.26-py3-none-manylinux1_x86_64.whl (731.7 MB)\n",
            "\u001b[2K     \u001b[90m━━━━━━━━━━━━━━━━━━━━━━━━━━━━━━━━━━━━━━━━\u001b[0m \u001b[32m731.7/731.7 MB\u001b[0m \u001b[31m1.2 MB/s\u001b[0m eta \u001b[36m0:00:00\u001b[0m\n",
            "\u001b[?25hCollecting nvidia-cublas-cu12==12.1.3.1 (from torch>=1.11.0->sentence_transformers)\n",
            "  Downloading nvidia_cublas_cu12-12.1.3.1-py3-none-manylinux1_x86_64.whl (410.6 MB)\n",
            "\u001b[2K     \u001b[90m━━━━━━━━━━━━━━━━━━━━━━━━━━━━━━━━━━━━━━━━\u001b[0m \u001b[32m410.6/410.6 MB\u001b[0m \u001b[31m1.7 MB/s\u001b[0m eta \u001b[36m0:00:00\u001b[0m\n",
            "\u001b[?25hCollecting nvidia-cufft-cu12==11.0.2.54 (from torch>=1.11.0->sentence_transformers)\n",
            "  Downloading nvidia_cufft_cu12-11.0.2.54-py3-none-manylinux1_x86_64.whl (121.6 MB)\n",
            "\u001b[2K     \u001b[90m━━━━━━━━━━━━━━━━━━━━━━━━━━━━━━━━━━━━━━━━\u001b[0m \u001b[32m121.6/121.6 MB\u001b[0m \u001b[31m5.8 MB/s\u001b[0m eta \u001b[36m0:00:00\u001b[0m\n",
            "\u001b[?25hCollecting nvidia-curand-cu12==10.3.2.106 (from torch>=1.11.0->sentence_transformers)\n",
            "  Downloading nvidia_curand_cu12-10.3.2.106-py3-none-manylinux1_x86_64.whl (56.5 MB)\n",
            "\u001b[2K     \u001b[90m━━━━━━━━━━━━━━━━━━━━━━━━━━━━━━━━━━━━━━━━\u001b[0m \u001b[32m56.5/56.5 MB\u001b[0m \u001b[31m9.6 MB/s\u001b[0m eta \u001b[36m0:00:00\u001b[0m\n",
            "\u001b[?25hCollecting nvidia-cusolver-cu12==11.4.5.107 (from torch>=1.11.0->sentence_transformers)\n",
            "  Downloading nvidia_cusolver_cu12-11.4.5.107-py3-none-manylinux1_x86_64.whl (124.2 MB)\n",
            "\u001b[2K     \u001b[90m━━━━━━━━━━━━━━━━━━━━━━━━━━━━━━━━━━━━━━━━\u001b[0m \u001b[32m124.2/124.2 MB\u001b[0m \u001b[31m5.2 MB/s\u001b[0m eta \u001b[36m0:00:00\u001b[0m\n",
            "\u001b[?25hCollecting nvidia-cusparse-cu12==12.1.0.106 (from torch>=1.11.0->sentence_transformers)\n",
            "  Downloading nvidia_cusparse_cu12-12.1.0.106-py3-none-manylinux1_x86_64.whl (196.0 MB)\n",
            "\u001b[2K     \u001b[90m━━━━━━━━━━━━━━━━━━━━━━━━━━━━━━━━━━━━━━━━\u001b[0m \u001b[32m196.0/196.0 MB\u001b[0m \u001b[31m2.9 MB/s\u001b[0m eta \u001b[36m0:00:00\u001b[0m\n",
            "\u001b[?25hCollecting nvidia-nccl-cu12==2.19.3 (from torch>=1.11.0->sentence_transformers)\n",
            "  Downloading nvidia_nccl_cu12-2.19.3-py3-none-manylinux1_x86_64.whl (166.0 MB)\n",
            "\u001b[2K     \u001b[90m━━━━━━━━━━━━━━━━━━━━━━━━━━━━━━━━━━━━━━━━\u001b[0m \u001b[32m166.0/166.0 MB\u001b[0m \u001b[31m3.3 MB/s\u001b[0m eta \u001b[36m0:00:00\u001b[0m\n",
            "\u001b[?25hCollecting nvidia-nvtx-cu12==12.1.105 (from torch>=1.11.0->sentence_transformers)\n",
            "  Downloading nvidia_nvtx_cu12-12.1.105-py3-none-manylinux1_x86_64.whl (99 kB)\n",
            "\u001b[2K     \u001b[90m━━━━━━━━━━━━━━━━━━━━━━━━━━━━━━━━━━━━━━━━\u001b[0m \u001b[32m99.1/99.1 kB\u001b[0m \u001b[31m12.1 MB/s\u001b[0m eta \u001b[36m0:00:00\u001b[0m\n",
            "\u001b[?25hRequirement already satisfied: triton==2.2.0 in /usr/local/lib/python3.10/dist-packages (from torch>=1.11.0->sentence_transformers) (2.2.0)\n",
            "Collecting nvidia-nvjitlink-cu12 (from nvidia-cusolver-cu12==11.4.5.107->torch>=1.11.0->sentence_transformers)\n",
            "  Downloading nvidia_nvjitlink_cu12-12.4.99-py3-none-manylinux2014_x86_64.whl (21.1 MB)\n",
            "\u001b[2K     \u001b[90m━━━━━━━━━━━━━━━━━━━━━━━━━━━━━━━━━━━━━━━━\u001b[0m \u001b[32m21.1/21.1 MB\u001b[0m \u001b[31m57.5 MB/s\u001b[0m eta \u001b[36m0:00:00\u001b[0m\n",
            "\u001b[?25hRequirement already satisfied: regex!=2019.12.17 in /usr/local/lib/python3.10/dist-packages (from transformers<5.0.0,>=4.32.0->sentence_transformers) (2023.12.25)\n",
            "Requirement already satisfied: tokenizers<0.19,>=0.14 in /usr/local/lib/python3.10/dist-packages (from transformers<5.0.0,>=4.32.0->sentence_transformers) (0.15.2)\n",
            "Requirement already satisfied: safetensors>=0.4.1 in /usr/local/lib/python3.10/dist-packages (from transformers<5.0.0,>=4.32.0->sentence_transformers) (0.4.2)\n",
            "Requirement already satisfied: joblib>=1.1.1 in /usr/local/lib/python3.10/dist-packages (from scikit-learn->sentence_transformers) (1.3.2)\n",
            "Requirement already satisfied: threadpoolctl>=2.0.0 in /usr/local/lib/python3.10/dist-packages (from scikit-learn->sentence_transformers) (3.3.0)\n",
            "Requirement already satisfied: MarkupSafe>=2.0 in /usr/local/lib/python3.10/dist-packages (from jinja2->torch>=1.11.0->sentence_transformers) (2.1.5)\n",
            "Requirement already satisfied: charset-normalizer<4,>=2 in /usr/local/lib/python3.10/dist-packages (from requests->huggingface-hub>=0.15.1->sentence_transformers) (3.3.2)\n",
            "Requirement already satisfied: idna<4,>=2.5 in /usr/local/lib/python3.10/dist-packages (from requests->huggingface-hub>=0.15.1->sentence_transformers) (3.6)\n",
            "Requirement already satisfied: urllib3<3,>=1.21.1 in /usr/local/lib/python3.10/dist-packages (from requests->huggingface-hub>=0.15.1->sentence_transformers) (2.0.7)\n",
            "Requirement already satisfied: certifi>=2017.4.17 in /usr/local/lib/python3.10/dist-packages (from requests->huggingface-hub>=0.15.1->sentence_transformers) (2024.2.2)\n",
            "Requirement already satisfied: mpmath>=0.19 in /usr/local/lib/python3.10/dist-packages (from sympy->torch>=1.11.0->sentence_transformers) (1.3.0)\n",
            "Installing collected packages: nvidia-nvtx-cu12, nvidia-nvjitlink-cu12, nvidia-nccl-cu12, nvidia-curand-cu12, nvidia-cufft-cu12, nvidia-cuda-runtime-cu12, nvidia-cuda-nvrtc-cu12, nvidia-cuda-cupti-cu12, nvidia-cublas-cu12, nvidia-cusparse-cu12, nvidia-cudnn-cu12, nvidia-cusolver-cu12, sentence_transformers\n",
            "Successfully installed nvidia-cublas-cu12-12.1.3.1 nvidia-cuda-cupti-cu12-12.1.105 nvidia-cuda-nvrtc-cu12-12.1.105 nvidia-cuda-runtime-cu12-12.1.105 nvidia-cudnn-cu12-8.9.2.26 nvidia-cufft-cu12-11.0.2.54 nvidia-curand-cu12-10.3.2.106 nvidia-cusolver-cu12-11.4.5.107 nvidia-cusparse-cu12-12.1.0.106 nvidia-nccl-cu12-2.19.3 nvidia-nvjitlink-cu12-12.4.99 nvidia-nvtx-cu12-12.1.105 sentence_transformers-2.5.1\n"
          ]
        }
      ]
    },
    {
      "cell_type": "markdown",
      "source": [
        "## 引入模型並測試在中文上的效果"
      ],
      "metadata": {
        "id": "Is0bV-Imt-fb"
      }
    },
    {
      "cell_type": "code",
      "source": [
        "from sentence_transformers import SentenceTransformer, util\n",
        "model = SentenceTransformer('distiluse-base-multilingual-cased-v2')\n",
        "\n",
        "wordpairs = [['老師', '教師', '泰國'],\n",
        "             ['商品', '貨物', '跑步']]\n",
        "\n",
        "for wordpair in wordpairs:\n",
        "    embeddings = model.encode(wordpair)\n",
        "    print(wordpair[0], 'vs',  wordpair[1], 'distance =', util.pytorch_cos_sim(embeddings[0], embeddings[1]))\n",
        "    print(wordpair[0], 'vs',  wordpair[2], 'distance =', util.pytorch_cos_sim(embeddings[0], embeddings[2]))\n",
        "    print(wordpair[1], 'vs',  wordpair[2], 'distance =', util.pytorch_cos_sim(embeddings[1], embeddings[2]))\n"
      ],
      "metadata": {
        "colab": {
          "base_uri": "https://localhost:8080/",
          "height": 667,
          "referenced_widgets": [
            "c923b2fa97974adcad8dbb6719219d3d",
            "f0dcadf03218463aa9e6c57c2dd8c86d",
            "3734b94b47954545a5ccc454a578d30b",
            "cc6978c840494133aa30035158bc0910",
            "d39869934f724675ba571ca3b19f5335",
            "2b55ee0d7983472f848c663d4828d066",
            "f591766554d640a0831887d7e3d637ee",
            "bb34584d12aa4e0099a29c63368838d6",
            "24c924a978104b4385a40fc28338e31f",
            "fb5246337e784c4ba858c2b2bc14c873",
            "bba0905299f64f3696e0911918a78ec0",
            "ddfdcd5f38214593971bb77f1aab938c",
            "e24ca5f9d6e243dc8155f4d32daa6ce9",
            "84fca6365bbf4bb8921e2917ff93a672",
            "09366c201d364e18b3fd7fe09a58a3a3",
            "a419bc6cf8a649d9935b44f1d2b6a0ad",
            "65b59be6180b4137a8833b667a8370c8",
            "9b3c061c67004cc4b654b2da2f7a6f91",
            "6a2074424efc447f85006dd6856c85ec",
            "91cfc2b5ee354a37b653dcd7d4dd5d4f",
            "7194ce6b96c442608f680f60c5494af7",
            "1c580f8d927d45b29c25aa7d58912f0c",
            "bccfec9ff60e474586a14d47259c0632",
            "b3c48afa1c07496cb8d5ef072a50cae1",
            "56d14251d361415ba43a5d4f0d713f39",
            "d84b37267a094ebfb433895444e266b0",
            "53542a62814e4c6d88e9afba222b4f9e",
            "72180069730641d6aa6ed547f5c4610a",
            "e26a503a31ed4de4bd4335802b6474d5",
            "6ac74b79ae7a4d138aa5a36fffe280fd",
            "f75b22fe54cb4cdd840980e61200f8cb",
            "f441e2d2e612450dacfd9d74e5da58e9",
            "21d01a84f78c4697848a2902ef92f247",
            "11ff5edc117f4c9192ed29634a826222",
            "e92d836a8d4b4542a07e53dcb38c1fae",
            "55861d9596db4e18919c72f21bda8fc9",
            "5093bd8452ab45eba2cfe9b9dd204a9e",
            "9117e6fa5dbf4878b5c01821f133f8ae",
            "9a6a91af8559427784589a55902a05ea",
            "67f273b67e8141f99533fb4d8673ed39",
            "08ba869790f4429ab50a83b2d915d8bc",
            "fee4e184d2c1418fbd64cbde0d6bdff0",
            "b93298cbe3004a9ab84f3676c67dd664",
            "0db445c845974374bba6480bbe6e2181",
            "59eb219ad0ce4aff9e5b8a64062088e2",
            "bf16d78faeb64c28ac54c8367028a9fc",
            "21f98a63570f430582037a22e0a9e5d6",
            "4d419d1ed3794275af67486ef1824077",
            "48b85e99a75c4fde92558823d1f5b212",
            "fbfaffff8b604f75ae50ea403cc6bb1a",
            "2ea6ce8b7a374d8198708e25bc369010",
            "6fbde7bff24b4ca1a4aff787938cd9cd",
            "0ea811baefc84d7aa1938087d429f2ce",
            "e74a7548b48a4126a87062b5f114ca08",
            "07c35c065fc24ff8ac02625d74ef7f03",
            "5d14dc1d1e544cbea470a83ce92430bf",
            "c0734af4354e45e09a8c8fe16650af50",
            "ce14662061454dd9b07c17b0e0fa1062",
            "f9924b25a8c641e3b731557f8a73176e",
            "68f518ffb0a44a87834e767e3098aca8",
            "9aa4b14b3bf649cbb2c525dc03afa4a0",
            "3f783409ed1c40269347bdb85be472ee",
            "4c3168542f9148e18f9c80e5fc2e3bba",
            "b122b88943f64b0b895c91d8589af0b5",
            "b05dc3538ce04606b0417d71a5a04f44",
            "490aa5aa66a14a87a106cabde66cdfb6",
            "1da0aaf31b254d769a58d6a5c91763f3",
            "eae111a8fba64411927f0581a7dc80d4",
            "3af9ea6aae7b4cff88d8f7f622397941",
            "6fb30d21224741b2bdc02b3e0b7af75e",
            "01feff496400400f9478008892a493d4",
            "01e8ae898d674d579a8b5f4de4a055c7",
            "73f64f5d0d4f4f1797d5ee7548871f0e",
            "e61d35ab0a2e448d96769bf8458fe88d",
            "d4eeca66169e42ed885ab649288b0c27",
            "b846fa947f9340ce9d1178dee7b7c519",
            "69aa2359cd914f9f81175d18fddf96c4",
            "2194a671c1c44943bc3073daf5b1c167",
            "eafb95f3e1f445f69e04f897a402aa89",
            "13dd549dbe024bd7ac0e8ef42f8dce0a",
            "bf1a2b57f6a84f48b0b189fb74383728",
            "1eaa05cbb8624e448da8a9d670c875cc",
            "c208fe8675134769b4528cc2a524d1b2",
            "3936796599e441499370f8d2abbcf14c",
            "0780e6daa1404f3ead22fd4368b8f890",
            "c8b9450180f3477b962d27863102939f",
            "3b1611f331cb4081ad5d5d6f5cd46dad",
            "fe5e166d7eea480fb53b59f2f5e74269",
            "51907ad41b6f40439fdefaa3545fd975",
            "a65dd494a2784a2b9633ff7bf3f0b6e7",
            "aacf06ada01b4b3fbaaacad0e0b3ba75",
            "1cb0d5ea1a2747ab989c24711c3bfcc3",
            "b9c4f5d5d9ef40f193245d3626aa4d7b",
            "1d981bb5e142476fb3f8ef5c49257eb1",
            "0f5a7242cc3b490ca77e9463b973fa73",
            "84863304c42c44a19b0f8ac5d248fdf9",
            "5ef9a0ea5c54468ab913dfd9f92663f5",
            "8be62c6b9a604466bcd5eb1a047a8f50",
            "3957c2d8153641a4a077ba15707d803b",
            "85326994a3d24b0ebecec2971ea5ff25",
            "2fb13b9c3dc74958bce367423b8e3dac",
            "30e2eec7cc9e43beaad607b59d4f474e",
            "28056764335740fd9d0e01ff02a9c230",
            "886f57307a7a4d17adb6191d35f22225",
            "c69051195db14a50b57d31cfd793fa9b",
            "e59a76ebe8ca48269d8d1687793e9493",
            "1afe4e13abc44f2fa3f2fa783b72e94f",
            "fb88cf81a8e8443292662b5ca96763c6",
            "fa8a0196f8ba434fb35a74abaa201260",
            "90d53e5874424d70bc0ddf0d821d099d",
            "41ea584648e04a4f83355c24ebdad2fb",
            "8320ab3be1244149af052d70b87e865b",
            "b569799363334e62a88bfb0b727ae0aa",
            "815ee23b6f5542c593036edd3e079bfd",
            "31d6ea3092b54731b721cf51615d3709",
            "7dc72b47250f4146848a7290464916e8",
            "a8c4b5f78b6b4c32a8fe96f02c28633f",
            "3228a37a4da0471090fec0519f714ee0",
            "88eebdc4c8894e079ac14e1e79109c9e",
            "6f7d694f69ac440b92a27e00cf856913",
            "365bd30747284c5fb989f8f80b17ef6a",
            "4eccb7e418f249dd82bed62b5c9a89a8",
            "d0b38aff6d064d4d940132cc929ef3f8",
            "82179969ded8463c8c46edcac591d2e2",
            "5f2557636d224031bb3edd93c33e2f44",
            "acc1bbe06a794b7ca5d09a15b087f8ff",
            "6b318b4a5c5747c2bdf5e5466842f63c",
            "355e9874dc574fb3a80e59dd50d78144",
            "8d25ab950a18482499a3fd9468052303",
            "cae11d23c52b42e2a5603f20bfb91a14",
            "1fe1175ff18a40a3a6dba4188afbbc9d",
            "3f9478b32dae4932afbc6406f1a7ec25",
            "55f635906f4e463d92d6c4062585a9ae",
            "dc6b0ec9cbde442d82e9778f634a3dbb",
            "ba8e6b6e2f344d95a7f971570190a74e",
            "3d04507f188e4d8eb039677f1d7d099a",
            "319fea9df9214807b153266482e54214",
            "673a965e5e9a4e14adefeb289d388317",
            "7cdf6c9d6a4e4687849975960e9be066",
            "820dd17a531a46c3aab44b59e2e664f0",
            "8c14bdb7eda649f68605ce985a1269c7",
            "655e78e01f8a4246ad6c4e3932bb7b72",
            "f142ea9097404bc9b9bd7fecdaeeffdf"
          ]
        },
        "id": "q-5C5IckrPd4",
        "outputId": "49684217-32ac-4c21-ef8e-2db67fc26c61"
      },
      "execution_count": 24,
      "outputs": [
        {
          "output_type": "stream",
          "name": "stderr",
          "text": [
            "/usr/local/lib/python3.10/dist-packages/huggingface_hub/utils/_token.py:88: UserWarning: \n",
            "The secret `HF_TOKEN` does not exist in your Colab secrets.\n",
            "To authenticate with the Hugging Face Hub, create a token in your settings tab (https://huggingface.co/settings/tokens), set it as secret in your Google Colab and restart your session.\n",
            "You will be able to reuse this secret in all of your notebooks.\n",
            "Please note that authentication is recommended but still optional to access public models or datasets.\n",
            "  warnings.warn(\n"
          ]
        },
        {
          "output_type": "display_data",
          "data": {
            "text/plain": [
              "modules.json:   0%|          | 0.00/341 [00:00<?, ?B/s]"
            ],
            "application/vnd.jupyter.widget-view+json": {
              "version_major": 2,
              "version_minor": 0,
              "model_id": "c923b2fa97974adcad8dbb6719219d3d"
            }
          },
          "metadata": {}
        },
        {
          "output_type": "display_data",
          "data": {
            "text/plain": [
              "config_sentence_transformers.json:   0%|          | 0.00/122 [00:00<?, ?B/s]"
            ],
            "application/vnd.jupyter.widget-view+json": {
              "version_major": 2,
              "version_minor": 0,
              "model_id": "ddfdcd5f38214593971bb77f1aab938c"
            }
          },
          "metadata": {}
        },
        {
          "output_type": "display_data",
          "data": {
            "text/plain": [
              "README.md:   0%|          | 0.00/2.69k [00:00<?, ?B/s]"
            ],
            "application/vnd.jupyter.widget-view+json": {
              "version_major": 2,
              "version_minor": 0,
              "model_id": "bccfec9ff60e474586a14d47259c0632"
            }
          },
          "metadata": {}
        },
        {
          "output_type": "display_data",
          "data": {
            "text/plain": [
              "sentence_bert_config.json:   0%|          | 0.00/53.0 [00:00<?, ?B/s]"
            ],
            "application/vnd.jupyter.widget-view+json": {
              "version_major": 2,
              "version_minor": 0,
              "model_id": "11ff5edc117f4c9192ed29634a826222"
            }
          },
          "metadata": {}
        },
        {
          "output_type": "display_data",
          "data": {
            "text/plain": [
              "config.json:   0%|          | 0.00/610 [00:00<?, ?B/s]"
            ],
            "application/vnd.jupyter.widget-view+json": {
              "version_major": 2,
              "version_minor": 0,
              "model_id": "59eb219ad0ce4aff9e5b8a64062088e2"
            }
          },
          "metadata": {}
        },
        {
          "output_type": "display_data",
          "data": {
            "text/plain": [
              "pytorch_model.bin:   0%|          | 0.00/539M [00:00<?, ?B/s]"
            ],
            "application/vnd.jupyter.widget-view+json": {
              "version_major": 2,
              "version_minor": 0,
              "model_id": "5d14dc1d1e544cbea470a83ce92430bf"
            }
          },
          "metadata": {}
        },
        {
          "output_type": "display_data",
          "data": {
            "text/plain": [
              "tokenizer_config.json:   0%|          | 0.00/531 [00:00<?, ?B/s]"
            ],
            "application/vnd.jupyter.widget-view+json": {
              "version_major": 2,
              "version_minor": 0,
              "model_id": "1da0aaf31b254d769a58d6a5c91763f3"
            }
          },
          "metadata": {}
        },
        {
          "output_type": "display_data",
          "data": {
            "text/plain": [
              "vocab.txt:   0%|          | 0.00/996k [00:00<?, ?B/s]"
            ],
            "application/vnd.jupyter.widget-view+json": {
              "version_major": 2,
              "version_minor": 0,
              "model_id": "2194a671c1c44943bc3073daf5b1c167"
            }
          },
          "metadata": {}
        },
        {
          "output_type": "display_data",
          "data": {
            "text/plain": [
              "tokenizer.json:   0%|          | 0.00/1.96M [00:00<?, ?B/s]"
            ],
            "application/vnd.jupyter.widget-view+json": {
              "version_major": 2,
              "version_minor": 0,
              "model_id": "51907ad41b6f40439fdefaa3545fd975"
            }
          },
          "metadata": {}
        },
        {
          "output_type": "display_data",
          "data": {
            "text/plain": [
              "special_tokens_map.json:   0%|          | 0.00/112 [00:00<?, ?B/s]"
            ],
            "application/vnd.jupyter.widget-view+json": {
              "version_major": 2,
              "version_minor": 0,
              "model_id": "85326994a3d24b0ebecec2971ea5ff25"
            }
          },
          "metadata": {}
        },
        {
          "output_type": "display_data",
          "data": {
            "text/plain": [
              "1_Pooling/config.json:   0%|          | 0.00/190 [00:00<?, ?B/s]"
            ],
            "application/vnd.jupyter.widget-view+json": {
              "version_major": 2,
              "version_minor": 0,
              "model_id": "41ea584648e04a4f83355c24ebdad2fb"
            }
          },
          "metadata": {}
        },
        {
          "output_type": "display_data",
          "data": {
            "text/plain": [
              "2_Dense/config.json:   0%|          | 0.00/114 [00:00<?, ?B/s]"
            ],
            "application/vnd.jupyter.widget-view+json": {
              "version_major": 2,
              "version_minor": 0,
              "model_id": "4eccb7e418f249dd82bed62b5c9a89a8"
            }
          },
          "metadata": {}
        },
        {
          "output_type": "display_data",
          "data": {
            "text/plain": [
              "pytorch_model.bin:   0%|          | 0.00/1.58M [00:00<?, ?B/s]"
            ],
            "application/vnd.jupyter.widget-view+json": {
              "version_major": 2,
              "version_minor": 0,
              "model_id": "55f635906f4e463d92d6c4062585a9ae"
            }
          },
          "metadata": {}
        },
        {
          "output_type": "stream",
          "name": "stdout",
          "text": [
            "老師 vs 教師 distance = tensor([[0.9929]])\n",
            "老師 vs 泰國 distance = tensor([[0.3189]])\n",
            "教師 vs 泰國 distance = tensor([[0.3134]])\n",
            "商品 vs 貨物 distance = tensor([[0.6787]])\n",
            "商品 vs 跑步 distance = tensor([[0.4246]])\n",
            "貨物 vs 跑步 distance = tensor([[0.4545]])\n"
          ]
        }
      ]
    },
    {
      "cell_type": "code",
      "source": [
        "wordpairs = [['老师', '教师', '泰国'],\n",
        "              ['商品', '货物', '跑步']]\n",
        "\n",
        "for wordpair in wordpairs:\n",
        "    embeddings = model.encode(wordpair)\n",
        "    print(wordpair[0], 'vs',  wordpair[1], 'distance =', util.pytorch_cos_sim(embeddings[0], embeddings[1]))\n",
        "    print(wordpair[0], 'vs',  wordpair[2], 'distance =', util.pytorch_cos_sim(embeddings[0], embeddings[2]))\n",
        "    print(wordpair[1], 'vs',  wordpair[2], 'distance =', util.pytorch_cos_sim(embeddings[1], embeddings[2]))"
      ],
      "metadata": {
        "id": "Z6HkQ1613wrH",
        "outputId": "c24d48ce-f821-44a9-9df9-3f641af39b6f",
        "colab": {
          "base_uri": "https://localhost:8080/"
        }
      },
      "execution_count": 25,
      "outputs": [
        {
          "output_type": "stream",
          "name": "stdout",
          "text": [
            "老师 vs 教师 distance = tensor([[0.9646]])\n",
            "老师 vs 泰国 distance = tensor([[0.3492]])\n",
            "教师 vs 泰国 distance = tensor([[0.3385]])\n",
            "商品 vs 货物 distance = tensor([[0.9299]])\n",
            "商品 vs 跑步 distance = tensor([[0.4246]])\n",
            "货物 vs 跑步 distance = tensor([[0.4699]])\n"
          ]
        }
      ]
    },
    {
      "cell_type": "markdown",
      "source": [
        "## train test data embedding"
      ],
      "metadata": {
        "id": "gxLSpWRBuI_z"
      }
    },
    {
      "cell_type": "code",
      "source": [
        "train_embeddings = model.encode(tokenized_train_facts)"
      ],
      "metadata": {
        "id": "0H-6GooNssZ8"
      },
      "execution_count": 26,
      "outputs": []
    },
    {
      "cell_type": "code",
      "source": [
        "test_embeddings = model.encode(tokenized_test_facts)"
      ],
      "metadata": {
        "id": "LBqEudP7wClT"
      },
      "execution_count": 27,
      "outputs": []
    },
    {
      "cell_type": "code",
      "source": [
        "import numpy as np\n",
        "np.savetxt('/content/drive/MyDrive/senior/LAB/LawCaseRetreiver/sentence_predict/dataset_new/train_embeddings.txt', train_embeddings)\n",
        "np.savetxt('/content/drive/MyDrive/senior/LAB/LawCaseRetreiver/sentence_predict/dataset_new/test_embeddings.txt', test_embeddings)"
      ],
      "metadata": {
        "id": "hXEJpFhjT78_"
      },
      "execution_count": 28,
      "outputs": []
    },
    {
      "cell_type": "code",
      "source": [
        "# loaded_train_embeddings = np.loadtxt('train_embeddings.txt')"
      ],
      "metadata": {
        "id": "lJgaKDBJUVOr"
      },
      "execution_count": null,
      "outputs": []
    },
    {
      "cell_type": "markdown",
      "source": [
        "## 初始化KNN模型，指定使用Cosine Similarity計算距離"
      ],
      "metadata": {
        "id": "BaDddnUHuOqy"
      }
    },
    {
      "cell_type": "code",
      "source": [
        "from sklearn.neighbors import NearestNeighbors"
      ],
      "metadata": {
        "id": "qWdm1Pdstv7Z"
      },
      "execution_count": 29,
      "outputs": []
    },
    {
      "cell_type": "code",
      "source": [
        "k = 5\n",
        "knn_model_SBERT = NearestNeighbors(n_neighbors=k, metric='cosine')\n",
        "knn_model_SBERT.fit(train_embeddings)"
      ],
      "metadata": {
        "colab": {
          "base_uri": "https://localhost:8080/",
          "height": 75
        },
        "id": "IJYMUBXqt-Mi",
        "outputId": "cb1f0c28-f669-4555-9cbc-ec66e301ea3b"
      },
      "execution_count": 30,
      "outputs": [
        {
          "output_type": "execute_result",
          "data": {
            "text/plain": [
              "NearestNeighbors(metric='cosine')"
            ],
            "text/html": [
              "<style>#sk-container-id-1 {color: black;background-color: white;}#sk-container-id-1 pre{padding: 0;}#sk-container-id-1 div.sk-toggleable {background-color: white;}#sk-container-id-1 label.sk-toggleable__label {cursor: pointer;display: block;width: 100%;margin-bottom: 0;padding: 0.3em;box-sizing: border-box;text-align: center;}#sk-container-id-1 label.sk-toggleable__label-arrow:before {content: \"▸\";float: left;margin-right: 0.25em;color: #696969;}#sk-container-id-1 label.sk-toggleable__label-arrow:hover:before {color: black;}#sk-container-id-1 div.sk-estimator:hover label.sk-toggleable__label-arrow:before {color: black;}#sk-container-id-1 div.sk-toggleable__content {max-height: 0;max-width: 0;overflow: hidden;text-align: left;background-color: #f0f8ff;}#sk-container-id-1 div.sk-toggleable__content pre {margin: 0.2em;color: black;border-radius: 0.25em;background-color: #f0f8ff;}#sk-container-id-1 input.sk-toggleable__control:checked~div.sk-toggleable__content {max-height: 200px;max-width: 100%;overflow: auto;}#sk-container-id-1 input.sk-toggleable__control:checked~label.sk-toggleable__label-arrow:before {content: \"▾\";}#sk-container-id-1 div.sk-estimator input.sk-toggleable__control:checked~label.sk-toggleable__label {background-color: #d4ebff;}#sk-container-id-1 div.sk-label input.sk-toggleable__control:checked~label.sk-toggleable__label {background-color: #d4ebff;}#sk-container-id-1 input.sk-hidden--visually {border: 0;clip: rect(1px 1px 1px 1px);clip: rect(1px, 1px, 1px, 1px);height: 1px;margin: -1px;overflow: hidden;padding: 0;position: absolute;width: 1px;}#sk-container-id-1 div.sk-estimator {font-family: monospace;background-color: #f0f8ff;border: 1px dotted black;border-radius: 0.25em;box-sizing: border-box;margin-bottom: 0.5em;}#sk-container-id-1 div.sk-estimator:hover {background-color: #d4ebff;}#sk-container-id-1 div.sk-parallel-item::after {content: \"\";width: 100%;border-bottom: 1px solid gray;flex-grow: 1;}#sk-container-id-1 div.sk-label:hover label.sk-toggleable__label {background-color: #d4ebff;}#sk-container-id-1 div.sk-serial::before {content: \"\";position: absolute;border-left: 1px solid gray;box-sizing: border-box;top: 0;bottom: 0;left: 50%;z-index: 0;}#sk-container-id-1 div.sk-serial {display: flex;flex-direction: column;align-items: center;background-color: white;padding-right: 0.2em;padding-left: 0.2em;position: relative;}#sk-container-id-1 div.sk-item {position: relative;z-index: 1;}#sk-container-id-1 div.sk-parallel {display: flex;align-items: stretch;justify-content: center;background-color: white;position: relative;}#sk-container-id-1 div.sk-item::before, #sk-container-id-1 div.sk-parallel-item::before {content: \"\";position: absolute;border-left: 1px solid gray;box-sizing: border-box;top: 0;bottom: 0;left: 50%;z-index: -1;}#sk-container-id-1 div.sk-parallel-item {display: flex;flex-direction: column;z-index: 1;position: relative;background-color: white;}#sk-container-id-1 div.sk-parallel-item:first-child::after {align-self: flex-end;width: 50%;}#sk-container-id-1 div.sk-parallel-item:last-child::after {align-self: flex-start;width: 50%;}#sk-container-id-1 div.sk-parallel-item:only-child::after {width: 0;}#sk-container-id-1 div.sk-dashed-wrapped {border: 1px dashed gray;margin: 0 0.4em 0.5em 0.4em;box-sizing: border-box;padding-bottom: 0.4em;background-color: white;}#sk-container-id-1 div.sk-label label {font-family: monospace;font-weight: bold;display: inline-block;line-height: 1.2em;}#sk-container-id-1 div.sk-label-container {text-align: center;}#sk-container-id-1 div.sk-container {/* jupyter's `normalize.less` sets `[hidden] { display: none; }` but bootstrap.min.css set `[hidden] { display: none !important; }` so we also need the `!important` here to be able to override the default hidden behavior on the sphinx rendered scikit-learn.org. See: https://github.com/scikit-learn/scikit-learn/issues/21755 */display: inline-block !important;position: relative;}#sk-container-id-1 div.sk-text-repr-fallback {display: none;}</style><div id=\"sk-container-id-1\" class=\"sk-top-container\"><div class=\"sk-text-repr-fallback\"><pre>NearestNeighbors(metric=&#x27;cosine&#x27;)</pre><b>In a Jupyter environment, please rerun this cell to show the HTML representation or trust the notebook. <br />On GitHub, the HTML representation is unable to render, please try loading this page with nbviewer.org.</b></div><div class=\"sk-container\" hidden><div class=\"sk-item\"><div class=\"sk-estimator sk-toggleable\"><input class=\"sk-toggleable__control sk-hidden--visually\" id=\"sk-estimator-id-1\" type=\"checkbox\" checked><label for=\"sk-estimator-id-1\" class=\"sk-toggleable__label sk-toggleable__label-arrow\">NearestNeighbors</label><div class=\"sk-toggleable__content\"><pre>NearestNeighbors(metric=&#x27;cosine&#x27;)</pre></div></div></div></div></div>"
            ]
          },
          "metadata": {},
          "execution_count": 30
        }
      ]
    },
    {
      "cell_type": "code",
      "source": [
        "import pickle\n",
        "\n",
        "# 將模型保存到文件\n",
        "with open('/content/drive/MyDrive/senior/LAB/LawCaseRetreiver/sentence_predict/knn_model_SBERT.pkl', 'wb') as f:\n",
        "    pickle.dump(knn_model_SBERT, f)\n",
        "\n",
        "# 從文件加載模型\n",
        "with open('/content/drive/MyDrive/senior/LAB/LawCaseRetreiver/sentence_predict/knn_model_SBERT.pkl', 'rb') as f:\n",
        "    knn_model_SBERT_loaded = pickle.load(f)"
      ],
      "metadata": {
        "id": "myC_5utZUyeL"
      },
      "execution_count": 31,
      "outputs": []
    },
    {
      "cell_type": "markdown",
      "source": [
        "## 以第一篇test fact進行測試"
      ],
      "metadata": {
        "id": "f6pOE2hEusRC"
      }
    },
    {
      "cell_type": "code",
      "source": [
        "distances, indices = knn_model_SBERT_loaded.kneighbors(test_embeddings[0].reshape(1, -1))"
      ],
      "metadata": {
        "id": "Hh6QRA0QuqC7"
      },
      "execution_count": 32,
      "outputs": []
    },
    {
      "cell_type": "code",
      "source": [
        "indices"
      ],
      "metadata": {
        "colab": {
          "base_uri": "https://localhost:8080/"
        },
        "id": "AECkeI7qwi-g",
        "outputId": "7595a893-3065-4ab2-8aa1-b34ebb5c1872"
      },
      "execution_count": 33,
      "outputs": [
        {
          "output_type": "execute_result",
          "data": {
            "text/plain": [
              "array([[ 47,  96, 403, 415, 424]])"
            ]
          },
          "metadata": {},
          "execution_count": 33
        }
      ]
    },
    {
      "cell_type": "code",
      "source": [
        "distances"
      ],
      "metadata": {
        "colab": {
          "base_uri": "https://localhost:8080/"
        },
        "id": "a7QaNZzFwn-C",
        "outputId": "b7f067df-efb5-477b-82bd-7ae8770aeca4"
      },
      "execution_count": 34,
      "outputs": [
        {
          "output_type": "execute_result",
          "data": {
            "text/plain": [
              "array([[0.18015909, 0.21605486, 0.2552516 , 0.26113635, 0.2616095 ]],\n",
              "      dtype=float32)"
            ]
          },
          "metadata": {},
          "execution_count": 34
        }
      ]
    },
    {
      "cell_type": "code",
      "source": [
        "test_facts[0]"
      ],
      "metadata": {
        "id": "PhZb176t8sCA",
        "outputId": "ab889e65-8f67-4dec-e39f-79c20101efb3",
        "colab": {
          "base_uri": "https://localhost:8080/",
          "height": 214
        }
      },
      "execution_count": 35,
      "outputs": [
        {
          "output_type": "execute_result",
          "data": {
            "text/plain": [
              "'○、緣徐鴻光（所涉行使偽造私文書犯行，業經本院以95年度訴字第955號判決處有期徒刑3月、緩刑3年確定）因需款使用，知悉穆立明有借款管道，為求順利借款，2人竟共同意圖為自己不法所有，基於行使偽造私文書及詐欺取財之犯意聯絡，知悉車牌號碼00-000號營業小客車係徐鴻光向志朗交通有限公司（下稱志朗公司）租賃之車輛，竟由穆立明先於不詳時間、不詳地點，偽刻「志朗交通有限公司」及負責人「陳健志」印章（正確姓名為陳建志，誤刻為「陳健志」）各1枚，並偽造「陳健志」代表志朗公司與徐鴻光簽署之「臺北市計程車客運駕駛人自備車輛參與經營契約書」（下稱本案參與經營契約書），虛偽記載徐鴻光提供上述營業小客車靠行志朗公司營業等不實內容，並持上開偽刻印章，偽造「志朗交通有限公司」印文4枚、「陳健志」印文6枚於本案參與經營契約書上，再於92年3月6日交徐鴻光於立約人乙方欄簽名，2人復於同日協同不知情之徐鴻光配偶徐樂仁（所涉行使偽造私文書犯行，業經本院以95年度訴字第955號判決無罪確定），前往臺北市○○區○○街00巷0號2樓王傑生所經營之宏帝當舖（現更名為渣打當舖），由徐鴻光、穆立明交付偽造本案參與經營契約書向宏帝當鋪借款新臺幣（下同）10萬元以為行使，並約定由徐樂仁擔任連帶保證人，王傑生誤信上開車輛為徐鴻光所有而陷入錯誤，於扣除利息後交付9萬1千元借款予徐鴻光夫婦，足以生損害於志朗公司、陳建志、王傑生。嗣因徐鴻光僅清償每期7千元之分期款共11期計7萬7千元，未全額清償即無力負擔債務，王傑生始查知上開車輛非徐鴻光所有，而悉上情。二、案經王傑生訴由臺灣士林地方法院檢察署檢察官偵查起訴。理由○、證據能力部分：被告以外之人於審判外之言詞或書面陳述，除法律有規定者外，不得作為證據；又被告以外之人於審判外之陳述，雖不符合同法第159條之1至第159條之4之規定，但經當事人於審判程序同意作為證據，法院審酌該言詞陳述或書面陳述作成時之情況，認為適當者，亦得為證據。刑事訴訟法第159條第1項及第159條之5第1項分別定有明文。經查，本判決所引用之各該被告以外之人於審判外之陳述，雖屬傳聞證據，然當事人於本院審判期日中均表示同意作為證據方法而不予爭執，且迄至言詞辯論終結前亦未再聲明異議（見本院卷第68頁至第68頁背面），本院審酌上開證據資料製作時之情況，尚無違法不當及證明力明顯過低之瑕疵，亦認為以之作為證據應屬適當，故揆諸前開規定，爰依刑事訴訟法第159條之5規定，認前揭證據資料均有證據能力。二、認定犯罪事實所憑之證據及理由：（一）訊據被告穆立明固坦承有於92年3月6日帶共同被告徐鴻光、徐樂仁至宏帝當鋪借錢，惟矢口否認有何行使偽造私文書及詐欺取財之犯行，辯稱：本案參與經營契約書係由共同被告徐鴻光所提出，徐鴻光知道我在宏帝當舖當業務員，他因資金不夠，要伊帶至宏帝當鋪借錢，伊請徐鴻光帶身分證、本案參與經營契約書，證明計程車係屬於徐鴻光所有，另外要帶一位保人云云。（二）經查，證人即志英交通公司負責人陳建志於檢察官偵查中結證稱：本案參與經營契約書上之「志朗交通有限公司」、「陳健志」之印文均非我公司的大小章，志朗交通公司也是我的公司，我是負責人，但這個章不是我的，被告徐鴻光只是加入無線電台等語（見94年度偵字第8715號卷第45頁），復有其提出真正之志朗交通有限公司及其本人陳建志之印文各4枚在卷可稽（見94年度偵字第8715號卷第48頁），經核卷附本案參與經營契約書上所示之「志朗交通有限公司」、「陳健志」印文（見95年度偵緝字第60號卷第53頁），除二者字體明顯不同外，本案參與經營契約書中「陳健志」名字中之「健」一字顯係錯別字，堪認本案參與經營契約書上所示之「志朗交通有限公司」、「陳健志」印文確屬偽造一節，應可認定。（三）證人即告訴人王傑生於檢察官偵查中證稱：我經營宏帝當鋪，後改名為渣打當鋪，地址在臺北市○○街00巷0號2樓，計程車典當給我們時，我們要看參與經營契約書，被告徐鴻光有來借錢，被告穆立明當時有在場，徐鴻光給我們看本案參與經營契約書，我們就以為車子是徐鴻光的，我們找到車之後才知道車子是車行的，被告穆立明是我們公司抽獎金的業務員，穆立明介紹人來借錢，我給他獎金等語（見94年度偵字第8715號卷第37頁、95年度偵緝字第60號卷第49頁、第68頁），且證人朱庭峰於檢察官偵查中及本院審理時亦結證稱：我是宏帝當鋪的負責人，後來當鋪讓給王傑生，被告徐鴻光到宏帝當鋪借款10萬元，係由我接洽，當時是被告穆立明介紹，穆立明不是公司職員，他會介紹車子到我們公司來典當，我會給穆立明佣金，即我收到1,000元利息，就給他100元，本案參與經營契約書是由穆立明拿出來等語（見95年度偵緝字第60號卷第68頁至第69頁、95年度訴字第955號卷第66頁至第67頁），復有本案參與經營契約書、本票影本各1份附卷可憑（見94年度偵字第8715號卷第14頁至第17頁），足認共同被告徐鴻光係經被告穆立明介紹，持本案參與經營契約書於上開時間前往宏帝當鋪借款10萬元，且被告穆立明於借款時在場之事實，洵堪認定。（四）被告穆立明雖辯稱：本案參與經營契約書係共同被告徐鴻光所提出，伊僅有將徐鴻光帶去當鋪，就由當舖的人接洽云云，惟查，證人即共同被告徐鴻光於本院審理時證稱：因為我當司機收入不高，家裡有需要用錢，被告穆立明說有辦法借錢，我請被告穆立明帶我去借款，被告穆立明有帶我去當鋪，我太太徐樂仁當時有一起陪同，卷附之本票影本係我當時在當鋪簽立，而本案參與經營契約書係被告穆立明幫我準備好的，經我在當舖蓋我的章及簽名，被告穆立明拿給我時契約書已經寫好資料，至於被告穆立明提出本案參與經營契約書之來源我不知道，被告穆立明只有要我帶駕照、行照、身分證及私章，車號00-000號營業用小客車是我用租的車子，車子是志朗公司的車子，本案參與經營契約書內容不是真的，車子不是我自備的，只有契約書末頁乙方的簽名是我簽的等語（見本院卷第64頁至第66頁背面），核與其在檢察官偵查中證稱：被告穆立明有帶我去宏帝當鋪向朱先生借錢，我借10萬元，本案參與經營契約書係被告穆立明幫我準備好的，前面的簽名及資料是被告穆立明簽的，只有最後的簽名是我簽的等語大致相符（見95年度偵緝字第60號卷第48頁至第49頁），再查，參以被告穆立明於本院審理時當庭書寫徐鴻光名字之字跡經與本案參與經營契約書立契約書人一欄所簽署「徐鴻光」之筆跡比對後（見本院卷第73頁），依肉眼觀之，不論字跡之運筆、筆勾等字體外觀，均較為吻合，反觀該契約書頁末之乙方「徐鴻光」之筆跡，與頁首立契約書人一欄所簽署「徐鴻光」之筆跡之運筆及筆勾，字跡明顯不同，是被告穆立明辯稱本案參與經營契約書係由共同被告徐鴻光提出云云，已難採信；又證人徐鴻光於本院審理時證稱：我曾經用上開車輛向別的當鋪借錢，當時別的當鋪說車子用租的也可以借，只要押行照在那裡即可，不需要像本件一樣的契約，本件是我去當鋪，他們說該簽名的地方，我就簽名，且是我透過別的司機得知被告穆立明可以幫我問問哪裡可以借錢，所以才找被告穆立明等語（見本院卷第65頁背面至第66頁背面），衡以證人徐鴻光涉犯本案犯行業經本院認定有罪確定，自應無虛偽陳述之動機，且被告穆立明自承與證人徐鴻光無糾紛，同為排班計程車司機，為點頭之交乙情，亦認證人徐鴻光無涉詞誣陷被告穆立明之可能；再參以證人王傑生、朱庭峰皆證述本案參與經營契約書係由被告穆立明提出一節，又被告並不否認宏帝當舖僅同意典當個人所有靠行之車輛，不同意典當向車行租的車輛等情，而本件共同被告徐鴻光既有提供行照予被告穆立明，業經其證述如前，則自行照之記載內容即可知悉上開車輛所有人為何人，被告穆立明豈有不知上開車輛所有人為何人之理，況被告穆立明供認介紹共同被告徐鴻光予宏帝當鋪借錢有利息百分之十之報酬等語（見本院卷第69頁背面），其當有可能為促成徐鴻光與宏帝當鋪借款，而提出本案經營契約書供作本件借款之用，是被告穆立明辯稱車子是徐鴻光說其自己所有，本案參與經營契約書係徐鴻光自行提出云云，顯係事後卸責之詞，不足採信。（五）綜上所述，被告上開所辯各節，無非事後避重就輕、圖卸之詞，不足採信，被告行使偽造私文書及詐欺取財等犯行，事證明確，應依法論科。三、論罪科刑部分：（一）按被告行為後，94年2月2日修正公布之刑法已於95年7月1日生效施行，其中第2條第1項「行為後法律有變更者，適用行為時之法律。但行為後之法律有利於行為人者，適用最有利於行為人之法律」之規定，係規範行為後法律變更所生新、舊法律比較適用之準據法，並非刑法實體法律，自不生行為後法律變更之比較適用問題，故刑法修正施行後，應適用該修正後之第2條第1項之規定，依「從舊、從輕」之原則比較新、舊法律之適用；又比較新舊法時，應就罪刑有關之共犯、未遂犯、想像競合犯、牽連犯、連續犯、結合犯，以及累犯加重、自首減輕暨其他法定加減原因（如身分加減）與加減例等一切情形，綜其全部罪刑之結果而為比較後，再適用有利於行為人之法律處斷，而不得一部割裂分別適用不同之新、舊法（最高法院24年上字第4634號、29年上字第964號判例意旨及最高法院95年度第8次刑事庭會議決議參照）。經查：1.刑法第33條第5款關於罰金刑之規定業於94年2月2日修正，於95年7月1日生效，修正前刑法第33條第5款規定：「罰金：1元（銀元）以上。」，並依現行法規所定貨幣單位折算新臺幣條例規定，以銀元1元折算新臺幣3元，故修正前刑法規定罰金之最低數額為新臺幣3元；修正後刑法第33條第5款規定：「罰金：新臺幣1,000元以上，以百元計算之。」，故修正後刑法規定罰金之最低數額提高為新臺幣1,000元；比較上開罰金刑之最高數額，於修正後並無不同，惟修正後刑法第33條第5款所定罰金刑最低數額，既較修正前提高，依前開說明，應適用對被告有利之修正前刑法第33條第5款之規定。2.修正前刑法第28條規定：「二人以上共同實施犯罪之行為者，皆為正犯。」，修正後該條規定為：「二人以上共同實行犯罪之行為者，皆為正犯。」，揆諸本條之修正理由，係為釐清陰謀共同正犯、預備共同正犯、共謀共同正犯是否合乎本條之正犯要件，並將陰謀共同正犯、預備共同正犯剔除於本條適用之外，以符合近代刑法之個人責任原則、法治國人權保障思想及犯罪支配理論，自屬行為後法律有變更，而非僅屬文字修正，應有新舊法比較適用問題（最高法院97年度台上字第37號判決意旨參照）。本件被告穆立明與徐鴻光就前揭行使偽造私文書及詐欺取財犯行各具有犯意聯絡及行為分擔，不論依修正前或修正後之規定，均屬共同正犯，對被告並無有利或不利之情形，應適用行為時之法律。3.被告行為後新法業已刪除牽連犯之規定，依舊法成立方法、結果行為而僅論以一罪者，依新法將論以數罪，比較新、舊法結果，自以修正前刑法第55條牽連犯之規定，較有利於被告。4.綜此，本院經綜合上述各條文修正前、後之比較，參照前揭最高法院決議及修正後刑法第2條第1項前段、後段規定之「從舊、從輕」原則，被告穆立明上開犯行自應適用行為時之法律，予以論處。（二）核被告穆立明所為，係犯刑法第216條、第210條之行使偽造私文書罪、同法第339條第1項詐欺取財罪。被告穆立明於本案參與經營契約書上偽造「志朗交通有限公司」、「陳健志」印章及印文乃偽造私文書之部分行為，其偽造本案參與經營契約書後持以行使，偽造之低度行為復為行使之高度行為所吸收，均不另論罪。被告穆立明與徐鴻光就行使偽造私文書及詐欺之犯行有犯意聯絡及行為分擔，為共同正犯。又其等行使偽造私文書之目的，在詐取告訴人之金錢，所犯連續行使偽造私文書與詐欺取財2罪間，有方法、目的之牽連關係，應依修正前刑法第55條規定，從一較重之行使偽造私文書罪處斷。（三）爰審酌被告穆立明不思以正當途徑賺取錢財，竟偽造志朗公司及其負責人陳建志之印章，進而偽造本案參與經營契約書，而詐取告訴人之金錢，足生損害於志朗公司、陳建志、告訴人，並危害社會交易秩序，所為實有不該，犯後否認犯行，未見悔悟之心，兼衡被告穆立明有違反票據法之前科，有臺灣高等法院被告前案紀錄表在卷可稽（見本院卷第60頁），素行尚可，共同被告徐鴻光於詐得借款後已陸續返還利息予告訴人與朱庭峰，及被告穆立明為高中肄業之智識程度，經濟狀況為小康之生活狀況等一切情狀（見被告警詢筆錄受詢問人欄，本院卷第6頁），量處如主文所示之刑，以資懲儆。又關於易科罰金之折算標準，修正前刑法第41條第1項前段規定：「犯最重本刑為5年以下有期徒刑以下之刑之罪，而受6個月以下有期徒刑或拘役之宣告，因身體、教育、職業、家庭之關係或其他正當事由，執行顯有困難者，得以1元以上3元以下折算1日，易科罰金。」，再依據修正前罰金罰鍰提高標準條例第2條：「依刑法第41條易科罰金或第42條第2項易服勞役者，均就其原定數額提高為1百倍折算1日；法律所定罰金數額未依本條例提高倍數，或其處罰法條無罰金刑之規定者，亦同。」之規定，被告行為時之易科罰金折算標準，應以銀元1百元以上3百元以下折算1日，經折算為新臺幣後，應以新臺幣3百元以上9百元以下折算1日。惟95年7月1日施行之刑法第41條第1項前段規定修正為：「犯最重本刑為5年以下有期徒刑以下之刑之罪，而受6個月以下有期徒刑或拘役之宣告者，得以新臺幣1千元、2千元或3千元折算一日，易科罰金。」，另95年7月1日生效施行之罰金罰鍰提高標準條例則刪除原本第2條之規定。是以比較新舊法結果，自以舊法所定之易科罰金折算標準有利於被告，故應依修正前刑法第41條第1項前段、修正前罰金罰鍰提高標準條例第2條規定，就所宣告之刑部分諭知易科罰金之折算標準。（四）偽造之「臺北市計程車客運駕駛人自備車輛參與經營契約書」原本1份固經共同被告徐鴻光於借款時行使交付予宏帝當鋪，業如前述，惟此僅係共同被告徐鴻光為借得款項，而將本案參與經營契約書交付當鋪作為擔保使用，其所有權仍為共同被告徐鴻光所有，不因行使而移轉為宏帝當鋪所有，又該偽造之契約既係供本件犯行所用，爰依刑法第38條第1項第2款規定宣告沒收。又契約上偽造之「志朗交通有限公司」印文4枚、「陳健志」之印文6枚固係偽造之印文，已因該契約之沒收而包括在內，無再重複諭知沒收之必要。另告訴人為提起本件告訴，而複印本案參與經營契約書資為證據（見94年度偵字第8715號卷第15至第17頁），因認僅係作為本案訴訟使用，而非被告穆立明、共同被告徐鴻光供本件犯行所用之物，就複印之契約書上之「志朗交通有限公司」印文4枚、「陳健志」之印文6枚，爰不予宣告沒收。至被告穆立明偽刻之「志朗交通有限公司」、「陳健志」印章各1枚，係偽造之印章，且無證據證明業已滅失，應依刑法第219條宣告沒收。（五）再按本條例施行前，經通緝而未於中華民國96年12月31日以前自動歸案接受偵查、審判或執行者，不得依本條例減刑，中華民國九十六年罪犯減刑條例第5條定有明文。查本件被告穆立明所為前開犯行之犯罪時間固係在96年4月24日以前，但其曾於中華民國九十六年罪犯減刑條例施行（96年7月16日施行）前之95年12月21日因本案經本院以95年士院刑玄緝字第463號通緝書發佈通緝，於102年9月1日甫緝獲歸案等情，此有前開通緝書、歸案證明書、本院102年士院刑玄銷字第289號撤銷通緝書各1份存卷可參（95年度訴字第955號卷第43頁、本院卷第26頁、第43頁），從而，依前開規定，本案被告無從依中華民國九十六年罪犯減刑條例之規定減刑，併此敘明。據上論斷，應依刑事訴訟法第299條第1項前段，刑法第2條1項前段、第28條、第216條、第210條、第339條第1項、第219條、第38條第1項第2款、修正前刑法第55條、第41條第1項前段，刑法施行法第1條之1第1項，修正前罰金罰鍰提高標準條例第2條，現行法規所定貨幣單位折算新臺幣條例第2條，判決如主文。本案經檢察官黃仙宜到庭執行職務。中華民國102年12月3日刑事第七庭審判長法官雷雯華法官陳介安法官蔡子琪以上正本證明與原本無異。如不服本判決應於收受送達後10日內向本院提出上訴書狀，並應敘述具體理由。其未敘述上訴理由者，應於上訴期間屆滿後20日內向本院補提理由書（均須按他造當事人之人數附繕本）「切勿逕送上級法院」。書記官李宜蓁中華民國102年12月5日附錄本案論罪科刑所依據之法條：刑法第216條、第210條、第339條第1項偽造、變造私文書，足以生損害於公眾或他人者，處5年以下有期徒刑。偽造印章、印文或署押，足以生損害於公眾或他人者，處3年以下有期徒刑。盜用印章、印文或署押，足以生損害於公眾或他人者，亦同。意圖為自己或第三人不法之所有，以詐術使人將本人或第三人之物交付者，處5年以下有期徒刑、拘役或科或併科1千元以下罰金。'"
            ],
            "application/vnd.google.colaboratory.intrinsic+json": {
              "type": "string"
            }
          },
          "metadata": {},
          "execution_count": 35
        }
      ]
    },
    {
      "cell_type": "code",
      "source": [
        "# 打印最相近的五篇文章的索引及距離\n",
        "for i, index in enumerate(indices[0]):\n",
        "    print(\"Article Index:\", index, \"Distance:\", distances[0][i])\n",
        "    print(\"Article Text:\", train_facts[index])"
      ],
      "metadata": {
        "colab": {
          "base_uri": "https://localhost:8080/"
        },
        "id": "LAV_rBAawqjK",
        "outputId": "5af60c91-94be-47eb-9a21-8e75adfdd998"
      },
      "execution_count": 36,
      "outputs": [
        {
          "output_type": "stream",
          "name": "stdout",
          "text": [
            "Article Index: 47 Distance: 0.18015909\n",
            "Article Text: 一、吳文於民國101年6月8日某時，明知林毅桓（業經另案先行判刑確定）並未經陳俊宏授權同意貸款購買自用小客車，竟基於幫助他人行使偽造私文書、使公務員登載不實及詐欺取財之犯意，為林毅桓介紹其洗車場同事莊凱翔（業經檢察官處分緩起訴確定）出面假冒陳俊宏本人貸款購車。由林毅桓於同年月8日持竊得之陳俊宏國民身分證，到彰化縣和美鎮○○路000號陳菀菱經營之東岸汽車商行，購買張超雄所有、託售之車牌號碼0000-00號自用小客車，嗣帶同莊凱翔前往同縣市○○路0段000號順益汽車股份有限公司（下稱順益汽車），辦理汽車買賣相關之簽約，及向臺灣人壽保險股份有限公司（下稱臺灣人壽公司）貸款新臺幣（下同）14萬元等對保手續，並由莊凱翔假冒陳俊宏本人，在如附表所示之文件及欄位上（編號4除外），偽造「陳俊宏」之署押，並將陳俊宏之證件交給不知情之陳菀菱，由陳菀菱將陳俊宏證件交給不知情之代辦人林秀月前往交通部公路總局臺中區監理所彰化監理站，辦理該汽車過戶登記至陳俊宏名下；林毅桓並接續於同年月11日，持上開陳俊宏之證件及其於不詳時地偽刻「陳俊宏」之印章1顆，交由不知情之承辦人陳信瑋於如附表所示之文件及欄位上用印及送件，使原車主張超雄、臺灣人壽公司及上開監理站陷於錯誤，而辦理車輛過戶並交付貸款；待辦完車輛過戶及貸款後，林毅桓便取走該車據為己用，且未繳納分期之貸款，足生損害於陳俊宏、張超雄、臺灣人壽公司之權益及汽車監理機關管理車籍之正確性（貸款本金已由順益汽車於101年8月16日買回債權，並於102年10月24日實行動產抵押權受償2萬5000元）。二、案經陳俊宏訴由彰化縣警察局和美分局報請臺灣彰化地方法院檢察署（下稱彰化地檢署）檢察官偵查起訴。理由一、證據能力(一)本案被告吳文之自白及不利於己之陳述，並無出於強暴、脅迫、利誘、詐欺、疲勞訊問、違法羈押或其他不正之方法，亦非違反法定障礙事由經過期間不得訊問或告知義務之規定而為，且被告並未爭執上開陳述之證據能力，依刑事訴訟法第156條第1項、第158條之2規定，認有證據能力。(二)按被告以外之人於審判外之陳述，雖不符刑事訴訟法第159條之1至第159條之4之規定，但經當事人於審判程序同意作為證據，法院審酌該言詞陳述或書面陳述作成時之情況，認為適當者，亦得為證據，同法第159條之5第1項定有明文。本判決所引告訴人即證人陳俊宏、證人陳菀菱、林秀月、陳信瑋等人，於警詢中之供述，被告同意有證據能力（見本院卷第90頁），本院審酌上開證據資料製作時之情況，尚無違法不當及證明力明顯過低之瑕疵，以之作為證據應屬適當，爰認該等供述證據均有證據能力。(三)本判決所引告訴人即證人陳俊宏、證人陳菀菱及陳信瑋等人，於偵訊中經具結後向檢察官所為之證述，並無顯不可信之情況，依刑事訴訟法第159條之1第2項規定，均有證據能力。(四)本判決所引其餘非供述證據，經本院於審理期日提示予當事人而為合法調查，檢察官及被告均未爭執證據能力（見本院卷第187頁背面至第190頁），本院依證據排除法則審酌各該證據，亦無違背法定程序取得或其他不得作為證據之情形，認均有證據能力。二、認定犯罪事實所憑之證據及理由訊據被告固坦承伊知悉林毅桓未經告訴人陳俊宏同意購買該小客車，且林毅桓曾到伊上班之洗車場找莊凱翔出面假冒告訴人陳俊宏購車，惟矢口否認有共同或幫助犯行使偽造私文書等罪之犯行，並辯稱：我知道林毅桓未經陳俊宏之同意授權而購買該小客車，因為林毅桓有叫莊凱翔在洗車場練習陳俊宏的簽名，當天林毅桓去洗車場找人簽名，我說隨便你找，如果阿弟要去的話就去，我讓林毅桓自己找莊凱翔談，林毅桓要莊凱翔在辦公室裡面練習「陳俊宏」簽名，不是我去找莊凱翔的，林毅桓有來問我說可不可以找莊凱翔去，我說可以，所以我讓莊凱翔提早離開……是林毅桓自己找莊凱翔談出面買車幫他簽名就給3000元，所以莊凱翔不是我找的云云（見本院卷第89頁至第91頁背面）。經查：(一)被告於偵訊中直認：我知道，林毅桓要我找人幫他簽名去買車，因為他說他要簽名，我就找我同事去簽名，我承認我幫助林毅桓找人去偽造文書等語（見102年度偵緝字第73號偵訊筆錄，附於本院卷第145頁），已坦承莊凱翔乃伊幫林毅桓覓得。(二)證人林毅桓於本院證稱：我以陳俊宏名義購買本案之車牌號碼0000-00自用小客車及向臺灣人壽公司辦理動產擔保貸款，當時我是在彰美路與金馬路口的洗車場拜託被告幫我找個比較像陳俊宏的人去代為簽名，被告知道去簽名的「小翔」不是陳俊宏，當時我有拿陳俊宏的照片讓被告看，說就是要找一個類似這樣的人，面容要像一點的，我要去簽名而已，我是跟被告說我以3000元的代價請他去簽名，我不曉得被告找的人是在洗車場找到的，我只知道他叫「小翔」，跟陳俊宏長得蠻像，我是在洗車場外面跟「小翔」碰面。被告幫我找人，我沒有給他代價，因為我之前跟被告是很好的朋友，我有跟被告說我可能要買車……我記得是去簽名的前2、3天，請被告幫我找一個長得很像陳俊宏的人，當時車行已經通知貸款過了，我當時也有拿陳俊宏的身分證給被告看，被告是在我拜託他的隔天找到的，被告是在洗車場外面介紹我跟「小翔」見面，當時是晚上，被告介紹後就自己進去，留我跟「小翔」在那邊交談，之後「小翔」就直接跟我走，我沒有叫「小翔」練習陳俊宏的簽名，我只叫被告找一個類似陳俊宏這個圖片的人，我要帶他去簽名而已，那天我帶「小翔」去順益汽車，是一次把全部文件都簽好，陳俊宏的印章是在「小翔」簽名的隔天，我臨時刻好拿去給順益汽車業務陳信瑋……當時貸款14萬元有超貸1萬6400元，我拿去給我小孩用了，車子本來是我要開，後來我把車轉交給被告開，被告說他要繳所有的貸款，所以我就把超貸的1萬6400元給被告，自從我請被告幫我找人出來簽名的時候，我就跟他說我可能買車，被告就知道我有車貸……當時去東岸汽車買車、辦理貸款跟業務接洽、送資料及文件，都是我一個人，莊凱翔只有一次出面簽名，之後都是我全權辦理……我跟被告是朋友，約在101年3月認識，被告幫我找那位簽陳俊宏名字的人就是現在在庭的莊凱翔，我是以3000元代價請莊凱翔幫我簽名，莊凱翔知道我不是陳俊宏等語（見本院卷第161至166頁、第168頁背面至第169頁），已明確證稱被告係明知林毅桓未取得陳俊宏之同意而貸款買車，並為林毅桓介紹莊凱翔出面假冒陳俊宏身分而簽名。(三)證人莊凱翔於本院證稱：我認識在庭的被告及林毅桓，他們都叫我「阿翔」或「小翔」，是林毅桓叫我去簽名，我知道林毅桓不是陳俊宏，林毅桓是透過被告找上我的，是林毅桓直接跟我說的，他說要去買車叫我去幫他簽名，對保時林毅桓有跟賣車的人或是辦理貸款的人說我是陳俊宏，我當時因為缺錢，所以不管出面簽陳俊宏的名字這件事有沒有問題，為了這3000元的代價，我還是去簽陳俊宏的名字，我只有去簽名，沒有參與其他的部分……烏日分局警卷第14頁之動產擔保交易動產抵押設定登記申請書，該警卷第14頁背面之借款暨動產抵押契約書，該警卷第15頁之監理業務住居所、就業處所地址申請書，以及該警卷第16頁背面之汽車買賣讓渡書，這些文件上面陳俊宏的簽名都是我簽的，都是我同時、一次在順益汽車簽的，我是在簽名後拿到3000元，我沒有分給被告……我的印象是我們三個在場時，剛好講到林毅桓要找我出面假冒陳俊宏買車這件事……當天我有在洗車場練習陳俊宏簽名，一開始是我跟被告兩個，林毅桓是後面才到了，之後才到洗車場外面講，講完之後就進去辦公室裡面練習陳俊宏的簽名……被告到底跟林毅桓怎麼說的我不知道，但是講完林毅桓就把我叫出去，我是透過被告才認識林毅桓等語（見本院卷第170頁背面至第173頁）。關於林毅桓與莊凱翔接洽及討論假冒陳俊宏身分之過程，2人證述內容大致相符，則渠等上開證述，應非虛情。(四)而莊凱翔究竟是林毅桓透過被告找的，還是林毅桓自己去洗車場隨便尋覓之人，經命證人林毅桓與莊凱翔對質後，證人林毅桓證稱：我是直接找被告跟他講，被告跟我說是洗車場的莊凱翔，被告也有說因為莊凱翔比較缺錢，當時我去的時候，被告跟我說要找莊凱翔，所以我才再跟莊凱翔重新講一次，我也有跟被告說要給簽陳俊宏名字的人3000元，所以我請被告幫我找，莊凱翔到洗車場外面時，我還是重複跟莊凱翔說一遍，當時莊凱翔沒有問我，講完之後莊凱翔OK，我就直接帶了，我很確定有叫莊凱翔在辦公室內背陳俊宏的身分證字號、出生年月日、他家的人員、住址等，身分證上全部都要背，我是在被告及莊凱翔面前叫莊凱翔背這些，陳俊宏的簽名則不用練等語（見本院卷第175頁背面）；而證人莊凱翔則證稱：我在辦公室內有練習簽名，也有背資料，辦公室裡面林毅桓及被告都在等語（見本院卷第176頁），關於上開細節，被告亦供承：莊凱翔有在辦公室練簽名、背資料等語不諱（見本院卷第176頁）。由證人林毅桓上開透過被告介紹莊凱翔之證述，以及證人莊凱翔證稱與林毅桓接洽及背陳俊宏資料之過程，被告均在場等情，足認，證人林毅桓證稱伊拜託被告為其尋覓莊凱翔出面假冒陳俊宏身分辦理貸款購車乙節，堪可採信。(五)綜合上情，被告辯稱是林毅桓自己與莊凱翔接洽，伊並未參與云云，並非可採。又本案尚有證人陳俊宏、陳菀菱、林秀月、陳信瑋等人於警詢或偵訊中之證述（見警卷第2至9頁、第9172號偵卷第41至44頁、第23至25頁），及交通部公路總局臺中區監理所函文、檢附之車牌號碼0000-00號汽車之過戶資料、臺灣人壽公司汽車貸款申請書、順益汽車函文103年6月16日、臺灣人壽公司同年月17日函文及債權讓與契約書，暨本院102年度訴字第511號刑事判決等附卷可稽（見警卷第10頁至第17頁背面、第9172號偵卷第38頁、本院卷第8至12頁、第99至101頁）。從而，本案事證明確，被告犯行堪以認定，應依法論科。三、論罪科刑(一)按行為後法律有變更者，適用行為時之法律。但行為後之法律有利於行為人者，適用最有利於行為人之法律，刑法第2條第1項定有明文。查本案被告行為後（幫助犯係以正犯實行犯罪時，為其犯罪行為之時點），刑法第339條業於103年6月18日修正公布，於同年月20日生效施行。按修正前刑法第339條第1項規定：「意圖為自己或第三人不法之所有，以詐術使人將本人或第三人之物交付者，處5年以下有期徒刑、拘役或科或併科1千元以下罰金。」修正後刑法第339條第1項則規定：「意圖為自己或第三人不法之所有，以詐術使人將本人或第三人之物交付者，處5年以下有期徒刑、拘役或科或併科50萬元以下罰金。」二者罰金刑有所不同。修正前刑法第339條第1項所定之罰金刑，依刑法施行法第1條之1第1項、第2項前段規定，以新臺幣為貨幣單位，就所定數額提高為30倍後，為新臺幣3萬元；修正後刑法第339條第1項規定，則將罰金提高為新臺幣50萬元以下，經比較新舊法結果，自以被告行為時即修正前之規定對其較為有利，依刑法第2條第1項前段規定，應適用修正前之刑法第339條第1項規定。(二)又按刑法上之幫助犯，係指以幫助之意思，對於正犯資以助力，使其犯罪易於達成，而未參與實施犯罪之行為者而言，如就構成犯罪事實之一部，已參與實施即屬共同正犯（最高法院49年臺上字第77號判例暨同院101年度臺上字第5885號判決可資參照）。被告基於幫助之犯意，為林毅桓介紹可以假冒陳俊宏本人出面購車、辦理貸款之莊凱翔，使林毅桓及莊凱翔遂行渠等假冒陳俊宏身分而貸款購車之犯行（渠等二人均係犯刑法第216條、第210條行使偽造私文書、同法第214條使公務員登載不實及修正前刑法第339條第1項詐欺取財罪，又利用不知情之汽車商行及順益汽車承辦人員陳菀菱、林秀月、陳信瑋等人遂行上開犯行，均屬間接正犯），被告參與之犯罪僅止於此，並無證據證明被告有參與實施本件行使偽造私文書、使公務員登載不實及詐欺取財等犯行，是核被告所為，係犯刑法第30條第1項前段、同法第216條、第210條、第214條、（修正前）第339條第1項之幫助行使偽造私文書、使公務員登載不實及詐欺取財罪，並依刑法第30條第2項規定，減輕其刑。被告以一介紹莊凱翔為林毅桓出面假冒陳俊宏貸款購車之幫助行為，使林毅桓易於遂行上開數罪，為想像競合犯，應依刑法第55條之規定，從重論以一幫助行使偽造私文書罪。起訴書雖漏未論及刑法第214條及修正前刑法第339條第1項之罪，然為起訴效力所及，本院自得併予審理；又檢察官依行使偽造私文書罪之共同正犯起訴，容有未洽，惟共同正犯與幫助犯，僅係犯罪形態與得否減刑有所差異，其適用之基本法條及所犯罪名並無不同，是尚無變更起訴法條之必要（最高法院99年度臺上字第5741號暨同院97年度臺上字第202號判決參照）。(三)爰以行為人之責任為基礎，審酌被告明知林毅桓以陳俊宏名義貸款購車，並未取得陳俊宏之同意，竟仍幫助林毅桓為其介紹莊凱翔假冒陳俊宏之身分，所為使林毅桓及莊凱翔易於完成本案犯行，因而損及陳俊宏、張超雄、臺灣人壽公司之權益及監理機關對於車輛管理之正確性，並使原車主張超雄移轉該汽車所有權、臺灣人壽公司受有撥付貸款之損害，顯見其法治觀念薄弱，所為實非可取；兼衡其犯後於偵查中曾坦承犯行，嗣於本院否認犯行，及其自述：我是高中肄業（僅讀半學期），沒有任何專門技術及證照，與父母親同住，居住之房屋每月租金約1萬多元，目前與父親一起從事防水抓漏工程，因為須分擔家用，所以沒有向父親領取薪資，我需要用錢時便會跟母親拿等語（見本院第191頁背面）之家庭經濟及生活狀況等一切情狀，量處如主文所示之刑，並諭知易科罰金之折算標準。(四)如附表所示之偽造印文及署押，依刑法第219條之規定，不問屬於被告與否，均應沒收之，屬義務沒收之物；惟按沒收為從刑之一種，依主從不可分之原則，應附隨緊接於主刑之下而同時宣告；又共同正犯因相互間利用他人之行為，以遂行其犯意之實現，本於責任共同之原則，有關沒收部分，對於共犯間供犯罪所用之物，自均應為沒收之諭知。惟幫助犯僅係對於犯罪構成要件以外行為為加工，並無共同犯罪之意思，自不適用該責任共同原則，對於正犯所有供犯罪所用之物或犯罪所得之物，亦為沒收之諭知，最高法院91年度臺上字第5583號判決意旨參照，從而，本院即無庸為沒收之諭知，併予敘明。據上論斷，應依刑事訴訟法第299條第1項前段，刑法第2條第1項前段、第30條第1項前段、第2項、第214條、第210條、第216條、（修正前）第339條第1項、第55條、第41條第1項前段，刑法施行法第1條之1第1項、第2項前段，判決如主文。本案經檢察官何蕙君到庭執行職務。中華民國103年10月21日刑事第五庭審判長法官周淡怡法官李淑惠法官曹馨方以上正本證明與原本無異。如不服本判決應於收受判決後10日內向本院提出上訴書狀，並應敘述具體理由；其未敘述上訴理由者，應於上訴期間屆滿後20日內向本院補提理由書（均須按他造當事人之人數附繕本）「切勿逕送上級法院」。告訴人或被害人對於判決如有不服具備理由請求檢察官上訴者，其上訴期間之計算係以檢察官收受判決正本之日期為準。中華民國103年10月21日書記官呂雅惠附表：偽造之印文及署押\n",
            "Article Index: 96 Distance: 0.21605486\n",
            "Article Text: 一、黃建誌於民國97年7、8月間，經綽號「程董」之程樹文介紹而認識無申辦消費貸款經驗之潘家鑫，得知潘家鑫因缺錢而欲申辦現金卡使用，由程樹文將不知情之潘家鑫交付用以申辦現金卡之國民身分證及全民健保卡影本（下稱潘家鑫證件影本）轉交黃建誌。嗣於98年9月間，黃建誌透過邱信福介紹，知悉峰磊實業有限公司（下稱峰磊公司）之負責人陳怡靜因該公司違反海關緝私條例案件經裁處罰鍰，為脫免負責人責任而欲找尋人頭擔任公司負責人承擔罰鍰，詎黃建誌竟基於行使偽造私文書之犯意，於同年月9日至16日間某時，未得潘家鑫同意，先於空白「峰磊實業有限公司股東同意書」上偽造潘家鑫簽名一枚，製作潘家鑫同意擔任該公司董事之虛偽私文書（下稱本案偽造董事變更同意書），足以生損害於潘家鑫。又黃建誌與邱信福、陳怡靜（陳怡靜偽造潘家鑫私文書部分經檢察官為不起訴處分，陳怡靜與邱信福涉犯共同使公務員登載不實部分未據起訴）均明知潘家鑫並未實際受讓股份而共同基於使公務員登載不實之犯意聯絡，由邱信福將本案偽造董事變更同意書轉交陳怡靜，陳怡靜再將之轉交由不知情之公司登記代辦業者江桂珍，由江桂珍將本案偽造董事變更同意書及其他申請公司變更登記文件資料委由不知情之同業廖日隆、蕭育靜於同年月17日持向經濟部中部辦公室辦理公司負責人變更登記，而行使本案偽造董事變更同意書，並使經濟部中部辦公室承辦之公務人員白建國，於依法形式審查申請文件認屬合法後，於同日將潘家鑫擔任峰磊公司董事之不實事項，登記於職務上所掌之公司登記資料公文書內，而辦理該公司變更登記完畢，足以生損害於潘家鑫以及經濟部對公司登記資料之正確性。二、嗣因潘家鑫先後收受法務部行政執行署板橋行政執行處於98年11月30日、同年12月8日以伊為峰磊公司負責人之繳納稅捐及滯納金新臺幣（下同）17,170元、639,636元之通知書後，發覺有異，經向臺灣板橋地方法院檢察署申告，由檢察官偵查，始查知上情。三、案經臺灣臺北地方法院檢察署檢察官簽分後呈請臺灣高等法院檢察署檢察長令轉臺灣板橋地方法院檢察署檢察官偵查起訴。理由一、傳聞證據（刑事訴訟法第159條第1項之除外規定）之證據能力及證據能力有爭執之部分：(一)證人潘家鑫（板檢100偵23593卷第10至14頁）、邱信福（北檢100偵2005卷第29、32頁、同卷第58至60、67頁；板檢101偵23593卷第27至29頁）、翟亞崙（北檢100偵2005卷第44至45、48頁；板檢101度偵第23593卷第28、30頁）、江桂珍（北檢100偵2005卷第55、56、66頁）於偵訊中之證言部分：1.按「證人、鑑定人依法應具結而未具結者，其證言或鑑定意見，不得作為證據。」、「被告以外之人於偵查中向檢察官所為之陳述，除顯有不可信之情況者外，得為證據。」，刑事訴訟法第158條之3、第159條之1第2項分別定有明文。上開各該證人於偵查中之證言，查無顯不可信之情況，且經合法具結，是上開證人於檢察官訊問時經具結後所為之證述，自有證據能力。2.被告對上開證人偵訊證言之證據能力，除不爭執外，並捨棄傳訊江桂珍行使詰問權（101年4月13日準備程序筆錄第4頁），另經本院依被告聲請，於審理中傳喚潘家鑫、邱信福到庭使被告行使對質詰問權（101年5月14日審判筆錄第3至15頁；101年7月30日審判筆錄第14至15頁；101年10月23日審判筆錄第3至4頁），是上開證人偵訊證言均有證據能力。(二)附表所示之各該公司之登記資料及登記案卷、法務部行政執行署板橋行政執行處之執行通知書，查分別係公司登記及行政執行主管機關之公務員於執行通常登記及執行業務所制作之紀錄性質之文書，依刑事訴訟法第159條之4第1款規定自有證據能力。(三)至於，證人陳怡靜於偵查中之陳述（北檢100偵2005卷第7至9、45至46頁），查係證人於偵查中就自己涉犯偽造文書罪嫌（本案翟亞崙、潘家鑫之「峰磊實業有限公司股東同意書」上簽名部分）於偵訊中以被告身分所為之陳述，就被告本案犯罪事實而言，本質上屬證人於審判外之陳述，如欲將該偵訊陳述作為被告犯罪之證據，應於偵查中將伊之身分轉換為證人後，再依刑事訴訟法第158條之3、第159條之1第2項規定，取得證據能力（最高法院97年度台上字第1348、3872、4050號判決要旨參照），本案陳怡靜於偵訊中之陳述，並非以證人身分依法具結而供述，依上開說明，難認有證據能力，應予排除。二、被告黃建誌就其取得潘家鑫證件影本，及經邱信福而得知峰磊公司欲找人頭擔任負責人，而提供潘家鑫身分資料供作人頭，並由其簽署潘家鑫簽名以製作「峰磊實業有限公司股東同意書」交邱信福轉交陳怡靜辦理公司變更登記等情，於偵查及審理中均坦承不諱（北檢100偵2055卷第27-29、57-58；板檢100偵17453卷第14至16頁；本院101年4月13日準備程序筆錄第5頁，101年5月14日審判筆錄第9頁，101年10月23日審判筆錄第3頁），核與證人潘家鑫（板檢100偵23593卷第10至14頁，本院101年5月14日審判筆錄第4至9、13至16頁）、邱信福（北檢100偵2005卷第29至30、57至58頁；板檢101偵23593卷第27頁；本院101年5月14日審判筆錄第10至12頁）、陳怡靜（本院101年7月30日審判筆錄第8至13頁）於偵查及審理中證述情節相符，並有峰磊公司之公司登記資料（該公司之經濟部中部辦公室登記卷影卷）在卷可查，堪認被告確有自程樹文取得潘家鑫證件影本，並以潘家鑫名義製作本案偽造董事變更同意書之事實。惟其於審理中矢口否認行使偽造私文書及使公務員登載不實之犯行，辯稱：潘家鑫交付證件申辦信用貸款時，曾同意只要可以取得貸款，均可配合，且於製作本案偽造董事變更同意書時，有與程樹文取得聯絡，故將潘家鑫證件資料及本案偽造董事變更同意書交付邱信福供陳怡靜辦理公司變更登記，其交付該等資料後，因無法聯絡潘家鑫，而通知邱信福勿辦理公司變更登記，邱信福亦表同意，是該公司變更登記完成與伊無涉云云。經查：(一)峰磊公司前因違反海關緝私條例案件受裁罰後，峰磊公司先於98年2月10日變更為陳怡靜之一人公司後，陳怡靜再透過邱信福由被告提供翟亞崙為人頭，於同年9月8日由代辦業者蕭育靜送件，並於同日將峰磊公司負責人變更登記為翟亞崙完成後，再由被告提供潘家鑫為人頭，於同年月17日由蕭育靜送件，並於同日將該公司負責人變更登記為潘家鑫之事實，除經證人陳怡靜於審理（本院101年7月30日審判筆錄第9至13頁）、江桂珍於偵查（北檢100偵2005卷第55、56頁）分別證述明確外，並有峰磊公司之經濟部中部辦公室公司登記卷案（公司登記影卷第1至8、9至15、16至33頁）及行政執行署板橋行政執行處98年度緝稅執字第00148828號、98年度緝稅執專字第00153522號執行通知書（板檢99他507卷第24至26頁）在卷可查，而陳怡靜更於審理中證稱峰磊公司變更負責人僅係伊欲收掉該公司，日後不再以該公司經營，債務移轉予該人頭等語（本院101年7月30日審判筆錄第9、12頁），堪認陳怡靜為規避擔任峰磊公司負責人罰鍰，先後於98年9月8日及17日，以翟亞崙、潘家鑫為人頭負責人完成公司負責人變更登記，合先敘明。(二)被告雖辯稱其取得潘家鑫證件影本及製作本案偽造董事變更同意書時，有經潘家鑫授權同意云云，然查：1.證人潘家鑫於偵查及審理中之證述，伊係於97年間因欠缺金錢而欲辦理現金卡，而透過友人「檸檬」介紹「程董」程樹文後，伊即依程樹文聯絡前往「草莓牛奶」蛋糕店與程樹文會面，待被告抵達該店後，伊即在店外等候，而由程樹文與被告二人在店內商討後，由被告送伊回三重，當日伊有將身分證件影本交付程樹文，程樹文則交付1萬元予伊告知待核卡後再還款，惟過幾天後程樹文通知伊無法申辦現金卡，卻未交還證件影本，其後亦未再連絡等情（板檢100偵23593卷第10至14頁，本院101年5月14日審判筆錄第14頁），核與被告陳稱：當日係與程樹文、潘家鑫在「草莓牛奶」蛋糕店會面，由其與程樹文二人商討後，程樹文將潘家鑫證件影本交付予伊，其當日送潘家鑫返回三重，約過一年後，才有邱信福告知峰磊公司欲找人頭等情相符，是依潘家鑫證言之及被告之陳述，堪認被告與程樹文、潘家鑫會面時間，應係峰磊公司於98年9月間辦理公司負責人變更登記前一年，且該日僅由被告與程樹文商討借款事宜，潘家鑫並未參與其二人討論，應堪認定。2.被告雖以上開辯詞辯稱：其有經潘家鑫同意云云。惟查，被告前於偵查時陳述「（問）你有無徵得潘家鑫同意，讓他知道要擔任負責人？（答）沒有。…」等語（北檢100偵2055卷第28頁）、「我簽名字時候他（潘家鑫）沒有當面授權，…。」等語（同卷第58頁），又於偵訊中坦承「（問）他（潘家鑫）知不知道是用公司負責人的方式辦貸款？（答）這部分是透過程先生跟他接觸的，所以我不確定他知不知道。」等語（板檢100偵23593卷第26頁），更於審理中承認於三人會面當天並未與潘家鑫講到擔任公司負責人之事（101年5月14日審判筆錄第9頁），參酌潘家鑫於偵審中所證稱之伊當時係要辦卡供自己使用、當日未聽聞要擔任負責人（板檢100偵23593卷第10至14頁；本院101年5月14日審判筆錄第14頁），已可確認被告未告知潘家鑫擔任公司負責人之事。則被告未得潘家鑫同意，擅以潘家鑫名義簽署本案偽造董事變更同意書一事，堪以認定。3.再以，被告雖辯稱：潘家鑫出名幫程樹文貸款、其於會面當日就潘家鑫掛名擔任公司人頭負責人製造信用紀錄之事與程樹文討論並取得程樹文同意云云（北檢100偵2005卷第57頁；本院101年4月13日準備程序筆錄第3頁、101年5月14日審判筆錄第15頁）。惟查，被告於偵查中已坦承「當天我們（被告、程樹文、潘家鑫）碰面時他（潘家鑫）親自把證件交給程董，由程董把他的證件交給我去辦理貸款，只是潘家鑫不知道貸款之流程。」等語（板檢100偵17453卷第16頁），而潘家鑫亦於審理中證述以：當日程樹文連絡伊前往「草莓牛奶」蛋糕店後，伊向程樹文表明欲辦理現金卡，待被告抵達該店後，程樹文要伊至店外等待，待二人於店內談論完後，程樹文稱已經處理完畢，且被告可送伊返回三重，伊不知悉程樹文與被告在店內談論何事，而伊係將證件影本交給程樹文，不知被告自程董取得伊交付之證件影本等語（本院101年5月14日審判筆錄第6、14頁，本院101年10月23日審判筆錄第4頁），是設若潘家鑫同意出名為程樹文擔任公司負責人貸款，則就貸款內容及掛名擔任公司人頭負責人之將來受有擔負債務內容及可能涉嫌違法受罰之重要事項，何以僅由被告與程樹文私下討論而將潘家鑫排除在外？且被告於送潘家鑫返回三重途中，豈未告知潘家鑫製作虛偽財力證明可能採取之方式？是被告上開所辯，顯然悖於事理，不足採信。而潘家鑫雖於當日自程樹文收受1萬元，惟依潘家鑫於偵查及審理中證稱之伊當時僅於金融機構開設帳戶領過金融卡，未辦過任何貸款或信用卡或現金卡，伊不知悉貸款或辦卡程序之對金融知識不懂之證言（板檢100偵23593卷第10至14頁；本院101年10月23日審判筆錄第4至6頁），斟酌潘家鑫當時24歲、國中畢業、畢業後於製麵包公司短暫工作後即失業，至今均由其母親供給生活費，其僅於工作期間因公司薪資入帳而申辦銀行帳戶及金融卡，其後即未與金融機構間有任何金融交易等情，有潘家鑫身分資料並經潘家鑫於審理中證述可佐（本院101年10月23日審判筆錄第3、5頁），堪認定潘家鑫於當時並無申辦現金卡之通常金融知識，確有可能誤將證件影本交付程樹文並收受該等金錢供急用，是尚難以潘家鑫自程樹文收受金錢之事實，即認潘家鑫有授權同意。4.至於，被告雖於偵查及審理中另辯稱：其以潘家鑫名義製作本案偽造董事變更同意書時，尚可聯絡到程樹文、潘家鑫，其先與程樹文取得聯絡，經程樹文告知可以潘家鑫名義辦理公司變更登記後，才製作該同意書，而嗣因無法聯絡上程樹文、潘家鑫，即要求邱信福不要再辦理云云（板檢100偵17453卷第15頁；本院101年5月14日審判筆錄第15頁）。然以，被告與程樹文、潘家鑫於97年間會面取得潘家鑫證件影本後，程樹文公司經營之「草莓牛奶蛋糕店」隨即於97年9月1日頂讓他人，該公司再於同年11月1日登記停業，至98年9月9日至16日始發生本案之被告偽作本案偽造董事變更同意書及將潘家鑫登記為峰磊公司負責人一事，此經證人即頂讓該店面之張盛良於審理中證述明確（本院101年7月30日審判筆錄第4至7頁），並有程樹文之草苺達人食品有限公司登記資料在卷可查（本院卷第56至57頁）。是自被告取得潘家鑫證件至以潘家鑫名義製作本案偽造董事變更同意書，時隔約一年，且程樹文公司亦早已結束營業，是難認被告於製作本案偽造董事變更同意書時曾與程樹文聯絡。又潘家鑫遭登記為峰磊公司負責人，係因被告提供翟亞崙資料供邱信福交陳怡靜辦理公司變更登記後，因翟亞崙不願出面配合辦理營業登記，被告才又提供潘家鑫替換翟亞崙，除據證人邱信福於偵查及審理中證述明確外（北檢100偵2005卷第29、60頁；本院101年5月14日審判筆錄第11、13頁），被告亦對其先後提供該二人身分資料供邱信福交陳怡靜辦理公司變更登記坦承不諱（北檢100偵2005卷第57至59頁；板檢100偵23593卷第26至27頁；本院101年4月13日準備程序筆錄第5頁，101年5月14日審判筆錄第9頁，101年10月23日審判筆錄第3頁），則其於翟亞崙因不願出面辦理營業變更登記後，即應知悉其所提供之人頭除出名為公司登記外尚需出面辦理營業變更登記，惟證人潘家鑫自交付證件後至本案案發接受偵查止，不曾接獲被告或程樹文聯絡要擔任負責人，更證稱於交付證件影本後過幾天，即被通知無法核卡，證件影本均未交還伊等語（板檢100偵23593卷第10頁），而證人邱信福更於審理中明確證稱：伊自被告取得翟亞崙變更為潘家鑫資料時，陳怡靜曾表示希望與潘家鑫確認，伊即與被告聯絡，惟被告均稱找不到潘家鑫，直至年初時，被告才告知不要辦理等語（101年5月14日審判筆錄第12至13頁），是如被告曾與潘家鑫或透過程樹文與潘家鑫為確認，並取得同意或授權，被告當會於無法覓得潘家鑫時，即時告知終止變更峰磊公司負責人登記之事，不致任令潘家鑫遭登記為峰磊公司負責人，是其就此部分之抗辯，亦難採認。5.依上事證，被告辯稱其以潘家鑫名義製作本案偽造董事變更同意書，係經潘家鑫授權同意云云，顯難採認。是被告偽造潘家鑫署押製作本案偽造董事變更同意書並進而交付為行使之犯行，應堪認定。(三)被告雖又辯稱：其於交付本案偽造董事變更同意書後，有通知邱信福勿繼續辦理公司變更登記，該變更登記並非其所為云云。然查：1.證人邱信福雖於審理中證稱：被告於交付潘家鑫證件及本案偽造董事變更同意書後，確有電話通知伊因無法找到潘家鑫，不要再辦理公司變更等記等語（101年5月14日審判筆錄第12至13頁），惟證人邱信福並同時證稱：被告通知時間為100年年初或在99年底等語（上開審判筆錄第12頁，101年7月30日審判筆錄第14頁），顯與被告辯稱：其通知時間係在98年底云云不符（101年5月14日審判筆錄第13頁）。又查，峰磊公司負責人變更為翟亞崙、潘家鑫之公司登記申辦暨完成日，分別係98年9月8日及同年月17日，均為提出申請日即完成登記，是本案就被告通知邱信福勿以潘家鑫資料辦理公司變更登記之時間，不論係被告所辯或係邱信福所證之時間，均與翟亞崙、潘家鑫登記為峰磊公司負責人之時間，至少相隔達半年，是被告於其交付本案偽造董事變更同意書後約半年始通知邱信福勿以潘家鑫資料辦理公司登記，顯然無任何防止結果發生之實際作用，亦即，就被告提供潘家鑫證件資料及本案偽造董事變更同意書供邱信福交陳怡靜辦理公司變更登記所涉之使公務員登載不實部分，需一天時間即可完成，依先前翟亞崙該次登記過程，其應已悉辦理公司變更登記之作業迅速性，是其如欲有效防止該登記結果發生，本即應於交付後，儘速向邱信福甚至陳怡靜為說明或追回該等資料，是被告既未於交付後之數日內即向邱信福表示勿以交付之潘家鑫資料辦理公司登記及追回該等交付資料，自難僅以被告於相隔半年後之告知而對被告為有利之認定。2.按行為人於90年11月12日修正公司法修正後辦理公司登記事項，如有明知為不實之事項，而使公務員登載於職務上所掌之公文書，足以生損害於公眾或他人者，即有刑法第214條之適用（最高法院96年度第5次刑事庭會議決議要旨參照）。公司負責人或董事變更登記，查屬公司登記事項之一，是將未實際出資而出名擔任登記股東、非經營公司目的而出名擔任董事等之與公司實際情形不符之公司登記事項，使公務員登載於公司登記上，自應構成使公務員登載不實之犯行（參見臺灣高等法院100年度上易字第1798號判決）。3.本案陳怡靜、邱信福就被告上開偽造潘家鑫署押偽造本案偽造董事變更同意書部分，雖經被告證稱邱信福、陳怡靜均不知悉該同意書上之簽名係其偽簽（北檢100偵2005卷第58、60），且陳怡靜行使偽造本案董事變更同意書部分犯嫌亦經檢察官為不起訴處分，有不起訴處分書為證（北檢100偵2005卷第74至75頁），惟以，本案陳怡靜係因峰磊公司受裁罰而欲脫免負責人責任並結束公司營業，故尋找人頭董事等情，業據陳怡靜於審理中證述明確（本院101年7月30日審判筆錄第9、12頁），是陳怡靜既欲結束該公司經營，本應辦理解散登記及停止營業，而竟透過邱信福尋找人頭掛名公司董事藉以承擔罰鍰，該人頭董事除實際上並未有任何股份出資外，所受讓股份僅屬形式上登記股份並未有公司實質產權內容，該人頭董事顯非以繼續經營公司為目的，僅係單純承擔陳怡靜罰責，而屬不實事項等情，顯為被告、邱信福、陳怡靜三人明知，是其三人就潘家鑫擔任人頭董事之使公務員登載不實部分，有犯意聯絡及行為分擔，而應構成共同正犯。起訴書以邱信福、陳怡靜因不知悉本案偽造董事變更同意書係被告偽造潘家鑫署押之偽造私文書，而認僅由被告構成此部分犯行之間接正犯，容有未洽。4.依上所述，被告以其有通知邱信福勿繼續以潘家鑫資料辦理公司變更登記云云，除難採認外，被告、邱信福、陳怡靜就其等以潘家鑫資料及本案偽造董事變更同意書為峰磊公司負責人變更登記，係共同構成使公務員登載不實犯行。(四)綜上事證，本案事證明確，被告犯行均洵堪認定，應依法論科。三、被告黃建誌有事實欄所示之犯行，已如前證，茲論其罪刑如下：(一)被告就其明知潘家鑫未同意擔任峰磊公司股東，而偽造潘家鑫署押以偽造峰磊實業有限公司股東同意書後，交邱信福轉交陳怡靜委請不知情代辦業者向經濟部中部辦公室申辦峰磊公司董事變更登記，核其此部分所為，係犯刑法第216條、第210條之行使偽造私文書罪；被告偽造署押之部分行為，均為其偽造私文書之全部行為所吸收，而其偽造私文書之低度行為，亦為行使之高度行為所吸收，均不另論罪。又被告明知潘家鑫並非峰磊公司股東，而偽造上開偽造「峰磊實業有限公司股東同意書」供陳怡靜持以申辦峰磊公司之董事變更登記，而使主管機關公務人員完成該登記，核其此部分所為，係犯刑法第214條之使公務員登載不實罪。被告就此部分之犯罪事實，與陳怡靜、邱信福有犯意聯絡與行為分擔，構成共同正犯。起訴書認被告就此部分係利用不知情之邱信福、陳怡靜構成間接正犯，容有未洽（參見理由欄二、(三)、3.所示）。至被告、邱信福、陳怡靜使不知情之公司代辦業者江桂珍、廖日隆、蕭育靜向經濟部中部辦公室行使，為行使偽造私文書、使公務員登載不實之間接正犯。被告就上開行使偽造私文書、共同使公務員登載不實二罪行為，均以將被告偽造之本案偽造董事變更同意書提出行使為基本要件，該二罪可認係一行為同時觸犯數罪名，應論以想像競合犯，從一重之行使偽造私文書罪為論處。(二)爰審酌被告雖因相同之偽造他人出任股東同意書供人為虛偽公司登記犯行而現在監執行（本院99年度簡字第6952號刑事簡易判決），惟該案犯行係於本案犯行之後（97年10月、同年12月間），而其於本案犯行前，未因犯罪而受有期徒刑宣告，有臺灣高等法院被告前案紀錄表在卷可查，雖其本案犯行前素行尚可，但其擅自偽造潘家鑫同意擔任峰磊公司董事使潘家鑫遭登記為公司董事並承受峰磊公司之行政裁罰，其所為仍屬非是，而應予適當處罰，茲斟酌其犯罪之動機、目的、手段、所生之危害、其犯後之態度等一切情狀，量處如主文所示之刑，並諭知易科罰金之折算標準，以示懲儆。(三)未扣案之被告偽造潘家鑫署押製作之本案偽造董事變更同意書，雖已因被告持以交付與陳怡靜供登記機關辦理登記用，而已非被告所有，惟該同意書上之該偽造「潘家鑫」署押一枚，依刑法第219條規定，不問屬於犯人與否，均應宣告沒收。至於，峰磊公司經濟部中部辦公室卷案內之負責人變更登記資料中之「潘家鑫」印文及所屬印章，查係不知被告為本案偽造董事變更同意書行使之江桂珍誤為有權而代刻印章並蓋用；且無證據證明被告知悉江桂珍代刻潘家鑫印章及蓋用印文之情，自不得就此潘家鑫印章、印文部分論處被告偽造印章、印文之罪責。據上論斷，應依刑事訴訟法第299條第1項前段，刑法第28條、第216條、第210條、第214條、第55條、第41條第1項前段、第219條，刑法施行法第1條之1第1項、第2項前段，判決如主文。本案經檢察官劉順寬到庭執行職務。中華民國101年11月12日刑事第四庭審判長法官高玉舜法官黎錦福法官陳世旻以上正本證明與原本無異如不服本判決應於送達後10日內向本院提出上訴狀書記官李逸翔中華民國101年11月21日附錄：本案論罪科刑法條全文中華民國刑法第210條（偽造變造私文書罪）偽造、變造私文書，足以生損害於公眾或他人者，處五年以下有期徒刑。第214條（使公務員登載不實罪）明知為不實之事項，而使公務員登載於職務上所掌之公文書，足以生損害於公眾或他人者，處三年以下有期徒刑、拘役或五百元以下罰金。第216條（行使偽造變造或登載不實之文書罪）行使第二百十條至第二百十五條之文書者，依偽造、變造文書或登載不實事項或使登載不實事項之規定處斷。第219條（沒收之特例）偽造之印章、印文或署押，不問屬於犯人與否，沒收之。中華民國刑法施行法(民國95年06月14日修正)第1-1條中華民國九十四年一月七日刑法修正施行後，刑法分則編所定罰金之貨幣單位為新臺幣。九十四年一月七日刑法修正時，刑法分則編未修正之條文定有罰金者，自九十四年一月七日刑法修正施行後，就其所定數額提高為三十倍。但七十二年六月二十六日至九十四年一月七日新增或修正之條文，就其所定數額提高為三倍。\n",
            "Article Index: 403 Distance: 0.2552516\n",
            "Article Text: 一林維聰係「璟維榮有限公司」（下稱璟維榮公司）之實際負責人，昇利旺公司為璟維榮公司天車、電鍍槽、堆高機、冷凍機等設備之登記抵押權人（該抵押債權係擔保林維聰與昇利旺公司代表人張標明共謀簽定內容不實之借款約定書，其2人涉犯偽造文書部分，分別經本院以97年度易字第1739號、98年度易緝字第358號刑事判決判處有期徒刑4月、拘役50日確定）。於民國96年間，璟維榮公司因營業陷於困頓，林維聰乃向林裕勳所屬之汶泰科技股份有限公司（下稱汶泰公司）央求挹注資金，由汶泰公司繼續經營，同時為避免璟維榮公司之債權人將來查封拍賣璟維榮公司之廠房及土地，使汶泰公司得以順利經營，林維聰遂於96年9月20日，在臺中市○○區○○路0○0號璟維榮公司2樓辦公室內代表璟維榮及昇利旺公司，與林裕勳所代表之汶泰公司簽訂（廠房）房屋設備租賃契約書【即告證三之契約書】，汶泰公司之副總經理林暉國則在場擔任見證人。後林維聰為掩飾昇利旺公司與璟維榮公司間虛偽之借款關係，竟與林信宗共同基於偽造私文書之犯意聯絡，於98年間之不詳時間，在不詳地點，共同偽造林暉國簽名之虛偽不實房屋租賃契約書【即告證五之契約書】。嗣林維聰於100年8月26日，在林暉國遭控告偽造「切結書」之偽造文書等案件偵查中（臺灣臺中地方法院檢察署100年度偵字第1258號），向承辦檢察官提出虛偽不實房屋租賃契約書作為證據而行使之，足以生損害於林暉國及檢察官對於事實認定之正確性。二案經林暉國委由林建軍律師訴由臺灣臺中地方法院檢察署檢察官偵查起訴。理由壹、證據能力方面一按被告以外之人於審判外之陳述雖不符刑事訴訟法第159條之1至第159條之4等4條之規定，而經當事人於審判程序同意作為證據，法院審酌該言詞陳述或書面陳述作成時之情況，認為適當者，亦得為證據。當事人、代理人或辯護人於法院調查證據時，知有刑事訴訟法第159條第1項不得為證據之情形，而未於言詞辯論終結前未聲明異議者，視為有前項之同意，刑事訴訟法第159條之5定有明文。查本判決以下所引用被告林維聰、林信宗以外之人於審判外之陳述，業經本院於審理期日踐行調查證據程序，檢察官及被告2人皆已當庭表示無意見，且迄至本院言詞辯論終結時均未聲明異議，本院審酌該等陳述之製作及取得，並無證據顯示有何違背程序規定而欠缺適當性之情事，認以之為證據應屬適當，具有證據能力。二次按除法律另有規定外，實施刑事訴訟程式之公務員因違背法定程式取得之證據，其有無證據能力之認定，應審酌人權保障及公共利益之均衡維護，刑事訴訟法第158條之4定有明文。查本案以下所引用之非供述證據，經本院於審理中提示並告以要旨而為調查時，檢察官及被告2人均未表示無證據能力，本院審酌該等證據作成及取得之程式均無違法之處，依上開規定之反面解釋，亦應認均有證據能力，合先敘明。貳、實體方面一訊據被告林維聰、林信宗均矢口否認有何偽造告證五契約書之犯行，被告林維聰辯稱：告證五契約書是林信宗拿給伊，契約書上「法代林信宗、林維聰」是林信宗寫的，林信宗說他是被林裕勳在工廠工作時逼著寫的，在伊告汶泰公司霸佔璟維榮公司時，林信宗拿給伊作證據用的云云；被告林信宗辯稱：告證三契約書不是伊的筆跡，伊不知道是誰寫的，告證五契約書是汶泰公司老闆林裕勳在工廠內叫伊簽的，伊在該契約書上簽自己及林維聰的名字，林裕勳說伊不簽就不要做了，其他字跡伊不知道是誰的云云。經查：(一)告證三之契約書乃被告林維聰代表璟維榮公司、昇利旺公司於96年9月20日，在臺中市○○區○○路0○0號璟維榮公司2樓辦公室內，與林裕勳所屬之汶泰公司簽訂，由告訴人擔任汶泰公司連帶保證人；而告證五之契約書係被告林維聰於100年8月26日，在臺灣臺中地方法院檢察署100年度偵字第1258號對林暉國提告偽造文書等案件偵查忠向檢察官提出等情，業據被告林維聰於本院審理坦認屬實，核與告訴人指訴：其僅在告證三契約書上簽名、未在告證五契約書上簽名等語（見本院卷第77頁以下、見交查字卷第4至5頁）、證人簡錫清於偵查中證述：告證三的契約書封面、契約內容手寫文字都是伊寫的，最後立契約書上的字跡都是本人自己寫的，包括林暉國、林裕勳，璟維榮有派人來簽名及蓋章，伊不知道是誰，當時林維聰也有在場，知道這份契約，因為林維聰當時負債累累，簽了這份契約可以退到幕後，不再經營。伊不知道告證五的契約書是誰簽的等語（見交查字卷第79至82頁）、證人夏清賢於偵查中證述：告證三契約書是96年9月20日在璟維榮公司梧棲區工廠內簽署的，簽約時，在場人有林暉國、林維聰、伊、林裕勳、簡錫清。因為林維聰的工廠對外欠很多錢，找伊去對外募集資金來投資他，所以伊找林裕勳、林暉國，林裕勳、林暉國拿出好幾百萬來投資，怕沒有保障，所以要求林維聰簽這份契約書以取得經營璟維榮廠房的實質經營權利。伊對告證五之契約書沒有印象等語（見交查字卷第89至92頁）相符，並有告證三及告證五之房屋租賃契約書附卷可稽（見他字卷第12至19、22至29頁），此情應堪認定。(二)被告林信宗雖否認有冒用告訴人之名義在告證五之契約書上簽名。惟被告林信宗對該契約書上「林維聰」、「林信宗」之名字係其所簽已坦承不諱（見本院卷第46頁），可知被告林信宗確有參與告證五契約書之作成。被告林信宗復辯稱該契約書係林裕勳逼伊簽名，伊簽完名後已把契約書交給林裕勳，事後有將此事告訴林維聰云云。惟在另案提出告證五契約書之被告林維聰供稱該契約書係由被告林信宗交付伊等語（見本院卷第22頁），被告林信宗對此並不否認，則該契約書事後何以又回到被告林信宗手上？實在令人匪夷所思。再者，告證三之契約書簽署時為一式三份，分別由告訴人、林裕勳及被告林維聰保管，業據告訴人於本院審理中證述明確（見本院卷第80頁），目前告訴人仍保有告證三之契約書，並於偵查中提出作為本件告訴被告2人偽造文書之證據，至於林裕勳有無保存該契約依卷內資料雖無法判斷，但以告訴人及林裕勳為事業上之夥伴關係，縱使林裕勳未保存該份契約，亦可請求告訴人提供，要難想像林裕勳有何偽造告證五契約書之動機。另比對告證三與告證五兩份契約書，告證三契約書之租賃期間係96年9月20日至101年9月19日，出租人為璟維榮公司、昇利旺公司、承租人汶泰公司，後附租金領收表未蓋有收訖章；告證五契約書租賃期間則係96年6月1日至101年5月31日，出租人為璟維榮公司、承租人為汶泰公司，後附租金領收表上蓋有林維聰之印章。稽之告訴人林暉國於本院審理中證稱：伊是告證三契約書見證人，96年6月1日那個時間應該是林裕勳、林維聰雙方開始接洽合作事宜的時間，當時好像還沒有入主，伊是到96年8月底才透過朋友認識林裕勳，他表示他經營一間公司，剛好當時伊沒工作。96年9月初林裕勳才邀伊去看工廠，所以他們之前的事情伊根本完全不知道等語（見本院卷第79頁反面）。足見告訴人與林裕勳在96年8月以前並不認識，林裕勳自不可能偽造林暉國在場、租賃期限自96年6月1日起算之契約書。且告訴人及被告林維聰均表示汶泰公司承租璟維榮公司之廠房未實際支付現金（見本院卷第81、88頁），汶泰公司未支付租金乙事已非常明確，林裕勳亦無大費周章盜刻林維聰印章及偽造其印文製作告證五所附不實租金領收表之理由。此外，告證三之契約書簽訂之時，屬於璟維榮公司所有之天車、電鍍槽、堆高機、冷凍等設備已設定動產抵押權1800萬元給昇利旺公司，並向經濟部工業局申請登記，經該局於96年8月9日以工中字第00000000000號函知以工（中）動字第091672號登記在案，有臺灣高等法院臺中分院102年度上訴字第98號刑事判決存卷足參（見本院卷第49至58頁），則告證三之契約書列璟維榮公司及昇利旺公司為璟維榮公司廠房及設備之共同出租人，亦可拘束昇利旺公司，對汶泰公司自屬有利，林裕勳豈有可能在偽造告證五契約書時，漏列昇利旺公司之理？凡此均無法合理解釋林裕勳偽造如告證五契約書所示內容之動機及理由。而被告林信宗就其如何從林裕勳取得告證五契約書、林裕勳為何要其在告證五契約書上簽名等節均語焉不詳，無法自圓其說，其辯稱林裕勳逼伊在告證五契約書上簽名後即取回云云，顯然不實。故告證五契約書上「林暉國」之簽名應與林裕勳無關，而係被告林信宗所偽造無誤。(三)被告林維聰固否認有與林信宗共同偽造告證五之契約書及行使偽造私文書之事實。然被告林維聰供承：告證三契約書是林裕勳拿出來的，伊在上面簽名，簡錫清、夏清賢也有在上面簽名，伊記得只有簽那一次而已。伊弟弟拿告證五給伊的時候，伊覺得很奇怪等語（見本院卷第22頁），則被告林維聰既有參與告證三契約書之簽訂過程並為出租人即璟維榮公司、昇利旺公司之代表人，其對告證五之契約書係屬偽造，斷無不知情之理，猶於另案控告林暉國等人侵占璟維榮公司之案件中向檢察官提出，其有行使該偽造私文書之主觀犯意及客觀犯行，乃至為明確。(四)又被告林信宗供承告證五之契約書係其在98年間簽署（見本院卷第87頁反面），而告證三之契約書係在96年9月間簽署，可知告證五契約書製作之時間點係在告證三契約書簽訂之後，告證五契約書應係仿照告證三契約書所製作。參以告證三契約書上欠缺被告林信宗之簽名，被告林信宗於告證三契約書簽訂時亦不在場，其不可能知悉告證三契約書之內容而獨自完成告證五之契約，佐以被告林信宗在完成告證五契約書後有交付被告林維聰而為被告林維聰所用，足可推論告證五之契約書乃被告林維聰提供有關告證三契約書之相關資訊，指示被告林信宗簽名，與被告林信宗共同完成告證五契約書，是以告證五契約書上「林暉國」之簽名係由被告林維宗與林信宗共同偽造，亦堪以認定。(五)從而，本件事證明確，被告2人之犯行均堪以認定，應依法論科。至於被告林維聰另請求傳訊證人林裕勳。惟證人林裕勳經本院合法傳喚並未到庭，有送達證書在卷可憑（見本院卷第73頁），被告林維聰復陳稱伊有好幾年沒有看過證人林裕勳，2年前執行完畢釋放後已不知去向等語（見本院卷第22頁反面），是依目前之情況，證人林裕勳即無調查之可能，併此敘明。二論罪科刑部分：(一)核被告林維聰所為，係犯刑法第216條、第210條之行使偽造私文書罪；被告林信宗所為，係犯刑法第210條之偽造私文書罪。(二)被告林維聰偽造私文書後復持以行使，偽造之低度行為應為行使之高度行為所吸收，不另論罪。(三)被告林維聰與林信宗2人間就偽造私文書罪，有犯意聯絡及行為分擔，為共同正犯。(四)爰審酌被告林維聰、林信宗擅自在告證五契約書上偽造告訴人之簽名，被告林維聰於另案偵查中並向檢察官提出行使，罔顧告訴人權益，同時對檢察官認定事實產生不正確之影響，所為殊不足取，犯後復均否認犯行，未見悔意，難認犯後態度良好；惟告訴人於本院審理中已表示願意原諒被告林信宗（但不願意原諒被告林維聰）；並考量被告林維聰有偽造文書之前科（未構成累犯，見臺灣高等法院被告前案紀錄表），素行不佳，於本件犯罪係居於主謀地位，曾提出偽造不實之契約書，被告林信宗無刑事犯罪之前科紀錄，素行良好，於本件係配合被告林維聰偽造文書；兼衡被告林維聰、林信宗均為高職畢業之智識程度（見個人戶籍資料查詢結果）等一切情狀，各量處如主文所示之刑，並均諭知易科罰金之折算標準。(五)告證五之廠房及設備租賃契約書上偽造「林暉國」之署押1枚，應依刑法第219條之規定予以宣告沒收。據上論斷，應依刑事訴訟法第299條第1項前段，刑法第28條、第216條、第210條、第41條第1項前段、第219條，判決如主文。本案經檢察官郭明嵐到庭執行職務中華民國103年4月17日刑事第十七庭審判長法官李秋娟法官蕭一弘法官林筱涵以上正本證明與原本無異。如不服本判決應於收受送達後10日內向本院提出上訴書狀，並應敘述具體理由；其未敘述上訴理由者，應於上訴期間屆滿後20日內向本院補提理由書（均須按他造當事人之人數附繕本）「切勿逕送上級法院」。告訴人或被害人對於判決如有不服具備理由請求檢察官上訴者，其上訴期間之計算係以檢察官收受判決正本之日期為準。書記官洪千羽中華民國103年4月17日附錄論罪科刑法條：中華民國刑法第210條（偽造變造私文書罪）偽造、變造私文書，足以生損害於公眾或他人者，處5年以下有期徒刑。中華民國刑法第216條（行使偽造變造或登載不實之文書罪）行使第210條至第215條之文書者，依偽造、變造文書或登載不實事項或使登載不實事項之規定處斷。\n",
            "Article Index: 415 Distance: 0.26113635\n",
            "Article Text: 一、緣陳榮煉於民國106年7月間，借用李美娟之名義，以分期付款方式購入車牌號碼000-0000號自小客車後，僅繳納16期分期價金後，即因經濟困難而無力繳清餘款，而導致李美娟屢遭銀行催繳遲延價金（所涉詐欺罪嫌另由檢察官為不起訴處分），李美娟遂要求陳榮煉儘速將車輛讓渡，且不得再以其名義及該車輛借款。嗣陳榮煉復欲向第三人借款新臺幣(下同)14萬元，竟未得李美娟同意，基於偽造文書之犯意，於106年12月20日某時，在不詳地點偽造「李美娟」之署名1枚填載於「讓渡證書」之「立讓渡書人」欄位上，連同行車執照及本票2紙交由該第三人後行使之以作為其借款擔保，足以生損害於李美娟之權益。二、案經李美娟訴請臺灣嘉義地方檢察署檢察官偵查起訴。理由壹、程序部分：一、檢察官及被告陳榮煉對於下述本院採為認定犯罪事實依據之各項傳聞證據之證據能力，均表示同意有證據能力（見本院卷第31頁、第47頁、第48頁），另於言詞辯論終結前，除經同意有證據能力之證據外，對於卷附各傳聞證據之證據能力，均未聲明異議，復經本院於審理時逐一提示予被告表示意見，本院審酌該等證據之取得過程並無瑕疵，與本案待證事實間復具有相當之關聯性，以之為本案證據並無不當，依刑事訴訟法第159條之5規定自得採為本件認定事實之基礎。二、另其餘本判決所採之非供述證據亦均經法定程序取得，無不得為證據之情形，自均有證據能力。貳、實體部分：一、訊據被告陳榮煉固坦承因欲向案外人林采晴借款，在未經證人李美娟同意就以證人李美娟的名義簽立讓渡書，並將讓渡書交給案外人林采晴，讓渡書是案外人林采晴要求的，我當時是認為自己如果有還錢後這個讓渡書就無效，而且是證人李美娟一直說要叫我將車處理，所以我就簽了該讓渡書，我認為沒有造成損害等語（見本院卷第31頁、第32頁）。經查：(一)被告陳榮煉確未徵得證人李美娟同意即偽造「李美娟」之署名1枚填載於「讓渡證書」之「立讓渡書人」欄位，並將讓渡書作為向案外人林采晴借款之擔保一情，業據被告坦承不諱，核與證人即告訴人李美娟於偵查中以書面及本院證稱相符（見他字卷第58頁，本院卷第46頁），此外復有讓渡書1紙在卷可稽（見他字卷第101頁、第102頁），此部分事實應可認定。(二)又刑法上偽造文書罪之成立，以足生損害於公眾或他人為特別要件，所謂足生損害，固不以實已發生損害為必要，有足以生損害之虞者，亦足當之（最高法院84年度台上字第2068號判決意旨參照）。被告陳榮煉明知證人李美娟並無同意讓渡車牌號碼000-0000號車輛與案外人林采晴，竟以證人李美娟之名義簽立讓渡書，雖該讓渡書僅為借款之擔保，然已使證人李美娟名下之車輛陷於遭移轉之風險及於被告未能依約還款時，證人李美娟有遭案外人林采晴追償之風險，難謂無足生損害之情。(三)至被告辯稱係證人李美娟一直要其處理車子，才會簽本件讓渡書等語。然自告訴人所提供之二人簡訊對話觀之（見他字卷第79頁至第84頁），被告一直要求證人李美娟以該車輛替其向各大當鋪借款，證人李美娟均表明不願意，並要求將車輛儘速交還，亦提及之前被告也有以機車貸款要求其擔任保證人，被告亦將之私下過戶給別人一情，可知證人李美娟並不同意被告以其名義及名下車輛與他人借款，自不會於本件同意被告以其名義簽立讓渡書作為擔保，是被告所辯尚難採信。(四)綜上，被告本件犯行洵堪認定，應依法論科。二、核被告所為係犯刑法第216條、第210條行使偽造私文書罪。被告偽簽「李美娟」之署名，屬偽造私文書之階段行為，而偽造私文書行為則屬行使偽造私文書之低度行為，均為行使之高度行為所吸收，不另論罪。又被告前因公共危險案件，經本院以105年度嘉交簡字第277號判決判處有期徒刑2月；因過失傷害案件，經本院以105年度嘉交簡字第1072號判決判處有期徒刑4月，上開二案經本院以106年度聲字第133號裁定應執行有期徒刑5月，於106年3月2日易科罰金執行完畢一情，此有臺灣高等法院被告前案紀錄表在卷可稽，其於徒刑執行完畢5年內，故意再犯本件有期徒刑以上之罪，為累犯，應依刑法第47條第1項規定加重其刑。三、爰依被告陳述、臺灣高等法院被告前案紀錄表、個人戶籍資料查詢結果（見本院卷第9頁至第15頁、第52頁）審酌：被告高職畢業，已婚無子、平時與家人同住、現從事房地產、家境不好之生活狀況、前無同類型前科之素行。被告與告訴人為朋友關係，被告為取得案外人林采晴借款之動機目的，竟未先得證人李美娟同意，而偽簽「李美娟」之署名而偽造讓渡書之手段，導致證人李美娟之信用損害、迄今尚未與證人李美娟達成和解等一切情狀，量處如主文所示之刑，併諭知易科罰金之折算標準。四、按被告偽造、變造等文書，既已交付於被害人收受，則該物非屬被告所有，除偽造書類上偽造之印文、署押，應依刑法第219條予以沒收外，依同法第38條第3項之規定，即不得再對各該書類諭知沒收（最高法院43年臺上字第747號判例意旨參照）。查被告所行使偽造讓渡書1份已交由案外人林采晴收執等情，業據被告自承在卷，是未扣案之讓渡證書上之「立讓渡書人」欄之「李美娟」署名1枚，應依刑法第219條規定宣告沒收，而讓渡證書本身無庸沒收。五、另起訴意旨認讓渡證書上另有偽造李美娟之署名1枚，而認被告此部分行為亦涉犯刑法第217條第1項偽造署押犯嫌。然按刑法上偽造私文書，並不以偽造署押為前提，而所謂署押係指在物體上署名或簽押，用以證明一定之意思表示，或一定之事實者而言，如僅書寫姓名以資識別，且亦非表示本人簽名之意思者，則不生署押之問題。（最高法院102年度台上字第3878號意旨參照）。查：本件讓渡證書上「立讓渡書人李美娟今將自己....」之「李美娟」署名部分，僅係書寫名字以資識別，並非用以證明一定意思之意，而不生署押之效力。惟因起訴意旨認此部分若屬有罪，與前開本院判決有罪之行使偽造私文書部分應有接續犯之裁判上一罪關係，爰不另為無罪之諭知。據上論斷，應依刑事訴訟法第299條第1項前段，刑法第216條、第210條、第219條、第47條第1項前段、第41條第1項前段，判決如主文。本案經檢察官陳則銘起訴、檢察官吳明駿到庭執行職務。中華民國108年1月18日刑事第三庭審判長法官吳育霖法官張佐榕法官謝其達以上正本證明與原本無異。如不服本判決應於收受判決後10日內向本院提出上訴書狀，並應敘述具體理由；其未敘述上訴理由者，應於上訴期間屆滿後20日內向本院補提理由書（均須按他造當事人之人數附繕本）「切勿逕送上級法院」。告訴人或被害人如對於本判決不服者，應具備理由請求檢察官上訴，其上訴期間之計算係以檢察官收受判決正本之日期為準。中華民國108年1月18日書記官林芷瑜附錄論罪科刑法條：中華民國刑法第216條（行使偽造變造或登載不實之文書罪）行使第210條至第215條之文書者，依偽造、變造文書或登載不實事項或使登載不實事項之規定處斷。中華民國刑法第210條（偽造變造私文書罪）偽造、變造私文書，足以生損害於公眾或他人者，處5年以下有期徒刑。\n",
            "Article Index: 424 Distance: 0.2616095\n",
            "Article Text: 一、鄭盛仁、賴俊利分別與如附表一編號11、13、14所示之行為人共同基於意圖為自己及他人不法所有之詐欺取財、行使偽造公文書及冒充公務員僭行其職權等犯意聯絡，先由陳彥宇、王鳴煌、臧俊誠或其他詐騙集團成員，在中國大陸地區以電話聯繫如附表一編號11、13、14所示之被害人，並先後冒稱地方法院檢察署檢察官或司法警察佯稱其等涉嫌洗錢要凍結帳戶云云，詐騙如附表一編號11、13、14所示之被害人，並出示偽造如附表所示之檢察署傳票、監管科函以及歸案證明書等文件，致鄭新作等人陷於錯誤，交付如附表一編號11至14所示之財物，得手後則為如附表一編號11至14所示之處置。詳細犯罪事實均如附表一編號11至14所載。二、案經臺東縣警察局移送及高雄市政府警察局小港分局報請臺灣高雄地方法院檢察署呈請臺灣高等法院檢察署檢察長令轉暨臺灣臺東地方法院檢察署檢察官偵查起訴及追加起訴暨臺灣高雄地方法院檢察署檢察官移送併辦。理由壹、程序事項一、檢察官之上訴是否合法？(一)按上訴期間為十日，自送達判決後起算；對於檢察官之送達，應向承辦檢察官為之；承辦檢察官不在辦公處所時，向首席檢察官（檢察長）為之，刑事訴訟法第349條前段、第58條定有明文。因此對檢察官送達判決書，應於辦公處所向承辦檢察官為之，如承辦檢察官因公執行職務不在辦公處所，或差假不在辦公處所，或有其他不能收受送達文書之障礙事由存在時，則應即向檢察長為之；倘非前揭原因，且得在辦公處所會晤承辦檢察官者，因檢察官客觀上已可收受該應受送達之文書，猶不加收受，即應認其送達已經合法。(二)經查本件第一審判決書送達給檢察官之送達證書（見第一審卷二第218頁），其送達時間為101年9月13日，檢察官簽收時間亦為101年9月13日。檢察官於收受判決後，於101年9月21日向臺灣臺東地方法院提起上訴，有檢察署函為證（本院上訴審卷一第12頁）。檢察官提起上訴，尚在上訴期間內，其上訴自屬合法。(三)至於檢察官送達證書左下方記載「列印日期101年9月3日」係指地方法院錄事人員印製本件送達證書之日期。送達證書欄位上附記「101年9月13日送達」，係地方法院依照「司法院辦理刑事審判記錄業務注意事項」第173項「裁判正本之送達(十一)對於告訴人或被害人之送達，應注意事項」之規定辦理。至於左下方「101年9月4日」為地方法院法警室收受應送達書類之日期，收受後，再由當月負責送達檢察官之法警人員依照送達證書欄位記載之日期將應送達之書類送達檢察官。此有臺灣臺東地方法院覆函附卷可稽（本院卷第113頁以下）。核其函覆內容，可知送達證書由於必須透過電腦先行列印，導致列印證書之時間早於實際送達時間。又由於對於檢察官之送達，法院為節省公帑，均由法院法警同仁送達，然為提醒應為送達時間，以確保告訴人、被害人請求檢察官上訴之權益，因而於送達證書記載提醒法警同仁送達日期，亦屬作業上必要之舉。凡此足見，本件送達檢察官之日期確實與送達證書所記載收受判決書日期相符。(四)綜上所述，本件檢察官上訴並未逾期。被告雖再聲請傳喚當初辦理送達事務之書記官以及法警，已無必要，應予駁回。二、審理範圍(一)檢察官起訴被告鄭盛仁、賴俊利為陳彥宇詐欺犯罪集團成員，涉有詐欺犯行共計14件，即起訴書附表編號33至46犯行。第一審法院認定被告二人確實有參與詐欺犯行，但其中起訴書附表編號44部分與編號43部分屬於接續犯關係，因此認定被告二人之犯行共計13件，即原審判決附表壹編號1至14部分犯行，其中編號12與編號11之犯行為接續犯，賴俊利另犯有偽造特種文書罪。原審法院據此分別判處徒刑，並定應執行刑，鄭盛仁應執行有期徒刑2年4月，賴俊利應執行2年6月（含偽造特種文書罪2罪）。檢察官以原審量刑過輕，且認為原判決附表壹編號12與編號11犯行時間不同，並非接續犯為理由提起上訴。(二)本院上訴審審理後，認定被告二人所犯罪刑確實共計13件，但改判處被告鄭盛仁應執行有期徒刑5年6月，賴俊利應執行有期徒刑5年10月（含偽造特種文書罪部分）。被告二人全部上訴。其中本院上訴審附表一編號1至10部分，經本院以不得上訴為理由，駁回上訴，經確定後送執行，有裁定書以及本院函附卷可稽（本院上訴審卷二第132頁、最高法院卷第77頁）。因此最高法院僅發回被告二人所犯本院上訴審判決附表一編號11、13、14部分，至於賴俊利所犯特種文書罪部分駁回上訴。由於最高法院於本次僅發回附表編號11、13、14部分，本院僅得就最高法院發回部分審理。另外本院上訴審判決附表一編號12部分，因與編號13部分為接續犯之裁判上一罪關係，本院應一併審理。因此本院就本案審理之範圍為第一審判決附表壹編號11至14部分犯行。貳、事實認定之理由一、關於附表一編號11、12被害人鄭新作部分：(一)、此部分犯罪事實，業據被告鄭盛仁、賴俊利迭於警詢、偵查、第一審以及本院上訴審自白在卷（偵查卷二第127、336、340～342頁，第一審卷一第117、365頁反面、373頁、第一審卷二第160頁反面、161頁反面，本院上訴審卷一第98、205頁反面、本院上訴審卷二第20頁反面）。於本院審理中亦坦承犯行（本院卷第172頁以下）。(二)、又證人即被害人鄭新作於警詢及本院上訴審審理中證述被害過程甚明（見臺東縣警察局東警刑偵二字第00955號卷第750～751、759～761頁；本院上訴審卷一第201頁反面～204頁）。(三)、並有鄭新作名下臺灣銀行活期儲蓄存款明細、匯款回條聯1紙、郵政跨行匯款申請書1紙、臺灣台中地方法院檢察署傳票1紙、臺中地方法院檢察署監管科1紙、臺灣台中地方法院被告歸案證明書1紙、臺中地方法院監管科1紙、鄭新作帳戶提領影像9張（見臺東縣警察局東警刑偵二字00955號卷第752～758、182～186、248～252頁）可佐，足見被告鄭盛仁、賴俊利此部分之自白與事實相符，此部分事證明確，犯行均堪以認定。二、關於附表一編號13被害人徐秀英部分：(一)、此部分犯罪事實，業據被告鄭盛仁、賴俊利迭於警詢、偵查、第一審及本院上訴審審理中坦承不諱（見臺東縣警察局東警刑偵二字第00955號卷第126～127頁，東檢100年度偵字第2438號偵查卷二第126、342頁，第一審卷一第117、365頁反面、373頁、第一審卷二第160頁反面、161頁反面，本院上訴審卷一第98、205頁反面、本院上訴審卷二第20頁反面）。於本院審理中亦坦承犯行（本院卷第172頁以下）。(二)、又證人即被害人徐秀英於警詢中證述被害過程甚明（見臺東縣警察局東警刑偵二字第00955號卷第769～771頁）。(三)、並有徐秀英所有之存摺、金融卡、便條紙（內載被害人住址資料）扣案可證（便條紙影本部分參東檢100年度偵字第2438號偵查卷二第121頁），復有刑事案件報案申請書1紙（見臺東縣警察局東警刑偵二字第00955號卷第165頁）及中華郵政股份有限公司100年11月22日儲字第0000000000號函附郵局帳戶之交易清單在卷（見東檢100年度偵字第2438號卷三第217～229頁）可佐，足見被告鄭盛仁、賴俊利此部分之自白與事實相符，此部分事證明確，犯行均堪以認定。三、關於附表一編號14被害人車岫君部分：(一)、此部分犯罪事實，業據被告鄭盛仁、賴俊利迭於第一審及本院上訴審審理中坦承不諱（見第一審卷一第117、365頁反面、373頁、第一審卷二第160頁反面、161頁反面，本院上訴審卷一第98、205頁反面、本院上訴審卷二第20頁反面）。於本院審理中亦坦承犯行（本院卷第172頁以下）。(二)、又據證人即被害人車岫君於警詢中證述被害過程甚明（見東檢100年度偵字第2438號卷三第106～108頁）。(三)、並有內政部警政署刑事警察局99年12月3日刑紋字第0000000000號鑑定書（偽造公文上所採得之指紋與該局檔存被告賴俊利右拇指指紋相符）、臺灣臺中地方法院檢察署傳票（檢察官顏偉哲）、臺中地方法院檢察署監管科（檢察官顏偉哲）、臺灣臺中地方法院歸案證明書等偽造公文各1紙以及信義分局福德街派出所陳報單、受理各類案件紀錄表、受理刑事案件報案三聯單、匯款單影本、內政部警政署反詐騙案件紀錄表在卷可徵（見東檢100年度偵字第2438號卷三第112～113、114頁反面～115頁反面、119頁反面～122頁反面），足見被告鄭盛仁、賴俊利此部分之自白與事實相符，此部分事證明確，犯行堪以認定。參、論罪科刑一、核被告鄭盛仁、賴俊利所犯如附表一編號11、13、14之罪，係構成刑法第211條、第216條行使偽造公文書罪、同法第158條第1項之僭行公務員職權罪、同法第339條第1項之詐欺取財罪、刑法第339條之2以不正方法由自動付款設備取得他人之物罪。被告所犯偽造印文、署名係偽造公文書之部分行為，偽造公文書後復持以行使，偽造之低度行為，應為行使之高度行為所吸收，均不另論罪。另附表一編號12之行為係編號11之接續行為，不另論罪，詳如後述。二、被告鄭盛仁、賴俊利於如附表一編號11、12所示時、地，陸續詐騙取得被害人鄭新作50萬元現金、郵局存摺1本、金融卡（含密碼）、200萬元，進而多次提領被害人鄭新作臺灣銀行帳戶200萬元等財物。而且依據被害人鄭新作證述（本院上訴審卷一第201頁背面以下）遭詐騙之經過，被告等人於100年4月14日打電話給被害人，告稱涉及洗錢，帳戶必須被凍結，100年4月21日被告等人與被害人見面後，要求交付50萬元現金以及臺灣銀行之提款卡，隨後被告再於100年4月27日要求被害人將郵局之存款轉回臺灣銀行帳戶，顯見被告等人係準備以提款卡提領存款，自屬接續為同一詐欺取財之犯行。而且被害人於100年4月14日從臺灣銀行的帳戶提領500,000元，隨即再於100年4月15日提領2,000,000元，有臺灣銀行存摺影本以及提款單附卷可證（臺東縣警察局卷第752頁）。顯見被告犯行，均係以一單一之犯意接續為之，自可包括評價認為一接續行為，僅論以一詐欺取財之罪，檢察官起訴意旨及上訴意旨均認此部分係構成數罪，容有未洽。三、按公文書係指公務員職務上製作之文書，刑法第10條第3項定有明文，又刑法上偽造文書罪，係著重於保護公共信用之法益，即使該偽造文書所載名義製作人實無其人，而社會上一般人仍有誤信其為真正文書之危險，仍難阻卻犯罪之成立，況行為人所偽造之機關現仍存在，其足生損害於該機關及被害人了無疑義（最高法院54年台上字第1404號判例）。另將偽造之文書複印、影印或傳真，與抄寫或繕打不同，其於吾人實際生活上可替代原本之使用，被認為具有與原本相同之信用性，故在一般情況下可予以通用，應認其為與原本作成名義人直接所表示意思之文書無異，自得為犯刑法上偽造文書罪之客體（最高法院75年台上字第5498號判例）。次按所謂行使偽造之文書，乃依文書之用法，以之充作真正文書而加以使用之意，故必須行為人就所偽造文書之內容向他方有所主張，始足當之，若行為人雖已將該文書提出，而尚未達於他方可得瞭解之狀態者，則仍不得謂為行使之既遂。又刑法第211條之偽造公文書罪，以足生損害於公眾或他人為成立要件，故同法第216條之行使偽造公文書罪，必其所行使之公文書，具備偽造並足生損害於公眾或他人之構成要件，始得以成立（最高法院72年台上字第4709號判例、85年台上字第4204號判決意旨可參）。查被告鄭盛仁、賴俊利如附表一編號11、13、14所示分別係以「臺灣臺中地方法院檢察署」之名義所製作之傳票、以「臺中地方法院檢察署監管科」、「臺中地方法院監管科」、「臺灣台中地方法院」名義所製作之被告歸案證明書，各該地方法院檢察署實際上雖未設「監管科」之單位，然一般人苟非熟稔法院或檢察系統組織，殊不足以分辨該監管單位是否確實存在，而仍有誤信上開偽造傳真函文即為公務員職務上所製作之真正文書之危險。揆諸前揭說明，足認上開偽造傳真函文均為偽造之公文書。又被告鄭盛仁、賴俊利等人明知渠等均不具檢察官、書記官等公務員之身分，猶先後持如附表一編號11、13、14所示之偽造公文書行使之，自足以生損害於臺灣臺中地方法院檢察署、臺灣臺中地方法院對其等職務執行管理之正確性及在各該偽造公文書署名之「林俊杰」、「黃健銘」、「顏偉哲」等人。四、按共同正犯之意思聯絡，不限於事前有所協議，其於行為當時，基於相互之認識，以共同犯罪之意思參與者，亦無礙於共同正犯之成立；又按共同正犯之成立，祇須具有犯意之聯絡及行為之分擔，既不問犯罪動機起於何人，亦不必每一階段犯行，均須參與，若共同實施犯罪行為之人，在共同意思範圍內，各自分擔犯罪行為之一部，相互利用他人之行為，以達其犯罪之目的，其成立不以全體均參與實施犯罪構成要件之行為為要件；參與犯罪構成要件之行為者，固為共同正犯；以自己共同犯罪之意思，參與犯罪構成要件以外之行為，或以自己共同犯罪之意思，事前同謀，而由其中一部分人實行犯罪之行為者，亦均應認為共同正犯，使之對於全部行為所發生之結果，負其責任；另共同正犯之意思聯絡，原不以數人間直接發生者為限，若有間接之聯絡者，亦包括在內，如甲分別邀約乙、丙犯罪，雖乙、丙間彼此並無直接之聯絡，亦無礙於其為共同正犯之成立（參照最高法院73年台上字第1886號判例、92年台上字第2824號判決、34年上字第862號判例、77年台上字第2135號判例意旨）。次按，犯罪之行為，係指發生刑法效果之意思活動而言；自其發展過程觀之，乃先有動機，而後決定犯意，進而預備、著手及實行。次按犯罪型態有一人單獨為之者，有二人以上為之者；依行為時刑法第28條規定「二人以上共同實施犯罪之行為者，皆為正犯。」其參與犯罪構成要件之行為者，固為共同正犯；至於以自己共同犯罪之意思，事先同謀，而由其中一部分人實施犯罪之行為者，亦為共同正犯，對於全部行為所發生之結果，亦同負責任（司法院釋字第109號解釋理由參照），此即學理所稱之「共謀共同正犯」。又94年2月2日修正公布，自95年7月1日起施行之刑法第28條雖將「實施」修正為「實行」，排除「陰謀共同正犯」與「預備共同正犯」，但仍無礙於「共謀共同正犯」之存在。故參與共謀者，其共謀行為，應屬犯罪行為中之一個階段行為，而與其他行為人之著手、實行行為整體地形成一個犯罪行為（最高法院96年度臺上字第1271號判決意旨參照）。又電話詐騙之犯罪型態，自架設電話，至假冒偵辦刑案之公務員、收集取得人頭帳戶、撥打電話實施詐騙、指定被害人匯款帳戶、提領人頭帳戶款項等各階段，係需由多人縝密分工方能完成，屬於集團性犯罪。本案被告鄭盛仁、賴俊利先後分別參與以陳彥宇、蔡青松、臧俊誠、王鳴煌、賴偉銘所組成之詐騙集團，各階段均需有人分工，方能遂行集團詐欺取財之犯罪目的，並有如附表一編號11至14所示之縝密分工，因此被告鄭盛仁、賴俊利所為，分別與如附表一編號11至14各「行為人」欄所示之行為人間，就各該編號內所示之犯行，有犯意聯絡及行為分擔，均應各論以共同正犯。五、被告二人犯後，刑法於103年6月18日增訂第339條之4，規定「犯第三百三十九條詐欺罪而有下列情形之一者，處一年以上七年以下有期徒刑，得併科一百萬元以下罰金：一、冒用政府機關或公務員名義犯之。二、三人以上共同犯之。三、以廣播電視、電子通訊、網際網路或其他媒體等傳播工具，對公眾散布而犯之。」、「前項之未遂犯罰之。」。並提高刑法第339條第1項所定得科罰金之刑度為50萬元以下、刑法第339條之2得科罰金之刑度為30萬元以下。經新舊法比較，以舊法有利於被告二人，依刑法第2條第1項前段，自應適用被告二人行為當時之修正前刑法。六、按「量刑之輕重，固屬事實審法院得依職權自由裁量之事項，惟仍應受比例原則及公平原則之限制，否則其判決即非適法。刑事審判旨在實現刑罰權分配的正義，故法院對有罪被告之科刑，應符合罪刑相當之原則，使輕重得宜，罰當其罪，以契合社會之法律感情，此所以刑法第57條明定科刑時應審酌一切情狀，尤應注意該條各款所列事項以為科刑輕重之標準」（最高法院93年度台上字第5073號判決參照）。查被告鄭盛仁、賴俊利等人雖坦承犯行，然渠等均正值年輕力壯，竟不思以正途賺取生活所需，僅因貪圖報酬利益，即參與詐欺集團，從事收取人頭帳戶、傳送帳號、接應把風、提領帳款、核對款項等工作，以假冒檢察官方式詐騙被害人，手法純熟，被害者有三人，被害金額少則數千元，多則數十萬甚或數百萬元，其中被害人鄭新作前後被騙金額更高達250萬元，幾乎一生積蓄都被詐騙殆盡，其對被害人之財產及社會秩序已然造成重大侵害，更嚴重損傷人民對司法機關之信賴，社會金融秩序、網路交易安全及親人間之信任關係均破壞殆盡，惡性非輕，況其所參與詐騙集團之分工行為，均為極重要之環節，原審僅判處有期徒刑1年（偽造公文書部分），量刑稍嫌輕縱。又被告鄭盛仁、賴俊利等二人固已與部分被害人鄭新作和解，清償部分款項，惟仍有部分被害人（如編號13、14等）未賠償，原審對被告鄭盛仁、賴俊利均有量刑過輕而難收矯正效果之情事。檢察官認原審量刑過輕，其上訴為有理由，應由本院撤銷改判。七、爰審酌被告鄭盛仁、賴俊利均年輕力壯，卻不循正當管道賺取生活所需財物，反而利益薰心，加入詐欺集團，意圖不勞而獲，騙取他人錢財牟利，從事收取人頭帳戶、傳送帳號、接應把風、提領帳款、核對款項等工作，以假冒檢察官方式詐騙被害人，使年邁並欠缺法律常識之被害人因恐遭司法機關追訴，而陷於錯誤交付金錢，非但嚴重損害司法機關之威信及人民對司法機關之信賴，社會金融秩序、網路交易安全及親人間之信任關係均破壞殆盡，惡性非輕，況其所參與詐騙集團之分工行為，均為極重要之環節，而被害人鄭新作遭詐騙之款項，均係數十年辛苦工作所儲蓄之錢財，其等係仰賴該款項養老，或亟需款項救急之貸款者，因遭被告鄭盛仁、賴俊利之詐騙，致其等生活陷於困頓，堪認被告二人之惡性甚為重大，併衡酌被告二人詐得財物金額甚高，其等犯行肇致被害人具體損害之程度非輕，被告鄭盛仁、賴俊利已與部分被害人達成和解，並已賠付部分金額，然就其餘被害人並未賠償，兼衡被告等人之品性、智識程度、生活情形、經濟狀況等一切情狀，各量處如主文所示之刑，並分別定其等應執行之刑。八、沒收：(一)、末按沒收，除有特別規定者外，於裁判時併宣告之。違禁物或專科沒收之物得單獨宣告沒收；又偽造之印章、印文或署押，不問屬於犯人與否，沒收之，刑法第40條、第219條分別定有明文。又被告經法院為有罪之科刑判決時，專科沒收之物與被告本案所犯並經法院諭知有罪者若全然無關，固不得於該有罪判決之主刑下宣告沒收，惟若該專科沒收之物與被告被訴之本案非全然無關，法院自應於主刑下宣告沒收。再按被告用以詐欺取財之偽造、變造等文書，既已交付於被害人收受，則該物非屬被告所有，除該偽造文書上之偽造印文、署押應依刑法第219條予以沒收外，依同法第38條第3項之規定，即不得再對各該文書諭知沒收（最高法院43年台上字第747號判例要旨可參）。另按刑法第38條第3項係規定「犯罪行為人」所有供犯罪所用或犯罪預備之物，得宣告沒收，並非規定屬「被告」所有之物，始得宣告沒收，而共同正犯於意思聯絡範圍內，組成一共犯團體，團體中之任何成員均為「犯罪行為人」，供犯罪所用或犯罪預備之物，只要屬於「犯罪行為人」所有，均得宣告沒收，不以必屬於本案被告本人所有者為限（最高法院92年度台上字第787號判決同斯意旨）。再按沒收物之執行完畢與沒收物之不存在，並非一事，因犯罪依法必須沒收之物，雖已於共犯中之一人確定判決諭知沒收，並已執行完畢，對於其他共犯之判決，仍應宣告沒收，最高法院著有65年度第五次刑庭庭推總會議決議（二）可資參照。(二)、如附表一編號11、13、14所示之偽造公文書，雖分別係被告鄭盛仁、賴俊利共犯行使偽造公文書等罪所用之物，然既均已交付予本案被害人，已非屬被告鄭盛仁、賴俊利所有，爰均不為沒收之諭知。又各該偽造傳真函文公文書上所偽造如附表二所示之印文及署名，雖該等印文、署名未經扣案附卷，惟無積極證據證明確已滅失，則不問屬於犯人與否，依刑法第219條之規定，均仍應宣告沒收。至於附表一編號13被害人徐秀英所指「署名台中地檢署黃健銘」之文件，未據提出，且偽造公文書上所就有何偽造之印文及署名應予沒收，不得而知，無從依刑法第219條之規定沒收。(三)、至其餘扣案物，因並無積極證據證明係供本案犯罪或預備之用，又非犯罪所生或所得之物，亦非違禁物，爰均不為沒收之諭知。據上論斷，應依刑事訴訟法第369條第1項前段、第364條、第299條第1項前段、刑法第2條第1項前段、第28條、第216條、第211條、第212條、第339條第1項、第339條之2第1項、第55條、第51條第5款、第219條，刑法施行法第1條之1，判決如主文。本案經檢察官謝耀德到庭執行職務。中華民國103年7月28日刑事庭審判長法官謝志揚法官江德民法官賴淳良以上正本證明與原本無異。如不服本判決，應於收受送達後10日內向本院提出上訴書狀，其未敘述理由者，並得於提起上訴狀後10日內向本院補提理由書（均須按他造當事人之人數附繕本）「切勿逕送上級法院」。告訴人或被害人如對於本判決不服者，應具備理由請求檢察官上訴，其上訴期間之計算係以檢察官收受判決正本之日期為準。中華民國103年7月28日書記官連玫馨附表一(本案僅審理編號11至14等四件犯行)\n"
          ]
        }
      ]
    },
    {
      "cell_type": "markdown",
      "source": [
        "## 使用全部test facts在train facts中尋找最相近的五篇facts並計算預測刑期"
      ],
      "metadata": {
        "id": "e_i3YUOgu2ac"
      }
    },
    {
      "cell_type": "code",
      "source": [
        "predicted_sentences_all = []\n",
        "\n",
        "for test_embedding in test_embeddings:\n",
        "    test_embedding = test_embedding.reshape(1, -1)\n",
        "    distances, indices = knn_model_SBERT_loaded.kneighbors(test_embedding)\n",
        "    # 取得最相近的五篇文章的索引及距離\n",
        "    nearest_articles_indices = indices[0]\n",
        "    nearest_articles_distances = distances[0]\n",
        "    predicted_sentences = 0\n",
        "    # 將最相近的五篇文章的刑期加總，並計算平均值作為預測刑期\n",
        "    for i, index in enumerate(nearest_articles_indices):\n",
        "        predicted_sentences += train_sentences[index]\n",
        "    predicted_sentence = float(predicted_sentences) / 5\n",
        "\n",
        "    predicted_sentences_all.append(predicted_sentence)\n",
        "\n"
      ],
      "metadata": {
        "id": "eyyDSQI4xb47"
      },
      "execution_count": 37,
      "outputs": []
    },
    {
      "cell_type": "code",
      "source": [
        "print(predicted_sentences_all)\n",
        "print(test_sentences)"
      ],
      "metadata": {
        "colab": {
          "base_uri": "https://localhost:8080/"
        },
        "id": "lanj0IUryFvQ",
        "outputId": "358c4846-6d20-4eb6-c6a4-3973ad9b8431"
      },
      "execution_count": 38,
      "outputs": [
        {
          "output_type": "stream",
          "name": "stdout",
          "text": [
            "[78.0, 211.0, 174.0, 228.8, 272.0, 193.4, 274.8, 138.0, 174.0, 167.0, 132.0, 138.0, 132.0, 100.0, 223.0, 211.0, 187.0, 138.0, 260.4, 228.0, 203.8, 220.4, 259.0, 115.0, 198.0, 232.0, 301.8, 88.0, 120.0, 103.0, 284.0, 124.0, 275.0, 136.0, 138.0, 220.6, 115.0, 186.4, 156.0, 156.0, 150.4, 236.0, 126.0, 225.8, 218.0, 161.0, 199.8, 134.8, 90.0, 254.0, 290.6, 120.0, 191.0, 151.0, 99.0, 84.0, 201.0, 156.0, 148.4, 124.0, 233.0, 160.0, 190.0, 58.0, 85.4, 148.4, 294.0, 264.0, 223.0, 159.6, 252.0, 130.0, 180.0, 308.0, 120.0, 223.0, 283.4, 171.0, 166.4, 210.8, 119.0, 177.8, 94.0, 135.0, 344.8, 144.0, 127.0, 126.0, 167.0, 181.0, 150.0, 89.8, 160.0, 158.4, 229.0, 140.0, 111.0, 126.0, 242.0, 112.0]\n",
            "[150, 242, 60, 302, 365, 150, 90, 120, 120, 180, 120, 90, 120, 90, 90, 90, 180, 270, 425, 50, 150, 90, 365, 195, 150, 50, 345, 150, 150, 90, 425, 135, 120, 240, 20, 240, 60, 120, 60, 150, 90, 240, 365, 210, 150, 120, 32, 150, 505, 90, 90, 120, 120, 120, 165, 180, 302, 90, 120, 730, 240, 40, 180, 90, 90, 180, 150, 450, 240, 240, 120, 120, 120, 120, 165, 150, 180, 90, 60, 120, 60, 820, 180, 90, 120, 120, 240, 180, 120, 90, 270, 195, 90, 180, 150, 120, 120, 150, 180, 180]\n"
          ]
        }
      ]
    },
    {
      "cell_type": "code",
      "source": [
        "from sklearn.metrics import mean_squared_error, mean_absolute_error"
      ],
      "metadata": {
        "id": "l0x-782r8NvT"
      },
      "execution_count": 39,
      "outputs": []
    },
    {
      "cell_type": "code",
      "source": [
        "mse_linear = mean_squared_error(test_sentences, predicted_sentences_all)\n",
        "rmse_linear = mean_squared_error(test_sentences, predicted_sentences_all, squared=False)\n",
        "mae_linear = mean_absolute_error(test_sentences, predicted_sentences_all)"
      ],
      "metadata": {
        "id": "uuI2-NxR8RFL"
      },
      "execution_count": 40,
      "outputs": []
    },
    {
      "cell_type": "code",
      "source": [
        "print('\\n==================================================')\n",
        "print(\"Linear Regression - MSE:\", mse_linear)\n",
        "print(\"Linear Regression - RMSE:\", rmse_linear)\n",
        "print(\"Linear Regression - MAE:\", mae_linear)"
      ],
      "metadata": {
        "id": "mgIAo6vDGJQ9",
        "outputId": "e7a09659-9142-4fd0-e49d-6f29807757db",
        "colab": {
          "base_uri": "https://localhost:8080/"
        }
      },
      "execution_count": 41,
      "outputs": [
        {
          "output_type": "stream",
          "name": "stdout",
          "text": [
            "\n",
            "==================================================\n",
            "Linear Regression - MSE: 18152.242800000004\n",
            "Linear Regression - RMSE: 134.73025940745458\n",
            "Linear Regression - MAE: 89.77400000000002\n"
          ]
        }
      ]
    },
    {
      "cell_type": "markdown",
      "source": [
        "# 平均"
      ],
      "metadata": {
        "id": "yHdy1FtJ4RfK"
      }
    },
    {
      "cell_type": "code",
      "source": [
        "avg_sentence = sum(train_sentences)/len(train_sentences)"
      ],
      "metadata": {
        "id": "3jGxx2A64Uoq"
      },
      "execution_count": 36,
      "outputs": []
    },
    {
      "cell_type": "code",
      "source": [
        "avg_sentence"
      ],
      "metadata": {
        "colab": {
          "base_uri": "https://localhost:8080/"
        },
        "id": "5QA4GmHN47HX",
        "outputId": "2b0f927d-134f-40aa-8de4-a6dd6e1b735a"
      },
      "execution_count": 37,
      "outputs": [
        {
          "output_type": "execute_result",
          "data": {
            "text/plain": [
              "187.724"
            ]
          },
          "metadata": {},
          "execution_count": 37
        }
      ]
    },
    {
      "cell_type": "code",
      "source": [
        "avg_sentences = [avg_sentence]*len(test_sentences)"
      ],
      "metadata": {
        "id": "BQWVnyfJ5ENu"
      },
      "execution_count": 38,
      "outputs": []
    },
    {
      "cell_type": "code",
      "source": [
        "mse_linear = mean_squared_error(test_sentences, avg_sentences)\n",
        "rmse_linear = mean_squared_error(test_sentences, avg_sentences, squared=False)\n",
        "mae_linear = mean_absolute_error(test_sentences, avg_sentences)"
      ],
      "metadata": {
        "id": "JHpo0SJy5BUW"
      },
      "execution_count": 39,
      "outputs": []
    },
    {
      "cell_type": "code",
      "source": [
        "print('\\n==================================================')\n",
        "print(\"Linear Regression - MSE:\", mse_linear)\n",
        "print(\"Linear Regression - RMSE:\", rmse_linear)\n",
        "print(\"Linear Regression - MAE:\", mae_linear)"
      ],
      "metadata": {
        "colab": {
          "base_uri": "https://localhost:8080/"
        },
        "id": "jjN4CS5W5kPk",
        "outputId": "3b15816b-4cd5-4eba-ac6e-520a93763111"
      },
      "execution_count": 40,
      "outputs": [
        {
          "output_type": "stream",
          "name": "stdout",
          "text": [
            "\n",
            "==================================================\n",
            "Linear Regression - MSE: 16325.817136000003\n",
            "Linear Regression - RMSE: 127.77252105206347\n",
            "Linear Regression - MAE: 89.10199999999999\n"
          ]
        }
      ]
    }
  ]
}