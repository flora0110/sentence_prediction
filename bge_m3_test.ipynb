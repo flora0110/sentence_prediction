{
  "nbformat": 4,
  "nbformat_minor": 0,
  "metadata": {
    "colab": {
      "provenance": [],
      "authorship_tag": "ABX9TyOLUYEMqeuaOQLm+9x0N7v9",
      "include_colab_link": true
    },
    "kernelspec": {
      "name": "python3",
      "display_name": "Python 3"
    },
    "language_info": {
      "name": "python"
    },
    "widgets": {
      "application/vnd.jupyter.widget-state+json": {
        "017c4594c74e411f94fa84e1a46df0d4": {
          "model_module": "@jupyter-widgets/controls",
          "model_name": "HBoxModel",
          "model_module_version": "1.5.0",
          "state": {
            "_dom_classes": [],
            "_model_module": "@jupyter-widgets/controls",
            "_model_module_version": "1.5.0",
            "_model_name": "HBoxModel",
            "_view_count": null,
            "_view_module": "@jupyter-widgets/controls",
            "_view_module_version": "1.5.0",
            "_view_name": "HBoxView",
            "box_style": "",
            "children": [
              "IPY_MODEL_29400e4476f44065a77f4ec951d79108",
              "IPY_MODEL_d8cd409f456f4d088071e90354784e15",
              "IPY_MODEL_c22b31217aba49a18c5678bcbb2f597c"
            ],
            "layout": "IPY_MODEL_b5522916df1e4b0c9cc6a83ce4d788d4"
          }
        },
        "29400e4476f44065a77f4ec951d79108": {
          "model_module": "@jupyter-widgets/controls",
          "model_name": "HTMLModel",
          "model_module_version": "1.5.0",
          "state": {
            "_dom_classes": [],
            "_model_module": "@jupyter-widgets/controls",
            "_model_module_version": "1.5.0",
            "_model_name": "HTMLModel",
            "_view_count": null,
            "_view_module": "@jupyter-widgets/controls",
            "_view_module_version": "1.5.0",
            "_view_name": "HTMLView",
            "description": "",
            "description_tooltip": null,
            "layout": "IPY_MODEL_538718bd299d40ca8262cf23991b2910",
            "placeholder": "​",
            "style": "IPY_MODEL_8d13e15b6245473c8894f59a3ba43fb6",
            "value": "Fetching 23 files: 100%"
          }
        },
        "d8cd409f456f4d088071e90354784e15": {
          "model_module": "@jupyter-widgets/controls",
          "model_name": "FloatProgressModel",
          "model_module_version": "1.5.0",
          "state": {
            "_dom_classes": [],
            "_model_module": "@jupyter-widgets/controls",
            "_model_module_version": "1.5.0",
            "_model_name": "FloatProgressModel",
            "_view_count": null,
            "_view_module": "@jupyter-widgets/controls",
            "_view_module_version": "1.5.0",
            "_view_name": "ProgressView",
            "bar_style": "success",
            "description": "",
            "description_tooltip": null,
            "layout": "IPY_MODEL_e79b92e4119b4c50a50ef478798f0607",
            "max": 23,
            "min": 0,
            "orientation": "horizontal",
            "style": "IPY_MODEL_692571e444174536894720be17cfc0ce",
            "value": 23
          }
        },
        "c22b31217aba49a18c5678bcbb2f597c": {
          "model_module": "@jupyter-widgets/controls",
          "model_name": "HTMLModel",
          "model_module_version": "1.5.0",
          "state": {
            "_dom_classes": [],
            "_model_module": "@jupyter-widgets/controls",
            "_model_module_version": "1.5.0",
            "_model_name": "HTMLModel",
            "_view_count": null,
            "_view_module": "@jupyter-widgets/controls",
            "_view_module_version": "1.5.0",
            "_view_name": "HTMLView",
            "description": "",
            "description_tooltip": null,
            "layout": "IPY_MODEL_70e38e50adbd467dac81415c997f926c",
            "placeholder": "​",
            "style": "IPY_MODEL_90af8ef4b47c409384def6c397bd02b4",
            "value": " 23/23 [00:43&lt;00:00,  3.74s/it]"
          }
        },
        "b5522916df1e4b0c9cc6a83ce4d788d4": {
          "model_module": "@jupyter-widgets/base",
          "model_name": "LayoutModel",
          "model_module_version": "1.2.0",
          "state": {
            "_model_module": "@jupyter-widgets/base",
            "_model_module_version": "1.2.0",
            "_model_name": "LayoutModel",
            "_view_count": null,
            "_view_module": "@jupyter-widgets/base",
            "_view_module_version": "1.2.0",
            "_view_name": "LayoutView",
            "align_content": null,
            "align_items": null,
            "align_self": null,
            "border": null,
            "bottom": null,
            "display": null,
            "flex": null,
            "flex_flow": null,
            "grid_area": null,
            "grid_auto_columns": null,
            "grid_auto_flow": null,
            "grid_auto_rows": null,
            "grid_column": null,
            "grid_gap": null,
            "grid_row": null,
            "grid_template_areas": null,
            "grid_template_columns": null,
            "grid_template_rows": null,
            "height": null,
            "justify_content": null,
            "justify_items": null,
            "left": null,
            "margin": null,
            "max_height": null,
            "max_width": null,
            "min_height": null,
            "min_width": null,
            "object_fit": null,
            "object_position": null,
            "order": null,
            "overflow": null,
            "overflow_x": null,
            "overflow_y": null,
            "padding": null,
            "right": null,
            "top": null,
            "visibility": null,
            "width": null
          }
        },
        "538718bd299d40ca8262cf23991b2910": {
          "model_module": "@jupyter-widgets/base",
          "model_name": "LayoutModel",
          "model_module_version": "1.2.0",
          "state": {
            "_model_module": "@jupyter-widgets/base",
            "_model_module_version": "1.2.0",
            "_model_name": "LayoutModel",
            "_view_count": null,
            "_view_module": "@jupyter-widgets/base",
            "_view_module_version": "1.2.0",
            "_view_name": "LayoutView",
            "align_content": null,
            "align_items": null,
            "align_self": null,
            "border": null,
            "bottom": null,
            "display": null,
            "flex": null,
            "flex_flow": null,
            "grid_area": null,
            "grid_auto_columns": null,
            "grid_auto_flow": null,
            "grid_auto_rows": null,
            "grid_column": null,
            "grid_gap": null,
            "grid_row": null,
            "grid_template_areas": null,
            "grid_template_columns": null,
            "grid_template_rows": null,
            "height": null,
            "justify_content": null,
            "justify_items": null,
            "left": null,
            "margin": null,
            "max_height": null,
            "max_width": null,
            "min_height": null,
            "min_width": null,
            "object_fit": null,
            "object_position": null,
            "order": null,
            "overflow": null,
            "overflow_x": null,
            "overflow_y": null,
            "padding": null,
            "right": null,
            "top": null,
            "visibility": null,
            "width": null
          }
        },
        "8d13e15b6245473c8894f59a3ba43fb6": {
          "model_module": "@jupyter-widgets/controls",
          "model_name": "DescriptionStyleModel",
          "model_module_version": "1.5.0",
          "state": {
            "_model_module": "@jupyter-widgets/controls",
            "_model_module_version": "1.5.0",
            "_model_name": "DescriptionStyleModel",
            "_view_count": null,
            "_view_module": "@jupyter-widgets/base",
            "_view_module_version": "1.2.0",
            "_view_name": "StyleView",
            "description_width": ""
          }
        },
        "e79b92e4119b4c50a50ef478798f0607": {
          "model_module": "@jupyter-widgets/base",
          "model_name": "LayoutModel",
          "model_module_version": "1.2.0",
          "state": {
            "_model_module": "@jupyter-widgets/base",
            "_model_module_version": "1.2.0",
            "_model_name": "LayoutModel",
            "_view_count": null,
            "_view_module": "@jupyter-widgets/base",
            "_view_module_version": "1.2.0",
            "_view_name": "LayoutView",
            "align_content": null,
            "align_items": null,
            "align_self": null,
            "border": null,
            "bottom": null,
            "display": null,
            "flex": null,
            "flex_flow": null,
            "grid_area": null,
            "grid_auto_columns": null,
            "grid_auto_flow": null,
            "grid_auto_rows": null,
            "grid_column": null,
            "grid_gap": null,
            "grid_row": null,
            "grid_template_areas": null,
            "grid_template_columns": null,
            "grid_template_rows": null,
            "height": null,
            "justify_content": null,
            "justify_items": null,
            "left": null,
            "margin": null,
            "max_height": null,
            "max_width": null,
            "min_height": null,
            "min_width": null,
            "object_fit": null,
            "object_position": null,
            "order": null,
            "overflow": null,
            "overflow_x": null,
            "overflow_y": null,
            "padding": null,
            "right": null,
            "top": null,
            "visibility": null,
            "width": null
          }
        },
        "692571e444174536894720be17cfc0ce": {
          "model_module": "@jupyter-widgets/controls",
          "model_name": "ProgressStyleModel",
          "model_module_version": "1.5.0",
          "state": {
            "_model_module": "@jupyter-widgets/controls",
            "_model_module_version": "1.5.0",
            "_model_name": "ProgressStyleModel",
            "_view_count": null,
            "_view_module": "@jupyter-widgets/base",
            "_view_module_version": "1.2.0",
            "_view_name": "StyleView",
            "bar_color": null,
            "description_width": ""
          }
        },
        "70e38e50adbd467dac81415c997f926c": {
          "model_module": "@jupyter-widgets/base",
          "model_name": "LayoutModel",
          "model_module_version": "1.2.0",
          "state": {
            "_model_module": "@jupyter-widgets/base",
            "_model_module_version": "1.2.0",
            "_model_name": "LayoutModel",
            "_view_count": null,
            "_view_module": "@jupyter-widgets/base",
            "_view_module_version": "1.2.0",
            "_view_name": "LayoutView",
            "align_content": null,
            "align_items": null,
            "align_self": null,
            "border": null,
            "bottom": null,
            "display": null,
            "flex": null,
            "flex_flow": null,
            "grid_area": null,
            "grid_auto_columns": null,
            "grid_auto_flow": null,
            "grid_auto_rows": null,
            "grid_column": null,
            "grid_gap": null,
            "grid_row": null,
            "grid_template_areas": null,
            "grid_template_columns": null,
            "grid_template_rows": null,
            "height": null,
            "justify_content": null,
            "justify_items": null,
            "left": null,
            "margin": null,
            "max_height": null,
            "max_width": null,
            "min_height": null,
            "min_width": null,
            "object_fit": null,
            "object_position": null,
            "order": null,
            "overflow": null,
            "overflow_x": null,
            "overflow_y": null,
            "padding": null,
            "right": null,
            "top": null,
            "visibility": null,
            "width": null
          }
        },
        "90af8ef4b47c409384def6c397bd02b4": {
          "model_module": "@jupyter-widgets/controls",
          "model_name": "DescriptionStyleModel",
          "model_module_version": "1.5.0",
          "state": {
            "_model_module": "@jupyter-widgets/controls",
            "_model_module_version": "1.5.0",
            "_model_name": "DescriptionStyleModel",
            "_view_count": null,
            "_view_module": "@jupyter-widgets/base",
            "_view_module_version": "1.2.0",
            "_view_name": "StyleView",
            "description_width": ""
          }
        },
        "6cc7bba9559e4d7381fdf07658028d6a": {
          "model_module": "@jupyter-widgets/controls",
          "model_name": "HBoxModel",
          "model_module_version": "1.5.0",
          "state": {
            "_dom_classes": [],
            "_model_module": "@jupyter-widgets/controls",
            "_model_module_version": "1.5.0",
            "_model_name": "HBoxModel",
            "_view_count": null,
            "_view_module": "@jupyter-widgets/controls",
            "_view_module_version": "1.5.0",
            "_view_name": "HBoxView",
            "box_style": "",
            "children": [
              "IPY_MODEL_37a0d8b041e3404ab9af519fd0de3cb7",
              "IPY_MODEL_d575fed4b58f4088a3d1ffd3cd209951",
              "IPY_MODEL_d73e2edbc8cb4a20b3064f9337ae37d2"
            ],
            "layout": "IPY_MODEL_3a722b3a2d304346ab0460f0c20e6a75"
          }
        },
        "37a0d8b041e3404ab9af519fd0de3cb7": {
          "model_module": "@jupyter-widgets/controls",
          "model_name": "HTMLModel",
          "model_module_version": "1.5.0",
          "state": {
            "_dom_classes": [],
            "_model_module": "@jupyter-widgets/controls",
            "_model_module_version": "1.5.0",
            "_model_name": "HTMLModel",
            "_view_count": null,
            "_view_module": "@jupyter-widgets/controls",
            "_view_module_version": "1.5.0",
            "_view_name": "HTMLView",
            "description": "",
            "description_tooltip": null,
            "layout": "IPY_MODEL_d609b3178f1f4101ae52e832aa58358a",
            "placeholder": "​",
            "style": "IPY_MODEL_2bed378f64c14458b216388be3a5ba13",
            "value": ".gitattributes: 100%"
          }
        },
        "d575fed4b58f4088a3d1ffd3cd209951": {
          "model_module": "@jupyter-widgets/controls",
          "model_name": "FloatProgressModel",
          "model_module_version": "1.5.0",
          "state": {
            "_dom_classes": [],
            "_model_module": "@jupyter-widgets/controls",
            "_model_module_version": "1.5.0",
            "_model_name": "FloatProgressModel",
            "_view_count": null,
            "_view_module": "@jupyter-widgets/controls",
            "_view_module_version": "1.5.0",
            "_view_name": "ProgressView",
            "bar_style": "success",
            "description": "",
            "description_tooltip": null,
            "layout": "IPY_MODEL_b4083c3caf104dc68e03b2b25a34d07d",
            "max": 1570,
            "min": 0,
            "orientation": "horizontal",
            "style": "IPY_MODEL_93c2b42946a248baa3f4dbbfe622566c",
            "value": 1570
          }
        },
        "d73e2edbc8cb4a20b3064f9337ae37d2": {
          "model_module": "@jupyter-widgets/controls",
          "model_name": "HTMLModel",
          "model_module_version": "1.5.0",
          "state": {
            "_dom_classes": [],
            "_model_module": "@jupyter-widgets/controls",
            "_model_module_version": "1.5.0",
            "_model_name": "HTMLModel",
            "_view_count": null,
            "_view_module": "@jupyter-widgets/controls",
            "_view_module_version": "1.5.0",
            "_view_name": "HTMLView",
            "description": "",
            "description_tooltip": null,
            "layout": "IPY_MODEL_c812850522fa47d485d775ce99f7b48c",
            "placeholder": "​",
            "style": "IPY_MODEL_64265c4bfa94413c9467da0740eb532c",
            "value": " 1.57k/1.57k [00:00&lt;00:00, 11.9kB/s]"
          }
        },
        "3a722b3a2d304346ab0460f0c20e6a75": {
          "model_module": "@jupyter-widgets/base",
          "model_name": "LayoutModel",
          "model_module_version": "1.2.0",
          "state": {
            "_model_module": "@jupyter-widgets/base",
            "_model_module_version": "1.2.0",
            "_model_name": "LayoutModel",
            "_view_count": null,
            "_view_module": "@jupyter-widgets/base",
            "_view_module_version": "1.2.0",
            "_view_name": "LayoutView",
            "align_content": null,
            "align_items": null,
            "align_self": null,
            "border": null,
            "bottom": null,
            "display": null,
            "flex": null,
            "flex_flow": null,
            "grid_area": null,
            "grid_auto_columns": null,
            "grid_auto_flow": null,
            "grid_auto_rows": null,
            "grid_column": null,
            "grid_gap": null,
            "grid_row": null,
            "grid_template_areas": null,
            "grid_template_columns": null,
            "grid_template_rows": null,
            "height": null,
            "justify_content": null,
            "justify_items": null,
            "left": null,
            "margin": null,
            "max_height": null,
            "max_width": null,
            "min_height": null,
            "min_width": null,
            "object_fit": null,
            "object_position": null,
            "order": null,
            "overflow": null,
            "overflow_x": null,
            "overflow_y": null,
            "padding": null,
            "right": null,
            "top": null,
            "visibility": null,
            "width": null
          }
        },
        "d609b3178f1f4101ae52e832aa58358a": {
          "model_module": "@jupyter-widgets/base",
          "model_name": "LayoutModel",
          "model_module_version": "1.2.0",
          "state": {
            "_model_module": "@jupyter-widgets/base",
            "_model_module_version": "1.2.0",
            "_model_name": "LayoutModel",
            "_view_count": null,
            "_view_module": "@jupyter-widgets/base",
            "_view_module_version": "1.2.0",
            "_view_name": "LayoutView",
            "align_content": null,
            "align_items": null,
            "align_self": null,
            "border": null,
            "bottom": null,
            "display": null,
            "flex": null,
            "flex_flow": null,
            "grid_area": null,
            "grid_auto_columns": null,
            "grid_auto_flow": null,
            "grid_auto_rows": null,
            "grid_column": null,
            "grid_gap": null,
            "grid_row": null,
            "grid_template_areas": null,
            "grid_template_columns": null,
            "grid_template_rows": null,
            "height": null,
            "justify_content": null,
            "justify_items": null,
            "left": null,
            "margin": null,
            "max_height": null,
            "max_width": null,
            "min_height": null,
            "min_width": null,
            "object_fit": null,
            "object_position": null,
            "order": null,
            "overflow": null,
            "overflow_x": null,
            "overflow_y": null,
            "padding": null,
            "right": null,
            "top": null,
            "visibility": null,
            "width": null
          }
        },
        "2bed378f64c14458b216388be3a5ba13": {
          "model_module": "@jupyter-widgets/controls",
          "model_name": "DescriptionStyleModel",
          "model_module_version": "1.5.0",
          "state": {
            "_model_module": "@jupyter-widgets/controls",
            "_model_module_version": "1.5.0",
            "_model_name": "DescriptionStyleModel",
            "_view_count": null,
            "_view_module": "@jupyter-widgets/base",
            "_view_module_version": "1.2.0",
            "_view_name": "StyleView",
            "description_width": ""
          }
        },
        "b4083c3caf104dc68e03b2b25a34d07d": {
          "model_module": "@jupyter-widgets/base",
          "model_name": "LayoutModel",
          "model_module_version": "1.2.0",
          "state": {
            "_model_module": "@jupyter-widgets/base",
            "_model_module_version": "1.2.0",
            "_model_name": "LayoutModel",
            "_view_count": null,
            "_view_module": "@jupyter-widgets/base",
            "_view_module_version": "1.2.0",
            "_view_name": "LayoutView",
            "align_content": null,
            "align_items": null,
            "align_self": null,
            "border": null,
            "bottom": null,
            "display": null,
            "flex": null,
            "flex_flow": null,
            "grid_area": null,
            "grid_auto_columns": null,
            "grid_auto_flow": null,
            "grid_auto_rows": null,
            "grid_column": null,
            "grid_gap": null,
            "grid_row": null,
            "grid_template_areas": null,
            "grid_template_columns": null,
            "grid_template_rows": null,
            "height": null,
            "justify_content": null,
            "justify_items": null,
            "left": null,
            "margin": null,
            "max_height": null,
            "max_width": null,
            "min_height": null,
            "min_width": null,
            "object_fit": null,
            "object_position": null,
            "order": null,
            "overflow": null,
            "overflow_x": null,
            "overflow_y": null,
            "padding": null,
            "right": null,
            "top": null,
            "visibility": null,
            "width": null
          }
        },
        "93c2b42946a248baa3f4dbbfe622566c": {
          "model_module": "@jupyter-widgets/controls",
          "model_name": "ProgressStyleModel",
          "model_module_version": "1.5.0",
          "state": {
            "_model_module": "@jupyter-widgets/controls",
            "_model_module_version": "1.5.0",
            "_model_name": "ProgressStyleModel",
            "_view_count": null,
            "_view_module": "@jupyter-widgets/base",
            "_view_module_version": "1.2.0",
            "_view_name": "StyleView",
            "bar_color": null,
            "description_width": ""
          }
        },
        "c812850522fa47d485d775ce99f7b48c": {
          "model_module": "@jupyter-widgets/base",
          "model_name": "LayoutModel",
          "model_module_version": "1.2.0",
          "state": {
            "_model_module": "@jupyter-widgets/base",
            "_model_module_version": "1.2.0",
            "_model_name": "LayoutModel",
            "_view_count": null,
            "_view_module": "@jupyter-widgets/base",
            "_view_module_version": "1.2.0",
            "_view_name": "LayoutView",
            "align_content": null,
            "align_items": null,
            "align_self": null,
            "border": null,
            "bottom": null,
            "display": null,
            "flex": null,
            "flex_flow": null,
            "grid_area": null,
            "grid_auto_columns": null,
            "grid_auto_flow": null,
            "grid_auto_rows": null,
            "grid_column": null,
            "grid_gap": null,
            "grid_row": null,
            "grid_template_areas": null,
            "grid_template_columns": null,
            "grid_template_rows": null,
            "height": null,
            "justify_content": null,
            "justify_items": null,
            "left": null,
            "margin": null,
            "max_height": null,
            "max_width": null,
            "min_height": null,
            "min_width": null,
            "object_fit": null,
            "object_position": null,
            "order": null,
            "overflow": null,
            "overflow_x": null,
            "overflow_y": null,
            "padding": null,
            "right": null,
            "top": null,
            "visibility": null,
            "width": null
          }
        },
        "64265c4bfa94413c9467da0740eb532c": {
          "model_module": "@jupyter-widgets/controls",
          "model_name": "DescriptionStyleModel",
          "model_module_version": "1.5.0",
          "state": {
            "_model_module": "@jupyter-widgets/controls",
            "_model_module_version": "1.5.0",
            "_model_name": "DescriptionStyleModel",
            "_view_count": null,
            "_view_module": "@jupyter-widgets/base",
            "_view_module_version": "1.2.0",
            "_view_name": "StyleView",
            "description_width": ""
          }
        },
        "9c6009e0c5e547adb00fd393f43210d2": {
          "model_module": "@jupyter-widgets/controls",
          "model_name": "HBoxModel",
          "model_module_version": "1.5.0",
          "state": {
            "_dom_classes": [],
            "_model_module": "@jupyter-widgets/controls",
            "_model_module_version": "1.5.0",
            "_model_name": "HBoxModel",
            "_view_count": null,
            "_view_module": "@jupyter-widgets/controls",
            "_view_module_version": "1.5.0",
            "_view_name": "HBoxView",
            "box_style": "",
            "children": [
              "IPY_MODEL_047ab4a04e484e7c8b1f6589c7572892",
              "IPY_MODEL_761d608e626b4ab298dfecca8b2d9d2a",
              "IPY_MODEL_821686216c43418e86754fc4f61d131a"
            ],
            "layout": "IPY_MODEL_c16c0f0cf35247199aec8871d32bb6c6"
          }
        },
        "047ab4a04e484e7c8b1f6589c7572892": {
          "model_module": "@jupyter-widgets/controls",
          "model_name": "HTMLModel",
          "model_module_version": "1.5.0",
          "state": {
            "_dom_classes": [],
            "_model_module": "@jupyter-widgets/controls",
            "_model_module_version": "1.5.0",
            "_model_name": "HTMLModel",
            "_view_count": null,
            "_view_module": "@jupyter-widgets/controls",
            "_view_module_version": "1.5.0",
            "_view_name": "HTMLView",
            "description": "",
            "description_tooltip": null,
            "layout": "IPY_MODEL_98358d41db7047998710308f122ac8b1",
            "placeholder": "​",
            "style": "IPY_MODEL_98125424ddae4fb28bac015b01012804",
            "value": "config.json: 100%"
          }
        },
        "761d608e626b4ab298dfecca8b2d9d2a": {
          "model_module": "@jupyter-widgets/controls",
          "model_name": "FloatProgressModel",
          "model_module_version": "1.5.0",
          "state": {
            "_dom_classes": [],
            "_model_module": "@jupyter-widgets/controls",
            "_model_module_version": "1.5.0",
            "_model_name": "FloatProgressModel",
            "_view_count": null,
            "_view_module": "@jupyter-widgets/controls",
            "_view_module_version": "1.5.0",
            "_view_name": "ProgressView",
            "bar_style": "success",
            "description": "",
            "description_tooltip": null,
            "layout": "IPY_MODEL_aa94ef8cd59b4c638cb55785c8d3dd36",
            "max": 687,
            "min": 0,
            "orientation": "horizontal",
            "style": "IPY_MODEL_d34122e8abb5461ebcfdbff82449a50f",
            "value": 687
          }
        },
        "821686216c43418e86754fc4f61d131a": {
          "model_module": "@jupyter-widgets/controls",
          "model_name": "HTMLModel",
          "model_module_version": "1.5.0",
          "state": {
            "_dom_classes": [],
            "_model_module": "@jupyter-widgets/controls",
            "_model_module_version": "1.5.0",
            "_model_name": "HTMLModel",
            "_view_count": null,
            "_view_module": "@jupyter-widgets/controls",
            "_view_module_version": "1.5.0",
            "_view_name": "HTMLView",
            "description": "",
            "description_tooltip": null,
            "layout": "IPY_MODEL_0bc53227e8e9492eaec2a5a423d3ee8f",
            "placeholder": "​",
            "style": "IPY_MODEL_e0ba10b205b24eb69433e0a16de16511",
            "value": " 687/687 [00:00&lt;00:00, 5.26kB/s]"
          }
        },
        "c16c0f0cf35247199aec8871d32bb6c6": {
          "model_module": "@jupyter-widgets/base",
          "model_name": "LayoutModel",
          "model_module_version": "1.2.0",
          "state": {
            "_model_module": "@jupyter-widgets/base",
            "_model_module_version": "1.2.0",
            "_model_name": "LayoutModel",
            "_view_count": null,
            "_view_module": "@jupyter-widgets/base",
            "_view_module_version": "1.2.0",
            "_view_name": "LayoutView",
            "align_content": null,
            "align_items": null,
            "align_self": null,
            "border": null,
            "bottom": null,
            "display": null,
            "flex": null,
            "flex_flow": null,
            "grid_area": null,
            "grid_auto_columns": null,
            "grid_auto_flow": null,
            "grid_auto_rows": null,
            "grid_column": null,
            "grid_gap": null,
            "grid_row": null,
            "grid_template_areas": null,
            "grid_template_columns": null,
            "grid_template_rows": null,
            "height": null,
            "justify_content": null,
            "justify_items": null,
            "left": null,
            "margin": null,
            "max_height": null,
            "max_width": null,
            "min_height": null,
            "min_width": null,
            "object_fit": null,
            "object_position": null,
            "order": null,
            "overflow": null,
            "overflow_x": null,
            "overflow_y": null,
            "padding": null,
            "right": null,
            "top": null,
            "visibility": null,
            "width": null
          }
        },
        "98358d41db7047998710308f122ac8b1": {
          "model_module": "@jupyter-widgets/base",
          "model_name": "LayoutModel",
          "model_module_version": "1.2.0",
          "state": {
            "_model_module": "@jupyter-widgets/base",
            "_model_module_version": "1.2.0",
            "_model_name": "LayoutModel",
            "_view_count": null,
            "_view_module": "@jupyter-widgets/base",
            "_view_module_version": "1.2.0",
            "_view_name": "LayoutView",
            "align_content": null,
            "align_items": null,
            "align_self": null,
            "border": null,
            "bottom": null,
            "display": null,
            "flex": null,
            "flex_flow": null,
            "grid_area": null,
            "grid_auto_columns": null,
            "grid_auto_flow": null,
            "grid_auto_rows": null,
            "grid_column": null,
            "grid_gap": null,
            "grid_row": null,
            "grid_template_areas": null,
            "grid_template_columns": null,
            "grid_template_rows": null,
            "height": null,
            "justify_content": null,
            "justify_items": null,
            "left": null,
            "margin": null,
            "max_height": null,
            "max_width": null,
            "min_height": null,
            "min_width": null,
            "object_fit": null,
            "object_position": null,
            "order": null,
            "overflow": null,
            "overflow_x": null,
            "overflow_y": null,
            "padding": null,
            "right": null,
            "top": null,
            "visibility": null,
            "width": null
          }
        },
        "98125424ddae4fb28bac015b01012804": {
          "model_module": "@jupyter-widgets/controls",
          "model_name": "DescriptionStyleModel",
          "model_module_version": "1.5.0",
          "state": {
            "_model_module": "@jupyter-widgets/controls",
            "_model_module_version": "1.5.0",
            "_model_name": "DescriptionStyleModel",
            "_view_count": null,
            "_view_module": "@jupyter-widgets/base",
            "_view_module_version": "1.2.0",
            "_view_name": "StyleView",
            "description_width": ""
          }
        },
        "aa94ef8cd59b4c638cb55785c8d3dd36": {
          "model_module": "@jupyter-widgets/base",
          "model_name": "LayoutModel",
          "model_module_version": "1.2.0",
          "state": {
            "_model_module": "@jupyter-widgets/base",
            "_model_module_version": "1.2.0",
            "_model_name": "LayoutModel",
            "_view_count": null,
            "_view_module": "@jupyter-widgets/base",
            "_view_module_version": "1.2.0",
            "_view_name": "LayoutView",
            "align_content": null,
            "align_items": null,
            "align_self": null,
            "border": null,
            "bottom": null,
            "display": null,
            "flex": null,
            "flex_flow": null,
            "grid_area": null,
            "grid_auto_columns": null,
            "grid_auto_flow": null,
            "grid_auto_rows": null,
            "grid_column": null,
            "grid_gap": null,
            "grid_row": null,
            "grid_template_areas": null,
            "grid_template_columns": null,
            "grid_template_rows": null,
            "height": null,
            "justify_content": null,
            "justify_items": null,
            "left": null,
            "margin": null,
            "max_height": null,
            "max_width": null,
            "min_height": null,
            "min_width": null,
            "object_fit": null,
            "object_position": null,
            "order": null,
            "overflow": null,
            "overflow_x": null,
            "overflow_y": null,
            "padding": null,
            "right": null,
            "top": null,
            "visibility": null,
            "width": null
          }
        },
        "d34122e8abb5461ebcfdbff82449a50f": {
          "model_module": "@jupyter-widgets/controls",
          "model_name": "ProgressStyleModel",
          "model_module_version": "1.5.0",
          "state": {
            "_model_module": "@jupyter-widgets/controls",
            "_model_module_version": "1.5.0",
            "_model_name": "ProgressStyleModel",
            "_view_count": null,
            "_view_module": "@jupyter-widgets/base",
            "_view_module_version": "1.2.0",
            "_view_name": "StyleView",
            "bar_color": null,
            "description_width": ""
          }
        },
        "0bc53227e8e9492eaec2a5a423d3ee8f": {
          "model_module": "@jupyter-widgets/base",
          "model_name": "LayoutModel",
          "model_module_version": "1.2.0",
          "state": {
            "_model_module": "@jupyter-widgets/base",
            "_model_module_version": "1.2.0",
            "_model_name": "LayoutModel",
            "_view_count": null,
            "_view_module": "@jupyter-widgets/base",
            "_view_module_version": "1.2.0",
            "_view_name": "LayoutView",
            "align_content": null,
            "align_items": null,
            "align_self": null,
            "border": null,
            "bottom": null,
            "display": null,
            "flex": null,
            "flex_flow": null,
            "grid_area": null,
            "grid_auto_columns": null,
            "grid_auto_flow": null,
            "grid_auto_rows": null,
            "grid_column": null,
            "grid_gap": null,
            "grid_row": null,
            "grid_template_areas": null,
            "grid_template_columns": null,
            "grid_template_rows": null,
            "height": null,
            "justify_content": null,
            "justify_items": null,
            "left": null,
            "margin": null,
            "max_height": null,
            "max_width": null,
            "min_height": null,
            "min_width": null,
            "object_fit": null,
            "object_position": null,
            "order": null,
            "overflow": null,
            "overflow_x": null,
            "overflow_y": null,
            "padding": null,
            "right": null,
            "top": null,
            "visibility": null,
            "width": null
          }
        },
        "e0ba10b205b24eb69433e0a16de16511": {
          "model_module": "@jupyter-widgets/controls",
          "model_name": "DescriptionStyleModel",
          "model_module_version": "1.5.0",
          "state": {
            "_model_module": "@jupyter-widgets/controls",
            "_model_module_version": "1.5.0",
            "_model_name": "DescriptionStyleModel",
            "_view_count": null,
            "_view_module": "@jupyter-widgets/base",
            "_view_module_version": "1.2.0",
            "_view_name": "StyleView",
            "description_width": ""
          }
        },
        "309d8ba7e8874412a0532e281450dee9": {
          "model_module": "@jupyter-widgets/controls",
          "model_name": "HBoxModel",
          "model_module_version": "1.5.0",
          "state": {
            "_dom_classes": [],
            "_model_module": "@jupyter-widgets/controls",
            "_model_module_version": "1.5.0",
            "_model_name": "HBoxModel",
            "_view_count": null,
            "_view_module": "@jupyter-widgets/controls",
            "_view_module_version": "1.5.0",
            "_view_name": "HBoxView",
            "box_style": "",
            "children": [
              "IPY_MODEL_7c75bfce521a4dbbae6bed86b2fde0b5",
              "IPY_MODEL_fcd2caa5885047e6adf67d9ae6930506",
              "IPY_MODEL_c17f7a6b65ed4a288375b07e036925eb"
            ],
            "layout": "IPY_MODEL_919ef25f32fd4951af8256b59416dba1"
          }
        },
        "7c75bfce521a4dbbae6bed86b2fde0b5": {
          "model_module": "@jupyter-widgets/controls",
          "model_name": "HTMLModel",
          "model_module_version": "1.5.0",
          "state": {
            "_dom_classes": [],
            "_model_module": "@jupyter-widgets/controls",
            "_model_module_version": "1.5.0",
            "_model_name": "HTMLModel",
            "_view_count": null,
            "_view_module": "@jupyter-widgets/controls",
            "_view_module_version": "1.5.0",
            "_view_name": "HTMLView",
            "description": "",
            "description_tooltip": null,
            "layout": "IPY_MODEL_729a746376a24127a324168d870d4a67",
            "placeholder": "​",
            "style": "IPY_MODEL_20055a8f643c4f9f96003392d2574c6f",
            "value": "1_Pooling/config.json: 100%"
          }
        },
        "fcd2caa5885047e6adf67d9ae6930506": {
          "model_module": "@jupyter-widgets/controls",
          "model_name": "FloatProgressModel",
          "model_module_version": "1.5.0",
          "state": {
            "_dom_classes": [],
            "_model_module": "@jupyter-widgets/controls",
            "_model_module_version": "1.5.0",
            "_model_name": "FloatProgressModel",
            "_view_count": null,
            "_view_module": "@jupyter-widgets/controls",
            "_view_module_version": "1.5.0",
            "_view_name": "ProgressView",
            "bar_style": "success",
            "description": "",
            "description_tooltip": null,
            "layout": "IPY_MODEL_769e29cdc6d945328bb1fbc591a33ff1",
            "max": 191,
            "min": 0,
            "orientation": "horizontal",
            "style": "IPY_MODEL_05a878fee60f4edd97b524006539ca6b",
            "value": 191
          }
        },
        "c17f7a6b65ed4a288375b07e036925eb": {
          "model_module": "@jupyter-widgets/controls",
          "model_name": "HTMLModel",
          "model_module_version": "1.5.0",
          "state": {
            "_dom_classes": [],
            "_model_module": "@jupyter-widgets/controls",
            "_model_module_version": "1.5.0",
            "_model_name": "HTMLModel",
            "_view_count": null,
            "_view_module": "@jupyter-widgets/controls",
            "_view_module_version": "1.5.0",
            "_view_name": "HTMLView",
            "description": "",
            "description_tooltip": null,
            "layout": "IPY_MODEL_187d1ef7fce0444ea41c8a007f6d43e8",
            "placeholder": "​",
            "style": "IPY_MODEL_02d2368c3c9742a2857ea845ea89a813",
            "value": " 191/191 [00:00&lt;00:00, 1.25kB/s]"
          }
        },
        "919ef25f32fd4951af8256b59416dba1": {
          "model_module": "@jupyter-widgets/base",
          "model_name": "LayoutModel",
          "model_module_version": "1.2.0",
          "state": {
            "_model_module": "@jupyter-widgets/base",
            "_model_module_version": "1.2.0",
            "_model_name": "LayoutModel",
            "_view_count": null,
            "_view_module": "@jupyter-widgets/base",
            "_view_module_version": "1.2.0",
            "_view_name": "LayoutView",
            "align_content": null,
            "align_items": null,
            "align_self": null,
            "border": null,
            "bottom": null,
            "display": null,
            "flex": null,
            "flex_flow": null,
            "grid_area": null,
            "grid_auto_columns": null,
            "grid_auto_flow": null,
            "grid_auto_rows": null,
            "grid_column": null,
            "grid_gap": null,
            "grid_row": null,
            "grid_template_areas": null,
            "grid_template_columns": null,
            "grid_template_rows": null,
            "height": null,
            "justify_content": null,
            "justify_items": null,
            "left": null,
            "margin": null,
            "max_height": null,
            "max_width": null,
            "min_height": null,
            "min_width": null,
            "object_fit": null,
            "object_position": null,
            "order": null,
            "overflow": null,
            "overflow_x": null,
            "overflow_y": null,
            "padding": null,
            "right": null,
            "top": null,
            "visibility": null,
            "width": null
          }
        },
        "729a746376a24127a324168d870d4a67": {
          "model_module": "@jupyter-widgets/base",
          "model_name": "LayoutModel",
          "model_module_version": "1.2.0",
          "state": {
            "_model_module": "@jupyter-widgets/base",
            "_model_module_version": "1.2.0",
            "_model_name": "LayoutModel",
            "_view_count": null,
            "_view_module": "@jupyter-widgets/base",
            "_view_module_version": "1.2.0",
            "_view_name": "LayoutView",
            "align_content": null,
            "align_items": null,
            "align_self": null,
            "border": null,
            "bottom": null,
            "display": null,
            "flex": null,
            "flex_flow": null,
            "grid_area": null,
            "grid_auto_columns": null,
            "grid_auto_flow": null,
            "grid_auto_rows": null,
            "grid_column": null,
            "grid_gap": null,
            "grid_row": null,
            "grid_template_areas": null,
            "grid_template_columns": null,
            "grid_template_rows": null,
            "height": null,
            "justify_content": null,
            "justify_items": null,
            "left": null,
            "margin": null,
            "max_height": null,
            "max_width": null,
            "min_height": null,
            "min_width": null,
            "object_fit": null,
            "object_position": null,
            "order": null,
            "overflow": null,
            "overflow_x": null,
            "overflow_y": null,
            "padding": null,
            "right": null,
            "top": null,
            "visibility": null,
            "width": null
          }
        },
        "20055a8f643c4f9f96003392d2574c6f": {
          "model_module": "@jupyter-widgets/controls",
          "model_name": "DescriptionStyleModel",
          "model_module_version": "1.5.0",
          "state": {
            "_model_module": "@jupyter-widgets/controls",
            "_model_module_version": "1.5.0",
            "_model_name": "DescriptionStyleModel",
            "_view_count": null,
            "_view_module": "@jupyter-widgets/base",
            "_view_module_version": "1.2.0",
            "_view_name": "StyleView",
            "description_width": ""
          }
        },
        "769e29cdc6d945328bb1fbc591a33ff1": {
          "model_module": "@jupyter-widgets/base",
          "model_name": "LayoutModel",
          "model_module_version": "1.2.0",
          "state": {
            "_model_module": "@jupyter-widgets/base",
            "_model_module_version": "1.2.0",
            "_model_name": "LayoutModel",
            "_view_count": null,
            "_view_module": "@jupyter-widgets/base",
            "_view_module_version": "1.2.0",
            "_view_name": "LayoutView",
            "align_content": null,
            "align_items": null,
            "align_self": null,
            "border": null,
            "bottom": null,
            "display": null,
            "flex": null,
            "flex_flow": null,
            "grid_area": null,
            "grid_auto_columns": null,
            "grid_auto_flow": null,
            "grid_auto_rows": null,
            "grid_column": null,
            "grid_gap": null,
            "grid_row": null,
            "grid_template_areas": null,
            "grid_template_columns": null,
            "grid_template_rows": null,
            "height": null,
            "justify_content": null,
            "justify_items": null,
            "left": null,
            "margin": null,
            "max_height": null,
            "max_width": null,
            "min_height": null,
            "min_width": null,
            "object_fit": null,
            "object_position": null,
            "order": null,
            "overflow": null,
            "overflow_x": null,
            "overflow_y": null,
            "padding": null,
            "right": null,
            "top": null,
            "visibility": null,
            "width": null
          }
        },
        "05a878fee60f4edd97b524006539ca6b": {
          "model_module": "@jupyter-widgets/controls",
          "model_name": "ProgressStyleModel",
          "model_module_version": "1.5.0",
          "state": {
            "_model_module": "@jupyter-widgets/controls",
            "_model_module_version": "1.5.0",
            "_model_name": "ProgressStyleModel",
            "_view_count": null,
            "_view_module": "@jupyter-widgets/base",
            "_view_module_version": "1.2.0",
            "_view_name": "StyleView",
            "bar_color": null,
            "description_width": ""
          }
        },
        "187d1ef7fce0444ea41c8a007f6d43e8": {
          "model_module": "@jupyter-widgets/base",
          "model_name": "LayoutModel",
          "model_module_version": "1.2.0",
          "state": {
            "_model_module": "@jupyter-widgets/base",
            "_model_module_version": "1.2.0",
            "_model_name": "LayoutModel",
            "_view_count": null,
            "_view_module": "@jupyter-widgets/base",
            "_view_module_version": "1.2.0",
            "_view_name": "LayoutView",
            "align_content": null,
            "align_items": null,
            "align_self": null,
            "border": null,
            "bottom": null,
            "display": null,
            "flex": null,
            "flex_flow": null,
            "grid_area": null,
            "grid_auto_columns": null,
            "grid_auto_flow": null,
            "grid_auto_rows": null,
            "grid_column": null,
            "grid_gap": null,
            "grid_row": null,
            "grid_template_areas": null,
            "grid_template_columns": null,
            "grid_template_rows": null,
            "height": null,
            "justify_content": null,
            "justify_items": null,
            "left": null,
            "margin": null,
            "max_height": null,
            "max_width": null,
            "min_height": null,
            "min_width": null,
            "object_fit": null,
            "object_position": null,
            "order": null,
            "overflow": null,
            "overflow_x": null,
            "overflow_y": null,
            "padding": null,
            "right": null,
            "top": null,
            "visibility": null,
            "width": null
          }
        },
        "02d2368c3c9742a2857ea845ea89a813": {
          "model_module": "@jupyter-widgets/controls",
          "model_name": "DescriptionStyleModel",
          "model_module_version": "1.5.0",
          "state": {
            "_model_module": "@jupyter-widgets/controls",
            "_model_module_version": "1.5.0",
            "_model_name": "DescriptionStyleModel",
            "_view_count": null,
            "_view_module": "@jupyter-widgets/base",
            "_view_module_version": "1.2.0",
            "_view_name": "StyleView",
            "description_width": ""
          }
        },
        "2574a0dbc0e044559936d2bfe876c8bb": {
          "model_module": "@jupyter-widgets/controls",
          "model_name": "HBoxModel",
          "model_module_version": "1.5.0",
          "state": {
            "_dom_classes": [],
            "_model_module": "@jupyter-widgets/controls",
            "_model_module_version": "1.5.0",
            "_model_name": "HBoxModel",
            "_view_count": null,
            "_view_module": "@jupyter-widgets/controls",
            "_view_module_version": "1.5.0",
            "_view_name": "HBoxView",
            "box_style": "",
            "children": [
              "IPY_MODEL_e40b625f8403461ab0810ab2837d81ca",
              "IPY_MODEL_a4d8a8f216924b6fa33e5511df6e9646",
              "IPY_MODEL_ab2229adcdb8497d94b4e3af1638f8aa"
            ],
            "layout": "IPY_MODEL_1231e6807b4c4acf9346f21cde39a811"
          }
        },
        "e40b625f8403461ab0810ab2837d81ca": {
          "model_module": "@jupyter-widgets/controls",
          "model_name": "HTMLModel",
          "model_module_version": "1.5.0",
          "state": {
            "_dom_classes": [],
            "_model_module": "@jupyter-widgets/controls",
            "_model_module_version": "1.5.0",
            "_model_name": "HTMLModel",
            "_view_count": null,
            "_view_module": "@jupyter-widgets/controls",
            "_view_module_version": "1.5.0",
            "_view_name": "HTMLView",
            "description": "",
            "description_tooltip": null,
            "layout": "IPY_MODEL_71d788975d7b42539de0bd00d4f22eed",
            "placeholder": "​",
            "style": "IPY_MODEL_2e8d81b6ae314aa5bdd7035e49bf8aa0",
            "value": "README.md: 100%"
          }
        },
        "a4d8a8f216924b6fa33e5511df6e9646": {
          "model_module": "@jupyter-widgets/controls",
          "model_name": "FloatProgressModel",
          "model_module_version": "1.5.0",
          "state": {
            "_dom_classes": [],
            "_model_module": "@jupyter-widgets/controls",
            "_model_module_version": "1.5.0",
            "_model_name": "FloatProgressModel",
            "_view_count": null,
            "_view_module": "@jupyter-widgets/controls",
            "_view_module_version": "1.5.0",
            "_view_name": "ProgressView",
            "bar_style": "success",
            "description": "",
            "description_tooltip": null,
            "layout": "IPY_MODEL_cf111834c9f049c385d9af0cebf70805",
            "max": 15476,
            "min": 0,
            "orientation": "horizontal",
            "style": "IPY_MODEL_06f058ed125c43f8beb57ebe7e70cdd8",
            "value": 15476
          }
        },
        "ab2229adcdb8497d94b4e3af1638f8aa": {
          "model_module": "@jupyter-widgets/controls",
          "model_name": "HTMLModel",
          "model_module_version": "1.5.0",
          "state": {
            "_dom_classes": [],
            "_model_module": "@jupyter-widgets/controls",
            "_model_module_version": "1.5.0",
            "_model_name": "HTMLModel",
            "_view_count": null,
            "_view_module": "@jupyter-widgets/controls",
            "_view_module_version": "1.5.0",
            "_view_name": "HTMLView",
            "description": "",
            "description_tooltip": null,
            "layout": "IPY_MODEL_95aad84dd2ac4dd4bb154a30b61481b4",
            "placeholder": "​",
            "style": "IPY_MODEL_47f4eb8eb65c438ca73eaa625f2df2ed",
            "value": " 15.5k/15.5k [00:00&lt;00:00, 83.0kB/s]"
          }
        },
        "1231e6807b4c4acf9346f21cde39a811": {
          "model_module": "@jupyter-widgets/base",
          "model_name": "LayoutModel",
          "model_module_version": "1.2.0",
          "state": {
            "_model_module": "@jupyter-widgets/base",
            "_model_module_version": "1.2.0",
            "_model_name": "LayoutModel",
            "_view_count": null,
            "_view_module": "@jupyter-widgets/base",
            "_view_module_version": "1.2.0",
            "_view_name": "LayoutView",
            "align_content": null,
            "align_items": null,
            "align_self": null,
            "border": null,
            "bottom": null,
            "display": null,
            "flex": null,
            "flex_flow": null,
            "grid_area": null,
            "grid_auto_columns": null,
            "grid_auto_flow": null,
            "grid_auto_rows": null,
            "grid_column": null,
            "grid_gap": null,
            "grid_row": null,
            "grid_template_areas": null,
            "grid_template_columns": null,
            "grid_template_rows": null,
            "height": null,
            "justify_content": null,
            "justify_items": null,
            "left": null,
            "margin": null,
            "max_height": null,
            "max_width": null,
            "min_height": null,
            "min_width": null,
            "object_fit": null,
            "object_position": null,
            "order": null,
            "overflow": null,
            "overflow_x": null,
            "overflow_y": null,
            "padding": null,
            "right": null,
            "top": null,
            "visibility": null,
            "width": null
          }
        },
        "71d788975d7b42539de0bd00d4f22eed": {
          "model_module": "@jupyter-widgets/base",
          "model_name": "LayoutModel",
          "model_module_version": "1.2.0",
          "state": {
            "_model_module": "@jupyter-widgets/base",
            "_model_module_version": "1.2.0",
            "_model_name": "LayoutModel",
            "_view_count": null,
            "_view_module": "@jupyter-widgets/base",
            "_view_module_version": "1.2.0",
            "_view_name": "LayoutView",
            "align_content": null,
            "align_items": null,
            "align_self": null,
            "border": null,
            "bottom": null,
            "display": null,
            "flex": null,
            "flex_flow": null,
            "grid_area": null,
            "grid_auto_columns": null,
            "grid_auto_flow": null,
            "grid_auto_rows": null,
            "grid_column": null,
            "grid_gap": null,
            "grid_row": null,
            "grid_template_areas": null,
            "grid_template_columns": null,
            "grid_template_rows": null,
            "height": null,
            "justify_content": null,
            "justify_items": null,
            "left": null,
            "margin": null,
            "max_height": null,
            "max_width": null,
            "min_height": null,
            "min_width": null,
            "object_fit": null,
            "object_position": null,
            "order": null,
            "overflow": null,
            "overflow_x": null,
            "overflow_y": null,
            "padding": null,
            "right": null,
            "top": null,
            "visibility": null,
            "width": null
          }
        },
        "2e8d81b6ae314aa5bdd7035e49bf8aa0": {
          "model_module": "@jupyter-widgets/controls",
          "model_name": "DescriptionStyleModel",
          "model_module_version": "1.5.0",
          "state": {
            "_model_module": "@jupyter-widgets/controls",
            "_model_module_version": "1.5.0",
            "_model_name": "DescriptionStyleModel",
            "_view_count": null,
            "_view_module": "@jupyter-widgets/base",
            "_view_module_version": "1.2.0",
            "_view_name": "StyleView",
            "description_width": ""
          }
        },
        "cf111834c9f049c385d9af0cebf70805": {
          "model_module": "@jupyter-widgets/base",
          "model_name": "LayoutModel",
          "model_module_version": "1.2.0",
          "state": {
            "_model_module": "@jupyter-widgets/base",
            "_model_module_version": "1.2.0",
            "_model_name": "LayoutModel",
            "_view_count": null,
            "_view_module": "@jupyter-widgets/base",
            "_view_module_version": "1.2.0",
            "_view_name": "LayoutView",
            "align_content": null,
            "align_items": null,
            "align_self": null,
            "border": null,
            "bottom": null,
            "display": null,
            "flex": null,
            "flex_flow": null,
            "grid_area": null,
            "grid_auto_columns": null,
            "grid_auto_flow": null,
            "grid_auto_rows": null,
            "grid_column": null,
            "grid_gap": null,
            "grid_row": null,
            "grid_template_areas": null,
            "grid_template_columns": null,
            "grid_template_rows": null,
            "height": null,
            "justify_content": null,
            "justify_items": null,
            "left": null,
            "margin": null,
            "max_height": null,
            "max_width": null,
            "min_height": null,
            "min_width": null,
            "object_fit": null,
            "object_position": null,
            "order": null,
            "overflow": null,
            "overflow_x": null,
            "overflow_y": null,
            "padding": null,
            "right": null,
            "top": null,
            "visibility": null,
            "width": null
          }
        },
        "06f058ed125c43f8beb57ebe7e70cdd8": {
          "model_module": "@jupyter-widgets/controls",
          "model_name": "ProgressStyleModel",
          "model_module_version": "1.5.0",
          "state": {
            "_model_module": "@jupyter-widgets/controls",
            "_model_module_version": "1.5.0",
            "_model_name": "ProgressStyleModel",
            "_view_count": null,
            "_view_module": "@jupyter-widgets/base",
            "_view_module_version": "1.2.0",
            "_view_name": "StyleView",
            "bar_color": null,
            "description_width": ""
          }
        },
        "95aad84dd2ac4dd4bb154a30b61481b4": {
          "model_module": "@jupyter-widgets/base",
          "model_name": "LayoutModel",
          "model_module_version": "1.2.0",
          "state": {
            "_model_module": "@jupyter-widgets/base",
            "_model_module_version": "1.2.0",
            "_model_name": "LayoutModel",
            "_view_count": null,
            "_view_module": "@jupyter-widgets/base",
            "_view_module_version": "1.2.0",
            "_view_name": "LayoutView",
            "align_content": null,
            "align_items": null,
            "align_self": null,
            "border": null,
            "bottom": null,
            "display": null,
            "flex": null,
            "flex_flow": null,
            "grid_area": null,
            "grid_auto_columns": null,
            "grid_auto_flow": null,
            "grid_auto_rows": null,
            "grid_column": null,
            "grid_gap": null,
            "grid_row": null,
            "grid_template_areas": null,
            "grid_template_columns": null,
            "grid_template_rows": null,
            "height": null,
            "justify_content": null,
            "justify_items": null,
            "left": null,
            "margin": null,
            "max_height": null,
            "max_width": null,
            "min_height": null,
            "min_width": null,
            "object_fit": null,
            "object_position": null,
            "order": null,
            "overflow": null,
            "overflow_x": null,
            "overflow_y": null,
            "padding": null,
            "right": null,
            "top": null,
            "visibility": null,
            "width": null
          }
        },
        "47f4eb8eb65c438ca73eaa625f2df2ed": {
          "model_module": "@jupyter-widgets/controls",
          "model_name": "DescriptionStyleModel",
          "model_module_version": "1.5.0",
          "state": {
            "_model_module": "@jupyter-widgets/controls",
            "_model_module_version": "1.5.0",
            "_model_name": "DescriptionStyleModel",
            "_view_count": null,
            "_view_module": "@jupyter-widgets/base",
            "_view_module_version": "1.2.0",
            "_view_name": "StyleView",
            "description_width": ""
          }
        },
        "8a32b7cbc8ac4b8ba0f2950350493120": {
          "model_module": "@jupyter-widgets/controls",
          "model_name": "HBoxModel",
          "model_module_version": "1.5.0",
          "state": {
            "_dom_classes": [],
            "_model_module": "@jupyter-widgets/controls",
            "_model_module_version": "1.5.0",
            "_model_name": "HBoxModel",
            "_view_count": null,
            "_view_module": "@jupyter-widgets/controls",
            "_view_module_version": "1.5.0",
            "_view_name": "HBoxView",
            "box_style": "",
            "children": [
              "IPY_MODEL_d5f3bfbc8d1d4c63a2087973ccb175ee",
              "IPY_MODEL_c9e6c8673bad41ee9c09b068dfb4830f",
              "IPY_MODEL_6b64800934ba4179957aa7ac54a18681"
            ],
            "layout": "IPY_MODEL_1172fc2b858b49f2841dcd1a95487b13"
          }
        },
        "d5f3bfbc8d1d4c63a2087973ccb175ee": {
          "model_module": "@jupyter-widgets/controls",
          "model_name": "HTMLModel",
          "model_module_version": "1.5.0",
          "state": {
            "_dom_classes": [],
            "_model_module": "@jupyter-widgets/controls",
            "_model_module_version": "1.5.0",
            "_model_name": "HTMLModel",
            "_view_count": null,
            "_view_module": "@jupyter-widgets/controls",
            "_view_module_version": "1.5.0",
            "_view_name": "HTMLView",
            "description": "",
            "description_tooltip": null,
            "layout": "IPY_MODEL_ee0ba823df2c4e0a80235549f481c1c1",
            "placeholder": "​",
            "style": "IPY_MODEL_d3bf996adc284849ba053ad7a1e0ca36",
            "value": "config_sentence_transformers.json: 100%"
          }
        },
        "c9e6c8673bad41ee9c09b068dfb4830f": {
          "model_module": "@jupyter-widgets/controls",
          "model_name": "FloatProgressModel",
          "model_module_version": "1.5.0",
          "state": {
            "_dom_classes": [],
            "_model_module": "@jupyter-widgets/controls",
            "_model_module_version": "1.5.0",
            "_model_name": "FloatProgressModel",
            "_view_count": null,
            "_view_module": "@jupyter-widgets/controls",
            "_view_module_version": "1.5.0",
            "_view_name": "ProgressView",
            "bar_style": "success",
            "description": "",
            "description_tooltip": null,
            "layout": "IPY_MODEL_79ee95a04c0e410aa663c48145ae839c",
            "max": 123,
            "min": 0,
            "orientation": "horizontal",
            "style": "IPY_MODEL_7046ee6c59f34f8ba35d7fa1618268f7",
            "value": 123
          }
        },
        "6b64800934ba4179957aa7ac54a18681": {
          "model_module": "@jupyter-widgets/controls",
          "model_name": "HTMLModel",
          "model_module_version": "1.5.0",
          "state": {
            "_dom_classes": [],
            "_model_module": "@jupyter-widgets/controls",
            "_model_module_version": "1.5.0",
            "_model_name": "HTMLModel",
            "_view_count": null,
            "_view_module": "@jupyter-widgets/controls",
            "_view_module_version": "1.5.0",
            "_view_name": "HTMLView",
            "description": "",
            "description_tooltip": null,
            "layout": "IPY_MODEL_0d62ef0c7848455c8e372c4342417c67",
            "placeholder": "​",
            "style": "IPY_MODEL_ce2cbfcb0db9428c97e990201a44fd61",
            "value": " 123/123 [00:00&lt;00:00, 939B/s]"
          }
        },
        "1172fc2b858b49f2841dcd1a95487b13": {
          "model_module": "@jupyter-widgets/base",
          "model_name": "LayoutModel",
          "model_module_version": "1.2.0",
          "state": {
            "_model_module": "@jupyter-widgets/base",
            "_model_module_version": "1.2.0",
            "_model_name": "LayoutModel",
            "_view_count": null,
            "_view_module": "@jupyter-widgets/base",
            "_view_module_version": "1.2.0",
            "_view_name": "LayoutView",
            "align_content": null,
            "align_items": null,
            "align_self": null,
            "border": null,
            "bottom": null,
            "display": null,
            "flex": null,
            "flex_flow": null,
            "grid_area": null,
            "grid_auto_columns": null,
            "grid_auto_flow": null,
            "grid_auto_rows": null,
            "grid_column": null,
            "grid_gap": null,
            "grid_row": null,
            "grid_template_areas": null,
            "grid_template_columns": null,
            "grid_template_rows": null,
            "height": null,
            "justify_content": null,
            "justify_items": null,
            "left": null,
            "margin": null,
            "max_height": null,
            "max_width": null,
            "min_height": null,
            "min_width": null,
            "object_fit": null,
            "object_position": null,
            "order": null,
            "overflow": null,
            "overflow_x": null,
            "overflow_y": null,
            "padding": null,
            "right": null,
            "top": null,
            "visibility": null,
            "width": null
          }
        },
        "ee0ba823df2c4e0a80235549f481c1c1": {
          "model_module": "@jupyter-widgets/base",
          "model_name": "LayoutModel",
          "model_module_version": "1.2.0",
          "state": {
            "_model_module": "@jupyter-widgets/base",
            "_model_module_version": "1.2.0",
            "_model_name": "LayoutModel",
            "_view_count": null,
            "_view_module": "@jupyter-widgets/base",
            "_view_module_version": "1.2.0",
            "_view_name": "LayoutView",
            "align_content": null,
            "align_items": null,
            "align_self": null,
            "border": null,
            "bottom": null,
            "display": null,
            "flex": null,
            "flex_flow": null,
            "grid_area": null,
            "grid_auto_columns": null,
            "grid_auto_flow": null,
            "grid_auto_rows": null,
            "grid_column": null,
            "grid_gap": null,
            "grid_row": null,
            "grid_template_areas": null,
            "grid_template_columns": null,
            "grid_template_rows": null,
            "height": null,
            "justify_content": null,
            "justify_items": null,
            "left": null,
            "margin": null,
            "max_height": null,
            "max_width": null,
            "min_height": null,
            "min_width": null,
            "object_fit": null,
            "object_position": null,
            "order": null,
            "overflow": null,
            "overflow_x": null,
            "overflow_y": null,
            "padding": null,
            "right": null,
            "top": null,
            "visibility": null,
            "width": null
          }
        },
        "d3bf996adc284849ba053ad7a1e0ca36": {
          "model_module": "@jupyter-widgets/controls",
          "model_name": "DescriptionStyleModel",
          "model_module_version": "1.5.0",
          "state": {
            "_model_module": "@jupyter-widgets/controls",
            "_model_module_version": "1.5.0",
            "_model_name": "DescriptionStyleModel",
            "_view_count": null,
            "_view_module": "@jupyter-widgets/base",
            "_view_module_version": "1.2.0",
            "_view_name": "StyleView",
            "description_width": ""
          }
        },
        "79ee95a04c0e410aa663c48145ae839c": {
          "model_module": "@jupyter-widgets/base",
          "model_name": "LayoutModel",
          "model_module_version": "1.2.0",
          "state": {
            "_model_module": "@jupyter-widgets/base",
            "_model_module_version": "1.2.0",
            "_model_name": "LayoutModel",
            "_view_count": null,
            "_view_module": "@jupyter-widgets/base",
            "_view_module_version": "1.2.0",
            "_view_name": "LayoutView",
            "align_content": null,
            "align_items": null,
            "align_self": null,
            "border": null,
            "bottom": null,
            "display": null,
            "flex": null,
            "flex_flow": null,
            "grid_area": null,
            "grid_auto_columns": null,
            "grid_auto_flow": null,
            "grid_auto_rows": null,
            "grid_column": null,
            "grid_gap": null,
            "grid_row": null,
            "grid_template_areas": null,
            "grid_template_columns": null,
            "grid_template_rows": null,
            "height": null,
            "justify_content": null,
            "justify_items": null,
            "left": null,
            "margin": null,
            "max_height": null,
            "max_width": null,
            "min_height": null,
            "min_width": null,
            "object_fit": null,
            "object_position": null,
            "order": null,
            "overflow": null,
            "overflow_x": null,
            "overflow_y": null,
            "padding": null,
            "right": null,
            "top": null,
            "visibility": null,
            "width": null
          }
        },
        "7046ee6c59f34f8ba35d7fa1618268f7": {
          "model_module": "@jupyter-widgets/controls",
          "model_name": "ProgressStyleModel",
          "model_module_version": "1.5.0",
          "state": {
            "_model_module": "@jupyter-widgets/controls",
            "_model_module_version": "1.5.0",
            "_model_name": "ProgressStyleModel",
            "_view_count": null,
            "_view_module": "@jupyter-widgets/base",
            "_view_module_version": "1.2.0",
            "_view_name": "StyleView",
            "bar_color": null,
            "description_width": ""
          }
        },
        "0d62ef0c7848455c8e372c4342417c67": {
          "model_module": "@jupyter-widgets/base",
          "model_name": "LayoutModel",
          "model_module_version": "1.2.0",
          "state": {
            "_model_module": "@jupyter-widgets/base",
            "_model_module_version": "1.2.0",
            "_model_name": "LayoutModel",
            "_view_count": null,
            "_view_module": "@jupyter-widgets/base",
            "_view_module_version": "1.2.0",
            "_view_name": "LayoutView",
            "align_content": null,
            "align_items": null,
            "align_self": null,
            "border": null,
            "bottom": null,
            "display": null,
            "flex": null,
            "flex_flow": null,
            "grid_area": null,
            "grid_auto_columns": null,
            "grid_auto_flow": null,
            "grid_auto_rows": null,
            "grid_column": null,
            "grid_gap": null,
            "grid_row": null,
            "grid_template_areas": null,
            "grid_template_columns": null,
            "grid_template_rows": null,
            "height": null,
            "justify_content": null,
            "justify_items": null,
            "left": null,
            "margin": null,
            "max_height": null,
            "max_width": null,
            "min_height": null,
            "min_width": null,
            "object_fit": null,
            "object_position": null,
            "order": null,
            "overflow": null,
            "overflow_x": null,
            "overflow_y": null,
            "padding": null,
            "right": null,
            "top": null,
            "visibility": null,
            "width": null
          }
        },
        "ce2cbfcb0db9428c97e990201a44fd61": {
          "model_module": "@jupyter-widgets/controls",
          "model_name": "DescriptionStyleModel",
          "model_module_version": "1.5.0",
          "state": {
            "_model_module": "@jupyter-widgets/controls",
            "_model_module_version": "1.5.0",
            "_model_name": "DescriptionStyleModel",
            "_view_count": null,
            "_view_module": "@jupyter-widgets/base",
            "_view_module_version": "1.2.0",
            "_view_name": "StyleView",
            "description_width": ""
          }
        },
        "403179c279fb4bb791a68ddb5b4b59e6": {
          "model_module": "@jupyter-widgets/controls",
          "model_name": "HBoxModel",
          "model_module_version": "1.5.0",
          "state": {
            "_dom_classes": [],
            "_model_module": "@jupyter-widgets/controls",
            "_model_module_version": "1.5.0",
            "_model_name": "HBoxModel",
            "_view_count": null,
            "_view_module": "@jupyter-widgets/controls",
            "_view_module_version": "1.5.0",
            "_view_name": "HBoxView",
            "box_style": "",
            "children": [
              "IPY_MODEL_a15ebb1b35c7425e90534a7f212890bc",
              "IPY_MODEL_eca3878a048241bbbd60d01a87a6285b",
              "IPY_MODEL_016c0e4fc20847b3b403917528980ef9"
            ],
            "layout": "IPY_MODEL_7594d3b87ad34944b4e06976bc21e9c4"
          }
        },
        "a15ebb1b35c7425e90534a7f212890bc": {
          "model_module": "@jupyter-widgets/controls",
          "model_name": "HTMLModel",
          "model_module_version": "1.5.0",
          "state": {
            "_dom_classes": [],
            "_model_module": "@jupyter-widgets/controls",
            "_model_module_version": "1.5.0",
            "_model_name": "HTMLModel",
            "_view_count": null,
            "_view_module": "@jupyter-widgets/controls",
            "_view_module_version": "1.5.0",
            "_view_name": "HTMLView",
            "description": "",
            "description_tooltip": null,
            "layout": "IPY_MODEL_62326384b53647e39ffacc8b51f13c85",
            "placeholder": "​",
            "style": "IPY_MODEL_e25262bf7fa246549caf45a9209c6d1a",
            "value": "imgs/bm25.jpg: 100%"
          }
        },
        "eca3878a048241bbbd60d01a87a6285b": {
          "model_module": "@jupyter-widgets/controls",
          "model_name": "FloatProgressModel",
          "model_module_version": "1.5.0",
          "state": {
            "_dom_classes": [],
            "_model_module": "@jupyter-widgets/controls",
            "_model_module_version": "1.5.0",
            "_model_name": "FloatProgressModel",
            "_view_count": null,
            "_view_module": "@jupyter-widgets/controls",
            "_view_module_version": "1.5.0",
            "_view_name": "ProgressView",
            "bar_style": "success",
            "description": "",
            "description_tooltip": null,
            "layout": "IPY_MODEL_e4faa09ffe6d43298f5a8726f4ce203b",
            "max": 68964,
            "min": 0,
            "orientation": "horizontal",
            "style": "IPY_MODEL_8bdd67e4f6bc442f96792cfa2465582a",
            "value": 68964
          }
        },
        "016c0e4fc20847b3b403917528980ef9": {
          "model_module": "@jupyter-widgets/controls",
          "model_name": "HTMLModel",
          "model_module_version": "1.5.0",
          "state": {
            "_dom_classes": [],
            "_model_module": "@jupyter-widgets/controls",
            "_model_module_version": "1.5.0",
            "_model_name": "HTMLModel",
            "_view_count": null,
            "_view_module": "@jupyter-widgets/controls",
            "_view_module_version": "1.5.0",
            "_view_name": "HTMLView",
            "description": "",
            "description_tooltip": null,
            "layout": "IPY_MODEL_c1b3ea2563ab4b6f8686b58d680b9a4d",
            "placeholder": "​",
            "style": "IPY_MODEL_83e41e9105294c62a278a757fb751655",
            "value": " 69.0k/69.0k [00:00&lt;00:00, 625kB/s]"
          }
        },
        "7594d3b87ad34944b4e06976bc21e9c4": {
          "model_module": "@jupyter-widgets/base",
          "model_name": "LayoutModel",
          "model_module_version": "1.2.0",
          "state": {
            "_model_module": "@jupyter-widgets/base",
            "_model_module_version": "1.2.0",
            "_model_name": "LayoutModel",
            "_view_count": null,
            "_view_module": "@jupyter-widgets/base",
            "_view_module_version": "1.2.0",
            "_view_name": "LayoutView",
            "align_content": null,
            "align_items": null,
            "align_self": null,
            "border": null,
            "bottom": null,
            "display": null,
            "flex": null,
            "flex_flow": null,
            "grid_area": null,
            "grid_auto_columns": null,
            "grid_auto_flow": null,
            "grid_auto_rows": null,
            "grid_column": null,
            "grid_gap": null,
            "grid_row": null,
            "grid_template_areas": null,
            "grid_template_columns": null,
            "grid_template_rows": null,
            "height": null,
            "justify_content": null,
            "justify_items": null,
            "left": null,
            "margin": null,
            "max_height": null,
            "max_width": null,
            "min_height": null,
            "min_width": null,
            "object_fit": null,
            "object_position": null,
            "order": null,
            "overflow": null,
            "overflow_x": null,
            "overflow_y": null,
            "padding": null,
            "right": null,
            "top": null,
            "visibility": null,
            "width": null
          }
        },
        "62326384b53647e39ffacc8b51f13c85": {
          "model_module": "@jupyter-widgets/base",
          "model_name": "LayoutModel",
          "model_module_version": "1.2.0",
          "state": {
            "_model_module": "@jupyter-widgets/base",
            "_model_module_version": "1.2.0",
            "_model_name": "LayoutModel",
            "_view_count": null,
            "_view_module": "@jupyter-widgets/base",
            "_view_module_version": "1.2.0",
            "_view_name": "LayoutView",
            "align_content": null,
            "align_items": null,
            "align_self": null,
            "border": null,
            "bottom": null,
            "display": null,
            "flex": null,
            "flex_flow": null,
            "grid_area": null,
            "grid_auto_columns": null,
            "grid_auto_flow": null,
            "grid_auto_rows": null,
            "grid_column": null,
            "grid_gap": null,
            "grid_row": null,
            "grid_template_areas": null,
            "grid_template_columns": null,
            "grid_template_rows": null,
            "height": null,
            "justify_content": null,
            "justify_items": null,
            "left": null,
            "margin": null,
            "max_height": null,
            "max_width": null,
            "min_height": null,
            "min_width": null,
            "object_fit": null,
            "object_position": null,
            "order": null,
            "overflow": null,
            "overflow_x": null,
            "overflow_y": null,
            "padding": null,
            "right": null,
            "top": null,
            "visibility": null,
            "width": null
          }
        },
        "e25262bf7fa246549caf45a9209c6d1a": {
          "model_module": "@jupyter-widgets/controls",
          "model_name": "DescriptionStyleModel",
          "model_module_version": "1.5.0",
          "state": {
            "_model_module": "@jupyter-widgets/controls",
            "_model_module_version": "1.5.0",
            "_model_name": "DescriptionStyleModel",
            "_view_count": null,
            "_view_module": "@jupyter-widgets/base",
            "_view_module_version": "1.2.0",
            "_view_name": "StyleView",
            "description_width": ""
          }
        },
        "e4faa09ffe6d43298f5a8726f4ce203b": {
          "model_module": "@jupyter-widgets/base",
          "model_name": "LayoutModel",
          "model_module_version": "1.2.0",
          "state": {
            "_model_module": "@jupyter-widgets/base",
            "_model_module_version": "1.2.0",
            "_model_name": "LayoutModel",
            "_view_count": null,
            "_view_module": "@jupyter-widgets/base",
            "_view_module_version": "1.2.0",
            "_view_name": "LayoutView",
            "align_content": null,
            "align_items": null,
            "align_self": null,
            "border": null,
            "bottom": null,
            "display": null,
            "flex": null,
            "flex_flow": null,
            "grid_area": null,
            "grid_auto_columns": null,
            "grid_auto_flow": null,
            "grid_auto_rows": null,
            "grid_column": null,
            "grid_gap": null,
            "grid_row": null,
            "grid_template_areas": null,
            "grid_template_columns": null,
            "grid_template_rows": null,
            "height": null,
            "justify_content": null,
            "justify_items": null,
            "left": null,
            "margin": null,
            "max_height": null,
            "max_width": null,
            "min_height": null,
            "min_width": null,
            "object_fit": null,
            "object_position": null,
            "order": null,
            "overflow": null,
            "overflow_x": null,
            "overflow_y": null,
            "padding": null,
            "right": null,
            "top": null,
            "visibility": null,
            "width": null
          }
        },
        "8bdd67e4f6bc442f96792cfa2465582a": {
          "model_module": "@jupyter-widgets/controls",
          "model_name": "ProgressStyleModel",
          "model_module_version": "1.5.0",
          "state": {
            "_model_module": "@jupyter-widgets/controls",
            "_model_module_version": "1.5.0",
            "_model_name": "ProgressStyleModel",
            "_view_count": null,
            "_view_module": "@jupyter-widgets/base",
            "_view_module_version": "1.2.0",
            "_view_name": "StyleView",
            "bar_color": null,
            "description_width": ""
          }
        },
        "c1b3ea2563ab4b6f8686b58d680b9a4d": {
          "model_module": "@jupyter-widgets/base",
          "model_name": "LayoutModel",
          "model_module_version": "1.2.0",
          "state": {
            "_model_module": "@jupyter-widgets/base",
            "_model_module_version": "1.2.0",
            "_model_name": "LayoutModel",
            "_view_count": null,
            "_view_module": "@jupyter-widgets/base",
            "_view_module_version": "1.2.0",
            "_view_name": "LayoutView",
            "align_content": null,
            "align_items": null,
            "align_self": null,
            "border": null,
            "bottom": null,
            "display": null,
            "flex": null,
            "flex_flow": null,
            "grid_area": null,
            "grid_auto_columns": null,
            "grid_auto_flow": null,
            "grid_auto_rows": null,
            "grid_column": null,
            "grid_gap": null,
            "grid_row": null,
            "grid_template_areas": null,
            "grid_template_columns": null,
            "grid_template_rows": null,
            "height": null,
            "justify_content": null,
            "justify_items": null,
            "left": null,
            "margin": null,
            "max_height": null,
            "max_width": null,
            "min_height": null,
            "min_width": null,
            "object_fit": null,
            "object_position": null,
            "order": null,
            "overflow": null,
            "overflow_x": null,
            "overflow_y": null,
            "padding": null,
            "right": null,
            "top": null,
            "visibility": null,
            "width": null
          }
        },
        "83e41e9105294c62a278a757fb751655": {
          "model_module": "@jupyter-widgets/controls",
          "model_name": "DescriptionStyleModel",
          "model_module_version": "1.5.0",
          "state": {
            "_model_module": "@jupyter-widgets/controls",
            "_model_module_version": "1.5.0",
            "_model_name": "DescriptionStyleModel",
            "_view_count": null,
            "_view_module": "@jupyter-widgets/base",
            "_view_module_version": "1.2.0",
            "_view_name": "StyleView",
            "description_width": ""
          }
        },
        "9038116ce660467c9607055d2ce1325a": {
          "model_module": "@jupyter-widgets/controls",
          "model_name": "HBoxModel",
          "model_module_version": "1.5.0",
          "state": {
            "_dom_classes": [],
            "_model_module": "@jupyter-widgets/controls",
            "_model_module_version": "1.5.0",
            "_model_name": "HBoxModel",
            "_view_count": null,
            "_view_module": "@jupyter-widgets/controls",
            "_view_module_version": "1.5.0",
            "_view_name": "HBoxView",
            "box_style": "",
            "children": [
              "IPY_MODEL_11206881f32549be8e0ed809f4780fd4",
              "IPY_MODEL_9f531d13b83e47d68052e39f6250ebfa",
              "IPY_MODEL_1d4737bee93a42a1b2eb422286464e70"
            ],
            "layout": "IPY_MODEL_3ed52006e47748e29c6629362588e0b7"
          }
        },
        "11206881f32549be8e0ed809f4780fd4": {
          "model_module": "@jupyter-widgets/controls",
          "model_name": "HTMLModel",
          "model_module_version": "1.5.0",
          "state": {
            "_dom_classes": [],
            "_model_module": "@jupyter-widgets/controls",
            "_model_module_version": "1.5.0",
            "_model_name": "HTMLModel",
            "_view_count": null,
            "_view_module": "@jupyter-widgets/controls",
            "_view_module_version": "1.5.0",
            "_view_name": "HTMLView",
            "description": "",
            "description_tooltip": null,
            "layout": "IPY_MODEL_d1138fcfc15a47f3a4058d87c830994e",
            "placeholder": "​",
            "style": "IPY_MODEL_4fc547a0e3af4e66a1c657e0a87eaacb",
            "value": "imgs/.DS_Store: 100%"
          }
        },
        "9f531d13b83e47d68052e39f6250ebfa": {
          "model_module": "@jupyter-widgets/controls",
          "model_name": "FloatProgressModel",
          "model_module_version": "1.5.0",
          "state": {
            "_dom_classes": [],
            "_model_module": "@jupyter-widgets/controls",
            "_model_module_version": "1.5.0",
            "_model_name": "FloatProgressModel",
            "_view_count": null,
            "_view_module": "@jupyter-widgets/controls",
            "_view_module_version": "1.5.0",
            "_view_name": "ProgressView",
            "bar_style": "success",
            "description": "",
            "description_tooltip": null,
            "layout": "IPY_MODEL_2df60679ad614b00a1e72d464945857a",
            "max": 6148,
            "min": 0,
            "orientation": "horizontal",
            "style": "IPY_MODEL_bb50a257348a4b47bd8ef669f4fc97b2",
            "value": 6148
          }
        },
        "1d4737bee93a42a1b2eb422286464e70": {
          "model_module": "@jupyter-widgets/controls",
          "model_name": "HTMLModel",
          "model_module_version": "1.5.0",
          "state": {
            "_dom_classes": [],
            "_model_module": "@jupyter-widgets/controls",
            "_model_module_version": "1.5.0",
            "_model_name": "HTMLModel",
            "_view_count": null,
            "_view_module": "@jupyter-widgets/controls",
            "_view_module_version": "1.5.0",
            "_view_name": "HTMLView",
            "description": "",
            "description_tooltip": null,
            "layout": "IPY_MODEL_c5ba47a98db8403ebb5c4a6eb260a45c",
            "placeholder": "​",
            "style": "IPY_MODEL_767a0d60fbb449d7bc9ccc3e0b1f71cc",
            "value": " 6.15k/6.15k [00:00&lt;00:00, 54.1kB/s]"
          }
        },
        "3ed52006e47748e29c6629362588e0b7": {
          "model_module": "@jupyter-widgets/base",
          "model_name": "LayoutModel",
          "model_module_version": "1.2.0",
          "state": {
            "_model_module": "@jupyter-widgets/base",
            "_model_module_version": "1.2.0",
            "_model_name": "LayoutModel",
            "_view_count": null,
            "_view_module": "@jupyter-widgets/base",
            "_view_module_version": "1.2.0",
            "_view_name": "LayoutView",
            "align_content": null,
            "align_items": null,
            "align_self": null,
            "border": null,
            "bottom": null,
            "display": null,
            "flex": null,
            "flex_flow": null,
            "grid_area": null,
            "grid_auto_columns": null,
            "grid_auto_flow": null,
            "grid_auto_rows": null,
            "grid_column": null,
            "grid_gap": null,
            "grid_row": null,
            "grid_template_areas": null,
            "grid_template_columns": null,
            "grid_template_rows": null,
            "height": null,
            "justify_content": null,
            "justify_items": null,
            "left": null,
            "margin": null,
            "max_height": null,
            "max_width": null,
            "min_height": null,
            "min_width": null,
            "object_fit": null,
            "object_position": null,
            "order": null,
            "overflow": null,
            "overflow_x": null,
            "overflow_y": null,
            "padding": null,
            "right": null,
            "top": null,
            "visibility": null,
            "width": null
          }
        },
        "d1138fcfc15a47f3a4058d87c830994e": {
          "model_module": "@jupyter-widgets/base",
          "model_name": "LayoutModel",
          "model_module_version": "1.2.0",
          "state": {
            "_model_module": "@jupyter-widgets/base",
            "_model_module_version": "1.2.0",
            "_model_name": "LayoutModel",
            "_view_count": null,
            "_view_module": "@jupyter-widgets/base",
            "_view_module_version": "1.2.0",
            "_view_name": "LayoutView",
            "align_content": null,
            "align_items": null,
            "align_self": null,
            "border": null,
            "bottom": null,
            "display": null,
            "flex": null,
            "flex_flow": null,
            "grid_area": null,
            "grid_auto_columns": null,
            "grid_auto_flow": null,
            "grid_auto_rows": null,
            "grid_column": null,
            "grid_gap": null,
            "grid_row": null,
            "grid_template_areas": null,
            "grid_template_columns": null,
            "grid_template_rows": null,
            "height": null,
            "justify_content": null,
            "justify_items": null,
            "left": null,
            "margin": null,
            "max_height": null,
            "max_width": null,
            "min_height": null,
            "min_width": null,
            "object_fit": null,
            "object_position": null,
            "order": null,
            "overflow": null,
            "overflow_x": null,
            "overflow_y": null,
            "padding": null,
            "right": null,
            "top": null,
            "visibility": null,
            "width": null
          }
        },
        "4fc547a0e3af4e66a1c657e0a87eaacb": {
          "model_module": "@jupyter-widgets/controls",
          "model_name": "DescriptionStyleModel",
          "model_module_version": "1.5.0",
          "state": {
            "_model_module": "@jupyter-widgets/controls",
            "_model_module_version": "1.5.0",
            "_model_name": "DescriptionStyleModel",
            "_view_count": null,
            "_view_module": "@jupyter-widgets/base",
            "_view_module_version": "1.2.0",
            "_view_name": "StyleView",
            "description_width": ""
          }
        },
        "2df60679ad614b00a1e72d464945857a": {
          "model_module": "@jupyter-widgets/base",
          "model_name": "LayoutModel",
          "model_module_version": "1.2.0",
          "state": {
            "_model_module": "@jupyter-widgets/base",
            "_model_module_version": "1.2.0",
            "_model_name": "LayoutModel",
            "_view_count": null,
            "_view_module": "@jupyter-widgets/base",
            "_view_module_version": "1.2.0",
            "_view_name": "LayoutView",
            "align_content": null,
            "align_items": null,
            "align_self": null,
            "border": null,
            "bottom": null,
            "display": null,
            "flex": null,
            "flex_flow": null,
            "grid_area": null,
            "grid_auto_columns": null,
            "grid_auto_flow": null,
            "grid_auto_rows": null,
            "grid_column": null,
            "grid_gap": null,
            "grid_row": null,
            "grid_template_areas": null,
            "grid_template_columns": null,
            "grid_template_rows": null,
            "height": null,
            "justify_content": null,
            "justify_items": null,
            "left": null,
            "margin": null,
            "max_height": null,
            "max_width": null,
            "min_height": null,
            "min_width": null,
            "object_fit": null,
            "object_position": null,
            "order": null,
            "overflow": null,
            "overflow_x": null,
            "overflow_y": null,
            "padding": null,
            "right": null,
            "top": null,
            "visibility": null,
            "width": null
          }
        },
        "bb50a257348a4b47bd8ef669f4fc97b2": {
          "model_module": "@jupyter-widgets/controls",
          "model_name": "ProgressStyleModel",
          "model_module_version": "1.5.0",
          "state": {
            "_model_module": "@jupyter-widgets/controls",
            "_model_module_version": "1.5.0",
            "_model_name": "ProgressStyleModel",
            "_view_count": null,
            "_view_module": "@jupyter-widgets/base",
            "_view_module_version": "1.2.0",
            "_view_name": "StyleView",
            "bar_color": null,
            "description_width": ""
          }
        },
        "c5ba47a98db8403ebb5c4a6eb260a45c": {
          "model_module": "@jupyter-widgets/base",
          "model_name": "LayoutModel",
          "model_module_version": "1.2.0",
          "state": {
            "_model_module": "@jupyter-widgets/base",
            "_model_module_version": "1.2.0",
            "_model_name": "LayoutModel",
            "_view_count": null,
            "_view_module": "@jupyter-widgets/base",
            "_view_module_version": "1.2.0",
            "_view_name": "LayoutView",
            "align_content": null,
            "align_items": null,
            "align_self": null,
            "border": null,
            "bottom": null,
            "display": null,
            "flex": null,
            "flex_flow": null,
            "grid_area": null,
            "grid_auto_columns": null,
            "grid_auto_flow": null,
            "grid_auto_rows": null,
            "grid_column": null,
            "grid_gap": null,
            "grid_row": null,
            "grid_template_areas": null,
            "grid_template_columns": null,
            "grid_template_rows": null,
            "height": null,
            "justify_content": null,
            "justify_items": null,
            "left": null,
            "margin": null,
            "max_height": null,
            "max_width": null,
            "min_height": null,
            "min_width": null,
            "object_fit": null,
            "object_position": null,
            "order": null,
            "overflow": null,
            "overflow_x": null,
            "overflow_y": null,
            "padding": null,
            "right": null,
            "top": null,
            "visibility": null,
            "width": null
          }
        },
        "767a0d60fbb449d7bc9ccc3e0b1f71cc": {
          "model_module": "@jupyter-widgets/controls",
          "model_name": "DescriptionStyleModel",
          "model_module_version": "1.5.0",
          "state": {
            "_model_module": "@jupyter-widgets/controls",
            "_model_module_version": "1.5.0",
            "_model_name": "DescriptionStyleModel",
            "_view_count": null,
            "_view_module": "@jupyter-widgets/base",
            "_view_module_version": "1.2.0",
            "_view_name": "StyleView",
            "description_width": ""
          }
        },
        "a96704a7ed124b228b1878590a354248": {
          "model_module": "@jupyter-widgets/controls",
          "model_name": "HBoxModel",
          "model_module_version": "1.5.0",
          "state": {
            "_dom_classes": [],
            "_model_module": "@jupyter-widgets/controls",
            "_model_module_version": "1.5.0",
            "_model_name": "HBoxModel",
            "_view_count": null,
            "_view_module": "@jupyter-widgets/controls",
            "_view_module_version": "1.5.0",
            "_view_name": "HBoxView",
            "box_style": "",
            "children": [
              "IPY_MODEL_51992ab762aa47b882f00cf7d54ae765",
              "IPY_MODEL_22d99e8842d64bc6926a7cc05bf2a88a",
              "IPY_MODEL_351f756eaf8b45a0a54ddd158cf12154"
            ],
            "layout": "IPY_MODEL_4d44fa90678c4db98215703fbbe40451"
          }
        },
        "51992ab762aa47b882f00cf7d54ae765": {
          "model_module": "@jupyter-widgets/controls",
          "model_name": "HTMLModel",
          "model_module_version": "1.5.0",
          "state": {
            "_dom_classes": [],
            "_model_module": "@jupyter-widgets/controls",
            "_model_module_version": "1.5.0",
            "_model_name": "HTMLModel",
            "_view_count": null,
            "_view_module": "@jupyter-widgets/controls",
            "_view_module_version": "1.5.0",
            "_view_name": "HTMLView",
            "description": "",
            "description_tooltip": null,
            "layout": "IPY_MODEL_45f36194965541bab2f01447b9b3c3be",
            "placeholder": "​",
            "style": "IPY_MODEL_1c3a3339d8014b3294bc5d2cc6840dc9",
            "value": "imgs/mkqa.jpg: 100%"
          }
        },
        "22d99e8842d64bc6926a7cc05bf2a88a": {
          "model_module": "@jupyter-widgets/controls",
          "model_name": "FloatProgressModel",
          "model_module_version": "1.5.0",
          "state": {
            "_dom_classes": [],
            "_model_module": "@jupyter-widgets/controls",
            "_model_module_version": "1.5.0",
            "_model_name": "FloatProgressModel",
            "_view_count": null,
            "_view_module": "@jupyter-widgets/controls",
            "_view_module_version": "1.5.0",
            "_view_name": "ProgressView",
            "bar_style": "success",
            "description": "",
            "description_tooltip": null,
            "layout": "IPY_MODEL_a6793d6b7cf64f32841c22cc3be1cf4e",
            "max": 608027,
            "min": 0,
            "orientation": "horizontal",
            "style": "IPY_MODEL_79da7c603faa4f57913b9ef8e4600b46",
            "value": 608027
          }
        },
        "351f756eaf8b45a0a54ddd158cf12154": {
          "model_module": "@jupyter-widgets/controls",
          "model_name": "HTMLModel",
          "model_module_version": "1.5.0",
          "state": {
            "_dom_classes": [],
            "_model_module": "@jupyter-widgets/controls",
            "_model_module_version": "1.5.0",
            "_model_name": "HTMLModel",
            "_view_count": null,
            "_view_module": "@jupyter-widgets/controls",
            "_view_module_version": "1.5.0",
            "_view_name": "HTMLView",
            "description": "",
            "description_tooltip": null,
            "layout": "IPY_MODEL_75fe2fae01fd4374b201f5dc337b4567",
            "placeholder": "​",
            "style": "IPY_MODEL_1ab1cc66823444c1a928759e6993f525",
            "value": " 608k/608k [00:00&lt;00:00, 3.23MB/s]"
          }
        },
        "4d44fa90678c4db98215703fbbe40451": {
          "model_module": "@jupyter-widgets/base",
          "model_name": "LayoutModel",
          "model_module_version": "1.2.0",
          "state": {
            "_model_module": "@jupyter-widgets/base",
            "_model_module_version": "1.2.0",
            "_model_name": "LayoutModel",
            "_view_count": null,
            "_view_module": "@jupyter-widgets/base",
            "_view_module_version": "1.2.0",
            "_view_name": "LayoutView",
            "align_content": null,
            "align_items": null,
            "align_self": null,
            "border": null,
            "bottom": null,
            "display": null,
            "flex": null,
            "flex_flow": null,
            "grid_area": null,
            "grid_auto_columns": null,
            "grid_auto_flow": null,
            "grid_auto_rows": null,
            "grid_column": null,
            "grid_gap": null,
            "grid_row": null,
            "grid_template_areas": null,
            "grid_template_columns": null,
            "grid_template_rows": null,
            "height": null,
            "justify_content": null,
            "justify_items": null,
            "left": null,
            "margin": null,
            "max_height": null,
            "max_width": null,
            "min_height": null,
            "min_width": null,
            "object_fit": null,
            "object_position": null,
            "order": null,
            "overflow": null,
            "overflow_x": null,
            "overflow_y": null,
            "padding": null,
            "right": null,
            "top": null,
            "visibility": null,
            "width": null
          }
        },
        "45f36194965541bab2f01447b9b3c3be": {
          "model_module": "@jupyter-widgets/base",
          "model_name": "LayoutModel",
          "model_module_version": "1.2.0",
          "state": {
            "_model_module": "@jupyter-widgets/base",
            "_model_module_version": "1.2.0",
            "_model_name": "LayoutModel",
            "_view_count": null,
            "_view_module": "@jupyter-widgets/base",
            "_view_module_version": "1.2.0",
            "_view_name": "LayoutView",
            "align_content": null,
            "align_items": null,
            "align_self": null,
            "border": null,
            "bottom": null,
            "display": null,
            "flex": null,
            "flex_flow": null,
            "grid_area": null,
            "grid_auto_columns": null,
            "grid_auto_flow": null,
            "grid_auto_rows": null,
            "grid_column": null,
            "grid_gap": null,
            "grid_row": null,
            "grid_template_areas": null,
            "grid_template_columns": null,
            "grid_template_rows": null,
            "height": null,
            "justify_content": null,
            "justify_items": null,
            "left": null,
            "margin": null,
            "max_height": null,
            "max_width": null,
            "min_height": null,
            "min_width": null,
            "object_fit": null,
            "object_position": null,
            "order": null,
            "overflow": null,
            "overflow_x": null,
            "overflow_y": null,
            "padding": null,
            "right": null,
            "top": null,
            "visibility": null,
            "width": null
          }
        },
        "1c3a3339d8014b3294bc5d2cc6840dc9": {
          "model_module": "@jupyter-widgets/controls",
          "model_name": "DescriptionStyleModel",
          "model_module_version": "1.5.0",
          "state": {
            "_model_module": "@jupyter-widgets/controls",
            "_model_module_version": "1.5.0",
            "_model_name": "DescriptionStyleModel",
            "_view_count": null,
            "_view_module": "@jupyter-widgets/base",
            "_view_module_version": "1.2.0",
            "_view_name": "StyleView",
            "description_width": ""
          }
        },
        "a6793d6b7cf64f32841c22cc3be1cf4e": {
          "model_module": "@jupyter-widgets/base",
          "model_name": "LayoutModel",
          "model_module_version": "1.2.0",
          "state": {
            "_model_module": "@jupyter-widgets/base",
            "_model_module_version": "1.2.0",
            "_model_name": "LayoutModel",
            "_view_count": null,
            "_view_module": "@jupyter-widgets/base",
            "_view_module_version": "1.2.0",
            "_view_name": "LayoutView",
            "align_content": null,
            "align_items": null,
            "align_self": null,
            "border": null,
            "bottom": null,
            "display": null,
            "flex": null,
            "flex_flow": null,
            "grid_area": null,
            "grid_auto_columns": null,
            "grid_auto_flow": null,
            "grid_auto_rows": null,
            "grid_column": null,
            "grid_gap": null,
            "grid_row": null,
            "grid_template_areas": null,
            "grid_template_columns": null,
            "grid_template_rows": null,
            "height": null,
            "justify_content": null,
            "justify_items": null,
            "left": null,
            "margin": null,
            "max_height": null,
            "max_width": null,
            "min_height": null,
            "min_width": null,
            "object_fit": null,
            "object_position": null,
            "order": null,
            "overflow": null,
            "overflow_x": null,
            "overflow_y": null,
            "padding": null,
            "right": null,
            "top": null,
            "visibility": null,
            "width": null
          }
        },
        "79da7c603faa4f57913b9ef8e4600b46": {
          "model_module": "@jupyter-widgets/controls",
          "model_name": "ProgressStyleModel",
          "model_module_version": "1.5.0",
          "state": {
            "_model_module": "@jupyter-widgets/controls",
            "_model_module_version": "1.5.0",
            "_model_name": "ProgressStyleModel",
            "_view_count": null,
            "_view_module": "@jupyter-widgets/base",
            "_view_module_version": "1.2.0",
            "_view_name": "StyleView",
            "bar_color": null,
            "description_width": ""
          }
        },
        "75fe2fae01fd4374b201f5dc337b4567": {
          "model_module": "@jupyter-widgets/base",
          "model_name": "LayoutModel",
          "model_module_version": "1.2.0",
          "state": {
            "_model_module": "@jupyter-widgets/base",
            "_model_module_version": "1.2.0",
            "_model_name": "LayoutModel",
            "_view_count": null,
            "_view_module": "@jupyter-widgets/base",
            "_view_module_version": "1.2.0",
            "_view_name": "LayoutView",
            "align_content": null,
            "align_items": null,
            "align_self": null,
            "border": null,
            "bottom": null,
            "display": null,
            "flex": null,
            "flex_flow": null,
            "grid_area": null,
            "grid_auto_columns": null,
            "grid_auto_flow": null,
            "grid_auto_rows": null,
            "grid_column": null,
            "grid_gap": null,
            "grid_row": null,
            "grid_template_areas": null,
            "grid_template_columns": null,
            "grid_template_rows": null,
            "height": null,
            "justify_content": null,
            "justify_items": null,
            "left": null,
            "margin": null,
            "max_height": null,
            "max_width": null,
            "min_height": null,
            "min_width": null,
            "object_fit": null,
            "object_position": null,
            "order": null,
            "overflow": null,
            "overflow_x": null,
            "overflow_y": null,
            "padding": null,
            "right": null,
            "top": null,
            "visibility": null,
            "width": null
          }
        },
        "1ab1cc66823444c1a928759e6993f525": {
          "model_module": "@jupyter-widgets/controls",
          "model_name": "DescriptionStyleModel",
          "model_module_version": "1.5.0",
          "state": {
            "_model_module": "@jupyter-widgets/controls",
            "_model_module_version": "1.5.0",
            "_model_name": "DescriptionStyleModel",
            "_view_count": null,
            "_view_module": "@jupyter-widgets/base",
            "_view_module_version": "1.2.0",
            "_view_name": "StyleView",
            "description_width": ""
          }
        },
        "967dc526913d4ca7867562bc92e03f81": {
          "model_module": "@jupyter-widgets/controls",
          "model_name": "HBoxModel",
          "model_module_version": "1.5.0",
          "state": {
            "_dom_classes": [],
            "_model_module": "@jupyter-widgets/controls",
            "_model_module_version": "1.5.0",
            "_model_name": "HBoxModel",
            "_view_count": null,
            "_view_module": "@jupyter-widgets/controls",
            "_view_module_version": "1.5.0",
            "_view_name": "HBoxView",
            "box_style": "",
            "children": [
              "IPY_MODEL_7e26eebe76cc44a3bc975e2dcd57c4c9",
              "IPY_MODEL_72a44ee7433040b281096b2ac361551b",
              "IPY_MODEL_905568ac8c3645c281865fd4e6cbd2ae"
            ],
            "layout": "IPY_MODEL_258491f80a034dcc89a1bd7d8bc10739"
          }
        },
        "7e26eebe76cc44a3bc975e2dcd57c4c9": {
          "model_module": "@jupyter-widgets/controls",
          "model_name": "HTMLModel",
          "model_module_version": "1.5.0",
          "state": {
            "_dom_classes": [],
            "_model_module": "@jupyter-widgets/controls",
            "_model_module_version": "1.5.0",
            "_model_name": "HTMLModel",
            "_view_count": null,
            "_view_module": "@jupyter-widgets/controls",
            "_view_module_version": "1.5.0",
            "_view_name": "HTMLView",
            "description": "",
            "description_tooltip": null,
            "layout": "IPY_MODEL_13a6d5699cba42e8a52092ce1fc8b2a9",
            "placeholder": "​",
            "style": "IPY_MODEL_9f8f6f6cb9734bc0b1f0eb80a0b2b20a",
            "value": "imgs/others.webp: 100%"
          }
        },
        "72a44ee7433040b281096b2ac361551b": {
          "model_module": "@jupyter-widgets/controls",
          "model_name": "FloatProgressModel",
          "model_module_version": "1.5.0",
          "state": {
            "_dom_classes": [],
            "_model_module": "@jupyter-widgets/controls",
            "_model_module_version": "1.5.0",
            "_model_name": "FloatProgressModel",
            "_view_count": null,
            "_view_module": "@jupyter-widgets/controls",
            "_view_module_version": "1.5.0",
            "_view_name": "ProgressView",
            "bar_style": "success",
            "description": "",
            "description_tooltip": null,
            "layout": "IPY_MODEL_baf99620955b40a0af4c03ce7c55516a",
            "max": 20984,
            "min": 0,
            "orientation": "horizontal",
            "style": "IPY_MODEL_1d995c585b8d42ef8c132eb40507cd3e",
            "value": 20984
          }
        },
        "905568ac8c3645c281865fd4e6cbd2ae": {
          "model_module": "@jupyter-widgets/controls",
          "model_name": "HTMLModel",
          "model_module_version": "1.5.0",
          "state": {
            "_dom_classes": [],
            "_model_module": "@jupyter-widgets/controls",
            "_model_module_version": "1.5.0",
            "_model_name": "HTMLModel",
            "_view_count": null,
            "_view_module": "@jupyter-widgets/controls",
            "_view_module_version": "1.5.0",
            "_view_name": "HTMLView",
            "description": "",
            "description_tooltip": null,
            "layout": "IPY_MODEL_8bca65c538cc419a9ed941a607da9ff8",
            "placeholder": "​",
            "style": "IPY_MODEL_8b9422452c70494f998b3827bfab164c",
            "value": " 21.0k/21.0k [00:00&lt;00:00, 173kB/s]"
          }
        },
        "258491f80a034dcc89a1bd7d8bc10739": {
          "model_module": "@jupyter-widgets/base",
          "model_name": "LayoutModel",
          "model_module_version": "1.2.0",
          "state": {
            "_model_module": "@jupyter-widgets/base",
            "_model_module_version": "1.2.0",
            "_model_name": "LayoutModel",
            "_view_count": null,
            "_view_module": "@jupyter-widgets/base",
            "_view_module_version": "1.2.0",
            "_view_name": "LayoutView",
            "align_content": null,
            "align_items": null,
            "align_self": null,
            "border": null,
            "bottom": null,
            "display": null,
            "flex": null,
            "flex_flow": null,
            "grid_area": null,
            "grid_auto_columns": null,
            "grid_auto_flow": null,
            "grid_auto_rows": null,
            "grid_column": null,
            "grid_gap": null,
            "grid_row": null,
            "grid_template_areas": null,
            "grid_template_columns": null,
            "grid_template_rows": null,
            "height": null,
            "justify_content": null,
            "justify_items": null,
            "left": null,
            "margin": null,
            "max_height": null,
            "max_width": null,
            "min_height": null,
            "min_width": null,
            "object_fit": null,
            "object_position": null,
            "order": null,
            "overflow": null,
            "overflow_x": null,
            "overflow_y": null,
            "padding": null,
            "right": null,
            "top": null,
            "visibility": null,
            "width": null
          }
        },
        "13a6d5699cba42e8a52092ce1fc8b2a9": {
          "model_module": "@jupyter-widgets/base",
          "model_name": "LayoutModel",
          "model_module_version": "1.2.0",
          "state": {
            "_model_module": "@jupyter-widgets/base",
            "_model_module_version": "1.2.0",
            "_model_name": "LayoutModel",
            "_view_count": null,
            "_view_module": "@jupyter-widgets/base",
            "_view_module_version": "1.2.0",
            "_view_name": "LayoutView",
            "align_content": null,
            "align_items": null,
            "align_self": null,
            "border": null,
            "bottom": null,
            "display": null,
            "flex": null,
            "flex_flow": null,
            "grid_area": null,
            "grid_auto_columns": null,
            "grid_auto_flow": null,
            "grid_auto_rows": null,
            "grid_column": null,
            "grid_gap": null,
            "grid_row": null,
            "grid_template_areas": null,
            "grid_template_columns": null,
            "grid_template_rows": null,
            "height": null,
            "justify_content": null,
            "justify_items": null,
            "left": null,
            "margin": null,
            "max_height": null,
            "max_width": null,
            "min_height": null,
            "min_width": null,
            "object_fit": null,
            "object_position": null,
            "order": null,
            "overflow": null,
            "overflow_x": null,
            "overflow_y": null,
            "padding": null,
            "right": null,
            "top": null,
            "visibility": null,
            "width": null
          }
        },
        "9f8f6f6cb9734bc0b1f0eb80a0b2b20a": {
          "model_module": "@jupyter-widgets/controls",
          "model_name": "DescriptionStyleModel",
          "model_module_version": "1.5.0",
          "state": {
            "_model_module": "@jupyter-widgets/controls",
            "_model_module_version": "1.5.0",
            "_model_name": "DescriptionStyleModel",
            "_view_count": null,
            "_view_module": "@jupyter-widgets/base",
            "_view_module_version": "1.2.0",
            "_view_name": "StyleView",
            "description_width": ""
          }
        },
        "baf99620955b40a0af4c03ce7c55516a": {
          "model_module": "@jupyter-widgets/base",
          "model_name": "LayoutModel",
          "model_module_version": "1.2.0",
          "state": {
            "_model_module": "@jupyter-widgets/base",
            "_model_module_version": "1.2.0",
            "_model_name": "LayoutModel",
            "_view_count": null,
            "_view_module": "@jupyter-widgets/base",
            "_view_module_version": "1.2.0",
            "_view_name": "LayoutView",
            "align_content": null,
            "align_items": null,
            "align_self": null,
            "border": null,
            "bottom": null,
            "display": null,
            "flex": null,
            "flex_flow": null,
            "grid_area": null,
            "grid_auto_columns": null,
            "grid_auto_flow": null,
            "grid_auto_rows": null,
            "grid_column": null,
            "grid_gap": null,
            "grid_row": null,
            "grid_template_areas": null,
            "grid_template_columns": null,
            "grid_template_rows": null,
            "height": null,
            "justify_content": null,
            "justify_items": null,
            "left": null,
            "margin": null,
            "max_height": null,
            "max_width": null,
            "min_height": null,
            "min_width": null,
            "object_fit": null,
            "object_position": null,
            "order": null,
            "overflow": null,
            "overflow_x": null,
            "overflow_y": null,
            "padding": null,
            "right": null,
            "top": null,
            "visibility": null,
            "width": null
          }
        },
        "1d995c585b8d42ef8c132eb40507cd3e": {
          "model_module": "@jupyter-widgets/controls",
          "model_name": "ProgressStyleModel",
          "model_module_version": "1.5.0",
          "state": {
            "_model_module": "@jupyter-widgets/controls",
            "_model_module_version": "1.5.0",
            "_model_name": "ProgressStyleModel",
            "_view_count": null,
            "_view_module": "@jupyter-widgets/base",
            "_view_module_version": "1.2.0",
            "_view_name": "StyleView",
            "bar_color": null,
            "description_width": ""
          }
        },
        "8bca65c538cc419a9ed941a607da9ff8": {
          "model_module": "@jupyter-widgets/base",
          "model_name": "LayoutModel",
          "model_module_version": "1.2.0",
          "state": {
            "_model_module": "@jupyter-widgets/base",
            "_model_module_version": "1.2.0",
            "_model_name": "LayoutModel",
            "_view_count": null,
            "_view_module": "@jupyter-widgets/base",
            "_view_module_version": "1.2.0",
            "_view_name": "LayoutView",
            "align_content": null,
            "align_items": null,
            "align_self": null,
            "border": null,
            "bottom": null,
            "display": null,
            "flex": null,
            "flex_flow": null,
            "grid_area": null,
            "grid_auto_columns": null,
            "grid_auto_flow": null,
            "grid_auto_rows": null,
            "grid_column": null,
            "grid_gap": null,
            "grid_row": null,
            "grid_template_areas": null,
            "grid_template_columns": null,
            "grid_template_rows": null,
            "height": null,
            "justify_content": null,
            "justify_items": null,
            "left": null,
            "margin": null,
            "max_height": null,
            "max_width": null,
            "min_height": null,
            "min_width": null,
            "object_fit": null,
            "object_position": null,
            "order": null,
            "overflow": null,
            "overflow_x": null,
            "overflow_y": null,
            "padding": null,
            "right": null,
            "top": null,
            "visibility": null,
            "width": null
          }
        },
        "8b9422452c70494f998b3827bfab164c": {
          "model_module": "@jupyter-widgets/controls",
          "model_name": "DescriptionStyleModel",
          "model_module_version": "1.5.0",
          "state": {
            "_model_module": "@jupyter-widgets/controls",
            "_model_module_version": "1.5.0",
            "_model_name": "DescriptionStyleModel",
            "_view_count": null,
            "_view_module": "@jupyter-widgets/base",
            "_view_module_version": "1.2.0",
            "_view_name": "StyleView",
            "description_width": ""
          }
        },
        "fb1c036f535346048fa5852334b074e3": {
          "model_module": "@jupyter-widgets/controls",
          "model_name": "HBoxModel",
          "model_module_version": "1.5.0",
          "state": {
            "_dom_classes": [],
            "_model_module": "@jupyter-widgets/controls",
            "_model_module_version": "1.5.0",
            "_model_name": "HBoxModel",
            "_view_count": null,
            "_view_module": "@jupyter-widgets/controls",
            "_view_module_version": "1.5.0",
            "_view_name": "HBoxView",
            "box_style": "",
            "children": [
              "IPY_MODEL_7aac0525b526497b9fa72c46e36fa2d8",
              "IPY_MODEL_c5a9e260c7a64b5ebcec10611e4a01cd",
              "IPY_MODEL_00746d5efcd8483a8b471da777c9208b"
            ],
            "layout": "IPY_MODEL_45b714d9251a422fb0fbb8d0c3b060c5"
          }
        },
        "7aac0525b526497b9fa72c46e36fa2d8": {
          "model_module": "@jupyter-widgets/controls",
          "model_name": "HTMLModel",
          "model_module_version": "1.5.0",
          "state": {
            "_dom_classes": [],
            "_model_module": "@jupyter-widgets/controls",
            "_model_module_version": "1.5.0",
            "_model_name": "HTMLModel",
            "_view_count": null,
            "_view_module": "@jupyter-widgets/controls",
            "_view_module_version": "1.5.0",
            "_view_name": "HTMLView",
            "description": "",
            "description_tooltip": null,
            "layout": "IPY_MODEL_9f04aaf16ea64e4da8a23455e386c4ef",
            "placeholder": "​",
            "style": "IPY_MODEL_f1911302feec4c5e85cbd00f98d2ee9b",
            "value": "long.jpg: 100%"
          }
        },
        "c5a9e260c7a64b5ebcec10611e4a01cd": {
          "model_module": "@jupyter-widgets/controls",
          "model_name": "FloatProgressModel",
          "model_module_version": "1.5.0",
          "state": {
            "_dom_classes": [],
            "_model_module": "@jupyter-widgets/controls",
            "_model_module_version": "1.5.0",
            "_model_name": "FloatProgressModel",
            "_view_count": null,
            "_view_module": "@jupyter-widgets/controls",
            "_view_module_version": "1.5.0",
            "_view_name": "ProgressView",
            "bar_style": "success",
            "description": "",
            "description_tooltip": null,
            "layout": "IPY_MODEL_0439114ccc22442b9047fedbc3b4ec29",
            "max": 126894,
            "min": 0,
            "orientation": "horizontal",
            "style": "IPY_MODEL_5ff1b3bfcc9e48f8ac31234605e73f4b",
            "value": 126894
          }
        },
        "00746d5efcd8483a8b471da777c9208b": {
          "model_module": "@jupyter-widgets/controls",
          "model_name": "HTMLModel",
          "model_module_version": "1.5.0",
          "state": {
            "_dom_classes": [],
            "_model_module": "@jupyter-widgets/controls",
            "_model_module_version": "1.5.0",
            "_model_name": "HTMLModel",
            "_view_count": null,
            "_view_module": "@jupyter-widgets/controls",
            "_view_module_version": "1.5.0",
            "_view_name": "HTMLView",
            "description": "",
            "description_tooltip": null,
            "layout": "IPY_MODEL_4b7891703c9c4af18d6525f7e7488de6",
            "placeholder": "​",
            "style": "IPY_MODEL_fb928a59b3094714ba0f7ecd697ff527",
            "value": " 127k/127k [00:00&lt;00:00, 914kB/s]"
          }
        },
        "45b714d9251a422fb0fbb8d0c3b060c5": {
          "model_module": "@jupyter-widgets/base",
          "model_name": "LayoutModel",
          "model_module_version": "1.2.0",
          "state": {
            "_model_module": "@jupyter-widgets/base",
            "_model_module_version": "1.2.0",
            "_model_name": "LayoutModel",
            "_view_count": null,
            "_view_module": "@jupyter-widgets/base",
            "_view_module_version": "1.2.0",
            "_view_name": "LayoutView",
            "align_content": null,
            "align_items": null,
            "align_self": null,
            "border": null,
            "bottom": null,
            "display": null,
            "flex": null,
            "flex_flow": null,
            "grid_area": null,
            "grid_auto_columns": null,
            "grid_auto_flow": null,
            "grid_auto_rows": null,
            "grid_column": null,
            "grid_gap": null,
            "grid_row": null,
            "grid_template_areas": null,
            "grid_template_columns": null,
            "grid_template_rows": null,
            "height": null,
            "justify_content": null,
            "justify_items": null,
            "left": null,
            "margin": null,
            "max_height": null,
            "max_width": null,
            "min_height": null,
            "min_width": null,
            "object_fit": null,
            "object_position": null,
            "order": null,
            "overflow": null,
            "overflow_x": null,
            "overflow_y": null,
            "padding": null,
            "right": null,
            "top": null,
            "visibility": null,
            "width": null
          }
        },
        "9f04aaf16ea64e4da8a23455e386c4ef": {
          "model_module": "@jupyter-widgets/base",
          "model_name": "LayoutModel",
          "model_module_version": "1.2.0",
          "state": {
            "_model_module": "@jupyter-widgets/base",
            "_model_module_version": "1.2.0",
            "_model_name": "LayoutModel",
            "_view_count": null,
            "_view_module": "@jupyter-widgets/base",
            "_view_module_version": "1.2.0",
            "_view_name": "LayoutView",
            "align_content": null,
            "align_items": null,
            "align_self": null,
            "border": null,
            "bottom": null,
            "display": null,
            "flex": null,
            "flex_flow": null,
            "grid_area": null,
            "grid_auto_columns": null,
            "grid_auto_flow": null,
            "grid_auto_rows": null,
            "grid_column": null,
            "grid_gap": null,
            "grid_row": null,
            "grid_template_areas": null,
            "grid_template_columns": null,
            "grid_template_rows": null,
            "height": null,
            "justify_content": null,
            "justify_items": null,
            "left": null,
            "margin": null,
            "max_height": null,
            "max_width": null,
            "min_height": null,
            "min_width": null,
            "object_fit": null,
            "object_position": null,
            "order": null,
            "overflow": null,
            "overflow_x": null,
            "overflow_y": null,
            "padding": null,
            "right": null,
            "top": null,
            "visibility": null,
            "width": null
          }
        },
        "f1911302feec4c5e85cbd00f98d2ee9b": {
          "model_module": "@jupyter-widgets/controls",
          "model_name": "DescriptionStyleModel",
          "model_module_version": "1.5.0",
          "state": {
            "_model_module": "@jupyter-widgets/controls",
            "_model_module_version": "1.5.0",
            "_model_name": "DescriptionStyleModel",
            "_view_count": null,
            "_view_module": "@jupyter-widgets/base",
            "_view_module_version": "1.2.0",
            "_view_name": "StyleView",
            "description_width": ""
          }
        },
        "0439114ccc22442b9047fedbc3b4ec29": {
          "model_module": "@jupyter-widgets/base",
          "model_name": "LayoutModel",
          "model_module_version": "1.2.0",
          "state": {
            "_model_module": "@jupyter-widgets/base",
            "_model_module_version": "1.2.0",
            "_model_name": "LayoutModel",
            "_view_count": null,
            "_view_module": "@jupyter-widgets/base",
            "_view_module_version": "1.2.0",
            "_view_name": "LayoutView",
            "align_content": null,
            "align_items": null,
            "align_self": null,
            "border": null,
            "bottom": null,
            "display": null,
            "flex": null,
            "flex_flow": null,
            "grid_area": null,
            "grid_auto_columns": null,
            "grid_auto_flow": null,
            "grid_auto_rows": null,
            "grid_column": null,
            "grid_gap": null,
            "grid_row": null,
            "grid_template_areas": null,
            "grid_template_columns": null,
            "grid_template_rows": null,
            "height": null,
            "justify_content": null,
            "justify_items": null,
            "left": null,
            "margin": null,
            "max_height": null,
            "max_width": null,
            "min_height": null,
            "min_width": null,
            "object_fit": null,
            "object_position": null,
            "order": null,
            "overflow": null,
            "overflow_x": null,
            "overflow_y": null,
            "padding": null,
            "right": null,
            "top": null,
            "visibility": null,
            "width": null
          }
        },
        "5ff1b3bfcc9e48f8ac31234605e73f4b": {
          "model_module": "@jupyter-widgets/controls",
          "model_name": "ProgressStyleModel",
          "model_module_version": "1.5.0",
          "state": {
            "_model_module": "@jupyter-widgets/controls",
            "_model_module_version": "1.5.0",
            "_model_name": "ProgressStyleModel",
            "_view_count": null,
            "_view_module": "@jupyter-widgets/base",
            "_view_module_version": "1.2.0",
            "_view_name": "StyleView",
            "bar_color": null,
            "description_width": ""
          }
        },
        "4b7891703c9c4af18d6525f7e7488de6": {
          "model_module": "@jupyter-widgets/base",
          "model_name": "LayoutModel",
          "model_module_version": "1.2.0",
          "state": {
            "_model_module": "@jupyter-widgets/base",
            "_model_module_version": "1.2.0",
            "_model_name": "LayoutModel",
            "_view_count": null,
            "_view_module": "@jupyter-widgets/base",
            "_view_module_version": "1.2.0",
            "_view_name": "LayoutView",
            "align_content": null,
            "align_items": null,
            "align_self": null,
            "border": null,
            "bottom": null,
            "display": null,
            "flex": null,
            "flex_flow": null,
            "grid_area": null,
            "grid_auto_columns": null,
            "grid_auto_flow": null,
            "grid_auto_rows": null,
            "grid_column": null,
            "grid_gap": null,
            "grid_row": null,
            "grid_template_areas": null,
            "grid_template_columns": null,
            "grid_template_rows": null,
            "height": null,
            "justify_content": null,
            "justify_items": null,
            "left": null,
            "margin": null,
            "max_height": null,
            "max_width": null,
            "min_height": null,
            "min_width": null,
            "object_fit": null,
            "object_position": null,
            "order": null,
            "overflow": null,
            "overflow_x": null,
            "overflow_y": null,
            "padding": null,
            "right": null,
            "top": null,
            "visibility": null,
            "width": null
          }
        },
        "fb928a59b3094714ba0f7ecd697ff527": {
          "model_module": "@jupyter-widgets/controls",
          "model_name": "DescriptionStyleModel",
          "model_module_version": "1.5.0",
          "state": {
            "_model_module": "@jupyter-widgets/controls",
            "_model_module_version": "1.5.0",
            "_model_name": "DescriptionStyleModel",
            "_view_count": null,
            "_view_module": "@jupyter-widgets/base",
            "_view_module_version": "1.2.0",
            "_view_name": "StyleView",
            "description_width": ""
          }
        },
        "9f86ba80a4c64b3182192a6bf2327510": {
          "model_module": "@jupyter-widgets/controls",
          "model_name": "HBoxModel",
          "model_module_version": "1.5.0",
          "state": {
            "_dom_classes": [],
            "_model_module": "@jupyter-widgets/controls",
            "_model_module_version": "1.5.0",
            "_model_name": "HBoxModel",
            "_view_count": null,
            "_view_module": "@jupyter-widgets/controls",
            "_view_module_version": "1.5.0",
            "_view_name": "HBoxView",
            "box_style": "",
            "children": [
              "IPY_MODEL_72ec1e4a2e2f45a1b2ac9d229ce87b59",
              "IPY_MODEL_cfe531937e7844a68446982abb6feca2",
              "IPY_MODEL_392e43a6723447f8ac26b100c4179e3a"
            ],
            "layout": "IPY_MODEL_f31ad5310dc94211b593360fbddb33aa"
          }
        },
        "72ec1e4a2e2f45a1b2ac9d229ce87b59": {
          "model_module": "@jupyter-widgets/controls",
          "model_name": "HTMLModel",
          "model_module_version": "1.5.0",
          "state": {
            "_dom_classes": [],
            "_model_module": "@jupyter-widgets/controls",
            "_model_module_version": "1.5.0",
            "_model_name": "HTMLModel",
            "_view_count": null,
            "_view_module": "@jupyter-widgets/controls",
            "_view_module_version": "1.5.0",
            "_view_name": "HTMLView",
            "description": "",
            "description_tooltip": null,
            "layout": "IPY_MODEL_eaa4d84e478b4fceb1aae59557291418",
            "placeholder": "​",
            "style": "IPY_MODEL_9a9c2f23e9c84679ad4b7214c5e06495",
            "value": "imgs/nqa.jpg: 100%"
          }
        },
        "cfe531937e7844a68446982abb6feca2": {
          "model_module": "@jupyter-widgets/controls",
          "model_name": "FloatProgressModel",
          "model_module_version": "1.5.0",
          "state": {
            "_dom_classes": [],
            "_model_module": "@jupyter-widgets/controls",
            "_model_module_version": "1.5.0",
            "_model_name": "FloatProgressModel",
            "_view_count": null,
            "_view_module": "@jupyter-widgets/controls",
            "_view_module_version": "1.5.0",
            "_view_name": "ProgressView",
            "bar_style": "success",
            "description": "",
            "description_tooltip": null,
            "layout": "IPY_MODEL_175494b0284b46b7bb94e993c2d69b52",
            "max": 158358,
            "min": 0,
            "orientation": "horizontal",
            "style": "IPY_MODEL_b5e6efac10b6434a8f3d65c6836bef0f",
            "value": 158358
          }
        },
        "392e43a6723447f8ac26b100c4179e3a": {
          "model_module": "@jupyter-widgets/controls",
          "model_name": "HTMLModel",
          "model_module_version": "1.5.0",
          "state": {
            "_dom_classes": [],
            "_model_module": "@jupyter-widgets/controls",
            "_model_module_version": "1.5.0",
            "_model_name": "HTMLModel",
            "_view_count": null,
            "_view_module": "@jupyter-widgets/controls",
            "_view_module_version": "1.5.0",
            "_view_name": "HTMLView",
            "description": "",
            "description_tooltip": null,
            "layout": "IPY_MODEL_0908ce9b37ee453c8bca87f34e6d1c8b",
            "placeholder": "​",
            "style": "IPY_MODEL_2c599f5dac9e4dc495f704935dbb4e4d",
            "value": " 158k/158k [00:00&lt;00:00, 1.24MB/s]"
          }
        },
        "f31ad5310dc94211b593360fbddb33aa": {
          "model_module": "@jupyter-widgets/base",
          "model_name": "LayoutModel",
          "model_module_version": "1.2.0",
          "state": {
            "_model_module": "@jupyter-widgets/base",
            "_model_module_version": "1.2.0",
            "_model_name": "LayoutModel",
            "_view_count": null,
            "_view_module": "@jupyter-widgets/base",
            "_view_module_version": "1.2.0",
            "_view_name": "LayoutView",
            "align_content": null,
            "align_items": null,
            "align_self": null,
            "border": null,
            "bottom": null,
            "display": null,
            "flex": null,
            "flex_flow": null,
            "grid_area": null,
            "grid_auto_columns": null,
            "grid_auto_flow": null,
            "grid_auto_rows": null,
            "grid_column": null,
            "grid_gap": null,
            "grid_row": null,
            "grid_template_areas": null,
            "grid_template_columns": null,
            "grid_template_rows": null,
            "height": null,
            "justify_content": null,
            "justify_items": null,
            "left": null,
            "margin": null,
            "max_height": null,
            "max_width": null,
            "min_height": null,
            "min_width": null,
            "object_fit": null,
            "object_position": null,
            "order": null,
            "overflow": null,
            "overflow_x": null,
            "overflow_y": null,
            "padding": null,
            "right": null,
            "top": null,
            "visibility": null,
            "width": null
          }
        },
        "eaa4d84e478b4fceb1aae59557291418": {
          "model_module": "@jupyter-widgets/base",
          "model_name": "LayoutModel",
          "model_module_version": "1.2.0",
          "state": {
            "_model_module": "@jupyter-widgets/base",
            "_model_module_version": "1.2.0",
            "_model_name": "LayoutModel",
            "_view_count": null,
            "_view_module": "@jupyter-widgets/base",
            "_view_module_version": "1.2.0",
            "_view_name": "LayoutView",
            "align_content": null,
            "align_items": null,
            "align_self": null,
            "border": null,
            "bottom": null,
            "display": null,
            "flex": null,
            "flex_flow": null,
            "grid_area": null,
            "grid_auto_columns": null,
            "grid_auto_flow": null,
            "grid_auto_rows": null,
            "grid_column": null,
            "grid_gap": null,
            "grid_row": null,
            "grid_template_areas": null,
            "grid_template_columns": null,
            "grid_template_rows": null,
            "height": null,
            "justify_content": null,
            "justify_items": null,
            "left": null,
            "margin": null,
            "max_height": null,
            "max_width": null,
            "min_height": null,
            "min_width": null,
            "object_fit": null,
            "object_position": null,
            "order": null,
            "overflow": null,
            "overflow_x": null,
            "overflow_y": null,
            "padding": null,
            "right": null,
            "top": null,
            "visibility": null,
            "width": null
          }
        },
        "9a9c2f23e9c84679ad4b7214c5e06495": {
          "model_module": "@jupyter-widgets/controls",
          "model_name": "DescriptionStyleModel",
          "model_module_version": "1.5.0",
          "state": {
            "_model_module": "@jupyter-widgets/controls",
            "_model_module_version": "1.5.0",
            "_model_name": "DescriptionStyleModel",
            "_view_count": null,
            "_view_module": "@jupyter-widgets/base",
            "_view_module_version": "1.2.0",
            "_view_name": "StyleView",
            "description_width": ""
          }
        },
        "175494b0284b46b7bb94e993c2d69b52": {
          "model_module": "@jupyter-widgets/base",
          "model_name": "LayoutModel",
          "model_module_version": "1.2.0",
          "state": {
            "_model_module": "@jupyter-widgets/base",
            "_model_module_version": "1.2.0",
            "_model_name": "LayoutModel",
            "_view_count": null,
            "_view_module": "@jupyter-widgets/base",
            "_view_module_version": "1.2.0",
            "_view_name": "LayoutView",
            "align_content": null,
            "align_items": null,
            "align_self": null,
            "border": null,
            "bottom": null,
            "display": null,
            "flex": null,
            "flex_flow": null,
            "grid_area": null,
            "grid_auto_columns": null,
            "grid_auto_flow": null,
            "grid_auto_rows": null,
            "grid_column": null,
            "grid_gap": null,
            "grid_row": null,
            "grid_template_areas": null,
            "grid_template_columns": null,
            "grid_template_rows": null,
            "height": null,
            "justify_content": null,
            "justify_items": null,
            "left": null,
            "margin": null,
            "max_height": null,
            "max_width": null,
            "min_height": null,
            "min_width": null,
            "object_fit": null,
            "object_position": null,
            "order": null,
            "overflow": null,
            "overflow_x": null,
            "overflow_y": null,
            "padding": null,
            "right": null,
            "top": null,
            "visibility": null,
            "width": null
          }
        },
        "b5e6efac10b6434a8f3d65c6836bef0f": {
          "model_module": "@jupyter-widgets/controls",
          "model_name": "ProgressStyleModel",
          "model_module_version": "1.5.0",
          "state": {
            "_model_module": "@jupyter-widgets/controls",
            "_model_module_version": "1.5.0",
            "_model_name": "ProgressStyleModel",
            "_view_count": null,
            "_view_module": "@jupyter-widgets/base",
            "_view_module_version": "1.2.0",
            "_view_name": "StyleView",
            "bar_color": null,
            "description_width": ""
          }
        },
        "0908ce9b37ee453c8bca87f34e6d1c8b": {
          "model_module": "@jupyter-widgets/base",
          "model_name": "LayoutModel",
          "model_module_version": "1.2.0",
          "state": {
            "_model_module": "@jupyter-widgets/base",
            "_model_module_version": "1.2.0",
            "_model_name": "LayoutModel",
            "_view_count": null,
            "_view_module": "@jupyter-widgets/base",
            "_view_module_version": "1.2.0",
            "_view_name": "LayoutView",
            "align_content": null,
            "align_items": null,
            "align_self": null,
            "border": null,
            "bottom": null,
            "display": null,
            "flex": null,
            "flex_flow": null,
            "grid_area": null,
            "grid_auto_columns": null,
            "grid_auto_flow": null,
            "grid_auto_rows": null,
            "grid_column": null,
            "grid_gap": null,
            "grid_row": null,
            "grid_template_areas": null,
            "grid_template_columns": null,
            "grid_template_rows": null,
            "height": null,
            "justify_content": null,
            "justify_items": null,
            "left": null,
            "margin": null,
            "max_height": null,
            "max_width": null,
            "min_height": null,
            "min_width": null,
            "object_fit": null,
            "object_position": null,
            "order": null,
            "overflow": null,
            "overflow_x": null,
            "overflow_y": null,
            "padding": null,
            "right": null,
            "top": null,
            "visibility": null,
            "width": null
          }
        },
        "2c599f5dac9e4dc495f704935dbb4e4d": {
          "model_module": "@jupyter-widgets/controls",
          "model_name": "DescriptionStyleModel",
          "model_module_version": "1.5.0",
          "state": {
            "_model_module": "@jupyter-widgets/controls",
            "_model_module_version": "1.5.0",
            "_model_name": "DescriptionStyleModel",
            "_view_count": null,
            "_view_module": "@jupyter-widgets/base",
            "_view_module_version": "1.2.0",
            "_view_name": "StyleView",
            "description_width": ""
          }
        },
        "dd13a4f96dc34c059ba1c9dd0d6428c5": {
          "model_module": "@jupyter-widgets/controls",
          "model_name": "HBoxModel",
          "model_module_version": "1.5.0",
          "state": {
            "_dom_classes": [],
            "_model_module": "@jupyter-widgets/controls",
            "_model_module_version": "1.5.0",
            "_model_name": "HBoxModel",
            "_view_count": null,
            "_view_module": "@jupyter-widgets/controls",
            "_view_module_version": "1.5.0",
            "_view_name": "HBoxView",
            "box_style": "",
            "children": [
              "IPY_MODEL_d451977539dc462381ae23b45b67e35c",
              "IPY_MODEL_79271d79960a49f986f1a5d10af3534c",
              "IPY_MODEL_4efecfedb4764405af35cb3b8b5ee776"
            ],
            "layout": "IPY_MODEL_0978d1dee52a449fbd27ed5b68846746"
          }
        },
        "d451977539dc462381ae23b45b67e35c": {
          "model_module": "@jupyter-widgets/controls",
          "model_name": "HTMLModel",
          "model_module_version": "1.5.0",
          "state": {
            "_dom_classes": [],
            "_model_module": "@jupyter-widgets/controls",
            "_model_module_version": "1.5.0",
            "_model_name": "HTMLModel",
            "_view_count": null,
            "_view_module": "@jupyter-widgets/controls",
            "_view_module_version": "1.5.0",
            "_view_name": "HTMLView",
            "description": "",
            "description_tooltip": null,
            "layout": "IPY_MODEL_da47cc7992ee48d89b6b636508d5f5b8",
            "placeholder": "​",
            "style": "IPY_MODEL_b9e6a01ee21f4341b09e21c71190179c",
            "value": "modules.json: 100%"
          }
        },
        "79271d79960a49f986f1a5d10af3534c": {
          "model_module": "@jupyter-widgets/controls",
          "model_name": "FloatProgressModel",
          "model_module_version": "1.5.0",
          "state": {
            "_dom_classes": [],
            "_model_module": "@jupyter-widgets/controls",
            "_model_module_version": "1.5.0",
            "_model_name": "FloatProgressModel",
            "_view_count": null,
            "_view_module": "@jupyter-widgets/controls",
            "_view_module_version": "1.5.0",
            "_view_name": "ProgressView",
            "bar_style": "success",
            "description": "",
            "description_tooltip": null,
            "layout": "IPY_MODEL_1af9487a77ba4ca2ba177f164cb2e1ba",
            "max": 349,
            "min": 0,
            "orientation": "horizontal",
            "style": "IPY_MODEL_7b7243503e4d4288b517514d22471515",
            "value": 349
          }
        },
        "4efecfedb4764405af35cb3b8b5ee776": {
          "model_module": "@jupyter-widgets/controls",
          "model_name": "HTMLModel",
          "model_module_version": "1.5.0",
          "state": {
            "_dom_classes": [],
            "_model_module": "@jupyter-widgets/controls",
            "_model_module_version": "1.5.0",
            "_model_name": "HTMLModel",
            "_view_count": null,
            "_view_module": "@jupyter-widgets/controls",
            "_view_module_version": "1.5.0",
            "_view_name": "HTMLView",
            "description": "",
            "description_tooltip": null,
            "layout": "IPY_MODEL_bc946e7c5ed944e39d487c106abb3e04",
            "placeholder": "​",
            "style": "IPY_MODEL_6ae959c16943438cac21fdfb5e3708c0",
            "value": " 349/349 [00:00&lt;00:00, 2.64kB/s]"
          }
        },
        "0978d1dee52a449fbd27ed5b68846746": {
          "model_module": "@jupyter-widgets/base",
          "model_name": "LayoutModel",
          "model_module_version": "1.2.0",
          "state": {
            "_model_module": "@jupyter-widgets/base",
            "_model_module_version": "1.2.0",
            "_model_name": "LayoutModel",
            "_view_count": null,
            "_view_module": "@jupyter-widgets/base",
            "_view_module_version": "1.2.0",
            "_view_name": "LayoutView",
            "align_content": null,
            "align_items": null,
            "align_self": null,
            "border": null,
            "bottom": null,
            "display": null,
            "flex": null,
            "flex_flow": null,
            "grid_area": null,
            "grid_auto_columns": null,
            "grid_auto_flow": null,
            "grid_auto_rows": null,
            "grid_column": null,
            "grid_gap": null,
            "grid_row": null,
            "grid_template_areas": null,
            "grid_template_columns": null,
            "grid_template_rows": null,
            "height": null,
            "justify_content": null,
            "justify_items": null,
            "left": null,
            "margin": null,
            "max_height": null,
            "max_width": null,
            "min_height": null,
            "min_width": null,
            "object_fit": null,
            "object_position": null,
            "order": null,
            "overflow": null,
            "overflow_x": null,
            "overflow_y": null,
            "padding": null,
            "right": null,
            "top": null,
            "visibility": null,
            "width": null
          }
        },
        "da47cc7992ee48d89b6b636508d5f5b8": {
          "model_module": "@jupyter-widgets/base",
          "model_name": "LayoutModel",
          "model_module_version": "1.2.0",
          "state": {
            "_model_module": "@jupyter-widgets/base",
            "_model_module_version": "1.2.0",
            "_model_name": "LayoutModel",
            "_view_count": null,
            "_view_module": "@jupyter-widgets/base",
            "_view_module_version": "1.2.0",
            "_view_name": "LayoutView",
            "align_content": null,
            "align_items": null,
            "align_self": null,
            "border": null,
            "bottom": null,
            "display": null,
            "flex": null,
            "flex_flow": null,
            "grid_area": null,
            "grid_auto_columns": null,
            "grid_auto_flow": null,
            "grid_auto_rows": null,
            "grid_column": null,
            "grid_gap": null,
            "grid_row": null,
            "grid_template_areas": null,
            "grid_template_columns": null,
            "grid_template_rows": null,
            "height": null,
            "justify_content": null,
            "justify_items": null,
            "left": null,
            "margin": null,
            "max_height": null,
            "max_width": null,
            "min_height": null,
            "min_width": null,
            "object_fit": null,
            "object_position": null,
            "order": null,
            "overflow": null,
            "overflow_x": null,
            "overflow_y": null,
            "padding": null,
            "right": null,
            "top": null,
            "visibility": null,
            "width": null
          }
        },
        "b9e6a01ee21f4341b09e21c71190179c": {
          "model_module": "@jupyter-widgets/controls",
          "model_name": "DescriptionStyleModel",
          "model_module_version": "1.5.0",
          "state": {
            "_model_module": "@jupyter-widgets/controls",
            "_model_module_version": "1.5.0",
            "_model_name": "DescriptionStyleModel",
            "_view_count": null,
            "_view_module": "@jupyter-widgets/base",
            "_view_module_version": "1.2.0",
            "_view_name": "StyleView",
            "description_width": ""
          }
        },
        "1af9487a77ba4ca2ba177f164cb2e1ba": {
          "model_module": "@jupyter-widgets/base",
          "model_name": "LayoutModel",
          "model_module_version": "1.2.0",
          "state": {
            "_model_module": "@jupyter-widgets/base",
            "_model_module_version": "1.2.0",
            "_model_name": "LayoutModel",
            "_view_count": null,
            "_view_module": "@jupyter-widgets/base",
            "_view_module_version": "1.2.0",
            "_view_name": "LayoutView",
            "align_content": null,
            "align_items": null,
            "align_self": null,
            "border": null,
            "bottom": null,
            "display": null,
            "flex": null,
            "flex_flow": null,
            "grid_area": null,
            "grid_auto_columns": null,
            "grid_auto_flow": null,
            "grid_auto_rows": null,
            "grid_column": null,
            "grid_gap": null,
            "grid_row": null,
            "grid_template_areas": null,
            "grid_template_columns": null,
            "grid_template_rows": null,
            "height": null,
            "justify_content": null,
            "justify_items": null,
            "left": null,
            "margin": null,
            "max_height": null,
            "max_width": null,
            "min_height": null,
            "min_width": null,
            "object_fit": null,
            "object_position": null,
            "order": null,
            "overflow": null,
            "overflow_x": null,
            "overflow_y": null,
            "padding": null,
            "right": null,
            "top": null,
            "visibility": null,
            "width": null
          }
        },
        "7b7243503e4d4288b517514d22471515": {
          "model_module": "@jupyter-widgets/controls",
          "model_name": "ProgressStyleModel",
          "model_module_version": "1.5.0",
          "state": {
            "_model_module": "@jupyter-widgets/controls",
            "_model_module_version": "1.5.0",
            "_model_name": "ProgressStyleModel",
            "_view_count": null,
            "_view_module": "@jupyter-widgets/base",
            "_view_module_version": "1.2.0",
            "_view_name": "StyleView",
            "bar_color": null,
            "description_width": ""
          }
        },
        "bc946e7c5ed944e39d487c106abb3e04": {
          "model_module": "@jupyter-widgets/base",
          "model_name": "LayoutModel",
          "model_module_version": "1.2.0",
          "state": {
            "_model_module": "@jupyter-widgets/base",
            "_model_module_version": "1.2.0",
            "_model_name": "LayoutModel",
            "_view_count": null,
            "_view_module": "@jupyter-widgets/base",
            "_view_module_version": "1.2.0",
            "_view_name": "LayoutView",
            "align_content": null,
            "align_items": null,
            "align_self": null,
            "border": null,
            "bottom": null,
            "display": null,
            "flex": null,
            "flex_flow": null,
            "grid_area": null,
            "grid_auto_columns": null,
            "grid_auto_flow": null,
            "grid_auto_rows": null,
            "grid_column": null,
            "grid_gap": null,
            "grid_row": null,
            "grid_template_areas": null,
            "grid_template_columns": null,
            "grid_template_rows": null,
            "height": null,
            "justify_content": null,
            "justify_items": null,
            "left": null,
            "margin": null,
            "max_height": null,
            "max_width": null,
            "min_height": null,
            "min_width": null,
            "object_fit": null,
            "object_position": null,
            "order": null,
            "overflow": null,
            "overflow_x": null,
            "overflow_y": null,
            "padding": null,
            "right": null,
            "top": null,
            "visibility": null,
            "width": null
          }
        },
        "6ae959c16943438cac21fdfb5e3708c0": {
          "model_module": "@jupyter-widgets/controls",
          "model_name": "DescriptionStyleModel",
          "model_module_version": "1.5.0",
          "state": {
            "_model_module": "@jupyter-widgets/controls",
            "_model_module_version": "1.5.0",
            "_model_name": "DescriptionStyleModel",
            "_view_count": null,
            "_view_module": "@jupyter-widgets/base",
            "_view_module_version": "1.2.0",
            "_view_name": "StyleView",
            "description_width": ""
          }
        },
        "af1d268e96b6472cb981b507c414d6a4": {
          "model_module": "@jupyter-widgets/controls",
          "model_name": "HBoxModel",
          "model_module_version": "1.5.0",
          "state": {
            "_dom_classes": [],
            "_model_module": "@jupyter-widgets/controls",
            "_model_module_version": "1.5.0",
            "_model_name": "HBoxModel",
            "_view_count": null,
            "_view_module": "@jupyter-widgets/controls",
            "_view_module_version": "1.5.0",
            "_view_name": "HBoxView",
            "box_style": "",
            "children": [
              "IPY_MODEL_33cb675102d1408db1b14cebed49d077",
              "IPY_MODEL_2fa0aac734224820acd64835c59e1038",
              "IPY_MODEL_eae54f01f49b4be5a7dafd1e37e39752"
            ],
            "layout": "IPY_MODEL_23afd8749d8242be9122f14aa821ab12"
          }
        },
        "33cb675102d1408db1b14cebed49d077": {
          "model_module": "@jupyter-widgets/controls",
          "model_name": "HTMLModel",
          "model_module_version": "1.5.0",
          "state": {
            "_dom_classes": [],
            "_model_module": "@jupyter-widgets/controls",
            "_model_module_version": "1.5.0",
            "_model_name": "HTMLModel",
            "_view_count": null,
            "_view_module": "@jupyter-widgets/controls",
            "_view_module_version": "1.5.0",
            "_view_name": "HTMLView",
            "description": "",
            "description_tooltip": null,
            "layout": "IPY_MODEL_c329dc547d1f431f9f768a0b28133dc0",
            "placeholder": "​",
            "style": "IPY_MODEL_fe6b5a074dc843159b368c5756f8bba4",
            "value": "colbert_linear.pt: 100%"
          }
        },
        "2fa0aac734224820acd64835c59e1038": {
          "model_module": "@jupyter-widgets/controls",
          "model_name": "FloatProgressModel",
          "model_module_version": "1.5.0",
          "state": {
            "_dom_classes": [],
            "_model_module": "@jupyter-widgets/controls",
            "_model_module_version": "1.5.0",
            "_model_name": "FloatProgressModel",
            "_view_count": null,
            "_view_module": "@jupyter-widgets/controls",
            "_view_module_version": "1.5.0",
            "_view_name": "ProgressView",
            "bar_style": "success",
            "description": "",
            "description_tooltip": null,
            "layout": "IPY_MODEL_d18d0dcfc05b4d5ca2571c9ad3700456",
            "max": 2100674,
            "min": 0,
            "orientation": "horizontal",
            "style": "IPY_MODEL_487c4fa5ec4e43f1ac2099b20c1bd197",
            "value": 2100674
          }
        },
        "eae54f01f49b4be5a7dafd1e37e39752": {
          "model_module": "@jupyter-widgets/controls",
          "model_name": "HTMLModel",
          "model_module_version": "1.5.0",
          "state": {
            "_dom_classes": [],
            "_model_module": "@jupyter-widgets/controls",
            "_model_module_version": "1.5.0",
            "_model_name": "HTMLModel",
            "_view_count": null,
            "_view_module": "@jupyter-widgets/controls",
            "_view_module_version": "1.5.0",
            "_view_name": "HTMLView",
            "description": "",
            "description_tooltip": null,
            "layout": "IPY_MODEL_6bb0eb2ec5534595a6b3338826f0beb3",
            "placeholder": "​",
            "style": "IPY_MODEL_b6eeb25a45b94da29322a92640bc1567",
            "value": " 2.10M/2.10M [00:00&lt;00:00, 5.67MB/s]"
          }
        },
        "23afd8749d8242be9122f14aa821ab12": {
          "model_module": "@jupyter-widgets/base",
          "model_name": "LayoutModel",
          "model_module_version": "1.2.0",
          "state": {
            "_model_module": "@jupyter-widgets/base",
            "_model_module_version": "1.2.0",
            "_model_name": "LayoutModel",
            "_view_count": null,
            "_view_module": "@jupyter-widgets/base",
            "_view_module_version": "1.2.0",
            "_view_name": "LayoutView",
            "align_content": null,
            "align_items": null,
            "align_self": null,
            "border": null,
            "bottom": null,
            "display": null,
            "flex": null,
            "flex_flow": null,
            "grid_area": null,
            "grid_auto_columns": null,
            "grid_auto_flow": null,
            "grid_auto_rows": null,
            "grid_column": null,
            "grid_gap": null,
            "grid_row": null,
            "grid_template_areas": null,
            "grid_template_columns": null,
            "grid_template_rows": null,
            "height": null,
            "justify_content": null,
            "justify_items": null,
            "left": null,
            "margin": null,
            "max_height": null,
            "max_width": null,
            "min_height": null,
            "min_width": null,
            "object_fit": null,
            "object_position": null,
            "order": null,
            "overflow": null,
            "overflow_x": null,
            "overflow_y": null,
            "padding": null,
            "right": null,
            "top": null,
            "visibility": null,
            "width": null
          }
        },
        "c329dc547d1f431f9f768a0b28133dc0": {
          "model_module": "@jupyter-widgets/base",
          "model_name": "LayoutModel",
          "model_module_version": "1.2.0",
          "state": {
            "_model_module": "@jupyter-widgets/base",
            "_model_module_version": "1.2.0",
            "_model_name": "LayoutModel",
            "_view_count": null,
            "_view_module": "@jupyter-widgets/base",
            "_view_module_version": "1.2.0",
            "_view_name": "LayoutView",
            "align_content": null,
            "align_items": null,
            "align_self": null,
            "border": null,
            "bottom": null,
            "display": null,
            "flex": null,
            "flex_flow": null,
            "grid_area": null,
            "grid_auto_columns": null,
            "grid_auto_flow": null,
            "grid_auto_rows": null,
            "grid_column": null,
            "grid_gap": null,
            "grid_row": null,
            "grid_template_areas": null,
            "grid_template_columns": null,
            "grid_template_rows": null,
            "height": null,
            "justify_content": null,
            "justify_items": null,
            "left": null,
            "margin": null,
            "max_height": null,
            "max_width": null,
            "min_height": null,
            "min_width": null,
            "object_fit": null,
            "object_position": null,
            "order": null,
            "overflow": null,
            "overflow_x": null,
            "overflow_y": null,
            "padding": null,
            "right": null,
            "top": null,
            "visibility": null,
            "width": null
          }
        },
        "fe6b5a074dc843159b368c5756f8bba4": {
          "model_module": "@jupyter-widgets/controls",
          "model_name": "DescriptionStyleModel",
          "model_module_version": "1.5.0",
          "state": {
            "_model_module": "@jupyter-widgets/controls",
            "_model_module_version": "1.5.0",
            "_model_name": "DescriptionStyleModel",
            "_view_count": null,
            "_view_module": "@jupyter-widgets/base",
            "_view_module_version": "1.2.0",
            "_view_name": "StyleView",
            "description_width": ""
          }
        },
        "d18d0dcfc05b4d5ca2571c9ad3700456": {
          "model_module": "@jupyter-widgets/base",
          "model_name": "LayoutModel",
          "model_module_version": "1.2.0",
          "state": {
            "_model_module": "@jupyter-widgets/base",
            "_model_module_version": "1.2.0",
            "_model_name": "LayoutModel",
            "_view_count": null,
            "_view_module": "@jupyter-widgets/base",
            "_view_module_version": "1.2.0",
            "_view_name": "LayoutView",
            "align_content": null,
            "align_items": null,
            "align_self": null,
            "border": null,
            "bottom": null,
            "display": null,
            "flex": null,
            "flex_flow": null,
            "grid_area": null,
            "grid_auto_columns": null,
            "grid_auto_flow": null,
            "grid_auto_rows": null,
            "grid_column": null,
            "grid_gap": null,
            "grid_row": null,
            "grid_template_areas": null,
            "grid_template_columns": null,
            "grid_template_rows": null,
            "height": null,
            "justify_content": null,
            "justify_items": null,
            "left": null,
            "margin": null,
            "max_height": null,
            "max_width": null,
            "min_height": null,
            "min_width": null,
            "object_fit": null,
            "object_position": null,
            "order": null,
            "overflow": null,
            "overflow_x": null,
            "overflow_y": null,
            "padding": null,
            "right": null,
            "top": null,
            "visibility": null,
            "width": null
          }
        },
        "487c4fa5ec4e43f1ac2099b20c1bd197": {
          "model_module": "@jupyter-widgets/controls",
          "model_name": "ProgressStyleModel",
          "model_module_version": "1.5.0",
          "state": {
            "_model_module": "@jupyter-widgets/controls",
            "_model_module_version": "1.5.0",
            "_model_name": "ProgressStyleModel",
            "_view_count": null,
            "_view_module": "@jupyter-widgets/base",
            "_view_module_version": "1.2.0",
            "_view_name": "StyleView",
            "bar_color": null,
            "description_width": ""
          }
        },
        "6bb0eb2ec5534595a6b3338826f0beb3": {
          "model_module": "@jupyter-widgets/base",
          "model_name": "LayoutModel",
          "model_module_version": "1.2.0",
          "state": {
            "_model_module": "@jupyter-widgets/base",
            "_model_module_version": "1.2.0",
            "_model_name": "LayoutModel",
            "_view_count": null,
            "_view_module": "@jupyter-widgets/base",
            "_view_module_version": "1.2.0",
            "_view_name": "LayoutView",
            "align_content": null,
            "align_items": null,
            "align_self": null,
            "border": null,
            "bottom": null,
            "display": null,
            "flex": null,
            "flex_flow": null,
            "grid_area": null,
            "grid_auto_columns": null,
            "grid_auto_flow": null,
            "grid_auto_rows": null,
            "grid_column": null,
            "grid_gap": null,
            "grid_row": null,
            "grid_template_areas": null,
            "grid_template_columns": null,
            "grid_template_rows": null,
            "height": null,
            "justify_content": null,
            "justify_items": null,
            "left": null,
            "margin": null,
            "max_height": null,
            "max_width": null,
            "min_height": null,
            "min_width": null,
            "object_fit": null,
            "object_position": null,
            "order": null,
            "overflow": null,
            "overflow_x": null,
            "overflow_y": null,
            "padding": null,
            "right": null,
            "top": null,
            "visibility": null,
            "width": null
          }
        },
        "b6eeb25a45b94da29322a92640bc1567": {
          "model_module": "@jupyter-widgets/controls",
          "model_name": "DescriptionStyleModel",
          "model_module_version": "1.5.0",
          "state": {
            "_model_module": "@jupyter-widgets/controls",
            "_model_module_version": "1.5.0",
            "_model_name": "DescriptionStyleModel",
            "_view_count": null,
            "_view_module": "@jupyter-widgets/base",
            "_view_module_version": "1.2.0",
            "_view_name": "StyleView",
            "description_width": ""
          }
        },
        "43d03899c7ff4ac3b332d14e3ee55387": {
          "model_module": "@jupyter-widgets/controls",
          "model_name": "HBoxModel",
          "model_module_version": "1.5.0",
          "state": {
            "_dom_classes": [],
            "_model_module": "@jupyter-widgets/controls",
            "_model_module_version": "1.5.0",
            "_model_name": "HBoxModel",
            "_view_count": null,
            "_view_module": "@jupyter-widgets/controls",
            "_view_module_version": "1.5.0",
            "_view_name": "HBoxView",
            "box_style": "",
            "children": [
              "IPY_MODEL_74c815f903b8458c929ac3b800cf9640",
              "IPY_MODEL_a54d3ab3785a4eb795b94726a6b8e222",
              "IPY_MODEL_898c4cb9e647408d902ca1cc24c1d14c"
            ],
            "layout": "IPY_MODEL_a318f5a6bdac40b2a8718d4277dc8d70"
          }
        },
        "74c815f903b8458c929ac3b800cf9640": {
          "model_module": "@jupyter-widgets/controls",
          "model_name": "HTMLModel",
          "model_module_version": "1.5.0",
          "state": {
            "_dom_classes": [],
            "_model_module": "@jupyter-widgets/controls",
            "_model_module_version": "1.5.0",
            "_model_name": "HTMLModel",
            "_view_count": null,
            "_view_module": "@jupyter-widgets/controls",
            "_view_module_version": "1.5.0",
            "_view_name": "HTMLView",
            "description": "",
            "description_tooltip": null,
            "layout": "IPY_MODEL_e94f0a7c81f14978a95dd6113410a016",
            "placeholder": "​",
            "style": "IPY_MODEL_a6ec886d86bf4076b2c0ded008262eb0",
            "value": "sentence_bert_config.json: 100%"
          }
        },
        "a54d3ab3785a4eb795b94726a6b8e222": {
          "model_module": "@jupyter-widgets/controls",
          "model_name": "FloatProgressModel",
          "model_module_version": "1.5.0",
          "state": {
            "_dom_classes": [],
            "_model_module": "@jupyter-widgets/controls",
            "_model_module_version": "1.5.0",
            "_model_name": "FloatProgressModel",
            "_view_count": null,
            "_view_module": "@jupyter-widgets/controls",
            "_view_module_version": "1.5.0",
            "_view_name": "ProgressView",
            "bar_style": "success",
            "description": "",
            "description_tooltip": null,
            "layout": "IPY_MODEL_b9baafd80f5042ee9a98ba30a4768ca2",
            "max": 54,
            "min": 0,
            "orientation": "horizontal",
            "style": "IPY_MODEL_993a8083d5664c1facbc8b75655203f8",
            "value": 54
          }
        },
        "898c4cb9e647408d902ca1cc24c1d14c": {
          "model_module": "@jupyter-widgets/controls",
          "model_name": "HTMLModel",
          "model_module_version": "1.5.0",
          "state": {
            "_dom_classes": [],
            "_model_module": "@jupyter-widgets/controls",
            "_model_module_version": "1.5.0",
            "_model_name": "HTMLModel",
            "_view_count": null,
            "_view_module": "@jupyter-widgets/controls",
            "_view_module_version": "1.5.0",
            "_view_name": "HTMLView",
            "description": "",
            "description_tooltip": null,
            "layout": "IPY_MODEL_96c13241d01c4d1994c3198768d13fea",
            "placeholder": "​",
            "style": "IPY_MODEL_2eb61e524d284f66b80e6e53da780ae5",
            "value": " 54.0/54.0 [00:00&lt;00:00, 417B/s]"
          }
        },
        "a318f5a6bdac40b2a8718d4277dc8d70": {
          "model_module": "@jupyter-widgets/base",
          "model_name": "LayoutModel",
          "model_module_version": "1.2.0",
          "state": {
            "_model_module": "@jupyter-widgets/base",
            "_model_module_version": "1.2.0",
            "_model_name": "LayoutModel",
            "_view_count": null,
            "_view_module": "@jupyter-widgets/base",
            "_view_module_version": "1.2.0",
            "_view_name": "LayoutView",
            "align_content": null,
            "align_items": null,
            "align_self": null,
            "border": null,
            "bottom": null,
            "display": null,
            "flex": null,
            "flex_flow": null,
            "grid_area": null,
            "grid_auto_columns": null,
            "grid_auto_flow": null,
            "grid_auto_rows": null,
            "grid_column": null,
            "grid_gap": null,
            "grid_row": null,
            "grid_template_areas": null,
            "grid_template_columns": null,
            "grid_template_rows": null,
            "height": null,
            "justify_content": null,
            "justify_items": null,
            "left": null,
            "margin": null,
            "max_height": null,
            "max_width": null,
            "min_height": null,
            "min_width": null,
            "object_fit": null,
            "object_position": null,
            "order": null,
            "overflow": null,
            "overflow_x": null,
            "overflow_y": null,
            "padding": null,
            "right": null,
            "top": null,
            "visibility": null,
            "width": null
          }
        },
        "e94f0a7c81f14978a95dd6113410a016": {
          "model_module": "@jupyter-widgets/base",
          "model_name": "LayoutModel",
          "model_module_version": "1.2.0",
          "state": {
            "_model_module": "@jupyter-widgets/base",
            "_model_module_version": "1.2.0",
            "_model_name": "LayoutModel",
            "_view_count": null,
            "_view_module": "@jupyter-widgets/base",
            "_view_module_version": "1.2.0",
            "_view_name": "LayoutView",
            "align_content": null,
            "align_items": null,
            "align_self": null,
            "border": null,
            "bottom": null,
            "display": null,
            "flex": null,
            "flex_flow": null,
            "grid_area": null,
            "grid_auto_columns": null,
            "grid_auto_flow": null,
            "grid_auto_rows": null,
            "grid_column": null,
            "grid_gap": null,
            "grid_row": null,
            "grid_template_areas": null,
            "grid_template_columns": null,
            "grid_template_rows": null,
            "height": null,
            "justify_content": null,
            "justify_items": null,
            "left": null,
            "margin": null,
            "max_height": null,
            "max_width": null,
            "min_height": null,
            "min_width": null,
            "object_fit": null,
            "object_position": null,
            "order": null,
            "overflow": null,
            "overflow_x": null,
            "overflow_y": null,
            "padding": null,
            "right": null,
            "top": null,
            "visibility": null,
            "width": null
          }
        },
        "a6ec886d86bf4076b2c0ded008262eb0": {
          "model_module": "@jupyter-widgets/controls",
          "model_name": "DescriptionStyleModel",
          "model_module_version": "1.5.0",
          "state": {
            "_model_module": "@jupyter-widgets/controls",
            "_model_module_version": "1.5.0",
            "_model_name": "DescriptionStyleModel",
            "_view_count": null,
            "_view_module": "@jupyter-widgets/base",
            "_view_module_version": "1.2.0",
            "_view_name": "StyleView",
            "description_width": ""
          }
        },
        "b9baafd80f5042ee9a98ba30a4768ca2": {
          "model_module": "@jupyter-widgets/base",
          "model_name": "LayoutModel",
          "model_module_version": "1.2.0",
          "state": {
            "_model_module": "@jupyter-widgets/base",
            "_model_module_version": "1.2.0",
            "_model_name": "LayoutModel",
            "_view_count": null,
            "_view_module": "@jupyter-widgets/base",
            "_view_module_version": "1.2.0",
            "_view_name": "LayoutView",
            "align_content": null,
            "align_items": null,
            "align_self": null,
            "border": null,
            "bottom": null,
            "display": null,
            "flex": null,
            "flex_flow": null,
            "grid_area": null,
            "grid_auto_columns": null,
            "grid_auto_flow": null,
            "grid_auto_rows": null,
            "grid_column": null,
            "grid_gap": null,
            "grid_row": null,
            "grid_template_areas": null,
            "grid_template_columns": null,
            "grid_template_rows": null,
            "height": null,
            "justify_content": null,
            "justify_items": null,
            "left": null,
            "margin": null,
            "max_height": null,
            "max_width": null,
            "min_height": null,
            "min_width": null,
            "object_fit": null,
            "object_position": null,
            "order": null,
            "overflow": null,
            "overflow_x": null,
            "overflow_y": null,
            "padding": null,
            "right": null,
            "top": null,
            "visibility": null,
            "width": null
          }
        },
        "993a8083d5664c1facbc8b75655203f8": {
          "model_module": "@jupyter-widgets/controls",
          "model_name": "ProgressStyleModel",
          "model_module_version": "1.5.0",
          "state": {
            "_model_module": "@jupyter-widgets/controls",
            "_model_module_version": "1.5.0",
            "_model_name": "ProgressStyleModel",
            "_view_count": null,
            "_view_module": "@jupyter-widgets/base",
            "_view_module_version": "1.2.0",
            "_view_name": "StyleView",
            "bar_color": null,
            "description_width": ""
          }
        },
        "96c13241d01c4d1994c3198768d13fea": {
          "model_module": "@jupyter-widgets/base",
          "model_name": "LayoutModel",
          "model_module_version": "1.2.0",
          "state": {
            "_model_module": "@jupyter-widgets/base",
            "_model_module_version": "1.2.0",
            "_model_name": "LayoutModel",
            "_view_count": null,
            "_view_module": "@jupyter-widgets/base",
            "_view_module_version": "1.2.0",
            "_view_name": "LayoutView",
            "align_content": null,
            "align_items": null,
            "align_self": null,
            "border": null,
            "bottom": null,
            "display": null,
            "flex": null,
            "flex_flow": null,
            "grid_area": null,
            "grid_auto_columns": null,
            "grid_auto_flow": null,
            "grid_auto_rows": null,
            "grid_column": null,
            "grid_gap": null,
            "grid_row": null,
            "grid_template_areas": null,
            "grid_template_columns": null,
            "grid_template_rows": null,
            "height": null,
            "justify_content": null,
            "justify_items": null,
            "left": null,
            "margin": null,
            "max_height": null,
            "max_width": null,
            "min_height": null,
            "min_width": null,
            "object_fit": null,
            "object_position": null,
            "order": null,
            "overflow": null,
            "overflow_x": null,
            "overflow_y": null,
            "padding": null,
            "right": null,
            "top": null,
            "visibility": null,
            "width": null
          }
        },
        "2eb61e524d284f66b80e6e53da780ae5": {
          "model_module": "@jupyter-widgets/controls",
          "model_name": "DescriptionStyleModel",
          "model_module_version": "1.5.0",
          "state": {
            "_model_module": "@jupyter-widgets/controls",
            "_model_module_version": "1.5.0",
            "_model_name": "DescriptionStyleModel",
            "_view_count": null,
            "_view_module": "@jupyter-widgets/base",
            "_view_module_version": "1.2.0",
            "_view_name": "StyleView",
            "description_width": ""
          }
        },
        "4f7fb3d5d05e4961b4b2584b2112b00d": {
          "model_module": "@jupyter-widgets/controls",
          "model_name": "HBoxModel",
          "model_module_version": "1.5.0",
          "state": {
            "_dom_classes": [],
            "_model_module": "@jupyter-widgets/controls",
            "_model_module_version": "1.5.0",
            "_model_name": "HBoxModel",
            "_view_count": null,
            "_view_module": "@jupyter-widgets/controls",
            "_view_module_version": "1.5.0",
            "_view_name": "HBoxView",
            "box_style": "",
            "children": [
              "IPY_MODEL_0c826d9e99204394818b1a1be2a55f29",
              "IPY_MODEL_4e4f561b1c19430e9a9e3dcf17cc4595",
              "IPY_MODEL_7cadd0dc2a934950b42761ef53e2591a"
            ],
            "layout": "IPY_MODEL_33b9389e986a4e4fa38b384002eadb7c"
          }
        },
        "0c826d9e99204394818b1a1be2a55f29": {
          "model_module": "@jupyter-widgets/controls",
          "model_name": "HTMLModel",
          "model_module_version": "1.5.0",
          "state": {
            "_dom_classes": [],
            "_model_module": "@jupyter-widgets/controls",
            "_model_module_version": "1.5.0",
            "_model_name": "HTMLModel",
            "_view_count": null,
            "_view_module": "@jupyter-widgets/controls",
            "_view_module_version": "1.5.0",
            "_view_name": "HTMLView",
            "description": "",
            "description_tooltip": null,
            "layout": "IPY_MODEL_2b029996d3d3437ca2e67ec73034b18b",
            "placeholder": "​",
            "style": "IPY_MODEL_49b795f04c7c47a0b55e198ea4de2c52",
            "value": "imgs/long.jpg: 100%"
          }
        },
        "4e4f561b1c19430e9a9e3dcf17cc4595": {
          "model_module": "@jupyter-widgets/controls",
          "model_name": "FloatProgressModel",
          "model_module_version": "1.5.0",
          "state": {
            "_dom_classes": [],
            "_model_module": "@jupyter-widgets/controls",
            "_model_module_version": "1.5.0",
            "_model_name": "FloatProgressModel",
            "_view_count": null,
            "_view_module": "@jupyter-widgets/controls",
            "_view_module_version": "1.5.0",
            "_view_name": "ProgressView",
            "bar_style": "success",
            "description": "",
            "description_tooltip": null,
            "layout": "IPY_MODEL_b4fcab2e1e6e49aaabda67249fb34a01",
            "max": 485432,
            "min": 0,
            "orientation": "horizontal",
            "style": "IPY_MODEL_e1ae33a4fc244fc9b6a925a879919b26",
            "value": 485432
          }
        },
        "7cadd0dc2a934950b42761ef53e2591a": {
          "model_module": "@jupyter-widgets/controls",
          "model_name": "HTMLModel",
          "model_module_version": "1.5.0",
          "state": {
            "_dom_classes": [],
            "_model_module": "@jupyter-widgets/controls",
            "_model_module_version": "1.5.0",
            "_model_name": "HTMLModel",
            "_view_count": null,
            "_view_module": "@jupyter-widgets/controls",
            "_view_module_version": "1.5.0",
            "_view_name": "HTMLView",
            "description": "",
            "description_tooltip": null,
            "layout": "IPY_MODEL_2d6e8cf492c442e382dbf6d92efc925a",
            "placeholder": "​",
            "style": "IPY_MODEL_c135831e286c4033ba345217931db775",
            "value": " 485k/485k [00:01&lt;00:00, 452kB/s]"
          }
        },
        "33b9389e986a4e4fa38b384002eadb7c": {
          "model_module": "@jupyter-widgets/base",
          "model_name": "LayoutModel",
          "model_module_version": "1.2.0",
          "state": {
            "_model_module": "@jupyter-widgets/base",
            "_model_module_version": "1.2.0",
            "_model_name": "LayoutModel",
            "_view_count": null,
            "_view_module": "@jupyter-widgets/base",
            "_view_module_version": "1.2.0",
            "_view_name": "LayoutView",
            "align_content": null,
            "align_items": null,
            "align_self": null,
            "border": null,
            "bottom": null,
            "display": null,
            "flex": null,
            "flex_flow": null,
            "grid_area": null,
            "grid_auto_columns": null,
            "grid_auto_flow": null,
            "grid_auto_rows": null,
            "grid_column": null,
            "grid_gap": null,
            "grid_row": null,
            "grid_template_areas": null,
            "grid_template_columns": null,
            "grid_template_rows": null,
            "height": null,
            "justify_content": null,
            "justify_items": null,
            "left": null,
            "margin": null,
            "max_height": null,
            "max_width": null,
            "min_height": null,
            "min_width": null,
            "object_fit": null,
            "object_position": null,
            "order": null,
            "overflow": null,
            "overflow_x": null,
            "overflow_y": null,
            "padding": null,
            "right": null,
            "top": null,
            "visibility": null,
            "width": null
          }
        },
        "2b029996d3d3437ca2e67ec73034b18b": {
          "model_module": "@jupyter-widgets/base",
          "model_name": "LayoutModel",
          "model_module_version": "1.2.0",
          "state": {
            "_model_module": "@jupyter-widgets/base",
            "_model_module_version": "1.2.0",
            "_model_name": "LayoutModel",
            "_view_count": null,
            "_view_module": "@jupyter-widgets/base",
            "_view_module_version": "1.2.0",
            "_view_name": "LayoutView",
            "align_content": null,
            "align_items": null,
            "align_self": null,
            "border": null,
            "bottom": null,
            "display": null,
            "flex": null,
            "flex_flow": null,
            "grid_area": null,
            "grid_auto_columns": null,
            "grid_auto_flow": null,
            "grid_auto_rows": null,
            "grid_column": null,
            "grid_gap": null,
            "grid_row": null,
            "grid_template_areas": null,
            "grid_template_columns": null,
            "grid_template_rows": null,
            "height": null,
            "justify_content": null,
            "justify_items": null,
            "left": null,
            "margin": null,
            "max_height": null,
            "max_width": null,
            "min_height": null,
            "min_width": null,
            "object_fit": null,
            "object_position": null,
            "order": null,
            "overflow": null,
            "overflow_x": null,
            "overflow_y": null,
            "padding": null,
            "right": null,
            "top": null,
            "visibility": null,
            "width": null
          }
        },
        "49b795f04c7c47a0b55e198ea4de2c52": {
          "model_module": "@jupyter-widgets/controls",
          "model_name": "DescriptionStyleModel",
          "model_module_version": "1.5.0",
          "state": {
            "_model_module": "@jupyter-widgets/controls",
            "_model_module_version": "1.5.0",
            "_model_name": "DescriptionStyleModel",
            "_view_count": null,
            "_view_module": "@jupyter-widgets/base",
            "_view_module_version": "1.2.0",
            "_view_name": "StyleView",
            "description_width": ""
          }
        },
        "b4fcab2e1e6e49aaabda67249fb34a01": {
          "model_module": "@jupyter-widgets/base",
          "model_name": "LayoutModel",
          "model_module_version": "1.2.0",
          "state": {
            "_model_module": "@jupyter-widgets/base",
            "_model_module_version": "1.2.0",
            "_model_name": "LayoutModel",
            "_view_count": null,
            "_view_module": "@jupyter-widgets/base",
            "_view_module_version": "1.2.0",
            "_view_name": "LayoutView",
            "align_content": null,
            "align_items": null,
            "align_self": null,
            "border": null,
            "bottom": null,
            "display": null,
            "flex": null,
            "flex_flow": null,
            "grid_area": null,
            "grid_auto_columns": null,
            "grid_auto_flow": null,
            "grid_auto_rows": null,
            "grid_column": null,
            "grid_gap": null,
            "grid_row": null,
            "grid_template_areas": null,
            "grid_template_columns": null,
            "grid_template_rows": null,
            "height": null,
            "justify_content": null,
            "justify_items": null,
            "left": null,
            "margin": null,
            "max_height": null,
            "max_width": null,
            "min_height": null,
            "min_width": null,
            "object_fit": null,
            "object_position": null,
            "order": null,
            "overflow": null,
            "overflow_x": null,
            "overflow_y": null,
            "padding": null,
            "right": null,
            "top": null,
            "visibility": null,
            "width": null
          }
        },
        "e1ae33a4fc244fc9b6a925a879919b26": {
          "model_module": "@jupyter-widgets/controls",
          "model_name": "ProgressStyleModel",
          "model_module_version": "1.5.0",
          "state": {
            "_model_module": "@jupyter-widgets/controls",
            "_model_module_version": "1.5.0",
            "_model_name": "ProgressStyleModel",
            "_view_count": null,
            "_view_module": "@jupyter-widgets/base",
            "_view_module_version": "1.2.0",
            "_view_name": "StyleView",
            "bar_color": null,
            "description_width": ""
          }
        },
        "2d6e8cf492c442e382dbf6d92efc925a": {
          "model_module": "@jupyter-widgets/base",
          "model_name": "LayoutModel",
          "model_module_version": "1.2.0",
          "state": {
            "_model_module": "@jupyter-widgets/base",
            "_model_module_version": "1.2.0",
            "_model_name": "LayoutModel",
            "_view_count": null,
            "_view_module": "@jupyter-widgets/base",
            "_view_module_version": "1.2.0",
            "_view_name": "LayoutView",
            "align_content": null,
            "align_items": null,
            "align_self": null,
            "border": null,
            "bottom": null,
            "display": null,
            "flex": null,
            "flex_flow": null,
            "grid_area": null,
            "grid_auto_columns": null,
            "grid_auto_flow": null,
            "grid_auto_rows": null,
            "grid_column": null,
            "grid_gap": null,
            "grid_row": null,
            "grid_template_areas": null,
            "grid_template_columns": null,
            "grid_template_rows": null,
            "height": null,
            "justify_content": null,
            "justify_items": null,
            "left": null,
            "margin": null,
            "max_height": null,
            "max_width": null,
            "min_height": null,
            "min_width": null,
            "object_fit": null,
            "object_position": null,
            "order": null,
            "overflow": null,
            "overflow_x": null,
            "overflow_y": null,
            "padding": null,
            "right": null,
            "top": null,
            "visibility": null,
            "width": null
          }
        },
        "c135831e286c4033ba345217931db775": {
          "model_module": "@jupyter-widgets/controls",
          "model_name": "DescriptionStyleModel",
          "model_module_version": "1.5.0",
          "state": {
            "_model_module": "@jupyter-widgets/controls",
            "_model_module_version": "1.5.0",
            "_model_name": "DescriptionStyleModel",
            "_view_count": null,
            "_view_module": "@jupyter-widgets/base",
            "_view_module_version": "1.2.0",
            "_view_name": "StyleView",
            "description_width": ""
          }
        },
        "c7e7141e9f8544dc82bbcd8d0ea0d198": {
          "model_module": "@jupyter-widgets/controls",
          "model_name": "HBoxModel",
          "model_module_version": "1.5.0",
          "state": {
            "_dom_classes": [],
            "_model_module": "@jupyter-widgets/controls",
            "_model_module_version": "1.5.0",
            "_model_name": "HBoxModel",
            "_view_count": null,
            "_view_module": "@jupyter-widgets/controls",
            "_view_module_version": "1.5.0",
            "_view_name": "HBoxView",
            "box_style": "",
            "children": [
              "IPY_MODEL_bff4a6b23ec1493daded1655ea734793",
              "IPY_MODEL_9eafa237b3624f8583ae50cc2cd38c03",
              "IPY_MODEL_fd864c0ad7b749559cbe84c72bc9ac8e"
            ],
            "layout": "IPY_MODEL_778f4dae62ea4038873b2a5a68477dc0"
          }
        },
        "bff4a6b23ec1493daded1655ea734793": {
          "model_module": "@jupyter-widgets/controls",
          "model_name": "HTMLModel",
          "model_module_version": "1.5.0",
          "state": {
            "_dom_classes": [],
            "_model_module": "@jupyter-widgets/controls",
            "_model_module_version": "1.5.0",
            "_model_name": "HTMLModel",
            "_view_count": null,
            "_view_module": "@jupyter-widgets/controls",
            "_view_module_version": "1.5.0",
            "_view_name": "HTMLView",
            "description": "",
            "description_tooltip": null,
            "layout": "IPY_MODEL_8bf89f37a4154c69a1a10d0b4dcac3ab",
            "placeholder": "​",
            "style": "IPY_MODEL_d87a9599ca5d40dcaa96f72c648a7c8f",
            "value": "imgs/miracl.jpg: 100%"
          }
        },
        "9eafa237b3624f8583ae50cc2cd38c03": {
          "model_module": "@jupyter-widgets/controls",
          "model_name": "FloatProgressModel",
          "model_module_version": "1.5.0",
          "state": {
            "_dom_classes": [],
            "_model_module": "@jupyter-widgets/controls",
            "_model_module_version": "1.5.0",
            "_model_name": "FloatProgressModel",
            "_view_count": null,
            "_view_module": "@jupyter-widgets/controls",
            "_view_module_version": "1.5.0",
            "_view_name": "ProgressView",
            "bar_style": "success",
            "description": "",
            "description_tooltip": null,
            "layout": "IPY_MODEL_536f79004be04244b5e300dea852b211",
            "max": 447641,
            "min": 0,
            "orientation": "horizontal",
            "style": "IPY_MODEL_5ebce82154484e9a9391676865ef7836",
            "value": 447641
          }
        },
        "fd864c0ad7b749559cbe84c72bc9ac8e": {
          "model_module": "@jupyter-widgets/controls",
          "model_name": "HTMLModel",
          "model_module_version": "1.5.0",
          "state": {
            "_dom_classes": [],
            "_model_module": "@jupyter-widgets/controls",
            "_model_module_version": "1.5.0",
            "_model_name": "HTMLModel",
            "_view_count": null,
            "_view_module": "@jupyter-widgets/controls",
            "_view_module_version": "1.5.0",
            "_view_name": "HTMLView",
            "description": "",
            "description_tooltip": null,
            "layout": "IPY_MODEL_d31470ccb0aa4f4d9e7dc86e34d84556",
            "placeholder": "​",
            "style": "IPY_MODEL_34a7f48e67d74644abcfc29df72b5fbf",
            "value": " 448k/448k [00:00&lt;00:00, 1.99MB/s]"
          }
        },
        "778f4dae62ea4038873b2a5a68477dc0": {
          "model_module": "@jupyter-widgets/base",
          "model_name": "LayoutModel",
          "model_module_version": "1.2.0",
          "state": {
            "_model_module": "@jupyter-widgets/base",
            "_model_module_version": "1.2.0",
            "_model_name": "LayoutModel",
            "_view_count": null,
            "_view_module": "@jupyter-widgets/base",
            "_view_module_version": "1.2.0",
            "_view_name": "LayoutView",
            "align_content": null,
            "align_items": null,
            "align_self": null,
            "border": null,
            "bottom": null,
            "display": null,
            "flex": null,
            "flex_flow": null,
            "grid_area": null,
            "grid_auto_columns": null,
            "grid_auto_flow": null,
            "grid_auto_rows": null,
            "grid_column": null,
            "grid_gap": null,
            "grid_row": null,
            "grid_template_areas": null,
            "grid_template_columns": null,
            "grid_template_rows": null,
            "height": null,
            "justify_content": null,
            "justify_items": null,
            "left": null,
            "margin": null,
            "max_height": null,
            "max_width": null,
            "min_height": null,
            "min_width": null,
            "object_fit": null,
            "object_position": null,
            "order": null,
            "overflow": null,
            "overflow_x": null,
            "overflow_y": null,
            "padding": null,
            "right": null,
            "top": null,
            "visibility": null,
            "width": null
          }
        },
        "8bf89f37a4154c69a1a10d0b4dcac3ab": {
          "model_module": "@jupyter-widgets/base",
          "model_name": "LayoutModel",
          "model_module_version": "1.2.0",
          "state": {
            "_model_module": "@jupyter-widgets/base",
            "_model_module_version": "1.2.0",
            "_model_name": "LayoutModel",
            "_view_count": null,
            "_view_module": "@jupyter-widgets/base",
            "_view_module_version": "1.2.0",
            "_view_name": "LayoutView",
            "align_content": null,
            "align_items": null,
            "align_self": null,
            "border": null,
            "bottom": null,
            "display": null,
            "flex": null,
            "flex_flow": null,
            "grid_area": null,
            "grid_auto_columns": null,
            "grid_auto_flow": null,
            "grid_auto_rows": null,
            "grid_column": null,
            "grid_gap": null,
            "grid_row": null,
            "grid_template_areas": null,
            "grid_template_columns": null,
            "grid_template_rows": null,
            "height": null,
            "justify_content": null,
            "justify_items": null,
            "left": null,
            "margin": null,
            "max_height": null,
            "max_width": null,
            "min_height": null,
            "min_width": null,
            "object_fit": null,
            "object_position": null,
            "order": null,
            "overflow": null,
            "overflow_x": null,
            "overflow_y": null,
            "padding": null,
            "right": null,
            "top": null,
            "visibility": null,
            "width": null
          }
        },
        "d87a9599ca5d40dcaa96f72c648a7c8f": {
          "model_module": "@jupyter-widgets/controls",
          "model_name": "DescriptionStyleModel",
          "model_module_version": "1.5.0",
          "state": {
            "_model_module": "@jupyter-widgets/controls",
            "_model_module_version": "1.5.0",
            "_model_name": "DescriptionStyleModel",
            "_view_count": null,
            "_view_module": "@jupyter-widgets/base",
            "_view_module_version": "1.2.0",
            "_view_name": "StyleView",
            "description_width": ""
          }
        },
        "536f79004be04244b5e300dea852b211": {
          "model_module": "@jupyter-widgets/base",
          "model_name": "LayoutModel",
          "model_module_version": "1.2.0",
          "state": {
            "_model_module": "@jupyter-widgets/base",
            "_model_module_version": "1.2.0",
            "_model_name": "LayoutModel",
            "_view_count": null,
            "_view_module": "@jupyter-widgets/base",
            "_view_module_version": "1.2.0",
            "_view_name": "LayoutView",
            "align_content": null,
            "align_items": null,
            "align_self": null,
            "border": null,
            "bottom": null,
            "display": null,
            "flex": null,
            "flex_flow": null,
            "grid_area": null,
            "grid_auto_columns": null,
            "grid_auto_flow": null,
            "grid_auto_rows": null,
            "grid_column": null,
            "grid_gap": null,
            "grid_row": null,
            "grid_template_areas": null,
            "grid_template_columns": null,
            "grid_template_rows": null,
            "height": null,
            "justify_content": null,
            "justify_items": null,
            "left": null,
            "margin": null,
            "max_height": null,
            "max_width": null,
            "min_height": null,
            "min_width": null,
            "object_fit": null,
            "object_position": null,
            "order": null,
            "overflow": null,
            "overflow_x": null,
            "overflow_y": null,
            "padding": null,
            "right": null,
            "top": null,
            "visibility": null,
            "width": null
          }
        },
        "5ebce82154484e9a9391676865ef7836": {
          "model_module": "@jupyter-widgets/controls",
          "model_name": "ProgressStyleModel",
          "model_module_version": "1.5.0",
          "state": {
            "_model_module": "@jupyter-widgets/controls",
            "_model_module_version": "1.5.0",
            "_model_name": "ProgressStyleModel",
            "_view_count": null,
            "_view_module": "@jupyter-widgets/base",
            "_view_module_version": "1.2.0",
            "_view_name": "StyleView",
            "bar_color": null,
            "description_width": ""
          }
        },
        "d31470ccb0aa4f4d9e7dc86e34d84556": {
          "model_module": "@jupyter-widgets/base",
          "model_name": "LayoutModel",
          "model_module_version": "1.2.0",
          "state": {
            "_model_module": "@jupyter-widgets/base",
            "_model_module_version": "1.2.0",
            "_model_name": "LayoutModel",
            "_view_count": null,
            "_view_module": "@jupyter-widgets/base",
            "_view_module_version": "1.2.0",
            "_view_name": "LayoutView",
            "align_content": null,
            "align_items": null,
            "align_self": null,
            "border": null,
            "bottom": null,
            "display": null,
            "flex": null,
            "flex_flow": null,
            "grid_area": null,
            "grid_auto_columns": null,
            "grid_auto_flow": null,
            "grid_auto_rows": null,
            "grid_column": null,
            "grid_gap": null,
            "grid_row": null,
            "grid_template_areas": null,
            "grid_template_columns": null,
            "grid_template_rows": null,
            "height": null,
            "justify_content": null,
            "justify_items": null,
            "left": null,
            "margin": null,
            "max_height": null,
            "max_width": null,
            "min_height": null,
            "min_width": null,
            "object_fit": null,
            "object_position": null,
            "order": null,
            "overflow": null,
            "overflow_x": null,
            "overflow_y": null,
            "padding": null,
            "right": null,
            "top": null,
            "visibility": null,
            "width": null
          }
        },
        "34a7f48e67d74644abcfc29df72b5fbf": {
          "model_module": "@jupyter-widgets/controls",
          "model_name": "DescriptionStyleModel",
          "model_module_version": "1.5.0",
          "state": {
            "_model_module": "@jupyter-widgets/controls",
            "_model_module_version": "1.5.0",
            "_model_name": "DescriptionStyleModel",
            "_view_count": null,
            "_view_module": "@jupyter-widgets/base",
            "_view_module_version": "1.2.0",
            "_view_name": "StyleView",
            "description_width": ""
          }
        },
        "5063e11b88b74d648cda77c120ffa029": {
          "model_module": "@jupyter-widgets/controls",
          "model_name": "HBoxModel",
          "model_module_version": "1.5.0",
          "state": {
            "_dom_classes": [],
            "_model_module": "@jupyter-widgets/controls",
            "_model_module_version": "1.5.0",
            "_model_name": "HBoxModel",
            "_view_count": null,
            "_view_module": "@jupyter-widgets/controls",
            "_view_module_version": "1.5.0",
            "_view_name": "HBoxView",
            "box_style": "",
            "children": [
              "IPY_MODEL_4fc961328ea54b03b9960ffef32416dc",
              "IPY_MODEL_565be6cd9bf64e9197ec72dfa49a64f5",
              "IPY_MODEL_bc95600b6a944b6b8b5396d4e60292a0"
            ],
            "layout": "IPY_MODEL_6133f2e0e8854aeaa79b9b8765676592"
          }
        },
        "4fc961328ea54b03b9960ffef32416dc": {
          "model_module": "@jupyter-widgets/controls",
          "model_name": "HTMLModel",
          "model_module_version": "1.5.0",
          "state": {
            "_dom_classes": [],
            "_model_module": "@jupyter-widgets/controls",
            "_model_module_version": "1.5.0",
            "_model_name": "HTMLModel",
            "_view_count": null,
            "_view_module": "@jupyter-widgets/controls",
            "_view_module_version": "1.5.0",
            "_view_name": "HTMLView",
            "description": "",
            "description_tooltip": null,
            "layout": "IPY_MODEL_46b989068c6d4cc79a335018c700962c",
            "placeholder": "​",
            "style": "IPY_MODEL_bf3827201e9e4e0cab388d7fa720e76c",
            "value": "special_tokens_map.json: 100%"
          }
        },
        "565be6cd9bf64e9197ec72dfa49a64f5": {
          "model_module": "@jupyter-widgets/controls",
          "model_name": "FloatProgressModel",
          "model_module_version": "1.5.0",
          "state": {
            "_dom_classes": [],
            "_model_module": "@jupyter-widgets/controls",
            "_model_module_version": "1.5.0",
            "_model_name": "FloatProgressModel",
            "_view_count": null,
            "_view_module": "@jupyter-widgets/controls",
            "_view_module_version": "1.5.0",
            "_view_name": "ProgressView",
            "bar_style": "success",
            "description": "",
            "description_tooltip": null,
            "layout": "IPY_MODEL_2b205768766e4f22b47a1894f8a90dbb",
            "max": 964,
            "min": 0,
            "orientation": "horizontal",
            "style": "IPY_MODEL_78ca22798c44427ca0acf42a2f143fac",
            "value": 964
          }
        },
        "bc95600b6a944b6b8b5396d4e60292a0": {
          "model_module": "@jupyter-widgets/controls",
          "model_name": "HTMLModel",
          "model_module_version": "1.5.0",
          "state": {
            "_dom_classes": [],
            "_model_module": "@jupyter-widgets/controls",
            "_model_module_version": "1.5.0",
            "_model_name": "HTMLModel",
            "_view_count": null,
            "_view_module": "@jupyter-widgets/controls",
            "_view_module_version": "1.5.0",
            "_view_name": "HTMLView",
            "description": "",
            "description_tooltip": null,
            "layout": "IPY_MODEL_5f2bce06939c449d96f9adae6ca064a3",
            "placeholder": "​",
            "style": "IPY_MODEL_c0b51a7d4efe4652bcd9ef0eb7097c98",
            "value": " 964/964 [00:00&lt;00:00, 7.65kB/s]"
          }
        },
        "6133f2e0e8854aeaa79b9b8765676592": {
          "model_module": "@jupyter-widgets/base",
          "model_name": "LayoutModel",
          "model_module_version": "1.2.0",
          "state": {
            "_model_module": "@jupyter-widgets/base",
            "_model_module_version": "1.2.0",
            "_model_name": "LayoutModel",
            "_view_count": null,
            "_view_module": "@jupyter-widgets/base",
            "_view_module_version": "1.2.0",
            "_view_name": "LayoutView",
            "align_content": null,
            "align_items": null,
            "align_self": null,
            "border": null,
            "bottom": null,
            "display": null,
            "flex": null,
            "flex_flow": null,
            "grid_area": null,
            "grid_auto_columns": null,
            "grid_auto_flow": null,
            "grid_auto_rows": null,
            "grid_column": null,
            "grid_gap": null,
            "grid_row": null,
            "grid_template_areas": null,
            "grid_template_columns": null,
            "grid_template_rows": null,
            "height": null,
            "justify_content": null,
            "justify_items": null,
            "left": null,
            "margin": null,
            "max_height": null,
            "max_width": null,
            "min_height": null,
            "min_width": null,
            "object_fit": null,
            "object_position": null,
            "order": null,
            "overflow": null,
            "overflow_x": null,
            "overflow_y": null,
            "padding": null,
            "right": null,
            "top": null,
            "visibility": null,
            "width": null
          }
        },
        "46b989068c6d4cc79a335018c700962c": {
          "model_module": "@jupyter-widgets/base",
          "model_name": "LayoutModel",
          "model_module_version": "1.2.0",
          "state": {
            "_model_module": "@jupyter-widgets/base",
            "_model_module_version": "1.2.0",
            "_model_name": "LayoutModel",
            "_view_count": null,
            "_view_module": "@jupyter-widgets/base",
            "_view_module_version": "1.2.0",
            "_view_name": "LayoutView",
            "align_content": null,
            "align_items": null,
            "align_self": null,
            "border": null,
            "bottom": null,
            "display": null,
            "flex": null,
            "flex_flow": null,
            "grid_area": null,
            "grid_auto_columns": null,
            "grid_auto_flow": null,
            "grid_auto_rows": null,
            "grid_column": null,
            "grid_gap": null,
            "grid_row": null,
            "grid_template_areas": null,
            "grid_template_columns": null,
            "grid_template_rows": null,
            "height": null,
            "justify_content": null,
            "justify_items": null,
            "left": null,
            "margin": null,
            "max_height": null,
            "max_width": null,
            "min_height": null,
            "min_width": null,
            "object_fit": null,
            "object_position": null,
            "order": null,
            "overflow": null,
            "overflow_x": null,
            "overflow_y": null,
            "padding": null,
            "right": null,
            "top": null,
            "visibility": null,
            "width": null
          }
        },
        "bf3827201e9e4e0cab388d7fa720e76c": {
          "model_module": "@jupyter-widgets/controls",
          "model_name": "DescriptionStyleModel",
          "model_module_version": "1.5.0",
          "state": {
            "_model_module": "@jupyter-widgets/controls",
            "_model_module_version": "1.5.0",
            "_model_name": "DescriptionStyleModel",
            "_view_count": null,
            "_view_module": "@jupyter-widgets/base",
            "_view_module_version": "1.2.0",
            "_view_name": "StyleView",
            "description_width": ""
          }
        },
        "2b205768766e4f22b47a1894f8a90dbb": {
          "model_module": "@jupyter-widgets/base",
          "model_name": "LayoutModel",
          "model_module_version": "1.2.0",
          "state": {
            "_model_module": "@jupyter-widgets/base",
            "_model_module_version": "1.2.0",
            "_model_name": "LayoutModel",
            "_view_count": null,
            "_view_module": "@jupyter-widgets/base",
            "_view_module_version": "1.2.0",
            "_view_name": "LayoutView",
            "align_content": null,
            "align_items": null,
            "align_self": null,
            "border": null,
            "bottom": null,
            "display": null,
            "flex": null,
            "flex_flow": null,
            "grid_area": null,
            "grid_auto_columns": null,
            "grid_auto_flow": null,
            "grid_auto_rows": null,
            "grid_column": null,
            "grid_gap": null,
            "grid_row": null,
            "grid_template_areas": null,
            "grid_template_columns": null,
            "grid_template_rows": null,
            "height": null,
            "justify_content": null,
            "justify_items": null,
            "left": null,
            "margin": null,
            "max_height": null,
            "max_width": null,
            "min_height": null,
            "min_width": null,
            "object_fit": null,
            "object_position": null,
            "order": null,
            "overflow": null,
            "overflow_x": null,
            "overflow_y": null,
            "padding": null,
            "right": null,
            "top": null,
            "visibility": null,
            "width": null
          }
        },
        "78ca22798c44427ca0acf42a2f143fac": {
          "model_module": "@jupyter-widgets/controls",
          "model_name": "ProgressStyleModel",
          "model_module_version": "1.5.0",
          "state": {
            "_model_module": "@jupyter-widgets/controls",
            "_model_module_version": "1.5.0",
            "_model_name": "ProgressStyleModel",
            "_view_count": null,
            "_view_module": "@jupyter-widgets/base",
            "_view_module_version": "1.2.0",
            "_view_name": "StyleView",
            "bar_color": null,
            "description_width": ""
          }
        },
        "5f2bce06939c449d96f9adae6ca064a3": {
          "model_module": "@jupyter-widgets/base",
          "model_name": "LayoutModel",
          "model_module_version": "1.2.0",
          "state": {
            "_model_module": "@jupyter-widgets/base",
            "_model_module_version": "1.2.0",
            "_model_name": "LayoutModel",
            "_view_count": null,
            "_view_module": "@jupyter-widgets/base",
            "_view_module_version": "1.2.0",
            "_view_name": "LayoutView",
            "align_content": null,
            "align_items": null,
            "align_self": null,
            "border": null,
            "bottom": null,
            "display": null,
            "flex": null,
            "flex_flow": null,
            "grid_area": null,
            "grid_auto_columns": null,
            "grid_auto_flow": null,
            "grid_auto_rows": null,
            "grid_column": null,
            "grid_gap": null,
            "grid_row": null,
            "grid_template_areas": null,
            "grid_template_columns": null,
            "grid_template_rows": null,
            "height": null,
            "justify_content": null,
            "justify_items": null,
            "left": null,
            "margin": null,
            "max_height": null,
            "max_width": null,
            "min_height": null,
            "min_width": null,
            "object_fit": null,
            "object_position": null,
            "order": null,
            "overflow": null,
            "overflow_x": null,
            "overflow_y": null,
            "padding": null,
            "right": null,
            "top": null,
            "visibility": null,
            "width": null
          }
        },
        "c0b51a7d4efe4652bcd9ef0eb7097c98": {
          "model_module": "@jupyter-widgets/controls",
          "model_name": "DescriptionStyleModel",
          "model_module_version": "1.5.0",
          "state": {
            "_model_module": "@jupyter-widgets/controls",
            "_model_module_version": "1.5.0",
            "_model_name": "DescriptionStyleModel",
            "_view_count": null,
            "_view_module": "@jupyter-widgets/base",
            "_view_module_version": "1.2.0",
            "_view_name": "StyleView",
            "description_width": ""
          }
        },
        "0a3a5c512ede42a1a45d20c4554ba7dc": {
          "model_module": "@jupyter-widgets/controls",
          "model_name": "HBoxModel",
          "model_module_version": "1.5.0",
          "state": {
            "_dom_classes": [],
            "_model_module": "@jupyter-widgets/controls",
            "_model_module_version": "1.5.0",
            "_model_name": "HBoxModel",
            "_view_count": null,
            "_view_module": "@jupyter-widgets/controls",
            "_view_module_version": "1.5.0",
            "_view_name": "HBoxView",
            "box_style": "",
            "children": [
              "IPY_MODEL_3ea12cefca654a5faf6859cf804fd027",
              "IPY_MODEL_55a6269856294d30b9dd01040c3fb0df",
              "IPY_MODEL_357564e674524ac58a08fe46794da7f4"
            ],
            "layout": "IPY_MODEL_4afd54cc9fcf4d2188d91316ded6430f"
          }
        },
        "3ea12cefca654a5faf6859cf804fd027": {
          "model_module": "@jupyter-widgets/controls",
          "model_name": "HTMLModel",
          "model_module_version": "1.5.0",
          "state": {
            "_dom_classes": [],
            "_model_module": "@jupyter-widgets/controls",
            "_model_module_version": "1.5.0",
            "_model_name": "HTMLModel",
            "_view_count": null,
            "_view_module": "@jupyter-widgets/controls",
            "_view_module_version": "1.5.0",
            "_view_name": "HTMLView",
            "description": "",
            "description_tooltip": null,
            "layout": "IPY_MODEL_c5aeb48b3627483b9f3ba6d03b3b8c69",
            "placeholder": "​",
            "style": "IPY_MODEL_7a37bf1f8bc447a980741bcba757746f",
            "value": "tokenizer_config.json: 100%"
          }
        },
        "55a6269856294d30b9dd01040c3fb0df": {
          "model_module": "@jupyter-widgets/controls",
          "model_name": "FloatProgressModel",
          "model_module_version": "1.5.0",
          "state": {
            "_dom_classes": [],
            "_model_module": "@jupyter-widgets/controls",
            "_model_module_version": "1.5.0",
            "_model_name": "FloatProgressModel",
            "_view_count": null,
            "_view_module": "@jupyter-widgets/controls",
            "_view_module_version": "1.5.0",
            "_view_name": "ProgressView",
            "bar_style": "success",
            "description": "",
            "description_tooltip": null,
            "layout": "IPY_MODEL_133e41fd459b4aba8bdd0181a03f201e",
            "max": 1313,
            "min": 0,
            "orientation": "horizontal",
            "style": "IPY_MODEL_dd6f157375e543b5832a712862f7f1c2",
            "value": 1313
          }
        },
        "357564e674524ac58a08fe46794da7f4": {
          "model_module": "@jupyter-widgets/controls",
          "model_name": "HTMLModel",
          "model_module_version": "1.5.0",
          "state": {
            "_dom_classes": [],
            "_model_module": "@jupyter-widgets/controls",
            "_model_module_version": "1.5.0",
            "_model_name": "HTMLModel",
            "_view_count": null,
            "_view_module": "@jupyter-widgets/controls",
            "_view_module_version": "1.5.0",
            "_view_name": "HTMLView",
            "description": "",
            "description_tooltip": null,
            "layout": "IPY_MODEL_f0b144d60234465ba9ad2416055ae3ad",
            "placeholder": "​",
            "style": "IPY_MODEL_fa192141ccb346c7852ff74c0b107400",
            "value": " 1.31k/1.31k [00:00&lt;00:00, 11.3kB/s]"
          }
        },
        "4afd54cc9fcf4d2188d91316ded6430f": {
          "model_module": "@jupyter-widgets/base",
          "model_name": "LayoutModel",
          "model_module_version": "1.2.0",
          "state": {
            "_model_module": "@jupyter-widgets/base",
            "_model_module_version": "1.2.0",
            "_model_name": "LayoutModel",
            "_view_count": null,
            "_view_module": "@jupyter-widgets/base",
            "_view_module_version": "1.2.0",
            "_view_name": "LayoutView",
            "align_content": null,
            "align_items": null,
            "align_self": null,
            "border": null,
            "bottom": null,
            "display": null,
            "flex": null,
            "flex_flow": null,
            "grid_area": null,
            "grid_auto_columns": null,
            "grid_auto_flow": null,
            "grid_auto_rows": null,
            "grid_column": null,
            "grid_gap": null,
            "grid_row": null,
            "grid_template_areas": null,
            "grid_template_columns": null,
            "grid_template_rows": null,
            "height": null,
            "justify_content": null,
            "justify_items": null,
            "left": null,
            "margin": null,
            "max_height": null,
            "max_width": null,
            "min_height": null,
            "min_width": null,
            "object_fit": null,
            "object_position": null,
            "order": null,
            "overflow": null,
            "overflow_x": null,
            "overflow_y": null,
            "padding": null,
            "right": null,
            "top": null,
            "visibility": null,
            "width": null
          }
        },
        "c5aeb48b3627483b9f3ba6d03b3b8c69": {
          "model_module": "@jupyter-widgets/base",
          "model_name": "LayoutModel",
          "model_module_version": "1.2.0",
          "state": {
            "_model_module": "@jupyter-widgets/base",
            "_model_module_version": "1.2.0",
            "_model_name": "LayoutModel",
            "_view_count": null,
            "_view_module": "@jupyter-widgets/base",
            "_view_module_version": "1.2.0",
            "_view_name": "LayoutView",
            "align_content": null,
            "align_items": null,
            "align_self": null,
            "border": null,
            "bottom": null,
            "display": null,
            "flex": null,
            "flex_flow": null,
            "grid_area": null,
            "grid_auto_columns": null,
            "grid_auto_flow": null,
            "grid_auto_rows": null,
            "grid_column": null,
            "grid_gap": null,
            "grid_row": null,
            "grid_template_areas": null,
            "grid_template_columns": null,
            "grid_template_rows": null,
            "height": null,
            "justify_content": null,
            "justify_items": null,
            "left": null,
            "margin": null,
            "max_height": null,
            "max_width": null,
            "min_height": null,
            "min_width": null,
            "object_fit": null,
            "object_position": null,
            "order": null,
            "overflow": null,
            "overflow_x": null,
            "overflow_y": null,
            "padding": null,
            "right": null,
            "top": null,
            "visibility": null,
            "width": null
          }
        },
        "7a37bf1f8bc447a980741bcba757746f": {
          "model_module": "@jupyter-widgets/controls",
          "model_name": "DescriptionStyleModel",
          "model_module_version": "1.5.0",
          "state": {
            "_model_module": "@jupyter-widgets/controls",
            "_model_module_version": "1.5.0",
            "_model_name": "DescriptionStyleModel",
            "_view_count": null,
            "_view_module": "@jupyter-widgets/base",
            "_view_module_version": "1.2.0",
            "_view_name": "StyleView",
            "description_width": ""
          }
        },
        "133e41fd459b4aba8bdd0181a03f201e": {
          "model_module": "@jupyter-widgets/base",
          "model_name": "LayoutModel",
          "model_module_version": "1.2.0",
          "state": {
            "_model_module": "@jupyter-widgets/base",
            "_model_module_version": "1.2.0",
            "_model_name": "LayoutModel",
            "_view_count": null,
            "_view_module": "@jupyter-widgets/base",
            "_view_module_version": "1.2.0",
            "_view_name": "LayoutView",
            "align_content": null,
            "align_items": null,
            "align_self": null,
            "border": null,
            "bottom": null,
            "display": null,
            "flex": null,
            "flex_flow": null,
            "grid_area": null,
            "grid_auto_columns": null,
            "grid_auto_flow": null,
            "grid_auto_rows": null,
            "grid_column": null,
            "grid_gap": null,
            "grid_row": null,
            "grid_template_areas": null,
            "grid_template_columns": null,
            "grid_template_rows": null,
            "height": null,
            "justify_content": null,
            "justify_items": null,
            "left": null,
            "margin": null,
            "max_height": null,
            "max_width": null,
            "min_height": null,
            "min_width": null,
            "object_fit": null,
            "object_position": null,
            "order": null,
            "overflow": null,
            "overflow_x": null,
            "overflow_y": null,
            "padding": null,
            "right": null,
            "top": null,
            "visibility": null,
            "width": null
          }
        },
        "dd6f157375e543b5832a712862f7f1c2": {
          "model_module": "@jupyter-widgets/controls",
          "model_name": "ProgressStyleModel",
          "model_module_version": "1.5.0",
          "state": {
            "_model_module": "@jupyter-widgets/controls",
            "_model_module_version": "1.5.0",
            "_model_name": "ProgressStyleModel",
            "_view_count": null,
            "_view_module": "@jupyter-widgets/base",
            "_view_module_version": "1.2.0",
            "_view_name": "StyleView",
            "bar_color": null,
            "description_width": ""
          }
        },
        "f0b144d60234465ba9ad2416055ae3ad": {
          "model_module": "@jupyter-widgets/base",
          "model_name": "LayoutModel",
          "model_module_version": "1.2.0",
          "state": {
            "_model_module": "@jupyter-widgets/base",
            "_model_module_version": "1.2.0",
            "_model_name": "LayoutModel",
            "_view_count": null,
            "_view_module": "@jupyter-widgets/base",
            "_view_module_version": "1.2.0",
            "_view_name": "LayoutView",
            "align_content": null,
            "align_items": null,
            "align_self": null,
            "border": null,
            "bottom": null,
            "display": null,
            "flex": null,
            "flex_flow": null,
            "grid_area": null,
            "grid_auto_columns": null,
            "grid_auto_flow": null,
            "grid_auto_rows": null,
            "grid_column": null,
            "grid_gap": null,
            "grid_row": null,
            "grid_template_areas": null,
            "grid_template_columns": null,
            "grid_template_rows": null,
            "height": null,
            "justify_content": null,
            "justify_items": null,
            "left": null,
            "margin": null,
            "max_height": null,
            "max_width": null,
            "min_height": null,
            "min_width": null,
            "object_fit": null,
            "object_position": null,
            "order": null,
            "overflow": null,
            "overflow_x": null,
            "overflow_y": null,
            "padding": null,
            "right": null,
            "top": null,
            "visibility": null,
            "width": null
          }
        },
        "fa192141ccb346c7852ff74c0b107400": {
          "model_module": "@jupyter-widgets/controls",
          "model_name": "DescriptionStyleModel",
          "model_module_version": "1.5.0",
          "state": {
            "_model_module": "@jupyter-widgets/controls",
            "_model_module_version": "1.5.0",
            "_model_name": "DescriptionStyleModel",
            "_view_count": null,
            "_view_module": "@jupyter-widgets/base",
            "_view_module_version": "1.2.0",
            "_view_name": "StyleView",
            "description_width": ""
          }
        },
        "fb0ff4ec8aed41a7bd4a25a70b71f327": {
          "model_module": "@jupyter-widgets/controls",
          "model_name": "HBoxModel",
          "model_module_version": "1.5.0",
          "state": {
            "_dom_classes": [],
            "_model_module": "@jupyter-widgets/controls",
            "_model_module_version": "1.5.0",
            "_model_name": "HBoxModel",
            "_view_count": null,
            "_view_module": "@jupyter-widgets/controls",
            "_view_module_version": "1.5.0",
            "_view_name": "HBoxView",
            "box_style": "",
            "children": [
              "IPY_MODEL_a946459b23f54b0cbc3592e68f8fba2c",
              "IPY_MODEL_82fc76be784141b2ad93ca4ea556c40c",
              "IPY_MODEL_50fc8ce4e8cf4e5ea655a15052ffb62b"
            ],
            "layout": "IPY_MODEL_1638b2c256c4483a824c28216c04525f"
          }
        },
        "a946459b23f54b0cbc3592e68f8fba2c": {
          "model_module": "@jupyter-widgets/controls",
          "model_name": "HTMLModel",
          "model_module_version": "1.5.0",
          "state": {
            "_dom_classes": [],
            "_model_module": "@jupyter-widgets/controls",
            "_model_module_version": "1.5.0",
            "_model_name": "HTMLModel",
            "_view_count": null,
            "_view_module": "@jupyter-widgets/controls",
            "_view_module_version": "1.5.0",
            "_view_name": "HTMLView",
            "description": "",
            "description_tooltip": null,
            "layout": "IPY_MODEL_c6877861fe86416cb987631adfe64ed1",
            "placeholder": "​",
            "style": "IPY_MODEL_d9f3d475efb04c37937b7b63bc800af8",
            "value": "model.safetensors: 100%"
          }
        },
        "82fc76be784141b2ad93ca4ea556c40c": {
          "model_module": "@jupyter-widgets/controls",
          "model_name": "FloatProgressModel",
          "model_module_version": "1.5.0",
          "state": {
            "_dom_classes": [],
            "_model_module": "@jupyter-widgets/controls",
            "_model_module_version": "1.5.0",
            "_model_name": "FloatProgressModel",
            "_view_count": null,
            "_view_module": "@jupyter-widgets/controls",
            "_view_module_version": "1.5.0",
            "_view_name": "ProgressView",
            "bar_style": "success",
            "description": "",
            "description_tooltip": null,
            "layout": "IPY_MODEL_076a915a764f4324983bca216acb26ac",
            "max": 2271064456,
            "min": 0,
            "orientation": "horizontal",
            "style": "IPY_MODEL_73f29d4e63574f12b06fb7a702875017",
            "value": 2271064456
          }
        },
        "50fc8ce4e8cf4e5ea655a15052ffb62b": {
          "model_module": "@jupyter-widgets/controls",
          "model_name": "HTMLModel",
          "model_module_version": "1.5.0",
          "state": {
            "_dom_classes": [],
            "_model_module": "@jupyter-widgets/controls",
            "_model_module_version": "1.5.0",
            "_model_name": "HTMLModel",
            "_view_count": null,
            "_view_module": "@jupyter-widgets/controls",
            "_view_module_version": "1.5.0",
            "_view_name": "HTMLView",
            "description": "",
            "description_tooltip": null,
            "layout": "IPY_MODEL_f3c49936bbb244ba95c0b0fe2b90183c",
            "placeholder": "​",
            "style": "IPY_MODEL_6a80a52c0c4745a3998ec2539701c525",
            "value": " 2.27G/2.27G [00:41&lt;00:00, 101MB/s]"
          }
        },
        "1638b2c256c4483a824c28216c04525f": {
          "model_module": "@jupyter-widgets/base",
          "model_name": "LayoutModel",
          "model_module_version": "1.2.0",
          "state": {
            "_model_module": "@jupyter-widgets/base",
            "_model_module_version": "1.2.0",
            "_model_name": "LayoutModel",
            "_view_count": null,
            "_view_module": "@jupyter-widgets/base",
            "_view_module_version": "1.2.0",
            "_view_name": "LayoutView",
            "align_content": null,
            "align_items": null,
            "align_self": null,
            "border": null,
            "bottom": null,
            "display": null,
            "flex": null,
            "flex_flow": null,
            "grid_area": null,
            "grid_auto_columns": null,
            "grid_auto_flow": null,
            "grid_auto_rows": null,
            "grid_column": null,
            "grid_gap": null,
            "grid_row": null,
            "grid_template_areas": null,
            "grid_template_columns": null,
            "grid_template_rows": null,
            "height": null,
            "justify_content": null,
            "justify_items": null,
            "left": null,
            "margin": null,
            "max_height": null,
            "max_width": null,
            "min_height": null,
            "min_width": null,
            "object_fit": null,
            "object_position": null,
            "order": null,
            "overflow": null,
            "overflow_x": null,
            "overflow_y": null,
            "padding": null,
            "right": null,
            "top": null,
            "visibility": null,
            "width": null
          }
        },
        "c6877861fe86416cb987631adfe64ed1": {
          "model_module": "@jupyter-widgets/base",
          "model_name": "LayoutModel",
          "model_module_version": "1.2.0",
          "state": {
            "_model_module": "@jupyter-widgets/base",
            "_model_module_version": "1.2.0",
            "_model_name": "LayoutModel",
            "_view_count": null,
            "_view_module": "@jupyter-widgets/base",
            "_view_module_version": "1.2.0",
            "_view_name": "LayoutView",
            "align_content": null,
            "align_items": null,
            "align_self": null,
            "border": null,
            "bottom": null,
            "display": null,
            "flex": null,
            "flex_flow": null,
            "grid_area": null,
            "grid_auto_columns": null,
            "grid_auto_flow": null,
            "grid_auto_rows": null,
            "grid_column": null,
            "grid_gap": null,
            "grid_row": null,
            "grid_template_areas": null,
            "grid_template_columns": null,
            "grid_template_rows": null,
            "height": null,
            "justify_content": null,
            "justify_items": null,
            "left": null,
            "margin": null,
            "max_height": null,
            "max_width": null,
            "min_height": null,
            "min_width": null,
            "object_fit": null,
            "object_position": null,
            "order": null,
            "overflow": null,
            "overflow_x": null,
            "overflow_y": null,
            "padding": null,
            "right": null,
            "top": null,
            "visibility": null,
            "width": null
          }
        },
        "d9f3d475efb04c37937b7b63bc800af8": {
          "model_module": "@jupyter-widgets/controls",
          "model_name": "DescriptionStyleModel",
          "model_module_version": "1.5.0",
          "state": {
            "_model_module": "@jupyter-widgets/controls",
            "_model_module_version": "1.5.0",
            "_model_name": "DescriptionStyleModel",
            "_view_count": null,
            "_view_module": "@jupyter-widgets/base",
            "_view_module_version": "1.2.0",
            "_view_name": "StyleView",
            "description_width": ""
          }
        },
        "076a915a764f4324983bca216acb26ac": {
          "model_module": "@jupyter-widgets/base",
          "model_name": "LayoutModel",
          "model_module_version": "1.2.0",
          "state": {
            "_model_module": "@jupyter-widgets/base",
            "_model_module_version": "1.2.0",
            "_model_name": "LayoutModel",
            "_view_count": null,
            "_view_module": "@jupyter-widgets/base",
            "_view_module_version": "1.2.0",
            "_view_name": "LayoutView",
            "align_content": null,
            "align_items": null,
            "align_self": null,
            "border": null,
            "bottom": null,
            "display": null,
            "flex": null,
            "flex_flow": null,
            "grid_area": null,
            "grid_auto_columns": null,
            "grid_auto_flow": null,
            "grid_auto_rows": null,
            "grid_column": null,
            "grid_gap": null,
            "grid_row": null,
            "grid_template_areas": null,
            "grid_template_columns": null,
            "grid_template_rows": null,
            "height": null,
            "justify_content": null,
            "justify_items": null,
            "left": null,
            "margin": null,
            "max_height": null,
            "max_width": null,
            "min_height": null,
            "min_width": null,
            "object_fit": null,
            "object_position": null,
            "order": null,
            "overflow": null,
            "overflow_x": null,
            "overflow_y": null,
            "padding": null,
            "right": null,
            "top": null,
            "visibility": null,
            "width": null
          }
        },
        "73f29d4e63574f12b06fb7a702875017": {
          "model_module": "@jupyter-widgets/controls",
          "model_name": "ProgressStyleModel",
          "model_module_version": "1.5.0",
          "state": {
            "_model_module": "@jupyter-widgets/controls",
            "_model_module_version": "1.5.0",
            "_model_name": "ProgressStyleModel",
            "_view_count": null,
            "_view_module": "@jupyter-widgets/base",
            "_view_module_version": "1.2.0",
            "_view_name": "StyleView",
            "bar_color": null,
            "description_width": ""
          }
        },
        "f3c49936bbb244ba95c0b0fe2b90183c": {
          "model_module": "@jupyter-widgets/base",
          "model_name": "LayoutModel",
          "model_module_version": "1.2.0",
          "state": {
            "_model_module": "@jupyter-widgets/base",
            "_model_module_version": "1.2.0",
            "_model_name": "LayoutModel",
            "_view_count": null,
            "_view_module": "@jupyter-widgets/base",
            "_view_module_version": "1.2.0",
            "_view_name": "LayoutView",
            "align_content": null,
            "align_items": null,
            "align_self": null,
            "border": null,
            "bottom": null,
            "display": null,
            "flex": null,
            "flex_flow": null,
            "grid_area": null,
            "grid_auto_columns": null,
            "grid_auto_flow": null,
            "grid_auto_rows": null,
            "grid_column": null,
            "grid_gap": null,
            "grid_row": null,
            "grid_template_areas": null,
            "grid_template_columns": null,
            "grid_template_rows": null,
            "height": null,
            "justify_content": null,
            "justify_items": null,
            "left": null,
            "margin": null,
            "max_height": null,
            "max_width": null,
            "min_height": null,
            "min_width": null,
            "object_fit": null,
            "object_position": null,
            "order": null,
            "overflow": null,
            "overflow_x": null,
            "overflow_y": null,
            "padding": null,
            "right": null,
            "top": null,
            "visibility": null,
            "width": null
          }
        },
        "6a80a52c0c4745a3998ec2539701c525": {
          "model_module": "@jupyter-widgets/controls",
          "model_name": "DescriptionStyleModel",
          "model_module_version": "1.5.0",
          "state": {
            "_model_module": "@jupyter-widgets/controls",
            "_model_module_version": "1.5.0",
            "_model_name": "DescriptionStyleModel",
            "_view_count": null,
            "_view_module": "@jupyter-widgets/base",
            "_view_module_version": "1.2.0",
            "_view_name": "StyleView",
            "description_width": ""
          }
        },
        "eabd9c62dad747dbbdbe5a122e9ffdf7": {
          "model_module": "@jupyter-widgets/controls",
          "model_name": "HBoxModel",
          "model_module_version": "1.5.0",
          "state": {
            "_dom_classes": [],
            "_model_module": "@jupyter-widgets/controls",
            "_model_module_version": "1.5.0",
            "_model_name": "HBoxModel",
            "_view_count": null,
            "_view_module": "@jupyter-widgets/controls",
            "_view_module_version": "1.5.0",
            "_view_name": "HBoxView",
            "box_style": "",
            "children": [
              "IPY_MODEL_fcefe3c4ee954566b4b5325bfb264dff",
              "IPY_MODEL_c84c6dea29ec410e9e529f76fd969fae",
              "IPY_MODEL_82206b3ee4284e2fa195180c9db4ec35"
            ],
            "layout": "IPY_MODEL_4b1df496a223482cbe5c29570183d3b2"
          }
        },
        "fcefe3c4ee954566b4b5325bfb264dff": {
          "model_module": "@jupyter-widgets/controls",
          "model_name": "HTMLModel",
          "model_module_version": "1.5.0",
          "state": {
            "_dom_classes": [],
            "_model_module": "@jupyter-widgets/controls",
            "_model_module_version": "1.5.0",
            "_model_name": "HTMLModel",
            "_view_count": null,
            "_view_module": "@jupyter-widgets/controls",
            "_view_module_version": "1.5.0",
            "_view_name": "HTMLView",
            "description": "",
            "description_tooltip": null,
            "layout": "IPY_MODEL_f9fa466701be43c5a2b53446eb0e8abb",
            "placeholder": "​",
            "style": "IPY_MODEL_27520f7705c047e58447626d6e4b7f58",
            "value": "sentencepiece.bpe.model: 100%"
          }
        },
        "c84c6dea29ec410e9e529f76fd969fae": {
          "model_module": "@jupyter-widgets/controls",
          "model_name": "FloatProgressModel",
          "model_module_version": "1.5.0",
          "state": {
            "_dom_classes": [],
            "_model_module": "@jupyter-widgets/controls",
            "_model_module_version": "1.5.0",
            "_model_name": "FloatProgressModel",
            "_view_count": null,
            "_view_module": "@jupyter-widgets/controls",
            "_view_module_version": "1.5.0",
            "_view_name": "ProgressView",
            "bar_style": "success",
            "description": "",
            "description_tooltip": null,
            "layout": "IPY_MODEL_161d4e3db7314ceb89b3ac0179d41317",
            "max": 5069051,
            "min": 0,
            "orientation": "horizontal",
            "style": "IPY_MODEL_e3c3da9e306742f8bbb43c5fec04be1c",
            "value": 5069051
          }
        },
        "82206b3ee4284e2fa195180c9db4ec35": {
          "model_module": "@jupyter-widgets/controls",
          "model_name": "HTMLModel",
          "model_module_version": "1.5.0",
          "state": {
            "_dom_classes": [],
            "_model_module": "@jupyter-widgets/controls",
            "_model_module_version": "1.5.0",
            "_model_name": "HTMLModel",
            "_view_count": null,
            "_view_module": "@jupyter-widgets/controls",
            "_view_module_version": "1.5.0",
            "_view_name": "HTMLView",
            "description": "",
            "description_tooltip": null,
            "layout": "IPY_MODEL_3d6ffa6509a04bb49bb5f35608b4e94e",
            "placeholder": "​",
            "style": "IPY_MODEL_9cf4c76a6d73498cb034048df959ebbe",
            "value": " 5.07M/5.07M [00:00&lt;00:00, 11.8MB/s]"
          }
        },
        "4b1df496a223482cbe5c29570183d3b2": {
          "model_module": "@jupyter-widgets/base",
          "model_name": "LayoutModel",
          "model_module_version": "1.2.0",
          "state": {
            "_model_module": "@jupyter-widgets/base",
            "_model_module_version": "1.2.0",
            "_model_name": "LayoutModel",
            "_view_count": null,
            "_view_module": "@jupyter-widgets/base",
            "_view_module_version": "1.2.0",
            "_view_name": "LayoutView",
            "align_content": null,
            "align_items": null,
            "align_self": null,
            "border": null,
            "bottom": null,
            "display": null,
            "flex": null,
            "flex_flow": null,
            "grid_area": null,
            "grid_auto_columns": null,
            "grid_auto_flow": null,
            "grid_auto_rows": null,
            "grid_column": null,
            "grid_gap": null,
            "grid_row": null,
            "grid_template_areas": null,
            "grid_template_columns": null,
            "grid_template_rows": null,
            "height": null,
            "justify_content": null,
            "justify_items": null,
            "left": null,
            "margin": null,
            "max_height": null,
            "max_width": null,
            "min_height": null,
            "min_width": null,
            "object_fit": null,
            "object_position": null,
            "order": null,
            "overflow": null,
            "overflow_x": null,
            "overflow_y": null,
            "padding": null,
            "right": null,
            "top": null,
            "visibility": null,
            "width": null
          }
        },
        "f9fa466701be43c5a2b53446eb0e8abb": {
          "model_module": "@jupyter-widgets/base",
          "model_name": "LayoutModel",
          "model_module_version": "1.2.0",
          "state": {
            "_model_module": "@jupyter-widgets/base",
            "_model_module_version": "1.2.0",
            "_model_name": "LayoutModel",
            "_view_count": null,
            "_view_module": "@jupyter-widgets/base",
            "_view_module_version": "1.2.0",
            "_view_name": "LayoutView",
            "align_content": null,
            "align_items": null,
            "align_self": null,
            "border": null,
            "bottom": null,
            "display": null,
            "flex": null,
            "flex_flow": null,
            "grid_area": null,
            "grid_auto_columns": null,
            "grid_auto_flow": null,
            "grid_auto_rows": null,
            "grid_column": null,
            "grid_gap": null,
            "grid_row": null,
            "grid_template_areas": null,
            "grid_template_columns": null,
            "grid_template_rows": null,
            "height": null,
            "justify_content": null,
            "justify_items": null,
            "left": null,
            "margin": null,
            "max_height": null,
            "max_width": null,
            "min_height": null,
            "min_width": null,
            "object_fit": null,
            "object_position": null,
            "order": null,
            "overflow": null,
            "overflow_x": null,
            "overflow_y": null,
            "padding": null,
            "right": null,
            "top": null,
            "visibility": null,
            "width": null
          }
        },
        "27520f7705c047e58447626d6e4b7f58": {
          "model_module": "@jupyter-widgets/controls",
          "model_name": "DescriptionStyleModel",
          "model_module_version": "1.5.0",
          "state": {
            "_model_module": "@jupyter-widgets/controls",
            "_model_module_version": "1.5.0",
            "_model_name": "DescriptionStyleModel",
            "_view_count": null,
            "_view_module": "@jupyter-widgets/base",
            "_view_module_version": "1.2.0",
            "_view_name": "StyleView",
            "description_width": ""
          }
        },
        "161d4e3db7314ceb89b3ac0179d41317": {
          "model_module": "@jupyter-widgets/base",
          "model_name": "LayoutModel",
          "model_module_version": "1.2.0",
          "state": {
            "_model_module": "@jupyter-widgets/base",
            "_model_module_version": "1.2.0",
            "_model_name": "LayoutModel",
            "_view_count": null,
            "_view_module": "@jupyter-widgets/base",
            "_view_module_version": "1.2.0",
            "_view_name": "LayoutView",
            "align_content": null,
            "align_items": null,
            "align_self": null,
            "border": null,
            "bottom": null,
            "display": null,
            "flex": null,
            "flex_flow": null,
            "grid_area": null,
            "grid_auto_columns": null,
            "grid_auto_flow": null,
            "grid_auto_rows": null,
            "grid_column": null,
            "grid_gap": null,
            "grid_row": null,
            "grid_template_areas": null,
            "grid_template_columns": null,
            "grid_template_rows": null,
            "height": null,
            "justify_content": null,
            "justify_items": null,
            "left": null,
            "margin": null,
            "max_height": null,
            "max_width": null,
            "min_height": null,
            "min_width": null,
            "object_fit": null,
            "object_position": null,
            "order": null,
            "overflow": null,
            "overflow_x": null,
            "overflow_y": null,
            "padding": null,
            "right": null,
            "top": null,
            "visibility": null,
            "width": null
          }
        },
        "e3c3da9e306742f8bbb43c5fec04be1c": {
          "model_module": "@jupyter-widgets/controls",
          "model_name": "ProgressStyleModel",
          "model_module_version": "1.5.0",
          "state": {
            "_model_module": "@jupyter-widgets/controls",
            "_model_module_version": "1.5.0",
            "_model_name": "ProgressStyleModel",
            "_view_count": null,
            "_view_module": "@jupyter-widgets/base",
            "_view_module_version": "1.2.0",
            "_view_name": "StyleView",
            "bar_color": null,
            "description_width": ""
          }
        },
        "3d6ffa6509a04bb49bb5f35608b4e94e": {
          "model_module": "@jupyter-widgets/base",
          "model_name": "LayoutModel",
          "model_module_version": "1.2.0",
          "state": {
            "_model_module": "@jupyter-widgets/base",
            "_model_module_version": "1.2.0",
            "_model_name": "LayoutModel",
            "_view_count": null,
            "_view_module": "@jupyter-widgets/base",
            "_view_module_version": "1.2.0",
            "_view_name": "LayoutView",
            "align_content": null,
            "align_items": null,
            "align_self": null,
            "border": null,
            "bottom": null,
            "display": null,
            "flex": null,
            "flex_flow": null,
            "grid_area": null,
            "grid_auto_columns": null,
            "grid_auto_flow": null,
            "grid_auto_rows": null,
            "grid_column": null,
            "grid_gap": null,
            "grid_row": null,
            "grid_template_areas": null,
            "grid_template_columns": null,
            "grid_template_rows": null,
            "height": null,
            "justify_content": null,
            "justify_items": null,
            "left": null,
            "margin": null,
            "max_height": null,
            "max_width": null,
            "min_height": null,
            "min_width": null,
            "object_fit": null,
            "object_position": null,
            "order": null,
            "overflow": null,
            "overflow_x": null,
            "overflow_y": null,
            "padding": null,
            "right": null,
            "top": null,
            "visibility": null,
            "width": null
          }
        },
        "9cf4c76a6d73498cb034048df959ebbe": {
          "model_module": "@jupyter-widgets/controls",
          "model_name": "DescriptionStyleModel",
          "model_module_version": "1.5.0",
          "state": {
            "_model_module": "@jupyter-widgets/controls",
            "_model_module_version": "1.5.0",
            "_model_name": "DescriptionStyleModel",
            "_view_count": null,
            "_view_module": "@jupyter-widgets/base",
            "_view_module_version": "1.2.0",
            "_view_name": "StyleView",
            "description_width": ""
          }
        },
        "be4b39c1ddab4d17b077926ad5557690": {
          "model_module": "@jupyter-widgets/controls",
          "model_name": "HBoxModel",
          "model_module_version": "1.5.0",
          "state": {
            "_dom_classes": [],
            "_model_module": "@jupyter-widgets/controls",
            "_model_module_version": "1.5.0",
            "_model_name": "HBoxModel",
            "_view_count": null,
            "_view_module": "@jupyter-widgets/controls",
            "_view_module_version": "1.5.0",
            "_view_name": "HBoxView",
            "box_style": "",
            "children": [
              "IPY_MODEL_2075dfc3a3804256a233cf97cb533722",
              "IPY_MODEL_0d09ac4c57084478b0a40980014e8630",
              "IPY_MODEL_e7ea83ba7d1b498fad28db36521c8558"
            ],
            "layout": "IPY_MODEL_e83c11749e0247f58c2105adf3623e1b"
          }
        },
        "2075dfc3a3804256a233cf97cb533722": {
          "model_module": "@jupyter-widgets/controls",
          "model_name": "HTMLModel",
          "model_module_version": "1.5.0",
          "state": {
            "_dom_classes": [],
            "_model_module": "@jupyter-widgets/controls",
            "_model_module_version": "1.5.0",
            "_model_name": "HTMLModel",
            "_view_count": null,
            "_view_module": "@jupyter-widgets/controls",
            "_view_module_version": "1.5.0",
            "_view_name": "HTMLView",
            "description": "",
            "description_tooltip": null,
            "layout": "IPY_MODEL_9c913cf5bb3d4c83b8fbbfc2190f4cff",
            "placeholder": "​",
            "style": "IPY_MODEL_bb09de54e45f44d69c2ba56bc070c5c3",
            "value": "pytorch_model.bin: 100%"
          }
        },
        "0d09ac4c57084478b0a40980014e8630": {
          "model_module": "@jupyter-widgets/controls",
          "model_name": "FloatProgressModel",
          "model_module_version": "1.5.0",
          "state": {
            "_dom_classes": [],
            "_model_module": "@jupyter-widgets/controls",
            "_model_module_version": "1.5.0",
            "_model_name": "FloatProgressModel",
            "_view_count": null,
            "_view_module": "@jupyter-widgets/controls",
            "_view_module_version": "1.5.0",
            "_view_name": "ProgressView",
            "bar_style": "success",
            "description": "",
            "description_tooltip": null,
            "layout": "IPY_MODEL_65b8dd1f19ed49e4b94e8b94441b38b7",
            "max": 2271145830,
            "min": 0,
            "orientation": "horizontal",
            "style": "IPY_MODEL_beecd60016634e65b7ca11af7ac19b30",
            "value": 2271145830
          }
        },
        "e7ea83ba7d1b498fad28db36521c8558": {
          "model_module": "@jupyter-widgets/controls",
          "model_name": "HTMLModel",
          "model_module_version": "1.5.0",
          "state": {
            "_dom_classes": [],
            "_model_module": "@jupyter-widgets/controls",
            "_model_module_version": "1.5.0",
            "_model_name": "HTMLModel",
            "_view_count": null,
            "_view_module": "@jupyter-widgets/controls",
            "_view_module_version": "1.5.0",
            "_view_name": "HTMLView",
            "description": "",
            "description_tooltip": null,
            "layout": "IPY_MODEL_33d0362ed34648758d0c98ed3afe4542",
            "placeholder": "​",
            "style": "IPY_MODEL_927e60e0c88d4eba8b53dad7e5fc27d2",
            "value": " 2.27G/2.27G [00:41&lt;00:00, 61.0MB/s]"
          }
        },
        "e83c11749e0247f58c2105adf3623e1b": {
          "model_module": "@jupyter-widgets/base",
          "model_name": "LayoutModel",
          "model_module_version": "1.2.0",
          "state": {
            "_model_module": "@jupyter-widgets/base",
            "_model_module_version": "1.2.0",
            "_model_name": "LayoutModel",
            "_view_count": null,
            "_view_module": "@jupyter-widgets/base",
            "_view_module_version": "1.2.0",
            "_view_name": "LayoutView",
            "align_content": null,
            "align_items": null,
            "align_self": null,
            "border": null,
            "bottom": null,
            "display": null,
            "flex": null,
            "flex_flow": null,
            "grid_area": null,
            "grid_auto_columns": null,
            "grid_auto_flow": null,
            "grid_auto_rows": null,
            "grid_column": null,
            "grid_gap": null,
            "grid_row": null,
            "grid_template_areas": null,
            "grid_template_columns": null,
            "grid_template_rows": null,
            "height": null,
            "justify_content": null,
            "justify_items": null,
            "left": null,
            "margin": null,
            "max_height": null,
            "max_width": null,
            "min_height": null,
            "min_width": null,
            "object_fit": null,
            "object_position": null,
            "order": null,
            "overflow": null,
            "overflow_x": null,
            "overflow_y": null,
            "padding": null,
            "right": null,
            "top": null,
            "visibility": null,
            "width": null
          }
        },
        "9c913cf5bb3d4c83b8fbbfc2190f4cff": {
          "model_module": "@jupyter-widgets/base",
          "model_name": "LayoutModel",
          "model_module_version": "1.2.0",
          "state": {
            "_model_module": "@jupyter-widgets/base",
            "_model_module_version": "1.2.0",
            "_model_name": "LayoutModel",
            "_view_count": null,
            "_view_module": "@jupyter-widgets/base",
            "_view_module_version": "1.2.0",
            "_view_name": "LayoutView",
            "align_content": null,
            "align_items": null,
            "align_self": null,
            "border": null,
            "bottom": null,
            "display": null,
            "flex": null,
            "flex_flow": null,
            "grid_area": null,
            "grid_auto_columns": null,
            "grid_auto_flow": null,
            "grid_auto_rows": null,
            "grid_column": null,
            "grid_gap": null,
            "grid_row": null,
            "grid_template_areas": null,
            "grid_template_columns": null,
            "grid_template_rows": null,
            "height": null,
            "justify_content": null,
            "justify_items": null,
            "left": null,
            "margin": null,
            "max_height": null,
            "max_width": null,
            "min_height": null,
            "min_width": null,
            "object_fit": null,
            "object_position": null,
            "order": null,
            "overflow": null,
            "overflow_x": null,
            "overflow_y": null,
            "padding": null,
            "right": null,
            "top": null,
            "visibility": null,
            "width": null
          }
        },
        "bb09de54e45f44d69c2ba56bc070c5c3": {
          "model_module": "@jupyter-widgets/controls",
          "model_name": "DescriptionStyleModel",
          "model_module_version": "1.5.0",
          "state": {
            "_model_module": "@jupyter-widgets/controls",
            "_model_module_version": "1.5.0",
            "_model_name": "DescriptionStyleModel",
            "_view_count": null,
            "_view_module": "@jupyter-widgets/base",
            "_view_module_version": "1.2.0",
            "_view_name": "StyleView",
            "description_width": ""
          }
        },
        "65b8dd1f19ed49e4b94e8b94441b38b7": {
          "model_module": "@jupyter-widgets/base",
          "model_name": "LayoutModel",
          "model_module_version": "1.2.0",
          "state": {
            "_model_module": "@jupyter-widgets/base",
            "_model_module_version": "1.2.0",
            "_model_name": "LayoutModel",
            "_view_count": null,
            "_view_module": "@jupyter-widgets/base",
            "_view_module_version": "1.2.0",
            "_view_name": "LayoutView",
            "align_content": null,
            "align_items": null,
            "align_self": null,
            "border": null,
            "bottom": null,
            "display": null,
            "flex": null,
            "flex_flow": null,
            "grid_area": null,
            "grid_auto_columns": null,
            "grid_auto_flow": null,
            "grid_auto_rows": null,
            "grid_column": null,
            "grid_gap": null,
            "grid_row": null,
            "grid_template_areas": null,
            "grid_template_columns": null,
            "grid_template_rows": null,
            "height": null,
            "justify_content": null,
            "justify_items": null,
            "left": null,
            "margin": null,
            "max_height": null,
            "max_width": null,
            "min_height": null,
            "min_width": null,
            "object_fit": null,
            "object_position": null,
            "order": null,
            "overflow": null,
            "overflow_x": null,
            "overflow_y": null,
            "padding": null,
            "right": null,
            "top": null,
            "visibility": null,
            "width": null
          }
        },
        "beecd60016634e65b7ca11af7ac19b30": {
          "model_module": "@jupyter-widgets/controls",
          "model_name": "ProgressStyleModel",
          "model_module_version": "1.5.0",
          "state": {
            "_model_module": "@jupyter-widgets/controls",
            "_model_module_version": "1.5.0",
            "_model_name": "ProgressStyleModel",
            "_view_count": null,
            "_view_module": "@jupyter-widgets/base",
            "_view_module_version": "1.2.0",
            "_view_name": "StyleView",
            "bar_color": null,
            "description_width": ""
          }
        },
        "33d0362ed34648758d0c98ed3afe4542": {
          "model_module": "@jupyter-widgets/base",
          "model_name": "LayoutModel",
          "model_module_version": "1.2.0",
          "state": {
            "_model_module": "@jupyter-widgets/base",
            "_model_module_version": "1.2.0",
            "_model_name": "LayoutModel",
            "_view_count": null,
            "_view_module": "@jupyter-widgets/base",
            "_view_module_version": "1.2.0",
            "_view_name": "LayoutView",
            "align_content": null,
            "align_items": null,
            "align_self": null,
            "border": null,
            "bottom": null,
            "display": null,
            "flex": null,
            "flex_flow": null,
            "grid_area": null,
            "grid_auto_columns": null,
            "grid_auto_flow": null,
            "grid_auto_rows": null,
            "grid_column": null,
            "grid_gap": null,
            "grid_row": null,
            "grid_template_areas": null,
            "grid_template_columns": null,
            "grid_template_rows": null,
            "height": null,
            "justify_content": null,
            "justify_items": null,
            "left": null,
            "margin": null,
            "max_height": null,
            "max_width": null,
            "min_height": null,
            "min_width": null,
            "object_fit": null,
            "object_position": null,
            "order": null,
            "overflow": null,
            "overflow_x": null,
            "overflow_y": null,
            "padding": null,
            "right": null,
            "top": null,
            "visibility": null,
            "width": null
          }
        },
        "927e60e0c88d4eba8b53dad7e5fc27d2": {
          "model_module": "@jupyter-widgets/controls",
          "model_name": "DescriptionStyleModel",
          "model_module_version": "1.5.0",
          "state": {
            "_model_module": "@jupyter-widgets/controls",
            "_model_module_version": "1.5.0",
            "_model_name": "DescriptionStyleModel",
            "_view_count": null,
            "_view_module": "@jupyter-widgets/base",
            "_view_module_version": "1.2.0",
            "_view_name": "StyleView",
            "description_width": ""
          }
        },
        "6dbfb8d0e3e24befa05eeab0021d56c1": {
          "model_module": "@jupyter-widgets/controls",
          "model_name": "HBoxModel",
          "model_module_version": "1.5.0",
          "state": {
            "_dom_classes": [],
            "_model_module": "@jupyter-widgets/controls",
            "_model_module_version": "1.5.0",
            "_model_name": "HBoxModel",
            "_view_count": null,
            "_view_module": "@jupyter-widgets/controls",
            "_view_module_version": "1.5.0",
            "_view_name": "HBoxView",
            "box_style": "",
            "children": [
              "IPY_MODEL_ccfb9fdb486b402e918bb103b74a4ac2",
              "IPY_MODEL_3ef8810c3c374a798b107d24ab164aba",
              "IPY_MODEL_e24520404c2e4b04974abab2741bc99b"
            ],
            "layout": "IPY_MODEL_785609346a204c75bda6c697ffc6ba2c"
          }
        },
        "ccfb9fdb486b402e918bb103b74a4ac2": {
          "model_module": "@jupyter-widgets/controls",
          "model_name": "HTMLModel",
          "model_module_version": "1.5.0",
          "state": {
            "_dom_classes": [],
            "_model_module": "@jupyter-widgets/controls",
            "_model_module_version": "1.5.0",
            "_model_name": "HTMLModel",
            "_view_count": null,
            "_view_module": "@jupyter-widgets/controls",
            "_view_module_version": "1.5.0",
            "_view_name": "HTMLView",
            "description": "",
            "description_tooltip": null,
            "layout": "IPY_MODEL_1a495512f2e24f168f3d36994dddd10e",
            "placeholder": "​",
            "style": "IPY_MODEL_e03a0e5598dd4cbab1c7ed5e65eb42fe",
            "value": "sparse_linear.pt: 100%"
          }
        },
        "3ef8810c3c374a798b107d24ab164aba": {
          "model_module": "@jupyter-widgets/controls",
          "model_name": "FloatProgressModel",
          "model_module_version": "1.5.0",
          "state": {
            "_dom_classes": [],
            "_model_module": "@jupyter-widgets/controls",
            "_model_module_version": "1.5.0",
            "_model_name": "FloatProgressModel",
            "_view_count": null,
            "_view_module": "@jupyter-widgets/controls",
            "_view_module_version": "1.5.0",
            "_view_name": "ProgressView",
            "bar_style": "success",
            "description": "",
            "description_tooltip": null,
            "layout": "IPY_MODEL_33aa7cb542194586b1e6f2fbd9c58214",
            "max": 3516,
            "min": 0,
            "orientation": "horizontal",
            "style": "IPY_MODEL_f973a7874ff64106a76c4584a61746ea",
            "value": 3516
          }
        },
        "e24520404c2e4b04974abab2741bc99b": {
          "model_module": "@jupyter-widgets/controls",
          "model_name": "HTMLModel",
          "model_module_version": "1.5.0",
          "state": {
            "_dom_classes": [],
            "_model_module": "@jupyter-widgets/controls",
            "_model_module_version": "1.5.0",
            "_model_name": "HTMLModel",
            "_view_count": null,
            "_view_module": "@jupyter-widgets/controls",
            "_view_module_version": "1.5.0",
            "_view_name": "HTMLView",
            "description": "",
            "description_tooltip": null,
            "layout": "IPY_MODEL_c9522f93c6144979afc2746148a5e6a0",
            "placeholder": "​",
            "style": "IPY_MODEL_344bfecfd683495784e9006d7d2cfc27",
            "value": " 3.52k/3.52k [00:00&lt;00:00, 31.0kB/s]"
          }
        },
        "785609346a204c75bda6c697ffc6ba2c": {
          "model_module": "@jupyter-widgets/base",
          "model_name": "LayoutModel",
          "model_module_version": "1.2.0",
          "state": {
            "_model_module": "@jupyter-widgets/base",
            "_model_module_version": "1.2.0",
            "_model_name": "LayoutModel",
            "_view_count": null,
            "_view_module": "@jupyter-widgets/base",
            "_view_module_version": "1.2.0",
            "_view_name": "LayoutView",
            "align_content": null,
            "align_items": null,
            "align_self": null,
            "border": null,
            "bottom": null,
            "display": null,
            "flex": null,
            "flex_flow": null,
            "grid_area": null,
            "grid_auto_columns": null,
            "grid_auto_flow": null,
            "grid_auto_rows": null,
            "grid_column": null,
            "grid_gap": null,
            "grid_row": null,
            "grid_template_areas": null,
            "grid_template_columns": null,
            "grid_template_rows": null,
            "height": null,
            "justify_content": null,
            "justify_items": null,
            "left": null,
            "margin": null,
            "max_height": null,
            "max_width": null,
            "min_height": null,
            "min_width": null,
            "object_fit": null,
            "object_position": null,
            "order": null,
            "overflow": null,
            "overflow_x": null,
            "overflow_y": null,
            "padding": null,
            "right": null,
            "top": null,
            "visibility": null,
            "width": null
          }
        },
        "1a495512f2e24f168f3d36994dddd10e": {
          "model_module": "@jupyter-widgets/base",
          "model_name": "LayoutModel",
          "model_module_version": "1.2.0",
          "state": {
            "_model_module": "@jupyter-widgets/base",
            "_model_module_version": "1.2.0",
            "_model_name": "LayoutModel",
            "_view_count": null,
            "_view_module": "@jupyter-widgets/base",
            "_view_module_version": "1.2.0",
            "_view_name": "LayoutView",
            "align_content": null,
            "align_items": null,
            "align_self": null,
            "border": null,
            "bottom": null,
            "display": null,
            "flex": null,
            "flex_flow": null,
            "grid_area": null,
            "grid_auto_columns": null,
            "grid_auto_flow": null,
            "grid_auto_rows": null,
            "grid_column": null,
            "grid_gap": null,
            "grid_row": null,
            "grid_template_areas": null,
            "grid_template_columns": null,
            "grid_template_rows": null,
            "height": null,
            "justify_content": null,
            "justify_items": null,
            "left": null,
            "margin": null,
            "max_height": null,
            "max_width": null,
            "min_height": null,
            "min_width": null,
            "object_fit": null,
            "object_position": null,
            "order": null,
            "overflow": null,
            "overflow_x": null,
            "overflow_y": null,
            "padding": null,
            "right": null,
            "top": null,
            "visibility": null,
            "width": null
          }
        },
        "e03a0e5598dd4cbab1c7ed5e65eb42fe": {
          "model_module": "@jupyter-widgets/controls",
          "model_name": "DescriptionStyleModel",
          "model_module_version": "1.5.0",
          "state": {
            "_model_module": "@jupyter-widgets/controls",
            "_model_module_version": "1.5.0",
            "_model_name": "DescriptionStyleModel",
            "_view_count": null,
            "_view_module": "@jupyter-widgets/base",
            "_view_module_version": "1.2.0",
            "_view_name": "StyleView",
            "description_width": ""
          }
        },
        "33aa7cb542194586b1e6f2fbd9c58214": {
          "model_module": "@jupyter-widgets/base",
          "model_name": "LayoutModel",
          "model_module_version": "1.2.0",
          "state": {
            "_model_module": "@jupyter-widgets/base",
            "_model_module_version": "1.2.0",
            "_model_name": "LayoutModel",
            "_view_count": null,
            "_view_module": "@jupyter-widgets/base",
            "_view_module_version": "1.2.0",
            "_view_name": "LayoutView",
            "align_content": null,
            "align_items": null,
            "align_self": null,
            "border": null,
            "bottom": null,
            "display": null,
            "flex": null,
            "flex_flow": null,
            "grid_area": null,
            "grid_auto_columns": null,
            "grid_auto_flow": null,
            "grid_auto_rows": null,
            "grid_column": null,
            "grid_gap": null,
            "grid_row": null,
            "grid_template_areas": null,
            "grid_template_columns": null,
            "grid_template_rows": null,
            "height": null,
            "justify_content": null,
            "justify_items": null,
            "left": null,
            "margin": null,
            "max_height": null,
            "max_width": null,
            "min_height": null,
            "min_width": null,
            "object_fit": null,
            "object_position": null,
            "order": null,
            "overflow": null,
            "overflow_x": null,
            "overflow_y": null,
            "padding": null,
            "right": null,
            "top": null,
            "visibility": null,
            "width": null
          }
        },
        "f973a7874ff64106a76c4584a61746ea": {
          "model_module": "@jupyter-widgets/controls",
          "model_name": "ProgressStyleModel",
          "model_module_version": "1.5.0",
          "state": {
            "_model_module": "@jupyter-widgets/controls",
            "_model_module_version": "1.5.0",
            "_model_name": "ProgressStyleModel",
            "_view_count": null,
            "_view_module": "@jupyter-widgets/base",
            "_view_module_version": "1.2.0",
            "_view_name": "StyleView",
            "bar_color": null,
            "description_width": ""
          }
        },
        "c9522f93c6144979afc2746148a5e6a0": {
          "model_module": "@jupyter-widgets/base",
          "model_name": "LayoutModel",
          "model_module_version": "1.2.0",
          "state": {
            "_model_module": "@jupyter-widgets/base",
            "_model_module_version": "1.2.0",
            "_model_name": "LayoutModel",
            "_view_count": null,
            "_view_module": "@jupyter-widgets/base",
            "_view_module_version": "1.2.0",
            "_view_name": "LayoutView",
            "align_content": null,
            "align_items": null,
            "align_self": null,
            "border": null,
            "bottom": null,
            "display": null,
            "flex": null,
            "flex_flow": null,
            "grid_area": null,
            "grid_auto_columns": null,
            "grid_auto_flow": null,
            "grid_auto_rows": null,
            "grid_column": null,
            "grid_gap": null,
            "grid_row": null,
            "grid_template_areas": null,
            "grid_template_columns": null,
            "grid_template_rows": null,
            "height": null,
            "justify_content": null,
            "justify_items": null,
            "left": null,
            "margin": null,
            "max_height": null,
            "max_width": null,
            "min_height": null,
            "min_width": null,
            "object_fit": null,
            "object_position": null,
            "order": null,
            "overflow": null,
            "overflow_x": null,
            "overflow_y": null,
            "padding": null,
            "right": null,
            "top": null,
            "visibility": null,
            "width": null
          }
        },
        "344bfecfd683495784e9006d7d2cfc27": {
          "model_module": "@jupyter-widgets/controls",
          "model_name": "DescriptionStyleModel",
          "model_module_version": "1.5.0",
          "state": {
            "_model_module": "@jupyter-widgets/controls",
            "_model_module_version": "1.5.0",
            "_model_name": "DescriptionStyleModel",
            "_view_count": null,
            "_view_module": "@jupyter-widgets/base",
            "_view_module_version": "1.2.0",
            "_view_name": "StyleView",
            "description_width": ""
          }
        },
        "85a69d365573481881b35fb2b273ec0d": {
          "model_module": "@jupyter-widgets/controls",
          "model_name": "HBoxModel",
          "model_module_version": "1.5.0",
          "state": {
            "_dom_classes": [],
            "_model_module": "@jupyter-widgets/controls",
            "_model_module_version": "1.5.0",
            "_model_name": "HBoxModel",
            "_view_count": null,
            "_view_module": "@jupyter-widgets/controls",
            "_view_module_version": "1.5.0",
            "_view_name": "HBoxView",
            "box_style": "",
            "children": [
              "IPY_MODEL_cfc3b545500040f3ab864ccdc7d5f292",
              "IPY_MODEL_a4bfa3a517564baca8e63289e3c2d65b",
              "IPY_MODEL_394d62c2c114414eb410b7dfd607da1f"
            ],
            "layout": "IPY_MODEL_349cc036272740bd80306ade6ed561a1"
          }
        },
        "cfc3b545500040f3ab864ccdc7d5f292": {
          "model_module": "@jupyter-widgets/controls",
          "model_name": "HTMLModel",
          "model_module_version": "1.5.0",
          "state": {
            "_dom_classes": [],
            "_model_module": "@jupyter-widgets/controls",
            "_model_module_version": "1.5.0",
            "_model_name": "HTMLModel",
            "_view_count": null,
            "_view_module": "@jupyter-widgets/controls",
            "_view_module_version": "1.5.0",
            "_view_name": "HTMLView",
            "description": "",
            "description_tooltip": null,
            "layout": "IPY_MODEL_3770aee4c05245329949c05c9cc6d724",
            "placeholder": "​",
            "style": "IPY_MODEL_d51c2886d0db4d05b95b6edfcab12629",
            "value": "tokenizer.json: 100%"
          }
        },
        "a4bfa3a517564baca8e63289e3c2d65b": {
          "model_module": "@jupyter-widgets/controls",
          "model_name": "FloatProgressModel",
          "model_module_version": "1.5.0",
          "state": {
            "_dom_classes": [],
            "_model_module": "@jupyter-widgets/controls",
            "_model_module_version": "1.5.0",
            "_model_name": "FloatProgressModel",
            "_view_count": null,
            "_view_module": "@jupyter-widgets/controls",
            "_view_module_version": "1.5.0",
            "_view_name": "ProgressView",
            "bar_style": "success",
            "description": "",
            "description_tooltip": null,
            "layout": "IPY_MODEL_c6566a01eb6f487f842f94e0e1fae941",
            "max": 17098108,
            "min": 0,
            "orientation": "horizontal",
            "style": "IPY_MODEL_e0714d77c2dd47d19ac4a82396101259",
            "value": 17098108
          }
        },
        "394d62c2c114414eb410b7dfd607da1f": {
          "model_module": "@jupyter-widgets/controls",
          "model_name": "HTMLModel",
          "model_module_version": "1.5.0",
          "state": {
            "_dom_classes": [],
            "_model_module": "@jupyter-widgets/controls",
            "_model_module_version": "1.5.0",
            "_model_name": "HTMLModel",
            "_view_count": null,
            "_view_module": "@jupyter-widgets/controls",
            "_view_module_version": "1.5.0",
            "_view_name": "HTMLView",
            "description": "",
            "description_tooltip": null,
            "layout": "IPY_MODEL_abb9a8a6ca2f4b7f9fdd1e007ec9fa72",
            "placeholder": "​",
            "style": "IPY_MODEL_31f0e940c1cf44318fe9133a8c408c95",
            "value": " 17.1M/17.1M [00:00&lt;00:00, 33.5MB/s]"
          }
        },
        "349cc036272740bd80306ade6ed561a1": {
          "model_module": "@jupyter-widgets/base",
          "model_name": "LayoutModel",
          "model_module_version": "1.2.0",
          "state": {
            "_model_module": "@jupyter-widgets/base",
            "_model_module_version": "1.2.0",
            "_model_name": "LayoutModel",
            "_view_count": null,
            "_view_module": "@jupyter-widgets/base",
            "_view_module_version": "1.2.0",
            "_view_name": "LayoutView",
            "align_content": null,
            "align_items": null,
            "align_self": null,
            "border": null,
            "bottom": null,
            "display": null,
            "flex": null,
            "flex_flow": null,
            "grid_area": null,
            "grid_auto_columns": null,
            "grid_auto_flow": null,
            "grid_auto_rows": null,
            "grid_column": null,
            "grid_gap": null,
            "grid_row": null,
            "grid_template_areas": null,
            "grid_template_columns": null,
            "grid_template_rows": null,
            "height": null,
            "justify_content": null,
            "justify_items": null,
            "left": null,
            "margin": null,
            "max_height": null,
            "max_width": null,
            "min_height": null,
            "min_width": null,
            "object_fit": null,
            "object_position": null,
            "order": null,
            "overflow": null,
            "overflow_x": null,
            "overflow_y": null,
            "padding": null,
            "right": null,
            "top": null,
            "visibility": null,
            "width": null
          }
        },
        "3770aee4c05245329949c05c9cc6d724": {
          "model_module": "@jupyter-widgets/base",
          "model_name": "LayoutModel",
          "model_module_version": "1.2.0",
          "state": {
            "_model_module": "@jupyter-widgets/base",
            "_model_module_version": "1.2.0",
            "_model_name": "LayoutModel",
            "_view_count": null,
            "_view_module": "@jupyter-widgets/base",
            "_view_module_version": "1.2.0",
            "_view_name": "LayoutView",
            "align_content": null,
            "align_items": null,
            "align_self": null,
            "border": null,
            "bottom": null,
            "display": null,
            "flex": null,
            "flex_flow": null,
            "grid_area": null,
            "grid_auto_columns": null,
            "grid_auto_flow": null,
            "grid_auto_rows": null,
            "grid_column": null,
            "grid_gap": null,
            "grid_row": null,
            "grid_template_areas": null,
            "grid_template_columns": null,
            "grid_template_rows": null,
            "height": null,
            "justify_content": null,
            "justify_items": null,
            "left": null,
            "margin": null,
            "max_height": null,
            "max_width": null,
            "min_height": null,
            "min_width": null,
            "object_fit": null,
            "object_position": null,
            "order": null,
            "overflow": null,
            "overflow_x": null,
            "overflow_y": null,
            "padding": null,
            "right": null,
            "top": null,
            "visibility": null,
            "width": null
          }
        },
        "d51c2886d0db4d05b95b6edfcab12629": {
          "model_module": "@jupyter-widgets/controls",
          "model_name": "DescriptionStyleModel",
          "model_module_version": "1.5.0",
          "state": {
            "_model_module": "@jupyter-widgets/controls",
            "_model_module_version": "1.5.0",
            "_model_name": "DescriptionStyleModel",
            "_view_count": null,
            "_view_module": "@jupyter-widgets/base",
            "_view_module_version": "1.2.0",
            "_view_name": "StyleView",
            "description_width": ""
          }
        },
        "c6566a01eb6f487f842f94e0e1fae941": {
          "model_module": "@jupyter-widgets/base",
          "model_name": "LayoutModel",
          "model_module_version": "1.2.0",
          "state": {
            "_model_module": "@jupyter-widgets/base",
            "_model_module_version": "1.2.0",
            "_model_name": "LayoutModel",
            "_view_count": null,
            "_view_module": "@jupyter-widgets/base",
            "_view_module_version": "1.2.0",
            "_view_name": "LayoutView",
            "align_content": null,
            "align_items": null,
            "align_self": null,
            "border": null,
            "bottom": null,
            "display": null,
            "flex": null,
            "flex_flow": null,
            "grid_area": null,
            "grid_auto_columns": null,
            "grid_auto_flow": null,
            "grid_auto_rows": null,
            "grid_column": null,
            "grid_gap": null,
            "grid_row": null,
            "grid_template_areas": null,
            "grid_template_columns": null,
            "grid_template_rows": null,
            "height": null,
            "justify_content": null,
            "justify_items": null,
            "left": null,
            "margin": null,
            "max_height": null,
            "max_width": null,
            "min_height": null,
            "min_width": null,
            "object_fit": null,
            "object_position": null,
            "order": null,
            "overflow": null,
            "overflow_x": null,
            "overflow_y": null,
            "padding": null,
            "right": null,
            "top": null,
            "visibility": null,
            "width": null
          }
        },
        "e0714d77c2dd47d19ac4a82396101259": {
          "model_module": "@jupyter-widgets/controls",
          "model_name": "ProgressStyleModel",
          "model_module_version": "1.5.0",
          "state": {
            "_model_module": "@jupyter-widgets/controls",
            "_model_module_version": "1.5.0",
            "_model_name": "ProgressStyleModel",
            "_view_count": null,
            "_view_module": "@jupyter-widgets/base",
            "_view_module_version": "1.2.0",
            "_view_name": "StyleView",
            "bar_color": null,
            "description_width": ""
          }
        },
        "abb9a8a6ca2f4b7f9fdd1e007ec9fa72": {
          "model_module": "@jupyter-widgets/base",
          "model_name": "LayoutModel",
          "model_module_version": "1.2.0",
          "state": {
            "_model_module": "@jupyter-widgets/base",
            "_model_module_version": "1.2.0",
            "_model_name": "LayoutModel",
            "_view_count": null,
            "_view_module": "@jupyter-widgets/base",
            "_view_module_version": "1.2.0",
            "_view_name": "LayoutView",
            "align_content": null,
            "align_items": null,
            "align_self": null,
            "border": null,
            "bottom": null,
            "display": null,
            "flex": null,
            "flex_flow": null,
            "grid_area": null,
            "grid_auto_columns": null,
            "grid_auto_flow": null,
            "grid_auto_rows": null,
            "grid_column": null,
            "grid_gap": null,
            "grid_row": null,
            "grid_template_areas": null,
            "grid_template_columns": null,
            "grid_template_rows": null,
            "height": null,
            "justify_content": null,
            "justify_items": null,
            "left": null,
            "margin": null,
            "max_height": null,
            "max_width": null,
            "min_height": null,
            "min_width": null,
            "object_fit": null,
            "object_position": null,
            "order": null,
            "overflow": null,
            "overflow_x": null,
            "overflow_y": null,
            "padding": null,
            "right": null,
            "top": null,
            "visibility": null,
            "width": null
          }
        },
        "31f0e940c1cf44318fe9133a8c408c95": {
          "model_module": "@jupyter-widgets/controls",
          "model_name": "DescriptionStyleModel",
          "model_module_version": "1.5.0",
          "state": {
            "_model_module": "@jupyter-widgets/controls",
            "_model_module_version": "1.5.0",
            "_model_name": "DescriptionStyleModel",
            "_view_count": null,
            "_view_module": "@jupyter-widgets/base",
            "_view_module_version": "1.2.0",
            "_view_name": "StyleView",
            "description_width": ""
          }
        }
      }
    }
  },
  "cells": [
    {
      "cell_type": "markdown",
      "metadata": {
        "id": "view-in-github",
        "colab_type": "text"
      },
      "source": [
        "<a href=\"https://colab.research.google.com/github/flora0110/sentence_prediction/blob/main/bge_m3_test.ipynb\" target=\"_parent\"><img src=\"https://colab.research.google.com/assets/colab-badge.svg\" alt=\"Open In Colab\"/></a>"
      ]
    },
    {
      "cell_type": "code",
      "execution_count": 2,
      "metadata": {
        "colab": {
          "base_uri": "https://localhost:8080/"
        },
        "id": "wAqSrCIklsIJ",
        "outputId": "adc4411f-5f70-44c0-a4b4-191f4819b170"
      },
      "outputs": [
        {
          "output_type": "stream",
          "name": "stdout",
          "text": [
            "Mounted at /content/drive\n"
          ]
        }
      ],
      "source": [
        "from google.colab import drive\n",
        "drive.mount('/content/drive')"
      ]
    },
    {
      "cell_type": "code",
      "source": [
        "import json\n",
        "\n",
        "with open('/content/drive/MyDrive/senior/LAB/LawCaseRetreiver/sentence_predict/dataset_new/train_data.json', 'r', encoding='utf-8') as f:\n",
        "    train_data = json.load(f)\n",
        "\n",
        "with open('/content/drive/MyDrive/senior/LAB/LawCaseRetreiver/sentence_predict/dataset_new/test_data.json', 'r', encoding='utf-8') as f:\n",
        "    test_data = json.load(f)"
      ],
      "metadata": {
        "id": "UBH4pYp-nM7-"
      },
      "execution_count": 3,
      "outputs": []
    },
    {
      "cell_type": "code",
      "source": [
        "print(\"===Train Dataset===\")\n",
        "print(\"Key: \", train_data[0].keys())\n",
        "print(\"Size: \", len(train_data))\n",
        "\n",
        "print(\"===Test Dataset===\")\n",
        "print(\"Key: \", test_data[0].keys())\n",
        "print(\"Size: \", len(test_data))"
      ],
      "metadata": {
        "colab": {
          "base_uri": "https://localhost:8080/"
        },
        "id": "atiACWF4nVaB",
        "outputId": "462a51bd-f6e7-44ef-805c-7a8fbf2d55d9"
      },
      "execution_count": 4,
      "outputs": [
        {
          "output_type": "stream",
          "name": "stdout",
          "text": [
            "===Train Dataset===\n",
            "Key:  dict_keys(['id', 'reason', 'sentance', 'fact'])\n",
            "Size:  500\n",
            "===Test Dataset===\n",
            "Key:  dict_keys(['id', 'reason', 'sentance', 'fact'])\n",
            "Size:  100\n"
          ]
        }
      ]
    },
    {
      "cell_type": "code",
      "source": [
        "train_fact_len = []\n",
        "test_fact_len = []\n",
        "\n",
        "for data in train_data:\n",
        "    train_fact_len.append(len(data['fact']))\n",
        "\n",
        "for data in test_data:\n",
        "    test_fact_len.append(len(data['fact']))\n"
      ],
      "metadata": {
        "id": "vOT3jRpPnibt"
      },
      "execution_count": 5,
      "outputs": []
    },
    {
      "cell_type": "code",
      "source": [
        "print(\"===Train Dataset===\")\n",
        "print(\"Length: \", len(train_fact_len))\n",
        "print(\"Max Length: \", max(train_fact_len))\n",
        "print(\"Min Length: \", min(train_fact_len))\n",
        "print(\"Avg. Length: \", sum(train_fact_len) / len(train_fact_len))\n",
        "\n",
        "print(\"===Test Dataset===\")\n",
        "print(\"Length: \", len(test_fact_len))\n",
        "print(\"Max Length: \", max(test_fact_len))\n",
        "print(\"Min Length: \", min(test_fact_len))\n",
        "print(\"Avg. Length: \", sum(test_fact_len) / len(test_fact_len))"
      ],
      "metadata": {
        "colab": {
          "base_uri": "https://localhost:8080/"
        },
        "id": "eVmVkrH0nnAT",
        "outputId": "afe81d70-4b2d-418b-ab1f-19902d318095"
      },
      "execution_count": 6,
      "outputs": [
        {
          "output_type": "stream",
          "name": "stdout",
          "text": [
            "===Train Dataset===\n",
            "Length:  500\n",
            "Max Length:  19745\n",
            "Min Length:  328\n",
            "Avg. Length:  7933.656\n",
            "===Test Dataset===\n",
            "Length:  100\n",
            "Max Length:  19277\n",
            "Min Length:  280\n",
            "Avg. Length:  8231.62\n"
          ]
        }
      ]
    },
    {
      "cell_type": "code",
      "source": [
        "def extract_key_contents(data):\n",
        "    facts = []\n",
        "    sentences = []\n",
        "    for item in data:\n",
        "        facts.append(item.get('fact'))\n",
        "        sentences.append(item.get('sentance'))\n",
        "    return facts, sentences"
      ],
      "metadata": {
        "id": "uXE_9V3UnJYg"
      },
      "execution_count": 7,
      "outputs": []
    },
    {
      "cell_type": "code",
      "source": [
        "train_facts, train_sentences = extract_key_contents(train_data)\n",
        "test_facts, test_sentences = extract_key_contents(test_data)"
      ],
      "metadata": {
        "id": "acFs77Rtnx0K"
      },
      "execution_count": 8,
      "outputs": []
    },
    {
      "cell_type": "code",
      "source": [
        "print(\"Train facts:\", train_facts[0])\n",
        "print(\"Train Sentences:\", train_sentences[:5])\n",
        "print(\"Test facts:\", test_facts[0])\n",
        "print(\"Test Sentences:\", test_sentences[:5])"
      ],
      "metadata": {
        "colab": {
          "base_uri": "https://localhost:8080/"
        },
        "id": "pLnQPW0pn_cs",
        "outputId": "960d72c8-fc73-4131-9ef3-27e831f434ce"
      },
      "execution_count": 9,
      "outputs": [
        {
          "output_type": "stream",
          "name": "stdout",
          "text": [
            "Train facts: 一、陳泰龍明知其與泰國籍女子陳玉婉（泰國名字為JARUWANWONGPRATOOM，陳玉婉涉嫌本案偽造文書部分，另經臺灣臺南地方法院檢察署檢察官通緝中）間並無結婚之真意，然因詹巧薇、張晉源等人欲找臺灣男子前往泰國與泰國女子辦理假結婚，林清水負責介紹臺灣男子予詹巧薇、張晉源等人以賺取新臺幣（下同）1萬元之仲介費，適陳泰龍依林清水於報紙上刊登之徵人廣告應徵時，由林清水告知泰國女子欲以假結婚之方式申請來臺居留工作，其若擔任假結婚之人頭老公，除不用負擔前往泰國之食宿、機票費用外，尚可獲取5、6萬元之報酬，迨陳泰龍應允同意後，林清水將其轉介紹予詹巧薇、張晉源等人，陳泰龍遂與林清水、詹巧薇、張晉源等人共同基於行使使公務員登載不實公文書之概括犯意聯絡，先由陳泰龍依指示於民國93年4月3日前往泰國，並於同年月7日與陳玉婉在泰國曼谷市法拉坎農區註冊辦事處登記結婚，取得上開註冊辦事處核發之結婚登記書、結婚證書等文件後，陳泰龍即行返臺，並於同年5月19日持經我國駐泰國臺北經濟文化辦事處認證之上開結婚登記書、結婚證書等資料，至臺南縣永康市（改制前稱謂，以下沿用舊制稱謂）戶政事務所填寫結婚登記申請書，申請辦理其與陳玉婉之結婚登記，因此使上開戶政事務所僅有形式審查權之承辦公務員陷於錯誤，於形式上審核後，將陳泰龍與陳玉婉於93年4月7日結婚之不實事項，登載於其職務上所掌屬公文書之戶籍登記資料內，並據以核發戶籍謄本，而足以生損害於戶政機關對於戶政管理及戶籍登記資料維護之正確性。迨陳玉婉來臺後，為取得居留身分，再由陳泰龍、陳玉婉承前概括之犯意聯絡，於同年6月14日及94年5月5日，均持前開登載不實之戶籍謄本等資料，先後向臺南縣政府警察局外事課申請核發陳玉婉之外僑居留證及申請居留證延期而連續行使之（業經檢察官當庭補充），經承辦人員實質審查結果，均未發覺陳泰龍與陳玉婉假結婚之實情，而發給陳玉婉居留證或核准延期，各足以生損害於主管機關對外僑居留管理之正確性。二、案經臺南市警察局（現改制為臺南市政府警察局，以下沿用舊制稱謂）第一分局報告臺灣臺南地方法院檢察署檢察官偵查起訴。理由甲、程序方面：一、本件以下所引用具傳聞證據性質之供述證據，因本件被告陳泰龍、檢察官等人於本院準備程序進行時，均未爭執前開陳述之證據能力，且迄至本案言詞辯論終結前亦均未聲明異議，應視為已同意援引作為證據，又本院審酌前開證據作成時之情況及證據取得過程等節，並無非出於任意性、不正取供或其他違法不當情事，且客觀上亦無顯不可信之情況，堪認為適當，是依刑事訴訟法第159條之5規定，均有證據能力。二、卷附之被告及陳玉婉入出國日期紀錄各1份等書證，均非屬供述證據，皆無傳聞法則之適用，復均無違反法定程序取得之情形，依刑事訴訟法第158條之4規定之反面解釋，均應有證據能力。乙、實體方面：一、訊據被告固坦承於上開時、地，透過共犯林清水之介紹，先至泰國辦理與共犯陳玉婉之結婚手續，再前往臺南縣永康市戶政事務所辦理結婚登記，又前往臺南縣政府警察局外事課辦理共犯陳玉婉之外僑居留證及申請居留證延期之事實，惟矢口否認有何行使使公務員登載不實文書情事，於本院審理時辯稱：伊當時經濟狀況良好，因同居女友欲去日本工作而不願結婚，然伊希望結婚生子，遂透過共犯林清水之介紹與安排，共犯林清水先讓伊看過共犯陳玉婉之照片，伊再前往泰國與共犯陳玉婉結婚，伊僅負擔自己的來回機票錢及泰國住宿費用，其他結婚費用均由共犯林清水負擔，伊則贈送伊的一部機車予共犯林清水以為回報，伊並不認識共犯詹巧薇云云。經查：(一)被告於93年4月3日前往泰國，並於同年月7日與共犯陳玉婉在泰國曼谷市法拉坎農區註冊辦事處登記結婚，取得上開註冊辦事處核發之結婚登記書、結婚證書等文件後，被告即行返臺，並於同年5月19日持經我國駐泰國臺北經濟文化辦事處認證之上開結婚登記書、結婚證書等資料，至臺南縣永康市戶政事務所填寫結婚登記申請書，申請辦理其與共犯陳玉婉之結婚登記，並取得戶籍謄本。迨共犯陳玉婉來臺後，為取得居留身分，被告與共犯陳玉婉於同年6月14日及94年5月5日，均持前開戶籍謄本等資料，先後向臺南縣政府警察局外事課申請核發共犯陳玉婉之外僑居留證及申請居留證延期等情，業據被告供承在卷，並有結婚登記申請書、授權書各1份、結婚登記書、結婚證書各1份（含中文、泰文影本及我國駐泰國臺北經濟文化辦事處認證之資料）、93年6月14日及94年5月5日之外國人居留停留案件聲請表各1份、被告及共犯陳玉婉之入出國日期紀錄各1份、共犯陳玉婉之外僑居留資料查詢1份在卷可按（見警三卷即南市警一刑偵字第0994101517號卷第6至24、33頁）。上開事實，首堪認定。(二)共犯詹巧薇、張晉源等人當時欲找臺灣人與泰國女子結婚，由共犯林清水於報紙上刊登徵人廣告，若應徵者符合與泰國人結婚之條件，便將應徵者介紹予共犯詹巧薇、張晉源等人，共犯林清水可從中獲取1萬元之仲介費，適被告依前開徵人廣告應徵，共犯林清水衡量其條件後告知其可至泰國結婚，其除不用負擔前往泰國之機票及食宿費用外，尚可獲取5至6萬元之報酬，被告應允同意後，共犯林清水將其介紹予詹巧薇、張晉源等人，被告即依指示前往泰國與為了來臺工作且無結婚真意的共犯陳玉婉辦理結婚事宜等情，業據共犯林清水於警詢時證稱：伊登報徵人到泰國結婚，被告看報紙來的，伊便轉介予共犯詹巧薇，由共犯詹巧薇安排後續到泰國結婚之事宜，被告除不用負擔前往泰國機票、食宿等費用，尚可獲取約5至6萬元酬勞，伊則可自共犯詹巧薇獲取約1萬元之仲介費用；伊只有將被告轉介予共犯詹巧薇，並未參與後續被告前往泰國之證照、機票、食宿等相關事宜；被告係因缺錢，為了賺取擔任人頭配偶的佣金5至6萬，並不是真的要與泰國人結婚，共犯陳玉婉係為了來臺灣工作賺錢，亦不是真的要與臺灣人結婚等語（見警三卷第2至3頁）；並於本院審理時具結證稱：當初共犯詹巧薇、張晉源等人欲找男子前往泰國結婚，伊曾刊登「男、女不限、經驗不拘」等內容之徵人廣告，被告見報應徵時，被告係因缺錢才來找伊，伊衡量被告條件後認為其只能利用結婚賺取報酬，伊才向其表示是要辦結婚，伊告知被告可安排其去泰國結婚，其不用負擔食宿及機票等費用，可實拿5至6萬元的報酬，被告同意後，伊將被告介紹予共犯詹巧薇、張晉源，共犯張晉源給付佣金1萬元予伊；伊與被告談論泰國結婚事宜時，伊與被告均不知被告之結婚對象為何人，伊亦未見過與被告結婚之泰國女子，伊僅介紹被告予共犯詹巧薇、張晉源等人，伊並未參予後續之泰國結婚、辦理結婚登記及居留申請等事情；被告曾給伊一部機車，當時被告表示要去別的地方，機車留在臺南無人使用，伊修理使用一段期間後，因再度壞掉便未再使用等語（見本院卷第68頁背面至71頁）。而共犯林清水於93、94年間，因仲介臺灣人民陳益昌、林哲銘、廖震南、陳朝榮、王照明等5人擔任人頭老公與泰國女子假結婚，陳益昌等5人均獲取5至7萬元報酬等情，經本院以95年度簡上字第330號判處有期徒刑7月確定，另共犯詹巧薇於92年間，因與共犯張晉源等人共同仲介臺灣人民莊國寶、林世欽、蔡明峰等3人擔任人頭老公與泰國女子假結婚等情，經本院以99年度簡字第1313號判處有期徒刑4月並減為有期徒刑2月確定，又共犯林清水、詹巧薇因本案被告與共犯陳玉婉辦理假結婚致涉嫌共同行使使公務員登載不實文書犯行部分，經臺灣臺南地方法院檢察官認為與前開95年度簡上字第330號、99年度簡字第1313號論罪科刑部分有連續犯之裁判上一罪關係，故均以99年度偵字第17571、17771號、100年度偵字第4564號為不起訴處分確定，有前開判決書及不起訴處分書各1份在卷可按，堪認共犯林清水、詹巧薇、張晉源確曾仲介或安排臺灣男子前往泰國與泰國女子假結婚無訛。又被告與共犯林清水並無任何仇怨糾葛，被告尚提供一部機車予共犯林清水使用，衡諸常情，共犯林清水尚無隨意誣指構陷被告之動機，復衡以其於本院中具結後證述上情歷歷，核與其警詢中證述之情節大致相符，苟非親身經歷，尚均無圖陷被告入罪而自行擔負偽證罪責風險之必要，顯見其確係依憑當時親身見聞所為之證述，參以被告於93年4月26日將戶籍遷移寄放至共犯林清水籍設於臺南縣永康市○○路152號之住所，其戶籍遷入目的係為了便利結婚登記之辦理，被告亦依此戶籍地向臺南縣永康市戶政事務所辦理其與共犯陳玉婉之結婚登記等情，業據被告於本院審理時供承伊戶籍寄放於前開住址不諱，及共犯林清水於本院審理時具結證稱：被告將戶籍寄放於伊住所是為了辦理結婚，要拿證件辦理結婚登記比較方便等語（見本院卷第70頁），並有被告及共犯林清水之個人戶籍資料查詢結果各1份、結婚登記申請書1份在卷可佐，而前開95年度簡上字第330號案件中之人頭老公林哲銘亦由共犯林清水提供前開住所供其設籍，並依該戶籍地辦理結婚登記等情，亦據證人林哲銘於警詢時證述明確（見警二卷第19頁），並有證人林哲銘之結婚登記申請書1紙附卷可佐（見警二卷第46頁），益徵被告確係共犯林清水仲介之人頭老公的其中一人甚明。(三)綜上所述，被告與共犯陳玉婉確係假結婚無訛，是被告前開所辯，要屬卸責之詞，殊無可採。本案事證至臻明確，被告上開犯行堪以認定，應予依法論科。二、按被告行為後，刑法業於民國94年2月2日修正公布，並自95年7月1日施行。按行為後法律有變更者，適用行為時之法律，但行為後之法律有利於行為人者，適用最有利於行為人之法律，修正後刑法第2條第1項定有明文。該規定係規範行為後法律變更所生新舊法律比較適用之準據法，是刑法第2條本身雖經修正，尚無比較新舊法之問題，應一律適用裁判時之刑法第2條規定。次按本次刑法修正之新舊法比較，應就罪刑有關之共犯、未遂犯、想像競合犯、牽連犯、連續犯、結合犯、以及累犯加重、自首減輕暨其他法定加減原因（如身分加減）與加減例等一切情形，綜其全部罪刑之結果而為比較，有最高法院95年5月23日95年度第8次刑庭會議決議可資參照。經查：(一)依增訂之刑法施行法第1條之1：「中華民國94年1月7日刑法修正施行後，刑法分則編所定罰金之貨幣單位為新臺幣。94年1月7日刑法修正時，刑法分則編未修正之條文定有罰金者，自94年1月7日刑法修正施行後，就其所定數額提高為30倍。但72年6月26日至94年1月7日新增或修正之條文，就其所定數額提高為3倍。」，是比較修正後刑法施行法第1條之1第2項與罰金罰鍰提高標準條例第1條之結果，因兩者之罰金最高額度相同而無有利不利之情形，自無刑法第2條第1項之適用，應逕依現行有效且具特別法性質之刑法施行法第1條之1的規定。(二)刑法第33條第5款修正為：「主刑之種類如下：五、罰金：新臺幣1000元以上，以百元計算之。」，是依修正後之法律，刑法第335條第1項之侵占罪所得科處之罰金刑最低為新臺幣1000元，而另依修正前刑法第33條第5款及罰金罰鍰提高標準條例第1條前段規定，罰金最低額則為銀元1元折算為新臺幣3元，故比較新舊法之結果，自以修正前刑法第33條第5款規定較有利於被告。(三)刑法第28條修正前規定為：「2人以上共同實施犯罪之行為者，皆為正犯。」，而修正後規定為：「2人以上共同實行犯罪之行為者，皆為正犯。」，是依修正後之規定係將共同正犯限於直接從事構成犯罪事實之行為者，而排除陰謀共同正犯及預謀共同正犯之類型，故修正後共同正犯之可罰性要件之範圍業已限縮。惟本件被告既係直接從事構成犯罪事實之行為，則比較修正前後規定之結果，並無有利或不利之情形，應逕依修正後規定。(四)刑法第56條連續犯之規定於刑法修正後業經刪除，是新法修正施行後，行為人之數犯罪行為便須分論併罰。是該項刪除雖非犯罪構成要件之變更，但已影響行為人刑罰之法律效果，自屬法律有所變更而有比較新舊法之必要。若依舊法之規定，以一罪論而僅加重其刑至2分之1，但若依新法則須分科併罰，經比較之結果，自以修正前刑法第56條對被告較為有利。(五)綜上，本院綜合被告所涉上揭全部罪行之一切情形而為比較，揆諸前揭最高法院決議及刑法第2條第1項前段規定，被告適用行為時即修正前刑法之相關規定，對其較為有利，自應一體適用修正前刑法規定予以處斷。三、論罪科刑：(一)核被告所為，係犯刑法第216條、第214條之行使使公務員登載不實文書罪。被告與共犯林清水、詹巧薇、張晉源等人就上揭犯行，彼此間有犯意聯絡及行為分擔，為共同正犯。被告使公務員登載不實事項於其所掌公文書之低度行為，為行使之高度行為所吸收，不另論罪。被告於93年5月19日、93年6月14日及94年5月5日先後多次行使使公務員登載不實文書之犯行，時間密接，所犯係構成要件相同之罪名，顯係基於概括犯意反覆為之，為連續犯，應依修正前刑法第56條規定論以一罪，並加重其刑。(二)爰審酌被告為圖私利，竟藉由假結婚之方式便利共犯陳玉婉入境居留，損害戶政機關結婚登記及主管機關對於外國人居留管理之正確性，對社會秩序、善良風俗及警政機關對治安之管理均非無潛在之危害，復參酌被告犯後自始否認犯行，未見悔意，及其智識程度、生活狀況等一切情狀，量處如主文所示之刑，以資懲儆。另被告行為後，關於易科罰金之折算標準，依修正前刑法第41條第1項前段及廢止前罰金罰鍰提高標準條例第2條，係以銀元1百元、2百元或3百元，即新臺幣3百元、6百元或9百元折算1日，而依修正後刑法第41條第1項前段規定，則係以新臺幣1千元、2千元或3千元折算1日，故依刑法第2條第1項前段之規定來比較新舊法之結果，應適用修正前之規定較為有利，爰依修正前刑法第41條第1項前段及廢止前罰金罰鍰提高標準條例第2條諭知易科罰金之折算標準。又被告之犯罪時間係在96年4月24日以前，所犯合於中華民國九十六年罪犯減刑條例之減刑條件，應依該條例第2條第1項第3款、第7條及第9條，減其宣告刑2分之1，並諭知易科罰金之折算標準。四、末按連續數行為而犯同一之罪名，均在新法施行前者，新法施行後，應依新法第2條第1項之規定，適用最有利於行為人之法律。部分之數行為，發生在新法施行前者，新法施行後，該部分適用最有利於行為人之法律。若其中部分之一行為或數行為，發生在新法施行後者，該部分不能論以連續犯（最高法院95年度第8次刑事庭會議決議參照，即該決議五數罪併罰之(四)連續犯部分）。查被告涉嫌於96年5月28日及96年9月3日與共犯陳玉婉共同持前開登載不實之戶籍謄本等資料，先後向臺南縣政府警察局外事課申請核發陳玉婉之延期居留等事宜，有96年5月28日及96年9月3日之外國人居留停留案件申請表各1份附卷可憑，被告此部分涉嫌共同行使使公務員登載不實文書犯行，均在95年7月1日刑法修正廢除第56條連續犯規定以後，亦未據檢察官記載於起訴書犯罪事實內，揆諸前開說明，此部分犯行與前開論罪科刑部份無連續犯之裁判上一罪關係，自非本院得審判之範圍，附此敘明之。據上論斷，應依刑事訴訟法第299條第1項前段，刑法第2條第1項前段、第28條、第216條、第214條，修正前刑法第56條、第41條第1項前段，刑法施行法第1條之1，修正廢止前罰金罰鍰提高標準條例第2條，中華民國96年罪犯減刑條例第2條第1項第3款、第7條、第9條，判決如主文。本案經檢察官莊玲如到庭執行職務。中華民國101年1月20日刑事第四庭審判長法官林逸梅法官鄭文祺法官莊政達以上正本證明與原本無異。如不服本判決應於收受本判後10日內向本院提出上訴書狀，並應敘述具體理由。其未敘述上訴理由者，應於上訴期間屆滿後20日內向本院補提理由書狀（均須按他造當事人之人數附繕本）「切勿逕送上級法院」。書記官吳昕韋中華民國101年2月1日附錄本案論罪科刑法條：中華民國刑法第214條（使公務員登載不實罪）明知為不實之事項，而使公務員登載於職務上所掌之公文書，足以生損害於公眾或他人者，處3年以下有期徒刑、拘役或5百元以下罰金。中華民國刑法第216條（行使偽造變造或登載不實之文書罪）行使第210條至第215條之文書者，依偽造、變造文書或登載不實事項或使登載不實事項之規定處斷。\n",
            "Train Sentences: [120, 240, 180, 135, 120]\n",
            "Test facts: ○、緣徐鴻光（所涉行使偽造私文書犯行，業經本院以95年度訴字第955號判決處有期徒刑3月、緩刑3年確定）因需款使用，知悉穆立明有借款管道，為求順利借款，2人竟共同意圖為自己不法所有，基於行使偽造私文書及詐欺取財之犯意聯絡，知悉車牌號碼00-000號營業小客車係徐鴻光向志朗交通有限公司（下稱志朗公司）租賃之車輛，竟由穆立明先於不詳時間、不詳地點，偽刻「志朗交通有限公司」及負責人「陳健志」印章（正確姓名為陳建志，誤刻為「陳健志」）各1枚，並偽造「陳健志」代表志朗公司與徐鴻光簽署之「臺北市計程車客運駕駛人自備車輛參與經營契約書」（下稱本案參與經營契約書），虛偽記載徐鴻光提供上述營業小客車靠行志朗公司營業等不實內容，並持上開偽刻印章，偽造「志朗交通有限公司」印文4枚、「陳健志」印文6枚於本案參與經營契約書上，再於92年3月6日交徐鴻光於立約人乙方欄簽名，2人復於同日協同不知情之徐鴻光配偶徐樂仁（所涉行使偽造私文書犯行，業經本院以95年度訴字第955號判決無罪確定），前往臺北市○○區○○街00巷0號2樓王傑生所經營之宏帝當舖（現更名為渣打當舖），由徐鴻光、穆立明交付偽造本案參與經營契約書向宏帝當鋪借款新臺幣（下同）10萬元以為行使，並約定由徐樂仁擔任連帶保證人，王傑生誤信上開車輛為徐鴻光所有而陷入錯誤，於扣除利息後交付9萬1千元借款予徐鴻光夫婦，足以生損害於志朗公司、陳建志、王傑生。嗣因徐鴻光僅清償每期7千元之分期款共11期計7萬7千元，未全額清償即無力負擔債務，王傑生始查知上開車輛非徐鴻光所有，而悉上情。二、案經王傑生訴由臺灣士林地方法院檢察署檢察官偵查起訴。理由○、證據能力部分：被告以外之人於審判外之言詞或書面陳述，除法律有規定者外，不得作為證據；又被告以外之人於審判外之陳述，雖不符合同法第159條之1至第159條之4之規定，但經當事人於審判程序同意作為證據，法院審酌該言詞陳述或書面陳述作成時之情況，認為適當者，亦得為證據。刑事訴訟法第159條第1項及第159條之5第1項分別定有明文。經查，本判決所引用之各該被告以外之人於審判外之陳述，雖屬傳聞證據，然當事人於本院審判期日中均表示同意作為證據方法而不予爭執，且迄至言詞辯論終結前亦未再聲明異議（見本院卷第68頁至第68頁背面），本院審酌上開證據資料製作時之情況，尚無違法不當及證明力明顯過低之瑕疵，亦認為以之作為證據應屬適當，故揆諸前開規定，爰依刑事訴訟法第159條之5規定，認前揭證據資料均有證據能力。二、認定犯罪事實所憑之證據及理由：（一）訊據被告穆立明固坦承有於92年3月6日帶共同被告徐鴻光、徐樂仁至宏帝當鋪借錢，惟矢口否認有何行使偽造私文書及詐欺取財之犯行，辯稱：本案參與經營契約書係由共同被告徐鴻光所提出，徐鴻光知道我在宏帝當舖當業務員，他因資金不夠，要伊帶至宏帝當鋪借錢，伊請徐鴻光帶身分證、本案參與經營契約書，證明計程車係屬於徐鴻光所有，另外要帶一位保人云云。（二）經查，證人即志英交通公司負責人陳建志於檢察官偵查中結證稱：本案參與經營契約書上之「志朗交通有限公司」、「陳健志」之印文均非我公司的大小章，志朗交通公司也是我的公司，我是負責人，但這個章不是我的，被告徐鴻光只是加入無線電台等語（見94年度偵字第8715號卷第45頁），復有其提出真正之志朗交通有限公司及其本人陳建志之印文各4枚在卷可稽（見94年度偵字第8715號卷第48頁），經核卷附本案參與經營契約書上所示之「志朗交通有限公司」、「陳健志」印文（見95年度偵緝字第60號卷第53頁），除二者字體明顯不同外，本案參與經營契約書中「陳健志」名字中之「健」一字顯係錯別字，堪認本案參與經營契約書上所示之「志朗交通有限公司」、「陳健志」印文確屬偽造一節，應可認定。（三）證人即告訴人王傑生於檢察官偵查中證稱：我經營宏帝當鋪，後改名為渣打當鋪，地址在臺北市○○街00巷0號2樓，計程車典當給我們時，我們要看參與經營契約書，被告徐鴻光有來借錢，被告穆立明當時有在場，徐鴻光給我們看本案參與經營契約書，我們就以為車子是徐鴻光的，我們找到車之後才知道車子是車行的，被告穆立明是我們公司抽獎金的業務員，穆立明介紹人來借錢，我給他獎金等語（見94年度偵字第8715號卷第37頁、95年度偵緝字第60號卷第49頁、第68頁），且證人朱庭峰於檢察官偵查中及本院審理時亦結證稱：我是宏帝當鋪的負責人，後來當鋪讓給王傑生，被告徐鴻光到宏帝當鋪借款10萬元，係由我接洽，當時是被告穆立明介紹，穆立明不是公司職員，他會介紹車子到我們公司來典當，我會給穆立明佣金，即我收到1,000元利息，就給他100元，本案參與經營契約書是由穆立明拿出來等語（見95年度偵緝字第60號卷第68頁至第69頁、95年度訴字第955號卷第66頁至第67頁），復有本案參與經營契約書、本票影本各1份附卷可憑（見94年度偵字第8715號卷第14頁至第17頁），足認共同被告徐鴻光係經被告穆立明介紹，持本案參與經營契約書於上開時間前往宏帝當鋪借款10萬元，且被告穆立明於借款時在場之事實，洵堪認定。（四）被告穆立明雖辯稱：本案參與經營契約書係共同被告徐鴻光所提出，伊僅有將徐鴻光帶去當鋪，就由當舖的人接洽云云，惟查，證人即共同被告徐鴻光於本院審理時證稱：因為我當司機收入不高，家裡有需要用錢，被告穆立明說有辦法借錢，我請被告穆立明帶我去借款，被告穆立明有帶我去當鋪，我太太徐樂仁當時有一起陪同，卷附之本票影本係我當時在當鋪簽立，而本案參與經營契約書係被告穆立明幫我準備好的，經我在當舖蓋我的章及簽名，被告穆立明拿給我時契約書已經寫好資料，至於被告穆立明提出本案參與經營契約書之來源我不知道，被告穆立明只有要我帶駕照、行照、身分證及私章，車號00-000號營業用小客車是我用租的車子，車子是志朗公司的車子，本案參與經營契約書內容不是真的，車子不是我自備的，只有契約書末頁乙方的簽名是我簽的等語（見本院卷第64頁至第66頁背面），核與其在檢察官偵查中證稱：被告穆立明有帶我去宏帝當鋪向朱先生借錢，我借10萬元，本案參與經營契約書係被告穆立明幫我準備好的，前面的簽名及資料是被告穆立明簽的，只有最後的簽名是我簽的等語大致相符（見95年度偵緝字第60號卷第48頁至第49頁），再查，參以被告穆立明於本院審理時當庭書寫徐鴻光名字之字跡經與本案參與經營契約書立契約書人一欄所簽署「徐鴻光」之筆跡比對後（見本院卷第73頁），依肉眼觀之，不論字跡之運筆、筆勾等字體外觀，均較為吻合，反觀該契約書頁末之乙方「徐鴻光」之筆跡，與頁首立契約書人一欄所簽署「徐鴻光」之筆跡之運筆及筆勾，字跡明顯不同，是被告穆立明辯稱本案參與經營契約書係由共同被告徐鴻光提出云云，已難採信；又證人徐鴻光於本院審理時證稱：我曾經用上開車輛向別的當鋪借錢，當時別的當鋪說車子用租的也可以借，只要押行照在那裡即可，不需要像本件一樣的契約，本件是我去當鋪，他們說該簽名的地方，我就簽名，且是我透過別的司機得知被告穆立明可以幫我問問哪裡可以借錢，所以才找被告穆立明等語（見本院卷第65頁背面至第66頁背面），衡以證人徐鴻光涉犯本案犯行業經本院認定有罪確定，自應無虛偽陳述之動機，且被告穆立明自承與證人徐鴻光無糾紛，同為排班計程車司機，為點頭之交乙情，亦認證人徐鴻光無涉詞誣陷被告穆立明之可能；再參以證人王傑生、朱庭峰皆證述本案參與經營契約書係由被告穆立明提出一節，又被告並不否認宏帝當舖僅同意典當個人所有靠行之車輛，不同意典當向車行租的車輛等情，而本件共同被告徐鴻光既有提供行照予被告穆立明，業經其證述如前，則自行照之記載內容即可知悉上開車輛所有人為何人，被告穆立明豈有不知上開車輛所有人為何人之理，況被告穆立明供認介紹共同被告徐鴻光予宏帝當鋪借錢有利息百分之十之報酬等語（見本院卷第69頁背面），其當有可能為促成徐鴻光與宏帝當鋪借款，而提出本案經營契約書供作本件借款之用，是被告穆立明辯稱車子是徐鴻光說其自己所有，本案參與經營契約書係徐鴻光自行提出云云，顯係事後卸責之詞，不足採信。（五）綜上所述，被告上開所辯各節，無非事後避重就輕、圖卸之詞，不足採信，被告行使偽造私文書及詐欺取財等犯行，事證明確，應依法論科。三、論罪科刑部分：（一）按被告行為後，94年2月2日修正公布之刑法已於95年7月1日生效施行，其中第2條第1項「行為後法律有變更者，適用行為時之法律。但行為後之法律有利於行為人者，適用最有利於行為人之法律」之規定，係規範行為後法律變更所生新、舊法律比較適用之準據法，並非刑法實體法律，自不生行為後法律變更之比較適用問題，故刑法修正施行後，應適用該修正後之第2條第1項之規定，依「從舊、從輕」之原則比較新、舊法律之適用；又比較新舊法時，應就罪刑有關之共犯、未遂犯、想像競合犯、牽連犯、連續犯、結合犯，以及累犯加重、自首減輕暨其他法定加減原因（如身分加減）與加減例等一切情形，綜其全部罪刑之結果而為比較後，再適用有利於行為人之法律處斷，而不得一部割裂分別適用不同之新、舊法（最高法院24年上字第4634號、29年上字第964號判例意旨及最高法院95年度第8次刑事庭會議決議參照）。經查：1.刑法第33條第5款關於罰金刑之規定業於94年2月2日修正，於95年7月1日生效，修正前刑法第33條第5款規定：「罰金：1元（銀元）以上。」，並依現行法規所定貨幣單位折算新臺幣條例規定，以銀元1元折算新臺幣3元，故修正前刑法規定罰金之最低數額為新臺幣3元；修正後刑法第33條第5款規定：「罰金：新臺幣1,000元以上，以百元計算之。」，故修正後刑法規定罰金之最低數額提高為新臺幣1,000元；比較上開罰金刑之最高數額，於修正後並無不同，惟修正後刑法第33條第5款所定罰金刑最低數額，既較修正前提高，依前開說明，應適用對被告有利之修正前刑法第33條第5款之規定。2.修正前刑法第28條規定：「二人以上共同實施犯罪之行為者，皆為正犯。」，修正後該條規定為：「二人以上共同實行犯罪之行為者，皆為正犯。」，揆諸本條之修正理由，係為釐清陰謀共同正犯、預備共同正犯、共謀共同正犯是否合乎本條之正犯要件，並將陰謀共同正犯、預備共同正犯剔除於本條適用之外，以符合近代刑法之個人責任原則、法治國人權保障思想及犯罪支配理論，自屬行為後法律有變更，而非僅屬文字修正，應有新舊法比較適用問題（最高法院97年度台上字第37號判決意旨參照）。本件被告穆立明與徐鴻光就前揭行使偽造私文書及詐欺取財犯行各具有犯意聯絡及行為分擔，不論依修正前或修正後之規定，均屬共同正犯，對被告並無有利或不利之情形，應適用行為時之法律。3.被告行為後新法業已刪除牽連犯之規定，依舊法成立方法、結果行為而僅論以一罪者，依新法將論以數罪，比較新、舊法結果，自以修正前刑法第55條牽連犯之規定，較有利於被告。4.綜此，本院經綜合上述各條文修正前、後之比較，參照前揭最高法院決議及修正後刑法第2條第1項前段、後段規定之「從舊、從輕」原則，被告穆立明上開犯行自應適用行為時之法律，予以論處。（二）核被告穆立明所為，係犯刑法第216條、第210條之行使偽造私文書罪、同法第339條第1項詐欺取財罪。被告穆立明於本案參與經營契約書上偽造「志朗交通有限公司」、「陳健志」印章及印文乃偽造私文書之部分行為，其偽造本案參與經營契約書後持以行使，偽造之低度行為復為行使之高度行為所吸收，均不另論罪。被告穆立明與徐鴻光就行使偽造私文書及詐欺之犯行有犯意聯絡及行為分擔，為共同正犯。又其等行使偽造私文書之目的，在詐取告訴人之金錢，所犯連續行使偽造私文書與詐欺取財2罪間，有方法、目的之牽連關係，應依修正前刑法第55條規定，從一較重之行使偽造私文書罪處斷。（三）爰審酌被告穆立明不思以正當途徑賺取錢財，竟偽造志朗公司及其負責人陳建志之印章，進而偽造本案參與經營契約書，而詐取告訴人之金錢，足生損害於志朗公司、陳建志、告訴人，並危害社會交易秩序，所為實有不該，犯後否認犯行，未見悔悟之心，兼衡被告穆立明有違反票據法之前科，有臺灣高等法院被告前案紀錄表在卷可稽（見本院卷第60頁），素行尚可，共同被告徐鴻光於詐得借款後已陸續返還利息予告訴人與朱庭峰，及被告穆立明為高中肄業之智識程度，經濟狀況為小康之生活狀況等一切情狀（見被告警詢筆錄受詢問人欄，本院卷第6頁），量處如主文所示之刑，以資懲儆。又關於易科罰金之折算標準，修正前刑法第41條第1項前段規定：「犯最重本刑為5年以下有期徒刑以下之刑之罪，而受6個月以下有期徒刑或拘役之宣告，因身體、教育、職業、家庭之關係或其他正當事由，執行顯有困難者，得以1元以上3元以下折算1日，易科罰金。」，再依據修正前罰金罰鍰提高標準條例第2條：「依刑法第41條易科罰金或第42條第2項易服勞役者，均就其原定數額提高為1百倍折算1日；法律所定罰金數額未依本條例提高倍數，或其處罰法條無罰金刑之規定者，亦同。」之規定，被告行為時之易科罰金折算標準，應以銀元1百元以上3百元以下折算1日，經折算為新臺幣後，應以新臺幣3百元以上9百元以下折算1日。惟95年7月1日施行之刑法第41條第1項前段規定修正為：「犯最重本刑為5年以下有期徒刑以下之刑之罪，而受6個月以下有期徒刑或拘役之宣告者，得以新臺幣1千元、2千元或3千元折算一日，易科罰金。」，另95年7月1日生效施行之罰金罰鍰提高標準條例則刪除原本第2條之規定。是以比較新舊法結果，自以舊法所定之易科罰金折算標準有利於被告，故應依修正前刑法第41條第1項前段、修正前罰金罰鍰提高標準條例第2條規定，就所宣告之刑部分諭知易科罰金之折算標準。（四）偽造之「臺北市計程車客運駕駛人自備車輛參與經營契約書」原本1份固經共同被告徐鴻光於借款時行使交付予宏帝當鋪，業如前述，惟此僅係共同被告徐鴻光為借得款項，而將本案參與經營契約書交付當鋪作為擔保使用，其所有權仍為共同被告徐鴻光所有，不因行使而移轉為宏帝當鋪所有，又該偽造之契約既係供本件犯行所用，爰依刑法第38條第1項第2款規定宣告沒收。又契約上偽造之「志朗交通有限公司」印文4枚、「陳健志」之印文6枚固係偽造之印文，已因該契約之沒收而包括在內，無再重複諭知沒收之必要。另告訴人為提起本件告訴，而複印本案參與經營契約書資為證據（見94年度偵字第8715號卷第15至第17頁），因認僅係作為本案訴訟使用，而非被告穆立明、共同被告徐鴻光供本件犯行所用之物，就複印之契約書上之「志朗交通有限公司」印文4枚、「陳健志」之印文6枚，爰不予宣告沒收。至被告穆立明偽刻之「志朗交通有限公司」、「陳健志」印章各1枚，係偽造之印章，且無證據證明業已滅失，應依刑法第219條宣告沒收。（五）再按本條例施行前，經通緝而未於中華民國96年12月31日以前自動歸案接受偵查、審判或執行者，不得依本條例減刑，中華民國九十六年罪犯減刑條例第5條定有明文。查本件被告穆立明所為前開犯行之犯罪時間固係在96年4月24日以前，但其曾於中華民國九十六年罪犯減刑條例施行（96年7月16日施行）前之95年12月21日因本案經本院以95年士院刑玄緝字第463號通緝書發佈通緝，於102年9月1日甫緝獲歸案等情，此有前開通緝書、歸案證明書、本院102年士院刑玄銷字第289號撤銷通緝書各1份存卷可參（95年度訴字第955號卷第43頁、本院卷第26頁、第43頁），從而，依前開規定，本案被告無從依中華民國九十六年罪犯減刑條例之規定減刑，併此敘明。據上論斷，應依刑事訴訟法第299條第1項前段，刑法第2條1項前段、第28條、第216條、第210條、第339條第1項、第219條、第38條第1項第2款、修正前刑法第55條、第41條第1項前段，刑法施行法第1條之1第1項，修正前罰金罰鍰提高標準條例第2條，現行法規所定貨幣單位折算新臺幣條例第2條，判決如主文。本案經檢察官黃仙宜到庭執行職務。中華民國102年12月3日刑事第七庭審判長法官雷雯華法官陳介安法官蔡子琪以上正本證明與原本無異。如不服本判決應於收受送達後10日內向本院提出上訴書狀，並應敘述具體理由。其未敘述上訴理由者，應於上訴期間屆滿後20日內向本院補提理由書（均須按他造當事人之人數附繕本）「切勿逕送上級法院」。書記官李宜蓁中華民國102年12月5日附錄本案論罪科刑所依據之法條：刑法第216條、第210條、第339條第1項偽造、變造私文書，足以生損害於公眾或他人者，處5年以下有期徒刑。偽造印章、印文或署押，足以生損害於公眾或他人者，處3年以下有期徒刑。盜用印章、印文或署押，足以生損害於公眾或他人者，亦同。意圖為自己或第三人不法之所有，以詐術使人將本人或第三人之物交付者，處5年以下有期徒刑、拘役或科或併科1千元以下罰金。\n",
            "Test Sentences: [150, 242, 60, 302, 365]\n"
          ]
        }
      ]
    },
    {
      "cell_type": "markdown",
      "source": [
        "# 斷詞"
      ],
      "metadata": {
        "id": "HZmg7VtkoSOS"
      }
    },
    {
      "cell_type": "code",
      "source": [
        "!pip install udicOpenData"
      ],
      "metadata": {
        "colab": {
          "base_uri": "https://localhost:8080/"
        },
        "id": "x1Fe5ju9oL5m",
        "outputId": "3f950515-e952-4a95-99db-8624677661be"
      },
      "execution_count": 10,
      "outputs": [
        {
          "output_type": "stream",
          "name": "stdout",
          "text": [
            "Collecting udicOpenData\n",
            "  Downloading udicOpenData-2.4.tar.gz (17.8 MB)\n",
            "\u001b[2K     \u001b[90m━━━━━━━━━━━━━━━━━━━━━━━━━━━━━━━━━━━━━━━━\u001b[0m \u001b[32m17.8/17.8 MB\u001b[0m \u001b[31m38.6 MB/s\u001b[0m eta \u001b[36m0:00:00\u001b[0m\n",
            "\u001b[?25h  Preparing metadata (setup.py) ... \u001b[?25l\u001b[?25hdone\n",
            "Requirement already satisfied: jieba in /usr/local/lib/python3.10/dist-packages (from udicOpenData) (0.42.1)\n",
            "Requirement already satisfied: nltk in /usr/local/lib/python3.10/dist-packages (from udicOpenData) (3.8.1)\n",
            "Requirement already satisfied: numpy in /usr/local/lib/python3.10/dist-packages (from udicOpenData) (1.25.2)\n",
            "Requirement already satisfied: click in /usr/local/lib/python3.10/dist-packages (from nltk->udicOpenData) (8.1.7)\n",
            "Requirement already satisfied: joblib in /usr/local/lib/python3.10/dist-packages (from nltk->udicOpenData) (1.3.2)\n",
            "Requirement already satisfied: regex>=2021.8.3 in /usr/local/lib/python3.10/dist-packages (from nltk->udicOpenData) (2023.12.25)\n",
            "Requirement already satisfied: tqdm in /usr/local/lib/python3.10/dist-packages (from nltk->udicOpenData) (4.66.2)\n",
            "Building wheels for collected packages: udicOpenData\n",
            "  Building wheel for udicOpenData (setup.py) ... \u001b[?25l\u001b[?25hdone\n",
            "  Created wheel for udicOpenData: filename=udicOpenData-2.4-py3-none-any.whl size=18094423 sha256=68028ea27335beadbf2a842d44509d0408aa77bcec05aa1d2979f27ac28d7f38\n",
            "  Stored in directory: /root/.cache/pip/wheels/86/4f/46/2a28bc28485ba1f9d67dead62ac6aba14089a6cf1d5fbad365\n",
            "Successfully built udicOpenData\n",
            "Installing collected packages: udicOpenData\n",
            "Successfully installed udicOpenData-2.4\n"
          ]
        }
      ]
    },
    {
      "cell_type": "code",
      "source": [
        "!pip install opencc-python-reimplemented"
      ],
      "metadata": {
        "colab": {
          "base_uri": "https://localhost:8080/"
        },
        "id": "pygIOpMP1TT8",
        "outputId": "e0cc46d1-7a85-40eb-a2bb-25ffeeffd763"
      },
      "execution_count": 11,
      "outputs": [
        {
          "output_type": "stream",
          "name": "stdout",
          "text": [
            "Collecting opencc-python-reimplemented\n",
            "  Downloading opencc_python_reimplemented-0.1.7-py2.py3-none-any.whl (481 kB)\n",
            "\u001b[2K     \u001b[90m━━━━━━━━━━━━━━━━━━━━━━━━━━━━━━━━━━━━━━━━\u001b[0m \u001b[32m481.8/481.8 kB\u001b[0m \u001b[31m3.3 MB/s\u001b[0m eta \u001b[36m0:00:00\u001b[0m\n",
            "\u001b[?25hInstalling collected packages: opencc-python-reimplemented\n",
            "Successfully installed opencc-python-reimplemented-0.1.7\n"
          ]
        }
      ]
    },
    {
      "cell_type": "code",
      "source": [
        "from opencc import OpenCC"
      ],
      "metadata": {
        "id": "nDvC9PWt1VHI"
      },
      "execution_count": 12,
      "outputs": []
    },
    {
      "cell_type": "code",
      "source": [
        "cc = OpenCC('t2s')"
      ],
      "metadata": {
        "id": "O4midZsM1Wqq"
      },
      "execution_count": 13,
      "outputs": []
    },
    {
      "cell_type": "code",
      "source": [
        "from udicOpenData.stopwords import *\n",
        "\n",
        "# 分詞加空白\n",
        "def split_passage(passage):\n",
        "    word_and_tag = list(rmsw(passage, flag=True))\n",
        "    _temp = list(filter(lambda x: x[1]!='nr' and x[1]!='ns', word_and_tag))\n",
        "    # print(_temp)\n",
        "    text = \" \".join(list(map(lambda x:x[0], _temp)))\n",
        "    return text"
      ],
      "metadata": {
        "colab": {
          "base_uri": "https://localhost:8080/"
        },
        "id": "lqnfJvoXoHWX",
        "outputId": "2a578450-158a-4be8-af2d-d125a3db4dec"
      },
      "execution_count": 14,
      "outputs": [
        {
          "output_type": "stream",
          "name": "stderr",
          "text": [
            "[nltk_data] Downloading package punkt to /root/nltk_data...\n",
            "[nltk_data]   Unzipping tokenizers/punkt.zip.\n",
            "[nltk_data] Downloading package averaged_perceptron_tagger to\n",
            "[nltk_data]     /root/nltk_data...\n",
            "[nltk_data]   Unzipping taggers/averaged_perceptron_tagger.zip.\n",
            "[nltk_data] Downloading package maxent_ne_chunker to\n",
            "[nltk_data]     /root/nltk_data...\n",
            "[nltk_data]   Unzipping chunkers/maxent_ne_chunker.zip.\n",
            "[nltk_data] Downloading package words to /root/nltk_data...\n",
            "[nltk_data]   Unzipping corpora/words.zip.\n",
            "[nltk_data] Downloading package wordnet to /root/nltk_data...\n"
          ]
        }
      ]
    },
    {
      "cell_type": "markdown",
      "source": [
        "# bge-m3"
      ],
      "metadata": {
        "id": "e1JyY6hzrck_"
      }
    },
    {
      "cell_type": "code",
      "source": [
        "!pip install -U FlagEmbedding"
      ],
      "metadata": {
        "colab": {
          "base_uri": "https://localhost:8080/"
        },
        "id": "GP04ERaQrcaT",
        "outputId": "2331ebbc-84ba-47e8-bd45-4d073e03d2c6"
      },
      "execution_count": 18,
      "outputs": [
        {
          "output_type": "stream",
          "name": "stdout",
          "text": [
            "Collecting FlagEmbedding\n",
            "  Downloading FlagEmbedding-1.2.7.tar.gz (120 kB)\n",
            "\u001b[?25l     \u001b[90m━━━━━━━━━━━━━━━━━━━━━━━━━━━━━━━━━━━━━━━━\u001b[0m \u001b[32m0.0/120.4 kB\u001b[0m \u001b[31m?\u001b[0m eta \u001b[36m-:--:--\u001b[0m\r\u001b[2K     \u001b[91m━━━━━━━━━━━━━\u001b[0m\u001b[91m╸\u001b[0m\u001b[90m━━━━━━━━━━━━━━━━━━━━━━━━━━\u001b[0m \u001b[32m41.0/120.4 kB\u001b[0m \u001b[31m1.1 MB/s\u001b[0m eta \u001b[36m0:00:01\u001b[0m\r\u001b[2K     \u001b[91m━━━━━━━━━━━━━━━━━━━━━━━━━━━━━━━━━━━━━\u001b[0m\u001b[90m╺\u001b[0m\u001b[90m━━\u001b[0m \u001b[32m112.6/120.4 kB\u001b[0m \u001b[31m1.7 MB/s\u001b[0m eta \u001b[36m0:00:01\u001b[0m\r\u001b[2K     \u001b[90m━━━━━━━━━━━━━━━━━━━━━━━━━━━━━━━━━━━━━━━━\u001b[0m \u001b[32m120.4/120.4 kB\u001b[0m \u001b[31m1.6 MB/s\u001b[0m eta \u001b[36m0:00:00\u001b[0m\n",
            "\u001b[?25h  Preparing metadata (setup.py) ... \u001b[?25l\u001b[?25hdone\n",
            "Requirement already satisfied: torch>=1.6.0 in /usr/local/lib/python3.10/dist-packages (from FlagEmbedding) (2.2.1+cu121)\n",
            "Requirement already satisfied: transformers>=4.33.0 in /usr/local/lib/python3.10/dist-packages (from FlagEmbedding) (4.38.2)\n",
            "Collecting datasets (from FlagEmbedding)\n",
            "  Downloading datasets-2.18.0-py3-none-any.whl (510 kB)\n",
            "\u001b[2K     \u001b[90m━━━━━━━━━━━━━━━━━━━━━━━━━━━━━━━━━━━━━━━━\u001b[0m \u001b[32m510.5/510.5 kB\u001b[0m \u001b[31m6.8 MB/s\u001b[0m eta \u001b[36m0:00:00\u001b[0m\n",
            "\u001b[?25hCollecting accelerate>=0.20.1 (from FlagEmbedding)\n",
            "  Downloading accelerate-0.28.0-py3-none-any.whl (290 kB)\n",
            "\u001b[2K     \u001b[90m━━━━━━━━━━━━━━━━━━━━━━━━━━━━━━━━━━━━━━━━\u001b[0m \u001b[32m290.1/290.1 kB\u001b[0m \u001b[31m21.1 MB/s\u001b[0m eta \u001b[36m0:00:00\u001b[0m\n",
            "\u001b[?25hCollecting sentence_transformers (from FlagEmbedding)\n",
            "  Downloading sentence_transformers-2.5.1-py3-none-any.whl (156 kB)\n",
            "\u001b[2K     \u001b[90m━━━━━━━━━━━━━━━━━━━━━━━━━━━━━━━━━━━━━━━━\u001b[0m \u001b[32m156.5/156.5 kB\u001b[0m \u001b[31m18.4 MB/s\u001b[0m eta \u001b[36m0:00:00\u001b[0m\n",
            "\u001b[?25hRequirement already satisfied: numpy>=1.17 in /usr/local/lib/python3.10/dist-packages (from accelerate>=0.20.1->FlagEmbedding) (1.25.2)\n",
            "Requirement already satisfied: packaging>=20.0 in /usr/local/lib/python3.10/dist-packages (from accelerate>=0.20.1->FlagEmbedding) (24.0)\n",
            "Requirement already satisfied: psutil in /usr/local/lib/python3.10/dist-packages (from accelerate>=0.20.1->FlagEmbedding) (5.9.5)\n",
            "Requirement already satisfied: pyyaml in /usr/local/lib/python3.10/dist-packages (from accelerate>=0.20.1->FlagEmbedding) (6.0.1)\n",
            "Requirement already satisfied: huggingface-hub in /usr/local/lib/python3.10/dist-packages (from accelerate>=0.20.1->FlagEmbedding) (0.20.3)\n",
            "Requirement already satisfied: safetensors>=0.3.1 in /usr/local/lib/python3.10/dist-packages (from accelerate>=0.20.1->FlagEmbedding) (0.4.2)\n",
            "Requirement already satisfied: filelock in /usr/local/lib/python3.10/dist-packages (from torch>=1.6.0->FlagEmbedding) (3.13.1)\n",
            "Requirement already satisfied: typing-extensions>=4.8.0 in /usr/local/lib/python3.10/dist-packages (from torch>=1.6.0->FlagEmbedding) (4.10.0)\n",
            "Requirement already satisfied: sympy in /usr/local/lib/python3.10/dist-packages (from torch>=1.6.0->FlagEmbedding) (1.12)\n",
            "Requirement already satisfied: networkx in /usr/local/lib/python3.10/dist-packages (from torch>=1.6.0->FlagEmbedding) (3.2.1)\n",
            "Requirement already satisfied: jinja2 in /usr/local/lib/python3.10/dist-packages (from torch>=1.6.0->FlagEmbedding) (3.1.3)\n",
            "Requirement already satisfied: fsspec in /usr/local/lib/python3.10/dist-packages (from torch>=1.6.0->FlagEmbedding) (2023.6.0)\n",
            "Collecting nvidia-cuda-nvrtc-cu12==12.1.105 (from torch>=1.6.0->FlagEmbedding)\n",
            "  Downloading nvidia_cuda_nvrtc_cu12-12.1.105-py3-none-manylinux1_x86_64.whl (23.7 MB)\n",
            "\u001b[2K     \u001b[90m━━━━━━━━━━━━━━━━━━━━━━━━━━━━━━━━━━━━━━━━\u001b[0m \u001b[32m23.7/23.7 MB\u001b[0m \u001b[31m37.4 MB/s\u001b[0m eta \u001b[36m0:00:00\u001b[0m\n",
            "\u001b[?25hCollecting nvidia-cuda-runtime-cu12==12.1.105 (from torch>=1.6.0->FlagEmbedding)\n",
            "  Downloading nvidia_cuda_runtime_cu12-12.1.105-py3-none-manylinux1_x86_64.whl (823 kB)\n",
            "\u001b[2K     \u001b[90m━━━━━━━━━━━━━━━━━━━━━━━━━━━━━━━━━━━━━━━━\u001b[0m \u001b[32m823.6/823.6 kB\u001b[0m \u001b[31m51.9 MB/s\u001b[0m eta \u001b[36m0:00:00\u001b[0m\n",
            "\u001b[?25hCollecting nvidia-cuda-cupti-cu12==12.1.105 (from torch>=1.6.0->FlagEmbedding)\n",
            "  Downloading nvidia_cuda_cupti_cu12-12.1.105-py3-none-manylinux1_x86_64.whl (14.1 MB)\n",
            "\u001b[2K     \u001b[90m━━━━━━━━━━━━━━━━━━━━━━━━━━━━━━━━━━━━━━━━\u001b[0m \u001b[32m14.1/14.1 MB\u001b[0m \u001b[31m40.2 MB/s\u001b[0m eta \u001b[36m0:00:00\u001b[0m\n",
            "\u001b[?25hCollecting nvidia-cudnn-cu12==8.9.2.26 (from torch>=1.6.0->FlagEmbedding)\n",
            "  Downloading nvidia_cudnn_cu12-8.9.2.26-py3-none-manylinux1_x86_64.whl (731.7 MB)\n",
            "\u001b[2K     \u001b[90m━━━━━━━━━━━━━━━━━━━━━━━━━━━━━━━━━━━━━━━━\u001b[0m \u001b[32m731.7/731.7 MB\u001b[0m \u001b[31m519.8 kB/s\u001b[0m eta \u001b[36m0:00:00\u001b[0m\n",
            "\u001b[?25hCollecting nvidia-cublas-cu12==12.1.3.1 (from torch>=1.6.0->FlagEmbedding)\n",
            "  Downloading nvidia_cublas_cu12-12.1.3.1-py3-none-manylinux1_x86_64.whl (410.6 MB)\n",
            "\u001b[2K     \u001b[90m━━━━━━━━━━━━━━━━━━━━━━━━━━━━━━━━━━━━━━━━\u001b[0m \u001b[32m410.6/410.6 MB\u001b[0m \u001b[31m824.7 kB/s\u001b[0m eta \u001b[36m0:00:00\u001b[0m\n",
            "\u001b[?25hCollecting nvidia-cufft-cu12==11.0.2.54 (from torch>=1.6.0->FlagEmbedding)\n",
            "  Downloading nvidia_cufft_cu12-11.0.2.54-py3-none-manylinux1_x86_64.whl (121.6 MB)\n",
            "\u001b[2K     \u001b[90m━━━━━━━━━━━━━━━━━━━━━━━━━━━━━━━━━━━━━━━━\u001b[0m \u001b[32m121.6/121.6 MB\u001b[0m \u001b[31m1.9 MB/s\u001b[0m eta \u001b[36m0:00:00\u001b[0m\n",
            "\u001b[?25hCollecting nvidia-curand-cu12==10.3.2.106 (from torch>=1.6.0->FlagEmbedding)\n",
            "  Downloading nvidia_curand_cu12-10.3.2.106-py3-none-manylinux1_x86_64.whl (56.5 MB)\n",
            "\u001b[2K     \u001b[90m━━━━━━━━━━━━━━━━━━━━━━━━━━━━━━━━━━━━━━━━\u001b[0m \u001b[32m56.5/56.5 MB\u001b[0m \u001b[31m8.7 MB/s\u001b[0m eta \u001b[36m0:00:00\u001b[0m\n",
            "\u001b[?25hCollecting nvidia-cusolver-cu12==11.4.5.107 (from torch>=1.6.0->FlagEmbedding)\n",
            "  Downloading nvidia_cusolver_cu12-11.4.5.107-py3-none-manylinux1_x86_64.whl (124.2 MB)\n",
            "\u001b[2K     \u001b[90m━━━━━━━━━━━━━━━━━━━━━━━━━━━━━━━━━━━━━━━━\u001b[0m \u001b[32m124.2/124.2 MB\u001b[0m \u001b[31m4.5 MB/s\u001b[0m eta \u001b[36m0:00:00\u001b[0m\n",
            "\u001b[?25hCollecting nvidia-cusparse-cu12==12.1.0.106 (from torch>=1.6.0->FlagEmbedding)\n",
            "  Downloading nvidia_cusparse_cu12-12.1.0.106-py3-none-manylinux1_x86_64.whl (196.0 MB)\n",
            "\u001b[2K     \u001b[90m━━━━━━━━━━━━━━━━━━━━━━━━━━━━━━━━━━━━━━━━\u001b[0m \u001b[32m196.0/196.0 MB\u001b[0m \u001b[31m1.1 MB/s\u001b[0m eta \u001b[36m0:00:00\u001b[0m\n",
            "\u001b[?25hCollecting nvidia-nccl-cu12==2.19.3 (from torch>=1.6.0->FlagEmbedding)\n",
            "  Downloading nvidia_nccl_cu12-2.19.3-py3-none-manylinux1_x86_64.whl (166.0 MB)\n",
            "\u001b[2K     \u001b[90m━━━━━━━━━━━━━━━━━━━━━━━━━━━━━━━━━━━━━━━━\u001b[0m \u001b[32m166.0/166.0 MB\u001b[0m \u001b[31m1.4 MB/s\u001b[0m eta \u001b[36m0:00:00\u001b[0m\n",
            "\u001b[?25hCollecting nvidia-nvtx-cu12==12.1.105 (from torch>=1.6.0->FlagEmbedding)\n",
            "  Downloading nvidia_nvtx_cu12-12.1.105-py3-none-manylinux1_x86_64.whl (99 kB)\n",
            "\u001b[2K     \u001b[90m━━━━━━━━━━━━━━━━━━━━━━━━━━━━━━━━━━━━━━━━\u001b[0m \u001b[32m99.1/99.1 kB\u001b[0m \u001b[31m1.2 MB/s\u001b[0m eta \u001b[36m0:00:00\u001b[0m\n",
            "\u001b[?25hRequirement already satisfied: triton==2.2.0 in /usr/local/lib/python3.10/dist-packages (from torch>=1.6.0->FlagEmbedding) (2.2.0)\n",
            "Collecting nvidia-nvjitlink-cu12 (from nvidia-cusolver-cu12==11.4.5.107->torch>=1.6.0->FlagEmbedding)\n",
            "  Downloading nvidia_nvjitlink_cu12-12.4.99-py3-none-manylinux2014_x86_64.whl (21.1 MB)\n",
            "\u001b[2K     \u001b[90m━━━━━━━━━━━━━━━━━━━━━━━━━━━━━━━━━━━━━━━━\u001b[0m \u001b[32m21.1/21.1 MB\u001b[0m \u001b[31m1.6 MB/s\u001b[0m eta \u001b[36m0:00:00\u001b[0m\n",
            "\u001b[?25hRequirement already satisfied: regex!=2019.12.17 in /usr/local/lib/python3.10/dist-packages (from transformers>=4.33.0->FlagEmbedding) (2023.12.25)\n",
            "Requirement already satisfied: requests in /usr/local/lib/python3.10/dist-packages (from transformers>=4.33.0->FlagEmbedding) (2.31.0)\n",
            "Requirement already satisfied: tokenizers<0.19,>=0.14 in /usr/local/lib/python3.10/dist-packages (from transformers>=4.33.0->FlagEmbedding) (0.15.2)\n",
            "Requirement already satisfied: tqdm>=4.27 in /usr/local/lib/python3.10/dist-packages (from transformers>=4.33.0->FlagEmbedding) (4.66.2)\n",
            "Requirement already satisfied: pyarrow>=12.0.0 in /usr/local/lib/python3.10/dist-packages (from datasets->FlagEmbedding) (14.0.2)\n",
            "Requirement already satisfied: pyarrow-hotfix in /usr/local/lib/python3.10/dist-packages (from datasets->FlagEmbedding) (0.6)\n",
            "Collecting dill<0.3.9,>=0.3.0 (from datasets->FlagEmbedding)\n",
            "  Downloading dill-0.3.8-py3-none-any.whl (116 kB)\n",
            "\u001b[2K     \u001b[90m━━━━━━━━━━━━━━━━━━━━━━━━━━━━━━━━━━━━━━━━\u001b[0m \u001b[32m116.3/116.3 kB\u001b[0m \u001b[31m2.0 MB/s\u001b[0m eta \u001b[36m0:00:00\u001b[0m\n",
            "\u001b[?25hRequirement already satisfied: pandas in /usr/local/lib/python3.10/dist-packages (from datasets->FlagEmbedding) (1.5.3)\n",
            "Collecting xxhash (from datasets->FlagEmbedding)\n",
            "  Downloading xxhash-3.4.1-cp310-cp310-manylinux_2_17_x86_64.manylinux2014_x86_64.whl (194 kB)\n",
            "\u001b[2K     \u001b[90m━━━━━━━━━━━━━━━━━━━━━━━━━━━━━━━━━━━━━━━━\u001b[0m \u001b[32m194.1/194.1 kB\u001b[0m \u001b[31m2.1 MB/s\u001b[0m eta \u001b[36m0:00:00\u001b[0m\n",
            "\u001b[?25hCollecting multiprocess (from datasets->FlagEmbedding)\n",
            "  Downloading multiprocess-0.70.16-py310-none-any.whl (134 kB)\n",
            "\u001b[2K     \u001b[90m━━━━━━━━━━━━━━━━━━━━━━━━━━━━━━━━━━━━━━━━\u001b[0m \u001b[32m134.8/134.8 kB\u001b[0m \u001b[31m1.7 MB/s\u001b[0m eta \u001b[36m0:00:00\u001b[0m\n",
            "\u001b[?25hRequirement already satisfied: aiohttp in /usr/local/lib/python3.10/dist-packages (from datasets->FlagEmbedding) (3.9.3)\n",
            "Requirement already satisfied: scikit-learn in /usr/local/lib/python3.10/dist-packages (from sentence_transformers->FlagEmbedding) (1.2.2)\n",
            "Requirement already satisfied: scipy in /usr/local/lib/python3.10/dist-packages (from sentence_transformers->FlagEmbedding) (1.11.4)\n",
            "Requirement already satisfied: Pillow in /usr/local/lib/python3.10/dist-packages (from sentence_transformers->FlagEmbedding) (9.4.0)\n",
            "Requirement already satisfied: aiosignal>=1.1.2 in /usr/local/lib/python3.10/dist-packages (from aiohttp->datasets->FlagEmbedding) (1.3.1)\n",
            "Requirement already satisfied: attrs>=17.3.0 in /usr/local/lib/python3.10/dist-packages (from aiohttp->datasets->FlagEmbedding) (23.2.0)\n",
            "Requirement already satisfied: frozenlist>=1.1.1 in /usr/local/lib/python3.10/dist-packages (from aiohttp->datasets->FlagEmbedding) (1.4.1)\n",
            "Requirement already satisfied: multidict<7.0,>=4.5 in /usr/local/lib/python3.10/dist-packages (from aiohttp->datasets->FlagEmbedding) (6.0.5)\n",
            "Requirement already satisfied: yarl<2.0,>=1.0 in /usr/local/lib/python3.10/dist-packages (from aiohttp->datasets->FlagEmbedding) (1.9.4)\n",
            "Requirement already satisfied: async-timeout<5.0,>=4.0 in /usr/local/lib/python3.10/dist-packages (from aiohttp->datasets->FlagEmbedding) (4.0.3)\n",
            "Requirement already satisfied: charset-normalizer<4,>=2 in /usr/local/lib/python3.10/dist-packages (from requests->transformers>=4.33.0->FlagEmbedding) (3.3.2)\n",
            "Requirement already satisfied: idna<4,>=2.5 in /usr/local/lib/python3.10/dist-packages (from requests->transformers>=4.33.0->FlagEmbedding) (3.6)\n",
            "Requirement already satisfied: urllib3<3,>=1.21.1 in /usr/local/lib/python3.10/dist-packages (from requests->transformers>=4.33.0->FlagEmbedding) (2.0.7)\n",
            "Requirement already satisfied: certifi>=2017.4.17 in /usr/local/lib/python3.10/dist-packages (from requests->transformers>=4.33.0->FlagEmbedding) (2024.2.2)\n",
            "Requirement already satisfied: MarkupSafe>=2.0 in /usr/local/lib/python3.10/dist-packages (from jinja2->torch>=1.6.0->FlagEmbedding) (2.1.5)\n",
            "Requirement already satisfied: python-dateutil>=2.8.1 in /usr/local/lib/python3.10/dist-packages (from pandas->datasets->FlagEmbedding) (2.8.2)\n",
            "Requirement already satisfied: pytz>=2020.1 in /usr/local/lib/python3.10/dist-packages (from pandas->datasets->FlagEmbedding) (2023.4)\n",
            "Requirement already satisfied: joblib>=1.1.1 in /usr/local/lib/python3.10/dist-packages (from scikit-learn->sentence_transformers->FlagEmbedding) (1.3.2)\n",
            "Requirement already satisfied: threadpoolctl>=2.0.0 in /usr/local/lib/python3.10/dist-packages (from scikit-learn->sentence_transformers->FlagEmbedding) (3.3.0)\n",
            "Requirement already satisfied: mpmath>=0.19 in /usr/local/lib/python3.10/dist-packages (from sympy->torch>=1.6.0->FlagEmbedding) (1.3.0)\n",
            "Requirement already satisfied: six>=1.5 in /usr/local/lib/python3.10/dist-packages (from python-dateutil>=2.8.1->pandas->datasets->FlagEmbedding) (1.16.0)\n",
            "Building wheels for collected packages: FlagEmbedding\n",
            "  Building wheel for FlagEmbedding (setup.py) ... \u001b[?25l\u001b[?25hdone\n",
            "  Created wheel for FlagEmbedding: filename=FlagEmbedding-1.2.7-py3-none-any.whl size=142861 sha256=824ebb4721d0ab55267e2563212ba4f7e66f88655ff012de722692de4d3d6872\n",
            "  Stored in directory: /root/.cache/pip/wheels/bd/c2/6e/ccadcbb61e5f900807e18a07ed3a5d540742312cdf5469eccb\n",
            "Successfully built FlagEmbedding\n",
            "Installing collected packages: xxhash, nvidia-nvtx-cu12, nvidia-nvjitlink-cu12, nvidia-nccl-cu12, nvidia-curand-cu12, nvidia-cufft-cu12, nvidia-cuda-runtime-cu12, nvidia-cuda-nvrtc-cu12, nvidia-cuda-cupti-cu12, nvidia-cublas-cu12, dill, nvidia-cusparse-cu12, nvidia-cudnn-cu12, multiprocess, nvidia-cusolver-cu12, datasets, sentence_transformers, accelerate, FlagEmbedding\n",
            "Successfully installed FlagEmbedding-1.2.7 accelerate-0.28.0 datasets-2.18.0 dill-0.3.8 multiprocess-0.70.16 nvidia-cublas-cu12-12.1.3.1 nvidia-cuda-cupti-cu12-12.1.105 nvidia-cuda-nvrtc-cu12-12.1.105 nvidia-cuda-runtime-cu12-12.1.105 nvidia-cudnn-cu12-8.9.2.26 nvidia-cufft-cu12-11.0.2.54 nvidia-curand-cu12-10.3.2.106 nvidia-cusolver-cu12-11.4.5.107 nvidia-cusparse-cu12-12.1.0.106 nvidia-nccl-cu12-2.19.3 nvidia-nvjitlink-cu12-12.4.99 nvidia-nvtx-cu12-12.1.105 sentence_transformers-2.5.1 xxhash-3.4.1\n"
          ]
        }
      ]
    },
    {
      "cell_type": "code",
      "source": [
        "from FlagEmbedding import BGEM3FlagModel"
      ],
      "metadata": {
        "id": "dzMUB0vhtIN1"
      },
      "execution_count": 19,
      "outputs": []
    },
    {
      "cell_type": "code",
      "source": [
        "model = BGEM3FlagModel('BAAI/bge-m3',\n",
        "                       use_fp16=True) # Setting use_fp16 to True speeds up computation with a slight performance degradation"
      ],
      "metadata": {
        "colab": {
          "base_uri": "https://localhost:8080/",
          "height": 912,
          "referenced_widgets": [
            "017c4594c74e411f94fa84e1a46df0d4",
            "29400e4476f44065a77f4ec951d79108",
            "d8cd409f456f4d088071e90354784e15",
            "c22b31217aba49a18c5678bcbb2f597c",
            "b5522916df1e4b0c9cc6a83ce4d788d4",
            "538718bd299d40ca8262cf23991b2910",
            "8d13e15b6245473c8894f59a3ba43fb6",
            "e79b92e4119b4c50a50ef478798f0607",
            "692571e444174536894720be17cfc0ce",
            "70e38e50adbd467dac81415c997f926c",
            "90af8ef4b47c409384def6c397bd02b4",
            "6cc7bba9559e4d7381fdf07658028d6a",
            "37a0d8b041e3404ab9af519fd0de3cb7",
            "d575fed4b58f4088a3d1ffd3cd209951",
            "d73e2edbc8cb4a20b3064f9337ae37d2",
            "3a722b3a2d304346ab0460f0c20e6a75",
            "d609b3178f1f4101ae52e832aa58358a",
            "2bed378f64c14458b216388be3a5ba13",
            "b4083c3caf104dc68e03b2b25a34d07d",
            "93c2b42946a248baa3f4dbbfe622566c",
            "c812850522fa47d485d775ce99f7b48c",
            "64265c4bfa94413c9467da0740eb532c",
            "9c6009e0c5e547adb00fd393f43210d2",
            "047ab4a04e484e7c8b1f6589c7572892",
            "761d608e626b4ab298dfecca8b2d9d2a",
            "821686216c43418e86754fc4f61d131a",
            "c16c0f0cf35247199aec8871d32bb6c6",
            "98358d41db7047998710308f122ac8b1",
            "98125424ddae4fb28bac015b01012804",
            "aa94ef8cd59b4c638cb55785c8d3dd36",
            "d34122e8abb5461ebcfdbff82449a50f",
            "0bc53227e8e9492eaec2a5a423d3ee8f",
            "e0ba10b205b24eb69433e0a16de16511",
            "309d8ba7e8874412a0532e281450dee9",
            "7c75bfce521a4dbbae6bed86b2fde0b5",
            "fcd2caa5885047e6adf67d9ae6930506",
            "c17f7a6b65ed4a288375b07e036925eb",
            "919ef25f32fd4951af8256b59416dba1",
            "729a746376a24127a324168d870d4a67",
            "20055a8f643c4f9f96003392d2574c6f",
            "769e29cdc6d945328bb1fbc591a33ff1",
            "05a878fee60f4edd97b524006539ca6b",
            "187d1ef7fce0444ea41c8a007f6d43e8",
            "02d2368c3c9742a2857ea845ea89a813",
            "2574a0dbc0e044559936d2bfe876c8bb",
            "e40b625f8403461ab0810ab2837d81ca",
            "a4d8a8f216924b6fa33e5511df6e9646",
            "ab2229adcdb8497d94b4e3af1638f8aa",
            "1231e6807b4c4acf9346f21cde39a811",
            "71d788975d7b42539de0bd00d4f22eed",
            "2e8d81b6ae314aa5bdd7035e49bf8aa0",
            "cf111834c9f049c385d9af0cebf70805",
            "06f058ed125c43f8beb57ebe7e70cdd8",
            "95aad84dd2ac4dd4bb154a30b61481b4",
            "47f4eb8eb65c438ca73eaa625f2df2ed",
            "8a32b7cbc8ac4b8ba0f2950350493120",
            "d5f3bfbc8d1d4c63a2087973ccb175ee",
            "c9e6c8673bad41ee9c09b068dfb4830f",
            "6b64800934ba4179957aa7ac54a18681",
            "1172fc2b858b49f2841dcd1a95487b13",
            "ee0ba823df2c4e0a80235549f481c1c1",
            "d3bf996adc284849ba053ad7a1e0ca36",
            "79ee95a04c0e410aa663c48145ae839c",
            "7046ee6c59f34f8ba35d7fa1618268f7",
            "0d62ef0c7848455c8e372c4342417c67",
            "ce2cbfcb0db9428c97e990201a44fd61",
            "403179c279fb4bb791a68ddb5b4b59e6",
            "a15ebb1b35c7425e90534a7f212890bc",
            "eca3878a048241bbbd60d01a87a6285b",
            "016c0e4fc20847b3b403917528980ef9",
            "7594d3b87ad34944b4e06976bc21e9c4",
            "62326384b53647e39ffacc8b51f13c85",
            "e25262bf7fa246549caf45a9209c6d1a",
            "e4faa09ffe6d43298f5a8726f4ce203b",
            "8bdd67e4f6bc442f96792cfa2465582a",
            "c1b3ea2563ab4b6f8686b58d680b9a4d",
            "83e41e9105294c62a278a757fb751655",
            "9038116ce660467c9607055d2ce1325a",
            "11206881f32549be8e0ed809f4780fd4",
            "9f531d13b83e47d68052e39f6250ebfa",
            "1d4737bee93a42a1b2eb422286464e70",
            "3ed52006e47748e29c6629362588e0b7",
            "d1138fcfc15a47f3a4058d87c830994e",
            "4fc547a0e3af4e66a1c657e0a87eaacb",
            "2df60679ad614b00a1e72d464945857a",
            "bb50a257348a4b47bd8ef669f4fc97b2",
            "c5ba47a98db8403ebb5c4a6eb260a45c",
            "767a0d60fbb449d7bc9ccc3e0b1f71cc",
            "a96704a7ed124b228b1878590a354248",
            "51992ab762aa47b882f00cf7d54ae765",
            "22d99e8842d64bc6926a7cc05bf2a88a",
            "351f756eaf8b45a0a54ddd158cf12154",
            "4d44fa90678c4db98215703fbbe40451",
            "45f36194965541bab2f01447b9b3c3be",
            "1c3a3339d8014b3294bc5d2cc6840dc9",
            "a6793d6b7cf64f32841c22cc3be1cf4e",
            "79da7c603faa4f57913b9ef8e4600b46",
            "75fe2fae01fd4374b201f5dc337b4567",
            "1ab1cc66823444c1a928759e6993f525",
            "967dc526913d4ca7867562bc92e03f81",
            "7e26eebe76cc44a3bc975e2dcd57c4c9",
            "72a44ee7433040b281096b2ac361551b",
            "905568ac8c3645c281865fd4e6cbd2ae",
            "258491f80a034dcc89a1bd7d8bc10739",
            "13a6d5699cba42e8a52092ce1fc8b2a9",
            "9f8f6f6cb9734bc0b1f0eb80a0b2b20a",
            "baf99620955b40a0af4c03ce7c55516a",
            "1d995c585b8d42ef8c132eb40507cd3e",
            "8bca65c538cc419a9ed941a607da9ff8",
            "8b9422452c70494f998b3827bfab164c",
            "fb1c036f535346048fa5852334b074e3",
            "7aac0525b526497b9fa72c46e36fa2d8",
            "c5a9e260c7a64b5ebcec10611e4a01cd",
            "00746d5efcd8483a8b471da777c9208b",
            "45b714d9251a422fb0fbb8d0c3b060c5",
            "9f04aaf16ea64e4da8a23455e386c4ef",
            "f1911302feec4c5e85cbd00f98d2ee9b",
            "0439114ccc22442b9047fedbc3b4ec29",
            "5ff1b3bfcc9e48f8ac31234605e73f4b",
            "4b7891703c9c4af18d6525f7e7488de6",
            "fb928a59b3094714ba0f7ecd697ff527",
            "9f86ba80a4c64b3182192a6bf2327510",
            "72ec1e4a2e2f45a1b2ac9d229ce87b59",
            "cfe531937e7844a68446982abb6feca2",
            "392e43a6723447f8ac26b100c4179e3a",
            "f31ad5310dc94211b593360fbddb33aa",
            "eaa4d84e478b4fceb1aae59557291418",
            "9a9c2f23e9c84679ad4b7214c5e06495",
            "175494b0284b46b7bb94e993c2d69b52",
            "b5e6efac10b6434a8f3d65c6836bef0f",
            "0908ce9b37ee453c8bca87f34e6d1c8b",
            "2c599f5dac9e4dc495f704935dbb4e4d",
            "dd13a4f96dc34c059ba1c9dd0d6428c5",
            "d451977539dc462381ae23b45b67e35c",
            "79271d79960a49f986f1a5d10af3534c",
            "4efecfedb4764405af35cb3b8b5ee776",
            "0978d1dee52a449fbd27ed5b68846746",
            "da47cc7992ee48d89b6b636508d5f5b8",
            "b9e6a01ee21f4341b09e21c71190179c",
            "1af9487a77ba4ca2ba177f164cb2e1ba",
            "7b7243503e4d4288b517514d22471515",
            "bc946e7c5ed944e39d487c106abb3e04",
            "6ae959c16943438cac21fdfb5e3708c0",
            "af1d268e96b6472cb981b507c414d6a4",
            "33cb675102d1408db1b14cebed49d077",
            "2fa0aac734224820acd64835c59e1038",
            "eae54f01f49b4be5a7dafd1e37e39752",
            "23afd8749d8242be9122f14aa821ab12",
            "c329dc547d1f431f9f768a0b28133dc0",
            "fe6b5a074dc843159b368c5756f8bba4",
            "d18d0dcfc05b4d5ca2571c9ad3700456",
            "487c4fa5ec4e43f1ac2099b20c1bd197",
            "6bb0eb2ec5534595a6b3338826f0beb3",
            "b6eeb25a45b94da29322a92640bc1567",
            "43d03899c7ff4ac3b332d14e3ee55387",
            "74c815f903b8458c929ac3b800cf9640",
            "a54d3ab3785a4eb795b94726a6b8e222",
            "898c4cb9e647408d902ca1cc24c1d14c",
            "a318f5a6bdac40b2a8718d4277dc8d70",
            "e94f0a7c81f14978a95dd6113410a016",
            "a6ec886d86bf4076b2c0ded008262eb0",
            "b9baafd80f5042ee9a98ba30a4768ca2",
            "993a8083d5664c1facbc8b75655203f8",
            "96c13241d01c4d1994c3198768d13fea",
            "2eb61e524d284f66b80e6e53da780ae5",
            "4f7fb3d5d05e4961b4b2584b2112b00d",
            "0c826d9e99204394818b1a1be2a55f29",
            "4e4f561b1c19430e9a9e3dcf17cc4595",
            "7cadd0dc2a934950b42761ef53e2591a",
            "33b9389e986a4e4fa38b384002eadb7c",
            "2b029996d3d3437ca2e67ec73034b18b",
            "49b795f04c7c47a0b55e198ea4de2c52",
            "b4fcab2e1e6e49aaabda67249fb34a01",
            "e1ae33a4fc244fc9b6a925a879919b26",
            "2d6e8cf492c442e382dbf6d92efc925a",
            "c135831e286c4033ba345217931db775",
            "c7e7141e9f8544dc82bbcd8d0ea0d198",
            "bff4a6b23ec1493daded1655ea734793",
            "9eafa237b3624f8583ae50cc2cd38c03",
            "fd864c0ad7b749559cbe84c72bc9ac8e",
            "778f4dae62ea4038873b2a5a68477dc0",
            "8bf89f37a4154c69a1a10d0b4dcac3ab",
            "d87a9599ca5d40dcaa96f72c648a7c8f",
            "536f79004be04244b5e300dea852b211",
            "5ebce82154484e9a9391676865ef7836",
            "d31470ccb0aa4f4d9e7dc86e34d84556",
            "34a7f48e67d74644abcfc29df72b5fbf",
            "5063e11b88b74d648cda77c120ffa029",
            "4fc961328ea54b03b9960ffef32416dc",
            "565be6cd9bf64e9197ec72dfa49a64f5",
            "bc95600b6a944b6b8b5396d4e60292a0",
            "6133f2e0e8854aeaa79b9b8765676592",
            "46b989068c6d4cc79a335018c700962c",
            "bf3827201e9e4e0cab388d7fa720e76c",
            "2b205768766e4f22b47a1894f8a90dbb",
            "78ca22798c44427ca0acf42a2f143fac",
            "5f2bce06939c449d96f9adae6ca064a3",
            "c0b51a7d4efe4652bcd9ef0eb7097c98",
            "0a3a5c512ede42a1a45d20c4554ba7dc",
            "3ea12cefca654a5faf6859cf804fd027",
            "55a6269856294d30b9dd01040c3fb0df",
            "357564e674524ac58a08fe46794da7f4",
            "4afd54cc9fcf4d2188d91316ded6430f",
            "c5aeb48b3627483b9f3ba6d03b3b8c69",
            "7a37bf1f8bc447a980741bcba757746f",
            "133e41fd459b4aba8bdd0181a03f201e",
            "dd6f157375e543b5832a712862f7f1c2",
            "f0b144d60234465ba9ad2416055ae3ad",
            "fa192141ccb346c7852ff74c0b107400",
            "fb0ff4ec8aed41a7bd4a25a70b71f327",
            "a946459b23f54b0cbc3592e68f8fba2c",
            "82fc76be784141b2ad93ca4ea556c40c",
            "50fc8ce4e8cf4e5ea655a15052ffb62b",
            "1638b2c256c4483a824c28216c04525f",
            "c6877861fe86416cb987631adfe64ed1",
            "d9f3d475efb04c37937b7b63bc800af8",
            "076a915a764f4324983bca216acb26ac",
            "73f29d4e63574f12b06fb7a702875017",
            "f3c49936bbb244ba95c0b0fe2b90183c",
            "6a80a52c0c4745a3998ec2539701c525",
            "eabd9c62dad747dbbdbe5a122e9ffdf7",
            "fcefe3c4ee954566b4b5325bfb264dff",
            "c84c6dea29ec410e9e529f76fd969fae",
            "82206b3ee4284e2fa195180c9db4ec35",
            "4b1df496a223482cbe5c29570183d3b2",
            "f9fa466701be43c5a2b53446eb0e8abb",
            "27520f7705c047e58447626d6e4b7f58",
            "161d4e3db7314ceb89b3ac0179d41317",
            "e3c3da9e306742f8bbb43c5fec04be1c",
            "3d6ffa6509a04bb49bb5f35608b4e94e",
            "9cf4c76a6d73498cb034048df959ebbe",
            "be4b39c1ddab4d17b077926ad5557690",
            "2075dfc3a3804256a233cf97cb533722",
            "0d09ac4c57084478b0a40980014e8630",
            "e7ea83ba7d1b498fad28db36521c8558",
            "e83c11749e0247f58c2105adf3623e1b",
            "9c913cf5bb3d4c83b8fbbfc2190f4cff",
            "bb09de54e45f44d69c2ba56bc070c5c3",
            "65b8dd1f19ed49e4b94e8b94441b38b7",
            "beecd60016634e65b7ca11af7ac19b30",
            "33d0362ed34648758d0c98ed3afe4542",
            "927e60e0c88d4eba8b53dad7e5fc27d2",
            "6dbfb8d0e3e24befa05eeab0021d56c1",
            "ccfb9fdb486b402e918bb103b74a4ac2",
            "3ef8810c3c374a798b107d24ab164aba",
            "e24520404c2e4b04974abab2741bc99b",
            "785609346a204c75bda6c697ffc6ba2c",
            "1a495512f2e24f168f3d36994dddd10e",
            "e03a0e5598dd4cbab1c7ed5e65eb42fe",
            "33aa7cb542194586b1e6f2fbd9c58214",
            "f973a7874ff64106a76c4584a61746ea",
            "c9522f93c6144979afc2746148a5e6a0",
            "344bfecfd683495784e9006d7d2cfc27",
            "85a69d365573481881b35fb2b273ec0d",
            "cfc3b545500040f3ab864ccdc7d5f292",
            "a4bfa3a517564baca8e63289e3c2d65b",
            "394d62c2c114414eb410b7dfd607da1f",
            "349cc036272740bd80306ade6ed561a1",
            "3770aee4c05245329949c05c9cc6d724",
            "d51c2886d0db4d05b95b6edfcab12629",
            "c6566a01eb6f487f842f94e0e1fae941",
            "e0714d77c2dd47d19ac4a82396101259",
            "abb9a8a6ca2f4b7f9fdd1e007ec9fa72",
            "31f0e940c1cf44318fe9133a8c408c95"
          ]
        },
        "id": "-9H3HDXdveJz",
        "outputId": "7f6a0ddc-ee5e-43e9-da21-9df0ddcd0bb7"
      },
      "execution_count": 20,
      "outputs": [
        {
          "output_type": "stream",
          "name": "stderr",
          "text": [
            "/usr/local/lib/python3.10/dist-packages/huggingface_hub/utils/_token.py:88: UserWarning: \n",
            "The secret `HF_TOKEN` does not exist in your Colab secrets.\n",
            "To authenticate with the Hugging Face Hub, create a token in your settings tab (https://huggingface.co/settings/tokens), set it as secret in your Google Colab and restart your session.\n",
            "You will be able to reuse this secret in all of your notebooks.\n",
            "Please note that authentication is recommended but still optional to access public models or datasets.\n",
            "  warnings.warn(\n"
          ]
        },
        {
          "output_type": "display_data",
          "data": {
            "text/plain": [
              "Fetching 23 files:   0%|          | 0/23 [00:00<?, ?it/s]"
            ],
            "application/vnd.jupyter.widget-view+json": {
              "version_major": 2,
              "version_minor": 0,
              "model_id": "017c4594c74e411f94fa84e1a46df0d4"
            }
          },
          "metadata": {}
        },
        {
          "output_type": "display_data",
          "data": {
            "text/plain": [
              ".gitattributes:   0%|          | 0.00/1.57k [00:00<?, ?B/s]"
            ],
            "application/vnd.jupyter.widget-view+json": {
              "version_major": 2,
              "version_minor": 0,
              "model_id": "6cc7bba9559e4d7381fdf07658028d6a"
            }
          },
          "metadata": {}
        },
        {
          "output_type": "display_data",
          "data": {
            "text/plain": [
              "config.json:   0%|          | 0.00/687 [00:00<?, ?B/s]"
            ],
            "application/vnd.jupyter.widget-view+json": {
              "version_major": 2,
              "version_minor": 0,
              "model_id": "9c6009e0c5e547adb00fd393f43210d2"
            }
          },
          "metadata": {}
        },
        {
          "output_type": "display_data",
          "data": {
            "text/plain": [
              "1_Pooling/config.json:   0%|          | 0.00/191 [00:00<?, ?B/s]"
            ],
            "application/vnd.jupyter.widget-view+json": {
              "version_major": 2,
              "version_minor": 0,
              "model_id": "309d8ba7e8874412a0532e281450dee9"
            }
          },
          "metadata": {}
        },
        {
          "output_type": "display_data",
          "data": {
            "text/plain": [
              "README.md:   0%|          | 0.00/15.5k [00:00<?, ?B/s]"
            ],
            "application/vnd.jupyter.widget-view+json": {
              "version_major": 2,
              "version_minor": 0,
              "model_id": "2574a0dbc0e044559936d2bfe876c8bb"
            }
          },
          "metadata": {}
        },
        {
          "output_type": "display_data",
          "data": {
            "text/plain": [
              "config_sentence_transformers.json:   0%|          | 0.00/123 [00:00<?, ?B/s]"
            ],
            "application/vnd.jupyter.widget-view+json": {
              "version_major": 2,
              "version_minor": 0,
              "model_id": "8a32b7cbc8ac4b8ba0f2950350493120"
            }
          },
          "metadata": {}
        },
        {
          "output_type": "display_data",
          "data": {
            "text/plain": [
              "imgs/bm25.jpg:   0%|          | 0.00/69.0k [00:00<?, ?B/s]"
            ],
            "application/vnd.jupyter.widget-view+json": {
              "version_major": 2,
              "version_minor": 0,
              "model_id": "403179c279fb4bb791a68ddb5b4b59e6"
            }
          },
          "metadata": {}
        },
        {
          "output_type": "display_data",
          "data": {
            "text/plain": [
              "imgs/.DS_Store:   0%|          | 0.00/6.15k [00:00<?, ?B/s]"
            ],
            "application/vnd.jupyter.widget-view+json": {
              "version_major": 2,
              "version_minor": 0,
              "model_id": "9038116ce660467c9607055d2ce1325a"
            }
          },
          "metadata": {}
        },
        {
          "output_type": "display_data",
          "data": {
            "text/plain": [
              "imgs/mkqa.jpg:   0%|          | 0.00/608k [00:00<?, ?B/s]"
            ],
            "application/vnd.jupyter.widget-view+json": {
              "version_major": 2,
              "version_minor": 0,
              "model_id": "a96704a7ed124b228b1878590a354248"
            }
          },
          "metadata": {}
        },
        {
          "output_type": "display_data",
          "data": {
            "text/plain": [
              "imgs/others.webp:   0%|          | 0.00/21.0k [00:00<?, ?B/s]"
            ],
            "application/vnd.jupyter.widget-view+json": {
              "version_major": 2,
              "version_minor": 0,
              "model_id": "967dc526913d4ca7867562bc92e03f81"
            }
          },
          "metadata": {}
        },
        {
          "output_type": "display_data",
          "data": {
            "text/plain": [
              "long.jpg:   0%|          | 0.00/127k [00:00<?, ?B/s]"
            ],
            "application/vnd.jupyter.widget-view+json": {
              "version_major": 2,
              "version_minor": 0,
              "model_id": "fb1c036f535346048fa5852334b074e3"
            }
          },
          "metadata": {}
        },
        {
          "output_type": "display_data",
          "data": {
            "text/plain": [
              "imgs/nqa.jpg:   0%|          | 0.00/158k [00:00<?, ?B/s]"
            ],
            "application/vnd.jupyter.widget-view+json": {
              "version_major": 2,
              "version_minor": 0,
              "model_id": "9f86ba80a4c64b3182192a6bf2327510"
            }
          },
          "metadata": {}
        },
        {
          "output_type": "display_data",
          "data": {
            "text/plain": [
              "modules.json:   0%|          | 0.00/349 [00:00<?, ?B/s]"
            ],
            "application/vnd.jupyter.widget-view+json": {
              "version_major": 2,
              "version_minor": 0,
              "model_id": "dd13a4f96dc34c059ba1c9dd0d6428c5"
            }
          },
          "metadata": {}
        },
        {
          "output_type": "display_data",
          "data": {
            "text/plain": [
              "colbert_linear.pt:   0%|          | 0.00/2.10M [00:00<?, ?B/s]"
            ],
            "application/vnd.jupyter.widget-view+json": {
              "version_major": 2,
              "version_minor": 0,
              "model_id": "af1d268e96b6472cb981b507c414d6a4"
            }
          },
          "metadata": {}
        },
        {
          "output_type": "display_data",
          "data": {
            "text/plain": [
              "sentence_bert_config.json:   0%|          | 0.00/54.0 [00:00<?, ?B/s]"
            ],
            "application/vnd.jupyter.widget-view+json": {
              "version_major": 2,
              "version_minor": 0,
              "model_id": "43d03899c7ff4ac3b332d14e3ee55387"
            }
          },
          "metadata": {}
        },
        {
          "output_type": "display_data",
          "data": {
            "text/plain": [
              "imgs/long.jpg:   0%|          | 0.00/485k [00:00<?, ?B/s]"
            ],
            "application/vnd.jupyter.widget-view+json": {
              "version_major": 2,
              "version_minor": 0,
              "model_id": "4f7fb3d5d05e4961b4b2584b2112b00d"
            }
          },
          "metadata": {}
        },
        {
          "output_type": "display_data",
          "data": {
            "text/plain": [
              "imgs/miracl.jpg:   0%|          | 0.00/448k [00:00<?, ?B/s]"
            ],
            "application/vnd.jupyter.widget-view+json": {
              "version_major": 2,
              "version_minor": 0,
              "model_id": "c7e7141e9f8544dc82bbcd8d0ea0d198"
            }
          },
          "metadata": {}
        },
        {
          "output_type": "display_data",
          "data": {
            "text/plain": [
              "special_tokens_map.json:   0%|          | 0.00/964 [00:00<?, ?B/s]"
            ],
            "application/vnd.jupyter.widget-view+json": {
              "version_major": 2,
              "version_minor": 0,
              "model_id": "5063e11b88b74d648cda77c120ffa029"
            }
          },
          "metadata": {}
        },
        {
          "output_type": "display_data",
          "data": {
            "text/plain": [
              "tokenizer_config.json:   0%|          | 0.00/1.31k [00:00<?, ?B/s]"
            ],
            "application/vnd.jupyter.widget-view+json": {
              "version_major": 2,
              "version_minor": 0,
              "model_id": "0a3a5c512ede42a1a45d20c4554ba7dc"
            }
          },
          "metadata": {}
        },
        {
          "output_type": "display_data",
          "data": {
            "text/plain": [
              "model.safetensors:   0%|          | 0.00/2.27G [00:00<?, ?B/s]"
            ],
            "application/vnd.jupyter.widget-view+json": {
              "version_major": 2,
              "version_minor": 0,
              "model_id": "fb0ff4ec8aed41a7bd4a25a70b71f327"
            }
          },
          "metadata": {}
        },
        {
          "output_type": "display_data",
          "data": {
            "text/plain": [
              "sentencepiece.bpe.model:   0%|          | 0.00/5.07M [00:00<?, ?B/s]"
            ],
            "application/vnd.jupyter.widget-view+json": {
              "version_major": 2,
              "version_minor": 0,
              "model_id": "eabd9c62dad747dbbdbe5a122e9ffdf7"
            }
          },
          "metadata": {}
        },
        {
          "output_type": "display_data",
          "data": {
            "text/plain": [
              "pytorch_model.bin:   0%|          | 0.00/2.27G [00:00<?, ?B/s]"
            ],
            "application/vnd.jupyter.widget-view+json": {
              "version_major": 2,
              "version_minor": 0,
              "model_id": "be4b39c1ddab4d17b077926ad5557690"
            }
          },
          "metadata": {}
        },
        {
          "output_type": "display_data",
          "data": {
            "text/plain": [
              "sparse_linear.pt:   0%|          | 0.00/3.52k [00:00<?, ?B/s]"
            ],
            "application/vnd.jupyter.widget-view+json": {
              "version_major": 2,
              "version_minor": 0,
              "model_id": "6dbfb8d0e3e24befa05eeab0021d56c1"
            }
          },
          "metadata": {}
        },
        {
          "output_type": "display_data",
          "data": {
            "text/plain": [
              "tokenizer.json:   0%|          | 0.00/17.1M [00:00<?, ?B/s]"
            ],
            "application/vnd.jupyter.widget-view+json": {
              "version_major": 2,
              "version_minor": 0,
              "model_id": "85a69d365573481881b35fb2b273ec0d"
            }
          },
          "metadata": {}
        }
      ]
    },
    {
      "cell_type": "markdown",
      "source": [
        "# TEST\n",
        "- 對角線都應該越大越好"
      ],
      "metadata": {
        "id": "JHiX86usyl2T"
      }
    },
    {
      "cell_type": "code",
      "source": [
        "sentences_1 = [\"What is BGE M3?\", \"Defination of BM25\"]\n",
        "sentences_2 = [\"BGE M3 is an embedding model supporting dense retrieval, lexical matching and multi-vector interaction.\",\n",
        "               \"BM25 is a bag-of-words retrieval function that ranks a set of documents based on the query terms appearing in each document\"]"
      ],
      "metadata": {
        "id": "-6VGGIzc2hUn"
      },
      "execution_count": 16,
      "outputs": []
    },
    {
      "cell_type": "markdown",
      "source": [
        "繁體詞測試"
      ],
      "metadata": {
        "id": "a6H5dHfpWq-y"
      }
    },
    {
      "cell_type": "code",
      "source": [
        "tword_1 = [\"老師\", \"商品\"]\n",
        "tword_2 = [\"教師\", \"貨物\"]"
      ],
      "metadata": {
        "id": "hKI8UEZj2mr2"
      },
      "execution_count": 17,
      "outputs": []
    },
    {
      "cell_type": "markdown",
      "source": [
        "簡體詞測試"
      ],
      "metadata": {
        "id": "7BB_3GqEWtGw"
      }
    },
    {
      "cell_type": "code",
      "source": [
        "sword_1 = [\"老师\", \"商品\"]\n",
        "sword_2 = [\"教师\", \"货物\"]"
      ],
      "metadata": {
        "id": "i7qohF0W2tOV"
      },
      "execution_count": 21,
      "outputs": []
    },
    {
      "cell_type": "markdown",
      "source": [
        "sample_2[0] 為 sample_1[0] 的 summary\n",
        "\n",
        "sample_2[1] 為 sample_1[1] 的 summary"
      ],
      "metadata": {
        "id": "pN-Ov0LWU-7a"
      }
    },
    {
      "cell_type": "code",
      "source": [
        "sample_1 = [\"陳泰龍明知其與泰國籍女子陳玉婉（泰國名字為JARUWANWONGPRATOOM，陳玉婉涉嫌本案偽造文書部分，另經臺灣臺南地方法院檢察署檢察官通緝中）間並無結婚之真意，然因詹巧薇、張晉源等人欲找臺灣男子前往泰國與泰國女子辦理假結婚，林清水負責介紹臺灣男子予詹巧薇、張晉源等人以賺取新臺幣（下同）1萬元之仲介費，適陳泰龍依林清水於報紙上刊登之徵人廣告應徵時，由林清水告知泰國女子欲以假結婚之方式申請來臺居留工作，其若擔任假結婚之人頭老公，除不用負擔前往泰國之食宿、機票費用外，尚可獲取5、6萬元之報酬，迨陳泰龍應允同意後，林清水將其轉介紹予詹巧薇、張晉源等人，陳泰龍遂與林清水、詹巧薇、張晉源等人共同基於行使使公務員登載不實公文書之概括犯意聯絡，先由陳泰龍依指示於民國93年4月3日前往泰國，並於同年月7日與陳玉婉在泰國曼谷市法拉坎農區註冊辦事處登記結婚，取得上開註冊辦事處核發之結婚登記書、結婚證書等文件後，陳泰龍即行返臺，並於同年5月19日持經我國駐泰國臺北經濟文化辦事處認證之上開結婚登記書、結婚證書等資料，至臺南縣永康市（改制前稱謂，以下沿用舊制稱謂）戶政事務所填寫結婚登記申請書，申請辦理其與陳玉婉之結婚登記，因此使上開戶政事務所僅有形式審查權之承辦公務員陷於錯誤，於形式上審核後，將陳泰龍與陳玉婉於93年4月7日結婚之不實事項，登載於其職務上所掌屬公文書之戶籍登記資料內，並據以核發戶籍謄本，而足以生損害於戶政機關對於戶政管理及戶籍登記資料維護之正確性\",\n",
        "               \"張慶堦係址設宜蘭縣羅東鎮○○路289之7號12樓泰雅工程有限公司（以下簡稱泰雅公司）實際負責人，張文騫係址設臺中市○區○○街229號7樓九慶工程顧問有限公司（以下簡稱九慶公司）工程師，九慶公司係承攬宜蘭縣政府文化局發包之「2010宜蘭國際童玩藝術節超級High-net體能極限網設施委託監造服務案」，張文騫為現場監工之人員，吳建忠係宜蘭縣政府文化局約聘人員，為「2010宜蘭國際童玩藝術節超級High-net體能極限網設施委託服務」招標案之承辦人員，均為從事業務之人，泰雅公司於民國99年4月間以新臺幣（下同）1,935萬元得標承作宜蘭縣政府文化局「2010宜蘭國際童玩藝術節超級High-net體能極限網設施委託服務」之標案，依規定於投標時根據招標文件「評選須知」及「設施效果說明及規範」之要求製作「服務建議書」作為投標文件，俾利評選委員審查、評分及作為履約之依據，依據泰雅公司投標時所提出之99年4月份「2010宜蘭國際童玩藝術節超級High-net體能極限網設施結構分析計算書」，有關前開工程之主、副吊橋鋼索尺寸原設計為50mm及40mm，惟於製作「2010宜蘭國際童玩藝術節超級High-net體能極限網超級High-net施作詳圖」時，主吊橋鋼索尺寸註記為60mm，副吊橋鋼索尺寸仍為40mm，泰雅公司於得標後分包予「礁溪鋼鐵機械有限公司」（以下簡稱礁溪公司）施作時，因40mm尺寸之鋼索缺貨，僅剩36mm尺寸之鋼索，嗣張慶堦將主副吊橋鋼索尺寸修正為50mm及36mm，而上開規格經結構技師郭朝和確認安全無虞後，由張慶堦於99年6月14日將經結構技師郭朝和簽證之99年6月份「2010宜蘭國際童玩藝術節超級High-net體能極限網設施結構分析計算書」等文件送請宜蘭縣政府文化局審議，於審議通過後即依審定之相關工程圖說施工，張慶堦實際施工時副吊橋鋼索尺寸以38mm施工（就鋼索尺寸由60mm及40mm更改為50mm及38、36mm並無價差問題），惟宜蘭縣政府文化局於辦理驗收時，發現主副吊橋鋼索尺寸與前開未送審前「2010宜蘭國際童玩藝術節超級High-net體能極限網超級High-net施作詳圖」中所附「橋面鋼索平面圖」所載鋼索尺寸不符，張慶堦遂向宜蘭縣政府文化局驗收人員表示曾於工務會議中決定鋼索尺寸變更一事，宜蘭縣政府文化局於99年9月間泰雅公司欲請領尾款時，要求泰雅公司提出前開工務會議紀錄，張慶堦、張文騫、吳建忠等3人明知本案並未開會討論且未於會議中經結構技師主動建議主、副吊橋鋼索尺寸從60mm、40mm修改為50mm、36mm等情，為利泰雅公司取得工程尾款，張慶堦、張文騫、吳建忠竟基於行使業務上登載不實文書之犯意聯絡，由張慶堦99年9月間某日於其業務上所作成內容為99年5月10日在冬山河工務所召開之會議紀錄，其中決議事項1.虛偽記載「基於安全性考量及為減輕上層爬網重量，經結構技師建議原設計圖為60mm鋼攬（7股19絲），改為50mm（6股37絲）施作，40mm鋼攬改由36mm鋼攬施作，拉力不變及重量減輕」之不實內容，而後於製作完後隔日交由張文騫及吳建忠簽名確認，再由張慶堦向宜蘭縣政府文化局申請工程尾款而行使之，足以生損害於結構技師郭朝和及宜蘭縣政府文化局對於文書管理之正確性\"]\n",
        "sample_2 = [\"在一個國家，一名中介人員介紹一名本國男子與外國女子假結婚，以幫助外國女子獲得該國的居留權。中介人員告訴男子，只要他同意假結婚，就可以獲得一筆可觀的報酬，並免費提供旅行和住宿等費用。男子同意了這個提議，並與外國女子在該國的一個地方辦理了假結婚手續。然後，他們向當地政府提出結婚登記申請，該政府在審核文件時被誤導，最終登記了這對假夫妻的結婚信息，導致對當地政府戶政管理的損害。\",\n",
        "               \"一家建築公司在承包政府部門的橋樑工程後，發現原定使用的建材價格上漲，導致成本增加。為了避免損失，該公司的管理層決定在最後一次驗收時，提交一份虛偽的施工報告，聲稱他們使用了更高價格的建材以提高橋樑的品質。然而實際上，他們使用了較便宜的建材，並在報告中捏造了資料。這麼做是為了讓政府部門相信工程的品質更高，從而順利取得工程尾款。這樣的行為不僅對工程品質造成損害，也損害了政府部門的信任和資源的分配。\"]"
      ],
      "metadata": {
        "id": "I8s-qqFV2UBi"
      },
      "execution_count": 22,
      "outputs": []
    },
    {
      "cell_type": "markdown",
      "source": [
        "sample_3[0] 和 sample_4[0] 為相似案件（假結婚）\n",
        "\n",
        "sample_3[1] 和 sample_4[1] 為相似案件（冒用他人名義 遺產）\n",
        "\n",
        "sample_3[2] 和 sample_4[2] 為相似案件（繼承 扭曲事實）"
      ],
      "metadata": {
        "id": "UNaLMhesV2zI"
      }
    },
    {
      "cell_type": "code",
      "source": [
        "sample_3 = [\"己○○與經營「金晉安人力仲介有限公司」之官威成、官怡秀（所涉違反就業服務法等案件，分別經臺灣南投地方法院以95年度易字第53號判處有期徒刑10月，及臺灣高等法院臺中分院以99年度上易字第94號判處有期徒刑6月確定）及真實姓名年籍不詳綽號「李姐」之成年女子，均明知如附表所示之外籍女子傅麗娜等人僅為來臺工作而無結婚之真意，竟由己○○負責在臺灣居中介紹如附表所示亦無結婚真意之戊○○等人擔任人頭老公，渠等即共同基於明知為不實事項而使公務員登載於職務上所掌公文書之概括犯意聯絡，由己○○、官威成、官怡秀及「李姐」等人為擔任人頭老公之戊○○、丙○○、乙○○支付出國辦理結婚之機票、住宿等費用並提供零用金，再安排戊○○、丙○○、乙○○分別於如附表所示之結婚時間，至如附表所示之地點與傅麗娜、旺施女、彭梅妮辦理註冊結婚，取得結婚證明書，再於附表所示之時間持上開結婚證明書前往附表所示之我國駐外單位公證，待戊○○、丙○○、乙○○返台後，即於如附表所示之時間，在己○○陪同下，攜帶上開經公證之結婚證明書等相關資料，前往如附表所示戶政事務所辦理結婚登記，使不知情之該所承辦之公務員將如附表所示之外籍女子及人頭老公不實之結婚事項，登載於其職務上所掌具有準公文書性質之電腦戶政資料管理檔案內，足以生損害於戶政機關對戶籍管理之正確性（傅麗娜、旺施女、彭梅妮及戊○○、丙○○、乙○○所涉偽造文書犯行，業經臺灣臺中地方法院檢察署檢察官以103年度偵字第11862號為職權不起訴處分確定）。\",\n",
        "            \"被告明知陳丙丁死亡後，其遺產屬全體繼承人公同共有，竟罔顧繼承人之權益，利用不知情之成年男子，冒用陳丙丁名義盜領陳丙丁之存款，損及陳丙丁繼承人與合庫銀行對帳戶管理之正確性，所為實有不該；惟念其前無犯罪科刑紀錄，有臺灣高等法院被告前案紀錄表在卷可稽，素行良好，並考量其坦承犯行，且已對告訴人王陳犁雪為部分賠償（詳後述）之犯後態度，兼衡其國中畢業之教育程度，原為越南國籍因與我國人結婚而取得我國國籍之家庭狀況，及其犯罪之動機、目的、手段等一切情狀，量處如主文所示之刑，諭知易科罰金之折算標準\",\n",
        "            \"嗣蔡寶緗於103年1月間死亡，辦理繼承登記前，陳泓維於103年7月間向邱濰櫻、陳濰甄表示願給付其二人各100萬元，而將系爭不動產由其一人單獨繼承，邱濰櫻、陳濰甄要求應先將系爭不動產設定抵押權各100萬元予其二人，以擔保日後分割遺產所取得對陳泓維各100萬元之債權。嗣陳泓維於103年10月間欲以系爭不動產設定抵押向銀行借款，因系爭不動產已設定第一順位抵押權予邱濰櫻、陳濰甄，遭銀行評估擔保不足，陳泓維乃向邱濰櫻、陳濰甄表示願清償各100萬元，並徵得其二人同意塗銷系爭抵押權登記，而於103年10月17日偕同代書林淑慧前往臺中市雅潭地政事務所（下稱雅潭地政所）辦理系爭抵押權塗銷登記，陳泓維當場交付面額各80萬元之支票各1張予邱濰櫻、陳濰甄二人，至於未清償之20萬元，則由陳泓維另簽發面額各20萬元之本票各1張作為清償擔保，並承諾待銀行撥款後，會將前開各20萬元部分再設定抵押權予邱濰櫻、陳濰甄，詎陳泓維於邱濰櫻、陳濰甄塗銷系爭抵押權登記後，就前開各20萬元之債務置若罔聞，亦未就前開各20萬元重新設定抵押權予邱濰櫻、陳濰甄，陳濰甄俟將其對陳泓維之20萬元本票債權讓與邱濰櫻，邱濰櫻乃持系爭本票2張，向法院聲請本票強制執行。陳泓維明知其與邱濰櫻係基於上開協議，而邱濰櫻取得系爭20萬元本票2張，並無詐欺之情事，竟意圖使邱濰櫻、陳濰甄受刑事追訴，於104年5月7日16時08分許，至臺灣臺中地方法院檢察署（下稱臺中地檢署）申告欲對邱濰櫻、陳濰甄提出告訴，並扭曲上開事實，申告略以：「被告邱濰櫻、陳濰甄於其母親蔡寶緗死亡後，隱瞞蔡寶緗之自書遺囑，至103年6月17日始寄給告訴人陳泓維該遺囑，並向告訴人陳泓維詐稱系爭不動產先前已向銀行設定抵押借款各100萬元，要求告訴人陳泓維需給付被告二人各100萬元，始願塗銷抵押權辦理遺產分割，將系爭不動產過戶予告訴人陳泓維，惟告訴人陳泓維認為母親蔡寶緗之遺囑只願分配被告各60萬元，而拒絕分配被告二人各100萬元之請求，最後雙方同意由告訴人陳泓維先支付被告二人各80萬元及簽發系爭面額20萬元之本票2張交被告二人收執，待辦理過戶完成後，被告二人應各自再退還告訴人陳泓維40萬元，被告二人另慫恿告訴人陳泓維先與其妻即案外人張欣倫（已改名：余欣倫）辦理離婚，待所有遺產均分配完畢之後，再辦理復婚，以免張欣倫分到其母親蔡寶緗之遺產云云，告訴人陳泓維不疑有他，均同意之，乃交付被告二人各80萬元，另簽發系爭面額各20萬元之本票交被告二人，復於103年6月3日與其妻共同前往臺中市潭子區戶政事務所辦理兩願離婚（嗣相關遺產分割登記完畢之後，陳泓維、張欣倫復於104年1月26日前往前開戶政事務所再次辦理結婚登記復婚）。\"]\n",
        "sample_4 = [\"陳泰龍明知其與泰國籍女子陳玉婉（泰國名字為JARUWANWONGPRATOOM，陳玉婉涉嫌本案偽造文書部分，另經臺灣臺南地方法院檢察署檢察官通緝中）間並無結婚之真意，然因詹巧薇、張晉源等人欲找臺灣男子前往泰國與泰國女子辦理假結婚，林清水負責介紹臺灣男子予詹巧薇、張晉源等人以賺取新臺幣（下同）1萬元之仲介費，適陳泰龍依林清水於報紙上刊登之徵人廣告應徵時，由林清水告知泰國女子欲以假結婚之方式申請來臺居留工作，其若擔任假結婚之人頭老公，除不用負擔前往泰國之食宿、機票費用外，尚可獲取5、6萬元之報酬，迨陳泰龍應允同意後，林清水將其轉介紹予詹巧薇、張晉源等人，陳泰龍遂與林清水、詹巧薇、張晉源等人共同基於行使使公務員登載不實公文書之概括犯意聯絡，先由陳泰龍依指示於民國93年4月3日前往泰國，並於同年月7日與陳玉婉在泰國曼谷市法拉坎農區註冊辦事處登記結婚，取得上開註冊辦事處核發之結婚登記書、結婚證書等文件後，陳泰龍即行返臺，並於同年5月19日持經我國駐泰國臺北經濟文化辦事處認證之上開結婚登記書、結婚證書等資料，至臺南縣永康市（改制前稱謂，以下沿用舊制稱謂）戶政事務所填寫結婚登記申請書，申請辦理其與陳玉婉之結婚登記，因此使上開戶政事務所僅有形式審查權之承辦公務員陷於錯誤，於形式上審核後，將陳泰龍與陳玉婉於93年4月7日結婚之不實事項，登載於其職務上所掌屬公文書之戶籍登記資料內，並據以核發戶籍謄本，而足以生損害於戶政機關對於戶政管理及戶籍登記資料維護之正確性\",\n",
        "            \"鯂松明知其母張林金英於98年1月5日死亡，張林金英上揭帳戶之存款，係屬遺產之範疇，屬於張林金英之繼承人林張玉雲（長女）、張鯂松（長子）、張朝庚（次子）、張枝傳（三子）、張玉珠（次女）、張長益（四子）、張玉枝（三女）、張玉治（四女）等全體繼承人（以上係按出生先後順序排列）所公同共有，須由全體繼承人填具申請書或同意委任代理人，並檢具相關證件，依據繼承之程序，始得提領款項。詎其竟基於偽造私文書、行使偽造私文書及意圖為自己不法所有之詐欺取財犯意，分別於98年1月6日、1月10日，未經全體繼承人之同意，持張林金英生前交付其保管而持有之前揭存摺及印章等物，至臺中縣太平市（縣市合併後為臺中市太平區○○○路483號太平市農會，在取款憑條上分別填寫「壹拾萬元正」、「陸萬陸仟元正」之提領金額，並於各該取款憑條之存戶簽章欄內盜蓋「張林金英」之印文各1枚，而偽造用以表示係張林金英本人欲向太平市農會提領存款之私文書各1紙，並連同存摺交予各該不知情之太平市農會承辦人員辦理提款事宜而行使之，致太平市農會之承辦人員陷於錯誤，誤以為係張林金英授權張鯂松代為領取存款，遂如數交付上開提領款項予張鯂松，致張鯂松分別詐得張林金英所有上揭帳戶內之存款新臺幣（下同）10萬元及6萬6千元，均足以生損害於張林金英之其餘繼承人林張玉雲、張朝庚、張枝傳、張玉珠、張玉枝、張長益及張玉治等人之權益暨太平市農會對於存戶存款管理之正確性。嗣經林張玉雲、張玉枝查覺上揭帳戶內存款遭盜領後，訴請偵辦，始循線查知上情。\",\n",
        "            \"犯罪事實一、陳泓維為邱濰櫻同母異父之兄、陳濰甄同父同母之胞兄，其三人之母親蔡寶緗（已歿）於民國102年10月6日書立遺囑分配遺產表示其所有門牌號碼臺中市○○區○○路0段0000號2樓建物及坐落之臺中市○○區○○段0000地號土地應有部分、門牌號碼臺中市○○區○○路00巷0號等不動產（下稱系爭不動產），如未變賣，由陳泓維及邱濰櫻、陳濰甄三人共同繼承，若嗣後變賣，所得價金由邱濰櫻、陳濰甄二人各分100萬元，其餘均歸陳泓維所有。嗣蔡寶緗於103年1月間死亡，辦理繼承登記前，陳泓維於103年7月間向邱濰櫻、陳濰甄表示願給付其二人各100萬元，而將系爭不動產由其一人單獨繼承，邱濰櫻、陳濰甄要求應先將系爭不動產設定抵押權各100萬元予其二人，以擔保日後分割遺產所取得對陳泓維各100萬元之債權。嗣陳泓維於103年10月間欲以系爭不動產設定抵押向銀行借款，因系爭不動產已設定第一順位抵押權予邱濰櫻、陳濰甄，遭銀行評估擔保不足，陳泓維乃向邱濰櫻、陳濰甄表示願清償各100萬元，並徵得其二人同意塗銷系爭抵押權登記，而於103年10月17日偕同代書林淑慧前往臺中市雅潭地政事務所（下稱雅潭地政所）辦理系爭抵押權塗銷登記，陳泓維當場交付面額各80萬元之支票各1張予邱濰櫻、陳濰甄二人，至於未清償之20萬元，則由陳泓維另簽發面額各20萬元之本票各1張作為清償擔保，並承諾待銀行撥款後，會將前開各20萬元部分再設定抵押權予邱濰櫻、陳濰甄，詎陳泓維於邱濰櫻、陳濰甄塗銷系爭抵押權登記後，就前開各20萬元之債務置若罔聞，亦未就前開各20萬元重新設定抵押權予邱濰櫻、陳濰甄，陳濰甄俟將其對陳泓維之20萬元本票債權讓與邱濰櫻，邱濰櫻乃持系爭本票2張，向法院聲請本票強制執行。陳泓維明知其與邱濰櫻係基於上開協議，而邱濰櫻取得系爭20萬元本票2張，並無詐欺之情事，竟意圖使邱濰櫻、陳濰甄受刑事追訴，於104年5月7日16時08分許，至臺灣臺中地方法院檢察署（下稱臺中地檢署）申告欲對邱濰櫻、陳濰甄提出告訴，並扭曲上開事實，申告略以：「被告邱濰櫻、陳濰甄於其母親蔡寶緗死亡後，隱瞞蔡寶緗之自書遺囑，至103年6月17日始寄給告訴人陳泓維該遺囑，並向告訴人陳泓維詐稱系爭不動產先前已向銀行設定抵押借款各100萬元，要求告訴人陳泓維需給付被告二人各100萬元，始願塗銷抵押權辦理遺產分割，將系爭不動產過戶予告訴人陳泓維，惟告訴人陳泓維認為母親蔡寶緗之遺囑只願分配被告各60萬元，而拒絕分配被告二人各100萬元之請求，最後雙方同意由告訴人陳泓維先支付被告二人各80萬元及簽發系爭面額20萬元之本票2張交被告二人收執，待辦理過戶完成後，被告二人應各自再退還告訴人陳泓維40萬元，被告二人另慫恿告訴人陳泓維先與其妻即案外人張欣倫（已改名：余欣倫）辦理離婚，待所有遺產均分配完畢之後，再辦理復婚，以免張欣倫分到其母親蔡寶緗之遺產云云，告訴人陳泓維不疑有他，均同意之，乃交付被告二人各80萬元，另簽發系爭面額各20萬元之本票交被告二人，復於103年6月3日與其妻共同前往臺中市潭子區戶政事務所辦理兩願離婚（嗣相關遺產分割登記完畢之後，陳泓維、張欣倫復於104年1月26日前往前開戶政事務所再次辦理結婚登記復婚）。\"]"
      ],
      "metadata": {
        "id": "zh2K-B_N4BTN"
      },
      "execution_count": 64,
      "outputs": []
    },
    {
      "cell_type": "markdown",
      "source": [
        "斷詞（無去除人名地名）"
      ],
      "metadata": {
        "id": "OllgKlgbWwW3"
      }
    },
    {
      "cell_type": "code",
      "source": [
        "tokenized_sample_1 = []\n",
        "for data in sample_1:\n",
        "    tokenized_sample_1.append(split_passage(data))"
      ],
      "metadata": {
        "id": "w7Dwtf860Sfv"
      },
      "execution_count": 50,
      "outputs": []
    },
    {
      "cell_type": "code",
      "source": [
        "tokenized_sample_2 = []\n",
        "for data in sample_2:\n",
        "    tokenized_sample_2.append(split_passage(data))"
      ],
      "metadata": {
        "id": "q6hYIsS50n03"
      },
      "execution_count": 51,
      "outputs": []
    },
    {
      "cell_type": "code",
      "source": [
        "tokenized_sample_3 = []\n",
        "for data in sample_3:\n",
        "    tokenized_sample_3.append(split_passage(data))"
      ],
      "metadata": {
        "id": "yEgSAt7yD9Zu"
      },
      "execution_count": 66,
      "outputs": []
    },
    {
      "cell_type": "code",
      "source": [
        "tokenized_sample_4 = []\n",
        "for data in sample_4:\n",
        "    tokenized_sample_4.append(split_passage(data))"
      ],
      "metadata": {
        "id": "-FaTPnl3J78i"
      },
      "execution_count": 65,
      "outputs": []
    },
    {
      "cell_type": "code",
      "source": [
        "print(tokenized_sample_1)\n",
        "print(tokenized_sample_2)\n",
        "print(tokenized_sample_3)\n",
        "print(tokenized_sample_4)"
      ],
      "metadata": {
        "colab": {
          "base_uri": "https://localhost:8080/"
        },
        "id": "B0CGM9K70q8Q",
        "outputId": "1f0729fd-7239-4591-dd87-86cc5847278d"
      },
      "execution_count": 67,
      "outputs": [
        {
          "output_type": "stream",
          "name": "stdout",
          "text": [
            "['陳泰 龍 明知 泰國 籍 女子 陳玉 婉 泰國 名字 JARUWANWONGPRATOOM 陳玉 婉 涉嫌 本案 偽造文書 部分 臺灣臺南地方法院檢察署 檢察官 通緝 中 間 無 結婚 真意 張晉 源等 人 欲 找 臺灣 男子 前往 泰國 泰國 女子 辦理 假結婚 林 清水 負責 介紹 臺灣 男子 予 張晉 源等 人 賺取 新臺幣 下同 萬元 仲介 費 適 陳泰 清水 報紙 刊登 人 廣告 應徵 時 清水 告知 泰國 女子 欲 假結婚 方式 申 請來 臺 居留 工作 其若 擔任 假結婚 人頭 不用 負擔 前往 泰國 食宿 機票 費用 外 尚可 獲取 萬元 報酬 迨 陳泰 龍 應允 同意 後 林清 水將 轉 介紹 予 張晉 源等 人 陳泰 龍遂 清水 張晉 源等 人 共同 行使 使 公務員 登載 不實 公文書 概括 犯意 聯絡 先 陳泰 指示 民國 前往 泰國 並於 同年 月 日 陳玉 婉 泰國 法 拉坎 農區 註冊 辦事處 登記 結婚 取得 上開 註冊 辦事處 核發 結婚登記 書 結婚證書 文件 後 陳泰 龍 即行 返臺 並於 同年 持 我國 駐泰國臺北經濟文化辦事處 認證 之上 開 結婚登記 書 結婚證書 資料 臺南縣 永康市 改制 前 稱謂 以下 沿用 舊制 稱謂 戶政事務所 填寫 結婚登記 申請 辦理 陳玉 婉 結婚登記 使 開 戶政事務所 有形 式 審查 承辦 公務員 陷於 錯誤 形式 審核 陳泰 龍 陳玉 婉 結婚 不實 事項 登載 職務 上所 掌屬 公文書 戶籍 登記 資料 核發 戶籍謄本 足以 生 損害 戶政 機關 戶政 管理 戶籍 登記 資料 維護 正確性', '張 慶 堦 係 址 設 宜蘭縣 羅東鎮 路 號 樓 泰雅 工程 有限公司 以下 簡稱 泰雅 公司 實際 負責人 張文 騫 係 址 設 臺中市 區 街 號 工程顧問 有限公司 以下 簡稱 公司 工程師 公司 係 承攬 宜蘭縣政府 文化局 發包 宜蘭國際童玩藝術節 超級 High net 體能 極限 網 設施 委託 監造 服務 案 張文 騫 現場 監工 人員 忠 係 宜蘭縣政府 文化局 約 聘 人員 宜蘭國際童玩藝術節 超級 High net 體能 極限 網 設施 委託 服務 招標 案 承辦 人員 從事 業務 之人 泰雅 公司 民國 間 新臺幣 下同 萬元 得標 承作 宜蘭縣政府 文化局 宜蘭國際童玩藝術節 超級 High net 體能 極限 網 設施 委託 服務 標案 規定 投標 時 招標 文件 評選 設施 效果 說明 規範 要求 製作 服務 建議書 作為 投標 文件 俾利 評選 委員 審查 評分 作為 履約 依據 依據 泰雅 公司 投標 時所 提出 份 宜蘭國際童玩藝術節 超級 High net 體能 極限 網 設施 結構分析 計算 書 前 開工 程之 主 副 吊橋 鋼索 尺寸 原 設計 mm mm 惟 製作 宜蘭國際童玩藝術節 超級 High net 體能 極限 網 超級 High net 施作 詳圖 時 主 吊橋 鋼索 尺寸 註 記 mm 副 吊橋 鋼索 尺寸 仍為 mm 泰雅 公司 得標 後 分包 予 礁溪 鋼鐵 機械 有限公司 以下 簡稱 礁溪 公司 施作 時 mm 尺寸 鋼索 缺貨 僅剩 mm 尺寸 鋼索 嗣 張 慶 堦 主 副 吊橋 鋼索 尺寸 mm mm 上開 規格 結構 技師 確認 安全 後 張 慶 堦 將經 結構 技師 簽證 份 宜蘭國際童玩藝術節 超級 High net 體能 極限 網 設施 結構分析 計算 書 文件 送請 宜蘭縣政府 文化局 審議 審議 審定 相關 工程圖 說 施工 張 慶 堦 實際 施工 時 副 吊橋 鋼索 尺寸 mm 施工 鋼索 尺寸 mm mm 更改 mm mm 無價 差 問題 惟 宜蘭縣政府 文化局 辦理 驗收 時 主副 吊橋 鋼索 尺寸 前 開 未 送審 前 宜蘭國際童玩藝術節 超級 High net 體能 極限 網 超級 High net 施作 詳圖 中所 附 橋面 鋼索 平面圖 所載 鋼索 尺寸 不符 張 慶 堦 遂 宜蘭縣政府 文化局 驗收 人員 表示 工務 會議 中 決定 鋼索 尺寸 變更 一事 宜蘭縣政府 文化局 間 泰雅 公司 欲 請領 尾款 時 要求 泰雅 公司 提出 前 開工 務 會議 紀錄 張 慶 堦 張文 騫 人 明知 本案 並未 開會討論 未 會議 中經 結構 技師 主動 建議 主 副 吊橋 鋼索 尺寸 mm mm 修改 mm mm 情 利 泰雅 公司 取得 工程 尾款 張 慶 堦 張文 騫 行使 業務 登載 不實 文書 犯意 聯絡 張 慶 堦 間 某日 業務 上所 作成 內容 冬山河 工務 召開 會議 紀錄 決議 事項 虛偽 記載 考量 及為 減輕 上層 爬 網 重量 結構 技師 建議 原 設計圖 mm 鋼攬 股 絲 改為 mm 股 絲 施作 mm 鋼攬 改由 mm 鋼 攬 施作 拉力 不變 重量 減輕 不實 內容 製作 完 交由 張文 騫 簽名 確認 張 慶 堦 宜蘭縣政府 文化局 申請 工程 尾款 行使 足以 生 損害 結構 技師 宜蘭縣政府 文化局 文書 管理 正確性']\n",
            "['國家 一名 中介 人員 介紹 一名 本國 男子 女子 假結婚 幫助 女子 獲得 該國 中介 人員 告訴 男子 同意 假結婚 獲得 一筆 可觀 報酬 免費 提供 旅行 住宿 費用 男子 同意 提議 女子 該國 一個地方 辦理 假結婚 手續 當地政府 提出 結婚登記 申請 政府 審核 文件 時 誤導 最終 登記 假 夫妻 結婚 信息 導致 當地政府 戶政 管理 損害', '一家 建築 公司 承包 政府部門 橋樑工程 後 原定 使用 建材價格 上漲 導致 為了 避免 損失 公司 管理層 決定 最後一次 驗收 時 提交 一份 虛偽 施工 報告 聲稱 使用 高 價格 建材 提高 橋樑 品質 實際上 使用 便宜 建材 報告 中 捏造 資料 做 政府部門 相信 工程 品質 高 順利 取得 工程 尾款 行為 工程 品質 造成 損害 損害 政府部門 信任 資源 分配']\n",
            "['經營 金 人力仲介 有限公司 官威 成 所涉 違反 就業 服務 法 案件 分別 臺灣南投地方法院 年度 易 字 號 判處 有期徒刑 臺灣高等法院臺中分院 年度 上易字 號 判處 有期徒刑 確定 真實 姓名 年 籍 不詳 綽號 成年 女子 明知 附表 所示 外籍 女子 麗娜 人 臺 工作 無 結婚 真意 負責 臺灣 居中 介紹 附表 所示 亦 無 結婚 真意 戊 人 擔任 人頭 渠 共同 明知 不實 事項 使 公務員 登載 職務 上所 掌 公文書 概括 犯意 聯絡 人 擔任 人頭 戊 丙 乙 支付 出國 辦理 結婚 機票 住宿 費用 提供 零用金 安排 戊 丙 乙 分別 附表 所示 結婚 時間 附表 所示 地點 麗娜 旺施 女 辦理 註冊 結婚 取得 結婚證 明書 再於 附表 所示 時間 持上 開 結婚證 明書 前往 附表 所示 我國 駐外 單位 公證 戊 丙 乙 返台 後 附表 所示 時間 陪同 下 攜帶 上開 公證 結婚證 明書 相關 資料 前往 附表 所示 戶政事務所 辦理 結婚登記 使 不知情 該所 承辦 公務員 附表 所示 外籍 女子 人頭 不實 結婚 事項 登載 職務 上所 掌 具有 準 公文書 性質 電腦 戶政 資料 管理 檔案 足以 生 損害 戶政 機關 戶籍管理 正確性 麗娜 旺施 女 戊 丙 乙 所涉 偽造文書 犯行 業經 臺灣臺中地方法院檢察署 檢察官 年度 偵字 號 職權 不起訴處分 確定', '被告 明知 陳 丙丁 死亡 後 遺產 屬 全體 繼承人 公同共有 罔顧 繼承人 權益 利用 不知情 成年 男子 冒用 陳 丙丁 名義 盜領 陳 丙丁 存款 損及 丙丁 繼承人 合庫 銀行 帳戶 管理 正確性 所為 實有 不該 惟念其前無 犯罪 科刑 紀錄 臺灣高等法院 被告 前案 紀錄 表在 卷可稽 素行 良好 考量 坦承 犯行 已對 告訴 人 部分 賠償 詳 後述 犯 態度 兼衡 國中 畢業 教育 程度 原為 越南國 籍因 我國 人 結婚 取得 我國 國籍 家庭 狀況 犯罪 動機 目的 手段 情狀 量 處 主文 所示 刑 諭知 易科罰金 折算 標準', '嗣 間 死亡 辦理 繼承 登記 前 間 濰 濰 表示 願 給付 二人 萬元 系爭 不動產 人 單獨 繼承 濰 濰 要求 應先 將系 爭 不動產 設定 抵押權 萬元 予 二人 擔保 日後 分割 遺產 取得 萬元 債權 嗣 間 欲 系爭 不動產 設定 抵押 銀行借款 系爭 不動產 已 設定 第一 順位 抵押權 予 濰 濰 遭 銀行 評估 擔保 不足 濰 濰 表示 願 清償 萬元 徵得 二人 同意 塗銷 系爭 抵押權 登記 而於 偕同 代書 林淑 前往 臺中市 地政事務 下稱 地政 辦理 系爭 抵押權 塗銷 登記 交付 面額 萬元 支票 濰 濰 二人 未 清償 萬元 簽發 面額 萬元 本票 張作為 清償 擔保 承諾 銀行 撥款 後 前開 萬元 部分 設定 抵押權 予 濰 濰 詎 濰 濰 塗銷 系爭 抵押權 登記 後 前開 萬元 債務 置若罔聞 亦 未 前開 萬元 重新 設定 抵押權 予 濰 濰 濰 俟 泓 維 萬元 本票 債權 濰 濰 持 系 爭 本票 法院 聲 請 本票 強制執行 明知 濰 係 上開 協議 濰 取得 系爭 萬元 本票 無 詐欺 情事 意圖 使 濰 濰 受刑 事 追訴 時 分許 臺灣臺中地方法院檢察署 下稱 臺中 檢署 申告 欲 濰 濰 提出 告訴 扭曲 上開 事實 申告 略以 被告 濰 濰 母親 死亡 後 隱瞞 自書 遺囑 始 寄給 告訴 人 遺囑 告訴 人 詐稱 系爭 不動產 先前 已 銀行 設定 抵押借款 萬元 要求 告訴 人 需 給付 被告 二人 萬元 始願 塗銷 抵押權 辦理 遺產 分割 將系 爭 不動產 過戶 予 告訴 人 惟 告訴 人 認為 母親 遺囑 只 願 分配 被告 萬元 拒絕 分配 被告 二人 萬元 請求 雙方同意 告訴 人 先 支付 被告 二人 萬元 簽發 系爭 面額 萬元 本票 張交 被告 二人 收執 辦理 過戶 完成 後 被告 二人 應 退還 告訴 人 萬元 被告 二人 慫恿 告訴 人 先 妻 案外人 張欣 倫 已 改名 辦理 離婚 所有 遺產 分配 完畢 之後 辦理 復婚 張欣 倫 分到 母親 遺產 告訴 人 不疑 同意 交付 被告 二人 萬元 簽發 系爭 面額 萬元 本票 交 被告 二人 復 妻 共同 前往 臺中市 潭子區 戶政事務所 辦理 兩 願 離婚 嗣 相關 遺產 分割 登記 完畢 之後 張欣 復 前往 前 開 戶政事務所 再次 辦理 結婚登記 復婚']\n",
            "['陳泰 龍 明知 泰國 籍 女子 陳玉 婉 泰國 名字 JARUWANWONGPRATOOM 陳玉 婉 涉嫌 本案 偽造文書 部分 臺灣臺南地方法院檢察署 檢察官 通緝 中 間 無 結婚 真意 張晉 源等 人 欲 找 臺灣 男子 前往 泰國 泰國 女子 辦理 假結婚 林 清水 負責 介紹 臺灣 男子 予 張晉 源等 人 賺取 新臺幣 下同 萬元 仲介 費 適 陳泰 清水 報紙 刊登 人 廣告 應徵 時 清水 告知 泰國 女子 欲 假結婚 方式 申 請來 臺 居留 工作 其若 擔任 假結婚 人頭 不用 負擔 前往 泰國 食宿 機票 費用 外 尚可 獲取 萬元 報酬 迨 陳泰 龍 應允 同意 後 林清 水將 轉 介紹 予 張晉 源等 人 陳泰 龍遂 清水 張晉 源等 人 共同 行使 使 公務員 登載 不實 公文書 概括 犯意 聯絡 先 陳泰 指示 民國 前往 泰國 並於 同年 月 日 陳玉 婉 泰國 法 拉坎 農區 註冊 辦事處 登記 結婚 取得 上開 註冊 辦事處 核發 結婚登記 書 結婚證書 文件 後 陳泰 龍 即行 返臺 並於 同年 持 我國 駐泰國臺北經濟文化辦事處 認證 之上 開 結婚登記 書 結婚證書 資料 臺南縣 永康市 改制 前 稱謂 以下 沿用 舊制 稱謂 戶政事務所 填寫 結婚登記 申請 辦理 陳玉 婉 結婚登記 使 開 戶政事務所 有形 式 審查 承辦 公務員 陷於 錯誤 形式 審核 陳泰 龍 陳玉 婉 結婚 不實 事項 登載 職務 上所 掌屬 公文書 戶籍 登記 資料 核發 戶籍謄本 足以 生 損害 戶政 機關 戶政 管理 戶籍 登記 資料 維護 正確性', '鯂 松 明知 母 張林 金英 死亡 張林 金英 揭 帳戶 存款 係 屬 遺產 範疇 屬於 張林 金英 繼承人 林 張玉 雲 長女 張 鯂 松 長子 次子 三子 張玉 珠 次女 四子 張玉 枝 女 張玉 治 女 全體 繼承人 以上 係 出生 先後 順序排列 公同共有 須 全體 繼承人 填具 同意 委任 代理人 檢具 相關 證件 依據 繼承 程序 始得 提領 款項 詎 其竟 偽造 私 文書 行使 偽造 私 文書 意圖 不法 所有 詐欺 取財 犯意 分別 未經 全體 繼承人 同意 持 張林 金英 生前 交付 保管 持有 之前 揭 存摺 印章 等物 臺中縣 太平市 縣市 合併 臺中市 太平區 路 號 太平市 農會 取款 條 分別 填寫 壹 拾 萬元 正 仟元 正 提領 金額 並於 取款 條 存戶 簽章 欄內 盜蓋 張林 金英 印文 枚 偽造 用以 表示 係 張林 金英 欲 太平市 農會 提領 存款 私 文書 紙 存摺 交予 不知情 太平市 農會 承辦 人員 辦理 提款 事宜 行使 致 太平市 農會 承辦 人員 陷於 錯誤 誤以 係 張林 金英 授權 張 鯂 松 代 領取 存款 遂 如數 交付 上開 提領 款項 予 張 鯂 松 致 張 鯂 松 分別 詐得 張林 金英 所有 揭 帳戶 存款 新臺幣 下同 萬元 萬 千元 足以 生 損害 張林 金英 繼承人 林 張玉 雲 張玉 珠 張玉 枝 張玉 治 人 權益 暨 太平市 農會 存戶 存款 管理 正確性 嗣 經林 張玉 雲 張玉 枝 查覺 揭 帳戶 存款 遭 盜領 後 訴請 偵辦 始 循線 查知 上情', '犯罪事實 濰 同母異父 兄 濰 同父 同母 胞兄 其三 人 母親 已 歿 民國 書立 遺囑 分配 遺產 表示 所有 門牌號碼 臺中市 區 路 號 樓 建物 坐落 臺中市 區 地號 土地 應有 部分 門牌號碼 臺中市 區 路 巷 號 不動產 下稱 系爭 不動產 未 變賣 濰 濰 人 共同 繼承 嗣後 變賣 所得 價金 濰 濰 二人 分 萬元 所有 嗣 間 死亡 辦理 繼承 登記 前 間 濰 濰 表示 願 給付 二人 萬元 系爭 不動產 人 單獨 繼承 濰 濰 要求 應先 將系 爭 不動產 設定 抵押權 萬元 予 二人 擔保 日後 分割 遺產 取得 萬元 債權 嗣 間 欲 系爭 不動產 設定 抵押 銀行借款 系爭 不動產 已 設定 第一 順位 抵押權 予 濰 濰 遭 銀行 評估 擔保 不足 濰 濰 表示 願 清償 萬元 徵得 二人 同意 塗銷 系爭 抵押權 登記 而於 偕同 代書 林淑 前往 臺中市 地政事務 下稱 地政 辦理 系爭 抵押權 塗銷 登記 交付 面額 萬元 支票 濰 濰 二人 未 清償 萬元 簽發 面額 萬元 本票 張作為 清償 擔保 承諾 銀行 撥款 後 前開 萬元 部分 設定 抵押權 予 濰 濰 詎 濰 濰 塗銷 系爭 抵押權 登記 後 前開 萬元 債務 置若罔聞 亦 未 前開 萬元 重新 設定 抵押權 予 濰 濰 濰 俟 泓 維 萬元 本票 債權 濰 濰 持 系 爭 本票 法院 聲 請 本票 強制執行 明知 濰 係 上開 協議 濰 取得 系爭 萬元 本票 無 詐欺 情事 意圖 使 濰 濰 受刑 事 追訴 時 分許 臺灣臺中地方法院檢察署 下稱 臺中 檢署 申告 欲 濰 濰 提出 告訴 扭曲 上開 事實 申告 略以 被告 濰 濰 母親 死亡 後 隱瞞 自書 遺囑 始 寄給 告訴 人 遺囑 告訴 人 詐稱 系爭 不動產 先前 已 銀行 設定 抵押借款 萬元 要求 告訴 人 需 給付 被告 二人 萬元 始願 塗銷 抵押權 辦理 遺產 分割 將系 爭 不動產 過戶 予 告訴 人 惟 告訴 人 認為 母親 遺囑 只 願 分配 被告 萬元 拒絕 分配 被告 二人 萬元 請求 雙方同意 告訴 人 先 支付 被告 二人 萬元 簽發 系爭 面額 萬元 本票 張交 被告 二人 收執 辦理 過戶 完成 後 被告 二人 應 退還 告訴 人 萬元 被告 二人 慫恿 告訴 人 先 妻 案外人 張欣 倫 已 改名 辦理 離婚 所有 遺產 分配 完畢 之後 辦理 復婚 張欣 倫 分到 母親 遺產 告訴 人 不疑 同意 交付 被告 二人 萬元 簽發 系爭 面額 萬元 本票 交 被告 二人 復 妻 共同 前往 臺中市 潭子區 戶政事務所 辦理 兩 願 離婚 嗣 相關 遺產 分割 登記 完畢 之後 張欣 復 前往 前 開 戶政事務所 再次 辦理 結婚登記 復婚']\n"
          ]
        }
      ]
    },
    {
      "cell_type": "markdown",
      "source": [
        "斷詞（去除人名地名）"
      ],
      "metadata": {
        "id": "0XlTfNFGXDML"
      }
    },
    {
      "cell_type": "code",
      "source": [
        "cc_tokenized_sample_1 = []\n",
        "for data in sample_1:\n",
        "    cc_tokenized_sample_1.append(split_passage(cc.convert(data)))"
      ],
      "metadata": {
        "id": "Z7WDlxf61haQ"
      },
      "execution_count": 54,
      "outputs": []
    },
    {
      "cell_type": "code",
      "source": [
        "cc_tokenized_sample_2 = []\n",
        "for data in sample_2:\n",
        "    cc_tokenized_sample_2.append(split_passage(cc.convert(data)))"
      ],
      "metadata": {
        "id": "E-f6exrk1lqL"
      },
      "execution_count": 55,
      "outputs": []
    },
    {
      "cell_type": "code",
      "source": [
        "cc_tokenized_sample_3 = []\n",
        "for data in sample_3:\n",
        "    cc_tokenized_sample_3.append(split_passage(cc.convert(data)))"
      ],
      "metadata": {
        "id": "p12Nz-y-EYVg"
      },
      "execution_count": 69,
      "outputs": []
    },
    {
      "cell_type": "code",
      "source": [
        "cc_tokenized_sample_4 = []\n",
        "for data in sample_4:\n",
        "    cc_tokenized_sample_4.append(split_passage(cc.convert(data)))"
      ],
      "metadata": {
        "id": "WMR2tN5RKQet"
      },
      "execution_count": 68,
      "outputs": []
    },
    {
      "cell_type": "code",
      "source": [
        "print(cc_tokenized_sample_1)\n",
        "print(cc_tokenized_sample_2)\n",
        "print(cc_tokenized_sample_3)\n",
        "print(cc_tokenized_sample_4)"
      ],
      "metadata": {
        "colab": {
          "base_uri": "https://localhost:8080/"
        },
        "id": "Fbr6ftPs56OG",
        "outputId": "1f80c500-11f6-448f-be73-d010264671e8"
      },
      "execution_count": 70,
      "outputs": [
        {
          "output_type": "stream",
          "name": "stdout",
          "text": [
            "['明知 与 籍 女子 名字 为 JARUWANWONGPRATOOM 涉嫌 本案 伪造文书 部分 经 地方法院 检察署 检察官 通缉 中 间 并 无 结婚 真意 源等 人 欲 找 男子 前往 与 女子 办理 假结婚 林 清水 负责 介绍 男子 予 源等 人 赚取 新台币 下同 万元 仲介 费 适 清水 于 报纸 刊登 征 人 广告 应征 时 清水 告知 女子 欲 假结婚 方式 申请 来 台 居留 工作 其若 担任 假结婚 人头 不用 负担 前往 食宿 机票 费用 外 尚可 获取 万元 报酬 迨 应允 同意 后 林 清水 将 转 介绍 予 源等 人 遂 与 清水 源等 人 共同 基于 行使 使 公务员 登载 不实 公文书 概括 犯意 联络 先 指示 于 民国 前往 并 于 同年 月 日 与 法拉 坎农 区 注册 办事处 登记 结婚 取得 上开 注册 办事处 核发 结婚登记 书 结婚证书 文件 后 即行 返台 并 于 同年 持 经 我国 驻 台北 经济 文化 办事处 认证 之上 开 结婚登记 书 结婚证书 资料 永康市 改制 前 称谓 以下 沿用 旧制 称谓 户政事务 填写 结婚登记 申请 办理 与 结婚登记 使 开 户政事务 所仅 有形 式 审查 承办 公务员 陷于 错误 于 形式 审核 后 将 与 于 结婚 不实 事项 登载 于 职务 上所 掌属 公文书 户籍 登记 资料 内 并 据 核发 户籍誊本 足以 生 损害 于 户政 机关 对于 户政 管理 户籍 登记 资料 维护 正确性', '张 庆 堦 系 址 设 镇 路 号 楼 泰雅 工程 有限公司 以下 简称 泰雅 公司 实际 负责人 系址 设 区 街 号 工程顾问 有限公司 以下 简称 公司 工程师 公司 系 承揽 县政府 文化局 发包 国际 艺术节 超级 High net 体能 极限 网 设施 委托 监造 服务 案 为 现场 监工 人员 系 县政府 文化局 约 聘 人员 为 国际 艺术节 超级 High net 体能 极限 网 设施 委托 服务 招标 案 承办 人员 为 从事 业务 之人 泰雅 公司 于 民国 间 新台币 下同 万元 得标 承作 县政府 文化局 国际 艺术节 超级 High net 体能 极限 网 设施 委托 服务 标案 规定 于 投标 时 根据 招标 文件 评选 设施 效果 说明 规范 要求 制作 服务 建议书 作为 投标 文件 俾利 评选 委员 审查 评分 作为 履约 依据 依据 泰雅 公司 投标 时所 提出 份 国际 艺术节 超级 High net 体能 极限 网 设施 结构 分析 计算 书 有关 前 开工 程之 主 副 吊桥 钢索 尺寸 原 设计 为 mm mm 惟于 制作 国际 艺术节 超级 High net 体能 极限 网 超级 High net 施作 详图 时 主 吊桥 钢索 尺寸 注 记为 mm 副 吊桥 钢索 尺寸 仍为 mm 泰雅 公司 于 得标 后 分包 予 礁溪 钢铁 机械 有限公司 以下 简称 礁溪 公司 施作 时 mm 尺寸 钢索 缺货 仅剩 mm 尺寸 钢索 嗣 张 庆 堦 将 主 副 吊桥 钢索 尺寸 为 mm mm 上开 规格 经 结构 技师 确认 安全 后 张 庆 堦 于 将经 结构 技师 签证 份 国际 艺术节 超级 High net 体能 极限 网 设施 结构 分析 计算 书 文件 送请 县政府 文化局 审议 于 审议 通过 后 审定 相关 工程 图说 施工 张 庆 堦 实际 施工 时 副 吊桥 钢索 尺寸 mm 施工 钢索 尺寸 mm mm 更改 为 mm mm 并 无 价差 问题 惟 县政府 文化局 于 办理 验收 时 发现 主副 吊桥 钢索 尺寸 与 前 开 未 送审 前 国际 艺术节 超级 High net 体能 极限 网 超级 High net 施作 详图 中所 附 桥面 钢索 平面图 所载 钢索 尺寸 不符 张 庆 堦 遂 县政府 文化局 验收 人员 表示 曾 于 工务 会议 中 决定 钢索 尺寸 变更 一事 县政府 文化局 于 间 泰雅 公司 欲 请领 尾款 时 要求 泰雅 公司 提出 前 开工 务 会议 纪录 张 庆 堦 人 明知 本案 并未 开会讨论 未于 会议 中经 结构 技师 主动 建议 主 副 吊桥 钢索 尺寸 从 mm mm 修改 为 mm mm 情 为 利 泰雅 公司 取得 工程 尾款 张 庆 堦 基于 行使 业务 登载 不实 文书 犯意 联络 张 庆 堦 间 某日 于 业务 上所 作成 内容 为 冬山河 工务 召开 会议 纪录 决议 事项 虚伪 记载 基于 考量 及为 减轻 上层 爬 网 重量 经 结构 技师 建议 原 设计图 为 mm 钢揽 股 丝 改为 mm 股 丝 施作 mm 钢揽 改由 mm 钢 揽 施作 拉力 不变 重量 减轻 不实 内容 而后 于 制作 完 后 交由 签名 确认 张 庆 堦 县政府 文化局 申请 工程 尾款 行使 足以 生 损害 于 结构 技师 县政府 文化局 对于 文书 管理 正确性']\n",
            "['一个 国家 一名 中介 人员 介绍 一名 本国 男子 与 女子 假结婚 帮助 女子 获得 该国 中介 人员 告诉 男子 同意 假结婚 获得 一笔 可观 报酬 并 免费 提供 旅行 住宿 费用 男子 同意 这个 提议 并 与 女子 该国 一个 地方 办理 假结婚 手续 然后 他们 当地政府 提出 结婚登记 申请 该 政府 审核 文件 时 误导 最终 登记 这 对 假 夫妻 结婚 信息 导致 对 当地政府 户政 管理 损害', '一家 建筑 公司 承包 政府部门 桥梁工程 后 发现 原定 使用 建材价格 上涨 导致 为了 避免 损失 该 公司 管理层 决定 最后 一次 验收 时 提交 一份 虚伪 施工 报告 声称 他们 使用 高 价格 建材 提高 桥梁 品质 实际上 他们 使用 较 便宜 建材 并 报告 中 捏造 资料 这么 做 为了 让 政府部门 相信 工程 品质 高 从而 顺利 取得 工程 尾款 这样 行为 不仅 对 工程 品质 造成 损害 损害 政府部门 信任 资源 分配']\n",
            "['与 经营 金 人力仲介 有限公司 官威 成 所涉 违反 就业 服务 法 案件 分别 经 南投 地方法院 年度 易 字 号 判处 有期徒刑 高等法院 台中 分院 年度 上易字 号 判处 有期徒刑 确定 真实 姓名 年 籍 不详 绰号 成年 女子 明知 附表 所示 外籍 女子 人 仅 为 来台 工作 无 结婚 真意 负责 居中 介绍 附表 所示 亦 无 结婚 真意 戊 人 担任 人头 渠 共同 基于 明知 为 不实 事项 使 公务员 登载 于 职务 上所 掌 公文书 概括 犯意 联络 人为 担任 人头 戊 丙 乙 支付 出国 办理 结婚 机票 住宿 费用 并 提供 零用金 安排 戊 丙 乙 分别 于 附表 所示 结婚 时间 附表 所示 地点 与 旺施 女 办理 注册 结婚 取得 结婚 证明书 于 附表 所示 时间 持上 开 结婚 证明书 前往 附表 所示 我国 驻外 单位 公证 戊 丙 乙 返台 后 即于 附表 所示 时间 陪同 下 携带 上开 经 公证 结婚 证明书 相关 资料 前往 附表 所示 户政事务 办理 结婚登记 使 不知情 该所 承办 公务员 将 附表 所示 外籍 女子 人头 不实 结婚 事项 登载 于 职务 上所 掌 具有 准 公文书 性质 电脑 户政 资料 管理 档案 内 足以 生 损害 于 户政 机关 对 户籍管理 正确性 旺施 女 戊 丙 乙 所涉 伪造文书 犯行 业经 台中 地方法院 检察署 检察官 年度 侦字 号 为 职权 起诉 处分 确定', '被告 明知 丙丁 死亡 后 遗产 属 全体 继承人 公同共有 罔顾 继承人 权益 利用 不知情 成年 男子 冒用 丙丁 名义 盗领 丙丁 存款 损及 丙丁 继承人 与 合库 银行 对 帐户 管理 正确性 所为 实有 不该 惟念其前无 犯罪 科刑 纪录 高等法院 被告 前案 纪录 表在 卷可稽 素行 良好 并 考量 坦承 犯行 已对 告诉 人 为 部分 赔偿 详 后述 犯 后 态度 兼衡 国中 毕业 教育 程度 原为 越南 国籍 与 我国 人 结婚 取得 我国 国籍 家庭 状况 犯罪 动机 目的 手段 情状 量 处 主文 所示 刑 谕知 罚金 折算 标准', '嗣 于 间 死亡 办理 继承 登记 前 于 间 表示 愿 给付 二人 万元 将 系争 不动产 人 单独 继承 要求 应先 将系 争 不动产 设定 抵押权 万元 予 二人 担保 日后 分割 遗产 取得 对 万元 债权 嗣 于 间 欲 系争 不动产 设定 抵押 银行借款 系争 不动产 已 设定 第一 顺位 抵押权 予 遭 银行 评估 担保 不足 表示 愿 清偿 万元 并 征得 二人 同意 涂销 系争 抵押权 登记 于 偕同 代书 林淑 前往 地政事务 下称 地政 办理 系争 抵押权 涂销 登记 当场 交付 面额 万元 支票 二人 至于 未 清偿 万元 则 签发 面额 万元 本票 作为 清偿 担保 并 承诺 银行 拨款 后 会 将 前开 万元 部分 设定 抵押权 予 讵 于 涂销 系争 抵押权 登记 后 前开 万元 债务 置若罔闻 亦 未 前开 万元 重新 设定 抵押权 予 俟 将 对 泓 维 万元 本票 债权 让 与 持 系 争 本票 法院 声 请 本票 强制执行 明知 与 系 基于 上开 协议 取得 系争 万元 本票 并 无 诈欺 情事 意图 使 受刑 事 追诉 于 时 分许 台中 地方法院 检察署 下称 检署 申告 欲 对 提出 告诉 并 扭曲 上开 事实 申告 略以 被告 于 母亲 死亡 后 隐瞒 自书 遗嘱 始 寄给 告诉 人 该 遗嘱 并 告诉 人 诈称 系争 不动产 先前 已 银行 设定 抵押借款 万元 要求 告诉 人 需 给付 被告 二人 万元 始愿 涂销 抵押权 办理 遗产 分割 将系 争 不动产 过户 予 告诉 人 惟 告诉 人 认为 母亲 遗嘱 只 愿 分配 被告 万元 拒绝 分配 被告 二人 万元 请求 最后 双方同意 告诉 人 先 支付 被告 二人 万元 签发 系争 面额 万元 本票 张 交 被告 二人 收执 办理 过户 完成 后 被告 二人 应 退还 告诉 人 万元 被告 二人 怂恿 告诉 人 先 与 其妻 案外人 已 改名 办理 离婚 所有 遗产 分配 完毕 之后 办理 复婚 分到 母亲 遗产 告诉 人 不疑 同意 交付 被告 二人 万元 签发 系争 面额 万元 本票 交 被告 二人 复于 与 其妻 共同 前往 潭子 区 户政事务 办理 两 愿 离婚 嗣 相关 遗产 分割 登记 完毕 之后 复于 前往 前 开 户政事务 再次 办理 结婚登记 复婚']\n",
            "['明知 与 籍 女子 名字 为 JARUWANWONGPRATOOM 涉嫌 本案 伪造文书 部分 经 地方法院 检察署 检察官 通缉 中 间 并 无 结婚 真意 源等 人 欲 找 男子 前往 与 女子 办理 假结婚 林 清水 负责 介绍 男子 予 源等 人 赚取 新台币 下同 万元 仲介 费 适 清水 于 报纸 刊登 征 人 广告 应征 时 清水 告知 女子 欲 假结婚 方式 申请 来 台 居留 工作 其若 担任 假结婚 人头 不用 负担 前往 食宿 机票 费用 外 尚可 获取 万元 报酬 迨 应允 同意 后 林 清水 将 转 介绍 予 源等 人 遂 与 清水 源等 人 共同 基于 行使 使 公务员 登载 不实 公文书 概括 犯意 联络 先 指示 于 民国 前往 并 于 同年 月 日 与 法拉 坎农 区 注册 办事处 登记 结婚 取得 上开 注册 办事处 核发 结婚登记 书 结婚证书 文件 后 即行 返台 并 于 同年 持 经 我国 驻 台北 经济 文化 办事处 认证 之上 开 结婚登记 书 结婚证书 资料 永康市 改制 前 称谓 以下 沿用 旧制 称谓 户政事务 填写 结婚登记 申请 办理 与 结婚登记 使 开 户政事务 所仅 有形 式 审查 承办 公务员 陷于 错误 于 形式 审核 后 将 与 于 结婚 不实 事项 登载 于 职务 上所 掌属 公文书 户籍 登记 资料 内 并 据 核发 户籍誊本 足以 生 损害 于 户政 机关 对于 户政 管理 户籍 登记 资料 维护 正确性', '鯂 松 明知 母 金英 于 死亡 金英 揭 帐户 存款 系属 遗产 属于 金英 继承人 林 长女 张 鯂 松 长子 次子 三子 次女 四子 女 女 全体 继承人 以上 系 出生 先后 顺序排列 公同共有 须 全体 继承人 填具 同意 委任 代理人 并 检具 相关 证件 依据 继承 程序 始得 提领 款项 讵 其竟 基于 伪造 私 文书 行使 伪造 私 文书 意图 为 不法 所有 诈欺 取财 犯意 分别 于 未经 全体 继承人 同意 持 金英 生前 交付 保管 持有 之前 揭 存折 印章 等物 太平市 县市 合并 后 为 路 号 太平市 农会 取款 凭 条 分别 填写 壹 拾 万元 正 仟元 正 提领 金额 并于 该 取款 凭 条 存户 签章 栏内 盗盖 金英 印文 枚 伪造 用以 表示 系 金英 欲 太平市 农会 提领 存款 私 文书 纸 并 连同 存折 交予 该 不知情 太平市 农会 承办 人员 办理 提款 事宜 行使 致 太平市 农会 承办 人员 陷于 错误 误以为 系 金英 授权 张 鯂 松 代为 领取 存款 遂 如数 交付 上开 提领 款项 予 张 鯂 松 致 张 鯂 松 分别 诈得 金英 所有 揭 帐户 内 存款 新台币 下同 万元 万 千元 足以 生 损害 于 金英 其余 继承人 林 人 权益 暨 太平市 农会 对于 存户 存款 管理 正确性 嗣 经林 查觉 揭 帐户 内 存款 遭 盗领 后 诉请 侦办 始 循线 查知 上情', '犯罪事实 为 同母异父 兄 同父 同母 胞兄 其三 人 母亲 已 殁 于 民国 书 立遗嘱 分配 遗产 表示 所有 门牌号码 区 路 号 楼 建物 坐落 区 地号 土地 应有 部分 门牌号码 区 路 巷 号 不动产 下称 系争 不动产 未 变卖 人 共同 继承 嗣后 变卖 所得 价金 二人 分 万元 其余 归 所有 嗣 于 间 死亡 办理 继承 登记 前 于 间 表示 愿 给付 二人 万元 将 系争 不动产 人 单独 继承 要求 应先 将系 争 不动产 设定 抵押权 万元 予 二人 担保 日后 分割 遗产 取得 对 万元 债权 嗣 于 间 欲 系争 不动产 设定 抵押 银行借款 系争 不动产 已 设定 第一 顺位 抵押权 予 遭 银行 评估 担保 不足 表示 愿 清偿 万元 并 征得 二人 同意 涂销 系争 抵押权 登记 于 偕同 代书 林淑 前往 地政事务 下称 地政 办理 系争 抵押权 涂销 登记 当场 交付 面额 万元 支票 二人 至于 未 清偿 万元 则 签发 面额 万元 本票 作为 清偿 担保 并 承诺 银行 拨款 后 会 将 前开 万元 部分 设定 抵押权 予 讵 于 涂销 系争 抵押权 登记 后 前开 万元 债务 置若罔闻 亦 未 前开 万元 重新 设定 抵押权 予 俟 将 对 泓 维 万元 本票 债权 让 与 持 系 争 本票 法院 声 请 本票 强制执行 明知 与 系 基于 上开 协议 取得 系争 万元 本票 并 无 诈欺 情事 意图 使 受刑 事 追诉 于 时 分许 台中 地方法院 检察署 下称 检署 申告 欲 对 提出 告诉 并 扭曲 上开 事实 申告 略以 被告 于 母亲 死亡 后 隐瞒 自书 遗嘱 始 寄给 告诉 人 该 遗嘱 并 告诉 人 诈称 系争 不动产 先前 已 银行 设定 抵押借款 万元 要求 告诉 人 需 给付 被告 二人 万元 始愿 涂销 抵押权 办理 遗产 分割 将系 争 不动产 过户 予 告诉 人 惟 告诉 人 认为 母亲 遗嘱 只 愿 分配 被告 万元 拒绝 分配 被告 二人 万元 请求 最后 双方同意 告诉 人 先 支付 被告 二人 万元 签发 系争 面额 万元 本票 张 交 被告 二人 收执 办理 过户 完成 后 被告 二人 应 退还 告诉 人 万元 被告 二人 怂恿 告诉 人 先 与 其妻 案外人 已 改名 办理 离婚 所有 遗产 分配 完毕 之后 办理 复婚 分到 母亲 遗产 告诉 人 不疑 同意 交付 被告 二人 万元 签发 系争 面额 万元 本票 交 被告 二人 复于 与 其妻 共同 前往 潭子 区 户政事务 办理 两 愿 离婚 嗣 相关 遗产 分割 登记 完毕 之后 复于 前往 前 开 户政事务 再次 办理 结婚登记 复婚']\n"
          ]
        }
      ]
    },
    {
      "cell_type": "markdown",
      "source": [
        "## dense"
      ],
      "metadata": {
        "id": "BEnjlb812bjM"
      }
    },
    {
      "cell_type": "code",
      "source": [
        "embeddings_1 = model.encode(sentences_1,\n",
        "                            batch_size=12,\n",
        "                            max_length=8192, # If you don't need such a long length, you can set a smaller value to speed up the encoding process.\n",
        "                            )['dense_vecs']\n",
        "embeddings_2 = model.encode(sentences_2)['dense_vecs']\n",
        "similarity = embeddings_1 @ embeddings_2.T\n",
        "print(similarity)"
      ],
      "metadata": {
        "colab": {
          "base_uri": "https://localhost:8080/"
        },
        "id": "FTecI42ftLJW",
        "outputId": "149c75d0-2ad1-491f-c97e-b7bea6185de4"
      },
      "execution_count": 29,
      "outputs": [
        {
          "output_type": "stream",
          "name": "stdout",
          "text": [
            "[[0.62590355 0.3474958 ]\n",
            " [0.34986818 0.6782462 ]]\n"
          ]
        }
      ]
    },
    {
      "cell_type": "code",
      "source": [
        "embeddings_1 = model.encode(tword_1,\n",
        "                            batch_size=12,\n",
        "                            max_length=8192, # If you don't need such a long length, you can set a smaller value to speed up the encoding process.\n",
        "                            )['dense_vecs']\n",
        "embeddings_2 = model.encode(tword_2)['dense_vecs']\n",
        "similarity = embeddings_1 @ embeddings_2.T\n",
        "print(similarity)"
      ],
      "metadata": {
        "colab": {
          "base_uri": "https://localhost:8080/"
        },
        "id": "I8phkjaDx8Kg",
        "outputId": "5b034ec2-5c90-45e5-b6de-a050634d3969"
      },
      "execution_count": 30,
      "outputs": [
        {
          "output_type": "stream",
          "name": "stdout",
          "text": [
            "[[0.8963932  0.46727026]\n",
            " [0.48538885 0.6649283 ]]\n"
          ]
        }
      ]
    },
    {
      "cell_type": "code",
      "source": [
        "embeddings_1 = model.encode(sword_1,\n",
        "                            batch_size=12,\n",
        "                            max_length=8192, # If you don't need such a long length, you can set a smaller value to speed up the encoding process.\n",
        "                            )['dense_vecs']\n",
        "embeddings_2 = model.encode(sword_2)['dense_vecs']\n",
        "similarity = embeddings_1 @ embeddings_2.T\n",
        "print(similarity)"
      ],
      "metadata": {
        "colab": {
          "base_uri": "https://localhost:8080/"
        },
        "id": "rxy0uO_myVqe",
        "outputId": "b4b4892e-66ce-43b7-b1dd-d44544b0e98c"
      },
      "execution_count": 31,
      "outputs": [
        {
          "output_type": "stream",
          "name": "stdout",
          "text": [
            "[[0.8509769  0.5041799 ]\n",
            " [0.464958   0.74887514]]\n"
          ]
        }
      ]
    },
    {
      "cell_type": "markdown",
      "source": [
        "### 斷詞、去除人名地名 測試"
      ],
      "metadata": {
        "id": "4AMML-7QYgd-"
      }
    },
    {
      "cell_type": "markdown",
      "source": [
        "#### sample 1 vs. sample 2\n",
        "\n",
        "有做斷詞 ＆ 去除人名地名 效果最好"
      ],
      "metadata": {
        "id": "46RczHugY-Cx"
      }
    },
    {
      "cell_type": "code",
      "source": [
        "embeddings_1 = model.encode(sample_1,\n",
        "                            batch_size=12,\n",
        "                            max_length=8192, # If you don't need such a long length, you can set a smaller value to speed up the encoding process.\n",
        "                            )['dense_vecs']\n",
        "embeddings_2 = model.encode(sample_2)['dense_vecs']\n",
        "similarity = embeddings_1 @ embeddings_2.T\n",
        "print(similarity)"
      ],
      "metadata": {
        "colab": {
          "base_uri": "https://localhost:8080/"
        },
        "id": "Gk5Bj_4vyi1l",
        "outputId": "b0056629-0163-422c-8c3f-12adbf854808"
      },
      "execution_count": 32,
      "outputs": [
        {
          "output_type": "stream",
          "name": "stdout",
          "text": [
            "[[0.6247748  0.51102   ]\n",
            " [0.4258053  0.55100495]]\n"
          ]
        }
      ]
    },
    {
      "cell_type": "code",
      "source": [
        "embeddings_1 = model.encode(tokenized_sample_1,\n",
        "                            batch_size=12,\n",
        "                            max_length=8192, # If you don't need such a long length, you can set a smaller value to speed up the encoding process.\n",
        "                            )['dense_vecs']\n",
        "embeddings_2 = model.encode(tokenized_sample_2)['dense_vecs']\n",
        "similarity = embeddings_1 @ embeddings_2.T\n",
        "print(similarity)"
      ],
      "metadata": {
        "colab": {
          "base_uri": "https://localhost:8080/"
        },
        "id": "QVTzUbMI0vUe",
        "outputId": "dd07686c-3861-43e6-fcb3-91909acec956"
      },
      "execution_count": 58,
      "outputs": [
        {
          "output_type": "stream",
          "name": "stdout",
          "text": [
            "[[0.6372054  0.5215677 ]\n",
            " [0.44952914 0.54799694]]\n"
          ]
        }
      ]
    },
    {
      "cell_type": "code",
      "source": [
        "embeddings_1 = model.encode(cc_tokenized_sample_1,\n",
        "                            batch_size=12,\n",
        "                            max_length=8192, # If you don't need such a long length, you can set a smaller value to speed up the encoding process.\n",
        "                            )['dense_vecs']\n",
        "embeddings_2 = model.encode(cc_tokenized_sample_2)['dense_vecs']\n",
        "similarity = embeddings_1 @ embeddings_2.T\n",
        "print(similarity)"
      ],
      "metadata": {
        "colab": {
          "base_uri": "https://localhost:8080/"
        },
        "id": "MyY1fPYI1usD",
        "outputId": "8863e18c-101b-42e2-e13b-b15ddc465524"
      },
      "execution_count": 59,
      "outputs": [
        {
          "output_type": "stream",
          "name": "stdout",
          "text": [
            "[[0.7014028  0.51494694]\n",
            " [0.46641925 0.5667747 ]]\n"
          ]
        }
      ]
    },
    {
      "cell_type": "markdown",
      "source": [
        "#### sample 3 vs. sample 4\n",
        "看不出來哪個比較好"
      ],
      "metadata": {
        "id": "Rqv1FrECY6xh"
      }
    },
    {
      "cell_type": "code",
      "source": [
        "embeddings_1 = model.encode(sample_3,\n",
        "                            batch_size=12,\n",
        "                            max_length=8192, # If you don't need such a long length, you can set a smaller value to speed up the encoding process.\n",
        "                            )['dense_vecs']\n",
        "embeddings_2 = model.encode(sample_4)['dense_vecs']\n",
        "similarity = embeddings_1 @ embeddings_2.T\n",
        "print(similarity)"
      ],
      "metadata": {
        "colab": {
          "base_uri": "https://localhost:8080/"
        },
        "id": "1pcqtKzTE7LO",
        "outputId": "716e7540-37c2-4be9-df62-e97586cba9fe"
      },
      "execution_count": 71,
      "outputs": [
        {
          "output_type": "stream",
          "name": "stdout",
          "text": [
            "[[0.7075915  0.5663347  0.5656686 ]\n",
            " [0.5669893  0.69472134 0.64144325]\n",
            " [0.646868   0.62986344 0.9406792 ]]\n"
          ]
        }
      ]
    },
    {
      "cell_type": "code",
      "source": [
        "embeddings_1 = model.encode(tokenized_sample_3,\n",
        "                            batch_size=12,\n",
        "                            max_length=8192, # If you don't need such a long length, you can set a smaller value to speed up the encoding process.\n",
        "                            )['dense_vecs']\n",
        "embeddings_2 = model.encode(tokenized_sample_4)['dense_vecs']\n",
        "similarity = embeddings_1 @ embeddings_2.T\n",
        "print(similarity)"
      ],
      "metadata": {
        "colab": {
          "base_uri": "https://localhost:8080/"
        },
        "id": "YqdFaJmHFLrE",
        "outputId": "5793d3a0-0f87-491e-994d-079e9ca29a34"
      },
      "execution_count": 72,
      "outputs": [
        {
          "output_type": "stream",
          "name": "stdout",
          "text": [
            "[[0.678797   0.5343967  0.54664844]\n",
            " [0.57834435 0.68384033 0.65925336]\n",
            " [0.5949729  0.6195218  0.9356131 ]]\n"
          ]
        }
      ]
    },
    {
      "cell_type": "code",
      "source": [
        "embeddings_1 = model.encode(cc_tokenized_sample_3,\n",
        "                            batch_size=12,\n",
        "                            max_length=8192, # If you don't need such a long length, you can set a smaller value to speed up the encoding process.\n",
        "                            )['dense_vecs']\n",
        "embeddings_2 = model.encode(cc_tokenized_sample_4)['dense_vecs']\n",
        "similarity = embeddings_1 @ embeddings_2.T\n",
        "print(similarity)"
      ],
      "metadata": {
        "colab": {
          "base_uri": "https://localhost:8080/"
        },
        "id": "H6AFxQTcKgQm",
        "outputId": "a7033554-0d83-4a35-94e8-c92d4e194dce"
      },
      "execution_count": 73,
      "outputs": [
        {
          "output_type": "stream",
          "name": "stdout",
          "text": [
            "[[0.73560154 0.5143888  0.57429796]\n",
            " [0.54089767 0.6892333  0.66024125]\n",
            " [0.57658803 0.64016986 0.9014207 ]]\n"
          ]
        }
      ]
    },
    {
      "cell_type": "markdown",
      "source": [
        "## sparse"
      ],
      "metadata": {
        "id": "Asg7j1pn3E-O"
      }
    },
    {
      "cell_type": "code",
      "source": [
        "output_1 = model.encode(sentences_1, return_dense=True, return_sparse=True, return_colbert_vecs=False)\n",
        "output_2 = model.encode(sentences_2, return_dense=True, return_sparse=True, return_colbert_vecs=False)\n",
        "\n",
        "# you can see the weight for each token:\n",
        "print(model.convert_id_to_token(output_1['lexical_weights']))\n",
        "# [{'What': 0.08356, 'is': 0.0814, 'B': 0.1296, 'GE': 0.252, 'M': 0.1702, '3': 0.2695, '?': 0.04092},\n",
        "#  {'De': 0.05005, 'fin': 0.1368, 'ation': 0.04498, 'of': 0.0633, 'BM': 0.2515, '25': 0.3335}]\n",
        "\n",
        "\n",
        "# compute the scores via lexical mathcing\n",
        "lexical_scores = model.compute_lexical_matching_score(output_1['lexical_weights'][0], output_2['lexical_weights'][0])\n",
        "print(lexical_scores)\n",
        "# 0.19554901123046875\n",
        "\n",
        "print(model.compute_lexical_matching_score(output_1['lexical_weights'][0], output_1['lexical_weights'][1]))\n",
        "# 0.0"
      ],
      "metadata": {
        "colab": {
          "base_uri": "https://localhost:8080/"
        },
        "id": "IVIlVxyn2dux",
        "outputId": "b9fea28e-7900-4f72-c969-82b1d866a970"
      },
      "execution_count": 35,
      "outputs": [
        {
          "output_type": "stream",
          "name": "stdout",
          "text": [
            "[{'What': 0.08362087, 'is': 0.08146954, 'B': 0.12964633, 'GE': 0.25186998, 'M': 0.1700173, '3': 0.26957878, '?': 0.040755123}, {'De': 0.050144203, 'fin': 0.13689385, 'ation': 0.045134626, 'of': 0.06342198, 'BM': 0.25167608, '25': 0.33353215}]\n",
            "0.19554448779672384\n",
            "0\n"
          ]
        }
      ]
    },
    {
      "cell_type": "code",
      "source": [
        "output_1 = model.encode(tword_1, return_dense=True, return_sparse=True, return_colbert_vecs=False)\n",
        "output_2 = model.encode(tword_2, return_dense=True, return_sparse=True, return_colbert_vecs=False)\n",
        "\n",
        "# you can see the weight for each token:\n",
        "print(model.convert_id_to_token(output_1['lexical_weights']))\n",
        "# [{'What': 0.08356, 'is': 0.0814, 'B': 0.1296, 'GE': 0.252, 'M': 0.1702, '3': 0.2695, '?': 0.04092},\n",
        "#  {'De': 0.05005, 'fin': 0.1368, 'ation': 0.04498, 'of': 0.0633, 'BM': 0.2515, '25': 0.3335}]\n",
        "\n",
        "\n",
        "# compute the scores via lexical mathcing\n",
        "lexical_scores = model.compute_lexical_matching_score(output_1['lexical_weights'][0], output_2['lexical_weights'][0])\n",
        "print(lexical_scores)\n",
        "# 0.19554901123046875\n",
        "\n",
        "print(model.compute_lexical_matching_score(output_1['lexical_weights'][0], output_1['lexical_weights'][1]))\n",
        "# 0.0"
      ],
      "metadata": {
        "colab": {
          "base_uri": "https://localhost:8080/"
        },
        "id": "av7IegqE3HrH",
        "outputId": "37218830-c2bb-4e89-db59-8c9b5b6a9eb7"
      },
      "execution_count": 36,
      "outputs": [
        {
          "output_type": "stream",
          "name": "stdout",
          "text": [
            "[{'': 0.06506694, '老師': 0.3252026}, {'': 0.025284417, '商品': 0.3079706}]\n",
            "0.004433418158441782\n",
            "0.0016451796982437372\n"
          ]
        }
      ]
    },
    {
      "cell_type": "code",
      "source": [
        "output_1 = model.encode(sword_1, return_dense=True, return_sparse=True, return_colbert_vecs=False)\n",
        "output_2 = model.encode(sword_2, return_dense=True, return_sparse=True, return_colbert_vecs=False)\n",
        "\n",
        "# you can see the weight for each token:\n",
        "print(model.convert_id_to_token(output_1['lexical_weights']))\n",
        "# [{'What': 0.08356, 'is': 0.0814, 'B': 0.1296, 'GE': 0.252, 'M': 0.1702, '3': 0.2695, '?': 0.04092},\n",
        "#  {'De': 0.05005, 'fin': 0.1368, 'ation': 0.04498, 'of': 0.0633, 'BM': 0.2515, '25': 0.3335}]\n",
        "\n",
        "\n",
        "# compute the scores via lexical mathcing\n",
        "lexical_scores = model.compute_lexical_matching_score(output_1['lexical_weights'][0], output_2['lexical_weights'][0])\n",
        "print(lexical_scores)\n",
        "# 0.19554901123046875\n",
        "\n",
        "print(model.compute_lexical_matching_score(output_1['lexical_weights'][0], output_1['lexical_weights'][1]))\n",
        "# 0.0"
      ],
      "metadata": {
        "colab": {
          "base_uri": "https://localhost:8080/"
        },
        "id": "KFoUs5H84EKp",
        "outputId": "e0ba311f-d72a-4b8c-a1a8-bff4dd54da11"
      },
      "execution_count": 37,
      "outputs": [
        {
          "output_type": "stream",
          "name": "stdout",
          "text": [
            "[{'': 0.062333174, '老师': 0.3212393}, {'': 0.025284417, '商品': 0.3079706}]\n",
            "0.0033142215106636286\n",
            "0.0015760579844936728\n"
          ]
        }
      ]
    },
    {
      "cell_type": "markdown",
      "source": [
        "### 斷詞、去除人名地名 測試"
      ],
      "metadata": {
        "id": "JfilN6g2aEL1"
      }
    },
    {
      "cell_type": "markdown",
      "source": [
        "#### sample 1 vs. sample 2\n",
        "有做斷詞 ＆ 去除人名地名 效果最好"
      ],
      "metadata": {
        "id": "xccTPyJiaFOp"
      }
    },
    {
      "cell_type": "code",
      "source": [
        "output_1 = model.encode(sample_1, return_dense=True, return_sparse=True, return_colbert_vecs=False)\n",
        "output_2 = model.encode(sample_2, return_dense=True, return_sparse=True, return_colbert_vecs=False)\n",
        "\n",
        "print(model.convert_id_to_token(output_1['lexical_weights']))\n",
        "\n",
        "# compute the scores via lexical mathcing\n",
        "lexical_scores = model.compute_lexical_matching_score(output_1['lexical_weights'][0], output_2['lexical_weights'][0])\n",
        "print(lexical_scores)\n",
        "\n",
        "print(model.compute_lexical_matching_score(output_1['lexical_weights'][0], output_1['lexical_weights'][1]))"
      ],
      "metadata": {
        "colab": {
          "base_uri": "https://localhost:8080/"
        },
        "id": "DIJQj8i_4Ibd",
        "outputId": "f5fc3b5c-d2ea-4095-8c2a-071fbfa2529a"
      },
      "execution_count": 81,
      "outputs": [
        {
          "output_type": "stream",
          "name": "stdout",
          "text": [
            "[{'陳': 0.2521531, '泰': 0.26584157, '龍': 0.30666173, '明': 0.101543695, '知': 0.12975708, '與': 0.14477229, '泰國': 0.22403938, '籍': 0.15496597, '女子': 0.20520654, '玉': 0.18034828, '婉': 0.29982036, '名字': 0.22417226, '為': 0.11855908, 'JAR': 0.15914416, 'U': 0.13418508, 'WAN': 0.17463517, 'W': 0.10995911, 'ONG': 0.16131966, 'P': 0.064036936, 'RAT': 0.15323746, 'OOM': 0.2604087, '涉嫌': 0.13823399, '本': 0.028688367, '案': 0.15687248, '偽': 0.22356482, '造': 0.1684515, '文書': 0.22656986, '部分': 0.04591082, ',': 0.028518757, '另': 0.012671046, '經': 0.02800768, '臺灣': 0.17963552, '臺': 0.20389023, '南': 0.103920385, '地方': 0.008341521, '法院': 0.055076532, '檢察': 0.06869293, '署': 0.028031692, '官': 0.028371364, '通': 0.014324367, '緝': 0.21278569, '中': 0.027402855, ')': 0.02840618, '間': 0.049174845, '並': 0.06908343, '無': 0.14975798, '結婚': 0.25648907, '之': 0.028479552, '真': 0.07777626, '意': 0.12144834, '然': 0.035248004, '因': 0.014868546, '詹': 0.19410798, '巧': 0.1502397, '薇': 0.24541272, '、': 0.028916981, '張': 0.14631973, '晉': 0.21153872, '源': 0.2239037, '等人': 0.028272837, '欲': 0.05720541, '找': 0.07994515, '男子': 0.14985196, '前往': 0.12564874, '辦理': 0.085781895, '假': 0.2262857, '林': 0.15055284, '清水': 0.2317954, '負責': 0.08654226, '介紹': 0.14670461, '予': 0.04619535, '以': 0.028544486, '賺': 0.18662345, '取': 0.028651014, '新': 0.035364732, '幣': 0.12259816, '(': 0.028345343, '下': 0.028132614, '1': 0.00781678, '萬元': 0.18140146, '仲介': 0.19467497, '費': 0.13705276, '適': 0.03107281, '依': 0.028281862, '於': 0.028531253, '報紙': 0.09898991, '上': 0.02854939, '徵': 0.12578589, '人': 0.084621474, '廣告': 0.16398345, '應': 0.026639543, '時': 0.027116917, '由': 0.028077286, '告知': 0.024073653, '方式': 0.060972825, '申請': 0.078226745, '來': 0.028016735, '居': 0.110845976, '留': 0.1493837, '工作': 0.10898485, '若': 0.060423754, '擔任': 0.106909454, '頭': 0.12717777, '老公': 0.20134339, '除': 0.0060303025, '不用': 0.049265727, '負擔': 0.11650196, '食': 0.10702137, '宿': 0.02385724, '機票': 0.13362572, '費用': 0.018443372, '外': 0.02866612, '尚': 0.04296077, '可': 0.028359935, '獲': 0.027660234, '5': 0.12411229, '6': 0.12447505, '報酬': 0.2149525, '允': 0.0031567067, '同意': 0.08829221, '後': 0.02840073, '將': 0.008841723, '轉': 0.071283065, '遂': 0.0005808659, '共同': 0.025011875, '基於': 0.020844687, '行使': 0.03355502, '使': 7.338077e-05, '公務員': 0.19589207, '登': 0.05434966, '載': 0.1205395, '不': 0.13582201, '實': 0.20646572, '公': 0.056972124, '概括': 0.036374643, '犯': 0.10993625, '聯絡': 0.1256278, '先': 0.012116693, '指示': 0.0671327, '93': 0.17136593, '年': 0.028520202, '4': 0.036757223, '月': 0.028556403, '3': 0.032937374, '日': 0.028461354, '7': 0.02339743, '在': 0.028400283, '曼谷': 0.18423404, '市': 0.027866017, '法': 0.042821124, '拉': 0.027781118, '坎': 0.0979092, '農': 0.14683728, '區': 0.028359162, '註冊': 0.038790714, '辦事處': 0.02784393, '登記': 0.13816558, '取得': 0.027459228, '開': 0.0940984, '核': 0.012691807, '發': 0.02867801, '書': 0.02824675, '證書': 0.011203155, '等': 0.028599545, '文件': 0.004343182, '行': 0.020123769, '返': 0.09473123, '同': 0.0011753514, '19': 0.07354301, '持': 0.0116687715, '我國': 0.034553446, '駐': 0.025196806, '臺北': 0.1361648, '經濟': 0.054880947, '文化': 0.028249636, '認證': 0.01481932, '之上': 0.015328888, '永': 0.09132158, '康': 0.14819992, '改': 0.084792525, '制': 0.02858131, '前': 0.02859584, '稱': 0.027794428, '謂': 0.021255609, '以下': 0.016137403, '沿': 0.0012644008, '用': 0.02866162, '舊': 0.04677881, '戶': 0.079867184, '事務所': 0.09780191, '填寫': 0.013576038, '因此': 0.009076357, '政': 0.09963946, '有': 0.028544825, '形式': 0.06334959, '審查': 0.13207749, '權': 0.019039072, '辦': 0.028759612, '陷': 0.07724166, '錯誤': 0.20514177, '審核': 0.009312674, '事項': 0.02727791, '其': 0.013462838, '職務': 0.021561895, '所': 0.028286276, '掌': 0.01979229, '屬': 0.028528713, '資料': 0.023513202, '內': 0.028572934, '據': 0.028636059, '而': 0.027667034, '足以': 0.038650505, '生': 0.028031968, '損害': 0.11140783, '機關': 0.016319841, '對於': 0.013883077, '管理': 0.025100306, '維護': 0.09264368, '正確': 0.120665364}, {'張': 0.2958592, '慶': 0.29006594, '係': 0.24513242, '址': 0.17601268, '設': 0.11982738, '宜蘭縣': 0.2478191, '羅': 0.077315, '東': 0.13214947, '鎮': 0.09549705, '○○': 0.068982854, '路': 0.017009504, '289': 0.122711994, '之': 0.045390014, '7': 0.048596416, '號': 0.04388136, '12': 0.121817395, '樓': 0.107712835, '泰': 0.2424084, '雅': 0.30020142, '工程': 0.16285008, '有限公司': 0.15189078, '(': 0.04564679, '以下': 0.045035858, '簡稱': 0.06464197, '公司': 0.21092272, ')': 0.045534942, '實際': 0.20164774, '負責人': 0.20764701, ',': 0.045642376, '文': 0.1996354, '臺中市': 0.10867308, '區': 0.025926054, '街': 0.033605777, '229': 0.10050419, '九': 0.181671, '顧問': 0.17966405, '工程師': 0.19656825, '承': 0.031555057, '攬': 0.1475382, '政府': 0.10177787, '文化': 0.15017986, '局': 0.103864625, '發': 0.044805408, '包': 0.15520212, '2010': 0.19666469, '宜蘭': 0.22738466, '國際': 0.05520074, '童': 0.17184341, '玩': 0.16601661, '藝術': 0.1249789, '節': 0.15241964, '超級': 0.17754456, 'High': 0.1288547, '-': 0.04550522, 'net': 0.12858582, '體': 0.16652001, '能': 0.068690054, '極': 0.1216811, '限': 0.13681658, '網': 0.14164124, '設施': 0.11844088, '委託': 0.17349172, '監': 0.19719301, '造': 0.04489879, '服務': 0.16619918, '案': 0.088551, '」,': 0.04530714, '為': 0.045463882, '現場': 0.1429486, '工': 0.044933718, '人員': 0.04517269, '吳': 0.17775933, '建': 0.09589498, '忠': 0.22170632, '約': 0.12205048, '聘': 0.1894731, '」': 0.04561426, '招': 0.0567418, '標': 0.16201583, '辦': 0.045214158, '均': 0.044064544, '從事': 0.044533297, '業務': 0.08160342, '人': 0.04506063, '於': 0.045508686, '99': 0.17233433, '年': 0.045406356, '4': 0.048231393, '月': 0.04540555, '間': 0.045475155, '以': 0.045311633, '新': 0.04094957, '臺': 0.06352606, '幣': 0.17734985, '下': 0.045249205, '同': 0.038649082, '1,9': 0.092717804, '35': 0.13500243, '萬元': 0.11313315, '得': 0.04514958, '作': 0.045443103, '「': 0.045527656, '依': 0.045501594, '規定': 0.039852135, '投': 0.06451194, '時': 0.045540705, '根據': 0.045225926, '文件': 0.045120694, '評': 0.06073772, '選': 0.045036055, '須': 0.044517532, '知': 0.045422934, '及': 0.045523603, '效果': 0.044683933, '說明': 0.045166314, '規範': 0.037927303, '要求': 0.045141786, '製作': 0.07877414, '建議': 0.11282398, '書': 0.044984676, '作為': 0.04522172, '利': 0.044826586, '委員': 0.04502895, '審查': 0.045102324, '、': 0.045503303, '分': 0.045192745, '履': 0.04378191, '依據': 0.045351416, '所': 0.045470305, '提出': 0.045215055, '月份': 0.045043215, '結構': 0.12502974, '分析': 0.045095105, '計算': 0.17148285, '前': 0.045389656, '開': 0.045143776, '主': 0.084141575, '副': 0.1968378, '吊': 0.20008224, '橋': 0.17913485, '鋼': 0.15261385, '索': 0.18477893, '尺寸': 0.20209555, '原': 0.04554415, '設計': 0.15647961, '50': 0.1504617, 'mm': 0.045503866, '40': 0.1667326, '惟': 0.032616608, '施': 0.044826977, '詳': 0.04512286, '圖': 0.04519535, '註': 0.045241315, '記': 0.045365326, '60': 0.1673106, '仍': 0.045047864, '後': 0.045646712, '予': 0.045017645, '礁': 0.17048004, '溪': 0.12872127, '鐵': 0.044274345, '機械': 0.047193624, '」(': 0.04540868, '因': 0.044815816, '缺': 0.1409505, '貨': 0.04425461, '僅': 0.04520247, '剩': 0.045045044, '36': 0.19238313, '嗣': 0.008909211, '將': 0.047834866, '修正': 0.120100714, '而': 0.045503896, '上': 0.045408864, '規格': 0.113568865, '經': 0.04539032, '技': 0.08382158, '師': 0.045280498, '郭': 0.08250375, '朝': 0.1531776, '和': 0.04521048, '確認': 0.04549311, '安全': 0.07920276, '無': 0.045296438, '虞': 0.03918451, '由': 0.04565024, '14': 0.014909588, '日': 0.045436665, '簽': 0.04479652, '證': 0.04514614, '6': 0.0062045455, '等': 0.045336004, '送': 0.045473896, '請': 0.045181114, '審議': 0.027609006, '通過': 0.04392244, '即': 0.045430582, '審': 0.041639708, '定': 0.045489375, '相關': 0.045579713, '說': 0.04502414, '施工': 0.063657805, '38': 0.13114288, '就': 0.044962488, '更改': 0.09812471, '並': 0.045305382, '價': 0.0862955, '差': 0.04491555, '問題': 0.020098694, '),': 0.04559011, '辦理': 0.04219764, '驗': 0.12208431, '收': 0.045380898, '發現': 0.011535596, '與': 0.045161173, '未': 0.04490814, '中': 0.04552832, '附': 0.045161728, '面': 0.048237205, '平面': 0.06309573, '載': 0.045469165, '不': 0.12295425, '符': 0.18083455, '遂': 0.012827553, '向': 0.04474804, '表示': 0.02705554, '曾': 0.020942286, '務': 0.045438845, '會議': 0.13720128, '決定': 0.049765423, '變更': 0.18319407, '一': 0.04534251, '事': 0.04487789, '9': 0.078931116, '欲': 0.05201131, '領': 0.045129776, '尾': 0.17344545, '款': 0.17541346, '紀錄': 0.04538542, '3': 0.09784959, '明': 0.045137834, '本': 0.045496896, '並未': 0.1250333, '會': 0.04501323, '討論': 0.04516486, '且': 0.045422986, '主動': 0.03760475, '從': 0.045147255, '修改': 0.16093466, '情': 0.04471324, '取得': 0.0452209, '竟': 0.04816185, '基於': 0.045546643, '行使': 0.06845513, '登': 0.044830788, '實': 0.045068175, '文書': 0.23192675, '犯': 0.1470551, '意': 0.045306396, '聯絡': 0.052009724, '某': 0.008143477, '其': 0.045427836, '作成': 0.045123324, '內容': 0.04458481, '5': 0.03484563, '日在': 0.045516215, '冬': 0.1584703, '山': 0.038019, '河': 0.1699871, '召開': 0.04494169, '其中': 0.04517319, '決議': 0.17783082, '事項': 0.04553012, '1': 0.01639048, '虛': 0.16186795, '偽': 0.22458759, '記載': 0.17993987, '安全性': 0.12902609, '考量': 0.045602933, '減輕': 0.0449985, '層': 0.0452193, '爬': 0.09369384, '重量': 0.12950158, '股': 0.043646254, '19': 0.044329926, '絲': 0.04494432, '改': 0.043862943, '(6': 0.04352333, '37': 0.044265367, '拉': 0.02276044, '力': 0.04505015, '變': 0.04487412, '完': 0.045465592, '隔': 0.045643985, '交': 0.045133498, '名': 0.045323353, '申請': 0.0068566985, '足以': 0.023268797, '生': 0.045372754, '損害': 0.11301416, '對於': 0.045321517, '管理': 0.15000626, '正確': 0.15626672, '性': 0.03710274}]\n",
            "0.42963066551601514\n",
            "0.5123492338225333\n"
          ]
        }
      ]
    },
    {
      "cell_type": "code",
      "source": [
        "lexical_scores1 = model.compute_lexical_matching_score(output_1['lexical_weights'][0], output_2['lexical_weights'][0])\n",
        "lexical_scores2 = model.compute_lexical_matching_score(output_1['lexical_weights'][0], output_2['lexical_weights'][1])\n",
        "\n",
        "lexical_scores3 = model.compute_lexical_matching_score(output_1['lexical_weights'][1], output_2['lexical_weights'][0])\n",
        "lexical_scores4 = model.compute_lexical_matching_score(output_1['lexical_weights'][1], output_2['lexical_weights'][1])\n",
        "\n",
        "print(f'{lexical_scores1} {lexical_scores2}')\n",
        "print(f'{lexical_scores3} {lexical_scores4}')"
      ],
      "metadata": {
        "colab": {
          "base_uri": "https://localhost:8080/"
        },
        "id": "Prg_lzKEO7Go",
        "outputId": "91bccea9-6372-44e2-cc83-3fb08c3fa691"
      },
      "execution_count": 82,
      "outputs": [
        {
          "output_type": "stream",
          "name": "stdout",
          "text": [
            "0.42963066551601514 0.0953057055012323\n",
            "0.09472329181153327 0.28883391610725084\n"
          ]
        }
      ]
    },
    {
      "cell_type": "code",
      "source": [
        "output_1 = model.encode(tokenized_sample_1, return_dense=True, return_sparse=True, return_colbert_vecs=False)\n",
        "output_2 = model.encode(tokenized_sample_2, return_dense=True, return_sparse=True, return_colbert_vecs=False)\n",
        "\n",
        "print(model.convert_id_to_token(output_1['lexical_weights']))\n",
        "\n",
        "# compute the scores via lexical mathcing\n",
        "lexical_scores = model.compute_lexical_matching_score(output_1['lexical_weights'][0], output_2['lexical_weights'][0])\n",
        "print(lexical_scores)\n",
        "\n",
        "print(model.compute_lexical_matching_score(output_1['lexical_weights'][0], output_1['lexical_weights'][1]))"
      ],
      "metadata": {
        "colab": {
          "base_uri": "https://localhost:8080/"
        },
        "id": "E9Tin-Bo4Nlw",
        "outputId": "b270d8d5-9547-4ed3-a8cb-393f6b029c65"
      },
      "execution_count": 83,
      "outputs": [
        {
          "output_type": "stream",
          "name": "stdout",
          "text": [
            "[{'陳': 0.23019531, '泰': 0.25232542, '': 0.022680748, '龍': 0.23932248, '明': 0.10540678, '知': 0.15430021, '泰國': 0.22564119, '籍': 0.15457964, '女子': 0.20561604, '玉': 0.18503447, '婉': 0.2801289, '名字': 0.1893617, 'J': 0.09639844, 'ARU': 0.15340573, 'WAN': 0.1527559, 'W': 0.10614167, 'ONG': 0.17406152, 'P': 0.08019862, 'RAT': 0.14316642, 'OOM': 0.25425714, '涉嫌': 0.16655497, '本': 0.022869216, '案': 0.16948897, '偽': 0.23804182, '造': 0.19358818, '文書': 0.24949726, '部分': 0.041564226, '臺灣': 0.1823859, '臺': 0.17620263, '南': 0.1033398, '地方': 0.021239895, '法院': 0.11220011, '檢察': 0.15207851, '署': 0.0019599125, '官': 0.02064361, '通': 0.08354054, '緝': 0.22676866, '中': 0.01608228, '間': 0.032448836, '無': 0.13647482, '結婚': 0.26993293, '真': 0.09816149, '意': 0.022240553, '張': 0.16134399, '晉': 0.21324842, '源': 0.22151151, '等': 0.021718606, '欲': 0.115392976, '找': 0.12489739, '男子': 0.16522005, '前往': 0.12640253, '辦理': 0.14597866, '假': 0.23169234, '林': 0.12794648, '清水': 0.20588462, '負責': 0.010313436, '介紹': 0.10853989, '予': 0.038261484, '人': 0.02029331, '賺': 0.17097802, '取': 0.02267088, '新': 0.022027735, '幣': 0.15421027, '下': 0.022179183, '萬元': 0.15325114, '仲介': 0.17551738, '費': 0.02027217, '適': 0.0140457675, '報紙': 0.13033922, '刊登': 0.013431955, '廣告': 0.13490984, '應': 0.002090238, '徵': 0.0051492304, '時': 0.02224809, '告知': 0.011385851, '方式': 0.11629438, '申': 0.053997025, '請': 0.004172839, '來': 0.021630052, '居': 0.09481535, '留': 0.013828181, '工作': 0.08854231, '若': 0.028144352, '擔任': 0.0831743, '頭': 0.13543192, '不用': 0.042916574, '負擔': 0.12911347, '食': 0.06944705, '宿': 0.017957982, '機票': 0.16448528, '費用': 0.077372566, '外': 0.021748409, '尚': 0.014290519, '可': 0.022503663, '獲': 0.01739207, '報酬': 0.18038288, '允': 0.022078758, '同意': 0.044160075, '後': 0.0012414753, '清': 0.070150256, '水': 0.11582866, '將': 0.034635257, '轉': 0.0010619797, '遂': 0.006094303, '共同': 0.042499743, '行使': 0.08385328, '公務員': 0.22121064, '登': 0.05318611, '載': 0.14476946, '不': 0.11453545, '實': 0.19290215, '公': 0.09478789, '概括': 0.064076684, '犯': 0.12363087, '聯絡': 0.055099636, '指示': 0.056127254, '民國': 0.13623017, '年': 0.022480302, '月': 0.02231407, '日': 0.02218054, '法': 0.0073083416, '拉': 0.019180398, '坎': 0.13390642, '農': 0.08478328, '區': 0.020025883, '註冊': 0.024734244, '辦事處': 0.077236146, '登記': 0.18600732, '上': 0.022580033, '開': 0.06930508, '核': 0.057341814, '發': 0.022829097, '書': 0.13134241, '證書': 0.17818597, '文件': 0.010227904, '行': 0.013212778, '返': 0.080821455, '我國': 0.05508604, '駐': 0.020306755, '臺北': 0.13395911, '經濟': 0.060544547, '文化': 0.021918051, '認證': 0.042665474, '之上': 0.022520047, '資料': 0.08001285, '縣': 0.07022551, '永': 0.08780666, '康': 0.15881316, '市': 0.014138512, '改': 0.150314, '制': 0.1599984, '前': 0.031296864, '稱': 0.05765465, '謂': 0.020938741, '以下': 0.05109124, '沿': 0.060304843, '用': 0.022672867, '舊': 0.08865118, '戶': 0.09953005, '政': 0.022174465, '事務所': 0.121374905, '填寫': 0.07694633, '使': 0.0017647669, '有': 0.022427369, '形': 0.022090353, '式': 0.022639547, '審查': 0.06940895, '辦': 0.02256595, '陷': 0.021669813, '於': 0.0225727, '錯誤': 0.18363282, '形式': 0.09087135, '審核': 0.116535835, '事項': 0.009432979, '職務': 0.09335677, '掌': 0.06848401, '屬': 0.022672445, '謄': 0.05623206, '足以': 0.07265839, '損害': 0.080610506, '管理': 0.037469767, '維護': 0.06252945, '正確': 0.061010182}, {'': 0.07039232, '張': 0.30140597, '慶': 0.29190627, '係': 0.17655149, '址': 0.12851214, '設': 0.10051706, '宜蘭縣': 0.2568749, '羅': 0.07999039, '東': 0.13890922, '鎮': 0.080841586, '路': 0.05793818, '樓': 0.13865247, '泰': 0.2734211, '雅': 0.3153079, '工程': 0.1951542, '有限公司': 0.1655011, '以下': 0.062287964, '簡稱': 0.08720959, '公司': 0.21037433, '實際': 0.22556345, '負責人': 0.17793834, '文': 0.21515262, '臺中市': 0.13734965, '街': 0.0021029562, '號': 0.021333192, '顧問': 0.21383002, '工程師': 0.19370677, '承': 0.031055063, '攬': 0.19232911, '政府': 0.12405012, '文化': 0.15221485, '局': 0.11111705, '發': 0.029255413, '包': 0.14926156, '宜蘭': 0.25611973, '國際': 0.09687774, '童': 0.20902258, '玩': 0.20043008, '藝術': 0.15035796, '節': 0.18193287, '超級': 0.20343797, 'High': 0.15431672, 'net': 0.17277607, '體': 0.1657363, '能': 0.031057328, '極': 0.12532564, '限': 0.16849017, '網': 0.17263111, '設施': 0.12311357, '委託': 0.112102345, '監': 0.14270018, '造': 0.030752081, '服務': 0.10243764, '現場': 0.1403693, '工': 0.122264385, '人員': 0.031034186, '忠': 0.08872223, '約': 0.030338857, '聘': 0.0132966265, '招': 0.015400317, '標': 0.108677, '案': 0.14684616, '辦': 0.031170078, '從事': 0.031166509, '業務': 0.090945326, '之': 0.031072915, '人': 0.028001819, '民國': 0.07248223, '間': 0.031254753, '新': 0.06877187, '臺': 0.079879105, '幣': 0.194489, '下': 0.030890062, '同': 0.026956476, '萬元': 0.18710089, '得': 0.030733652, '作': 0.03116031, '規定': 0.030514568, '時': 0.031125862, '文件': 0.1120598, '評': 0.030777201, '選': 0.031074174, '效果': 0.030763611, '說明': 0.030942865, '規範': 0.10685642, '製作': 0.13140216, '建議': 0.04349658, '書': 0.030978858, '作為': 0.031076368, '投': 0.025717646, '俾': 0.06588125, '利': 0.030773293, '委員': 0.030908588, '審查': 0.030917358, '分': 0.031061053, '履': 0.04508573, '依據': 0.03100403, '所': 0.0311464, '提出': 0.031184707, '份': 0.030478798, '結構': 0.12532613, '分析': 0.109065995, '計算': 0.14617833, '前': 0.084732145, '開': 0.12193729, '程': 0.031141594, '主': 0.030057617, '副': 0.16402198, '吊': 0.19266897, '橋': 0.15330048, '鋼': 0.16663931, '索': 0.25639915, '尺寸': 0.21887633, '原': 0.031116568, '設計': 0.11778381, 'mm': 0.14413737, '施': 0.037202038, '詳': 0.030974928, '圖': 0.106889576, '註': 0.030528631, '記': 0.031114485, '仍': 0.02478896, '為': 0.031225096, '後': 0.031079195, '予': 0.031040356, '礁': 0.15038496, '溪': 0.14583036, '鐵': 0.1002657, '機械': 0.07367727, '缺': 0.07489976, '貨': 0.030979548, '僅': 0.031115599, '剩': 0.031090792, '上': 0.031149805, '規格': 0.05042836, '技': 0.105734065, '師': 0.057682045, '確認': 0.015146371, '安全': 0.086277716, '將': 0.0032096058, '經': 0.022103552, '簽': 0.101432696, '證': 0.029543836, '送': 0.030634265, '請': 0.030378718, '審議': 0.02760036, '審': 0.028516933, '定': 0.031188875, '相關': 0.031032227, '說': 0.030639127, '施工': 0.17164978, '更改': 0.16986099, '無': 0.005403571, '價': 0.12936097, '差': 0.030976042, '問題': 0.029699959, '辦理': 0.02570837, '驗': 0.13220184, '收': 0.03098913, '未': 0.027438477, '中': 0.031034991, '面': 0.053325966, '平面': 0.043552622, '載': 0.031216357, '不': 0.065078296, '符': 0.18423833, '表示': 0.0022026226, '務': 0.058726117, '會議': 0.16005993, '決定': 0.045298763, '變更': 0.19666934, '事': 0.014124602, '欲': 0.03096069, '領': 0.031034052, '尾': 0.20117651, '款': 0.19316772, '紀錄': 0.1309827, '明': 0.03087511, '知': 0.031125266, '並未': 0.11943743, '會': 0.021686133, '討論': 0.08321375, '修改': 0.13849215, '情': 0.027749754, '取得': 0.0028689578, '行使': 0.036133945, '登': 0.030986533, '實': 0.18764816, '文書': 0.22813976, '犯': 0.11676482, '意': 0.030980468, '聯絡': 0.006572984, '某': 0.011048503, '日': 0.03116263, '作成': 0.031480245, '冬': 0.17636602, '山': 0.1456374, '河': 0.16539481, '決議': 0.057308458, '事項': 0.031109303, '虛': 0.08668998, '偽': 0.031059604, '記載': 0.031172004, '考量': 0.030049562, '及': 0.031167693, '減輕': 0.02896506, '層': 0.031176899, '爬': 0.03150355, '重量': 0.11229624, '絲': 0.031108893, '改': 0.03126422, '股': 0.009561203, '由': 0.031158421, '拉': 0.00806915, '力': 0.029415227, '變': 0.029027749, '內容': 0.031186573, '完': 0.03134588, '交': 0.031128533, '名': 0.030432276, '申請': 0.11282855, '足以': 0.019741375, '生': 0.030951217, '損害': 0.091754615, '管理': 0.14729223, '正確': 0.10888684, '性': 0.030428365}]\n",
            "0.36429209308698773\n",
            "0.4417708622277132\n"
          ]
        }
      ]
    },
    {
      "cell_type": "code",
      "source": [
        "lexical_scores1 = model.compute_lexical_matching_score(output_1['lexical_weights'][0], output_2['lexical_weights'][0])\n",
        "lexical_scores2 = model.compute_lexical_matching_score(output_1['lexical_weights'][0], output_2['lexical_weights'][1])\n",
        "\n",
        "lexical_scores3 = model.compute_lexical_matching_score(output_1['lexical_weights'][1], output_2['lexical_weights'][0])\n",
        "lexical_scores4 = model.compute_lexical_matching_score(output_1['lexical_weights'][1], output_2['lexical_weights'][1])\n",
        "\n",
        "print(f'{lexical_scores1} {lexical_scores2}')\n",
        "print(f'{lexical_scores3} {lexical_scores4}')"
      ],
      "metadata": {
        "colab": {
          "base_uri": "https://localhost:8080/"
        },
        "id": "-JCzgKUMNn6c",
        "outputId": "0092da99-57ca-4726-9d83-83c9ad67b6d1"
      },
      "execution_count": 84,
      "outputs": [
        {
          "output_type": "stream",
          "name": "stdout",
          "text": [
            "0.36429209308698773 0.1011430734906753\n",
            "0.09015482128597796 0.25684958447527606\n"
          ]
        }
      ]
    },
    {
      "cell_type": "code",
      "source": [
        "output_1 = model.encode(cc_tokenized_sample_1, return_dense=True, return_sparse=True, return_colbert_vecs=False)\n",
        "output_2 = model.encode(cc_tokenized_sample_2, return_dense=True, return_sparse=True, return_colbert_vecs=False)\n",
        "\n",
        "print(model.convert_id_to_token(output_1['lexical_weights']))\n",
        "\n",
        "# compute the scores via lexical mathcing\n",
        "lexical_scores = model.compute_lexical_matching_score(output_1['lexical_weights'][0], output_2['lexical_weights'][0])\n",
        "print(lexical_scores)\n",
        "\n",
        "print(model.compute_lexical_matching_score(output_1['lexical_weights'][0], output_1['lexical_weights'][1]))"
      ],
      "metadata": {
        "colab": {
          "base_uri": "https://localhost:8080/"
        },
        "id": "_t-KMijt4TA-",
        "outputId": "631a6f49-eb5c-4bc9-e50f-ed2956c8b505"
      },
      "execution_count": 85,
      "outputs": [
        {
          "output_type": "stream",
          "name": "stdout",
          "text": [
            "[{'': 0.05450929, '明': 0.20648107, '知': 0.29140913, '与': 0.28396952, '籍': 0.24085203, '女子': 0.25043726, '名字': 0.19686082, '为': 0.12647548, 'J': 0.13592005, 'ARU': 0.15880142, 'WAN': 0.19843721, 'W': 0.08575899, 'ONG': 0.14353639, 'P': 0.07869031, 'RAT': 0.1598173, 'OOM': 0.27195808, '涉嫌': 0.19210841, '本': 0.017413981, '案': 0.16671188, '伪': 0.2339328, '造': 0.1773647, '文': 0.13739982, '书': 0.20512949, '部分': 0.0564465, '地方': 0.055909, '法院': 0.10825533, '检察': 0.12534922, '官': 0.0072517022, '通': 0.03940476, '缉': 0.24454391, '中': 0.01402327, '间': 0.029456668, '并': 0.03237748, '无': 0.1655582, '结婚': 0.2849247, '真': 0.096296124, '意': 0.13781816, '源': 0.2020495, '等': 0.023157053, '欲': 0.09399369, '找': 0.13135943, '男子': 0.16969621, '前往': 0.11149996, '办理': 0.14429, '假': 0.23981307, '林': 0.15007254, '清水': 0.2241843, '负责': 0.10493385, '介绍': 0.15919706, '予': 0.06341365, '人': 0.03836564, '赚': 0.16588175, '取': 0.01681481, '新': 0.056661643, '台': 0.18780553, '币': 0.15654057, '下': 0.016991924, '同': 0.025482982, '万元': 0.1445308, '仲介': 0.2061809, '费': 0.015815474, '适': 0.012262382, '于': 0.017214939, '报纸': 0.1368536, '刊登': 0.07470531, '征': 0.12545645, '广告': 0.19863822, '时': 0.007156316, '告知': 0.060427934, '方式': 0.083555415, '申请': 0.08709632, '来': 0.09525295, '居': 0.107759655, '留': 0.03376381, '工作': 0.105282396, '若': 0.05464652, '担任': 0.12741524, '头': 0.10370156, '不用': 0.06768099, '负担': 0.10985343, '食': 0.06484115, '宿': 0.016767405, '机票': 0.21041065, '费用': 0.093366414, '外': 0.017395355, '尚': 0.024168506, '可': 0.017227266, '获取': 0.09939785, '报': 0.015449829, '酬': 0.17894903, '应': 0.010192178, '允': 0.052868668, '同意': 0.10739152, '转': 0.05628722, '共同': 0.030554965, '基于': 0.022792168, '行使': 0.079359524, '公务员': 0.20653695, '登': 0.059587564, '载': 0.038551822, '不': 0.10849585, '实': 0.1787365, '公': 0.05334211, '概括': 0.077283815, '犯': 0.12347311, '联络': 0.13044378, '先': 0.006841317, '指示': 0.12120759, '民': 0.11310143, '国': 0.08868417, '年': 0.017124265, '月': 0.017146192, '日': 0.017241437, '法': 0.037867084, '拉': 0.011957981, '坎': 0.057612527, '农': 0.13920066, '区': 0.021825, '注册': 0.012813851, '办事处': 0.10619281, '登记': 0.19586623, '上': 0.01716452, '开': 0.090511724, '发': 0.017440975, '证书': 0.17280656, '文件': 0.01723294, '后': 0.017084341, '行': 0.015091971, '返': 0.07612027, '经': 0.01699761, '我国': 0.0009101555, '驻': 0.0150389075, '台北': 0.12467566, '经济': 0.0440897, '文化': 0.012973677, '认证': 0.007071037, '之上': 0.015907586, '资料': 0.22701773, '永': 0.15706503, '康': 0.18649247, '市': 0.06438413, '改': 0.12755068, '制': 0.10913628, '前': 0.07353095, '称': 0.07954283, '谓': 0.10773204, '以下': 0.071007036, '沿': 0.079354055, '用': 0.017618101, '旧': 0.054022115, '户': 0.15383609, '政': 0.20333144, '事务': 0.25426066, '填写': 0.1236634, '使': 0.0031064302, '所': 0.01715253, '仅': 0.0031496473, '有': 0.017132219, '形': 0.016875084, '式': 0.017423674, '审查': 0.060069934, '承': 0.032104585, '办': 0.016290266, '陷': 0.032479633, '错误': 0.20152971, '形式': 0.0044328645, '审核': 0.06008119, '事项': 0.03176566, '职务': 0.114859745, '掌': 0.027836513, '属': 0.012873266, '户籍': 0.1664488, '内': 0.014826536, '据': 0.016640805, '核': 0.00548812, '足以': 0.05256226, '损害': 0.14198416, '机关': 0.042074487, '对于': 0.020891808, '管理': 0.11392909, '维护': 0.10110603, '正确': 0.069383785}, {'': 0.07801154, '张': 0.27297556, '庆': 0.29458845, '系': 0.13982677, '址': 0.13819183, '设': 0.09819455, '镇': 0.0641882, '路': 0.08767996, '号': 0.005346082, '楼': 0.1368363, '泰': 0.26852292, '雅': 0.3152286, '工程': 0.1727837, '有限公司': 0.18683133, '以下': 0.07792092, '简称': 0.09245808, '公司': 0.20705429, '实际': 0.1950121, '负责人': 0.1814277, '区': 0.07012524, '街': 0.09672649, '顾问': 0.19329503, '工程师': 0.20424554, '承': 0.047469147, '揽': 0.15925315, '县': 0.18927847, '政府': 0.19218363, '文化': 0.18753614, '局': 0.118793756, '发': 0.06387225, '包': 0.16746041, '国际': 0.120930284, '艺术': 0.19915725, '节': 0.18271375, '超级': 0.19618556, 'High': 0.17764536, 'net': 0.1857097, '体': 0.16691622, '能': 0.077818915, '极': 0.12284813, '限': 0.15990867, '网': 0.17803213, '设施': 0.13080765, '委托': 0.047171254, '监': 0.1621616, '造': 0.047486827, '服务': 0.047518555, '案': 0.18789712, '为': 0.047583718, '现场': 0.047485504, '工': 0.11372861, '人员': 0.04743993, '约': 0.047438115, '聘': 0.070211306, '招标': 0.1755049, '办': 0.04752026, '从事': 0.047345694, '业务': 0.16525832, '之': 0.047486566, '人': 0.047363244, '于': 0.04756833, '民': 0.08714037, '国': 0.0474139, '间': 0.047463104, '新': 0.08509802, '台': 0.086236134, '币': 0.20982677, '下': 0.04752391, '同': 0.045157313, '万元': 0.14599773, '得': 0.047449354, '标': 0.047475632, '作': 0.047622938, '规定': 0.014983937, '投标': 0.21678191, '时': 0.04759553, '根据': 0.047452062, '文件': 0.04744311, '评选': 0.14200637, '效果': 0.047508594, '说明': 0.04752162, '规范': 0.047554288, '要求': 0.047488652, '制作': 0.1127478, '建议': 0.16087963, '书': 0.20833439, '作为': 0.04754984, '俾': 0.10798236, '利': 0.16059168, '委员': 0.09954064, '审查': 0.047514245, '评': 0.04739803, '分': 0.04752337, '履': 0.036233, '依据': 0.047579095, '所': 0.047552623, '提出': 0.048328564, '份': 0.04749583, '结构': 0.17387652, '分析': 0.14993742, '计算': 0.18924901, '有关': 0.038288802, '前': 0.04838463, '开': 0.12147034, '程': 0.04752145, '副': 0.12426966, '吊': 0.23036185, '桥': 0.15861121, '钢': 0.16692482, '索': 0.25479186, '尺寸': 0.22242567, '原': 0.04760498, '设计': 0.16475263, 'mm': 0.15203811, '惟': 0.020903423, '施': 0.0530963, '详': 0.047614317, '图': 0.047614075, '主': 0.07382561, '注': 0.04752037, '记': 0.04754429, '仍': 0.075282075, '后': 0.047582626, '予': 0.0474417, '礁': 0.17838046, '溪': 0.17892773, '钢铁': 0.1297173, '机械': 0.108867794, '缺': 0.04877007, '货': 0.047461856, '仅': 0.04749499, '剩': 0.047545142, '嗣': 0.028144062, '将': 0.024388947, '上': 0.047526434, '规': 0.045348503, '格': 0.047534745, '经': 0.04756286, '技': 0.119725, '师': 0.04762845, '确认': 0.038749415, '安全': 0.104486614, '签证': 0.14472246, '送': 0.047483537, '请': 0.047546756, '审议': 0.04172165, '通过': 0.047443382, '审': 0.04751629, '定': 0.04758805, '相关': 0.046712585, '说': 0.10013544, '施工': 0.16269836, '更改': 0.19591625, '并': 0.047480617, '无': 0.041560695, '价': 0.13022926, '差': 0.047499888, '问题': 0.047346793, '办理': 0.04738409, '验收': 0.16405134, '发现': 0.01769542, '与': 0.047114745, '未': 0.047013897, '中': 0.047550853, '附': 0.007533584, '面': 0.047465842, '平面': 0.046764985, '载': 0.04760927, '不': 0.047545165, '符': 0.04768649, '遂': 0.009891607, '表示': 0.02850876, '务': 0.047530852, '会议': 0.1436156, '决定': 0.054926336, '变更': 0.23043692, '一': 0.034558132, '事': 0.049658522, '欲': 0.047594525, '领': 0.047600754, '尾': 0.23915991, '款': 0.23395887, '纪录': 0.16764605, '明': 0.04742261, '知': 0.047646865, '本': 0.011096921, '并未': 0.10819792, '会': 0.054840945, '讨论': 0.13866124, '主动': 0.02340956, '从': 0.047591094, '修改': 0.16577926, '情': 0.04717948, '取得': 0.004895553, '基于': 0.047581933, '行使': 0.099027626, '登': 0.04752764, '实': 0.1866476, '文': 0.16207917, '犯': 0.14510682, '意': 0.047553536, '联络': 0.031639613, '某': 0.020256925, '日': 0.04757043, '作成': 0.047577497, '内容': 0.01993709, '冬': 0.17392188, '山': 0.13178176, '河': 0.15119925, '召开': 0.0169487, '决议': 0.049190193, '事项': 0.039536864, '虚': 0.15976356, '伪': 0.047643736, '考量': 0.040866982, '及': 0.0475204, '减轻': 0.045960277, '层': 0.047557805, '爬': 0.09702481, '重量': 0.14770749, '股': 0.041752014, '丝': 0.046735134, '改': 0.04672454, '由': 0.047605824, '拉': 0.03207194, '力': 0.047498576, '不变': 0.04674623, '而': 0.006402239, '完': 0.04754349, '交': 0.047521297, '签': 0.047202222, '名': 0.047548108, '申请': 0.13527617, '足以': 0.056978934, '生': 0.047514282, '损害': 0.14249577, '对于': 0.0153417885, '管理': 0.19145423, '正确': 0.16141886, '性': 0.047248244}]\n",
            "0.5111280533892568\n",
            "0.47428147005848587\n"
          ]
        }
      ]
    },
    {
      "cell_type": "code",
      "source": [
        "lexical_scores1 = model.compute_lexical_matching_score(output_1['lexical_weights'][0], output_2['lexical_weights'][0])\n",
        "lexical_scores2 = model.compute_lexical_matching_score(output_1['lexical_weights'][0], output_2['lexical_weights'][1])\n",
        "\n",
        "lexical_scores3 = model.compute_lexical_matching_score(output_1['lexical_weights'][1], output_2['lexical_weights'][0])\n",
        "lexical_scores4 = model.compute_lexical_matching_score(output_1['lexical_weights'][1], output_2['lexical_weights'][1])\n",
        "\n",
        "print(f'{lexical_scores1} {lexical_scores2}')\n",
        "print(f'{lexical_scores3} {lexical_scores4}')"
      ],
      "metadata": {
        "colab": {
          "base_uri": "https://localhost:8080/"
        },
        "id": "xByi94xsOklV",
        "outputId": "42e018e4-89f5-4f48-f0f6-249775023853"
      },
      "execution_count": 86,
      "outputs": [
        {
          "output_type": "stream",
          "name": "stdout",
          "text": [
            "0.5111280533892568 0.1395197610836476\n",
            "0.1275615413323976 0.29369049098386313\n"
          ]
        }
      ]
    },
    {
      "cell_type": "markdown",
      "source": [
        "#### sample 3 vs. sample 4\n",
        "看不出來哪個比較好"
      ],
      "metadata": {
        "id": "gkoH9-slahlG"
      }
    },
    {
      "cell_type": "code",
      "source": [
        "output_1 = model.encode(sample_3, return_dense=True, return_sparse=True, return_colbert_vecs=False)\n",
        "output_2 = model.encode(sample_4, return_dense=True, return_sparse=True, return_colbert_vecs=False)\n",
        "\n",
        "print(model.convert_id_to_token(output_1['lexical_weights']))\n",
        "\n",
        "# compute the scores via lexical mathcing\n",
        "lexical_scores = model.compute_lexical_matching_score(output_1['lexical_weights'][0], output_2['lexical_weights'][0])\n",
        "print(lexical_scores)\n",
        "\n",
        "print(model.compute_lexical_matching_score(output_1['lexical_weights'][0], output_1['lexical_weights'][1]))"
      ],
      "metadata": {
        "colab": {
          "base_uri": "https://localhost:8080/"
        },
        "id": "1o9qWmXQPj4L",
        "outputId": "832f410d-ebd3-4c7f-ef3d-9fa20b0db6f7"
      },
      "execution_count": 87,
      "outputs": [
        {
          "output_type": "stream",
          "name": "stdout",
          "text": [
            "[{'己': 0.24949853, '○○': 0.21181884, '與': 0.092471175, '經營': 0.19112001, '金': 0.17044678, '晉': 0.24103169, '安': 0.20256236, '人力': 0.18579343, '仲介': 0.19294608, '有限公司': 0.15217295, '官': 0.18751574, '威': 0.2310353, '成': 0.21062735, '、': 0.03673291, '怡': 0.21308821, '秀': 0.21219215, '涉': 0.06764519, '違反': 0.19296533, '就業': 0.18222195, '服務': 0.16803238, '法': 0.10056808, '等': 0.024950303, '案件': 0.10885369, ',': 0.024395816, '分別': 0.040344298, '臺灣': 0.19430293, '南投': 0.1477972, '地方': 0.02846387, '法院': 0.11422471, '95': 0.17947875, '年度': 0.089316085, '易': 0.14907512, '字': 0.021837287, '第': 0.048283678, '53': 0.15322298, '號': 0.024714343, '判': 0.1293755, '處': 0.13921583, '有期徒刑': 0.24008499, '10': 0.09736256, '月': 0.024471205, '高等': 0.023227133, '臺': 0.19847867, '中': 0.06706471, '分': 0.1491487, '院': 0.01305303, '以': 0.025113717, '99': 0.15139693, '上': 0.023977656, '94': 0.10927415, '6': 0.07438111, '確定': 0.14778467, '真實': 0.19627538, '姓名': 0.13756905, '年': 0.11792795, '籍': 0.13757485, '不': 0.12589869, '詳': 0.18090694, '綽': 0.20789938, '李': 0.22117707, '姐': 0.22820914, '」': 0.024364367, '之': 0.024385128, '女子': 0.14840549, '均': 0.0046137087, '明': 0.13426186, '知': 0.18150002, '如': 0.02474242, '附': 0.08547763, '表': 0.024688583, '所示': 0.025760658, '外籍': 0.20826373, '傅': 0.2160162, '麗': 0.14403144, '娜': 0.2252478, '僅': 0.06409174, '為': 0.033472776, '來': 0.121012785, '工作': 0.14824899, '而': 0.024264198, '無': 0.16623618, '結婚': 0.23798305, '真': 0.13246593, '意': 0.20467886, '竟': 0.0021736063, '負責': 0.17175403, '在': 0.028705858, '居': 0.14403903, '介紹': 0.20081952, '亦': 0.0062293485, '戊': 0.20222545, '擔任': 0.13686353, '人': 0.09434288, '頭': 0.22773182, '老公': 0.2605314, '渠': 0.2343483, '共同': 0.09196042, '基於': 0.034814514, '實': 0.21859674, '事項': 0.07990505, '使': 0.064340666, '公務員': 0.2680452, '登': 0.13280481, '載': 0.22181442, '於': 0.024615075, '職務': 0.18509227, '所': 0.024157573, '掌': 0.1873523, '公': 0.14557073, '文書': 0.23246077, '概括': 0.19981512, '犯': 0.17309105, '聯絡': 0.18041912, '及': 0.032138214, '等人': 0.024707422, '丙': 0.043748662, '乙': 0.0033491105, '支付': 0.17653078, '出國': 0.18152994, '辦理': 0.06605382, '機票': 0.18875489, '住宿': 0.13173936, '費用': 0.116333544, '並': 0.024241239, '提供': 0.024885044, '零': 0.13163793, '用': 0.12225062, '安排': 0.079560064, '時間': 0.09669667, '地點': 0.015122682, '旺': 0.18740258, '施': 0.19606939, '女': 0.06432778, '彭': 0.12320473, '梅': 0.15983674, '妮': 0.15879558, '註冊': 0.1399219, '取得': 0.022762522, '證明': 0.12817869, '書': 0.023996368, '持': 0.024735183, '開': 0.024459325, '前往': 0.030898921, '我國': 0.041154146, '駐': 0.11743815, '外': 0.024778053, '單位': 0.024788, '證': 0.17146957, '待': 0.00061394274, '返': 0.11281759, '台': 0.14251006, '後': 0.02425246, '陪同': 0.11435166, '下': 0.023979321, '攜帶': 0.040008448, '經': 0.024430748, '相關': 0.024128117, '戶': 0.07249388, '政': 0.024639275, '事務所': 0.025085554, '登記': 0.15425205, '知情': 0.15152206, '該': 0.024412159, '承': 0.09398022, '辦': 0.025185801, '其': 0.023929905, '具有': 0.024553597, '準': 0.06435607, '性質': 0.024154905, '電腦': 0.09306759, '資料': 0.02456481, '管理': 0.117419474, '檔案': 0.06595557, '內': 0.023987092, '足以': 0.058563955, '生': 0.023295268, '損害': 0.10041697, '對': 0.024357863, '正確': 0.10090774, '性': 0.02371528, '偽': 0.20935589, '造': 0.09989339, '行': 0.033053797, '檢察': 0.047581077, '署': 0.024596643, '103': 0.15617931, '偵': 0.044532068, '118': 0.064769894, '62': 0.085127145, '職': 0.16352825, '權': 0.07423583, '不起': 0.17200246, '訴': 0.20377992}, {'被告': 0.16963674, '明': 0.11786851, '知': 0.15903684, '陳': 0.19422919, '丙': 0.17458786, '丁': 0.20176838, '死亡': 0.15837505, '後': 0.03839761, '遺產': 0.23994459, '屬': 0.07239885, '全體': 0.11095387, '繼': 0.14393686, '承': 0.13379729, '公': 0.035608906, '同': 0.10074717, '共有': 0.12093468, '竟': 0.018626682, '罔': 0.08599207, '顧': 0.075400434, '權益': 0.15056647, '利用': 0.17956029, '不': 0.059671357, '知情': 0.17543551, '成': 0.08188977, '年': 0.050693493, '男子': 0.11397166, '冒': 0.1827057, '用': 0.13405749, '名': 0.087501645, '義': 0.10924239, '盜': 0.20753333, '領': 0.19750008, '存款': 0.23710963, '損': 0.10342178, '及': 0.020204708, '人': 0.007081624, '合': 0.103244245, '庫': 0.18269476, '銀行': 0.12065433, '帳戶': 0.14878337, '管理': 0.06470555, '正確': 0.061277665, '實': 0.034621663, '該': 0.112441726, '前': 0.039722763, '無': 0.10903178, '犯罪': 0.121842206, '科': 0.11141914, '刑': 0.21111333, '紀錄': 0.14552724, '臺灣': 0.10222481, '法院': 0.014034189, '表': 0.023551062, '稽': 0.019182976, '良好': 0.050217774, '考量': 0.014341235, '坦': 0.0394272, '犯': 0.06664402, '行': 0.016367871, '告訴': 0.12991765, '王': 0.09964079, '犁': 0.21124053, '雪': 0.2312959, '部分': 0.067381985, '賠償': 0.16618094, '態度': 0.07830724, '衡': 0.019270487, '國中': 0.12920193, '畢業': 0.1463237, '教育': 0.1312906, '程度': 0.076548524, '越南': 0.21756741, '國': 0.09435773, '籍': 0.17099023, '因': 0.017769203, '與': 0.10359166, '我國': 0.09912144, '結婚': 0.17655541, '取得': 0.09153551, '家庭': 0.053195715, '狀況': 0.039896622, '動': 0.060815677, '機': 0.04251401, '目的': 0.039973583, '手段': 0.0544899, '一切': 4.87417e-05, '量': 0.09204415, '處': 0.04413577, '如': 0.0020947084, '所示': 0.009401429, '諭': 0.0052024648, '易': 0.17927256, '罰': 0.23034748, '金': 0.19090709, '折': 0.13455305, '算': 0.13238451, '標準': 0.14353415}, {'嗣': 0.25691363, '蔡': 0.25132123, '寶': 0.21589443, '於': 0.036819384, '103': 0.19602907, '1': 0.069731675, '月': 0.036848366, '間': 0.04829569, '死亡': 0.19453202, '辦理': 0.06606905, '繼': 0.13855545, '承': 0.0835641, '登記': 0.18355037, '前': 0.06254029, ',': 0.03684365, '陳': 0.18417704, '泓': 0.21105503, '維': 0.26342863, '年': 0.036797617, '7': 0.024386749, '邱': 0.19955862, '濰': 0.22400376, '櫻': 0.2303765, '、': 0.03677117, '甄': 0.21491154, '表示': 0.022206783, '願': 0.14810908, '給付': 0.22105435, '其': 0.036808863, '二人': 0.095516644, '各': 0.045188084, '100': 0.18437505, '萬元': 0.20483373, '將': 0.036581833, '系': 0.18557754, '爭': 0.2521611, '不動產': 0.21814339, '由': 0.036834206, '一人': 0.11115618, '單': 0.07879782, '獨': 0.005269766, '要求': 0.08018448, '應': 0.03686028, '先': 0.053372107, '設定': 0.14175165, '抵押': 0.2286105, '權': 0.07291269, '予': 0.057888262, '以': 0.036705695, '擔': 0.14570092, '保': 0.036931723, '日': 0.0368353, '後': 0.036940053, '分割': 0.19592497, '遺產': 0.22687253, '所': 0.0366987, '對': 0.03647868, '之': 0.036749735, '債': 0.15767008, '10': 0.043474346, '欲': 0.105590686, '向': 0.03723286, '銀行': 0.14259416, '借款': 0.18303734, '已': 0.03675985, '第一': 0.078125216, '順': 0.11685074, '位': 0.036656156, '遭': 0.036601912, '評估': 0.032223463, '不足': 0.1541166, '清': 0.110658675, '償': 0.19709754, '並': 0.03691523, '得': 0.036582004, '塗': 0.18169197, '銷': 0.18728872, '而': 0.036744334, '17': 0.04920004, '偕': 0.029630579, '同': 0.020985276, '代': 0.03653831, '書': 0.036566384, '林': 0.09156585, '淑': 0.11503544, '慧': 0.18906161, '前往': 0.0072545595, '臺中市': 0.10301202, '雅': 0.11527051, '潭': 0.20196582, '地': 0.04248566, '政': 0.03696418, '事務所': 0.029058825, '(': 0.03672487, '下': 0.0365881, '稱': 0.036975224, ')': 0.03671104, '當': 0.036535908, '場': 0.03657833, '交付': 0.14596997, '面': 0.036671706, '額': 0.03694331, '80': 0.16982913, '支': 0.03829643, '張': 0.1584699, '至於': 0.036320068, '未': 0.03627856, '20': 0.1266984, '發': 0.036884133, '本': 0.036728814, '票': 0.18838593, '作為': 0.036619216, '承諾': 0.0034205317, '待': 0.03656577, '撥': 0.036614344, '款': 0.036607347, '會': 0.025808439, '開': 0.03670659, '部分': 0.036346793, '就': 0.036787473, '債務': 0.1432859, '置': 0.03667839, '若': 0.036452282, '罔': 0.109937534, '聞': 0.036749654, '重新': 0.0009531304, '讓': 0.027822107, '與': 0.03688651, '持': 0.036165807, '2': 0.052028466, '法院': 0.14246093, '聲': 0.036040056, '請': 0.036650777, '強制': 0.20345154, '執行': 0.1904074, '明': 0.01613338, '知': 0.041469283, '係': 0.036607414, '基於': 0.03653925, '上': 0.03671093, '協議': 0.14768672, '取得': 0.08703865, '無': 0.03651381, '詐欺': 0.21607924, '情': 0.0363617, '事': 0.036659624, '竟': 0.01339611, '意': 0.036607254, '圖': 0.036775917, '受': 0.036632996, '刑事': 0.19371635, '追': 0.03622059, '訴': 0.036377985, '104': 0.14548123, '時': 0.036704056, '分': 0.13932142, '許': 0.03682951, '至': 0.03660892, '臺灣': 0.13234447, '臺': 0.058892094, '中': 0.03653285, '地方': 0.036595397, '檢察': 0.1020721, '署': 0.036652796, '檢': 0.036989603, '申': 0.121993124, '告': 0.036713317, '提出': 0.036500406, '告訴': 0.1878911, '扭': 0.17182748, '曲': 0.036687896, '事實': 0.036652893, '略': 0.007382691, '被告': 0.15613498, '母親': 0.17362472, '隱': 0.14472061, '瞞': 0.18072976, '自': 0.03286782, '遺': 0.1115858, '囑': 0.2055974, '6': 0.026125483, '始': 0.006902322, '寄': 0.004569739, '給': 0.036819275, '人': 0.036816657, '該': 0.036893323, '詐': 0.20021005, '先前': 0.07113245, '需': 0.03666648, '過': 0.054836296, '戶': 0.034850843, '認為': 0.00558703, '只': 0.06279375, '分配': 0.1862314, '60': 0.15578714, '拒絕': 0.18705305, '請求': 0.09145501, '同意': 0.08452826, '支付': 0.19119883, '及': 0.03670789, '簽': 0.026319712, '交': 0.03721295, '收': 0.03674198, '執': 0.037910167, '完成': 0.03696886, '各自': 0.00017055869, '再': 0.02270393, '退': 0.05105952, '還': 0.03695029, '40': 0.13684367, '慫': 0.14552471, '恿': 0.02818212, '妻': 0.12955436, '即': 0.03669928, '外': 0.02640035, '欣': 0.18592152, '倫': 0.21490988, '改': 0.036570393, '名': 0.10929021, '余': 0.19191754, '離婚': 0.2701975, '所有': 0.033614155, '均': 0.037072163, '完': 0.036711086, '畢': 0.035848167, '之後': 0.022242844, '復': 0.1256656, '婚': 0.21456185, '以免': 0.014255017, '到': 0.036747053, '云': 0.17734464, '不': 0.036636535, '疑': 0.036605336, '有': 0.036678407, '他': 0.03680233, '乃': 0.0367085, '3': 0.01609699, '共同': 0.036034267, '子': 0.009277225, '區': 0.037030756, '兩': 0.08985634, '26': 0.031873155, '再次': 0.0057184175, '結婚': 0.079899795}]\n",
            "1.0886423303586525\n",
            "0.36941444884359953\n"
          ]
        }
      ]
    },
    {
      "cell_type": "code",
      "source": [
        "lexical_scores1 = model.compute_lexical_matching_score(output_1['lexical_weights'][0], output_2['lexical_weights'][0])\n",
        "lexical_scores2 = model.compute_lexical_matching_score(output_1['lexical_weights'][0], output_2['lexical_weights'][1])\n",
        "lexical_scores3 = model.compute_lexical_matching_score(output_1['lexical_weights'][0], output_2['lexical_weights'][2])\n",
        "\n",
        "lexical_scores4 = model.compute_lexical_matching_score(output_1['lexical_weights'][1], output_2['lexical_weights'][0])\n",
        "lexical_scores5 = model.compute_lexical_matching_score(output_1['lexical_weights'][1], output_2['lexical_weights'][1])\n",
        "lexical_scores6 = model.compute_lexical_matching_score(output_1['lexical_weights'][1], output_2['lexical_weights'][2])\n",
        "\n",
        "lexical_scores7 = model.compute_lexical_matching_score(output_1['lexical_weights'][2], output_2['lexical_weights'][0])\n",
        "lexical_scores8 = model.compute_lexical_matching_score(output_1['lexical_weights'][2], output_2['lexical_weights'][1])\n",
        "lexical_scores9 = model.compute_lexical_matching_score(output_1['lexical_weights'][2], output_2['lexical_weights'][2])\n",
        "\n",
        "print(f'{lexical_scores1} {lexical_scores2} {lexical_scores3}')\n",
        "print(f'{lexical_scores4} {lexical_scores5} {lexical_scores6}')\n",
        "print(f'{lexical_scores7} {lexical_scores8} {lexical_scores9}')"
      ],
      "metadata": {
        "colab": {
          "base_uri": "https://localhost:8080/"
        },
        "id": "xP6y6faaN5Tz",
        "outputId": "005b527f-f1e4-41d8-d34c-db3f05e855ed"
      },
      "execution_count": 88,
      "outputs": [
        {
          "output_type": "stream",
          "name": "stdout",
          "text": [
            "1.0886423303586525 0.3831455946240112 0.38493005066993646\n",
            "0.27445293439086527 0.402689978201181 0.37952038703951985\n",
            "0.3369303013168974 0.35157026874560415 2.7369453321980473\n"
          ]
        }
      ]
    },
    {
      "cell_type": "code",
      "source": [
        "output_1 = model.encode(tokenized_sample_3, return_dense=True, return_sparse=True, return_colbert_vecs=False)\n",
        "output_2 = model.encode(tokenized_sample_4, return_dense=True, return_sparse=True, return_colbert_vecs=False)\n",
        "\n",
        "print(model.convert_id_to_token(output_1['lexical_weights']))\n",
        "\n",
        "# compute the scores via lexical mathcing\n",
        "lexical_scores = model.compute_lexical_matching_score(output_1['lexical_weights'][0], output_2['lexical_weights'][0])\n",
        "print(lexical_scores)\n",
        "\n",
        "print(model.compute_lexical_matching_score(output_1['lexical_weights'][0], output_1['lexical_weights'][1]))"
      ],
      "metadata": {
        "colab": {
          "base_uri": "https://localhost:8080/"
        },
        "id": "B43s9gaCQQQN",
        "outputId": "73e43e1e-d2cb-465c-d197-216b007217c6"
      },
      "execution_count": 89,
      "outputs": [
        {
          "output_type": "stream",
          "name": "stdout",
          "text": [
            "[{'經營': 0.23106717, '金': 0.22215083, '人力': 0.19755243, '仲介': 0.2430965, '有限公司': 0.18681578, '官': 0.20664075, '威': 0.25679636, '成': 0.21859004, '涉': 0.12265912, '違反': 0.22415353, '': 0.009732299, '就業': 0.20872307, '服務': 0.22841705, '法': 0.1613704, '案件': 0.13216618, '分別': 0.07402485, '臺灣': 0.1886867, '南投': 0.13048801, '地方': 0.020976283, '法院': 0.13424242, '年度': 0.11446829, '易': 0.16214943, '字': 0.05330687, '號': 0.015390031, '判': 0.136271, '處': 0.11005674, '有期徒刑': 0.24844971, '高等': 0.019260101, '臺': 0.13268411, '中': 0.06684701, '院': 0.02059358, '上': 0.044759147, '確定': 0.14192514, '真實': 0.22802193, '姓名': 0.1665453, '籍': 0.1724526, '不': 0.06680078, '詳': 0.15578593, '綽': 0.20556319, '年': 0.12541798, '女子': 0.18218562, '明': 0.1487738, '知': 0.23481369, '表': 0.011119336, '外籍': 0.19408923, '麗': 0.15711048, '娜': 0.24559414, '工作': 0.16217634, '無': 0.17202279, '結婚': 0.23072706, '真': 0.11060034, '意': 0.12605956, '負責': 0.16488542, '居': 0.11713222, '介紹': 0.052577607, '戊': 0.16554372, '擔任': 0.11732267, '人': 0.022937067, '頭': 0.1633352, '渠': 0.20324317, '實': 0.16226253, '公務員': 0.26357055, '登': 0.07056998, '載': 0.19307354, '職務': 0.16795044, '掌': 0.145155, '公': 0.06380768, '文書': 0.23115435, '概括': 0.064371645, '犯': 0.12350308, '聯絡': 0.10001547, '丙': 0.058131956, '支付': 0.17381959, '出國': 0.12985411, '辦理': 0.07686382, '機票': 0.15750442, '住宿': 0.11812387, '費用': 0.10275748, '提供': 0.036001258, '零': 0.047531173, '用': 0.05866151, '安排': 0.029672243, '所示': 0.010708563, '時間': 0.0609449, '旺': 0.19109, '施': 0.18310262, '女': 0.07108916, '註冊': 0.123068705, '證': 0.16044936, '於': 0.009423286, '附': 0.010563467, '開': 0.009672068, '書': 0.010425791, '前往': 0.0071174093, '我國': 0.0034668148, '駐': 0.08244443, '外': 0.009764828, '單位': 0.040468477, '返': 0.040232874, '台': 0.11279782, '後': 0.009643361, '陪同': 0.0052071363, '下': 0.009584852, '相關': 0.009863816, '資料': 0.010135286, '政': 0.009784363, '知情': 0.13373895, '該': 0.007911041, '承': 0.015709937, '辦': 0.005372271, '所': 0.009402171, '性質': 0.006387681, '電腦': 0.060619656, '管理': 0.14812967, '檔案': 0.052853063, '足以': 0.0049191415, '生': 0.008196741, '損害': 0.104907885, '戶': 0.051495403, '正確': 0.09738835, '偽': 0.19475415, '造': 0.10955511, '行': 0.05414457, '署': 0.0041326173, '檢察': 0.011611607, '職': 0.13176543, '權': 0.006464638, '不起': 0.15159604, '訴': 0.1306777, '分': 0.075108275}, {'被告': 0.19123712, '明': 0.16420662, '知': 0.20929807, '陳': 0.19012088, '丙': 0.16909918, '丁': 0.1980103, '死亡': 0.19223055, '後': 0.08842344, '遺產': 0.25592288, '屬': 0.13441613, '全體': 0.14398602, '繼': 0.15069549, '承': 0.13303575, '人': 0.0002448596, '公': 0.05621963, '同': 0.081180446, '共有': 0.15513866, '罔': 0.09661555, '顧': 0.08874908, '權益': 0.18796138, '利用': 0.18560243, '不': 0.07642998, '知情': 0.20204023, '成': 0.10885896, '年': 0.09497138, '男子': 0.13399322, '冒': 0.18844548, '用': 0.20842461, '名': 0.090991236, '義': 0.012019955, '盜': 0.19422765, '領': 0.2192667, '存款': 0.22872284, '損': 0.09062577, '及': 0.0756389, '合': 0.07230989, '庫': 0.1776666, '銀行': 0.15843739, '帳戶': 0.20587549, '管理': 0.14663544, '正確': 0.086937435, '實': 0.061318077, '有': 0.03687784, '該': 0.03976787, '念': 0.07295503, '前': 0.06545101, '無': 0.06840145, '犯罪': 0.14735284, '科': 0.10838206, '刑': 0.12749365, '紀錄': 0.12082219, '臺灣': 0.10760296, '高等': 0.0073461346, '法院': 0.11160391, '案': 0.042035073, '表': 0.03147984, '在': 0.019804295, '稽': 0.005051635, '素': 0.02948089, '良好': 0.064563885, '考量': 0.065919735, '坦': 0.059438344, '犯': 0.118158475, '行': 0.07292126, '對': 0.018456768, '告訴': 0.09693369, '部分': 0.07219917, '賠償': 0.19510001, '述': 0.0071573406, '態度': 0.1246686, '兼': 0.031418145, '衡': 0.12868853, '國中': 0.16986306, '畢業': 0.1801992, '教育': 0.16561191, '程度': 0.028280783, '為': 0.015799811, '越南': 0.2121196, '國': 0.09959589, '籍': 0.16784143, '因': 0.033863064, '我國': 0.072538346, '結婚': 0.17636293, '取得': 0.070058495, '家庭': 0.029668016, '狀況': 0.040548965, '動': 0.13787845, '機': 0.09876723, '目的': 0.06885526, '手段': 0.092451975, '情': 0.017753012, '狀': 0.01763295, '量': 0.0315235, '所示': 0.009310126, '諭': 0.08144206, '易': 0.16968235, '罰': 0.21608861, '金': 0.14327689, '折': 0.08018093, '算': 0.093232654, '標準': 0.12463422}, {'嗣': 0.2098883, '': 0.039489396, '間': 0.25988713, '死亡': 0.21093264, '辦理': 0.13638985, '繼': 0.17052867, '承': 0.095529824, '登記': 0.17074503, '前': 0.03512734, '濰': 0.29159313, '表示': 0.06393148, '願': 0.118819505, '給付': 0.19626, '二人': 0.16415551, '萬元': 0.22929648, '系': 0.14533223, '爭': 0.23364514, '不動產': 0.22370909, '人': 0.03468339, '單': 0.05837956, '獨': 0.13855103, '要求': 0.09408301, '應': 0.019285463, '先': 0.07302148, '將': 0.027770713, '設定': 0.154252, '抵押': 0.20479898, '權': 0.12098023, '予': 0.041958958, '擔': 0.12880519, '保': 0.034947056, '日': 0.034605373, '後': 0.034530263, '分割': 0.19117992, '遺產': 0.19112831, '取得': 0.04508438, '債': 0.14365745, '欲': 0.09028804, '銀行': 0.14750233, '借款': 0.19358285, '已': 0.032020852, '第一': 0.08438097, '順': 0.1126464, '位': 0.03492572, '遭': 0.0068816133, '評估': 0.15556668, '不足': 0.12974578, '清': 0.07143738, '償': 0.19079229, '得': 0.03488083, '同意': 0.052259184, '塗': 0.1753701, '銷': 0.17518353, '於': 0.033833705, '偕': 0.0376217, '同': 0.034784798, '代': 0.03460749, '書': 0.034832638, '林': 0.08568694, '淑': 0.15579501, '前往': 0.07095012, '臺中市': 0.10876326, '地': 0.09920363, '政': 0.11939794, '事務': 0.043237127, '下': 0.034873612, '稱': 0.1365157, '交付': 0.12883388, '面': 0.034877934, '額': 0.03525447, '支': 0.07713687, '票': 0.19089317, '未': 0.10032472, '簽': 0.074726075, '發': 0.03507127, '本': 0.08141115, '張': 0.1301264, '作為': 0.034673795, '承諾': 0.013271831, '撥': 0.01628238, '款': 0.034981288, '開': 0.04112254, '部分': 0.0019051582, '債務': 0.18350923, '置': 0.044254407, '若': 0.03451958, '罔': 0.098059796, '聞': 0.034761988, '重新': 0.069005795, '俟': 0.0037165284, '泓': 0.13856256, '維': 0.16850293, '持': 0.0026094317, '法院': 0.13720077, '聲': 0.034853633, '請': 0.034930088, '強制': 0.13739341, '執行': 0.097200945, '明': 0.016261596, '知': 0.026237294, '係': 0.026741598, '上': 0.034555826, '協議': 0.056770187, '無': 0.09459996, '詐欺': 0.18578461, '情': 0.0053106323, '事': 0.03492614, '意': 0.034736916, '圖': 0.034204505, '受': 0.03262906, '刑': 0.20189634, '追': 0.0912772, '訴': 0.03425628, '時': 0.034702905, '分': 0.033909805, '許': 0.034637, '臺灣': 0.028944604, '中': 0.034724377, '地方': 0.014796544, '檢察': 0.06809318, '署': 0.0347874, '臺': 0.010993235, '檢': 0.0085847005, '申': 0.013370112, '告': 0.034896232, '提出': 0.033708103, '告訴': 0.16635926, '扭': 0.108860984, '曲': 0.034871653, '事實': 0.028609958, '以': 0.033502642, '被告': 0.13502291, '母親': 0.18256788, '隱': 0.11291091, '瞞': 0.034925595, '自': 0.03459137, '遺': 0.0992925, '囑': 0.03502146, '始': 0.034684084, '寄': 0.033416048, '給': 0.03493019, '詐': 0.18191959, '先前': 0.054225415, '需': 0.027270576, '過': 0.026567124, '戶': 0.050586894, '惟': 0.007290505, '認為': 0.032689884, '只': 0.035179988, '分配': 0.1762245, '拒絕': 0.20183435, '請求': 0.022749536, '雙方': 0.026846375, '支付': 0.1514645, '交': 0.034697928, '收': 0.019739024, '執': 0.023601906, '完成': 0.001600191, '退': 0.08880347, '還': 0.034945413, '慫': 0.10442427, '恿': 0.049098767, '妻': 0.08103508, '外': 0.064133324, '欣': 0.19441736, '倫': 0.14246736, '改': 0.15363775, '名': 0.067149766, '離婚': 0.23228104, '所有': 0.030965112, '完': 0.03523293, '畢': 0.03522311, '之後': 0.003726028, '復': 0.13807689, '婚': 0.20619228, '到': 0.034154095, '不': 0.034828175, '疑': 0.02510941, '共同': 0.024317041, '潭': 0.095860176, '子': 0.069815665, '事務所': 0.0647119, '兩': 0.0551354, '相關': 0.009589426, '再次': 0.060796916, '結婚': 0.112618454}]\n",
            "0.8052082733747739\n",
            "0.4058677474081378\n"
          ]
        }
      ]
    },
    {
      "cell_type": "code",
      "source": [
        "lexical_scores1 = model.compute_lexical_matching_score(output_1['lexical_weights'][0], output_2['lexical_weights'][0])\n",
        "lexical_scores2 = model.compute_lexical_matching_score(output_1['lexical_weights'][0], output_2['lexical_weights'][1])\n",
        "lexical_scores3 = model.compute_lexical_matching_score(output_1['lexical_weights'][0], output_2['lexical_weights'][2])\n",
        "\n",
        "lexical_scores4 = model.compute_lexical_matching_score(output_1['lexical_weights'][1], output_2['lexical_weights'][0])\n",
        "lexical_scores5 = model.compute_lexical_matching_score(output_1['lexical_weights'][1], output_2['lexical_weights'][1])\n",
        "lexical_scores6 = model.compute_lexical_matching_score(output_1['lexical_weights'][1], output_2['lexical_weights'][2])\n",
        "\n",
        "lexical_scores7 = model.compute_lexical_matching_score(output_1['lexical_weights'][2], output_2['lexical_weights'][0])\n",
        "lexical_scores8 = model.compute_lexical_matching_score(output_1['lexical_weights'][2], output_2['lexical_weights'][1])\n",
        "lexical_scores9 = model.compute_lexical_matching_score(output_1['lexical_weights'][2], output_2['lexical_weights'][2])\n",
        "\n",
        "print(f'{lexical_scores1} {lexical_scores2} {lexical_scores3}')\n",
        "print(f'{lexical_scores4} {lexical_scores5} {lexical_scores6}')\n",
        "print(f'{lexical_scores7} {lexical_scores8} {lexical_scores9}')"
      ],
      "metadata": {
        "colab": {
          "base_uri": "https://localhost:8080/"
        },
        "id": "s2dqZ7mwQTQC",
        "outputId": "bad48bca-dfd0-49d0-d4ec-c2362aff8d19"
      },
      "execution_count": 90,
      "outputs": [
        {
          "output_type": "stream",
          "name": "stdout",
          "text": [
            "0.8052082733747739 0.3592659393834765 0.1626352117418719\n",
            "0.3098407103084355 0.49542216573991027 0.3589866917955078\n",
            "0.3123540516862704 0.3545336989554926 1.8461087157593283\n"
          ]
        }
      ]
    },
    {
      "cell_type": "code",
      "source": [
        "output_1 = model.encode(cc_tokenized_sample_3, return_dense=True, return_sparse=True, return_colbert_vecs=False)\n",
        "output_2 = model.encode(cc_tokenized_sample_4, return_dense=True, return_sparse=True, return_colbert_vecs=False)\n",
        "\n",
        "print(model.convert_id_to_token(output_1['lexical_weights']))\n",
        "\n",
        "# compute the scores via lexical mathcing\n",
        "lexical_scores = model.compute_lexical_matching_score(output_1['lexical_weights'][0], output_2['lexical_weights'][0])\n",
        "print(lexical_scores)\n",
        "\n",
        "print(model.compute_lexical_matching_score(output_1['lexical_weights'][0], output_1['lexical_weights'][1]))"
      ],
      "metadata": {
        "colab": {
          "base_uri": "https://localhost:8080/"
        },
        "id": "p-07szahQWQP",
        "outputId": "1242b7ba-e8bc-4e33-e448-173aade6c47b"
      },
      "execution_count": 93,
      "outputs": [
        {
          "output_type": "stream",
          "name": "stdout",
          "text": [
            "[{'与': 0.19463667, '经营': 0.25164324, '金': 0.20276935, '人力': 0.18788807, '仲介': 0.221133, '有限公司': 0.17720011, '官': 0.18080811, '威': 0.2193365, '成': 0.17285642, '涉': 0.13828039, '违反': 0.23833296, '就业': 0.22129744, '服务': 0.21554843, '法': 0.17030583, '': 0.03417991, '案件': 0.16019544, '分别': 0.059859477, '经': 0.021375611, '南投': 0.16903314, '地方': 0.022856288, '法院': 0.16138215, '年度': 0.117794536, '易': 0.15559456, '字': 0.03466467, '号': 0.064973645, '判': 0.17420346, '处': 0.15890427, '有期徒刑': 0.27331036, '高等': 0.06475803, '台中': 0.13897598, '分': 0.057719506, '院': 0.027844079, '上': 0.021218225, '确定': 0.19514719, '真实': 0.24822325, '姓名': 0.19814737, '年': 0.15161157, '籍': 0.15664369, '不': 0.109375834, '详': 0.14572164, '绰': 0.15270476, '女子': 0.1964624, '明': 0.1749071, '知': 0.21874839, '附': 0.04485316, '表': 0.021830041, '所示': 0.028266847, '外籍': 0.24199468, '人': 0.065838166, '仅': 0.084658995, '为': 0.021461494, '来': 0.14258012, '台': 0.23128657, '工作': 0.15168023, '无': 0.19748618, '结婚': 0.24578516, '真': 0.13866232, '意': 0.15728973, '负责': 0.22436848, '居': 0.12676808, '中': 0.019477375, '介绍': 0.040526293, '戊': 0.21889417, '担任': 0.13823655, '头': 0.17292194, '渠': 0.19782263, '共同': 0.053639814, '基于': 0.05438047, '实': 0.20184284, '事项': 0.086381316, '使': 0.021334425, '公务员': 0.26231644, '登': 0.114935294, '载': 0.20443273, '于': 0.021342307, '职务': 0.20989403, '掌': 0.19541201, '公': 0.12092598, '文': 0.1652024, '书': 0.15554553, '概括': 0.07247287, '犯': 0.11462021, '联络': 0.14360176, '丙': 0.10136387, '乙': 0.07926782, '支付': 0.15685335, '出': 0.02121254, '国': 0.13226889, '办理': 0.073230095, '机票': 0.1665099, '住宿': 0.09750655, '费用': 0.11717704, '提供': 0.1318216, '零': 0.07048999, '用': 0.0687251, '安排': 0.0851892, '时间': 0.06546539, '旺': 0.22167242, '施': 0.19567299, '女': 0.15535013, '注册': 0.09974507, '证明': 0.113871254, '持': 0.01989074, '开': 0.02103329, '前往': 0.054838434, '我国': 0.022706568, '驻': 0.11940253, '外': 0.021534096, '单位': 0.035568446, '证': 0.17453846, '返': 0.11729003, '后': 0.02091356, '陪同': 0.076856986, '下': 0.021232836, '相关': 0.021391131, '资料': 0.021453124, '政': 0.05383371, '事务': 0.00556875, '登记': 0.005178906, '知情': 0.16163561, '该': 0.021307848, '所': 0.049299426, '承': 0.032545887, '办': 0.0016560778, '性质': 0.00054559857, '电脑': 0.097483374, '档案': 0.017837182, '内': 0.021223366, '足以': 0.0042548105, '生': 0.021196749, '损害': 0.11321671, '户籍': 0.05896125, '管理': 0.027481802, '正确': 0.014172018, '性': 0.021235332, '伪': 0.20998743, '造': 0.02148508, '行': 0.08249378, '署': 0.014909066, '检察': 0.014123969, '侦': 0.010134324, '职': 0.1111046, '权': 0.1301322, '起诉': 0.11770264}, {'被告': 0.17245173, '明': 0.14608553, '知': 0.19680727, '丙': 0.17923932, '丁': 0.24527839, '死亡': 0.19166088, '后': 0.07736939, '遗产': 0.23384309, '属': 0.12770462, '全体': 0.10568099, '继承': 0.17911455, '人': 0.023459606, '公': 0.014905136, '同': 0.057427924, '共有': 0.13566095, '罔': 0.06269554, '顾': 0.07030327, '权益': 0.1654631, '利用': 0.17648424, '不': 0.04106681, '知情': 0.18979196, '成': 0.093543425, '年': 0.08773857, '男子': 0.13280466, '冒': 0.16788799, '用': 0.1618952, '名义': 0.1893221, '盗': 0.17910518, '领': 0.18713821, '存款': 0.21416903, '损': 0.11671635, '及': 0.0027198344, '合': 0.053694807, '库': 0.16481918, '银行': 0.17173904, '帐': 0.09784694, '户': 0.11029262, '管理': 0.11781129, '正确': 0.07075147, '实': 0.071670175, '有': 0.09838035, '该': 0.110691026, '惟': 0.03457029, '念': 0.06112309, '前': 0.027415976, '无': 0.09469364, '犯罪': 0.16254385, '科': 0.017424583, '刑': 0.12644212, '纪录': 0.11490023, '法院': 0.09649831, '案': 0.07907855, '表': 0.022424504, '行': 0.01958108, '良好': 0.051439036, '考量': 0.05586028, '坦': 0.0131963715, '承': 0.010265332, '犯': 0.07646817, '告诉': 0.05874856, '部分': 0.039883822, '赔偿': 0.14447148, '态度': 0.049921215, '衡': 0.05170443, '中': 0.030959152, '毕业': 0.14045027, '教育': 0.11619259, '程度': 0.023109699, '越南': 0.20644614, '国籍': 0.12633452, '与': 0.047857717, '我国': 0.07744716, '结婚': 0.192726, '取得': 0.050753094, '家庭': 0.016105805, '状况': 0.02178245, '动': 0.08394098, '机': 0.085853115, '目的': 0.035704404, '手段': 0.052722573, '状': 0.02911584, '量': 0.02153717, '所示': 0.0068529695, '谕': 0.07725939, '罚': 0.22329062, '金': 0.16322058, '折': 0.07451524, '算': 0.116052434, '标准': 0.11315841}, {'': 0.04840299, '嗣': 0.2022647, '于': 0.21648765, '间': 0.21901585, '死亡': 0.20533513, '办理': 0.17224887, '继承': 0.2103767, '登记': 0.23226994, '前': 0.13464573, '表示': 0.15748528, '愿': 0.15749305, '给': 0.13661638, '付': 0.1465017, '二人': 0.16764212, '万元': 0.23575822, '将': 0.045758523, '系': 0.14689791, '争': 0.21814416, '不动': 0.11270653, '产': 0.110321485, '人': 0.031177811, '单独': 0.1384122, '要求': 0.12702215, '应': 0.036237627, '先': 0.087243415, '设定': 0.15498054, '抵押': 0.20431963, '权': 0.116865575, '予': 0.03922999, '担保': 0.17318173, '日': 0.02576831, '后': 0.03075013, '分割': 0.19942194, '遗产': 0.22264566, '取得': 0.030992094, '债': 0.1636742, '欲': 0.10166479, '银行': 0.12854174, '借款': 0.14357582, '已': 0.022262368, '第一': 0.060571823, '顺': 0.076543294, '位': 0.031154856, '遭': 0.030587379, '评估': 0.12596518, '不足': 0.14578514, '清': 0.06965965, '偿': 0.17635399, '并': 0.03073775, '得': 0.031283174, '同意': 0.07830105, '涂': 0.14024585, '销': 0.1930597, '偕': 0.06261262, '同': 0.030098628, '代': 0.028144918, '书': 0.030799445, '林': 0.05393412, '淑': 0.11653099, '前往': 0.07786555, '地': 0.070953384, '政': 0.10565741, '事务': 0.057122722, '下': 0.031130701, '称': 0.16443998, '当': 0.006235838, '场': 0.031225279, '交付': 0.1162064, '面': 0.031495556, '额': 0.03147309, '支': 0.015321791, '票': 0.17970428, '至于': 0.0028683096, '未': 0.09938644, '签': 0.06892185, '发': 0.031469878, '本': 0.06860745, '作为': 0.03169105, '承诺': 0.08181608, '拨': 0.011975154, '款': 0.031065367, '会': 0.025714219, '开': 0.095151335, '部分': 0.0033082478, '债务': 0.1797808, '置': 0.022572227, '若': 0.030604035, '罔': 0.07908631, '闻': 0.031116318, '重新': 0.052721165, '俟': 0.014093488, '泓': 0.10829242, '维': 0.18584967, '让': 0.06147028, '与': 0.029910099, '持': 0.080852814, '法院': 0.15806478, '声': 0.030611712, '请': 0.02997915, '强制': 0.15212628, '执行': 0.14351586, '明': 0.048021875, '知': 0.098514944, '基于': 0.025045946, '上': 0.02892223, '协议': 0.022265792, '无': 0.03942258, '诈': 0.15647703, '欺': 0.12130433, '情': 0.020172581, '事': 0.031365167, '意': 0.031189386, '图': 0.031374857, '使': 0.011583164, '受': 0.029623132, '刑': 0.19007568, '追': 0.051081117, '诉': 0.079580694, '时': 0.029613357, '分': 0.03104505, '许': 0.0313054, '台中': 0.09949307, '地方': 0.025015693, '检察': 0.08508596, '署': 0.056981236, '检': 0.081543006, '申': 0.023029044, '告': 0.030994289, '对': 0.027049165, '提出': 0.038764, '告诉': 0.13199966, '扭': 0.09085738, '曲': 0.031325996, '事实': 0.080271244, '略': 0.0035507828, '以': 0.0309158, '被告': 0.14438307, '母亲': 0.16003326, '隐': 0.08120164, '瞒': 0.031180233, '自': 0.030929342, '遗': 0.08315158, '嘱': 0.12301097, '始': 0.030434873, '寄': 0.014088832, '该': 0.030969083, '先前': 0.055877402, '需': 0.016018074, '户': 0.08620915, '惟': 0.0020648837, '认为': 0.013142627, '只': 0.013596438, '分配': 0.16876392, '拒绝': 0.18566418, '请求': 0.05498778, '最后': 0.01402007, '双方': 0.08712248, '支付': 0.19029114, '张': 0.031236846, '交': 0.031242784, '收': 0.01210542, '执': 0.02377722, '过': 0.029993717, '完成': 0.026601076, '退': 0.09794008, '还': 0.10066148, '怂': 0.1410114, '恿': 0.08845942, '其': 0.030067824, '妻': 0.10372318, '外': 0.13101952, '改': 0.12187567, '名': 0.01219476, '离婚': 0.195332, '所有': 0.032508843, '完': 0.031316195, '毕': 0.031054944, '之后': 0.0039715096, '复': 0.13995399, '婚': 0.1918341, '到': 0.024973318, '不': 0.029875472, '疑': 0.03944637, '共同': 0.035296462, '潭': 0.13531499, '子': 0.09507063, '区': 0.0030876733, '两': 0.024089426, '再次': 0.035916194, '结婚': 0.10217575}]\n",
            "1.0643429195642966\n",
            "0.3263810151256621\n"
          ]
        }
      ]
    },
    {
      "cell_type": "code",
      "source": [
        "lexical_scores1 = model.compute_lexical_matching_score(output_1['lexical_weights'][0], output_2['lexical_weights'][0])\n",
        "lexical_scores2 = model.compute_lexical_matching_score(output_1['lexical_weights'][0], output_2['lexical_weights'][1])\n",
        "lexical_scores3 = model.compute_lexical_matching_score(output_1['lexical_weights'][0], output_2['lexical_weights'][2])\n",
        "\n",
        "lexical_scores4 = model.compute_lexical_matching_score(output_1['lexical_weights'][1], output_2['lexical_weights'][0])\n",
        "lexical_scores5 = model.compute_lexical_matching_score(output_1['lexical_weights'][1], output_2['lexical_weights'][1])\n",
        "lexical_scores6 = model.compute_lexical_matching_score(output_1['lexical_weights'][1], output_2['lexical_weights'][2])\n",
        "\n",
        "lexical_scores7 = model.compute_lexical_matching_score(output_1['lexical_weights'][2], output_2['lexical_weights'][0])\n",
        "lexical_scores8 = model.compute_lexical_matching_score(output_1['lexical_weights'][2], output_2['lexical_weights'][1])\n",
        "lexical_scores9 = model.compute_lexical_matching_score(output_1['lexical_weights'][2], output_2['lexical_weights'][2])\n",
        "\n",
        "print(f'{lexical_scores1} {lexical_scores2} {lexical_scores3}')\n",
        "print(f'{lexical_scores4} {lexical_scores5} {lexical_scores6}')\n",
        "print(f'{lexical_scores7} {lexical_scores8} {lexical_scores9}')"
      ],
      "metadata": {
        "colab": {
          "base_uri": "https://localhost:8080/"
        },
        "id": "DlFdqQ7-QXhC",
        "outputId": "1ef938ee-5a16-4b70-c5db-18c9f5415104"
      },
      "execution_count": 94,
      "outputs": [
        {
          "output_type": "stream",
          "name": "stdout",
          "text": [
            "1.0643429195642966 0.2776009238077677 0.2348859452904435\n",
            "0.29742844013526337 0.4435920581781829 0.3631424810446333\n",
            "0.39091309281866415 0.33642640582365857 1.7690151336173585\n"
          ]
        }
      ]
    },
    {
      "cell_type": "markdown",
      "source": [
        "## colbert"
      ],
      "metadata": {
        "id": "TWsYjgmW5Hw4"
      }
    },
    {
      "cell_type": "code",
      "source": [
        "output_1 = model.encode(sentences_1, return_dense=True, return_sparse=True, return_colbert_vecs=True)\n",
        "output_2 = model.encode(sentences_2, return_dense=True, return_sparse=True, return_colbert_vecs=True)\n",
        "\n",
        "print(model.colbert_score(output_1['colbert_vecs'][0], output_2['colbert_vecs'][0]))\n",
        "print(model.colbert_score(output_1['colbert_vecs'][0], output_2['colbert_vecs'][1]))"
      ],
      "metadata": {
        "colab": {
          "base_uri": "https://localhost:8080/"
        },
        "id": "HFq2LBLc5KPO",
        "outputId": "df65061e-55f9-49e0-bd23-f00a1d2ac92d"
      },
      "execution_count": 41,
      "outputs": [
        {
          "output_type": "stream",
          "name": "stdout",
          "text": [
            "tensor(0.7797)\n",
            "tensor(0.4621)\n"
          ]
        }
      ]
    },
    {
      "cell_type": "code",
      "source": [
        "output_1 = model.encode(tword_1, return_dense=True, return_sparse=True, return_colbert_vecs=True)\n",
        "output_2 = model.encode(tword_2, return_dense=True, return_sparse=True, return_colbert_vecs=True)\n",
        "\n",
        "print(model.colbert_score(output_1['colbert_vecs'][0], output_2['colbert_vecs'][0]))\n",
        "print(model.colbert_score(output_1['colbert_vecs'][0], output_2['colbert_vecs'][1]))\n",
        "print(model.colbert_score(output_1['colbert_vecs'][1], output_2['colbert_vecs'][0]))\n",
        "print(model.colbert_score(output_1['colbert_vecs'][1], output_2['colbert_vecs'][1]))"
      ],
      "metadata": {
        "colab": {
          "base_uri": "https://localhost:8080/"
        },
        "id": "j1Ecvp775OzY",
        "outputId": "e8aae9a2-3139-4ab7-e04d-fe654ee328db"
      },
      "execution_count": 42,
      "outputs": [
        {
          "output_type": "stream",
          "name": "stdout",
          "text": [
            "tensor(0.9023)\n",
            "tensor(0.5454)\n",
            "tensor(0.5274)\n",
            "tensor(0.6968)\n"
          ]
        }
      ]
    },
    {
      "cell_type": "code",
      "source": [
        "output_1 = model.encode(sword_1, return_dense=True, return_sparse=True, return_colbert_vecs=True)\n",
        "output_2 = model.encode(sword_2, return_dense=True, return_sparse=True, return_colbert_vecs=True)\n",
        "\n",
        "print(model.colbert_score(output_1['colbert_vecs'][0], output_2['colbert_vecs'][0]))\n",
        "print(model.colbert_score(output_1['colbert_vecs'][0], output_2['colbert_vecs'][1]))\n",
        "print(model.colbert_score(output_1['colbert_vecs'][1], output_2['colbert_vecs'][0]))\n",
        "print(model.colbert_score(output_1['colbert_vecs'][1], output_2['colbert_vecs'][1]))"
      ],
      "metadata": {
        "colab": {
          "base_uri": "https://localhost:8080/"
        },
        "id": "i-OL8Pmb5S5v",
        "outputId": "dd69a62e-b4fb-4f07-bc23-3b8951060598"
      },
      "execution_count": 43,
      "outputs": [
        {
          "output_type": "stream",
          "name": "stdout",
          "text": [
            "tensor(0.8653)\n",
            "tensor(0.5597)\n",
            "tensor(0.5299)\n",
            "tensor(0.7482)\n"
          ]
        }
      ]
    },
    {
      "cell_type": "markdown",
      "source": [
        "### 斷詞、去除人名地名 測試"
      ],
      "metadata": {
        "id": "9vRVs2gYdSm6"
      }
    },
    {
      "cell_type": "markdown",
      "source": [
        "#### sample 1 vs. sample 2\n",
        "有做斷詞 ＆ 去除人名地名 效果最好"
      ],
      "metadata": {
        "id": "Vl0iPtzzdZfk"
      }
    },
    {
      "cell_type": "code",
      "source": [
        "output_1 = model.encode(sample_1, return_dense=True, return_sparse=True, return_colbert_vecs=True)\n",
        "output_2 = model.encode(sample_2, return_dense=True, return_sparse=True, return_colbert_vecs=True)\n",
        "\n",
        "print(model.colbert_score(output_1['colbert_vecs'][0], output_2['colbert_vecs'][0]),end='')\n",
        "print(model.colbert_score(output_1['colbert_vecs'][0], output_2['colbert_vecs'][1]))\n",
        "print(model.colbert_score(output_1['colbert_vecs'][1], output_2['colbert_vecs'][0]),end='')\n",
        "print(model.colbert_score(output_1['colbert_vecs'][1], output_2['colbert_vecs'][1]))"
      ],
      "metadata": {
        "colab": {
          "base_uri": "https://localhost:8080/"
        },
        "id": "Jc4tA8OZ5a7u",
        "outputId": "2f33e455-a359-4459-8e55-17fe520e2c7b"
      },
      "execution_count": 98,
      "outputs": [
        {
          "output_type": "stream",
          "name": "stdout",
          "text": [
            "tensor(0.6411)tensor(0.4766)\n",
            "tensor(0.5150)tensor(0.6277)\n"
          ]
        }
      ]
    },
    {
      "cell_type": "code",
      "source": [
        "output_1 = model.encode(tokenized_sample_1, return_dense=True, return_sparse=True, return_colbert_vecs=True)\n",
        "output_2 = model.encode(tokenized_sample_2, return_dense=True, return_sparse=True, return_colbert_vecs=True)\n",
        "\n",
        "print(model.colbert_score(output_1['colbert_vecs'][0], output_2['colbert_vecs'][0]),end='')\n",
        "print(model.colbert_score(output_1['colbert_vecs'][0], output_2['colbert_vecs'][1]))\n",
        "print(model.colbert_score(output_1['colbert_vecs'][1], output_2['colbert_vecs'][0]),end='')\n",
        "print(model.colbert_score(output_1['colbert_vecs'][1], output_2['colbert_vecs'][1]))"
      ],
      "metadata": {
        "colab": {
          "base_uri": "https://localhost:8080/"
        },
        "id": "jDl4u-2_5e6F",
        "outputId": "25352169-5227-43f7-e3ef-11e22f474b97"
      },
      "execution_count": 96,
      "outputs": [
        {
          "output_type": "stream",
          "name": "stdout",
          "text": [
            "tensor(0.6758)tensor(0.5400)\n",
            "tensor(0.5783)tensor(0.6691)\n"
          ]
        }
      ]
    },
    {
      "cell_type": "code",
      "source": [
        "output_1 = model.encode(cc_tokenized_sample_1, return_dense=True, return_sparse=True, return_colbert_vecs=True)\n",
        "output_2 = model.encode(cc_tokenized_sample_2, return_dense=True, return_sparse=True, return_colbert_vecs=True)\n",
        "\n",
        "print(model.colbert_score(output_1['colbert_vecs'][0], output_2['colbert_vecs'][0]),end='')\n",
        "print(model.colbert_score(output_1['colbert_vecs'][0], output_2['colbert_vecs'][1]))\n",
        "print(model.colbert_score(output_1['colbert_vecs'][1], output_2['colbert_vecs'][0]),end='')\n",
        "print(model.colbert_score(output_1['colbert_vecs'][1], output_2['colbert_vecs'][1]))"
      ],
      "metadata": {
        "colab": {
          "base_uri": "https://localhost:8080/"
        },
        "id": "qoHinC3R5jj_",
        "outputId": "7279072f-a114-4772-93aa-74ffb7320355"
      },
      "execution_count": 97,
      "outputs": [
        {
          "output_type": "stream",
          "name": "stdout",
          "text": [
            "tensor(0.7378)tensor(0.5653)\n",
            "tensor(0.6035)tensor(0.6920)\n"
          ]
        }
      ]
    },
    {
      "cell_type": "markdown",
      "source": [
        "#### sample 3 vs. sample 4\n",
        "有做斷詞 ＆ 去除人名地名 效果最好"
      ],
      "metadata": {
        "id": "HTECJiiydj0e"
      }
    },
    {
      "cell_type": "code",
      "source": [
        "output_1 = model.encode(sample_3, return_dense=True, return_sparse=True, return_colbert_vecs=True)\n",
        "output_2 = model.encode(sample_4, return_dense=True, return_sparse=True, return_colbert_vecs=True)\n",
        "\n",
        "print(model.colbert_score(output_1['colbert_vecs'][0], output_2['colbert_vecs'][0]),end='')\n",
        "print(model.colbert_score(output_1['colbert_vecs'][0], output_2['colbert_vecs'][1]),end='')\n",
        "print(model.colbert_score(output_1['colbert_vecs'][0], output_2['colbert_vecs'][2]))\n",
        "print(model.colbert_score(output_1['colbert_vecs'][1], output_2['colbert_vecs'][0]),end='')\n",
        "print(model.colbert_score(output_1['colbert_vecs'][1], output_2['colbert_vecs'][1]),end='')\n",
        "print(model.colbert_score(output_1['colbert_vecs'][1], output_2['colbert_vecs'][2]))\n",
        "print(model.colbert_score(output_1['colbert_vecs'][2], output_2['colbert_vecs'][0]),end='')\n",
        "print(model.colbert_score(output_1['colbert_vecs'][2], output_2['colbert_vecs'][1]),end='')\n",
        "print(model.colbert_score(output_1['colbert_vecs'][2], output_2['colbert_vecs'][2]))"
      ],
      "metadata": {
        "colab": {
          "base_uri": "https://localhost:8080/"
        },
        "id": "UL0d0S39Smao",
        "outputId": "96196208-3a0b-41ad-b3b7-3a8db2e26736"
      },
      "execution_count": 99,
      "outputs": [
        {
          "output_type": "stream",
          "name": "stdout",
          "text": [
            "tensor(0.7163)tensor(0.5707)tensor(0.6366)\n",
            "tensor(0.5765)tensor(0.6438)tensor(0.6344)\n",
            "tensor(0.7152)tensor(0.7019)tensor(0.9423)\n"
          ]
        }
      ]
    },
    {
      "cell_type": "code",
      "source": [
        "output_1 = model.encode(tokenized_sample_3, return_dense=True, return_sparse=True, return_colbert_vecs=True)\n",
        "output_2 = model.encode(tokenized_sample_4, return_dense=True, return_sparse=True, return_colbert_vecs=True)\n",
        "\n",
        "print(model.colbert_score(output_1['colbert_vecs'][0], output_2['colbert_vecs'][0]),end='')\n",
        "print(model.colbert_score(output_1['colbert_vecs'][0], output_2['colbert_vecs'][1]),end='')\n",
        "print(model.colbert_score(output_1['colbert_vecs'][0], output_2['colbert_vecs'][2]))\n",
        "print(model.colbert_score(output_1['colbert_vecs'][1], output_2['colbert_vecs'][0]),end='')\n",
        "print(model.colbert_score(output_1['colbert_vecs'][1], output_2['colbert_vecs'][1]),end='')\n",
        "print(model.colbert_score(output_1['colbert_vecs'][1], output_2['colbert_vecs'][2]))\n",
        "print(model.colbert_score(output_1['colbert_vecs'][2], output_2['colbert_vecs'][0]),end='')\n",
        "print(model.colbert_score(output_1['colbert_vecs'][2], output_2['colbert_vecs'][1]),end='')\n",
        "print(model.colbert_score(output_1['colbert_vecs'][2], output_2['colbert_vecs'][2]))"
      ],
      "metadata": {
        "colab": {
          "base_uri": "https://localhost:8080/"
        },
        "id": "VOG1sbnpSowm",
        "outputId": "aeba8084-b729-4732-fbdd-59691a1be2df"
      },
      "execution_count": 100,
      "outputs": [
        {
          "output_type": "stream",
          "name": "stdout",
          "text": [
            "tensor(0.7733)tensor(0.6360)tensor(0.6807)\n",
            "tensor(0.5986)tensor(0.6798)tensor(0.6493)\n",
            "tensor(0.7025)tensor(0.7088)tensor(0.9388)\n"
          ]
        }
      ]
    },
    {
      "cell_type": "code",
      "source": [
        "output_1 = model.encode(cc_tokenized_sample_3, return_dense=True, return_sparse=True, return_colbert_vecs=True)\n",
        "output_2 = model.encode(cc_tokenized_sample_4, return_dense=True, return_sparse=True, return_colbert_vecs=True)\n",
        "\n",
        "print(model.colbert_score(output_1['colbert_vecs'][0], output_2['colbert_vecs'][0]),end='')\n",
        "print(model.colbert_score(output_1['colbert_vecs'][0], output_2['colbert_vecs'][1]),end='')\n",
        "print(model.colbert_score(output_1['colbert_vecs'][0], output_2['colbert_vecs'][2]))\n",
        "print(model.colbert_score(output_1['colbert_vecs'][1], output_2['colbert_vecs'][0]),end='')\n",
        "print(model.colbert_score(output_1['colbert_vecs'][1], output_2['colbert_vecs'][1]),end='')\n",
        "print(model.colbert_score(output_1['colbert_vecs'][1], output_2['colbert_vecs'][2]))\n",
        "print(model.colbert_score(output_1['colbert_vecs'][2], output_2['colbert_vecs'][0]),end='')\n",
        "print(model.colbert_score(output_1['colbert_vecs'][2], output_2['colbert_vecs'][1]),end='')\n",
        "print(model.colbert_score(output_1['colbert_vecs'][2], output_2['colbert_vecs'][2]))"
      ],
      "metadata": {
        "colab": {
          "base_uri": "https://localhost:8080/"
        },
        "id": "t_uGQ-5oTDX7",
        "outputId": "6018decb-15f3-45a4-b76c-7f918dd6d214"
      },
      "execution_count": 101,
      "outputs": [
        {
          "output_type": "stream",
          "name": "stdout",
          "text": [
            "tensor(0.7970)tensor(0.6328)tensor(0.6850)\n",
            "tensor(0.5972)tensor(0.7019)tensor(0.6748)\n",
            "tensor(0.6732)tensor(0.7316)tensor(0.9353)\n"
          ]
        }
      ]
    },
    {
      "cell_type": "markdown",
      "source": [
        "## dense vs. sparse vs. colbert"
      ],
      "metadata": {
        "id": "BvaAVTiHeSvg"
      }
    },
    {
      "cell_type": "markdown",
      "source": [
        "### sample 1 vs. sample 2\n",
        "#### dense\n",
        "  \n",
        "|          | sample 1 | sample 2 |\n",
        "| -------- | -------- | -------- |\n",
        "| sample 1 | 0.7014028| 0.51494694|\n",
        "| sample 2 | 0.46641925| 0.5667747|\n",
        "\n",
        "#### sparse\n",
        "\n",
        "|          | sample 1 | sample 2 |\n",
        "| -------- | -------- | -------- |\n",
        "| sample 1 | 0.5111280533892568| 0.1395197610836476|\n",
        "| sample 2 | 0.1275615413323976| 0.29369049098386313|\n",
        "\n",
        "#### colbert\n",
        "\n",
        "|          | sample 1 | sample 2 |\n",
        "| -------- | -------- | -------- |\n",
        "| sample 1 | 0.7378| 0.5653|\n",
        "| sample 2 | 0.6035| 0.6920|\n",
        "\n",
        "\n",
        "### sample 3 vs. sample 4\n",
        "\n",
        "#### dense\n",
        "\n",
        "|          | sample 1 | sample 2 | sample 3 |\n",
        "| -------- | -------- | -------- | -------- |\n",
        "| sample 1 | 0.73560154| 0.5143888| 0.57429796|\n",
        "| sample 2 | 0.54089767| 0.6892333| 0.66024125|\n",
        "| sample 3 | 0.57658803| 0.64016986| 0.9014207|\n",
        "\n",
        "#### sparse\n",
        "\n",
        "|          | sample 1 | sample 2 | sample 3 |\n",
        "| -------- | -------- | -------- | -------- |\n",
        "| sample 1 | 1.0643429195642966| 0.2776009238077677| 0.2348859452904435|\n",
        "| sample 2 | 0.29742844013526337| 0.4435920581781829| 0.3631424810446333|\n",
        "| sample 3 | 0.39091309281866415| 0.33642640582365857| 1.7690151336173585|\n",
        "\n",
        "#### colbert\n",
        "\n",
        "|          | sample 1 | sample 2 | sample 3 |\n",
        "| -------- | -------- | -------- | -------- |\n",
        "| sample 1 | 0.7970| 0.6328| 0.6850|\n",
        "| sample 2 | 0.5972| 0.7019| 0.6748|\n",
        "| sample 3 | 0.6732| 0.7316| 0.9353|"
      ],
      "metadata": {
        "id": "iyVHUVuHedA6"
      }
    },
    {
      "cell_type": "markdown",
      "source": [
        "## 結論\n",
        "三種方法都可以找出最相關的文章（最相關的文章之間的分數都是最高分），有做斷詞 ＆ 去除人名地名有可能會讓效果變好"
      ],
      "metadata": {
        "id": "e7TUao8Oha8Q"
      }
    }
  ]
}